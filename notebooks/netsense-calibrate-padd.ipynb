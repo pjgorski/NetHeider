{
 "cells": [
  {
   "cell_type": "code",
   "execution_count": 1,
   "metadata": {},
   "outputs": [
    {
     "data": {
      "text/plain": [
       "PyObject <function load_pickle at 0x7f8727a77b80>"
      ]
     },
     "metadata": {},
     "output_type": "display_data"
    }
   ],
   "source": [
    "using PyCall\n",
    "\n",
    "using DrWatson\n",
    "quickactivate(@__DIR__)\n",
    "\n",
    "py\"\"\"\n",
    "import pickle\n",
    " \n",
    "def load_pickle(fpath):\n",
    "    with open(fpath, \"rb\") as f:\n",
    "        data = pickle.load(f)\n",
    "    return data\n",
    "\"\"\"\n",
    "\n",
    "load_pickle = py\"load_pickle\""
   ]
  },
  {
   "cell_type": "code",
   "execution_count": 2,
   "metadata": {},
   "outputs": [
    {
     "data": {
      "text/plain": [
       "Dict{Any, Any} with 6 entries:\n",
       "  5 => PyObject <networkx.classes.graph.Graph object at 0x7f87195bfa00>\n",
       "  4 => PyObject <networkx.classes.graph.Graph object at 0x7f8719605dc0>\n",
       "  6 => PyObject <networkx.classes.graph.Graph object at 0x7f8719582d00>\n",
       "  2 => PyObject <networkx.classes.graph.Graph object at 0x7f8719682520>\n",
       "  3 => PyObject <networkx.classes.graph.Graph object at 0x7f87195ca160>\n",
       "  1 => PyObject <networkx.classes.graph.Graph object at 0x7f8727cd3970>"
      ]
     },
     "metadata": {},
     "output_type": "display_data"
    }
   ],
   "source": [
    "fname = datadir(\"exp_pro\", \"NetSense_network.pkl\")\n",
    "file = load_pickle(fname)"
   ]
  },
  {
   "cell_type": "code",
   "execution_count": 3,
   "metadata": {},
   "outputs": [
    {
     "data": {
      "text/plain": [
       "PyObject <function get_adjacency_matrix at 0x7f8719657b80>"
      ]
     },
     "metadata": {},
     "output_type": "display_data"
    }
   ],
   "source": [
    "py\"\"\"\n",
    "import networkx as nx\n",
    "def get_triads(net):\n",
    "    A = nx.adjacency_matrix(net).todense() \n",
    "\n",
    "    N = A.shape[0]\n",
    "\n",
    "    triads = []\n",
    "\n",
    "    for i in range(0,N):\n",
    "        for j in range(i+1,N):\n",
    "            if A[i,j] > 0:\n",
    "                for k in range(j+1,N):\n",
    "                    if A[i,k] > 0 and A[j,k] > 0:\n",
    "                        triads.append((i,j,k))\n",
    "    \n",
    "    return triads\n",
    "\n",
    "def get_adjacency_matrix(net, ordering = None):\n",
    "    return nx.adjacency_matrix(net, ordering).todense() \n",
    "\"\"\"\n",
    "\n",
    "function get_triads2(A)\n",
    "    \n",
    "\n",
    "    N = size(A)[1]\n",
    "\n",
    "    triads = []\n",
    "\n",
    "    for i in 1:N\n",
    "        for j in (i+1):N\n",
    "            if A[i,j] > 0\n",
    "                for k in (j+1):N\n",
    "                    if A[i,k] > 0 && A[j,k] > 0\n",
    "                        push!(triads, (i,j,k))\n",
    "                    end\n",
    "                end\n",
    "            end\n",
    "        end\n",
    "    end\n",
    "    \n",
    "    return triads\n",
    "end\n",
    "\n",
    "get_triads = py\"get_triads\"\n",
    "get_adjacency_matrix = py\"get_adjacency_matrix\""
   ]
  },
  {
   "cell_type": "code",
   "execution_count": 4,
   "metadata": {},
   "outputs": [
    {
     "data": {
      "text/plain": [
       "create_series_adj_mat (generic function with 2 methods)"
      ]
     },
     "metadata": {},
     "output_type": "display_data"
    }
   ],
   "source": [
    "function get_all_nodes(file)\n",
    "    nodes = [n for n in file[1].nodes]\n",
    "    for i in 2:6\n",
    "        nodes = [nodes..., [n for n in file[i].nodes()]...]\n",
    "    end\n",
    "    return unique(nodes)\n",
    "end\n",
    "\n",
    "function create_series_adj_mat(file, nodes = get_all_nodes(file))\n",
    "    As = [get_adjacency_matrix(file[i], nodes) for i in 1:6]\n",
    "    return As\n",
    "end"
   ]
  },
  {
   "cell_type": "code",
   "execution_count": 5,
   "metadata": {},
   "outputs": [
    {
     "data": {
      "text/plain": [
       "(108.0, 152.0, 116.0)"
      ]
     },
     "metadata": {},
     "output_type": "display_data"
    },
    {
     "data": {
      "text/plain": [
       "6×6 Matrix{Float64}:\n",
       " 1.0       0.425532  0.260355  0.318182  0.258706  0.255682\n",
       " 0.425532  1.0       0.427419  0.530612  0.466216  0.350365\n",
       " 0.260355  0.427419  1.0       0.478261  0.421053  0.397849\n",
       " 0.318182  0.530612  0.478261  1.0       0.578947  0.401575\n",
       " 0.258706  0.466216  0.421053  0.578947  1.0       0.491228\n",
       " 0.255682  0.350365  0.397849  0.401575  0.491228  1.0"
      ]
     },
     "metadata": {},
     "output_type": "display_data"
    },
    {
     "data": {
      "text/plain": [
       "6×6 Matrix{Float64}:\n",
       " 1.0  0.526316  0.289474  0.414474  0.342105  0.296053\n",
       " 0.0  1.0       0.456897  0.672414  0.594828  0.413793\n",
       " 0.0  0.0       1.0       0.901639  0.786885  0.606557\n",
       " 0.0  0.0       0.0       1.0       0.706422  0.46789\n",
       " 0.0  0.0       0.0       0.0       1.0       0.554455\n",
       " 0.0  0.0       0.0       0.0       0.0       1.0"
      ]
     },
     "metadata": {},
     "output_type": "display_data"
    },
    {
     "data": {
      "text/plain": [
       "6×6 Matrix{Float64}:\n",
       " 0.0  72.0  108.0  89.0  100.0  107.0\n",
       " 0.0   0.0   63.0  38.0   47.0   68.0\n",
       " 0.0   0.0    0.0   6.0   13.0   24.0\n",
       " 0.0   0.0    0.0   0.0   32.0   58.0\n",
       " 0.0   0.0    0.0   0.0    0.0   45.0\n",
       " 0.0   0.0    0.0   0.0    0.0    0.0"
      ]
     },
     "metadata": {},
     "output_type": "display_data"
    }
   ],
   "source": [
    "nodes = get_all_nodes(file)\n",
    "Ws = create_series_adj_mat(file, nodes)\n",
    "As = [sign.(W) for W in Ws]\n",
    "\n",
    "i=1; inc = 1;\n",
    "display((sum(abs.(As[i + inc] .- As[i]))/2, sum(As[i])/2, sum(As[i+inc])/2))\n",
    "\n",
    "overlap = zeros(6,6)\n",
    "for i in 1:6, j in 1:6\n",
    "    overlap[i,j] = sum(As[i].*As[j]) / sum(sign.(As[i] .+ As[j]))\n",
    "end\n",
    "display(overlap)\n",
    "\n",
    "#how many links vanish?\n",
    "not_vanish = zeros(6,6)\n",
    "vanish_abs = zeros(6,6)\n",
    "for i in 1:6\n",
    "    for j in i:6\n",
    "        not_vanish[i,j] = sum(As[i].*As[j]) / sum(As[i])\n",
    "        vanish_abs[i,j] = (sum(As[i]) - sum(As[i].*As[j]))/2\n",
    "    end\n",
    "end\n",
    "display(not_vanish)\n",
    "display(vanish_abs)\n"
   ]
  },
  {
   "cell_type": "code",
   "execution_count": 6,
   "metadata": {},
   "outputs": [
    {
     "data": {
      "text/plain": [
       "6×6 Matrix{Float64}:\n",
       " 1.0  0.689655  0.721311  0.577982  0.514851  0.652174\n",
       " 0.0  1.0       0.868852  0.715596  0.683168  0.695652\n",
       " 0.0  0.0       1.0       0.504587  0.475248  0.536232\n",
       " 0.0  0.0       0.0       1.0       0.762376  0.73913\n",
       " 0.0  0.0       0.0       0.0       1.0       0.811594\n",
       " 0.0  0.0       0.0       0.0       0.0       1.0"
      ]
     },
     "metadata": {},
     "output_type": "display_data"
    },
    {
     "data": {
      "text/plain": [
       "6×6 Matrix{Float64}:\n",
       " 0.0  36.0  17.0  46.0  49.0  24.0\n",
       " 0.0   0.0   8.0  31.0  32.0  21.0\n",
       " 0.0   0.0   0.0  54.0  53.0  32.0\n",
       " 0.0   0.0   0.0   0.0  24.0  18.0\n",
       " 0.0   0.0   0.0   0.0   0.0  13.0\n",
       " 0.0   0.0   0.0   0.0   0.0   0.0"
      ]
     },
     "metadata": {},
     "output_type": "display_data"
    }
   ],
   "source": [
    "#how many links appear?\n",
    "appear = zeros(6,6)\n",
    "appear_abs = zeros(6,6)\n",
    "for i in 1:6\n",
    "    for j in i:6\n",
    "        appear[i,j] = sum(As[i].*As[j]) / sum(As[j])\n",
    "        appear_abs[i,j] = (sum(As[j]) - sum(As[i].*As[j])) / 2\n",
    "    end\n",
    "end\n",
    "display(appear)\n",
    "display(appear_abs)"
   ]
  },
  {
   "cell_type": "code",
   "execution_count": 7,
   "metadata": {},
   "outputs": [
    {
     "data": {
      "text/plain": [
       "6×6 Matrix{Float64}:\n",
       " 1.0  0.377778  0.111111  0.222222  0.222222  0.111111\n",
       " 0.0  1.0       0.307692  0.538462  0.461538  0.230769\n",
       " 0.0  0.0       1.0       1.0       0.888889  0.777778\n",
       " 0.0  0.0       0.0       1.0       0.692308  0.346154\n",
       " 0.0  0.0       0.0       0.0       1.0       0.5\n",
       " 0.0  0.0       0.0       0.0       0.0       1.0"
      ]
     },
     "metadata": {},
     "output_type": "display_data"
    },
    {
     "data": {
      "text/plain": [
       "6×6 Matrix{Float64}:\n",
       " 0.0  28.0  40.0  35.0  35.0  40.0\n",
       " 0.0   0.0  18.0  12.0  14.0  20.0\n",
       " 0.0   0.0   0.0   0.0   1.0   2.0\n",
       " 0.0   0.0   0.0   0.0   8.0  17.0\n",
       " 0.0   0.0   0.0   0.0   0.0  10.0\n",
       " 0.0   0.0   0.0   0.0   0.0   0.0"
      ]
     },
     "metadata": {},
     "output_type": "display_data"
    }
   ],
   "source": [
    "#find prob of triad vanishing\n",
    "all_triads = [get_triads2(As[i]) for i in 1:6]\n",
    "\n",
    "# intersect(all_triads[1], all_triads[2])\n",
    "\n",
    "#how many triads vanish?\n",
    "triad_not_vanish = zeros(6,6)\n",
    "triad_vanish_abs = zeros(6,6)\n",
    "for i in 1:6\n",
    "    for j in i:6\n",
    "        triad_not_vanish[i,j] = length(intersect(all_triads[i], all_triads[j])) / length(all_triads[i])\n",
    "        triad_vanish_abs[i,j] = length(all_triads[i]) - length(intersect(all_triads[i], all_triads[j]))\n",
    "    end\n",
    "end\n",
    "display(triad_not_vanish)\n",
    "display(triad_vanish_abs)"
   ]
  },
  {
   "cell_type": "code",
   "execution_count": 8,
   "metadata": {},
   "outputs": [
    {
     "data": {
      "text/plain": [
       "get_wedges_single_edges (generic function with 1 method)"
      ]
     },
     "metadata": {},
     "output_type": "display_data"
    }
   ],
   "source": [
    "function get_wedges_single_edges(A)\n",
    "    N = size(A)[1]\n",
    "\n",
    "    wedges = []\n",
    "    single_edges = []\n",
    "\n",
    "    for i in 1:N\n",
    "        for j in (i+1):N\n",
    "            for k in (j+1):N\n",
    "                if A[i,k] + A[j,k] + A[i,j] == 2\n",
    "                    push!(wedges, (i,j,k))\n",
    "                elseif A[i,k] + A[j,k] + A[i,j] == 1\n",
    "                    push!(single_edges, (i,j,k))\n",
    "                end\n",
    "            end\n",
    "        end\n",
    "    end\n",
    "    \n",
    "    return wedges, single_edges\n",
    "end"
   ]
  },
  {
   "cell_type": "code",
   "execution_count": 9,
   "metadata": {},
   "outputs": [],
   "source": [
    "all_wedges = []\n",
    "all_singles = []\n",
    "for i in 1:6\n",
    "    wedges, single_edges = get_wedges_single_edges(As[i])\n",
    "    push!(all_wedges, wedges)\n",
    "    push!(all_singles, single_edges)\n",
    "end"
   ]
  },
  {
   "cell_type": "code",
   "execution_count": 10,
   "metadata": {},
   "outputs": [
    {
     "data": {
      "text/plain": [
       "understand_triad_apperance (generic function with 1 method)"
      ]
     },
     "metadata": {},
     "output_type": "display_data"
    }
   ],
   "source": [
    "function understand_triad_apperance(As)\n",
    "    num_mats = length(As)\n",
    "\n",
    "    all_triads = [get_triads2(As[i]) for i in 1:num_mats]\n",
    "    all_wedges = []\n",
    "    all_singles = []\n",
    "    for i in 1:num_mats\n",
    "        wedges, single_edges = get_wedges_single_edges(As[i])\n",
    "        push!(all_wedges, wedges)\n",
    "        push!(all_singles, single_edges)\n",
    "    end\n",
    "\n",
    "    \n",
    "\n",
    "    triad_appear = zeros(num_mats,num_mats)\n",
    "    triad_appear_wedges = zeros(num_mats,num_mats)\n",
    "    triad_appear_single = zeros(num_mats,num_mats)\n",
    "    triad_appear_nowhere = zeros(num_mats,num_mats)\n",
    "\n",
    "    for i in 1:num_mats\n",
    "        for j in i:num_mats\n",
    "            triad_appear[i,j] = length(all_triads[j]) - length(intersect(all_triads[i], all_triads[j]))\n",
    "            new_triads = setdiff(all_triads[j], all_triads[i])\n",
    "            @assert length(new_triads) == triad_appear[i,j]\n",
    "            triad_appear_wedges[i,j] = length(intersect(new_triads, all_wedges[i]))\n",
    "\n",
    "            triad_appear_single[i,j] = length(intersect(new_triads, all_singles[i]))\n",
    "            # triad_vanish_abs[i,j] = length(all_triads[i]) - length(intersect(all_triads[i], all_triads[j]))\n",
    "            triad_appear_nowhere[i,j] = triad_appear[i,j] - triad_appear_wedges[i, j] - triad_appear_single[i, j]\n",
    "        end\n",
    "    end\n",
    "    return triad_appear, triad_appear_wedges, triad_appear_single, triad_appear_nowhere\n",
    "end"
   ]
  },
  {
   "cell_type": "code",
   "execution_count": 20,
   "metadata": {},
   "outputs": [
    {
     "data": {
      "text/plain": [
       "6×6 Matrix{Float64}:\n",
       " 0.0  9.0  4.0  16.0  10.0  7.0\n",
       " 0.0  0.0  1.0  12.0   8.0  6.0\n",
       " 0.0  0.0  0.0  17.0  12.0  5.0\n",
       " 0.0  0.0  0.0   0.0   2.0  3.0\n",
       " 0.0  0.0  0.0   0.0   0.0  2.0\n",
       " 0.0  0.0  0.0   0.0   0.0  0.0"
      ]
     },
     "metadata": {},
     "output_type": "display_data"
    },
    {
     "data": {
      "text/plain": [
       "6×6 Matrix{Float64}:\n",
       " 0.0  8.0  4.0   9.0  5.0  4.0\n",
       " 0.0  0.0  1.0   9.0  5.0  3.0\n",
       " 0.0  0.0  0.0  12.0  9.0  2.0\n",
       " 0.0  0.0  0.0   0.0  2.0  2.0\n",
       " 0.0  0.0  0.0   0.0  0.0  2.0\n",
       " 0.0  0.0  0.0   0.0  0.0  0.0"
      ]
     },
     "metadata": {},
     "output_type": "display_data"
    },
    {
     "data": {
      "text/plain": [
       "6×6 Matrix{Float64}:\n",
       " 0.0  1.0  0.0  7.0  4.0  2.0\n",
       " 0.0  0.0  0.0  3.0  3.0  2.0\n",
       " 0.0  0.0  0.0  4.0  3.0  3.0\n",
       " 0.0  0.0  0.0  0.0  0.0  1.0\n",
       " 0.0  0.0  0.0  0.0  0.0  0.0\n",
       " 0.0  0.0  0.0  0.0  0.0  0.0"
      ]
     },
     "metadata": {},
     "output_type": "display_data"
    },
    {
     "data": {
      "text/plain": [
       "6×6 Matrix{Float64}:\n",
       " 0.0  0.0  0.0  0.0  1.0  1.0\n",
       " 0.0  0.0  0.0  0.0  0.0  1.0\n",
       " 0.0  0.0  0.0  1.0  0.0  0.0\n",
       " 0.0  0.0  0.0  0.0  0.0  0.0\n",
       " 0.0  0.0  0.0  0.0  0.0  0.0\n",
       " 0.0  0.0  0.0  0.0  0.0  0.0"
      ]
     },
     "metadata": {},
     "output_type": "display_data"
    }
   ],
   "source": [
    "# find prob of tried appearing (from wedges, from single link, from nowhere)\n",
    "\n",
    "triad_appear = zeros(6,6)\n",
    "triad_appear_wedges = zeros(6,6)\n",
    "triad_appear_single = zeros(6,6)\n",
    "triad_appear_nowhere = zeros(6,6)\n",
    "for i in 1:6\n",
    "    for j in i:6\n",
    "        triad_appear[i,j] = length(all_triads[j]) - length(intersect(all_triads[i], all_triads[j]))\n",
    "        new_triads = setdiff(all_triads[j], all_triads[i])\n",
    "        @assert length(new_triads) == triad_appear[i,j]\n",
    "        triad_appear_wedges[i,j] = length(intersect(new_triads, all_wedges[i]))\n",
    "\n",
    "        triad_appear_single[i,j] = length(intersect(new_triads, all_singles[i]))\n",
    "        # triad_vanish_abs[i,j] = length(all_triads[i]) - length(intersect(all_triads[i], all_triads[j]))\n",
    "        triad_appear_nowhere[i,j] = triad_appear[i,j] - triad_appear_wedges[i, j] - triad_appear_single[i, j]\n",
    "    end\n",
    "end\n",
    "display(triad_appear)\n",
    "display(triad_appear_wedges)\n",
    "display(triad_appear_single)\n",
    "display(triad_appear_nowhere)"
   ]
  },
  {
   "cell_type": "code",
   "execution_count": 22,
   "metadata": {},
   "outputs": [],
   "source": [
    "# test\n",
    "triad_appear2, triad_appear_wedges2, triad_appear_single2, triad_appear_nowhere2 = understand_triad_apperance(As)\n",
    "\n",
    "@assert triad_appear_wedges2 == triad_appear_wedges\n",
    "@assert triad_appear_single2 == triad_appear_single\n",
    "@assert triad_appear_nowhere2 == triad_appear_nowhere\n",
    "@assert triad_appear == triad_appear2"
   ]
  },
  {
   "cell_type": "code",
   "execution_count": 176,
   "metadata": {},
   "outputs": [
    {
     "data": {
      "text/plain": [
       "36.0"
      ]
     },
     "metadata": {},
     "output_type": "display_data"
    },
    {
     "data": {
      "text/plain": [
       "2×2 Matrix{Float64}:\n",
       " 0.0  2.0\n",
       " 0.0  0.0"
      ]
     },
     "metadata": {},
     "output_type": "display_data"
    },
    {
     "data": {
      "text/plain": [
       "2×2 Matrix{Float64}:\n",
       " 0.0  2.0\n",
       " 0.0  0.0"
      ]
     },
     "metadata": {},
     "output_type": "display_data"
    },
    {
     "data": {
      "text/plain": [
       "2×2 Matrix{Float64}:\n",
       " 0.0  0.0\n",
       " 0.0  0.0"
      ]
     },
     "metadata": {},
     "output_type": "display_data"
    },
    {
     "data": {
      "text/plain": [
       "2×2 Matrix{Float64}:\n",
       " 0.0  0.0\n",
       " 0.0  0.0"
      ]
     },
     "metadata": {},
     "output_type": "display_data"
    }
   ],
   "source": [
    "# Let's make an expetiment. \n",
    "# Lets remove connections that vanish from term I and \n",
    "# randomly new connections and \n",
    "# see how many new triads were formed, and from which structures. \n",
    "\n",
    "#removing edges from A1\n",
    "start_term = 1\n",
    "inc = 1\n",
    "A1r = As[start_term] .* As[start_term + inc] \n",
    "\n",
    "# We need to add this amount of new links:\n",
    "display(appear_abs[start_term, start_term + inc])\n",
    "N = length(nodes)\n",
    "\n",
    "added = 0\n",
    "while added < appear_abs[start_term, start_term + inc]\n",
    "    i, j = rand(1:N, 2)\n",
    "    if i==j continue\n",
    "    elseif A1r[i,j] > 0\n",
    "        continue\n",
    "    else\n",
    "        A1r[i,j] = A1r[j,i] = 1\n",
    "        added += 1\n",
    "    end\n",
    "end\n",
    "# display(\"finishes\")\n",
    "\n",
    "triad_appear2, triad_appear_wedges2, triad_appear_single2, triad_appear_nowhere2 = understand_triad_apperance([As[start_term], A1r])\n",
    "display(triad_appear2)\n",
    "display(triad_appear_wedges2)\n",
    "display(triad_appear_single2)\n",
    "display(triad_appear_nowhere2)\n",
    "\n",
    "# Conclusion:\n",
    "# As expected, more triads are created than random would expect"
   ]
  },
  {
   "cell_type": "code",
   "execution_count": 20,
   "metadata": {},
   "outputs": [
    {
     "data": {
      "text/plain": [
       "60"
      ]
     },
     "metadata": {},
     "output_type": "display_data"
    },
    {
     "data": {
      "text/plain": [
       "6-element Vector{Matrix{Int64}}:\n",
       " [0 1 … 0 0; 1 0 … 0 0; … ; 0 0 … 0 0; 0 0 … 0 0]\n",
       " [0 0 … 0 0; 0 0 … 0 0; … ; 0 0 … 0 0; 0 0 … 0 0]\n",
       " [0 0 … 0 0; 0 0 … 0 0; … ; 0 0 … 0 0; 0 0 … 0 0]\n",
       " [0 0 … 0 0; 0 0 … 0 1; … ; 0 0 … 0 0; 0 1 … 0 0]\n",
       " [0 0 … 0 0; 0 0 … 0 0; … ; 0 0 … 0 0; 0 0 … 0 0]\n",
       " [0 0 … 0 0; 0 0 … 0 0; … ; 0 0 … 0 0; 0 0 … 0 0]"
      ]
     },
     "metadata": {},
     "output_type": "display_data"
    }
   ],
   "source": [
    "# Let's check how many people are in triads\n",
    "\n",
    "triad_nodes = sort(unique([node for triads in all_triads for triad in triads for node in triad]))\n",
    "display(length(triad_nodes))\n",
    "\n",
    "# There are only 60 nodes, so lets repeat above experiment with generating links only among these agents. \n",
    "# But first I need to count how many edges were added among those agents\n",
    "\n",
    "As2 = [As[i][triad_nodes, triad_nodes] for i in 1:6]"
   ]
  },
  {
   "cell_type": "code",
   "execution_count": 25,
   "metadata": {},
   "outputs": [
    {
     "data": {
      "text/plain": [
       "6×6 Matrix{Float64}:\n",
       " 1.0  0.763158  0.770833  0.626667  0.602941  0.705882\n",
       " 0.0  1.0       0.875     0.733333  0.705882  0.705882\n",
       " 0.0  0.0       1.0       0.586667  0.573529  0.627451\n",
       " 0.0  0.0       0.0       1.0       0.823529  0.764706\n",
       " 0.0  0.0       0.0       0.0       1.0       0.843137\n",
       " 0.0  0.0       0.0       0.0       0.0       1.0"
      ]
     },
     "metadata": {},
     "output_type": "display_data"
    },
    {
     "data": {
      "text/plain": [
       "6×6 Matrix{Float64}:\n",
       " 0.0  18.0  11.0  28.0  27.0  15.0\n",
       " 0.0   0.0   6.0  20.0  20.0  15.0\n",
       " 0.0   0.0   0.0  31.0  29.0  19.0\n",
       " 0.0   0.0   0.0   0.0  12.0  12.0\n",
       " 0.0   0.0   0.0   0.0   0.0   8.0\n",
       " 0.0   0.0   0.0   0.0   0.0   0.0"
      ]
     },
     "metadata": {},
     "output_type": "display_data"
    }
   ],
   "source": [
    "#how many links appear?\n",
    "appear_triads = zeros(6,6)\n",
    "appear_abs_triads = zeros(6,6)\n",
    "for i in 1:6\n",
    "    for j in i:6\n",
    "        appear_triads[i,j] = sum(As2[i].*As2[j]) / sum(As2[j])\n",
    "        appear_abs_triads[i,j] = (sum(As2[j]) - sum(As2[i].*As2[j])) / 2\n",
    "    end\n",
    "end\n",
    "display(appear_triads)\n",
    "display(appear_abs_triads)"
   ]
  },
  {
   "cell_type": "code",
   "execution_count": 184,
   "metadata": {},
   "outputs": [
    {
     "data": {
      "text/plain": [
       "18.0"
      ]
     },
     "metadata": {},
     "output_type": "display_data"
    },
    {
     "data": {
      "text/plain": [
       "2×2 Matrix{Float64}:\n",
       " 0.0  3.0\n",
       " 0.0  0.0"
      ]
     },
     "metadata": {},
     "output_type": "display_data"
    },
    {
     "data": {
      "text/plain": [
       "2×2 Matrix{Float64}:\n",
       " 0.0  2.0\n",
       " 0.0  0.0"
      ]
     },
     "metadata": {},
     "output_type": "display_data"
    },
    {
     "data": {
      "text/plain": [
       "2×2 Matrix{Float64}:\n",
       " 0.0  0.0\n",
       " 0.0  0.0"
      ]
     },
     "metadata": {},
     "output_type": "display_data"
    },
    {
     "data": {
      "text/plain": [
       "2×2 Matrix{Float64}:\n",
       " 0.0  1.0\n",
       " 0.0  0.0"
      ]
     },
     "metadata": {},
     "output_type": "display_data"
    }
   ],
   "source": [
    "# Experiment 2. \n",
    "\n",
    "#removing edges from A1\n",
    "start_term = 1\n",
    "inc = 1\n",
    "A1r = As2[start_term] .* As2[start_term + inc] \n",
    "\n",
    "# We need to add this amount of new links:\n",
    "display(appear_abs_triads[start_term, start_term + inc])\n",
    "N = length(triad_nodes)\n",
    "\n",
    "added = 0\n",
    "while added < appear_abs_triads[start_term, start_term + inc]\n",
    "    i, j = rand(1:N, 2)\n",
    "    if i==j continue\n",
    "    elseif A1r[i,j] > 0\n",
    "        continue\n",
    "    else\n",
    "        A1r[i,j] = A1r[j,i] = 1\n",
    "        added += 1\n",
    "    end\n",
    "end\n",
    "# display(\"finishes\")\n",
    "\n",
    "triad_appear3, triad_appear_wedges3, triad_appear_single3, triad_appear_nowhere3 = understand_triad_apperance([As2[start_term], A1r])\n",
    "display(triad_appear3)\n",
    "display(triad_appear_wedges3)\n",
    "display(triad_appear_single3)\n",
    "display(triad_appear_nowhere3)\n",
    "\n",
    "# Conclusion:\n",
    "# As expected, more triads are created than random would expect"
   ]
  },
  {
   "cell_type": "code",
   "execution_count": 228,
   "metadata": {},
   "outputs": [
    {
     "data": {
      "text/plain": [
       "6.0"
      ]
     },
     "metadata": {},
     "output_type": "display_data"
    },
    {
     "data": {
      "text/plain": [
       "2×2 Matrix{Float64}:\n",
       " 0.0  5.0\n",
       " 0.0  0.0"
      ]
     },
     "metadata": {},
     "output_type": "display_data"
    },
    {
     "data": {
      "text/plain": [
       "2×2 Matrix{Float64}:\n",
       " 0.0  3.0\n",
       " 0.0  0.0"
      ]
     },
     "metadata": {},
     "output_type": "display_data"
    },
    {
     "data": {
      "text/plain": [
       "2×2 Matrix{Float64}:\n",
       " 0.0  2.0\n",
       " 0.0  0.0"
      ]
     },
     "metadata": {},
     "output_type": "display_data"
    },
    {
     "data": {
      "text/plain": [
       "2×2 Matrix{Float64}:\n",
       " 0.0  0.0\n",
       " 0.0  0.0"
      ]
     },
     "metadata": {},
     "output_type": "display_data"
    }
   ],
   "source": [
    "# OK, lets try to generate triads more frequently. \n",
    "# There will be a new parameter for closing triads.\n",
    "\n",
    "close_triad = 0.7\n",
    "\n",
    "# function get_nodes_in_triads(A)\n",
    "#     triads = get_triads2(A)\n",
    "\n",
    "#     return sort(unique([node for triad in triads for node in triad.nodes]))\n",
    "# end\n",
    "\n",
    "# Experiment 3. \n",
    "\n",
    "#removing edges from A1\n",
    "start_term = 2\n",
    "inc = 1\n",
    "A1r = As2[start_term] .* As2[start_term + inc] \n",
    "\n",
    "# We need to add this amount of new links:\n",
    "display(appear_abs_triads[start_term, start_term + inc])\n",
    "N = length(triad_nodes)\n",
    "\n",
    "added = 0\n",
    "while added < appear_abs_triads[start_term, start_term + inc]\n",
    "    wedges_t, single_t = get_wedges_single_edges(A1r)\n",
    "    if rand() < close_triad\n",
    "        wedge = rand(wedges_t)\n",
    "        if A1r[wedge[1], wedge[2]] == 0\n",
    "            i, j = wedge[1], wedge[2]\n",
    "        elseif A1r[wedge[1], wedge[3]] == 0\n",
    "            i, j = wedge[1], wedge[3]\n",
    "        else i, j = wedge[2], wedge[3]\n",
    "        end\n",
    "    else\n",
    "        i, j = rand(1:N, 2)\n",
    "        if i==j continue\n",
    "        elseif A1r[i,j] > 0\n",
    "            continue\n",
    "        end\n",
    "    end\n",
    "    A1r[i,j] = A1r[j,i] = 1\n",
    "    added += 1\n",
    "end\n",
    "# display(\"finishes\")\n",
    "\n",
    "triad_appear3, triad_appear_wedges3, triad_appear_single3, triad_appear_nowhere3 = understand_triad_apperance([As2[start_term], A1r])\n",
    "display(triad_appear3)\n",
    "display(triad_appear_wedges3)\n",
    "display(triad_appear_single3)\n",
    "display(triad_appear_nowhere3)\n",
    "\n",
    "# Conclusion:\n",
    "# As expected, more triads are created than random would expect"
   ]
  },
  {
   "cell_type": "code",
   "execution_count": 11,
   "metadata": {},
   "outputs": [
    {
     "data": {
      "text/plain": [
       "calc_difs_only_numT (generic function with 1 method)"
      ]
     },
     "metadata": {},
     "output_type": "display_data"
    }
   ],
   "source": [
    "# defining functions to calibrate this probability\n",
    "function add_edges!(A1r, edges_to_add, close_triad)\n",
    "    N = size(A1r)[1]\n",
    "\n",
    "    added = 0\n",
    "    while added < edges_to_add\n",
    "        wedges_t, single_t = get_wedges_single_edges(A1r)\n",
    "        if rand() < close_triad\n",
    "            wedge = rand(wedges_t)\n",
    "            if A1r[wedge[1], wedge[2]] == 0\n",
    "                i, j = wedge[1], wedge[2]\n",
    "            elseif A1r[wedge[1], wedge[3]] == 0\n",
    "                i, j = wedge[1], wedge[3]\n",
    "            else i, j = wedge[2], wedge[3]\n",
    "            end\n",
    "        else\n",
    "            i, j = rand(1:N, 2)\n",
    "            if i==j continue\n",
    "            elseif A1r[i,j] > 0\n",
    "                continue\n",
    "            end\n",
    "        end\n",
    "        A1r[i,j] = A1r[j,i] = 1\n",
    "        added += 1\n",
    "    end\n",
    "end\n",
    "\n",
    "function calc_difs(close_triad_prob; term_pairs = [(1, 2), (2, 3), (2, 4), (3, 4), (4, 5), (5, 6)], repetitions = 10)\n",
    "    dif = 0\n",
    "\n",
    "    for _ in 1:repetitions\n",
    "        for term_pair in term_pairs\n",
    "            start_term = term_pair[1]\n",
    "            inc = term_pair[2] - start_term\n",
    "\n",
    "            A1r = As2[start_term] .* As2[start_term + inc] \n",
    "            add_edges!(A1r, appear_abs_triads[start_term, start_term + inc], close_triad_prob)\n",
    "            triad_appear3, triad_appear_wedges3, triad_appear_single3, triad_appear_nowhere3 = understand_triad_apperance([As2[start_term], A1r])\n",
    "\n",
    "            dif += abs(triad_appear[term_pair...] - triad_appear3[1,2])\n",
    "            dif += abs(triad_appear_wedges[term_pair...] - triad_appear_wedges3[1,2])\n",
    "            dif += abs(triad_appear_single[term_pair...] - triad_appear_single3[1,2])\n",
    "            dif += abs(triad_appear_nowhere[term_pair...] - triad_appear_nowhere3[1,2])\n",
    "        end\n",
    "    end\n",
    "    return dif\n",
    "end\n",
    "\n",
    "function calc_difs_only_numT(close_triad_prob; term_pairs = [(1, 2), (2, 3), (2, 4), (3, 4), (4, 5), (5, 6)], repetitions = 10)\n",
    "    dif = 0\n",
    "\n",
    "    for _ in 1:repetitions\n",
    "        for term_pair in term_pairs\n",
    "            start_term = term_pair[1]\n",
    "            inc = term_pair[2] - start_term\n",
    "\n",
    "            A1r = As2[start_term] .* As2[start_term + inc] \n",
    "            add_edges!(A1r, appear_abs_triads[start_term, start_term + inc], close_triad_prob)\n",
    "            triad_appear3, triad_appear_wedges3, triad_appear_single3, triad_appear_nowhere3 = understand_triad_apperance([As2[start_term], A1r])\n",
    "\n",
    "            dif += abs(triad_appear[term_pair...] - triad_appear3[1,2])\n",
    "        end\n",
    "    end\n",
    "    return dif\n",
    "end"
   ]
  },
  {
   "cell_type": "code",
   "execution_count": 257,
   "metadata": {},
   "outputs": [
    {
     "data": {
      "text/plain": [
       "4268.0"
      ]
     },
     "metadata": {},
     "output_type": "display_data"
    }
   ],
   "source": [
    "# calibration!\n",
    "# We choose pairs of terms that will be compared. \n",
    "term_pairs = [(1, 2), (2, 3), (2, 4), (3, 4), (4, 5), (5, 6)]\n",
    "repetitions = 100\n",
    "\n",
    "close_triad_prob = 0.3\n",
    "\n",
    "dif = 0\n",
    "\n",
    "for _ in 1:repetitions\n",
    "    for term_pair in term_pairs\n",
    "        start_term = term_pair[1]\n",
    "        inc = term_pair[2] - start_term\n",
    "\n",
    "        A1r = As2[start_term] .* As2[start_term + inc] \n",
    "        add_edges!(A1r, appear_abs_triads[start_term, start_term + inc], close_triad_prob)\n",
    "        triad_appear3, triad_appear_wedges3, triad_appear_single3, triad_appear_nowhere3 = understand_triad_apperance([As2[start_term], A1r])\n",
    "\n",
    "        dif += abs(triad_appear[term_pair...] - triad_appear3[1,2])\n",
    "        dif += abs(triad_appear_wedges[term_pair...] - triad_appear_wedges3[1,2])\n",
    "        dif += abs(triad_appear_single[term_pair...] - triad_appear_single3[1,2])\n",
    "        dif += abs(triad_appear_nowhere[term_pair...] - triad_appear_nowhere3[1,2])\n",
    "    end\n",
    "end\n",
    "\n",
    "dif"
   ]
  },
  {
   "cell_type": "code",
   "execution_count": 274,
   "metadata": {},
   "outputs": [
    {
     "data": {
      "text/plain": [
       "Results of Optimization Algorithm\n",
       " * Algorithm: Brent's Method\n",
       " * Search Interval: [0.000000, 1.000000]\n",
       " * Minimizer: 3.527405e-01\n",
       " * Minimum: 3.874000e+03\n",
       " * Iterations: 34\n",
       " * Convergence: max(|x - x_upper|, |x - x_lower|) <= 2*(1.5e-08*|x|+2.2e-16): true\n",
       " * Objective Function Calls: 35"
      ]
     },
     "metadata": {},
     "output_type": "display_data"
    }
   ],
   "source": [
    "#finding optimal prob\n",
    "\n",
    "using Optim\n",
    "repetitions = 100\n",
    "loc(x) = calc_difs(x; repetitions = repetitions)\n",
    "optimize(loc, 0., 1.)\n",
    "#czyli minimum jest ok. 0.3527"
   ]
  },
  {
   "cell_type": "code",
   "execution_count": 277,
   "metadata": {},
   "outputs": [
    {
     "data": {
      "text/plain": [
       "Results of Optimization Algorithm\n",
       " * Algorithm: Brent's Method\n",
       " * Search Interval: [0.000000, 1.000000]\n",
       " * Minimizer: 3.551966e-01\n",
       " * Minimum: 1.481000e+03\n",
       " * Iterations: 34\n",
       " * Convergence: max(|x - x_upper|, |x - x_lower|) <= 2*(1.5e-08*|x|+2.2e-16): true\n",
       " * Objective Function Calls: 35"
      ]
     },
     "metadata": {},
     "output_type": "display_data"
    }
   ],
   "source": [
    "#finding optimal prob when looking only at number of triads, and not where they originate from\n",
    "\n",
    "using Optim\n",
    "repetitions = 100\n",
    "loc(x) = calc_difs_only_numT(x; repetitions = repetitions)\n",
    "optimize(loc, 0., 1.)\n",
    "#czyli minimum jest ok. 0.3552"
   ]
  },
  {
   "cell_type": "code",
   "execution_count": 263,
   "metadata": {},
   "outputs": [],
   "source": [
    "using Plots"
   ]
  },
  {
   "cell_type": "code",
   "execution_count": 270,
   "metadata": {},
   "outputs": [],
   "source": [
    "probs = [0.:0.05:1...]\n",
    "difs = zeros(size(probs))\n",
    "\n",
    "for (i, prob) in enumerate(probs)\n",
    "    difs[i] = calc_difs(prob; repetitions = 100)\n",
    "end"
   ]
  },
  {
   "cell_type": "code",
   "execution_count": 273,
   "metadata": {},
   "outputs": [
    {
     "data": {
      "text/plain": [
       "1-element Vector{Float64}:\n",
       " 0.35"
      ]
     },
     "metadata": {},
     "output_type": "display_data"
    },
    {
     "data": {
      "image/png": "[encoded data removed]",
      "image/svg+xml": "<?xml version=\"1.0\" encoding=\"utf-8\"?>\n<svg xmlns=\"http://www.w3.org/2000/svg\" xmlns:xlink=\"http://www.w3.org/1999/xlink\" width=\"600\" height=\"400\" viewBox=\"0 0 2400 1600\">\n<defs>\n  <clipPath id=\"clip520\">\n    <rect x=\"0\" y=\"0\" width=\"2400\" height=\"1600\"/>\n  </clipPath>\n</defs>\n<path clip-path=\"url(#clip520)\" d=\"\nM0 1600 L2400 1600 L2400 0 L0 0  Z\n  \" fill=\"#ffffff\" fill-rule=\"evenodd\" fill-opacity=\"1\"/>\n<defs>\n  <clipPath id=\"clip521\">\n    <rect x=\"480\" y=\"0\" width=\"1681\" height=\"1600\"/>\n  </clipPath>\n</defs>\n<path clip-path=\"url(#clip520)\" d=\"\nM304.947 1486.45 L2352.76 1486.45 L2352.76 47.2441 L304.947 47.2441  Z\n  \" fill=\"#ffffff\" fill-rule=\"evenodd\" fill-opacity=\"1\"/>\n<defs>\n  <clipPath id=\"clip522\">\n    <rect x=\"304\" y=\"47\" width=\"2049\" height=\"1440\"/>\n  </clipPath>\n</defs>\n<polyline clip-path=\"url(#clip522)\" style=\"stroke:#000000; stroke-linecap:butt; stroke-linejoin:round; stroke-width:2; stroke-opacity:0.1; fill:none\" points=\"\n  362.904,1486.45 362.904,47.2441 \n  \"/>\n<polyline clip-path=\"url(#clip522)\" style=\"stroke:#000000; stroke-linecap:butt; stroke-linejoin:round; stroke-width:2; stroke-opacity:0.1; fill:none\" points=\"\n  845.877,1486.45 845.877,47.2441 \n  \"/>\n<polyline clip-path=\"url(#clip522)\" style=\"stroke:#000000; stroke-linecap:butt; stroke-linejoin:round; stroke-width:2; stroke-opacity:0.1; fill:none\" points=\"\n  1328.85,1486.45 1328.85,47.2441 \n  \"/>\n<polyline clip-path=\"url(#clip522)\" style=\"stroke:#000000; stroke-linecap:butt; stroke-linejoin:round; stroke-width:2; stroke-opacity:0.1; fill:none\" points=\"\n  1811.83,1486.45 1811.83,47.2441 \n  \"/>\n<polyline clip-path=\"url(#clip522)\" style=\"stroke:#000000; stroke-linecap:butt; stroke-linejoin:round; stroke-width:2; stroke-opacity:0.1; fill:none\" points=\"\n  2294.8,1486.45 2294.8,47.2441 \n  \"/>\n<polyline clip-path=\"url(#clip520)\" style=\"stroke:#000000; stroke-linecap:butt; stroke-linejoin:round; stroke-width:4; stroke-opacity:1; fill:none\" points=\"\n  304.947,1486.45 2352.76,1486.45 \n  \"/>\n<polyline clip-path=\"url(#clip520)\" style=\"stroke:#000000; stroke-linecap:butt; stroke-linejoin:round; stroke-width:4; stroke-opacity:1; fill:none\" points=\"\n  362.904,1486.45 362.904,1467.55 \n  \"/>\n<polyline clip-path=\"url(#clip520)\" style=\"stroke:#000000; stroke-linecap:butt; stroke-linejoin:round; stroke-width:4; stroke-opacity:1; fill:none\" points=\"\n  845.877,1486.45 845.877,1467.55 \n  \"/>\n<polyline clip-path=\"url(#clip520)\" style=\"stroke:#000000; stroke-linecap:butt; stroke-linejoin:round; stroke-width:4; stroke-opacity:1; fill:none\" points=\"\n  1328.85,1486.45 1328.85,1467.55 \n  \"/>\n<polyline clip-path=\"url(#clip520)\" style=\"stroke:#000000; stroke-linecap:butt; stroke-linejoin:round; stroke-width:4; stroke-opacity:1; fill:none\" points=\"\n  1811.83,1486.45 1811.83,1467.55 \n  \"/>\n<polyline clip-path=\"url(#clip520)\" style=\"stroke:#000000; stroke-linecap:butt; stroke-linejoin:round; stroke-width:4; stroke-opacity:1; fill:none\" points=\"\n  2294.8,1486.45 2294.8,1467.55 \n  \"/>\n<path clip-path=\"url(#clip520)\" d=\"M325.207 1517.37 Q321.596 1517.37 319.767 1520.93 Q317.962 1524.47 317.962 1531.6 Q317.962 1538.71 319.767 1542.27 Q321.596 1545.82 325.207 1545.82 Q328.841 1545.82 330.647 1542.27 Q332.475 1538.71 332.475 1531.6 Q332.475 1524.47 330.647 1520.93 Q328.841 1517.37 325.207 1517.37 M325.207 1513.66 Q331.017 1513.66 334.073 1518.27 Q337.151 1522.85 337.151 1531.6 Q337.151 1540.33 334.073 1544.94 Q331.017 1549.52 325.207 1549.52 Q319.397 1549.52 316.318 1544.94 Q313.263 1540.33 313.263 1531.6 Q313.263 1522.85 316.318 1518.27 Q319.397 1513.66 325.207 1513.66 Z\" fill=\"#000000\" fill-rule=\"evenodd\" fill-opacity=\"1\" /><path clip-path=\"url(#clip520)\" d=\"M345.369 1542.97 L350.253 1542.97 L350.253 1548.85 L345.369 1548.85 L345.369 1542.97 Z\" fill=\"#000000\" fill-rule=\"evenodd\" fill-opacity=\"1\" /><path clip-path=\"url(#clip520)\" d=\"M370.438 1517.37 Q366.827 1517.37 364.998 1520.93 Q363.193 1524.47 363.193 1531.6 Q363.193 1538.71 364.998 1542.27 Q366.827 1545.82 370.438 1545.82 Q374.072 1545.82 375.878 1542.27 Q377.707 1538.71 377.707 1531.6 Q377.707 1524.47 375.878 1520.93 Q374.072 1517.37 370.438 1517.37 M370.438 1513.66 Q376.248 1513.66 379.304 1518.27 Q382.383 1522.85 382.383 1531.6 Q382.383 1540.33 379.304 1544.94 Q376.248 1549.52 370.438 1549.52 Q364.628 1549.52 361.549 1544.94 Q358.494 1540.33 358.494 1531.6 Q358.494 1522.85 361.549 1518.27 Q364.628 1513.66 370.438 1513.66 Z\" fill=\"#000000\" fill-rule=\"evenodd\" fill-opacity=\"1\" /><path clip-path=\"url(#clip520)\" d=\"M400.6 1517.37 Q396.989 1517.37 395.16 1520.93 Q393.355 1524.47 393.355 1531.6 Q393.355 1538.71 395.16 1542.27 Q396.989 1545.82 400.6 1545.82 Q404.234 1545.82 406.04 1542.27 Q407.869 1538.71 407.869 1531.6 Q407.869 1524.47 406.04 1520.93 Q404.234 1517.37 400.6 1517.37 M400.6 1513.66 Q406.41 1513.66 409.466 1518.27 Q412.544 1522.85 412.544 1531.6 Q412.544 1540.33 409.466 1544.94 Q406.41 1549.52 400.6 1549.52 Q394.79 1549.52 391.711 1544.94 Q388.656 1540.33 388.656 1531.6 Q388.656 1522.85 391.711 1518.27 Q394.79 1513.66 400.6 1513.66 Z\" fill=\"#000000\" fill-rule=\"evenodd\" fill-opacity=\"1\" /><path clip-path=\"url(#clip520)\" d=\"M808.679 1517.37 Q805.067 1517.37 803.239 1520.93 Q801.433 1524.47 801.433 1531.6 Q801.433 1538.71 803.239 1542.27 Q805.067 1545.82 808.679 1545.82 Q812.313 1545.82 814.118 1542.27 Q815.947 1538.71 815.947 1531.6 Q815.947 1524.47 814.118 1520.93 Q812.313 1517.37 808.679 1517.37 M808.679 1513.66 Q814.489 1513.66 817.544 1518.27 Q820.623 1522.85 820.623 1531.6 Q820.623 1540.33 817.544 1544.94 Q814.489 1549.52 808.679 1549.52 Q802.868 1549.52 799.79 1544.94 Q796.734 1540.33 796.734 1531.6 Q796.734 1522.85 799.79 1518.27 Q802.868 1513.66 808.679 1513.66 Z\" fill=\"#000000\" fill-rule=\"evenodd\" fill-opacity=\"1\" /><path clip-path=\"url(#clip520)\" d=\"M828.84 1542.97 L833.725 1542.97 L833.725 1548.85 L828.84 1548.85 L828.84 1542.97 Z\" fill=\"#000000\" fill-rule=\"evenodd\" fill-opacity=\"1\" /><path clip-path=\"url(#clip520)\" d=\"M847.938 1544.91 L864.257 1544.91 L864.257 1548.85 L842.313 1548.85 L842.313 1544.91 Q844.975 1542.16 849.558 1537.53 Q854.164 1532.88 855.345 1531.53 Q857.59 1529.01 858.47 1527.27 Q859.373 1525.51 859.373 1523.82 Q859.373 1521.07 857.428 1519.33 Q855.507 1517.6 852.405 1517.6 Q850.206 1517.6 847.752 1518.36 Q845.322 1519.13 842.544 1520.68 L842.544 1515.95 Q845.368 1514.82 847.822 1514.24 Q850.276 1513.66 852.313 1513.66 Q857.683 1513.66 860.877 1516.35 Q864.072 1519.03 864.072 1523.52 Q864.072 1525.65 863.262 1527.57 Q862.475 1529.47 860.368 1532.07 Q859.789 1532.74 856.688 1535.95 Q853.586 1539.15 847.938 1544.91 Z\" fill=\"#000000\" fill-rule=\"evenodd\" fill-opacity=\"1\" /><path clip-path=\"url(#clip520)\" d=\"M874.118 1514.29 L892.474 1514.29 L892.474 1518.22 L878.4 1518.22 L878.4 1526.7 Q879.419 1526.35 880.437 1526.19 Q881.456 1526 882.474 1526 Q888.261 1526 891.641 1529.17 Q895.021 1532.34 895.021 1537.76 Q895.021 1543.34 891.548 1546.44 Q888.076 1549.52 881.757 1549.52 Q879.581 1549.52 877.312 1549.15 Q875.067 1548.78 872.66 1548.04 L872.66 1543.34 Q874.743 1544.47 876.965 1545.03 Q879.187 1545.58 881.664 1545.58 Q885.669 1545.58 888.007 1543.48 Q890.345 1541.37 890.345 1537.76 Q890.345 1534.15 888.007 1532.04 Q885.669 1529.94 881.664 1529.94 Q879.789 1529.94 877.914 1530.35 Q876.062 1530.77 874.118 1531.65 L874.118 1514.29 Z\" fill=\"#000000\" fill-rule=\"evenodd\" fill-opacity=\"1\" /><path clip-path=\"url(#clip520)\" d=\"M1291.15 1517.37 Q1287.54 1517.37 1285.71 1520.93 Q1283.91 1524.47 1283.91 1531.6 Q1283.91 1538.71 1285.71 1542.27 Q1287.54 1545.82 1291.15 1545.82 Q1294.79 1545.82 1296.59 1542.27 Q1298.42 1538.71 1298.42 1531.6 Q1298.42 1524.47 1296.59 1520.93 Q1294.79 1517.37 1291.15 1517.37 M1291.15 1513.66 Q1296.96 1513.66 1300.02 1518.27 Q1303.1 1522.85 1303.1 1531.6 Q1303.1 1540.33 1300.02 1544.94 Q1296.96 1549.52 1291.15 1549.52 Q1285.34 1549.52 1282.27 1544.94 Q1279.21 1540.33 1279.21 1531.6 Q1279.21 1522.85 1282.27 1518.27 Q1285.34 1513.66 1291.15 1513.66 Z\" fill=\"#000000\" fill-rule=\"evenodd\" fill-opacity=\"1\" /><path clip-path=\"url(#clip520)\" d=\"M1311.32 1542.97 L1316.2 1542.97 L1316.2 1548.85 L1311.32 1548.85 L1311.32 1542.97 Z\" fill=\"#000000\" fill-rule=\"evenodd\" fill-opacity=\"1\" /><path clip-path=\"url(#clip520)\" d=\"M1326.43 1514.29 L1344.79 1514.29 L1344.79 1518.22 L1330.71 1518.22 L1330.71 1526.7 Q1331.73 1526.35 1332.75 1526.19 Q1333.77 1526 1334.79 1526 Q1340.58 1526 1343.96 1529.17 Q1347.33 1532.34 1347.33 1537.76 Q1347.33 1543.34 1343.86 1546.44 Q1340.39 1549.52 1334.07 1549.52 Q1331.9 1549.52 1329.63 1549.15 Q1327.38 1548.78 1324.97 1548.04 L1324.97 1543.34 Q1327.06 1544.47 1329.28 1545.03 Q1331.5 1545.58 1333.98 1545.58 Q1337.98 1545.58 1340.32 1543.48 Q1342.66 1541.37 1342.66 1537.76 Q1342.66 1534.15 1340.32 1532.04 Q1337.98 1529.94 1333.98 1529.94 Q1332.1 1529.94 1330.23 1530.35 Q1328.38 1530.77 1326.43 1531.65 L1326.43 1514.29 Z\" fill=\"#000000\" fill-rule=\"evenodd\" fill-opacity=\"1\" /><path clip-path=\"url(#clip520)\" d=\"M1366.55 1517.37 Q1362.94 1517.37 1361.11 1520.93 Q1359.3 1524.47 1359.3 1531.6 Q1359.3 1538.71 1361.11 1542.27 Q1362.94 1545.82 1366.55 1545.82 Q1370.18 1545.82 1371.99 1542.27 Q1373.82 1538.71 1373.82 1531.6 Q1373.82 1524.47 1371.99 1520.93 Q1370.18 1517.37 1366.55 1517.37 M1366.55 1513.66 Q1372.36 1513.66 1375.41 1518.27 Q1378.49 1522.85 1378.49 1531.6 Q1378.49 1540.33 1375.41 1544.94 Q1372.36 1549.52 1366.55 1549.52 Q1360.74 1549.52 1357.66 1544.94 Q1354.6 1540.33 1354.6 1531.6 Q1354.6 1522.85 1357.66 1518.27 Q1360.74 1513.66 1366.55 1513.66 Z\" fill=\"#000000\" fill-rule=\"evenodd\" fill-opacity=\"1\" /><path clip-path=\"url(#clip520)\" d=\"M1774.63 1517.37 Q1771.02 1517.37 1769.19 1520.93 Q1767.38 1524.47 1767.38 1531.6 Q1767.38 1538.71 1769.19 1542.27 Q1771.02 1545.82 1774.63 1545.82 Q1778.26 1545.82 1780.07 1542.27 Q1781.89 1538.71 1781.89 1531.6 Q1781.89 1524.47 1780.07 1520.93 Q1778.26 1517.37 1774.63 1517.37 M1774.63 1513.66 Q1780.44 1513.66 1783.49 1518.27 Q1786.57 1522.85 1786.57 1531.6 Q1786.57 1540.33 1783.49 1544.94 Q1780.44 1549.52 1774.63 1549.52 Q1768.82 1549.52 1765.74 1544.94 Q1762.68 1540.33 1762.68 1531.6 Q1762.68 1522.85 1765.74 1518.27 Q1768.82 1513.66 1774.63 1513.66 Z\" fill=\"#000000\" fill-rule=\"evenodd\" fill-opacity=\"1\" /><path clip-path=\"url(#clip520)\" d=\"M1794.79 1542.97 L1799.67 1542.97 L1799.67 1548.85 L1794.79 1548.85 L1794.79 1542.97 Z\" fill=\"#000000\" fill-rule=\"evenodd\" fill-opacity=\"1\" /><path clip-path=\"url(#clip520)\" d=\"M1808.68 1514.29 L1830.9 1514.29 L1830.9 1516.28 L1818.35 1548.85 L1813.47 1548.85 L1825.27 1518.22 L1808.68 1518.22 L1808.68 1514.29 Z\" fill=\"#000000\" fill-rule=\"evenodd\" fill-opacity=\"1\" /><path clip-path=\"url(#clip520)\" d=\"M1840.07 1514.29 L1858.42 1514.29 L1858.42 1518.22 L1844.35 1518.22 L1844.35 1526.7 Q1845.37 1526.35 1846.39 1526.19 Q1847.4 1526 1848.42 1526 Q1854.21 1526 1857.59 1529.17 Q1860.97 1532.34 1860.97 1537.76 Q1860.97 1543.34 1857.5 1546.44 Q1854.02 1549.52 1847.7 1549.52 Q1845.53 1549.52 1843.26 1549.15 Q1841.01 1548.78 1838.61 1548.04 L1838.61 1543.34 Q1840.69 1544.47 1842.91 1545.03 Q1845.14 1545.58 1847.61 1545.58 Q1851.62 1545.58 1853.95 1543.48 Q1856.29 1541.37 1856.29 1537.76 Q1856.29 1534.15 1853.95 1532.04 Q1851.62 1529.94 1847.61 1529.94 Q1845.74 1529.94 1843.86 1530.35 Q1842.01 1530.77 1840.07 1531.65 L1840.07 1514.29 Z\" fill=\"#000000\" fill-rule=\"evenodd\" fill-opacity=\"1\" /><path clip-path=\"url(#clip520)\" d=\"M2246.87 1544.91 L2254.51 1544.91 L2254.51 1518.55 L2246.2 1520.21 L2246.2 1515.95 L2254.46 1514.29 L2259.14 1514.29 L2259.14 1544.91 L2266.78 1544.91 L2266.78 1548.85 L2246.87 1548.85 L2246.87 1544.91 Z\" fill=\"#000000\" fill-rule=\"evenodd\" fill-opacity=\"1\" /><path clip-path=\"url(#clip520)\" d=\"M2276.22 1542.97 L2281.11 1542.97 L2281.11 1548.85 L2276.22 1548.85 L2276.22 1542.97 Z\" fill=\"#000000\" fill-rule=\"evenodd\" fill-opacity=\"1\" /><path clip-path=\"url(#clip520)\" d=\"M2301.29 1517.37 Q2297.68 1517.37 2295.85 1520.93 Q2294.05 1524.47 2294.05 1531.6 Q2294.05 1538.71 2295.85 1542.27 Q2297.68 1545.82 2301.29 1545.82 Q2304.93 1545.82 2306.73 1542.27 Q2308.56 1538.71 2308.56 1531.6 Q2308.56 1524.47 2306.73 1520.93 Q2304.93 1517.37 2301.29 1517.37 M2301.29 1513.66 Q2307.1 1513.66 2310.16 1518.27 Q2313.24 1522.85 2313.24 1531.6 Q2313.24 1540.33 2310.16 1544.94 Q2307.1 1549.52 2301.29 1549.52 Q2295.48 1549.52 2292.4 1544.94 Q2289.35 1540.33 2289.35 1531.6 Q2289.35 1522.85 2292.4 1518.27 Q2295.48 1513.66 2301.29 1513.66 Z\" fill=\"#000000\" fill-rule=\"evenodd\" fill-opacity=\"1\" /><path clip-path=\"url(#clip520)\" d=\"M2331.45 1517.37 Q2327.84 1517.37 2326.01 1520.93 Q2324.21 1524.47 2324.21 1531.6 Q2324.21 1538.71 2326.01 1542.27 Q2327.84 1545.82 2331.45 1545.82 Q2335.09 1545.82 2336.89 1542.27 Q2338.72 1538.71 2338.72 1531.6 Q2338.72 1524.47 2336.89 1520.93 Q2335.09 1517.37 2331.45 1517.37 M2331.45 1513.66 Q2337.26 1513.66 2340.32 1518.27 Q2343.4 1522.85 2343.4 1531.6 Q2343.4 1540.33 2340.32 1544.94 Q2337.26 1549.52 2331.45 1549.52 Q2325.64 1549.52 2322.57 1544.94 Q2319.51 1540.33 2319.51 1531.6 Q2319.51 1522.85 2322.57 1518.27 Q2325.64 1513.66 2331.45 1513.66 Z\" fill=\"#000000\" fill-rule=\"evenodd\" fill-opacity=\"1\" /><polyline clip-path=\"url(#clip522)\" style=\"stroke:#000000; stroke-linecap:butt; stroke-linejoin:round; stroke-width:2; stroke-opacity:0.1; fill:none\" points=\"\n  304.947,1270.48 2352.76,1270.48 \n  \"/>\n<polyline clip-path=\"url(#clip522)\" style=\"stroke:#000000; stroke-linecap:butt; stroke-linejoin:round; stroke-width:2; stroke-opacity:0.1; fill:none\" points=\"\n  304.947,999.224 2352.76,999.224 \n  \"/>\n<polyline clip-path=\"url(#clip522)\" style=\"stroke:#000000; stroke-linecap:butt; stroke-linejoin:round; stroke-width:2; stroke-opacity:0.1; fill:none\" points=\"\n  304.947,727.966 2352.76,727.966 \n  \"/>\n<polyline clip-path=\"url(#clip522)\" style=\"stroke:#000000; stroke-linecap:butt; stroke-linejoin:round; stroke-width:2; stroke-opacity:0.1; fill:none\" points=\"\n  304.947,456.707 2352.76,456.707 \n  \"/>\n<polyline clip-path=\"url(#clip522)\" style=\"stroke:#000000; stroke-linecap:butt; stroke-linejoin:round; stroke-width:2; stroke-opacity:0.1; fill:none\" points=\"\n  304.947,185.449 2352.76,185.449 \n  \"/>\n<polyline clip-path=\"url(#clip520)\" style=\"stroke:#000000; stroke-linecap:butt; stroke-linejoin:round; stroke-width:4; stroke-opacity:1; fill:none\" points=\"\n  304.947,1486.45 304.947,47.2441 \n  \"/>\n<polyline clip-path=\"url(#clip520)\" style=\"stroke:#000000; stroke-linecap:butt; stroke-linejoin:round; stroke-width:4; stroke-opacity:1; fill:none\" points=\"\n  304.947,1270.48 323.844,1270.48 \n  \"/>\n<polyline clip-path=\"url(#clip520)\" style=\"stroke:#000000; stroke-linecap:butt; stroke-linejoin:round; stroke-width:4; stroke-opacity:1; fill:none\" points=\"\n  304.947,999.224 323.844,999.224 \n  \"/>\n<polyline clip-path=\"url(#clip520)\" style=\"stroke:#000000; stroke-linecap:butt; stroke-linejoin:round; stroke-width:4; stroke-opacity:1; fill:none\" points=\"\n  304.947,727.966 323.844,727.966 \n  \"/>\n<polyline clip-path=\"url(#clip520)\" style=\"stroke:#000000; stroke-linecap:butt; stroke-linejoin:round; stroke-width:4; stroke-opacity:1; fill:none\" points=\"\n  304.947,456.707 323.844,456.707 \n  \"/>\n<polyline clip-path=\"url(#clip520)\" style=\"stroke:#000000; stroke-linecap:butt; stroke-linejoin:round; stroke-width:4; stroke-opacity:1; fill:none\" points=\"\n  304.947,185.449 323.844,185.449 \n  \"/>\n<path clip-path=\"url(#clip520)\" d=\"M63.6541 1275.07 Q60.506 1275.07 58.6541 1277.22 Q56.8254 1279.37 56.8254 1283.12 Q56.8254 1286.85 58.6541 1289.03 Q60.506 1291.18 63.6541 1291.18 Q66.8022 1291.18 68.6309 1289.03 Q70.4828 1286.85 70.4828 1283.12 Q70.4828 1279.37 68.6309 1277.22 Q66.8022 1275.07 63.6541 1275.07 M72.9365 1260.41 L72.9365 1264.67 Q71.1772 1263.84 69.3717 1263.4 Q67.5893 1262.96 65.83 1262.96 Q61.2004 1262.96 58.7467 1266.09 Q56.3162 1269.21 55.969 1275.53 Q57.3347 1273.52 59.3949 1272.45 Q61.455 1271.36 63.9319 1271.36 Q69.1402 1271.36 72.1494 1274.53 Q75.1818 1277.68 75.1818 1283.12 Q75.1818 1288.45 72.0337 1291.66 Q68.8855 1294.88 63.6541 1294.88 Q57.6588 1294.88 54.4875 1290.3 Q51.3162 1285.69 51.3162 1276.96 Q51.3162 1268.77 55.2051 1263.91 Q59.0939 1259.03 65.6448 1259.03 Q67.4041 1259.03 69.1865 1259.37 Q70.992 1259.72 72.9365 1260.41 Z\" fill=\"#000000\" fill-rule=\"evenodd\" fill-opacity=\"1\" /><path clip-path=\"url(#clip520)\" d=\"M83.2373 1288.33 L88.1216 1288.33 L88.1216 1294.21 L83.2373 1294.21 L83.2373 1288.33 Z\" fill=\"#000000\" fill-rule=\"evenodd\" fill-opacity=\"1\" /><path clip-path=\"url(#clip520)\" d=\"M108.307 1262.73 Q104.696 1262.73 102.867 1266.29 Q101.061 1269.84 101.061 1276.96 Q101.061 1284.07 102.867 1287.64 Q104.696 1291.18 108.307 1291.18 Q111.941 1291.18 113.746 1287.64 Q115.575 1284.07 115.575 1276.96 Q115.575 1269.84 113.746 1266.29 Q111.941 1262.73 108.307 1262.73 M108.307 1259.03 Q114.117 1259.03 117.172 1263.63 Q120.251 1268.22 120.251 1276.96 Q120.251 1285.69 117.172 1290.3 Q114.117 1294.88 108.307 1294.88 Q102.496 1294.88 99.4178 1290.3 Q96.3623 1285.69 96.3623 1276.96 Q96.3623 1268.22 99.4178 1263.63 Q102.496 1259.03 108.307 1259.03 Z\" fill=\"#000000\" fill-rule=\"evenodd\" fill-opacity=\"1\" /><path clip-path=\"url(#clip520)\" d=\"M138.469 1262.73 Q134.857 1262.73 133.029 1266.29 Q131.223 1269.84 131.223 1276.96 Q131.223 1284.07 133.029 1287.64 Q134.857 1291.18 138.469 1291.18 Q142.103 1291.18 143.908 1287.64 Q145.737 1284.07 145.737 1276.96 Q145.737 1269.84 143.908 1266.29 Q142.103 1262.73 138.469 1262.73 M138.469 1259.03 Q144.279 1259.03 147.334 1263.63 Q150.413 1268.22 150.413 1276.96 Q150.413 1285.69 147.334 1290.3 Q144.279 1294.88 138.469 1294.88 Q132.658 1294.88 129.58 1290.3 Q126.524 1285.69 126.524 1276.96 Q126.524 1268.22 129.58 1263.63 Q132.658 1259.03 138.469 1259.03 Z\" fill=\"#000000\" fill-rule=\"evenodd\" fill-opacity=\"1\" /><path clip-path=\"url(#clip520)\" d=\"M186.802 1268.75 L176.223 1279.37 L186.802 1289.95 L184.047 1292.75 L173.422 1282.13 L162.797 1292.75 L160.066 1289.95 L170.621 1279.37 L160.066 1268.75 L162.797 1265.95 L173.422 1276.57 L184.047 1265.95 L186.802 1268.75 Z\" fill=\"#000000\" fill-rule=\"evenodd\" fill-opacity=\"1\" /><path clip-path=\"url(#clip520)\" d=\"M199.163 1290.28 L206.801 1290.28 L206.801 1263.91 L198.491 1265.58 L198.491 1261.32 L206.755 1259.65 L211.431 1259.65 L211.431 1290.28 L219.07 1290.28 L219.07 1294.21 L199.163 1294.21 L199.163 1290.28 Z\" fill=\"#000000\" fill-rule=\"evenodd\" fill-opacity=\"1\" /><path clip-path=\"url(#clip520)\" d=\"M238.514 1262.73 Q234.903 1262.73 233.074 1266.29 Q231.269 1269.84 231.269 1276.96 Q231.269 1284.07 233.074 1287.64 Q234.903 1291.18 238.514 1291.18 Q242.149 1291.18 243.954 1287.64 Q245.783 1284.07 245.783 1276.96 Q245.783 1269.84 243.954 1266.29 Q242.149 1262.73 238.514 1262.73 M238.514 1259.03 Q244.324 1259.03 247.38 1263.63 Q250.459 1268.22 250.459 1276.96 Q250.459 1285.69 247.38 1290.3 Q244.324 1294.88 238.514 1294.88 Q232.704 1294.88 229.625 1290.3 Q226.57 1285.69 226.57 1276.96 Q226.57 1268.22 229.625 1263.63 Q232.704 1259.03 238.514 1259.03 Z\" fill=\"#000000\" fill-rule=\"evenodd\" fill-opacity=\"1\" /><path clip-path=\"url(#clip520)\" d=\"M263.154 1251.66 Q265.881 1252.24 267.404 1254.09 Q268.947 1255.93 268.947 1258.64 Q268.947 1262.79 266.088 1265.07 Q263.229 1267.35 257.963 1267.35 Q256.195 1267.35 254.314 1266.99 Q252.452 1266.65 250.459 1265.95 L250.459 1262.29 Q252.039 1263.21 253.919 1263.68 Q255.8 1264.15 257.85 1264.15 Q261.424 1264.15 263.286 1262.74 Q265.166 1261.33 265.166 1258.64 Q265.166 1256.15 263.417 1254.76 Q261.687 1253.35 258.584 1253.35 L255.311 1253.35 L255.311 1250.23 L258.734 1250.23 Q261.536 1250.23 263.022 1249.12 Q264.508 1247.99 264.508 1245.89 Q264.508 1243.72 262.966 1242.58 Q261.442 1241.41 258.584 1241.41 Q257.023 1241.41 255.236 1241.75 Q253.449 1242.09 251.305 1242.8 L251.305 1239.42 Q253.468 1238.81 255.349 1238.51 Q257.248 1238.21 258.922 1238.21 Q263.248 1238.21 265.768 1240.19 Q268.288 1242.14 268.288 1245.49 Q268.288 1247.82 266.953 1249.44 Q265.618 1251.04 263.154 1251.66 Z\" fill=\"#000000\" fill-rule=\"evenodd\" fill-opacity=\"1\" /><path clip-path=\"url(#clip520)\" d=\"M53.2143 1022.23 L53.2143 1017.97 Q54.9736 1018.81 56.7791 1019.25 Q58.5847 1019.69 60.3208 1019.69 Q64.9504 1019.69 67.3809 1016.59 Q69.8346 1013.46 70.1818 1007.12 Q68.8393 1009.11 66.7791 1010.17 Q64.7189 1011.24 62.2189 1011.24 Q57.0338 1011.24 54.0014 1008.11 Q50.9921 1004.97 50.9921 999.526 Q50.9921 994.202 54.1403 990.984 Q57.2884 987.767 62.5198 987.767 Q68.5152 987.767 71.6633 992.373 Q74.8346 996.957 74.8346 1005.71 Q74.8346 1013.88 70.9457 1018.76 Q67.08 1023.62 60.5291 1023.62 Q58.7699 1023.62 56.9643 1023.28 Q55.1588 1022.93 53.2143 1022.23 M62.5198 1007.58 Q65.668 1007.58 67.4967 1005.43 Q69.3485 1003.28 69.3485 999.526 Q69.3485 995.799 67.4967 993.646 Q65.668 991.47 62.5198 991.47 Q59.3717 991.47 57.5199 993.646 Q55.6912 995.799 55.6912 999.526 Q55.6912 1003.28 57.5199 1005.43 Q59.3717 1007.58 62.5198 1007.58 Z\" fill=\"#000000\" fill-rule=\"evenodd\" fill-opacity=\"1\" /><path clip-path=\"url(#clip520)\" d=\"M83.2373 1017.07 L88.1216 1017.07 L88.1216 1022.95 L83.2373 1022.95 L83.2373 1017.07 Z\" fill=\"#000000\" fill-rule=\"evenodd\" fill-opacity=\"1\" /><path clip-path=\"url(#clip520)\" d=\"M108.307 991.47 Q104.696 991.47 102.867 995.035 Q101.061 998.577 101.061 1005.71 Q101.061 1012.81 102.867 1016.38 Q104.696 1019.92 108.307 1019.92 Q111.941 1019.92 113.746 1016.38 Q115.575 1012.81 115.575 1005.71 Q115.575 998.577 113.746 995.035 Q111.941 991.47 108.307 991.47 M108.307 987.767 Q114.117 987.767 117.172 992.373 Q120.251 996.957 120.251 1005.71 Q120.251 1014.43 117.172 1019.04 Q114.117 1023.62 108.307 1023.62 Q102.496 1023.62 99.4178 1019.04 Q96.3623 1014.43 96.3623 1005.71 Q96.3623 996.957 99.4178 992.373 Q102.496 987.767 108.307 987.767 Z\" fill=\"#000000\" fill-rule=\"evenodd\" fill-opacity=\"1\" /><path clip-path=\"url(#clip520)\" d=\"M138.469 991.47 Q134.857 991.47 133.029 995.035 Q131.223 998.577 131.223 1005.71 Q131.223 1012.81 133.029 1016.38 Q134.857 1019.92 138.469 1019.92 Q142.103 1019.92 143.908 1016.38 Q145.737 1012.81 145.737 1005.71 Q145.737 998.577 143.908 995.035 Q142.103 991.47 138.469 991.47 M138.469 987.767 Q144.279 987.767 147.334 992.373 Q150.413 996.957 150.413 1005.71 Q150.413 1014.43 147.334 1019.04 Q144.279 1023.62 138.469 1023.62 Q132.658 1023.62 129.58 1019.04 Q126.524 1014.43 126.524 1005.71 Q126.524 996.957 129.58 992.373 Q132.658 987.767 138.469 987.767 Z\" fill=\"#000000\" fill-rule=\"evenodd\" fill-opacity=\"1\" /><path clip-path=\"url(#clip520)\" d=\"M186.802 997.489 L176.223 1008.11 L186.802 1018.69 L184.047 1021.49 L173.422 1010.87 L162.797 1021.49 L160.066 1018.69 L170.621 1008.11 L160.066 997.489 L162.797 994.688 L173.422 1005.31 L184.047 994.688 L186.802 997.489 Z\" fill=\"#000000\" fill-rule=\"evenodd\" fill-opacity=\"1\" /><path clip-path=\"url(#clip520)\" d=\"M199.163 1019.02 L206.801 1019.02 L206.801 992.651 L198.491 994.318 L198.491 990.058 L206.755 988.392 L211.431 988.392 L211.431 1019.02 L219.07 1019.02 L219.07 1022.95 L199.163 1022.95 L199.163 1019.02 Z\" fill=\"#000000\" fill-rule=\"evenodd\" fill-opacity=\"1\" /><path clip-path=\"url(#clip520)\" d=\"M238.514 991.47 Q234.903 991.47 233.074 995.035 Q231.269 998.577 231.269 1005.71 Q231.269 1012.81 233.074 1016.38 Q234.903 1019.92 238.514 1019.92 Q242.149 1019.92 243.954 1016.38 Q245.783 1012.81 245.783 1005.71 Q245.783 998.577 243.954 995.035 Q242.149 991.47 238.514 991.47 M238.514 987.767 Q244.324 987.767 247.38 992.373 Q250.459 996.957 250.459 1005.71 Q250.459 1014.43 247.38 1019.04 Q244.324 1023.62 238.514 1023.62 Q232.704 1023.62 229.625 1019.04 Q226.57 1014.43 226.57 1005.71 Q226.57 996.957 229.625 992.373 Q232.704 987.767 238.514 987.767 Z\" fill=\"#000000\" fill-rule=\"evenodd\" fill-opacity=\"1\" /><path clip-path=\"url(#clip520)\" d=\"M263.154 980.401 Q265.881 980.984 267.404 982.827 Q268.947 984.67 268.947 987.379 Q268.947 991.535 266.088 993.811 Q263.229 996.087 257.963 996.087 Q256.195 996.087 254.314 995.729 Q252.452 995.391 250.459 994.695 L250.459 991.027 Q252.039 991.949 253.919 992.419 Q255.8 992.889 257.85 992.889 Q261.424 992.889 263.286 991.479 Q265.166 990.068 265.166 987.379 Q265.166 984.896 263.417 983.504 Q261.687 982.094 258.584 982.094 L255.311 982.094 L255.311 978.972 L258.734 978.972 Q261.536 978.972 263.022 977.862 Q264.508 976.734 264.508 974.627 Q264.508 972.464 262.966 971.317 Q261.442 970.151 258.584 970.151 Q257.023 970.151 255.236 970.489 Q253.449 970.828 251.305 971.543 L251.305 968.157 Q253.468 967.555 255.349 967.254 Q257.248 966.954 258.922 966.954 Q263.248 966.954 265.768 968.928 Q268.288 970.884 268.288 974.232 Q268.288 976.564 266.953 978.182 Q265.618 979.78 263.154 980.401 Z\" fill=\"#000000\" fill-rule=\"evenodd\" fill-opacity=\"1\" /><path clip-path=\"url(#clip520)\" d=\"M51.9108 747.758 L59.5497 747.758 L59.5497 721.392 L51.2395 723.059 L51.2395 718.8 L59.5034 717.133 L64.1793 717.133 L64.1793 747.758 L71.8181 747.758 L71.8181 751.693 L51.9108 751.693 L51.9108 747.758 Z\" fill=\"#000000\" fill-rule=\"evenodd\" fill-opacity=\"1\" /><path clip-path=\"url(#clip520)\" d=\"M81.2625 745.814 L86.1467 745.814 L86.1467 751.693 L81.2625 751.693 L81.2625 745.814 Z\" fill=\"#000000\" fill-rule=\"evenodd\" fill-opacity=\"1\" /><path clip-path=\"url(#clip520)\" d=\"M100.36 747.758 L116.679 747.758 L116.679 751.693 L94.7347 751.693 L94.7347 747.758 Q97.3967 745.003 101.98 740.374 Q106.586 735.721 107.767 734.378 Q110.012 731.855 110.892 730.119 Q111.795 728.36 111.795 726.67 Q111.795 723.916 109.85 722.179 Q107.929 720.443 104.827 720.443 Q102.628 720.443 100.174 721.207 Q97.7439 721.971 94.9661 723.522 L94.9661 718.8 Q97.7902 717.666 100.244 717.087 Q102.698 716.508 104.735 716.508 Q110.105 716.508 113.299 719.193 Q116.494 721.879 116.494 726.369 Q116.494 728.499 115.684 730.42 Q114.897 732.318 112.79 734.911 Q112.211 735.582 109.11 738.8 Q106.008 741.994 100.36 747.758 Z\" fill=\"#000000\" fill-rule=\"evenodd\" fill-opacity=\"1\" /><path clip-path=\"url(#clip520)\" d=\"M136.494 720.212 Q132.883 720.212 131.054 723.777 Q129.248 727.318 129.248 734.448 Q129.248 741.554 131.054 745.119 Q132.883 748.661 136.494 748.661 Q140.128 748.661 141.933 745.119 Q143.762 741.554 143.762 734.448 Q143.762 727.318 141.933 723.777 Q140.128 720.212 136.494 720.212 M136.494 716.508 Q142.304 716.508 145.359 721.115 Q148.438 725.698 148.438 734.448 Q148.438 743.175 145.359 747.781 Q142.304 752.364 136.494 752.364 Q130.684 752.364 127.605 747.781 Q124.549 743.175 124.549 734.448 Q124.549 725.698 127.605 721.115 Q130.684 716.508 136.494 716.508 Z\" fill=\"#000000\" fill-rule=\"evenodd\" fill-opacity=\"1\" /><path clip-path=\"url(#clip520)\" d=\"M184.827 726.23 L174.248 736.855 L184.827 747.434 L182.072 750.235 L171.447 739.61 L160.822 750.235 L158.091 747.434 L168.646 736.855 L158.091 726.23 L160.822 723.429 L171.447 734.054 L182.072 723.429 L184.827 726.23 Z\" fill=\"#000000\" fill-rule=\"evenodd\" fill-opacity=\"1\" /><path clip-path=\"url(#clip520)\" d=\"M197.188 747.758 L204.827 747.758 L204.827 721.392 L196.517 723.059 L196.517 718.8 L204.78 717.133 L209.456 717.133 L209.456 747.758 L217.095 747.758 L217.095 751.693 L197.188 751.693 L197.188 747.758 Z\" fill=\"#000000\" fill-rule=\"evenodd\" fill-opacity=\"1\" /><path clip-path=\"url(#clip520)\" d=\"M236.539 720.212 Q232.928 720.212 231.1 723.777 Q229.294 727.318 229.294 734.448 Q229.294 741.554 231.1 745.119 Q232.928 748.661 236.539 748.661 Q240.174 748.661 241.979 745.119 Q243.808 741.554 243.808 734.448 Q243.808 727.318 241.979 723.777 Q240.174 720.212 236.539 720.212 M236.539 716.508 Q242.35 716.508 245.405 721.115 Q248.484 725.698 248.484 734.448 Q248.484 743.175 245.405 747.781 Q242.35 752.364 236.539 752.364 Q230.729 752.364 227.651 747.781 Q224.595 743.175 224.595 734.448 Q224.595 725.698 227.651 721.115 Q230.729 716.508 236.539 716.508 Z\" fill=\"#000000\" fill-rule=\"evenodd\" fill-opacity=\"1\" /><path clip-path=\"url(#clip520)\" d=\"M261.16 699.513 L251.568 714.503 L261.16 714.503 L261.16 699.513 M260.163 696.203 L264.941 696.203 L264.941 714.503 L268.947 714.503 L268.947 717.662 L264.941 717.662 L264.941 724.283 L261.16 724.283 L261.16 717.662 L248.484 717.662 L248.484 713.995 L260.163 696.203 Z\" fill=\"#000000\" fill-rule=\"evenodd\" fill-opacity=\"1\" /><path clip-path=\"url(#clip520)\" d=\"M51.9108 476.499 L59.5497 476.499 L59.5497 450.134 L51.2395 451.801 L51.2395 447.541 L59.5034 445.875 L64.1793 445.875 L64.1793 476.499 L71.8181 476.499 L71.8181 480.435 L51.9108 480.435 L51.9108 476.499 Z\" fill=\"#000000\" fill-rule=\"evenodd\" fill-opacity=\"1\" /><path clip-path=\"url(#clip520)\" d=\"M81.2625 474.555 L86.1467 474.555 L86.1467 480.435 L81.2625 480.435 L81.2625 474.555 Z\" fill=\"#000000\" fill-rule=\"evenodd\" fill-opacity=\"1\" /><path clip-path=\"url(#clip520)\" d=\"M96.3782 445.875 L114.735 445.875 L114.735 449.81 L100.661 449.81 L100.661 458.282 Q101.679 457.935 102.698 457.773 Q103.716 457.588 104.735 457.588 Q110.522 457.588 113.901 460.759 Q117.281 463.93 117.281 469.347 Q117.281 474.925 113.809 478.027 Q110.336 481.106 104.017 481.106 Q101.841 481.106 99.5726 480.736 Q97.3272 480.365 94.9198 479.624 L94.9198 474.925 Q97.0032 476.06 99.2254 476.615 Q101.448 477.171 103.924 477.171 Q107.929 477.171 110.267 475.064 Q112.605 472.958 112.605 469.347 Q112.605 465.736 110.267 463.629 Q107.929 461.523 103.924 461.523 Q102.049 461.523 100.174 461.939 Q98.3226 462.356 96.3782 463.236 L96.3782 445.875 Z\" fill=\"#000000\" fill-rule=\"evenodd\" fill-opacity=\"1\" /><path clip-path=\"url(#clip520)\" d=\"M136.494 448.953 Q132.883 448.953 131.054 452.518 Q129.248 456.06 129.248 463.189 Q129.248 470.296 131.054 473.861 Q132.883 477.402 136.494 477.402 Q140.128 477.402 141.933 473.861 Q143.762 470.296 143.762 463.189 Q143.762 456.06 141.933 452.518 Q140.128 448.953 136.494 448.953 M136.494 445.25 Q142.304 445.25 145.359 449.856 Q148.438 454.439 148.438 463.189 Q148.438 471.916 145.359 476.523 Q142.304 481.106 136.494 481.106 Q130.684 481.106 127.605 476.523 Q124.549 471.916 124.549 463.189 Q124.549 454.439 127.605 449.856 Q130.684 445.25 136.494 445.25 Z\" fill=\"#000000\" fill-rule=\"evenodd\" fill-opacity=\"1\" /><path clip-path=\"url(#clip520)\" d=\"M184.827 454.972 L174.248 465.597 L184.827 476.175 L182.072 478.976 L171.447 468.351 L160.822 478.976 L158.091 476.175 L168.646 465.597 L158.091 454.972 L160.822 452.171 L171.447 462.796 L182.072 452.171 L184.827 454.972 Z\" fill=\"#000000\" fill-rule=\"evenodd\" fill-opacity=\"1\" /><path clip-path=\"url(#clip520)\" d=\"M197.188 476.499 L204.827 476.499 L204.827 450.134 L196.517 451.801 L196.517 447.541 L204.78 445.875 L209.456 445.875 L209.456 476.499 L217.095 476.499 L217.095 480.435 L197.188 480.435 L197.188 476.499 Z\" fill=\"#000000\" fill-rule=\"evenodd\" fill-opacity=\"1\" /><path clip-path=\"url(#clip520)\" d=\"M236.539 448.953 Q232.928 448.953 231.1 452.518 Q229.294 456.06 229.294 463.189 Q229.294 470.296 231.1 473.861 Q232.928 477.402 236.539 477.402 Q240.174 477.402 241.979 473.861 Q243.808 470.296 243.808 463.189 Q243.808 456.06 241.979 452.518 Q240.174 448.953 236.539 448.953 M236.539 445.25 Q242.35 445.25 245.405 449.856 Q248.484 454.439 248.484 463.189 Q248.484 471.916 245.405 476.523 Q242.35 481.106 236.539 481.106 Q230.729 481.106 227.651 476.523 Q224.595 471.916 224.595 463.189 Q224.595 454.439 227.651 449.856 Q230.729 445.25 236.539 445.25 Z\" fill=\"#000000\" fill-rule=\"evenodd\" fill-opacity=\"1\" /><path clip-path=\"url(#clip520)\" d=\"M261.16 428.254 L251.568 443.244 L261.16 443.244 L261.16 428.254 M260.163 424.944 L264.941 424.944 L264.941 443.244 L268.947 443.244 L268.947 446.404 L264.941 446.404 L264.941 453.024 L261.16 453.024 L261.16 446.404 L248.484 446.404 L248.484 442.736 L260.163 424.944 Z\" fill=\"#000000\" fill-rule=\"evenodd\" fill-opacity=\"1\" /><path clip-path=\"url(#clip520)\" d=\"M51.9108 205.241 L59.5497 205.241 L59.5497 178.875 L51.2395 180.542 L51.2395 176.283 L59.5034 174.616 L64.1793 174.616 L64.1793 205.241 L71.8181 205.241 L71.8181 209.176 L51.9108 209.176 L51.9108 205.241 Z\" fill=\"#000000\" fill-rule=\"evenodd\" fill-opacity=\"1\" /><path clip-path=\"url(#clip520)\" d=\"M81.2625 203.297 L86.1467 203.297 L86.1467 209.176 L81.2625 209.176 L81.2625 203.297 Z\" fill=\"#000000\" fill-rule=\"evenodd\" fill-opacity=\"1\" /><path clip-path=\"url(#clip520)\" d=\"M106.332 192.764 Q102.999 192.764 101.077 194.547 Q99.1791 196.329 99.1791 199.454 Q99.1791 202.579 101.077 204.361 Q102.999 206.144 106.332 206.144 Q109.665 206.144 111.586 204.361 Q113.508 202.556 113.508 199.454 Q113.508 196.329 111.586 194.547 Q109.688 192.764 106.332 192.764 M101.656 190.773 Q98.6467 190.033 96.9569 187.973 Q95.2902 185.912 95.2902 182.949 Q95.2902 178.806 98.23 176.399 Q101.193 173.991 106.332 173.991 Q111.494 173.991 114.434 176.399 Q117.373 178.806 117.373 182.949 Q117.373 185.912 115.684 187.973 Q114.017 190.033 111.031 190.773 Q114.41 191.56 116.285 193.852 Q118.184 196.144 118.184 199.454 Q118.184 204.477 115.105 207.162 Q112.049 209.847 106.332 209.847 Q100.614 209.847 97.5356 207.162 Q94.48 204.477 94.48 199.454 Q94.48 196.144 96.3782 193.852 Q98.2763 191.56 101.656 190.773 M99.943 183.389 Q99.943 186.074 101.61 187.579 Q103.299 189.084 106.332 189.084 Q109.341 189.084 111.031 187.579 Q112.744 186.074 112.744 183.389 Q112.744 180.704 111.031 179.199 Q109.341 177.695 106.332 177.695 Q103.299 177.695 101.61 179.199 Q99.943 180.704 99.943 183.389 Z\" fill=\"#000000\" fill-rule=\"evenodd\" fill-opacity=\"1\" /><path clip-path=\"url(#clip520)\" d=\"M136.494 177.695 Q132.883 177.695 131.054 181.26 Q129.248 184.801 129.248 191.931 Q129.248 199.037 131.054 202.602 Q132.883 206.144 136.494 206.144 Q140.128 206.144 141.933 202.602 Q143.762 199.037 143.762 191.931 Q143.762 184.801 141.933 181.26 Q140.128 177.695 136.494 177.695 M136.494 173.991 Q142.304 173.991 145.359 178.598 Q148.438 183.181 148.438 191.931 Q148.438 200.658 145.359 205.264 Q142.304 209.847 136.494 209.847 Q130.684 209.847 127.605 205.264 Q124.549 200.658 124.549 191.931 Q124.549 183.181 127.605 178.598 Q130.684 173.991 136.494 173.991 Z\" fill=\"#000000\" fill-rule=\"evenodd\" fill-opacity=\"1\" /><path clip-path=\"url(#clip520)\" d=\"M184.827 183.713 L174.248 194.338 L184.827 204.917 L182.072 207.718 L171.447 197.093 L160.822 207.718 L158.091 204.917 L168.646 194.338 L158.091 183.713 L160.822 180.912 L171.447 191.537 L182.072 180.912 L184.827 183.713 Z\" fill=\"#000000\" fill-rule=\"evenodd\" fill-opacity=\"1\" /><path clip-path=\"url(#clip520)\" d=\"M197.188 205.241 L204.827 205.241 L204.827 178.875 L196.517 180.542 L196.517 176.283 L204.78 174.616 L209.456 174.616 L209.456 205.241 L217.095 205.241 L217.095 209.176 L197.188 209.176 L197.188 205.241 Z\" fill=\"#000000\" fill-rule=\"evenodd\" fill-opacity=\"1\" /><path clip-path=\"url(#clip520)\" d=\"M236.539 177.695 Q232.928 177.695 231.1 181.26 Q229.294 184.801 229.294 191.931 Q229.294 199.037 231.1 202.602 Q232.928 206.144 236.539 206.144 Q240.174 206.144 241.979 202.602 Q243.808 199.037 243.808 191.931 Q243.808 184.801 241.979 181.26 Q240.174 177.695 236.539 177.695 M236.539 173.991 Q242.35 173.991 245.405 178.598 Q248.484 183.181 248.484 191.931 Q248.484 200.658 245.405 205.264 Q242.35 209.847 236.539 209.847 Q230.729 209.847 227.651 205.264 Q224.595 200.658 224.595 191.931 Q224.595 183.181 227.651 178.598 Q230.729 173.991 236.539 173.991 Z\" fill=\"#000000\" fill-rule=\"evenodd\" fill-opacity=\"1\" /><path clip-path=\"url(#clip520)\" d=\"M261.16 156.996 L251.568 171.986 L261.16 171.986 L261.16 156.996 M260.163 153.686 L264.941 153.686 L264.941 171.986 L268.947 171.986 L268.947 175.145 L264.941 175.145 L264.941 181.766 L261.16 181.766 L261.16 175.145 L248.484 175.145 L248.484 171.478 L260.163 153.686 Z\" fill=\"#000000\" fill-rule=\"evenodd\" fill-opacity=\"1\" /><polyline clip-path=\"url(#clip522)\" style=\"stroke:#009af9; stroke-linecap:butt; stroke-linejoin:round; stroke-width:4; stroke-opacity:1; fill:none\" points=\"\n  362.904,1107.37 459.498,1185.49 556.093,1250.23 652.688,1315.15 749.283,1366.15 845.877,1407.92 942.472,1433.96 1039.07,1445.72 1135.66,1444.81 1232.26,1418.41 \n  1328.85,1380.61 1425.45,1297.79 1522.04,1205.38 1618.64,1122.38 1715.23,998.501 1811.83,858.712 1908.42,739.901 2005.01,598.485 2101.61,463.941 2198.2,256.88 \n  2294.8,87.9763 \n  \"/>\n<path clip-path=\"url(#clip520)\" d=\"\nM2004.53 198.898 L2284.5 198.898 L2284.5 95.2176 L2004.53 95.2176  Z\n  \" fill=\"#ffffff\" fill-rule=\"evenodd\" fill-opacity=\"1\"/>\n<polyline clip-path=\"url(#clip520)\" style=\"stroke:#000000; stroke-linecap:butt; stroke-linejoin:round; stroke-width:4; stroke-opacity:1; fill:none\" points=\"\n  2004.53,198.898 2284.5,198.898 2284.5,95.2176 2004.53,95.2176 2004.53,198.898 \n  \"/>\n<polyline clip-path=\"url(#clip520)\" style=\"stroke:#009af9; stroke-linecap:butt; stroke-linejoin:round; stroke-width:4; stroke-opacity:1; fill:none\" points=\"\n  2027.28,147.058 2163.81,147.058 \n  \"/>\n<path clip-path=\"url(#clip520)\" d=\"M2200.4 166.745 Q2198.6 171.375 2196.88 172.787 Q2195.17 174.199 2192.3 174.199 L2188.9 174.199 L2188.9 170.634 L2191.4 170.634 Q2193.16 170.634 2194.13 169.8 Q2195.1 168.967 2196.28 165.865 L2197.04 163.921 L2186.56 138.412 L2191.07 138.412 L2199.17 158.689 L2207.28 138.412 L2211.79 138.412 L2200.4 166.745 Z\" fill=\"#000000\" fill-rule=\"evenodd\" fill-opacity=\"1\" /><path clip-path=\"url(#clip520)\" d=\"M2219.08 160.402 L2226.72 160.402 L2226.72 134.037 L2218.41 135.703 L2218.41 131.444 L2226.67 129.778 L2231.35 129.778 L2231.35 160.402 L2238.99 160.402 L2238.99 164.338 L2219.08 164.338 L2219.08 160.402 Z\" fill=\"#000000\" fill-rule=\"evenodd\" fill-opacity=\"1\" /></svg>\n",
      "text/html": [
       "<?xml version=\"1.0\" encoding=\"utf-8\"?>\n",
       "<svg xmlns=\"http://www.w3.org/2000/svg\" xmlns:xlink=\"http://www.w3.org/1999/xlink\" width=\"600\" height=\"400\" viewBox=\"0 0 2400 1600\">\n",
       "<defs>\n",
       "  <clipPath id=\"clip570\">\n",
       "    <rect x=\"0\" y=\"0\" width=\"2400\" height=\"1600\"/>\n",
       "  </clipPath>\n",
       "</defs>\n",
       "<path clip-path=\"url(#clip570)\" d=\"\n",
       "M0 1600 L2400 1600 L2400 0 L0 0  Z\n",
       "  \" fill=\"#ffffff\" fill-rule=\"evenodd\" fill-opacity=\"1\"/>\n",
       "<defs>\n",
       "  <clipPath id=\"clip571\">\n",
       "    <rect x=\"480\" y=\"0\" width=\"1681\" height=\"1600\"/>\n",
       "  </clipPath>\n",
       "</defs>\n",
       "<path clip-path=\"url(#clip570)\" d=\"\n",
       "M304.947 1486.45 L2352.76 1486.45 L2352.76 47.2441 L304.947 47.2441  Z\n",
       "  \" fill=\"#ffffff\" fill-rule=\"evenodd\" fill-opacity=\"1\"/>\n",
       "<defs>\n",
       "  <clipPath id=\"clip572\">\n",
       "    <rect x=\"304\" y=\"47\" width=\"2049\" height=\"1440\"/>\n",
       "  </clipPath>\n",
       "</defs>\n",
       "<polyline clip-path=\"url(#clip572)\" style=\"stroke:#000000; stroke-linecap:butt; stroke-linejoin:round; stroke-width:2; stroke-opacity:0.1; fill:none\" points=\"\n",
       "  362.904,1486.45 362.904,47.2441 \n",
       "  \"/>\n",
       "<polyline clip-path=\"url(#clip572)\" style=\"stroke:#000000; stroke-linecap:butt; stroke-linejoin:round; stroke-width:2; stroke-opacity:0.1; fill:none\" points=\"\n",
       "  845.877,1486.45 845.877,47.2441 \n",
       "  \"/>\n",
       "<polyline clip-path=\"url(#clip572)\" style=\"stroke:#000000; stroke-linecap:butt; stroke-linejoin:round; stroke-width:2; stroke-opacity:0.1; fill:none\" points=\"\n",
       "  1328.85,1486.45 1328.85,47.2441 \n",
       "  \"/>\n",
       "<polyline clip-path=\"url(#clip572)\" style=\"stroke:#000000; stroke-linecap:butt; stroke-linejoin:round; stroke-width:2; stroke-opacity:0.1; fill:none\" points=\"\n",
       "  1811.83,1486.45 1811.83,47.2441 \n",
       "  \"/>\n",
       "<polyline clip-path=\"url(#clip572)\" style=\"stroke:#000000; stroke-linecap:butt; stroke-linejoin:round; stroke-width:2; stroke-opacity:0.1; fill:none\" points=\"\n",
       "  2294.8,1486.45 2294.8,47.2441 \n",
       "  \"/>\n",
       "<polyline clip-path=\"url(#clip570)\" style=\"stroke:#000000; stroke-linecap:butt; stroke-linejoin:round; stroke-width:4; stroke-opacity:1; fill:none\" points=\"\n",
       "  304.947,1486.45 2352.76,1486.45 \n",
       "  \"/>\n",
       "<polyline clip-path=\"url(#clip570)\" style=\"stroke:#000000; stroke-linecap:butt; stroke-linejoin:round; stroke-width:4; stroke-opacity:1; fill:none\" points=\"\n",
       "  362.904,1486.45 362.904,1467.55 \n",
       "  \"/>\n",
       "<polyline clip-path=\"url(#clip570)\" style=\"stroke:#000000; stroke-linecap:butt; stroke-linejoin:round; stroke-width:4; stroke-opacity:1; fill:none\" points=\"\n",
       "  845.877,1486.45 845.877,1467.55 \n",
       "  \"/>\n",
       "<polyline clip-path=\"url(#clip570)\" style=\"stroke:#000000; stroke-linecap:butt; stroke-linejoin:round; stroke-width:4; stroke-opacity:1; fill:none\" points=\"\n",
       "  1328.85,1486.45 1328.85,1467.55 \n",
       "  \"/>\n",
       "<polyline clip-path=\"url(#clip570)\" style=\"stroke:#000000; stroke-linecap:butt; stroke-linejoin:round; stroke-width:4; stroke-opacity:1; fill:none\" points=\"\n",
       "  1811.83,1486.45 1811.83,1467.55 \n",
       "  \"/>\n",
       "<polyline clip-path=\"url(#clip570)\" style=\"stroke:#000000; stroke-linecap:butt; stroke-linejoin:round; stroke-width:4; stroke-opacity:1; fill:none\" points=\"\n",
       "  2294.8,1486.45 2294.8,1467.55 \n",
       "  \"/>\n",
       "<path clip-path=\"url(#clip570)\" d=\"M325.207 1517.37 Q321.596 1517.37 319.767 1520.93 Q317.962 1524.47 317.962 1531.6 Q317.962 1538.71 319.767 1542.27 Q321.596 1545.82 325.207 1545.82 Q328.841 1545.82 330.647 1542.27 Q332.475 1538.71 332.475 1531.6 Q332.475 1524.47 330.647 1520.93 Q328.841 1517.37 325.207 1517.37 M325.207 1513.66 Q331.017 1513.66 334.073 1518.27 Q337.151 1522.85 337.151 1531.6 Q337.151 1540.33 334.073 1544.94 Q331.017 1549.52 325.207 1549.52 Q319.397 1549.52 316.318 1544.94 Q313.263 1540.33 313.263 1531.6 Q313.263 1522.85 316.318 1518.27 Q319.397 1513.66 325.207 1513.66 Z\" fill=\"#000000\" fill-rule=\"evenodd\" fill-opacity=\"1\" /><path clip-path=\"url(#clip570)\" d=\"M345.369 1542.97 L350.253 1542.97 L350.253 1548.85 L345.369 1548.85 L345.369 1542.97 Z\" fill=\"#000000\" fill-rule=\"evenodd\" fill-opacity=\"1\" /><path clip-path=\"url(#clip570)\" d=\"M370.438 1517.37 Q366.827 1517.37 364.998 1520.93 Q363.193 1524.47 363.193 1531.6 Q363.193 1538.71 364.998 1542.27 Q366.827 1545.82 370.438 1545.82 Q374.072 1545.82 375.878 1542.27 Q377.707 1538.71 377.707 1531.6 Q377.707 1524.47 375.878 1520.93 Q374.072 1517.37 370.438 1517.37 M370.438 1513.66 Q376.248 1513.66 379.304 1518.27 Q382.383 1522.85 382.383 1531.6 Q382.383 1540.33 379.304 1544.94 Q376.248 1549.52 370.438 1549.52 Q364.628 1549.52 361.549 1544.94 Q358.494 1540.33 358.494 1531.6 Q358.494 1522.85 361.549 1518.27 Q364.628 1513.66 370.438 1513.66 Z\" fill=\"#000000\" fill-rule=\"evenodd\" fill-opacity=\"1\" /><path clip-path=\"url(#clip570)\" d=\"M400.6 1517.37 Q396.989 1517.37 395.16 1520.93 Q393.355 1524.47 393.355 1531.6 Q393.355 1538.71 395.16 1542.27 Q396.989 1545.82 400.6 1545.82 Q404.234 1545.82 406.04 1542.27 Q407.869 1538.71 407.869 1531.6 Q407.869 1524.47 406.04 1520.93 Q404.234 1517.37 400.6 1517.37 M400.6 1513.66 Q406.41 1513.66 409.466 1518.27 Q412.544 1522.85 412.544 1531.6 Q412.544 1540.33 409.466 1544.94 Q406.41 1549.52 400.6 1549.52 Q394.79 1549.52 391.711 1544.94 Q388.656 1540.33 388.656 1531.6 Q388.656 1522.85 391.711 1518.27 Q394.79 1513.66 400.6 1513.66 Z\" fill=\"#000000\" fill-rule=\"evenodd\" fill-opacity=\"1\" /><path clip-path=\"url(#clip570)\" d=\"M808.679 1517.37 Q805.067 1517.37 803.239 1520.93 Q801.433 1524.47 801.433 1531.6 Q801.433 1538.71 803.239 1542.27 Q805.067 1545.82 808.679 1545.82 Q812.313 1545.82 814.118 1542.27 Q815.947 1538.71 815.947 1531.6 Q815.947 1524.47 814.118 1520.93 Q812.313 1517.37 808.679 1517.37 M808.679 1513.66 Q814.489 1513.66 817.544 1518.27 Q820.623 1522.85 820.623 1531.6 Q820.623 1540.33 817.544 1544.94 Q814.489 1549.52 808.679 1549.52 Q802.868 1549.52 799.79 1544.94 Q796.734 1540.33 796.734 1531.6 Q796.734 1522.85 799.79 1518.27 Q802.868 1513.66 808.679 1513.66 Z\" fill=\"#000000\" fill-rule=\"evenodd\" fill-opacity=\"1\" /><path clip-path=\"url(#clip570)\" d=\"M828.84 1542.97 L833.725 1542.97 L833.725 1548.85 L828.84 1548.85 L828.84 1542.97 Z\" fill=\"#000000\" fill-rule=\"evenodd\" fill-opacity=\"1\" /><path clip-path=\"url(#clip570)\" d=\"M847.938 1544.91 L864.257 1544.91 L864.257 1548.85 L842.313 1548.85 L842.313 1544.91 Q844.975 1542.16 849.558 1537.53 Q854.164 1532.88 855.345 1531.53 Q857.59 1529.01 858.47 1527.27 Q859.373 1525.51 859.373 1523.82 Q859.373 1521.07 857.428 1519.33 Q855.507 1517.6 852.405 1517.6 Q850.206 1517.6 847.752 1518.36 Q845.322 1519.13 842.544 1520.68 L842.544 1515.95 Q845.368 1514.82 847.822 1514.24 Q850.276 1513.66 852.313 1513.66 Q857.683 1513.66 860.877 1516.35 Q864.072 1519.03 864.072 1523.52 Q864.072 1525.65 863.262 1527.57 Q862.475 1529.47 860.368 1532.07 Q859.789 1532.74 856.688 1535.95 Q853.586 1539.15 847.938 1544.91 Z\" fill=\"#000000\" fill-rule=\"evenodd\" fill-opacity=\"1\" /><path clip-path=\"url(#clip570)\" d=\"M874.118 1514.29 L892.474 1514.29 L892.474 1518.22 L878.4 1518.22 L878.4 1526.7 Q879.419 1526.35 880.437 1526.19 Q881.456 1526 882.474 1526 Q888.261 1526 891.641 1529.17 Q895.021 1532.34 895.021 1537.76 Q895.021 1543.34 891.548 1546.44 Q888.076 1549.52 881.757 1549.52 Q879.581 1549.52 877.312 1549.15 Q875.067 1548.78 872.66 1548.04 L872.66 1543.34 Q874.743 1544.47 876.965 1545.03 Q879.187 1545.58 881.664 1545.58 Q885.669 1545.58 888.007 1543.48 Q890.345 1541.37 890.345 1537.76 Q890.345 1534.15 888.007 1532.04 Q885.669 1529.94 881.664 1529.94 Q879.789 1529.94 877.914 1530.35 Q876.062 1530.77 874.118 1531.65 L874.118 1514.29 Z\" fill=\"#000000\" fill-rule=\"evenodd\" fill-opacity=\"1\" /><path clip-path=\"url(#clip570)\" d=\"M1291.15 1517.37 Q1287.54 1517.37 1285.71 1520.93 Q1283.91 1524.47 1283.91 1531.6 Q1283.91 1538.71 1285.71 1542.27 Q1287.54 1545.82 1291.15 1545.82 Q1294.79 1545.82 1296.59 1542.27 Q1298.42 1538.71 1298.42 1531.6 Q1298.42 1524.47 1296.59 1520.93 Q1294.79 1517.37 1291.15 1517.37 M1291.15 1513.66 Q1296.96 1513.66 1300.02 1518.27 Q1303.1 1522.85 1303.1 1531.6 Q1303.1 1540.33 1300.02 1544.94 Q1296.96 1549.52 1291.15 1549.52 Q1285.34 1549.52 1282.27 1544.94 Q1279.21 1540.33 1279.21 1531.6 Q1279.21 1522.85 1282.27 1518.27 Q1285.34 1513.66 1291.15 1513.66 Z\" fill=\"#000000\" fill-rule=\"evenodd\" fill-opacity=\"1\" /><path clip-path=\"url(#clip570)\" d=\"M1311.32 1542.97 L1316.2 1542.97 L1316.2 1548.85 L1311.32 1548.85 L1311.32 1542.97 Z\" fill=\"#000000\" fill-rule=\"evenodd\" fill-opacity=\"1\" /><path clip-path=\"url(#clip570)\" d=\"M1326.43 1514.29 L1344.79 1514.29 L1344.79 1518.22 L1330.71 1518.22 L1330.71 1526.7 Q1331.73 1526.35 1332.75 1526.19 Q1333.77 1526 1334.79 1526 Q1340.58 1526 1343.96 1529.17 Q1347.33 1532.34 1347.33 1537.76 Q1347.33 1543.34 1343.86 1546.44 Q1340.39 1549.52 1334.07 1549.52 Q1331.9 1549.52 1329.63 1549.15 Q1327.38 1548.78 1324.97 1548.04 L1324.97 1543.34 Q1327.06 1544.47 1329.28 1545.03 Q1331.5 1545.58 1333.98 1545.58 Q1337.98 1545.58 1340.32 1543.48 Q1342.66 1541.37 1342.66 1537.76 Q1342.66 1534.15 1340.32 1532.04 Q1337.98 1529.94 1333.98 1529.94 Q1332.1 1529.94 1330.23 1530.35 Q1328.38 1530.77 1326.43 1531.65 L1326.43 1514.29 Z\" fill=\"#000000\" fill-rule=\"evenodd\" fill-opacity=\"1\" /><path clip-path=\"url(#clip570)\" d=\"M1366.55 1517.37 Q1362.94 1517.37 1361.11 1520.93 Q1359.3 1524.47 1359.3 1531.6 Q1359.3 1538.71 1361.11 1542.27 Q1362.94 1545.82 1366.55 1545.82 Q1370.18 1545.82 1371.99 1542.27 Q1373.82 1538.71 1373.82 1531.6 Q1373.82 1524.47 1371.99 1520.93 Q1370.18 1517.37 1366.55 1517.37 M1366.55 1513.66 Q1372.36 1513.66 1375.41 1518.27 Q1378.49 1522.85 1378.49 1531.6 Q1378.49 1540.33 1375.41 1544.94 Q1372.36 1549.52 1366.55 1549.52 Q1360.74 1549.52 1357.66 1544.94 Q1354.6 1540.33 1354.6 1531.6 Q1354.6 1522.85 1357.66 1518.27 Q1360.74 1513.66 1366.55 1513.66 Z\" fill=\"#000000\" fill-rule=\"evenodd\" fill-opacity=\"1\" /><path clip-path=\"url(#clip570)\" d=\"M1774.63 1517.37 Q1771.02 1517.37 1769.19 1520.93 Q1767.38 1524.47 1767.38 1531.6 Q1767.38 1538.71 1769.19 1542.27 Q1771.02 1545.82 1774.63 1545.82 Q1778.26 1545.82 1780.07 1542.27 Q1781.89 1538.71 1781.89 1531.6 Q1781.89 1524.47 1780.07 1520.93 Q1778.26 1517.37 1774.63 1517.37 M1774.63 1513.66 Q1780.44 1513.66 1783.49 1518.27 Q1786.57 1522.85 1786.57 1531.6 Q1786.57 1540.33 1783.49 1544.94 Q1780.44 1549.52 1774.63 1549.52 Q1768.82 1549.52 1765.74 1544.94 Q1762.68 1540.33 1762.68 1531.6 Q1762.68 1522.85 1765.74 1518.27 Q1768.82 1513.66 1774.63 1513.66 Z\" fill=\"#000000\" fill-rule=\"evenodd\" fill-opacity=\"1\" /><path clip-path=\"url(#clip570)\" d=\"M1794.79 1542.97 L1799.67 1542.97 L1799.67 1548.85 L1794.79 1548.85 L1794.79 1542.97 Z\" fill=\"#000000\" fill-rule=\"evenodd\" fill-opacity=\"1\" /><path clip-path=\"url(#clip570)\" d=\"M1808.68 1514.29 L1830.9 1514.29 L1830.9 1516.28 L1818.35 1548.85 L1813.47 1548.85 L1825.27 1518.22 L1808.68 1518.22 L1808.68 1514.29 Z\" fill=\"#000000\" fill-rule=\"evenodd\" fill-opacity=\"1\" /><path clip-path=\"url(#clip570)\" d=\"M1840.07 1514.29 L1858.42 1514.29 L1858.42 1518.22 L1844.35 1518.22 L1844.35 1526.7 Q1845.37 1526.35 1846.39 1526.19 Q1847.4 1526 1848.42 1526 Q1854.21 1526 1857.59 1529.17 Q1860.97 1532.34 1860.97 1537.76 Q1860.97 1543.34 1857.5 1546.44 Q1854.02 1549.52 1847.7 1549.52 Q1845.53 1549.52 1843.26 1549.15 Q1841.01 1548.78 1838.61 1548.04 L1838.61 1543.34 Q1840.69 1544.47 1842.91 1545.03 Q1845.14 1545.58 1847.61 1545.58 Q1851.62 1545.58 1853.95 1543.48 Q1856.29 1541.37 1856.29 1537.76 Q1856.29 1534.15 1853.95 1532.04 Q1851.62 1529.94 1847.61 1529.94 Q1845.74 1529.94 1843.86 1530.35 Q1842.01 1530.77 1840.07 1531.65 L1840.07 1514.29 Z\" fill=\"#000000\" fill-rule=\"evenodd\" fill-opacity=\"1\" /><path clip-path=\"url(#clip570)\" d=\"M2246.87 1544.91 L2254.51 1544.91 L2254.51 1518.55 L2246.2 1520.21 L2246.2 1515.95 L2254.46 1514.29 L2259.14 1514.29 L2259.14 1544.91 L2266.78 1544.91 L2266.78 1548.85 L2246.87 1548.85 L2246.87 1544.91 Z\" fill=\"#000000\" fill-rule=\"evenodd\" fill-opacity=\"1\" /><path clip-path=\"url(#clip570)\" d=\"M2276.22 1542.97 L2281.11 1542.97 L2281.11 1548.85 L2276.22 1548.85 L2276.22 1542.97 Z\" fill=\"#000000\" fill-rule=\"evenodd\" fill-opacity=\"1\" /><path clip-path=\"url(#clip570)\" d=\"M2301.29 1517.37 Q2297.68 1517.37 2295.85 1520.93 Q2294.05 1524.47 2294.05 1531.6 Q2294.05 1538.71 2295.85 1542.27 Q2297.68 1545.82 2301.29 1545.82 Q2304.93 1545.82 2306.73 1542.27 Q2308.56 1538.71 2308.56 1531.6 Q2308.56 1524.47 2306.73 1520.93 Q2304.93 1517.37 2301.29 1517.37 M2301.29 1513.66 Q2307.1 1513.66 2310.16 1518.27 Q2313.24 1522.85 2313.24 1531.6 Q2313.24 1540.33 2310.16 1544.94 Q2307.1 1549.52 2301.29 1549.52 Q2295.48 1549.52 2292.4 1544.94 Q2289.35 1540.33 2289.35 1531.6 Q2289.35 1522.85 2292.4 1518.27 Q2295.48 1513.66 2301.29 1513.66 Z\" fill=\"#000000\" fill-rule=\"evenodd\" fill-opacity=\"1\" /><path clip-path=\"url(#clip570)\" d=\"M2331.45 1517.37 Q2327.84 1517.37 2326.01 1520.93 Q2324.21 1524.47 2324.21 1531.6 Q2324.21 1538.71 2326.01 1542.27 Q2327.84 1545.82 2331.45 1545.82 Q2335.09 1545.82 2336.89 1542.27 Q2338.72 1538.71 2338.72 1531.6 Q2338.72 1524.47 2336.89 1520.93 Q2335.09 1517.37 2331.45 1517.37 M2331.45 1513.66 Q2337.26 1513.66 2340.32 1518.27 Q2343.4 1522.85 2343.4 1531.6 Q2343.4 1540.33 2340.32 1544.94 Q2337.26 1549.52 2331.45 1549.52 Q2325.64 1549.52 2322.57 1544.94 Q2319.51 1540.33 2319.51 1531.6 Q2319.51 1522.85 2322.57 1518.27 Q2325.64 1513.66 2331.45 1513.66 Z\" fill=\"#000000\" fill-rule=\"evenodd\" fill-opacity=\"1\" /><polyline clip-path=\"url(#clip572)\" style=\"stroke:#000000; stroke-linecap:butt; stroke-linejoin:round; stroke-width:2; stroke-opacity:0.1; fill:none\" points=\"\n",
       "  304.947,1270.48 2352.76,1270.48 \n",
       "  \"/>\n",
       "<polyline clip-path=\"url(#clip572)\" style=\"stroke:#000000; stroke-linecap:butt; stroke-linejoin:round; stroke-width:2; stroke-opacity:0.1; fill:none\" points=\"\n",
       "  304.947,999.224 2352.76,999.224 \n",
       "  \"/>\n",
       "<polyline clip-path=\"url(#clip572)\" style=\"stroke:#000000; stroke-linecap:butt; stroke-linejoin:round; stroke-width:2; stroke-opacity:0.1; fill:none\" points=\"\n",
       "  304.947,727.966 2352.76,727.966 \n",
       "  \"/>\n",
       "<polyline clip-path=\"url(#clip572)\" style=\"stroke:#000000; stroke-linecap:butt; stroke-linejoin:round; stroke-width:2; stroke-opacity:0.1; fill:none\" points=\"\n",
       "  304.947,456.707 2352.76,456.707 \n",
       "  \"/>\n",
       "<polyline clip-path=\"url(#clip572)\" style=\"stroke:#000000; stroke-linecap:butt; stroke-linejoin:round; stroke-width:2; stroke-opacity:0.1; fill:none\" points=\"\n",
       "  304.947,185.449 2352.76,185.449 \n",
       "  \"/>\n",
       "<polyline clip-path=\"url(#clip570)\" style=\"stroke:#000000; stroke-linecap:butt; stroke-linejoin:round; stroke-width:4; stroke-opacity:1; fill:none\" points=\"\n",
       "  304.947,1486.45 304.947,47.2441 \n",
       "  \"/>\n",
       "<polyline clip-path=\"url(#clip570)\" style=\"stroke:#000000; stroke-linecap:butt; stroke-linejoin:round; stroke-width:4; stroke-opacity:1; fill:none\" points=\"\n",
       "  304.947,1270.48 323.844,1270.48 \n",
       "  \"/>\n",
       "<polyline clip-path=\"url(#clip570)\" style=\"stroke:#000000; stroke-linecap:butt; stroke-linejoin:round; stroke-width:4; stroke-opacity:1; fill:none\" points=\"\n",
       "  304.947,999.224 323.844,999.224 \n",
       "  \"/>\n",
       "<polyline clip-path=\"url(#clip570)\" style=\"stroke:#000000; stroke-linecap:butt; stroke-linejoin:round; stroke-width:4; stroke-opacity:1; fill:none\" points=\"\n",
       "  304.947,727.966 323.844,727.966 \n",
       "  \"/>\n",
       "<polyline clip-path=\"url(#clip570)\" style=\"stroke:#000000; stroke-linecap:butt; stroke-linejoin:round; stroke-width:4; stroke-opacity:1; fill:none\" points=\"\n",
       "  304.947,456.707 323.844,456.707 \n",
       "  \"/>\n",
       "<polyline clip-path=\"url(#clip570)\" style=\"stroke:#000000; stroke-linecap:butt; stroke-linejoin:round; stroke-width:4; stroke-opacity:1; fill:none\" points=\"\n",
       "  304.947,185.449 323.844,185.449 \n",
       "  \"/>\n",
       "<path clip-path=\"url(#clip570)\" d=\"M63.6541 1275.07 Q60.506 1275.07 58.6541 1277.22 Q56.8254 1279.37 56.8254 1283.12 Q56.8254 1286.85 58.6541 1289.03 Q60.506 1291.18 63.6541 1291.18 Q66.8022 1291.18 68.6309 1289.03 Q70.4828 1286.85 70.4828 1283.12 Q70.4828 1279.37 68.6309 1277.22 Q66.8022 1275.07 63.6541 1275.07 M72.9365 1260.41 L72.9365 1264.67 Q71.1772 1263.84 69.3717 1263.4 Q67.5893 1262.96 65.83 1262.96 Q61.2004 1262.96 58.7467 1266.09 Q56.3162 1269.21 55.969 1275.53 Q57.3347 1273.52 59.3949 1272.45 Q61.455 1271.36 63.9319 1271.36 Q69.1402 1271.36 72.1494 1274.53 Q75.1818 1277.68 75.1818 1283.12 Q75.1818 1288.45 72.0337 1291.66 Q68.8855 1294.88 63.6541 1294.88 Q57.6588 1294.88 54.4875 1290.3 Q51.3162 1285.69 51.3162 1276.96 Q51.3162 1268.77 55.2051 1263.91 Q59.0939 1259.03 65.6448 1259.03 Q67.4041 1259.03 69.1865 1259.37 Q70.992 1259.72 72.9365 1260.41 Z\" fill=\"#000000\" fill-rule=\"evenodd\" fill-opacity=\"1\" /><path clip-path=\"url(#clip570)\" d=\"M83.2373 1288.33 L88.1216 1288.33 L88.1216 1294.21 L83.2373 1294.21 L83.2373 1288.33 Z\" fill=\"#000000\" fill-rule=\"evenodd\" fill-opacity=\"1\" /><path clip-path=\"url(#clip570)\" d=\"M108.307 1262.73 Q104.696 1262.73 102.867 1266.29 Q101.061 1269.84 101.061 1276.96 Q101.061 1284.07 102.867 1287.64 Q104.696 1291.18 108.307 1291.18 Q111.941 1291.18 113.746 1287.64 Q115.575 1284.07 115.575 1276.96 Q115.575 1269.84 113.746 1266.29 Q111.941 1262.73 108.307 1262.73 M108.307 1259.03 Q114.117 1259.03 117.172 1263.63 Q120.251 1268.22 120.251 1276.96 Q120.251 1285.69 117.172 1290.3 Q114.117 1294.88 108.307 1294.88 Q102.496 1294.88 99.4178 1290.3 Q96.3623 1285.69 96.3623 1276.96 Q96.3623 1268.22 99.4178 1263.63 Q102.496 1259.03 108.307 1259.03 Z\" fill=\"#000000\" fill-rule=\"evenodd\" fill-opacity=\"1\" /><path clip-path=\"url(#clip570)\" d=\"M138.469 1262.73 Q134.857 1262.73 133.029 1266.29 Q131.223 1269.84 131.223 1276.96 Q131.223 1284.07 133.029 1287.64 Q134.857 1291.18 138.469 1291.18 Q142.103 1291.18 143.908 1287.64 Q145.737 1284.07 145.737 1276.96 Q145.737 1269.84 143.908 1266.29 Q142.103 1262.73 138.469 1262.73 M138.469 1259.03 Q144.279 1259.03 147.334 1263.63 Q150.413 1268.22 150.413 1276.96 Q150.413 1285.69 147.334 1290.3 Q144.279 1294.88 138.469 1294.88 Q132.658 1294.88 129.58 1290.3 Q126.524 1285.69 126.524 1276.96 Q126.524 1268.22 129.58 1263.63 Q132.658 1259.03 138.469 1259.03 Z\" fill=\"#000000\" fill-rule=\"evenodd\" fill-opacity=\"1\" /><path clip-path=\"url(#clip570)\" d=\"M186.802 1268.75 L176.223 1279.37 L186.802 1289.95 L184.047 1292.75 L173.422 1282.13 L162.797 1292.75 L160.066 1289.95 L170.621 1279.37 L160.066 1268.75 L162.797 1265.95 L173.422 1276.57 L184.047 1265.95 L186.802 1268.75 Z\" fill=\"#000000\" fill-rule=\"evenodd\" fill-opacity=\"1\" /><path clip-path=\"url(#clip570)\" d=\"M199.163 1290.28 L206.801 1290.28 L206.801 1263.91 L198.491 1265.58 L198.491 1261.32 L206.755 1259.65 L211.431 1259.65 L211.431 1290.28 L219.07 1290.28 L219.07 1294.21 L199.163 1294.21 L199.163 1290.28 Z\" fill=\"#000000\" fill-rule=\"evenodd\" fill-opacity=\"1\" /><path clip-path=\"url(#clip570)\" d=\"M238.514 1262.73 Q234.903 1262.73 233.074 1266.29 Q231.269 1269.84 231.269 1276.96 Q231.269 1284.07 233.074 1287.64 Q234.903 1291.18 238.514 1291.18 Q242.149 1291.18 243.954 1287.64 Q245.783 1284.07 245.783 1276.96 Q245.783 1269.84 243.954 1266.29 Q242.149 1262.73 238.514 1262.73 M238.514 1259.03 Q244.324 1259.03 247.38 1263.63 Q250.459 1268.22 250.459 1276.96 Q250.459 1285.69 247.38 1290.3 Q244.324 1294.88 238.514 1294.88 Q232.704 1294.88 229.625 1290.3 Q226.57 1285.69 226.57 1276.96 Q226.57 1268.22 229.625 1263.63 Q232.704 1259.03 238.514 1259.03 Z\" fill=\"#000000\" fill-rule=\"evenodd\" fill-opacity=\"1\" /><path clip-path=\"url(#clip570)\" d=\"M263.154 1251.66 Q265.881 1252.24 267.404 1254.09 Q268.947 1255.93 268.947 1258.64 Q268.947 1262.79 266.088 1265.07 Q263.229 1267.35 257.963 1267.35 Q256.195 1267.35 254.314 1266.99 Q252.452 1266.65 250.459 1265.95 L250.459 1262.29 Q252.039 1263.21 253.919 1263.68 Q255.8 1264.15 257.85 1264.15 Q261.424 1264.15 263.286 1262.74 Q265.166 1261.33 265.166 1258.64 Q265.166 1256.15 263.417 1254.76 Q261.687 1253.35 258.584 1253.35 L255.311 1253.35 L255.311 1250.23 L258.734 1250.23 Q261.536 1250.23 263.022 1249.12 Q264.508 1247.99 264.508 1245.89 Q264.508 1243.72 262.966 1242.58 Q261.442 1241.41 258.584 1241.41 Q257.023 1241.41 255.236 1241.75 Q253.449 1242.09 251.305 1242.8 L251.305 1239.42 Q253.468 1238.81 255.349 1238.51 Q257.248 1238.21 258.922 1238.21 Q263.248 1238.21 265.768 1240.19 Q268.288 1242.14 268.288 1245.49 Q268.288 1247.82 266.953 1249.44 Q265.618 1251.04 263.154 1251.66 Z\" fill=\"#000000\" fill-rule=\"evenodd\" fill-opacity=\"1\" /><path clip-path=\"url(#clip570)\" d=\"M53.2143 1022.23 L53.2143 1017.97 Q54.9736 1018.81 56.7791 1019.25 Q58.5847 1019.69 60.3208 1019.69 Q64.9504 1019.69 67.3809 1016.59 Q69.8346 1013.46 70.1818 1007.12 Q68.8393 1009.11 66.7791 1010.17 Q64.7189 1011.24 62.2189 1011.24 Q57.0338 1011.24 54.0014 1008.11 Q50.9921 1004.97 50.9921 999.526 Q50.9921 994.202 54.1403 990.984 Q57.2884 987.767 62.5198 987.767 Q68.5152 987.767 71.6633 992.373 Q74.8346 996.957 74.8346 1005.71 Q74.8346 1013.88 70.9457 1018.76 Q67.08 1023.62 60.5291 1023.62 Q58.7699 1023.62 56.9643 1023.28 Q55.1588 1022.93 53.2143 1022.23 M62.5198 1007.58 Q65.668 1007.58 67.4967 1005.43 Q69.3485 1003.28 69.3485 999.526 Q69.3485 995.799 67.4967 993.646 Q65.668 991.47 62.5198 991.47 Q59.3717 991.47 57.5199 993.646 Q55.6912 995.799 55.6912 999.526 Q55.6912 1003.28 57.5199 1005.43 Q59.3717 1007.58 62.5198 1007.58 Z\" fill=\"#000000\" fill-rule=\"evenodd\" fill-opacity=\"1\" /><path clip-path=\"url(#clip570)\" d=\"M83.2373 1017.07 L88.1216 1017.07 L88.1216 1022.95 L83.2373 1022.95 L83.2373 1017.07 Z\" fill=\"#000000\" fill-rule=\"evenodd\" fill-opacity=\"1\" /><path clip-path=\"url(#clip570)\" d=\"M108.307 991.47 Q104.696 991.47 102.867 995.035 Q101.061 998.577 101.061 1005.71 Q101.061 1012.81 102.867 1016.38 Q104.696 1019.92 108.307 1019.92 Q111.941 1019.92 113.746 1016.38 Q115.575 1012.81 115.575 1005.71 Q115.575 998.577 113.746 995.035 Q111.941 991.47 108.307 991.47 M108.307 987.767 Q114.117 987.767 117.172 992.373 Q120.251 996.957 120.251 1005.71 Q120.251 1014.43 117.172 1019.04 Q114.117 1023.62 108.307 1023.62 Q102.496 1023.62 99.4178 1019.04 Q96.3623 1014.43 96.3623 1005.71 Q96.3623 996.957 99.4178 992.373 Q102.496 987.767 108.307 987.767 Z\" fill=\"#000000\" fill-rule=\"evenodd\" fill-opacity=\"1\" /><path clip-path=\"url(#clip570)\" d=\"M138.469 991.47 Q134.857 991.47 133.029 995.035 Q131.223 998.577 131.223 1005.71 Q131.223 1012.81 133.029 1016.38 Q134.857 1019.92 138.469 1019.92 Q142.103 1019.92 143.908 1016.38 Q145.737 1012.81 145.737 1005.71 Q145.737 998.577 143.908 995.035 Q142.103 991.47 138.469 991.47 M138.469 987.767 Q144.279 987.767 147.334 992.373 Q150.413 996.957 150.413 1005.71 Q150.413 1014.43 147.334 1019.04 Q144.279 1023.62 138.469 1023.62 Q132.658 1023.62 129.58 1019.04 Q126.524 1014.43 126.524 1005.71 Q126.524 996.957 129.58 992.373 Q132.658 987.767 138.469 987.767 Z\" fill=\"#000000\" fill-rule=\"evenodd\" fill-opacity=\"1\" /><path clip-path=\"url(#clip570)\" d=\"M186.802 997.489 L176.223 1008.11 L186.802 1018.69 L184.047 1021.49 L173.422 1010.87 L162.797 1021.49 L160.066 1018.69 L170.621 1008.11 L160.066 997.489 L162.797 994.688 L173.422 1005.31 L184.047 994.688 L186.802 997.489 Z\" fill=\"#000000\" fill-rule=\"evenodd\" fill-opacity=\"1\" /><path clip-path=\"url(#clip570)\" d=\"M199.163 1019.02 L206.801 1019.02 L206.801 992.651 L198.491 994.318 L198.491 990.058 L206.755 988.392 L211.431 988.392 L211.431 1019.02 L219.07 1019.02 L219.07 1022.95 L199.163 1022.95 L199.163 1019.02 Z\" fill=\"#000000\" fill-rule=\"evenodd\" fill-opacity=\"1\" /><path clip-path=\"url(#clip570)\" d=\"M238.514 991.47 Q234.903 991.47 233.074 995.035 Q231.269 998.577 231.269 1005.71 Q231.269 1012.81 233.074 1016.38 Q234.903 1019.92 238.514 1019.92 Q242.149 1019.92 243.954 1016.38 Q245.783 1012.81 245.783 1005.71 Q245.783 998.577 243.954 995.035 Q242.149 991.47 238.514 991.47 M238.514 987.767 Q244.324 987.767 247.38 992.373 Q250.459 996.957 250.459 1005.71 Q250.459 1014.43 247.38 1019.04 Q244.324 1023.62 238.514 1023.62 Q232.704 1023.62 229.625 1019.04 Q226.57 1014.43 226.57 1005.71 Q226.57 996.957 229.625 992.373 Q232.704 987.767 238.514 987.767 Z\" fill=\"#000000\" fill-rule=\"evenodd\" fill-opacity=\"1\" /><path clip-path=\"url(#clip570)\" d=\"M263.154 980.401 Q265.881 980.984 267.404 982.827 Q268.947 984.67 268.947 987.379 Q268.947 991.535 266.088 993.811 Q263.229 996.087 257.963 996.087 Q256.195 996.087 254.314 995.729 Q252.452 995.391 250.459 994.695 L250.459 991.027 Q252.039 991.949 253.919 992.419 Q255.8 992.889 257.85 992.889 Q261.424 992.889 263.286 991.479 Q265.166 990.068 265.166 987.379 Q265.166 984.896 263.417 983.504 Q261.687 982.094 258.584 982.094 L255.311 982.094 L255.311 978.972 L258.734 978.972 Q261.536 978.972 263.022 977.862 Q264.508 976.734 264.508 974.627 Q264.508 972.464 262.966 971.317 Q261.442 970.151 258.584 970.151 Q257.023 970.151 255.236 970.489 Q253.449 970.828 251.305 971.543 L251.305 968.157 Q253.468 967.555 255.349 967.254 Q257.248 966.954 258.922 966.954 Q263.248 966.954 265.768 968.928 Q268.288 970.884 268.288 974.232 Q268.288 976.564 266.953 978.182 Q265.618 979.78 263.154 980.401 Z\" fill=\"#000000\" fill-rule=\"evenodd\" fill-opacity=\"1\" /><path clip-path=\"url(#clip570)\" d=\"M51.9108 747.758 L59.5497 747.758 L59.5497 721.392 L51.2395 723.059 L51.2395 718.8 L59.5034 717.133 L64.1793 717.133 L64.1793 747.758 L71.8181 747.758 L71.8181 751.693 L51.9108 751.693 L51.9108 747.758 Z\" fill=\"#000000\" fill-rule=\"evenodd\" fill-opacity=\"1\" /><path clip-path=\"url(#clip570)\" d=\"M81.2625 745.814 L86.1467 745.814 L86.1467 751.693 L81.2625 751.693 L81.2625 745.814 Z\" fill=\"#000000\" fill-rule=\"evenodd\" fill-opacity=\"1\" /><path clip-path=\"url(#clip570)\" d=\"M100.36 747.758 L116.679 747.758 L116.679 751.693 L94.7347 751.693 L94.7347 747.758 Q97.3967 745.003 101.98 740.374 Q106.586 735.721 107.767 734.378 Q110.012 731.855 110.892 730.119 Q111.795 728.36 111.795 726.67 Q111.795 723.916 109.85 722.179 Q107.929 720.443 104.827 720.443 Q102.628 720.443 100.174 721.207 Q97.7439 721.971 94.9661 723.522 L94.9661 718.8 Q97.7902 717.666 100.244 717.087 Q102.698 716.508 104.735 716.508 Q110.105 716.508 113.299 719.193 Q116.494 721.879 116.494 726.369 Q116.494 728.499 115.684 730.42 Q114.897 732.318 112.79 734.911 Q112.211 735.582 109.11 738.8 Q106.008 741.994 100.36 747.758 Z\" fill=\"#000000\" fill-rule=\"evenodd\" fill-opacity=\"1\" /><path clip-path=\"url(#clip570)\" d=\"M136.494 720.212 Q132.883 720.212 131.054 723.777 Q129.248 727.318 129.248 734.448 Q129.248 741.554 131.054 745.119 Q132.883 748.661 136.494 748.661 Q140.128 748.661 141.933 745.119 Q143.762 741.554 143.762 734.448 Q143.762 727.318 141.933 723.777 Q140.128 720.212 136.494 720.212 M136.494 716.508 Q142.304 716.508 145.359 721.115 Q148.438 725.698 148.438 734.448 Q148.438 743.175 145.359 747.781 Q142.304 752.364 136.494 752.364 Q130.684 752.364 127.605 747.781 Q124.549 743.175 124.549 734.448 Q124.549 725.698 127.605 721.115 Q130.684 716.508 136.494 716.508 Z\" fill=\"#000000\" fill-rule=\"evenodd\" fill-opacity=\"1\" /><path clip-path=\"url(#clip570)\" d=\"M184.827 726.23 L174.248 736.855 L184.827 747.434 L182.072 750.235 L171.447 739.61 L160.822 750.235 L158.091 747.434 L168.646 736.855 L158.091 726.23 L160.822 723.429 L171.447 734.054 L182.072 723.429 L184.827 726.23 Z\" fill=\"#000000\" fill-rule=\"evenodd\" fill-opacity=\"1\" /><path clip-path=\"url(#clip570)\" d=\"M197.188 747.758 L204.827 747.758 L204.827 721.392 L196.517 723.059 L196.517 718.8 L204.78 717.133 L209.456 717.133 L209.456 747.758 L217.095 747.758 L217.095 751.693 L197.188 751.693 L197.188 747.758 Z\" fill=\"#000000\" fill-rule=\"evenodd\" fill-opacity=\"1\" /><path clip-path=\"url(#clip570)\" d=\"M236.539 720.212 Q232.928 720.212 231.1 723.777 Q229.294 727.318 229.294 734.448 Q229.294 741.554 231.1 745.119 Q232.928 748.661 236.539 748.661 Q240.174 748.661 241.979 745.119 Q243.808 741.554 243.808 734.448 Q243.808 727.318 241.979 723.777 Q240.174 720.212 236.539 720.212 M236.539 716.508 Q242.35 716.508 245.405 721.115 Q248.484 725.698 248.484 734.448 Q248.484 743.175 245.405 747.781 Q242.35 752.364 236.539 752.364 Q230.729 752.364 227.651 747.781 Q224.595 743.175 224.595 734.448 Q224.595 725.698 227.651 721.115 Q230.729 716.508 236.539 716.508 Z\" fill=\"#000000\" fill-rule=\"evenodd\" fill-opacity=\"1\" /><path clip-path=\"url(#clip570)\" d=\"M261.16 699.513 L251.568 714.503 L261.16 714.503 L261.16 699.513 M260.163 696.203 L264.941 696.203 L264.941 714.503 L268.947 714.503 L268.947 717.662 L264.941 717.662 L264.941 724.283 L261.16 724.283 L261.16 717.662 L248.484 717.662 L248.484 713.995 L260.163 696.203 Z\" fill=\"#000000\" fill-rule=\"evenodd\" fill-opacity=\"1\" /><path clip-path=\"url(#clip570)\" d=\"M51.9108 476.499 L59.5497 476.499 L59.5497 450.134 L51.2395 451.801 L51.2395 447.541 L59.5034 445.875 L64.1793 445.875 L64.1793 476.499 L71.8181 476.499 L71.8181 480.435 L51.9108 480.435 L51.9108 476.499 Z\" fill=\"#000000\" fill-rule=\"evenodd\" fill-opacity=\"1\" /><path clip-path=\"url(#clip570)\" d=\"M81.2625 474.555 L86.1467 474.555 L86.1467 480.435 L81.2625 480.435 L81.2625 474.555 Z\" fill=\"#000000\" fill-rule=\"evenodd\" fill-opacity=\"1\" /><path clip-path=\"url(#clip570)\" d=\"M96.3782 445.875 L114.735 445.875 L114.735 449.81 L100.661 449.81 L100.661 458.282 Q101.679 457.935 102.698 457.773 Q103.716 457.588 104.735 457.588 Q110.522 457.588 113.901 460.759 Q117.281 463.93 117.281 469.347 Q117.281 474.925 113.809 478.027 Q110.336 481.106 104.017 481.106 Q101.841 481.106 99.5726 480.736 Q97.3272 480.365 94.9198 479.624 L94.9198 474.925 Q97.0032 476.06 99.2254 476.615 Q101.448 477.171 103.924 477.171 Q107.929 477.171 110.267 475.064 Q112.605 472.958 112.605 469.347 Q112.605 465.736 110.267 463.629 Q107.929 461.523 103.924 461.523 Q102.049 461.523 100.174 461.939 Q98.3226 462.356 96.3782 463.236 L96.3782 445.875 Z\" fill=\"#000000\" fill-rule=\"evenodd\" fill-opacity=\"1\" /><path clip-path=\"url(#clip570)\" d=\"M136.494 448.953 Q132.883 448.953 131.054 452.518 Q129.248 456.06 129.248 463.189 Q129.248 470.296 131.054 473.861 Q132.883 477.402 136.494 477.402 Q140.128 477.402 141.933 473.861 Q143.762 470.296 143.762 463.189 Q143.762 456.06 141.933 452.518 Q140.128 448.953 136.494 448.953 M136.494 445.25 Q142.304 445.25 145.359 449.856 Q148.438 454.439 148.438 463.189 Q148.438 471.916 145.359 476.523 Q142.304 481.106 136.494 481.106 Q130.684 481.106 127.605 476.523 Q124.549 471.916 124.549 463.189 Q124.549 454.439 127.605 449.856 Q130.684 445.25 136.494 445.25 Z\" fill=\"#000000\" fill-rule=\"evenodd\" fill-opacity=\"1\" /><path clip-path=\"url(#clip570)\" d=\"M184.827 454.972 L174.248 465.597 L184.827 476.175 L182.072 478.976 L171.447 468.351 L160.822 478.976 L158.091 476.175 L168.646 465.597 L158.091 454.972 L160.822 452.171 L171.447 462.796 L182.072 452.171 L184.827 454.972 Z\" fill=\"#000000\" fill-rule=\"evenodd\" fill-opacity=\"1\" /><path clip-path=\"url(#clip570)\" d=\"M197.188 476.499 L204.827 476.499 L204.827 450.134 L196.517 451.801 L196.517 447.541 L204.78 445.875 L209.456 445.875 L209.456 476.499 L217.095 476.499 L217.095 480.435 L197.188 480.435 L197.188 476.499 Z\" fill=\"#000000\" fill-rule=\"evenodd\" fill-opacity=\"1\" /><path clip-path=\"url(#clip570)\" d=\"M236.539 448.953 Q232.928 448.953 231.1 452.518 Q229.294 456.06 229.294 463.189 Q229.294 470.296 231.1 473.861 Q232.928 477.402 236.539 477.402 Q240.174 477.402 241.979 473.861 Q243.808 470.296 243.808 463.189 Q243.808 456.06 241.979 452.518 Q240.174 448.953 236.539 448.953 M236.539 445.25 Q242.35 445.25 245.405 449.856 Q248.484 454.439 248.484 463.189 Q248.484 471.916 245.405 476.523 Q242.35 481.106 236.539 481.106 Q230.729 481.106 227.651 476.523 Q224.595 471.916 224.595 463.189 Q224.595 454.439 227.651 449.856 Q230.729 445.25 236.539 445.25 Z\" fill=\"#000000\" fill-rule=\"evenodd\" fill-opacity=\"1\" /><path clip-path=\"url(#clip570)\" d=\"M261.16 428.254 L251.568 443.244 L261.16 443.244 L261.16 428.254 M260.163 424.944 L264.941 424.944 L264.941 443.244 L268.947 443.244 L268.947 446.404 L264.941 446.404 L264.941 453.024 L261.16 453.024 L261.16 446.404 L248.484 446.404 L248.484 442.736 L260.163 424.944 Z\" fill=\"#000000\" fill-rule=\"evenodd\" fill-opacity=\"1\" /><path clip-path=\"url(#clip570)\" d=\"M51.9108 205.241 L59.5497 205.241 L59.5497 178.875 L51.2395 180.542 L51.2395 176.283 L59.5034 174.616 L64.1793 174.616 L64.1793 205.241 L71.8181 205.241 L71.8181 209.176 L51.9108 209.176 L51.9108 205.241 Z\" fill=\"#000000\" fill-rule=\"evenodd\" fill-opacity=\"1\" /><path clip-path=\"url(#clip570)\" d=\"M81.2625 203.297 L86.1467 203.297 L86.1467 209.176 L81.2625 209.176 L81.2625 203.297 Z\" fill=\"#000000\" fill-rule=\"evenodd\" fill-opacity=\"1\" /><path clip-path=\"url(#clip570)\" d=\"M106.332 192.764 Q102.999 192.764 101.077 194.547 Q99.1791 196.329 99.1791 199.454 Q99.1791 202.579 101.077 204.361 Q102.999 206.144 106.332 206.144 Q109.665 206.144 111.586 204.361 Q113.508 202.556 113.508 199.454 Q113.508 196.329 111.586 194.547 Q109.688 192.764 106.332 192.764 M101.656 190.773 Q98.6467 190.033 96.9569 187.973 Q95.2902 185.912 95.2902 182.949 Q95.2902 178.806 98.23 176.399 Q101.193 173.991 106.332 173.991 Q111.494 173.991 114.434 176.399 Q117.373 178.806 117.373 182.949 Q117.373 185.912 115.684 187.973 Q114.017 190.033 111.031 190.773 Q114.41 191.56 116.285 193.852 Q118.184 196.144 118.184 199.454 Q118.184 204.477 115.105 207.162 Q112.049 209.847 106.332 209.847 Q100.614 209.847 97.5356 207.162 Q94.48 204.477 94.48 199.454 Q94.48 196.144 96.3782 193.852 Q98.2763 191.56 101.656 190.773 M99.943 183.389 Q99.943 186.074 101.61 187.579 Q103.299 189.084 106.332 189.084 Q109.341 189.084 111.031 187.579 Q112.744 186.074 112.744 183.389 Q112.744 180.704 111.031 179.199 Q109.341 177.695 106.332 177.695 Q103.299 177.695 101.61 179.199 Q99.943 180.704 99.943 183.389 Z\" fill=\"#000000\" fill-rule=\"evenodd\" fill-opacity=\"1\" /><path clip-path=\"url(#clip570)\" d=\"M136.494 177.695 Q132.883 177.695 131.054 181.26 Q129.248 184.801 129.248 191.931 Q129.248 199.037 131.054 202.602 Q132.883 206.144 136.494 206.144 Q140.128 206.144 141.933 202.602 Q143.762 199.037 143.762 191.931 Q143.762 184.801 141.933 181.26 Q140.128 177.695 136.494 177.695 M136.494 173.991 Q142.304 173.991 145.359 178.598 Q148.438 183.181 148.438 191.931 Q148.438 200.658 145.359 205.264 Q142.304 209.847 136.494 209.847 Q130.684 209.847 127.605 205.264 Q124.549 200.658 124.549 191.931 Q124.549 183.181 127.605 178.598 Q130.684 173.991 136.494 173.991 Z\" fill=\"#000000\" fill-rule=\"evenodd\" fill-opacity=\"1\" /><path clip-path=\"url(#clip570)\" d=\"M184.827 183.713 L174.248 194.338 L184.827 204.917 L182.072 207.718 L171.447 197.093 L160.822 207.718 L158.091 204.917 L168.646 194.338 L158.091 183.713 L160.822 180.912 L171.447 191.537 L182.072 180.912 L184.827 183.713 Z\" fill=\"#000000\" fill-rule=\"evenodd\" fill-opacity=\"1\" /><path clip-path=\"url(#clip570)\" d=\"M197.188 205.241 L204.827 205.241 L204.827 178.875 L196.517 180.542 L196.517 176.283 L204.78 174.616 L209.456 174.616 L209.456 205.241 L217.095 205.241 L217.095 209.176 L197.188 209.176 L197.188 205.241 Z\" fill=\"#000000\" fill-rule=\"evenodd\" fill-opacity=\"1\" /><path clip-path=\"url(#clip570)\" d=\"M236.539 177.695 Q232.928 177.695 231.1 181.26 Q229.294 184.801 229.294 191.931 Q229.294 199.037 231.1 202.602 Q232.928 206.144 236.539 206.144 Q240.174 206.144 241.979 202.602 Q243.808 199.037 243.808 191.931 Q243.808 184.801 241.979 181.26 Q240.174 177.695 236.539 177.695 M236.539 173.991 Q242.35 173.991 245.405 178.598 Q248.484 183.181 248.484 191.931 Q248.484 200.658 245.405 205.264 Q242.35 209.847 236.539 209.847 Q230.729 209.847 227.651 205.264 Q224.595 200.658 224.595 191.931 Q224.595 183.181 227.651 178.598 Q230.729 173.991 236.539 173.991 Z\" fill=\"#000000\" fill-rule=\"evenodd\" fill-opacity=\"1\" /><path clip-path=\"url(#clip570)\" d=\"M261.16 156.996 L251.568 171.986 L261.16 171.986 L261.16 156.996 M260.163 153.686 L264.941 153.686 L264.941 171.986 L268.947 171.986 L268.947 175.145 L264.941 175.145 L264.941 181.766 L261.16 181.766 L261.16 175.145 L248.484 175.145 L248.484 171.478 L260.163 153.686 Z\" fill=\"#000000\" fill-rule=\"evenodd\" fill-opacity=\"1\" /><polyline clip-path=\"url(#clip572)\" style=\"stroke:#009af9; stroke-linecap:butt; stroke-linejoin:round; stroke-width:4; stroke-opacity:1; fill:none\" points=\"\n",
       "  362.904,1107.37 459.498,1185.49 556.093,1250.23 652.688,1315.15 749.283,1366.15 845.877,1407.92 942.472,1433.96 1039.07,1445.72 1135.66,1444.81 1232.26,1418.41 \n",
       "  1328.85,1380.61 1425.45,1297.79 1522.04,1205.38 1618.64,1122.38 1715.23,998.501 1811.83,858.712 1908.42,739.901 2005.01,598.485 2101.61,463.941 2198.2,256.88 \n",
       "  2294.8,87.9763 \n",
       "  \"/>\n",
       "<path clip-path=\"url(#clip570)\" d=\"\n",
       "M2004.53 198.898 L2284.5 198.898 L2284.5 95.2176 L2004.53 95.2176  Z\n",
       "  \" fill=\"#ffffff\" fill-rule=\"evenodd\" fill-opacity=\"1\"/>\n",
       "<polyline clip-path=\"url(#clip570)\" style=\"stroke:#000000; stroke-linecap:butt; stroke-linejoin:round; stroke-width:4; stroke-opacity:1; fill:none\" points=\"\n",
       "  2004.53,198.898 2284.5,198.898 2284.5,95.2176 2004.53,95.2176 2004.53,198.898 \n",
       "  \"/>\n",
       "<polyline clip-path=\"url(#clip570)\" style=\"stroke:#009af9; stroke-linecap:butt; stroke-linejoin:round; stroke-width:4; stroke-opacity:1; fill:none\" points=\"\n",
       "  2027.28,147.058 2163.81,147.058 \n",
       "  \"/>\n",
       "<path clip-path=\"url(#clip570)\" d=\"M2200.4 166.745 Q2198.6 171.375 2196.88 172.787 Q2195.17 174.199 2192.3 174.199 L2188.9 174.199 L2188.9 170.634 L2191.4 170.634 Q2193.16 170.634 2194.13 169.8 Q2195.1 168.967 2196.28 165.865 L2197.04 163.921 L2186.56 138.412 L2191.07 138.412 L2199.17 158.689 L2207.28 138.412 L2211.79 138.412 L2200.4 166.745 Z\" fill=\"#000000\" fill-rule=\"evenodd\" fill-opacity=\"1\" /><path clip-path=\"url(#clip570)\" d=\"M2219.08 160.402 L2226.72 160.402 L2226.72 134.037 L2218.41 135.703 L2218.41 131.444 L2226.67 129.778 L2231.35 129.778 L2231.35 160.402 L2238.99 160.402 L2238.99 164.338 L2219.08 164.338 L2219.08 160.402 Z\" fill=\"#000000\" fill-rule=\"evenodd\" fill-opacity=\"1\" /></svg>\n"
      ]
     },
     "metadata": {},
     "output_type": "display_data"
    }
   ],
   "source": [
    "display(probs[difs .== minimum(difs)])\n",
    "plot(probs, difs)\n"
   ]
  },
  {
   "cell_type": "code",
   "execution_count": 278,
   "metadata": {},
   "outputs": [],
   "source": [
    "probs = [0.:0.05:1...]\n",
    "difs = zeros(size(probs))\n",
    "\n",
    "for (i, prob) in enumerate(probs)\n",
    "    difs[i] = calc_difs_only_numT(prob; repetitions = 100)\n",
    "end"
   ]
  },
  {
   "cell_type": "code",
   "execution_count": 279,
   "metadata": {},
   "outputs": [
    {
     "data": {
      "text/plain": [
       "1-element Vector{Float64}:\n",
       " 0.4"
      ]
     },
     "metadata": {},
     "output_type": "display_data"
    },
    {
     "data": {
      "image/png": "[encoded data removed]",
      "image/svg+xml": "<?xml version=\"1.0\" encoding=\"utf-8\"?>\n<svg xmlns=\"http://www.w3.org/2000/svg\" xmlns:xlink=\"http://www.w3.org/1999/xlink\" width=\"600\" height=\"400\" viewBox=\"0 0 2400 1600\">\n<defs>\n  <clipPath id=\"clip610\">\n    <rect x=\"0\" y=\"0\" width=\"2400\" height=\"1600\"/>\n  </clipPath>\n</defs>\n<path clip-path=\"url(#clip610)\" d=\"\nM0 1600 L2400 1600 L2400 0 L0 0  Z\n  \" fill=\"#ffffff\" fill-rule=\"evenodd\" fill-opacity=\"1\"/>\n<defs>\n  <clipPath id=\"clip611\">\n    <rect x=\"480\" y=\"0\" width=\"1681\" height=\"1600\"/>\n  </clipPath>\n</defs>\n<path clip-path=\"url(#clip610)\" d=\"\nM202.177 1486.45 L2352.76 1486.45 L2352.76 47.2441 L202.177 47.2441  Z\n  \" fill=\"#ffffff\" fill-rule=\"evenodd\" fill-opacity=\"1\"/>\n<defs>\n  <clipPath id=\"clip612\">\n    <rect x=\"202\" y=\"47\" width=\"2152\" height=\"1440\"/>\n  </clipPath>\n</defs>\n<polyline clip-path=\"url(#clip612)\" style=\"stroke:#000000; stroke-linecap:butt; stroke-linejoin:round; stroke-width:2; stroke-opacity:0.1; fill:none\" points=\"\n  263.042,1486.45 263.042,47.2441 \n  \"/>\n<polyline clip-path=\"url(#clip612)\" style=\"stroke:#000000; stroke-linecap:butt; stroke-linejoin:round; stroke-width:2; stroke-opacity:0.1; fill:none\" points=\"\n  770.254,1486.45 770.254,47.2441 \n  \"/>\n<polyline clip-path=\"url(#clip612)\" style=\"stroke:#000000; stroke-linecap:butt; stroke-linejoin:round; stroke-width:2; stroke-opacity:0.1; fill:none\" points=\"\n  1277.47,1486.45 1277.47,47.2441 \n  \"/>\n<polyline clip-path=\"url(#clip612)\" style=\"stroke:#000000; stroke-linecap:butt; stroke-linejoin:round; stroke-width:2; stroke-opacity:0.1; fill:none\" points=\"\n  1784.68,1486.45 1784.68,47.2441 \n  \"/>\n<polyline clip-path=\"url(#clip612)\" style=\"stroke:#000000; stroke-linecap:butt; stroke-linejoin:round; stroke-width:2; stroke-opacity:0.1; fill:none\" points=\"\n  2291.89,1486.45 2291.89,47.2441 \n  \"/>\n<polyline clip-path=\"url(#clip610)\" style=\"stroke:#000000; stroke-linecap:butt; stroke-linejoin:round; stroke-width:4; stroke-opacity:1; fill:none\" points=\"\n  202.177,1486.45 2352.76,1486.45 \n  \"/>\n<polyline clip-path=\"url(#clip610)\" style=\"stroke:#000000; stroke-linecap:butt; stroke-linejoin:round; stroke-width:4; stroke-opacity:1; fill:none\" points=\"\n  263.042,1486.45 263.042,1467.55 \n  \"/>\n<polyline clip-path=\"url(#clip610)\" style=\"stroke:#000000; stroke-linecap:butt; stroke-linejoin:round; stroke-width:4; stroke-opacity:1; fill:none\" points=\"\n  770.254,1486.45 770.254,1467.55 \n  \"/>\n<polyline clip-path=\"url(#clip610)\" style=\"stroke:#000000; stroke-linecap:butt; stroke-linejoin:round; stroke-width:4; stroke-opacity:1; fill:none\" points=\"\n  1277.47,1486.45 1277.47,1467.55 \n  \"/>\n<polyline clip-path=\"url(#clip610)\" style=\"stroke:#000000; stroke-linecap:butt; stroke-linejoin:round; stroke-width:4; stroke-opacity:1; fill:none\" points=\"\n  1784.68,1486.45 1784.68,1467.55 \n  \"/>\n<polyline clip-path=\"url(#clip610)\" style=\"stroke:#000000; stroke-linecap:butt; stroke-linejoin:round; stroke-width:4; stroke-opacity:1; fill:none\" points=\"\n  2291.89,1486.45 2291.89,1467.55 \n  \"/>\n<path clip-path=\"url(#clip610)\" d=\"M225.346 1517.37 Q221.734 1517.37 219.906 1520.93 Q218.1 1524.47 218.1 1531.6 Q218.1 1538.71 219.906 1542.27 Q221.734 1545.82 225.346 1545.82 Q228.98 1545.82 230.785 1542.27 Q232.614 1538.71 232.614 1531.6 Q232.614 1524.47 230.785 1520.93 Q228.98 1517.37 225.346 1517.37 M225.346 1513.66 Q231.156 1513.66 234.211 1518.27 Q237.29 1522.85 237.29 1531.6 Q237.29 1540.33 234.211 1544.94 Q231.156 1549.52 225.346 1549.52 Q219.535 1549.52 216.457 1544.94 Q213.401 1540.33 213.401 1531.6 Q213.401 1522.85 216.457 1518.27 Q219.535 1513.66 225.346 1513.66 Z\" fill=\"#000000\" fill-rule=\"evenodd\" fill-opacity=\"1\" /><path clip-path=\"url(#clip610)\" d=\"M245.508 1542.97 L250.392 1542.97 L250.392 1548.85 L245.508 1548.85 L245.508 1542.97 Z\" fill=\"#000000\" fill-rule=\"evenodd\" fill-opacity=\"1\" /><path clip-path=\"url(#clip610)\" d=\"M270.577 1517.37 Q266.966 1517.37 265.137 1520.93 Q263.331 1524.47 263.331 1531.6 Q263.331 1538.71 265.137 1542.27 Q266.966 1545.82 270.577 1545.82 Q274.211 1545.82 276.017 1542.27 Q277.845 1538.71 277.845 1531.6 Q277.845 1524.47 276.017 1520.93 Q274.211 1517.37 270.577 1517.37 M270.577 1513.66 Q276.387 1513.66 279.443 1518.27 Q282.521 1522.85 282.521 1531.6 Q282.521 1540.33 279.443 1544.94 Q276.387 1549.52 270.577 1549.52 Q264.767 1549.52 261.688 1544.94 Q258.632 1540.33 258.632 1531.6 Q258.632 1522.85 261.688 1518.27 Q264.767 1513.66 270.577 1513.66 Z\" fill=\"#000000\" fill-rule=\"evenodd\" fill-opacity=\"1\" /><path clip-path=\"url(#clip610)\" d=\"M300.739 1517.37 Q297.128 1517.37 295.299 1520.93 Q293.493 1524.47 293.493 1531.6 Q293.493 1538.71 295.299 1542.27 Q297.128 1545.82 300.739 1545.82 Q304.373 1545.82 306.178 1542.27 Q308.007 1538.71 308.007 1531.6 Q308.007 1524.47 306.178 1520.93 Q304.373 1517.37 300.739 1517.37 M300.739 1513.66 Q306.549 1513.66 309.604 1518.27 Q312.683 1522.85 312.683 1531.6 Q312.683 1540.33 309.604 1544.94 Q306.549 1549.52 300.739 1549.52 Q294.929 1549.52 291.85 1544.94 Q288.794 1540.33 288.794 1531.6 Q288.794 1522.85 291.85 1518.27 Q294.929 1513.66 300.739 1513.66 Z\" fill=\"#000000\" fill-rule=\"evenodd\" fill-opacity=\"1\" /><path clip-path=\"url(#clip610)\" d=\"M733.055 1517.37 Q729.444 1517.37 727.616 1520.93 Q725.81 1524.47 725.81 1531.6 Q725.81 1538.71 727.616 1542.27 Q729.444 1545.82 733.055 1545.82 Q736.69 1545.82 738.495 1542.27 Q740.324 1538.71 740.324 1531.6 Q740.324 1524.47 738.495 1520.93 Q736.69 1517.37 733.055 1517.37 M733.055 1513.66 Q738.866 1513.66 741.921 1518.27 Q745 1522.85 745 1531.6 Q745 1540.33 741.921 1544.94 Q738.866 1549.52 733.055 1549.52 Q727.245 1549.52 724.167 1544.94 Q721.111 1540.33 721.111 1531.6 Q721.111 1522.85 724.167 1518.27 Q727.245 1513.66 733.055 1513.66 Z\" fill=\"#000000\" fill-rule=\"evenodd\" fill-opacity=\"1\" /><path clip-path=\"url(#clip610)\" d=\"M753.217 1542.97 L758.102 1542.97 L758.102 1548.85 L753.217 1548.85 L753.217 1542.97 Z\" fill=\"#000000\" fill-rule=\"evenodd\" fill-opacity=\"1\" /><path clip-path=\"url(#clip610)\" d=\"M772.314 1544.91 L788.634 1544.91 L788.634 1548.85 L766.689 1548.85 L766.689 1544.91 Q769.351 1542.16 773.935 1537.53 Q778.541 1532.88 779.722 1531.53 Q781.967 1529.01 782.847 1527.27 Q783.75 1525.51 783.75 1523.82 Q783.75 1521.07 781.805 1519.33 Q779.884 1517.6 776.782 1517.6 Q774.583 1517.6 772.129 1518.36 Q769.699 1519.13 766.921 1520.68 L766.921 1515.95 Q769.745 1514.82 772.199 1514.24 Q774.652 1513.66 776.689 1513.66 Q782.06 1513.66 785.254 1516.35 Q788.449 1519.03 788.449 1523.52 Q788.449 1525.65 787.638 1527.57 Q786.851 1529.47 784.745 1532.07 Q784.166 1532.74 781.064 1535.95 Q777.963 1539.15 772.314 1544.91 Z\" fill=\"#000000\" fill-rule=\"evenodd\" fill-opacity=\"1\" /><path clip-path=\"url(#clip610)\" d=\"M798.495 1514.29 L816.851 1514.29 L816.851 1518.22 L802.777 1518.22 L802.777 1526.7 Q803.796 1526.35 804.814 1526.19 Q805.833 1526 806.851 1526 Q812.638 1526 816.018 1529.17 Q819.397 1532.34 819.397 1537.76 Q819.397 1543.34 815.925 1546.44 Q812.453 1549.52 806.134 1549.52 Q803.958 1549.52 801.689 1549.15 Q799.444 1548.78 797.036 1548.04 L797.036 1543.34 Q799.12 1544.47 801.342 1545.03 Q803.564 1545.58 806.041 1545.58 Q810.046 1545.58 812.384 1543.48 Q814.722 1541.37 814.722 1537.76 Q814.722 1534.15 812.384 1532.04 Q810.046 1529.94 806.041 1529.94 Q804.166 1529.94 802.291 1530.35 Q800.439 1530.77 798.495 1531.65 L798.495 1514.29 Z\" fill=\"#000000\" fill-rule=\"evenodd\" fill-opacity=\"1\" /><path clip-path=\"url(#clip610)\" d=\"M1239.77 1517.37 Q1236.16 1517.37 1234.33 1520.93 Q1232.52 1524.47 1232.52 1531.6 Q1232.52 1538.71 1234.33 1542.27 Q1236.16 1545.82 1239.77 1545.82 Q1243.4 1545.82 1245.21 1542.27 Q1247.04 1538.71 1247.04 1531.6 Q1247.04 1524.47 1245.21 1520.93 Q1243.4 1517.37 1239.77 1517.37 M1239.77 1513.66 Q1245.58 1513.66 1248.64 1518.27 Q1251.71 1522.85 1251.71 1531.6 Q1251.71 1540.33 1248.64 1544.94 Q1245.58 1549.52 1239.77 1549.52 Q1233.96 1549.52 1230.88 1544.94 Q1227.83 1540.33 1227.83 1531.6 Q1227.83 1522.85 1230.88 1518.27 Q1233.96 1513.66 1239.77 1513.66 Z\" fill=\"#000000\" fill-rule=\"evenodd\" fill-opacity=\"1\" /><path clip-path=\"url(#clip610)\" d=\"M1259.93 1542.97 L1264.82 1542.97 L1264.82 1548.85 L1259.93 1548.85 L1259.93 1542.97 Z\" fill=\"#000000\" fill-rule=\"evenodd\" fill-opacity=\"1\" /><path clip-path=\"url(#clip610)\" d=\"M1275.05 1514.29 L1293.4 1514.29 L1293.4 1518.22 L1279.33 1518.22 L1279.33 1526.7 Q1280.35 1526.35 1281.37 1526.19 Q1282.39 1526 1283.4 1526 Q1289.19 1526 1292.57 1529.17 Q1295.95 1532.34 1295.95 1537.76 Q1295.95 1543.34 1292.48 1546.44 Q1289.01 1549.52 1282.69 1549.52 Q1280.51 1549.52 1278.24 1549.15 Q1276 1548.78 1273.59 1548.04 L1273.59 1543.34 Q1275.67 1544.47 1277.89 1545.03 Q1280.12 1545.58 1282.59 1545.58 Q1286.6 1545.58 1288.94 1543.48 Q1291.27 1541.37 1291.27 1537.76 Q1291.27 1534.15 1288.94 1532.04 Q1286.6 1529.94 1282.59 1529.94 Q1280.72 1529.94 1278.84 1530.35 Q1276.99 1530.77 1275.05 1531.65 L1275.05 1514.29 Z\" fill=\"#000000\" fill-rule=\"evenodd\" fill-opacity=\"1\" /><path clip-path=\"url(#clip610)\" d=\"M1315.16 1517.37 Q1311.55 1517.37 1309.72 1520.93 Q1307.92 1524.47 1307.92 1531.6 Q1307.92 1538.71 1309.72 1542.27 Q1311.55 1545.82 1315.16 1545.82 Q1318.8 1545.82 1320.6 1542.27 Q1322.43 1538.71 1322.43 1531.6 Q1322.43 1524.47 1320.6 1520.93 Q1318.8 1517.37 1315.16 1517.37 M1315.16 1513.66 Q1320.97 1513.66 1324.03 1518.27 Q1327.11 1522.85 1327.11 1531.6 Q1327.11 1540.33 1324.03 1544.94 Q1320.97 1549.52 1315.16 1549.52 Q1309.35 1549.52 1306.27 1544.94 Q1303.22 1540.33 1303.22 1531.6 Q1303.22 1522.85 1306.27 1518.27 Q1309.35 1513.66 1315.16 1513.66 Z\" fill=\"#000000\" fill-rule=\"evenodd\" fill-opacity=\"1\" /><path clip-path=\"url(#clip610)\" d=\"M1747.48 1517.37 Q1743.87 1517.37 1742.04 1520.93 Q1740.23 1524.47 1740.23 1531.6 Q1740.23 1538.71 1742.04 1542.27 Q1743.87 1545.82 1747.48 1545.82 Q1751.11 1545.82 1752.92 1542.27 Q1754.75 1538.71 1754.75 1531.6 Q1754.75 1524.47 1752.92 1520.93 Q1751.11 1517.37 1747.48 1517.37 M1747.48 1513.66 Q1753.29 1513.66 1756.35 1518.27 Q1759.42 1522.85 1759.42 1531.6 Q1759.42 1540.33 1756.35 1544.94 Q1753.29 1549.52 1747.48 1549.52 Q1741.67 1549.52 1738.59 1544.94 Q1735.54 1540.33 1735.54 1531.6 Q1735.54 1522.85 1738.59 1518.27 Q1741.67 1513.66 1747.48 1513.66 Z\" fill=\"#000000\" fill-rule=\"evenodd\" fill-opacity=\"1\" /><path clip-path=\"url(#clip610)\" d=\"M1767.64 1542.97 L1772.53 1542.97 L1772.53 1548.85 L1767.64 1548.85 L1767.64 1542.97 Z\" fill=\"#000000\" fill-rule=\"evenodd\" fill-opacity=\"1\" /><path clip-path=\"url(#clip610)\" d=\"M1781.53 1514.29 L1803.75 1514.29 L1803.75 1516.28 L1791.21 1548.85 L1786.32 1548.85 L1798.13 1518.22 L1781.53 1518.22 L1781.53 1514.29 Z\" fill=\"#000000\" fill-rule=\"evenodd\" fill-opacity=\"1\" /><path clip-path=\"url(#clip610)\" d=\"M1812.92 1514.29 L1831.28 1514.29 L1831.28 1518.22 L1817.2 1518.22 L1817.2 1526.7 Q1818.22 1526.35 1819.24 1526.19 Q1820.26 1526 1821.28 1526 Q1827.06 1526 1830.44 1529.17 Q1833.82 1532.34 1833.82 1537.76 Q1833.82 1543.34 1830.35 1546.44 Q1826.88 1549.52 1820.56 1549.52 Q1818.38 1549.52 1816.11 1549.15 Q1813.87 1548.78 1811.46 1548.04 L1811.46 1543.34 Q1813.54 1544.47 1815.77 1545.03 Q1817.99 1545.58 1820.47 1545.58 Q1824.47 1545.58 1826.81 1543.48 Q1829.15 1541.37 1829.15 1537.76 Q1829.15 1534.15 1826.81 1532.04 Q1824.47 1529.94 1820.47 1529.94 Q1818.59 1529.94 1816.72 1530.35 Q1814.86 1530.77 1812.92 1531.65 L1812.92 1514.29 Z\" fill=\"#000000\" fill-rule=\"evenodd\" fill-opacity=\"1\" /><path clip-path=\"url(#clip610)\" d=\"M2243.96 1544.91 L2251.6 1544.91 L2251.6 1518.55 L2243.29 1520.21 L2243.29 1515.95 L2251.56 1514.29 L2256.23 1514.29 L2256.23 1544.91 L2263.87 1544.91 L2263.87 1548.85 L2243.96 1548.85 L2243.96 1544.91 Z\" fill=\"#000000\" fill-rule=\"evenodd\" fill-opacity=\"1\" /><path clip-path=\"url(#clip610)\" d=\"M2273.31 1542.97 L2278.2 1542.97 L2278.2 1548.85 L2273.31 1548.85 L2273.31 1542.97 Z\" fill=\"#000000\" fill-rule=\"evenodd\" fill-opacity=\"1\" /><path clip-path=\"url(#clip610)\" d=\"M2298.38 1517.37 Q2294.77 1517.37 2292.94 1520.93 Q2291.14 1524.47 2291.14 1531.6 Q2291.14 1538.71 2292.94 1542.27 Q2294.77 1545.82 2298.38 1545.82 Q2302.02 1545.82 2303.82 1542.27 Q2305.65 1538.71 2305.65 1531.6 Q2305.65 1524.47 2303.82 1520.93 Q2302.02 1517.37 2298.38 1517.37 M2298.38 1513.66 Q2304.19 1513.66 2307.25 1518.27 Q2310.33 1522.85 2310.33 1531.6 Q2310.33 1540.33 2307.25 1544.94 Q2304.19 1549.52 2298.38 1549.52 Q2292.57 1549.52 2289.49 1544.94 Q2286.44 1540.33 2286.44 1531.6 Q2286.44 1522.85 2289.49 1518.27 Q2292.57 1513.66 2298.38 1513.66 Z\" fill=\"#000000\" fill-rule=\"evenodd\" fill-opacity=\"1\" /><path clip-path=\"url(#clip610)\" d=\"M2328.55 1517.37 Q2324.93 1517.37 2323.11 1520.93 Q2321.3 1524.47 2321.3 1531.6 Q2321.3 1538.71 2323.11 1542.27 Q2324.93 1545.82 2328.55 1545.82 Q2332.18 1545.82 2333.99 1542.27 Q2335.81 1538.71 2335.81 1531.6 Q2335.81 1524.47 2333.99 1520.93 Q2332.18 1517.37 2328.55 1517.37 M2328.55 1513.66 Q2334.36 1513.66 2337.41 1518.27 Q2340.49 1522.85 2340.49 1531.6 Q2340.49 1540.33 2337.41 1544.94 Q2334.36 1549.52 2328.55 1549.52 Q2322.74 1549.52 2319.66 1544.94 Q2316.6 1540.33 2316.6 1531.6 Q2316.6 1522.85 2319.66 1518.27 Q2322.74 1513.66 2328.55 1513.66 Z\" fill=\"#000000\" fill-rule=\"evenodd\" fill-opacity=\"1\" /><polyline clip-path=\"url(#clip612)\" style=\"stroke:#000000; stroke-linecap:butt; stroke-linejoin:round; stroke-width:2; stroke-opacity:0.1; fill:none\" points=\"\n  202.177,1368.4 2352.76,1368.4 \n  \"/>\n<polyline clip-path=\"url(#clip612)\" style=\"stroke:#000000; stroke-linecap:butt; stroke-linejoin:round; stroke-width:2; stroke-opacity:0.1; fill:none\" points=\"\n  202.177,1027.82 2352.76,1027.82 \n  \"/>\n<polyline clip-path=\"url(#clip612)\" style=\"stroke:#000000; stroke-linecap:butt; stroke-linejoin:round; stroke-width:2; stroke-opacity:0.1; fill:none\" points=\"\n  202.177,687.234 2352.76,687.234 \n  \"/>\n<polyline clip-path=\"url(#clip612)\" style=\"stroke:#000000; stroke-linecap:butt; stroke-linejoin:round; stroke-width:2; stroke-opacity:0.1; fill:none\" points=\"\n  202.177,346.65 2352.76,346.65 \n  \"/>\n<polyline clip-path=\"url(#clip610)\" style=\"stroke:#000000; stroke-linecap:butt; stroke-linejoin:round; stroke-width:4; stroke-opacity:1; fill:none\" points=\"\n  202.177,1486.45 202.177,47.2441 \n  \"/>\n<polyline clip-path=\"url(#clip610)\" style=\"stroke:#000000; stroke-linecap:butt; stroke-linejoin:round; stroke-width:4; stroke-opacity:1; fill:none\" points=\"\n  202.177,1368.4 221.074,1368.4 \n  \"/>\n<polyline clip-path=\"url(#clip610)\" style=\"stroke:#000000; stroke-linecap:butt; stroke-linejoin:round; stroke-width:4; stroke-opacity:1; fill:none\" points=\"\n  202.177,1027.82 221.074,1027.82 \n  \"/>\n<polyline clip-path=\"url(#clip610)\" style=\"stroke:#000000; stroke-linecap:butt; stroke-linejoin:round; stroke-width:4; stroke-opacity:1; fill:none\" points=\"\n  202.177,687.234 221.074,687.234 \n  \"/>\n<polyline clip-path=\"url(#clip610)\" style=\"stroke:#000000; stroke-linecap:butt; stroke-linejoin:round; stroke-width:4; stroke-opacity:1; fill:none\" points=\"\n  202.177,346.65 221.074,346.65 \n  \"/>\n<path clip-path=\"url(#clip610)\" d=\"M57.7745 1381.75 L74.0939 1381.75 L74.0939 1385.68 L52.1495 1385.68 L52.1495 1381.75 Q54.8115 1378.99 59.3949 1374.36 Q64.0013 1369.71 65.1819 1368.37 Q67.4272 1365.85 68.3068 1364.11 Q69.2096 1362.35 69.2096 1360.66 Q69.2096 1357.91 67.2652 1356.17 Q65.3439 1354.43 62.2421 1354.43 Q60.043 1354.43 57.5893 1355.2 Q55.1588 1355.96 52.381 1357.51 L52.381 1352.79 Q55.2051 1351.66 57.6588 1351.08 Q60.1124 1350.5 62.1495 1350.5 Q67.5198 1350.5 70.7142 1353.18 Q73.9087 1355.87 73.9087 1360.36 Q73.9087 1362.49 73.0985 1364.41 Q72.3115 1366.31 70.205 1368.9 Q69.6263 1369.57 66.5245 1372.79 Q63.4226 1375.98 57.7745 1381.75 Z\" fill=\"#000000\" fill-rule=\"evenodd\" fill-opacity=\"1\" /><path clip-path=\"url(#clip610)\" d=\"M93.9086 1354.2 Q90.2975 1354.2 88.4688 1357.77 Q86.6632 1361.31 86.6632 1368.44 Q86.6632 1375.54 88.4688 1379.11 Q90.2975 1382.65 93.9086 1382.65 Q97.5428 1382.65 99.3483 1379.11 Q101.177 1375.54 101.177 1368.44 Q101.177 1361.31 99.3483 1357.77 Q97.5428 1354.2 93.9086 1354.2 M93.9086 1350.5 Q99.7187 1350.5 102.774 1355.1 Q105.853 1359.69 105.853 1368.44 Q105.853 1377.16 102.774 1381.77 Q99.7187 1386.35 93.9086 1386.35 Q88.0984 1386.35 85.0197 1381.77 Q81.9642 1377.16 81.9642 1368.44 Q81.9642 1359.69 85.0197 1355.1 Q88.0984 1350.5 93.9086 1350.5 Z\" fill=\"#000000\" fill-rule=\"evenodd\" fill-opacity=\"1\" /><path clip-path=\"url(#clip610)\" d=\"M124.07 1354.2 Q120.459 1354.2 118.631 1357.77 Q116.825 1361.31 116.825 1368.44 Q116.825 1375.54 118.631 1379.11 Q120.459 1382.65 124.07 1382.65 Q127.705 1382.65 129.51 1379.11 Q131.339 1375.54 131.339 1368.44 Q131.339 1361.31 129.51 1357.77 Q127.705 1354.2 124.07 1354.2 M124.07 1350.5 Q129.881 1350.5 132.936 1355.1 Q136.015 1359.69 136.015 1368.44 Q136.015 1377.16 132.936 1381.77 Q129.881 1386.35 124.07 1386.35 Q118.26 1386.35 115.182 1381.77 Q112.126 1377.16 112.126 1368.44 Q112.126 1359.69 115.182 1355.1 Q118.26 1350.5 124.07 1350.5 Z\" fill=\"#000000\" fill-rule=\"evenodd\" fill-opacity=\"1\" /><path clip-path=\"url(#clip610)\" d=\"M154.232 1354.2 Q150.621 1354.2 148.793 1357.77 Q146.987 1361.31 146.987 1368.44 Q146.987 1375.54 148.793 1379.11 Q150.621 1382.65 154.232 1382.65 Q157.867 1382.65 159.672 1379.11 Q161.501 1375.54 161.501 1368.44 Q161.501 1361.31 159.672 1357.77 Q157.867 1354.2 154.232 1354.2 M154.232 1350.5 Q160.042 1350.5 163.098 1355.1 Q166.177 1359.69 166.177 1368.44 Q166.177 1377.16 163.098 1381.77 Q160.042 1386.35 154.232 1386.35 Q148.422 1386.35 145.343 1381.77 Q142.288 1377.16 142.288 1368.44 Q142.288 1359.69 145.343 1355.1 Q148.422 1350.5 154.232 1350.5 Z\" fill=\"#000000\" fill-rule=\"evenodd\" fill-opacity=\"1\" /><path clip-path=\"url(#clip610)\" d=\"M66.5939 1014.61 L54.7884 1033.06 L66.5939 1033.06 L66.5939 1014.61 M65.367 1010.54 L71.2466 1010.54 L71.2466 1033.06 L76.1772 1033.06 L76.1772 1036.95 L71.2466 1036.95 L71.2466 1045.1 L66.5939 1045.1 L66.5939 1036.95 L50.9921 1036.95 L50.9921 1032.44 L65.367 1010.54 Z\" fill=\"#000000\" fill-rule=\"evenodd\" fill-opacity=\"1\" /><path clip-path=\"url(#clip610)\" d=\"M93.9086 1013.62 Q90.2975 1013.62 88.4688 1017.18 Q86.6632 1020.72 86.6632 1027.85 Q86.6632 1034.96 88.4688 1038.52 Q90.2975 1042.07 93.9086 1042.07 Q97.5428 1042.07 99.3483 1038.52 Q101.177 1034.96 101.177 1027.85 Q101.177 1020.72 99.3483 1017.18 Q97.5428 1013.62 93.9086 1013.62 M93.9086 1009.91 Q99.7187 1009.91 102.774 1014.52 Q105.853 1019.1 105.853 1027.85 Q105.853 1036.58 102.774 1041.19 Q99.7187 1045.77 93.9086 1045.77 Q88.0984 1045.77 85.0197 1041.19 Q81.9642 1036.58 81.9642 1027.85 Q81.9642 1019.1 85.0197 1014.52 Q88.0984 1009.91 93.9086 1009.91 Z\" fill=\"#000000\" fill-rule=\"evenodd\" fill-opacity=\"1\" /><path clip-path=\"url(#clip610)\" d=\"M124.07 1013.62 Q120.459 1013.62 118.631 1017.18 Q116.825 1020.72 116.825 1027.85 Q116.825 1034.96 118.631 1038.52 Q120.459 1042.07 124.07 1042.07 Q127.705 1042.07 129.51 1038.52 Q131.339 1034.96 131.339 1027.85 Q131.339 1020.72 129.51 1017.18 Q127.705 1013.62 124.07 1013.62 M124.07 1009.91 Q129.881 1009.91 132.936 1014.52 Q136.015 1019.1 136.015 1027.85 Q136.015 1036.58 132.936 1041.19 Q129.881 1045.77 124.07 1045.77 Q118.26 1045.77 115.182 1041.19 Q112.126 1036.58 112.126 1027.85 Q112.126 1019.1 115.182 1014.52 Q118.26 1009.91 124.07 1009.91 Z\" fill=\"#000000\" fill-rule=\"evenodd\" fill-opacity=\"1\" /><path clip-path=\"url(#clip610)\" d=\"M154.232 1013.62 Q150.621 1013.62 148.793 1017.18 Q146.987 1020.72 146.987 1027.85 Q146.987 1034.96 148.793 1038.52 Q150.621 1042.07 154.232 1042.07 Q157.867 1042.07 159.672 1038.52 Q161.501 1034.96 161.501 1027.85 Q161.501 1020.72 159.672 1017.18 Q157.867 1013.62 154.232 1013.62 M154.232 1009.91 Q160.042 1009.91 163.098 1014.52 Q166.177 1019.1 166.177 1027.85 Q166.177 1036.58 163.098 1041.19 Q160.042 1045.77 154.232 1045.77 Q148.422 1045.77 145.343 1041.19 Q142.288 1036.58 142.288 1027.85 Q142.288 1019.1 145.343 1014.52 Q148.422 1009.91 154.232 1009.91 Z\" fill=\"#000000\" fill-rule=\"evenodd\" fill-opacity=\"1\" /><path clip-path=\"url(#clip610)\" d=\"M64.3254 685.371 Q61.1773 685.371 59.3254 687.524 Q57.4967 689.677 57.4967 693.426 Q57.4967 697.153 59.3254 699.329 Q61.1773 701.482 64.3254 701.482 Q67.4735 701.482 69.3022 699.329 Q71.1541 697.153 71.1541 693.426 Q71.1541 689.677 69.3022 687.524 Q67.4735 685.371 64.3254 685.371 M73.6077 670.718 L73.6077 674.978 Q71.8485 674.144 70.0429 673.704 Q68.2606 673.265 66.5013 673.265 Q61.8717 673.265 59.418 676.39 Q56.9875 679.515 56.6402 685.834 Q58.006 683.82 60.0662 682.755 Q62.1263 681.667 64.6032 681.667 Q69.8115 681.667 72.8207 684.839 Q75.8531 687.987 75.8531 693.426 Q75.8531 698.751 72.705 701.968 Q69.5568 705.186 64.3254 705.186 Q58.33 705.186 55.1588 700.602 Q51.9875 695.996 51.9875 687.269 Q51.9875 679.075 55.8764 674.214 Q59.7652 669.329 66.3161 669.329 Q68.0754 669.329 69.8578 669.677 Q71.6633 670.024 73.6077 670.718 Z\" fill=\"#000000\" fill-rule=\"evenodd\" fill-opacity=\"1\" /><path clip-path=\"url(#clip610)\" d=\"M93.9086 673.033 Q90.2975 673.033 88.4688 676.598 Q86.6632 680.14 86.6632 687.269 Q86.6632 694.376 88.4688 697.94 Q90.2975 701.482 93.9086 701.482 Q97.5428 701.482 99.3483 697.94 Q101.177 694.376 101.177 687.269 Q101.177 680.14 99.3483 676.598 Q97.5428 673.033 93.9086 673.033 M93.9086 669.329 Q99.7187 669.329 102.774 673.936 Q105.853 678.519 105.853 687.269 Q105.853 695.996 102.774 700.602 Q99.7187 705.186 93.9086 705.186 Q88.0984 705.186 85.0197 700.602 Q81.9642 695.996 81.9642 687.269 Q81.9642 678.519 85.0197 673.936 Q88.0984 669.329 93.9086 669.329 Z\" fill=\"#000000\" fill-rule=\"evenodd\" fill-opacity=\"1\" /><path clip-path=\"url(#clip610)\" d=\"M124.07 673.033 Q120.459 673.033 118.631 676.598 Q116.825 680.14 116.825 687.269 Q116.825 694.376 118.631 697.94 Q120.459 701.482 124.07 701.482 Q127.705 701.482 129.51 697.94 Q131.339 694.376 131.339 687.269 Q131.339 680.14 129.51 676.598 Q127.705 673.033 124.07 673.033 M124.07 669.329 Q129.881 669.329 132.936 673.936 Q136.015 678.519 136.015 687.269 Q136.015 695.996 132.936 700.602 Q129.881 705.186 124.07 705.186 Q118.26 705.186 115.182 700.602 Q112.126 695.996 112.126 687.269 Q112.126 678.519 115.182 673.936 Q118.26 669.329 124.07 669.329 Z\" fill=\"#000000\" fill-rule=\"evenodd\" fill-opacity=\"1\" /><path clip-path=\"url(#clip610)\" d=\"M154.232 673.033 Q150.621 673.033 148.793 676.598 Q146.987 680.14 146.987 687.269 Q146.987 694.376 148.793 697.94 Q150.621 701.482 154.232 701.482 Q157.867 701.482 159.672 697.94 Q161.501 694.376 161.501 687.269 Q161.501 680.14 159.672 676.598 Q157.867 673.033 154.232 673.033 M154.232 669.329 Q160.042 669.329 163.098 673.936 Q166.177 678.519 166.177 687.269 Q166.177 695.996 163.098 700.602 Q160.042 705.186 154.232 705.186 Q148.422 705.186 145.343 700.602 Q142.288 695.996 142.288 687.269 Q142.288 678.519 145.343 673.936 Q148.422 669.329 154.232 669.329 Z\" fill=\"#000000\" fill-rule=\"evenodd\" fill-opacity=\"1\" /><path clip-path=\"url(#clip610)\" d=\"M63.7467 347.518 Q60.4134 347.518 58.4921 349.301 Q56.5939 351.083 56.5939 354.208 Q56.5939 357.333 58.4921 359.115 Q60.4134 360.898 63.7467 360.898 Q67.08 360.898 69.0013 359.115 Q70.9226 357.31 70.9226 354.208 Q70.9226 351.083 69.0013 349.301 Q67.1032 347.518 63.7467 347.518 M59.0708 345.527 Q56.0615 344.787 54.3717 342.726 Q52.7051 340.666 52.7051 337.703 Q52.7051 333.56 55.6449 331.152 Q58.6078 328.745 63.7467 328.745 Q68.9087 328.745 71.8485 331.152 Q74.7883 333.56 74.7883 337.703 Q74.7883 340.666 73.0985 342.726 Q71.4318 344.787 68.4457 345.527 Q71.8253 346.314 73.7003 348.606 Q75.5985 350.898 75.5985 354.208 Q75.5985 359.231 72.5198 361.916 Q69.4642 364.601 63.7467 364.601 Q58.0291 364.601 54.9504 361.916 Q51.8949 359.231 51.8949 354.208 Q51.8949 350.898 53.793 348.606 Q55.6912 346.314 59.0708 345.527 M57.3578 338.143 Q57.3578 340.828 59.0245 342.333 Q60.7143 343.838 63.7467 343.838 Q66.7559 343.838 68.4457 342.333 Q70.1587 340.828 70.1587 338.143 Q70.1587 335.458 68.4457 333.953 Q66.7559 332.449 63.7467 332.449 Q60.7143 332.449 59.0245 333.953 Q57.3578 335.458 57.3578 338.143 Z\" fill=\"#000000\" fill-rule=\"evenodd\" fill-opacity=\"1\" /><path clip-path=\"url(#clip610)\" d=\"M93.9086 332.449 Q90.2975 332.449 88.4688 336.014 Q86.6632 339.555 86.6632 346.685 Q86.6632 353.791 88.4688 357.356 Q90.2975 360.898 93.9086 360.898 Q97.5428 360.898 99.3483 357.356 Q101.177 353.791 101.177 346.685 Q101.177 339.555 99.3483 336.014 Q97.5428 332.449 93.9086 332.449 M93.9086 328.745 Q99.7187 328.745 102.774 333.352 Q105.853 337.935 105.853 346.685 Q105.853 355.412 102.774 360.018 Q99.7187 364.601 93.9086 364.601 Q88.0984 364.601 85.0197 360.018 Q81.9642 355.412 81.9642 346.685 Q81.9642 337.935 85.0197 333.352 Q88.0984 328.745 93.9086 328.745 Z\" fill=\"#000000\" fill-rule=\"evenodd\" fill-opacity=\"1\" /><path clip-path=\"url(#clip610)\" d=\"M124.07 332.449 Q120.459 332.449 118.631 336.014 Q116.825 339.555 116.825 346.685 Q116.825 353.791 118.631 357.356 Q120.459 360.898 124.07 360.898 Q127.705 360.898 129.51 357.356 Q131.339 353.791 131.339 346.685 Q131.339 339.555 129.51 336.014 Q127.705 332.449 124.07 332.449 M124.07 328.745 Q129.881 328.745 132.936 333.352 Q136.015 337.935 136.015 346.685 Q136.015 355.412 132.936 360.018 Q129.881 364.601 124.07 364.601 Q118.26 364.601 115.182 360.018 Q112.126 355.412 112.126 346.685 Q112.126 337.935 115.182 333.352 Q118.26 328.745 124.07 328.745 Z\" fill=\"#000000\" fill-rule=\"evenodd\" fill-opacity=\"1\" /><path clip-path=\"url(#clip610)\" d=\"M154.232 332.449 Q150.621 332.449 148.793 336.014 Q146.987 339.555 146.987 346.685 Q146.987 353.791 148.793 357.356 Q150.621 360.898 154.232 360.898 Q157.867 360.898 159.672 357.356 Q161.501 353.791 161.501 346.685 Q161.501 339.555 159.672 336.014 Q157.867 332.449 154.232 332.449 M154.232 328.745 Q160.042 328.745 163.098 333.352 Q166.177 337.935 166.177 346.685 Q166.177 355.412 163.098 360.018 Q160.042 364.601 154.232 364.601 Q148.422 364.601 145.343 360.018 Q142.288 355.412 142.288 346.685 Q142.288 337.935 145.343 333.352 Q148.422 328.745 154.232 328.745 Z\" fill=\"#000000\" fill-rule=\"evenodd\" fill-opacity=\"1\" /><polyline clip-path=\"url(#clip612)\" style=\"stroke:#009af9; stroke-linecap:butt; stroke-linejoin:round; stroke-width:4; stroke-opacity:1; fill:none\" points=\"\n  263.042,1057.45 364.485,1136.47 465.927,1194.19 567.369,1261.8 668.812,1324.13 770.254,1365.34 871.697,1405.7 973.139,1425.11 1074.58,1445.72 1176.02,1419.15 \n  1277.47,1367.38 1378.91,1283.26 1480.35,1196.07 1581.79,1075.16 1683.24,953.912 1784.68,849.012 1886.12,698.133 1987.56,579.099 2089.01,414.426 2190.45,247.881 \n  2291.89,87.9763 \n  \"/>\n<path clip-path=\"url(#clip610)\" d=\"\nM1989.69 198.898 L2281.07 198.898 L2281.07 95.2176 L1989.69 95.2176  Z\n  \" fill=\"#ffffff\" fill-rule=\"evenodd\" fill-opacity=\"1\"/>\n<polyline clip-path=\"url(#clip610)\" style=\"stroke:#000000; stroke-linecap:butt; stroke-linejoin:round; stroke-width:4; stroke-opacity:1; fill:none\" points=\"\n  1989.69,198.898 2281.07,198.898 2281.07,95.2176 1989.69,95.2176 1989.69,198.898 \n  \"/>\n<polyline clip-path=\"url(#clip610)\" style=\"stroke:#009af9; stroke-linecap:butt; stroke-linejoin:round; stroke-width:4; stroke-opacity:1; fill:none\" points=\"\n  2013.58,147.058 2156.95,147.058 \n  \"/>\n<path clip-path=\"url(#clip610)\" d=\"M2194.69 166.745 Q2192.89 171.375 2191.17 172.787 Q2189.46 174.199 2186.59 174.199 L2183.19 174.199 L2183.19 170.634 L2185.69 170.634 Q2187.45 170.634 2188.42 169.8 Q2189.39 168.967 2190.57 165.865 L2191.34 163.921 L2180.85 138.412 L2185.36 138.412 L2193.46 158.689 L2201.57 138.412 L2206.08 138.412 L2194.69 166.745 Z\" fill=\"#000000\" fill-rule=\"evenodd\" fill-opacity=\"1\" /><path clip-path=\"url(#clip610)\" d=\"M2213.37 160.402 L2221.01 160.402 L2221.01 134.037 L2212.7 135.703 L2212.7 131.444 L2220.96 129.778 L2225.64 129.778 L2225.64 160.402 L2233.28 160.402 L2233.28 164.338 L2213.37 164.338 L2213.37 160.402 Z\" fill=\"#000000\" fill-rule=\"evenodd\" fill-opacity=\"1\" /></svg>\n",
      "text/html": [
       "<?xml version=\"1.0\" encoding=\"utf-8\"?>\n",
       "<svg xmlns=\"http://www.w3.org/2000/svg\" xmlns:xlink=\"http://www.w3.org/1999/xlink\" width=\"600\" height=\"400\" viewBox=\"0 0 2400 1600\">\n",
       "<defs>\n",
       "  <clipPath id=\"clip660\">\n",
       "    <rect x=\"0\" y=\"0\" width=\"2400\" height=\"1600\"/>\n",
       "  </clipPath>\n",
       "</defs>\n",
       "<path clip-path=\"url(#clip660)\" d=\"\n",
       "M0 1600 L2400 1600 L2400 0 L0 0  Z\n",
       "  \" fill=\"#ffffff\" fill-rule=\"evenodd\" fill-opacity=\"1\"/>\n",
       "<defs>\n",
       "  <clipPath id=\"clip661\">\n",
       "    <rect x=\"480\" y=\"0\" width=\"1681\" height=\"1600\"/>\n",
       "  </clipPath>\n",
       "</defs>\n",
       "<path clip-path=\"url(#clip660)\" d=\"\n",
       "M202.177 1486.45 L2352.76 1486.45 L2352.76 47.2441 L202.177 47.2441  Z\n",
       "  \" fill=\"#ffffff\" fill-rule=\"evenodd\" fill-opacity=\"1\"/>\n",
       "<defs>\n",
       "  <clipPath id=\"clip662\">\n",
       "    <rect x=\"202\" y=\"47\" width=\"2152\" height=\"1440\"/>\n",
       "  </clipPath>\n",
       "</defs>\n",
       "<polyline clip-path=\"url(#clip662)\" style=\"stroke:#000000; stroke-linecap:butt; stroke-linejoin:round; stroke-width:2; stroke-opacity:0.1; fill:none\" points=\"\n",
       "  263.042,1486.45 263.042,47.2441 \n",
       "  \"/>\n",
       "<polyline clip-path=\"url(#clip662)\" style=\"stroke:#000000; stroke-linecap:butt; stroke-linejoin:round; stroke-width:2; stroke-opacity:0.1; fill:none\" points=\"\n",
       "  770.254,1486.45 770.254,47.2441 \n",
       "  \"/>\n",
       "<polyline clip-path=\"url(#clip662)\" style=\"stroke:#000000; stroke-linecap:butt; stroke-linejoin:round; stroke-width:2; stroke-opacity:0.1; fill:none\" points=\"\n",
       "  1277.47,1486.45 1277.47,47.2441 \n",
       "  \"/>\n",
       "<polyline clip-path=\"url(#clip662)\" style=\"stroke:#000000; stroke-linecap:butt; stroke-linejoin:round; stroke-width:2; stroke-opacity:0.1; fill:none\" points=\"\n",
       "  1784.68,1486.45 1784.68,47.2441 \n",
       "  \"/>\n",
       "<polyline clip-path=\"url(#clip662)\" style=\"stroke:#000000; stroke-linecap:butt; stroke-linejoin:round; stroke-width:2; stroke-opacity:0.1; fill:none\" points=\"\n",
       "  2291.89,1486.45 2291.89,47.2441 \n",
       "  \"/>\n",
       "<polyline clip-path=\"url(#clip660)\" style=\"stroke:#000000; stroke-linecap:butt; stroke-linejoin:round; stroke-width:4; stroke-opacity:1; fill:none\" points=\"\n",
       "  202.177,1486.45 2352.76,1486.45 \n",
       "  \"/>\n",
       "<polyline clip-path=\"url(#clip660)\" style=\"stroke:#000000; stroke-linecap:butt; stroke-linejoin:round; stroke-width:4; stroke-opacity:1; fill:none\" points=\"\n",
       "  263.042,1486.45 263.042,1467.55 \n",
       "  \"/>\n",
       "<polyline clip-path=\"url(#clip660)\" style=\"stroke:#000000; stroke-linecap:butt; stroke-linejoin:round; stroke-width:4; stroke-opacity:1; fill:none\" points=\"\n",
       "  770.254,1486.45 770.254,1467.55 \n",
       "  \"/>\n",
       "<polyline clip-path=\"url(#clip660)\" style=\"stroke:#000000; stroke-linecap:butt; stroke-linejoin:round; stroke-width:4; stroke-opacity:1; fill:none\" points=\"\n",
       "  1277.47,1486.45 1277.47,1467.55 \n",
       "  \"/>\n",
       "<polyline clip-path=\"url(#clip660)\" style=\"stroke:#000000; stroke-linecap:butt; stroke-linejoin:round; stroke-width:4; stroke-opacity:1; fill:none\" points=\"\n",
       "  1784.68,1486.45 1784.68,1467.55 \n",
       "  \"/>\n",
       "<polyline clip-path=\"url(#clip660)\" style=\"stroke:#000000; stroke-linecap:butt; stroke-linejoin:round; stroke-width:4; stroke-opacity:1; fill:none\" points=\"\n",
       "  2291.89,1486.45 2291.89,1467.55 \n",
       "  \"/>\n",
       "<path clip-path=\"url(#clip660)\" d=\"M225.346 1517.37 Q221.734 1517.37 219.906 1520.93 Q218.1 1524.47 218.1 1531.6 Q218.1 1538.71 219.906 1542.27 Q221.734 1545.82 225.346 1545.82 Q228.98 1545.82 230.785 1542.27 Q232.614 1538.71 232.614 1531.6 Q232.614 1524.47 230.785 1520.93 Q228.98 1517.37 225.346 1517.37 M225.346 1513.66 Q231.156 1513.66 234.211 1518.27 Q237.29 1522.85 237.29 1531.6 Q237.29 1540.33 234.211 1544.94 Q231.156 1549.52 225.346 1549.52 Q219.535 1549.52 216.457 1544.94 Q213.401 1540.33 213.401 1531.6 Q213.401 1522.85 216.457 1518.27 Q219.535 1513.66 225.346 1513.66 Z\" fill=\"#000000\" fill-rule=\"evenodd\" fill-opacity=\"1\" /><path clip-path=\"url(#clip660)\" d=\"M245.508 1542.97 L250.392 1542.97 L250.392 1548.85 L245.508 1548.85 L245.508 1542.97 Z\" fill=\"#000000\" fill-rule=\"evenodd\" fill-opacity=\"1\" /><path clip-path=\"url(#clip660)\" d=\"M270.577 1517.37 Q266.966 1517.37 265.137 1520.93 Q263.331 1524.47 263.331 1531.6 Q263.331 1538.71 265.137 1542.27 Q266.966 1545.82 270.577 1545.82 Q274.211 1545.82 276.017 1542.27 Q277.845 1538.71 277.845 1531.6 Q277.845 1524.47 276.017 1520.93 Q274.211 1517.37 270.577 1517.37 M270.577 1513.66 Q276.387 1513.66 279.443 1518.27 Q282.521 1522.85 282.521 1531.6 Q282.521 1540.33 279.443 1544.94 Q276.387 1549.52 270.577 1549.52 Q264.767 1549.52 261.688 1544.94 Q258.632 1540.33 258.632 1531.6 Q258.632 1522.85 261.688 1518.27 Q264.767 1513.66 270.577 1513.66 Z\" fill=\"#000000\" fill-rule=\"evenodd\" fill-opacity=\"1\" /><path clip-path=\"url(#clip660)\" d=\"M300.739 1517.37 Q297.128 1517.37 295.299 1520.93 Q293.493 1524.47 293.493 1531.6 Q293.493 1538.71 295.299 1542.27 Q297.128 1545.82 300.739 1545.82 Q304.373 1545.82 306.178 1542.27 Q308.007 1538.71 308.007 1531.6 Q308.007 1524.47 306.178 1520.93 Q304.373 1517.37 300.739 1517.37 M300.739 1513.66 Q306.549 1513.66 309.604 1518.27 Q312.683 1522.85 312.683 1531.6 Q312.683 1540.33 309.604 1544.94 Q306.549 1549.52 300.739 1549.52 Q294.929 1549.52 291.85 1544.94 Q288.794 1540.33 288.794 1531.6 Q288.794 1522.85 291.85 1518.27 Q294.929 1513.66 300.739 1513.66 Z\" fill=\"#000000\" fill-rule=\"evenodd\" fill-opacity=\"1\" /><path clip-path=\"url(#clip660)\" d=\"M733.055 1517.37 Q729.444 1517.37 727.616 1520.93 Q725.81 1524.47 725.81 1531.6 Q725.81 1538.71 727.616 1542.27 Q729.444 1545.82 733.055 1545.82 Q736.69 1545.82 738.495 1542.27 Q740.324 1538.71 740.324 1531.6 Q740.324 1524.47 738.495 1520.93 Q736.69 1517.37 733.055 1517.37 M733.055 1513.66 Q738.866 1513.66 741.921 1518.27 Q745 1522.85 745 1531.6 Q745 1540.33 741.921 1544.94 Q738.866 1549.52 733.055 1549.52 Q727.245 1549.52 724.167 1544.94 Q721.111 1540.33 721.111 1531.6 Q721.111 1522.85 724.167 1518.27 Q727.245 1513.66 733.055 1513.66 Z\" fill=\"#000000\" fill-rule=\"evenodd\" fill-opacity=\"1\" /><path clip-path=\"url(#clip660)\" d=\"M753.217 1542.97 L758.102 1542.97 L758.102 1548.85 L753.217 1548.85 L753.217 1542.97 Z\" fill=\"#000000\" fill-rule=\"evenodd\" fill-opacity=\"1\" /><path clip-path=\"url(#clip660)\" d=\"M772.314 1544.91 L788.634 1544.91 L788.634 1548.85 L766.689 1548.85 L766.689 1544.91 Q769.351 1542.16 773.935 1537.53 Q778.541 1532.88 779.722 1531.53 Q781.967 1529.01 782.847 1527.27 Q783.75 1525.51 783.75 1523.82 Q783.75 1521.07 781.805 1519.33 Q779.884 1517.6 776.782 1517.6 Q774.583 1517.6 772.129 1518.36 Q769.699 1519.13 766.921 1520.68 L766.921 1515.95 Q769.745 1514.82 772.199 1514.24 Q774.652 1513.66 776.689 1513.66 Q782.06 1513.66 785.254 1516.35 Q788.449 1519.03 788.449 1523.52 Q788.449 1525.65 787.638 1527.57 Q786.851 1529.47 784.745 1532.07 Q784.166 1532.74 781.064 1535.95 Q777.963 1539.15 772.314 1544.91 Z\" fill=\"#000000\" fill-rule=\"evenodd\" fill-opacity=\"1\" /><path clip-path=\"url(#clip660)\" d=\"M798.495 1514.29 L816.851 1514.29 L816.851 1518.22 L802.777 1518.22 L802.777 1526.7 Q803.796 1526.35 804.814 1526.19 Q805.833 1526 806.851 1526 Q812.638 1526 816.018 1529.17 Q819.397 1532.34 819.397 1537.76 Q819.397 1543.34 815.925 1546.44 Q812.453 1549.52 806.134 1549.52 Q803.958 1549.52 801.689 1549.15 Q799.444 1548.78 797.036 1548.04 L797.036 1543.34 Q799.12 1544.47 801.342 1545.03 Q803.564 1545.58 806.041 1545.58 Q810.046 1545.58 812.384 1543.48 Q814.722 1541.37 814.722 1537.76 Q814.722 1534.15 812.384 1532.04 Q810.046 1529.94 806.041 1529.94 Q804.166 1529.94 802.291 1530.35 Q800.439 1530.77 798.495 1531.65 L798.495 1514.29 Z\" fill=\"#000000\" fill-rule=\"evenodd\" fill-opacity=\"1\" /><path clip-path=\"url(#clip660)\" d=\"M1239.77 1517.37 Q1236.16 1517.37 1234.33 1520.93 Q1232.52 1524.47 1232.52 1531.6 Q1232.52 1538.71 1234.33 1542.27 Q1236.16 1545.82 1239.77 1545.82 Q1243.4 1545.82 1245.21 1542.27 Q1247.04 1538.71 1247.04 1531.6 Q1247.04 1524.47 1245.21 1520.93 Q1243.4 1517.37 1239.77 1517.37 M1239.77 1513.66 Q1245.58 1513.66 1248.64 1518.27 Q1251.71 1522.85 1251.71 1531.6 Q1251.71 1540.33 1248.64 1544.94 Q1245.58 1549.52 1239.77 1549.52 Q1233.96 1549.52 1230.88 1544.94 Q1227.83 1540.33 1227.83 1531.6 Q1227.83 1522.85 1230.88 1518.27 Q1233.96 1513.66 1239.77 1513.66 Z\" fill=\"#000000\" fill-rule=\"evenodd\" fill-opacity=\"1\" /><path clip-path=\"url(#clip660)\" d=\"M1259.93 1542.97 L1264.82 1542.97 L1264.82 1548.85 L1259.93 1548.85 L1259.93 1542.97 Z\" fill=\"#000000\" fill-rule=\"evenodd\" fill-opacity=\"1\" /><path clip-path=\"url(#clip660)\" d=\"M1275.05 1514.29 L1293.4 1514.29 L1293.4 1518.22 L1279.33 1518.22 L1279.33 1526.7 Q1280.35 1526.35 1281.37 1526.19 Q1282.39 1526 1283.4 1526 Q1289.19 1526 1292.57 1529.17 Q1295.95 1532.34 1295.95 1537.76 Q1295.95 1543.34 1292.48 1546.44 Q1289.01 1549.52 1282.69 1549.52 Q1280.51 1549.52 1278.24 1549.15 Q1276 1548.78 1273.59 1548.04 L1273.59 1543.34 Q1275.67 1544.47 1277.89 1545.03 Q1280.12 1545.58 1282.59 1545.58 Q1286.6 1545.58 1288.94 1543.48 Q1291.27 1541.37 1291.27 1537.76 Q1291.27 1534.15 1288.94 1532.04 Q1286.6 1529.94 1282.59 1529.94 Q1280.72 1529.94 1278.84 1530.35 Q1276.99 1530.77 1275.05 1531.65 L1275.05 1514.29 Z\" fill=\"#000000\" fill-rule=\"evenodd\" fill-opacity=\"1\" /><path clip-path=\"url(#clip660)\" d=\"M1315.16 1517.37 Q1311.55 1517.37 1309.72 1520.93 Q1307.92 1524.47 1307.92 1531.6 Q1307.92 1538.71 1309.72 1542.27 Q1311.55 1545.82 1315.16 1545.82 Q1318.8 1545.82 1320.6 1542.27 Q1322.43 1538.71 1322.43 1531.6 Q1322.43 1524.47 1320.6 1520.93 Q1318.8 1517.37 1315.16 1517.37 M1315.16 1513.66 Q1320.97 1513.66 1324.03 1518.27 Q1327.11 1522.85 1327.11 1531.6 Q1327.11 1540.33 1324.03 1544.94 Q1320.97 1549.52 1315.16 1549.52 Q1309.35 1549.52 1306.27 1544.94 Q1303.22 1540.33 1303.22 1531.6 Q1303.22 1522.85 1306.27 1518.27 Q1309.35 1513.66 1315.16 1513.66 Z\" fill=\"#000000\" fill-rule=\"evenodd\" fill-opacity=\"1\" /><path clip-path=\"url(#clip660)\" d=\"M1747.48 1517.37 Q1743.87 1517.37 1742.04 1520.93 Q1740.23 1524.47 1740.23 1531.6 Q1740.23 1538.71 1742.04 1542.27 Q1743.87 1545.82 1747.48 1545.82 Q1751.11 1545.82 1752.92 1542.27 Q1754.75 1538.71 1754.75 1531.6 Q1754.75 1524.47 1752.92 1520.93 Q1751.11 1517.37 1747.48 1517.37 M1747.48 1513.66 Q1753.29 1513.66 1756.35 1518.27 Q1759.42 1522.85 1759.42 1531.6 Q1759.42 1540.33 1756.35 1544.94 Q1753.29 1549.52 1747.48 1549.52 Q1741.67 1549.52 1738.59 1544.94 Q1735.54 1540.33 1735.54 1531.6 Q1735.54 1522.85 1738.59 1518.27 Q1741.67 1513.66 1747.48 1513.66 Z\" fill=\"#000000\" fill-rule=\"evenodd\" fill-opacity=\"1\" /><path clip-path=\"url(#clip660)\" d=\"M1767.64 1542.97 L1772.53 1542.97 L1772.53 1548.85 L1767.64 1548.85 L1767.64 1542.97 Z\" fill=\"#000000\" fill-rule=\"evenodd\" fill-opacity=\"1\" /><path clip-path=\"url(#clip660)\" d=\"M1781.53 1514.29 L1803.75 1514.29 L1803.75 1516.28 L1791.21 1548.85 L1786.32 1548.85 L1798.13 1518.22 L1781.53 1518.22 L1781.53 1514.29 Z\" fill=\"#000000\" fill-rule=\"evenodd\" fill-opacity=\"1\" /><path clip-path=\"url(#clip660)\" d=\"M1812.92 1514.29 L1831.28 1514.29 L1831.28 1518.22 L1817.2 1518.22 L1817.2 1526.7 Q1818.22 1526.35 1819.24 1526.19 Q1820.26 1526 1821.28 1526 Q1827.06 1526 1830.44 1529.17 Q1833.82 1532.34 1833.82 1537.76 Q1833.82 1543.34 1830.35 1546.44 Q1826.88 1549.52 1820.56 1549.52 Q1818.38 1549.52 1816.11 1549.15 Q1813.87 1548.78 1811.46 1548.04 L1811.46 1543.34 Q1813.54 1544.47 1815.77 1545.03 Q1817.99 1545.58 1820.47 1545.58 Q1824.47 1545.58 1826.81 1543.48 Q1829.15 1541.37 1829.15 1537.76 Q1829.15 1534.15 1826.81 1532.04 Q1824.47 1529.94 1820.47 1529.94 Q1818.59 1529.94 1816.72 1530.35 Q1814.86 1530.77 1812.92 1531.65 L1812.92 1514.29 Z\" fill=\"#000000\" fill-rule=\"evenodd\" fill-opacity=\"1\" /><path clip-path=\"url(#clip660)\" d=\"M2243.96 1544.91 L2251.6 1544.91 L2251.6 1518.55 L2243.29 1520.21 L2243.29 1515.95 L2251.56 1514.29 L2256.23 1514.29 L2256.23 1544.91 L2263.87 1544.91 L2263.87 1548.85 L2243.96 1548.85 L2243.96 1544.91 Z\" fill=\"#000000\" fill-rule=\"evenodd\" fill-opacity=\"1\" /><path clip-path=\"url(#clip660)\" d=\"M2273.31 1542.97 L2278.2 1542.97 L2278.2 1548.85 L2273.31 1548.85 L2273.31 1542.97 Z\" fill=\"#000000\" fill-rule=\"evenodd\" fill-opacity=\"1\" /><path clip-path=\"url(#clip660)\" d=\"M2298.38 1517.37 Q2294.77 1517.37 2292.94 1520.93 Q2291.14 1524.47 2291.14 1531.6 Q2291.14 1538.71 2292.94 1542.27 Q2294.77 1545.82 2298.38 1545.82 Q2302.02 1545.82 2303.82 1542.27 Q2305.65 1538.71 2305.65 1531.6 Q2305.65 1524.47 2303.82 1520.93 Q2302.02 1517.37 2298.38 1517.37 M2298.38 1513.66 Q2304.19 1513.66 2307.25 1518.27 Q2310.33 1522.85 2310.33 1531.6 Q2310.33 1540.33 2307.25 1544.94 Q2304.19 1549.52 2298.38 1549.52 Q2292.57 1549.52 2289.49 1544.94 Q2286.44 1540.33 2286.44 1531.6 Q2286.44 1522.85 2289.49 1518.27 Q2292.57 1513.66 2298.38 1513.66 Z\" fill=\"#000000\" fill-rule=\"evenodd\" fill-opacity=\"1\" /><path clip-path=\"url(#clip660)\" d=\"M2328.55 1517.37 Q2324.93 1517.37 2323.11 1520.93 Q2321.3 1524.47 2321.3 1531.6 Q2321.3 1538.71 2323.11 1542.27 Q2324.93 1545.82 2328.55 1545.82 Q2332.18 1545.82 2333.99 1542.27 Q2335.81 1538.71 2335.81 1531.6 Q2335.81 1524.47 2333.99 1520.93 Q2332.18 1517.37 2328.55 1517.37 M2328.55 1513.66 Q2334.36 1513.66 2337.41 1518.27 Q2340.49 1522.85 2340.49 1531.6 Q2340.49 1540.33 2337.41 1544.94 Q2334.36 1549.52 2328.55 1549.52 Q2322.74 1549.52 2319.66 1544.94 Q2316.6 1540.33 2316.6 1531.6 Q2316.6 1522.85 2319.66 1518.27 Q2322.74 1513.66 2328.55 1513.66 Z\" fill=\"#000000\" fill-rule=\"evenodd\" fill-opacity=\"1\" /><polyline clip-path=\"url(#clip662)\" style=\"stroke:#000000; stroke-linecap:butt; stroke-linejoin:round; stroke-width:2; stroke-opacity:0.1; fill:none\" points=\"\n",
       "  202.177,1368.4 2352.76,1368.4 \n",
       "  \"/>\n",
       "<polyline clip-path=\"url(#clip662)\" style=\"stroke:#000000; stroke-linecap:butt; stroke-linejoin:round; stroke-width:2; stroke-opacity:0.1; fill:none\" points=\"\n",
       "  202.177,1027.82 2352.76,1027.82 \n",
       "  \"/>\n",
       "<polyline clip-path=\"url(#clip662)\" style=\"stroke:#000000; stroke-linecap:butt; stroke-linejoin:round; stroke-width:2; stroke-opacity:0.1; fill:none\" points=\"\n",
       "  202.177,687.234 2352.76,687.234 \n",
       "  \"/>\n",
       "<polyline clip-path=\"url(#clip662)\" style=\"stroke:#000000; stroke-linecap:butt; stroke-linejoin:round; stroke-width:2; stroke-opacity:0.1; fill:none\" points=\"\n",
       "  202.177,346.65 2352.76,346.65 \n",
       "  \"/>\n",
       "<polyline clip-path=\"url(#clip660)\" style=\"stroke:#000000; stroke-linecap:butt; stroke-linejoin:round; stroke-width:4; stroke-opacity:1; fill:none\" points=\"\n",
       "  202.177,1486.45 202.177,47.2441 \n",
       "  \"/>\n",
       "<polyline clip-path=\"url(#clip660)\" style=\"stroke:#000000; stroke-linecap:butt; stroke-linejoin:round; stroke-width:4; stroke-opacity:1; fill:none\" points=\"\n",
       "  202.177,1368.4 221.074,1368.4 \n",
       "  \"/>\n",
       "<polyline clip-path=\"url(#clip660)\" style=\"stroke:#000000; stroke-linecap:butt; stroke-linejoin:round; stroke-width:4; stroke-opacity:1; fill:none\" points=\"\n",
       "  202.177,1027.82 221.074,1027.82 \n",
       "  \"/>\n",
       "<polyline clip-path=\"url(#clip660)\" style=\"stroke:#000000; stroke-linecap:butt; stroke-linejoin:round; stroke-width:4; stroke-opacity:1; fill:none\" points=\"\n",
       "  202.177,687.234 221.074,687.234 \n",
       "  \"/>\n",
       "<polyline clip-path=\"url(#clip660)\" style=\"stroke:#000000; stroke-linecap:butt; stroke-linejoin:round; stroke-width:4; stroke-opacity:1; fill:none\" points=\"\n",
       "  202.177,346.65 221.074,346.65 \n",
       "  \"/>\n",
       "<path clip-path=\"url(#clip660)\" d=\"M57.7745 1381.75 L74.0939 1381.75 L74.0939 1385.68 L52.1495 1385.68 L52.1495 1381.75 Q54.8115 1378.99 59.3949 1374.36 Q64.0013 1369.71 65.1819 1368.37 Q67.4272 1365.85 68.3068 1364.11 Q69.2096 1362.35 69.2096 1360.66 Q69.2096 1357.91 67.2652 1356.17 Q65.3439 1354.43 62.2421 1354.43 Q60.043 1354.43 57.5893 1355.2 Q55.1588 1355.96 52.381 1357.51 L52.381 1352.79 Q55.2051 1351.66 57.6588 1351.08 Q60.1124 1350.5 62.1495 1350.5 Q67.5198 1350.5 70.7142 1353.18 Q73.9087 1355.87 73.9087 1360.36 Q73.9087 1362.49 73.0985 1364.41 Q72.3115 1366.31 70.205 1368.9 Q69.6263 1369.57 66.5245 1372.79 Q63.4226 1375.98 57.7745 1381.75 Z\" fill=\"#000000\" fill-rule=\"evenodd\" fill-opacity=\"1\" /><path clip-path=\"url(#clip660)\" d=\"M93.9086 1354.2 Q90.2975 1354.2 88.4688 1357.77 Q86.6632 1361.31 86.6632 1368.44 Q86.6632 1375.54 88.4688 1379.11 Q90.2975 1382.65 93.9086 1382.65 Q97.5428 1382.65 99.3483 1379.11 Q101.177 1375.54 101.177 1368.44 Q101.177 1361.31 99.3483 1357.77 Q97.5428 1354.2 93.9086 1354.2 M93.9086 1350.5 Q99.7187 1350.5 102.774 1355.1 Q105.853 1359.69 105.853 1368.44 Q105.853 1377.16 102.774 1381.77 Q99.7187 1386.35 93.9086 1386.35 Q88.0984 1386.35 85.0197 1381.77 Q81.9642 1377.16 81.9642 1368.44 Q81.9642 1359.69 85.0197 1355.1 Q88.0984 1350.5 93.9086 1350.5 Z\" fill=\"#000000\" fill-rule=\"evenodd\" fill-opacity=\"1\" /><path clip-path=\"url(#clip660)\" d=\"M124.07 1354.2 Q120.459 1354.2 118.631 1357.77 Q116.825 1361.31 116.825 1368.44 Q116.825 1375.54 118.631 1379.11 Q120.459 1382.65 124.07 1382.65 Q127.705 1382.65 129.51 1379.11 Q131.339 1375.54 131.339 1368.44 Q131.339 1361.31 129.51 1357.77 Q127.705 1354.2 124.07 1354.2 M124.07 1350.5 Q129.881 1350.5 132.936 1355.1 Q136.015 1359.69 136.015 1368.44 Q136.015 1377.16 132.936 1381.77 Q129.881 1386.35 124.07 1386.35 Q118.26 1386.35 115.182 1381.77 Q112.126 1377.16 112.126 1368.44 Q112.126 1359.69 115.182 1355.1 Q118.26 1350.5 124.07 1350.5 Z\" fill=\"#000000\" fill-rule=\"evenodd\" fill-opacity=\"1\" /><path clip-path=\"url(#clip660)\" d=\"M154.232 1354.2 Q150.621 1354.2 148.793 1357.77 Q146.987 1361.31 146.987 1368.44 Q146.987 1375.54 148.793 1379.11 Q150.621 1382.65 154.232 1382.65 Q157.867 1382.65 159.672 1379.11 Q161.501 1375.54 161.501 1368.44 Q161.501 1361.31 159.672 1357.77 Q157.867 1354.2 154.232 1354.2 M154.232 1350.5 Q160.042 1350.5 163.098 1355.1 Q166.177 1359.69 166.177 1368.44 Q166.177 1377.16 163.098 1381.77 Q160.042 1386.35 154.232 1386.35 Q148.422 1386.35 145.343 1381.77 Q142.288 1377.16 142.288 1368.44 Q142.288 1359.69 145.343 1355.1 Q148.422 1350.5 154.232 1350.5 Z\" fill=\"#000000\" fill-rule=\"evenodd\" fill-opacity=\"1\" /><path clip-path=\"url(#clip660)\" d=\"M66.5939 1014.61 L54.7884 1033.06 L66.5939 1033.06 L66.5939 1014.61 M65.367 1010.54 L71.2466 1010.54 L71.2466 1033.06 L76.1772 1033.06 L76.1772 1036.95 L71.2466 1036.95 L71.2466 1045.1 L66.5939 1045.1 L66.5939 1036.95 L50.9921 1036.95 L50.9921 1032.44 L65.367 1010.54 Z\" fill=\"#000000\" fill-rule=\"evenodd\" fill-opacity=\"1\" /><path clip-path=\"url(#clip660)\" d=\"M93.9086 1013.62 Q90.2975 1013.62 88.4688 1017.18 Q86.6632 1020.72 86.6632 1027.85 Q86.6632 1034.96 88.4688 1038.52 Q90.2975 1042.07 93.9086 1042.07 Q97.5428 1042.07 99.3483 1038.52 Q101.177 1034.96 101.177 1027.85 Q101.177 1020.72 99.3483 1017.18 Q97.5428 1013.62 93.9086 1013.62 M93.9086 1009.91 Q99.7187 1009.91 102.774 1014.52 Q105.853 1019.1 105.853 1027.85 Q105.853 1036.58 102.774 1041.19 Q99.7187 1045.77 93.9086 1045.77 Q88.0984 1045.77 85.0197 1041.19 Q81.9642 1036.58 81.9642 1027.85 Q81.9642 1019.1 85.0197 1014.52 Q88.0984 1009.91 93.9086 1009.91 Z\" fill=\"#000000\" fill-rule=\"evenodd\" fill-opacity=\"1\" /><path clip-path=\"url(#clip660)\" d=\"M124.07 1013.62 Q120.459 1013.62 118.631 1017.18 Q116.825 1020.72 116.825 1027.85 Q116.825 1034.96 118.631 1038.52 Q120.459 1042.07 124.07 1042.07 Q127.705 1042.07 129.51 1038.52 Q131.339 1034.96 131.339 1027.85 Q131.339 1020.72 129.51 1017.18 Q127.705 1013.62 124.07 1013.62 M124.07 1009.91 Q129.881 1009.91 132.936 1014.52 Q136.015 1019.1 136.015 1027.85 Q136.015 1036.58 132.936 1041.19 Q129.881 1045.77 124.07 1045.77 Q118.26 1045.77 115.182 1041.19 Q112.126 1036.58 112.126 1027.85 Q112.126 1019.1 115.182 1014.52 Q118.26 1009.91 124.07 1009.91 Z\" fill=\"#000000\" fill-rule=\"evenodd\" fill-opacity=\"1\" /><path clip-path=\"url(#clip660)\" d=\"M154.232 1013.62 Q150.621 1013.62 148.793 1017.18 Q146.987 1020.72 146.987 1027.85 Q146.987 1034.96 148.793 1038.52 Q150.621 1042.07 154.232 1042.07 Q157.867 1042.07 159.672 1038.52 Q161.501 1034.96 161.501 1027.85 Q161.501 1020.72 159.672 1017.18 Q157.867 1013.62 154.232 1013.62 M154.232 1009.91 Q160.042 1009.91 163.098 1014.52 Q166.177 1019.1 166.177 1027.85 Q166.177 1036.58 163.098 1041.19 Q160.042 1045.77 154.232 1045.77 Q148.422 1045.77 145.343 1041.19 Q142.288 1036.58 142.288 1027.85 Q142.288 1019.1 145.343 1014.52 Q148.422 1009.91 154.232 1009.91 Z\" fill=\"#000000\" fill-rule=\"evenodd\" fill-opacity=\"1\" /><path clip-path=\"url(#clip660)\" d=\"M64.3254 685.371 Q61.1773 685.371 59.3254 687.524 Q57.4967 689.677 57.4967 693.426 Q57.4967 697.153 59.3254 699.329 Q61.1773 701.482 64.3254 701.482 Q67.4735 701.482 69.3022 699.329 Q71.1541 697.153 71.1541 693.426 Q71.1541 689.677 69.3022 687.524 Q67.4735 685.371 64.3254 685.371 M73.6077 670.718 L73.6077 674.978 Q71.8485 674.144 70.0429 673.704 Q68.2606 673.265 66.5013 673.265 Q61.8717 673.265 59.418 676.39 Q56.9875 679.515 56.6402 685.834 Q58.006 683.82 60.0662 682.755 Q62.1263 681.667 64.6032 681.667 Q69.8115 681.667 72.8207 684.839 Q75.8531 687.987 75.8531 693.426 Q75.8531 698.751 72.705 701.968 Q69.5568 705.186 64.3254 705.186 Q58.33 705.186 55.1588 700.602 Q51.9875 695.996 51.9875 687.269 Q51.9875 679.075 55.8764 674.214 Q59.7652 669.329 66.3161 669.329 Q68.0754 669.329 69.8578 669.677 Q71.6633 670.024 73.6077 670.718 Z\" fill=\"#000000\" fill-rule=\"evenodd\" fill-opacity=\"1\" /><path clip-path=\"url(#clip660)\" d=\"M93.9086 673.033 Q90.2975 673.033 88.4688 676.598 Q86.6632 680.14 86.6632 687.269 Q86.6632 694.376 88.4688 697.94 Q90.2975 701.482 93.9086 701.482 Q97.5428 701.482 99.3483 697.94 Q101.177 694.376 101.177 687.269 Q101.177 680.14 99.3483 676.598 Q97.5428 673.033 93.9086 673.033 M93.9086 669.329 Q99.7187 669.329 102.774 673.936 Q105.853 678.519 105.853 687.269 Q105.853 695.996 102.774 700.602 Q99.7187 705.186 93.9086 705.186 Q88.0984 705.186 85.0197 700.602 Q81.9642 695.996 81.9642 687.269 Q81.9642 678.519 85.0197 673.936 Q88.0984 669.329 93.9086 669.329 Z\" fill=\"#000000\" fill-rule=\"evenodd\" fill-opacity=\"1\" /><path clip-path=\"url(#clip660)\" d=\"M124.07 673.033 Q120.459 673.033 118.631 676.598 Q116.825 680.14 116.825 687.269 Q116.825 694.376 118.631 697.94 Q120.459 701.482 124.07 701.482 Q127.705 701.482 129.51 697.94 Q131.339 694.376 131.339 687.269 Q131.339 680.14 129.51 676.598 Q127.705 673.033 124.07 673.033 M124.07 669.329 Q129.881 669.329 132.936 673.936 Q136.015 678.519 136.015 687.269 Q136.015 695.996 132.936 700.602 Q129.881 705.186 124.07 705.186 Q118.26 705.186 115.182 700.602 Q112.126 695.996 112.126 687.269 Q112.126 678.519 115.182 673.936 Q118.26 669.329 124.07 669.329 Z\" fill=\"#000000\" fill-rule=\"evenodd\" fill-opacity=\"1\" /><path clip-path=\"url(#clip660)\" d=\"M154.232 673.033 Q150.621 673.033 148.793 676.598 Q146.987 680.14 146.987 687.269 Q146.987 694.376 148.793 697.94 Q150.621 701.482 154.232 701.482 Q157.867 701.482 159.672 697.94 Q161.501 694.376 161.501 687.269 Q161.501 680.14 159.672 676.598 Q157.867 673.033 154.232 673.033 M154.232 669.329 Q160.042 669.329 163.098 673.936 Q166.177 678.519 166.177 687.269 Q166.177 695.996 163.098 700.602 Q160.042 705.186 154.232 705.186 Q148.422 705.186 145.343 700.602 Q142.288 695.996 142.288 687.269 Q142.288 678.519 145.343 673.936 Q148.422 669.329 154.232 669.329 Z\" fill=\"#000000\" fill-rule=\"evenodd\" fill-opacity=\"1\" /><path clip-path=\"url(#clip660)\" d=\"M63.7467 347.518 Q60.4134 347.518 58.4921 349.301 Q56.5939 351.083 56.5939 354.208 Q56.5939 357.333 58.4921 359.115 Q60.4134 360.898 63.7467 360.898 Q67.08 360.898 69.0013 359.115 Q70.9226 357.31 70.9226 354.208 Q70.9226 351.083 69.0013 349.301 Q67.1032 347.518 63.7467 347.518 M59.0708 345.527 Q56.0615 344.787 54.3717 342.726 Q52.7051 340.666 52.7051 337.703 Q52.7051 333.56 55.6449 331.152 Q58.6078 328.745 63.7467 328.745 Q68.9087 328.745 71.8485 331.152 Q74.7883 333.56 74.7883 337.703 Q74.7883 340.666 73.0985 342.726 Q71.4318 344.787 68.4457 345.527 Q71.8253 346.314 73.7003 348.606 Q75.5985 350.898 75.5985 354.208 Q75.5985 359.231 72.5198 361.916 Q69.4642 364.601 63.7467 364.601 Q58.0291 364.601 54.9504 361.916 Q51.8949 359.231 51.8949 354.208 Q51.8949 350.898 53.793 348.606 Q55.6912 346.314 59.0708 345.527 M57.3578 338.143 Q57.3578 340.828 59.0245 342.333 Q60.7143 343.838 63.7467 343.838 Q66.7559 343.838 68.4457 342.333 Q70.1587 340.828 70.1587 338.143 Q70.1587 335.458 68.4457 333.953 Q66.7559 332.449 63.7467 332.449 Q60.7143 332.449 59.0245 333.953 Q57.3578 335.458 57.3578 338.143 Z\" fill=\"#000000\" fill-rule=\"evenodd\" fill-opacity=\"1\" /><path clip-path=\"url(#clip660)\" d=\"M93.9086 332.449 Q90.2975 332.449 88.4688 336.014 Q86.6632 339.555 86.6632 346.685 Q86.6632 353.791 88.4688 357.356 Q90.2975 360.898 93.9086 360.898 Q97.5428 360.898 99.3483 357.356 Q101.177 353.791 101.177 346.685 Q101.177 339.555 99.3483 336.014 Q97.5428 332.449 93.9086 332.449 M93.9086 328.745 Q99.7187 328.745 102.774 333.352 Q105.853 337.935 105.853 346.685 Q105.853 355.412 102.774 360.018 Q99.7187 364.601 93.9086 364.601 Q88.0984 364.601 85.0197 360.018 Q81.9642 355.412 81.9642 346.685 Q81.9642 337.935 85.0197 333.352 Q88.0984 328.745 93.9086 328.745 Z\" fill=\"#000000\" fill-rule=\"evenodd\" fill-opacity=\"1\" /><path clip-path=\"url(#clip660)\" d=\"M124.07 332.449 Q120.459 332.449 118.631 336.014 Q116.825 339.555 116.825 346.685 Q116.825 353.791 118.631 357.356 Q120.459 360.898 124.07 360.898 Q127.705 360.898 129.51 357.356 Q131.339 353.791 131.339 346.685 Q131.339 339.555 129.51 336.014 Q127.705 332.449 124.07 332.449 M124.07 328.745 Q129.881 328.745 132.936 333.352 Q136.015 337.935 136.015 346.685 Q136.015 355.412 132.936 360.018 Q129.881 364.601 124.07 364.601 Q118.26 364.601 115.182 360.018 Q112.126 355.412 112.126 346.685 Q112.126 337.935 115.182 333.352 Q118.26 328.745 124.07 328.745 Z\" fill=\"#000000\" fill-rule=\"evenodd\" fill-opacity=\"1\" /><path clip-path=\"url(#clip660)\" d=\"M154.232 332.449 Q150.621 332.449 148.793 336.014 Q146.987 339.555 146.987 346.685 Q146.987 353.791 148.793 357.356 Q150.621 360.898 154.232 360.898 Q157.867 360.898 159.672 357.356 Q161.501 353.791 161.501 346.685 Q161.501 339.555 159.672 336.014 Q157.867 332.449 154.232 332.449 M154.232 328.745 Q160.042 328.745 163.098 333.352 Q166.177 337.935 166.177 346.685 Q166.177 355.412 163.098 360.018 Q160.042 364.601 154.232 364.601 Q148.422 364.601 145.343 360.018 Q142.288 355.412 142.288 346.685 Q142.288 337.935 145.343 333.352 Q148.422 328.745 154.232 328.745 Z\" fill=\"#000000\" fill-rule=\"evenodd\" fill-opacity=\"1\" /><polyline clip-path=\"url(#clip662)\" style=\"stroke:#009af9; stroke-linecap:butt; stroke-linejoin:round; stroke-width:4; stroke-opacity:1; fill:none\" points=\"\n",
       "  263.042,1057.45 364.485,1136.47 465.927,1194.19 567.369,1261.8 668.812,1324.13 770.254,1365.34 871.697,1405.7 973.139,1425.11 1074.58,1445.72 1176.02,1419.15 \n",
       "  1277.47,1367.38 1378.91,1283.26 1480.35,1196.07 1581.79,1075.16 1683.24,953.912 1784.68,849.012 1886.12,698.133 1987.56,579.099 2089.01,414.426 2190.45,247.881 \n",
       "  2291.89,87.9763 \n",
       "  \"/>\n",
       "<path clip-path=\"url(#clip660)\" d=\"\n",
       "M1989.69 198.898 L2281.07 198.898 L2281.07 95.2176 L1989.69 95.2176  Z\n",
       "  \" fill=\"#ffffff\" fill-rule=\"evenodd\" fill-opacity=\"1\"/>\n",
       "<polyline clip-path=\"url(#clip660)\" style=\"stroke:#000000; stroke-linecap:butt; stroke-linejoin:round; stroke-width:4; stroke-opacity:1; fill:none\" points=\"\n",
       "  1989.69,198.898 2281.07,198.898 2281.07,95.2176 1989.69,95.2176 1989.69,198.898 \n",
       "  \"/>\n",
       "<polyline clip-path=\"url(#clip660)\" style=\"stroke:#009af9; stroke-linecap:butt; stroke-linejoin:round; stroke-width:4; stroke-opacity:1; fill:none\" points=\"\n",
       "  2013.58,147.058 2156.95,147.058 \n",
       "  \"/>\n",
       "<path clip-path=\"url(#clip660)\" d=\"M2194.69 166.745 Q2192.89 171.375 2191.17 172.787 Q2189.46 174.199 2186.59 174.199 L2183.19 174.199 L2183.19 170.634 L2185.69 170.634 Q2187.45 170.634 2188.42 169.8 Q2189.39 168.967 2190.57 165.865 L2191.34 163.921 L2180.85 138.412 L2185.36 138.412 L2193.46 158.689 L2201.57 138.412 L2206.08 138.412 L2194.69 166.745 Z\" fill=\"#000000\" fill-rule=\"evenodd\" fill-opacity=\"1\" /><path clip-path=\"url(#clip660)\" d=\"M2213.37 160.402 L2221.01 160.402 L2221.01 134.037 L2212.7 135.703 L2212.7 131.444 L2220.96 129.778 L2225.64 129.778 L2225.64 160.402 L2233.28 160.402 L2233.28 164.338 L2213.37 164.338 L2213.37 160.402 Z\" fill=\"#000000\" fill-rule=\"evenodd\" fill-opacity=\"1\" /></svg>\n"
      ]
     },
     "metadata": {},
     "output_type": "display_data"
    }
   ],
   "source": [
    "display(probs[difs .== minimum(difs)])\n",
    "plot(probs, difs)"
   ]
  },
  {
   "cell_type": "markdown",
   "metadata": {},
   "source": [
    "## Let's count attribute changes now"
   ]
  },
  {
   "cell_type": "code",
   "execution_count": 12,
   "metadata": {},
   "outputs": [
    {
     "data": {
      "text/plain": [
       "Dict{String, Set{Any}} with 12 entries:\n",
       "  \"premaritalsex_\" => Set([2, 3, 1])\n",
       "  \"ethnicity_1\"    => Set([4, 2, 3, 1])\n",
       "  \"hometown_1\"     => Set([2, 3, 1])\n",
       "  \"political_\"     => Set([2, 3, 1])\n",
       "  \"abortion_\"      => Set([2, 3, 1])\n",
       "  \"homosexual_\"    => Set([2, 3, 1])\n",
       "  \"marijuana_\"     => Set([2, 3, 1])\n",
       "  \"gender_1\"       => Set([2, 1])\n",
       "  \"gaymarriage_\"   => Set([2, 3, 1])\n",
       "  \"deathpen_\"      => Set([2, 3, 1])\n",
       "  \"euthanasia_\"    => Set([2, 3, 1])\n",
       "  \"age_1\"          => Set([2, 1])"
      ]
     },
     "metadata": {},
     "output_type": "display_data"
    }
   ],
   "source": [
    "#creating list of attributes\n",
    "list_of_attributes = Set([k for n in file[1].nodes for k in keys(file[1].nodes[n+1])])\n",
    "\n",
    "# creating possible attribute values\n",
    "attribute_values = Dict((attribute, Set() ) for attribute in list_of_attributes)\n",
    "\n",
    "for sem in 1:6\n",
    "    for node in file[sem].nodes()\n",
    "        for attribute in list_of_attributes\n",
    "            push!(attribute_values[attribute], convert(Int, file[sem].nodes[node + 1][attribute]))\n",
    "        end\n",
    "    end\n",
    "end\n",
    "\n",
    "attribute_values\n",
    "\n",
    "#To apply PCA or other analysis on all attributes (i.e. including ethnicity) \n",
    "#one would have to create an attribute for each race, that is is_1, is_2 etc. \n",
    "#Because this attribute is not ordered. "
   ]
  },
  {
   "cell_type": "code",
   "execution_count": 13,
   "metadata": {},
   "outputs": [
    {
     "data": {
      "text/plain": [
       "Dict{Int64, Matrix{Float64}} with 6 entries:\n",
       "  5 => [3.0 3.0 … 2.0 1.0; 3.0 3.0 … 2.0 2.0; … ; NaN NaN … NaN NaN; 1.0 3.0 … …\n",
       "  4 => [3.0 3.0 … 2.0 1.0; 3.0 3.0 … 2.0 1.0; … ; 1.0 1.0 … 1.0 1.0; 1.0 3.0 … …\n",
       "  6 => [NaN NaN … NaN NaN; 3.0 3.0 … 2.0 2.0; … ; NaN NaN … NaN NaN; NaN NaN … …\n",
       "  2 => [NaN NaN … NaN NaN; 3.0 3.0 … 2.0 2.0; … ; NaN NaN … NaN NaN; NaN NaN … …\n",
       "  3 => [3.0 3.0 … 2.0 1.0; 3.0 1.0 … 2.0 2.0; … ; NaN NaN … NaN NaN; NaN NaN … …\n",
       "  1 => [3.0 3.0 … 2.0 1.0; 2.0 2.0 … 2.0 1.0; … ; NaN NaN … NaN NaN; NaN NaN … …"
      ]
     },
     "metadata": {},
     "output_type": "display_data"
    }
   ],
   "source": [
    "#creating table of attribute values\n",
    "attributes = Dict((i, zeros(length(nodes), length(list_of_attributes))) for i in 1:6)\n",
    "# for i in 1:6\n",
    "#     attributes[i] = zeros(length(file[i].nodes), length(list_of_attributes))\n",
    "# end\n",
    "\n",
    "for sem in 1:6\n",
    "    for (i, node) in enumerate(nodes)\n",
    "        for (j, attribute) in enumerate(list_of_attributes)\n",
    "            if node in file[sem].nodes()\n",
    "                attributes[sem][i,j] = file[sem].nodes[node + 1][attribute]\n",
    "            else\n",
    "                attributes[sem][i,j] = NaN\n",
    "            end\n",
    "        end\n",
    "    end\n",
    "end\n",
    "attributes"
   ]
  },
  {
   "cell_type": "code",
   "execution_count": 14,
   "metadata": {},
   "outputs": [
    {
     "name": "stdout",
     "output_type": "stream",
     "text": [
      "Set([\"abortion_\", \"premaritalsex_\", \"homosexual_\", \"marijuana_\", \"euthanasia_\", \"gaymarriage_\", \"deathpen_\", \"political_\"])"
     ]
    },
    {
     "data": {
      "text/plain": [
       "Dict{Int64, Matrix{Float64}} with 6 entries:\n",
       "  5 => [3.0 3.0 … 3.0 1.0; 3.0 3.0 … 3.0 2.0; … ; NaN NaN … NaN NaN; 1.0 3.0 … …\n",
       "  4 => [3.0 3.0 … 3.0 1.0; 3.0 3.0 … 1.0 1.0; … ; 1.0 1.0 … 3.0 1.0; 1.0 3.0 … …\n",
       "  6 => [NaN NaN … NaN NaN; 3.0 3.0 … 3.0 2.0; … ; NaN NaN … NaN NaN; NaN NaN … …\n",
       "  2 => [NaN NaN … NaN NaN; 3.0 3.0 … 1.0 2.0; … ; NaN NaN … NaN NaN; NaN NaN … …\n",
       "  3 => [3.0 3.0 … 3.0 1.0; 3.0 1.0 … 1.0 2.0; … ; NaN NaN … NaN NaN; NaN NaN … …\n",
       "  1 => [3.0 3.0 … 3.0 1.0; 2.0 2.0 … 2.0 1.0; … ; NaN NaN … NaN NaN; NaN NaN … …"
      ]
     },
     "metadata": {},
     "output_type": "display_data"
    }
   ],
   "source": [
    "\n",
    "ord_list_of_attributes = setdiff(list_of_attributes, [\"ethnicity_1\", \"gender_1\", \"hometown_1\", \"age_1\"])\n",
    "print(ord_list_of_attributes)\n",
    "\n",
    "#creating table of attribute values\n",
    "ord_attributes = Dict((i, zeros(length(nodes), length(ord_list_of_attributes))) for i in 1:6)\n",
    "\n",
    "for sem in 1:6\n",
    "    for (i, node) in enumerate(nodes)\n",
    "        for (j, attribute) in enumerate(ord_list_of_attributes)\n",
    "            if node in file[sem].nodes()\n",
    "                ord_attributes[sem][i,j] = file[sem].nodes[node + 1][attribute]\n",
    "            else\n",
    "                ord_attributes[sem][i,j] = NaN\n",
    "            end\n",
    "        end\n",
    "    end\n",
    "end\n",
    "# for sem in range(1,7):\n",
    "#     for i, node in enumerate(data[sem].nodes()):\n",
    "#         for j, attribute in enumerate(ord_list_of_attributes):\n",
    "#             ord_attributes[sem][i,j] = data[sem].nodes[node][attribute]\n",
    "ord_attributes"
   ]
  },
  {
   "cell_type": "code",
   "execution_count": 15,
   "metadata": {},
   "outputs": [
    {
     "data": {
      "text/plain": [
       "count_attr_stays (generic function with 1 method)"
      ]
     },
     "metadata": {},
     "output_type": "display_data"
    }
   ],
   "source": [
    "# a change is a change of attribute from 1 to 2. a change from 1 to 3 are two changes. \n",
    "function count_attr_changes(ord_attributes)\n",
    "    sems = length(ord_attributes)\n",
    "    N = size(ord_attributes[1])[1]\n",
    "\n",
    "    changes = zeros(sems, sems)\n",
    "    max_change = zeros(sems, sems)\n",
    "\n",
    "    # for sem1 in 1:sems, sem2 in 1:sems\n",
    "    for i in 1:sems\n",
    "        for j in i:sems\n",
    "            attr_change = abs.(ord_attributes[i] .- ord_attributes[j])\n",
    "\n",
    "            changes[i,j] = sum(filter(!isnan, attr_change))\n",
    "            max_change[i,j] = length(filter(!isnan, attr_change))*2\n",
    "        end\n",
    "    end\n",
    "    return changes, max_change\n",
    "end\n",
    "\n",
    "# a change is a change of attribute from 1 to 2. a change from 1 to 3 are two changes. \n",
    "function count_attr_stays(ord_attributes)\n",
    "    sems = length(ord_attributes)\n",
    "    N = size(ord_attributes[1])[1]\n",
    "\n",
    "    stays = zeros(sems, sems)\n",
    "    max_stays = zeros(sems, sems)\n",
    "\n",
    "    # for sem1 in 1:sems, sem2 in 1:sems\n",
    "    for i in 1:sems\n",
    "        for j in i:sems\n",
    "            attr_stay = sum(ord_attributes[i] .== ord_attributes[j])\n",
    "\n",
    "            stays[i,j] = attr_stay\n",
    "            max_stays[i,j] = length(filter(!isnan, ord_attributes[i] .+ ord_attributes[j]))\n",
    "        end\n",
    "    end\n",
    "    return stays, max_stays\n",
    "end"
   ]
  },
  {
   "cell_type": "code",
   "execution_count": 16,
   "metadata": {},
   "outputs": [
    {
     "data": {
      "text/plain": [
       "6×6 Matrix{Float64}:\n",
       " 0.0  210.0  192.0  248.0  238.0  193.0\n",
       " 0.0    0.0  126.0  153.0  175.0  143.0\n",
       " 0.0    0.0    0.0  119.0  125.0  124.0\n",
       " 0.0    0.0    0.0    0.0  148.0  129.0\n",
       " 0.0    0.0    0.0    0.0    0.0  103.0\n",
       " 0.0    0.0    0.0    0.0    0.0    0.0"
      ]
     },
     "metadata": {},
     "output_type": "display_data"
    },
    {
     "data": {
      "text/plain": [
       "6×6 Matrix{Float64}:\n",
       " 1568.0  1376.0  1072.0  1360.0  1296.0  1008.0\n",
       "    0.0  1424.0  1040.0  1312.0  1248.0   960.0\n",
       "    0.0     0.0  1088.0  1072.0  1008.0   848.0\n",
       "    0.0     0.0     0.0  1424.0  1280.0   960.0\n",
       "    0.0     0.0     0.0     0.0  1360.0   992.0\n",
       "    0.0     0.0     0.0     0.0     0.0  1008.0"
      ]
     },
     "metadata": {},
     "output_type": "display_data"
    }
   ],
   "source": [
    "changes, max_change = count_attr_changes(ord_attributes)\n",
    "\n",
    "display(changes)\n",
    "display(max_change)"
   ]
  },
  {
   "cell_type": "code",
   "execution_count": 17,
   "metadata": {},
   "outputs": [
    {
     "data": {
      "text/plain": [
       "6×6 Matrix{Float64}:\n",
       "   0.0    0.152616    0.179104    0.182353    0.183642  0.191468\n",
       " NaN      0.0         0.121154    0.116616    0.140224  0.148958\n",
       " NaN    NaN           0.0         0.111007    0.124008  0.146226\n",
       " NaN    NaN         NaN           0.0         0.115625  0.134375\n",
       " NaN    NaN         NaN         NaN           0.0       0.103831\n",
       " NaN    NaN         NaN         NaN         NaN         0.0"
      ]
     },
     "metadata": {},
     "output_type": "display_data"
    }
   ],
   "source": [
    "changes ./ max_change"
   ]
  },
  {
   "cell_type": "code",
   "execution_count": 18,
   "metadata": {},
   "outputs": [
    {
     "data": {
      "text/plain": [
       "6×6 Matrix{Float64}:\n",
       " 784.0  525.0  388.0  491.0  462.0  361.0\n",
       "   0.0  712.0  421.0  531.0  485.0  372.0\n",
       "   0.0    0.0  544.0  440.0  404.0  331.0\n",
       "   0.0    0.0    0.0  712.0  522.0  378.0\n",
       "   0.0    0.0    0.0    0.0  680.0  412.0\n",
       "   0.0    0.0    0.0    0.0    0.0  504.0"
      ]
     },
     "metadata": {},
     "output_type": "display_data"
    },
    {
     "data": {
      "text/plain": [
       "6×6 Matrix{Float64}:\n",
       " 784.0  688.0  536.0  680.0  648.0  504.0\n",
       "   0.0  712.0  520.0  656.0  624.0  480.0\n",
       "   0.0    0.0  544.0  536.0  504.0  424.0\n",
       "   0.0    0.0    0.0  712.0  640.0  480.0\n",
       "   0.0    0.0    0.0    0.0  680.0  496.0\n",
       "   0.0    0.0    0.0    0.0    0.0  504.0"
      ]
     },
     "metadata": {},
     "output_type": "display_data"
    },
    {
     "data": {
      "text/plain": [
       "6×6 Matrix{Float64}:\n",
       "   1.0    0.763081    0.723881    0.722059    0.712963  0.71627\n",
       " NaN      1.0         0.809615    0.809451    0.777244  0.775\n",
       " NaN    NaN           1.0         0.820896    0.801587  0.78066\n",
       " NaN    NaN         NaN           1.0         0.815625  0.7875\n",
       " NaN    NaN         NaN         NaN           1.0       0.830645\n",
       " NaN    NaN         NaN         NaN         NaN         1.0"
      ]
     },
     "metadata": {},
     "output_type": "display_data"
    }
   ],
   "source": [
    "stays, max_stays = count_attr_stays(ord_attributes)\n",
    "\n",
    "display(stays)\n",
    "display(max_stays)\n",
    "display(stays ./ max_stays)"
   ]
  },
  {
   "cell_type": "markdown",
   "metadata": {},
   "source": [
    "## Now, let's see above only on triads"
   ]
  },
  {
   "cell_type": "code",
   "execution_count": 21,
   "metadata": {},
   "outputs": [
    {
     "data": {
      "text/plain": [
       "6×6 Matrix{Float64}:\n",
       " 0.0  128.0  146.0  169.0  151.0  151.0\n",
       " 0.0    0.0   94.0  107.0  108.0  114.0\n",
       " 0.0    0.0    0.0   91.0  102.0  111.0\n",
       " 0.0    0.0    0.0    0.0   93.0  104.0\n",
       " 0.0    0.0    0.0    0.0    0.0   76.0\n",
       " 0.0    0.0    0.0    0.0    0.0    0.0"
      ]
     },
     "metadata": {},
     "output_type": "display_data"
    },
    {
     "data": {
      "text/plain": [
       "6×6 Matrix{Float64}:\n",
       " 960.0  880.0  832.0  912.0  880.0  784.0\n",
       "   0.0  880.0  800.0  864.0  832.0  752.0\n",
       "   0.0    0.0  832.0  832.0  784.0  720.0\n",
       "   0.0    0.0    0.0  912.0  864.0  768.0\n",
       "   0.0    0.0    0.0    0.0  880.0  784.0\n",
       "   0.0    0.0    0.0    0.0    0.0  784.0"
      ]
     },
     "metadata": {},
     "output_type": "display_data"
    },
    {
     "data": {
      "text/plain": [
       "6×6 Matrix{Float64}:\n",
       "   0.0    0.145455    0.175481    0.185307    0.171591  0.192602\n",
       " NaN      0.0         0.1175      0.123843    0.129808  0.151596\n",
       " NaN    NaN           0.0         0.109375    0.130102  0.154167\n",
       " NaN    NaN         NaN           0.0         0.107639  0.135417\n",
       " NaN    NaN         NaN         NaN           0.0       0.0969388\n",
       " NaN    NaN         NaN         NaN         NaN         0.0"
      ]
     },
     "metadata": {},
     "output_type": "display_data"
    }
   ],
   "source": [
    "ord_attributes_triads = [ord_attributes[sem][triad_nodes, :] for sem in 1:6]\n",
    "\n",
    "changes, max_change = count_attr_changes(ord_attributes_triads)\n",
    "\n",
    "display(changes)\n",
    "display(max_change)\n",
    "display(changes ./ max_change)"
   ]
  },
  {
   "cell_type": "code",
   "execution_count": 22,
   "metadata": {},
   "outputs": [
    {
     "data": {
      "text/plain": [
       "6×6 Matrix{Float64}:\n",
       " 480.0  337.0  301.0  328.0  323.0  282.0\n",
       "   0.0  440.0  325.0  345.0  334.0  293.0\n",
       "   0.0    0.0  416.0  343.0  312.0  279.0\n",
       "   0.0    0.0    0.0  456.0  359.0  304.0\n",
       "   0.0    0.0    0.0    0.0  440.0  332.0\n",
       "   0.0    0.0    0.0    0.0    0.0  392.0"
      ]
     },
     "metadata": {},
     "output_type": "display_data"
    },
    {
     "data": {
      "text/plain": [
       "6×6 Matrix{Float64}:\n",
       " 480.0  440.0  416.0  456.0  440.0  392.0\n",
       "   0.0  440.0  400.0  432.0  416.0  376.0\n",
       "   0.0    0.0  416.0  416.0  392.0  360.0\n",
       "   0.0    0.0    0.0  456.0  432.0  384.0\n",
       "   0.0    0.0    0.0    0.0  440.0  392.0\n",
       "   0.0    0.0    0.0    0.0    0.0  392.0"
      ]
     },
     "metadata": {},
     "output_type": "display_data"
    },
    {
     "data": {
      "text/plain": [
       "6×6 Matrix{Float64}:\n",
       "   1.0    0.765909    0.723558    0.719298    0.734091  0.719388\n",
       " NaN      1.0         0.8125      0.798611    0.802885  0.779255\n",
       " NaN    NaN           1.0         0.824519    0.795918  0.775\n",
       " NaN    NaN         NaN           1.0         0.831019  0.791667\n",
       " NaN    NaN         NaN         NaN           1.0       0.846939\n",
       " NaN    NaN         NaN         NaN         NaN         1.0"
      ]
     },
     "metadata": {},
     "output_type": "display_data"
    }
   ],
   "source": [
    "stays, max_stays = count_attr_stays(ord_attributes_triads)\n",
    "\n",
    "display(stays)\n",
    "display(max_stays)\n",
    "display(stays ./ max_stays)"
   ]
  },
  {
   "cell_type": "markdown",
   "metadata": {},
   "source": [
    "## Let's count how many edges between nodes in triads vanish"
   ]
  },
  {
   "cell_type": "code",
   "execution_count": 23,
   "metadata": {},
   "outputs": [
    {
     "data": {
      "text/plain": [
       "(65.0, 105.0, 76.0)"
      ]
     },
     "metadata": {},
     "output_type": "display_data"
    },
    {
     "data": {
      "text/plain": [
       "6×6 Matrix{Float64}:\n",
       " 1.0       0.471545  0.318966  0.353383  0.310606  0.3\n",
       " 0.471545  1.0       0.512195  0.572917  0.5       0.395604\n",
       " 0.318966  0.512195  1.0       0.556962  0.506494  0.477612\n",
       " 0.353383  0.572917  0.556962  1.0       0.643678  0.448276\n",
       " 0.310606  0.5       0.506494  0.643678  1.0       0.565789\n",
       " 0.3       0.395604  0.477612  0.448276  0.565789  1.0"
      ]
     },
     "metadata": {},
     "output_type": "display_data"
    },
    {
     "data": {
      "text/plain": [
       "6×6 Matrix{Float64}:\n",
       " 1.0  0.552381  0.352381  0.447619  0.390476  0.342857\n",
       " 0.0  1.0       0.552632  0.723684  0.631579  0.473684\n",
       " 0.0  0.0       1.0       0.916667  0.8125    0.666667\n",
       " 0.0  0.0       0.0       1.0       0.746667  0.52\n",
       " 0.0  0.0       0.0       0.0       1.0       0.632353\n",
       " 0.0  0.0       0.0       0.0       0.0       1.0"
      ]
     },
     "metadata": {},
     "output_type": "display_data"
    },
    {
     "data": {
      "text/plain": [
       "6×6 Matrix{Float64}:\n",
       " 0.0  47.0  68.0  58.0  64.0  69.0\n",
       " 0.0   0.0  34.0  21.0  28.0  40.0\n",
       " 0.0   0.0   0.0   4.0   9.0  16.0\n",
       " 0.0   0.0   0.0   0.0  19.0  36.0\n",
       " 0.0   0.0   0.0   0.0   0.0  25.0\n",
       " 0.0   0.0   0.0   0.0   0.0   0.0"
      ]
     },
     "metadata": {},
     "output_type": "display_data"
    }
   ],
   "source": [
    "As2\n",
    "\n",
    "i=1; inc = 1;\n",
    "display((sum(abs.(As2[i + inc] .- As2[i]))/2, sum(As2[i])/2, sum(As2[i+inc])/2))\n",
    "\n",
    "overlap_nodes_triads = zeros(6,6)\n",
    "for i in 1:6, j in 1:6\n",
    "    overlap_nodes_triads[i,j] = sum(As2[i].*As2[j]) / sum(sign.(As2[i] .+ As2[j]))\n",
    "end\n",
    "display(overlap_nodes_triads)\n",
    "\n",
    "#how many links vanish?\n",
    "not_vanish_nodes_triads = zeros(6,6)\n",
    "vanish_abs_nodes_triads = zeros(6,6)\n",
    "for i in 1:6\n",
    "    for j in i:6\n",
    "        not_vanish_nodes_triads[i,j] = sum(As2[i].*As2[j]) / sum(As2[i])\n",
    "        vanish_abs_nodes_triads[i,j] = (sum(As2[i]) - sum(As2[i].*As2[j]))/2\n",
    "    end\n",
    "end\n",
    "display(not_vanish_nodes_triads)\n",
    "display(vanish_abs_nodes_triads)\n"
   ]
  },
  {
   "cell_type": "code",
   "execution_count": 24,
   "metadata": {},
   "outputs": [
    {
     "data": {
      "text/plain": [
       "6×6 Matrix{Float64}:\n",
       " 0.0  128.0  146.0  169.0  151.0  151.0\n",
       " 0.0    0.0   94.0  107.0  108.0  114.0\n",
       " 0.0    0.0    0.0   91.0  102.0  111.0\n",
       " 0.0    0.0    0.0    0.0   93.0  104.0\n",
       " 0.0    0.0    0.0    0.0    0.0   76.0\n",
       " 0.0    0.0    0.0    0.0    0.0    0.0"
      ]
     },
     "metadata": {},
     "output_type": "display_data"
    },
    {
     "data": {
      "text/plain": [
       "6×6 Matrix{Float64}:\n",
       " NaN    2.7234    2.14706    2.91379    2.35938    2.18841\n",
       " NaN  NaN         2.76471    5.09524    3.85714    2.85\n",
       " NaN  NaN       NaN         22.75      11.3333     6.9375\n",
       " NaN  NaN       NaN        NaN          4.89474    2.88889\n",
       " NaN  NaN       NaN        NaN        NaN          3.04\n",
       " NaN  NaN       NaN        NaN        NaN        NaN"
      ]
     },
     "metadata": {},
     "output_type": "display_data"
    }
   ],
   "source": [
    "# display(vanish_abs_nodes_triads)\n",
    "display(changes)\n",
    "display(changes ./ vanish_abs_nodes_triads)\n",
    "\n",
    "# diff = changes .- triad_vanish_abs\n",
    "# [diff[i, i+1] for i in 1:5]"
   ]
  },
  {
   "cell_type": "code",
   "execution_count": 25,
   "metadata": {},
   "outputs": [
    {
     "name": "stdout",
     "output_type": "stream",
     "text": [
      "Total number of attribute changes from term to term: 482.0\n",
      "Total number of edges vanished from term to term: 129.0\n"
     ]
    },
    {
     "data": {
      "text/plain": [
       "0.21112929623567922"
      ]
     },
     "metadata": {},
     "output_type": "display_data"
    }
   ],
   "source": [
    "attr_tot = sum([changes[i, i+1] for i in 1:5])\n",
    "println(\"Total number of attribute changes from term to term: \" * string(attr_tot))\n",
    "edges_vanish_tot = sum([vanish_abs_nodes_triads[i, i+1] for i in 1:5])\n",
    "println(\"Total number of edges vanished from term to term: \" * string(edges_vanish_tot))\n",
    "\n",
    "pr = edges_vanish_tot / (edges_vanish_tot + attr_tot)"
   ]
  },
  {
   "cell_type": "code",
   "execution_count": 26,
   "metadata": {},
   "outputs": [
    {
     "name": "stdout",
     "output_type": "stream",
     "text": [
      "Total number of attribute changes from term to term: 482.0\n",
      "Total number of edges vanished from term to term: 129.0\n"
     ]
    },
    {
     "data": {
      "text/plain": [
       "0.21112929623567922"
      ]
     },
     "metadata": {},
     "output_type": "display_data"
    }
   ],
   "source": [
    "attr_tot = sum([changes[i, i+1] for i in 1:5])\n",
    "println(\"Total number of attribute changes from term to term: \" * string(attr_tot))\n",
    "edges_vanish_tot = sum([vanish_abs_nodes_triads[i, i+1] for i in 1:5])\n",
    "println(\"Total number of edges vanished from term to term: \" * string(edges_vanish_tot))\n",
    "\n",
    "pr = edges_vanish_tot / (edges_vanish_tot + attr_tot)"
   ]
  },
  {
   "cell_type": "markdown",
   "metadata": {},
   "source": [
    "## Number of unbalanced triads\n",
    "\n",
    "Let's see how this number changes with threshold"
   ]
  },
  {
   "cell_type": "code",
   "execution_count": 40,
   "metadata": {},
   "outputs": [],
   "source": [
    "using NetHeider\n",
    "using LinearAlgebra\n",
    "using Plots"
   ]
  },
  {
   "cell_type": "code",
   "execution_count": 33,
   "metadata": {},
   "outputs": [
    {
     "data": {
      "text/plain": [
       "6-element Vector{Symmetric{Float64, Matrix{Float64}}}:\n",
       " [0.0 1.0 … NaN NaN; 1.0 0.0 … NaN NaN; … ; NaN NaN … 0.0 NaN; NaN NaN … NaN 0.0]\n",
       " [0.0 NaN … NaN NaN; NaN 0.0 … NaN NaN; … ; NaN NaN … 0.0 NaN; NaN NaN … NaN 0.0]\n",
       " [0.0 1.0 … NaN NaN; 1.0 0.0 … NaN NaN; … ; NaN NaN … 0.0 NaN; NaN NaN … NaN 0.0]\n",
       " [0.0 1.0 … -1.0 -1.0; 1.0 0.0 … -1.0 1.0; … ; -1.0 -1.0 … 0.0 -1.0; -1.0 1.0 … -1.0 0.0]\n",
       " [0.0 1.0 … NaN -1.0; 1.0 0.0 … NaN 1.0; … ; NaN NaN … 0.0 NaN; -1.0 1.0 … NaN 0.0]\n",
       " [0.0 NaN … NaN NaN; NaN 0.0 … NaN NaN; … ; NaN NaN … 0.0 NaN; NaN NaN … NaN 0.0]"
      ]
     },
     "metadata": {},
     "output_type": "display_data"
    }
   ],
   "source": [
    "G = 8\n",
    "th = 0.51\n",
    "v = 3\n",
    "aT = OrderedAttributes(G, th, v)\n",
    "N = 60\n",
    "all_signs = [Symmetric(sign.(get_attribute_layer_weights(aT, ord_attributes[i]))) for i in 1:6]"
   ]
  },
  {
   "cell_type": "code",
   "execution_count": 34,
   "metadata": {},
   "outputs": [
    {
     "data": {
      "text/plain": [
       "66"
      ]
     },
     "metadata": {},
     "output_type": "display_data"
    }
   ],
   "source": [
    "# calculate list of triads\n",
    "\n",
    "all_triads_list = unique([triad for triads in all_triads for triad in triads])\n",
    "\n",
    "length(all_triads_list)"
   ]
  },
  {
   "cell_type": "code",
   "execution_count": 35,
   "metadata": {},
   "outputs": [
    {
     "data": {
      "text/plain": [
       "get_triad_transitions (generic function with 1 method)"
      ]
     },
     "metadata": {},
     "output_type": "display_data"
    }
   ],
   "source": [
    "#returns two values: \n",
    "# first value (true- balanced, false - unbalanced)\n",
    "# second value is triad type (0, 1, 2, 3) - number of negative links\n",
    "function get_triad_type(triad, signs)\n",
    "    links = [(triad[1], triad[2]), (triad[3], triad[2]), (triad[1], triad[3])]\n",
    "\n",
    "    triad_signs = [signs[link...] for link in links]\n",
    "\n",
    "    is_balanced = prod(triad_signs) > 0\n",
    "    triad_type = sum(triad_signs .== -1)\n",
    "\n",
    "    return is_balanced, triad_type\n",
    "end\n",
    "\n",
    "# Returns two Arrays. \n",
    "# First - balanced (1), unbalanced (2) or lack of triad (3). \n",
    "# Second - triad_type (0-3) or lack of triad (4). \n",
    "function get_triads_history(all_triads_list, all_signs)\n",
    "    T = length(all_triads_list)\n",
    "\n",
    "    triads_balanced_hist = Array{Any}(undef, T, 6)\n",
    "    triads_type_hist = Array{Any}(undef, T, 6)\n",
    "    for (ti, triad) in enumerate(all_triads_list), sem in 1:6\n",
    "        is_balanced = 3\n",
    "        triad_type = 4\n",
    "        if triad in all_triads[sem]\n",
    "            is_balanced, triad_type = get_triad_type(triad, all_signs[sem])\n",
    "            is_balanced = is_balanced ? 1 : 2\n",
    "        end\n",
    "        triads_balanced_hist[ti, sem] = is_balanced\n",
    "        triads_type_hist[ti, sem] = triad_type\n",
    "    end\n",
    "\n",
    "    return triads_balanced_hist, triads_type_hist\n",
    "end\n",
    "\n",
    "\n",
    "function get_triad_transitions(all_triads, threshold, attrs; all_triads_list = [] )\n",
    "    aT = OrderedAttributes(8, threshold, 3)\n",
    "\n",
    "    if isempty(all_triads_list)\n",
    "        all_triads_list = unique([triad for triads in all_triads for triad in triads])\n",
    "    end\n",
    "    T = length(all_triads_list)\n",
    "\n",
    "    all_signs = [Symmetric(sign.(get_attribute_layer_weights(aT, attrs[i]))) .* 1. for i in 1:6]\n",
    "    map(x-> x[x .== 0.] .= 1, all_signs)\n",
    "\n",
    "    triads_balanced_hist, triads_type_hist = get_triads_history(all_triads_list, all_signs)\n",
    "\n",
    "    bal_trans = zeros(3,3) \n",
    "    bal_trans2 = zeros(2,2) # let's remove all nans, so if the triad exist in semesters 1, 3, 4, then there are 2 transitions 1->3, 3->4\n",
    "\n",
    "    type_trans = zeros(5,5)\n",
    "    type_trans2 = zeros(4,4)\n",
    "\n",
    "    for (ti, triad) in enumerate(all_triads_list)\n",
    "        # for sem in 1:5\n",
    "        #     inds = triads_balanced_hist[ti, sem:(sem+1)]\n",
    "        #     bal_trans[inds...] += 1\n",
    "        #     inds = triads_type_hist[ti,sem:(sem+1)] .+ 1\n",
    "        #     type_trans[inds...] += 1\n",
    "        # end\n",
    "        inds = [[triads_balanced_hist[ti,i], triads_balanced_hist[ti,i+1]] for i in 1:5]\n",
    "        map((x) -> bal_trans[x...] += 1, inds)\n",
    "\n",
    "        inds = [[triads_type_hist[ti,i], triads_type_hist[ti, i+1]] .+ 1 for i in 1:5]\n",
    "        map((x) -> type_trans[x...] += 1, inds)\n",
    "\n",
    "        triad_exists = triads_balanced_hist[ti,:] .!= 3\n",
    "        els = sum(triad_exists)\n",
    "        if els == 1\n",
    "            continue\n",
    "        end\n",
    "        \n",
    "        bal_hist = triads_balanced_hist[ti, triad_exists]\n",
    "        type_hist = triads_type_hist[ti,triad_exists]\n",
    "\n",
    "        inds = [[bal_hist[i], bal_hist[i+1]] for i in 1:els-1]\n",
    "        map((x) -> bal_trans2[x...] += 1, inds)\n",
    "\n",
    "        inds = [[type_hist[i], type_hist[i+1]] .+ 1 for i in 1:els-1]\n",
    "        map((x) -> type_trans2[x...] += 1, inds)\n",
    "\n",
    "    end\n",
    "\n",
    "    return bal_trans, type_trans, bal_trans2, type_trans2\n",
    "end"
   ]
  },
  {
   "cell_type": "code",
   "execution_count": 55,
   "metadata": {},
   "outputs": [],
   "source": [
    "ths = [0:15...] ./ 16\n",
    "\n",
    "num_bal_triads = zeros(length(ths), 6)\n",
    "num_unbal_triads = zeros(length(ths), 6)\n",
    "\n",
    "for (it, th) in enumerate(ths)\n",
    "    aT = OrderedAttributes(8, th, 3)\n",
    "\n",
    "    all_signs = [Symmetric(sign.(get_attribute_layer_weights(aT, ord_attributes[i]))) .* 1. for i in 1:6]\n",
    "    map(x-> x[x .== 0.] .= 1, all_signs)\n",
    "\n",
    "    for sem in 1:6\n",
    "        for triad in all_triads[sem]\n",
    "            is_bal, _ = get_triad_type(triad, all_signs[sem])\n",
    "            num_bal_triads[it, sem] += is_bal\n",
    "            num_unbal_triads[it, sem] += 1-is_bal\n",
    "        end\n",
    "    end\n",
    "end\n"
   ]
  },
  {
   "cell_type": "code",
   "execution_count": 56,
   "metadata": {},
   "outputs": [
    {
     "data": {
      "image/png": "[encoded data removed]",
      "image/svg+xml": "<?xml version=\"1.0\" encoding=\"utf-8\"?>\n<svg xmlns=\"http://www.w3.org/2000/svg\" xmlns:xlink=\"http://www.w3.org/1999/xlink\" width=\"600\" height=\"400\" viewBox=\"0 0 2400 1600\">\n<defs>\n  <clipPath id=\"clip270\">\n    <rect x=\"0\" y=\"0\" width=\"2400\" height=\"1600\"/>\n  </clipPath>\n</defs>\n<path clip-path=\"url(#clip270)\" d=\"\nM0 1600 L2400 1600 L2400 0 L0 0  Z\n  \" fill=\"#ffffff\" fill-rule=\"evenodd\" fill-opacity=\"1\"/>\n<defs>\n  <clipPath id=\"clip271\">\n    <rect x=\"480\" y=\"0\" width=\"1681\" height=\"1600\"/>\n  </clipPath>\n</defs>\n<path clip-path=\"url(#clip270)\" d=\"\nM141.853 1423.18 L2352.76 1423.18 L2352.76 123.472 L141.853 123.472  Z\n  \" fill=\"#ffffff\" fill-rule=\"evenodd\" fill-opacity=\"1\"/>\n<defs>\n  <clipPath id=\"clip272\">\n    <rect x=\"141\" y=\"123\" width=\"2212\" height=\"1301\"/>\n  </clipPath>\n</defs>\n<polyline clip-path=\"url(#clip272)\" style=\"stroke:#000000; stroke-linecap:butt; stroke-linejoin:round; stroke-width:2; stroke-opacity:0.1; fill:none\" points=\"\n  204.426,1423.18 204.426,123.472 \n  \"/>\n<polyline clip-path=\"url(#clip272)\" style=\"stroke:#000000; stroke-linecap:butt; stroke-linejoin:round; stroke-width:2; stroke-opacity:0.1; fill:none\" points=\"\n  649.387,1423.18 649.387,123.472 \n  \"/>\n<polyline clip-path=\"url(#clip272)\" style=\"stroke:#000000; stroke-linecap:butt; stroke-linejoin:round; stroke-width:2; stroke-opacity:0.1; fill:none\" points=\"\n  1094.35,1423.18 1094.35,123.472 \n  \"/>\n<polyline clip-path=\"url(#clip272)\" style=\"stroke:#000000; stroke-linecap:butt; stroke-linejoin:round; stroke-width:2; stroke-opacity:0.1; fill:none\" points=\"\n  1539.31,1423.18 1539.31,123.472 \n  \"/>\n<polyline clip-path=\"url(#clip272)\" style=\"stroke:#000000; stroke-linecap:butt; stroke-linejoin:round; stroke-width:2; stroke-opacity:0.1; fill:none\" points=\"\n  1984.27,1423.18 1984.27,123.472 \n  \"/>\n<polyline clip-path=\"url(#clip270)\" style=\"stroke:#000000; stroke-linecap:butt; stroke-linejoin:round; stroke-width:4; stroke-opacity:1; fill:none\" points=\"\n  141.853,1423.18 2352.76,1423.18 \n  \"/>\n<polyline clip-path=\"url(#clip270)\" style=\"stroke:#000000; stroke-linecap:butt; stroke-linejoin:round; stroke-width:4; stroke-opacity:1; fill:none\" points=\"\n  204.426,1423.18 204.426,1404.28 \n  \"/>\n<polyline clip-path=\"url(#clip270)\" style=\"stroke:#000000; stroke-linecap:butt; stroke-linejoin:round; stroke-width:4; stroke-opacity:1; fill:none\" points=\"\n  649.387,1423.18 649.387,1404.28 \n  \"/>\n<polyline clip-path=\"url(#clip270)\" style=\"stroke:#000000; stroke-linecap:butt; stroke-linejoin:round; stroke-width:4; stroke-opacity:1; fill:none\" points=\"\n  1094.35,1423.18 1094.35,1404.28 \n  \"/>\n<polyline clip-path=\"url(#clip270)\" style=\"stroke:#000000; stroke-linecap:butt; stroke-linejoin:round; stroke-width:4; stroke-opacity:1; fill:none\" points=\"\n  1539.31,1423.18 1539.31,1404.28 \n  \"/>\n<polyline clip-path=\"url(#clip270)\" style=\"stroke:#000000; stroke-linecap:butt; stroke-linejoin:round; stroke-width:4; stroke-opacity:1; fill:none\" points=\"\n  1984.27,1423.18 1984.27,1404.28 \n  \"/>\n<path clip-path=\"url(#clip270)\" d=\"M181.81 1454.1 Q178.199 1454.1 176.37 1457.66 Q174.565 1461.2 174.565 1468.33 Q174.565 1475.44 176.37 1479.01 Q178.199 1482.55 181.81 1482.55 Q185.444 1482.55 187.25 1479.01 Q189.079 1475.44 189.079 1468.33 Q189.079 1461.2 187.25 1457.66 Q185.444 1454.1 181.81 1454.1 M181.81 1450.39 Q187.62 1450.39 190.676 1455 Q193.754 1459.58 193.754 1468.33 Q193.754 1477.06 190.676 1481.67 Q187.62 1486.25 181.81 1486.25 Q176 1486.25 172.921 1481.67 Q169.866 1477.06 169.866 1468.33 Q169.866 1459.58 172.921 1455 Q176 1450.39 181.81 1450.39 Z\" fill=\"#000000\" fill-rule=\"evenodd\" fill-opacity=\"1\" /><path clip-path=\"url(#clip270)\" d=\"M201.972 1479.7 L206.856 1479.7 L206.856 1485.58 L201.972 1485.58 L201.972 1479.7 Z\" fill=\"#000000\" fill-rule=\"evenodd\" fill-opacity=\"1\" /><path clip-path=\"url(#clip270)\" d=\"M227.041 1454.1 Q223.43 1454.1 221.602 1457.66 Q219.796 1461.2 219.796 1468.33 Q219.796 1475.44 221.602 1479.01 Q223.43 1482.55 227.041 1482.55 Q230.676 1482.55 232.481 1479.01 Q234.31 1475.44 234.31 1468.33 Q234.31 1461.2 232.481 1457.66 Q230.676 1454.1 227.041 1454.1 M227.041 1450.39 Q232.851 1450.39 235.907 1455 Q238.986 1459.58 238.986 1468.33 Q238.986 1477.06 235.907 1481.67 Q232.851 1486.25 227.041 1486.25 Q221.231 1486.25 218.152 1481.67 Q215.097 1477.06 215.097 1468.33 Q215.097 1459.58 218.152 1455 Q221.231 1450.39 227.041 1450.39 Z\" fill=\"#000000\" fill-rule=\"evenodd\" fill-opacity=\"1\" /><path clip-path=\"url(#clip270)\" d=\"M627.57 1454.1 Q623.959 1454.1 622.13 1457.66 Q620.325 1461.2 620.325 1468.33 Q620.325 1475.44 622.13 1479.01 Q623.959 1482.55 627.57 1482.55 Q631.204 1482.55 633.01 1479.01 Q634.839 1475.44 634.839 1468.33 Q634.839 1461.2 633.01 1457.66 Q631.204 1454.1 627.57 1454.1 M627.57 1450.39 Q633.38 1450.39 636.436 1455 Q639.515 1459.58 639.515 1468.33 Q639.515 1477.06 636.436 1481.67 Q633.38 1486.25 627.57 1486.25 Q621.76 1486.25 618.681 1481.67 Q615.626 1477.06 615.626 1468.33 Q615.626 1459.58 618.681 1455 Q621.76 1450.39 627.57 1450.39 Z\" fill=\"#000000\" fill-rule=\"evenodd\" fill-opacity=\"1\" /><path clip-path=\"url(#clip270)\" d=\"M647.732 1479.7 L652.616 1479.7 L652.616 1485.58 L647.732 1485.58 L647.732 1479.7 Z\" fill=\"#000000\" fill-rule=\"evenodd\" fill-opacity=\"1\" /><path clip-path=\"url(#clip270)\" d=\"M666.829 1481.64 L683.149 1481.64 L683.149 1485.58 L661.204 1485.58 L661.204 1481.64 Q663.866 1478.89 668.45 1474.26 Q673.056 1469.61 674.237 1468.27 Q676.482 1465.74 677.362 1464.01 Q678.264 1462.25 678.264 1460.56 Q678.264 1457.8 676.32 1456.07 Q674.399 1454.33 671.297 1454.33 Q669.098 1454.33 666.644 1455.09 Q664.214 1455.86 661.436 1457.41 L661.436 1452.69 Q664.26 1451.55 666.714 1450.97 Q669.167 1450.39 671.204 1450.39 Q676.575 1450.39 679.769 1453.08 Q682.963 1455.77 682.963 1460.26 Q682.963 1462.39 682.153 1464.31 Q681.366 1466.2 679.26 1468.8 Q678.681 1469.47 675.579 1472.69 Q672.477 1475.88 666.829 1481.64 Z\" fill=\"#000000\" fill-rule=\"evenodd\" fill-opacity=\"1\" /><path clip-path=\"url(#clip270)\" d=\"M1071.49 1454.1 Q1067.88 1454.1 1066.05 1457.66 Q1064.24 1461.2 1064.24 1468.33 Q1064.24 1475.44 1066.05 1479.01 Q1067.88 1482.55 1071.49 1482.55 Q1075.12 1482.55 1076.93 1479.01 Q1078.76 1475.44 1078.76 1468.33 Q1078.76 1461.2 1076.93 1457.66 Q1075.12 1454.1 1071.49 1454.1 M1071.49 1450.39 Q1077.3 1450.39 1080.36 1455 Q1083.43 1459.58 1083.43 1468.33 Q1083.43 1477.06 1080.36 1481.67 Q1077.3 1486.25 1071.49 1486.25 Q1065.68 1486.25 1062.6 1481.67 Q1059.55 1477.06 1059.55 1468.33 Q1059.55 1459.58 1062.6 1455 Q1065.68 1450.39 1071.49 1450.39 Z\" fill=\"#000000\" fill-rule=\"evenodd\" fill-opacity=\"1\" /><path clip-path=\"url(#clip270)\" d=\"M1091.65 1479.7 L1096.54 1479.7 L1096.54 1485.58 L1091.65 1485.58 L1091.65 1479.7 Z\" fill=\"#000000\" fill-rule=\"evenodd\" fill-opacity=\"1\" /><path clip-path=\"url(#clip270)\" d=\"M1119.57 1455.09 L1107.76 1473.54 L1119.57 1473.54 L1119.57 1455.09 M1118.34 1451.02 L1124.22 1451.02 L1124.22 1473.54 L1129.15 1473.54 L1129.15 1477.43 L1124.22 1477.43 L1124.22 1485.58 L1119.57 1485.58 L1119.57 1477.43 L1103.97 1477.43 L1103.97 1472.92 L1118.34 1451.02 Z\" fill=\"#000000\" fill-rule=\"evenodd\" fill-opacity=\"1\" /><path clip-path=\"url(#clip270)\" d=\"M1516.61 1454.1 Q1513 1454.1 1511.17 1457.66 Q1509.37 1461.2 1509.37 1468.33 Q1509.37 1475.44 1511.17 1479.01 Q1513 1482.55 1516.61 1482.55 Q1520.25 1482.55 1522.05 1479.01 Q1523.88 1475.44 1523.88 1468.33 Q1523.88 1461.2 1522.05 1457.66 Q1520.25 1454.1 1516.61 1454.1 M1516.61 1450.39 Q1522.42 1450.39 1525.48 1455 Q1528.56 1459.58 1528.56 1468.33 Q1528.56 1477.06 1525.48 1481.67 Q1522.42 1486.25 1516.61 1486.25 Q1510.8 1486.25 1507.72 1481.67 Q1504.67 1477.06 1504.67 1468.33 Q1504.67 1459.58 1507.72 1455 Q1510.8 1450.39 1516.61 1450.39 Z\" fill=\"#000000\" fill-rule=\"evenodd\" fill-opacity=\"1\" /><path clip-path=\"url(#clip270)\" d=\"M1536.78 1479.7 L1541.66 1479.7 L1541.66 1485.58 L1536.78 1485.58 L1536.78 1479.7 Z\" fill=\"#000000\" fill-rule=\"evenodd\" fill-opacity=\"1\" /><path clip-path=\"url(#clip270)\" d=\"M1562.42 1466.44 Q1559.28 1466.44 1557.42 1468.59 Q1555.6 1470.74 1555.6 1474.49 Q1555.6 1478.22 1557.42 1480.39 Q1559.28 1482.55 1562.42 1482.55 Q1565.57 1482.55 1567.4 1480.39 Q1569.25 1478.22 1569.25 1474.49 Q1569.25 1470.74 1567.4 1468.59 Q1565.57 1466.44 1562.42 1466.44 M1571.71 1451.78 L1571.71 1456.04 Q1569.95 1455.21 1568.14 1454.77 Q1566.36 1454.33 1564.6 1454.33 Q1559.97 1454.33 1557.52 1457.45 Q1555.09 1460.58 1554.74 1466.9 Q1556.1 1464.89 1558.16 1463.82 Q1560.22 1462.73 1562.7 1462.73 Q1567.91 1462.73 1570.92 1465.9 Q1573.95 1469.05 1573.95 1474.49 Q1573.95 1479.82 1570.8 1483.03 Q1567.66 1486.25 1562.42 1486.25 Q1556.43 1486.25 1553.26 1481.67 Q1550.09 1477.06 1550.09 1468.33 Q1550.09 1460.14 1553.97 1455.28 Q1557.86 1450.39 1564.41 1450.39 Q1566.17 1450.39 1567.96 1450.74 Q1569.76 1451.09 1571.71 1451.78 Z\" fill=\"#000000\" fill-rule=\"evenodd\" fill-opacity=\"1\" /><path clip-path=\"url(#clip270)\" d=\"M1961.7 1454.1 Q1958.09 1454.1 1956.26 1457.66 Q1954.46 1461.2 1954.46 1468.33 Q1954.46 1475.44 1956.26 1479.01 Q1958.09 1482.55 1961.7 1482.55 Q1965.34 1482.55 1967.14 1479.01 Q1968.97 1475.44 1968.97 1468.33 Q1968.97 1461.2 1967.14 1457.66 Q1965.34 1454.1 1961.7 1454.1 M1961.7 1450.39 Q1967.51 1450.39 1970.57 1455 Q1973.65 1459.58 1973.65 1468.33 Q1973.65 1477.06 1970.57 1481.67 Q1967.51 1486.25 1961.7 1486.25 Q1955.89 1486.25 1952.81 1481.67 Q1949.76 1477.06 1949.76 1468.33 Q1949.76 1459.58 1952.81 1455 Q1955.89 1450.39 1961.7 1450.39 Z\" fill=\"#000000\" fill-rule=\"evenodd\" fill-opacity=\"1\" /><path clip-path=\"url(#clip270)\" d=\"M1981.86 1479.7 L1986.75 1479.7 L1986.75 1485.58 L1981.86 1485.58 L1981.86 1479.7 Z\" fill=\"#000000\" fill-rule=\"evenodd\" fill-opacity=\"1\" /><path clip-path=\"url(#clip270)\" d=\"M2006.93 1469.17 Q2003.6 1469.17 2001.68 1470.95 Q1999.78 1472.73 1999.78 1475.86 Q1999.78 1478.98 2001.68 1480.77 Q2003.6 1482.55 2006.93 1482.55 Q2010.27 1482.55 2012.19 1480.77 Q2014.11 1478.96 2014.11 1475.86 Q2014.11 1472.73 2012.19 1470.95 Q2010.29 1469.17 2006.93 1469.17 M2002.26 1467.18 Q1999.25 1466.44 1997.56 1464.38 Q1995.89 1462.32 1995.89 1459.35 Q1995.89 1455.21 1998.83 1452.8 Q2001.8 1450.39 2006.93 1450.39 Q2012.1 1450.39 2015.04 1452.8 Q2017.98 1455.21 2017.98 1459.35 Q2017.98 1462.32 2016.29 1464.38 Q2014.62 1466.44 2011.63 1467.18 Q2015.01 1467.96 2016.89 1470.26 Q2018.79 1472.55 2018.79 1475.86 Q2018.79 1480.88 2015.71 1483.57 Q2012.65 1486.25 2006.93 1486.25 Q2001.22 1486.25 1998.14 1483.57 Q1995.08 1480.88 1995.08 1475.86 Q1995.08 1472.55 1996.98 1470.26 Q1998.88 1467.96 2002.26 1467.18 M2000.55 1459.79 Q2000.55 1462.48 2002.21 1463.98 Q2003.9 1465.49 2006.93 1465.49 Q2009.94 1465.49 2011.63 1463.98 Q2013.35 1462.48 2013.35 1459.79 Q2013.35 1457.11 2011.63 1455.6 Q2009.94 1454.1 2006.93 1454.1 Q2003.9 1454.1 2002.21 1455.6 Q2000.55 1457.11 2000.55 1459.79 Z\" fill=\"#000000\" fill-rule=\"evenodd\" fill-opacity=\"1\" /><path clip-path=\"url(#clip270)\" d=\"M1236.07 1540.03 L1258.54 1540.03 L1258.54 1545.45 L1236.07 1545.45 L1236.07 1540.03 M1247.34 1524.88 Q1240.33 1524.88 1236.23 1530.1 Q1232.09 1535.32 1232.09 1544.33 Q1232.09 1553.31 1236.2 1558.53 Q1240.33 1563.75 1247.34 1563.75 Q1254.34 1563.75 1258.44 1558.53 Q1262.52 1553.31 1262.52 1544.33 Q1262.52 1535.32 1258.44 1530.1 Q1254.34 1524.88 1247.34 1524.88 M1247.34 1519.66 Q1257.33 1519.66 1263.31 1526.38 Q1269.3 1533.06 1269.3 1544.33 Q1269.3 1555.57 1263.31 1562.25 Q1257.33 1568.97 1247.34 1568.97 Q1237.31 1568.97 1231.33 1562.28 Q1225.31 1555.6 1225.31 1544.33 Q1225.31 1533.06 1231.33 1526.35 Q1237.31 1519.66 1247.34 1519.66 Z\" fill=\"#000000\" fill-rule=\"evenodd\" fill-opacity=\"1\" /><polyline clip-path=\"url(#clip272)\" style=\"stroke:#000000; stroke-linecap:butt; stroke-linejoin:round; stroke-width:2; stroke-opacity:0.1; fill:none\" points=\"\n  141.853,1386.4 2352.76,1386.4 \n  \"/>\n<polyline clip-path=\"url(#clip272)\" style=\"stroke:#000000; stroke-linecap:butt; stroke-linejoin:round; stroke-width:2; stroke-opacity:0.1; fill:none\" points=\"\n  141.853,1113.92 2352.76,1113.92 \n  \"/>\n<polyline clip-path=\"url(#clip272)\" style=\"stroke:#000000; stroke-linecap:butt; stroke-linejoin:round; stroke-width:2; stroke-opacity:0.1; fill:none\" points=\"\n  141.853,841.445 2352.76,841.445 \n  \"/>\n<polyline clip-path=\"url(#clip272)\" style=\"stroke:#000000; stroke-linecap:butt; stroke-linejoin:round; stroke-width:2; stroke-opacity:0.1; fill:none\" points=\"\n  141.853,568.969 2352.76,568.969 \n  \"/>\n<polyline clip-path=\"url(#clip272)\" style=\"stroke:#000000; stroke-linecap:butt; stroke-linejoin:round; stroke-width:2; stroke-opacity:0.1; fill:none\" points=\"\n  141.853,296.494 2352.76,296.494 \n  \"/>\n<polyline clip-path=\"url(#clip270)\" style=\"stroke:#000000; stroke-linecap:butt; stroke-linejoin:round; stroke-width:4; stroke-opacity:1; fill:none\" points=\"\n  141.853,1423.18 141.853,123.472 \n  \"/>\n<polyline clip-path=\"url(#clip270)\" style=\"stroke:#000000; stroke-linecap:butt; stroke-linejoin:round; stroke-width:4; stroke-opacity:1; fill:none\" points=\"\n  141.853,1386.4 160.751,1386.4 \n  \"/>\n<polyline clip-path=\"url(#clip270)\" style=\"stroke:#000000; stroke-linecap:butt; stroke-linejoin:round; stroke-width:4; stroke-opacity:1; fill:none\" points=\"\n  141.853,1113.92 160.751,1113.92 \n  \"/>\n<polyline clip-path=\"url(#clip270)\" style=\"stroke:#000000; stroke-linecap:butt; stroke-linejoin:round; stroke-width:4; stroke-opacity:1; fill:none\" points=\"\n  141.853,841.445 160.751,841.445 \n  \"/>\n<polyline clip-path=\"url(#clip270)\" style=\"stroke:#000000; stroke-linecap:butt; stroke-linejoin:round; stroke-width:4; stroke-opacity:1; fill:none\" points=\"\n  141.853,568.969 160.751,568.969 \n  \"/>\n<polyline clip-path=\"url(#clip270)\" style=\"stroke:#000000; stroke-linecap:butt; stroke-linejoin:round; stroke-width:4; stroke-opacity:1; fill:none\" points=\"\n  141.853,296.494 160.751,296.494 \n  \"/>\n<path clip-path=\"url(#clip270)\" d=\"M93.9086 1372.19 Q90.2975 1372.19 88.4688 1375.76 Q86.6632 1379.3 86.6632 1386.43 Q86.6632 1393.54 88.4688 1397.1 Q90.2975 1400.64 93.9086 1400.64 Q97.5428 1400.64 99.3483 1397.1 Q101.177 1393.54 101.177 1386.43 Q101.177 1379.3 99.3483 1375.76 Q97.5428 1372.19 93.9086 1372.19 M93.9086 1368.49 Q99.7187 1368.49 102.774 1373.1 Q105.853 1377.68 105.853 1386.43 Q105.853 1395.16 102.774 1399.76 Q99.7187 1404.35 93.9086 1404.35 Q88.0984 1404.35 85.0197 1399.76 Q81.9642 1395.16 81.9642 1386.43 Q81.9642 1377.68 85.0197 1373.1 Q88.0984 1368.49 93.9086 1368.49 Z\" fill=\"#000000\" fill-rule=\"evenodd\" fill-opacity=\"1\" /><path clip-path=\"url(#clip270)\" d=\"M54.5569 1127.27 L62.1958 1127.27 L62.1958 1100.9 L53.8856 1102.57 L53.8856 1098.31 L62.1495 1096.64 L66.8254 1096.64 L66.8254 1127.27 L74.4642 1127.27 L74.4642 1131.2 L54.5569 1131.2 L54.5569 1127.27 Z\" fill=\"#000000\" fill-rule=\"evenodd\" fill-opacity=\"1\" /><path clip-path=\"url(#clip270)\" d=\"M93.9086 1099.72 Q90.2975 1099.72 88.4688 1103.28 Q86.6632 1106.83 86.6632 1113.95 Q86.6632 1121.06 88.4688 1124.63 Q90.2975 1128.17 93.9086 1128.17 Q97.5428 1128.17 99.3483 1124.63 Q101.177 1121.06 101.177 1113.95 Q101.177 1106.83 99.3483 1103.28 Q97.5428 1099.72 93.9086 1099.72 M93.9086 1096.02 Q99.7187 1096.02 102.774 1100.62 Q105.853 1105.21 105.853 1113.95 Q105.853 1122.68 102.774 1127.29 Q99.7187 1131.87 93.9086 1131.87 Q88.0984 1131.87 85.0197 1127.29 Q81.9642 1122.68 81.9642 1113.95 Q81.9642 1105.21 85.0197 1100.62 Q88.0984 1096.02 93.9086 1096.02 Z\" fill=\"#000000\" fill-rule=\"evenodd\" fill-opacity=\"1\" /><path clip-path=\"url(#clip270)\" d=\"M57.7745 854.79 L74.0939 854.79 L74.0939 858.725 L52.1495 858.725 L52.1495 854.79 Q54.8115 852.035 59.3949 847.405 Q64.0013 842.753 65.1819 841.41 Q67.4272 838.887 68.3068 837.151 Q69.2096 835.392 69.2096 833.702 Q69.2096 830.947 67.2652 829.211 Q65.3439 827.475 62.2421 827.475 Q60.043 827.475 57.5893 828.239 Q55.1588 829.003 52.381 830.554 L52.381 825.831 Q55.2051 824.697 57.6588 824.119 Q60.1124 823.54 62.1495 823.54 Q67.5198 823.54 70.7142 826.225 Q73.9087 828.91 73.9087 833.401 Q73.9087 835.531 73.0985 837.452 Q72.3115 839.35 70.205 841.943 Q69.6263 842.614 66.5245 845.831 Q63.4226 849.026 57.7745 854.79 Z\" fill=\"#000000\" fill-rule=\"evenodd\" fill-opacity=\"1\" /><path clip-path=\"url(#clip270)\" d=\"M93.9086 827.244 Q90.2975 827.244 88.4688 830.808 Q86.6632 834.35 86.6632 841.48 Q86.6632 848.586 88.4688 852.151 Q90.2975 855.692 93.9086 855.692 Q97.5428 855.692 99.3483 852.151 Q101.177 848.586 101.177 841.48 Q101.177 834.35 99.3483 830.808 Q97.5428 827.244 93.9086 827.244 M93.9086 823.54 Q99.7187 823.54 102.774 828.146 Q105.853 832.73 105.853 841.48 Q105.853 850.206 102.774 854.813 Q99.7187 859.396 93.9086 859.396 Q88.0984 859.396 85.0197 854.813 Q81.9642 850.206 81.9642 841.48 Q81.9642 832.73 85.0197 828.146 Q88.0984 823.54 93.9086 823.54 Z\" fill=\"#000000\" fill-rule=\"evenodd\" fill-opacity=\"1\" /><path clip-path=\"url(#clip270)\" d=\"M67.9133 567.615 Q71.2698 568.333 73.1448 570.601 Q75.0429 572.87 75.0429 576.203 Q75.0429 581.319 71.5244 584.12 Q68.0059 586.921 61.5245 586.921 Q59.3486 586.921 57.0338 586.481 Q54.7421 586.064 52.2884 585.208 L52.2884 580.694 Q54.2328 581.828 56.5477 582.407 Q58.8625 582.986 61.3856 582.986 Q65.7837 582.986 68.0754 581.249 Q70.3902 579.513 70.3902 576.203 Q70.3902 573.148 68.2374 571.435 Q66.1078 569.699 62.2884 569.699 L58.2606 569.699 L58.2606 565.856 L62.4735 565.856 Q65.9226 565.856 67.7513 564.49 Q69.58 563.101 69.58 560.509 Q69.58 557.847 67.6819 556.435 Q65.8069 555 62.2884 555 Q60.3671 555 58.168 555.416 Q55.969 555.833 53.3301 556.713 L53.3301 552.546 Q55.9921 551.805 58.3069 551.435 Q60.6449 551.064 62.705 551.064 Q68.0291 551.064 71.1309 553.495 Q74.2327 555.902 74.2327 560.023 Q74.2327 562.893 72.5892 564.884 Q70.9457 566.851 67.9133 567.615 Z\" fill=\"#000000\" fill-rule=\"evenodd\" fill-opacity=\"1\" /><path clip-path=\"url(#clip270)\" d=\"M93.9086 554.768 Q90.2975 554.768 88.4688 558.333 Q86.6632 561.875 86.6632 569.004 Q86.6632 576.111 88.4688 579.675 Q90.2975 583.217 93.9086 583.217 Q97.5428 583.217 99.3483 579.675 Q101.177 576.111 101.177 569.004 Q101.177 561.875 99.3483 558.333 Q97.5428 554.768 93.9086 554.768 M93.9086 551.064 Q99.7187 551.064 102.774 555.671 Q105.853 560.254 105.853 569.004 Q105.853 577.731 102.774 582.337 Q99.7187 586.921 93.9086 586.921 Q88.0984 586.921 85.0197 582.337 Q81.9642 577.731 81.9642 569.004 Q81.9642 560.254 85.0197 555.671 Q88.0984 551.064 93.9086 551.064 Z\" fill=\"#000000\" fill-rule=\"evenodd\" fill-opacity=\"1\" /><path clip-path=\"url(#clip270)\" d=\"M66.5939 283.288 L54.7884 301.737 L66.5939 301.737 L66.5939 283.288 M65.367 279.214 L71.2466 279.214 L71.2466 301.737 L76.1772 301.737 L76.1772 305.626 L71.2466 305.626 L71.2466 313.774 L66.5939 313.774 L66.5939 305.626 L50.9921 305.626 L50.9921 301.112 L65.367 279.214 Z\" fill=\"#000000\" fill-rule=\"evenodd\" fill-opacity=\"1\" /><path clip-path=\"url(#clip270)\" d=\"M93.9086 282.293 Q90.2975 282.293 88.4688 285.857 Q86.6632 289.399 86.6632 296.529 Q86.6632 303.635 88.4688 307.2 Q90.2975 310.742 93.9086 310.742 Q97.5428 310.742 99.3483 307.2 Q101.177 303.635 101.177 296.529 Q101.177 289.399 99.3483 285.857 Q97.5428 282.293 93.9086 282.293 M93.9086 278.589 Q99.7187 278.589 102.774 283.195 Q105.853 287.779 105.853 296.529 Q105.853 305.256 102.774 309.862 Q99.7187 314.445 93.9086 314.445 Q88.0984 314.445 85.0197 309.862 Q81.9642 305.256 81.9642 296.529 Q81.9642 287.779 85.0197 283.195 Q88.0984 278.589 93.9086 278.589 Z\" fill=\"#000000\" fill-rule=\"evenodd\" fill-opacity=\"1\" /><path clip-path=\"url(#clip270)\" d=\"M1110.89 12.096 L1162.05 12.096 L1162.05 18.9825 L1140.58 18.9825 L1140.58 72.576 L1132.36 72.576 L1132.36 18.9825 L1110.89 18.9825 L1110.89 12.096 Z\" fill=\"#000000\" fill-rule=\"evenodd\" fill-opacity=\"1\" /><path clip-path=\"url(#clip270)\" d=\"M1194.34 48.0275 L1194.34 51.6733 L1160.07 51.6733 Q1160.55 59.3701 1164.69 63.421 Q1168.86 67.4314 1176.27 67.4314 Q1180.57 67.4314 1184.58 66.3781 Q1188.63 65.3249 1192.6 63.2184 L1192.6 70.267 Q1188.59 71.9684 1184.37 72.8596 Q1180.16 73.7508 1175.83 73.7508 Q1164.97 73.7508 1158.61 67.4314 Q1152.29 61.1119 1152.29 50.3365 Q1152.29 39.1965 1158.29 32.6746 Q1164.32 26.1121 1174.53 26.1121 Q1183.68 26.1121 1188.99 32.0264 Q1194.34 37.9003 1194.34 48.0275 M1186.89 45.84 Q1186.8 39.7232 1183.44 36.0774 Q1180.12 32.4315 1174.61 32.4315 Q1168.37 32.4315 1164.61 35.9558 Q1160.88 39.4801 1160.31 45.8805 L1186.89 45.84 Z\" fill=\"#000000\" fill-rule=\"evenodd\" fill-opacity=\"1\" /><path clip-path=\"url(#clip270)\" d=\"M1232.86 34.1734 Q1231.61 33.4443 1230.11 33.1202 Q1228.65 32.7556 1226.87 32.7556 Q1220.55 32.7556 1217.15 36.8875 Q1213.78 40.9789 1213.78 48.6757 L1213.78 72.576 L1206.29 72.576 L1206.29 27.2059 L1213.78 27.2059 L1213.78 34.2544 Q1216.13 30.1225 1219.9 28.1376 Q1223.67 26.1121 1229.06 26.1121 Q1229.82 26.1121 1230.76 26.2337 Q1231.69 26.3147 1232.82 26.5172 L1232.86 34.1734 Z\" fill=\"#000000\" fill-rule=\"evenodd\" fill-opacity=\"1\" /><path clip-path=\"url(#clip270)\" d=\"M1274.55 35.9153 Q1277.34 30.8922 1281.23 28.5022 Q1285.12 26.1121 1290.39 26.1121 Q1297.47 26.1121 1301.32 31.0947 Q1305.17 36.0368 1305.17 45.1919 L1305.17 72.576 L1297.68 72.576 L1297.68 45.4349 Q1297.68 38.913 1295.37 35.7533 Q1293.06 32.5936 1288.32 32.5936 Q1282.53 32.5936 1279.16 36.4419 Q1275.8 40.2903 1275.8 46.9338 L1275.8 72.576 L1268.31 72.576 L1268.31 45.4349 Q1268.31 38.8725 1266 35.7533 Q1263.69 32.5936 1258.87 32.5936 Q1253.16 32.5936 1249.8 36.4824 Q1246.43 40.3308 1246.43 46.9338 L1246.43 72.576 L1238.94 72.576 L1238.94 27.2059 L1246.43 27.2059 L1246.43 34.2544 Q1248.99 30.082 1252.55 28.0971 Q1256.12 26.1121 1261.02 26.1121 Q1265.96 26.1121 1269.4 28.6237 Q1272.89 31.1352 1274.55 35.9153 Z\" fill=\"#000000\" fill-rule=\"evenodd\" fill-opacity=\"1\" /><path clip-path=\"url(#clip270)\" d=\"M1348.88 65.6895 L1362.25 65.6895 L1362.25 19.5497 L1347.71 22.4663 L1347.71 15.0127 L1362.17 12.096 L1370.35 12.096 L1370.35 65.6895 L1383.72 65.6895 L1383.72 72.576 L1348.88 72.576 L1348.88 65.6895 Z\" fill=\"#000000\" fill-rule=\"evenodd\" fill-opacity=\"1\" /><polyline clip-path=\"url(#clip272)\" style=\"stroke:#009af9; stroke-linecap:butt; stroke-linejoin:round; stroke-width:4; stroke-opacity:1; fill:none\" points=\"\n  204.426,1331.9 343.476,1304.65 482.527,1277.41 621.577,1032.18 760.628,895.94 899.678,596.217 1038.73,514.474 1177.78,459.979 1316.83,459.979 1455.88,487.227 \n  1594.93,459.979 1733.98,432.732 1873.03,187.504 2012.08,187.504 2151.13,187.504 2290.18,160.256 \n  \"/>\n<circle clip-path=\"url(#clip272)\" cx=\"204.426\" cy=\"1331.9\" r=\"14\" fill=\"#009af9\" fill-rule=\"evenodd\" fill-opacity=\"1\" stroke=\"#000000\" stroke-opacity=\"1\" stroke-width=\"3.2\"/>\n<circle clip-path=\"url(#clip272)\" cx=\"343.476\" cy=\"1304.65\" r=\"14\" fill=\"#009af9\" fill-rule=\"evenodd\" fill-opacity=\"1\" stroke=\"#000000\" stroke-opacity=\"1\" stroke-width=\"3.2\"/>\n<circle clip-path=\"url(#clip272)\" cx=\"482.527\" cy=\"1277.41\" r=\"14\" fill=\"#009af9\" fill-rule=\"evenodd\" fill-opacity=\"1\" stroke=\"#000000\" stroke-opacity=\"1\" stroke-width=\"3.2\"/>\n<circle clip-path=\"url(#clip272)\" cx=\"621.577\" cy=\"1032.18\" r=\"14\" fill=\"#009af9\" fill-rule=\"evenodd\" fill-opacity=\"1\" stroke=\"#000000\" stroke-opacity=\"1\" stroke-width=\"3.2\"/>\n<circle clip-path=\"url(#clip272)\" cx=\"760.628\" cy=\"895.94\" r=\"14\" fill=\"#009af9\" fill-rule=\"evenodd\" fill-opacity=\"1\" stroke=\"#000000\" stroke-opacity=\"1\" stroke-width=\"3.2\"/>\n<circle clip-path=\"url(#clip272)\" cx=\"899.678\" cy=\"596.217\" r=\"14\" fill=\"#009af9\" fill-rule=\"evenodd\" fill-opacity=\"1\" stroke=\"#000000\" stroke-opacity=\"1\" stroke-width=\"3.2\"/>\n<circle clip-path=\"url(#clip272)\" cx=\"1038.73\" cy=\"514.474\" r=\"14\" fill=\"#009af9\" fill-rule=\"evenodd\" fill-opacity=\"1\" stroke=\"#000000\" stroke-opacity=\"1\" stroke-width=\"3.2\"/>\n<circle clip-path=\"url(#clip272)\" cx=\"1177.78\" cy=\"459.979\" r=\"14\" fill=\"#009af9\" fill-rule=\"evenodd\" fill-opacity=\"1\" stroke=\"#000000\" stroke-opacity=\"1\" stroke-width=\"3.2\"/>\n<circle clip-path=\"url(#clip272)\" cx=\"1316.83\" cy=\"459.979\" r=\"14\" fill=\"#009af9\" fill-rule=\"evenodd\" fill-opacity=\"1\" stroke=\"#000000\" stroke-opacity=\"1\" stroke-width=\"3.2\"/>\n<circle clip-path=\"url(#clip272)\" cx=\"1455.88\" cy=\"487.227\" r=\"14\" fill=\"#009af9\" fill-rule=\"evenodd\" fill-opacity=\"1\" stroke=\"#000000\" stroke-opacity=\"1\" stroke-width=\"3.2\"/>\n<circle clip-path=\"url(#clip272)\" cx=\"1594.93\" cy=\"459.979\" r=\"14\" fill=\"#009af9\" fill-rule=\"evenodd\" fill-opacity=\"1\" stroke=\"#000000\" stroke-opacity=\"1\" stroke-width=\"3.2\"/>\n<circle clip-path=\"url(#clip272)\" cx=\"1733.98\" cy=\"432.732\" r=\"14\" fill=\"#009af9\" fill-rule=\"evenodd\" fill-opacity=\"1\" stroke=\"#000000\" stroke-opacity=\"1\" stroke-width=\"3.2\"/>\n<circle clip-path=\"url(#clip272)\" cx=\"1873.03\" cy=\"187.504\" r=\"14\" fill=\"#009af9\" fill-rule=\"evenodd\" fill-opacity=\"1\" stroke=\"#000000\" stroke-opacity=\"1\" stroke-width=\"3.2\"/>\n<circle clip-path=\"url(#clip272)\" cx=\"2012.08\" cy=\"187.504\" r=\"14\" fill=\"#009af9\" fill-rule=\"evenodd\" fill-opacity=\"1\" stroke=\"#000000\" stroke-opacity=\"1\" stroke-width=\"3.2\"/>\n<circle clip-path=\"url(#clip272)\" cx=\"2151.13\" cy=\"187.504\" r=\"14\" fill=\"#009af9\" fill-rule=\"evenodd\" fill-opacity=\"1\" stroke=\"#000000\" stroke-opacity=\"1\" stroke-width=\"3.2\"/>\n<circle clip-path=\"url(#clip272)\" cx=\"2290.18\" cy=\"160.256\" r=\"14\" fill=\"#009af9\" fill-rule=\"evenodd\" fill-opacity=\"1\" stroke=\"#000000\" stroke-opacity=\"1\" stroke-width=\"3.2\"/>\n<polyline clip-path=\"url(#clip272)\" style=\"stroke:#e26f46; stroke-linecap:butt; stroke-linejoin:round; stroke-width:4; stroke-opacity:1; fill:none\" points=\"\n  204.426,214.751 343.476,241.999 482.527,269.246 621.577,514.474 760.628,650.712 899.678,950.435 1038.73,1032.18 1177.78,1086.67 1316.83,1086.67 1455.88,1059.43 \n  1594.93,1086.67 1733.98,1113.92 1873.03,1359.15 2012.08,1359.15 2151.13,1359.15 2290.18,1386.4 \n  \"/>\n<circle clip-path=\"url(#clip272)\" cx=\"204.426\" cy=\"214.751\" r=\"14\" fill=\"#e26f46\" fill-rule=\"evenodd\" fill-opacity=\"1\" stroke=\"#000000\" stroke-opacity=\"1\" stroke-width=\"3.2\"/>\n<circle clip-path=\"url(#clip272)\" cx=\"343.476\" cy=\"241.999\" r=\"14\" fill=\"#e26f46\" fill-rule=\"evenodd\" fill-opacity=\"1\" stroke=\"#000000\" stroke-opacity=\"1\" stroke-width=\"3.2\"/>\n<circle clip-path=\"url(#clip272)\" cx=\"482.527\" cy=\"269.246\" r=\"14\" fill=\"#e26f46\" fill-rule=\"evenodd\" fill-opacity=\"1\" stroke=\"#000000\" stroke-opacity=\"1\" stroke-width=\"3.2\"/>\n<circle clip-path=\"url(#clip272)\" cx=\"621.577\" cy=\"514.474\" r=\"14\" fill=\"#e26f46\" fill-rule=\"evenodd\" fill-opacity=\"1\" stroke=\"#000000\" stroke-opacity=\"1\" stroke-width=\"3.2\"/>\n<circle clip-path=\"url(#clip272)\" cx=\"760.628\" cy=\"650.712\" r=\"14\" fill=\"#e26f46\" fill-rule=\"evenodd\" fill-opacity=\"1\" stroke=\"#000000\" stroke-opacity=\"1\" stroke-width=\"3.2\"/>\n<circle clip-path=\"url(#clip272)\" cx=\"899.678\" cy=\"950.435\" r=\"14\" fill=\"#e26f46\" fill-rule=\"evenodd\" fill-opacity=\"1\" stroke=\"#000000\" stroke-opacity=\"1\" stroke-width=\"3.2\"/>\n<circle clip-path=\"url(#clip272)\" cx=\"1038.73\" cy=\"1032.18\" r=\"14\" fill=\"#e26f46\" fill-rule=\"evenodd\" fill-opacity=\"1\" stroke=\"#000000\" stroke-opacity=\"1\" stroke-width=\"3.2\"/>\n<circle clip-path=\"url(#clip272)\" cx=\"1177.78\" cy=\"1086.67\" r=\"14\" fill=\"#e26f46\" fill-rule=\"evenodd\" fill-opacity=\"1\" stroke=\"#000000\" stroke-opacity=\"1\" stroke-width=\"3.2\"/>\n<circle clip-path=\"url(#clip272)\" cx=\"1316.83\" cy=\"1086.67\" r=\"14\" fill=\"#e26f46\" fill-rule=\"evenodd\" fill-opacity=\"1\" stroke=\"#000000\" stroke-opacity=\"1\" stroke-width=\"3.2\"/>\n<circle clip-path=\"url(#clip272)\" cx=\"1455.88\" cy=\"1059.43\" r=\"14\" fill=\"#e26f46\" fill-rule=\"evenodd\" fill-opacity=\"1\" stroke=\"#000000\" stroke-opacity=\"1\" stroke-width=\"3.2\"/>\n<circle clip-path=\"url(#clip272)\" cx=\"1594.93\" cy=\"1086.67\" r=\"14\" fill=\"#e26f46\" fill-rule=\"evenodd\" fill-opacity=\"1\" stroke=\"#000000\" stroke-opacity=\"1\" stroke-width=\"3.2\"/>\n<circle clip-path=\"url(#clip272)\" cx=\"1733.98\" cy=\"1113.92\" r=\"14\" fill=\"#e26f46\" fill-rule=\"evenodd\" fill-opacity=\"1\" stroke=\"#000000\" stroke-opacity=\"1\" stroke-width=\"3.2\"/>\n<circle clip-path=\"url(#clip272)\" cx=\"1873.03\" cy=\"1359.15\" r=\"14\" fill=\"#e26f46\" fill-rule=\"evenodd\" fill-opacity=\"1\" stroke=\"#000000\" stroke-opacity=\"1\" stroke-width=\"3.2\"/>\n<circle clip-path=\"url(#clip272)\" cx=\"2012.08\" cy=\"1359.15\" r=\"14\" fill=\"#e26f46\" fill-rule=\"evenodd\" fill-opacity=\"1\" stroke=\"#000000\" stroke-opacity=\"1\" stroke-width=\"3.2\"/>\n<circle clip-path=\"url(#clip272)\" cx=\"2151.13\" cy=\"1359.15\" r=\"14\" fill=\"#e26f46\" fill-rule=\"evenodd\" fill-opacity=\"1\" stroke=\"#000000\" stroke-opacity=\"1\" stroke-width=\"3.2\"/>\n<circle clip-path=\"url(#clip272)\" cx=\"2290.18\" cy=\"1386.4\" r=\"14\" fill=\"#e26f46\" fill-rule=\"evenodd\" fill-opacity=\"1\" stroke=\"#000000\" stroke-opacity=\"1\" stroke-width=\"3.2\"/>\n<path clip-path=\"url(#clip270)\" d=\"\nM1654.05 825.166 L2279.06 825.166 L2279.06 669.646 L1654.05 669.646  Z\n  \" fill=\"#ffffff\" fill-rule=\"evenodd\" fill-opacity=\"1\"/>\n<polyline clip-path=\"url(#clip270)\" style=\"stroke:#000000; stroke-linecap:butt; stroke-linejoin:round; stroke-width:4; stroke-opacity:1; fill:none\" points=\"\n  1654.05,825.166 2279.06,825.166 2279.06,669.646 1654.05,669.646 1654.05,825.166 \n  \"/>\n<polyline clip-path=\"url(#clip270)\" style=\"stroke:#009af9; stroke-linecap:butt; stroke-linejoin:round; stroke-width:4; stroke-opacity:1; fill:none\" points=\"\n  1678.62,721.486 1826.01,721.486 \n  \"/>\n<circle clip-path=\"url(#clip270)\" cx=\"1752.32\" cy=\"721.486\" r=\"23\" fill=\"#009af9\" fill-rule=\"evenodd\" fill-opacity=\"1\" stroke=\"#000000\" stroke-opacity=\"1\" stroke-width=\"5.12\"/>\n<path clip-path=\"url(#clip270)\" d=\"M1871.16 717.91 L1864.42 717.91 L1862.48 725.641 L1869.26 725.641 L1871.16 717.91 M1867.68 704.738 L1865.28 714.345 L1872.04 714.345 L1874.47 704.738 L1878.17 704.738 L1875.79 714.345 L1883.01 714.345 L1883.01 717.91 L1874.88 717.91 L1872.99 725.641 L1880.35 725.641 L1880.35 729.183 L1872.08 729.183 L1869.68 738.766 L1865.97 738.766 L1868.36 729.183 L1861.57 729.183 L1859.19 738.766 L1855.46 738.766 L1857.87 729.183 L1850.58 729.183 L1850.58 725.641 L1858.73 725.641 L1860.67 717.91 L1853.22 717.91 L1853.22 714.345 L1861.57 714.345 L1863.93 704.738 L1867.68 704.738 Z\" fill=\"#000000\" fill-rule=\"evenodd\" fill-opacity=\"1\" /><path clip-path=\"url(#clip270)\" d=\"M1924.79 725.826 Q1924.79 721.127 1922.85 718.465 Q1920.92 715.78 1917.55 715.78 Q1914.17 715.78 1912.22 718.465 Q1910.3 721.127 1910.3 725.826 Q1910.3 730.525 1912.22 733.21 Q1914.17 735.872 1917.55 735.872 Q1920.92 735.872 1922.85 733.21 Q1924.79 730.525 1924.79 725.826 M1910.3 716.775 Q1911.64 714.461 1913.68 713.349 Q1915.74 712.215 1918.59 712.215 Q1923.31 712.215 1926.25 715.965 Q1929.21 719.715 1929.21 725.826 Q1929.21 731.937 1926.25 735.687 Q1923.31 739.437 1918.59 739.437 Q1915.74 739.437 1913.68 738.326 Q1911.64 737.192 1910.3 734.877 L1910.3 738.766 L1906.02 738.766 L1906.02 702.748 L1910.3 702.748 L1910.3 716.775 Z\" fill=\"#000000\" fill-rule=\"evenodd\" fill-opacity=\"1\" /><path clip-path=\"url(#clip270)\" d=\"M1948.05 725.734 Q1942.89 725.734 1940.9 726.914 Q1938.91 728.095 1938.91 730.942 Q1938.91 733.21 1940.39 734.553 Q1941.9 735.872 1944.47 735.872 Q1948.01 735.872 1950.14 733.372 Q1952.29 730.849 1952.29 726.683 L1952.29 725.734 L1948.05 725.734 M1956.55 723.974 L1956.55 738.766 L1952.29 738.766 L1952.29 734.831 Q1950.83 737.192 1948.66 738.326 Q1946.48 739.437 1943.33 739.437 Q1939.35 739.437 1936.99 737.215 Q1934.65 734.97 1934.65 731.22 Q1934.65 726.845 1937.57 724.623 Q1940.51 722.4 1946.32 722.4 L1952.29 722.4 L1952.29 721.984 Q1952.29 719.044 1950.35 717.447 Q1948.42 715.826 1944.93 715.826 Q1942.71 715.826 1940.6 716.359 Q1938.49 716.891 1936.55 717.956 L1936.55 714.021 Q1938.89 713.118 1941.09 712.678 Q1943.29 712.215 1945.37 712.215 Q1950.99 712.215 1953.77 715.132 Q1956.55 718.049 1956.55 723.974 Z\" fill=\"#000000\" fill-rule=\"evenodd\" fill-opacity=\"1\" /><path clip-path=\"url(#clip270)\" d=\"M1965.32 702.748 L1969.58 702.748 L1969.58 738.766 L1965.32 738.766 L1965.32 702.748 Z\" fill=\"#000000\" fill-rule=\"evenodd\" fill-opacity=\"1\" /><path clip-path=\"url(#clip270)\" d=\"M1990.28 725.734 Q1985.11 725.734 1983.12 726.914 Q1981.13 728.095 1981.13 730.942 Q1981.13 733.21 1982.61 734.553 Q1984.12 735.872 1986.69 735.872 Q1990.23 735.872 1992.36 733.372 Q1994.51 730.849 1994.51 726.683 L1994.51 725.734 L1990.28 725.734 M1998.77 723.974 L1998.77 738.766 L1994.51 738.766 L1994.51 734.831 Q1993.05 737.192 1990.88 738.326 Q1988.7 739.437 1985.55 739.437 Q1981.57 739.437 1979.21 737.215 Q1976.87 734.97 1976.87 731.22 Q1976.87 726.845 1979.79 724.623 Q1982.73 722.4 1988.54 722.4 L1994.51 722.4 L1994.51 721.984 Q1994.51 719.044 1992.57 717.447 Q1990.65 715.826 1987.15 715.826 Q1984.93 715.826 1982.82 716.359 Q1980.72 716.891 1978.77 717.956 L1978.77 714.021 Q1981.11 713.118 1983.31 712.678 Q1985.51 712.215 1987.59 712.215 Q1993.22 712.215 1995.99 715.132 Q1998.77 718.049 1998.77 723.974 Z\" fill=\"#000000\" fill-rule=\"evenodd\" fill-opacity=\"1\" /><path clip-path=\"url(#clip270)\" d=\"M2029.1 723.118 L2029.1 738.766 L2024.84 738.766 L2024.84 723.257 Q2024.84 719.576 2023.4 717.748 Q2021.97 715.919 2019.1 715.919 Q2015.65 715.919 2013.66 718.118 Q2011.67 720.317 2011.67 724.113 L2011.67 738.766 L2007.38 738.766 L2007.38 712.84 L2011.67 712.84 L2011.67 716.868 Q2013.19 714.53 2015.25 713.373 Q2017.34 712.215 2020.04 712.215 Q2024.51 712.215 2026.8 714.993 Q2029.1 717.748 2029.1 723.118 Z\" fill=\"#000000\" fill-rule=\"evenodd\" fill-opacity=\"1\" /><path clip-path=\"url(#clip270)\" d=\"M2056.25 713.836 L2056.25 717.817 Q2054.44 716.822 2052.61 716.336 Q2050.81 715.826 2048.96 715.826 Q2044.81 715.826 2042.52 718.465 Q2040.23 721.081 2040.23 725.826 Q2040.23 730.572 2042.52 733.21 Q2044.81 735.826 2048.96 735.826 Q2050.81 735.826 2052.61 735.34 Q2054.44 734.831 2056.25 733.835 L2056.25 737.771 Q2054.47 738.604 2052.54 739.021 Q2050.65 739.437 2048.49 739.437 Q2042.64 739.437 2039.19 735.757 Q2035.74 732.076 2035.74 725.826 Q2035.74 719.484 2039.21 715.849 Q2042.71 712.215 2048.77 712.215 Q2050.74 712.215 2052.61 712.632 Q2054.49 713.025 2056.25 713.836 Z\" fill=\"#000000\" fill-rule=\"evenodd\" fill-opacity=\"1\" /><path clip-path=\"url(#clip270)\" d=\"M2085.83 724.738 L2085.83 726.822 L2066.25 726.822 Q2066.53 731.22 2068.89 733.535 Q2071.27 735.826 2075.51 735.826 Q2077.96 735.826 2080.25 735.224 Q2082.57 734.622 2084.84 733.419 L2084.84 737.447 Q2082.54 738.419 2080.14 738.928 Q2077.73 739.437 2075.25 739.437 Q2069.05 739.437 2065.41 735.826 Q2061.8 732.215 2061.8 726.058 Q2061.8 719.692 2065.23 715.965 Q2068.68 712.215 2074.51 712.215 Q2079.74 712.215 2082.78 715.595 Q2085.83 718.951 2085.83 724.738 M2081.57 723.488 Q2081.53 719.993 2079.6 717.91 Q2077.71 715.826 2074.56 715.826 Q2070.99 715.826 2068.84 717.84 Q2066.71 719.854 2066.39 723.511 L2081.57 723.488 Z\" fill=\"#000000\" fill-rule=\"evenodd\" fill-opacity=\"1\" /><path clip-path=\"url(#clip270)\" d=\"M2109.88 716.775 L2109.88 702.748 L2114.14 702.748 L2114.14 738.766 L2109.88 738.766 L2109.88 734.877 Q2108.54 737.192 2106.48 738.326 Q2104.44 739.437 2101.57 739.437 Q2096.87 739.437 2093.91 735.687 Q2090.97 731.937 2090.97 725.826 Q2090.97 719.715 2093.91 715.965 Q2096.87 712.215 2101.57 712.215 Q2104.44 712.215 2106.48 713.349 Q2108.54 714.461 2109.88 716.775 M2095.37 725.826 Q2095.37 730.525 2097.29 733.21 Q2099.23 735.872 2102.61 735.872 Q2105.99 735.872 2107.94 733.21 Q2109.88 730.525 2109.88 725.826 Q2109.88 721.127 2107.94 718.465 Q2105.99 715.78 2102.61 715.78 Q2099.23 715.78 2097.29 718.465 Q2095.37 721.127 2095.37 725.826 Z\" fill=\"#000000\" fill-rule=\"evenodd\" fill-opacity=\"1\" /><path clip-path=\"url(#clip270)\" d=\"M2137.61 741.96 L2165.88 741.96 L2151.73 713.581 L2137.61 741.96 M2133.66 744.599 L2151.73 708.303 L2169.84 744.599 L2133.66 744.599 Z\" fill=\"#000000\" fill-rule=\"evenodd\" fill-opacity=\"1\" /><polyline clip-path=\"url(#clip270)\" style=\"stroke:#e26f46; stroke-linecap:butt; stroke-linejoin:round; stroke-width:4; stroke-opacity:1; fill:none\" points=\"\n  1678.62,773.326 1826.01,773.326 \n  \"/>\n<circle clip-path=\"url(#clip270)\" cx=\"1752.32\" cy=\"773.326\" r=\"23\" fill=\"#e26f46\" fill-rule=\"evenodd\" fill-opacity=\"1\" stroke=\"#000000\" stroke-opacity=\"1\" stroke-width=\"5.12\"/>\n<path clip-path=\"url(#clip270)\" d=\"M1871.16 769.75 L1864.42 769.75 L1862.48 777.481 L1869.26 777.481 L1871.16 769.75 M1867.68 756.578 L1865.28 766.185 L1872.04 766.185 L1874.47 756.578 L1878.17 756.578 L1875.79 766.185 L1883.01 766.185 L1883.01 769.75 L1874.88 769.75 L1872.99 777.481 L1880.35 777.481 L1880.35 781.023 L1872.08 781.023 L1869.68 790.606 L1865.97 790.606 L1868.36 781.023 L1861.57 781.023 L1859.19 790.606 L1855.46 790.606 L1857.87 781.023 L1850.58 781.023 L1850.58 777.481 L1858.73 777.481 L1860.67 769.75 L1853.22 769.75 L1853.22 766.185 L1861.57 766.185 L1863.93 756.578 L1867.68 756.578 Z\" fill=\"#000000\" fill-rule=\"evenodd\" fill-opacity=\"1\" /><path clip-path=\"url(#clip270)\" d=\"M1905.74 780.375 L1905.74 764.68 L1910 764.68 L1910 780.213 Q1910 783.893 1911.43 785.745 Q1912.87 787.574 1915.74 787.574 Q1919.19 787.574 1921.18 785.375 Q1923.19 783.175 1923.19 779.379 L1923.19 764.68 L1927.45 764.68 L1927.45 790.606 L1923.19 790.606 L1923.19 786.625 Q1921.64 788.986 1919.58 790.143 Q1917.55 791.277 1914.84 791.277 Q1910.37 791.277 1908.05 788.5 Q1905.74 785.722 1905.74 780.375 M1916.46 764.055 L1916.46 764.055 Z\" fill=\"#000000\" fill-rule=\"evenodd\" fill-opacity=\"1\" /><path clip-path=\"url(#clip270)\" d=\"M1957.78 774.958 L1957.78 790.606 L1953.52 790.606 L1953.52 775.097 Q1953.52 771.416 1952.08 769.588 Q1950.65 767.759 1947.78 767.759 Q1944.33 767.759 1942.34 769.958 Q1940.35 772.157 1940.35 775.953 L1940.35 790.606 L1936.06 790.606 L1936.06 764.68 L1940.35 764.68 L1940.35 768.708 Q1941.87 766.37 1943.93 765.213 Q1946.02 764.055 1948.73 764.055 Q1953.19 764.055 1955.48 766.833 Q1957.78 769.588 1957.78 774.958 Z\" fill=\"#000000\" fill-rule=\"evenodd\" fill-opacity=\"1\" /><path clip-path=\"url(#clip270)\" d=\"M1984.88 777.666 Q1984.88 772.967 1982.94 770.305 Q1981.02 767.62 1977.64 767.62 Q1974.26 767.62 1972.31 770.305 Q1970.39 772.967 1970.39 777.666 Q1970.39 782.365 1972.31 785.05 Q1974.26 787.712 1977.64 787.712 Q1981.02 787.712 1982.94 785.05 Q1984.88 782.365 1984.88 777.666 M1970.39 768.615 Q1971.73 766.301 1973.77 765.189 Q1975.83 764.055 1978.68 764.055 Q1983.4 764.055 1986.34 767.805 Q1989.3 771.555 1989.3 777.666 Q1989.3 783.777 1986.34 787.527 Q1983.4 791.277 1978.68 791.277 Q1975.83 791.277 1973.77 790.166 Q1971.73 789.032 1970.39 786.717 L1970.39 790.606 L1966.11 790.606 L1966.11 754.588 L1970.39 754.588 L1970.39 768.615 Z\" fill=\"#000000\" fill-rule=\"evenodd\" fill-opacity=\"1\" /><path clip-path=\"url(#clip270)\" d=\"M2008.15 777.574 Q2002.98 777.574 2000.99 778.754 Q1999 779.935 1999 782.782 Q1999 785.05 2000.48 786.393 Q2001.99 787.712 2004.56 787.712 Q2008.1 787.712 2010.23 785.212 Q2012.38 782.689 2012.38 778.523 L2012.38 777.574 L2008.15 777.574 M2016.64 775.814 L2016.64 790.606 L2012.38 790.606 L2012.38 786.671 Q2010.92 789.032 2008.75 790.166 Q2006.57 791.277 2003.42 791.277 Q1999.44 791.277 1997.08 789.055 Q1994.74 786.81 1994.74 783.06 Q1994.74 778.685 1997.66 776.463 Q2000.6 774.24 2006.41 774.24 L2012.38 774.24 L2012.38 773.824 Q2012.38 770.884 2010.44 769.287 Q2008.52 767.666 2005.02 767.666 Q2002.8 767.666 2000.69 768.199 Q1998.59 768.731 1996.64 769.796 L1996.64 765.861 Q1998.98 764.958 2001.18 764.518 Q2003.38 764.055 2005.46 764.055 Q2011.09 764.055 2013.86 766.972 Q2016.64 769.889 2016.64 775.814 Z\" fill=\"#000000\" fill-rule=\"evenodd\" fill-opacity=\"1\" /><path clip-path=\"url(#clip270)\" d=\"M2025.42 754.588 L2029.67 754.588 L2029.67 790.606 L2025.42 790.606 L2025.42 754.588 Z\" fill=\"#000000\" fill-rule=\"evenodd\" fill-opacity=\"1\" /><path clip-path=\"url(#clip270)\" d=\"M2050.37 777.574 Q2045.21 777.574 2043.22 778.754 Q2041.23 779.935 2041.23 782.782 Q2041.23 785.05 2042.71 786.393 Q2044.21 787.712 2046.78 787.712 Q2050.32 787.712 2052.45 785.212 Q2054.6 782.689 2054.6 778.523 L2054.6 777.574 L2050.37 777.574 M2058.86 775.814 L2058.86 790.606 L2054.6 790.606 L2054.6 786.671 Q2053.15 789.032 2050.97 790.166 Q2048.79 791.277 2045.65 791.277 Q2041.67 791.277 2039.3 789.055 Q2036.97 786.81 2036.97 783.06 Q2036.97 778.685 2039.88 776.463 Q2042.82 774.24 2048.63 774.24 L2054.6 774.24 L2054.6 773.824 Q2054.6 770.884 2052.66 769.287 Q2050.74 767.666 2047.24 767.666 Q2045.02 767.666 2042.92 768.199 Q2040.81 768.731 2038.86 769.796 L2038.86 765.861 Q2041.2 764.958 2043.4 764.518 Q2045.6 764.055 2047.68 764.055 Q2053.31 764.055 2056.09 766.972 Q2058.86 769.889 2058.86 775.814 Z\" fill=\"#000000\" fill-rule=\"evenodd\" fill-opacity=\"1\" /><path clip-path=\"url(#clip270)\" d=\"M2089.19 774.958 L2089.19 790.606 L2084.93 790.606 L2084.93 775.097 Q2084.93 771.416 2083.49 769.588 Q2082.06 767.759 2079.19 767.759 Q2075.74 767.759 2073.75 769.958 Q2071.76 772.157 2071.76 775.953 L2071.76 790.606 L2067.48 790.606 L2067.48 764.68 L2071.76 764.68 L2071.76 768.708 Q2073.29 766.37 2075.35 765.213 Q2077.43 764.055 2080.14 764.055 Q2084.6 764.055 2086.9 766.833 Q2089.19 769.588 2089.19 774.958 Z\" fill=\"#000000\" fill-rule=\"evenodd\" fill-opacity=\"1\" /><path clip-path=\"url(#clip270)\" d=\"M2116.34 765.676 L2116.34 769.657 Q2114.54 768.662 2112.71 768.176 Q2110.9 767.666 2109.05 767.666 Q2104.91 767.666 2102.61 770.305 Q2100.32 772.921 2100.32 777.666 Q2100.32 782.412 2102.61 785.05 Q2104.91 787.666 2109.05 787.666 Q2110.9 787.666 2112.71 787.18 Q2114.54 786.671 2116.34 785.675 L2116.34 789.611 Q2114.56 790.444 2112.64 790.861 Q2110.74 791.277 2108.59 791.277 Q2102.73 791.277 2099.28 787.597 Q2095.83 783.916 2095.83 777.666 Q2095.83 771.324 2099.3 767.689 Q2102.8 764.055 2108.86 764.055 Q2110.83 764.055 2112.71 764.472 Q2114.58 764.865 2116.34 765.676 Z\" fill=\"#000000\" fill-rule=\"evenodd\" fill-opacity=\"1\" /><path clip-path=\"url(#clip270)\" d=\"M2145.92 776.578 L2145.92 778.662 L2126.34 778.662 Q2126.62 783.06 2128.98 785.375 Q2131.36 787.666 2135.6 787.666 Q2138.05 787.666 2140.35 787.064 Q2142.66 786.462 2144.93 785.259 L2144.93 789.287 Q2142.64 790.259 2140.23 790.768 Q2137.82 791.277 2135.35 791.277 Q2129.14 791.277 2125.51 787.666 Q2121.9 784.055 2121.9 777.898 Q2121.9 771.532 2125.32 767.805 Q2128.77 764.055 2134.6 764.055 Q2139.84 764.055 2142.87 767.435 Q2145.92 770.791 2145.92 776.578 M2141.66 775.328 Q2141.62 771.833 2139.7 769.75 Q2137.8 767.666 2134.65 767.666 Q2131.09 767.666 2128.93 769.68 Q2126.8 771.694 2126.48 775.351 L2141.66 775.328 Z\" fill=\"#000000\" fill-rule=\"evenodd\" fill-opacity=\"1\" /><path clip-path=\"url(#clip270)\" d=\"M2169.97 768.615 L2169.97 754.588 L2174.23 754.588 L2174.23 790.606 L2169.97 790.606 L2169.97 786.717 Q2168.63 789.032 2166.57 790.166 Q2164.53 791.277 2161.66 791.277 Q2156.97 791.277 2154 787.527 Q2151.06 783.777 2151.06 777.666 Q2151.06 771.555 2154 767.805 Q2156.97 764.055 2161.66 764.055 Q2164.53 764.055 2166.57 765.189 Q2168.63 766.301 2169.97 768.615 M2155.46 777.666 Q2155.46 782.365 2157.38 785.05 Q2159.33 787.712 2162.71 787.712 Q2166.09 787.712 2168.03 785.05 Q2169.97 782.365 2169.97 777.666 Q2169.97 772.967 2168.03 770.305 Q2166.09 767.62 2162.71 767.62 Q2159.33 767.62 2157.38 770.305 Q2155.46 772.967 2155.46 777.666 Z\" fill=\"#000000\" fill-rule=\"evenodd\" fill-opacity=\"1\" /><path clip-path=\"url(#clip270)\" d=\"M2197.71 793.8 L2225.97 793.8 L2211.83 765.421 L2197.71 793.8 M2193.75 796.439 L2211.83 760.143 L2229.93 796.439 L2193.75 796.439 Z\" fill=\"#000000\" fill-rule=\"evenodd\" fill-opacity=\"1\" /></svg>\n",
      "text/html": [
       "<?xml version=\"1.0\" encoding=\"utf-8\"?>\n",
       "<svg xmlns=\"http://www.w3.org/2000/svg\" xmlns:xlink=\"http://www.w3.org/1999/xlink\" width=\"600\" height=\"400\" viewBox=\"0 0 2400 1600\">\n",
       "<defs>\n",
       "  <clipPath id=\"clip320\">\n",
       "    <rect x=\"0\" y=\"0\" width=\"2400\" height=\"1600\"/>\n",
       "  </clipPath>\n",
       "</defs>\n",
       "<path clip-path=\"url(#clip320)\" d=\"\n",
       "M0 1600 L2400 1600 L2400 0 L0 0  Z\n",
       "  \" fill=\"#ffffff\" fill-rule=\"evenodd\" fill-opacity=\"1\"/>\n",
       "<defs>\n",
       "  <clipPath id=\"clip321\">\n",
       "    <rect x=\"480\" y=\"0\" width=\"1681\" height=\"1600\"/>\n",
       "  </clipPath>\n",
       "</defs>\n",
       "<path clip-path=\"url(#clip320)\" d=\"\n",
       "M141.853 1423.18 L2352.76 1423.18 L2352.76 123.472 L141.853 123.472  Z\n",
       "  \" fill=\"#ffffff\" fill-rule=\"evenodd\" fill-opacity=\"1\"/>\n",
       "<defs>\n",
       "  <clipPath id=\"clip322\">\n",
       "    <rect x=\"141\" y=\"123\" width=\"2212\" height=\"1301\"/>\n",
       "  </clipPath>\n",
       "</defs>\n",
       "<polyline clip-path=\"url(#clip322)\" style=\"stroke:#000000; stroke-linecap:butt; stroke-linejoin:round; stroke-width:2; stroke-opacity:0.1; fill:none\" points=\"\n",
       "  204.426,1423.18 204.426,123.472 \n",
       "  \"/>\n",
       "<polyline clip-path=\"url(#clip322)\" style=\"stroke:#000000; stroke-linecap:butt; stroke-linejoin:round; stroke-width:2; stroke-opacity:0.1; fill:none\" points=\"\n",
       "  649.387,1423.18 649.387,123.472 \n",
       "  \"/>\n",
       "<polyline clip-path=\"url(#clip322)\" style=\"stroke:#000000; stroke-linecap:butt; stroke-linejoin:round; stroke-width:2; stroke-opacity:0.1; fill:none\" points=\"\n",
       "  1094.35,1423.18 1094.35,123.472 \n",
       "  \"/>\n",
       "<polyline clip-path=\"url(#clip322)\" style=\"stroke:#000000; stroke-linecap:butt; stroke-linejoin:round; stroke-width:2; stroke-opacity:0.1; fill:none\" points=\"\n",
       "  1539.31,1423.18 1539.31,123.472 \n",
       "  \"/>\n",
       "<polyline clip-path=\"url(#clip322)\" style=\"stroke:#000000; stroke-linecap:butt; stroke-linejoin:round; stroke-width:2; stroke-opacity:0.1; fill:none\" points=\"\n",
       "  1984.27,1423.18 1984.27,123.472 \n",
       "  \"/>\n",
       "<polyline clip-path=\"url(#clip320)\" style=\"stroke:#000000; stroke-linecap:butt; stroke-linejoin:round; stroke-width:4; stroke-opacity:1; fill:none\" points=\"\n",
       "  141.853,1423.18 2352.76,1423.18 \n",
       "  \"/>\n",
       "<polyline clip-path=\"url(#clip320)\" style=\"stroke:#000000; stroke-linecap:butt; stroke-linejoin:round; stroke-width:4; stroke-opacity:1; fill:none\" points=\"\n",
       "  204.426,1423.18 204.426,1404.28 \n",
       "  \"/>\n",
       "<polyline clip-path=\"url(#clip320)\" style=\"stroke:#000000; stroke-linecap:butt; stroke-linejoin:round; stroke-width:4; stroke-opacity:1; fill:none\" points=\"\n",
       "  649.387,1423.18 649.387,1404.28 \n",
       "  \"/>\n",
       "<polyline clip-path=\"url(#clip320)\" style=\"stroke:#000000; stroke-linecap:butt; stroke-linejoin:round; stroke-width:4; stroke-opacity:1; fill:none\" points=\"\n",
       "  1094.35,1423.18 1094.35,1404.28 \n",
       "  \"/>\n",
       "<polyline clip-path=\"url(#clip320)\" style=\"stroke:#000000; stroke-linecap:butt; stroke-linejoin:round; stroke-width:4; stroke-opacity:1; fill:none\" points=\"\n",
       "  1539.31,1423.18 1539.31,1404.28 \n",
       "  \"/>\n",
       "<polyline clip-path=\"url(#clip320)\" style=\"stroke:#000000; stroke-linecap:butt; stroke-linejoin:round; stroke-width:4; stroke-opacity:1; fill:none\" points=\"\n",
       "  1984.27,1423.18 1984.27,1404.28 \n",
       "  \"/>\n",
       "<path clip-path=\"url(#clip320)\" d=\"M181.81 1454.1 Q178.199 1454.1 176.37 1457.66 Q174.565 1461.2 174.565 1468.33 Q174.565 1475.44 176.37 1479.01 Q178.199 1482.55 181.81 1482.55 Q185.444 1482.55 187.25 1479.01 Q189.079 1475.44 189.079 1468.33 Q189.079 1461.2 187.25 1457.66 Q185.444 1454.1 181.81 1454.1 M181.81 1450.39 Q187.62 1450.39 190.676 1455 Q193.754 1459.58 193.754 1468.33 Q193.754 1477.06 190.676 1481.67 Q187.62 1486.25 181.81 1486.25 Q176 1486.25 172.921 1481.67 Q169.866 1477.06 169.866 1468.33 Q169.866 1459.58 172.921 1455 Q176 1450.39 181.81 1450.39 Z\" fill=\"#000000\" fill-rule=\"evenodd\" fill-opacity=\"1\" /><path clip-path=\"url(#clip320)\" d=\"M201.972 1479.7 L206.856 1479.7 L206.856 1485.58 L201.972 1485.58 L201.972 1479.7 Z\" fill=\"#000000\" fill-rule=\"evenodd\" fill-opacity=\"1\" /><path clip-path=\"url(#clip320)\" d=\"M227.041 1454.1 Q223.43 1454.1 221.602 1457.66 Q219.796 1461.2 219.796 1468.33 Q219.796 1475.44 221.602 1479.01 Q223.43 1482.55 227.041 1482.55 Q230.676 1482.55 232.481 1479.01 Q234.31 1475.44 234.31 1468.33 Q234.31 1461.2 232.481 1457.66 Q230.676 1454.1 227.041 1454.1 M227.041 1450.39 Q232.851 1450.39 235.907 1455 Q238.986 1459.58 238.986 1468.33 Q238.986 1477.06 235.907 1481.67 Q232.851 1486.25 227.041 1486.25 Q221.231 1486.25 218.152 1481.67 Q215.097 1477.06 215.097 1468.33 Q215.097 1459.58 218.152 1455 Q221.231 1450.39 227.041 1450.39 Z\" fill=\"#000000\" fill-rule=\"evenodd\" fill-opacity=\"1\" /><path clip-path=\"url(#clip320)\" d=\"M627.57 1454.1 Q623.959 1454.1 622.13 1457.66 Q620.325 1461.2 620.325 1468.33 Q620.325 1475.44 622.13 1479.01 Q623.959 1482.55 627.57 1482.55 Q631.204 1482.55 633.01 1479.01 Q634.839 1475.44 634.839 1468.33 Q634.839 1461.2 633.01 1457.66 Q631.204 1454.1 627.57 1454.1 M627.57 1450.39 Q633.38 1450.39 636.436 1455 Q639.515 1459.58 639.515 1468.33 Q639.515 1477.06 636.436 1481.67 Q633.38 1486.25 627.57 1486.25 Q621.76 1486.25 618.681 1481.67 Q615.626 1477.06 615.626 1468.33 Q615.626 1459.58 618.681 1455 Q621.76 1450.39 627.57 1450.39 Z\" fill=\"#000000\" fill-rule=\"evenodd\" fill-opacity=\"1\" /><path clip-path=\"url(#clip320)\" d=\"M647.732 1479.7 L652.616 1479.7 L652.616 1485.58 L647.732 1485.58 L647.732 1479.7 Z\" fill=\"#000000\" fill-rule=\"evenodd\" fill-opacity=\"1\" /><path clip-path=\"url(#clip320)\" d=\"M666.829 1481.64 L683.149 1481.64 L683.149 1485.58 L661.204 1485.58 L661.204 1481.64 Q663.866 1478.89 668.45 1474.26 Q673.056 1469.61 674.237 1468.27 Q676.482 1465.74 677.362 1464.01 Q678.264 1462.25 678.264 1460.56 Q678.264 1457.8 676.32 1456.07 Q674.399 1454.33 671.297 1454.33 Q669.098 1454.33 666.644 1455.09 Q664.214 1455.86 661.436 1457.41 L661.436 1452.69 Q664.26 1451.55 666.714 1450.97 Q669.167 1450.39 671.204 1450.39 Q676.575 1450.39 679.769 1453.08 Q682.963 1455.77 682.963 1460.26 Q682.963 1462.39 682.153 1464.31 Q681.366 1466.2 679.26 1468.8 Q678.681 1469.47 675.579 1472.69 Q672.477 1475.88 666.829 1481.64 Z\" fill=\"#000000\" fill-rule=\"evenodd\" fill-opacity=\"1\" /><path clip-path=\"url(#clip320)\" d=\"M1071.49 1454.1 Q1067.88 1454.1 1066.05 1457.66 Q1064.24 1461.2 1064.24 1468.33 Q1064.24 1475.44 1066.05 1479.01 Q1067.88 1482.55 1071.49 1482.55 Q1075.12 1482.55 1076.93 1479.01 Q1078.76 1475.44 1078.76 1468.33 Q1078.76 1461.2 1076.93 1457.66 Q1075.12 1454.1 1071.49 1454.1 M1071.49 1450.39 Q1077.3 1450.39 1080.36 1455 Q1083.43 1459.58 1083.43 1468.33 Q1083.43 1477.06 1080.36 1481.67 Q1077.3 1486.25 1071.49 1486.25 Q1065.68 1486.25 1062.6 1481.67 Q1059.55 1477.06 1059.55 1468.33 Q1059.55 1459.58 1062.6 1455 Q1065.68 1450.39 1071.49 1450.39 Z\" fill=\"#000000\" fill-rule=\"evenodd\" fill-opacity=\"1\" /><path clip-path=\"url(#clip320)\" d=\"M1091.65 1479.7 L1096.54 1479.7 L1096.54 1485.58 L1091.65 1485.58 L1091.65 1479.7 Z\" fill=\"#000000\" fill-rule=\"evenodd\" fill-opacity=\"1\" /><path clip-path=\"url(#clip320)\" d=\"M1119.57 1455.09 L1107.76 1473.54 L1119.57 1473.54 L1119.57 1455.09 M1118.34 1451.02 L1124.22 1451.02 L1124.22 1473.54 L1129.15 1473.54 L1129.15 1477.43 L1124.22 1477.43 L1124.22 1485.58 L1119.57 1485.58 L1119.57 1477.43 L1103.97 1477.43 L1103.97 1472.92 L1118.34 1451.02 Z\" fill=\"#000000\" fill-rule=\"evenodd\" fill-opacity=\"1\" /><path clip-path=\"url(#clip320)\" d=\"M1516.61 1454.1 Q1513 1454.1 1511.17 1457.66 Q1509.37 1461.2 1509.37 1468.33 Q1509.37 1475.44 1511.17 1479.01 Q1513 1482.55 1516.61 1482.55 Q1520.25 1482.55 1522.05 1479.01 Q1523.88 1475.44 1523.88 1468.33 Q1523.88 1461.2 1522.05 1457.66 Q1520.25 1454.1 1516.61 1454.1 M1516.61 1450.39 Q1522.42 1450.39 1525.48 1455 Q1528.56 1459.58 1528.56 1468.33 Q1528.56 1477.06 1525.48 1481.67 Q1522.42 1486.25 1516.61 1486.25 Q1510.8 1486.25 1507.72 1481.67 Q1504.67 1477.06 1504.67 1468.33 Q1504.67 1459.58 1507.72 1455 Q1510.8 1450.39 1516.61 1450.39 Z\" fill=\"#000000\" fill-rule=\"evenodd\" fill-opacity=\"1\" /><path clip-path=\"url(#clip320)\" d=\"M1536.78 1479.7 L1541.66 1479.7 L1541.66 1485.58 L1536.78 1485.58 L1536.78 1479.7 Z\" fill=\"#000000\" fill-rule=\"evenodd\" fill-opacity=\"1\" /><path clip-path=\"url(#clip320)\" d=\"M1562.42 1466.44 Q1559.28 1466.44 1557.42 1468.59 Q1555.6 1470.74 1555.6 1474.49 Q1555.6 1478.22 1557.42 1480.39 Q1559.28 1482.55 1562.42 1482.55 Q1565.57 1482.55 1567.4 1480.39 Q1569.25 1478.22 1569.25 1474.49 Q1569.25 1470.74 1567.4 1468.59 Q1565.57 1466.44 1562.42 1466.44 M1571.71 1451.78 L1571.71 1456.04 Q1569.95 1455.21 1568.14 1454.77 Q1566.36 1454.33 1564.6 1454.33 Q1559.97 1454.33 1557.52 1457.45 Q1555.09 1460.58 1554.74 1466.9 Q1556.1 1464.89 1558.16 1463.82 Q1560.22 1462.73 1562.7 1462.73 Q1567.91 1462.73 1570.92 1465.9 Q1573.95 1469.05 1573.95 1474.49 Q1573.95 1479.82 1570.8 1483.03 Q1567.66 1486.25 1562.42 1486.25 Q1556.43 1486.25 1553.26 1481.67 Q1550.09 1477.06 1550.09 1468.33 Q1550.09 1460.14 1553.97 1455.28 Q1557.86 1450.39 1564.41 1450.39 Q1566.17 1450.39 1567.96 1450.74 Q1569.76 1451.09 1571.71 1451.78 Z\" fill=\"#000000\" fill-rule=\"evenodd\" fill-opacity=\"1\" /><path clip-path=\"url(#clip320)\" d=\"M1961.7 1454.1 Q1958.09 1454.1 1956.26 1457.66 Q1954.46 1461.2 1954.46 1468.33 Q1954.46 1475.44 1956.26 1479.01 Q1958.09 1482.55 1961.7 1482.55 Q1965.34 1482.55 1967.14 1479.01 Q1968.97 1475.44 1968.97 1468.33 Q1968.97 1461.2 1967.14 1457.66 Q1965.34 1454.1 1961.7 1454.1 M1961.7 1450.39 Q1967.51 1450.39 1970.57 1455 Q1973.65 1459.58 1973.65 1468.33 Q1973.65 1477.06 1970.57 1481.67 Q1967.51 1486.25 1961.7 1486.25 Q1955.89 1486.25 1952.81 1481.67 Q1949.76 1477.06 1949.76 1468.33 Q1949.76 1459.58 1952.81 1455 Q1955.89 1450.39 1961.7 1450.39 Z\" fill=\"#000000\" fill-rule=\"evenodd\" fill-opacity=\"1\" /><path clip-path=\"url(#clip320)\" d=\"M1981.86 1479.7 L1986.75 1479.7 L1986.75 1485.58 L1981.86 1485.58 L1981.86 1479.7 Z\" fill=\"#000000\" fill-rule=\"evenodd\" fill-opacity=\"1\" /><path clip-path=\"url(#clip320)\" d=\"M2006.93 1469.17 Q2003.6 1469.17 2001.68 1470.95 Q1999.78 1472.73 1999.78 1475.86 Q1999.78 1478.98 2001.68 1480.77 Q2003.6 1482.55 2006.93 1482.55 Q2010.27 1482.55 2012.19 1480.77 Q2014.11 1478.96 2014.11 1475.86 Q2014.11 1472.73 2012.19 1470.95 Q2010.29 1469.17 2006.93 1469.17 M2002.26 1467.18 Q1999.25 1466.44 1997.56 1464.38 Q1995.89 1462.32 1995.89 1459.35 Q1995.89 1455.21 1998.83 1452.8 Q2001.8 1450.39 2006.93 1450.39 Q2012.1 1450.39 2015.04 1452.8 Q2017.98 1455.21 2017.98 1459.35 Q2017.98 1462.32 2016.29 1464.38 Q2014.62 1466.44 2011.63 1467.18 Q2015.01 1467.96 2016.89 1470.26 Q2018.79 1472.55 2018.79 1475.86 Q2018.79 1480.88 2015.71 1483.57 Q2012.65 1486.25 2006.93 1486.25 Q2001.22 1486.25 1998.14 1483.57 Q1995.08 1480.88 1995.08 1475.86 Q1995.08 1472.55 1996.98 1470.26 Q1998.88 1467.96 2002.26 1467.18 M2000.55 1459.79 Q2000.55 1462.48 2002.21 1463.98 Q2003.9 1465.49 2006.93 1465.49 Q2009.94 1465.49 2011.63 1463.98 Q2013.35 1462.48 2013.35 1459.79 Q2013.35 1457.11 2011.63 1455.6 Q2009.94 1454.1 2006.93 1454.1 Q2003.9 1454.1 2002.21 1455.6 Q2000.55 1457.11 2000.55 1459.79 Z\" fill=\"#000000\" fill-rule=\"evenodd\" fill-opacity=\"1\" /><path clip-path=\"url(#clip320)\" d=\"M1236.07 1540.03 L1258.54 1540.03 L1258.54 1545.45 L1236.07 1545.45 L1236.07 1540.03 M1247.34 1524.88 Q1240.33 1524.88 1236.23 1530.1 Q1232.09 1535.32 1232.09 1544.33 Q1232.09 1553.31 1236.2 1558.53 Q1240.33 1563.75 1247.34 1563.75 Q1254.34 1563.75 1258.44 1558.53 Q1262.52 1553.31 1262.52 1544.33 Q1262.52 1535.32 1258.44 1530.1 Q1254.34 1524.88 1247.34 1524.88 M1247.34 1519.66 Q1257.33 1519.66 1263.31 1526.38 Q1269.3 1533.06 1269.3 1544.33 Q1269.3 1555.57 1263.31 1562.25 Q1257.33 1568.97 1247.34 1568.97 Q1237.31 1568.97 1231.33 1562.28 Q1225.31 1555.6 1225.31 1544.33 Q1225.31 1533.06 1231.33 1526.35 Q1237.31 1519.66 1247.34 1519.66 Z\" fill=\"#000000\" fill-rule=\"evenodd\" fill-opacity=\"1\" /><polyline clip-path=\"url(#clip322)\" style=\"stroke:#000000; stroke-linecap:butt; stroke-linejoin:round; stroke-width:2; stroke-opacity:0.1; fill:none\" points=\"\n",
       "  141.853,1386.4 2352.76,1386.4 \n",
       "  \"/>\n",
       "<polyline clip-path=\"url(#clip322)\" style=\"stroke:#000000; stroke-linecap:butt; stroke-linejoin:round; stroke-width:2; stroke-opacity:0.1; fill:none\" points=\"\n",
       "  141.853,1113.92 2352.76,1113.92 \n",
       "  \"/>\n",
       "<polyline clip-path=\"url(#clip322)\" style=\"stroke:#000000; stroke-linecap:butt; stroke-linejoin:round; stroke-width:2; stroke-opacity:0.1; fill:none\" points=\"\n",
       "  141.853,841.445 2352.76,841.445 \n",
       "  \"/>\n",
       "<polyline clip-path=\"url(#clip322)\" style=\"stroke:#000000; stroke-linecap:butt; stroke-linejoin:round; stroke-width:2; stroke-opacity:0.1; fill:none\" points=\"\n",
       "  141.853,568.969 2352.76,568.969 \n",
       "  \"/>\n",
       "<polyline clip-path=\"url(#clip322)\" style=\"stroke:#000000; stroke-linecap:butt; stroke-linejoin:round; stroke-width:2; stroke-opacity:0.1; fill:none\" points=\"\n",
       "  141.853,296.494 2352.76,296.494 \n",
       "  \"/>\n",
       "<polyline clip-path=\"url(#clip320)\" style=\"stroke:#000000; stroke-linecap:butt; stroke-linejoin:round; stroke-width:4; stroke-opacity:1; fill:none\" points=\"\n",
       "  141.853,1423.18 141.853,123.472 \n",
       "  \"/>\n",
       "<polyline clip-path=\"url(#clip320)\" style=\"stroke:#000000; stroke-linecap:butt; stroke-linejoin:round; stroke-width:4; stroke-opacity:1; fill:none\" points=\"\n",
       "  141.853,1386.4 160.751,1386.4 \n",
       "  \"/>\n",
       "<polyline clip-path=\"url(#clip320)\" style=\"stroke:#000000; stroke-linecap:butt; stroke-linejoin:round; stroke-width:4; stroke-opacity:1; fill:none\" points=\"\n",
       "  141.853,1113.92 160.751,1113.92 \n",
       "  \"/>\n",
       "<polyline clip-path=\"url(#clip320)\" style=\"stroke:#000000; stroke-linecap:butt; stroke-linejoin:round; stroke-width:4; stroke-opacity:1; fill:none\" points=\"\n",
       "  141.853,841.445 160.751,841.445 \n",
       "  \"/>\n",
       "<polyline clip-path=\"url(#clip320)\" style=\"stroke:#000000; stroke-linecap:butt; stroke-linejoin:round; stroke-width:4; stroke-opacity:1; fill:none\" points=\"\n",
       "  141.853,568.969 160.751,568.969 \n",
       "  \"/>\n",
       "<polyline clip-path=\"url(#clip320)\" style=\"stroke:#000000; stroke-linecap:butt; stroke-linejoin:round; stroke-width:4; stroke-opacity:1; fill:none\" points=\"\n",
       "  141.853,296.494 160.751,296.494 \n",
       "  \"/>\n",
       "<path clip-path=\"url(#clip320)\" d=\"M93.9086 1372.19 Q90.2975 1372.19 88.4688 1375.76 Q86.6632 1379.3 86.6632 1386.43 Q86.6632 1393.54 88.4688 1397.1 Q90.2975 1400.64 93.9086 1400.64 Q97.5428 1400.64 99.3483 1397.1 Q101.177 1393.54 101.177 1386.43 Q101.177 1379.3 99.3483 1375.76 Q97.5428 1372.19 93.9086 1372.19 M93.9086 1368.49 Q99.7187 1368.49 102.774 1373.1 Q105.853 1377.68 105.853 1386.43 Q105.853 1395.16 102.774 1399.76 Q99.7187 1404.35 93.9086 1404.35 Q88.0984 1404.35 85.0197 1399.76 Q81.9642 1395.16 81.9642 1386.43 Q81.9642 1377.68 85.0197 1373.1 Q88.0984 1368.49 93.9086 1368.49 Z\" fill=\"#000000\" fill-rule=\"evenodd\" fill-opacity=\"1\" /><path clip-path=\"url(#clip320)\" d=\"M54.5569 1127.27 L62.1958 1127.27 L62.1958 1100.9 L53.8856 1102.57 L53.8856 1098.31 L62.1495 1096.64 L66.8254 1096.64 L66.8254 1127.27 L74.4642 1127.27 L74.4642 1131.2 L54.5569 1131.2 L54.5569 1127.27 Z\" fill=\"#000000\" fill-rule=\"evenodd\" fill-opacity=\"1\" /><path clip-path=\"url(#clip320)\" d=\"M93.9086 1099.72 Q90.2975 1099.72 88.4688 1103.28 Q86.6632 1106.83 86.6632 1113.95 Q86.6632 1121.06 88.4688 1124.63 Q90.2975 1128.17 93.9086 1128.17 Q97.5428 1128.17 99.3483 1124.63 Q101.177 1121.06 101.177 1113.95 Q101.177 1106.83 99.3483 1103.28 Q97.5428 1099.72 93.9086 1099.72 M93.9086 1096.02 Q99.7187 1096.02 102.774 1100.62 Q105.853 1105.21 105.853 1113.95 Q105.853 1122.68 102.774 1127.29 Q99.7187 1131.87 93.9086 1131.87 Q88.0984 1131.87 85.0197 1127.29 Q81.9642 1122.68 81.9642 1113.95 Q81.9642 1105.21 85.0197 1100.62 Q88.0984 1096.02 93.9086 1096.02 Z\" fill=\"#000000\" fill-rule=\"evenodd\" fill-opacity=\"1\" /><path clip-path=\"url(#clip320)\" d=\"M57.7745 854.79 L74.0939 854.79 L74.0939 858.725 L52.1495 858.725 L52.1495 854.79 Q54.8115 852.035 59.3949 847.405 Q64.0013 842.753 65.1819 841.41 Q67.4272 838.887 68.3068 837.151 Q69.2096 835.392 69.2096 833.702 Q69.2096 830.947 67.2652 829.211 Q65.3439 827.475 62.2421 827.475 Q60.043 827.475 57.5893 828.239 Q55.1588 829.003 52.381 830.554 L52.381 825.831 Q55.2051 824.697 57.6588 824.119 Q60.1124 823.54 62.1495 823.54 Q67.5198 823.54 70.7142 826.225 Q73.9087 828.91 73.9087 833.401 Q73.9087 835.531 73.0985 837.452 Q72.3115 839.35 70.205 841.943 Q69.6263 842.614 66.5245 845.831 Q63.4226 849.026 57.7745 854.79 Z\" fill=\"#000000\" fill-rule=\"evenodd\" fill-opacity=\"1\" /><path clip-path=\"url(#clip320)\" d=\"M93.9086 827.244 Q90.2975 827.244 88.4688 830.808 Q86.6632 834.35 86.6632 841.48 Q86.6632 848.586 88.4688 852.151 Q90.2975 855.692 93.9086 855.692 Q97.5428 855.692 99.3483 852.151 Q101.177 848.586 101.177 841.48 Q101.177 834.35 99.3483 830.808 Q97.5428 827.244 93.9086 827.244 M93.9086 823.54 Q99.7187 823.54 102.774 828.146 Q105.853 832.73 105.853 841.48 Q105.853 850.206 102.774 854.813 Q99.7187 859.396 93.9086 859.396 Q88.0984 859.396 85.0197 854.813 Q81.9642 850.206 81.9642 841.48 Q81.9642 832.73 85.0197 828.146 Q88.0984 823.54 93.9086 823.54 Z\" fill=\"#000000\" fill-rule=\"evenodd\" fill-opacity=\"1\" /><path clip-path=\"url(#clip320)\" d=\"M67.9133 567.615 Q71.2698 568.333 73.1448 570.601 Q75.0429 572.87 75.0429 576.203 Q75.0429 581.319 71.5244 584.12 Q68.0059 586.921 61.5245 586.921 Q59.3486 586.921 57.0338 586.481 Q54.7421 586.064 52.2884 585.208 L52.2884 580.694 Q54.2328 581.828 56.5477 582.407 Q58.8625 582.986 61.3856 582.986 Q65.7837 582.986 68.0754 581.249 Q70.3902 579.513 70.3902 576.203 Q70.3902 573.148 68.2374 571.435 Q66.1078 569.699 62.2884 569.699 L58.2606 569.699 L58.2606 565.856 L62.4735 565.856 Q65.9226 565.856 67.7513 564.49 Q69.58 563.101 69.58 560.509 Q69.58 557.847 67.6819 556.435 Q65.8069 555 62.2884 555 Q60.3671 555 58.168 555.416 Q55.969 555.833 53.3301 556.713 L53.3301 552.546 Q55.9921 551.805 58.3069 551.435 Q60.6449 551.064 62.705 551.064 Q68.0291 551.064 71.1309 553.495 Q74.2327 555.902 74.2327 560.023 Q74.2327 562.893 72.5892 564.884 Q70.9457 566.851 67.9133 567.615 Z\" fill=\"#000000\" fill-rule=\"evenodd\" fill-opacity=\"1\" /><path clip-path=\"url(#clip320)\" d=\"M93.9086 554.768 Q90.2975 554.768 88.4688 558.333 Q86.6632 561.875 86.6632 569.004 Q86.6632 576.111 88.4688 579.675 Q90.2975 583.217 93.9086 583.217 Q97.5428 583.217 99.3483 579.675 Q101.177 576.111 101.177 569.004 Q101.177 561.875 99.3483 558.333 Q97.5428 554.768 93.9086 554.768 M93.9086 551.064 Q99.7187 551.064 102.774 555.671 Q105.853 560.254 105.853 569.004 Q105.853 577.731 102.774 582.337 Q99.7187 586.921 93.9086 586.921 Q88.0984 586.921 85.0197 582.337 Q81.9642 577.731 81.9642 569.004 Q81.9642 560.254 85.0197 555.671 Q88.0984 551.064 93.9086 551.064 Z\" fill=\"#000000\" fill-rule=\"evenodd\" fill-opacity=\"1\" /><path clip-path=\"url(#clip320)\" d=\"M66.5939 283.288 L54.7884 301.737 L66.5939 301.737 L66.5939 283.288 M65.367 279.214 L71.2466 279.214 L71.2466 301.737 L76.1772 301.737 L76.1772 305.626 L71.2466 305.626 L71.2466 313.774 L66.5939 313.774 L66.5939 305.626 L50.9921 305.626 L50.9921 301.112 L65.367 279.214 Z\" fill=\"#000000\" fill-rule=\"evenodd\" fill-opacity=\"1\" /><path clip-path=\"url(#clip320)\" d=\"M93.9086 282.293 Q90.2975 282.293 88.4688 285.857 Q86.6632 289.399 86.6632 296.529 Q86.6632 303.635 88.4688 307.2 Q90.2975 310.742 93.9086 310.742 Q97.5428 310.742 99.3483 307.2 Q101.177 303.635 101.177 296.529 Q101.177 289.399 99.3483 285.857 Q97.5428 282.293 93.9086 282.293 M93.9086 278.589 Q99.7187 278.589 102.774 283.195 Q105.853 287.779 105.853 296.529 Q105.853 305.256 102.774 309.862 Q99.7187 314.445 93.9086 314.445 Q88.0984 314.445 85.0197 309.862 Q81.9642 305.256 81.9642 296.529 Q81.9642 287.779 85.0197 283.195 Q88.0984 278.589 93.9086 278.589 Z\" fill=\"#000000\" fill-rule=\"evenodd\" fill-opacity=\"1\" /><path clip-path=\"url(#clip320)\" d=\"M1110.89 12.096 L1162.05 12.096 L1162.05 18.9825 L1140.58 18.9825 L1140.58 72.576 L1132.36 72.576 L1132.36 18.9825 L1110.89 18.9825 L1110.89 12.096 Z\" fill=\"#000000\" fill-rule=\"evenodd\" fill-opacity=\"1\" /><path clip-path=\"url(#clip320)\" d=\"M1194.34 48.0275 L1194.34 51.6733 L1160.07 51.6733 Q1160.55 59.3701 1164.69 63.421 Q1168.86 67.4314 1176.27 67.4314 Q1180.57 67.4314 1184.58 66.3781 Q1188.63 65.3249 1192.6 63.2184 L1192.6 70.267 Q1188.59 71.9684 1184.37 72.8596 Q1180.16 73.7508 1175.83 73.7508 Q1164.97 73.7508 1158.61 67.4314 Q1152.29 61.1119 1152.29 50.3365 Q1152.29 39.1965 1158.29 32.6746 Q1164.32 26.1121 1174.53 26.1121 Q1183.68 26.1121 1188.99 32.0264 Q1194.34 37.9003 1194.34 48.0275 M1186.89 45.84 Q1186.8 39.7232 1183.44 36.0774 Q1180.12 32.4315 1174.61 32.4315 Q1168.37 32.4315 1164.61 35.9558 Q1160.88 39.4801 1160.31 45.8805 L1186.89 45.84 Z\" fill=\"#000000\" fill-rule=\"evenodd\" fill-opacity=\"1\" /><path clip-path=\"url(#clip320)\" d=\"M1232.86 34.1734 Q1231.61 33.4443 1230.11 33.1202 Q1228.65 32.7556 1226.87 32.7556 Q1220.55 32.7556 1217.15 36.8875 Q1213.78 40.9789 1213.78 48.6757 L1213.78 72.576 L1206.29 72.576 L1206.29 27.2059 L1213.78 27.2059 L1213.78 34.2544 Q1216.13 30.1225 1219.9 28.1376 Q1223.67 26.1121 1229.06 26.1121 Q1229.82 26.1121 1230.76 26.2337 Q1231.69 26.3147 1232.82 26.5172 L1232.86 34.1734 Z\" fill=\"#000000\" fill-rule=\"evenodd\" fill-opacity=\"1\" /><path clip-path=\"url(#clip320)\" d=\"M1274.55 35.9153 Q1277.34 30.8922 1281.23 28.5022 Q1285.12 26.1121 1290.39 26.1121 Q1297.47 26.1121 1301.32 31.0947 Q1305.17 36.0368 1305.17 45.1919 L1305.17 72.576 L1297.68 72.576 L1297.68 45.4349 Q1297.68 38.913 1295.37 35.7533 Q1293.06 32.5936 1288.32 32.5936 Q1282.53 32.5936 1279.16 36.4419 Q1275.8 40.2903 1275.8 46.9338 L1275.8 72.576 L1268.31 72.576 L1268.31 45.4349 Q1268.31 38.8725 1266 35.7533 Q1263.69 32.5936 1258.87 32.5936 Q1253.16 32.5936 1249.8 36.4824 Q1246.43 40.3308 1246.43 46.9338 L1246.43 72.576 L1238.94 72.576 L1238.94 27.2059 L1246.43 27.2059 L1246.43 34.2544 Q1248.99 30.082 1252.55 28.0971 Q1256.12 26.1121 1261.02 26.1121 Q1265.96 26.1121 1269.4 28.6237 Q1272.89 31.1352 1274.55 35.9153 Z\" fill=\"#000000\" fill-rule=\"evenodd\" fill-opacity=\"1\" /><path clip-path=\"url(#clip320)\" d=\"M1348.88 65.6895 L1362.25 65.6895 L1362.25 19.5497 L1347.71 22.4663 L1347.71 15.0127 L1362.17 12.096 L1370.35 12.096 L1370.35 65.6895 L1383.72 65.6895 L1383.72 72.576 L1348.88 72.576 L1348.88 65.6895 Z\" fill=\"#000000\" fill-rule=\"evenodd\" fill-opacity=\"1\" /><polyline clip-path=\"url(#clip322)\" style=\"stroke:#009af9; stroke-linecap:butt; stroke-linejoin:round; stroke-width:4; stroke-opacity:1; fill:none\" points=\"\n",
       "  204.426,1331.9 343.476,1304.65 482.527,1277.41 621.577,1032.18 760.628,895.94 899.678,596.217 1038.73,514.474 1177.78,459.979 1316.83,459.979 1455.88,487.227 \n",
       "  1594.93,459.979 1733.98,432.732 1873.03,187.504 2012.08,187.504 2151.13,187.504 2290.18,160.256 \n",
       "  \"/>\n",
       "<circle clip-path=\"url(#clip322)\" cx=\"204.426\" cy=\"1331.9\" r=\"14\" fill=\"#009af9\" fill-rule=\"evenodd\" fill-opacity=\"1\" stroke=\"#000000\" stroke-opacity=\"1\" stroke-width=\"3.2\"/>\n",
       "<circle clip-path=\"url(#clip322)\" cx=\"343.476\" cy=\"1304.65\" r=\"14\" fill=\"#009af9\" fill-rule=\"evenodd\" fill-opacity=\"1\" stroke=\"#000000\" stroke-opacity=\"1\" stroke-width=\"3.2\"/>\n",
       "<circle clip-path=\"url(#clip322)\" cx=\"482.527\" cy=\"1277.41\" r=\"14\" fill=\"#009af9\" fill-rule=\"evenodd\" fill-opacity=\"1\" stroke=\"#000000\" stroke-opacity=\"1\" stroke-width=\"3.2\"/>\n",
       "<circle clip-path=\"url(#clip322)\" cx=\"621.577\" cy=\"1032.18\" r=\"14\" fill=\"#009af9\" fill-rule=\"evenodd\" fill-opacity=\"1\" stroke=\"#000000\" stroke-opacity=\"1\" stroke-width=\"3.2\"/>\n",
       "<circle clip-path=\"url(#clip322)\" cx=\"760.628\" cy=\"895.94\" r=\"14\" fill=\"#009af9\" fill-rule=\"evenodd\" fill-opacity=\"1\" stroke=\"#000000\" stroke-opacity=\"1\" stroke-width=\"3.2\"/>\n",
       "<circle clip-path=\"url(#clip322)\" cx=\"899.678\" cy=\"596.217\" r=\"14\" fill=\"#009af9\" fill-rule=\"evenodd\" fill-opacity=\"1\" stroke=\"#000000\" stroke-opacity=\"1\" stroke-width=\"3.2\"/>\n",
       "<circle clip-path=\"url(#clip322)\" cx=\"1038.73\" cy=\"514.474\" r=\"14\" fill=\"#009af9\" fill-rule=\"evenodd\" fill-opacity=\"1\" stroke=\"#000000\" stroke-opacity=\"1\" stroke-width=\"3.2\"/>\n",
       "<circle clip-path=\"url(#clip322)\" cx=\"1177.78\" cy=\"459.979\" r=\"14\" fill=\"#009af9\" fill-rule=\"evenodd\" fill-opacity=\"1\" stroke=\"#000000\" stroke-opacity=\"1\" stroke-width=\"3.2\"/>\n",
       "<circle clip-path=\"url(#clip322)\" cx=\"1316.83\" cy=\"459.979\" r=\"14\" fill=\"#009af9\" fill-rule=\"evenodd\" fill-opacity=\"1\" stroke=\"#000000\" stroke-opacity=\"1\" stroke-width=\"3.2\"/>\n",
       "<circle clip-path=\"url(#clip322)\" cx=\"1455.88\" cy=\"487.227\" r=\"14\" fill=\"#009af9\" fill-rule=\"evenodd\" fill-opacity=\"1\" stroke=\"#000000\" stroke-opacity=\"1\" stroke-width=\"3.2\"/>\n",
       "<circle clip-path=\"url(#clip322)\" cx=\"1594.93\" cy=\"459.979\" r=\"14\" fill=\"#009af9\" fill-rule=\"evenodd\" fill-opacity=\"1\" stroke=\"#000000\" stroke-opacity=\"1\" stroke-width=\"3.2\"/>\n",
       "<circle clip-path=\"url(#clip322)\" cx=\"1733.98\" cy=\"432.732\" r=\"14\" fill=\"#009af9\" fill-rule=\"evenodd\" fill-opacity=\"1\" stroke=\"#000000\" stroke-opacity=\"1\" stroke-width=\"3.2\"/>\n",
       "<circle clip-path=\"url(#clip322)\" cx=\"1873.03\" cy=\"187.504\" r=\"14\" fill=\"#009af9\" fill-rule=\"evenodd\" fill-opacity=\"1\" stroke=\"#000000\" stroke-opacity=\"1\" stroke-width=\"3.2\"/>\n",
       "<circle clip-path=\"url(#clip322)\" cx=\"2012.08\" cy=\"187.504\" r=\"14\" fill=\"#009af9\" fill-rule=\"evenodd\" fill-opacity=\"1\" stroke=\"#000000\" stroke-opacity=\"1\" stroke-width=\"3.2\"/>\n",
       "<circle clip-path=\"url(#clip322)\" cx=\"2151.13\" cy=\"187.504\" r=\"14\" fill=\"#009af9\" fill-rule=\"evenodd\" fill-opacity=\"1\" stroke=\"#000000\" stroke-opacity=\"1\" stroke-width=\"3.2\"/>\n",
       "<circle clip-path=\"url(#clip322)\" cx=\"2290.18\" cy=\"160.256\" r=\"14\" fill=\"#009af9\" fill-rule=\"evenodd\" fill-opacity=\"1\" stroke=\"#000000\" stroke-opacity=\"1\" stroke-width=\"3.2\"/>\n",
       "<polyline clip-path=\"url(#clip322)\" style=\"stroke:#e26f46; stroke-linecap:butt; stroke-linejoin:round; stroke-width:4; stroke-opacity:1; fill:none\" points=\"\n",
       "  204.426,214.751 343.476,241.999 482.527,269.246 621.577,514.474 760.628,650.712 899.678,950.435 1038.73,1032.18 1177.78,1086.67 1316.83,1086.67 1455.88,1059.43 \n",
       "  1594.93,1086.67 1733.98,1113.92 1873.03,1359.15 2012.08,1359.15 2151.13,1359.15 2290.18,1386.4 \n",
       "  \"/>\n",
       "<circle clip-path=\"url(#clip322)\" cx=\"204.426\" cy=\"214.751\" r=\"14\" fill=\"#e26f46\" fill-rule=\"evenodd\" fill-opacity=\"1\" stroke=\"#000000\" stroke-opacity=\"1\" stroke-width=\"3.2\"/>\n",
       "<circle clip-path=\"url(#clip322)\" cx=\"343.476\" cy=\"241.999\" r=\"14\" fill=\"#e26f46\" fill-rule=\"evenodd\" fill-opacity=\"1\" stroke=\"#000000\" stroke-opacity=\"1\" stroke-width=\"3.2\"/>\n",
       "<circle clip-path=\"url(#clip322)\" cx=\"482.527\" cy=\"269.246\" r=\"14\" fill=\"#e26f46\" fill-rule=\"evenodd\" fill-opacity=\"1\" stroke=\"#000000\" stroke-opacity=\"1\" stroke-width=\"3.2\"/>\n",
       "<circle clip-path=\"url(#clip322)\" cx=\"621.577\" cy=\"514.474\" r=\"14\" fill=\"#e26f46\" fill-rule=\"evenodd\" fill-opacity=\"1\" stroke=\"#000000\" stroke-opacity=\"1\" stroke-width=\"3.2\"/>\n",
       "<circle clip-path=\"url(#clip322)\" cx=\"760.628\" cy=\"650.712\" r=\"14\" fill=\"#e26f46\" fill-rule=\"evenodd\" fill-opacity=\"1\" stroke=\"#000000\" stroke-opacity=\"1\" stroke-width=\"3.2\"/>\n",
       "<circle clip-path=\"url(#clip322)\" cx=\"899.678\" cy=\"950.435\" r=\"14\" fill=\"#e26f46\" fill-rule=\"evenodd\" fill-opacity=\"1\" stroke=\"#000000\" stroke-opacity=\"1\" stroke-width=\"3.2\"/>\n",
       "<circle clip-path=\"url(#clip322)\" cx=\"1038.73\" cy=\"1032.18\" r=\"14\" fill=\"#e26f46\" fill-rule=\"evenodd\" fill-opacity=\"1\" stroke=\"#000000\" stroke-opacity=\"1\" stroke-width=\"3.2\"/>\n",
       "<circle clip-path=\"url(#clip322)\" cx=\"1177.78\" cy=\"1086.67\" r=\"14\" fill=\"#e26f46\" fill-rule=\"evenodd\" fill-opacity=\"1\" stroke=\"#000000\" stroke-opacity=\"1\" stroke-width=\"3.2\"/>\n",
       "<circle clip-path=\"url(#clip322)\" cx=\"1316.83\" cy=\"1086.67\" r=\"14\" fill=\"#e26f46\" fill-rule=\"evenodd\" fill-opacity=\"1\" stroke=\"#000000\" stroke-opacity=\"1\" stroke-width=\"3.2\"/>\n",
       "<circle clip-path=\"url(#clip322)\" cx=\"1455.88\" cy=\"1059.43\" r=\"14\" fill=\"#e26f46\" fill-rule=\"evenodd\" fill-opacity=\"1\" stroke=\"#000000\" stroke-opacity=\"1\" stroke-width=\"3.2\"/>\n",
       "<circle clip-path=\"url(#clip322)\" cx=\"1594.93\" cy=\"1086.67\" r=\"14\" fill=\"#e26f46\" fill-rule=\"evenodd\" fill-opacity=\"1\" stroke=\"#000000\" stroke-opacity=\"1\" stroke-width=\"3.2\"/>\n",
       "<circle clip-path=\"url(#clip322)\" cx=\"1733.98\" cy=\"1113.92\" r=\"14\" fill=\"#e26f46\" fill-rule=\"evenodd\" fill-opacity=\"1\" stroke=\"#000000\" stroke-opacity=\"1\" stroke-width=\"3.2\"/>\n",
       "<circle clip-path=\"url(#clip322)\" cx=\"1873.03\" cy=\"1359.15\" r=\"14\" fill=\"#e26f46\" fill-rule=\"evenodd\" fill-opacity=\"1\" stroke=\"#000000\" stroke-opacity=\"1\" stroke-width=\"3.2\"/>\n",
       "<circle clip-path=\"url(#clip322)\" cx=\"2012.08\" cy=\"1359.15\" r=\"14\" fill=\"#e26f46\" fill-rule=\"evenodd\" fill-opacity=\"1\" stroke=\"#000000\" stroke-opacity=\"1\" stroke-width=\"3.2\"/>\n",
       "<circle clip-path=\"url(#clip322)\" cx=\"2151.13\" cy=\"1359.15\" r=\"14\" fill=\"#e26f46\" fill-rule=\"evenodd\" fill-opacity=\"1\" stroke=\"#000000\" stroke-opacity=\"1\" stroke-width=\"3.2\"/>\n",
       "<circle clip-path=\"url(#clip322)\" cx=\"2290.18\" cy=\"1386.4\" r=\"14\" fill=\"#e26f46\" fill-rule=\"evenodd\" fill-opacity=\"1\" stroke=\"#000000\" stroke-opacity=\"1\" stroke-width=\"3.2\"/>\n",
       "<path clip-path=\"url(#clip320)\" d=\"\n",
       "M1654.05 825.166 L2279.06 825.166 L2279.06 669.646 L1654.05 669.646  Z\n",
       "  \" fill=\"#ffffff\" fill-rule=\"evenodd\" fill-opacity=\"1\"/>\n",
       "<polyline clip-path=\"url(#clip320)\" style=\"stroke:#000000; stroke-linecap:butt; stroke-linejoin:round; stroke-width:4; stroke-opacity:1; fill:none\" points=\"\n",
       "  1654.05,825.166 2279.06,825.166 2279.06,669.646 1654.05,669.646 1654.05,825.166 \n",
       "  \"/>\n",
       "<polyline clip-path=\"url(#clip320)\" style=\"stroke:#009af9; stroke-linecap:butt; stroke-linejoin:round; stroke-width:4; stroke-opacity:1; fill:none\" points=\"\n",
       "  1678.62,721.486 1826.01,721.486 \n",
       "  \"/>\n",
       "<circle clip-path=\"url(#clip320)\" cx=\"1752.32\" cy=\"721.486\" r=\"23\" fill=\"#009af9\" fill-rule=\"evenodd\" fill-opacity=\"1\" stroke=\"#000000\" stroke-opacity=\"1\" stroke-width=\"5.12\"/>\n",
       "<path clip-path=\"url(#clip320)\" d=\"M1871.16 717.91 L1864.42 717.91 L1862.48 725.641 L1869.26 725.641 L1871.16 717.91 M1867.68 704.738 L1865.28 714.345 L1872.04 714.345 L1874.47 704.738 L1878.17 704.738 L1875.79 714.345 L1883.01 714.345 L1883.01 717.91 L1874.88 717.91 L1872.99 725.641 L1880.35 725.641 L1880.35 729.183 L1872.08 729.183 L1869.68 738.766 L1865.97 738.766 L1868.36 729.183 L1861.57 729.183 L1859.19 738.766 L1855.46 738.766 L1857.87 729.183 L1850.58 729.183 L1850.58 725.641 L1858.73 725.641 L1860.67 717.91 L1853.22 717.91 L1853.22 714.345 L1861.57 714.345 L1863.93 704.738 L1867.68 704.738 Z\" fill=\"#000000\" fill-rule=\"evenodd\" fill-opacity=\"1\" /><path clip-path=\"url(#clip320)\" d=\"M1924.79 725.826 Q1924.79 721.127 1922.85 718.465 Q1920.92 715.78 1917.55 715.78 Q1914.17 715.78 1912.22 718.465 Q1910.3 721.127 1910.3 725.826 Q1910.3 730.525 1912.22 733.21 Q1914.17 735.872 1917.55 735.872 Q1920.92 735.872 1922.85 733.21 Q1924.79 730.525 1924.79 725.826 M1910.3 716.775 Q1911.64 714.461 1913.68 713.349 Q1915.74 712.215 1918.59 712.215 Q1923.31 712.215 1926.25 715.965 Q1929.21 719.715 1929.21 725.826 Q1929.21 731.937 1926.25 735.687 Q1923.31 739.437 1918.59 739.437 Q1915.74 739.437 1913.68 738.326 Q1911.64 737.192 1910.3 734.877 L1910.3 738.766 L1906.02 738.766 L1906.02 702.748 L1910.3 702.748 L1910.3 716.775 Z\" fill=\"#000000\" fill-rule=\"evenodd\" fill-opacity=\"1\" /><path clip-path=\"url(#clip320)\" d=\"M1948.05 725.734 Q1942.89 725.734 1940.9 726.914 Q1938.91 728.095 1938.91 730.942 Q1938.91 733.21 1940.39 734.553 Q1941.9 735.872 1944.47 735.872 Q1948.01 735.872 1950.14 733.372 Q1952.29 730.849 1952.29 726.683 L1952.29 725.734 L1948.05 725.734 M1956.55 723.974 L1956.55 738.766 L1952.29 738.766 L1952.29 734.831 Q1950.83 737.192 1948.66 738.326 Q1946.48 739.437 1943.33 739.437 Q1939.35 739.437 1936.99 737.215 Q1934.65 734.97 1934.65 731.22 Q1934.65 726.845 1937.57 724.623 Q1940.51 722.4 1946.32 722.4 L1952.29 722.4 L1952.29 721.984 Q1952.29 719.044 1950.35 717.447 Q1948.42 715.826 1944.93 715.826 Q1942.71 715.826 1940.6 716.359 Q1938.49 716.891 1936.55 717.956 L1936.55 714.021 Q1938.89 713.118 1941.09 712.678 Q1943.29 712.215 1945.37 712.215 Q1950.99 712.215 1953.77 715.132 Q1956.55 718.049 1956.55 723.974 Z\" fill=\"#000000\" fill-rule=\"evenodd\" fill-opacity=\"1\" /><path clip-path=\"url(#clip320)\" d=\"M1965.32 702.748 L1969.58 702.748 L1969.58 738.766 L1965.32 738.766 L1965.32 702.748 Z\" fill=\"#000000\" fill-rule=\"evenodd\" fill-opacity=\"1\" /><path clip-path=\"url(#clip320)\" d=\"M1990.28 725.734 Q1985.11 725.734 1983.12 726.914 Q1981.13 728.095 1981.13 730.942 Q1981.13 733.21 1982.61 734.553 Q1984.12 735.872 1986.69 735.872 Q1990.23 735.872 1992.36 733.372 Q1994.51 730.849 1994.51 726.683 L1994.51 725.734 L1990.28 725.734 M1998.77 723.974 L1998.77 738.766 L1994.51 738.766 L1994.51 734.831 Q1993.05 737.192 1990.88 738.326 Q1988.7 739.437 1985.55 739.437 Q1981.57 739.437 1979.21 737.215 Q1976.87 734.97 1976.87 731.22 Q1976.87 726.845 1979.79 724.623 Q1982.73 722.4 1988.54 722.4 L1994.51 722.4 L1994.51 721.984 Q1994.51 719.044 1992.57 717.447 Q1990.65 715.826 1987.15 715.826 Q1984.93 715.826 1982.82 716.359 Q1980.72 716.891 1978.77 717.956 L1978.77 714.021 Q1981.11 713.118 1983.31 712.678 Q1985.51 712.215 1987.59 712.215 Q1993.22 712.215 1995.99 715.132 Q1998.77 718.049 1998.77 723.974 Z\" fill=\"#000000\" fill-rule=\"evenodd\" fill-opacity=\"1\" /><path clip-path=\"url(#clip320)\" d=\"M2029.1 723.118 L2029.1 738.766 L2024.84 738.766 L2024.84 723.257 Q2024.84 719.576 2023.4 717.748 Q2021.97 715.919 2019.1 715.919 Q2015.65 715.919 2013.66 718.118 Q2011.67 720.317 2011.67 724.113 L2011.67 738.766 L2007.38 738.766 L2007.38 712.84 L2011.67 712.84 L2011.67 716.868 Q2013.19 714.53 2015.25 713.373 Q2017.34 712.215 2020.04 712.215 Q2024.51 712.215 2026.8 714.993 Q2029.1 717.748 2029.1 723.118 Z\" fill=\"#000000\" fill-rule=\"evenodd\" fill-opacity=\"1\" /><path clip-path=\"url(#clip320)\" d=\"M2056.25 713.836 L2056.25 717.817 Q2054.44 716.822 2052.61 716.336 Q2050.81 715.826 2048.96 715.826 Q2044.81 715.826 2042.52 718.465 Q2040.23 721.081 2040.23 725.826 Q2040.23 730.572 2042.52 733.21 Q2044.81 735.826 2048.96 735.826 Q2050.81 735.826 2052.61 735.34 Q2054.44 734.831 2056.25 733.835 L2056.25 737.771 Q2054.47 738.604 2052.54 739.021 Q2050.65 739.437 2048.49 739.437 Q2042.64 739.437 2039.19 735.757 Q2035.74 732.076 2035.74 725.826 Q2035.74 719.484 2039.21 715.849 Q2042.71 712.215 2048.77 712.215 Q2050.74 712.215 2052.61 712.632 Q2054.49 713.025 2056.25 713.836 Z\" fill=\"#000000\" fill-rule=\"evenodd\" fill-opacity=\"1\" /><path clip-path=\"url(#clip320)\" d=\"M2085.83 724.738 L2085.83 726.822 L2066.25 726.822 Q2066.53 731.22 2068.89 733.535 Q2071.27 735.826 2075.51 735.826 Q2077.96 735.826 2080.25 735.224 Q2082.57 734.622 2084.84 733.419 L2084.84 737.447 Q2082.54 738.419 2080.14 738.928 Q2077.73 739.437 2075.25 739.437 Q2069.05 739.437 2065.41 735.826 Q2061.8 732.215 2061.8 726.058 Q2061.8 719.692 2065.23 715.965 Q2068.68 712.215 2074.51 712.215 Q2079.74 712.215 2082.78 715.595 Q2085.83 718.951 2085.83 724.738 M2081.57 723.488 Q2081.53 719.993 2079.6 717.91 Q2077.71 715.826 2074.56 715.826 Q2070.99 715.826 2068.84 717.84 Q2066.71 719.854 2066.39 723.511 L2081.57 723.488 Z\" fill=\"#000000\" fill-rule=\"evenodd\" fill-opacity=\"1\" /><path clip-path=\"url(#clip320)\" d=\"M2109.88 716.775 L2109.88 702.748 L2114.14 702.748 L2114.14 738.766 L2109.88 738.766 L2109.88 734.877 Q2108.54 737.192 2106.48 738.326 Q2104.44 739.437 2101.57 739.437 Q2096.87 739.437 2093.91 735.687 Q2090.97 731.937 2090.97 725.826 Q2090.97 719.715 2093.91 715.965 Q2096.87 712.215 2101.57 712.215 Q2104.44 712.215 2106.48 713.349 Q2108.54 714.461 2109.88 716.775 M2095.37 725.826 Q2095.37 730.525 2097.29 733.21 Q2099.23 735.872 2102.61 735.872 Q2105.99 735.872 2107.94 733.21 Q2109.88 730.525 2109.88 725.826 Q2109.88 721.127 2107.94 718.465 Q2105.99 715.78 2102.61 715.78 Q2099.23 715.78 2097.29 718.465 Q2095.37 721.127 2095.37 725.826 Z\" fill=\"#000000\" fill-rule=\"evenodd\" fill-opacity=\"1\" /><path clip-path=\"url(#clip320)\" d=\"M2137.61 741.96 L2165.88 741.96 L2151.73 713.581 L2137.61 741.96 M2133.66 744.599 L2151.73 708.303 L2169.84 744.599 L2133.66 744.599 Z\" fill=\"#000000\" fill-rule=\"evenodd\" fill-opacity=\"1\" /><polyline clip-path=\"url(#clip320)\" style=\"stroke:#e26f46; stroke-linecap:butt; stroke-linejoin:round; stroke-width:4; stroke-opacity:1; fill:none\" points=\"\n",
       "  1678.62,773.326 1826.01,773.326 \n",
       "  \"/>\n",
       "<circle clip-path=\"url(#clip320)\" cx=\"1752.32\" cy=\"773.326\" r=\"23\" fill=\"#e26f46\" fill-rule=\"evenodd\" fill-opacity=\"1\" stroke=\"#000000\" stroke-opacity=\"1\" stroke-width=\"5.12\"/>\n",
       "<path clip-path=\"url(#clip320)\" d=\"M1871.16 769.75 L1864.42 769.75 L1862.48 777.481 L1869.26 777.481 L1871.16 769.75 M1867.68 756.578 L1865.28 766.185 L1872.04 766.185 L1874.47 756.578 L1878.17 756.578 L1875.79 766.185 L1883.01 766.185 L1883.01 769.75 L1874.88 769.75 L1872.99 777.481 L1880.35 777.481 L1880.35 781.023 L1872.08 781.023 L1869.68 790.606 L1865.97 790.606 L1868.36 781.023 L1861.57 781.023 L1859.19 790.606 L1855.46 790.606 L1857.87 781.023 L1850.58 781.023 L1850.58 777.481 L1858.73 777.481 L1860.67 769.75 L1853.22 769.75 L1853.22 766.185 L1861.57 766.185 L1863.93 756.578 L1867.68 756.578 Z\" fill=\"#000000\" fill-rule=\"evenodd\" fill-opacity=\"1\" /><path clip-path=\"url(#clip320)\" d=\"M1905.74 780.375 L1905.74 764.68 L1910 764.68 L1910 780.213 Q1910 783.893 1911.43 785.745 Q1912.87 787.574 1915.74 787.574 Q1919.19 787.574 1921.18 785.375 Q1923.19 783.175 1923.19 779.379 L1923.19 764.68 L1927.45 764.68 L1927.45 790.606 L1923.19 790.606 L1923.19 786.625 Q1921.64 788.986 1919.58 790.143 Q1917.55 791.277 1914.84 791.277 Q1910.37 791.277 1908.05 788.5 Q1905.74 785.722 1905.74 780.375 M1916.46 764.055 L1916.46 764.055 Z\" fill=\"#000000\" fill-rule=\"evenodd\" fill-opacity=\"1\" /><path clip-path=\"url(#clip320)\" d=\"M1957.78 774.958 L1957.78 790.606 L1953.52 790.606 L1953.52 775.097 Q1953.52 771.416 1952.08 769.588 Q1950.65 767.759 1947.78 767.759 Q1944.33 767.759 1942.34 769.958 Q1940.35 772.157 1940.35 775.953 L1940.35 790.606 L1936.06 790.606 L1936.06 764.68 L1940.35 764.68 L1940.35 768.708 Q1941.87 766.37 1943.93 765.213 Q1946.02 764.055 1948.73 764.055 Q1953.19 764.055 1955.48 766.833 Q1957.78 769.588 1957.78 774.958 Z\" fill=\"#000000\" fill-rule=\"evenodd\" fill-opacity=\"1\" /><path clip-path=\"url(#clip320)\" d=\"M1984.88 777.666 Q1984.88 772.967 1982.94 770.305 Q1981.02 767.62 1977.64 767.62 Q1974.26 767.62 1972.31 770.305 Q1970.39 772.967 1970.39 777.666 Q1970.39 782.365 1972.31 785.05 Q1974.26 787.712 1977.64 787.712 Q1981.02 787.712 1982.94 785.05 Q1984.88 782.365 1984.88 777.666 M1970.39 768.615 Q1971.73 766.301 1973.77 765.189 Q1975.83 764.055 1978.68 764.055 Q1983.4 764.055 1986.34 767.805 Q1989.3 771.555 1989.3 777.666 Q1989.3 783.777 1986.34 787.527 Q1983.4 791.277 1978.68 791.277 Q1975.83 791.277 1973.77 790.166 Q1971.73 789.032 1970.39 786.717 L1970.39 790.606 L1966.11 790.606 L1966.11 754.588 L1970.39 754.588 L1970.39 768.615 Z\" fill=\"#000000\" fill-rule=\"evenodd\" fill-opacity=\"1\" /><path clip-path=\"url(#clip320)\" d=\"M2008.15 777.574 Q2002.98 777.574 2000.99 778.754 Q1999 779.935 1999 782.782 Q1999 785.05 2000.48 786.393 Q2001.99 787.712 2004.56 787.712 Q2008.1 787.712 2010.23 785.212 Q2012.38 782.689 2012.38 778.523 L2012.38 777.574 L2008.15 777.574 M2016.64 775.814 L2016.64 790.606 L2012.38 790.606 L2012.38 786.671 Q2010.92 789.032 2008.75 790.166 Q2006.57 791.277 2003.42 791.277 Q1999.44 791.277 1997.08 789.055 Q1994.74 786.81 1994.74 783.06 Q1994.74 778.685 1997.66 776.463 Q2000.6 774.24 2006.41 774.24 L2012.38 774.24 L2012.38 773.824 Q2012.38 770.884 2010.44 769.287 Q2008.52 767.666 2005.02 767.666 Q2002.8 767.666 2000.69 768.199 Q1998.59 768.731 1996.64 769.796 L1996.64 765.861 Q1998.98 764.958 2001.18 764.518 Q2003.38 764.055 2005.46 764.055 Q2011.09 764.055 2013.86 766.972 Q2016.64 769.889 2016.64 775.814 Z\" fill=\"#000000\" fill-rule=\"evenodd\" fill-opacity=\"1\" /><path clip-path=\"url(#clip320)\" d=\"M2025.42 754.588 L2029.67 754.588 L2029.67 790.606 L2025.42 790.606 L2025.42 754.588 Z\" fill=\"#000000\" fill-rule=\"evenodd\" fill-opacity=\"1\" /><path clip-path=\"url(#clip320)\" d=\"M2050.37 777.574 Q2045.21 777.574 2043.22 778.754 Q2041.23 779.935 2041.23 782.782 Q2041.23 785.05 2042.71 786.393 Q2044.21 787.712 2046.78 787.712 Q2050.32 787.712 2052.45 785.212 Q2054.6 782.689 2054.6 778.523 L2054.6 777.574 L2050.37 777.574 M2058.86 775.814 L2058.86 790.606 L2054.6 790.606 L2054.6 786.671 Q2053.15 789.032 2050.97 790.166 Q2048.79 791.277 2045.65 791.277 Q2041.67 791.277 2039.3 789.055 Q2036.97 786.81 2036.97 783.06 Q2036.97 778.685 2039.88 776.463 Q2042.82 774.24 2048.63 774.24 L2054.6 774.24 L2054.6 773.824 Q2054.6 770.884 2052.66 769.287 Q2050.74 767.666 2047.24 767.666 Q2045.02 767.666 2042.92 768.199 Q2040.81 768.731 2038.86 769.796 L2038.86 765.861 Q2041.2 764.958 2043.4 764.518 Q2045.6 764.055 2047.68 764.055 Q2053.31 764.055 2056.09 766.972 Q2058.86 769.889 2058.86 775.814 Z\" fill=\"#000000\" fill-rule=\"evenodd\" fill-opacity=\"1\" /><path clip-path=\"url(#clip320)\" d=\"M2089.19 774.958 L2089.19 790.606 L2084.93 790.606 L2084.93 775.097 Q2084.93 771.416 2083.49 769.588 Q2082.06 767.759 2079.19 767.759 Q2075.74 767.759 2073.75 769.958 Q2071.76 772.157 2071.76 775.953 L2071.76 790.606 L2067.48 790.606 L2067.48 764.68 L2071.76 764.68 L2071.76 768.708 Q2073.29 766.37 2075.35 765.213 Q2077.43 764.055 2080.14 764.055 Q2084.6 764.055 2086.9 766.833 Q2089.19 769.588 2089.19 774.958 Z\" fill=\"#000000\" fill-rule=\"evenodd\" fill-opacity=\"1\" /><path clip-path=\"url(#clip320)\" d=\"M2116.34 765.676 L2116.34 769.657 Q2114.54 768.662 2112.71 768.176 Q2110.9 767.666 2109.05 767.666 Q2104.91 767.666 2102.61 770.305 Q2100.32 772.921 2100.32 777.666 Q2100.32 782.412 2102.61 785.05 Q2104.91 787.666 2109.05 787.666 Q2110.9 787.666 2112.71 787.18 Q2114.54 786.671 2116.34 785.675 L2116.34 789.611 Q2114.56 790.444 2112.64 790.861 Q2110.74 791.277 2108.59 791.277 Q2102.73 791.277 2099.28 787.597 Q2095.83 783.916 2095.83 777.666 Q2095.83 771.324 2099.3 767.689 Q2102.8 764.055 2108.86 764.055 Q2110.83 764.055 2112.71 764.472 Q2114.58 764.865 2116.34 765.676 Z\" fill=\"#000000\" fill-rule=\"evenodd\" fill-opacity=\"1\" /><path clip-path=\"url(#clip320)\" d=\"M2145.92 776.578 L2145.92 778.662 L2126.34 778.662 Q2126.62 783.06 2128.98 785.375 Q2131.36 787.666 2135.6 787.666 Q2138.05 787.666 2140.35 787.064 Q2142.66 786.462 2144.93 785.259 L2144.93 789.287 Q2142.64 790.259 2140.23 790.768 Q2137.82 791.277 2135.35 791.277 Q2129.14 791.277 2125.51 787.666 Q2121.9 784.055 2121.9 777.898 Q2121.9 771.532 2125.32 767.805 Q2128.77 764.055 2134.6 764.055 Q2139.84 764.055 2142.87 767.435 Q2145.92 770.791 2145.92 776.578 M2141.66 775.328 Q2141.62 771.833 2139.7 769.75 Q2137.8 767.666 2134.65 767.666 Q2131.09 767.666 2128.93 769.68 Q2126.8 771.694 2126.48 775.351 L2141.66 775.328 Z\" fill=\"#000000\" fill-rule=\"evenodd\" fill-opacity=\"1\" /><path clip-path=\"url(#clip320)\" d=\"M2169.97 768.615 L2169.97 754.588 L2174.23 754.588 L2174.23 790.606 L2169.97 790.606 L2169.97 786.717 Q2168.63 789.032 2166.57 790.166 Q2164.53 791.277 2161.66 791.277 Q2156.97 791.277 2154 787.527 Q2151.06 783.777 2151.06 777.666 Q2151.06 771.555 2154 767.805 Q2156.97 764.055 2161.66 764.055 Q2164.53 764.055 2166.57 765.189 Q2168.63 766.301 2169.97 768.615 M2155.46 777.666 Q2155.46 782.365 2157.38 785.05 Q2159.33 787.712 2162.71 787.712 Q2166.09 787.712 2168.03 785.05 Q2169.97 782.365 2169.97 777.666 Q2169.97 772.967 2168.03 770.305 Q2166.09 767.62 2162.71 767.62 Q2159.33 767.62 2157.38 770.305 Q2155.46 772.967 2155.46 777.666 Z\" fill=\"#000000\" fill-rule=\"evenodd\" fill-opacity=\"1\" /><path clip-path=\"url(#clip320)\" d=\"M2197.71 793.8 L2225.97 793.8 L2211.83 765.421 L2197.71 793.8 M2193.75 796.439 L2211.83 760.143 L2229.93 796.439 L2193.75 796.439 Z\" fill=\"#000000\" fill-rule=\"evenodd\" fill-opacity=\"1\" /></svg>\n"
      ]
     },
     "metadata": {},
     "output_type": "display_data"
    }
   ],
   "source": [
    "plot(ths, num_bal_triads[:, 1], markershape = :circle, label = \"# balanced △\", legend = :right)\n",
    "plot!(ths, num_unbal_triads[:, 1], markershape = :circle, label = \"# unbalanced △\")\n",
    "title!(\"Term 1\")\n",
    "xlabel!(\"Θ\")"
   ]
  },
  {
   "cell_type": "code",
   "execution_count": 57,
   "metadata": {},
   "outputs": [
    {
     "data": {
      "image/png": "[encoded data removed]",
      "image/svg+xml": "<?xml version=\"1.0\" encoding=\"utf-8\"?>\n<svg xmlns=\"http://www.w3.org/2000/svg\" xmlns:xlink=\"http://www.w3.org/1999/xlink\" width=\"600\" height=\"400\" viewBox=\"0 0 2400 1600\">\n<defs>\n  <clipPath id=\"clip360\">\n    <rect x=\"0\" y=\"0\" width=\"2400\" height=\"1600\"/>\n  </clipPath>\n</defs>\n<path clip-path=\"url(#clip360)\" d=\"\nM0 1600 L2400 1600 L2400 0 L0 0  Z\n  \" fill=\"#ffffff\" fill-rule=\"evenodd\" fill-opacity=\"1\"/>\n<defs>\n  <clipPath id=\"clip361\">\n    <rect x=\"480\" y=\"0\" width=\"1681\" height=\"1600\"/>\n  </clipPath>\n</defs>\n<path clip-path=\"url(#clip360)\" d=\"\nM169.121 1423.18 L2352.76 1423.18 L2352.76 123.472 L169.121 123.472  Z\n  \" fill=\"#ffffff\" fill-rule=\"evenodd\" fill-opacity=\"1\"/>\n<defs>\n  <clipPath id=\"clip362\">\n    <rect x=\"169\" y=\"123\" width=\"2185\" height=\"1301\"/>\n  </clipPath>\n</defs>\n<polyline clip-path=\"url(#clip362)\" style=\"stroke:#000000; stroke-linecap:butt; stroke-linejoin:round; stroke-width:2; stroke-opacity:0.1; fill:none\" points=\"\n  230.922,1423.18 230.922,123.472 \n  \"/>\n<polyline clip-path=\"url(#clip362)\" style=\"stroke:#000000; stroke-linecap:butt; stroke-linejoin:round; stroke-width:2; stroke-opacity:0.1; fill:none\" points=\"\n  670.396,1423.18 670.396,123.472 \n  \"/>\n<polyline clip-path=\"url(#clip362)\" style=\"stroke:#000000; stroke-linecap:butt; stroke-linejoin:round; stroke-width:2; stroke-opacity:0.1; fill:none\" points=\"\n  1109.87,1423.18 1109.87,123.472 \n  \"/>\n<polyline clip-path=\"url(#clip362)\" style=\"stroke:#000000; stroke-linecap:butt; stroke-linejoin:round; stroke-width:2; stroke-opacity:0.1; fill:none\" points=\"\n  1549.34,1423.18 1549.34,123.472 \n  \"/>\n<polyline clip-path=\"url(#clip362)\" style=\"stroke:#000000; stroke-linecap:butt; stroke-linejoin:round; stroke-width:2; stroke-opacity:0.1; fill:none\" points=\"\n  1988.82,1423.18 1988.82,123.472 \n  \"/>\n<polyline clip-path=\"url(#clip360)\" style=\"stroke:#000000; stroke-linecap:butt; stroke-linejoin:round; stroke-width:4; stroke-opacity:1; fill:none\" points=\"\n  169.121,1423.18 2352.76,1423.18 \n  \"/>\n<polyline clip-path=\"url(#clip360)\" style=\"stroke:#000000; stroke-linecap:butt; stroke-linejoin:round; stroke-width:4; stroke-opacity:1; fill:none\" points=\"\n  230.922,1423.18 230.922,1404.28 \n  \"/>\n<polyline clip-path=\"url(#clip360)\" style=\"stroke:#000000; stroke-linecap:butt; stroke-linejoin:round; stroke-width:4; stroke-opacity:1; fill:none\" points=\"\n  670.396,1423.18 670.396,1404.28 \n  \"/>\n<polyline clip-path=\"url(#clip360)\" style=\"stroke:#000000; stroke-linecap:butt; stroke-linejoin:round; stroke-width:4; stroke-opacity:1; fill:none\" points=\"\n  1109.87,1423.18 1109.87,1404.28 \n  \"/>\n<polyline clip-path=\"url(#clip360)\" style=\"stroke:#000000; stroke-linecap:butt; stroke-linejoin:round; stroke-width:4; stroke-opacity:1; fill:none\" points=\"\n  1549.34,1423.18 1549.34,1404.28 \n  \"/>\n<polyline clip-path=\"url(#clip360)\" style=\"stroke:#000000; stroke-linecap:butt; stroke-linejoin:round; stroke-width:4; stroke-opacity:1; fill:none\" points=\"\n  1988.82,1423.18 1988.82,1404.28 \n  \"/>\n<path clip-path=\"url(#clip360)\" d=\"M208.307 1454.1 Q204.696 1454.1 202.867 1457.66 Q201.061 1461.2 201.061 1468.33 Q201.061 1475.44 202.867 1479.01 Q204.696 1482.55 208.307 1482.55 Q211.941 1482.55 213.746 1479.01 Q215.575 1475.44 215.575 1468.33 Q215.575 1461.2 213.746 1457.66 Q211.941 1454.1 208.307 1454.1 M208.307 1450.39 Q214.117 1450.39 217.172 1455 Q220.251 1459.58 220.251 1468.33 Q220.251 1477.06 217.172 1481.67 Q214.117 1486.25 208.307 1486.25 Q202.497 1486.25 199.418 1481.67 Q196.362 1477.06 196.362 1468.33 Q196.362 1459.58 199.418 1455 Q202.497 1450.39 208.307 1450.39 Z\" fill=\"#000000\" fill-rule=\"evenodd\" fill-opacity=\"1\" /><path clip-path=\"url(#clip360)\" d=\"M228.469 1479.7 L233.353 1479.7 L233.353 1485.58 L228.469 1485.58 L228.469 1479.7 Z\" fill=\"#000000\" fill-rule=\"evenodd\" fill-opacity=\"1\" /><path clip-path=\"url(#clip360)\" d=\"M253.538 1454.1 Q249.927 1454.1 248.098 1457.66 Q246.293 1461.2 246.293 1468.33 Q246.293 1475.44 248.098 1479.01 Q249.927 1482.55 253.538 1482.55 Q257.172 1482.55 258.978 1479.01 Q260.806 1475.44 260.806 1468.33 Q260.806 1461.2 258.978 1457.66 Q257.172 1454.1 253.538 1454.1 M253.538 1450.39 Q259.348 1450.39 262.404 1455 Q265.482 1459.58 265.482 1468.33 Q265.482 1477.06 262.404 1481.67 Q259.348 1486.25 253.538 1486.25 Q247.728 1486.25 244.649 1481.67 Q241.594 1477.06 241.594 1468.33 Q241.594 1459.58 244.649 1455 Q247.728 1450.39 253.538 1450.39 Z\" fill=\"#000000\" fill-rule=\"evenodd\" fill-opacity=\"1\" /><path clip-path=\"url(#clip360)\" d=\"M648.579 1454.1 Q644.968 1454.1 643.139 1457.66 Q641.334 1461.2 641.334 1468.33 Q641.334 1475.44 643.139 1479.01 Q644.968 1482.55 648.579 1482.55 Q652.213 1482.55 654.019 1479.01 Q655.847 1475.44 655.847 1468.33 Q655.847 1461.2 654.019 1457.66 Q652.213 1454.1 648.579 1454.1 M648.579 1450.39 Q654.389 1450.39 657.445 1455 Q660.523 1459.58 660.523 1468.33 Q660.523 1477.06 657.445 1481.67 Q654.389 1486.25 648.579 1486.25 Q642.769 1486.25 639.69 1481.67 Q636.635 1477.06 636.635 1468.33 Q636.635 1459.58 639.69 1455 Q642.769 1450.39 648.579 1450.39 Z\" fill=\"#000000\" fill-rule=\"evenodd\" fill-opacity=\"1\" /><path clip-path=\"url(#clip360)\" d=\"M668.741 1479.7 L673.625 1479.7 L673.625 1485.58 L668.741 1485.58 L668.741 1479.7 Z\" fill=\"#000000\" fill-rule=\"evenodd\" fill-opacity=\"1\" /><path clip-path=\"url(#clip360)\" d=\"M687.838 1481.64 L704.157 1481.64 L704.157 1485.58 L682.213 1485.58 L682.213 1481.64 Q684.875 1478.89 689.458 1474.26 Q694.065 1469.61 695.245 1468.27 Q697.491 1465.74 698.37 1464.01 Q699.273 1462.25 699.273 1460.56 Q699.273 1457.8 697.329 1456.07 Q695.407 1454.33 692.306 1454.33 Q690.106 1454.33 687.653 1455.09 Q685.222 1455.86 682.444 1457.41 L682.444 1452.69 Q685.269 1451.55 687.722 1450.97 Q690.176 1450.39 692.213 1450.39 Q697.583 1450.39 700.778 1453.08 Q703.972 1455.77 703.972 1460.26 Q703.972 1462.39 703.162 1464.31 Q702.375 1466.2 700.268 1468.8 Q699.69 1469.47 696.588 1472.69 Q693.486 1475.88 687.838 1481.64 Z\" fill=\"#000000\" fill-rule=\"evenodd\" fill-opacity=\"1\" /><path clip-path=\"url(#clip360)\" d=\"M1087.01 1454.1 Q1083.4 1454.1 1081.57 1457.66 Q1079.77 1461.2 1079.77 1468.33 Q1079.77 1475.44 1081.57 1479.01 Q1083.4 1482.55 1087.01 1482.55 Q1090.65 1482.55 1092.45 1479.01 Q1094.28 1475.44 1094.28 1468.33 Q1094.28 1461.2 1092.45 1457.66 Q1090.65 1454.1 1087.01 1454.1 M1087.01 1450.39 Q1092.82 1450.39 1095.88 1455 Q1098.96 1459.58 1098.96 1468.33 Q1098.96 1477.06 1095.88 1481.67 Q1092.82 1486.25 1087.01 1486.25 Q1081.2 1486.25 1078.12 1481.67 Q1075.07 1477.06 1075.07 1468.33 Q1075.07 1459.58 1078.12 1455 Q1081.2 1450.39 1087.01 1450.39 Z\" fill=\"#000000\" fill-rule=\"evenodd\" fill-opacity=\"1\" /><path clip-path=\"url(#clip360)\" d=\"M1107.17 1479.7 L1112.06 1479.7 L1112.06 1485.58 L1107.17 1485.58 L1107.17 1479.7 Z\" fill=\"#000000\" fill-rule=\"evenodd\" fill-opacity=\"1\" /><path clip-path=\"url(#clip360)\" d=\"M1135.09 1455.09 L1123.28 1473.54 L1135.09 1473.54 L1135.09 1455.09 M1133.86 1451.02 L1139.74 1451.02 L1139.74 1473.54 L1144.67 1473.54 L1144.67 1477.43 L1139.74 1477.43 L1139.74 1485.58 L1135.09 1485.58 L1135.09 1477.43 L1119.49 1477.43 L1119.49 1472.92 L1133.86 1451.02 Z\" fill=\"#000000\" fill-rule=\"evenodd\" fill-opacity=\"1\" /><path clip-path=\"url(#clip360)\" d=\"M1526.65 1454.1 Q1523.04 1454.1 1521.21 1457.66 Q1519.4 1461.2 1519.4 1468.33 Q1519.4 1475.44 1521.21 1479.01 Q1523.04 1482.55 1526.65 1482.55 Q1530.28 1482.55 1532.09 1479.01 Q1533.92 1475.44 1533.92 1468.33 Q1533.92 1461.2 1532.09 1457.66 Q1530.28 1454.1 1526.65 1454.1 M1526.65 1450.39 Q1532.46 1450.39 1535.51 1455 Q1538.59 1459.58 1538.59 1468.33 Q1538.59 1477.06 1535.51 1481.67 Q1532.46 1486.25 1526.65 1486.25 Q1520.84 1486.25 1517.76 1481.67 Q1514.7 1477.06 1514.7 1468.33 Q1514.7 1459.58 1517.76 1455 Q1520.84 1450.39 1526.65 1450.39 Z\" fill=\"#000000\" fill-rule=\"evenodd\" fill-opacity=\"1\" /><path clip-path=\"url(#clip360)\" d=\"M1546.81 1479.7 L1551.69 1479.7 L1551.69 1485.58 L1546.81 1485.58 L1546.81 1479.7 Z\" fill=\"#000000\" fill-rule=\"evenodd\" fill-opacity=\"1\" /><path clip-path=\"url(#clip360)\" d=\"M1572.46 1466.44 Q1569.31 1466.44 1567.46 1468.59 Q1565.63 1470.74 1565.63 1474.49 Q1565.63 1478.22 1567.46 1480.39 Q1569.31 1482.55 1572.46 1482.55 Q1575.6 1482.55 1577.43 1480.39 Q1579.29 1478.22 1579.29 1474.49 Q1579.29 1470.74 1577.43 1468.59 Q1575.6 1466.44 1572.46 1466.44 M1581.74 1451.78 L1581.74 1456.04 Q1579.98 1455.21 1578.17 1454.77 Q1576.39 1454.33 1574.63 1454.33 Q1570 1454.33 1567.55 1457.45 Q1565.12 1460.58 1564.77 1466.9 Q1566.14 1464.89 1568.2 1463.82 Q1570.26 1462.73 1572.73 1462.73 Q1577.94 1462.73 1580.95 1465.9 Q1583.98 1469.05 1583.98 1474.49 Q1583.98 1479.82 1580.84 1483.03 Q1577.69 1486.25 1572.46 1486.25 Q1566.46 1486.25 1563.29 1481.67 Q1560.12 1477.06 1560.12 1468.33 Q1560.12 1460.14 1564.01 1455.28 Q1567.9 1450.39 1574.45 1450.39 Q1576.21 1450.39 1577.99 1450.74 Q1579.79 1451.09 1581.74 1451.78 Z\" fill=\"#000000\" fill-rule=\"evenodd\" fill-opacity=\"1\" /><path clip-path=\"url(#clip360)\" d=\"M1966.25 1454.1 Q1962.64 1454.1 1960.81 1457.66 Q1959 1461.2 1959 1468.33 Q1959 1475.44 1960.81 1479.01 Q1962.64 1482.55 1966.25 1482.55 Q1969.88 1482.55 1971.69 1479.01 Q1973.52 1475.44 1973.52 1468.33 Q1973.52 1461.2 1971.69 1457.66 Q1969.88 1454.1 1966.25 1454.1 M1966.25 1450.39 Q1972.06 1450.39 1975.11 1455 Q1978.19 1459.58 1978.19 1468.33 Q1978.19 1477.06 1975.11 1481.67 Q1972.06 1486.25 1966.25 1486.25 Q1960.44 1486.25 1957.36 1481.67 Q1954.3 1477.06 1954.3 1468.33 Q1954.3 1459.58 1957.36 1455 Q1960.44 1450.39 1966.25 1450.39 Z\" fill=\"#000000\" fill-rule=\"evenodd\" fill-opacity=\"1\" /><path clip-path=\"url(#clip360)\" d=\"M1986.41 1479.7 L1991.29 1479.7 L1991.29 1485.58 L1986.41 1485.58 L1986.41 1479.7 Z\" fill=\"#000000\" fill-rule=\"evenodd\" fill-opacity=\"1\" /><path clip-path=\"url(#clip360)\" d=\"M2011.48 1469.17 Q2008.15 1469.17 2006.22 1470.95 Q2004.33 1472.73 2004.33 1475.86 Q2004.33 1478.98 2006.22 1480.77 Q2008.15 1482.55 2011.48 1482.55 Q2014.81 1482.55 2016.73 1480.77 Q2018.65 1478.96 2018.65 1475.86 Q2018.65 1472.73 2016.73 1470.95 Q2014.84 1469.17 2011.48 1469.17 M2006.8 1467.18 Q2003.79 1466.44 2002.1 1464.38 Q2000.44 1462.32 2000.44 1459.35 Q2000.44 1455.21 2003.38 1452.8 Q2006.34 1450.39 2011.48 1450.39 Q2016.64 1450.39 2019.58 1452.8 Q2022.52 1455.21 2022.52 1459.35 Q2022.52 1462.32 2020.83 1464.38 Q2019.16 1466.44 2016.18 1467.18 Q2019.56 1467.96 2021.43 1470.26 Q2023.33 1472.55 2023.33 1475.86 Q2023.33 1480.88 2020.25 1483.57 Q2017.2 1486.25 2011.48 1486.25 Q2005.76 1486.25 2002.68 1483.57 Q1999.63 1480.88 1999.63 1475.86 Q1999.63 1472.55 2001.53 1470.26 Q2003.42 1467.96 2006.8 1467.18 M2005.09 1459.79 Q2005.09 1462.48 2006.76 1463.98 Q2008.45 1465.49 2011.48 1465.49 Q2014.49 1465.49 2016.18 1463.98 Q2017.89 1462.48 2017.89 1459.79 Q2017.89 1457.11 2016.18 1455.6 Q2014.49 1454.1 2011.48 1454.1 Q2008.45 1454.1 2006.76 1455.6 Q2005.09 1457.11 2005.09 1459.79 Z\" fill=\"#000000\" fill-rule=\"evenodd\" fill-opacity=\"1\" /><path clip-path=\"url(#clip360)\" d=\"M1249.7 1540.03 L1272.17 1540.03 L1272.17 1545.45 L1249.7 1545.45 L1249.7 1540.03 M1260.97 1524.88 Q1253.97 1524.88 1249.86 1530.1 Q1245.72 1535.32 1245.72 1544.33 Q1245.72 1553.31 1249.83 1558.53 Q1253.97 1563.75 1260.97 1563.75 Q1267.97 1563.75 1272.08 1558.53 Q1276.15 1553.31 1276.15 1544.33 Q1276.15 1535.32 1272.08 1530.1 Q1267.97 1524.88 1260.97 1524.88 M1260.97 1519.66 Q1270.96 1519.66 1276.95 1526.38 Q1282.93 1533.06 1282.93 1544.33 Q1282.93 1555.57 1276.95 1562.25 Q1270.96 1568.97 1260.97 1568.97 Q1250.94 1568.97 1244.96 1562.28 Q1238.95 1555.6 1238.95 1544.33 Q1238.95 1533.06 1244.96 1526.35 Q1250.94 1519.66 1260.97 1519.66 Z\" fill=\"#000000\" fill-rule=\"evenodd\" fill-opacity=\"1\" /><polyline clip-path=\"url(#clip362)\" style=\"stroke:#000000; stroke-linecap:butt; stroke-linejoin:round; stroke-width:2; stroke-opacity:0.1; fill:none\" points=\"\n  169.121,1386.4 2352.76,1386.4 \n  \"/>\n<polyline clip-path=\"url(#clip362)\" style=\"stroke:#000000; stroke-linecap:butt; stroke-linejoin:round; stroke-width:2; stroke-opacity:0.1; fill:none\" points=\"\n  169.121,1164.27 2352.76,1164.27 \n  \"/>\n<polyline clip-path=\"url(#clip362)\" style=\"stroke:#000000; stroke-linecap:butt; stroke-linejoin:round; stroke-width:2; stroke-opacity:0.1; fill:none\" points=\"\n  169.121,942.142 2352.76,942.142 \n  \"/>\n<polyline clip-path=\"url(#clip362)\" style=\"stroke:#000000; stroke-linecap:butt; stroke-linejoin:round; stroke-width:2; stroke-opacity:0.1; fill:none\" points=\"\n  169.121,720.016 2352.76,720.016 \n  \"/>\n<polyline clip-path=\"url(#clip362)\" style=\"stroke:#000000; stroke-linecap:butt; stroke-linejoin:round; stroke-width:2; stroke-opacity:0.1; fill:none\" points=\"\n  169.121,497.889 2352.76,497.889 \n  \"/>\n<polyline clip-path=\"url(#clip362)\" style=\"stroke:#000000; stroke-linecap:butt; stroke-linejoin:round; stroke-width:2; stroke-opacity:0.1; fill:none\" points=\"\n  169.121,275.762 2352.76,275.762 \n  \"/>\n<polyline clip-path=\"url(#clip360)\" style=\"stroke:#000000; stroke-linecap:butt; stroke-linejoin:round; stroke-width:4; stroke-opacity:1; fill:none\" points=\"\n  169.121,1423.18 169.121,123.472 \n  \"/>\n<polyline clip-path=\"url(#clip360)\" style=\"stroke:#000000; stroke-linecap:butt; stroke-linejoin:round; stroke-width:4; stroke-opacity:1; fill:none\" points=\"\n  169.121,1386.4 188.019,1386.4 \n  \"/>\n<polyline clip-path=\"url(#clip360)\" style=\"stroke:#000000; stroke-linecap:butt; stroke-linejoin:round; stroke-width:4; stroke-opacity:1; fill:none\" points=\"\n  169.121,1164.27 188.019,1164.27 \n  \"/>\n<polyline clip-path=\"url(#clip360)\" style=\"stroke:#000000; stroke-linecap:butt; stroke-linejoin:round; stroke-width:4; stroke-opacity:1; fill:none\" points=\"\n  169.121,942.142 188.019,942.142 \n  \"/>\n<polyline clip-path=\"url(#clip360)\" style=\"stroke:#000000; stroke-linecap:butt; stroke-linejoin:round; stroke-width:4; stroke-opacity:1; fill:none\" points=\"\n  169.121,720.016 188.019,720.016 \n  \"/>\n<polyline clip-path=\"url(#clip360)\" style=\"stroke:#000000; stroke-linecap:butt; stroke-linejoin:round; stroke-width:4; stroke-opacity:1; fill:none\" points=\"\n  169.121,497.889 188.019,497.889 \n  \"/>\n<polyline clip-path=\"url(#clip360)\" style=\"stroke:#000000; stroke-linecap:butt; stroke-linejoin:round; stroke-width:4; stroke-opacity:1; fill:none\" points=\"\n  169.121,275.762 188.019,275.762 \n  \"/>\n<path clip-path=\"url(#clip360)\" d=\"M121.177 1372.19 Q117.566 1372.19 115.737 1375.76 Q113.932 1379.3 113.932 1386.43 Q113.932 1393.54 115.737 1397.1 Q117.566 1400.64 121.177 1400.64 Q124.811 1400.64 126.617 1397.1 Q128.445 1393.54 128.445 1386.43 Q128.445 1379.3 126.617 1375.76 Q124.811 1372.19 121.177 1372.19 M121.177 1368.49 Q126.987 1368.49 130.043 1373.1 Q133.121 1377.68 133.121 1386.43 Q133.121 1395.16 130.043 1399.76 Q126.987 1404.35 121.177 1404.35 Q115.367 1404.35 112.288 1399.76 Q109.233 1395.16 109.233 1386.43 Q109.233 1377.68 112.288 1373.1 Q115.367 1368.49 121.177 1368.49 Z\" fill=\"#000000\" fill-rule=\"evenodd\" fill-opacity=\"1\" /><path clip-path=\"url(#clip360)\" d=\"M86.0382 1177.61 L102.358 1177.61 L102.358 1181.55 L80.4133 1181.55 L80.4133 1177.61 Q83.0753 1174.86 87.6586 1170.23 Q92.2651 1165.58 93.4456 1164.23 Q95.691 1161.71 96.5706 1159.98 Q97.4734 1158.22 97.4734 1156.53 Q97.4734 1153.77 95.5289 1152.04 Q93.6076 1150.3 90.5058 1150.3 Q88.3067 1150.3 85.8531 1151.06 Q83.4225 1151.83 80.6447 1153.38 L80.6447 1148.66 Q83.4688 1147.52 85.9225 1146.94 Q88.3762 1146.36 90.4132 1146.36 Q95.7836 1146.36 98.978 1149.05 Q102.172 1151.73 102.172 1156.23 Q102.172 1158.35 101.362 1160.28 Q100.575 1162.17 98.4687 1164.77 Q97.89 1165.44 94.7882 1168.66 Q91.6864 1171.85 86.0382 1177.61 Z\" fill=\"#000000\" fill-rule=\"evenodd\" fill-opacity=\"1\" /><path clip-path=\"url(#clip360)\" d=\"M112.219 1146.99 L130.575 1146.99 L130.575 1150.92 L116.501 1150.92 L116.501 1159.4 Q117.52 1159.05 118.538 1158.89 Q119.557 1158.7 120.575 1158.7 Q126.362 1158.7 129.742 1161.87 Q133.121 1165.04 133.121 1170.46 Q133.121 1176.04 129.649 1179.14 Q126.177 1182.22 119.857 1182.22 Q117.682 1182.22 115.413 1181.85 Q113.168 1181.48 110.76 1180.74 L110.76 1176.04 Q112.844 1177.17 115.066 1177.73 Q117.288 1178.29 119.765 1178.29 Q123.77 1178.29 126.107 1176.18 Q128.445 1174.07 128.445 1170.46 Q128.445 1166.85 126.107 1164.74 Q123.77 1162.64 119.765 1162.64 Q117.89 1162.64 116.015 1163.05 Q114.163 1163.47 112.219 1164.35 L112.219 1146.99 Z\" fill=\"#000000\" fill-rule=\"evenodd\" fill-opacity=\"1\" /><path clip-path=\"url(#clip360)\" d=\"M81.0614 924.862 L99.4178 924.862 L99.4178 928.797 L85.3438 928.797 L85.3438 937.27 Q86.3623 936.922 87.3808 936.76 Q88.3993 936.575 89.4178 936.575 Q95.2049 936.575 98.5845 939.746 Q101.964 942.918 101.964 948.334 Q101.964 953.913 98.4919 957.015 Q95.0197 960.094 88.7003 960.094 Q86.5243 960.094 84.2558 959.723 Q82.0105 959.353 79.6031 958.612 L79.6031 953.913 Q81.6864 955.047 83.9086 955.603 Q86.1308 956.158 88.6077 956.158 Q92.6123 956.158 94.9502 954.052 Q97.2882 951.945 97.2882 948.334 Q97.2882 944.723 94.9502 942.617 Q92.6123 940.51 88.6077 940.51 Q86.7327 940.51 84.8577 940.927 Q83.0058 941.344 81.0614 942.223 L81.0614 924.862 Z\" fill=\"#000000\" fill-rule=\"evenodd\" fill-opacity=\"1\" /><path clip-path=\"url(#clip360)\" d=\"M121.177 927.941 Q117.566 927.941 115.737 931.506 Q113.932 935.047 113.932 942.177 Q113.932 949.283 115.737 952.848 Q117.566 956.39 121.177 956.39 Q124.811 956.39 126.617 952.848 Q128.445 949.283 128.445 942.177 Q128.445 935.047 126.617 931.506 Q124.811 927.941 121.177 927.941 M121.177 924.237 Q126.987 924.237 130.043 928.844 Q133.121 933.427 133.121 942.177 Q133.121 950.904 130.043 955.51 Q126.987 960.094 121.177 960.094 Q115.367 960.094 112.288 955.51 Q109.233 950.904 109.233 942.177 Q109.233 933.427 112.288 928.844 Q115.367 924.237 121.177 924.237 Z\" fill=\"#000000\" fill-rule=\"evenodd\" fill-opacity=\"1\" /><path clip-path=\"url(#clip360)\" d=\"M80.8299 702.736 L103.052 702.736 L103.052 704.726 L90.5058 737.296 L85.6216 737.296 L97.4271 706.671 L80.8299 706.671 L80.8299 702.736 Z\" fill=\"#000000\" fill-rule=\"evenodd\" fill-opacity=\"1\" /><path clip-path=\"url(#clip360)\" d=\"M112.219 702.736 L130.575 702.736 L130.575 706.671 L116.501 706.671 L116.501 715.143 Q117.52 714.796 118.538 714.634 Q119.557 714.448 120.575 714.448 Q126.362 714.448 129.742 717.62 Q133.121 720.791 133.121 726.208 Q133.121 731.786 129.649 734.888 Q126.177 737.967 119.857 737.967 Q117.682 737.967 115.413 737.597 Q113.168 737.226 110.76 736.485 L110.76 731.786 Q112.844 732.921 115.066 733.476 Q117.288 734.032 119.765 734.032 Q123.77 734.032 126.107 731.925 Q128.445 729.819 128.445 726.208 Q128.445 722.597 126.107 720.49 Q123.77 718.384 119.765 718.384 Q117.89 718.384 116.015 718.8 Q114.163 719.217 112.219 720.097 L112.219 702.736 Z\" fill=\"#000000\" fill-rule=\"evenodd\" fill-opacity=\"1\" /><path clip-path=\"url(#clip360)\" d=\"M51.6634 511.234 L59.3023 511.234 L59.3023 484.868 L50.9921 486.535 L50.9921 482.276 L59.256 480.609 L63.9319 480.609 L63.9319 511.234 L71.5707 511.234 L71.5707 515.169 L51.6634 515.169 L51.6634 511.234 Z\" fill=\"#000000\" fill-rule=\"evenodd\" fill-opacity=\"1\" /><path clip-path=\"url(#clip360)\" d=\"M91.0151 483.688 Q87.404 483.688 85.5753 487.252 Q83.7697 490.794 83.7697 497.924 Q83.7697 505.03 85.5753 508.595 Q87.404 512.136 91.0151 512.136 Q94.6493 512.136 96.4548 508.595 Q98.2835 505.03 98.2835 497.924 Q98.2835 490.794 96.4548 487.252 Q94.6493 483.688 91.0151 483.688 M91.0151 479.984 Q96.8252 479.984 99.8808 484.59 Q102.959 489.174 102.959 497.924 Q102.959 506.65 99.8808 511.257 Q96.8252 515.84 91.0151 515.84 Q85.2049 515.84 82.1262 511.257 Q79.0707 506.65 79.0707 497.924 Q79.0707 489.174 82.1262 484.59 Q85.2049 479.984 91.0151 479.984 Z\" fill=\"#000000\" fill-rule=\"evenodd\" fill-opacity=\"1\" /><path clip-path=\"url(#clip360)\" d=\"M121.177 483.688 Q117.566 483.688 115.737 487.252 Q113.932 490.794 113.932 497.924 Q113.932 505.03 115.737 508.595 Q117.566 512.136 121.177 512.136 Q124.811 512.136 126.617 508.595 Q128.445 505.03 128.445 497.924 Q128.445 490.794 126.617 487.252 Q124.811 483.688 121.177 483.688 M121.177 479.984 Q126.987 479.984 130.043 484.59 Q133.121 489.174 133.121 497.924 Q133.121 506.65 130.043 511.257 Q126.987 515.84 121.177 515.84 Q115.367 515.84 112.288 511.257 Q109.233 506.65 109.233 497.924 Q109.233 489.174 112.288 484.59 Q115.367 479.984 121.177 479.984 Z\" fill=\"#000000\" fill-rule=\"evenodd\" fill-opacity=\"1\" /><path clip-path=\"url(#clip360)\" d=\"M52.6588 289.107 L60.2976 289.107 L60.2976 262.741 L51.9875 264.408 L51.9875 260.149 L60.2513 258.482 L64.9272 258.482 L64.9272 289.107 L72.5661 289.107 L72.5661 293.042 L52.6588 293.042 L52.6588 289.107 Z\" fill=\"#000000\" fill-rule=\"evenodd\" fill-opacity=\"1\" /><path clip-path=\"url(#clip360)\" d=\"M86.0382 289.107 L102.358 289.107 L102.358 293.042 L80.4133 293.042 L80.4133 289.107 Q83.0753 286.352 87.6586 281.723 Q92.2651 277.07 93.4456 275.727 Q95.691 273.204 96.5706 271.468 Q97.4734 269.709 97.4734 268.019 Q97.4734 265.265 95.5289 263.528 Q93.6076 261.792 90.5058 261.792 Q88.3067 261.792 85.8531 262.556 Q83.4225 263.32 80.6447 264.871 L80.6447 260.149 Q83.4688 259.015 85.9225 258.436 Q88.3762 257.857 90.4132 257.857 Q95.7836 257.857 98.978 260.542 Q102.172 263.228 102.172 267.718 Q102.172 269.848 101.362 271.769 Q100.575 273.667 98.4687 276.26 Q97.89 276.931 94.7882 280.149 Q91.6864 283.343 86.0382 289.107 Z\" fill=\"#000000\" fill-rule=\"evenodd\" fill-opacity=\"1\" /><path clip-path=\"url(#clip360)\" d=\"M112.219 258.482 L130.575 258.482 L130.575 262.417 L116.501 262.417 L116.501 270.89 Q117.52 270.542 118.538 270.38 Q119.557 270.195 120.575 270.195 Q126.362 270.195 129.742 273.366 Q133.121 276.538 133.121 281.954 Q133.121 287.533 129.649 290.635 Q126.177 293.713 119.857 293.713 Q117.682 293.713 115.413 293.343 Q113.168 292.973 110.76 292.232 L110.76 287.533 Q112.844 288.667 115.066 289.223 Q117.288 289.778 119.765 289.778 Q123.77 289.778 126.107 287.672 Q128.445 285.565 128.445 281.954 Q128.445 278.343 126.107 276.237 Q123.77 274.13 119.765 274.13 Q117.89 274.13 116.015 274.547 Q114.163 274.964 112.219 275.843 L112.219 258.482 Z\" fill=\"#000000\" fill-rule=\"evenodd\" fill-opacity=\"1\" /><path clip-path=\"url(#clip360)\" d=\"M1106.25 20.1573 L1095.16 50.2555 L1117.39 50.2555 L1106.25 20.1573 M1101.64 12.096 L1110.91 12.096 L1133.96 72.576 L1125.46 72.576 L1119.95 57.061 L1092.68 57.061 L1087.18 72.576 L1078.55 72.576 L1101.64 12.096 Z\" fill=\"#000000\" fill-rule=\"evenodd\" fill-opacity=\"1\" /><path clip-path=\"url(#clip360)\" d=\"M1142.47 9.54393 L1149.92 9.54393 L1149.92 72.576 L1142.47 72.576 L1142.47 9.54393 Z\" fill=\"#000000\" fill-rule=\"evenodd\" fill-opacity=\"1\" /><path clip-path=\"url(#clip360)\" d=\"M1165.52 9.54393 L1172.97 9.54393 L1172.97 72.576 L1165.52 72.576 L1165.52 9.54393 Z\" fill=\"#000000\" fill-rule=\"evenodd\" fill-opacity=\"1\" /><path clip-path=\"url(#clip360)\" d=\"M1222.31 14.324 L1222.31 27.2059 L1237.67 27.2059 L1237.67 32.9987 L1222.31 32.9987 L1222.31 57.6282 Q1222.31 63.1779 1223.81 64.7578 Q1225.35 66.3376 1230.01 66.3376 L1237.67 66.3376 L1237.67 72.576 L1230.01 72.576 Q1221.38 72.576 1218.1 69.3758 Q1214.82 66.1351 1214.82 57.6282 L1214.82 32.9987 L1209.35 32.9987 L1209.35 27.2059 L1214.82 27.2059 L1214.82 14.324 L1222.31 14.324 Z\" fill=\"#000000\" fill-rule=\"evenodd\" fill-opacity=\"1\" /><path clip-path=\"url(#clip360)\" d=\"M1286.28 48.0275 L1286.28 51.6733 L1252.01 51.6733 Q1252.49 59.3701 1256.62 63.421 Q1260.8 67.4314 1268.21 67.4314 Q1272.5 67.4314 1276.51 66.3781 Q1280.57 65.3249 1284.54 63.2184 L1284.54 70.267 Q1280.52 71.9684 1276.31 72.8596 Q1272.1 73.7508 1267.76 73.7508 Q1256.91 73.7508 1250.55 67.4314 Q1244.23 61.1119 1244.23 50.3365 Q1244.23 39.1965 1250.22 32.6746 Q1256.26 26.1121 1266.47 26.1121 Q1275.62 26.1121 1280.93 32.0264 Q1286.28 37.9003 1286.28 48.0275 M1278.82 45.84 Q1278.74 39.7232 1275.38 36.0774 Q1272.06 32.4315 1266.55 32.4315 Q1260.31 32.4315 1256.54 35.9558 Q1252.82 39.4801 1252.25 45.8805 L1278.82 45.84 Z\" fill=\"#000000\" fill-rule=\"evenodd\" fill-opacity=\"1\" /><path clip-path=\"url(#clip360)\" d=\"M1324.8 34.1734 Q1323.55 33.4443 1322.05 33.1202 Q1320.59 32.7556 1318.81 32.7556 Q1312.49 32.7556 1309.08 36.8875 Q1305.72 40.9789 1305.72 48.6757 L1305.72 72.576 L1298.23 72.576 L1298.23 27.2059 L1305.72 27.2059 L1305.72 34.2544 Q1308.07 30.1225 1311.84 28.1376 Q1315.61 26.1121 1320.99 26.1121 Q1321.76 26.1121 1322.69 26.2337 Q1323.63 26.3147 1324.76 26.5172 L1324.8 34.1734 Z\" fill=\"#000000\" fill-rule=\"evenodd\" fill-opacity=\"1\" /><path clip-path=\"url(#clip360)\" d=\"M1366.48 35.9153 Q1369.28 30.8922 1373.17 28.5022 Q1377.06 26.1121 1382.32 26.1121 Q1389.41 26.1121 1393.26 31.0947 Q1397.11 36.0368 1397.11 45.1919 L1397.11 72.576 L1389.62 72.576 L1389.62 45.4349 Q1389.62 38.913 1387.31 35.7533 Q1385 32.5936 1380.26 32.5936 Q1374.47 32.5936 1371.1 36.4419 Q1367.74 40.2903 1367.74 46.9338 L1367.74 72.576 L1360.25 72.576 L1360.25 45.4349 Q1360.25 38.8725 1357.94 35.7533 Q1355.63 32.5936 1350.81 32.5936 Q1345.1 32.5936 1341.73 36.4824 Q1338.37 40.3308 1338.37 46.9338 L1338.37 72.576 L1330.88 72.576 L1330.88 27.2059 L1338.37 27.2059 L1338.37 34.2544 Q1340.92 30.082 1344.49 28.0971 Q1348.05 26.1121 1352.95 26.1121 Q1357.9 26.1121 1361.34 28.6237 Q1364.82 31.1352 1366.48 35.9153 Z\" fill=\"#000000\" fill-rule=\"evenodd\" fill-opacity=\"1\" /><path clip-path=\"url(#clip360)\" d=\"M1440.9 28.5427 L1440.9 35.5912 Q1437.74 33.9709 1434.34 33.1607 Q1430.93 32.3505 1427.29 32.3505 Q1421.74 32.3505 1418.94 34.0519 Q1416.19 35.7533 1416.19 39.156 Q1416.19 41.7486 1418.17 43.2475 Q1420.16 44.7058 1426.15 46.0426 L1428.71 46.6097 Q1436.65 48.3111 1439.97 51.4303 Q1443.33 54.509 1443.33 60.0587 Q1443.33 66.3781 1438.31 70.0644 Q1433.32 73.7508 1424.57 73.7508 Q1420.93 73.7508 1416.96 73.0216 Q1413.03 72.3329 1408.65 70.9151 L1408.65 63.2184 Q1412.79 65.3654 1416.8 66.4591 Q1420.81 67.5124 1424.74 67.5124 Q1430 67.5124 1432.84 65.73 Q1435.67 63.9071 1435.67 60.6258 Q1435.67 57.5877 1433.61 55.9673 Q1431.58 54.3469 1424.66 52.8481 L1422.06 52.2405 Q1415.14 50.7821 1412.06 47.7845 Q1408.98 44.7463 1408.98 39.4801 Q1408.98 33.0797 1413.52 29.5959 Q1418.05 26.1121 1426.4 26.1121 Q1430.53 26.1121 1434.18 26.7198 Q1437.82 27.3274 1440.9 28.5427 Z\" fill=\"#000000\" fill-rule=\"evenodd\" fill-opacity=\"1\" /><polyline clip-path=\"url(#clip362)\" style=\"stroke:#009af9; stroke-linecap:butt; stroke-linejoin:round; stroke-width:4; stroke-opacity:1; fill:none\" points=\"\n  230.922,1324.2 368.258,1262 505.593,1110.96 642.929,853.292 780.264,684.475 917.6,568.969 1054.94,489.004 1192.27,471.234 1329.61,471.234 1466.94,471.234 \n  1604.28,444.578 1741.61,355.728 1878.95,231.337 2016.28,195.797 2153.62,169.141 2290.95,160.256 \n  \"/>\n<circle clip-path=\"url(#clip362)\" cx=\"230.922\" cy=\"1324.2\" r=\"14\" fill=\"#009af9\" fill-rule=\"evenodd\" fill-opacity=\"1\" stroke=\"#000000\" stroke-opacity=\"1\" stroke-width=\"3.2\"/>\n<circle clip-path=\"url(#clip362)\" cx=\"368.258\" cy=\"1262\" r=\"14\" fill=\"#009af9\" fill-rule=\"evenodd\" fill-opacity=\"1\" stroke=\"#000000\" stroke-opacity=\"1\" stroke-width=\"3.2\"/>\n<circle clip-path=\"url(#clip362)\" cx=\"505.593\" cy=\"1110.96\" r=\"14\" fill=\"#009af9\" fill-rule=\"evenodd\" fill-opacity=\"1\" stroke=\"#000000\" stroke-opacity=\"1\" stroke-width=\"3.2\"/>\n<circle clip-path=\"url(#clip362)\" cx=\"642.929\" cy=\"853.292\" r=\"14\" fill=\"#009af9\" fill-rule=\"evenodd\" fill-opacity=\"1\" stroke=\"#000000\" stroke-opacity=\"1\" stroke-width=\"3.2\"/>\n<circle clip-path=\"url(#clip362)\" cx=\"780.264\" cy=\"684.475\" r=\"14\" fill=\"#009af9\" fill-rule=\"evenodd\" fill-opacity=\"1\" stroke=\"#000000\" stroke-opacity=\"1\" stroke-width=\"3.2\"/>\n<circle clip-path=\"url(#clip362)\" cx=\"917.6\" cy=\"568.969\" r=\"14\" fill=\"#009af9\" fill-rule=\"evenodd\" fill-opacity=\"1\" stroke=\"#000000\" stroke-opacity=\"1\" stroke-width=\"3.2\"/>\n<circle clip-path=\"url(#clip362)\" cx=\"1054.94\" cy=\"489.004\" r=\"14\" fill=\"#009af9\" fill-rule=\"evenodd\" fill-opacity=\"1\" stroke=\"#000000\" stroke-opacity=\"1\" stroke-width=\"3.2\"/>\n<circle clip-path=\"url(#clip362)\" cx=\"1192.27\" cy=\"471.234\" r=\"14\" fill=\"#009af9\" fill-rule=\"evenodd\" fill-opacity=\"1\" stroke=\"#000000\" stroke-opacity=\"1\" stroke-width=\"3.2\"/>\n<circle clip-path=\"url(#clip362)\" cx=\"1329.61\" cy=\"471.234\" r=\"14\" fill=\"#009af9\" fill-rule=\"evenodd\" fill-opacity=\"1\" stroke=\"#000000\" stroke-opacity=\"1\" stroke-width=\"3.2\"/>\n<circle clip-path=\"url(#clip362)\" cx=\"1466.94\" cy=\"471.234\" r=\"14\" fill=\"#009af9\" fill-rule=\"evenodd\" fill-opacity=\"1\" stroke=\"#000000\" stroke-opacity=\"1\" stroke-width=\"3.2\"/>\n<circle clip-path=\"url(#clip362)\" cx=\"1604.28\" cy=\"444.578\" r=\"14\" fill=\"#009af9\" fill-rule=\"evenodd\" fill-opacity=\"1\" stroke=\"#000000\" stroke-opacity=\"1\" stroke-width=\"3.2\"/>\n<circle clip-path=\"url(#clip362)\" cx=\"1741.61\" cy=\"355.728\" r=\"14\" fill=\"#009af9\" fill-rule=\"evenodd\" fill-opacity=\"1\" stroke=\"#000000\" stroke-opacity=\"1\" stroke-width=\"3.2\"/>\n<circle clip-path=\"url(#clip362)\" cx=\"1878.95\" cy=\"231.337\" r=\"14\" fill=\"#009af9\" fill-rule=\"evenodd\" fill-opacity=\"1\" stroke=\"#000000\" stroke-opacity=\"1\" stroke-width=\"3.2\"/>\n<circle clip-path=\"url(#clip362)\" cx=\"2016.28\" cy=\"195.797\" r=\"14\" fill=\"#009af9\" fill-rule=\"evenodd\" fill-opacity=\"1\" stroke=\"#000000\" stroke-opacity=\"1\" stroke-width=\"3.2\"/>\n<circle clip-path=\"url(#clip362)\" cx=\"2153.62\" cy=\"169.141\" r=\"14\" fill=\"#009af9\" fill-rule=\"evenodd\" fill-opacity=\"1\" stroke=\"#000000\" stroke-opacity=\"1\" stroke-width=\"3.2\"/>\n<circle clip-path=\"url(#clip362)\" cx=\"2290.95\" cy=\"160.256\" r=\"14\" fill=\"#009af9\" fill-rule=\"evenodd\" fill-opacity=\"1\" stroke=\"#000000\" stroke-opacity=\"1\" stroke-width=\"3.2\"/>\n<polyline clip-path=\"url(#clip362)\" style=\"stroke:#e26f46; stroke-linecap:butt; stroke-linejoin:round; stroke-width:4; stroke-opacity:1; fill:none\" points=\"\n  230.922,222.452 368.258,284.647 505.593,435.693 642.929,693.36 780.264,862.177 917.6,977.683 1054.94,1057.65 1192.27,1075.42 1329.61,1075.42 1466.94,1075.42 \n  1604.28,1102.07 1741.61,1190.92 1878.95,1315.32 2016.28,1350.86 2153.62,1377.51 2290.95,1386.4 \n  \"/>\n<circle clip-path=\"url(#clip362)\" cx=\"230.922\" cy=\"222.452\" r=\"14\" fill=\"#e26f46\" fill-rule=\"evenodd\" fill-opacity=\"1\" stroke=\"#000000\" stroke-opacity=\"1\" stroke-width=\"3.2\"/>\n<circle clip-path=\"url(#clip362)\" cx=\"368.258\" cy=\"284.647\" r=\"14\" fill=\"#e26f46\" fill-rule=\"evenodd\" fill-opacity=\"1\" stroke=\"#000000\" stroke-opacity=\"1\" stroke-width=\"3.2\"/>\n<circle clip-path=\"url(#clip362)\" cx=\"505.593\" cy=\"435.693\" r=\"14\" fill=\"#e26f46\" fill-rule=\"evenodd\" fill-opacity=\"1\" stroke=\"#000000\" stroke-opacity=\"1\" stroke-width=\"3.2\"/>\n<circle clip-path=\"url(#clip362)\" cx=\"642.929\" cy=\"693.36\" r=\"14\" fill=\"#e26f46\" fill-rule=\"evenodd\" fill-opacity=\"1\" stroke=\"#000000\" stroke-opacity=\"1\" stroke-width=\"3.2\"/>\n<circle clip-path=\"url(#clip362)\" cx=\"780.264\" cy=\"862.177\" r=\"14\" fill=\"#e26f46\" fill-rule=\"evenodd\" fill-opacity=\"1\" stroke=\"#000000\" stroke-opacity=\"1\" stroke-width=\"3.2\"/>\n<circle clip-path=\"url(#clip362)\" cx=\"917.6\" cy=\"977.683\" r=\"14\" fill=\"#e26f46\" fill-rule=\"evenodd\" fill-opacity=\"1\" stroke=\"#000000\" stroke-opacity=\"1\" stroke-width=\"3.2\"/>\n<circle clip-path=\"url(#clip362)\" cx=\"1054.94\" cy=\"1057.65\" r=\"14\" fill=\"#e26f46\" fill-rule=\"evenodd\" fill-opacity=\"1\" stroke=\"#000000\" stroke-opacity=\"1\" stroke-width=\"3.2\"/>\n<circle clip-path=\"url(#clip362)\" cx=\"1192.27\" cy=\"1075.42\" r=\"14\" fill=\"#e26f46\" fill-rule=\"evenodd\" fill-opacity=\"1\" stroke=\"#000000\" stroke-opacity=\"1\" stroke-width=\"3.2\"/>\n<circle clip-path=\"url(#clip362)\" cx=\"1329.61\" cy=\"1075.42\" r=\"14\" fill=\"#e26f46\" fill-rule=\"evenodd\" fill-opacity=\"1\" stroke=\"#000000\" stroke-opacity=\"1\" stroke-width=\"3.2\"/>\n<circle clip-path=\"url(#clip362)\" cx=\"1466.94\" cy=\"1075.42\" r=\"14\" fill=\"#e26f46\" fill-rule=\"evenodd\" fill-opacity=\"1\" stroke=\"#000000\" stroke-opacity=\"1\" stroke-width=\"3.2\"/>\n<circle clip-path=\"url(#clip362)\" cx=\"1604.28\" cy=\"1102.07\" r=\"14\" fill=\"#e26f46\" fill-rule=\"evenodd\" fill-opacity=\"1\" stroke=\"#000000\" stroke-opacity=\"1\" stroke-width=\"3.2\"/>\n<circle clip-path=\"url(#clip362)\" cx=\"1741.61\" cy=\"1190.92\" r=\"14\" fill=\"#e26f46\" fill-rule=\"evenodd\" fill-opacity=\"1\" stroke=\"#000000\" stroke-opacity=\"1\" stroke-width=\"3.2\"/>\n<circle clip-path=\"url(#clip362)\" cx=\"1878.95\" cy=\"1315.32\" r=\"14\" fill=\"#e26f46\" fill-rule=\"evenodd\" fill-opacity=\"1\" stroke=\"#000000\" stroke-opacity=\"1\" stroke-width=\"3.2\"/>\n<circle clip-path=\"url(#clip362)\" cx=\"2016.28\" cy=\"1350.86\" r=\"14\" fill=\"#e26f46\" fill-rule=\"evenodd\" fill-opacity=\"1\" stroke=\"#000000\" stroke-opacity=\"1\" stroke-width=\"3.2\"/>\n<circle clip-path=\"url(#clip362)\" cx=\"2153.62\" cy=\"1377.51\" r=\"14\" fill=\"#e26f46\" fill-rule=\"evenodd\" fill-opacity=\"1\" stroke=\"#000000\" stroke-opacity=\"1\" stroke-width=\"3.2\"/>\n<circle clip-path=\"url(#clip362)\" cx=\"2290.95\" cy=\"1386.4\" r=\"14\" fill=\"#e26f46\" fill-rule=\"evenodd\" fill-opacity=\"1\" stroke=\"#000000\" stroke-opacity=\"1\" stroke-width=\"3.2\"/>\n<path clip-path=\"url(#clip360)\" d=\"\nM1657.99 825.166 L2279.97 825.166 L2279.97 669.646 L1657.99 669.646  Z\n  \" fill=\"#ffffff\" fill-rule=\"evenodd\" fill-opacity=\"1\"/>\n<polyline clip-path=\"url(#clip360)\" style=\"stroke:#000000; stroke-linecap:butt; stroke-linejoin:round; stroke-width:4; stroke-opacity:1; fill:none\" points=\"\n  1657.99,825.166 2279.97,825.166 2279.97,669.646 1657.99,669.646 1657.99,825.166 \n  \"/>\n<polyline clip-path=\"url(#clip360)\" style=\"stroke:#009af9; stroke-linecap:butt; stroke-linejoin:round; stroke-width:4; stroke-opacity:1; fill:none\" points=\"\n  1682.25,721.486 1827.83,721.486 \n  \"/>\n<circle clip-path=\"url(#clip360)\" cx=\"1755.04\" cy=\"721.486\" r=\"23\" fill=\"#009af9\" fill-rule=\"evenodd\" fill-opacity=\"1\" stroke=\"#000000\" stroke-opacity=\"1\" stroke-width=\"5.12\"/>\n<path clip-path=\"url(#clip360)\" d=\"M1872.67 717.91 L1865.94 717.91 L1863.99 725.641 L1870.77 725.641 L1872.67 717.91 M1869.2 704.738 L1866.79 714.345 L1873.55 714.345 L1875.98 704.738 L1879.69 704.738 L1877.3 714.345 L1884.52 714.345 L1884.52 717.91 L1876.4 717.91 L1874.5 725.641 L1881.86 725.641 L1881.86 729.183 L1873.6 729.183 L1871.19 738.766 L1867.49 738.766 L1869.87 729.183 L1863.09 729.183 L1860.7 738.766 L1856.98 738.766 L1859.38 729.183 L1852.09 729.183 L1852.09 725.641 L1860.24 725.641 L1862.19 717.91 L1854.73 717.91 L1854.73 714.345 L1863.09 714.345 L1865.45 704.738 L1869.2 704.738 Z\" fill=\"#000000\" fill-rule=\"evenodd\" fill-opacity=\"1\" /><path clip-path=\"url(#clip360)\" d=\"M1926.31 725.826 Q1926.31 721.127 1924.36 718.465 Q1922.44 715.78 1919.06 715.78 Q1915.68 715.78 1913.74 718.465 Q1911.81 721.127 1911.81 725.826 Q1911.81 730.525 1913.74 733.21 Q1915.68 735.872 1919.06 735.872 Q1922.44 735.872 1924.36 733.21 Q1926.31 730.525 1926.31 725.826 M1911.81 716.775 Q1913.16 714.461 1915.19 713.349 Q1917.25 712.215 1920.1 712.215 Q1924.82 712.215 1927.76 715.965 Q1930.73 719.715 1930.73 725.826 Q1930.73 731.937 1927.76 735.687 Q1924.82 739.437 1920.1 739.437 Q1917.25 739.437 1915.19 738.326 Q1913.16 737.192 1911.81 734.877 L1911.81 738.766 L1907.53 738.766 L1907.53 702.748 L1911.81 702.748 L1911.81 716.775 Z\" fill=\"#000000\" fill-rule=\"evenodd\" fill-opacity=\"1\" /><path clip-path=\"url(#clip360)\" d=\"M1949.57 725.734 Q1944.41 725.734 1942.42 726.914 Q1940.43 728.095 1940.43 730.942 Q1940.43 733.21 1941.91 734.553 Q1943.41 735.872 1945.98 735.872 Q1949.52 735.872 1951.65 733.372 Q1953.81 730.849 1953.81 726.683 L1953.81 725.734 L1949.57 725.734 M1958.06 723.974 L1958.06 738.766 L1953.81 738.766 L1953.81 734.831 Q1952.35 737.192 1950.17 738.326 Q1948 739.437 1944.85 739.437 Q1940.87 739.437 1938.5 737.215 Q1936.17 734.97 1936.17 731.22 Q1936.17 726.845 1939.08 724.623 Q1942.02 722.4 1947.83 722.4 L1953.81 722.4 L1953.81 721.984 Q1953.81 719.044 1951.86 717.447 Q1949.94 715.826 1946.44 715.826 Q1944.22 715.826 1942.12 716.359 Q1940.01 716.891 1938.06 717.956 L1938.06 714.021 Q1940.4 713.118 1942.6 712.678 Q1944.8 712.215 1946.88 712.215 Q1952.51 712.215 1955.29 715.132 Q1958.06 718.049 1958.06 723.974 Z\" fill=\"#000000\" fill-rule=\"evenodd\" fill-opacity=\"1\" /><path clip-path=\"url(#clip360)\" d=\"M1966.84 702.748 L1971.1 702.748 L1971.1 738.766 L1966.84 738.766 L1966.84 702.748 Z\" fill=\"#000000\" fill-rule=\"evenodd\" fill-opacity=\"1\" /><path clip-path=\"url(#clip360)\" d=\"M1991.79 725.734 Q1986.63 725.734 1984.64 726.914 Q1982.65 728.095 1982.65 730.942 Q1982.65 733.21 1984.13 734.553 Q1985.63 735.872 1988.2 735.872 Q1991.75 735.872 1993.87 733.372 Q1996.03 730.849 1996.03 726.683 L1996.03 725.734 L1991.79 725.734 M2000.29 723.974 L2000.29 738.766 L1996.03 738.766 L1996.03 734.831 Q1994.57 737.192 1992.39 738.326 Q1990.22 739.437 1987.07 739.437 Q1983.09 739.437 1980.73 737.215 Q1978.39 734.97 1978.39 731.22 Q1978.39 726.845 1981.31 724.623 Q1984.25 722.4 1990.06 722.4 L1996.03 722.4 L1996.03 721.984 Q1996.03 719.044 1994.08 717.447 Q1992.16 715.826 1988.67 715.826 Q1986.44 715.826 1984.34 716.359 Q1982.23 716.891 1980.29 717.956 L1980.29 714.021 Q1982.62 713.118 1984.82 712.678 Q1987.02 712.215 1989.11 712.215 Q1994.73 712.215 1997.51 715.132 Q2000.29 718.049 2000.29 723.974 Z\" fill=\"#000000\" fill-rule=\"evenodd\" fill-opacity=\"1\" /><path clip-path=\"url(#clip360)\" d=\"M2030.61 723.118 L2030.61 738.766 L2026.35 738.766 L2026.35 723.257 Q2026.35 719.576 2024.92 717.748 Q2023.48 715.919 2020.61 715.919 Q2017.16 715.919 2015.17 718.118 Q2013.18 720.317 2013.18 724.113 L2013.18 738.766 L2008.9 738.766 L2008.9 712.84 L2013.18 712.84 L2013.18 716.868 Q2014.71 714.53 2016.77 713.373 Q2018.85 712.215 2021.56 712.215 Q2026.03 712.215 2028.32 714.993 Q2030.61 717.748 2030.61 723.118 Z\" fill=\"#000000\" fill-rule=\"evenodd\" fill-opacity=\"1\" /><path clip-path=\"url(#clip360)\" d=\"M2057.76 713.836 L2057.76 717.817 Q2055.96 716.822 2054.13 716.336 Q2052.32 715.826 2050.47 715.826 Q2046.33 715.826 2044.04 718.465 Q2041.74 721.081 2041.74 725.826 Q2041.74 730.572 2044.04 733.21 Q2046.33 735.826 2050.47 735.826 Q2052.32 735.826 2054.13 735.34 Q2055.96 734.831 2057.76 733.835 L2057.76 737.771 Q2055.98 738.604 2054.06 739.021 Q2052.16 739.437 2050.01 739.437 Q2044.15 739.437 2040.7 735.757 Q2037.25 732.076 2037.25 725.826 Q2037.25 719.484 2040.73 715.849 Q2044.22 712.215 2050.29 712.215 Q2052.25 712.215 2054.13 712.632 Q2056 713.025 2057.76 713.836 Z\" fill=\"#000000\" fill-rule=\"evenodd\" fill-opacity=\"1\" /><path clip-path=\"url(#clip360)\" d=\"M2087.35 724.738 L2087.35 726.822 L2067.76 726.822 Q2068.04 731.22 2070.4 733.535 Q2072.79 735.826 2077.02 735.826 Q2079.48 735.826 2081.77 735.224 Q2084.08 734.622 2086.35 733.419 L2086.35 737.447 Q2084.06 738.419 2081.65 738.928 Q2079.24 739.437 2076.77 739.437 Q2070.56 739.437 2066.93 735.826 Q2063.32 732.215 2063.32 726.058 Q2063.32 719.692 2066.74 715.965 Q2070.19 712.215 2076.03 712.215 Q2081.26 712.215 2084.29 715.595 Q2087.35 718.951 2087.35 724.738 M2083.09 723.488 Q2083.04 719.993 2081.12 717.91 Q2079.22 715.826 2076.07 715.826 Q2072.51 715.826 2070.36 717.84 Q2068.23 719.854 2067.9 723.511 L2083.09 723.488 Z\" fill=\"#000000\" fill-rule=\"evenodd\" fill-opacity=\"1\" /><path clip-path=\"url(#clip360)\" d=\"M2111.4 716.775 L2111.4 702.748 L2115.66 702.748 L2115.66 738.766 L2111.4 738.766 L2111.4 734.877 Q2110.05 737.192 2107.99 738.326 Q2105.96 739.437 2103.09 739.437 Q2098.39 739.437 2095.43 735.687 Q2092.49 731.937 2092.49 725.826 Q2092.49 719.715 2095.43 715.965 Q2098.39 712.215 2103.09 712.215 Q2105.96 712.215 2107.99 713.349 Q2110.05 714.461 2111.4 716.775 M2096.88 725.826 Q2096.88 730.525 2098.8 733.21 Q2100.75 735.872 2104.13 735.872 Q2107.51 735.872 2109.45 733.21 Q2111.4 730.525 2111.4 725.826 Q2111.4 721.127 2109.45 718.465 Q2107.51 715.78 2104.13 715.78 Q2100.75 715.78 2098.8 718.465 Q2096.88 721.127 2096.88 725.826 Z\" fill=\"#000000\" fill-rule=\"evenodd\" fill-opacity=\"1\" /><path clip-path=\"url(#clip360)\" d=\"M2139.13 741.96 L2167.39 741.96 L2153.25 713.581 L2139.13 741.96 M2135.17 744.599 L2153.25 708.303 L2171.35 744.599 L2135.17 744.599 Z\" fill=\"#000000\" fill-rule=\"evenodd\" fill-opacity=\"1\" /><polyline clip-path=\"url(#clip360)\" style=\"stroke:#e26f46; stroke-linecap:butt; stroke-linejoin:round; stroke-width:4; stroke-opacity:1; fill:none\" points=\"\n  1682.25,773.326 1827.83,773.326 \n  \"/>\n<circle clip-path=\"url(#clip360)\" cx=\"1755.04\" cy=\"773.326\" r=\"23\" fill=\"#e26f46\" fill-rule=\"evenodd\" fill-opacity=\"1\" stroke=\"#000000\" stroke-opacity=\"1\" stroke-width=\"5.12\"/>\n<path clip-path=\"url(#clip360)\" d=\"M1872.67 769.75 L1865.94 769.75 L1863.99 777.481 L1870.77 777.481 L1872.67 769.75 M1869.2 756.578 L1866.79 766.185 L1873.55 766.185 L1875.98 756.578 L1879.69 756.578 L1877.3 766.185 L1884.52 766.185 L1884.52 769.75 L1876.4 769.75 L1874.5 777.481 L1881.86 777.481 L1881.86 781.023 L1873.6 781.023 L1871.19 790.606 L1867.49 790.606 L1869.87 781.023 L1863.09 781.023 L1860.7 790.606 L1856.98 790.606 L1859.38 781.023 L1852.09 781.023 L1852.09 777.481 L1860.24 777.481 L1862.19 769.75 L1854.73 769.75 L1854.73 766.185 L1863.09 766.185 L1865.45 756.578 L1869.2 756.578 Z\" fill=\"#000000\" fill-rule=\"evenodd\" fill-opacity=\"1\" /><path clip-path=\"url(#clip360)\" d=\"M1907.25 780.375 L1907.25 764.68 L1911.51 764.68 L1911.51 780.213 Q1911.51 783.893 1912.95 785.745 Q1914.38 787.574 1917.25 787.574 Q1920.7 787.574 1922.69 785.375 Q1924.71 783.175 1924.71 779.379 L1924.71 764.68 L1928.97 764.68 L1928.97 790.606 L1924.71 790.606 L1924.71 786.625 Q1923.16 788.986 1921.1 790.143 Q1919.06 791.277 1916.35 791.277 Q1911.88 791.277 1909.57 788.5 Q1907.25 785.722 1907.25 780.375 M1917.97 764.055 L1917.97 764.055 Z\" fill=\"#000000\" fill-rule=\"evenodd\" fill-opacity=\"1\" /><path clip-path=\"url(#clip360)\" d=\"M1959.29 774.958 L1959.29 790.606 L1955.03 790.606 L1955.03 775.097 Q1955.03 771.416 1953.6 769.588 Q1952.16 767.759 1949.29 767.759 Q1945.84 767.759 1943.85 769.958 Q1941.86 772.157 1941.86 775.953 L1941.86 790.606 L1937.58 790.606 L1937.58 764.68 L1941.86 764.68 L1941.86 768.708 Q1943.39 766.37 1945.45 765.213 Q1947.53 764.055 1950.24 764.055 Q1954.71 764.055 1957 766.833 Q1959.29 769.588 1959.29 774.958 Z\" fill=\"#000000\" fill-rule=\"evenodd\" fill-opacity=\"1\" /><path clip-path=\"url(#clip360)\" d=\"M1986.4 777.666 Q1986.4 772.967 1984.45 770.305 Q1982.53 767.62 1979.15 767.62 Q1975.77 767.62 1973.83 770.305 Q1971.91 772.967 1971.91 777.666 Q1971.91 782.365 1973.83 785.05 Q1975.77 787.712 1979.15 787.712 Q1982.53 787.712 1984.45 785.05 Q1986.4 782.365 1986.4 777.666 M1971.91 768.615 Q1973.25 766.301 1975.29 765.189 Q1977.35 764.055 1980.19 764.055 Q1984.92 764.055 1987.86 767.805 Q1990.82 771.555 1990.82 777.666 Q1990.82 783.777 1987.86 787.527 Q1984.92 791.277 1980.19 791.277 Q1977.35 791.277 1975.29 790.166 Q1973.25 789.032 1971.91 786.717 L1971.91 790.606 L1967.62 790.606 L1967.62 754.588 L1971.91 754.588 L1971.91 768.615 Z\" fill=\"#000000\" fill-rule=\"evenodd\" fill-opacity=\"1\" /><path clip-path=\"url(#clip360)\" d=\"M2009.66 777.574 Q2004.5 777.574 2002.51 778.754 Q2000.52 779.935 2000.52 782.782 Q2000.52 785.05 2002 786.393 Q2003.5 787.712 2006.07 787.712 Q2009.62 787.712 2011.74 785.212 Q2013.9 782.689 2013.9 778.523 L2013.9 777.574 L2009.66 777.574 M2018.16 775.814 L2018.16 790.606 L2013.9 790.606 L2013.9 786.671 Q2012.44 789.032 2010.26 790.166 Q2008.09 791.277 2004.94 791.277 Q2000.96 791.277 1998.6 789.055 Q1996.26 786.81 1996.26 783.06 Q1996.26 778.685 1999.18 776.463 Q2002.12 774.24 2007.93 774.24 L2013.9 774.24 L2013.9 773.824 Q2013.9 770.884 2011.95 769.287 Q2010.03 767.666 2006.54 767.666 Q2004.31 767.666 2002.21 768.199 Q2000.1 768.731 1998.16 769.796 L1998.16 765.861 Q2000.5 764.958 2002.69 764.518 Q2004.89 764.055 2006.98 764.055 Q2012.6 764.055 2015.38 766.972 Q2018.16 769.889 2018.16 775.814 Z\" fill=\"#000000\" fill-rule=\"evenodd\" fill-opacity=\"1\" /><path clip-path=\"url(#clip360)\" d=\"M2026.93 754.588 L2031.19 754.588 L2031.19 790.606 L2026.93 790.606 L2026.93 754.588 Z\" fill=\"#000000\" fill-rule=\"evenodd\" fill-opacity=\"1\" /><path clip-path=\"url(#clip360)\" d=\"M2051.88 777.574 Q2046.72 777.574 2044.73 778.754 Q2042.74 779.935 2042.74 782.782 Q2042.74 785.05 2044.22 786.393 Q2045.73 787.712 2048.3 787.712 Q2051.84 787.712 2053.97 785.212 Q2056.12 782.689 2056.12 778.523 L2056.12 777.574 L2051.88 777.574 M2060.38 775.814 L2060.38 790.606 L2056.12 790.606 L2056.12 786.671 Q2054.66 789.032 2052.49 790.166 Q2050.31 791.277 2047.16 791.277 Q2043.18 791.277 2040.82 789.055 Q2038.48 786.81 2038.48 783.06 Q2038.48 778.685 2041.4 776.463 Q2044.34 774.24 2050.15 774.24 L2056.12 774.24 L2056.12 773.824 Q2056.12 770.884 2054.18 769.287 Q2052.25 767.666 2048.76 767.666 Q2046.54 767.666 2044.43 768.199 Q2042.32 768.731 2040.38 769.796 L2040.38 765.861 Q2042.72 764.958 2044.92 764.518 Q2047.12 764.055 2049.2 764.055 Q2054.82 764.055 2057.6 766.972 Q2060.38 769.889 2060.38 775.814 Z\" fill=\"#000000\" fill-rule=\"evenodd\" fill-opacity=\"1\" /><path clip-path=\"url(#clip360)\" d=\"M2090.7 774.958 L2090.7 790.606 L2086.44 790.606 L2086.44 775.097 Q2086.44 771.416 2085.01 769.588 Q2083.57 767.759 2080.7 767.759 Q2077.25 767.759 2075.26 769.958 Q2073.27 772.157 2073.27 775.953 L2073.27 790.606 L2068.99 790.606 L2068.99 764.68 L2073.27 764.68 L2073.27 768.708 Q2074.8 766.37 2076.86 765.213 Q2078.94 764.055 2081.65 764.055 Q2086.12 764.055 2088.41 766.833 Q2090.7 769.588 2090.7 774.958 Z\" fill=\"#000000\" fill-rule=\"evenodd\" fill-opacity=\"1\" /><path clip-path=\"url(#clip360)\" d=\"M2117.86 765.676 L2117.86 769.657 Q2116.05 768.662 2114.22 768.176 Q2112.42 767.666 2110.56 767.666 Q2106.42 767.666 2104.13 770.305 Q2101.84 772.921 2101.84 777.666 Q2101.84 782.412 2104.13 785.05 Q2106.42 787.666 2110.56 787.666 Q2112.42 787.666 2114.22 787.18 Q2116.05 786.671 2117.86 785.675 L2117.86 789.611 Q2116.07 790.444 2114.15 790.861 Q2112.25 791.277 2110.1 791.277 Q2104.24 791.277 2100.8 787.597 Q2097.35 783.916 2097.35 777.666 Q2097.35 771.324 2100.82 767.689 Q2104.31 764.055 2110.38 764.055 Q2112.35 764.055 2114.22 764.472 Q2116.1 764.865 2117.86 765.676 Z\" fill=\"#000000\" fill-rule=\"evenodd\" fill-opacity=\"1\" /><path clip-path=\"url(#clip360)\" d=\"M2147.44 776.578 L2147.44 778.662 L2127.86 778.662 Q2128.13 783.06 2130.49 785.375 Q2132.88 787.666 2137.11 787.666 Q2139.57 787.666 2141.86 787.064 Q2144.17 786.462 2146.44 785.259 L2146.44 789.287 Q2144.15 790.259 2141.74 790.768 Q2139.34 791.277 2136.86 791.277 Q2130.66 791.277 2127.02 787.666 Q2123.41 784.055 2123.41 777.898 Q2123.41 771.532 2126.84 767.805 Q2130.29 764.055 2136.12 764.055 Q2141.35 764.055 2144.38 767.435 Q2147.44 770.791 2147.44 776.578 M2143.18 775.328 Q2143.13 771.833 2141.21 769.75 Q2139.31 767.666 2136.17 767.666 Q2132.6 767.666 2130.45 769.68 Q2128.32 771.694 2127.99 775.351 L2143.18 775.328 Z\" fill=\"#000000\" fill-rule=\"evenodd\" fill-opacity=\"1\" /><path clip-path=\"url(#clip360)\" d=\"M2171.49 768.615 L2171.49 754.588 L2175.75 754.588 L2175.75 790.606 L2171.49 790.606 L2171.49 786.717 Q2170.15 789.032 2168.09 790.166 Q2166.05 791.277 2163.18 791.277 Q2158.48 791.277 2155.52 787.527 Q2152.58 783.777 2152.58 777.666 Q2152.58 771.555 2155.52 767.805 Q2158.48 764.055 2163.18 764.055 Q2166.05 764.055 2168.09 765.189 Q2170.15 766.301 2171.49 768.615 M2156.98 777.666 Q2156.98 782.365 2158.9 785.05 Q2160.84 787.712 2164.22 787.712 Q2167.6 787.712 2169.55 785.05 Q2171.49 782.365 2171.49 777.666 Q2171.49 772.967 2169.55 770.305 Q2167.6 767.62 2164.22 767.62 Q2160.84 767.62 2158.9 770.305 Q2156.98 772.967 2156.98 777.666 Z\" fill=\"#000000\" fill-rule=\"evenodd\" fill-opacity=\"1\" /><path clip-path=\"url(#clip360)\" d=\"M2199.22 793.8 L2227.48 793.8 L2213.34 765.421 L2199.22 793.8 M2195.26 796.439 L2213.34 760.143 L2231.44 796.439 L2195.26 796.439 Z\" fill=\"#000000\" fill-rule=\"evenodd\" fill-opacity=\"1\" /></svg>\n",
      "text/html": [
       "<?xml version=\"1.0\" encoding=\"utf-8\"?>\n",
       "<svg xmlns=\"http://www.w3.org/2000/svg\" xmlns:xlink=\"http://www.w3.org/1999/xlink\" width=\"600\" height=\"400\" viewBox=\"0 0 2400 1600\">\n",
       "<defs>\n",
       "  <clipPath id=\"clip410\">\n",
       "    <rect x=\"0\" y=\"0\" width=\"2400\" height=\"1600\"/>\n",
       "  </clipPath>\n",
       "</defs>\n",
       "<path clip-path=\"url(#clip410)\" d=\"\n",
       "M0 1600 L2400 1600 L2400 0 L0 0  Z\n",
       "  \" fill=\"#ffffff\" fill-rule=\"evenodd\" fill-opacity=\"1\"/>\n",
       "<defs>\n",
       "  <clipPath id=\"clip411\">\n",
       "    <rect x=\"480\" y=\"0\" width=\"1681\" height=\"1600\"/>\n",
       "  </clipPath>\n",
       "</defs>\n",
       "<path clip-path=\"url(#clip410)\" d=\"\n",
       "M169.121 1423.18 L2352.76 1423.18 L2352.76 123.472 L169.121 123.472  Z\n",
       "  \" fill=\"#ffffff\" fill-rule=\"evenodd\" fill-opacity=\"1\"/>\n",
       "<defs>\n",
       "  <clipPath id=\"clip412\">\n",
       "    <rect x=\"169\" y=\"123\" width=\"2185\" height=\"1301\"/>\n",
       "  </clipPath>\n",
       "</defs>\n",
       "<polyline clip-path=\"url(#clip412)\" style=\"stroke:#000000; stroke-linecap:butt; stroke-linejoin:round; stroke-width:2; stroke-opacity:0.1; fill:none\" points=\"\n",
       "  230.922,1423.18 230.922,123.472 \n",
       "  \"/>\n",
       "<polyline clip-path=\"url(#clip412)\" style=\"stroke:#000000; stroke-linecap:butt; stroke-linejoin:round; stroke-width:2; stroke-opacity:0.1; fill:none\" points=\"\n",
       "  670.396,1423.18 670.396,123.472 \n",
       "  \"/>\n",
       "<polyline clip-path=\"url(#clip412)\" style=\"stroke:#000000; stroke-linecap:butt; stroke-linejoin:round; stroke-width:2; stroke-opacity:0.1; fill:none\" points=\"\n",
       "  1109.87,1423.18 1109.87,123.472 \n",
       "  \"/>\n",
       "<polyline clip-path=\"url(#clip412)\" style=\"stroke:#000000; stroke-linecap:butt; stroke-linejoin:round; stroke-width:2; stroke-opacity:0.1; fill:none\" points=\"\n",
       "  1549.34,1423.18 1549.34,123.472 \n",
       "  \"/>\n",
       "<polyline clip-path=\"url(#clip412)\" style=\"stroke:#000000; stroke-linecap:butt; stroke-linejoin:round; stroke-width:2; stroke-opacity:0.1; fill:none\" points=\"\n",
       "  1988.82,1423.18 1988.82,123.472 \n",
       "  \"/>\n",
       "<polyline clip-path=\"url(#clip410)\" style=\"stroke:#000000; stroke-linecap:butt; stroke-linejoin:round; stroke-width:4; stroke-opacity:1; fill:none\" points=\"\n",
       "  169.121,1423.18 2352.76,1423.18 \n",
       "  \"/>\n",
       "<polyline clip-path=\"url(#clip410)\" style=\"stroke:#000000; stroke-linecap:butt; stroke-linejoin:round; stroke-width:4; stroke-opacity:1; fill:none\" points=\"\n",
       "  230.922,1423.18 230.922,1404.28 \n",
       "  \"/>\n",
       "<polyline clip-path=\"url(#clip410)\" style=\"stroke:#000000; stroke-linecap:butt; stroke-linejoin:round; stroke-width:4; stroke-opacity:1; fill:none\" points=\"\n",
       "  670.396,1423.18 670.396,1404.28 \n",
       "  \"/>\n",
       "<polyline clip-path=\"url(#clip410)\" style=\"stroke:#000000; stroke-linecap:butt; stroke-linejoin:round; stroke-width:4; stroke-opacity:1; fill:none\" points=\"\n",
       "  1109.87,1423.18 1109.87,1404.28 \n",
       "  \"/>\n",
       "<polyline clip-path=\"url(#clip410)\" style=\"stroke:#000000; stroke-linecap:butt; stroke-linejoin:round; stroke-width:4; stroke-opacity:1; fill:none\" points=\"\n",
       "  1549.34,1423.18 1549.34,1404.28 \n",
       "  \"/>\n",
       "<polyline clip-path=\"url(#clip410)\" style=\"stroke:#000000; stroke-linecap:butt; stroke-linejoin:round; stroke-width:4; stroke-opacity:1; fill:none\" points=\"\n",
       "  1988.82,1423.18 1988.82,1404.28 \n",
       "  \"/>\n",
       "<path clip-path=\"url(#clip410)\" d=\"M208.307 1454.1 Q204.696 1454.1 202.867 1457.66 Q201.061 1461.2 201.061 1468.33 Q201.061 1475.44 202.867 1479.01 Q204.696 1482.55 208.307 1482.55 Q211.941 1482.55 213.746 1479.01 Q215.575 1475.44 215.575 1468.33 Q215.575 1461.2 213.746 1457.66 Q211.941 1454.1 208.307 1454.1 M208.307 1450.39 Q214.117 1450.39 217.172 1455 Q220.251 1459.58 220.251 1468.33 Q220.251 1477.06 217.172 1481.67 Q214.117 1486.25 208.307 1486.25 Q202.497 1486.25 199.418 1481.67 Q196.362 1477.06 196.362 1468.33 Q196.362 1459.58 199.418 1455 Q202.497 1450.39 208.307 1450.39 Z\" fill=\"#000000\" fill-rule=\"evenodd\" fill-opacity=\"1\" /><path clip-path=\"url(#clip410)\" d=\"M228.469 1479.7 L233.353 1479.7 L233.353 1485.58 L228.469 1485.58 L228.469 1479.7 Z\" fill=\"#000000\" fill-rule=\"evenodd\" fill-opacity=\"1\" /><path clip-path=\"url(#clip410)\" d=\"M253.538 1454.1 Q249.927 1454.1 248.098 1457.66 Q246.293 1461.2 246.293 1468.33 Q246.293 1475.44 248.098 1479.01 Q249.927 1482.55 253.538 1482.55 Q257.172 1482.55 258.978 1479.01 Q260.806 1475.44 260.806 1468.33 Q260.806 1461.2 258.978 1457.66 Q257.172 1454.1 253.538 1454.1 M253.538 1450.39 Q259.348 1450.39 262.404 1455 Q265.482 1459.58 265.482 1468.33 Q265.482 1477.06 262.404 1481.67 Q259.348 1486.25 253.538 1486.25 Q247.728 1486.25 244.649 1481.67 Q241.594 1477.06 241.594 1468.33 Q241.594 1459.58 244.649 1455 Q247.728 1450.39 253.538 1450.39 Z\" fill=\"#000000\" fill-rule=\"evenodd\" fill-opacity=\"1\" /><path clip-path=\"url(#clip410)\" d=\"M648.579 1454.1 Q644.968 1454.1 643.139 1457.66 Q641.334 1461.2 641.334 1468.33 Q641.334 1475.44 643.139 1479.01 Q644.968 1482.55 648.579 1482.55 Q652.213 1482.55 654.019 1479.01 Q655.847 1475.44 655.847 1468.33 Q655.847 1461.2 654.019 1457.66 Q652.213 1454.1 648.579 1454.1 M648.579 1450.39 Q654.389 1450.39 657.445 1455 Q660.523 1459.58 660.523 1468.33 Q660.523 1477.06 657.445 1481.67 Q654.389 1486.25 648.579 1486.25 Q642.769 1486.25 639.69 1481.67 Q636.635 1477.06 636.635 1468.33 Q636.635 1459.58 639.69 1455 Q642.769 1450.39 648.579 1450.39 Z\" fill=\"#000000\" fill-rule=\"evenodd\" fill-opacity=\"1\" /><path clip-path=\"url(#clip410)\" d=\"M668.741 1479.7 L673.625 1479.7 L673.625 1485.58 L668.741 1485.58 L668.741 1479.7 Z\" fill=\"#000000\" fill-rule=\"evenodd\" fill-opacity=\"1\" /><path clip-path=\"url(#clip410)\" d=\"M687.838 1481.64 L704.157 1481.64 L704.157 1485.58 L682.213 1485.58 L682.213 1481.64 Q684.875 1478.89 689.458 1474.26 Q694.065 1469.61 695.245 1468.27 Q697.491 1465.74 698.37 1464.01 Q699.273 1462.25 699.273 1460.56 Q699.273 1457.8 697.329 1456.07 Q695.407 1454.33 692.306 1454.33 Q690.106 1454.33 687.653 1455.09 Q685.222 1455.86 682.444 1457.41 L682.444 1452.69 Q685.269 1451.55 687.722 1450.97 Q690.176 1450.39 692.213 1450.39 Q697.583 1450.39 700.778 1453.08 Q703.972 1455.77 703.972 1460.26 Q703.972 1462.39 703.162 1464.31 Q702.375 1466.2 700.268 1468.8 Q699.69 1469.47 696.588 1472.69 Q693.486 1475.88 687.838 1481.64 Z\" fill=\"#000000\" fill-rule=\"evenodd\" fill-opacity=\"1\" /><path clip-path=\"url(#clip410)\" d=\"M1087.01 1454.1 Q1083.4 1454.1 1081.57 1457.66 Q1079.77 1461.2 1079.77 1468.33 Q1079.77 1475.44 1081.57 1479.01 Q1083.4 1482.55 1087.01 1482.55 Q1090.65 1482.55 1092.45 1479.01 Q1094.28 1475.44 1094.28 1468.33 Q1094.28 1461.2 1092.45 1457.66 Q1090.65 1454.1 1087.01 1454.1 M1087.01 1450.39 Q1092.82 1450.39 1095.88 1455 Q1098.96 1459.58 1098.96 1468.33 Q1098.96 1477.06 1095.88 1481.67 Q1092.82 1486.25 1087.01 1486.25 Q1081.2 1486.25 1078.12 1481.67 Q1075.07 1477.06 1075.07 1468.33 Q1075.07 1459.58 1078.12 1455 Q1081.2 1450.39 1087.01 1450.39 Z\" fill=\"#000000\" fill-rule=\"evenodd\" fill-opacity=\"1\" /><path clip-path=\"url(#clip410)\" d=\"M1107.17 1479.7 L1112.06 1479.7 L1112.06 1485.58 L1107.17 1485.58 L1107.17 1479.7 Z\" fill=\"#000000\" fill-rule=\"evenodd\" fill-opacity=\"1\" /><path clip-path=\"url(#clip410)\" d=\"M1135.09 1455.09 L1123.28 1473.54 L1135.09 1473.54 L1135.09 1455.09 M1133.86 1451.02 L1139.74 1451.02 L1139.74 1473.54 L1144.67 1473.54 L1144.67 1477.43 L1139.74 1477.43 L1139.74 1485.58 L1135.09 1485.58 L1135.09 1477.43 L1119.49 1477.43 L1119.49 1472.92 L1133.86 1451.02 Z\" fill=\"#000000\" fill-rule=\"evenodd\" fill-opacity=\"1\" /><path clip-path=\"url(#clip410)\" d=\"M1526.65 1454.1 Q1523.04 1454.1 1521.21 1457.66 Q1519.4 1461.2 1519.4 1468.33 Q1519.4 1475.44 1521.21 1479.01 Q1523.04 1482.55 1526.65 1482.55 Q1530.28 1482.55 1532.09 1479.01 Q1533.92 1475.44 1533.92 1468.33 Q1533.92 1461.2 1532.09 1457.66 Q1530.28 1454.1 1526.65 1454.1 M1526.65 1450.39 Q1532.46 1450.39 1535.51 1455 Q1538.59 1459.58 1538.59 1468.33 Q1538.59 1477.06 1535.51 1481.67 Q1532.46 1486.25 1526.65 1486.25 Q1520.84 1486.25 1517.76 1481.67 Q1514.7 1477.06 1514.7 1468.33 Q1514.7 1459.58 1517.76 1455 Q1520.84 1450.39 1526.65 1450.39 Z\" fill=\"#000000\" fill-rule=\"evenodd\" fill-opacity=\"1\" /><path clip-path=\"url(#clip410)\" d=\"M1546.81 1479.7 L1551.69 1479.7 L1551.69 1485.58 L1546.81 1485.58 L1546.81 1479.7 Z\" fill=\"#000000\" fill-rule=\"evenodd\" fill-opacity=\"1\" /><path clip-path=\"url(#clip410)\" d=\"M1572.46 1466.44 Q1569.31 1466.44 1567.46 1468.59 Q1565.63 1470.74 1565.63 1474.49 Q1565.63 1478.22 1567.46 1480.39 Q1569.31 1482.55 1572.46 1482.55 Q1575.6 1482.55 1577.43 1480.39 Q1579.29 1478.22 1579.29 1474.49 Q1579.29 1470.74 1577.43 1468.59 Q1575.6 1466.44 1572.46 1466.44 M1581.74 1451.78 L1581.74 1456.04 Q1579.98 1455.21 1578.17 1454.77 Q1576.39 1454.33 1574.63 1454.33 Q1570 1454.33 1567.55 1457.45 Q1565.12 1460.58 1564.77 1466.9 Q1566.14 1464.89 1568.2 1463.82 Q1570.26 1462.73 1572.73 1462.73 Q1577.94 1462.73 1580.95 1465.9 Q1583.98 1469.05 1583.98 1474.49 Q1583.98 1479.82 1580.84 1483.03 Q1577.69 1486.25 1572.46 1486.25 Q1566.46 1486.25 1563.29 1481.67 Q1560.12 1477.06 1560.12 1468.33 Q1560.12 1460.14 1564.01 1455.28 Q1567.9 1450.39 1574.45 1450.39 Q1576.21 1450.39 1577.99 1450.74 Q1579.79 1451.09 1581.74 1451.78 Z\" fill=\"#000000\" fill-rule=\"evenodd\" fill-opacity=\"1\" /><path clip-path=\"url(#clip410)\" d=\"M1966.25 1454.1 Q1962.64 1454.1 1960.81 1457.66 Q1959 1461.2 1959 1468.33 Q1959 1475.44 1960.81 1479.01 Q1962.64 1482.55 1966.25 1482.55 Q1969.88 1482.55 1971.69 1479.01 Q1973.52 1475.44 1973.52 1468.33 Q1973.52 1461.2 1971.69 1457.66 Q1969.88 1454.1 1966.25 1454.1 M1966.25 1450.39 Q1972.06 1450.39 1975.11 1455 Q1978.19 1459.58 1978.19 1468.33 Q1978.19 1477.06 1975.11 1481.67 Q1972.06 1486.25 1966.25 1486.25 Q1960.44 1486.25 1957.36 1481.67 Q1954.3 1477.06 1954.3 1468.33 Q1954.3 1459.58 1957.36 1455 Q1960.44 1450.39 1966.25 1450.39 Z\" fill=\"#000000\" fill-rule=\"evenodd\" fill-opacity=\"1\" /><path clip-path=\"url(#clip410)\" d=\"M1986.41 1479.7 L1991.29 1479.7 L1991.29 1485.58 L1986.41 1485.58 L1986.41 1479.7 Z\" fill=\"#000000\" fill-rule=\"evenodd\" fill-opacity=\"1\" /><path clip-path=\"url(#clip410)\" d=\"M2011.48 1469.17 Q2008.15 1469.17 2006.22 1470.95 Q2004.33 1472.73 2004.33 1475.86 Q2004.33 1478.98 2006.22 1480.77 Q2008.15 1482.55 2011.48 1482.55 Q2014.81 1482.55 2016.73 1480.77 Q2018.65 1478.96 2018.65 1475.86 Q2018.65 1472.73 2016.73 1470.95 Q2014.84 1469.17 2011.48 1469.17 M2006.8 1467.18 Q2003.79 1466.44 2002.1 1464.38 Q2000.44 1462.32 2000.44 1459.35 Q2000.44 1455.21 2003.38 1452.8 Q2006.34 1450.39 2011.48 1450.39 Q2016.64 1450.39 2019.58 1452.8 Q2022.52 1455.21 2022.52 1459.35 Q2022.52 1462.32 2020.83 1464.38 Q2019.16 1466.44 2016.18 1467.18 Q2019.56 1467.96 2021.43 1470.26 Q2023.33 1472.55 2023.33 1475.86 Q2023.33 1480.88 2020.25 1483.57 Q2017.2 1486.25 2011.48 1486.25 Q2005.76 1486.25 2002.68 1483.57 Q1999.63 1480.88 1999.63 1475.86 Q1999.63 1472.55 2001.53 1470.26 Q2003.42 1467.96 2006.8 1467.18 M2005.09 1459.79 Q2005.09 1462.48 2006.76 1463.98 Q2008.45 1465.49 2011.48 1465.49 Q2014.49 1465.49 2016.18 1463.98 Q2017.89 1462.48 2017.89 1459.79 Q2017.89 1457.11 2016.18 1455.6 Q2014.49 1454.1 2011.48 1454.1 Q2008.45 1454.1 2006.76 1455.6 Q2005.09 1457.11 2005.09 1459.79 Z\" fill=\"#000000\" fill-rule=\"evenodd\" fill-opacity=\"1\" /><path clip-path=\"url(#clip410)\" d=\"M1249.7 1540.03 L1272.17 1540.03 L1272.17 1545.45 L1249.7 1545.45 L1249.7 1540.03 M1260.97 1524.88 Q1253.97 1524.88 1249.86 1530.1 Q1245.72 1535.32 1245.72 1544.33 Q1245.72 1553.31 1249.83 1558.53 Q1253.97 1563.75 1260.97 1563.75 Q1267.97 1563.75 1272.08 1558.53 Q1276.15 1553.31 1276.15 1544.33 Q1276.15 1535.32 1272.08 1530.1 Q1267.97 1524.88 1260.97 1524.88 M1260.97 1519.66 Q1270.96 1519.66 1276.95 1526.38 Q1282.93 1533.06 1282.93 1544.33 Q1282.93 1555.57 1276.95 1562.25 Q1270.96 1568.97 1260.97 1568.97 Q1250.94 1568.97 1244.96 1562.28 Q1238.95 1555.6 1238.95 1544.33 Q1238.95 1533.06 1244.96 1526.35 Q1250.94 1519.66 1260.97 1519.66 Z\" fill=\"#000000\" fill-rule=\"evenodd\" fill-opacity=\"1\" /><polyline clip-path=\"url(#clip412)\" style=\"stroke:#000000; stroke-linecap:butt; stroke-linejoin:round; stroke-width:2; stroke-opacity:0.1; fill:none\" points=\"\n",
       "  169.121,1386.4 2352.76,1386.4 \n",
       "  \"/>\n",
       "<polyline clip-path=\"url(#clip412)\" style=\"stroke:#000000; stroke-linecap:butt; stroke-linejoin:round; stroke-width:2; stroke-opacity:0.1; fill:none\" points=\"\n",
       "  169.121,1164.27 2352.76,1164.27 \n",
       "  \"/>\n",
       "<polyline clip-path=\"url(#clip412)\" style=\"stroke:#000000; stroke-linecap:butt; stroke-linejoin:round; stroke-width:2; stroke-opacity:0.1; fill:none\" points=\"\n",
       "  169.121,942.142 2352.76,942.142 \n",
       "  \"/>\n",
       "<polyline clip-path=\"url(#clip412)\" style=\"stroke:#000000; stroke-linecap:butt; stroke-linejoin:round; stroke-width:2; stroke-opacity:0.1; fill:none\" points=\"\n",
       "  169.121,720.016 2352.76,720.016 \n",
       "  \"/>\n",
       "<polyline clip-path=\"url(#clip412)\" style=\"stroke:#000000; stroke-linecap:butt; stroke-linejoin:round; stroke-width:2; stroke-opacity:0.1; fill:none\" points=\"\n",
       "  169.121,497.889 2352.76,497.889 \n",
       "  \"/>\n",
       "<polyline clip-path=\"url(#clip412)\" style=\"stroke:#000000; stroke-linecap:butt; stroke-linejoin:round; stroke-width:2; stroke-opacity:0.1; fill:none\" points=\"\n",
       "  169.121,275.762 2352.76,275.762 \n",
       "  \"/>\n",
       "<polyline clip-path=\"url(#clip410)\" style=\"stroke:#000000; stroke-linecap:butt; stroke-linejoin:round; stroke-width:4; stroke-opacity:1; fill:none\" points=\"\n",
       "  169.121,1423.18 169.121,123.472 \n",
       "  \"/>\n",
       "<polyline clip-path=\"url(#clip410)\" style=\"stroke:#000000; stroke-linecap:butt; stroke-linejoin:round; stroke-width:4; stroke-opacity:1; fill:none\" points=\"\n",
       "  169.121,1386.4 188.019,1386.4 \n",
       "  \"/>\n",
       "<polyline clip-path=\"url(#clip410)\" style=\"stroke:#000000; stroke-linecap:butt; stroke-linejoin:round; stroke-width:4; stroke-opacity:1; fill:none\" points=\"\n",
       "  169.121,1164.27 188.019,1164.27 \n",
       "  \"/>\n",
       "<polyline clip-path=\"url(#clip410)\" style=\"stroke:#000000; stroke-linecap:butt; stroke-linejoin:round; stroke-width:4; stroke-opacity:1; fill:none\" points=\"\n",
       "  169.121,942.142 188.019,942.142 \n",
       "  \"/>\n",
       "<polyline clip-path=\"url(#clip410)\" style=\"stroke:#000000; stroke-linecap:butt; stroke-linejoin:round; stroke-width:4; stroke-opacity:1; fill:none\" points=\"\n",
       "  169.121,720.016 188.019,720.016 \n",
       "  \"/>\n",
       "<polyline clip-path=\"url(#clip410)\" style=\"stroke:#000000; stroke-linecap:butt; stroke-linejoin:round; stroke-width:4; stroke-opacity:1; fill:none\" points=\"\n",
       "  169.121,497.889 188.019,497.889 \n",
       "  \"/>\n",
       "<polyline clip-path=\"url(#clip410)\" style=\"stroke:#000000; stroke-linecap:butt; stroke-linejoin:round; stroke-width:4; stroke-opacity:1; fill:none\" points=\"\n",
       "  169.121,275.762 188.019,275.762 \n",
       "  \"/>\n",
       "<path clip-path=\"url(#clip410)\" d=\"M121.177 1372.19 Q117.566 1372.19 115.737 1375.76 Q113.932 1379.3 113.932 1386.43 Q113.932 1393.54 115.737 1397.1 Q117.566 1400.64 121.177 1400.64 Q124.811 1400.64 126.617 1397.1 Q128.445 1393.54 128.445 1386.43 Q128.445 1379.3 126.617 1375.76 Q124.811 1372.19 121.177 1372.19 M121.177 1368.49 Q126.987 1368.49 130.043 1373.1 Q133.121 1377.68 133.121 1386.43 Q133.121 1395.16 130.043 1399.76 Q126.987 1404.35 121.177 1404.35 Q115.367 1404.35 112.288 1399.76 Q109.233 1395.16 109.233 1386.43 Q109.233 1377.68 112.288 1373.1 Q115.367 1368.49 121.177 1368.49 Z\" fill=\"#000000\" fill-rule=\"evenodd\" fill-opacity=\"1\" /><path clip-path=\"url(#clip410)\" d=\"M86.0382 1177.61 L102.358 1177.61 L102.358 1181.55 L80.4133 1181.55 L80.4133 1177.61 Q83.0753 1174.86 87.6586 1170.23 Q92.2651 1165.58 93.4456 1164.23 Q95.691 1161.71 96.5706 1159.98 Q97.4734 1158.22 97.4734 1156.53 Q97.4734 1153.77 95.5289 1152.04 Q93.6076 1150.3 90.5058 1150.3 Q88.3067 1150.3 85.8531 1151.06 Q83.4225 1151.83 80.6447 1153.38 L80.6447 1148.66 Q83.4688 1147.52 85.9225 1146.94 Q88.3762 1146.36 90.4132 1146.36 Q95.7836 1146.36 98.978 1149.05 Q102.172 1151.73 102.172 1156.23 Q102.172 1158.35 101.362 1160.28 Q100.575 1162.17 98.4687 1164.77 Q97.89 1165.44 94.7882 1168.66 Q91.6864 1171.85 86.0382 1177.61 Z\" fill=\"#000000\" fill-rule=\"evenodd\" fill-opacity=\"1\" /><path clip-path=\"url(#clip410)\" d=\"M112.219 1146.99 L130.575 1146.99 L130.575 1150.92 L116.501 1150.92 L116.501 1159.4 Q117.52 1159.05 118.538 1158.89 Q119.557 1158.7 120.575 1158.7 Q126.362 1158.7 129.742 1161.87 Q133.121 1165.04 133.121 1170.46 Q133.121 1176.04 129.649 1179.14 Q126.177 1182.22 119.857 1182.22 Q117.682 1182.22 115.413 1181.85 Q113.168 1181.48 110.76 1180.74 L110.76 1176.04 Q112.844 1177.17 115.066 1177.73 Q117.288 1178.29 119.765 1178.29 Q123.77 1178.29 126.107 1176.18 Q128.445 1174.07 128.445 1170.46 Q128.445 1166.85 126.107 1164.74 Q123.77 1162.64 119.765 1162.64 Q117.89 1162.64 116.015 1163.05 Q114.163 1163.47 112.219 1164.35 L112.219 1146.99 Z\" fill=\"#000000\" fill-rule=\"evenodd\" fill-opacity=\"1\" /><path clip-path=\"url(#clip410)\" d=\"M81.0614 924.862 L99.4178 924.862 L99.4178 928.797 L85.3438 928.797 L85.3438 937.27 Q86.3623 936.922 87.3808 936.76 Q88.3993 936.575 89.4178 936.575 Q95.2049 936.575 98.5845 939.746 Q101.964 942.918 101.964 948.334 Q101.964 953.913 98.4919 957.015 Q95.0197 960.094 88.7003 960.094 Q86.5243 960.094 84.2558 959.723 Q82.0105 959.353 79.6031 958.612 L79.6031 953.913 Q81.6864 955.047 83.9086 955.603 Q86.1308 956.158 88.6077 956.158 Q92.6123 956.158 94.9502 954.052 Q97.2882 951.945 97.2882 948.334 Q97.2882 944.723 94.9502 942.617 Q92.6123 940.51 88.6077 940.51 Q86.7327 940.51 84.8577 940.927 Q83.0058 941.344 81.0614 942.223 L81.0614 924.862 Z\" fill=\"#000000\" fill-rule=\"evenodd\" fill-opacity=\"1\" /><path clip-path=\"url(#clip410)\" d=\"M121.177 927.941 Q117.566 927.941 115.737 931.506 Q113.932 935.047 113.932 942.177 Q113.932 949.283 115.737 952.848 Q117.566 956.39 121.177 956.39 Q124.811 956.39 126.617 952.848 Q128.445 949.283 128.445 942.177 Q128.445 935.047 126.617 931.506 Q124.811 927.941 121.177 927.941 M121.177 924.237 Q126.987 924.237 130.043 928.844 Q133.121 933.427 133.121 942.177 Q133.121 950.904 130.043 955.51 Q126.987 960.094 121.177 960.094 Q115.367 960.094 112.288 955.51 Q109.233 950.904 109.233 942.177 Q109.233 933.427 112.288 928.844 Q115.367 924.237 121.177 924.237 Z\" fill=\"#000000\" fill-rule=\"evenodd\" fill-opacity=\"1\" /><path clip-path=\"url(#clip410)\" d=\"M80.8299 702.736 L103.052 702.736 L103.052 704.726 L90.5058 737.296 L85.6216 737.296 L97.4271 706.671 L80.8299 706.671 L80.8299 702.736 Z\" fill=\"#000000\" fill-rule=\"evenodd\" fill-opacity=\"1\" /><path clip-path=\"url(#clip410)\" d=\"M112.219 702.736 L130.575 702.736 L130.575 706.671 L116.501 706.671 L116.501 715.143 Q117.52 714.796 118.538 714.634 Q119.557 714.448 120.575 714.448 Q126.362 714.448 129.742 717.62 Q133.121 720.791 133.121 726.208 Q133.121 731.786 129.649 734.888 Q126.177 737.967 119.857 737.967 Q117.682 737.967 115.413 737.597 Q113.168 737.226 110.76 736.485 L110.76 731.786 Q112.844 732.921 115.066 733.476 Q117.288 734.032 119.765 734.032 Q123.77 734.032 126.107 731.925 Q128.445 729.819 128.445 726.208 Q128.445 722.597 126.107 720.49 Q123.77 718.384 119.765 718.384 Q117.89 718.384 116.015 718.8 Q114.163 719.217 112.219 720.097 L112.219 702.736 Z\" fill=\"#000000\" fill-rule=\"evenodd\" fill-opacity=\"1\" /><path clip-path=\"url(#clip410)\" d=\"M51.6634 511.234 L59.3023 511.234 L59.3023 484.868 L50.9921 486.535 L50.9921 482.276 L59.256 480.609 L63.9319 480.609 L63.9319 511.234 L71.5707 511.234 L71.5707 515.169 L51.6634 515.169 L51.6634 511.234 Z\" fill=\"#000000\" fill-rule=\"evenodd\" fill-opacity=\"1\" /><path clip-path=\"url(#clip410)\" d=\"M91.0151 483.688 Q87.404 483.688 85.5753 487.252 Q83.7697 490.794 83.7697 497.924 Q83.7697 505.03 85.5753 508.595 Q87.404 512.136 91.0151 512.136 Q94.6493 512.136 96.4548 508.595 Q98.2835 505.03 98.2835 497.924 Q98.2835 490.794 96.4548 487.252 Q94.6493 483.688 91.0151 483.688 M91.0151 479.984 Q96.8252 479.984 99.8808 484.59 Q102.959 489.174 102.959 497.924 Q102.959 506.65 99.8808 511.257 Q96.8252 515.84 91.0151 515.84 Q85.2049 515.84 82.1262 511.257 Q79.0707 506.65 79.0707 497.924 Q79.0707 489.174 82.1262 484.59 Q85.2049 479.984 91.0151 479.984 Z\" fill=\"#000000\" fill-rule=\"evenodd\" fill-opacity=\"1\" /><path clip-path=\"url(#clip410)\" d=\"M121.177 483.688 Q117.566 483.688 115.737 487.252 Q113.932 490.794 113.932 497.924 Q113.932 505.03 115.737 508.595 Q117.566 512.136 121.177 512.136 Q124.811 512.136 126.617 508.595 Q128.445 505.03 128.445 497.924 Q128.445 490.794 126.617 487.252 Q124.811 483.688 121.177 483.688 M121.177 479.984 Q126.987 479.984 130.043 484.59 Q133.121 489.174 133.121 497.924 Q133.121 506.65 130.043 511.257 Q126.987 515.84 121.177 515.84 Q115.367 515.84 112.288 511.257 Q109.233 506.65 109.233 497.924 Q109.233 489.174 112.288 484.59 Q115.367 479.984 121.177 479.984 Z\" fill=\"#000000\" fill-rule=\"evenodd\" fill-opacity=\"1\" /><path clip-path=\"url(#clip410)\" d=\"M52.6588 289.107 L60.2976 289.107 L60.2976 262.741 L51.9875 264.408 L51.9875 260.149 L60.2513 258.482 L64.9272 258.482 L64.9272 289.107 L72.5661 289.107 L72.5661 293.042 L52.6588 293.042 L52.6588 289.107 Z\" fill=\"#000000\" fill-rule=\"evenodd\" fill-opacity=\"1\" /><path clip-path=\"url(#clip410)\" d=\"M86.0382 289.107 L102.358 289.107 L102.358 293.042 L80.4133 293.042 L80.4133 289.107 Q83.0753 286.352 87.6586 281.723 Q92.2651 277.07 93.4456 275.727 Q95.691 273.204 96.5706 271.468 Q97.4734 269.709 97.4734 268.019 Q97.4734 265.265 95.5289 263.528 Q93.6076 261.792 90.5058 261.792 Q88.3067 261.792 85.8531 262.556 Q83.4225 263.32 80.6447 264.871 L80.6447 260.149 Q83.4688 259.015 85.9225 258.436 Q88.3762 257.857 90.4132 257.857 Q95.7836 257.857 98.978 260.542 Q102.172 263.228 102.172 267.718 Q102.172 269.848 101.362 271.769 Q100.575 273.667 98.4687 276.26 Q97.89 276.931 94.7882 280.149 Q91.6864 283.343 86.0382 289.107 Z\" fill=\"#000000\" fill-rule=\"evenodd\" fill-opacity=\"1\" /><path clip-path=\"url(#clip410)\" d=\"M112.219 258.482 L130.575 258.482 L130.575 262.417 L116.501 262.417 L116.501 270.89 Q117.52 270.542 118.538 270.38 Q119.557 270.195 120.575 270.195 Q126.362 270.195 129.742 273.366 Q133.121 276.538 133.121 281.954 Q133.121 287.533 129.649 290.635 Q126.177 293.713 119.857 293.713 Q117.682 293.713 115.413 293.343 Q113.168 292.973 110.76 292.232 L110.76 287.533 Q112.844 288.667 115.066 289.223 Q117.288 289.778 119.765 289.778 Q123.77 289.778 126.107 287.672 Q128.445 285.565 128.445 281.954 Q128.445 278.343 126.107 276.237 Q123.77 274.13 119.765 274.13 Q117.89 274.13 116.015 274.547 Q114.163 274.964 112.219 275.843 L112.219 258.482 Z\" fill=\"#000000\" fill-rule=\"evenodd\" fill-opacity=\"1\" /><path clip-path=\"url(#clip410)\" d=\"M1106.25 20.1573 L1095.16 50.2555 L1117.39 50.2555 L1106.25 20.1573 M1101.64 12.096 L1110.91 12.096 L1133.96 72.576 L1125.46 72.576 L1119.95 57.061 L1092.68 57.061 L1087.18 72.576 L1078.55 72.576 L1101.64 12.096 Z\" fill=\"#000000\" fill-rule=\"evenodd\" fill-opacity=\"1\" /><path clip-path=\"url(#clip410)\" d=\"M1142.47 9.54393 L1149.92 9.54393 L1149.92 72.576 L1142.47 72.576 L1142.47 9.54393 Z\" fill=\"#000000\" fill-rule=\"evenodd\" fill-opacity=\"1\" /><path clip-path=\"url(#clip410)\" d=\"M1165.52 9.54393 L1172.97 9.54393 L1172.97 72.576 L1165.52 72.576 L1165.52 9.54393 Z\" fill=\"#000000\" fill-rule=\"evenodd\" fill-opacity=\"1\" /><path clip-path=\"url(#clip410)\" d=\"M1222.31 14.324 L1222.31 27.2059 L1237.67 27.2059 L1237.67 32.9987 L1222.31 32.9987 L1222.31 57.6282 Q1222.31 63.1779 1223.81 64.7578 Q1225.35 66.3376 1230.01 66.3376 L1237.67 66.3376 L1237.67 72.576 L1230.01 72.576 Q1221.38 72.576 1218.1 69.3758 Q1214.82 66.1351 1214.82 57.6282 L1214.82 32.9987 L1209.35 32.9987 L1209.35 27.2059 L1214.82 27.2059 L1214.82 14.324 L1222.31 14.324 Z\" fill=\"#000000\" fill-rule=\"evenodd\" fill-opacity=\"1\" /><path clip-path=\"url(#clip410)\" d=\"M1286.28 48.0275 L1286.28 51.6733 L1252.01 51.6733 Q1252.49 59.3701 1256.62 63.421 Q1260.8 67.4314 1268.21 67.4314 Q1272.5 67.4314 1276.51 66.3781 Q1280.57 65.3249 1284.54 63.2184 L1284.54 70.267 Q1280.52 71.9684 1276.31 72.8596 Q1272.1 73.7508 1267.76 73.7508 Q1256.91 73.7508 1250.55 67.4314 Q1244.23 61.1119 1244.23 50.3365 Q1244.23 39.1965 1250.22 32.6746 Q1256.26 26.1121 1266.47 26.1121 Q1275.62 26.1121 1280.93 32.0264 Q1286.28 37.9003 1286.28 48.0275 M1278.82 45.84 Q1278.74 39.7232 1275.38 36.0774 Q1272.06 32.4315 1266.55 32.4315 Q1260.31 32.4315 1256.54 35.9558 Q1252.82 39.4801 1252.25 45.8805 L1278.82 45.84 Z\" fill=\"#000000\" fill-rule=\"evenodd\" fill-opacity=\"1\" /><path clip-path=\"url(#clip410)\" d=\"M1324.8 34.1734 Q1323.55 33.4443 1322.05 33.1202 Q1320.59 32.7556 1318.81 32.7556 Q1312.49 32.7556 1309.08 36.8875 Q1305.72 40.9789 1305.72 48.6757 L1305.72 72.576 L1298.23 72.576 L1298.23 27.2059 L1305.72 27.2059 L1305.72 34.2544 Q1308.07 30.1225 1311.84 28.1376 Q1315.61 26.1121 1320.99 26.1121 Q1321.76 26.1121 1322.69 26.2337 Q1323.63 26.3147 1324.76 26.5172 L1324.8 34.1734 Z\" fill=\"#000000\" fill-rule=\"evenodd\" fill-opacity=\"1\" /><path clip-path=\"url(#clip410)\" d=\"M1366.48 35.9153 Q1369.28 30.8922 1373.17 28.5022 Q1377.06 26.1121 1382.32 26.1121 Q1389.41 26.1121 1393.26 31.0947 Q1397.11 36.0368 1397.11 45.1919 L1397.11 72.576 L1389.62 72.576 L1389.62 45.4349 Q1389.62 38.913 1387.31 35.7533 Q1385 32.5936 1380.26 32.5936 Q1374.47 32.5936 1371.1 36.4419 Q1367.74 40.2903 1367.74 46.9338 L1367.74 72.576 L1360.25 72.576 L1360.25 45.4349 Q1360.25 38.8725 1357.94 35.7533 Q1355.63 32.5936 1350.81 32.5936 Q1345.1 32.5936 1341.73 36.4824 Q1338.37 40.3308 1338.37 46.9338 L1338.37 72.576 L1330.88 72.576 L1330.88 27.2059 L1338.37 27.2059 L1338.37 34.2544 Q1340.92 30.082 1344.49 28.0971 Q1348.05 26.1121 1352.95 26.1121 Q1357.9 26.1121 1361.34 28.6237 Q1364.82 31.1352 1366.48 35.9153 Z\" fill=\"#000000\" fill-rule=\"evenodd\" fill-opacity=\"1\" /><path clip-path=\"url(#clip410)\" d=\"M1440.9 28.5427 L1440.9 35.5912 Q1437.74 33.9709 1434.34 33.1607 Q1430.93 32.3505 1427.29 32.3505 Q1421.74 32.3505 1418.94 34.0519 Q1416.19 35.7533 1416.19 39.156 Q1416.19 41.7486 1418.17 43.2475 Q1420.16 44.7058 1426.15 46.0426 L1428.71 46.6097 Q1436.65 48.3111 1439.97 51.4303 Q1443.33 54.509 1443.33 60.0587 Q1443.33 66.3781 1438.31 70.0644 Q1433.32 73.7508 1424.57 73.7508 Q1420.93 73.7508 1416.96 73.0216 Q1413.03 72.3329 1408.65 70.9151 L1408.65 63.2184 Q1412.79 65.3654 1416.8 66.4591 Q1420.81 67.5124 1424.74 67.5124 Q1430 67.5124 1432.84 65.73 Q1435.67 63.9071 1435.67 60.6258 Q1435.67 57.5877 1433.61 55.9673 Q1431.58 54.3469 1424.66 52.8481 L1422.06 52.2405 Q1415.14 50.7821 1412.06 47.7845 Q1408.98 44.7463 1408.98 39.4801 Q1408.98 33.0797 1413.52 29.5959 Q1418.05 26.1121 1426.4 26.1121 Q1430.53 26.1121 1434.18 26.7198 Q1437.82 27.3274 1440.9 28.5427 Z\" fill=\"#000000\" fill-rule=\"evenodd\" fill-opacity=\"1\" /><polyline clip-path=\"url(#clip412)\" style=\"stroke:#009af9; stroke-linecap:butt; stroke-linejoin:round; stroke-width:4; stroke-opacity:1; fill:none\" points=\"\n",
       "  230.922,1324.2 368.258,1262 505.593,1110.96 642.929,853.292 780.264,684.475 917.6,568.969 1054.94,489.004 1192.27,471.234 1329.61,471.234 1466.94,471.234 \n",
       "  1604.28,444.578 1741.61,355.728 1878.95,231.337 2016.28,195.797 2153.62,169.141 2290.95,160.256 \n",
       "  \"/>\n",
       "<circle clip-path=\"url(#clip412)\" cx=\"230.922\" cy=\"1324.2\" r=\"14\" fill=\"#009af9\" fill-rule=\"evenodd\" fill-opacity=\"1\" stroke=\"#000000\" stroke-opacity=\"1\" stroke-width=\"3.2\"/>\n",
       "<circle clip-path=\"url(#clip412)\" cx=\"368.258\" cy=\"1262\" r=\"14\" fill=\"#009af9\" fill-rule=\"evenodd\" fill-opacity=\"1\" stroke=\"#000000\" stroke-opacity=\"1\" stroke-width=\"3.2\"/>\n",
       "<circle clip-path=\"url(#clip412)\" cx=\"505.593\" cy=\"1110.96\" r=\"14\" fill=\"#009af9\" fill-rule=\"evenodd\" fill-opacity=\"1\" stroke=\"#000000\" stroke-opacity=\"1\" stroke-width=\"3.2\"/>\n",
       "<circle clip-path=\"url(#clip412)\" cx=\"642.929\" cy=\"853.292\" r=\"14\" fill=\"#009af9\" fill-rule=\"evenodd\" fill-opacity=\"1\" stroke=\"#000000\" stroke-opacity=\"1\" stroke-width=\"3.2\"/>\n",
       "<circle clip-path=\"url(#clip412)\" cx=\"780.264\" cy=\"684.475\" r=\"14\" fill=\"#009af9\" fill-rule=\"evenodd\" fill-opacity=\"1\" stroke=\"#000000\" stroke-opacity=\"1\" stroke-width=\"3.2\"/>\n",
       "<circle clip-path=\"url(#clip412)\" cx=\"917.6\" cy=\"568.969\" r=\"14\" fill=\"#009af9\" fill-rule=\"evenodd\" fill-opacity=\"1\" stroke=\"#000000\" stroke-opacity=\"1\" stroke-width=\"3.2\"/>\n",
       "<circle clip-path=\"url(#clip412)\" cx=\"1054.94\" cy=\"489.004\" r=\"14\" fill=\"#009af9\" fill-rule=\"evenodd\" fill-opacity=\"1\" stroke=\"#000000\" stroke-opacity=\"1\" stroke-width=\"3.2\"/>\n",
       "<circle clip-path=\"url(#clip412)\" cx=\"1192.27\" cy=\"471.234\" r=\"14\" fill=\"#009af9\" fill-rule=\"evenodd\" fill-opacity=\"1\" stroke=\"#000000\" stroke-opacity=\"1\" stroke-width=\"3.2\"/>\n",
       "<circle clip-path=\"url(#clip412)\" cx=\"1329.61\" cy=\"471.234\" r=\"14\" fill=\"#009af9\" fill-rule=\"evenodd\" fill-opacity=\"1\" stroke=\"#000000\" stroke-opacity=\"1\" stroke-width=\"3.2\"/>\n",
       "<circle clip-path=\"url(#clip412)\" cx=\"1466.94\" cy=\"471.234\" r=\"14\" fill=\"#009af9\" fill-rule=\"evenodd\" fill-opacity=\"1\" stroke=\"#000000\" stroke-opacity=\"1\" stroke-width=\"3.2\"/>\n",
       "<circle clip-path=\"url(#clip412)\" cx=\"1604.28\" cy=\"444.578\" r=\"14\" fill=\"#009af9\" fill-rule=\"evenodd\" fill-opacity=\"1\" stroke=\"#000000\" stroke-opacity=\"1\" stroke-width=\"3.2\"/>\n",
       "<circle clip-path=\"url(#clip412)\" cx=\"1741.61\" cy=\"355.728\" r=\"14\" fill=\"#009af9\" fill-rule=\"evenodd\" fill-opacity=\"1\" stroke=\"#000000\" stroke-opacity=\"1\" stroke-width=\"3.2\"/>\n",
       "<circle clip-path=\"url(#clip412)\" cx=\"1878.95\" cy=\"231.337\" r=\"14\" fill=\"#009af9\" fill-rule=\"evenodd\" fill-opacity=\"1\" stroke=\"#000000\" stroke-opacity=\"1\" stroke-width=\"3.2\"/>\n",
       "<circle clip-path=\"url(#clip412)\" cx=\"2016.28\" cy=\"195.797\" r=\"14\" fill=\"#009af9\" fill-rule=\"evenodd\" fill-opacity=\"1\" stroke=\"#000000\" stroke-opacity=\"1\" stroke-width=\"3.2\"/>\n",
       "<circle clip-path=\"url(#clip412)\" cx=\"2153.62\" cy=\"169.141\" r=\"14\" fill=\"#009af9\" fill-rule=\"evenodd\" fill-opacity=\"1\" stroke=\"#000000\" stroke-opacity=\"1\" stroke-width=\"3.2\"/>\n",
       "<circle clip-path=\"url(#clip412)\" cx=\"2290.95\" cy=\"160.256\" r=\"14\" fill=\"#009af9\" fill-rule=\"evenodd\" fill-opacity=\"1\" stroke=\"#000000\" stroke-opacity=\"1\" stroke-width=\"3.2\"/>\n",
       "<polyline clip-path=\"url(#clip412)\" style=\"stroke:#e26f46; stroke-linecap:butt; stroke-linejoin:round; stroke-width:4; stroke-opacity:1; fill:none\" points=\"\n",
       "  230.922,222.452 368.258,284.647 505.593,435.693 642.929,693.36 780.264,862.177 917.6,977.683 1054.94,1057.65 1192.27,1075.42 1329.61,1075.42 1466.94,1075.42 \n",
       "  1604.28,1102.07 1741.61,1190.92 1878.95,1315.32 2016.28,1350.86 2153.62,1377.51 2290.95,1386.4 \n",
       "  \"/>\n",
       "<circle clip-path=\"url(#clip412)\" cx=\"230.922\" cy=\"222.452\" r=\"14\" fill=\"#e26f46\" fill-rule=\"evenodd\" fill-opacity=\"1\" stroke=\"#000000\" stroke-opacity=\"1\" stroke-width=\"3.2\"/>\n",
       "<circle clip-path=\"url(#clip412)\" cx=\"368.258\" cy=\"284.647\" r=\"14\" fill=\"#e26f46\" fill-rule=\"evenodd\" fill-opacity=\"1\" stroke=\"#000000\" stroke-opacity=\"1\" stroke-width=\"3.2\"/>\n",
       "<circle clip-path=\"url(#clip412)\" cx=\"505.593\" cy=\"435.693\" r=\"14\" fill=\"#e26f46\" fill-rule=\"evenodd\" fill-opacity=\"1\" stroke=\"#000000\" stroke-opacity=\"1\" stroke-width=\"3.2\"/>\n",
       "<circle clip-path=\"url(#clip412)\" cx=\"642.929\" cy=\"693.36\" r=\"14\" fill=\"#e26f46\" fill-rule=\"evenodd\" fill-opacity=\"1\" stroke=\"#000000\" stroke-opacity=\"1\" stroke-width=\"3.2\"/>\n",
       "<circle clip-path=\"url(#clip412)\" cx=\"780.264\" cy=\"862.177\" r=\"14\" fill=\"#e26f46\" fill-rule=\"evenodd\" fill-opacity=\"1\" stroke=\"#000000\" stroke-opacity=\"1\" stroke-width=\"3.2\"/>\n",
       "<circle clip-path=\"url(#clip412)\" cx=\"917.6\" cy=\"977.683\" r=\"14\" fill=\"#e26f46\" fill-rule=\"evenodd\" fill-opacity=\"1\" stroke=\"#000000\" stroke-opacity=\"1\" stroke-width=\"3.2\"/>\n",
       "<circle clip-path=\"url(#clip412)\" cx=\"1054.94\" cy=\"1057.65\" r=\"14\" fill=\"#e26f46\" fill-rule=\"evenodd\" fill-opacity=\"1\" stroke=\"#000000\" stroke-opacity=\"1\" stroke-width=\"3.2\"/>\n",
       "<circle clip-path=\"url(#clip412)\" cx=\"1192.27\" cy=\"1075.42\" r=\"14\" fill=\"#e26f46\" fill-rule=\"evenodd\" fill-opacity=\"1\" stroke=\"#000000\" stroke-opacity=\"1\" stroke-width=\"3.2\"/>\n",
       "<circle clip-path=\"url(#clip412)\" cx=\"1329.61\" cy=\"1075.42\" r=\"14\" fill=\"#e26f46\" fill-rule=\"evenodd\" fill-opacity=\"1\" stroke=\"#000000\" stroke-opacity=\"1\" stroke-width=\"3.2\"/>\n",
       "<circle clip-path=\"url(#clip412)\" cx=\"1466.94\" cy=\"1075.42\" r=\"14\" fill=\"#e26f46\" fill-rule=\"evenodd\" fill-opacity=\"1\" stroke=\"#000000\" stroke-opacity=\"1\" stroke-width=\"3.2\"/>\n",
       "<circle clip-path=\"url(#clip412)\" cx=\"1604.28\" cy=\"1102.07\" r=\"14\" fill=\"#e26f46\" fill-rule=\"evenodd\" fill-opacity=\"1\" stroke=\"#000000\" stroke-opacity=\"1\" stroke-width=\"3.2\"/>\n",
       "<circle clip-path=\"url(#clip412)\" cx=\"1741.61\" cy=\"1190.92\" r=\"14\" fill=\"#e26f46\" fill-rule=\"evenodd\" fill-opacity=\"1\" stroke=\"#000000\" stroke-opacity=\"1\" stroke-width=\"3.2\"/>\n",
       "<circle clip-path=\"url(#clip412)\" cx=\"1878.95\" cy=\"1315.32\" r=\"14\" fill=\"#e26f46\" fill-rule=\"evenodd\" fill-opacity=\"1\" stroke=\"#000000\" stroke-opacity=\"1\" stroke-width=\"3.2\"/>\n",
       "<circle clip-path=\"url(#clip412)\" cx=\"2016.28\" cy=\"1350.86\" r=\"14\" fill=\"#e26f46\" fill-rule=\"evenodd\" fill-opacity=\"1\" stroke=\"#000000\" stroke-opacity=\"1\" stroke-width=\"3.2\"/>\n",
       "<circle clip-path=\"url(#clip412)\" cx=\"2153.62\" cy=\"1377.51\" r=\"14\" fill=\"#e26f46\" fill-rule=\"evenodd\" fill-opacity=\"1\" stroke=\"#000000\" stroke-opacity=\"1\" stroke-width=\"3.2\"/>\n",
       "<circle clip-path=\"url(#clip412)\" cx=\"2290.95\" cy=\"1386.4\" r=\"14\" fill=\"#e26f46\" fill-rule=\"evenodd\" fill-opacity=\"1\" stroke=\"#000000\" stroke-opacity=\"1\" stroke-width=\"3.2\"/>\n",
       "<path clip-path=\"url(#clip410)\" d=\"\n",
       "M1657.99 825.166 L2279.97 825.166 L2279.97 669.646 L1657.99 669.646  Z\n",
       "  \" fill=\"#ffffff\" fill-rule=\"evenodd\" fill-opacity=\"1\"/>\n",
       "<polyline clip-path=\"url(#clip410)\" style=\"stroke:#000000; stroke-linecap:butt; stroke-linejoin:round; stroke-width:4; stroke-opacity:1; fill:none\" points=\"\n",
       "  1657.99,825.166 2279.97,825.166 2279.97,669.646 1657.99,669.646 1657.99,825.166 \n",
       "  \"/>\n",
       "<polyline clip-path=\"url(#clip410)\" style=\"stroke:#009af9; stroke-linecap:butt; stroke-linejoin:round; stroke-width:4; stroke-opacity:1; fill:none\" points=\"\n",
       "  1682.25,721.486 1827.83,721.486 \n",
       "  \"/>\n",
       "<circle clip-path=\"url(#clip410)\" cx=\"1755.04\" cy=\"721.486\" r=\"23\" fill=\"#009af9\" fill-rule=\"evenodd\" fill-opacity=\"1\" stroke=\"#000000\" stroke-opacity=\"1\" stroke-width=\"5.12\"/>\n",
       "<path clip-path=\"url(#clip410)\" d=\"M1872.67 717.91 L1865.94 717.91 L1863.99 725.641 L1870.77 725.641 L1872.67 717.91 M1869.2 704.738 L1866.79 714.345 L1873.55 714.345 L1875.98 704.738 L1879.69 704.738 L1877.3 714.345 L1884.52 714.345 L1884.52 717.91 L1876.4 717.91 L1874.5 725.641 L1881.86 725.641 L1881.86 729.183 L1873.6 729.183 L1871.19 738.766 L1867.49 738.766 L1869.87 729.183 L1863.09 729.183 L1860.7 738.766 L1856.98 738.766 L1859.38 729.183 L1852.09 729.183 L1852.09 725.641 L1860.24 725.641 L1862.19 717.91 L1854.73 717.91 L1854.73 714.345 L1863.09 714.345 L1865.45 704.738 L1869.2 704.738 Z\" fill=\"#000000\" fill-rule=\"evenodd\" fill-opacity=\"1\" /><path clip-path=\"url(#clip410)\" d=\"M1926.31 725.826 Q1926.31 721.127 1924.36 718.465 Q1922.44 715.78 1919.06 715.78 Q1915.68 715.78 1913.74 718.465 Q1911.81 721.127 1911.81 725.826 Q1911.81 730.525 1913.74 733.21 Q1915.68 735.872 1919.06 735.872 Q1922.44 735.872 1924.36 733.21 Q1926.31 730.525 1926.31 725.826 M1911.81 716.775 Q1913.16 714.461 1915.19 713.349 Q1917.25 712.215 1920.1 712.215 Q1924.82 712.215 1927.76 715.965 Q1930.73 719.715 1930.73 725.826 Q1930.73 731.937 1927.76 735.687 Q1924.82 739.437 1920.1 739.437 Q1917.25 739.437 1915.19 738.326 Q1913.16 737.192 1911.81 734.877 L1911.81 738.766 L1907.53 738.766 L1907.53 702.748 L1911.81 702.748 L1911.81 716.775 Z\" fill=\"#000000\" fill-rule=\"evenodd\" fill-opacity=\"1\" /><path clip-path=\"url(#clip410)\" d=\"M1949.57 725.734 Q1944.41 725.734 1942.42 726.914 Q1940.43 728.095 1940.43 730.942 Q1940.43 733.21 1941.91 734.553 Q1943.41 735.872 1945.98 735.872 Q1949.52 735.872 1951.65 733.372 Q1953.81 730.849 1953.81 726.683 L1953.81 725.734 L1949.57 725.734 M1958.06 723.974 L1958.06 738.766 L1953.81 738.766 L1953.81 734.831 Q1952.35 737.192 1950.17 738.326 Q1948 739.437 1944.85 739.437 Q1940.87 739.437 1938.5 737.215 Q1936.17 734.97 1936.17 731.22 Q1936.17 726.845 1939.08 724.623 Q1942.02 722.4 1947.83 722.4 L1953.81 722.4 L1953.81 721.984 Q1953.81 719.044 1951.86 717.447 Q1949.94 715.826 1946.44 715.826 Q1944.22 715.826 1942.12 716.359 Q1940.01 716.891 1938.06 717.956 L1938.06 714.021 Q1940.4 713.118 1942.6 712.678 Q1944.8 712.215 1946.88 712.215 Q1952.51 712.215 1955.29 715.132 Q1958.06 718.049 1958.06 723.974 Z\" fill=\"#000000\" fill-rule=\"evenodd\" fill-opacity=\"1\" /><path clip-path=\"url(#clip410)\" d=\"M1966.84 702.748 L1971.1 702.748 L1971.1 738.766 L1966.84 738.766 L1966.84 702.748 Z\" fill=\"#000000\" fill-rule=\"evenodd\" fill-opacity=\"1\" /><path clip-path=\"url(#clip410)\" d=\"M1991.79 725.734 Q1986.63 725.734 1984.64 726.914 Q1982.65 728.095 1982.65 730.942 Q1982.65 733.21 1984.13 734.553 Q1985.63 735.872 1988.2 735.872 Q1991.75 735.872 1993.87 733.372 Q1996.03 730.849 1996.03 726.683 L1996.03 725.734 L1991.79 725.734 M2000.29 723.974 L2000.29 738.766 L1996.03 738.766 L1996.03 734.831 Q1994.57 737.192 1992.39 738.326 Q1990.22 739.437 1987.07 739.437 Q1983.09 739.437 1980.73 737.215 Q1978.39 734.97 1978.39 731.22 Q1978.39 726.845 1981.31 724.623 Q1984.25 722.4 1990.06 722.4 L1996.03 722.4 L1996.03 721.984 Q1996.03 719.044 1994.08 717.447 Q1992.16 715.826 1988.67 715.826 Q1986.44 715.826 1984.34 716.359 Q1982.23 716.891 1980.29 717.956 L1980.29 714.021 Q1982.62 713.118 1984.82 712.678 Q1987.02 712.215 1989.11 712.215 Q1994.73 712.215 1997.51 715.132 Q2000.29 718.049 2000.29 723.974 Z\" fill=\"#000000\" fill-rule=\"evenodd\" fill-opacity=\"1\" /><path clip-path=\"url(#clip410)\" d=\"M2030.61 723.118 L2030.61 738.766 L2026.35 738.766 L2026.35 723.257 Q2026.35 719.576 2024.92 717.748 Q2023.48 715.919 2020.61 715.919 Q2017.16 715.919 2015.17 718.118 Q2013.18 720.317 2013.18 724.113 L2013.18 738.766 L2008.9 738.766 L2008.9 712.84 L2013.18 712.84 L2013.18 716.868 Q2014.71 714.53 2016.77 713.373 Q2018.85 712.215 2021.56 712.215 Q2026.03 712.215 2028.32 714.993 Q2030.61 717.748 2030.61 723.118 Z\" fill=\"#000000\" fill-rule=\"evenodd\" fill-opacity=\"1\" /><path clip-path=\"url(#clip410)\" d=\"M2057.76 713.836 L2057.76 717.817 Q2055.96 716.822 2054.13 716.336 Q2052.32 715.826 2050.47 715.826 Q2046.33 715.826 2044.04 718.465 Q2041.74 721.081 2041.74 725.826 Q2041.74 730.572 2044.04 733.21 Q2046.33 735.826 2050.47 735.826 Q2052.32 735.826 2054.13 735.34 Q2055.96 734.831 2057.76 733.835 L2057.76 737.771 Q2055.98 738.604 2054.06 739.021 Q2052.16 739.437 2050.01 739.437 Q2044.15 739.437 2040.7 735.757 Q2037.25 732.076 2037.25 725.826 Q2037.25 719.484 2040.73 715.849 Q2044.22 712.215 2050.29 712.215 Q2052.25 712.215 2054.13 712.632 Q2056 713.025 2057.76 713.836 Z\" fill=\"#000000\" fill-rule=\"evenodd\" fill-opacity=\"1\" /><path clip-path=\"url(#clip410)\" d=\"M2087.35 724.738 L2087.35 726.822 L2067.76 726.822 Q2068.04 731.22 2070.4 733.535 Q2072.79 735.826 2077.02 735.826 Q2079.48 735.826 2081.77 735.224 Q2084.08 734.622 2086.35 733.419 L2086.35 737.447 Q2084.06 738.419 2081.65 738.928 Q2079.24 739.437 2076.77 739.437 Q2070.56 739.437 2066.93 735.826 Q2063.32 732.215 2063.32 726.058 Q2063.32 719.692 2066.74 715.965 Q2070.19 712.215 2076.03 712.215 Q2081.26 712.215 2084.29 715.595 Q2087.35 718.951 2087.35 724.738 M2083.09 723.488 Q2083.04 719.993 2081.12 717.91 Q2079.22 715.826 2076.07 715.826 Q2072.51 715.826 2070.36 717.84 Q2068.23 719.854 2067.9 723.511 L2083.09 723.488 Z\" fill=\"#000000\" fill-rule=\"evenodd\" fill-opacity=\"1\" /><path clip-path=\"url(#clip410)\" d=\"M2111.4 716.775 L2111.4 702.748 L2115.66 702.748 L2115.66 738.766 L2111.4 738.766 L2111.4 734.877 Q2110.05 737.192 2107.99 738.326 Q2105.96 739.437 2103.09 739.437 Q2098.39 739.437 2095.43 735.687 Q2092.49 731.937 2092.49 725.826 Q2092.49 719.715 2095.43 715.965 Q2098.39 712.215 2103.09 712.215 Q2105.96 712.215 2107.99 713.349 Q2110.05 714.461 2111.4 716.775 M2096.88 725.826 Q2096.88 730.525 2098.8 733.21 Q2100.75 735.872 2104.13 735.872 Q2107.51 735.872 2109.45 733.21 Q2111.4 730.525 2111.4 725.826 Q2111.4 721.127 2109.45 718.465 Q2107.51 715.78 2104.13 715.78 Q2100.75 715.78 2098.8 718.465 Q2096.88 721.127 2096.88 725.826 Z\" fill=\"#000000\" fill-rule=\"evenodd\" fill-opacity=\"1\" /><path clip-path=\"url(#clip410)\" d=\"M2139.13 741.96 L2167.39 741.96 L2153.25 713.581 L2139.13 741.96 M2135.17 744.599 L2153.25 708.303 L2171.35 744.599 L2135.17 744.599 Z\" fill=\"#000000\" fill-rule=\"evenodd\" fill-opacity=\"1\" /><polyline clip-path=\"url(#clip410)\" style=\"stroke:#e26f46; stroke-linecap:butt; stroke-linejoin:round; stroke-width:4; stroke-opacity:1; fill:none\" points=\"\n",
       "  1682.25,773.326 1827.83,773.326 \n",
       "  \"/>\n",
       "<circle clip-path=\"url(#clip410)\" cx=\"1755.04\" cy=\"773.326\" r=\"23\" fill=\"#e26f46\" fill-rule=\"evenodd\" fill-opacity=\"1\" stroke=\"#000000\" stroke-opacity=\"1\" stroke-width=\"5.12\"/>\n",
       "<path clip-path=\"url(#clip410)\" d=\"M1872.67 769.75 L1865.94 769.75 L1863.99 777.481 L1870.77 777.481 L1872.67 769.75 M1869.2 756.578 L1866.79 766.185 L1873.55 766.185 L1875.98 756.578 L1879.69 756.578 L1877.3 766.185 L1884.52 766.185 L1884.52 769.75 L1876.4 769.75 L1874.5 777.481 L1881.86 777.481 L1881.86 781.023 L1873.6 781.023 L1871.19 790.606 L1867.49 790.606 L1869.87 781.023 L1863.09 781.023 L1860.7 790.606 L1856.98 790.606 L1859.38 781.023 L1852.09 781.023 L1852.09 777.481 L1860.24 777.481 L1862.19 769.75 L1854.73 769.75 L1854.73 766.185 L1863.09 766.185 L1865.45 756.578 L1869.2 756.578 Z\" fill=\"#000000\" fill-rule=\"evenodd\" fill-opacity=\"1\" /><path clip-path=\"url(#clip410)\" d=\"M1907.25 780.375 L1907.25 764.68 L1911.51 764.68 L1911.51 780.213 Q1911.51 783.893 1912.95 785.745 Q1914.38 787.574 1917.25 787.574 Q1920.7 787.574 1922.69 785.375 Q1924.71 783.175 1924.71 779.379 L1924.71 764.68 L1928.97 764.68 L1928.97 790.606 L1924.71 790.606 L1924.71 786.625 Q1923.16 788.986 1921.1 790.143 Q1919.06 791.277 1916.35 791.277 Q1911.88 791.277 1909.57 788.5 Q1907.25 785.722 1907.25 780.375 M1917.97 764.055 L1917.97 764.055 Z\" fill=\"#000000\" fill-rule=\"evenodd\" fill-opacity=\"1\" /><path clip-path=\"url(#clip410)\" d=\"M1959.29 774.958 L1959.29 790.606 L1955.03 790.606 L1955.03 775.097 Q1955.03 771.416 1953.6 769.588 Q1952.16 767.759 1949.29 767.759 Q1945.84 767.759 1943.85 769.958 Q1941.86 772.157 1941.86 775.953 L1941.86 790.606 L1937.58 790.606 L1937.58 764.68 L1941.86 764.68 L1941.86 768.708 Q1943.39 766.37 1945.45 765.213 Q1947.53 764.055 1950.24 764.055 Q1954.71 764.055 1957 766.833 Q1959.29 769.588 1959.29 774.958 Z\" fill=\"#000000\" fill-rule=\"evenodd\" fill-opacity=\"1\" /><path clip-path=\"url(#clip410)\" d=\"M1986.4 777.666 Q1986.4 772.967 1984.45 770.305 Q1982.53 767.62 1979.15 767.62 Q1975.77 767.62 1973.83 770.305 Q1971.91 772.967 1971.91 777.666 Q1971.91 782.365 1973.83 785.05 Q1975.77 787.712 1979.15 787.712 Q1982.53 787.712 1984.45 785.05 Q1986.4 782.365 1986.4 777.666 M1971.91 768.615 Q1973.25 766.301 1975.29 765.189 Q1977.35 764.055 1980.19 764.055 Q1984.92 764.055 1987.86 767.805 Q1990.82 771.555 1990.82 777.666 Q1990.82 783.777 1987.86 787.527 Q1984.92 791.277 1980.19 791.277 Q1977.35 791.277 1975.29 790.166 Q1973.25 789.032 1971.91 786.717 L1971.91 790.606 L1967.62 790.606 L1967.62 754.588 L1971.91 754.588 L1971.91 768.615 Z\" fill=\"#000000\" fill-rule=\"evenodd\" fill-opacity=\"1\" /><path clip-path=\"url(#clip410)\" d=\"M2009.66 777.574 Q2004.5 777.574 2002.51 778.754 Q2000.52 779.935 2000.52 782.782 Q2000.52 785.05 2002 786.393 Q2003.5 787.712 2006.07 787.712 Q2009.62 787.712 2011.74 785.212 Q2013.9 782.689 2013.9 778.523 L2013.9 777.574 L2009.66 777.574 M2018.16 775.814 L2018.16 790.606 L2013.9 790.606 L2013.9 786.671 Q2012.44 789.032 2010.26 790.166 Q2008.09 791.277 2004.94 791.277 Q2000.96 791.277 1998.6 789.055 Q1996.26 786.81 1996.26 783.06 Q1996.26 778.685 1999.18 776.463 Q2002.12 774.24 2007.93 774.24 L2013.9 774.24 L2013.9 773.824 Q2013.9 770.884 2011.95 769.287 Q2010.03 767.666 2006.54 767.666 Q2004.31 767.666 2002.21 768.199 Q2000.1 768.731 1998.16 769.796 L1998.16 765.861 Q2000.5 764.958 2002.69 764.518 Q2004.89 764.055 2006.98 764.055 Q2012.6 764.055 2015.38 766.972 Q2018.16 769.889 2018.16 775.814 Z\" fill=\"#000000\" fill-rule=\"evenodd\" fill-opacity=\"1\" /><path clip-path=\"url(#clip410)\" d=\"M2026.93 754.588 L2031.19 754.588 L2031.19 790.606 L2026.93 790.606 L2026.93 754.588 Z\" fill=\"#000000\" fill-rule=\"evenodd\" fill-opacity=\"1\" /><path clip-path=\"url(#clip410)\" d=\"M2051.88 777.574 Q2046.72 777.574 2044.73 778.754 Q2042.74 779.935 2042.74 782.782 Q2042.74 785.05 2044.22 786.393 Q2045.73 787.712 2048.3 787.712 Q2051.84 787.712 2053.97 785.212 Q2056.12 782.689 2056.12 778.523 L2056.12 777.574 L2051.88 777.574 M2060.38 775.814 L2060.38 790.606 L2056.12 790.606 L2056.12 786.671 Q2054.66 789.032 2052.49 790.166 Q2050.31 791.277 2047.16 791.277 Q2043.18 791.277 2040.82 789.055 Q2038.48 786.81 2038.48 783.06 Q2038.48 778.685 2041.4 776.463 Q2044.34 774.24 2050.15 774.24 L2056.12 774.24 L2056.12 773.824 Q2056.12 770.884 2054.18 769.287 Q2052.25 767.666 2048.76 767.666 Q2046.54 767.666 2044.43 768.199 Q2042.32 768.731 2040.38 769.796 L2040.38 765.861 Q2042.72 764.958 2044.92 764.518 Q2047.12 764.055 2049.2 764.055 Q2054.82 764.055 2057.6 766.972 Q2060.38 769.889 2060.38 775.814 Z\" fill=\"#000000\" fill-rule=\"evenodd\" fill-opacity=\"1\" /><path clip-path=\"url(#clip410)\" d=\"M2090.7 774.958 L2090.7 790.606 L2086.44 790.606 L2086.44 775.097 Q2086.44 771.416 2085.01 769.588 Q2083.57 767.759 2080.7 767.759 Q2077.25 767.759 2075.26 769.958 Q2073.27 772.157 2073.27 775.953 L2073.27 790.606 L2068.99 790.606 L2068.99 764.68 L2073.27 764.68 L2073.27 768.708 Q2074.8 766.37 2076.86 765.213 Q2078.94 764.055 2081.65 764.055 Q2086.12 764.055 2088.41 766.833 Q2090.7 769.588 2090.7 774.958 Z\" fill=\"#000000\" fill-rule=\"evenodd\" fill-opacity=\"1\" /><path clip-path=\"url(#clip410)\" d=\"M2117.86 765.676 L2117.86 769.657 Q2116.05 768.662 2114.22 768.176 Q2112.42 767.666 2110.56 767.666 Q2106.42 767.666 2104.13 770.305 Q2101.84 772.921 2101.84 777.666 Q2101.84 782.412 2104.13 785.05 Q2106.42 787.666 2110.56 787.666 Q2112.42 787.666 2114.22 787.18 Q2116.05 786.671 2117.86 785.675 L2117.86 789.611 Q2116.07 790.444 2114.15 790.861 Q2112.25 791.277 2110.1 791.277 Q2104.24 791.277 2100.8 787.597 Q2097.35 783.916 2097.35 777.666 Q2097.35 771.324 2100.82 767.689 Q2104.31 764.055 2110.38 764.055 Q2112.35 764.055 2114.22 764.472 Q2116.1 764.865 2117.86 765.676 Z\" fill=\"#000000\" fill-rule=\"evenodd\" fill-opacity=\"1\" /><path clip-path=\"url(#clip410)\" d=\"M2147.44 776.578 L2147.44 778.662 L2127.86 778.662 Q2128.13 783.06 2130.49 785.375 Q2132.88 787.666 2137.11 787.666 Q2139.57 787.666 2141.86 787.064 Q2144.17 786.462 2146.44 785.259 L2146.44 789.287 Q2144.15 790.259 2141.74 790.768 Q2139.34 791.277 2136.86 791.277 Q2130.66 791.277 2127.02 787.666 Q2123.41 784.055 2123.41 777.898 Q2123.41 771.532 2126.84 767.805 Q2130.29 764.055 2136.12 764.055 Q2141.35 764.055 2144.38 767.435 Q2147.44 770.791 2147.44 776.578 M2143.18 775.328 Q2143.13 771.833 2141.21 769.75 Q2139.31 767.666 2136.17 767.666 Q2132.6 767.666 2130.45 769.68 Q2128.32 771.694 2127.99 775.351 L2143.18 775.328 Z\" fill=\"#000000\" fill-rule=\"evenodd\" fill-opacity=\"1\" /><path clip-path=\"url(#clip410)\" d=\"M2171.49 768.615 L2171.49 754.588 L2175.75 754.588 L2175.75 790.606 L2171.49 790.606 L2171.49 786.717 Q2170.15 789.032 2168.09 790.166 Q2166.05 791.277 2163.18 791.277 Q2158.48 791.277 2155.52 787.527 Q2152.58 783.777 2152.58 777.666 Q2152.58 771.555 2155.52 767.805 Q2158.48 764.055 2163.18 764.055 Q2166.05 764.055 2168.09 765.189 Q2170.15 766.301 2171.49 768.615 M2156.98 777.666 Q2156.98 782.365 2158.9 785.05 Q2160.84 787.712 2164.22 787.712 Q2167.6 787.712 2169.55 785.05 Q2171.49 782.365 2171.49 777.666 Q2171.49 772.967 2169.55 770.305 Q2167.6 767.62 2164.22 767.62 Q2160.84 767.62 2158.9 770.305 Q2156.98 772.967 2156.98 777.666 Z\" fill=\"#000000\" fill-rule=\"evenodd\" fill-opacity=\"1\" /><path clip-path=\"url(#clip410)\" d=\"M2199.22 793.8 L2227.48 793.8 L2213.34 765.421 L2199.22 793.8 M2195.26 796.439 L2213.34 760.143 L2231.44 796.439 L2195.26 796.439 Z\" fill=\"#000000\" fill-rule=\"evenodd\" fill-opacity=\"1\" /></svg>\n"
      ]
     },
     "metadata": {},
     "output_type": "display_data"
    }
   ],
   "source": [
    "\n",
    "plot(ths, sum(num_bal_triads, dims = 2), markershape = :circle, label = \"# balanced △\", legend = :right)\n",
    "plot!(ths, sum(num_unbal_triads, dims = 2), markershape = :circle, label = \"# unbalanced △\")\n",
    "title!(\"All terms\")\n",
    "xlabel!(\"Θ\")"
   ]
  },
  {
   "cell_type": "code",
   "execution_count": null,
   "metadata": {},
   "outputs": [],
   "source": []
  }
 ],
 "metadata": {
  "kernelspec": {
   "display_name": "Julia 1.6.4",
   "language": "julia",
   "name": "julia-1.6"
  },
  "language_info": {
   "file_extension": ".jl",
   "mimetype": "application/julia",
   "name": "julia",
   "version": "1.6.4"
  },
  "orig_nbformat": 4
 },
 "nbformat": 4,
 "nbformat_minor": 2
}

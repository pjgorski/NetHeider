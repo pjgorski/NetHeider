{
 "cells": [
  {
   "cell_type": "code",
   "execution_count": 1,
   "id": "southeast-accused",
   "metadata": {},
   "outputs": [],
   "source": [
    "import pickle\n",
    "import networkx as nx\n",
    "import numpy as np\n",
    "import pandas as pd\n",
    "\n",
    "from scipy import stats\n",
    "\n",
    "import matplotlib.pyplot as plt\n",
    "\n",
    "from datetime import datetime\n",
    "\n",
    "import statsmodels.api as sm\n",
    "import pylab as py"
   ]
  },
  {
   "cell_type": "code",
   "execution_count": 2,
   "id": "realistic-syntax",
   "metadata": {},
   "outputs": [
    {
     "name": "stdout",
     "output_type": "stream",
     "text": [
      "Showing the pickled data:\n",
      "The data  0  is :  1\n",
      "The data  1  is :  2\n",
      "The data  2  is :  3\n",
      "The data  3  is :  4\n",
      "The data  4  is :  5\n",
      "The data  5  is :  6\n"
     ]
    }
   ],
   "source": [
    "file = open('NetSense_network.pkl', 'rb')\n",
    "# dump information to that file\n",
    "data = pickle.load(file)\n",
    "\n",
    "# close the file\n",
    "file.close()\n",
    "\n",
    "print('Showing the pickled data:')\n",
    "\n",
    "cnt = 0\n",
    "for item in data:\n",
    "    print('The data ', cnt, ' is : ', item)\n",
    "    cnt += 1"
   ]
  },
  {
   "cell_type": "code",
   "execution_count": 3,
   "id": "social-collection",
   "metadata": {},
   "outputs": [
    {
     "data": {
      "text/plain": [
       "1"
      ]
     },
     "execution_count": 3,
     "metadata": {},
     "output_type": "execute_result"
    }
   ],
   "source": [
    "data[6].nodes[75261]['hometown_1']"
   ]
  },
  {
   "cell_type": "code",
   "execution_count": 4,
   "id": "civil-fields",
   "metadata": {},
   "outputs": [
    {
     "data": {
      "image/png": "[encoded data removed]",
      "text/plain": [
       "<Figure size 432x288 with 1 Axes>"
      ]
     },
     "metadata": {},
     "output_type": "display_data"
    }
   ],
   "source": [
    "nx.draw(data[6])"
   ]
  },
  {
   "cell_type": "code",
   "execution_count": 5,
   "id": "sharing-england",
   "metadata": {},
   "outputs": [
    {
     "data": {
      "text/plain": [
       "NodeDataView({75178: {'age_1': 1, 'hometown_1': 1, 'ethnicity_1': 2, 'gender_1': 2, 'premaritalsex_': 3, 'euthanasia_': 3, 'deathpen_': 3, 'gaymarriage_': 3, 'marijuana_': 2, 'political_': 1, 'abortion_': 3, 'homosexual_': 3}, 30952: {'age_1': 1, 'hometown_1': 1, 'ethnicity_1': 2, 'gender_1': 2, 'premaritalsex_': 2, 'euthanasia_': 2, 'deathpen_': 2, 'gaymarriage_': 1, 'marijuana_': 3, 'political_': 1, 'abortion_': 2, 'homosexual_': 2}, 13116: {'age_1': 1, 'hometown_1': 1, 'ethnicity_1': 2, 'gender_1': 1, 'premaritalsex_': 3, 'euthanasia_': 3, 'deathpen_': 3, 'gaymarriage_': 3, 'marijuana_': 3, 'political_': 3, 'abortion_': 3, 'homosexual_': 1}, 62555: {'age_1': 2, 'hometown_1': 1, 'ethnicity_1': 2, 'gender_1': 1, 'premaritalsex_': 3, 'euthanasia_': 1, 'deathpen_': 1, 'gaymarriage_': 3, 'marijuana_': 2, 'political_': 3, 'abortion_': 3, 'homosexual_': 3}, 26999: {'age_1': 2, 'hometown_1': 1, 'ethnicity_1': 2, 'gender_1': 1, 'premaritalsex_': 3, 'euthanasia_': 1, 'deathpen_': 2, 'gaymarriage_': 2, 'marijuana_': 1, 'political_': 2, 'abortion_': 3, 'homosexual_': 3}, 10841: {'age_1': 1, 'hometown_1': 1, 'ethnicity_1': 4, 'gender_1': 2, 'premaritalsex_': 1, 'euthanasia_': 3, 'deathpen_': 1, 'gaymarriage_': 1, 'marijuana_': 1, 'political_': 2, 'abortion_': 1, 'homosexual_': 1}, 17353: {'age_1': 1, 'hometown_1': 1, 'ethnicity_1': 1, 'gender_1': 2, 'premaritalsex_': 1, 'euthanasia_': 1, 'deathpen_': 2, 'gaymarriage_': 2, 'marijuana_': 1, 'political_': 1, 'abortion_': 1, 'homosexual_': 2}, 86352: {'age_1': 2, 'hometown_1': 1, 'ethnicity_1': 3, 'gender_1': 1, 'premaritalsex_': 1, 'euthanasia_': 2, 'deathpen_': 2, 'gaymarriage_': 2, 'marijuana_': 3, 'political_': 2, 'abortion_': 2, 'homosexual_': 1}, 53275: {'age_1': 1, 'hometown_1': 1, 'ethnicity_1': 4, 'gender_1': 1, 'premaritalsex_': 3, 'euthanasia_': 3, 'deathpen_': 1, 'gaymarriage_': 3, 'marijuana_': 2, 'political_': 2, 'abortion_': 3, 'homosexual_': 3}, 77291: {'age_1': 1, 'hometown_1': 1, 'ethnicity_1': 1, 'gender_1': 2, 'premaritalsex_': 3, 'euthanasia_': 1, 'deathpen_': 1, 'gaymarriage_': 3, 'marijuana_': 3, 'political_': 3, 'abortion_': 1, 'homosexual_': 3}, 18394: {'age_1': 1, 'hometown_1': 2, 'ethnicity_1': 1, 'gender_1': 2, 'premaritalsex_': 1, 'euthanasia_': 3, 'deathpen_': 1, 'gaymarriage_': 1, 'marijuana_': 2, 'political_': 2, 'abortion_': 1, 'homosexual_': 1}, 36006: {'age_1': 1, 'hometown_1': 2, 'ethnicity_1': 1, 'gender_1': 1, 'premaritalsex_': 1, 'euthanasia_': 1, 'deathpen_': 1, 'gaymarriage_': 2, 'marijuana_': 1, 'political_': 1, 'abortion_': 1, 'homosexual_': 1}, 57637: {'age_1': 2, 'hometown_1': 1, 'ethnicity_1': 1, 'gender_1': 1, 'premaritalsex_': 3, 'euthanasia_': 2, 'deathpen_': 1, 'gaymarriage_': 3, 'marijuana_': 3, 'political_': 1, 'abortion_': 1, 'homosexual_': 3}, 71627: {'age_1': 2, 'hometown_1': 2, 'ethnicity_1': 1, 'gender_1': 2, 'premaritalsex_': 1, 'euthanasia_': 1, 'deathpen_': 1, 'gaymarriage_': 1, 'marijuana_': 3, 'political_': 1, 'abortion_': 1, 'homosexual_': 2}, 75261: {'age_1': 1, 'hometown_1': 1, 'ethnicity_1': 3, 'gender_1': 2, 'premaritalsex_': 3, 'euthanasia_': 3, 'deathpen_': 3, 'gaymarriage_': 3, 'marijuana_': 3, 'political_': 3, 'abortion_': 1, 'homosexual_': 3}, 19844: {'age_1': 2, 'hometown_1': 1, 'ethnicity_1': 1, 'gender_1': 1, 'premaritalsex_': 2, 'euthanasia_': 3, 'deathpen_': 1, 'gaymarriage_': 1, 'marijuana_': 2, 'political_': 1, 'abortion_': 1, 'homosexual_': 2}, 25323: {'age_1': 1, 'hometown_1': 1, 'ethnicity_1': 1, 'gender_1': 2, 'premaritalsex_': 3, 'euthanasia_': 2, 'deathpen_': 2, 'gaymarriage_': 1, 'marijuana_': 2, 'political_': 1, 'abortion_': 1, 'homosexual_': 1}, 40997: {'age_1': 1, 'hometown_1': 1, 'ethnicity_1': 4, 'gender_1': 1, 'premaritalsex_': 1, 'euthanasia_': 3, 'deathpen_': 3, 'gaymarriage_': 1, 'marijuana_': 3, 'political_': 1, 'abortion_': 1, 'homosexual_': 1}, 52635: {'age_1': 2, 'hometown_1': 1, 'ethnicity_1': 4, 'gender_1': 1, 'premaritalsex_': 2, 'euthanasia_': 3, 'deathpen_': 2, 'gaymarriage_': 3, 'marijuana_': 3, 'political_': 3, 'abortion_': 3, 'homosexual_': 3}, 45945: {'age_1': 1, 'hometown_1': 1, 'ethnicity_1': 1, 'gender_1': 1, 'premaritalsex_': 3, 'euthanasia_': 3, 'deathpen_': 1, 'gaymarriage_': 3, 'marijuana_': 3, 'political_': 1, 'abortion_': 1, 'homosexual_': 1}, 72746: {'age_1': 1, 'hometown_1': 3, 'ethnicity_1': 1, 'gender_1': 1, 'premaritalsex_': 3, 'euthanasia_': 3, 'deathpen_': 3, 'gaymarriage_': 3, 'marijuana_': 3, 'political_': 1, 'abortion_': 3, 'homosexual_': 3}, 15071: {'age_1': 2, 'hometown_1': 2, 'ethnicity_1': 1, 'gender_1': 1, 'premaritalsex_': 3, 'euthanasia_': 3, 'deathpen_': 1, 'gaymarriage_': 3, 'marijuana_': 3, 'political_': 3, 'abortion_': 3, 'homosexual_': 3}, 46771: {'age_1': 1, 'hometown_1': 1, 'ethnicity_1': 1, 'gender_1': 1, 'premaritalsex_': 3, 'euthanasia_': 3, 'deathpen_': 1, 'gaymarriage_': 3, 'marijuana_': 3, 'political_': 1, 'abortion_': 1, 'homosexual_': 3}, 29914: {'age_1': 1, 'hometown_1': 2, 'ethnicity_1': 1, 'gender_1': 1, 'premaritalsex_': 3, 'euthanasia_': 3, 'deathpen_': 1, 'gaymarriage_': 3, 'marijuana_': 3, 'political_': 3, 'abortion_': 3, 'homosexual_': 3}, 52067: {'age_1': 1, 'hometown_1': 3, 'ethnicity_1': 1, 'gender_1': 1, 'premaritalsex_': 3, 'euthanasia_': 2, 'deathpen_': 3, 'gaymarriage_': 3, 'marijuana_': 3, 'political_': 2, 'abortion_': 2, 'homosexual_': 3}, 37617: {'age_1': 1, 'hometown_1': 1, 'ethnicity_1': 1, 'gender_1': 2, 'premaritalsex_': 1, 'euthanasia_': 1, 'deathpen_': 1, 'gaymarriage_': 1, 'marijuana_': 2, 'political_': 1, 'abortion_': 1, 'homosexual_': 1}, 30076: {'age_1': 1, 'hometown_1': 2, 'ethnicity_1': 1, 'gender_1': 1, 'premaritalsex_': 1, 'euthanasia_': 3, 'deathpen_': 1, 'gaymarriage_': 2, 'marijuana_': 1, 'political_': 2, 'abortion_': 1, 'homosexual_': 1}, 71700: {'age_1': 2, 'hometown_1': 1, 'ethnicity_1': 3, 'gender_1': 2, 'premaritalsex_': 1, 'euthanasia_': 1, 'deathpen_': 2, 'gaymarriage_': 1, 'marijuana_': 2, 'political_': 1, 'abortion_': 1, 'homosexual_': 1}, 19066: {'age_1': 1, 'hometown_1': 1, 'ethnicity_1': 1, 'gender_1': 2, 'premaritalsex_': 2, 'euthanasia_': 1, 'deathpen_': 2, 'gaymarriage_': 3, 'marijuana_': 1, 'political_': 1, 'abortion_': 1, 'homosexual_': 1}, 51675: {'age_1': 1, 'hometown_1': 1, 'ethnicity_1': 1, 'gender_1': 2, 'premaritalsex_': 1, 'euthanasia_': 1, 'deathpen_': 1, 'gaymarriage_': 1, 'marijuana_': 2, 'political_': 2, 'abortion_': 1, 'homosexual_': 1}, 63188: {'age_1': 1, 'hometown_1': 1, 'ethnicity_1': 4, 'gender_1': 1, 'premaritalsex_': 1, 'euthanasia_': 1, 'deathpen_': 1, 'gaymarriage_': 1, 'marijuana_': 1, 'political_': 3, 'abortion_': 1, 'homosexual_': 1}, 79877: {'age_1': 1, 'hometown_1': 2, 'ethnicity_1': 4, 'gender_1': 1, 'premaritalsex_': 3, 'euthanasia_': 3, 'deathpen_': 1, 'gaymarriage_': 3, 'marijuana_': 3, 'political_': 3, 'abortion_': 3, 'homosexual_': 3}, 14106: {'age_1': 2, 'hometown_1': 3, 'ethnicity_1': 1, 'gender_1': 1, 'premaritalsex_': 3, 'euthanasia_': 3, 'deathpen_': 2, 'gaymarriage_': 3, 'marijuana_': 1, 'political_': 1, 'abortion_': 3, 'homosexual_': 3}, 76313: {'age_1': 2, 'hometown_1': 2, 'ethnicity_1': 1, 'gender_1': 1, 'premaritalsex_': 3, 'euthanasia_': 3, 'deathpen_': 2, 'gaymarriage_': 3, 'marijuana_': 3, 'political_': 3, 'abortion_': 1, 'homosexual_': 3}, 82282: {'age_1': 1, 'hometown_1': 1, 'ethnicity_1': 3, 'gender_1': 2, 'premaritalsex_': 1, 'euthanasia_': 3, 'deathpen_': 1, 'gaymarriage_': 3, 'marijuana_': 1, 'political_': 2, 'abortion_': 1, 'homosexual_': 3}, 85596: {'age_1': 1, 'hometown_1': 1, 'ethnicity_1': 1, 'gender_1': 2, 'premaritalsex_': 1, 'euthanasia_': 1, 'deathpen_': 1, 'gaymarriage_': 1, 'marijuana_': 1, 'political_': 1, 'abortion_': 1, 'homosexual_': 1}, 10060: {'age_1': 1, 'hometown_1': 2, 'ethnicity_1': 1, 'gender_1': 2, 'premaritalsex_': 1, 'euthanasia_': 3, 'deathpen_': 1, 'gaymarriage_': 3, 'marijuana_': 1, 'political_': 1, 'abortion_': 3, 'homosexual_': 3}, 75468: {'age_1': 1, 'hometown_1': 1, 'ethnicity_1': 1, 'gender_1': 1, 'premaritalsex_': 3, 'euthanasia_': 3, 'deathpen_': 1, 'gaymarriage_': 2, 'marijuana_': 3, 'political_': 2, 'abortion_': 3, 'homosexual_': 3}, 46021: {'age_1': 2, 'hometown_1': 1, 'ethnicity_1': 1, 'gender_1': 1, 'premaritalsex_': 3, 'euthanasia_': 3, 'deathpen_': 3, 'gaymarriage_': 3, 'marijuana_': 3, 'political_': 2, 'abortion_': 3, 'homosexual_': 3}, 23642: {'age_1': 1, 'hometown_1': 1, 'ethnicity_1': 1, 'gender_1': 2, 'premaritalsex_': 1, 'euthanasia_': 1, 'deathpen_': 3, 'gaymarriage_': 1, 'marijuana_': 1, 'political_': 1, 'abortion_': 1, 'homosexual_': 1}, 50869: {'age_1': 1, 'hometown_1': 2, 'ethnicity_1': 1, 'gender_1': 1, 'premaritalsex_': 1, 'euthanasia_': 3, 'deathpen_': 1, 'gaymarriage_': 1, 'marijuana_': 1, 'political_': 1, 'abortion_': 1, 'homosexual_': 1}, 68633: {'age_1': 1, 'hometown_1': 1, 'ethnicity_1': 4, 'gender_1': 2, 'premaritalsex_': 3, 'euthanasia_': 2, 'deathpen_': 1, 'gaymarriage_': 2, 'marijuana_': 1, 'political_': 2, 'abortion_': 1, 'homosexual_': 1}, 18420: {'age_1': 1, 'hometown_1': 1, 'ethnicity_1': 2, 'gender_1': 1, 'premaritalsex_': 2, 'euthanasia_': 1, 'deathpen_': 1, 'gaymarriage_': 3, 'marijuana_': 1, 'political_': 3, 'abortion_': 3, 'homosexual_': 3}, 68494: {'age_1': 1, 'hometown_1': 1, 'ethnicity_1': 4, 'gender_1': 2, 'premaritalsex_': 1, 'euthanasia_': 1, 'deathpen_': 1, 'gaymarriage_': 1, 'marijuana_': 1, 'political_': 1, 'abortion_': 1, 'homosexual_': 1}, 39783: {'age_1': 1, 'hometown_1': 2, 'ethnicity_1': 3, 'gender_1': 2, 'premaritalsex_': 1, 'euthanasia_': 2, 'deathpen_': 3, 'gaymarriage_': 1, 'marijuana_': 1, 'political_': 1, 'abortion_': 1, 'homosexual_': 1}, 21350: {'age_1': 1, 'hometown_1': 1, 'ethnicity_1': 1, 'gender_1': 2, 'premaritalsex_': 3, 'euthanasia_': 3, 'deathpen_': 2, 'gaymarriage_': 3, 'marijuana_': 3, 'political_': 3, 'abortion_': 3, 'homosexual_': 3}, 66404: {'age_1': 2, 'hometown_1': 2, 'ethnicity_1': 1, 'gender_1': 1, 'premaritalsex_': 3, 'euthanasia_': 3, 'deathpen_': 1, 'gaymarriage_': 1, 'marijuana_': 1, 'political_': 1, 'abortion_': 1, 'homosexual_': 1}, 85970: {'age_1': 1, 'hometown_1': 2, 'ethnicity_1': 1, 'gender_1': 2, 'premaritalsex_': 3, 'euthanasia_': 3, 'deathpen_': 1, 'gaymarriage_': 3, 'marijuana_': 1, 'political_': 1, 'abortion_': 1, 'homosexual_': 3}, 59367: {'age_1': 2, 'hometown_1': 2, 'ethnicity_1': 1, 'gender_1': 2, 'premaritalsex_': 3, 'euthanasia_': 3, 'deathpen_': 2, 'gaymarriage_': 3, 'marijuana_': 1, 'political_': 3, 'abortion_': 3, 'homosexual_': 3}, 13799: {'age_1': 2, 'hometown_1': 1, 'ethnicity_1': 1, 'gender_1': 2, 'premaritalsex_': 1, 'euthanasia_': 1, 'deathpen_': 1, 'gaymarriage_': 1, 'marijuana_': 1, 'political_': 1, 'abortion_': 1, 'homosexual_': 1}, 62560: {'age_1': 1, 'hometown_1': 1, 'ethnicity_1': 1, 'gender_1': 2, 'premaritalsex_': 3, 'euthanasia_': 3, 'deathpen_': 1, 'gaymarriage_': 3, 'marijuana_': 1, 'political_': 1, 'abortion_': 2, 'homosexual_': 3}, 16495: {'age_1': 2, 'hometown_1': 1, 'ethnicity_1': 1, 'gender_1': 2, 'premaritalsex_': 3, 'euthanasia_': 2, 'deathpen_': 2, 'gaymarriage_': 3, 'marijuana_': 3, 'political_': 3, 'abortion_': 3, 'homosexual_': 3}, 34853: {'age_1': 2, 'hometown_1': 1, 'ethnicity_1': 1, 'gender_1': 1, 'premaritalsex_': 3, 'euthanasia_': 3, 'deathpen_': 3, 'gaymarriage_': 3, 'marijuana_': 1, 'political_': 1, 'abortion_': 3, 'homosexual_': 3}, 67947: {'age_1': 2, 'hometown_1': 1, 'ethnicity_1': 2, 'gender_1': 1, 'premaritalsex_': 1, 'euthanasia_': 1, 'deathpen_': 1, 'gaymarriage_': 3, 'marijuana_': 1, 'political_': 1, 'abortion_': 1, 'homosexual_': 1}, 50709: {'age_1': 1, 'hometown_1': 1, 'ethnicity_1': 1, 'gender_1': 2, 'premaritalsex_': 3, 'euthanasia_': 2, 'deathpen_': 2, 'gaymarriage_': 3, 'marijuana_': 1, 'political_': 3, 'abortion_': 3, 'homosexual_': 3}, 70889: {'age_1': 1, 'hometown_1': 1, 'ethnicity_1': 1, 'gender_1': 2, 'premaritalsex_': 3, 'euthanasia_': 1, 'deathpen_': 3, 'gaymarriage_': 3, 'marijuana_': 1, 'political_': 3, 'abortion_': 3, 'homosexual_': 3}, 86727: {'age_1': 1, 'hometown_1': 1, 'ethnicity_1': 1, 'gender_1': 1, 'premaritalsex_': 1, 'euthanasia_': 2, 'deathpen_': 1, 'gaymarriage_': 1, 'marijuana_': 1, 'political_': 1, 'abortion_': 1, 'homosexual_': 1}, 45539: {'age_1': 2, 'hometown_1': 3, 'ethnicity_1': 1, 'gender_1': 1, 'premaritalsex_': 1, 'euthanasia_': 2, 'deathpen_': 1, 'gaymarriage_': 1, 'marijuana_': 1, 'political_': 1, 'abortion_': 1, 'homosexual_': 1}, 14188: {'age_1': 1, 'hometown_1': 3, 'ethnicity_1': 1, 'gender_1': 2, 'premaritalsex_': 3, 'euthanasia_': 3, 'deathpen_': 2, 'gaymarriage_': 3, 'marijuana_': 1, 'political_': 3, 'abortion_': 3, 'homosexual_': 3}, 89827: {'age_1': 2, 'hometown_1': 1, 'ethnicity_1': 1, 'gender_1': 1, 'premaritalsex_': 3, 'euthanasia_': 3, 'deathpen_': 2, 'gaymarriage_': 3, 'marijuana_': 2, 'political_': 3, 'abortion_': 3, 'homosexual_': 3}, 11692: {'age_1': 1, 'hometown_1': 1, 'ethnicity_1': 1, 'gender_1': 1, 'premaritalsex_': 3, 'euthanasia_': 3, 'deathpen_': 1, 'gaymarriage_': 1, 'marijuana_': 3, 'political_': 3, 'abortion_': 1, 'homosexual_': 1}, 82060: {'age_1': 2, 'hometown_1': 1, 'ethnicity_1': 4, 'gender_1': 1, 'premaritalsex_': 1, 'euthanasia_': 1, 'deathpen_': 1, 'gaymarriage_': 2, 'marijuana_': 1, 'political_': 1, 'abortion_': 1, 'homosexual_': 1}, 66754: {'age_1': 2, 'hometown_1': 2, 'ethnicity_1': 1, 'gender_1': 1, 'premaritalsex_': 3, 'euthanasia_': 2, 'deathpen_': 1, 'gaymarriage_': 2, 'marijuana_': 3, 'political_': 2, 'abortion_': 3, 'homosexual_': 2}, 66245: {'age_1': 1, 'hometown_1': 2, 'ethnicity_1': 3, 'gender_1': 2, 'premaritalsex_': 3, 'euthanasia_': 1, 'deathpen_': 1, 'gaymarriage_': 3, 'marijuana_': 1, 'political_': 3, 'abortion_': 1, 'homosexual_': 3}, 46654: {'age_1': 1, 'hometown_1': 1, 'ethnicity_1': 3, 'gender_1': 2, 'premaritalsex_': 3, 'euthanasia_': 1, 'deathpen_': 1, 'gaymarriage_': 1, 'marijuana_': 1, 'political_': 3, 'abortion_': 1, 'homosexual_': 1}, 32174: {'age_1': 1, 'hometown_1': 1, 'ethnicity_1': 1, 'gender_1': 1, 'premaritalsex_': 3, 'euthanasia_': 2, 'deathpen_': 1, 'gaymarriage_': 3, 'marijuana_': 3, 'political_': 3, 'abortion_': 1, 'homosexual_': 3}, 58909: {'age_1': 1, 'hometown_1': 1, 'ethnicity_1': 1, 'gender_1': 2, 'premaritalsex_': 3, 'euthanasia_': 3, 'deathpen_': 1, 'gaymarriage_': 3, 'marijuana_': 2, 'political_': 2, 'abortion_': 1, 'homosexual_': 3}, 25947: {'age_1': 1, 'hometown_1': 2, 'ethnicity_1': 1, 'gender_1': 1, 'premaritalsex_': 3, 'euthanasia_': 2, 'deathpen_': 1, 'gaymarriage_': 3, 'marijuana_': 1, 'political_': 1, 'abortion_': 1, 'homosexual_': 3}, 34250: {'age_1': 1, 'hometown_1': 2, 'ethnicity_1': 1, 'gender_1': 1, 'premaritalsex_': 3, 'euthanasia_': 3, 'deathpen_': 2, 'gaymarriage_': 2, 'marijuana_': 1, 'political_': 1, 'abortion_': 1, 'homosexual_': 1}, 18344: {'age_1': 1, 'hometown_1': 2, 'ethnicity_1': 4, 'gender_1': 2, 'premaritalsex_': 3, 'euthanasia_': 2, 'deathpen_': 2, 'gaymarriage_': 2, 'marijuana_': 2, 'political_': 2, 'abortion_': 2, 'homosexual_': 2}, 38823: {'age_1': 2, 'hometown_1': 2, 'ethnicity_1': 1, 'gender_1': 1, 'premaritalsex_': 3, 'euthanasia_': 1, 'deathpen_': 3, 'gaymarriage_': 1, 'marijuana_': 1, 'political_': 1, 'abortion_': 1, 'homosexual_': 1}, 22745: {'age_1': 2, 'hometown_1': 1, 'ethnicity_1': 4, 'gender_1': 2, 'premaritalsex_': 3, 'euthanasia_': 3, 'deathpen_': 1, 'gaymarriage_': 3, 'marijuana_': 3, 'political_': 3, 'abortion_': 3, 'homosexual_': 3}, 26127: {'age_1': 1, 'hometown_1': 1, 'ethnicity_1': 3, 'gender_1': 2, 'premaritalsex_': 1, 'euthanasia_': 2, 'deathpen_': 1, 'gaymarriage_': 1, 'marijuana_': 2, 'political_': 1, 'abortion_': 1, 'homosexual_': 1}, 38893: {'age_1': 2, 'hometown_1': 2, 'ethnicity_1': 1, 'gender_1': 2, 'premaritalsex_': 3, 'euthanasia_': 2, 'deathpen_': 3, 'gaymarriage_': 2, 'marijuana_': 1, 'political_': 1, 'abortion_': 1, 'homosexual_': 3}, 31372: {'age_1': 1, 'hometown_1': 1, 'ethnicity_1': 1, 'gender_1': 1, 'premaritalsex_': 3, 'euthanasia_': 3, 'deathpen_': 3, 'gaymarriage_': 2, 'marijuana_': 1, 'political_': 1, 'abortion_': 3, 'homosexual_': 3}, 68533: {'age_1': 1, 'hometown_1': 1, 'ethnicity_1': 1, 'gender_1': 1, 'premaritalsex_': 3, 'euthanasia_': 3, 'deathpen_': 2, 'gaymarriage_': 1, 'marijuana_': 1, 'political_': 1, 'abortion_': 1, 'homosexual_': 1}, 31583: {'age_1': 1, 'hometown_1': 2, 'ethnicity_1': 1, 'gender_1': 2, 'premaritalsex_': 3, 'euthanasia_': 1, 'deathpen_': 1, 'gaymarriage_': 1, 'marijuana_': 1, 'political_': 1, 'abortion_': 1, 'homosexual_': 3}, 49597: {'age_1': 1, 'hometown_1': 1, 'ethnicity_1': 4, 'gender_1': 1, 'premaritalsex_': 3, 'euthanasia_': 3, 'deathpen_': 3, 'gaymarriage_': 3, 'marijuana_': 1, 'political_': 3, 'abortion_': 3, 'homosexual_': 3}, 73303: {'age_1': 1, 'hometown_1': 1, 'ethnicity_1': 1, 'gender_1': 1, 'premaritalsex_': 3, 'euthanasia_': 2, 'deathpen_': 2, 'gaymarriage_': 3, 'marijuana_': 3, 'political_': 2, 'abortion_': 2, 'homosexual_': 3}, 46160: {'age_1': 1, 'hometown_1': 1, 'ethnicity_1': 1, 'gender_1': 2, 'premaritalsex_': 1, 'euthanasia_': 1, 'deathpen_': 1, 'gaymarriage_': 3, 'marijuana_': 1, 'political_': 1, 'abortion_': 1, 'homosexual_': 1}, 25544: {'age_1': 1, 'hometown_1': 1, 'ethnicity_1': 2, 'gender_1': 2, 'premaritalsex_': 1, 'euthanasia_': 3, 'deathpen_': 2, 'gaymarriage_': 3, 'marijuana_': 1, 'political_': 1, 'abortion_': 1, 'homosexual_': 1}, 51597: {'age_1': 1, 'hometown_1': 2, 'ethnicity_1': 1, 'gender_1': 1, 'premaritalsex_': 1, 'euthanasia_': 3, 'deathpen_': 2, 'gaymarriage_': 1, 'marijuana_': 1, 'political_': 1, 'abortion_': 1, 'homosexual_': 1}, 49294: {'age_1': 1, 'hometown_1': 2, 'ethnicity_1': 1, 'gender_1': 1, 'premaritalsex_': 1, 'euthanasia_': 2, 'deathpen_': 1, 'gaymarriage_': 1, 'marijuana_': 1, 'political_': 1, 'abortion_': 1, 'homosexual_': 1}, 51722: {'age_1': 1, 'hometown_1': 1, 'ethnicity_1': 1, 'gender_1': 2, 'premaritalsex_': 2, 'euthanasia_': 2, 'deathpen_': 2, 'gaymarriage_': 3, 'marijuana_': 2, 'political_': 2, 'abortion_': 1, 'homosexual_': 3}, 66052: {'age_1': 1, 'hometown_1': 1, 'ethnicity_1': 2, 'gender_1': 2, 'premaritalsex_': 3, 'euthanasia_': 3, 'deathpen_': 3, 'gaymarriage_': 2, 'marijuana_': 2, 'political_': 3, 'abortion_': 3, 'homosexual_': 3}, 53884: {'age_1': 1, 'hometown_1': 2, 'ethnicity_1': 1, 'gender_1': 1, 'premaritalsex_': 1, 'euthanasia_': 1, 'deathpen_': 1, 'gaymarriage_': 1, 'marijuana_': 1, 'political_': 1, 'abortion_': 1, 'homosexual_': 1}, 51552: {'age_1': 1, 'hometown_1': 1, 'ethnicity_1': 1, 'gender_1': 1, 'premaritalsex_': 3, 'euthanasia_': 3, 'deathpen_': 1, 'gaymarriage_': 1, 'marijuana_': 1, 'political_': 1, 'abortion_': 3, 'homosexual_': 3}, 80058: {'age_1': 1, 'hometown_1': 2, 'ethnicity_1': 1, 'gender_1': 1, 'premaritalsex_': 3, 'euthanasia_': 3, 'deathpen_': 1, 'gaymarriage_': 3, 'marijuana_': 2, 'political_': 3, 'abortion_': 1, 'homosexual_': 3}, 10281: {'age_1': 1, 'hometown_1': 1, 'ethnicity_1': 4, 'gender_1': 1, 'premaritalsex_': 3, 'euthanasia_': 1, 'deathpen_': 3, 'gaymarriage_': 1, 'marijuana_': 1, 'political_': 1, 'abortion_': 1, 'homosexual_': 1}, 45292: {'age_1': 1, 'hometown_1': 1, 'ethnicity_1': 1, 'gender_1': 2, 'premaritalsex_': 3, 'euthanasia_': 1, 'deathpen_': 2, 'gaymarriage_': 3, 'marijuana_': 3, 'political_': 3, 'abortion_': 3, 'homosexual_': 3}, 32899: {'age_1': 2, 'hometown_1': 1, 'ethnicity_1': 2, 'gender_1': 1, 'premaritalsex_': 1, 'euthanasia_': 1, 'deathpen_': 1, 'gaymarriage_': 2, 'marijuana_': 1, 'political_': 2, 'abortion_': 1, 'homosexual_': 2}, 26425: {'age_1': 1, 'hometown_1': 1, 'ethnicity_1': 1, 'gender_1': 1, 'premaritalsex_': 1, 'euthanasia_': 1, 'deathpen_': 1, 'gaymarriage_': 1, 'marijuana_': 2, 'political_': 1, 'abortion_': 1, 'homosexual_': 1}, 78911: {'age_1': 1, 'hometown_1': 2, 'ethnicity_1': 1, 'gender_1': 2, 'premaritalsex_': 3, 'euthanasia_': 3, 'deathpen_': 3, 'gaymarriage_': 3, 'marijuana_': 2, 'political_': 1, 'abortion_': 1, 'homosexual_': 3}, 23144: {'age_1': 1, 'hometown_1': 2, 'ethnicity_1': 1, 'gender_1': 1, 'premaritalsex_': 3, 'euthanasia_': 3, 'deathpen_': 3, 'gaymarriage_': 1, 'marijuana_': 1, 'political_': 1, 'abortion_': 1, 'homosexual_': 1}, 44520: {'age_1': 1, 'hometown_1': 1, 'ethnicity_1': 2, 'gender_1': 2, 'premaritalsex_': 3, 'euthanasia_': 3, 'deathpen_': 3, 'gaymarriage_': 1, 'marijuana_': 3, 'political_': 3, 'abortion_': 3, 'homosexual_': 3}, 50181: {'age_1': 2, 'hometown_1': 1, 'ethnicity_1': 4, 'gender_1': 1, 'premaritalsex_': 3, 'euthanasia_': 2, 'deathpen_': 2, 'gaymarriage_': 1, 'marijuana_': 1, 'political_': 2, 'abortion_': 1, 'homosexual_': 1}, 88175: {'age_1': 2, 'hometown_1': 3, 'ethnicity_1': 1, 'gender_1': 2, 'premaritalsex_': 1, 'euthanasia_': 2, 'deathpen_': 1, 'gaymarriage_': 2, 'marijuana_': 1, 'political_': 1, 'abortion_': 1, 'homosexual_': 1}, 63063: {'age_1': 2, 'hometown_1': 1, 'ethnicity_1': 1, 'gender_1': 1, 'premaritalsex_': 3, 'euthanasia_': 3, 'deathpen_': 1, 'gaymarriage_': 3, 'marijuana_': 3, 'political_': 2, 'abortion_': 3, 'homosexual_': 3}})"
      ]
     },
     "execution_count": 5,
     "metadata": {},
     "output_type": "execute_result"
    }
   ],
   "source": [
    "data[1].nodes.data()"
   ]
  },
  {
   "cell_type": "code",
   "execution_count": 6,
   "id": "existing-keyboard",
   "metadata": {},
   "outputs": [
    {
     "data": {
      "text/plain": [
       "{'gender_1': {1, 2},\n",
       " 'ethnicity_1': {1, 2, 3, 4},\n",
       " 'abortion_': {1, 2, 3},\n",
       " 'homosexual_': {1, 2, 3},\n",
       " 'gaymarriage_': {1, 2, 3},\n",
       " 'premaritalsex_': {1, 2, 3},\n",
       " 'political_': {1, 2, 3},\n",
       " 'marijuana_': {1, 2, 3},\n",
       " 'deathpen_': {1, 2, 3},\n",
       " 'age_1': {1, 2},\n",
       " 'hometown_1': {1, 2, 3},\n",
       " 'euthanasia_': {1, 2, 3}}"
      ]
     },
     "execution_count": 6,
     "metadata": {},
     "output_type": "execute_result"
    }
   ],
   "source": [
    "#creating list of attributes\n",
    "list_of_attributes = set([k for n in data[1].nodes for k in data[1].nodes[n].keys()])\n",
    "\n",
    "#creating possible attribute values\n",
    "attribute_values = dict((attribute, set() ) for attribute in list_of_attributes)\n",
    "\n",
    "for sem in range(1,7):\n",
    "    for node in data[sem].nodes():\n",
    "        for attribute in list_of_attributes:\n",
    "            attribute_values[attribute].add(data[sem].nodes[node][attribute])\n",
    "\n",
    "attribute_values\n",
    "\n",
    "#To apply PCA or other analysis on all attributes (i.e. including ethnicity) \n",
    "#one would have to create an attribute for each race, that is is_1, is_2 etc. \n",
    "#Because this attribute is not ordered. "
   ]
  },
  {
   "cell_type": "code",
   "execution_count": 7,
   "id": "functioning-valuable",
   "metadata": {},
   "outputs": [],
   "source": [
    "#creating table of attribute values\n",
    "attributes = dict((i, 0) for i in range(1,7))\n",
    "for i in range(1,7):\n",
    "    attributes[i] = np.zeros([len(data[i].nodes), len(list_of_attributes)])\n",
    "\n",
    "for sem in range(1,7):\n",
    "    for i, node in enumerate(data[sem].nodes()):\n",
    "        for j, attribute in enumerate(list_of_attributes):\n",
    "            attributes[sem][i,j] = data[sem].nodes[node][attribute]"
   ]
  },
  {
   "cell_type": "code",
   "execution_count": 8,
   "id": "magnetic-leeds",
   "metadata": {},
   "outputs": [
    {
     "data": {
      "text/plain": [
       "{1: array([[2., 2., 3., ..., 1., 1., 3.],\n",
       "        [2., 2., 2., ..., 1., 1., 2.],\n",
       "        [1., 2., 3., ..., 1., 1., 3.],\n",
       "        ...,\n",
       "        [1., 4., 1., ..., 2., 1., 2.],\n",
       "        [2., 1., 1., ..., 2., 3., 2.],\n",
       "        [1., 1., 3., ..., 2., 1., 3.]]),\n",
       " 2: array([[1., 1., 1., ..., 2., 3., 3.],\n",
       "        [2., 1., 1., ..., 2., 1., 1.],\n",
       "        [2., 1., 1., ..., 1., 1., 3.],\n",
       "        ...,\n",
       "        [2., 1., 1., ..., 1., 1., 1.],\n",
       "        [1., 1., 1., ..., 1., 2., 3.],\n",
       "        [2., 3., 2., ..., 1., 1., 2.]]),\n",
       " 3: array([[2., 1., 3., 3., 3., 3., 2., 1., 1., 1., 2., 3.],\n",
       "        [2., 1., 1., 1., 1., 1., 1., 1., 1., 1., 1., 1.],\n",
       "        [2., 1., 1., 1., 2., 1., 2., 3., 1., 2., 2., 1.],\n",
       "        [2., 3., 1., 3., 3., 3., 3., 3., 3., 1., 1., 3.],\n",
       "        [1., 1., 3., 3., 3., 3., 1., 2., 1., 2., 1., 3.],\n",
       "        [2., 2., 3., 1., 3., 1., 2., 1., 1., 1., 1., 3.],\n",
       "        [1., 1., 1., 3., 3., 3., 1., 2., 1., 1., 2., 2.],\n",
       "        [2., 1., 3., 3., 3., 3., 3., 1., 1., 2., 2., 2.],\n",
       "        [1., 1., 1., 3., 1., 1., 1., 1., 1., 1., 1., 1.],\n",
       "        [2., 1., 1., 1., 1., 1., 1., 1., 1., 2., 1., 1.],\n",
       "        [2., 1., 2., 2., 3., 3., 1., 1., 2., 1., 1., 3.],\n",
       "        [2., 1., 1., 3., 1., 3., 1., 1., 1., 1., 2., 1.],\n",
       "        [2., 1., 1., 1., 1., 1., 1., 1., 3., 1., 1., 2.],\n",
       "        [2., 1., 1., 1., 3., 1., 1., 3., 1., 1., 1., 1.],\n",
       "        [1., 4., 1., 1., 2., 3., 1., 3., 3., 1., 1., 3.],\n",
       "        [1., 4., 3., 3., 3., 3., 3., 3., 1., 1., 1., 3.],\n",
       "        [2., 1., 1., 3., 3., 3., 2., 3., 1., 1., 1., 2.],\n",
       "        [1., 1., 3., 3., 3., 3., 3., 3., 1., 1., 2., 3.],\n",
       "        [1., 1., 1., 2., 2., 1., 1., 3., 1., 1., 1., 1.],\n",
       "        [1., 4., 3., 3., 3., 3., 3., 2., 1., 1., 2., 3.],\n",
       "        [1., 4., 1., 3., 3., 1., 3., 1., 1., 1., 1., 2.],\n",
       "        [2., 1., 1., 3., 1., 1., 1., 1., 1., 1., 1., 1.],\n",
       "        [2., 1., 2., 3., 3., 3., 3., 3., 2., 2., 1., 3.],\n",
       "        [2., 4., 1., 2., 2., 1., 1., 1., 1., 1., 1., 1.],\n",
       "        [1., 2., 3., 3., 3., 3., 3., 2., 1., 2., 1., 3.],\n",
       "        [1., 4., 1., 2., 2., 3., 2., 3., 1., 2., 1., 2.],\n",
       "        [1., 1., 1., 3., 3., 3., 3., 2., 1., 2., 1., 2.],\n",
       "        [2., 1., 1., 2., 2., 1., 1., 2., 2., 1., 1., 2.],\n",
       "        [2., 1., 1., 3., 3., 3., 2., 2., 1., 1., 2., 1.],\n",
       "        [1., 1., 3., 3., 3., 3., 3., 3., 1., 2., 2., 2.],\n",
       "        [1., 1., 3., 3., 3., 3., 3., 3., 2., 2., 1., 2.],\n",
       "        [1., 1., 2., 3., 2., 2., 2., 3., 2., 2., 2., 3.],\n",
       "        [1., 1., 1., 3., 3., 3., 2., 3., 1., 2., 1., 1.],\n",
       "        [1., 3., 1., 1., 1., 1., 2., 3., 2., 2., 1., 2.],\n",
       "        [2., 1., 1., 2., 3., 2., 1., 1., 3., 1., 2., 3.],\n",
       "        [2., 1., 1., 3., 2., 3., 1., 1., 3., 2., 2., 1.],\n",
       "        [2., 3., 1., 2., 1., 1., 1., 1., 1., 1., 1., 1.],\n",
       "        [1., 1., 1., 1., 3., 3., 1., 3., 1., 1., 1., 1.],\n",
       "        [1., 1., 3., 3., 3., 3., 1., 3., 3., 1., 3., 3.],\n",
       "        [2., 2., 3., 3., 3., 3., 1., 1., 3., 1., 1., 3.],\n",
       "        [2., 2., 1., 2., 1., 1., 1., 1., 2., 1., 1., 1.],\n",
       "        [1., 1., 1., 1., 1., 3., 1., 1., 3., 1., 2., 3.],\n",
       "        [1., 4., 2., 3., 3., 2., 3., 2., 2., 2., 1., 3.],\n",
       "        [1., 1., 2., 1., 3., 1., 3., 1., 1., 1., 2., 1.],\n",
       "        [1., 1., 1., 3., 3., 3., 3., 1., 1., 1., 1., 3.],\n",
       "        [2., 4., 1., 1., 1., 1., 2., 1., 1., 1., 1., 1.],\n",
       "        [1., 2., 3., 3., 3., 3., 2., 1., 1., 1., 1., 1.],\n",
       "        [2., 4., 2., 2., 2., 2., 2., 2., 2., 1., 2., 2.],\n",
       "        [1., 1., 1., 1., 1., 1., 1., 1., 1., 2., 3., 3.],\n",
       "        [2., 3., 3., 3., 3., 3., 3., 3., 1., 1., 1., 3.],\n",
       "        [1., 1., 3., 3., 1., 3., 1., 3., 1., 1., 1., 3.],\n",
       "        [2., 1., 1., 3., 3., 3., 2., 1., 1., 1., 1., 1.],\n",
       "        [2., 1., 3., 3., 3., 3., 3., 1., 1., 1., 3., 3.],\n",
       "        [1., 1., 1., 1., 1., 1., 1., 1., 3., 1., 2., 3.],\n",
       "        [1., 1., 1., 1., 2., 1., 1., 2., 1., 1., 2., 2.],\n",
       "        [1., 1., 1., 1., 1., 1., 1., 1., 3., 2., 2., 1.],\n",
       "        [1., 1., 1., 3., 3., 3., 2., 3., 1., 2., 1., 3.],\n",
       "        [1., 4., 1., 2., 2., 1., 1., 2., 1., 2., 1., 2.],\n",
       "        [1., 1., 1., 1., 1., 1., 2., 1., 1., 1., 1., 2.],\n",
       "        [1., 2., 1., 1., 2., 3., 1., 1., 1., 2., 1., 3.],\n",
       "        [1., 1., 3., 3., 3., 3., 3., 2., 1., 1., 2., 3.],\n",
       "        [1., 1., 1., 1., 1., 1., 1., 1., 1., 1., 2., 3.],\n",
       "        [2., 1., 1., 3., 3., 3., 1., 2., 1., 1., 1., 2.],\n",
       "        [1., 1., 1., 3., 3., 3., 2., 3., 1., 1., 2., 1.],\n",
       "        [1., 1., 1., 2., 2., 3., 1., 3., 2., 2., 2., 2.],\n",
       "        [1., 1., 1., 3., 3., 3., 2., 3., 2., 1., 1., 3.],\n",
       "        [1., 4., 3., 3., 3., 1., 2., 1., 1., 1., 1., 1.],\n",
       "        [2., 3., 1., 1., 1., 1., 1., 1., 2., 1., 2., 2.]]),\n",
       " 4: array([[1., 1., 1., ..., 2., 3., 2.],\n",
       "        [2., 1., 1., ..., 2., 1., 1.],\n",
       "        [1., 1., 1., ..., 2., 1., 1.],\n",
       "        ...,\n",
       "        [2., 3., 2., ..., 1., 1., 2.],\n",
       "        [2., 1., 1., ..., 1., 2., 3.],\n",
       "        [1., 1., 1., ..., 1., 1., 2.]]),\n",
       " 5: array([[1., 1., 3., ..., 1., 1., 2.],\n",
       "        [2., 2., 3., ..., 1., 1., 2.],\n",
       "        [1., 1., 1., ..., 1., 2., 2.],\n",
       "        ...,\n",
       "        [1., 4., 2., ..., 2., 1., 2.],\n",
       "        [2., 1., 1., ..., 1., 1., 2.],\n",
       "        [1., 1., 3., ..., 2., 1., 3.]]),\n",
       " 6: array([[2., 1., 3., 3., 3., 3., 1., 3., 1., 1., 2., 3.],\n",
       "        [2., 1., 1., 1., 2., 1., 1., 1., 1., 1., 1., 1.],\n",
       "        [2., 3., 1., 3., 3., 3., 3., 3., 3., 1., 1., 3.],\n",
       "        [2., 1., 1., 3., 2., 1., 1., 1., 1., 2., 2., 1.],\n",
       "        [1., 1., 3., 3., 3., 3., 3., 3., 1., 2., 1., 3.],\n",
       "        [1., 1., 2., 3., 3., 3., 2., 3., 2., 2., 2., 3.],\n",
       "        [1., 1., 3., 3., 3., 3., 1., 3., 1., 1., 1., 3.],\n",
       "        [1., 1., 1., 1., 1., 3., 1., 1., 3., 1., 2., 3.],\n",
       "        [1., 1., 1., 1., 1., 1., 1., 1., 1., 1., 2., 3.],\n",
       "        [1., 1., 1., 3., 3., 2., 1., 2., 1., 1., 2., 2.],\n",
       "        [2., 1., 1., 1., 3., 1., 1., 3., 1., 1., 1., 1.],\n",
       "        [2., 3., 3., 3., 3., 3., 3., 2., 2., 1., 1., 2.],\n",
       "        [2., 1., 1., 1., 1., 1., 1., 1., 1., 2., 1., 1.],\n",
       "        [1., 1., 1., 1., 1., 1., 1., 1., 1., 1., 1., 1.],\n",
       "        [2., 1., 1., 3., 3., 3., 2., 3., 1., 1., 1., 2.],\n",
       "        [2., 1., 3., 3., 3., 3., 3., 2., 1., 2., 2., 2.],\n",
       "        [1., 4., 1., 3., 3., 2., 3., 2., 1., 1., 1., 3.],\n",
       "        [2., 4., 1., 2., 2., 1., 2., 1., 1., 1., 1., 2.],\n",
       "        [1., 1., 3., 3., 3., 3., 2., 3., 1., 1., 2., 3.],\n",
       "        [1., 1., 3., 3., 3., 3., 3., 3., 1., 2., 2., 3.],\n",
       "        [1., 1., 1., 1., 1., 1., 1., 1., 1., 2., 3., 1.],\n",
       "        [1., 1., 1., 1., 2., 1., 2., 3., 1., 1., 1., 2.],\n",
       "        [1., 4., 1., 3., 3., 3., 3., 3., 3., 1., 1., 3.],\n",
       "        [1., 4., 3., 3., 3., 3., 3., 3., 1., 1., 1., 3.],\n",
       "        [2., 1., 3., 3., 3., 3., 3., 1., 2., 1., 3., 3.],\n",
       "        [2., 1., 3., 2., 3., 3., 1., 1., 1., 1., 1., 1.],\n",
       "        [1., 1., 3., 3., 3., 3., 3., 3., 1., 1., 2., 3.],\n",
       "        [1., 1., 2., 1., 2., 1., 3., 1., 1., 1., 2., 2.],\n",
       "        [1., 1., 3., 3., 3., 3., 3., 3., 2., 2., 1., 2.],\n",
       "        [2., 1., 1., 3., 3., 3., 1., 2., 1., 1., 1., 2.],\n",
       "        [2., 1., 3., 3., 3., 3., 1., 3., 2., 1., 2., 3.],\n",
       "        [1., 2., 3., 3., 3., 3., 3., 2., 1., 2., 1., 3.],\n",
       "        [1., 1., 2., 3., 3., 3., 3., 3., 2., 2., 2., 3.],\n",
       "        [1., 4., 1., 2., 2., 3., 2., 3., 2., 2., 1., 2.],\n",
       "        [2., 4., 1., 1., 1., 1., 2., 1., 1., 1., 1., 1.],\n",
       "        [1., 1., 3., 3., 3., 3., 1., 3., 3., 1., 3., 3.],\n",
       "        [1., 1., 1., 3., 3., 3., 1., 3., 1., 1., 1., 1.],\n",
       "        [1., 1., 1., 1., 1., 1., 2., 1., 1., 1., 1., 1.],\n",
       "        [1., 1., 2., 3., 3., 3., 2., 3., 3., 1., 3., 1.],\n",
       "        [1., 1., 1., 2., 2., 3., 1., 2., 2., 1., 2., 3.],\n",
       "        [2., 1., 1., 1., 1., 1., 1., 1., 3., 1., 1., 1.],\n",
       "        [1., 1., 1., 1., 3., 3., 1., 2., 1., 2., 2., 1.],\n",
       "        [1., 3., 1., 2., 2., 1., 2., 3., 2., 2., 1., 2.],\n",
       "        [2., 1., 2., 3., 3., 3., 3., 3., 2., 2., 1., 3.],\n",
       "        [2., 2., 3., 3., 3., 3., 2., 3., 3., 1., 1., 2.],\n",
       "        [1., 1., 3., 3., 3., 3., 3., 3., 1., 2., 1., 2.],\n",
       "        [1., 1., 1., 1., 1., 1., 1., 1., 3., 1., 2., 3.],\n",
       "        [1., 4., 2., 3., 3., 2., 2., 3., 2., 2., 1., 3.],\n",
       "        [2., 1., 1., 3., 2., 2., 1., 2., 1., 2., 3., 1.],\n",
       "        [1., 1., 3., 3., 3., 3., 3., 3., 1., 1., 1., 3.],\n",
       "        [1., 1., 2., 3., 3., 3., 2., 3., 1., 2., 1., 3.],\n",
       "        [2., 2., 1., 3., 2., 3., 3., 3., 2., 1., 1., 2.],\n",
       "        [1., 2., 3., 3., 3., 3., 3., 3., 1., 1., 1., 3.],\n",
       "        [2., 4., 1., 1., 2., 2., 2., 1., 1., 1., 1., 2.],\n",
       "        [1., 1., 1., 1., 3., 3., 1., 2., 1., 1., 2., 1.],\n",
       "        [1., 1., 1., 3., 3., 3., 3., 3., 3., 1., 1., 1.],\n",
       "        [2., 1., 1., 3., 3., 3., 1., 1., 1., 1., 1., 3.],\n",
       "        [2., 2., 1., 1., 1., 1., 1., 1., 1., 1., 1., 1.],\n",
       "        [2., 4., 2., 3., 3., 3., 2., 2., 2., 1., 2., 2.],\n",
       "        [2., 3., 1., 2., 2., 2., 1., 2., 2., 1., 2., 2.],\n",
       "        [1., 4., 3., 3., 3., 3., 3., 1., 3., 1., 1., 3.],\n",
       "        [2., 2., 3., 3., 3., 3., 3., 3., 3., 1., 1., 3.],\n",
       "        [2., 1., 1., 3., 1., 3., 1., 3., 2., 1., 2., 1.]])}"
      ]
     },
     "execution_count": 8,
     "metadata": {},
     "output_type": "execute_result"
    }
   ],
   "source": [
    "attributes"
   ]
  },
  {
   "cell_type": "code",
   "execution_count": 9,
   "id": "korean-array",
   "metadata": {},
   "outputs": [],
   "source": [
    "import mca\n"
   ]
  },
  {
   "cell_type": "code",
   "execution_count": 10,
   "id": "complex-binary",
   "metadata": {},
   "outputs": [
    {
     "name": "stdout",
     "output_type": "stream",
     "text": [
      "    abortion_  deathpen_  gaymarriage_  hometown_1  marijuana_  euthanasia_  \\\n",
      "0         3.0        3.0           3.0         1.0         2.0          3.0   \n",
      "1         2.0        2.0           1.0         1.0         3.0          2.0   \n",
      "2         3.0        3.0           3.0         1.0         3.0          3.0   \n",
      "3         3.0        1.0           3.0         1.0         2.0          1.0   \n",
      "4         3.0        2.0           2.0         1.0         1.0          1.0   \n",
      "..        ...        ...           ...         ...         ...          ...   \n",
      "93        1.0        3.0           1.0         2.0         1.0          3.0   \n",
      "94        3.0        3.0           1.0         1.0         3.0          3.0   \n",
      "95        1.0        2.0           1.0         1.0         1.0          2.0   \n",
      "96        1.0        1.0           2.0         3.0         1.0          2.0   \n",
      "97        3.0        1.0           3.0         1.0         3.0          3.0   \n",
      "\n",
      "    age_1  homosexual_  ethnicity_1  political_  premaritalsex_  gender_1  \n",
      "0     1.0          3.0          2.0         1.0             3.0       2.0  \n",
      "1     1.0          2.0          2.0         1.0             2.0       2.0  \n",
      "2     1.0          1.0          2.0         3.0             3.0       1.0  \n",
      "3     2.0          3.0          2.0         3.0             3.0       1.0  \n",
      "4     2.0          3.0          2.0         2.0             3.0       1.0  \n",
      "..    ...          ...          ...         ...             ...       ...  \n",
      "93    1.0          1.0          1.0         1.0             3.0       1.0  \n",
      "94    1.0          3.0          2.0         3.0             3.0       2.0  \n",
      "95    2.0          1.0          4.0         2.0             3.0       1.0  \n",
      "96    2.0          1.0          1.0         1.0             1.0       2.0  \n",
      "97    2.0          3.0          1.0         2.0             3.0       1.0  \n",
      "\n",
      "[98 rows x 12 columns]\n"
     ]
    }
   ],
   "source": [
    "df = pd.DataFrame(data=attributes[1], columns=attribute_values)\n",
    "print(df)"
   ]
  },
  {
   "cell_type": "code",
   "execution_count": 11,
   "id": "brazilian-trustee",
   "metadata": {},
   "outputs": [
    {
     "name": "stdout",
     "output_type": "stream",
     "text": [
      "[0 0 0 0 0 0 0 0 0 0 0 0]\n"
     ]
    }
   ],
   "source": [
    "mca_counts = mca.MCA(df, ncols = len(attribute_values))\n",
    "# print(mca_counts.fs_r(1))\n",
    "print(mca_counts.L)"
   ]
  },
  {
   "cell_type": "markdown",
   "id": "injured-athletics",
   "metadata": {},
   "source": [
    "# PCA\n",
    "Trying simple PCA, although it is not recommended. To do it we need to remove categorical data first. "
   ]
  },
  {
   "cell_type": "code",
   "execution_count": 20,
   "id": "ongoing-prisoner",
   "metadata": {},
   "outputs": [
    {
     "name": "stdout",
     "output_type": "stream",
     "text": [
      "{'marijuana_', 'deathpen_', 'political_', 'premaritalsex_', 'homosexual_', 'euthanasia_', 'abortion_', 'gaymarriage_'}\n",
      "{1: array([[2., 3., 1., 3., 3., 3., 3., 3.],\n",
      "       [3., 2., 1., 2., 2., 2., 2., 1.],\n",
      "       [3., 3., 3., 3., 1., 3., 3., 3.],\n",
      "       [2., 1., 3., 3., 3., 1., 3., 3.],\n",
      "       [1., 2., 2., 3., 3., 1., 3., 2.],\n",
      "       [1., 1., 2., 1., 1., 3., 1., 1.],\n",
      "       [1., 2., 1., 1., 2., 1., 1., 2.],\n",
      "       [3., 2., 2., 1., 1., 2., 2., 2.],\n",
      "       [2., 1., 2., 3., 3., 3., 3., 3.],\n",
      "       [3., 1., 3., 3., 3., 1., 1., 3.],\n",
      "       [2., 1., 2., 1., 1., 3., 1., 1.],\n",
      "       [1., 1., 1., 1., 1., 1., 1., 2.],\n",
      "       [3., 1., 1., 3., 3., 2., 1., 3.],\n",
      "       [3., 1., 1., 1., 2., 1., 1., 1.],\n",
      "       [3., 3., 3., 3., 3., 3., 1., 3.],\n",
      "       [2., 1., 1., 2., 2., 3., 1., 1.],\n",
      "       [2., 2., 1., 3., 1., 2., 1., 1.],\n",
      "       [3., 3., 1., 1., 1., 3., 1., 1.],\n",
      "       [3., 2., 3., 2., 3., 3., 3., 3.],\n",
      "       [3., 1., 1., 3., 1., 3., 1., 3.],\n",
      "       [3., 3., 1., 3., 3., 3., 3., 3.],\n",
      "       [3., 1., 3., 3., 3., 3., 3., 3.],\n",
      "       [3., 1., 1., 3., 3., 3., 1., 3.],\n",
      "       [3., 1., 3., 3., 3., 3., 3., 3.],\n",
      "       [3., 3., 2., 3., 3., 2., 2., 3.],\n",
      "       [2., 1., 1., 1., 1., 1., 1., 1.],\n",
      "       [1., 1., 2., 1., 1., 3., 1., 2.],\n",
      "       [2., 2., 1., 1., 1., 1., 1., 1.],\n",
      "       [1., 2., 1., 2., 1., 1., 1., 3.],\n",
      "       [2., 1., 2., 1., 1., 1., 1., 1.],\n",
      "       [1., 1., 3., 1., 1., 1., 1., 1.],\n",
      "       [3., 1., 3., 3., 3., 3., 3., 3.],\n",
      "       [1., 2., 1., 3., 3., 3., 3., 3.],\n",
      "       [3., 2., 3., 3., 3., 3., 1., 3.],\n",
      "       [1., 1., 2., 1., 3., 3., 1., 3.],\n",
      "       [1., 1., 1., 1., 1., 1., 1., 1.],\n",
      "       [1., 1., 1., 1., 3., 3., 3., 3.],\n",
      "       [3., 1., 2., 3., 3., 3., 3., 2.],\n",
      "       [3., 3., 2., 3., 3., 3., 3., 3.],\n",
      "       [1., 3., 1., 1., 1., 1., 1., 1.],\n",
      "       [1., 1., 1., 1., 1., 3., 1., 1.],\n",
      "       [1., 1., 2., 3., 1., 2., 1., 2.],\n",
      "       [1., 1., 3., 2., 3., 1., 3., 3.],\n",
      "       [1., 1., 1., 1., 1., 1., 1., 1.],\n",
      "       [1., 3., 1., 1., 1., 2., 1., 1.],\n",
      "       [3., 2., 3., 3., 3., 3., 3., 3.],\n",
      "       [1., 1., 1., 3., 1., 3., 1., 1.],\n",
      "       [1., 1., 1., 3., 3., 3., 1., 3.],\n",
      "       [1., 2., 3., 3., 3., 3., 3., 3.],\n",
      "       [1., 1., 1., 1., 1., 1., 1., 1.],\n",
      "       [1., 1., 1., 3., 3., 3., 2., 3.],\n",
      "       [3., 2., 3., 3., 3., 2., 3., 3.],\n",
      "       [1., 3., 1., 3., 3., 3., 3., 3.],\n",
      "       [1., 1., 1., 1., 1., 1., 1., 3.],\n",
      "       [1., 2., 3., 3., 3., 2., 3., 3.],\n",
      "       [1., 3., 3., 3., 3., 1., 3., 3.],\n",
      "       [1., 1., 1., 1., 1., 2., 1., 1.],\n",
      "       [1., 1., 1., 1., 1., 2., 1., 1.],\n",
      "       [1., 2., 3., 3., 3., 3., 3., 3.],\n",
      "       [2., 2., 3., 3., 3., 3., 3., 3.],\n",
      "       [3., 1., 3., 3., 1., 3., 1., 1.],\n",
      "       [1., 1., 1., 1., 1., 1., 1., 2.],\n",
      "       [3., 1., 2., 3., 2., 2., 3., 2.],\n",
      "       [1., 1., 3., 3., 3., 1., 1., 3.],\n",
      "       [1., 1., 3., 3., 1., 1., 1., 1.],\n",
      "       [3., 1., 3., 3., 3., 2., 1., 3.],\n",
      "       [2., 1., 2., 3., 3., 3., 1., 3.],\n",
      "       [1., 1., 1., 3., 3., 2., 1., 3.],\n",
      "       [1., 2., 1., 3., 1., 3., 1., 2.],\n",
      "       [2., 2., 2., 3., 2., 2., 2., 2.],\n",
      "       [1., 3., 1., 3., 1., 1., 1., 1.],\n",
      "       [3., 1., 3., 3., 3., 3., 3., 3.],\n",
      "       [2., 1., 1., 1., 1., 2., 1., 1.],\n",
      "       [1., 3., 1., 3., 3., 2., 1., 2.],\n",
      "       [1., 3., 1., 3., 3., 3., 3., 2.],\n",
      "       [1., 2., 1., 3., 1., 3., 1., 1.],\n",
      "       [1., 1., 1., 3., 3., 1., 1., 1.],\n",
      "       [1., 3., 3., 3., 3., 3., 3., 3.],\n",
      "       [3., 2., 2., 3., 3., 2., 2., 3.],\n",
      "       [1., 1., 1., 1., 1., 1., 1., 3.],\n",
      "       [1., 2., 1., 1., 1., 3., 1., 3.],\n",
      "       [1., 2., 1., 1., 1., 3., 1., 1.],\n",
      "       [1., 1., 1., 1., 1., 2., 1., 1.],\n",
      "       [2., 2., 2., 2., 3., 2., 1., 3.],\n",
      "       [2., 3., 3., 3., 3., 3., 3., 2.],\n",
      "       [1., 1., 1., 1., 1., 1., 1., 1.],\n",
      "       [1., 1., 1., 3., 3., 3., 3., 1.],\n",
      "       [2., 1., 3., 3., 3., 3., 1., 3.],\n",
      "       [1., 3., 1., 3., 1., 1., 1., 1.],\n",
      "       [3., 2., 3., 3., 3., 1., 3., 3.],\n",
      "       [1., 1., 2., 1., 2., 1., 1., 2.],\n",
      "       [2., 1., 1., 1., 1., 1., 1., 1.],\n",
      "       [2., 3., 1., 3., 3., 3., 1., 3.],\n",
      "       [1., 3., 1., 3., 1., 3., 1., 1.],\n",
      "       [3., 3., 3., 3., 3., 3., 3., 1.],\n",
      "       [1., 2., 2., 3., 1., 2., 1., 1.],\n",
      "       [1., 1., 1., 1., 1., 2., 1., 2.],\n",
      "       [3., 1., 2., 3., 3., 3., 3., 3.]]), 2: array([[1., 1., 1., 1., 1., 3., 1., 1.],\n",
      "       [1., 1., 1., 1., 1., 1., 1., 1.],\n",
      "       [1., 2., 1., 3., 3., 3., 1., 3.],\n",
      "       [3., 3., 3., 3., 3., 3., 1., 3.],\n",
      "       [1., 2., 2., 1., 1., 2., 2., 1.],\n",
      "       [3., 1., 2., 3., 3., 1., 1., 3.],\n",
      "       [1., 1., 3., 3., 3., 3., 3., 3.],\n",
      "       [3., 3., 1., 3., 3., 3., 1., 3.],\n",
      "       [1., 1., 2., 1., 1., 1., 1., 1.],\n",
      "       [1., 3., 2., 3., 3., 3., 3., 3.],\n",
      "       [1., 1., 1., 1., 1., 1., 1., 1.],\n",
      "       [2., 1., 1., 1., 1., 1., 1., 1.],\n",
      "       [2., 2., 1., 3., 2., 3., 1., 1.],\n",
      "       [1., 1., 2., 3., 3., 1., 1., 1.],\n",
      "       [1., 3., 3., 3., 1., 3., 1., 1.],\n",
      "       [2., 2., 1., 3., 3., 3., 1., 3.],\n",
      "       [3., 1., 2., 2., 3., 3., 1., 3.],\n",
      "       [1., 1., 3., 1., 3., 1., 1., 1.],\n",
      "       [1., 1., 3., 3., 3., 3., 3., 3.],\n",
      "       [3., 1., 2., 1., 1., 1., 1., 2.],\n",
      "       [1., 1., 1., 1., 1., 1., 1., 1.],\n",
      "       [3., 3., 1., 3., 3., 3., 3., 3.],\n",
      "       [3., 1., 1., 3., 1., 3., 1., 3.],\n",
      "       [3., 1., 3., 3., 3., 3., 3., 3.],\n",
      "       [3., 1., 1., 1., 3., 2., 1., 2.],\n",
      "       [3., 1., 2., 3., 3., 3., 2., 3.],\n",
      "       [3., 2., 3., 3., 3., 2., 3., 3.],\n",
      "       [2., 1., 1., 1., 1., 1., 1., 3.],\n",
      "       [1., 3., 1., 1., 1., 2., 1., 1.],\n",
      "       [1., 1., 3., 1., 1., 2., 1., 3.],\n",
      "       [3., 1., 2., 3., 3., 3., 3., 3.],\n",
      "       [3., 1., 2., 3., 3., 1., 1., 3.],\n",
      "       [1., 3., 1., 1., 1., 3., 1., 1.],\n",
      "       [1., 1., 1., 1., 1., 1., 1., 2.],\n",
      "       [1., 1., 1., 1., 2., 1., 1., 2.],\n",
      "       [3., 3., 3., 3., 3., 3., 3., 3.],\n",
      "       [1., 1., 3., 3., 3., 3., 3., 3.],\n",
      "       [1., 1., 1., 1., 3., 2., 1., 3.],\n",
      "       [3., 1., 3., 3., 3., 1., 3., 3.],\n",
      "       [1., 3., 1., 3., 1., 3., 1., 1.],\n",
      "       [2., 2., 1., 3., 3., 3., 1., 3.],\n",
      "       [3., 1., 1., 1., 3., 3., 1., 3.],\n",
      "       [2., 1., 2., 1., 1., 1., 1., 1.],\n",
      "       [1., 1., 1., 3., 1., 3., 1., 2.],\n",
      "       [2., 1., 3., 3., 3., 3., 3., 3.],\n",
      "       [3., 1., 3., 3., 3., 1., 1., 3.],\n",
      "       [1., 1., 1., 1., 2., 1., 1., 3.],\n",
      "       [2., 1., 3., 3., 3., 2., 3., 3.],\n",
      "       [1., 1., 1., 1., 1., 3., 1., 2.],\n",
      "       [2., 1., 2., 3., 3., 2., 3., 3.],\n",
      "       [2., 2., 2., 2., 2., 2., 2., 2.],\n",
      "       [1., 1., 2., 1., 2., 1., 1., 2.],\n",
      "       [3., 2., 3., 3., 3., 3., 2., 3.],\n",
      "       [3., 2., 2., 3., 3., 3., 3., 3.],\n",
      "       [3., 2., 2., 3., 3., 1., 2., 3.],\n",
      "       [2., 1., 2., 1., 3., 3., 1., 3.],\n",
      "       [2., 2., 2., 1., 1., 1., 1., 1.],\n",
      "       [1., 2., 1., 1., 1., 2., 1., 2.],\n",
      "       [1., 1., 1., 3., 3., 3., 3., 2.],\n",
      "       [3., 1., 3., 3., 3., 3., 3., 3.],\n",
      "       [3., 2., 3., 3., 3., 2., 1., 3.],\n",
      "       [3., 1., 3., 3., 3., 2., 1., 3.],\n",
      "       [3., 1., 1., 3., 3., 3., 3., 3.],\n",
      "       [1., 1., 2., 3., 3., 3., 1., 1.],\n",
      "       [3., 1., 1., 3., 3., 1., 1., 1.],\n",
      "       [1., 1., 3., 3., 3., 3., 3., 3.],\n",
      "       [1., 2., 1., 1., 1., 2., 1., 1.],\n",
      "       [1., 1., 3., 3., 3., 1., 3., 3.],\n",
      "       [1., 1., 1., 1., 1., 1., 1., 3.],\n",
      "       [2., 1., 3., 3., 3., 1., 3., 3.],\n",
      "       [2., 1., 2., 1., 2., 1., 1., 1.],\n",
      "       [3., 1., 2., 3., 3., 2., 1., 3.],\n",
      "       [3., 1., 2., 3., 3., 3., 3., 3.],\n",
      "       [1., 3., 1., 3., 1., 1., 1., 2.],\n",
      "       [1., 1., 1., 1., 1., 2., 1., 1.],\n",
      "       [1., 3., 1., 1., 3., 1., 1., 2.],\n",
      "       [2., 2., 3., 3., 3., 3., 1., 3.],\n",
      "       [2., 2., 2., 2., 2., 2., 2., 2.],\n",
      "       [3., 1., 3., 3., 3., 3., 3., 3.],\n",
      "       [2., 1., 1., 3., 1., 3., 1., 1.],\n",
      "       [3., 1., 1., 3., 3., 2., 1., 3.],\n",
      "       [1., 1., 1., 3., 3., 1., 1., 3.],\n",
      "       [2., 1., 1., 3., 3., 2., 1., 1.],\n",
      "       [3., 2., 3., 3., 3., 3., 3., 3.],\n",
      "       [2., 2., 1., 3., 3., 3., 1., 3.],\n",
      "       [3., 2., 2., 3., 3., 2., 1., 1.],\n",
      "       [1., 2., 1., 3., 3., 1., 1., 3.],\n",
      "       [1., 3., 1., 3., 3., 3., 1., 3.],\n",
      "       [1., 1., 3., 2., 3., 2., 2., 3.]]), 3: array([[1., 1., 2., 3., 3., 3., 3., 3.],\n",
      "       [1., 1., 1., 1., 1., 1., 1., 1.],\n",
      "       [3., 1., 2., 1., 1., 1., 1., 2.],\n",
      "       [3., 3., 3., 3., 3., 3., 1., 3.],\n",
      "       [2., 1., 1., 3., 3., 3., 3., 3.],\n",
      "       [1., 1., 2., 1., 1., 3., 3., 3.],\n",
      "       [2., 1., 1., 3., 3., 2., 1., 3.],\n",
      "       [1., 1., 3., 3., 3., 2., 3., 3.],\n",
      "       [1., 1., 1., 1., 3., 1., 1., 1.],\n",
      "       [1., 1., 1., 1., 1., 1., 1., 1.],\n",
      "       [1., 2., 1., 3., 2., 3., 2., 3.],\n",
      "       [1., 1., 1., 3., 3., 1., 1., 1.],\n",
      "       [1., 3., 1., 1., 1., 2., 1., 1.],\n",
      "       [3., 1., 1., 1., 1., 1., 1., 3.],\n",
      "       [3., 3., 1., 3., 1., 3., 1., 2.],\n",
      "       [3., 1., 3., 3., 3., 3., 3., 3.],\n",
      "       [3., 1., 2., 3., 3., 2., 1., 3.],\n",
      "       [3., 1., 3., 3., 3., 3., 3., 3.],\n",
      "       [3., 1., 1., 1., 2., 1., 1., 2.],\n",
      "       [2., 1., 3., 3., 3., 3., 3., 3.],\n",
      "       [1., 1., 3., 1., 3., 2., 1., 3.],\n",
      "       [1., 1., 1., 1., 3., 1., 1., 1.],\n",
      "       [3., 2., 3., 3., 3., 3., 2., 3.],\n",
      "       [1., 1., 1., 1., 2., 1., 1., 2.],\n",
      "       [2., 1., 3., 3., 3., 3., 3., 3.],\n",
      "       [3., 1., 2., 3., 2., 2., 1., 2.],\n",
      "       [2., 1., 3., 3., 3., 2., 1., 3.],\n",
      "       [2., 2., 1., 1., 2., 2., 1., 2.],\n",
      "       [2., 1., 2., 3., 3., 1., 1., 3.],\n",
      "       [3., 1., 3., 3., 3., 2., 3., 3.],\n",
      "       [3., 2., 3., 3., 3., 2., 3., 3.],\n",
      "       [3., 2., 2., 2., 3., 3., 2., 2.],\n",
      "       [3., 1., 2., 3., 3., 1., 1., 3.],\n",
      "       [3., 2., 2., 1., 1., 2., 1., 1.],\n",
      "       [1., 3., 1., 2., 2., 3., 1., 3.],\n",
      "       [1., 3., 1., 3., 3., 1., 1., 2.],\n",
      "       [1., 1., 1., 1., 2., 1., 1., 1.],\n",
      "       [3., 1., 1., 3., 1., 1., 1., 3.],\n",
      "       [3., 3., 1., 3., 3., 3., 3., 3.],\n",
      "       [1., 3., 1., 3., 3., 3., 3., 3.],\n",
      "       [1., 2., 1., 1., 2., 1., 1., 1.],\n",
      "       [1., 3., 1., 3., 1., 3., 1., 1.],\n",
      "       [2., 2., 3., 2., 3., 3., 2., 3.],\n",
      "       [1., 1., 3., 1., 1., 1., 2., 3.],\n",
      "       [1., 1., 3., 3., 3., 3., 1., 3.],\n",
      "       [1., 1., 2., 1., 1., 1., 1., 1.],\n",
      "       [1., 1., 2., 3., 3., 1., 3., 3.],\n",
      "       [2., 2., 2., 2., 2., 2., 2., 2.],\n",
      "       [1., 1., 1., 1., 1., 3., 1., 1.],\n",
      "       [3., 1., 3., 3., 3., 3., 3., 3.],\n",
      "       [3., 1., 1., 3., 3., 3., 3., 1.],\n",
      "       [1., 1., 2., 3., 3., 1., 1., 3.],\n",
      "       [1., 1., 3., 3., 3., 3., 3., 3.],\n",
      "       [1., 3., 1., 1., 1., 3., 1., 1.],\n",
      "       [2., 1., 1., 1., 1., 2., 1., 2.],\n",
      "       [1., 3., 1., 1., 1., 1., 1., 1.],\n",
      "       [3., 1., 2., 3., 3., 3., 1., 3.],\n",
      "       [2., 1., 1., 1., 2., 2., 1., 2.],\n",
      "       [1., 1., 2., 1., 1., 2., 1., 1.],\n",
      "       [1., 1., 1., 3., 1., 3., 1., 2.],\n",
      "       [2., 1., 3., 3., 3., 3., 3., 3.],\n",
      "       [1., 1., 1., 1., 1., 3., 1., 1.],\n",
      "       [2., 1., 1., 3., 3., 2., 1., 3.],\n",
      "       [3., 1., 2., 3., 3., 1., 1., 3.],\n",
      "       [3., 2., 1., 3., 2., 2., 1., 2.],\n",
      "       [3., 2., 2., 3., 3., 3., 1., 3.],\n",
      "       [1., 1., 2., 1., 3., 1., 3., 3.],\n",
      "       [1., 2., 1., 1., 1., 2., 1., 1.]]), 4: array([[1., 1., 1., 1., 1., 2., 1., 1.],\n",
      "       [1., 1., 1., 1., 1., 1., 1., 1.],\n",
      "       [3., 1., 1., 3., 3., 1., 1., 3.],\n",
      "       [1., 3., 1., 1., 1., 3., 3., 1.],\n",
      "       [1., 1., 3., 1., 3., 3., 1., 3.],\n",
      "       [2., 1., 3., 3., 3., 2., 3., 3.],\n",
      "       [2., 1., 1., 3., 1., 2., 1., 2.],\n",
      "       [3., 1., 3., 3., 3., 3., 1., 3.],\n",
      "       [2., 1., 2., 2., 3., 3., 1., 3.],\n",
      "       [2., 2., 1., 3., 3., 3., 1., 3.],\n",
      "       [3., 1., 1., 1., 1., 1., 1., 3.],\n",
      "       [1., 1., 1., 1., 1., 3., 1., 1.],\n",
      "       [1., 1., 1., 1., 1., 1., 1., 2.],\n",
      "       [3., 2., 3., 3., 3., 3., 3., 3.],\n",
      "       [2., 1., 1., 1., 3., 1., 1., 1.],\n",
      "       [1., 1., 1., 1., 1., 1., 1., 2.],\n",
      "       [1., 1., 1., 1., 1., 1., 1., 1.],\n",
      "       [2., 3., 3., 3., 1., 3., 1., 3.],\n",
      "       [3., 1., 3., 1., 3., 3., 3., 3.],\n",
      "       [1., 3., 1., 1., 1., 3., 1., 1.],\n",
      "       [1., 2., 1., 1., 2., 1., 1., 1.],\n",
      "       [1., 1., 3., 3., 3., 2., 3., 3.],\n",
      "       [1., 1., 3., 2., 3., 3., 1., 3.],\n",
      "       [3., 1., 3., 3., 3., 3., 3., 3.],\n",
      "       [3., 1., 1., 1., 1., 1., 1., 2.],\n",
      "       [3., 1., 2., 3., 3., 3., 3., 3.],\n",
      "       [1., 3., 3., 3., 1., 2., 3., 3.],\n",
      "       [1., 2., 1., 1., 1., 2., 1., 1.],\n",
      "       [2., 2., 2., 1., 2., 1., 1., 2.],\n",
      "       [2., 2., 2., 1., 2., 2., 1., 2.],\n",
      "       [2., 1., 2., 3., 3., 1., 1., 1.],\n",
      "       [1., 3., 1., 3., 1., 1., 1., 1.],\n",
      "       [3., 2., 2., 3., 3., 3., 3., 3.],\n",
      "       [3., 2., 3., 3., 3., 3., 2., 3.],\n",
      "       [1., 1., 1., 1., 2., 1., 1., 2.],\n",
      "       [2., 1., 3., 3., 3., 1., 1., 3.],\n",
      "       [2., 2., 1., 1., 3., 1., 1., 3.],\n",
      "       [1., 1., 3., 3., 3., 3., 1., 3.],\n",
      "       [3., 3., 1., 3., 3., 3., 3., 3.],\n",
      "       [1., 2., 1., 1., 1., 1., 1., 3.],\n",
      "       [2., 2., 2., 1., 1., 1., 1., 1.],\n",
      "       [3., 1., 3., 3., 3., 2., 2., 3.],\n",
      "       [1., 2., 1., 3., 3., 3., 3., 2.],\n",
      "       [3., 2., 3., 3., 3., 2., 3., 3.],\n",
      "       [3., 3., 1., 3., 3., 3., 3., 3.],\n",
      "       [3., 1., 1., 3., 1., 1., 1., 3.],\n",
      "       [1., 3., 1., 1., 1., 1., 1., 1.],\n",
      "       [3., 2., 3., 3., 3., 3., 1., 3.],\n",
      "       [2., 2., 1., 3., 3., 3., 1., 3.],\n",
      "       [1., 3., 1., 1., 1., 2., 1., 1.],\n",
      "       [2., 2., 3., 2., 3., 3., 2., 3.],\n",
      "       [3., 1., 1., 3., 3., 1., 2., 1.],\n",
      "       [2., 1., 2., 3., 3., 2., 3., 3.],\n",
      "       [3., 1., 3., 2., 3., 2., 2., 2.],\n",
      "       [1., 1., 1., 3., 3., 3., 3., 3.],\n",
      "       [3., 1., 1., 1., 2., 1., 1., 1.],\n",
      "       [1., 1., 1., 3., 3., 3., 1., 3.],\n",
      "       [3., 1., 1., 3., 3., 3., 3., 3.],\n",
      "       [1., 2., 1., 1., 1., 1., 1., 1.],\n",
      "       [1., 1., 1., 1., 2., 1., 1., 3.],\n",
      "       [2., 1., 3., 3., 3., 3., 3., 3.],\n",
      "       [2., 1., 2., 1., 1., 1., 1., 1.],\n",
      "       [2., 1., 1., 1., 1., 2., 1., 3.],\n",
      "       [3., 2., 3., 3., 3., 3., 2., 3.],\n",
      "       [1., 3., 1., 3., 3., 3., 1., 3.],\n",
      "       [1., 2., 1., 3., 3., 1., 1., 3.],\n",
      "       [1., 1., 3., 3., 3., 3., 3., 3.],\n",
      "       [3., 3., 2., 3., 2., 3., 3., 3.],\n",
      "       [1., 1., 3., 3., 3., 1., 3., 3.],\n",
      "       [3., 2., 1., 1., 2., 2., 1., 1.],\n",
      "       [1., 1., 2., 3., 1., 1., 1., 3.],\n",
      "       [1., 1., 2., 3., 1., 2., 1., 2.],\n",
      "       [2., 1., 3., 1., 2., 1., 2., 3.],\n",
      "       [3., 3., 1., 3., 3., 3., 3., 3.],\n",
      "       [1., 1., 3., 3., 3., 2., 1., 2.],\n",
      "       [3., 2., 3., 3., 3., 2., 3., 3.],\n",
      "       [3., 2., 3., 2., 3., 3., 3., 3.],\n",
      "       [3., 3., 3., 3., 3., 3., 3., 3.],\n",
      "       [2., 2., 2., 2., 2., 2., 2., 2.],\n",
      "       [3., 1., 3., 3., 3., 2., 1., 2.],\n",
      "       [3., 1., 3., 3., 3., 3., 3., 3.],\n",
      "       [2., 1., 1., 1., 1., 2., 1., 2.],\n",
      "       [1., 3., 1., 3., 3., 1., 1., 3.],\n",
      "       [3., 3., 1., 3., 3., 3., 3., 3.],\n",
      "       [3., 2., 1., 3., 3., 3., 1., 3.],\n",
      "       [3., 2., 2., 3., 3., 3., 3., 3.],\n",
      "       [1., 1., 3., 3., 3., 2., 2., 3.],\n",
      "       [1., 2., 1., 3., 3., 3., 1., 3.],\n",
      "       [1., 1., 2., 1., 1., 2., 1., 2.]]), 5: array([[1., 1., 2., 2., 3., 2., 3., 2.],\n",
      "       [3., 2., 3., 3., 3., 2., 3., 3.],\n",
      "       [2., 2., 1., 3., 3., 2., 1., 2.],\n",
      "       [2., 1., 2., 2., 3., 2., 1., 3.],\n",
      "       [3., 1., 1., 1., 1., 1., 1., 3.],\n",
      "       [1., 3., 1., 1., 1., 2., 1., 1.],\n",
      "       [1., 3., 1., 3., 1., 3., 1., 1.],\n",
      "       [3., 1., 1., 3., 3., 2., 1., 3.],\n",
      "       [3., 3., 3., 3., 3., 3., 3., 3.],\n",
      "       [1., 1., 1., 1., 2., 1., 1., 2.],\n",
      "       [3., 1., 1., 3., 3., 3., 3., 2.],\n",
      "       [3., 2., 3., 3., 3., 2., 3., 3.],\n",
      "       [2., 3., 3., 1., 1., 3., 1., 3.],\n",
      "       [3., 1., 3., 3., 3., 1., 3., 3.],\n",
      "       [1., 1., 1., 1., 1., 1., 1., 1.],\n",
      "       [1., 1., 1., 1., 1., 1., 1., 1.],\n",
      "       [3., 2., 2., 2., 2., 2., 3., 2.],\n",
      "       [1., 1., 2., 1., 1., 1., 1., 1.],\n",
      "       [2., 1., 3., 3., 3., 2., 3., 3.],\n",
      "       [1., 1., 3., 3., 3., 2., 2., 3.],\n",
      "       [1., 1., 1., 1., 1., 1., 1., 1.],\n",
      "       [3., 1., 2., 3., 3., 3., 1., 3.],\n",
      "       [3., 2., 2., 3., 3., 3., 3., 2.],\n",
      "       [1., 1., 1., 1., 1., 1., 1., 1.],\n",
      "       [2., 1., 2., 3., 3., 3., 2., 3.],\n",
      "       [3., 1., 3., 3., 3., 3., 2., 3.],\n",
      "       [2., 1., 3., 3., 3., 2., 3., 3.],\n",
      "       [1., 1., 3., 3., 3., 2., 1., 3.],\n",
      "       [3., 2., 1., 1., 2., 2., 1., 2.],\n",
      "       [2., 1., 2., 3., 3., 2., 1., 1.],\n",
      "       [3., 2., 1., 3., 3., 3., 1., 3.],\n",
      "       [2., 1., 2., 2., 3., 3., 1., 3.],\n",
      "       [1., 2., 1., 3., 3., 3., 1., 3.],\n",
      "       [1., 2., 1., 1., 1., 1., 1., 2.],\n",
      "       [1., 3., 1., 1., 1., 3., 1., 1.],\n",
      "       [3., 1., 3., 3., 3., 3., 2., 3.],\n",
      "       [3., 1., 2., 3., 3., 3., 3., 3.],\n",
      "       [1., 1., 1., 3., 3., 3., 1., 3.],\n",
      "       [1., 1., 1., 3., 3., 1., 1., 1.],\n",
      "       [3., 3., 2., 3., 3., 2., 3., 3.],\n",
      "       [2., 2., 2., 3., 2., 2., 3., 2.],\n",
      "       [1., 1., 1., 1., 2., 2., 1., 2.],\n",
      "       [2., 2., 3., 3., 2., 2., 2., 3.],\n",
      "       [3., 1., 3., 3., 3., 2., 2., 3.],\n",
      "       [3., 1., 1., 3., 1., 1., 1., 3.],\n",
      "       [1., 3., 1., 3., 3., 3., 1., 3.],\n",
      "       [2., 1., 1., 1., 3., 2., 1., 2.],\n",
      "       [1., 1., 1., 1., 1., 3., 1., 1.],\n",
      "       [1., 1., 2., 1., 1., 2., 1., 2.],\n",
      "       [3., 1., 1., 1., 1., 1., 1., 2.],\n",
      "       [3., 3., 1., 3., 3., 3., 3., 3.],\n",
      "       [3., 3., 3., 3., 3., 3., 3., 1.],\n",
      "       [3., 2., 3., 3., 3., 3., 3., 3.],\n",
      "       [2., 1., 1., 1., 1., 2., 1., 2.],\n",
      "       [2., 2., 1., 2., 2., 2., 1., 2.],\n",
      "       [1., 3., 3., 3., 3., 3., 3., 3.],\n",
      "       [3., 2., 3., 3., 3., 3., 2., 3.],\n",
      "       [2., 2., 2., 2., 2., 2., 2., 2.],\n",
      "       [3., 1., 3., 3., 3., 3., 3., 3.],\n",
      "       [2., 1., 1., 1., 2., 1., 2., 2.],\n",
      "       [1., 1., 1., 1., 2., 1., 1., 2.],\n",
      "       [3., 2., 3., 3., 3., 3., 1., 3.],\n",
      "       [2., 2., 1., 3., 1., 2., 1., 1.],\n",
      "       [2., 1., 3., 1., 2., 3., 1., 3.],\n",
      "       [3., 2., 2., 3., 3., 1., 2., 3.],\n",
      "       [1., 1., 3., 3., 3., 3., 3., 3.],\n",
      "       [1., 2., 1., 3., 3., 1., 1., 3.],\n",
      "       [2., 1., 3., 3., 3., 3., 3., 3.],\n",
      "       [3., 1., 3., 3., 1., 1., 1., 2.],\n",
      "       [1., 2., 1., 1., 1., 1., 1., 1.],\n",
      "       [3., 1., 2., 3., 3., 1., 1., 3.],\n",
      "       [2., 1., 1., 1., 1., 1., 1., 2.],\n",
      "       [3., 2., 2., 3., 3., 2., 3., 3.],\n",
      "       [3., 2., 3., 3., 2., 3., 1., 2.],\n",
      "       [2., 1., 2., 3., 3., 1., 1., 3.],\n",
      "       [3., 3., 1., 3., 3., 3., 3., 3.],\n",
      "       [1., 1., 2., 1., 2., 2., 1., 2.],\n",
      "       [1., 1., 2., 1., 1., 1., 1., 1.],\n",
      "       [3., 2., 1., 3., 3., 3., 1., 3.],\n",
      "       [1., 3., 1., 3., 3., 3., 3., 3.],\n",
      "       [3., 1., 1., 3., 3., 2., 1., 3.],\n",
      "       [1., 1., 1., 3., 1., 1., 1., 3.],\n",
      "       [3., 1., 3., 3., 1., 2., 2., 2.],\n",
      "       [1., 1., 3., 3., 3., 2., 1., 3.],\n",
      "       [3., 1., 2., 3., 3., 3., 3., 2.]]), 6: array([[3., 1., 1., 3., 3., 3., 3., 3.],\n",
      "       [1., 1., 1., 1., 1., 1., 1., 2.],\n",
      "       [3., 3., 3., 3., 3., 3., 1., 3.],\n",
      "       [1., 1., 1., 1., 3., 1., 1., 2.],\n",
      "       [3., 1., 3., 3., 3., 3., 3., 3.],\n",
      "       [3., 2., 2., 3., 3., 3., 2., 3.],\n",
      "       [3., 1., 1., 3., 3., 3., 3., 3.],\n",
      "       [1., 3., 1., 3., 1., 3., 1., 1.],\n",
      "       [1., 1., 1., 1., 1., 3., 1., 1.],\n",
      "       [2., 1., 1., 2., 3., 2., 1., 3.],\n",
      "       [3., 1., 1., 1., 1., 1., 1., 3.],\n",
      "       [2., 2., 3., 3., 3., 2., 3., 3.],\n",
      "       [1., 1., 1., 1., 1., 1., 1., 1.],\n",
      "       [1., 1., 1., 1., 1., 1., 1., 1.],\n",
      "       [3., 1., 2., 3., 3., 2., 1., 3.],\n",
      "       [2., 1., 3., 3., 3., 2., 3., 3.],\n",
      "       [2., 1., 3., 2., 3., 3., 1., 3.],\n",
      "       [1., 1., 2., 1., 2., 2., 1., 2.],\n",
      "       [3., 1., 2., 3., 3., 3., 3., 3.],\n",
      "       [3., 1., 3., 3., 3., 3., 3., 3.],\n",
      "       [1., 1., 1., 1., 1., 1., 1., 1.],\n",
      "       [3., 1., 2., 1., 1., 2., 1., 2.],\n",
      "       [3., 3., 3., 3., 3., 3., 1., 3.],\n",
      "       [3., 1., 3., 3., 3., 3., 3., 3.],\n",
      "       [1., 2., 3., 3., 3., 3., 3., 3.],\n",
      "       [1., 1., 1., 3., 2., 1., 3., 3.],\n",
      "       [3., 1., 3., 3., 3., 3., 3., 3.],\n",
      "       [1., 1., 3., 1., 1., 2., 2., 2.],\n",
      "       [3., 2., 3., 3., 3., 2., 3., 3.],\n",
      "       [2., 1., 1., 3., 3., 2., 1., 3.],\n",
      "       [3., 2., 1., 3., 3., 3., 3., 3.],\n",
      "       [2., 1., 3., 3., 3., 3., 3., 3.],\n",
      "       [3., 2., 3., 3., 3., 3., 2., 3.],\n",
      "       [3., 2., 2., 3., 2., 2., 1., 2.],\n",
      "       [1., 1., 2., 1., 1., 1., 1., 1.],\n",
      "       [3., 3., 1., 3., 3., 3., 3., 3.],\n",
      "       [3., 1., 1., 3., 3., 1., 1., 3.],\n",
      "       [1., 1., 2., 1., 1., 1., 1., 1.],\n",
      "       [3., 3., 2., 3., 3., 1., 2., 3.],\n",
      "       [2., 2., 1., 3., 2., 3., 1., 2.],\n",
      "       [1., 3., 1., 1., 1., 1., 1., 1.],\n",
      "       [2., 1., 1., 3., 1., 1., 1., 3.],\n",
      "       [3., 2., 2., 1., 2., 2., 1., 2.],\n",
      "       [3., 2., 3., 3., 3., 3., 2., 3.],\n",
      "       [3., 3., 2., 3., 3., 2., 3., 3.],\n",
      "       [3., 1., 3., 3., 3., 2., 3., 3.],\n",
      "       [1., 3., 1., 1., 1., 3., 1., 1.],\n",
      "       [3., 2., 2., 2., 3., 3., 2., 3.],\n",
      "       [2., 1., 1., 2., 3., 1., 1., 2.],\n",
      "       [3., 1., 3., 3., 3., 3., 3., 3.],\n",
      "       [3., 1., 2., 3., 3., 3., 2., 3.],\n",
      "       [3., 2., 3., 3., 3., 2., 1., 2.],\n",
      "       [3., 1., 3., 3., 3., 3., 3., 3.],\n",
      "       [1., 1., 2., 2., 1., 2., 1., 2.],\n",
      "       [2., 1., 1., 3., 1., 1., 1., 3.],\n",
      "       [3., 3., 3., 3., 3., 1., 1., 3.],\n",
      "       [1., 1., 1., 3., 3., 3., 1., 3.],\n",
      "       [1., 1., 1., 1., 1., 1., 1., 1.],\n",
      "       [2., 2., 2., 3., 3., 2., 2., 3.],\n",
      "       [2., 2., 1., 2., 2., 2., 1., 2.],\n",
      "       [1., 3., 3., 3., 3., 3., 3., 3.],\n",
      "       [3., 3., 3., 3., 3., 3., 3., 3.],\n",
      "       [3., 2., 1., 3., 3., 1., 1., 1.]])}\n"
     ]
    }
   ],
   "source": [
    "\n",
    "ord_list_of_attributes = list_of_attributes - {'ethnicity_1', 'gender_1', 'hometown_1', 'age_1'}\n",
    "print(ord_list_of_attributes)\n",
    "\n",
    "#creating table of attribute values\n",
    "ord_attributes = dict((i, 0) for i in range(1,7))\n",
    "for i in range(1,7):\n",
    "    ord_attributes[i] = np.zeros([len(data[i].nodes), len(ord_list_of_attributes)])\n",
    "\n",
    "for sem in range(1,7):\n",
    "    for i, node in enumerate(data[sem].nodes()):\n",
    "        for j, attribute in enumerate(ord_list_of_attributes):\n",
    "            ord_attributes[sem][i,j] = data[sem].nodes[node][attribute]\n",
    "print(ord_attributes)"
   ]
  },
  {
   "cell_type": "code",
   "execution_count": 13,
   "id": "greater-greenhouse",
   "metadata": {},
   "outputs": [
    {
     "name": "stdout",
     "output_type": "stream",
     "text": [
      "[0.47038187 0.11940998 0.10246659 0.08957861 0.07116288 0.06436994\n",
      " 0.05160825 0.03102189]\n",
      "[17.11639876  8.62397378  7.98873919  7.46946095  6.65754145  6.33182142\n",
      "  5.66952482  4.39563096]\n"
     ]
    }
   ],
   "source": [
    "from sklearn.decomposition import PCA\n",
    "\n",
    "pca = PCA()\n",
    "pca.fit(ord_attributes[1])\n",
    "print(pca.explained_variance_ratio_)\n",
    "print(pca.singular_values_)"
   ]
  },
  {
   "cell_type": "code",
   "execution_count": 14,
   "id": "better-applicant",
   "metadata": {},
   "outputs": [
    {
     "data": {
      "text/plain": [
       "array([[-0.41745007, -0.27084   , -0.24968005, -0.48425964, -0.41769261,\n",
       "        -0.12955624, -0.3241474 , -0.39901144],\n",
       "       [ 0.07033197, -0.22128266,  0.46844261, -0.09174305,  0.23690543,\n",
       "         0.65333018, -0.43714941, -0.2101619 ],\n",
       "       [-0.13639703,  0.77893658,  0.42464514, -0.28540519, -0.05748098,\n",
       "        -0.07401475,  0.10379584, -0.30548031],\n",
       "       [-0.2445525 , -0.16178306,  0.57800543,  0.17738585, -0.08070223,\n",
       "        -0.52764789, -0.37576774,  0.34976814],\n",
       "       [ 0.67667811, -0.2090991 ,  0.29847934, -0.10553723, -0.58494095,\n",
       "        -0.08275739,  0.17894791, -0.13087866],\n",
       "       [-0.06968337, -0.41560726,  0.23693772, -0.16015638,  0.49896288,\n",
       "        -0.31818028,  0.476098  , -0.40466446],\n",
       "       [ 0.41052265,  0.16193395, -0.2217284 ,  0.27344745,  0.25563998,\n",
       "        -0.37499853, -0.5095246 , -0.46445726],\n",
       "       [ 0.33331801,  0.04570879, -0.09702961, -0.72978919,  0.32112321,\n",
       "        -0.15418497, -0.18315813,  0.42937486]])"
      ]
     },
     "execution_count": 14,
     "metadata": {},
     "output_type": "execute_result"
    }
   ],
   "source": [
    "pca.components_"
   ]
  },
  {
   "cell_type": "markdown",
   "id": "selective-architecture",
   "metadata": {},
   "source": [
    "# Checking correlation for PCA transformed variables"
   ]
  },
  {
   "cell_type": "code",
   "execution_count": 15,
   "id": "juvenile-responsibility",
   "metadata": {},
   "outputs": [],
   "source": [
    "dcor_attributes = dict((i, 0) for i in range(1,7))\n",
    "\n",
    "dcor_attributes = dict((j, np.array([np.sum(pca.components_*ord_attributes[j][i],1) for i in range(0,len(ord_attributes[j]))])) for j in range(1,7))"
   ]
  },
  {
   "cell_type": "code",
   "execution_count": 16,
   "id": "fleet-loading",
   "metadata": {},
   "outputs": [],
   "source": [
    "def get_transformed_attributes(agents, pca_comp = pca.components_):\n",
    "    agents = np.array(agents)\n",
    "    if not hasattr(agents,  \"__len__\"):\n",
    "        agents = [agents]\n",
    "    one_ag = False\n",
    "    if hasattr(agents,  \"shape\"):\n",
    "        if len(agents.shape) == 1:\n",
    "            agents = [agents]\n",
    "            one_ag = True\n",
    "    \n",
    "    transf = np.array([np.sum(pca.components_*agents[i],1) for i in range(0,len(agents))])\n",
    "    \n",
    "    if one_ag:\n",
    "        transf = transf[0]\n",
    "    return transf"
   ]
  },
  {
   "cell_type": "code",
   "execution_count": 17,
   "id": "amateur-organic",
   "metadata": {},
   "outputs": [
    {
     "data": {
      "text/plain": [
       "array([-2.69263746,  0.46867315,  0.4485993 , -0.285294  ,  0.04089202,\n",
       "       -0.15629314, -0.46916477, -0.03463704])"
      ]
     },
     "execution_count": 17,
     "metadata": {},
     "output_type": "execute_result"
    }
   ],
   "source": [
    "get_transformed_attributes(np.ones(8))"
   ]
  },
  {
   "cell_type": "code",
   "execution_count": 18,
   "id": "racial-terminal",
   "metadata": {},
   "outputs": [
    {
     "ename": "NameError",
     "evalue": "name 'agent1' is not defined",
     "output_type": "error",
     "traceback": [
      "\u001b[0;31m---------------------------------------------------------------------------\u001b[0m",
      "\u001b[0;31mNameError\u001b[0m                                 Traceback (most recent call last)",
      "\u001b[0;32m<ipython-input-18-67822f2485ef>\u001b[0m in \u001b[0;36m<module>\u001b[0;34m\u001b[0m\n\u001b[0;32m----> 1\u001b[0;31m \u001b[0mdcor_attributes\u001b[0m\u001b[0;34m[\u001b[0m\u001b[0;36m1\u001b[0m\u001b[0;34m]\u001b[0m\u001b[0;34m.\u001b[0m\u001b[0mshape\u001b[0m\u001b[0;34m,\u001b[0m \u001b[0mget_transformed_attributes\u001b[0m\u001b[0;34m(\u001b[0m\u001b[0mdcor_attributes\u001b[0m\u001b[0;34m[\u001b[0m\u001b[0;36m1\u001b[0m\u001b[0;34m]\u001b[0m\u001b[0;34m[\u001b[0m\u001b[0magent1\u001b[0m\u001b[0;34m]\u001b[0m\u001b[0;34m)\u001b[0m\u001b[0;34m\u001b[0m\u001b[0;34m\u001b[0m\u001b[0m\n\u001b[0m",
      "\u001b[0;31mNameError\u001b[0m: name 'agent1' is not defined"
     ]
    }
   ],
   "source": [
    "dcor_attributes[1].shape, get_transformed_attributes(dcor_attributes[1][agent1])"
   ]
  },
  {
   "cell_type": "code",
   "execution_count": 19,
   "id": "electoral-adaptation",
   "metadata": {},
   "outputs": [],
   "source": [
    "spr_cor, spr_pv = stats.spearmanr(dcor_attributes[1], axis=0)"
   ]
  },
  {
   "cell_type": "code",
   "execution_count": 20,
   "id": "willing-pittsburgh",
   "metadata": {},
   "outputs": [
    {
     "name": "stdout",
     "output_type": "stream",
     "text": [
      "[[ 1.    -0.032 -0.089  0.036 -0.048 -0.07   0.005 -0.057]\n",
      " [-0.032  1.    -0.042  0.039  0.013  0.058 -0.02  -0.021]\n",
      " [-0.089 -0.042  1.    -0.004  0.037 -0.019  0.073 -0.047]\n",
      " [ 0.036  0.039 -0.004  1.     0.042  0.033  0.022 -0.006]\n",
      " [-0.048  0.013  0.037  0.042  1.     0.115 -0.079 -0.045]\n",
      " [-0.07   0.058 -0.019  0.033  0.115  1.    -0.04  -0.003]\n",
      " [ 0.005 -0.02   0.073  0.022 -0.079 -0.04   1.     0.136]\n",
      " [-0.057 -0.021 -0.047 -0.006 -0.045 -0.003  0.136  1.   ]]\n",
      "[[0.    0.751 0.385 0.727 0.636 0.491 0.959 0.577]\n",
      " [0.751 0.    0.682 0.707 0.9   0.568 0.847 0.839]\n",
      " [0.385 0.682 0.    0.967 0.717 0.852 0.472 0.645]\n",
      " [0.727 0.707 0.967 0.    0.68  0.749 0.829 0.955]\n",
      " [0.636 0.9   0.717 0.68  0.    0.26  0.441 0.659]\n",
      " [0.491 0.568 0.852 0.749 0.26  0.    0.693 0.975]\n",
      " [0.959 0.847 0.472 0.829 0.441 0.693 0.    0.183]\n",
      " [0.577 0.839 0.645 0.955 0.659 0.975 0.183 0.   ]]\n"
     ]
    }
   ],
   "source": [
    "np.set_printoptions(precision=3)\n",
    "print(spr_cor)\n",
    "print(spr_pv)"
   ]
  },
  {
   "cell_type": "markdown",
   "id": "administrative-timer",
   "metadata": {},
   "source": [
    "Using PCA variables show that they are decorrelated. So maybe we can use them to calculate polarities, triads etc. \n",
    "But as to calc each new attribute we get all old attributes with certain coefficients, won't the distance just be sum of coefficients for given old attribute times this attribute value?"
   ]
  },
  {
   "cell_type": "markdown",
   "id": "cardiac-advocacy",
   "metadata": {},
   "source": [
    "## Max difference of new attributes"
   ]
  },
  {
   "cell_type": "code",
   "execution_count": 9,
   "id": "affecting-tablet",
   "metadata": {},
   "outputs": [],
   "source": [
    "def calc_distance(agent1, agent2, scale = 1):\n",
    "    return np.sum(np.abs(agent1-agent2)) / len(agent1) / scale\n",
    "\n",
    "def calc_distances(agents, scale = 1):\n",
    "    N, A = agents.shape\n",
    "    \n",
    "    distances = np.zeros([N,N])\n",
    "    \n",
    "    for i in range(0,N):\n",
    "        for j in range(i+1,N):\n",
    "            distances[i,j] = calc_distance(agents[i], agents[j], scale)\n",
    "            distances[j,i] = distances[i,j]\n",
    "    return distances\n"
   ]
  },
  {
   "cell_type": "code",
   "execution_count": 10,
   "id": "heated-winning",
   "metadata": {},
   "outputs": [
    {
     "ename": "NameError",
     "evalue": "name 'pca' is not defined",
     "output_type": "error",
     "traceback": [
      "\u001b[0;31m---------------------------------------------------------------------------\u001b[0m",
      "\u001b[0;31mNameError\u001b[0m                                 Traceback (most recent call last)",
      "\u001b[0;32m<ipython-input-10-9bedfc0a944f>\u001b[0m in \u001b[0;36m<module>\u001b[0;34m\u001b[0m\n\u001b[0;32m----> 1\u001b[0;31m \u001b[0mmax_dif\u001b[0m \u001b[0;34m=\u001b[0m \u001b[0mabs\u001b[0m\u001b[0;34m(\u001b[0m\u001b[0mnp\u001b[0m\u001b[0;34m.\u001b[0m\u001b[0msum\u001b[0m\u001b[0;34m(\u001b[0m\u001b[0;34m[\u001b[0m\u001b[0;36m3\u001b[0m\u001b[0;34m,\u001b[0m\u001b[0;36m3\u001b[0m\u001b[0;34m,\u001b[0m\u001b[0;36m3\u001b[0m\u001b[0;34m,\u001b[0m\u001b[0;36m3\u001b[0m\u001b[0;34m,\u001b[0m\u001b[0;36m3\u001b[0m\u001b[0;34m,\u001b[0m\u001b[0;36m3\u001b[0m\u001b[0;34m,\u001b[0m\u001b[0;36m3\u001b[0m\u001b[0;34m,\u001b[0m\u001b[0;36m3\u001b[0m\u001b[0;34m]\u001b[0m \u001b[0;34m*\u001b[0m \u001b[0mpca\u001b[0m\u001b[0;34m.\u001b[0m\u001b[0mcomponents_\u001b[0m\u001b[0;34m[\u001b[0m\u001b[0;36m0\u001b[0m\u001b[0;34m]\u001b[0m\u001b[0;34m)\u001b[0m \u001b[0;34m-\u001b[0m \u001b[0mnp\u001b[0m\u001b[0;34m.\u001b[0m\u001b[0msum\u001b[0m\u001b[0;34m(\u001b[0m\u001b[0mnp\u001b[0m\u001b[0;34m.\u001b[0m\u001b[0mones\u001b[0m\u001b[0;34m(\u001b[0m\u001b[0;36m8\u001b[0m\u001b[0;34m)\u001b[0m \u001b[0;34m*\u001b[0m \u001b[0mpca\u001b[0m\u001b[0;34m.\u001b[0m\u001b[0mcomponents_\u001b[0m\u001b[0;34m[\u001b[0m\u001b[0;36m0\u001b[0m\u001b[0;34m]\u001b[0m\u001b[0;34m)\u001b[0m\u001b[0;34m)\u001b[0m\u001b[0;34m/\u001b[0m\u001b[0;36m8\u001b[0m\u001b[0;34m\u001b[0m\u001b[0;34m\u001b[0m\u001b[0m\n\u001b[0m\u001b[1;32m      2\u001b[0m \u001b[0mmin_dif\u001b[0m \u001b[0;34m=\u001b[0m \u001b[0;36m0\u001b[0m\u001b[0;34m\u001b[0m\u001b[0;34m\u001b[0m\u001b[0m\n\u001b[1;32m      3\u001b[0m \u001b[0mmax_dif\u001b[0m\u001b[0;34m\u001b[0m\u001b[0;34m\u001b[0m\u001b[0m\n",
      "\u001b[0;31mNameError\u001b[0m: name 'pca' is not defined"
     ]
    }
   ],
   "source": [
    "max_dif = abs(np.sum([3,3,3,3,3,3,3,3] * pca.components_[0]) - np.sum(np.ones(8) * pca.components_[0]))/8\n",
    "min_dif = 0\n",
    "max_dif"
   ]
  },
  {
   "cell_type": "code",
   "execution_count": 23,
   "id": "geographic-dealer",
   "metadata": {},
   "outputs": [
    {
     "data": {
      "text/plain": [
       "[-0.6731593640729355,\n",
       " 0.11716828740273667,\n",
       " 0.11214982538572425,\n",
       " -0.07132349966753476,\n",
       " 0.010223005331998866,\n",
       " -0.03907328540479925,\n",
       " -0.11729119229619528,\n",
       " -0.008659260277374667]"
      ]
     },
     "execution_count": 23,
     "metadata": {},
     "output_type": "execute_result"
    }
   ],
   "source": [
    "max_difs = [(np.sum(np.ones(8)*3 * pca.components_[i]) - np.sum(np.ones(8) * pca.components_[i]))/8 for i in range(0, len(pca.components_))]\n",
    "max_difs"
   ]
  },
  {
   "cell_type": "code",
   "execution_count": 24,
   "id": "mathematical-experiment",
   "metadata": {},
   "outputs": [
    {
     "data": {
      "text/plain": [
       "1.1490477198392992"
      ]
     },
     "execution_count": 24,
     "metadata": {},
     "output_type": "execute_result"
    }
   ],
   "source": [
    "sum(np.abs(max_difs))"
   ]
  },
  {
   "cell_type": "code",
   "execution_count": 25,
   "id": "industrial-greensboro",
   "metadata": {},
   "outputs": [
    {
     "data": {
      "text/plain": [
       "([0.6731593640729355,\n",
       "  0.5973368021543246,\n",
       "  0.541538951350088,\n",
       "  0.6239032129798608,\n",
       "  0.5668296735029932,\n",
       "  0.6450725898637424,\n",
       "  0.6680632035555415,\n",
       "  0.5734216963252283],\n",
       " 4.889325493804714)"
      ]
     },
     "execution_count": 25,
     "metadata": {},
     "output_type": "execute_result"
    }
   ],
   "source": [
    "max_difs2 = [(np.sum(np.abs(np.ones(8)*3 * pca.components_[i])) - np.sum(np.abs(np.ones(8) * pca.components_[i])))/8 for i in range(0, len(pca.components_))]\n",
    "max_difs2, sum(max_difs2)"
   ]
  },
  {
   "cell_type": "code",
   "execution_count": 11,
   "id": "celtic-absence",
   "metadata": {},
   "outputs": [
    {
     "ename": "NameError",
     "evalue": "name 'get_transformed_attributes' is not defined",
     "output_type": "error",
     "traceback": [
      "\u001b[0;31m---------------------------------------------------------------------------\u001b[0m",
      "\u001b[0;31mNameError\u001b[0m                                 Traceback (most recent call last)",
      "\u001b[0;32m<ipython-input-11-0ea7233ff410>\u001b[0m in \u001b[0;36m<module>\u001b[0;34m\u001b[0m\n\u001b[1;32m     11\u001b[0m \u001b[0;31m# agents2 = get_transformed_attributes(agents2)\u001b[0m\u001b[0;34m\u001b[0m\u001b[0;34m\u001b[0m\u001b[0;34m\u001b[0m\u001b[0m\n\u001b[1;32m     12\u001b[0m \u001b[0;32mfor\u001b[0m \u001b[0magent1\u001b[0m \u001b[0;32min\u001b[0m \u001b[0mitertools\u001b[0m\u001b[0;34m.\u001b[0m\u001b[0mproduct\u001b[0m\u001b[0;34m(\u001b[0m\u001b[0mvals\u001b[0m\u001b[0;34m,\u001b[0m \u001b[0mrepeat\u001b[0m \u001b[0;34m=\u001b[0m \u001b[0mrepeat\u001b[0m\u001b[0;34m)\u001b[0m\u001b[0;34m:\u001b[0m\u001b[0;34m\u001b[0m\u001b[0;34m\u001b[0m\u001b[0m\n\u001b[0;32m---> 13\u001b[0;31m     \u001b[0mtr_agent1\u001b[0m \u001b[0;34m=\u001b[0m \u001b[0mget_transformed_attributes\u001b[0m\u001b[0;34m(\u001b[0m\u001b[0magent1\u001b[0m\u001b[0;34m)\u001b[0m\u001b[0;34m\u001b[0m\u001b[0;34m\u001b[0m\u001b[0m\n\u001b[0m\u001b[1;32m     14\u001b[0m \u001b[0;31m#     for agent2 in agents2:\u001b[0m\u001b[0;34m\u001b[0m\u001b[0;34m\u001b[0m\u001b[0;34m\u001b[0m\u001b[0m\n\u001b[1;32m     15\u001b[0m     \u001b[0;32mfor\u001b[0m \u001b[0magent2\u001b[0m \u001b[0;32min\u001b[0m \u001b[0mitertools\u001b[0m\u001b[0;34m.\u001b[0m\u001b[0mproduct\u001b[0m\u001b[0;34m(\u001b[0m\u001b[0mvals\u001b[0m\u001b[0;34m,\u001b[0m \u001b[0mrepeat\u001b[0m \u001b[0;34m=\u001b[0m \u001b[0mrepeat\u001b[0m\u001b[0;34m)\u001b[0m\u001b[0;34m:\u001b[0m\u001b[0;34m\u001b[0m\u001b[0;34m\u001b[0m\u001b[0m\n",
      "\u001b[0;31mNameError\u001b[0m: name 'get_transformed_attributes' is not defined"
     ]
    }
   ],
   "source": [
    "import itertools\n",
    "\n",
    "vals = [1, 3]\n",
    "\n",
    "max_dif3 = 0\n",
    "max_vals = []\n",
    "\n",
    "repeat = 8\n",
    "\n",
    "# agents2 = [np.ones(repeat)]\n",
    "# agents2 = get_transformed_attributes(agents2)\n",
    "for agent1 in itertools.product(vals, repeat = repeat):\n",
    "    tr_agent1 = get_transformed_attributes(agent1)\n",
    "#     for agent2 in agents2: \n",
    "    for agent2 in itertools.product(vals, repeat = repeat):\n",
    "        tr_agent2 = get_transformed_attributes(agent2)\n",
    "        dif = calc_distance(tr_agent1, tr_agent2)\n",
    "        \n",
    "        if dif > max_dif3:\n",
    "            max_dif3 = dif\n",
    "            max_vals = [agent1, agent2]\n",
    "max_dif3, max_vals"
   ]
  },
  {
   "cell_type": "code",
   "execution_count": 27,
   "id": "broken-potential",
   "metadata": {},
   "outputs": [],
   "source": [
    "# def calc_max_dif()"
   ]
  },
  {
   "cell_type": "code",
   "execution_count": 28,
   "id": "wrong-sight",
   "metadata": {},
   "outputs": [
    {
     "data": {
      "text/plain": [
       "1.1490477198392997"
      ]
     },
     "execution_count": 28,
     "metadata": {},
     "output_type": "execute_result"
    }
   ],
   "source": [
    "calc_distance(get_transformed_attributes(np.ones(8)*3), get_transformed_attributes(np.ones(8)))"
   ]
  },
  {
   "cell_type": "code",
   "execution_count": 29,
   "id": "fantastic-april",
   "metadata": {},
   "outputs": [
    {
     "data": {
      "text/plain": [
       "(array([-8.078,  1.406,  1.346, -0.856,  0.123, -0.469, -1.407, -0.104]),\n",
       " (3, 3, 3, 3, 3, 3, 3, 3),\n",
       " array([-6.015,  0.142,  2.337,  0.334, -0.854,  0.627, -2.025,  0.997]))"
      ]
     },
     "execution_count": 29,
     "metadata": {},
     "output_type": "execute_result"
    }
   ],
   "source": [
    "get_transformed_attributes(agent1), agent1, get_transformed_attributes(max_vals[0])"
   ]
  },
  {
   "cell_type": "code",
   "execution_count": 30,
   "id": "sorted-stadium",
   "metadata": {},
   "outputs": [
    {
     "data": {
      "text/plain": [
       "(-0.6731593640729356, 8)"
      ]
     },
     "execution_count": 30,
     "metadata": {},
     "output_type": "execute_result"
    }
   ],
   "source": [
    "sum(pca.components_[0]*2)/8, len(get_transformed_attributes(np.ones(8)*3))"
   ]
  },
  {
   "cell_type": "code",
   "execution_count": 31,
   "id": "guided-indication",
   "metadata": {},
   "outputs": [
    {
     "data": {
      "text/plain": [
       "(array([0.329, 1.01 , 0.916, 2.087, 0.987, 1.803, 1.52 , 0.585, 0.698,\n",
       "        0.065]),\n",
       " array([0. , 0.1, 0.2, 0.3, 0.4, 0.5, 0.6, 0.7, 0.8, 0.9, 1. ]),\n",
       " <BarContainer object of 10 artists>)"
      ]
     },
     "execution_count": 31,
     "metadata": {},
     "output_type": "execute_result"
    },
    {
     "data": {
      "image/png": "[encoded data removed]",
      "text/plain": [
       "<Figure size 432x288 with 1 Axes>"
      ]
     },
     "metadata": {
      "needs_background": "light"
     },
     "output_type": "display_data"
    }
   ],
   "source": [
    "dists = calc_distances(ord_attributes[1], 2)\n",
    "\n",
    "plt.hist(dists.flatten(), density=True)"
   ]
  },
  {
   "cell_type": "code",
   "execution_count": 32,
   "id": "fuzzy-condition",
   "metadata": {},
   "outputs": [
    {
     "data": {
      "text/plain": [
       "(array([0.157, 0.244, 0.487, 1.19 , 2.451, 3.277, 2.226, 0.785, 0.102,\n",
       "        0.009]),\n",
       " array([0.   , 0.092, 0.183, 0.275, 0.366, 0.458, 0.549, 0.641, 0.732,\n",
       "        0.824, 0.915]),\n",
       " <BarContainer object of 10 artists>)"
      ]
     },
     "execution_count": 32,
     "metadata": {},
     "output_type": "execute_result"
    },
    {
     "data": {
      "image/png": "[encoded data removed]",
      "text/plain": [
       "<Figure size 432x288 with 1 Axes>"
      ]
     },
     "metadata": {
      "needs_background": "light"
     },
     "output_type": "display_data"
    }
   ],
   "source": [
    "dists = calc_distances(dcor_attributes[1], max_dif3)\n",
    "\n",
    "plt.hist(dists.flatten(), density=True)"
   ]
  },
  {
   "cell_type": "code",
   "execution_count": 33,
   "id": "optional-salmon",
   "metadata": {},
   "outputs": [
    {
     "data": {
      "text/plain": [
       "((array([53, 79, 94, 94]), array([94, 94, 53, 79])), 0.9150660566622932)"
      ]
     },
     "execution_count": 33,
     "metadata": {},
     "output_type": "execute_result"
    }
   ],
   "source": [
    "np.where(np.max(dists) == dists), np.max(dists)"
   ]
  },
  {
   "cell_type": "code",
   "execution_count": 34,
   "id": "sapphire-decline",
   "metadata": {},
   "outputs": [
    {
     "data": {
      "text/plain": [
       "1.949810979100207"
      ]
     },
     "execution_count": 34,
     "metadata": {},
     "output_type": "execute_result"
    }
   ],
   "source": [
    "transf_max_vals = get_transformed_attributes(max_vals)\n",
    "calc_distance(transf_max_vals[0], transf_max_vals[1])"
   ]
  },
  {
   "cell_type": "code",
   "execution_count": 35,
   "id": "expensive-initial",
   "metadata": {},
   "outputs": [
    {
     "data": {
      "text/plain": [
       "(array([[-6.015,  0.142,  2.337,  0.334, -0.854,  0.627, -2.025,  0.997],\n",
       "        [-4.755,  1.733, -0.543, -1.475,  1.018, -1.252,  0.149, -1.136]]),\n",
       " [(1, 3, 3, 1, 3, 1, 3, 3), (3, 1, 1, 3, 1, 3, 1, 1)])"
      ]
     },
     "execution_count": 35,
     "metadata": {},
     "output_type": "execute_result"
    }
   ],
   "source": [
    "transf_max_vals, max_vals"
   ]
  },
  {
   "cell_type": "code",
   "execution_count": 36,
   "id": "timely-deficit",
   "metadata": {},
   "outputs": [
    {
     "data": {
      "text/plain": [
       "(array([[1., 1., 1., 1., 1., 1., 1., 3.],\n",
       "        [1., 1., 1., 1., 1., 1., 1., 3.],\n",
       "        [3., 3., 3., 3., 3., 3., 3., 1.]]),\n",
       " {'abortion_',\n",
       "  'deathpen_',\n",
       "  'euthanasia_',\n",
       "  'gaymarriage_',\n",
       "  'homosexual_',\n",
       "  'marijuana_',\n",
       "  'political_',\n",
       "  'premaritalsex_'})"
      ]
     },
     "execution_count": 36,
     "metadata": {},
     "output_type": "execute_result"
    }
   ],
   "source": [
    "ord_attributes[1][[53,79,94]], ord_list_of_attributes"
   ]
  },
  {
   "cell_type": "code",
   "execution_count": 37,
   "id": "early-address",
   "metadata": {},
   "outputs": [
    {
     "data": {
      "text/plain": [
       "array([[ 0.,  1.,  1., ..., -1., -1.,  1.],\n",
       "       [ 1.,  0., -1., ...,  1.,  1.,  1.],\n",
       "       [ 1., -1.,  0., ..., -1., -1.,  1.],\n",
       "       ...,\n",
       "       [-1.,  1., -1., ...,  0.,  1., -1.],\n",
       "       [-1.,  1., -1., ...,  1.,  0.,  1.],\n",
       "       [ 1.,  1.,  1., ..., -1.,  1.,  0.]])"
      ]
     },
     "execution_count": 37,
     "metadata": {},
     "output_type": "execute_result"
    }
   ],
   "source": [
    "(dists <= 0.5)*2-1-np.eye(dists.shape[0])"
   ]
  },
  {
   "cell_type": "code",
   "execution_count": 12,
   "id": "cultural-latex",
   "metadata": {},
   "outputs": [],
   "source": [
    "def calc_link_polarity2(agent1, agent2, th, attr_dif = max_dif3):\n",
    "    return calc_distance(agent1, agent2, attr_dif) <= th\n",
    "\n",
    "def calc_link_polarities2(agents, th, attr_dif = max_dif3):\n",
    "    N, A = agents.shape\n",
    "    \n",
    "    polarities = (calc_distances(agents, attr_dif) <= th)*2 - 1 - np.eye(N)\n",
    "    \n",
    "    return polarities\n",
    "\n",
    "def balanced_triad_density(polarities):\n",
    "    N = polarities.shape[0]\n",
    "    return (np.sum(np.matmul(polarities,polarities) * polarities) / 6 / (N*(N-1)*(N-2)/6) + 1)/2"
   ]
  },
  {
   "cell_type": "code",
   "execution_count": 13,
   "id": "interpreted-bahrain",
   "metadata": {},
   "outputs": [
    {
     "ename": "NameError",
     "evalue": "name 'dcor_attributes' is not defined",
     "output_type": "error",
     "traceback": [
      "\u001b[0;31m---------------------------------------------------------------------------\u001b[0m",
      "\u001b[0;31mNameError\u001b[0m                                 Traceback (most recent call last)",
      "\u001b[0;32m<ipython-input-13-9570ce7c833d>\u001b[0m in \u001b[0;36m<module>\u001b[0;34m\u001b[0m\n\u001b[0;32m----> 1\u001b[0;31m \u001b[0mpolarities\u001b[0m \u001b[0;34m=\u001b[0m \u001b[0mcalc_link_polarities2\u001b[0m\u001b[0;34m(\u001b[0m\u001b[0mdcor_attributes\u001b[0m\u001b[0;34m[\u001b[0m\u001b[0;36m1\u001b[0m\u001b[0;34m]\u001b[0m\u001b[0;34m,\u001b[0m \u001b[0;36m0.5\u001b[0m\u001b[0;34m)\u001b[0m\u001b[0;34m\u001b[0m\u001b[0;34m\u001b[0m\u001b[0m\n\u001b[0m\u001b[1;32m      2\u001b[0m \u001b[0mpol2\u001b[0m \u001b[0;34m=\u001b[0m \u001b[0mcalc_link_polarities2\u001b[0m\u001b[0;34m(\u001b[0m\u001b[0mord_attributes\u001b[0m\u001b[0;34m[\u001b[0m\u001b[0;36m1\u001b[0m\u001b[0;34m]\u001b[0m\u001b[0;34m,\u001b[0m \u001b[0;36m0.5\u001b[0m\u001b[0;34m,\u001b[0m \u001b[0;36m2\u001b[0m\u001b[0;34m)\u001b[0m\u001b[0;34m\u001b[0m\u001b[0;34m\u001b[0m\u001b[0m\n\u001b[1;32m      3\u001b[0m \u001b[0mbalanced_triad_density\u001b[0m\u001b[0;34m(\u001b[0m\u001b[0mpolarities\u001b[0m\u001b[0;34m)\u001b[0m\u001b[0;34m,\u001b[0m \u001b[0mbalanced_triad_density\u001b[0m\u001b[0;34m(\u001b[0m\u001b[0mpol2\u001b[0m\u001b[0;34m)\u001b[0m\u001b[0;34m\u001b[0m\u001b[0;34m\u001b[0m\u001b[0m\n",
      "\u001b[0;31mNameError\u001b[0m: name 'dcor_attributes' is not defined"
     ]
    }
   ],
   "source": [
    "polarities = calc_link_polarities2(dcor_attributes[1], 0.5)\n",
    "pol2 = calc_link_polarities2(ord_attributes[1], 0.5, 2)\n",
    "balanced_triad_density(polarities), balanced_triad_density(pol2)"
   ]
  },
  {
   "cell_type": "code",
   "execution_count": 14,
   "id": "raised-mitchell",
   "metadata": {},
   "outputs": [],
   "source": [
    "def balanced_triad_density_network(polarities, triads):\n",
    "    T = len(triads)\n",
    "    dens = 0.\n",
    "    for triad in triads:\n",
    "        i, j, k = triad\n",
    "        if polarities[i,j]*polarities[i,k]*polarities[k,j] >= 0:\n",
    "            dens = dens + 1\n",
    "    dens = dens / T\n",
    "    return dens\n",
    "\n",
    "def get_triads_polarity(polarities, triads):\n",
    "    Ts = len(triads)\n",
    "    \n",
    "    t_pol = np.zeros(Ts) \n",
    "    t_pol_type = np.zeros(Ts)\n",
    "    \n",
    "    for t in range(0,Ts):\n",
    "        i, j, k = triads[t]\n",
    "        pols = [polarities[i,j], polarities[i,k], polarities[k,j]]\n",
    "        \n",
    "        t_pol_type[t] = 3-(sum(pols)+3)/2\n",
    "        \n",
    "        if polarities[i,j]*polarities[i,k]*polarities[k,j] >= 0:\n",
    "            t_pol[t] = 1\n",
    "        else:\n",
    "            t_pol[t] = -1\n",
    "    \n",
    "    return t_pol, t_pol_type\n",
    "\n",
    "def count_triads_types(polarities, triads):\n",
    "    t_pol, t_pol_type = get_triads_polarity(polarities, triads)\n",
    "    \n",
    "    t2 = np.array(t_pol_type)\n",
    "    triads_type = [sum(t2 == i) for i in range(0,4)]\n",
    "    \n",
    "    return triads_type\n"
   ]
  },
  {
   "cell_type": "code",
   "execution_count": 15,
   "id": "official-objective",
   "metadata": {},
   "outputs": [],
   "source": [
    "def get_triads(net):\n",
    "    A = nx.adjacency_matrix(net).todense() \n",
    "\n",
    "    N = A.shape[0]\n",
    "\n",
    "    triads = []\n",
    "\n",
    "    for i in range(0,N):\n",
    "        for j in range(i+1,N):\n",
    "            if A[i,j] > 0:\n",
    "                for k in range(j+1,N):\n",
    "                    if A[i,k] > 0 and A[j,k] > 0:\n",
    "                        triads.append((i,j,k))\n",
    "    \n",
    "    return triads\n",
    "\n",
    "def get_triads_strength(triads, net):\n",
    "    A = nx.adjacency_matrix(net).todense() \n",
    "\n",
    "    N = A.shape[0]\n",
    "    Ts = len(triads)\n",
    "    \n",
    "    s_mul = np.zeros(Ts) #multiplicative strength\n",
    "    s_add = np.zeros(Ts) #additive strength\n",
    "    \n",
    "    for t in range(0,Ts):\n",
    "        i, j, k = triads[t]\n",
    "        s_mul[t] = A[i,j] * A[i,k] * A[j,k]\n",
    "        s_add[t] = A[i,j] + A[i,k] + A[j,k]\n",
    "    \n",
    "    return s_mul, s_add"
   ]
  },
  {
   "cell_type": "code",
   "execution_count": 16,
   "id": "outside-interstate",
   "metadata": {},
   "outputs": [
    {
     "ename": "NameError",
     "evalue": "name 'dcor_attributes' is not defined",
     "output_type": "error",
     "traceback": [
      "\u001b[0;31m---------------------------------------------------------------------------\u001b[0m",
      "\u001b[0;31mNameError\u001b[0m                                 Traceback (most recent call last)",
      "\u001b[0;32m<ipython-input-16-09bd666fc50a>\u001b[0m in \u001b[0;36m<module>\u001b[0;34m\u001b[0m\n\u001b[1;32m      2\u001b[0m \u001b[0mtriads\u001b[0m \u001b[0;34m=\u001b[0m \u001b[0mget_triads\u001b[0m\u001b[0;34m(\u001b[0m\u001b[0mdata\u001b[0m\u001b[0;34m[\u001b[0m\u001b[0msem\u001b[0m\u001b[0;34m]\u001b[0m\u001b[0;34m)\u001b[0m\u001b[0;34m\u001b[0m\u001b[0;34m\u001b[0m\u001b[0m\n\u001b[1;32m      3\u001b[0m \u001b[0;34m\u001b[0m\u001b[0m\n\u001b[0;32m----> 4\u001b[0;31m \u001b[0mpolarities\u001b[0m \u001b[0;34m=\u001b[0m \u001b[0mcalc_link_polarities2\u001b[0m\u001b[0;34m(\u001b[0m\u001b[0mdcor_attributes\u001b[0m\u001b[0;34m[\u001b[0m\u001b[0msem\u001b[0m\u001b[0;34m]\u001b[0m\u001b[0;34m,\u001b[0m \u001b[0;36m0.1\u001b[0m\u001b[0;34m)\u001b[0m\u001b[0;34m\u001b[0m\u001b[0;34m\u001b[0m\u001b[0m\n\u001b[0m\u001b[1;32m      5\u001b[0m \u001b[0;34m\u001b[0m\u001b[0m\n\u001b[1;32m      6\u001b[0m \u001b[0mbalanced_triad_density_network\u001b[0m\u001b[0;34m(\u001b[0m\u001b[0mpolarities\u001b[0m\u001b[0;34m,\u001b[0m \u001b[0mtriads\u001b[0m\u001b[0;34m)\u001b[0m\u001b[0;34m,\u001b[0m \u001b[0mbalanced_triad_density\u001b[0m\u001b[0;34m(\u001b[0m\u001b[0mpolarities\u001b[0m\u001b[0;34m)\u001b[0m\u001b[0;34m\u001b[0m\u001b[0;34m\u001b[0m\u001b[0m\n",
      "\u001b[0;31mNameError\u001b[0m: name 'dcor_attributes' is not defined"
     ]
    }
   ],
   "source": [
    "sem = 1\n",
    "triads = get_triads(data[sem])\n",
    "\n",
    "polarities = calc_link_polarities2(dcor_attributes[sem], 0.1)\n",
    "\n",
    "balanced_triad_density_network(polarities, triads), balanced_triad_density(polarities)"
   ]
  },
  {
   "cell_type": "code",
   "execution_count": 43,
   "id": "sitting-posting",
   "metadata": {},
   "outputs": [],
   "source": [
    "sem = 4\n",
    "triads = get_triads(data[sem])\n",
    "\n",
    "thetas = np.linspace(0,1,101)\n",
    "\n",
    "bals = np.zeros(len(thetas))\n",
    "all_bals = np.zeros(len(thetas))\n",
    "for i, theta in enumerate(thetas):\n",
    "    polarities = calc_link_polarities2(dcor_attributes[sem], theta)\n",
    "    bals[i] = balanced_triad_density_network(polarities, triads)\n",
    "    all_bals[i] = balanced_triad_density(polarities)\n"
   ]
  },
  {
   "cell_type": "code",
   "execution_count": 44,
   "id": "informal-batch",
   "metadata": {},
   "outputs": [
    {
     "data": {
      "text/plain": [
       "Text(0, 0.5, 'density of balanced triads')"
      ]
     },
     "execution_count": 44,
     "metadata": {},
     "output_type": "execute_result"
    },
    {
     "data": {
      "image/png": "[encoded data removed]",
      "text/plain": [
       "<Figure size 432x288 with 1 Axes>"
      ]
     },
     "metadata": {
      "needs_background": "light"
     },
     "output_type": "display_data"
    }
   ],
   "source": [
    "plt.plot(thetas, bals, thetas, all_bals)\n",
    "plt.legend([\"network\", \"all\"])\n",
    "plt.title(\"Comparing HBT in triads and all pairs of agents\")\n",
    "plt.xlabel(\"theta\")\n",
    "plt.ylabel(\"density of balanced triads\")"
   ]
  },
  {
   "cell_type": "markdown",
   "id": "conservative-support",
   "metadata": {},
   "source": [
    "# Randomizing triads in the whole network"
   ]
  },
  {
   "cell_type": "code",
   "execution_count": 17,
   "id": "herbal-interval",
   "metadata": {},
   "outputs": [],
   "source": [
    "def randomize_all_attributes(attr, randomized_agents = []):\n",
    "    N, A = attr.shape\n",
    "    \n",
    "    if len(randomized_agents) == 0:\n",
    "        randomized_agents = list(range(0,N))\n",
    "    \n",
    "    attr_rand = np.copy(attr)\n",
    "    \n",
    "    attr_copy = attr_rand[randomized_agents]\n",
    "    \n",
    "    np.random.shuffle(attr_copy)\n",
    "    \n",
    "    attr_rand[randomized_agents] = attr_copy\n",
    "    \n",
    "    return attr_rand\n",
    "\n",
    "def randomize_attribute_sets(ord_attributes):\n",
    "    rand_ord_attributes = dict((i, 0) for i in range(1,7))\n",
    "    \n",
    "    for sem in range(1,7):\n",
    "        rand_ord_attributes[sem] = randomize_all_attributes(ord_attributes[sem])\n",
    "    \n",
    "    return rand_ord_attributes\n",
    "\n",
    "def compare_bal_triads(triads, agents, th, attr_dif, M, randomized_agents = []):\n",
    "    \"\"\"\n",
    "    triads - list of sets of node ids forming a triad\n",
    "    agents - array of vectors of agent attributes\n",
    "    th - threshold used\n",
    "    attr_dif - max difference between attributes\n",
    "    M - number of times to repeat randomization\n",
    "    \"\"\"\n",
    "    polarities = calc_link_polarities2(agents, th, attr_dif)\n",
    "    bal_dens = balanced_triad_density_network(polarities, triads)\n",
    "    \n",
    "    bal_dens_rands = np.zeros(M)\n",
    "    \n",
    "    for i in range(0,M):\n",
    "        agents_rand = randomize_all_attributes(agents, randomized_agents)\n",
    "        polarities_rand = calc_link_polarities2(agents_rand, th, attr_dif)\n",
    "        bal_dens_rands[i] = balanced_triad_density_network(polarities_rand, triads)\n",
    "        \n",
    "    pval = np.sum(bal_dens_rands > bal_dens)\n",
    "    \n",
    "    return bal_dens_rands, bal_dens, pval\n",
    "\n",
    "def compare_networks(data, th, attr_dif, M):\n",
    "    pvals = np.zeros(6)\n",
    "    vals = np.zeros(6)\n",
    "    stds = np.zeros(6)\n",
    "    difs = np.zeros(6)\n",
    "    \n",
    "    for n in range(1,7):\n",
    "#         print(n)\n",
    "        net = data[n]\n",
    "        triads = get_triads(net)\n",
    "        agents = dcor_attributes[n]\n",
    "        \n",
    "        bal_dens_rands, bal_dens, pval = compare_bal_triads(triads, agents, th, attr_dif, M)\n",
    "        pvals[n-1] = pval\n",
    "        vals[n - 1] = bal_dens\n",
    "        difs[n-1] = np.mean(bal_dens - bal_dens_rands)\n",
    "        stds[n-1] = np.std(difs)\n",
    "    return pvals, vals, difs, stds\n",
    "\n",
    "def compare_weighted_network(net, agents, th, attr_dif, M):\n",
    "    polarities = calc_link_polarities2(agents, th, attr_dif)\n",
    "    U_data, pval_data = compare_weighted_links(net, polarities)\n",
    "    \n",
    "    U_rands = np.zeros(M)\n",
    "    pval_rands = np.zeros(M)\n",
    "    \n",
    "    for i in range(0,M):\n",
    "        agents_rand = randomize_all_attributes(agents)\n",
    "        polarities_rand = calc_link_polarities2(agents_rand, th, attr_dif)\n",
    "        U_rands[i], pval_rands[i] = compare_weighted_links(net, polarities_rand)\n",
    "    \n",
    "    pval_U = np.sum(U_rands >= U_data)\n",
    "    pval_pval = np.sum(pval_rands <= pval_data)\n",
    "    \n",
    "    return U_rands, pval_rands, pval_U, pval_pval\n",
    "\n",
    "def compare_weighted_networks(data, ord_attributes, th, attr_dif, M):\n",
    "    U_rands = np.zeros(M)\n",
    "    pval_rands = np.zeros(M)\n",
    "    \n",
    "    U_data, pval_data = compare_all_weighted_links(data, ord_attributes, th, attr_dif)\n",
    "    \n",
    "    for i in range(0,M):\n",
    "        rand_ord_attributes = randomize_attribute_sets(ord_attributes)\n",
    "        U_rands[i], pval_rands[i] = compare_all_weighted_links(data, rand_ord_attributes, th, attr_dif)\n",
    "    \n",
    "    pval_U = np.sum(U_rands >= U_data)\n",
    "    pval_pval = np.sum(pval_rands <= pval_data)\n",
    "    \n",
    "    return U_rands, pval_rands, pval_U, pval_pval"
   ]
  },
  {
   "cell_type": "code",
   "execution_count": 69,
   "id": "short-pursuit",
   "metadata": {},
   "outputs": [],
   "source": [
    "bal_dens_rands, bal_dens, pval = compare_bal_triads(triads, dcor_attributes[sem], 0.5, 2, 100)"
   ]
  },
  {
   "cell_type": "code",
   "execution_count": 70,
   "id": "italic-stereo",
   "metadata": {},
   "outputs": [
    {
     "data": {
      "text/plain": [
       "(2, -0.19653846153846155, 2)"
      ]
     },
     "execution_count": 70,
     "metadata": {},
     "output_type": "execute_result"
    }
   ],
   "source": [
    "np.sum(bal_dens_rands > bal_dens), np.mean(bal_dens_rands) - bal_dens, pval"
   ]
  },
  {
   "cell_type": "code",
   "execution_count": 71,
   "id": "medium-spread",
   "metadata": {},
   "outputs": [],
   "source": [
    "sem = 1\n",
    "triads = get_triads(data[sem])\n",
    "\n",
    "thetas = np.linspace(0,1,15)\n",
    "\n",
    "bals = np.zeros(len(thetas))\n",
    "rand_bals_mean = np.zeros(len(thetas))\n",
    "rand_bals_std = np.zeros(len(thetas))\n",
    "pvals = np.zeros(len(thetas))\n",
    "for i, theta in enumerate(thetas):\n",
    "    rand_bal, bal, pval = compare_bal_triads(triads, dcor_attributes[sem], theta, max_dif3, 100)\n",
    "    rand_bals_mean[i] = np.mean(rand_bal)\n",
    "    rand_bals_std[i] = np.std(rand_bal)\n",
    "    bals[i] = bal\n",
    "    pvals[i] = pval\n"
   ]
  },
  {
   "cell_type": "code",
   "execution_count": 72,
   "id": "joined-eating",
   "metadata": {},
   "outputs": [
    {
     "data": {
      "text/plain": [
       "Text(0, 0.5, 'density of balanced triads')"
      ]
     },
     "execution_count": 72,
     "metadata": {},
     "output_type": "execute_result"
    },
    {
     "data": {
      "image/png": "[encoded data removed]",
      "text/plain": [
       "<Figure size 432x288 with 1 Axes>"
      ]
     },
     "metadata": {
      "needs_background": "light"
     },
     "output_type": "display_data"
    }
   ],
   "source": [
    "plt.plot(thetas, bals, 'ko')\n",
    "# plt.plot(thetas, rand_bals_mean)\n",
    "plt.fill_between(thetas, rand_bals_mean-rand_bals_std, rand_bals_mean+rand_bals_std)\n",
    "plt.legend([\"network\", \"mean\"])\n",
    "plt.title(\"Comparing HBT in triads and randomized all agents' sets of attributes\")\n",
    "plt.xlabel(\"theta\")\n",
    "plt.ylabel(\"density of balanced triads\")"
   ]
  },
  {
   "cell_type": "code",
   "execution_count": 73,
   "id": "possible-robin",
   "metadata": {},
   "outputs": [
    {
     "data": {
      "text/plain": [
       "(array([ 7.,  6.,  4., 54., 34., 66., 60., 43., 16., 14., 74.,  0.,  0.,\n",
       "         0.,  0.]),\n",
       " 1.9498109791002056)"
      ]
     },
     "execution_count": 73,
     "metadata": {},
     "output_type": "execute_result"
    }
   ],
   "source": [
    "pvals, max_dif3"
   ]
  },
  {
   "cell_type": "code",
   "execution_count": 74,
   "id": "complicated-synthetic",
   "metadata": {},
   "outputs": [
    {
     "data": {
      "image/png": "[encoded data removed]",
      "text/plain": [
       "<Figure size 1440x720 with 6 Axes>"
      ]
     },
     "metadata": {
      "needs_background": "light"
     },
     "output_type": "display_data"
    }
   ],
   "source": [
    "dim1 = 2\n",
    "dim2 = 3\n",
    "thetas = np.linspace(0,1,11)\n",
    "pvals = dict((i, np.zeros(len(thetas))) for i in range(1,7))\n",
    "\n",
    "fig, axs = plt.subplots(dim1, dim2)\n",
    "fig.set_size_inches(20,10)\n",
    "fig.suptitle(\"Comparing HBT in triads and randomized all agents' sets of attributes\")\n",
    "\n",
    "semm = 0\n",
    "for a1 in range(0,dim1):\n",
    "    for a2 in range(0,dim2):\n",
    "        semm = semm + 1\n",
    "        triads = get_triads(data[semm])\n",
    "\n",
    "        bals = np.zeros(len(thetas))\n",
    "        rand_bals_mean = np.zeros(len(thetas))\n",
    "        rand_bals_std = np.zeros(len(thetas))\n",
    "        \n",
    "        for i, theta in enumerate(thetas):\n",
    "            rand_bal, bal, pval = compare_bal_triads(triads, dcor_attributes[semm], theta, max_dif3, 100)\n",
    "            rand_bals_mean[i] = np.mean(rand_bal)\n",
    "            rand_bals_std[i] = np.std(rand_bal)\n",
    "            bals[i] = bal\n",
    "            pvals[semm][i] = pval\n",
    "        \n",
    "        axs[a1, a2].set_title(\"sem=\" + str(semm))\n",
    "        axs[a1,a2].plot(thetas, bals, 'ko')\n",
    "        # plt.plot(thetas, rand_bals_mean)\n",
    "        axs[a1, a2].fill_between(thetas, rand_bals_mean-rand_bals_std, rand_bals_mean+rand_bals_std)\n",
    "        axs[a1, a2].legend([\"network\", \"mean\"])\n",
    "\n",
    "for ax in axs.flat:\n",
    "    ax.set(xlabel='theta', ylabel='density of balanced triads')\n",
    "\n",
    "# Hide x labels and tick labels for top plots and y ticks for right plots.\n",
    "for ax in axs.flat:\n",
    "    ax.label_outer()"
   ]
  },
  {
   "cell_type": "code",
   "execution_count": 75,
   "id": "impaired-hello",
   "metadata": {},
   "outputs": [
    {
     "data": {
      "text/plain": [
       "{1: array([ 8.,  8., 35., 43., 40., 49., 27., 53.,  0.,  0.,  0.]),\n",
       " 2: array([ 3.,  7., 19.,  9.,  0., 60., 63.,  0.,  0.,  0.,  0.]),\n",
       " 3: array([12., 10., 25.,  8., 33., 28.,  4.,  0.,  0.,  0.,  0.]),\n",
       " 4: array([ 6.,  8.,  3.,  5., 18., 21., 55., 99.,  0.,  0.,  0.]),\n",
       " 5: array([ 6., 10., 12., 18., 10., 55., 48.,  0.,  0.,  0.,  0.]),\n",
       " 6: array([ 9., 14.,  4., 19., 10., 17., 10.,  0.,  0.,  0.,  0.])}"
      ]
     },
     "execution_count": 75,
     "metadata": {},
     "output_type": "execute_result"
    }
   ],
   "source": [
    "pvals"
   ]
  },
  {
   "cell_type": "markdown",
   "id": "breathing-success",
   "metadata": {},
   "source": [
    "# Randomizing attributes only inside triads"
   ]
  },
  {
   "cell_type": "code",
   "execution_count": 76,
   "id": "massive-reduction",
   "metadata": {},
   "outputs": [],
   "source": [
    "sem = 1\n",
    "triads = get_triads(data[sem])"
   ]
  },
  {
   "cell_type": "code",
   "execution_count": 77,
   "id": "cutting-message",
   "metadata": {},
   "outputs": [],
   "source": [
    "from itertools import chain\n",
    "triad_agents = np.unique(list(chain.from_iterable(triads)))\n",
    "dcor_attributes[1][triad_agents];"
   ]
  },
  {
   "cell_type": "code",
   "execution_count": 78,
   "id": "younger-patch",
   "metadata": {},
   "outputs": [],
   "source": [
    "sem = 2\n",
    "triads = get_triads(data[sem])\n",
    "triad_agents = np.unique(list(chain.from_iterable(triads)))\n",
    "\n",
    "thetas = np.linspace(0,1,11)\n",
    "\n",
    "bals = np.zeros(len(thetas))\n",
    "rand_bals_mean = np.zeros(len(thetas))\n",
    "rand_bals_std = np.zeros(len(thetas))\n",
    "pvals_t = np.zeros(len(thetas))\n",
    "for i, theta in enumerate(thetas):\n",
    "    rand_bal, bal, pval = compare_bal_triads(triads, dcor_attributes[sem], theta, max_dif3, 100, triad_agents)\n",
    "    rand_bals_mean[i] = np.mean(rand_bal)\n",
    "    rand_bals_std[i] = np.std(rand_bal)\n",
    "    bals[i] = bal\n",
    "    pvals_t[i] = pval"
   ]
  },
  {
   "cell_type": "code",
   "execution_count": 79,
   "id": "mobile-single",
   "metadata": {},
   "outputs": [
    {
     "data": {
      "text/plain": [
       "Text(0, 0.5, 'density of balanced triads')"
      ]
     },
     "execution_count": 79,
     "metadata": {},
     "output_type": "execute_result"
    },
    {
     "data": {
      "image/png": "[encoded data removed]",
      "text/plain": [
       "<Figure size 432x288 with 1 Axes>"
      ]
     },
     "metadata": {
      "needs_background": "light"
     },
     "output_type": "display_data"
    }
   ],
   "source": [
    "plt.plot(thetas, bals, 'ko')\n",
    "# plt.plot(thetas, rand_bals_mean)\n",
    "plt.fill_between(thetas, rand_bals_mean-rand_bals_std, rand_bals_mean+rand_bals_std)\n",
    "plt.legend([\"network\", \"mean\"])\n",
    "plt.title(\"Comparing HBT in triads and randomized triad agents' sets of attributes\")\n",
    "plt.xlabel(\"theta\")\n",
    "plt.ylabel(\"density of balanced triads\")"
   ]
  },
  {
   "cell_type": "code",
   "execution_count": 80,
   "id": "willing-million",
   "metadata": {},
   "outputs": [
    {
     "data": {
      "text/plain": [
       "(array([ 3.,  4., 32.,  3.,  9., 79., 61.,  0.,  0.,  0.,  0.]),\n",
       " array([ 0,  1,  4,  5,  8,  9, 10, 11, 14, 15, 16, 20, 21, 22, 23, 24, 25,\n",
       "        26, 27, 28, 29, 30, 31, 32, 33, 34, 38, 39, 40, 41, 44, 45, 48, 51,\n",
       "        58, 66, 76]))"
      ]
     },
     "execution_count": 80,
     "metadata": {},
     "output_type": "execute_result"
    }
   ],
   "source": [
    "pvals_t, triad_agents"
   ]
  },
  {
   "cell_type": "code",
   "execution_count": 81,
   "id": "grand-resolution",
   "metadata": {},
   "outputs": [
    {
     "data": {
      "image/png": "[encoded data removed]",
      "text/plain": [
       "<Figure size 1440x720 with 6 Axes>"
      ]
     },
     "metadata": {
      "needs_background": "light"
     },
     "output_type": "display_data"
    }
   ],
   "source": [
    "dim1 = 2\n",
    "dim2 = 3\n",
    "thetas = np.linspace(0,1,21)\n",
    "pvals_t = dict((i, np.zeros(len(thetas))) for i in range(1,7))\n",
    "\n",
    "fig, axs = plt.subplots(dim1, dim2)\n",
    "fig.set_size_inches(20,10)\n",
    "fig.suptitle(\"Comparing HBT in triads and randomized triad agents' sets of attributes\")\n",
    "\n",
    "semm = 0\n",
    "for a1 in range(0,dim1):\n",
    "    for a2 in range(0,dim2):\n",
    "        semm = semm + 1\n",
    "        triads = get_triads(data[semm])\n",
    "        triad_agents = np.unique(list(chain.from_iterable(triads)))\n",
    "\n",
    "        bals = np.zeros(len(thetas))\n",
    "        rand_bals_mean = np.zeros(len(thetas))\n",
    "        rand_bals_std = np.zeros(len(thetas))\n",
    "        \n",
    "        for i, theta in enumerate(thetas):\n",
    "            rand_bal, bal, pval = compare_bal_triads(triads, dcor_attributes[semm], theta, max_dif3, 100, triad_agents)\n",
    "            rand_bals_mean[i] = np.mean(rand_bal)\n",
    "            rand_bals_std[i] = np.std(rand_bal)\n",
    "            bals[i] = bal\n",
    "            pvals_t[semm][i] = pval\n",
    "        \n",
    "        axs[a1, a2].set_title(\"sem=\" + str(semm))\n",
    "        axs[a1,a2].plot(thetas, bals, 'ko')\n",
    "        # plt.plot(thetas, rand_bals_mean)\n",
    "        axs[a1, a2].fill_between(thetas, rand_bals_mean-rand_bals_std, rand_bals_mean+rand_bals_std)\n",
    "        axs[a1, a2].legend([\"network\", \"mean\"])\n",
    "\n",
    "for ax in axs.flat:\n",
    "    ax.set(xlabel='theta', ylabel='density of balanced triads')\n",
    "\n",
    "# Hide x labels and tick labels for top plots and y ticks for right plots.\n",
    "for ax in axs.flat:\n",
    "    ax.label_outer()"
   ]
  },
  {
   "cell_type": "code",
   "execution_count": 82,
   "id": "verbal-logging",
   "metadata": {
    "scrolled": true
   },
   "outputs": [
    {
     "data": {
      "text/plain": [
       "{1: array([19., 16., 14., 20., 21., 21., 27., 35., 22., 16., 46.,  4., 23.,\n",
       "         9., 37.,  0.,  0.,  0.,  0.,  0.,  0.]),\n",
       " 2: array([ 5.,  4.,  7.,  2., 22., 17.,  3.,  6.,  9., 46., 74., 75., 64.,\n",
       "        91.,  0.,  0.,  0.,  0.,  0.,  0.,  0.]),\n",
       " 3: array([24., 35., 26., 37., 34., 30.,  4., 17., 29., 93., 25., 11.,  1.,\n",
       "        73.,  0.,  0.,  0.,  0.,  0.,  0.,  0.]),\n",
       " 4: array([ 1.,  2.,  2.,  8.,  2.,  7.,  5.,  0., 21., 36., 20.,  1., 48.,\n",
       "        93., 96.,  0.,  0.,  0.,  0.,  0.,  0.]),\n",
       " 5: array([18., 17., 13., 20., 32., 13., 52., 49., 30., 12., 54., 70., 56.,\n",
       "        64.,  0.,  0.,  0.,  0.,  0.,  0.,  0.]),\n",
       " 6: array([31., 33., 30., 38., 19., 12., 47., 36., 33., 49., 30.,  9.,  8.,\n",
       "        38.,  0.,  0.,  0.,  0.,  0.,  0.,  0.])}"
      ]
     },
     "execution_count": 82,
     "metadata": {},
     "output_type": "execute_result"
    }
   ],
   "source": [
    "pvals_t"
   ]
  },
  {
   "cell_type": "code",
   "execution_count": 83,
   "id": "fabulous-pipeline",
   "metadata": {},
   "outputs": [],
   "source": [
    "sem = 2\n",
    "triads = get_triads(data[sem])\n",
    "triad_agents = np.unique(list(chain.from_iterable(triads)))"
   ]
  },
  {
   "cell_type": "code",
   "execution_count": 84,
   "id": "amino-knock",
   "metadata": {},
   "outputs": [
    {
     "data": {
      "text/plain": [
       "[43, 37, 22, 41, 30, 23]"
      ]
     },
     "execution_count": 84,
     "metadata": {},
     "output_type": "execute_result"
    }
   ],
   "source": [
    "[len(np.unique(list(chain.from_iterable(get_triads(data[sem]))))) for sem in range(1,7)]"
   ]
  },
  {
   "cell_type": "code",
   "execution_count": 85,
   "id": "complete-mercury",
   "metadata": {},
   "outputs": [
    {
     "data": {
      "text/plain": [
       "[45, 26, 9, 26, 20, 12]"
      ]
     },
     "execution_count": 85,
     "metadata": {},
     "output_type": "execute_result"
    }
   ],
   "source": [
    "[len(get_triads(data[sem])) for sem in range(1,7)]"
   ]
  },
  {
   "cell_type": "markdown",
   "id": "closed-volunteer",
   "metadata": {},
   "source": [
    "# Comparing links after decorrelation"
   ]
  },
  {
   "cell_type": "code",
   "execution_count": 86,
   "id": "lightweight-circular",
   "metadata": {},
   "outputs": [],
   "source": [
    "sem = 1\n",
    "th = 0.5\n",
    "\n",
    "polarities = calc_link_polarities2(dcor_attributes[sem], th)\n",
    "pol_old = calc_link_polarities2(ord_attributes[sem], th, 2)\n",
    "\n"
   ]
  },
  {
   "cell_type": "code",
   "execution_count": 87,
   "id": "sound-duplicate",
   "metadata": {},
   "outputs": [
    {
     "data": {
      "text/plain": [
       "(2607.0, 2933.0)"
      ]
     },
     "execution_count": 87,
     "metadata": {},
     "output_type": "execute_result"
    }
   ],
   "source": [
    "ones = np.sum(polarities == 1)/2\n",
    "ones_old = np.sum(pol_old == 1)/2\n",
    "\n",
    "ones, ones_old"
   ]
  },
  {
   "cell_type": "code",
   "execution_count": 88,
   "id": "peaceful-illness",
   "metadata": {},
   "outputs": [
    {
     "data": {
      "text/plain": [
       "(3777.0, 0.7946560067325898)"
      ]
     },
     "execution_count": 88,
     "metadata": {},
     "output_type": "execute_result"
    }
   ],
   "source": [
    "N = polarities.shape[0]\n",
    "same = (np.sum(polarities == pol_old) - N)/2\n",
    "same, same/N/(N-1)*2"
   ]
  },
  {
   "cell_type": "code",
   "execution_count": 89,
   "id": "valuable-interstate",
   "metadata": {},
   "outputs": [
    {
     "data": {
      "image/png": "[encoded data removed]",
      "text/plain": [
       "<Figure size 1440x720 with 6 Axes>"
      ]
     },
     "metadata": {
      "needs_background": "light"
     },
     "output_type": "display_data"
    }
   ],
   "source": [
    "dim1 = 2\n",
    "dim2 = 3\n",
    "thetas = np.linspace(0,1,101)\n",
    "\n",
    "fig, axs = plt.subplots(dim1, dim2)\n",
    "fig.set_size_inches(20,10)\n",
    "fig.suptitle(\"Comparing links after de-correlation\")\n",
    "\n",
    "semm = 0\n",
    "for a1 in range(0,dim1):\n",
    "    for a2 in range(0,dim2):\n",
    "        semm = semm + 1\n",
    "        \n",
    "        ones = np.zeros(len(thetas))\n",
    "        ones_old = np.zeros(len(thetas))\n",
    "        \n",
    "        for i, theta in enumerate(thetas):\n",
    "            polarities = calc_link_polarities2(dcor_attributes[semm], theta)\n",
    "            pol_old = calc_link_polarities2(ord_attributes[semm], theta, 2)\n",
    "            \n",
    "            N = polarities.shape[0]\n",
    "            ones[i] = np.sum(polarities == 1)/2 / N/(N-1)*2\n",
    "            ones_old[i] = np.sum(pol_old == 1)/2 / N/(N-1)*2\n",
    "        \n",
    "        axs[a1, a2].set_title(\"sem=\" + str(semm))\n",
    "        axs[a1,a2].plot(thetas, ones, thetas, ones_old)\n",
    "        # plt.plot(thetas, rand_bals_mean)\n",
    "        axs[a1, a2].legend([\"decor\", \"old attr\"])\n",
    "\n",
    "for ax in axs.flat:\n",
    "    ax.set(xlabel='theta', ylabel='density of positive links')\n",
    "\n",
    "# Hide x labels and tick labels for top plots and y ticks for right plots.\n",
    "for ax in axs.flat:\n",
    "    ax.label_outer()"
   ]
  },
  {
   "cell_type": "code",
   "execution_count": 90,
   "id": "honey-holder",
   "metadata": {},
   "outputs": [
    {
     "data": {
      "image/png": "[encoded data removed]",
      "text/plain": [
       "<Figure size 1440x720 with 6 Axes>"
      ]
     },
     "metadata": {
      "needs_background": "light"
     },
     "output_type": "display_data"
    }
   ],
   "source": [
    "dim1 = 2\n",
    "dim2 = 3\n",
    "thetas = np.linspace(0,1,101)\n",
    "\n",
    "fig, axs = plt.subplots(dim1, dim2)\n",
    "fig.set_size_inches(20,10)\n",
    "fig.suptitle(\"Comparing links after de-correlation\")\n",
    "\n",
    "semm = 0\n",
    "for a1 in range(0,dim1):\n",
    "    for a2 in range(0,dim2):\n",
    "        semm = semm + 1\n",
    "        \n",
    "        sames = np.zeros(len(thetas))\n",
    "        \n",
    "        for i, theta in enumerate(thetas):\n",
    "            polarities = calc_link_polarities2(dcor_attributes[semm], theta)\n",
    "            pol_old = calc_link_polarities2(ord_attributes[semm], theta, 2)\n",
    "            \n",
    "            N = polarities.shape[0]\n",
    "            sames[i] = (np.sum(polarities == pol_old) - N)/2 / N/(N-1)*2\n",
    "        \n",
    "        axs[a1, a2].set_title(\"sem=\" + str(semm))\n",
    "        axs[a1,a2].plot(thetas, sames, 'ko')\n",
    "        # plt.plot(thetas, rand_bals_mean)\n",
    "\n",
    "for ax in axs.flat:\n",
    "    ax.set(xlabel='theta', ylabel='density of same links')\n",
    "\n",
    "# Hide x labels and tick labels for top plots and y ticks for right plots.\n",
    "for ax in axs.flat:\n",
    "    ax.label_outer()"
   ]
  },
  {
   "cell_type": "code",
   "execution_count": 91,
   "id": "executed-europe",
   "metadata": {},
   "outputs": [
    {
     "data": {
      "text/plain": [
       "DegreeView({10060: 4, 85596: 10, 75261: 7, 71627: 2, 57637: 10, 66754: 6, 51552: 8, 23144: 13, 50869: 6, 25947: 6, 46160: 5, 46654: 2, 13799: 7, 86727: 4, 51722: 6, 59367: 2, 63188: 2, 68494: 6, 29914: 4, 15071: 4, 45539: 4, 46771: 5, 40997: 10, 53275: 6, 14188: 3, 17353: 2, 80058: 4, 30076: 4, 89827: 6, 37617: 2, 78911: 2, 62555: 4, 76313: 1, 50181: 1, 10841: 5, 72746: 2, 45945: 2, 26425: 2, 52067: 3, 34250: 2, 23642: 3, 66404: 6, 86352: 1, 16495: 6, 30952: 2, 19844: 1, 51597: 3, 52635: 2, 88175: 2, 75468: 2, 46021: 4, 66052: 2, 18420: 1, 68633: 2, 53884: 1, 32174: 1, 62560: 2, 25544: 5, 18344: 3, 39783: 2, 49597: 2, 44520: 2, 31583: 1})"
      ]
     },
     "execution_count": 91,
     "metadata": {},
     "output_type": "execute_result"
    }
   ],
   "source": [
    "data[6].degree"
   ]
  },
  {
   "cell_type": "code",
   "execution_count": 92,
   "id": "smoking-highland",
   "metadata": {},
   "outputs": [],
   "source": [
    "A = nx.adjacency_matrix(data[6]).todense()"
   ]
  },
  {
   "cell_type": "code",
   "execution_count": 93,
   "id": "political-teaching",
   "metadata": {},
   "outputs": [
    {
     "data": {
      "text/plain": [
       "NodeView((10060, 85596, 75261, 71627, 57637, 66754, 51552, 23144, 50869, 25947, 46160, 46654, 13799, 86727, 51722, 59367, 63188, 68494, 29914, 15071, 45539, 46771, 40997, 53275, 14188, 17353, 80058, 30076, 89827, 37617, 78911, 62555, 76313, 50181, 10841, 72746, 45945, 26425, 52067, 34250, 23642, 66404, 86352, 16495, 30952, 19844, 51597, 52635, 88175, 75468, 46021, 66052, 18420, 68633, 53884, 32174, 62560, 25544, 18344, 39783, 49597, 44520, 31583))"
      ]
     },
     "execution_count": 93,
     "metadata": {},
     "output_type": "execute_result"
    }
   ],
   "source": [
    "data[6].nodes"
   ]
  },
  {
   "cell_type": "code",
   "execution_count": 94,
   "id": "awful-territory",
   "metadata": {},
   "outputs": [],
   "source": [
    "degrees2 = [np.sum(A[:,i]>0) for i in range(0,len(data[6].nodes))]"
   ]
  },
  {
   "cell_type": "code",
   "execution_count": 95,
   "id": "personalized-ottawa",
   "metadata": {},
   "outputs": [
    {
     "data": {
      "text/plain": [
       "(63, 63)"
      ]
     },
     "execution_count": 95,
     "metadata": {},
     "output_type": "execute_result"
    }
   ],
   "source": [
    "len(degrees2), len(data[6].nodes)"
   ]
  },
  {
   "cell_type": "code",
   "execution_count": 96,
   "id": "rational-greensboro",
   "metadata": {},
   "outputs": [
    {
     "data": {
      "text/plain": [
       "array([10060, 10841, 13799, 14188, 15071, 16495, 17353, 18344, 18420,\n",
       "       19844, 23144, 23642, 25544, 25947, 26425, 29914, 30076, 30952,\n",
       "       31583, 32174, 34250, 37617, 39783, 40997, 44520, 45539, 45945,\n",
       "       46021, 46160, 46654, 46771, 49597, 50181, 50869, 51552, 51597,\n",
       "       51722, 52067, 52635, 53275, 53884, 57637, 59367, 62555, 62560,\n",
       "       63188, 66052, 66404, 66754, 68494, 68633, 71627, 72746, 75261,\n",
       "       75468, 76313, 78911, 80058, 85596, 86352, 86727, 88175, 89827])"
      ]
     },
     "execution_count": 96,
     "metadata": {},
     "output_type": "execute_result"
    }
   ],
   "source": [
    "np.sort(data[6].nodes)"
   ]
  },
  {
   "cell_type": "code",
   "execution_count": 97,
   "id": "distant-dancing",
   "metadata": {},
   "outputs": [
    {
     "data": {
      "text/plain": [
       "(2, 652)"
      ]
     },
     "execution_count": 97,
     "metadata": {},
     "output_type": "execute_result"
    }
   ],
   "source": [
    "np.sum(A[0,:]>0), np.sum(A[0,:])"
   ]
  },
  {
   "cell_type": "code",
   "execution_count": 98,
   "id": "prime-dynamics",
   "metadata": {},
   "outputs": [
    {
     "data": {
      "text/plain": [
       "[51722, 85596]"
      ]
     },
     "execution_count": 98,
     "metadata": {},
     "output_type": "execute_result"
    }
   ],
   "source": [
    "list(data[6].neighbors(10060))"
   ]
  },
  {
   "cell_type": "code",
   "execution_count": 99,
   "id": "aquatic-microwave",
   "metadata": {},
   "outputs": [
    {
     "data": {
      "text/plain": [
       "AtlasView(UnionAtlas({85596: {'weight': 638}, 51722: {'weight': 14}}, {85596: {'weight': 844}, 51722: {'weight': 16}}))"
      ]
     },
     "execution_count": 99,
     "metadata": {},
     "output_type": "execute_result"
    }
   ],
   "source": [
    "data[6][10060]"
   ]
  },
  {
   "cell_type": "code",
   "execution_count": 100,
   "id": "naughty-guarantee",
   "metadata": {},
   "outputs": [
    {
     "data": {
      "text/plain": [
       "([88175], AtlasView(UnionAtlas({}, {88175: {'weight': 1}})))"
      ]
     },
     "execution_count": 100,
     "metadata": {},
     "output_type": "execute_result"
    }
   ],
   "source": [
    "list(data[6].neighbors(31583)), data[6][31583]"
   ]
  },
  {
   "cell_type": "markdown",
   "id": "together-eugene",
   "metadata": {},
   "source": [
    "What we can see above is that this is in fact a directed network! But adjacency matrix is undirected. \n",
    "\n",
    "I will check whether the order of nodes is good. "
   ]
  },
  {
   "cell_type": "code",
   "execution_count": 101,
   "id": "inclusive-gallery",
   "metadata": {},
   "outputs": [
    {
     "data": {
      "text/plain": [
       "(1, AtlasView(UnionAtlas({39783: {'weight': 6}}, {39783: {'weight': 5}})))"
      ]
     },
     "execution_count": 101,
     "metadata": {},
     "output_type": "execute_result"
    }
   ],
   "source": [
    "np.sum(A[-3,:]>0), data[6][49597]"
   ]
  },
  {
   "cell_type": "code",
   "execution_count": 102,
   "id": "southeast-description",
   "metadata": {},
   "outputs": [
    {
     "data": {
      "text/plain": [
       "False"
      ]
     },
     "execution_count": 102,
     "metadata": {},
     "output_type": "execute_result"
    }
   ],
   "source": [
    "nx.is_directed(data[6])"
   ]
  },
  {
   "cell_type": "code",
   "execution_count": 103,
   "id": "nearby-style",
   "metadata": {},
   "outputs": [
    {
     "data": {
      "text/plain": [
       "[[10060],\n",
       " [85596],\n",
       " [75261],\n",
       " [71627],\n",
       " [57637],\n",
       " [66754],\n",
       " [51552],\n",
       " [23144],\n",
       " [50869],\n",
       " [25947],\n",
       " [46160],\n",
       " [46654],\n",
       " [13799],\n",
       " [86727],\n",
       " [51722],\n",
       " [59367],\n",
       " [63188],\n",
       " [68494],\n",
       " [29914],\n",
       " [15071],\n",
       " [45539],\n",
       " [46771],\n",
       " [40997],\n",
       " [53275],\n",
       " [14188],\n",
       " [17353],\n",
       " [80058],\n",
       " [30076],\n",
       " [89827],\n",
       " [37617],\n",
       " [78911],\n",
       " [62555],\n",
       " [76313],\n",
       " [50181],\n",
       " [10841],\n",
       " [72746],\n",
       " [45945],\n",
       " [26425],\n",
       " [52067],\n",
       " [34250],\n",
       " [23642],\n",
       " [66404],\n",
       " [86352],\n",
       " [16495],\n",
       " [30952],\n",
       " [19844],\n",
       " [51597],\n",
       " [52635],\n",
       " [88175],\n",
       " [75468],\n",
       " [46021],\n",
       " [66052],\n",
       " [18420],\n",
       " [68633],\n",
       " [53884],\n",
       " [32174],\n",
       " [62560],\n",
       " [25544],\n",
       " [18344],\n",
       " [39783],\n",
       " [49597],\n",
       " [44520],\n",
       " [31583],\n",
       " [10060, 85596],\n",
       " [10060, 51722],\n",
       " [85596, 50869],\n",
       " [85596, 51722],\n",
       " [85596, 68494],\n",
       " [85596, 37617],\n",
       " [75261, 71627],\n",
       " [75261, 46654],\n",
       " [75261, 66404],\n",
       " [75261, 62560],\n",
       " [57637, 66754],\n",
       " [57637, 51552],\n",
       " [57637, 23144],\n",
       " [57637, 89827],\n",
       " [57637, 25544],\n",
       " [66754, 51552],\n",
       " [66754, 89827],\n",
       " [51552, 23144],\n",
       " [51552, 89827],\n",
       " [23144, 50869],\n",
       " [23144, 46160],\n",
       " [23144, 26425],\n",
       " [23144, 52067],\n",
       " [23144, 23642],\n",
       " [23144, 32174],\n",
       " [50869, 13799],\n",
       " [25947, 46160],\n",
       " [25947, 59367],\n",
       " [25947, 34250],\n",
       " [46160, 23642],\n",
       " [13799, 86727],\n",
       " [13799, 45539],\n",
       " [13799, 62560],\n",
       " [86727, 45539],\n",
       " [51722, 78911],\n",
       " [63188, 68494],\n",
       " [68494, 16495],\n",
       " [29914, 15071],\n",
       " [29914, 46771],\n",
       " [15071, 46771],\n",
       " [46771, 19844],\n",
       " [40997, 53275],\n",
       " [40997, 10841],\n",
       " [40997, 86352],\n",
       " [40997, 52635],\n",
       " [40997, 46021],\n",
       " [40997, 18420],\n",
       " [53275, 10841],\n",
       " [53275, 68633],\n",
       " [53275, 53884],\n",
       " [14188, 17353],\n",
       " [14188, 16495],\n",
       " [80058, 30076],\n",
       " [80058, 66404],\n",
       " [30076, 66404],\n",
       " [62555, 76313],\n",
       " [62555, 50181],\n",
       " [62555, 66052],\n",
       " [10841, 68633],\n",
       " [72746, 45945],\n",
       " [52067, 51597],\n",
       " [16495, 30952],\n",
       " [16495, 88175],\n",
       " [51597, 25544],\n",
       " [88175, 31583],\n",
       " [75468, 46021],\n",
       " [25544, 18344],\n",
       " [18344, 44520],\n",
       " [39783, 49597],\n",
       " [10060, 85596, 51722],\n",
       " [57637, 66754, 51552],\n",
       " [57637, 66754, 89827],\n",
       " [57637, 51552, 23144],\n",
       " [57637, 51552, 89827],\n",
       " [66754, 51552, 89827],\n",
       " [23144, 46160, 23642],\n",
       " [13799, 86727, 45539],\n",
       " [29914, 15071, 46771],\n",
       " [40997, 53275, 10841],\n",
       " [53275, 10841, 68633],\n",
       " [80058, 30076, 66404],\n",
       " [57637, 66754, 51552, 89827]]"
      ]
     },
     "execution_count": 103,
     "metadata": {},
     "output_type": "execute_result"
    }
   ],
   "source": [
    "list(nx.enumerate_all_cliques(data[6]))"
   ]
  },
  {
   "cell_type": "code",
   "execution_count": 104,
   "id": "disabled-touch",
   "metadata": {},
   "outputs": [
    {
     "data": {
      "text/plain": [
       "[(0, 1, 14),\n",
       " (4, 5, 6),\n",
       " (4, 5, 28),\n",
       " (4, 6, 7),\n",
       " (4, 6, 28),\n",
       " (5, 6, 28),\n",
       " (7, 10, 40),\n",
       " (12, 13, 20),\n",
       " (18, 19, 21),\n",
       " (22, 23, 34),\n",
       " (23, 34, 53),\n",
       " (26, 27, 41)]"
      ]
     },
     "execution_count": 104,
     "metadata": {},
     "output_type": "execute_result"
    }
   ],
   "source": [
    "get_triads(data[6])"
   ]
  },
  {
   "cell_type": "markdown",
   "id": "external-advertiser",
   "metadata": {},
   "source": [
    "OK, the order of nodes is correct. \n",
    "\n",
    "Now let's check how weights in adjacency matrix are correlated with the weights in nodes' attributes"
   ]
  },
  {
   "cell_type": "code",
   "execution_count": 105,
   "id": "false-freedom",
   "metadata": {},
   "outputs": [
    {
     "data": {
      "text/plain": [
       "(AtlasView(UnionAtlas({85596: {'weight': 638}, 51722: {'weight': 14}}, {85596: {'weight': 844}, 51722: {'weight': 16}})),\n",
       " matrix([[  0, 638,   0,   0,   0,   0,   0,   0,   0,   0,   0,   0,   0,\n",
       "            0,  14,   0,   0,   0,   0,   0,   0,   0,   0,   0,   0,   0,\n",
       "            0,   0,   0,   0,   0,   0,   0,   0,   0,   0,   0,   0,   0,\n",
       "            0,   0,   0,   0,   0,   0,   0,   0,   0,   0,   0,   0,   0,\n",
       "            0,   0,   0,   0,   0,   0,   0,   0,   0,   0,   0]]))"
      ]
     },
     "execution_count": 105,
     "metadata": {},
     "output_type": "execute_result"
    }
   ],
   "source": [
    "data[6][10060], A[0,:]"
   ]
  },
  {
   "cell_type": "markdown",
   "id": "statewide-string",
   "metadata": {},
   "source": [
    "Adjacency matrix is symmetric. \n",
    "\n",
    "However, the weights are neither the maximum nor minimum weight of a weight i->j and j->i. \n",
    "Above is the example it is not the maximum (638, 844 -> 638). \n",
    "Also (14, 1 -> 14)\n"
   ]
  },
  {
   "cell_type": "code",
   "execution_count": 106,
   "id": "divine-procurement",
   "metadata": {},
   "outputs": [
    {
     "data": {
      "text/plain": [
       "(AtlasView(UnionAtlas({66754: {'weight': 123}, 51552: {'weight': 19}, 23144: {'weight': 86}, 89827: {'weight': 6}, 25544: {'weight': 6}}, {23144: {'weight': 72}, 66754: {'weight': 106}, 51552: {'weight': 13}, 89827: {'weight': 2}, 25544: {'weight': 8}})),\n",
       " matrix([[  0,   0,   0,   0,   0, 123,  19,  86,   0,   0,   0,   0,   0,\n",
       "            0,   0,   0,   0,   0,   0,   0,   0,   0,   0,   0,   0,   0,\n",
       "            0,   0,   6,   0,   0,   0,   0,   0,   0,   0,   0,   0,   0,\n",
       "            0,   0,   0,   0,   0,   0,   0,   0,   0,   0,   0,   0,   0,\n",
       "            0,   0,   0,   0,   0,   6,   0,   0,   0,   0,   0]]))"
      ]
     },
     "execution_count": 106,
     "metadata": {},
     "output_type": "execute_result"
    }
   ],
   "source": [
    "data[6][57637], A[4,:]"
   ]
  },
  {
   "cell_type": "markdown",
   "id": "focused-leisure",
   "metadata": {},
   "source": [
    "It seems, that which value of weight is given is related to which node was entered first. "
   ]
  },
  {
   "cell_type": "code",
   "execution_count": 107,
   "id": "owned-might",
   "metadata": {},
   "outputs": [
    {
     "data": {
      "text/plain": [
       "({'weight': 638},\n",
       " AtlasView(UnionAtlas({85596: {'weight': 638}, 51722: {'weight': 14}}, {85596: {'weight': 844}, 51722: {'weight': 16}})))"
      ]
     },
     "execution_count": 107,
     "metadata": {},
     "output_type": "execute_result"
    }
   ],
   "source": [
    "data_nodes = list(data[6].nodes)\n",
    "data[6][data_nodes[0]][85596], data[6][data_nodes[0]]"
   ]
  },
  {
   "cell_type": "code",
   "execution_count": 108,
   "id": "amended-trial",
   "metadata": {},
   "outputs": [
    {
     "data": {
      "text/plain": [
       "638"
      ]
     },
     "execution_count": 108,
     "metadata": {},
     "output_type": "execute_result"
    }
   ],
   "source": [
    "data[6][data_nodes[0]][85596]['weight']"
   ]
  },
  {
   "cell_type": "code",
   "execution_count": 18,
   "id": "preliminary-pasta",
   "metadata": {},
   "outputs": [],
   "source": [
    "def create_directed_adj_mat(net):\n",
    "    A_undir = nx.adjacency_matrix(net).todense()\n",
    "    A_dir = np.zeros(A_undir.shape, dtype=int)\n",
    "    \n",
    "    data_nodes = list(net.nodes)\n",
    "    \n",
    "    for node_ind, node in enumerate(data_nodes):\n",
    "        for neigh in net[data_nodes[node_ind]]:\n",
    "            try:\n",
    "                neigh_ind = np.where(np.array(data_nodes) == neigh)[0][0]\n",
    "            except KeyError:\n",
    "                print(neigh)\n",
    "                print(np.array(data_nodes) == neigh)\n",
    "                print(data_nodes)\n",
    "                print(net[data_nodes[node_ind]])\n",
    "            try:\n",
    "                A_dir[node_ind,neigh_ind] = net[data_nodes[node_ind]][neigh]['weight']\n",
    "            except KeyError:\n",
    "                print(node_ind, neigh_ind)\n",
    "                print(net[data_nodes[node_ind]])\n",
    "                print(net[data_nodes[node_ind]][neigh_ind])\n",
    "                print(net[data_nodes[node_ind]][neigh_ind]['weight'])\n",
    "    return A_dir, A_undir\n",
    "\n",
    "\"\"\"\n",
    "This can find also directed triads. \n",
    "\"\"\"\n",
    "def get_triads_from_adj_mat(A):\n",
    "    N = A.shape[0]\n",
    "    \n",
    "    triads = dict()\n",
    "    for i in range(0,N):\n",
    "        for j in range(i+1,N):\n",
    "            if A[i,j] == 0:\n",
    "                continue\n",
    "            for k in range(j+1,N):\n",
    "                if A[j,k] > 0 and A[k,i] > 0:\n",
    "                    triads[(i,j,k)] = (A[i,j], A[j,k], A[k, i])\n",
    "    \n",
    "    for i in range(0,N):\n",
    "        for j in range(i+1,N):\n",
    "            if A[j,i] == 0:\n",
    "                continue\n",
    "            for k in range(j+1,N):\n",
    "                if A[k,j] > 0 and A[i,k] > 0:\n",
    "                    triads[(k,j,i)] = (A[k,j], A[j,i], A[i,k])\n",
    "    return triads\n",
    "\n",
    "def find_th_polarity_change(attr, agent1, agent2, sem, dif_max = max_dif3):\n",
    "    thresholds = np.linspace(0,1,101)\n",
    "    \n",
    "    beg_polarity = calc_link_polarity2(attr[sem][agent1], attr[sem][agent2], 0, dif_max)\n",
    "    \n",
    "    for th in thresholds:\n",
    "        polarity = calc_link_polarity2(attr[sem][agent1], attr[sem][agent2], th, dif_max)\n",
    "        if beg_polarity != polarity:\n",
    "            break\n",
    "        \n",
    "    return th\n",
    "    "
   ]
  },
  {
   "cell_type": "code",
   "execution_count": 110,
   "id": "organized-mortality",
   "metadata": {},
   "outputs": [],
   "source": [
    "A_dir, A_undir = create_directed_adj_mat(data[6])"
   ]
  },
  {
   "cell_type": "code",
   "execution_count": 111,
   "id": "maritime-peripheral",
   "metadata": {},
   "outputs": [
    {
     "data": {
      "text/plain": [
       "{(0, 1, 14): (638, 123, 16),\n",
       " (4, 5, 6): (123, 13, 13),\n",
       " (4, 5, 28): (123, 39, 2),\n",
       " (4, 6, 7): (19, 9, 72),\n",
       " (4, 6, 28): (19, 4, 2),\n",
       " (5, 6, 28): (13, 4, 25),\n",
       " (7, 10, 40): (1, 25, 1),\n",
       " (12, 13, 20): (16, 329, 7784),\n",
       " (18, 19, 21): (10, 2, 27),\n",
       " (22, 23, 34): (37, 18, 1),\n",
       " (23, 34, 53): (18, 4, 2),\n",
       " (26, 27, 41): (2, 115, 8),\n",
       " (14, 1, 0): (98, 844, 14),\n",
       " (6, 5, 4): (11, 106, 19),\n",
       " (28, 5, 4): (25, 106, 6),\n",
       " (7, 6, 4): (11, 13, 86),\n",
       " (28, 6, 4): (5, 13, 6),\n",
       " (28, 6, 5): (5, 11, 39),\n",
       " (40, 10, 7): (33, 1, 1),\n",
       " (20, 13, 12): (329, 10, 8604),\n",
       " (21, 19, 18): (7, 7, 21),\n",
       " (34, 23, 22): (10, 36, 1),\n",
       " (53, 34, 23): (4, 10, 2),\n",
       " (41, 27, 26): (101, 2, 6)}"
      ]
     },
     "execution_count": 111,
     "metadata": {},
     "output_type": "execute_result"
    }
   ],
   "source": [
    "triads = get_triads_from_adj_mat(A_dir)\n",
    "triads"
   ]
  },
  {
   "cell_type": "code",
   "execution_count": 112,
   "id": "equipped-suspension",
   "metadata": {},
   "outputs": [],
   "source": [
    "sem = 6\n",
    "th = 0.4\n",
    "\n",
    "polarities = calc_link_polarities2(dcor_attributes[sem], th)\n",
    "pol_old = calc_link_polarities2(ord_attributes[sem], th, 2)"
   ]
  },
  {
   "cell_type": "code",
   "execution_count": 113,
   "id": "liable-garlic",
   "metadata": {},
   "outputs": [
    {
     "data": {
      "text/plain": [
       "1.0"
      ]
     },
     "execution_count": 113,
     "metadata": {},
     "output_type": "execute_result"
    }
   ],
   "source": [
    "polarities[12,13]"
   ]
  },
  {
   "cell_type": "code",
   "execution_count": 114,
   "id": "ecological-partner",
   "metadata": {},
   "outputs": [
    {
     "data": {
      "text/plain": [
       "(0.46, 0.25)"
      ]
     },
     "execution_count": 114,
     "metadata": {},
     "output_type": "execute_result"
    }
   ],
   "source": [
    "agent1 = 7\n",
    "agent2 = 40\n",
    "agent3 = 10\n",
    "find_th_polarity_change(dcor_attributes, agent1, agent2, sem), find_th_polarity_change(ord_attributes, agent1, agent2, sem, 2)"
   ]
  },
  {
   "cell_type": "code",
   "execution_count": 115,
   "id": "toxic-review",
   "metadata": {},
   "outputs": [
    {
     "name": "stdout",
     "output_type": "stream",
     "text": [
      "0.56\n"
     ]
    }
   ],
   "source": [
    "sem = 6\n",
    "attr = dcor_attributes\n",
    "agent1 = 40\n",
    "agent2= 10\n",
    "beg_polarity = calc_link_polarity2(attr[sem][agent1], attr[sem][agent2], 0)\n",
    "thresholds = np.linspace(0,1,101)\n",
    "for th in thresholds:\n",
    "    polarity = calc_link_polarity2(attr[sem][agent1], attr[sem][agent2], th)\n",
    "    if beg_polarity != polarity:\n",
    "        print(th)\n",
    "        break"
   ]
  },
  {
   "cell_type": "code",
   "execution_count": 116,
   "id": "different-fifteen",
   "metadata": {},
   "outputs": [
    {
     "data": {
      "text/plain": [
       "(array([-2.952,  1.775,  0.301, -1.341, -0.125, -0.793, -1.219, -0.343]),\n",
       " array([-4.032, -0.394,  1.396,  0.091, -0.639, -1.797, -1.074,  0.916]))"
      ]
     },
     "execution_count": 116,
     "metadata": {},
     "output_type": "execute_result"
    }
   ],
   "source": [
    "dcor_attributes[sem][agent1], dcor_attributes[sem][agent2]"
   ]
  },
  {
   "cell_type": "code",
   "execution_count": 117,
   "id": "circular-quantum",
   "metadata": {},
   "outputs": [
    {
     "data": {
      "text/plain": [
       "(0.451012365262551, 0.5163075877959855, 0.5576475905238086)"
      ]
     },
     "execution_count": 117,
     "metadata": {},
     "output_type": "execute_result"
    }
   ],
   "source": [
    "agent1 = 7\n",
    "agent2 = 40\n",
    "agent3 = 10\n",
    "calc_distance(dcor_attributes[sem][agent1], dcor_attributes[sem][agent2], max_dif3), calc_distance(dcor_attributes[sem][agent1], dcor_attributes[sem][agent3], max_dif3),  calc_distance(dcor_attributes[sem][agent3], dcor_attributes[sem][agent2], max_dif3)"
   ]
  },
  {
   "cell_type": "markdown",
   "id": "noticed-macro",
   "metadata": {},
   "source": [
    "Czemu losujemy tylko po agentach, którzy tworzą triady? Czy to ma sens?\n",
    "\n",
    "Agenci, którzy nie tworzą triad, może mają połączenia z innymi agentami, ale ich nie widzimy. Stąd jest sens ich nie brać. \n",
    "\n",
    "Ale jaki sens ma, że bierzemy jedną triadę ABC i triadę DEF, które są oderwane od reszty sieci i mieszamy agentów? \n",
    "\n",
    "Wychodzi, że atrybuty nie mają takiego znaczenia, jeśli chodzi o otrzymanie odpowiedniej równowagi. Ewentualnie, ja źle na nie patrzę. "
   ]
  },
  {
   "cell_type": "markdown",
   "id": "formal-ethics",
   "metadata": {},
   "source": [
    "# E8"
   ]
  },
  {
   "cell_type": "code",
   "execution_count": 21,
   "id": "unusual-holocaust",
   "metadata": {},
   "outputs": [
    {
     "data": {
      "text/plain": [
       "(0.7111111111111111, 0.4985293548426973)"
      ]
     },
     "execution_count": 21,
     "metadata": {},
     "output_type": "execute_result"
    }
   ],
   "source": [
    "sem = 1\n",
    "th = 0.4\n",
    "\n",
    "polarities = calc_link_polarities2(ord_attributes[sem], th, 2)\n",
    "N = polarities.shape[0]\n",
    "\n",
    "rho = np.sum(polarities == 1)/2 / N/(N-1)*2\n",
    "\n",
    "prob_balanced = np.power(rho,3) + 3*rho*np.power(1-rho,2)\n",
    "\n",
    "triads = get_triads(data[sem])\n",
    "balanced_triad_density_network(polarities, triads), prob_balanced"
   ]
  },
  {
   "cell_type": "code",
   "execution_count": 22,
   "id": "judicial-healing",
   "metadata": {},
   "outputs": [
    {
     "data": {
      "image/png": "[encoded data removed]",
      "text/plain": [
       "<Figure size 1440x720 with 6 Axes>"
      ]
     },
     "metadata": {
      "needs_background": "light"
     },
     "output_type": "display_data"
    }
   ],
   "source": [
    "dim1 = 2\n",
    "dim2 = 3\n",
    "thetas = np.linspace(0,1,101)\n",
    "\n",
    "fig, axs = plt.subplots(dim1, dim2)\n",
    "fig.set_size_inches(20,10)\n",
    "fig.suptitle(\"Model E_8\")\n",
    "\n",
    "semm = 0\n",
    "for a1 in range(0,dim1):\n",
    "    for a2 in range(0,dim2):\n",
    "        semm = semm + 1\n",
    "        \n",
    "        prob_bals = np.zeros(len(thetas))\n",
    "        bals = np.zeros(len(thetas))\n",
    "        \n",
    "        for i, theta in enumerate(thetas):\n",
    "            polarities = calc_link_polarities2(ord_attributes[semm], theta, 2)\n",
    "            \n",
    "            N = polarities.shape[0]\n",
    "            rho = np.sum(polarities == 1)/2 / N/(N-1)*2\n",
    "            prob_bals[i] = np.power(rho,3) + 3*rho*np.power(1-rho,2)\n",
    "            \n",
    "            triads = get_triads(data[semm])\n",
    "            bals[i] = balanced_triad_density_network(polarities, triads)\n",
    "        \n",
    "        axs[a1, a2].set_title(\"sem=\" + str(semm))\n",
    "        axs[a1,a2].plot(thetas, bals, thetas, prob_bals)\n",
    "        # plt.plot(thetas, rand_bals_mean)\n",
    "        axs[a1, a2].legend([\"data\", \"model\"])\n",
    "\n",
    "for ax in axs.flat:\n",
    "    ax.set(xlabel='theta', ylabel='density of balanced triads')\n",
    "\n",
    "# Hide x labels and tick labels for top plots and y ticks for right plots.\n",
    "for ax in axs.flat:\n",
    "    ax.label_outer()"
   ]
  },
  {
   "cell_type": "markdown",
   "id": "about-lawyer",
   "metadata": {},
   "source": [
    "Analiza statystyczna powyższego"
   ]
  },
  {
   "cell_type": "code",
   "execution_count": 23,
   "id": "posted-matrix",
   "metadata": {},
   "outputs": [],
   "source": [
    "def distribute_random_polarities(N, rho):\n",
    "    polarities = np.zeros([N,N], dtype = int)\n",
    "    \n",
    "    for i in range(0,N):\n",
    "        for j in range(i+1, N):\n",
    "            polarities[i,j] = 1 if np.random.random() < rho else -1\n",
    "            polarities[j,i] = polarities[i,j]\n",
    "    return polarities\n",
    "\n",
    "def calc_pval_E8(triads, agents, th, attr_dif, M):\n",
    "    \"\"\"\n",
    "    triads - list of sets of node ids forming a triad\n",
    "    agents - array of vectors of agent attributes\n",
    "    th - threshold used\n",
    "    attr_dif - max difference between attributes\n",
    "    M - number of times to repeat randomization\n",
    "    \"\"\"\n",
    "    polarities = calc_link_polarities2(agents, th, attr_dif)\n",
    "    bal_dens = balanced_triad_density_network(polarities, triads)\n",
    "    \n",
    "    N = polarities.shape[0]\n",
    "    rho = np.sum(polarities == 1)/2 / N/(N-1)*2\n",
    "    \n",
    "    bal_dens_rands = np.zeros(M)\n",
    "    \n",
    "    for i in range(0,M):\n",
    "        polarities_rand = distribute_random_polarities(N, rho)\n",
    "        bal_dens_rands[i] = balanced_triad_density_network(polarities_rand, triads)\n",
    "        \n",
    "    pval = np.sum(bal_dens_rands >= bal_dens)\n",
    "    \n",
    "    return bal_dens_rands, bal_dens, pval\n",
    "\n",
    "def compare_networks2(fun, data, th, attr_dif, M):\n",
    "    pvals = np.zeros(6)\n",
    "    vals = np.zeros(6)\n",
    "    stds = np.zeros(6)\n",
    "    difs = np.zeros(6)\n",
    "    \n",
    "    for n in range(1,7):\n",
    "#         print(n)\n",
    "        net = data[n]\n",
    "        triads = get_triads(net)\n",
    "        agents = dcor_attributes[n]\n",
    "        \n",
    "        bal_dens_rands, bal_dens, pval = fun(triads, agents, th, attr_dif, M)\n",
    "        pvals[n-1] = pval\n",
    "        vals[n - 1] = bal_dens\n",
    "        difs[n-1] = np.mean(bal_dens - bal_dens_rands)\n",
    "        stds[n-1] = np.std(difs)\n",
    "    return pvals, vals, difs, stds"
   ]
  },
  {
   "cell_type": "code",
   "execution_count": 24,
   "id": "identical-channels",
   "metadata": {},
   "outputs": [
    {
     "ename": "NameError",
     "evalue": "name 'dcor_attributes' is not defined",
     "output_type": "error",
     "traceback": [
      "\u001b[0;31m---------------------------------------------------------------------------\u001b[0m",
      "\u001b[0;31mNameError\u001b[0m                                 Traceback (most recent call last)",
      "\u001b[0;32m<ipython-input-24-d0809096a93a>\u001b[0m in \u001b[0;36m<module>\u001b[0;34m\u001b[0m\n\u001b[1;32m      2\u001b[0m \u001b[0mth\u001b[0m \u001b[0;34m=\u001b[0m \u001b[0;36m0.3\u001b[0m\u001b[0;34m\u001b[0m\u001b[0;34m\u001b[0m\u001b[0m\n\u001b[1;32m      3\u001b[0m \u001b[0;34m\u001b[0m\u001b[0m\n\u001b[0;32m----> 4\u001b[0;31m \u001b[0mpolarities\u001b[0m \u001b[0;34m=\u001b[0m \u001b[0mcalc_link_polarities2\u001b[0m\u001b[0;34m(\u001b[0m\u001b[0mdcor_attributes\u001b[0m\u001b[0;34m[\u001b[0m\u001b[0msem\u001b[0m\u001b[0;34m]\u001b[0m\u001b[0;34m,\u001b[0m \u001b[0mth\u001b[0m\u001b[0;34m)\u001b[0m\u001b[0;34m\u001b[0m\u001b[0;34m\u001b[0m\u001b[0m\n\u001b[0m\u001b[1;32m      5\u001b[0m \u001b[0mN\u001b[0m \u001b[0;34m=\u001b[0m \u001b[0mpolarities\u001b[0m\u001b[0;34m.\u001b[0m\u001b[0mshape\u001b[0m\u001b[0;34m[\u001b[0m\u001b[0;36m0\u001b[0m\u001b[0;34m]\u001b[0m\u001b[0;34m\u001b[0m\u001b[0;34m\u001b[0m\u001b[0m\n\u001b[1;32m      6\u001b[0m \u001b[0;34m\u001b[0m\u001b[0m\n",
      "\u001b[0;31mNameError\u001b[0m: name 'dcor_attributes' is not defined"
     ]
    }
   ],
   "source": [
    "sem = 1\n",
    "th = 0.3\n",
    "\n",
    "polarities = calc_link_polarities2(dcor_attributes[sem], th)\n",
    "N = polarities.shape[0]\n",
    "\n",
    "rho = np.sum(polarities == 1)/2 / N/(N-1)*2\n",
    "pol_rand = distribute_random_polarities(N, rho)\n",
    "\n",
    "triads = get_triads(data[sem])\n",
    "balanced_triad_density_network(polarities, triads), balanced_triad_density_network(pol_rand, triads)\n",
    "\n"
   ]
  },
  {
   "cell_type": "code",
   "execution_count": 50,
   "id": "buried-placement",
   "metadata": {},
   "outputs": [
    {
     "data": {
      "text/plain": [
       "(array([0.333, 0.422, 0.489, 0.489, 0.222, 0.556, 0.356, 0.533, 0.356,\n",
       "        0.356, 0.422, 0.533, 0.422, 0.444, 0.267, 0.356, 0.289, 0.489,\n",
       "        0.444, 0.467, 0.378, 0.333, 0.511, 0.333, 0.4  , 0.422, 0.4  ,\n",
       "        0.311, 0.578, 0.533, 0.333, 0.467, 0.378, 0.422, 0.4  , 0.289,\n",
       "        0.4  , 0.289, 0.267, 0.489, 0.378, 0.444, 0.422, 0.356, 0.356,\n",
       "        0.467, 0.311, 0.289, 0.378, 0.467, 0.422, 0.489, 0.444, 0.489,\n",
       "        0.422, 0.378, 0.489, 0.422, 0.467, 0.289, 0.4  , 0.4  , 0.311,\n",
       "        0.467, 0.489, 0.333, 0.489, 0.378, 0.422, 0.6  , 0.267, 0.333,\n",
       "        0.378, 0.267, 0.489, 0.444, 0.289, 0.6  , 0.378, 0.356, 0.4  ,\n",
       "        0.289, 0.444, 0.222, 0.6  , 0.222, 0.4  , 0.489, 0.489, 0.4  ,\n",
       "        0.4  , 0.511, 0.378, 0.422, 0.378, 0.556, 0.444, 0.2  , 0.356,\n",
       "        0.467]),\n",
       " 0.4,\n",
       " 58)"
      ]
     },
     "execution_count": 50,
     "metadata": {},
     "output_type": "execute_result"
    }
   ],
   "source": [
    "M = 100\n",
    "calc_pval_E8(triads, ord_attributes[sem], th, 2, M)"
   ]
  },
  {
   "cell_type": "code",
   "execution_count": 53,
   "id": "asian-entertainment",
   "metadata": {},
   "outputs": [
    {
     "data": {
      "image/png": "[encoded data removed]",
      "text/plain": [
       "<Figure size 1440x720 with 6 Axes>"
      ]
     },
     "metadata": {
      "needs_background": "light"
     },
     "output_type": "display_data"
    }
   ],
   "source": [
    "dim1 = 2\n",
    "dim2 = 3\n",
    "thetas = np.linspace(0,1,21)\n",
    "M = 100\n",
    "\n",
    "pvals = dict((i, np.zeros(len(thetas))) for i in range(1,7))\n",
    "\n",
    "fig, axs = plt.subplots(dim1, dim2)\n",
    "fig.set_size_inches(20,10)\n",
    "fig.suptitle(\"Model E_8 Errors\")\n",
    "\n",
    "semm = 0\n",
    "for a1 in range(0,dim1):\n",
    "    for a2 in range(0,dim2):\n",
    "        semm = semm + 1\n",
    "        \n",
    "        prob_bals_mean = np.zeros(len(thetas))\n",
    "        prob_bals_std = np.zeros(len(thetas))\n",
    "        bals = np.zeros(len(thetas))\n",
    "        \n",
    "        for i, theta in enumerate(thetas):\n",
    "            triads = get_triads(data[semm])\n",
    "            bal_dens_rands, bal_dens, pval = calc_pval_E8(triads, ord_attributes[semm], theta, 2, M)\n",
    "            \n",
    "            prob_bals_mean[i] = np.mean(bal_dens_rands)\n",
    "            prob_bals_std[i] = np.std(bal_dens_rands)\n",
    "            pvals[semm][i] = pval\n",
    "            \n",
    "            bals[i] = bal_dens\n",
    "        \n",
    "        axs[a1, a2].set_title(\"sem=\" + str(semm))\n",
    "        # axs[a1,a2].plot(thetas, bals, thetas, prob_bals)\n",
    "        axs[a1,a2].plot(thetas, bals, 'ko')\n",
    "        # plt.plot(thetas, rand_bals_mean)\n",
    "        axs[a1, a2].fill_between(thetas, prob_bals_mean-prob_bals_std, prob_bals_mean+prob_bals_std)\n",
    "        # plt.plot(thetas, rand_bals_mean)\n",
    "        axs[a1, a2].legend([\"data\", \"model\"])\n",
    "\n",
    "for ax in axs.flat:\n",
    "    ax.set(xlabel='theta', ylabel='density of balanced triads')\n",
    "\n",
    "# Hide x labels and tick labels for top plots and y ticks for right plots.\n",
    "for ax in axs.flat:\n",
    "    ax.label_outer()"
   ]
  },
  {
   "cell_type": "code",
   "execution_count": 54,
   "id": "incomplete-thunder",
   "metadata": {},
   "outputs": [
    {
     "data": {
      "text/plain": [
       "(array([0.   , 0.   , 0.   , 0.   , 0.   , 0.   , 0.   , 0.083, 0.   ,\n",
       "        0.083, 0.   , 0.   , 0.   , 0.   , 0.083, 0.   , 0.   , 0.   ,\n",
       "        0.167, 0.   , 0.   , 0.25 , 0.167, 0.   , 0.083, 0.   , 0.083,\n",
       "        0.   , 0.083, 0.   , 0.   , 0.083, 0.167, 0.   , 0.   , 0.   ,\n",
       "        0.083, 0.   , 0.   , 0.   , 0.083, 0.083, 0.   , 0.   , 0.083,\n",
       "        0.   , 0.083, 0.   , 0.   , 0.   , 0.   , 0.   , 0.   , 0.   ,\n",
       "        0.   , 0.083, 0.   , 0.083, 0.   , 0.   , 0.083, 0.   , 0.   ,\n",
       "        0.   , 0.   , 0.   , 0.   , 0.   , 0.   , 0.083, 0.   , 0.   ,\n",
       "        0.   , 0.   , 0.   , 0.   , 0.   , 0.   , 0.   , 0.   , 0.167,\n",
       "        0.   , 0.167, 0.   , 0.083, 0.   , 0.   , 0.083, 0.   , 0.   ,\n",
       "        0.   , 0.   , 0.083, 0.   , 0.   , 0.083, 0.   , 0.   , 0.   ,\n",
       "        0.   ]),\n",
       " 0.08333333333333333,\n",
       " 26)"
      ]
     },
     "execution_count": 54,
     "metadata": {},
     "output_type": "execute_result"
    }
   ],
   "source": [
    "calc_pval_E8(triads, ord_attributes[semm], 0.05, 2, M)"
   ]
  },
  {
   "cell_type": "code",
   "execution_count": 55,
   "id": "brilliant-cancellation",
   "metadata": {},
   "outputs": [
    {
     "data": {
      "text/plain": [
       "(0.08333333333333333, 0.0)"
      ]
     },
     "execution_count": 55,
     "metadata": {},
     "output_type": "execute_result"
    }
   ],
   "source": [
    "sem = 6\n",
    "th = 0.05\n",
    "\n",
    "polarities = calc_link_polarities2(ord_attributes[sem], th)\n",
    "N = polarities.shape[0]\n",
    "\n",
    "rho = np.sum(polarities == 1)/2 / N/(N-1)*2\n",
    "pol_rand = distribute_random_polarities(N, rho)\n",
    "\n",
    "triads = get_triads(data[sem])\n",
    "balanced_triad_density_network(polarities, triads), balanced_triad_density_network(pol_rand, triads)\n",
    "\n"
   ]
  },
  {
   "cell_type": "code",
   "execution_count": 56,
   "id": "contemporary-container",
   "metadata": {},
   "outputs": [
    {
     "data": {
      "text/plain": [
       "{1: array([ 11.,  18.,  55.,  77.,  56.,  50.,  59.,   1.,   1.,   1.,   0.,\n",
       "          0.,   2.,   7.,  22.,   1.,   1.,  20.,  89.,  92., 100.]),\n",
       " 2: array([  5.,   8.,  33.,  17.,   0.,  11.,  11.,   6.,   2.,   2.,   1.,\n",
       "          0.,   8.,  20.,  34.,  32.,  39.,  45.,  79.,  96., 100.]),\n",
       " 3: array([100., 100.,  42.,  43.,  46.,  31.,  28.,  38.,  25.,  20.,  25.,\n",
       "         29.,  50.,  38.,  37.,  76.,  61.,  52.,  88.,  95., 100.]),\n",
       " 4: array([ 16.,  27.,   6.,  19.,   8.,   2.,   1.,   7.,   1.,   3.,   7.,\n",
       "         16.,   4.,   6.,  18.,  32.,  43.,  83.,  74.,  99., 100.]),\n",
       " 5: array([ 19.,  15.,  52.,  13.,   9.,   7.,  12.,  12.,   0.,   2.,   0.,\n",
       "          2.,  23.,  24.,   2.,  11.,  16.,  34.,  85.,  95., 100.]),\n",
       " 6: array([ 27.,  35.,  45.,   9.,  25.,   0.,   0.,   0.,   2.,   2.,   3.,\n",
       "          2.,   6.,  32.,  19.,  20.,  25.,  32.,  81.,  86., 100.])}"
      ]
     },
     "execution_count": 56,
     "metadata": {},
     "output_type": "execute_result"
    }
   ],
   "source": [
    "pvals"
   ]
  },
  {
   "cell_type": "markdown",
   "id": "trying-snowboard",
   "metadata": {},
   "source": [
    "## Similar analysis but with taking all terms together"
   ]
  },
  {
   "cell_type": "code",
   "execution_count": 26,
   "id": "sized-cedar",
   "metadata": {},
   "outputs": [
    {
     "data": {
      "text/plain": [
       "Text(0, 0.5, 'density of balanced triads')"
      ]
     },
     "execution_count": 26,
     "metadata": {},
     "output_type": "execute_result"
    },
    {
     "data": {
      "image/png": "[encoded data removed]",
      "text/plain": [
       "<Figure size 432x288 with 1 Axes>"
      ]
     },
     "metadata": {
      "needs_background": "light"
     },
     "output_type": "display_data"
    }
   ],
   "source": [
    "first_sem = 1\n",
    "last_sem = 6\n",
    "thetas = np.linspace(0,1,101)\n",
    "\n",
    "triads_all = [get_triads(data[semm]) for semm in range(1,last_sem+1)]\n",
    "triads_len = [len(x) for x in triads_all]\n",
    "triads_all_num = np.sum(triads_len[first_sem-1:last_sem])\n",
    "\n",
    "agents_len = [len(ord_attributes[semm]) for semm in range(1,last_sem+1)]\n",
    "net_all_num = np.sum([N*(N-1)/2 for N in agents_len[first_sem-1:last_sem]])\n",
    "\n",
    "all_bals = np.zeros(len(thetas))\n",
    "bals = np.zeros(len(thetas))\n",
    "\n",
    "for semm in range(first_sem, last_sem+1):\n",
    "    triads = triads_all[semm-1]\n",
    "    N = agents_len[semm-1]\n",
    "            \n",
    "    for i, theta in enumerate(thetas):\n",
    "        polarities = calc_link_polarities2(ord_attributes[semm], theta, 2)\n",
    "        bals[i] = bals[i] + balanced_triad_density_network(polarities, triads) * triads_len[semm - 1]\n",
    "        \n",
    "        rho = np.sum(polarities == 1)/2 / N/(N-1)*2\n",
    "        all_bals[i] = all_bals[i] + (np.power(rho,3) + 3*rho*np.power(1-rho,2) ) * N*(N-1)/2\n",
    "\n",
    "bals = bals / triads_all_num\n",
    "all_bals = all_bals / net_all_num\n",
    "\n",
    "plt.plot(thetas, bals, thetas, all_bals)\n",
    "plt.legend([\"network\", \"all\"])\n",
    "plt.title(\"Model E8. Comparing data and expected values in all terms together.\")\n",
    "plt.xlabel(\"theta\")\n",
    "plt.ylabel(\"density of balanced triads\")"
   ]
  },
  {
   "cell_type": "code",
   "execution_count": 40,
   "id": "respiratory-league",
   "metadata": {},
   "outputs": [
    {
     "name": "stdout",
     "output_type": "stream",
     "text": [
      "10:58:20 . Started analysis\n",
      "10:58:24 . Finished calculating real-world balanced densities. \n",
      "10:59:49 . Finished  20 % of randomized calculations.\n",
      "11:01:15 . Finished  40 % of randomized calculations.\n",
      "11:02:42 . Finished  60 % of randomized calculations.\n",
      "11:04:08 . Finished  80 % of randomized calculations.\n",
      "11:05:37 . Finished  100 % of randomized calculations.\n",
      "11:05:37 . Finished.\n"
     ]
    },
    {
     "data": {
      "text/plain": [
       "(3046.0,\n",
       " array([2542., 2497., 2482., 2481., 2544., 2514., 2517., 2534., 2500.,\n",
       "        2555., 2551., 2493., 2512., 2560., 2518., 2517., 2523., 2547.,\n",
       "        2545., 2499., 2537., 2454., 2469., 2579., 2452., 2476., 2519.,\n",
       "        2478., 2503., 2525., 2543., 2509., 2522., 2551., 2455., 2565.,\n",
       "        2481., 2459., 2566., 2541., 2491., 2526., 2509., 2539., 2460.,\n",
       "        2517., 2516., 2539., 2555., 2585., 2512., 2475., 2529., 2508.,\n",
       "        2490., 2551., 2503., 2507., 2441., 2504., 2502., 2563., 2507.,\n",
       "        2520., 2490., 2480., 2467., 2573., 2484., 2540., 2495., 2530.,\n",
       "        2553., 2487., 2481., 2537., 2549., 2494., 2559., 2528., 2497.,\n",
       "        2497., 2506., 2494., 2507., 2480., 2518., 2449., 2523., 2512.,\n",
       "        2528., 2578., 2550., 2422., 2522., 2507., 2526., 2535., 2493.,\n",
       "        2504., 2524., 2534., 2548., 2472., 2551., 2525., 2552., 2498.,\n",
       "        2503., 2480., 2558., 2512., 2515., 2516., 2516., 2504., 2506.,\n",
       "        2463., 2530., 2532., 2535., 2549., 2487., 2535., 2513., 2479.,\n",
       "        2457., 2571., 2544., 2530., 2508., 2505., 2473., 2527., 2494.,\n",
       "        2535., 2510., 2531., 2556., 2472., 2515., 2515., 2482., 2544.,\n",
       "        2518., 2469., 2465., 2546., 2523., 2498., 2499., 2500., 2518.,\n",
       "        2483., 2521., 2526., 2493., 2528., 2499., 2507., 2518., 2509.,\n",
       "        2521., 2474., 2471., 2479., 2486., 2546., 2510., 2518., 2559.,\n",
       "        2559., 2554., 2460., 2501., 2597., 2518., 2531., 2554., 2496.,\n",
       "        2526., 2513., 2558., 2531., 2551., 2484., 2458., 2535., 2508.,\n",
       "        2523., 2510., 2504., 2506., 2548., 2466., 2530., 2533., 2487.,\n",
       "        2534., 2515., 2501., 2493., 2525., 2465., 2484., 2531., 2485.,\n",
       "        2571., 2522., 2497., 2551., 2555., 2516., 2533., 2503., 2524.,\n",
       "        2531., 2519., 2498., 2482., 2525., 2465., 2602., 2523., 2554.,\n",
       "        2548., 2536., 2546., 2556., 2535., 2445., 2495., 2489., 2524.,\n",
       "        2493., 2598., 2472., 2507., 2491., 2490., 2527., 2485., 2543.,\n",
       "        2522., 2531., 2497., 2554., 2533., 2473., 2488., 2535., 2541.,\n",
       "        2530., 2535., 2573., 2443., 2482., 2521., 2537., 2524., 2487.,\n",
       "        2518., 2544., 2485., 2493., 2491., 2520., 2533., 2510., 2520.,\n",
       "        2500., 2510., 2508., 2492., 2529., 2490., 2477., 2505., 2539.,\n",
       "        2523., 2560., 2500., 2541., 2508., 2471., 2487., 2527., 2524.,\n",
       "        2499., 2509., 2504., 2521., 2472., 2528., 2495., 2455., 2512.,\n",
       "        2529., 2513., 2557., 2484., 2531., 2513., 2464., 2551., 2542.,\n",
       "        2557., 2498., 2451., 2508., 2517., 2496., 2496., 2566., 2499.,\n",
       "        2508., 2532., 2519., 2560., 2534., 2538., 2501., 2532., 2480.,\n",
       "        2573., 2533., 2514., 2516., 2525., 2559., 2566., 2554., 2490.,\n",
       "        2494., 2542., 2509., 2464., 2533., 2543., 2505., 2519., 2466.,\n",
       "        2546., 2546., 2504., 2550., 2498., 2550., 2501., 2524., 2487.,\n",
       "        2486., 2533., 2520., 2517., 2561., 2475., 2547., 2539., 2504.,\n",
       "        2561., 2500., 2522., 2512., 2548., 2521., 2577., 2489., 2534.,\n",
       "        2480., 2546., 2517., 2569., 2525., 2501., 2518., 2521., 2510.,\n",
       "        2524., 2506., 2528., 2478., 2488., 2516., 2534., 2534., 2547.,\n",
       "        2514., 2533., 2452., 2491., 2545., 2516., 2524., 2528., 2573.,\n",
       "        2569., 2493., 2509., 2591., 2517., 2512., 2473., 2512., 2492.,\n",
       "        2562., 2498., 2523., 2534., 2479., 2508., 2531., 2544., 2496.,\n",
       "        2544., 2539., 2491., 2522., 2582., 2533., 2529., 2525., 2494.,\n",
       "        2500., 2502., 2495., 2528., 2516., 2509., 2476., 2474., 2563.,\n",
       "        2520., 2566., 2489., 2515., 2486., 2477., 2506., 2550., 2608.,\n",
       "        2513., 2528., 2527., 2535., 2508., 2502., 2502., 2490., 2533.,\n",
       "        2574., 2584., 2520., 2550., 2559., 2527., 2512., 2559., 2573.,\n",
       "        2549., 2523., 2560., 2515., 2551., 2530., 2496., 2500., 2525.,\n",
       "        2498., 2483., 2525., 2546., 2503., 2544., 2538., 2556., 2550.,\n",
       "        2502., 2474., 2530., 2490., 2471., 2544., 2530., 2527., 2514.,\n",
       "        2525., 2492., 2537., 2507., 2527., 2487., 2523., 2518., 2502.,\n",
       "        2532., 2492., 2503., 2543., 2471., 2553., 2490., 2529., 2520.,\n",
       "        2548., 2482., 2503., 2472., 2469., 2505., 2523., 2552., 2485.,\n",
       "        2539., 2546., 2451., 2513., 2549., 2488., 2508., 2585., 2523.,\n",
       "        2531., 2486., 2482., 2497., 2487., 2525., 2510., 2510., 2559.,\n",
       "        2496., 2552., 2510., 2491., 2531., 2506., 2492., 2520., 2543.,\n",
       "        2583., 2516., 2560., 2548., 2555., 2544., 2509., 2529., 2486.,\n",
       "        2572., 2559., 2558., 2591., 2496., 2532., 2502., 2600., 2533.,\n",
       "        2500., 2544., 2540., 2461., 2503., 2536., 2510., 2562., 2516.,\n",
       "        2494., 2488., 2568., 2527., 2528., 2552., 2563., 2528., 2532.,\n",
       "        2476., 2511., 2602., 2522., 2551., 2556., 2564., 2496., 2472.,\n",
       "        2490., 2515., 2590., 2498., 2523., 2518., 2522., 2500., 2520.,\n",
       "        2558., 2499., 2538., 2485., 2495., 2531., 2522., 2545., 2503.,\n",
       "        2529., 2529., 2515., 2517., 2582., 2486., 2537., 2563., 2482.,\n",
       "        2480., 2498., 2522., 2504., 2573., 2472., 2476., 2516., 2521.,\n",
       "        2496., 2575., 2514., 2493., 2589., 2570., 2549., 2431., 2555.,\n",
       "        2519., 2507., 2528., 2529., 2542., 2527., 2553., 2488., 2513.,\n",
       "        2446., 2530., 2519., 2530., 2493., 2516., 2529., 2555., 2504.,\n",
       "        2582., 2480., 2504., 2525., 2518., 2540., 2540., 2522., 2486.,\n",
       "        2518., 2525., 2477., 2555., 2517., 2485., 2447., 2542., 2536.,\n",
       "        2497., 2545., 2537., 2505., 2501., 2520., 2493., 2478., 2524.,\n",
       "        2499., 2514., 2475., 2552., 2506., 2530., 2519., 2533., 2518.,\n",
       "        2494., 2466., 2533., 2511., 2514., 2465., 2581., 2449., 2478.,\n",
       "        2542., 2503., 2489., 2547., 2542., 2465., 2552., 2533., 2554.,\n",
       "        2476., 2496., 2573., 2566., 2525., 2516., 2467., 2490., 2495.,\n",
       "        2523., 2516., 2587., 2526., 2480., 2534., 2490., 2521., 2471.,\n",
       "        2485., 2536., 2499., 2484., 2567., 2532., 2531., 2518., 2512.,\n",
       "        2486., 2534., 2516., 2521., 2548., 2498., 2513., 2491., 2552.,\n",
       "        2561., 2529., 2543., 2510., 2494., 2549., 2509., 2560., 2512.,\n",
       "        2515., 2474., 2552., 2585., 2479., 2501., 2534., 2544., 2483.,\n",
       "        2510., 2527., 2507., 2521., 2537., 2495., 2550., 2535., 2485.,\n",
       "        2560., 2505., 2547., 2473., 2552., 2510., 2555., 2483., 2598.,\n",
       "        2510., 2542., 2522., 2484., 2555., 2472., 2478., 2543., 2525.,\n",
       "        2486., 2545., 2537., 2510., 2471., 2496., 2508., 2509., 2508.,\n",
       "        2509., 2572., 2484., 2461., 2464., 2526., 2474., 2534., 2435.,\n",
       "        2522., 2524., 2505., 2561., 2492., 2456., 2491., 2496., 2470.,\n",
       "        2555., 2479., 2516., 2489., 2562., 2560., 2568., 2524., 2551.,\n",
       "        2539., 2500., 2536., 2519., 2554., 2545., 2471., 2569., 2499.,\n",
       "        2499., 2515., 2526., 2542., 2578., 2547., 2485., 2504., 2538.,\n",
       "        2498., 2536., 2530., 2477., 2548., 2509., 2543., 2496., 2516.,\n",
       "        2479., 2507., 2567., 2518., 2526., 2514., 2482., 2474., 2466.,\n",
       "        2511., 2486., 2515., 2487., 2499., 2499., 2516., 2472., 2548.,\n",
       "        2526., 2490., 2520., 2535., 2480., 2517., 2501., 2542., 2544.,\n",
       "        2548., 2532., 2555., 2503., 2563., 2498., 2505., 2497., 2497.,\n",
       "        2516., 2524., 2532., 2501., 2497., 2518., 2611., 2492., 2585.,\n",
       "        2494., 2496., 2554., 2517., 2512., 2516., 2475., 2477., 2560.,\n",
       "        2511., 2513., 2531., 2480., 2543., 2507., 2546., 2498., 2519.,\n",
       "        2480., 2458., 2510., 2493., 2514., 2480., 2511., 2492., 2554.,\n",
       "        2516., 2532., 2543., 2527., 2513., 2561., 2568., 2496., 2507.,\n",
       "        2526., 2557., 2520., 2476., 2454., 2579., 2571., 2560., 2511.,\n",
       "        2545., 2564., 2567., 2542., 2524., 2502., 2560., 2572., 2503.,\n",
       "        2508., 2566., 2529., 2480., 2485., 2512., 2443., 2438., 2536.,\n",
       "        2552., 2514., 2472., 2525., 2461., 2522., 2510., 2524., 2526.,\n",
       "        2552., 2485., 2540., 2504., 2536., 2504., 2472., 2541., 2519.,\n",
       "        2537., 2495., 2546., 2497., 2533., 2495., 2583., 2521., 2512.,\n",
       "        2490., 2495., 2550., 2493., 2542., 2487., 2563., 2507., 2534.,\n",
       "        2518., 2535., 2530., 2539., 2505., 2510., 2492., 2478., 2527.,\n",
       "        2537.]))"
      ]
     },
     "execution_count": 40,
     "metadata": {},
     "output_type": "execute_result"
    }
   ],
   "source": [
    "first_sem = 1\n",
    "last_sem = 6\n",
    "thetas = np.linspace(0,1,101)\n",
    "thetas = np.array([x/32 for x in range(0,33)])\n",
    "M = 1000\n",
    "disp_every = 0.2\n",
    "generate_true_densities = True\n",
    "saved = False\n",
    "\n",
    "now = datetime.now()\n",
    "current_time = now.strftime(\"%H:%M:%S\")\n",
    "print(current_time, \". Started analysis\")\n",
    "\n",
    "triads_all = [get_triads(data[semm]) for semm in range(1,last_sem+1)]\n",
    "triads_len = [len(x) for x in triads_all]\n",
    "triads_all_num = np.sum(triads_len)\n",
    "\n",
    "agents_len = [len(ord_attributes[semm]) for semm in range(1,last_sem+1)]\n",
    "\n",
    "bal_dens = np.zeros(len(thetas))\n",
    "\n",
    "bal_dens_rands_sum = np.zeros(M)\n",
    "# attr_rands_M = [randomize_attribute_sets(ord_attributes) for i in range(0,M)] \n",
    "\n",
    "rhos = np.zeros([last_sem - first_sem + 1, len(thetas)])\n",
    "\n",
    "if generate_true_densities:\n",
    "    for semm in range(first_sem, last_sem+1):\n",
    "        triads = triads_all[semm-1]\n",
    "\n",
    "        for i, theta in enumerate(thetas):\n",
    "            polarities = calc_link_polarities2(ord_attributes[semm], theta, 2)\n",
    "            bal_dens[i] = bal_dens[i] + balanced_triad_density_network(polarities, triads) * triads_len[semm - 1]\n",
    "\n",
    "            N = polarities.shape[0]\n",
    "            rhos[semm-1, i] = np.sum(polarities == 1)/2 / N/(N-1)*2\n",
    "    \n",
    "    now = datetime.now()\n",
    "    current_time = now.strftime(\"%H:%M:%S\")\n",
    "    print(current_time, \". Finished calculating real-world balanced densities. \")\n",
    "\n",
    "bal_dens_rands = np.zeros([M, len(thetas)])\n",
    "\n",
    "disp_every_printer = disp_every\n",
    "for j in range(0,M):  \n",
    "    for semm in range(first_sem, last_sem+1):\n",
    "        triads = triads_all[semm-1]\n",
    "        N = agents_len[semm-1]\n",
    "        for i, theta in enumerate(thetas):    \n",
    "            polarities_rand = distribute_random_polarities(N, rhos[semm - 1, i])\n",
    "            bal_dens_rands[j][i] = bal_dens_rands[j][i] + balanced_triad_density_network(polarities_rand, triads) * triads_len[semm - 1]\n",
    "\n",
    "    bal_dens_rands_sum[j] = np.sum(bal_dens_rands[j])\n",
    "    \n",
    "    if (j+1) / M >= disp_every_printer:\n",
    "        now = datetime.now()\n",
    "\n",
    "        current_time = now.strftime(\"%H:%M:%S\")\n",
    "        print(current_time, \". Finished \", str(int((j+1)/M*100)), \"% of randomized calculations.\")\n",
    "        disp_every_printer += disp_every\n",
    "\n",
    "now = datetime.now()\n",
    "\n",
    "current_time = now.strftime(\"%H:%M:%S\")\n",
    "print(current_time, \". Finished.\")\n",
    "\n",
    "bal_dens_sum = np.sum(bal_dens)\n",
    "\n",
    "bal_dens = bal_dens / triads_all_num\n",
    "bal_dens_rands = bal_dens_rands / triads_all_num\n",
    "\n",
    "test_E8_all_agents_terms_together_thetas = thetas\n",
    "test_E8_all_agents_terms_together_bal_dens = bal_dens\n",
    "test_E8_all_agents_terms_together_bal_dens_rands = bal_dens_rands\n",
    "\n",
    "bal_dens_sum, bal_dens_rands_sum"
   ]
  },
  {
   "cell_type": "code",
   "execution_count": null,
   "id": "overhead-survival",
   "metadata": {},
   "outputs": [],
   "source": [
    "#open, add and save\n",
    "if not saved:\n",
    "    with open('e8_rand_results.pkl', 'rb') as file:\n",
    "\n",
    "        # Call load method to deserialze\n",
    "        old_data = pickle.load(file)\n",
    "\n",
    "\n",
    "\n",
    "    test_E8_all_agents_terms_together_bal_dens_rands = np.concatenate((old_data[2], test_E8_all_agents_terms_together_bal_dens_rands))\n",
    "\n",
    "    with open('e8_rand_results.pkl', 'wb') as file:\n",
    "\n",
    "        # A new file will be created\n",
    "        pickle.dump((old_data[0], old_data[1], test_E8_all_agents_terms_together_bal_dens_rands), file) \n",
    "    saved = True"
   ]
  },
  {
   "cell_type": "code",
   "execution_count": 50,
   "id": "improved-anaheim",
   "metadata": {},
   "outputs": [],
   "source": [
    "# #save, commented out not accidentally do it\n",
    "# with open('e8_rand_results.pkl', 'wb') as file:\n",
    "      \n",
    "#     # A new file will be created\n",
    "#     pickle.dump((test_E8_all_agents_terms_together_thetas, test_E8_all_agents_terms_together_bal_dens, test_E8_all_agents_terms_together_bal_dens_rands), file)"
   ]
  },
  {
   "cell_type": "code",
   "execution_count": 2,
   "id": "functional-packing",
   "metadata": {},
   "outputs": [
    {
     "name": "stdout",
     "output_type": "stream",
     "text": [
      "(array([0.     , 0.03125, 0.0625 , 0.09375, 0.125  , 0.15625, 0.1875 ,\n",
      "       0.21875, 0.25   , 0.28125, 0.3125 , 0.34375, 0.375  , 0.40625,\n",
      "       0.4375 , 0.46875, 0.5    , 0.53125, 0.5625 , 0.59375, 0.625  ,\n",
      "       0.65625, 0.6875 , 0.71875, 0.75   , 0.78125, 0.8125 , 0.84375,\n",
      "       0.875  , 0.90625, 0.9375 , 0.96875, 1.     ]), array([0.05072464, 0.05072464, 0.10144928, 0.10144928, 0.22463768,\n",
      "       0.22463768, 0.43478261, 0.43478261, 0.57246377, 0.57246377,\n",
      "       0.66666667, 0.66666667, 0.73188406, 0.73188406, 0.74637681,\n",
      "       0.74637681, 0.74637681, 0.74637681, 0.74637681, 0.74637681,\n",
      "       0.76811594, 0.76811594, 0.84057971, 0.84057971, 0.94202899,\n",
      "       0.94202899, 0.97101449, 0.97101449, 0.99275362, 0.99275362,\n",
      "       1.        , 1.        , 1.        ]), array([[0.05797101, 0.04347826, 0.06521739, ..., 1.        , 1.        ,\n",
      "        1.        ],\n",
      "       [0.        , 0.02898551, 0.00724638, ..., 1.        , 0.98550725,\n",
      "        1.        ],\n",
      "       [0.        , 0.00724638, 0.05797101, ..., 1.        , 1.        ,\n",
      "        1.        ],\n",
      "       ...,\n",
      "       [0.01449275, 0.01449275, 0.08695652, ..., 1.        , 1.        ,\n",
      "        1.        ],\n",
      "       [0.02173913, 0.02173913, 0.03623188, ..., 0.98550725, 1.        ,\n",
      "        1.        ],\n",
      "       [0.01449275, 0.        , 0.06521739, ..., 1.        , 1.        ,\n",
      "        1.        ]]))\n"
     ]
    }
   ],
   "source": [
    "#open\n",
    "with open('e8_rand_results.pkl', 'rb') as file:\n",
    "      \n",
    "    # Call load method to deserialze\n",
    "    myvar = pickle.load(file)\n",
    "  \n",
    "    print(myvar)\n",
    "test_E8_all_agents_terms_together_thetas, test_E8_all_agents_terms_together_bal_dens, test_E8_all_agents_terms_together_bal_dens_rands = myvar\n",
    "\n",
    "bal_dens_sum = np.sum(test_E8_all_agents_terms_together_bal_dens)\n",
    "bal_dens_rands_sum = np.array([np.sum(test_E8_all_agents_terms_together_bal_dens_rands[j]) for j in range(0,len(test_E8_all_agents_terms_together_bal_dens_rands))])"
   ]
  },
  {
   "cell_type": "code",
   "execution_count": 14,
   "id": "genetic-diary",
   "metadata": {},
   "outputs": [
    {
     "data": {
      "text/plain": [
       "(1000, 1000)"
      ]
     },
     "execution_count": 14,
     "metadata": {},
     "output_type": "execute_result"
    }
   ],
   "source": [
    "np.sum(bal_dens_sum > bal_dens_rands_sum ), np.sum(bal_dens_sum >= bal_dens_rands_sum)"
   ]
  },
  {
   "cell_type": "code",
   "execution_count": 15,
   "id": "crucial-screw",
   "metadata": {},
   "outputs": [
    {
     "data": {
      "text/plain": [
       "Text(0, 0.5, 'density of balanced triads')"
      ]
     },
     "execution_count": 15,
     "metadata": {},
     "output_type": "execute_result"
    },
    {
     "data": {
      "image/png": "[encoded data removed]",
      "text/plain": [
       "<Figure size 432x288 with 1 Axes>"
      ]
     },
     "metadata": {
      "needs_background": "light"
     },
     "output_type": "display_data"
    }
   ],
   "source": [
    "mean_vals = np.mean(np.array(test_E8_all_agents_terms_together_bal_dens_rands).T,1)\n",
    "std_vals = np.std(np.array(test_E8_all_agents_terms_together_bal_dens_rands).T,1)\n",
    "\n",
    "plt.plot(test_E8_all_agents_terms_together_thetas, test_E8_all_agents_terms_together_bal_dens, 'k.')\n",
    "\n",
    "plt.fill_between(test_E8_all_agents_terms_together_thetas, mean_vals-std_vals, mean_vals+std_vals)\n",
    "plt.legend([\"network\", \"mean\"])\n",
    "plt.title(\"Model E8. Comparing data and randomized networks in all terms together.\")\n",
    "plt.xlabel(\"theta\")\n",
    "plt.ylabel(\"density of balanced triads\")"
   ]
  },
  {
   "cell_type": "code",
   "execution_count": 16,
   "id": "meaning-venice",
   "metadata": {},
   "outputs": [
    {
     "data": {
      "text/plain": [
       "Text(0, 0.5, 'p_D-p_M')"
      ]
     },
     "execution_count": 16,
     "metadata": {},
     "output_type": "execute_result"
    },
    {
     "data": {
      "image/png": "[encoded data removed]",
      "text/plain": [
       "<Figure size 432x288 with 1 Axes>"
      ]
     },
     "metadata": {
      "needs_background": "light"
     },
     "output_type": "display_data"
    }
   ],
   "source": [
    "mean_vals = np.mean(np.array(test_E8_all_agents_terms_together_bal_dens_rands).T,1)\n",
    "std_vals = np.std(np.array(test_E8_all_agents_terms_together_bal_dens_rands).T,1)\n",
    "\n",
    "distances = np.array([x/16 for x in range(0,17)])\n",
    "pds = np.array([test_E8_all_agents_terms_together_bal_dens[np.where(test_E8_all_agents_terms_together_thetas >= distances[i])[0][0]] for i in range(0, len(distances) - 1)])\n",
    "pms = np.array([mean_vals[np.where(test_E8_all_agents_terms_together_thetas >= distances[i])[0][0]] for i in range(0, len(distances) - 1)])\n",
    "stds = np.array([std_vals[np.where(test_E8_all_agents_terms_together_thetas >= distances[i])[0][0]] for i in range(0, len(distances) - 1)]) \n",
    "\n",
    "plt.errorbar(pds, pds - pms, yerr = stds, fmt = 'k.')\n",
    "\n",
    "# plt.fill_between(test_triads_A8_thetas, mean_vals-std_vals, mean_vals+std_vals)\n",
    "# plt.legend([\"network\", \"mean\"])\n",
    "plt.title(\"Model E8. Comparing data and randomized networks in all terms together.\")\n",
    "plt.xlabel(\"p_D\")\n",
    "plt.ylabel(\"p_D-p_M\")"
   ]
  },
  {
   "cell_type": "code",
   "execution_count": 56,
   "id": "minimal-shopping",
   "metadata": {},
   "outputs": [],
   "source": [
    "SMALL_SIZE = 12\n",
    "MEDIUM_SIZE = 15\n",
    "BIGGER_SIZE = 20\n",
    "\n",
    "plt.rc('font', size=BIGGER_SIZE)          # controls default text sizes\n",
    "plt.rc('axes', titlesize=BIGGER_SIZE)     # fontsize of the axes title\n",
    "plt.rc('axes', labelsize=BIGGER_SIZE)    # fontsize of the x and y labels\n",
    "plt.rc('xtick', labelsize=BIGGER_SIZE)    # fontsize of the tick labels\n",
    "plt.rc('ytick', labelsize=BIGGER_SIZE)    # fontsize of the tick labels\n",
    "plt.rc('legend', fontsize=BIGGER_SIZE)    # legend fontsize\n",
    "plt.rc('figure', titlesize=BIGGER_SIZE)  # fontsize of the figure title"
   ]
  },
  {
   "cell_type": "code",
   "execution_count": 20,
   "id": "mathematical-namibia",
   "metadata": {},
   "outputs": [
    {
     "data": {
      "image/png": "[encoded data removed]",
      "text/plain": [
       "<Figure size 432x360 with 1 Axes>"
      ]
     },
     "metadata": {
      "needs_background": "light"
     },
     "output_type": "display_data"
    }
   ],
   "source": [
    "fig, ax = plt.subplots()\n",
    "\n",
    "\n",
    "chosen_dists = [i/8 for i in range(0,8)]\n",
    "chosen_dists = [i/16 for i in range(0,16)]\n",
    "\n",
    "anno_dists = [0, 0.125, 3/16, 4/16, 5/16, 6/16, 0.5, 9/16, 10/16, 11/16, 12/16, 13/16, 14/16]\n",
    "\n",
    "\n",
    "for i, dist in enumerate(distances):\n",
    "    if dist not in chosen_dists:\n",
    "        continue\n",
    "    dif = pds[i] - pms[i]\n",
    "    ax.plot(pds[i], dif, color='blue', marker='o', linestyle='', markersize=10, label=str(dist))\n",
    "    plt.errorbar(x=pds[i], y=dif,yerr=stds[i],  color='blue', marker='o', markersize=10, label=str(dist))\n",
    "    if dist == 0.75:\n",
    "        xy = (pds[i] + 0.02, dif-0.01)\n",
    "    elif dist in [7/8]:\n",
    "        xy = (pds[i]-0.00, dif + 0.0)\n",
    "    elif dist in [6/16]:\n",
    "        xy = (pds[i] + 0.01, dif + 0.02)\n",
    "    elif dist in [8/16]:\n",
    "        xy = (pds[i] + 0.01, dif - 0.02)\n",
    "    elif dist in [1/16, 3/16]:\n",
    "        xy = (pds[i]-0.11, dif + 0.01)\n",
    "    elif dist in [11/16]:\n",
    "        xy = (pds[i]-0.06, dif + 0.01)\n",
    "    elif dist in [5/16]:\n",
    "        xy = (pds[i]-0.15, dif + 0.01)\n",
    "    elif dist in [0, 0.25]:\n",
    "        xy = (pds[i]-0.07, dif - 0.03)\n",
    "    elif dist in [0.625]:\n",
    "        xy = (pds[i]-0.15, dif - 0.03)\n",
    "#     elif dist == 0:\n",
    "#         xy = (pds[i]-0.07, dif - 0.03)\n",
    "    else:\n",
    "        xy = (pds[i], dif)\n",
    "    if dist in anno_dists:\n",
    "        ax.annotate(str(dist),xy=xy)\n",
    "    #, xytext=(-40,-10), textcoords='offset points')\n",
    "\n",
    "#plt.rcParams.update({'font.size': 40})\n",
    "plt.title('(d) Model E8')\n",
    "fig.set_size_inches(6, 5)\n",
    "plt.rcParams.update({'font.size': 15})\n",
    "plt.plot((0,1),(0,0), color='black')\n",
    "\n",
    "\n",
    "plt.savefig(\"modelE8v2.pdf\",dpi=600,bbox_inches='tight',format='pdf')\n",
    "\n",
    "with open(f'E8.pkl','wb') as fid:\n",
    "    pickle.dump(fig, fid)"
   ]
  },
  {
   "cell_type": "code",
   "execution_count": 171,
   "id": "sunset-louisiana",
   "metadata": {},
   "outputs": [
    {
     "data": {
      "text/plain": [
       "array([-0.70371429, -0.37407143, -0.22835484, -0.31975   , -0.27164557,\n",
       "       -0.27873913, -0.31528713, -0.3271068 , -0.30791262, -0.24314563,\n",
       "       -0.17417925, -0.13047414, -0.11579231, -0.0513806 , -0.0099927 ,\n",
       "       -0.00468116])"
      ]
     },
     "execution_count": 171,
     "metadata": {},
     "output_type": "execute_result"
    }
   ],
   "source": [
    "(pms - pds) / pds"
   ]
  },
  {
   "cell_type": "code",
   "execution_count": 55,
   "id": "progressive-grade",
   "metadata": {},
   "outputs": [
    {
     "data": {
      "text/plain": [
       "Text(0, 0.5, 'density of balanced triads in all sems')"
      ]
     },
     "execution_count": 55,
     "metadata": {},
     "output_type": "execute_result"
    },
    {
     "data": {
      "image/png": "[encoded data removed]",
      "text/plain": [
       "<Figure size 432x288 with 1 Axes>"
      ]
     },
     "metadata": {
      "needs_background": "light"
     },
     "output_type": "display_data"
    }
   ],
   "source": [
    "handles_rand = plt.plot(test_E8_all_agents_terms_together_thetas, np.array(test_E8_all_agents_terms_together_bal_dens_rands).T, 'b')\n",
    "handles_net, = plt.plot(test_E8_all_agents_terms_together_thetas, test_E8_all_agents_terms_together_bal_dens, 'k')\n",
    "# plt.legend([\"network\", \"random\"], handles = [handles_net, handles_rand[0]])\n",
    "plt.legend([handles_net, handles_rand[0]], [\"network\", \"random\"])\n",
    "plt.title(\"Model E8. Comparing data and randomized networks in all terms together.\")\n",
    "plt.xlabel(\"theta\")\n",
    "plt.ylabel(\"density of balanced triads in all sems\")"
   ]
  },
  {
   "cell_type": "code",
   "execution_count": null,
   "id": "enabling-program",
   "metadata": {},
   "outputs": [],
   "source": []
  },
  {
   "cell_type": "code",
   "execution_count": 103,
   "id": "crucial-cameroon",
   "metadata": {},
   "outputs": [
    {
     "data": {
      "text/plain": [
       "array([ 14.,  16.,  78., 101.,  97., 103.,   1.,   1.,   0.,   0.,   0.,\n",
       "         0.,   0.,   0.,   0.,   0.,   0.,   0.,   0.,   0.,   3.,   0.,\n",
       "         9.,   6.,   0.,   1.,  24.,  24., 210., 190.,   0.,   0.,   0.])"
      ]
     },
     "execution_count": 103,
     "metadata": {},
     "output_type": "execute_result"
    }
   ],
   "source": [
    "pvals_T = np.zeros(len(thetas))\n",
    "\n",
    "for i, theta in enumerate(thetas):    \n",
    "    pvals_T[i] = np.sum(bal_dens_rands[:,i] > bal_dens[i])\n",
    "\n",
    "pvals_T"
   ]
  },
  {
   "cell_type": "code",
   "execution_count": 9,
   "id": "detected-functionality",
   "metadata": {},
   "outputs": [
    {
     "data": {
      "text/plain": [
       "array([  37.,  121.,  122.,    1.,    0.,    0.,    0.,    0.,    0.,\n",
       "          0.,    5.,   10.,    0.,   51.,  418.,  635., 1000.])"
      ]
     },
     "execution_count": 9,
     "metadata": {},
     "output_type": "execute_result"
    }
   ],
   "source": [
    "thetas = test_E8_all_agents_terms_together_thetas\n",
    "bal_dens = test_E8_all_agents_terms_together_bal_dens\n",
    "bal_dens_rands = test_E8_all_agents_terms_together_bal_dens_rands\n",
    "pvals_T = np.zeros(len(thetas))\n",
    "\n",
    "for i, theta in enumerate(thetas):    \n",
    "    pvals_T[i] = np.sum(bal_dens_rands[:,i] >= bal_dens[i])\n",
    "\n",
    "pvals_T[::2]"
   ]
  },
  {
   "cell_type": "code",
   "execution_count": 7,
   "id": "dd66a882",
   "metadata": {},
   "outputs": [
    {
     "data": {
      "text/plain": [
       "array([0.    , 0.0625, 0.125 , 0.1875, 0.25  , 0.3125, 0.375 , 0.4375,\n",
       "       0.5   , 0.5625, 0.625 , 0.6875, 0.75  , 0.8125, 0.875 , 0.9375,\n",
       "       1.    ])"
      ]
     },
     "execution_count": 7,
     "metadata": {},
     "output_type": "execute_result"
    }
   ],
   "source": [
    "thetas[::2]"
   ]
  },
  {
   "cell_type": "code",
   "execution_count": 67,
   "id": "fixed-platform",
   "metadata": {},
   "outputs": [
    {
     "data": {
      "text/plain": [
       "[(0.0, 39.0),\n",
       " (0.01, 28.0),\n",
       " (0.02, 35.0),\n",
       " (0.03, 33.0),\n",
       " (0.04, 23.0),\n",
       " (0.05, 30.0),\n",
       " (0.06, 31.0),\n",
       " (0.19, 3.0),\n",
       " (0.2, 5.0),\n",
       " (0.21, 3.0),\n",
       " (0.22, 1.0),\n",
       " (0.23, 2.0),\n",
       " (0.24, 2.0),\n",
       " (0.25, 0.0),\n",
       " (0.26, 0.0),\n",
       " (0.27, 1.0),\n",
       " (0.28, 0.0),\n",
       " (0.29, 0.0),\n",
       " (0.3, 0.0),\n",
       " (0.31, 0.0),\n",
       " (0.32, 0.0),\n",
       " (0.33, 0.0),\n",
       " (0.34, 0.0),\n",
       " (0.35000000000000003, 0.0),\n",
       " (0.36, 0.0),\n",
       " (0.37, 0.0),\n",
       " (0.38, 0.0),\n",
       " (0.39, 0.0),\n",
       " (0.4, 0.0),\n",
       " (0.41000000000000003, 0.0),\n",
       " (0.42, 0.0),\n",
       " (0.43, 0.0),\n",
       " (0.44, 0.0),\n",
       " (0.45, 0.0),\n",
       " (0.46, 0.0),\n",
       " (0.47000000000000003, 0.0),\n",
       " (0.48, 0.0),\n",
       " (0.49, 0.0),\n",
       " (0.5, 0.0),\n",
       " (0.51, 0.0),\n",
       " (0.52, 0.0),\n",
       " (0.53, 0.0),\n",
       " (0.54, 0.0),\n",
       " (0.55, 0.0),\n",
       " (0.56, 0.0),\n",
       " (0.5700000000000001, 0.0),\n",
       " (0.58, 0.0),\n",
       " (0.59, 0.0),\n",
       " (0.6, 0.0),\n",
       " (0.61, 0.0),\n",
       " (0.62, 0.0),\n",
       " (0.63, 2.0),\n",
       " (0.64, 2.0),\n",
       " (0.65, 2.0),\n",
       " (0.66, 3.0),\n",
       " (0.67, 3.0),\n",
       " (0.68, 1.0),\n",
       " (0.6900000000000001, 9.0),\n",
       " (0.7000000000000001, 9.0),\n",
       " (0.71, 8.0),\n",
       " (0.72, 3.0),\n",
       " (0.73, 9.0),\n",
       " (0.74, 5.0),\n",
       " (0.75, 2.0),\n",
       " (0.76, 2.0),\n",
       " (0.77, 3.0),\n",
       " (0.78, 1.0),\n",
       " (0.79, 5.0),\n",
       " (0.8, 0.0),\n",
       " (0.81, 2.0),\n",
       " (0.85, 34.0)]"
      ]
     },
     "execution_count": 67,
     "metadata": {},
     "output_type": "execute_result"
    }
   ],
   "source": [
    "[(theta, pval) for theta, pval in zip(thetas, pvals_T) if pval < 50]"
   ]
  },
  {
   "cell_type": "code",
   "execution_count": 47,
   "id": "stopped-tactics",
   "metadata": {},
   "outputs": [
    {
     "data": {
      "text/plain": [
       "(6350.0,\n",
       " array([5156., 5062., 5083., 5065., 5149., 5086., 5096., 5158., 5148.,\n",
       "        5119., 5048., 5069., 5129., 5070., 5136., 5052., 5143., 5099.,\n",
       "        5030., 5204., 5212., 5075., 5113., 5105., 5123., 5082., 5122.,\n",
       "        5141., 5092., 5101., 5140., 5128., 5106., 5088., 5123., 5210.,\n",
       "        5036., 5136., 5087., 5158., 5110., 5141., 5177., 5067., 5088.,\n",
       "        5131., 5144., 5012., 5067., 5130., 5165., 5181., 5106., 5102.,\n",
       "        5076., 5089., 5165., 5066., 5120., 5116., 5159., 5111., 5145.,\n",
       "        5136., 5123., 5107., 5124., 5142., 5088., 5176., 5092., 5097.,\n",
       "        5101., 5078., 5121., 5173., 5089., 5135., 5083., 5151., 5095.,\n",
       "        5079., 5090., 5070., 5193., 5143., 5182., 5084., 5071., 5106.,\n",
       "        5148., 5146., 5149., 5137., 5047., 5127., 5175., 5167., 5135.,\n",
       "        5130., 5168., 5038., 5172., 5134., 5171., 5017., 5142., 5118.,\n",
       "        5108., 5206., 5189., 5154., 5134., 5161., 5157., 5170., 5048.,\n",
       "        5085., 5149., 5098., 5152., 5075., 5076., 5122., 5134., 5058.,\n",
       "        5151., 5102., 5106., 5093., 5172., 5044., 5153., 5150., 5180.,\n",
       "        5124., 5101., 5143., 5118., 5072., 5104., 5110., 5124., 5105.,\n",
       "        5091., 5159., 5086., 5188., 5142., 5182., 5155., 5110., 5156.,\n",
       "        5055., 5080., 5090., 5147., 5122., 5105., 5148., 5135., 5146.,\n",
       "        5068., 5157., 5125., 5098., 5102., 5138., 5060., 5068., 5140.,\n",
       "        5104., 5101., 5190., 5114., 5137., 5208., 5113., 5057., 5148.,\n",
       "        5186., 5146., 5130., 5091., 5070., 5020., 5113., 5099., 5168.,\n",
       "        5144., 5121., 5088., 5129., 5109., 5211., 5086., 5149., 5156.,\n",
       "        5157., 5123., 5130., 5101., 5109., 5105., 5111., 5172., 5095.,\n",
       "        5139., 5180., 5138., 5109., 5035., 5088., 5026., 5145., 5082.,\n",
       "        5115., 5167., 5161., 5149., 5066., 5106., 5175., 5083., 5139.,\n",
       "        5099., 5064., 5054., 5115., 5147., 5092., 5101., 5041., 5062.,\n",
       "        5107., 5109., 5108., 5119., 5109., 5125., 5085., 5073., 5119.,\n",
       "        5180., 5107., 5126., 5140., 5135., 5194., 5082., 5168., 5175.,\n",
       "        5137., 5164., 5119., 5083., 5105., 5094., 5117., 5104., 5142.,\n",
       "        5167., 5155., 5141., 5088., 5150., 5155., 5107., 5155., 5114.,\n",
       "        5093., 5101., 5105., 5079., 5106., 5038., 5121., 5112., 5092.,\n",
       "        5102., 5166., 5058., 5108., 5127., 5098., 5153., 5101., 5123.,\n",
       "        5104., 5170., 5101., 5153., 5136., 5118., 5124., 5101., 5210.,\n",
       "        5136., 5160., 5102., 5189., 5178., 5121., 5112., 5150., 5137.,\n",
       "        5058., 5170., 5054., 5055., 5137., 5203., 5155., 5060., 5142.,\n",
       "        5108., 5146., 5109., 5175., 5094., 5092., 5109., 5132., 5152.,\n",
       "        5190., 5090., 5172., 5130., 5152., 5079., 5105., 5121., 5011.,\n",
       "        5163., 5085., 5136., 5052., 5060., 5127., 5140., 5131., 5061.,\n",
       "        5103., 5154., 5132., 5123., 5114., 5120., 5194., 5100., 5108.,\n",
       "        5163., 5149., 5144., 5119., 5171., 5089., 5149., 5100., 5147.,\n",
       "        5158., 5103., 5099., 5126., 5098., 5160., 5089., 5175., 5104.,\n",
       "        5131., 5156., 5084., 5186., 5164., 5199., 5038., 5118., 5150.,\n",
       "        5140., 5115., 5174., 5131., 5128., 5086., 5108., 5125., 5086.,\n",
       "        5108., 5126., 5136., 5113., 5098., 5157., 5117., 5127., 5051.,\n",
       "        5157., 5157., 5120., 5081., 5094., 5124., 5136., 5098., 5160.,\n",
       "        5173., 5114., 5072., 5067., 5050., 5117., 5048., 5062., 5056.,\n",
       "        5130., 5072., 5107., 5139., 5065., 5147., 5135., 5089., 5093.,\n",
       "        5063., 5086., 5146., 5155., 5081., 5059., 5157., 5123., 5041.,\n",
       "        5124., 5110., 5163., 5078., 5094., 5091., 5123., 5005., 5135.,\n",
       "        5108., 5129., 5150., 5065., 5067., 5114., 5116., 5133., 5134.,\n",
       "        5109., 5140., 5097., 5082., 5151., 5038., 5130., 5111., 5110.,\n",
       "        5098., 5123., 5146., 5123., 5094., 5113., 5111., 5051., 5101.,\n",
       "        5166., 5091., 5178., 5011., 5099., 5188., 5129., 5098., 5125.,\n",
       "        5138., 5162., 5058., 5170., 5112., 5059., 5059., 5188., 5058.,\n",
       "        5190., 5100., 5179., 5125., 5054., 5144., 4984., 5091., 5158.,\n",
       "        5141., 5120., 5137., 5102., 5168., 5131., 5049., 5109., 5081.,\n",
       "        5115., 5136., 5115., 5121., 5107., 5179., 5119., 5140., 5145.,\n",
       "        5141., 5061., 5154., 5200., 5087., 5042., 5087., 5095., 5114.,\n",
       "        5117., 5117., 5115., 5152., 5107., 5125., 5126., 5141., 5131.,\n",
       "        5105., 5072., 5091., 5142., 5135., 5042., 5153., 5114., 5156.,\n",
       "        5081., 5130., 5064., 5095., 5108., 5145., 5117., 5108., 5068.,\n",
       "        5104., 5129., 5095., 5103., 5126., 5111., 5215., 5133., 5179.,\n",
       "        5117., 5126., 5186., 5178., 5053., 5267., 5066., 5127., 5091.,\n",
       "        5077., 5079., 5141., 5059., 5127., 5078., 5072., 5025., 5139.,\n",
       "        5116., 5188., 5115., 5095., 5059., 5103., 5055., 5143., 5069.,\n",
       "        5084., 5146., 5040., 5105., 5130., 5107., 5110., 5191., 5156.,\n",
       "        5120., 5135., 5043., 5077., 5111., 5095., 5153., 5047., 5098.,\n",
       "        5187., 5083., 5101., 5125., 5114., 5205., 5137., 5151., 5115.,\n",
       "        5097., 5093., 5116., 5130., 5059., 5153., 5168., 5146., 5075.,\n",
       "        5118., 5218., 5125., 5091., 5135., 5133., 5197., 5110., 5110.,\n",
       "        5170., 5131., 5103., 5107., 5104., 5035., 5165., 5082., 5171.,\n",
       "        5067., 5107., 5044., 5131., 5036., 5041., 5090., 5114., 5050.,\n",
       "        5132., 5126., 5091., 5140., 5180., 5128., 5145., 5101., 5106.,\n",
       "        5091., 5150., 5126., 5136., 5058., 5159., 5134., 5127., 5101.,\n",
       "        5085., 5112., 5172., 5095., 5127., 5114., 5124., 5074., 5084.,\n",
       "        5152., 5133., 5105., 5076., 5122., 5161., 5130., 5108., 5097.,\n",
       "        5155., 5151., 5123., 5092., 5098., 5103., 5151., 5131., 5027.,\n",
       "        5116., 5053., 5154., 5126., 5063., 5168., 5209., 5197., 5156.,\n",
       "        5127., 5172., 5128., 5097., 5105., 5225., 5074., 5161., 5081.,\n",
       "        5164., 5055., 5049., 5131., 5144., 5094., 5114., 5170., 5202.,\n",
       "        5127., 5168., 5112., 5101., 5131., 5169., 5187., 5040., 5100.,\n",
       "        5084., 5191., 5166., 5107., 5076., 5118., 5177., 5130., 5166.,\n",
       "        5154., 5040., 5116., 5083., 5181., 5183., 5108., 5086., 5079.,\n",
       "        5147., 5073., 5185., 5075., 5059., 5037., 5180., 5105., 5180.,\n",
       "        5076., 5106., 5084., 5183., 5139., 5091., 5101., 5155., 5087.,\n",
       "        5129., 5225., 5035., 5102., 5120., 5080., 5100., 5100., 5074.,\n",
       "        5102., 5098., 5186., 5112., 5147., 5143., 5112., 5102., 5115.,\n",
       "        5119., 5044., 5098., 5138., 5075., 5128., 5125., 5193., 5140.,\n",
       "        5088., 5122., 5181., 5111., 5120., 5088., 5154., 5038., 5143.,\n",
       "        5134., 5157., 5079., 5135., 5063., 5113., 5125., 5095., 5061.,\n",
       "        5147., 5155., 5139., 5088., 5086., 5160., 5170., 5143., 5175.,\n",
       "        5156., 4991., 5051., 5135., 5111., 5170., 5086., 5087., 5178.,\n",
       "        5140., 5114., 5170., 5118., 5132., 5080., 5088., 5167., 5130.,\n",
       "        5139., 5112., 5172., 5093., 5166., 5056., 5164., 5094., 5106.,\n",
       "        5083., 5181., 5131., 5183., 5124., 5114., 5136., 5102., 5166.,\n",
       "        5202., 5192., 5128., 5170., 5094., 5136., 5141., 5106., 5146.,\n",
       "        5100., 5066., 5197., 5084., 5151., 5122., 5108., 5123., 5098.,\n",
       "        5097., 5108., 5055., 5141., 5112., 5155., 5069., 5155., 5099.,\n",
       "        5143., 5161., 5123., 5172., 5086., 5139., 5101., 5066., 5136.,\n",
       "        5076., 5188., 5120., 5114., 5101., 5153., 5085., 5174., 5144.,\n",
       "        5166., 5064., 5183., 5095., 5108., 5123., 5108., 5224., 5093.,\n",
       "        5122., 5127., 5087., 5148., 5061., 5052., 5073., 5127., 5092.,\n",
       "        5045., 5052., 5165., 5087., 5131., 5105., 5072., 5169., 5109.,\n",
       "        5059., 5056., 5099., 5096., 5071., 5052., 5112., 5190., 5053.,\n",
       "        5103., 5169., 5096., 5176., 5205., 5080., 5143., 5121., 5162.,\n",
       "        5115., 5072., 5158., 5151., 5103., 5090., 5202., 5053., 5156.,\n",
       "        5082., 5102., 5116., 5047., 5152., 5141., 5109., 5122., 5109.,\n",
       "        5216., 5205., 5176., 5118., 5105., 5120., 5104., 5156., 5163.,\n",
       "        5123., 5170., 5115., 5182., 5216., 5044., 5173., 5103., 5165.,\n",
       "        5146., 5135., 5148., 5115., 5091., 5155., 5123., 5120., 5173.,\n",
       "        5084., 5134., 5099., 5142., 5214., 5086., 5124., 5072., 5122.,\n",
       "        5095.]))"
      ]
     },
     "execution_count": 47,
     "metadata": {},
     "output_type": "execute_result"
    }
   ],
   "source": [
    "first_sem = 2\n",
    "last_sem = 6\n",
    "thetas = np.linspace(0,1,101)\n",
    "M = 1000\n",
    "\n",
    "triads_all = [get_triads(data[semm]) for semm in range(1,last_sem+1)]\n",
    "triads_len = [len(x) for x in triads_all]\n",
    "triads_all_num = np.sum(triads_len)\n",
    "\n",
    "agents_len = [len(ord_attributes[semm]) for semm in range(1,last_sem+1)]\n",
    "\n",
    "bal_dens = np.zeros(len(thetas))\n",
    "\n",
    "bal_dens_rands_sum = np.zeros(M)\n",
    "# attr_rands_M = [randomize_attribute_sets(ord_attributes) for i in range(0,M)] \n",
    "\n",
    "rhos = np.zeros([last_sem - first_sem + 1, len(thetas)])\n",
    "\n",
    "for semm in range(first_sem, last_sem+1):\n",
    "    triads = triads_all[semm-1]\n",
    "    \n",
    "    for i, theta in enumerate(thetas):\n",
    "        polarities = calc_link_polarities2(ord_attributes[semm], theta, 2)\n",
    "        bal_dens[i] = bal_dens[i] + balanced_triad_density_network(polarities, triads) * triads_len[semm - 1]\n",
    "        \n",
    "        N = polarities.shape[0]\n",
    "        rhos[semm-first_sem, i] = np.sum(polarities == 1)/2 / N/(N-1)*2\n",
    "\n",
    "bal_dens_rands = np.zeros([M, len(thetas)])\n",
    "for j in range(0,M):  \n",
    "    for semm in range(first_sem, last_sem+1):\n",
    "        triads = triads_all[semm-1]\n",
    "        N = agents_len[semm-1]\n",
    "        for i, theta in enumerate(thetas):    \n",
    "            polarities_rand = distribute_random_polarities(N, rhos[semm - first_sem, i])\n",
    "            bal_dens_rands[j][i] = bal_dens_rands[j][i] + balanced_triad_density_network(polarities_rand, triads) * triads_len[semm - 1]\n",
    "\n",
    "    bal_dens_rands_sum[j] = np.sum(bal_dens_rands[j])\n",
    "    \n",
    "bal_dens_sum = np.sum(bal_dens)\n",
    "\n",
    "bal_dens = bal_dens / triads_all_num\n",
    "bal_dens_rands = bal_dens_rands / triads_all_num\n",
    "\n",
    "test_E8_all_agents_terms_together_thetas2 = thetas\n",
    "test_E8_all_agents_terms_together_bal_dens2 = bal_dens\n",
    "test_E8_all_agents_terms_together_bal_dens_rands2 = bal_dens_rands\n",
    "\n",
    "bal_dens_sum, bal_dens_rands_sum\n",
    "\n",
    "# TODO: do poprawy powyzej. Zrobić, żeby była taka sama randomizacja wszystkich węzłów na raz we wszystkich semestrach. \n",
    "#     Obecnie jest to niezależne. \n"
   ]
  },
  {
   "cell_type": "code",
   "execution_count": 48,
   "id": "compact-movement",
   "metadata": {},
   "outputs": [
    {
     "data": {
      "text/plain": [
       "(1000, 1000)"
      ]
     },
     "execution_count": 48,
     "metadata": {},
     "output_type": "execute_result"
    }
   ],
   "source": [
    "np.sum(bal_dens_sum > bal_dens_rands_sum ), np.sum(bal_dens_sum >= bal_dens_rands_sum)"
   ]
  },
  {
   "cell_type": "code",
   "execution_count": 50,
   "id": "baking-spine",
   "metadata": {},
   "outputs": [
    {
     "data": {
      "text/plain": [
       "Text(0, 0.5, 'density of balanced triads')"
      ]
     },
     "execution_count": 50,
     "metadata": {},
     "output_type": "execute_result"
    },
    {
     "data": {
      "image/png": "[encoded data removed]",
      "text/plain": [
       "<Figure size 432x288 with 1 Axes>"
      ]
     },
     "metadata": {
      "needs_background": "light"
     },
     "output_type": "display_data"
    }
   ],
   "source": [
    "mean_vals = np.mean(np.array(test_E8_all_agents_terms_together_bal_dens_rands2).T,1)\n",
    "std_vals = np.std(np.array(test_E8_all_agents_terms_together_bal_dens_rands2).T,1)\n",
    "\n",
    "plt.plot(test_E8_all_agents_terms_together_thetas2, test_E8_all_agents_terms_together_bal_dens2, 'k.')\n",
    "\n",
    "plt.fill_between(test_E8_all_agents_terms_together_thetas2, mean_vals-std_vals, mean_vals+std_vals)\n",
    "plt.legend([\"network\", \"mean\"])\n",
    "plt.title(\"Model E8. Comparing data and randomized networks in all terms together.\")\n",
    "plt.xlabel(\"theta\")\n",
    "plt.ylabel(\"density of balanced triads\")"
   ]
  },
  {
   "cell_type": "code",
   "execution_count": 128,
   "id": "clean-desert",
   "metadata": {},
   "outputs": [
    {
     "data": {
      "text/plain": [
       "array([  37.,   30.,  121.,  132.,  122.,  124.,    1.,    3.,    0.,\n",
       "          1.,    0.,    0.,    0.,    0.,    0.,    0.,    0.,    0.,\n",
       "          0.,    0.,    5.,    1.,   10.,    8.,    0.,    1.,   51.,\n",
       "         48.,  418.,  407.,  635.,  615., 1000.])"
      ]
     },
     "execution_count": 128,
     "metadata": {},
     "output_type": "execute_result"
    }
   ],
   "source": [
    "pvals_T = np.zeros(len(thetas))\n",
    "\n",
    "for i, theta in enumerate(thetas):    \n",
    "    pvals_T[i] = np.sum(bal_dens_rands[:,i] >= bal_dens[i])\n",
    "\n",
    "pvals_T"
   ]
  },
  {
   "cell_type": "code",
   "execution_count": 129,
   "id": "quiet-fitting",
   "metadata": {},
   "outputs": [
    {
     "data": {
      "text/plain": [
       "[(0.0, 37.0),\n",
       " (0.03125, 30.0),\n",
       " (0.1875, 1.0),\n",
       " (0.21875, 3.0),\n",
       " (0.25, 0.0),\n",
       " (0.28125, 1.0),\n",
       " (0.3125, 0.0),\n",
       " (0.34375, 0.0),\n",
       " (0.375, 0.0),\n",
       " (0.40625, 0.0),\n",
       " (0.4375, 0.0),\n",
       " (0.46875, 0.0),\n",
       " (0.5, 0.0),\n",
       " (0.53125, 0.0),\n",
       " (0.5625, 0.0),\n",
       " (0.59375, 0.0),\n",
       " (0.625, 5.0),\n",
       " (0.65625, 1.0),\n",
       " (0.6875, 10.0),\n",
       " (0.71875, 8.0),\n",
       " (0.75, 0.0),\n",
       " (0.78125, 1.0),\n",
       " (0.84375, 48.0)]"
      ]
     },
     "execution_count": 129,
     "metadata": {},
     "output_type": "execute_result"
    }
   ],
   "source": [
    "[(theta, pval) for theta, pval in zip(thetas, pvals_T) if pval < 50]"
   ]
  },
  {
   "cell_type": "code",
   "execution_count": 134,
   "id": "electric-migration",
   "metadata": {},
   "outputs": [],
   "source": [
    "pvals_T2 = [pvals_T[i] + pvals_T[i+1] for i in range(0, len(thetas)-1, 2)]"
   ]
  },
  {
   "cell_type": "code",
   "execution_count": 160,
   "id": "palestinian-spotlight",
   "metadata": {},
   "outputs": [
    {
     "data": {
      "text/plain": [
       "array([ True,  True,  True,  True,  True,  True,  True,  True,  True,\n",
       "       False, False, False, False, False, False, False])"
      ]
     },
     "execution_count": 160,
     "metadata": {},
     "output_type": "execute_result"
    }
   ],
   "source": [
    "rejected = np.sort(pvals_T2) / pvals_T[-1] / 2 < 0.05/np.array(range(len(pvals_T2), 0, -1))\n",
    "rejected"
   ]
  },
  {
   "cell_type": "code",
   "execution_count": 161,
   "id": "brilliant-point",
   "metadata": {},
   "outputs": [
    {
     "data": {
      "text/plain": [
       "array([ 5,  6,  7,  8,  9,  4, 12,  3, 10, 11,  0, 13,  2,  1, 14, 15])"
      ]
     },
     "execution_count": 161,
     "metadata": {},
     "output_type": "execute_result"
    }
   ],
   "source": [
    "np.argsort(pvals_T2)"
   ]
  },
  {
   "cell_type": "code",
   "execution_count": 163,
   "id": "accessory-importance",
   "metadata": {},
   "outputs": [
    {
     "data": {
      "text/plain": [
       "array([0.1875, 0.25  , 0.3125, 0.375 , 0.4375, 0.5   , 0.5625, 0.625 ,\n",
       "       0.75  ])"
      ]
     },
     "execution_count": 163,
     "metadata": {},
     "output_type": "execute_result"
    }
   ],
   "source": [
    "np.sort(np.array(distances)[np.argsort(pvals_T2)][rejected])"
   ]
  },
  {
   "cell_type": "code",
   "execution_count": 168,
   "id": "connected-saskatchewan",
   "metadata": {},
   "outputs": [
    {
     "data": {
      "text/plain": [
       "[0.0335,\n",
       " 0.1265,\n",
       " 0.123,\n",
       " 0.002,\n",
       " 0.0005,\n",
       " 0.0,\n",
       " 0.0,\n",
       " 0.0,\n",
       " 0.0,\n",
       " 0.0,\n",
       " 0.003,\n",
       " 0.009,\n",
       " 0.0005,\n",
       " 0.0495,\n",
       " 0.4125,\n",
       " 0.625]"
      ]
     },
     "execution_count": 168,
     "metadata": {},
     "output_type": "execute_result"
    }
   ],
   "source": [
    "[pval / 2000 for pval in pvals_T2]"
   ]
  },
  {
   "cell_type": "markdown",
   "id": "conventional-soldier",
   "metadata": {},
   "source": [
    "# Sum of ranks analysis\n",
    "\n",
    "Let's calculate a rank for a given threshold for each series for randomized datasets and let's what is the distribution of these values. Is it normal?\n",
    "\n",
    "What is the prob. that the sum of ranks for RL dataset is larger than for randomized datasets? "
   ]
  },
  {
   "cell_type": "code",
   "execution_count": 106,
   "id": "settled-photograph",
   "metadata": {},
   "outputs": [],
   "source": [
    "def calc_rank(vals, val):\n",
    "    \"\"\"\n",
    "    Includes val in vals array sorts it and calculates rank for the val.\n",
    "    \"\"\"\n",
    "    all_vals = np.append(vals, val)\n",
    "    \n",
    "    all_ranks = stats.rankdata(all_vals)\n",
    "    return all_ranks[-1]\n",
    "\n",
    "def calc_ranks(vals, val = []):\n",
    "    \"\"\"\n",
    "    Calculated ranks and allows to include one more value. \n",
    "    \"\"\"\n",
    "    all_vals = np.append(vals, val)\n",
    "    \n",
    "    all_ranks = stats.rankdata(all_vals)\n",
    "    if np.isscalar(val):\n",
    "        return all_ranks[0:-1], all_ranks[-1]\n",
    "    else:\n",
    "        return all_ranks, []\n",
    "\n",
    "def get_important_theta_values(thetas, bal_dens_rands, bal_dens = [], distances = [i/16 for i in range(0,16)]):\n",
    "    \"\"\"\n",
    "    There are only 16 (17) distinct thetas. So we do not need all the values. \n",
    "    \"\"\"\n",
    "    pds = np.array([bal_dens[np.where(thetas >= distances[i])[0][0]] for i in range(0, len(distances))])\n",
    "    rds = np.array([[bal_dens_rands[j][np.where(thetas >= distances[i])[0][0]] for i in range(0, len(distances))] for j in range(0, len(bal_dens_rands))])\n",
    "    return pds, rds\n",
    "\n",
    "def calc_ranks_thetas(bal_dens_rands, bal_dens = []):\n",
    "    M, num_thetas = bal_dens_rands.shape\n",
    "#     print(M); \n",
    "#     print(num_thetas)\n",
    "    rl_rank = np.zeros(num_thetas)\n",
    "    rand_ranks = np.zeros([num_thetas, M])\n",
    "    \n",
    "    for theta_ind in range(0, num_thetas):\n",
    "        vals = [bal_dens_rands[i][theta_ind] for i in range(0, M)]\n",
    "        if len(bal_dens) > 0:\n",
    "            val = bal_dens[theta_ind]\n",
    "        else:\n",
    "            val = []\n",
    "        \n",
    "        rand_ranks[theta_ind], rl_rank[theta_ind] = calc_ranks(vals, val)\n",
    "    return rand_ranks, rl_rank"
   ]
  },
  {
   "cell_type": "code",
   "execution_count": 107,
   "id": "ecological-granny",
   "metadata": {},
   "outputs": [
    {
     "data": {
      "text/plain": [
       "array([[0.05797101, 0.04347826, 0.06521739, ..., 1.        , 1.        ,\n",
       "        1.        ],\n",
       "       [0.        , 0.02898551, 0.00724638, ..., 1.        , 0.98550725,\n",
       "        1.        ],\n",
       "       [0.        , 0.00724638, 0.05797101, ..., 1.        , 1.        ,\n",
       "        1.        ],\n",
       "       ...,\n",
       "       [0.01449275, 0.01449275, 0.08695652, ..., 1.        , 1.        ,\n",
       "        1.        ],\n",
       "       [0.02173913, 0.02173913, 0.03623188, ..., 0.98550725, 1.        ,\n",
       "        1.        ],\n",
       "       [0.01449275, 0.        , 0.06521739, ..., 1.        , 1.        ,\n",
       "        1.        ]])"
      ]
     },
     "execution_count": 107,
     "metadata": {},
     "output_type": "execute_result"
    }
   ],
   "source": [
    "test_E8_all_agents_terms_together_bal_dens_rands"
   ]
  },
  {
   "cell_type": "code",
   "execution_count": 122,
   "id": "colored-hostel",
   "metadata": {},
   "outputs": [
    {
     "data": {
      "text/plain": [
       "(array([ 992.5,  115.5,  115.5,  569. ,  569. ,  569. ,  975.5,  723.5,\n",
       "         115.5,  355.5,  569. ,  841.5,  723.5,  841.5,  115.5,  723.5,\n",
       "         355.5,  569. ,  723.5,  115.5,  841.5,  915. ,  569. ,  355.5,\n",
       "         115.5,  569. ,  355.5,  115.5,  115.5,  355.5,  355.5,  115.5,\n",
       "         355.5,  355.5,  115.5,  841.5,  355.5,  723.5,  723.5,  841.5,\n",
       "         569. ,  115.5,  115.5,  115.5,  115.5,  723.5,  841.5,  841.5,\n",
       "         569. ,  355.5,  723.5,  992.5,  723.5,  841.5,  841.5,  915. ,\n",
       "         115.5,  723.5,  355.5,  355.5,  115.5,  355.5,  569. ,  723.5,\n",
       "         115.5,  355.5,  569. ,  355.5,  841.5,  569. ,  355.5,  115.5,\n",
       "         723.5,  115.5,  355.5,  355.5,  569. ,  115.5,  355.5,  569. ,\n",
       "         115.5,  975.5,  355.5,  355.5,  355.5,  841.5,  355.5,  115.5,\n",
       "         355.5,  115.5,  115.5,  115.5,  569. ,  999.5,  355.5,  569. ,\n",
       "         115.5,  569. ,  569. ,  915. ,  569. ,  355.5,  115.5,  841.5,\n",
       "         115.5,  723.5,  950. ,  569. ,  115.5,  355.5,  355.5,  569. ,\n",
       "         950. ,  723.5,  355.5,  915. ,  115.5,  355.5,  115.5,  355.5,\n",
       "         355.5,  992.5,  355.5,  723.5,  841.5,  723.5,  355.5,  569. ,\n",
       "         569. ,  355.5,  355.5,  355.5,  115.5,  115.5,  115.5,  569. ,\n",
       "         569. ,  355.5,  355.5,  569. ,  355.5,  355.5,  115.5,  723.5,\n",
       "         355.5,  355.5,  950. ,  355.5,  115.5,  115.5,  355.5,  355.5,\n",
       "         569. ,  841.5,  723.5,  841.5,  355.5,  115.5,  841.5,  115.5,\n",
       "         355.5,  723.5,  841.5,  723.5,  569. ,  355.5,  115.5,  355.5,\n",
       "         355.5,  355.5,  723.5,  841.5,  355.5,  569. ,  355.5,  723.5,\n",
       "         115.5,  569. ,  115.5,  841.5,  355.5,  355.5,  950. ,  723.5,\n",
       "         841.5,  355.5,  975.5,  999.5,  723.5,  355.5,  355.5,  915. ,\n",
       "         841.5,  723.5,  355.5,  569. ,  355.5,  355.5,  569. ,  841.5,\n",
       "         841.5,  569. ,  723.5,  115.5,  841.5,  841.5,  115.5,  569. ,\n",
       "         115.5,  355.5,  115.5,  115.5,  723.5,  355.5,  115.5,  115.5,\n",
       "         355.5,  723.5,  355.5,  569. ,  355.5,  841.5,  723.5,  915. ,\n",
       "         355.5,  115.5,  915. ,  950. ,  115.5,  915. ,  115.5,  355.5,\n",
       "         355.5,  115.5,  723.5,  355.5,  355.5,  355.5,  115.5,  115.5,\n",
       "         355.5,  355.5,  915. ,  569. ,  115.5,  115.5,  115.5,  115.5,\n",
       "         115.5,  723.5,  723.5,  115.5,  723.5,  569. ,  355.5,  355.5,\n",
       "         569. ,  115.5,  355.5,  569. ,  915. ,  569. ,  723.5,  723.5,\n",
       "         355.5,  915. ,  723.5,  723.5,  355.5,  355.5,  569. ,  569. ,\n",
       "         841.5,  115.5,  569. ,  115.5,  915. ,  569. ,  841.5,  115.5,\n",
       "         355.5,  569. ,  841.5,  355.5,  723.5,  355.5,  723.5,  723.5,\n",
       "         115.5,  115.5,  975.5,  569. ,  115.5,  569. ,  115.5,  115.5,\n",
       "         115.5,  115.5,  355.5,  355.5,  115.5,  115.5,  355.5,  355.5,\n",
       "         841.5,  723.5,  569. ,  355.5,  115.5,  950. ,  841.5,  355.5,\n",
       "         723.5,  569. ,  115.5,  355.5,  115.5,  841.5,  569. ,  569. ,\n",
       "         841.5,  355.5,  355.5,  841.5,  992.5,  355.5,  569. ,  569. ,\n",
       "         115.5,  115.5,  115.5,  115.5,  355.5,  569. ,  115.5,  841.5,\n",
       "         355.5,  115.5,  569. ,  355.5,  355.5,  115.5,  115.5,  115.5,\n",
       "         115.5,  115.5,  115.5,  569. ,  115.5,  723.5,  355.5,  915. ,\n",
       "         992.5,  569. ,  355.5,  355.5,  115.5,  841.5,  115.5,  355.5,\n",
       "         355.5,  915. ,  115.5,  355.5,  975.5,  723.5,  355.5,  950. ,\n",
       "         841.5,  569. ,  355.5,  841.5,  841.5,  950. ,  115.5,  115.5,\n",
       "         723.5,  355.5,  115.5,  975.5,  355.5,  115.5,  915. ,  355.5,\n",
       "         992.5,  723.5,  569. ,  723.5,  841.5,  115.5,  841.5,  723.5,\n",
       "         723.5,  950. ,  115.5,  569. ,  115.5,  355.5,  841.5,  915. ,\n",
       "         569. ,  115.5,  569. ,  115.5,  569. ,  115.5,  115.5,  115.5,\n",
       "         723.5,  569. ,  569. ,  723.5,  355.5,  569. ,  115.5,  115.5,\n",
       "         569. ,  841.5,  115.5,  355.5,  115.5,  723.5,  115.5,  723.5,\n",
       "         569. ,  723.5,  115.5,  569. ,  569. ,  841.5,  355.5,  355.5,\n",
       "         115.5,  115.5,  355.5,  992.5,  569. ,  569. ,  355.5,  723.5,\n",
       "         569. ,  975.5,  723.5,  723.5,  355.5,  950. ,  569. ,  355.5,\n",
       "         569. ,  115.5,  115.5,  841.5,  723.5,  569. ,  115.5,  950. ,\n",
       "         355.5,  355.5,  841.5,  355.5,  115.5,  115.5,  355.5,  975.5,\n",
       "         355.5,  355.5,  569. ,  569. ,  569. ,  355.5,  355.5,  355.5,\n",
       "         992.5,  841.5,  115.5,  915. ,  841.5,  355.5,  355.5,  723.5,\n",
       "         975.5,  723.5,  355.5,  841.5,  723.5,  723.5,  115.5,  115.5,\n",
       "         115.5,  355.5,  115.5,  355.5,  569. ,  115.5,  355.5,  841.5,\n",
       "         115.5,  115.5,  841.5,  569. ,  115.5,  115.5,  569. ,  569. ,\n",
       "         115.5,  355.5,  841.5,  723.5,  915. ,  723.5,  569. ,  355.5,\n",
       "         569. ,  915. ,  723.5,  355.5,  355.5,  723.5,  115.5,  569. ,\n",
       "         950. ,  915. ,  355.5,  569. ,  355.5,  723.5,  355.5,  115.5,\n",
       "         355.5,  355.5,  115.5,  841.5,  115.5,  841.5,  723.5,  115.5,\n",
       "         115.5,  115.5,  355.5,  915. ,  723.5,  115.5,  355.5,  975.5,\n",
       "         569. ,  569. ,  723.5,  115.5,  723.5,  950. ,  992.5,  355.5,\n",
       "         569. ,  569. ,  355.5,  115.5,  950. ,  569. ,  915. ,  115.5,\n",
       "         569. ,  569. ,  115.5,  569. ,  355.5,  569. ,  723.5,  723.5,\n",
       "         569. ,  975.5,  115.5,  115.5,  975.5,  115.5,  115.5,  569. ,\n",
       "         841.5,  569. ,  115.5,  355.5,  841.5,  355.5,  723.5,  915. ,\n",
       "         723.5,  975.5,  115.5,  115.5,  355.5,  723.5,  115.5,  950. ,\n",
       "         723.5,  569. ,  355.5,  569. ,  723.5,  915. ,  115.5,  569. ,\n",
       "         355.5,  115.5,  569. ,  115.5,  841.5,  355.5,  841.5,  355.5,\n",
       "         115.5,  723.5, 1001. ,  355.5,  723.5,  355.5,  723.5,  355.5,\n",
       "         115.5,  841.5,  841.5,  723.5,  115.5,  569. ,  115.5,  355.5,\n",
       "         355.5,  841.5,  841.5,  355.5,  569. ,  355.5,  355.5,  569. ,\n",
       "         569. ,  355.5,  915. ,  841.5,  841.5,  723.5,  355.5,  355.5,\n",
       "         723.5,  115.5,  841.5,  569. ,  915. ,  355.5,  115.5,  115.5,\n",
       "         355.5,  115.5,  115.5,  950. ,  723.5,  723.5,  723.5,  569. ,\n",
       "         569. ,  723.5,  355.5,  841.5,  569. ,  115.5,  569. ,  569. ,\n",
       "         723.5,  723.5,  723.5,  950. ,  115.5,  723.5,  355.5,  355.5,\n",
       "         723.5,  723.5,  115.5,  355.5,  115.5,  569. ,  569. ,  355.5,\n",
       "         915. ,  723.5,  115.5,  355.5,  355.5,  723.5,  355.5,  569. ,\n",
       "         115.5,  950. ,  723.5,  355.5,  115.5,  569. ,  569. ,  569. ,\n",
       "         841.5,  841.5,  355.5,  355.5,  355.5,  723.5,  975.5,  950. ,\n",
       "         115.5,  841.5,  841.5,  569. ,  115.5,  355.5,  355.5,  115.5,\n",
       "         569. ,  569. ,  355.5,  569. ,  355.5,  355.5,  355.5,  355.5,\n",
       "         355.5,  355.5,  355.5,  950. ,  355.5,  355.5,  915. ,  115.5,\n",
       "         355.5,  841.5,  723.5,  569. ,  723.5,  569. ,  355.5,  950. ,\n",
       "         841.5,  915. ,  841.5,  915. ,  355.5,  355.5,  355.5,  355.5,\n",
       "         355.5,  355.5,  115.5,  723.5,  569. ,  115.5,  915. ,  355.5,\n",
       "         841.5,  569. ,  569. ,  915. ,  569. ,  723.5,  841.5,  355.5,\n",
       "         723.5,  723.5,  355.5,  355.5,  569. ,  723.5,  950. ,  355.5,\n",
       "         355.5,  841.5,  841.5,  355.5,  569. ,  355.5,  569. ,  355.5,\n",
       "         355.5,  115.5,  355.5,  355.5,  355.5,  569. ,  115.5,  569. ,\n",
       "         841.5,  115.5,  841.5,  115.5,  569. ,  723.5,  115.5,  355.5,\n",
       "         569. ,  115.5,  569. ,  115.5,  915. ,  355.5,  355.5,  355.5,\n",
       "         355.5,  841.5,  569. ,  841.5,  569. ,  355.5,  115.5,  355.5,\n",
       "         355.5,  115.5,  950. ,  569. ,  569. ,  115.5,  569. ,  915. ,\n",
       "         355.5,  115.5,  915. ,  723.5,  355.5,  355.5,  915. ,  975.5,\n",
       "         950. ,  115.5,  723.5,  115.5,  975.5,  355.5,  115.5,  723.5,\n",
       "         115.5,  723.5,  950. ,  115.5,  569. ,  723.5,  950. ,  355.5,\n",
       "         355.5,  841.5,  915. ,  115.5,  355.5,  569. ,  841.5,  569. ,\n",
       "         115.5,  355.5,  115.5,  915. ,  841.5,  355.5,  569. ,  569. ,\n",
       "         915. ,  355.5,  915. ,  723.5,  723.5,  355.5,  723.5,  841.5,\n",
       "         115.5,  115.5,  841.5,  355.5,  355.5,  841.5,  975.5,  355.5,\n",
       "         569. ,  569. ,  115.5,  115.5,  569. ,  723.5,  115.5,  569. ,\n",
       "         569. ,  841.5,  355.5,  723.5,  355.5,  115.5,  569. ,  975.5,\n",
       "         975.5,  723.5,  569. ,  841.5,  115.5,  355.5,  355.5,  992.5,\n",
       "         723.5,  115.5,  115.5,  723.5,  975.5,  569. ,  115.5,  569. ,\n",
       "         115.5,  723.5,  841.5,  841.5,  569. ,  915. ,  355.5,  841.5,\n",
       "         723.5,  569. ,  723.5,  115.5,  723.5,  723.5,  115.5,  569. ,\n",
       "         115.5,  355.5,  950. ,  915. ,  115.5,  115.5,  569. ,  569. ,\n",
       "         115.5,  355.5,  115.5,  115.5,  355.5,  569. ,  915. ,  841.5,\n",
       "         115.5,  723.5,  569. ,  841.5,  569. ,  975.5,  115.5,  355.5,\n",
       "         115.5,  841.5,  841.5,  841.5,  115.5,  569. ,  115.5,  115.5,\n",
       "         975.5,  723.5,  723.5,  115.5,  355.5,  841.5,  569. ,  115.5,\n",
       "         569. ,  569. ,  355.5,  115.5,  115.5,  355.5,  115.5,  723.5,\n",
       "         569. ,  355.5,  355.5,  998. ,  115.5,  841.5,  569. ,  355.5,\n",
       "         841.5,  841.5,  115.5,  569. ,  115.5,  115.5,  723.5,  723.5,\n",
       "         569. ,  355.5,  569. ,  841.5,  841.5,  569. ,  841.5,  115.5,\n",
       "         723.5,  975.5,  115.5,  115.5,  569. ,  569. ,  723.5,  569. ]),\n",
       " 975.5)"
      ]
     },
     "execution_count": 122,
     "metadata": {},
     "output_type": "execute_result"
    }
   ],
   "source": [
    "distances = [i/16 for i in range(0,16)]\n",
    "pds = np.array([test_E8_all_agents_terms_together_bal_dens[np.where(test_E8_all_agents_terms_together_thetas >= distances[i])[0][0]] for i in range(0, len(distances))])\n",
    "rds = np.array([[test_E8_all_agents_terms_together_bal_dens_rands[j][np.where(test_E8_all_agents_terms_together_thetas >= distances[i])[0][0]] for i in range(0, len(distances))] for j in range(0, len(test_E8_all_agents_terms_together_bal_dens_rands))])\n",
    "    \n",
    "\n",
    "vals = [rds[i][0] for i in range(0, len(rds))]\n",
    "val = pds[0]\n",
    "\n",
    "calc_ranks(vals, val)"
   ]
  },
  {
   "cell_type": "code",
   "execution_count": 123,
   "id": "sonic-raleigh",
   "metadata": {},
   "outputs": [],
   "source": [
    "rand_ranks, rl_rank = calc_ranks_thetas(rds, pds)"
   ]
  },
  {
   "cell_type": "code",
   "execution_count": 124,
   "id": "adverse-prairie",
   "metadata": {},
   "outputs": [],
   "source": [
    "sums = np.sum(rand_ranks,0)"
   ]
  },
  {
   "cell_type": "code",
   "execution_count": 125,
   "id": "sound-calcium",
   "metadata": {},
   "outputs": [
    {
     "data": {
      "image/png": "[encoded data removed]",
      "text/plain": [
       "<Figure size 432x288 with 1 Axes>"
      ]
     },
     "metadata": {
      "needs_background": "light"
     },
     "output_type": "display_data"
    },
    {
     "data": {
      "text/plain": [
       "ShapiroResult(statistic=0.997944712638855, pvalue=0.26024341583251953)"
      ]
     },
     "execution_count": 125,
     "metadata": {},
     "output_type": "execute_result"
    }
   ],
   "source": [
    "sm.qqplot((sums - np.mean(sums)) / np.std(sums), line ='45')\n",
    "py.show()\n",
    "stats.shapiro(sums)"
   ]
  },
  {
   "cell_type": "code",
   "execution_count": 126,
   "id": "severe-october",
   "metadata": {},
   "outputs": [
    {
     "data": {
      "text/plain": [
       "(1000,\n",
       " array([10963.5,  7918.5,  7150. ,  7461.5,  7683.5,  8061. ,  7300.5,\n",
       "         8159.5,  6549.5,  9341.5,  8662.5,  8607.5,  7176. ,  9300.5,\n",
       "         7809.5,  7699. ,  7478. ,  9000.5,  8891.5,  6689.5,  8420. ,\n",
       "         6515.5,  7360.5,  8826. ,  7293. ,  5304.5,  8691. ,  7159.5,\n",
       "         7785. ,  8319.5,  8083.5,  7183.5,  7606.5,  7241. ,  6777. ,\n",
       "         9646. ,  7320. ,  7327. ,  9150.5, 10629.5,  7539. ,  9444. ,\n",
       "         7321.5,  9359. ,  7013. ,  8487.5,  8089.5,  9036.5,  7214. ,\n",
       "         9187.5,  8364. ,  7936. ,  9704.5,  7675.5,  6356.5,  8808. ,\n",
       "         8728. ,  9848. ,  5264.5,  8538.5,  6260. ,  9629.5,  6568. ,\n",
       "         7641.5,  7972.5,  7013.5,  8008. ,  8694. ,  7658. ,  9072.5,\n",
       "         7345. ,  8949.5,  9523. ,  6252. ,  5316. ,  9187.5,  8509.5,\n",
       "         6378.5,  7887.5,  9236.5,  7722. ,  8102.5,  6250.5,  6476.5,\n",
       "         7909. ,  7427. ,  7348. ,  4642. ,  8056. ,  6633. ,  7889.5,\n",
       "         8790.5,  9466. ,  6086.5,  9160. ,  5023. ,  7378.5,  7792. ,\n",
       "         6049. ,  6951. ,  8257. ,  7519.5, 11265.5,  8088. ,  8838.5,\n",
       "         8958. ,  7772.5,  7548.5,  6638.5,  7350. ,  9534.5,  8600. ,\n",
       "         8395.5,  7528.5,  8100.5,  6508. ,  7236. ,  5704. ,  9240.5,\n",
       "         7428. ,  8383.5,  8471.5,  6889.5,  8207.5,  8222.5,  7564. ,\n",
       "         6267.5,  9160.5,  8543. ,  7881.5,  6961.5,  8183. ,  7299. ,\n",
       "         7331.5,  7426. ,  9590.5,  9598.5,  9094.5,  8764.5,  7079. ,\n",
       "         7888. ,  7858.5,  7839.5,  9034. ,  8386. ,  7719. ,  8139. ,\n",
       "         8576. ,  7673.5,  7383.5,  6784.5,  6408.5,  8065.5,  7482. ,\n",
       "         6657. ,  7626. ,  5851. ,  6987.5,  9034. ,  8105. ,  6950.5,\n",
       "         6360.5,  9544. ,  7520. ,  6344. ,  7029.5,  6917.5,  8807.5,\n",
       "         7127.5,  7712.5,  8002. ,  9360.5,  9666.5,  6777. ,  7920.5,\n",
       "         9807.5,  8762. ,  8281. ,  8929.5,  6935. ,  8317.5,  7857. ,\n",
       "         9130.5,  8735.5,  8826. ,  5769. ,  6845.5,  8224.5,  7859.5,\n",
       "         7737.5,  7989. ,  8875. ,  8572.5,  8084.5,  6304. ,  7382. ,\n",
       "         7854.5,  7658. ,  7749.5,  8915. ,  6520.5,  7420. ,  7480. ,\n",
       "         6184.5,  7613.5,  8382.5,  5569.5,  9025.5,  7121.5,  6748.5,\n",
       "         7265.5,  8137.5,  7977. ,  8785. ,  7194.5,  7644.5,  7818.5,\n",
       "         8885. ,  6613. ,  7969.5,  9987.5,  7614.5,  9924.5,  7296. ,\n",
       "         8294.5,  9902. ,  8311. ,  9326. ,  9161. ,  9083.5,  6170. ,\n",
       "         7657.5,  7567. ,  5956. ,  8212.5, 10213.5,  5308.5,  7774. ,\n",
       "         8022. ,  6222. ,  8808. ,  8042.5,  8355. ,  7960. ,  7124.5,\n",
       "         8445.5,  8453. ,  9754.5,  7551. ,  7210.5,  7791. ,  8819. ,\n",
       "         8525. ,  6522.5,  9502. ,  6241.5,  8176. ,  7410.5,  8383. ,\n",
       "         7963. ,  8333.5,  8940. ,  9299. ,  7016.5,  7020. ,  7915. ,\n",
       "         8111.5,  8944.5,  8493. ,  8457. ,  6718. ,  6102.5,  8087. ,\n",
       "         5053.5,  8707.5,  6144.5,  6767. ,  6795.5, 10103.5,  7246. ,\n",
       "         8787. ,  8429. ,  8468. ,  8572.5,  6539. ,  6114. ,  7311.5,\n",
       "         7859. ,  6960.5,  7393.5,  7415. ,  8149.5,  6688.5,  8063.5,\n",
       "         7922. ,  7739. ,  7007.5,  7832.5,  8094. ,  7535.5,  6793. ,\n",
       "         9359. ,  8084. ,  7226.5,  9075. ,  9816. , 10040. ,  7426.5,\n",
       "         7792.5,  9624. ,  7954. ,  8019. ,  8490. ,  9831.5,  6203.5,\n",
       "         7577. ,  8021. ,  8763.5, 10027. ,  8128. ,  7766. ,  9452.5,\n",
       "        10284.5,  6803. ,  9243.5,  8630.5, 10180.5,  8263. ,  8178.5,\n",
       "         8693. , 10537. ,  8188.5,  7894. ,  8923.5,  7423.5,  8547.5,\n",
       "         5897.5,  7976. ,  9988. ,  8105.5,  8243. ,  5203.5,  7629.5,\n",
       "         8554.5,  6579.5,  9163. ,  8069.5,  8343. ,  7938. ,  6834. ,\n",
       "         7746. ,  8636.5,  9198. ,  8501.5,  8151. ,  7482.5,  7857. ,\n",
       "         9072. ,  8206.5,  8333. ,  7924.5,  8242. ,  7156. ,  6441.5,\n",
       "         9074.5,  8911. , 10251.5,  8253. ,  9028.5,  6567. ,  7903.5,\n",
       "         7954. , 10436. ,  8522.5,  5640. ,  7417.5,  9133.5,  6263. ,\n",
       "         7533. ,  7303.5,  8545. ,  6057.5,  6244.5,  8825.5,  8478.5,\n",
       "         8205. ,  9101. ,  8300.5,  8684.5,  5462. ,  6405.5,  9057. ,\n",
       "         8704.5,  8773.5,  6989. ,  9340. ,  9512. ,  6643. ,  7592.5,\n",
       "         9675.5,  8074.5,  7928. ,  6980.5,  5173. ,  6052.5,  8950.5,\n",
       "         7011.5,  7091.5,  7073.5,  7018.5,  7832.5,  9338. ,  8188.5,\n",
       "         7355.5,  7215.5,  5731.5,  6790.5,  8090.5,  9780.5,  8557.5,\n",
       "         8628.5,  9224. ,  6955. ,  6836.5,  6673. ,  8011.5,  6171.5,\n",
       "         8069. ,  7734.5,  8122. ,  6301.5,  8828. ,  7686. ,  8792.5,\n",
       "         6239.5,  8765.5,  5369. ,  7983.5,  8054.5,  8598. ,  9319. ,\n",
       "         8681.5,  9357. ,  9154.5,  7837.5,  9805.5,  7910. ,  7033. ,\n",
       "         8235. ,  7461.5,  8945.5,  9805.5,  8143.5,  8655.5,  8271. ,\n",
       "         9383. ,  8062. ,  8757.5,  8652. ,  7554. ,  7810.5,  9289. ,\n",
       "         7492.5,  8601. ,  9337.5,  7952. ,  8014. ,  8729.5,  7063.5,\n",
       "         6900.5,  9293. ,  7844. ,  8184.5, 10139.5,  7736.5, 10662.5,\n",
       "         9550.5,  7086.5,  6786. ,  8973. ,  8631. ,  8951. ,  8335. ,\n",
       "         9860.5,  7725.5,  7590.5,  7626. ,  6383. ,  7907.5,  8443. ,\n",
       "         9322. ,  5593. ,  8404.5,  8467. ,  6821. ,  6907.5,  8039.5,\n",
       "         6835. ,  9784.5,  6719.5,  7164. ,  6560. ,  8770.5,  9220.5,\n",
       "         8812.5,  8144. ,  9089.5,  7352. ,  6274. ,  8817.5,  7117. ,\n",
       "         9316.5,  6031.5,  7950. ,  8915.5,  5579. ,  7020. ,  7929. ,\n",
       "         5969. ,  8919. , 10172.5,  8689.5,  8524. ,  7551.5,  5928.5,\n",
       "         8420.5,  7000.5,  8524.5,  7944. ,  7139.5,  8579. ,  8936. ,\n",
       "         7634.5,  7032. ,  7955.5,  7190.5,  7256.5,  7520.5,  8598.5,\n",
       "        10304. ,  8279.5,  6949. ,  8499.5,  8446.5,  8506. ,  8644. ,\n",
       "         6910.5,  7733. ,  6228. ,  9388. ,  8995. ,  9424.5,  9858. ,\n",
       "         7327.5,  8446. ,  7174.5, 10766.5,  9305. ,  8245.5,  8268. ,\n",
       "         8279.5,  5318. ,  8810.5, 10349. ,  8386.5,  8859. ,  8222.5,\n",
       "         7901. ,  5638. ,  9654. ,  7807.5,  8989.5,  9710. ,  8202.5,\n",
       "         8470.5,  8944.5,  6673. ,  8266.5, 10616. ,  8969.5,  9727. ,\n",
       "         9062.5, 10752.5,  7778. ,  6568.5,  7264. ,  7803. ,  9559. ,\n",
       "         7423. ,  7093. ,  7766.5,  8204. ,  8826. ,  7354. ,  8816. ,\n",
       "         7195. ,  8534. ,  7389. ,  6569. ,  9004. ,  8495. ,  7106. ,\n",
       "         6702.5,  7967.5,  8672.5,  6447.5,  8475.5,  9091.5,  9117.5,\n",
       "         7913. , 10849.5,  8064. ,  7009. ,  7509. ,  8175.5,  7458.5,\n",
       "         8275.5,  7684. ,  5573. ,  7070. ,  8823. ,  9321.5,  8508. ,\n",
       "         7956. ,  7684.5, 10569.5, 11113.5,  7929. ,  6486.5,  8357. ,\n",
       "         8304.5,  7715. ,  8859.5,  8921.5,  8431. ,  8868.5,  8227. ,\n",
       "         6370.5,  8434.5,  6282. ,  9363.5,  9583.5,  7389.5,  7617. ,\n",
       "         8839.5,  9694.5,  7937. ,  7364.5,  8968.5,  6819. ,  5978.5,\n",
       "         8681.5, 10240.5,  9931. ,  9503. ,  8110.5,  8014. ,  6497. ,\n",
       "         7729.5,  7697. ,  8641. ,  8380.5,  7094. ,  7039.5,  9554.5,\n",
       "         9227.5,  7843.5,  9402. ,  8942. ,  8281. ,  7810. ,  9482. ,\n",
       "         8653.5,  6523.5,  7997.5,  7010.5,  7522.5,  5675. ,  8910. ,\n",
       "         8985.5,  7561. ,  9024. ,  7129. ,  9350. ,  6233. ,  5781.5,\n",
       "         7641. ,  6823. ,  8846. ,  6305. ,  9874.5,  6802. ,  6416.5,\n",
       "         8758.5,  6062.5,  6219.5, 10055.5,  8973.5,  5773.5,  9646.5,\n",
       "         9712.5,  7920.5,  8075. ,  6212.5,  8586.5,  9021.5,  6918.5,\n",
       "         8230.5,  6116.5,  7103. ,  8915.5,  9426.5,  8088. ,  9805. ,\n",
       "         7525. ,  7422.5,  7552. ,  8510. ,  8875.5,  5936. ,  6818. ,\n",
       "         8886.5,  8306.5,  5825. ,  9935. ,  8347.5,  8314.5,  6727.5,\n",
       "         7419. ,  7665. ,  9409.5,  8626.5,  8666.5,  9818.5,  6766. ,\n",
       "         9384. ,  7813.5, 10487.5, 10720.5, 10475.5,  9209.5,  8246. ,\n",
       "         8690.5,  8286. ,  7207. ,  9261.5,  7877. ,  7159. ,  7518.5,\n",
       "         7579.5, 10877.5,  6943.5,  9346. ,  7840.5,  8130. ,  5571.5,\n",
       "         8178. ,  8601.5,  8933. ,  8933.5,  8929. ,  7710. ,  7370. ,\n",
       "         7687.5,  6077.5,  9357.5,  7116.5,  9000.5,  5664.5, 10552.5,\n",
       "         7932.5,  9133.5,  6883.5,  9355.5,  8476. ,  7896.5,  8832. ,\n",
       "         5150.5,  9608.5,  5754. ,  6816. ,  8660. ,  7660. ,  6777. ,\n",
       "         8963. ,  8336. ,  8924. ,  5697. ,  7747.5,  6970. ,  8511. ,\n",
       "         7736. ,  8731.5,  8826.5,  5666.5,  6065. ,  7126.5,  8331.5,\n",
       "         6558.5,  9523. ,  7053.5, 10340. ,  9283.5,  8089.5, 10312. ,\n",
       "         7471.5,  6263. ,  7709. ,  7290.5,  6225.5,  9861.5,  7018.5,\n",
       "         7972.5,  6134. ,  8932.5,  8862. ,  9403.5,  8171.5,  8708.5,\n",
       "         7120.5,  6067.5,  9482. , 10561. ,  9852.5,  8784.5,  5683. ,\n",
       "         9270.5,  5850.5,  7739.5,  7594.5,  6769.5,  9162. ,  9226. ,\n",
       "         9549.5,  7738. ,  6864.5,  8640. ,  5946.5,  8769. ,  7551. ,\n",
       "         6788. ,  9690.5,  8784. ,  7672. ,  6385.5,  8549. ,  7070.5,\n",
       "         6938.5,  8108.5,  8665. ,  7743.5,  7197.5,  6037.5,  6443.5,\n",
       "         7682.5,  8219. ,  8204. ,  8103.5,  7106. ,  6883.5,  7490.5,\n",
       "         7786. ,  7148. ,  7175.5,  7341. ,  6675. ,  8941.5,  8669. ,\n",
       "         7102. ,  8595.5,  7602.5,  8582. ,  9441. ,  9353. ,  7226. ,\n",
       "         8571. ,  8320.5,  9143.5,  5841. ,  8211. ,  8146. ,  8447.5,\n",
       "         8023.5,  7880.5,  7611. ,  6568.5,  8183.5,  8293.5, 11641. ,\n",
       "         8465. , 10216.5,  7293. ,  7024.5,  9113. ,  7610.5,  6182.5,\n",
       "         8212.5,  5729.5,  5195.5,  9012.5,  6841.5, 11086.5,  6464. ,\n",
       "         7239.5, 10893. ,  6936.5,  9614. ,  7638. ,  8054.5,  8564.5,\n",
       "         6744.5,  6765.5,  7424. ,  8484.5,  5020. ,  7623.5,  6594. ,\n",
       "         8339.5,  8211. ,  8624.5,  8064.5,  8932.5,  9504. , 10087. ,\n",
       "         8871. ,  6023.5,  8511.5,  7810. ,  8416. ,  9427. ,  5857. ,\n",
       "         7091.5,  9243.5,  9432. , 10629.5,  8251. ,  7715. ,  9610.5,\n",
       "         7896.5,  9196.5,  7804. ,  8515. ,  9629.5,  9781. ,  8457.5,\n",
       "         7779. , 10113. ,  7930.5,  7307.5,  7137.5,  6203.5,  6978.5,\n",
       "         5567. ,  9677.5,  8969. ,  7510.5,  7550. ,  7228. ,  7050. ,\n",
       "         8797. ,  7962. ,  8641. ,  7319.5,  7995.5,  7416.5,  7749.5,\n",
       "         6676.5,  8537. ,  7488. ,  5877. ,  8431.5,  8868. ,  9049.5,\n",
       "         7668. ,  9140. ,  7737.5,  8786.5,  7633.5,  8285.5,  8233.5,\n",
       "         8187.5,  7100. ,  7281. ,  9432. ,  8262.5,  7175. ,  8143. ,\n",
       "        10437.5,  7967. ,  9367. ,  8672.5,  6856.5,  9050.5,  9093. ,\n",
       "         6271.5,  7746.5,  9006.5,  8099.5,  5775.5,  8983.5]),\n",
       " 15098.0)"
      ]
     },
     "execution_count": 126,
     "metadata": {},
     "output_type": "execute_result"
    }
   ],
   "source": [
    "np.sum(sums < np.sum(rl_rank)), sums, np.sum(rl_rank)"
   ]
  },
  {
   "cell_type": "code",
   "execution_count": 127,
   "id": "boolean-interference",
   "metadata": {},
   "outputs": [
    {
     "data": {
      "text/plain": [
       "11641.0"
      ]
     },
     "execution_count": 127,
     "metadata": {},
     "output_type": "execute_result"
    }
   ],
   "source": [
    "np.max(sums)"
   ]
  },
  {
   "cell_type": "code",
   "execution_count": null,
   "id": "annual-approach",
   "metadata": {},
   "outputs": [],
   "source": []
  }
 ],
 "metadata": {
  "kernelspec": {
   "display_name": "Python 3 (ipykernel)",
   "language": "python",
   "name": "python3"
  },
  "language_info": {
   "codemirror_mode": {
    "name": "ipython",
    "version": 3
   },
   "file_extension": ".py",
   "mimetype": "text/x-python",
   "name": "python",
   "nbconvert_exporter": "python",
   "pygments_lexer": "ipython3",
   "version": "3.8.5"
  }
 },
 "nbformat": 4,
 "nbformat_minor": 5
}

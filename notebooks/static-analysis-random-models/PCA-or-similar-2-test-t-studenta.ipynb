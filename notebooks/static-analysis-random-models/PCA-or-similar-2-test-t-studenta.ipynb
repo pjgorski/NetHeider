{
 "cells": [
  {
   "cell_type": "code",
   "execution_count": 1,
   "id": "southeast-accused",
   "metadata": {},
   "outputs": [],
   "source": [
    "import pickle\n",
    "import networkx as nx\n",
    "import numpy as np\n",
    "import pandas as pd\n",
    "\n",
    "from scipy import stats\n",
    "from itertools import chain\n",
    "import statsmodels.api as sm\n",
    "import pylab as py\n",
    "\n",
    "import matplotlib.pyplot as plt\n",
    "\n",
    "from datetime import datetime"
   ]
  },
  {
   "cell_type": "code",
   "execution_count": 2,
   "id": "realistic-syntax",
   "metadata": {},
   "outputs": [
    {
     "name": "stdout",
     "output_type": "stream",
     "text": [
      "Showing the pickled data:\n",
      "The data  0  is :  1\n",
      "The data  1  is :  2\n",
      "The data  2  is :  3\n",
      "The data  3  is :  4\n",
      "The data  4  is :  5\n",
      "The data  5  is :  6\n"
     ]
    }
   ],
   "source": [
    "file = open('NetSense_network.pkl', 'rb')\n",
    "# dump information to that file\n",
    "data = pickle.load(file)\n",
    "\n",
    "# close the file\n",
    "file.close()\n",
    "\n",
    "print('Showing the pickled data:')\n",
    "\n",
    "cnt = 0\n",
    "for item in data:\n",
    "    print('The data ', cnt, ' is : ', item)\n",
    "    cnt += 1"
   ]
  },
  {
   "cell_type": "code",
   "execution_count": 3,
   "id": "social-collection",
   "metadata": {},
   "outputs": [
    {
     "data": {
      "text/plain": [
       "1"
      ]
     },
     "execution_count": 3,
     "metadata": {},
     "output_type": "execute_result"
    }
   ],
   "source": [
    "data[6].nodes[75261]['hometown_1']"
   ]
  },
  {
   "cell_type": "code",
   "execution_count": 4,
   "id": "civil-fields",
   "metadata": {},
   "outputs": [
    {
     "data": {
      "image/png": "[encoded data removed]",
      "text/plain": [
       "<Figure size 432x288 with 1 Axes>"
      ]
     },
     "metadata": {},
     "output_type": "display_data"
    }
   ],
   "source": [
    "nx.draw(data[6])"
   ]
  },
  {
   "cell_type": "code",
   "execution_count": 5,
   "id": "sharing-england",
   "metadata": {},
   "outputs": [
    {
     "data": {
      "text/plain": [
       "NodeDataView({75178: {'age_1': 1, 'hometown_1': 1, 'ethnicity_1': 2, 'gender_1': 2, 'premaritalsex_': 3, 'euthanasia_': 3, 'deathpen_': 3, 'gaymarriage_': 3, 'marijuana_': 2, 'political_': 1, 'abortion_': 3, 'homosexual_': 3}, 30952: {'age_1': 1, 'hometown_1': 1, 'ethnicity_1': 2, 'gender_1': 2, 'premaritalsex_': 2, 'euthanasia_': 2, 'deathpen_': 2, 'gaymarriage_': 1, 'marijuana_': 3, 'political_': 1, 'abortion_': 2, 'homosexual_': 2}, 13116: {'age_1': 1, 'hometown_1': 1, 'ethnicity_1': 2, 'gender_1': 1, 'premaritalsex_': 3, 'euthanasia_': 3, 'deathpen_': 3, 'gaymarriage_': 3, 'marijuana_': 3, 'political_': 3, 'abortion_': 3, 'homosexual_': 1}, 62555: {'age_1': 2, 'hometown_1': 1, 'ethnicity_1': 2, 'gender_1': 1, 'premaritalsex_': 3, 'euthanasia_': 1, 'deathpen_': 1, 'gaymarriage_': 3, 'marijuana_': 2, 'political_': 3, 'abortion_': 3, 'homosexual_': 3}, 26999: {'age_1': 2, 'hometown_1': 1, 'ethnicity_1': 2, 'gender_1': 1, 'premaritalsex_': 3, 'euthanasia_': 1, 'deathpen_': 2, 'gaymarriage_': 2, 'marijuana_': 1, 'political_': 2, 'abortion_': 3, 'homosexual_': 3}, 10841: {'age_1': 1, 'hometown_1': 1, 'ethnicity_1': 4, 'gender_1': 2, 'premaritalsex_': 1, 'euthanasia_': 3, 'deathpen_': 1, 'gaymarriage_': 1, 'marijuana_': 1, 'political_': 2, 'abortion_': 1, 'homosexual_': 1}, 17353: {'age_1': 1, 'hometown_1': 1, 'ethnicity_1': 1, 'gender_1': 2, 'premaritalsex_': 1, 'euthanasia_': 1, 'deathpen_': 2, 'gaymarriage_': 2, 'marijuana_': 1, 'political_': 1, 'abortion_': 1, 'homosexual_': 2}, 86352: {'age_1': 2, 'hometown_1': 1, 'ethnicity_1': 3, 'gender_1': 1, 'premaritalsex_': 1, 'euthanasia_': 2, 'deathpen_': 2, 'gaymarriage_': 2, 'marijuana_': 3, 'political_': 2, 'abortion_': 2, 'homosexual_': 1}, 53275: {'age_1': 1, 'hometown_1': 1, 'ethnicity_1': 4, 'gender_1': 1, 'premaritalsex_': 3, 'euthanasia_': 3, 'deathpen_': 1, 'gaymarriage_': 3, 'marijuana_': 2, 'political_': 2, 'abortion_': 3, 'homosexual_': 3}, 77291: {'age_1': 1, 'hometown_1': 1, 'ethnicity_1': 1, 'gender_1': 2, 'premaritalsex_': 3, 'euthanasia_': 1, 'deathpen_': 1, 'gaymarriage_': 3, 'marijuana_': 3, 'political_': 3, 'abortion_': 1, 'homosexual_': 3}, 18394: {'age_1': 1, 'hometown_1': 2, 'ethnicity_1': 1, 'gender_1': 2, 'premaritalsex_': 1, 'euthanasia_': 3, 'deathpen_': 1, 'gaymarriage_': 1, 'marijuana_': 2, 'political_': 2, 'abortion_': 1, 'homosexual_': 1}, 36006: {'age_1': 1, 'hometown_1': 2, 'ethnicity_1': 1, 'gender_1': 1, 'premaritalsex_': 1, 'euthanasia_': 1, 'deathpen_': 1, 'gaymarriage_': 2, 'marijuana_': 1, 'political_': 1, 'abortion_': 1, 'homosexual_': 1}, 57637: {'age_1': 2, 'hometown_1': 1, 'ethnicity_1': 1, 'gender_1': 1, 'premaritalsex_': 3, 'euthanasia_': 2, 'deathpen_': 1, 'gaymarriage_': 3, 'marijuana_': 3, 'political_': 1, 'abortion_': 1, 'homosexual_': 3}, 71627: {'age_1': 2, 'hometown_1': 2, 'ethnicity_1': 1, 'gender_1': 2, 'premaritalsex_': 1, 'euthanasia_': 1, 'deathpen_': 1, 'gaymarriage_': 1, 'marijuana_': 3, 'political_': 1, 'abortion_': 1, 'homosexual_': 2}, 75261: {'age_1': 1, 'hometown_1': 1, 'ethnicity_1': 3, 'gender_1': 2, 'premaritalsex_': 3, 'euthanasia_': 3, 'deathpen_': 3, 'gaymarriage_': 3, 'marijuana_': 3, 'political_': 3, 'abortion_': 1, 'homosexual_': 3}, 19844: {'age_1': 2, 'hometown_1': 1, 'ethnicity_1': 1, 'gender_1': 1, 'premaritalsex_': 2, 'euthanasia_': 3, 'deathpen_': 1, 'gaymarriage_': 1, 'marijuana_': 2, 'political_': 1, 'abortion_': 1, 'homosexual_': 2}, 25323: {'age_1': 1, 'hometown_1': 1, 'ethnicity_1': 1, 'gender_1': 2, 'premaritalsex_': 3, 'euthanasia_': 2, 'deathpen_': 2, 'gaymarriage_': 1, 'marijuana_': 2, 'political_': 1, 'abortion_': 1, 'homosexual_': 1}, 40997: {'age_1': 1, 'hometown_1': 1, 'ethnicity_1': 4, 'gender_1': 1, 'premaritalsex_': 1, 'euthanasia_': 3, 'deathpen_': 3, 'gaymarriage_': 1, 'marijuana_': 3, 'political_': 1, 'abortion_': 1, 'homosexual_': 1}, 52635: {'age_1': 2, 'hometown_1': 1, 'ethnicity_1': 4, 'gender_1': 1, 'premaritalsex_': 2, 'euthanasia_': 3, 'deathpen_': 2, 'gaymarriage_': 3, 'marijuana_': 3, 'political_': 3, 'abortion_': 3, 'homosexual_': 3}, 45945: {'age_1': 1, 'hometown_1': 1, 'ethnicity_1': 1, 'gender_1': 1, 'premaritalsex_': 3, 'euthanasia_': 3, 'deathpen_': 1, 'gaymarriage_': 3, 'marijuana_': 3, 'political_': 1, 'abortion_': 1, 'homosexual_': 1}, 72746: {'age_1': 1, 'hometown_1': 3, 'ethnicity_1': 1, 'gender_1': 1, 'premaritalsex_': 3, 'euthanasia_': 3, 'deathpen_': 3, 'gaymarriage_': 3, 'marijuana_': 3, 'political_': 1, 'abortion_': 3, 'homosexual_': 3}, 15071: {'age_1': 2, 'hometown_1': 2, 'ethnicity_1': 1, 'gender_1': 1, 'premaritalsex_': 3, 'euthanasia_': 3, 'deathpen_': 1, 'gaymarriage_': 3, 'marijuana_': 3, 'political_': 3, 'abortion_': 3, 'homosexual_': 3}, 46771: {'age_1': 1, 'hometown_1': 1, 'ethnicity_1': 1, 'gender_1': 1, 'premaritalsex_': 3, 'euthanasia_': 3, 'deathpen_': 1, 'gaymarriage_': 3, 'marijuana_': 3, 'political_': 1, 'abortion_': 1, 'homosexual_': 3}, 29914: {'age_1': 1, 'hometown_1': 2, 'ethnicity_1': 1, 'gender_1': 1, 'premaritalsex_': 3, 'euthanasia_': 3, 'deathpen_': 1, 'gaymarriage_': 3, 'marijuana_': 3, 'political_': 3, 'abortion_': 3, 'homosexual_': 3}, 52067: {'age_1': 1, 'hometown_1': 3, 'ethnicity_1': 1, 'gender_1': 1, 'premaritalsex_': 3, 'euthanasia_': 2, 'deathpen_': 3, 'gaymarriage_': 3, 'marijuana_': 3, 'political_': 2, 'abortion_': 2, 'homosexual_': 3}, 37617: {'age_1': 1, 'hometown_1': 1, 'ethnicity_1': 1, 'gender_1': 2, 'premaritalsex_': 1, 'euthanasia_': 1, 'deathpen_': 1, 'gaymarriage_': 1, 'marijuana_': 2, 'political_': 1, 'abortion_': 1, 'homosexual_': 1}, 30076: {'age_1': 1, 'hometown_1': 2, 'ethnicity_1': 1, 'gender_1': 1, 'premaritalsex_': 1, 'euthanasia_': 3, 'deathpen_': 1, 'gaymarriage_': 2, 'marijuana_': 1, 'political_': 2, 'abortion_': 1, 'homosexual_': 1}, 71700: {'age_1': 2, 'hometown_1': 1, 'ethnicity_1': 3, 'gender_1': 2, 'premaritalsex_': 1, 'euthanasia_': 1, 'deathpen_': 2, 'gaymarriage_': 1, 'marijuana_': 2, 'political_': 1, 'abortion_': 1, 'homosexual_': 1}, 19066: {'age_1': 1, 'hometown_1': 1, 'ethnicity_1': 1, 'gender_1': 2, 'premaritalsex_': 2, 'euthanasia_': 1, 'deathpen_': 2, 'gaymarriage_': 3, 'marijuana_': 1, 'political_': 1, 'abortion_': 1, 'homosexual_': 1}, 51675: {'age_1': 1, 'hometown_1': 1, 'ethnicity_1': 1, 'gender_1': 2, 'premaritalsex_': 1, 'euthanasia_': 1, 'deathpen_': 1, 'gaymarriage_': 1, 'marijuana_': 2, 'political_': 2, 'abortion_': 1, 'homosexual_': 1}, 63188: {'age_1': 1, 'hometown_1': 1, 'ethnicity_1': 4, 'gender_1': 1, 'premaritalsex_': 1, 'euthanasia_': 1, 'deathpen_': 1, 'gaymarriage_': 1, 'marijuana_': 1, 'political_': 3, 'abortion_': 1, 'homosexual_': 1}, 79877: {'age_1': 1, 'hometown_1': 2, 'ethnicity_1': 4, 'gender_1': 1, 'premaritalsex_': 3, 'euthanasia_': 3, 'deathpen_': 1, 'gaymarriage_': 3, 'marijuana_': 3, 'political_': 3, 'abortion_': 3, 'homosexual_': 3}, 14106: {'age_1': 2, 'hometown_1': 3, 'ethnicity_1': 1, 'gender_1': 1, 'premaritalsex_': 3, 'euthanasia_': 3, 'deathpen_': 2, 'gaymarriage_': 3, 'marijuana_': 1, 'political_': 1, 'abortion_': 3, 'homosexual_': 3}, 76313: {'age_1': 2, 'hometown_1': 2, 'ethnicity_1': 1, 'gender_1': 1, 'premaritalsex_': 3, 'euthanasia_': 3, 'deathpen_': 2, 'gaymarriage_': 3, 'marijuana_': 3, 'political_': 3, 'abortion_': 1, 'homosexual_': 3}, 82282: {'age_1': 1, 'hometown_1': 1, 'ethnicity_1': 3, 'gender_1': 2, 'premaritalsex_': 1, 'euthanasia_': 3, 'deathpen_': 1, 'gaymarriage_': 3, 'marijuana_': 1, 'political_': 2, 'abortion_': 1, 'homosexual_': 3}, 85596: {'age_1': 1, 'hometown_1': 1, 'ethnicity_1': 1, 'gender_1': 2, 'premaritalsex_': 1, 'euthanasia_': 1, 'deathpen_': 1, 'gaymarriage_': 1, 'marijuana_': 1, 'political_': 1, 'abortion_': 1, 'homosexual_': 1}, 10060: {'age_1': 1, 'hometown_1': 2, 'ethnicity_1': 1, 'gender_1': 2, 'premaritalsex_': 1, 'euthanasia_': 3, 'deathpen_': 1, 'gaymarriage_': 3, 'marijuana_': 1, 'political_': 1, 'abortion_': 3, 'homosexual_': 3}, 75468: {'age_1': 1, 'hometown_1': 1, 'ethnicity_1': 1, 'gender_1': 1, 'premaritalsex_': 3, 'euthanasia_': 3, 'deathpen_': 1, 'gaymarriage_': 2, 'marijuana_': 3, 'political_': 2, 'abortion_': 3, 'homosexual_': 3}, 46021: {'age_1': 2, 'hometown_1': 1, 'ethnicity_1': 1, 'gender_1': 1, 'premaritalsex_': 3, 'euthanasia_': 3, 'deathpen_': 3, 'gaymarriage_': 3, 'marijuana_': 3, 'political_': 2, 'abortion_': 3, 'homosexual_': 3}, 23642: {'age_1': 1, 'hometown_1': 1, 'ethnicity_1': 1, 'gender_1': 2, 'premaritalsex_': 1, 'euthanasia_': 1, 'deathpen_': 3, 'gaymarriage_': 1, 'marijuana_': 1, 'political_': 1, 'abortion_': 1, 'homosexual_': 1}, 50869: {'age_1': 1, 'hometown_1': 2, 'ethnicity_1': 1, 'gender_1': 1, 'premaritalsex_': 1, 'euthanasia_': 3, 'deathpen_': 1, 'gaymarriage_': 1, 'marijuana_': 1, 'political_': 1, 'abortion_': 1, 'homosexual_': 1}, 68633: {'age_1': 1, 'hometown_1': 1, 'ethnicity_1': 4, 'gender_1': 2, 'premaritalsex_': 3, 'euthanasia_': 2, 'deathpen_': 1, 'gaymarriage_': 2, 'marijuana_': 1, 'political_': 2, 'abortion_': 1, 'homosexual_': 1}, 18420: {'age_1': 1, 'hometown_1': 1, 'ethnicity_1': 2, 'gender_1': 1, 'premaritalsex_': 2, 'euthanasia_': 1, 'deathpen_': 1, 'gaymarriage_': 3, 'marijuana_': 1, 'political_': 3, 'abortion_': 3, 'homosexual_': 3}, 68494: {'age_1': 1, 'hometown_1': 1, 'ethnicity_1': 4, 'gender_1': 2, 'premaritalsex_': 1, 'euthanasia_': 1, 'deathpen_': 1, 'gaymarriage_': 1, 'marijuana_': 1, 'political_': 1, 'abortion_': 1, 'homosexual_': 1}, 39783: {'age_1': 1, 'hometown_1': 2, 'ethnicity_1': 3, 'gender_1': 2, 'premaritalsex_': 1, 'euthanasia_': 2, 'deathpen_': 3, 'gaymarriage_': 1, 'marijuana_': 1, 'political_': 1, 'abortion_': 1, 'homosexual_': 1}, 21350: {'age_1': 1, 'hometown_1': 1, 'ethnicity_1': 1, 'gender_1': 2, 'premaritalsex_': 3, 'euthanasia_': 3, 'deathpen_': 2, 'gaymarriage_': 3, 'marijuana_': 3, 'political_': 3, 'abortion_': 3, 'homosexual_': 3}, 66404: {'age_1': 2, 'hometown_1': 2, 'ethnicity_1': 1, 'gender_1': 1, 'premaritalsex_': 3, 'euthanasia_': 3, 'deathpen_': 1, 'gaymarriage_': 1, 'marijuana_': 1, 'political_': 1, 'abortion_': 1, 'homosexual_': 1}, 85970: {'age_1': 1, 'hometown_1': 2, 'ethnicity_1': 1, 'gender_1': 2, 'premaritalsex_': 3, 'euthanasia_': 3, 'deathpen_': 1, 'gaymarriage_': 3, 'marijuana_': 1, 'political_': 1, 'abortion_': 1, 'homosexual_': 3}, 59367: {'age_1': 2, 'hometown_1': 2, 'ethnicity_1': 1, 'gender_1': 2, 'premaritalsex_': 3, 'euthanasia_': 3, 'deathpen_': 2, 'gaymarriage_': 3, 'marijuana_': 1, 'political_': 3, 'abortion_': 3, 'homosexual_': 3}, 13799: {'age_1': 2, 'hometown_1': 1, 'ethnicity_1': 1, 'gender_1': 2, 'premaritalsex_': 1, 'euthanasia_': 1, 'deathpen_': 1, 'gaymarriage_': 1, 'marijuana_': 1, 'political_': 1, 'abortion_': 1, 'homosexual_': 1}, 62560: {'age_1': 1, 'hometown_1': 1, 'ethnicity_1': 1, 'gender_1': 2, 'premaritalsex_': 3, 'euthanasia_': 3, 'deathpen_': 1, 'gaymarriage_': 3, 'marijuana_': 1, 'political_': 1, 'abortion_': 2, 'homosexual_': 3}, 16495: {'age_1': 2, 'hometown_1': 1, 'ethnicity_1': 1, 'gender_1': 2, 'premaritalsex_': 3, 'euthanasia_': 2, 'deathpen_': 2, 'gaymarriage_': 3, 'marijuana_': 3, 'political_': 3, 'abortion_': 3, 'homosexual_': 3}, 34853: {'age_1': 2, 'hometown_1': 1, 'ethnicity_1': 1, 'gender_1': 1, 'premaritalsex_': 3, 'euthanasia_': 3, 'deathpen_': 3, 'gaymarriage_': 3, 'marijuana_': 1, 'political_': 1, 'abortion_': 3, 'homosexual_': 3}, 67947: {'age_1': 2, 'hometown_1': 1, 'ethnicity_1': 2, 'gender_1': 1, 'premaritalsex_': 1, 'euthanasia_': 1, 'deathpen_': 1, 'gaymarriage_': 3, 'marijuana_': 1, 'political_': 1, 'abortion_': 1, 'homosexual_': 1}, 50709: {'age_1': 1, 'hometown_1': 1, 'ethnicity_1': 1, 'gender_1': 2, 'premaritalsex_': 3, 'euthanasia_': 2, 'deathpen_': 2, 'gaymarriage_': 3, 'marijuana_': 1, 'political_': 3, 'abortion_': 3, 'homosexual_': 3}, 70889: {'age_1': 1, 'hometown_1': 1, 'ethnicity_1': 1, 'gender_1': 2, 'premaritalsex_': 3, 'euthanasia_': 1, 'deathpen_': 3, 'gaymarriage_': 3, 'marijuana_': 1, 'political_': 3, 'abortion_': 3, 'homosexual_': 3}, 86727: {'age_1': 1, 'hometown_1': 1, 'ethnicity_1': 1, 'gender_1': 1, 'premaritalsex_': 1, 'euthanasia_': 2, 'deathpen_': 1, 'gaymarriage_': 1, 'marijuana_': 1, 'political_': 1, 'abortion_': 1, 'homosexual_': 1}, 45539: {'age_1': 2, 'hometown_1': 3, 'ethnicity_1': 1, 'gender_1': 1, 'premaritalsex_': 1, 'euthanasia_': 2, 'deathpen_': 1, 'gaymarriage_': 1, 'marijuana_': 1, 'political_': 1, 'abortion_': 1, 'homosexual_': 1}, 14188: {'age_1': 1, 'hometown_1': 3, 'ethnicity_1': 1, 'gender_1': 2, 'premaritalsex_': 3, 'euthanasia_': 3, 'deathpen_': 2, 'gaymarriage_': 3, 'marijuana_': 1, 'political_': 3, 'abortion_': 3, 'homosexual_': 3}, 89827: {'age_1': 2, 'hometown_1': 1, 'ethnicity_1': 1, 'gender_1': 1, 'premaritalsex_': 3, 'euthanasia_': 3, 'deathpen_': 2, 'gaymarriage_': 3, 'marijuana_': 2, 'political_': 3, 'abortion_': 3, 'homosexual_': 3}, 11692: {'age_1': 1, 'hometown_1': 1, 'ethnicity_1': 1, 'gender_1': 1, 'premaritalsex_': 3, 'euthanasia_': 3, 'deathpen_': 1, 'gaymarriage_': 1, 'marijuana_': 3, 'political_': 3, 'abortion_': 1, 'homosexual_': 1}, 82060: {'age_1': 2, 'hometown_1': 1, 'ethnicity_1': 4, 'gender_1': 1, 'premaritalsex_': 1, 'euthanasia_': 1, 'deathpen_': 1, 'gaymarriage_': 2, 'marijuana_': 1, 'political_': 1, 'abortion_': 1, 'homosexual_': 1}, 66754: {'age_1': 2, 'hometown_1': 2, 'ethnicity_1': 1, 'gender_1': 1, 'premaritalsex_': 3, 'euthanasia_': 2, 'deathpen_': 1, 'gaymarriage_': 2, 'marijuana_': 3, 'political_': 2, 'abortion_': 3, 'homosexual_': 2}, 66245: {'age_1': 1, 'hometown_1': 2, 'ethnicity_1': 3, 'gender_1': 2, 'premaritalsex_': 3, 'euthanasia_': 1, 'deathpen_': 1, 'gaymarriage_': 3, 'marijuana_': 1, 'political_': 3, 'abortion_': 1, 'homosexual_': 3}, 46654: {'age_1': 1, 'hometown_1': 1, 'ethnicity_1': 3, 'gender_1': 2, 'premaritalsex_': 3, 'euthanasia_': 1, 'deathpen_': 1, 'gaymarriage_': 1, 'marijuana_': 1, 'political_': 3, 'abortion_': 1, 'homosexual_': 1}, 32174: {'age_1': 1, 'hometown_1': 1, 'ethnicity_1': 1, 'gender_1': 1, 'premaritalsex_': 3, 'euthanasia_': 2, 'deathpen_': 1, 'gaymarriage_': 3, 'marijuana_': 3, 'political_': 3, 'abortion_': 1, 'homosexual_': 3}, 58909: {'age_1': 1, 'hometown_1': 1, 'ethnicity_1': 1, 'gender_1': 2, 'premaritalsex_': 3, 'euthanasia_': 3, 'deathpen_': 1, 'gaymarriage_': 3, 'marijuana_': 2, 'political_': 2, 'abortion_': 1, 'homosexual_': 3}, 25947: {'age_1': 1, 'hometown_1': 2, 'ethnicity_1': 1, 'gender_1': 1, 'premaritalsex_': 3, 'euthanasia_': 2, 'deathpen_': 1, 'gaymarriage_': 3, 'marijuana_': 1, 'political_': 1, 'abortion_': 1, 'homosexual_': 3}, 34250: {'age_1': 1, 'hometown_1': 2, 'ethnicity_1': 1, 'gender_1': 1, 'premaritalsex_': 3, 'euthanasia_': 3, 'deathpen_': 2, 'gaymarriage_': 2, 'marijuana_': 1, 'political_': 1, 'abortion_': 1, 'homosexual_': 1}, 18344: {'age_1': 1, 'hometown_1': 2, 'ethnicity_1': 4, 'gender_1': 2, 'premaritalsex_': 3, 'euthanasia_': 2, 'deathpen_': 2, 'gaymarriage_': 2, 'marijuana_': 2, 'political_': 2, 'abortion_': 2, 'homosexual_': 2}, 38823: {'age_1': 2, 'hometown_1': 2, 'ethnicity_1': 1, 'gender_1': 1, 'premaritalsex_': 3, 'euthanasia_': 1, 'deathpen_': 3, 'gaymarriage_': 1, 'marijuana_': 1, 'political_': 1, 'abortion_': 1, 'homosexual_': 1}, 22745: {'age_1': 2, 'hometown_1': 1, 'ethnicity_1': 4, 'gender_1': 2, 'premaritalsex_': 3, 'euthanasia_': 3, 'deathpen_': 1, 'gaymarriage_': 3, 'marijuana_': 3, 'political_': 3, 'abortion_': 3, 'homosexual_': 3}, 26127: {'age_1': 1, 'hometown_1': 1, 'ethnicity_1': 3, 'gender_1': 2, 'premaritalsex_': 1, 'euthanasia_': 2, 'deathpen_': 1, 'gaymarriage_': 1, 'marijuana_': 2, 'political_': 1, 'abortion_': 1, 'homosexual_': 1}, 38893: {'age_1': 2, 'hometown_1': 2, 'ethnicity_1': 1, 'gender_1': 2, 'premaritalsex_': 3, 'euthanasia_': 2, 'deathpen_': 3, 'gaymarriage_': 2, 'marijuana_': 1, 'political_': 1, 'abortion_': 1, 'homosexual_': 3}, 31372: {'age_1': 1, 'hometown_1': 1, 'ethnicity_1': 1, 'gender_1': 1, 'premaritalsex_': 3, 'euthanasia_': 3, 'deathpen_': 3, 'gaymarriage_': 2, 'marijuana_': 1, 'political_': 1, 'abortion_': 3, 'homosexual_': 3}, 68533: {'age_1': 1, 'hometown_1': 1, 'ethnicity_1': 1, 'gender_1': 1, 'premaritalsex_': 3, 'euthanasia_': 3, 'deathpen_': 2, 'gaymarriage_': 1, 'marijuana_': 1, 'political_': 1, 'abortion_': 1, 'homosexual_': 1}, 31583: {'age_1': 1, 'hometown_1': 2, 'ethnicity_1': 1, 'gender_1': 2, 'premaritalsex_': 3, 'euthanasia_': 1, 'deathpen_': 1, 'gaymarriage_': 1, 'marijuana_': 1, 'political_': 1, 'abortion_': 1, 'homosexual_': 3}, 49597: {'age_1': 1, 'hometown_1': 1, 'ethnicity_1': 4, 'gender_1': 1, 'premaritalsex_': 3, 'euthanasia_': 3, 'deathpen_': 3, 'gaymarriage_': 3, 'marijuana_': 1, 'political_': 3, 'abortion_': 3, 'homosexual_': 3}, 73303: {'age_1': 1, 'hometown_1': 1, 'ethnicity_1': 1, 'gender_1': 1, 'premaritalsex_': 3, 'euthanasia_': 2, 'deathpen_': 2, 'gaymarriage_': 3, 'marijuana_': 3, 'political_': 2, 'abortion_': 2, 'homosexual_': 3}, 46160: {'age_1': 1, 'hometown_1': 1, 'ethnicity_1': 1, 'gender_1': 2, 'premaritalsex_': 1, 'euthanasia_': 1, 'deathpen_': 1, 'gaymarriage_': 3, 'marijuana_': 1, 'political_': 1, 'abortion_': 1, 'homosexual_': 1}, 25544: {'age_1': 1, 'hometown_1': 1, 'ethnicity_1': 2, 'gender_1': 2, 'premaritalsex_': 1, 'euthanasia_': 3, 'deathpen_': 2, 'gaymarriage_': 3, 'marijuana_': 1, 'political_': 1, 'abortion_': 1, 'homosexual_': 1}, 51597: {'age_1': 1, 'hometown_1': 2, 'ethnicity_1': 1, 'gender_1': 1, 'premaritalsex_': 1, 'euthanasia_': 3, 'deathpen_': 2, 'gaymarriage_': 1, 'marijuana_': 1, 'political_': 1, 'abortion_': 1, 'homosexual_': 1}, 49294: {'age_1': 1, 'hometown_1': 2, 'ethnicity_1': 1, 'gender_1': 1, 'premaritalsex_': 1, 'euthanasia_': 2, 'deathpen_': 1, 'gaymarriage_': 1, 'marijuana_': 1, 'political_': 1, 'abortion_': 1, 'homosexual_': 1}, 51722: {'age_1': 1, 'hometown_1': 1, 'ethnicity_1': 1, 'gender_1': 2, 'premaritalsex_': 2, 'euthanasia_': 2, 'deathpen_': 2, 'gaymarriage_': 3, 'marijuana_': 2, 'political_': 2, 'abortion_': 1, 'homosexual_': 3}, 66052: {'age_1': 1, 'hometown_1': 1, 'ethnicity_1': 2, 'gender_1': 2, 'premaritalsex_': 3, 'euthanasia_': 3, 'deathpen_': 3, 'gaymarriage_': 2, 'marijuana_': 2, 'political_': 3, 'abortion_': 3, 'homosexual_': 3}, 53884: {'age_1': 1, 'hometown_1': 2, 'ethnicity_1': 1, 'gender_1': 1, 'premaritalsex_': 1, 'euthanasia_': 1, 'deathpen_': 1, 'gaymarriage_': 1, 'marijuana_': 1, 'political_': 1, 'abortion_': 1, 'homosexual_': 1}, 51552: {'age_1': 1, 'hometown_1': 1, 'ethnicity_1': 1, 'gender_1': 1, 'premaritalsex_': 3, 'euthanasia_': 3, 'deathpen_': 1, 'gaymarriage_': 1, 'marijuana_': 1, 'political_': 1, 'abortion_': 3, 'homosexual_': 3}, 80058: {'age_1': 1, 'hometown_1': 2, 'ethnicity_1': 1, 'gender_1': 1, 'premaritalsex_': 3, 'euthanasia_': 3, 'deathpen_': 1, 'gaymarriage_': 3, 'marijuana_': 2, 'political_': 3, 'abortion_': 1, 'homosexual_': 3}, 10281: {'age_1': 1, 'hometown_1': 1, 'ethnicity_1': 4, 'gender_1': 1, 'premaritalsex_': 3, 'euthanasia_': 1, 'deathpen_': 3, 'gaymarriage_': 1, 'marijuana_': 1, 'political_': 1, 'abortion_': 1, 'homosexual_': 1}, 45292: {'age_1': 1, 'hometown_1': 1, 'ethnicity_1': 1, 'gender_1': 2, 'premaritalsex_': 3, 'euthanasia_': 1, 'deathpen_': 2, 'gaymarriage_': 3, 'marijuana_': 3, 'political_': 3, 'abortion_': 3, 'homosexual_': 3}, 32899: {'age_1': 2, 'hometown_1': 1, 'ethnicity_1': 2, 'gender_1': 1, 'premaritalsex_': 1, 'euthanasia_': 1, 'deathpen_': 1, 'gaymarriage_': 2, 'marijuana_': 1, 'political_': 2, 'abortion_': 1, 'homosexual_': 2}, 26425: {'age_1': 1, 'hometown_1': 1, 'ethnicity_1': 1, 'gender_1': 1, 'premaritalsex_': 1, 'euthanasia_': 1, 'deathpen_': 1, 'gaymarriage_': 1, 'marijuana_': 2, 'political_': 1, 'abortion_': 1, 'homosexual_': 1}, 78911: {'age_1': 1, 'hometown_1': 2, 'ethnicity_1': 1, 'gender_1': 2, 'premaritalsex_': 3, 'euthanasia_': 3, 'deathpen_': 3, 'gaymarriage_': 3, 'marijuana_': 2, 'political_': 1, 'abortion_': 1, 'homosexual_': 3}, 23144: {'age_1': 1, 'hometown_1': 2, 'ethnicity_1': 1, 'gender_1': 1, 'premaritalsex_': 3, 'euthanasia_': 3, 'deathpen_': 3, 'gaymarriage_': 1, 'marijuana_': 1, 'political_': 1, 'abortion_': 1, 'homosexual_': 1}, 44520: {'age_1': 1, 'hometown_1': 1, 'ethnicity_1': 2, 'gender_1': 2, 'premaritalsex_': 3, 'euthanasia_': 3, 'deathpen_': 3, 'gaymarriage_': 1, 'marijuana_': 3, 'political_': 3, 'abortion_': 3, 'homosexual_': 3}, 50181: {'age_1': 2, 'hometown_1': 1, 'ethnicity_1': 4, 'gender_1': 1, 'premaritalsex_': 3, 'euthanasia_': 2, 'deathpen_': 2, 'gaymarriage_': 1, 'marijuana_': 1, 'political_': 2, 'abortion_': 1, 'homosexual_': 1}, 88175: {'age_1': 2, 'hometown_1': 3, 'ethnicity_1': 1, 'gender_1': 2, 'premaritalsex_': 1, 'euthanasia_': 2, 'deathpen_': 1, 'gaymarriage_': 2, 'marijuana_': 1, 'political_': 1, 'abortion_': 1, 'homosexual_': 1}, 63063: {'age_1': 2, 'hometown_1': 1, 'ethnicity_1': 1, 'gender_1': 1, 'premaritalsex_': 3, 'euthanasia_': 3, 'deathpen_': 1, 'gaymarriage_': 3, 'marijuana_': 3, 'political_': 2, 'abortion_': 3, 'homosexual_': 3}})"
      ]
     },
     "execution_count": 5,
     "metadata": {},
     "output_type": "execute_result"
    }
   ],
   "source": [
    "data[1].nodes.data()"
   ]
  },
  {
   "cell_type": "code",
   "execution_count": 6,
   "id": "existing-keyboard",
   "metadata": {},
   "outputs": [
    {
     "data": {
      "text/plain": [
       "{'ethnicity_1': {1, 2, 3, 4},\n",
       " 'deathpen_': {1, 2, 3},\n",
       " 'marijuana_': {1, 2, 3},\n",
       " 'political_': {1, 2, 3},\n",
       " 'hometown_1': {1, 2, 3},\n",
       " 'homosexual_': {1, 2, 3},\n",
       " 'premaritalsex_': {1, 2, 3},\n",
       " 'age_1': {1, 2},\n",
       " 'euthanasia_': {1, 2, 3},\n",
       " 'abortion_': {1, 2, 3},\n",
       " 'gender_1': {1, 2},\n",
       " 'gaymarriage_': {1, 2, 3}}"
      ]
     },
     "execution_count": 6,
     "metadata": {},
     "output_type": "execute_result"
    }
   ],
   "source": [
    "#creating list of attributes\n",
    "list_of_attributes = set([k for n in data[1].nodes for k in data[1].nodes[n].keys()])\n",
    "\n",
    "#creating possible attribute values\n",
    "attribute_values = dict((attribute, set() ) for attribute in list_of_attributes)\n",
    "\n",
    "for sem in range(1,7):\n",
    "    for node in data[sem].nodes():\n",
    "        for attribute in list_of_attributes:\n",
    "            attribute_values[attribute].add(data[sem].nodes[node][attribute])\n",
    "\n",
    "attribute_values\n",
    "\n",
    "#To apply PCA or other analysis on all attributes (i.e. including ethnicity) \n",
    "#one would have to create an attribute for each race, that is is_1, is_2 etc. \n",
    "#Because this attribute is not ordered. "
   ]
  },
  {
   "cell_type": "code",
   "execution_count": 7,
   "id": "functioning-valuable",
   "metadata": {},
   "outputs": [],
   "source": [
    "#creating table of attribute values\n",
    "attributes = dict((i, 0) for i in range(1,7))\n",
    "for i in range(1,7):\n",
    "    attributes[i] = np.zeros([len(data[i].nodes), len(list_of_attributes)])\n",
    "\n",
    "for sem in range(1,7):\n",
    "    for i, node in enumerate(data[sem].nodes()):\n",
    "        for j, attribute in enumerate(list_of_attributes):\n",
    "            attributes[sem][i,j] = data[sem].nodes[node][attribute]"
   ]
  },
  {
   "cell_type": "code",
   "execution_count": 8,
   "id": "magnetic-leeds",
   "metadata": {},
   "outputs": [
    {
     "data": {
      "text/plain": [
       "{1: array([[2., 3., 2., ..., 3., 2., 3.],\n",
       "        [2., 2., 3., ..., 2., 2., 1.],\n",
       "        [2., 3., 3., ..., 3., 1., 3.],\n",
       "        ...,\n",
       "        [4., 2., 1., ..., 1., 1., 1.],\n",
       "        [1., 1., 1., ..., 1., 2., 2.],\n",
       "        [1., 1., 3., ..., 3., 1., 3.]]),\n",
       " 2: array([[1., 1., 1., ..., 1., 1., 1.],\n",
       "        [1., 1., 1., ..., 1., 2., 1.],\n",
       "        [1., 2., 1., ..., 1., 2., 3.],\n",
       "        ...,\n",
       "        [1., 2., 1., ..., 1., 2., 3.],\n",
       "        [1., 3., 1., ..., 1., 1., 3.],\n",
       "        [3., 1., 1., ..., 2., 2., 3.]]),\n",
       " 3: array([[1., 1., 1., 2., 2., 3., 3., 1., 3., 3., 2., 3.],\n",
       "        [1., 1., 1., 1., 1., 1., 1., 1., 1., 1., 2., 1.],\n",
       "        [1., 1., 3., 2., 2., 1., 1., 2., 1., 1., 2., 2.],\n",
       "        [3., 3., 3., 3., 1., 3., 3., 1., 3., 1., 2., 3.],\n",
       "        [1., 1., 2., 1., 1., 3., 3., 2., 3., 3., 1., 3.],\n",
       "        [2., 1., 1., 2., 1., 1., 1., 1., 3., 3., 2., 3.],\n",
       "        [1., 1., 2., 1., 2., 3., 3., 1., 2., 1., 1., 3.],\n",
       "        [1., 1., 1., 3., 2., 3., 3., 2., 2., 3., 2., 3.],\n",
       "        [1., 1., 1., 1., 1., 3., 1., 1., 1., 1., 1., 1.],\n",
       "        [1., 1., 1., 1., 1., 1., 1., 2., 1., 1., 2., 1.],\n",
       "        [1., 2., 1., 1., 1., 2., 3., 1., 3., 2., 2., 3.],\n",
       "        [1., 1., 1., 1., 2., 3., 3., 1., 1., 1., 2., 1.],\n",
       "        [1., 3., 1., 1., 1., 1., 1., 1., 2., 1., 2., 1.],\n",
       "        [1., 1., 3., 1., 1., 1., 1., 1., 1., 1., 2., 3.],\n",
       "        [4., 3., 3., 1., 1., 1., 3., 1., 3., 1., 1., 2.],\n",
       "        [4., 1., 3., 3., 1., 3., 3., 1., 3., 3., 1., 3.],\n",
       "        [1., 1., 3., 2., 1., 3., 3., 1., 2., 1., 2., 3.],\n",
       "        [1., 1., 3., 3., 2., 3., 3., 1., 3., 3., 1., 3.],\n",
       "        [1., 1., 3., 1., 1., 2., 1., 1., 1., 1., 1., 2.],\n",
       "        [4., 1., 2., 3., 2., 3., 3., 1., 3., 3., 1., 3.],\n",
       "        [4., 1., 1., 3., 1., 3., 1., 1., 2., 1., 1., 3.],\n",
       "        [1., 1., 1., 1., 1., 3., 1., 1., 1., 1., 2., 1.],\n",
       "        [1., 2., 3., 3., 1., 3., 3., 2., 3., 2., 2., 3.],\n",
       "        [4., 1., 1., 1., 1., 2., 1., 1., 1., 1., 2., 2.],\n",
       "        [2., 1., 2., 3., 1., 3., 3., 2., 3., 3., 1., 3.],\n",
       "        [4., 1., 3., 2., 1., 2., 3., 2., 2., 1., 1., 2.],\n",
       "        [1., 1., 2., 3., 1., 3., 3., 2., 2., 1., 1., 3.],\n",
       "        [1., 2., 2., 1., 1., 2., 1., 1., 2., 1., 2., 2.],\n",
       "        [1., 1., 2., 2., 2., 3., 3., 1., 1., 1., 2., 3.],\n",
       "        [1., 1., 3., 3., 2., 3., 3., 2., 2., 3., 1., 3.],\n",
       "        [1., 2., 3., 3., 1., 3., 3., 2., 2., 3., 1., 3.],\n",
       "        [1., 2., 3., 2., 2., 3., 2., 2., 3., 2., 1., 2.],\n",
       "        [1., 1., 3., 2., 1., 3., 3., 2., 1., 1., 1., 3.],\n",
       "        [3., 2., 3., 2., 1., 1., 1., 2., 2., 1., 1., 1.],\n",
       "        [1., 3., 1., 1., 2., 2., 2., 1., 3., 1., 2., 3.],\n",
       "        [1., 3., 1., 1., 2., 3., 3., 2., 1., 1., 2., 2.],\n",
       "        [3., 1., 1., 1., 1., 2., 1., 1., 1., 1., 2., 1.],\n",
       "        [1., 1., 3., 1., 1., 1., 3., 1., 1., 1., 1., 3.],\n",
       "        [1., 3., 3., 1., 3., 3., 3., 1., 3., 3., 1., 3.],\n",
       "        [2., 3., 1., 1., 1., 3., 3., 1., 3., 3., 2., 3.],\n",
       "        [2., 2., 1., 1., 1., 2., 1., 1., 1., 1., 2., 1.],\n",
       "        [1., 3., 1., 1., 2., 1., 3., 1., 3., 1., 1., 1.],\n",
       "        [4., 2., 2., 3., 1., 3., 2., 2., 3., 2., 1., 3.],\n",
       "        [1., 1., 1., 3., 2., 1., 1., 1., 1., 2., 1., 3.],\n",
       "        [1., 1., 1., 3., 1., 3., 3., 1., 3., 1., 1., 3.],\n",
       "        [4., 1., 1., 2., 1., 1., 1., 1., 1., 1., 2., 1.],\n",
       "        [2., 1., 1., 2., 1., 3., 3., 1., 1., 3., 1., 3.],\n",
       "        [4., 2., 2., 2., 2., 2., 2., 1., 2., 2., 2., 2.],\n",
       "        [1., 1., 1., 1., 3., 1., 1., 2., 3., 1., 1., 1.],\n",
       "        [3., 1., 3., 3., 1., 3., 3., 1., 3., 3., 2., 3.],\n",
       "        [1., 1., 3., 1., 1., 3., 3., 1., 3., 3., 1., 1.],\n",
       "        [1., 1., 1., 2., 1., 3., 3., 1., 1., 1., 2., 3.],\n",
       "        [1., 1., 1., 3., 3., 3., 3., 1., 3., 3., 2., 3.],\n",
       "        [1., 3., 1., 1., 2., 1., 1., 1., 3., 1., 1., 1.],\n",
       "        [1., 1., 2., 1., 2., 1., 1., 1., 2., 1., 1., 2.],\n",
       "        [1., 3., 1., 1., 2., 1., 1., 2., 1., 1., 1., 1.],\n",
       "        [1., 1., 3., 2., 1., 3., 3., 2., 3., 1., 1., 3.],\n",
       "        [4., 1., 2., 1., 1., 2., 1., 2., 2., 1., 1., 2.],\n",
       "        [1., 1., 1., 2., 1., 1., 1., 1., 2., 1., 1., 1.],\n",
       "        [2., 1., 1., 1., 1., 1., 3., 2., 3., 1., 1., 2.],\n",
       "        [1., 1., 2., 3., 2., 3., 3., 1., 3., 3., 1., 3.],\n",
       "        [1., 1., 1., 1., 2., 1., 1., 1., 3., 1., 1., 1.],\n",
       "        [1., 1., 2., 1., 1., 3., 3., 1., 2., 1., 2., 3.],\n",
       "        [1., 1., 3., 2., 2., 3., 3., 1., 1., 1., 1., 3.],\n",
       "        [1., 2., 3., 1., 2., 2., 3., 2., 2., 1., 1., 2.],\n",
       "        [1., 2., 3., 2., 1., 3., 3., 1., 3., 1., 1., 3.],\n",
       "        [4., 1., 1., 2., 1., 3., 1., 1., 1., 3., 1., 3.],\n",
       "        [3., 2., 1., 1., 2., 1., 1., 1., 2., 1., 2., 1.]]),\n",
       " 4: array([[1., 1., 1., ..., 1., 1., 1.],\n",
       "        [1., 1., 1., ..., 1., 2., 1.],\n",
       "        [1., 1., 3., ..., 1., 1., 3.],\n",
       "        ...,\n",
       "        [3., 1., 1., ..., 2., 2., 3.],\n",
       "        [1., 2., 1., ..., 1., 2., 3.],\n",
       "        [1., 1., 1., ..., 1., 1., 2.]]),\n",
       " 5: array([[1., 1., 1., ..., 3., 1., 2.],\n",
       "        [2., 2., 3., ..., 3., 2., 3.],\n",
       "        [1., 2., 2., ..., 1., 1., 2.],\n",
       "        ...,\n",
       "        [4., 1., 3., ..., 2., 1., 2.],\n",
       "        [1., 1., 1., ..., 1., 2., 3.],\n",
       "        [1., 1., 3., ..., 3., 1., 2.]]),\n",
       " 6: array([[1., 1., 3., 1., 2., 3., 3., 1., 3., 3., 2., 3.],\n",
       "        [1., 1., 1., 1., 1., 1., 1., 1., 1., 1., 2., 2.],\n",
       "        [3., 3., 3., 3., 1., 3., 3., 1., 3., 1., 2., 3.],\n",
       "        [1., 1., 1., 1., 2., 3., 1., 2., 1., 1., 2., 2.],\n",
       "        [1., 1., 3., 3., 1., 3., 3., 2., 3., 3., 1., 3.],\n",
       "        [1., 2., 3., 2., 2., 3., 3., 2., 3., 2., 1., 3.],\n",
       "        [1., 1., 3., 1., 1., 3., 3., 1., 3., 3., 1., 3.],\n",
       "        [1., 3., 1., 1., 2., 1., 3., 1., 3., 1., 1., 1.],\n",
       "        [1., 1., 1., 1., 2., 1., 1., 1., 3., 1., 1., 1.],\n",
       "        [1., 1., 2., 1., 2., 3., 2., 1., 2., 1., 1., 3.],\n",
       "        [1., 1., 3., 1., 1., 1., 1., 1., 1., 1., 2., 3.],\n",
       "        [3., 2., 2., 3., 1., 3., 3., 1., 2., 3., 2., 3.],\n",
       "        [1., 1., 1., 1., 1., 1., 1., 2., 1., 1., 2., 1.],\n",
       "        [1., 1., 1., 1., 1., 1., 1., 1., 1., 1., 1., 1.],\n",
       "        [1., 1., 3., 2., 1., 3., 3., 1., 2., 1., 2., 3.],\n",
       "        [1., 1., 2., 3., 2., 3., 3., 2., 2., 3., 2., 3.],\n",
       "        [4., 1., 2., 3., 1., 3., 2., 1., 3., 1., 1., 3.],\n",
       "        [4., 1., 1., 2., 1., 2., 1., 1., 2., 1., 2., 2.],\n",
       "        [1., 1., 3., 2., 2., 3., 3., 1., 3., 3., 1., 3.],\n",
       "        [1., 1., 3., 3., 2., 3., 3., 2., 3., 3., 1., 3.],\n",
       "        [1., 1., 1., 1., 3., 1., 1., 2., 1., 1., 1., 1.],\n",
       "        [1., 1., 3., 2., 1., 1., 1., 1., 2., 1., 1., 2.],\n",
       "        [4., 3., 3., 3., 1., 3., 3., 1., 3., 1., 1., 3.],\n",
       "        [4., 1., 3., 3., 1., 3., 3., 1., 3., 3., 1., 3.],\n",
       "        [1., 2., 1., 3., 3., 3., 3., 1., 3., 3., 2., 3.],\n",
       "        [1., 1., 1., 1., 1., 2., 3., 1., 1., 3., 2., 3.],\n",
       "        [1., 1., 3., 3., 2., 3., 3., 1., 3., 3., 1., 3.],\n",
       "        [1., 1., 1., 3., 2., 1., 1., 1., 2., 2., 1., 2.],\n",
       "        [1., 2., 3., 3., 1., 3., 3., 2., 2., 3., 1., 3.],\n",
       "        [1., 1., 2., 1., 1., 3., 3., 1., 2., 1., 2., 3.],\n",
       "        [1., 2., 3., 1., 2., 3., 3., 1., 3., 3., 2., 3.],\n",
       "        [2., 1., 2., 3., 1., 3., 3., 2., 3., 3., 1., 3.],\n",
       "        [1., 2., 3., 3., 2., 3., 3., 2., 3., 2., 1., 3.],\n",
       "        [4., 2., 3., 2., 1., 2., 3., 2., 2., 1., 1., 2.],\n",
       "        [4., 1., 1., 2., 1., 1., 1., 1., 1., 1., 2., 1.],\n",
       "        [1., 3., 3., 1., 3., 3., 3., 1., 3., 3., 1., 3.],\n",
       "        [1., 1., 3., 1., 1., 3., 3., 1., 1., 1., 1., 3.],\n",
       "        [1., 1., 1., 2., 1., 1., 1., 1., 1., 1., 1., 1.],\n",
       "        [1., 3., 3., 2., 3., 3., 3., 1., 1., 2., 1., 3.],\n",
       "        [1., 2., 2., 1., 2., 2., 3., 1., 3., 1., 1., 2.],\n",
       "        [1., 3., 1., 1., 1., 1., 1., 1., 1., 1., 2., 1.],\n",
       "        [1., 1., 2., 1., 2., 1., 3., 2., 1., 1., 1., 3.],\n",
       "        [3., 2., 3., 2., 1., 2., 1., 2., 2., 1., 1., 2.],\n",
       "        [1., 2., 3., 3., 1., 3., 3., 2., 3., 2., 2., 3.],\n",
       "        [2., 3., 3., 2., 1., 3., 3., 1., 2., 3., 2., 3.],\n",
       "        [1., 1., 3., 3., 1., 3., 3., 2., 2., 3., 1., 3.],\n",
       "        [1., 3., 1., 1., 2., 1., 1., 1., 3., 1., 1., 1.],\n",
       "        [4., 2., 3., 2., 1., 3., 2., 2., 3., 2., 1., 3.],\n",
       "        [1., 1., 2., 1., 3., 3., 2., 2., 1., 1., 2., 2.],\n",
       "        [1., 1., 3., 3., 1., 3., 3., 1., 3., 3., 1., 3.],\n",
       "        [1., 1., 3., 2., 1., 3., 3., 2., 3., 2., 1., 3.],\n",
       "        [2., 2., 3., 3., 1., 3., 3., 1., 2., 1., 2., 2.],\n",
       "        [2., 1., 3., 3., 1., 3., 3., 1., 3., 3., 1., 3.],\n",
       "        [4., 1., 1., 2., 1., 1., 2., 1., 2., 1., 2., 2.],\n",
       "        [1., 1., 2., 1., 2., 1., 3., 1., 1., 1., 1., 3.],\n",
       "        [1., 3., 3., 3., 1., 3., 3., 1., 1., 1., 1., 3.],\n",
       "        [1., 1., 1., 1., 1., 3., 3., 1., 3., 1., 2., 3.],\n",
       "        [2., 1., 1., 1., 1., 1., 1., 1., 1., 1., 2., 1.],\n",
       "        [4., 2., 2., 2., 2., 3., 3., 1., 2., 2., 2., 3.],\n",
       "        [3., 2., 2., 1., 2., 2., 2., 1., 2., 1., 2., 2.],\n",
       "        [4., 3., 1., 3., 1., 3., 3., 1., 3., 3., 1., 3.],\n",
       "        [2., 3., 3., 3., 1., 3., 3., 1., 3., 3., 2., 3.],\n",
       "        [1., 2., 3., 1., 2., 3., 3., 1., 1., 1., 2., 1.]])}"
      ]
     },
     "execution_count": 8,
     "metadata": {},
     "output_type": "execute_result"
    }
   ],
   "source": [
    "attributes"
   ]
  },
  {
   "cell_type": "code",
   "execution_count": 9,
   "id": "korean-array",
   "metadata": {},
   "outputs": [],
   "source": [
    "import mca\n"
   ]
  },
  {
   "cell_type": "code",
   "execution_count": 10,
   "id": "complex-binary",
   "metadata": {},
   "outputs": [
    {
     "name": "stdout",
     "output_type": "stream",
     "text": [
      "    ethnicity_1  deathpen_  marijuana_  political_  hometown_1  homosexual_  \\\n",
      "0           2.0        3.0         2.0         1.0         1.0          3.0   \n",
      "1           2.0        2.0         3.0         1.0         1.0          2.0   \n",
      "2           2.0        3.0         3.0         3.0         1.0          1.0   \n",
      "3           2.0        1.0         2.0         3.0         1.0          3.0   \n",
      "4           2.0        2.0         1.0         2.0         1.0          3.0   \n",
      "..          ...        ...         ...         ...         ...          ...   \n",
      "93          1.0        3.0         1.0         1.0         2.0          1.0   \n",
      "94          2.0        3.0         3.0         3.0         1.0          3.0   \n",
      "95          4.0        2.0         1.0         2.0         1.0          1.0   \n",
      "96          1.0        1.0         1.0         1.0         3.0          1.0   \n",
      "97          1.0        1.0         3.0         2.0         1.0          3.0   \n",
      "\n",
      "    premaritalsex_  age_1  euthanasia_  abortion_  gender_1  gaymarriage_  \n",
      "0              3.0    1.0          3.0        3.0       2.0           3.0  \n",
      "1              2.0    1.0          2.0        2.0       2.0           1.0  \n",
      "2              3.0    1.0          3.0        3.0       1.0           3.0  \n",
      "3              3.0    2.0          1.0        3.0       1.0           3.0  \n",
      "4              3.0    2.0          1.0        3.0       1.0           2.0  \n",
      "..             ...    ...          ...        ...       ...           ...  \n",
      "93             3.0    1.0          3.0        1.0       1.0           1.0  \n",
      "94             3.0    1.0          3.0        3.0       2.0           1.0  \n",
      "95             3.0    2.0          2.0        1.0       1.0           1.0  \n",
      "96             1.0    2.0          2.0        1.0       2.0           2.0  \n",
      "97             3.0    2.0          3.0        3.0       1.0           3.0  \n",
      "\n",
      "[98 rows x 12 columns]\n"
     ]
    }
   ],
   "source": [
    "df = pd.DataFrame(data=attributes[1], columns=attribute_values)\n",
    "print(df)"
   ]
  },
  {
   "cell_type": "code",
   "execution_count": 11,
   "id": "brazilian-trustee",
   "metadata": {},
   "outputs": [
    {
     "name": "stdout",
     "output_type": "stream",
     "text": [
      "[0 0 0 0 0 0 0 0 0 0 0 0]\n"
     ]
    }
   ],
   "source": [
    "mca_counts = mca.MCA(df, ncols = len(attribute_values))\n",
    "# print(mca_counts.fs_r(1))\n",
    "print(mca_counts.L)"
   ]
  },
  {
   "cell_type": "markdown",
   "id": "injured-athletics",
   "metadata": {},
   "source": [
    "# PCA\n",
    "Trying simple PCA, although it is not recommended. To do it we need to remove categorical data first. "
   ]
  },
  {
   "cell_type": "code",
   "execution_count": 23,
   "id": "ongoing-prisoner",
   "metadata": {},
   "outputs": [
    {
     "name": "stdout",
     "output_type": "stream",
     "text": [
      "{'marijuana_', 'deathpen_', 'political_', 'homosexual_', 'premaritalsex_', 'euthanasia_', 'abortion_', 'gaymarriage_'}\n",
      "{1: array([[2., 3., 1., 3., 3., 3., 3., 3.],\n",
      "       [3., 2., 1., 2., 2., 2., 2., 1.],\n",
      "       [3., 3., 3., 1., 3., 3., 3., 3.],\n",
      "       [2., 1., 3., 3., 3., 1., 3., 3.],\n",
      "       [1., 2., 2., 3., 3., 1., 3., 2.],\n",
      "       [1., 1., 2., 1., 1., 3., 1., 1.],\n",
      "       [1., 2., 1., 2., 1., 1., 1., 2.],\n",
      "       [3., 2., 2., 1., 1., 2., 2., 2.],\n",
      "       [2., 1., 2., 3., 3., 3., 3., 3.],\n",
      "       [3., 1., 3., 3., 3., 1., 1., 3.],\n",
      "       [2., 1., 2., 1., 1., 3., 1., 1.],\n",
      "       [1., 1., 1., 1., 1., 1., 1., 2.],\n",
      "       [3., 1., 1., 3., 3., 2., 1., 3.],\n",
      "       [3., 1., 1., 2., 1., 1., 1., 1.],\n",
      "       [3., 3., 3., 3., 3., 3., 1., 3.],\n",
      "       [2., 1., 1., 2., 2., 3., 1., 1.],\n",
      "       [2., 2., 1., 1., 3., 2., 1., 1.],\n",
      "       [3., 3., 1., 1., 1., 3., 1., 1.],\n",
      "       [3., 2., 3., 3., 2., 3., 3., 3.],\n",
      "       [3., 1., 1., 1., 3., 3., 1., 3.],\n",
      "       [3., 3., 1., 3., 3., 3., 3., 3.],\n",
      "       [3., 1., 3., 3., 3., 3., 3., 3.],\n",
      "       [3., 1., 1., 3., 3., 3., 1., 3.],\n",
      "       [3., 1., 3., 3., 3., 3., 3., 3.],\n",
      "       [3., 3., 2., 3., 3., 2., 2., 3.],\n",
      "       [2., 1., 1., 1., 1., 1., 1., 1.],\n",
      "       [1., 1., 2., 1., 1., 3., 1., 2.],\n",
      "       [2., 2., 1., 1., 1., 1., 1., 1.],\n",
      "       [1., 2., 1., 1., 2., 1., 1., 3.],\n",
      "       [2., 1., 2., 1., 1., 1., 1., 1.],\n",
      "       [1., 1., 3., 1., 1., 1., 1., 1.],\n",
      "       [3., 1., 3., 3., 3., 3., 3., 3.],\n",
      "       [1., 2., 1., 3., 3., 3., 3., 3.],\n",
      "       [3., 2., 3., 3., 3., 3., 1., 3.],\n",
      "       [1., 1., 2., 3., 1., 3., 1., 3.],\n",
      "       [1., 1., 1., 1., 1., 1., 1., 1.],\n",
      "       [1., 1., 1., 3., 1., 3., 3., 3.],\n",
      "       [3., 1., 2., 3., 3., 3., 3., 2.],\n",
      "       [3., 3., 2., 3., 3., 3., 3., 3.],\n",
      "       [1., 3., 1., 1., 1., 1., 1., 1.],\n",
      "       [1., 1., 1., 1., 1., 3., 1., 1.],\n",
      "       [1., 1., 2., 1., 3., 2., 1., 2.],\n",
      "       [1., 1., 3., 3., 2., 1., 3., 3.],\n",
      "       [1., 1., 1., 1., 1., 1., 1., 1.],\n",
      "       [1., 3., 1., 1., 1., 2., 1., 1.],\n",
      "       [3., 2., 3., 3., 3., 3., 3., 3.],\n",
      "       [1., 1., 1., 1., 3., 3., 1., 1.],\n",
      "       [1., 1., 1., 3., 3., 3., 1., 3.],\n",
      "       [1., 2., 3., 3., 3., 3., 3., 3.],\n",
      "       [1., 1., 1., 1., 1., 1., 1., 1.],\n",
      "       [1., 1., 1., 3., 3., 3., 2., 3.],\n",
      "       [3., 2., 3., 3., 3., 2., 3., 3.],\n",
      "       [1., 3., 1., 3., 3., 3., 3., 3.],\n",
      "       [1., 1., 1., 1., 1., 1., 1., 3.],\n",
      "       [1., 2., 3., 3., 3., 2., 3., 3.],\n",
      "       [1., 3., 3., 3., 3., 1., 3., 3.],\n",
      "       [1., 1., 1., 1., 1., 2., 1., 1.],\n",
      "       [1., 1., 1., 1., 1., 2., 1., 1.],\n",
      "       [1., 2., 3., 3., 3., 3., 3., 3.],\n",
      "       [2., 2., 3., 3., 3., 3., 3., 3.],\n",
      "       [3., 1., 3., 1., 3., 3., 1., 1.],\n",
      "       [1., 1., 1., 1., 1., 1., 1., 2.],\n",
      "       [3., 1., 2., 2., 3., 2., 3., 2.],\n",
      "       [1., 1., 3., 3., 3., 1., 1., 3.],\n",
      "       [1., 1., 3., 1., 3., 1., 1., 1.],\n",
      "       [3., 1., 3., 3., 3., 2., 1., 3.],\n",
      "       [2., 1., 2., 3., 3., 3., 1., 3.],\n",
      "       [1., 1., 1., 3., 3., 2., 1., 3.],\n",
      "       [1., 2., 1., 1., 3., 3., 1., 2.],\n",
      "       [2., 2., 2., 2., 3., 2., 2., 2.],\n",
      "       [1., 3., 1., 1., 3., 1., 1., 1.],\n",
      "       [3., 1., 3., 3., 3., 3., 3., 3.],\n",
      "       [2., 1., 1., 1., 1., 2., 1., 1.],\n",
      "       [1., 3., 1., 3., 3., 2., 1., 2.],\n",
      "       [1., 3., 1., 3., 3., 3., 3., 2.],\n",
      "       [1., 2., 1., 1., 3., 3., 1., 1.],\n",
      "       [1., 1., 1., 3., 3., 1., 1., 1.],\n",
      "       [1., 3., 3., 3., 3., 3., 3., 3.],\n",
      "       [3., 2., 2., 3., 3., 2., 2., 3.],\n",
      "       [1., 1., 1., 1., 1., 1., 1., 3.],\n",
      "       [1., 2., 1., 1., 1., 3., 1., 3.],\n",
      "       [1., 2., 1., 1., 1., 3., 1., 1.],\n",
      "       [1., 1., 1., 1., 1., 2., 1., 1.],\n",
      "       [2., 2., 2., 3., 2., 2., 1., 3.],\n",
      "       [2., 3., 3., 3., 3., 3., 3., 2.],\n",
      "       [1., 1., 1., 1., 1., 1., 1., 1.],\n",
      "       [1., 1., 1., 3., 3., 3., 3., 1.],\n",
      "       [2., 1., 3., 3., 3., 3., 1., 3.],\n",
      "       [1., 3., 1., 1., 3., 1., 1., 1.],\n",
      "       [3., 2., 3., 3., 3., 1., 3., 3.],\n",
      "       [1., 1., 2., 2., 1., 1., 1., 2.],\n",
      "       [2., 1., 1., 1., 1., 1., 1., 1.],\n",
      "       [2., 3., 1., 3., 3., 3., 1., 3.],\n",
      "       [1., 3., 1., 1., 3., 3., 1., 1.],\n",
      "       [3., 3., 3., 3., 3., 3., 3., 1.],\n",
      "       [1., 2., 2., 1., 3., 2., 1., 1.],\n",
      "       [1., 1., 1., 1., 1., 2., 1., 2.],\n",
      "       [3., 1., 2., 3., 3., 3., 3., 3.]]), 2: array([[1., 1., 1., 1., 1., 3., 1., 1.],\n",
      "       [1., 1., 1., 1., 1., 1., 1., 1.],\n",
      "       [1., 2., 1., 3., 3., 3., 1., 3.],\n",
      "       [3., 3., 3., 3., 3., 3., 1., 3.],\n",
      "       [1., 2., 2., 1., 1., 2., 2., 1.],\n",
      "       [3., 1., 2., 3., 3., 1., 1., 3.],\n",
      "       [1., 1., 3., 3., 3., 3., 3., 3.],\n",
      "       [3., 3., 1., 3., 3., 3., 1., 3.],\n",
      "       [1., 1., 2., 1., 1., 1., 1., 1.],\n",
      "       [1., 3., 2., 3., 3., 3., 3., 3.],\n",
      "       [1., 1., 1., 1., 1., 1., 1., 1.],\n",
      "       [2., 1., 1., 1., 1., 1., 1., 1.],\n",
      "       [2., 2., 1., 2., 3., 3., 1., 1.],\n",
      "       [1., 1., 2., 3., 3., 1., 1., 1.],\n",
      "       [1., 3., 3., 1., 3., 3., 1., 1.],\n",
      "       [2., 2., 1., 3., 3., 3., 1., 3.],\n",
      "       [3., 1., 2., 3., 2., 3., 1., 3.],\n",
      "       [1., 1., 3., 3., 1., 1., 1., 1.],\n",
      "       [1., 1., 3., 3., 3., 3., 3., 3.],\n",
      "       [3., 1., 2., 1., 1., 1., 1., 2.],\n",
      "       [1., 1., 1., 1., 1., 1., 1., 1.],\n",
      "       [3., 3., 1., 3., 3., 3., 3., 3.],\n",
      "       [3., 1., 1., 1., 3., 3., 1., 3.],\n",
      "       [3., 1., 3., 3., 3., 3., 3., 3.],\n",
      "       [3., 1., 1., 3., 1., 2., 1., 2.],\n",
      "       [3., 1., 2., 3., 3., 3., 2., 3.],\n",
      "       [3., 2., 3., 3., 3., 2., 3., 3.],\n",
      "       [2., 1., 1., 1., 1., 1., 1., 3.],\n",
      "       [1., 3., 1., 1., 1., 2., 1., 1.],\n",
      "       [1., 1., 3., 1., 1., 2., 1., 3.],\n",
      "       [3., 1., 2., 3., 3., 3., 3., 3.],\n",
      "       [3., 1., 2., 3., 3., 1., 1., 3.],\n",
      "       [1., 3., 1., 1., 1., 3., 1., 1.],\n",
      "       [1., 1., 1., 1., 1., 1., 1., 2.],\n",
      "       [1., 1., 1., 2., 1., 1., 1., 2.],\n",
      "       [3., 3., 3., 3., 3., 3., 3., 3.],\n",
      "       [1., 1., 3., 3., 3., 3., 3., 3.],\n",
      "       [1., 1., 1., 3., 1., 2., 1., 3.],\n",
      "       [3., 1., 3., 3., 3., 1., 3., 3.],\n",
      "       [1., 3., 1., 1., 3., 3., 1., 1.],\n",
      "       [2., 2., 1., 3., 3., 3., 1., 3.],\n",
      "       [3., 1., 1., 3., 1., 3., 1., 3.],\n",
      "       [2., 1., 2., 1., 1., 1., 1., 1.],\n",
      "       [1., 1., 1., 1., 3., 3., 1., 2.],\n",
      "       [2., 1., 3., 3., 3., 3., 3., 3.],\n",
      "       [3., 1., 3., 3., 3., 1., 1., 3.],\n",
      "       [1., 1., 1., 2., 1., 1., 1., 3.],\n",
      "       [2., 1., 3., 3., 3., 2., 3., 3.],\n",
      "       [1., 1., 1., 1., 1., 3., 1., 2.],\n",
      "       [2., 1., 2., 3., 3., 2., 3., 3.],\n",
      "       [2., 2., 2., 2., 2., 2., 2., 2.],\n",
      "       [1., 1., 2., 2., 1., 1., 1., 2.],\n",
      "       [3., 2., 3., 3., 3., 3., 2., 3.],\n",
      "       [3., 2., 2., 3., 3., 3., 3., 3.],\n",
      "       [3., 2., 2., 3., 3., 1., 2., 3.],\n",
      "       [2., 1., 2., 3., 1., 3., 1., 3.],\n",
      "       [2., 2., 2., 1., 1., 1., 1., 1.],\n",
      "       [1., 2., 1., 1., 1., 2., 1., 2.],\n",
      "       [1., 1., 1., 3., 3., 3., 3., 2.],\n",
      "       [3., 1., 3., 3., 3., 3., 3., 3.],\n",
      "       [3., 2., 3., 3., 3., 2., 1., 3.],\n",
      "       [3., 1., 3., 3., 3., 2., 1., 3.],\n",
      "       [3., 1., 1., 3., 3., 3., 3., 3.],\n",
      "       [1., 1., 2., 3., 3., 3., 1., 1.],\n",
      "       [3., 1., 1., 3., 3., 1., 1., 1.],\n",
      "       [1., 1., 3., 3., 3., 3., 3., 3.],\n",
      "       [1., 2., 1., 1., 1., 2., 1., 1.],\n",
      "       [1., 1., 3., 3., 3., 1., 3., 3.],\n",
      "       [1., 1., 1., 1., 1., 1., 1., 3.],\n",
      "       [2., 1., 3., 3., 3., 1., 3., 3.],\n",
      "       [2., 1., 2., 2., 1., 1., 1., 1.],\n",
      "       [3., 1., 2., 3., 3., 2., 1., 3.],\n",
      "       [3., 1., 2., 3., 3., 3., 3., 3.],\n",
      "       [1., 3., 1., 1., 3., 1., 1., 2.],\n",
      "       [1., 1., 1., 1., 1., 2., 1., 1.],\n",
      "       [1., 3., 1., 3., 1., 1., 1., 2.],\n",
      "       [2., 2., 3., 3., 3., 3., 1., 3.],\n",
      "       [2., 2., 2., 2., 2., 2., 2., 2.],\n",
      "       [3., 1., 3., 3., 3., 3., 3., 3.],\n",
      "       [2., 1., 1., 1., 3., 3., 1., 1.],\n",
      "       [3., 1., 1., 3., 3., 2., 1., 3.],\n",
      "       [1., 1., 1., 3., 3., 1., 1., 3.],\n",
      "       [2., 1., 1., 3., 3., 2., 1., 1.],\n",
      "       [3., 2., 3., 3., 3., 3., 3., 3.],\n",
      "       [2., 2., 1., 3., 3., 3., 1., 3.],\n",
      "       [3., 2., 2., 3., 3., 2., 1., 1.],\n",
      "       [1., 2., 1., 3., 3., 1., 1., 3.],\n",
      "       [1., 3., 1., 3., 3., 3., 1., 3.],\n",
      "       [1., 1., 3., 3., 2., 2., 2., 3.]]), 3: array([[1., 1., 2., 3., 3., 3., 3., 3.],\n",
      "       [1., 1., 1., 1., 1., 1., 1., 1.],\n",
      "       [3., 1., 2., 1., 1., 1., 1., 2.],\n",
      "       [3., 3., 3., 3., 3., 3., 1., 3.],\n",
      "       [2., 1., 1., 3., 3., 3., 3., 3.],\n",
      "       [1., 1., 2., 1., 1., 3., 3., 3.],\n",
      "       [2., 1., 1., 3., 3., 2., 1., 3.],\n",
      "       [1., 1., 3., 3., 3., 2., 3., 3.],\n",
      "       [1., 1., 1., 3., 1., 1., 1., 1.],\n",
      "       [1., 1., 1., 1., 1., 1., 1., 1.],\n",
      "       [1., 2., 1., 2., 3., 3., 2., 3.],\n",
      "       [1., 1., 1., 3., 3., 1., 1., 1.],\n",
      "       [1., 3., 1., 1., 1., 2., 1., 1.],\n",
      "       [3., 1., 1., 1., 1., 1., 1., 3.],\n",
      "       [3., 3., 1., 1., 3., 3., 1., 2.],\n",
      "       [3., 1., 3., 3., 3., 3., 3., 3.],\n",
      "       [3., 1., 2., 3., 3., 2., 1., 3.],\n",
      "       [3., 1., 3., 3., 3., 3., 3., 3.],\n",
      "       [3., 1., 1., 2., 1., 1., 1., 2.],\n",
      "       [2., 1., 3., 3., 3., 3., 3., 3.],\n",
      "       [1., 1., 3., 3., 1., 2., 1., 3.],\n",
      "       [1., 1., 1., 3., 1., 1., 1., 1.],\n",
      "       [3., 2., 3., 3., 3., 3., 2., 3.],\n",
      "       [1., 1., 1., 2., 1., 1., 1., 2.],\n",
      "       [2., 1., 3., 3., 3., 3., 3., 3.],\n",
      "       [3., 1., 2., 2., 3., 2., 1., 2.],\n",
      "       [2., 1., 3., 3., 3., 2., 1., 3.],\n",
      "       [2., 2., 1., 2., 1., 2., 1., 2.],\n",
      "       [2., 1., 2., 3., 3., 1., 1., 3.],\n",
      "       [3., 1., 3., 3., 3., 2., 3., 3.],\n",
      "       [3., 2., 3., 3., 3., 2., 3., 3.],\n",
      "       [3., 2., 2., 3., 2., 3., 2., 2.],\n",
      "       [3., 1., 2., 3., 3., 1., 1., 3.],\n",
      "       [3., 2., 2., 1., 1., 2., 1., 1.],\n",
      "       [1., 3., 1., 2., 2., 3., 1., 3.],\n",
      "       [1., 3., 1., 3., 3., 1., 1., 2.],\n",
      "       [1., 1., 1., 2., 1., 1., 1., 1.],\n",
      "       [3., 1., 1., 1., 3., 1., 1., 3.],\n",
      "       [3., 3., 1., 3., 3., 3., 3., 3.],\n",
      "       [1., 3., 1., 3., 3., 3., 3., 3.],\n",
      "       [1., 2., 1., 2., 1., 1., 1., 1.],\n",
      "       [1., 3., 1., 1., 3., 3., 1., 1.],\n",
      "       [2., 2., 3., 3., 2., 3., 2., 3.],\n",
      "       [1., 1., 3., 1., 1., 1., 2., 3.],\n",
      "       [1., 1., 3., 3., 3., 3., 1., 3.],\n",
      "       [1., 1., 2., 1., 1., 1., 1., 1.],\n",
      "       [1., 1., 2., 3., 3., 1., 3., 3.],\n",
      "       [2., 2., 2., 2., 2., 2., 2., 2.],\n",
      "       [1., 1., 1., 1., 1., 3., 1., 1.],\n",
      "       [3., 1., 3., 3., 3., 3., 3., 3.],\n",
      "       [3., 1., 1., 3., 3., 3., 3., 1.],\n",
      "       [1., 1., 2., 3., 3., 1., 1., 3.],\n",
      "       [1., 1., 3., 3., 3., 3., 3., 3.],\n",
      "       [1., 3., 1., 1., 1., 3., 1., 1.],\n",
      "       [2., 1., 1., 1., 1., 2., 1., 2.],\n",
      "       [1., 3., 1., 1., 1., 1., 1., 1.],\n",
      "       [3., 1., 2., 3., 3., 3., 1., 3.],\n",
      "       [2., 1., 1., 2., 1., 2., 1., 2.],\n",
      "       [1., 1., 2., 1., 1., 2., 1., 1.],\n",
      "       [1., 1., 1., 1., 3., 3., 1., 2.],\n",
      "       [2., 1., 3., 3., 3., 3., 3., 3.],\n",
      "       [1., 1., 1., 1., 1., 3., 1., 1.],\n",
      "       [2., 1., 1., 3., 3., 2., 1., 3.],\n",
      "       [3., 1., 2., 3., 3., 1., 1., 3.],\n",
      "       [3., 2., 1., 2., 3., 2., 1., 2.],\n",
      "       [3., 2., 2., 3., 3., 3., 1., 3.],\n",
      "       [1., 1., 2., 3., 1., 1., 3., 3.],\n",
      "       [1., 2., 1., 1., 1., 2., 1., 1.]]), 4: array([[1., 1., 1., 1., 1., 2., 1., 1.],\n",
      "       [1., 1., 1., 1., 1., 1., 1., 1.],\n",
      "       [3., 1., 1., 3., 3., 1., 1., 3.],\n",
      "       [1., 3., 1., 1., 1., 3., 3., 1.],\n",
      "       [1., 1., 3., 3., 1., 3., 1., 3.],\n",
      "       [2., 1., 3., 3., 3., 2., 3., 3.],\n",
      "       [2., 1., 1., 1., 3., 2., 1., 2.],\n",
      "       [3., 1., 3., 3., 3., 3., 1., 3.],\n",
      "       [2., 1., 2., 3., 2., 3., 1., 3.],\n",
      "       [2., 2., 1., 3., 3., 3., 1., 3.],\n",
      "       [3., 1., 1., 1., 1., 1., 1., 3.],\n",
      "       [1., 1., 1., 1., 1., 3., 1., 1.],\n",
      "       [1., 1., 1., 1., 1., 1., 1., 2.],\n",
      "       [3., 2., 3., 3., 3., 3., 3., 3.],\n",
      "       [2., 1., 1., 3., 1., 1., 1., 1.],\n",
      "       [1., 1., 1., 1., 1., 1., 1., 2.],\n",
      "       [1., 1., 1., 1., 1., 1., 1., 1.],\n",
      "       [2., 3., 3., 1., 3., 3., 1., 3.],\n",
      "       [3., 1., 3., 3., 1., 3., 3., 3.],\n",
      "       [1., 3., 1., 1., 1., 3., 1., 1.],\n",
      "       [1., 2., 1., 2., 1., 1., 1., 1.],\n",
      "       [1., 1., 3., 3., 3., 2., 3., 3.],\n",
      "       [1., 1., 3., 3., 2., 3., 1., 3.],\n",
      "       [3., 1., 3., 3., 3., 3., 3., 3.],\n",
      "       [3., 1., 1., 1., 1., 1., 1., 2.],\n",
      "       [3., 1., 2., 3., 3., 3., 3., 3.],\n",
      "       [1., 3., 3., 1., 3., 2., 3., 3.],\n",
      "       [1., 2., 1., 1., 1., 2., 1., 1.],\n",
      "       [2., 2., 2., 2., 1., 1., 1., 2.],\n",
      "       [2., 2., 2., 2., 1., 2., 1., 2.],\n",
      "       [2., 1., 2., 3., 3., 1., 1., 1.],\n",
      "       [1., 3., 1., 1., 3., 1., 1., 1.],\n",
      "       [3., 2., 2., 3., 3., 3., 3., 3.],\n",
      "       [3., 2., 3., 3., 3., 3., 2., 3.],\n",
      "       [1., 1., 1., 2., 1., 1., 1., 2.],\n",
      "       [2., 1., 3., 3., 3., 1., 1., 3.],\n",
      "       [2., 2., 1., 3., 1., 1., 1., 3.],\n",
      "       [1., 1., 3., 3., 3., 3., 1., 3.],\n",
      "       [3., 3., 1., 3., 3., 3., 3., 3.],\n",
      "       [1., 2., 1., 1., 1., 1., 1., 3.],\n",
      "       [2., 2., 2., 1., 1., 1., 1., 1.],\n",
      "       [3., 1., 3., 3., 3., 2., 2., 3.],\n",
      "       [1., 2., 1., 3., 3., 3., 3., 2.],\n",
      "       [3., 2., 3., 3., 3., 2., 3., 3.],\n",
      "       [3., 3., 1., 3., 3., 3., 3., 3.],\n",
      "       [3., 1., 1., 1., 3., 1., 1., 3.],\n",
      "       [1., 3., 1., 1., 1., 1., 1., 1.],\n",
      "       [3., 2., 3., 3., 3., 3., 1., 3.],\n",
      "       [2., 2., 1., 3., 3., 3., 1., 3.],\n",
      "       [1., 3., 1., 1., 1., 2., 1., 1.],\n",
      "       [2., 2., 3., 3., 2., 3., 2., 3.],\n",
      "       [3., 1., 1., 3., 3., 1., 2., 1.],\n",
      "       [2., 1., 2., 3., 3., 2., 3., 3.],\n",
      "       [3., 1., 3., 3., 2., 2., 2., 2.],\n",
      "       [1., 1., 1., 3., 3., 3., 3., 3.],\n",
      "       [3., 1., 1., 2., 1., 1., 1., 1.],\n",
      "       [1., 1., 1., 3., 3., 3., 1., 3.],\n",
      "       [3., 1., 1., 3., 3., 3., 3., 3.],\n",
      "       [1., 2., 1., 1., 1., 1., 1., 1.],\n",
      "       [1., 1., 1., 2., 1., 1., 1., 3.],\n",
      "       [2., 1., 3., 3., 3., 3., 3., 3.],\n",
      "       [2., 1., 2., 1., 1., 1., 1., 1.],\n",
      "       [2., 1., 1., 1., 1., 2., 1., 3.],\n",
      "       [3., 2., 3., 3., 3., 3., 2., 3.],\n",
      "       [1., 3., 1., 3., 3., 3., 1., 3.],\n",
      "       [1., 2., 1., 3., 3., 1., 1., 3.],\n",
      "       [1., 1., 3., 3., 3., 3., 3., 3.],\n",
      "       [3., 3., 2., 2., 3., 3., 3., 3.],\n",
      "       [1., 1., 3., 3., 3., 1., 3., 3.],\n",
      "       [3., 2., 1., 2., 1., 2., 1., 1.],\n",
      "       [1., 1., 2., 1., 3., 1., 1., 3.],\n",
      "       [1., 1., 2., 1., 3., 2., 1., 2.],\n",
      "       [2., 1., 3., 2., 1., 1., 2., 3.],\n",
      "       [3., 3., 1., 3., 3., 3., 3., 3.],\n",
      "       [1., 1., 3., 3., 3., 2., 1., 2.],\n",
      "       [3., 2., 3., 3., 3., 2., 3., 3.],\n",
      "       [3., 2., 3., 3., 2., 3., 3., 3.],\n",
      "       [3., 3., 3., 3., 3., 3., 3., 3.],\n",
      "       [2., 2., 2., 2., 2., 2., 2., 2.],\n",
      "       [3., 1., 3., 3., 3., 2., 1., 2.],\n",
      "       [3., 1., 3., 3., 3., 3., 3., 3.],\n",
      "       [2., 1., 1., 1., 1., 2., 1., 2.],\n",
      "       [1., 3., 1., 3., 3., 1., 1., 3.],\n",
      "       [3., 3., 1., 3., 3., 3., 3., 3.],\n",
      "       [3., 2., 1., 3., 3., 3., 1., 3.],\n",
      "       [3., 2., 2., 3., 3., 3., 3., 3.],\n",
      "       [1., 1., 3., 3., 3., 2., 2., 3.],\n",
      "       [1., 2., 1., 3., 3., 3., 1., 3.],\n",
      "       [1., 1., 2., 1., 1., 2., 1., 2.]]), 5: array([[1., 1., 2., 3., 2., 2., 3., 2.],\n",
      "       [3., 2., 3., 3., 3., 2., 3., 3.],\n",
      "       [2., 2., 1., 3., 3., 2., 1., 2.],\n",
      "       [2., 1., 2., 3., 2., 2., 1., 3.],\n",
      "       [3., 1., 1., 1., 1., 1., 1., 3.],\n",
      "       [1., 3., 1., 1., 1., 2., 1., 1.],\n",
      "       [1., 3., 1., 1., 3., 3., 1., 1.],\n",
      "       [3., 1., 1., 3., 3., 2., 1., 3.],\n",
      "       [3., 3., 3., 3., 3., 3., 3., 3.],\n",
      "       [1., 1., 1., 2., 1., 1., 1., 2.],\n",
      "       [3., 1., 1., 3., 3., 3., 3., 2.],\n",
      "       [3., 2., 3., 3., 3., 2., 3., 3.],\n",
      "       [2., 3., 3., 1., 1., 3., 1., 3.],\n",
      "       [3., 1., 3., 3., 3., 1., 3., 3.],\n",
      "       [1., 1., 1., 1., 1., 1., 1., 1.],\n",
      "       [1., 1., 1., 1., 1., 1., 1., 1.],\n",
      "       [3., 2., 2., 2., 2., 2., 3., 2.],\n",
      "       [1., 1., 2., 1., 1., 1., 1., 1.],\n",
      "       [2., 1., 3., 3., 3., 2., 3., 3.],\n",
      "       [1., 1., 3., 3., 3., 2., 2., 3.],\n",
      "       [1., 1., 1., 1., 1., 1., 1., 1.],\n",
      "       [3., 1., 2., 3., 3., 3., 1., 3.],\n",
      "       [3., 2., 2., 3., 3., 3., 3., 2.],\n",
      "       [1., 1., 1., 1., 1., 1., 1., 1.],\n",
      "       [2., 1., 2., 3., 3., 3., 2., 3.],\n",
      "       [3., 1., 3., 3., 3., 3., 2., 3.],\n",
      "       [2., 1., 3., 3., 3., 2., 3., 3.],\n",
      "       [1., 1., 3., 3., 3., 2., 1., 3.],\n",
      "       [3., 2., 1., 2., 1., 2., 1., 2.],\n",
      "       [2., 1., 2., 3., 3., 2., 1., 1.],\n",
      "       [3., 2., 1., 3., 3., 3., 1., 3.],\n",
      "       [2., 1., 2., 3., 2., 3., 1., 3.],\n",
      "       [1., 2., 1., 3., 3., 3., 1., 3.],\n",
      "       [1., 2., 1., 1., 1., 1., 1., 2.],\n",
      "       [1., 3., 1., 1., 1., 3., 1., 1.],\n",
      "       [3., 1., 3., 3., 3., 3., 2., 3.],\n",
      "       [3., 1., 2., 3., 3., 3., 3., 3.],\n",
      "       [1., 1., 1., 3., 3., 3., 1., 3.],\n",
      "       [1., 1., 1., 3., 3., 1., 1., 1.],\n",
      "       [3., 3., 2., 3., 3., 2., 3., 3.],\n",
      "       [2., 2., 2., 2., 3., 2., 3., 2.],\n",
      "       [1., 1., 1., 2., 1., 2., 1., 2.],\n",
      "       [2., 2., 3., 2., 3., 2., 2., 3.],\n",
      "       [3., 1., 3., 3., 3., 2., 2., 3.],\n",
      "       [3., 1., 1., 1., 3., 1., 1., 3.],\n",
      "       [1., 3., 1., 3., 3., 3., 1., 3.],\n",
      "       [2., 1., 1., 3., 1., 2., 1., 2.],\n",
      "       [1., 1., 1., 1., 1., 3., 1., 1.],\n",
      "       [1., 1., 2., 1., 1., 2., 1., 2.],\n",
      "       [3., 1., 1., 1., 1., 1., 1., 2.],\n",
      "       [3., 3., 1., 3., 3., 3., 3., 3.],\n",
      "       [3., 3., 3., 3., 3., 3., 3., 1.],\n",
      "       [3., 2., 3., 3., 3., 3., 3., 3.],\n",
      "       [2., 1., 1., 1., 1., 2., 1., 2.],\n",
      "       [2., 2., 1., 2., 2., 2., 1., 2.],\n",
      "       [1., 3., 3., 3., 3., 3., 3., 3.],\n",
      "       [3., 2., 3., 3., 3., 3., 2., 3.],\n",
      "       [2., 2., 2., 2., 2., 2., 2., 2.],\n",
      "       [3., 1., 3., 3., 3., 3., 3., 3.],\n",
      "       [2., 1., 1., 2., 1., 1., 2., 2.],\n",
      "       [1., 1., 1., 2., 1., 1., 1., 2.],\n",
      "       [3., 2., 3., 3., 3., 3., 1., 3.],\n",
      "       [2., 2., 1., 1., 3., 2., 1., 1.],\n",
      "       [2., 1., 3., 2., 1., 3., 1., 3.],\n",
      "       [3., 2., 2., 3., 3., 1., 2., 3.],\n",
      "       [1., 1., 3., 3., 3., 3., 3., 3.],\n",
      "       [1., 2., 1., 3., 3., 1., 1., 3.],\n",
      "       [2., 1., 3., 3., 3., 3., 3., 3.],\n",
      "       [3., 1., 3., 1., 3., 1., 1., 2.],\n",
      "       [1., 2., 1., 1., 1., 1., 1., 1.],\n",
      "       [3., 1., 2., 3., 3., 1., 1., 3.],\n",
      "       [2., 1., 1., 1., 1., 1., 1., 2.],\n",
      "       [3., 2., 2., 3., 3., 2., 3., 3.],\n",
      "       [3., 2., 3., 2., 3., 3., 1., 2.],\n",
      "       [2., 1., 2., 3., 3., 1., 1., 3.],\n",
      "       [3., 3., 1., 3., 3., 3., 3., 3.],\n",
      "       [1., 1., 2., 2., 1., 2., 1., 2.],\n",
      "       [1., 1., 2., 1., 1., 1., 1., 1.],\n",
      "       [3., 2., 1., 3., 3., 3., 1., 3.],\n",
      "       [1., 3., 1., 3., 3., 3., 3., 3.],\n",
      "       [3., 1., 1., 3., 3., 2., 1., 3.],\n",
      "       [1., 1., 1., 1., 3., 1., 1., 3.],\n",
      "       [3., 1., 3., 1., 3., 2., 2., 2.],\n",
      "       [1., 1., 3., 3., 3., 2., 1., 3.],\n",
      "       [3., 1., 2., 3., 3., 3., 3., 2.]]), 6: array([[3., 1., 1., 3., 3., 3., 3., 3.],\n",
      "       [1., 1., 1., 1., 1., 1., 1., 2.],\n",
      "       [3., 3., 3., 3., 3., 3., 1., 3.],\n",
      "       [1., 1., 1., 3., 1., 1., 1., 2.],\n",
      "       [3., 1., 3., 3., 3., 3., 3., 3.],\n",
      "       [3., 2., 2., 3., 3., 3., 2., 3.],\n",
      "       [3., 1., 1., 3., 3., 3., 3., 3.],\n",
      "       [1., 3., 1., 1., 3., 3., 1., 1.],\n",
      "       [1., 1., 1., 1., 1., 3., 1., 1.],\n",
      "       [2., 1., 1., 3., 2., 2., 1., 3.],\n",
      "       [3., 1., 1., 1., 1., 1., 1., 3.],\n",
      "       [2., 2., 3., 3., 3., 2., 3., 3.],\n",
      "       [1., 1., 1., 1., 1., 1., 1., 1.],\n",
      "       [1., 1., 1., 1., 1., 1., 1., 1.],\n",
      "       [3., 1., 2., 3., 3., 2., 1., 3.],\n",
      "       [2., 1., 3., 3., 3., 2., 3., 3.],\n",
      "       [2., 1., 3., 3., 2., 3., 1., 3.],\n",
      "       [1., 1., 2., 2., 1., 2., 1., 2.],\n",
      "       [3., 1., 2., 3., 3., 3., 3., 3.],\n",
      "       [3., 1., 3., 3., 3., 3., 3., 3.],\n",
      "       [1., 1., 1., 1., 1., 1., 1., 1.],\n",
      "       [3., 1., 2., 1., 1., 2., 1., 2.],\n",
      "       [3., 3., 3., 3., 3., 3., 1., 3.],\n",
      "       [3., 1., 3., 3., 3., 3., 3., 3.],\n",
      "       [1., 2., 3., 3., 3., 3., 3., 3.],\n",
      "       [1., 1., 1., 2., 3., 1., 3., 3.],\n",
      "       [3., 1., 3., 3., 3., 3., 3., 3.],\n",
      "       [1., 1., 3., 1., 1., 2., 2., 2.],\n",
      "       [3., 2., 3., 3., 3., 2., 3., 3.],\n",
      "       [2., 1., 1., 3., 3., 2., 1., 3.],\n",
      "       [3., 2., 1., 3., 3., 3., 3., 3.],\n",
      "       [2., 1., 3., 3., 3., 3., 3., 3.],\n",
      "       [3., 2., 3., 3., 3., 3., 2., 3.],\n",
      "       [3., 2., 2., 2., 3., 2., 1., 2.],\n",
      "       [1., 1., 2., 1., 1., 1., 1., 1.],\n",
      "       [3., 3., 1., 3., 3., 3., 3., 3.],\n",
      "       [3., 1., 1., 3., 3., 1., 1., 3.],\n",
      "       [1., 1., 2., 1., 1., 1., 1., 1.],\n",
      "       [3., 3., 2., 3., 3., 1., 2., 3.],\n",
      "       [2., 2., 1., 2., 3., 3., 1., 2.],\n",
      "       [1., 3., 1., 1., 1., 1., 1., 1.],\n",
      "       [2., 1., 1., 1., 3., 1., 1., 3.],\n",
      "       [3., 2., 2., 2., 1., 2., 1., 2.],\n",
      "       [3., 2., 3., 3., 3., 3., 2., 3.],\n",
      "       [3., 3., 2., 3., 3., 2., 3., 3.],\n",
      "       [3., 1., 3., 3., 3., 2., 3., 3.],\n",
      "       [1., 3., 1., 1., 1., 3., 1., 1.],\n",
      "       [3., 2., 2., 3., 2., 3., 2., 3.],\n",
      "       [2., 1., 1., 3., 2., 1., 1., 2.],\n",
      "       [3., 1., 3., 3., 3., 3., 3., 3.],\n",
      "       [3., 1., 2., 3., 3., 3., 2., 3.],\n",
      "       [3., 2., 3., 3., 3., 2., 1., 2.],\n",
      "       [3., 1., 3., 3., 3., 3., 3., 3.],\n",
      "       [1., 1., 2., 1., 2., 2., 1., 2.],\n",
      "       [2., 1., 1., 1., 3., 1., 1., 3.],\n",
      "       [3., 3., 3., 3., 3., 1., 1., 3.],\n",
      "       [1., 1., 1., 3., 3., 3., 1., 3.],\n",
      "       [1., 1., 1., 1., 1., 1., 1., 1.],\n",
      "       [2., 2., 2., 3., 3., 2., 2., 3.],\n",
      "       [2., 2., 1., 2., 2., 2., 1., 2.],\n",
      "       [1., 3., 3., 3., 3., 3., 3., 3.],\n",
      "       [3., 3., 3., 3., 3., 3., 3., 3.],\n",
      "       [3., 2., 1., 3., 3., 1., 1., 1.]])}\n"
     ]
    }
   ],
   "source": [
    "\n",
    "ord_list_of_attributes = list_of_attributes - {'ethnicity_1', 'gender_1', 'hometown_1', 'age_1'}\n",
    "print(ord_list_of_attributes)\n",
    "\n",
    "#creating table of attribute values\n",
    "ord_attributes = dict((i, 0) for i in range(1,7))\n",
    "for i in range(1,7):\n",
    "    ord_attributes[i] = np.zeros([len(data[i].nodes), len(ord_list_of_attributes)])\n",
    "\n",
    "for sem in range(1,7):\n",
    "    for i, node in enumerate(data[sem].nodes()):\n",
    "        for j, attribute in enumerate(ord_list_of_attributes):\n",
    "            ord_attributes[sem][i,j] = data[sem].nodes[node][attribute]\n",
    "print(ord_attributes)"
   ]
  },
  {
   "cell_type": "code",
   "execution_count": 24,
   "id": "greater-greenhouse",
   "metadata": {},
   "outputs": [
    {
     "name": "stdout",
     "output_type": "stream",
     "text": [
      "[0.47  0.119 0.102 0.09  0.071 0.064 0.052 0.031]\n",
      "[17.116  8.624  7.989  7.469  6.658  6.332  5.67   4.396]\n"
     ]
    }
   ],
   "source": [
    "from sklearn.decomposition import PCA\n",
    "\n",
    "pca = PCA()\n",
    "pca.fit(ord_attributes[1])\n",
    "print(pca.explained_variance_ratio_)\n",
    "print(pca.singular_values_)"
   ]
  },
  {
   "cell_type": "code",
   "execution_count": 25,
   "id": "better-applicant",
   "metadata": {},
   "outputs": [
    {
     "data": {
      "text/plain": [
       "array([[-0.271, -0.13 , -0.324, -0.484, -0.418, -0.25 , -0.417, -0.399],\n",
       "       [-0.221,  0.653, -0.437, -0.092,  0.237,  0.468,  0.07 , -0.21 ],\n",
       "       [ 0.779, -0.074,  0.104, -0.285, -0.057,  0.425, -0.136, -0.305],\n",
       "       [-0.162, -0.528, -0.376,  0.177, -0.081,  0.578, -0.245,  0.35 ],\n",
       "       [-0.209, -0.083,  0.179, -0.106, -0.585,  0.298,  0.677, -0.131],\n",
       "       [-0.416, -0.318,  0.476, -0.16 ,  0.499,  0.237, -0.07 , -0.405],\n",
       "       [ 0.162, -0.375, -0.51 ,  0.273,  0.256, -0.222,  0.411, -0.464],\n",
       "       [ 0.046, -0.154, -0.183, -0.73 ,  0.321, -0.097,  0.333,  0.429]])"
      ]
     },
     "execution_count": 25,
     "metadata": {},
     "output_type": "execute_result"
    }
   ],
   "source": [
    "pca.components_"
   ]
  },
  {
   "cell_type": "markdown",
   "id": "hazardous-halifax",
   "metadata": {},
   "source": [
    "# Checking correlation for PCA transformed variables"
   ]
  },
  {
   "cell_type": "code",
   "execution_count": 26,
   "id": "black-tooth",
   "metadata": {},
   "outputs": [],
   "source": [
    "dcor_attributes = dict((i, 0) for i in range(1,7))\n",
    "\n",
    "dcor_attributes = dict((j, np.array([np.sum(pca.components_*ord_attributes[j][i],1) for i in range(0,len(ord_attributes[j]))])) for j in range(1,7))"
   ]
  },
  {
   "cell_type": "code",
   "execution_count": 27,
   "id": "crude-knife",
   "metadata": {},
   "outputs": [],
   "source": [
    "def get_transformed_attributes(agents, pca_comp = pca.components_):\n",
    "    agents = np.array(agents)\n",
    "#     if not hasattr(agents,  \"__len__\"):\n",
    "#         agents = [agents]\n",
    "    one_ag = False\n",
    "    if hasattr(agents,  \"shape\"):\n",
    "        if len(agents.shape) == 1:\n",
    "            agents = [agents]\n",
    "            one_ag = True\n",
    "    \n",
    "    transf = np.array([np.sum(pca.components_*agents[i],1) for i in range(0,len(agents))])\n",
    "    \n",
    "    if one_ag:\n",
    "        transf = transf[0]\n",
    "    return transf"
   ]
  },
  {
   "cell_type": "code",
   "execution_count": 28,
   "id": "integrated-triangle",
   "metadata": {},
   "outputs": [
    {
     "data": {
      "text/plain": [
       "array([-2.693,  0.469,  0.449, -0.285,  0.041, -0.156, -0.469, -0.035])"
      ]
     },
     "execution_count": 28,
     "metadata": {},
     "output_type": "execute_result"
    }
   ],
   "source": [
    "get_transformed_attributes(np.ones(8))"
   ]
  },
  {
   "cell_type": "code",
   "execution_count": 29,
   "id": "positive-broad",
   "metadata": {},
   "outputs": [
    {
     "data": {
      "text/plain": [
       "((98, 8),\n",
       " array([[ 1.876e+00,  2.495e+00, -6.157e+00, -6.553e-01,  6.625e-01,\n",
       "          2.041e+00, -2.375e+00, -8.219e-01],\n",
       "        [ 1.191e+00,  8.807e-01, -3.821e+00, -1.343e+00,  1.362e+00,\n",
       "          2.442e+00, -2.121e+00, -2.928e-01],\n",
       "        [ 1.857e+00,  1.472e+00, -5.341e+00,  2.158e-01,  8.628e-02,\n",
       "          3.274e+00, -4.369e+00,  1.469e-02],\n",
       "        [ 2.448e+00,  1.216e+00, -5.236e+00,  1.662e+00,  1.375e+00,\n",
       "          3.048e+00, -1.427e+00,  3.611e-01],\n",
       "        [ 2.349e+00,  2.490e+00, -4.563e+00,  6.489e-01,  1.304e+00,\n",
       "          2.145e+00, -1.218e+00,  5.100e-01],\n",
       "        [ 3.515e-01,  1.304e+00, -2.196e+00,  2.155e-01, -2.956e-01,\n",
       "          2.603e+00, -1.871e+00, -1.394e+00],\n",
       "        [ 2.109e+00,  9.538e-01, -3.023e+00, -2.989e-01, -8.548e-02,\n",
       "          1.107e+00, -9.139e-01, -5.913e-01],\n",
       "        [ 1.383e+00,  7.928e-02, -3.724e+00, -6.461e-01, -1.860e-01,\n",
       "          2.852e+00, -2.574e+00, -5.551e-02],\n",
       "        [ 1.137e+00,  1.791e+00, -5.865e+00,  9.015e-01,  1.071e+00,\n",
       "          3.001e+00, -1.792e+00, -9.614e-01],\n",
       "        [ 3.087e+00, -5.075e-02, -4.502e+00,  1.335e+00,  1.907e+00,\n",
       "          2.830e+00, -1.967e+00, -9.501e-01],\n",
       "        [ 3.846e-01,  6.517e-01, -2.465e+00, -1.923e-01,  3.762e-02,\n",
       "          2.950e+00, -2.189e+00, -1.350e+00],\n",
       "        [ 1.136e+00,  3.518e-01, -2.657e+00,  3.708e-01, -1.543e-01,\n",
       "          9.880e-01, -1.118e+00, -3.706e-01],\n",
       "        [ 1.854e+00,  1.718e-01, -5.139e+00,  2.064e-01,  1.937e+00,\n",
       "          1.763e+00, -1.807e+00, -1.717e+00],\n",
       "        [ 1.370e+00, -4.344e-01, -2.861e+00, -9.781e-01,  1.251e+00,\n",
       "          2.205e+00, -1.076e+00, -4.501e-01],\n",
       "        [ 3.285e+00,  1.315e+00, -4.993e+00,  1.520e-02,  9.525e-01,\n",
       "          3.212e+00, -3.371e+00, -1.992e+00],\n",
       "        [ 4.355e-01,  1.162e+00, -3.220e+00, -4.964e-01,  1.180e+00,\n",
       "          2.269e+00, -1.805e+00, -1.745e+00],\n",
       "        [ 1.075e+00,  1.324e+00, -2.938e+00, -4.188e-01,  1.483e+00,\n",
       "          1.322e+00, -2.977e+00, -6.879e-01],\n",
       "        [ 1.157e+00,  7.029e-01, -3.025e+00, -2.157e+00, -3.726e-02,\n",
       "          2.336e+00, -3.090e+00, -1.166e+00],\n",
       "        [ 2.092e+00,  1.230e+00, -5.743e+00,  1.281e-01,  3.300e-01,\n",
       "          4.148e+00, -2.290e+00, -7.425e-01],\n",
       "        [ 5.694e-01,  2.435e-02, -4.692e+00,  3.572e-01,  1.057e+00,\n",
       "          1.584e+00, -3.323e+00, -1.692e+00],\n",
       "        [ 1.909e+00,  1.842e+00, -6.425e+00, -1.063e+00,  9.957e-01,\n",
       "          2.388e+00, -2.693e+00, -7.780e-01],\n",
       "        [ 1.555e+00,  1.181e+00, -5.918e+00,  9.924e-01,  1.283e+00,\n",
       "          4.044e+00, -2.338e+00, -8.469e-01],\n",
       "        [ 1.391e+00,  4.809e-01, -5.346e+00,  7.575e-02,  1.724e+00,\n",
       "          2.088e+00, -2.104e+00, -2.343e+00],\n",
       "        [ 1.555e+00,  1.181e+00, -5.918e+00,  9.924e-01,  1.283e+00,\n",
       "          4.044e+00, -2.338e+00, -8.469e-01],\n",
       "        [ 3.060e+00,  1.269e+00, -5.502e+00, -3.933e-01,  1.187e+00,\n",
       "          2.476e+00, -2.735e+00, -7.590e-01],\n",
       "        [ 9.261e-01, -9.893e-03, -2.266e+00, -4.296e-01,  5.844e-01,\n",
       "          1.606e+00, -1.368e+00, -1.683e-01],\n",
       "        [ 5.947e-01,  1.013e+00, -2.855e+00,  6.082e-01, -7.011e-01,\n",
       "          2.331e+00, -1.939e+00, -1.552e+00],\n",
       "        [ 1.488e+00,  3.638e-01, -2.305e+00, -9.587e-01,  3.197e-01,\n",
       "          1.474e+00, -1.773e+00, -6.326e-02],\n",
       "        [ 1.966e+00,  7.598e-01, -3.568e+00,  5.698e-01, -1.365e-01,\n",
       "          3.461e-01, -2.046e+00, -4.232e-01],\n",
       "        [ 1.311e+00,  3.341e-02, -2.051e+00,  6.908e-02,  4.632e-01,\n",
       "          2.302e+00, -1.596e+00, -9.774e-02],\n",
       "        [ 1.663e+00,  7.295e-01, -1.568e+00,  9.756e-01,  8.730e-03,\n",
       "          2.650e+00, -1.506e+00, -7.106e-02],\n",
       "        [ 1.555e+00,  1.181e+00, -5.918e+00,  9.924e-01,  1.283e+00,\n",
       "          4.044e+00, -2.338e+00, -8.469e-01],\n",
       "        [ 1.281e+00,  2.774e+00, -5.851e+00,  2.815e-01,  5.939e-01,\n",
       "          1.826e+00, -1.651e+00, -9.709e-01],\n",
       "        [ 2.723e+00,  9.412e-01, -4.954e+00,  5.442e-01,  1.217e+00,\n",
       "          3.345e+00, -2.965e+00, -2.097e+00],\n",
       "        [ 1.659e+00,  1.179e+00, -4.168e+00,  7.195e-01, -4.395e-01,\n",
       "          2.564e+00, -7.885e-01, -2.362e+00],\n",
       "        [ 8.929e-01,  6.429e-01, -1.998e+00, -2.187e-02,  2.511e-01,\n",
       "          1.259e+00, -1.050e+00, -2.123e-01],\n",
       "        [ 6.685e-01,  1.749e+00, -5.385e+00,  1.400e-01, -5.175e-01,\n",
       "          2.434e+00, -3.387e-01, -1.077e+00],\n",
       "        [ 9.266e-01,  1.429e+00, -5.474e+00,  1.010e-01,  1.809e+00,\n",
       "          3.620e+00, -2.042e+00, -7.592e-01],\n",
       "        [ 2.294e+00,  1.885e+00, -6.210e+00, -5.643e-01,  8.745e-01,\n",
       "          3.083e+00, -2.921e+00, -7.074e-01],\n",
       "        [ 2.017e+00,  1.390e+00, -2.075e+00, -1.080e+00, -2.782e-01,\n",
       "          9.935e-01, -1.861e+00, -2.110e-03],\n",
       "        [-3.343e-02,  1.261e+00, -2.412e+00, -2.832e-01, -1.744e-01,\n",
       "          1.908e+00, -1.643e+00, -1.464e+00],\n",
       "        [ 1.108e+00,  1.355e+00, -3.075e+00,  1.409e+00,  8.877e-01,\n",
       "          1.532e+00, -2.550e+00, -9.247e-01],\n",
       "        [ 2.390e+00,  1.543e+00, -4.755e+00,  1.734e+00,  3.537e-01,\n",
       "          2.939e+00, -6.554e-01,  3.165e-01],\n",
       "        [ 8.929e-01,  6.429e-01, -1.998e+00, -2.187e-02,  2.511e-01,\n",
       "          1.259e+00, -1.050e+00, -2.123e-01],\n",
       "        [ 1.554e+00,  1.699e+00, -2.282e+00, -1.211e+00, -4.910e-01,\n",
       "          1.318e+00, -2.157e+00, -6.281e-01],\n",
       "        [ 2.117e+00,  1.555e+00, -5.956e+00,  4.634e-01,  1.018e+00,\n",
       "          3.911e+00, -2.744e+00, -7.418e-01],\n",
       "        [ 1.666e-02,  1.912e+00, -2.838e+00,  3.873e-01,  1.202e+00,\n",
       "          1.432e+00, -2.550e+00, -1.463e+00],\n",
       "        [ 1.325e+00,  1.786e+00, -4.810e+00,  8.913e-01,  1.058e+00,\n",
       "          1.393e+00, -1.468e+00, -2.431e+00],\n",
       "        [ 2.050e+00,  2.860e+00, -5.420e+00,  1.279e+00,  3.515e-01,\n",
       "          3.217e+00, -2.108e+00, -8.297e-01],\n",
       "        [ 8.929e-01,  6.429e-01, -1.998e+00, -2.187e-02,  2.511e-01,\n",
       "          1.259e+00, -1.050e+00, -2.123e-01],\n",
       "        [ 1.022e+00,  2.093e+00, -5.311e+00,  8.509e-01,  9.581e-01,\n",
       "          1.676e+00, -1.357e+00, -1.753e+00],\n",
       "        [ 2.580e+00,  1.246e+00, -5.750e+00,  5.941e-01,  1.231e+00,\n",
       "          3.587e+00, -2.447e+00, -1.159e-01],\n",
       "        [ 1.843e+00,  3.147e+00, -5.889e+00, -2.475e-01,  3.292e-01,\n",
       "          1.693e+00, -2.057e+00, -8.658e-01],\n",
       "        [ 1.379e+00,  6.079e-02, -3.316e+00,  7.636e-01, -5.598e-01,\n",
       "          7.167e-01, -1.186e+00, -5.290e-01],\n",
       "        [ 2.514e+00,  2.551e+00, -5.213e+00,  1.410e+00,  5.643e-01,\n",
       "          2.892e+00, -1.811e+00, -2.037e-01],\n",
       "        [ 3.539e+00,  2.616e+00, -5.045e+00,  1.011e+00,  5.124e-01,\n",
       "          2.435e+00, -1.920e+00,  5.273e-01],\n",
       "        [ 4.297e-01,  9.520e-01, -2.205e+00, -1.525e-01,  3.833e-02,\n",
       "          1.583e+00, -1.346e+00, -8.382e-01],\n",
       "        [ 4.297e-01,  9.520e-01, -2.205e+00, -1.525e-01,  3.833e-02,\n",
       "          1.583e+00, -1.346e+00, -8.382e-01],\n",
       "        [ 2.050e+00,  2.860e+00, -5.420e+00,  1.279e+00,  3.515e-01,\n",
       "          3.217e+00, -2.108e+00, -8.297e-01],\n",
       "        [ 2.084e+00,  2.208e+00, -5.688e+00,  8.712e-01,  6.848e-01,\n",
       "          3.564e+00, -2.426e+00, -7.858e-01],\n",
       "        [ 8.528e-01,  6.930e-01, -2.944e+00,  5.692e-01,  1.626e+00,\n",
       "          3.517e+00, -3.643e+00, -1.234e+00],\n",
       "        [ 1.136e+00,  3.518e-01, -2.657e+00,  3.708e-01, -1.543e-01,\n",
       "          9.880e-01, -1.118e+00, -3.706e-01],\n",
       "        [ 9.790e-01,  8.916e-01, -4.940e+00,  3.724e-01,  1.689e+00,\n",
       "          3.044e+00, -2.355e+00,  1.925e-01],\n",
       "        [ 3.021e+00,  1.255e+00, -3.966e+00,  2.150e+00,  1.241e+00,\n",
       "          2.135e+00, -1.331e+00, -1.038e+00],\n",
       "        [ 1.713e+00,  1.380e+00, -1.994e+00,  1.646e+00,  1.385e+00,\n",
       "          2.174e+00, -2.413e+00, -6.978e-02],\n",
       "        [ 2.624e+00,  2.584e-01, -4.709e+00,  1.204e+00,  1.695e+00,\n",
       "          3.154e+00, -2.263e+00, -1.576e+00],\n",
       "        [ 1.743e+00,  1.177e+00, -4.863e+00,  9.823e-01,  1.270e+00,\n",
       "          2.436e+00, -2.014e+00, -2.317e+00],\n",
       "        [ 1.788e+00,  1.477e+00, -4.603e+00,  1.022e+00,  1.270e+00,\n",
       "          1.069e+00, -1.171e+00, -1.805e+00],\n",
       "        [ 8.219e-01,  1.995e+00, -3.536e+00,  2.510e-01,  5.314e-01,\n",
       "          1.028e+00, -3.024e+00, -1.516e+00],\n",
       "        [ 1.811e+00,  1.611e+00, -4.210e+00,  2.915e-01,  1.190e+00,\n",
       "          2.281e+00, -2.553e+00, -4.239e-01],\n",
       "        [ 2.067e+00,  2.041e+00, -2.502e+00, -4.093e-01,  1.098e+00,\n",
       "          5.182e-01, -2.768e+00, -8.229e-04],\n",
       "        [ 1.555e+00,  1.181e+00, -5.918e+00,  9.924e-01,  1.283e+00,\n",
       "          4.044e+00, -2.338e+00, -8.469e-01],\n",
       "        [ 4.629e-01,  2.992e-01, -2.473e+00, -5.603e-01,  3.716e-01,\n",
       "          1.931e+00, -1.664e+00, -7.943e-01],\n",
       "        [ 2.669e+00,  2.516e+00, -4.021e+00, -4.287e-01,  1.147e+00,\n",
       "          1.075e+00, -1.914e+00, -1.437e+00],\n",
       "        [ 1.599e+00,  3.438e+00, -5.230e+00, -6.402e-01,  7.347e-01,\n",
       "          1.965e+00, -1.989e+00, -7.074e-01],\n",
       "        [ 5.787e-01,  2.286e+00, -2.877e+00, -1.417e-01,  9.369e-01,\n",
       "          1.299e+00, -2.956e+00, -1.358e+00],\n",
       "        [ 1.765e+00,  1.750e+00, -3.079e+00,  3.672e-01,  2.294e+00,\n",
       "          1.288e+00, -7.377e-01, -8.624e-01],\n",
       "        [ 2.612e+00,  3.234e+00, -5.459e+00,  7.500e-01,  8.682e-02,\n",
       "          3.084e+00, -2.513e+00, -7.246e-01],\n",
       "        [ 2.498e+00,  8.956e-01, -5.464e+00,  1.357e-01,  1.452e+00,\n",
       "          2.609e+00, -2.330e+00, -8.640e-01],\n",
       "        [ 1.379e+00,  6.079e-02, -3.316e+00,  7.636e-01, -5.598e-01,\n",
       "          7.167e-01, -1.186e+00, -5.290e-01],\n",
       "        [ 1.015e+00,  1.053e+00, -3.768e+00, -2.679e-02, -1.250e+00,\n",
       "          1.232e+00, -2.185e+00, -1.676e+00],\n",
       "        [ 5.286e-01,  1.635e+00, -2.450e+00, -8.122e-01, -4.391e-01,\n",
       "          1.775e+00, -2.048e+00, -1.359e+00],\n",
       "        [ 4.297e-01,  9.520e-01, -2.205e+00, -1.525e-01,  3.833e-02,\n",
       "          1.583e+00, -1.346e+00, -8.382e-01],\n",
       "        [ 2.743e+00,  9.161e-01, -4.481e+00,  2.487e-01,  5.299e-01,\n",
       "          2.216e+00, -1.669e+00, -1.586e+00],\n",
       "        [ 2.402e+00,  2.872e+00, -5.068e+00, -5.052e-02,  8.256e-01,\n",
       "          3.702e+00, -2.763e+00, -5.223e-01],\n",
       "        [ 8.929e-01,  6.429e-01, -1.998e+00, -2.187e-02,  2.511e-01,\n",
       "          1.259e+00, -1.050e+00, -2.123e-01],\n",
       "        [ 2.321e-01,  2.982e+00, -4.494e+00,  2.510e-02,  1.669e+00,\n",
       "          2.502e+00, -1.109e+00, -7.592e-01],\n",
       "        [ 2.128e+00,  1.220e+00, -4.648e+00,  1.481e+00,  1.149e+00,\n",
       "          3.131e+00, -2.242e+00, -2.246e+00],\n",
       "        [ 2.067e+00,  2.041e+00, -2.502e+00, -4.093e-01,  1.098e+00,\n",
       "          5.182e-01, -2.768e+00, -8.229e-04],\n",
       "        [ 3.043e+00,  9.366e-01, -5.543e+00,  7.247e-01,  1.444e+00,\n",
       "          3.263e+00, -2.151e+00,  5.101e-01],\n",
       "        [ 1.932e+00,  6.234e-01, -2.769e+00,  7.289e-01,  5.800e-02,\n",
       "          1.935e+00, -7.366e-01, -6.257e-01],\n",
       "        [ 9.261e-01, -9.893e-03, -2.266e+00, -4.296e-01,  5.844e-01,\n",
       "          1.606e+00, -1.368e+00, -1.683e-01],\n",
       "        [ 2.482e+00,  1.881e+00, -5.155e+00, -5.745e-01,  8.616e-01,\n",
       "          1.475e+00, -2.597e+00, -2.177e+00],\n",
       "        [ 1.141e+00,  2.659e+00, -2.915e+00, -6.707e-01,  6.722e-01,\n",
       "          1.166e+00, -3.361e+00, -1.253e+00],\n",
       "        [ 2.192e+00,  2.511e+00, -4.677e+00, -8.510e-01,  1.564e+00,\n",
       "          4.321e+00, -3.013e+00, -3.201e-01],\n",
       "        [ 1.427e+00,  2.020e+00, -2.455e+00,  4.877e-01,  1.028e+00,\n",
       "          1.670e+00, -2.887e+00, -6.612e-01],\n",
       "        [ 6.729e-01,  6.610e-01, -2.864e+00,  2.402e-01, -3.671e-01,\n",
       "          1.312e+00, -1.415e+00, -9.966e-01],\n",
       "        [ 1.170e+00,  1.138e+00, -6.133e+00,  4.937e-01,  1.404e+00,\n",
       "          3.349e+00, -2.110e+00, -9.175e-01]]))"
      ]
     },
     "execution_count": 29,
     "metadata": {},
     "output_type": "execute_result"
    }
   ],
   "source": [
    "dcor_attributes[1].shape, get_transformed_attributes(dcor_attributes[1])"
   ]
  },
  {
   "cell_type": "code",
   "execution_count": 30,
   "id": "configured-philadelphia",
   "metadata": {},
   "outputs": [
    {
     "data": {
      "text/plain": [
       "array([6, 1, 5, 7, 3, 0, 2, 4])"
      ]
     },
     "execution_count": 30,
     "metadata": {},
     "output_type": "execute_result"
    }
   ],
   "source": [
    "names = list()\n",
    "for j, attribute in enumerate(ord_list_of_attributes):\n",
    "#     print(attribute)\n",
    "    names.append(attribute[0:-1])\n",
    "\n",
    "indexes = np.argsort(names)\n",
    "indexes"
   ]
  },
  {
   "cell_type": "code",
   "execution_count": 31,
   "id": "contemporary-cambodia",
   "metadata": {},
   "outputs": [],
   "source": [
    "spr_cor, spr_pv = stats.spearmanr(dcor_attributes[1][:, indexes], axis=0)"
   ]
  },
  {
   "cell_type": "code",
   "execution_count": 32,
   "id": "voluntary-shape",
   "metadata": {},
   "outputs": [
    {
     "name": "stdout",
     "output_type": "stream",
     "text": [
      "[[ 1.    -0.02  -0.04   0.136  0.022  0.005  0.073 -0.079]\n",
      " [-0.02   1.     0.058 -0.021  0.039 -0.032 -0.042  0.013]\n",
      " [-0.04   0.058  1.    -0.003  0.033 -0.07  -0.019  0.115]\n",
      " [ 0.136 -0.021 -0.003  1.    -0.006 -0.057 -0.047 -0.045]\n",
      " [ 0.022  0.039  0.033 -0.006  1.     0.036 -0.004  0.042]\n",
      " [ 0.005 -0.032 -0.07  -0.057  0.036  1.    -0.089 -0.048]\n",
      " [ 0.073 -0.042 -0.019 -0.047 -0.004 -0.089  1.     0.037]\n",
      " [-0.079  0.013  0.115 -0.045  0.042 -0.048  0.037  1.   ]]\n",
      "[[0.    0.847 0.693 0.183 0.829 0.959 0.472 0.441]\n",
      " [0.847 0.    0.568 0.839 0.707 0.751 0.682 0.9  ]\n",
      " [0.693 0.568 0.    0.975 0.749 0.491 0.852 0.26 ]\n",
      " [0.183 0.839 0.975 0.    0.955 0.577 0.645 0.659]\n",
      " [0.829 0.707 0.749 0.955 0.    0.727 0.967 0.68 ]\n",
      " [0.959 0.751 0.491 0.577 0.727 0.    0.385 0.636]\n",
      " [0.472 0.682 0.852 0.645 0.967 0.385 0.    0.717]\n",
      " [0.441 0.9   0.26  0.659 0.68  0.636 0.717 0.   ]]\n"
     ]
    }
   ],
   "source": [
    "np.set_printoptions(precision=3)\n",
    "print(spr_cor)\n",
    "print(spr_pv)"
   ]
  },
  {
   "cell_type": "code",
   "execution_count": 33,
   "id": "entertaining-raleigh",
   "metadata": {},
   "outputs": [],
   "source": [
    "np.savetxt(\"sp_op_all_pairs_pca.csv\", spr_cor)"
   ]
  },
  {
   "cell_type": "markdown",
   "id": "latest-exploration",
   "metadata": {},
   "source": [
    "Using PCA variables show that they are decorrelated. So maybe we can use them to calculate polarities, triads etc. \n",
    "But as to calc each new attribute we get all old attributes with certain coefficients, won't the distance just be sum of coefficients for given old attribute times this attribute value?"
   ]
  },
  {
   "cell_type": "markdown",
   "id": "dutch-oliver",
   "metadata": {},
   "source": [
    "## Max difference of new attributes"
   ]
  },
  {
   "cell_type": "code",
   "execution_count": 34,
   "id": "economic-paper",
   "metadata": {},
   "outputs": [
    {
     "data": {
      "text/plain": [
       "0.6731593640729359"
      ]
     },
     "execution_count": 34,
     "metadata": {},
     "output_type": "execute_result"
    }
   ],
   "source": [
    "max_dif = abs(np.sum([3,3,3,3,3,3,3,3] * pca.components_[0]) - np.sum(np.ones(8) * pca.components_[0]))/8\n",
    "min_dif = 0\n",
    "max_dif"
   ]
  },
  {
   "cell_type": "code",
   "execution_count": 35,
   "id": "geographic-dealer",
   "metadata": {},
   "outputs": [
    {
     "data": {
      "text/plain": [
       "[-0.6731593640729359,\n",
       " 0.1171682874027372,\n",
       " 0.11214982538572432,\n",
       " -0.07132349966753418,\n",
       " 0.010223005331998925,\n",
       " -0.03907328540479906,\n",
       " -0.11729119229619517,\n",
       " -0.008659260277375583]"
      ]
     },
     "execution_count": 35,
     "metadata": {},
     "output_type": "execute_result"
    }
   ],
   "source": [
    "max_difs = [(np.sum(np.ones(8)*3 * pca.components_[i]) - np.sum(np.ones(8) * pca.components_[i]))/8 for i in range(0, len(pca.components_))]\n",
    "max_difs"
   ]
  },
  {
   "cell_type": "code",
   "execution_count": 36,
   "id": "mathematical-experiment",
   "metadata": {},
   "outputs": [
    {
     "data": {
      "text/plain": [
       "1.1490477198393005"
      ]
     },
     "execution_count": 36,
     "metadata": {},
     "output_type": "execute_result"
    }
   ],
   "source": [
    "sum(np.abs(max_difs))"
   ]
  },
  {
   "cell_type": "code",
   "execution_count": 46,
   "id": "given-efficiency",
   "metadata": {},
   "outputs": [
    {
     "data": {
      "text/plain": [
       "([0.6731593640729359,\n",
       "  0.5973368021543243,\n",
       "  0.5415389513500883,\n",
       "  0.623903212979862,\n",
       "  0.5668296735029926,\n",
       "  0.6450725898637426,\n",
       "  0.6680632035555414,\n",
       "  0.5734216963252282],\n",
       " 4.889325493804716)"
      ]
     },
     "execution_count": 46,
     "metadata": {},
     "output_type": "execute_result"
    }
   ],
   "source": [
    "max_difs2 = [(np.sum(np.abs(np.ones(8)*3 * pca.components_[i])) - np.sum(np.abs(np.ones(8) * pca.components_[i])))/8 for i in range(0, len(pca.components_))]\n",
    "max_difs2, sum(max_difs2)"
   ]
  },
  {
   "cell_type": "code",
   "execution_count": 47,
   "id": "independent-olympus",
   "metadata": {},
   "outputs": [],
   "source": [
    "def calc_distance(agent1, agent2, scale = 1):\n",
    "    return np.sum(np.abs(agent1-agent2)) / len(agent1) / scale\n",
    "\n",
    "def calc_distances(agents, scale = 1):\n",
    "    N, A = agents.shape\n",
    "    \n",
    "    distances = np.zeros([N,N])\n",
    "    \n",
    "    for i in range(0,N):\n",
    "        for j in range(i+1,N):\n",
    "            distances[i,j] = calc_distance(agents[i], agents[j], scale)\n",
    "            distances[j,i] = distances[i,j]\n",
    "    return distances\n"
   ]
  },
  {
   "cell_type": "code",
   "execution_count": 48,
   "id": "manual-interview",
   "metadata": {},
   "outputs": [
    {
     "data": {
      "text/plain": [
       "(1.9498109791002056, [(1, 3, 1, 3, 1, 1, 3, 1), (3, 1, 3, 1, 3, 3, 1, 3)])"
      ]
     },
     "execution_count": 48,
     "metadata": {},
     "output_type": "execute_result"
    }
   ],
   "source": [
    "import itertools\n",
    "\n",
    "vals = [1, 3]\n",
    "\n",
    "max_dif3 = 0\n",
    "max_vals = []\n",
    "\n",
    "repeat = 8\n",
    "\n",
    "# agents2 = [np.ones(repeat)]\n",
    "# agents2 = get_transformed_attributes(agents2)\n",
    "for agent1 in itertools.product(vals, repeat = repeat):\n",
    "    tr_agent1 = get_transformed_attributes(agent1)\n",
    "#     for agent2 in agents2: \n",
    "    for agent2 in itertools.product(vals, repeat = repeat):\n",
    "        tr_agent2 = get_transformed_attributes(agent2)\n",
    "        dif = calc_distance(tr_agent1, tr_agent2)\n",
    "        \n",
    "        if dif > max_dif3:\n",
    "            max_dif3 = dif\n",
    "            max_vals = [agent1, agent2]\n",
    "max_dif3, max_vals"
   ]
  },
  {
   "cell_type": "code",
   "execution_count": 49,
   "id": "strategic-excellence",
   "metadata": {},
   "outputs": [],
   "source": [
    "# def calc_max_dif()"
   ]
  },
  {
   "cell_type": "code",
   "execution_count": 50,
   "id": "perfect-extraction",
   "metadata": {},
   "outputs": [
    {
     "data": {
      "text/plain": [
       "1.1490477198393003"
      ]
     },
     "execution_count": 50,
     "metadata": {},
     "output_type": "execute_result"
    }
   ],
   "source": [
    "calc_distance(get_transformed_attributes(np.ones(8)*3), get_transformed_attributes(np.ones(8)))"
   ]
  },
  {
   "cell_type": "code",
   "execution_count": 51,
   "id": "potential-parish",
   "metadata": {},
   "outputs": [
    {
     "data": {
      "text/plain": [
       "(array([-8.078,  1.406,  1.346, -0.856,  0.123, -0.469, -1.407, -0.104]),\n",
       " (3, 3, 3, 3, 3, 3, 3, 3),\n",
       " array([-4.755,  1.733, -0.543, -1.475,  1.018, -1.252,  0.149, -1.136]))"
      ]
     },
     "execution_count": 51,
     "metadata": {},
     "output_type": "execute_result"
    }
   ],
   "source": [
    "get_transformed_attributes(agent1), agent1, get_transformed_attributes(max_vals[0])"
   ]
  },
  {
   "cell_type": "code",
   "execution_count": 52,
   "id": "unlimited-boston",
   "metadata": {},
   "outputs": [
    {
     "data": {
      "text/plain": [
       "(-0.6731593640729359, 8)"
      ]
     },
     "execution_count": 52,
     "metadata": {},
     "output_type": "execute_result"
    }
   ],
   "source": [
    "sum(pca.components_[0]*2)/8, len(get_transformed_attributes(np.ones(8)*3))"
   ]
  },
  {
   "cell_type": "code",
   "execution_count": 53,
   "id": "animated-third",
   "metadata": {},
   "outputs": [
    {
     "data": {
      "text/plain": [
       "Text(0, 0.5, 'Density')"
      ]
     },
     "execution_count": 53,
     "metadata": {},
     "output_type": "execute_result"
    },
    {
     "data": {
      "image/png": "[encoded data removed]",
      "text/plain": [
       "<Figure size 432x288 with 1 Axes>"
      ]
     },
     "metadata": {
      "needs_background": "light"
     },
     "output_type": "display_data"
    }
   ],
   "source": [
    "dists = calc_distances(dcor_attributes[1], max_dif3)\n",
    "\n",
    "plt.hist(dists.flatten(), density=True, edgecolor='black')\n",
    "plt.xlabel(\"Distance\")\n",
    "plt.ylabel(\"Density\")\n",
    "\n",
    "# plt.savefig(\"dd_pca.pdf\",dpi=600,bbox_inches='tight',format='pdf')"
   ]
  },
  {
   "cell_type": "code",
   "execution_count": null,
   "id": "little-tobacco",
   "metadata": {},
   "outputs": [],
   "source": [
    "np.where(np.max(dists) == dists), np.max(dists)"
   ]
  },
  {
   "cell_type": "code",
   "execution_count": null,
   "id": "color-devon",
   "metadata": {},
   "outputs": [],
   "source": [
    "transf_max_vals = get_transformed_attributes(max_vals)\n",
    "calc_distance(transf_max_vals[0], transf_max_vals[1])"
   ]
  },
  {
   "cell_type": "code",
   "execution_count": null,
   "id": "empirical-environment",
   "metadata": {},
   "outputs": [],
   "source": [
    "transf_max_vals, max_vals"
   ]
  },
  {
   "cell_type": "code",
   "execution_count": null,
   "id": "pretty-phenomenon",
   "metadata": {},
   "outputs": [],
   "source": [
    "ord_attributes[1][[53,79,94]], ord_list_of_attributes"
   ]
  },
  {
   "cell_type": "code",
   "execution_count": null,
   "id": "interim-species",
   "metadata": {},
   "outputs": [],
   "source": [
    "(dists <= 0.5)*2-1-np.eye(dists.shape[0])"
   ]
  },
  {
   "cell_type": "code",
   "execution_count": 41,
   "id": "cultural-latex",
   "metadata": {},
   "outputs": [],
   "source": [
    "def calc_link_polarity2(agent1, agent2, th, attr_dif = max_dif3):\n",
    "    return calc_distance(agent1, agent2, attr_dif) <= th\n",
    "\n",
    "def calc_link_polarities2(agents, th, attr_dif = max_dif3):\n",
    "    N, A = agents.shape\n",
    "    \n",
    "    polarities = (calc_distances(agents, attr_dif) <= th)*2 - 1 - np.eye(N)\n",
    "    \n",
    "    return polarities\n",
    "\n",
    "def balanced_triad_density(polarities):\n",
    "    N = polarities.shape[0]\n",
    "    return (np.sum(np.matmul(polarities,polarities) * polarities) / 6 / (N*(N-1)*(N-2)/6) + 1)/2"
   ]
  },
  {
   "cell_type": "code",
   "execution_count": 33,
   "id": "interpreted-bahrain",
   "metadata": {},
   "outputs": [
    {
     "name": "stderr",
     "output_type": "stream",
     "text": [
      "/tmp/ipykernel_12454/906345293.py:2: RuntimeWarning: divide by zero encountered in double_scalars\n",
      "  return np.sum(np.abs(agent1-agent2)) / len(agent1) / scale\n",
      "/tmp/ipykernel_12454/906345293.py:2: RuntimeWarning: invalid value encountered in double_scalars\n",
      "  return np.sum(np.abs(agent1-agent2)) / len(agent1) / scale\n"
     ]
    },
    {
     "data": {
      "text/plain": [
       "(0.0, 0.7293682937092363)"
      ]
     },
     "execution_count": 33,
     "metadata": {},
     "output_type": "execute_result"
    }
   ],
   "source": [
    "polarities = calc_link_polarities2(dcor_attributes[1], 0.5)\n",
    "pol2 = calc_link_polarities2(ord_attributes[1], 0.5, 2)\n",
    "balanced_triad_density(polarities), balanced_triad_density(pol2)"
   ]
  },
  {
   "cell_type": "code",
   "execution_count": 42,
   "id": "raised-mitchell",
   "metadata": {},
   "outputs": [],
   "source": [
    "def balanced_triad_density_network(polarities, triads):\n",
    "    T = len(triads)\n",
    "    dens = 0.\n",
    "    for triad in triads:\n",
    "        i, j, k = triad\n",
    "        if polarities[i,j]*polarities[i,k]*polarities[k,j] >= 0:\n",
    "            dens = dens + 1\n",
    "    dens = dens / T\n",
    "    return dens\n",
    "\n",
    "def get_triads_polarity(polarities, triads):\n",
    "    Ts = len(triads)\n",
    "    \n",
    "    t_pol = np.zeros(Ts) \n",
    "    t_pol_type = np.zeros(Ts)\n",
    "    \n",
    "    for t in range(0,Ts):\n",
    "        i, j, k = triads[t]\n",
    "        pols = [polarities[i,j], polarities[i,k], polarities[k,j]]\n",
    "        \n",
    "        t_pol_type[t] = 3-(sum(pols)+3)/2\n",
    "        \n",
    "        if polarities[i,j]*polarities[i,k]*polarities[k,j] >= 0:\n",
    "            t_pol[t] = 1\n",
    "        else:\n",
    "            t_pol[t] = -1\n",
    "    \n",
    "    return t_pol, t_pol_type\n",
    "\n",
    "def count_triads_types(polarities, triads):\n",
    "    t_pol, t_pol_type = get_triads_polarity(polarities, triads)\n",
    "    \n",
    "    t2 = np.array(t_pol_type)\n",
    "    triads_type = [sum(t2 == i) for i in range(0,4)]\n",
    "    \n",
    "    return triads_type\n"
   ]
  },
  {
   "cell_type": "code",
   "execution_count": 43,
   "id": "official-objective",
   "metadata": {},
   "outputs": [],
   "source": [
    "def get_triads(net):\n",
    "    A = nx.adjacency_matrix(net).todense() \n",
    "\n",
    "    N = A.shape[0]\n",
    "\n",
    "    triads = []\n",
    "\n",
    "    for i in range(0,N):\n",
    "        for j in range(i+1,N):\n",
    "            if A[i,j] > 0:\n",
    "                for k in range(j+1,N):\n",
    "                    if A[i,k] > 0 and A[j,k] > 0:\n",
    "                        triads.append((i,j,k))\n",
    "    \n",
    "    return triads\n",
    "\n",
    "def get_triads_strength(triads, net):\n",
    "    A = nx.adjacency_matrix(net).todense() \n",
    "\n",
    "    N = A.shape[0]\n",
    "    Ts = len(triads)\n",
    "    \n",
    "    s_mul = np.zeros(Ts) #multiplicative strength\n",
    "    s_add = np.zeros(Ts) #additive strength\n",
    "    \n",
    "    for t in range(0,Ts):\n",
    "        i, j, k = triads[t]\n",
    "        s_mul[t] = A[i,j] * A[i,k] * A[j,k]\n",
    "        s_add[t] = A[i,j] + A[i,k] + A[j,k]\n",
    "    \n",
    "    return s_mul, s_add"
   ]
  },
  {
   "cell_type": "code",
   "execution_count": 44,
   "id": "outside-interstate",
   "metadata": {},
   "outputs": [
    {
     "ename": "NameError",
     "evalue": "name 'calc_distances' is not defined",
     "output_type": "error",
     "traceback": [
      "\u001b[0;31m---------------------------------------------------------------------------\u001b[0m",
      "\u001b[0;31mNameError\u001b[0m                                 Traceback (most recent call last)",
      "Input \u001b[0;32mIn [44]\u001b[0m, in \u001b[0;36m<cell line: 4>\u001b[0;34m()\u001b[0m\n\u001b[1;32m      1\u001b[0m sem \u001b[38;5;241m=\u001b[39m \u001b[38;5;241m1\u001b[39m\n\u001b[1;32m      2\u001b[0m triads \u001b[38;5;241m=\u001b[39m get_triads(data[sem])\n\u001b[0;32m----> 4\u001b[0m polarities \u001b[38;5;241m=\u001b[39m \u001b[43mcalc_link_polarities2\u001b[49m\u001b[43m(\u001b[49m\u001b[43mdcor_attributes\u001b[49m\u001b[43m[\u001b[49m\u001b[43msem\u001b[49m\u001b[43m]\u001b[49m\u001b[43m,\u001b[49m\u001b[43m \u001b[49m\u001b[38;5;241;43m0.1\u001b[39;49m\u001b[43m)\u001b[49m\n\u001b[1;32m      6\u001b[0m balanced_triad_density_network(polarities, triads), balanced_triad_density(polarities)\n",
      "Input \u001b[0;32mIn [41]\u001b[0m, in \u001b[0;36mcalc_link_polarities2\u001b[0;34m(agents, th, attr_dif)\u001b[0m\n\u001b[1;32m      4\u001b[0m \u001b[38;5;28;01mdef\u001b[39;00m \u001b[38;5;21mcalc_link_polarities2\u001b[39m(agents, th, attr_dif \u001b[38;5;241m=\u001b[39m max_dif3):\n\u001b[1;32m      5\u001b[0m     N, A \u001b[38;5;241m=\u001b[39m agents\u001b[38;5;241m.\u001b[39mshape\n\u001b[0;32m----> 7\u001b[0m     polarities \u001b[38;5;241m=\u001b[39m (\u001b[43mcalc_distances\u001b[49m(agents, attr_dif) \u001b[38;5;241m<\u001b[39m\u001b[38;5;241m=\u001b[39m th)\u001b[38;5;241m*\u001b[39m\u001b[38;5;241m2\u001b[39m \u001b[38;5;241m-\u001b[39m \u001b[38;5;241m1\u001b[39m \u001b[38;5;241m-\u001b[39m np\u001b[38;5;241m.\u001b[39meye(N)\n\u001b[1;32m      9\u001b[0m     \u001b[38;5;28;01mreturn\u001b[39;00m polarities\n",
      "\u001b[0;31mNameError\u001b[0m: name 'calc_distances' is not defined"
     ]
    }
   ],
   "source": [
    "sem = 1\n",
    "triads = get_triads(data[sem])\n",
    "\n",
    "polarities = calc_link_polarities2(dcor_attributes[sem], 0.1)\n",
    "\n",
    "balanced_triad_density_network(polarities, triads), balanced_triad_density(polarities)"
   ]
  },
  {
   "cell_type": "code",
   "execution_count": 37,
   "id": "accompanied-newcastle",
   "metadata": {},
   "outputs": [
    {
     "name": "stderr",
     "output_type": "stream",
     "text": [
      "/tmp/ipykernel_12454/906345293.py:2: RuntimeWarning: divide by zero encountered in double_scalars\n",
      "  return np.sum(np.abs(agent1-agent2)) / len(agent1) / scale\n",
      "/tmp/ipykernel_12454/906345293.py:2: RuntimeWarning: invalid value encountered in double_scalars\n",
      "  return np.sum(np.abs(agent1-agent2)) / len(agent1) / scale\n"
     ]
    }
   ],
   "source": [
    "sem = 2\n",
    "triads = get_triads(data[sem])\n",
    "\n",
    "thetas = np.linspace(0,1,101)\n",
    "\n",
    "bals = np.zeros(len(thetas))\n",
    "all_bals = np.zeros(len(thetas))\n",
    "for i, theta in enumerate(thetas):\n",
    "    polarities = calc_link_polarities2(dcor_attributes[sem], theta)\n",
    "    bals[i] = balanced_triad_density_network(polarities, triads)\n",
    "    all_bals[i] = balanced_triad_density(polarities)\n"
   ]
  },
  {
   "cell_type": "code",
   "execution_count": 43,
   "id": "hired-indian",
   "metadata": {},
   "outputs": [
    {
     "data": {
      "text/plain": [
       "Text(0, 0.5, 'density of balanced triads')"
      ]
     },
     "execution_count": 43,
     "metadata": {},
     "output_type": "execute_result"
    },
    {
     "data": {
      "image/png": "[encoded data removed]",
      "text/plain": [
       "<Figure size 432x288 with 1 Axes>"
      ]
     },
     "metadata": {
      "needs_background": "light"
     },
     "output_type": "display_data"
    }
   ],
   "source": [
    "plt.plot(thetas, bals, thetas, all_bals)\n",
    "plt.legend([\"network\", \"all\"])\n",
    "plt.title(\"Comparing HBT in triads and all pairs of agents\")\n",
    "plt.xlabel(\"theta\")\n",
    "plt.ylabel(\"density of balanced triads\")"
   ]
  },
  {
   "cell_type": "code",
   "execution_count": 60,
   "id": "wrong-locking",
   "metadata": {},
   "outputs": [
    {
     "data": {
      "image/png": "[encoded data removed]",
      "text/plain": [
       "<Figure size 1440x720 with 6 Axes>"
      ]
     },
     "metadata": {
      "needs_background": "light"
     },
     "output_type": "display_data"
    }
   ],
   "source": [
    "dim1 = 2\n",
    "dim2 = 3\n",
    "thetas = np.linspace(0,1,101)\n",
    "\n",
    "fig, axs = plt.subplots(dim1, dim2)\n",
    "fig.set_size_inches(20,10)\n",
    "fig.suptitle(\"Comparing HBT in triads and all pairs of agents\")\n",
    "\n",
    "semm = 0\n",
    "for a1 in range(0,dim1):\n",
    "    for a2 in range(0,dim2):\n",
    "        semm = semm + 1\n",
    "        \n",
    "        triads = get_triads(data[semm])\n",
    "        \n",
    "        all_bals = np.zeros(len(thetas))\n",
    "        bals = np.zeros(len(thetas))\n",
    "        \n",
    "        for i, theta in enumerate(thetas):\n",
    "            polarities = calc_link_polarities2(dcor_attributes[semm], theta)\n",
    "            bals[i] = balanced_triad_density_network(polarities, triads)\n",
    "            all_bals[i] = balanced_triad_density(polarities)\n",
    "        \n",
    "        axs[a1, a2].set_title(\"sem=\" + str(semm))\n",
    "        axs[a1,a2].plot(thetas, bals, thetas, all_bals)\n",
    "        # plt.plot(thetas, rand_bals_mean)\n",
    "        axs[a1, a2].legend([\"triads\", \"all pairs\"])\n",
    "\n",
    "for ax in axs.flat:\n",
    "    ax.set(xlabel='theta', ylabel='density of balanced triads')\n",
    "\n",
    "# Hide x labels and tick labels for top plots and y ticks for right plots.\n",
    "for ax in axs.flat:\n",
    "    ax.label_outer()"
   ]
  },
  {
   "cell_type": "code",
   "execution_count": 199,
   "id": "stopped-organic",
   "metadata": {},
   "outputs": [
    {
     "data": {
      "text/plain": [
       "Text(0, 0.5, 'density of balanced triads')"
      ]
     },
     "execution_count": 199,
     "metadata": {},
     "output_type": "execute_result"
    },
    {
     "data": {
      "image/png": "[encoded data removed]",
      "text/plain": [
       "<Figure size 432x288 with 1 Axes>"
      ]
     },
     "metadata": {
      "needs_background": "light"
     },
     "output_type": "display_data"
    }
   ],
   "source": [
    "first_sem = 1\n",
    "last_sem = 6\n",
    "thetas = np.linspace(0,1,101)\n",
    "\n",
    "triads_all = [get_triads(data[semm]) for semm in range(1,last_sem+1)]\n",
    "triads_len = [len(x) for x in triads_all]\n",
    "triads_all_num = np.sum(triads_len[first_sem-1:last_sem])\n",
    "\n",
    "agents_len = [len(dcor_attributes[semm]) for semm in range(1,last_sem+1)]\n",
    "net_all_num = np.sum([N*(N-1)/2 for N in agents_len[first_sem-1:last_sem]])\n",
    "\n",
    "all_bals = np.zeros(len(thetas))\n",
    "bals = np.zeros(len(thetas))\n",
    "\n",
    "for semm in range(first_sem, last_sem+1):\n",
    "    triads = triads_all[semm-1]\n",
    "    N = agents_len[semm-1]\n",
    "            \n",
    "    for i, theta in enumerate(thetas):\n",
    "        polarities = calc_link_polarities2(dcor_attributes[semm], theta)\n",
    "        bals[i] = bals[i] + balanced_triad_density_network(polarities, triads) * triads_len[semm - 1]\n",
    "        \n",
    "        all_bals[i] = all_bals[i] + balanced_triad_density(polarities) * N*(N-1)/2\n",
    "\n",
    "bals = bals / triads_all_num\n",
    "all_bals = all_bals / net_all_num\n",
    "\n",
    "plt.plot(thetas, bals, thetas, all_bals)\n",
    "plt.legend([\"network\", \"all\"])\n",
    "plt.title(\"Comparing HBT in triads and all pairs of agents in all sems\")\n",
    "plt.xlabel(\"theta\")\n",
    "plt.ylabel(\"density of balanced triads\")"
   ]
  },
  {
   "cell_type": "code",
   "execution_count": 195,
   "id": "varied-azerbaijan",
   "metadata": {},
   "outputs": [
    {
     "data": {
      "text/plain": [
       "(15633.0, [98, 89, 68, 89, 85, 63], 16000.0)"
      ]
     },
     "execution_count": 195,
     "metadata": {},
     "output_type": "execute_result"
    }
   ],
   "source": [
    "\n",
    "agents_len = [len(dcor_attributes[semm]) for semm in range(1,last_sem+1)]\n",
    "triads_all_num = np.sum([N*(N-1)/2 for N in agents_len[first_sem-1:last_sem]])\n",
    "triads_all_num, agents_len, 80*80/2*5"
   ]
  },
  {
   "cell_type": "markdown",
   "id": "lesser-recycling",
   "metadata": {},
   "source": [
    "# Test whether density of balanced triads is above average\n",
    "\n",
    "One could take pairs of true balanced_density_in_triads and (e.g.) balanced_density_in_the_whole_network for different thetas and and check (Kruskal-Wallis) whether the value of balanced_density in these pairs is bigger for triads. \n",
    "\n",
    "The question above is whether this is a valid approach. \n",
    "\n",
    "I think about using similar approach is that maybe we cannot tell for a given threshold for all semesters that HBT is observable. Also we shouldn't use Holme-Bonferroni for a given semester (or alltogether here), because different tests are correlated. (imagine that for theta1 we have p_val = 0.01 and we can suppose that for values of theta close to theta1 it is still the same.)\n",
    "\n",
    "So my idea is that maybe looking at the whole curve we could tell that the curve for real data lies above (e.g. random) other data and that's why HBT is obervable. \n",
    "\n",
    "One idea is to use simple sign tes, that is for each pair get the result true_dens > rand_dens. \n",
    "But in all those tests (also in K-W) I have a problem with the resolution of pairs given? Maybe we should randomly generate M thetas from uniform random distribution and then get pairs. Then the problem could be with the range with theta close to 1, as we can see the curves do not differ too much, but then we could just remove such values or generate thetas from 0 to e.g. 0.8. \n",
    "\n",
    "Before doing above, I want to check the following. Let's randomize attributes and see how for such randomized attributes the density of balanced triads changes with theta. "
   ]
  },
  {
   "cell_type": "code",
   "execution_count": 120,
   "id": "governing-tuesday",
   "metadata": {},
   "outputs": [
    {
     "data": {
      "text/plain": [
       "Text(0, 0.5, 'density of balanced triads')"
      ]
     },
     "execution_count": 120,
     "metadata": {},
     "output_type": "execute_result"
    },
    {
     "data": {
      "image/png": "[encoded data removed]",
      "text/plain": [
       "<Figure size 432x288 with 1 Axes>"
      ]
     },
     "metadata": {
      "needs_background": "light"
     },
     "output_type": "display_data"
    }
   ],
   "source": [
    "sem = 1\n",
    "thetas = np.linspace(0,1,101)\n",
    "\n",
    "triads = get_triads(data[sem])\n",
    "\n",
    "bal_dens = np.zeros(len(thetas))\n",
    "bal_dens_rands = np.zeros(len(thetas))\n",
    "\n",
    "agents_rand = randomize_all_attributes(dcor_attributes[sem])\n",
    "\n",
    "for i, theta in enumerate(thetas):\n",
    "    polarities = calc_link_polarities2(dcor_attributes[sem], theta)\n",
    "    bal_dens[i] = balanced_triad_density_network(polarities, triads)\n",
    "    \n",
    "    polarities_rand = calc_link_polarities2(agents_rand, theta)\n",
    "    bal_dens_rands[i] = balanced_triad_density_network(polarities_rand, triads)\n",
    "\n",
    "plt.plot(thetas, bal_dens, thetas, bal_dens_rands)\n",
    "plt.legend([\"network\", \"random\"])\n",
    "plt.title(\"Comparing HBT in triads and after one randomization\")\n",
    "plt.xlabel(\"theta\")\n",
    "plt.ylabel(\"density of balanced triads\")"
   ]
  },
  {
   "cell_type": "code",
   "execution_count": 106,
   "id": "confirmed-excuse",
   "metadata": {},
   "outputs": [
    {
     "data": {
      "text/plain": [
       "(66.5, 59.83333333333333)"
      ]
     },
     "execution_count": 106,
     "metadata": {},
     "output_type": "execute_result"
    }
   ],
   "source": [
    "np.sum(bal_dens), np.sum(bal_dens_rands)"
   ]
  },
  {
   "cell_type": "code",
   "execution_count": 105,
   "id": "northern-hostel",
   "metadata": {},
   "outputs": [
    {
     "data": {
      "text/plain": [
       "[45, 26, 9, 26, 20, 12]"
      ]
     },
     "execution_count": 105,
     "metadata": {},
     "output_type": "execute_result"
    }
   ],
   "source": [
    "[len(get_triads(data[sem])) for sem in range(1,7)]"
   ]
  },
  {
   "cell_type": "markdown",
   "id": "warming-celtic",
   "metadata": {},
   "source": [
    "Spróbujmy policzyć proste pola pod krzywą i porównajmy przed i po randomizacji. "
   ]
  },
  {
   "cell_type": "code",
   "execution_count": 204,
   "id": "pleasant-excitement",
   "metadata": {},
   "outputs": [
    {
     "data": {
      "text/plain": [
       "(66.5,\n",
       " array([65.833, 53.25 , 55.25 , 57.333, 69.5  , 66.583, 63.667, 60.917,\n",
       "        55.667, 61.25 , 64.583, 62.083, 60.25 , 59.167, 64.167, 58.167,\n",
       "        55.667, 65.667, 64.167, 60.75 , 54.583, 56.417, 65.833, 62.75 ,\n",
       "        66.917, 61.917, 61.833, 58.25 , 61.583, 63.417, 60.583, 56.167,\n",
       "        61.083, 58.833, 54.5  , 62.917, 61.5  , 65.25 , 60.917, 62.417,\n",
       "        74.583, 60.583, 55.083, 64.333, 58.667, 59.583, 62.25 , 54.583,\n",
       "        55.667, 66.417, 59.417, 60.75 , 52.25 , 60.75 , 65.25 , 65.167,\n",
       "        56.583, 53.   , 58.333, 54.417, 64.583, 62.417, 57.667, 58.917,\n",
       "        65.333, 60.167, 63.333, 56.833, 64.5  , 63.583, 68.5  , 59.583,\n",
       "        60.5  , 54.583, 61.417, 60.5  , 56.5  , 61.25 , 59.917, 57.667,\n",
       "        56.333, 59.75 , 56.167, 57.167, 61.75 , 67.583, 67.083, 59.667,\n",
       "        63.   , 65.083, 66.417, 56.083, 60.417, 66.667, 56.333, 60.167,\n",
       "        59.917, 53.75 , 53.083, 66.083]))"
      ]
     },
     "execution_count": 204,
     "metadata": {},
     "output_type": "execute_result"
    }
   ],
   "source": [
    "sem = 6\n",
    "thetas = np.linspace(0,1,101)\n",
    "M = 100\n",
    "\n",
    "triads = get_triads(data[sem])\n",
    "\n",
    "bal_dens = np.zeros(len(thetas))\n",
    "\n",
    "for i, theta in enumerate(thetas):\n",
    "    polarities = calc_link_polarities2(dcor_attributes[sem], theta)\n",
    "    bal_dens[i] = balanced_triad_density_network(polarities, triads)\n",
    "    \n",
    "bal_dens_sum = np.sum(bal_dens)\n",
    "\n",
    "bal_dens_rands_sum = np.zeros(M)\n",
    "\n",
    "for j in range(0,M):\n",
    "    bal_dens_rands = np.zeros(len(thetas))\n",
    "    agents_rand = randomize_all_attributes(dcor_attributes[sem])\n",
    "\n",
    "    for i, theta in enumerate(thetas):    \n",
    "        polarities_rand = calc_link_polarities2(agents_rand, theta)\n",
    "        bal_dens_rands[i] = balanced_triad_density_network(polarities_rand, triads)\n",
    "    \n",
    "    bal_dens_rands_sum[j] = np.sum(bal_dens_rands)\n",
    "\n",
    "bal_dens_sum, bal_dens_rands_sum"
   ]
  },
  {
   "cell_type": "code",
   "execution_count": 205,
   "id": "stuck-stanley",
   "metadata": {},
   "outputs": [
    {
     "data": {
      "text/plain": [
       "(92, 92)"
      ]
     },
     "execution_count": 205,
     "metadata": {},
     "output_type": "execute_result"
    }
   ],
   "source": [
    "np.sum(bal_dens_sum > bal_dens_rands_sum), np.sum(bal_dens_sum >= bal_dens_rands_sum)"
   ]
  },
  {
   "cell_type": "code",
   "execution_count": 94,
   "id": "grand-perth",
   "metadata": {},
   "outputs": [
    {
     "name": "stdout",
     "output_type": "stream",
     "text": [
      "11:42:04 . Started analysis\n",
      "11:42:04 . Finished randomization of attributes. \n",
      "11:45:30 . Finished  20 % of randomized calculations.\n",
      "11:48:48 . Finished  40 % of randomized calculations.\n",
      "11:52:15 . Finished  61 % of randomized calculations.\n",
      "11:55:19 . Finished  80 % of randomized calculations.\n",
      "11:58:36 . Finished  100 % of randomized calculations.\n",
      "11:58:36 . Finished.\n"
     ]
    },
    {
     "data": {
      "text/plain": [
       "(0.0,\n",
       " array([7854., 8067., 7592., 7866., 8017., 8260., 7768., 8117., 8090.,\n",
       "        7907., 7908., 7699., 8188., 8300., 8405., 7692., 7742., 7997.,\n",
       "        8134., 7910., 8018., 8395., 8038., 8131., 7792., 7957., 7794.,\n",
       "        7912., 7973., 7764., 8167., 7683., 7994., 8053., 7945., 7744.,\n",
       "        8096., 7841., 8315., 7670., 8394., 7719., 7706., 8130., 8202.,\n",
       "        8535., 7811., 7613., 8033., 7653., 7624., 8389., 7984., 8374.,\n",
       "        7852., 8055., 7741., 8058., 8174., 7625., 8162., 7998., 8173.,\n",
       "        8149., 7975., 7947., 8086., 7871., 7728., 7721., 7807., 7956.,\n",
       "        7918., 8287., 7853., 7815., 7960., 7842., 7717., 7776., 7797.,\n",
       "        8102., 7630., 7842., 7794., 8106., 7806., 7743., 8227., 7900.,\n",
       "        7851., 8113., 8226., 8262., 7872., 7994., 7562., 8068., 7741.,\n",
       "        7742.]))"
      ]
     },
     "execution_count": 94,
     "metadata": {},
     "output_type": "execute_result"
    }
   ],
   "source": [
    "first_sem = 1\n",
    "last_sem = 6\n",
    "thetas = np.linspace(0,1,101)\n",
    "M = 100\n",
    "disp_every = 0.2\n",
    "generate_true_densities = False\n",
    "saved = False\n",
    "\n",
    "now = datetime.now()\n",
    "current_time = now.strftime(\"%H:%M:%S\")\n",
    "print(current_time, \". Started analysis\")\n",
    "\n",
    "triads_all = [get_triads(data[semm]) for semm in range(1,last_sem+1)]\n",
    "triads_len = [len(x) for x in triads_all]\n",
    "triads_all_num = np.sum(triads_len)\n",
    "\n",
    "bal_dens = np.zeros(len(thetas))\n",
    "\n",
    "bal_dens_rands_sum = np.zeros(M)\n",
    "attr_rands_M = [randomize_attribute_sets(dcor_attributes) for i in range(0,M)] \n",
    "\n",
    "now = datetime.now()\n",
    "current_time = now.strftime(\"%H:%M:%S\")\n",
    "print(current_time, \". Finished randomization of attributes. \")\n",
    "\n",
    "if generate_true_densities:\n",
    "    for semm in range(first_sem, last_sem+1):\n",
    "        triads = triads_all[semm-1]\n",
    "\n",
    "        for i, theta in enumerate(thetas):\n",
    "            polarities = calc_link_polarities2(dcor_attributes[semm], theta)\n",
    "            bal_dens[i] = bal_dens[i] + balanced_triad_density_network(polarities, triads) * triads_len[semm - 1]\n",
    "        \n",
    "    now = datetime.now()\n",
    "    current_time = now.strftime(\"%H:%M:%S\")\n",
    "    print(current_time, \". Finished calculating real-world balanced densities. \")\n",
    "    \n",
    "bal_dens_rands = np.zeros([M, len(thetas)])\n",
    "disp_every_printer = disp_every\n",
    "for j in range(0,M):  \n",
    "    for semm in range(first_sem, last_sem+1):\n",
    "        triads = triads_all[semm-1]\n",
    "        for i, theta in enumerate(thetas):    \n",
    "            polarities_rand = calc_link_polarities2(attr_rands_M[j][semm], theta)\n",
    "            bal_dens_rands[j][i] = bal_dens_rands[j][i] + balanced_triad_density_network(polarities_rand, triads) * triads_len[semm - 1]\n",
    "\n",
    "    bal_dens_rands_sum[j] = np.sum(bal_dens_rands[j])\n",
    "    \n",
    "    if (j+1) / M >= disp_every_printer:\n",
    "        now = datetime.now()\n",
    "\n",
    "        current_time = now.strftime(\"%H:%M:%S\")\n",
    "        print(current_time, \". Finished \", str(int((j+1)/M*100)), \"% of randomized calculations.\")\n",
    "        disp_every_printer += disp_every\n",
    "\n",
    "now = datetime.now()\n",
    "\n",
    "current_time = now.strftime(\"%H:%M:%S\")\n",
    "print(current_time, \". Finished.\")\n",
    "\n",
    "bal_dens_sum = np.sum(bal_dens)\n",
    "\n",
    "bal_dens = bal_dens / triads_all_num\n",
    "bal_dens_rands = bal_dens_rands / triads_all_num\n",
    "\n",
    "test_all_agents_terms_together_thetas = thetas\n",
    "test_all_agents_terms_together_bal_dens = bal_dens\n",
    "test_all_agents_terms_together_bal_dens_rands = bal_dens_rands\n",
    "\n",
    "bal_dens_sum, bal_dens_rands_sum\n",
    "\n",
    "# TODO: do poprawy powyzej. Zrobić, żeby była taka sama randomizacja wszystkich węzłów na raz we wszystkich semestrach. \n",
    "#     Obecnie jest to niezależne. \n"
   ]
  },
  {
   "cell_type": "code",
   "execution_count": 95,
   "id": "together-testing",
   "metadata": {},
   "outputs": [],
   "source": [
    "#open, add and save\n",
    "if not saved:\n",
    "    with open('PCA_C8_rand_results.pkl', 'rb') as file:\n",
    "\n",
    "        # Call load method to deserialze\n",
    "        old_data = pickle.load(file)\n",
    "\n",
    "\n",
    "\n",
    "    test_triads_C8_bal_dens_rands = np.concatenate((old_data[2], test_all_agents_terms_together_bal_dens_rands))\n",
    "\n",
    "    with open('PCA_C8_rand_results.pkl', 'wb') as file:\n",
    "\n",
    "        # A new file will be created\n",
    "        pickle.dump((old_data[0], old_data[1], test_triads_C8_bal_dens_rands), file) \n",
    "    saved = True"
   ]
  },
  {
   "cell_type": "code",
   "execution_count": 71,
   "id": "located-jamaica",
   "metadata": {},
   "outputs": [],
   "source": [
    "# #save, commented out not accidentally do it\n",
    "# with open('PCA_C8_rand_results.pkl', 'wb') as file:\n",
    "      \n",
    "#     # A new file will be created\n",
    "#     pickle.dump((test_all_agents_terms_together_thetas, test_all_agents_terms_together_bal_dens, test_all_agents_terms_together_bal_dens_rands), file)\n"
   ]
  },
  {
   "cell_type": "code",
   "execution_count": 38,
   "id": "removable-cradle",
   "metadata": {},
   "outputs": [
    {
     "name": "stdout",
     "output_type": "stream",
     "text": [
      "(array([0.  , 0.01, 0.02, 0.03, 0.04, 0.05, 0.06, 0.07, 0.08, 0.09, 0.1 ,\n",
      "       0.11, 0.12, 0.13, 0.14, 0.15, 0.16, 0.17, 0.18, 0.19, 0.2 , 0.21,\n",
      "       0.22, 0.23, 0.24, 0.25, 0.26, 0.27, 0.28, 0.29, 0.3 , 0.31, 0.32,\n",
      "       0.33, 0.34, 0.35, 0.36, 0.37, 0.38, 0.39, 0.4 , 0.41, 0.42, 0.43,\n",
      "       0.44, 0.45, 0.46, 0.47, 0.48, 0.49, 0.5 , 0.51, 0.52, 0.53, 0.54,\n",
      "       0.55, 0.56, 0.57, 0.58, 0.59, 0.6 , 0.61, 0.62, 0.63, 0.64, 0.65,\n",
      "       0.66, 0.67, 0.68, 0.69, 0.7 , 0.71, 0.72, 0.73, 0.74, 0.75, 0.76,\n",
      "       0.77, 0.78, 0.79, 0.8 , 0.81, 0.82, 0.83, 0.84, 0.85, 0.86, 0.87,\n",
      "       0.88, 0.89, 0.9 , 0.91, 0.92, 0.93, 0.94, 0.95, 0.96, 0.97, 0.98,\n",
      "       0.99, 1.  ]), array([0.051, 0.051, 0.051, 0.051, 0.051, 0.051, 0.051, 0.051, 0.051,\n",
      "       0.051, 0.051, 0.051, 0.051, 0.051, 0.051, 0.058, 0.058, 0.101,\n",
      "       0.101, 0.109, 0.159, 0.159, 0.181, 0.188, 0.21 , 0.254, 0.29 ,\n",
      "       0.297, 0.326, 0.341, 0.37 , 0.37 , 0.406, 0.442, 0.449, 0.507,\n",
      "       0.493, 0.529, 0.565, 0.572, 0.63 , 0.645, 0.638, 0.623, 0.63 ,\n",
      "       0.645, 0.638, 0.638, 0.659, 0.623, 0.616, 0.667, 0.703, 0.681,\n",
      "       0.688, 0.703, 0.717, 0.754, 0.746, 0.754, 0.768, 0.783, 0.79 ,\n",
      "       0.804, 0.812, 0.819, 0.877, 0.913, 0.935, 0.942, 0.942, 0.964,\n",
      "       0.964, 0.978, 0.993, 1.   , 1.   , 1.   , 1.   , 1.   , 1.   ,\n",
      "       1.   , 1.   , 1.   , 1.   , 1.   , 1.   , 1.   , 1.   , 1.   ,\n",
      "       1.   , 1.   , 1.   , 1.   , 1.   , 1.   , 1.   , 1.   , 1.   ,\n",
      "       1.   , 1.   ]), array([[0.022, 0.022, 0.022, ..., 1.   , 1.   , 1.   ],\n",
      "       [0.007, 0.007, 0.007, ..., 1.   , 1.   , 1.   ],\n",
      "       [0.029, 0.029, 0.029, ..., 1.   , 1.   , 1.   ],\n",
      "       ...,\n",
      "       [0.051, 0.051, 0.051, ..., 1.   , 1.   , 1.   ],\n",
      "       [0.   , 0.   , 0.   , ..., 1.   , 1.   , 1.   ],\n",
      "       [0.   , 0.   , 0.   , ..., 1.   , 1.   , 1.   ]]))\n"
     ]
    }
   ],
   "source": [
    "#open\n",
    "with open('PCA_C8_rand_results.pkl', 'rb') as file:\n",
    "      \n",
    "    # Call load method to deserialze\n",
    "    myvar = pickle.load(file)\n",
    "  \n",
    "    print(myvar)\n",
    "test_all_agents_terms_together_thetas, test_all_agents_terms_together_bal_dens, test_all_agents_terms_together_bal_dens_rands = myvar\n",
    "\n",
    "bal_dens_sum = np.sum(test_all_agents_terms_together_bal_dens)\n",
    "bal_dens_rands_sum = np.array([np.sum(test_all_agents_terms_together_bal_dens_rands[j]) for j in range(0,len(test_all_agents_terms_together_bal_dens_rands))])\n"
   ]
  },
  {
   "cell_type": "code",
   "execution_count": 255,
   "id": "configured-right",
   "metadata": {},
   "outputs": [
    {
     "data": {
      "text/plain": [
       "(0.5777777777777777, 0.8333333333333334)"
      ]
     },
     "execution_count": 255,
     "metadata": {},
     "output_type": "execute_result"
    }
   ],
   "source": [
    "semm = 1\n",
    "j = 8\n",
    "i = 50\n",
    "theta = thetas[i]\n",
    "polarities_rand = calc_link_polarities2(attr_rands_M[j][semm], theta)\n",
    "balanced_triad_density_network(polarities_rand, triads_all[semm-1]), balanced_triad_density_network(polarities_rand, triads_all[-1])"
   ]
  },
  {
   "cell_type": "code",
   "execution_count": 39,
   "id": "composed-silly",
   "metadata": {},
   "outputs": [
    {
     "data": {
      "text/plain": [
       "(982, 982)"
      ]
     },
     "execution_count": 39,
     "metadata": {},
     "output_type": "execute_result"
    }
   ],
   "source": [
    "np.sum(bal_dens_sum > bal_dens_rands_sum ), np.sum(bal_dens_sum >= bal_dens_rands_sum)"
   ]
  },
  {
   "cell_type": "code",
   "execution_count": 81,
   "id": "perfect-neighborhood",
   "metadata": {},
   "outputs": [
    {
     "data": {
      "text/plain": [
       "array([[0.014, 0.014, 0.014, ..., 1.   , 1.   , 1.   ],\n",
       "       [0.022, 0.022, 0.022, ..., 1.   , 1.   , 1.   ],\n",
       "       [0.007, 0.007, 0.007, ..., 1.   , 1.   , 1.   ],\n",
       "       ...,\n",
       "       [0.022, 0.022, 0.022, ..., 1.   , 1.   , 1.   ],\n",
       "       [0.014, 0.014, 0.014, ..., 1.   , 1.   , 1.   ],\n",
       "       [0.036, 0.036, 0.036, ..., 1.   , 1.   , 1.   ]])"
      ]
     },
     "execution_count": 81,
     "metadata": {},
     "output_type": "execute_result"
    }
   ],
   "source": [
    "bal_dens_rands"
   ]
  },
  {
   "cell_type": "code",
   "execution_count": 83,
   "id": "continuous-accident",
   "metadata": {},
   "outputs": [
    {
     "data": {
      "text/plain": [
       "array([0.051, 0.051, 0.051, 0.051, 0.051, 0.051, 0.051, 0.051, 0.051,\n",
       "       0.051, 0.051, 0.051, 0.051, 0.051, 0.051, 0.058, 0.058, 0.101,\n",
       "       0.101, 0.109, 0.159, 0.159, 0.181, 0.188, 0.21 , 0.254, 0.29 ,\n",
       "       0.297, 0.326, 0.341, 0.37 , 0.37 , 0.406, 0.442, 0.449, 0.507,\n",
       "       0.493, 0.529, 0.565, 0.572, 0.63 , 0.645, 0.638, 0.623, 0.63 ,\n",
       "       0.645, 0.638, 0.638, 0.659, 0.623, 0.616, 0.667, 0.703, 0.681,\n",
       "       0.688, 0.703, 0.717, 0.754, 0.746, 0.754, 0.768, 0.783, 0.79 ,\n",
       "       0.804, 0.812, 0.819, 0.877, 0.913, 0.935, 0.942, 0.942, 0.964,\n",
       "       0.964, 0.978, 0.993, 1.   , 1.   , 1.   , 1.   , 1.   , 1.   ,\n",
       "       1.   , 1.   , 1.   , 1.   , 1.   , 1.   , 1.   , 1.   , 1.   ,\n",
       "       1.   , 1.   , 1.   , 1.   , 1.   , 1.   , 1.   , 1.   , 1.   ,\n",
       "       1.   , 1.   ])"
      ]
     },
     "execution_count": 83,
     "metadata": {},
     "output_type": "execute_result"
    }
   ],
   "source": [
    "test_all_agents_terms_together_bal_dens"
   ]
  },
  {
   "cell_type": "code",
   "execution_count": 272,
   "id": "senior-shopper",
   "metadata": {},
   "outputs": [],
   "source": [
    "#first result: 88, 88 / M = 100 / sem1-6 / probably error \n",
    "#2nd: 10, 10 / M = 10 / sem1-6 / no error (possible error)\n",
    "#3rd: 97,97 / M = 100 / sem1-6 / no error (possible error)\n",
    "# 4: 98,98 / M = 100 / 1-6 / no error\n",
    "# 5: 99,99 / M = 100 / 1-6 / no error\n",
    "# 6: 98,98 / M = 100 / 1-6 / no error"
   ]
  },
  {
   "cell_type": "code",
   "execution_count": 84,
   "id": "transsexual-function",
   "metadata": {},
   "outputs": [
    {
     "data": {
      "text/plain": [
       "array([  3.,   3.,   3.,   3.,   3.,   3.,   3.,   3.,   3.,   3.,   3.,\n",
       "         3.,   3.,   3.,   3.,  20.,  26.,  11.,  24.,  23.,   6.,  12.,\n",
       "        10.,  19.,  16.,   3.,   0.,   3.,   2.,   3.,   3.,   3.,   6.,\n",
       "         5.,  10.,   3.,  20.,  17.,   9.,  16.,   2.,   6.,  16.,  38.,\n",
       "        40.,  32.,  47.,  53.,  21.,  75.,  92.,  19.,   2.,  11.,  11.,\n",
       "        11.,  17.,   9.,  34.,  54.,  67.,  77., 107., 118., 147., 167.,\n",
       "       107.,  64.,  53.,  77., 117.,  90., 123.,  97.,  39.,   0.,   0.,\n",
       "         0.,   0.,   0.,   0.,   0.,   0.,   0.,   0.,   0.,   0.,   0.,\n",
       "         0.,   0.,   0.,   0.,   0.,   0.,   0.,   0.,   0.,   0.,   0.,\n",
       "         0.,   0.])"
      ]
     },
     "execution_count": 84,
     "metadata": {},
     "output_type": "execute_result"
    }
   ],
   "source": [
    "pvals_T = np.zeros(len(thetas))\n",
    "\n",
    "for i, theta in enumerate(thetas):    \n",
    "    pvals_T[i] = np.sum(test_all_agents_terms_together_bal_dens_rands[:,i] > test_all_agents_terms_together_bal_dens[i])\n",
    "\n",
    "pvals_T"
   ]
  },
  {
   "cell_type": "code",
   "execution_count": 54,
   "id": "suffering-cruise",
   "metadata": {},
   "outputs": [
    {
     "data": {
      "text/plain": [
       "array([  37.,   37.,   37.,   37.,   37.,   37.,   37.,   37.,   37.,\n",
       "         37.,   37.,   37.,   37.,   37.,   37.,  159.,  202.,   72.,\n",
       "        163.,  178.,   43.,   89.,   60.,  138.,  106.,   37.,   25.,\n",
       "         41.,   27.,   27.,   34.,   68.,   69.,   49.,   99.,   37.,\n",
       "        138.,  114.,   84.,  136.,   42.,   48.,  106.,  250.,  287.,\n",
       "        237.,  319.,  321.,  196.,  467.,  531.,  149.,   30.,  113.,\n",
       "        103.,  103.,  116.,   44.,  189.,  270.,  363.,  421.,  577.,\n",
       "        639.,  774.,  877.,  602.,  398.,  364.,  453.,  650.,  611.,\n",
       "        740.,  648.,  413.,  273.,  410.,  535.,  632.,  701.,  744.,\n",
       "        782.,  834.,  867.,  880.,  923.,  928.,  928.,  928.,  958.,\n",
       "        958.,  974., 1000., 1000., 1000., 1000., 1000., 1000., 1000.,\n",
       "       1000., 1000.])"
      ]
     },
     "execution_count": 54,
     "metadata": {},
     "output_type": "execute_result"
    }
   ],
   "source": [
    "pvals_T = np.zeros(len(thetas))\n",
    "\n",
    "for i, theta in enumerate(thetas):    \n",
    "    pvals_T[i] = np.sum(test_all_agents_terms_together_bal_dens_rands[:,i] >= test_all_agents_terms_together_bal_dens[i])\n",
    "\n",
    "pvals_T"
   ]
  },
  {
   "cell_type": "code",
   "execution_count": 55,
   "id": "2bf811b9",
   "metadata": {},
   "outputs": [
    {
     "data": {
      "text/plain": [
       "[(0.0, 37.0),\n",
       " (0.01, 37.0),\n",
       " (0.02, 37.0),\n",
       " (0.03, 37.0),\n",
       " (0.04, 37.0),\n",
       " (0.05, 37.0),\n",
       " (0.06, 37.0),\n",
       " (0.07, 37.0),\n",
       " (0.08, 37.0),\n",
       " (0.09, 37.0),\n",
       " (0.1, 37.0),\n",
       " (0.11, 37.0),\n",
       " (0.12, 37.0),\n",
       " (0.13, 37.0),\n",
       " (0.14, 37.0),\n",
       " (0.2, 43.0),\n",
       " (0.25, 37.0),\n",
       " (0.26, 25.0),\n",
       " (0.27, 41.0),\n",
       " (0.28, 27.0),\n",
       " (0.29, 27.0),\n",
       " (0.3, 34.0),\n",
       " (0.33, 49.0),\n",
       " (0.35000000000000003, 37.0),\n",
       " (0.4, 42.0),\n",
       " (0.41000000000000003, 48.0),\n",
       " (0.52, 30.0),\n",
       " (0.5700000000000001, 44.0)]"
      ]
     },
     "execution_count": 55,
     "metadata": {},
     "output_type": "execute_result"
    }
   ],
   "source": [
    "[(theta, pval) for theta, pval in zip(thetas, pvals_T) if pval < 50]"
   ]
  },
  {
   "cell_type": "code",
   "execution_count": 343,
   "id": "passive-economy",
   "metadata": {},
   "outputs": [
    {
     "data": {
      "text/plain": [
       "Text(0, 0.5, 'density of balanced triads in all sems')"
      ]
     },
     "execution_count": 343,
     "metadata": {},
     "output_type": "execute_result"
    },
    {
     "data": {
      "image/png": "[encoded data removed]",
      "text/plain": [
       "<Figure size 432x288 with 1 Axes>"
      ]
     },
     "metadata": {
      "needs_background": "light"
     },
     "output_type": "display_data"
    }
   ],
   "source": [
    "handles_rand = plt.plot(test_all_agents_terms_together_thetas, np.array(test_all_agents_terms_together_bal_dens_rands).T, 'b')\n",
    "handles_net, = plt.plot(test_all_agents_terms_together_thetas, test_all_agents_terms_together_bal_dens, 'k')\n",
    "# plt.legend([\"network\", \"random\"], handles = [handles_net, handles_rand[0]])\n",
    "plt.legend([handles_net, handles_rand[0]], [\"network\", \"random\"])\n",
    "plt.title(\"Comparing HBT in triads in data and after randomization\")\n",
    "plt.xlabel(\"theta\")\n",
    "plt.ylabel(\"density of balanced triads in all sems\")"
   ]
  },
  {
   "cell_type": "code",
   "execution_count": 338,
   "id": "decreased-cabinet",
   "metadata": {},
   "outputs": [
    {
     "data": {
      "text/plain": [
       "[<matplotlib.lines.Line2D at 0x7f44a2492f10>]"
      ]
     },
     "execution_count": 338,
     "metadata": {},
     "output_type": "execute_result"
    }
   ],
   "source": [
    "handles_net"
   ]
  },
  {
   "cell_type": "code",
   "execution_count": 285,
   "id": "swedish-auckland",
   "metadata": {},
   "outputs": [
    {
     "data": {
      "text/plain": [
       "Text(0, 0.5, 'density of balanced triads')"
      ]
     },
     "execution_count": 285,
     "metadata": {},
     "output_type": "execute_result"
    },
    {
     "data": {
      "image/png": "[encoded data removed]",
      "text/plain": [
       "<Figure size 432x288 with 1 Axes>"
      ]
     },
     "metadata": {
      "needs_background": "light"
     },
     "output_type": "display_data"
    }
   ],
   "source": [
    "mean_vals = np.mean(np.array(test_all_agents_terms_together_bal_dens_rands).T,1)\n",
    "std_vals = np.std(np.array(test_all_agents_terms_together_bal_dens_rands).T,1)\n",
    "\n",
    "plt.plot(test_all_agents_terms_together_thetas, test_all_agents_terms_together_bal_dens, 'k.')\n",
    "\n",
    "plt.fill_between(thetas, mean_vals-std_vals, mean_vals+std_vals)\n",
    "plt.legend([\"network\", \"mean\"])\n",
    "plt.title(\"Comparing HBT in triads and randomized all agents' sets of attributes\")\n",
    "plt.xlabel(\"theta\")\n",
    "plt.ylabel(\"density of balanced triads\")"
   ]
  },
  {
   "cell_type": "code",
   "execution_count": 347,
   "id": "supported-kansas",
   "metadata": {},
   "outputs": [
    {
     "data": {
      "text/plain": [
       "Text(0, 0.5, 'density of balanced triads')"
      ]
     },
     "execution_count": 347,
     "metadata": {},
     "output_type": "execute_result"
    },
    {
     "data": {
      "image/png": "[encoded data removed]",
      "text/plain": [
       "<Figure size 720x360 with 1 Axes>"
      ]
     },
     "metadata": {
      "needs_background": "light"
     },
     "output_type": "display_data"
    }
   ],
   "source": [
    "fig, axs = plt.subplots()\n",
    "fig.set_size_inches(10,5)\n",
    "\n",
    "every = 2\n",
    "\n",
    "axs.boxplot(np.array(test_all_agents_terms_together_bal_dens_rands[:,::every]),positions = thetas[::every], widths = 0.02, manage_ticks = False)\n",
    "# axs.margins(x = -0.2)\n",
    "# axs.xticks([1, 2, 3], ['mon', 'tue', 'wed'])\n",
    "\n",
    "axs.plot(test_all_agents_terms_together_thetas, test_all_agents_terms_together_bal_dens, 'k')\n",
    "axs.set_title(\"Comparing HBT in triads and randomized all agents' sets of attributes\")\n",
    "axs.set_xlabel(\"theta\")\n",
    "axs.set_ylabel(\"density of balanced triads\")"
   ]
  },
  {
   "cell_type": "code",
   "execution_count": 358,
   "id": "three-seminar",
   "metadata": {},
   "outputs": [
    {
     "data": {
      "text/plain": [
       "(96, 96)"
      ]
     },
     "execution_count": 358,
     "metadata": {},
     "output_type": "execute_result"
    }
   ],
   "source": [
    "#Lets see if we still have such a good result, when we remove initial few ticks. \n",
    "th = 0.15\n",
    "new_bds = np.sum(bal_dens[thetas > th])\n",
    "new_bdsr = np.sum(bal_dens_rands[:,thetas > th],1)\n",
    "np.sum(new_bds > new_bdsr), np.sum(new_bds >= new_bdsr)\n",
    "\n",
    "# Still the result below 0.05, but the reason for this result might solely because of connections between agents\n",
    "# thathave exactly same attributes. "
   ]
  },
  {
   "cell_type": "code",
   "execution_count": 357,
   "id": "rational-hampshire",
   "metadata": {},
   "outputs": [
    {
     "data": {
      "text/plain": [
       "array([[0.014, 0.036, 0.065, ..., 1.   , 1.   , 1.   ],\n",
       "       [0.029, 0.029, 0.029, ..., 1.   , 1.   , 1.   ],\n",
       "       [0.   , 0.036, 0.036, ..., 1.   , 1.   , 1.   ],\n",
       "       ...,\n",
       "       [0.043, 0.051, 0.094, ..., 1.   , 1.   , 1.   ],\n",
       "       [0.036, 0.036, 0.043, ..., 1.   , 1.   , 1.   ],\n",
       "       [0.036, 0.043, 0.058, ..., 1.   , 1.   , 1.   ]])"
      ]
     },
     "execution_count": 357,
     "metadata": {},
     "output_type": "execute_result"
    }
   ],
   "source": [
    "bal_dens_rands[:,thetas > 0.15]"
   ]
  },
  {
   "cell_type": "code",
   "execution_count": 235,
   "id": "alternative-miniature",
   "metadata": {},
   "outputs": [
    {
     "data": {
      "text/plain": [
       "(5799.0,\n",
       " array([5313., 5333., 5504., 5237., 5333., 5527., 5248., 5357., 5369.,\n",
       "        5233., 5102., 5295., 5268., 5300., 5245., 5244., 5362., 5392.,\n",
       "        5391., 5322., 5383., 5227., 5471., 5363., 5323., 5376., 5430.,\n",
       "        5595., 5342., 5602., 5328., 5597., 5537., 5413., 5633., 5617.,\n",
       "        5268., 5533., 5279., 5453., 5482., 5276., 5502., 5570., 5250.,\n",
       "        5109., 5392., 5456., 5560., 5412., 5310., 5627., 5413., 5534.,\n",
       "        5243., 5506., 5537., 5503., 5418., 5266., 5613., 5346., 5222.,\n",
       "        5371., 5583., 5421., 5304., 5339., 5414., 5701., 5481., 5354.,\n",
       "        5565., 5479., 5377., 5342., 5490., 5716., 5483., 5181., 5167.,\n",
       "        5108., 5500., 5112., 5295., 5323., 5199., 5453., 5352., 5483.,\n",
       "        5499., 5276., 5485., 5366., 5619., 5492., 5273., 5307., 5532.,\n",
       "        5556.]))"
      ]
     },
     "execution_count": 235,
     "metadata": {},
     "output_type": "execute_result"
    }
   ],
   "source": [
    "first_sem = 2\n",
    "last_sem = 6\n",
    "thetas = np.linspace(0,1,101)\n",
    "M = 100\n",
    "\n",
    "triads_all = [get_triads(data[semm]) for semm in range(1,last_sem+1)]\n",
    "triads_len = [len(x) for x in triads_all]\n",
    "triads_all_num = np.sum(triads_len[first_sem-1:last_sem])\n",
    "\n",
    "bal_dens = np.zeros(len(thetas))\n",
    "\n",
    "bal_dens_rands_sum = np.zeros(M)\n",
    "attr_rands_M = [randomize_attribute_sets(dcor_attributes) for i in range(0,M)] \n",
    "\n",
    "for semm in range(first_sem, last_sem+1):\n",
    "    triads = triads_all[semm-1]\n",
    "    \n",
    "    for i, theta in enumerate(thetas):\n",
    "        polarities = calc_link_polarities2(dcor_attributes[semm], theta)\n",
    "        bal_dens[i] = bal_dens[i] + balanced_triad_density_network(polarities, triads) * triads_len[semm - 1]\n",
    "\n",
    "bal_dens_rands = np.zeros([M, len(thetas)])\n",
    "for j in range(0,M):  \n",
    "    for semm in range(first_sem, last_sem+1):\n",
    "        triads = triads_all[semm-1]\n",
    "        for i, theta in enumerate(thetas):    \n",
    "            polarities_rand = calc_link_polarities2(attr_rands_M[j][semm], theta)\n",
    "            bal_dens_rands[j][i] = bal_dens_rands[j][i] + balanced_triad_density_network(polarities_rand, triads) * triads_len[semm - 1]\n",
    "\n",
    "    bal_dens_rands_sum[j] = np.sum(bal_dens_rands[j])\n",
    "    \n",
    "bal_dens_sum = np.sum(bal_dens)\n",
    "\n",
    "bal_dens = bal_dens / triads_all_num\n",
    "bal_dens_rands = bal_dens_rands / triads_all_num\n",
    "\n",
    "bal_dens_sum, bal_dens_rands_sum\n",
    "\n",
    "# TODO: do poprawy powyzej. Zrobić, żeby była taka sama randomizacja wszystkich węzłów na raz we wszystkich semestrach. \n",
    "#     Obecnie jest to niezależne. \n"
   ]
  },
  {
   "cell_type": "code",
   "execution_count": 236,
   "id": "leading-constitutional",
   "metadata": {},
   "outputs": [
    {
     "data": {
      "text/plain": [
       "(100, 100)"
      ]
     },
     "execution_count": 236,
     "metadata": {},
     "output_type": "execute_result"
    }
   ],
   "source": [
    "np.sum(bal_dens_sum > bal_dens_rands_sum), np.sum(bal_dens_sum >= bal_dens_rands_sum)"
   ]
  },
  {
   "cell_type": "code",
   "execution_count": 178,
   "id": "behind-failure",
   "metadata": {},
   "outputs": [
    {
     "data": {
      "text/plain": [
       "93"
      ]
     },
     "execution_count": 178,
     "metadata": {},
     "output_type": "execute_result"
    }
   ],
   "source": [
    "#first result: 96, 96 / M = 100 / sem2-6 / error"
   ]
  },
  {
   "cell_type": "markdown",
   "id": "honey-salem",
   "metadata": {},
   "source": [
    "# Randomizing triads in the whole network"
   ]
  },
  {
   "cell_type": "code",
   "execution_count": 47,
   "id": "saved-harvey",
   "metadata": {},
   "outputs": [],
   "source": [
    "def randomize_all_attributes(attr, randomized_agents = []):\n",
    "    N, A = attr.shape\n",
    "    \n",
    "    if len(randomized_agents) == 0:\n",
    "        randomized_agents = list(range(0,N))\n",
    "    \n",
    "    attr_rand = np.copy(attr)\n",
    "    \n",
    "    attr_copy = attr_rand[randomized_agents]\n",
    "    \n",
    "    np.random.shuffle(attr_copy)\n",
    "    \n",
    "    attr_rand[randomized_agents] = attr_copy\n",
    "    \n",
    "    return attr_rand\n",
    "\n",
    "def randomize_attribute_sets(ord_attributes, randomized_agents_sets = []):\n",
    "    rand_ord_attributes = dict((i, 0) for i in range(1,7))\n",
    "    \n",
    "    for sem in range(1,7):\n",
    "        if len(randomized_agents_sets) == 0:\n",
    "            randomized_agents = []\n",
    "        else:\n",
    "            randomized_agents = randomized_agents_sets[sem-1]\n",
    "        rand_ord_attributes[sem] = randomize_all_attributes(ord_attributes[sem], randomized_agents)\n",
    "    \n",
    "    return rand_ord_attributes\n",
    "\n",
    "\"\"\" Not working, because there are different student sets in each term. \n",
    "\"\"\"\n",
    "def randomize_correlated(ord_attributes):\n",
    "    rand_ord_attributes = dict((i, 0) for i in range(1,7))\n",
    "    \n",
    "    \n",
    "\n",
    "def compare_bal_triads(triads, agents, th, attr_dif, M, randomized_agents = []):\n",
    "    \"\"\"\n",
    "    triads - list of sets of node ids forming a triad\n",
    "    agents - array of vectors of agent attributes\n",
    "    th - threshold used\n",
    "    attr_dif - max difference between attributes\n",
    "    M - number of times to repeat randomization\n",
    "    \"\"\"\n",
    "    polarities = calc_link_polarities2(agents, th, attr_dif)\n",
    "    bal_dens = balanced_triad_density_network(polarities, triads)\n",
    "    \n",
    "    bal_dens_rands = np.zeros(M)\n",
    "    \n",
    "    for i in range(0,M):\n",
    "        agents_rand = randomize_all_attributes(agents, randomized_agents)\n",
    "        polarities_rand = calc_link_polarities2(agents_rand, th, attr_dif)\n",
    "        bal_dens_rands[i] = balanced_triad_density_network(polarities_rand, triads)\n",
    "        \n",
    "    pval = np.sum(bal_dens_rands > bal_dens)\n",
    "    \n",
    "    return bal_dens_rands, bal_dens, pval\n",
    "\n",
    "def compare_networks(data, th, attr_dif, M):\n",
    "    pvals = np.zeros(6)\n",
    "    vals = np.zeros(6)\n",
    "    stds = np.zeros(6)\n",
    "    difs = np.zeros(6)\n",
    "    \n",
    "    for n in range(1,7):\n",
    "#         print(n)\n",
    "        net = data[n]\n",
    "        triads = get_triads(net)\n",
    "        agents = dcor_attributes[n]\n",
    "        \n",
    "        bal_dens_rands, bal_dens, pval = compare_bal_triads(triads, agents, th, attr_dif, M)\n",
    "        pvals[n-1] = pval\n",
    "        vals[n - 1] = bal_dens\n",
    "        difs[n-1] = np.mean(bal_dens - bal_dens_rands)\n",
    "        stds[n-1] = np.std(difs)\n",
    "    return pvals, vals, difs, stds\n",
    "\n",
    "def compare_weighted_network(net, agents, th, attr_dif, M):\n",
    "    polarities = calc_link_polarities2(agents, th, attr_dif)\n",
    "    U_data, pval_data = compare_weighted_links(net, polarities)\n",
    "    \n",
    "    U_rands = np.zeros(M)\n",
    "    pval_rands = np.zeros(M)\n",
    "    \n",
    "    for i in range(0,M):\n",
    "        agents_rand = randomize_all_attributes(agents)\n",
    "        polarities_rand = calc_link_polarities2(agents_rand, th, attr_dif)\n",
    "        U_rands[i], pval_rands[i] = compare_weighted_links(net, polarities_rand)\n",
    "    \n",
    "    pval_U = np.sum(U_rands >= U_data)\n",
    "    pval_pval = np.sum(pval_rands <= pval_data)\n",
    "    \n",
    "    return U_rands, pval_rands, pval_U, pval_pval\n",
    "\n",
    "def compare_weighted_networks(data, ord_attributes, th, attr_dif, M):\n",
    "    U_rands = np.zeros(M)\n",
    "    pval_rands = np.zeros(M)\n",
    "    \n",
    "    U_data, pval_data = compare_all_weighted_links(data, ord_attributes, th, attr_dif)\n",
    "    \n",
    "    for i in range(0,M):\n",
    "        rand_ord_attributes = randomize_attribute_sets(ord_attributes)\n",
    "        U_rands[i], pval_rands[i] = compare_all_weighted_links(data, rand_ord_attributes, th, attr_dif)\n",
    "    \n",
    "    pval_U = np.sum(U_rands >= U_data)\n",
    "    pval_pval = np.sum(pval_rands <= pval_data)\n",
    "    \n",
    "    return U_rands, pval_rands, pval_U, pval_pval"
   ]
  },
  {
   "cell_type": "code",
   "execution_count": 304,
   "id": "acute-category",
   "metadata": {},
   "outputs": [],
   "source": [
    "bal_dens_rands, bal_dens, pval = compare_bal_triads(triads, dcor_attributes[sem], 0.5, 2, 100)"
   ]
  },
  {
   "cell_type": "code",
   "execution_count": 305,
   "id": "finished-registration",
   "metadata": {},
   "outputs": [
    {
     "data": {
      "text/plain": [
       "(12, -0.0868888888888889, 18)"
      ]
     },
     "execution_count": 305,
     "metadata": {},
     "output_type": "execute_result"
    }
   ],
   "source": [
    "np.sum(bal_dens_rands > bal_dens), np.mean(bal_dens_rands) - bal_dens, pval"
   ]
  },
  {
   "cell_type": "code",
   "execution_count": 346,
   "id": "injured-wagner",
   "metadata": {},
   "outputs": [],
   "source": [
    "sem = 1\n",
    "triads = get_triads(data[sem])\n",
    "\n",
    "thetas = np.linspace(0,1,15)\n",
    "\n",
    "bals = np.zeros(len(thetas))\n",
    "rand_bals_mean = np.zeros(len(thetas))\n",
    "rand_bals_std = np.zeros(len(thetas))\n",
    "pvals = np.zeros(len(thetas))\n",
    "for i, theta in enumerate(thetas):\n",
    "    rand_bal, bal, pval = compare_bal_triads(triads, dcor_attributes[sem], theta, max_dif3, 100)\n",
    "    rand_bals_mean[i] = np.mean(rand_bal)\n",
    "    rand_bals_std[i] = np.std(rand_bal)\n",
    "    bals[i] = bal\n",
    "    pvals[i] = pval\n"
   ]
  },
  {
   "cell_type": "code",
   "execution_count": 347,
   "id": "distributed-there",
   "metadata": {},
   "outputs": [
    {
     "data": {
      "text/plain": [
       "Text(0, 0.5, 'density of balanced triads')"
      ]
     },
     "execution_count": 347,
     "metadata": {},
     "output_type": "execute_result"
    },
    {
     "data": {
      "image/png": "[encoded data removed]",
      "text/plain": [
       "<Figure size 432x288 with 1 Axes>"
      ]
     },
     "metadata": {
      "needs_background": "light"
     },
     "output_type": "display_data"
    }
   ],
   "source": [
    "plt.plot(thetas, bals, 'ko')\n",
    "# plt.plot(thetas, rand_bals_mean)\n",
    "plt.fill_between(thetas, rand_bals_mean-rand_bals_std, rand_bals_mean+rand_bals_std)\n",
    "plt.legend([\"network\", \"mean\"])\n",
    "plt.title(\"Comparing HBT in triads and randomized all agents' sets of attributes\")\n",
    "plt.xlabel(\"theta\")\n",
    "plt.ylabel(\"density of balanced triads\")"
   ]
  },
  {
   "cell_type": "code",
   "execution_count": 348,
   "id": "metallic-invention",
   "metadata": {},
   "outputs": [
    {
     "data": {
      "text/plain": [
       "(array([ 8., 11.,  4., 53., 31., 73., 51., 53., 11.,  7., 70.,  0.,  0.,\n",
       "         0.,  0.]),\n",
       " 1.9498109791002052)"
      ]
     },
     "execution_count": 348,
     "metadata": {},
     "output_type": "execute_result"
    }
   ],
   "source": [
    "pvals, max_dif3"
   ]
  },
  {
   "cell_type": "code",
   "execution_count": 349,
   "id": "caroline-malaysia",
   "metadata": {},
   "outputs": [
    {
     "data": {
      "image/png": "[encoded data removed]",
      "text/plain": [
       "<Figure size 1440x720 with 6 Axes>"
      ]
     },
     "metadata": {
      "needs_background": "light"
     },
     "output_type": "display_data"
    }
   ],
   "source": [
    "dim1 = 2\n",
    "dim2 = 3\n",
    "thetas = np.linspace(0,1,11)\n",
    "pvals = dict((i, np.zeros(len(thetas))) for i in range(1,7))\n",
    "\n",
    "fig, axs = plt.subplots(dim1, dim2)\n",
    "fig.set_size_inches(20,10)\n",
    "fig.suptitle(\"Comparing HBT in triads and randomized all agents' sets of attributes\")\n",
    "\n",
    "semm = 0\n",
    "for a1 in range(0,dim1):\n",
    "    for a2 in range(0,dim2):\n",
    "        semm = semm + 1\n",
    "        triads = get_triads(data[semm])\n",
    "\n",
    "        bals = np.zeros(len(thetas))\n",
    "        rand_bals_mean = np.zeros(len(thetas))\n",
    "        rand_bals_std = np.zeros(len(thetas))\n",
    "        \n",
    "        for i, theta in enumerate(thetas):\n",
    "            rand_bal, bal, pval = compare_bal_triads(triads, dcor_attributes[semm], theta, max_dif3, 100)\n",
    "            rand_bals_mean[i] = np.mean(rand_bal)\n",
    "            rand_bals_std[i] = np.std(rand_bal)\n",
    "            bals[i] = bal\n",
    "            pvals[semm][i] = pval\n",
    "        \n",
    "        axs[a1, a2].set_title(\"sem=\" + str(semm))\n",
    "        axs[a1,a2].plot(thetas, bals, 'ko')\n",
    "        # plt.plot(thetas, rand_bals_mean)\n",
    "        axs[a1, a2].fill_between(thetas, rand_bals_mean-rand_bals_std, rand_bals_mean+rand_bals_std)\n",
    "        axs[a1, a2].legend([\"network\", \"mean\"])\n",
    "\n",
    "for ax in axs.flat:\n",
    "    ax.set(xlabel='theta', ylabel='density of balanced triads')\n",
    "\n",
    "# Hide x labels and tick labels for top plots and y ticks for right plots.\n",
    "for ax in axs.flat:\n",
    "    ax.label_outer()"
   ]
  },
  {
   "cell_type": "code",
   "execution_count": 350,
   "id": "molecular-tutorial",
   "metadata": {},
   "outputs": [
    {
     "data": {
      "text/plain": [
       "{1: array([17.,  9., 38., 41., 34., 55., 29., 44.,  0.,  0.,  0.]),\n",
       " 2: array([ 2.,  2., 17.,  2.,  1., 69., 62.,  0.,  0.,  0.,  0.]),\n",
       " 3: array([12.,  9., 19.,  6., 34., 27.,  4.,  0.,  0.,  0.,  0.]),\n",
       " 4: array([ 5.,  6.,  5.,  6., 18., 27., 41., 97.,  0.,  0.,  0.]),\n",
       " 5: array([ 4.,  9., 10., 23., 13., 55., 49.,  0.,  0.,  0.,  0.]),\n",
       " 6: array([ 9.,  9.,  3., 22., 14., 14., 11.,  0.,  0.,  0.,  0.])}"
      ]
     },
     "execution_count": 350,
     "metadata": {},
     "output_type": "execute_result"
    }
   ],
   "source": [
    "pvals"
   ]
  },
  {
   "cell_type": "markdown",
   "id": "measured-planner",
   "metadata": {},
   "source": [
    "# Randomizing attributes only inside triads"
   ]
  },
  {
   "cell_type": "code",
   "execution_count": 280,
   "id": "demographic-bulgarian",
   "metadata": {},
   "outputs": [],
   "source": [
    "sem = 1\n",
    "triads = get_triads(data[sem])"
   ]
  },
  {
   "cell_type": "code",
   "execution_count": 379,
   "id": "norman-business",
   "metadata": {},
   "outputs": [],
   "source": [
    "\n",
    "triad_agents = np.unique(list(chain.from_iterable(triads)))\n",
    "dcor_attributes[1][triad_agents];"
   ]
  },
  {
   "cell_type": "code",
   "execution_count": 354,
   "id": "accessory-letters",
   "metadata": {},
   "outputs": [],
   "source": [
    "sem = 2\n",
    "triads = get_triads(data[sem])\n",
    "triad_agents = np.unique(list(chain.from_iterable(triads)))\n",
    "\n",
    "thetas = np.linspace(0,1,11)\n",
    "\n",
    "bals = np.zeros(len(thetas))\n",
    "rand_bals_mean = np.zeros(len(thetas))\n",
    "rand_bals_std = np.zeros(len(thetas))\n",
    "pvals_t = np.zeros(len(thetas))\n",
    "for i, theta in enumerate(thetas):\n",
    "    rand_bal, bal, pval = compare_bal_triads(triads, dcor_attributes[sem], theta, max_dif3, 100, triad_agents)\n",
    "    rand_bals_mean[i] = np.mean(rand_bal)\n",
    "    rand_bals_std[i] = np.std(rand_bal)\n",
    "    bals[i] = bal\n",
    "    pvals_t[i] = pval"
   ]
  },
  {
   "cell_type": "code",
   "execution_count": 355,
   "id": "driving-tourism",
   "metadata": {},
   "outputs": [
    {
     "data": {
      "text/plain": [
       "Text(0, 0.5, 'density of balanced triads')"
      ]
     },
     "execution_count": 355,
     "metadata": {},
     "output_type": "execute_result"
    },
    {
     "data": {
      "image/png": "[encoded data removed]",
      "text/plain": [
       "<Figure size 432x288 with 1 Axes>"
      ]
     },
     "metadata": {
      "needs_background": "light"
     },
     "output_type": "display_data"
    }
   ],
   "source": [
    "plt.plot(thetas, bals, 'ko')\n",
    "# plt.plot(thetas, rand_bals_mean)\n",
    "plt.fill_between(thetas, rand_bals_mean-rand_bals_std, rand_bals_mean+rand_bals_std)\n",
    "plt.legend([\"network\", \"mean\"])\n",
    "plt.title(\"Comparing HBT in triads and randomized triad agents' sets of attributes\")\n",
    "plt.xlabel(\"theta\")\n",
    "plt.ylabel(\"density of balanced triads\")"
   ]
  },
  {
   "cell_type": "code",
   "execution_count": 356,
   "id": "biological-obligation",
   "metadata": {},
   "outputs": [
    {
     "data": {
      "text/plain": [
       "(array([ 5.,  9., 33.,  3.,  2., 74., 70.,  0.,  0.,  0.,  0.]),\n",
       " array([ 0,  1,  4,  5,  8,  9, 10, 11, 14, 15, 16, 20, 21, 22, 23, 24, 25,\n",
       "        26, 27, 28, 29, 30, 31, 32, 33, 34, 38, 39, 40, 41, 44, 45, 48, 51,\n",
       "        58, 66, 76]))"
      ]
     },
     "execution_count": 356,
     "metadata": {},
     "output_type": "execute_result"
    }
   ],
   "source": [
    "pvals_t, triad_agents"
   ]
  },
  {
   "cell_type": "code",
   "execution_count": 360,
   "id": "defensive-pound",
   "metadata": {},
   "outputs": [
    {
     "data": {
      "image/png": "[encoded data removed]",
      "text/plain": [
       "<Figure size 1440x720 with 6 Axes>"
      ]
     },
     "metadata": {
      "needs_background": "light"
     },
     "output_type": "display_data"
    }
   ],
   "source": [
    "dim1 = 2\n",
    "dim2 = 3\n",
    "thetas = np.linspace(0,1,21)\n",
    "pvals_t = dict((i, np.zeros(len(thetas))) for i in range(1,7))\n",
    "\n",
    "fig, axs = plt.subplots(dim1, dim2)\n",
    "fig.set_size_inches(20,10)\n",
    "fig.suptitle(\"Comparing HBT in triads and randomized triad agents' sets of attributes\")\n",
    "\n",
    "semm = 0\n",
    "for a1 in range(0,dim1):\n",
    "    for a2 in range(0,dim2):\n",
    "        semm = semm + 1\n",
    "        triads = get_triads(data[semm])\n",
    "        triad_agents = np.unique(list(chain.from_iterable(triads)))\n",
    "\n",
    "        bals = np.zeros(len(thetas))\n",
    "        rand_bals_mean = np.zeros(len(thetas))\n",
    "        rand_bals_std = np.zeros(len(thetas))\n",
    "        \n",
    "        for i, theta in enumerate(thetas):\n",
    "            rand_bal, bal, pval = compare_bal_triads(triads, dcor_attributes[semm], theta, max_dif3, 100, triad_agents)\n",
    "            rand_bals_mean[i] = np.mean(rand_bal)\n",
    "            rand_bals_std[i] = np.std(rand_bal)\n",
    "            bals[i] = bal\n",
    "            pvals_t[semm][i] = pval\n",
    "        \n",
    "        axs[a1, a2].set_title(\"sem=\" + str(semm))\n",
    "        axs[a1,a2].plot(thetas, bals, 'ko')\n",
    "        # plt.plot(thetas, rand_bals_mean)\n",
    "        axs[a1, a2].fill_between(thetas, rand_bals_mean-rand_bals_std, rand_bals_mean+rand_bals_std)\n",
    "        axs[a1, a2].legend([\"network\", \"mean\"])\n",
    "\n",
    "for ax in axs.flat:\n",
    "    ax.set(xlabel='theta', ylabel='density of balanced triads')\n",
    "\n",
    "# Hide x labels and tick labels for top plots and y ticks for right plots.\n",
    "for ax in axs.flat:\n",
    "    ax.label_outer()"
   ]
  },
  {
   "cell_type": "code",
   "execution_count": 361,
   "id": "constant-tribute",
   "metadata": {
    "scrolled": true
   },
   "outputs": [
    {
     "data": {
      "text/plain": [
       "{1: array([22., 16., 23., 16., 29., 24., 19., 34., 23., 18., 49., 13., 22.,\n",
       "         7., 34.,  0.,  0.,  0.,  0.,  0.,  0.]),\n",
       " 2: array([ 5.,  3.,  5.,  6., 19., 14.,  2.,  4.,  5., 45., 66., 68., 62.,\n",
       "        93.,  0.,  0.,  0.,  0.,  0.,  0.,  0.]),\n",
       " 3: array([30., 23., 28., 34., 39., 43.,  3., 31., 33., 88., 29., 11.,  5.,\n",
       "        61.,  0.,  0.,  0.,  0.,  0.,  0.,  0.]),\n",
       " 4: array([ 3.,  1.,  3.,  3.,  0.,  5.,  4.,  1., 23., 40., 25.,  4., 51.,\n",
       "        95., 96.,  0.,  0.,  0.,  0.,  0.,  0.]),\n",
       " 5: array([21., 23., 20., 24., 28., 15., 45., 47., 32., 11., 47., 68., 53.,\n",
       "        67.,  0.,  0.,  0.,  0.,  0.,  0.,  0.]),\n",
       " 6: array([44., 50., 42., 30., 22., 12., 57., 29., 25., 49., 23., 11.,  8.,\n",
       "        31.,  0.,  0.,  0.,  0.,  0.,  0.,  0.])}"
      ]
     },
     "execution_count": 361,
     "metadata": {},
     "output_type": "execute_result"
    }
   ],
   "source": [
    "pvals_t"
   ]
  },
  {
   "cell_type": "markdown",
   "id": "comprehensive-hotel",
   "metadata": {},
   "source": [
    "## Putting all semesters together"
   ]
  },
  {
   "cell_type": "code",
   "execution_count": 363,
   "id": "practical-vulnerability",
   "metadata": {},
   "outputs": [
    {
     "data": {
      "text/plain": [
       "(8415.0,\n",
       " array([8060., 8051., 8149., 8349., 7924., 7692., 8040., 8322., 8092.,\n",
       "        8079., 8209., 7871., 8429., 7899., 8240., 8064., 8224., 8162.,\n",
       "        7896., 7904., 7975., 7782., 8276., 8095., 8059., 8345., 8225.,\n",
       "        7657., 8294., 8217., 8081., 7946., 7960., 8015., 8235., 8031.,\n",
       "        7924., 8027., 8029., 7841., 7836., 7978., 7760., 8180., 8158.,\n",
       "        8057., 7989., 8067., 8026., 8237., 8355., 7568., 7698., 7981.,\n",
       "        7880., 8025., 8296., 8015., 8410., 8277., 7941., 8112., 7834.,\n",
       "        7897., 8234., 7865., 7885., 8028., 8205., 7799., 8014., 8199.,\n",
       "        7859., 8026., 8194., 8218., 7749., 7906., 7975., 8305., 7783.,\n",
       "        8003., 7902., 8224., 7882., 8227., 8116., 7941., 7889., 8196.,\n",
       "        8435., 8051., 8202., 8123., 8332., 7923., 8060., 7981., 8060.,\n",
       "        8274.]))"
      ]
     },
     "execution_count": 363,
     "metadata": {},
     "output_type": "execute_result"
    }
   ],
   "source": [
    "first_sem = 1\n",
    "last_sem = 6\n",
    "thetas = np.linspace(0,1,101)\n",
    "M = 100\n",
    "\n",
    "triads_all = [get_triads(data[semm]) for semm in range(1,last_sem+1)]\n",
    "triads_len = [len(x) for x in triads_all]\n",
    "triads_all_num = np.sum(triads_len[first_sem-1:last_sem])\n",
    "\n",
    "triad_agents = [np.unique(list(chain.from_iterable(triads))) for triads in triads_all]\n",
    "\n",
    "bal_dens = np.zeros(len(thetas))\n",
    "\n",
    "bal_dens_rands_sum = np.zeros(M)\n",
    "attr_rands_M = [randomize_attribute_sets(dcor_attributes, triad_agents) for i in range(0,M)] \n",
    "\n",
    "for semm in range(first_sem, last_sem+1):\n",
    "    triads = triads_all[semm-1]\n",
    "    \n",
    "    for i, theta in enumerate(thetas):\n",
    "        polarities = calc_link_polarities2(dcor_attributes[semm], theta)\n",
    "        bal_dens[i] = bal_dens[i] + balanced_triad_density_network(polarities, triads) * triads_len[semm - 1]\n",
    "\n",
    "bal_dens_rands = np.zeros([M, len(thetas)])\n",
    "for j in range(0,M):  \n",
    "    for semm in range(first_sem, last_sem+1):\n",
    "        triads = triads_all[semm-1]\n",
    "        for i, theta in enumerate(thetas):    \n",
    "            polarities_rand = calc_link_polarities2(attr_rands_M[j][semm], theta)\n",
    "            bal_dens_rands[j][i] = bal_dens_rands[j][i] + balanced_triad_density_network(polarities_rand, triads) * triads_len[semm - 1]\n",
    "\n",
    "    bal_dens_rands_sum[j] = np.sum(bal_dens_rands[j])\n",
    "    \n",
    "bal_dens_sum = np.sum(bal_dens)\n",
    "\n",
    "bal_dens = bal_dens / triads_all_num\n",
    "bal_dens_rands = bal_dens_rands / triads_all_num\n",
    "\n",
    "#saving data for this simulation\n",
    "test_triad_agents_terms_together_thetas = thetas\n",
    "test_triad_agents_terms_together_bal_dens = bal_dens\n",
    "test_triad_agents_terms_together_bal_dens_rands = bal_dens_rands\n",
    "\n",
    "bal_dens_sum, bal_dens_rands_sum\n",
    "\n",
    "# TODO: do poprawy powyzej. Zrobić, żeby była taka sama randomizacja wszystkich węzłów na raz we wszystkich semestrach. \n",
    "#     Obecnie jest to niezależne. \n"
   ]
  },
  {
   "cell_type": "code",
   "execution_count": 368,
   "id": "exclusive-petite",
   "metadata": {},
   "outputs": [
    {
     "data": {
      "text/plain": [
       "(98, 98)"
      ]
     },
     "execution_count": 368,
     "metadata": {},
     "output_type": "execute_result"
    }
   ],
   "source": [
    "np.sum(bal_dens_sum > bal_dens_rands_sum), np.sum(bal_dens_sum >= bal_dens_rands_sum)"
   ]
  },
  {
   "cell_type": "code",
   "execution_count": 365,
   "id": "passing-trade",
   "metadata": {},
   "outputs": [],
   "source": [
    "#results: 98,98 / M = 100 / no error"
   ]
  },
  {
   "cell_type": "code",
   "execution_count": 366,
   "id": "chinese-printer",
   "metadata": {},
   "outputs": [
    {
     "data": {
      "text/plain": [
       "array([13., 13., 13., 13., 13., 13., 13., 13., 13., 13., 13., 13., 13.,\n",
       "       13., 13., 16., 17., 17., 23., 25., 10., 11.,  7., 10.,  7.,  3.,\n",
       "        0.,  2.,  0.,  0.,  0.,  1.,  3.,  4.,  7.,  2., 16., 13., 11.,\n",
       "       18.,  8., 10., 23., 37., 38., 33., 43., 33., 15., 33., 45., 15.,\n",
       "        2., 11., 10.,  9.,  9.,  6., 14., 18., 27., 23., 32., 44., 51.,\n",
       "       63., 28., 10., 13., 19., 44., 25., 48., 41.,  9.,  0.,  0.,  0.,\n",
       "        0.,  0.,  0.,  0.,  0.,  0.,  0.,  0.,  0.,  0.,  0.,  0.,  0.,\n",
       "        0.,  0.,  0.,  0.,  0.,  0.,  0.,  0.,  0.,  0.])"
      ]
     },
     "execution_count": 366,
     "metadata": {},
     "output_type": "execute_result"
    }
   ],
   "source": [
    "pvals_T = np.zeros(len(thetas))\n",
    "for i, theta in enumerate(thetas):    \n",
    "    pvals_T[i] = np.sum(bal_dens_rands[:,i] > bal_dens[i])\n",
    "\n",
    "pvals_T"
   ]
  },
  {
   "cell_type": "code",
   "execution_count": 367,
   "id": "spectacular-elite",
   "metadata": {},
   "outputs": [
    {
     "data": {
      "text/plain": [
       "Text(0, 0.5, 'density of balanced triads')"
      ]
     },
     "execution_count": 367,
     "metadata": {},
     "output_type": "execute_result"
    },
    {
     "data": {
      "image/png": "[encoded data removed]",
      "text/plain": [
       "<Figure size 432x288 with 1 Axes>"
      ]
     },
     "metadata": {
      "needs_background": "light"
     },
     "output_type": "display_data"
    }
   ],
   "source": [
    "mean_vals = np.mean(np.array(test_all_agents_terms_together_bal_dens_rands).T,1)\n",
    "std_vals = np.std(np.array(test_all_agents_terms_together_bal_dens_rands).T,1)\n",
    "\n",
    "plt.plot(test_all_agents_terms_together_thetas, test_all_agents_terms_together_bal_dens, 'k.')\n",
    "\n",
    "plt.fill_between(thetas, mean_vals-std_vals, mean_vals+std_vals)\n",
    "plt.legend([\"network\", \"mean\"])\n",
    "plt.title(\"Comparing HBT in triads and randomized triad (!) agents' sets of attributes\")\n",
    "plt.xlabel(\"theta\")\n",
    "plt.ylabel(\"density of balanced triads\")"
   ]
  },
  {
   "cell_type": "markdown",
   "id": "alpine-group",
   "metadata": {},
   "source": [
    "# Comparing links after decorrelation"
   ]
  },
  {
   "cell_type": "code",
   "execution_count": 380,
   "id": "greek-preserve",
   "metadata": {},
   "outputs": [],
   "source": [
    "sem = 1\n",
    "th = 0.5\n",
    "\n",
    "polarities = calc_link_polarities2(dcor_attributes[sem], th)\n",
    "pol_old = calc_link_polarities2(ord_attributes[sem], th, 2)\n",
    "\n"
   ]
  },
  {
   "cell_type": "code",
   "execution_count": 385,
   "id": "extensive-telescope",
   "metadata": {},
   "outputs": [
    {
     "data": {
      "text/plain": [
       "(2607.0, 2933.0)"
      ]
     },
     "execution_count": 385,
     "metadata": {},
     "output_type": "execute_result"
    }
   ],
   "source": [
    "ones = np.sum(polarities == 1)/2\n",
    "ones_old = np.sum(pol_old == 1)/2\n",
    "\n",
    "ones, ones_old"
   ]
  },
  {
   "cell_type": "code",
   "execution_count": 389,
   "id": "institutional-hands",
   "metadata": {},
   "outputs": [
    {
     "data": {
      "text/plain": [
       "(3777.0, 0.7946560067325898)"
      ]
     },
     "execution_count": 389,
     "metadata": {},
     "output_type": "execute_result"
    }
   ],
   "source": [
    "N = polarities.shape[0]\n",
    "same = (np.sum(polarities == pol_old) - N)/2\n",
    "same, same/N/(N-1)*2"
   ]
  },
  {
   "cell_type": "code",
   "execution_count": 436,
   "id": "activated-cotton",
   "metadata": {},
   "outputs": [
    {
     "data": {
      "image/png": "[encoded data removed]",
      "text/plain": [
       "<Figure size 1440x720 with 6 Axes>"
      ]
     },
     "metadata": {
      "needs_background": "light"
     },
     "output_type": "display_data"
    }
   ],
   "source": [
    "dim1 = 2\n",
    "dim2 = 3\n",
    "thetas = np.linspace(0,1,101)\n",
    "\n",
    "fig, axs = plt.subplots(dim1, dim2)\n",
    "fig.set_size_inches(20,10)\n",
    "fig.suptitle(\"Comparing links after de-correlation\")\n",
    "\n",
    "semm = 0\n",
    "for a1 in range(0,dim1):\n",
    "    for a2 in range(0,dim2):\n",
    "        semm = semm + 1\n",
    "        \n",
    "        ones = np.zeros(len(thetas))\n",
    "        ones_old = np.zeros(len(thetas))\n",
    "        \n",
    "        for i, theta in enumerate(thetas):\n",
    "            polarities = calc_link_polarities2(dcor_attributes[semm], theta)\n",
    "            pol_old = calc_link_polarities2(ord_attributes[semm], theta, 2)\n",
    "            \n",
    "            N = polarities.shape[0]\n",
    "            ones[i] = np.sum(polarities == 1)/2 / N/(N-1)*2\n",
    "            ones_old[i] = np.sum(pol_old == 1)/2 / N/(N-1)*2\n",
    "        \n",
    "        axs[a1, a2].set_title(\"sem=\" + str(semm))\n",
    "        axs[a1,a2].plot(thetas, ones, thetas, ones_old)\n",
    "        # plt.plot(thetas, rand_bals_mean)\n",
    "        axs[a1, a2].legend([\"decor\", \"old attr\"])\n",
    "\n",
    "for ax in axs.flat:\n",
    "    ax.set(xlabel='theta', ylabel='density of positive links')\n",
    "\n",
    "# Hide x labels and tick labels for top plots and y ticks for right plots.\n",
    "for ax in axs.flat:\n",
    "    ax.label_outer()"
   ]
  },
  {
   "cell_type": "code",
   "execution_count": 435,
   "id": "clinical-guest",
   "metadata": {},
   "outputs": [
    {
     "data": {
      "image/png": "[encoded data removed]",
      "text/plain": [
       "<Figure size 1440x720 with 6 Axes>"
      ]
     },
     "metadata": {
      "needs_background": "light"
     },
     "output_type": "display_data"
    }
   ],
   "source": [
    "dim1 = 2\n",
    "dim2 = 3\n",
    "thetas = np.linspace(0,1,101)\n",
    "\n",
    "fig, axs = plt.subplots(dim1, dim2)\n",
    "fig.set_size_inches(20,10)\n",
    "fig.suptitle(\"Comparing links after de-correlation\")\n",
    "\n",
    "semm = 0\n",
    "for a1 in range(0,dim1):\n",
    "    for a2 in range(0,dim2):\n",
    "        semm = semm + 1\n",
    "        \n",
    "        sames = np.zeros(len(thetas))\n",
    "        \n",
    "        for i, theta in enumerate(thetas):\n",
    "            polarities = calc_link_polarities2(dcor_attributes[semm], theta)\n",
    "            pol_old = calc_link_polarities2(ord_attributes[semm], theta, 2)\n",
    "            \n",
    "            N = polarities.shape[0]\n",
    "            sames[i] = (np.sum(polarities == pol_old) - N)/2 / N/(N-1)*2\n",
    "        \n",
    "        axs[a1, a2].set_title(\"sem=\" + str(semm))\n",
    "        axs[a1,a2].plot(thetas, sames, 'ko')\n",
    "        # plt.plot(thetas, rand_bals_mean)\n",
    "\n",
    "for ax in axs.flat:\n",
    "    ax.set(xlabel='theta', ylabel='density of same links')\n",
    "\n",
    "# Hide x labels and tick labels for top plots and y ticks for right plots.\n",
    "for ax in axs.flat:\n",
    "    ax.label_outer()"
   ]
  },
  {
   "cell_type": "code",
   "execution_count": 425,
   "id": "nervous-cigarette",
   "metadata": {},
   "outputs": [
    {
     "data": {
      "text/plain": [
       "DegreeView({10060: 4, 85596: 10, 75261: 7, 71627: 2, 57637: 10, 66754: 6, 51552: 8, 23144: 13, 50869: 6, 25947: 6, 46160: 5, 46654: 2, 13799: 7, 86727: 4, 51722: 6, 59367: 2, 63188: 2, 68494: 6, 29914: 4, 15071: 4, 45539: 4, 46771: 5, 40997: 10, 53275: 6, 14188: 3, 17353: 2, 80058: 4, 30076: 4, 89827: 6, 37617: 2, 78911: 2, 62555: 4, 76313: 1, 50181: 1, 10841: 5, 72746: 2, 45945: 2, 26425: 2, 52067: 3, 34250: 2, 23642: 3, 66404: 6, 86352: 1, 16495: 6, 30952: 2, 19844: 1, 51597: 3, 52635: 2, 88175: 2, 75468: 2, 46021: 4, 66052: 2, 18420: 1, 68633: 2, 53884: 1, 32174: 1, 62560: 2, 25544: 5, 18344: 3, 39783: 2, 49597: 2, 44520: 2, 31583: 1})"
      ]
     },
     "execution_count": 425,
     "metadata": {},
     "output_type": "execute_result"
    }
   ],
   "source": [
    "data[6].degree"
   ]
  },
  {
   "cell_type": "code",
   "execution_count": 405,
   "id": "magnetic-stroke",
   "metadata": {},
   "outputs": [],
   "source": [
    "A = nx.adjacency_matrix(data[6]).todense()"
   ]
  },
  {
   "cell_type": "code",
   "execution_count": 406,
   "id": "excess-pharmacology",
   "metadata": {},
   "outputs": [
    {
     "data": {
      "text/plain": [
       "NodeView((10060, 85596, 75261, 71627, 57637, 66754, 51552, 23144, 50869, 25947, 46160, 46654, 13799, 86727, 51722, 59367, 63188, 68494, 29914, 15071, 45539, 46771, 40997, 53275, 14188, 17353, 80058, 30076, 89827, 37617, 78911, 62555, 76313, 50181, 10841, 72746, 45945, 26425, 52067, 34250, 23642, 66404, 86352, 16495, 30952, 19844, 51597, 52635, 88175, 75468, 46021, 66052, 18420, 68633, 53884, 32174, 62560, 25544, 18344, 39783, 49597, 44520, 31583))"
      ]
     },
     "execution_count": 406,
     "metadata": {},
     "output_type": "execute_result"
    }
   ],
   "source": [
    "data[6].nodes"
   ]
  },
  {
   "cell_type": "code",
   "execution_count": 430,
   "id": "colored-exposure",
   "metadata": {},
   "outputs": [],
   "source": [
    "degrees2 = [np.sum(A[:,i]>0) for i in range(0,len(data[6].nodes))]"
   ]
  },
  {
   "cell_type": "code",
   "execution_count": 437,
   "id": "patent-knitting",
   "metadata": {},
   "outputs": [
    {
     "data": {
      "text/plain": [
       "(63, 63)"
      ]
     },
     "execution_count": 437,
     "metadata": {},
     "output_type": "execute_result"
    }
   ],
   "source": [
    "len(degrees2), len(data[6].nodes)"
   ]
  },
  {
   "cell_type": "code",
   "execution_count": 440,
   "id": "tight-passport",
   "metadata": {},
   "outputs": [
    {
     "data": {
      "text/plain": [
       "array([10060, 10841, 13799, 14188, 15071, 16495, 17353, 18344, 18420,\n",
       "       19844, 23144, 23642, 25544, 25947, 26425, 29914, 30076, 30952,\n",
       "       31583, 32174, 34250, 37617, 39783, 40997, 44520, 45539, 45945,\n",
       "       46021, 46160, 46654, 46771, 49597, 50181, 50869, 51552, 51597,\n",
       "       51722, 52067, 52635, 53275, 53884, 57637, 59367, 62555, 62560,\n",
       "       63188, 66052, 66404, 66754, 68494, 68633, 71627, 72746, 75261,\n",
       "       75468, 76313, 78911, 80058, 85596, 86352, 86727, 88175, 89827])"
      ]
     },
     "execution_count": 440,
     "metadata": {},
     "output_type": "execute_result"
    }
   ],
   "source": [
    "np.sort(data[6].nodes)"
   ]
  },
  {
   "cell_type": "code",
   "execution_count": 463,
   "id": "fewer-onion",
   "metadata": {},
   "outputs": [
    {
     "data": {
      "text/plain": [
       "(1, 652)"
      ]
     },
     "execution_count": 463,
     "metadata": {},
     "output_type": "execute_result"
    }
   ],
   "source": [
    "np.sum(A[0,:]>0), np.sum(A[0,:])"
   ]
  },
  {
   "cell_type": "code",
   "execution_count": 452,
   "id": "solar-meeting",
   "metadata": {},
   "outputs": [
    {
     "data": {
      "text/plain": [
       "[51722, 85596]"
      ]
     },
     "execution_count": 452,
     "metadata": {},
     "output_type": "execute_result"
    }
   ],
   "source": [
    "list(data[6].neighbors(10060))"
   ]
  },
  {
   "cell_type": "code",
   "execution_count": 453,
   "id": "standing-cigarette",
   "metadata": {},
   "outputs": [
    {
     "data": {
      "text/plain": [
       "AtlasView(UnionAtlas({85596: {'weight': 638}, 51722: {'weight': 14}}, {85596: {'weight': 844}, 51722: {'weight': 16}}))"
      ]
     },
     "execution_count": 453,
     "metadata": {},
     "output_type": "execute_result"
    }
   ],
   "source": [
    "data[6][10060]"
   ]
  },
  {
   "cell_type": "code",
   "execution_count": 456,
   "id": "alternative-signal",
   "metadata": {},
   "outputs": [
    {
     "data": {
      "text/plain": [
       "([88175], AtlasView(UnionAtlas({}, {88175: {'weight': 1}})))"
      ]
     },
     "execution_count": 456,
     "metadata": {},
     "output_type": "execute_result"
    }
   ],
   "source": [
    "list(data[6].neighbors(31583)), data[6][31583]"
   ]
  },
  {
   "cell_type": "markdown",
   "id": "ambient-while",
   "metadata": {},
   "source": [
    "What we can see above is that this is in fact a directed network! But adjacency matrix is undirected. \n",
    "\n",
    "I will check whether the order of nodes is good. "
   ]
  },
  {
   "cell_type": "code",
   "execution_count": 466,
   "id": "successful-reset",
   "metadata": {},
   "outputs": [
    {
     "data": {
      "text/plain": [
       "(1, AtlasView(UnionAtlas({39783: {'weight': 6}}, {39783: {'weight': 5}})))"
      ]
     },
     "execution_count": 466,
     "metadata": {},
     "output_type": "execute_result"
    }
   ],
   "source": [
    "np.sum(A[-3,:]>0), data[6][49597]"
   ]
  },
  {
   "cell_type": "code",
   "execution_count": 458,
   "id": "internal-smith",
   "metadata": {},
   "outputs": [
    {
     "data": {
      "text/plain": [
       "False"
      ]
     },
     "execution_count": 458,
     "metadata": {},
     "output_type": "execute_result"
    }
   ],
   "source": [
    "nx.is_directed(data[6])"
   ]
  },
  {
   "cell_type": "code",
   "execution_count": 460,
   "id": "supported-beginning",
   "metadata": {},
   "outputs": [
    {
     "data": {
      "text/plain": [
       "[[10060],\n",
       " [85596],\n",
       " [75261],\n",
       " [71627],\n",
       " [57637],\n",
       " [66754],\n",
       " [51552],\n",
       " [23144],\n",
       " [50869],\n",
       " [25947],\n",
       " [46160],\n",
       " [46654],\n",
       " [13799],\n",
       " [86727],\n",
       " [51722],\n",
       " [59367],\n",
       " [63188],\n",
       " [68494],\n",
       " [29914],\n",
       " [15071],\n",
       " [45539],\n",
       " [46771],\n",
       " [40997],\n",
       " [53275],\n",
       " [14188],\n",
       " [17353],\n",
       " [80058],\n",
       " [30076],\n",
       " [89827],\n",
       " [37617],\n",
       " [78911],\n",
       " [62555],\n",
       " [76313],\n",
       " [50181],\n",
       " [10841],\n",
       " [72746],\n",
       " [45945],\n",
       " [26425],\n",
       " [52067],\n",
       " [34250],\n",
       " [23642],\n",
       " [66404],\n",
       " [86352],\n",
       " [16495],\n",
       " [30952],\n",
       " [19844],\n",
       " [51597],\n",
       " [52635],\n",
       " [88175],\n",
       " [75468],\n",
       " [46021],\n",
       " [66052],\n",
       " [18420],\n",
       " [68633],\n",
       " [53884],\n",
       " [32174],\n",
       " [62560],\n",
       " [25544],\n",
       " [18344],\n",
       " [39783],\n",
       " [49597],\n",
       " [44520],\n",
       " [31583],\n",
       " [10060, 85596],\n",
       " [10060, 51722],\n",
       " [85596, 50869],\n",
       " [85596, 51722],\n",
       " [85596, 68494],\n",
       " [85596, 37617],\n",
       " [75261, 71627],\n",
       " [75261, 46654],\n",
       " [75261, 66404],\n",
       " [75261, 62560],\n",
       " [57637, 66754],\n",
       " [57637, 51552],\n",
       " [57637, 23144],\n",
       " [57637, 89827],\n",
       " [57637, 25544],\n",
       " [66754, 51552],\n",
       " [66754, 89827],\n",
       " [51552, 23144],\n",
       " [51552, 89827],\n",
       " [23144, 50869],\n",
       " [23144, 46160],\n",
       " [23144, 26425],\n",
       " [23144, 52067],\n",
       " [23144, 23642],\n",
       " [23144, 32174],\n",
       " [50869, 13799],\n",
       " [25947, 46160],\n",
       " [25947, 59367],\n",
       " [25947, 34250],\n",
       " [46160, 23642],\n",
       " [13799, 86727],\n",
       " [13799, 45539],\n",
       " [13799, 62560],\n",
       " [86727, 45539],\n",
       " [51722, 78911],\n",
       " [63188, 68494],\n",
       " [68494, 16495],\n",
       " [29914, 15071],\n",
       " [29914, 46771],\n",
       " [15071, 46771],\n",
       " [46771, 19844],\n",
       " [40997, 53275],\n",
       " [40997, 10841],\n",
       " [40997, 86352],\n",
       " [40997, 52635],\n",
       " [40997, 46021],\n",
       " [40997, 18420],\n",
       " [53275, 10841],\n",
       " [53275, 68633],\n",
       " [53275, 53884],\n",
       " [14188, 17353],\n",
       " [14188, 16495],\n",
       " [80058, 30076],\n",
       " [80058, 66404],\n",
       " [30076, 66404],\n",
       " [62555, 76313],\n",
       " [62555, 50181],\n",
       " [62555, 66052],\n",
       " [10841, 68633],\n",
       " [72746, 45945],\n",
       " [52067, 51597],\n",
       " [16495, 30952],\n",
       " [16495, 88175],\n",
       " [51597, 25544],\n",
       " [88175, 31583],\n",
       " [75468, 46021],\n",
       " [25544, 18344],\n",
       " [18344, 44520],\n",
       " [39783, 49597],\n",
       " [10060, 85596, 51722],\n",
       " [57637, 66754, 51552],\n",
       " [57637, 66754, 89827],\n",
       " [57637, 51552, 23144],\n",
       " [57637, 51552, 89827],\n",
       " [66754, 51552, 89827],\n",
       " [23144, 46160, 23642],\n",
       " [13799, 86727, 45539],\n",
       " [29914, 15071, 46771],\n",
       " [40997, 53275, 10841],\n",
       " [53275, 10841, 68633],\n",
       " [80058, 30076, 66404],\n",
       " [57637, 66754, 51552, 89827]]"
      ]
     },
     "execution_count": 460,
     "metadata": {},
     "output_type": "execute_result"
    }
   ],
   "source": [
    "list(nx.enumerate_all_cliques(data[6]))"
   ]
  },
  {
   "cell_type": "code",
   "execution_count": 468,
   "id": "engaged-eugene",
   "metadata": {},
   "outputs": [
    {
     "data": {
      "text/plain": [
       "[(0, 1, 14),\n",
       " (4, 5, 6),\n",
       " (4, 5, 28),\n",
       " (4, 6, 7),\n",
       " (4, 6, 28),\n",
       " (5, 6, 28),\n",
       " (7, 10, 40),\n",
       " (12, 13, 20),\n",
       " (18, 19, 21),\n",
       " (22, 23, 34),\n",
       " (23, 34, 53),\n",
       " (26, 27, 41)]"
      ]
     },
     "execution_count": 468,
     "metadata": {},
     "output_type": "execute_result"
    }
   ],
   "source": [
    "get_triads(data[6])"
   ]
  },
  {
   "cell_type": "markdown",
   "id": "different-technician",
   "metadata": {},
   "source": [
    "OK, the order of nodes is correct. \n",
    "\n",
    "Now let's check how weights in adjacency matrix are correlated with the weights in nodes' attributes"
   ]
  },
  {
   "cell_type": "code",
   "execution_count": 476,
   "id": "remarkable-detroit",
   "metadata": {},
   "outputs": [
    {
     "data": {
      "text/plain": [
       "(AtlasView(UnionAtlas({85596: {'weight': 638}, 51722: {'weight': 14}}, {85596: {'weight': 844}, 51722: {'weight': 16}})),\n",
       " matrix([[  0, 638,   0,   0,   0,   0,   0,   0,   0,   0,   0,   0,   0,\n",
       "            0,  14,   0,   0,   0,   0,   0,   0,   0,   0,   0,   0,   0,\n",
       "            0,   0,   0,   0,   0,   0,   0,   0,   0,   0,   0,   0,   0,\n",
       "            0,   0,   0,   0,   0,   0,   0,   0,   0,   0,   0,   0,   0,\n",
       "            0,   0,   0,   0,   0,   0,   0,   0,   0,   0,   0]]))"
      ]
     },
     "execution_count": 476,
     "metadata": {},
     "output_type": "execute_result"
    }
   ],
   "source": [
    "data[6][10060], A[0,:]"
   ]
  },
  {
   "cell_type": "markdown",
   "id": "respiratory-gabriel",
   "metadata": {},
   "source": [
    "Adjacency matrix is symmetric. \n",
    "\n",
    "However, the weights are neither the maximum nor minimum weight of a weight i->j and j->i. \n",
    "Above is the example it is not the maximum (638, 844 -> 638). \n",
    "Also (14, 1 -> 14)\n"
   ]
  },
  {
   "cell_type": "code",
   "execution_count": 480,
   "id": "chemical-surveillance",
   "metadata": {},
   "outputs": [
    {
     "data": {
      "text/plain": [
       "(AtlasView(UnionAtlas({66754: {'weight': 123}, 51552: {'weight': 19}, 23144: {'weight': 86}, 89827: {'weight': 6}, 25544: {'weight': 6}}, {23144: {'weight': 72}, 66754: {'weight': 106}, 51552: {'weight': 13}, 89827: {'weight': 2}, 25544: {'weight': 8}})),\n",
       " matrix([[  0,   0,   0,   0,   0, 123,  19,  86,   0,   0,   0,   0,   0,\n",
       "            0,   0,   0,   0,   0,   0,   0,   0,   0,   0,   0,   0,   0,\n",
       "            0,   0,   6,   0,   0,   0,   0,   0,   0,   0,   0,   0,   0,\n",
       "            0,   0,   0,   0,   0,   0,   0,   0,   0,   0,   0,   0,   0,\n",
       "            0,   0,   0,   0,   0,   6,   0,   0,   0,   0,   0]]))"
      ]
     },
     "execution_count": 480,
     "metadata": {},
     "output_type": "execute_result"
    }
   ],
   "source": [
    "data[6][57637], A[4,:]"
   ]
  },
  {
   "cell_type": "markdown",
   "id": "considerable-window",
   "metadata": {},
   "source": [
    "It seems, that which value of weight is given is related to which node was entered first. "
   ]
  },
  {
   "cell_type": "code",
   "execution_count": 491,
   "id": "strong-twins",
   "metadata": {},
   "outputs": [
    {
     "data": {
      "text/plain": [
       "({'weight': 638},\n",
       " AtlasView(UnionAtlas({85596: {'weight': 638}, 51722: {'weight': 14}}, {85596: {'weight': 844}, 51722: {'weight': 16}})))"
      ]
     },
     "execution_count": 491,
     "metadata": {},
     "output_type": "execute_result"
    }
   ],
   "source": [
    "data_nodes = list(data[6].nodes)\n",
    "data[6][data_nodes[0]][85596], data[6][data_nodes[0]]"
   ]
  },
  {
   "cell_type": "code",
   "execution_count": 493,
   "id": "loaded-procurement",
   "metadata": {},
   "outputs": [
    {
     "data": {
      "text/plain": [
       "638"
      ]
     },
     "execution_count": 493,
     "metadata": {},
     "output_type": "execute_result"
    }
   ],
   "source": [
    "data[6][data_nodes[0]][85596]['weight']"
   ]
  },
  {
   "cell_type": "code",
   "execution_count": 577,
   "id": "spare-basic",
   "metadata": {},
   "outputs": [],
   "source": [
    "def create_directed_adj_mat(net):\n",
    "    A_undir = nx.adjacency_matrix(net).todense()\n",
    "    A_dir = np.zeros(A_undir.shape, dtype=int)\n",
    "    \n",
    "    data_nodes = list(net.nodes)\n",
    "    \n",
    "    for node_ind, node in enumerate(data_nodes):\n",
    "        for neigh in net[data_nodes[node_ind]]:\n",
    "            try:\n",
    "                neigh_ind = np.where(np.array(data_nodes) == neigh)[0][0]\n",
    "            except KeyError:\n",
    "                print(neigh)\n",
    "                print(np.array(data_nodes) == neigh)\n",
    "                print(data_nodes)\n",
    "                print(net[data_nodes[node_ind]])\n",
    "            try:\n",
    "                A_dir[node_ind,neigh_ind] = net[data_nodes[node_ind]][neigh]['weight']\n",
    "            except KeyError:\n",
    "                print(node_ind, neigh_ind)\n",
    "                print(net[data_nodes[node_ind]])\n",
    "                print(net[data_nodes[node_ind]][neigh_ind])\n",
    "                print(net[data_nodes[node_ind]][neigh_ind]['weight'])\n",
    "    return A_dir, A_undir\n",
    "\n",
    "\"\"\"\n",
    "This can find also directed triads. \n",
    "\"\"\"\n",
    "def get_triads_from_adj_mat(A):\n",
    "    N = A.shape[0]\n",
    "    \n",
    "    triads = dict()\n",
    "    for i in range(0,N):\n",
    "        for j in range(i+1,N):\n",
    "            if A[i,j] == 0:\n",
    "                continue\n",
    "            for k in range(j+1,N):\n",
    "                if A[j,k] > 0 and A[k,i] > 0:\n",
    "                    triads[(i,j,k)] = (A[i,j], A[j,k], A[k, i])\n",
    "    \n",
    "    for i in range(0,N):\n",
    "        for j in range(i+1,N):\n",
    "            if A[j,i] == 0:\n",
    "                continue\n",
    "            for k in range(j+1,N):\n",
    "                if A[k,j] > 0 and A[i,k] > 0:\n",
    "                    triads[(k,j,i)] = (A[k,j], A[j,i], A[i,k])\n",
    "    return triads\n",
    "\n",
    "def find_th_polarity_change(attr, agent1, agent2, sem, dif_max = max_dif3):\n",
    "    thresholds = np.linspace(0,1,101)\n",
    "    \n",
    "    beg_polarity = calc_link_polarity2(attr[sem][agent1], attr[sem][agent2], 0, dif_max)\n",
    "    \n",
    "    for th in thresholds:\n",
    "        polarity = calc_link_polarity2(attr[sem][agent1], attr[sem][agent2], th, dif_max)\n",
    "        if beg_polarity != polarity:\n",
    "            break\n",
    "        \n",
    "    return th\n",
    "    "
   ]
  },
  {
   "cell_type": "code",
   "execution_count": 558,
   "id": "otherwise-point",
   "metadata": {},
   "outputs": [],
   "source": [
    "A_dir, A_undir = create_directed_adj_mat(data[6])"
   ]
  },
  {
   "cell_type": "code",
   "execution_count": 559,
   "id": "documentary-williams",
   "metadata": {},
   "outputs": [
    {
     "data": {
      "text/plain": [
       "{(0, 1, 14): (638, 123, 16),\n",
       " (4, 5, 6): (123, 13, 13),\n",
       " (4, 5, 28): (123, 39, 2),\n",
       " (4, 6, 7): (19, 9, 72),\n",
       " (4, 6, 28): (19, 4, 2),\n",
       " (5, 6, 28): (13, 4, 25),\n",
       " (7, 10, 40): (1, 25, 1),\n",
       " (12, 13, 20): (16, 329, 7784),\n",
       " (18, 19, 21): (10, 2, 27),\n",
       " (22, 23, 34): (37, 18, 1),\n",
       " (23, 34, 53): (18, 4, 2),\n",
       " (26, 27, 41): (2, 115, 8),\n",
       " (14, 1, 0): (98, 844, 14),\n",
       " (6, 5, 4): (11, 106, 19),\n",
       " (28, 5, 4): (25, 106, 6),\n",
       " (7, 6, 4): (11, 13, 86),\n",
       " (28, 6, 4): (5, 13, 6),\n",
       " (28, 6, 5): (5, 11, 39),\n",
       " (40, 10, 7): (33, 1, 1),\n",
       " (20, 13, 12): (329, 10, 8604),\n",
       " (21, 19, 18): (7, 7, 21),\n",
       " (34, 23, 22): (10, 36, 1),\n",
       " (53, 34, 23): (4, 10, 2),\n",
       " (41, 27, 26): (101, 2, 6)}"
      ]
     },
     "execution_count": 559,
     "metadata": {},
     "output_type": "execute_result"
    }
   ],
   "source": [
    "triads = get_triads_from_adj_mat(A_dir)\n",
    "triads"
   ]
  },
  {
   "cell_type": "code",
   "execution_count": 562,
   "id": "comic-lesson",
   "metadata": {},
   "outputs": [],
   "source": [
    "sem = 6\n",
    "th = 0.4\n",
    "\n",
    "polarities = calc_link_polarities2(dcor_attributes[sem], th)\n",
    "pol_old = calc_link_polarities2(ord_attributes[sem], th, 2)"
   ]
  },
  {
   "cell_type": "code",
   "execution_count": 569,
   "id": "relative-segment",
   "metadata": {},
   "outputs": [
    {
     "data": {
      "text/plain": [
       "1.0"
      ]
     },
     "execution_count": 569,
     "metadata": {},
     "output_type": "execute_result"
    }
   ],
   "source": [
    "polarities[12,13]"
   ]
  },
  {
   "cell_type": "code",
   "execution_count": 614,
   "id": "chief-martial",
   "metadata": {},
   "outputs": [
    {
     "data": {
      "text/plain": [
       "(0.46, 0.25)"
      ]
     },
     "execution_count": 614,
     "metadata": {},
     "output_type": "execute_result"
    }
   ],
   "source": [
    "agent1 = 7\n",
    "agent2 = 40\n",
    "agent3 = 10\n",
    "find_th_polarity_change(dcor_attributes, agent1, agent2, sem), find_th_polarity_change(ord_attributes, agent1, agent2, sem, 2)"
   ]
  },
  {
   "cell_type": "code",
   "execution_count": 611,
   "id": "imposed-colonial",
   "metadata": {},
   "outputs": [
    {
     "name": "stdout",
     "output_type": "stream",
     "text": [
      "0.56\n"
     ]
    }
   ],
   "source": [
    "sem = 6\n",
    "attr = dcor_attributes\n",
    "agent1 = 40\n",
    "agent2= 10\n",
    "beg_polarity = calc_link_polarity2(attr[sem][agent1], attr[sem][agent2], 0)\n",
    "thresholds = np.linspace(0,1,101)\n",
    "for th in thresholds:\n",
    "    polarity = calc_link_polarity2(attr[sem][agent1], attr[sem][agent2], th)\n",
    "    if beg_polarity != polarity:\n",
    "        print(th)\n",
    "        break"
   ]
  },
  {
   "cell_type": "code",
   "execution_count": 605,
   "id": "simplified-directive",
   "metadata": {},
   "outputs": [
    {
     "data": {
      "text/plain": [
       "(array([-3.092,  0.259,  0.143,  0.064, -0.09 , -0.561, -0.934,  0.395]),\n",
       " array([-7.171,  0.974,  1.286,  0.951, -0.07 , -0.785,  0.362,  0.571]))"
      ]
     },
     "execution_count": 605,
     "metadata": {},
     "output_type": "execute_result"
    }
   ],
   "source": [
    "dcor_attributes[sem][agent1], dcor_attributes[sem][agent2]"
   ]
  },
  {
   "cell_type": "code",
   "execution_count": 616,
   "id": "quick-sigma",
   "metadata": {},
   "outputs": [
    {
     "data": {
      "text/plain": [
       "(0.45101236526255084, 0.5163075877959884, 0.5576475905238091)"
      ]
     },
     "execution_count": 616,
     "metadata": {},
     "output_type": "execute_result"
    }
   ],
   "source": [
    "agent1 = 7\n",
    "agent2 = 40\n",
    "agent3 = 10\n",
    "calc_distance(dcor_attributes[sem][agent1], dcor_attributes[sem][agent2], max_dif3), calc_distance(dcor_attributes[sem][agent1], dcor_attributes[sem][agent3], max_dif3),  calc_distance(dcor_attributes[sem][agent3], dcor_attributes[sem][agent2], max_dif3)"
   ]
  },
  {
   "cell_type": "markdown",
   "id": "junior-switch",
   "metadata": {},
   "source": [
    "Czemu losujemy tylko po agentach, którzy tworzą triady? Czy to ma sens?\n",
    "\n",
    "Agenci, którzy nie tworzą triad, może mają połączenia z innymi agentami, ale ich nie widzimy. Stąd jest sens ich nie brać. \n",
    "\n",
    "Ale jaki sens ma, że bierzemy jedną triadę ABC i triadę DEF, które są oderwane od reszty sieci i mieszamy agentów? \n",
    "\n",
    "Wychodzi, że atrybuty nie mają takiego znaczenia, jeśli chodzi o otrzymanie odpowiedniej równowagi. Ewentualnie, ja źle na nie patrzę. "
   ]
  },
  {
   "cell_type": "markdown",
   "id": "honest-think",
   "metadata": {},
   "source": [
    "# Testing statistical properties of a model with random vector attributes"
   ]
  },
  {
   "cell_type": "markdown",
   "id": "frequent-leave",
   "metadata": {},
   "source": [
    "Pomysły: \n",
    "\n",
    "1. Wygeneruję losowe atrybuty (randomizacja). Następnie wykonam jeszcze M randomizacji i policzę odgległości w zależności od tety. Następnie sprawdzę, czy te różnice są opisywane np. rozkładem normalnym, co pozwoliłoby wykorzystać t-test w porównaniu danych rzeczywsitych. \n",
    "2. Założę rozkłąd jednorodny teta. Będę losował teta i w ten sposób otrzymam odpowiednie wartości z danych rzeczywistych lub z modelu losowego (randomizacji). Otrzymam dwa ciągi liczb i będę mógł je porównać np. Kruskalem. "
   ]
  },
  {
   "cell_type": "code",
   "execution_count": 63,
   "id": "contemporary-information",
   "metadata": {},
   "outputs": [
    {
     "data": {
      "text/plain": [
       "(7890.0,\n",
       " array([7878., 7943., 7913., 7596., 8129., 8083., 8027., 8434., 7682.,\n",
       "        8120., 7882., 7792., 7846., 7791., 8258., 8276., 7840., 8003.,\n",
       "        7921., 7676., 7767., 8159., 7627., 7839., 7993., 7977., 8130.,\n",
       "        8082., 7731., 7699., 8380., 7836., 7882., 7993., 8080., 7915.,\n",
       "        8111., 7859., 7915., 7833., 7580., 7762., 8123., 7912., 7951.,\n",
       "        8096., 7951., 8123., 7819., 8057., 8116., 7882., 8313., 8042.,\n",
       "        7861., 8283., 7735., 7783., 7742., 8042., 8214., 8154., 8229.,\n",
       "        7995., 7979., 7999., 8096., 8168., 8138., 7886., 7915., 7859.,\n",
       "        7839., 8472., 7701., 7972., 7520., 8061., 8066., 7724., 7872.,\n",
       "        7872., 8164., 8023., 8268., 7984., 7807., 7929., 7881., 7709.,\n",
       "        7783., 7851., 8130., 7976., 7619., 7889., 7812., 7970., 7929.,\n",
       "        7934.]))"
      ]
     },
     "execution_count": 63,
     "metadata": {},
     "output_type": "execute_result"
    }
   ],
   "source": [
    "first_sem = 1\n",
    "last_sem = 6\n",
    "thetas = np.linspace(0,1,101)\n",
    "M = 100\n",
    "\n",
    "################################\n",
    "art = randomize_attribute_sets(dcor_attributes)\n",
    "attr_rands_M = [randomize_attribute_sets(dcor_attributes) for i in range(0,M)] \n",
    "\n",
    "############################3\n",
    "triads_all = [get_triads(data[semm]) for semm in range(1,last_sem+1)]\n",
    "triads_len = [len(x) for x in triads_all]\n",
    "triads_all_num = np.sum(triads_len[first_sem-1:last_sem])\n",
    "\n",
    "bal_dens = np.zeros(len(thetas))\n",
    "bal_dens_rands_sum = np.zeros(M)\n",
    "\n",
    "for semm in range(first_sem, last_sem+1):\n",
    "    triads = triads_all[semm-1]\n",
    "    \n",
    "    for i, theta in enumerate(thetas):\n",
    "        polarities = calc_link_polarities2(art[semm], theta)\n",
    "        bal_dens[i] = bal_dens[i] + balanced_triad_density_network(polarities, triads) * triads_len[semm - 1]\n",
    "\n",
    "bal_dens_rands = np.zeros([M, len(thetas)])\n",
    "for j in range(0,M):  \n",
    "    for semm in range(first_sem, last_sem+1):\n",
    "        triads = triads_all[semm-1]\n",
    "        for i, theta in enumerate(thetas):    \n",
    "            polarities_rand = calc_link_polarities2(attr_rands_M[j][semm], theta)\n",
    "            bal_dens_rands[j][i] = bal_dens_rands[j][i] + balanced_triad_density_network(polarities_rand, triads) * triads_len[semm - 1]\n",
    "\n",
    "    bal_dens_rands_sum[j] = np.sum(bal_dens_rands[j])\n",
    "    \n",
    "bal_dens_sum = np.sum(bal_dens)\n",
    "\n",
    "bal_dens = bal_dens / triads_all_num\n",
    "bal_dens_rands = bal_dens_rands / triads_all_num\n",
    "\n",
    "bal_dens_sum, bal_dens_rands_sum\n",
    "\n",
    "# TODO: do poprawy powyzej. Zrobić, żeby była taka sama randomizacja wszystkich węzłów na raz we wszystkich semestrach. \n",
    "#     Obecnie jest to niezależne. \n"
   ]
  },
  {
   "cell_type": "code",
   "execution_count": 64,
   "id": "appropriate-decade",
   "metadata": {},
   "outputs": [
    {
     "data": {
      "text/plain": [
       "(array([0.   , 0.   , 0.001, 0.002, 0.001, 0.002, 0.002, 0.001, 0.001,\n",
       "        0.   ]),\n",
       " array([-582. , -486.8, -391.6, -296.4, -201.2, -106. ,  -10.8,   84.4,\n",
       "         179.6,  274.8,  370. ]),\n",
       " <BarContainer object of 10 artists>)"
      ]
     },
     "execution_count": 64,
     "metadata": {},
     "output_type": "execute_result"
    },
    {
     "data": {
      "image/png": "[encoded data removed]",
      "text/plain": [
       "<Figure size 432x288 with 1 Axes>"
      ]
     },
     "metadata": {
      "needs_background": "light"
     },
     "output_type": "display_data"
    }
   ],
   "source": [
    "plt.hist(bal_dens_sum - bal_dens_rands_sum, density=True)"
   ]
  },
  {
   "cell_type": "code",
   "execution_count": 65,
   "id": "accurate-compilation",
   "metadata": {},
   "outputs": [],
   "source": [
    "import statsmodels.api as sm\n",
    "import pylab as py"
   ]
  },
  {
   "cell_type": "code",
   "execution_count": 71,
   "id": "organizational-mongolia",
   "metadata": {},
   "outputs": [
    {
     "data": {
      "image/png": "[encoded data removed]",
      "text/plain": [
       "<Figure size 432x288 with 1 Axes>"
      ]
     },
     "metadata": {
      "needs_background": "light"
     },
     "output_type": "display_data"
    }
   ],
   "source": [
    "bal_dens_rands_sum_mean = np.mean(bal_dens_rands_sum)\n",
    "bal_dens_rands_sum_std = np.std(bal_dens_rands_sum)\n",
    "\n",
    "data_points = (bal_dens_rands_sum - bal_dens_rands_sum_mean) / bal_dens_rands_sum_std\n",
    "\n",
    "sm.qqplot(data_points, line ='45')\n",
    "py.show()"
   ]
  },
  {
   "cell_type": "code",
   "execution_count": 73,
   "id": "surgical-lotus",
   "metadata": {},
   "outputs": [
    {
     "data": {
      "text/plain": [
       "ShapiroResult(statistic=0.9908419847488403, pvalue=0.7324216961860657)"
      ]
     },
     "execution_count": 73,
     "metadata": {},
     "output_type": "execute_result"
    }
   ],
   "source": [
    "stats.shapiro(data_points)"
   ]
  },
  {
   "cell_type": "code",
   "execution_count": 74,
   "id": "approved-indie",
   "metadata": {},
   "outputs": [
    {
     "data": {
      "text/plain": [
       "ShapiroResult(statistic=0.9908415079116821, pvalue=0.7323837280273438)"
      ]
     },
     "execution_count": 74,
     "metadata": {},
     "output_type": "execute_result"
    }
   ],
   "source": [
    "stats.shapiro(bal_dens_rands_sum)"
   ]
  },
  {
   "cell_type": "markdown",
   "id": "parallel-forest",
   "metadata": {},
   "source": [
    "Conclusion: one can treat the sum of densities as a random variable. So we can test the obtain statistic from real data using the Student's t-test. "
   ]
  },
  {
   "cell_type": "code",
   "execution_count": 85,
   "id": "controlled-pitch",
   "metadata": {},
   "outputs": [
    {
     "data": {
      "text/plain": [
       "0.007496395239859122"
      ]
     },
     "execution_count": 85,
     "metadata": {},
     "output_type": "execute_result"
    }
   ],
   "source": [
    "1-stats.norm.cdf(8415,bal_dens_rands_sum_mean, bal_dens_rands_sum_std)"
   ]
  },
  {
   "cell_type": "markdown",
   "id": "molecular-process",
   "metadata": {},
   "source": [
    "Powyżej jest p-value rezultatu sumy gęstości przy założeniu normalności uzyskiwanych gęstości z danych losowych. Oczywiście przy stosownym teście hipoteza, że dane pochodzą z takiego rozkładu jak dane losowe, zostałaby odrzucona. "
   ]
  },
  {
   "cell_type": "code",
   "execution_count": 91,
   "id": "described-fairy",
   "metadata": {},
   "outputs": [
    {
     "data": {
      "text/plain": [
       "array([[0.007, 0.007, 0.007, ..., 1.   , 1.   , 1.   ],\n",
       "       [0.022, 0.022, 0.022, ..., 1.   , 1.   , 1.   ],\n",
       "       [0.   , 0.   , 0.   , ..., 1.   , 1.   , 1.   ],\n",
       "       ...,\n",
       "       [0.   , 0.   , 0.   , ..., 1.   , 1.   , 1.   ],\n",
       "       [0.022, 0.022, 0.022, ..., 1.   , 1.   , 1.   ],\n",
       "       [0.014, 0.014, 0.014, ..., 1.   , 1.   , 1.   ]])"
      ]
     },
     "execution_count": 91,
     "metadata": {},
     "output_type": "execute_result"
    }
   ],
   "source": [
    "bal_dens_rands"
   ]
  },
  {
   "cell_type": "code",
   "execution_count": 111,
   "id": "obvious-force",
   "metadata": {},
   "outputs": [
    {
     "name": "stderr",
     "output_type": "stream",
     "text": [
      "/home/pgorski/anaconda3/lib/python3.8/site-packages/scipy/stats/morestats.py:1681: UserWarning: p-value may not be accurate for N > 5000.\n",
      "  warnings.warn(\"p-value may not be accurate for N > 5000.\")\n"
     ]
    },
    {
     "data": {
      "text/plain": [
       "ShapiroResult(statistic=0.9764745831489563, pvalue=1.731517413263134e-34)"
      ]
     },
     "execution_count": 111,
     "metadata": {},
     "output_type": "execute_result"
    },
    {
     "data": {
      "image/png": "[encoded data removed]",
      "text/plain": [
       "<Figure size 432x288 with 1 Axes>"
      ]
     },
     "metadata": {
      "needs_background": "light"
     },
     "output_type": "display_data"
    }
   ],
   "source": [
    "data_points = [(bal_dens - bal_dens_rands[i])[:-20] for i in range(M)]\n",
    "\n",
    "# data_points[data_points == 0]\n",
    "\n",
    "plt.hist([item for sublist in data_points for item in sublist])\n",
    "\n",
    "stats.shapiro(data_points)"
   ]
  },
  {
   "cell_type": "code",
   "execution_count": 113,
   "id": "completed-transparency",
   "metadata": {},
   "outputs": [
    {
     "data": {
      "image/png": "[encoded data removed]",
      "text/plain": [
       "<Figure size 432x288 with 1 Axes>"
      ]
     },
     "metadata": {
      "needs_background": "light"
     },
     "output_type": "display_data"
    }
   ],
   "source": [
    "dd = np.array([item for sublist in data_points for item in sublist])\n",
    "sm.qqplot(dd, line ='45')\n",
    "py.show()"
   ]
  },
  {
   "cell_type": "markdown",
   "id": "pregnant-tuesday",
   "metadata": {},
   "source": [
    "Różnice nie są normalne. Przy porównywaniu przebiegów konieczne są testy nieparametryczne. "
   ]
  },
  {
   "cell_type": "markdown",
   "id": "subjective-finding",
   "metadata": {},
   "source": [
    "Przeprowadzę test Wilcoxona w ten sposób, że wylosuję M thet i dla każdej z nich policzę bal_dens w danych i dla każdej z nich przeprowadzę randomizację i policzę gęstość zrównoważonych. "
   ]
  },
  {
   "cell_type": "code",
   "execution_count": 120,
   "id": "bronze-landing",
   "metadata": {},
   "outputs": [
    {
     "data": {
      "text/plain": [
       "(637, 877)"
      ]
     },
     "execution_count": 120,
     "metadata": {},
     "output_type": "execute_result"
    }
   ],
   "source": [
    "first_sem = 1\n",
    "last_sem = 6\n",
    "M = 1000\n",
    "\n",
    "thetas = np.random.random(M)\n",
    "\n",
    "\n",
    "################################\n",
    "# art = randomize_attribute_sets(dcor_attributes)\n",
    "attr_rands_M = [randomize_attribute_sets(dcor_attributes) for i in range(0,M)] \n",
    "\n",
    "############################3\n",
    "triads_all = [get_triads(data[semm]) for semm in range(1,last_sem+1)]\n",
    "triads_len = [len(x) for x in triads_all]\n",
    "triads_all_num = np.sum(triads_len[first_sem-1:last_sem])\n",
    "\n",
    "bal_dens = np.zeros(len(thetas))\n",
    "bal_dens_rands = np.zeros(M)\n",
    "\n",
    "for i, theta in enumerate(thetas):\n",
    "    for semm in range(first_sem, last_sem+1):\n",
    "        triads = triads_all[semm-1]\n",
    "        \n",
    "        polarities = calc_link_polarities2(dcor_attributes[semm], theta)\n",
    "        bal_dens[i] = bal_dens[i] + balanced_triad_density_network(polarities, triads) * triads_len[semm - 1]\n",
    "        \n",
    "        attr_rand = randomize_attribute_sets(dcor_attributes)\n",
    "        polarities_rand = calc_link_polarities2(attr_rand[semm], theta)\n",
    "        bal_dens_rands[i] = bal_dens_rands[i] + balanced_triad_density_network(polarities_rand, triads) * triads_len[semm - 1]\n",
    "\n",
    "\n",
    "bal_dens = bal_dens / triads_all_num\n",
    "bal_dens_rands = bal_dens_rands / triads_all_num\n",
    "\n",
    "np.sum(bal_dens > bal_dens_rands), np.sum(bal_dens >= bal_dens_rands)\n",
    "\n",
    "# TODO: do poprawy powyzej. Zrobić, żeby była taka sama randomizacja wszystkich węzłów na raz we wszystkich semestrach. \n",
    "#     Obecnie jest to niezależne. \n"
   ]
  },
  {
   "cell_type": "code",
   "execution_count": 121,
   "id": "dried-notion",
   "metadata": {},
   "outputs": [
    {
     "data": {
      "text/plain": [
       "WilcoxonResult(statistic=257272.5, pvalue=1.2032411652482222e-77)"
      ]
     },
     "execution_count": 121,
     "metadata": {},
     "output_type": "execute_result"
    }
   ],
   "source": [
    "stats.wilcoxon(bal_dens, bal_dens_rands, alternative = 'greater')"
   ]
  },
  {
   "cell_type": "markdown",
   "id": "friendly-budget",
   "metadata": {},
   "source": [
    "Wynikiem testu Wilcoxona jest odrzucenie H0 iprzyjęcie hipotezy, że mediana gęstości rzeczywistych jest większa niż mediana gęstości zrandomizowanych. "
   ]
  },
  {
   "cell_type": "code",
   "execution_count": 123,
   "id": "sporting-equilibrium",
   "metadata": {},
   "outputs": [
    {
     "data": {
      "text/plain": [
       "(257.0, 2.1290343399796725e-84)"
      ]
     },
     "execution_count": 123,
     "metadata": {},
     "output_type": "execute_result"
    }
   ],
   "source": [
    "from statsmodels.stats import descriptivestats\n",
    "descriptivestats.sign_test(bal_dens - bal_dens_rands)"
   ]
  },
  {
   "cell_type": "markdown",
   "id": "northern-simulation",
   "metadata": {},
   "source": [
    "Dwustronny test znaków daje taką samą odpowiedź. (Python nie ma jednostronnej wersji tego testu.)"
   ]
  },
  {
   "cell_type": "markdown",
   "id": "different-course",
   "metadata": {},
   "source": [
    "# Checking unique values of transformed variables"
   ]
  },
  {
   "cell_type": "markdown",
   "id": "southwest-queens",
   "metadata": {},
   "source": [
    "# Sum of ranks analysis\n",
    "\n",
    "Let's calculate a rank for a given threshold for each series for randomized datasets and let's what is the distribution of these values. Is it normal?\n",
    "\n",
    "What is the prob. that the sum of ranks for RL dataset is larger than for randomized datasets? "
   ]
  },
  {
   "cell_type": "code",
   "execution_count": 3,
   "id": "secondary-command",
   "metadata": {},
   "outputs": [],
   "source": [
    "def calc_rank(vals, val):\n",
    "    \"\"\"\n",
    "    Includes val in vals array sorts it and calculates rank for the val.\n",
    "    \"\"\"\n",
    "    all_vals = np.append(vals, val)\n",
    "    \n",
    "    all_ranks = stats.rankdata(all_vals)\n",
    "    return all_ranks[-1]\n",
    "\n",
    "def calc_ranks(vals, val = []):\n",
    "    \"\"\"\n",
    "    Calculated ranks and allows to include one more value. \n",
    "    \"\"\"\n",
    "    all_vals = np.append(vals, val)\n",
    "    \n",
    "    all_ranks = stats.rankdata(all_vals)\n",
    "    if np.isscalar(val):\n",
    "        return all_ranks[0:-1], all_ranks[-1]\n",
    "    else:\n",
    "        return all_ranks, []\n",
    "\n",
    "def get_important_theta_values(thetas, bal_dens_rands, bal_dens = [], distances = [i/16 for i in range(0,16)]):\n",
    "    \"\"\"\n",
    "    There are only 16 (17) distinct thetas. So we do not need all the values. \n",
    "    \"\"\"\n",
    "    pds = np.array([bal_dens[np.where(thetas >= distances[i])[0][0]] for i in range(0, len(distances))])\n",
    "    rds = np.array([[bal_dens_rands[j][np.where(thetas >= distances[i])[0][0]] for i in range(0, len(distances))] for j in range(0, len(bal_dens_rands))])\n",
    "    return pds, rds\n",
    "\n",
    "def calc_ranks_thetas(bal_dens_rands, bal_dens = []):\n",
    "    M, num_thetas = bal_dens_rands.shape\n",
    "#     print(M); \n",
    "#     print(num_thetas)\n",
    "    rl_rank = np.zeros(num_thetas)\n",
    "    rand_ranks = np.zeros([num_thetas, M])\n",
    "    \n",
    "    for theta_ind in range(0, num_thetas):\n",
    "        vals = [bal_dens_rands[i][theta_ind] for i in range(0, M)]\n",
    "        if len(bal_dens) > 0:\n",
    "            val = bal_dens[theta_ind]\n",
    "        else:\n",
    "            val = []\n",
    "        \n",
    "        rand_ranks[theta_ind], rl_rank[theta_ind] = calc_ranks(vals, val)\n",
    "    return rand_ranks, rl_rank\n"
   ]
  },
  {
   "cell_type": "code",
   "execution_count": 4,
   "id": "appropriate-profession",
   "metadata": {},
   "outputs": [
    {
     "data": {
      "text/plain": [
       "array([[0.00724638, 0.00724638, 0.00724638, ..., 0.94927536, 0.94927536,\n",
       "        1.        ],\n",
       "       [0.00724638, 0.00724638, 0.00724638, ..., 1.        , 1.        ,\n",
       "        1.        ],\n",
       "       [0.00724638, 0.00724638, 0.00724638, ..., 1.        , 1.        ,\n",
       "        1.        ],\n",
       "       ...,\n",
       "       [0.02898551, 0.02898551, 0.02898551, ..., 1.        , 1.        ,\n",
       "        1.        ],\n",
       "       [0.        , 0.        , 0.        , ..., 1.        , 1.        ,\n",
       "        1.        ],\n",
       "       [0.03623188, 0.03623188, 0.03623188, ..., 0.99275362, 0.99275362,\n",
       "        1.        ]])"
      ]
     },
     "execution_count": 4,
     "metadata": {},
     "output_type": "execute_result"
    }
   ],
   "source": [
    "test_all_agents_terms_together_bal_dens_rands"
   ]
  },
  {
   "cell_type": "code",
   "execution_count": 5,
   "id": "naughty-premium",
   "metadata": {
    "scrolled": true
   },
   "outputs": [],
   "source": [
    "distances = [i/16 for i in range(0,16)]\n",
    "pds = np.array([test_all_agents_terms_together_bal_dens[np.where(test_all_agents_terms_together_thetas >= distances[i])[0][0]] for i in range(0, len(distances))])\n",
    "rds = np.array([[test_all_agents_terms_together_bal_dens_rands[j][np.where(test_all_agents_terms_together_thetas >= distances[i])[0][0]] for i in range(0, len(distances))] for j in range(0, len(test_all_agents_terms_together_bal_dens_rands))])\n",
    "    "
   ]
  },
  {
   "cell_type": "code",
   "execution_count": 6,
   "id": "consecutive-publicity",
   "metadata": {},
   "outputs": [
    {
     "data": {
      "text/plain": [
       "(array([ 370.5,  370.5,  370.5,  961. ,  122. ,  370.5,  961. ,  851. ,\n",
       "         370.5,  744. ,  744. ,  921. ,  921. ,  588. ,  122. ,  122. ,\n",
       "         961. ,  744. ,  851. ,  370.5,  122. ,  122. ,  370.5,  122. ,\n",
       "         122. ,  370.5,  370.5,  921. ,  961. ,  851. ,  122. ,  851. ,\n",
       "         122. ,  588. ,  370.5,  370.5,  370.5,  851. ,  370.5,  370.5,\n",
       "         851. ,  370.5,  588. ,  122. ,  588. ,  122. ,  998. ,  370.5,\n",
       "         122. ,  921. ,  744. ,  744. ,  122. ,  122. ,  588. ,  370.5,\n",
       "         921. ,  122. ,  370.5,  851. ,  744. ,  370.5,  588. ,  122. ,\n",
       "         744. ,  122. ,  370.5,  122. ,  122. ,  744. ,  588. ,  122. ,\n",
       "         851. ,  122. ,  921. ,  122. ,  370.5,  122. ,  122. ,  370.5,\n",
       "         851. ,  122. ,  588. ,  851. ,  588. ,  744. ,  370.5,  588. ,\n",
       "         122. ,  588. ,  370.5,  851. ,  122. ,  122. ,  744. ,  961. ,\n",
       "         588. ,  588. ,  370.5,  370.5,  370.5,  370.5,  122. ,  370.5,\n",
       "         588. ,  588. ,  122. ,  588. ,  921. ,  744. ,  122. ,  370.5,\n",
       "         370.5,  588. ,  122. ,  370.5,  370.5,  370.5,  370.5,  122. ,\n",
       "         998. ,  851. ,  122. ,  588. ,  370.5,  370.5,  370.5,  122. ,\n",
       "         370.5,  588. ,  370.5,  122. ,  122. ,  370.5,  744. ,  122. ,\n",
       "         122. ,  370.5,  851. ,  921. ,  744. ,  588. ,  370.5,  588. ,\n",
       "         122. ,  122. ,  588. ,  122. ,  370.5,  851. ,  370.5,  122. ,\n",
       "         921. ,  588. ,  370.5,  588. ,  588. ,  370.5,  122. ,  744. ,\n",
       "         370.5,  122. ,  744. ,  588. ,  370.5,  122. ,  370.5,  122. ,\n",
       "         588. ,  851. ,  370.5,  588. ,  588. ,  370.5,  370.5,  370.5,\n",
       "         588. ,  961. ,  744. ,  744. ,  588. ,  921. ,  122. ,  744. ,\n",
       "         122. ,  921. ,  851. ,  588. ,  122. ,  588. ,  370.5,  370.5,\n",
       "         122. ,  370.5,  370.5,  588. ,  370.5,  588. ,  370.5,  588. ,\n",
       "         370.5,  122. ,  122. ,  370.5,  122. ,  851. ,  744. ,  744. ,\n",
       "         744. ,  921. ,  588. ,  122. ,  122. ,  744. ,  370.5,  588. ,\n",
       "         851. ,  122. ,  370.5,  851. ,  122. ,  921. ,  744. ,  122. ,\n",
       "         122. ,  588. ,  122. ,  122. ,  744. ,  921. ,  370.5,  588. ,\n",
       "         744. ,  588. ,  588. ,  122. ,  370.5,  744. ,  588. ,  122. ,\n",
       "         122. ,  744. ,  370.5,  370.5,  851. ,  588. ,  122. ,  851. ,\n",
       "         370.5,  744. ,  921. ,  744. ,  744. ,  981. ,  370.5,  588. ,\n",
       "         744. ,  122. ,  122. ,  921. ,  122. ,  744. ,  921. ,  588. ,\n",
       "         744. ,  851. ,  122. ,  744. ,  588. ,  370.5,  744. ,  122. ,\n",
       "         370.5,  122. ,  921. ,  588. ,  588. ,  851. ,  370.5,  122. ,\n",
       "         744. ,  744. ,  122. ,  122. ,  588. ,  370.5,  961. ,  851. ,\n",
       "         744. ,  921. ,  744. ,  744. ,  588. ,  370.5,  122. ,  370.5,\n",
       "         370.5,  588. ,  370.5,  921. ,  588. ,  370.5,  744. ,  122. ,\n",
       "         961. ,  370.5,  122. ,  851. ,  122. ,  370.5,  744. ,  588. ,\n",
       "         122. ,  370.5,  122. ,  370.5,  588. ,  744. ,  122. ,  744. ,\n",
       "         851. ,  921. ,  588. ,  370.5,  588. ,  744. ,  921. ,  122. ,\n",
       "         370.5,  370.5,  921. ,  122. ,  122. ,  370.5,  744. ,  122. ,\n",
       "         122. ,  588. ,  744. ,  851. ,  588. ,  588. ,  370.5,  588. ,\n",
       "         370.5,  370.5,  370.5,  588. ,  588. ,  122. ,  744. ,  122. ,\n",
       "         851. ,  370.5,  588. ,  588. ,  588. ,  851. ,  370.5,  921. ,\n",
       "         588. ,  122. ,  851. ,  370.5,  122. ,  921. ,  588. ,  370.5,\n",
       "         588. ,  122. ,  370.5,  921. ,  588. ,  122. ,  744. ,  370.5,\n",
       "         588. ,  122. ,  122. ,  122. ,  370.5,  370.5,  370.5,  370.5,\n",
       "         122. ,  744. ,  588. ,  370.5,  744. ,  122. ,  370.5,  122. ,\n",
       "         588. ,  961. ,  122. ,  370.5,  851. ,  370.5,  370.5,  588. ,\n",
       "         744. ,  370.5,  744. ,  588. ,  961. ,  921. ,  588. ,  921. ,\n",
       "         921. ,  588. ,  122. ,  370.5,  961. ,  370.5,  992.5,  370.5,\n",
       "         851. , 1001. ,  588. ,  122. ,  744. ,  122. ,  981. ,  122. ,\n",
       "         370.5,  122. ,  370.5,  122. ,  744. ,  370.5,  370.5,  370.5,\n",
       "         370.5,  122. ,  370.5,  588. ,  370.5,  370.5,  122. ,  370.5,\n",
       "         370.5,  588. ,  588. ,  122. ,  998. ,  961. ,  122. ,  370.5,\n",
       "         370.5,  122. ,  370.5,  370.5,  370.5,  122. ,  122. ,  122. ,\n",
       "         588. ,  588. ,  122. ,  744. ,  370.5,  122. ,  370.5,  851. ,\n",
       "         744. ,  370.5,  981. ,  851. ,  122. ,  744. ,  921. ,  370.5,\n",
       "         851. ,  370.5,  744. ,  370.5,  122. ,  122. ,  122. ,  921. ,\n",
       "         851. ,  921. ,  370.5,  588. ,  851. ,  588. ,  588. ,  370.5,\n",
       "         921. ,  588. ,  122. ,  122. ,  370.5,  370.5,  588. ,  122. ,\n",
       "         744. ,  122. ,  921. ,  744. ,  851. ,  588. ,  588. ,  370.5,\n",
       "         370.5,  851. ,  370.5,  122. ,  122. ,  122. ,  122. ,  122. ,\n",
       "         744. ,  370.5,  588. ,  122. ,  744. ,  588. ,  851. ,  744. ,\n",
       "         744. ,  588. ,  588. ,  998. ,  370.5,  122. ,  588. ,  981. ,\n",
       "         744. ,  921. ,  370.5,  122. ,  370.5,  588. ,  961. ,  370.5,\n",
       "         122. ,  122. ,  961. ,  370.5,  744. ,  744. ,  122. ,  370.5,\n",
       "         370.5,  122. ,  370.5,  961. ,  588. ,  851. ,  370.5,  744. ,\n",
       "         851. ,  122. ,  370.5,  122. ,  370.5,  851. ,  122. ,  981. ,\n",
       "         122. ,  744. ,  851. ,  851. ,  370.5,  370.5,  588. ,  744. ,\n",
       "         981. ,  370.5,  370.5,  981. ,  588. ,  921. ,  370.5,  588. ,\n",
       "         588. ,  122. ,  588. ,  588. ,  122. ,  588. ,  744. ,  370.5,\n",
       "         122. ,  122. ,  370.5,  744. ,  588. ,  370.5,  122. ,  122. ,\n",
       "         122. ,  588. ,  744. ,  588. ,  122. ,  588. ,  370.5,  122. ,\n",
       "         370.5,  122. ,  122. ,  122. ,  370.5,  921. ,  370.5,  122. ,\n",
       "         961. ,  981. ,  744. ,  961. ,  851. ,  851. ,  588. ,  851. ,\n",
       "         744. ,  744. ,  588. ,  851. ,  851. ,  961. ,  981. ,  122. ,\n",
       "         992.5,  370.5,  370.5,  588. ,  122. ,  921. ,  744. ,  588. ,\n",
       "         851. ,  588. ,  370.5,  370.5,  744. ,  122. ,  122. ,  744. ,\n",
       "         370.5,  744. ,  370.5,  122. ,  981. ,  851. ,  588. ,  851. ,\n",
       "         588. ,  370.5,  851. ,  122. ,  588. ,  744. ,  370.5,  588. ,\n",
       "         921. ,  122. ,  370.5,  851. ,  588. ,  744. ,  921. ,  370.5,\n",
       "         122. ,  370.5,  588. ,  744. ,  122. ,  370.5,  921. ,  370.5,\n",
       "         122. ,  370.5,  122. ,  961. ,  370.5,  370.5,  921. ,  588. ,\n",
       "         921. ,  744. ,  588. ,  370.5,  122. ,  744. ,  370.5,  588. ,\n",
       "         370.5,  122. ,  921. ,  370.5,  588. ,  370.5,  370.5,  851. ,\n",
       "         588. ,  744. ,  588. ,  921. ,  370.5,  370.5,  851. ,  370.5,\n",
       "         370.5,  851. ,  370.5,  122. ,  588. ,  122. ,  744. ,  122. ,\n",
       "         122. ,  992.5,  588. ,  588. ,  122. ,  370.5,  921. ,  588. ,\n",
       "         122. ,  370.5,  122. ,  122. ,  588. ,  851. ,  370.5,  370.5,\n",
       "         122. ,  370.5,  122. ,  851. ,  122. ,  998. ,  122. ,  370.5,\n",
       "         588. ,  588. ,  588. ,  370.5,  588. ,  370.5,  921. ,  370.5,\n",
       "         122. ,  588. ,  370.5,  122. ,  122. ,  370.5,  370.5,  370.5,\n",
       "         370.5,  122. ,  981. ,  122. ,  981. ,  851. ,  588. ,  122. ,\n",
       "         921. ,  370.5,  744. ,  744. ,  851. ,  370.5,  370.5,  588. ,\n",
       "         122. ,  588. ,  744. ,  588. ,  588. ,  588. ,  851. ,  744. ,\n",
       "         744. ,  370.5,  588. ,  122. ,  851. ,  588. ,  122. ,  122. ,\n",
       "         851. ,  122. ,  981. ,  961. ,  588. ,  588. ,  588. ,  588. ,\n",
       "         588. ,  851. ,  588. ,  851. ,  981. ,  744. ,  744. ,  122. ,\n",
       "         744. ,  588. ,  744. ,  122. ,  588. ,  851. ,  588. ,  744. ,\n",
       "         921. ,  122. ,  122. ,  122. ,  122. ,  370.5,  961. ,  122. ,\n",
       "         122. ,  851. ,  370.5,  744. ,  744. ,  981. ,  744. ,  370.5,\n",
       "         851. ,  588. ,  122. ,  370.5,  370.5,  370.5,  370.5,  744. ,\n",
       "         370.5,  588. ,  370.5,  370.5,  122. ,  588. ,  921. ,  588. ,\n",
       "         921. ,  122. ,  744. ,  588. ,  122. ,  122. ,  122. ,  588. ,\n",
       "         851. ,  921. ,  588. ,  370.5,  851. ,  851. ,  122. ,  370.5,\n",
       "         370.5,  851. ,  122. ,  851. ,  370.5,  370.5,  122. ,  122. ,\n",
       "         588. ,  370.5,  122. ,  588. ,  744. ,  588. ,  370.5,  370.5,\n",
       "         122. ,  122. ,  992.5,  744. ,  588. ,  992.5,  122. ,  370.5,\n",
       "         370.5,  122. ,  744. ,  122. ,  370.5,  744. ,  370.5,  588. ,\n",
       "         122. ,  744. ,  588. ,  122. ,  370.5,  588. ,  744. ,  122. ,\n",
       "         744. ,  744. ,  921. ,  370.5,  744. ,  744. ,  122. ,  122. ,\n",
       "         851. ,  851. ,  744. ,  588. ,  122. ,  122. ,  744. ,  122. ,\n",
       "         921. ,  588. ,  744. ,  588. ,  370.5,  851. ,  921. ,  744. ,\n",
       "         744. ,  122. ,  122. ,  122. ,  122. ,  588. ,  370.5,  588. ,\n",
       "         370.5,  588. ,  851. ,  588. ,  370.5,  744. ,  122. ,  122. ,\n",
       "         588. ,  370.5,  981. ,  122. ,  122. ,  588. ,  370.5,  588. ,\n",
       "         961. ,  122. ,  744. ,  122. ,  122. ,  851. ,  122. ,  744. ,\n",
       "         744. ,  122. ,  122. ,  744. ,  370.5,  370.5,  122. ,  992.5,\n",
       "         588. ,  370.5,  122. ,  370.5,  122. ,  588. ,  588. ,  370.5,\n",
       "         370.5,  744. ,  370.5,  961. ,  851. ,  744. ,  744. ,  744. ,\n",
       "         122. ,  588. ,  744. ,  370.5,  122. ,  921. ,  122. ,  370.5,\n",
       "         370.5,  744. ,  588. ,  370.5,  370.5,  122. ,  370.5,  744. ,\n",
       "         370.5,  851. ,  744. ,  370.5,  370.5,  851. ,  122. ,  921. ]),\n",
       " 981.0)"
      ]
     },
     "execution_count": 6,
     "metadata": {},
     "output_type": "execute_result"
    }
   ],
   "source": [
    "vals = [rds[i][0] for i in range(0, len(rds))]\n",
    "val = pds[0]\n",
    "\n",
    "calc_ranks(vals, val)"
   ]
  },
  {
   "cell_type": "code",
   "execution_count": 7,
   "id": "forty-study",
   "metadata": {},
   "outputs": [],
   "source": [
    "rand_ranks, rl_rank = calc_ranks_thetas(rds, pds)"
   ]
  },
  {
   "cell_type": "code",
   "execution_count": 8,
   "id": "regional-calcium",
   "metadata": {},
   "outputs": [],
   "source": [
    "sums = np.sum(rand_ranks,0)"
   ]
  },
  {
   "cell_type": "code",
   "execution_count": 9,
   "id": "retained-liver",
   "metadata": {},
   "outputs": [
    {
     "name": "stderr",
     "output_type": "stream",
     "text": [
      "/home/pgorski/anaconda3/lib/python3.8/site-packages/statsmodels/graphics/gofplots.py:993: UserWarning: marker is redundantly defined by the 'marker' keyword argument and the fmt string \"bo\" (-> marker='o'). The keyword argument will take precedence.\n",
      "  ax.plot(x, y, fmt, **plot_style)\n"
     ]
    },
    {
     "data": {
      "image/png": "[encoded data removed]",
      "text/plain": [
       "<Figure size 432x288 with 1 Axes>"
      ]
     },
     "metadata": {
      "needs_background": "light"
     },
     "output_type": "display_data"
    },
    {
     "data": {
      "text/plain": [
       "ShapiroResult(statistic=0.9973403811454773, pvalue=0.10011351853609085)"
      ]
     },
     "execution_count": 9,
     "metadata": {},
     "output_type": "execute_result"
    }
   ],
   "source": [
    "\n",
    "sm.qqplot((sums - np.mean(sums)) / np.std(sums), line ='45')\n",
    "py.show()"
   ]
  },
  {
   "cell_type": "code",
   "execution_count": 10,
   "id": "d4d9a490",
   "metadata": {},
   "outputs": [
    {
     "data": {
      "text/plain": [
       "ShapiroResult(statistic=0.9973403811454773, pvalue=0.10011351853609085)"
      ]
     },
     "execution_count": 10,
     "metadata": {},
     "output_type": "execute_result"
    }
   ],
   "source": [
    "\n",
    "stats.shapiro(sums)"
   ]
  },
  {
   "cell_type": "code",
   "execution_count": 13,
   "id": "color-booking",
   "metadata": {},
   "outputs": [
    {
     "data": {
      "text/plain": [
       "(995,\n",
       " array([ 6957.5,  5008.5,  9832. , 10680. ,  2844.5,  8384. ,  7049. ,\n",
       "         7561.5,  6536.5, 10918.5,  6588. ,  8345.5,  8361.5,  7685.5,\n",
       "         8636.5,  6907.5,  8173. ,  5802.5, 10902. ,  7474. ,  7414. ,\n",
       "         8925.5,  9437.5,  6206.5,  4296.5,  7914.5, 10357. , 12107. ,\n",
       "        11109.5,  8262.5,  5473. ,  9019.5,  6369.5,  6179.5, 10035. ,\n",
       "         8340.5,  5195.5,  9639.5,  9037. ,  6935. , 10554. ,  7663.5,\n",
       "         4801.5,  6757.5, 11697. ,  8761.5, 10446.5,  9528. ,  6165.5,\n",
       "        10257. ,  9769.5,  9854.5,  7078.5,  6979. ,  9986. ,  7590. ,\n",
       "        10278.5,  7013.5,  6792.5,  8599. , 11152. , 10342.5,  9894. ,\n",
       "         9740. ,  8347. ,  6941. , 11552. ,  5780.5,  5989.5, 12835. ,\n",
       "         7192. ,  6235.5,  7723.5,  4659.5, 12510.5,  7244.5,  7588.5,\n",
       "         5061.5,  5467.5,  8264.5,  9448.5,  9159. ,  8027.5,  7151.5,\n",
       "         8960.5, 10076. , 12614.5, 10550. ,  2723. , 11090. ,  4814. ,\n",
       "         5770.5,  9042. ,  6410. ,  8186.5,  8761. ,  6860.5,  3723.5,\n",
       "         7314. , 10491. ,  7298.5,  6464.5,  5542. ,  9406. ,  7822. ,\n",
       "         6726.5, 12415.5, 11877. ,  6915.5, 10054.5,  8555. ,  5287.5,\n",
       "        10108.5, 10256.5,  5461. ,  8154. ,  6416.5, 10775.5,  7046. ,\n",
       "         7109.5,  9397. ,  7722. ,  7442.5,  5495. ,  6655. ,  3854.5,\n",
       "         8103.5, 10379.5,  9338. , 11597.5,  9408.5,  7258. ,  6656.5,\n",
       "         5411.5, 10433. ,  6433.5, 10214.5,  9265.5,  7584.5,  9065. ,\n",
       "        11577. ,  8992. ,  8563.5,  5367.5,  7683.5,  7726.5,  5577. ,\n",
       "         9175.5,  6171.5, 10638. , 10808. ,  5706. , 10952.5,  8043. ,\n",
       "         5449.5,  6910. ,  5651.5,  7714. ,  5401.5,  8258.5,  9025. ,\n",
       "        11666.5,  8424.5, 10934. ,  7612.5,  5172. ,  3767.5,  5286. ,\n",
       "         7660. ,  9470.5,  6473.5,  8625.5,  8860. ,  6452.5,  6430. ,\n",
       "         8461.5,  9527.5,  7277. ,  8554.5,  9653. ,  8870.5, 10777. ,\n",
       "         3921.5,  6792.5,  8803. ,  8897. ,  8381.5,  6223.5,  7965.5,\n",
       "        12198. ,  8420.5,  5934.5,  6532.5,  5913.5,  7959. ,  8483. ,\n",
       "         6201. ,  7618.5,  8766.5, 10392.5,  6858.5,  7358.5,  5357.5,\n",
       "        12285.5,  9989. , 11579.5,  7526. ,  9657. ,  9734. ,  9741. ,\n",
       "         8594. ,  8235.5,  8337.5,  6118.5,  9010. , 10125. ,  6259. ,\n",
       "         4868.5,  4572.5,  8483.5,  8339. , 11101.5,  7780.5,  9976.5,\n",
       "         6674. ,  8401.5,  6125.5,  7298. , 10453.5,  7827. ,  6650. ,\n",
       "         8238. ,  6395. ,  7122.5,  8725. ,  5195. ,  6045.5, 10094. ,\n",
       "        11020. ,  2719. ,  6028. ,  7328.5,  4842.5,  8947. , 10829. ,\n",
       "         8743.5,  6463.5, 11587.5,  8850. ,  8213.5, 12321. ,  9899.5,\n",
       "        11718.5, 13994.5,  6838. ,  8485.5, 11368. ,  9099.5,  9725.5,\n",
       "        10802.5,  7376. ,  9449. ,  4993. ,  6713. ,  8266.5,  6999. ,\n",
       "         6639.5,  8732. ,  8868.5,  5210. ,  9074. ,  6369. ,  8854. ,\n",
       "         9736. ,  9945. ,  5352. ,  7052.5,  5815. ,  5898. ,  5864. ,\n",
       "         9285.5,  8956. ,  6436.5,  4823.5,  7426.5,  5917.5,  9260. ,\n",
       "         6261.5, 11361. ,  7332. ,  8634. , 10240. ,  7196. ,  6302. ,\n",
       "         8665. ,  7384. ,  4753. ,  5852. ,  6613. , 11878.5,  7252. ,\n",
       "         9677. ,  9838.5,  9721. , 11820. ,  4690. ,  6059. ,  8599.5,\n",
       "         4797.5,  6004.5,  8612. ,  4402. ,  8591. ,  7909. ,  5198.5,\n",
       "         7704. , 10684.5,  7894.5,  7130. ,  9771.5,  8000. ,  5259.5,\n",
       "         7996.5, 10496. ,  7723. ,  9373. ,  9329. , 10550. ,  6008. ,\n",
       "         4964. , 11456.5, 12006.5,  7673. ,  2700. ,  5396. ,  9490.5,\n",
       "         3634.5,  4054.5, 10096. ,  9587. , 10202. ,  5450. ,  5402. ,\n",
       "         6148. ,  6334. , 10153. ,  7703.5,  5226. ,  7634.5,  8148.5,\n",
       "         7304. ,  4359. , 10185.5,  6063. ,  6189. ,  7654. ,  8075.5,\n",
       "         8075.5,  4486. ,  7752. ,  8955.5,  7276. , 10262.5,  7269.5,\n",
       "         7049. , 11584.5,  9654. , 11503. , 10580.5,  8214. ,  8487. ,\n",
       "        11701.5,  9467.5,  9483.5, 10616.5,  7304. ,  8554.5,  8699. ,\n",
       "         7460.5,  9359.5,  9205. ,  9364.5,  8523.5,  4560.5,  4428. ,\n",
       "         8070. ,  7446.5, 10810. ,  7709.5,  5808. ,  8300. ,  4587.5,\n",
       "         7494. , 10791. ,  9379.5,  6884.5,  9531. ,  6040.5,  6589.5,\n",
       "         9187. ,  8612.5, 11114.5,  9284.5,  5974. , 10241.5,  8128.5,\n",
       "         5054. , 13324. ,  4765.5,  7501. ,  8572.5,  5558.5,  9593.5,\n",
       "         5268.5,  5997. ,  7465.5, 10008.5, 12373. ,  7138. ,  7773. ,\n",
       "         9626. ,  4598. , 11592.5, 10359.5,  8035. ,  6501.5,  5517. ,\n",
       "         9592.5,  9394.5,  6127.5,  9046. ,  7494. ,  5663. , 11118. ,\n",
       "         6744.5,  5011. ,  7261. ,  7576.5,  5882. , 10829.5,  9191.5,\n",
       "         9747. ,  8149. ,  8098.5,  8954.5, 10741. ,  6033. , 10936. ,\n",
       "        11052. ,  6165. ,  4580.5,  6322. ,  9203. ,  4785.5,  7504.5,\n",
       "         7161.5, 10879.5,  7272. ,  7400.5,  8795. ,  8825.5,  8616. ,\n",
       "         7298. ,  7604. ,  9708.5,  7624. , 10031. ,  9933. ,  9203. ,\n",
       "        11759.5, 10315.5,  8936. ,  8118.5,  7947. ,  8691.5,  7307. ,\n",
       "         5350. , 12147.5,  4592. ,  9457. ,  6443.5, 10580. ,  7602.5,\n",
       "         8405.5,  7848. ,  7703.5,  7686. ,  5621. ,  9942.5, 10515. ,\n",
       "         5978.5,  3757.5, 10941. ,  6579.5, 10600.5,  9385. , 10201.5,\n",
       "         8277. , 11157.5,  8198.5, 11678. ,  7186.5,  7429.5, 11613.5,\n",
       "         9982. , 10933.5,  9277. , 10176. ,  6632.5,  9620.5, 10738. ,\n",
       "         4667. ,  8545. ,  3975.5,  8718.5,  4737. , 10604.5,  7988. ,\n",
       "        10462.5,  8683. ,  7758. ,  8049.5,  6990.5, 12617.5,  9932.5,\n",
       "        11705. ,  8555. , 11156. ,  7627. ,  8176.5,  9022. ,  3410. ,\n",
       "         4329. ,  7933. ,  3583. ,  8887.5,  4799. ,  6130.5,  7132.5,\n",
       "         4903. ,  7592.5, 10887. ,  6142. ,  9477. ,  4856. ,  7720. ,\n",
       "         9760.5,  8637. , 11008. ,  7018.5,  6698. ,  9158.5,  4852. ,\n",
       "         6330.5,  9252.5,  3488.5,  5936.5,  7747.5, 10506.5, 10359.5,\n",
       "         9498.5,  5348. ,  9652. ,  9352. ,  5738.5,  7694. , 13109. ,\n",
       "         6966.5,  6400. ,  5162. ,  6469. , 11600. ,  6645. ,  9824.5,\n",
       "         9096.5,  8140. , 11151. ,  8601. ,  6484.5,  6086.5,  5535.5,\n",
       "         9004. ,  7174.5,  7489.5,  7083. ,  7823.5,  4366.5,  6329.5,\n",
       "         8678.5,  9110. ,  4735. ,  7095.5,  7213. ,  6099.5,  8070.5,\n",
       "         9423.5,  6705. ,  8017. ,  7109. ,  6963.5,  5710. , 10751. ,\n",
       "         7313.5,  7684. , 11284. ,  7363. ,  9811. ,  4263. ,  9751. ,\n",
       "        10772. ,  7109. , 10916.5,  7231. ,  6562. ,  5447.5,  6504.5,\n",
       "         9956.5, 11316. ,  7209. ,  6851. ,  9889.5,  9517. ,  9718.5,\n",
       "         7199. ,  6653. ,  8711.5,  8591. ,  3861. ,  7927.5,  6218. ,\n",
       "        12397. ,  4866. ,  7085.5,  6589. ,  9086. ,  2431. ,  9996. ,\n",
       "         6514.5,  7853. ,  9706.5, 11309.5,  8553.5,  6684. ,  6885. ,\n",
       "         7277.5,  6544.5,  6020. ,  9119. ,  7605.5,  6717. ,  8594.5,\n",
       "         9685. , 10394.5, 10064. ,  8176.5,  5410.5, 11308.5,  7171.5,\n",
       "         9354.5, 12820. ,  6447. , 10755.5,  8800.5,  7034.5,  5695. ,\n",
       "         6064.5,  4790.5,  8144.5,  6305.5,  9622. ,  5440.5,  7228. ,\n",
       "         8867. ,  6865.5,  8224.5,  9069.5,  3047.5,  5792.5,  8917. ,\n",
       "         5882. ,  8278. ,  6832. ,  5092. , 11327. ,  8745.5,  8034. ,\n",
       "         9235.5, 10186.5,  7168.5,  9875. ,  8652. , 10795.5,  6577.5,\n",
       "         7795. , 11120. , 10001. ,  9477. , 11671.5, 10508.5, 11496. ,\n",
       "         8748. ,  6207. ,  7177.5,  6088. ,  6895.5,  6496.5,  5785.5,\n",
       "         7334.5,  8759.5, 11340.5, 12041. ,  8160.5,  7027. , 11640.5,\n",
       "         8131. ,  8164.5,  9005.5,  7458. ,  9600. ,  8743.5,  4503.5,\n",
       "         8133.5,  6957.5,  4176. ,  8557.5,  7388. ,  9075.5,  7165.5,\n",
       "         4456. ,  6328.5,  8059. ,  8674.5,  4983.5, 12567.5,  8572. ,\n",
       "         7128.5,  6715.5,  6925.5,  8910. ,  7967. ,  9110. ,  3741. ,\n",
       "        12582.5,  9515.5, 10178. ,  6325.5,  6590. ,  8429. ,  7463.5,\n",
       "         8807. ,  6906.5,  7338.5,  7751. ,  5366. ,  7825. ,  7328. ,\n",
       "         6955. ,  8254.5, 10004.5,  9646. ,  6292. ,  5367. ,  5201.5,\n",
       "         5806.5,  7542.5,  6268.5,  7707.5,  9528.5, 11726. ,  6033.5,\n",
       "         4198. ,  7523. ,  8273. ,  7234. ,  7555.5,  6390. ,  9958.5,\n",
       "         5681. ,  8666. , 10105. , 12048.5,  6382. ,  7081.5,  9781.5,\n",
       "         9905. , 10063. ,  6901.5,  7172.5, 10186.5,  6057. , 13436. ,\n",
       "         5447. ,  7585. , 10404. ,  6266.5,  8870. ,  7242. ,  8433.5,\n",
       "         9077.5,  6475.5,  9100. ,  2333.5,  7757.5,  7779.5, 10255.5,\n",
       "         6206. ,  6590. ,  9521.5,  8042. ,  4784.5,  5773.5,  5845. ,\n",
       "         6568. ,  4719. , 11673.5,  8798. ,  8386. , 11535. ,  7250. ,\n",
       "        10174.5,  9982. , 10093. ,  8215.5,  9283.5,  8743. ,  8786.5,\n",
       "         6512. ,  5444.5,  6428. ,  3780.5,  8528.5, 13975. ,  7701.5,\n",
       "         9833.5,  7220. ,  5363. ,  8952. ,  3046.5,  9006.5,  7354. ,\n",
       "         7090. ,  7356.5, 11001.5,  7408.5,  3865.5,  6014.5,  7917.5,\n",
       "         8434. ,  8763. , 12867.5,  6952. ,  3378. ,  7981.5,  9089.5,\n",
       "         2654. ,  6850.5,  7529. ,  6257.5,  9331. ,  6829.5,  6192.5,\n",
       "         9212.5,  3853. , 10476. ,  7637.5,  7359.5,  5883.5,  9100.5,\n",
       "         7350.5, 12485. ,  5708.5,  9825.5,  9757. ,  9099.5,  8974. ,\n",
       "         5368.5,  6238.5,  8351.5,  5857. ,  5153.5,  7906. ,  6349. ,\n",
       "         7946.5,  5569. ,  5683. ,  9522.5,  7356. ,  8339. ,  7536. ,\n",
       "         9571. ,  6492.5,  8843.5,  7055.5,  7284.5,  9843.5,  8108. ,\n",
       "        10085. , 10204. , 11053.5,  8035.5, 10061.5,  6812. ,  6708.5,\n",
       "         6773.5,  7997. , 12523.5, 11770.5,  7041.5,  4014. ,  6227.5,\n",
       "         6677. ,  8759. ,  9888. ,  8490. ,  9527.5,  9562.5,  8074.5,\n",
       "         5922. , 10576.5,  7084. ,  8492.5,  4208. ,  6505.5,  9080.5,\n",
       "         4617.5,  9414.5,  8511.5,  9926. ,  7011. ,  7236. ,  7968. ,\n",
       "         9072.5,  6855. , 10018.5,  6794.5,  9353.5, 11060. , 10796.5,\n",
       "         8201.5,  6510.5,  5528.5,  8043.5,  5619.5, 10291.5,  8561. ,\n",
       "         5309.5, 10329. ,  8371. ,  7454.5, 10599.5,  3901. ,  7199. ,\n",
       "         9031.5,  6575. ,  5796.5, 10447.5,  7330. , 10348. ,  7487. ,\n",
       "        12270.5,  8719.5,  9644. ,  6537.5, 11526. ,  7434. ,  8466.5,\n",
       "         6580. ,  6474. ,  7638.5,  5953. ,  9828.5,  9649. , 10211.5,\n",
       "        11387. ,  8628.5,  6079.5,  6778. ,  7471.5,  8270.5,  4123.5,\n",
       "         7390.5, 10253. ,  4946.5,  7867.5,  8759.5, 10010.5,  8430.5,\n",
       "         3777.5,  7485.5,  7416. ,  5166.5, 10269. ,  5403.5,  9824.5,\n",
       "         9497.5, 10450.5,  3130. ,  6998.5,  6195. , 10514.5]),\n",
       " 13069.0)"
      ]
     },
     "execution_count": 13,
     "metadata": {},
     "output_type": "execute_result"
    }
   ],
   "source": [
    "np.sum(sums < np.sum(rl_rank)), sums, np.sum(rl_rank)"
   ]
  },
  {
   "cell_type": "code",
   "execution_count": 11,
   "id": "sporting-reading",
   "metadata": {},
   "outputs": [
    {
     "data": {
      "text/plain": [
       "13994.5"
      ]
     },
     "execution_count": 11,
     "metadata": {},
     "output_type": "execute_result"
    }
   ],
   "source": [
    "np.max(sums)"
   ]
  },
  {
   "cell_type": "code",
   "execution_count": 14,
   "id": "equivalent-printing",
   "metadata": {},
   "outputs": [
    {
     "data": {
      "text/plain": [
       "0.0050000000000000044"
      ]
     },
     "execution_count": 14,
     "metadata": {},
     "output_type": "execute_result"
    }
   ],
   "source": [
    "# pvalue:\n",
    "1-np.sum(sums < np.sum(rl_rank))/len(sums)"
   ]
  },
  {
   "cell_type": "code",
   "execution_count": 20,
   "id": "0923478a",
   "metadata": {},
   "outputs": [
    {
     "data": {
      "text/plain": [
       "0.00788292052352002"
      ]
     },
     "execution_count": 20,
     "metadata": {},
     "output_type": "execute_result"
    }
   ],
   "source": [
    "rl_sum = np.sum(rl_rank)\n",
    "zscore = (rl_sum - np.mean(sums)) / np.std(sums)\n",
    "\n",
    "1-stats.norm.cdf(zscore)"
   ]
  },
  {
   "cell_type": "markdown",
   "id": "cbc34583",
   "metadata": {},
   "source": [
    "# Sum of ranks analysis\n",
    "\n",
    "Let's calculate a rank for a given threshold for each series for randomized datasets and let's what is the distribution of these values. Is it normal?\n",
    "\n",
    "What is the prob. that the sum of ranks for RL dataset is larger than for randomized datasets? "
   ]
  },
  {
   "cell_type": "code",
   "execution_count": 40,
   "id": "c4a80a93",
   "metadata": {},
   "outputs": [],
   "source": [
    "def calc_rank(vals, val):\n",
    "    \"\"\"\n",
    "    Includes val in vals array sorts it and calculates rank for the val.\n",
    "    \"\"\"\n",
    "    all_vals = np.append(vals, val)\n",
    "    \n",
    "    all_ranks = stats.rankdata(all_vals)\n",
    "    return all_ranks[-1]\n",
    "\n",
    "def calc_ranks(vals, val = []):\n",
    "    \"\"\"\n",
    "    Calculated ranks and allows to include one more value. \n",
    "    \"\"\"\n",
    "    all_vals = np.append(vals, val)\n",
    "    \n",
    "    all_ranks = stats.rankdata(all_vals)\n",
    "    if np.isscalar(val):\n",
    "        return all_ranks[0:-1], all_ranks[-1]\n",
    "    else:\n",
    "        return all_ranks, []\n",
    "\n",
    "def get_important_theta_values(thetas, bal_dens_rands, bal_dens = [], distances = [i/16 for i in range(0,16)]):\n",
    "    \"\"\"\n",
    "    There are only 16 (17) distinct thetas. So we do not need all the values. \n",
    "    \"\"\"\n",
    "    pds = np.array([bal_dens[np.where(thetas >= distances[i])[0][0]] for i in range(0, len(distances))])\n",
    "    rds = np.array([[bal_dens_rands[j][np.where(thetas >= distances[i])[0][0]] for i in range(0, len(distances))] for j in range(0, len(bal_dens_rands))])\n",
    "    return pds, rds\n",
    "\n",
    "def calc_ranks_thetas(bal_dens_rands, bal_dens = []):\n",
    "    M, num_thetas = bal_dens_rands.shape\n",
    "#     print(M); \n",
    "#     print(num_thetas)\n",
    "    rl_rank = np.zeros(num_thetas)\n",
    "    rand_ranks = np.zeros([num_thetas, M])\n",
    "    \n",
    "    for theta_ind in range(0, num_thetas):\n",
    "        vals = [bal_dens_rands[i][theta_ind] for i in range(0, M)]\n",
    "        if len(bal_dens) > 0:\n",
    "            val = bal_dens[theta_ind]\n",
    "        else:\n",
    "            val = []\n",
    "        \n",
    "        rand_ranks[theta_ind], rl_rank[theta_ind] = calc_ranks(vals, val)\n",
    "    return rand_ranks, rl_rank\n"
   ]
  },
  {
   "cell_type": "code",
   "execution_count": 41,
   "id": "bcaccc1b",
   "metadata": {},
   "outputs": [
    {
     "data": {
      "text/plain": [
       "array([[0.022, 0.022, 0.022, ..., 1.   , 1.   , 1.   ],\n",
       "       [0.007, 0.007, 0.007, ..., 1.   , 1.   , 1.   ],\n",
       "       [0.029, 0.029, 0.029, ..., 1.   , 1.   , 1.   ],\n",
       "       ...,\n",
       "       [0.051, 0.051, 0.051, ..., 1.   , 1.   , 1.   ],\n",
       "       [0.   , 0.   , 0.   , ..., 1.   , 1.   , 1.   ],\n",
       "       [0.   , 0.   , 0.   , ..., 1.   , 1.   , 1.   ]])"
      ]
     },
     "execution_count": 41,
     "metadata": {},
     "output_type": "execute_result"
    }
   ],
   "source": [
    "test_all_agents_terms_together_bal_dens_rands"
   ]
  },
  {
   "cell_type": "code",
   "execution_count": 42,
   "id": "d2791f9d",
   "metadata": {
    "scrolled": true
   },
   "outputs": [],
   "source": [
    "distances = [i/16 for i in range(0,16)]\n",
    "distances = test_all_agents_terms_together_thetas\n",
    "pds = np.array([test_all_agents_terms_together_bal_dens[np.where(test_all_agents_terms_together_thetas >= distances[i])[0][0]] for i in range(0, len(distances))])\n",
    "rds = np.array([[test_all_agents_terms_together_bal_dens_rands[j][np.where(test_all_agents_terms_together_thetas >= distances[i])[0][0]] for i in range(0, len(distances))] for j in range(0, len(test_all_agents_terms_together_bal_dens_rands))])\n",
    "    "
   ]
  },
  {
   "cell_type": "code",
   "execution_count": 43,
   "id": "fa38c7ea",
   "metadata": {},
   "outputs": [
    {
     "data": {
      "text/plain": [
       "(array([ 745. ,  345.5,  863. ,  345.5,  745. ,  111.5,  111.5,  863. ,\n",
       "         111.5,  745. ,  111.5,  568.5,  568.5,  568.5,  745. ,  568.5,\n",
       "         863. ,  568.5,  568.5,  568.5,  345.5,  345.5,  568.5,  568.5,\n",
       "         111.5,  111.5,  568.5,  863. ,  922.5,  111.5,  922.5,  568.5,\n",
       "         345.5,  568.5,  568.5,  111.5,  863. ,  345.5,  745. ,  986. ,\n",
       "         345.5,  111.5,  568.5,  745. ,  863. ,  345.5,  745. ,  863. ,\n",
       "         972. ,  745. ,  111.5,  745. ,  111.5,  111.5,  863. ,  745. ,\n",
       "         745. ,  745. ,  345.5,  745. ,  972. ,  345.5,  111.5,  568.5,\n",
       "         111.5,  972. ,  345.5,  745. ,  111.5,  345.5,  111.5,  568.5,\n",
       "         345.5,  345.5,  111.5,  111.5,  922.5,  568.5,  745. ,  922.5,\n",
       "         345.5,  972. ,  568.5,  745. ,  345.5,  345.5,  111.5,  111.5,\n",
       "         972. ,  111.5,  568.5,  111.5,  745. ,  863. ,  568.5,  986. ,\n",
       "         568.5,  345.5,  111.5,  745. ,  568.5,  745. ,  345.5,  568.5,\n",
       "         745. ,  111.5,  345.5,  111.5,  568.5,  345.5,  972. ,  863. ,\n",
       "         111.5,  863. ,  345.5,  111.5,  111.5,  922.5,  568.5,  568.5,\n",
       "         111.5,  111.5,  111.5,  745. ,  345.5,  568.5,  345.5,  863. ,\n",
       "         111.5,  568.5,  972. ,  568.5,  345.5,  863. ,  568.5,  111.5,\n",
       "         111.5,  745. ,  568.5,  863. ,  863. ,  568.5,  568.5,  568.5,\n",
       "         111.5,  952. ,  568.5,  568.5,  922.5,  568.5,  345.5,  111.5,\n",
       "         952. ,  745. ,  922.5,  345.5,  745. ,  745. ,  568.5,  952. ,\n",
       "         345.5,  922.5,  345.5,  568.5,  345.5,  568.5,  111.5,  568.5,\n",
       "         568.5,  345.5,  111.5,  345.5,  345.5,  745. ,  745. ,  111.5,\n",
       "         345.5,  345.5,  568.5,  111.5,  111.5,  111.5,  345.5,  345.5,\n",
       "         111.5,  996.5,  568.5,  345.5,  568.5,  745. ,  568.5,  972. ,\n",
       "         568.5,  745. ,  745. ,  863. ,  111.5,  745. ,  568.5,  922.5,\n",
       "         345.5,  111.5,  345.5,  745. ,  996.5,  111.5,  745. ,  345.5,\n",
       "         568.5,  568.5,  986. ,  568.5,  922.5,  345.5,  111.5,  922.5,\n",
       "         111.5,  745. ,  568.5,  745. ,  111.5,  111.5,  863. ,  345.5,\n",
       "         745. ,  345.5,  568.5,  345.5,  745. ,  345.5,  568.5,  111.5,\n",
       "         111.5,  345.5,  568.5,  986. ,  972. ,  111.5,  345.5,  745. ,\n",
       "         568.5,  345.5,  952. ,  111.5,  345.5,  745. ,  745. ,  345.5,\n",
       "         568.5,  345.5,  345.5,  863. ,  345.5,  568.5,  568.5,  568.5,\n",
       "         345.5,  568.5,  863. ,  345.5,  111.5,  863. ,  345.5,  345.5,\n",
       "         568.5,  745. ,  863. ,  345.5,  345.5,  345.5,  111.5,  745. ,\n",
       "         745. ,  345.5,  568.5,  111.5,  568.5,  745. ,  111.5,  568.5,\n",
       "         568.5,  745. ,  345.5,  745. , 1000. ,  111.5,  111.5,  568.5,\n",
       "         568.5,  111.5,  863. ,  345.5,  568.5,  922.5,  745. ,  345.5,\n",
       "         745. ,  568.5,  568.5,  568.5,  745. ,  922.5,  863. ,  745. ,\n",
       "         111.5,  568.5,  111.5,  111.5,  345.5,  345.5,  345.5,  345.5,\n",
       "         863. ,  863. ,  745. ,  111.5,  111.5,  863. ,  745. ,  922.5,\n",
       "         568.5,  111.5,  922.5,  345.5,  111.5,  111.5,  745. ,  111.5,\n",
       "         745. ,  345.5, 1000. ,  863. ,  986. ,  745. ,  111.5,  952. ,\n",
       "         111.5,  568.5,  345.5,  745. ,  568.5,  863. ,  111.5,  345.5,\n",
       "         986. ,  111.5,  745. ,  745. ,  863. ,  111.5,  345.5,  863. ,\n",
       "         745. ,  111.5,  952. ,  345.5,  111.5,  745. ,  111.5,  345.5,\n",
       "         568.5,  568.5,  568.5,  745. ,  111.5,  863. ,  863. ,  568.5,\n",
       "         111.5,  345.5,  345.5,  745. ,  111.5,  863. ,  111.5,  345.5,\n",
       "         745. ,  745. ,  111.5,  863. ,  568.5,  345.5,  345.5,  345.5,\n",
       "         568.5,  345.5,  745. ,  952. ,  111.5,  345.5,  345.5,  745. ,\n",
       "         111.5,  863. ,  345.5,  111.5,  745. ,  745. ,  568.5,  345.5,\n",
       "         863. ,  568.5,  568.5,  345.5,  863. ,  345.5,  345.5,  863. ,\n",
       "         345.5, 1000. ,  345.5,  568.5,  568.5,  345.5,  345.5,  568.5,\n",
       "         568.5,  745. ,  111.5,  568.5,  345.5,  111.5,  111.5,  111.5,\n",
       "         972. ,  568.5,  345.5,  345.5,  863. ,  745. ,  745. ,  345.5,\n",
       "         111.5,  345.5,  745. ,  745. ,  345.5,  972. ,  568.5,  986. ,\n",
       "         345.5,  568.5,  745. ,  745. ,  568.5,  345.5,  345.5,  345.5,\n",
       "         345.5,  863. ,  863. ,  745. ,  568.5,  745. ,  568.5,  111.5,\n",
       "         568.5,  111.5,  345.5,  111.5,  568.5,  111.5,  345.5,  345.5,\n",
       "         345.5,  863. ,  745. ,  745. ,  345.5,  111.5,  745. ,  111.5,\n",
       "         345.5,  111.5,  111.5,  111.5,  111.5,  568.5,  745. ,  111.5,\n",
       "         745. ,  922.5,  568.5,  345.5,  568.5,  345.5,  345.5,  568.5,\n",
       "         111.5,  345.5,  745. ,  111.5,  111.5,  345.5,  111.5,  111.5,\n",
       "         345.5,  568.5,  745. ,  111.5,  745. ,  345.5,  568.5,  345.5,\n",
       "         345.5,  111.5,  345.5,  993. ,  111.5,  111.5,  111.5,  952. ,\n",
       "         111.5,  345.5,  345.5,  745. ,  745. ,  922.5,  863. ,  111.5,\n",
       "         863. ,  568.5,  345.5,  345.5,  568.5,  863. ,  111.5,  863. ,\n",
       "         111.5,  996.5,  922.5,  568.5,  952. ,  111.5,  745. ,  972. ,\n",
       "         345.5,  345.5,  863. ,  922.5,  568.5,  345.5,  111.5,  111.5,\n",
       "         111.5,  345.5,  568.5,  345.5,  568.5,  111.5,  568.5,  863. ,\n",
       "         568.5,  568.5,  568.5,  345.5,  996.5,  986. ,  111.5,  111.5,\n",
       "         345.5,  111.5,  952. ,  568.5,  345.5,  345.5,  568.5,  568.5,\n",
       "         863. ,  568.5,  111.5,  111.5,  345.5,  111.5,  745. ,  568.5,\n",
       "         345.5,  345.5,  568.5,  111.5,  952. ,  972. ,  568.5,  568.5,\n",
       "         345.5,  568.5,  568.5,  345.5,  345.5,  568.5,  111.5,  745. ,\n",
       "         111.5,  111.5,  111.5,  863. ,  111.5,  345.5,  568.5,  345.5,\n",
       "         345.5,  568.5,  111.5,  745. ,  568.5,  345.5,  345.5,  111.5,\n",
       "         863. ,  568.5,  345.5,  568.5,  863. ,  952. ,  745. ,  745. ,\n",
       "         111.5,  568.5,  745. ,  922.5,  745. ,  345.5,  745. ,  345.5,\n",
       "         111.5,  111.5,  345.5,  922.5,  345.5,  745. ,  863. ,  111.5,\n",
       "         111.5,  345.5,  863. ,  745. ,  863. ,  863. ,  345.5,  952. ,\n",
       "         745. ,  111.5,  745. ,  345.5,  111.5,  345.5,  745. ,  568.5,\n",
       "         568.5,  345.5,  345.5,  111.5,  345.5,  568.5,  345.5,  863. ,\n",
       "         568.5,  745. ,  972. ,  345.5,  745. ,  111.5,  345.5,  345.5,\n",
       "         345.5,  986. ,  111.5,  345.5,  863. ,  111.5,  111.5,  863. ,\n",
       "         568.5,  345.5,  745. ,  863. ,  345.5,  745. ,  568.5,  111.5,\n",
       "         863. ,  111.5,  345.5,  345.5,  345.5,  568.5,  745. ,  863. ,\n",
       "         111.5,  568.5,  952. ,  345.5,  568.5,  745. ,  568.5,  111.5,\n",
       "         745. ,  922.5,  111.5,  993. ,  863. ,  745. ,  111.5,  922.5,\n",
       "         345.5,  745. ,  863. ,  111.5,  568.5,  745. ,  922.5,  345.5,\n",
       "         345.5,  568.5,  863. ,  568.5,  111.5,  745. ,  345.5,  568.5,\n",
       "         952. ,  111.5,  111.5,  345.5,  568.5,  345.5,  568.5,  745. ,\n",
       "         111.5,  345.5,  345.5,  111.5,  111.5,  111.5,  111.5,  111.5,\n",
       "         568.5,  111.5,  568.5,  345.5,  952. ,  745. ,  568.5,  345.5,\n",
       "         345.5,  111.5,  345.5,  111.5,  345.5,  922.5,  745. ,  111.5,\n",
       "         111.5,  745. ,  345.5,  111.5,  345.5,  111.5,  863. ,  111.5,\n",
       "         745. ,  568.5,  745. ,  568.5,  345.5,  745. ,  568.5,  986. ,\n",
       "         345.5,  345.5,  111.5,  863. ,  922.5,  345.5,  111.5,  952. ,\n",
       "         922.5,  111.5,  111.5,  952. ,  568.5,  568.5,  111.5,  345.5,\n",
       "         568.5,  345.5,  111.5,  863. ,  345.5,  111.5,  345.5,  345.5,\n",
       "         745. ,  345.5,  111.5,  111.5,  568.5,  568.5,  345.5,  345.5,\n",
       "         952. ,  863. ,  568.5,  863. ,  568.5,  111.5,  345.5,  345.5,\n",
       "         345.5,  568.5,  745. ,  745. ,  111.5,  745. ,  863. ,  111.5,\n",
       "         345.5,  745. ,  568.5,  568.5,  952. ,  745. ,  345.5,  345.5,\n",
       "         111.5,  345.5,  568.5,  568.5,  111.5,  111.5,  568.5,  745. ,\n",
       "         863. ,  345.5,  922.5,  111.5,  345.5,  745. ,  345.5,  111.5,\n",
       "         345.5,  745. ,  111.5,  863. ,  568.5,  568.5,  922.5,  568.5,\n",
       "         111.5,  111.5,  863. ,  345.5,  345.5,  568.5,  111.5,  568.5,\n",
       "         345.5,  345.5,  568.5,  745. ,  111.5,  745. ,  568.5,  345.5,\n",
       "         111.5,  745. ,  111.5,  345.5,  345.5,  568.5,  745. ,  111.5,\n",
       "         745. ,  345.5,  111.5,  111.5,  863. ,  745. ,  111.5,  345.5,\n",
       "         345.5,  111.5,  922.5,  568.5,  345.5,  568.5,  863. ,  568.5,\n",
       "         863. ,  111.5,  863. ,  922.5,  568.5,  568.5,  745. ,  345.5,\n",
       "         952. ,  111.5,  345.5,  111.5,  345.5,  863. ,  345.5,  111.5,\n",
       "         111.5,  568.5,  345.5,  568.5,  111.5,  111.5,  568.5,  111.5,\n",
       "         922.5,  922.5,  745. ,  863. ,  111.5,  745. ,  745. ,  745. ,\n",
       "         345.5,  745. ,  745. ,  568.5,  568.5,  345.5,  568.5,  345.5,\n",
       "         745. ,  745. ,  863. ,  111.5,  922.5,  345.5,  345.5,  111.5,\n",
       "         568.5,  745. ,  922.5,  345.5,  952. ,  345.5,  345.5,  111.5,\n",
       "         345.5,  993. ,  568.5,  345.5,  568.5,  345.5,  345.5,  952. ,\n",
       "         568.5,  972. ,  345.5,  922.5,  345.5,  568.5,  111.5,  568.5,\n",
       "         345.5,  345.5,  568.5,  568.5,  568.5,  345.5,  345.5,  568.5,\n",
       "         111.5,  745. ,  111.5,  568.5,  345.5,  111.5,  111.5,  111.5,\n",
       "         568.5,  745. ,  863. ,  745. ,  345.5,  745. ,  745. ,  568.5,\n",
       "         745. ,  568.5,  111.5,  568.5,  745. ,  745. ,  345.5,  745. ,\n",
       "         986. ,  863. ,  345.5,  345.5,  111.5,  972. ,  111.5,  111.5]),\n",
       " 972.0)"
      ]
     },
     "execution_count": 43,
     "metadata": {},
     "output_type": "execute_result"
    }
   ],
   "source": [
    "vals = [rds[i][0] for i in range(0, len(rds))]\n",
    "val = pds[0]\n",
    "\n",
    "calc_ranks(vals, val)"
   ]
  },
  {
   "cell_type": "code",
   "execution_count": 44,
   "id": "58078d92",
   "metadata": {},
   "outputs": [],
   "source": [
    "rand_ranks, rl_rank = calc_ranks_thetas(rds, pds)"
   ]
  },
  {
   "cell_type": "code",
   "execution_count": 45,
   "id": "e63b1eb0",
   "metadata": {},
   "outputs": [],
   "source": [
    "sums = np.sum(rand_ranks,0)"
   ]
  },
  {
   "cell_type": "code",
   "execution_count": 48,
   "id": "7157e5a1",
   "metadata": {},
   "outputs": [
    {
     "name": "stderr",
     "output_type": "stream",
     "text": [
      "/home/pgorski/anaconda3/lib/python3.8/site-packages/statsmodels/graphics/gofplots.py:993: UserWarning: marker is redundantly defined by the 'marker' keyword argument and the fmt string \"bo\" (-> marker='o'). The keyword argument will take precedence.\n",
      "  ax.plot(x, y, fmt, **plot_style)\n"
     ]
    },
    {
     "data": {
      "image/png": "[encoded data removed]",
      "text/plain": [
       "<Figure size 432x288 with 1 Axes>"
      ]
     },
     "metadata": {
      "needs_background": "light"
     },
     "output_type": "display_data"
    }
   ],
   "source": [
    "\n",
    "sm.qqplot((sums - np.mean(sums)) / np.std(sums), line ='45')\n",
    "py.show()"
   ]
  },
  {
   "cell_type": "code",
   "execution_count": 49,
   "id": "34ea0726",
   "metadata": {},
   "outputs": [
    {
     "data": {
      "text/plain": [
       "ShapiroResult(statistic=0.9966814517974854, pvalue=0.033694904297590256)"
      ]
     },
     "execution_count": 49,
     "metadata": {},
     "output_type": "execute_result"
    }
   ],
   "source": [
    "\n",
    "stats.shapiro(sums)"
   ]
  },
  {
   "cell_type": "code",
   "execution_count": 50,
   "id": "79418e58",
   "metadata": {},
   "outputs": [
    {
     "data": {
      "text/plain": [
       "(989,\n",
       " array([29714. , 53218. , 46157. , 35194. , 36837. , 34458. , 39973. ,\n",
       "        72460. , 48215.5, 70377.5, 58814. , 44603. , 46943. , 49452.5,\n",
       "        60450.5, 44029.5, 74295.5, 38643. , 50260.5, 49440. , 55419.5,\n",
       "        52189. , 42998. , 47573. , 35147. , 36079.5, 72686.5, 46513.5,\n",
       "        68084.5, 35625.5, 59063. , 65848. , 46764. , 41702.5, 34476.5,\n",
       "        38531.5, 41250. , 50557. , 64254. , 76342.5, 44092.5, 39677.5,\n",
       "        56398.5, 48005. , 69785.5, 42115.5, 49518. , 57067.5, 61635.5,\n",
       "        57905.5, 55892. , 72633. , 56755.5, 34258. , 44762.5, 60173.5,\n",
       "        68047.5, 38504. , 49318.5, 50766.5, 74426.5, 46531. , 39696. ,\n",
       "        62664.5, 63908.5, 70700. , 42759.5, 61266. , 44658.5, 30547. ,\n",
       "        36921.5, 42689. , 63548. , 44137.5, 36827.5, 50904.5, 58782.5,\n",
       "        69575. , 46482. , 54308.5, 38583.5, 67200. , 45490.5, 61337.5,\n",
       "        37555. , 54304. , 30287. , 34588. , 65176. , 52233.5, 60767. ,\n",
       "        47985. , 39759.5, 59701. , 47498. , 56590.5, 45567. , 39500.5,\n",
       "        38866. , 67931.5, 40004. , 58552. , 65685.5, 39629.5, 55297. ,\n",
       "        41699.5, 38313. , 46387.5, 55483. , 54407. , 58116. , 58560.5,\n",
       "        34404. , 52749.5, 56688.5, 46396. , 46201. , 58904. , 44534. ,\n",
       "        43927.5, 49790.5, 27781. , 44181.5, 64873.5, 47870. , 51655. ,\n",
       "        47792. , 66810.5, 27812.5, 54321.5, 72465. , 28361.5, 24759. ,\n",
       "        52957. , 56012.5, 45755.5, 34081.5, 56758. , 40122.5, 54686. ,\n",
       "        65598.5, 48879. , 58536.5, 43024.5, 57567.5, 53364. , 64946. ,\n",
       "        51201. , 60287.5, 54702.5, 45680. , 41139.5, 69453. , 43966.5,\n",
       "        57182. , 45106.5, 48453.5, 50430.5, 59468.5, 58219.5, 33377. ,\n",
       "        58926.5, 62921.5, 41000.5, 52781.5, 47813. , 42603. , 45822. ,\n",
       "        60587.5, 56250.5, 43091.5, 43056. , 55907.5, 75041.5, 59741.5,\n",
       "        40200. , 43415.5, 38437. , 54586. , 28279.5, 44374. , 34836.5,\n",
       "        49577.5, 42477. , 32226. , 76816.5, 42948. , 57892. , 58599.5,\n",
       "        50689. , 42644.5, 74437.5, 56889.5, 52345. , 58628. , 51571.5,\n",
       "        32561.5, 61276.5, 58362. , 52992.5, 33468. , 34867.5, 40013.5,\n",
       "        58233.5, 76020.5, 35105. , 54696.5, 27982.5, 60442.5, 61232. ,\n",
       "        72135. , 48739.5, 65963.5, 60859. , 53861. , 60157. , 36253. ,\n",
       "        62107. , 39787. , 61610.5, 46233. , 29094.5, 66003.5, 44884.5,\n",
       "        57961.5, 50306.5, 58849. , 65307.5, 62036. , 52093.5, 48327. ,\n",
       "        51881.5, 36914.5, 29511. , 39741.5, 62729. , 58321. , 40962.5,\n",
       "        44366.5, 46930. , 46636.5, 41054. , 60580. , 33149.5, 53819. ,\n",
       "        42826. , 59643. , 44166. , 43128. , 38736. , 47848.5, 53261.5,\n",
       "        52390. , 60581. , 49351. , 52467.5, 49057.5, 68187. , 67892.5,\n",
       "        46602. , 46041.5, 52467. , 62458. , 44262. , 59447. , 50159. ,\n",
       "        52830.5, 24760. , 50312. , 74417. , 45131. , 56732.5, 41246. ,\n",
       "        34120.5, 45279.5, 42111.5, 66482.5, 49637.5, 52841. , 39484. ,\n",
       "        71219.5, 55031. , 45273.5, 49850.5, 82951. , 35999.5, 18746. ,\n",
       "        52891. , 36882. , 37642. , 60311.5, 52972. , 51168. , 56279.5,\n",
       "        65767.5, 49813.5, 53641. , 55530.5, 47393. , 42544.5, 66408. ,\n",
       "        65797.5, 76077. , 43066. , 43101. , 48293. , 36138.5, 47302.5,\n",
       "        60536.5, 22851.5, 48911. , 58996. , 46819.5, 46453. , 57285.5,\n",
       "        48207. , 27782.5, 71313. , 64184.5, 68483.5, 43731.5, 39400.5,\n",
       "        65285.5, 54356. , 43034.5, 40164.5, 57154. , 30237. , 62498.5,\n",
       "        52827. , 73993.5, 61066. , 64619. , 61579. , 51425.5, 70647. ,\n",
       "        39660. , 63802. , 43515. , 49067.5, 54366.5, 37906. , 48402.5,\n",
       "        51853. , 71188. , 26213. , 58181.5, 59787.5, 63226.5, 41867.5,\n",
       "        25262.5, 45757. , 47506.5, 21431.5, 59870. , 31303. , 41442.5,\n",
       "        70751.5, 28291.5, 67926.5, 41140.5, 53965. , 61776. , 62547.5,\n",
       "        51259. , 67634. , 33669. , 60632. , 39678. , 44084.5, 36324.5,\n",
       "        39248. , 61057. , 46020. , 35276.5, 57565. , 68452. , 70273.5,\n",
       "        28583. , 58381.5, 43956. , 38690. , 46402. , 56069. , 55598.5,\n",
       "        50646. , 53437.5, 76083.5, 41998.5, 38767. , 31881. , 38343. ,\n",
       "        27722. , 62995.5, 39396. , 40635.5, 61408. , 50325.5, 57055.5,\n",
       "        49701.5, 64093.5, 49216.5, 44851. , 48925.5, 60626. , 47750.5,\n",
       "        69305.5, 69766.5, 42988. , 79475. , 44432.5, 44237. , 53852.5,\n",
       "        59207. , 60189. , 58114. , 45454.5, 60470. , 27913.5, 51193. ,\n",
       "        53926. , 32289.5, 37439.5, 53829. , 68625. , 51685. , 49468. ,\n",
       "        40483. , 43754.5, 56521. , 46360. , 44480. , 56759. , 65740. ,\n",
       "        62147. , 65758.5, 62796.5, 77755.5, 61965.5, 68524.5, 30020. ,\n",
       "        51091.5, 68673.5, 54221.5, 47283.5, 61036.5, 48201.5, 36392.5,\n",
       "        51812.5, 51903.5, 63052. , 69768. , 61975. , 61254. , 61502. ,\n",
       "        43932.5, 50689. , 33824. , 30240.5, 33218.5, 57465. , 24463. ,\n",
       "        56514. , 69495. , 47184.5, 58515.5, 52489.5, 62552. , 62893. ,\n",
       "        35854. , 46081. , 24258. , 59089. , 46323.5, 49388.5, 41942. ,\n",
       "        39891. , 48673.5, 37994. , 31528.5, 46808.5, 69785.5, 57757. ,\n",
       "        38373.5, 56889. , 50837.5, 58325. , 54715. , 35584.5, 36210. ,\n",
       "        61378. , 51783.5, 39331.5, 38459.5, 42688.5, 45066. , 27709. ,\n",
       "        64135. , 45542.5, 46196. , 51922. , 31693. , 62799. , 27736.5,\n",
       "        36855. , 45608.5, 44787. , 80654. , 41709.5, 13961. , 47897. ,\n",
       "        62277. , 29552. , 50927.5, 51317.5, 56200. , 47142. , 70057. ,\n",
       "        60614.5, 40378.5, 51961.5, 50868. , 49773.5, 44697. , 44706.5,\n",
       "        69396. , 62896. , 56758. , 23784.5, 75781. , 65577.5, 61053.5,\n",
       "        65646. , 52227.5, 37955.5, 65240.5, 43958.5, 41834. , 39228. ,\n",
       "        51105. , 46659. , 31150.5, 28271.5, 26214. , 53522.5, 51641. ,\n",
       "        50577. , 41381. , 60820.5, 49453.5, 65087. , 72541.5, 55494.5,\n",
       "        67569. , 74206. , 50441. , 75007.5, 72849. , 50880.5, 42826.5,\n",
       "        47181. , 40181. , 80399.5, 65141.5, 47669. , 36008.5, 45802.5,\n",
       "        43650.5, 57072.5, 33369. , 25636. , 49183. , 61109.5, 44937.5,\n",
       "        66333.5, 44236.5, 56894.5, 47897.5, 47994. , 32113.5, 66877.5,\n",
       "        63021. , 56804.5, 49956. , 55970.5, 51029. , 49357. , 42267.5,\n",
       "        57032. , 39041. , 47287.5, 52669.5, 40398.5, 23269. , 48844. ,\n",
       "        62759. , 42494. , 30888.5, 38610.5, 59150.5, 61772. , 38770.5,\n",
       "        53127.5, 57637. , 58593. , 42445. , 59366. , 54072. , 56700. ,\n",
       "        46625.5, 34310.5, 43266.5, 55283.5, 65646.5, 69017.5, 59186.5,\n",
       "        51897. , 53640. , 66078.5, 62296.5, 60657. , 47025. , 69000. ,\n",
       "        49751. , 47574.5, 54677. , 53632.5, 64715. , 52926.5, 57302. ,\n",
       "        69832.5, 57068. , 41083.5, 27836.5, 46557. , 57026.5, 57229.5,\n",
       "        59219.5, 53119. , 67086. , 50901. , 49857. , 54565.5, 41777.5,\n",
       "        42028.5, 55006. , 49536. , 51506.5, 48085.5, 53359. , 41995. ,\n",
       "        41475. , 40550.5, 62000. , 65864.5, 50331. , 36710. , 64800. ,\n",
       "        61320.5, 37907. , 64014.5, 48278.5, 50566.5, 62986. , 35030. ,\n",
       "        71350. , 41414.5, 51050. , 72231.5, 38617.5, 45403. , 76963. ,\n",
       "        58882.5, 43414. , 46773.5, 55161. , 54707. , 46261. , 42995. ,\n",
       "        37491. , 61692.5, 53084.5, 51216.5, 38838. , 36924.5, 45381. ,\n",
       "        72905. , 54946. , 36255. , 31548. , 71119. , 37440.5, 51087.5,\n",
       "        54986.5, 40502.5, 45641. , 62948. , 60904.5, 35537. , 74867. ,\n",
       "        59251. , 35798.5, 65584. , 56720.5, 51136. , 45603. , 59794.5,\n",
       "        47987. , 62068. , 60991. , 58907. , 38891.5, 32256.5, 53090.5,\n",
       "        49937.5, 37715.5, 40837. , 53812. , 30383. , 44830. , 79949. ,\n",
       "        44717. , 34805. , 47982. , 55290.5, 37466.5, 39843.5, 67497. ,\n",
       "        41645. , 46662.5, 23882.5, 53133. , 51360. , 50537.5, 47915. ,\n",
       "        47984. , 66503. , 36748. , 57716.5, 38774.5, 53587. , 58494.5,\n",
       "        44915. , 44928.5, 44127. , 52451.5, 52142. , 28676. , 45485.5,\n",
       "        66304. , 53235. , 48016. , 28633. , 58508. , 43398.5, 38479. ,\n",
       "        58217.5, 46475.5, 65814. , 51533. , 52233. , 64469. , 63694.5,\n",
       "        41835.5, 50215.5, 52802. , 71657. , 40719. , 51395. , 47457. ,\n",
       "        41569.5, 58504.5, 52139. , 47990.5, 49358. , 71070.5, 51724.5,\n",
       "        38592. , 34455.5, 48565. , 58552. , 46207.5, 37887.5, 58028.5,\n",
       "        50889.5, 45098. , 45631.5, 68025. , 43481. , 49953.5, 57664.5,\n",
       "        47024. , 70124.5, 52226. , 36947.5, 29913.5, 43872. , 48207. ,\n",
       "        41340.5, 38251.5, 62842. , 74032. , 46296. , 63085.5, 53320. ,\n",
       "        59134. , 33481.5, 38319. , 52874.5, 58002.5, 40015.5, 57331.5,\n",
       "        24299. , 27263.5, 69633. , 31429.5, 44121. , 53809.5, 49870. ,\n",
       "        61734.5, 72148. , 62042.5, 32767. , 48699.5, 35959. , 32591. ,\n",
       "        49448. , 60475.5, 44050.5, 51716.5, 51042. , 64865. , 51875. ,\n",
       "        31871.5, 59239. , 63089. , 36587. , 66376.5, 45558.5, 30339. ,\n",
       "        44451.5, 58440.5, 24616.5, 42141.5, 54431.5, 53707.5, 57511. ,\n",
       "        55803.5, 40155. , 35752. , 62186.5, 49573.5, 41715. , 36182.5,\n",
       "        55278.5, 62556.5, 47395.5, 68847.5, 66531. , 62342. , 46453. ,\n",
       "        34776. , 68611. , 35758.5, 56566. , 49751. , 35983. , 41680. ,\n",
       "        54625.5, 47316.5, 59456.5, 35066. , 45075. , 52479.5, 28474. ,\n",
       "        18159. , 51837.5, 58955. , 43642. , 48130.5, 51519.5, 51494.5,\n",
       "        58359.5, 31756.5, 44392. , 63237.5, 66458. , 57701.5, 55664.5,\n",
       "        30720.5, 73952. , 49481. , 52308. , 53500. , 75726.5, 60172.5,\n",
       "        58070. , 31735. , 42529.5, 53851. , 47077. , 58315. , 29791.5,\n",
       "        40235. , 42019.5, 67289. , 42140.5, 58107. , 50588.5, 43049.5,\n",
       "        43988. , 28631.5, 67934.5, 66585. , 76321.5, 35773. , 36931.5,\n",
       "        55703. , 59929. , 51297. , 50973.5, 71805. , 59759. , 58693.5,\n",
       "        47330. , 51082. , 45499. , 48759.5, 58463.5, 42074. , 63599.5,\n",
       "        26695. , 56588. , 56609. , 50168. , 36832.5, 60756.5, 44464. ,\n",
       "        72417.5, 33241.5, 74208.5, 36060. , 34807. , 52881.5, 56020. ,\n",
       "        71119. , 46650.5, 32499. , 58268. , 38911.5, 34837. , 74620. ,\n",
       "        54365.5, 76571. , 43620. , 59615. , 42136. , 55949.5, 56658.5,\n",
       "        39956. , 60203. , 49302. , 63744. , 59878. , 52892. , 45015. ,\n",
       "        57557. , 48897.5, 28953.5, 42560.5, 38150.5, 52471. , 42059.5,\n",
       "        65622.5, 38391.5, 40643.5, 54026. , 48891.5, 41910. , 45837. ,\n",
       "        42737. , 62683.5, 40374. , 45547.5, 45109. , 59316. , 39766.5,\n",
       "        38753. , 69453. , 50631.5, 40753. , 63844.5, 65267.5, 66350. ,\n",
       "        44909.5, 51498.5, 28347.5, 61558.5, 32953. , 34109.5]),\n",
       " 76192.5)"
      ]
     },
     "execution_count": 50,
     "metadata": {},
     "output_type": "execute_result"
    }
   ],
   "source": [
    "np.sum(sums < np.sum(rl_rank)), sums, np.sum(rl_rank)"
   ]
  },
  {
   "cell_type": "code",
   "execution_count": 51,
   "id": "3213d405",
   "metadata": {},
   "outputs": [
    {
     "data": {
      "text/plain": [
       "82951.0"
      ]
     },
     "execution_count": 51,
     "metadata": {},
     "output_type": "execute_result"
    }
   ],
   "source": [
    "np.max(sums)"
   ]
  },
  {
   "cell_type": "code",
   "execution_count": 52,
   "id": "7416c126",
   "metadata": {},
   "outputs": [
    {
     "data": {
      "text/plain": [
       "0.01100000000000001"
      ]
     },
     "execution_count": 52,
     "metadata": {},
     "output_type": "execute_result"
    }
   ],
   "source": [
    "# pvalue:\n",
    "1-np.sum(sums < np.sum(rl_rank))/len(sums)"
   ]
  },
  {
   "cell_type": "code",
   "execution_count": 53,
   "id": "3cf3c6f9",
   "metadata": {},
   "outputs": [
    {
     "data": {
      "text/plain": [
       "0.016526825495757902"
      ]
     },
     "execution_count": 53,
     "metadata": {},
     "output_type": "execute_result"
    }
   ],
   "source": [
    "rl_sum = np.sum(rl_rank)\n",
    "zscore = (rl_sum - np.mean(sums)) / np.std(sums)\n",
    "\n",
    "1-stats.norm.cdf(zscore)"
   ]
  }
 ],
 "metadata": {
  "kernelspec": {
   "display_name": "Python 3 (ipykernel)",
   "language": "python",
   "name": "python3"
  },
  "language_info": {
   "codemirror_mode": {
    "name": "ipython",
    "version": 3
   },
   "file_extension": ".py",
   "mimetype": "text/x-python",
   "name": "python",
   "nbconvert_exporter": "python",
   "pygments_lexer": "ipython3",
   "version": "3.8.5"
  }
 },
 "nbformat": 4,
 "nbformat_minor": 5
}

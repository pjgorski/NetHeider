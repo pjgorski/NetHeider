{
 "cells": [
  {
   "cell_type": "code",
   "execution_count": 1,
   "id": "southeast-accused",
   "metadata": {},
   "outputs": [
    {
     "ename": "ImportError",
     "evalue": "/home/pgorski/anaconda3/lib/python3.8/site-packages/zmq/backend/cython/../../../../.././libstdc++.so.6: version `GLIBCXX_3.4.29' not found (required by /home/pgorski/anaconda3/lib/python3.8/site-packages/matplotlib/_path.cpython-38-x86_64-linux-gnu.so)",
     "output_type": "error",
     "traceback": [
      "\u001b[0;31m---------------------------------------------------------------------------\u001b[0m",
      "\u001b[0;31mImportError\u001b[0m                               Traceback (most recent call last)",
      "\u001b[0;32m<ipython-input-1-1e42b85e9d59>\u001b[0m in \u001b[0;36m<module>\u001b[0;34m\u001b[0m\n\u001b[1;32m      6\u001b[0m \u001b[0;32mfrom\u001b[0m \u001b[0mscipy\u001b[0m \u001b[0;32mimport\u001b[0m \u001b[0mstats\u001b[0m\u001b[0;34m\u001b[0m\u001b[0;34m\u001b[0m\u001b[0m\n\u001b[1;32m      7\u001b[0m \u001b[0;34m\u001b[0m\u001b[0m\n\u001b[0;32m----> 8\u001b[0;31m \u001b[0;32mimport\u001b[0m \u001b[0mmatplotlib\u001b[0m\u001b[0;34m.\u001b[0m\u001b[0mpyplot\u001b[0m \u001b[0;32mas\u001b[0m \u001b[0mplt\u001b[0m\u001b[0;34m\u001b[0m\u001b[0;34m\u001b[0m\u001b[0m\n\u001b[0m\u001b[1;32m      9\u001b[0m \u001b[0;34m\u001b[0m\u001b[0m\n\u001b[1;32m     10\u001b[0m \u001b[0;32mfrom\u001b[0m \u001b[0mdatetime\u001b[0m \u001b[0;32mimport\u001b[0m \u001b[0mdatetime\u001b[0m\u001b[0;34m\u001b[0m\u001b[0;34m\u001b[0m\u001b[0m\n",
      "\u001b[0;32m~/anaconda3/lib/python3.8/site-packages/matplotlib/__init__.py\u001b[0m in \u001b[0;36m<module>\u001b[0;34m\u001b[0m\n\u001b[1;32m    107\u001b[0m \u001b[0;31m# cbook must import matplotlib only within function\u001b[0m\u001b[0;34m\u001b[0m\u001b[0;34m\u001b[0m\u001b[0;34m\u001b[0m\u001b[0m\n\u001b[1;32m    108\u001b[0m \u001b[0;31m# definitions, so it is safe to import from it here.\u001b[0m\u001b[0;34m\u001b[0m\u001b[0;34m\u001b[0m\u001b[0;34m\u001b[0m\u001b[0m\n\u001b[0;32m--> 109\u001b[0;31m \u001b[0;32mfrom\u001b[0m \u001b[0;34m.\u001b[0m \u001b[0;32mimport\u001b[0m \u001b[0m_api\u001b[0m\u001b[0;34m,\u001b[0m \u001b[0m_version\u001b[0m\u001b[0;34m,\u001b[0m \u001b[0mcbook\u001b[0m\u001b[0;34m,\u001b[0m \u001b[0mdocstring\u001b[0m\u001b[0;34m,\u001b[0m \u001b[0mrcsetup\u001b[0m\u001b[0;34m\u001b[0m\u001b[0;34m\u001b[0m\u001b[0m\n\u001b[0m\u001b[1;32m    110\u001b[0m \u001b[0;32mfrom\u001b[0m \u001b[0mmatplotlib\u001b[0m\u001b[0;34m.\u001b[0m\u001b[0mcbook\u001b[0m \u001b[0;32mimport\u001b[0m \u001b[0mMatplotlibDeprecationWarning\u001b[0m\u001b[0;34m,\u001b[0m \u001b[0msanitize_sequence\u001b[0m\u001b[0;34m\u001b[0m\u001b[0;34m\u001b[0m\u001b[0m\n\u001b[1;32m    111\u001b[0m \u001b[0;32mfrom\u001b[0m \u001b[0mmatplotlib\u001b[0m\u001b[0;34m.\u001b[0m\u001b[0mcbook\u001b[0m \u001b[0;32mimport\u001b[0m \u001b[0mmplDeprecation\u001b[0m  \u001b[0;31m# deprecated\u001b[0m\u001b[0;34m\u001b[0m\u001b[0;34m\u001b[0m\u001b[0m\n",
      "\u001b[0;32m~/anaconda3/lib/python3.8/site-packages/matplotlib/rcsetup.py\u001b[0m in \u001b[0;36m<module>\u001b[0;34m\u001b[0m\n\u001b[1;32m     25\u001b[0m \u001b[0;32mfrom\u001b[0m \u001b[0mmatplotlib\u001b[0m \u001b[0;32mimport\u001b[0m \u001b[0m_api\u001b[0m\u001b[0;34m,\u001b[0m \u001b[0mcbook\u001b[0m\u001b[0;34m\u001b[0m\u001b[0;34m\u001b[0m\u001b[0m\n\u001b[1;32m     26\u001b[0m \u001b[0;32mfrom\u001b[0m \u001b[0mmatplotlib\u001b[0m\u001b[0;34m.\u001b[0m\u001b[0mcbook\u001b[0m \u001b[0;32mimport\u001b[0m \u001b[0mls_mapper\u001b[0m\u001b[0;34m\u001b[0m\u001b[0;34m\u001b[0m\u001b[0m\n\u001b[0;32m---> 27\u001b[0;31m \u001b[0;32mfrom\u001b[0m \u001b[0mmatplotlib\u001b[0m\u001b[0;34m.\u001b[0m\u001b[0mcolors\u001b[0m \u001b[0;32mimport\u001b[0m \u001b[0mColormap\u001b[0m\u001b[0;34m,\u001b[0m \u001b[0mis_color_like\u001b[0m\u001b[0;34m\u001b[0m\u001b[0;34m\u001b[0m\u001b[0m\n\u001b[0m\u001b[1;32m     28\u001b[0m \u001b[0;32mfrom\u001b[0m \u001b[0mmatplotlib\u001b[0m\u001b[0;34m.\u001b[0m\u001b[0mfontconfig_pattern\u001b[0m \u001b[0;32mimport\u001b[0m \u001b[0mparse_fontconfig_pattern\u001b[0m\u001b[0;34m\u001b[0m\u001b[0;34m\u001b[0m\u001b[0m\n\u001b[1;32m     29\u001b[0m \u001b[0;32mfrom\u001b[0m \u001b[0mmatplotlib\u001b[0m\u001b[0;34m.\u001b[0m\u001b[0m_enums\u001b[0m \u001b[0;32mimport\u001b[0m \u001b[0mJoinStyle\u001b[0m\u001b[0;34m,\u001b[0m \u001b[0mCapStyle\u001b[0m\u001b[0;34m\u001b[0m\u001b[0;34m\u001b[0m\u001b[0m\n",
      "\u001b[0;32m~/anaconda3/lib/python3.8/site-packages/matplotlib/colors.py\u001b[0m in \u001b[0;36m<module>\u001b[0;34m\u001b[0m\n\u001b[1;32m     54\u001b[0m \u001b[0;32mimport\u001b[0m \u001b[0mmatplotlib\u001b[0m \u001b[0;32mas\u001b[0m \u001b[0mmpl\u001b[0m\u001b[0;34m\u001b[0m\u001b[0;34m\u001b[0m\u001b[0m\n\u001b[1;32m     55\u001b[0m \u001b[0;32mimport\u001b[0m \u001b[0mnumpy\u001b[0m \u001b[0;32mas\u001b[0m \u001b[0mnp\u001b[0m\u001b[0;34m\u001b[0m\u001b[0;34m\u001b[0m\u001b[0m\n\u001b[0;32m---> 56\u001b[0;31m \u001b[0;32mfrom\u001b[0m \u001b[0mmatplotlib\u001b[0m \u001b[0;32mimport\u001b[0m \u001b[0m_api\u001b[0m\u001b[0;34m,\u001b[0m \u001b[0mcbook\u001b[0m\u001b[0;34m,\u001b[0m \u001b[0mscale\u001b[0m\u001b[0;34m\u001b[0m\u001b[0;34m\u001b[0m\u001b[0m\n\u001b[0m\u001b[1;32m     57\u001b[0m \u001b[0;32mfrom\u001b[0m \u001b[0;34m.\u001b[0m\u001b[0m_color_data\u001b[0m \u001b[0;32mimport\u001b[0m \u001b[0mBASE_COLORS\u001b[0m\u001b[0;34m,\u001b[0m \u001b[0mTABLEAU_COLORS\u001b[0m\u001b[0;34m,\u001b[0m \u001b[0mCSS4_COLORS\u001b[0m\u001b[0;34m,\u001b[0m \u001b[0mXKCD_COLORS\u001b[0m\u001b[0;34m\u001b[0m\u001b[0;34m\u001b[0m\u001b[0m\n\u001b[1;32m     58\u001b[0m \u001b[0;34m\u001b[0m\u001b[0m\n",
      "\u001b[0;32m~/anaconda3/lib/python3.8/site-packages/matplotlib/scale.py\u001b[0m in \u001b[0;36m<module>\u001b[0;34m\u001b[0m\n\u001b[1;32m     21\u001b[0m \u001b[0;32mimport\u001b[0m \u001b[0mmatplotlib\u001b[0m \u001b[0;32mas\u001b[0m \u001b[0mmpl\u001b[0m\u001b[0;34m\u001b[0m\u001b[0;34m\u001b[0m\u001b[0m\n\u001b[1;32m     22\u001b[0m \u001b[0;32mfrom\u001b[0m \u001b[0mmatplotlib\u001b[0m \u001b[0;32mimport\u001b[0m \u001b[0m_api\u001b[0m\u001b[0;34m,\u001b[0m \u001b[0mdocstring\u001b[0m\u001b[0;34m\u001b[0m\u001b[0;34m\u001b[0m\u001b[0m\n\u001b[0;32m---> 23\u001b[0;31m from matplotlib.ticker import (\n\u001b[0m\u001b[1;32m     24\u001b[0m     \u001b[0mNullFormatter\u001b[0m\u001b[0;34m,\u001b[0m \u001b[0mScalarFormatter\u001b[0m\u001b[0;34m,\u001b[0m \u001b[0mLogFormatterSciNotation\u001b[0m\u001b[0;34m,\u001b[0m \u001b[0mLogitFormatter\u001b[0m\u001b[0;34m,\u001b[0m\u001b[0;34m\u001b[0m\u001b[0;34m\u001b[0m\u001b[0m\n\u001b[1;32m     25\u001b[0m     \u001b[0mNullLocator\u001b[0m\u001b[0;34m,\u001b[0m \u001b[0mLogLocator\u001b[0m\u001b[0;34m,\u001b[0m \u001b[0mAutoLocator\u001b[0m\u001b[0;34m,\u001b[0m \u001b[0mAutoMinorLocator\u001b[0m\u001b[0;34m,\u001b[0m\u001b[0;34m\u001b[0m\u001b[0;34m\u001b[0m\u001b[0m\n",
      "\u001b[0;32m~/anaconda3/lib/python3.8/site-packages/matplotlib/ticker.py\u001b[0m in \u001b[0;36m<module>\u001b[0;34m\u001b[0m\n\u001b[1;32m    134\u001b[0m \u001b[0;32mimport\u001b[0m \u001b[0mmatplotlib\u001b[0m \u001b[0;32mas\u001b[0m \u001b[0mmpl\u001b[0m\u001b[0;34m\u001b[0m\u001b[0;34m\u001b[0m\u001b[0m\n\u001b[1;32m    135\u001b[0m \u001b[0;32mfrom\u001b[0m \u001b[0mmatplotlib\u001b[0m \u001b[0;32mimport\u001b[0m \u001b[0m_api\u001b[0m\u001b[0;34m,\u001b[0m \u001b[0mcbook\u001b[0m\u001b[0;34m\u001b[0m\u001b[0;34m\u001b[0m\u001b[0m\n\u001b[0;32m--> 136\u001b[0;31m \u001b[0;32mfrom\u001b[0m \u001b[0mmatplotlib\u001b[0m \u001b[0;32mimport\u001b[0m \u001b[0mtransforms\u001b[0m \u001b[0;32mas\u001b[0m \u001b[0mmtransforms\u001b[0m\u001b[0;34m\u001b[0m\u001b[0;34m\u001b[0m\u001b[0m\n\u001b[0m\u001b[1;32m    137\u001b[0m \u001b[0;34m\u001b[0m\u001b[0m\n\u001b[1;32m    138\u001b[0m \u001b[0m_log\u001b[0m \u001b[0;34m=\u001b[0m \u001b[0mlogging\u001b[0m\u001b[0;34m.\u001b[0m\u001b[0mgetLogger\u001b[0m\u001b[0;34m(\u001b[0m\u001b[0m__name__\u001b[0m\u001b[0;34m)\u001b[0m\u001b[0;34m\u001b[0m\u001b[0;34m\u001b[0m\u001b[0m\n",
      "\u001b[0;32m~/anaconda3/lib/python3.8/site-packages/matplotlib/transforms.py\u001b[0m in \u001b[0;36m<module>\u001b[0;34m\u001b[0m\n\u001b[1;32m     44\u001b[0m \u001b[0;34m\u001b[0m\u001b[0m\n\u001b[1;32m     45\u001b[0m \u001b[0;32mfrom\u001b[0m \u001b[0mmatplotlib\u001b[0m \u001b[0;32mimport\u001b[0m \u001b[0m_api\u001b[0m\u001b[0;34m\u001b[0m\u001b[0;34m\u001b[0m\u001b[0m\n\u001b[0;32m---> 46\u001b[0;31m from matplotlib._path import (\n\u001b[0m\u001b[1;32m     47\u001b[0m     affine_transform, count_bboxes_overlapping_bbox, update_path_extents)\n\u001b[1;32m     48\u001b[0m \u001b[0;32mfrom\u001b[0m \u001b[0;34m.\u001b[0m\u001b[0mpath\u001b[0m \u001b[0;32mimport\u001b[0m \u001b[0mPath\u001b[0m\u001b[0;34m\u001b[0m\u001b[0;34m\u001b[0m\u001b[0m\n",
      "\u001b[0;31mImportError\u001b[0m: /home/pgorski/anaconda3/lib/python3.8/site-packages/zmq/backend/cython/../../../../.././libstdc++.so.6: version `GLIBCXX_3.4.29' not found (required by /home/pgorski/anaconda3/lib/python3.8/site-packages/matplotlib/_path.cpython-38-x86_64-linux-gnu.so)"
     ]
    }
   ],
   "source": [
    "import pickle\n",
    "import networkx as nx\n",
    "import numpy as np\n",
    "import pandas as pd\n",
    "\n",
    "from scipy import stats\n",
    "\n",
    "import matplotlib.pyplot as plt\n",
    "\n",
    "from datetime import datetime\n",
    "\n",
    "import statsmodels.api as sm\n",
    "import pylab as py\n",
    "\n",
    "np.set_printoptions(precision=3)\n",
    "np.set_printoptions(suppress=True)"
   ]
  },
  {
   "cell_type": "code",
   "execution_count": 2,
   "id": "realistic-syntax",
   "metadata": {},
   "outputs": [
    {
     "name": "stdout",
     "output_type": "stream",
     "text": [
      "Showing the pickled data:\n",
      "The data  0  is :  1\n",
      "The data  1  is :  2\n",
      "The data  2  is :  3\n",
      "The data  3  is :  4\n",
      "The data  4  is :  5\n",
      "The data  5  is :  6\n"
     ]
    }
   ],
   "source": [
    "file = open('NetSense_network.pkl', 'rb')\n",
    "# dump information to that file\n",
    "data = pickle.load(file)\n",
    "\n",
    "# close the file\n",
    "file.close()\n",
    "\n",
    "print('Showing the pickled data:')\n",
    "\n",
    "cnt = 0\n",
    "for item in data:\n",
    "    print('The data ', cnt, ' is : ', item)\n",
    "    cnt += 1"
   ]
  },
  {
   "cell_type": "code",
   "execution_count": 3,
   "id": "social-collection",
   "metadata": {},
   "outputs": [
    {
     "data": {
      "text/plain": [
       "1"
      ]
     },
     "execution_count": 3,
     "metadata": {},
     "output_type": "execute_result"
    }
   ],
   "source": [
    "data[6].nodes[75261]['hometown_1']"
   ]
  },
  {
   "cell_type": "code",
   "execution_count": 4,
   "id": "civil-fields",
   "metadata": {},
   "outputs": [
    {
     "data": {
      "image/png": "[encoded data removed]",
      "text/plain": [
       "<Figure size 432x288 with 1 Axes>"
      ]
     },
     "metadata": {},
     "output_type": "display_data"
    }
   ],
   "source": [
    "nx.draw(data[6])"
   ]
  },
  {
   "cell_type": "code",
   "execution_count": 5,
   "id": "sharing-england",
   "metadata": {},
   "outputs": [
    {
     "data": {
      "text/plain": [
       "NodeDataView({75178: {'age_1': 1, 'hometown_1': 1, 'ethnicity_1': 2, 'gender_1': 2, 'premaritalsex_': 3, 'euthanasia_': 3, 'deathpen_': 3, 'gaymarriage_': 3, 'marijuana_': 2, 'political_': 1, 'abortion_': 3, 'homosexual_': 3}, 30952: {'age_1': 1, 'hometown_1': 1, 'ethnicity_1': 2, 'gender_1': 2, 'premaritalsex_': 2, 'euthanasia_': 2, 'deathpen_': 2, 'gaymarriage_': 1, 'marijuana_': 3, 'political_': 1, 'abortion_': 2, 'homosexual_': 2}, 13116: {'age_1': 1, 'hometown_1': 1, 'ethnicity_1': 2, 'gender_1': 1, 'premaritalsex_': 3, 'euthanasia_': 3, 'deathpen_': 3, 'gaymarriage_': 3, 'marijuana_': 3, 'political_': 3, 'abortion_': 3, 'homosexual_': 1}, 62555: {'age_1': 2, 'hometown_1': 1, 'ethnicity_1': 2, 'gender_1': 1, 'premaritalsex_': 3, 'euthanasia_': 1, 'deathpen_': 1, 'gaymarriage_': 3, 'marijuana_': 2, 'political_': 3, 'abortion_': 3, 'homosexual_': 3}, 26999: {'age_1': 2, 'hometown_1': 1, 'ethnicity_1': 2, 'gender_1': 1, 'premaritalsex_': 3, 'euthanasia_': 1, 'deathpen_': 2, 'gaymarriage_': 2, 'marijuana_': 1, 'political_': 2, 'abortion_': 3, 'homosexual_': 3}, 10841: {'age_1': 1, 'hometown_1': 1, 'ethnicity_1': 4, 'gender_1': 2, 'premaritalsex_': 1, 'euthanasia_': 3, 'deathpen_': 1, 'gaymarriage_': 1, 'marijuana_': 1, 'political_': 2, 'abortion_': 1, 'homosexual_': 1}, 17353: {'age_1': 1, 'hometown_1': 1, 'ethnicity_1': 1, 'gender_1': 2, 'premaritalsex_': 1, 'euthanasia_': 1, 'deathpen_': 2, 'gaymarriage_': 2, 'marijuana_': 1, 'political_': 1, 'abortion_': 1, 'homosexual_': 2}, 86352: {'age_1': 2, 'hometown_1': 1, 'ethnicity_1': 3, 'gender_1': 1, 'premaritalsex_': 1, 'euthanasia_': 2, 'deathpen_': 2, 'gaymarriage_': 2, 'marijuana_': 3, 'political_': 2, 'abortion_': 2, 'homosexual_': 1}, 53275: {'age_1': 1, 'hometown_1': 1, 'ethnicity_1': 4, 'gender_1': 1, 'premaritalsex_': 3, 'euthanasia_': 3, 'deathpen_': 1, 'gaymarriage_': 3, 'marijuana_': 2, 'political_': 2, 'abortion_': 3, 'homosexual_': 3}, 77291: {'age_1': 1, 'hometown_1': 1, 'ethnicity_1': 1, 'gender_1': 2, 'premaritalsex_': 3, 'euthanasia_': 1, 'deathpen_': 1, 'gaymarriage_': 3, 'marijuana_': 3, 'political_': 3, 'abortion_': 1, 'homosexual_': 3}, 18394: {'age_1': 1, 'hometown_1': 2, 'ethnicity_1': 1, 'gender_1': 2, 'premaritalsex_': 1, 'euthanasia_': 3, 'deathpen_': 1, 'gaymarriage_': 1, 'marijuana_': 2, 'political_': 2, 'abortion_': 1, 'homosexual_': 1}, 36006: {'age_1': 1, 'hometown_1': 2, 'ethnicity_1': 1, 'gender_1': 1, 'premaritalsex_': 1, 'euthanasia_': 1, 'deathpen_': 1, 'gaymarriage_': 2, 'marijuana_': 1, 'political_': 1, 'abortion_': 1, 'homosexual_': 1}, 57637: {'age_1': 2, 'hometown_1': 1, 'ethnicity_1': 1, 'gender_1': 1, 'premaritalsex_': 3, 'euthanasia_': 2, 'deathpen_': 1, 'gaymarriage_': 3, 'marijuana_': 3, 'political_': 1, 'abortion_': 1, 'homosexual_': 3}, 71627: {'age_1': 2, 'hometown_1': 2, 'ethnicity_1': 1, 'gender_1': 2, 'premaritalsex_': 1, 'euthanasia_': 1, 'deathpen_': 1, 'gaymarriage_': 1, 'marijuana_': 3, 'political_': 1, 'abortion_': 1, 'homosexual_': 2}, 75261: {'age_1': 1, 'hometown_1': 1, 'ethnicity_1': 3, 'gender_1': 2, 'premaritalsex_': 3, 'euthanasia_': 3, 'deathpen_': 3, 'gaymarriage_': 3, 'marijuana_': 3, 'political_': 3, 'abortion_': 1, 'homosexual_': 3}, 19844: {'age_1': 2, 'hometown_1': 1, 'ethnicity_1': 1, 'gender_1': 1, 'premaritalsex_': 2, 'euthanasia_': 3, 'deathpen_': 1, 'gaymarriage_': 1, 'marijuana_': 2, 'political_': 1, 'abortion_': 1, 'homosexual_': 2}, 25323: {'age_1': 1, 'hometown_1': 1, 'ethnicity_1': 1, 'gender_1': 2, 'premaritalsex_': 3, 'euthanasia_': 2, 'deathpen_': 2, 'gaymarriage_': 1, 'marijuana_': 2, 'political_': 1, 'abortion_': 1, 'homosexual_': 1}, 40997: {'age_1': 1, 'hometown_1': 1, 'ethnicity_1': 4, 'gender_1': 1, 'premaritalsex_': 1, 'euthanasia_': 3, 'deathpen_': 3, 'gaymarriage_': 1, 'marijuana_': 3, 'political_': 1, 'abortion_': 1, 'homosexual_': 1}, 52635: {'age_1': 2, 'hometown_1': 1, 'ethnicity_1': 4, 'gender_1': 1, 'premaritalsex_': 2, 'euthanasia_': 3, 'deathpen_': 2, 'gaymarriage_': 3, 'marijuana_': 3, 'political_': 3, 'abortion_': 3, 'homosexual_': 3}, 45945: {'age_1': 1, 'hometown_1': 1, 'ethnicity_1': 1, 'gender_1': 1, 'premaritalsex_': 3, 'euthanasia_': 3, 'deathpen_': 1, 'gaymarriage_': 3, 'marijuana_': 3, 'political_': 1, 'abortion_': 1, 'homosexual_': 1}, 72746: {'age_1': 1, 'hometown_1': 3, 'ethnicity_1': 1, 'gender_1': 1, 'premaritalsex_': 3, 'euthanasia_': 3, 'deathpen_': 3, 'gaymarriage_': 3, 'marijuana_': 3, 'political_': 1, 'abortion_': 3, 'homosexual_': 3}, 15071: {'age_1': 2, 'hometown_1': 2, 'ethnicity_1': 1, 'gender_1': 1, 'premaritalsex_': 3, 'euthanasia_': 3, 'deathpen_': 1, 'gaymarriage_': 3, 'marijuana_': 3, 'political_': 3, 'abortion_': 3, 'homosexual_': 3}, 46771: {'age_1': 1, 'hometown_1': 1, 'ethnicity_1': 1, 'gender_1': 1, 'premaritalsex_': 3, 'euthanasia_': 3, 'deathpen_': 1, 'gaymarriage_': 3, 'marijuana_': 3, 'political_': 1, 'abortion_': 1, 'homosexual_': 3}, 29914: {'age_1': 1, 'hometown_1': 2, 'ethnicity_1': 1, 'gender_1': 1, 'premaritalsex_': 3, 'euthanasia_': 3, 'deathpen_': 1, 'gaymarriage_': 3, 'marijuana_': 3, 'political_': 3, 'abortion_': 3, 'homosexual_': 3}, 52067: {'age_1': 1, 'hometown_1': 3, 'ethnicity_1': 1, 'gender_1': 1, 'premaritalsex_': 3, 'euthanasia_': 2, 'deathpen_': 3, 'gaymarriage_': 3, 'marijuana_': 3, 'political_': 2, 'abortion_': 2, 'homosexual_': 3}, 37617: {'age_1': 1, 'hometown_1': 1, 'ethnicity_1': 1, 'gender_1': 2, 'premaritalsex_': 1, 'euthanasia_': 1, 'deathpen_': 1, 'gaymarriage_': 1, 'marijuana_': 2, 'political_': 1, 'abortion_': 1, 'homosexual_': 1}, 30076: {'age_1': 1, 'hometown_1': 2, 'ethnicity_1': 1, 'gender_1': 1, 'premaritalsex_': 1, 'euthanasia_': 3, 'deathpen_': 1, 'gaymarriage_': 2, 'marijuana_': 1, 'political_': 2, 'abortion_': 1, 'homosexual_': 1}, 71700: {'age_1': 2, 'hometown_1': 1, 'ethnicity_1': 3, 'gender_1': 2, 'premaritalsex_': 1, 'euthanasia_': 1, 'deathpen_': 2, 'gaymarriage_': 1, 'marijuana_': 2, 'political_': 1, 'abortion_': 1, 'homosexual_': 1}, 19066: {'age_1': 1, 'hometown_1': 1, 'ethnicity_1': 1, 'gender_1': 2, 'premaritalsex_': 2, 'euthanasia_': 1, 'deathpen_': 2, 'gaymarriage_': 3, 'marijuana_': 1, 'political_': 1, 'abortion_': 1, 'homosexual_': 1}, 51675: {'age_1': 1, 'hometown_1': 1, 'ethnicity_1': 1, 'gender_1': 2, 'premaritalsex_': 1, 'euthanasia_': 1, 'deathpen_': 1, 'gaymarriage_': 1, 'marijuana_': 2, 'political_': 2, 'abortion_': 1, 'homosexual_': 1}, 63188: {'age_1': 1, 'hometown_1': 1, 'ethnicity_1': 4, 'gender_1': 1, 'premaritalsex_': 1, 'euthanasia_': 1, 'deathpen_': 1, 'gaymarriage_': 1, 'marijuana_': 1, 'political_': 3, 'abortion_': 1, 'homosexual_': 1}, 79877: {'age_1': 1, 'hometown_1': 2, 'ethnicity_1': 4, 'gender_1': 1, 'premaritalsex_': 3, 'euthanasia_': 3, 'deathpen_': 1, 'gaymarriage_': 3, 'marijuana_': 3, 'political_': 3, 'abortion_': 3, 'homosexual_': 3}, 14106: {'age_1': 2, 'hometown_1': 3, 'ethnicity_1': 1, 'gender_1': 1, 'premaritalsex_': 3, 'euthanasia_': 3, 'deathpen_': 2, 'gaymarriage_': 3, 'marijuana_': 1, 'political_': 1, 'abortion_': 3, 'homosexual_': 3}, 76313: {'age_1': 2, 'hometown_1': 2, 'ethnicity_1': 1, 'gender_1': 1, 'premaritalsex_': 3, 'euthanasia_': 3, 'deathpen_': 2, 'gaymarriage_': 3, 'marijuana_': 3, 'political_': 3, 'abortion_': 1, 'homosexual_': 3}, 82282: {'age_1': 1, 'hometown_1': 1, 'ethnicity_1': 3, 'gender_1': 2, 'premaritalsex_': 1, 'euthanasia_': 3, 'deathpen_': 1, 'gaymarriage_': 3, 'marijuana_': 1, 'political_': 2, 'abortion_': 1, 'homosexual_': 3}, 85596: {'age_1': 1, 'hometown_1': 1, 'ethnicity_1': 1, 'gender_1': 2, 'premaritalsex_': 1, 'euthanasia_': 1, 'deathpen_': 1, 'gaymarriage_': 1, 'marijuana_': 1, 'political_': 1, 'abortion_': 1, 'homosexual_': 1}, 10060: {'age_1': 1, 'hometown_1': 2, 'ethnicity_1': 1, 'gender_1': 2, 'premaritalsex_': 1, 'euthanasia_': 3, 'deathpen_': 1, 'gaymarriage_': 3, 'marijuana_': 1, 'political_': 1, 'abortion_': 3, 'homosexual_': 3}, 75468: {'age_1': 1, 'hometown_1': 1, 'ethnicity_1': 1, 'gender_1': 1, 'premaritalsex_': 3, 'euthanasia_': 3, 'deathpen_': 1, 'gaymarriage_': 2, 'marijuana_': 3, 'political_': 2, 'abortion_': 3, 'homosexual_': 3}, 46021: {'age_1': 2, 'hometown_1': 1, 'ethnicity_1': 1, 'gender_1': 1, 'premaritalsex_': 3, 'euthanasia_': 3, 'deathpen_': 3, 'gaymarriage_': 3, 'marijuana_': 3, 'political_': 2, 'abortion_': 3, 'homosexual_': 3}, 23642: {'age_1': 1, 'hometown_1': 1, 'ethnicity_1': 1, 'gender_1': 2, 'premaritalsex_': 1, 'euthanasia_': 1, 'deathpen_': 3, 'gaymarriage_': 1, 'marijuana_': 1, 'political_': 1, 'abortion_': 1, 'homosexual_': 1}, 50869: {'age_1': 1, 'hometown_1': 2, 'ethnicity_1': 1, 'gender_1': 1, 'premaritalsex_': 1, 'euthanasia_': 3, 'deathpen_': 1, 'gaymarriage_': 1, 'marijuana_': 1, 'political_': 1, 'abortion_': 1, 'homosexual_': 1}, 68633: {'age_1': 1, 'hometown_1': 1, 'ethnicity_1': 4, 'gender_1': 2, 'premaritalsex_': 3, 'euthanasia_': 2, 'deathpen_': 1, 'gaymarriage_': 2, 'marijuana_': 1, 'political_': 2, 'abortion_': 1, 'homosexual_': 1}, 18420: {'age_1': 1, 'hometown_1': 1, 'ethnicity_1': 2, 'gender_1': 1, 'premaritalsex_': 2, 'euthanasia_': 1, 'deathpen_': 1, 'gaymarriage_': 3, 'marijuana_': 1, 'political_': 3, 'abortion_': 3, 'homosexual_': 3}, 68494: {'age_1': 1, 'hometown_1': 1, 'ethnicity_1': 4, 'gender_1': 2, 'premaritalsex_': 1, 'euthanasia_': 1, 'deathpen_': 1, 'gaymarriage_': 1, 'marijuana_': 1, 'political_': 1, 'abortion_': 1, 'homosexual_': 1}, 39783: {'age_1': 1, 'hometown_1': 2, 'ethnicity_1': 3, 'gender_1': 2, 'premaritalsex_': 1, 'euthanasia_': 2, 'deathpen_': 3, 'gaymarriage_': 1, 'marijuana_': 1, 'political_': 1, 'abortion_': 1, 'homosexual_': 1}, 21350: {'age_1': 1, 'hometown_1': 1, 'ethnicity_1': 1, 'gender_1': 2, 'premaritalsex_': 3, 'euthanasia_': 3, 'deathpen_': 2, 'gaymarriage_': 3, 'marijuana_': 3, 'political_': 3, 'abortion_': 3, 'homosexual_': 3}, 66404: {'age_1': 2, 'hometown_1': 2, 'ethnicity_1': 1, 'gender_1': 1, 'premaritalsex_': 3, 'euthanasia_': 3, 'deathpen_': 1, 'gaymarriage_': 1, 'marijuana_': 1, 'political_': 1, 'abortion_': 1, 'homosexual_': 1}, 85970: {'age_1': 1, 'hometown_1': 2, 'ethnicity_1': 1, 'gender_1': 2, 'premaritalsex_': 3, 'euthanasia_': 3, 'deathpen_': 1, 'gaymarriage_': 3, 'marijuana_': 1, 'political_': 1, 'abortion_': 1, 'homosexual_': 3}, 59367: {'age_1': 2, 'hometown_1': 2, 'ethnicity_1': 1, 'gender_1': 2, 'premaritalsex_': 3, 'euthanasia_': 3, 'deathpen_': 2, 'gaymarriage_': 3, 'marijuana_': 1, 'political_': 3, 'abortion_': 3, 'homosexual_': 3}, 13799: {'age_1': 2, 'hometown_1': 1, 'ethnicity_1': 1, 'gender_1': 2, 'premaritalsex_': 1, 'euthanasia_': 1, 'deathpen_': 1, 'gaymarriage_': 1, 'marijuana_': 1, 'political_': 1, 'abortion_': 1, 'homosexual_': 1}, 62560: {'age_1': 1, 'hometown_1': 1, 'ethnicity_1': 1, 'gender_1': 2, 'premaritalsex_': 3, 'euthanasia_': 3, 'deathpen_': 1, 'gaymarriage_': 3, 'marijuana_': 1, 'political_': 1, 'abortion_': 2, 'homosexual_': 3}, 16495: {'age_1': 2, 'hometown_1': 1, 'ethnicity_1': 1, 'gender_1': 2, 'premaritalsex_': 3, 'euthanasia_': 2, 'deathpen_': 2, 'gaymarriage_': 3, 'marijuana_': 3, 'political_': 3, 'abortion_': 3, 'homosexual_': 3}, 34853: {'age_1': 2, 'hometown_1': 1, 'ethnicity_1': 1, 'gender_1': 1, 'premaritalsex_': 3, 'euthanasia_': 3, 'deathpen_': 3, 'gaymarriage_': 3, 'marijuana_': 1, 'political_': 1, 'abortion_': 3, 'homosexual_': 3}, 67947: {'age_1': 2, 'hometown_1': 1, 'ethnicity_1': 2, 'gender_1': 1, 'premaritalsex_': 1, 'euthanasia_': 1, 'deathpen_': 1, 'gaymarriage_': 3, 'marijuana_': 1, 'political_': 1, 'abortion_': 1, 'homosexual_': 1}, 50709: {'age_1': 1, 'hometown_1': 1, 'ethnicity_1': 1, 'gender_1': 2, 'premaritalsex_': 3, 'euthanasia_': 2, 'deathpen_': 2, 'gaymarriage_': 3, 'marijuana_': 1, 'political_': 3, 'abortion_': 3, 'homosexual_': 3}, 70889: {'age_1': 1, 'hometown_1': 1, 'ethnicity_1': 1, 'gender_1': 2, 'premaritalsex_': 3, 'euthanasia_': 1, 'deathpen_': 3, 'gaymarriage_': 3, 'marijuana_': 1, 'political_': 3, 'abortion_': 3, 'homosexual_': 3}, 86727: {'age_1': 1, 'hometown_1': 1, 'ethnicity_1': 1, 'gender_1': 1, 'premaritalsex_': 1, 'euthanasia_': 2, 'deathpen_': 1, 'gaymarriage_': 1, 'marijuana_': 1, 'political_': 1, 'abortion_': 1, 'homosexual_': 1}, 45539: {'age_1': 2, 'hometown_1': 3, 'ethnicity_1': 1, 'gender_1': 1, 'premaritalsex_': 1, 'euthanasia_': 2, 'deathpen_': 1, 'gaymarriage_': 1, 'marijuana_': 1, 'political_': 1, 'abortion_': 1, 'homosexual_': 1}, 14188: {'age_1': 1, 'hometown_1': 3, 'ethnicity_1': 1, 'gender_1': 2, 'premaritalsex_': 3, 'euthanasia_': 3, 'deathpen_': 2, 'gaymarriage_': 3, 'marijuana_': 1, 'political_': 3, 'abortion_': 3, 'homosexual_': 3}, 89827: {'age_1': 2, 'hometown_1': 1, 'ethnicity_1': 1, 'gender_1': 1, 'premaritalsex_': 3, 'euthanasia_': 3, 'deathpen_': 2, 'gaymarriage_': 3, 'marijuana_': 2, 'political_': 3, 'abortion_': 3, 'homosexual_': 3}, 11692: {'age_1': 1, 'hometown_1': 1, 'ethnicity_1': 1, 'gender_1': 1, 'premaritalsex_': 3, 'euthanasia_': 3, 'deathpen_': 1, 'gaymarriage_': 1, 'marijuana_': 3, 'political_': 3, 'abortion_': 1, 'homosexual_': 1}, 82060: {'age_1': 2, 'hometown_1': 1, 'ethnicity_1': 4, 'gender_1': 1, 'premaritalsex_': 1, 'euthanasia_': 1, 'deathpen_': 1, 'gaymarriage_': 2, 'marijuana_': 1, 'political_': 1, 'abortion_': 1, 'homosexual_': 1}, 66754: {'age_1': 2, 'hometown_1': 2, 'ethnicity_1': 1, 'gender_1': 1, 'premaritalsex_': 3, 'euthanasia_': 2, 'deathpen_': 1, 'gaymarriage_': 2, 'marijuana_': 3, 'political_': 2, 'abortion_': 3, 'homosexual_': 2}, 66245: {'age_1': 1, 'hometown_1': 2, 'ethnicity_1': 3, 'gender_1': 2, 'premaritalsex_': 3, 'euthanasia_': 1, 'deathpen_': 1, 'gaymarriage_': 3, 'marijuana_': 1, 'political_': 3, 'abortion_': 1, 'homosexual_': 3}, 46654: {'age_1': 1, 'hometown_1': 1, 'ethnicity_1': 3, 'gender_1': 2, 'premaritalsex_': 3, 'euthanasia_': 1, 'deathpen_': 1, 'gaymarriage_': 1, 'marijuana_': 1, 'political_': 3, 'abortion_': 1, 'homosexual_': 1}, 32174: {'age_1': 1, 'hometown_1': 1, 'ethnicity_1': 1, 'gender_1': 1, 'premaritalsex_': 3, 'euthanasia_': 2, 'deathpen_': 1, 'gaymarriage_': 3, 'marijuana_': 3, 'political_': 3, 'abortion_': 1, 'homosexual_': 3}, 58909: {'age_1': 1, 'hometown_1': 1, 'ethnicity_1': 1, 'gender_1': 2, 'premaritalsex_': 3, 'euthanasia_': 3, 'deathpen_': 1, 'gaymarriage_': 3, 'marijuana_': 2, 'political_': 2, 'abortion_': 1, 'homosexual_': 3}, 25947: {'age_1': 1, 'hometown_1': 2, 'ethnicity_1': 1, 'gender_1': 1, 'premaritalsex_': 3, 'euthanasia_': 2, 'deathpen_': 1, 'gaymarriage_': 3, 'marijuana_': 1, 'political_': 1, 'abortion_': 1, 'homosexual_': 3}, 34250: {'age_1': 1, 'hometown_1': 2, 'ethnicity_1': 1, 'gender_1': 1, 'premaritalsex_': 3, 'euthanasia_': 3, 'deathpen_': 2, 'gaymarriage_': 2, 'marijuana_': 1, 'political_': 1, 'abortion_': 1, 'homosexual_': 1}, 18344: {'age_1': 1, 'hometown_1': 2, 'ethnicity_1': 4, 'gender_1': 2, 'premaritalsex_': 3, 'euthanasia_': 2, 'deathpen_': 2, 'gaymarriage_': 2, 'marijuana_': 2, 'political_': 2, 'abortion_': 2, 'homosexual_': 2}, 38823: {'age_1': 2, 'hometown_1': 2, 'ethnicity_1': 1, 'gender_1': 1, 'premaritalsex_': 3, 'euthanasia_': 1, 'deathpen_': 3, 'gaymarriage_': 1, 'marijuana_': 1, 'political_': 1, 'abortion_': 1, 'homosexual_': 1}, 22745: {'age_1': 2, 'hometown_1': 1, 'ethnicity_1': 4, 'gender_1': 2, 'premaritalsex_': 3, 'euthanasia_': 3, 'deathpen_': 1, 'gaymarriage_': 3, 'marijuana_': 3, 'political_': 3, 'abortion_': 3, 'homosexual_': 3}, 26127: {'age_1': 1, 'hometown_1': 1, 'ethnicity_1': 3, 'gender_1': 2, 'premaritalsex_': 1, 'euthanasia_': 2, 'deathpen_': 1, 'gaymarriage_': 1, 'marijuana_': 2, 'political_': 1, 'abortion_': 1, 'homosexual_': 1}, 38893: {'age_1': 2, 'hometown_1': 2, 'ethnicity_1': 1, 'gender_1': 2, 'premaritalsex_': 3, 'euthanasia_': 2, 'deathpen_': 3, 'gaymarriage_': 2, 'marijuana_': 1, 'political_': 1, 'abortion_': 1, 'homosexual_': 3}, 31372: {'age_1': 1, 'hometown_1': 1, 'ethnicity_1': 1, 'gender_1': 1, 'premaritalsex_': 3, 'euthanasia_': 3, 'deathpen_': 3, 'gaymarriage_': 2, 'marijuana_': 1, 'political_': 1, 'abortion_': 3, 'homosexual_': 3}, 68533: {'age_1': 1, 'hometown_1': 1, 'ethnicity_1': 1, 'gender_1': 1, 'premaritalsex_': 3, 'euthanasia_': 3, 'deathpen_': 2, 'gaymarriage_': 1, 'marijuana_': 1, 'political_': 1, 'abortion_': 1, 'homosexual_': 1}, 31583: {'age_1': 1, 'hometown_1': 2, 'ethnicity_1': 1, 'gender_1': 2, 'premaritalsex_': 3, 'euthanasia_': 1, 'deathpen_': 1, 'gaymarriage_': 1, 'marijuana_': 1, 'political_': 1, 'abortion_': 1, 'homosexual_': 3}, 49597: {'age_1': 1, 'hometown_1': 1, 'ethnicity_1': 4, 'gender_1': 1, 'premaritalsex_': 3, 'euthanasia_': 3, 'deathpen_': 3, 'gaymarriage_': 3, 'marijuana_': 1, 'political_': 3, 'abortion_': 3, 'homosexual_': 3}, 73303: {'age_1': 1, 'hometown_1': 1, 'ethnicity_1': 1, 'gender_1': 1, 'premaritalsex_': 3, 'euthanasia_': 2, 'deathpen_': 2, 'gaymarriage_': 3, 'marijuana_': 3, 'political_': 2, 'abortion_': 2, 'homosexual_': 3}, 46160: {'age_1': 1, 'hometown_1': 1, 'ethnicity_1': 1, 'gender_1': 2, 'premaritalsex_': 1, 'euthanasia_': 1, 'deathpen_': 1, 'gaymarriage_': 3, 'marijuana_': 1, 'political_': 1, 'abortion_': 1, 'homosexual_': 1}, 25544: {'age_1': 1, 'hometown_1': 1, 'ethnicity_1': 2, 'gender_1': 2, 'premaritalsex_': 1, 'euthanasia_': 3, 'deathpen_': 2, 'gaymarriage_': 3, 'marijuana_': 1, 'political_': 1, 'abortion_': 1, 'homosexual_': 1}, 51597: {'age_1': 1, 'hometown_1': 2, 'ethnicity_1': 1, 'gender_1': 1, 'premaritalsex_': 1, 'euthanasia_': 3, 'deathpen_': 2, 'gaymarriage_': 1, 'marijuana_': 1, 'political_': 1, 'abortion_': 1, 'homosexual_': 1}, 49294: {'age_1': 1, 'hometown_1': 2, 'ethnicity_1': 1, 'gender_1': 1, 'premaritalsex_': 1, 'euthanasia_': 2, 'deathpen_': 1, 'gaymarriage_': 1, 'marijuana_': 1, 'political_': 1, 'abortion_': 1, 'homosexual_': 1}, 51722: {'age_1': 1, 'hometown_1': 1, 'ethnicity_1': 1, 'gender_1': 2, 'premaritalsex_': 2, 'euthanasia_': 2, 'deathpen_': 2, 'gaymarriage_': 3, 'marijuana_': 2, 'political_': 2, 'abortion_': 1, 'homosexual_': 3}, 66052: {'age_1': 1, 'hometown_1': 1, 'ethnicity_1': 2, 'gender_1': 2, 'premaritalsex_': 3, 'euthanasia_': 3, 'deathpen_': 3, 'gaymarriage_': 2, 'marijuana_': 2, 'political_': 3, 'abortion_': 3, 'homosexual_': 3}, 53884: {'age_1': 1, 'hometown_1': 2, 'ethnicity_1': 1, 'gender_1': 1, 'premaritalsex_': 1, 'euthanasia_': 1, 'deathpen_': 1, 'gaymarriage_': 1, 'marijuana_': 1, 'political_': 1, 'abortion_': 1, 'homosexual_': 1}, 51552: {'age_1': 1, 'hometown_1': 1, 'ethnicity_1': 1, 'gender_1': 1, 'premaritalsex_': 3, 'euthanasia_': 3, 'deathpen_': 1, 'gaymarriage_': 1, 'marijuana_': 1, 'political_': 1, 'abortion_': 3, 'homosexual_': 3}, 80058: {'age_1': 1, 'hometown_1': 2, 'ethnicity_1': 1, 'gender_1': 1, 'premaritalsex_': 3, 'euthanasia_': 3, 'deathpen_': 1, 'gaymarriage_': 3, 'marijuana_': 2, 'political_': 3, 'abortion_': 1, 'homosexual_': 3}, 10281: {'age_1': 1, 'hometown_1': 1, 'ethnicity_1': 4, 'gender_1': 1, 'premaritalsex_': 3, 'euthanasia_': 1, 'deathpen_': 3, 'gaymarriage_': 1, 'marijuana_': 1, 'political_': 1, 'abortion_': 1, 'homosexual_': 1}, 45292: {'age_1': 1, 'hometown_1': 1, 'ethnicity_1': 1, 'gender_1': 2, 'premaritalsex_': 3, 'euthanasia_': 1, 'deathpen_': 2, 'gaymarriage_': 3, 'marijuana_': 3, 'political_': 3, 'abortion_': 3, 'homosexual_': 3}, 32899: {'age_1': 2, 'hometown_1': 1, 'ethnicity_1': 2, 'gender_1': 1, 'premaritalsex_': 1, 'euthanasia_': 1, 'deathpen_': 1, 'gaymarriage_': 2, 'marijuana_': 1, 'political_': 2, 'abortion_': 1, 'homosexual_': 2}, 26425: {'age_1': 1, 'hometown_1': 1, 'ethnicity_1': 1, 'gender_1': 1, 'premaritalsex_': 1, 'euthanasia_': 1, 'deathpen_': 1, 'gaymarriage_': 1, 'marijuana_': 2, 'political_': 1, 'abortion_': 1, 'homosexual_': 1}, 78911: {'age_1': 1, 'hometown_1': 2, 'ethnicity_1': 1, 'gender_1': 2, 'premaritalsex_': 3, 'euthanasia_': 3, 'deathpen_': 3, 'gaymarriage_': 3, 'marijuana_': 2, 'political_': 1, 'abortion_': 1, 'homosexual_': 3}, 23144: {'age_1': 1, 'hometown_1': 2, 'ethnicity_1': 1, 'gender_1': 1, 'premaritalsex_': 3, 'euthanasia_': 3, 'deathpen_': 3, 'gaymarriage_': 1, 'marijuana_': 1, 'political_': 1, 'abortion_': 1, 'homosexual_': 1}, 44520: {'age_1': 1, 'hometown_1': 1, 'ethnicity_1': 2, 'gender_1': 2, 'premaritalsex_': 3, 'euthanasia_': 3, 'deathpen_': 3, 'gaymarriage_': 1, 'marijuana_': 3, 'political_': 3, 'abortion_': 3, 'homosexual_': 3}, 50181: {'age_1': 2, 'hometown_1': 1, 'ethnicity_1': 4, 'gender_1': 1, 'premaritalsex_': 3, 'euthanasia_': 2, 'deathpen_': 2, 'gaymarriage_': 1, 'marijuana_': 1, 'political_': 2, 'abortion_': 1, 'homosexual_': 1}, 88175: {'age_1': 2, 'hometown_1': 3, 'ethnicity_1': 1, 'gender_1': 2, 'premaritalsex_': 1, 'euthanasia_': 2, 'deathpen_': 1, 'gaymarriage_': 2, 'marijuana_': 1, 'political_': 1, 'abortion_': 1, 'homosexual_': 1}, 63063: {'age_1': 2, 'hometown_1': 1, 'ethnicity_1': 1, 'gender_1': 1, 'premaritalsex_': 3, 'euthanasia_': 3, 'deathpen_': 1, 'gaymarriage_': 3, 'marijuana_': 3, 'political_': 2, 'abortion_': 3, 'homosexual_': 3}})"
      ]
     },
     "execution_count": 5,
     "metadata": {},
     "output_type": "execute_result"
    }
   ],
   "source": [
    "data[1].nodes.data()"
   ]
  },
  {
   "cell_type": "code",
   "execution_count": 3,
   "id": "existing-keyboard",
   "metadata": {},
   "outputs": [
    {
     "data": {
      "text/plain": [
       "{'age_1': {1, 2},\n",
       " 'political_': {1, 2, 3},\n",
       " 'hometown_1': {1, 2, 3},\n",
       " 'abortion_': {1, 2, 3},\n",
       " 'euthanasia_': {1, 2, 3},\n",
       " 'ethnicity_1': {1, 2, 3, 4},\n",
       " 'homosexual_': {1, 2, 3},\n",
       " 'gaymarriage_': {1, 2, 3},\n",
       " 'premaritalsex_': {1, 2, 3},\n",
       " 'marijuana_': {1, 2, 3},\n",
       " 'deathpen_': {1, 2, 3},\n",
       " 'gender_1': {1, 2}}"
      ]
     },
     "execution_count": 3,
     "metadata": {},
     "output_type": "execute_result"
    }
   ],
   "source": [
    "#creating list of attributes\n",
    "list_of_attributes = set([k for n in data[1].nodes for k in data[1].nodes[n].keys()])\n",
    "\n",
    "#creating possible attribute values\n",
    "attribute_values = dict((attribute, set() ) for attribute in list_of_attributes)\n",
    "\n",
    "for sem in range(1,7):\n",
    "    for node in data[sem].nodes():\n",
    "        for attribute in list_of_attributes:\n",
    "            attribute_values[attribute].add(data[sem].nodes[node][attribute])\n",
    "\n",
    "attribute_values\n",
    "\n",
    "#To apply PCA or other analysis on all attributes (i.e. including ethnicity) \n",
    "#one would have to create an attribute for each race, that is is_1, is_2 etc. \n",
    "#Because this attribute is not ordered. "
   ]
  },
  {
   "cell_type": "code",
   "execution_count": 4,
   "id": "functioning-valuable",
   "metadata": {},
   "outputs": [],
   "source": [
    "#creating table of attribute values\n",
    "attributes = dict((i, 0) for i in range(1,7))\n",
    "for i in range(1,7):\n",
    "    attributes[i] = np.zeros([len(data[i].nodes), len(list_of_attributes)])\n",
    "\n",
    "for sem in range(1,7):\n",
    "    for i, node in enumerate(data[sem].nodes()):\n",
    "        for j, attribute in enumerate(list_of_attributes):\n",
    "            attributes[sem][i,j] = data[sem].nodes[node][attribute]"
   ]
  },
  {
   "cell_type": "code",
   "execution_count": 5,
   "id": "magnetic-leeds",
   "metadata": {},
   "outputs": [
    {
     "data": {
      "text/plain": [
       "{1: array([[1., 1., 1., ..., 2., 3., 2.],\n",
       "        [1., 1., 1., ..., 3., 2., 2.],\n",
       "        [1., 3., 1., ..., 3., 3., 1.],\n",
       "        ...,\n",
       "        [2., 2., 1., ..., 1., 2., 1.],\n",
       "        [2., 1., 3., ..., 1., 1., 2.],\n",
       "        [2., 2., 1., ..., 3., 1., 1.]]),\n",
       " 2: array([[2., 1., 3., ..., 1., 1., 1.],\n",
       "        [2., 1., 1., ..., 1., 1., 2.],\n",
       "        [1., 1., 1., ..., 1., 2., 2.],\n",
       "        ...,\n",
       "        [1., 1., 1., ..., 1., 2., 2.],\n",
       "        [1., 1., 2., ..., 1., 3., 1.],\n",
       "        [1., 3., 1., ..., 1., 1., 2.]]),\n",
       " 3: array([[1., 2., 2., 3., 3., 1., 3., 3., 3., 1., 1., 2.],\n",
       "        [1., 1., 1., 1., 1., 1., 1., 1., 1., 1., 1., 2.],\n",
       "        [2., 2., 2., 1., 1., 1., 1., 2., 1., 3., 1., 2.],\n",
       "        [1., 3., 1., 1., 3., 3., 3., 3., 3., 3., 3., 2.],\n",
       "        [2., 1., 1., 3., 3., 1., 3., 3., 3., 2., 1., 1.],\n",
       "        [1., 2., 1., 3., 3., 2., 1., 3., 1., 1., 1., 2.],\n",
       "        [1., 1., 2., 1., 2., 1., 3., 3., 3., 2., 1., 1.],\n",
       "        [2., 3., 2., 3., 2., 1., 3., 3., 3., 1., 1., 2.],\n",
       "        [1., 1., 1., 1., 1., 1., 3., 1., 1., 1., 1., 1.],\n",
       "        [2., 1., 1., 1., 1., 1., 1., 1., 1., 1., 1., 2.],\n",
       "        [1., 1., 1., 2., 3., 1., 2., 3., 3., 1., 2., 2.],\n",
       "        [1., 1., 2., 1., 1., 1., 3., 1., 3., 1., 1., 2.],\n",
       "        [1., 1., 1., 1., 2., 1., 1., 1., 1., 1., 3., 2.],\n",
       "        [1., 1., 1., 1., 1., 1., 1., 3., 1., 3., 1., 2.],\n",
       "        [1., 1., 1., 1., 3., 4., 1., 2., 3., 3., 3., 1.],\n",
       "        [1., 3., 1., 3., 3., 4., 3., 3., 3., 3., 1., 1.],\n",
       "        [1., 2., 1., 1., 2., 1., 3., 3., 3., 3., 1., 2.],\n",
       "        [1., 3., 2., 3., 3., 1., 3., 3., 3., 3., 1., 1.],\n",
       "        [1., 1., 1., 1., 1., 1., 2., 2., 1., 3., 1., 1.],\n",
       "        [1., 3., 2., 3., 3., 4., 3., 3., 3., 2., 1., 1.],\n",
       "        [1., 3., 1., 1., 2., 4., 3., 3., 1., 1., 1., 1.],\n",
       "        [1., 1., 1., 1., 1., 1., 3., 1., 1., 1., 1., 2.],\n",
       "        [2., 3., 1., 2., 3., 1., 3., 3., 3., 3., 2., 2.],\n",
       "        [1., 1., 1., 1., 1., 4., 2., 2., 1., 1., 1., 2.],\n",
       "        [2., 3., 1., 3., 3., 2., 3., 3., 3., 2., 1., 1.],\n",
       "        [2., 2., 1., 1., 2., 4., 2., 2., 3., 3., 1., 1.],\n",
       "        [2., 3., 1., 1., 2., 1., 3., 3., 3., 2., 1., 1.],\n",
       "        [1., 1., 1., 1., 2., 1., 2., 2., 1., 2., 2., 2.],\n",
       "        [1., 2., 2., 1., 1., 1., 3., 3., 3., 2., 1., 2.],\n",
       "        [2., 3., 2., 3., 2., 1., 3., 3., 3., 3., 1., 1.],\n",
       "        [2., 3., 1., 3., 2., 1., 3., 3., 3., 3., 2., 1.],\n",
       "        [2., 2., 2., 2., 3., 1., 3., 2., 2., 3., 2., 1.],\n",
       "        [2., 2., 1., 1., 1., 1., 3., 3., 3., 3., 1., 1.],\n",
       "        [2., 2., 1., 1., 2., 3., 1., 1., 1., 3., 2., 1.],\n",
       "        [1., 1., 2., 1., 3., 1., 2., 3., 2., 1., 3., 2.],\n",
       "        [2., 1., 2., 1., 1., 1., 3., 2., 3., 1., 3., 2.],\n",
       "        [1., 1., 1., 1., 1., 3., 2., 1., 1., 1., 1., 2.],\n",
       "        [1., 1., 1., 1., 1., 1., 1., 3., 3., 3., 1., 1.],\n",
       "        [1., 1., 3., 3., 3., 1., 3., 3., 3., 3., 3., 1.],\n",
       "        [1., 1., 1., 3., 3., 2., 3., 3., 3., 1., 3., 2.],\n",
       "        [1., 1., 1., 1., 1., 2., 2., 1., 1., 1., 2., 2.],\n",
       "        [1., 1., 2., 1., 3., 1., 1., 1., 3., 1., 3., 1.],\n",
       "        [2., 3., 1., 2., 3., 4., 3., 3., 2., 2., 2., 1.],\n",
       "        [1., 3., 2., 2., 1., 1., 1., 3., 1., 1., 1., 1.],\n",
       "        [1., 3., 1., 1., 3., 1., 3., 3., 3., 1., 1., 1.],\n",
       "        [1., 2., 1., 1., 1., 4., 1., 1., 1., 1., 1., 2.],\n",
       "        [1., 2., 1., 3., 1., 2., 3., 3., 3., 1., 1., 1.],\n",
       "        [1., 2., 2., 2., 2., 4., 2., 2., 2., 2., 2., 2.],\n",
       "        [2., 1., 3., 1., 3., 1., 1., 1., 1., 1., 1., 1.],\n",
       "        [1., 3., 1., 3., 3., 3., 3., 3., 3., 3., 1., 2.],\n",
       "        [1., 1., 1., 3., 3., 1., 3., 1., 3., 3., 1., 1.],\n",
       "        [1., 2., 1., 1., 1., 1., 3., 3., 3., 1., 1., 2.],\n",
       "        [1., 3., 3., 3., 3., 1., 3., 3., 3., 1., 1., 2.],\n",
       "        [1., 1., 2., 1., 3., 1., 1., 1., 1., 1., 3., 1.],\n",
       "        [1., 1., 2., 1., 2., 1., 1., 2., 1., 2., 1., 1.],\n",
       "        [2., 1., 2., 1., 1., 1., 1., 1., 1., 1., 3., 1.],\n",
       "        [2., 2., 1., 1., 3., 1., 3., 3., 3., 3., 1., 1.],\n",
       "        [2., 1., 1., 1., 2., 4., 2., 2., 1., 2., 1., 1.],\n",
       "        [1., 2., 1., 1., 2., 1., 1., 1., 1., 1., 1., 1.],\n",
       "        [2., 1., 1., 1., 3., 2., 1., 2., 3., 1., 1., 1.],\n",
       "        [1., 3., 2., 3., 3., 1., 3., 3., 3., 2., 1., 1.],\n",
       "        [1., 1., 2., 1., 3., 1., 1., 1., 1., 1., 1., 1.],\n",
       "        [1., 1., 1., 1., 2., 1., 3., 3., 3., 2., 1., 2.],\n",
       "        [1., 2., 2., 1., 1., 1., 3., 3., 3., 3., 1., 1.],\n",
       "        [2., 1., 2., 1., 2., 1., 2., 2., 3., 3., 2., 1.],\n",
       "        [1., 2., 1., 1., 3., 1., 3., 3., 3., 3., 2., 1.],\n",
       "        [1., 2., 1., 3., 1., 4., 3., 3., 1., 1., 1., 1.],\n",
       "        [1., 1., 2., 1., 2., 3., 1., 1., 1., 1., 2., 2.]]),\n",
       " 4: array([[2., 1., 3., ..., 1., 1., 1.],\n",
       "        [2., 1., 1., ..., 1., 1., 2.],\n",
       "        [2., 1., 1., ..., 3., 1., 1.],\n",
       "        ...,\n",
       "        [1., 3., 1., ..., 1., 1., 2.],\n",
       "        [1., 1., 2., ..., 1., 2., 2.],\n",
       "        [1., 2., 1., ..., 1., 1., 1.]]),\n",
       " 5: array([[1., 2., 1., ..., 1., 1., 1.],\n",
       "        [1., 3., 1., ..., 3., 2., 2.],\n",
       "        [1., 1., 2., ..., 2., 2., 1.],\n",
       "        ...,\n",
       "        [2., 3., 1., ..., 3., 1., 1.],\n",
       "        [1., 3., 1., ..., 1., 1., 2.],\n",
       "        [2., 2., 1., ..., 3., 1., 1.]]),\n",
       " 6: array([[1., 1., 2., 3., 3., 1., 3., 3., 3., 3., 1., 2.],\n",
       "        [1., 1., 1., 1., 1., 1., 1., 2., 1., 1., 1., 2.],\n",
       "        [1., 3., 1., 1., 3., 3., 3., 3., 3., 3., 3., 2.],\n",
       "        [2., 1., 2., 1., 1., 1., 3., 2., 1., 1., 1., 2.],\n",
       "        [2., 3., 1., 3., 3., 1., 3., 3., 3., 3., 1., 1.],\n",
       "        [2., 2., 2., 2., 3., 1., 3., 3., 3., 3., 2., 1.],\n",
       "        [1., 1., 1., 3., 3., 1., 3., 3., 3., 3., 1., 1.],\n",
       "        [1., 1., 2., 1., 3., 1., 1., 1., 3., 1., 3., 1.],\n",
       "        [1., 1., 2., 1., 3., 1., 1., 1., 1., 1., 1., 1.],\n",
       "        [1., 1., 2., 1., 2., 1., 3., 3., 2., 2., 1., 1.],\n",
       "        [1., 1., 1., 1., 1., 1., 1., 3., 1., 3., 1., 2.],\n",
       "        [1., 3., 1., 3., 2., 3., 3., 3., 3., 2., 2., 2.],\n",
       "        [2., 1., 1., 1., 1., 1., 1., 1., 1., 1., 1., 2.],\n",
       "        [1., 1., 1., 1., 1., 1., 1., 1., 1., 1., 1., 1.],\n",
       "        [1., 2., 1., 1., 2., 1., 3., 3., 3., 3., 1., 2.],\n",
       "        [2., 3., 2., 3., 2., 1., 3., 3., 3., 2., 1., 2.],\n",
       "        [1., 3., 1., 1., 3., 4., 3., 3., 2., 2., 1., 1.],\n",
       "        [1., 2., 1., 1., 2., 4., 2., 2., 1., 1., 1., 2.],\n",
       "        [1., 2., 2., 3., 3., 1., 3., 3., 3., 3., 1., 1.],\n",
       "        [2., 3., 2., 3., 3., 1., 3., 3., 3., 3., 1., 1.],\n",
       "        [2., 1., 3., 1., 1., 1., 1., 1., 1., 1., 1., 1.],\n",
       "        [1., 2., 1., 1., 2., 1., 1., 2., 1., 3., 1., 1.],\n",
       "        [1., 3., 1., 1., 3., 4., 3., 3., 3., 3., 3., 1.],\n",
       "        [1., 3., 1., 3., 3., 4., 3., 3., 3., 3., 1., 1.],\n",
       "        [1., 3., 3., 3., 3., 1., 3., 3., 3., 1., 2., 2.],\n",
       "        [1., 1., 1., 3., 1., 1., 2., 3., 3., 1., 1., 2.],\n",
       "        [1., 3., 2., 3., 3., 1., 3., 3., 3., 3., 1., 1.],\n",
       "        [1., 3., 2., 2., 2., 1., 1., 2., 1., 1., 1., 1.],\n",
       "        [2., 3., 1., 3., 2., 1., 3., 3., 3., 3., 2., 1.],\n",
       "        [1., 1., 1., 1., 2., 1., 3., 3., 3., 2., 1., 2.],\n",
       "        [1., 1., 2., 3., 3., 1., 3., 3., 3., 3., 2., 2.],\n",
       "        [2., 3., 1., 3., 3., 2., 3., 3., 3., 2., 1., 1.],\n",
       "        [2., 3., 2., 2., 3., 1., 3., 3., 3., 3., 2., 1.],\n",
       "        [2., 2., 1., 1., 2., 4., 2., 2., 3., 3., 2., 1.],\n",
       "        [1., 2., 1., 1., 1., 4., 1., 1., 1., 1., 1., 2.],\n",
       "        [1., 1., 3., 3., 3., 1., 3., 3., 3., 3., 3., 1.],\n",
       "        [1., 1., 1., 1., 1., 1., 3., 3., 3., 3., 1., 1.],\n",
       "        [1., 2., 1., 1., 1., 1., 1., 1., 1., 1., 1., 1.],\n",
       "        [1., 2., 3., 2., 1., 1., 3., 3., 3., 3., 3., 1.],\n",
       "        [1., 1., 2., 1., 3., 1., 2., 2., 3., 2., 2., 1.],\n",
       "        [1., 1., 1., 1., 1., 1., 1., 1., 1., 1., 3., 2.],\n",
       "        [2., 1., 2., 1., 1., 1., 1., 3., 3., 2., 1., 1.],\n",
       "        [2., 2., 1., 1., 2., 3., 2., 2., 1., 3., 2., 1.],\n",
       "        [2., 3., 1., 2., 3., 1., 3., 3., 3., 3., 2., 2.],\n",
       "        [1., 2., 1., 3., 2., 2., 3., 3., 3., 3., 3., 2.],\n",
       "        [2., 3., 1., 3., 2., 1., 3., 3., 3., 3., 1., 1.],\n",
       "        [1., 1., 2., 1., 3., 1., 1., 1., 1., 1., 3., 1.],\n",
       "        [2., 2., 1., 2., 3., 4., 3., 3., 2., 3., 2., 1.],\n",
       "        [2., 1., 3., 1., 1., 1., 3., 2., 2., 2., 1., 2.],\n",
       "        [1., 3., 1., 3., 3., 1., 3., 3., 3., 3., 1., 1.],\n",
       "        [2., 2., 1., 2., 3., 1., 3., 3., 3., 3., 1., 1.],\n",
       "        [1., 3., 1., 1., 2., 2., 3., 2., 3., 3., 2., 2.],\n",
       "        [1., 3., 1., 3., 3., 2., 3., 3., 3., 3., 1., 1.],\n",
       "        [1., 2., 1., 1., 2., 4., 1., 2., 2., 1., 1., 2.],\n",
       "        [1., 1., 2., 1., 1., 1., 1., 3., 3., 2., 1., 1.],\n",
       "        [1., 3., 1., 1., 1., 1., 3., 3., 3., 3., 3., 1.],\n",
       "        [1., 1., 1., 1., 3., 1., 3., 3., 3., 1., 1., 2.],\n",
       "        [1., 1., 1., 1., 1., 2., 1., 1., 1., 1., 1., 2.],\n",
       "        [1., 2., 2., 2., 2., 4., 3., 3., 3., 2., 2., 2.],\n",
       "        [1., 1., 2., 1., 2., 3., 2., 2., 2., 2., 2., 2.],\n",
       "        [1., 3., 1., 3., 3., 4., 3., 3., 3., 1., 3., 1.],\n",
       "        [1., 3., 1., 3., 3., 2., 3., 3., 3., 3., 3., 2.],\n",
       "        [1., 1., 2., 1., 1., 1., 3., 1., 3., 3., 2., 2.]])}"
      ]
     },
     "execution_count": 5,
     "metadata": {},
     "output_type": "execute_result"
    }
   ],
   "source": [
    "attributes"
   ]
  },
  {
   "cell_type": "code",
   "execution_count": 6,
   "id": "complex-binary",
   "metadata": {},
   "outputs": [
    {
     "name": "stdout",
     "output_type": "stream",
     "text": [
      "    age_1  political_  hometown_1  abortion_  euthanasia_  ethnicity_1  \\\n",
      "0     1.0         1.0         1.0        3.0          3.0          2.0   \n",
      "1     1.0         1.0         1.0        2.0          2.0          2.0   \n",
      "2     1.0         3.0         1.0        3.0          3.0          2.0   \n",
      "3     2.0         3.0         1.0        3.0          1.0          2.0   \n",
      "4     2.0         2.0         1.0        3.0          1.0          2.0   \n",
      "..    ...         ...         ...        ...          ...          ...   \n",
      "93    1.0         1.0         2.0        1.0          3.0          1.0   \n",
      "94    1.0         3.0         1.0        3.0          3.0          2.0   \n",
      "95    2.0         2.0         1.0        1.0          2.0          4.0   \n",
      "96    2.0         1.0         3.0        1.0          2.0          1.0   \n",
      "97    2.0         2.0         1.0        3.0          3.0          1.0   \n",
      "\n",
      "    homosexual_  gaymarriage_  premaritalsex_  marijuana_  deathpen_  gender_1  \n",
      "0           3.0           3.0             3.0         2.0        3.0       2.0  \n",
      "1           2.0           1.0             2.0         3.0        2.0       2.0  \n",
      "2           1.0           3.0             3.0         3.0        3.0       1.0  \n",
      "3           3.0           3.0             3.0         2.0        1.0       1.0  \n",
      "4           3.0           2.0             3.0         1.0        2.0       1.0  \n",
      "..          ...           ...             ...         ...        ...       ...  \n",
      "93          1.0           1.0             3.0         1.0        3.0       1.0  \n",
      "94          3.0           1.0             3.0         3.0        3.0       2.0  \n",
      "95          1.0           1.0             3.0         1.0        2.0       1.0  \n",
      "96          1.0           2.0             1.0         1.0        1.0       2.0  \n",
      "97          3.0           3.0             3.0         3.0        1.0       1.0  \n",
      "\n",
      "[98 rows x 12 columns]\n"
     ]
    }
   ],
   "source": [
    "df = pd.DataFrame(data=attributes[1], columns=attribute_values)\n",
    "print(df)"
   ]
  },
  {
   "cell_type": "code",
   "execution_count": 7,
   "id": "ongoing-prisoner",
   "metadata": {},
   "outputs": [
    {
     "name": "stdout",
     "output_type": "stream",
     "text": [
      "{'political_', 'abortion_', 'euthanasia_', 'homosexual_', 'gaymarriage_', 'premaritalsex_', 'marijuana_', 'deathpen_'}\n",
      "{1: array([[1., 3., 3., 3., 3., 3., 2., 3.],\n",
      "       [1., 2., 2., 2., 1., 2., 3., 2.],\n",
      "       [3., 3., 3., 1., 3., 3., 3., 3.],\n",
      "       [3., 3., 1., 3., 3., 3., 2., 1.],\n",
      "       [2., 3., 1., 3., 2., 3., 1., 2.],\n",
      "       [2., 1., 3., 1., 1., 1., 1., 1.],\n",
      "       [1., 1., 1., 2., 2., 1., 1., 2.],\n",
      "       [2., 2., 2., 1., 2., 1., 3., 2.],\n",
      "       [2., 3., 3., 3., 3., 3., 2., 1.],\n",
      "       [3., 1., 1., 3., 3., 3., 3., 1.],\n",
      "       [2., 1., 3., 1., 1., 1., 2., 1.],\n",
      "       [1., 1., 1., 1., 2., 1., 1., 1.],\n",
      "       [1., 1., 2., 3., 3., 3., 3., 1.],\n",
      "       [1., 1., 1., 2., 1., 1., 3., 1.],\n",
      "       [3., 1., 3., 3., 3., 3., 3., 3.],\n",
      "       [1., 1., 3., 2., 1., 2., 2., 1.],\n",
      "       [1., 1., 2., 1., 1., 3., 2., 2.],\n",
      "       [1., 1., 3., 1., 1., 1., 3., 3.],\n",
      "       [3., 3., 3., 3., 3., 2., 3., 2.],\n",
      "       [1., 1., 3., 1., 3., 3., 3., 1.],\n",
      "       [1., 3., 3., 3., 3., 3., 3., 3.],\n",
      "       [3., 3., 3., 3., 3., 3., 3., 1.],\n",
      "       [1., 1., 3., 3., 3., 3., 3., 1.],\n",
      "       [3., 3., 3., 3., 3., 3., 3., 1.],\n",
      "       [2., 2., 2., 3., 3., 3., 3., 3.],\n",
      "       [1., 1., 1., 1., 1., 1., 2., 1.],\n",
      "       [2., 1., 3., 1., 2., 1., 1., 1.],\n",
      "       [1., 1., 1., 1., 1., 1., 2., 2.],\n",
      "       [1., 1., 1., 1., 3., 2., 1., 2.],\n",
      "       [2., 1., 1., 1., 1., 1., 2., 1.],\n",
      "       [3., 1., 1., 1., 1., 1., 1., 1.],\n",
      "       [3., 3., 3., 3., 3., 3., 3., 1.],\n",
      "       [1., 3., 3., 3., 3., 3., 1., 2.],\n",
      "       [3., 1., 3., 3., 3., 3., 3., 2.],\n",
      "       [2., 1., 3., 3., 3., 1., 1., 1.],\n",
      "       [1., 1., 1., 1., 1., 1., 1., 1.],\n",
      "       [1., 3., 3., 3., 3., 1., 1., 1.],\n",
      "       [2., 3., 3., 3., 2., 3., 3., 1.],\n",
      "       [2., 3., 3., 3., 3., 3., 3., 3.],\n",
      "       [1., 1., 1., 1., 1., 1., 1., 3.],\n",
      "       [1., 1., 3., 1., 1., 1., 1., 1.],\n",
      "       [2., 1., 2., 1., 2., 3., 1., 1.],\n",
      "       [3., 3., 1., 3., 3., 2., 1., 1.],\n",
      "       [1., 1., 1., 1., 1., 1., 1., 1.],\n",
      "       [1., 1., 2., 1., 1., 1., 1., 3.],\n",
      "       [3., 3., 3., 3., 3., 3., 3., 2.],\n",
      "       [1., 1., 3., 1., 1., 3., 1., 1.],\n",
      "       [1., 1., 3., 3., 3., 3., 1., 1.],\n",
      "       [3., 3., 3., 3., 3., 3., 1., 2.],\n",
      "       [1., 1., 1., 1., 1., 1., 1., 1.],\n",
      "       [1., 2., 3., 3., 3., 3., 1., 1.],\n",
      "       [3., 3., 2., 3., 3., 3., 3., 2.],\n",
      "       [1., 3., 3., 3., 3., 3., 1., 3.],\n",
      "       [1., 1., 1., 1., 3., 1., 1., 1.],\n",
      "       [3., 3., 2., 3., 3., 3., 1., 2.],\n",
      "       [3., 3., 1., 3., 3., 3., 1., 3.],\n",
      "       [1., 1., 2., 1., 1., 1., 1., 1.],\n",
      "       [1., 1., 2., 1., 1., 1., 1., 1.],\n",
      "       [3., 3., 3., 3., 3., 3., 1., 2.],\n",
      "       [3., 3., 3., 3., 3., 3., 2., 2.],\n",
      "       [3., 1., 3., 1., 1., 3., 3., 1.],\n",
      "       [1., 1., 1., 1., 2., 1., 1., 1.],\n",
      "       [2., 3., 2., 2., 2., 3., 3., 1.],\n",
      "       [3., 1., 1., 3., 3., 3., 1., 1.],\n",
      "       [3., 1., 1., 1., 1., 3., 1., 1.],\n",
      "       [3., 1., 2., 3., 3., 3., 3., 1.],\n",
      "       [2., 1., 3., 3., 3., 3., 2., 1.],\n",
      "       [1., 1., 2., 3., 3., 3., 1., 1.],\n",
      "       [1., 1., 3., 1., 2., 3., 1., 2.],\n",
      "       [2., 2., 2., 2., 2., 3., 2., 2.],\n",
      "       [1., 1., 1., 1., 1., 3., 1., 3.],\n",
      "       [3., 3., 3., 3., 3., 3., 3., 1.],\n",
      "       [1., 1., 2., 1., 1., 1., 2., 1.],\n",
      "       [1., 1., 2., 3., 2., 3., 1., 3.],\n",
      "       [1., 3., 3., 3., 2., 3., 1., 3.],\n",
      "       [1., 1., 3., 1., 1., 3., 1., 2.],\n",
      "       [1., 1., 1., 3., 1., 3., 1., 1.],\n",
      "       [3., 3., 3., 3., 3., 3., 1., 3.],\n",
      "       [2., 2., 2., 3., 3., 3., 3., 2.],\n",
      "       [1., 1., 1., 1., 3., 1., 1., 1.],\n",
      "       [1., 1., 3., 1., 3., 1., 1., 2.],\n",
      "       [1., 1., 3., 1., 1., 1., 1., 2.],\n",
      "       [1., 1., 2., 1., 1., 1., 1., 1.],\n",
      "       [2., 1., 2., 3., 3., 2., 2., 2.],\n",
      "       [3., 3., 3., 3., 2., 3., 2., 3.],\n",
      "       [1., 1., 1., 1., 1., 1., 1., 1.],\n",
      "       [1., 3., 3., 3., 1., 3., 1., 1.],\n",
      "       [3., 1., 3., 3., 3., 3., 2., 1.],\n",
      "       [1., 1., 1., 1., 1., 3., 1., 3.],\n",
      "       [3., 3., 1., 3., 3., 3., 3., 2.],\n",
      "       [2., 1., 1., 2., 2., 1., 1., 1.],\n",
      "       [1., 1., 1., 1., 1., 1., 2., 1.],\n",
      "       [1., 1., 3., 3., 3., 3., 2., 3.],\n",
      "       [1., 1., 3., 1., 1., 3., 1., 3.],\n",
      "       [3., 3., 3., 3., 1., 3., 3., 3.],\n",
      "       [2., 1., 2., 1., 1., 3., 1., 2.],\n",
      "       [1., 1., 2., 1., 2., 1., 1., 1.],\n",
      "       [2., 3., 3., 3., 3., 3., 3., 1.]]), 2: array([[1., 1., 3., 1., 1., 1., 1., 1.],\n",
      "       [1., 1., 1., 1., 1., 1., 1., 1.],\n",
      "       [1., 1., 3., 3., 3., 3., 1., 2.],\n",
      "       [3., 1., 3., 3., 3., 3., 3., 3.],\n",
      "       [2., 2., 2., 1., 1., 1., 1., 2.],\n",
      "       [2., 1., 1., 3., 3., 3., 3., 1.],\n",
      "       [3., 3., 3., 3., 3., 3., 1., 1.],\n",
      "       [1., 1., 3., 3., 3., 3., 3., 3.],\n",
      "       [2., 1., 1., 1., 1., 1., 1., 1.],\n",
      "       [2., 3., 3., 3., 3., 3., 1., 3.],\n",
      "       [1., 1., 1., 1., 1., 1., 1., 1.],\n",
      "       [1., 1., 1., 1., 1., 1., 2., 1.],\n",
      "       [1., 1., 3., 2., 1., 3., 2., 2.],\n",
      "       [2., 1., 1., 3., 1., 3., 1., 1.],\n",
      "       [3., 1., 3., 1., 1., 3., 1., 3.],\n",
      "       [1., 1., 3., 3., 3., 3., 2., 2.],\n",
      "       [2., 1., 3., 3., 3., 2., 3., 1.],\n",
      "       [3., 1., 1., 3., 1., 1., 1., 1.],\n",
      "       [3., 3., 3., 3., 3., 3., 1., 1.],\n",
      "       [2., 1., 1., 1., 2., 1., 3., 1.],\n",
      "       [1., 1., 1., 1., 1., 1., 1., 1.],\n",
      "       [1., 3., 3., 3., 3., 3., 3., 3.],\n",
      "       [1., 1., 3., 1., 3., 3., 3., 1.],\n",
      "       [3., 3., 3., 3., 3., 3., 3., 1.],\n",
      "       [1., 1., 2., 3., 2., 1., 3., 1.],\n",
      "       [2., 2., 3., 3., 3., 3., 3., 1.],\n",
      "       [3., 3., 2., 3., 3., 3., 3., 2.],\n",
      "       [1., 1., 1., 1., 3., 1., 2., 1.],\n",
      "       [1., 1., 2., 1., 1., 1., 1., 3.],\n",
      "       [3., 1., 2., 1., 3., 1., 1., 1.],\n",
      "       [2., 3., 3., 3., 3., 3., 3., 1.],\n",
      "       [2., 1., 1., 3., 3., 3., 3., 1.],\n",
      "       [1., 1., 3., 1., 1., 1., 1., 3.],\n",
      "       [1., 1., 1., 1., 2., 1., 1., 1.],\n",
      "       [1., 1., 1., 2., 2., 1., 1., 1.],\n",
      "       [3., 3., 3., 3., 3., 3., 3., 3.],\n",
      "       [3., 3., 3., 3., 3., 3., 1., 1.],\n",
      "       [1., 1., 2., 3., 3., 1., 1., 1.],\n",
      "       [3., 3., 1., 3., 3., 3., 3., 1.],\n",
      "       [1., 1., 3., 1., 1., 3., 1., 3.],\n",
      "       [1., 1., 3., 3., 3., 3., 2., 2.],\n",
      "       [1., 1., 3., 3., 3., 1., 3., 1.],\n",
      "       [2., 1., 1., 1., 1., 1., 2., 1.],\n",
      "       [1., 1., 3., 1., 2., 3., 1., 1.],\n",
      "       [3., 3., 3., 3., 3., 3., 2., 1.],\n",
      "       [3., 1., 1., 3., 3., 3., 3., 1.],\n",
      "       [1., 1., 1., 2., 3., 1., 1., 1.],\n",
      "       [3., 3., 2., 3., 3., 3., 2., 1.],\n",
      "       [1., 1., 3., 1., 2., 1., 1., 1.],\n",
      "       [2., 3., 2., 3., 3., 3., 2., 1.],\n",
      "       [2., 2., 2., 2., 2., 2., 2., 2.],\n",
      "       [2., 1., 1., 2., 2., 1., 1., 1.],\n",
      "       [3., 2., 3., 3., 3., 3., 3., 2.],\n",
      "       [2., 3., 3., 3., 3., 3., 3., 2.],\n",
      "       [2., 2., 1., 3., 3., 3., 3., 2.],\n",
      "       [2., 1., 3., 3., 3., 1., 2., 1.],\n",
      "       [2., 1., 1., 1., 1., 1., 2., 2.],\n",
      "       [1., 1., 2., 1., 2., 1., 1., 2.],\n",
      "       [1., 3., 3., 3., 2., 3., 1., 1.],\n",
      "       [3., 3., 3., 3., 3., 3., 3., 1.],\n",
      "       [3., 1., 2., 3., 3., 3., 3., 2.],\n",
      "       [3., 1., 2., 3., 3., 3., 3., 1.],\n",
      "       [1., 3., 3., 3., 3., 3., 3., 1.],\n",
      "       [2., 1., 3., 3., 1., 3., 1., 1.],\n",
      "       [1., 1., 1., 3., 1., 3., 3., 1.],\n",
      "       [3., 3., 3., 3., 3., 3., 1., 1.],\n",
      "       [1., 1., 2., 1., 1., 1., 1., 2.],\n",
      "       [3., 3., 1., 3., 3., 3., 1., 1.],\n",
      "       [1., 1., 1., 1., 3., 1., 1., 1.],\n",
      "       [3., 3., 1., 3., 3., 3., 2., 1.],\n",
      "       [2., 1., 1., 2., 1., 1., 2., 1.],\n",
      "       [2., 1., 2., 3., 3., 3., 3., 1.],\n",
      "       [2., 3., 3., 3., 3., 3., 3., 1.],\n",
      "       [1., 1., 1., 1., 2., 3., 1., 3.],\n",
      "       [1., 1., 2., 1., 1., 1., 1., 1.],\n",
      "       [1., 1., 1., 3., 2., 1., 1., 3.],\n",
      "       [3., 1., 3., 3., 3., 3., 2., 2.],\n",
      "       [2., 2., 2., 2., 2., 2., 2., 2.],\n",
      "       [3., 3., 3., 3., 3., 3., 3., 1.],\n",
      "       [1., 1., 3., 1., 1., 3., 2., 1.],\n",
      "       [1., 1., 2., 3., 3., 3., 3., 1.],\n",
      "       [1., 1., 1., 3., 3., 3., 1., 1.],\n",
      "       [1., 1., 2., 3., 1., 3., 2., 1.],\n",
      "       [3., 3., 3., 3., 3., 3., 3., 2.],\n",
      "       [1., 1., 3., 3., 3., 3., 2., 2.],\n",
      "       [2., 1., 2., 3., 1., 3., 3., 2.],\n",
      "       [1., 1., 1., 3., 3., 3., 1., 2.],\n",
      "       [1., 1., 3., 3., 3., 3., 1., 3.],\n",
      "       [3., 2., 2., 3., 3., 2., 1., 1.]]), 3: array([[2., 3., 3., 3., 3., 3., 1., 1.],\n",
      "       [1., 1., 1., 1., 1., 1., 1., 1.],\n",
      "       [2., 1., 1., 1., 2., 1., 3., 1.],\n",
      "       [3., 1., 3., 3., 3., 3., 3., 3.],\n",
      "       [1., 3., 3., 3., 3., 3., 2., 1.],\n",
      "       [2., 3., 3., 1., 3., 1., 1., 1.],\n",
      "       [1., 1., 2., 3., 3., 3., 2., 1.],\n",
      "       [3., 3., 2., 3., 3., 3., 1., 1.],\n",
      "       [1., 1., 1., 3., 1., 1., 1., 1.],\n",
      "       [1., 1., 1., 1., 1., 1., 1., 1.],\n",
      "       [1., 2., 3., 2., 3., 3., 1., 2.],\n",
      "       [1., 1., 1., 3., 1., 3., 1., 1.],\n",
      "       [1., 1., 2., 1., 1., 1., 1., 3.],\n",
      "       [1., 1., 1., 1., 3., 1., 3., 1.],\n",
      "       [1., 1., 3., 1., 2., 3., 3., 3.],\n",
      "       [3., 3., 3., 3., 3., 3., 3., 1.],\n",
      "       [2., 1., 2., 3., 3., 3., 3., 1.],\n",
      "       [3., 3., 3., 3., 3., 3., 3., 1.],\n",
      "       [1., 1., 1., 2., 2., 1., 3., 1.],\n",
      "       [3., 3., 3., 3., 3., 3., 2., 1.],\n",
      "       [3., 1., 2., 3., 3., 1., 1., 1.],\n",
      "       [1., 1., 1., 3., 1., 1., 1., 1.],\n",
      "       [3., 2., 3., 3., 3., 3., 3., 2.],\n",
      "       [1., 1., 1., 2., 2., 1., 1., 1.],\n",
      "       [3., 3., 3., 3., 3., 3., 2., 1.],\n",
      "       [2., 1., 2., 2., 2., 3., 3., 1.],\n",
      "       [3., 1., 2., 3., 3., 3., 2., 1.],\n",
      "       [1., 1., 2., 2., 2., 1., 2., 2.],\n",
      "       [2., 1., 1., 3., 3., 3., 2., 1.],\n",
      "       [3., 3., 2., 3., 3., 3., 3., 1.],\n",
      "       [3., 3., 2., 3., 3., 3., 3., 2.],\n",
      "       [2., 2., 3., 3., 2., 2., 3., 2.],\n",
      "       [2., 1., 1., 3., 3., 3., 3., 1.],\n",
      "       [2., 1., 2., 1., 1., 1., 3., 2.],\n",
      "       [1., 1., 3., 2., 3., 2., 1., 3.],\n",
      "       [1., 1., 1., 3., 2., 3., 1., 3.],\n",
      "       [1., 1., 1., 2., 1., 1., 1., 1.],\n",
      "       [1., 1., 1., 1., 3., 3., 3., 1.],\n",
      "       [1., 3., 3., 3., 3., 3., 3., 3.],\n",
      "       [1., 3., 3., 3., 3., 3., 1., 3.],\n",
      "       [1., 1., 1., 2., 1., 1., 1., 2.],\n",
      "       [1., 1., 3., 1., 1., 3., 1., 3.],\n",
      "       [3., 2., 3., 3., 3., 2., 2., 2.],\n",
      "       [3., 2., 1., 1., 3., 1., 1., 1.],\n",
      "       [3., 1., 3., 3., 3., 3., 1., 1.],\n",
      "       [2., 1., 1., 1., 1., 1., 1., 1.],\n",
      "       [2., 3., 1., 3., 3., 3., 1., 1.],\n",
      "       [2., 2., 2., 2., 2., 2., 2., 2.],\n",
      "       [1., 1., 3., 1., 1., 1., 1., 1.],\n",
      "       [3., 3., 3., 3., 3., 3., 3., 1.],\n",
      "       [1., 3., 3., 3., 1., 3., 3., 1.],\n",
      "       [2., 1., 1., 3., 3., 3., 1., 1.],\n",
      "       [3., 3., 3., 3., 3., 3., 1., 1.],\n",
      "       [1., 1., 3., 1., 1., 1., 1., 3.],\n",
      "       [1., 1., 2., 1., 2., 1., 2., 1.],\n",
      "       [1., 1., 1., 1., 1., 1., 1., 3.],\n",
      "       [2., 1., 3., 3., 3., 3., 3., 1.],\n",
      "       [1., 1., 2., 2., 2., 1., 2., 1.],\n",
      "       [2., 1., 2., 1., 1., 1., 1., 1.],\n",
      "       [1., 1., 3., 1., 2., 3., 1., 1.],\n",
      "       [3., 3., 3., 3., 3., 3., 2., 1.],\n",
      "       [1., 1., 3., 1., 1., 1., 1., 1.],\n",
      "       [1., 1., 2., 3., 3., 3., 2., 1.],\n",
      "       [2., 1., 1., 3., 3., 3., 3., 1.],\n",
      "       [1., 1., 2., 2., 2., 3., 3., 2.],\n",
      "       [2., 1., 3., 3., 3., 3., 3., 2.],\n",
      "       [2., 3., 1., 3., 3., 1., 1., 1.],\n",
      "       [1., 1., 2., 1., 1., 1., 1., 2.]]), 4: array([[1., 1., 2., 1., 1., 1., 1., 1.],\n",
      "       [1., 1., 1., 1., 1., 1., 1., 1.],\n",
      "       [1., 1., 1., 3., 3., 3., 3., 1.],\n",
      "       [1., 3., 3., 1., 1., 1., 1., 3.],\n",
      "       [3., 1., 3., 3., 3., 1., 1., 1.],\n",
      "       [3., 3., 2., 3., 3., 3., 2., 1.],\n",
      "       [1., 1., 2., 1., 2., 3., 2., 1.],\n",
      "       [3., 1., 3., 3., 3., 3., 3., 1.],\n",
      "       [2., 1., 3., 3., 3., 2., 2., 1.],\n",
      "       [1., 1., 3., 3., 3., 3., 2., 2.],\n",
      "       [1., 1., 1., 1., 3., 1., 3., 1.],\n",
      "       [1., 1., 3., 1., 1., 1., 1., 1.],\n",
      "       [1., 1., 1., 1., 2., 1., 1., 1.],\n",
      "       [3., 3., 3., 3., 3., 3., 3., 2.],\n",
      "       [1., 1., 1., 3., 1., 1., 2., 1.],\n",
      "       [1., 1., 1., 1., 2., 1., 1., 1.],\n",
      "       [1., 1., 1., 1., 1., 1., 1., 1.],\n",
      "       [3., 1., 3., 1., 3., 3., 2., 3.],\n",
      "       [3., 3., 3., 3., 3., 1., 3., 1.],\n",
      "       [1., 1., 3., 1., 1., 1., 1., 3.],\n",
      "       [1., 1., 1., 2., 1., 1., 1., 2.],\n",
      "       [3., 3., 2., 3., 3., 3., 1., 1.],\n",
      "       [3., 1., 3., 3., 3., 2., 1., 1.],\n",
      "       [3., 3., 3., 3., 3., 3., 3., 1.],\n",
      "       [1., 1., 1., 1., 2., 1., 3., 1.],\n",
      "       [2., 3., 3., 3., 3., 3., 3., 1.],\n",
      "       [3., 3., 2., 1., 3., 3., 1., 3.],\n",
      "       [1., 1., 2., 1., 1., 1., 1., 2.],\n",
      "       [2., 1., 1., 2., 2., 1., 2., 2.],\n",
      "       [2., 1., 2., 2., 2., 1., 2., 2.],\n",
      "       [2., 1., 1., 3., 1., 3., 2., 1.],\n",
      "       [1., 1., 1., 1., 1., 3., 1., 3.],\n",
      "       [2., 3., 3., 3., 3., 3., 3., 2.],\n",
      "       [3., 2., 3., 3., 3., 3., 3., 2.],\n",
      "       [1., 1., 1., 2., 2., 1., 1., 1.],\n",
      "       [3., 1., 1., 3., 3., 3., 2., 1.],\n",
      "       [1., 1., 1., 3., 3., 1., 2., 2.],\n",
      "       [3., 1., 3., 3., 3., 3., 1., 1.],\n",
      "       [1., 3., 3., 3., 3., 3., 3., 3.],\n",
      "       [1., 1., 1., 1., 3., 1., 1., 2.],\n",
      "       [2., 1., 1., 1., 1., 1., 2., 2.],\n",
      "       [3., 2., 2., 3., 3., 3., 3., 1.],\n",
      "       [1., 3., 3., 3., 2., 3., 1., 2.],\n",
      "       [3., 3., 2., 3., 3., 3., 3., 2.],\n",
      "       [1., 3., 3., 3., 3., 3., 3., 3.],\n",
      "       [1., 1., 1., 1., 3., 3., 3., 1.],\n",
      "       [1., 1., 1., 1., 1., 1., 1., 3.],\n",
      "       [3., 1., 3., 3., 3., 3., 3., 2.],\n",
      "       [1., 1., 3., 3., 3., 3., 2., 2.],\n",
      "       [1., 1., 2., 1., 1., 1., 1., 3.],\n",
      "       [3., 2., 3., 3., 3., 2., 2., 2.],\n",
      "       [1., 2., 1., 3., 1., 3., 3., 1.],\n",
      "       [2., 3., 2., 3., 3., 3., 2., 1.],\n",
      "       [3., 2., 2., 3., 2., 2., 3., 1.],\n",
      "       [1., 3., 3., 3., 3., 3., 1., 1.],\n",
      "       [1., 1., 1., 2., 1., 1., 3., 1.],\n",
      "       [1., 1., 3., 3., 3., 3., 1., 1.],\n",
      "       [1., 3., 3., 3., 3., 3., 3., 1.],\n",
      "       [1., 1., 1., 1., 1., 1., 1., 2.],\n",
      "       [1., 1., 1., 2., 3., 1., 1., 1.],\n",
      "       [3., 3., 3., 3., 3., 3., 2., 1.],\n",
      "       [2., 1., 1., 1., 1., 1., 2., 1.],\n",
      "       [1., 1., 2., 1., 3., 1., 2., 1.],\n",
      "       [3., 2., 3., 3., 3., 3., 3., 2.],\n",
      "       [1., 1., 3., 3., 3., 3., 1., 3.],\n",
      "       [1., 1., 1., 3., 3., 3., 1., 2.],\n",
      "       [3., 3., 3., 3., 3., 3., 1., 1.],\n",
      "       [2., 3., 3., 2., 3., 3., 3., 3.],\n",
      "       [3., 3., 1., 3., 3., 3., 1., 1.],\n",
      "       [1., 1., 2., 2., 1., 1., 3., 2.],\n",
      "       [2., 1., 1., 1., 3., 3., 1., 1.],\n",
      "       [2., 1., 2., 1., 2., 3., 1., 1.],\n",
      "       [3., 2., 1., 2., 3., 1., 2., 1.],\n",
      "       [1., 3., 3., 3., 3., 3., 3., 3.],\n",
      "       [3., 1., 2., 3., 2., 3., 1., 1.],\n",
      "       [3., 3., 2., 3., 3., 3., 3., 2.],\n",
      "       [3., 3., 3., 3., 3., 2., 3., 2.],\n",
      "       [3., 3., 3., 3., 3., 3., 3., 3.],\n",
      "       [2., 2., 2., 2., 2., 2., 2., 2.],\n",
      "       [3., 1., 2., 3., 2., 3., 3., 1.],\n",
      "       [3., 3., 3., 3., 3., 3., 3., 1.],\n",
      "       [1., 1., 2., 1., 2., 1., 2., 1.],\n",
      "       [1., 1., 1., 3., 3., 3., 1., 3.],\n",
      "       [1., 3., 3., 3., 3., 3., 3., 3.],\n",
      "       [1., 1., 3., 3., 3., 3., 3., 2.],\n",
      "       [2., 3., 3., 3., 3., 3., 3., 2.],\n",
      "       [3., 2., 2., 3., 3., 3., 1., 1.],\n",
      "       [1., 1., 3., 3., 3., 3., 1., 2.],\n",
      "       [2., 1., 2., 1., 2., 1., 1., 1.]]), 5: array([[2., 3., 2., 3., 2., 2., 1., 1.],\n",
      "       [3., 3., 2., 3., 3., 3., 3., 2.],\n",
      "       [1., 1., 2., 3., 2., 3., 2., 2.],\n",
      "       [2., 1., 2., 3., 3., 2., 2., 1.],\n",
      "       [1., 1., 1., 1., 3., 1., 3., 1.],\n",
      "       [1., 1., 2., 1., 1., 1., 1., 3.],\n",
      "       [1., 1., 3., 1., 1., 3., 1., 3.],\n",
      "       [1., 1., 2., 3., 3., 3., 3., 1.],\n",
      "       [3., 3., 3., 3., 3., 3., 3., 3.],\n",
      "       [1., 1., 1., 2., 2., 1., 1., 1.],\n",
      "       [1., 3., 3., 3., 2., 3., 3., 1.],\n",
      "       [3., 3., 2., 3., 3., 3., 3., 2.],\n",
      "       [3., 1., 3., 1., 3., 1., 2., 3.],\n",
      "       [3., 3., 1., 3., 3., 3., 3., 1.],\n",
      "       [1., 1., 1., 1., 1., 1., 1., 1.],\n",
      "       [1., 1., 1., 1., 1., 1., 1., 1.],\n",
      "       [2., 3., 2., 2., 2., 2., 3., 2.],\n",
      "       [2., 1., 1., 1., 1., 1., 1., 1.],\n",
      "       [3., 3., 2., 3., 3., 3., 2., 1.],\n",
      "       [3., 2., 2., 3., 3., 3., 1., 1.],\n",
      "       [1., 1., 1., 1., 1., 1., 1., 1.],\n",
      "       [2., 1., 3., 3., 3., 3., 3., 1.],\n",
      "       [2., 3., 3., 3., 2., 3., 3., 2.],\n",
      "       [1., 1., 1., 1., 1., 1., 1., 1.],\n",
      "       [2., 2., 3., 3., 3., 3., 2., 1.],\n",
      "       [3., 2., 3., 3., 3., 3., 3., 1.],\n",
      "       [3., 3., 2., 3., 3., 3., 2., 1.],\n",
      "       [3., 1., 2., 3., 3., 3., 1., 1.],\n",
      "       [1., 1., 2., 2., 2., 1., 3., 2.],\n",
      "       [2., 1., 2., 3., 1., 3., 2., 1.],\n",
      "       [1., 1., 3., 3., 3., 3., 3., 2.],\n",
      "       [2., 1., 3., 3., 3., 2., 2., 1.],\n",
      "       [1., 1., 3., 3., 3., 3., 1., 2.],\n",
      "       [1., 1., 1., 1., 2., 1., 1., 2.],\n",
      "       [1., 1., 3., 1., 1., 1., 1., 3.],\n",
      "       [3., 2., 3., 3., 3., 3., 3., 1.],\n",
      "       [2., 3., 3., 3., 3., 3., 3., 1.],\n",
      "       [1., 1., 3., 3., 3., 3., 1., 1.],\n",
      "       [1., 1., 1., 3., 1., 3., 1., 1.],\n",
      "       [2., 3., 2., 3., 3., 3., 3., 3.],\n",
      "       [2., 3., 2., 2., 2., 3., 2., 2.],\n",
      "       [1., 1., 2., 2., 2., 1., 1., 1.],\n",
      "       [3., 2., 2., 2., 3., 3., 2., 2.],\n",
      "       [3., 2., 2., 3., 3., 3., 3., 1.],\n",
      "       [1., 1., 1., 1., 3., 3., 3., 1.],\n",
      "       [1., 1., 3., 3., 3., 3., 1., 3.],\n",
      "       [1., 1., 2., 3., 2., 1., 2., 1.],\n",
      "       [1., 1., 3., 1., 1., 1., 1., 1.],\n",
      "       [2., 1., 2., 1., 2., 1., 1., 1.],\n",
      "       [1., 1., 1., 1., 2., 1., 3., 1.],\n",
      "       [1., 3., 3., 3., 3., 3., 3., 3.],\n",
      "       [3., 3., 3., 3., 1., 3., 3., 3.],\n",
      "       [3., 3., 3., 3., 3., 3., 3., 2.],\n",
      "       [1., 1., 2., 1., 2., 1., 2., 1.],\n",
      "       [1., 1., 2., 2., 2., 2., 2., 2.],\n",
      "       [3., 3., 3., 3., 3., 3., 1., 3.],\n",
      "       [3., 2., 3., 3., 3., 3., 3., 2.],\n",
      "       [2., 2., 2., 2., 2., 2., 2., 2.],\n",
      "       [3., 3., 3., 3., 3., 3., 3., 1.],\n",
      "       [1., 2., 1., 2., 2., 1., 2., 1.],\n",
      "       [1., 1., 1., 2., 2., 1., 1., 1.],\n",
      "       [3., 1., 3., 3., 3., 3., 3., 2.],\n",
      "       [1., 1., 2., 1., 1., 3., 2., 2.],\n",
      "       [3., 1., 3., 2., 3., 1., 2., 1.],\n",
      "       [2., 2., 1., 3., 3., 3., 3., 2.],\n",
      "       [3., 3., 3., 3., 3., 3., 1., 1.],\n",
      "       [1., 1., 1., 3., 3., 3., 1., 2.],\n",
      "       [3., 3., 3., 3., 3., 3., 2., 1.],\n",
      "       [3., 1., 1., 1., 2., 3., 3., 1.],\n",
      "       [1., 1., 1., 1., 1., 1., 1., 2.],\n",
      "       [2., 1., 1., 3., 3., 3., 3., 1.],\n",
      "       [1., 1., 1., 1., 2., 1., 2., 1.],\n",
      "       [2., 3., 2., 3., 3., 3., 3., 2.],\n",
      "       [3., 1., 3., 2., 2., 3., 3., 2.],\n",
      "       [2., 1., 1., 3., 3., 3., 2., 1.],\n",
      "       [1., 3., 3., 3., 3., 3., 3., 3.],\n",
      "       [2., 1., 2., 2., 2., 1., 1., 1.],\n",
      "       [2., 1., 1., 1., 1., 1., 1., 1.],\n",
      "       [1., 1., 3., 3., 3., 3., 3., 2.],\n",
      "       [1., 3., 3., 3., 3., 3., 1., 3.],\n",
      "       [1., 1., 2., 3., 3., 3., 3., 1.],\n",
      "       [1., 1., 1., 1., 3., 3., 1., 1.],\n",
      "       [3., 2., 2., 1., 2., 3., 3., 1.],\n",
      "       [3., 1., 2., 3., 3., 3., 1., 1.],\n",
      "       [2., 3., 3., 3., 2., 3., 3., 1.]]), 6: array([[1., 3., 3., 3., 3., 3., 3., 1.],\n",
      "       [1., 1., 1., 1., 2., 1., 1., 1.],\n",
      "       [3., 1., 3., 3., 3., 3., 3., 3.],\n",
      "       [1., 1., 1., 3., 2., 1., 1., 1.],\n",
      "       [3., 3., 3., 3., 3., 3., 3., 1.],\n",
      "       [2., 2., 3., 3., 3., 3., 3., 2.],\n",
      "       [1., 3., 3., 3., 3., 3., 3., 1.],\n",
      "       [1., 1., 3., 1., 1., 3., 1., 3.],\n",
      "       [1., 1., 3., 1., 1., 1., 1., 1.],\n",
      "       [1., 1., 2., 3., 3., 2., 2., 1.],\n",
      "       [1., 1., 1., 1., 3., 1., 3., 1.],\n",
      "       [3., 3., 2., 3., 3., 3., 2., 2.],\n",
      "       [1., 1., 1., 1., 1., 1., 1., 1.],\n",
      "       [1., 1., 1., 1., 1., 1., 1., 1.],\n",
      "       [2., 1., 2., 3., 3., 3., 3., 1.],\n",
      "       [3., 3., 2., 3., 3., 3., 2., 1.],\n",
      "       [3., 1., 3., 3., 3., 2., 2., 1.],\n",
      "       [2., 1., 2., 2., 2., 1., 1., 1.],\n",
      "       [2., 3., 3., 3., 3., 3., 3., 1.],\n",
      "       [3., 3., 3., 3., 3., 3., 3., 1.],\n",
      "       [1., 1., 1., 1., 1., 1., 1., 1.],\n",
      "       [2., 1., 2., 1., 2., 1., 3., 1.],\n",
      "       [3., 1., 3., 3., 3., 3., 3., 3.],\n",
      "       [3., 3., 3., 3., 3., 3., 3., 1.],\n",
      "       [3., 3., 3., 3., 3., 3., 1., 2.],\n",
      "       [1., 3., 1., 2., 3., 3., 1., 1.],\n",
      "       [3., 3., 3., 3., 3., 3., 3., 1.],\n",
      "       [3., 2., 2., 1., 2., 1., 1., 1.],\n",
      "       [3., 3., 2., 3., 3., 3., 3., 2.],\n",
      "       [1., 1., 2., 3., 3., 3., 2., 1.],\n",
      "       [1., 3., 3., 3., 3., 3., 3., 2.],\n",
      "       [3., 3., 3., 3., 3., 3., 2., 1.],\n",
      "       [3., 2., 3., 3., 3., 3., 3., 2.],\n",
      "       [2., 1., 2., 2., 2., 3., 3., 2.],\n",
      "       [2., 1., 1., 1., 1., 1., 1., 1.],\n",
      "       [1., 3., 3., 3., 3., 3., 3., 3.],\n",
      "       [1., 1., 1., 3., 3., 3., 3., 1.],\n",
      "       [2., 1., 1., 1., 1., 1., 1., 1.],\n",
      "       [2., 2., 1., 3., 3., 3., 3., 3.],\n",
      "       [1., 1., 3., 2., 2., 3., 2., 2.],\n",
      "       [1., 1., 1., 1., 1., 1., 1., 3.],\n",
      "       [1., 1., 1., 1., 3., 3., 2., 1.],\n",
      "       [2., 1., 2., 2., 2., 1., 3., 2.],\n",
      "       [3., 2., 3., 3., 3., 3., 3., 2.],\n",
      "       [2., 3., 2., 3., 3., 3., 3., 3.],\n",
      "       [3., 3., 2., 3., 3., 3., 3., 1.],\n",
      "       [1., 1., 3., 1., 1., 1., 1., 3.],\n",
      "       [2., 2., 3., 3., 3., 2., 3., 2.],\n",
      "       [1., 1., 1., 3., 2., 2., 2., 1.],\n",
      "       [3., 3., 3., 3., 3., 3., 3., 1.],\n",
      "       [2., 2., 3., 3., 3., 3., 3., 1.],\n",
      "       [3., 1., 2., 3., 2., 3., 3., 2.],\n",
      "       [3., 3., 3., 3., 3., 3., 3., 1.],\n",
      "       [2., 1., 2., 1., 2., 2., 1., 1.],\n",
      "       [1., 1., 1., 1., 3., 3., 2., 1.],\n",
      "       [3., 1., 1., 3., 3., 3., 3., 3.],\n",
      "       [1., 1., 3., 3., 3., 3., 1., 1.],\n",
      "       [1., 1., 1., 1., 1., 1., 1., 1.],\n",
      "       [2., 2., 2., 3., 3., 3., 2., 2.],\n",
      "       [1., 1., 2., 2., 2., 2., 2., 2.],\n",
      "       [3., 3., 3., 3., 3., 3., 1., 3.],\n",
      "       [3., 3., 3., 3., 3., 3., 3., 3.],\n",
      "       [1., 1., 1., 3., 1., 3., 3., 2.]])}\n"
     ]
    }
   ],
   "source": [
    "\n",
    "ord_list_of_attributes = list_of_attributes - {'ethnicity_1', 'gender_1', 'hometown_1', 'age_1'}\n",
    "print(ord_list_of_attributes)\n",
    "\n",
    "#creating table of attribute values\n",
    "ord_attributes = dict((i, 0) for i in range(1,7))\n",
    "for i in range(1,7):\n",
    "    ord_attributes[i] = np.zeros([len(data[i].nodes), len(ord_list_of_attributes)])\n",
    "\n",
    "for sem in range(1,7):\n",
    "    for i, node in enumerate(data[sem].nodes()):\n",
    "        for j, attribute in enumerate(ord_list_of_attributes):\n",
    "            ord_attributes[sem][i,j] = data[sem].nodes[node][attribute]\n",
    "print(ord_attributes)"
   ]
  },
  {
   "cell_type": "markdown",
   "id": "cardiac-advocacy",
   "metadata": {},
   "source": [
    "## Max difference of new attributes"
   ]
  },
  {
   "cell_type": "code",
   "execution_count": 11,
   "id": "affecting-tablet",
   "metadata": {},
   "outputs": [],
   "source": [
    "def calc_distance(agent1, agent2, scale = 1):\n",
    "    return np.sum(np.abs(agent1-agent2)) / len(agent1) / scale\n",
    "\n",
    "def calc_distances(agents, scale = 1):\n",
    "    N, A = agents.shape\n",
    "    \n",
    "    distances = np.zeros([N,N])\n",
    "    \n",
    "    for i in range(0,N):\n",
    "        for j in range(i+1,N):\n",
    "            distances[i,j] = calc_distance(agents[i], agents[j], scale)\n",
    "            distances[j,i] = distances[i,j]\n",
    "    return distances\n"
   ]
  },
  {
   "cell_type": "code",
   "execution_count": 12,
   "id": "guided-indication",
   "metadata": {},
   "outputs": [
    {
     "data": {
      "text/plain": [
       "(array([0.32902957, 1.00999584, 0.91628488, 2.08663057, 0.98708871,\n",
       "        1.80341524, 1.52019992, 0.58517284, 0.69762599, 0.06455643]),\n",
       " array([0. , 0.1, 0.2, 0.3, 0.4, 0.5, 0.6, 0.7, 0.8, 0.9, 1. ]),\n",
       " <BarContainer object of 10 artists>)"
      ]
     },
     "execution_count": 12,
     "metadata": {},
     "output_type": "execute_result"
    },
    {
     "data": {
      "image/png": "[encoded data removed]",
      "text/plain": [
       "<Figure size 432x288 with 1 Axes>"
      ]
     },
     "metadata": {
      "needs_background": "light"
     },
     "output_type": "display_data"
    }
   ],
   "source": [
    "dists = calc_distances(ord_attributes[1], 2)\n",
    "\n",
    "plt.hist(dists.flatten(), density=True)"
   ]
  },
  {
   "cell_type": "code",
   "execution_count": 13,
   "id": "timely-deficit",
   "metadata": {},
   "outputs": [
    {
     "data": {
      "text/plain": [
       "(array([[3., 1., 1., 1., 1., 1., 1., 1.],\n",
       "        [3., 1., 1., 1., 1., 1., 1., 1.],\n",
       "        [1., 3., 3., 3., 3., 3., 3., 3.]]),\n",
       " {'abortion_',\n",
       "  'deathpen_',\n",
       "  'euthanasia_',\n",
       "  'gaymarriage_',\n",
       "  'homosexual_',\n",
       "  'marijuana_',\n",
       "  'political_',\n",
       "  'premaritalsex_'})"
      ]
     },
     "execution_count": 13,
     "metadata": {},
     "output_type": "execute_result"
    }
   ],
   "source": [
    "ord_attributes[1][[53,79,94]], ord_list_of_attributes"
   ]
  },
  {
   "cell_type": "code",
   "execution_count": 14,
   "id": "early-address",
   "metadata": {},
   "outputs": [
    {
     "data": {
      "text/plain": [
       "array([[ 0.,  1.,  1., ..., -1., -1.,  1.],\n",
       "       [ 1.,  0., -1., ...,  1.,  1.,  1.],\n",
       "       [ 1., -1.,  0., ..., -1., -1.,  1.],\n",
       "       ...,\n",
       "       [-1.,  1., -1., ...,  0.,  1., -1.],\n",
       "       [-1.,  1., -1., ...,  1.,  0., -1.],\n",
       "       [ 1.,  1.,  1., ..., -1., -1.,  0.]])"
      ]
     },
     "execution_count": 14,
     "metadata": {},
     "output_type": "execute_result"
    }
   ],
   "source": [
    "(dists <= 0.5)*2-1-np.eye(dists.shape[0])"
   ]
  },
  {
   "cell_type": "code",
   "execution_count": 15,
   "id": "cultural-latex",
   "metadata": {},
   "outputs": [],
   "source": [
    "def calc_link_polarity2(agent1, agent2, th, attr_dif):\n",
    "    return calc_distance(agent1, agent2, attr_dif) <= th\n",
    "\n",
    "def calc_link_polarities2(agents, th, attr_dif):\n",
    "    N, A = agents.shape\n",
    "    \n",
    "    polarities = (calc_distances(agents, attr_dif) <= th)*2 - 1 - np.eye(N)\n",
    "    \n",
    "    return polarities\n",
    "\n",
    "def balanced_triad_density(polarities):\n",
    "    N = polarities.shape[0]\n",
    "    return (np.sum(np.matmul(polarities,polarities) * polarities) / 6 / (N*(N-1)*(N-2)/6) + 1)/2"
   ]
  },
  {
   "cell_type": "code",
   "execution_count": 16,
   "id": "interpreted-bahrain",
   "metadata": {},
   "outputs": [
    {
     "data": {
      "text/plain": [
       "0.7293682937092363"
      ]
     },
     "execution_count": 16,
     "metadata": {},
     "output_type": "execute_result"
    }
   ],
   "source": [
    "# polarities = calc_link_polarities2(dcor_attributes[1], 0.5)\n",
    "pol2 = calc_link_polarities2(ord_attributes[1], 0.5, 2)\n",
    "balanced_triad_density(pol2)"
   ]
  },
  {
   "cell_type": "code",
   "execution_count": 17,
   "id": "raised-mitchell",
   "metadata": {},
   "outputs": [],
   "source": [
    "def balanced_triad_density_network(polarities, triads):\n",
    "    T = len(triads)\n",
    "    dens = 0.\n",
    "    for triad in triads:\n",
    "        i, j, k = triad\n",
    "        if polarities[i,j]*polarities[i,k]*polarities[k,j] >= 0:\n",
    "            dens = dens + 1\n",
    "    dens = dens / T\n",
    "    return dens\n",
    "\n",
    "def get_triads_polarity(polarities, triads):\n",
    "    Ts = len(triads)\n",
    "    \n",
    "    t_pol = np.zeros(Ts) \n",
    "    t_pol_type = np.zeros(Ts)\n",
    "    \n",
    "    for t in range(0,Ts):\n",
    "        i, j, k = triads[t]\n",
    "        pols = [polarities[i,j], polarities[i,k], polarities[k,j]]\n",
    "        \n",
    "        t_pol_type[t] = 3-(sum(pols)+3)/2\n",
    "        \n",
    "        if polarities[i,j]*polarities[i,k]*polarities[k,j] >= 0:\n",
    "            t_pol[t] = 1\n",
    "        else:\n",
    "            t_pol[t] = -1\n",
    "    \n",
    "    return t_pol, t_pol_type\n",
    "\n",
    "def count_triads_types(polarities, triads):\n",
    "    t_pol, t_pol_type = get_triads_polarity(polarities, triads)\n",
    "    \n",
    "    t2 = np.array(t_pol_type)\n",
    "    triads_type = [sum(t2 == i) for i in range(0,4)]\n",
    "    \n",
    "    return triads_type\n"
   ]
  },
  {
   "cell_type": "code",
   "execution_count": 18,
   "id": "official-objective",
   "metadata": {},
   "outputs": [],
   "source": [
    "def get_triads(net):\n",
    "    A = nx.adjacency_matrix(net).todense() \n",
    "\n",
    "    N = A.shape[0]\n",
    "\n",
    "    triads = []\n",
    "\n",
    "    for i in range(0,N):\n",
    "        for j in range(i+1,N):\n",
    "            if A[i,j] > 0:\n",
    "                for k in range(j+1,N):\n",
    "                    if A[i,k] > 0 and A[j,k] > 0:\n",
    "                        triads.append((i,j,k))\n",
    "    \n",
    "    return triads\n",
    "\n",
    "def get_triads_strength(triads, net):\n",
    "    A = nx.adjacency_matrix(net).todense() \n",
    "\n",
    "    N = A.shape[0]\n",
    "    Ts = len(triads)\n",
    "    \n",
    "    s_mul = np.zeros(Ts) #multiplicative strength\n",
    "    s_add = np.zeros(Ts) #additive strength\n",
    "    \n",
    "    for t in range(0,Ts):\n",
    "        i, j, k = triads[t]\n",
    "        s_mul[t] = A[i,j] * A[i,k] * A[j,k]\n",
    "        s_add[t] = A[i,j] + A[i,k] + A[j,k]\n",
    "    \n",
    "    return s_mul, s_add"
   ]
  },
  {
   "cell_type": "code",
   "execution_count": 19,
   "id": "outside-interstate",
   "metadata": {},
   "outputs": [
    {
     "data": {
      "text/plain": [
       "(0.06666666666666667, 0.06435409215232485)"
      ]
     },
     "execution_count": 19,
     "metadata": {},
     "output_type": "execute_result"
    }
   ],
   "source": [
    "sem = 1\n",
    "triads = get_triads(data[sem])\n",
    "\n",
    "polarities = calc_link_polarities2(ord_attributes[sem], 0.1, 2)\n",
    "\n",
    "balanced_triad_density_network(polarities, triads), balanced_triad_density(polarities)"
   ]
  },
  {
   "cell_type": "code",
   "execution_count": 20,
   "id": "sitting-posting",
   "metadata": {},
   "outputs": [],
   "source": [
    "sem = 4\n",
    "triads = get_triads(data[sem])\n",
    "\n",
    "thetas = np.linspace(0,1,101)\n",
    "\n",
    "bals = np.zeros(len(thetas))\n",
    "all_bals = np.zeros(len(thetas))\n",
    "for i, theta in enumerate(thetas):\n",
    "    polarities = calc_link_polarities2(ord_attributes[sem], theta, 2)\n",
    "    bals[i] = balanced_triad_density_network(polarities, triads)\n",
    "    all_bals[i] = balanced_triad_density(polarities)\n"
   ]
  },
  {
   "cell_type": "code",
   "execution_count": 21,
   "id": "informal-batch",
   "metadata": {},
   "outputs": [
    {
     "data": {
      "text/plain": [
       "Text(0, 0.5, 'density of balanced triads')"
      ]
     },
     "execution_count": 21,
     "metadata": {},
     "output_type": "execute_result"
    },
    {
     "data": {
      "image/png": "[encoded data removed]",
      "text/plain": [
       "<Figure size 432x288 with 1 Axes>"
      ]
     },
     "metadata": {
      "needs_background": "light"
     },
     "output_type": "display_data"
    }
   ],
   "source": [
    "plt.plot(thetas, bals, thetas, all_bals)\n",
    "plt.legend([\"network\", \"all\"])\n",
    "plt.title(\"Comparing HBT in triads and all pairs of agents\")\n",
    "plt.xlabel(\"theta\")\n",
    "plt.ylabel(\"density of balanced triads\")"
   ]
  },
  {
   "cell_type": "markdown",
   "id": "conservative-support",
   "metadata": {},
   "source": [
    "# Randomizing triads in the whole network"
   ]
  },
  {
   "cell_type": "code",
   "execution_count": 22,
   "id": "herbal-interval",
   "metadata": {},
   "outputs": [],
   "source": [
    "def randomize_all_attributes(attr, randomized_agents = []):\n",
    "    N, A = attr.shape\n",
    "    \n",
    "    if len(randomized_agents) == 0:\n",
    "        randomized_agents = list(range(0,N))\n",
    "    \n",
    "    attr_rand = np.copy(attr)\n",
    "    \n",
    "    attr_copy = attr_rand[randomized_agents]\n",
    "    \n",
    "    np.random.shuffle(attr_copy)\n",
    "    \n",
    "    attr_rand[randomized_agents] = attr_copy\n",
    "    \n",
    "    return attr_rand\n",
    "\n",
    "def randomize_attribute_sets(ord_attributes):\n",
    "    rand_ord_attributes = dict((i, 0) for i in range(1,7))\n",
    "    \n",
    "    for sem in range(1,7):\n",
    "        rand_ord_attributes[sem] = randomize_all_attributes(ord_attributes[sem])\n",
    "    \n",
    "    return rand_ord_attributes\n",
    "\n",
    "def compare_bal_triads(triads, agents, th, attr_dif, M, randomized_agents = []):\n",
    "    \"\"\"\n",
    "    triads - list of sets of node ids forming a triad\n",
    "    agents - array of vectors of agent attributes\n",
    "    th - threshold used\n",
    "    attr_dif - max difference between attributes\n",
    "    M - number of times to repeat randomization\n",
    "    \"\"\"\n",
    "    polarities = calc_link_polarities2(agents, th, attr_dif)\n",
    "    bal_dens = balanced_triad_density_network(polarities, triads)\n",
    "    \n",
    "    bal_dens_rands = np.zeros(M)\n",
    "    \n",
    "    for i in range(0,M):\n",
    "        agents_rand = randomize_all_attributes(agents, randomized_agents)\n",
    "        polarities_rand = calc_link_polarities2(agents_rand, th, attr_dif)\n",
    "        bal_dens_rands[i] = balanced_triad_density_network(polarities_rand, triads)\n",
    "        \n",
    "    pval = np.sum(bal_dens_rands > bal_dens)\n",
    "    \n",
    "    return bal_dens_rands, bal_dens, pval\n",
    "\n",
    "def compare_networks(data, th, attr_dif, M):\n",
    "    pvals = np.zeros(6)\n",
    "    vals = np.zeros(6)\n",
    "    stds = np.zeros(6)\n",
    "    difs = np.zeros(6)\n",
    "    \n",
    "    for n in range(1,7):\n",
    "#         print(n)\n",
    "        net = data[n]\n",
    "        triads = get_triads(net)\n",
    "        agents = dcor_attributes[n]\n",
    "        \n",
    "        bal_dens_rands, bal_dens, pval = compare_bal_triads(triads, agents, th, attr_dif, M)\n",
    "        pvals[n-1] = pval\n",
    "        vals[n - 1] = bal_dens\n",
    "        difs[n-1] = np.mean(bal_dens - bal_dens_rands)\n",
    "        stds[n-1] = np.std(difs)\n",
    "    return pvals, vals, difs, stds\n",
    "\n",
    "def compare_weighted_network(net, agents, th, attr_dif, M):\n",
    "    polarities = calc_link_polarities2(agents, th, attr_dif)\n",
    "    U_data, pval_data = compare_weighted_links(net, polarities)\n",
    "    \n",
    "    U_rands = np.zeros(M)\n",
    "    pval_rands = np.zeros(M)\n",
    "    \n",
    "    for i in range(0,M):\n",
    "        agents_rand = randomize_all_attributes(agents)\n",
    "        polarities_rand = calc_link_polarities2(agents_rand, th, attr_dif)\n",
    "        U_rands[i], pval_rands[i] = compare_weighted_links(net, polarities_rand)\n",
    "    \n",
    "    pval_U = np.sum(U_rands >= U_data)\n",
    "    pval_pval = np.sum(pval_rands <= pval_data)\n",
    "    \n",
    "    return U_rands, pval_rands, pval_U, pval_pval\n",
    "\n",
    "def compare_weighted_networks(data, ord_attributes, th, attr_dif, M):\n",
    "    U_rands = np.zeros(M)\n",
    "    pval_rands = np.zeros(M)\n",
    "    \n",
    "    U_data, pval_data = compare_all_weighted_links(data, ord_attributes, th, attr_dif)\n",
    "    \n",
    "    for i in range(0,M):\n",
    "        rand_ord_attributes = randomize_attribute_sets(ord_attributes)\n",
    "        U_rands[i], pval_rands[i] = compare_all_weighted_links(data, rand_ord_attributes, th, attr_dif)\n",
    "    \n",
    "    pval_U = np.sum(U_rands >= U_data)\n",
    "    pval_pval = np.sum(pval_rands <= pval_data)\n",
    "    \n",
    "    return U_rands, pval_rands, pval_U, pval_pval"
   ]
  },
  {
   "cell_type": "code",
   "execution_count": 23,
   "id": "short-pursuit",
   "metadata": {},
   "outputs": [],
   "source": [
    "bal_dens_rands, bal_dens, pval = compare_bal_triads(triads, ord_attributes[sem], 0.5, 2, 100)"
   ]
  },
  {
   "cell_type": "code",
   "execution_count": 24,
   "id": "italic-stereo",
   "metadata": {},
   "outputs": [
    {
     "data": {
      "text/plain": [
       "(67, 0.06346153846153846, 67)"
      ]
     },
     "execution_count": 24,
     "metadata": {},
     "output_type": "execute_result"
    }
   ],
   "source": [
    "np.sum(bal_dens_rands > bal_dens), np.mean(bal_dens_rands) - bal_dens, pval"
   ]
  },
  {
   "cell_type": "code",
   "execution_count": 25,
   "id": "medium-spread",
   "metadata": {},
   "outputs": [],
   "source": [
    "sem = 1\n",
    "triads = get_triads(data[sem])\n",
    "\n",
    "thetas = np.linspace(0,1,15)\n",
    "\n",
    "bals = np.zeros(len(thetas))\n",
    "rand_bals_mean = np.zeros(len(thetas))\n",
    "rand_bals_std = np.zeros(len(thetas))\n",
    "pvals = np.zeros(len(thetas))\n",
    "for i, theta in enumerate(thetas):\n",
    "    rand_bal, bal, pval = compare_bal_triads(triads, ord_attributes[sem], theta, 2, 100)\n",
    "    rand_bals_mean[i] = np.mean(rand_bal)\n",
    "    rand_bals_std[i] = np.std(rand_bal)\n",
    "    bals[i] = bal\n",
    "    pvals[i] = pval\n"
   ]
  },
  {
   "cell_type": "code",
   "execution_count": 26,
   "id": "joined-eating",
   "metadata": {},
   "outputs": [
    {
     "data": {
      "text/plain": [
       "Text(0, 0.5, 'density of balanced triads')"
      ]
     },
     "execution_count": 26,
     "metadata": {},
     "output_type": "execute_result"
    },
    {
     "data": {
      "image/png": "[encoded data removed]",
      "text/plain": [
       "<Figure size 432x288 with 1 Axes>"
      ]
     },
     "metadata": {
      "needs_background": "light"
     },
     "output_type": "display_data"
    }
   ],
   "source": [
    "plt.plot(thetas, bals, 'ko')\n",
    "# plt.plot(thetas, rand_bals_mean)\n",
    "plt.fill_between(thetas, rand_bals_mean-rand_bals_std, rand_bals_mean+rand_bals_std)\n",
    "plt.legend([\"network\", \"mean\"])\n",
    "plt.title(\"Comparing HBT in triads and randomized all agents' sets of attributes\")\n",
    "plt.xlabel(\"theta\")\n",
    "plt.ylabel(\"density of balanced triads\")"
   ]
  },
  {
   "cell_type": "code",
   "execution_count": 27,
   "id": "possible-robin",
   "metadata": {},
   "outputs": [
    {
     "data": {
      "text/plain": [
       "(array([13., 27., 70., 46., 67., 37., 46., 31., 31., 27., 38.,  1., 13.,\n",
       "        66.,  0.]),\n",
       " 2)"
      ]
     },
     "execution_count": 27,
     "metadata": {},
     "output_type": "execute_result"
    }
   ],
   "source": [
    "pvals, 2"
   ]
  },
  {
   "cell_type": "code",
   "execution_count": 28,
   "id": "complicated-synthetic",
   "metadata": {},
   "outputs": [
    {
     "ename": "NameError",
     "evalue": "name 'dcor_attributes' is not defined",
     "output_type": "error",
     "traceback": [
      "\u001b[0;31m---------------------------------------------------------------------------\u001b[0m",
      "\u001b[0;31mNameError\u001b[0m                                 Traceback (most recent call last)",
      "\u001b[0;32m<ipython-input-28-078df0d2295b>\u001b[0m in \u001b[0;36m<module>\u001b[0;34m\u001b[0m\n\u001b[1;32m     19\u001b[0m \u001b[0;34m\u001b[0m\u001b[0m\n\u001b[1;32m     20\u001b[0m         \u001b[0;32mfor\u001b[0m \u001b[0mi\u001b[0m\u001b[0;34m,\u001b[0m \u001b[0mtheta\u001b[0m \u001b[0;32min\u001b[0m \u001b[0menumerate\u001b[0m\u001b[0;34m(\u001b[0m\u001b[0mthetas\u001b[0m\u001b[0;34m)\u001b[0m\u001b[0;34m:\u001b[0m\u001b[0;34m\u001b[0m\u001b[0;34m\u001b[0m\u001b[0m\n\u001b[0;32m---> 21\u001b[0;31m             \u001b[0mrand_bal\u001b[0m\u001b[0;34m,\u001b[0m \u001b[0mbal\u001b[0m\u001b[0;34m,\u001b[0m \u001b[0mpval\u001b[0m \u001b[0;34m=\u001b[0m \u001b[0mcompare_bal_triads\u001b[0m\u001b[0;34m(\u001b[0m\u001b[0mtriads\u001b[0m\u001b[0;34m,\u001b[0m \u001b[0mdcor_attributes\u001b[0m\u001b[0;34m[\u001b[0m\u001b[0msemm\u001b[0m\u001b[0;34m]\u001b[0m\u001b[0;34m,\u001b[0m \u001b[0mtheta\u001b[0m\u001b[0;34m,\u001b[0m \u001b[0mmax_dif3\u001b[0m\u001b[0;34m,\u001b[0m \u001b[0;36m100\u001b[0m\u001b[0;34m)\u001b[0m\u001b[0;34m\u001b[0m\u001b[0;34m\u001b[0m\u001b[0m\n\u001b[0m\u001b[1;32m     22\u001b[0m             \u001b[0mrand_bals_mean\u001b[0m\u001b[0;34m[\u001b[0m\u001b[0mi\u001b[0m\u001b[0;34m]\u001b[0m \u001b[0;34m=\u001b[0m \u001b[0mnp\u001b[0m\u001b[0;34m.\u001b[0m\u001b[0mmean\u001b[0m\u001b[0;34m(\u001b[0m\u001b[0mrand_bal\u001b[0m\u001b[0;34m)\u001b[0m\u001b[0;34m\u001b[0m\u001b[0;34m\u001b[0m\u001b[0m\n\u001b[1;32m     23\u001b[0m             \u001b[0mrand_bals_std\u001b[0m\u001b[0;34m[\u001b[0m\u001b[0mi\u001b[0m\u001b[0;34m]\u001b[0m \u001b[0;34m=\u001b[0m \u001b[0mnp\u001b[0m\u001b[0;34m.\u001b[0m\u001b[0mstd\u001b[0m\u001b[0;34m(\u001b[0m\u001b[0mrand_bal\u001b[0m\u001b[0;34m)\u001b[0m\u001b[0;34m\u001b[0m\u001b[0;34m\u001b[0m\u001b[0m\n",
      "\u001b[0;31mNameError\u001b[0m: name 'dcor_attributes' is not defined"
     ]
    },
    {
     "data": {
      "image/png": "[encoded data removed]",
      "text/plain": [
       "<Figure size 1440x720 with 6 Axes>"
      ]
     },
     "metadata": {
      "needs_background": "light"
     },
     "output_type": "display_data"
    }
   ],
   "source": [
    "dim1 = 2\n",
    "dim2 = 3\n",
    "thetas = np.linspace(0,1,11)\n",
    "pvals = dict((i, np.zeros(len(thetas))) for i in range(1,7))\n",
    "\n",
    "fig, axs = plt.subplots(dim1, dim2)\n",
    "fig.set_size_inches(20,10)\n",
    "fig.suptitle(\"Comparing HBT in triads and randomized all agents' sets of attributes\")\n",
    "\n",
    "semm = 0\n",
    "for a1 in range(0,dim1):\n",
    "    for a2 in range(0,dim2):\n",
    "        semm = semm + 1\n",
    "        triads = get_triads(data[semm])\n",
    "\n",
    "        bals = np.zeros(len(thetas))\n",
    "        rand_bals_mean = np.zeros(len(thetas))\n",
    "        rand_bals_std = np.zeros(len(thetas))\n",
    "        \n",
    "        for i, theta in enumerate(thetas):\n",
    "            rand_bal, bal, pval = compare_bal_triads(triads, dcor_attributes[semm], theta, max_dif3, 100)\n",
    "            rand_bals_mean[i] = np.mean(rand_bal)\n",
    "            rand_bals_std[i] = np.std(rand_bal)\n",
    "            bals[i] = bal\n",
    "            pvals[semm][i] = pval\n",
    "        \n",
    "        axs[a1, a2].set_title(\"sem=\" + str(semm))\n",
    "        axs[a1,a2].plot(thetas, bals, 'ko')\n",
    "        # plt.plot(thetas, rand_bals_mean)\n",
    "        axs[a1, a2].fill_between(thetas, rand_bals_mean-rand_bals_std, rand_bals_mean+rand_bals_std)\n",
    "        axs[a1, a2].legend([\"network\", \"mean\"])\n",
    "\n",
    "for ax in axs.flat:\n",
    "    ax.set(xlabel='theta', ylabel='density of balanced triads')\n",
    "\n",
    "# Hide x labels and tick labels for top plots and y ticks for right plots.\n",
    "for ax in axs.flat:\n",
    "    ax.label_outer()"
   ]
  },
  {
   "cell_type": "code",
   "execution_count": 75,
   "id": "impaired-hello",
   "metadata": {},
   "outputs": [
    {
     "data": {
      "text/plain": [
       "{1: array([ 8.,  8., 35., 43., 40., 49., 27., 53.,  0.,  0.,  0.]),\n",
       " 2: array([ 3.,  7., 19.,  9.,  0., 60., 63.,  0.,  0.,  0.,  0.]),\n",
       " 3: array([12., 10., 25.,  8., 33., 28.,  4.,  0.,  0.,  0.,  0.]),\n",
       " 4: array([ 6.,  8.,  3.,  5., 18., 21., 55., 99.,  0.,  0.,  0.]),\n",
       " 5: array([ 6., 10., 12., 18., 10., 55., 48.,  0.,  0.,  0.,  0.]),\n",
       " 6: array([ 9., 14.,  4., 19., 10., 17., 10.,  0.,  0.,  0.,  0.])}"
      ]
     },
     "execution_count": 75,
     "metadata": {},
     "output_type": "execute_result"
    }
   ],
   "source": [
    "pvals"
   ]
  },
  {
   "cell_type": "markdown",
   "id": "breathing-success",
   "metadata": {},
   "source": [
    "# Randomizing attributes only inside triads"
   ]
  },
  {
   "cell_type": "code",
   "execution_count": 76,
   "id": "massive-reduction",
   "metadata": {},
   "outputs": [],
   "source": [
    "sem = 1\n",
    "triads = get_triads(data[sem])"
   ]
  },
  {
   "cell_type": "code",
   "execution_count": 77,
   "id": "cutting-message",
   "metadata": {},
   "outputs": [],
   "source": [
    "from itertools import chain\n",
    "triad_agents = np.unique(list(chain.from_iterable(triads)))\n",
    "dcor_attributes[1][triad_agents];"
   ]
  },
  {
   "cell_type": "code",
   "execution_count": 78,
   "id": "younger-patch",
   "metadata": {},
   "outputs": [],
   "source": [
    "sem = 2\n",
    "triads = get_triads(data[sem])\n",
    "triad_agents = np.unique(list(chain.from_iterable(triads)))\n",
    "\n",
    "thetas = np.linspace(0,1,11)\n",
    "\n",
    "bals = np.zeros(len(thetas))\n",
    "rand_bals_mean = np.zeros(len(thetas))\n",
    "rand_bals_std = np.zeros(len(thetas))\n",
    "pvals_t = np.zeros(len(thetas))\n",
    "for i, theta in enumerate(thetas):\n",
    "    rand_bal, bal, pval = compare_bal_triads(triads, dcor_attributes[sem], theta, max_dif3, 100, triad_agents)\n",
    "    rand_bals_mean[i] = np.mean(rand_bal)\n",
    "    rand_bals_std[i] = np.std(rand_bal)\n",
    "    bals[i] = bal\n",
    "    pvals_t[i] = pval"
   ]
  },
  {
   "cell_type": "code",
   "execution_count": 79,
   "id": "mobile-single",
   "metadata": {},
   "outputs": [
    {
     "data": {
      "text/plain": [
       "Text(0, 0.5, 'density of balanced triads')"
      ]
     },
     "execution_count": 79,
     "metadata": {},
     "output_type": "execute_result"
    },
    {
     "data": {
      "image/png": "[encoded data removed]",
      "text/plain": [
       "<Figure size 432x288 with 1 Axes>"
      ]
     },
     "metadata": {
      "needs_background": "light"
     },
     "output_type": "display_data"
    }
   ],
   "source": [
    "plt.plot(thetas, bals, 'ko')\n",
    "# plt.plot(thetas, rand_bals_mean)\n",
    "plt.fill_between(thetas, rand_bals_mean-rand_bals_std, rand_bals_mean+rand_bals_std)\n",
    "plt.legend([\"network\", \"mean\"])\n",
    "plt.title(\"Comparing HBT in triads and randomized triad agents' sets of attributes\")\n",
    "plt.xlabel(\"theta\")\n",
    "plt.ylabel(\"density of balanced triads\")"
   ]
  },
  {
   "cell_type": "code",
   "execution_count": 80,
   "id": "willing-million",
   "metadata": {},
   "outputs": [
    {
     "data": {
      "text/plain": [
       "(array([ 3.,  4., 32.,  3.,  9., 79., 61.,  0.,  0.,  0.,  0.]),\n",
       " array([ 0,  1,  4,  5,  8,  9, 10, 11, 14, 15, 16, 20, 21, 22, 23, 24, 25,\n",
       "        26, 27, 28, 29, 30, 31, 32, 33, 34, 38, 39, 40, 41, 44, 45, 48, 51,\n",
       "        58, 66, 76]))"
      ]
     },
     "execution_count": 80,
     "metadata": {},
     "output_type": "execute_result"
    }
   ],
   "source": [
    "pvals_t, triad_agents"
   ]
  },
  {
   "cell_type": "code",
   "execution_count": 81,
   "id": "grand-resolution",
   "metadata": {},
   "outputs": [
    {
     "data": {
      "image/png": "[encoded data removed]",
      "text/plain": [
       "<Figure size 1440x720 with 6 Axes>"
      ]
     },
     "metadata": {
      "needs_background": "light"
     },
     "output_type": "display_data"
    }
   ],
   "source": [
    "dim1 = 2\n",
    "dim2 = 3\n",
    "thetas = np.linspace(0,1,21)\n",
    "pvals_t = dict((i, np.zeros(len(thetas))) for i in range(1,7))\n",
    "\n",
    "fig, axs = plt.subplots(dim1, dim2)\n",
    "fig.set_size_inches(20,10)\n",
    "fig.suptitle(\"Comparing HBT in triads and randomized triad agents' sets of attributes\")\n",
    "\n",
    "semm = 0\n",
    "for a1 in range(0,dim1):\n",
    "    for a2 in range(0,dim2):\n",
    "        semm = semm + 1\n",
    "        triads = get_triads(data[semm])\n",
    "        triad_agents = np.unique(list(chain.from_iterable(triads)))\n",
    "\n",
    "        bals = np.zeros(len(thetas))\n",
    "        rand_bals_mean = np.zeros(len(thetas))\n",
    "        rand_bals_std = np.zeros(len(thetas))\n",
    "        \n",
    "        for i, theta in enumerate(thetas):\n",
    "            rand_bal, bal, pval = compare_bal_triads(triads, dcor_attributes[semm], theta, max_dif3, 100, triad_agents)\n",
    "            rand_bals_mean[i] = np.mean(rand_bal)\n",
    "            rand_bals_std[i] = np.std(rand_bal)\n",
    "            bals[i] = bal\n",
    "            pvals_t[semm][i] = pval\n",
    "        \n",
    "        axs[a1, a2].set_title(\"sem=\" + str(semm))\n",
    "        axs[a1,a2].plot(thetas, bals, 'ko')\n",
    "        # plt.plot(thetas, rand_bals_mean)\n",
    "        axs[a1, a2].fill_between(thetas, rand_bals_mean-rand_bals_std, rand_bals_mean+rand_bals_std)\n",
    "        axs[a1, a2].legend([\"network\", \"mean\"])\n",
    "\n",
    "for ax in axs.flat:\n",
    "    ax.set(xlabel='theta', ylabel='density of balanced triads')\n",
    "\n",
    "# Hide x labels and tick labels for top plots and y ticks for right plots.\n",
    "for ax in axs.flat:\n",
    "    ax.label_outer()"
   ]
  },
  {
   "cell_type": "code",
   "execution_count": 82,
   "id": "verbal-logging",
   "metadata": {
    "scrolled": true
   },
   "outputs": [
    {
     "data": {
      "text/plain": [
       "{1: array([19., 16., 14., 20., 21., 21., 27., 35., 22., 16., 46.,  4., 23.,\n",
       "         9., 37.,  0.,  0.,  0.,  0.,  0.,  0.]),\n",
       " 2: array([ 5.,  4.,  7.,  2., 22., 17.,  3.,  6.,  9., 46., 74., 75., 64.,\n",
       "        91.,  0.,  0.,  0.,  0.,  0.,  0.,  0.]),\n",
       " 3: array([24., 35., 26., 37., 34., 30.,  4., 17., 29., 93., 25., 11.,  1.,\n",
       "        73.,  0.,  0.,  0.,  0.,  0.,  0.,  0.]),\n",
       " 4: array([ 1.,  2.,  2.,  8.,  2.,  7.,  5.,  0., 21., 36., 20.,  1., 48.,\n",
       "        93., 96.,  0.,  0.,  0.,  0.,  0.,  0.]),\n",
       " 5: array([18., 17., 13., 20., 32., 13., 52., 49., 30., 12., 54., 70., 56.,\n",
       "        64.,  0.,  0.,  0.,  0.,  0.,  0.,  0.]),\n",
       " 6: array([31., 33., 30., 38., 19., 12., 47., 36., 33., 49., 30.,  9.,  8.,\n",
       "        38.,  0.,  0.,  0.,  0.,  0.,  0.,  0.])}"
      ]
     },
     "execution_count": 82,
     "metadata": {},
     "output_type": "execute_result"
    }
   ],
   "source": [
    "pvals_t"
   ]
  },
  {
   "cell_type": "code",
   "execution_count": 83,
   "id": "fabulous-pipeline",
   "metadata": {},
   "outputs": [],
   "source": [
    "sem = 2\n",
    "triads = get_triads(data[sem])\n",
    "triad_agents = np.unique(list(chain.from_iterable(triads)))"
   ]
  },
  {
   "cell_type": "code",
   "execution_count": 84,
   "id": "amino-knock",
   "metadata": {},
   "outputs": [
    {
     "data": {
      "text/plain": [
       "[43, 37, 22, 41, 30, 23]"
      ]
     },
     "execution_count": 84,
     "metadata": {},
     "output_type": "execute_result"
    }
   ],
   "source": [
    "[len(np.unique(list(chain.from_iterable(get_triads(data[sem]))))) for sem in range(1,7)]"
   ]
  },
  {
   "cell_type": "code",
   "execution_count": 85,
   "id": "complete-mercury",
   "metadata": {},
   "outputs": [
    {
     "data": {
      "text/plain": [
       "[45, 26, 9, 26, 20, 12]"
      ]
     },
     "execution_count": 85,
     "metadata": {},
     "output_type": "execute_result"
    }
   ],
   "source": [
    "[len(get_triads(data[sem])) for sem in range(1,7)]"
   ]
  },
  {
   "cell_type": "markdown",
   "id": "formal-ethics",
   "metadata": {},
   "source": [
    "# A8"
   ]
  },
  {
   "cell_type": "code",
   "execution_count": null,
   "id": "comparable-manor",
   "metadata": {},
   "outputs": [],
   "source": [
    "#funkcja Asi\n",
    "\n",
    "def konwolucyjne_pstwa_per_sem(pstwa_distances_for_single_opinion):\n",
    "    con_pe={}\n",
    "    con_dg={}\n",
    "    con_mp={}\n",
    "    con_ah={}\n",
    "    con_pedg={}\n",
    "    con_mpah={}\n",
    "    con_all={}\n",
    "    \n",
    "    for sem in range(0,7):\n",
    "        con_pe[sem]= np.convolve(pstwa_distances_for_single_opinion['premaritalsex_'][sem],pstwa_distances_for_single_opinion['euthanasia_'][sem])\n",
    "        con_dg[sem]= np.convolve(pstwa_distances_for_single_opinion['deathpen_'][sem],pstwa_distances_for_single_opinion['gaymarriage_'][sem])\n",
    "        con_mp[sem]= np.convolve(pstwa_distances_for_single_opinion['marijuana_'][sem],pstwa_distances_for_single_opinion['political_'][sem])\n",
    "        con_ah[sem]= np.convolve(pstwa_distances_for_single_opinion['abortion_'][sem],pstwa_distances_for_single_opinion['homosexual_'][sem])\n",
    "\n",
    "        con_pedg[sem]=np.convolve(con_pe[sem],con_dg[sem])\n",
    "        con_mpah[sem]=np.convolve(con_mp[sem], con_ah[sem])\n",
    "\n",
    "        con_all[sem] = np.convolve(con_pedg[sem] , con_mpah[sem])\n",
    "    distances=[x/16 for x in range(0,17)]\n",
    "\n",
    "    distances_distr=np.zeros((7,len(distances),2))\n",
    "    for sem in range(0,7):\n",
    "        for x in range(len(distances)):\n",
    "            distances_distr[sem][x][0]=distances[x]\n",
    "            distances_distr[sem][x][1]=con_all[sem][x]\n",
    "\n",
    "    progi = [x/8 for x in range(0,9)]\n",
    "    distance_pstwa=dict() #np.zeros((len(progi),2)) #wlasciwie to dystrybuanta\n",
    "\n",
    "    for sem in range(0,7):\n",
    "        distance_pstwa[sem]={}\n",
    "        for x in range(len(progi)):\n",
    "             distance_pstwa[sem][progi[x]]=distances_distr[sem][distances_distr[sem][:,0]<=progi[x]].sum(0)[1]\n",
    "    return (distances_distr, distance_pstwa)\n",
    "  \n"
   ]
  },
  {
   "cell_type": "code",
   "execution_count": 11,
   "id": "heard-bumper",
   "metadata": {},
   "outputs": [
    {
     "data": {
      "text/plain": [
       "array([[[0., 0.],\n",
       "        [0., 0.],\n",
       "        [0., 0.],\n",
       "        [0., 0.],\n",
       "        [0., 0.],\n",
       "        [0., 0.],\n",
       "        [0., 0.],\n",
       "        [0., 0.],\n",
       "        [0., 0.],\n",
       "        [0., 0.],\n",
       "        [0., 0.],\n",
       "        [0., 0.],\n",
       "        [0., 0.],\n",
       "        [0., 0.],\n",
       "        [0., 0.],\n",
       "        [0., 0.],\n",
       "        [0., 0.]],\n",
       "\n",
       "       [[0., 0.],\n",
       "        [0., 0.],\n",
       "        [0., 0.],\n",
       "        [0., 0.],\n",
       "        [0., 0.],\n",
       "        [0., 0.],\n",
       "        [0., 0.],\n",
       "        [0., 0.],\n",
       "        [0., 0.],\n",
       "        [0., 0.],\n",
       "        [0., 0.],\n",
       "        [0., 0.],\n",
       "        [0., 0.],\n",
       "        [0., 0.],\n",
       "        [0., 0.],\n",
       "        [0., 0.],\n",
       "        [0., 0.]],\n",
       "\n",
       "       [[0., 0.],\n",
       "        [0., 0.],\n",
       "        [0., 0.],\n",
       "        [0., 0.],\n",
       "        [0., 0.],\n",
       "        [0., 0.],\n",
       "        [0., 0.],\n",
       "        [0., 0.],\n",
       "        [0., 0.],\n",
       "        [0., 0.],\n",
       "        [0., 0.],\n",
       "        [0., 0.],\n",
       "        [0., 0.],\n",
       "        [0., 0.],\n",
       "        [0., 0.],\n",
       "        [0., 0.],\n",
       "        [0., 0.]],\n",
       "\n",
       "       [[0., 0.],\n",
       "        [0., 0.],\n",
       "        [0., 0.],\n",
       "        [0., 0.],\n",
       "        [0., 0.],\n",
       "        [0., 0.],\n",
       "        [0., 0.],\n",
       "        [0., 0.],\n",
       "        [0., 0.],\n",
       "        [0., 0.],\n",
       "        [0., 0.],\n",
       "        [0., 0.],\n",
       "        [0., 0.],\n",
       "        [0., 0.],\n",
       "        [0., 0.],\n",
       "        [0., 0.],\n",
       "        [0., 0.]],\n",
       "\n",
       "       [[0., 0.],\n",
       "        [0., 0.],\n",
       "        [0., 0.],\n",
       "        [0., 0.],\n",
       "        [0., 0.],\n",
       "        [0., 0.],\n",
       "        [0., 0.],\n",
       "        [0., 0.],\n",
       "        [0., 0.],\n",
       "        [0., 0.],\n",
       "        [0., 0.],\n",
       "        [0., 0.],\n",
       "        [0., 0.],\n",
       "        [0., 0.],\n",
       "        [0., 0.],\n",
       "        [0., 0.],\n",
       "        [0., 0.]],\n",
       "\n",
       "       [[0., 0.],\n",
       "        [0., 0.],\n",
       "        [0., 0.],\n",
       "        [0., 0.],\n",
       "        [0., 0.],\n",
       "        [0., 0.],\n",
       "        [0., 0.],\n",
       "        [0., 0.],\n",
       "        [0., 0.],\n",
       "        [0., 0.],\n",
       "        [0., 0.],\n",
       "        [0., 0.],\n",
       "        [0., 0.],\n",
       "        [0., 0.],\n",
       "        [0., 0.],\n",
       "        [0., 0.],\n",
       "        [0., 0.]],\n",
       "\n",
       "       [[0., 0.],\n",
       "        [0., 0.],\n",
       "        [0., 0.],\n",
       "        [0., 0.],\n",
       "        [0., 0.],\n",
       "        [0., 0.],\n",
       "        [0., 0.],\n",
       "        [0., 0.],\n",
       "        [0., 0.],\n",
       "        [0., 0.],\n",
       "        [0., 0.],\n",
       "        [0., 0.],\n",
       "        [0., 0.],\n",
       "        [0., 0.],\n",
       "        [0., 0.],\n",
       "        [0., 0.],\n",
       "        [0., 0.]]])"
      ]
     },
     "execution_count": 11,
     "metadata": {},
     "output_type": "execute_result"
    }
   ],
   "source": [
    "distances=[x/16 for x in range(0,17)]\n",
    "distances_distr=np.zeros((7,len(distances),2))\n",
    "distances_distr"
   ]
  },
  {
   "cell_type": "code",
   "execution_count": 42,
   "id": "automatic-generator",
   "metadata": {},
   "outputs": [
    {
     "data": {
      "text/plain": [
       "98"
      ]
     },
     "execution_count": 42,
     "metadata": {},
     "output_type": "execute_result"
    }
   ],
   "source": [
    "len(ord_attributes[1])"
   ]
  },
  {
   "cell_type": "code",
   "execution_count": 53,
   "id": "miniature-title",
   "metadata": {},
   "outputs": [],
   "source": [
    "def epdf(single_attribute_values):\n",
    "    \"\"\"\n",
    "    Get empirical PDF of attributes. \n",
    "    \"\"\"\n",
    "    N = len(single_attribute_values)\n",
    "    return np.array([np.sum(single_attribute_values==i) for i in range(1,4)]) / N\n",
    "\n",
    "def get_single_dist_prob(pdf_attr):\n",
    "    \"\"\"\n",
    "    Calcs p_t(\\Delta_t) from the main paper. \n",
    "    As as input there should be EPDF that a given attribute has value 1, 2 or 3. \n",
    "    \"\"\"\n",
    "    return np.sum(pdf_attr**2), 2*pdf_attr[0]*pdf_attr[1] + 2*pdf_attr[2]*pdf_attr[1], 2*pdf_attr[0]*pdf_attr[2]\n",
    "\n",
    "def get_single_dist_probs(pdfs_attr):\n",
    "    \"\"\"\n",
    "    Calcs p_t(\\Delta_t) from the main paper. \n",
    "    As as input there should be EPDF that a given attribute has value 1, 2 or 3. \n",
    "    There should number of attribute EPDFs for given semester. \n",
    "    \"\"\"\n",
    "    G = len(pdfs_attr)\n",
    "    return np.array([get_single_dist_prob(pdfs_attr[i]) for i in range(0,G)])\n",
    "\n",
    "def convolve_all(dists):\n",
    "    G = len(dists)\n",
    "    \n",
    "    con = np.convolve(dists[0], dists[1])\n",
    "    \n",
    "    for i in range(2,G):\n",
    "        con = np.convolve(con, dists[i])\n",
    "    \n",
    "    return con\n",
    "\n",
    "def get_convolved_probs(attrs):\n",
    "    \"\"\"\n",
    "    Author: A. Linczuk, P. Górski\n",
    "    \"\"\"\n",
    "    con_all = {}\n",
    "    \n",
    "    for sem in range(1,7):\n",
    "        epdfs = np.array([epdf(ord_attributes[sem][:,i]) for i in range(0,len(ord_list_of_attributes))])\n",
    "        dist_probs = get_single_dist_probs(epdfs)\n",
    "        \n",
    "        con_all[sem] = convolve_all(dist_probs)\n",
    "    \n",
    "    distances=np.array([x/16 for x in range(0,17)])\n",
    "\n",
    "#     distances_distr=np.zeros((7,len(distances),2))\n",
    "#     for sem in range(0,7):\n",
    "#         for x in range(len(distances)):\n",
    "#             distances_distr[sem][x][0]=distances[x]\n",
    "#             distances_distr[sem][x][1]=con_all[sem][x]\n",
    "\n",
    "#     progi = [x/8 for x in range(0,9)]\n",
    "#     distance_pstwa=dict() #np.zeros((len(progi),2)) #wlasciwie to dystrybuanta\n",
    "\n",
    "#     for sem in range(0,7):\n",
    "#         distance_pstwa[sem]={}\n",
    "#         for x in range(len(progi)):\n",
    "#              distance_pstwa[sem][progi[x]]=distances_distr[sem][distances_distr[sem][:,0]<=progi[x]].sum(0)[1]\n",
    "    return (distances, con_all)\n",
    "\n",
    "def get_epdf(distances, convolved_prob, sem = 0):\n",
    "    if sem > 0:\n",
    "        return np.array([np.sum(convolved_prob[sem][distances <= x]) for x in distances])\n",
    "    else:\n",
    "        epdfs = {}\n",
    "        for sem in range(1,7):\n",
    "            epdfs[sem] = get_epdf(distances, convolved_prob, sem)\n",
    "        return epdfs\n",
    "\n",
    "def get_ecdf_rho(distances, convolved_prob, th):\n",
    "    ecdf = get_epdf(distances, {1: convolved_prob}, sem = 1)\n",
    "    ind = np.where(distances <= th)[0][-1]\n",
    "    return convolved_prob[ind]"
   ]
  },
  {
   "cell_type": "code",
   "execution_count": 44,
   "id": "caring-husband",
   "metadata": {},
   "outputs": [
    {
     "data": {
      "text/plain": [
       "array([0., 0., 0.])"
      ]
     },
     "execution_count": 44,
     "metadata": {},
     "output_type": "execute_result"
    }
   ],
   "source": [
    "pdf_attr = epdf(ord_attributes[1][:,1])\n",
    "np.array([np.sum(pdf_attr**2), 2*pdf_attr[0]*pdf_attr[1] + 2*pdf_attr[2]*pdf_attr[1], 2*pdf_attr[0]*pdf_attr[2]]) - get_single_dist_prob(pdf_attr)"
   ]
  },
  {
   "cell_type": "code",
   "execution_count": 45,
   "id": "fewer-minnesota",
   "metadata": {},
   "outputs": [
    {
     "data": {
      "text/plain": [
       "array([[0.35714286, 0.16326531, 0.47959184],\n",
       "       [0.54081633, 0.25510204, 0.20408163],\n",
       "       [0.52040816, 0.18367347, 0.29591837],\n",
       "       [0.42857143, 0.07142857, 0.5       ],\n",
       "       [0.6122449 , 0.06122449, 0.32653061],\n",
       "       [0.33673469, 0.06122449, 0.60204082],\n",
       "       [0.51020408, 0.20408163, 0.28571429],\n",
       "       [0.29591837, 0.2244898 , 0.47959184]])"
      ]
     },
     "execution_count": 45,
     "metadata": {},
     "output_type": "execute_result"
    }
   ],
   "source": [
    "epdfs = np.array([epdf(ord_attributes[1][:,i]) for i in range(0,len(ord_list_of_attributes))])\n",
    "epdfs"
   ]
  },
  {
   "cell_type": "code",
   "execution_count": 46,
   "id": "exterior-monaco",
   "metadata": {},
   "outputs": [],
   "source": [
    "dist_probs = get_single_dist_probs(epdfs)"
   ]
  },
  {
   "cell_type": "code",
   "execution_count": 47,
   "id": "modular-officer",
   "metadata": {},
   "outputs": [
    {
     "data": {
      "text/plain": [
       "array([0.06014539, 0.14602438, 0.25133723, 0.25084984, 0.18700263,\n",
       "       0.08135033, 0.02329021])"
      ]
     },
     "execution_count": 47,
     "metadata": {},
     "output_type": "execute_result"
    }
   ],
   "source": [
    "np.convolve(np.convolve(dist_probs[0], dist_probs[1]), dist_probs[2])"
   ]
  },
  {
   "cell_type": "code",
   "execution_count": 48,
   "id": "derived-uncertainty",
   "metadata": {},
   "outputs": [
    {
     "data": {
      "text/plain": [
       "array([0.06014539, 0.14602438, 0.25133723, 0.25084984, 0.18700263,\n",
       "       0.08135033, 0.02329021])"
      ]
     },
     "execution_count": 48,
     "metadata": {},
     "output_type": "execute_result"
    }
   ],
   "source": [
    "convolve_all(dist_probs[0:3])"
   ]
  },
  {
   "cell_type": "code",
   "execution_count": 49,
   "id": "expensive-seventh",
   "metadata": {},
   "outputs": [],
   "source": [
    "distances, convolved_probs = get_convolved_probs(ord_attributes);"
   ]
  },
  {
   "cell_type": "code",
   "execution_count": 50,
   "id": "lonely-bookmark",
   "metadata": {},
   "outputs": [
    {
     "data": {
      "text/plain": [
       "[0.0008668263958049801,\n",
       " 0.005200890322583669,\n",
       " 0.019936940422026168,\n",
       " 0.0551004590526768,\n",
       " 0.12280314375324818,\n",
       " 0.22869748695760722,\n",
       " 0.3692559642694096,\n",
       " 0.5273307569113448,\n",
       " 0.6807898198679141,\n",
       " 0.8082983119931162,\n",
       " 0.8996300263587849,\n",
       " 0.9549907127207249,\n",
       " 0.9833276840381975,\n",
       " 0.9950836610098894,\n",
       " 0.9989669942441818,\n",
       " 0.9998660942772433,\n",
       " 1.0]"
      ]
     },
     "execution_count": 50,
     "metadata": {},
     "output_type": "execute_result"
    }
   ],
   "source": [
    "[np.sum(convolved_probs[1][distances <= x]) for x in distances]"
   ]
  },
  {
   "cell_type": "code",
   "execution_count": 51,
   "id": "addressed-synthetic",
   "metadata": {},
   "outputs": [
    {
     "data": {
      "text/plain": [
       "array([8.66826396e-04, 4.33406393e-03, 1.47360501e-02, 3.51635186e-02,\n",
       "       6.77026847e-02, 1.05894343e-01, 1.40558477e-01, 1.58074793e-01,\n",
       "       1.53459063e-01, 1.27508492e-01, 9.13317144e-02, 5.53606864e-02,\n",
       "       2.83369713e-02, 1.17559770e-02, 3.88333323e-03, 8.99100033e-04,\n",
       "       1.33905723e-04])"
      ]
     },
     "execution_count": 51,
     "metadata": {},
     "output_type": "execute_result"
    }
   ],
   "source": [
    "convolved_probs[1]"
   ]
  },
  {
   "cell_type": "code",
   "execution_count": 54,
   "id": "acute-consequence",
   "metadata": {},
   "outputs": [
    {
     "ename": "TypeError",
     "evalue": "get_epdf() takes 1 positional argument but 3 were given",
     "output_type": "error",
     "traceback": [
      "\u001b[0;31m---------------------------------------------------------------------------\u001b[0m",
      "\u001b[0;31mTypeError\u001b[0m                                 Traceback (most recent call last)",
      "\u001b[0;32m<ipython-input-54-1f105f26a502>\u001b[0m in \u001b[0;36m<module>\u001b[0;34m\u001b[0m\n\u001b[0;32m----> 1\u001b[0;31m \u001b[0mecdfs\u001b[0m \u001b[0;34m=\u001b[0m \u001b[0mget_ecdf\u001b[0m\u001b[0;34m(\u001b[0m\u001b[0mdistances\u001b[0m\u001b[0;34m,\u001b[0m \u001b[0mconvolved_probs\u001b[0m\u001b[0;34m,\u001b[0m \u001b[0;36m0\u001b[0m\u001b[0;34m)\u001b[0m\u001b[0;34m\u001b[0m\u001b[0;34m\u001b[0m\u001b[0m\n\u001b[0m",
      "\u001b[0;32m<ipython-input-53-be43d57d9f71>\u001b[0m in \u001b[0;36mget_ecdf\u001b[0;34m(distances, convolved_prob, sem)\u001b[0m\n\u001b[1;32m     67\u001b[0m         \u001b[0mepdfs\u001b[0m \u001b[0;34m=\u001b[0m \u001b[0;34m{\u001b[0m\u001b[0;34m}\u001b[0m\u001b[0;34m\u001b[0m\u001b[0;34m\u001b[0m\u001b[0m\n\u001b[1;32m     68\u001b[0m         \u001b[0;32mfor\u001b[0m \u001b[0msem\u001b[0m \u001b[0;32min\u001b[0m \u001b[0mrange\u001b[0m\u001b[0;34m(\u001b[0m\u001b[0;36m1\u001b[0m\u001b[0;34m,\u001b[0m\u001b[0;36m7\u001b[0m\u001b[0;34m)\u001b[0m\u001b[0;34m:\u001b[0m\u001b[0;34m\u001b[0m\u001b[0;34m\u001b[0m\u001b[0m\n\u001b[0;32m---> 69\u001b[0;31m             \u001b[0mepdfs\u001b[0m\u001b[0;34m[\u001b[0m\u001b[0msem\u001b[0m\u001b[0;34m]\u001b[0m \u001b[0;34m=\u001b[0m \u001b[0mget_epdf\u001b[0m\u001b[0;34m(\u001b[0m\u001b[0mdistances\u001b[0m\u001b[0;34m,\u001b[0m \u001b[0mconvolved_prob\u001b[0m\u001b[0;34m,\u001b[0m \u001b[0msem\u001b[0m\u001b[0;34m)\u001b[0m\u001b[0;34m\u001b[0m\u001b[0;34m\u001b[0m\u001b[0m\n\u001b[0m\u001b[1;32m     70\u001b[0m         \u001b[0;32mreturn\u001b[0m \u001b[0mepdfs\u001b[0m\u001b[0;34m\u001b[0m\u001b[0;34m\u001b[0m\u001b[0m\n\u001b[1;32m     71\u001b[0m \u001b[0;34m\u001b[0m\u001b[0m\n",
      "\u001b[0;31mTypeError\u001b[0m: get_epdf() takes 1 positional argument but 3 were given"
     ]
    }
   ],
   "source": [
    "ecdfs = get_ecdf(distances, convolved_probs, 0)"
   ]
  },
  {
   "cell_type": "code",
   "execution_count": 148,
   "id": "unusual-holocaust",
   "metadata": {},
   "outputs": [
    {
     "data": {
      "text/plain": [
       "(0.7111111111111111, 0.49106024430717315)"
      ]
     },
     "execution_count": 148,
     "metadata": {},
     "output_type": "execute_result"
    }
   ],
   "source": [
    "sem = 1\n",
    "th = 0.4\n",
    "\n",
    "polarities = calc_link_polarities2(ord_attributes[sem], th, 2)\n",
    "N = polarities.shape[0]\n",
    "\n",
    "rho = get_ecdf_rho(distances, ecdfs[sem], th)\n",
    "\n",
    "prob_balanced = np.power(rho,3) + 3*rho*np.power(1-rho,2)\n",
    "\n",
    "triads = get_triads(data[sem])\n",
    "balanced_triad_density_network(polarities, triads), prob_balanced"
   ]
  },
  {
   "cell_type": "code",
   "execution_count": 146,
   "id": "balanced-sustainability",
   "metadata": {},
   "outputs": [
    {
     "data": {
      "text/plain": [
       "6"
      ]
     },
     "execution_count": 146,
     "metadata": {},
     "output_type": "execute_result"
    }
   ],
   "source": []
  },
  {
   "cell_type": "code",
   "execution_count": 150,
   "id": "judicial-healing",
   "metadata": {},
   "outputs": [
    {
     "data": {
      "image/png": "[encoded data removed]",
      "text/plain": [
       "<Figure size 1440x720 with 6 Axes>"
      ]
     },
     "metadata": {
      "needs_background": "light"
     },
     "output_type": "display_data"
    }
   ],
   "source": [
    "dim1 = 2\n",
    "dim2 = 3\n",
    "thetas = np.linspace(0,1,101)\n",
    "\n",
    "fig, axs = plt.subplots(dim1, dim2)\n",
    "fig.set_size_inches(20,10)\n",
    "fig.suptitle(\"Model E_8\")\n",
    "\n",
    "semm = 0\n",
    "for a1 in range(0,dim1):\n",
    "    for a2 in range(0,dim2):\n",
    "        semm = semm + 1\n",
    "        \n",
    "        prob_bals = np.zeros(len(thetas))\n",
    "        bals = np.zeros(len(thetas))\n",
    "        \n",
    "        for i, theta in enumerate(thetas):\n",
    "            polarities = calc_link_polarities2(ord_attributes[semm], theta, 2)\n",
    "            \n",
    "#             N = polarities.shape[0]\n",
    "            rho = get_ecdf_rho(distances, ecdfs[semm], theta)\n",
    "            prob_bals[i] = np.power(rho,3) + 3*rho*np.power(1-rho,2)\n",
    "            \n",
    "            triads = get_triads(data[semm])\n",
    "            bals[i] = balanced_triad_density_network(polarities, triads)\n",
    "        \n",
    "        axs[a1, a2].set_title(\"sem=\" + str(semm))\n",
    "        axs[a1,a2].plot(thetas, bals, thetas, prob_bals)\n",
    "        # plt.plot(thetas, rand_bals_mean)\n",
    "        axs[a1, a2].legend([\"data\", \"model\"])\n",
    "\n",
    "for ax in axs.flat:\n",
    "    ax.set(xlabel='theta', ylabel='density of balanced triads')\n",
    "\n",
    "# Hide x labels and tick labels for top plots and y ticks for right plots.\n",
    "for ax in axs.flat:\n",
    "    ax.label_outer()"
   ]
  },
  {
   "cell_type": "markdown",
   "id": "about-lawyer",
   "metadata": {},
   "source": [
    "Analiza statystyczna powyższego"
   ]
  },
  {
   "cell_type": "code",
   "execution_count": 158,
   "id": "considerable-procurement",
   "metadata": {},
   "outputs": [],
   "source": [
    "np.random.shuffle(ord_attributes[1][:,1])"
   ]
  },
  {
   "cell_type": "code",
   "execution_count": 159,
   "id": "deluxe-contract",
   "metadata": {},
   "outputs": [
    {
     "data": {
      "text/plain": [
       "array([1., 3., 3., 1., 1., 3., 3., 3., 1., 2., 3., 3., 3., 2., 3., 2., 3.,\n",
       "       1., 1., 1., 3., 3., 1., 1., 3., 3., 1., 1., 1., 1., 2., 1., 1., 1.,\n",
       "       3., 2., 3., 1., 2., 1., 1., 3., 3., 3., 3., 1., 3., 1., 3., 1., 1.,\n",
       "       1., 3., 3., 3., 1., 2., 3., 3., 1., 3., 3., 1., 1., 3., 3., 1., 1.,\n",
       "       3., 1., 1., 3., 3., 3., 1., 3., 3., 1., 1., 3., 1., 3., 3., 1., 3.,\n",
       "       1., 3., 1., 3., 1., 3., 3., 1., 3., 3., 3., 1., 3.])"
      ]
     },
     "execution_count": 159,
     "metadata": {},
     "output_type": "execute_result"
    }
   ],
   "source": [
    "ord_attributes[1][:,1]"
   ]
  },
  {
   "cell_type": "code",
   "execution_count": 55,
   "id": "posted-matrix",
   "metadata": {},
   "outputs": [],
   "source": [
    "def randomize_attributes(attr):\n",
    "    N, A = attr.shape\n",
    "    \n",
    "    attr_copy = np.copy(attr)\n",
    "    for i in range(0,A):\n",
    "        np.random.shuffle(attr_copy[:,i])\n",
    "    \n",
    "    return attr_copy\n",
    "\n",
    "def randomize_all_attributes(attr):\n",
    "    attrs_copy = {}\n",
    "    for sem in range(1,len(attr)+1):\n",
    "        attrs_copy[sem] = randomize_attributes(attr[sem])\n",
    "    return attrs_copy\n",
    "\n",
    "def calc_pval_A8(triads, agents, th, attr_dif, M):\n",
    "    \"\"\"\n",
    "    triads - list of sets of node ids forming a triad\n",
    "    agents - array of vectors of agent attributes\n",
    "    th - threshold used\n",
    "    attr_dif - max difference between attributes\n",
    "    M - number of times to repeat randomization\n",
    "    \"\"\"\n",
    "    polarities = calc_link_polarities2(agents, th, attr_dif)\n",
    "    bal_dens = balanced_triad_density_network(polarities, triads)\n",
    "    \n",
    "#     N = polarities.shape[0]\n",
    "#     rho = np.sum(polarities == 1)/2 / N/(N-1)*2\n",
    "    \n",
    "    bal_dens_rands = np.zeros(M)\n",
    "    \n",
    "    for i in range(0,M):\n",
    "        attr_copy = randomize_attributes(agents)\n",
    "        polarities_rand = calc_link_polarities2(attr_copy, th, attr_dif)\n",
    "        bal_dens_rands[i] = balanced_triad_density_network(polarities_rand, triads)\n",
    "        \n",
    "    pval = np.sum(bal_dens_rands >= bal_dens)\n",
    "    \n",
    "    return bal_dens_rands, bal_dens, pval\n",
    "\n",
    "def compare_networks2(fun, data, th, attr_dif, M):\n",
    "    pvals = np.zeros(6)\n",
    "    vals = np.zeros(6)\n",
    "    stds = np.zeros(6)\n",
    "    difs = np.zeros(6)\n",
    "    \n",
    "    for n in range(1,7):\n",
    "#         print(n)\n",
    "        net = data[n]\n",
    "        triads = get_triads(net)\n",
    "        agents = dcor_attributes[n]\n",
    "        \n",
    "        bal_dens_rands, bal_dens, pval = fun(triads, agents, th, attr_dif, M)\n",
    "        pvals[n-1] = pval\n",
    "        vals[n - 1] = bal_dens\n",
    "        difs[n-1] = np.mean(bal_dens - bal_dens_rands)\n",
    "        stds[n-1] = np.std(difs)\n",
    "    return pvals, vals, difs, stds"
   ]
  },
  {
   "cell_type": "code",
   "execution_count": 56,
   "id": "sophisticated-machine",
   "metadata": {},
   "outputs": [
    {
     "data": {
      "text/plain": [
       "(53, 53)"
      ]
     },
     "execution_count": 56,
     "metadata": {},
     "output_type": "execute_result"
    }
   ],
   "source": [
    "np.sum(randomize_all_attributes(ord_attributes)[1][:,1]==1), np.sum(ord_attributes[1][:,1]==1)"
   ]
  },
  {
   "cell_type": "code",
   "execution_count": 34,
   "id": "identical-channels",
   "metadata": {},
   "outputs": [
    {
     "ename": "NameError",
     "evalue": "name 'dcor_attributes' is not defined",
     "output_type": "error",
     "traceback": [
      "\u001b[0;31m---------------------------------------------------------------------------\u001b[0m",
      "\u001b[0;31mNameError\u001b[0m                                 Traceback (most recent call last)",
      "\u001b[0;32m<ipython-input-34-d0809096a93a>\u001b[0m in \u001b[0;36m<module>\u001b[0;34m\u001b[0m\n\u001b[1;32m      2\u001b[0m \u001b[0mth\u001b[0m \u001b[0;34m=\u001b[0m \u001b[0;36m0.3\u001b[0m\u001b[0;34m\u001b[0m\u001b[0;34m\u001b[0m\u001b[0m\n\u001b[1;32m      3\u001b[0m \u001b[0;34m\u001b[0m\u001b[0m\n\u001b[0;32m----> 4\u001b[0;31m \u001b[0mpolarities\u001b[0m \u001b[0;34m=\u001b[0m \u001b[0mcalc_link_polarities2\u001b[0m\u001b[0;34m(\u001b[0m\u001b[0mdcor_attributes\u001b[0m\u001b[0;34m[\u001b[0m\u001b[0msem\u001b[0m\u001b[0;34m]\u001b[0m\u001b[0;34m,\u001b[0m \u001b[0mth\u001b[0m\u001b[0;34m)\u001b[0m\u001b[0;34m\u001b[0m\u001b[0;34m\u001b[0m\u001b[0m\n\u001b[0m\u001b[1;32m      5\u001b[0m \u001b[0mN\u001b[0m \u001b[0;34m=\u001b[0m \u001b[0mpolarities\u001b[0m\u001b[0;34m.\u001b[0m\u001b[0mshape\u001b[0m\u001b[0;34m[\u001b[0m\u001b[0;36m0\u001b[0m\u001b[0;34m]\u001b[0m\u001b[0;34m\u001b[0m\u001b[0;34m\u001b[0m\u001b[0m\n\u001b[1;32m      6\u001b[0m \u001b[0;34m\u001b[0m\u001b[0m\n",
      "\u001b[0;31mNameError\u001b[0m: name 'dcor_attributes' is not defined"
     ]
    }
   ],
   "source": [
    "sem = 1\n",
    "th = 0.3\n",
    "\n",
    "polarities = calc_link_polarities2(ord_attributes[sem], th)\n",
    "N = polarities.shape[0]\n",
    "\n",
    "rho = np.sum(polarities == 1)/2 / N/(N-1)*2\n",
    "pol_rand = distribute_random_polarities(N, rho)\n",
    "\n",
    "triads = get_triads(data[sem])\n",
    "balanced_triad_density_network(polarities, triads), balanced_triad_density_network(pol_rand, triads)\n",
    "\n"
   ]
  },
  {
   "cell_type": "code",
   "execution_count": 35,
   "id": "buried-placement",
   "metadata": {},
   "outputs": [
    {
     "data": {
      "text/plain": [
       "(array([0.31111111, 0.22222222, 0.26666667, 0.26666667, 0.35555556,\n",
       "        0.2       , 0.2       , 0.33333333, 0.4       , 0.42222222,\n",
       "        0.35555556, 0.22222222, 0.2       , 0.26666667, 0.24444444,\n",
       "        0.42222222, 0.28888889, 0.26666667, 0.48888889, 0.22222222,\n",
       "        0.46666667, 0.15555556, 0.2       , 0.15555556, 0.17777778,\n",
       "        0.28888889, 0.24444444, 0.31111111, 0.2       , 0.26666667,\n",
       "        0.35555556, 0.42222222, 0.35555556, 0.22222222, 0.31111111,\n",
       "        0.2       , 0.24444444, 0.33333333, 0.22222222, 0.22222222,\n",
       "        0.4       , 0.11111111, 0.17777778, 0.15555556, 0.22222222,\n",
       "        0.31111111, 0.17777778, 0.46666667, 0.26666667, 0.2       ,\n",
       "        0.2       , 0.22222222, 0.11111111, 0.15555556, 0.35555556,\n",
       "        0.26666667, 0.15555556, 0.31111111, 0.04444444, 0.24444444,\n",
       "        0.2       , 0.31111111, 0.26666667, 0.26666667, 0.33333333,\n",
       "        0.31111111, 0.24444444, 0.31111111, 0.28888889, 0.15555556,\n",
       "        0.26666667, 0.2       , 0.11111111, 0.24444444, 0.44444444,\n",
       "        0.35555556, 0.31111111, 0.2       , 0.4       , 0.22222222,\n",
       "        0.4       , 0.17777778, 0.24444444, 0.42222222, 0.06666667,\n",
       "        0.33333333, 0.17777778, 0.46666667, 0.37777778, 0.37777778,\n",
       "        0.35555556, 0.4       , 0.37777778, 0.46666667, 0.15555556,\n",
       "        0.11111111, 0.22222222, 0.35555556, 0.33333333, 0.24444444]),\n",
       " 0.4,\n",
       " 15)"
      ]
     },
     "execution_count": 35,
     "metadata": {},
     "output_type": "execute_result"
    }
   ],
   "source": [
    "M = 100\n",
    "calc_pval_A8(triads, ord_attributes[sem], th, 2, M)"
   ]
  },
  {
   "cell_type": "code",
   "execution_count": 177,
   "id": "asian-entertainment",
   "metadata": {},
   "outputs": [
    {
     "data": {
      "image/png": "[encoded data removed]",
      "text/plain": [
       "<Figure size 1440x720 with 6 Axes>"
      ]
     },
     "metadata": {
      "needs_background": "light"
     },
     "output_type": "display_data"
    }
   ],
   "source": [
    "dim1 = 2\n",
    "dim2 = 3\n",
    "thetas = np.linspace(0,1,21)\n",
    "M = 100\n",
    "\n",
    "pvals = dict((i, np.zeros(len(thetas))) for i in range(1,7))\n",
    "\n",
    "fig, axs = plt.subplots(dim1, dim2)\n",
    "fig.set_size_inches(20,10)\n",
    "fig.suptitle(\"Model A_8 Errors\")\n",
    "\n",
    "semm = 0\n",
    "for a1 in range(0,dim1):\n",
    "    for a2 in range(0,dim2):\n",
    "        semm = semm + 1\n",
    "        \n",
    "        prob_bals_mean = np.zeros(len(thetas))\n",
    "        prob_bals_std = np.zeros(len(thetas))\n",
    "        bals = np.zeros(len(thetas))\n",
    "        \n",
    "        for i, theta in enumerate(thetas):\n",
    "            triads = get_triads(data[semm])\n",
    "            bal_dens_rands, bal_dens, pval = calc_pval_A8(triads, ord_attributes[semm], theta, 2, M)\n",
    "            \n",
    "            prob_bals_mean[i] = np.mean(bal_dens_rands)\n",
    "            prob_bals_std[i] = np.std(bal_dens_rands)\n",
    "            pvals[semm][i] = pval\n",
    "            \n",
    "            bals[i] = bal_dens\n",
    "        \n",
    "        axs[a1, a2].set_title(\"sem=\" + str(semm))\n",
    "        # axs[a1,a2].plot(thetas, bals, thetas, prob_bals)\n",
    "        axs[a1,a2].plot(thetas, bals, 'ko')\n",
    "        # plt.plot(thetas, rand_bals_mean)\n",
    "        axs[a1, a2].fill_between(thetas, prob_bals_mean-prob_bals_std, prob_bals_mean+prob_bals_std)\n",
    "        # plt.plot(thetas, rand_bals_mean)\n",
    "        axs[a1, a2].legend([\"data\", \"model\"])\n",
    "\n",
    "for ax in axs.flat:\n",
    "    ax.set(xlabel='theta', ylabel='density of balanced triads')\n",
    "\n",
    "# Hide x labels and tick labels for top plots and y ticks for right plots.\n",
    "for ax in axs.flat:\n",
    "    ax.label_outer()"
   ]
  },
  {
   "cell_type": "code",
   "execution_count": 54,
   "id": "incomplete-thunder",
   "metadata": {},
   "outputs": [
    {
     "data": {
      "text/plain": [
       "(array([0.   , 0.   , 0.   , 0.   , 0.   , 0.   , 0.   , 0.083, 0.   ,\n",
       "        0.083, 0.   , 0.   , 0.   , 0.   , 0.083, 0.   , 0.   , 0.   ,\n",
       "        0.167, 0.   , 0.   , 0.25 , 0.167, 0.   , 0.083, 0.   , 0.083,\n",
       "        0.   , 0.083, 0.   , 0.   , 0.083, 0.167, 0.   , 0.   , 0.   ,\n",
       "        0.083, 0.   , 0.   , 0.   , 0.083, 0.083, 0.   , 0.   , 0.083,\n",
       "        0.   , 0.083, 0.   , 0.   , 0.   , 0.   , 0.   , 0.   , 0.   ,\n",
       "        0.   , 0.083, 0.   , 0.083, 0.   , 0.   , 0.083, 0.   , 0.   ,\n",
       "        0.   , 0.   , 0.   , 0.   , 0.   , 0.   , 0.083, 0.   , 0.   ,\n",
       "        0.   , 0.   , 0.   , 0.   , 0.   , 0.   , 0.   , 0.   , 0.167,\n",
       "        0.   , 0.167, 0.   , 0.083, 0.   , 0.   , 0.083, 0.   , 0.   ,\n",
       "        0.   , 0.   , 0.083, 0.   , 0.   , 0.083, 0.   , 0.   , 0.   ,\n",
       "        0.   ]),\n",
       " 0.08333333333333333,\n",
       " 26)"
      ]
     },
     "execution_count": 54,
     "metadata": {},
     "output_type": "execute_result"
    }
   ],
   "source": [
    "calc_pval_A8(triads, ord_attributes[semm], 0.05, 2, M)"
   ]
  },
  {
   "cell_type": "code",
   "execution_count": 178,
   "id": "contemporary-container",
   "metadata": {},
   "outputs": [
    {
     "data": {
      "text/plain": [
       "{1: array([  2.,   2.,  11.,  30.,   5.,  16.,  13.,   2.,   4.,   2.,   4.,\n",
       "          6.,  20.,  53.,  94.,  49.,  47.,  81.,  99., 100., 100.]),\n",
       " 2: array([  8.,   3.,   3.,   1.,   0.,   3.,   4.,   8.,  18.,   9.,  15.,\n",
       "         13.,  23.,  80.,  99.,  90.,  83.,  85.,  96., 100., 100.]),\n",
       " 3: array([100., 100.,   9.,  12.,  15.,  10.,  11.,  38.,  40.,  41.,  54.,\n",
       "         56.,  67.,  76.,  77.,  97.,  92.,  95., 100., 100., 100.]),\n",
       " 4: array([  6.,   8.,   1.,   1.,   1.,   1.,   0.,   3.,   9.,  11.,  37.,\n",
       "         45.,  21.,  67.,  87.,  91.,  94., 100.,  95., 100., 100.]),\n",
       " 5: array([  1.,   1.,  27.,   1.,   0.,   2.,   2.,  17.,   4.,  12.,  11.,\n",
       "         12.,  66.,  78.,  37.,  77.,  78.,  94.,  98., 100., 100.]),\n",
       " 6: array([  1.,   4.,   7.,   0.,   3.,   0.,   0.,   0.,   5.,  12.,  17.,\n",
       "         18.,  30.,  81.,  91.,  95.,  88.,  94.,  98., 100., 100.])}"
      ]
     },
     "execution_count": 178,
     "metadata": {},
     "output_type": "execute_result"
    }
   ],
   "source": [
    "pvals"
   ]
  },
  {
   "cell_type": "markdown",
   "id": "trying-snowboard",
   "metadata": {},
   "source": [
    "## Similar analysis but with taking all terms together"
   ]
  },
  {
   "cell_type": "code",
   "execution_count": 122,
   "id": "sized-cedar",
   "metadata": {},
   "outputs": [
    {
     "name": "stdout",
     "output_type": "stream",
     "text": [
      "14:04:46 . Started analysis\n",
      "14:04:46 . Finished randomization of attributes. \n",
      "14:14:37 . Finished  20 % of randomized calculations.\n",
      "14:24:50 . Finished  40 % of randomized calculations.\n",
      "14:35:12 . Finished  60 % of randomized calculations.\n",
      "14:45:19 . Finished  80 % of randomized calculations.\n",
      "14:55:49 . Finished  100 % of randomized calculations.\n",
      "14:55:49 . Finished.\n"
     ]
    },
    {
     "data": {
      "text/plain": [
       "(0.0,\n",
       " array([8329., 7839., 7945., 7759., 7666., 7929., 7695., 8072., 7757.,\n",
       "        8054., 7847., 8216., 8342., 7633., 8089., 8172., 7834., 8390.,\n",
       "        8026., 7717., 7963., 7690., 8228., 8068., 7681., 7439., 8025.,\n",
       "        8142., 8000., 7991., 7954., 7961., 7875., 7862., 8094., 7870.,\n",
       "        8074., 7753., 7950., 8140., 8442., 8038., 7980., 7600., 7859.,\n",
       "        7975., 7928., 8219., 8131., 7882., 7805., 7779., 8131., 7956.,\n",
       "        7832., 8220., 8153., 7999., 8083., 8189., 8274., 7969., 8109.,\n",
       "        8062., 7950., 7619., 7884., 7844., 7675., 8186., 7904., 7908.,\n",
       "        7793., 7700., 7583., 7884., 7734., 8090., 8280., 8277., 7519.,\n",
       "        8051., 8048., 7733., 7811., 7606., 8169., 7734., 7909., 8085.,\n",
       "        7866., 7932., 7798., 7978., 8259., 7530., 7844., 8069., 7613.,\n",
       "        8034., 7966., 8181., 8040., 7914., 8090., 7812., 8028., 7635.,\n",
       "        8177., 8142., 8049., 8357., 8137., 7662., 7891., 8044., 7802.,\n",
       "        7757., 7767., 7940., 8245., 7709., 7757., 8183., 7833., 8237.,\n",
       "        7917., 7949., 7912., 8064., 7966., 8301., 7752., 7938., 7853.,\n",
       "        7560., 7804., 7839., 7794., 7908., 8097., 7763., 8214., 7776.,\n",
       "        8096., 8009., 8108., 8145., 8057., 8148., 8078., 7801., 8125.,\n",
       "        7723., 8382., 8301., 7820., 7760., 7794., 7871., 8220., 7985.,\n",
       "        7811., 8252., 8020., 8616., 8140., 7936., 8014., 7749., 7723.,\n",
       "        7983., 7914., 7919., 8124., 7931., 8161., 8099., 7748., 7921.,\n",
       "        8163., 8070., 8102., 8365., 7927., 8247., 7884., 8163., 8157.,\n",
       "        7754., 8073., 7965., 7846., 7852., 8078., 7947., 7728., 7844.,\n",
       "        8010., 7869., 7805., 8134., 8204., 7894., 8059., 7907., 8150.,\n",
       "        7782., 7865., 8057., 8238., 7861., 7821., 7900., 7505., 8052.,\n",
       "        8036., 7882., 8261., 7896., 8000., 7888., 8395., 8334., 7962.,\n",
       "        7969., 7847., 8347., 7512., 7742., 7785., 7934., 7981., 8074.,\n",
       "        7977., 8098., 7848., 7644., 7802., 7530., 7683., 7795., 7437.,\n",
       "        7766., 8005., 8193., 7667., 7841., 8072., 7673., 7999., 7957.,\n",
       "        7951., 8068., 7864., 8105., 8115., 8199., 7856., 7588., 8327.,\n",
       "        8045., 7847., 7517., 7996., 7854., 7871., 7877., 8075., 7988.,\n",
       "        8042., 7866., 7942., 8043., 7738., 7811., 7994., 7698., 7900.,\n",
       "        7452., 7617., 8033., 8047., 7973., 7714., 7712., 7707., 7867.,\n",
       "        8306., 8007., 7877., 7848., 8118., 7978., 7689., 7979., 8242.,\n",
       "        8202., 8019., 7717.]))"
      ]
     },
     "execution_count": 122,
     "metadata": {},
     "output_type": "execute_result"
    }
   ],
   "source": [
    "first_sem = 1\n",
    "last_sem = 6\n",
    "thetas = np.linspace(0,1,101)\n",
    "M = 300\n",
    "disp_every = 0.2\n",
    "generate_true_densities = False\n",
    "saved = False\n",
    "\n",
    "now = datetime.now()\n",
    "current_time = now.strftime(\"%H:%M:%S\")\n",
    "print(current_time, \". Started analysis\")\n",
    "\n",
    "triads_all = [get_triads(data[semm]) for semm in range(1,last_sem+1)]\n",
    "triads_len = [len(x) for x in triads_all]\n",
    "triads_all_num = np.sum(triads_len[first_sem-1:last_sem])\n",
    "\n",
    "bal_dens = np.zeros(len(thetas))\n",
    "\n",
    "bal_dens_rands_sum = np.zeros(M)\n",
    "attr_rands_M = [randomize_all_attributes(ord_attributes) for i in range(0,M)] \n",
    "\n",
    "now = datetime.now()\n",
    "current_time = now.strftime(\"%H:%M:%S\")\n",
    "print(current_time, \". Finished randomization of attributes. \")\n",
    "\n",
    "if generate_true_densities:\n",
    "    for semm in range(first_sem, last_sem+1):\n",
    "        triads = triads_all[semm-1]\n",
    "\n",
    "        for i, theta in enumerate(thetas):\n",
    "            polarities = calc_link_polarities2(ord_attributes[semm], theta, 2)\n",
    "            bal_dens[i] = bal_dens[i] + balanced_triad_density_network(polarities, triads) * triads_len[semm - 1]\n",
    "    \n",
    "    now = datetime.now()\n",
    "    current_time = now.strftime(\"%H:%M:%S\")\n",
    "    print(current_time, \". Finished calculating real-world balanced densities. \")\n",
    "\n",
    "bal_dens_rands = np.zeros([M, len(thetas)])\n",
    "\n",
    "disp_every_printer = disp_every\n",
    "for j in range(0,M):  \n",
    "    for semm in range(first_sem, last_sem+1):\n",
    "        triads = triads_all[semm-1]\n",
    "        for i, theta in enumerate(thetas):    \n",
    "            polarities_rand = calc_link_polarities2(attr_rands_M[j][semm], theta, 2)\n",
    "            bal_dens_rands[j][i] = bal_dens_rands[j][i] + balanced_triad_density_network(polarities_rand, triads) * triads_len[semm - 1]\n",
    "        \n",
    "    bal_dens_rands_sum[j] = np.sum(bal_dens_rands[j])\n",
    "    \n",
    "    if (j+1) / M >= disp_every_printer:\n",
    "        now = datetime.now()\n",
    "\n",
    "        current_time = now.strftime(\"%H:%M:%S\")\n",
    "        print(current_time, \". Finished \", str(int((j+1)/M*100)), \"% of randomized calculations.\")\n",
    "        disp_every_printer += disp_every\n",
    "\n",
    "now = datetime.now()\n",
    "\n",
    "current_time = now.strftime(\"%H:%M:%S\")\n",
    "print(current_time, \". Finished.\")\n",
    "\n",
    "bal_dens_sum = np.sum(bal_dens)\n",
    "\n",
    "bal_dens = bal_dens / triads_all_num\n",
    "bal_dens_rands = bal_dens_rands / triads_all_num\n",
    "\n",
    "test_triads_A8_thetas = thetas\n",
    "test_triads_A8_bal_dens = bal_dens\n",
    "test_triads_A8_bal_dens_rands = bal_dens_rands\n",
    "\n",
    "bal_dens_sum, bal_dens_rands_sum\n",
    "\n"
   ]
  },
  {
   "cell_type": "code",
   "execution_count": 123,
   "id": "passing-style",
   "metadata": {},
   "outputs": [],
   "source": [
    "#open, add and save\n",
    "if not saved:\n",
    "    with open('a8_rand_results.pkl', 'rb') as file:\n",
    "\n",
    "        # Call load method to deserialze\n",
    "        old_data = pickle.load(file)\n",
    "\n",
    "\n",
    "\n",
    "    test_triads_A8_bal_dens_rands = np.concatenate((old_data[2], test_triads_A8_bal_dens_rands))\n",
    "\n",
    "    with open('a8_rand_results.pkl', 'wb') as file:\n",
    "\n",
    "        # A new file will be created\n",
    "        pickle.dump((old_data[0], old_data[1], test_triads_A8_bal_dens_rands), file) \n",
    "    saved = True"
   ]
  },
  {
   "cell_type": "code",
   "execution_count": 241,
   "id": "understanding-convenience",
   "metadata": {},
   "outputs": [],
   "source": [
    "# #save, commented out not accidentally do it\n",
    "# with open('a8_rand_results.pkl', 'wb') as file:\n",
    "      \n",
    "#     # A new file will be created\n",
    "#     pickle.dump((test_triads_A8_thetas, test_triads_A8_bal_dens, test_triads_A8_bal_dens_rands), file)"
   ]
  },
  {
   "cell_type": "code",
   "execution_count": 8,
   "id": "consolidated-romantic",
   "metadata": {},
   "outputs": [
    {
     "name": "stdout",
     "output_type": "stream",
     "text": [
      "(array([0.  , 0.01, 0.02, 0.03, 0.04, 0.05, 0.06, 0.07, 0.08, 0.09, 0.1 ,\n",
      "       0.11, 0.12, 0.13, 0.14, 0.15, 0.16, 0.17, 0.18, 0.19, 0.2 , 0.21,\n",
      "       0.22, 0.23, 0.24, 0.25, 0.26, 0.27, 0.28, 0.29, 0.3 , 0.31, 0.32,\n",
      "       0.33, 0.34, 0.35, 0.36, 0.37, 0.38, 0.39, 0.4 , 0.41, 0.42, 0.43,\n",
      "       0.44, 0.45, 0.46, 0.47, 0.48, 0.49, 0.5 , 0.51, 0.52, 0.53, 0.54,\n",
      "       0.55, 0.56, 0.57, 0.58, 0.59, 0.6 , 0.61, 0.62, 0.63, 0.64, 0.65,\n",
      "       0.66, 0.67, 0.68, 0.69, 0.7 , 0.71, 0.72, 0.73, 0.74, 0.75, 0.76,\n",
      "       0.77, 0.78, 0.79, 0.8 , 0.81, 0.82, 0.83, 0.84, 0.85, 0.86, 0.87,\n",
      "       0.88, 0.89, 0.9 , 0.91, 0.92, 0.93, 0.94, 0.95, 0.96, 0.97, 0.98,\n",
      "       0.99, 1.  ]), array([0.051, 0.051, 0.051, 0.051, 0.051, 0.051, 0.051, 0.101, 0.101,\n",
      "       0.101, 0.101, 0.101, 0.101, 0.225, 0.225, 0.225, 0.225, 0.225,\n",
      "       0.225, 0.435, 0.435, 0.435, 0.435, 0.435, 0.435, 0.572, 0.572,\n",
      "       0.572, 0.572, 0.572, 0.572, 0.572, 0.667, 0.667, 0.667, 0.667,\n",
      "       0.667, 0.667, 0.732, 0.732, 0.732, 0.732, 0.732, 0.732, 0.746,\n",
      "       0.746, 0.746, 0.746, 0.746, 0.746, 0.746, 0.746, 0.746, 0.746,\n",
      "       0.746, 0.746, 0.746, 0.746, 0.746, 0.746, 0.746, 0.746, 0.746,\n",
      "       0.768, 0.768, 0.768, 0.768, 0.768, 0.768, 0.841, 0.841, 0.841,\n",
      "       0.841, 0.841, 0.841, 0.942, 0.942, 0.942, 0.942, 0.942, 0.942,\n",
      "       0.942, 0.971, 0.971, 0.971, 0.971, 0.971, 0.971, 0.993, 0.993,\n",
      "       0.993, 0.993, 0.993, 0.993, 1.   , 1.   , 1.   , 1.   , 1.   ,\n",
      "       1.   , 1.   ]), array([[0.   , 0.   , 0.   , ..., 1.   , 1.   , 1.   ],\n",
      "       [0.   , 0.   , 0.   , ..., 1.   , 1.   , 1.   ],\n",
      "       [0.   , 0.   , 0.   , ..., 1.   , 1.   , 1.   ],\n",
      "       ...,\n",
      "       [0.007, 0.007, 0.007, ..., 1.   , 1.   , 1.   ],\n",
      "       [0.   , 0.   , 0.   , ..., 1.   , 1.   , 1.   ],\n",
      "       [0.   , 0.   , 0.   , ..., 1.   , 1.   , 1.   ]]))\n"
     ]
    }
   ],
   "source": [
    "#open\n",
    "with open('a8_rand_results.pkl', 'rb') as file:\n",
    "      \n",
    "    # Call load method to deserialze\n",
    "    myvar = pickle.load(file)\n",
    "  \n",
    "    print(myvar)\n",
    "test_triads_A8_thetas, test_triads_A8_bal_dens, test_triads_A8_bal_dens_rands = myvar\n",
    "\n",
    "bal_dens_sum = np.sum(test_triads_A8_bal_dens)\n",
    "bal_dens_rands_sum = np.array([np.sum(test_triads_A8_bal_dens_rands[j]) for j in range(0,len(test_triads_A8_bal_dens_rands))])"
   ]
  },
  {
   "cell_type": "code",
   "execution_count": 9,
   "id": "genetic-diary",
   "metadata": {},
   "outputs": [
    {
     "data": {
      "text/plain": [
       "(1000, 1000)"
      ]
     },
     "execution_count": 9,
     "metadata": {},
     "output_type": "execute_result"
    }
   ],
   "source": [
    "np.sum(bal_dens_sum > bal_dens_rands_sum ), np.sum(bal_dens_sum >= bal_dens_rands_sum)"
   ]
  },
  {
   "cell_type": "code",
   "execution_count": null,
   "id": "authentic-setup",
   "metadata": {},
   "outputs": [],
   "source": [
    "# 1: 300,300 / M = 300 / 1-6 /"
   ]
  },
  {
   "cell_type": "code",
   "execution_count": 38,
   "id": "crucial-screw",
   "metadata": {},
   "outputs": [
    {
     "data": {
      "text/plain": [
       "Text(0, 0.5, 'density of balanced triads')"
      ]
     },
     "execution_count": 38,
     "metadata": {},
     "output_type": "execute_result"
    },
    {
     "data": {
      "image/png": "[encoded data removed]",
      "text/plain": [
       "<Figure size 432x288 with 1 Axes>"
      ]
     },
     "metadata": {
      "needs_background": "light"
     },
     "output_type": "display_data"
    }
   ],
   "source": [
    "mean_vals = np.mean(np.array(test_triads_A8_bal_dens_rands).T,1)\n",
    "std_vals = np.std(np.array(test_triads_A8_bal_dens_rands).T,1)\n",
    "\n",
    "plt.plot(test_triads_A8_thetas, test_triads_A8_bal_dens, 'k.')\n",
    "\n",
    "plt.fill_between(test_triads_A8_thetas, mean_vals-std_vals, mean_vals+std_vals)\n",
    "plt.legend([\"network\", \"mean\"])\n",
    "plt.title(\"Model A8. Comparing data and randomized networks in all terms together.\")\n",
    "plt.xlabel(\"theta\")\n",
    "plt.ylabel(\"density of balanced triads\")"
   ]
  },
  {
   "cell_type": "code",
   "execution_count": 14,
   "id": "hybrid-factory",
   "metadata": {},
   "outputs": [
    {
     "data": {
      "text/plain": [
       "Text(0, 0.5, 'density of balanced triads')"
      ]
     },
     "execution_count": 14,
     "metadata": {},
     "output_type": "execute_result"
    },
    {
     "data": {
      "image/png": "[encoded data removed]",
      "text/plain": [
       "<Figure size 432x288 with 1 Axes>"
      ]
     },
     "metadata": {
      "needs_background": "light"
     },
     "output_type": "display_data"
    }
   ],
   "source": [
    "mean_vals = np.mean(np.array(test_triads_A8_bal_dens_rands).T,1)\n",
    "std_vals = np.std(np.array(test_triads_A8_bal_dens_rands).T,1)\n",
    "\n",
    "plt.plot(test_triads_A8_thetas, test_triads_A8_bal_dens - mean_vals, 'k.')\n",
    "\n",
    "# plt.fill_between(test_triads_A8_thetas, mean_vals-std_vals, mean_vals+std_vals)\n",
    "plt.legend([\"network\", \"mean\"])\n",
    "plt.title(\"Model A8. Comparing data and randomized networks in all terms together.\")\n",
    "plt.xlabel(\"theta\")\n",
    "plt.ylabel(\"density of balanced triads\")"
   ]
  },
  {
   "cell_type": "code",
   "execution_count": 15,
   "id": "experienced-price",
   "metadata": {},
   "outputs": [
    {
     "data": {
      "text/plain": [
       "Text(0, 0.5, 'p_D-p_M')"
      ]
     },
     "execution_count": 15,
     "metadata": {},
     "output_type": "execute_result"
    },
    {
     "data": {
      "image/png": "[encoded data removed]",
      "text/plain": [
       "<Figure size 432x288 with 1 Axes>"
      ]
     },
     "metadata": {
      "needs_background": "light"
     },
     "output_type": "display_data"
    }
   ],
   "source": [
    "pds = np.array([test_triads_A8_bal_dens[np.where(test_triads_A8_thetas >= distances[i])[0][0]] for i in range(0, len(distances) - 1)])\n",
    "pms = np.array([mean_vals[np.where(test_triads_A8_thetas >= distances[i])[0][0]] for i in range(0, len(distances) - 1)])\n",
    "stds = np.array([std_vals[np.where(test_triads_A8_thetas >= distances[i])[0][0]] for i in range(0, len(distances) - 1)]) \n",
    "\n",
    "plt.errorbar(pds, pds - pms, yerr = stds, fmt = 'k.')\n",
    "\n",
    "# plt.fill_between(test_triads_A8_thetas, mean_vals-std_vals, mean_vals+std_vals)\n",
    "# plt.legend([\"network\", \"mean\"])\n",
    "plt.title(\"Model A8. Comparing data and randomized networks in all terms together.\")\n",
    "plt.xlabel(\"p_D\")\n",
    "plt.ylabel(\"p_D-p_M\")"
   ]
  },
  {
   "cell_type": "code",
   "execution_count": 127,
   "id": "valid-emerald",
   "metadata": {},
   "outputs": [
    {
     "data": {
      "text/plain": [
       "array([0.    , 0.0625, 0.125 , 0.1875, 0.25  , 0.3125, 0.375 , 0.4375,\n",
       "       0.5   , 0.5625, 0.625 , 0.6875, 0.75  , 0.8125, 0.875 , 0.9375,\n",
       "       1.    ])"
      ]
     },
     "execution_count": 127,
     "metadata": {},
     "output_type": "execute_result"
    }
   ],
   "source": [
    "distances"
   ]
  },
  {
   "cell_type": "code",
   "execution_count": 128,
   "id": "brown-degree",
   "metadata": {},
   "outputs": [],
   "source": [
    "SMALL_SIZE = 12\n",
    "MEDIUM_SIZE = 15\n",
    "BIGGER_SIZE = 20\n",
    "\n",
    "plt.rc('font', size=BIGGER_SIZE)          # controls default text sizes\n",
    "plt.rc('axes', titlesize=BIGGER_SIZE)     # fontsize of the axes title\n",
    "plt.rc('axes', labelsize=BIGGER_SIZE)    # fontsize of the x and y labels\n",
    "plt.rc('xtick', labelsize=BIGGER_SIZE)    # fontsize of the tick labels\n",
    "plt.rc('ytick', labelsize=BIGGER_SIZE)    # fontsize of the tick labels\n",
    "plt.rc('legend', fontsize=BIGGER_SIZE)    # legend fontsize\n",
    "plt.rc('figure', titlesize=BIGGER_SIZE)  # fontsize of the figure title"
   ]
  },
  {
   "cell_type": "code",
   "execution_count": 21,
   "id": "dangerous-sudan",
   "metadata": {},
   "outputs": [
    {
     "data": {
      "image/png": "[encoded data removed]",
      "text/plain": [
       "<Figure size 432x360 with 1 Axes>"
      ]
     },
     "metadata": {
      "needs_background": "light"
     },
     "output_type": "display_data"
    }
   ],
   "source": [
    "fig, ax = plt.subplots()\n",
    "\n",
    "\n",
    "chosen_dists = [i/8 for i in range(0,8)]\n",
    "chosen_dists = [i/16 for i in range(0,16)]\n",
    "\n",
    "anno_dists = [0, 1/16, 0.125, 3/16, 4/16, 5/16, 6/16, 7/16, 0.5, 9/16, 10/16, 11/16, 12/16]\n",
    "\n",
    "# ax.plot(pds, pds-pms, color='blue', marker='', linestyle='-', markersize=10)\n",
    "for i, dist in enumerate(distances):\n",
    "    if dist not in chosen_dists:\n",
    "        continue\n",
    "    dif = pds[i] - pms[i]\n",
    "#     ax.plot(pds[i], dif, color='blue', marker='o', linestyle='', markersize=10, label=str(dist))\n",
    "    plt.errorbar(x=pds[i], y=dif,yerr=stds[i],  color='blue', marker='o', markersize=10, label=str(dist))\n",
    "    if dist == 0.75:\n",
    "        xy = (pds[i] - 0.13, dif + 0.01)\n",
    "    elif dist in [7/8]:\n",
    "        xy = (pds[i]-0.00, dif + 0.0)\n",
    "    elif dist in [6/16]:\n",
    "        xy = (pds[i] + 0.01, dif + 0.02)\n",
    "    elif dist in [8/16]:\n",
    "        xy = (pds[i] + 0.01, dif - 0.02)\n",
    "    elif dist in [1/16, 3/16]:\n",
    "        xy = (pds[i]-0.11, dif + 0.01)\n",
    "    elif dist in [11/16]:\n",
    "        xy = (pds[i]-0.06, dif - 0.03)\n",
    "    elif dist in [5/16]:\n",
    "        xy = (pds[i]-0.15, dif + 0.01)\n",
    "    elif dist in [0]:\n",
    "        xy = (pds[i]-0.07, dif - 0.03)\n",
    "    elif dist in [0.625]:\n",
    "        xy = (pds[i]-0.2, dif - 0.01)\n",
    "#     elif dist == 0:\n",
    "#         xy = (pds[i]-0.07, dif - 0.03)\n",
    "    else:\n",
    "        xy = (pds[i], dif)\n",
    "    if dist in anno_dists:\n",
    "        ax.annotate(str(dist),xy=xy)\n",
    "    #, xytext=(-40,-10), textcoords='offset points')\n",
    "\n",
    "#plt.rcParams.update({'font.size': 40})\n",
    "plt.title('(c) Model A8')\n",
    "fig.set_size_inches(6, 5)\n",
    "plt.rcParams.update({'font.size': 15})\n",
    "plt.plot((0,1),(0,0), color='black')\n",
    "\n",
    "# plt.legend(bbox_to_anchor=(1.15, 1), loc=2, borderaxespad=0.)\n",
    "#plt.xlabel('fraction of balanced '+ coto +' in real data')\n",
    "#plt.ylabel('fraction of balanced '+ coto +' in real data \\nminus fraction of expected balanced '+ coto)\n",
    "\n",
    "plt.savefig(\"modelA8v2.pdf\",dpi=600,bbox_inches='tight',format='pdf')\n",
    "\n",
    "with open(f'A8.pkl','wb') as fid:\n",
    "    pickle.dump(fig, fid)"
   ]
  },
  {
   "cell_type": "code",
   "execution_count": 154,
   "id": "auburn-retail",
   "metadata": {},
   "outputs": [
    {
     "data": {
      "text/plain": [
       "array([-0.956, -0.853, -0.736, -0.644, -0.47 , -0.304, -0.228, -0.203,\n",
       "       -0.171, -0.081,  0.038,  0.068,  0.021,  0.019,  0.005, -0.   ])"
      ]
     },
     "execution_count": 154,
     "metadata": {},
     "output_type": "execute_result"
    }
   ],
   "source": [
    "(pms - pds) / pds"
   ]
  },
  {
   "cell_type": "code",
   "execution_count": 149,
   "id": "progressive-grade",
   "metadata": {},
   "outputs": [
    {
     "data": {
      "text/plain": [
       "Text(0, 0.5, 'density of balanced triads in all sems')"
      ]
     },
     "execution_count": 149,
     "metadata": {},
     "output_type": "execute_result"
    },
    {
     "data": {
      "image/png": "[encoded data removed]",
      "text/plain": [
       "<Figure size 432x288 with 1 Axes>"
      ]
     },
     "metadata": {
      "needs_background": "light"
     },
     "output_type": "display_data"
    }
   ],
   "source": [
    "handles_rand = plt.plot(test_triads_A8_thetas, np.array(test_triads_A8_bal_dens_rands).T, 'b')\n",
    "handles_net, = plt.plot(test_triads_A8_thetas, test_triads_A8_bal_dens, 'k')\n",
    "# plt.legend([\"network\", \"random\"], handles = [handles_net, handles_rand[0]])\n",
    "plt.legend([handles_net, handles_rand[0]], [\"network\", \"random\"])\n",
    "plt.title(\"Model A8. Comparing data and randomized networks in all terms together.\")\n",
    "plt.xlabel(\"theta\")\n",
    "plt.ylabel(\"density of balanced triads in all sems\")"
   ]
  },
  {
   "cell_type": "code",
   "execution_count": 146,
   "id": "crucial-cameroon",
   "metadata": {},
   "outputs": [
    {
     "data": {
      "text/plain": [
       "array([ 48.,  48.,  48.,  48.,  48.,  48.,  48., 227., 227., 227., 227.,\n",
       "       227., 227., 299., 299., 299., 299., 299., 299., 300., 300., 300.,\n",
       "       300., 300., 300., 300., 300., 300., 300., 300., 300., 300., 300.,\n",
       "       300., 300., 300., 300., 300., 300., 300., 300., 300., 300., 300.,\n",
       "       300., 300., 300., 300., 300., 300., 300., 300., 300., 300., 300.,\n",
       "       300., 300., 300., 300., 300., 300., 300., 300., 300., 300., 300.,\n",
       "       300., 300., 300., 300., 300., 300., 300., 300., 300., 300., 300.,\n",
       "       300., 300., 300., 300., 300., 300., 300., 300., 300., 300., 300.,\n",
       "       300., 300., 300., 300., 300., 300., 300., 300., 300., 300., 300.,\n",
       "       300., 300.])"
      ]
     },
     "execution_count": 146,
     "metadata": {},
     "output_type": "execute_result"
    }
   ],
   "source": [
    "pvals_T = np.zeros(len(thetas))\n",
    "\n",
    "for i, theta in enumerate(thetas):    \n",
    "    pvals_T[i] = np.sum(bal_dens_rands[:,i] > bal_dens[i])\n",
    "\n",
    "pvals_T"
   ]
  },
  {
   "cell_type": "code",
   "execution_count": 148,
   "id": "detected-functionality",
   "metadata": {},
   "outputs": [
    {
     "data": {
      "text/plain": [
       "array([   0.,    0.,    0.,    0.,    0.,    0.,    0.,    0.,    0.,\n",
       "          0.,    0.,    0.,    0.,    0.,    0.,    0.,    0.,    0.,\n",
       "          0.,    0.,    0.,    0.,    0.,    0.,    0.,    0.,    0.,\n",
       "          0.,    0.,    0.,    0.,    0.,    0.,    0.,    0.,    0.,\n",
       "          0.,    0.,    0.,    0.,    0.,    0.,    0.,    0.,    0.,\n",
       "          0.,    0.,    0.,    0.,    0.,    2.,    2.,    2.,    2.,\n",
       "          2.,    2.,    2.,  104.,  104.,  104.,  104.,  104.,  104.,\n",
       "        786.,  786.,  786.,  786.,  786.,  786.,  959.,  959.,  959.,\n",
       "        959.,  959.,  959.,  841.,  841.,  841.,  841.,  841.,  841.,\n",
       "        841.,  925.,  925.,  925.,  925.,  925.,  925.,  939.,  939.,\n",
       "        939.,  939.,  939.,  939.,  974.,  974.,  974.,  974.,  974.,\n",
       "        974., 1000.])"
      ]
     },
     "execution_count": 148,
     "metadata": {},
     "output_type": "execute_result"
    }
   ],
   "source": [
    "pvals_T = np.zeros(len(thetas))\n",
    "\n",
    "for i, theta in enumerate(thetas):    \n",
    "    pvals_T[i] = np.sum(test_triads_A8_bal_dens_rands[:,i] >= test_triads_A8_bal_dens[i])\n",
    "\n",
    "pvals_T"
   ]
  },
  {
   "cell_type": "code",
   "execution_count": 187,
   "id": "fixed-platform",
   "metadata": {},
   "outputs": [],
   "source": [
    "pvals_T_res1 = np.array([  0.,   0.,   0.,   0.,   0.,   0.,   0.,   0.,   0.,   0.,   0.,\n",
    "         0.,   0.,   0.,   0.,   0.,   0.,   0.,   0.,   0.,   0.,   0.,\n",
    "         0.,   0.,   0.,   0.,   0.,   0.,   0.,   0.,   0.,   0.,   0.,\n",
    "         0.,   0.,   0.,   0.,   0.,   0.,   0.,   0.,   0.,   0.,   0.,\n",
    "         0.,   0.,   0.,   0.,   0.,   0.,   0.,   0.,   0.,   0.,   0.,\n",
    "         0.,   0.,  37.,  37.,  37.,  37.,  37.,  37., 245., 245., 245.,\n",
    "       245., 245., 245., 290., 290., 290., 290., 290., 290., 258., 258.,\n",
    "       258., 258., 258., 258., 258., 277., 277., 277., 277., 277., 277.,\n",
    "       288., 288., 288., 288., 288., 288., 285., 285., 285., 285., 285.,\n",
    "       285., 300.])"
   ]
  },
  {
   "cell_type": "code",
   "execution_count": 47,
   "id": "stopped-tactics",
   "metadata": {},
   "outputs": [
    {
     "data": {
      "text/plain": [
       "(6350.0,\n",
       " array([5156., 5062., 5083., 5065., 5149., 5086., 5096., 5158., 5148.,\n",
       "        5119., 5048., 5069., 5129., 5070., 5136., 5052., 5143., 5099.,\n",
       "        5030., 5204., 5212., 5075., 5113., 5105., 5123., 5082., 5122.,\n",
       "        5141., 5092., 5101., 5140., 5128., 5106., 5088., 5123., 5210.,\n",
       "        5036., 5136., 5087., 5158., 5110., 5141., 5177., 5067., 5088.,\n",
       "        5131., 5144., 5012., 5067., 5130., 5165., 5181., 5106., 5102.,\n",
       "        5076., 5089., 5165., 5066., 5120., 5116., 5159., 5111., 5145.,\n",
       "        5136., 5123., 5107., 5124., 5142., 5088., 5176., 5092., 5097.,\n",
       "        5101., 5078., 5121., 5173., 5089., 5135., 5083., 5151., 5095.,\n",
       "        5079., 5090., 5070., 5193., 5143., 5182., 5084., 5071., 5106.,\n",
       "        5148., 5146., 5149., 5137., 5047., 5127., 5175., 5167., 5135.,\n",
       "        5130., 5168., 5038., 5172., 5134., 5171., 5017., 5142., 5118.,\n",
       "        5108., 5206., 5189., 5154., 5134., 5161., 5157., 5170., 5048.,\n",
       "        5085., 5149., 5098., 5152., 5075., 5076., 5122., 5134., 5058.,\n",
       "        5151., 5102., 5106., 5093., 5172., 5044., 5153., 5150., 5180.,\n",
       "        5124., 5101., 5143., 5118., 5072., 5104., 5110., 5124., 5105.,\n",
       "        5091., 5159., 5086., 5188., 5142., 5182., 5155., 5110., 5156.,\n",
       "        5055., 5080., 5090., 5147., 5122., 5105., 5148., 5135., 5146.,\n",
       "        5068., 5157., 5125., 5098., 5102., 5138., 5060., 5068., 5140.,\n",
       "        5104., 5101., 5190., 5114., 5137., 5208., 5113., 5057., 5148.,\n",
       "        5186., 5146., 5130., 5091., 5070., 5020., 5113., 5099., 5168.,\n",
       "        5144., 5121., 5088., 5129., 5109., 5211., 5086., 5149., 5156.,\n",
       "        5157., 5123., 5130., 5101., 5109., 5105., 5111., 5172., 5095.,\n",
       "        5139., 5180., 5138., 5109., 5035., 5088., 5026., 5145., 5082.,\n",
       "        5115., 5167., 5161., 5149., 5066., 5106., 5175., 5083., 5139.,\n",
       "        5099., 5064., 5054., 5115., 5147., 5092., 5101., 5041., 5062.,\n",
       "        5107., 5109., 5108., 5119., 5109., 5125., 5085., 5073., 5119.,\n",
       "        5180., 5107., 5126., 5140., 5135., 5194., 5082., 5168., 5175.,\n",
       "        5137., 5164., 5119., 5083., 5105., 5094., 5117., 5104., 5142.,\n",
       "        5167., 5155., 5141., 5088., 5150., 5155., 5107., 5155., 5114.,\n",
       "        5093., 5101., 5105., 5079., 5106., 5038., 5121., 5112., 5092.,\n",
       "        5102., 5166., 5058., 5108., 5127., 5098., 5153., 5101., 5123.,\n",
       "        5104., 5170., 5101., 5153., 5136., 5118., 5124., 5101., 5210.,\n",
       "        5136., 5160., 5102., 5189., 5178., 5121., 5112., 5150., 5137.,\n",
       "        5058., 5170., 5054., 5055., 5137., 5203., 5155., 5060., 5142.,\n",
       "        5108., 5146., 5109., 5175., 5094., 5092., 5109., 5132., 5152.,\n",
       "        5190., 5090., 5172., 5130., 5152., 5079., 5105., 5121., 5011.,\n",
       "        5163., 5085., 5136., 5052., 5060., 5127., 5140., 5131., 5061.,\n",
       "        5103., 5154., 5132., 5123., 5114., 5120., 5194., 5100., 5108.,\n",
       "        5163., 5149., 5144., 5119., 5171., 5089., 5149., 5100., 5147.,\n",
       "        5158., 5103., 5099., 5126., 5098., 5160., 5089., 5175., 5104.,\n",
       "        5131., 5156., 5084., 5186., 5164., 5199., 5038., 5118., 5150.,\n",
       "        5140., 5115., 5174., 5131., 5128., 5086., 5108., 5125., 5086.,\n",
       "        5108., 5126., 5136., 5113., 5098., 5157., 5117., 5127., 5051.,\n",
       "        5157., 5157., 5120., 5081., 5094., 5124., 5136., 5098., 5160.,\n",
       "        5173., 5114., 5072., 5067., 5050., 5117., 5048., 5062., 5056.,\n",
       "        5130., 5072., 5107., 5139., 5065., 5147., 5135., 5089., 5093.,\n",
       "        5063., 5086., 5146., 5155., 5081., 5059., 5157., 5123., 5041.,\n",
       "        5124., 5110., 5163., 5078., 5094., 5091., 5123., 5005., 5135.,\n",
       "        5108., 5129., 5150., 5065., 5067., 5114., 5116., 5133., 5134.,\n",
       "        5109., 5140., 5097., 5082., 5151., 5038., 5130., 5111., 5110.,\n",
       "        5098., 5123., 5146., 5123., 5094., 5113., 5111., 5051., 5101.,\n",
       "        5166., 5091., 5178., 5011., 5099., 5188., 5129., 5098., 5125.,\n",
       "        5138., 5162., 5058., 5170., 5112., 5059., 5059., 5188., 5058.,\n",
       "        5190., 5100., 5179., 5125., 5054., 5144., 4984., 5091., 5158.,\n",
       "        5141., 5120., 5137., 5102., 5168., 5131., 5049., 5109., 5081.,\n",
       "        5115., 5136., 5115., 5121., 5107., 5179., 5119., 5140., 5145.,\n",
       "        5141., 5061., 5154., 5200., 5087., 5042., 5087., 5095., 5114.,\n",
       "        5117., 5117., 5115., 5152., 5107., 5125., 5126., 5141., 5131.,\n",
       "        5105., 5072., 5091., 5142., 5135., 5042., 5153., 5114., 5156.,\n",
       "        5081., 5130., 5064., 5095., 5108., 5145., 5117., 5108., 5068.,\n",
       "        5104., 5129., 5095., 5103., 5126., 5111., 5215., 5133., 5179.,\n",
       "        5117., 5126., 5186., 5178., 5053., 5267., 5066., 5127., 5091.,\n",
       "        5077., 5079., 5141., 5059., 5127., 5078., 5072., 5025., 5139.,\n",
       "        5116., 5188., 5115., 5095., 5059., 5103., 5055., 5143., 5069.,\n",
       "        5084., 5146., 5040., 5105., 5130., 5107., 5110., 5191., 5156.,\n",
       "        5120., 5135., 5043., 5077., 5111., 5095., 5153., 5047., 5098.,\n",
       "        5187., 5083., 5101., 5125., 5114., 5205., 5137., 5151., 5115.,\n",
       "        5097., 5093., 5116., 5130., 5059., 5153., 5168., 5146., 5075.,\n",
       "        5118., 5218., 5125., 5091., 5135., 5133., 5197., 5110., 5110.,\n",
       "        5170., 5131., 5103., 5107., 5104., 5035., 5165., 5082., 5171.,\n",
       "        5067., 5107., 5044., 5131., 5036., 5041., 5090., 5114., 5050.,\n",
       "        5132., 5126., 5091., 5140., 5180., 5128., 5145., 5101., 5106.,\n",
       "        5091., 5150., 5126., 5136., 5058., 5159., 5134., 5127., 5101.,\n",
       "        5085., 5112., 5172., 5095., 5127., 5114., 5124., 5074., 5084.,\n",
       "        5152., 5133., 5105., 5076., 5122., 5161., 5130., 5108., 5097.,\n",
       "        5155., 5151., 5123., 5092., 5098., 5103., 5151., 5131., 5027.,\n",
       "        5116., 5053., 5154., 5126., 5063., 5168., 5209., 5197., 5156.,\n",
       "        5127., 5172., 5128., 5097., 5105., 5225., 5074., 5161., 5081.,\n",
       "        5164., 5055., 5049., 5131., 5144., 5094., 5114., 5170., 5202.,\n",
       "        5127., 5168., 5112., 5101., 5131., 5169., 5187., 5040., 5100.,\n",
       "        5084., 5191., 5166., 5107., 5076., 5118., 5177., 5130., 5166.,\n",
       "        5154., 5040., 5116., 5083., 5181., 5183., 5108., 5086., 5079.,\n",
       "        5147., 5073., 5185., 5075., 5059., 5037., 5180., 5105., 5180.,\n",
       "        5076., 5106., 5084., 5183., 5139., 5091., 5101., 5155., 5087.,\n",
       "        5129., 5225., 5035., 5102., 5120., 5080., 5100., 5100., 5074.,\n",
       "        5102., 5098., 5186., 5112., 5147., 5143., 5112., 5102., 5115.,\n",
       "        5119., 5044., 5098., 5138., 5075., 5128., 5125., 5193., 5140.,\n",
       "        5088., 5122., 5181., 5111., 5120., 5088., 5154., 5038., 5143.,\n",
       "        5134., 5157., 5079., 5135., 5063., 5113., 5125., 5095., 5061.,\n",
       "        5147., 5155., 5139., 5088., 5086., 5160., 5170., 5143., 5175.,\n",
       "        5156., 4991., 5051., 5135., 5111., 5170., 5086., 5087., 5178.,\n",
       "        5140., 5114., 5170., 5118., 5132., 5080., 5088., 5167., 5130.,\n",
       "        5139., 5112., 5172., 5093., 5166., 5056., 5164., 5094., 5106.,\n",
       "        5083., 5181., 5131., 5183., 5124., 5114., 5136., 5102., 5166.,\n",
       "        5202., 5192., 5128., 5170., 5094., 5136., 5141., 5106., 5146.,\n",
       "        5100., 5066., 5197., 5084., 5151., 5122., 5108., 5123., 5098.,\n",
       "        5097., 5108., 5055., 5141., 5112., 5155., 5069., 5155., 5099.,\n",
       "        5143., 5161., 5123., 5172., 5086., 5139., 5101., 5066., 5136.,\n",
       "        5076., 5188., 5120., 5114., 5101., 5153., 5085., 5174., 5144.,\n",
       "        5166., 5064., 5183., 5095., 5108., 5123., 5108., 5224., 5093.,\n",
       "        5122., 5127., 5087., 5148., 5061., 5052., 5073., 5127., 5092.,\n",
       "        5045., 5052., 5165., 5087., 5131., 5105., 5072., 5169., 5109.,\n",
       "        5059., 5056., 5099., 5096., 5071., 5052., 5112., 5190., 5053.,\n",
       "        5103., 5169., 5096., 5176., 5205., 5080., 5143., 5121., 5162.,\n",
       "        5115., 5072., 5158., 5151., 5103., 5090., 5202., 5053., 5156.,\n",
       "        5082., 5102., 5116., 5047., 5152., 5141., 5109., 5122., 5109.,\n",
       "        5216., 5205., 5176., 5118., 5105., 5120., 5104., 5156., 5163.,\n",
       "        5123., 5170., 5115., 5182., 5216., 5044., 5173., 5103., 5165.,\n",
       "        5146., 5135., 5148., 5115., 5091., 5155., 5123., 5120., 5173.,\n",
       "        5084., 5134., 5099., 5142., 5214., 5086., 5124., 5072., 5122.,\n",
       "        5095.]))"
      ]
     },
     "execution_count": 47,
     "metadata": {},
     "output_type": "execute_result"
    }
   ],
   "source": [
    "first_sem = 2\n",
    "last_sem = 6\n",
    "thetas = np.linspace(0,1,101)\n",
    "M = 1000\n",
    "\n",
    "triads_all = [get_triads(data[semm]) for semm in range(1,last_sem+1)]\n",
    "triads_len = [len(x) for x in triads_all]\n",
    "triads_all_num = np.sum(triads_len)\n",
    "\n",
    "agents_len = [len(ord_attributes[semm]) for semm in range(1,last_sem+1)]\n",
    "\n",
    "bal_dens = np.zeros(len(thetas))\n",
    "\n",
    "bal_dens_rands_sum = np.zeros(M)\n",
    "# attr_rands_M = [randomize_attribute_sets(ord_attributes) for i in range(0,M)] \n",
    "\n",
    "rhos = np.zeros([last_sem - first_sem + 1, len(thetas)])\n",
    "\n",
    "for semm in range(first_sem, last_sem+1):\n",
    "    triads = triads_all[semm-1]\n",
    "    \n",
    "    for i, theta in enumerate(thetas):\n",
    "        polarities = calc_link_polarities2(ord_attributes[semm], theta, 2)\n",
    "        bal_dens[i] = bal_dens[i] + balanced_triad_density_network(polarities, triads) * triads_len[semm - 1]\n",
    "        \n",
    "        N = polarities.shape[0]\n",
    "        rhos[semm-first_sem, i] = np.sum(polarities == 1)/2 / N/(N-1)*2\n",
    "\n",
    "bal_dens_rands = np.zeros([M, len(thetas)])\n",
    "for j in range(0,M):  \n",
    "    for semm in range(first_sem, last_sem+1):\n",
    "        triads = triads_all[semm-1]\n",
    "        N = agents_len[semm-1]\n",
    "        for i, theta in enumerate(thetas):    \n",
    "            polarities_rand = distribute_random_polarities(N, rhos[semm - first_sem, i])\n",
    "            bal_dens_rands[j][i] = bal_dens_rands[j][i] + balanced_triad_density_network(polarities_rand, triads) * triads_len[semm - 1]\n",
    "\n",
    "    bal_dens_rands_sum[j] = np.sum(bal_dens_rands[j])\n",
    "    \n",
    "bal_dens_sum = np.sum(bal_dens)\n",
    "\n",
    "bal_dens = bal_dens / triads_all_num\n",
    "bal_dens_rands = bal_dens_rands / triads_all_num\n",
    "\n",
    "test_E8_all_agents_terms_together_thetas2 = thetas\n",
    "test_E8_all_agents_terms_together_bal_dens2 = bal_dens\n",
    "test_E8_all_agents_terms_together_bal_dens_rands2 = bal_dens_rands\n",
    "\n",
    "bal_dens_sum, bal_dens_rands_sum\n",
    "\n",
    "# TODO: do poprawy powyzej. Zrobić, żeby była taka sama randomizacja wszystkich węzłów na raz we wszystkich semestrach. \n",
    "#     Obecnie jest to niezależne. \n"
   ]
  },
  {
   "cell_type": "code",
   "execution_count": 48,
   "id": "compact-movement",
   "metadata": {},
   "outputs": [
    {
     "data": {
      "text/plain": [
       "(1000, 1000)"
      ]
     },
     "execution_count": 48,
     "metadata": {},
     "output_type": "execute_result"
    }
   ],
   "source": [
    "np.sum(bal_dens_sum > bal_dens_rands_sum ), np.sum(bal_dens_sum >= bal_dens_rands_sum)"
   ]
  },
  {
   "cell_type": "code",
   "execution_count": 50,
   "id": "baking-spine",
   "metadata": {},
   "outputs": [
    {
     "data": {
      "text/plain": [
       "Text(0, 0.5, 'density of balanced triads')"
      ]
     },
     "execution_count": 50,
     "metadata": {},
     "output_type": "execute_result"
    },
    {
     "data": {
      "image/png": "[encoded data removed]",
      "text/plain": [
       "<Figure size 432x288 with 1 Axes>"
      ]
     },
     "metadata": {
      "needs_background": "light"
     },
     "output_type": "display_data"
    }
   ],
   "source": [
    "mean_vals = np.mean(np.array(test_E8_all_agents_terms_together_bal_dens_rands2).T,1)\n",
    "std_vals = np.std(np.array(test_E8_all_agents_terms_together_bal_dens_rands2).T,1)\n",
    "\n",
    "plt.plot(test_E8_all_agents_terms_together_thetas2, test_E8_all_agents_terms_together_bal_dens2, 'k.')\n",
    "\n",
    "plt.fill_between(test_E8_all_agents_terms_together_thetas2, mean_vals-std_vals, mean_vals+std_vals)\n",
    "plt.legend([\"network\", \"mean\"])\n",
    "plt.title(\"Model E8. Comparing data and randomized networks in all terms together.\")\n",
    "plt.xlabel(\"theta\")\n",
    "plt.ylabel(\"density of balanced triads\")"
   ]
  },
  {
   "cell_type": "code",
   "execution_count": 143,
   "id": "clean-desert",
   "metadata": {},
   "outputs": [
    {
     "data": {
      "text/plain": [
       "array([300., 300., 300., 300., 300., 300., 300., 300., 300., 300., 300.,\n",
       "       300., 300., 300., 300., 300., 300., 300., 300., 300., 300., 300.,\n",
       "       300., 300., 300., 300., 300., 300., 300., 300., 300., 300., 300.,\n",
       "       300., 300., 300., 300., 300., 300., 300., 300., 300., 300., 300.,\n",
       "       300., 300., 300., 300., 300., 300., 300., 300., 300., 300., 300.,\n",
       "       300., 300., 300., 300., 300., 300., 300., 300., 300., 300., 300.,\n",
       "       300., 300., 300., 300., 300., 300., 300., 300., 300., 300., 300.,\n",
       "       300., 300., 300., 300., 300., 300., 300., 300., 300., 300., 300.,\n",
       "       300., 300., 300., 300., 300., 300., 300., 300., 300., 300., 300.,\n",
       "       300., 300.])"
      ]
     },
     "execution_count": 143,
     "metadata": {},
     "output_type": "execute_result"
    }
   ],
   "source": [
    "pvals_T = np.zeros(len(thetas))\n",
    "\n",
    "for i, theta in enumerate(thetas):    \n",
    "    pvals_T[i] = np.sum(bal_dens_rands[:,i] >= bal_dens[i])\n",
    "\n",
    "pvals_T"
   ]
  },
  {
   "cell_type": "code",
   "execution_count": 142,
   "id": "quiet-fitting",
   "metadata": {},
   "outputs": [
    {
     "ename": "NameError",
     "evalue": "name 'pvals_T' is not defined",
     "output_type": "error",
     "traceback": [
      "\u001b[0;31m---------------------------------------------------------------------------\u001b[0m",
      "\u001b[0;31mNameError\u001b[0m                                 Traceback (most recent call last)",
      "\u001b[0;32m<ipython-input-142-dd9c24d5403a>\u001b[0m in \u001b[0;36m<module>\u001b[0;34m\u001b[0m\n\u001b[0;32m----> 1\u001b[0;31m \u001b[0;34m[\u001b[0m\u001b[0;34m(\u001b[0m\u001b[0mtheta\u001b[0m\u001b[0;34m,\u001b[0m \u001b[0mpval\u001b[0m\u001b[0;34m)\u001b[0m \u001b[0;32mfor\u001b[0m \u001b[0mtheta\u001b[0m\u001b[0;34m,\u001b[0m \u001b[0mpval\u001b[0m \u001b[0;32min\u001b[0m \u001b[0mzip\u001b[0m\u001b[0;34m(\u001b[0m\u001b[0mthetas\u001b[0m\u001b[0;34m,\u001b[0m \u001b[0mpvals_T\u001b[0m\u001b[0;34m)\u001b[0m \u001b[0;32mif\u001b[0m \u001b[0mpval\u001b[0m \u001b[0;34m<\u001b[0m \u001b[0;36m50\u001b[0m\u001b[0;34m]\u001b[0m\u001b[0;34m\u001b[0m\u001b[0;34m\u001b[0m\u001b[0m\n\u001b[0m",
      "\u001b[0;31mNameError\u001b[0m: name 'pvals_T' is not defined"
     ]
    }
   ],
   "source": [
    "[(theta, pval) for theta, pval in zip(thetas, pvals_T) if pval < 50]"
   ]
  },
  {
   "cell_type": "markdown",
   "id": "manufactured-peripheral",
   "metadata": {},
   "source": [
    "# Sum of ranks analysis\n",
    "\n",
    "Let's calculate a rank for a given threshold for each series for randomized datasets and let's what is the distribution of these values. Is it normal?\n",
    "\n",
    "What is the prob. that the sum of ranks for RL dataset is larger than for randomized datasets? "
   ]
  },
  {
   "cell_type": "code",
   "execution_count": 131,
   "id": "played-uganda",
   "metadata": {},
   "outputs": [],
   "source": [
    "def calc_rank(vals, val):\n",
    "    \"\"\"\n",
    "    Includes val in vals array sorts it and calculates rank for the val.\n",
    "    \"\"\"\n",
    "    all_vals = np.append(vals, val)\n",
    "    \n",
    "    all_ranks = stats.rankdata(all_vals)\n",
    "    return all_ranks[-1]\n",
    "\n",
    "def calc_ranks(vals, val = []):\n",
    "    \"\"\"\n",
    "    Calculated ranks and allows to include one more value. \n",
    "    \"\"\"\n",
    "    all_vals = np.append(vals, val)\n",
    "    \n",
    "    all_ranks = stats.rankdata(all_vals)\n",
    "    if np.isscalar(val):\n",
    "        return all_ranks[0:-1], all_ranks[-1]\n",
    "    else:\n",
    "        return all_ranks, []\n",
    "\n",
    "def get_important_theta_values(thetas, bal_dens_rands, bal_dens = [], distances = [i/16 for i in range(0,16)]):\n",
    "    \"\"\"\n",
    "    There are only 16 (17) distinct thetas. So we do not need all the values. \n",
    "    \"\"\"\n",
    "    pds = np.array([bal_dens[np.where(thetas >= distances[i])[0][0]] for i in range(0, len(distances))])\n",
    "    rds = np.array([[bal_dens_rands[j][np.where(thetas >= distances[i])[0][0]] for i in range(0, len(distances))] for j in range(0, len(bal_dens_rands))])\n",
    "    return pds, rds\n",
    "\n",
    "def calc_ranks_thetas(bal_dens_rands, bal_dens = []):\n",
    "    M, num_thetas = bal_dens_rands.shape\n",
    "#     print(M); \n",
    "#     print(num_thetas)\n",
    "    rl_rank = np.zeros(num_thetas)\n",
    "    rand_ranks = np.zeros([num_thetas, M])\n",
    "    \n",
    "    for theta_ind in range(0, num_thetas):\n",
    "        vals = [bal_dens_rands[i][theta_ind] for i in range(0, M)]\n",
    "        if len(bal_dens) > 0:\n",
    "            val = bal_dens[theta_ind]\n",
    "        else:\n",
    "            val = []\n",
    "        \n",
    "        rand_ranks[theta_ind], rl_rank[theta_ind] = calc_ranks(vals, val)\n",
    "    return rand_ranks, rl_rank"
   ]
  },
  {
   "cell_type": "code",
   "execution_count": 132,
   "id": "incredible-gallery",
   "metadata": {},
   "outputs": [
    {
     "data": {
      "text/plain": [
       "array([[0.        , 0.        , 0.        , ..., 1.        , 1.        ,\n",
       "        1.        ],\n",
       "       [0.        , 0.        , 0.        , ..., 1.        , 1.        ,\n",
       "        1.        ],\n",
       "       [0.        , 0.        , 0.        , ..., 1.        , 1.        ,\n",
       "        1.        ],\n",
       "       ...,\n",
       "       [0.00724638, 0.00724638, 0.00724638, ..., 1.        , 1.        ,\n",
       "        1.        ],\n",
       "       [0.        , 0.        , 0.        , ..., 1.        , 1.        ,\n",
       "        1.        ],\n",
       "       [0.        , 0.        , 0.        , ..., 1.        , 1.        ,\n",
       "        1.        ]])"
      ]
     },
     "execution_count": 132,
     "metadata": {},
     "output_type": "execute_result"
    }
   ],
   "source": [
    "test_triads_A8_bal_dens_rands"
   ]
  },
  {
   "cell_type": "code",
   "execution_count": 133,
   "id": "narrative-turkish",
   "metadata": {},
   "outputs": [
    {
     "data": {
      "text/plain": [
       "(array([ 413. ,  413. ,  413. ,  413. ,  413. ,  413. ,  413. ,  413. ,\n",
       "         413. ,  413. ,  413. ,  413. ,  413. ,  413. ,  413. ,  413. ,\n",
       "         413. ,  413. ,  413. ,  953.5,  413. ,  413. ,  413. ,  413. ,\n",
       "         413. ,  413. ,  413. ,  413. ,  413. ,  413. ,  879.5,  413. ,\n",
       "         413. ,  413. ,  413. ,  413. ,  413. ,  413. ,  413. ,  413. ,\n",
       "         413. ,  879.5,  413. ,  413. ,  413. ,  879.5,  413. ,  879.5,\n",
       "         413. ,  413. ,  413. ,  879.5,  879.5,  413. ,  879.5,  413. ,\n",
       "         413. ,  413. ,  879.5,  413. ,  413. ,  413. ,  413. ,  413. ,\n",
       "         413. ,  413. ,  413. ,  413. ,  413. ,  413. ,  997.5,  413. ,\n",
       "         413. ,  413. ,  413. ,  413. ,  879.5,  953.5,  413. ,  413. ,\n",
       "         413. ,  413. ,  413. ,  413. ,  413. ,  413. ,  413. ,  413. ,\n",
       "         879.5,  413. ,  413. ,  413. ,  413. ,  879.5,  413. ,  413. ,\n",
       "         413. ,  413. ,  953.5,  413. ,  413. ,  413. ,  413. ,  413. ,\n",
       "         879.5,  413. ,  413. ,  413. ,  413. ,  879.5,  413. ,  413. ,\n",
       "         413. ,  879.5,  879.5,  413. ,  413. ,  413. ,  413. ,  413. ,\n",
       "         413. ,  879.5,  413. ,  413. ,  413. ,  413. ,  413. ,  413. ,\n",
       "         413. ,  413. ,  413. ,  953.5,  413. ,  953.5,  413. ,  413. ,\n",
       "         413. ,  879.5,  879.5,  413. ,  413. ,  413. ,  413. ,  413. ,\n",
       "         413. ,  879.5,  413. ,  413. ,  413. ,  413. ,  413. ,  413. ,\n",
       "         879.5,  413. ,  413. ,  413. ,  413. ,  413. ,  413. ,  879.5,\n",
       "         953.5,  413. ,  879.5,  413. ,  413. ,  413. ,  413. ,  413. ,\n",
       "         413. ,  413. ,  413. ,  413. ,  413. ,  879.5,  413. ,  413. ,\n",
       "         413. ,  413. ,  413. ,  879.5,  413. ,  413. ,  413. ,  413. ,\n",
       "         413. ,  879.5,  413. ,  413. ,  413. ,  953.5,  413. ,  413. ,\n",
       "         413. ,  983. ,  413. ,  953.5,  413. , 1000. ,  413. ,  413. ,\n",
       "         413. ,  953.5,  413. ,  879.5,  953.5,  413. ,  413. ,  413. ,\n",
       "         879.5,  413. ,  413. ,  413. ,  413. ,  413. ,  879.5,  413. ,\n",
       "         413. ,  413. ,  413. ,  413. ,  413. ,  879.5,  413. ,  879.5,\n",
       "         879.5,  413. ,  413. ,  413. ,  413. ,  413. ,  413. ,  413. ,\n",
       "         413. ,  413. ,  413. ,  413. ,  413. ,  879.5,  413. ,  413. ,\n",
       "         413. ,  879.5,  413. ,  413. ,  413. ,  413. ,  879.5,  413. ,\n",
       "         413. ,  413. ,  413. ,  413. ,  413. ,  413. ,  413. ,  413. ,\n",
       "         413. ,  953.5,  413. ,  413. ,  413. ,  413. ,  413. ,  413. ,\n",
       "         983. ,  413. ,  983. ,  413. ,  413. ,  413. ,  413. ,  413. ,\n",
       "         413. ,  413. ,  413. ,  413. ,  983. ,  413. ,  413. ,  413. ,\n",
       "         413. ,  413. ,  413. ,  413. ,  879.5,  413. ,  413. ,  413. ,\n",
       "         413. ,  413. ,  413. ,  413. ,  413. ,  413. ,  413. ,  413. ,\n",
       "         983. ,  413. ,  413. ,  997.5,  413. ,  413. ,  413. ,  413. ,\n",
       "         413. ,  413. ,  953.5,  953.5,  413. ,  413. ,  879.5,  413. ,\n",
       "         413. ,  413. ,  983. ,  413. ,  413. ,  413. ,  413. ,  413. ,\n",
       "         953.5,  413. ,  413. ,  994. ,  413. ,  413. ,  413. ,  413. ,\n",
       "         413. ,  413. ,  413. ,  413. ,  413. ,  413. ,  413. ,  413. ,\n",
       "         413. ,  413. ,  953.5,  413. ,  413. ,  413. ,  953.5,  879.5,\n",
       "         879.5,  413. ,  413. ,  879.5,  879.5,  413. ,  413. ,  413. ,\n",
       "         413. ,  413. ,  413. ,  413. ,  413. ,  879.5,  413. ,  413. ,\n",
       "         413. ,  879.5,  413. ,  413. ,  413. ,  413. ,  413. ,  413. ,\n",
       "         413. ,  994. ,  413. ,  413. ,  413. ,  413. ,  413. ,  413. ,\n",
       "         413. ,  413. ,  413. ,  413. ,  879.5,  413. ,  879.5,  413. ,\n",
       "         953.5,  413. ,  413. ,  413. ,  413. ,  879.5,  413. ,  413. ,\n",
       "         879.5,  413. ,  879.5,  413. ,  413. ,  413. ,  413. ,  413. ,\n",
       "         413. ,  413. ,  413. ,  879.5,  413. ,  994. ,  413. ,  413. ,\n",
       "         413. ,  413. ,  413. ,  879.5,  953.5,  413. ,  413. ,  413. ,\n",
       "         413. ,  953.5,  413. ,  413. ,  413. ,  413. ,  413. ,  413. ,\n",
       "         413. ,  413. ,  413. ,  879.5,  413. ,  953.5,  413. ,  413. ,\n",
       "         413. ,  413. ,  413. ,  413. ,  413. ,  879.5,  879.5,  413. ,\n",
       "         413. ,  413. ,  413. ,  413. ,  413. ,  413. ,  879.5,  413. ,\n",
       "         413. ,  413. ,  413. ,  413. ,  413. ,  413. ,  413. ,  413. ,\n",
       "         953.5,  413. ,  413. ,  413. ,  413. ,  879.5,  413. ,  413. ,\n",
       "         413. ,  413. ,  413. ,  879.5,  413. ,  413. ,  983. ,  413. ,\n",
       "         983. ,  413. ,  413. ,  879.5,  413. ,  413. ,  413. ,  413. ,\n",
       "         413. ,  413. ,  413. ,  413. ,  413. ,  413. ,  413. ,  413. ,\n",
       "         413. ,  413. ,  413. ,  413. ,  983. ,  413. ,  879.5,  413. ,\n",
       "         413. ,  413. ,  413. ,  413. ,  997.5,  413. ,  413. ,  879.5,\n",
       "         413. ,  413. ,  413. ,  413. ,  413. ,  413. ,  953.5,  413. ,\n",
       "         413. ,  413. ,  413. ,  413. ,  413. ,  953.5,  413. ,  413. ,\n",
       "         413. ,  413. ,  413. ,  413. ,  879.5,  413. ,  413. ,  413. ,\n",
       "         413. ,  413. ,  413. ,  413. ,  413. ,  413. ,  413. ,  953.5,\n",
       "         413. ,  953.5,  413. ,  413. ,  413. ,  413. ,  413. ,  413. ,\n",
       "         413. ,  413. ,  413. ,  413. ,  413. ,  413. ,  983. ,  953.5,\n",
       "         413. ,  413. ,  413. ,  413. ,  413. ,  879.5,  413. ,  413. ,\n",
       "         413. ,  413. ,  879.5,  413. ,  413. ,  413. ,  413. ,  413. ,\n",
       "         413. ,  413. ,  879.5,  413. ,  413. ,  879.5,  413. ,  879.5,\n",
       "         413. ,  413. ,  413. ,  413. ,  413. ,  413. ,  953.5,  413. ,\n",
       "         879.5,  413. ,  413. ,  879.5,  413. ,  413. ,  413. ,  413. ,\n",
       "         879.5,  413. ,  413. ,  413. ,  413. ,  413. ,  879.5,  413. ,\n",
       "         413. ,  413. ,  413. ,  953.5,  413. ,  879.5,  413. ,  879.5,\n",
       "         879.5,  879.5,  953.5,  413. ,  413. ,  413. ,  413. ,  413. ,\n",
       "         413. ,  953.5,  413. ,  413. ,  413. ,  413. ,  413. ,  413. ,\n",
       "         413. ,  413. ,  413. ,  413. ,  413. ,  413. ,  413. ,  413. ,\n",
       "         413. ,  413. ,  413. ,  413. ,  413. ,  413. ,  879.5,  413. ,\n",
       "         413. ,  413. ,  413. ,  413. ,  413. ,  413. ,  413. ,  879.5,\n",
       "         879.5,  413. ,  413. ,  413. ,  413. ,  413. ,  413. ,  413. ,\n",
       "         413. ,  413. ,  413. ,  413. ,  879.5,  413. ,  413. ,  953.5,\n",
       "         413. ,  413. ,  413. ,  413. ,  413. ,  879.5,  413. ,  413. ,\n",
       "         413. ,  413. ,  413. ,  413. ,  413. ,  413. ,  413. ,  413. ,\n",
       "         413. ,  413. ,  879.5,  413. ,  413. ,  413. ,  413. ,  983. ,\n",
       "         413. ,  413. ,  413. ,  413. ,  413. ,  413. ,  413. ,  413. ,\n",
       "         413. ,  413. ,  413. ,  413. ,  413. ,  413. ,  413. ,  413. ,\n",
       "         413. ,  879.5,  879.5,  413. ,  413. ,  413. ,  413. ,  983. ,\n",
       "         413. ,  413. ,  413. ,  413. ,  413. ,  413. ,  953.5,  413. ,\n",
       "         413. ,  413. ,  413. ,  413. ,  413. ,  413. ,  983. ,  413. ,\n",
       "         879.5,  413. ,  413. ,  413. ,  413. ,  413. ,  413. ,  413. ,\n",
       "         953.5,  413. ,  413. ,  413. ,  413. ,  413. ,  413. ,  413. ,\n",
       "         413. ,  413. ,  413. ,  413. ,  413. ,  953.5,  413. ,  413. ,\n",
       "         413. ,  413. ,  879.5,  413. ,  413. ,  413. ,  413. ,  413. ,\n",
       "         413. ,  413. ,  413. ,  413. ,  413. ,  413. ,  413. ,  413. ,\n",
       "         413. ,  879.5,  413. ,  879.5,  413. ,  413. ,  413. ,  413. ,\n",
       "         413. ,  413. ,  413. ,  413. ,  413. ,  413. ,  413. ,  413. ,\n",
       "         413. ,  413. ,  413. ,  413. ,  413. ,  413. ,  413. ,  413. ,\n",
       "         879.5,  413. ,  983. ,  413. ,  879.5,  413. ,  413. ,  413. ,\n",
       "         413. ,  413. ,  413. ,  997.5,  413. ,  879.5,  413. ,  413. ,\n",
       "         413. ,  413. ,  879.5,  413. ,  413. ,  413. ,  413. ,  879.5,\n",
       "         413. ,  413. ,  413. ,  413. ,  413. ,  413. ,  413. ,  413. ,\n",
       "         413. ,  413. ,  413. ,  413. ,  413. ,  413. ,  413. ,  413. ,\n",
       "         413. ,  413. ,  879.5,  413. ,  953.5,  413. ,  413. ,  413. ,\n",
       "         953.5,  413. ,  413. ,  879.5,  413. ,  413. ,  413. ,  413. ,\n",
       "         879.5,  413. ,  413. ,  413. ,  413. ,  413. ,  413. ,  413. ,\n",
       "         953.5,  413. ,  983. ,  413. ,  413. ,  413. ,  413. ,  413. ,\n",
       "         413. ,  879.5,  879.5,  413. ,  413. ,  413. ,  879.5,  413. ,\n",
       "         413. ,  953.5,  413. ,  879.5,  879.5,  413. ,  879.5,  413. ,\n",
       "         413. ,  413. ,  413. ,  413. ,  413. ,  413. ,  413. ,  413. ,\n",
       "         879.5,  413. ,  413. ,  879.5,  413. ,  413. ,  413. ,  413. ,\n",
       "         413. ,  413. ,  413. ,  413. ,  413. ,  879.5,  413. ,  413. ,\n",
       "         413. ,  879.5,  413. ,  413. ,  413. ,  413. ,  413. ,  413. ,\n",
       "         413. ,  413. ,  413. ,  413. ,  413. ,  413. ,  413. ,  413. ,\n",
       "         413. ,  413. ,  413. ,  413. ,  413. ,  413. ,  879.5,  413. ,\n",
       "         413. ,  983. ,  413. ,  413. ,  413. ,  413. ,  413. ,  413. ,\n",
       "         413. ,  413. ,  413. ,  413. ,  413. ,  413. ,  413. ,  983. ,\n",
       "         413. ,  413. ,  879.5,  413. ,  413. ,  879.5,  413. ,  413. ,\n",
       "         413. ,  983. ,  413. ,  413. ,  413. ,  413. ,  413. ,  413. ,\n",
       "         953.5,  413. ,  413. ,  413. ,  413. ,  413. ,  413. ,  413. ,\n",
       "         413. ,  413. ,  413. ,  413. ,  413. ,  413. ,  983. ,  413. ,\n",
       "         413. ,  413. ,  413. ,  413. ,  413. ,  413. ,  413. ,  413. ,\n",
       "         413. ,  413. ,  413. ,  413. ,  879.5,  879.5,  413. ,  953.5,\n",
       "         413. ,  413. ,  413. ,  413. ,  413. ,  879.5,  413. ,  413. ]),\n",
       " 1001.0)"
      ]
     },
     "execution_count": 133,
     "metadata": {},
     "output_type": "execute_result"
    }
   ],
   "source": [
    "distances = [i/16 for i in range(0,16)]\n",
    "pds = np.array([test_triads_A8_bal_dens[np.where(test_triads_A8_thetas >= distances[i])[0][0]] for i in range(0, len(distances))])\n",
    "rds = np.array([[test_triads_A8_bal_dens_rands[j][np.where(test_triads_A8_thetas >= distances[i])[0][0]] for i in range(0, len(distances))] for j in range(0, len(test_triads_A8_bal_dens_rands))])\n",
    "    \n",
    "\n",
    "vals = [rds[i][0] for i in range(0, len(rds))]\n",
    "val = pds[0]\n",
    "\n",
    "calc_ranks(vals, val)"
   ]
  },
  {
   "cell_type": "code",
   "execution_count": 134,
   "id": "elementary-portable",
   "metadata": {},
   "outputs": [],
   "source": [
    "rand_ranks, rl_rank = calc_ranks_thetas(rds, pds)"
   ]
  },
  {
   "cell_type": "code",
   "execution_count": 135,
   "id": "aquatic-seminar",
   "metadata": {},
   "outputs": [],
   "source": [
    "sums = np.sum(rand_ranks,0)"
   ]
  },
  {
   "cell_type": "code",
   "execution_count": 141,
   "id": "sapphire-support",
   "metadata": {},
   "outputs": [
    {
     "data": {
      "image/png": "[encoded data removed]",
      "text/plain": [
       "<Figure size 432x288 with 1 Axes>"
      ]
     },
     "metadata": {
      "needs_background": "light"
     },
     "output_type": "display_data"
    },
    {
     "data": {
      "text/plain": [
       "ShapiroResult(statistic=0.9972275495529175, pvalue=0.08320686966180801)"
      ]
     },
     "execution_count": 141,
     "metadata": {},
     "output_type": "execute_result"
    }
   ],
   "source": [
    "sm.qqplot((sums - np.mean(sums)) / np.std(sums), line ='45')\n",
    "py.show()\n",
    "stats.shapiro(sums)"
   ]
  },
  {
   "cell_type": "code",
   "execution_count": 137,
   "id": "auburn-liverpool",
   "metadata": {},
   "outputs": [
    {
     "data": {
      "text/plain": [
       "(962,\n",
       " array([ 6095.5,  6377. ,  7802. ,  8101.5,  8902. ,  6040.5,  6375.5,\n",
       "         7384. ,  6341.5,  7624.5,  8147.5,  9045. ,  6954. ,  8279.5,\n",
       "        10607.5, 10006.5,  4253.5, 10146. ,  6966. , 10965. ,  9390.5,\n",
       "         5978. ,  7073.5,  8748. , 11192. ,  5099. ,  7086. ,  8168.5,\n",
       "         7604. ,  4205. ,  8441.5,  7475.5, 12062. ,  7282.5,  6941. ,\n",
       "         7406. ,  9593.5,  7794.5,  4134. ,  9387. ,  7815. ,  7654.5,\n",
       "         7656. ,  8142.5,  7106.5,  8035. ,  9437. ,  6153. ,  7519.5,\n",
       "         7179.5,  9657. , 10559. ,  9934. ,  4604.5,  8166. ,  5306.5,\n",
       "         9335.5,  7060. ,  9322.5,  6829.5,  5356.5,  9638.5,  6797. ,\n",
       "         6848.5,  9786.5,  9318.5, 11160.5,  9075. ,  5314. ,  6853. ,\n",
       "         9144.5,  8657.5,  9599. ,  7104.5,  8749.5,  9358.5,  9173.5,\n",
       "        11299.5,  4622. ,  5743. ,  6839.5,  7068. ,  8966. ,  9760.5,\n",
       "         7968.5,  8337.5,  5609. ,  6928. ,  8997. ,  6397.5,  5604. ,\n",
       "         6731.5, 10983.5, 10864.5,  4694. ,  5782. ,  8374.5, 10302.5,\n",
       "         7580.5,  5149.5,  8391. ,  8120.5,  3998.5,  7257. , 11241.5,\n",
       "         6964.5,  5337.5,  8153.5,  8161.5,  7605. ,  9444.5,  8113. ,\n",
       "         7231. , 11975.5,  7767. ,  8618. ,  6710. ,  7723.5,  7117.5,\n",
       "         8988. ,  5992.5, 10302.5,  2970.5,  6597.5,  3467. ,  5888.5,\n",
       "         7611. , 10227.5,  8562.5, 10233. ,  8590. ,  8506.5,  6215.5,\n",
       "         9625. , 10666.5,  6926. ,  7826. ,  8755.5,  8861. ,  6286. ,\n",
       "         8025.5,  9302.5,  6917.5, 10280.5,  7976.5,  8989.5,  6878. ,\n",
       "         9908. ,  7567.5,  5287.5,  5961.5,  9520.5,  6208.5,  7656. ,\n",
       "        10132.5,  9946.5,  8912.5,  6719. ,  8156.5,  7065.5, 12319. ,\n",
       "        10971. , 10000. ,  9185. ,  8150.5,  7584. ,  7095.5,  5813.5,\n",
       "         7157. ,  9350. , 11063. ,  8145. ,  8770.5,  7763. ,  6260.5,\n",
       "         7190. ,  7633. ,  9790. ,  7760. ,  9870. ,  5597.5,  8232. ,\n",
       "         6674.5,  8674.5,  6778. ,  4619.5,  6018. ,  6203.5,  7571. ,\n",
       "        10907.5,  7394. ,  8191. ,  7882. ,  5968.5, 10291. ,  7016. ,\n",
       "         8840.5, 11992.5,  7104. ,  6952.5, 11401. ,  8487.5, 10354. ,\n",
       "         8693. ,  6957.5,  7499. ,  8620. ,  9509.5,  7956.5,  7939.5,\n",
       "         8257. ,  7204. ,  7098. ,  8654.5, 10635.5,  9613. ,  4449.5,\n",
       "         6158. ,  8780.5,  8154. ,  6827. ,  9980.5,  6768. , 10714. ,\n",
       "         9902. ,  9089. ,  8131.5,  5732. , 10141.5,  8159.5,  5825. ,\n",
       "         8047. , 11020. ,  9115.5,  4846.5, 10159.5,  7897. ,  7897.5,\n",
       "         8661. ,  3578. ,  7993. , 10174.5,  8029. ,  6799.5, 10695.5,\n",
       "         7819.5,  5546. , 10490. ,  9342.5,  6131.5,  6982. ,  7756.5,\n",
       "         8978. ,  7450. ,  9437. ,  7004. ,  8036. , 10010. ,  6665.5,\n",
       "         7379. ,  7859. ,  6512.5,  7933.5,  8144. , 11928.5,  8386.5,\n",
       "         9427. ,  8180.5,  7865.5,  5980. , 10450. ,  8918. ,  6835.5,\n",
       "         4641.5,  8281.5,  6623.5,  8256. ,  6198. ,  9403. , 10270. ,\n",
       "         9074. ,  7109.5,  7485.5,  9003.5,  5950.5,  9773. , 10443.5,\n",
       "         8022.5,  7272.5,  7481.5,  8372. ,  9502. ,  4964. , 10738. ,\n",
       "         8307.5,  7838. , 10357. ,  8590.5,  8478. ,  9899. ,  7202.5,\n",
       "         7566. ,  6697.5,  9148.5, 10319. ,  9280. ,  5302. , 11336. ,\n",
       "         7681.5,  9847. ,  8081.5,  5977. ,  8552.5,  9411. , 11656.5,\n",
       "         5362.5,  9266. ,  9239. ,  7804.5,  6536.5, 10078. ,  6304.5,\n",
       "         8620.5, 10602.5,  5739.5,  8802.5, 11430.5,  6212. , 10584. ,\n",
       "         6230.5,  6001. ,  8489. ,  8108. ,  8778.5, 10202.5,  8629.5,\n",
       "         7954.5,  9646.5,  8634. ,  9265.5,  7282.5,  8020.5,  8729. ,\n",
       "        10342. , 10696. ,  6591. ,  9534. ,  7671. , 10527.5,  8549. ,\n",
       "         4996. ,  7696. ,  4610.5,  9791. ,  4637.5,  5231.5,  7674. ,\n",
       "         8502. , 10604.5, 10280.5,  5913.5,  8975. , 10743. ,  6388.5,\n",
       "         6304. ,  8678.5,  9195. ,  8179.5, 11869. ,  7382. ,  5919.5,\n",
       "         3964.5,  7800.5,  9128.5,  7062.5,  2893. , 10267. ,  5347.5,\n",
       "         7841.5,  5095. ,  8249. ,  7160. ,  9467.5,  7797. ,  7298. ,\n",
       "         8974. ,  8961. ,  7100.5,  7292. ,  6888.5,  7289. ,  6157. ,\n",
       "         9393.5,  9440. ,  7578. ,  9131.5,  8220.5,  8696.5,  9640.5,\n",
       "         7297.5,  8266.5, 10439.5, 11663. ,  9869. ,  8018. ,  9159.5,\n",
       "         5868. , 10406.5,  7940. ,  4831. ,  7886.5,  7887.5,  9256. ,\n",
       "        10551.5,  5357. ,  5834.5,  5977.5, 10227. ,  5230. ,  3518. ,\n",
       "         7155. ,  5009. ,  6590.5,  6299. ,  9337.5,  9832.5,  5789.5,\n",
       "         8741.5,  8725.5, 10575. ,  9598.5,  9372. ,  8896.5,  4874. ,\n",
       "         7145. ,  9395.5,  4396.5,  4690. , 10428. ,  4690. ,  7681. ,\n",
       "         8506.5,  3947. ,  7505.5,  9682.5,  7716.5,  9568. ,  8409.5,\n",
       "         5287.5,  7739. ,  6349. , 10621.5,  5904. ,  8085.5, 10257. ,\n",
       "         7853.5,  9753. ,  8757.5,  9199.5,  8133.5,  7748. ,  9107. ,\n",
       "         6436.5,  9498. , 11024.5,  9007. ,  7143.5,  9075. ,  9168. ,\n",
       "         7809. , 11147. ,  5641.5,  9686. ,  7161. ,  8734.5, 11124.5,\n",
       "         8485.5,  8957. ,  6069. ,  7359. ,  4715. ,  7822.5,  7496.5,\n",
       "         9197.5,  9143. ,  8502. ,  4957. ,  3982.5,  7360. ,  4346. ,\n",
       "        11567.5,  6754. , 11880. ,  7261. ,  7796. ,  8250.5,  5097. ,\n",
       "         7462.5,  7311.5,  5849.5, 10373. , 11544.5,  7291.5,  8401.5,\n",
       "         6560. ,  6436.5,  8609. ,  7729. ,  7637. ,  5307. ,  8717.5,\n",
       "         8056.5,  6264.5,  7531.5,  6015. ,  6159.5,  5141. ,  9659. ,\n",
       "         9197.5,  8286.5, 10840.5,  2445.5,  6841.5,  7632. ,  6778.5,\n",
       "         6607. ,  9329. ,  7306. ,  9486. ,  8704.5, 10187.5,  8305.5,\n",
       "         7244. ,  7542.5,  9616. ,  8655. ,  6683. ,  7177. , 11938.5,\n",
       "         7985. ,  6651. , 10974. ,  6187.5,  5819. ,  9534.5,  9569.5,\n",
       "         4232. ,  4611. ,  7693.5,  6561.5, 11677. ,  8973. ,  5846. ,\n",
       "         5018. ,  7362.5,  4774.5,  4525. ,  7154.5,  4705.5,  8214.5,\n",
       "         9751. ,  7873.5,  8192. ,  5684. ,  7429. ,  7869.5,  8675. ,\n",
       "         9239. , 11355.5,  7231. ,  8555. ,  8428.5,  9572. ,  7299. ,\n",
       "         9449.5,  8781. ,  7649.5,  6364.5,  9378.5,  6363.5,  7203. ,\n",
       "        11316.5,  9044.5,  8296.5, 10293. ,  9958.5,  5113. ,  8305.5,\n",
       "         9945. ,  9997.5,  6810.5,  6369.5, 12471. , 10233. ,  8230. ,\n",
       "        10310.5,  7357.5,  7164.5,  6463. ,  8176.5,  7724. ,  8258. ,\n",
       "         7766. ,  9748.5,  8430. ,  5647.5,  8131.5,  6367.5, 10909.5,\n",
       "         8868.5,  7226. ,  7633.5,  6717. ,  6183.5,  7092. ,  8010. ,\n",
       "        10317.5,  9848. ,  9290. , 10272. , 10199.5,  7882.5,  6277. ,\n",
       "         9531.5,  9003.5,  7902.5,  7976.5, 11839. ,  6866.5, 10929. ,\n",
       "         5841.5,  5665.5,  6727. ,  5302. ,  8254.5,  6376. ,  7736. ,\n",
       "         8832. ,  9443. ,  3519. ,  3907.5,  7601.5,  9410.5,  6559.5,\n",
       "         8694.5,  6326.5,  6597. ,  6336. ,  6959.5,  6264.5,  5909.5,\n",
       "         6816. ,  6509. ,  9288.5,  7996. ,  8923.5,  7810. ,  7034.5,\n",
       "         7325. ,  7877.5,  9645.5,  6062.5,  7906. ,  9837. , 10661.5,\n",
       "        10163. ,  6585. ,  7943. ,  8114. ,  9183. ,  7076.5,  8129.5,\n",
       "         6891.5,  4882.5,  6954.5,  8750.5,  7747. ,  8165.5,  6446. ,\n",
       "         7635. ,  7950. ,  5013. ,  6070.5,  7814. , 11174.5,  8718. ,\n",
       "         7060. ,  8676.5,  7786. ,  9314.5,  4593. ,  7468.5,  6704.5,\n",
       "         7159. ,  8166. ,  7936.5,  8333.5, 10131. ,  5991. ,  4628. ,\n",
       "        11780.5,  6756.5,  8517.5,  6975.5,  4751.5,  9101. ,  6416. ,\n",
       "         9501.5,  7104.5,  8574. ,  7537.5, 10824.5, 11801.5,  6393. ,\n",
       "         8391.5, 10732. ,  7128.5, 11372.5,  9892.5,  6132.5,  8331.5,\n",
       "         5409. , 11111.5,  9054.5,  4755.5,  4697.5,  9781.5, 10083. ,\n",
       "         9106. ,  7902.5,  8334.5,  7665. ,  8125.5,  6931.5,  9619. ,\n",
       "         6675. ,  9900. ,  6451.5,  9021. ,  9211. , 12064. ,  8992. ,\n",
       "         8341.5,  6080. ,  6860. ,  8585.5,  7175.5, 10363.5,  9981. ,\n",
       "         7334.5,  6554.5,  6249. ,  9628.5,  8507.5,  7757. , 10751. ,\n",
       "        10082. ,  8105. ,  9177. ,  9972.5,  9910. ,  7994. ,  9333. ,\n",
       "         7815. ,  8757.5,  4938.5,  7147. ,  7080. ,  5772. , 10816.5,\n",
       "         7813. ,  8780.5,  6821.5,  5236. ,  4686. ,  7043. ,  5957. ,\n",
       "         9921. , 10051.5, 10856. ,  3279.5,  9332.5,  9114. ,  6234. ,\n",
       "         6315.5,  5093. , 10201.5,  5033.5,  7591. ,  8793.5,  6595.5,\n",
       "         8035. ,  7386.5,  8879. , 11504. ,  5560. ,  7289. ,  9121.5,\n",
       "         5994. ,  8774. ,  8992. , 10510. ,  9110. ,  8569. ,  8464.5,\n",
       "         6353.5,  9407. ,  4580.5, 10209.5,  9130. ,  9403.5, 12033. ,\n",
       "         9637.5,  5393. ,  7055. ,  9638.5,  5675. ,  6132.5,  6912.5,\n",
       "         8085.5,  9858. ,  4896.5,  6453.5, 10480.5,  5990.5, 10931.5,\n",
       "         7458.5,  8888. ,  7821.5,  8489.5,  8718.5, 11023.5,  5946.5,\n",
       "         7984.5,  7263.5,  3654. ,  6830. ,  6864.5,  7106.5,  7128.5,\n",
       "         9590.5,  6315. , 10019.5,  6637.5,  8767.5,  8453. ,  8673. ,\n",
       "         9864.5, 10335. ,  9260. ,  8754. ,  5711.5,  9514. ,  6308.5,\n",
       "        11577. , 11603.5,  6979.5,  6577. ,  6799. ,  7555.5, 10461. ,\n",
       "         8495.5,  6498.5, 10326. ,  9094. , 13422.5, 10846.5,  7831.5,\n",
       "         7558. ,  6226. ,  6648. ,  7679. ,  7604. ,  8097. ,  9520.5,\n",
       "         8157.5, 10462. ,  9276.5,  7282. ,  7819.5,  9712.5,  8036. ,\n",
       "         9937.5, 10820.5,  7815. , 11337.5,  7227. , 10336.5, 10143.5,\n",
       "         6397.5,  9971.5,  9329.5,  6191.5,  7702. ,  9370.5,  8649. ,\n",
       "         6961. ,  6987. ,  8870. ,  7549.5,  5710. , 10665. ,  9719. ,\n",
       "         8115.5,  9227. ,  8210.5, 10548. ,  5596. ,  6856. ,  8662. ,\n",
       "        10394. ,  6223.5,  6138. ,  7629. ,  5144. ,  8267.5,  8763. ,\n",
       "         7656.5, 10833.5,  6830.5,  8426. ,  6758.5, 11502.5, 11137.5,\n",
       "         8327. ,  8736.5,  7689.5, 10571.5,  4912.5,  6672. ,  6443. ,\n",
       "         7531. ,  7527. ,  9578.5,  8008. ,  9674.5,  8183.5,  5385.5,\n",
       "         6735.5,  5171.5,  5679. ,  6540. ,  3804.5,  6878. ,  8855. ,\n",
       "        10389. ,  6776. ,  7109. ,  9257. ,  5453. ,  8156.5,  7790.5,\n",
       "         8076.5, 10348.5,  8357. ,  9873.5,  9948.5, 10683. ,  7648.5,\n",
       "         4542.5, 11453.5,  9154.5,  6966.5,  3693.5,  8510.5,  6223. ,\n",
       "         7143. ,  8362.5,  9637.5,  8355.5,  9398. ,  7314.5,  8111.5,\n",
       "         9167.5,  7352.5,  7016. ,  7529.5,  5970. ,  8735.5,  4079.5,\n",
       "         4993.5,  9931. ,  8794.5,  8283. ,  6270.5,  5291. ,  6542.5,\n",
       "         7845.5, 11571.5,  8706. ,  6609. ,  7532.5,  9918. ,  8286. ,\n",
       "         7002. ,  7266. , 11060. , 10971.5,  9416. ,  6681.5]),\n",
       " 11149.5)"
      ]
     },
     "execution_count": 137,
     "metadata": {},
     "output_type": "execute_result"
    }
   ],
   "source": [
    "np.sum(sums < np.sum(rl_rank)), sums, np.sum(rl_rank)"
   ]
  },
  {
   "cell_type": "code",
   "execution_count": 138,
   "id": "steady-victorian",
   "metadata": {},
   "outputs": [
    {
     "data": {
      "text/plain": [
       "13422.5"
      ]
     },
     "execution_count": 138,
     "metadata": {},
     "output_type": "execute_result"
    }
   ],
   "source": [
    "np.max(sums)"
   ]
  },
  {
   "cell_type": "code",
   "execution_count": 139,
   "id": "electric-migration",
   "metadata": {},
   "outputs": [
    {
     "data": {
      "text/plain": [
       "0.038000000000000034"
      ]
     },
     "execution_count": 139,
     "metadata": {},
     "output_type": "execute_result"
    }
   ],
   "source": [
    "# pvalue:\n",
    "1-np.sum(sums < np.sum(rl_rank))/len(sums)"
   ]
  }
 ],
 "metadata": {
  "kernelspec": {
   "display_name": "Python 3 (ipykernel)",
   "language": "python",
   "name": "python3"
  },
  "language_info": {
   "codemirror_mode": {
    "name": "ipython",
    "version": 3
   },
   "file_extension": ".py",
   "mimetype": "text/x-python",
   "name": "python",
   "nbconvert_exporter": "python",
   "pygments_lexer": "ipython3",
   "version": "3.8.5"
  }
 },
 "nbformat": 4,
 "nbformat_minor": 5
}

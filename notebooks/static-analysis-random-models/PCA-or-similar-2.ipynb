{
 "cells": [
  {
   "cell_type": "code",
   "execution_count": 2,
   "id": "southeast-accused",
   "metadata": {},
   "outputs": [],
   "source": [
    "import pickle\n",
    "import networkx as nx\n",
    "import numpy as np\n",
    "import pandas as pd\n",
    "\n",
    "from scipy import stats\n",
    "\n",
    "import matplotlib.pyplot as plt"
   ]
  },
  {
   "cell_type": "code",
   "execution_count": 3,
   "id": "realistic-syntax",
   "metadata": {},
   "outputs": [
    {
     "name": "stdout",
     "output_type": "stream",
     "text": [
      "Showing the pickled data:\n",
      "The data  0  is :  1\n",
      "The data  1  is :  2\n",
      "The data  2  is :  3\n",
      "The data  3  is :  4\n",
      "The data  4  is :  5\n",
      "The data  5  is :  6\n"
     ]
    }
   ],
   "source": [
    "file = open('NetSense_network.pkl', 'rb')\n",
    "# dump information to that file\n",
    "data = pickle.load(file)\n",
    "\n",
    "# close the file\n",
    "file.close()\n",
    "\n",
    "print('Showing the pickled data:')\n",
    "\n",
    "cnt = 0\n",
    "for item in data:\n",
    "    print('The data ', cnt, ' is : ', item)\n",
    "    cnt += 1"
   ]
  },
  {
   "cell_type": "code",
   "execution_count": 4,
   "id": "social-collection",
   "metadata": {},
   "outputs": [
    {
     "data": {
      "text/plain": [
       "1"
      ]
     },
     "execution_count": 4,
     "metadata": {},
     "output_type": "execute_result"
    }
   ],
   "source": [
    "data[6].nodes[75261]['hometown_1']"
   ]
  },
  {
   "cell_type": "code",
   "execution_count": 5,
   "id": "transsexual-samoa",
   "metadata": {},
   "outputs": [
    {
     "ename": "TypeError",
     "evalue": "'int' object is not subscriptable",
     "output_type": "error",
     "traceback": [
      "\u001b[0;31m---------------------------------------------------------------------------\u001b[0m",
      "\u001b[0;31mTypeError\u001b[0m                                 Traceback (most recent call last)",
      "\u001b[0;32m<ipython-input-5-f044d128f063>\u001b[0m in \u001b[0;36m<module>\u001b[0;34m\u001b[0m\n\u001b[1;32m      1\u001b[0m \u001b[0;32mfor\u001b[0m \u001b[0mnode\u001b[0m \u001b[0;32min\u001b[0m \u001b[0mdata\u001b[0m\u001b[0;34m[\u001b[0m\u001b[0;36m6\u001b[0m\u001b[0;34m]\u001b[0m\u001b[0;34m.\u001b[0m\u001b[0mnodes\u001b[0m\u001b[0;34m:\u001b[0m\u001b[0;34m\u001b[0m\u001b[0;34m\u001b[0m\u001b[0m\n\u001b[0;32m----> 2\u001b[0;31m     \u001b[0mnode\u001b[0m\u001b[0;34m[\u001b[0m\u001b[0;34m'hometown_1'\u001b[0m\u001b[0;34m]\u001b[0m\u001b[0;34m\u001b[0m\u001b[0;34m\u001b[0m\u001b[0m\n\u001b[0m",
      "\u001b[0;31mTypeError\u001b[0m: 'int' object is not subscriptable"
     ]
    }
   ],
   "source": [
    "for node in data[6].nodes:\n",
    "    node['hometown_1']"
   ]
  },
  {
   "cell_type": "code",
   "execution_count": 6,
   "id": "civil-fields",
   "metadata": {},
   "outputs": [
    {
     "data": {
      "image/png": "[encoded data removed]",
      "text/plain": [
       "<Figure size 432x288 with 1 Axes>"
      ]
     },
     "metadata": {},
     "output_type": "display_data"
    }
   ],
   "source": [
    "nx.draw(data[6])"
   ]
  },
  {
   "cell_type": "code",
   "execution_count": 7,
   "id": "sharing-england",
   "metadata": {},
   "outputs": [
    {
     "data": {
      "text/plain": [
       "NodeDataView({75178: {'age_1': 1, 'hometown_1': 1, 'ethnicity_1': 2, 'gender_1': 2, 'premaritalsex_': 3, 'euthanasia_': 3, 'deathpen_': 3, 'gaymarriage_': 3, 'marijuana_': 2, 'political_': 1, 'abortion_': 3, 'homosexual_': 3}, 30952: {'age_1': 1, 'hometown_1': 1, 'ethnicity_1': 2, 'gender_1': 2, 'premaritalsex_': 2, 'euthanasia_': 2, 'deathpen_': 2, 'gaymarriage_': 1, 'marijuana_': 3, 'political_': 1, 'abortion_': 2, 'homosexual_': 2}, 13116: {'age_1': 1, 'hometown_1': 1, 'ethnicity_1': 2, 'gender_1': 1, 'premaritalsex_': 3, 'euthanasia_': 3, 'deathpen_': 3, 'gaymarriage_': 3, 'marijuana_': 3, 'political_': 3, 'abortion_': 3, 'homosexual_': 1}, 62555: {'age_1': 2, 'hometown_1': 1, 'ethnicity_1': 2, 'gender_1': 1, 'premaritalsex_': 3, 'euthanasia_': 1, 'deathpen_': 1, 'gaymarriage_': 3, 'marijuana_': 2, 'political_': 3, 'abortion_': 3, 'homosexual_': 3}, 26999: {'age_1': 2, 'hometown_1': 1, 'ethnicity_1': 2, 'gender_1': 1, 'premaritalsex_': 3, 'euthanasia_': 1, 'deathpen_': 2, 'gaymarriage_': 2, 'marijuana_': 1, 'political_': 2, 'abortion_': 3, 'homosexual_': 3}, 10841: {'age_1': 1, 'hometown_1': 1, 'ethnicity_1': 4, 'gender_1': 2, 'premaritalsex_': 1, 'euthanasia_': 3, 'deathpen_': 1, 'gaymarriage_': 1, 'marijuana_': 1, 'political_': 2, 'abortion_': 1, 'homosexual_': 1}, 17353: {'age_1': 1, 'hometown_1': 1, 'ethnicity_1': 1, 'gender_1': 2, 'premaritalsex_': 1, 'euthanasia_': 1, 'deathpen_': 2, 'gaymarriage_': 2, 'marijuana_': 1, 'political_': 1, 'abortion_': 1, 'homosexual_': 2}, 86352: {'age_1': 2, 'hometown_1': 1, 'ethnicity_1': 3, 'gender_1': 1, 'premaritalsex_': 1, 'euthanasia_': 2, 'deathpen_': 2, 'gaymarriage_': 2, 'marijuana_': 3, 'political_': 2, 'abortion_': 2, 'homosexual_': 1}, 53275: {'age_1': 1, 'hometown_1': 1, 'ethnicity_1': 4, 'gender_1': 1, 'premaritalsex_': 3, 'euthanasia_': 3, 'deathpen_': 1, 'gaymarriage_': 3, 'marijuana_': 2, 'political_': 2, 'abortion_': 3, 'homosexual_': 3}, 77291: {'age_1': 1, 'hometown_1': 1, 'ethnicity_1': 1, 'gender_1': 2, 'premaritalsex_': 3, 'euthanasia_': 1, 'deathpen_': 1, 'gaymarriage_': 3, 'marijuana_': 3, 'political_': 3, 'abortion_': 1, 'homosexual_': 3}, 18394: {'age_1': 1, 'hometown_1': 2, 'ethnicity_1': 1, 'gender_1': 2, 'premaritalsex_': 1, 'euthanasia_': 3, 'deathpen_': 1, 'gaymarriage_': 1, 'marijuana_': 2, 'political_': 2, 'abortion_': 1, 'homosexual_': 1}, 36006: {'age_1': 1, 'hometown_1': 2, 'ethnicity_1': 1, 'gender_1': 1, 'premaritalsex_': 1, 'euthanasia_': 1, 'deathpen_': 1, 'gaymarriage_': 2, 'marijuana_': 1, 'political_': 1, 'abortion_': 1, 'homosexual_': 1}, 57637: {'age_1': 2, 'hometown_1': 1, 'ethnicity_1': 1, 'gender_1': 1, 'premaritalsex_': 3, 'euthanasia_': 2, 'deathpen_': 1, 'gaymarriage_': 3, 'marijuana_': 3, 'political_': 1, 'abortion_': 1, 'homosexual_': 3}, 71627: {'age_1': 2, 'hometown_1': 2, 'ethnicity_1': 1, 'gender_1': 2, 'premaritalsex_': 1, 'euthanasia_': 1, 'deathpen_': 1, 'gaymarriage_': 1, 'marijuana_': 3, 'political_': 1, 'abortion_': 1, 'homosexual_': 2}, 75261: {'age_1': 1, 'hometown_1': 1, 'ethnicity_1': 3, 'gender_1': 2, 'premaritalsex_': 3, 'euthanasia_': 3, 'deathpen_': 3, 'gaymarriage_': 3, 'marijuana_': 3, 'political_': 3, 'abortion_': 1, 'homosexual_': 3}, 19844: {'age_1': 2, 'hometown_1': 1, 'ethnicity_1': 1, 'gender_1': 1, 'premaritalsex_': 2, 'euthanasia_': 3, 'deathpen_': 1, 'gaymarriage_': 1, 'marijuana_': 2, 'political_': 1, 'abortion_': 1, 'homosexual_': 2}, 25323: {'age_1': 1, 'hometown_1': 1, 'ethnicity_1': 1, 'gender_1': 2, 'premaritalsex_': 3, 'euthanasia_': 2, 'deathpen_': 2, 'gaymarriage_': 1, 'marijuana_': 2, 'political_': 1, 'abortion_': 1, 'homosexual_': 1}, 40997: {'age_1': 1, 'hometown_1': 1, 'ethnicity_1': 4, 'gender_1': 1, 'premaritalsex_': 1, 'euthanasia_': 3, 'deathpen_': 3, 'gaymarriage_': 1, 'marijuana_': 3, 'political_': 1, 'abortion_': 1, 'homosexual_': 1}, 52635: {'age_1': 2, 'hometown_1': 1, 'ethnicity_1': 4, 'gender_1': 1, 'premaritalsex_': 2, 'euthanasia_': 3, 'deathpen_': 2, 'gaymarriage_': 3, 'marijuana_': 3, 'political_': 3, 'abortion_': 3, 'homosexual_': 3}, 45945: {'age_1': 1, 'hometown_1': 1, 'ethnicity_1': 1, 'gender_1': 1, 'premaritalsex_': 3, 'euthanasia_': 3, 'deathpen_': 1, 'gaymarriage_': 3, 'marijuana_': 3, 'political_': 1, 'abortion_': 1, 'homosexual_': 1}, 72746: {'age_1': 1, 'hometown_1': 3, 'ethnicity_1': 1, 'gender_1': 1, 'premaritalsex_': 3, 'euthanasia_': 3, 'deathpen_': 3, 'gaymarriage_': 3, 'marijuana_': 3, 'political_': 1, 'abortion_': 3, 'homosexual_': 3}, 15071: {'age_1': 2, 'hometown_1': 2, 'ethnicity_1': 1, 'gender_1': 1, 'premaritalsex_': 3, 'euthanasia_': 3, 'deathpen_': 1, 'gaymarriage_': 3, 'marijuana_': 3, 'political_': 3, 'abortion_': 3, 'homosexual_': 3}, 46771: {'age_1': 1, 'hometown_1': 1, 'ethnicity_1': 1, 'gender_1': 1, 'premaritalsex_': 3, 'euthanasia_': 3, 'deathpen_': 1, 'gaymarriage_': 3, 'marijuana_': 3, 'political_': 1, 'abortion_': 1, 'homosexual_': 3}, 29914: {'age_1': 1, 'hometown_1': 2, 'ethnicity_1': 1, 'gender_1': 1, 'premaritalsex_': 3, 'euthanasia_': 3, 'deathpen_': 1, 'gaymarriage_': 3, 'marijuana_': 3, 'political_': 3, 'abortion_': 3, 'homosexual_': 3}, 52067: {'age_1': 1, 'hometown_1': 3, 'ethnicity_1': 1, 'gender_1': 1, 'premaritalsex_': 3, 'euthanasia_': 2, 'deathpen_': 3, 'gaymarriage_': 3, 'marijuana_': 3, 'political_': 2, 'abortion_': 2, 'homosexual_': 3}, 37617: {'age_1': 1, 'hometown_1': 1, 'ethnicity_1': 1, 'gender_1': 2, 'premaritalsex_': 1, 'euthanasia_': 1, 'deathpen_': 1, 'gaymarriage_': 1, 'marijuana_': 2, 'political_': 1, 'abortion_': 1, 'homosexual_': 1}, 30076: {'age_1': 1, 'hometown_1': 2, 'ethnicity_1': 1, 'gender_1': 1, 'premaritalsex_': 1, 'euthanasia_': 3, 'deathpen_': 1, 'gaymarriage_': 2, 'marijuana_': 1, 'political_': 2, 'abortion_': 1, 'homosexual_': 1}, 71700: {'age_1': 2, 'hometown_1': 1, 'ethnicity_1': 3, 'gender_1': 2, 'premaritalsex_': 1, 'euthanasia_': 1, 'deathpen_': 2, 'gaymarriage_': 1, 'marijuana_': 2, 'political_': 1, 'abortion_': 1, 'homosexual_': 1}, 19066: {'age_1': 1, 'hometown_1': 1, 'ethnicity_1': 1, 'gender_1': 2, 'premaritalsex_': 2, 'euthanasia_': 1, 'deathpen_': 2, 'gaymarriage_': 3, 'marijuana_': 1, 'political_': 1, 'abortion_': 1, 'homosexual_': 1}, 51675: {'age_1': 1, 'hometown_1': 1, 'ethnicity_1': 1, 'gender_1': 2, 'premaritalsex_': 1, 'euthanasia_': 1, 'deathpen_': 1, 'gaymarriage_': 1, 'marijuana_': 2, 'political_': 2, 'abortion_': 1, 'homosexual_': 1}, 63188: {'age_1': 1, 'hometown_1': 1, 'ethnicity_1': 4, 'gender_1': 1, 'premaritalsex_': 1, 'euthanasia_': 1, 'deathpen_': 1, 'gaymarriage_': 1, 'marijuana_': 1, 'political_': 3, 'abortion_': 1, 'homosexual_': 1}, 79877: {'age_1': 1, 'hometown_1': 2, 'ethnicity_1': 4, 'gender_1': 1, 'premaritalsex_': 3, 'euthanasia_': 3, 'deathpen_': 1, 'gaymarriage_': 3, 'marijuana_': 3, 'political_': 3, 'abortion_': 3, 'homosexual_': 3}, 14106: {'age_1': 2, 'hometown_1': 3, 'ethnicity_1': 1, 'gender_1': 1, 'premaritalsex_': 3, 'euthanasia_': 3, 'deathpen_': 2, 'gaymarriage_': 3, 'marijuana_': 1, 'political_': 1, 'abortion_': 3, 'homosexual_': 3}, 76313: {'age_1': 2, 'hometown_1': 2, 'ethnicity_1': 1, 'gender_1': 1, 'premaritalsex_': 3, 'euthanasia_': 3, 'deathpen_': 2, 'gaymarriage_': 3, 'marijuana_': 3, 'political_': 3, 'abortion_': 1, 'homosexual_': 3}, 82282: {'age_1': 1, 'hometown_1': 1, 'ethnicity_1': 3, 'gender_1': 2, 'premaritalsex_': 1, 'euthanasia_': 3, 'deathpen_': 1, 'gaymarriage_': 3, 'marijuana_': 1, 'political_': 2, 'abortion_': 1, 'homosexual_': 3}, 85596: {'age_1': 1, 'hometown_1': 1, 'ethnicity_1': 1, 'gender_1': 2, 'premaritalsex_': 1, 'euthanasia_': 1, 'deathpen_': 1, 'gaymarriage_': 1, 'marijuana_': 1, 'political_': 1, 'abortion_': 1, 'homosexual_': 1}, 10060: {'age_1': 1, 'hometown_1': 2, 'ethnicity_1': 1, 'gender_1': 2, 'premaritalsex_': 1, 'euthanasia_': 3, 'deathpen_': 1, 'gaymarriage_': 3, 'marijuana_': 1, 'political_': 1, 'abortion_': 3, 'homosexual_': 3}, 75468: {'age_1': 1, 'hometown_1': 1, 'ethnicity_1': 1, 'gender_1': 1, 'premaritalsex_': 3, 'euthanasia_': 3, 'deathpen_': 1, 'gaymarriage_': 2, 'marijuana_': 3, 'political_': 2, 'abortion_': 3, 'homosexual_': 3}, 46021: {'age_1': 2, 'hometown_1': 1, 'ethnicity_1': 1, 'gender_1': 1, 'premaritalsex_': 3, 'euthanasia_': 3, 'deathpen_': 3, 'gaymarriage_': 3, 'marijuana_': 3, 'political_': 2, 'abortion_': 3, 'homosexual_': 3}, 23642: {'age_1': 1, 'hometown_1': 1, 'ethnicity_1': 1, 'gender_1': 2, 'premaritalsex_': 1, 'euthanasia_': 1, 'deathpen_': 3, 'gaymarriage_': 1, 'marijuana_': 1, 'political_': 1, 'abortion_': 1, 'homosexual_': 1}, 50869: {'age_1': 1, 'hometown_1': 2, 'ethnicity_1': 1, 'gender_1': 1, 'premaritalsex_': 1, 'euthanasia_': 3, 'deathpen_': 1, 'gaymarriage_': 1, 'marijuana_': 1, 'political_': 1, 'abortion_': 1, 'homosexual_': 1}, 68633: {'age_1': 1, 'hometown_1': 1, 'ethnicity_1': 4, 'gender_1': 2, 'premaritalsex_': 3, 'euthanasia_': 2, 'deathpen_': 1, 'gaymarriage_': 2, 'marijuana_': 1, 'political_': 2, 'abortion_': 1, 'homosexual_': 1}, 18420: {'age_1': 1, 'hometown_1': 1, 'ethnicity_1': 2, 'gender_1': 1, 'premaritalsex_': 2, 'euthanasia_': 1, 'deathpen_': 1, 'gaymarriage_': 3, 'marijuana_': 1, 'political_': 3, 'abortion_': 3, 'homosexual_': 3}, 68494: {'age_1': 1, 'hometown_1': 1, 'ethnicity_1': 4, 'gender_1': 2, 'premaritalsex_': 1, 'euthanasia_': 1, 'deathpen_': 1, 'gaymarriage_': 1, 'marijuana_': 1, 'political_': 1, 'abortion_': 1, 'homosexual_': 1}, 39783: {'age_1': 1, 'hometown_1': 2, 'ethnicity_1': 3, 'gender_1': 2, 'premaritalsex_': 1, 'euthanasia_': 2, 'deathpen_': 3, 'gaymarriage_': 1, 'marijuana_': 1, 'political_': 1, 'abortion_': 1, 'homosexual_': 1}, 21350: {'age_1': 1, 'hometown_1': 1, 'ethnicity_1': 1, 'gender_1': 2, 'premaritalsex_': 3, 'euthanasia_': 3, 'deathpen_': 2, 'gaymarriage_': 3, 'marijuana_': 3, 'political_': 3, 'abortion_': 3, 'homosexual_': 3}, 66404: {'age_1': 2, 'hometown_1': 2, 'ethnicity_1': 1, 'gender_1': 1, 'premaritalsex_': 3, 'euthanasia_': 3, 'deathpen_': 1, 'gaymarriage_': 1, 'marijuana_': 1, 'political_': 1, 'abortion_': 1, 'homosexual_': 1}, 85970: {'age_1': 1, 'hometown_1': 2, 'ethnicity_1': 1, 'gender_1': 2, 'premaritalsex_': 3, 'euthanasia_': 3, 'deathpen_': 1, 'gaymarriage_': 3, 'marijuana_': 1, 'political_': 1, 'abortion_': 1, 'homosexual_': 3}, 59367: {'age_1': 2, 'hometown_1': 2, 'ethnicity_1': 1, 'gender_1': 2, 'premaritalsex_': 3, 'euthanasia_': 3, 'deathpen_': 2, 'gaymarriage_': 3, 'marijuana_': 1, 'political_': 3, 'abortion_': 3, 'homosexual_': 3}, 13799: {'age_1': 2, 'hometown_1': 1, 'ethnicity_1': 1, 'gender_1': 2, 'premaritalsex_': 1, 'euthanasia_': 1, 'deathpen_': 1, 'gaymarriage_': 1, 'marijuana_': 1, 'political_': 1, 'abortion_': 1, 'homosexual_': 1}, 62560: {'age_1': 1, 'hometown_1': 1, 'ethnicity_1': 1, 'gender_1': 2, 'premaritalsex_': 3, 'euthanasia_': 3, 'deathpen_': 1, 'gaymarriage_': 3, 'marijuana_': 1, 'political_': 1, 'abortion_': 2, 'homosexual_': 3}, 16495: {'age_1': 2, 'hometown_1': 1, 'ethnicity_1': 1, 'gender_1': 2, 'premaritalsex_': 3, 'euthanasia_': 2, 'deathpen_': 2, 'gaymarriage_': 3, 'marijuana_': 3, 'political_': 3, 'abortion_': 3, 'homosexual_': 3}, 34853: {'age_1': 2, 'hometown_1': 1, 'ethnicity_1': 1, 'gender_1': 1, 'premaritalsex_': 3, 'euthanasia_': 3, 'deathpen_': 3, 'gaymarriage_': 3, 'marijuana_': 1, 'political_': 1, 'abortion_': 3, 'homosexual_': 3}, 67947: {'age_1': 2, 'hometown_1': 1, 'ethnicity_1': 2, 'gender_1': 1, 'premaritalsex_': 1, 'euthanasia_': 1, 'deathpen_': 1, 'gaymarriage_': 3, 'marijuana_': 1, 'political_': 1, 'abortion_': 1, 'homosexual_': 1}, 50709: {'age_1': 1, 'hometown_1': 1, 'ethnicity_1': 1, 'gender_1': 2, 'premaritalsex_': 3, 'euthanasia_': 2, 'deathpen_': 2, 'gaymarriage_': 3, 'marijuana_': 1, 'political_': 3, 'abortion_': 3, 'homosexual_': 3}, 70889: {'age_1': 1, 'hometown_1': 1, 'ethnicity_1': 1, 'gender_1': 2, 'premaritalsex_': 3, 'euthanasia_': 1, 'deathpen_': 3, 'gaymarriage_': 3, 'marijuana_': 1, 'political_': 3, 'abortion_': 3, 'homosexual_': 3}, 86727: {'age_1': 1, 'hometown_1': 1, 'ethnicity_1': 1, 'gender_1': 1, 'premaritalsex_': 1, 'euthanasia_': 2, 'deathpen_': 1, 'gaymarriage_': 1, 'marijuana_': 1, 'political_': 1, 'abortion_': 1, 'homosexual_': 1}, 45539: {'age_1': 2, 'hometown_1': 3, 'ethnicity_1': 1, 'gender_1': 1, 'premaritalsex_': 1, 'euthanasia_': 2, 'deathpen_': 1, 'gaymarriage_': 1, 'marijuana_': 1, 'political_': 1, 'abortion_': 1, 'homosexual_': 1}, 14188: {'age_1': 1, 'hometown_1': 3, 'ethnicity_1': 1, 'gender_1': 2, 'premaritalsex_': 3, 'euthanasia_': 3, 'deathpen_': 2, 'gaymarriage_': 3, 'marijuana_': 1, 'political_': 3, 'abortion_': 3, 'homosexual_': 3}, 89827: {'age_1': 2, 'hometown_1': 1, 'ethnicity_1': 1, 'gender_1': 1, 'premaritalsex_': 3, 'euthanasia_': 3, 'deathpen_': 2, 'gaymarriage_': 3, 'marijuana_': 2, 'political_': 3, 'abortion_': 3, 'homosexual_': 3}, 11692: {'age_1': 1, 'hometown_1': 1, 'ethnicity_1': 1, 'gender_1': 1, 'premaritalsex_': 3, 'euthanasia_': 3, 'deathpen_': 1, 'gaymarriage_': 1, 'marijuana_': 3, 'political_': 3, 'abortion_': 1, 'homosexual_': 1}, 82060: {'age_1': 2, 'hometown_1': 1, 'ethnicity_1': 4, 'gender_1': 1, 'premaritalsex_': 1, 'euthanasia_': 1, 'deathpen_': 1, 'gaymarriage_': 2, 'marijuana_': 1, 'political_': 1, 'abortion_': 1, 'homosexual_': 1}, 66754: {'age_1': 2, 'hometown_1': 2, 'ethnicity_1': 1, 'gender_1': 1, 'premaritalsex_': 3, 'euthanasia_': 2, 'deathpen_': 1, 'gaymarriage_': 2, 'marijuana_': 3, 'political_': 2, 'abortion_': 3, 'homosexual_': 2}, 66245: {'age_1': 1, 'hometown_1': 2, 'ethnicity_1': 3, 'gender_1': 2, 'premaritalsex_': 3, 'euthanasia_': 1, 'deathpen_': 1, 'gaymarriage_': 3, 'marijuana_': 1, 'political_': 3, 'abortion_': 1, 'homosexual_': 3}, 46654: {'age_1': 1, 'hometown_1': 1, 'ethnicity_1': 3, 'gender_1': 2, 'premaritalsex_': 3, 'euthanasia_': 1, 'deathpen_': 1, 'gaymarriage_': 1, 'marijuana_': 1, 'political_': 3, 'abortion_': 1, 'homosexual_': 1}, 32174: {'age_1': 1, 'hometown_1': 1, 'ethnicity_1': 1, 'gender_1': 1, 'premaritalsex_': 3, 'euthanasia_': 2, 'deathpen_': 1, 'gaymarriage_': 3, 'marijuana_': 3, 'political_': 3, 'abortion_': 1, 'homosexual_': 3}, 58909: {'age_1': 1, 'hometown_1': 1, 'ethnicity_1': 1, 'gender_1': 2, 'premaritalsex_': 3, 'euthanasia_': 3, 'deathpen_': 1, 'gaymarriage_': 3, 'marijuana_': 2, 'political_': 2, 'abortion_': 1, 'homosexual_': 3}, 25947: {'age_1': 1, 'hometown_1': 2, 'ethnicity_1': 1, 'gender_1': 1, 'premaritalsex_': 3, 'euthanasia_': 2, 'deathpen_': 1, 'gaymarriage_': 3, 'marijuana_': 1, 'political_': 1, 'abortion_': 1, 'homosexual_': 3}, 34250: {'age_1': 1, 'hometown_1': 2, 'ethnicity_1': 1, 'gender_1': 1, 'premaritalsex_': 3, 'euthanasia_': 3, 'deathpen_': 2, 'gaymarriage_': 2, 'marijuana_': 1, 'political_': 1, 'abortion_': 1, 'homosexual_': 1}, 18344: {'age_1': 1, 'hometown_1': 2, 'ethnicity_1': 4, 'gender_1': 2, 'premaritalsex_': 3, 'euthanasia_': 2, 'deathpen_': 2, 'gaymarriage_': 2, 'marijuana_': 2, 'political_': 2, 'abortion_': 2, 'homosexual_': 2}, 38823: {'age_1': 2, 'hometown_1': 2, 'ethnicity_1': 1, 'gender_1': 1, 'premaritalsex_': 3, 'euthanasia_': 1, 'deathpen_': 3, 'gaymarriage_': 1, 'marijuana_': 1, 'political_': 1, 'abortion_': 1, 'homosexual_': 1}, 22745: {'age_1': 2, 'hometown_1': 1, 'ethnicity_1': 4, 'gender_1': 2, 'premaritalsex_': 3, 'euthanasia_': 3, 'deathpen_': 1, 'gaymarriage_': 3, 'marijuana_': 3, 'political_': 3, 'abortion_': 3, 'homosexual_': 3}, 26127: {'age_1': 1, 'hometown_1': 1, 'ethnicity_1': 3, 'gender_1': 2, 'premaritalsex_': 1, 'euthanasia_': 2, 'deathpen_': 1, 'gaymarriage_': 1, 'marijuana_': 2, 'political_': 1, 'abortion_': 1, 'homosexual_': 1}, 38893: {'age_1': 2, 'hometown_1': 2, 'ethnicity_1': 1, 'gender_1': 2, 'premaritalsex_': 3, 'euthanasia_': 2, 'deathpen_': 3, 'gaymarriage_': 2, 'marijuana_': 1, 'political_': 1, 'abortion_': 1, 'homosexual_': 3}, 31372: {'age_1': 1, 'hometown_1': 1, 'ethnicity_1': 1, 'gender_1': 1, 'premaritalsex_': 3, 'euthanasia_': 3, 'deathpen_': 3, 'gaymarriage_': 2, 'marijuana_': 1, 'political_': 1, 'abortion_': 3, 'homosexual_': 3}, 68533: {'age_1': 1, 'hometown_1': 1, 'ethnicity_1': 1, 'gender_1': 1, 'premaritalsex_': 3, 'euthanasia_': 3, 'deathpen_': 2, 'gaymarriage_': 1, 'marijuana_': 1, 'political_': 1, 'abortion_': 1, 'homosexual_': 1}, 31583: {'age_1': 1, 'hometown_1': 2, 'ethnicity_1': 1, 'gender_1': 2, 'premaritalsex_': 3, 'euthanasia_': 1, 'deathpen_': 1, 'gaymarriage_': 1, 'marijuana_': 1, 'political_': 1, 'abortion_': 1, 'homosexual_': 3}, 49597: {'age_1': 1, 'hometown_1': 1, 'ethnicity_1': 4, 'gender_1': 1, 'premaritalsex_': 3, 'euthanasia_': 3, 'deathpen_': 3, 'gaymarriage_': 3, 'marijuana_': 1, 'political_': 3, 'abortion_': 3, 'homosexual_': 3}, 73303: {'age_1': 1, 'hometown_1': 1, 'ethnicity_1': 1, 'gender_1': 1, 'premaritalsex_': 3, 'euthanasia_': 2, 'deathpen_': 2, 'gaymarriage_': 3, 'marijuana_': 3, 'political_': 2, 'abortion_': 2, 'homosexual_': 3}, 46160: {'age_1': 1, 'hometown_1': 1, 'ethnicity_1': 1, 'gender_1': 2, 'premaritalsex_': 1, 'euthanasia_': 1, 'deathpen_': 1, 'gaymarriage_': 3, 'marijuana_': 1, 'political_': 1, 'abortion_': 1, 'homosexual_': 1}, 25544: {'age_1': 1, 'hometown_1': 1, 'ethnicity_1': 2, 'gender_1': 2, 'premaritalsex_': 1, 'euthanasia_': 3, 'deathpen_': 2, 'gaymarriage_': 3, 'marijuana_': 1, 'political_': 1, 'abortion_': 1, 'homosexual_': 1}, 51597: {'age_1': 1, 'hometown_1': 2, 'ethnicity_1': 1, 'gender_1': 1, 'premaritalsex_': 1, 'euthanasia_': 3, 'deathpen_': 2, 'gaymarriage_': 1, 'marijuana_': 1, 'political_': 1, 'abortion_': 1, 'homosexual_': 1}, 49294: {'age_1': 1, 'hometown_1': 2, 'ethnicity_1': 1, 'gender_1': 1, 'premaritalsex_': 1, 'euthanasia_': 2, 'deathpen_': 1, 'gaymarriage_': 1, 'marijuana_': 1, 'political_': 1, 'abortion_': 1, 'homosexual_': 1}, 51722: {'age_1': 1, 'hometown_1': 1, 'ethnicity_1': 1, 'gender_1': 2, 'premaritalsex_': 2, 'euthanasia_': 2, 'deathpen_': 2, 'gaymarriage_': 3, 'marijuana_': 2, 'political_': 2, 'abortion_': 1, 'homosexual_': 3}, 66052: {'age_1': 1, 'hometown_1': 1, 'ethnicity_1': 2, 'gender_1': 2, 'premaritalsex_': 3, 'euthanasia_': 3, 'deathpen_': 3, 'gaymarriage_': 2, 'marijuana_': 2, 'political_': 3, 'abortion_': 3, 'homosexual_': 3}, 53884: {'age_1': 1, 'hometown_1': 2, 'ethnicity_1': 1, 'gender_1': 1, 'premaritalsex_': 1, 'euthanasia_': 1, 'deathpen_': 1, 'gaymarriage_': 1, 'marijuana_': 1, 'political_': 1, 'abortion_': 1, 'homosexual_': 1}, 51552: {'age_1': 1, 'hometown_1': 1, 'ethnicity_1': 1, 'gender_1': 1, 'premaritalsex_': 3, 'euthanasia_': 3, 'deathpen_': 1, 'gaymarriage_': 1, 'marijuana_': 1, 'political_': 1, 'abortion_': 3, 'homosexual_': 3}, 80058: {'age_1': 1, 'hometown_1': 2, 'ethnicity_1': 1, 'gender_1': 1, 'premaritalsex_': 3, 'euthanasia_': 3, 'deathpen_': 1, 'gaymarriage_': 3, 'marijuana_': 2, 'political_': 3, 'abortion_': 1, 'homosexual_': 3}, 10281: {'age_1': 1, 'hometown_1': 1, 'ethnicity_1': 4, 'gender_1': 1, 'premaritalsex_': 3, 'euthanasia_': 1, 'deathpen_': 3, 'gaymarriage_': 1, 'marijuana_': 1, 'political_': 1, 'abortion_': 1, 'homosexual_': 1}, 45292: {'age_1': 1, 'hometown_1': 1, 'ethnicity_1': 1, 'gender_1': 2, 'premaritalsex_': 3, 'euthanasia_': 1, 'deathpen_': 2, 'gaymarriage_': 3, 'marijuana_': 3, 'political_': 3, 'abortion_': 3, 'homosexual_': 3}, 32899: {'age_1': 2, 'hometown_1': 1, 'ethnicity_1': 2, 'gender_1': 1, 'premaritalsex_': 1, 'euthanasia_': 1, 'deathpen_': 1, 'gaymarriage_': 2, 'marijuana_': 1, 'political_': 2, 'abortion_': 1, 'homosexual_': 2}, 26425: {'age_1': 1, 'hometown_1': 1, 'ethnicity_1': 1, 'gender_1': 1, 'premaritalsex_': 1, 'euthanasia_': 1, 'deathpen_': 1, 'gaymarriage_': 1, 'marijuana_': 2, 'political_': 1, 'abortion_': 1, 'homosexual_': 1}, 78911: {'age_1': 1, 'hometown_1': 2, 'ethnicity_1': 1, 'gender_1': 2, 'premaritalsex_': 3, 'euthanasia_': 3, 'deathpen_': 3, 'gaymarriage_': 3, 'marijuana_': 2, 'political_': 1, 'abortion_': 1, 'homosexual_': 3}, 23144: {'age_1': 1, 'hometown_1': 2, 'ethnicity_1': 1, 'gender_1': 1, 'premaritalsex_': 3, 'euthanasia_': 3, 'deathpen_': 3, 'gaymarriage_': 1, 'marijuana_': 1, 'political_': 1, 'abortion_': 1, 'homosexual_': 1}, 44520: {'age_1': 1, 'hometown_1': 1, 'ethnicity_1': 2, 'gender_1': 2, 'premaritalsex_': 3, 'euthanasia_': 3, 'deathpen_': 3, 'gaymarriage_': 1, 'marijuana_': 3, 'political_': 3, 'abortion_': 3, 'homosexual_': 3}, 50181: {'age_1': 2, 'hometown_1': 1, 'ethnicity_1': 4, 'gender_1': 1, 'premaritalsex_': 3, 'euthanasia_': 2, 'deathpen_': 2, 'gaymarriage_': 1, 'marijuana_': 1, 'political_': 2, 'abortion_': 1, 'homosexual_': 1}, 88175: {'age_1': 2, 'hometown_1': 3, 'ethnicity_1': 1, 'gender_1': 2, 'premaritalsex_': 1, 'euthanasia_': 2, 'deathpen_': 1, 'gaymarriage_': 2, 'marijuana_': 1, 'political_': 1, 'abortion_': 1, 'homosexual_': 1}, 63063: {'age_1': 2, 'hometown_1': 1, 'ethnicity_1': 1, 'gender_1': 1, 'premaritalsex_': 3, 'euthanasia_': 3, 'deathpen_': 1, 'gaymarriage_': 3, 'marijuana_': 3, 'political_': 2, 'abortion_': 3, 'homosexual_': 3}})"
      ]
     },
     "execution_count": 7,
     "metadata": {},
     "output_type": "execute_result"
    }
   ],
   "source": [
    "data[1].nodes.data()"
   ]
  },
  {
   "cell_type": "code",
   "execution_count": 8,
   "id": "existing-keyboard",
   "metadata": {},
   "outputs": [
    {
     "data": {
      "text/plain": [
       "{'euthanasia_': {1, 2, 3},\n",
       " 'premaritalsex_': {1, 2, 3},\n",
       " 'deathpen_': {1, 2, 3},\n",
       " 'gaymarriage_': {1, 2, 3},\n",
       " 'marijuana_': {1, 2, 3},\n",
       " 'political_': {1, 2, 3},\n",
       " 'abortion_': {1, 2, 3},\n",
       " 'gender_1': {1, 2},\n",
       " 'hometown_1': {1, 2, 3},\n",
       " 'ethnicity_1': {1, 2, 3, 4},\n",
       " 'homosexual_': {1, 2, 3},\n",
       " 'age_1': {1, 2}}"
      ]
     },
     "execution_count": 8,
     "metadata": {},
     "output_type": "execute_result"
    }
   ],
   "source": [
    "#creating list of attributes\n",
    "list_of_attributes = set([k for n in data[1].nodes for k in data[1].nodes[n].keys()])\n",
    "\n",
    "#creating possible attribute values\n",
    "attribute_values = dict((attribute, set() ) for attribute in list_of_attributes)\n",
    "\n",
    "for sem in range(1,7):\n",
    "    for node in data[sem].nodes():\n",
    "        for attribute in list_of_attributes:\n",
    "            attribute_values[attribute].add(data[sem].nodes[node][attribute])\n",
    "\n",
    "attribute_values\n",
    "\n",
    "#To apply PCA or other analysis on all attributes (i.e. including ethnicity) \n",
    "#one would have to create an attribute for each race, that is is_1, is_2 etc. \n",
    "#Because this attribute is not ordered. "
   ]
  },
  {
   "cell_type": "code",
   "execution_count": 9,
   "id": "functioning-valuable",
   "metadata": {},
   "outputs": [],
   "source": [
    "#creating table of attribute values\n",
    "attributes = dict((i, 0) for i in range(1,7))\n",
    "for i in range(1,7):\n",
    "    attributes[i] = np.zeros([len(data[i].nodes), len(list_of_attributes)])\n",
    "\n",
    "for sem in range(1,7):\n",
    "    for i, node in enumerate(data[sem].nodes()):\n",
    "        for j, attribute in enumerate(list_of_attributes):\n",
    "            attributes[sem][i,j] = data[sem].nodes[node][attribute]"
   ]
  },
  {
   "cell_type": "code",
   "execution_count": 10,
   "id": "magnetic-leeds",
   "metadata": {},
   "outputs": [
    {
     "data": {
      "text/plain": [
       "{1: array([[3., 3., 3., ..., 2., 3., 1.],\n",
       "        [2., 2., 2., ..., 2., 2., 1.],\n",
       "        [3., 3., 3., ..., 2., 1., 1.],\n",
       "        ...,\n",
       "        [2., 3., 2., ..., 4., 1., 2.],\n",
       "        [2., 1., 1., ..., 1., 1., 2.],\n",
       "        [3., 3., 1., ..., 1., 3., 2.]]),\n",
       " 2: array([[3., 1., 1., ..., 1., 1., 2.],\n",
       "        [1., 1., 1., ..., 1., 1., 2.],\n",
       "        [3., 3., 2., ..., 1., 3., 1.],\n",
       "        ...,\n",
       "        [1., 3., 2., ..., 1., 3., 1.],\n",
       "        [3., 3., 3., ..., 1., 3., 1.],\n",
       "        [2., 2., 1., ..., 3., 3., 1.]]),\n",
       " 3: array([[3., 3., 1., 3., 1., 2., 3., 2., 2., 1., 3., 1.],\n",
       "        [1., 1., 1., 1., 1., 1., 1., 2., 1., 1., 1., 1.],\n",
       "        [1., 1., 1., 2., 3., 2., 1., 2., 2., 1., 1., 2.],\n",
       "        [3., 3., 3., 3., 3., 3., 1., 2., 1., 3., 3., 1.],\n",
       "        [3., 3., 1., 3., 2., 1., 3., 1., 1., 1., 3., 2.],\n",
       "        [3., 1., 1., 3., 1., 2., 3., 2., 1., 2., 1., 1.],\n",
       "        [2., 3., 1., 3., 2., 1., 1., 1., 2., 1., 3., 1.],\n",
       "        [2., 3., 1., 3., 1., 3., 3., 2., 2., 1., 3., 2.],\n",
       "        [1., 1., 1., 1., 1., 1., 1., 1., 1., 1., 3., 1.],\n",
       "        [1., 1., 1., 1., 1., 1., 1., 2., 1., 1., 1., 2.],\n",
       "        [3., 3., 2., 3., 1., 1., 2., 2., 1., 1., 2., 1.],\n",
       "        [1., 3., 1., 1., 1., 1., 1., 2., 2., 1., 3., 1.],\n",
       "        [2., 1., 3., 1., 1., 1., 1., 2., 1., 1., 1., 1.],\n",
       "        [1., 1., 1., 3., 3., 1., 1., 2., 1., 1., 1., 1.],\n",
       "        [3., 3., 3., 2., 3., 1., 1., 1., 1., 4., 1., 1.],\n",
       "        [3., 3., 1., 3., 3., 3., 3., 1., 1., 4., 3., 1.],\n",
       "        [2., 3., 1., 3., 3., 2., 1., 2., 1., 1., 3., 1.],\n",
       "        [3., 3., 1., 3., 3., 3., 3., 1., 2., 1., 3., 1.],\n",
       "        [1., 1., 1., 2., 3., 1., 1., 1., 1., 1., 2., 1.],\n",
       "        [3., 3., 1., 3., 2., 3., 3., 1., 2., 4., 3., 1.],\n",
       "        [2., 1., 1., 3., 1., 3., 1., 1., 1., 4., 3., 1.],\n",
       "        [1., 1., 1., 1., 1., 1., 1., 2., 1., 1., 3., 1.],\n",
       "        [3., 3., 2., 3., 3., 3., 2., 2., 1., 1., 3., 2.],\n",
       "        [1., 1., 1., 2., 1., 1., 1., 2., 1., 4., 2., 1.],\n",
       "        [3., 3., 1., 3., 2., 3., 3., 1., 1., 2., 3., 2.],\n",
       "        [2., 3., 1., 2., 3., 2., 1., 1., 1., 4., 2., 2.],\n",
       "        [2., 3., 1., 3., 2., 3., 1., 1., 1., 1., 3., 2.],\n",
       "        [2., 1., 2., 2., 2., 1., 1., 2., 1., 1., 2., 1.],\n",
       "        [1., 3., 1., 3., 2., 2., 1., 2., 2., 1., 3., 1.],\n",
       "        [2., 3., 1., 3., 3., 3., 3., 1., 2., 1., 3., 2.],\n",
       "        [2., 3., 2., 3., 3., 3., 3., 1., 1., 1., 3., 2.],\n",
       "        [3., 2., 2., 2., 3., 2., 2., 1., 2., 1., 3., 2.],\n",
       "        [1., 3., 1., 3., 3., 2., 1., 1., 1., 1., 3., 2.],\n",
       "        [2., 1., 2., 1., 3., 2., 1., 1., 1., 3., 1., 2.],\n",
       "        [3., 2., 3., 3., 1., 1., 1., 2., 2., 1., 2., 1.],\n",
       "        [1., 3., 3., 2., 1., 1., 1., 2., 2., 1., 3., 2.],\n",
       "        [1., 1., 1., 1., 1., 1., 1., 2., 1., 3., 2., 1.],\n",
       "        [1., 3., 1., 3., 3., 1., 1., 1., 1., 1., 1., 1.],\n",
       "        [3., 3., 3., 3., 3., 1., 3., 1., 3., 1., 3., 1.],\n",
       "        [3., 3., 3., 3., 1., 1., 3., 2., 1., 2., 3., 1.],\n",
       "        [1., 1., 2., 1., 1., 1., 1., 2., 1., 2., 2., 1.],\n",
       "        [3., 3., 3., 1., 1., 1., 1., 1., 2., 1., 1., 1.],\n",
       "        [3., 2., 2., 3., 2., 3., 2., 1., 1., 4., 3., 2.],\n",
       "        [1., 1., 1., 3., 1., 3., 2., 1., 2., 1., 1., 1.],\n",
       "        [3., 3., 1., 3., 1., 3., 1., 1., 1., 1., 3., 1.],\n",
       "        [1., 1., 1., 1., 1., 2., 1., 2., 1., 4., 1., 1.],\n",
       "        [1., 3., 1., 3., 1., 2., 3., 1., 1., 2., 3., 1.],\n",
       "        [2., 2., 2., 2., 2., 2., 2., 2., 2., 4., 2., 1.],\n",
       "        [3., 1., 1., 1., 1., 1., 1., 1., 3., 1., 1., 2.],\n",
       "        [3., 3., 1., 3., 3., 3., 3., 2., 1., 3., 3., 1.],\n",
       "        [3., 3., 1., 1., 3., 1., 3., 1., 1., 1., 3., 1.],\n",
       "        [1., 3., 1., 3., 1., 2., 1., 2., 1., 1., 3., 1.],\n",
       "        [3., 3., 1., 3., 1., 3., 3., 2., 3., 1., 3., 1.],\n",
       "        [3., 1., 3., 1., 1., 1., 1., 1., 2., 1., 1., 1.],\n",
       "        [2., 1., 1., 2., 2., 1., 1., 1., 2., 1., 1., 1.],\n",
       "        [1., 1., 3., 1., 1., 1., 1., 1., 2., 1., 1., 2.],\n",
       "        [3., 3., 1., 3., 3., 2., 1., 1., 1., 1., 3., 2.],\n",
       "        [2., 1., 1., 2., 2., 1., 1., 1., 1., 4., 2., 2.],\n",
       "        [2., 1., 1., 1., 1., 2., 1., 1., 1., 1., 1., 1.],\n",
       "        [3., 3., 1., 2., 1., 1., 1., 1., 1., 2., 1., 2.],\n",
       "        [3., 3., 1., 3., 2., 3., 3., 1., 2., 1., 3., 1.],\n",
       "        [3., 1., 1., 1., 1., 1., 1., 1., 2., 1., 1., 1.],\n",
       "        [2., 3., 1., 3., 2., 1., 1., 2., 1., 1., 3., 1.],\n",
       "        [1., 3., 1., 3., 3., 2., 1., 1., 2., 1., 3., 1.],\n",
       "        [2., 3., 2., 2., 3., 1., 1., 1., 2., 1., 2., 2.],\n",
       "        [3., 3., 2., 3., 3., 2., 1., 1., 1., 1., 3., 1.],\n",
       "        [1., 1., 1., 3., 1., 2., 3., 1., 1., 4., 3., 1.],\n",
       "        [2., 1., 2., 1., 1., 1., 1., 2., 2., 3., 1., 1.]]),\n",
       " 4: array([[2., 1., 1., ..., 1., 1., 2.],\n",
       "        [1., 1., 1., ..., 1., 1., 2.],\n",
       "        [1., 3., 1., ..., 1., 3., 2.],\n",
       "        ...,\n",
       "        [2., 3., 1., ..., 3., 3., 1.],\n",
       "        [3., 3., 2., ..., 1., 3., 1.],\n",
       "        [2., 1., 1., ..., 1., 1., 1.]]),\n",
       " 5: array([[2., 2., 1., ..., 1., 3., 1.],\n",
       "        [2., 3., 2., ..., 2., 3., 1.],\n",
       "        [2., 3., 2., ..., 1., 3., 1.],\n",
       "        ...,\n",
       "        [2., 3., 1., ..., 4., 1., 2.],\n",
       "        [2., 3., 1., ..., 1., 3., 1.],\n",
       "        [3., 3., 1., ..., 1., 3., 2.]]),\n",
       " 6: array([[3., 3., 1., 3., 3., 1., 3., 2., 2., 1., 3., 1.],\n",
       "        [1., 1., 1., 2., 1., 1., 1., 2., 1., 1., 1., 1.],\n",
       "        [3., 3., 3., 3., 3., 3., 1., 2., 1., 3., 3., 1.],\n",
       "        [1., 1., 1., 2., 1., 1., 1., 2., 2., 1., 3., 2.],\n",
       "        [3., 3., 1., 3., 3., 3., 3., 1., 1., 1., 3., 2.],\n",
       "        [3., 3., 2., 3., 3., 2., 2., 1., 2., 1., 3., 2.],\n",
       "        [3., 3., 1., 3., 3., 1., 3., 1., 1., 1., 3., 1.],\n",
       "        [3., 3., 3., 1., 1., 1., 1., 1., 2., 1., 1., 1.],\n",
       "        [3., 1., 1., 1., 1., 1., 1., 1., 2., 1., 1., 1.],\n",
       "        [2., 2., 1., 3., 2., 1., 1., 1., 2., 1., 3., 1.],\n",
       "        [1., 1., 1., 3., 3., 1., 1., 2., 1., 1., 1., 1.],\n",
       "        [2., 3., 2., 3., 2., 3., 3., 2., 1., 3., 3., 1.],\n",
       "        [1., 1., 1., 1., 1., 1., 1., 2., 1., 1., 1., 2.],\n",
       "        [1., 1., 1., 1., 1., 1., 1., 1., 1., 1., 1., 1.],\n",
       "        [2., 3., 1., 3., 3., 2., 1., 2., 1., 1., 3., 1.],\n",
       "        [2., 3., 1., 3., 2., 3., 3., 2., 2., 1., 3., 2.],\n",
       "        [3., 2., 1., 3., 2., 3., 1., 1., 1., 4., 3., 1.],\n",
       "        [2., 1., 1., 2., 1., 2., 1., 2., 1., 4., 2., 1.],\n",
       "        [3., 3., 1., 3., 3., 2., 3., 1., 2., 1., 3., 1.],\n",
       "        [3., 3., 1., 3., 3., 3., 3., 1., 2., 1., 3., 2.],\n",
       "        [1., 1., 1., 1., 1., 1., 1., 1., 3., 1., 1., 2.],\n",
       "        [2., 1., 1., 2., 3., 2., 1., 1., 1., 1., 1., 1.],\n",
       "        [3., 3., 3., 3., 3., 3., 1., 1., 1., 4., 3., 1.],\n",
       "        [3., 3., 1., 3., 3., 3., 3., 1., 1., 4., 3., 1.],\n",
       "        [3., 3., 2., 3., 1., 3., 3., 2., 3., 1., 3., 1.],\n",
       "        [1., 3., 1., 3., 1., 1., 3., 2., 1., 1., 2., 1.],\n",
       "        [3., 3., 1., 3., 3., 3., 3., 1., 2., 1., 3., 1.],\n",
       "        [2., 1., 1., 2., 1., 3., 2., 1., 2., 1., 1., 1.],\n",
       "        [2., 3., 2., 3., 3., 3., 3., 1., 1., 1., 3., 2.],\n",
       "        [2., 3., 1., 3., 2., 1., 1., 2., 1., 1., 3., 1.],\n",
       "        [3., 3., 2., 3., 3., 1., 3., 2., 2., 1., 3., 1.],\n",
       "        [3., 3., 1., 3., 2., 3., 3., 1., 1., 2., 3., 2.],\n",
       "        [3., 3., 2., 3., 3., 3., 2., 1., 2., 1., 3., 2.],\n",
       "        [2., 3., 2., 2., 3., 2., 1., 1., 1., 4., 2., 2.],\n",
       "        [1., 1., 1., 1., 1., 2., 1., 2., 1., 4., 1., 1.],\n",
       "        [3., 3., 3., 3., 3., 1., 3., 1., 3., 1., 3., 1.],\n",
       "        [1., 3., 1., 3., 3., 1., 1., 1., 1., 1., 3., 1.],\n",
       "        [1., 1., 1., 1., 1., 2., 1., 1., 1., 1., 1., 1.],\n",
       "        [1., 3., 3., 3., 3., 2., 2., 1., 3., 1., 3., 1.],\n",
       "        [3., 3., 2., 2., 2., 1., 1., 1., 2., 1., 2., 1.],\n",
       "        [1., 1., 3., 1., 1., 1., 1., 2., 1., 1., 1., 1.],\n",
       "        [1., 3., 1., 3., 2., 1., 1., 1., 2., 1., 1., 2.],\n",
       "        [2., 1., 2., 2., 3., 2., 1., 1., 1., 3., 2., 2.],\n",
       "        [3., 3., 2., 3., 3., 3., 2., 2., 1., 1., 3., 2.],\n",
       "        [2., 3., 3., 3., 3., 2., 3., 2., 1., 2., 3., 1.],\n",
       "        [2., 3., 1., 3., 3., 3., 3., 1., 1., 1., 3., 2.],\n",
       "        [3., 1., 3., 1., 1., 1., 1., 1., 2., 1., 1., 1.],\n",
       "        [3., 2., 2., 3., 3., 2., 2., 1., 1., 4., 3., 2.],\n",
       "        [1., 2., 1., 2., 2., 1., 1., 2., 3., 1., 3., 2.],\n",
       "        [3., 3., 1., 3., 3., 3., 3., 1., 1., 1., 3., 1.],\n",
       "        [3., 3., 1., 3., 3., 2., 2., 1., 1., 1., 3., 2.],\n",
       "        [2., 3., 2., 2., 3., 3., 1., 2., 1., 2., 3., 1.],\n",
       "        [3., 3., 1., 3., 3., 3., 3., 1., 1., 2., 3., 1.],\n",
       "        [2., 2., 1., 2., 1., 2., 1., 2., 1., 4., 1., 1.],\n",
       "        [1., 3., 1., 3., 2., 1., 1., 1., 2., 1., 1., 1.],\n",
       "        [1., 3., 3., 3., 3., 3., 1., 1., 1., 1., 3., 1.],\n",
       "        [3., 3., 1., 3., 1., 1., 1., 2., 1., 1., 3., 1.],\n",
       "        [1., 1., 1., 1., 1., 1., 1., 2., 1., 2., 1., 1.],\n",
       "        [2., 3., 2., 3., 2., 2., 2., 2., 2., 4., 3., 1.],\n",
       "        [2., 2., 2., 2., 2., 1., 1., 2., 2., 3., 2., 1.],\n",
       "        [3., 3., 3., 3., 1., 3., 3., 1., 1., 4., 3., 1.],\n",
       "        [3., 3., 3., 3., 3., 3., 3., 2., 1., 2., 3., 1.],\n",
       "        [1., 3., 2., 1., 3., 1., 1., 2., 2., 1., 3., 1.]])}"
      ]
     },
     "execution_count": 10,
     "metadata": {},
     "output_type": "execute_result"
    }
   ],
   "source": [
    "attributes"
   ]
  },
  {
   "cell_type": "code",
   "execution_count": 11,
   "id": "korean-array",
   "metadata": {},
   "outputs": [],
   "source": [
    "import mca\n"
   ]
  },
  {
   "cell_type": "code",
   "execution_count": 90,
   "id": "formed-finger",
   "metadata": {},
   "outputs": [
    {
     "name": "stdout",
     "output_type": "stream",
     "text": [
      "{'euthanasia_', 'premaritalsex_', 'deathpen_', 'gaymarriage_', 'marijuana_', 'political_', 'abortion_', 'homosexual_'}\n",
      "{1: array([[3., 3., 3., 3., 2., 1., 3., 3.],\n",
      "       [2., 2., 2., 1., 3., 1., 2., 2.],\n",
      "       [3., 3., 3., 3., 3., 3., 3., 1.],\n",
      "       [1., 3., 1., 3., 2., 3., 3., 3.],\n",
      "       [1., 3., 2., 2., 1., 2., 3., 3.],\n",
      "       [3., 1., 1., 1., 1., 2., 1., 1.],\n",
      "       [1., 1., 2., 2., 1., 1., 1., 2.],\n",
      "       [2., 1., 2., 2., 3., 2., 2., 1.],\n",
      "       [3., 3., 1., 3., 2., 2., 3., 3.],\n",
      "       [1., 3., 1., 3., 3., 3., 1., 3.],\n",
      "       [3., 1., 1., 1., 2., 2., 1., 1.],\n",
      "       [1., 1., 1., 2., 1., 1., 1., 1.],\n",
      "       [2., 3., 1., 3., 3., 1., 1., 3.],\n",
      "       [1., 1., 1., 1., 3., 1., 1., 2.],\n",
      "       [3., 3., 3., 3., 3., 3., 1., 3.],\n",
      "       [3., 2., 1., 1., 2., 1., 1., 2.],\n",
      "       [2., 3., 2., 1., 2., 1., 1., 1.],\n",
      "       [3., 1., 3., 1., 3., 1., 1., 1.],\n",
      "       [3., 2., 2., 3., 3., 3., 3., 3.],\n",
      "       [3., 3., 1., 3., 3., 1., 1., 1.],\n",
      "       [3., 3., 3., 3., 3., 1., 3., 3.],\n",
      "       [3., 3., 1., 3., 3., 3., 3., 3.],\n",
      "       [3., 3., 1., 3., 3., 1., 1., 3.],\n",
      "       [3., 3., 1., 3., 3., 3., 3., 3.],\n",
      "       [2., 3., 3., 3., 3., 2., 2., 3.],\n",
      "       [1., 1., 1., 1., 2., 1., 1., 1.],\n",
      "       [3., 1., 1., 2., 1., 2., 1., 1.],\n",
      "       [1., 1., 2., 1., 2., 1., 1., 1.],\n",
      "       [1., 2., 2., 3., 1., 1., 1., 1.],\n",
      "       [1., 1., 1., 1., 2., 2., 1., 1.],\n",
      "       [1., 1., 1., 1., 1., 3., 1., 1.],\n",
      "       [3., 3., 1., 3., 3., 3., 3., 3.],\n",
      "       [3., 3., 2., 3., 1., 1., 3., 3.],\n",
      "       [3., 3., 2., 3., 3., 3., 1., 3.],\n",
      "       [3., 1., 1., 3., 1., 2., 1., 3.],\n",
      "       [1., 1., 1., 1., 1., 1., 1., 1.],\n",
      "       [3., 1., 1., 3., 1., 1., 3., 3.],\n",
      "       [3., 3., 1., 2., 3., 2., 3., 3.],\n",
      "       [3., 3., 3., 3., 3., 2., 3., 3.],\n",
      "       [1., 1., 3., 1., 1., 1., 1., 1.],\n",
      "       [3., 1., 1., 1., 1., 1., 1., 1.],\n",
      "       [2., 3., 1., 2., 1., 2., 1., 1.],\n",
      "       [1., 2., 1., 3., 1., 3., 3., 3.],\n",
      "       [1., 1., 1., 1., 1., 1., 1., 1.],\n",
      "       [2., 1., 3., 1., 1., 1., 1., 1.],\n",
      "       [3., 3., 2., 3., 3., 3., 3., 3.],\n",
      "       [3., 3., 1., 1., 1., 1., 1., 1.],\n",
      "       [3., 3., 1., 3., 1., 1., 1., 3.],\n",
      "       [3., 3., 2., 3., 1., 3., 3., 3.],\n",
      "       [1., 1., 1., 1., 1., 1., 1., 1.],\n",
      "       [3., 3., 1., 3., 1., 1., 2., 3.],\n",
      "       [2., 3., 2., 3., 3., 3., 3., 3.],\n",
      "       [3., 3., 3., 3., 1., 1., 3., 3.],\n",
      "       [1., 1., 1., 3., 1., 1., 1., 1.],\n",
      "       [2., 3., 2., 3., 1., 3., 3., 3.],\n",
      "       [1., 3., 3., 3., 1., 3., 3., 3.],\n",
      "       [2., 1., 1., 1., 1., 1., 1., 1.],\n",
      "       [2., 1., 1., 1., 1., 1., 1., 1.],\n",
      "       [3., 3., 2., 3., 1., 3., 3., 3.],\n",
      "       [3., 3., 2., 3., 2., 3., 3., 3.],\n",
      "       [3., 3., 1., 1., 3., 3., 1., 1.],\n",
      "       [1., 1., 1., 2., 1., 1., 1., 1.],\n",
      "       [2., 3., 1., 2., 3., 2., 3., 2.],\n",
      "       [1., 3., 1., 3., 1., 3., 1., 3.],\n",
      "       [1., 3., 1., 1., 1., 3., 1., 1.],\n",
      "       [2., 3., 1., 3., 3., 3., 1., 3.],\n",
      "       [3., 3., 1., 3., 2., 2., 1., 3.],\n",
      "       [2., 3., 1., 3., 1., 1., 1., 3.],\n",
      "       [3., 3., 2., 2., 1., 1., 1., 1.],\n",
      "       [2., 3., 2., 2., 2., 2., 2., 2.],\n",
      "       [1., 3., 3., 1., 1., 1., 1., 1.],\n",
      "       [3., 3., 1., 3., 3., 3., 3., 3.],\n",
      "       [2., 1., 1., 1., 2., 1., 1., 1.],\n",
      "       [2., 3., 3., 2., 1., 1., 1., 3.],\n",
      "       [3., 3., 3., 2., 1., 1., 3., 3.],\n",
      "       [3., 3., 2., 1., 1., 1., 1., 1.],\n",
      "       [1., 3., 1., 1., 1., 1., 1., 3.],\n",
      "       [3., 3., 3., 3., 1., 3., 3., 3.],\n",
      "       [2., 3., 2., 3., 3., 2., 2., 3.],\n",
      "       [1., 1., 1., 3., 1., 1., 1., 1.],\n",
      "       [3., 1., 2., 3., 1., 1., 1., 1.],\n",
      "       [3., 1., 2., 1., 1., 1., 1., 1.],\n",
      "       [2., 1., 1., 1., 1., 1., 1., 1.],\n",
      "       [2., 2., 2., 3., 2., 2., 1., 3.],\n",
      "       [3., 3., 3., 2., 2., 3., 3., 3.],\n",
      "       [1., 1., 1., 1., 1., 1., 1., 1.],\n",
      "       [3., 3., 1., 1., 1., 1., 3., 3.],\n",
      "       [3., 3., 1., 3., 2., 3., 1., 3.],\n",
      "       [1., 3., 3., 1., 1., 1., 1., 1.],\n",
      "       [1., 3., 2., 3., 3., 3., 3., 3.],\n",
      "       [1., 1., 1., 2., 1., 2., 1., 2.],\n",
      "       [1., 1., 1., 1., 2., 1., 1., 1.],\n",
      "       [3., 3., 3., 3., 2., 1., 1., 3.],\n",
      "       [3., 3., 3., 1., 1., 1., 1., 1.],\n",
      "       [3., 3., 3., 1., 3., 3., 3., 3.],\n",
      "       [2., 3., 2., 1., 1., 2., 1., 1.],\n",
      "       [2., 1., 1., 2., 1., 1., 1., 1.],\n",
      "       [3., 3., 1., 3., 3., 2., 3., 3.]]), 2: array([[3., 1., 1., 1., 1., 1., 1., 1.],\n",
      "       [1., 1., 1., 1., 1., 1., 1., 1.],\n",
      "       [3., 3., 2., 3., 1., 1., 1., 3.],\n",
      "       [3., 3., 3., 3., 3., 3., 1., 3.],\n",
      "       [2., 1., 2., 1., 1., 2., 2., 1.],\n",
      "       [1., 3., 1., 3., 3., 2., 1., 3.],\n",
      "       [3., 3., 1., 3., 1., 3., 3., 3.],\n",
      "       [3., 3., 3., 3., 3., 1., 1., 3.],\n",
      "       [1., 1., 1., 1., 1., 2., 1., 1.],\n",
      "       [3., 3., 3., 3., 1., 2., 3., 3.],\n",
      "       [1., 1., 1., 1., 1., 1., 1., 1.],\n",
      "       [1., 1., 1., 1., 2., 1., 1., 1.],\n",
      "       [3., 3., 2., 1., 2., 1., 1., 2.],\n",
      "       [1., 3., 1., 1., 1., 2., 1., 3.],\n",
      "       [3., 3., 3., 1., 1., 3., 1., 1.],\n",
      "       [3., 3., 2., 3., 2., 1., 1., 3.],\n",
      "       [3., 2., 1., 3., 3., 2., 1., 3.],\n",
      "       [1., 1., 1., 1., 1., 3., 1., 3.],\n",
      "       [3., 3., 1., 3., 1., 3., 3., 3.],\n",
      "       [1., 1., 1., 2., 3., 2., 1., 1.],\n",
      "       [1., 1., 1., 1., 1., 1., 1., 1.],\n",
      "       [3., 3., 3., 3., 3., 1., 3., 3.],\n",
      "       [3., 3., 1., 3., 3., 1., 1., 1.],\n",
      "       [3., 3., 1., 3., 3., 3., 3., 3.],\n",
      "       [2., 1., 1., 2., 3., 1., 1., 3.],\n",
      "       [3., 3., 1., 3., 3., 2., 2., 3.],\n",
      "       [2., 3., 2., 3., 3., 3., 3., 3.],\n",
      "       [1., 1., 1., 3., 2., 1., 1., 1.],\n",
      "       [2., 1., 3., 1., 1., 1., 1., 1.],\n",
      "       [2., 1., 1., 3., 1., 3., 1., 1.],\n",
      "       [3., 3., 1., 3., 3., 2., 3., 3.],\n",
      "       [1., 3., 1., 3., 3., 2., 1., 3.],\n",
      "       [3., 1., 3., 1., 1., 1., 1., 1.],\n",
      "       [1., 1., 1., 2., 1., 1., 1., 1.],\n",
      "       [1., 1., 1., 2., 1., 1., 1., 2.],\n",
      "       [3., 3., 3., 3., 3., 3., 3., 3.],\n",
      "       [3., 3., 1., 3., 1., 3., 3., 3.],\n",
      "       [2., 1., 1., 3., 1., 1., 1., 3.],\n",
      "       [1., 3., 1., 3., 3., 3., 3., 3.],\n",
      "       [3., 3., 3., 1., 1., 1., 1., 1.],\n",
      "       [3., 3., 2., 3., 2., 1., 1., 3.],\n",
      "       [3., 1., 1., 3., 3., 1., 1., 3.],\n",
      "       [1., 1., 1., 1., 2., 2., 1., 1.],\n",
      "       [3., 3., 1., 2., 1., 1., 1., 1.],\n",
      "       [3., 3., 1., 3., 2., 3., 3., 3.],\n",
      "       [1., 3., 1., 3., 3., 3., 1., 3.],\n",
      "       [1., 1., 1., 3., 1., 1., 1., 2.],\n",
      "       [2., 3., 1., 3., 2., 3., 3., 3.],\n",
      "       [3., 1., 1., 2., 1., 1., 1., 1.],\n",
      "       [2., 3., 1., 3., 2., 2., 3., 3.],\n",
      "       [2., 2., 2., 2., 2., 2., 2., 2.],\n",
      "       [1., 1., 1., 2., 1., 2., 1., 2.],\n",
      "       [3., 3., 2., 3., 3., 3., 2., 3.],\n",
      "       [3., 3., 2., 3., 3., 2., 3., 3.],\n",
      "       [1., 3., 2., 3., 3., 2., 2., 3.],\n",
      "       [3., 1., 1., 3., 2., 2., 1., 3.],\n",
      "       [1., 1., 2., 1., 2., 2., 1., 1.],\n",
      "       [2., 1., 2., 2., 1., 1., 1., 1.],\n",
      "       [3., 3., 1., 2., 1., 1., 3., 3.],\n",
      "       [3., 3., 1., 3., 3., 3., 3., 3.],\n",
      "       [2., 3., 2., 3., 3., 3., 1., 3.],\n",
      "       [2., 3., 1., 3., 3., 3., 1., 3.],\n",
      "       [3., 3., 1., 3., 3., 1., 3., 3.],\n",
      "       [3., 3., 1., 1., 1., 2., 1., 3.],\n",
      "       [1., 3., 1., 1., 3., 1., 1., 3.],\n",
      "       [3., 3., 1., 3., 1., 3., 3., 3.],\n",
      "       [2., 1., 2., 1., 1., 1., 1., 1.],\n",
      "       [1., 3., 1., 3., 1., 3., 3., 3.],\n",
      "       [1., 1., 1., 3., 1., 1., 1., 1.],\n",
      "       [1., 3., 1., 3., 2., 3., 3., 3.],\n",
      "       [1., 1., 1., 1., 2., 2., 1., 2.],\n",
      "       [2., 3., 1., 3., 3., 2., 1., 3.],\n",
      "       [3., 3., 1., 3., 3., 2., 3., 3.],\n",
      "       [1., 3., 3., 2., 1., 1., 1., 1.],\n",
      "       [2., 1., 1., 1., 1., 1., 1., 1.],\n",
      "       [1., 1., 3., 2., 1., 1., 1., 3.],\n",
      "       [3., 3., 2., 3., 2., 3., 1., 3.],\n",
      "       [2., 2., 2., 2., 2., 2., 2., 2.],\n",
      "       [3., 3., 1., 3., 3., 3., 3., 3.],\n",
      "       [3., 3., 1., 1., 2., 1., 1., 1.],\n",
      "       [2., 3., 1., 3., 3., 1., 1., 3.],\n",
      "       [1., 3., 1., 3., 1., 1., 1., 3.],\n",
      "       [2., 3., 1., 1., 2., 1., 1., 3.],\n",
      "       [3., 3., 2., 3., 3., 3., 3., 3.],\n",
      "       [3., 3., 2., 3., 2., 1., 1., 3.],\n",
      "       [2., 3., 2., 1., 3., 2., 1., 3.],\n",
      "       [1., 3., 2., 3., 1., 1., 1., 3.],\n",
      "       [3., 3., 3., 3., 1., 1., 1., 3.],\n",
      "       [2., 2., 1., 3., 1., 3., 2., 3.]]), 3: array([[3., 3., 1., 3., 1., 2., 3., 3.],\n",
      "       [1., 1., 1., 1., 1., 1., 1., 1.],\n",
      "       [1., 1., 1., 2., 3., 2., 1., 1.],\n",
      "       [3., 3., 3., 3., 3., 3., 1., 3.],\n",
      "       [3., 3., 1., 3., 2., 1., 3., 3.],\n",
      "       [3., 1., 1., 3., 1., 2., 3., 1.],\n",
      "       [2., 3., 1., 3., 2., 1., 1., 3.],\n",
      "       [2., 3., 1., 3., 1., 3., 3., 3.],\n",
      "       [1., 1., 1., 1., 1., 1., 1., 3.],\n",
      "       [1., 1., 1., 1., 1., 1., 1., 1.],\n",
      "       [3., 3., 2., 3., 1., 1., 2., 2.],\n",
      "       [1., 3., 1., 1., 1., 1., 1., 3.],\n",
      "       [2., 1., 3., 1., 1., 1., 1., 1.],\n",
      "       [1., 1., 1., 3., 3., 1., 1., 1.],\n",
      "       [3., 3., 3., 2., 3., 1., 1., 1.],\n",
      "       [3., 3., 1., 3., 3., 3., 3., 3.],\n",
      "       [2., 3., 1., 3., 3., 2., 1., 3.],\n",
      "       [3., 3., 1., 3., 3., 3., 3., 3.],\n",
      "       [1., 1., 1., 2., 3., 1., 1., 2.],\n",
      "       [3., 3., 1., 3., 2., 3., 3., 3.],\n",
      "       [2., 1., 1., 3., 1., 3., 1., 3.],\n",
      "       [1., 1., 1., 1., 1., 1., 1., 3.],\n",
      "       [3., 3., 2., 3., 3., 3., 2., 3.],\n",
      "       [1., 1., 1., 2., 1., 1., 1., 2.],\n",
      "       [3., 3., 1., 3., 2., 3., 3., 3.],\n",
      "       [2., 3., 1., 2., 3., 2., 1., 2.],\n",
      "       [2., 3., 1., 3., 2., 3., 1., 3.],\n",
      "       [2., 1., 2., 2., 2., 1., 1., 2.],\n",
      "       [1., 3., 1., 3., 2., 2., 1., 3.],\n",
      "       [2., 3., 1., 3., 3., 3., 3., 3.],\n",
      "       [2., 3., 2., 3., 3., 3., 3., 3.],\n",
      "       [3., 2., 2., 2., 3., 2., 2., 3.],\n",
      "       [1., 3., 1., 3., 3., 2., 1., 3.],\n",
      "       [2., 1., 2., 1., 3., 2., 1., 1.],\n",
      "       [3., 2., 3., 3., 1., 1., 1., 2.],\n",
      "       [1., 3., 3., 2., 1., 1., 1., 3.],\n",
      "       [1., 1., 1., 1., 1., 1., 1., 2.],\n",
      "       [1., 3., 1., 3., 3., 1., 1., 1.],\n",
      "       [3., 3., 3., 3., 3., 1., 3., 3.],\n",
      "       [3., 3., 3., 3., 1., 1., 3., 3.],\n",
      "       [1., 1., 2., 1., 1., 1., 1., 2.],\n",
      "       [3., 3., 3., 1., 1., 1., 1., 1.],\n",
      "       [3., 2., 2., 3., 2., 3., 2., 3.],\n",
      "       [1., 1., 1., 3., 1., 3., 2., 1.],\n",
      "       [3., 3., 1., 3., 1., 3., 1., 3.],\n",
      "       [1., 1., 1., 1., 1., 2., 1., 1.],\n",
      "       [1., 3., 1., 3., 1., 2., 3., 3.],\n",
      "       [2., 2., 2., 2., 2., 2., 2., 2.],\n",
      "       [3., 1., 1., 1., 1., 1., 1., 1.],\n",
      "       [3., 3., 1., 3., 3., 3., 3., 3.],\n",
      "       [3., 3., 1., 1., 3., 1., 3., 3.],\n",
      "       [1., 3., 1., 3., 1., 2., 1., 3.],\n",
      "       [3., 3., 1., 3., 1., 3., 3., 3.],\n",
      "       [3., 1., 3., 1., 1., 1., 1., 1.],\n",
      "       [2., 1., 1., 2., 2., 1., 1., 1.],\n",
      "       [1., 1., 3., 1., 1., 1., 1., 1.],\n",
      "       [3., 3., 1., 3., 3., 2., 1., 3.],\n",
      "       [2., 1., 1., 2., 2., 1., 1., 2.],\n",
      "       [2., 1., 1., 1., 1., 2., 1., 1.],\n",
      "       [3., 3., 1., 2., 1., 1., 1., 1.],\n",
      "       [3., 3., 1., 3., 2., 3., 3., 3.],\n",
      "       [3., 1., 1., 1., 1., 1., 1., 1.],\n",
      "       [2., 3., 1., 3., 2., 1., 1., 3.],\n",
      "       [1., 3., 1., 3., 3., 2., 1., 3.],\n",
      "       [2., 3., 2., 2., 3., 1., 1., 2.],\n",
      "       [3., 3., 2., 3., 3., 2., 1., 3.],\n",
      "       [1., 1., 1., 3., 1., 2., 3., 3.],\n",
      "       [2., 1., 2., 1., 1., 1., 1., 1.]]), 4: array([[2., 1., 1., 1., 1., 1., 1., 1.],\n",
      "       [1., 1., 1., 1., 1., 1., 1., 1.],\n",
      "       [1., 3., 1., 3., 3., 1., 1., 3.],\n",
      "       [3., 1., 3., 1., 1., 1., 3., 1.],\n",
      "       [3., 1., 1., 3., 1., 3., 1., 3.],\n",
      "       [2., 3., 1., 3., 2., 3., 3., 3.],\n",
      "       [2., 3., 1., 2., 2., 1., 1., 1.],\n",
      "       [3., 3., 1., 3., 3., 3., 1., 3.],\n",
      "       [3., 2., 1., 3., 2., 2., 1., 3.],\n",
      "       [3., 3., 2., 3., 2., 1., 1., 3.],\n",
      "       [1., 1., 1., 3., 3., 1., 1., 1.],\n",
      "       [3., 1., 1., 1., 1., 1., 1., 1.],\n",
      "       [1., 1., 1., 2., 1., 1., 1., 1.],\n",
      "       [3., 3., 2., 3., 3., 3., 3., 3.],\n",
      "       [1., 1., 1., 1., 2., 1., 1., 3.],\n",
      "       [1., 1., 1., 2., 1., 1., 1., 1.],\n",
      "       [1., 1., 1., 1., 1., 1., 1., 1.],\n",
      "       [3., 3., 3., 3., 2., 3., 1., 1.],\n",
      "       [3., 1., 1., 3., 3., 3., 3., 3.],\n",
      "       [3., 1., 3., 1., 1., 1., 1., 1.],\n",
      "       [1., 1., 2., 1., 1., 1., 1., 2.],\n",
      "       [2., 3., 1., 3., 1., 3., 3., 3.],\n",
      "       [3., 2., 1., 3., 1., 3., 1., 3.],\n",
      "       [3., 3., 1., 3., 3., 3., 3., 3.],\n",
      "       [1., 1., 1., 2., 3., 1., 1., 1.],\n",
      "       [3., 3., 1., 3., 3., 2., 3., 3.],\n",
      "       [2., 3., 3., 3., 1., 3., 3., 1.],\n",
      "       [2., 1., 2., 1., 1., 1., 1., 1.],\n",
      "       [1., 1., 2., 2., 2., 2., 1., 2.],\n",
      "       [2., 1., 2., 2., 2., 2., 1., 2.],\n",
      "       [1., 3., 1., 1., 2., 2., 1., 3.],\n",
      "       [1., 3., 3., 1., 1., 1., 1., 1.],\n",
      "       [3., 3., 2., 3., 3., 2., 3., 3.],\n",
      "       [3., 3., 2., 3., 3., 3., 2., 3.],\n",
      "       [1., 1., 1., 2., 1., 1., 1., 2.],\n",
      "       [1., 3., 1., 3., 2., 3., 1., 3.],\n",
      "       [1., 1., 2., 3., 2., 1., 1., 3.],\n",
      "       [3., 3., 1., 3., 1., 3., 1., 3.],\n",
      "       [3., 3., 3., 3., 3., 1., 3., 3.],\n",
      "       [1., 1., 2., 3., 1., 1., 1., 1.],\n",
      "       [1., 1., 2., 1., 2., 2., 1., 1.],\n",
      "       [2., 3., 1., 3., 3., 3., 2., 3.],\n",
      "       [3., 3., 2., 2., 1., 1., 3., 3.],\n",
      "       [2., 3., 2., 3., 3., 3., 3., 3.],\n",
      "       [3., 3., 3., 3., 3., 1., 3., 3.],\n",
      "       [1., 3., 1., 3., 3., 1., 1., 1.],\n",
      "       [1., 1., 3., 1., 1., 1., 1., 1.],\n",
      "       [3., 3., 2., 3., 3., 3., 1., 3.],\n",
      "       [3., 3., 2., 3., 2., 1., 1., 3.],\n",
      "       [2., 1., 3., 1., 1., 1., 1., 1.],\n",
      "       [3., 2., 2., 3., 2., 3., 2., 3.],\n",
      "       [1., 3., 1., 1., 3., 1., 2., 3.],\n",
      "       [2., 3., 1., 3., 2., 2., 3., 3.],\n",
      "       [2., 2., 1., 2., 3., 3., 2., 3.],\n",
      "       [3., 3., 1., 3., 1., 1., 3., 3.],\n",
      "       [1., 1., 1., 1., 3., 1., 1., 2.],\n",
      "       [3., 3., 1., 3., 1., 1., 1., 3.],\n",
      "       [3., 3., 1., 3., 3., 1., 3., 3.],\n",
      "       [1., 1., 2., 1., 1., 1., 1., 1.],\n",
      "       [1., 1., 1., 3., 1., 1., 1., 2.],\n",
      "       [3., 3., 1., 3., 2., 3., 3., 3.],\n",
      "       [1., 1., 1., 1., 2., 2., 1., 1.],\n",
      "       [2., 1., 1., 3., 2., 1., 1., 1.],\n",
      "       [3., 3., 2., 3., 3., 3., 2., 3.],\n",
      "       [3., 3., 3., 3., 1., 1., 1., 3.],\n",
      "       [1., 3., 2., 3., 1., 1., 1., 3.],\n",
      "       [3., 3., 1., 3., 1., 3., 3., 3.],\n",
      "       [3., 3., 3., 3., 3., 2., 3., 2.],\n",
      "       [1., 3., 1., 3., 1., 3., 3., 3.],\n",
      "       [2., 1., 2., 1., 3., 1., 1., 2.],\n",
      "       [1., 3., 1., 3., 1., 2., 1., 1.],\n",
      "       [2., 3., 1., 2., 1., 2., 1., 1.],\n",
      "       [1., 1., 1., 3., 2., 3., 2., 2.],\n",
      "       [3., 3., 3., 3., 3., 1., 3., 3.],\n",
      "       [2., 3., 1., 2., 1., 3., 1., 3.],\n",
      "       [2., 3., 2., 3., 3., 3., 3., 3.],\n",
      "       [3., 2., 2., 3., 3., 3., 3., 3.],\n",
      "       [3., 3., 3., 3., 3., 3., 3., 3.],\n",
      "       [2., 2., 2., 2., 2., 2., 2., 2.],\n",
      "       [2., 3., 1., 2., 3., 3., 1., 3.],\n",
      "       [3., 3., 1., 3., 3., 3., 3., 3.],\n",
      "       [2., 1., 1., 2., 2., 1., 1., 1.],\n",
      "       [1., 3., 3., 3., 1., 1., 1., 3.],\n",
      "       [3., 3., 3., 3., 3., 1., 3., 3.],\n",
      "       [3., 3., 2., 3., 3., 1., 1., 3.],\n",
      "       [3., 3., 2., 3., 3., 2., 3., 3.],\n",
      "       [2., 3., 1., 3., 1., 3., 2., 3.],\n",
      "       [3., 3., 2., 3., 1., 1., 1., 3.],\n",
      "       [2., 1., 1., 2., 1., 2., 1., 1.]]), 5: array([[2., 2., 1., 2., 1., 2., 3., 3.],\n",
      "       [2., 3., 2., 3., 3., 3., 3., 3.],\n",
      "       [2., 3., 2., 2., 2., 1., 1., 3.],\n",
      "       [2., 2., 1., 3., 2., 2., 1., 3.],\n",
      "       [1., 1., 1., 3., 3., 1., 1., 1.],\n",
      "       [2., 1., 3., 1., 1., 1., 1., 1.],\n",
      "       [3., 3., 3., 1., 1., 1., 1., 1.],\n",
      "       [2., 3., 1., 3., 3., 1., 1., 3.],\n",
      "       [3., 3., 3., 3., 3., 3., 3., 3.],\n",
      "       [1., 1., 1., 2., 1., 1., 1., 2.],\n",
      "       [3., 3., 1., 2., 3., 1., 3., 3.],\n",
      "       [2., 3., 2., 3., 3., 3., 3., 3.],\n",
      "       [3., 1., 3., 3., 2., 3., 1., 1.],\n",
      "       [1., 3., 1., 3., 3., 3., 3., 3.],\n",
      "       [1., 1., 1., 1., 1., 1., 1., 1.],\n",
      "       [1., 1., 1., 1., 1., 1., 1., 1.],\n",
      "       [2., 2., 2., 2., 3., 2., 3., 2.],\n",
      "       [1., 1., 1., 1., 1., 2., 1., 1.],\n",
      "       [2., 3., 1., 3., 2., 3., 3., 3.],\n",
      "       [2., 3., 1., 3., 1., 3., 2., 3.],\n",
      "       [1., 1., 1., 1., 1., 1., 1., 1.],\n",
      "       [3., 3., 1., 3., 3., 2., 1., 3.],\n",
      "       [3., 3., 2., 2., 3., 2., 3., 3.],\n",
      "       [1., 1., 1., 1., 1., 1., 1., 1.],\n",
      "       [3., 3., 1., 3., 2., 2., 2., 3.],\n",
      "       [3., 3., 1., 3., 3., 3., 2., 3.],\n",
      "       [2., 3., 1., 3., 2., 3., 3., 3.],\n",
      "       [2., 3., 1., 3., 1., 3., 1., 3.],\n",
      "       [2., 1., 2., 2., 3., 1., 1., 2.],\n",
      "       [2., 3., 1., 1., 2., 2., 1., 3.],\n",
      "       [3., 3., 2., 3., 3., 1., 1., 3.],\n",
      "       [3., 2., 1., 3., 2., 2., 1., 3.],\n",
      "       [3., 3., 2., 3., 1., 1., 1., 3.],\n",
      "       [1., 1., 2., 2., 1., 1., 1., 1.],\n",
      "       [3., 1., 3., 1., 1., 1., 1., 1.],\n",
      "       [3., 3., 1., 3., 3., 3., 2., 3.],\n",
      "       [3., 3., 1., 3., 3., 2., 3., 3.],\n",
      "       [3., 3., 1., 3., 1., 1., 1., 3.],\n",
      "       [1., 3., 1., 1., 1., 1., 1., 3.],\n",
      "       [2., 3., 3., 3., 3., 2., 3., 3.],\n",
      "       [2., 3., 2., 2., 2., 2., 3., 2.],\n",
      "       [2., 1., 1., 2., 1., 1., 1., 2.],\n",
      "       [2., 3., 2., 3., 2., 3., 2., 2.],\n",
      "       [2., 3., 1., 3., 3., 3., 2., 3.],\n",
      "       [1., 3., 1., 3., 3., 1., 1., 1.],\n",
      "       [3., 3., 3., 3., 1., 1., 1., 3.],\n",
      "       [2., 1., 1., 2., 2., 1., 1., 3.],\n",
      "       [3., 1., 1., 1., 1., 1., 1., 1.],\n",
      "       [2., 1., 1., 2., 1., 2., 1., 1.],\n",
      "       [1., 1., 1., 2., 3., 1., 1., 1.],\n",
      "       [3., 3., 3., 3., 3., 1., 3., 3.],\n",
      "       [3., 3., 3., 1., 3., 3., 3., 3.],\n",
      "       [3., 3., 2., 3., 3., 3., 3., 3.],\n",
      "       [2., 1., 1., 2., 2., 1., 1., 1.],\n",
      "       [2., 2., 2., 2., 2., 1., 1., 2.],\n",
      "       [3., 3., 3., 3., 1., 3., 3., 3.],\n",
      "       [3., 3., 2., 3., 3., 3., 2., 3.],\n",
      "       [2., 2., 2., 2., 2., 2., 2., 2.],\n",
      "       [3., 3., 1., 3., 3., 3., 3., 3.],\n",
      "       [1., 1., 1., 2., 2., 1., 2., 2.],\n",
      "       [1., 1., 1., 2., 1., 1., 1., 2.],\n",
      "       [3., 3., 2., 3., 3., 3., 1., 3.],\n",
      "       [2., 3., 2., 1., 2., 1., 1., 1.],\n",
      "       [3., 1., 1., 3., 2., 3., 1., 2.],\n",
      "       [1., 3., 2., 3., 3., 2., 2., 3.],\n",
      "       [3., 3., 1., 3., 1., 3., 3., 3.],\n",
      "       [1., 3., 2., 3., 1., 1., 1., 3.],\n",
      "       [3., 3., 1., 3., 2., 3., 3., 3.],\n",
      "       [1., 3., 1., 2., 3., 3., 1., 1.],\n",
      "       [1., 1., 2., 1., 1., 1., 1., 1.],\n",
      "       [1., 3., 1., 3., 3., 2., 1., 3.],\n",
      "       [1., 1., 1., 2., 2., 1., 1., 1.],\n",
      "       [2., 3., 2., 3., 3., 2., 3., 3.],\n",
      "       [3., 3., 2., 2., 3., 3., 1., 2.],\n",
      "       [1., 3., 1., 3., 2., 2., 1., 3.],\n",
      "       [3., 3., 3., 3., 3., 1., 3., 3.],\n",
      "       [2., 1., 1., 2., 1., 2., 1., 2.],\n",
      "       [1., 1., 1., 1., 1., 2., 1., 1.],\n",
      "       [3., 3., 2., 3., 3., 1., 1., 3.],\n",
      "       [3., 3., 3., 3., 1., 1., 3., 3.],\n",
      "       [2., 3., 1., 3., 3., 1., 1., 3.],\n",
      "       [1., 3., 1., 3., 1., 1., 1., 1.],\n",
      "       [2., 3., 1., 2., 3., 3., 2., 1.],\n",
      "       [2., 3., 1., 3., 1., 3., 1., 3.],\n",
      "       [3., 3., 1., 2., 3., 2., 3., 3.]]), 6: array([[3., 3., 1., 3., 3., 1., 3., 3.],\n",
      "       [1., 1., 1., 2., 1., 1., 1., 1.],\n",
      "       [3., 3., 3., 3., 3., 3., 1., 3.],\n",
      "       [1., 1., 1., 2., 1., 1., 1., 3.],\n",
      "       [3., 3., 1., 3., 3., 3., 3., 3.],\n",
      "       [3., 3., 2., 3., 3., 2., 2., 3.],\n",
      "       [3., 3., 1., 3., 3., 1., 3., 3.],\n",
      "       [3., 3., 3., 1., 1., 1., 1., 1.],\n",
      "       [3., 1., 1., 1., 1., 1., 1., 1.],\n",
      "       [2., 2., 1., 3., 2., 1., 1., 3.],\n",
      "       [1., 1., 1., 3., 3., 1., 1., 1.],\n",
      "       [2., 3., 2., 3., 2., 3., 3., 3.],\n",
      "       [1., 1., 1., 1., 1., 1., 1., 1.],\n",
      "       [1., 1., 1., 1., 1., 1., 1., 1.],\n",
      "       [2., 3., 1., 3., 3., 2., 1., 3.],\n",
      "       [2., 3., 1., 3., 2., 3., 3., 3.],\n",
      "       [3., 2., 1., 3., 2., 3., 1., 3.],\n",
      "       [2., 1., 1., 2., 1., 2., 1., 2.],\n",
      "       [3., 3., 1., 3., 3., 2., 3., 3.],\n",
      "       [3., 3., 1., 3., 3., 3., 3., 3.],\n",
      "       [1., 1., 1., 1., 1., 1., 1., 1.],\n",
      "       [2., 1., 1., 2., 3., 2., 1., 1.],\n",
      "       [3., 3., 3., 3., 3., 3., 1., 3.],\n",
      "       [3., 3., 1., 3., 3., 3., 3., 3.],\n",
      "       [3., 3., 2., 3., 1., 3., 3., 3.],\n",
      "       [1., 3., 1., 3., 1., 1., 3., 2.],\n",
      "       [3., 3., 1., 3., 3., 3., 3., 3.],\n",
      "       [2., 1., 1., 2., 1., 3., 2., 1.],\n",
      "       [2., 3., 2., 3., 3., 3., 3., 3.],\n",
      "       [2., 3., 1., 3., 2., 1., 1., 3.],\n",
      "       [3., 3., 2., 3., 3., 1., 3., 3.],\n",
      "       [3., 3., 1., 3., 2., 3., 3., 3.],\n",
      "       [3., 3., 2., 3., 3., 3., 2., 3.],\n",
      "       [2., 3., 2., 2., 3., 2., 1., 2.],\n",
      "       [1., 1., 1., 1., 1., 2., 1., 1.],\n",
      "       [3., 3., 3., 3., 3., 1., 3., 3.],\n",
      "       [1., 3., 1., 3., 3., 1., 1., 3.],\n",
      "       [1., 1., 1., 1., 1., 2., 1., 1.],\n",
      "       [1., 3., 3., 3., 3., 2., 2., 3.],\n",
      "       [3., 3., 2., 2., 2., 1., 1., 2.],\n",
      "       [1., 1., 3., 1., 1., 1., 1., 1.],\n",
      "       [1., 3., 1., 3., 2., 1., 1., 1.],\n",
      "       [2., 1., 2., 2., 3., 2., 1., 2.],\n",
      "       [3., 3., 2., 3., 3., 3., 2., 3.],\n",
      "       [2., 3., 3., 3., 3., 2., 3., 3.],\n",
      "       [2., 3., 1., 3., 3., 3., 3., 3.],\n",
      "       [3., 1., 3., 1., 1., 1., 1., 1.],\n",
      "       [3., 2., 2., 3., 3., 2., 2., 3.],\n",
      "       [1., 2., 1., 2., 2., 1., 1., 3.],\n",
      "       [3., 3., 1., 3., 3., 3., 3., 3.],\n",
      "       [3., 3., 1., 3., 3., 2., 2., 3.],\n",
      "       [2., 3., 2., 2., 3., 3., 1., 3.],\n",
      "       [3., 3., 1., 3., 3., 3., 3., 3.],\n",
      "       [2., 2., 1., 2., 1., 2., 1., 1.],\n",
      "       [1., 3., 1., 3., 2., 1., 1., 1.],\n",
      "       [1., 3., 3., 3., 3., 3., 1., 3.],\n",
      "       [3., 3., 1., 3., 1., 1., 1., 3.],\n",
      "       [1., 1., 1., 1., 1., 1., 1., 1.],\n",
      "       [2., 3., 2., 3., 2., 2., 2., 3.],\n",
      "       [2., 2., 2., 2., 2., 1., 1., 2.],\n",
      "       [3., 3., 3., 3., 1., 3., 3., 3.],\n",
      "       [3., 3., 3., 3., 3., 3., 3., 3.],\n",
      "       [1., 3., 2., 1., 3., 1., 1., 3.]])}\n"
     ]
    }
   ],
   "source": [
    "\n",
    "ord_list_of_attributes = list_of_attributes - {'ethnicity_1', 'gender_1', 'hometown_1', 'age_1'}\n",
    "print(ord_list_of_attributes)\n",
    "\n",
    "#creating table of attribute values\n",
    "ord_attributes = dict((i, 0) for i in range(1,7))\n",
    "for i in range(1,7):\n",
    "    ord_attributes[i] = np.zeros([len(data[i].nodes), len(ord_list_of_attributes)])\n",
    "\n",
    "for sem in range(1,7):\n",
    "    for i, node in enumerate(data[sem].nodes()):\n",
    "        for j, attribute in enumerate(ord_list_of_attributes):\n",
    "            ord_attributes[sem][i,j] = data[sem].nodes[node][attribute]\n",
    "print(ord_attributes)"
   ]
  },
  {
   "cell_type": "code",
   "execution_count": 91,
   "id": "complex-binary",
   "metadata": {},
   "outputs": [
    {
     "name": "stdout",
     "output_type": "stream",
     "text": [
      "    euthanasia_  premaritalsex_  deathpen_  gaymarriage_  marijuana_  \\\n",
      "0           3.0             3.0        3.0           3.0         2.0   \n",
      "1           2.0             2.0        2.0           1.0         3.0   \n",
      "2           3.0             3.0        3.0           3.0         3.0   \n",
      "3           1.0             3.0        1.0           3.0         2.0   \n",
      "4           1.0             3.0        2.0           2.0         1.0   \n",
      "..          ...             ...        ...           ...         ...   \n",
      "93          3.0             3.0        3.0           1.0         1.0   \n",
      "94          3.0             3.0        3.0           1.0         3.0   \n",
      "95          2.0             3.0        2.0           1.0         1.0   \n",
      "96          2.0             1.0        1.0           2.0         1.0   \n",
      "97          3.0             3.0        1.0           3.0         3.0   \n",
      "\n",
      "    political_  abortion_  homosexual_  \n",
      "0          1.0        3.0          3.0  \n",
      "1          1.0        2.0          2.0  \n",
      "2          3.0        3.0          1.0  \n",
      "3          3.0        3.0          3.0  \n",
      "4          2.0        3.0          3.0  \n",
      "..         ...        ...          ...  \n",
      "93         1.0        1.0          1.0  \n",
      "94         3.0        3.0          3.0  \n",
      "95         2.0        1.0          1.0  \n",
      "96         1.0        1.0          1.0  \n",
      "97         2.0        3.0          3.0  \n",
      "\n",
      "[98 rows x 8 columns]\n"
     ]
    }
   ],
   "source": [
    "df = pd.DataFrame(data=ord_attributes[1], columns=ord_list_of_attributes)\n",
    "print(df)"
   ]
  },
  {
   "cell_type": "code",
   "execution_count": 13,
   "id": "brazilian-trustee",
   "metadata": {},
   "outputs": [
    {
     "name": "stdout",
     "output_type": "stream",
     "text": [
      "[0 0 0 0 0 0 0 0 0 0 0 0]\n"
     ]
    }
   ],
   "source": [
    "mca_counts = mca.MCA(df, ncols = len(attribute_values))\n",
    "# print(mca_counts.fs_r(1))\n",
    "print(mca_counts.L)"
   ]
  },
  {
   "cell_type": "code",
   "execution_count": 92,
   "id": "balanced-situation",
   "metadata": {},
   "outputs": [],
   "source": [
    "import prince\n",
    "mca = prince.MCA(n_components = 8)"
   ]
  },
  {
   "cell_type": "code",
   "execution_count": 93,
   "id": "frank-empty",
   "metadata": {},
   "outputs": [
    {
     "data": {
      "text/html": [
       "<div>\n",
       "<style scoped>\n",
       "    .dataframe tbody tr th:only-of-type {\n",
       "        vertical-align: middle;\n",
       "    }\n",
       "\n",
       "    .dataframe tbody tr th {\n",
       "        vertical-align: top;\n",
       "    }\n",
       "\n",
       "    .dataframe thead th {\n",
       "        text-align: right;\n",
       "    }\n",
       "</style>\n",
       "<table border=\"1\" class=\"dataframe\">\n",
       "  <thead>\n",
       "    <tr style=\"text-align: right;\">\n",
       "      <th></th>\n",
       "      <th>0</th>\n",
       "      <th>1</th>\n",
       "      <th>2</th>\n",
       "      <th>3</th>\n",
       "      <th>4</th>\n",
       "      <th>5</th>\n",
       "      <th>6</th>\n",
       "      <th>7</th>\n",
       "    </tr>\n",
       "  </thead>\n",
       "  <tbody>\n",
       "    <tr>\n",
       "      <th>0</th>\n",
       "      <td>0.122662</td>\n",
       "      <td>-0.144814</td>\n",
       "      <td>0.030049</td>\n",
       "      <td>0.088763</td>\n",
       "      <td>0.106152</td>\n",
       "      <td>0.088766</td>\n",
       "      <td>0.029518</td>\n",
       "      <td>1.0</td>\n",
       "    </tr>\n",
       "    <tr>\n",
       "      <th>1</th>\n",
       "      <td>0.137279</td>\n",
       "      <td>0.185455</td>\n",
       "      <td>-0.083959</td>\n",
       "      <td>0.111534</td>\n",
       "      <td>0.089510</td>\n",
       "      <td>0.226343</td>\n",
       "      <td>-0.030785</td>\n",
       "      <td>1.0</td>\n",
       "    </tr>\n",
       "    <tr>\n",
       "      <th>2</th>\n",
       "      <td>0.098717</td>\n",
       "      <td>0.105076</td>\n",
       "      <td>-0.119203</td>\n",
       "      <td>-0.060902</td>\n",
       "      <td>0.074199</td>\n",
       "      <td>-0.071590</td>\n",
       "      <td>0.179417</td>\n",
       "      <td>1.0</td>\n",
       "    </tr>\n",
       "    <tr>\n",
       "      <th>3</th>\n",
       "      <td>-0.308344</td>\n",
       "      <td>-0.073222</td>\n",
       "      <td>-0.148650</td>\n",
       "      <td>-0.032835</td>\n",
       "      <td>0.010344</td>\n",
       "      <td>0.053014</td>\n",
       "      <td>0.055842</td>\n",
       "      <td>1.0</td>\n",
       "    </tr>\n",
       "    <tr>\n",
       "      <th>4</th>\n",
       "      <td>-0.100248</td>\n",
       "      <td>-0.256692</td>\n",
       "      <td>-0.190695</td>\n",
       "      <td>-0.059676</td>\n",
       "      <td>0.039009</td>\n",
       "      <td>0.145265</td>\n",
       "      <td>-0.008703</td>\n",
       "      <td>1.0</td>\n",
       "    </tr>\n",
       "    <tr>\n",
       "      <th>...</th>\n",
       "      <td>...</td>\n",
       "      <td>...</td>\n",
       "      <td>...</td>\n",
       "      <td>...</td>\n",
       "      <td>...</td>\n",
       "      <td>...</td>\n",
       "      <td>...</td>\n",
       "      <td>...</td>\n",
       "    </tr>\n",
       "    <tr>\n",
       "      <th>93</th>\n",
       "      <td>0.495209</td>\n",
       "      <td>-0.076951</td>\n",
       "      <td>0.021995</td>\n",
       "      <td>-0.106091</td>\n",
       "      <td>-0.144929</td>\n",
       "      <td>0.006302</td>\n",
       "      <td>0.025333</td>\n",
       "      <td>1.0</td>\n",
       "    </tr>\n",
       "    <tr>\n",
       "      <th>94</th>\n",
       "      <td>0.095791</td>\n",
       "      <td>0.097528</td>\n",
       "      <td>-0.149880</td>\n",
       "      <td>-0.117073</td>\n",
       "      <td>0.056262</td>\n",
       "      <td>0.127769</td>\n",
       "      <td>-0.100817</td>\n",
       "      <td>1.0</td>\n",
       "    </tr>\n",
       "    <tr>\n",
       "      <th>95</th>\n",
       "      <td>0.208901</td>\n",
       "      <td>-0.019414</td>\n",
       "      <td>-0.109212</td>\n",
       "      <td>-0.209939</td>\n",
       "      <td>-0.234257</td>\n",
       "      <td>-0.026168</td>\n",
       "      <td>0.044248</td>\n",
       "      <td>1.0</td>\n",
       "    </tr>\n",
       "    <tr>\n",
       "      <th>96</th>\n",
       "      <td>0.030244</td>\n",
       "      <td>0.007270</td>\n",
       "      <td>0.186365</td>\n",
       "      <td>0.026823</td>\n",
       "      <td>0.098474</td>\n",
       "      <td>-0.175362</td>\n",
       "      <td>0.074793</td>\n",
       "      <td>1.0</td>\n",
       "    </tr>\n",
       "    <tr>\n",
       "      <th>97</th>\n",
       "      <td>-0.142194</td>\n",
       "      <td>0.062843</td>\n",
       "      <td>0.087038</td>\n",
       "      <td>0.025017</td>\n",
       "      <td>0.059468</td>\n",
       "      <td>0.121109</td>\n",
       "      <td>0.059226</td>\n",
       "      <td>1.0</td>\n",
       "    </tr>\n",
       "  </tbody>\n",
       "</table>\n",
       "<p>98 rows × 8 columns</p>\n",
       "</div>"
      ],
      "text/plain": [
       "           0         1         2         3         4         5         6    7\n",
       "0   0.122662 -0.144814  0.030049  0.088763  0.106152  0.088766  0.029518  1.0\n",
       "1   0.137279  0.185455 -0.083959  0.111534  0.089510  0.226343 -0.030785  1.0\n",
       "2   0.098717  0.105076 -0.119203 -0.060902  0.074199 -0.071590  0.179417  1.0\n",
       "3  -0.308344 -0.073222 -0.148650 -0.032835  0.010344  0.053014  0.055842  1.0\n",
       "4  -0.100248 -0.256692 -0.190695 -0.059676  0.039009  0.145265 -0.008703  1.0\n",
       "..       ...       ...       ...       ...       ...       ...       ...  ...\n",
       "93  0.495209 -0.076951  0.021995 -0.106091 -0.144929  0.006302  0.025333  1.0\n",
       "94  0.095791  0.097528 -0.149880 -0.117073  0.056262  0.127769 -0.100817  1.0\n",
       "95  0.208901 -0.019414 -0.109212 -0.209939 -0.234257 -0.026168  0.044248  1.0\n",
       "96  0.030244  0.007270  0.186365  0.026823  0.098474 -0.175362  0.074793  1.0\n",
       "97 -0.142194  0.062843  0.087038  0.025017  0.059468  0.121109  0.059226  1.0\n",
       "\n",
       "[98 rows x 8 columns]"
      ]
     },
     "execution_count": 93,
     "metadata": {},
     "output_type": "execute_result"
    }
   ],
   "source": [
    "mca = mca.fit(df)\n",
    "mca.transform(df)\n"
   ]
  },
  {
   "cell_type": "code",
   "execution_count": 94,
   "id": "upset-liability",
   "metadata": {},
   "outputs": [
    {
     "data": {
      "text/plain": [
       "([0.03079939519923166,\n",
       "  0.023552850508398653,\n",
       "  0.019639446617740842,\n",
       "  0.015034991207541008,\n",
       "  0.014615022971842959,\n",
       "  0.013322726761363696,\n",
       "  0.006528126383079681,\n",
       "  4.689681828368621e-32],\n",
       " 0.0)"
      ]
     },
     "execution_count": 94,
     "metadata": {},
     "output_type": "execute_result"
    }
   ],
   "source": [
    "mca.eigenvalues_, mca.total_inertia_#, mca.explained_inertia_"
   ]
  },
  {
   "cell_type": "code",
   "execution_count": 95,
   "id": "fantastic-weight",
   "metadata": {},
   "outputs": [
    {
     "ename": "ZeroDivisionError",
     "evalue": "float division by zero",
     "output_type": "error",
     "traceback": [
      "\u001b[0;31m---------------------------------------------------------------------------\u001b[0m",
      "\u001b[0;31mZeroDivisionError\u001b[0m                         Traceback (most recent call last)",
      "\u001b[0;32m<ipython-input-95-76f111050c00>\u001b[0m in \u001b[0;36m<module>\u001b[0;34m\u001b[0m\n\u001b[0;32m----> 1\u001b[0;31m ax = mca.plot_coordinates(\n\u001b[0m\u001b[1;32m      2\u001b[0m      \u001b[0mX\u001b[0m\u001b[0;34m=\u001b[0m\u001b[0mdf\u001b[0m\u001b[0;34m,\u001b[0m\u001b[0;34m\u001b[0m\u001b[0;34m\u001b[0m\u001b[0m\n\u001b[1;32m      3\u001b[0m      \u001b[0max\u001b[0m\u001b[0;34m=\u001b[0m\u001b[0;32mNone\u001b[0m\u001b[0;34m,\u001b[0m\u001b[0;34m\u001b[0m\u001b[0;34m\u001b[0m\u001b[0m\n\u001b[1;32m      4\u001b[0m      \u001b[0mfigsize\u001b[0m\u001b[0;34m=\u001b[0m\u001b[0;34m(\u001b[0m\u001b[0;36m6\u001b[0m\u001b[0;34m,\u001b[0m \u001b[0;36m6\u001b[0m\u001b[0;34m)\u001b[0m\u001b[0;34m,\u001b[0m\u001b[0;34m\u001b[0m\u001b[0;34m\u001b[0m\u001b[0m\n\u001b[1;32m      5\u001b[0m      \u001b[0mshow_row_points\u001b[0m\u001b[0;34m=\u001b[0m\u001b[0;32mTrue\u001b[0m\u001b[0;34m,\u001b[0m\u001b[0;34m\u001b[0m\u001b[0;34m\u001b[0m\u001b[0m\n",
      "\u001b[0;32m~/anaconda3/lib/python3.8/site-packages/prince/mca.py\u001b[0m in \u001b[0;36mplot_coordinates\u001b[0;34m(self, X, ax, figsize, x_component, y_component, show_row_points, row_points_size, row_points_alpha, show_row_labels, show_column_points, column_points_size, show_column_labels, legend_n_cols)\u001b[0m\n\u001b[1;32m    125\u001b[0m         \u001b[0;31m# Text\u001b[0m\u001b[0;34m\u001b[0m\u001b[0;34m\u001b[0m\u001b[0;34m\u001b[0m\u001b[0m\n\u001b[1;32m    126\u001b[0m         \u001b[0max\u001b[0m\u001b[0;34m.\u001b[0m\u001b[0mset_title\u001b[0m\u001b[0;34m(\u001b[0m\u001b[0;34m'Row and column principal coordinates'\u001b[0m\u001b[0;34m)\u001b[0m\u001b[0;34m\u001b[0m\u001b[0;34m\u001b[0m\u001b[0m\n\u001b[0;32m--> 127\u001b[0;31m         \u001b[0mei\u001b[0m \u001b[0;34m=\u001b[0m \u001b[0mself\u001b[0m\u001b[0;34m.\u001b[0m\u001b[0mexplained_inertia_\u001b[0m\u001b[0;34m\u001b[0m\u001b[0;34m\u001b[0m\u001b[0m\n\u001b[0m\u001b[1;32m    128\u001b[0m         \u001b[0max\u001b[0m\u001b[0;34m.\u001b[0m\u001b[0mset_xlabel\u001b[0m\u001b[0;34m(\u001b[0m\u001b[0;34m'Component {} ({:.2f}% inertia)'\u001b[0m\u001b[0;34m.\u001b[0m\u001b[0mformat\u001b[0m\u001b[0;34m(\u001b[0m\u001b[0mx_component\u001b[0m\u001b[0;34m,\u001b[0m \u001b[0;36m100\u001b[0m \u001b[0;34m*\u001b[0m \u001b[0mei\u001b[0m\u001b[0;34m[\u001b[0m\u001b[0mx_component\u001b[0m\u001b[0;34m]\u001b[0m\u001b[0;34m)\u001b[0m\u001b[0;34m)\u001b[0m\u001b[0;34m\u001b[0m\u001b[0;34m\u001b[0m\u001b[0m\n\u001b[1;32m    129\u001b[0m         \u001b[0max\u001b[0m\u001b[0;34m.\u001b[0m\u001b[0mset_ylabel\u001b[0m\u001b[0;34m(\u001b[0m\u001b[0;34m'Component {} ({:.2f}% inertia)'\u001b[0m\u001b[0;34m.\u001b[0m\u001b[0mformat\u001b[0m\u001b[0;34m(\u001b[0m\u001b[0my_component\u001b[0m\u001b[0;34m,\u001b[0m \u001b[0;36m100\u001b[0m \u001b[0;34m*\u001b[0m \u001b[0mei\u001b[0m\u001b[0;34m[\u001b[0m\u001b[0my_component\u001b[0m\u001b[0;34m]\u001b[0m\u001b[0;34m)\u001b[0m\u001b[0;34m)\u001b[0m\u001b[0;34m\u001b[0m\u001b[0;34m\u001b[0m\u001b[0m\n",
      "\u001b[0;32m~/anaconda3/lib/python3.8/site-packages/prince/ca.py\u001b[0m in \u001b[0;36mexplained_inertia_\u001b[0;34m(self)\u001b[0m\n\u001b[1;32m    108\u001b[0m         \u001b[0;34m\"\"\"The percentage of explained inertia per principal component.\"\"\"\u001b[0m\u001b[0;34m\u001b[0m\u001b[0;34m\u001b[0m\u001b[0m\n\u001b[1;32m    109\u001b[0m         \u001b[0mself\u001b[0m\u001b[0;34m.\u001b[0m\u001b[0m_check_is_fitted\u001b[0m\u001b[0;34m(\u001b[0m\u001b[0;34m)\u001b[0m\u001b[0;34m\u001b[0m\u001b[0;34m\u001b[0m\u001b[0m\n\u001b[0;32m--> 110\u001b[0;31m         \u001b[0;32mreturn\u001b[0m \u001b[0;34m[\u001b[0m\u001b[0meig\u001b[0m \u001b[0;34m/\u001b[0m \u001b[0mself\u001b[0m\u001b[0;34m.\u001b[0m\u001b[0mtotal_inertia_\u001b[0m \u001b[0;32mfor\u001b[0m \u001b[0meig\u001b[0m \u001b[0;32min\u001b[0m \u001b[0mself\u001b[0m\u001b[0;34m.\u001b[0m\u001b[0meigenvalues_\u001b[0m\u001b[0;34m]\u001b[0m\u001b[0;34m\u001b[0m\u001b[0;34m\u001b[0m\u001b[0m\n\u001b[0m\u001b[1;32m    111\u001b[0m \u001b[0;34m\u001b[0m\u001b[0m\n\u001b[1;32m    112\u001b[0m     \u001b[0;32mdef\u001b[0m \u001b[0mrow_coordinates\u001b[0m\u001b[0;34m(\u001b[0m\u001b[0mself\u001b[0m\u001b[0;34m,\u001b[0m \u001b[0mX\u001b[0m\u001b[0;34m)\u001b[0m\u001b[0;34m:\u001b[0m\u001b[0;34m\u001b[0m\u001b[0;34m\u001b[0m\u001b[0m\n",
      "\u001b[0;32m~/anaconda3/lib/python3.8/site-packages/prince/ca.py\u001b[0m in \u001b[0;36m<listcomp>\u001b[0;34m(.0)\u001b[0m\n\u001b[1;32m    108\u001b[0m         \u001b[0;34m\"\"\"The percentage of explained inertia per principal component.\"\"\"\u001b[0m\u001b[0;34m\u001b[0m\u001b[0;34m\u001b[0m\u001b[0m\n\u001b[1;32m    109\u001b[0m         \u001b[0mself\u001b[0m\u001b[0;34m.\u001b[0m\u001b[0m_check_is_fitted\u001b[0m\u001b[0;34m(\u001b[0m\u001b[0;34m)\u001b[0m\u001b[0;34m\u001b[0m\u001b[0;34m\u001b[0m\u001b[0m\n\u001b[0;32m--> 110\u001b[0;31m         \u001b[0;32mreturn\u001b[0m \u001b[0;34m[\u001b[0m\u001b[0meig\u001b[0m \u001b[0;34m/\u001b[0m \u001b[0mself\u001b[0m\u001b[0;34m.\u001b[0m\u001b[0mtotal_inertia_\u001b[0m \u001b[0;32mfor\u001b[0m \u001b[0meig\u001b[0m \u001b[0;32min\u001b[0m \u001b[0mself\u001b[0m\u001b[0;34m.\u001b[0m\u001b[0meigenvalues_\u001b[0m\u001b[0;34m]\u001b[0m\u001b[0;34m\u001b[0m\u001b[0;34m\u001b[0m\u001b[0m\n\u001b[0m\u001b[1;32m    111\u001b[0m \u001b[0;34m\u001b[0m\u001b[0m\n\u001b[1;32m    112\u001b[0m     \u001b[0;32mdef\u001b[0m \u001b[0mrow_coordinates\u001b[0m\u001b[0;34m(\u001b[0m\u001b[0mself\u001b[0m\u001b[0;34m,\u001b[0m \u001b[0mX\u001b[0m\u001b[0;34m)\u001b[0m\u001b[0;34m:\u001b[0m\u001b[0;34m\u001b[0m\u001b[0;34m\u001b[0m\u001b[0m\n",
      "\u001b[0;31mZeroDivisionError\u001b[0m: float division by zero"
     ]
    },
    {
     "data": {
      "image/png": "[encoded data removed]",
      "text/plain": [
       "<Figure size 432x432 with 1 Axes>"
      ]
     },
     "metadata": {
      "needs_background": "light"
     },
     "output_type": "display_data"
    }
   ],
   "source": [
    "ax = mca.plot_coordinates(\n",
    "     X=df,\n",
    "     ax=None,\n",
    "     figsize=(6, 6),\n",
    "     show_row_points=True,\n",
    "     row_points_size=10,\n",
    "     show_row_labels=False,\n",
    "     show_column_points=True,\n",
    "     column_points_size=30,\n",
    "     show_column_labels=False,\n",
    "     legend_n_cols=1\n",
    "     )"
   ]
  },
  {
   "cell_type": "markdown",
   "id": "injured-athletics",
   "metadata": {},
   "source": [
    "# PCA\n",
    "Trying simple PCA, although it is not recommended. To do it we need to remove categorical data first. "
   ]
  },
  {
   "cell_type": "code",
   "execution_count": 14,
   "id": "ongoing-prisoner",
   "metadata": {},
   "outputs": [
    {
     "name": "stdout",
     "output_type": "stream",
     "text": [
      "{'euthanasia_', 'premaritalsex_', 'deathpen_', 'gaymarriage_', 'marijuana_', 'political_', 'abortion_', 'homosexual_'}\n",
      "{1: array([[3., 3., 3., 3., 2., 1., 3., 3.],\n",
      "       [2., 2., 2., 1., 3., 1., 2., 2.],\n",
      "       [3., 3., 3., 3., 3., 3., 3., 1.],\n",
      "       [1., 3., 1., 3., 2., 3., 3., 3.],\n",
      "       [1., 3., 2., 2., 1., 2., 3., 3.],\n",
      "       [3., 1., 1., 1., 1., 2., 1., 1.],\n",
      "       [1., 1., 2., 2., 1., 1., 1., 2.],\n",
      "       [2., 1., 2., 2., 3., 2., 2., 1.],\n",
      "       [3., 3., 1., 3., 2., 2., 3., 3.],\n",
      "       [1., 3., 1., 3., 3., 3., 1., 3.],\n",
      "       [3., 1., 1., 1., 2., 2., 1., 1.],\n",
      "       [1., 1., 1., 2., 1., 1., 1., 1.],\n",
      "       [2., 3., 1., 3., 3., 1., 1., 3.],\n",
      "       [1., 1., 1., 1., 3., 1., 1., 2.],\n",
      "       [3., 3., 3., 3., 3., 3., 1., 3.],\n",
      "       [3., 2., 1., 1., 2., 1., 1., 2.],\n",
      "       [2., 3., 2., 1., 2., 1., 1., 1.],\n",
      "       [3., 1., 3., 1., 3., 1., 1., 1.],\n",
      "       [3., 2., 2., 3., 3., 3., 3., 3.],\n",
      "       [3., 3., 1., 3., 3., 1., 1., 1.],\n",
      "       [3., 3., 3., 3., 3., 1., 3., 3.],\n",
      "       [3., 3., 1., 3., 3., 3., 3., 3.],\n",
      "       [3., 3., 1., 3., 3., 1., 1., 3.],\n",
      "       [3., 3., 1., 3., 3., 3., 3., 3.],\n",
      "       [2., 3., 3., 3., 3., 2., 2., 3.],\n",
      "       [1., 1., 1., 1., 2., 1., 1., 1.],\n",
      "       [3., 1., 1., 2., 1., 2., 1., 1.],\n",
      "       [1., 1., 2., 1., 2., 1., 1., 1.],\n",
      "       [1., 2., 2., 3., 1., 1., 1., 1.],\n",
      "       [1., 1., 1., 1., 2., 2., 1., 1.],\n",
      "       [1., 1., 1., 1., 1., 3., 1., 1.],\n",
      "       [3., 3., 1., 3., 3., 3., 3., 3.],\n",
      "       [3., 3., 2., 3., 1., 1., 3., 3.],\n",
      "       [3., 3., 2., 3., 3., 3., 1., 3.],\n",
      "       [3., 1., 1., 3., 1., 2., 1., 3.],\n",
      "       [1., 1., 1., 1., 1., 1., 1., 1.],\n",
      "       [3., 1., 1., 3., 1., 1., 3., 3.],\n",
      "       [3., 3., 1., 2., 3., 2., 3., 3.],\n",
      "       [3., 3., 3., 3., 3., 2., 3., 3.],\n",
      "       [1., 1., 3., 1., 1., 1., 1., 1.],\n",
      "       [3., 1., 1., 1., 1., 1., 1., 1.],\n",
      "       [2., 3., 1., 2., 1., 2., 1., 1.],\n",
      "       [1., 2., 1., 3., 1., 3., 3., 3.],\n",
      "       [1., 1., 1., 1., 1., 1., 1., 1.],\n",
      "       [2., 1., 3., 1., 1., 1., 1., 1.],\n",
      "       [3., 3., 2., 3., 3., 3., 3., 3.],\n",
      "       [3., 3., 1., 1., 1., 1., 1., 1.],\n",
      "       [3., 3., 1., 3., 1., 1., 1., 3.],\n",
      "       [3., 3., 2., 3., 1., 3., 3., 3.],\n",
      "       [1., 1., 1., 1., 1., 1., 1., 1.],\n",
      "       [3., 3., 1., 3., 1., 1., 2., 3.],\n",
      "       [2., 3., 2., 3., 3., 3., 3., 3.],\n",
      "       [3., 3., 3., 3., 1., 1., 3., 3.],\n",
      "       [1., 1., 1., 3., 1., 1., 1., 1.],\n",
      "       [2., 3., 2., 3., 1., 3., 3., 3.],\n",
      "       [1., 3., 3., 3., 1., 3., 3., 3.],\n",
      "       [2., 1., 1., 1., 1., 1., 1., 1.],\n",
      "       [2., 1., 1., 1., 1., 1., 1., 1.],\n",
      "       [3., 3., 2., 3., 1., 3., 3., 3.],\n",
      "       [3., 3., 2., 3., 2., 3., 3., 3.],\n",
      "       [3., 3., 1., 1., 3., 3., 1., 1.],\n",
      "       [1., 1., 1., 2., 1., 1., 1., 1.],\n",
      "       [2., 3., 1., 2., 3., 2., 3., 2.],\n",
      "       [1., 3., 1., 3., 1., 3., 1., 3.],\n",
      "       [1., 3., 1., 1., 1., 3., 1., 1.],\n",
      "       [2., 3., 1., 3., 3., 3., 1., 3.],\n",
      "       [3., 3., 1., 3., 2., 2., 1., 3.],\n",
      "       [2., 3., 1., 3., 1., 1., 1., 3.],\n",
      "       [3., 3., 2., 2., 1., 1., 1., 1.],\n",
      "       [2., 3., 2., 2., 2., 2., 2., 2.],\n",
      "       [1., 3., 3., 1., 1., 1., 1., 1.],\n",
      "       [3., 3., 1., 3., 3., 3., 3., 3.],\n",
      "       [2., 1., 1., 1., 2., 1., 1., 1.],\n",
      "       [2., 3., 3., 2., 1., 1., 1., 3.],\n",
      "       [3., 3., 3., 2., 1., 1., 3., 3.],\n",
      "       [3., 3., 2., 1., 1., 1., 1., 1.],\n",
      "       [1., 3., 1., 1., 1., 1., 1., 3.],\n",
      "       [3., 3., 3., 3., 1., 3., 3., 3.],\n",
      "       [2., 3., 2., 3., 3., 2., 2., 3.],\n",
      "       [1., 1., 1., 3., 1., 1., 1., 1.],\n",
      "       [3., 1., 2., 3., 1., 1., 1., 1.],\n",
      "       [3., 1., 2., 1., 1., 1., 1., 1.],\n",
      "       [2., 1., 1., 1., 1., 1., 1., 1.],\n",
      "       [2., 2., 2., 3., 2., 2., 1., 3.],\n",
      "       [3., 3., 3., 2., 2., 3., 3., 3.],\n",
      "       [1., 1., 1., 1., 1., 1., 1., 1.],\n",
      "       [3., 3., 1., 1., 1., 1., 3., 3.],\n",
      "       [3., 3., 1., 3., 2., 3., 1., 3.],\n",
      "       [1., 3., 3., 1., 1., 1., 1., 1.],\n",
      "       [1., 3., 2., 3., 3., 3., 3., 3.],\n",
      "       [1., 1., 1., 2., 1., 2., 1., 2.],\n",
      "       [1., 1., 1., 1., 2., 1., 1., 1.],\n",
      "       [3., 3., 3., 3., 2., 1., 1., 3.],\n",
      "       [3., 3., 3., 1., 1., 1., 1., 1.],\n",
      "       [3., 3., 3., 1., 3., 3., 3., 3.],\n",
      "       [2., 3., 2., 1., 1., 2., 1., 1.],\n",
      "       [2., 1., 1., 2., 1., 1., 1., 1.],\n",
      "       [3., 3., 1., 3., 3., 2., 3., 3.]]), 2: array([[3., 1., 1., 1., 1., 1., 1., 1.],\n",
      "       [1., 1., 1., 1., 1., 1., 1., 1.],\n",
      "       [3., 3., 2., 3., 1., 1., 1., 3.],\n",
      "       [3., 3., 3., 3., 3., 3., 1., 3.],\n",
      "       [2., 1., 2., 1., 1., 2., 2., 1.],\n",
      "       [1., 3., 1., 3., 3., 2., 1., 3.],\n",
      "       [3., 3., 1., 3., 1., 3., 3., 3.],\n",
      "       [3., 3., 3., 3., 3., 1., 1., 3.],\n",
      "       [1., 1., 1., 1., 1., 2., 1., 1.],\n",
      "       [3., 3., 3., 3., 1., 2., 3., 3.],\n",
      "       [1., 1., 1., 1., 1., 1., 1., 1.],\n",
      "       [1., 1., 1., 1., 2., 1., 1., 1.],\n",
      "       [3., 3., 2., 1., 2., 1., 1., 2.],\n",
      "       [1., 3., 1., 1., 1., 2., 1., 3.],\n",
      "       [3., 3., 3., 1., 1., 3., 1., 1.],\n",
      "       [3., 3., 2., 3., 2., 1., 1., 3.],\n",
      "       [3., 2., 1., 3., 3., 2., 1., 3.],\n",
      "       [1., 1., 1., 1., 1., 3., 1., 3.],\n",
      "       [3., 3., 1., 3., 1., 3., 3., 3.],\n",
      "       [1., 1., 1., 2., 3., 2., 1., 1.],\n",
      "       [1., 1., 1., 1., 1., 1., 1., 1.],\n",
      "       [3., 3., 3., 3., 3., 1., 3., 3.],\n",
      "       [3., 3., 1., 3., 3., 1., 1., 1.],\n",
      "       [3., 3., 1., 3., 3., 3., 3., 3.],\n",
      "       [2., 1., 1., 2., 3., 1., 1., 3.],\n",
      "       [3., 3., 1., 3., 3., 2., 2., 3.],\n",
      "       [2., 3., 2., 3., 3., 3., 3., 3.],\n",
      "       [1., 1., 1., 3., 2., 1., 1., 1.],\n",
      "       [2., 1., 3., 1., 1., 1., 1., 1.],\n",
      "       [2., 1., 1., 3., 1., 3., 1., 1.],\n",
      "       [3., 3., 1., 3., 3., 2., 3., 3.],\n",
      "       [1., 3., 1., 3., 3., 2., 1., 3.],\n",
      "       [3., 1., 3., 1., 1., 1., 1., 1.],\n",
      "       [1., 1., 1., 2., 1., 1., 1., 1.],\n",
      "       [1., 1., 1., 2., 1., 1., 1., 2.],\n",
      "       [3., 3., 3., 3., 3., 3., 3., 3.],\n",
      "       [3., 3., 1., 3., 1., 3., 3., 3.],\n",
      "       [2., 1., 1., 3., 1., 1., 1., 3.],\n",
      "       [1., 3., 1., 3., 3., 3., 3., 3.],\n",
      "       [3., 3., 3., 1., 1., 1., 1., 1.],\n",
      "       [3., 3., 2., 3., 2., 1., 1., 3.],\n",
      "       [3., 1., 1., 3., 3., 1., 1., 3.],\n",
      "       [1., 1., 1., 1., 2., 2., 1., 1.],\n",
      "       [3., 3., 1., 2., 1., 1., 1., 1.],\n",
      "       [3., 3., 1., 3., 2., 3., 3., 3.],\n",
      "       [1., 3., 1., 3., 3., 3., 1., 3.],\n",
      "       [1., 1., 1., 3., 1., 1., 1., 2.],\n",
      "       [2., 3., 1., 3., 2., 3., 3., 3.],\n",
      "       [3., 1., 1., 2., 1., 1., 1., 1.],\n",
      "       [2., 3., 1., 3., 2., 2., 3., 3.],\n",
      "       [2., 2., 2., 2., 2., 2., 2., 2.],\n",
      "       [1., 1., 1., 2., 1., 2., 1., 2.],\n",
      "       [3., 3., 2., 3., 3., 3., 2., 3.],\n",
      "       [3., 3., 2., 3., 3., 2., 3., 3.],\n",
      "       [1., 3., 2., 3., 3., 2., 2., 3.],\n",
      "       [3., 1., 1., 3., 2., 2., 1., 3.],\n",
      "       [1., 1., 2., 1., 2., 2., 1., 1.],\n",
      "       [2., 1., 2., 2., 1., 1., 1., 1.],\n",
      "       [3., 3., 1., 2., 1., 1., 3., 3.],\n",
      "       [3., 3., 1., 3., 3., 3., 3., 3.],\n",
      "       [2., 3., 2., 3., 3., 3., 1., 3.],\n",
      "       [2., 3., 1., 3., 3., 3., 1., 3.],\n",
      "       [3., 3., 1., 3., 3., 1., 3., 3.],\n",
      "       [3., 3., 1., 1., 1., 2., 1., 3.],\n",
      "       [1., 3., 1., 1., 3., 1., 1., 3.],\n",
      "       [3., 3., 1., 3., 1., 3., 3., 3.],\n",
      "       [2., 1., 2., 1., 1., 1., 1., 1.],\n",
      "       [1., 3., 1., 3., 1., 3., 3., 3.],\n",
      "       [1., 1., 1., 3., 1., 1., 1., 1.],\n",
      "       [1., 3., 1., 3., 2., 3., 3., 3.],\n",
      "       [1., 1., 1., 1., 2., 2., 1., 2.],\n",
      "       [2., 3., 1., 3., 3., 2., 1., 3.],\n",
      "       [3., 3., 1., 3., 3., 2., 3., 3.],\n",
      "       [1., 3., 3., 2., 1., 1., 1., 1.],\n",
      "       [2., 1., 1., 1., 1., 1., 1., 1.],\n",
      "       [1., 1., 3., 2., 1., 1., 1., 3.],\n",
      "       [3., 3., 2., 3., 2., 3., 1., 3.],\n",
      "       [2., 2., 2., 2., 2., 2., 2., 2.],\n",
      "       [3., 3., 1., 3., 3., 3., 3., 3.],\n",
      "       [3., 3., 1., 1., 2., 1., 1., 1.],\n",
      "       [2., 3., 1., 3., 3., 1., 1., 3.],\n",
      "       [1., 3., 1., 3., 1., 1., 1., 3.],\n",
      "       [2., 3., 1., 1., 2., 1., 1., 3.],\n",
      "       [3., 3., 2., 3., 3., 3., 3., 3.],\n",
      "       [3., 3., 2., 3., 2., 1., 1., 3.],\n",
      "       [2., 3., 2., 1., 3., 2., 1., 3.],\n",
      "       [1., 3., 2., 3., 1., 1., 1., 3.],\n",
      "       [3., 3., 3., 3., 1., 1., 1., 3.],\n",
      "       [2., 2., 1., 3., 1., 3., 2., 3.]]), 3: array([[3., 3., 1., 3., 1., 2., 3., 3.],\n",
      "       [1., 1., 1., 1., 1., 1., 1., 1.],\n",
      "       [1., 1., 1., 2., 3., 2., 1., 1.],\n",
      "       [3., 3., 3., 3., 3., 3., 1., 3.],\n",
      "       [3., 3., 1., 3., 2., 1., 3., 3.],\n",
      "       [3., 1., 1., 3., 1., 2., 3., 1.],\n",
      "       [2., 3., 1., 3., 2., 1., 1., 3.],\n",
      "       [2., 3., 1., 3., 1., 3., 3., 3.],\n",
      "       [1., 1., 1., 1., 1., 1., 1., 3.],\n",
      "       [1., 1., 1., 1., 1., 1., 1., 1.],\n",
      "       [3., 3., 2., 3., 1., 1., 2., 2.],\n",
      "       [1., 3., 1., 1., 1., 1., 1., 3.],\n",
      "       [2., 1., 3., 1., 1., 1., 1., 1.],\n",
      "       [1., 1., 1., 3., 3., 1., 1., 1.],\n",
      "       [3., 3., 3., 2., 3., 1., 1., 1.],\n",
      "       [3., 3., 1., 3., 3., 3., 3., 3.],\n",
      "       [2., 3., 1., 3., 3., 2., 1., 3.],\n",
      "       [3., 3., 1., 3., 3., 3., 3., 3.],\n",
      "       [1., 1., 1., 2., 3., 1., 1., 2.],\n",
      "       [3., 3., 1., 3., 2., 3., 3., 3.],\n",
      "       [2., 1., 1., 3., 1., 3., 1., 3.],\n",
      "       [1., 1., 1., 1., 1., 1., 1., 3.],\n",
      "       [3., 3., 2., 3., 3., 3., 2., 3.],\n",
      "       [1., 1., 1., 2., 1., 1., 1., 2.],\n",
      "       [3., 3., 1., 3., 2., 3., 3., 3.],\n",
      "       [2., 3., 1., 2., 3., 2., 1., 2.],\n",
      "       [2., 3., 1., 3., 2., 3., 1., 3.],\n",
      "       [2., 1., 2., 2., 2., 1., 1., 2.],\n",
      "       [1., 3., 1., 3., 2., 2., 1., 3.],\n",
      "       [2., 3., 1., 3., 3., 3., 3., 3.],\n",
      "       [2., 3., 2., 3., 3., 3., 3., 3.],\n",
      "       [3., 2., 2., 2., 3., 2., 2., 3.],\n",
      "       [1., 3., 1., 3., 3., 2., 1., 3.],\n",
      "       [2., 1., 2., 1., 3., 2., 1., 1.],\n",
      "       [3., 2., 3., 3., 1., 1., 1., 2.],\n",
      "       [1., 3., 3., 2., 1., 1., 1., 3.],\n",
      "       [1., 1., 1., 1., 1., 1., 1., 2.],\n",
      "       [1., 3., 1., 3., 3., 1., 1., 1.],\n",
      "       [3., 3., 3., 3., 3., 1., 3., 3.],\n",
      "       [3., 3., 3., 3., 1., 1., 3., 3.],\n",
      "       [1., 1., 2., 1., 1., 1., 1., 2.],\n",
      "       [3., 3., 3., 1., 1., 1., 1., 1.],\n",
      "       [3., 2., 2., 3., 2., 3., 2., 3.],\n",
      "       [1., 1., 1., 3., 1., 3., 2., 1.],\n",
      "       [3., 3., 1., 3., 1., 3., 1., 3.],\n",
      "       [1., 1., 1., 1., 1., 2., 1., 1.],\n",
      "       [1., 3., 1., 3., 1., 2., 3., 3.],\n",
      "       [2., 2., 2., 2., 2., 2., 2., 2.],\n",
      "       [3., 1., 1., 1., 1., 1., 1., 1.],\n",
      "       [3., 3., 1., 3., 3., 3., 3., 3.],\n",
      "       [3., 3., 1., 1., 3., 1., 3., 3.],\n",
      "       [1., 3., 1., 3., 1., 2., 1., 3.],\n",
      "       [3., 3., 1., 3., 1., 3., 3., 3.],\n",
      "       [3., 1., 3., 1., 1., 1., 1., 1.],\n",
      "       [2., 1., 1., 2., 2., 1., 1., 1.],\n",
      "       [1., 1., 3., 1., 1., 1., 1., 1.],\n",
      "       [3., 3., 1., 3., 3., 2., 1., 3.],\n",
      "       [2., 1., 1., 2., 2., 1., 1., 2.],\n",
      "       [2., 1., 1., 1., 1., 2., 1., 1.],\n",
      "       [3., 3., 1., 2., 1., 1., 1., 1.],\n",
      "       [3., 3., 1., 3., 2., 3., 3., 3.],\n",
      "       [3., 1., 1., 1., 1., 1., 1., 1.],\n",
      "       [2., 3., 1., 3., 2., 1., 1., 3.],\n",
      "       [1., 3., 1., 3., 3., 2., 1., 3.],\n",
      "       [2., 3., 2., 2., 3., 1., 1., 2.],\n",
      "       [3., 3., 2., 3., 3., 2., 1., 3.],\n",
      "       [1., 1., 1., 3., 1., 2., 3., 3.],\n",
      "       [2., 1., 2., 1., 1., 1., 1., 1.]]), 4: array([[2., 1., 1., 1., 1., 1., 1., 1.],\n",
      "       [1., 1., 1., 1., 1., 1., 1., 1.],\n",
      "       [1., 3., 1., 3., 3., 1., 1., 3.],\n",
      "       [3., 1., 3., 1., 1., 1., 3., 1.],\n",
      "       [3., 1., 1., 3., 1., 3., 1., 3.],\n",
      "       [2., 3., 1., 3., 2., 3., 3., 3.],\n",
      "       [2., 3., 1., 2., 2., 1., 1., 1.],\n",
      "       [3., 3., 1., 3., 3., 3., 1., 3.],\n",
      "       [3., 2., 1., 3., 2., 2., 1., 3.],\n",
      "       [3., 3., 2., 3., 2., 1., 1., 3.],\n",
      "       [1., 1., 1., 3., 3., 1., 1., 1.],\n",
      "       [3., 1., 1., 1., 1., 1., 1., 1.],\n",
      "       [1., 1., 1., 2., 1., 1., 1., 1.],\n",
      "       [3., 3., 2., 3., 3., 3., 3., 3.],\n",
      "       [1., 1., 1., 1., 2., 1., 1., 3.],\n",
      "       [1., 1., 1., 2., 1., 1., 1., 1.],\n",
      "       [1., 1., 1., 1., 1., 1., 1., 1.],\n",
      "       [3., 3., 3., 3., 2., 3., 1., 1.],\n",
      "       [3., 1., 1., 3., 3., 3., 3., 3.],\n",
      "       [3., 1., 3., 1., 1., 1., 1., 1.],\n",
      "       [1., 1., 2., 1., 1., 1., 1., 2.],\n",
      "       [2., 3., 1., 3., 1., 3., 3., 3.],\n",
      "       [3., 2., 1., 3., 1., 3., 1., 3.],\n",
      "       [3., 3., 1., 3., 3., 3., 3., 3.],\n",
      "       [1., 1., 1., 2., 3., 1., 1., 1.],\n",
      "       [3., 3., 1., 3., 3., 2., 3., 3.],\n",
      "       [2., 3., 3., 3., 1., 3., 3., 1.],\n",
      "       [2., 1., 2., 1., 1., 1., 1., 1.],\n",
      "       [1., 1., 2., 2., 2., 2., 1., 2.],\n",
      "       [2., 1., 2., 2., 2., 2., 1., 2.],\n",
      "       [1., 3., 1., 1., 2., 2., 1., 3.],\n",
      "       [1., 3., 3., 1., 1., 1., 1., 1.],\n",
      "       [3., 3., 2., 3., 3., 2., 3., 3.],\n",
      "       [3., 3., 2., 3., 3., 3., 2., 3.],\n",
      "       [1., 1., 1., 2., 1., 1., 1., 2.],\n",
      "       [1., 3., 1., 3., 2., 3., 1., 3.],\n",
      "       [1., 1., 2., 3., 2., 1., 1., 3.],\n",
      "       [3., 3., 1., 3., 1., 3., 1., 3.],\n",
      "       [3., 3., 3., 3., 3., 1., 3., 3.],\n",
      "       [1., 1., 2., 3., 1., 1., 1., 1.],\n",
      "       [1., 1., 2., 1., 2., 2., 1., 1.],\n",
      "       [2., 3., 1., 3., 3., 3., 2., 3.],\n",
      "       [3., 3., 2., 2., 1., 1., 3., 3.],\n",
      "       [2., 3., 2., 3., 3., 3., 3., 3.],\n",
      "       [3., 3., 3., 3., 3., 1., 3., 3.],\n",
      "       [1., 3., 1., 3., 3., 1., 1., 1.],\n",
      "       [1., 1., 3., 1., 1., 1., 1., 1.],\n",
      "       [3., 3., 2., 3., 3., 3., 1., 3.],\n",
      "       [3., 3., 2., 3., 2., 1., 1., 3.],\n",
      "       [2., 1., 3., 1., 1., 1., 1., 1.],\n",
      "       [3., 2., 2., 3., 2., 3., 2., 3.],\n",
      "       [1., 3., 1., 1., 3., 1., 2., 3.],\n",
      "       [2., 3., 1., 3., 2., 2., 3., 3.],\n",
      "       [2., 2., 1., 2., 3., 3., 2., 3.],\n",
      "       [3., 3., 1., 3., 1., 1., 3., 3.],\n",
      "       [1., 1., 1., 1., 3., 1., 1., 2.],\n",
      "       [3., 3., 1., 3., 1., 1., 1., 3.],\n",
      "       [3., 3., 1., 3., 3., 1., 3., 3.],\n",
      "       [1., 1., 2., 1., 1., 1., 1., 1.],\n",
      "       [1., 1., 1., 3., 1., 1., 1., 2.],\n",
      "       [3., 3., 1., 3., 2., 3., 3., 3.],\n",
      "       [1., 1., 1., 1., 2., 2., 1., 1.],\n",
      "       [2., 1., 1., 3., 2., 1., 1., 1.],\n",
      "       [3., 3., 2., 3., 3., 3., 2., 3.],\n",
      "       [3., 3., 3., 3., 1., 1., 1., 3.],\n",
      "       [1., 3., 2., 3., 1., 1., 1., 3.],\n",
      "       [3., 3., 1., 3., 1., 3., 3., 3.],\n",
      "       [3., 3., 3., 3., 3., 2., 3., 2.],\n",
      "       [1., 3., 1., 3., 1., 3., 3., 3.],\n",
      "       [2., 1., 2., 1., 3., 1., 1., 2.],\n",
      "       [1., 3., 1., 3., 1., 2., 1., 1.],\n",
      "       [2., 3., 1., 2., 1., 2., 1., 1.],\n",
      "       [1., 1., 1., 3., 2., 3., 2., 2.],\n",
      "       [3., 3., 3., 3., 3., 1., 3., 3.],\n",
      "       [2., 3., 1., 2., 1., 3., 1., 3.],\n",
      "       [2., 3., 2., 3., 3., 3., 3., 3.],\n",
      "       [3., 2., 2., 3., 3., 3., 3., 3.],\n",
      "       [3., 3., 3., 3., 3., 3., 3., 3.],\n",
      "       [2., 2., 2., 2., 2., 2., 2., 2.],\n",
      "       [2., 3., 1., 2., 3., 3., 1., 3.],\n",
      "       [3., 3., 1., 3., 3., 3., 3., 3.],\n",
      "       [2., 1., 1., 2., 2., 1., 1., 1.],\n",
      "       [1., 3., 3., 3., 1., 1., 1., 3.],\n",
      "       [3., 3., 3., 3., 3., 1., 3., 3.],\n",
      "       [3., 3., 2., 3., 3., 1., 1., 3.],\n",
      "       [3., 3., 2., 3., 3., 2., 3., 3.],\n",
      "       [2., 3., 1., 3., 1., 3., 2., 3.],\n",
      "       [3., 3., 2., 3., 1., 1., 1., 3.],\n",
      "       [2., 1., 1., 2., 1., 2., 1., 1.]]), 5: array([[2., 2., 1., 2., 1., 2., 3., 3.],\n",
      "       [2., 3., 2., 3., 3., 3., 3., 3.],\n",
      "       [2., 3., 2., 2., 2., 1., 1., 3.],\n",
      "       [2., 2., 1., 3., 2., 2., 1., 3.],\n",
      "       [1., 1., 1., 3., 3., 1., 1., 1.],\n",
      "       [2., 1., 3., 1., 1., 1., 1., 1.],\n",
      "       [3., 3., 3., 1., 1., 1., 1., 1.],\n",
      "       [2., 3., 1., 3., 3., 1., 1., 3.],\n",
      "       [3., 3., 3., 3., 3., 3., 3., 3.],\n",
      "       [1., 1., 1., 2., 1., 1., 1., 2.],\n",
      "       [3., 3., 1., 2., 3., 1., 3., 3.],\n",
      "       [2., 3., 2., 3., 3., 3., 3., 3.],\n",
      "       [3., 1., 3., 3., 2., 3., 1., 1.],\n",
      "       [1., 3., 1., 3., 3., 3., 3., 3.],\n",
      "       [1., 1., 1., 1., 1., 1., 1., 1.],\n",
      "       [1., 1., 1., 1., 1., 1., 1., 1.],\n",
      "       [2., 2., 2., 2., 3., 2., 3., 2.],\n",
      "       [1., 1., 1., 1., 1., 2., 1., 1.],\n",
      "       [2., 3., 1., 3., 2., 3., 3., 3.],\n",
      "       [2., 3., 1., 3., 1., 3., 2., 3.],\n",
      "       [1., 1., 1., 1., 1., 1., 1., 1.],\n",
      "       [3., 3., 1., 3., 3., 2., 1., 3.],\n",
      "       [3., 3., 2., 2., 3., 2., 3., 3.],\n",
      "       [1., 1., 1., 1., 1., 1., 1., 1.],\n",
      "       [3., 3., 1., 3., 2., 2., 2., 3.],\n",
      "       [3., 3., 1., 3., 3., 3., 2., 3.],\n",
      "       [2., 3., 1., 3., 2., 3., 3., 3.],\n",
      "       [2., 3., 1., 3., 1., 3., 1., 3.],\n",
      "       [2., 1., 2., 2., 3., 1., 1., 2.],\n",
      "       [2., 3., 1., 1., 2., 2., 1., 3.],\n",
      "       [3., 3., 2., 3., 3., 1., 1., 3.],\n",
      "       [3., 2., 1., 3., 2., 2., 1., 3.],\n",
      "       [3., 3., 2., 3., 1., 1., 1., 3.],\n",
      "       [1., 1., 2., 2., 1., 1., 1., 1.],\n",
      "       [3., 1., 3., 1., 1., 1., 1., 1.],\n",
      "       [3., 3., 1., 3., 3., 3., 2., 3.],\n",
      "       [3., 3., 1., 3., 3., 2., 3., 3.],\n",
      "       [3., 3., 1., 3., 1., 1., 1., 3.],\n",
      "       [1., 3., 1., 1., 1., 1., 1., 3.],\n",
      "       [2., 3., 3., 3., 3., 2., 3., 3.],\n",
      "       [2., 3., 2., 2., 2., 2., 3., 2.],\n",
      "       [2., 1., 1., 2., 1., 1., 1., 2.],\n",
      "       [2., 3., 2., 3., 2., 3., 2., 2.],\n",
      "       [2., 3., 1., 3., 3., 3., 2., 3.],\n",
      "       [1., 3., 1., 3., 3., 1., 1., 1.],\n",
      "       [3., 3., 3., 3., 1., 1., 1., 3.],\n",
      "       [2., 1., 1., 2., 2., 1., 1., 3.],\n",
      "       [3., 1., 1., 1., 1., 1., 1., 1.],\n",
      "       [2., 1., 1., 2., 1., 2., 1., 1.],\n",
      "       [1., 1., 1., 2., 3., 1., 1., 1.],\n",
      "       [3., 3., 3., 3., 3., 1., 3., 3.],\n",
      "       [3., 3., 3., 1., 3., 3., 3., 3.],\n",
      "       [3., 3., 2., 3., 3., 3., 3., 3.],\n",
      "       [2., 1., 1., 2., 2., 1., 1., 1.],\n",
      "       [2., 2., 2., 2., 2., 1., 1., 2.],\n",
      "       [3., 3., 3., 3., 1., 3., 3., 3.],\n",
      "       [3., 3., 2., 3., 3., 3., 2., 3.],\n",
      "       [2., 2., 2., 2., 2., 2., 2., 2.],\n",
      "       [3., 3., 1., 3., 3., 3., 3., 3.],\n",
      "       [1., 1., 1., 2., 2., 1., 2., 2.],\n",
      "       [1., 1., 1., 2., 1., 1., 1., 2.],\n",
      "       [3., 3., 2., 3., 3., 3., 1., 3.],\n",
      "       [2., 3., 2., 1., 2., 1., 1., 1.],\n",
      "       [3., 1., 1., 3., 2., 3., 1., 2.],\n",
      "       [1., 3., 2., 3., 3., 2., 2., 3.],\n",
      "       [3., 3., 1., 3., 1., 3., 3., 3.],\n",
      "       [1., 3., 2., 3., 1., 1., 1., 3.],\n",
      "       [3., 3., 1., 3., 2., 3., 3., 3.],\n",
      "       [1., 3., 1., 2., 3., 3., 1., 1.],\n",
      "       [1., 1., 2., 1., 1., 1., 1., 1.],\n",
      "       [1., 3., 1., 3., 3., 2., 1., 3.],\n",
      "       [1., 1., 1., 2., 2., 1., 1., 1.],\n",
      "       [2., 3., 2., 3., 3., 2., 3., 3.],\n",
      "       [3., 3., 2., 2., 3., 3., 1., 2.],\n",
      "       [1., 3., 1., 3., 2., 2., 1., 3.],\n",
      "       [3., 3., 3., 3., 3., 1., 3., 3.],\n",
      "       [2., 1., 1., 2., 1., 2., 1., 2.],\n",
      "       [1., 1., 1., 1., 1., 2., 1., 1.],\n",
      "       [3., 3., 2., 3., 3., 1., 1., 3.],\n",
      "       [3., 3., 3., 3., 1., 1., 3., 3.],\n",
      "       [2., 3., 1., 3., 3., 1., 1., 3.],\n",
      "       [1., 3., 1., 3., 1., 1., 1., 1.],\n",
      "       [2., 3., 1., 2., 3., 3., 2., 1.],\n",
      "       [2., 3., 1., 3., 1., 3., 1., 3.],\n",
      "       [3., 3., 1., 2., 3., 2., 3., 3.]]), 6: array([[3., 3., 1., 3., 3., 1., 3., 3.],\n",
      "       [1., 1., 1., 2., 1., 1., 1., 1.],\n",
      "       [3., 3., 3., 3., 3., 3., 1., 3.],\n",
      "       [1., 1., 1., 2., 1., 1., 1., 3.],\n",
      "       [3., 3., 1., 3., 3., 3., 3., 3.],\n",
      "       [3., 3., 2., 3., 3., 2., 2., 3.],\n",
      "       [3., 3., 1., 3., 3., 1., 3., 3.],\n",
      "       [3., 3., 3., 1., 1., 1., 1., 1.],\n",
      "       [3., 1., 1., 1., 1., 1., 1., 1.],\n",
      "       [2., 2., 1., 3., 2., 1., 1., 3.],\n",
      "       [1., 1., 1., 3., 3., 1., 1., 1.],\n",
      "       [2., 3., 2., 3., 2., 3., 3., 3.],\n",
      "       [1., 1., 1., 1., 1., 1., 1., 1.],\n",
      "       [1., 1., 1., 1., 1., 1., 1., 1.],\n",
      "       [2., 3., 1., 3., 3., 2., 1., 3.],\n",
      "       [2., 3., 1., 3., 2., 3., 3., 3.],\n",
      "       [3., 2., 1., 3., 2., 3., 1., 3.],\n",
      "       [2., 1., 1., 2., 1., 2., 1., 2.],\n",
      "       [3., 3., 1., 3., 3., 2., 3., 3.],\n",
      "       [3., 3., 1., 3., 3., 3., 3., 3.],\n",
      "       [1., 1., 1., 1., 1., 1., 1., 1.],\n",
      "       [2., 1., 1., 2., 3., 2., 1., 1.],\n",
      "       [3., 3., 3., 3., 3., 3., 1., 3.],\n",
      "       [3., 3., 1., 3., 3., 3., 3., 3.],\n",
      "       [3., 3., 2., 3., 1., 3., 3., 3.],\n",
      "       [1., 3., 1., 3., 1., 1., 3., 2.],\n",
      "       [3., 3., 1., 3., 3., 3., 3., 3.],\n",
      "       [2., 1., 1., 2., 1., 3., 2., 1.],\n",
      "       [2., 3., 2., 3., 3., 3., 3., 3.],\n",
      "       [2., 3., 1., 3., 2., 1., 1., 3.],\n",
      "       [3., 3., 2., 3., 3., 1., 3., 3.],\n",
      "       [3., 3., 1., 3., 2., 3., 3., 3.],\n",
      "       [3., 3., 2., 3., 3., 3., 2., 3.],\n",
      "       [2., 3., 2., 2., 3., 2., 1., 2.],\n",
      "       [1., 1., 1., 1., 1., 2., 1., 1.],\n",
      "       [3., 3., 3., 3., 3., 1., 3., 3.],\n",
      "       [1., 3., 1., 3., 3., 1., 1., 3.],\n",
      "       [1., 1., 1., 1., 1., 2., 1., 1.],\n",
      "       [1., 3., 3., 3., 3., 2., 2., 3.],\n",
      "       [3., 3., 2., 2., 2., 1., 1., 2.],\n",
      "       [1., 1., 3., 1., 1., 1., 1., 1.],\n",
      "       [1., 3., 1., 3., 2., 1., 1., 1.],\n",
      "       [2., 1., 2., 2., 3., 2., 1., 2.],\n",
      "       [3., 3., 2., 3., 3., 3., 2., 3.],\n",
      "       [2., 3., 3., 3., 3., 2., 3., 3.],\n",
      "       [2., 3., 1., 3., 3., 3., 3., 3.],\n",
      "       [3., 1., 3., 1., 1., 1., 1., 1.],\n",
      "       [3., 2., 2., 3., 3., 2., 2., 3.],\n",
      "       [1., 2., 1., 2., 2., 1., 1., 3.],\n",
      "       [3., 3., 1., 3., 3., 3., 3., 3.],\n",
      "       [3., 3., 1., 3., 3., 2., 2., 3.],\n",
      "       [2., 3., 2., 2., 3., 3., 1., 3.],\n",
      "       [3., 3., 1., 3., 3., 3., 3., 3.],\n",
      "       [2., 2., 1., 2., 1., 2., 1., 1.],\n",
      "       [1., 3., 1., 3., 2., 1., 1., 1.],\n",
      "       [1., 3., 3., 3., 3., 3., 1., 3.],\n",
      "       [3., 3., 1., 3., 1., 1., 1., 3.],\n",
      "       [1., 1., 1., 1., 1., 1., 1., 1.],\n",
      "       [2., 3., 2., 3., 2., 2., 2., 3.],\n",
      "       [2., 2., 2., 2., 2., 1., 1., 2.],\n",
      "       [3., 3., 3., 3., 1., 3., 3., 3.],\n",
      "       [3., 3., 3., 3., 3., 3., 3., 3.],\n",
      "       [1., 3., 2., 1., 3., 1., 1., 3.]])}\n"
     ]
    }
   ],
   "source": [
    "\n",
    "ord_list_of_attributes = list_of_attributes - {'ethnicity_1', 'gender_1', 'hometown_1', 'age_1'}\n",
    "print(ord_list_of_attributes)\n",
    "\n",
    "#creating table of attribute values\n",
    "ord_attributes = dict((i, 0) for i in range(1,7))\n",
    "for i in range(1,7):\n",
    "    ord_attributes[i] = np.zeros([len(data[i].nodes), len(ord_list_of_attributes)])\n",
    "\n",
    "for sem in range(1,7):\n",
    "    for i, node in enumerate(data[sem].nodes()):\n",
    "        for j, attribute in enumerate(ord_list_of_attributes):\n",
    "            ord_attributes[sem][i,j] = data[sem].nodes[node][attribute]\n",
    "print(ord_attributes)"
   ]
  },
  {
   "cell_type": "code",
   "execution_count": 122,
   "id": "greater-greenhouse",
   "metadata": {},
   "outputs": [
    {
     "name": "stdout",
     "output_type": "stream",
     "text": [
      "[0.47  0.119 0.102 0.09  0.071 0.064 0.052 0.031]\n",
      "[17.116  8.624  7.989  7.469  6.658  6.332  5.67   4.396]\n"
     ]
    }
   ],
   "source": [
    "from sklearn.decomposition import PCA\n",
    "\n",
    "pca = PCA(n_components = 8)\n",
    "pca.fit(ord_attributes[1])\n",
    "print(pca.explained_variance_ratio_)\n",
    "print(pca.singular_values_)"
   ]
  },
  {
   "cell_type": "code",
   "execution_count": 123,
   "id": "antique-therapy",
   "metadata": {},
   "outputs": [
    {
     "data": {
      "text/plain": [
       "8"
      ]
     },
     "execution_count": 123,
     "metadata": {},
     "output_type": "execute_result"
    }
   ],
   "source": [
    "pca.n_features_in_"
   ]
  },
  {
   "cell_type": "code",
   "execution_count": 132,
   "id": "better-applicant",
   "metadata": {},
   "outputs": [
    {
     "data": {
      "text/plain": [
       "array([[-0.25 , -0.418, -0.13 , -0.399, -0.271, -0.324, -0.417, -0.484],\n",
       "       [ 0.468,  0.237,  0.653, -0.21 , -0.221, -0.437,  0.07 , -0.092],\n",
       "       [ 0.425, -0.057, -0.074, -0.305,  0.779,  0.104, -0.136, -0.285],\n",
       "       [ 0.578, -0.081, -0.528,  0.35 , -0.162, -0.376, -0.245,  0.177],\n",
       "       [ 0.298, -0.585, -0.083, -0.131, -0.209,  0.179,  0.677, -0.106],\n",
       "       [ 0.237,  0.499, -0.318, -0.405, -0.416,  0.476, -0.07 , -0.16 ],\n",
       "       [-0.222,  0.256, -0.375, -0.464,  0.162, -0.51 ,  0.411,  0.273],\n",
       "       [-0.097,  0.321, -0.154,  0.429,  0.046, -0.183,  0.333, -0.73 ]])"
      ]
     },
     "execution_count": 132,
     "metadata": {},
     "output_type": "execute_result"
    }
   ],
   "source": [
    "pca.components_"
   ]
  },
  {
   "cell_type": "code",
   "execution_count": null,
   "id": "registered-guidance",
   "metadata": {},
   "outputs": [],
   "source": []
  },
  {
   "cell_type": "code",
   "execution_count": 38,
   "id": "casual-wagner",
   "metadata": {},
   "outputs": [
    {
     "data": {
      "text/plain": [
       "{'abortion_',\n",
       " 'deathpen_',\n",
       " 'euthanasia_',\n",
       " 'gaymarriage_',\n",
       " 'homosexual_',\n",
       " 'marijuana_',\n",
       " 'political_',\n",
       " 'premaritalsex_'}"
      ]
     },
     "execution_count": 38,
     "metadata": {},
     "output_type": "execute_result"
    }
   ],
   "source": [
    "ord_list_of_attributes"
   ]
  },
  {
   "cell_type": "code",
   "execution_count": 47,
   "id": "mobile-duplicate",
   "metadata": {},
   "outputs": [
    {
     "data": {
      "text/plain": [
       "(array([2.575, 2.453, 2.315, 2.694, 2.265, 2.589, 2.359, 2.308]),\n",
       " array([ 1.438,  0.172, -1.008, -1.136, -0.292, -1.071,  0.623, -1.406]),\n",
       " array([-0.25 , -0.418, -0.13 , -0.399, -0.271, -0.324, -0.417, -0.484]),\n",
       " -2.6926374562917417)"
      ]
     },
     "execution_count": 47,
     "metadata": {},
     "output_type": "execute_result"
    }
   ],
   "source": [
    "np.sum(np.abs(pca.components_),0), np.sum(pca.components_,0), pca.components_[0], np.sum(pca.components_[0],0)"
   ]
  },
  {
   "cell_type": "markdown",
   "id": "hazardous-halifax",
   "metadata": {},
   "source": [
    "# Checking correlation for PCA transformed variables"
   ]
  },
  {
   "cell_type": "code",
   "execution_count": 17,
   "id": "black-tooth",
   "metadata": {},
   "outputs": [],
   "source": [
    "dcor_attributes = dict((i, 0) for i in range(1,7))\n",
    "\n",
    "dcor_attributes = dict((j, np.array([np.sum(pca.components_*ord_attributes[j][i],1) for i in range(0,len(ord_attributes[j]))])) for j in range(1,7))"
   ]
  },
  {
   "cell_type": "code",
   "execution_count": 144,
   "id": "bacterial-cargo",
   "metadata": {},
   "outputs": [],
   "source": [
    "pca.transform(ord_attributes[1]), dcor_attributes[1];"
   ]
  },
  {
   "cell_type": "code",
   "execution_count": 134,
   "id": "aerial-grant",
   "metadata": {},
   "outputs": [
    {
     "data": {
      "text/plain": [
       "array([[-1.830e+00,  1.540e+00, -4.086e-01,  1.195e-01,  1.747e-01,\n",
       "        -9.213e-01,  3.112e-01,  2.306e-01],\n",
       "       [ 3.960e-01,  4.017e-01,  1.110e+00, -6.443e-01,  2.546e-02,\n",
       "        -7.154e-01,  1.059e+00, -2.559e-01],\n",
       "       [-1.780e+00,  6.278e-01,  1.149e+00, -1.149e+00,  5.346e-01,\n",
       "        -6.436e-02, -1.093e+00,  1.370e+00],\n",
       "       [-1.720e+00, -1.578e+00, -9.023e-01, -7.327e-01,  1.012e-01,\n",
       "         1.934e-01,  4.856e-01,  3.667e-01],\n",
       "       [-8.552e-01, -5.599e-02, -1.554e+00, -1.073e+00,  1.795e-01,\n",
       "         2.194e-01,  9.226e-01, -7.939e-02],\n",
       "       [ 1.813e+00,  6.739e-03,  6.338e-01,  5.571e-01,  1.018e+00,\n",
       "         8.779e-01, -5.606e-01, -3.979e-01],\n",
       "       [ 1.623e+00, -1.416e-01, -9.842e-01, -2.237e-01, -7.743e-02,\n",
       "        -9.551e-01, -1.736e-01, -4.753e-01],\n",
       "       [ 5.748e-01, -3.908e-01,  1.251e+00, -7.669e-01,  7.640e-01,\n",
       "        -9.828e-01, -4.439e-01,  3.990e-01],\n",
       "       [-1.895e+00, -2.039e-01, -1.568e-01,  7.991e-01,  5.192e-01,\n",
       "         1.912e-01,  5.517e-01,  3.558e-01],\n",
       "       [-1.156e+00, -1.940e+00,  1.494e-01, -4.054e-01, -1.461e+00,\n",
       "        -8.282e-02, -1.735e-01, -2.542e-01],\n",
       "       [ 1.542e+00, -2.145e-01,  1.413e+00,  3.953e-01,  8.085e-01,\n",
       "         4.623e-01, -3.987e-01, -3.522e-01],\n",
       "       [ 2.237e+00, -7.032e-01, -6.248e-01,  1.266e-01,  1.109e-01,\n",
       "        -4.768e-01, -7.206e-02,  4.086e-01],\n",
       "       [-7.570e-01, -5.971e-01,  3.665e-01,  9.242e-01, -1.521e+00,\n",
       "        -7.981e-01,  6.238e-01,  1.508e-02],\n",
       "       [ 1.610e+00, -1.027e+00,  9.532e-01, -3.694e-01, -2.820e-01,\n",
       "        -1.063e+00,  9.897e-01, -6.591e-01],\n",
       "       [-1.914e+00,  3.037e-01,  8.507e-01, -3.047e-01, -1.030e+00,\n",
       "        -2.453e-01, -1.367e+00, -7.566e-01],\n",
       "       [ 9.641e-01,  3.678e-01,  9.661e-01,  8.677e-01, -6.088e-02,\n",
       "         3.250e-01,  6.400e-01, -5.777e-01],\n",
       "       [ 1.151e+00,  8.813e-01,  6.953e-01, -4.960e-01, -9.215e-01,\n",
       "         4.290e-01,  4.689e-01,  4.160e-01],\n",
       "       [ 1.336e+00,  1.308e+00,  1.940e+00, -4.460e-01,  2.550e-01,\n",
       "        -1.066e+00, -4.772e-01, -4.317e-01],\n",
       "       [-2.202e+00, -4.459e-01,  7.094e-01, -1.854e-01,  9.912e-01,\n",
       "        -5.655e-01, -4.266e-01, -2.569e-01],\n",
       "       [-3.815e-02,  5.481e-02,  1.362e+00,  1.147e+00, -1.011e+00,\n",
       "        -2.408e-01, -1.448e-01,  1.378e+00],\n",
       "       [-2.101e+00,  1.319e+00,  3.703e-01, -4.224e-02, -3.437e-02,\n",
       "        -1.337e+00,  4.731e-01,  2.763e-01],\n",
       "       [-2.490e+00, -8.623e-01,  7.259e-01,  2.615e-01,  4.890e-01,\n",
       "         2.517e-01,  2.041e-01,  2.184e-01],\n",
       "       [-1.007e+00, -1.287e-01,  7.911e-01,  1.502e+00, -1.222e+00,\n",
       "        -5.611e-01,  4.021e-01, -8.195e-02],\n",
       "       [-2.490e+00, -8.623e-01,  7.259e-01,  2.615e-01,  4.890e-01,\n",
       "         2.517e-01,  2.041e-01,  2.184e-01],\n",
       "       [-1.758e+00,  3.427e-01,  1.859e-01, -7.515e-01, -8.306e-01,\n",
       "        -1.028e+00, -2.252e-01, -1.431e-01],\n",
       "       [ 2.365e+00, -7.143e-01,  4.597e-01, -3.850e-01,  3.264e-02,\n",
       "        -4.877e-01,  5.543e-01,  2.498e-02],\n",
       "       [ 1.414e+00, -2.034e-01,  3.283e-01,  9.068e-01,  8.868e-01,\n",
       "         4.732e-01, -1.025e+00,  3.143e-02],\n",
       "       [ 2.236e+00, -6.095e-02,  3.856e-01, -9.126e-01, -5.012e-02,\n",
       "        -8.059e-01,  1.793e-01, -1.292e-01],\n",
       "       [ 1.291e+00, -2.308e-02, -1.062e+00, -1.320e-01, -6.877e-01,\n",
       "        -7.006e-01, -6.559e-01,  1.005e+00],\n",
       "       [ 2.041e+00, -1.151e+00,  5.634e-01, -7.607e-01,  2.116e-01,\n",
       "        -1.160e-02,  4.480e-02, -1.582e-01],\n",
       "       [ 1.988e+00, -1.367e+00, -1.117e-01, -9.747e-01,  5.996e-01,\n",
       "         8.801e-01, -6.267e-01, -3.870e-01],\n",
       "       [-2.490e+00, -8.623e-01,  7.259e-01,  2.615e-01,  4.890e-01,\n",
       "         2.517e-01,  2.041e-01,  2.184e-01],\n",
       "       [-1.429e+00,  1.108e+00, -1.114e+00,  8.090e-01,  4.666e-01,\n",
       "        -1.875e-01,  5.242e-01,  3.391e-01],\n",
       "       [-1.785e+00, -3.496e-01,  9.247e-01,  2.230e-01, -9.471e-01,\n",
       "         7.287e-02, -9.920e-01, -6.025e-01],\n",
       "       [ 4.625e-02, -5.971e-01, -5.480e-01,  1.611e+00,  5.448e-01,\n",
       "        -2.518e-01, -9.426e-01, -9.988e-01],\n",
       "       [ 2.636e+00, -4.930e-01, -3.193e-01, -2.232e-01,  2.417e-01,\n",
       "        -7.209e-02,  3.924e-01, -2.073e-02],\n",
       "       [-4.645e-01, -1.926e-02, -9.246e-01,  1.498e+00,  1.719e+00,\n",
       "        -8.672e-01,  3.880e-01, -1.490e-01],\n",
       "       [-1.767e+00, -2.150e-01,  9.276e-01,  2.875e-01,  4.410e-01,\n",
       "         1.803e-01,  1.178e+00, -2.785e-02],\n",
       "       [-2.425e+00,  8.815e-01,  4.741e-01, -4.180e-01,  1.446e-01,\n",
       "        -8.608e-01, -3.641e-02,  9.316e-02],\n",
       "       [ 2.377e+00,  8.137e-01, -4.673e-01, -1.278e+00,  7.622e-02,\n",
       "        -7.084e-01, -3.576e-01, -3.291e-01],\n",
       "       [ 2.137e+00,  4.439e-01,  5.300e-01,  9.328e-01,  8.387e-01,\n",
       "         4.018e-01, -5.106e-02, -2.148e-01],\n",
       "       [ 8.281e-01, -1.981e-01, -2.113e-01,  1.674e-01, -5.816e-01,\n",
       "         1.234e+00, -2.920e-01,  7.707e-01],\n",
       "       [-1.031e+00, -1.594e+00, -1.624e+00, -4.902e-01,  8.952e-01,\n",
       "         1.101e-01,  6.801e-02, -1.132e-04],\n",
       "       [ 2.636e+00, -4.930e-01, -3.193e-01, -2.232e-01,  2.417e-01,\n",
       "        -7.209e-02,  3.924e-01, -2.073e-02],\n",
       "       [ 2.128e+00,  1.282e+00, -4.267e-02, -7.005e-01,  3.747e-01,\n",
       "        -4.715e-01, -5.793e-01, -4.261e-01],\n",
       "       [-2.619e+00, -2.090e-01,  6.519e-01, -2.661e-01,  4.063e-01,\n",
       "        -6.649e-02, -1.709e-01,  6.418e-02],\n",
       "       [ 1.302e+00,  9.177e-01,  4.150e-01,  7.714e-01, -3.312e-01,\n",
       "         1.400e+00,  4.602e-01,  4.275e-01],\n",
       "       [-4.650e-01,  3.139e-01, -7.667e-01,  1.826e+00, -8.040e-01,\n",
       "         2.701e-01,  7.820e-02, -1.734e-01],\n",
       "       [-2.078e+00,  2.336e-01, -9.059e-01,  5.744e-02,  8.245e-01,\n",
       "         7.647e-01, -4.948e-01, -2.723e-02],\n",
       "       [ 2.636e+00, -4.930e-01, -3.193e-01, -2.232e-01,  2.417e-01,\n",
       "        -7.209e-02,  3.924e-01, -2.073e-02],\n",
       "       [-8.824e-01,  3.842e-01, -9.031e-01,  1.581e+00, -1.273e-01,\n",
       "         2.004e-01,  4.887e-01,  1.599e-01],\n",
       "       [-2.370e+00, -6.774e-01,  2.273e-01, -8.441e-01,  1.078e-01,\n",
       "        -3.034e-01,  5.079e-02,  1.612e-01],\n",
       "       [-1.559e+00,  1.761e+00, -1.188e+00,  2.813e-01,  3.838e-01,\n",
       "        -5.057e-01,  1.492e-01,  1.849e-01],\n",
       "       [ 1.838e+00, -9.133e-01, -9.302e-01,  4.764e-01, -2.002e-02,\n",
       "        -8.814e-01, -5.365e-01,  8.380e-01],\n",
       "       [-1.828e+00, -2.349e-01, -1.331e+00, -5.206e-01,  5.260e-01,\n",
       "         5.278e-01, -2.731e-01,  6.980e-02],\n",
       "       [-1.708e+00, -4.997e-02, -1.829e+00, -1.626e+00,  1.448e-01,\n",
       "        -2.733e-02, -4.263e-01,  1.264e-02],\n",
       "       [ 2.387e+00, -2.455e-02,  1.054e-01,  3.548e-01,  5.402e-01,\n",
       "         1.649e-01,  1.707e-01, -1.178e-01],\n",
       "       [ 2.387e+00, -2.455e-02,  1.054e-01,  3.548e-01,  5.402e-01,\n",
       "         1.649e-01,  1.707e-01, -1.178e-01],\n",
       "       [-2.078e+00,  2.336e-01, -9.059e-01,  5.744e-02,  8.245e-01,\n",
       "         7.647e-01, -4.948e-01, -2.723e-02],\n",
       "       [-2.349e+00,  1.230e-02, -1.270e-01, -1.043e-01,  6.154e-01,\n",
       "         3.491e-01, -3.329e-01,  1.847e-02],\n",
       "       [ 1.116e-01, -3.992e-01,  2.181e+00, -3.037e-01, -3.915e-01,\n",
       "         1.521e+00, -2.350e-01,  1.526e-01],\n",
       "       [ 2.237e+00, -7.032e-01, -6.248e-01,  1.266e-01,  1.109e-01,\n",
       "        -4.768e-01, -7.206e-02,  4.086e-01],\n",
       "       [-1.033e+00, -5.917e-01,  7.884e-01, -4.679e-01,  2.480e-01,\n",
       "         1.035e-01,  1.126e+00,  7.990e-01],\n",
       "       [-6.139e-01, -1.497e+00, -1.408e+00, -8.181e-02, -1.043e+00,\n",
       "         7.484e-01, -4.974e-01, -3.456e-01],\n",
       "       [ 1.153e+00, -8.935e-01, -2.267e-01, -1.136e+00, -5.702e-01,\n",
       "         1.878e+00, -1.154e-01,  2.552e-01],\n",
       "       [-1.405e+00, -1.471e+00,  5.741e-01,  1.726e-01, -1.163e+00,\n",
       "         1.541e-01, -3.953e-01, -3.512e-01],\n",
       "       [-1.060e+00, -3.445e-01,  1.160e-01,  1.288e+00, -8.342e-01,\n",
       "         3.306e-01, -2.694e-01, -3.108e-01],\n",
       "       [-2.153e-01, -1.546e-01, -1.191e+00,  1.248e+00, -1.102e+00,\n",
       "         3.314e-02,  2.999e-01, -7.634e-02],\n",
       "       [ 7.730e-01,  1.361e+00,  3.555e-02,  5.935e-01, -5.448e-01,\n",
       "         6.769e-01, -3.792e-01,  7.026e-01],\n",
       "       [-4.740e-01,  2.126e-01,  7.184e-02, -5.892e-01, -3.023e-01,\n",
       "         2.706e-01,  1.789e-01,  2.658e-01],\n",
       "       [ 1.542e+00,  1.287e+00, -5.823e-01, -1.440e+00, -1.094e+00,\n",
       "         2.895e-01,  1.537e-01,  3.131e-01],\n",
       "       [-2.490e+00, -8.623e-01,  7.259e-01,  2.615e-01,  4.890e-01,\n",
       "         2.517e-01,  2.041e-01,  2.184e-01],\n",
       "       [ 2.116e+00, -2.458e-01,  8.843e-01,  1.930e-01,  3.311e-01,\n",
       "        -2.508e-01,  3.326e-01, -7.205e-02],\n",
       "       [-7.541e-02,  1.362e+00, -1.034e+00, -1.573e-01, -1.137e+00,\n",
       "        -1.986e-01,  1.439e-02, -8.141e-01],\n",
       "       [-1.160e+00,  1.971e+00, -8.821e-01, -6.844e-02,  5.147e-01,\n",
       "        -1.010e-01,  6.137e-01, -2.445e-01],\n",
       "       [ 1.172e+00,  1.571e+00,  3.410e-01,  2.438e-01, -4.139e-01,\n",
       "         1.082e+00,  8.522e-02,  2.733e-01],\n",
       "       [ 8.324e-01, -2.027e-01, -1.005e+00, -2.982e-02, -1.139e+00,\n",
       "         6.055e-01,  1.451e+00, -8.381e-01],\n",
       "       [-2.207e+00,  8.869e-01, -9.800e-01, -4.702e-01,  7.417e-01,\n",
       "         4.465e-01, -8.698e-01, -1.814e-01],\n",
       "       [-1.628e+00, -3.106e-01,  2.599e-01, -2.238e-01, -7.478e-01,\n",
       "        -7.098e-01,  1.498e-01,  1.105e-02],\n",
       "       [ 1.838e+00, -9.133e-01, -9.302e-01,  4.764e-01, -2.002e-02,\n",
       "        -8.814e-01, -5.365e-01,  8.380e-01],\n",
       "       [ 1.209e+00,  6.769e-01, -1.550e-01,  1.105e+00,  4.942e-01,\n",
       "        -7.257e-01, -1.355e+00,  4.898e-01],\n",
       "       [ 2.007e+00,  1.097e+00,  4.560e-01,  4.052e-01,  7.559e-01,\n",
       "         8.361e-02, -4.261e-01, -3.690e-01],\n",
       "       [ 2.387e+00, -2.455e-02,  1.054e-01,  3.548e-01,  5.402e-01,\n",
       "         1.649e-01,  1.707e-01, -1.178e-01],\n",
       "       [-5.222e-01, -3.966e-01, -3.252e-01,  2.632e-01, -6.305e-01,\n",
       "        -7.235e-01, -6.783e-01, -6.891e-01],\n",
       "       [-2.079e+00,  8.758e-01,  1.045e-01, -9.818e-01,  6.635e-01,\n",
       "         4.356e-01, -2.434e-01, -5.651e-01],\n",
       "       [ 2.636e+00, -4.930e-01, -3.193e-01, -2.232e-01,  2.417e-01,\n",
       "        -7.209e-02,  3.924e-01, -2.073e-02],\n",
       "       [-5.019e-01,  8.749e-01, -4.286e-01,  6.371e-01,  8.111e-01,\n",
       "         9.400e-01,  1.828e+00, -3.655e-01],\n",
       "       [-1.384e+00, -7.817e-01,  2.198e-01,  9.124e-01, -6.552e-01,\n",
       "         8.067e-01, -7.789e-01, -4.940e-01],\n",
       "       [ 1.542e+00,  1.287e+00, -5.823e-01, -1.440e+00, -1.094e+00,\n",
       "         2.895e-01,  1.537e-01,  3.131e-01],\n",
       "       [-2.120e+00, -1.146e+00, -1.974e-01, -1.422e+00, -1.907e-01,\n",
       "        -5.404e-01,  2.725e-01,  2.582e-01],\n",
       "       [ 1.429e+00, -1.232e+00, -8.064e-01, -7.180e-02,  1.843e-01,\n",
       "        -1.608e-01, -3.081e-01, -5.043e-01],\n",
       "       [ 2.365e+00, -7.143e-01,  4.597e-01, -3.850e-01,  3.264e-02,\n",
       "        -4.877e-01,  5.543e-01,  2.498e-02],\n",
       "       [-9.949e-01,  1.399e+00, -1.358e-01,  6.087e-01, -1.179e+00,\n",
       "        -7.819e-01, -5.099e-01, -4.360e-01],\n",
       "       [ 1.042e+00,  2.224e+00,  2.670e-01, -2.839e-01, -4.967e-01,\n",
       "         7.634e-01, -2.898e-01,  1.191e-01],\n",
       "       [-1.951e+00,  8.647e-01,  1.189e+00, -1.493e+00,  5.853e-01,\n",
       "         4.247e-01,  3.830e-01, -9.488e-01],\n",
       "       [ 1.098e+00,  6.654e-01,  2.018e-02, -7.100e-01, -5.335e-01,\n",
       "         1.321e+00, -2.026e-01,  1.871e-01],\n",
       "       [ 1.988e+00, -2.347e-01, -2.001e-01,  7.046e-01,  4.093e-01,\n",
       "        -2.398e-01, -2.938e-01,  3.116e-01],\n",
       "       [-2.166e+00, -4.252e-01,  6.221e-01,  6.373e-01,  3.101e-01,\n",
       "        -2.244e-01,  7.136e-01,  4.015e-01]])"
      ]
     },
     "execution_count": 134,
     "metadata": {},
     "output_type": "execute_result"
    }
   ],
   "source": [
    "X_transformed = np.dot(ord_attributes[1] - pca.mean_, pca.components_.T)\n",
    "X_transformed"
   ]
  },
  {
   "cell_type": "code",
   "execution_count": 18,
   "id": "crude-knife",
   "metadata": {},
   "outputs": [],
   "source": [
    "def get_transformed_attributes(agents, pca_comp = pca.components_):\n",
    "    agents = np.array(agents)\n",
    "#     if not hasattr(agents,  \"__len__\"):\n",
    "#         agents = [agents]\n",
    "    one_ag = False\n",
    "    if hasattr(agents,  \"shape\"):\n",
    "        if len(agents.shape) == 1:\n",
    "            agents = [agents]\n",
    "            one_ag = True\n",
    "    \n",
    "    transf = np.array([np.sum(pca.components_*agents[i],1) for i in range(0,len(agents))])\n",
    "    \n",
    "    if one_ag:\n",
    "        transf = transf[0]\n",
    "    return transf"
   ]
  },
  {
   "cell_type": "code",
   "execution_count": 145,
   "id": "integrated-triangle",
   "metadata": {},
   "outputs": [
    {
     "data": {
      "text/plain": [
       "array([-2.693,  0.469,  0.449, -0.285,  0.041, -0.156, -0.469, -0.035])"
      ]
     },
     "execution_count": 145,
     "metadata": {},
     "output_type": "execute_result"
    }
   ],
   "source": [
    "get_transformed_attributes(np.ones(8))"
   ]
  },
  {
   "cell_type": "code",
   "execution_count": 112,
   "id": "positive-broad",
   "metadata": {},
   "outputs": [
    {
     "ename": "NameError",
     "evalue": "name 'agent1' is not defined",
     "output_type": "error",
     "traceback": [
      "\u001b[0;31m---------------------------------------------------------------------------\u001b[0m",
      "\u001b[0;31mNameError\u001b[0m                                 Traceback (most recent call last)",
      "\u001b[0;32m<ipython-input-112-21dfe1e044f2>\u001b[0m in \u001b[0;36m<module>\u001b[0;34m\u001b[0m\n\u001b[0;32m----> 1\u001b[0;31m \u001b[0mdcor_attributes\u001b[0m\u001b[0;34m[\u001b[0m\u001b[0;36m1\u001b[0m\u001b[0;34m]\u001b[0m\u001b[0;34m.\u001b[0m\u001b[0mshape\u001b[0m\u001b[0;34m,\u001b[0m \u001b[0mget_transformed_attributes\u001b[0m\u001b[0;34m(\u001b[0m\u001b[0magent1\u001b[0m\u001b[0;34m)\u001b[0m\u001b[0;34m\u001b[0m\u001b[0;34m\u001b[0m\u001b[0m\n\u001b[0m",
      "\u001b[0;31mNameError\u001b[0m: name 'agent1' is not defined"
     ]
    }
   ],
   "source": [
    "dcor_attributes[1].shape, get_transformed_attributes(agent1)"
   ]
  },
  {
   "cell_type": "code",
   "execution_count": 142,
   "id": "contemporary-cambodia",
   "metadata": {},
   "outputs": [],
   "source": [
    "spr_cor, spr_pv = stats.spearmanr(dcor_attributes[1], axis=0)"
   ]
  },
  {
   "cell_type": "code",
   "execution_count": 143,
   "id": "voluntary-shape",
   "metadata": {},
   "outputs": [
    {
     "name": "stdout",
     "output_type": "stream",
     "text": [
      "[[ 1.    -0.032 -0.089  0.036 -0.048 -0.07   0.005 -0.057]\n",
      " [-0.032  1.    -0.042  0.039  0.013  0.058 -0.02  -0.021]\n",
      " [-0.089 -0.042  1.    -0.004  0.037 -0.019  0.073 -0.047]\n",
      " [ 0.036  0.039 -0.004  1.     0.042  0.033  0.022 -0.006]\n",
      " [-0.048  0.013  0.037  0.042  1.     0.115 -0.079 -0.045]\n",
      " [-0.07   0.058 -0.019  0.033  0.115  1.    -0.04  -0.003]\n",
      " [ 0.005 -0.02   0.073  0.022 -0.079 -0.04   1.     0.136]\n",
      " [-0.057 -0.021 -0.047 -0.006 -0.045 -0.003  0.136  1.   ]]\n",
      "[[0.    0.751 0.385 0.727 0.636 0.491 0.959 0.577]\n",
      " [0.751 0.    0.682 0.707 0.9   0.568 0.847 0.839]\n",
      " [0.385 0.682 0.    0.967 0.717 0.852 0.472 0.645]\n",
      " [0.727 0.707 0.967 0.    0.68  0.749 0.829 0.955]\n",
      " [0.636 0.9   0.717 0.68  0.    0.26  0.441 0.659]\n",
      " [0.491 0.568 0.852 0.749 0.26  0.    0.693 0.975]\n",
      " [0.959 0.847 0.472 0.829 0.441 0.693 0.    0.183]\n",
      " [0.577 0.839 0.645 0.955 0.659 0.975 0.183 0.   ]]\n"
     ]
    }
   ],
   "source": [
    "np.set_printoptions(precision=3)\n",
    "print(spr_cor)\n",
    "print(spr_pv)"
   ]
  },
  {
   "cell_type": "markdown",
   "id": "latest-exploration",
   "metadata": {},
   "source": [
    "Using PCA variables show that they are decorrelated. So maybe we can use them to calculate polarities, triads etc. \n",
    "But as to calc each new attribute we get all old attributes with certain coefficients, won't the distance just be sum of coefficients for given old attribute times this attribute value?"
   ]
  },
  {
   "cell_type": "markdown",
   "id": "dutch-oliver",
   "metadata": {},
   "source": [
    "## Max difference of new attributes"
   ]
  },
  {
   "cell_type": "code",
   "execution_count": 46,
   "id": "economic-paper",
   "metadata": {},
   "outputs": [
    {
     "data": {
      "text/plain": [
       "0.6731593640729356"
      ]
     },
     "execution_count": 46,
     "metadata": {},
     "output_type": "execute_result"
    }
   ],
   "source": [
    "max_dif = abs(np.sum([3,3,3,3,3,3,3,3] * pca.components_[0]) - np.sum(np.ones(8) * pca.components_[0]))/8\n",
    "min_dif = 0\n",
    "max_dif"
   ]
  },
  {
   "cell_type": "code",
   "execution_count": 49,
   "id": "geographic-dealer",
   "metadata": {},
   "outputs": [
    {
     "data": {
      "text/plain": [
       "[-0.6731593640729356,\n",
       " 0.11716828740273731,\n",
       " 0.11214982538572393,\n",
       " -0.07132349966753451,\n",
       " 0.010223005331998956,\n",
       " -0.03907328540479946,\n",
       " -0.11729119229619533,\n",
       " -0.008659260277375597]"
      ]
     },
     "execution_count": 49,
     "metadata": {},
     "output_type": "execute_result"
    }
   ],
   "source": [
    "max_difs = [(np.sum(np.ones(8)*3 * pca.components_[i]) - np.sum(np.ones(8) * pca.components_[i]))/8 for i in range(0, len(pca.components_))]\n",
    "max_difs"
   ]
  },
  {
   "cell_type": "code",
   "execution_count": 51,
   "id": "mathematical-experiment",
   "metadata": {},
   "outputs": [
    {
     "data": {
      "text/plain": [
       "1.1490477198393008"
      ]
     },
     "execution_count": 51,
     "metadata": {},
     "output_type": "execute_result"
    }
   ],
   "source": [
    "sum(np.abs(max_difs))"
   ]
  },
  {
   "cell_type": "code",
   "execution_count": 53,
   "id": "given-efficiency",
   "metadata": {},
   "outputs": [
    {
     "data": {
      "text/plain": [
       "([0.6731593640729356,\n",
       "  0.5973368021543246,\n",
       "  0.5415389513500888,\n",
       "  0.6239032129798618,\n",
       "  0.5668296735029915,\n",
       "  0.6450725898637422,\n",
       "  0.6680632035555416,\n",
       "  0.5734216963252284],\n",
       " 4.889325493804715)"
      ]
     },
     "execution_count": 53,
     "metadata": {},
     "output_type": "execute_result"
    }
   ],
   "source": [
    "max_difs2 = [(np.sum(np.abs(np.ones(8)*3 * pca.components_[i])) - np.sum(np.abs(np.ones(8) * pca.components_[i])))/8 for i in range(0, len(pca.components_))]\n",
    "max_difs2, sum(max_difs2)"
   ]
  },
  {
   "cell_type": "code",
   "execution_count": 163,
   "id": "manual-interview",
   "metadata": {},
   "outputs": [
    {
     "data": {
      "text/plain": [
       "(1.9498109791002052, [(1, 3, 3, 3, 1, 1, 1, 1), (3, 1, 1, 1, 3, 3, 3, 3)])"
      ]
     },
     "execution_count": 163,
     "metadata": {},
     "output_type": "execute_result"
    }
   ],
   "source": [
    "import itertools\n",
    "\n",
    "vals = [1, 3]\n",
    "\n",
    "max_dif3 = 0\n",
    "max_vals = []\n",
    "\n",
    "repeat = 8\n",
    "\n",
    "# agents2 = [np.ones(repeat)]\n",
    "# agents2 = get_transformed_attributes(agents2)\n",
    "for agent1 in itertools.product(vals, repeat = repeat):\n",
    "    tr_agent1 = get_transformed_attributes(agent1)\n",
    "#     for agent2 in agents2: \n",
    "    for agent2 in itertools.product(vals, repeat = repeat):\n",
    "        tr_agent2 = get_transformed_attributes(agent2)\n",
    "        dif = calc_distance(tr_agent1, tr_agent2)\n",
    "        \n",
    "        if dif > max_dif3:\n",
    "            max_dif3 = dif\n",
    "            max_vals = [agent1, agent2]\n",
    "max_dif3, max_vals"
   ]
  },
  {
   "cell_type": "code",
   "execution_count": null,
   "id": "strategic-excellence",
   "metadata": {},
   "outputs": [],
   "source": [
    "# def calc_max_dif()"
   ]
  },
  {
   "cell_type": "code",
   "execution_count": 151,
   "id": "perfect-extraction",
   "metadata": {},
   "outputs": [
    {
     "data": {
      "text/plain": [
       "1.149047719839301"
      ]
     },
     "execution_count": 151,
     "metadata": {},
     "output_type": "execute_result"
    }
   ],
   "source": [
    "calc_distance(get_transformed_attributes(np.ones(8)*3), get_transformed_attributes(np.ones(8)))"
   ]
  },
  {
   "cell_type": "code",
   "execution_count": 152,
   "id": "potential-parish",
   "metadata": {},
   "outputs": [
    {
     "data": {
      "text/plain": [
       "(array([-8.078,  1.406,  1.346, -0.856,  0.123, -0.469, -1.407, -0.104]),\n",
       " (3, 3, 3, 3, 3, 3, 3, 3),\n",
       " array([-6.274,  1.116,  2.032, -1.049,  1.504, -1.146, -2.466,  0.713]))"
      ]
     },
     "execution_count": 152,
     "metadata": {},
     "output_type": "execute_result"
    }
   ],
   "source": [
    "get_transformed_attributes(agent1), agent1, get_transformed_attributes(max_vals[0])"
   ]
  },
  {
   "cell_type": "code",
   "execution_count": 144,
   "id": "unlimited-boston",
   "metadata": {},
   "outputs": [
    {
     "data": {
      "text/plain": [
       "(-0.6731593640729359, 1)"
      ]
     },
     "execution_count": 144,
     "metadata": {},
     "output_type": "execute_result"
    }
   ],
   "source": [
    "sum(pca.components_[0]*2)/8, len(get_transformed_attributes(np.ones(8)*3))"
   ]
  },
  {
   "cell_type": "code",
   "execution_count": 164,
   "id": "independent-olympus",
   "metadata": {},
   "outputs": [],
   "source": [
    "def calc_distance(agent1, agent2, scale = 1):\n",
    "    return np.sum(np.abs(agent1-agent2)) / len(agent1) / scale\n",
    "\n",
    "def calc_distances(agents, scale = 1):\n",
    "    N, A = agents.shape\n",
    "    \n",
    "    distances = np.zeros([N,N])\n",
    "    \n",
    "    for i in range(0,N):\n",
    "        for j in range(i+1,N):\n",
    "            distances[i,j] = calc_distance(agents[i], agents[j], scale)\n",
    "            distances[j,i] = distances[i,j]\n",
    "    return distances\n"
   ]
  },
  {
   "cell_type": "code",
   "execution_count": 167,
   "id": "animated-third",
   "metadata": {},
   "outputs": [
    {
     "data": {
      "text/plain": [
       "(array([0.157, 0.244, 0.487, 1.19 , 2.451, 3.277, 2.226, 0.785, 0.102,\n",
       "        0.009]),\n",
       " array([0.   , 0.092, 0.183, 0.275, 0.366, 0.458, 0.549, 0.641, 0.732,\n",
       "        0.824, 0.915]),\n",
       " <BarContainer object of 10 artists>)"
      ]
     },
     "execution_count": 167,
     "metadata": {},
     "output_type": "execute_result"
    },
    {
     "data": {
      "image/png": "[encoded data removed]",
      "text/plain": [
       "<Figure size 432x288 with 1 Axes>"
      ]
     },
     "metadata": {
      "needs_background": "light"
     },
     "output_type": "display_data"
    }
   ],
   "source": [
    "dists = calc_distances(dcor_attributes[1], max_dif3)\n",
    "\n",
    "plt.hist(dists.flatten(), density=True)"
   ]
  },
  {
   "cell_type": "code",
   "execution_count": 168,
   "id": "little-tobacco",
   "metadata": {},
   "outputs": [
    {
     "data": {
      "text/plain": [
       "((array([53, 79, 94, 94]), array([94, 94, 53, 79])), 0.9150660566622942)"
      ]
     },
     "execution_count": 168,
     "metadata": {},
     "output_type": "execute_result"
    }
   ],
   "source": [
    "np.where(np.max(dists) == dists), np.max(dists)"
   ]
  },
  {
   "cell_type": "code",
   "execution_count": 161,
   "id": "color-devon",
   "metadata": {},
   "outputs": [
    {
     "data": {
      "text/plain": [
       "1.1005750324299248"
      ]
     },
     "execution_count": 161,
     "metadata": {},
     "output_type": "execute_result"
    }
   ],
   "source": [
    "transf_max_vals = get_transformed_attributes(max_vals)\n",
    "calc_distance(transf_max_vals[0], transf_max_vals[1])"
   ]
  },
  {
   "cell_type": "code",
   "execution_count": 162,
   "id": "empirical-environment",
   "metadata": {},
   "outputs": [
    {
     "data": {
      "text/plain": [
       "(array([[-5.908, -0.145,  0.884, -1.361, -0.658, -1.801, -2.296, -1.219],\n",
       "        [-8.078,  1.406,  1.346, -0.856,  0.123, -0.469, -1.407, -0.104]]),\n",
       " [(3, 3, 1, 3, 3, 3, 1, 1), (3, 3, 3, 3, 3, 3, 3, 3)])"
      ]
     },
     "execution_count": 162,
     "metadata": {},
     "output_type": "execute_result"
    }
   ],
   "source": [
    "transf_max_vals, max_vals"
   ]
  },
  {
   "cell_type": "code",
   "execution_count": 94,
   "id": "pretty-phenomenon",
   "metadata": {},
   "outputs": [
    {
     "data": {
      "text/plain": [
       "(array([[1., 1., 1., 1., 1., 3., 1., 1.],\n",
       "        [1., 1., 1., 1., 1., 3., 1., 1.],\n",
       "        [3., 3., 3., 3., 3., 1., 3., 3.]]),\n",
       " {'abortion_',\n",
       "  'deathpen_',\n",
       "  'euthanasia_',\n",
       "  'gaymarriage_',\n",
       "  'homosexual_',\n",
       "  'marijuana_',\n",
       "  'political_',\n",
       "  'premaritalsex_'})"
      ]
     },
     "execution_count": 94,
     "metadata": {},
     "output_type": "execute_result"
    }
   ],
   "source": [
    "ord_attributes[1][[53,79,94]], ord_list_of_attributes"
   ]
  },
  {
   "cell_type": "code",
   "execution_count": 174,
   "id": "interim-species",
   "metadata": {},
   "outputs": [
    {
     "data": {
      "text/plain": [
       "array([[ 0.,  1.,  1., ..., -1., -1.,  1.],\n",
       "       [ 1.,  0., -1., ...,  1.,  1.,  1.],\n",
       "       [ 1., -1.,  0., ..., -1., -1.,  1.],\n",
       "       ...,\n",
       "       [-1.,  1., -1., ...,  0.,  1., -1.],\n",
       "       [-1.,  1., -1., ...,  1.,  0.,  1.],\n",
       "       [ 1.,  1.,  1., ..., -1.,  1.,  0.]])"
      ]
     },
     "execution_count": 174,
     "metadata": {},
     "output_type": "execute_result"
    }
   ],
   "source": [
    "(dists <= 0.5)*2-1-np.eye(dists.shape[0])"
   ]
  },
  {
   "cell_type": "code",
   "execution_count": 175,
   "id": "cultural-latex",
   "metadata": {},
   "outputs": [],
   "source": [
    "def calc_link_polarity2(agent1, agent2, th, attr_dif = max_dif3):\n",
    "    return calc_distance(agent1, agent2, attr_dif) <= th\n",
    "\n",
    "def calc_link_polarities2(agents, th, attr_dif = max_dif3):\n",
    "    N, A = agents.shape\n",
    "    \n",
    "    polarities = (calc_distances(agents, attr_dif) <= th)*2 - 1 - np.eye(N)\n",
    "    \n",
    "    return polarities\n",
    "\n",
    "def balanced_triad_density(polarities):\n",
    "    N = polarities.shape[0]\n",
    "    return (np.sum(np.matmul(polarities,polarities) * polarities) / 6 / (N*(N-1)*(N-2)/6) + 1)/2"
   ]
  },
  {
   "cell_type": "code",
   "execution_count": 366,
   "id": "interpreted-bahrain",
   "metadata": {},
   "outputs": [
    {
     "data": {
      "text/plain": [
       "(0.6168604039553967, 0.7293682937092363)"
      ]
     },
     "execution_count": 366,
     "metadata": {},
     "output_type": "execute_result"
    }
   ],
   "source": [
    "polarities = calc_link_polarities2(dcor_attributes[1], 0.5)\n",
    "pol2 = calc_link_polarities2(ord_attributes[1], 0.5, 2)\n",
    "balanced_triad_density(polarities), balanced_triad_density(pol2)"
   ]
  },
  {
   "cell_type": "code",
   "execution_count": 183,
   "id": "raised-mitchell",
   "metadata": {},
   "outputs": [],
   "source": [
    "def balanced_triad_density_network(polarities, triads):\n",
    "    T = len(triads)\n",
    "    dens = 0.\n",
    "    for triad in triads:\n",
    "        i, j, k = triad\n",
    "        if polarities[i,j]*polarities[i,k]*polarities[k,j] >= 0:\n",
    "            dens = dens + 1\n",
    "    dens = dens / T\n",
    "    return dens\n",
    "\n",
    "def get_triads_polarity(polarities, triads):\n",
    "    Ts = len(triads)\n",
    "    \n",
    "    t_pol = np.zeros(Ts) \n",
    "    t_pol_type = np.zeros(Ts)\n",
    "    \n",
    "    for t in range(0,Ts):\n",
    "        i, j, k = triads[t]\n",
    "        pols = [polarities[i,j], polarities[i,k], polarities[k,j]]\n",
    "        \n",
    "        t_pol_type[t] = 3-(sum(pols)+3)/2\n",
    "        \n",
    "        if polarities[i,j]*polarities[i,k]*polarities[k,j] >= 0:\n",
    "            t_pol[t] = 1\n",
    "        else:\n",
    "            t_pol[t] = -1\n",
    "    \n",
    "    return t_pol, t_pol_type\n",
    "\n",
    "def count_triads_types(polarities, triads):\n",
    "    t_pol, t_pol_type = get_triads_polarity(polarities, triads)\n",
    "    \n",
    "    t2 = np.array(t_pol_type)\n",
    "    triads_type = [sum(t2 == i) for i in range(0,4)]\n",
    "    \n",
    "    return triads_type\n"
   ]
  },
  {
   "cell_type": "code",
   "execution_count": 184,
   "id": "official-objective",
   "metadata": {},
   "outputs": [],
   "source": [
    "def get_triads(net):\n",
    "    A = nx.adjacency_matrix(net).todense() \n",
    "\n",
    "    N = A.shape[0]\n",
    "\n",
    "    triads = []\n",
    "\n",
    "    for i in range(0,N):\n",
    "        for j in range(i+1,N):\n",
    "            if A[i,j] > 0:\n",
    "                for k in range(j+1,N):\n",
    "                    if A[i,k] > 0 and A[j,k] > 0:\n",
    "                        triads.append((i,j,k))\n",
    "    \n",
    "    return triads\n",
    "\n",
    "def get_triads_strength(triads, net):\n",
    "    A = nx.adjacency_matrix(net).todense() \n",
    "\n",
    "    N = A.shape[0]\n",
    "    Ts = len(triads)\n",
    "    \n",
    "    s_mul = np.zeros(Ts) #multiplicative strength\n",
    "    s_add = np.zeros(Ts) #additive strength\n",
    "    \n",
    "    for t in range(0,Ts):\n",
    "        i, j, k = triads[t]\n",
    "        s_mul[t] = A[i,j] * A[i,k] * A[j,k]\n",
    "        s_add[t] = A[i,j] + A[i,k] + A[j,k]\n",
    "    \n",
    "    return s_mul, s_add"
   ]
  },
  {
   "cell_type": "code",
   "execution_count": 187,
   "id": "outside-interstate",
   "metadata": {},
   "outputs": [
    {
     "data": {
      "text/plain": [
       "(0.044444444444444446, 0.012505259835893123)"
      ]
     },
     "execution_count": 187,
     "metadata": {},
     "output_type": "execute_result"
    }
   ],
   "source": [
    "sem = 1\n",
    "triads = get_triads(data[sem])\n",
    "\n",
    "polarities = calc_link_polarities2(dcor_attributes[sem], 0.1)\n",
    "\n",
    "balanced_triad_density_network(polarities, triads), balanced_triad_density(polarities)"
   ]
  },
  {
   "cell_type": "code",
   "execution_count": 629,
   "id": "accompanied-newcastle",
   "metadata": {},
   "outputs": [],
   "source": [
    "sem = 2\n",
    "triads = get_triads(data[sem])\n",
    "\n",
    "thetas = np.linspace(0,1,101)\n",
    "\n",
    "bals = np.zeros(len(thetas))\n",
    "all_bals = np.zeros(len(thetas))\n",
    "for i, theta in enumerate(thetas):\n",
    "    polarities = calc_link_polarities2(dcor_attributes[sem], theta)\n",
    "    bals[i] = balanced_triad_density_network(polarities, triads)\n",
    "    all_bals[i] = balanced_triad_density(polarities)\n"
   ]
  },
  {
   "cell_type": "code",
   "execution_count": 630,
   "id": "hired-indian",
   "metadata": {},
   "outputs": [
    {
     "data": {
      "text/plain": [
       "Text(0, 0.5, 'density of balanced triads')"
      ]
     },
     "execution_count": 630,
     "metadata": {},
     "output_type": "execute_result"
    },
    {
     "data": {
      "image/png": "[encoded data removed]",
      "text/plain": [
       "<Figure size 432x288 with 1 Axes>"
      ]
     },
     "metadata": {
      "needs_background": "light"
     },
     "output_type": "display_data"
    }
   ],
   "source": [
    "plt.plot(thetas, bals, thetas, all_bals)\n",
    "plt.legend([\"network\", \"all\"])\n",
    "plt.title(\"Comparing HBT in triads and all pairs of agents\")\n",
    "plt.xlabel(\"theta\")\n",
    "plt.ylabel(\"density of balanced triads\")"
   ]
  },
  {
   "cell_type": "code",
   "execution_count": 631,
   "id": "wrong-locking",
   "metadata": {},
   "outputs": [
    {
     "data": {
      "image/png": "[encoded data removed]",
      "text/plain": [
       "<Figure size 1440x720 with 6 Axes>"
      ]
     },
     "metadata": {
      "needs_background": "light"
     },
     "output_type": "display_data"
    }
   ],
   "source": [
    "dim1 = 2\n",
    "dim2 = 3\n",
    "thetas = np.linspace(0,1,101)\n",
    "\n",
    "fig, axs = plt.subplots(dim1, dim2)\n",
    "fig.set_size_inches(20,10)\n",
    "fig.suptitle(\"Comparing HBT in triads and all pairs of agents\")\n",
    "\n",
    "semm = 0\n",
    "for a1 in range(0,dim1):\n",
    "    for a2 in range(0,dim2):\n",
    "        semm = semm + 1\n",
    "        \n",
    "        triads = get_triads(data[semm])\n",
    "        \n",
    "        all_bals = np.zeros(len(thetas))\n",
    "        bals = np.zeros(len(thetas))\n",
    "        \n",
    "        for i, theta in enumerate(thetas):\n",
    "            polarities = calc_link_polarities2(dcor_attributes[semm], theta)\n",
    "            bals[i] = balanced_triad_density_network(polarities, triads)\n",
    "            all_bals[i] = balanced_triad_density(polarities)\n",
    "        \n",
    "        axs[a1, a2].set_title(\"sem=\" + str(semm))\n",
    "        axs[a1,a2].plot(thetas, bals, thetas, all_bals)\n",
    "        # plt.plot(thetas, rand_bals_mean)\n",
    "        axs[a1, a2].legend([\"triads\", \"all pairs\"])\n",
    "\n",
    "for ax in axs.flat:\n",
    "    ax.set(xlabel='theta', ylabel='density of balanced triads')\n",
    "\n",
    "# Hide x labels and tick labels for top plots and y ticks for right plots.\n",
    "for ax in axs.flat:\n",
    "    ax.label_outer()"
   ]
  },
  {
   "cell_type": "markdown",
   "id": "honey-salem",
   "metadata": {},
   "source": [
    "# Randomizing triads in the whole network"
   ]
  },
  {
   "cell_type": "code",
   "execution_count": 345,
   "id": "saved-harvey",
   "metadata": {},
   "outputs": [],
   "source": [
    "def randomize_all_attributes(attr, randomized_agents = []):\n",
    "    N, A = attr.shape\n",
    "    \n",
    "    if len(randomized_agents) == 0:\n",
    "        randomized_agents = list(range(0,N))\n",
    "    \n",
    "    attr_rand = np.copy(attr)\n",
    "    \n",
    "    attr_copy = attr_rand[randomized_agents]\n",
    "    \n",
    "    np.random.shuffle(attr_copy)\n",
    "    \n",
    "    attr_rand[randomized_agents] = attr_copy\n",
    "    \n",
    "    return attr_rand\n",
    "\n",
    "def randomize_attribute_sets(ord_attributes):\n",
    "    rand_ord_attributes = dict((i, 0) for i in range(1,7))\n",
    "    \n",
    "    for sem in range(1,7):\n",
    "        rand_ord_attributes[sem] = randomize_all_attributes(ord_attributes[sem])\n",
    "    \n",
    "    return rand_ord_attributes\n",
    "\n",
    "def compare_bal_triads(triads, agents, th, attr_dif, M, randomized_agents = []):\n",
    "    \"\"\"\n",
    "    triads - list of sets of node ids forming a triad\n",
    "    agents - array of vectors of agent attributes\n",
    "    th - threshold used\n",
    "    attr_dif - max difference between attributes\n",
    "    M - number of times to repeat randomization\n",
    "    \"\"\"\n",
    "    polarities = calc_link_polarities2(agents, th, attr_dif)\n",
    "    bal_dens = balanced_triad_density_network(polarities, triads)\n",
    "    \n",
    "    bal_dens_rands = np.zeros(M)\n",
    "    \n",
    "    for i in range(0,M):\n",
    "        agents_rand = randomize_all_attributes(agents, randomized_agents)\n",
    "        polarities_rand = calc_link_polarities2(agents_rand, th, attr_dif)\n",
    "        bal_dens_rands[i] = balanced_triad_density_network(polarities_rand, triads)\n",
    "        \n",
    "    pval = np.sum(bal_dens_rands > bal_dens)\n",
    "    \n",
    "    return bal_dens_rands, bal_dens, pval\n",
    "\n",
    "def compare_networks(data, th, attr_dif, M):\n",
    "    pvals = np.zeros(6)\n",
    "    vals = np.zeros(6)\n",
    "    stds = np.zeros(6)\n",
    "    difs = np.zeros(6)\n",
    "    \n",
    "    for n in range(1,7):\n",
    "#         print(n)\n",
    "        net = data[n]\n",
    "        triads = get_triads(net)\n",
    "        agents = dcor_attributes[n]\n",
    "        \n",
    "        bal_dens_rands, bal_dens, pval = compare_bal_triads(triads, agents, th, attr_dif, M)\n",
    "        pvals[n-1] = pval\n",
    "        vals[n - 1] = bal_dens\n",
    "        difs[n-1] = np.mean(bal_dens - bal_dens_rands)\n",
    "        stds[n-1] = np.std(difs)\n",
    "    return pvals, vals, difs, stds\n",
    "\n",
    "def compare_weighted_network(net, agents, th, attr_dif, M):\n",
    "    polarities = calc_link_polarities2(agents, th, attr_dif)\n",
    "    U_data, pval_data = compare_weighted_links(net, polarities)\n",
    "    \n",
    "    U_rands = np.zeros(M)\n",
    "    pval_rands = np.zeros(M)\n",
    "    \n",
    "    for i in range(0,M):\n",
    "        agents_rand = randomize_all_attributes(agents)\n",
    "        polarities_rand = calc_link_polarities2(agents_rand, th, attr_dif)\n",
    "        U_rands[i], pval_rands[i] = compare_weighted_links(net, polarities_rand)\n",
    "    \n",
    "    pval_U = np.sum(U_rands >= U_data)\n",
    "    pval_pval = np.sum(pval_rands <= pval_data)\n",
    "    \n",
    "    return U_rands, pval_rands, pval_U, pval_pval\n",
    "\n",
    "def compare_weighted_networks(data, ord_attributes, th, attr_dif, M):\n",
    "    U_rands = np.zeros(M)\n",
    "    pval_rands = np.zeros(M)\n",
    "    \n",
    "    U_data, pval_data = compare_all_weighted_links(data, ord_attributes, th, attr_dif)\n",
    "    \n",
    "    for i in range(0,M):\n",
    "        rand_ord_attributes = randomize_attribute_sets(ord_attributes)\n",
    "        U_rands[i], pval_rands[i] = compare_all_weighted_links(data, rand_ord_attributes, th, attr_dif)\n",
    "    \n",
    "    pval_U = np.sum(U_rands >= U_data)\n",
    "    pval_pval = np.sum(pval_rands <= pval_data)\n",
    "    \n",
    "    return U_rands, pval_rands, pval_U, pval_pval"
   ]
  },
  {
   "cell_type": "code",
   "execution_count": 304,
   "id": "acute-category",
   "metadata": {},
   "outputs": [],
   "source": [
    "bal_dens_rands, bal_dens, pval = compare_bal_triads(triads, dcor_attributes[sem], 0.5, 2, 100)"
   ]
  },
  {
   "cell_type": "code",
   "execution_count": 305,
   "id": "finished-registration",
   "metadata": {},
   "outputs": [
    {
     "data": {
      "text/plain": [
       "(12, -0.0868888888888889, 18)"
      ]
     },
     "execution_count": 305,
     "metadata": {},
     "output_type": "execute_result"
    }
   ],
   "source": [
    "np.sum(bal_dens_rands > bal_dens), np.mean(bal_dens_rands) - bal_dens, pval"
   ]
  },
  {
   "cell_type": "code",
   "execution_count": 346,
   "id": "injured-wagner",
   "metadata": {},
   "outputs": [],
   "source": [
    "sem = 1\n",
    "triads = get_triads(data[sem])\n",
    "\n",
    "thetas = np.linspace(0,1,15)\n",
    "\n",
    "bals = np.zeros(len(thetas))\n",
    "rand_bals_mean = np.zeros(len(thetas))\n",
    "rand_bals_std = np.zeros(len(thetas))\n",
    "pvals = np.zeros(len(thetas))\n",
    "for i, theta in enumerate(thetas):\n",
    "    rand_bal, bal, pval = compare_bal_triads(triads, dcor_attributes[sem], theta, max_dif3, 100)\n",
    "    rand_bals_mean[i] = np.mean(rand_bal)\n",
    "    rand_bals_std[i] = np.std(rand_bal)\n",
    "    bals[i] = bal\n",
    "    pvals[i] = pval\n"
   ]
  },
  {
   "cell_type": "code",
   "execution_count": 347,
   "id": "distributed-there",
   "metadata": {},
   "outputs": [
    {
     "data": {
      "text/plain": [
       "Text(0, 0.5, 'density of balanced triads')"
      ]
     },
     "execution_count": 347,
     "metadata": {},
     "output_type": "execute_result"
    },
    {
     "data": {
      "image/png": "[encoded data removed]",
      "text/plain": [
       "<Figure size 432x288 with 1 Axes>"
      ]
     },
     "metadata": {
      "needs_background": "light"
     },
     "output_type": "display_data"
    }
   ],
   "source": [
    "plt.plot(thetas, bals, 'ko')\n",
    "# plt.plot(thetas, rand_bals_mean)\n",
    "plt.fill_between(thetas, rand_bals_mean-rand_bals_std, rand_bals_mean+rand_bals_std)\n",
    "plt.legend([\"network\", \"mean\"])\n",
    "plt.title(\"Comparing HBT in triads and randomized all agents' sets of attributes\")\n",
    "plt.xlabel(\"theta\")\n",
    "plt.ylabel(\"density of balanced triads\")"
   ]
  },
  {
   "cell_type": "code",
   "execution_count": 348,
   "id": "metallic-invention",
   "metadata": {},
   "outputs": [
    {
     "data": {
      "text/plain": [
       "(array([ 8., 11.,  4., 53., 31., 73., 51., 53., 11.,  7., 70.,  0.,  0.,\n",
       "         0.,  0.]),\n",
       " 1.9498109791002052)"
      ]
     },
     "execution_count": 348,
     "metadata": {},
     "output_type": "execute_result"
    }
   ],
   "source": [
    "pvals, max_dif3"
   ]
  },
  {
   "cell_type": "code",
   "execution_count": 349,
   "id": "caroline-malaysia",
   "metadata": {},
   "outputs": [
    {
     "data": {
      "image/png": "[encoded data removed]",
      "text/plain": [
       "<Figure size 1440x720 with 6 Axes>"
      ]
     },
     "metadata": {
      "needs_background": "light"
     },
     "output_type": "display_data"
    }
   ],
   "source": [
    "dim1 = 2\n",
    "dim2 = 3\n",
    "thetas = np.linspace(0,1,11)\n",
    "pvals = dict((i, np.zeros(len(thetas))) for i in range(1,7))\n",
    "\n",
    "fig, axs = plt.subplots(dim1, dim2)\n",
    "fig.set_size_inches(20,10)\n",
    "fig.suptitle(\"Comparing HBT in triads and randomized all agents' sets of attributes\")\n",
    "\n",
    "semm = 0\n",
    "for a1 in range(0,dim1):\n",
    "    for a2 in range(0,dim2):\n",
    "        semm = semm + 1\n",
    "        triads = get_triads(data[semm])\n",
    "\n",
    "        bals = np.zeros(len(thetas))\n",
    "        rand_bals_mean = np.zeros(len(thetas))\n",
    "        rand_bals_std = np.zeros(len(thetas))\n",
    "        \n",
    "        for i, theta in enumerate(thetas):\n",
    "            rand_bal, bal, pval = compare_bal_triads(triads, dcor_attributes[semm], theta, max_dif3, 100)\n",
    "            rand_bals_mean[i] = np.mean(rand_bal)\n",
    "            rand_bals_std[i] = np.std(rand_bal)\n",
    "            bals[i] = bal\n",
    "            pvals[semm][i] = pval\n",
    "        \n",
    "        axs[a1, a2].set_title(\"sem=\" + str(semm))\n",
    "        axs[a1,a2].plot(thetas, bals, 'ko')\n",
    "        # plt.plot(thetas, rand_bals_mean)\n",
    "        axs[a1, a2].fill_between(thetas, rand_bals_mean-rand_bals_std, rand_bals_mean+rand_bals_std)\n",
    "        axs[a1, a2].legend([\"network\", \"mean\"])\n",
    "\n",
    "for ax in axs.flat:\n",
    "    ax.set(xlabel='theta', ylabel='density of balanced triads')\n",
    "\n",
    "# Hide x labels and tick labels for top plots and y ticks for right plots.\n",
    "for ax in axs.flat:\n",
    "    ax.label_outer()"
   ]
  },
  {
   "cell_type": "code",
   "execution_count": 350,
   "id": "molecular-tutorial",
   "metadata": {},
   "outputs": [
    {
     "data": {
      "text/plain": [
       "{1: array([17.,  9., 38., 41., 34., 55., 29., 44.,  0.,  0.,  0.]),\n",
       " 2: array([ 2.,  2., 17.,  2.,  1., 69., 62.,  0.,  0.,  0.,  0.]),\n",
       " 3: array([12.,  9., 19.,  6., 34., 27.,  4.,  0.,  0.,  0.,  0.]),\n",
       " 4: array([ 5.,  6.,  5.,  6., 18., 27., 41., 97.,  0.,  0.,  0.]),\n",
       " 5: array([ 4.,  9., 10., 23., 13., 55., 49.,  0.,  0.,  0.,  0.]),\n",
       " 6: array([ 9.,  9.,  3., 22., 14., 14., 11.,  0.,  0.,  0.,  0.])}"
      ]
     },
     "execution_count": 350,
     "metadata": {},
     "output_type": "execute_result"
    }
   ],
   "source": [
    "pvals"
   ]
  },
  {
   "cell_type": "markdown",
   "id": "measured-planner",
   "metadata": {},
   "source": [
    "# Randomizing attributes only inside triads"
   ]
  },
  {
   "cell_type": "code",
   "execution_count": 280,
   "id": "demographic-bulgarian",
   "metadata": {},
   "outputs": [],
   "source": [
    "sem = 1\n",
    "triads = get_triads(data[sem])"
   ]
  },
  {
   "cell_type": "code",
   "execution_count": 379,
   "id": "norman-business",
   "metadata": {},
   "outputs": [],
   "source": [
    "from itertools import chain\n",
    "triad_agents = np.unique(list(chain.from_iterable(triads)))\n",
    "dcor_attributes[1][triad_agents];"
   ]
  },
  {
   "cell_type": "code",
   "execution_count": 354,
   "id": "accessory-letters",
   "metadata": {},
   "outputs": [],
   "source": [
    "sem = 2\n",
    "triads = get_triads(data[sem])\n",
    "triad_agents = np.unique(list(chain.from_iterable(triads)))\n",
    "\n",
    "thetas = np.linspace(0,1,11)\n",
    "\n",
    "bals = np.zeros(len(thetas))\n",
    "rand_bals_mean = np.zeros(len(thetas))\n",
    "rand_bals_std = np.zeros(len(thetas))\n",
    "pvals_t = np.zeros(len(thetas))\n",
    "for i, theta in enumerate(thetas):\n",
    "    rand_bal, bal, pval = compare_bal_triads(triads, dcor_attributes[sem], theta, max_dif3, 100, triad_agents)\n",
    "    rand_bals_mean[i] = np.mean(rand_bal)\n",
    "    rand_bals_std[i] = np.std(rand_bal)\n",
    "    bals[i] = bal\n",
    "    pvals_t[i] = pval"
   ]
  },
  {
   "cell_type": "code",
   "execution_count": 355,
   "id": "driving-tourism",
   "metadata": {},
   "outputs": [
    {
     "data": {
      "text/plain": [
       "Text(0, 0.5, 'density of balanced triads')"
      ]
     },
     "execution_count": 355,
     "metadata": {},
     "output_type": "execute_result"
    },
    {
     "data": {
      "image/png": "[encoded data removed]",
      "text/plain": [
       "<Figure size 432x288 with 1 Axes>"
      ]
     },
     "metadata": {
      "needs_background": "light"
     },
     "output_type": "display_data"
    }
   ],
   "source": [
    "plt.plot(thetas, bals, 'ko')\n",
    "# plt.plot(thetas, rand_bals_mean)\n",
    "plt.fill_between(thetas, rand_bals_mean-rand_bals_std, rand_bals_mean+rand_bals_std)\n",
    "plt.legend([\"network\", \"mean\"])\n",
    "plt.title(\"Comparing HBT in triads and randomized triad agents' sets of attributes\")\n",
    "plt.xlabel(\"theta\")\n",
    "plt.ylabel(\"density of balanced triads\")"
   ]
  },
  {
   "cell_type": "code",
   "execution_count": 356,
   "id": "biological-obligation",
   "metadata": {},
   "outputs": [
    {
     "data": {
      "text/plain": [
       "(array([ 5.,  9., 33.,  3.,  2., 74., 70.,  0.,  0.,  0.,  0.]),\n",
       " array([ 0,  1,  4,  5,  8,  9, 10, 11, 14, 15, 16, 20, 21, 22, 23, 24, 25,\n",
       "        26, 27, 28, 29, 30, 31, 32, 33, 34, 38, 39, 40, 41, 44, 45, 48, 51,\n",
       "        58, 66, 76]))"
      ]
     },
     "execution_count": 356,
     "metadata": {},
     "output_type": "execute_result"
    }
   ],
   "source": [
    "pvals_t, triad_agents"
   ]
  },
  {
   "cell_type": "code",
   "execution_count": 360,
   "id": "defensive-pound",
   "metadata": {},
   "outputs": [
    {
     "data": {
      "image/png": "[encoded data removed]",
      "text/plain": [
       "<Figure size 1440x720 with 6 Axes>"
      ]
     },
     "metadata": {
      "needs_background": "light"
     },
     "output_type": "display_data"
    }
   ],
   "source": [
    "dim1 = 2\n",
    "dim2 = 3\n",
    "thetas = np.linspace(0,1,21)\n",
    "pvals_t = dict((i, np.zeros(len(thetas))) for i in range(1,7))\n",
    "\n",
    "fig, axs = plt.subplots(dim1, dim2)\n",
    "fig.set_size_inches(20,10)\n",
    "fig.suptitle(\"Comparing HBT in triads and randomized triad agents' sets of attributes\")\n",
    "\n",
    "semm = 0\n",
    "for a1 in range(0,dim1):\n",
    "    for a2 in range(0,dim2):\n",
    "        semm = semm + 1\n",
    "        triads = get_triads(data[semm])\n",
    "        triad_agents = np.unique(list(chain.from_iterable(triads)))\n",
    "\n",
    "        bals = np.zeros(len(thetas))\n",
    "        rand_bals_mean = np.zeros(len(thetas))\n",
    "        rand_bals_std = np.zeros(len(thetas))\n",
    "        \n",
    "        for i, theta in enumerate(thetas):\n",
    "            rand_bal, bal, pval = compare_bal_triads(triads, dcor_attributes[semm], theta, max_dif3, 100, triad_agents)\n",
    "            rand_bals_mean[i] = np.mean(rand_bal)\n",
    "            rand_bals_std[i] = np.std(rand_bal)\n",
    "            bals[i] = bal\n",
    "            pvals_t[semm][i] = pval\n",
    "        \n",
    "        axs[a1, a2].set_title(\"sem=\" + str(semm))\n",
    "        axs[a1,a2].plot(thetas, bals, 'ko')\n",
    "        # plt.plot(thetas, rand_bals_mean)\n",
    "        axs[a1, a2].fill_between(thetas, rand_bals_mean-rand_bals_std, rand_bals_mean+rand_bals_std)\n",
    "        axs[a1, a2].legend([\"network\", \"mean\"])\n",
    "\n",
    "for ax in axs.flat:\n",
    "    ax.set(xlabel='theta', ylabel='density of balanced triads')\n",
    "\n",
    "# Hide x labels and tick labels for top plots and y ticks for right plots.\n",
    "for ax in axs.flat:\n",
    "    ax.label_outer()"
   ]
  },
  {
   "cell_type": "code",
   "execution_count": 361,
   "id": "constant-tribute",
   "metadata": {
    "scrolled": true
   },
   "outputs": [
    {
     "data": {
      "text/plain": [
       "{1: array([22., 16., 23., 16., 29., 24., 19., 34., 23., 18., 49., 13., 22.,\n",
       "         7., 34.,  0.,  0.,  0.,  0.,  0.,  0.]),\n",
       " 2: array([ 5.,  3.,  5.,  6., 19., 14.,  2.,  4.,  5., 45., 66., 68., 62.,\n",
       "        93.,  0.,  0.,  0.,  0.,  0.,  0.,  0.]),\n",
       " 3: array([30., 23., 28., 34., 39., 43.,  3., 31., 33., 88., 29., 11.,  5.,\n",
       "        61.,  0.,  0.,  0.,  0.,  0.,  0.,  0.]),\n",
       " 4: array([ 3.,  1.,  3.,  3.,  0.,  5.,  4.,  1., 23., 40., 25.,  4., 51.,\n",
       "        95., 96.,  0.,  0.,  0.,  0.,  0.,  0.]),\n",
       " 5: array([21., 23., 20., 24., 28., 15., 45., 47., 32., 11., 47., 68., 53.,\n",
       "        67.,  0.,  0.,  0.,  0.,  0.,  0.,  0.]),\n",
       " 6: array([44., 50., 42., 30., 22., 12., 57., 29., 25., 49., 23., 11.,  8.,\n",
       "        31.,  0.,  0.,  0.,  0.,  0.,  0.,  0.])}"
      ]
     },
     "execution_count": 361,
     "metadata": {},
     "output_type": "execute_result"
    }
   ],
   "source": [
    "pvals_t"
   ]
  },
  {
   "cell_type": "code",
   "execution_count": 363,
   "id": "practical-vulnerability",
   "metadata": {},
   "outputs": [],
   "source": [
    "sem = 2\n",
    "triads = get_triads(data[sem])\n",
    "triad_agents = np.unique(list(chain.from_iterable(triads)))"
   ]
  },
  {
   "cell_type": "code",
   "execution_count": 364,
   "id": "exclusive-petite",
   "metadata": {},
   "outputs": [
    {
     "data": {
      "text/plain": [
       "[43, 37, 22, 41, 30, 23]"
      ]
     },
     "execution_count": 364,
     "metadata": {},
     "output_type": "execute_result"
    }
   ],
   "source": [
    "[len(np.unique(list(chain.from_iterable(get_triads(data[sem]))))) for sem in range(1,7)]"
   ]
  },
  {
   "cell_type": "code",
   "execution_count": 365,
   "id": "chinese-printer",
   "metadata": {},
   "outputs": [
    {
     "data": {
      "text/plain": [
       "[45, 26, 9, 26, 20, 12]"
      ]
     },
     "execution_count": 365,
     "metadata": {},
     "output_type": "execute_result"
    }
   ],
   "source": [
    "[len(get_triads(data[sem])) for sem in range(1,7)]"
   ]
  },
  {
   "cell_type": "markdown",
   "id": "alpine-group",
   "metadata": {},
   "source": [
    "# Comparing links after decorrelation"
   ]
  },
  {
   "cell_type": "code",
   "execution_count": 380,
   "id": "greek-preserve",
   "metadata": {},
   "outputs": [],
   "source": [
    "sem = 1\n",
    "th = 0.5\n",
    "\n",
    "polarities = calc_link_polarities2(dcor_attributes[sem], th)\n",
    "pol_old = calc_link_polarities2(ord_attributes[sem], th, 2)\n",
    "\n"
   ]
  },
  {
   "cell_type": "code",
   "execution_count": 385,
   "id": "extensive-telescope",
   "metadata": {},
   "outputs": [
    {
     "data": {
      "text/plain": [
       "(2607.0, 2933.0)"
      ]
     },
     "execution_count": 385,
     "metadata": {},
     "output_type": "execute_result"
    }
   ],
   "source": [
    "ones = np.sum(polarities == 1)/2\n",
    "ones_old = np.sum(pol_old == 1)/2\n",
    "\n",
    "ones, ones_old"
   ]
  },
  {
   "cell_type": "code",
   "execution_count": 389,
   "id": "institutional-hands",
   "metadata": {},
   "outputs": [
    {
     "data": {
      "text/plain": [
       "(3777.0, 0.7946560067325898)"
      ]
     },
     "execution_count": 389,
     "metadata": {},
     "output_type": "execute_result"
    }
   ],
   "source": [
    "N = polarities.shape[0]\n",
    "same = (np.sum(polarities == pol_old) - N)/2\n",
    "same, same/N/(N-1)*2"
   ]
  },
  {
   "cell_type": "code",
   "execution_count": 436,
   "id": "activated-cotton",
   "metadata": {},
   "outputs": [
    {
     "data": {
      "image/png": "[encoded data removed]",
      "text/plain": [
       "<Figure size 1440x720 with 6 Axes>"
      ]
     },
     "metadata": {
      "needs_background": "light"
     },
     "output_type": "display_data"
    }
   ],
   "source": [
    "dim1 = 2\n",
    "dim2 = 3\n",
    "thetas = np.linspace(0,1,101)\n",
    "\n",
    "fig, axs = plt.subplots(dim1, dim2)\n",
    "fig.set_size_inches(20,10)\n",
    "fig.suptitle(\"Comparing links after de-correlation\")\n",
    "\n",
    "semm = 0\n",
    "for a1 in range(0,dim1):\n",
    "    for a2 in range(0,dim2):\n",
    "        semm = semm + 1\n",
    "        \n",
    "        ones = np.zeros(len(thetas))\n",
    "        ones_old = np.zeros(len(thetas))\n",
    "        \n",
    "        for i, theta in enumerate(thetas):\n",
    "            polarities = calc_link_polarities2(dcor_attributes[semm], theta)\n",
    "            pol_old = calc_link_polarities2(ord_attributes[semm], theta, 2)\n",
    "            \n",
    "            N = polarities.shape[0]\n",
    "            ones[i] = np.sum(polarities == 1)/2 / N/(N-1)*2\n",
    "            ones_old[i] = np.sum(pol_old == 1)/2 / N/(N-1)*2\n",
    "        \n",
    "        axs[a1, a2].set_title(\"sem=\" + str(semm))\n",
    "        axs[a1,a2].plot(thetas, ones, thetas, ones_old)\n",
    "        # plt.plot(thetas, rand_bals_mean)\n",
    "        axs[a1, a2].legend([\"decor\", \"old attr\"])\n",
    "\n",
    "for ax in axs.flat:\n",
    "    ax.set(xlabel='theta', ylabel='density of positive links')\n",
    "\n",
    "# Hide x labels and tick labels for top plots and y ticks for right plots.\n",
    "for ax in axs.flat:\n",
    "    ax.label_outer()"
   ]
  },
  {
   "cell_type": "code",
   "execution_count": 435,
   "id": "clinical-guest",
   "metadata": {},
   "outputs": [
    {
     "data": {
      "image/png": "[encoded data removed]",
      "text/plain": [
       "<Figure size 1440x720 with 6 Axes>"
      ]
     },
     "metadata": {
      "needs_background": "light"
     },
     "output_type": "display_data"
    }
   ],
   "source": [
    "dim1 = 2\n",
    "dim2 = 3\n",
    "thetas = np.linspace(0,1,101)\n",
    "\n",
    "fig, axs = plt.subplots(dim1, dim2)\n",
    "fig.set_size_inches(20,10)\n",
    "fig.suptitle(\"Comparing links after de-correlation\")\n",
    "\n",
    "semm = 0\n",
    "for a1 in range(0,dim1):\n",
    "    for a2 in range(0,dim2):\n",
    "        semm = semm + 1\n",
    "        \n",
    "        sames = np.zeros(len(thetas))\n",
    "        \n",
    "        for i, theta in enumerate(thetas):\n",
    "            polarities = calc_link_polarities2(dcor_attributes[semm], theta)\n",
    "            pol_old = calc_link_polarities2(ord_attributes[semm], theta, 2)\n",
    "            \n",
    "            N = polarities.shape[0]\n",
    "            sames[i] = (np.sum(polarities == pol_old) - N)/2 / N/(N-1)*2\n",
    "        \n",
    "        axs[a1, a2].set_title(\"sem=\" + str(semm))\n",
    "        axs[a1,a2].plot(thetas, sames, 'ko')\n",
    "        # plt.plot(thetas, rand_bals_mean)\n",
    "\n",
    "for ax in axs.flat:\n",
    "    ax.set(xlabel='theta', ylabel='density of same links')\n",
    "\n",
    "# Hide x labels and tick labels for top plots and y ticks for right plots.\n",
    "for ax in axs.flat:\n",
    "    ax.label_outer()"
   ]
  },
  {
   "cell_type": "code",
   "execution_count": 425,
   "id": "nervous-cigarette",
   "metadata": {},
   "outputs": [
    {
     "data": {
      "text/plain": [
       "DegreeView({10060: 4, 85596: 10, 75261: 7, 71627: 2, 57637: 10, 66754: 6, 51552: 8, 23144: 13, 50869: 6, 25947: 6, 46160: 5, 46654: 2, 13799: 7, 86727: 4, 51722: 6, 59367: 2, 63188: 2, 68494: 6, 29914: 4, 15071: 4, 45539: 4, 46771: 5, 40997: 10, 53275: 6, 14188: 3, 17353: 2, 80058: 4, 30076: 4, 89827: 6, 37617: 2, 78911: 2, 62555: 4, 76313: 1, 50181: 1, 10841: 5, 72746: 2, 45945: 2, 26425: 2, 52067: 3, 34250: 2, 23642: 3, 66404: 6, 86352: 1, 16495: 6, 30952: 2, 19844: 1, 51597: 3, 52635: 2, 88175: 2, 75468: 2, 46021: 4, 66052: 2, 18420: 1, 68633: 2, 53884: 1, 32174: 1, 62560: 2, 25544: 5, 18344: 3, 39783: 2, 49597: 2, 44520: 2, 31583: 1})"
      ]
     },
     "execution_count": 425,
     "metadata": {},
     "output_type": "execute_result"
    }
   ],
   "source": [
    "data[6].degree"
   ]
  },
  {
   "cell_type": "code",
   "execution_count": 405,
   "id": "magnetic-stroke",
   "metadata": {},
   "outputs": [],
   "source": [
    "A = nx.adjacency_matrix(data[6]).todense()"
   ]
  },
  {
   "cell_type": "code",
   "execution_count": 406,
   "id": "excess-pharmacology",
   "metadata": {},
   "outputs": [
    {
     "data": {
      "text/plain": [
       "NodeView((10060, 85596, 75261, 71627, 57637, 66754, 51552, 23144, 50869, 25947, 46160, 46654, 13799, 86727, 51722, 59367, 63188, 68494, 29914, 15071, 45539, 46771, 40997, 53275, 14188, 17353, 80058, 30076, 89827, 37617, 78911, 62555, 76313, 50181, 10841, 72746, 45945, 26425, 52067, 34250, 23642, 66404, 86352, 16495, 30952, 19844, 51597, 52635, 88175, 75468, 46021, 66052, 18420, 68633, 53884, 32174, 62560, 25544, 18344, 39783, 49597, 44520, 31583))"
      ]
     },
     "execution_count": 406,
     "metadata": {},
     "output_type": "execute_result"
    }
   ],
   "source": [
    "data[6].nodes"
   ]
  },
  {
   "cell_type": "code",
   "execution_count": 430,
   "id": "colored-exposure",
   "metadata": {},
   "outputs": [],
   "source": [
    "degrees2 = [np.sum(A[:,i]>0) for i in range(0,len(data[6].nodes))]"
   ]
  },
  {
   "cell_type": "code",
   "execution_count": 437,
   "id": "patent-knitting",
   "metadata": {},
   "outputs": [
    {
     "data": {
      "text/plain": [
       "(63, 63)"
      ]
     },
     "execution_count": 437,
     "metadata": {},
     "output_type": "execute_result"
    }
   ],
   "source": [
    "len(degrees2), len(data[6].nodes)"
   ]
  },
  {
   "cell_type": "code",
   "execution_count": 440,
   "id": "tight-passport",
   "metadata": {},
   "outputs": [
    {
     "data": {
      "text/plain": [
       "array([10060, 10841, 13799, 14188, 15071, 16495, 17353, 18344, 18420,\n",
       "       19844, 23144, 23642, 25544, 25947, 26425, 29914, 30076, 30952,\n",
       "       31583, 32174, 34250, 37617, 39783, 40997, 44520, 45539, 45945,\n",
       "       46021, 46160, 46654, 46771, 49597, 50181, 50869, 51552, 51597,\n",
       "       51722, 52067, 52635, 53275, 53884, 57637, 59367, 62555, 62560,\n",
       "       63188, 66052, 66404, 66754, 68494, 68633, 71627, 72746, 75261,\n",
       "       75468, 76313, 78911, 80058, 85596, 86352, 86727, 88175, 89827])"
      ]
     },
     "execution_count": 440,
     "metadata": {},
     "output_type": "execute_result"
    }
   ],
   "source": [
    "np.sort(data[6].nodes)"
   ]
  },
  {
   "cell_type": "code",
   "execution_count": 463,
   "id": "fewer-onion",
   "metadata": {},
   "outputs": [
    {
     "data": {
      "text/plain": [
       "(1, 652)"
      ]
     },
     "execution_count": 463,
     "metadata": {},
     "output_type": "execute_result"
    }
   ],
   "source": [
    "np.sum(A[0,:]>0), np.sum(A[0,:])"
   ]
  },
  {
   "cell_type": "code",
   "execution_count": 452,
   "id": "solar-meeting",
   "metadata": {},
   "outputs": [
    {
     "data": {
      "text/plain": [
       "[51722, 85596]"
      ]
     },
     "execution_count": 452,
     "metadata": {},
     "output_type": "execute_result"
    }
   ],
   "source": [
    "list(data[6].neighbors(10060))"
   ]
  },
  {
   "cell_type": "code",
   "execution_count": 453,
   "id": "standing-cigarette",
   "metadata": {},
   "outputs": [
    {
     "data": {
      "text/plain": [
       "AtlasView(UnionAtlas({85596: {'weight': 638}, 51722: {'weight': 14}}, {85596: {'weight': 844}, 51722: {'weight': 16}}))"
      ]
     },
     "execution_count": 453,
     "metadata": {},
     "output_type": "execute_result"
    }
   ],
   "source": [
    "data[6][10060]"
   ]
  },
  {
   "cell_type": "code",
   "execution_count": 456,
   "id": "alternative-signal",
   "metadata": {},
   "outputs": [
    {
     "data": {
      "text/plain": [
       "([88175], AtlasView(UnionAtlas({}, {88175: {'weight': 1}})))"
      ]
     },
     "execution_count": 456,
     "metadata": {},
     "output_type": "execute_result"
    }
   ],
   "source": [
    "list(data[6].neighbors(31583)), data[6][31583]"
   ]
  },
  {
   "cell_type": "markdown",
   "id": "ambient-while",
   "metadata": {},
   "source": [
    "What we can see above is that this is in fact a directed network! But adjacency matrix is undirected. \n",
    "\n",
    "I will check whether the order of nodes is good. "
   ]
  },
  {
   "cell_type": "code",
   "execution_count": 466,
   "id": "successful-reset",
   "metadata": {},
   "outputs": [
    {
     "data": {
      "text/plain": [
       "(1, AtlasView(UnionAtlas({39783: {'weight': 6}}, {39783: {'weight': 5}})))"
      ]
     },
     "execution_count": 466,
     "metadata": {},
     "output_type": "execute_result"
    }
   ],
   "source": [
    "np.sum(A[-3,:]>0), data[6][49597]"
   ]
  },
  {
   "cell_type": "code",
   "execution_count": 458,
   "id": "internal-smith",
   "metadata": {},
   "outputs": [
    {
     "data": {
      "text/plain": [
       "False"
      ]
     },
     "execution_count": 458,
     "metadata": {},
     "output_type": "execute_result"
    }
   ],
   "source": [
    "nx.is_directed(data[6])"
   ]
  },
  {
   "cell_type": "code",
   "execution_count": 460,
   "id": "supported-beginning",
   "metadata": {},
   "outputs": [
    {
     "data": {
      "text/plain": [
       "[[10060],\n",
       " [85596],\n",
       " [75261],\n",
       " [71627],\n",
       " [57637],\n",
       " [66754],\n",
       " [51552],\n",
       " [23144],\n",
       " [50869],\n",
       " [25947],\n",
       " [46160],\n",
       " [46654],\n",
       " [13799],\n",
       " [86727],\n",
       " [51722],\n",
       " [59367],\n",
       " [63188],\n",
       " [68494],\n",
       " [29914],\n",
       " [15071],\n",
       " [45539],\n",
       " [46771],\n",
       " [40997],\n",
       " [53275],\n",
       " [14188],\n",
       " [17353],\n",
       " [80058],\n",
       " [30076],\n",
       " [89827],\n",
       " [37617],\n",
       " [78911],\n",
       " [62555],\n",
       " [76313],\n",
       " [50181],\n",
       " [10841],\n",
       " [72746],\n",
       " [45945],\n",
       " [26425],\n",
       " [52067],\n",
       " [34250],\n",
       " [23642],\n",
       " [66404],\n",
       " [86352],\n",
       " [16495],\n",
       " [30952],\n",
       " [19844],\n",
       " [51597],\n",
       " [52635],\n",
       " [88175],\n",
       " [75468],\n",
       " [46021],\n",
       " [66052],\n",
       " [18420],\n",
       " [68633],\n",
       " [53884],\n",
       " [32174],\n",
       " [62560],\n",
       " [25544],\n",
       " [18344],\n",
       " [39783],\n",
       " [49597],\n",
       " [44520],\n",
       " [31583],\n",
       " [10060, 85596],\n",
       " [10060, 51722],\n",
       " [85596, 50869],\n",
       " [85596, 51722],\n",
       " [85596, 68494],\n",
       " [85596, 37617],\n",
       " [75261, 71627],\n",
       " [75261, 46654],\n",
       " [75261, 66404],\n",
       " [75261, 62560],\n",
       " [57637, 66754],\n",
       " [57637, 51552],\n",
       " [57637, 23144],\n",
       " [57637, 89827],\n",
       " [57637, 25544],\n",
       " [66754, 51552],\n",
       " [66754, 89827],\n",
       " [51552, 23144],\n",
       " [51552, 89827],\n",
       " [23144, 50869],\n",
       " [23144, 46160],\n",
       " [23144, 26425],\n",
       " [23144, 52067],\n",
       " [23144, 23642],\n",
       " [23144, 32174],\n",
       " [50869, 13799],\n",
       " [25947, 46160],\n",
       " [25947, 59367],\n",
       " [25947, 34250],\n",
       " [46160, 23642],\n",
       " [13799, 86727],\n",
       " [13799, 45539],\n",
       " [13799, 62560],\n",
       " [86727, 45539],\n",
       " [51722, 78911],\n",
       " [63188, 68494],\n",
       " [68494, 16495],\n",
       " [29914, 15071],\n",
       " [29914, 46771],\n",
       " [15071, 46771],\n",
       " [46771, 19844],\n",
       " [40997, 53275],\n",
       " [40997, 10841],\n",
       " [40997, 86352],\n",
       " [40997, 52635],\n",
       " [40997, 46021],\n",
       " [40997, 18420],\n",
       " [53275, 10841],\n",
       " [53275, 68633],\n",
       " [53275, 53884],\n",
       " [14188, 17353],\n",
       " [14188, 16495],\n",
       " [80058, 30076],\n",
       " [80058, 66404],\n",
       " [30076, 66404],\n",
       " [62555, 76313],\n",
       " [62555, 50181],\n",
       " [62555, 66052],\n",
       " [10841, 68633],\n",
       " [72746, 45945],\n",
       " [52067, 51597],\n",
       " [16495, 30952],\n",
       " [16495, 88175],\n",
       " [51597, 25544],\n",
       " [88175, 31583],\n",
       " [75468, 46021],\n",
       " [25544, 18344],\n",
       " [18344, 44520],\n",
       " [39783, 49597],\n",
       " [10060, 85596, 51722],\n",
       " [57637, 66754, 51552],\n",
       " [57637, 66754, 89827],\n",
       " [57637, 51552, 23144],\n",
       " [57637, 51552, 89827],\n",
       " [66754, 51552, 89827],\n",
       " [23144, 46160, 23642],\n",
       " [13799, 86727, 45539],\n",
       " [29914, 15071, 46771],\n",
       " [40997, 53275, 10841],\n",
       " [53275, 10841, 68633],\n",
       " [80058, 30076, 66404],\n",
       " [57637, 66754, 51552, 89827]]"
      ]
     },
     "execution_count": 460,
     "metadata": {},
     "output_type": "execute_result"
    }
   ],
   "source": [
    "list(nx.enumerate_all_cliques(data[6]))"
   ]
  },
  {
   "cell_type": "code",
   "execution_count": 468,
   "id": "engaged-eugene",
   "metadata": {},
   "outputs": [
    {
     "data": {
      "text/plain": [
       "[(0, 1, 14),\n",
       " (4, 5, 6),\n",
       " (4, 5, 28),\n",
       " (4, 6, 7),\n",
       " (4, 6, 28),\n",
       " (5, 6, 28),\n",
       " (7, 10, 40),\n",
       " (12, 13, 20),\n",
       " (18, 19, 21),\n",
       " (22, 23, 34),\n",
       " (23, 34, 53),\n",
       " (26, 27, 41)]"
      ]
     },
     "execution_count": 468,
     "metadata": {},
     "output_type": "execute_result"
    }
   ],
   "source": [
    "get_triads(data[6])"
   ]
  },
  {
   "cell_type": "markdown",
   "id": "different-technician",
   "metadata": {},
   "source": [
    "OK, the order of nodes is correct. \n",
    "\n",
    "Now let's check how weights in adjacency matrix are correlated with the weights in nodes' attributes"
   ]
  },
  {
   "cell_type": "code",
   "execution_count": 476,
   "id": "remarkable-detroit",
   "metadata": {},
   "outputs": [
    {
     "data": {
      "text/plain": [
       "(AtlasView(UnionAtlas({85596: {'weight': 638}, 51722: {'weight': 14}}, {85596: {'weight': 844}, 51722: {'weight': 16}})),\n",
       " matrix([[  0, 638,   0,   0,   0,   0,   0,   0,   0,   0,   0,   0,   0,\n",
       "            0,  14,   0,   0,   0,   0,   0,   0,   0,   0,   0,   0,   0,\n",
       "            0,   0,   0,   0,   0,   0,   0,   0,   0,   0,   0,   0,   0,\n",
       "            0,   0,   0,   0,   0,   0,   0,   0,   0,   0,   0,   0,   0,\n",
       "            0,   0,   0,   0,   0,   0,   0,   0,   0,   0,   0]]))"
      ]
     },
     "execution_count": 476,
     "metadata": {},
     "output_type": "execute_result"
    }
   ],
   "source": [
    "data[6][10060], A[0,:]"
   ]
  },
  {
   "cell_type": "markdown",
   "id": "respiratory-gabriel",
   "metadata": {},
   "source": [
    "Adjacency matrix is symmetric. \n",
    "\n",
    "However, the weights are neither the maximum nor minimum weight of a weight i->j and j->i. \n",
    "Above is the example it is not the maximum (638, 844 -> 638). \n",
    "Also (14, 1 -> 14)\n"
   ]
  },
  {
   "cell_type": "code",
   "execution_count": 480,
   "id": "chemical-surveillance",
   "metadata": {},
   "outputs": [
    {
     "data": {
      "text/plain": [
       "(AtlasView(UnionAtlas({66754: {'weight': 123}, 51552: {'weight': 19}, 23144: {'weight': 86}, 89827: {'weight': 6}, 25544: {'weight': 6}}, {23144: {'weight': 72}, 66754: {'weight': 106}, 51552: {'weight': 13}, 89827: {'weight': 2}, 25544: {'weight': 8}})),\n",
       " matrix([[  0,   0,   0,   0,   0, 123,  19,  86,   0,   0,   0,   0,   0,\n",
       "            0,   0,   0,   0,   0,   0,   0,   0,   0,   0,   0,   0,   0,\n",
       "            0,   0,   6,   0,   0,   0,   0,   0,   0,   0,   0,   0,   0,\n",
       "            0,   0,   0,   0,   0,   0,   0,   0,   0,   0,   0,   0,   0,\n",
       "            0,   0,   0,   0,   0,   6,   0,   0,   0,   0,   0]]))"
      ]
     },
     "execution_count": 480,
     "metadata": {},
     "output_type": "execute_result"
    }
   ],
   "source": [
    "data[6][57637], A[4,:]"
   ]
  },
  {
   "cell_type": "markdown",
   "id": "considerable-window",
   "metadata": {},
   "source": [
    "It seems, that which value of weight is given is related to which node was entered first. "
   ]
  },
  {
   "cell_type": "code",
   "execution_count": 491,
   "id": "strong-twins",
   "metadata": {},
   "outputs": [
    {
     "data": {
      "text/plain": [
       "({'weight': 638},\n",
       " AtlasView(UnionAtlas({85596: {'weight': 638}, 51722: {'weight': 14}}, {85596: {'weight': 844}, 51722: {'weight': 16}})))"
      ]
     },
     "execution_count": 491,
     "metadata": {},
     "output_type": "execute_result"
    }
   ],
   "source": [
    "data_nodes = list(data[6].nodes)\n",
    "data[6][data_nodes[0]][85596], data[6][data_nodes[0]]"
   ]
  },
  {
   "cell_type": "code",
   "execution_count": 493,
   "id": "loaded-procurement",
   "metadata": {},
   "outputs": [
    {
     "data": {
      "text/plain": [
       "638"
      ]
     },
     "execution_count": 493,
     "metadata": {},
     "output_type": "execute_result"
    }
   ],
   "source": [
    "data[6][data_nodes[0]][85596]['weight']"
   ]
  },
  {
   "cell_type": "code",
   "execution_count": 577,
   "id": "spare-basic",
   "metadata": {},
   "outputs": [],
   "source": [
    "def create_directed_adj_mat(net):\n",
    "    A_undir = nx.adjacency_matrix(net).todense()\n",
    "    A_dir = np.zeros(A_undir.shape, dtype=int)\n",
    "    \n",
    "    data_nodes = list(net.nodes)\n",
    "    \n",
    "    for node_ind, node in enumerate(data_nodes):\n",
    "        for neigh in net[data_nodes[node_ind]]:\n",
    "            try:\n",
    "                neigh_ind = np.where(np.array(data_nodes) == neigh)[0][0]\n",
    "            except KeyError:\n",
    "                print(neigh)\n",
    "                print(np.array(data_nodes) == neigh)\n",
    "                print(data_nodes)\n",
    "                print(net[data_nodes[node_ind]])\n",
    "            try:\n",
    "                A_dir[node_ind,neigh_ind] = net[data_nodes[node_ind]][neigh]['weight']\n",
    "            except KeyError:\n",
    "                print(node_ind, neigh_ind)\n",
    "                print(net[data_nodes[node_ind]])\n",
    "                print(net[data_nodes[node_ind]][neigh_ind])\n",
    "                print(net[data_nodes[node_ind]][neigh_ind]['weight'])\n",
    "    return A_dir, A_undir\n",
    "\n",
    "\"\"\"\n",
    "This can find also directed triads. \n",
    "\"\"\"\n",
    "def get_triads_from_adj_mat(A):\n",
    "    N = A.shape[0]\n",
    "    \n",
    "    triads = dict()\n",
    "    for i in range(0,N):\n",
    "        for j in range(i+1,N):\n",
    "            if A[i,j] == 0:\n",
    "                continue\n",
    "            for k in range(j+1,N):\n",
    "                if A[j,k] > 0 and A[k,i] > 0:\n",
    "                    triads[(i,j,k)] = (A[i,j], A[j,k], A[k, i])\n",
    "    \n",
    "    for i in range(0,N):\n",
    "        for j in range(i+1,N):\n",
    "            if A[j,i] == 0:\n",
    "                continue\n",
    "            for k in range(j+1,N):\n",
    "                if A[k,j] > 0 and A[i,k] > 0:\n",
    "                    triads[(k,j,i)] = (A[k,j], A[j,i], A[i,k])\n",
    "    return triads\n",
    "\n",
    "def find_th_polarity_change(attr, agent1, agent2, sem, dif_max = max_dif3):\n",
    "    thresholds = np.linspace(0,1,101)\n",
    "    \n",
    "    beg_polarity = calc_link_polarity2(attr[sem][agent1], attr[sem][agent2], 0, dif_max)\n",
    "    \n",
    "    for th in thresholds:\n",
    "        polarity = calc_link_polarity2(attr[sem][agent1], attr[sem][agent2], th, dif_max)\n",
    "        if beg_polarity != polarity:\n",
    "            break\n",
    "        \n",
    "    return th\n",
    "    "
   ]
  },
  {
   "cell_type": "code",
   "execution_count": 558,
   "id": "otherwise-point",
   "metadata": {},
   "outputs": [],
   "source": [
    "A_dir, A_undir = create_directed_adj_mat(data[6])"
   ]
  },
  {
   "cell_type": "code",
   "execution_count": 559,
   "id": "documentary-williams",
   "metadata": {},
   "outputs": [
    {
     "data": {
      "text/plain": [
       "{(0, 1, 14): (638, 123, 16),\n",
       " (4, 5, 6): (123, 13, 13),\n",
       " (4, 5, 28): (123, 39, 2),\n",
       " (4, 6, 7): (19, 9, 72),\n",
       " (4, 6, 28): (19, 4, 2),\n",
       " (5, 6, 28): (13, 4, 25),\n",
       " (7, 10, 40): (1, 25, 1),\n",
       " (12, 13, 20): (16, 329, 7784),\n",
       " (18, 19, 21): (10, 2, 27),\n",
       " (22, 23, 34): (37, 18, 1),\n",
       " (23, 34, 53): (18, 4, 2),\n",
       " (26, 27, 41): (2, 115, 8),\n",
       " (14, 1, 0): (98, 844, 14),\n",
       " (6, 5, 4): (11, 106, 19),\n",
       " (28, 5, 4): (25, 106, 6),\n",
       " (7, 6, 4): (11, 13, 86),\n",
       " (28, 6, 4): (5, 13, 6),\n",
       " (28, 6, 5): (5, 11, 39),\n",
       " (40, 10, 7): (33, 1, 1),\n",
       " (20, 13, 12): (329, 10, 8604),\n",
       " (21, 19, 18): (7, 7, 21),\n",
       " (34, 23, 22): (10, 36, 1),\n",
       " (53, 34, 23): (4, 10, 2),\n",
       " (41, 27, 26): (101, 2, 6)}"
      ]
     },
     "execution_count": 559,
     "metadata": {},
     "output_type": "execute_result"
    }
   ],
   "source": [
    "triads = get_triads_from_adj_mat(A_dir)\n",
    "triads"
   ]
  },
  {
   "cell_type": "code",
   "execution_count": 562,
   "id": "comic-lesson",
   "metadata": {},
   "outputs": [],
   "source": [
    "sem = 6\n",
    "th = 0.4\n",
    "\n",
    "polarities = calc_link_polarities2(dcor_attributes[sem], th)\n",
    "pol_old = calc_link_polarities2(ord_attributes[sem], th, 2)"
   ]
  },
  {
   "cell_type": "code",
   "execution_count": 569,
   "id": "relative-segment",
   "metadata": {},
   "outputs": [
    {
     "data": {
      "text/plain": [
       "1.0"
      ]
     },
     "execution_count": 569,
     "metadata": {},
     "output_type": "execute_result"
    }
   ],
   "source": [
    "polarities[12,13]"
   ]
  },
  {
   "cell_type": "code",
   "execution_count": 614,
   "id": "chief-martial",
   "metadata": {},
   "outputs": [
    {
     "data": {
      "text/plain": [
       "(0.46, 0.25)"
      ]
     },
     "execution_count": 614,
     "metadata": {},
     "output_type": "execute_result"
    }
   ],
   "source": [
    "agent1 = 7\n",
    "agent2 = 40\n",
    "agent3 = 10\n",
    "find_th_polarity_change(dcor_attributes, agent1, agent2, sem), find_th_polarity_change(ord_attributes, agent1, agent2, sem, 2)"
   ]
  },
  {
   "cell_type": "code",
   "execution_count": 611,
   "id": "imposed-colonial",
   "metadata": {},
   "outputs": [
    {
     "name": "stdout",
     "output_type": "stream",
     "text": [
      "0.56\n"
     ]
    }
   ],
   "source": [
    "sem = 6\n",
    "attr = dcor_attributes\n",
    "agent1 = 40\n",
    "agent2= 10\n",
    "beg_polarity = calc_link_polarity2(attr[sem][agent1], attr[sem][agent2], 0)\n",
    "thresholds = np.linspace(0,1,101)\n",
    "for th in thresholds:\n",
    "    polarity = calc_link_polarity2(attr[sem][agent1], attr[sem][agent2], th)\n",
    "    if beg_polarity != polarity:\n",
    "        print(th)\n",
    "        break"
   ]
  },
  {
   "cell_type": "code",
   "execution_count": 605,
   "id": "simplified-directive",
   "metadata": {},
   "outputs": [
    {
     "data": {
      "text/plain": [
       "(array([-3.092,  0.259,  0.143,  0.064, -0.09 , -0.561, -0.934,  0.395]),\n",
       " array([-7.171,  0.974,  1.286,  0.951, -0.07 , -0.785,  0.362,  0.571]))"
      ]
     },
     "execution_count": 605,
     "metadata": {},
     "output_type": "execute_result"
    }
   ],
   "source": [
    "dcor_attributes[sem][agent1], dcor_attributes[sem][agent2]"
   ]
  },
  {
   "cell_type": "code",
   "execution_count": 616,
   "id": "quick-sigma",
   "metadata": {},
   "outputs": [
    {
     "data": {
      "text/plain": [
       "(0.45101236526255084, 0.5163075877959884, 0.5576475905238091)"
      ]
     },
     "execution_count": 616,
     "metadata": {},
     "output_type": "execute_result"
    }
   ],
   "source": [
    "agent1 = 7\n",
    "agent2 = 40\n",
    "agent3 = 10\n",
    "calc_distance(dcor_attributes[sem][agent1], dcor_attributes[sem][agent2], max_dif3), calc_distance(dcor_attributes[sem][agent1], dcor_attributes[sem][agent3], max_dif3),  calc_distance(dcor_attributes[sem][agent3], dcor_attributes[sem][agent2], max_dif3)"
   ]
  },
  {
   "cell_type": "markdown",
   "id": "junior-switch",
   "metadata": {},
   "source": [
    "Czemu losujemy tylko po agentach, którzy tworzą triady? Czy to ma sens?\n",
    "\n",
    "Agenci, którzy nie tworzą triad, może mają połączenia z innymi agentami, ale ich nie widzimy. Stąd jest sens ich nie brać. \n",
    "\n",
    "Ale jaki sens ma, że bierzemy jedną triadę ABC i triadę DEF, które są oderwane od reszty sieci i mieszamy agentów? \n",
    "\n",
    "Wychodzi, że atrybuty nie mają takiego znaczenia, jeśli chodzi o otrzymanie odpowiedniej równowagi. Ewentualnie, ja źle na nie patrzę. "
   ]
  },
  {
   "cell_type": "code",
   "execution_count": null,
   "id": "prompt-light",
   "metadata": {},
   "outputs": [],
   "source": []
  }
 ],
 "metadata": {
  "kernelspec": {
   "display_name": "Python 3",
   "language": "python",
   "name": "python3"
  },
  "language_info": {
   "codemirror_mode": {
    "name": "ipython",
    "version": 3
   },
   "file_extension": ".py",
   "mimetype": "text/x-python",
   "name": "python",
   "nbconvert_exporter": "python",
   "pygments_lexer": "ipython3",
   "version": "3.8.5"
  }
 },
 "nbformat": 4,
 "nbformat_minor": 5
}

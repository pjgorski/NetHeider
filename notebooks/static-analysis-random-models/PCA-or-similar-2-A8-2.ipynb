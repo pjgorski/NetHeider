{
 "cells": [
  {
   "cell_type": "code",
   "execution_count": 1,
   "id": "southeast-accused",
   "metadata": {},
   "outputs": [],
   "source": [
    "import pickle\n",
    "import networkx as nx\n",
    "import numpy as np\n",
    "import pandas as pd\n",
    "\n",
    "from scipy import stats\n",
    "\n",
    "import matplotlib.pyplot as plt\n",
    "\n",
    "from datetime import datetime\n",
    "\n",
    "import statsmodels.api as sm\n",
    "import pylab as py"
   ]
  },
  {
   "cell_type": "code",
   "execution_count": 2,
   "id": "realistic-syntax",
   "metadata": {},
   "outputs": [
    {
     "name": "stdout",
     "output_type": "stream",
     "text": [
      "Showing the pickled data:\n",
      "The data  0  is :  1\n",
      "The data  1  is :  2\n",
      "The data  2  is :  3\n",
      "The data  3  is :  4\n",
      "The data  4  is :  5\n",
      "The data  5  is :  6\n"
     ]
    }
   ],
   "source": [
    "file = open('NetSense_network.pkl', 'rb')\n",
    "# dump information to that file\n",
    "data = pickle.load(file)\n",
    "\n",
    "# close the file\n",
    "file.close()\n",
    "\n",
    "print('Showing the pickled data:')\n",
    "\n",
    "cnt = 0\n",
    "for item in data:\n",
    "    print('The data ', cnt, ' is : ', item)\n",
    "    cnt += 1"
   ]
  },
  {
   "cell_type": "code",
   "execution_count": 3,
   "id": "social-collection",
   "metadata": {},
   "outputs": [
    {
     "data": {
      "text/plain": [
       "1"
      ]
     },
     "execution_count": 3,
     "metadata": {},
     "output_type": "execute_result"
    }
   ],
   "source": [
    "data[6].nodes[75261]['hometown_1']"
   ]
  },
  {
   "cell_type": "code",
   "execution_count": 4,
   "id": "civil-fields",
   "metadata": {},
   "outputs": [
    {
     "data": {
      "image/png": "[encoded data removed]",
      "text/plain": [
       "<Figure size 432x288 with 1 Axes>"
      ]
     },
     "metadata": {},
     "output_type": "display_data"
    }
   ],
   "source": [
    "nx.draw(data[6])"
   ]
  },
  {
   "cell_type": "code",
   "execution_count": 5,
   "id": "sharing-england",
   "metadata": {},
   "outputs": [
    {
     "data": {
      "text/plain": [
       "NodeDataView({75178: {'age_1': 1, 'hometown_1': 1, 'ethnicity_1': 2, 'gender_1': 2, 'premaritalsex_': 3, 'euthanasia_': 3, 'deathpen_': 3, 'gaymarriage_': 3, 'marijuana_': 2, 'political_': 1, 'abortion_': 3, 'homosexual_': 3}, 30952: {'age_1': 1, 'hometown_1': 1, 'ethnicity_1': 2, 'gender_1': 2, 'premaritalsex_': 2, 'euthanasia_': 2, 'deathpen_': 2, 'gaymarriage_': 1, 'marijuana_': 3, 'political_': 1, 'abortion_': 2, 'homosexual_': 2}, 13116: {'age_1': 1, 'hometown_1': 1, 'ethnicity_1': 2, 'gender_1': 1, 'premaritalsex_': 3, 'euthanasia_': 3, 'deathpen_': 3, 'gaymarriage_': 3, 'marijuana_': 3, 'political_': 3, 'abortion_': 3, 'homosexual_': 1}, 62555: {'age_1': 2, 'hometown_1': 1, 'ethnicity_1': 2, 'gender_1': 1, 'premaritalsex_': 3, 'euthanasia_': 1, 'deathpen_': 1, 'gaymarriage_': 3, 'marijuana_': 2, 'political_': 3, 'abortion_': 3, 'homosexual_': 3}, 26999: {'age_1': 2, 'hometown_1': 1, 'ethnicity_1': 2, 'gender_1': 1, 'premaritalsex_': 3, 'euthanasia_': 1, 'deathpen_': 2, 'gaymarriage_': 2, 'marijuana_': 1, 'political_': 2, 'abortion_': 3, 'homosexual_': 3}, 10841: {'age_1': 1, 'hometown_1': 1, 'ethnicity_1': 4, 'gender_1': 2, 'premaritalsex_': 1, 'euthanasia_': 3, 'deathpen_': 1, 'gaymarriage_': 1, 'marijuana_': 1, 'political_': 2, 'abortion_': 1, 'homosexual_': 1}, 17353: {'age_1': 1, 'hometown_1': 1, 'ethnicity_1': 1, 'gender_1': 2, 'premaritalsex_': 1, 'euthanasia_': 1, 'deathpen_': 2, 'gaymarriage_': 2, 'marijuana_': 1, 'political_': 1, 'abortion_': 1, 'homosexual_': 2}, 86352: {'age_1': 2, 'hometown_1': 1, 'ethnicity_1': 3, 'gender_1': 1, 'premaritalsex_': 1, 'euthanasia_': 2, 'deathpen_': 2, 'gaymarriage_': 2, 'marijuana_': 3, 'political_': 2, 'abortion_': 2, 'homosexual_': 1}, 53275: {'age_1': 1, 'hometown_1': 1, 'ethnicity_1': 4, 'gender_1': 1, 'premaritalsex_': 3, 'euthanasia_': 3, 'deathpen_': 1, 'gaymarriage_': 3, 'marijuana_': 2, 'political_': 2, 'abortion_': 3, 'homosexual_': 3}, 77291: {'age_1': 1, 'hometown_1': 1, 'ethnicity_1': 1, 'gender_1': 2, 'premaritalsex_': 3, 'euthanasia_': 1, 'deathpen_': 1, 'gaymarriage_': 3, 'marijuana_': 3, 'political_': 3, 'abortion_': 1, 'homosexual_': 3}, 18394: {'age_1': 1, 'hometown_1': 2, 'ethnicity_1': 1, 'gender_1': 2, 'premaritalsex_': 1, 'euthanasia_': 3, 'deathpen_': 1, 'gaymarriage_': 1, 'marijuana_': 2, 'political_': 2, 'abortion_': 1, 'homosexual_': 1}, 36006: {'age_1': 1, 'hometown_1': 2, 'ethnicity_1': 1, 'gender_1': 1, 'premaritalsex_': 1, 'euthanasia_': 1, 'deathpen_': 1, 'gaymarriage_': 2, 'marijuana_': 1, 'political_': 1, 'abortion_': 1, 'homosexual_': 1}, 57637: {'age_1': 2, 'hometown_1': 1, 'ethnicity_1': 1, 'gender_1': 1, 'premaritalsex_': 3, 'euthanasia_': 2, 'deathpen_': 1, 'gaymarriage_': 3, 'marijuana_': 3, 'political_': 1, 'abortion_': 1, 'homosexual_': 3}, 71627: {'age_1': 2, 'hometown_1': 2, 'ethnicity_1': 1, 'gender_1': 2, 'premaritalsex_': 1, 'euthanasia_': 1, 'deathpen_': 1, 'gaymarriage_': 1, 'marijuana_': 3, 'political_': 1, 'abortion_': 1, 'homosexual_': 2}, 75261: {'age_1': 1, 'hometown_1': 1, 'ethnicity_1': 3, 'gender_1': 2, 'premaritalsex_': 3, 'euthanasia_': 3, 'deathpen_': 3, 'gaymarriage_': 3, 'marijuana_': 3, 'political_': 3, 'abortion_': 1, 'homosexual_': 3}, 19844: {'age_1': 2, 'hometown_1': 1, 'ethnicity_1': 1, 'gender_1': 1, 'premaritalsex_': 2, 'euthanasia_': 3, 'deathpen_': 1, 'gaymarriage_': 1, 'marijuana_': 2, 'political_': 1, 'abortion_': 1, 'homosexual_': 2}, 25323: {'age_1': 1, 'hometown_1': 1, 'ethnicity_1': 1, 'gender_1': 2, 'premaritalsex_': 3, 'euthanasia_': 2, 'deathpen_': 2, 'gaymarriage_': 1, 'marijuana_': 2, 'political_': 1, 'abortion_': 1, 'homosexual_': 1}, 40997: {'age_1': 1, 'hometown_1': 1, 'ethnicity_1': 4, 'gender_1': 1, 'premaritalsex_': 1, 'euthanasia_': 3, 'deathpen_': 3, 'gaymarriage_': 1, 'marijuana_': 3, 'political_': 1, 'abortion_': 1, 'homosexual_': 1}, 52635: {'age_1': 2, 'hometown_1': 1, 'ethnicity_1': 4, 'gender_1': 1, 'premaritalsex_': 2, 'euthanasia_': 3, 'deathpen_': 2, 'gaymarriage_': 3, 'marijuana_': 3, 'political_': 3, 'abortion_': 3, 'homosexual_': 3}, 45945: {'age_1': 1, 'hometown_1': 1, 'ethnicity_1': 1, 'gender_1': 1, 'premaritalsex_': 3, 'euthanasia_': 3, 'deathpen_': 1, 'gaymarriage_': 3, 'marijuana_': 3, 'political_': 1, 'abortion_': 1, 'homosexual_': 1}, 72746: {'age_1': 1, 'hometown_1': 3, 'ethnicity_1': 1, 'gender_1': 1, 'premaritalsex_': 3, 'euthanasia_': 3, 'deathpen_': 3, 'gaymarriage_': 3, 'marijuana_': 3, 'political_': 1, 'abortion_': 3, 'homosexual_': 3}, 15071: {'age_1': 2, 'hometown_1': 2, 'ethnicity_1': 1, 'gender_1': 1, 'premaritalsex_': 3, 'euthanasia_': 3, 'deathpen_': 1, 'gaymarriage_': 3, 'marijuana_': 3, 'political_': 3, 'abortion_': 3, 'homosexual_': 3}, 46771: {'age_1': 1, 'hometown_1': 1, 'ethnicity_1': 1, 'gender_1': 1, 'premaritalsex_': 3, 'euthanasia_': 3, 'deathpen_': 1, 'gaymarriage_': 3, 'marijuana_': 3, 'political_': 1, 'abortion_': 1, 'homosexual_': 3}, 29914: {'age_1': 1, 'hometown_1': 2, 'ethnicity_1': 1, 'gender_1': 1, 'premaritalsex_': 3, 'euthanasia_': 3, 'deathpen_': 1, 'gaymarriage_': 3, 'marijuana_': 3, 'political_': 3, 'abortion_': 3, 'homosexual_': 3}, 52067: {'age_1': 1, 'hometown_1': 3, 'ethnicity_1': 1, 'gender_1': 1, 'premaritalsex_': 3, 'euthanasia_': 2, 'deathpen_': 3, 'gaymarriage_': 3, 'marijuana_': 3, 'political_': 2, 'abortion_': 2, 'homosexual_': 3}, 37617: {'age_1': 1, 'hometown_1': 1, 'ethnicity_1': 1, 'gender_1': 2, 'premaritalsex_': 1, 'euthanasia_': 1, 'deathpen_': 1, 'gaymarriage_': 1, 'marijuana_': 2, 'political_': 1, 'abortion_': 1, 'homosexual_': 1}, 30076: {'age_1': 1, 'hometown_1': 2, 'ethnicity_1': 1, 'gender_1': 1, 'premaritalsex_': 1, 'euthanasia_': 3, 'deathpen_': 1, 'gaymarriage_': 2, 'marijuana_': 1, 'political_': 2, 'abortion_': 1, 'homosexual_': 1}, 71700: {'age_1': 2, 'hometown_1': 1, 'ethnicity_1': 3, 'gender_1': 2, 'premaritalsex_': 1, 'euthanasia_': 1, 'deathpen_': 2, 'gaymarriage_': 1, 'marijuana_': 2, 'political_': 1, 'abortion_': 1, 'homosexual_': 1}, 19066: {'age_1': 1, 'hometown_1': 1, 'ethnicity_1': 1, 'gender_1': 2, 'premaritalsex_': 2, 'euthanasia_': 1, 'deathpen_': 2, 'gaymarriage_': 3, 'marijuana_': 1, 'political_': 1, 'abortion_': 1, 'homosexual_': 1}, 51675: {'age_1': 1, 'hometown_1': 1, 'ethnicity_1': 1, 'gender_1': 2, 'premaritalsex_': 1, 'euthanasia_': 1, 'deathpen_': 1, 'gaymarriage_': 1, 'marijuana_': 2, 'political_': 2, 'abortion_': 1, 'homosexual_': 1}, 63188: {'age_1': 1, 'hometown_1': 1, 'ethnicity_1': 4, 'gender_1': 1, 'premaritalsex_': 1, 'euthanasia_': 1, 'deathpen_': 1, 'gaymarriage_': 1, 'marijuana_': 1, 'political_': 3, 'abortion_': 1, 'homosexual_': 1}, 79877: {'age_1': 1, 'hometown_1': 2, 'ethnicity_1': 4, 'gender_1': 1, 'premaritalsex_': 3, 'euthanasia_': 3, 'deathpen_': 1, 'gaymarriage_': 3, 'marijuana_': 3, 'political_': 3, 'abortion_': 3, 'homosexual_': 3}, 14106: {'age_1': 2, 'hometown_1': 3, 'ethnicity_1': 1, 'gender_1': 1, 'premaritalsex_': 3, 'euthanasia_': 3, 'deathpen_': 2, 'gaymarriage_': 3, 'marijuana_': 1, 'political_': 1, 'abortion_': 3, 'homosexual_': 3}, 76313: {'age_1': 2, 'hometown_1': 2, 'ethnicity_1': 1, 'gender_1': 1, 'premaritalsex_': 3, 'euthanasia_': 3, 'deathpen_': 2, 'gaymarriage_': 3, 'marijuana_': 3, 'political_': 3, 'abortion_': 1, 'homosexual_': 3}, 82282: {'age_1': 1, 'hometown_1': 1, 'ethnicity_1': 3, 'gender_1': 2, 'premaritalsex_': 1, 'euthanasia_': 3, 'deathpen_': 1, 'gaymarriage_': 3, 'marijuana_': 1, 'political_': 2, 'abortion_': 1, 'homosexual_': 3}, 85596: {'age_1': 1, 'hometown_1': 1, 'ethnicity_1': 1, 'gender_1': 2, 'premaritalsex_': 1, 'euthanasia_': 1, 'deathpen_': 1, 'gaymarriage_': 1, 'marijuana_': 1, 'political_': 1, 'abortion_': 1, 'homosexual_': 1}, 10060: {'age_1': 1, 'hometown_1': 2, 'ethnicity_1': 1, 'gender_1': 2, 'premaritalsex_': 1, 'euthanasia_': 3, 'deathpen_': 1, 'gaymarriage_': 3, 'marijuana_': 1, 'political_': 1, 'abortion_': 3, 'homosexual_': 3}, 75468: {'age_1': 1, 'hometown_1': 1, 'ethnicity_1': 1, 'gender_1': 1, 'premaritalsex_': 3, 'euthanasia_': 3, 'deathpen_': 1, 'gaymarriage_': 2, 'marijuana_': 3, 'political_': 2, 'abortion_': 3, 'homosexual_': 3}, 46021: {'age_1': 2, 'hometown_1': 1, 'ethnicity_1': 1, 'gender_1': 1, 'premaritalsex_': 3, 'euthanasia_': 3, 'deathpen_': 3, 'gaymarriage_': 3, 'marijuana_': 3, 'political_': 2, 'abortion_': 3, 'homosexual_': 3}, 23642: {'age_1': 1, 'hometown_1': 1, 'ethnicity_1': 1, 'gender_1': 2, 'premaritalsex_': 1, 'euthanasia_': 1, 'deathpen_': 3, 'gaymarriage_': 1, 'marijuana_': 1, 'political_': 1, 'abortion_': 1, 'homosexual_': 1}, 50869: {'age_1': 1, 'hometown_1': 2, 'ethnicity_1': 1, 'gender_1': 1, 'premaritalsex_': 1, 'euthanasia_': 3, 'deathpen_': 1, 'gaymarriage_': 1, 'marijuana_': 1, 'political_': 1, 'abortion_': 1, 'homosexual_': 1}, 68633: {'age_1': 1, 'hometown_1': 1, 'ethnicity_1': 4, 'gender_1': 2, 'premaritalsex_': 3, 'euthanasia_': 2, 'deathpen_': 1, 'gaymarriage_': 2, 'marijuana_': 1, 'political_': 2, 'abortion_': 1, 'homosexual_': 1}, 18420: {'age_1': 1, 'hometown_1': 1, 'ethnicity_1': 2, 'gender_1': 1, 'premaritalsex_': 2, 'euthanasia_': 1, 'deathpen_': 1, 'gaymarriage_': 3, 'marijuana_': 1, 'political_': 3, 'abortion_': 3, 'homosexual_': 3}, 68494: {'age_1': 1, 'hometown_1': 1, 'ethnicity_1': 4, 'gender_1': 2, 'premaritalsex_': 1, 'euthanasia_': 1, 'deathpen_': 1, 'gaymarriage_': 1, 'marijuana_': 1, 'political_': 1, 'abortion_': 1, 'homosexual_': 1}, 39783: {'age_1': 1, 'hometown_1': 2, 'ethnicity_1': 3, 'gender_1': 2, 'premaritalsex_': 1, 'euthanasia_': 2, 'deathpen_': 3, 'gaymarriage_': 1, 'marijuana_': 1, 'political_': 1, 'abortion_': 1, 'homosexual_': 1}, 21350: {'age_1': 1, 'hometown_1': 1, 'ethnicity_1': 1, 'gender_1': 2, 'premaritalsex_': 3, 'euthanasia_': 3, 'deathpen_': 2, 'gaymarriage_': 3, 'marijuana_': 3, 'political_': 3, 'abortion_': 3, 'homosexual_': 3}, 66404: {'age_1': 2, 'hometown_1': 2, 'ethnicity_1': 1, 'gender_1': 1, 'premaritalsex_': 3, 'euthanasia_': 3, 'deathpen_': 1, 'gaymarriage_': 1, 'marijuana_': 1, 'political_': 1, 'abortion_': 1, 'homosexual_': 1}, 85970: {'age_1': 1, 'hometown_1': 2, 'ethnicity_1': 1, 'gender_1': 2, 'premaritalsex_': 3, 'euthanasia_': 3, 'deathpen_': 1, 'gaymarriage_': 3, 'marijuana_': 1, 'political_': 1, 'abortion_': 1, 'homosexual_': 3}, 59367: {'age_1': 2, 'hometown_1': 2, 'ethnicity_1': 1, 'gender_1': 2, 'premaritalsex_': 3, 'euthanasia_': 3, 'deathpen_': 2, 'gaymarriage_': 3, 'marijuana_': 1, 'political_': 3, 'abortion_': 3, 'homosexual_': 3}, 13799: {'age_1': 2, 'hometown_1': 1, 'ethnicity_1': 1, 'gender_1': 2, 'premaritalsex_': 1, 'euthanasia_': 1, 'deathpen_': 1, 'gaymarriage_': 1, 'marijuana_': 1, 'political_': 1, 'abortion_': 1, 'homosexual_': 1}, 62560: {'age_1': 1, 'hometown_1': 1, 'ethnicity_1': 1, 'gender_1': 2, 'premaritalsex_': 3, 'euthanasia_': 3, 'deathpen_': 1, 'gaymarriage_': 3, 'marijuana_': 1, 'political_': 1, 'abortion_': 2, 'homosexual_': 3}, 16495: {'age_1': 2, 'hometown_1': 1, 'ethnicity_1': 1, 'gender_1': 2, 'premaritalsex_': 3, 'euthanasia_': 2, 'deathpen_': 2, 'gaymarriage_': 3, 'marijuana_': 3, 'political_': 3, 'abortion_': 3, 'homosexual_': 3}, 34853: {'age_1': 2, 'hometown_1': 1, 'ethnicity_1': 1, 'gender_1': 1, 'premaritalsex_': 3, 'euthanasia_': 3, 'deathpen_': 3, 'gaymarriage_': 3, 'marijuana_': 1, 'political_': 1, 'abortion_': 3, 'homosexual_': 3}, 67947: {'age_1': 2, 'hometown_1': 1, 'ethnicity_1': 2, 'gender_1': 1, 'premaritalsex_': 1, 'euthanasia_': 1, 'deathpen_': 1, 'gaymarriage_': 3, 'marijuana_': 1, 'political_': 1, 'abortion_': 1, 'homosexual_': 1}, 50709: {'age_1': 1, 'hometown_1': 1, 'ethnicity_1': 1, 'gender_1': 2, 'premaritalsex_': 3, 'euthanasia_': 2, 'deathpen_': 2, 'gaymarriage_': 3, 'marijuana_': 1, 'political_': 3, 'abortion_': 3, 'homosexual_': 3}, 70889: {'age_1': 1, 'hometown_1': 1, 'ethnicity_1': 1, 'gender_1': 2, 'premaritalsex_': 3, 'euthanasia_': 1, 'deathpen_': 3, 'gaymarriage_': 3, 'marijuana_': 1, 'political_': 3, 'abortion_': 3, 'homosexual_': 3}, 86727: {'age_1': 1, 'hometown_1': 1, 'ethnicity_1': 1, 'gender_1': 1, 'premaritalsex_': 1, 'euthanasia_': 2, 'deathpen_': 1, 'gaymarriage_': 1, 'marijuana_': 1, 'political_': 1, 'abortion_': 1, 'homosexual_': 1}, 45539: {'age_1': 2, 'hometown_1': 3, 'ethnicity_1': 1, 'gender_1': 1, 'premaritalsex_': 1, 'euthanasia_': 2, 'deathpen_': 1, 'gaymarriage_': 1, 'marijuana_': 1, 'political_': 1, 'abortion_': 1, 'homosexual_': 1}, 14188: {'age_1': 1, 'hometown_1': 3, 'ethnicity_1': 1, 'gender_1': 2, 'premaritalsex_': 3, 'euthanasia_': 3, 'deathpen_': 2, 'gaymarriage_': 3, 'marijuana_': 1, 'political_': 3, 'abortion_': 3, 'homosexual_': 3}, 89827: {'age_1': 2, 'hometown_1': 1, 'ethnicity_1': 1, 'gender_1': 1, 'premaritalsex_': 3, 'euthanasia_': 3, 'deathpen_': 2, 'gaymarriage_': 3, 'marijuana_': 2, 'political_': 3, 'abortion_': 3, 'homosexual_': 3}, 11692: {'age_1': 1, 'hometown_1': 1, 'ethnicity_1': 1, 'gender_1': 1, 'premaritalsex_': 3, 'euthanasia_': 3, 'deathpen_': 1, 'gaymarriage_': 1, 'marijuana_': 3, 'political_': 3, 'abortion_': 1, 'homosexual_': 1}, 82060: {'age_1': 2, 'hometown_1': 1, 'ethnicity_1': 4, 'gender_1': 1, 'premaritalsex_': 1, 'euthanasia_': 1, 'deathpen_': 1, 'gaymarriage_': 2, 'marijuana_': 1, 'political_': 1, 'abortion_': 1, 'homosexual_': 1}, 66754: {'age_1': 2, 'hometown_1': 2, 'ethnicity_1': 1, 'gender_1': 1, 'premaritalsex_': 3, 'euthanasia_': 2, 'deathpen_': 1, 'gaymarriage_': 2, 'marijuana_': 3, 'political_': 2, 'abortion_': 3, 'homosexual_': 2}, 66245: {'age_1': 1, 'hometown_1': 2, 'ethnicity_1': 3, 'gender_1': 2, 'premaritalsex_': 3, 'euthanasia_': 1, 'deathpen_': 1, 'gaymarriage_': 3, 'marijuana_': 1, 'political_': 3, 'abortion_': 1, 'homosexual_': 3}, 46654: {'age_1': 1, 'hometown_1': 1, 'ethnicity_1': 3, 'gender_1': 2, 'premaritalsex_': 3, 'euthanasia_': 1, 'deathpen_': 1, 'gaymarriage_': 1, 'marijuana_': 1, 'political_': 3, 'abortion_': 1, 'homosexual_': 1}, 32174: {'age_1': 1, 'hometown_1': 1, 'ethnicity_1': 1, 'gender_1': 1, 'premaritalsex_': 3, 'euthanasia_': 2, 'deathpen_': 1, 'gaymarriage_': 3, 'marijuana_': 3, 'political_': 3, 'abortion_': 1, 'homosexual_': 3}, 58909: {'age_1': 1, 'hometown_1': 1, 'ethnicity_1': 1, 'gender_1': 2, 'premaritalsex_': 3, 'euthanasia_': 3, 'deathpen_': 1, 'gaymarriage_': 3, 'marijuana_': 2, 'political_': 2, 'abortion_': 1, 'homosexual_': 3}, 25947: {'age_1': 1, 'hometown_1': 2, 'ethnicity_1': 1, 'gender_1': 1, 'premaritalsex_': 3, 'euthanasia_': 2, 'deathpen_': 1, 'gaymarriage_': 3, 'marijuana_': 1, 'political_': 1, 'abortion_': 1, 'homosexual_': 3}, 34250: {'age_1': 1, 'hometown_1': 2, 'ethnicity_1': 1, 'gender_1': 1, 'premaritalsex_': 3, 'euthanasia_': 3, 'deathpen_': 2, 'gaymarriage_': 2, 'marijuana_': 1, 'political_': 1, 'abortion_': 1, 'homosexual_': 1}, 18344: {'age_1': 1, 'hometown_1': 2, 'ethnicity_1': 4, 'gender_1': 2, 'premaritalsex_': 3, 'euthanasia_': 2, 'deathpen_': 2, 'gaymarriage_': 2, 'marijuana_': 2, 'political_': 2, 'abortion_': 2, 'homosexual_': 2}, 38823: {'age_1': 2, 'hometown_1': 2, 'ethnicity_1': 1, 'gender_1': 1, 'premaritalsex_': 3, 'euthanasia_': 1, 'deathpen_': 3, 'gaymarriage_': 1, 'marijuana_': 1, 'political_': 1, 'abortion_': 1, 'homosexual_': 1}, 22745: {'age_1': 2, 'hometown_1': 1, 'ethnicity_1': 4, 'gender_1': 2, 'premaritalsex_': 3, 'euthanasia_': 3, 'deathpen_': 1, 'gaymarriage_': 3, 'marijuana_': 3, 'political_': 3, 'abortion_': 3, 'homosexual_': 3}, 26127: {'age_1': 1, 'hometown_1': 1, 'ethnicity_1': 3, 'gender_1': 2, 'premaritalsex_': 1, 'euthanasia_': 2, 'deathpen_': 1, 'gaymarriage_': 1, 'marijuana_': 2, 'political_': 1, 'abortion_': 1, 'homosexual_': 1}, 38893: {'age_1': 2, 'hometown_1': 2, 'ethnicity_1': 1, 'gender_1': 2, 'premaritalsex_': 3, 'euthanasia_': 2, 'deathpen_': 3, 'gaymarriage_': 2, 'marijuana_': 1, 'political_': 1, 'abortion_': 1, 'homosexual_': 3}, 31372: {'age_1': 1, 'hometown_1': 1, 'ethnicity_1': 1, 'gender_1': 1, 'premaritalsex_': 3, 'euthanasia_': 3, 'deathpen_': 3, 'gaymarriage_': 2, 'marijuana_': 1, 'political_': 1, 'abortion_': 3, 'homosexual_': 3}, 68533: {'age_1': 1, 'hometown_1': 1, 'ethnicity_1': 1, 'gender_1': 1, 'premaritalsex_': 3, 'euthanasia_': 3, 'deathpen_': 2, 'gaymarriage_': 1, 'marijuana_': 1, 'political_': 1, 'abortion_': 1, 'homosexual_': 1}, 31583: {'age_1': 1, 'hometown_1': 2, 'ethnicity_1': 1, 'gender_1': 2, 'premaritalsex_': 3, 'euthanasia_': 1, 'deathpen_': 1, 'gaymarriage_': 1, 'marijuana_': 1, 'political_': 1, 'abortion_': 1, 'homosexual_': 3}, 49597: {'age_1': 1, 'hometown_1': 1, 'ethnicity_1': 4, 'gender_1': 1, 'premaritalsex_': 3, 'euthanasia_': 3, 'deathpen_': 3, 'gaymarriage_': 3, 'marijuana_': 1, 'political_': 3, 'abortion_': 3, 'homosexual_': 3}, 73303: {'age_1': 1, 'hometown_1': 1, 'ethnicity_1': 1, 'gender_1': 1, 'premaritalsex_': 3, 'euthanasia_': 2, 'deathpen_': 2, 'gaymarriage_': 3, 'marijuana_': 3, 'political_': 2, 'abortion_': 2, 'homosexual_': 3}, 46160: {'age_1': 1, 'hometown_1': 1, 'ethnicity_1': 1, 'gender_1': 2, 'premaritalsex_': 1, 'euthanasia_': 1, 'deathpen_': 1, 'gaymarriage_': 3, 'marijuana_': 1, 'political_': 1, 'abortion_': 1, 'homosexual_': 1}, 25544: {'age_1': 1, 'hometown_1': 1, 'ethnicity_1': 2, 'gender_1': 2, 'premaritalsex_': 1, 'euthanasia_': 3, 'deathpen_': 2, 'gaymarriage_': 3, 'marijuana_': 1, 'political_': 1, 'abortion_': 1, 'homosexual_': 1}, 51597: {'age_1': 1, 'hometown_1': 2, 'ethnicity_1': 1, 'gender_1': 1, 'premaritalsex_': 1, 'euthanasia_': 3, 'deathpen_': 2, 'gaymarriage_': 1, 'marijuana_': 1, 'political_': 1, 'abortion_': 1, 'homosexual_': 1}, 49294: {'age_1': 1, 'hometown_1': 2, 'ethnicity_1': 1, 'gender_1': 1, 'premaritalsex_': 1, 'euthanasia_': 2, 'deathpen_': 1, 'gaymarriage_': 1, 'marijuana_': 1, 'political_': 1, 'abortion_': 1, 'homosexual_': 1}, 51722: {'age_1': 1, 'hometown_1': 1, 'ethnicity_1': 1, 'gender_1': 2, 'premaritalsex_': 2, 'euthanasia_': 2, 'deathpen_': 2, 'gaymarriage_': 3, 'marijuana_': 2, 'political_': 2, 'abortion_': 1, 'homosexual_': 3}, 66052: {'age_1': 1, 'hometown_1': 1, 'ethnicity_1': 2, 'gender_1': 2, 'premaritalsex_': 3, 'euthanasia_': 3, 'deathpen_': 3, 'gaymarriage_': 2, 'marijuana_': 2, 'political_': 3, 'abortion_': 3, 'homosexual_': 3}, 53884: {'age_1': 1, 'hometown_1': 2, 'ethnicity_1': 1, 'gender_1': 1, 'premaritalsex_': 1, 'euthanasia_': 1, 'deathpen_': 1, 'gaymarriage_': 1, 'marijuana_': 1, 'political_': 1, 'abortion_': 1, 'homosexual_': 1}, 51552: {'age_1': 1, 'hometown_1': 1, 'ethnicity_1': 1, 'gender_1': 1, 'premaritalsex_': 3, 'euthanasia_': 3, 'deathpen_': 1, 'gaymarriage_': 1, 'marijuana_': 1, 'political_': 1, 'abortion_': 3, 'homosexual_': 3}, 80058: {'age_1': 1, 'hometown_1': 2, 'ethnicity_1': 1, 'gender_1': 1, 'premaritalsex_': 3, 'euthanasia_': 3, 'deathpen_': 1, 'gaymarriage_': 3, 'marijuana_': 2, 'political_': 3, 'abortion_': 1, 'homosexual_': 3}, 10281: {'age_1': 1, 'hometown_1': 1, 'ethnicity_1': 4, 'gender_1': 1, 'premaritalsex_': 3, 'euthanasia_': 1, 'deathpen_': 3, 'gaymarriage_': 1, 'marijuana_': 1, 'political_': 1, 'abortion_': 1, 'homosexual_': 1}, 45292: {'age_1': 1, 'hometown_1': 1, 'ethnicity_1': 1, 'gender_1': 2, 'premaritalsex_': 3, 'euthanasia_': 1, 'deathpen_': 2, 'gaymarriage_': 3, 'marijuana_': 3, 'political_': 3, 'abortion_': 3, 'homosexual_': 3}, 32899: {'age_1': 2, 'hometown_1': 1, 'ethnicity_1': 2, 'gender_1': 1, 'premaritalsex_': 1, 'euthanasia_': 1, 'deathpen_': 1, 'gaymarriage_': 2, 'marijuana_': 1, 'political_': 2, 'abortion_': 1, 'homosexual_': 2}, 26425: {'age_1': 1, 'hometown_1': 1, 'ethnicity_1': 1, 'gender_1': 1, 'premaritalsex_': 1, 'euthanasia_': 1, 'deathpen_': 1, 'gaymarriage_': 1, 'marijuana_': 2, 'political_': 1, 'abortion_': 1, 'homosexual_': 1}, 78911: {'age_1': 1, 'hometown_1': 2, 'ethnicity_1': 1, 'gender_1': 2, 'premaritalsex_': 3, 'euthanasia_': 3, 'deathpen_': 3, 'gaymarriage_': 3, 'marijuana_': 2, 'political_': 1, 'abortion_': 1, 'homosexual_': 3}, 23144: {'age_1': 1, 'hometown_1': 2, 'ethnicity_1': 1, 'gender_1': 1, 'premaritalsex_': 3, 'euthanasia_': 3, 'deathpen_': 3, 'gaymarriage_': 1, 'marijuana_': 1, 'political_': 1, 'abortion_': 1, 'homosexual_': 1}, 44520: {'age_1': 1, 'hometown_1': 1, 'ethnicity_1': 2, 'gender_1': 2, 'premaritalsex_': 3, 'euthanasia_': 3, 'deathpen_': 3, 'gaymarriage_': 1, 'marijuana_': 3, 'political_': 3, 'abortion_': 3, 'homosexual_': 3}, 50181: {'age_1': 2, 'hometown_1': 1, 'ethnicity_1': 4, 'gender_1': 1, 'premaritalsex_': 3, 'euthanasia_': 2, 'deathpen_': 2, 'gaymarriage_': 1, 'marijuana_': 1, 'political_': 2, 'abortion_': 1, 'homosexual_': 1}, 88175: {'age_1': 2, 'hometown_1': 3, 'ethnicity_1': 1, 'gender_1': 2, 'premaritalsex_': 1, 'euthanasia_': 2, 'deathpen_': 1, 'gaymarriage_': 2, 'marijuana_': 1, 'political_': 1, 'abortion_': 1, 'homosexual_': 1}, 63063: {'age_1': 2, 'hometown_1': 1, 'ethnicity_1': 1, 'gender_1': 1, 'premaritalsex_': 3, 'euthanasia_': 3, 'deathpen_': 1, 'gaymarriage_': 3, 'marijuana_': 3, 'political_': 2, 'abortion_': 3, 'homosexual_': 3}})"
      ]
     },
     "execution_count": 5,
     "metadata": {},
     "output_type": "execute_result"
    }
   ],
   "source": [
    "data[1].nodes.data()"
   ]
  },
  {
   "cell_type": "code",
   "execution_count": 6,
   "id": "existing-keyboard",
   "metadata": {},
   "outputs": [
    {
     "data": {
      "text/plain": [
       "{'age_1': {1, 2},\n",
       " 'deathpen_': {1, 2, 3},\n",
       " 'hometown_1': {1, 2, 3},\n",
       " 'political_': {1, 2, 3},\n",
       " 'homosexual_': {1, 2, 3},\n",
       " 'marijuana_': {1, 2, 3},\n",
       " 'gaymarriage_': {1, 2, 3},\n",
       " 'ethnicity_1': {1, 2, 3, 4},\n",
       " 'abortion_': {1, 2, 3},\n",
       " 'euthanasia_': {1, 2, 3},\n",
       " 'gender_1': {1, 2},\n",
       " 'premaritalsex_': {1, 2, 3}}"
      ]
     },
     "execution_count": 6,
     "metadata": {},
     "output_type": "execute_result"
    }
   ],
   "source": [
    "#creating list of attributes\n",
    "list_of_attributes = set([k for n in data[1].nodes for k in data[1].nodes[n].keys()])\n",
    "\n",
    "#creating possible attribute values\n",
    "attribute_values = dict((attribute, set() ) for attribute in list_of_attributes)\n",
    "\n",
    "for sem in range(1,7):\n",
    "    for node in data[sem].nodes():\n",
    "        for attribute in list_of_attributes:\n",
    "            attribute_values[attribute].add(data[sem].nodes[node][attribute])\n",
    "\n",
    "attribute_values\n",
    "\n",
    "#To apply PCA or other analysis on all attributes (i.e. including ethnicity) \n",
    "#one would have to create an attribute for each race, that is is_1, is_2 etc. \n",
    "#Because this attribute is not ordered. "
   ]
  },
  {
   "cell_type": "code",
   "execution_count": 7,
   "id": "functioning-valuable",
   "metadata": {},
   "outputs": [],
   "source": [
    "#creating table of attribute values\n",
    "attributes = dict((i, 0) for i in range(1,7))\n",
    "for i in range(1,7):\n",
    "    attributes[i] = np.zeros([len(data[i].nodes), len(list_of_attributes)])\n",
    "\n",
    "for sem in range(1,7):\n",
    "    for i, node in enumerate(data[sem].nodes()):\n",
    "        for j, attribute in enumerate(list_of_attributes):\n",
    "            attributes[sem][i,j] = data[sem].nodes[node][attribute]"
   ]
  },
  {
   "cell_type": "code",
   "execution_count": 8,
   "id": "magnetic-leeds",
   "metadata": {},
   "outputs": [
    {
     "data": {
      "text/plain": [
       "{1: array([[1., 3., 1., ..., 3., 2., 3.],\n",
       "        [1., 2., 1., ..., 2., 2., 2.],\n",
       "        [1., 3., 1., ..., 3., 1., 3.],\n",
       "        ...,\n",
       "        [2., 2., 1., ..., 2., 1., 3.],\n",
       "        [2., 1., 3., ..., 2., 2., 1.],\n",
       "        [2., 1., 1., ..., 3., 1., 3.]]),\n",
       " 2: array([[2., 1., 3., ..., 3., 1., 1.],\n",
       "        [2., 1., 1., ..., 1., 2., 1.],\n",
       "        [1., 2., 1., ..., 3., 2., 3.],\n",
       "        ...,\n",
       "        [1., 2., 1., ..., 1., 2., 3.],\n",
       "        [1., 3., 2., ..., 3., 1., 3.],\n",
       "        [1., 1., 1., ..., 2., 2., 2.]]),\n",
       " 3: array([[1., 1., 2., 2., 3., 1., 3., 1., 3., 3., 2., 3.],\n",
       "        [1., 1., 1., 1., 1., 1., 1., 1., 1., 1., 2., 1.],\n",
       "        [2., 1., 2., 2., 1., 3., 2., 1., 1., 1., 2., 1.],\n",
       "        [1., 3., 1., 3., 3., 3., 3., 3., 1., 3., 2., 3.],\n",
       "        [2., 1., 1., 1., 3., 2., 3., 1., 3., 3., 1., 3.],\n",
       "        [1., 1., 1., 2., 1., 1., 3., 2., 3., 3., 2., 1.],\n",
       "        [1., 1., 2., 1., 3., 2., 3., 1., 1., 2., 1., 3.],\n",
       "        [2., 1., 2., 3., 3., 1., 3., 1., 3., 2., 2., 3.],\n",
       "        [1., 1., 1., 1., 3., 1., 1., 1., 1., 1., 1., 1.],\n",
       "        [2., 1., 1., 1., 1., 1., 1., 1., 1., 1., 2., 1.],\n",
       "        [1., 2., 1., 1., 2., 1., 3., 1., 2., 3., 2., 3.],\n",
       "        [1., 1., 2., 1., 3., 1., 1., 1., 1., 1., 2., 3.],\n",
       "        [1., 3., 1., 1., 1., 1., 1., 1., 1., 2., 2., 1.],\n",
       "        [1., 1., 1., 1., 1., 3., 3., 1., 1., 1., 2., 1.],\n",
       "        [1., 3., 1., 1., 1., 3., 2., 4., 1., 3., 1., 3.],\n",
       "        [1., 1., 1., 3., 3., 3., 3., 4., 3., 3., 1., 3.],\n",
       "        [1., 1., 1., 2., 3., 3., 3., 1., 1., 2., 2., 3.],\n",
       "        [1., 1., 2., 3., 3., 3., 3., 1., 3., 3., 1., 3.],\n",
       "        [1., 1., 1., 1., 2., 3., 2., 1., 1., 1., 1., 1.],\n",
       "        [1., 1., 2., 3., 3., 2., 3., 4., 3., 3., 1., 3.],\n",
       "        [1., 1., 1., 3., 3., 1., 3., 4., 1., 2., 1., 1.],\n",
       "        [1., 1., 1., 1., 3., 1., 1., 1., 1., 1., 2., 1.],\n",
       "        [2., 2., 1., 3., 3., 3., 3., 1., 2., 3., 2., 3.],\n",
       "        [1., 1., 1., 1., 2., 1., 2., 4., 1., 1., 2., 1.],\n",
       "        [2., 1., 1., 3., 3., 2., 3., 2., 3., 3., 1., 3.],\n",
       "        [2., 1., 1., 2., 2., 3., 2., 4., 1., 2., 1., 3.],\n",
       "        [2., 1., 1., 3., 3., 2., 3., 1., 1., 2., 1., 3.],\n",
       "        [1., 2., 1., 1., 2., 2., 2., 1., 1., 2., 2., 1.],\n",
       "        [1., 1., 2., 2., 3., 2., 3., 1., 1., 1., 2., 3.],\n",
       "        [2., 1., 2., 3., 3., 3., 3., 1., 3., 2., 1., 3.],\n",
       "        [2., 2., 1., 3., 3., 3., 3., 1., 3., 2., 1., 3.],\n",
       "        [2., 2., 2., 2., 3., 3., 2., 1., 2., 3., 1., 2.],\n",
       "        [2., 1., 1., 2., 3., 3., 3., 1., 1., 1., 1., 3.],\n",
       "        [2., 2., 1., 2., 1., 3., 1., 3., 1., 2., 1., 1.],\n",
       "        [1., 3., 2., 1., 2., 1., 3., 1., 1., 3., 2., 2.],\n",
       "        [2., 3., 2., 1., 3., 1., 2., 1., 1., 1., 2., 3.],\n",
       "        [1., 1., 1., 1., 2., 1., 1., 3., 1., 1., 2., 1.],\n",
       "        [1., 1., 1., 1., 1., 3., 3., 1., 1., 1., 1., 3.],\n",
       "        [1., 3., 3., 1., 3., 3., 3., 1., 3., 3., 1., 3.],\n",
       "        [1., 3., 1., 1., 3., 1., 3., 2., 3., 3., 2., 3.],\n",
       "        [1., 2., 1., 1., 2., 1., 1., 2., 1., 1., 2., 1.],\n",
       "        [1., 3., 2., 1., 1., 1., 1., 1., 1., 3., 1., 3.],\n",
       "        [2., 2., 1., 3., 3., 2., 3., 4., 2., 3., 1., 2.],\n",
       "        [1., 1., 2., 3., 1., 1., 3., 1., 2., 1., 1., 1.],\n",
       "        [1., 1., 1., 3., 3., 1., 3., 1., 1., 3., 1., 3.],\n",
       "        [1., 1., 1., 2., 1., 1., 1., 4., 1., 1., 2., 1.],\n",
       "        [1., 1., 1., 2., 3., 1., 3., 2., 3., 1., 1., 3.],\n",
       "        [1., 2., 2., 2., 2., 2., 2., 4., 2., 2., 2., 2.],\n",
       "        [2., 1., 3., 1., 1., 1., 1., 1., 1., 3., 1., 1.],\n",
       "        [1., 1., 1., 3., 3., 3., 3., 3., 3., 3., 2., 3.],\n",
       "        [1., 1., 1., 1., 3., 3., 1., 1., 3., 3., 1., 3.],\n",
       "        [1., 1., 1., 2., 3., 1., 3., 1., 1., 1., 2., 3.],\n",
       "        [1., 1., 3., 3., 3., 1., 3., 1., 3., 3., 2., 3.],\n",
       "        [1., 3., 2., 1., 1., 1., 1., 1., 1., 3., 1., 1.],\n",
       "        [1., 1., 2., 1., 1., 2., 2., 1., 1., 2., 1., 1.],\n",
       "        [2., 3., 2., 1., 1., 1., 1., 1., 1., 1., 1., 1.],\n",
       "        [2., 1., 1., 2., 3., 3., 3., 1., 1., 3., 1., 3.],\n",
       "        [2., 1., 1., 1., 2., 2., 2., 4., 1., 2., 1., 1.],\n",
       "        [1., 1., 1., 2., 1., 1., 1., 1., 1., 2., 1., 1.],\n",
       "        [2., 1., 1., 1., 1., 1., 2., 2., 1., 3., 1., 3.],\n",
       "        [1., 1., 2., 3., 3., 2., 3., 1., 3., 3., 1., 3.],\n",
       "        [1., 1., 2., 1., 1., 1., 1., 1., 1., 3., 1., 1.],\n",
       "        [1., 1., 1., 1., 3., 2., 3., 1., 1., 2., 2., 3.],\n",
       "        [1., 1., 2., 2., 3., 3., 3., 1., 1., 1., 1., 3.],\n",
       "        [2., 2., 2., 1., 2., 3., 2., 1., 1., 2., 1., 3.],\n",
       "        [1., 2., 1., 2., 3., 3., 3., 1., 1., 3., 1., 3.],\n",
       "        [1., 1., 1., 2., 3., 1., 3., 4., 3., 1., 1., 1.],\n",
       "        [1., 2., 2., 1., 1., 1., 1., 3., 1., 2., 2., 1.]]),\n",
       " 4: array([[2., 1., 3., ..., 2., 1., 1.],\n",
       "        [2., 1., 1., ..., 1., 2., 1.],\n",
       "        [2., 1., 1., ..., 1., 1., 3.],\n",
       "        ...,\n",
       "        [1., 1., 1., ..., 2., 2., 3.],\n",
       "        [1., 2., 2., ..., 3., 2., 3.],\n",
       "        [1., 1., 1., ..., 2., 1., 1.]]),\n",
       " 5: array([[1., 1., 1., ..., 2., 1., 2.],\n",
       "        [1., 2., 1., ..., 2., 2., 3.],\n",
       "        [1., 2., 2., ..., 2., 1., 3.],\n",
       "        ...,\n",
       "        [2., 1., 1., ..., 2., 1., 3.],\n",
       "        [1., 1., 1., ..., 2., 2., 3.],\n",
       "        [2., 1., 1., ..., 3., 1., 3.]]),\n",
       " 6: array([[1., 1., 2., 1., 3., 3., 3., 1., 3., 3., 2., 3.],\n",
       "        [1., 1., 1., 1., 1., 1., 2., 1., 1., 1., 2., 1.],\n",
       "        [1., 3., 1., 3., 3., 3., 3., 3., 1., 3., 2., 3.],\n",
       "        [2., 1., 2., 1., 3., 1., 2., 1., 1., 1., 2., 1.],\n",
       "        [2., 1., 1., 3., 3., 3., 3., 1., 3., 3., 1., 3.],\n",
       "        [2., 2., 2., 2., 3., 3., 3., 1., 2., 3., 1., 3.],\n",
       "        [1., 1., 1., 1., 3., 3., 3., 1., 3., 3., 1., 3.],\n",
       "        [1., 3., 2., 1., 1., 1., 1., 1., 1., 3., 1., 3.],\n",
       "        [1., 1., 2., 1., 1., 1., 1., 1., 1., 3., 1., 1.],\n",
       "        [1., 1., 2., 1., 3., 2., 3., 1., 1., 2., 1., 2.],\n",
       "        [1., 1., 1., 1., 1., 3., 3., 1., 1., 1., 2., 1.],\n",
       "        [1., 2., 1., 3., 3., 2., 3., 3., 3., 2., 2., 3.],\n",
       "        [2., 1., 1., 1., 1., 1., 1., 1., 1., 1., 2., 1.],\n",
       "        [1., 1., 1., 1., 1., 1., 1., 1., 1., 1., 1., 1.],\n",
       "        [1., 1., 1., 2., 3., 3., 3., 1., 1., 2., 2., 3.],\n",
       "        [2., 1., 2., 3., 3., 2., 3., 1., 3., 2., 2., 3.],\n",
       "        [1., 1., 1., 3., 3., 2., 3., 4., 1., 3., 1., 2.],\n",
       "        [1., 1., 1., 2., 2., 1., 2., 4., 1., 2., 2., 1.],\n",
       "        [1., 1., 2., 2., 3., 3., 3., 1., 3., 3., 1., 3.],\n",
       "        [2., 1., 2., 3., 3., 3., 3., 1., 3., 3., 1., 3.],\n",
       "        [2., 1., 3., 1., 1., 1., 1., 1., 1., 1., 1., 1.],\n",
       "        [1., 1., 1., 2., 1., 3., 2., 1., 1., 2., 1., 1.],\n",
       "        [1., 3., 1., 3., 3., 3., 3., 4., 1., 3., 1., 3.],\n",
       "        [1., 1., 1., 3., 3., 3., 3., 4., 3., 3., 1., 3.],\n",
       "        [1., 2., 3., 3., 3., 1., 3., 1., 3., 3., 2., 3.],\n",
       "        [1., 1., 1., 1., 2., 1., 3., 1., 3., 1., 2., 3.],\n",
       "        [1., 1., 2., 3., 3., 3., 3., 1., 3., 3., 1., 3.],\n",
       "        [1., 1., 2., 3., 1., 1., 2., 1., 2., 2., 1., 1.],\n",
       "        [2., 2., 1., 3., 3., 3., 3., 1., 3., 2., 1., 3.],\n",
       "        [1., 1., 1., 1., 3., 2., 3., 1., 1., 2., 2., 3.],\n",
       "        [1., 2., 2., 1., 3., 3., 3., 1., 3., 3., 2., 3.],\n",
       "        [2., 1., 1., 3., 3., 2., 3., 2., 3., 3., 1., 3.],\n",
       "        [2., 2., 2., 3., 3., 3., 3., 1., 2., 3., 1., 3.],\n",
       "        [2., 2., 1., 2., 2., 3., 2., 4., 1., 2., 1., 3.],\n",
       "        [1., 1., 1., 2., 1., 1., 1., 4., 1., 1., 2., 1.],\n",
       "        [1., 3., 3., 1., 3., 3., 3., 1., 3., 3., 1., 3.],\n",
       "        [1., 1., 1., 1., 3., 3., 3., 1., 1., 1., 1., 3.],\n",
       "        [1., 1., 1., 2., 1., 1., 1., 1., 1., 1., 1., 1.],\n",
       "        [1., 3., 3., 2., 3., 3., 3., 1., 2., 1., 1., 3.],\n",
       "        [1., 2., 2., 1., 2., 2., 2., 1., 1., 3., 1., 3.],\n",
       "        [1., 3., 1., 1., 1., 1., 1., 1., 1., 1., 2., 1.],\n",
       "        [2., 1., 2., 1., 1., 2., 3., 1., 1., 1., 1., 3.],\n",
       "        [2., 2., 1., 2., 2., 3., 2., 3., 1., 2., 1., 1.],\n",
       "        [2., 2., 1., 3., 3., 3., 3., 1., 2., 3., 2., 3.],\n",
       "        [1., 3., 1., 2., 3., 3., 3., 2., 3., 2., 2., 3.],\n",
       "        [2., 1., 1., 3., 3., 3., 3., 1., 3., 2., 1., 3.],\n",
       "        [1., 3., 2., 1., 1., 1., 1., 1., 1., 3., 1., 1.],\n",
       "        [2., 2., 1., 2., 3., 3., 3., 4., 2., 3., 1., 2.],\n",
       "        [2., 1., 3., 1., 3., 2., 2., 1., 1., 1., 2., 2.],\n",
       "        [1., 1., 1., 3., 3., 3., 3., 1., 3., 3., 1., 3.],\n",
       "        [2., 1., 1., 2., 3., 3., 3., 1., 2., 3., 1., 3.],\n",
       "        [1., 2., 1., 3., 3., 3., 2., 2., 1., 2., 2., 3.],\n",
       "        [1., 1., 1., 3., 3., 3., 3., 2., 3., 3., 1., 3.],\n",
       "        [1., 1., 1., 2., 1., 1., 2., 4., 1., 2., 2., 2.],\n",
       "        [1., 1., 2., 1., 1., 2., 3., 1., 1., 1., 1., 3.],\n",
       "        [1., 3., 1., 3., 3., 3., 3., 1., 1., 1., 1., 3.],\n",
       "        [1., 1., 1., 1., 3., 1., 3., 1., 1., 3., 2., 3.],\n",
       "        [1., 1., 1., 1., 1., 1., 1., 2., 1., 1., 2., 1.],\n",
       "        [1., 2., 2., 2., 3., 2., 3., 4., 2., 2., 2., 3.],\n",
       "        [1., 2., 2., 1., 2., 2., 2., 3., 1., 2., 2., 2.],\n",
       "        [1., 3., 1., 3., 3., 1., 3., 4., 3., 3., 1., 3.],\n",
       "        [1., 3., 1., 3., 3., 3., 3., 2., 3., 3., 2., 3.],\n",
       "        [1., 2., 2., 1., 3., 3., 1., 1., 1., 1., 2., 3.]])}"
      ]
     },
     "execution_count": 8,
     "metadata": {},
     "output_type": "execute_result"
    }
   ],
   "source": [
    "attributes"
   ]
  },
  {
   "cell_type": "code",
   "execution_count": 9,
   "id": "korean-array",
   "metadata": {},
   "outputs": [],
   "source": [
    "import mca\n"
   ]
  },
  {
   "cell_type": "code",
   "execution_count": 10,
   "id": "complex-binary",
   "metadata": {},
   "outputs": [
    {
     "name": "stdout",
     "output_type": "stream",
     "text": [
      "    age_1  deathpen_  hometown_1  political_  homosexual_  marijuana_  \\\n",
      "0     1.0        3.0         1.0         1.0          3.0         2.0   \n",
      "1     1.0        2.0         1.0         1.0          2.0         3.0   \n",
      "2     1.0        3.0         1.0         3.0          1.0         3.0   \n",
      "3     2.0        1.0         1.0         3.0          3.0         2.0   \n",
      "4     2.0        2.0         1.0         2.0          3.0         1.0   \n",
      "..    ...        ...         ...         ...          ...         ...   \n",
      "93    1.0        3.0         2.0         1.0          1.0         1.0   \n",
      "94    1.0        3.0         1.0         3.0          3.0         3.0   \n",
      "95    2.0        2.0         1.0         2.0          1.0         1.0   \n",
      "96    2.0        1.0         3.0         1.0          1.0         1.0   \n",
      "97    2.0        1.0         1.0         2.0          3.0         3.0   \n",
      "\n",
      "    gaymarriage_  ethnicity_1  abortion_  euthanasia_  gender_1  \\\n",
      "0            3.0          2.0        3.0          3.0       2.0   \n",
      "1            1.0          2.0        2.0          2.0       2.0   \n",
      "2            3.0          2.0        3.0          3.0       1.0   \n",
      "3            3.0          2.0        3.0          1.0       1.0   \n",
      "4            2.0          2.0        3.0          1.0       1.0   \n",
      "..           ...          ...        ...          ...       ...   \n",
      "93           1.0          1.0        1.0          3.0       1.0   \n",
      "94           1.0          2.0        3.0          3.0       2.0   \n",
      "95           1.0          4.0        1.0          2.0       1.0   \n",
      "96           2.0          1.0        1.0          2.0       2.0   \n",
      "97           3.0          1.0        3.0          3.0       1.0   \n",
      "\n",
      "    premaritalsex_  \n",
      "0              3.0  \n",
      "1              2.0  \n",
      "2              3.0  \n",
      "3              3.0  \n",
      "4              3.0  \n",
      "..             ...  \n",
      "93             3.0  \n",
      "94             3.0  \n",
      "95             3.0  \n",
      "96             1.0  \n",
      "97             3.0  \n",
      "\n",
      "[98 rows x 12 columns]\n"
     ]
    }
   ],
   "source": [
    "df = pd.DataFrame(data=attributes[1], columns=attribute_values)\n",
    "print(df)"
   ]
  },
  {
   "cell_type": "code",
   "execution_count": 11,
   "id": "brazilian-trustee",
   "metadata": {},
   "outputs": [
    {
     "name": "stdout",
     "output_type": "stream",
     "text": [
      "[0 0 0 0 0 0 0 0 0 0 0 0]\n"
     ]
    }
   ],
   "source": [
    "mca_counts = mca.MCA(df, ncols = len(attribute_values))\n",
    "# print(mca_counts.fs_r(1))\n",
    "print(mca_counts.L)"
   ]
  },
  {
   "cell_type": "markdown",
   "id": "injured-athletics",
   "metadata": {},
   "source": [
    "# PCA\n",
    "Trying simple PCA, although it is not recommended. To do it we need to remove categorical data first. "
   ]
  },
  {
   "cell_type": "code",
   "execution_count": 12,
   "id": "ongoing-prisoner",
   "metadata": {},
   "outputs": [
    {
     "name": "stdout",
     "output_type": "stream",
     "text": [
      "{'deathpen_', 'political_', 'homosexual_', 'marijuana_', 'gaymarriage_', 'abortion_', 'euthanasia_', 'premaritalsex_'}\n",
      "{1: array([[3., 1., 3., 2., 3., 3., 3., 3.],\n",
      "       [2., 1., 2., 3., 1., 2., 2., 2.],\n",
      "       [3., 3., 1., 3., 3., 3., 3., 3.],\n",
      "       [1., 3., 3., 2., 3., 3., 1., 3.],\n",
      "       [2., 2., 3., 1., 2., 3., 1., 3.],\n",
      "       [1., 2., 1., 1., 1., 1., 3., 1.],\n",
      "       [2., 1., 2., 1., 2., 1., 1., 1.],\n",
      "       [2., 2., 1., 3., 2., 2., 2., 1.],\n",
      "       [1., 2., 3., 2., 3., 3., 3., 3.],\n",
      "       [1., 3., 3., 3., 3., 1., 1., 3.],\n",
      "       [1., 2., 1., 2., 1., 1., 3., 1.],\n",
      "       [1., 1., 1., 1., 2., 1., 1., 1.],\n",
      "       [1., 1., 3., 3., 3., 1., 2., 3.],\n",
      "       [1., 1., 2., 3., 1., 1., 1., 1.],\n",
      "       [3., 3., 3., 3., 3., 1., 3., 3.],\n",
      "       [1., 1., 2., 2., 1., 1., 3., 2.],\n",
      "       [2., 1., 1., 2., 1., 1., 2., 3.],\n",
      "       [3., 1., 1., 3., 1., 1., 3., 1.],\n",
      "       [2., 3., 3., 3., 3., 3., 3., 2.],\n",
      "       [1., 1., 1., 3., 3., 1., 3., 3.],\n",
      "       [3., 1., 3., 3., 3., 3., 3., 3.],\n",
      "       [1., 3., 3., 3., 3., 3., 3., 3.],\n",
      "       [1., 1., 3., 3., 3., 1., 3., 3.],\n",
      "       [1., 3., 3., 3., 3., 3., 3., 3.],\n",
      "       [3., 2., 3., 3., 3., 2., 2., 3.],\n",
      "       [1., 1., 1., 2., 1., 1., 1., 1.],\n",
      "       [1., 2., 1., 1., 2., 1., 3., 1.],\n",
      "       [2., 1., 1., 2., 1., 1., 1., 1.],\n",
      "       [2., 1., 1., 1., 3., 1., 1., 2.],\n",
      "       [1., 2., 1., 2., 1., 1., 1., 1.],\n",
      "       [1., 3., 1., 1., 1., 1., 1., 1.],\n",
      "       [1., 3., 3., 3., 3., 3., 3., 3.],\n",
      "       [2., 1., 3., 1., 3., 3., 3., 3.],\n",
      "       [2., 3., 3., 3., 3., 1., 3., 3.],\n",
      "       [1., 2., 3., 1., 3., 1., 3., 1.],\n",
      "       [1., 1., 1., 1., 1., 1., 1., 1.],\n",
      "       [1., 1., 3., 1., 3., 3., 3., 1.],\n",
      "       [1., 2., 3., 3., 2., 3., 3., 3.],\n",
      "       [3., 2., 3., 3., 3., 3., 3., 3.],\n",
      "       [3., 1., 1., 1., 1., 1., 1., 1.],\n",
      "       [1., 1., 1., 1., 1., 1., 3., 1.],\n",
      "       [1., 2., 1., 1., 2., 1., 2., 3.],\n",
      "       [1., 3., 3., 1., 3., 3., 1., 2.],\n",
      "       [1., 1., 1., 1., 1., 1., 1., 1.],\n",
      "       [3., 1., 1., 1., 1., 1., 2., 1.],\n",
      "       [2., 3., 3., 3., 3., 3., 3., 3.],\n",
      "       [1., 1., 1., 1., 1., 1., 3., 3.],\n",
      "       [1., 1., 3., 1., 3., 1., 3., 3.],\n",
      "       [2., 3., 3., 1., 3., 3., 3., 3.],\n",
      "       [1., 1., 1., 1., 1., 1., 1., 1.],\n",
      "       [1., 1., 3., 1., 3., 2., 3., 3.],\n",
      "       [2., 3., 3., 3., 3., 3., 2., 3.],\n",
      "       [3., 1., 3., 1., 3., 3., 3., 3.],\n",
      "       [1., 1., 1., 1., 3., 1., 1., 1.],\n",
      "       [2., 3., 3., 1., 3., 3., 2., 3.],\n",
      "       [3., 3., 3., 1., 3., 3., 1., 3.],\n",
      "       [1., 1., 1., 1., 1., 1., 2., 1.],\n",
      "       [1., 1., 1., 1., 1., 1., 2., 1.],\n",
      "       [2., 3., 3., 1., 3., 3., 3., 3.],\n",
      "       [2., 3., 3., 2., 3., 3., 3., 3.],\n",
      "       [1., 3., 1., 3., 1., 1., 3., 3.],\n",
      "       [1., 1., 1., 1., 2., 1., 1., 1.],\n",
      "       [1., 2., 2., 3., 2., 3., 2., 3.],\n",
      "       [1., 3., 3., 1., 3., 1., 1., 3.],\n",
      "       [1., 3., 1., 1., 1., 1., 1., 3.],\n",
      "       [1., 3., 3., 3., 3., 1., 2., 3.],\n",
      "       [1., 2., 3., 2., 3., 1., 3., 3.],\n",
      "       [1., 1., 3., 1., 3., 1., 2., 3.],\n",
      "       [2., 1., 1., 1., 2., 1., 3., 3.],\n",
      "       [2., 2., 2., 2., 2., 2., 2., 3.],\n",
      "       [3., 1., 1., 1., 1., 1., 1., 3.],\n",
      "       [1., 3., 3., 3., 3., 3., 3., 3.],\n",
      "       [1., 1., 1., 2., 1., 1., 2., 1.],\n",
      "       [3., 1., 3., 1., 2., 1., 2., 3.],\n",
      "       [3., 1., 3., 1., 2., 3., 3., 3.],\n",
      "       [2., 1., 1., 1., 1., 1., 3., 3.],\n",
      "       [1., 1., 3., 1., 1., 1., 1., 3.],\n",
      "       [3., 3., 3., 1., 3., 3., 3., 3.],\n",
      "       [2., 2., 3., 3., 3., 2., 2., 3.],\n",
      "       [1., 1., 1., 1., 3., 1., 1., 1.],\n",
      "       [2., 1., 1., 1., 3., 1., 3., 1.],\n",
      "       [2., 1., 1., 1., 1., 1., 3., 1.],\n",
      "       [1., 1., 1., 1., 1., 1., 2., 1.],\n",
      "       [2., 2., 3., 2., 3., 1., 2., 2.],\n",
      "       [3., 3., 3., 2., 2., 3., 3., 3.],\n",
      "       [1., 1., 1., 1., 1., 1., 1., 1.],\n",
      "       [1., 1., 3., 1., 1., 3., 3., 3.],\n",
      "       [1., 3., 3., 2., 3., 1., 3., 3.],\n",
      "       [3., 1., 1., 1., 1., 1., 1., 3.],\n",
      "       [2., 3., 3., 3., 3., 3., 1., 3.],\n",
      "       [1., 2., 2., 1., 2., 1., 1., 1.],\n",
      "       [1., 1., 1., 2., 1., 1., 1., 1.],\n",
      "       [3., 1., 3., 2., 3., 1., 3., 3.],\n",
      "       [3., 1., 1., 1., 1., 1., 3., 3.],\n",
      "       [3., 3., 3., 3., 1., 3., 3., 3.],\n",
      "       [2., 2., 1., 1., 1., 1., 2., 3.],\n",
      "       [1., 1., 1., 1., 2., 1., 2., 1.],\n",
      "       [1., 2., 3., 3., 3., 3., 3., 3.]]), 2: array([[1., 1., 1., 1., 1., 1., 3., 1.],\n",
      "       [1., 1., 1., 1., 1., 1., 1., 1.],\n",
      "       [2., 1., 3., 1., 3., 1., 3., 3.],\n",
      "       [3., 3., 3., 3., 3., 1., 3., 3.],\n",
      "       [2., 2., 1., 1., 1., 2., 2., 1.],\n",
      "       [1., 2., 3., 3., 3., 1., 1., 3.],\n",
      "       [1., 3., 3., 1., 3., 3., 3., 3.],\n",
      "       [3., 1., 3., 3., 3., 1., 3., 3.],\n",
      "       [1., 2., 1., 1., 1., 1., 1., 1.],\n",
      "       [3., 2., 3., 1., 3., 3., 3., 3.],\n",
      "       [1., 1., 1., 1., 1., 1., 1., 1.],\n",
      "       [1., 1., 1., 2., 1., 1., 1., 1.],\n",
      "       [2., 1., 2., 2., 1., 1., 3., 3.],\n",
      "       [1., 2., 3., 1., 1., 1., 1., 3.],\n",
      "       [3., 3., 1., 1., 1., 1., 3., 3.],\n",
      "       [2., 1., 3., 2., 3., 1., 3., 3.],\n",
      "       [1., 2., 3., 3., 3., 1., 3., 2.],\n",
      "       [1., 3., 3., 1., 1., 1., 1., 1.],\n",
      "       [1., 3., 3., 1., 3., 3., 3., 3.],\n",
      "       [1., 2., 1., 3., 2., 1., 1., 1.],\n",
      "       [1., 1., 1., 1., 1., 1., 1., 1.],\n",
      "       [3., 1., 3., 3., 3., 3., 3., 3.],\n",
      "       [1., 1., 1., 3., 3., 1., 3., 3.],\n",
      "       [1., 3., 3., 3., 3., 3., 3., 3.],\n",
      "       [1., 1., 3., 3., 2., 1., 2., 1.],\n",
      "       [1., 2., 3., 3., 3., 2., 3., 3.],\n",
      "       [2., 3., 3., 3., 3., 3., 2., 3.],\n",
      "       [1., 1., 1., 2., 3., 1., 1., 1.],\n",
      "       [3., 1., 1., 1., 1., 1., 2., 1.],\n",
      "       [1., 3., 1., 1., 3., 1., 2., 1.],\n",
      "       [1., 2., 3., 3., 3., 3., 3., 3.],\n",
      "       [1., 2., 3., 3., 3., 1., 1., 3.],\n",
      "       [3., 1., 1., 1., 1., 1., 3., 1.],\n",
      "       [1., 1., 1., 1., 2., 1., 1., 1.],\n",
      "       [1., 1., 2., 1., 2., 1., 1., 1.],\n",
      "       [3., 3., 3., 3., 3., 3., 3., 3.],\n",
      "       [1., 3., 3., 1., 3., 3., 3., 3.],\n",
      "       [1., 1., 3., 1., 3., 1., 2., 1.],\n",
      "       [1., 3., 3., 3., 3., 3., 1., 3.],\n",
      "       [3., 1., 1., 1., 1., 1., 3., 3.],\n",
      "       [2., 1., 3., 2., 3., 1., 3., 3.],\n",
      "       [1., 1., 3., 3., 3., 1., 3., 1.],\n",
      "       [1., 2., 1., 2., 1., 1., 1., 1.],\n",
      "       [1., 1., 1., 1., 2., 1., 3., 3.],\n",
      "       [1., 3., 3., 2., 3., 3., 3., 3.],\n",
      "       [1., 3., 3., 3., 3., 1., 1., 3.],\n",
      "       [1., 1., 2., 1., 3., 1., 1., 1.],\n",
      "       [1., 3., 3., 2., 3., 3., 2., 3.],\n",
      "       [1., 1., 1., 1., 2., 1., 3., 1.],\n",
      "       [1., 2., 3., 2., 3., 3., 2., 3.],\n",
      "       [2., 2., 2., 2., 2., 2., 2., 2.],\n",
      "       [1., 2., 2., 1., 2., 1., 1., 1.],\n",
      "       [2., 3., 3., 3., 3., 2., 3., 3.],\n",
      "       [2., 2., 3., 3., 3., 3., 3., 3.],\n",
      "       [2., 2., 3., 3., 3., 2., 1., 3.],\n",
      "       [1., 2., 3., 2., 3., 1., 3., 1.],\n",
      "       [2., 2., 1., 2., 1., 1., 1., 1.],\n",
      "       [2., 1., 1., 1., 2., 1., 2., 1.],\n",
      "       [1., 1., 3., 1., 2., 3., 3., 3.],\n",
      "       [1., 3., 3., 3., 3., 3., 3., 3.],\n",
      "       [2., 3., 3., 3., 3., 1., 2., 3.],\n",
      "       [1., 3., 3., 3., 3., 1., 2., 3.],\n",
      "       [1., 1., 3., 3., 3., 3., 3., 3.],\n",
      "       [1., 2., 3., 1., 1., 1., 3., 3.],\n",
      "       [1., 1., 3., 3., 1., 1., 1., 3.],\n",
      "       [1., 3., 3., 1., 3., 3., 3., 3.],\n",
      "       [2., 1., 1., 1., 1., 1., 2., 1.],\n",
      "       [1., 3., 3., 1., 3., 3., 1., 3.],\n",
      "       [1., 1., 1., 1., 3., 1., 1., 1.],\n",
      "       [1., 3., 3., 2., 3., 3., 1., 3.],\n",
      "       [1., 2., 2., 2., 1., 1., 1., 1.],\n",
      "       [1., 2., 3., 3., 3., 1., 2., 3.],\n",
      "       [1., 2., 3., 3., 3., 3., 3., 3.],\n",
      "       [3., 1., 1., 1., 2., 1., 1., 3.],\n",
      "       [1., 1., 1., 1., 1., 1., 2., 1.],\n",
      "       [3., 1., 3., 1., 2., 1., 1., 1.],\n",
      "       [2., 3., 3., 2., 3., 1., 3., 3.],\n",
      "       [2., 2., 2., 2., 2., 2., 2., 2.],\n",
      "       [1., 3., 3., 3., 3., 3., 3., 3.],\n",
      "       [1., 1., 1., 2., 1., 1., 3., 3.],\n",
      "       [1., 1., 3., 3., 3., 1., 2., 3.],\n",
      "       [1., 1., 3., 1., 3., 1., 1., 3.],\n",
      "       [1., 1., 3., 2., 1., 1., 2., 3.],\n",
      "       [2., 3., 3., 3., 3., 3., 3., 3.],\n",
      "       [2., 1., 3., 2., 3., 1., 3., 3.],\n",
      "       [2., 2., 3., 3., 1., 1., 2., 3.],\n",
      "       [2., 1., 3., 1., 3., 1., 1., 3.],\n",
      "       [3., 1., 3., 1., 3., 1., 3., 3.],\n",
      "       [1., 3., 3., 1., 3., 2., 2., 2.]]), 3: array([[1., 2., 3., 1., 3., 3., 3., 3.],\n",
      "       [1., 1., 1., 1., 1., 1., 1., 1.],\n",
      "       [1., 2., 1., 3., 2., 1., 1., 1.],\n",
      "       [3., 3., 3., 3., 3., 1., 3., 3.],\n",
      "       [1., 1., 3., 2., 3., 3., 3., 3.],\n",
      "       [1., 2., 1., 1., 3., 3., 3., 1.],\n",
      "       [1., 1., 3., 2., 3., 1., 2., 3.],\n",
      "       [1., 3., 3., 1., 3., 3., 2., 3.],\n",
      "       [1., 1., 3., 1., 1., 1., 1., 1.],\n",
      "       [1., 1., 1., 1., 1., 1., 1., 1.],\n",
      "       [2., 1., 2., 1., 3., 2., 3., 3.],\n",
      "       [1., 1., 3., 1., 1., 1., 1., 3.],\n",
      "       [3., 1., 1., 1., 1., 1., 2., 1.],\n",
      "       [1., 1., 1., 3., 3., 1., 1., 1.],\n",
      "       [3., 1., 1., 3., 2., 1., 3., 3.],\n",
      "       [1., 3., 3., 3., 3., 3., 3., 3.],\n",
      "       [1., 2., 3., 3., 3., 1., 2., 3.],\n",
      "       [1., 3., 3., 3., 3., 3., 3., 3.],\n",
      "       [1., 1., 2., 3., 2., 1., 1., 1.],\n",
      "       [1., 3., 3., 2., 3., 3., 3., 3.],\n",
      "       [1., 3., 3., 1., 3., 1., 2., 1.],\n",
      "       [1., 1., 3., 1., 1., 1., 1., 1.],\n",
      "       [2., 3., 3., 3., 3., 2., 3., 3.],\n",
      "       [1., 1., 2., 1., 2., 1., 1., 1.],\n",
      "       [1., 3., 3., 2., 3., 3., 3., 3.],\n",
      "       [1., 2., 2., 3., 2., 1., 2., 3.],\n",
      "       [1., 3., 3., 2., 3., 1., 2., 3.],\n",
      "       [2., 1., 2., 2., 2., 1., 2., 1.],\n",
      "       [1., 2., 3., 2., 3., 1., 1., 3.],\n",
      "       [1., 3., 3., 3., 3., 3., 2., 3.],\n",
      "       [2., 3., 3., 3., 3., 3., 2., 3.],\n",
      "       [2., 2., 3., 3., 2., 2., 3., 2.],\n",
      "       [1., 2., 3., 3., 3., 1., 1., 3.],\n",
      "       [2., 2., 1., 3., 1., 1., 2., 1.],\n",
      "       [3., 1., 2., 1., 3., 1., 3., 2.],\n",
      "       [3., 1., 3., 1., 2., 1., 1., 3.],\n",
      "       [1., 1., 2., 1., 1., 1., 1., 1.],\n",
      "       [1., 1., 1., 3., 3., 1., 1., 3.],\n",
      "       [3., 1., 3., 3., 3., 3., 3., 3.],\n",
      "       [3., 1., 3., 1., 3., 3., 3., 3.],\n",
      "       [2., 1., 2., 1., 1., 1., 1., 1.],\n",
      "       [3., 1., 1., 1., 1., 1., 3., 3.],\n",
      "       [2., 3., 3., 2., 3., 2., 3., 2.],\n",
      "       [1., 3., 1., 1., 3., 2., 1., 1.],\n",
      "       [1., 3., 3., 1., 3., 1., 3., 3.],\n",
      "       [1., 2., 1., 1., 1., 1., 1., 1.],\n",
      "       [1., 2., 3., 1., 3., 3., 1., 3.],\n",
      "       [2., 2., 2., 2., 2., 2., 2., 2.],\n",
      "       [1., 1., 1., 1., 1., 1., 3., 1.],\n",
      "       [1., 3., 3., 3., 3., 3., 3., 3.],\n",
      "       [1., 1., 3., 3., 1., 3., 3., 3.],\n",
      "       [1., 2., 3., 1., 3., 1., 1., 3.],\n",
      "       [1., 3., 3., 1., 3., 3., 3., 3.],\n",
      "       [3., 1., 1., 1., 1., 1., 3., 1.],\n",
      "       [1., 1., 1., 2., 2., 1., 2., 1.],\n",
      "       [3., 1., 1., 1., 1., 1., 1., 1.],\n",
      "       [1., 2., 3., 3., 3., 1., 3., 3.],\n",
      "       [1., 1., 2., 2., 2., 1., 2., 1.],\n",
      "       [1., 2., 1., 1., 1., 1., 2., 1.],\n",
      "       [1., 1., 1., 1., 2., 1., 3., 3.],\n",
      "       [1., 3., 3., 2., 3., 3., 3., 3.],\n",
      "       [1., 1., 1., 1., 1., 1., 3., 1.],\n",
      "       [1., 1., 3., 2., 3., 1., 2., 3.],\n",
      "       [1., 2., 3., 3., 3., 1., 1., 3.],\n",
      "       [2., 1., 2., 3., 2., 1., 2., 3.],\n",
      "       [2., 2., 3., 3., 3., 1., 3., 3.],\n",
      "       [1., 2., 3., 1., 3., 3., 1., 1.],\n",
      "       [2., 1., 1., 1., 1., 1., 2., 1.]]), 4: array([[1., 1., 1., 1., 1., 1., 2., 1.],\n",
      "       [1., 1., 1., 1., 1., 1., 1., 1.],\n",
      "       [1., 1., 3., 3., 3., 1., 1., 3.],\n",
      "       [3., 1., 1., 1., 1., 3., 3., 1.],\n",
      "       [1., 3., 3., 1., 3., 1., 3., 1.],\n",
      "       [1., 3., 3., 2., 3., 3., 2., 3.],\n",
      "       [1., 1., 1., 2., 2., 1., 2., 3.],\n",
      "       [1., 3., 3., 3., 3., 1., 3., 3.],\n",
      "       [1., 2., 3., 2., 3., 1., 3., 2.],\n",
      "       [2., 1., 3., 2., 3., 1., 3., 3.],\n",
      "       [1., 1., 1., 3., 3., 1., 1., 1.],\n",
      "       [1., 1., 1., 1., 1., 1., 3., 1.],\n",
      "       [1., 1., 1., 1., 2., 1., 1., 1.],\n",
      "       [2., 3., 3., 3., 3., 3., 3., 3.],\n",
      "       [1., 1., 3., 2., 1., 1., 1., 1.],\n",
      "       [1., 1., 1., 1., 2., 1., 1., 1.],\n",
      "       [1., 1., 1., 1., 1., 1., 1., 1.],\n",
      "       [3., 3., 1., 2., 3., 1., 3., 3.],\n",
      "       [1., 3., 3., 3., 3., 3., 3., 1.],\n",
      "       [3., 1., 1., 1., 1., 1., 3., 1.],\n",
      "       [2., 1., 2., 1., 1., 1., 1., 1.],\n",
      "       [1., 3., 3., 1., 3., 3., 2., 3.],\n",
      "       [1., 3., 3., 1., 3., 1., 3., 2.],\n",
      "       [1., 3., 3., 3., 3., 3., 3., 3.],\n",
      "       [1., 1., 1., 3., 2., 1., 1., 1.],\n",
      "       [1., 2., 3., 3., 3., 3., 3., 3.],\n",
      "       [3., 3., 1., 1., 3., 3., 2., 3.],\n",
      "       [2., 1., 1., 1., 1., 1., 2., 1.],\n",
      "       [2., 2., 2., 2., 2., 1., 1., 1.],\n",
      "       [2., 2., 2., 2., 2., 1., 2., 1.],\n",
      "       [1., 2., 3., 2., 1., 1., 1., 3.],\n",
      "       [3., 1., 1., 1., 1., 1., 1., 3.],\n",
      "       [2., 2., 3., 3., 3., 3., 3., 3.],\n",
      "       [2., 3., 3., 3., 3., 2., 3., 3.],\n",
      "       [1., 1., 2., 1., 2., 1., 1., 1.],\n",
      "       [1., 3., 3., 2., 3., 1., 1., 3.],\n",
      "       [2., 1., 3., 2., 3., 1., 1., 1.],\n",
      "       [1., 3., 3., 1., 3., 1., 3., 3.],\n",
      "       [3., 1., 3., 3., 3., 3., 3., 3.],\n",
      "       [2., 1., 1., 1., 3., 1., 1., 1.],\n",
      "       [2., 2., 1., 2., 1., 1., 1., 1.],\n",
      "       [1., 3., 3., 3., 3., 2., 2., 3.],\n",
      "       [2., 1., 3., 1., 2., 3., 3., 3.],\n",
      "       [2., 3., 3., 3., 3., 3., 2., 3.],\n",
      "       [3., 1., 3., 3., 3., 3., 3., 3.],\n",
      "       [1., 1., 1., 3., 3., 1., 1., 3.],\n",
      "       [3., 1., 1., 1., 1., 1., 1., 1.],\n",
      "       [2., 3., 3., 3., 3., 1., 3., 3.],\n",
      "       [2., 1., 3., 2., 3., 1., 3., 3.],\n",
      "       [3., 1., 1., 1., 1., 1., 2., 1.],\n",
      "       [2., 3., 3., 2., 3., 2., 3., 2.],\n",
      "       [1., 1., 3., 3., 1., 2., 1., 3.],\n",
      "       [1., 2., 3., 2., 3., 3., 2., 3.],\n",
      "       [1., 3., 3., 3., 2., 2., 2., 2.],\n",
      "       [1., 1., 3., 1., 3., 3., 3., 3.],\n",
      "       [1., 1., 2., 3., 1., 1., 1., 1.],\n",
      "       [1., 1., 3., 1., 3., 1., 3., 3.],\n",
      "       [1., 1., 3., 3., 3., 3., 3., 3.],\n",
      "       [2., 1., 1., 1., 1., 1., 1., 1.],\n",
      "       [1., 1., 2., 1., 3., 1., 1., 1.],\n",
      "       [1., 3., 3., 2., 3., 3., 3., 3.],\n",
      "       [1., 2., 1., 2., 1., 1., 1., 1.],\n",
      "       [1., 1., 1., 2., 3., 1., 2., 1.],\n",
      "       [2., 3., 3., 3., 3., 2., 3., 3.],\n",
      "       [3., 1., 3., 1., 3., 1., 3., 3.],\n",
      "       [2., 1., 3., 1., 3., 1., 1., 3.],\n",
      "       [1., 3., 3., 1., 3., 3., 3., 3.],\n",
      "       [3., 2., 2., 3., 3., 3., 3., 3.],\n",
      "       [1., 3., 3., 1., 3., 3., 1., 3.],\n",
      "       [2., 1., 2., 3., 1., 1., 2., 1.],\n",
      "       [1., 2., 1., 1., 3., 1., 1., 3.],\n",
      "       [1., 2., 1., 1., 2., 1., 2., 3.],\n",
      "       [1., 3., 2., 2., 3., 2., 1., 1.],\n",
      "       [3., 1., 3., 3., 3., 3., 3., 3.],\n",
      "       [1., 3., 3., 1., 2., 1., 2., 3.],\n",
      "       [2., 3., 3., 3., 3., 3., 2., 3.],\n",
      "       [2., 3., 3., 3., 3., 3., 3., 2.],\n",
      "       [3., 3., 3., 3., 3., 3., 3., 3.],\n",
      "       [2., 2., 2., 2., 2., 2., 2., 2.],\n",
      "       [1., 3., 3., 3., 2., 1., 2., 3.],\n",
      "       [1., 3., 3., 3., 3., 3., 3., 3.],\n",
      "       [1., 1., 1., 2., 2., 1., 2., 1.],\n",
      "       [3., 1., 3., 1., 3., 1., 1., 3.],\n",
      "       [3., 1., 3., 3., 3., 3., 3., 3.],\n",
      "       [2., 1., 3., 3., 3., 1., 3., 3.],\n",
      "       [2., 2., 3., 3., 3., 3., 3., 3.],\n",
      "       [1., 3., 3., 1., 3., 2., 2., 3.],\n",
      "       [2., 1., 3., 1., 3., 1., 3., 3.],\n",
      "       [1., 2., 1., 1., 2., 1., 2., 1.]]), 5: array([[1., 2., 3., 1., 2., 3., 2., 2.],\n",
      "       [2., 3., 3., 3., 3., 3., 2., 3.],\n",
      "       [2., 1., 3., 2., 2., 1., 2., 3.],\n",
      "       [1., 2., 3., 2., 3., 1., 2., 2.],\n",
      "       [1., 1., 1., 3., 3., 1., 1., 1.],\n",
      "       [3., 1., 1., 1., 1., 1., 2., 1.],\n",
      "       [3., 1., 1., 1., 1., 1., 3., 3.],\n",
      "       [1., 1., 3., 3., 3., 1., 2., 3.],\n",
      "       [3., 3., 3., 3., 3., 3., 3., 3.],\n",
      "       [1., 1., 2., 1., 2., 1., 1., 1.],\n",
      "       [1., 1., 3., 3., 2., 3., 3., 3.],\n",
      "       [2., 3., 3., 3., 3., 3., 2., 3.],\n",
      "       [3., 3., 1., 2., 3., 1., 3., 1.],\n",
      "       [1., 3., 3., 3., 3., 3., 1., 3.],\n",
      "       [1., 1., 1., 1., 1., 1., 1., 1.],\n",
      "       [1., 1., 1., 1., 1., 1., 1., 1.],\n",
      "       [2., 2., 2., 3., 2., 3., 2., 2.],\n",
      "       [1., 2., 1., 1., 1., 1., 1., 1.],\n",
      "       [1., 3., 3., 2., 3., 3., 2., 3.],\n",
      "       [1., 3., 3., 1., 3., 2., 2., 3.],\n",
      "       [1., 1., 1., 1., 1., 1., 1., 1.],\n",
      "       [1., 2., 3., 3., 3., 1., 3., 3.],\n",
      "       [2., 2., 3., 3., 2., 3., 3., 3.],\n",
      "       [1., 1., 1., 1., 1., 1., 1., 1.],\n",
      "       [1., 2., 3., 2., 3., 2., 3., 3.],\n",
      "       [1., 3., 3., 3., 3., 2., 3., 3.],\n",
      "       [1., 3., 3., 2., 3., 3., 2., 3.],\n",
      "       [1., 3., 3., 1., 3., 1., 2., 3.],\n",
      "       [2., 1., 2., 3., 2., 1., 2., 1.],\n",
      "       [1., 2., 3., 2., 1., 1., 2., 3.],\n",
      "       [2., 1., 3., 3., 3., 1., 3., 3.],\n",
      "       [1., 2., 3., 2., 3., 1., 3., 2.],\n",
      "       [2., 1., 3., 1., 3., 1., 3., 3.],\n",
      "       [2., 1., 1., 1., 2., 1., 1., 1.],\n",
      "       [3., 1., 1., 1., 1., 1., 3., 1.],\n",
      "       [1., 3., 3., 3., 3., 2., 3., 3.],\n",
      "       [1., 2., 3., 3., 3., 3., 3., 3.],\n",
      "       [1., 1., 3., 1., 3., 1., 3., 3.],\n",
      "       [1., 1., 3., 1., 1., 1., 1., 3.],\n",
      "       [3., 2., 3., 3., 3., 3., 2., 3.],\n",
      "       [2., 2., 2., 2., 2., 3., 2., 3.],\n",
      "       [1., 1., 2., 1., 2., 1., 2., 1.],\n",
      "       [2., 3., 2., 2., 3., 2., 2., 3.],\n",
      "       [1., 3., 3., 3., 3., 2., 2., 3.],\n",
      "       [1., 1., 1., 3., 3., 1., 1., 3.],\n",
      "       [3., 1., 3., 1., 3., 1., 3., 3.],\n",
      "       [1., 1., 3., 2., 2., 1., 2., 1.],\n",
      "       [1., 1., 1., 1., 1., 1., 3., 1.],\n",
      "       [1., 2., 1., 1., 2., 1., 2., 1.],\n",
      "       [1., 1., 1., 3., 2., 1., 1., 1.],\n",
      "       [3., 1., 3., 3., 3., 3., 3., 3.],\n",
      "       [3., 3., 3., 3., 1., 3., 3., 3.],\n",
      "       [2., 3., 3., 3., 3., 3., 3., 3.],\n",
      "       [1., 1., 1., 2., 2., 1., 2., 1.],\n",
      "       [2., 1., 2., 2., 2., 1., 2., 2.],\n",
      "       [3., 3., 3., 1., 3., 3., 3., 3.],\n",
      "       [2., 3., 3., 3., 3., 2., 3., 3.],\n",
      "       [2., 2., 2., 2., 2., 2., 2., 2.],\n",
      "       [1., 3., 3., 3., 3., 3., 3., 3.],\n",
      "       [1., 1., 2., 2., 2., 2., 1., 1.],\n",
      "       [1., 1., 2., 1., 2., 1., 1., 1.],\n",
      "       [2., 3., 3., 3., 3., 1., 3., 3.],\n",
      "       [2., 1., 1., 2., 1., 1., 2., 3.],\n",
      "       [1., 3., 2., 2., 3., 1., 3., 1.],\n",
      "       [2., 2., 3., 3., 3., 2., 1., 3.],\n",
      "       [1., 3., 3., 1., 3., 3., 3., 3.],\n",
      "       [2., 1., 3., 1., 3., 1., 1., 3.],\n",
      "       [1., 3., 3., 2., 3., 3., 3., 3.],\n",
      "       [1., 3., 1., 3., 2., 1., 1., 3.],\n",
      "       [2., 1., 1., 1., 1., 1., 1., 1.],\n",
      "       [1., 2., 3., 3., 3., 1., 1., 3.],\n",
      "       [1., 1., 1., 2., 2., 1., 1., 1.],\n",
      "       [2., 2., 3., 3., 3., 3., 2., 3.],\n",
      "       [2., 3., 2., 3., 2., 1., 3., 3.],\n",
      "       [1., 2., 3., 2., 3., 1., 1., 3.],\n",
      "       [3., 1., 3., 3., 3., 3., 3., 3.],\n",
      "       [1., 2., 2., 1., 2., 1., 2., 1.],\n",
      "       [1., 2., 1., 1., 1., 1., 1., 1.],\n",
      "       [2., 1., 3., 3., 3., 1., 3., 3.],\n",
      "       [3., 1., 3., 1., 3., 3., 3., 3.],\n",
      "       [1., 1., 3., 3., 3., 1., 2., 3.],\n",
      "       [1., 1., 1., 1., 3., 1., 1., 3.],\n",
      "       [1., 3., 1., 3., 2., 2., 2., 3.],\n",
      "       [1., 3., 3., 1., 3., 1., 2., 3.],\n",
      "       [1., 2., 3., 3., 2., 3., 3., 3.]]), 6: array([[1., 1., 3., 3., 3., 3., 3., 3.],\n",
      "       [1., 1., 1., 1., 2., 1., 1., 1.],\n",
      "       [3., 3., 3., 3., 3., 1., 3., 3.],\n",
      "       [1., 1., 3., 1., 2., 1., 1., 1.],\n",
      "       [1., 3., 3., 3., 3., 3., 3., 3.],\n",
      "       [2., 2., 3., 3., 3., 2., 3., 3.],\n",
      "       [1., 1., 3., 3., 3., 3., 3., 3.],\n",
      "       [3., 1., 1., 1., 1., 1., 3., 3.],\n",
      "       [1., 1., 1., 1., 1., 1., 3., 1.],\n",
      "       [1., 1., 3., 2., 3., 1., 2., 2.],\n",
      "       [1., 1., 1., 3., 3., 1., 1., 1.],\n",
      "       [2., 3., 3., 2., 3., 3., 2., 3.],\n",
      "       [1., 1., 1., 1., 1., 1., 1., 1.],\n",
      "       [1., 1., 1., 1., 1., 1., 1., 1.],\n",
      "       [1., 2., 3., 3., 3., 1., 2., 3.],\n",
      "       [1., 3., 3., 2., 3., 3., 2., 3.],\n",
      "       [1., 3., 3., 2., 3., 1., 3., 2.],\n",
      "       [1., 2., 2., 1., 2., 1., 2., 1.],\n",
      "       [1., 2., 3., 3., 3., 3., 3., 3.],\n",
      "       [1., 3., 3., 3., 3., 3., 3., 3.],\n",
      "       [1., 1., 1., 1., 1., 1., 1., 1.],\n",
      "       [1., 2., 1., 3., 2., 1., 2., 1.],\n",
      "       [3., 3., 3., 3., 3., 1., 3., 3.],\n",
      "       [1., 3., 3., 3., 3., 3., 3., 3.],\n",
      "       [2., 3., 3., 1., 3., 3., 3., 3.],\n",
      "       [1., 1., 2., 1., 3., 3., 1., 3.],\n",
      "       [1., 3., 3., 3., 3., 3., 3., 3.],\n",
      "       [1., 3., 1., 1., 2., 2., 2., 1.],\n",
      "       [2., 3., 3., 3., 3., 3., 2., 3.],\n",
      "       [1., 1., 3., 2., 3., 1., 2., 3.],\n",
      "       [2., 1., 3., 3., 3., 3., 3., 3.],\n",
      "       [1., 3., 3., 2., 3., 3., 3., 3.],\n",
      "       [2., 3., 3., 3., 3., 2., 3., 3.],\n",
      "       [2., 2., 2., 3., 2., 1., 2., 3.],\n",
      "       [1., 2., 1., 1., 1., 1., 1., 1.],\n",
      "       [3., 1., 3., 3., 3., 3., 3., 3.],\n",
      "       [1., 1., 3., 3., 3., 1., 1., 3.],\n",
      "       [1., 2., 1., 1., 1., 1., 1., 1.],\n",
      "       [3., 2., 3., 3., 3., 2., 1., 3.],\n",
      "       [2., 1., 2., 2., 2., 1., 3., 3.],\n",
      "       [3., 1., 1., 1., 1., 1., 1., 1.],\n",
      "       [1., 1., 1., 2., 3., 1., 1., 3.],\n",
      "       [2., 2., 2., 3., 2., 1., 2., 1.],\n",
      "       [2., 3., 3., 3., 3., 2., 3., 3.],\n",
      "       [3., 2., 3., 3., 3., 3., 2., 3.],\n",
      "       [1., 3., 3., 3., 3., 3., 2., 3.],\n",
      "       [3., 1., 1., 1., 1., 1., 3., 1.],\n",
      "       [2., 2., 3., 3., 3., 2., 3., 2.],\n",
      "       [1., 1., 3., 2., 2., 1., 1., 2.],\n",
      "       [1., 3., 3., 3., 3., 3., 3., 3.],\n",
      "       [1., 2., 3., 3., 3., 2., 3., 3.],\n",
      "       [2., 3., 3., 3., 2., 1., 2., 3.],\n",
      "       [1., 3., 3., 3., 3., 3., 3., 3.],\n",
      "       [1., 2., 1., 1., 2., 1., 2., 2.],\n",
      "       [1., 1., 1., 2., 3., 1., 1., 3.],\n",
      "       [3., 3., 3., 3., 3., 1., 1., 3.],\n",
      "       [1., 1., 3., 1., 3., 1., 3., 3.],\n",
      "       [1., 1., 1., 1., 1., 1., 1., 1.],\n",
      "       [2., 2., 3., 2., 3., 2., 2., 3.],\n",
      "       [2., 1., 2., 2., 2., 1., 2., 2.],\n",
      "       [3., 3., 3., 1., 3., 3., 3., 3.],\n",
      "       [3., 3., 3., 3., 3., 3., 3., 3.],\n",
      "       [2., 1., 3., 3., 1., 1., 1., 3.]])}\n"
     ]
    }
   ],
   "source": [
    "\n",
    "ord_list_of_attributes = list_of_attributes - {'ethnicity_1', 'gender_1', 'hometown_1', 'age_1'}\n",
    "print(ord_list_of_attributes)\n",
    "\n",
    "#creating table of attribute values\n",
    "ord_attributes = dict((i, 0) for i in range(1,7))\n",
    "for i in range(1,7):\n",
    "    ord_attributes[i] = np.zeros([len(data[i].nodes), len(ord_list_of_attributes)])\n",
    "\n",
    "for sem in range(1,7):\n",
    "    for i, node in enumerate(data[sem].nodes()):\n",
    "        for j, attribute in enumerate(ord_list_of_attributes):\n",
    "            ord_attributes[sem][i,j] = data[sem].nodes[node][attribute]\n",
    "print(ord_attributes)"
   ]
  },
  {
   "cell_type": "code",
   "execution_count": 13,
   "id": "greater-greenhouse",
   "metadata": {},
   "outputs": [
    {
     "name": "stdout",
     "output_type": "stream",
     "text": [
      "[0.47038187 0.11940998 0.10246659 0.08957861 0.07116288 0.06436994\n",
      " 0.05160825 0.03102189]\n",
      "[17.11639876  8.62397378  7.98873919  7.46946095  6.65754145  6.33182142\n",
      "  5.66952482  4.39563096]\n"
     ]
    }
   ],
   "source": [
    "from sklearn.decomposition import PCA\n",
    "\n",
    "pca = PCA()\n",
    "pca.fit(ord_attributes[1])\n",
    "print(pca.explained_variance_ratio_)\n",
    "print(pca.singular_values_)"
   ]
  },
  {
   "cell_type": "code",
   "execution_count": 14,
   "id": "better-applicant",
   "metadata": {},
   "outputs": [
    {
     "data": {
      "text/plain": [
       "array([[-0.12955624, -0.3241474 , -0.48425964, -0.27084   , -0.39901144,\n",
       "        -0.41745007, -0.24968005, -0.41769261],\n",
       "       [ 0.65333018, -0.43714941, -0.09174305, -0.22128266, -0.2101619 ,\n",
       "         0.07033197,  0.46844261,  0.23690543],\n",
       "       [-0.07401475,  0.10379584, -0.28540519,  0.77893658, -0.30548031,\n",
       "        -0.13639703,  0.42464514, -0.05748098],\n",
       "       [-0.52764789, -0.37576774,  0.17738585, -0.16178306,  0.34976814,\n",
       "        -0.2445525 ,  0.57800543, -0.08070223],\n",
       "       [-0.08275739,  0.17894791, -0.10553723, -0.2090991 , -0.13087866,\n",
       "         0.67667811,  0.29847934, -0.58494095],\n",
       "       [-0.31818028,  0.476098  , -0.16015638, -0.41560726, -0.40466446,\n",
       "        -0.06968337,  0.23693772,  0.49896288],\n",
       "       [-0.37499853, -0.5095246 ,  0.27344745,  0.16193395, -0.46445726,\n",
       "         0.41052265, -0.2217284 ,  0.25563998],\n",
       "       [-0.15418497, -0.18315813, -0.72978919,  0.04570879,  0.42937486,\n",
       "         0.33331801, -0.09702961,  0.32112321]])"
      ]
     },
     "execution_count": 14,
     "metadata": {},
     "output_type": "execute_result"
    }
   ],
   "source": [
    "pca.components_"
   ]
  },
  {
   "cell_type": "markdown",
   "id": "selective-architecture",
   "metadata": {},
   "source": [
    "# Checking correlation for PCA transformed variables"
   ]
  },
  {
   "cell_type": "code",
   "execution_count": 15,
   "id": "juvenile-responsibility",
   "metadata": {},
   "outputs": [],
   "source": [
    "dcor_attributes = dict((i, 0) for i in range(1,7))\n",
    "\n",
    "dcor_attributes = dict((j, np.array([np.sum(pca.components_*ord_attributes[j][i],1) for i in range(0,len(ord_attributes[j]))])) for j in range(1,7))"
   ]
  },
  {
   "cell_type": "code",
   "execution_count": 16,
   "id": "fleet-loading",
   "metadata": {},
   "outputs": [],
   "source": [
    "def get_transformed_attributes(agents, pca_comp = pca.components_):\n",
    "    agents = np.array(agents)\n",
    "    if not hasattr(agents,  \"__len__\"):\n",
    "        agents = [agents]\n",
    "    one_ag = False\n",
    "    if hasattr(agents,  \"shape\"):\n",
    "        if len(agents.shape) == 1:\n",
    "            agents = [agents]\n",
    "            one_ag = True\n",
    "    \n",
    "    transf = np.array([np.sum(pca.components_*agents[i],1) for i in range(0,len(agents))])\n",
    "    \n",
    "    if one_ag:\n",
    "        transf = transf[0]\n",
    "    return transf"
   ]
  },
  {
   "cell_type": "code",
   "execution_count": 17,
   "id": "amateur-organic",
   "metadata": {},
   "outputs": [
    {
     "data": {
      "text/plain": [
       "array([-2.69263746,  0.46867315,  0.4485993 , -0.285294  ,  0.04089202,\n",
       "       -0.15629314, -0.46916477, -0.03463704])"
      ]
     },
     "execution_count": 17,
     "metadata": {},
     "output_type": "execute_result"
    }
   ],
   "source": [
    "get_transformed_attributes(np.ones(8))"
   ]
  },
  {
   "cell_type": "code",
   "execution_count": 18,
   "id": "racial-terminal",
   "metadata": {},
   "outputs": [
    {
     "data": {
      "text/plain": [
       "((98, 8),)"
      ]
     },
     "execution_count": 18,
     "metadata": {},
     "output_type": "execute_result"
    }
   ],
   "source": [
    "dcor_attributes[1].shape, "
   ]
  },
  {
   "cell_type": "code",
   "execution_count": 19,
   "id": "electoral-adaptation",
   "metadata": {},
   "outputs": [],
   "source": [
    "spr_cor, spr_pv = stats.spearmanr(dcor_attributes[1], axis=0)"
   ]
  },
  {
   "cell_type": "code",
   "execution_count": 20,
   "id": "willing-pittsburgh",
   "metadata": {},
   "outputs": [
    {
     "name": "stdout",
     "output_type": "stream",
     "text": [
      "[[ 1.    -0.032 -0.089  0.036 -0.048 -0.07   0.005 -0.057]\n",
      " [-0.032  1.    -0.042  0.039  0.013  0.058 -0.02  -0.021]\n",
      " [-0.089 -0.042  1.    -0.004  0.037 -0.019  0.073 -0.047]\n",
      " [ 0.036  0.039 -0.004  1.     0.042  0.033  0.022 -0.006]\n",
      " [-0.048  0.013  0.037  0.042  1.     0.115 -0.079 -0.045]\n",
      " [-0.07   0.058 -0.019  0.033  0.115  1.    -0.04  -0.003]\n",
      " [ 0.005 -0.02   0.073  0.022 -0.079 -0.04   1.     0.136]\n",
      " [-0.057 -0.021 -0.047 -0.006 -0.045 -0.003  0.136  1.   ]]\n",
      "[[0.    0.751 0.385 0.727 0.636 0.491 0.959 0.577]\n",
      " [0.751 0.    0.682 0.707 0.9   0.568 0.847 0.839]\n",
      " [0.385 0.682 0.    0.967 0.717 0.852 0.472 0.645]\n",
      " [0.727 0.707 0.967 0.    0.68  0.749 0.829 0.955]\n",
      " [0.636 0.9   0.717 0.68  0.    0.26  0.441 0.659]\n",
      " [0.491 0.568 0.852 0.749 0.26  0.    0.693 0.975]\n",
      " [0.959 0.847 0.472 0.829 0.441 0.693 0.    0.183]\n",
      " [0.577 0.839 0.645 0.955 0.659 0.975 0.183 0.   ]]\n"
     ]
    }
   ],
   "source": [
    "np.set_printoptions(precision=3)\n",
    "print(spr_cor)\n",
    "print(spr_pv)"
   ]
  },
  {
   "cell_type": "markdown",
   "id": "administrative-timer",
   "metadata": {},
   "source": [
    "Using PCA variables show that they are decorrelated. So maybe we can use them to calculate polarities, triads etc. \n",
    "But as to calc each new attribute we get all old attributes with certain coefficients, won't the distance just be sum of coefficients for given old attribute times this attribute value?"
   ]
  },
  {
   "cell_type": "markdown",
   "id": "cardiac-advocacy",
   "metadata": {},
   "source": [
    "## Max difference of new attributes"
   ]
  },
  {
   "cell_type": "code",
   "execution_count": 21,
   "id": "affecting-tablet",
   "metadata": {},
   "outputs": [],
   "source": [
    "def calc_distance(agent1, agent2, scale = 1):\n",
    "    return np.sum(np.abs(agent1-agent2)) / len(agent1) / scale\n",
    "\n",
    "def calc_distances(agents, scale = 1):\n",
    "    N, A = agents.shape\n",
    "    \n",
    "    distances = np.zeros([N,N])\n",
    "    \n",
    "    for i in range(0,N):\n",
    "        for j in range(i+1,N):\n",
    "            distances[i,j] = calc_distance(agents[i], agents[j], scale)\n",
    "            distances[j,i] = distances[i,j]\n",
    "    return distances\n"
   ]
  },
  {
   "cell_type": "code",
   "execution_count": 22,
   "id": "heated-winning",
   "metadata": {},
   "outputs": [
    {
     "data": {
      "text/plain": [
       "0.6731593640729351"
      ]
     },
     "execution_count": 22,
     "metadata": {},
     "output_type": "execute_result"
    }
   ],
   "source": [
    "max_dif = abs(np.sum([3,3,3,3,3,3,3,3] * pca.components_[0]) - np.sum(np.ones(8) * pca.components_[0]))/8\n",
    "min_dif = 0\n",
    "max_dif"
   ]
  },
  {
   "cell_type": "code",
   "execution_count": 23,
   "id": "geographic-dealer",
   "metadata": {},
   "outputs": [
    {
     "data": {
      "text/plain": [
       "[-0.6731593640729351,\n",
       " 0.11716828740273696,\n",
       " 0.11214982538572354,\n",
       " -0.07132349966753532,\n",
       " 0.010223005331998849,\n",
       " -0.0390732854047995,\n",
       " -0.11729119229619513,\n",
       " -0.008659260277375638]"
      ]
     },
     "execution_count": 23,
     "metadata": {},
     "output_type": "execute_result"
    }
   ],
   "source": [
    "max_difs = [(np.sum(np.ones(8)*3 * pca.components_[i]) - np.sum(np.ones(8) * pca.components_[i]))/8 for i in range(0, len(pca.components_))]\n",
    "max_difs"
   ]
  },
  {
   "cell_type": "code",
   "execution_count": 24,
   "id": "mathematical-experiment",
   "metadata": {},
   "outputs": [
    {
     "data": {
      "text/plain": [
       "1.1490477198393003"
      ]
     },
     "execution_count": 24,
     "metadata": {},
     "output_type": "execute_result"
    }
   ],
   "source": [
    "sum(np.abs(max_difs))"
   ]
  },
  {
   "cell_type": "code",
   "execution_count": 25,
   "id": "industrial-greensboro",
   "metadata": {},
   "outputs": [
    {
     "data": {
      "text/plain": [
       "([0.6731593640729351,\n",
       "  0.5973368021543245,\n",
       "  0.5415389513500892,\n",
       "  0.6239032129798632,\n",
       "  0.5668296735029916,\n",
       "  0.6450725898637426,\n",
       "  0.6680632035555417,\n",
       "  0.5734216963252283],\n",
       " 4.889325493804716)"
      ]
     },
     "execution_count": 25,
     "metadata": {},
     "output_type": "execute_result"
    }
   ],
   "source": [
    "max_difs2 = [(np.sum(np.abs(np.ones(8)*3 * pca.components_[i])) - np.sum(np.abs(np.ones(8) * pca.components_[i])))/8 for i in range(0, len(pca.components_))]\n",
    "max_difs2, sum(max_difs2)"
   ]
  },
  {
   "cell_type": "code",
   "execution_count": 26,
   "id": "celtic-absence",
   "metadata": {},
   "outputs": [
    {
     "data": {
      "text/plain": [
       "(1.9498109791002045, [(1, 3, 1, 3, 3, 1, 3, 3), (3, 1, 3, 1, 1, 3, 1, 1)])"
      ]
     },
     "execution_count": 26,
     "metadata": {},
     "output_type": "execute_result"
    }
   ],
   "source": [
    "import itertools\n",
    "\n",
    "vals = [1, 3]\n",
    "\n",
    "max_dif3 = 0\n",
    "max_vals = []\n",
    "\n",
    "repeat = 8\n",
    "\n",
    "# agents2 = [np.ones(repeat)]\n",
    "# agents2 = get_transformed_attributes(agents2)\n",
    "for agent1 in itertools.product(vals, repeat = repeat):\n",
    "    tr_agent1 = get_transformed_attributes(agent1)\n",
    "#     for agent2 in agents2: \n",
    "    for agent2 in itertools.product(vals, repeat = repeat):\n",
    "        tr_agent2 = get_transformed_attributes(agent2)\n",
    "        dif = calc_distance(tr_agent1, tr_agent2)\n",
    "        \n",
    "        if dif > max_dif3:\n",
    "            max_dif3 = dif\n",
    "            max_vals = [agent1, agent2]\n",
    "max_dif3, max_vals"
   ]
  },
  {
   "cell_type": "code",
   "execution_count": 27,
   "id": "broken-potential",
   "metadata": {},
   "outputs": [],
   "source": [
    "# def calc_max_dif()"
   ]
  },
  {
   "cell_type": "code",
   "execution_count": 28,
   "id": "wrong-sight",
   "metadata": {},
   "outputs": [
    {
     "data": {
      "text/plain": [
       "1.1490477198393003"
      ]
     },
     "execution_count": 28,
     "metadata": {},
     "output_type": "execute_result"
    }
   ],
   "source": [
    "calc_distance(get_transformed_attributes(np.ones(8)*3), get_transformed_attributes(np.ones(8)))"
   ]
  },
  {
   "cell_type": "code",
   "execution_count": 29,
   "id": "fantastic-april",
   "metadata": {},
   "outputs": [
    {
     "data": {
      "text/plain": [
       "(array([-8.078,  1.406,  1.346, -0.856,  0.123, -0.469, -1.407, -0.104]),\n",
       " (3, 3, 3, 3, 3, 3, 3, 3),\n",
       " array([-6.015,  0.142,  2.337,  0.334, -0.854,  0.627, -2.025,  0.997]))"
      ]
     },
     "execution_count": 29,
     "metadata": {},
     "output_type": "execute_result"
    }
   ],
   "source": [
    "get_transformed_attributes(agent1), agent1, get_transformed_attributes(max_vals[0])"
   ]
  },
  {
   "cell_type": "code",
   "execution_count": 30,
   "id": "sorted-stadium",
   "metadata": {},
   "outputs": [
    {
     "data": {
      "text/plain": [
       "(-0.6731593640729352, 8)"
      ]
     },
     "execution_count": 30,
     "metadata": {},
     "output_type": "execute_result"
    }
   ],
   "source": [
    "sum(pca.components_[0]*2)/8, len(get_transformed_attributes(np.ones(8)*3))"
   ]
  },
  {
   "cell_type": "code",
   "execution_count": null,
   "id": "guided-indication",
   "metadata": {},
   "outputs": [],
   "source": []
  },
  {
   "cell_type": "code",
   "execution_count": 31,
   "id": "fuzzy-condition",
   "metadata": {},
   "outputs": [
    {
     "data": {
      "text/plain": [
       "(array([0.157, 0.244, 0.487, 1.19 , 2.451, 3.277, 2.226, 0.785, 0.102,\n",
       "        0.009]),\n",
       " array([0.   , 0.092, 0.183, 0.275, 0.366, 0.458, 0.549, 0.641, 0.732,\n",
       "        0.824, 0.915]),\n",
       " <BarContainer object of 10 artists>)"
      ]
     },
     "execution_count": 31,
     "metadata": {},
     "output_type": "execute_result"
    },
    {
     "data": {
      "image/png": "[encoded data removed]",
      "text/plain": [
       "<Figure size 432x288 with 1 Axes>"
      ]
     },
     "metadata": {
      "needs_background": "light"
     },
     "output_type": "display_data"
    }
   ],
   "source": [
    "dists = calc_distances(dcor_attributes[1], max_dif3)\n",
    "\n",
    "plt.hist(dists.flatten(), density=True)"
   ]
  },
  {
   "cell_type": "code",
   "execution_count": 32,
   "id": "optional-salmon",
   "metadata": {},
   "outputs": [
    {
     "data": {
      "text/plain": [
       "((array([53, 79, 94, 94]), array([94, 94, 53, 79])), 0.9150660566622943)"
      ]
     },
     "execution_count": 32,
     "metadata": {},
     "output_type": "execute_result"
    }
   ],
   "source": [
    "np.where(np.max(dists) == dists), np.max(dists)"
   ]
  },
  {
   "cell_type": "code",
   "execution_count": 33,
   "id": "sapphire-decline",
   "metadata": {},
   "outputs": [
    {
     "data": {
      "text/plain": [
       "1.9498109791002045"
      ]
     },
     "execution_count": 33,
     "metadata": {},
     "output_type": "execute_result"
    }
   ],
   "source": [
    "transf_max_vals = get_transformed_attributes(max_vals)\n",
    "calc_distance(transf_max_vals[0], transf_max_vals[1])"
   ]
  },
  {
   "cell_type": "code",
   "execution_count": 34,
   "id": "expensive-initial",
   "metadata": {},
   "outputs": [
    {
     "data": {
      "text/plain": [
       "(array([[-6.015,  0.142,  2.337,  0.334, -0.854,  0.627, -2.025,  0.997],\n",
       "        [-4.755,  1.733, -0.543, -1.475,  1.018, -1.252,  0.149, -1.136]]),\n",
       " [(1, 3, 1, 3, 3, 1, 3, 3), (3, 1, 3, 1, 1, 3, 1, 1)])"
      ]
     },
     "execution_count": 34,
     "metadata": {},
     "output_type": "execute_result"
    }
   ],
   "source": [
    "transf_max_vals, max_vals"
   ]
  },
  {
   "cell_type": "code",
   "execution_count": 35,
   "id": "timely-deficit",
   "metadata": {},
   "outputs": [
    {
     "data": {
      "text/plain": [
       "(array([[1., 1., 1., 1., 3., 1., 1., 1.],\n",
       "        [1., 1., 1., 1., 3., 1., 1., 1.],\n",
       "        [3., 3., 3., 3., 1., 3., 3., 3.]]),\n",
       " {'abortion_',\n",
       "  'deathpen_',\n",
       "  'euthanasia_',\n",
       "  'gaymarriage_',\n",
       "  'homosexual_',\n",
       "  'marijuana_',\n",
       "  'political_',\n",
       "  'premaritalsex_'})"
      ]
     },
     "execution_count": 35,
     "metadata": {},
     "output_type": "execute_result"
    }
   ],
   "source": [
    "ord_attributes[1][[53,79,94]], ord_list_of_attributes"
   ]
  },
  {
   "cell_type": "code",
   "execution_count": 36,
   "id": "early-address",
   "metadata": {},
   "outputs": [
    {
     "data": {
      "text/plain": [
       "array([[ 0.,  1.,  1., ..., -1., -1.,  1.],\n",
       "       [ 1.,  0., -1., ...,  1.,  1.,  1.],\n",
       "       [ 1., -1.,  0., ..., -1., -1.,  1.],\n",
       "       ...,\n",
       "       [-1.,  1., -1., ...,  0.,  1., -1.],\n",
       "       [-1.,  1., -1., ...,  1.,  0.,  1.],\n",
       "       [ 1.,  1.,  1., ..., -1.,  1.,  0.]])"
      ]
     },
     "execution_count": 36,
     "metadata": {},
     "output_type": "execute_result"
    }
   ],
   "source": [
    "(dists <= 0.5)*2-1-np.eye(dists.shape[0])"
   ]
  },
  {
   "cell_type": "code",
   "execution_count": 37,
   "id": "cultural-latex",
   "metadata": {},
   "outputs": [],
   "source": [
    "def calc_link_polarity2(agent1, agent2, th, attr_dif = max_dif3):\n",
    "    return calc_distance(agent1, agent2, attr_dif) <= th\n",
    "\n",
    "def calc_link_polarities2(agents, th, attr_dif = max_dif3):\n",
    "    N, A = agents.shape\n",
    "    \n",
    "    polarities = (calc_distances(agents, attr_dif) <= th)*2 - 1 - np.eye(N)\n",
    "    \n",
    "    return polarities\n",
    "\n",
    "def balanced_triad_density(polarities):\n",
    "    N = polarities.shape[0]\n",
    "    return (np.sum(np.matmul(polarities,polarities) * polarities) / 6 / (N*(N-1)*(N-2)/6) + 1)/2"
   ]
  },
  {
   "cell_type": "code",
   "execution_count": 38,
   "id": "interpreted-bahrain",
   "metadata": {},
   "outputs": [
    {
     "data": {
      "text/plain": [
       "(0.6168604039553967, 0.7293682937092363)"
      ]
     },
     "execution_count": 38,
     "metadata": {},
     "output_type": "execute_result"
    }
   ],
   "source": [
    "polarities = calc_link_polarities2(dcor_attributes[1], 0.5)\n",
    "pol2 = calc_link_polarities2(ord_attributes[1], 0.5, 2)\n",
    "balanced_triad_density(polarities), balanced_triad_density(pol2)"
   ]
  },
  {
   "cell_type": "code",
   "execution_count": 39,
   "id": "raised-mitchell",
   "metadata": {},
   "outputs": [],
   "source": [
    "def balanced_triad_density_network(polarities, triads):\n",
    "    T = len(triads)\n",
    "    dens = 0.\n",
    "    for triad in triads:\n",
    "        i, j, k = triad\n",
    "        if polarities[i,j]*polarities[i,k]*polarities[k,j] >= 0:\n",
    "            dens = dens + 1\n",
    "    dens = dens / T\n",
    "    return dens\n",
    "\n",
    "def get_triads_polarity(polarities, triads):\n",
    "    Ts = len(triads)\n",
    "    \n",
    "    t_pol = np.zeros(Ts) \n",
    "    t_pol_type = np.zeros(Ts)\n",
    "    \n",
    "    for t in range(0,Ts):\n",
    "        i, j, k = triads[t]\n",
    "        pols = [polarities[i,j], polarities[i,k], polarities[k,j]]\n",
    "        \n",
    "        t_pol_type[t] = 3-(sum(pols)+3)/2\n",
    "        \n",
    "        if polarities[i,j]*polarities[i,k]*polarities[k,j] >= 0:\n",
    "            t_pol[t] = 1\n",
    "        else:\n",
    "            t_pol[t] = -1\n",
    "    \n",
    "    return t_pol, t_pol_type\n",
    "\n",
    "def count_triads_types(polarities, triads):\n",
    "    t_pol, t_pol_type = get_triads_polarity(polarities, triads)\n",
    "    \n",
    "    t2 = np.array(t_pol_type)\n",
    "    triads_type = [sum(t2 == i) for i in range(0,4)]\n",
    "    \n",
    "    return triads_type\n"
   ]
  },
  {
   "cell_type": "code",
   "execution_count": 40,
   "id": "official-objective",
   "metadata": {},
   "outputs": [],
   "source": [
    "def get_triads(net):\n",
    "    A = nx.adjacency_matrix(net).todense() \n",
    "\n",
    "    N = A.shape[0]\n",
    "\n",
    "    triads = []\n",
    "\n",
    "    for i in range(0,N):\n",
    "        for j in range(i+1,N):\n",
    "            if A[i,j] > 0:\n",
    "                for k in range(j+1,N):\n",
    "                    if A[i,k] > 0 and A[j,k] > 0:\n",
    "                        triads.append((i,j,k))\n",
    "    \n",
    "    return triads\n",
    "\n",
    "def get_triads_strength(triads, net):\n",
    "    A = nx.adjacency_matrix(net).todense() \n",
    "\n",
    "    N = A.shape[0]\n",
    "    Ts = len(triads)\n",
    "    \n",
    "    s_mul = np.zeros(Ts) #multiplicative strength\n",
    "    s_add = np.zeros(Ts) #additive strength\n",
    "    \n",
    "    for t in range(0,Ts):\n",
    "        i, j, k = triads[t]\n",
    "        s_mul[t] = A[i,j] * A[i,k] * A[j,k]\n",
    "        s_add[t] = A[i,j] + A[i,k] + A[j,k]\n",
    "    \n",
    "    return s_mul, s_add"
   ]
  },
  {
   "cell_type": "code",
   "execution_count": 41,
   "id": "outside-interstate",
   "metadata": {},
   "outputs": [
    {
     "data": {
      "text/plain": [
       "(0.044444444444444446, 0.012505259835893123)"
      ]
     },
     "execution_count": 41,
     "metadata": {},
     "output_type": "execute_result"
    }
   ],
   "source": [
    "sem = 1\n",
    "triads = get_triads(data[sem])\n",
    "\n",
    "polarities = calc_link_polarities2(dcor_attributes[sem], 0.1)\n",
    "\n",
    "balanced_triad_density_network(polarities, triads), balanced_triad_density(polarities)"
   ]
  },
  {
   "cell_type": "code",
   "execution_count": 42,
   "id": "sitting-posting",
   "metadata": {},
   "outputs": [],
   "source": [
    "sem = 4\n",
    "triads = get_triads(data[sem])\n",
    "\n",
    "thetas = np.linspace(0,1,101)\n",
    "\n",
    "bals = np.zeros(len(thetas))\n",
    "all_bals = np.zeros(len(thetas))\n",
    "for i, theta in enumerate(thetas):\n",
    "    polarities = calc_link_polarities2(dcor_attributes[sem], theta)\n",
    "    bals[i] = balanced_triad_density_network(polarities, triads)\n",
    "    all_bals[i] = balanced_triad_density(polarities)\n"
   ]
  },
  {
   "cell_type": "code",
   "execution_count": 87,
   "id": "informal-batch",
   "metadata": {},
   "outputs": [
    {
     "data": {
      "text/plain": [
       "Text(0, 0.5, 'density of balanced triads')"
      ]
     },
     "execution_count": 87,
     "metadata": {},
     "output_type": "execute_result"
    },
    {
     "data": {
      "image/png": "[encoded data removed]",
      "text/plain": [
       "<Figure size 432x288 with 1 Axes>"
      ]
     },
     "metadata": {
      "needs_background": "light"
     },
     "output_type": "display_data"
    }
   ],
   "source": [
    "plt.plot(thetas, bals, thetas, all_bals)\n",
    "plt.legend([\"network\", \"all\"])\n",
    "plt.title(\"Comparing HBT in triads and all pairs of agents\")\n",
    "plt.xlabel(\"theta\")\n",
    "plt.ylabel(\"density of balanced triads\")"
   ]
  },
  {
   "cell_type": "markdown",
   "id": "conservative-support",
   "metadata": {},
   "source": [
    "# Randomizing triads in the whole network"
   ]
  },
  {
   "cell_type": "code",
   "execution_count": 45,
   "id": "herbal-interval",
   "metadata": {},
   "outputs": [],
   "source": [
    "def randomize_attributes(attr):\n",
    "    N, A = attr.shape\n",
    "    \n",
    "    attr_copy = np.copy(attr)\n",
    "    for i in range(0,A):\n",
    "        np.random.shuffle(attr_copy[:,i])\n",
    "    \n",
    "    return attr_copy\n",
    "\n",
    "def randomize_all_attributes(attr):\n",
    "    attrs_copy = {}\n",
    "    for sem in range(1,len(attr)+1):\n",
    "        attrs_copy[sem] = randomize_attributes(attr[sem])\n",
    "    return attrs_copy\n",
    "\n",
    "def calc_pval_A8(triads, agents, th, attr_dif, M):\n",
    "    \"\"\"\n",
    "    triads - list of sets of node ids forming a triad\n",
    "    agents - array of vectors of agent attributes\n",
    "    th - threshold used\n",
    "    attr_dif - max difference between attributes\n",
    "    M - number of times to repeat randomization\n",
    "    \"\"\"\n",
    "    polarities = calc_link_polarities2(agents, th, attr_dif)\n",
    "    bal_dens = balanced_triad_density_network(polarities, triads)\n",
    "    \n",
    "#     N = polarities.shape[0]\n",
    "#     rho = np.sum(polarities == 1)/2 / N/(N-1)*2\n",
    "    \n",
    "    bal_dens_rands = np.zeros(M)\n",
    "    \n",
    "    for i in range(0,M):\n",
    "        attr_copy = randomize_attributes(agents)\n",
    "        polarities_rand = calc_link_polarities2(attr_copy, th, attr_dif)\n",
    "        bal_dens_rands[i] = balanced_triad_density_network(polarities_rand, triads)\n",
    "        \n",
    "    pval = np.sum(bal_dens_rands >= bal_dens)\n",
    "    \n",
    "    return bal_dens_rands, bal_dens, pval\n",
    "\n",
    "def compare_networks2(fun, data, th, attr_dif, M):\n",
    "    pvals = np.zeros(6)\n",
    "    vals = np.zeros(6)\n",
    "    stds = np.zeros(6)\n",
    "    difs = np.zeros(6)\n",
    "    \n",
    "    for n in range(1,7):\n",
    "#         print(n)\n",
    "        net = data[n]\n",
    "        triads = get_triads(net)\n",
    "        agents = dcor_attributes[n]\n",
    "        \n",
    "        bal_dens_rands, bal_dens, pval = fun(triads, agents, th, attr_dif, M)\n",
    "        pvals[n-1] = pval\n",
    "        vals[n - 1] = bal_dens\n",
    "        difs[n-1] = np.mean(bal_dens - bal_dens_rands)\n",
    "        stds[n-1] = np.std(difs)\n",
    "    return pvals, vals, difs, stds"
   ]
  },
  {
   "cell_type": "code",
   "execution_count": 44,
   "id": "short-pursuit",
   "metadata": {},
   "outputs": [
    {
     "ename": "NameError",
     "evalue": "name 'compare_bal_triads' is not defined",
     "output_type": "error",
     "traceback": [
      "\u001b[0;31m---------------------------------------------------------------------------\u001b[0m",
      "\u001b[0;31mNameError\u001b[0m                                 Traceback (most recent call last)",
      "Input \u001b[0;32mIn [44]\u001b[0m, in \u001b[0;36m<cell line: 1>\u001b[0;34m()\u001b[0m\n\u001b[0;32m----> 1\u001b[0m bal_dens_rands, bal_dens, pval \u001b[38;5;241m=\u001b[39m \u001b[43mcompare_bal_triads\u001b[49m(triads, dcor_attributes[sem], \u001b[38;5;241m0.5\u001b[39m, \u001b[38;5;241m2\u001b[39m, \u001b[38;5;241m100\u001b[39m)\n",
      "\u001b[0;31mNameError\u001b[0m: name 'compare_bal_triads' is not defined"
     ]
    }
   ],
   "source": [
    "bal_dens_rands, bal_dens, pval = compare_bal_triads(triads, dcor_attributes[sem], 0.5, 2, 100)"
   ]
  },
  {
   "cell_type": "code",
   "execution_count": 90,
   "id": "italic-stereo",
   "metadata": {},
   "outputs": [
    {
     "data": {
      "text/plain": [
       "(2, -0.21346153846153848, 2)"
      ]
     },
     "execution_count": 90,
     "metadata": {},
     "output_type": "execute_result"
    }
   ],
   "source": [
    "np.sum(bal_dens_rands > bal_dens), np.mean(bal_dens_rands) - bal_dens, pval"
   ]
  },
  {
   "cell_type": "code",
   "execution_count": 91,
   "id": "medium-spread",
   "metadata": {},
   "outputs": [],
   "source": [
    "sem = 1\n",
    "triads = get_triads(data[sem])\n",
    "\n",
    "thetas = np.linspace(0,1,15)\n",
    "\n",
    "bals = np.zeros(len(thetas))\n",
    "rand_bals_mean = np.zeros(len(thetas))\n",
    "rand_bals_std = np.zeros(len(thetas))\n",
    "pvals = np.zeros(len(thetas))\n",
    "for i, theta in enumerate(thetas):\n",
    "    rand_bal, bal, pval = compare_bal_triads(triads, dcor_attributes[sem], theta, max_dif3, 100)\n",
    "    rand_bals_mean[i] = np.mean(rand_bal)\n",
    "    rand_bals_std[i] = np.std(rand_bal)\n",
    "    bals[i] = bal\n",
    "    pvals[i] = pval\n"
   ]
  },
  {
   "cell_type": "code",
   "execution_count": 92,
   "id": "joined-eating",
   "metadata": {},
   "outputs": [
    {
     "data": {
      "text/plain": [
       "Text(0, 0.5, 'density of balanced triads')"
      ]
     },
     "execution_count": 92,
     "metadata": {},
     "output_type": "execute_result"
    },
    {
     "data": {
      "image/png": "[encoded data removed]",
      "text/plain": [
       "<Figure size 432x288 with 1 Axes>"
      ]
     },
     "metadata": {
      "needs_background": "light"
     },
     "output_type": "display_data"
    }
   ],
   "source": [
    "plt.plot(thetas, bals, 'ko')\n",
    "# plt.plot(thetas, rand_bals_mean)\n",
    "plt.fill_between(thetas, rand_bals_mean-rand_bals_std, rand_bals_mean+rand_bals_std)\n",
    "plt.legend([\"network\", \"mean\"])\n",
    "plt.title(\"Comparing HBT in triads and randomized all agents' sets of attributes\")\n",
    "plt.xlabel(\"theta\")\n",
    "plt.ylabel(\"density of balanced triads\")"
   ]
  },
  {
   "cell_type": "code",
   "execution_count": 93,
   "id": "possible-robin",
   "metadata": {},
   "outputs": [
    {
     "data": {
      "text/plain": [
       "(array([ 6., 11., 13., 54., 31., 66., 60., 62., 11., 14., 69.,  0.,  0.,\n",
       "         0.,  0.]),\n",
       " 1.9498109791002052)"
      ]
     },
     "execution_count": 93,
     "metadata": {},
     "output_type": "execute_result"
    }
   ],
   "source": [
    "pvals, max_dif3"
   ]
  },
  {
   "cell_type": "code",
   "execution_count": 94,
   "id": "complicated-synthetic",
   "metadata": {},
   "outputs": [
    {
     "ename": "KeyboardInterrupt",
     "evalue": "",
     "output_type": "error",
     "traceback": [
      "\u001b[0;31m---------------------------------------------------------------------------\u001b[0m",
      "\u001b[0;31mKeyboardInterrupt\u001b[0m                         Traceback (most recent call last)",
      "Input \u001b[0;32mIn [94]\u001b[0m, in \u001b[0;36m<cell line: 11>\u001b[0;34m()\u001b[0m\n\u001b[1;32m     18\u001b[0m rand_bals_std \u001b[38;5;241m=\u001b[39m np\u001b[38;5;241m.\u001b[39mzeros(\u001b[38;5;28mlen\u001b[39m(thetas))\n\u001b[1;32m     20\u001b[0m \u001b[38;5;28;01mfor\u001b[39;00m i, theta \u001b[38;5;129;01min\u001b[39;00m \u001b[38;5;28menumerate\u001b[39m(thetas):\n\u001b[0;32m---> 21\u001b[0m     rand_bal, bal, pval \u001b[38;5;241m=\u001b[39m \u001b[43mcompare_bal_triads\u001b[49m\u001b[43m(\u001b[49m\u001b[43mtriads\u001b[49m\u001b[43m,\u001b[49m\u001b[43m \u001b[49m\u001b[43mdcor_attributes\u001b[49m\u001b[43m[\u001b[49m\u001b[43msemm\u001b[49m\u001b[43m]\u001b[49m\u001b[43m,\u001b[49m\u001b[43m \u001b[49m\u001b[43mtheta\u001b[49m\u001b[43m,\u001b[49m\u001b[43m \u001b[49m\u001b[43mmax_dif3\u001b[49m\u001b[43m,\u001b[49m\u001b[43m \u001b[49m\u001b[38;5;241;43m100\u001b[39;49m\u001b[43m)\u001b[49m\n\u001b[1;32m     22\u001b[0m     rand_bals_mean[i] \u001b[38;5;241m=\u001b[39m np\u001b[38;5;241m.\u001b[39mmean(rand_bal)\n\u001b[1;32m     23\u001b[0m     rand_bals_std[i] \u001b[38;5;241m=\u001b[39m np\u001b[38;5;241m.\u001b[39mstd(rand_bal)\n",
      "Input \u001b[0;32mIn [88]\u001b[0m, in \u001b[0;36mcompare_bal_triads\u001b[0;34m(triads, agents, th, attr_dif, M, randomized_agents)\u001b[0m\n\u001b[1;32m     38\u001b[0m \u001b[38;5;28;01mfor\u001b[39;00m i \u001b[38;5;129;01min\u001b[39;00m \u001b[38;5;28mrange\u001b[39m(\u001b[38;5;241m0\u001b[39m,M):\n\u001b[1;32m     39\u001b[0m     agents_rand \u001b[38;5;241m=\u001b[39m randomize_all_attributes(agents, randomized_agents)\n\u001b[0;32m---> 40\u001b[0m     polarities_rand \u001b[38;5;241m=\u001b[39m \u001b[43mcalc_link_polarities2\u001b[49m\u001b[43m(\u001b[49m\u001b[43magents_rand\u001b[49m\u001b[43m,\u001b[49m\u001b[43m \u001b[49m\u001b[43mth\u001b[49m\u001b[43m,\u001b[49m\u001b[43m \u001b[49m\u001b[43mattr_dif\u001b[49m\u001b[43m)\u001b[49m\n\u001b[1;32m     41\u001b[0m     bal_dens_rands[i] \u001b[38;5;241m=\u001b[39m balanced_triad_density_network(polarities_rand, triads)\n\u001b[1;32m     43\u001b[0m pval \u001b[38;5;241m=\u001b[39m np\u001b[38;5;241m.\u001b[39msum(bal_dens_rands \u001b[38;5;241m>\u001b[39m bal_dens)\n",
      "Input \u001b[0;32mIn [81]\u001b[0m, in \u001b[0;36mcalc_link_polarities2\u001b[0;34m(agents, th, attr_dif)\u001b[0m\n\u001b[1;32m      4\u001b[0m \u001b[38;5;28;01mdef\u001b[39;00m \u001b[38;5;21mcalc_link_polarities2\u001b[39m(agents, th, attr_dif \u001b[38;5;241m=\u001b[39m max_dif3):\n\u001b[1;32m      5\u001b[0m     N, A \u001b[38;5;241m=\u001b[39m agents\u001b[38;5;241m.\u001b[39mshape\n\u001b[0;32m----> 7\u001b[0m     polarities \u001b[38;5;241m=\u001b[39m (\u001b[43mcalc_distances\u001b[49m\u001b[43m(\u001b[49m\u001b[43magents\u001b[49m\u001b[43m,\u001b[49m\u001b[43m \u001b[49m\u001b[43mattr_dif\u001b[49m\u001b[43m)\u001b[49m \u001b[38;5;241m<\u001b[39m\u001b[38;5;241m=\u001b[39m th)\u001b[38;5;241m*\u001b[39m\u001b[38;5;241m2\u001b[39m \u001b[38;5;241m-\u001b[39m \u001b[38;5;241m1\u001b[39m \u001b[38;5;241m-\u001b[39m np\u001b[38;5;241m.\u001b[39meye(N)\n\u001b[1;32m      9\u001b[0m     \u001b[38;5;28;01mreturn\u001b[39;00m polarities\n",
      "Input \u001b[0;32mIn [65]\u001b[0m, in \u001b[0;36mcalc_distances\u001b[0;34m(agents, scale)\u001b[0m\n\u001b[1;32m     10\u001b[0m     \u001b[38;5;28;01mfor\u001b[39;00m j \u001b[38;5;129;01min\u001b[39;00m \u001b[38;5;28mrange\u001b[39m(i\u001b[38;5;241m+\u001b[39m\u001b[38;5;241m1\u001b[39m,N):\n\u001b[1;32m     11\u001b[0m         distances[i,j] \u001b[38;5;241m=\u001b[39m calc_distance(agents[i], agents[j], scale)\n\u001b[0;32m---> 12\u001b[0m         distances[j,i] \u001b[38;5;241m=\u001b[39m distances[i,j]\n\u001b[1;32m     13\u001b[0m \u001b[38;5;28;01mreturn\u001b[39;00m distances\n",
      "\u001b[0;31mKeyboardInterrupt\u001b[0m: "
     ]
    },
    {
     "data": {
      "image/png": "[encoded data removed]",
      "text/plain": [
       "<Figure size 1440x720 with 6 Axes>"
      ]
     },
     "metadata": {
      "needs_background": "light"
     },
     "output_type": "display_data"
    }
   ],
   "source": [
    "dim1 = 2\n",
    "dim2 = 3\n",
    "thetas = np.linspace(0,1,11)\n",
    "pvals = dict((i, np.zeros(len(thetas))) for i in range(1,7))\n",
    "\n",
    "fig, axs = plt.subplots(dim1, dim2)\n",
    "fig.set_size_inches(20,10)\n",
    "fig.suptitle(\"Comparing HBT in triads and randomized all agents' sets of attributes\")\n",
    "\n",
    "semm = 0\n",
    "for a1 in range(0,dim1):\n",
    "    for a2 in range(0,dim2):\n",
    "        semm = semm + 1\n",
    "        triads = get_triads(data[semm])\n",
    "\n",
    "        bals = np.zeros(len(thetas))\n",
    "        rand_bals_mean = np.zeros(len(thetas))\n",
    "        rand_bals_std = np.zeros(len(thetas))\n",
    "        \n",
    "        for i, theta in enumerate(thetas):\n",
    "            rand_bal, bal, pval = compare_bal_triads(triads, dcor_attributes[semm], theta, max_dif3, 100)\n",
    "            rand_bals_mean[i] = np.mean(rand_bal)\n",
    "            rand_bals_std[i] = np.std(rand_bal)\n",
    "            bals[i] = bal\n",
    "            pvals[semm][i] = pval\n",
    "        \n",
    "        axs[a1, a2].set_title(\"sem=\" + str(semm))\n",
    "        axs[a1,a2].plot(thetas, bals, 'ko')\n",
    "        # plt.plot(thetas, rand_bals_mean)\n",
    "        axs[a1, a2].fill_between(thetas, rand_bals_mean-rand_bals_std, rand_bals_mean+rand_bals_std)\n",
    "        axs[a1, a2].legend([\"network\", \"mean\"])\n",
    "\n",
    "for ax in axs.flat:\n",
    "    ax.set(xlabel='theta', ylabel='density of balanced triads')\n",
    "\n",
    "# Hide x labels and tick labels for top plots and y ticks for right plots.\n",
    "for ax in axs.flat:\n",
    "    ax.label_outer()"
   ]
  },
  {
   "cell_type": "code",
   "execution_count": null,
   "id": "impaired-hello",
   "metadata": {},
   "outputs": [],
   "source": [
    "pvals"
   ]
  },
  {
   "cell_type": "markdown",
   "id": "breathing-success",
   "metadata": {},
   "source": [
    "# Randomizing attributes only inside triads"
   ]
  },
  {
   "cell_type": "code",
   "execution_count": null,
   "id": "massive-reduction",
   "metadata": {},
   "outputs": [],
   "source": [
    "sem = 1\n",
    "triads = get_triads(data[sem])"
   ]
  },
  {
   "cell_type": "code",
   "execution_count": null,
   "id": "cutting-message",
   "metadata": {},
   "outputs": [],
   "source": [
    "from itertools import chain\n",
    "triad_agents = np.unique(list(chain.from_iterable(triads)))\n",
    "dcor_attributes[1][triad_agents];"
   ]
  },
  {
   "cell_type": "code",
   "execution_count": null,
   "id": "younger-patch",
   "metadata": {},
   "outputs": [],
   "source": [
    "sem = 2\n",
    "triads = get_triads(data[sem])\n",
    "triad_agents = np.unique(list(chain.from_iterable(triads)))\n",
    "\n",
    "thetas = np.linspace(0,1,11)\n",
    "\n",
    "bals = np.zeros(len(thetas))\n",
    "rand_bals_mean = np.zeros(len(thetas))\n",
    "rand_bals_std = np.zeros(len(thetas))\n",
    "pvals_t = np.zeros(len(thetas))\n",
    "for i, theta in enumerate(thetas):\n",
    "    rand_bal, bal, pval = compare_bal_triads(triads, dcor_attributes[sem], theta, max_dif3, 100, triad_agents)\n",
    "    rand_bals_mean[i] = np.mean(rand_bal)\n",
    "    rand_bals_std[i] = np.std(rand_bal)\n",
    "    bals[i] = bal\n",
    "    pvals_t[i] = pval"
   ]
  },
  {
   "cell_type": "code",
   "execution_count": null,
   "id": "mobile-single",
   "metadata": {},
   "outputs": [],
   "source": [
    "plt.plot(thetas, bals, 'ko')\n",
    "# plt.plot(thetas, rand_bals_mean)\n",
    "plt.fill_between(thetas, rand_bals_mean-rand_bals_std, rand_bals_mean+rand_bals_std)\n",
    "plt.legend([\"network\", \"mean\"])\n",
    "plt.title(\"Comparing HBT in triads and randomized triad agents' sets of attributes\")\n",
    "plt.xlabel(\"theta\")\n",
    "plt.ylabel(\"density of balanced triads\")"
   ]
  },
  {
   "cell_type": "code",
   "execution_count": null,
   "id": "willing-million",
   "metadata": {},
   "outputs": [],
   "source": [
    "pvals_t, triad_agents"
   ]
  },
  {
   "cell_type": "code",
   "execution_count": null,
   "id": "grand-resolution",
   "metadata": {},
   "outputs": [],
   "source": [
    "dim1 = 2\n",
    "dim2 = 3\n",
    "thetas = np.linspace(0,1,21)\n",
    "pvals_t = dict((i, np.zeros(len(thetas))) for i in range(1,7))\n",
    "\n",
    "fig, axs = plt.subplots(dim1, dim2)\n",
    "fig.set_size_inches(20,10)\n",
    "fig.suptitle(\"Comparing HBT in triads and randomized triad agents' sets of attributes\")\n",
    "\n",
    "semm = 0\n",
    "for a1 in range(0,dim1):\n",
    "    for a2 in range(0,dim2):\n",
    "        semm = semm + 1\n",
    "        triads = get_triads(data[semm])\n",
    "        triad_agents = np.unique(list(chain.from_iterable(triads)))\n",
    "\n",
    "        bals = np.zeros(len(thetas))\n",
    "        rand_bals_mean = np.zeros(len(thetas))\n",
    "        rand_bals_std = np.zeros(len(thetas))\n",
    "        \n",
    "        for i, theta in enumerate(thetas):\n",
    "            rand_bal, bal, pval = compare_bal_triads(triads, dcor_attributes[semm], theta, max_dif3, 100, triad_agents)\n",
    "            rand_bals_mean[i] = np.mean(rand_bal)\n",
    "            rand_bals_std[i] = np.std(rand_bal)\n",
    "            bals[i] = bal\n",
    "            pvals_t[semm][i] = pval\n",
    "        \n",
    "        axs[a1, a2].set_title(\"sem=\" + str(semm))\n",
    "        axs[a1,a2].plot(thetas, bals, 'ko')\n",
    "        # plt.plot(thetas, rand_bals_mean)\n",
    "        axs[a1, a2].fill_between(thetas, rand_bals_mean-rand_bals_std, rand_bals_mean+rand_bals_std)\n",
    "        axs[a1, a2].legend([\"network\", \"mean\"])\n",
    "\n",
    "for ax in axs.flat:\n",
    "    ax.set(xlabel='theta', ylabel='density of balanced triads')\n",
    "\n",
    "# Hide x labels and tick labels for top plots and y ticks for right plots.\n",
    "for ax in axs.flat:\n",
    "    ax.label_outer()"
   ]
  },
  {
   "cell_type": "code",
   "execution_count": null,
   "id": "verbal-logging",
   "metadata": {
    "scrolled": true
   },
   "outputs": [],
   "source": [
    "pvals_t"
   ]
  },
  {
   "cell_type": "code",
   "execution_count": null,
   "id": "fabulous-pipeline",
   "metadata": {},
   "outputs": [],
   "source": [
    "sem = 2\n",
    "triads = get_triads(data[sem])\n",
    "triad_agents = np.unique(list(chain.from_iterable(triads)))"
   ]
  },
  {
   "cell_type": "code",
   "execution_count": null,
   "id": "amino-knock",
   "metadata": {},
   "outputs": [],
   "source": [
    "[len(np.unique(list(chain.from_iterable(get_triads(data[sem]))))) for sem in range(1,7)]"
   ]
  },
  {
   "cell_type": "code",
   "execution_count": null,
   "id": "complete-mercury",
   "metadata": {},
   "outputs": [],
   "source": [
    "[len(get_triads(data[sem])) for sem in range(1,7)]"
   ]
  },
  {
   "cell_type": "markdown",
   "id": "formal-ethics",
   "metadata": {},
   "source": [
    "# A8"
   ]
  },
  {
   "cell_type": "code",
   "execution_count": 97,
   "id": "desperate-sierra",
   "metadata": {},
   "outputs": [
    {
     "data": {
      "text/plain": [
       "{1: array([[-7.159e+00,  2.502e+00,  3.593e-01,  5.744e-02, -2.612e-02,\n",
       "         -1.005e+00, -5.504e-01,  2.167e-01],\n",
       "        [-4.933e+00,  1.363e+00,  1.878e+00, -7.064e-01, -1.754e-01,\n",
       "         -7.996e-01,  1.976e-01, -2.698e-01],\n",
       "        [-7.109e+00,  1.590e+00,  1.917e+00, -1.211e+00,  3.338e-01,\n",
       "         -1.486e-01, -1.954e+00,  1.356e+00],\n",
       "        [-7.049e+00, -6.162e-01, -1.344e-01, -7.948e-01, -9.967e-02,\n",
       "          1.092e-01, -3.760e-01,  3.528e-01],\n",
       "        [-6.184e+00,  9.057e-01, -7.857e-01, -1.135e+00, -2.140e-02,\n",
       "          1.352e-01,  6.107e-02, -9.330e-02],\n",
       "        [-3.516e+00,  9.684e-01,  1.402e+00,  4.949e-01,  8.168e-01,\n",
       "          7.937e-01, -1.422e+00, -4.119e-01],\n",
       "        [-3.705e+00,  8.201e-01, -2.163e-01, -2.858e-01, -2.783e-01,\n",
       "         -1.039e+00, -1.035e+00, -4.892e-01],\n",
       "        [-4.754e+00,  5.709e-01,  2.019e+00, -8.291e-01,  5.632e-01,\n",
       "         -1.067e+00, -1.305e+00,  3.851e-01],\n",
       "        [-7.224e+00,  7.578e-01,  6.111e-01,  7.370e-01,  3.183e-01,\n",
       "          1.070e-01, -3.099e-01,  3.419e-01],\n",
       "        [-6.485e+00, -9.782e-01,  9.173e-01, -4.675e-01, -1.662e+00,\n",
       "         -1.670e-01, -1.035e+00, -2.681e-01],\n",
       "        [-3.787e+00,  7.471e-01,  2.181e+00,  3.332e-01,  6.077e-01,\n",
       "          3.781e-01, -1.260e+00, -3.661e-01],\n",
       "        [-3.092e+00,  2.585e-01,  1.431e-01,  6.447e-02, -8.999e-02,\n",
       "         -5.610e-01, -9.336e-01,  3.947e-01],\n",
       "        [-6.086e+00,  3.646e-01,  1.134e+00,  8.620e-01, -1.722e+00,\n",
       "         -8.823e-01, -2.378e-01,  1.169e-03],\n",
       "        [-3.719e+00, -6.564e-02,  1.721e+00, -4.315e-01, -4.828e-01,\n",
       "         -1.148e+00,  1.282e-01, -6.730e-01],\n",
       "        [-7.243e+00,  1.265e+00,  1.619e+00, -3.668e-01, -1.231e+00,\n",
       "         -3.295e-01, -2.229e+00, -7.705e-01],\n",
       "        [-4.365e+00,  1.329e+00,  1.734e+00,  8.056e-01, -2.617e-01,\n",
       "          2.408e-01, -2.216e-01, -5.917e-01],\n",
       "        [-4.178e+00,  1.843e+00,  1.463e+00, -5.581e-01, -1.122e+00,\n",
       "          3.448e-01, -3.927e-01,  4.021e-01],\n",
       "        [-3.993e+00,  2.270e+00,  2.708e+00, -5.081e-01,  5.414e-02,\n",
       "         -1.150e+00, -1.339e+00, -4.456e-01],\n",
       "        [-7.531e+00,  5.158e-01,  1.477e+00, -2.475e-01,  7.904e-01,\n",
       "         -6.497e-01, -1.288e+00, -2.708e-01],\n",
       "        [-5.367e+00,  1.016e+00,  2.130e+00,  1.085e+00, -1.212e+00,\n",
       "         -3.250e-01, -1.006e+00,  1.364e+00],\n",
       "        [-7.430e+00,  2.280e+00,  1.138e+00, -1.043e-01, -2.352e-01,\n",
       "         -1.421e+00, -3.884e-01,  2.624e-01],\n",
       "        [-7.819e+00,  9.936e-02,  1.494e+00,  1.994e-01,  2.882e-01,\n",
       "          1.675e-01, -6.575e-01,  2.045e-01],\n",
       "        [-6.336e+00,  8.330e-01,  1.559e+00,  1.440e+00, -1.423e+00,\n",
       "         -6.453e-01, -4.595e-01, -9.586e-02],\n",
       "        [-7.819e+00,  9.936e-02,  1.494e+00,  1.994e-01,  2.882e-01,\n",
       "          1.675e-01, -6.575e-01,  2.045e-01],\n",
       "        [-7.087e+00,  1.304e+00,  9.538e-01, -8.136e-01, -1.031e+00,\n",
       "         -1.112e+00, -1.087e+00, -1.570e-01],\n",
       "        [-2.963e+00,  2.474e-01,  1.228e+00, -4.471e-01, -1.682e-01,\n",
       "         -5.719e-01, -3.072e-01,  1.107e-02],\n",
       "        [-3.915e+00,  7.582e-01,  1.096e+00,  8.447e-01,  6.859e-01,\n",
       "          3.890e-01, -1.887e+00,  1.752e-02],\n",
       "        [-3.093e+00,  9.007e-01,  1.154e+00, -9.747e-01, -2.510e-01,\n",
       "         -8.901e-01, -6.822e-01, -1.431e-01],\n",
       "        [-4.038e+00,  9.386e-01, -2.939e-01, -1.941e-01, -8.886e-01,\n",
       "         -7.848e-01, -1.517e+00,  9.911e-01],\n",
       "        [-3.288e+00, -1.898e-01,  1.331e+00, -8.228e-01,  1.074e-02,\n",
       "         -9.580e-02, -8.168e-01, -1.721e-01],\n",
       "        [-3.341e+00, -4.056e-01,  6.562e-01, -1.037e+00,  3.988e-01,\n",
       "          7.959e-01, -1.488e+00, -4.010e-01],\n",
       "        [-7.819e+00,  9.936e-02,  1.494e+00,  1.994e-01,  2.882e-01,\n",
       "          1.675e-01, -6.575e-01,  2.045e-01],\n",
       "        [-6.758e+00,  2.070e+00, -3.457e-01,  7.469e-01,  2.657e-01,\n",
       "         -2.717e-01, -3.373e-01,  3.252e-01],\n",
       "        [-7.113e+00,  6.120e-01,  1.693e+00,  1.609e-01, -1.148e+00,\n",
       "         -1.133e-02, -1.854e+00, -6.164e-01],\n",
       "        [-5.283e+00,  3.646e-01,  2.199e-01,  1.549e+00,  3.440e-01,\n",
       "         -3.360e-01, -1.804e+00, -1.013e+00],\n",
       "        [-2.693e+00,  4.687e-01,  4.486e-01, -2.853e-01,  4.089e-02,\n",
       "         -1.563e-01, -4.692e-01, -3.464e-02],\n",
       "        [-5.793e+00,  9.424e-01, -1.567e-01,  1.436e+00,  1.518e+00,\n",
       "         -9.514e-01, -4.736e-01, -1.629e-01],\n",
       "        [-7.096e+00,  7.467e-01,  1.696e+00,  2.254e-01,  2.401e-01,\n",
       "          9.605e-02,  3.165e-01, -4.176e-02],\n",
       "        [-7.754e+00,  1.843e+00,  1.242e+00, -4.801e-01, -5.627e-02,\n",
       "         -9.450e-01, -8.980e-01,  7.925e-02],\n",
       "        [-2.952e+00,  1.775e+00,  3.006e-01, -1.341e+00, -1.246e-01,\n",
       "         -7.927e-01, -1.219e+00, -3.430e-01],\n",
       "        [-3.192e+00,  1.406e+00,  1.298e+00,  8.707e-01,  6.379e-01,\n",
       "          3.176e-01, -9.126e-01, -2.287e-01],\n",
       "        [-4.501e+00,  7.636e-01,  5.566e-01,  1.053e-01, -7.824e-01,\n",
       "          1.150e+00, -1.154e+00,  7.568e-01],\n",
       "        [-6.360e+00, -6.319e-01, -8.559e-01, -5.523e-01,  6.944e-01,\n",
       "          2.586e-02, -7.935e-01, -1.402e-02],\n",
       "        [-2.693e+00,  4.687e-01,  4.486e-01, -2.853e-01,  4.089e-02,\n",
       "         -1.563e-01, -4.692e-01, -3.464e-02],\n",
       "        [-3.201e+00,  2.244e+00,  7.252e-01, -7.626e-01,  1.739e-01,\n",
       "         -5.557e-01, -1.441e+00, -4.400e-01],\n",
       "        [-7.948e+00,  7.527e-01,  1.420e+00, -3.282e-01,  2.054e-01,\n",
       "         -1.507e-01, -1.032e+00,  5.027e-02],\n",
       "        [-4.027e+00,  1.879e+00,  1.183e+00,  7.093e-01, -5.320e-01,\n",
       "          1.316e+00, -4.013e-01,  4.136e-01],\n",
       "        [-5.794e+00,  1.276e+00,  1.157e-03,  1.764e+00, -1.005e+00,\n",
       "          1.859e-01, -7.834e-01, -1.873e-01],\n",
       "        [-7.407e+00,  1.195e+00, -1.381e-01, -4.668e-03,  6.236e-01,\n",
       "          6.805e-01, -1.356e+00, -4.114e-02],\n",
       "        [-2.693e+00,  4.687e-01,  4.486e-01, -2.853e-01,  4.089e-02,\n",
       "         -1.563e-01, -4.692e-01, -3.464e-02],\n",
       "        [-6.211e+00,  1.346e+00, -1.352e-01,  1.519e+00, -3.282e-01,\n",
       "          1.162e-01, -3.728e-01,  1.460e-01],\n",
       "        [-7.699e+00,  2.842e-01,  9.952e-01, -9.062e-01, -9.305e-02,\n",
       "         -3.876e-01, -8.108e-01,  1.473e-01],\n",
       "        [-6.888e+00,  2.723e+00, -4.197e-01,  2.192e-01,  1.830e-01,\n",
       "         -5.899e-01, -7.123e-01,  1.710e-01],\n",
       "        [-3.491e+00,  4.835e-02, -1.624e-01,  4.142e-01, -2.209e-01,\n",
       "         -9.656e-01, -1.398e+00,  8.241e-01],\n",
       "        [-7.157e+00,  7.268e-01, -5.627e-01, -5.827e-01,  3.252e-01,\n",
       "          4.436e-01, -1.135e+00,  5.589e-02],\n",
       "        [-7.037e+00,  9.117e-01, -1.061e+00, -1.688e+00, -5.608e-02,\n",
       "         -1.115e-01, -1.288e+00, -1.269e-03],\n",
       "        [-2.942e+00,  9.371e-01,  8.732e-01,  2.927e-01,  3.394e-01,\n",
       "          8.064e-02, -6.909e-01, -1.317e-01],\n",
       "        [-2.942e+00,  9.371e-01,  8.732e-01,  2.927e-01,  3.394e-01,\n",
       "          8.064e-02, -6.909e-01, -1.317e-01],\n",
       "        [-7.407e+00,  1.195e+00, -1.381e-01, -4.668e-03,  6.236e-01,\n",
       "          6.805e-01, -1.356e+00, -4.114e-02],\n",
       "        [-7.678e+00,  9.740e-01,  6.409e-01, -1.665e-01,  4.145e-01,\n",
       "          2.649e-01, -1.194e+00,  4.565e-03],\n",
       "        [-5.217e+00,  5.625e-01,  2.948e+00, -3.658e-01, -5.923e-01,\n",
       "          1.436e+00, -1.097e+00,  1.387e-01],\n",
       "        [-3.092e+00,  2.585e-01,  1.431e-01,  6.447e-02, -8.999e-02,\n",
       "         -5.610e-01, -9.336e-01,  3.947e-01],\n",
       "        [-6.362e+00,  3.700e-01,  1.556e+00, -5.300e-01,  4.718e-02,\n",
       "          1.927e-02,  2.648e-01,  7.851e-01],\n",
       "        [-5.943e+00, -5.356e-01, -6.405e-01, -1.439e-01, -1.244e+00,\n",
       "          6.642e-01, -1.359e+00, -3.595e-01],\n",
       "        [-4.176e+00,  6.819e-02,  5.412e-01, -1.198e+00, -7.711e-01,\n",
       "          1.794e+00, -9.769e-01,  2.413e-01],\n",
       "        [-6.734e+00, -5.097e-01,  1.342e+00,  1.105e-01, -1.364e+00,\n",
       "          6.991e-02, -1.257e+00, -3.651e-01],\n",
       "        [-6.389e+00,  6.171e-01,  8.839e-01,  1.226e+00, -1.035e+00,\n",
       "          2.464e-01, -1.131e+00, -3.247e-01],\n",
       "        [-5.544e+00,  8.071e-01, -4.235e-01,  1.186e+00, -1.303e+00,\n",
       "         -5.107e-02, -5.616e-01, -9.025e-02],\n",
       "        [-4.556e+00,  2.323e+00,  8.034e-01,  5.314e-01, -7.457e-01,\n",
       "          5.927e-01, -1.241e+00,  6.887e-01],\n",
       "        [-5.803e+00,  1.174e+00,  8.397e-01, -6.513e-01, -5.032e-01,\n",
       "          1.864e-01, -6.827e-01,  2.518e-01],\n",
       "        [-3.787e+00,  2.249e+00,  1.856e-01, -1.502e+00, -1.295e+00,\n",
       "          2.053e-01, -7.079e-01,  2.992e-01],\n",
       "        [-7.819e+00,  9.936e-02,  1.494e+00,  1.994e-01,  2.882e-01,\n",
       "          1.675e-01, -6.575e-01,  2.045e-01],\n",
       "        [-3.213e+00,  7.158e-01,  1.652e+00,  1.309e-01,  1.303e-01,\n",
       "         -3.350e-01, -5.290e-01, -8.596e-02],\n",
       "        [-5.404e+00,  2.324e+00, -2.660e-01, -2.194e-01, -1.338e+00,\n",
       "         -2.828e-01, -8.472e-01, -8.280e-01],\n",
       "        [-6.489e+00,  2.933e+00, -1.142e-01, -1.305e-01,  3.139e-01,\n",
       "         -1.852e-01, -2.479e-01, -2.584e-01],\n",
       "        [-4.157e+00,  2.533e+00,  1.109e+00,  1.817e-01, -6.148e-01,\n",
       "          9.973e-01, -7.763e-01,  2.594e-01],\n",
       "        [-4.497e+00,  7.590e-01, -2.372e-01, -9.193e-02, -1.340e+00,\n",
       "          5.213e-01,  5.890e-01, -8.520e-01],\n",
       "        [-7.536e+00,  1.849e+00, -2.121e-01, -5.323e-01,  5.409e-01,\n",
       "          3.623e-01, -1.731e+00, -1.953e-01],\n",
       "        [-6.957e+00,  6.511e-01,  1.028e+00, -2.859e-01, -9.487e-01,\n",
       "         -7.941e-01, -7.118e-01, -2.856e-03],\n",
       "        [-3.491e+00,  4.835e-02, -1.624e-01,  4.142e-01, -2.209e-01,\n",
       "         -9.656e-01, -1.398e+00,  8.241e-01],\n",
       "        [-4.120e+00,  1.639e+00,  6.129e-01,  1.043e+00,  2.933e-01,\n",
       "         -8.099e-01, -2.217e+00,  4.759e-01],\n",
       "        [-3.322e+00,  2.059e+00,  1.224e+00,  3.431e-01,  5.551e-01,\n",
       "         -5.980e-04, -1.288e+00, -3.829e-01],\n",
       "        [-2.942e+00,  9.371e-01,  8.732e-01,  2.927e-01,  3.394e-01,\n",
       "          8.064e-02, -6.909e-01, -1.317e-01],\n",
       "        [-5.851e+00,  5.651e-01,  4.427e-01,  2.011e-01, -8.313e-01,\n",
       "         -8.077e-01, -1.540e+00, -7.030e-01],\n",
       "        [-7.408e+00,  1.837e+00,  8.723e-01, -1.044e+00,  4.627e-01,\n",
       "          3.514e-01, -1.105e+00, -5.790e-01],\n",
       "        [-2.693e+00,  4.687e-01,  4.486e-01, -2.853e-01,  4.089e-02,\n",
       "         -1.563e-01, -4.692e-01, -3.464e-02],\n",
       "        [-5.831e+00,  1.837e+00,  3.393e-01,  5.750e-01,  6.103e-01,\n",
       "          8.558e-01,  9.666e-01, -3.794e-01],\n",
       "        [-6.713e+00,  1.800e-01,  9.877e-01,  8.503e-01, -8.561e-01,\n",
       "          7.225e-01, -1.640e+00, -5.079e-01],\n",
       "        [-3.787e+00,  2.249e+00,  1.856e-01, -1.502e+00, -1.295e+00,\n",
       "          2.053e-01, -7.079e-01,  2.992e-01],\n",
       "        [-7.449e+00, -1.842e-01,  5.705e-01, -1.484e+00, -3.915e-01,\n",
       "         -6.246e-01, -5.890e-01,  2.443e-01],\n",
       "        [-3.900e+00, -2.704e-01, -3.849e-02, -1.339e-01, -1.658e-02,\n",
       "         -2.450e-01, -1.170e+00, -5.182e-01],\n",
       "        [-2.963e+00,  2.474e-01,  1.228e+00, -4.471e-01, -1.682e-01,\n",
       "         -5.719e-01, -3.072e-01,  1.107e-02],\n",
       "        [-6.324e+00,  2.361e+00,  6.321e-01,  5.465e-01, -1.379e+00,\n",
       "         -8.661e-01, -1.371e+00, -4.499e-01],\n",
       "        [-4.286e+00,  3.186e+00,  1.035e+00, -3.460e-01, -6.975e-01,\n",
       "          6.791e-01, -1.151e+00,  1.052e-01],\n",
       "        [-7.280e+00,  1.826e+00,  1.957e+00, -1.555e+00,  3.844e-01,\n",
       "          3.404e-01, -4.786e-01, -9.627e-01],\n",
       "        [-4.231e+00,  1.627e+00,  7.881e-01, -7.721e-01, -7.343e-01,\n",
       "          1.236e+00, -1.064e+00,  1.732e-01],\n",
       "        [-3.341e+00,  7.270e-01,  5.678e-01,  6.425e-01,  2.085e-01,\n",
       "         -3.240e-01, -1.155e+00,  2.977e-01],\n",
       "        [-7.495e+00,  5.365e-01,  1.390e+00,  5.752e-01,  1.092e-01,\n",
       "         -3.086e-01, -1.480e-01,  3.876e-01]]),\n",
       " 2: array([[-3.192e+00,  1.406e+00,  1.298e+00,  8.707e-01,  6.379e-01,\n",
       "          3.176e-01, -9.126e-01, -2.287e-01],\n",
       "        [-2.693e+00,  4.687e-01,  4.486e-01, -2.853e-01,  4.089e-02,\n",
       "         -1.563e-01, -4.692e-01, -3.464e-02],\n",
       "        [-5.923e+00,  1.929e+00, -7.286e-02,  1.236e+00, -1.088e+00,\n",
       "         -1.323e-01, -1.158e+00, -3.415e-01],\n",
       "        [-7.243e+00,  1.265e+00,  1.619e+00, -3.668e-01, -1.231e+00,\n",
       "         -3.295e-01, -2.229e+00, -7.705e-01],\n",
       "        [-3.813e+00,  1.224e+00,  7.666e-01, -8.553e-01,  1.112e+00,\n",
       "          1.689e-01, -1.165e+00, -1.357e-01],\n",
       "        [-6.160e+00, -5.410e-01,  8.135e-01, -9.172e-02, -1.841e+00,\n",
       "         -6.431e-01, -5.256e-01, -8.496e-02],\n",
       "        [-7.277e+00,  5.419e-01, -6.405e-02,  5.230e-01,  7.064e-01,\n",
       "          9.987e-01, -9.814e-01,  1.130e-01],\n",
       "        [-6.595e+00,  2.140e+00,  1.411e+00,  3.848e-01, -1.589e+00,\n",
       "         -1.282e+00, -1.209e+00, -4.042e-01],\n",
       "        [-3.017e+00,  3.152e-02,  5.524e-01, -6.611e-01,  2.198e-01,\n",
       "          3.198e-01, -9.787e-01, -2.178e-01],\n",
       "        [-7.212e+00,  2.286e+00, -3.159e-01, -1.565e-01,  3.619e-01,\n",
       "         -1.138e-01, -1.222e+00, -1.217e-02],\n",
       "        [-2.693e+00,  4.687e-01,  4.486e-01, -2.853e-01,  4.089e-02,\n",
       "         -1.563e-01, -4.692e-01, -3.464e-02],\n",
       "        [-2.963e+00,  2.474e-01,  1.228e+00, -4.471e-01, -1.682e-01,\n",
       "         -5.719e-01, -3.072e-01,  1.107e-02],\n",
       "        [-4.912e+00,  2.220e+00,  1.602e+00,  1.973e-01, -9.294e-01,\n",
       "          4.216e-01, -3.410e-01, -4.247e-01],\n",
       "        [-4.821e+00,  3.218e-01, -1.334e-01, -4.677e-01, -1.161e+00,\n",
       "          9.974e-01,  7.949e-02, -1.035e+00],\n",
       "        [-4.935e+00,  2.312e+00,  1.242e+00, -1.098e+00, -3.397e-01,\n",
       "          1.631e+00, -2.170e+00, -2.611e-01],\n",
       "        [-6.194e+00,  1.708e+00,  7.061e-01,  1.074e+00, -1.297e+00,\n",
       "         -5.479e-01, -9.964e-01, -2.958e-01],\n",
       "        [-6.242e+00,  1.589e-01,  1.720e+00,  1.145e+00, -6.592e-01,\n",
       "         -6.682e-01, -1.225e+00, -6.001e-01],\n",
       "        [-4.309e+00, -5.891e-01,  8.538e-02, -6.821e-01,  1.877e-01,\n",
       "          4.756e-01, -9.413e-01, -1.861e+00],\n",
       "        [-7.277e+00,  5.419e-01, -6.405e-02,  5.230e-01,  7.064e-01,\n",
       "          9.987e-01, -9.814e-01,  1.130e-01],\n",
       "        [-3.957e+00, -6.212e-01,  1.805e+00, -6.349e-01, -3.292e-01,\n",
       "         -9.161e-01, -1.119e+00,  3.030e-01],\n",
       "        [-2.693e+00,  4.687e-01,  4.486e-01, -2.853e-01,  4.089e-02,\n",
       "         -1.563e-01, -4.692e-01, -3.464e-02],\n",
       "        [-7.430e+00,  2.280e+00,  1.138e+00, -1.043e-01, -2.352e-01,\n",
       "         -1.421e+00, -3.884e-01,  2.624e-01],\n",
       "        [-5.367e+00,  1.016e+00,  2.130e+00,  1.085e+00, -1.212e+00,\n",
       "         -3.250e-01, -1.006e+00,  1.364e+00],\n",
       "        [-7.819e+00,  9.936e-02,  1.494e+00,  1.994e-01,  2.882e-01,\n",
       "          1.675e-01, -6.575e-01,  2.045e-01],\n",
       "        [-4.852e+00,  1.009e-01,  1.555e+00,  6.737e-01, -4.208e-01,\n",
       "         -1.476e+00, -2.846e-01, -1.070e+00],\n",
       "        [-7.077e+00,  4.662e-01,  1.526e+00,  8.197e-01, -5.674e-01,\n",
       "         -2.389e-01, -5.585e-01,  5.430e-02],\n",
       "        [-7.699e+00,  2.842e-01,  9.952e-01, -9.062e-01, -9.305e-02,\n",
       "         -3.876e-01, -8.108e-01,  1.473e-01],\n",
       "        [-3.762e+00, -1.729e-01,  6.166e-01,  2.525e-01, -4.300e-01,\n",
       "         -1.381e+00, -1.236e+00,  8.698e-01],\n",
       "        [-3.201e+00,  2.244e+00,  7.252e-01, -7.626e-01,  1.739e-01,\n",
       "         -5.557e-01, -1.441e+00, -4.400e-01],\n",
       "        [-4.389e+00, -3.575e-01,  4.699e-01,  2.407e-01,  4.355e-01,\n",
       "          2.235e-01, -2.639e+00,  3.608e-01],\n",
       "        [-7.495e+00,  5.365e-01,  1.390e+00,  5.752e-01,  1.092e-01,\n",
       "         -3.086e-01, -1.480e-01,  3.876e-01],\n",
       "        [-6.160e+00, -5.410e-01,  8.135e-01, -9.172e-02, -1.841e+00,\n",
       "         -6.431e-01, -5.256e-01, -8.496e-02],\n",
       "        [-3.451e+00,  2.712e+00,  1.150e+00, -1.846e-01,  4.723e-01,\n",
       "         -3.188e-01, -1.663e+00, -5.371e-01],\n",
       "        [-3.092e+00,  2.585e-01,  1.431e-01,  6.447e-02, -8.999e-02,\n",
       "         -5.610e-01, -9.336e-01,  3.947e-01],\n",
       "        [-3.576e+00,  1.668e-01, -1.423e-01,  2.419e-01, -1.955e-01,\n",
       "         -7.211e-01, -6.602e-01, -3.351e-01],\n",
       "        [-8.078e+00,  1.406e+00,  1.346e+00, -8.559e-01,  1.227e-01,\n",
       "         -4.689e-01, -1.407e+00, -1.039e-01],\n",
       "        [-7.277e+00,  5.419e-01, -6.405e-02,  5.230e-01,  7.064e-01,\n",
       "          9.987e-01, -9.814e-01,  1.130e-01],\n",
       "        [-4.709e+00,  3.333e-01, -3.085e-01,  1.347e+00, -1.335e-01,\n",
       "         -1.049e+00, -1.073e+00, -7.325e-01],\n",
       "        [-7.319e+00, -8.375e-01,  6.445e-01, -9.566e-01, -3.088e-01,\n",
       "         -3.064e-01, -2.140e-01,  3.985e-01],\n",
       "        [-4.286e+00,  3.186e+00,  1.035e+00, -3.460e-01, -6.975e-01,\n",
       "          6.791e-01, -1.151e+00,  1.052e-01],\n",
       "        [-6.194e+00,  1.708e+00,  7.061e-01,  1.074e+00, -1.297e+00,\n",
       "         -5.479e-01, -9.964e-01, -2.958e-01],\n",
       "        [-5.500e+00,  3.592e-01,  1.674e+00,  1.601e+00, -2.532e-01,\n",
       "         -1.643e+00, -9.708e-01, -7.381e-01],\n",
       "        [-3.288e+00, -1.898e-01,  1.331e+00, -8.228e-01,  1.074e-02,\n",
       "         -9.580e-02, -8.168e-01, -1.721e-01],\n",
       "        [-4.426e+00,  1.669e+00,  8.774e-01,  1.059e+00, -6.629e-01,\n",
       "          9.108e-01, -8.658e-01,  8.429e-01],\n",
       "        [-7.548e+00,  3.206e-01,  7.149e-01,  3.612e-01,  4.973e-01,\n",
       "          5.831e-01, -8.194e-01,  1.588e-01],\n",
       "        [-6.485e+00, -9.782e-01,  9.173e-01, -4.675e-01, -1.662e+00,\n",
       "         -1.670e-01, -1.035e+00, -2.681e-01],\n",
       "        [-3.975e+00, -4.339e-02, -4.478e-01,  5.916e-01, -3.264e-01,\n",
       "         -1.126e+00, -1.125e+00,  9.432e-02],\n",
       "        [-7.298e+00, -1.478e-01,  2.902e-01, -2.168e-01,  1.988e-01,\n",
       "          3.462e-01, -5.977e-01,  2.558e-01],\n",
       "        [-3.591e+00,  1.195e+00,  9.924e-01,  1.220e+00,  5.070e-01,\n",
       "         -8.708e-02, -1.377e+00,  2.007e-01],\n",
       "        [-6.974e+00,  2.893e-01,  1.864e-01,  1.590e-01,  1.986e-02,\n",
       "         -1.299e-01, -8.818e-02,  4.389e-01],\n",
       "        [-5.385e+00,  9.373e-01,  8.972e-01, -5.706e-01,  8.178e-02,\n",
       "         -3.126e-01, -9.383e-01, -6.927e-02],\n",
       "        [-3.900e+00, -2.704e-01, -3.849e-02, -1.339e-01, -1.658e-02,\n",
       "         -2.450e-01, -1.170e+00, -5.182e-01],\n",
       "        [-7.531e+00,  6.824e-01,  1.556e+00, -8.368e-02, -4.712e-01,\n",
       "         -8.102e-02, -1.443e+00, -2.830e-01],\n",
       "        [-7.624e+00,  1.190e+00,  1.316e+00,  4.753e-02,  2.649e-02,\n",
       "         -6.268e-01, -5.230e-01,  2.334e-01],\n",
       "        [-6.707e+00,  1.826e-01,  6.031e-01, -8.639e-01, -1.247e+00,\n",
       "         -1.031e+00, -4.900e-01,  9.417e-02],\n",
       "        [-5.554e+00,  1.433e-01,  9.989e-01,  1.387e+00,  1.349e-01,\n",
       "         -7.516e-01, -1.642e+00, -9.670e-01],\n",
       "        [-3.417e+00,  4.636e-01,  1.257e+00, -1.350e+00, -7.202e-02,\n",
       "         -4.140e-01, -1.192e+00, -3.263e-01],\n",
       "        [-3.471e+00,  1.380e+00,  4.937e-01,  1.148e-01,  1.257e-01,\n",
       "         -6.422e-01, -1.530e+00,  1.435e-01],\n",
       "        [-6.230e+00,  1.626e+00,  3.384e-02,  9.247e-01,  4.794e-01,\n",
       "          4.512e-01,  5.021e-01,  4.998e-02],\n",
       "        [-7.819e+00,  9.936e-02,  1.494e+00,  1.994e-01,  2.882e-01,\n",
       "          1.675e-01, -6.575e-01,  2.045e-01],\n",
       "        [-6.864e+00,  1.436e-01,  1.268e+00, -4.171e-01, -1.446e+00,\n",
       "         -2.483e-01, -1.632e+00, -5.193e-01],\n",
       "        [-6.734e+00, -5.097e-01,  1.342e+00,  1.105e-01, -1.364e+00,\n",
       "          6.991e-02, -1.257e+00, -3.651e-01],\n",
       "        [-7.171e+00,  9.737e-01,  1.286e+00,  9.509e-01, -6.970e-02,\n",
       "         -7.847e-01,  3.616e-01,  5.708e-01],\n",
       "        [-5.320e+00,  1.259e+00,  7.159e-01,  6.883e-01, -5.642e-01,\n",
       "          1.471e+00, -3.640e-01, -1.229e+00],\n",
       "        [-5.038e+00,  3.164e-01,  1.321e+00, -4.155e-01, -1.758e+00,\n",
       "         -3.099e-01,  9.129e-01, -7.606e-01],\n",
       "        [-7.277e+00,  5.419e-01, -6.405e-02,  5.230e-01,  7.064e-01,\n",
       "          9.987e-01, -9.814e-01,  1.130e-01],\n",
       "        [-3.072e+00,  1.590e+00,  7.992e-01, -2.349e-01,  2.566e-01,\n",
       "         -2.375e-01, -1.066e+00, -2.859e-01],\n",
       "        [-6.778e+00, -3.950e-01, -9.133e-01, -6.330e-01,  1.094e-01,\n",
       "          5.248e-01, -5.379e-01,  3.071e-01],\n",
       "        [-3.491e+00,  4.835e-02, -1.624e-01,  4.142e-01, -2.209e-01,\n",
       "         -9.656e-01, -1.398e+00,  8.241e-01],\n",
       "        [-7.049e+00, -6.162e-01, -1.344e-01, -7.948e-01, -9.967e-02,\n",
       "          1.092e-01, -3.760e-01,  3.528e-01],\n",
       "        [-3.772e+00, -2.815e-01,  1.046e+00, -6.455e-01, -9.480e-02,\n",
       "         -2.560e-01, -5.433e-01, -9.019e-01],\n",
       "        [-6.410e+00, -7.260e-02,  1.238e+00,  4.863e-01, -1.543e+00,\n",
       "         -4.062e-01, -7.473e-01, -1.820e-01],\n",
       "        [-7.495e+00,  5.365e-01,  1.390e+00,  5.752e-01,  1.092e-01,\n",
       "         -3.086e-01, -1.480e-01,  3.876e-01],\n",
       "        [-4.186e+00,  2.039e+00, -1.199e-01, -1.152e+00, -1.425e+00,\n",
       "         -1.994e-01, -1.172e+00,  7.286e-01],\n",
       "        [-2.942e+00,  9.371e-01,  8.732e-01,  2.927e-01,  3.394e-01,\n",
       "          8.064e-02, -6.909e-01, -1.317e-01],\n",
       "        [-4.319e+00,  1.382e+00, -5.757e-01, -6.360e-01, -4.666e-01,\n",
       "         -1.518e+00, -1.137e+00, -1.373e+00],\n",
       "        [-6.843e+00,  8.333e-01,  9.137e-01,  3.227e-01, -9.388e-01,\n",
       "          4.043e-01, -2.015e+00, -6.621e-01],\n",
       "        [-5.385e+00,  9.373e-01,  8.972e-01, -5.706e-01,  8.178e-02,\n",
       "         -3.126e-01, -9.383e-01, -6.927e-02],\n",
       "        [-7.819e+00,  9.936e-02,  1.494e+00,  1.994e-01,  2.882e-01,\n",
       "          1.675e-01, -6.575e-01,  2.045e-01],\n",
       "        [-4.298e+00,  1.658e+00,  1.962e+00,  5.475e-01, -7.411e-01,\n",
       "          8.999e-01, -2.394e-01,  4.593e-01],\n",
       "        [-6.086e+00,  3.646e-01,  1.134e+00,  8.620e-01, -1.722e+00,\n",
       "         -8.823e-01, -2.378e-01,  1.169e-03],\n",
       "        [-5.295e+00,  3.387e-01, -8.481e-01,  6.076e-01, -1.602e+00,\n",
       "         -2.880e-01, -3.399e-01,  6.781e-03],\n",
       "        [-5.017e+00,  1.006e+00,  9.664e-01,  3.243e-01, -1.251e+00,\n",
       "          3.427e-01,  5.292e-01, -9.033e-01],\n",
       "        [-7.948e+00,  7.527e-01,  1.420e+00, -3.282e-01,  2.054e-01,\n",
       "         -1.507e-01, -1.032e+00,  5.027e-02],\n",
       "        [-6.194e+00,  1.708e+00,  7.061e-01,  1.074e+00, -1.297e+00,\n",
       "         -5.479e-01, -9.964e-01, -2.958e-01],\n",
       "        [-5.742e+00,  1.001e+00,  1.775e+00, -7.409e-01, -1.364e+00,\n",
       "          8.496e-02, -1.934e-01, -1.195e+00],\n",
       "        [-5.424e+00,  9.920e-01, -9.221e-01,  7.996e-02, -1.685e+00,\n",
       "         -6.062e-01, -7.149e-01, -1.474e-01],\n",
       "        [-6.053e+00,  2.582e+00, -1.469e-01,  7.083e-01, -1.170e+00,\n",
       "         -4.505e-01, -1.533e+00, -4.956e-01],\n",
       "        [-6.192e+00, -2.338e-01, -2.948e-01,  2.702e-01,  3.162e-01,\n",
       "          3.325e-01, -1.426e+00, -4.444e-01]]),\n",
       " 3: array([[-6.953e+00,  9.791e-01, -1.678e-01,  8.987e-01,  5.274e-01,\n",
       "          5.226e-01, -4.718e-01,  2.962e-01],\n",
       "        [-2.693e+00,  4.687e-01,  4.486e-01, -2.853e-01,  4.089e-02,\n",
       "         -1.563e-01, -4.692e-01, -3.464e-02],\n",
       "        [-3.957e+00, -6.212e-01,  1.805e+00, -6.349e-01, -3.292e-01,\n",
       "         -9.161e-01, -1.119e+00,  3.030e-01],\n",
       "        [-7.243e+00,  1.265e+00,  1.619e+00, -3.668e-01, -1.231e+00,\n",
       "         -3.295e-01, -2.229e+00, -7.705e-01],\n",
       "        [-6.900e+00,  1.195e+00,  5.073e-01,  1.113e+00,  1.394e-01,\n",
       "         -3.691e-01,  1.996e-01,  5.251e-01],\n",
       "        [-5.149e+00,  6.887e-01,  5.179e-01,  7.054e-01,  1.908e+00,\n",
       "         -1.550e-01, -1.530e+00,  1.114e+00],\n",
       "        [-5.815e+00,  5.858e-01,  3.554e-01,  1.024e+00, -1.512e+00,\n",
       "         -4.667e-01, -3.997e-01, -4.454e-02],\n",
       "        [-7.027e+00,  7.348e-02, -4.887e-01, -5.503e-02,  4.079e-01,\n",
       "          7.618e-01, -7.596e-01,  2.101e-01],\n",
       "        [-3.661e+00,  2.852e-01, -1.222e-01,  6.948e-02, -1.702e-01,\n",
       "         -4.766e-01,  7.773e-02, -1.494e+00],\n",
       "        [-2.693e+00,  4.687e-01,  4.486e-01, -2.853e-01,  4.089e-02,\n",
       "         -1.563e-01, -4.692e-01, -3.464e-02],\n",
       "        [-5.857e+00,  2.091e+00,  7.615e-02,  8.140e-01, -3.054e-01,\n",
       "         -4.184e-02, -1.021e+00,  7.216e-01],\n",
       "        [-4.497e+00,  7.590e-01, -2.372e-01, -9.193e-02, -1.340e+00,\n",
       "          5.213e-01,  5.890e-01, -8.520e-01],\n",
       "        [-3.201e+00,  2.244e+00,  7.252e-01, -7.626e-01,  1.739e-01,\n",
       "         -5.557e-01, -1.441e+00, -4.400e-01],\n",
       "        [-4.032e+00, -3.942e-01,  1.396e+00,  9.068e-02, -6.391e-01,\n",
       "         -1.797e+00, -1.074e+00,  9.155e-01],\n",
       "        [-5.227e+00,  2.533e+00,  2.287e+00, -3.198e-01, -1.247e+00,\n",
       "         -5.567e-01, -1.292e+00,  6.260e-01],\n",
       "        [-7.819e+00,  9.936e-02,  1.494e+00,  1.994e-01,  2.882e-01,\n",
       "          1.675e-01, -6.575e-01,  2.045e-01],\n",
       "        [-6.410e+00, -7.260e-02,  1.238e+00,  4.863e-01, -1.543e+00,\n",
       "         -4.062e-01, -7.473e-01, -1.820e-01],\n",
       "        [-7.819e+00,  9.936e-02,  1.494e+00,  1.994e-01,  2.882e-01,\n",
       "          1.675e-01, -6.575e-01,  2.045e-01],\n",
       "        [-4.118e+00, -2.758e-01,  1.416e+00, -8.171e-02, -6.137e-01,\n",
       "         -1.552e+00, -3.363e-01, -2.436e-01],\n",
       "        [-7.548e+00,  3.206e-01,  7.149e-01,  3.612e-01,  4.973e-01,\n",
       "          5.831e-01, -8.194e-01,  1.588e-01],\n",
       "        [-5.357e+00, -5.410e-01, -1.009e-01,  5.955e-01,  2.244e-01,\n",
       "         -9.680e-02, -2.092e+00, -1.099e+00],\n",
       "        [-3.661e+00,  2.852e-01, -1.222e-01,  6.948e-02, -1.702e-01,\n",
       "         -4.766e-01,  7.773e-02, -1.494e+00],\n",
       "        [-7.531e+00,  6.824e-01,  1.556e+00, -8.368e-02, -4.712e-01,\n",
       "         -8.102e-02, -1.443e+00, -2.830e-01],\n",
       "        [-3.576e+00,  1.668e-01, -1.423e-01,  2.419e-01, -1.955e-01,\n",
       "         -7.211e-01, -6.602e-01, -3.351e-01],\n",
       "        [-7.548e+00,  3.206e-01,  7.149e-01,  3.612e-01,  4.973e-01,\n",
       "          5.831e-01, -8.194e-01,  1.588e-01],\n",
       "        [-5.527e+00,  2.293e-01,  1.829e+00, -4.087e-02, -1.306e+00,\n",
       "          1.586e-01, -5.563e-01,  1.184e-01],\n",
       "        [-6.463e+00, -2.885e-01,  5.630e-01,  2.723e-01, -1.155e+00,\n",
       "          4.855e-01, -1.419e+00, -4.109e-01],\n",
       "        [-4.226e+00,  1.067e+00,  9.873e-01,  1.304e-01, -1.889e-01,\n",
       "         -1.218e+00, -1.095e+00, -5.406e-01],\n",
       "        [-5.890e+00, -3.198e-01,  3.460e-02,  7.006e-02, -1.632e+00,\n",
       "         -2.275e-01, -6.875e-01, -1.307e-01],\n",
       "        [-7.569e+00, -3.691e-01,  1.069e+00, -3.786e-01, -1.029e-02,\n",
       "         -6.946e-02, -4.358e-01,  3.015e-01],\n",
       "        [-7.699e+00,  2.842e-01,  9.952e-01, -9.062e-01, -9.305e-02,\n",
       "         -3.876e-01, -8.108e-01,  1.473e-01],\n",
       "        [-6.390e+00,  1.093e+00,  1.815e+00,  2.302e-02,  6.563e-02,\n",
       "         -6.514e-01, -7.247e-01, -8.504e-01],\n",
       "        [-6.160e+00, -5.410e-01,  8.135e-01, -9.172e-02, -1.841e+00,\n",
       "         -6.431e-01, -5.256e-01, -8.496e-02],\n",
       "        [-3.938e+00,  7.107e-01,  2.461e+00, -9.343e-01,  1.736e-02,\n",
       "         -5.927e-01, -1.252e+00, -3.776e-01],\n",
       "        [-5.151e+00,  2.437e+00,  1.960e-01,  6.116e-01, -4.799e-01,\n",
       "         -7.893e-01, -2.062e+00, -8.698e-02],\n",
       "        [-5.155e+00,  1.855e+00, -6.907e-01, -7.975e-01, -1.636e+00,\n",
       "         -5.197e-01, -6.254e-01, -7.310e-01],\n",
       "        [-3.177e+00,  3.769e-01,  1.632e-01, -1.079e-01, -6.465e-02,\n",
       "         -3.164e-01, -1.957e-01, -7.644e-01],\n",
       "        [-4.868e+00,  7.959e-02,  1.281e+00, -7.073e-02, -1.809e+00,\n",
       "         -7.989e-01, -5.629e-01,  1.558e+00],\n",
       "        [-7.430e+00,  2.280e+00,  1.138e+00, -1.043e-01, -2.352e-01,\n",
       "         -1.421e+00, -3.884e-01,  2.624e-01],\n",
       "        [-6.888e+00,  2.723e+00, -4.197e-01,  2.192e-01,  1.830e-01,\n",
       "         -5.899e-01, -7.123e-01,  1.710e-01],\n",
       "        [-3.306e+00,  1.030e+00,  8.918e-02, -6.356e-01, -1.474e-01,\n",
       "         -6.346e-01, -5.707e-01, -9.186e-01],\n",
       "        [-4.286e+00,  3.186e+00,  1.035e+00, -3.460e-01, -6.975e-01,\n",
       "          6.791e-01, -1.151e+00,  1.052e-01],\n",
       "        [-6.842e+00,  6.667e-01,  8.348e-01,  1.588e-01,  3.228e-01,\n",
       "         -1.644e-01, -1.861e+00, -6.499e-01],\n",
       "        [-4.556e+00, -7.556e-01, -9.117e-02, -5.818e-01,  8.137e-01,\n",
       "         -8.311e-02, -2.007e+00,  7.911e-01],\n",
       "        [-6.442e+00,  4.013e-01,  2.087e-01,  1.012e+00, -6.470e-01,\n",
       "          1.138e+00, -1.802e+00, -5.536e-01],\n",
       "        [-3.017e+00,  3.152e-02,  5.524e-01, -6.611e-01,  2.198e-01,\n",
       "          3.198e-01, -9.787e-01, -2.178e-01],\n",
       "        [-6.454e+00,  4.219e-02, -1.017e+00, -2.573e-01, -6.952e-02,\n",
       "          4.872e-02, -2.838e-02,  4.903e-01],\n",
       "        [-5.385e+00,  9.373e-01,  8.972e-01, -5.706e-01,  8.178e-02,\n",
       "         -3.126e-01, -9.383e-01, -6.927e-02],\n",
       "        [-3.192e+00,  1.406e+00,  1.298e+00,  8.707e-01,  6.379e-01,\n",
       "          3.176e-01, -9.126e-01, -2.287e-01],\n",
       "        [-7.819e+00,  9.936e-02,  1.494e+00,  1.994e-01,  2.882e-01,\n",
       "          1.675e-01, -6.575e-01,  2.045e-01],\n",
       "        [-6.372e+00,  1.394e+00,  1.897e+00,  2.514e-01,  1.921e-01,\n",
       "          2.461e-02,  1.290e+00, -2.880e-01],\n",
       "        [-5.619e+00, -9.848e-02, -7.443e-01,  2.318e-01, -1.423e+00,\n",
       "          1.881e-01, -8.494e-01, -1.764e-01],\n",
       "        [-7.277e+00,  5.419e-01, -6.405e-02,  5.230e-01,  7.064e-01,\n",
       "          9.987e-01, -9.814e-01,  1.130e-01],\n",
       "        [-3.451e+00,  2.712e+00,  1.150e+00, -1.846e-01,  4.723e-01,\n",
       "         -3.188e-01, -1.663e+00, -5.371e-01],\n",
       "        [-3.612e+00,  5.057e-01,  1.347e+00,  4.807e-01, -6.064e-04,\n",
       "         -7.396e-01, -9.934e-01,  3.434e-01],\n",
       "        [-2.952e+00,  1.775e+00,  3.006e-01, -1.341e+00, -1.246e-01,\n",
       "         -7.927e-01, -1.219e+00, -3.430e-01],\n",
       "        [-6.660e+00,  3.958e-01,  1.663e+00,  1.064e+00, -1.244e+00,\n",
       "         -1.693e-01, -9.690e-01, -2.790e-01],\n",
       "        [-4.096e+00,  4.139e-01,  1.061e+00,  6.581e-01, -1.061e-01,\n",
       "         -8.998e-01, -7.200e-01, -3.864e-01],\n",
       "        [-3.266e+00,  5.000e-01,  9.770e-01, -8.306e-02,  5.183e-01,\n",
       "          5.567e-01, -1.200e+00, -3.148e-01],\n",
       "        [-4.426e+00,  1.669e+00,  8.774e-01,  1.059e+00, -6.629e-01,\n",
       "          9.108e-01, -8.658e-01,  8.429e-01],\n",
       "        [-7.548e+00,  3.206e-01,  7.149e-01,  3.612e-01,  4.973e-01,\n",
       "          5.831e-01, -8.194e-01,  1.588e-01],\n",
       "        [-3.192e+00,  1.406e+00,  1.298e+00,  8.707e-01,  6.379e-01,\n",
       "          3.176e-01, -9.126e-01, -2.287e-01],\n",
       "        [-5.815e+00,  5.858e-01,  3.554e-01,  1.024e+00, -1.512e+00,\n",
       "         -4.667e-01, -3.997e-01, -4.454e-02],\n",
       "        [-6.160e+00, -5.410e-01,  8.135e-01, -9.172e-02, -1.841e+00,\n",
       "         -6.431e-01, -5.256e-01, -8.496e-02],\n",
       "        [-5.332e+00,  1.320e+00,  1.651e+00, -1.928e-01, -1.568e+00,\n",
       "         -6.356e-01, -4.218e-01,  1.474e-01],\n",
       "        [-6.789e+00,  1.049e+00,  1.589e+00,  5.366e-01, -1.327e+00,\n",
       "         -4.874e-01, -1.344e+00, -4.332e-01],\n",
       "        [-5.618e+00, -4.316e-01, -9.022e-01, -9.586e-02,  1.100e+00,\n",
       "         -9.492e-01, -5.397e-01, -1.520e-01],\n",
       "        [-3.072e+00,  1.590e+00,  7.992e-01, -2.349e-01,  2.566e-01,\n",
       "         -2.375e-01, -1.066e+00, -2.859e-01]]),\n",
       " 4: array([[-2.942e+00,  9.371e-01,  8.732e-01,  2.927e-01,  3.394e-01,\n",
       "          8.064e-02, -6.909e-01, -1.317e-01],\n",
       "        [-2.693e+00,  4.687e-01,  4.486e-01, -2.853e-01,  4.089e-02,\n",
       "         -1.563e-01, -4.692e-01, -3.464e-02],\n",
       "        [-5.836e+00, -1.039e-01,  7.097e-01,  2.840e-01, -2.020e+00,\n",
       "         -1.119e+00, -1.604e-02,  9.820e-02],\n",
       "        [-4.286e+00,  2.853e+00,  8.771e-01, -6.737e-01,  1.826e+00,\n",
       "         -4.581e-01, -8.416e-01,  1.296e-01],\n",
       "        [-5.607e+00, -7.255e-02,  3.237e-01,  1.173e+00,  5.229e-01,\n",
       "          1.401e-01, -2.314e+00, -1.196e+00],\n",
       "        [-7.298e+00, -1.478e-01,  2.902e-01, -2.168e-01,  1.988e-01,\n",
       "          3.462e-01, -5.977e-01,  2.558e-01],\n",
       "        [-4.448e+00,  9.795e-01,  1.232e+00,  3.193e-01, -1.170e+00,\n",
       "          2.583e-01, -4.821e-01,  9.857e-01],\n",
       "        [-6.984e+00, -4.130e-02,  1.767e+00,  6.885e-01, -1.065e+00,\n",
       "          3.068e-01, -1.479e+00, -4.622e-01],\n",
       "        [-5.971e+00,  3.802e-01,  9.414e-01,  1.307e+00, -4.501e-01,\n",
       "         -2.526e-01, -1.387e+00, -6.459e-01],\n",
       "        [-6.194e+00,  1.708e+00,  7.061e-01,  1.074e+00, -1.297e+00,\n",
       "         -5.479e-01, -9.964e-01, -2.958e-01],\n",
       "        [-4.032e+00, -3.942e-01,  1.396e+00,  9.068e-02, -6.391e-01,\n",
       "         -1.797e+00, -1.074e+00,  9.155e-01],\n",
       "        [-3.192e+00,  1.406e+00,  1.298e+00,  8.707e-01,  6.379e-01,\n",
       "          3.176e-01, -9.126e-01, -2.287e-01],\n",
       "        [-3.092e+00,  2.585e-01,  1.431e-01,  6.447e-02, -8.999e-02,\n",
       "         -5.610e-01, -9.336e-01,  3.947e-01],\n",
       "        [-7.948e+00,  7.527e-01,  1.420e+00, -3.282e-01,  2.054e-01,\n",
       "         -1.507e-01, -1.032e+00,  5.027e-02],\n",
       "        [-3.932e+00,  6.390e-02,  6.567e-01, -9.231e-02, -3.793e-01,\n",
       "         -8.922e-01,  2.397e-01, -1.449e+00],\n",
       "        [-3.092e+00,  2.585e-01,  1.431e-01,  6.447e-02, -8.999e-02,\n",
       "         -5.610e-01, -9.336e-01,  3.947e-01],\n",
       "        [-2.693e+00,  4.687e-01,  4.486e-01, -2.853e-01,  4.089e-02,\n",
       "         -1.563e-01, -4.692e-01, -3.464e-02],\n",
       "        [-6.004e+00,  1.670e+00,  1.410e+00, -5.598e-01, -8.105e-01,\n",
       "          4.064e-01, -2.937e+00,  6.433e-01],\n",
       "        [-6.983e+00, -3.745e-01,  1.609e+00,  3.608e-01,  1.458e+00,\n",
       "         -8.304e-01, -1.169e+00, -4.378e-01],\n",
       "        [-3.451e+00,  2.712e+00,  1.150e+00, -1.846e-01,  4.723e-01,\n",
       "         -3.188e-01, -1.663e+00, -5.371e-01],\n",
       "        [-3.306e+00,  1.030e+00,  8.918e-02, -6.356e-01, -1.474e-01,\n",
       "         -6.346e-01, -5.707e-01, -9.186e-01],\n",
       "        [-7.027e+00,  7.348e-02, -4.887e-01, -5.503e-02,  4.079e-01,\n",
       "          7.618e-01, -7.596e-01,  2.101e-01],\n",
       "        [-6.025e+00,  1.644e-01,  2.662e-01,  1.093e+00, -6.203e-02,\n",
       "          6.391e-01, -2.058e+00, -8.747e-01],\n",
       "        [-7.819e+00,  9.936e-02,  1.494e+00,  1.994e-01,  2.882e-01,\n",
       "          1.675e-01, -6.575e-01,  2.045e-01],\n",
       "        [-3.633e+00, -1.841e-01,  1.701e+00, -2.591e-01, -5.082e-01,\n",
       "         -1.392e+00, -6.098e-01,  4.862e-01],\n",
       "        [-7.495e+00,  5.365e-01,  1.390e+00,  5.752e-01,  1.092e-01,\n",
       "         -3.086e-01, -1.480e-01,  3.876e-01],\n",
       "        [-6.318e+00,  1.564e+00, -6.591e-02, -1.465e+00,  4.535e-01,\n",
       "          4.457e-01, -2.057e+00,  1.361e+00],\n",
       "        [-3.072e+00,  1.590e+00,  7.992e-01, -2.349e-01,  2.566e-01,\n",
       "         -2.375e-01, -1.066e+00, -2.859e-01],\n",
       "        [-4.300e+00,  1.617e-01,  6.664e-01, -8.233e-01, -3.084e-01,\n",
       "         -9.788e-01, -1.383e+00, -6.267e-01],\n",
       "        [-4.550e+00,  6.301e-01,  1.091e+00, -2.453e-01, -9.953e-03,\n",
       "         -7.419e-01, -1.604e+00, -7.237e-01],\n",
       "        [-5.092e+00,  1.006e-01,  6.456e-01, -6.295e-01, -1.370e+00,\n",
       "          5.818e-01,  2.414e-01, -9.894e-01],\n",
       "        [-3.787e+00,  2.249e+00,  1.856e-01, -1.502e+00, -1.295e+00,\n",
       "          2.053e-01, -7.079e-01,  2.992e-01],\n",
       "        [-7.624e+00,  1.190e+00,  1.316e+00,  4.753e-02,  2.649e-02,\n",
       "         -6.268e-01, -5.230e-01,  2.334e-01],\n",
       "        [-7.531e+00,  6.824e-01,  1.556e+00, -8.368e-02, -4.712e-01,\n",
       "         -8.102e-02, -1.443e+00, -2.830e-01],\n",
       "        [-3.576e+00,  1.668e-01, -1.423e-01,  2.419e-01, -1.955e-01,\n",
       "         -7.211e-01, -6.602e-01, -3.351e-01],\n",
       "        [-6.214e+00, -7.569e-01,  1.384e-01, -3.057e-01, -1.453e+00,\n",
       "          2.486e-01, -1.197e+00, -3.138e-01],\n",
       "        [-4.860e+00,  2.969e-01, -2.825e-02,  7.958e-02, -7.238e-01,\n",
       "         -2.020e+00, -1.064e+00, -7.439e-01],\n",
       "        [-6.442e+00,  4.013e-01,  2.087e-01,  1.012e+00, -6.470e-01,\n",
       "          1.138e+00, -1.802e+00, -5.536e-01],\n",
       "        [-7.430e+00,  2.280e+00,  1.138e+00, -1.043e-01, -2.352e-01,\n",
       "         -1.421e+00, -3.884e-01,  2.624e-01],\n",
       "        [-3.620e+00,  7.017e-01, -2.364e-01, -1.134e-01, -3.036e-01,\n",
       "         -1.284e+00, -1.773e+00,  6.699e-01],\n",
       "        [-3.417e+00,  4.636e-01,  1.257e+00, -1.350e+00, -7.202e-02,\n",
       "         -4.140e-01, -1.192e+00, -3.263e-01],\n",
       "        [-7.152e+00, -4.394e-01,  1.206e+00, -1.340e-01, -6.870e-01,\n",
       "          2.268e-04, -8.463e-01, -3.183e-02],\n",
       "        [-6.359e+00,  2.280e+00, -4.017e-02,  3.971e-01,  3.966e-01,\n",
       "          1.330e-01,  1.271e-01, -1.042e-01],\n",
       "        [-7.699e+00,  2.842e-01,  9.952e-01, -9.062e-01, -9.305e-02,\n",
       "         -3.876e-01, -8.108e-01,  1.473e-01],\n",
       "        [-7.430e+00,  2.280e+00,  1.138e+00, -1.043e-01, -2.352e-01,\n",
       "         -1.421e+00, -3.884e-01,  2.624e-01],\n",
       "        [-4.868e+00,  7.959e-02,  1.281e+00, -7.073e-02, -1.809e+00,\n",
       "         -7.989e-01, -5.629e-01,  1.558e+00],\n",
       "        [-2.952e+00,  1.775e+00,  3.006e-01, -1.341e+00, -1.246e-01,\n",
       "         -7.927e-01, -1.219e+00, -3.430e-01],\n",
       "        [-7.113e+00,  6.120e-01,  1.693e+00,  1.609e-01, -1.148e+00,\n",
       "         -1.133e-02, -1.854e+00, -6.164e-01],\n",
       "        [-6.194e+00,  1.708e+00,  7.061e-01,  1.074e+00, -1.297e+00,\n",
       "         -5.479e-01, -9.964e-01, -2.958e-01],\n",
       "        [-3.201e+00,  2.244e+00,  7.252e-01, -7.626e-01,  1.739e-01,\n",
       "         -5.557e-01, -1.441e+00, -4.400e-01],\n",
       "        [-6.842e+00,  6.667e-01,  8.348e-01,  1.588e-01,  3.228e-01,\n",
       "         -1.644e-01, -1.861e+00, -6.499e-01],\n",
       "        [-5.456e+00,  3.868e-01,  1.184e+00, -6.600e-01, -1.082e+00,\n",
       "         -3.796e-01,  1.323e+00, -4.272e-01],\n",
       "        [-6.974e+00,  2.893e-01,  1.864e-01,  1.590e-01,  1.986e-02,\n",
       "         -1.299e-01, -8.818e-02,  4.389e-01],\n",
       "        [-6.335e+00, -4.662e-01,  1.569e+00, -4.031e-01,  2.885e-02,\n",
       "         -9.407e-02, -6.375e-01, -7.823e-01],\n",
       "        [-6.629e+00,  1.416e+00, -2.716e-01,  1.275e+00,  3.485e-01,\n",
       "          4.650e-02,  3.768e-02,  4.794e-01],\n",
       "        [-3.719e+00, -6.564e-02,  1.721e+00, -4.315e-01, -4.828e-01,\n",
       "         -1.148e+00,  1.282e-01, -6.730e-01],\n",
       "        [-5.794e+00,  1.276e+00,  1.157e-03,  1.764e+00, -1.005e+00,\n",
       "          1.859e-01, -7.834e-01, -1.873e-01],\n",
       "        [-7.171e+00,  9.737e-01,  1.286e+00,  9.509e-01, -6.970e-02,\n",
       "         -7.847e-01,  3.616e-01,  5.708e-01],\n",
       "        [-2.822e+00,  1.122e+00,  3.746e-01, -8.129e-01, -4.187e-02,\n",
       "         -4.745e-01, -8.442e-01, -1.888e-01],\n",
       "        [-3.975e+00, -4.339e-02, -4.478e-01,  5.916e-01, -3.264e-01,\n",
       "         -1.126e+00, -1.125e+00,  9.432e-02],\n",
       "        [-7.548e+00,  3.206e-01,  7.149e-01,  3.612e-01,  4.973e-01,\n",
       "          5.831e-01, -8.194e-01,  1.588e-01],\n",
       "        [-3.288e+00, -1.898e-01,  1.331e+00, -8.228e-01,  1.074e-02,\n",
       "         -9.580e-02, -8.168e-01, -1.721e-01],\n",
       "        [-4.011e+00,  2.955e-01,  1.041e+00,  8.305e-01, -1.315e-01,\n",
       "         -1.144e+00, -1.458e+00,  7.728e-01],\n",
       "        [-7.531e+00,  6.824e-01,  1.556e+00, -8.368e-02, -4.712e-01,\n",
       "         -8.102e-02, -1.443e+00, -2.830e-01],\n",
       "        [-6.053e+00,  2.582e+00, -1.469e-01,  7.083e-01, -1.170e+00,\n",
       "         -4.505e-01, -1.533e+00, -4.956e-01],\n",
       "        [-5.424e+00,  9.920e-01, -9.221e-01,  7.996e-02, -1.685e+00,\n",
       "         -6.062e-01, -7.149e-01, -1.474e-01],\n",
       "        [-7.277e+00,  5.419e-01, -6.405e-02,  5.230e-01,  7.064e-01,\n",
       "          9.987e-01, -9.814e-01,  1.130e-01],\n",
       "        [-7.270e+00,  1.935e+00,  1.527e+00, -6.575e-01,  4.927e-02,\n",
       "         -7.848e-01, -1.171e+00,  8.090e-01],\n",
       "        [-6.778e+00, -3.950e-01, -9.133e-01, -6.330e-01,  1.094e-01,\n",
       "          5.248e-01, -5.379e-01,  3.071e-01],\n",
       "        [-4.098e+00,  1.056e+00,  2.072e+00, -3.811e-01, -2.671e-01,\n",
       "         -1.229e+00, -4.686e-01, -9.242e-01],\n",
       "        [-4.650e+00,  8.501e-02, -1.735e-01, -1.229e-01, -1.212e+00,\n",
       "          5.084e-01, -1.396e+00,  1.283e+00],\n",
       "        [-4.501e+00,  7.636e-01,  5.566e-01,  1.053e-01, -7.824e-01,\n",
       "          1.150e+00, -1.154e+00,  7.568e-01],\n",
       "        [-5.312e+00, -1.069e+00,  4.024e-01, -5.662e-01,  4.991e-01,\n",
       "         -6.589e-01, -1.571e+00,  1.070e-01],\n",
       "        [-7.430e+00,  2.280e+00,  1.138e+00, -1.043e-01, -2.352e-01,\n",
       "         -1.421e+00, -3.884e-01,  2.624e-01],\n",
       "        [-5.794e+00,  1.430e-01,  8.958e-02,  8.431e-02, -8.146e-01,\n",
       "          1.306e+00, -1.116e+00, -8.859e-01],\n",
       "        [-7.699e+00,  2.842e-01,  9.952e-01, -9.062e-01, -9.305e-02,\n",
       "         -3.876e-01, -8.108e-01,  1.473e-01],\n",
       "        [-7.531e+00,  5.158e-01,  1.477e+00, -2.475e-01,  7.904e-01,\n",
       "         -6.497e-01, -1.288e+00, -2.708e-01],\n",
       "        [-8.078e+00,  1.406e+00,  1.346e+00, -8.559e-01,  1.227e-01,\n",
       "         -4.689e-01, -1.407e+00, -1.039e-01],\n",
       "        [-5.385e+00,  9.373e-01,  8.972e-01, -5.706e-01,  8.178e-02,\n",
       "         -3.126e-01, -9.383e-01, -6.927e-02],\n",
       "        [-6.335e+00, -2.996e-01,  1.647e+00, -2.393e-01, -1.233e+00,\n",
       "          4.746e-01, -7.924e-01, -7.945e-01],\n",
       "        [-7.819e+00,  9.936e-02,  1.494e+00,  1.994e-01,  2.882e-01,\n",
       "          1.675e-01, -6.575e-01,  2.045e-01],\n",
       "        [-3.612e+00,  5.057e-01,  1.347e+00,  4.807e-01, -6.064e-04,\n",
       "         -7.396e-01, -9.934e-01,  3.434e-01],\n",
       "        [-5.554e+00,  1.645e+00, -9.962e-01, -4.477e-01, -1.767e+00,\n",
       "         -9.244e-01, -1.090e+00, -3.016e-01],\n",
       "        [-7.430e+00,  2.280e+00,  1.138e+00, -1.043e-01, -2.352e-01,\n",
       "         -1.421e+00, -3.884e-01,  2.624e-01],\n",
       "        [-6.465e+00,  1.486e+00,  1.485e+00,  9.124e-01, -1.506e+00,\n",
       "         -9.635e-01, -8.345e-01, -2.500e-01],\n",
       "        [-7.624e+00,  1.190e+00,  1.316e+00,  4.753e-02,  2.649e-02,\n",
       "         -6.268e-01, -5.230e-01,  2.334e-01],\n",
       "        [-6.610e+00,  3.150e-03, -3.523e-01,  1.895e-01, -2.688e-01,\n",
       "          8.314e-01, -1.170e+00, -1.232e-01],\n",
       "        [-5.923e+00,  1.929e+00, -7.286e-02,  1.236e+00, -1.088e+00,\n",
       "         -1.323e-01, -1.158e+00, -3.415e-01],\n",
       "        [-3.665e+00,  2.898e-01,  6.716e-01,  2.667e-01,  3.874e-01,\n",
       "          1.521e-01, -1.665e+00,  1.146e-01]]),\n",
       " 5: array([[-5.887e+00,  4.839e-01, -2.295e-01,  5.168e-02,  9.448e-01,\n",
       "          1.914e-01, -4.129e-02, -3.573e-01],\n",
       "        [-7.699e+00,  2.842e-01,  9.952e-01, -9.062e-01, -9.305e-02,\n",
       "         -3.876e-01, -8.108e-01,  1.473e-01],\n",
       "        [-5.546e+00,  1.449e+00,  5.869e-01,  1.464e-01, -1.464e+00,\n",
       "         -3.802e-01, -3.102e-01, -6.281e-01],\n",
       "        [-5.722e+00, -8.822e-02,  5.167e-01,  7.288e-01, -7.486e-01,\n",
       "         -4.895e-01, -1.165e+00, -5.488e-01],\n",
       "        [-4.032e+00, -3.942e-01,  1.396e+00,  9.068e-02, -6.391e-01,\n",
       "         -1.797e+00, -1.074e+00,  9.155e-01],\n",
       "        [-3.201e+00,  2.244e+00,  7.252e-01, -7.626e-01,  1.739e-01,\n",
       "         -5.557e-01, -1.441e+00, -4.400e-01],\n",
       "        [-4.286e+00,  3.186e+00,  1.035e+00, -3.460e-01, -6.975e-01,\n",
       "          6.791e-01, -1.151e+00,  1.052e-01],\n",
       "        [-6.086e+00,  3.646e-01,  1.134e+00,  8.620e-01, -1.722e+00,\n",
       "         -8.823e-01, -2.378e-01,  1.169e-03],\n",
       "        [-8.078e+00,  1.406e+00,  1.346e+00, -8.559e-01,  1.227e-01,\n",
       "         -4.689e-01, -1.407e+00, -1.039e-01],\n",
       "        [-3.576e+00,  1.668e-01, -1.423e-01,  2.419e-01, -1.955e-01,\n",
       "         -7.211e-01, -6.602e-01, -3.351e-01],\n",
       "        [-6.771e+00,  1.184e+00,  1.592e+00,  6.012e-01,  6.117e-02,\n",
       "         -3.801e-01,  8.260e-01,  1.414e-01],\n",
       "        [-7.699e+00,  2.842e-01,  9.952e-01, -9.062e-01, -9.305e-02,\n",
       "         -3.876e-01, -8.108e-01,  1.473e-01],\n",
       "        [-5.168e+00,  1.196e+00,  1.525e+00, -3.984e-01,  3.594e-01,\n",
       "         -5.915e-01, -3.449e+00,  1.076e-03],\n",
       "        [-7.319e+00, -8.375e-01,  6.445e-01, -9.566e-01, -3.088e-01,\n",
       "         -3.064e-01, -2.140e-01,  3.985e-01],\n",
       "        [-2.693e+00,  4.687e-01,  4.486e-01, -2.853e-01,  4.089e-02,\n",
       "         -1.563e-01, -4.692e-01, -3.464e-02],\n",
       "        [-2.693e+00,  4.687e-01,  4.486e-01, -2.853e-01,  4.089e-02,\n",
       "         -1.563e-01, -4.692e-01, -3.464e-02],\n",
       "        [-6.074e+00,  7.864e-01,  1.540e+00, -9.769e-01,  5.494e-01,\n",
       "         -7.979e-01, -3.659e-01,  3.098e-01],\n",
       "        [-3.017e+00,  3.152e-02,  5.524e-01, -6.611e-01,  2.198e-01,\n",
       "          3.198e-01, -9.787e-01, -2.178e-01],\n",
       "        [-7.298e+00, -1.478e-01,  2.902e-01, -2.168e-01,  1.988e-01,\n",
       "          3.462e-01, -5.977e-01,  2.558e-01],\n",
       "        [-6.610e+00,  3.150e-03, -3.523e-01,  1.895e-01, -2.688e-01,\n",
       "          8.314e-01, -1.170e+00, -1.232e-01],\n",
       "        [-2.693e+00,  4.687e-01,  4.486e-01, -2.853e-01,  4.089e-02,\n",
       "         -1.563e-01, -4.692e-01, -3.464e-02],\n",
       "        [-6.660e+00,  3.958e-01,  1.663e+00,  1.064e+00, -1.244e+00,\n",
       "         -1.693e-01, -9.690e-01, -2.790e-01],\n",
       "        [-7.225e+00,  1.400e+00,  1.621e+00, -3.022e-01,  1.574e-01,\n",
       "         -2.221e-01, -5.851e-02, -1.959e-01],\n",
       "        [-2.693e+00,  4.687e-01,  4.486e-01, -2.853e-01,  4.089e-02,\n",
       "         -1.563e-01, -4.692e-01, -3.464e-02],\n",
       "        [-6.806e+00,  6.875e-01,  7.475e-01,  9.815e-01, -3.583e-01,\n",
       "          1.767e-01, -7.204e-01,  8.590e-03],\n",
       "        [-7.401e+00,  2.903e-02,  1.630e+00,  4.440e-01, -3.885e-01,\n",
       "          2.372e-01, -1.068e+00, -1.289e-01],\n",
       "        [-7.298e+00, -1.478e-01,  2.902e-01, -2.168e-01,  1.988e-01,\n",
       "          3.462e-01, -5.977e-01,  2.558e-01],\n",
       "        [-6.193e+00, -6.718e-02, -2.159e-01,  4.341e-01, -9.454e-01,\n",
       "          9.011e-01, -1.581e+00, -4.566e-01],\n",
       "        [-4.497e+00,  8.460e-01,  1.766e+00, -3.135e-02, -3.980e-01,\n",
       "         -1.634e+00, -9.330e-01, -4.948e-01],\n",
       "        [-5.341e+00,  5.690e-01,  1.070e+00, -5.147e-02, -1.072e+00,\n",
       "          8.187e-01,  1.969e-02, -1.086e+00],\n",
       "        [-6.465e+00,  1.486e+00,  1.485e+00,  9.124e-01, -1.506e+00,\n",
       "         -9.635e-01, -8.345e-01, -2.500e-01],\n",
       "        [-5.971e+00,  3.802e-01,  9.414e-01,  1.307e+00, -4.501e-01,\n",
       "         -2.526e-01, -1.387e+00, -6.459e-01],\n",
       "        [-5.923e+00,  1.929e+00, -7.286e-02,  1.236e+00, -1.088e+00,\n",
       "         -1.323e-01, -1.158e+00, -3.415e-01],\n",
       "        [-3.221e+00,  9.118e-01,  6.910e-02, -4.632e-01, -1.727e-01,\n",
       "         -8.791e-01, -1.309e+00,  2.406e-01],\n",
       "        [-3.451e+00,  2.712e+00,  1.150e+00, -1.846e-01,  4.723e-01,\n",
       "         -3.188e-01, -1.663e+00, -5.371e-01],\n",
       "        [-7.401e+00,  2.903e-02,  1.630e+00,  4.440e-01, -3.885e-01,\n",
       "          2.372e-01, -1.068e+00, -1.289e-01],\n",
       "        [-7.495e+00,  5.365e-01,  1.390e+00,  5.752e-01,  1.092e-01,\n",
       "         -3.086e-01, -1.480e-01,  3.876e-01],\n",
       "        [-5.794e+00,  1.276e+00,  1.157e-03,  1.764e+00, -1.005e+00,\n",
       "          1.859e-01, -7.834e-01, -1.873e-01],\n",
       "        [-4.497e+00,  7.590e-01, -2.372e-01, -9.193e-02, -1.340e+00,\n",
       "          5.213e-01,  5.890e-01, -8.520e-01],\n",
       "        [-7.504e+00,  1.375e+00,  8.174e-01, -1.058e+00, -3.548e-01,\n",
       "         -1.182e+00, -6.762e-01,  1.763e-01],\n",
       "        [-6.220e+00,  1.245e+00,  7.033e-01, -8.958e-01,  1.735e-01,\n",
       "          1.167e-01, -2.722e-01,  5.852e-01],\n",
       "        [-3.826e+00,  6.352e-01,  2.824e-01,  8.199e-01,  1.030e-01,\n",
       "         -4.842e-01, -8.819e-01, -4.321e-01],\n",
       "        [-6.526e+00,  5.269e-01,  6.380e-01, -6.773e-01, -4.551e-01,\n",
       "          2.578e-01, -1.657e+00,  4.981e-01],\n",
       "        [-7.152e+00, -4.394e-01,  1.206e+00, -1.340e-01, -6.870e-01,\n",
       "          2.268e-04, -8.463e-01, -3.183e-02],\n",
       "        [-4.868e+00,  7.959e-02,  1.281e+00, -7.073e-02, -1.809e+00,\n",
       "         -7.989e-01, -5.629e-01,  1.558e+00],\n",
       "        [-6.053e+00,  2.582e+00, -1.469e-01,  7.083e-01, -1.170e+00,\n",
       "         -4.505e-01, -1.533e+00, -4.956e-01],\n",
       "        [-4.581e+00,  3.222e-01,  7.759e-01,  8.355e-01, -2.117e-01,\n",
       "         -1.060e+00, -4.465e-01, -1.116e+00],\n",
       "        [-3.192e+00,  1.406e+00,  1.298e+00,  8.707e-01,  6.379e-01,\n",
       "          3.176e-01, -9.126e-01, -2.287e-01],\n",
       "        [-3.665e+00,  2.898e-01,  6.716e-01,  2.667e-01,  3.874e-01,\n",
       "          1.521e-01, -1.665e+00,  1.146e-01],\n",
       "        [-3.633e+00, -1.841e-01,  1.701e+00, -2.591e-01, -5.082e-01,\n",
       "         -1.392e+00, -6.098e-01,  4.862e-01],\n",
       "        [-7.430e+00,  2.280e+00,  1.138e+00, -1.043e-01, -2.352e-01,\n",
       "         -1.421e+00, -3.884e-01,  2.624e-01],\n",
       "        [-7.280e+00,  1.826e+00,  1.957e+00, -1.555e+00,  3.844e-01,\n",
       "          3.404e-01, -4.786e-01, -9.627e-01],\n",
       "        [-7.948e+00,  7.527e-01,  1.420e+00, -3.282e-01,  2.054e-01,\n",
       "         -1.507e-01, -1.032e+00,  5.027e-02],\n",
       "        [-3.612e+00,  5.057e-01,  1.347e+00,  4.807e-01, -6.064e-04,\n",
       "         -7.396e-01, -9.934e-01,  3.434e-01],\n",
       "        [-4.644e+00,  1.304e+00,  9.298e-01,  4.973e-02, -7.738e-01,\n",
       "         -7.190e-01, -8.393e-01, -2.194e-01],\n",
       "        [-7.536e+00,  1.849e+00, -2.121e-01, -5.323e-01,  5.409e-01,\n",
       "          3.623e-01, -1.731e+00, -1.953e-01],\n",
       "        [-7.531e+00,  6.824e-01,  1.556e+00, -8.368e-02, -4.712e-01,\n",
       "         -8.102e-02, -1.443e+00, -2.830e-01],\n",
       "        [-5.385e+00,  9.373e-01,  8.972e-01, -5.706e-01,  8.178e-02,\n",
       "         -3.126e-01, -9.383e-01, -6.927e-02],\n",
       "        [-7.819e+00,  9.936e-02,  1.494e+00,  1.994e-01,  2.882e-01,\n",
       "          1.675e-01, -6.575e-01,  2.045e-01],\n",
       "        [-4.264e+00,  1.582e-02,  5.003e-01, -1.645e-01,  2.721e-01,\n",
       "         -1.206e+00, -8.772e-02,  4.398e-02],\n",
       "        [-3.576e+00,  1.668e-01, -1.423e-01,  2.419e-01, -1.955e-01,\n",
       "         -7.211e-01, -6.602e-01, -3.351e-01],\n",
       "        [-7.113e+00,  6.120e-01,  1.693e+00,  1.609e-01, -1.148e+00,\n",
       "         -1.133e-02, -1.854e+00, -6.164e-01],\n",
       "        [-4.178e+00,  1.843e+00,  1.463e+00, -5.581e-01, -1.122e+00,\n",
       "          3.448e-01, -3.927e-01,  4.021e-01],\n",
       "        [-5.393e+00, -2.021e-01,  1.388e+00,  8.343e-01,  4.194e-01,\n",
       "         -1.153e-01, -2.425e+00, -4.203e-01],\n",
       "        [-6.707e+00,  1.826e-01,  6.031e-01, -8.639e-01, -1.247e+00,\n",
       "         -1.031e+00, -4.900e-01,  9.417e-02],\n",
       "        [-7.277e+00,  5.419e-01, -6.405e-02,  5.230e-01,  7.064e-01,\n",
       "          9.987e-01, -9.814e-01,  1.130e-01],\n",
       "        [-5.424e+00,  9.920e-01, -9.221e-01,  7.996e-02, -1.685e+00,\n",
       "         -6.062e-01, -7.149e-01, -1.474e-01],\n",
       "        [-7.548e+00,  3.206e-01,  7.149e-01,  3.612e-01,  4.973e-01,\n",
       "          5.831e-01, -8.194e-01,  1.588e-01],\n",
       "        [-5.117e+00, -5.845e-01,  1.794e+00, -1.172e+00, -1.320e+00,\n",
       "          5.579e-01, -1.118e+00,  7.621e-01],\n",
       "        [-2.822e+00,  1.122e+00,  3.746e-01, -8.129e-01, -4.187e-02,\n",
       "         -4.745e-01, -8.442e-01, -1.888e-01],\n",
       "        [-6.160e+00, -5.410e-01,  8.135e-01, -9.172e-02, -1.841e+00,\n",
       "         -6.431e-01, -5.256e-01, -8.496e-02],\n",
       "        [-3.362e+00,  3.723e-02,  9.221e-01, -9.731e-02, -2.991e-01,\n",
       "         -9.766e-01, -7.717e-01,  4.404e-01],\n",
       "        [-7.375e+00,  7.214e-01,  8.914e-01, -5.305e-01, -2.720e-01,\n",
       "         -8.637e-01, -3.012e-01,  3.305e-01],\n",
       "        [-6.230e+00,  9.139e-01,  2.283e+00, -3.663e-01, -9.115e-01,\n",
       "          5.535e-01, -1.663e+00, -3.159e-01],\n",
       "        [-5.890e+00, -3.198e-01,  3.460e-02,  7.006e-02, -1.632e+00,\n",
       "         -2.275e-01, -6.875e-01, -1.307e-01],\n",
       "        [-7.430e+00,  2.280e+00,  1.138e+00, -1.043e-01, -2.352e-01,\n",
       "         -1.421e+00, -3.884e-01,  2.624e-01],\n",
       "        [-4.150e+00,  1.981e-01,  3.862e-01,  4.441e-01,  2.819e-01,\n",
       "         -8.078e-03, -1.391e+00, -6.152e-01],\n",
       "        [-3.017e+00,  3.152e-02,  5.524e-01, -6.611e-01,  2.198e-01,\n",
       "          3.198e-01, -9.787e-01, -2.178e-01],\n",
       "        [-6.465e+00,  1.486e+00,  1.485e+00,  9.124e-01, -1.506e+00,\n",
       "         -9.635e-01, -8.345e-01, -2.500e-01],\n",
       "        [-6.888e+00,  2.723e+00, -4.197e-01,  2.192e-01,  1.830e-01,\n",
       "         -5.899e-01, -7.123e-01,  1.710e-01],\n",
       "        [-6.086e+00,  3.646e-01,  1.134e+00,  8.620e-01, -1.722e+00,\n",
       "         -8.823e-01, -2.378e-01,  1.169e-03],\n",
       "        [-4.326e+00,  5.222e-01, -2.773e-01,  2.528e-01, -1.391e+00,\n",
       "          3.230e-02, -8.868e-01,  1.466e+00],\n",
       "        [-5.784e+00, -4.577e-02,  2.082e+00, -8.386e-01, -3.450e-01,\n",
       "          7.252e-01, -9.287e-01,  9.984e-01],\n",
       "        [-6.193e+00, -6.718e-02, -2.159e-01,  4.341e-01, -9.454e-01,\n",
       "          9.011e-01, -1.581e+00, -4.566e-01],\n",
       "        [-7.096e+00,  7.467e-01,  1.696e+00,  2.254e-01,  2.401e-01,\n",
       "          9.605e-02,  3.165e-01, -4.176e-02]]),\n",
       " 6: array([[-7.171e+00,  9.737e-01,  1.286e+00,  9.509e-01, -6.970e-02,\n",
       "         -7.847e-01,  3.616e-01,  5.708e-01],\n",
       "        [-3.092e+00,  2.585e-01,  1.431e-01,  6.447e-02, -8.999e-02,\n",
       "         -5.610e-01, -9.336e-01,  3.947e-01],\n",
       "        [-7.243e+00,  1.265e+00,  1.619e+00, -3.668e-01, -1.231e+00,\n",
       "         -3.295e-01, -2.229e+00, -7.705e-01],\n",
       "        [-4.060e+00,  7.503e-02, -4.277e-01,  4.192e-01, -3.011e-01,\n",
       "         -8.813e-01, -3.867e-01, -1.065e+00],\n",
       "        [-7.819e+00,  9.936e-02,  1.494e+00,  1.994e-01,  2.882e-01,\n",
       "          1.675e-01, -6.575e-01,  2.045e-01],\n",
       "        [-7.207e+00,  1.120e+00,  1.452e+00,  2.921e-01, -6.502e-01,\n",
       "         -5.571e-01, -9.335e-01, -9.989e-02],\n",
       "        [-7.171e+00,  9.737e-01,  1.286e+00,  9.509e-01, -6.970e-02,\n",
       "         -7.847e-01,  3.616e-01,  5.708e-01],\n",
       "        [-4.286e+00,  3.186e+00,  1.035e+00, -3.460e-01, -6.975e-01,\n",
       "          6.791e-01, -1.151e+00,  1.052e-01],\n",
       "        [-3.192e+00,  1.406e+00,  1.298e+00,  8.707e-01,  6.379e-01,\n",
       "          3.176e-01, -9.126e-01, -2.287e-01],\n",
       "        [-5.397e+00,  3.489e-01,  4.129e-01,  1.105e+00, -9.275e-01,\n",
       "         -9.656e-01, -6.553e-01, -3.657e-01],\n",
       "        [-4.032e+00, -3.942e-01,  1.396e+00,  9.068e-02, -6.391e-01,\n",
       "         -1.797e+00, -1.074e+00,  9.155e-01],\n",
       "        [-7.428e+00,  5.055e-01,  2.162e-01, -7.445e-01,  1.161e-01,\n",
       "          2.797e-02, -9.727e-01,  1.016e-01],\n",
       "        [-2.693e+00,  4.687e-01,  4.486e-01, -2.853e-01,  4.089e-02,\n",
       "         -1.563e-01, -4.692e-01, -3.464e-02],\n",
       "        [-2.693e+00,  4.687e-01,  4.486e-01, -2.853e-01,  4.089e-02,\n",
       "         -1.563e-01, -4.692e-01, -3.464e-02],\n",
       "        [-6.410e+00, -7.260e-02,  1.238e+00,  4.863e-01, -1.543e+00,\n",
       "         -4.062e-01, -7.473e-01, -1.820e-01],\n",
       "        [-7.298e+00, -1.478e-01,  2.902e-01, -2.168e-01,  1.988e-01,\n",
       "          3.462e-01, -5.977e-01,  2.558e-01],\n",
       "        [-6.295e+00, -5.693e-02,  1.045e+00,  9.310e-01, -2.711e-01,\n",
       "          2.235e-01, -1.896e+00, -8.290e-01],\n",
       "        [-4.150e+00,  1.981e-01,  3.862e-01,  4.441e-01,  2.819e-01,\n",
       "         -8.078e-03, -1.391e+00, -6.152e-01],\n",
       "        [-7.495e+00,  5.365e-01,  1.390e+00,  5.752e-01,  1.092e-01,\n",
       "         -3.086e-01, -1.480e-01,  3.876e-01],\n",
       "        [-7.819e+00,  9.936e-02,  1.494e+00,  1.994e-01,  2.882e-01,\n",
       "          1.675e-01, -6.575e-01,  2.045e-01],\n",
       "        [-2.693e+00,  4.687e-01,  4.486e-01, -2.853e-01,  4.089e-02,\n",
       "         -1.563e-01, -4.692e-01, -3.464e-02],\n",
       "        [-4.207e+00, -1.528e-01,  2.229e+00, -5.685e-02, -3.076e-02,\n",
       "         -6.791e-01, -1.341e+00,  2.060e-01],\n",
       "        [-7.243e+00,  1.265e+00,  1.619e+00, -3.668e-01, -1.231e+00,\n",
       "         -3.295e-01, -2.229e+00, -7.705e-01],\n",
       "        [-7.819e+00,  9.936e-02,  1.494e+00,  1.994e-01,  2.882e-01,\n",
       "          1.675e-01, -6.575e-01,  2.045e-01],\n",
       "        [-7.407e+00,  1.195e+00, -1.381e-01, -4.668e-03,  6.236e-01,\n",
       "          6.805e-01, -1.356e+00, -4.114e-02],\n",
       "        [-5.645e+00,  5.711e-01, -8.355e-01, -5.888e-02, -1.429e-01,\n",
       "         -2.672e-01,  2.077e-01,  1.403e+00],\n",
       "        [-7.819e+00,  9.936e-02,  1.494e+00,  1.994e-01,  2.882e-01,\n",
       "          1.675e-01, -6.575e-01,  2.045e-01],\n",
       "        [-4.407e+00, -7.701e-02,  6.390e-01, -3.536e-01,  1.243e+00,\n",
       "          5.585e-01, -1.764e+00,  2.647e-01],\n",
       "        [-7.699e+00,  2.842e-01,  9.952e-01, -9.062e-01, -9.305e-02,\n",
       "         -3.876e-01, -8.108e-01,  1.473e-01],\n",
       "        [-5.815e+00,  5.858e-01,  3.554e-01,  1.024e+00, -1.512e+00,\n",
       "         -4.667e-01, -3.997e-01, -4.454e-02],\n",
       "        [-7.300e+00,  1.627e+00,  1.212e+00,  4.233e-01, -1.525e-01,\n",
       "         -1.103e+00, -1.345e-02,  4.166e-01],\n",
       "        [-7.548e+00,  3.206e-01,  7.149e-01,  3.612e-01,  4.973e-01,\n",
       "          5.831e-01, -8.194e-01,  1.588e-01],\n",
       "        [-7.531e+00,  6.824e-01,  1.556e+00, -8.368e-02, -4.712e-01,\n",
       "         -8.102e-02, -1.443e+00, -2.830e-01],\n",
       "        [-5.656e+00,  8.826e-01,  1.755e+00, -5.685e-01, -1.389e+00,\n",
       "         -1.595e-01, -9.313e-01, -3.576e-02],\n",
       "        [-3.017e+00,  3.152e-02,  5.524e-01, -6.611e-01,  2.198e-01,\n",
       "          3.198e-01, -9.787e-01, -2.178e-01],\n",
       "        [-7.430e+00,  2.280e+00,  1.138e+00, -1.043e-01, -2.352e-01,\n",
       "         -1.421e+00, -3.884e-01,  2.624e-01],\n",
       "        [-5.836e+00, -1.039e-01,  7.097e-01,  2.840e-01, -2.020e+00,\n",
       "         -1.119e+00, -1.604e-02,  9.820e-02],\n",
       "        [-3.017e+00,  3.152e-02,  5.524e-01, -6.611e-01,  2.198e-01,\n",
       "          3.198e-01, -9.787e-01, -2.178e-01],\n",
       "        [-6.837e+00,  8.360e-01,  5.291e-01, -1.392e+00, -1.330e+00,\n",
       "         -1.349e+00, -8.650e-01, -6.001e-02],\n",
       "        [-5.311e+00,  2.010e+00,  1.297e+00,  5.470e-01, -1.060e+00,\n",
       "          1.690e-02, -8.054e-01,  4.660e-03],\n",
       "        [-2.952e+00,  1.775e+00,  3.006e-01, -1.341e+00, -1.246e-01,\n",
       "         -7.927e-01, -1.219e+00, -3.430e-01],\n",
       "        [-4.597e+00,  3.009e-01,  5.016e-01,  9.105e-02, -1.600e+00,\n",
       "         -3.833e-01, -7.249e-01,  1.512e+00],\n",
       "        [-4.821e+00,  4.088e-01,  1.870e+00, -4.071e-01, -2.191e-01,\n",
       "         -1.157e+00, -1.443e+00, -6.780e-01],\n",
       "        [-7.531e+00,  6.824e-01,  1.556e+00, -8.368e-02, -4.712e-01,\n",
       "         -8.102e-02, -1.443e+00, -2.830e-01],\n",
       "        [-7.504e+00,  1.375e+00,  8.174e-01, -1.058e+00, -3.548e-01,\n",
       "         -1.182e+00, -6.762e-01,  1.763e-01],\n",
       "        [-7.569e+00, -3.691e-01,  1.069e+00, -3.786e-01, -1.029e-02,\n",
       "         -6.946e-02, -4.358e-01,  3.015e-01],\n",
       "        [-3.451e+00,  2.712e+00,  1.150e+00, -1.846e-01,  4.723e-01,\n",
       "         -3.188e-01, -1.663e+00, -5.371e-01],\n",
       "        [-6.789e+00,  8.826e-01,  1.510e+00,  3.728e-01, -6.525e-02,\n",
       "         -1.056e+00, -1.189e+00, -4.210e-01],\n",
       "        [-4.749e+00,  9.065e-02,  2.938e-01,  1.768e-01, -1.095e+00,\n",
       "         -7.979e-01,  3.085e-02, -6.980e-01],\n",
       "        [-7.819e+00,  9.936e-02,  1.494e+00,  1.994e-01,  2.882e-01,\n",
       "          1.675e-01, -6.575e-01,  2.045e-01],\n",
       "        [-7.077e+00,  4.662e-01,  1.526e+00,  8.197e-01, -5.674e-01,\n",
       "         -2.389e-01, -5.585e-01,  5.430e-02],\n",
       "        [-6.465e+00,  3.537e-01,  1.573e+00, -7.669e-01, -1.316e+00,\n",
       "          1.564e-01, -1.167e+00, -9.487e-01],\n",
       "        [-7.819e+00,  9.936e-02,  1.494e+00,  1.994e-01,  2.882e-01,\n",
       "          1.675e-01, -6.575e-01,  2.045e-01],\n",
       "        [-4.083e+00,  5.267e-01,  6.141e-01,  1.860e-01, -1.975e-01,\n",
       "          6.510e-01, -1.409e+00,  4.357e-01],\n",
       "        [-4.597e+00,  3.009e-01,  5.016e-01,  9.105e-02, -1.600e+00,\n",
       "         -3.833e-01, -7.249e-01,  1.512e+00],\n",
       "        [-6.744e+00,  3.285e-01,  7.693e-01, -1.523e+00, -1.828e+00,\n",
       "         -8.034e-01, -1.785e+00, -5.765e-01],\n",
       "        [-5.794e+00,  1.276e+00,  1.157e-03,  1.764e+00, -1.005e+00,\n",
       "          1.859e-01, -7.834e-01, -1.873e-01],\n",
       "        [-2.693e+00,  4.687e-01,  4.486e-01, -2.853e-01,  4.089e-02,\n",
       "         -1.563e-01, -4.692e-01, -3.464e-02],\n",
       "        [-6.686e+00,  8.723e-01,  2.488e-01, -1.241e-01, -7.396e-01,\n",
       "         -3.784e-01, -8.737e-01, -4.857e-02],\n",
       "        [-4.644e+00,  1.304e+00,  9.298e-01,  4.973e-02, -7.738e-01,\n",
       "         -7.190e-01, -8.393e-01, -2.194e-01],\n",
       "        [-7.536e+00,  1.849e+00, -2.121e-01, -5.323e-01,  5.409e-01,\n",
       "          3.623e-01, -1.731e+00, -1.953e-01],\n",
       "        [-8.078e+00,  1.406e+00,  1.346e+00, -8.559e-01,  1.227e-01,\n",
       "         -4.689e-01, -1.407e+00, -1.039e-01],\n",
       "        [-5.168e+00,  9.698e-01,  1.247e+00, -9.431e-01, -1.841e+00,\n",
       "         -6.281e-01,  5.379e-01, -9.147e-01]])}"
      ]
     },
     "execution_count": 97,
     "metadata": {},
     "output_type": "execute_result"
    }
   ],
   "source": [
    "dcor_attributes"
   ]
  },
  {
   "cell_type": "markdown",
   "id": "trying-snowboard",
   "metadata": {},
   "source": [
    "## Similar analysis but with taking all terms together"
   ]
  },
  {
   "cell_type": "code",
   "execution_count": 54,
   "id": "respiratory-league",
   "metadata": {},
   "outputs": [
    {
     "name": "stdout",
     "output_type": "stream",
     "text": [
      "09:48:58 . Started analysis\n",
      "09:48:58 . Finished randomization of attributes. \n",
      "09:49:09 . Finished calculating real-world balanced densities. \n",
      "09:52:39 . Finished  20 % of randomized calculations.\n",
      "09:56:10 . Finished  40 % of randomized calculations.\n",
      "09:59:57 . Finished  61 % of randomized calculations.\n",
      "10:03:18 . Finished  80 % of randomized calculations.\n",
      "10:06:51 . Finished  100 % of randomized calculations.\n",
      "10:06:51 . Finished.\n"
     ]
    },
    {
     "data": {
      "text/plain": [
       "(8415.0,\n",
       " array([8119., 7817., 7854., 7636., 7817., 7887., 7503., 7794., 8000.,\n",
       "        7387., 7630., 7587., 7666., 7845., 7354., 7660., 7658., 7757.,\n",
       "        7899., 7532., 7652., 7669., 7847., 7642., 7597., 8045., 7432.,\n",
       "        7662., 7721., 7672., 7633., 7804., 7709., 7784., 7794., 7401.,\n",
       "        7734., 7693., 7861., 7704., 7549., 7700., 7812., 7800., 7881.,\n",
       "        7826., 7852., 7451., 7639., 7530., 7539., 8039., 7459., 7993.,\n",
       "        8020., 7809., 7892., 7758., 7855., 7680., 7634., 7950., 7858.,\n",
       "        8077., 7668., 7888., 8017., 7670., 7670., 7870., 7580., 8122.,\n",
       "        7766., 7677., 7468., 7689., 7586., 7767., 7709., 7718., 7917.,\n",
       "        7872., 7767., 7778., 7758., 7543., 7674., 7764., 7484., 8025.,\n",
       "        7564., 7660., 7787., 7883., 7984., 7814., 7565., 7567., 7756.,\n",
       "        7878.]))"
      ]
     },
     "execution_count": 54,
     "metadata": {},
     "output_type": "execute_result"
    }
   ],
   "source": [
    "first_sem = 1\n",
    "last_sem = 6\n",
    "thetas = np.linspace(0,1,101)\n",
    "M = 100\n",
    "disp_every = 0.2\n",
    "generate_true_densities = True\n",
    "saved = False\n",
    "\n",
    "now = datetime.now()\n",
    "current_time = now.strftime(\"%H:%M:%S\")\n",
    "print(current_time, \". Started analysis\")\n",
    "\n",
    "triads_all = [get_triads(data[semm]) for semm in range(1,last_sem+1)]\n",
    "triads_len = [len(x) for x in triads_all]\n",
    "triads_all_num = np.sum(triads_len)\n",
    "\n",
    "bal_dens = np.zeros(len(thetas))\n",
    "\n",
    "bal_dens_rands_sum = np.zeros(M)\n",
    "attr_rands_M = [randomize_all_attributes(dcor_attributes) for i in range(0,M)] \n",
    "\n",
    "now = datetime.now()\n",
    "current_time = now.strftime(\"%H:%M:%S\")\n",
    "print(current_time, \". Finished randomization of attributes. \")\n",
    "\n",
    "if generate_true_densities:\n",
    "    for semm in range(first_sem, last_sem+1):\n",
    "        triads = triads_all[semm-1]\n",
    "\n",
    "        for i, theta in enumerate(thetas):\n",
    "            polarities = calc_link_polarities2(dcor_attributes[semm], theta)\n",
    "            bal_dens[i] = bal_dens[i] + balanced_triad_density_network(polarities, triads) * triads_len[semm - 1]\n",
    "\n",
    "    now = datetime.now()\n",
    "    current_time = now.strftime(\"%H:%M:%S\")\n",
    "    print(current_time, \". Finished calculating real-world balanced densities. \")\n",
    "\n",
    "bal_dens_rands = np.zeros([M, len(thetas)])\n",
    "disp_every_printer = disp_every\n",
    "for j in range(0,M):  \n",
    "    for semm in range(first_sem, last_sem+1):\n",
    "        triads = triads_all[semm-1]\n",
    "        for i, theta in enumerate(thetas):    \n",
    "            polarities_rand = calc_link_polarities2(attr_rands_M[j][semm], theta)\n",
    "            bal_dens_rands[j][i] = bal_dens_rands[j][i] + balanced_triad_density_network(polarities_rand, triads) * triads_len[semm - 1]\n",
    "\n",
    "    bal_dens_rands_sum[j] = np.sum(bal_dens_rands[j])\n",
    "    \n",
    "    if (j+1) / M >= disp_every_printer:\n",
    "        now = datetime.now()\n",
    "\n",
    "        current_time = now.strftime(\"%H:%M:%S\")\n",
    "        print(current_time, \". Finished \", str(int((j+1)/M*100)), \"% of randomized calculations.\")\n",
    "        disp_every_printer += disp_every\n",
    "    \n",
    "now = datetime.now()\n",
    "\n",
    "current_time = now.strftime(\"%H:%M:%S\")\n",
    "print(current_time, \". Finished.\")\n",
    "\n",
    "bal_dens_sum = np.sum(bal_dens)\n",
    "\n",
    "bal_dens = bal_dens / triads_all_num\n",
    "bal_dens_rands = bal_dens_rands / triads_all_num\n",
    "\n",
    "test_A8_all_agents_terms_together_thetas = thetas\n",
    "test_A8_all_agents_terms_together_bal_dens = bal_dens\n",
    "test_A8_all_agents_terms_together_bal_dens_rands = bal_dens_rands\n",
    "\n",
    "bal_dens_sum, bal_dens_rands_sum\n",
    "\n",
    "# TODO: do poprawy powyzej. Zrobić, żeby była taka sama randomizacja wszystkich węzłów na raz we wszystkich semestrach. \n",
    "#     Obecnie jest to niezależne. \n"
   ]
  },
  {
   "cell_type": "code",
   "execution_count": 55,
   "id": "engaging-amazon",
   "metadata": {},
   "outputs": [],
   "source": [
    "#open, add and save\n",
    "if not saved:\n",
    "    with open('pca_a8_rand_results.pkl', 'rb') as file:\n",
    "\n",
    "        # Call load method to deserialze\n",
    "        old_data = pickle.load(file)\n",
    "\n",
    "\n",
    "\n",
    "    test_A8_all_agents_terms_together_bal_dens_rands = np.concatenate((old_data[2], test_A8_all_agents_terms_together_bal_dens_rands))\n",
    "\n",
    "    with open('pca_a8_rand_results.pkl', 'wb') as file:\n",
    "\n",
    "        # A new file will be created\n",
    "        pickle.dump((old_data[0], old_data[1], test_A8_all_agents_terms_together_bal_dens_rands), file) \n",
    "    saved = True"
   ]
  },
  {
   "cell_type": "code",
   "execution_count": 102,
   "id": "prompt-carrier",
   "metadata": {},
   "outputs": [],
   "source": [
    "# #save, commented out not accidentally do it\n",
    "# with open('pca_a8_rand_results.pkl', 'wb') as file:\n",
    "      \n",
    "#     # A new file will be created\n",
    "#     pickle.dump((test_A8_all_agents_terms_together_thetas, test_A8_all_agents_terms_together_bal_dens, test_A8_all_agents_terms_together_bal_dens_rands), file)\n"
   ]
  },
  {
   "cell_type": "code",
   "execution_count": 56,
   "id": "interesting-prison",
   "metadata": {},
   "outputs": [
    {
     "name": "stdout",
     "output_type": "stream",
     "text": [
      "(array([0.  , 0.01, 0.02, 0.03, 0.04, 0.05, 0.06, 0.07, 0.08, 0.09, 0.1 ,\n",
      "       0.11, 0.12, 0.13, 0.14, 0.15, 0.16, 0.17, 0.18, 0.19, 0.2 , 0.21,\n",
      "       0.22, 0.23, 0.24, 0.25, 0.26, 0.27, 0.28, 0.29, 0.3 , 0.31, 0.32,\n",
      "       0.33, 0.34, 0.35, 0.36, 0.37, 0.38, 0.39, 0.4 , 0.41, 0.42, 0.43,\n",
      "       0.44, 0.45, 0.46, 0.47, 0.48, 0.49, 0.5 , 0.51, 0.52, 0.53, 0.54,\n",
      "       0.55, 0.56, 0.57, 0.58, 0.59, 0.6 , 0.61, 0.62, 0.63, 0.64, 0.65,\n",
      "       0.66, 0.67, 0.68, 0.69, 0.7 , 0.71, 0.72, 0.73, 0.74, 0.75, 0.76,\n",
      "       0.77, 0.78, 0.79, 0.8 , 0.81, 0.82, 0.83, 0.84, 0.85, 0.86, 0.87,\n",
      "       0.88, 0.89, 0.9 , 0.91, 0.92, 0.93, 0.94, 0.95, 0.96, 0.97, 0.98,\n",
      "       0.99, 1.  ]), array([0.051, 0.051, 0.051, 0.051, 0.051, 0.051, 0.051, 0.051, 0.051,\n",
      "       0.051, 0.051, 0.051, 0.051, 0.051, 0.051, 0.058, 0.058, 0.101,\n",
      "       0.101, 0.109, 0.159, 0.159, 0.181, 0.188, 0.21 , 0.254, 0.29 ,\n",
      "       0.297, 0.326, 0.341, 0.37 , 0.37 , 0.406, 0.442, 0.449, 0.507,\n",
      "       0.493, 0.529, 0.565, 0.572, 0.63 , 0.645, 0.638, 0.623, 0.63 ,\n",
      "       0.645, 0.638, 0.638, 0.659, 0.623, 0.616, 0.667, 0.703, 0.681,\n",
      "       0.688, 0.703, 0.717, 0.754, 0.746, 0.754, 0.768, 0.783, 0.79 ,\n",
      "       0.804, 0.812, 0.819, 0.877, 0.913, 0.935, 0.942, 0.942, 0.964,\n",
      "       0.964, 0.978, 0.993, 1.   , 1.   , 1.   , 1.   , 1.   , 1.   ,\n",
      "       1.   , 1.   , 1.   , 1.   , 1.   , 1.   , 1.   , 1.   , 1.   ,\n",
      "       1.   , 1.   , 1.   , 1.   , 1.   , 1.   , 1.   , 1.   , 1.   ,\n",
      "       1.   , 1.   ]), array([[0., 0., 0., ..., 1., 1., 1.],\n",
      "       [0., 0., 0., ..., 1., 1., 1.],\n",
      "       [0., 0., 0., ..., 1., 1., 1.],\n",
      "       ...,\n",
      "       [0., 0., 0., ..., 1., 1., 1.],\n",
      "       [0., 0., 0., ..., 1., 1., 1.],\n",
      "       [0., 0., 0., ..., 1., 1., 1.]]))\n"
     ]
    }
   ],
   "source": [
    "#open\n",
    "with open('pca_a8_rand_results.pkl', 'rb') as file:\n",
    "      \n",
    "    # Call load method to deserialze\n",
    "    myvar = pickle.load(file)\n",
    "  \n",
    "    print(myvar)\n",
    "test_A8_all_agents_terms_together_thetas, test_A8_all_agents_terms_together_bal_dens, test_E8_all_agents_terms_together_bal_dens_rands = myvar\n",
    "\n",
    "bal_dens_sum = np.sum(test_A8_all_agents_terms_together_bal_dens)\n",
    "bal_dens_rands_sum = np.array([np.sum(test_A8_all_agents_terms_together_bal_dens_rands[j]) for j in range(0,len(test_E8_all_agents_terms_together_bal_dens_rands))])\n"
   ]
  },
  {
   "cell_type": "code",
   "execution_count": 57,
   "id": "genetic-diary",
   "metadata": {},
   "outputs": [
    {
     "data": {
      "text/plain": [
       "(1000, 1000)"
      ]
     },
     "execution_count": 57,
     "metadata": {},
     "output_type": "execute_result"
    }
   ],
   "source": [
    "np.sum(bal_dens_sum > bal_dens_rands_sum ), np.sum(bal_dens_sum >= bal_dens_rands_sum)"
   ]
  },
  {
   "cell_type": "code",
   "execution_count": 108,
   "id": "handmade-complex",
   "metadata": {},
   "outputs": [
    {
     "data": {
      "text/plain": [
       "array([  0.,   0.,   0.,   0.,   0.,   0.,   0.,   0.,   0.,   0.,   0.,\n",
       "         0.,   0.,   0.,   0.,   0.,   0.,   0.,   0.,   0.,   0.,   0.,\n",
       "         0.,   0.,   0.,   0.,   0.,   0.,   2.,   2.,   4.,  12.,   8.,\n",
       "        11.,  24.,  10.,  31.,  26.,  15.,  21.,   3.,   4.,  10.,  34.,\n",
       "        37.,  32.,  46.,  61.,  30.,  92., 117.,  31.,  10.,  39.,  46.,\n",
       "        46.,  42.,  12.,  32.,  40.,  38.,  45.,  53.,  62.,  78.,  87.,\n",
       "        25.,  10.,   6.,   9.,  15.,   6.,  15.,   4.,   0.,   0.,   0.,\n",
       "         0.,   0.,   0.,   0.,   0.,   0.,   0.,   0.,   0.,   0.,   0.,\n",
       "         0.,   0.,   0.,   0.,   0.,   0.,   0.,   0.,   0.,   0.,   0.,\n",
       "         0.,   0.])"
      ]
     },
     "execution_count": 108,
     "metadata": {},
     "output_type": "execute_result"
    }
   ],
   "source": [
    "pvals_T = np.zeros(len(thetas))\n",
    "\n",
    "for i, theta in enumerate(thetas):    \n",
    "    pvals_T[i] = np.sum(bal_dens_rands[:,i] > bal_dens[i])\n",
    "\n",
    "pvals_T"
   ]
  },
  {
   "cell_type": "code",
   "execution_count": 58,
   "id": "considerable-music",
   "metadata": {},
   "outputs": [
    {
     "data": {
      "text/plain": [
       "array([  0.,   0.,   0.,   0.,   0.,   0.,   0.,   0.,   0.,   0.,   0.,\n",
       "         0.,   0.,   0.,   0.,   0.,   3.,   0.,   0.,   1.,   0.,   0.,\n",
       "         0.,   1.,   3.,   2.,   0.,   0.,   2.,   9.,  14.,  52.,  41.,\n",
       "        44., 102.,  38., 163., 122.,  75., 119.,  25.,  29.,  75., 194.,\n",
       "       216., 185., 288., 330., 205., 562., 665., 256., 100., 253., 262.,\n",
       "       233., 194.,  77., 178., 228., 219., 229., 295., 324., 410., 495.,\n",
       "       153.,  53.,  31.,  39.,  85.,  42.,  87.,  41.,  17.,   4.,  12.,\n",
       "        29.,  44.,  71., 107., 155., 202., 257., 332., 420., 503., 582.,\n",
       "       653., 709., 765., 810., 842., 875., 894., 910., 935., 945., 959.,\n",
       "       971., 977.])"
      ]
     },
     "execution_count": 58,
     "metadata": {},
     "output_type": "execute_result"
    }
   ],
   "source": [
    "pvals_T = np.zeros(len(thetas))\n",
    "\n",
    "for i, theta in enumerate(thetas):    \n",
    "    pvals_T[i] = np.sum(test_A8_all_agents_terms_together_bal_dens_rands[:,i] >= test_A8_all_agents_terms_together_bal_dens[i])\n",
    "\n",
    "pvals_T"
   ]
  },
  {
   "cell_type": "code",
   "execution_count": 59,
   "id": "likely-boutique",
   "metadata": {},
   "outputs": [
    {
     "data": {
      "text/plain": [
       "[(0.0, 0.0),\n",
       " (0.01, 0.0),\n",
       " (0.02, 0.0),\n",
       " (0.03, 0.0),\n",
       " (0.04, 0.0),\n",
       " (0.05, 0.0),\n",
       " (0.06, 0.0),\n",
       " (0.07, 0.0),\n",
       " (0.08, 0.0),\n",
       " (0.09, 0.0),\n",
       " (0.1, 0.0),\n",
       " (0.11, 0.0),\n",
       " (0.12, 0.0),\n",
       " (0.13, 0.0),\n",
       " (0.14, 0.0),\n",
       " (0.15, 0.0),\n",
       " (0.16, 3.0),\n",
       " (0.17, 0.0),\n",
       " (0.18, 0.0),\n",
       " (0.19, 1.0),\n",
       " (0.2, 0.0),\n",
       " (0.21, 0.0),\n",
       " (0.22, 0.0),\n",
       " (0.23, 1.0),\n",
       " (0.24, 3.0),\n",
       " (0.25, 2.0),\n",
       " (0.26, 0.0),\n",
       " (0.27, 0.0),\n",
       " (0.28, 2.0),\n",
       " (0.29, 9.0),\n",
       " (0.3, 14.0),\n",
       " (0.32, 41.0),\n",
       " (0.33, 44.0),\n",
       " (0.35000000000000003, 38.0),\n",
       " (0.4, 25.0),\n",
       " (0.41000000000000003, 29.0),\n",
       " (0.68, 31.0),\n",
       " (0.6900000000000001, 39.0),\n",
       " (0.71, 42.0),\n",
       " (0.73, 41.0),\n",
       " (0.74, 17.0),\n",
       " (0.75, 4.0),\n",
       " (0.76, 12.0),\n",
       " (0.77, 29.0),\n",
       " (0.78, 44.0)]"
      ]
     },
     "execution_count": 59,
     "metadata": {},
     "output_type": "execute_result"
    }
   ],
   "source": [
    "[(theta, pval) for theta, pval in zip(thetas, pvals_T) if pval < 50]"
   ]
  },
  {
   "cell_type": "code",
   "execution_count": 205,
   "id": "crucial-screw",
   "metadata": {},
   "outputs": [
    {
     "data": {
      "text/plain": [
       "Text(0, 0.5, 'density of balanced triads')"
      ]
     },
     "execution_count": 205,
     "metadata": {},
     "output_type": "execute_result"
    },
    {
     "data": {
      "image/png": "[encoded data removed]",
      "text/plain": [
       "<Figure size 432x288 with 1 Axes>"
      ]
     },
     "metadata": {
      "needs_background": "light"
     },
     "output_type": "display_data"
    }
   ],
   "source": [
    "mean_vals = np.mean(np.array(test_E8_all_agents_terms_together_bal_dens_rands).T,1)\n",
    "std_vals = np.std(np.array(test_E8_all_agents_terms_together_bal_dens_rands).T,1)\n",
    "\n",
    "plt.plot(test_E8_all_agents_terms_together_thetas, test_E8_all_agents_terms_together_bal_dens, 'k.')\n",
    "\n",
    "plt.fill_between(test_E8_all_agents_terms_together_thetas, mean_vals-std_vals, mean_vals+std_vals)\n",
    "plt.legend([\"network\", \"mean\"])\n",
    "plt.title(\"Model E8. Comparing data and randomized networks in all terms together.\")\n",
    "plt.xlabel(\"theta\")\n",
    "plt.ylabel(\"density of balanced triads\")"
   ]
  },
  {
   "cell_type": "code",
   "execution_count": 52,
   "id": "progressive-grade",
   "metadata": {},
   "outputs": [
    {
     "data": {
      "text/plain": [
       "Text(0, 0.5, 'density of balanced triads in all sems')"
      ]
     },
     "execution_count": 52,
     "metadata": {},
     "output_type": "execute_result"
    },
    {
     "data": {
      "image/png": "[encoded data removed]",
      "text/plain": [
       "<Figure size 432x288 with 1 Axes>"
      ]
     },
     "metadata": {
      "needs_background": "light"
     },
     "output_type": "display_data"
    }
   ],
   "source": [
    "handles_rand = plt.plot(test_E8_all_agents_terms_together_thetas, np.array(test_E8_all_agents_terms_together_bal_dens_rands).T, 'b')\n",
    "handles_net, = plt.plot(test_E8_all_agents_terms_together_thetas, test_E8_all_agents_terms_together_bal_dens, 'k')\n",
    "# plt.legend([\"network\", \"random\"], handles = [handles_net, handles_rand[0]])\n",
    "plt.legend([handles_net, handles_rand[0]], [\"network\", \"random\"])\n",
    "plt.title(\"Model E8. Comparing data and randomized networks in all terms together.\")\n",
    "plt.xlabel(\"theta\")\n",
    "plt.ylabel(\"density of balanced triads in all sems\")"
   ]
  },
  {
   "cell_type": "code",
   "execution_count": 58,
   "id": "broad-nashville",
   "metadata": {},
   "outputs": [
    {
     "data": {
      "text/plain": [
       "(5799.0,\n",
       " array([5188., 5211., 5162., 5171., 5119., 5197., 5141., 5182., 5209.,\n",
       "        5182., 5205., 5213., 5246., 5227., 5169., 5231., 5216., 5259.,\n",
       "        5191., 5220., 5228., 5169., 5202., 5157., 5181., 5181., 5149.,\n",
       "        5174., 5198., 5187., 5160., 5146., 5150., 5186., 5186., 5175.,\n",
       "        5210., 5194., 5194., 5222., 5098., 5191., 5163., 5198., 5181.,\n",
       "        5206., 5220., 5224., 5253., 5249., 5170., 5214., 5194., 5150.,\n",
       "        5195., 5220., 5153., 5138., 5174., 5115., 5272., 5157., 5129.,\n",
       "        5236., 5153., 5232., 5141., 5161., 5161., 5140., 5254., 5118.,\n",
       "        5230., 5148., 5197., 5218., 5208., 5178., 5211., 5156., 5198.,\n",
       "        5195., 5206., 5122., 5207., 5160., 5234., 5192., 5229., 5158.,\n",
       "        5144., 5141., 5245., 5239., 5110., 5169., 5204., 5208., 5192.,\n",
       "        5162., 5187., 5213., 5092., 5216., 5177., 5257., 5181., 5173.,\n",
       "        5185., 5188., 5134., 5174., 5178., 5159., 5229., 5205., 5151.,\n",
       "        5216., 5181., 5188., 5182., 5220., 5187., 5231., 5184., 5200.,\n",
       "        5164., 5256., 5201., 5164., 5253., 5172., 5169., 5199., 5251.,\n",
       "        5200., 5178., 5178., 5193., 5208., 5270., 5240., 5226., 5119.,\n",
       "        5210., 5207., 5069., 5175., 5201., 5171., 5213., 5145., 5116.,\n",
       "        5213., 5151., 5170., 5210., 5188., 5217., 5233., 5214., 5175.,\n",
       "        5171., 5162., 5215., 5179., 5214., 5183., 5226., 5138., 5218.,\n",
       "        5103., 5174., 5150., 5157., 5187., 5212., 5148., 5199., 5196.,\n",
       "        5175., 5191., 5212., 5197., 5165., 5203., 5198., 5220., 5200.,\n",
       "        5156., 5135., 5176., 5172., 5209., 5216., 5174., 5180., 5152.,\n",
       "        5152., 5177., 5166., 5190., 5220., 5164., 5199., 5133., 5179.,\n",
       "        5164., 5133., 5200., 5175., 5203., 5206., 5208., 5190., 5180.,\n",
       "        5166., 5195., 5162., 5155., 5207., 5212., 5171., 5203., 5216.,\n",
       "        5177., 5152., 5154., 5138., 5211., 5189., 5211., 5198., 5169.,\n",
       "        5190., 5171., 5196., 5182., 5225., 5138., 5192., 5201., 5159.,\n",
       "        5197., 5172., 5186., 5195., 5123., 5212., 5126., 5172., 5129.,\n",
       "        5168., 5193., 5207., 5145., 5128., 5116., 5201., 5204., 5208.,\n",
       "        5177., 5188., 5186., 5185., 5177., 5158., 5188., 5214., 5129.,\n",
       "        5150., 5192., 5175., 5198., 5210., 5152., 5174., 5199., 5146.,\n",
       "        5196., 5232., 5154., 5156., 5150., 5135., 5248., 5136., 5192.,\n",
       "        5204., 5173., 5170., 5224., 5228., 5151., 5191., 5206., 5160.,\n",
       "        5135., 5184., 5179., 5180., 5214., 5196., 5212., 5118., 5164.,\n",
       "        5157., 5206., 5142., 5191., 5164., 5204., 5230., 5158., 5204.,\n",
       "        5226., 5140., 5213., 5145., 5235., 5177., 5194., 5224., 5173.,\n",
       "        5207., 5208., 5239., 5118., 5146., 5182., 5194., 5138., 5130.,\n",
       "        5175., 5195., 5175., 5177., 5169., 5174., 5164., 5249., 5207.,\n",
       "        5210., 5149., 5182., 5136., 5192., 5177., 5194., 5190., 5142.,\n",
       "        5138., 5235., 5109., 5182., 5220., 5196., 5249., 5254., 5197.,\n",
       "        5149., 5160., 5208., 5170., 5213., 5122., 5185., 5139., 5171.,\n",
       "        5197., 5126., 5157., 5180., 5226., 5192., 5139., 5210., 5178.,\n",
       "        5178., 5174., 5282., 5080., 5199., 5187., 5209., 5188., 5168.,\n",
       "        5204., 5261., 5200., 5219., 5198., 5223., 5127., 5182., 5145.,\n",
       "        5138., 5192., 5191., 5206., 5210., 5195., 5145., 5227., 5154.,\n",
       "        5170., 5145., 5180., 5180., 5171., 5217., 5150., 5230., 5170.,\n",
       "        5187., 5218., 5188., 5160., 5151., 5157., 5213., 5195., 5231.,\n",
       "        5199., 5209., 5165., 5180., 5074., 5175., 5151., 5173., 5148.,\n",
       "        5185., 5212., 5208., 5209., 5211., 5205., 5230., 5171., 5168.,\n",
       "        5157., 5206., 5209., 5242., 5180., 5180., 5205., 5221., 5174.,\n",
       "        5237., 5153., 5239., 5180., 5119., 5192., 5155., 5126., 5173.,\n",
       "        5199., 5124., 5164., 5193., 5176., 5155., 5162., 5194., 5176.,\n",
       "        5177., 5206., 5187., 5206., 5172., 5233., 5165., 5143., 5187.,\n",
       "        5132., 5217., 5217., 5201., 5150., 5216., 5218., 5148., 5157.,\n",
       "        5205., 5215., 5173., 5157., 5190., 5133., 5186., 5200., 5197.,\n",
       "        5207., 5162., 5248., 5197., 5147., 5202., 5200., 5157., 5180.,\n",
       "        5180., 5166., 5240., 5141., 5159., 5249., 5181., 5197., 5151.,\n",
       "        5173., 5137., 5232., 5182., 5143., 5140., 5193., 5212., 5176.,\n",
       "        5163., 5145., 5202., 5147., 5212., 5170., 5156., 5238., 5154.,\n",
       "        5200., 5173., 5205., 5204., 5162., 5129., 5177., 5132., 5120.,\n",
       "        5161., 5123., 5223., 5195., 5135., 5146., 5199., 5137., 5193.,\n",
       "        5165., 5232., 5158., 5182., 5216., 5185., 5250., 5120., 5185.,\n",
       "        5190., 5145., 5192., 5217., 5235., 5169., 5205., 5131., 5136.,\n",
       "        5184., 5125., 5162., 5267., 5236., 5205., 5166., 5225., 5174.,\n",
       "        5227., 5207., 5200., 5124., 5182., 5220., 5195., 5222., 5238.,\n",
       "        5160., 5191., 5162., 5149., 5215., 5108., 5135., 5155., 5171.,\n",
       "        5199., 5197., 5199., 5114., 5189., 5191., 5193., 5104., 5207.,\n",
       "        5191., 5169., 5161., 5153., 5261., 5211., 5158., 5179., 5155.,\n",
       "        5177., 5187., 5203., 5175., 5150., 5121., 5154., 5148., 5175.,\n",
       "        5239., 5191., 5180., 5145., 5218., 5194., 5218., 5208., 5267.,\n",
       "        5194., 5144., 5228., 5225., 5173., 5197., 5108., 5188., 5196.,\n",
       "        5220., 5210., 5190., 5179., 5202., 5161., 5181., 5169., 5146.,\n",
       "        5162., 5160., 5185., 5175., 5207., 5237., 5204., 5150., 5128.,\n",
       "        5144., 5126., 5180., 5186., 5232., 5217., 5131., 5172., 5156.,\n",
       "        5209., 5257., 5196., 5130., 5161., 5201., 5245., 5210., 5137.,\n",
       "        5121., 5242., 5174., 5233., 5168., 5208., 5181., 5222., 5099.,\n",
       "        5164., 5215., 5177., 5137., 5163., 5191., 5114., 5173., 5175.,\n",
       "        5187., 5247., 5190., 5152., 5142., 5175., 5247., 5153., 5283.,\n",
       "        5176., 5196., 5224., 5181., 5173., 5156., 5142., 5183., 5226.,\n",
       "        5130., 5155., 5119., 5206., 5186., 5191., 5214., 5154., 5199.,\n",
       "        5108., 5171., 5212., 5214., 5170., 5124., 5182., 5172., 5111.,\n",
       "        5176., 5171., 5202., 5198., 5171., 5228., 5208., 5213., 5192.,\n",
       "        5171., 5184., 5167., 5273., 5216., 5095., 5127., 5186., 5145.,\n",
       "        5156., 5223., 5171., 5165., 5161., 5213., 5188., 5261., 5238.,\n",
       "        5235., 5219., 5186., 5166., 5185., 5191., 5124., 5192., 5197.,\n",
       "        5140., 5225., 5212., 5234., 5205., 5148., 5127., 5121., 5245.,\n",
       "        5154., 5177., 5196., 5126., 5153., 5200., 5250., 5252., 5173.,\n",
       "        5267., 5154., 5128., 5174., 5171., 5225., 5204., 5262., 5193.,\n",
       "        5176., 5166., 5226., 5253., 5245., 5232., 5246., 5238., 5208.,\n",
       "        5192., 5176., 5189., 5161., 5159., 5211., 5175., 5145., 5155.,\n",
       "        5182., 5197., 5184., 5187., 5180., 5198., 5153., 5202., 5187.,\n",
       "        5149., 5212., 5179., 5198., 5161., 5158., 5211., 5157., 5232.,\n",
       "        5166., 5178., 5220., 5134., 5185., 5189., 5175., 5161., 5165.,\n",
       "        5204., 5175., 5212., 5168., 5111., 5230., 5248., 5202., 5164.,\n",
       "        5255., 5167., 5197., 5198., 5203., 5196., 5212., 5169., 5165.,\n",
       "        5198., 5193., 5211., 5108., 5219., 5175., 5124., 5076., 5201.,\n",
       "        5138., 5225., 5232., 5156., 5128., 5303., 5192., 5161., 5160.,\n",
       "        5200., 5188., 5176., 5208., 5190., 5209., 5165., 5171., 5156.,\n",
       "        5167., 5180., 5120., 5179., 5211., 5241., 5173., 5150., 5196.,\n",
       "        5207., 5181., 5160., 5171., 5223., 5201., 5251., 5155., 5200.,\n",
       "        5199., 5177., 5189., 5184., 5188., 5228., 5186., 5173., 5144.,\n",
       "        5199., 5179., 5166., 5155., 5254., 5151., 5162., 5135., 5173.,\n",
       "        5207., 5186., 5196., 5222., 5163., 5179., 5183., 5177., 5214.,\n",
       "        5204., 5213., 5209., 5186., 5201., 5222., 5162., 5216., 5126.,\n",
       "        5265., 5171., 5223., 5246., 5228., 5129., 5248., 5200., 5220.,\n",
       "        5222., 5217., 5147., 5247., 5158., 5185., 5162., 5131., 5140.,\n",
       "        5161., 5155., 5242., 5111., 5179., 5161., 5222., 5199., 5187.,\n",
       "        5235., 5205., 5229., 5184., 5143., 5177., 5207., 5182., 5169.,\n",
       "        5142., 5202., 5184., 5165., 5106., 5211., 5168., 5212., 5173.,\n",
       "        5204., 5273., 5156., 5252., 5195., 5223., 5109., 5150., 5276.,\n",
       "        5199., 5195., 5244., 5174., 5193., 5188., 5180., 5162., 5146.,\n",
       "        5247.]))"
      ]
     },
     "execution_count": 58,
     "metadata": {},
     "output_type": "execute_result"
    }
   ],
   "source": [
    "first_sem = 2\n",
    "last_sem = 6\n",
    "thetas = np.linspace(0,1,101)\n",
    "M = 1000\n",
    "\n",
    "triads_all = [get_triads(data[semm]) for semm in range(1,last_sem+1)]\n",
    "triads_len = [len(x) for x in triads_all]\n",
    "triads_all_num = np.sum(triads_len)\n",
    "\n",
    "agents_len = [len(dcor_attributes[semm]) for semm in range(1,last_sem+1)]\n",
    "\n",
    "bal_dens = np.zeros(len(thetas))\n",
    "\n",
    "bal_dens_rands_sum = np.zeros(M)\n",
    "attr_rands_M = [randomize_attribute_sets(dcor_attributes) for i in range(0,M)] \n",
    "\n",
    "rhos = np.zeros([last_sem - first_sem + 1, len(thetas)])\n",
    "\n",
    "for semm in range(first_sem, last_sem+1):\n",
    "    triads = triads_all[semm-1]\n",
    "    \n",
    "    for i, theta in enumerate(thetas):\n",
    "        polarities = calc_link_polarities2(dcor_attributes[semm], theta)\n",
    "        bal_dens[i] = bal_dens[i] + balanced_triad_density_network(polarities, triads) * triads_len[semm - 1]\n",
    "        \n",
    "        N = polarities.shape[0]\n",
    "        rhos[semm-first_sem, i] = np.sum(polarities == 1)/2 / N/(N-1)*2\n",
    "\n",
    "bal_dens_rands = np.zeros([M, len(thetas)])\n",
    "for j in range(0,M):  \n",
    "    for semm in range(first_sem, last_sem+1):\n",
    "        triads = triads_all[semm-1]\n",
    "        N = agents_len[semm-1]\n",
    "        for i, theta in enumerate(thetas):    \n",
    "            polarities_rand = distribute_random_polarities(N, rhos[semm - first_sem, i])\n",
    "            bal_dens_rands[j][i] = bal_dens_rands[j][i] + balanced_triad_density_network(polarities_rand, triads) * triads_len[semm - 1]\n",
    "\n",
    "    bal_dens_rands_sum[j] = np.sum(bal_dens_rands[j])\n",
    "    \n",
    "bal_dens_sum = np.sum(bal_dens)\n",
    "\n",
    "bal_dens = bal_dens / triads_all_num\n",
    "bal_dens_rands = bal_dens_rands / triads_all_num\n",
    "\n",
    "test_E8_all_agents_terms_together_thetas2 = thetas\n",
    "test_E8_all_agents_terms_together_bal_dens2 = bal_dens\n",
    "test_E8_all_agents_terms_together_bal_dens_rands2 = bal_dens_rands\n",
    "\n",
    "bal_dens_sum, bal_dens_rands_sum\n",
    "\n",
    "# TODO: do poprawy powyzej. Zrobić, żeby była taka sama randomizacja wszystkich węzłów na raz we wszystkich semestrach. \n",
    "#     Obecnie jest to niezależne. \n"
   ]
  },
  {
   "cell_type": "code",
   "execution_count": 59,
   "id": "oriented-request",
   "metadata": {},
   "outputs": [
    {
     "data": {
      "text/plain": [
       "(1000, 1000)"
      ]
     },
     "execution_count": 59,
     "metadata": {},
     "output_type": "execute_result"
    }
   ],
   "source": [
    "np.sum(bal_dens_sum > bal_dens_rands_sum ), np.sum(bal_dens_sum >= bal_dens_rands_sum)"
   ]
  },
  {
   "cell_type": "code",
   "execution_count": 60,
   "id": "military-dating",
   "metadata": {},
   "outputs": [
    {
     "data": {
      "text/plain": [
       "array([  44.,   51.,   43.,   33.,   51.,   40.,   42.,   39.,   38.,\n",
       "         40.,   48.,   34.,   41.,   39.,   56.,  153.,  239.,   51.,\n",
       "        106.,  140.,   15.,   32.,    9.,   27.,   18.,    8.,    1.,\n",
       "          2.,    7.,    5.,    2.,    9.,   12.,    1.,    0.,    0.,\n",
       "          0.,    1.,    0.,    1.,    0.,    1.,    0.,    1.,    1.,\n",
       "          7.,    7.,    7.,    2.,   31.,   11.,    0.,    1.,    2.,\n",
       "          7.,   13.,   22.,    8.,   51.,   79.,  197.,  370.,  708.,\n",
       "        815.,  895.,  977.,  733.,  546.,  405.,  458.,  706.,  431.,\n",
       "        537.,  274.,  379.,  408.,  561.,  689.,  732.,  819.,  802.,\n",
       "        859.,  907.,  899.,  940.,  956.,  974.,  966.,  963.,  982.,\n",
       "        983., 1000., 1000., 1000., 1000., 1000., 1000., 1000., 1000.,\n",
       "       1000., 1000.])"
      ]
     },
     "execution_count": 60,
     "metadata": {},
     "output_type": "execute_result"
    }
   ],
   "source": [
    "pvals_T = np.zeros(len(thetas))\n",
    "\n",
    "for i, theta in enumerate(thetas):    \n",
    "    pvals_T[i] = np.sum(bal_dens_rands[:,i] >= bal_dens[i])\n",
    "\n",
    "pvals_T"
   ]
  },
  {
   "cell_type": "code",
   "execution_count": 61,
   "id": "apparent-consequence",
   "metadata": {},
   "outputs": [
    {
     "data": {
      "text/plain": [
       "Text(0, 0.5, 'density of balanced triads')"
      ]
     },
     "execution_count": 61,
     "metadata": {},
     "output_type": "execute_result"
    },
    {
     "data": {
      "image/png": "[encoded data removed]",
      "text/plain": [
       "<Figure size 432x288 with 1 Axes>"
      ]
     },
     "metadata": {
      "needs_background": "light"
     },
     "output_type": "display_data"
    }
   ],
   "source": [
    "mean_vals = np.mean(np.array(test_E8_all_agents_terms_together_bal_dens_rands2).T,1)\n",
    "std_vals = np.std(np.array(test_E8_all_agents_terms_together_bal_dens_rands2).T,1)\n",
    "\n",
    "plt.plot(test_E8_all_agents_terms_together_thetas2, test_E8_all_agents_terms_together_bal_dens2, 'k.')\n",
    "\n",
    "plt.fill_between(test_E8_all_agents_terms_together_thetas2, mean_vals-std_vals, mean_vals+std_vals)\n",
    "plt.legend([\"network\", \"mean\"])\n",
    "plt.title(\"Model E8. Comparing data and randomized networks in all terms together.\")\n",
    "plt.xlabel(\"theta\")\n",
    "plt.ylabel(\"density of balanced triads\")"
   ]
  },
  {
   "cell_type": "markdown",
   "id": "southwest-queens",
   "metadata": {},
   "source": [
    "# Sum of ranks analysis\n",
    "\n",
    "Let's calculate a rank for a given threshold for each series for randomized datasets and let's what is the distribution of these values. Is it normal?\n",
    "\n",
    "What is the prob. that the sum of ranks for RL dataset is larger than for randomized datasets? "
   ]
  },
  {
   "cell_type": "code",
   "execution_count": 60,
   "id": "secondary-command",
   "metadata": {},
   "outputs": [],
   "source": [
    "def calc_rank(vals, val):\n",
    "    \"\"\"\n",
    "    Includes val in vals array sorts it and calculates rank for the val.\n",
    "    \"\"\"\n",
    "    all_vals = np.append(vals, val)\n",
    "    \n",
    "    all_ranks = stats.rankdata(all_vals)\n",
    "    return all_ranks[-1]\n",
    "\n",
    "def calc_ranks(vals, val = []):\n",
    "    \"\"\"\n",
    "    Calculated ranks and allows to include one more value. \n",
    "    \"\"\"\n",
    "    all_vals = np.append(vals, val)\n",
    "    \n",
    "    all_ranks = stats.rankdata(all_vals)\n",
    "    if np.isscalar(val):\n",
    "        return all_ranks[0:-1], all_ranks[-1]\n",
    "    else:\n",
    "        return all_ranks, []\n",
    "\n",
    "def get_important_theta_values(thetas, bal_dens_rands, bal_dens = [], distances = [i/16 for i in range(0,16)]):\n",
    "    \"\"\"\n",
    "    There are only 16 (17) distinct thetas. So we do not need all the values. \n",
    "    \"\"\"\n",
    "    pds = np.array([bal_dens[np.where(thetas >= distances[i])[0][0]] for i in range(0, len(distances))])\n",
    "    rds = np.array([[bal_dens_rands[j][np.where(thetas >= distances[i])[0][0]] for i in range(0, len(distances))] for j in range(0, len(bal_dens_rands))])\n",
    "    return pds, rds\n",
    "\n",
    "def calc_ranks_thetas(bal_dens_rands, bal_dens = []):\n",
    "    M, num_thetas = bal_dens_rands.shape\n",
    "#     print(M); \n",
    "#     print(num_thetas)\n",
    "    rl_rank = np.zeros(num_thetas)\n",
    "    rand_ranks = np.zeros([num_thetas, M])\n",
    "    \n",
    "    for theta_ind in range(0, num_thetas):\n",
    "        vals = [bal_dens_rands[i][theta_ind] for i in range(0, M)]\n",
    "        if len(bal_dens) > 0:\n",
    "            val = bal_dens[theta_ind]\n",
    "        else:\n",
    "            val = []\n",
    "        \n",
    "        rand_ranks[theta_ind], rl_rank[theta_ind] = calc_ranks(vals, val)\n",
    "    return rand_ranks, rl_rank\n"
   ]
  },
  {
   "cell_type": "code",
   "execution_count": 62,
   "id": "appropriate-profession",
   "metadata": {},
   "outputs": [
    {
     "data": {
      "text/plain": [
       "array([[0., 0., 0., ..., 1., 1., 1.],\n",
       "       [0., 0., 0., ..., 1., 1., 1.],\n",
       "       [0., 0., 0., ..., 1., 1., 1.],\n",
       "       ...,\n",
       "       [0., 0., 0., ..., 1., 1., 1.],\n",
       "       [0., 0., 0., ..., 1., 1., 1.],\n",
       "       [0., 0., 0., ..., 1., 1., 1.]])"
      ]
     },
     "execution_count": 62,
     "metadata": {},
     "output_type": "execute_result"
    }
   ],
   "source": [
    "test_A8_all_agents_terms_together_bal_dens_rands"
   ]
  },
  {
   "cell_type": "code",
   "execution_count": 64,
   "id": "naughty-premium",
   "metadata": {
    "scrolled": true
   },
   "outputs": [],
   "source": [
    "distances = [i/16 for i in range(0,16)]\n",
    "distances = test_A8_all_agents_terms_together_thetas\n",
    "pds = np.array([test_A8_all_agents_terms_together_bal_dens[np.where(test_A8_all_agents_terms_together_thetas >= distances[i])[0][0]] for i in range(0, len(distances))])\n",
    "rds = np.array([[test_A8_all_agents_terms_together_bal_dens_rands[j][np.where(test_A8_all_agents_terms_together_thetas >= distances[i])[0][0]] for i in range(0, len(distances))] for j in range(0, len(test_A8_all_agents_terms_together_bal_dens_rands))])\n"
   ]
  },
  {
   "cell_type": "code",
   "execution_count": 67,
   "id": "consecutive-publicity",
   "metadata": {},
   "outputs": [
    {
     "data": {
      "text/plain": [
       "(array([500.5, 500.5, 500.5, 500.5, 500.5, 500.5, 500.5, 500.5, 500.5,\n",
       "        500.5, 500.5, 500.5, 500.5, 500.5, 500.5, 500.5, 500.5, 500.5,\n",
       "        500.5, 500.5, 500.5, 500.5, 500.5, 500.5, 500.5, 500.5, 500.5,\n",
       "        500.5, 500.5, 500.5, 500.5, 500.5, 500.5, 500.5, 500.5, 500.5,\n",
       "        500.5, 500.5, 500.5, 500.5, 500.5, 500.5, 500.5, 500.5, 500.5,\n",
       "        500.5, 500.5, 500.5, 500.5, 500.5, 500.5, 500.5, 500.5, 500.5,\n",
       "        500.5, 500.5, 500.5, 500.5, 500.5, 500.5, 500.5, 500.5, 500.5,\n",
       "        500.5, 500.5, 500.5, 500.5, 500.5, 500.5, 500.5, 500.5, 500.5,\n",
       "        500.5, 500.5, 500.5, 500.5, 500.5, 500.5, 500.5, 500.5, 500.5,\n",
       "        500.5, 500.5, 500.5, 500.5, 500.5, 500.5, 500.5, 500.5, 500.5,\n",
       "        500.5, 500.5, 500.5, 500.5, 500.5, 500.5, 500.5, 500.5, 500.5,\n",
       "        500.5, 500.5, 500.5, 500.5, 500.5, 500.5, 500.5, 500.5, 500.5,\n",
       "        500.5, 500.5, 500.5, 500.5, 500.5, 500.5, 500.5, 500.5, 500.5,\n",
       "        500.5, 500.5, 500.5, 500.5, 500.5, 500.5, 500.5, 500.5, 500.5,\n",
       "        500.5, 500.5, 500.5, 500.5, 500.5, 500.5, 500.5, 500.5, 500.5,\n",
       "        500.5, 500.5, 500.5, 500.5, 500.5, 500.5, 500.5, 500.5, 500.5,\n",
       "        500.5, 500.5, 500.5, 500.5, 500.5, 500.5, 500.5, 500.5, 500.5,\n",
       "        500.5, 500.5, 500.5, 500.5, 500.5, 500.5, 500.5, 500.5, 500.5,\n",
       "        500.5, 500.5, 500.5, 500.5, 500.5, 500.5, 500.5, 500.5, 500.5,\n",
       "        500.5, 500.5, 500.5, 500.5, 500.5, 500.5, 500.5, 500.5, 500.5,\n",
       "        500.5, 500.5, 500.5, 500.5, 500.5, 500.5, 500.5, 500.5, 500.5,\n",
       "        500.5, 500.5, 500.5, 500.5, 500.5, 500.5, 500.5, 500.5, 500.5,\n",
       "        500.5, 500.5, 500.5, 500.5, 500.5, 500.5, 500.5, 500.5, 500.5,\n",
       "        500.5, 500.5, 500.5, 500.5, 500.5, 500.5, 500.5, 500.5, 500.5,\n",
       "        500.5, 500.5, 500.5, 500.5, 500.5, 500.5, 500.5, 500.5, 500.5,\n",
       "        500.5, 500.5, 500.5, 500.5, 500.5, 500.5, 500.5, 500.5, 500.5,\n",
       "        500.5, 500.5, 500.5, 500.5, 500.5, 500.5, 500.5, 500.5, 500.5,\n",
       "        500.5, 500.5, 500.5, 500.5, 500.5, 500.5, 500.5, 500.5, 500.5,\n",
       "        500.5, 500.5, 500.5, 500.5, 500.5, 500.5, 500.5, 500.5, 500.5,\n",
       "        500.5, 500.5, 500.5, 500.5, 500.5, 500.5, 500.5, 500.5, 500.5,\n",
       "        500.5, 500.5, 500.5, 500.5, 500.5, 500.5, 500.5, 500.5, 500.5,\n",
       "        500.5, 500.5, 500.5, 500.5, 500.5, 500.5, 500.5, 500.5, 500.5,\n",
       "        500.5, 500.5, 500.5, 500.5, 500.5, 500.5, 500.5, 500.5, 500.5,\n",
       "        500.5, 500.5, 500.5, 500.5, 500.5, 500.5, 500.5, 500.5, 500.5,\n",
       "        500.5, 500.5, 500.5, 500.5, 500.5, 500.5, 500.5, 500.5, 500.5,\n",
       "        500.5, 500.5, 500.5, 500.5, 500.5, 500.5, 500.5, 500.5, 500.5,\n",
       "        500.5, 500.5, 500.5, 500.5, 500.5, 500.5, 500.5, 500.5, 500.5,\n",
       "        500.5, 500.5, 500.5, 500.5, 500.5, 500.5, 500.5, 500.5, 500.5,\n",
       "        500.5, 500.5, 500.5, 500.5, 500.5, 500.5, 500.5, 500.5, 500.5,\n",
       "        500.5, 500.5, 500.5, 500.5, 500.5, 500.5, 500.5, 500.5, 500.5,\n",
       "        500.5, 500.5, 500.5, 500.5, 500.5, 500.5, 500.5, 500.5, 500.5,\n",
       "        500.5, 500.5, 500.5, 500.5, 500.5, 500.5, 500.5, 500.5, 500.5,\n",
       "        500.5, 500.5, 500.5, 500.5, 500.5, 500.5, 500.5, 500.5, 500.5,\n",
       "        500.5, 500.5, 500.5, 500.5, 500.5, 500.5, 500.5, 500.5, 500.5,\n",
       "        500.5, 500.5, 500.5, 500.5, 500.5, 500.5, 500.5, 500.5, 500.5,\n",
       "        500.5, 500.5, 500.5, 500.5, 500.5, 500.5, 500.5, 500.5, 500.5,\n",
       "        500.5, 500.5, 500.5, 500.5, 500.5, 500.5, 500.5, 500.5, 500.5,\n",
       "        500.5, 500.5, 500.5, 500.5, 500.5, 500.5, 500.5, 500.5, 500.5,\n",
       "        500.5, 500.5, 500.5, 500.5, 500.5, 500.5, 500.5, 500.5, 500.5,\n",
       "        500.5, 500.5, 500.5, 500.5, 500.5, 500.5, 500.5, 500.5, 500.5,\n",
       "        500.5, 500.5, 500.5, 500.5, 500.5, 500.5, 500.5, 500.5, 500.5,\n",
       "        500.5, 500.5, 500.5, 500.5, 500.5, 500.5, 500.5, 500.5, 500.5,\n",
       "        500.5, 500.5, 500.5, 500.5, 500.5, 500.5, 500.5, 500.5, 500.5,\n",
       "        500.5, 500.5, 500.5, 500.5, 500.5, 500.5, 500.5, 500.5, 500.5,\n",
       "        500.5, 500.5, 500.5, 500.5, 500.5, 500.5, 500.5, 500.5, 500.5,\n",
       "        500.5, 500.5, 500.5, 500.5, 500.5, 500.5, 500.5, 500.5, 500.5,\n",
       "        500.5, 500.5, 500.5, 500.5, 500.5, 500.5, 500.5, 500.5, 500.5,\n",
       "        500.5, 500.5, 500.5, 500.5, 500.5, 500.5, 500.5, 500.5, 500.5,\n",
       "        500.5, 500.5, 500.5, 500.5, 500.5, 500.5, 500.5, 500.5, 500.5,\n",
       "        500.5, 500.5, 500.5, 500.5, 500.5, 500.5, 500.5, 500.5, 500.5,\n",
       "        500.5, 500.5, 500.5, 500.5, 500.5, 500.5, 500.5, 500.5, 500.5,\n",
       "        500.5, 500.5, 500.5, 500.5, 500.5, 500.5, 500.5, 500.5, 500.5,\n",
       "        500.5, 500.5, 500.5, 500.5, 500.5, 500.5, 500.5, 500.5, 500.5,\n",
       "        500.5, 500.5, 500.5, 500.5, 500.5, 500.5, 500.5, 500.5, 500.5,\n",
       "        500.5, 500.5, 500.5, 500.5, 500.5, 500.5, 500.5, 500.5, 500.5,\n",
       "        500.5, 500.5, 500.5, 500.5, 500.5, 500.5, 500.5, 500.5, 500.5,\n",
       "        500.5, 500.5, 500.5, 500.5, 500.5, 500.5, 500.5, 500.5, 500.5,\n",
       "        500.5, 500.5, 500.5, 500.5, 500.5, 500.5, 500.5, 500.5, 500.5,\n",
       "        500.5, 500.5, 500.5, 500.5, 500.5, 500.5, 500.5, 500.5, 500.5,\n",
       "        500.5, 500.5, 500.5, 500.5, 500.5, 500.5, 500.5, 500.5, 500.5,\n",
       "        500.5, 500.5, 500.5, 500.5, 500.5, 500.5, 500.5, 500.5, 500.5,\n",
       "        500.5, 500.5, 500.5, 500.5, 500.5, 500.5, 500.5, 500.5, 500.5,\n",
       "        500.5, 500.5, 500.5, 500.5, 500.5, 500.5, 500.5, 500.5, 500.5,\n",
       "        500.5, 500.5, 500.5, 500.5, 500.5, 500.5, 500.5, 500.5, 500.5,\n",
       "        500.5, 500.5, 500.5, 500.5, 500.5, 500.5, 500.5, 500.5, 500.5,\n",
       "        500.5, 500.5, 500.5, 500.5, 500.5, 500.5, 500.5, 500.5, 500.5,\n",
       "        500.5, 500.5, 500.5, 500.5, 500.5, 500.5, 500.5, 500.5, 500.5,\n",
       "        500.5, 500.5, 500.5, 500.5, 500.5, 500.5, 500.5, 500.5, 500.5,\n",
       "        500.5, 500.5, 500.5, 500.5, 500.5, 500.5, 500.5, 500.5, 500.5,\n",
       "        500.5, 500.5, 500.5, 500.5, 500.5, 500.5, 500.5, 500.5, 500.5,\n",
       "        500.5, 500.5, 500.5, 500.5, 500.5, 500.5, 500.5, 500.5, 500.5,\n",
       "        500.5, 500.5, 500.5, 500.5, 500.5, 500.5, 500.5, 500.5, 500.5,\n",
       "        500.5, 500.5, 500.5, 500.5, 500.5, 500.5, 500.5, 500.5, 500.5,\n",
       "        500.5, 500.5, 500.5, 500.5, 500.5, 500.5, 500.5, 500.5, 500.5,\n",
       "        500.5, 500.5, 500.5, 500.5, 500.5, 500.5, 500.5, 500.5, 500.5,\n",
       "        500.5, 500.5, 500.5, 500.5, 500.5, 500.5, 500.5, 500.5, 500.5,\n",
       "        500.5, 500.5, 500.5, 500.5, 500.5, 500.5, 500.5, 500.5, 500.5,\n",
       "        500.5, 500.5, 500.5, 500.5, 500.5, 500.5, 500.5, 500.5, 500.5,\n",
       "        500.5, 500.5, 500.5, 500.5, 500.5, 500.5, 500.5, 500.5, 500.5,\n",
       "        500.5, 500.5, 500.5, 500.5, 500.5, 500.5, 500.5, 500.5, 500.5,\n",
       "        500.5, 500.5, 500.5, 500.5, 500.5, 500.5, 500.5, 500.5, 500.5,\n",
       "        500.5, 500.5, 500.5, 500.5, 500.5, 500.5, 500.5, 500.5, 500.5,\n",
       "        500.5, 500.5, 500.5, 500.5, 500.5, 500.5, 500.5, 500.5, 500.5,\n",
       "        500.5, 500.5, 500.5, 500.5, 500.5, 500.5, 500.5, 500.5, 500.5,\n",
       "        500.5, 500.5, 500.5, 500.5, 500.5, 500.5, 500.5, 500.5, 500.5,\n",
       "        500.5, 500.5, 500.5, 500.5, 500.5, 500.5, 500.5, 500.5, 500.5,\n",
       "        500.5, 500.5, 500.5, 500.5, 500.5, 500.5, 500.5, 500.5, 500.5,\n",
       "        500.5, 500.5, 500.5, 500.5, 500.5, 500.5, 500.5, 500.5, 500.5,\n",
       "        500.5, 500.5, 500.5, 500.5, 500.5, 500.5, 500.5, 500.5, 500.5,\n",
       "        500.5, 500.5, 500.5, 500.5, 500.5, 500.5, 500.5, 500.5, 500.5,\n",
       "        500.5, 500.5, 500.5, 500.5, 500.5, 500.5, 500.5, 500.5, 500.5,\n",
       "        500.5, 500.5, 500.5, 500.5, 500.5, 500.5, 500.5, 500.5, 500.5,\n",
       "        500.5, 500.5, 500.5, 500.5, 500.5, 500.5, 500.5, 500.5, 500.5,\n",
       "        500.5, 500.5, 500.5, 500.5, 500.5, 500.5, 500.5, 500.5, 500.5,\n",
       "        500.5, 500.5, 500.5, 500.5, 500.5, 500.5, 500.5, 500.5, 500.5,\n",
       "        500.5, 500.5, 500.5, 500.5, 500.5, 500.5, 500.5, 500.5, 500.5,\n",
       "        500.5, 500.5, 500.5, 500.5, 500.5, 500.5, 500.5, 500.5, 500.5,\n",
       "        500.5, 500.5, 500.5, 500.5, 500.5, 500.5, 500.5, 500.5, 500.5,\n",
       "        500.5, 500.5, 500.5, 500.5, 500.5, 500.5, 500.5, 500.5, 500.5,\n",
       "        500.5, 500.5, 500.5, 500.5, 500.5, 500.5, 500.5, 500.5, 500.5,\n",
       "        500.5, 500.5, 500.5, 500.5, 500.5, 500.5, 500.5, 500.5, 500.5,\n",
       "        500.5]),\n",
       " 1001.0)"
      ]
     },
     "execution_count": 67,
     "metadata": {},
     "output_type": "execute_result"
    }
   ],
   "source": [
    "vals = [rds[i][0] for i in range(0, len(rds))]\n",
    "val = pds[0]\n",
    "\n",
    "calc_ranks(vals, val)"
   ]
  },
  {
   "cell_type": "code",
   "execution_count": 68,
   "id": "ef569b06",
   "metadata": {},
   "outputs": [
    {
     "data": {
      "text/plain": [
       "array([[0., 0., 0., ..., 1., 1., 1.],\n",
       "       [0., 0., 0., ..., 1., 1., 1.],\n",
       "       [0., 0., 0., ..., 1., 1., 1.],\n",
       "       ...,\n",
       "       [0., 0., 0., ..., 1., 1., 1.],\n",
       "       [0., 0., 0., ..., 1., 1., 1.],\n",
       "       [0., 0., 0., ..., 1., 1., 1.]])"
      ]
     },
     "execution_count": 68,
     "metadata": {},
     "output_type": "execute_result"
    }
   ],
   "source": [
    "rds"
   ]
  },
  {
   "cell_type": "code",
   "execution_count": 69,
   "id": "forty-study",
   "metadata": {},
   "outputs": [],
   "source": [
    "rand_ranks, rl_rank = calc_ranks_thetas(rds, pds)"
   ]
  },
  {
   "cell_type": "code",
   "execution_count": 70,
   "id": "regional-calcium",
   "metadata": {},
   "outputs": [],
   "source": [
    "sums = np.sum(rand_ranks,0)"
   ]
  },
  {
   "cell_type": "code",
   "execution_count": 71,
   "id": "retained-liver",
   "metadata": {},
   "outputs": [
    {
     "name": "stderr",
     "output_type": "stream",
     "text": [
      "/home/pgorski/anaconda3/lib/python3.8/site-packages/statsmodels/graphics/gofplots.py:993: UserWarning: marker is redundantly defined by the 'marker' keyword argument and the fmt string \"bo\" (-> marker='o'). The keyword argument will take precedence.\n",
      "  ax.plot(x, y, fmt, **plot_style)\n"
     ]
    },
    {
     "data": {
      "image/png": "[encoded data removed]",
      "text/plain": [
       "<Figure size 432x288 with 1 Axes>"
      ]
     },
     "metadata": {
      "needs_background": "light"
     },
     "output_type": "display_data"
    }
   ],
   "source": [
    "\n",
    "sm.qqplot((sums - np.mean(sums)) / np.std(sums), line ='45')\n",
    "py.show()"
   ]
  },
  {
   "cell_type": "code",
   "execution_count": 72,
   "id": "3ba985ce",
   "metadata": {},
   "outputs": [
    {
     "data": {
      "text/plain": [
       "ShapiroResult(statistic=0.9966294765472412, pvalue=0.03091501258313656)"
      ]
     },
     "execution_count": 72,
     "metadata": {},
     "output_type": "execute_result"
    }
   ],
   "source": [
    "\n",
    "stats.shapiro(sums)"
   ]
  },
  {
   "cell_type": "code",
   "execution_count": 73,
   "id": "color-booking",
   "metadata": {},
   "outputs": [
    {
     "data": {
      "text/plain": [
       "(1000,\n",
       " array([61320. , 63757. , 39861. , 31034.5, 49293.5, 38740.5, 27010. ,\n",
       "        65712.5, 43286.5, 56123.5, 37365. , 70130.5, 41215. , 64006.5,\n",
       "        53551. , 64702. , 44681.5, 48288.5, 49732.5, 45614. , 48952.5,\n",
       "        60550. , 43671. , 43068.5, 53559.5, 38064.5, 46285.5, 51003. ,\n",
       "        49191. , 34431.5, 46826. , 67260. , 73633.5, 52325.5, 32528. ,\n",
       "        38315.5, 71077.5, 50620.5, 45740. , 50133. , 39483. , 74227.5,\n",
       "        64803.5, 47749. , 56753. , 66813. , 38808. , 31902. , 52937.5,\n",
       "        45381. , 77832.5, 52997.5, 37656.5, 57016. , 65597. , 50960.5,\n",
       "        50682. , 38502.5, 44994. , 42827. , 62650. , 36998.5, 39572.5,\n",
       "        39373.5, 44523.5, 36003. , 47959.5, 48416. , 37607. , 44508. ,\n",
       "        63630.5, 37352. , 33706.5, 36271. , 46469. , 60367. , 70678.5,\n",
       "        64594.5, 41464.5, 36925.5, 59766. , 44980. , 55720. , 40467. ,\n",
       "        60504. , 33947.5, 46659.5, 54283.5, 44612. , 41778. , 69173.5,\n",
       "        47652. , 45092. , 56593. , 36806. , 57044. , 38241. , 65377.5,\n",
       "        46048. , 29368. , 45064. , 36458. , 50077.5, 38224. , 35522.5,\n",
       "        53322.5, 80394. , 67828.5, 43710.5, 65876.5, 46791.5, 54353.5,\n",
       "        59116. , 30344. , 37144. , 48416.5, 24528.5, 42172. , 49985.5,\n",
       "        50353.5, 73443. , 49841. , 46388.5, 41405. , 61602.5, 66012.5,\n",
       "        53188. , 56979. , 40429.5, 43144. , 35644. , 46905.5, 54660.5,\n",
       "        45052. , 32053. , 66201. , 53078. , 24588.5, 61111. , 60602.5,\n",
       "        43505. , 38101. , 64755.5, 52027.5, 57322. , 45529.5, 60428.5,\n",
       "        53155. , 32186. , 48246.5, 36297. , 40857. , 46493. , 38504. ,\n",
       "        43460. , 75742. , 54552. , 53173. , 46335. , 41668. , 52033. ,\n",
       "        32803.5, 35370.5, 57856.5, 60301.5, 43276.5, 56736.5, 50914. ,\n",
       "        48011.5, 60277.5, 59029.5, 65156.5, 38886.5, 43882.5, 56770. ,\n",
       "        43149. , 49881. , 51670. , 63687. , 57636.5, 50148.5, 55949. ,\n",
       "        61095.5, 46747.5, 67899.5, 65048. , 50305. , 66384. , 40891.5,\n",
       "        42957. , 53463. , 54104. , 28375.5, 46619.5, 65999.5, 53103.5,\n",
       "        31062.5, 40255.5, 62141.5, 67985.5, 39149.5, 39494.5, 57019.5,\n",
       "        63486. , 40094.5, 71880.5, 54024.5, 48376. , 43649. , 42458. ,\n",
       "        59345. , 48095. , 56238.5, 55390.5, 42331.5, 60000.5, 58346.5,\n",
       "        60033.5, 58230.5, 33868.5, 60953. , 62284.5, 68888. , 44388. ,\n",
       "        51828. , 53741. , 45743.5, 44425. , 51145.5, 65250.5, 61372.5,\n",
       "        45915.5, 44978. , 48167. , 48267. , 41146. , 52347. , 60778.5,\n",
       "        61576.5, 58195. , 64539.5, 47753.5, 74597. , 46981.5, 72008. ,\n",
       "        42828. , 34603.5, 72465. , 58333. , 40163.5, 66389. , 36561. ,\n",
       "        34850.5, 55691. , 27625.5, 58836. , 35153. , 44380.5, 41791.5,\n",
       "        51118. , 53769.5, 72199.5, 37031. , 48030. , 57647.5, 67455. ,\n",
       "        54895.5, 35909.5, 38707. , 57421. , 49377. , 33499. , 56839. ,\n",
       "        20598. , 51344.5, 48240.5, 55558.5, 51584.5, 49828. , 46339.5,\n",
       "        34294.5, 56727.5, 61936. , 56132.5, 48897.5, 35623. , 40488.5,\n",
       "        52012. , 53183.5, 36852. , 55902.5, 55524.5, 47596.5, 33735. ,\n",
       "        51955.5, 58980.5, 67838.5, 43140.5, 50432.5, 54314. , 45147. ,\n",
       "        62587.5, 41603.5, 56627. , 44681.5, 61010. , 17687.5, 67796. ,\n",
       "        36535. , 61063. , 38561.5, 50214.5, 33359.5, 57168. , 50710. ,\n",
       "        34005. , 61531. , 72581.5, 44637. , 37840.5, 40803. , 53731.5,\n",
       "        41157. , 52387.5, 45595. , 73069. , 40009. , 62798.5, 58805.5,\n",
       "        41844. , 54268. , 61109. , 63266. , 41270.5, 52097. , 58118. ,\n",
       "        62392. , 32289. , 45737. , 51899.5, 55227. , 47383. , 52356. ,\n",
       "        75073. , 50611. , 41251.5, 52448.5, 39586.5, 44269. , 44499. ,\n",
       "        36481.5, 59798. , 67265. , 45262.5, 59986.5, 58224. , 40300. ,\n",
       "        58993.5, 42626.5, 48612. , 29453.5, 42841. , 66726.5, 37940. ,\n",
       "        51103. , 55135. , 57656. , 57076. , 53397.5, 20524.5, 49438. ,\n",
       "        59454. , 48303.5, 43416.5, 70157. , 51582. , 37756. , 31619. ,\n",
       "        54195. , 51886. , 56698.5, 35578. , 53559.5, 43042.5, 49483.5,\n",
       "        58849. , 43710.5, 45607.5, 28126. , 47615. , 63257. , 52128.5,\n",
       "        47777. , 42478. , 52498. , 62254. , 43628. , 48983.5, 44887. ,\n",
       "        45844.5, 69420.5, 40217. , 48390.5, 45704.5, 59136. , 46976. ,\n",
       "        57374. , 53230. , 54442.5, 64810. , 67749.5, 47674.5, 45725. ,\n",
       "        37238. , 63351.5, 40292. , 62469. , 53036.5, 46884. , 56005.5,\n",
       "        35236.5, 65788. , 45483.5, 44672.5, 65008. , 60421.5, 37658.5,\n",
       "        53204.5, 45664. , 51243. , 61986.5, 37072.5, 63342. , 46755. ,\n",
       "        51630. , 54717. , 63683. , 53497.5, 54257.5, 60203.5, 51078.5,\n",
       "        35112.5, 59318. , 51832. , 59568.5, 60526. , 63660.5, 25311. ,\n",
       "        40138.5, 45535.5, 56413.5, 59643. , 59782. , 56826. , 71767. ,\n",
       "        60136. , 58539.5, 59319. , 57789. , 68278.5, 37243.5, 36267. ,\n",
       "        61391. , 60543. , 64238.5, 37635. , 45376. , 44808. , 45926. ,\n",
       "        63865.5, 45168. , 58153.5, 69514. , 63676. , 73305.5, 28308.5,\n",
       "        45254. , 42901.5, 67889.5, 32956. , 52265. , 41771.5, 47670.5,\n",
       "        59486. , 54686.5, 61166.5, 40966.5, 48187. , 50626.5, 31628. ,\n",
       "        54154.5, 50055.5, 31402. , 60472. , 51691. , 45185.5, 42534. ,\n",
       "        48547.5, 53278.5, 50972.5, 41926. , 54163. , 51922. , 34101.5,\n",
       "        40061.5, 43992. , 53906.5, 64622. , 39629. , 38303. , 39369. ,\n",
       "        64124. , 47965. , 42317.5, 50139. , 45597. , 54230. , 57552. ,\n",
       "        44582. , 58441.5, 48607. , 45641. , 46196. , 24150. , 28964. ,\n",
       "        59335.5, 63349. , 43898.5, 62810.5, 60241.5, 68766.5, 47959. ,\n",
       "        45076. , 44481. , 49530.5, 40364. , 39622.5, 59632.5, 52727. ,\n",
       "        42796.5, 47124. , 44694.5, 44106.5, 72561. , 58833.5, 52756. ,\n",
       "        57931.5, 36408.5, 39119. , 41819.5, 57593. , 51715.5, 48671. ,\n",
       "        60356.5, 53544. , 39291.5, 48302. , 61226.5, 51604. , 59179.5,\n",
       "        38012.5, 55146.5, 42824. , 70756. , 52472. , 53438.5, 44087. ,\n",
       "        52265.5, 44952. , 58367.5, 55375. , 50452.5, 56481.5, 59348.5,\n",
       "        41377.5, 64461.5, 41616.5, 46788.5, 37096. , 43144. , 51175.5,\n",
       "        59894. , 48804. , 48693.5, 36169. , 59402. , 64404.5, 59655.5,\n",
       "        47541.5, 49784.5, 67312.5, 45417.5, 43062. , 49090.5, 56198. ,\n",
       "        49973. , 47383.5, 42806.5, 35584.5, 54202.5, 43985. , 52334.5,\n",
       "        35286. , 42315.5, 54537. , 62990.5, 70129. , 40460.5, 68697.5,\n",
       "        42654.5, 55480.5, 71847. , 51468.5, 59318. , 47325. , 52361. ,\n",
       "        37698. , 63657. , 44628. , 52836. , 53972.5, 55561.5, 61065.5,\n",
       "        49053.5, 60819. , 51577.5, 44133. , 53160. , 35920. , 70701. ,\n",
       "        64775. , 55572.5, 58711. , 61968. , 35148. , 46542. , 57082.5,\n",
       "        26741. , 48264. , 53036. , 50949. , 45430.5, 39551.5, 43348.5,\n",
       "        30935.5, 72816. , 29981.5, 63191. , 49805.5, 58370. , 61199. ,\n",
       "        47065.5, 38219.5, 45308.5, 61289.5, 45158.5, 47112.5, 57298. ,\n",
       "        47570.5, 33121. , 43626.5, 44348.5, 39242.5, 58016.5, 54525. ,\n",
       "        54137. , 52779. , 41490.5, 60907. , 33213. , 33051.5, 50340. ,\n",
       "        47389.5, 38995.5, 59068.5, 63924.5, 44688.5, 46616. , 71171. ,\n",
       "        52577.5, 53195. , 42678.5, 49986.5, 42978. , 63150. , 31384.5,\n",
       "        44300.5, 54781.5, 53893. , 51942.5, 51991. , 61717. , 36177.5,\n",
       "        44691. , 54877.5, 65266. , 38176.5, 46321.5, 52517.5, 32721.5,\n",
       "        35998. , 49383. , 56545.5, 46920.5, 56053. , 55920.5, 31931. ,\n",
       "        51842. , 69906. , 70072.5, 52751. , 61272. , 58636. , 50419.5,\n",
       "        61854. , 59086.5, 61863.5, 46461. , 75083. , 61271. , 36804. ,\n",
       "        59278.5, 42210. , 31571. , 39649.5, 42865. , 53445.5, 40518. ,\n",
       "        57887. , 47786.5, 59487. , 60208.5, 51612.5, 61843. , 58517. ,\n",
       "        52801.5, 53219.5, 44581.5, 40317. , 71426.5, 64808. , 60826. ,\n",
       "        33145.5, 30278. , 64814.5, 49623. , 54268. , 71508.5, 42776.5,\n",
       "        53333.5, 49466. , 61095. , 34234. , 46471.5, 55191. , 61701. ,\n",
       "        41140.5, 39393. , 52326. , 35341.5, 38473.5, 69271. , 48581. ,\n",
       "        45159.5, 60109.5, 49570. , 65282.5, 49641.5, 57629.5, 66969. ,\n",
       "        39312. , 48804.5, 26552. , 38128.5, 55699.5, 67188.5, 38042. ,\n",
       "        61786. , 45403.5, 40197.5, 36402. , 38743. , 46184. , 53414. ,\n",
       "        48555. , 45617. , 52476.5, 53092.5, 53188. , 50094. , 54192.5,\n",
       "        53454. , 48702.5, 35478. , 46788. , 45028.5, 63986.5, 37693.5,\n",
       "        59932.5, 32323.5, 38463. , 43804.5, 51651. , 29715. , 63278. ,\n",
       "        55834.5, 69491.5, 59577. , 45396.5, 54143.5, 47965.5, 64289. ,\n",
       "        54851. , 39497. , 36982.5, 48842.5, 54708. , 35587.5, 46463.5,\n",
       "        55183. , 55862.5, 36248.5, 54614.5, 64109.5, 54569.5, 42939.5,\n",
       "        58261.5, 34194.5, 49490.5, 46878. , 71484. , 35661. , 42282.5,\n",
       "        38051.5, 58463.5, 51942. , 69374.5, 43442.5, 56652.5, 35034. ,\n",
       "        50353.5, 54467. , 35319. , 49742.5, 58376.5, 47481. , 60011. ,\n",
       "        35777.5, 62861. , 62872. , 49914.5, 52103.5, 50750.5, 45095.5,\n",
       "        61223. , 59051.5, 51733. , 50074. , 63026.5, 66873. , 55034. ,\n",
       "        46966. , 40454.5, 51513. , 62347. , 59172. , 38215.5, 42555.5,\n",
       "        66324. , 43103.5, 63595.5, 44765.5, 48334. , 74353.5, 54926.5,\n",
       "        54567. , 62295.5, 56688. , 39578.5, 45664.5, 57201.5, 50677.5,\n",
       "        38193.5, 36698. , 46629. , 51401.5, 35594. , 43372. , 51203. ,\n",
       "        48524. , 61183. , 36485.5, 41430.5, 53823. , 41840.5, 49291.5,\n",
       "        45486. , 57984.5, 49989. , 50130. , 63105.5, 54709.5, 62330. ,\n",
       "        42978.5, 59694.5, 56960.5, 33992. , 53683. , 70987. , 31914. ,\n",
       "        47056. , 48724.5, 49039.5, 56789. , 31494.5, 49241. , 47608. ,\n",
       "        49577.5, 63968.5, 40272. , 47522. , 48251. , 54711.5, 46591.5,\n",
       "        47639.5, 66842.5, 36173. , 52002. , 54093.5, 49518.5, 47526.5,\n",
       "        57204.5, 44957. , 51269. , 54968.5, 31788.5, 53336.5, 47877. ,\n",
       "        60733.5, 43397. , 39222. , 49146. , 60775. , 53228. , 54186. ,\n",
       "        59587. , 62049. , 39466. , 47151.5, 40362. , 43077.5, 66944. ,\n",
       "        36106. , 65557.5, 66577. , 63500.5, 60516. , 54090. , 52384. ,\n",
       "        49938. , 39237. , 59634. , 54430.5, 69632.5, 47934. , 59131.5,\n",
       "        68838. , 50992.5, 54287. , 56334.5, 46233.5, 71894. , 56966. ,\n",
       "        51566. , 39177. , 44330. , 38804. , 50791.5, 52958.5, 52507.5,\n",
       "        60367. , 60477.5, 53046.5, 45288.5, 56159. , 46169.5, 46107. ,\n",
       "        55083. , 38551.5, 66201. , 38650. , 48591. , 51703. , 59927. ,\n",
       "        59432. , 58922. , 41391. , 41119.5, 55333. , 51763. ]),\n",
       " 87050.5)"
      ]
     },
     "execution_count": 73,
     "metadata": {},
     "output_type": "execute_result"
    }
   ],
   "source": [
    "np.sum(sums < np.sum(rl_rank)), sums, np.sum(rl_rank)"
   ]
  },
  {
   "cell_type": "code",
   "execution_count": 74,
   "id": "sporting-reading",
   "metadata": {},
   "outputs": [
    {
     "data": {
      "text/plain": [
       "80394.0"
      ]
     },
     "execution_count": 74,
     "metadata": {},
     "output_type": "execute_result"
    }
   ],
   "source": [
    "np.max(sums)"
   ]
  },
  {
   "cell_type": "code",
   "execution_count": 75,
   "id": "equivalent-printing",
   "metadata": {},
   "outputs": [
    {
     "data": {
      "text/plain": [
       "0.0"
      ]
     },
     "execution_count": 75,
     "metadata": {},
     "output_type": "execute_result"
    }
   ],
   "source": [
    "# pvalue:\n",
    "1-np.sum(sums < np.sum(rl_rank))/len(sums)"
   ]
  },
  {
   "cell_type": "code",
   "execution_count": 76,
   "id": "5a9c403d",
   "metadata": {},
   "outputs": [
    {
     "data": {
      "text/plain": [
       "0.0002652575928272505"
      ]
     },
     "execution_count": 76,
     "metadata": {},
     "output_type": "execute_result"
    }
   ],
   "source": [
    "rl_sum = np.sum(rl_rank)\n",
    "zscore = (rl_sum - np.mean(sums)) / np.std(sums)\n",
    "\n",
    "1-stats.norm.cdf(zscore)"
   ]
  },
  {
   "cell_type": "code",
   "execution_count": 77,
   "id": "north-history",
   "metadata": {},
   "outputs": [
    {
     "data": {
      "text/plain": [
       "[45, 26, 9, 26, 20, 12]"
      ]
     },
     "execution_count": 77,
     "metadata": {},
     "output_type": "execute_result"
    }
   ],
   "source": [
    "triads_len"
   ]
  }
 ],
 "metadata": {
  "kernelspec": {
   "display_name": "Python 3 (ipykernel)",
   "language": "python",
   "name": "python3"
  },
  "language_info": {
   "codemirror_mode": {
    "name": "ipython",
    "version": 3
   },
   "file_extension": ".py",
   "mimetype": "text/x-python",
   "name": "python",
   "nbconvert_exporter": "python",
   "pygments_lexer": "ipython3",
   "version": "3.8.5"
  }
 },
 "nbformat": 4,
 "nbformat_minor": 5
}

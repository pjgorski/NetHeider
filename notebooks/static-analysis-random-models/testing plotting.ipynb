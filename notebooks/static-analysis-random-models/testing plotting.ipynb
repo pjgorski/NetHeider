{
 "cells": [
  {
   "cell_type": "code",
   "execution_count": 8,
   "id": "maritime-significance",
   "metadata": {},
   "outputs": [
    {
     "name": "stdout",
     "output_type": "stream",
     "text": [
      "The autoreload extension is already loaded. To reload it, use:\n",
      "  %reload_ext autoreload\n",
      "The autoreload extension is already loaded. To reload it, use:\n",
      "  %reload_ext autoreload\n"
     ]
    }
   ],
   "source": [
    "# author: J. Linczuk\n",
    "\n",
    "import matplotlib.pyplot as plt\n",
    "import pandas as pd\n",
    "import numpy as np\n",
    "import collections\n",
    "import networkx as nx\n",
    "import scipy.stats as stats\n",
    "import seaborn as sns\n",
    "import random\n",
    "\n",
    "import autoreload\n",
    "%load_ext autoreload\n",
    "%autoreload 1\n",
    "\n",
    "%load_ext autoreload\n",
    "%autoreload 1\n",
    "\n",
    "nowanazwa=\"v2\""
   ]
  },
  {
   "cell_type": "code",
   "execution_count": 2,
   "id": "frozen-grass",
   "metadata": {},
   "outputs": [],
   "source": [
    "\n",
    "def plot_only_mean_without_1(name, coto,df_real, df_expected,xlim=(0,1)):\n",
    "    df_tmp = pd.DataFrame(columns=['op/threshold','divided_expected','de_std','divided_real', 'dr_std',\n",
    "                                   'div_r-div_e','dr-de_std'])\n",
    "    df_tmp = df_tmp.fillna(0)\n",
    "    \n",
    "    \n",
    "    iteruj_po=[str(x/8)+'_' for x in range(0,8)]\n",
    "        \n",
    "    for optres in iteruj_po:\n",
    "        real=   df_real.loc[(df_real['op/threshold'] == optres) & \n",
    "                        (df_real['sems'] !='all')]['divided_real'].mean()\n",
    "        std_real=   df_real.loc[(df_real['op/threshold'] == optres) & \n",
    "                        (df_real['sems'] !='all')]['divided_real'].std() /6**0.5\n",
    "        \n",
    "        expected = df_expected.loc[(df_expected['op/threshold'] == optres) & \n",
    "                        (df_expected['sems'] !='all')]['divided_expected'].mean() \n",
    "        std_expected = df_expected.loc[(df_expected['op/threshold'] == optres) & \n",
    "                        (df_expected['sems'] !='all')]['divided_expected'].std() /6**0.5\n",
    "        std_real_minus_expected=(std_real**2+std_expected**2)**0.5/6**0.5\n",
    "        \n",
    "        df_tmp = df_tmp.append({'op/threshold':optres,'divided_expected':expected,'divided_real':real,\n",
    "                               'div_r-div_e':real-expected,'de_std':std_expected,'dr_std':std_real,'dr-de_std':std_real_minus_expected}, \n",
    "                               ignore_index = True)\n",
    "    \n",
    "    #sns.set()\n",
    "    #sns.set_style(\"white\")\n",
    "    #fig,ax = plt.figure(figsize=(6,4))\n",
    "    fig, ax = plt.subplots()\n",
    "\n",
    "    \n",
    "    groups = df_tmp.groupby('op/threshold')\n",
    "    markers=[\"^\",\"o\",\"s\",\"X\",\"P\" ,\"*\",\"D\", \"v\"]\n",
    "\n",
    "    for name_of_group, group in groups:\n",
    "        ax.plot(x=group['divided_real'], y=group['div_r-div_e'], color='blue', marker='o', linestyle='', markersize=40, label=name_of_group)\n",
    "        plt.errorbar(x=group['divided_real'], y=group['div_r-div_e'],yerr=group['dr-de_std'],  color='blue', marker='o', markersize=10, label=name_of_group)\n",
    "        ax.annotate(name_of_group[:-1],xy=(group['divided_real'],group['div_r-div_e']))\n",
    "        #, xytext=(-40,-10), textcoords='offset points')\n",
    "    \n",
    "    #plt.rcParams.update({'font.size': 40})\n",
    "    plt.plot(xlim,(0,0), color='black')\n",
    "    plt.legend(bbox_to_anchor=(1.15, 1), loc=2, borderaxespad=0.)\n",
    "    #plt.xlabel('fraction of balanced '+ coto +' in real data')\n",
    "    #plt.ylabel('fraction of balanced '+ coto +' in real data \\nminus fraction of expected balanced '+ coto)\n",
    "    plt.savefig(settings.figure_folder+name+\"error\"+nowanazwa+\".pdf\",dpi=600,bbox_inches='tight',format='pdf')\n",
    "    \n",
    "    return df_tmp\n",
    "    "
   ]
  },
  {
   "cell_type": "code",
   "execution_count": 11,
   "id": "intelligent-shanghai",
   "metadata": {},
   "outputs": [
    {
     "data": {
      "text/plain": [
       "['0.0_', '0.125_', '0.25_', '0.375_', '0.5_', '0.625_', '0.75_', '0.875_']"
      ]
     },
     "execution_count": 11,
     "metadata": {},
     "output_type": "execute_result"
    }
   ],
   "source": [
    "df_tmp = pd.DataFrame(columns=['op/threshold','divided_expected','de_std','divided_real', 'dr_std',\n",
    "                                   'div_r-div_e','dr-de_std'])\n",
    "df_tmp = df_tmp.fillna(0)\n",
    "\n",
    "iteruj_po=[str(x/8)+'_' for x in range(0,8)]\n",
    "\n",
    "iteruj_po"
   ]
  }
 ],
 "metadata": {
  "kernelspec": {
   "display_name": "Python 3",
   "language": "python",
   "name": "python3"
  },
  "language_info": {
   "codemirror_mode": {
    "name": "ipython",
    "version": 3
   },
   "file_extension": ".py",
   "mimetype": "text/x-python",
   "name": "python",
   "nbconvert_exporter": "python",
   "pygments_lexer": "ipython3",
   "version": "3.8.5"
  }
 },
 "nbformat": 4,
 "nbformat_minor": 5
}

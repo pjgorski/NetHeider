{
 "cells": [
  {
   "cell_type": "code",
   "execution_count": 1,
   "id": "southeast-accused",
   "metadata": {},
   "outputs": [],
   "source": [
    "import pickle\n",
    "import networkx as nx\n",
    "import numpy as np\n",
    "import pandas as pd\n",
    "\n",
    "from scipy import stats\n",
    "\n",
    "import matplotlib.pyplot as plt\n",
    "\n",
    "from datetime import datetime\n",
    "\n",
    "import statsmodels.api as sm\n",
    "import pylab as py"
   ]
  },
  {
   "cell_type": "code",
   "execution_count": 2,
   "id": "realistic-syntax",
   "metadata": {},
   "outputs": [
    {
     "name": "stdout",
     "output_type": "stream",
     "text": [
      "Showing the pickled data:\n",
      "The data  0  is :  1\n",
      "The data  1  is :  2\n",
      "The data  2  is :  3\n",
      "The data  3  is :  4\n",
      "The data  4  is :  5\n",
      "The data  5  is :  6\n"
     ]
    }
   ],
   "source": [
    "file = open('NetSense_network.pkl', 'rb')\n",
    "# dump information to that file\n",
    "data = pickle.load(file)\n",
    "\n",
    "# close the file\n",
    "file.close()\n",
    "\n",
    "print('Showing the pickled data:')\n",
    "\n",
    "cnt = 0\n",
    "for item in data:\n",
    "    print('The data ', cnt, ' is : ', item)\n",
    "    cnt += 1"
   ]
  },
  {
   "cell_type": "code",
   "execution_count": 3,
   "id": "social-collection",
   "metadata": {},
   "outputs": [
    {
     "data": {
      "text/plain": [
       "1"
      ]
     },
     "execution_count": 3,
     "metadata": {},
     "output_type": "execute_result"
    }
   ],
   "source": [
    "data[6].nodes[75261]['hometown_1']"
   ]
  },
  {
   "cell_type": "code",
   "execution_count": 4,
   "id": "civil-fields",
   "metadata": {},
   "outputs": [
    {
     "data": {
      "image/png": "[encoded data removed]",
      "text/plain": [
       "<Figure size 432x288 with 1 Axes>"
      ]
     },
     "metadata": {},
     "output_type": "display_data"
    }
   ],
   "source": [
    "nx.draw(data[6])"
   ]
  },
  {
   "cell_type": "code",
   "execution_count": 5,
   "id": "sharing-england",
   "metadata": {},
   "outputs": [
    {
     "data": {
      "text/plain": [
       "NodeDataView({75178: {'age_1': 1, 'hometown_1': 1, 'ethnicity_1': 2, 'gender_1': 2, 'premaritalsex_': 3, 'euthanasia_': 3, 'deathpen_': 3, 'gaymarriage_': 3, 'marijuana_': 2, 'political_': 1, 'abortion_': 3, 'homosexual_': 3}, 30952: {'age_1': 1, 'hometown_1': 1, 'ethnicity_1': 2, 'gender_1': 2, 'premaritalsex_': 2, 'euthanasia_': 2, 'deathpen_': 2, 'gaymarriage_': 1, 'marijuana_': 3, 'political_': 1, 'abortion_': 2, 'homosexual_': 2}, 13116: {'age_1': 1, 'hometown_1': 1, 'ethnicity_1': 2, 'gender_1': 1, 'premaritalsex_': 3, 'euthanasia_': 3, 'deathpen_': 3, 'gaymarriage_': 3, 'marijuana_': 3, 'political_': 3, 'abortion_': 3, 'homosexual_': 1}, 62555: {'age_1': 2, 'hometown_1': 1, 'ethnicity_1': 2, 'gender_1': 1, 'premaritalsex_': 3, 'euthanasia_': 1, 'deathpen_': 1, 'gaymarriage_': 3, 'marijuana_': 2, 'political_': 3, 'abortion_': 3, 'homosexual_': 3}, 26999: {'age_1': 2, 'hometown_1': 1, 'ethnicity_1': 2, 'gender_1': 1, 'premaritalsex_': 3, 'euthanasia_': 1, 'deathpen_': 2, 'gaymarriage_': 2, 'marijuana_': 1, 'political_': 2, 'abortion_': 3, 'homosexual_': 3}, 10841: {'age_1': 1, 'hometown_1': 1, 'ethnicity_1': 4, 'gender_1': 2, 'premaritalsex_': 1, 'euthanasia_': 3, 'deathpen_': 1, 'gaymarriage_': 1, 'marijuana_': 1, 'political_': 2, 'abortion_': 1, 'homosexual_': 1}, 17353: {'age_1': 1, 'hometown_1': 1, 'ethnicity_1': 1, 'gender_1': 2, 'premaritalsex_': 1, 'euthanasia_': 1, 'deathpen_': 2, 'gaymarriage_': 2, 'marijuana_': 1, 'political_': 1, 'abortion_': 1, 'homosexual_': 2}, 86352: {'age_1': 2, 'hometown_1': 1, 'ethnicity_1': 3, 'gender_1': 1, 'premaritalsex_': 1, 'euthanasia_': 2, 'deathpen_': 2, 'gaymarriage_': 2, 'marijuana_': 3, 'political_': 2, 'abortion_': 2, 'homosexual_': 1}, 53275: {'age_1': 1, 'hometown_1': 1, 'ethnicity_1': 4, 'gender_1': 1, 'premaritalsex_': 3, 'euthanasia_': 3, 'deathpen_': 1, 'gaymarriage_': 3, 'marijuana_': 2, 'political_': 2, 'abortion_': 3, 'homosexual_': 3}, 77291: {'age_1': 1, 'hometown_1': 1, 'ethnicity_1': 1, 'gender_1': 2, 'premaritalsex_': 3, 'euthanasia_': 1, 'deathpen_': 1, 'gaymarriage_': 3, 'marijuana_': 3, 'political_': 3, 'abortion_': 1, 'homosexual_': 3}, 18394: {'age_1': 1, 'hometown_1': 2, 'ethnicity_1': 1, 'gender_1': 2, 'premaritalsex_': 1, 'euthanasia_': 3, 'deathpen_': 1, 'gaymarriage_': 1, 'marijuana_': 2, 'political_': 2, 'abortion_': 1, 'homosexual_': 1}, 36006: {'age_1': 1, 'hometown_1': 2, 'ethnicity_1': 1, 'gender_1': 1, 'premaritalsex_': 1, 'euthanasia_': 1, 'deathpen_': 1, 'gaymarriage_': 2, 'marijuana_': 1, 'political_': 1, 'abortion_': 1, 'homosexual_': 1}, 57637: {'age_1': 2, 'hometown_1': 1, 'ethnicity_1': 1, 'gender_1': 1, 'premaritalsex_': 3, 'euthanasia_': 2, 'deathpen_': 1, 'gaymarriage_': 3, 'marijuana_': 3, 'political_': 1, 'abortion_': 1, 'homosexual_': 3}, 71627: {'age_1': 2, 'hometown_1': 2, 'ethnicity_1': 1, 'gender_1': 2, 'premaritalsex_': 1, 'euthanasia_': 1, 'deathpen_': 1, 'gaymarriage_': 1, 'marijuana_': 3, 'political_': 1, 'abortion_': 1, 'homosexual_': 2}, 75261: {'age_1': 1, 'hometown_1': 1, 'ethnicity_1': 3, 'gender_1': 2, 'premaritalsex_': 3, 'euthanasia_': 3, 'deathpen_': 3, 'gaymarriage_': 3, 'marijuana_': 3, 'political_': 3, 'abortion_': 1, 'homosexual_': 3}, 19844: {'age_1': 2, 'hometown_1': 1, 'ethnicity_1': 1, 'gender_1': 1, 'premaritalsex_': 2, 'euthanasia_': 3, 'deathpen_': 1, 'gaymarriage_': 1, 'marijuana_': 2, 'political_': 1, 'abortion_': 1, 'homosexual_': 2}, 25323: {'age_1': 1, 'hometown_1': 1, 'ethnicity_1': 1, 'gender_1': 2, 'premaritalsex_': 3, 'euthanasia_': 2, 'deathpen_': 2, 'gaymarriage_': 1, 'marijuana_': 2, 'political_': 1, 'abortion_': 1, 'homosexual_': 1}, 40997: {'age_1': 1, 'hometown_1': 1, 'ethnicity_1': 4, 'gender_1': 1, 'premaritalsex_': 1, 'euthanasia_': 3, 'deathpen_': 3, 'gaymarriage_': 1, 'marijuana_': 3, 'political_': 1, 'abortion_': 1, 'homosexual_': 1}, 52635: {'age_1': 2, 'hometown_1': 1, 'ethnicity_1': 4, 'gender_1': 1, 'premaritalsex_': 2, 'euthanasia_': 3, 'deathpen_': 2, 'gaymarriage_': 3, 'marijuana_': 3, 'political_': 3, 'abortion_': 3, 'homosexual_': 3}, 45945: {'age_1': 1, 'hometown_1': 1, 'ethnicity_1': 1, 'gender_1': 1, 'premaritalsex_': 3, 'euthanasia_': 3, 'deathpen_': 1, 'gaymarriage_': 3, 'marijuana_': 3, 'political_': 1, 'abortion_': 1, 'homosexual_': 1}, 72746: {'age_1': 1, 'hometown_1': 3, 'ethnicity_1': 1, 'gender_1': 1, 'premaritalsex_': 3, 'euthanasia_': 3, 'deathpen_': 3, 'gaymarriage_': 3, 'marijuana_': 3, 'political_': 1, 'abortion_': 3, 'homosexual_': 3}, 15071: {'age_1': 2, 'hometown_1': 2, 'ethnicity_1': 1, 'gender_1': 1, 'premaritalsex_': 3, 'euthanasia_': 3, 'deathpen_': 1, 'gaymarriage_': 3, 'marijuana_': 3, 'political_': 3, 'abortion_': 3, 'homosexual_': 3}, 46771: {'age_1': 1, 'hometown_1': 1, 'ethnicity_1': 1, 'gender_1': 1, 'premaritalsex_': 3, 'euthanasia_': 3, 'deathpen_': 1, 'gaymarriage_': 3, 'marijuana_': 3, 'political_': 1, 'abortion_': 1, 'homosexual_': 3}, 29914: {'age_1': 1, 'hometown_1': 2, 'ethnicity_1': 1, 'gender_1': 1, 'premaritalsex_': 3, 'euthanasia_': 3, 'deathpen_': 1, 'gaymarriage_': 3, 'marijuana_': 3, 'political_': 3, 'abortion_': 3, 'homosexual_': 3}, 52067: {'age_1': 1, 'hometown_1': 3, 'ethnicity_1': 1, 'gender_1': 1, 'premaritalsex_': 3, 'euthanasia_': 2, 'deathpen_': 3, 'gaymarriage_': 3, 'marijuana_': 3, 'political_': 2, 'abortion_': 2, 'homosexual_': 3}, 37617: {'age_1': 1, 'hometown_1': 1, 'ethnicity_1': 1, 'gender_1': 2, 'premaritalsex_': 1, 'euthanasia_': 1, 'deathpen_': 1, 'gaymarriage_': 1, 'marijuana_': 2, 'political_': 1, 'abortion_': 1, 'homosexual_': 1}, 30076: {'age_1': 1, 'hometown_1': 2, 'ethnicity_1': 1, 'gender_1': 1, 'premaritalsex_': 1, 'euthanasia_': 3, 'deathpen_': 1, 'gaymarriage_': 2, 'marijuana_': 1, 'political_': 2, 'abortion_': 1, 'homosexual_': 1}, 71700: {'age_1': 2, 'hometown_1': 1, 'ethnicity_1': 3, 'gender_1': 2, 'premaritalsex_': 1, 'euthanasia_': 1, 'deathpen_': 2, 'gaymarriage_': 1, 'marijuana_': 2, 'political_': 1, 'abortion_': 1, 'homosexual_': 1}, 19066: {'age_1': 1, 'hometown_1': 1, 'ethnicity_1': 1, 'gender_1': 2, 'premaritalsex_': 2, 'euthanasia_': 1, 'deathpen_': 2, 'gaymarriage_': 3, 'marijuana_': 1, 'political_': 1, 'abortion_': 1, 'homosexual_': 1}, 51675: {'age_1': 1, 'hometown_1': 1, 'ethnicity_1': 1, 'gender_1': 2, 'premaritalsex_': 1, 'euthanasia_': 1, 'deathpen_': 1, 'gaymarriage_': 1, 'marijuana_': 2, 'political_': 2, 'abortion_': 1, 'homosexual_': 1}, 63188: {'age_1': 1, 'hometown_1': 1, 'ethnicity_1': 4, 'gender_1': 1, 'premaritalsex_': 1, 'euthanasia_': 1, 'deathpen_': 1, 'gaymarriage_': 1, 'marijuana_': 1, 'political_': 3, 'abortion_': 1, 'homosexual_': 1}, 79877: {'age_1': 1, 'hometown_1': 2, 'ethnicity_1': 4, 'gender_1': 1, 'premaritalsex_': 3, 'euthanasia_': 3, 'deathpen_': 1, 'gaymarriage_': 3, 'marijuana_': 3, 'political_': 3, 'abortion_': 3, 'homosexual_': 3}, 14106: {'age_1': 2, 'hometown_1': 3, 'ethnicity_1': 1, 'gender_1': 1, 'premaritalsex_': 3, 'euthanasia_': 3, 'deathpen_': 2, 'gaymarriage_': 3, 'marijuana_': 1, 'political_': 1, 'abortion_': 3, 'homosexual_': 3}, 76313: {'age_1': 2, 'hometown_1': 2, 'ethnicity_1': 1, 'gender_1': 1, 'premaritalsex_': 3, 'euthanasia_': 3, 'deathpen_': 2, 'gaymarriage_': 3, 'marijuana_': 3, 'political_': 3, 'abortion_': 1, 'homosexual_': 3}, 82282: {'age_1': 1, 'hometown_1': 1, 'ethnicity_1': 3, 'gender_1': 2, 'premaritalsex_': 1, 'euthanasia_': 3, 'deathpen_': 1, 'gaymarriage_': 3, 'marijuana_': 1, 'political_': 2, 'abortion_': 1, 'homosexual_': 3}, 85596: {'age_1': 1, 'hometown_1': 1, 'ethnicity_1': 1, 'gender_1': 2, 'premaritalsex_': 1, 'euthanasia_': 1, 'deathpen_': 1, 'gaymarriage_': 1, 'marijuana_': 1, 'political_': 1, 'abortion_': 1, 'homosexual_': 1}, 10060: {'age_1': 1, 'hometown_1': 2, 'ethnicity_1': 1, 'gender_1': 2, 'premaritalsex_': 1, 'euthanasia_': 3, 'deathpen_': 1, 'gaymarriage_': 3, 'marijuana_': 1, 'political_': 1, 'abortion_': 3, 'homosexual_': 3}, 75468: {'age_1': 1, 'hometown_1': 1, 'ethnicity_1': 1, 'gender_1': 1, 'premaritalsex_': 3, 'euthanasia_': 3, 'deathpen_': 1, 'gaymarriage_': 2, 'marijuana_': 3, 'political_': 2, 'abortion_': 3, 'homosexual_': 3}, 46021: {'age_1': 2, 'hometown_1': 1, 'ethnicity_1': 1, 'gender_1': 1, 'premaritalsex_': 3, 'euthanasia_': 3, 'deathpen_': 3, 'gaymarriage_': 3, 'marijuana_': 3, 'political_': 2, 'abortion_': 3, 'homosexual_': 3}, 23642: {'age_1': 1, 'hometown_1': 1, 'ethnicity_1': 1, 'gender_1': 2, 'premaritalsex_': 1, 'euthanasia_': 1, 'deathpen_': 3, 'gaymarriage_': 1, 'marijuana_': 1, 'political_': 1, 'abortion_': 1, 'homosexual_': 1}, 50869: {'age_1': 1, 'hometown_1': 2, 'ethnicity_1': 1, 'gender_1': 1, 'premaritalsex_': 1, 'euthanasia_': 3, 'deathpen_': 1, 'gaymarriage_': 1, 'marijuana_': 1, 'political_': 1, 'abortion_': 1, 'homosexual_': 1}, 68633: {'age_1': 1, 'hometown_1': 1, 'ethnicity_1': 4, 'gender_1': 2, 'premaritalsex_': 3, 'euthanasia_': 2, 'deathpen_': 1, 'gaymarriage_': 2, 'marijuana_': 1, 'political_': 2, 'abortion_': 1, 'homosexual_': 1}, 18420: {'age_1': 1, 'hometown_1': 1, 'ethnicity_1': 2, 'gender_1': 1, 'premaritalsex_': 2, 'euthanasia_': 1, 'deathpen_': 1, 'gaymarriage_': 3, 'marijuana_': 1, 'political_': 3, 'abortion_': 3, 'homosexual_': 3}, 68494: {'age_1': 1, 'hometown_1': 1, 'ethnicity_1': 4, 'gender_1': 2, 'premaritalsex_': 1, 'euthanasia_': 1, 'deathpen_': 1, 'gaymarriage_': 1, 'marijuana_': 1, 'political_': 1, 'abortion_': 1, 'homosexual_': 1}, 39783: {'age_1': 1, 'hometown_1': 2, 'ethnicity_1': 3, 'gender_1': 2, 'premaritalsex_': 1, 'euthanasia_': 2, 'deathpen_': 3, 'gaymarriage_': 1, 'marijuana_': 1, 'political_': 1, 'abortion_': 1, 'homosexual_': 1}, 21350: {'age_1': 1, 'hometown_1': 1, 'ethnicity_1': 1, 'gender_1': 2, 'premaritalsex_': 3, 'euthanasia_': 3, 'deathpen_': 2, 'gaymarriage_': 3, 'marijuana_': 3, 'political_': 3, 'abortion_': 3, 'homosexual_': 3}, 66404: {'age_1': 2, 'hometown_1': 2, 'ethnicity_1': 1, 'gender_1': 1, 'premaritalsex_': 3, 'euthanasia_': 3, 'deathpen_': 1, 'gaymarriage_': 1, 'marijuana_': 1, 'political_': 1, 'abortion_': 1, 'homosexual_': 1}, 85970: {'age_1': 1, 'hometown_1': 2, 'ethnicity_1': 1, 'gender_1': 2, 'premaritalsex_': 3, 'euthanasia_': 3, 'deathpen_': 1, 'gaymarriage_': 3, 'marijuana_': 1, 'political_': 1, 'abortion_': 1, 'homosexual_': 3}, 59367: {'age_1': 2, 'hometown_1': 2, 'ethnicity_1': 1, 'gender_1': 2, 'premaritalsex_': 3, 'euthanasia_': 3, 'deathpen_': 2, 'gaymarriage_': 3, 'marijuana_': 1, 'political_': 3, 'abortion_': 3, 'homosexual_': 3}, 13799: {'age_1': 2, 'hometown_1': 1, 'ethnicity_1': 1, 'gender_1': 2, 'premaritalsex_': 1, 'euthanasia_': 1, 'deathpen_': 1, 'gaymarriage_': 1, 'marijuana_': 1, 'political_': 1, 'abortion_': 1, 'homosexual_': 1}, 62560: {'age_1': 1, 'hometown_1': 1, 'ethnicity_1': 1, 'gender_1': 2, 'premaritalsex_': 3, 'euthanasia_': 3, 'deathpen_': 1, 'gaymarriage_': 3, 'marijuana_': 1, 'political_': 1, 'abortion_': 2, 'homosexual_': 3}, 16495: {'age_1': 2, 'hometown_1': 1, 'ethnicity_1': 1, 'gender_1': 2, 'premaritalsex_': 3, 'euthanasia_': 2, 'deathpen_': 2, 'gaymarriage_': 3, 'marijuana_': 3, 'political_': 3, 'abortion_': 3, 'homosexual_': 3}, 34853: {'age_1': 2, 'hometown_1': 1, 'ethnicity_1': 1, 'gender_1': 1, 'premaritalsex_': 3, 'euthanasia_': 3, 'deathpen_': 3, 'gaymarriage_': 3, 'marijuana_': 1, 'political_': 1, 'abortion_': 3, 'homosexual_': 3}, 67947: {'age_1': 2, 'hometown_1': 1, 'ethnicity_1': 2, 'gender_1': 1, 'premaritalsex_': 1, 'euthanasia_': 1, 'deathpen_': 1, 'gaymarriage_': 3, 'marijuana_': 1, 'political_': 1, 'abortion_': 1, 'homosexual_': 1}, 50709: {'age_1': 1, 'hometown_1': 1, 'ethnicity_1': 1, 'gender_1': 2, 'premaritalsex_': 3, 'euthanasia_': 2, 'deathpen_': 2, 'gaymarriage_': 3, 'marijuana_': 1, 'political_': 3, 'abortion_': 3, 'homosexual_': 3}, 70889: {'age_1': 1, 'hometown_1': 1, 'ethnicity_1': 1, 'gender_1': 2, 'premaritalsex_': 3, 'euthanasia_': 1, 'deathpen_': 3, 'gaymarriage_': 3, 'marijuana_': 1, 'political_': 3, 'abortion_': 3, 'homosexual_': 3}, 86727: {'age_1': 1, 'hometown_1': 1, 'ethnicity_1': 1, 'gender_1': 1, 'premaritalsex_': 1, 'euthanasia_': 2, 'deathpen_': 1, 'gaymarriage_': 1, 'marijuana_': 1, 'political_': 1, 'abortion_': 1, 'homosexual_': 1}, 45539: {'age_1': 2, 'hometown_1': 3, 'ethnicity_1': 1, 'gender_1': 1, 'premaritalsex_': 1, 'euthanasia_': 2, 'deathpen_': 1, 'gaymarriage_': 1, 'marijuana_': 1, 'political_': 1, 'abortion_': 1, 'homosexual_': 1}, 14188: {'age_1': 1, 'hometown_1': 3, 'ethnicity_1': 1, 'gender_1': 2, 'premaritalsex_': 3, 'euthanasia_': 3, 'deathpen_': 2, 'gaymarriage_': 3, 'marijuana_': 1, 'political_': 3, 'abortion_': 3, 'homosexual_': 3}, 89827: {'age_1': 2, 'hometown_1': 1, 'ethnicity_1': 1, 'gender_1': 1, 'premaritalsex_': 3, 'euthanasia_': 3, 'deathpen_': 2, 'gaymarriage_': 3, 'marijuana_': 2, 'political_': 3, 'abortion_': 3, 'homosexual_': 3}, 11692: {'age_1': 1, 'hometown_1': 1, 'ethnicity_1': 1, 'gender_1': 1, 'premaritalsex_': 3, 'euthanasia_': 3, 'deathpen_': 1, 'gaymarriage_': 1, 'marijuana_': 3, 'political_': 3, 'abortion_': 1, 'homosexual_': 1}, 82060: {'age_1': 2, 'hometown_1': 1, 'ethnicity_1': 4, 'gender_1': 1, 'premaritalsex_': 1, 'euthanasia_': 1, 'deathpen_': 1, 'gaymarriage_': 2, 'marijuana_': 1, 'political_': 1, 'abortion_': 1, 'homosexual_': 1}, 66754: {'age_1': 2, 'hometown_1': 2, 'ethnicity_1': 1, 'gender_1': 1, 'premaritalsex_': 3, 'euthanasia_': 2, 'deathpen_': 1, 'gaymarriage_': 2, 'marijuana_': 3, 'political_': 2, 'abortion_': 3, 'homosexual_': 2}, 66245: {'age_1': 1, 'hometown_1': 2, 'ethnicity_1': 3, 'gender_1': 2, 'premaritalsex_': 3, 'euthanasia_': 1, 'deathpen_': 1, 'gaymarriage_': 3, 'marijuana_': 1, 'political_': 3, 'abortion_': 1, 'homosexual_': 3}, 46654: {'age_1': 1, 'hometown_1': 1, 'ethnicity_1': 3, 'gender_1': 2, 'premaritalsex_': 3, 'euthanasia_': 1, 'deathpen_': 1, 'gaymarriage_': 1, 'marijuana_': 1, 'political_': 3, 'abortion_': 1, 'homosexual_': 1}, 32174: {'age_1': 1, 'hometown_1': 1, 'ethnicity_1': 1, 'gender_1': 1, 'premaritalsex_': 3, 'euthanasia_': 2, 'deathpen_': 1, 'gaymarriage_': 3, 'marijuana_': 3, 'political_': 3, 'abortion_': 1, 'homosexual_': 3}, 58909: {'age_1': 1, 'hometown_1': 1, 'ethnicity_1': 1, 'gender_1': 2, 'premaritalsex_': 3, 'euthanasia_': 3, 'deathpen_': 1, 'gaymarriage_': 3, 'marijuana_': 2, 'political_': 2, 'abortion_': 1, 'homosexual_': 3}, 25947: {'age_1': 1, 'hometown_1': 2, 'ethnicity_1': 1, 'gender_1': 1, 'premaritalsex_': 3, 'euthanasia_': 2, 'deathpen_': 1, 'gaymarriage_': 3, 'marijuana_': 1, 'political_': 1, 'abortion_': 1, 'homosexual_': 3}, 34250: {'age_1': 1, 'hometown_1': 2, 'ethnicity_1': 1, 'gender_1': 1, 'premaritalsex_': 3, 'euthanasia_': 3, 'deathpen_': 2, 'gaymarriage_': 2, 'marijuana_': 1, 'political_': 1, 'abortion_': 1, 'homosexual_': 1}, 18344: {'age_1': 1, 'hometown_1': 2, 'ethnicity_1': 4, 'gender_1': 2, 'premaritalsex_': 3, 'euthanasia_': 2, 'deathpen_': 2, 'gaymarriage_': 2, 'marijuana_': 2, 'political_': 2, 'abortion_': 2, 'homosexual_': 2}, 38823: {'age_1': 2, 'hometown_1': 2, 'ethnicity_1': 1, 'gender_1': 1, 'premaritalsex_': 3, 'euthanasia_': 1, 'deathpen_': 3, 'gaymarriage_': 1, 'marijuana_': 1, 'political_': 1, 'abortion_': 1, 'homosexual_': 1}, 22745: {'age_1': 2, 'hometown_1': 1, 'ethnicity_1': 4, 'gender_1': 2, 'premaritalsex_': 3, 'euthanasia_': 3, 'deathpen_': 1, 'gaymarriage_': 3, 'marijuana_': 3, 'political_': 3, 'abortion_': 3, 'homosexual_': 3}, 26127: {'age_1': 1, 'hometown_1': 1, 'ethnicity_1': 3, 'gender_1': 2, 'premaritalsex_': 1, 'euthanasia_': 2, 'deathpen_': 1, 'gaymarriage_': 1, 'marijuana_': 2, 'political_': 1, 'abortion_': 1, 'homosexual_': 1}, 38893: {'age_1': 2, 'hometown_1': 2, 'ethnicity_1': 1, 'gender_1': 2, 'premaritalsex_': 3, 'euthanasia_': 2, 'deathpen_': 3, 'gaymarriage_': 2, 'marijuana_': 1, 'political_': 1, 'abortion_': 1, 'homosexual_': 3}, 31372: {'age_1': 1, 'hometown_1': 1, 'ethnicity_1': 1, 'gender_1': 1, 'premaritalsex_': 3, 'euthanasia_': 3, 'deathpen_': 3, 'gaymarriage_': 2, 'marijuana_': 1, 'political_': 1, 'abortion_': 3, 'homosexual_': 3}, 68533: {'age_1': 1, 'hometown_1': 1, 'ethnicity_1': 1, 'gender_1': 1, 'premaritalsex_': 3, 'euthanasia_': 3, 'deathpen_': 2, 'gaymarriage_': 1, 'marijuana_': 1, 'political_': 1, 'abortion_': 1, 'homosexual_': 1}, 31583: {'age_1': 1, 'hometown_1': 2, 'ethnicity_1': 1, 'gender_1': 2, 'premaritalsex_': 3, 'euthanasia_': 1, 'deathpen_': 1, 'gaymarriage_': 1, 'marijuana_': 1, 'political_': 1, 'abortion_': 1, 'homosexual_': 3}, 49597: {'age_1': 1, 'hometown_1': 1, 'ethnicity_1': 4, 'gender_1': 1, 'premaritalsex_': 3, 'euthanasia_': 3, 'deathpen_': 3, 'gaymarriage_': 3, 'marijuana_': 1, 'political_': 3, 'abortion_': 3, 'homosexual_': 3}, 73303: {'age_1': 1, 'hometown_1': 1, 'ethnicity_1': 1, 'gender_1': 1, 'premaritalsex_': 3, 'euthanasia_': 2, 'deathpen_': 2, 'gaymarriage_': 3, 'marijuana_': 3, 'political_': 2, 'abortion_': 2, 'homosexual_': 3}, 46160: {'age_1': 1, 'hometown_1': 1, 'ethnicity_1': 1, 'gender_1': 2, 'premaritalsex_': 1, 'euthanasia_': 1, 'deathpen_': 1, 'gaymarriage_': 3, 'marijuana_': 1, 'political_': 1, 'abortion_': 1, 'homosexual_': 1}, 25544: {'age_1': 1, 'hometown_1': 1, 'ethnicity_1': 2, 'gender_1': 2, 'premaritalsex_': 1, 'euthanasia_': 3, 'deathpen_': 2, 'gaymarriage_': 3, 'marijuana_': 1, 'political_': 1, 'abortion_': 1, 'homosexual_': 1}, 51597: {'age_1': 1, 'hometown_1': 2, 'ethnicity_1': 1, 'gender_1': 1, 'premaritalsex_': 1, 'euthanasia_': 3, 'deathpen_': 2, 'gaymarriage_': 1, 'marijuana_': 1, 'political_': 1, 'abortion_': 1, 'homosexual_': 1}, 49294: {'age_1': 1, 'hometown_1': 2, 'ethnicity_1': 1, 'gender_1': 1, 'premaritalsex_': 1, 'euthanasia_': 2, 'deathpen_': 1, 'gaymarriage_': 1, 'marijuana_': 1, 'political_': 1, 'abortion_': 1, 'homosexual_': 1}, 51722: {'age_1': 1, 'hometown_1': 1, 'ethnicity_1': 1, 'gender_1': 2, 'premaritalsex_': 2, 'euthanasia_': 2, 'deathpen_': 2, 'gaymarriage_': 3, 'marijuana_': 2, 'political_': 2, 'abortion_': 1, 'homosexual_': 3}, 66052: {'age_1': 1, 'hometown_1': 1, 'ethnicity_1': 2, 'gender_1': 2, 'premaritalsex_': 3, 'euthanasia_': 3, 'deathpen_': 3, 'gaymarriage_': 2, 'marijuana_': 2, 'political_': 3, 'abortion_': 3, 'homosexual_': 3}, 53884: {'age_1': 1, 'hometown_1': 2, 'ethnicity_1': 1, 'gender_1': 1, 'premaritalsex_': 1, 'euthanasia_': 1, 'deathpen_': 1, 'gaymarriage_': 1, 'marijuana_': 1, 'political_': 1, 'abortion_': 1, 'homosexual_': 1}, 51552: {'age_1': 1, 'hometown_1': 1, 'ethnicity_1': 1, 'gender_1': 1, 'premaritalsex_': 3, 'euthanasia_': 3, 'deathpen_': 1, 'gaymarriage_': 1, 'marijuana_': 1, 'political_': 1, 'abortion_': 3, 'homosexual_': 3}, 80058: {'age_1': 1, 'hometown_1': 2, 'ethnicity_1': 1, 'gender_1': 1, 'premaritalsex_': 3, 'euthanasia_': 3, 'deathpen_': 1, 'gaymarriage_': 3, 'marijuana_': 2, 'political_': 3, 'abortion_': 1, 'homosexual_': 3}, 10281: {'age_1': 1, 'hometown_1': 1, 'ethnicity_1': 4, 'gender_1': 1, 'premaritalsex_': 3, 'euthanasia_': 1, 'deathpen_': 3, 'gaymarriage_': 1, 'marijuana_': 1, 'political_': 1, 'abortion_': 1, 'homosexual_': 1}, 45292: {'age_1': 1, 'hometown_1': 1, 'ethnicity_1': 1, 'gender_1': 2, 'premaritalsex_': 3, 'euthanasia_': 1, 'deathpen_': 2, 'gaymarriage_': 3, 'marijuana_': 3, 'political_': 3, 'abortion_': 3, 'homosexual_': 3}, 32899: {'age_1': 2, 'hometown_1': 1, 'ethnicity_1': 2, 'gender_1': 1, 'premaritalsex_': 1, 'euthanasia_': 1, 'deathpen_': 1, 'gaymarriage_': 2, 'marijuana_': 1, 'political_': 2, 'abortion_': 1, 'homosexual_': 2}, 26425: {'age_1': 1, 'hometown_1': 1, 'ethnicity_1': 1, 'gender_1': 1, 'premaritalsex_': 1, 'euthanasia_': 1, 'deathpen_': 1, 'gaymarriage_': 1, 'marijuana_': 2, 'political_': 1, 'abortion_': 1, 'homosexual_': 1}, 78911: {'age_1': 1, 'hometown_1': 2, 'ethnicity_1': 1, 'gender_1': 2, 'premaritalsex_': 3, 'euthanasia_': 3, 'deathpen_': 3, 'gaymarriage_': 3, 'marijuana_': 2, 'political_': 1, 'abortion_': 1, 'homosexual_': 3}, 23144: {'age_1': 1, 'hometown_1': 2, 'ethnicity_1': 1, 'gender_1': 1, 'premaritalsex_': 3, 'euthanasia_': 3, 'deathpen_': 3, 'gaymarriage_': 1, 'marijuana_': 1, 'political_': 1, 'abortion_': 1, 'homosexual_': 1}, 44520: {'age_1': 1, 'hometown_1': 1, 'ethnicity_1': 2, 'gender_1': 2, 'premaritalsex_': 3, 'euthanasia_': 3, 'deathpen_': 3, 'gaymarriage_': 1, 'marijuana_': 3, 'political_': 3, 'abortion_': 3, 'homosexual_': 3}, 50181: {'age_1': 2, 'hometown_1': 1, 'ethnicity_1': 4, 'gender_1': 1, 'premaritalsex_': 3, 'euthanasia_': 2, 'deathpen_': 2, 'gaymarriage_': 1, 'marijuana_': 1, 'political_': 2, 'abortion_': 1, 'homosexual_': 1}, 88175: {'age_1': 2, 'hometown_1': 3, 'ethnicity_1': 1, 'gender_1': 2, 'premaritalsex_': 1, 'euthanasia_': 2, 'deathpen_': 1, 'gaymarriage_': 2, 'marijuana_': 1, 'political_': 1, 'abortion_': 1, 'homosexual_': 1}, 63063: {'age_1': 2, 'hometown_1': 1, 'ethnicity_1': 1, 'gender_1': 1, 'premaritalsex_': 3, 'euthanasia_': 3, 'deathpen_': 1, 'gaymarriage_': 3, 'marijuana_': 3, 'political_': 2, 'abortion_': 3, 'homosexual_': 3}})"
      ]
     },
     "execution_count": 5,
     "metadata": {},
     "output_type": "execute_result"
    }
   ],
   "source": [
    "data[1].nodes.data()"
   ]
  },
  {
   "cell_type": "code",
   "execution_count": 6,
   "id": "existing-keyboard",
   "metadata": {},
   "outputs": [
    {
     "data": {
      "text/plain": [
       "{'abortion_': {1, 2, 3},\n",
       " 'age_1': {1, 2},\n",
       " 'hometown_1': {1, 2, 3},\n",
       " 'premaritalsex_': {1, 2, 3},\n",
       " 'gender_1': {1, 2},\n",
       " 'political_': {1, 2, 3},\n",
       " 'euthanasia_': {1, 2, 3},\n",
       " 'marijuana_': {1, 2, 3},\n",
       " 'deathpen_': {1, 2, 3},\n",
       " 'homosexual_': {1, 2, 3},\n",
       " 'ethnicity_1': {1, 2, 3, 4},\n",
       " 'gaymarriage_': {1, 2, 3}}"
      ]
     },
     "execution_count": 6,
     "metadata": {},
     "output_type": "execute_result"
    }
   ],
   "source": [
    "#creating list of attributes\n",
    "list_of_attributes = set([k for n in data[1].nodes for k in data[1].nodes[n].keys()])\n",
    "\n",
    "#creating possible attribute values\n",
    "attribute_values = dict((attribute, set() ) for attribute in list_of_attributes)\n",
    "\n",
    "for sem in range(1,7):\n",
    "    for node in data[sem].nodes():\n",
    "        for attribute in list_of_attributes:\n",
    "            attribute_values[attribute].add(data[sem].nodes[node][attribute])\n",
    "\n",
    "attribute_values\n",
    "\n",
    "#To apply PCA or other analysis on all attributes (i.e. including ethnicity) \n",
    "#one would have to create an attribute for each race, that is is_1, is_2 etc. \n",
    "#Because this attribute is not ordered. "
   ]
  },
  {
   "cell_type": "code",
   "execution_count": 7,
   "id": "functioning-valuable",
   "metadata": {},
   "outputs": [],
   "source": [
    "#creating table of attribute values\n",
    "attributes = dict((i, 0) for i in range(1,7))\n",
    "for i in range(1,7):\n",
    "    attributes[i] = np.zeros([len(data[i].nodes), len(list_of_attributes)])\n",
    "\n",
    "for sem in range(1,7):\n",
    "    for i, node in enumerate(data[sem].nodes()):\n",
    "        for j, attribute in enumerate(list_of_attributes):\n",
    "            attributes[sem][i,j] = data[sem].nodes[node][attribute]"
   ]
  },
  {
   "cell_type": "code",
   "execution_count": 8,
   "id": "magnetic-leeds",
   "metadata": {},
   "outputs": [
    {
     "data": {
      "text/plain": [
       "{1: array([[3., 1., 1., ..., 3., 2., 3.],\n",
       "        [2., 1., 1., ..., 2., 2., 1.],\n",
       "        [3., 1., 1., ..., 1., 2., 3.],\n",
       "        ...,\n",
       "        [1., 2., 1., ..., 1., 4., 1.],\n",
       "        [1., 2., 3., ..., 1., 1., 2.],\n",
       "        [3., 2., 1., ..., 3., 1., 3.]]),\n",
       " 2: array([[1., 2., 3., ..., 1., 1., 1.],\n",
       "        [1., 2., 1., ..., 1., 1., 1.],\n",
       "        [1., 1., 1., ..., 3., 1., 3.],\n",
       "        ...,\n",
       "        [1., 1., 1., ..., 3., 1., 3.],\n",
       "        [1., 1., 2., ..., 3., 1., 3.],\n",
       "        [2., 1., 1., ..., 3., 3., 3.]]),\n",
       " 3: array([[3., 1., 2., 3., 2., 2., 3., 1., 1., 3., 1., 3.],\n",
       "        [1., 1., 1., 1., 2., 1., 1., 1., 1., 1., 1., 1.],\n",
       "        [1., 2., 2., 1., 2., 2., 1., 3., 1., 1., 1., 2.],\n",
       "        [1., 1., 1., 3., 2., 3., 3., 3., 3., 3., 3., 3.],\n",
       "        [3., 2., 1., 3., 1., 1., 3., 2., 1., 3., 1., 3.],\n",
       "        [3., 1., 1., 1., 2., 2., 3., 1., 1., 1., 2., 3.],\n",
       "        [1., 1., 2., 3., 1., 1., 2., 2., 1., 3., 1., 3.],\n",
       "        [3., 2., 2., 3., 2., 3., 2., 1., 1., 3., 1., 3.],\n",
       "        [1., 1., 1., 1., 1., 1., 1., 1., 1., 3., 1., 1.],\n",
       "        [1., 2., 1., 1., 2., 1., 1., 1., 1., 1., 1., 1.],\n",
       "        [2., 1., 1., 3., 2., 1., 3., 1., 2., 2., 1., 3.],\n",
       "        [1., 1., 2., 3., 2., 1., 1., 1., 1., 3., 1., 1.],\n",
       "        [1., 1., 1., 1., 2., 1., 2., 1., 3., 1., 1., 1.],\n",
       "        [1., 1., 1., 1., 2., 1., 1., 3., 1., 1., 1., 3.],\n",
       "        [1., 1., 1., 3., 1., 1., 3., 3., 3., 1., 4., 2.],\n",
       "        [3., 1., 1., 3., 1., 3., 3., 3., 1., 3., 4., 3.],\n",
       "        [1., 1., 1., 3., 2., 2., 2., 3., 1., 3., 1., 3.],\n",
       "        [3., 1., 2., 3., 1., 3., 3., 3., 1., 3., 1., 3.],\n",
       "        [1., 1., 1., 1., 1., 1., 1., 3., 1., 2., 1., 2.],\n",
       "        [3., 1., 2., 3., 1., 3., 3., 2., 1., 3., 4., 3.],\n",
       "        [1., 1., 1., 1., 1., 3., 2., 1., 1., 3., 4., 3.],\n",
       "        [1., 1., 1., 1., 2., 1., 1., 1., 1., 3., 1., 1.],\n",
       "        [2., 2., 1., 3., 2., 3., 3., 3., 2., 3., 1., 3.],\n",
       "        [1., 1., 1., 1., 2., 1., 1., 1., 1., 2., 4., 2.],\n",
       "        [3., 2., 1., 3., 1., 3., 3., 2., 1., 3., 2., 3.],\n",
       "        [1., 2., 1., 3., 1., 2., 2., 3., 1., 2., 4., 2.],\n",
       "        [1., 2., 1., 3., 1., 3., 2., 2., 1., 3., 1., 3.],\n",
       "        [1., 1., 1., 1., 2., 1., 2., 2., 2., 2., 1., 2.],\n",
       "        [1., 1., 2., 3., 2., 2., 1., 2., 1., 3., 1., 3.],\n",
       "        [3., 2., 2., 3., 1., 3., 2., 3., 1., 3., 1., 3.],\n",
       "        [3., 2., 1., 3., 1., 3., 2., 3., 2., 3., 1., 3.],\n",
       "        [2., 2., 2., 2., 1., 2., 3., 3., 2., 3., 1., 2.],\n",
       "        [1., 2., 1., 3., 1., 2., 1., 3., 1., 3., 1., 3.],\n",
       "        [1., 2., 1., 1., 1., 2., 2., 3., 2., 1., 3., 1.],\n",
       "        [1., 1., 2., 2., 2., 1., 3., 1., 3., 2., 1., 3.],\n",
       "        [1., 2., 2., 3., 2., 1., 1., 1., 3., 3., 1., 2.],\n",
       "        [1., 1., 1., 1., 2., 1., 1., 1., 1., 2., 3., 1.],\n",
       "        [1., 1., 1., 3., 1., 1., 1., 3., 1., 1., 1., 3.],\n",
       "        [3., 1., 3., 3., 1., 1., 3., 3., 3., 3., 1., 3.],\n",
       "        [3., 1., 1., 3., 2., 1., 3., 1., 3., 3., 2., 3.],\n",
       "        [1., 1., 1., 1., 2., 1., 1., 1., 2., 2., 2., 1.],\n",
       "        [1., 1., 2., 3., 1., 1., 3., 1., 3., 1., 1., 1.],\n",
       "        [2., 2., 1., 2., 1., 3., 3., 2., 2., 3., 4., 3.],\n",
       "        [2., 1., 2., 1., 1., 3., 1., 1., 1., 1., 1., 3.],\n",
       "        [1., 1., 1., 3., 1., 3., 3., 1., 1., 3., 1., 3.],\n",
       "        [1., 1., 1., 1., 2., 2., 1., 1., 1., 1., 4., 1.],\n",
       "        [3., 1., 1., 3., 1., 2., 1., 1., 1., 3., 2., 3.],\n",
       "        [2., 1., 2., 2., 2., 2., 2., 2., 2., 2., 4., 2.],\n",
       "        [1., 2., 3., 1., 1., 1., 3., 1., 1., 1., 1., 1.],\n",
       "        [3., 1., 1., 3., 2., 3., 3., 3., 1., 3., 3., 3.],\n",
       "        [3., 1., 1., 3., 1., 1., 3., 3., 1., 3., 1., 1.],\n",
       "        [1., 1., 1., 3., 2., 2., 1., 1., 1., 3., 1., 3.],\n",
       "        [3., 1., 3., 3., 2., 3., 3., 1., 1., 3., 1., 3.],\n",
       "        [1., 1., 2., 1., 1., 1., 3., 1., 3., 1., 1., 1.],\n",
       "        [1., 1., 2., 1., 1., 1., 2., 2., 1., 1., 1., 2.],\n",
       "        [1., 2., 2., 1., 1., 1., 1., 1., 3., 1., 1., 1.],\n",
       "        [1., 2., 1., 3., 1., 2., 3., 3., 1., 3., 1., 3.],\n",
       "        [1., 2., 1., 1., 1., 1., 2., 2., 1., 2., 4., 2.],\n",
       "        [1., 1., 1., 1., 1., 2., 2., 1., 1., 1., 1., 1.],\n",
       "        [1., 2., 1., 3., 1., 1., 3., 1., 1., 1., 2., 2.],\n",
       "        [3., 1., 2., 3., 1., 3., 3., 2., 1., 3., 1., 3.],\n",
       "        [1., 1., 2., 1., 1., 1., 3., 1., 1., 1., 1., 1.],\n",
       "        [1., 1., 1., 3., 2., 1., 2., 2., 1., 3., 1., 3.],\n",
       "        [1., 1., 2., 3., 1., 2., 1., 3., 1., 3., 1., 3.],\n",
       "        [1., 2., 2., 3., 1., 1., 2., 3., 2., 2., 1., 2.],\n",
       "        [1., 1., 1., 3., 1., 2., 3., 3., 2., 3., 1., 3.],\n",
       "        [3., 1., 1., 1., 1., 2., 1., 1., 1., 3., 4., 3.],\n",
       "        [1., 1., 2., 1., 2., 1., 2., 1., 2., 1., 3., 1.]]),\n",
       " 4: array([[1., 2., 3., ..., 1., 1., 1.],\n",
       "        [1., 2., 1., ..., 1., 1., 1.],\n",
       "        [1., 2., 1., ..., 3., 1., 3.],\n",
       "        ...,\n",
       "        [2., 1., 1., ..., 3., 3., 3.],\n",
       "        [1., 1., 2., ..., 3., 1., 3.],\n",
       "        [1., 1., 1., ..., 1., 1., 2.]]),\n",
       " 5: array([[3., 1., 1., ..., 3., 1., 2.],\n",
       "        [3., 1., 1., ..., 3., 2., 3.],\n",
       "        [1., 1., 2., ..., 3., 1., 2.],\n",
       "        ...,\n",
       "        [2., 2., 1., ..., 1., 4., 2.],\n",
       "        [1., 1., 1., ..., 3., 1., 3.],\n",
       "        [3., 2., 1., ..., 3., 1., 2.]]),\n",
       " 6: array([[3., 1., 2., 3., 2., 1., 3., 3., 1., 3., 1., 3.],\n",
       "        [1., 1., 1., 1., 2., 1., 1., 1., 1., 1., 1., 2.],\n",
       "        [1., 1., 1., 3., 2., 3., 3., 3., 3., 3., 3., 3.],\n",
       "        [1., 2., 2., 1., 2., 1., 1., 1., 1., 3., 1., 2.],\n",
       "        [3., 2., 1., 3., 1., 3., 3., 3., 1., 3., 1., 3.],\n",
       "        [2., 2., 2., 3., 1., 2., 3., 3., 2., 3., 1., 3.],\n",
       "        [3., 1., 1., 3., 1., 1., 3., 3., 1., 3., 1., 3.],\n",
       "        [1., 1., 2., 3., 1., 1., 3., 1., 3., 1., 1., 1.],\n",
       "        [1., 1., 2., 1., 1., 1., 3., 1., 1., 1., 1., 1.],\n",
       "        [1., 1., 2., 2., 1., 1., 2., 2., 1., 3., 1., 3.],\n",
       "        [1., 1., 1., 1., 2., 1., 1., 3., 1., 1., 1., 3.],\n",
       "        [3., 1., 1., 3., 2., 3., 2., 2., 2., 3., 3., 3.],\n",
       "        [1., 2., 1., 1., 2., 1., 1., 1., 1., 1., 1., 1.],\n",
       "        [1., 1., 1., 1., 1., 1., 1., 1., 1., 1., 1., 1.],\n",
       "        [1., 1., 1., 3., 2., 2., 2., 3., 1., 3., 1., 3.],\n",
       "        [3., 2., 2., 3., 2., 3., 2., 2., 1., 3., 1., 3.],\n",
       "        [1., 1., 1., 2., 1., 3., 3., 2., 1., 3., 4., 3.],\n",
       "        [1., 1., 1., 1., 2., 2., 2., 1., 1., 2., 4., 2.],\n",
       "        [3., 1., 2., 3., 1., 2., 3., 3., 1., 3., 1., 3.],\n",
       "        [3., 2., 2., 3., 1., 3., 3., 3., 1., 3., 1., 3.],\n",
       "        [1., 2., 3., 1., 1., 1., 1., 1., 1., 1., 1., 1.],\n",
       "        [1., 1., 1., 1., 1., 2., 2., 3., 1., 1., 1., 2.],\n",
       "        [1., 1., 1., 3., 1., 3., 3., 3., 3., 3., 4., 3.],\n",
       "        [3., 1., 1., 3., 1., 3., 3., 3., 1., 3., 4., 3.],\n",
       "        [3., 1., 3., 3., 2., 3., 3., 1., 2., 3., 1., 3.],\n",
       "        [3., 1., 1., 3., 2., 1., 1., 1., 1., 2., 1., 3.],\n",
       "        [3., 1., 2., 3., 1., 3., 3., 3., 1., 3., 1., 3.],\n",
       "        [2., 1., 2., 1., 1., 3., 2., 1., 1., 1., 1., 2.],\n",
       "        [3., 2., 1., 3., 1., 3., 2., 3., 2., 3., 1., 3.],\n",
       "        [1., 1., 1., 3., 2., 1., 2., 2., 1., 3., 1., 3.],\n",
       "        [3., 1., 2., 3., 2., 1., 3., 3., 2., 3., 1., 3.],\n",
       "        [3., 2., 1., 3., 1., 3., 3., 2., 1., 3., 2., 3.],\n",
       "        [2., 2., 2., 3., 1., 3., 3., 3., 2., 3., 1., 3.],\n",
       "        [1., 2., 1., 3., 1., 2., 2., 3., 2., 2., 4., 2.],\n",
       "        [1., 1., 1., 1., 2., 2., 1., 1., 1., 1., 4., 1.],\n",
       "        [3., 1., 3., 3., 1., 1., 3., 3., 3., 3., 1., 3.],\n",
       "        [1., 1., 1., 3., 1., 1., 1., 3., 1., 3., 1., 3.],\n",
       "        [1., 1., 1., 1., 1., 2., 1., 1., 1., 1., 1., 1.],\n",
       "        [2., 1., 3., 3., 1., 2., 1., 3., 3., 3., 1., 3.],\n",
       "        [1., 1., 2., 3., 1., 1., 3., 2., 2., 2., 1., 2.],\n",
       "        [1., 1., 1., 1., 2., 1., 1., 1., 3., 1., 1., 1.],\n",
       "        [1., 2., 2., 3., 1., 1., 1., 2., 1., 1., 1., 3.],\n",
       "        [1., 2., 1., 1., 1., 2., 2., 3., 2., 2., 3., 2.],\n",
       "        [2., 2., 1., 3., 2., 3., 3., 3., 2., 3., 1., 3.],\n",
       "        [3., 1., 1., 3., 2., 2., 2., 3., 3., 3., 2., 3.],\n",
       "        [3., 2., 1., 3., 1., 3., 2., 3., 1., 3., 1., 3.],\n",
       "        [1., 1., 2., 1., 1., 1., 3., 1., 3., 1., 1., 1.],\n",
       "        [2., 2., 1., 2., 1., 2., 3., 3., 2., 3., 4., 3.],\n",
       "        [1., 2., 3., 2., 2., 1., 1., 2., 1., 3., 1., 2.],\n",
       "        [3., 1., 1., 3., 1., 3., 3., 3., 1., 3., 1., 3.],\n",
       "        [2., 2., 1., 3., 1., 2., 3., 3., 1., 3., 1., 3.],\n",
       "        [1., 1., 1., 3., 2., 3., 2., 3., 2., 3., 2., 2.],\n",
       "        [3., 1., 1., 3., 1., 3., 3., 3., 1., 3., 2., 3.],\n",
       "        [1., 1., 1., 2., 2., 2., 2., 1., 1., 1., 4., 2.],\n",
       "        [1., 1., 2., 3., 1., 1., 1., 2., 1., 1., 1., 3.],\n",
       "        [1., 1., 1., 3., 1., 3., 1., 3., 3., 3., 1., 3.],\n",
       "        [1., 1., 1., 3., 2., 1., 3., 1., 1., 3., 1., 3.],\n",
       "        [1., 1., 1., 1., 2., 1., 1., 1., 1., 1., 2., 1.],\n",
       "        [2., 1., 2., 3., 2., 2., 2., 2., 2., 3., 4., 3.],\n",
       "        [1., 1., 2., 2., 2., 1., 2., 2., 2., 2., 3., 2.],\n",
       "        [3., 1., 1., 3., 1., 3., 3., 1., 3., 3., 4., 3.],\n",
       "        [3., 1., 1., 3., 2., 3., 3., 3., 3., 3., 2., 3.],\n",
       "        [1., 1., 2., 3., 2., 1., 1., 3., 2., 3., 1., 1.]])}"
      ]
     },
     "execution_count": 8,
     "metadata": {},
     "output_type": "execute_result"
    }
   ],
   "source": [
    "attributes"
   ]
  },
  {
   "cell_type": "code",
   "execution_count": 9,
   "id": "korean-array",
   "metadata": {},
   "outputs": [],
   "source": [
    "import mca\n"
   ]
  },
  {
   "cell_type": "code",
   "execution_count": 10,
   "id": "complex-binary",
   "metadata": {},
   "outputs": [
    {
     "name": "stdout",
     "output_type": "stream",
     "text": [
      "    abortion_  age_1  hometown_1  premaritalsex_  gender_1  political_  \\\n",
      "0         3.0    1.0         1.0             3.0       2.0         1.0   \n",
      "1         2.0    1.0         1.0             2.0       2.0         1.0   \n",
      "2         3.0    1.0         1.0             3.0       1.0         3.0   \n",
      "3         3.0    2.0         1.0             3.0       1.0         3.0   \n",
      "4         3.0    2.0         1.0             3.0       1.0         2.0   \n",
      "..        ...    ...         ...             ...       ...         ...   \n",
      "93        1.0    1.0         2.0             3.0       1.0         1.0   \n",
      "94        3.0    1.0         1.0             3.0       2.0         3.0   \n",
      "95        1.0    2.0         1.0             3.0       1.0         2.0   \n",
      "96        1.0    2.0         3.0             1.0       2.0         1.0   \n",
      "97        3.0    2.0         1.0             3.0       1.0         2.0   \n",
      "\n",
      "    euthanasia_  marijuana_  deathpen_  homosexual_  ethnicity_1  gaymarriage_  \n",
      "0           3.0         2.0        3.0          3.0          2.0           3.0  \n",
      "1           2.0         3.0        2.0          2.0          2.0           1.0  \n",
      "2           3.0         3.0        3.0          1.0          2.0           3.0  \n",
      "3           1.0         2.0        1.0          3.0          2.0           3.0  \n",
      "4           1.0         1.0        2.0          3.0          2.0           2.0  \n",
      "..          ...         ...        ...          ...          ...           ...  \n",
      "93          3.0         1.0        3.0          1.0          1.0           1.0  \n",
      "94          3.0         3.0        3.0          3.0          2.0           1.0  \n",
      "95          2.0         1.0        2.0          1.0          4.0           1.0  \n",
      "96          2.0         1.0        1.0          1.0          1.0           2.0  \n",
      "97          3.0         3.0        1.0          3.0          1.0           3.0  \n",
      "\n",
      "[98 rows x 12 columns]\n"
     ]
    }
   ],
   "source": [
    "df = pd.DataFrame(data=attributes[1], columns=attribute_values)\n",
    "print(df)"
   ]
  },
  {
   "cell_type": "code",
   "execution_count": 11,
   "id": "brazilian-trustee",
   "metadata": {},
   "outputs": [
    {
     "name": "stdout",
     "output_type": "stream",
     "text": [
      "[0 0 0 0 0 0 0 0 0 0 0 0]\n"
     ]
    }
   ],
   "source": [
    "mca_counts = mca.MCA(df, ncols = len(attribute_values))\n",
    "# print(mca_counts.fs_r(1))\n",
    "print(mca_counts.L)"
   ]
  },
  {
   "cell_type": "markdown",
   "id": "injured-athletics",
   "metadata": {},
   "source": [
    "# PCA\n",
    "Trying simple PCA, although it is not recommended. To do it we need to remove categorical data first. "
   ]
  },
  {
   "cell_type": "code",
   "execution_count": 12,
   "id": "ongoing-prisoner",
   "metadata": {},
   "outputs": [
    {
     "name": "stdout",
     "output_type": "stream",
     "text": [
      "{'abortion_', 'political_', 'deathpen_', 'premaritalsex_', 'euthanasia_', 'marijuana_', 'homosexual_', 'gaymarriage_'}\n",
      "{1: array([[3., 1., 3., 3., 3., 2., 3., 3.],\n",
      "       [2., 1., 2., 2., 2., 3., 2., 1.],\n",
      "       [3., 3., 3., 3., 3., 3., 1., 3.],\n",
      "       [3., 3., 1., 3., 1., 2., 3., 3.],\n",
      "       [3., 2., 2., 3., 1., 1., 3., 2.],\n",
      "       [1., 2., 1., 1., 3., 1., 1., 1.],\n",
      "       [1., 1., 2., 1., 1., 1., 2., 2.],\n",
      "       [2., 2., 2., 1., 2., 3., 1., 2.],\n",
      "       [3., 2., 1., 3., 3., 2., 3., 3.],\n",
      "       [1., 3., 1., 3., 1., 3., 3., 3.],\n",
      "       [1., 2., 1., 1., 3., 2., 1., 1.],\n",
      "       [1., 1., 1., 1., 1., 1., 1., 2.],\n",
      "       [1., 1., 1., 3., 2., 3., 3., 3.],\n",
      "       [1., 1., 1., 1., 1., 3., 2., 1.],\n",
      "       [1., 3., 3., 3., 3., 3., 3., 3.],\n",
      "       [1., 1., 1., 2., 3., 2., 2., 1.],\n",
      "       [1., 1., 2., 3., 2., 2., 1., 1.],\n",
      "       [1., 1., 3., 1., 3., 3., 1., 1.],\n",
      "       [3., 3., 2., 2., 3., 3., 3., 3.],\n",
      "       [1., 1., 1., 3., 3., 3., 1., 3.],\n",
      "       [3., 1., 3., 3., 3., 3., 3., 3.],\n",
      "       [3., 3., 1., 3., 3., 3., 3., 3.],\n",
      "       [1., 1., 1., 3., 3., 3., 3., 3.],\n",
      "       [3., 3., 1., 3., 3., 3., 3., 3.],\n",
      "       [2., 2., 3., 3., 2., 3., 3., 3.],\n",
      "       [1., 1., 1., 1., 1., 2., 1., 1.],\n",
      "       [1., 2., 1., 1., 3., 1., 1., 2.],\n",
      "       [1., 1., 2., 1., 1., 2., 1., 1.],\n",
      "       [1., 1., 2., 2., 1., 1., 1., 3.],\n",
      "       [1., 2., 1., 1., 1., 2., 1., 1.],\n",
      "       [1., 3., 1., 1., 1., 1., 1., 1.],\n",
      "       [3., 3., 1., 3., 3., 3., 3., 3.],\n",
      "       [3., 1., 2., 3., 3., 1., 3., 3.],\n",
      "       [1., 3., 2., 3., 3., 3., 3., 3.],\n",
      "       [1., 2., 1., 1., 3., 1., 3., 3.],\n",
      "       [1., 1., 1., 1., 1., 1., 1., 1.],\n",
      "       [3., 1., 1., 1., 3., 1., 3., 3.],\n",
      "       [3., 2., 1., 3., 3., 3., 3., 2.],\n",
      "       [3., 2., 3., 3., 3., 3., 3., 3.],\n",
      "       [1., 1., 3., 1., 1., 1., 1., 1.],\n",
      "       [1., 1., 1., 1., 3., 1., 1., 1.],\n",
      "       [1., 2., 1., 3., 2., 1., 1., 2.],\n",
      "       [3., 3., 1., 2., 1., 1., 3., 3.],\n",
      "       [1., 1., 1., 1., 1., 1., 1., 1.],\n",
      "       [1., 1., 3., 1., 2., 1., 1., 1.],\n",
      "       [3., 3., 2., 3., 3., 3., 3., 3.],\n",
      "       [1., 1., 1., 3., 3., 1., 1., 1.],\n",
      "       [1., 1., 1., 3., 3., 1., 3., 3.],\n",
      "       [3., 3., 2., 3., 3., 1., 3., 3.],\n",
      "       [1., 1., 1., 1., 1., 1., 1., 1.],\n",
      "       [2., 1., 1., 3., 3., 1., 3., 3.],\n",
      "       [3., 3., 2., 3., 2., 3., 3., 3.],\n",
      "       [3., 1., 3., 3., 3., 1., 3., 3.],\n",
      "       [1., 1., 1., 1., 1., 1., 1., 3.],\n",
      "       [3., 3., 2., 3., 2., 1., 3., 3.],\n",
      "       [3., 3., 3., 3., 1., 1., 3., 3.],\n",
      "       [1., 1., 1., 1., 2., 1., 1., 1.],\n",
      "       [1., 1., 1., 1., 2., 1., 1., 1.],\n",
      "       [3., 3., 2., 3., 3., 1., 3., 3.],\n",
      "       [3., 3., 2., 3., 3., 2., 3., 3.],\n",
      "       [1., 3., 1., 3., 3., 3., 1., 1.],\n",
      "       [1., 1., 1., 1., 1., 1., 1., 2.],\n",
      "       [3., 2., 1., 3., 2., 3., 2., 2.],\n",
      "       [1., 3., 1., 3., 1., 1., 3., 3.],\n",
      "       [1., 3., 1., 3., 1., 1., 1., 1.],\n",
      "       [1., 3., 1., 3., 2., 3., 3., 3.],\n",
      "       [1., 2., 1., 3., 3., 2., 3., 3.],\n",
      "       [1., 1., 1., 3., 2., 1., 3., 3.],\n",
      "       [1., 1., 2., 3., 3., 1., 1., 2.],\n",
      "       [2., 2., 2., 3., 2., 2., 2., 2.],\n",
      "       [1., 1., 3., 3., 1., 1., 1., 1.],\n",
      "       [3., 3., 1., 3., 3., 3., 3., 3.],\n",
      "       [1., 1., 1., 1., 2., 2., 1., 1.],\n",
      "       [1., 1., 3., 3., 2., 1., 3., 2.],\n",
      "       [3., 1., 3., 3., 3., 1., 3., 2.],\n",
      "       [1., 1., 2., 3., 3., 1., 1., 1.],\n",
      "       [1., 1., 1., 3., 1., 1., 3., 1.],\n",
      "       [3., 3., 3., 3., 3., 1., 3., 3.],\n",
      "       [2., 2., 2., 3., 2., 3., 3., 3.],\n",
      "       [1., 1., 1., 1., 1., 1., 1., 3.],\n",
      "       [1., 1., 2., 1., 3., 1., 1., 3.],\n",
      "       [1., 1., 2., 1., 3., 1., 1., 1.],\n",
      "       [1., 1., 1., 1., 2., 1., 1., 1.],\n",
      "       [1., 2., 2., 2., 2., 2., 3., 3.],\n",
      "       [3., 3., 3., 3., 3., 2., 3., 2.],\n",
      "       [1., 1., 1., 1., 1., 1., 1., 1.],\n",
      "       [3., 1., 1., 3., 3., 1., 3., 1.],\n",
      "       [1., 3., 1., 3., 3., 2., 3., 3.],\n",
      "       [1., 1., 3., 3., 1., 1., 1., 1.],\n",
      "       [3., 3., 2., 3., 1., 3., 3., 3.],\n",
      "       [1., 2., 1., 1., 1., 1., 2., 2.],\n",
      "       [1., 1., 1., 1., 1., 2., 1., 1.],\n",
      "       [1., 1., 3., 3., 3., 2., 3., 3.],\n",
      "       [1., 1., 3., 3., 3., 1., 1., 1.],\n",
      "       [3., 3., 3., 3., 3., 3., 3., 1.],\n",
      "       [1., 2., 2., 3., 2., 1., 1., 1.],\n",
      "       [1., 1., 1., 1., 2., 1., 1., 2.],\n",
      "       [3., 2., 1., 3., 3., 3., 3., 3.]]), 2: array([[1., 1., 1., 1., 3., 1., 1., 1.],\n",
      "       [1., 1., 1., 1., 1., 1., 1., 1.],\n",
      "       [1., 1., 2., 3., 3., 1., 3., 3.],\n",
      "       [1., 3., 3., 3., 3., 3., 3., 3.],\n",
      "       [2., 2., 2., 1., 2., 1., 1., 1.],\n",
      "       [1., 2., 1., 3., 1., 3., 3., 3.],\n",
      "       [3., 3., 1., 3., 3., 1., 3., 3.],\n",
      "       [1., 1., 3., 3., 3., 3., 3., 3.],\n",
      "       [1., 2., 1., 1., 1., 1., 1., 1.],\n",
      "       [3., 2., 3., 3., 3., 1., 3., 3.],\n",
      "       [1., 1., 1., 1., 1., 1., 1., 1.],\n",
      "       [1., 1., 1., 1., 1., 2., 1., 1.],\n",
      "       [1., 1., 2., 3., 3., 2., 2., 1.],\n",
      "       [1., 2., 1., 3., 1., 1., 3., 1.],\n",
      "       [1., 3., 3., 3., 3., 1., 1., 1.],\n",
      "       [1., 1., 2., 3., 3., 2., 3., 3.],\n",
      "       [1., 2., 1., 2., 3., 3., 3., 3.],\n",
      "       [1., 3., 1., 1., 1., 1., 3., 1.],\n",
      "       [3., 3., 1., 3., 3., 1., 3., 3.],\n",
      "       [1., 2., 1., 1., 1., 3., 1., 2.],\n",
      "       [1., 1., 1., 1., 1., 1., 1., 1.],\n",
      "       [3., 1., 3., 3., 3., 3., 3., 3.],\n",
      "       [1., 1., 1., 3., 3., 3., 1., 3.],\n",
      "       [3., 3., 1., 3., 3., 3., 3., 3.],\n",
      "       [1., 1., 1., 1., 2., 3., 3., 2.],\n",
      "       [2., 2., 1., 3., 3., 3., 3., 3.],\n",
      "       [3., 3., 2., 3., 2., 3., 3., 3.],\n",
      "       [1., 1., 1., 1., 1., 2., 1., 3.],\n",
      "       [1., 1., 3., 1., 2., 1., 1., 1.],\n",
      "       [1., 3., 1., 1., 2., 1., 1., 3.],\n",
      "       [3., 2., 1., 3., 3., 3., 3., 3.],\n",
      "       [1., 2., 1., 3., 1., 3., 3., 3.],\n",
      "       [1., 1., 3., 1., 3., 1., 1., 1.],\n",
      "       [1., 1., 1., 1., 1., 1., 1., 2.],\n",
      "       [1., 1., 1., 1., 1., 1., 2., 2.],\n",
      "       [3., 3., 3., 3., 3., 3., 3., 3.],\n",
      "       [3., 3., 1., 3., 3., 1., 3., 3.],\n",
      "       [1., 1., 1., 1., 2., 1., 3., 3.],\n",
      "       [3., 3., 1., 3., 1., 3., 3., 3.],\n",
      "       [1., 1., 3., 3., 3., 1., 1., 1.],\n",
      "       [1., 1., 2., 3., 3., 2., 3., 3.],\n",
      "       [1., 1., 1., 1., 3., 3., 3., 3.],\n",
      "       [1., 2., 1., 1., 1., 2., 1., 1.],\n",
      "       [1., 1., 1., 3., 3., 1., 1., 2.],\n",
      "       [3., 3., 1., 3., 3., 2., 3., 3.],\n",
      "       [1., 3., 1., 3., 1., 3., 3., 3.],\n",
      "       [1., 1., 1., 1., 1., 1., 2., 3.],\n",
      "       [3., 3., 1., 3., 2., 2., 3., 3.],\n",
      "       [1., 1., 1., 1., 3., 1., 1., 2.],\n",
      "       [3., 2., 1., 3., 2., 2., 3., 3.],\n",
      "       [2., 2., 2., 2., 2., 2., 2., 2.],\n",
      "       [1., 2., 1., 1., 1., 1., 2., 2.],\n",
      "       [2., 3., 2., 3., 3., 3., 3., 3.],\n",
      "       [3., 2., 2., 3., 3., 3., 3., 3.],\n",
      "       [2., 2., 2., 3., 1., 3., 3., 3.],\n",
      "       [1., 2., 1., 1., 3., 2., 3., 3.],\n",
      "       [1., 2., 2., 1., 1., 2., 1., 1.],\n",
      "       [1., 1., 2., 1., 2., 1., 1., 2.],\n",
      "       [3., 1., 1., 3., 3., 1., 3., 2.],\n",
      "       [3., 3., 1., 3., 3., 3., 3., 3.],\n",
      "       [1., 3., 2., 3., 2., 3., 3., 3.],\n",
      "       [1., 3., 1., 3., 2., 3., 3., 3.],\n",
      "       [3., 1., 1., 3., 3., 3., 3., 3.],\n",
      "       [1., 2., 1., 3., 3., 1., 3., 1.],\n",
      "       [1., 1., 1., 3., 1., 3., 3., 1.],\n",
      "       [3., 3., 1., 3., 3., 1., 3., 3.],\n",
      "       [1., 1., 2., 1., 2., 1., 1., 1.],\n",
      "       [3., 3., 1., 3., 1., 1., 3., 3.],\n",
      "       [1., 1., 1., 1., 1., 1., 1., 3.],\n",
      "       [3., 3., 1., 3., 1., 2., 3., 3.],\n",
      "       [1., 2., 1., 1., 1., 2., 2., 1.],\n",
      "       [1., 2., 1., 3., 2., 3., 3., 3.],\n",
      "       [3., 2., 1., 3., 3., 3., 3., 3.],\n",
      "       [1., 1., 3., 3., 1., 1., 1., 2.],\n",
      "       [1., 1., 1., 1., 2., 1., 1., 1.],\n",
      "       [1., 1., 3., 1., 1., 1., 3., 2.],\n",
      "       [1., 3., 2., 3., 3., 2., 3., 3.],\n",
      "       [2., 2., 2., 2., 2., 2., 2., 2.],\n",
      "       [3., 3., 1., 3., 3., 3., 3., 3.],\n",
      "       [1., 1., 1., 3., 3., 2., 1., 1.],\n",
      "       [1., 1., 1., 3., 2., 3., 3., 3.],\n",
      "       [1., 1., 1., 3., 1., 1., 3., 3.],\n",
      "       [1., 1., 1., 3., 2., 2., 3., 1.],\n",
      "       [3., 3., 2., 3., 3., 3., 3., 3.],\n",
      "       [1., 1., 2., 3., 3., 2., 3., 3.],\n",
      "       [1., 2., 2., 3., 2., 3., 3., 1.],\n",
      "       [1., 1., 2., 3., 1., 1., 3., 3.],\n",
      "       [1., 1., 3., 3., 3., 1., 3., 3.],\n",
      "       [2., 3., 1., 2., 2., 1., 3., 3.]]), 3: array([[3., 2., 1., 3., 3., 1., 3., 3.],\n",
      "       [1., 1., 1., 1., 1., 1., 1., 1.],\n",
      "       [1., 2., 1., 1., 1., 3., 1., 2.],\n",
      "       [1., 3., 3., 3., 3., 3., 3., 3.],\n",
      "       [3., 1., 1., 3., 3., 2., 3., 3.],\n",
      "       [3., 2., 1., 1., 3., 1., 1., 3.],\n",
      "       [1., 1., 1., 3., 2., 2., 3., 3.],\n",
      "       [3., 3., 1., 3., 2., 1., 3., 3.],\n",
      "       [1., 1., 1., 1., 1., 1., 3., 1.],\n",
      "       [1., 1., 1., 1., 1., 1., 1., 1.],\n",
      "       [2., 1., 2., 3., 3., 1., 2., 3.],\n",
      "       [1., 1., 1., 3., 1., 1., 3., 1.],\n",
      "       [1., 1., 3., 1., 2., 1., 1., 1.],\n",
      "       [1., 1., 1., 1., 1., 3., 1., 3.],\n",
      "       [1., 1., 3., 3., 3., 3., 1., 2.],\n",
      "       [3., 3., 1., 3., 3., 3., 3., 3.],\n",
      "       [1., 2., 1., 3., 2., 3., 3., 3.],\n",
      "       [3., 3., 1., 3., 3., 3., 3., 3.],\n",
      "       [1., 1., 1., 1., 1., 3., 2., 2.],\n",
      "       [3., 3., 1., 3., 3., 2., 3., 3.],\n",
      "       [1., 3., 1., 1., 2., 1., 3., 3.],\n",
      "       [1., 1., 1., 1., 1., 1., 3., 1.],\n",
      "       [2., 3., 2., 3., 3., 3., 3., 3.],\n",
      "       [1., 1., 1., 1., 1., 1., 2., 2.],\n",
      "       [3., 3., 1., 3., 3., 2., 3., 3.],\n",
      "       [1., 2., 1., 3., 2., 3., 2., 2.],\n",
      "       [1., 3., 1., 3., 2., 2., 3., 3.],\n",
      "       [1., 1., 2., 1., 2., 2., 2., 2.],\n",
      "       [1., 2., 1., 3., 1., 2., 3., 3.],\n",
      "       [3., 3., 1., 3., 2., 3., 3., 3.],\n",
      "       [3., 3., 2., 3., 2., 3., 3., 3.],\n",
      "       [2., 2., 2., 2., 3., 3., 3., 2.],\n",
      "       [1., 2., 1., 3., 1., 3., 3., 3.],\n",
      "       [1., 2., 2., 1., 2., 3., 1., 1.],\n",
      "       [1., 1., 3., 2., 3., 1., 2., 3.],\n",
      "       [1., 1., 3., 3., 1., 1., 3., 2.],\n",
      "       [1., 1., 1., 1., 1., 1., 2., 1.],\n",
      "       [1., 1., 1., 3., 1., 3., 1., 3.],\n",
      "       [3., 1., 3., 3., 3., 3., 3., 3.],\n",
      "       [3., 1., 3., 3., 3., 1., 3., 3.],\n",
      "       [1., 1., 2., 1., 1., 1., 2., 1.],\n",
      "       [1., 1., 3., 3., 3., 1., 1., 1.],\n",
      "       [2., 3., 2., 2., 3., 2., 3., 3.],\n",
      "       [2., 3., 1., 1., 1., 1., 1., 3.],\n",
      "       [1., 3., 1., 3., 3., 1., 3., 3.],\n",
      "       [1., 2., 1., 1., 1., 1., 1., 1.],\n",
      "       [3., 2., 1., 3., 1., 1., 3., 3.],\n",
      "       [2., 2., 2., 2., 2., 2., 2., 2.],\n",
      "       [1., 1., 1., 1., 3., 1., 1., 1.],\n",
      "       [3., 3., 1., 3., 3., 3., 3., 3.],\n",
      "       [3., 1., 1., 3., 3., 3., 3., 1.],\n",
      "       [1., 2., 1., 3., 1., 1., 3., 3.],\n",
      "       [3., 3., 1., 3., 3., 1., 3., 3.],\n",
      "       [1., 1., 3., 1., 3., 1., 1., 1.],\n",
      "       [1., 1., 1., 1., 2., 2., 1., 2.],\n",
      "       [1., 1., 3., 1., 1., 1., 1., 1.],\n",
      "       [1., 2., 1., 3., 3., 3., 3., 3.],\n",
      "       [1., 1., 1., 1., 2., 2., 2., 2.],\n",
      "       [1., 2., 1., 1., 2., 1., 1., 1.],\n",
      "       [1., 1., 1., 3., 3., 1., 1., 2.],\n",
      "       [3., 3., 1., 3., 3., 2., 3., 3.],\n",
      "       [1., 1., 1., 1., 3., 1., 1., 1.],\n",
      "       [1., 1., 1., 3., 2., 2., 3., 3.],\n",
      "       [1., 2., 1., 3., 1., 3., 3., 3.],\n",
      "       [1., 1., 2., 3., 2., 3., 2., 2.],\n",
      "       [1., 2., 2., 3., 3., 3., 3., 3.],\n",
      "       [3., 2., 1., 1., 1., 1., 3., 3.],\n",
      "       [1., 1., 2., 1., 2., 1., 1., 1.]]), 4: array([[1., 1., 1., 1., 2., 1., 1., 1.],\n",
      "       [1., 1., 1., 1., 1., 1., 1., 1.],\n",
      "       [1., 1., 1., 3., 1., 3., 3., 3.],\n",
      "       [3., 1., 3., 1., 3., 1., 1., 1.],\n",
      "       [1., 3., 1., 1., 3., 1., 3., 3.],\n",
      "       [3., 3., 1., 3., 2., 2., 3., 3.],\n",
      "       [1., 1., 1., 3., 2., 2., 1., 2.],\n",
      "       [1., 3., 1., 3., 3., 3., 3., 3.],\n",
      "       [1., 2., 1., 2., 3., 2., 3., 3.],\n",
      "       [1., 1., 2., 3., 3., 2., 3., 3.],\n",
      "       [1., 1., 1., 1., 1., 3., 1., 3.],\n",
      "       [1., 1., 1., 1., 3., 1., 1., 1.],\n",
      "       [1., 1., 1., 1., 1., 1., 1., 2.],\n",
      "       [3., 3., 2., 3., 3., 3., 3., 3.],\n",
      "       [1., 1., 1., 1., 1., 2., 3., 1.],\n",
      "       [1., 1., 1., 1., 1., 1., 1., 2.],\n",
      "       [1., 1., 1., 1., 1., 1., 1., 1.],\n",
      "       [1., 3., 3., 3., 3., 2., 1., 3.],\n",
      "       [3., 3., 1., 1., 3., 3., 3., 3.],\n",
      "       [1., 1., 3., 1., 3., 1., 1., 1.],\n",
      "       [1., 1., 2., 1., 1., 1., 2., 1.],\n",
      "       [3., 3., 1., 3., 2., 1., 3., 3.],\n",
      "       [1., 3., 1., 2., 3., 1., 3., 3.],\n",
      "       [3., 3., 1., 3., 3., 3., 3., 3.],\n",
      "       [1., 1., 1., 1., 1., 3., 1., 2.],\n",
      "       [3., 2., 1., 3., 3., 3., 3., 3.],\n",
      "       [3., 3., 3., 3., 2., 1., 1., 3.],\n",
      "       [1., 1., 2., 1., 2., 1., 1., 1.],\n",
      "       [1., 2., 2., 1., 1., 2., 2., 2.],\n",
      "       [1., 2., 2., 1., 2., 2., 2., 2.],\n",
      "       [1., 2., 1., 3., 1., 2., 3., 1.],\n",
      "       [1., 1., 3., 3., 1., 1., 1., 1.],\n",
      "       [3., 2., 2., 3., 3., 3., 3., 3.],\n",
      "       [2., 3., 2., 3., 3., 3., 3., 3.],\n",
      "       [1., 1., 1., 1., 1., 1., 2., 2.],\n",
      "       [1., 3., 1., 3., 1., 2., 3., 3.],\n",
      "       [1., 1., 2., 1., 1., 2., 3., 3.],\n",
      "       [1., 3., 1., 3., 3., 1., 3., 3.],\n",
      "       [3., 1., 3., 3., 3., 3., 3., 3.],\n",
      "       [1., 1., 2., 1., 1., 1., 1., 3.],\n",
      "       [1., 2., 2., 1., 1., 2., 1., 1.],\n",
      "       [2., 3., 1., 3., 2., 3., 3., 3.],\n",
      "       [3., 1., 2., 3., 3., 1., 3., 2.],\n",
      "       [3., 3., 2., 3., 2., 3., 3., 3.],\n",
      "       [3., 1., 3., 3., 3., 3., 3., 3.],\n",
      "       [1., 1., 1., 3., 1., 3., 1., 3.],\n",
      "       [1., 1., 3., 1., 1., 1., 1., 1.],\n",
      "       [1., 3., 2., 3., 3., 3., 3., 3.],\n",
      "       [1., 1., 2., 3., 3., 2., 3., 3.],\n",
      "       [1., 1., 3., 1., 2., 1., 1., 1.],\n",
      "       [2., 3., 2., 2., 3., 2., 3., 3.],\n",
      "       [2., 1., 1., 3., 1., 3., 3., 1.],\n",
      "       [3., 2., 1., 3., 2., 2., 3., 3.],\n",
      "       [2., 3., 1., 2., 2., 3., 3., 2.],\n",
      "       [3., 1., 1., 3., 3., 1., 3., 3.],\n",
      "       [1., 1., 1., 1., 1., 3., 2., 1.],\n",
      "       [1., 1., 1., 3., 3., 1., 3., 3.],\n",
      "       [3., 1., 1., 3., 3., 3., 3., 3.],\n",
      "       [1., 1., 2., 1., 1., 1., 1., 1.],\n",
      "       [1., 1., 1., 1., 1., 1., 2., 3.],\n",
      "       [3., 3., 1., 3., 3., 2., 3., 3.],\n",
      "       [1., 2., 1., 1., 1., 2., 1., 1.],\n",
      "       [1., 1., 1., 1., 2., 2., 1., 3.],\n",
      "       [2., 3., 2., 3., 3., 3., 3., 3.],\n",
      "       [1., 1., 3., 3., 3., 1., 3., 3.],\n",
      "       [1., 1., 2., 3., 1., 1., 3., 3.],\n",
      "       [3., 3., 1., 3., 3., 1., 3., 3.],\n",
      "       [3., 2., 3., 3., 3., 3., 2., 3.],\n",
      "       [3., 3., 1., 3., 1., 1., 3., 3.],\n",
      "       [1., 1., 2., 1., 2., 3., 2., 1.],\n",
      "       [1., 2., 1., 3., 1., 1., 1., 3.],\n",
      "       [1., 2., 1., 3., 2., 1., 1., 2.],\n",
      "       [2., 3., 1., 1., 1., 2., 2., 3.],\n",
      "       [3., 1., 3., 3., 3., 3., 3., 3.],\n",
      "       [1., 3., 1., 3., 2., 1., 3., 2.],\n",
      "       [3., 3., 2., 3., 2., 3., 3., 3.],\n",
      "       [3., 3., 2., 2., 3., 3., 3., 3.],\n",
      "       [3., 3., 3., 3., 3., 3., 3., 3.],\n",
      "       [2., 2., 2., 2., 2., 2., 2., 2.],\n",
      "       [1., 3., 1., 3., 2., 3., 3., 2.],\n",
      "       [3., 3., 1., 3., 3., 3., 3., 3.],\n",
      "       [1., 1., 1., 1., 2., 2., 1., 2.],\n",
      "       [1., 1., 3., 3., 1., 1., 3., 3.],\n",
      "       [3., 1., 3., 3., 3., 3., 3., 3.],\n",
      "       [1., 1., 2., 3., 3., 3., 3., 3.],\n",
      "       [3., 2., 2., 3., 3., 3., 3., 3.],\n",
      "       [2., 3., 1., 3., 2., 1., 3., 3.],\n",
      "       [1., 1., 2., 3., 3., 1., 3., 3.],\n",
      "       [1., 2., 1., 1., 2., 1., 1., 2.]]), 5: array([[3., 2., 1., 2., 2., 1., 3., 2.],\n",
      "       [3., 3., 2., 3., 2., 3., 3., 3.],\n",
      "       [1., 1., 2., 3., 2., 2., 3., 2.],\n",
      "       [1., 2., 1., 2., 2., 2., 3., 3.],\n",
      "       [1., 1., 1., 1., 1., 3., 1., 3.],\n",
      "       [1., 1., 3., 1., 2., 1., 1., 1.],\n",
      "       [1., 1., 3., 3., 3., 1., 1., 1.],\n",
      "       [1., 1., 1., 3., 2., 3., 3., 3.],\n",
      "       [3., 3., 3., 3., 3., 3., 3., 3.],\n",
      "       [1., 1., 1., 1., 1., 1., 2., 2.],\n",
      "       [3., 1., 1., 3., 3., 3., 3., 2.],\n",
      "       [3., 3., 2., 3., 2., 3., 3., 3.],\n",
      "       [1., 3., 3., 1., 3., 2., 1., 3.],\n",
      "       [3., 3., 1., 3., 1., 3., 3., 3.],\n",
      "       [1., 1., 1., 1., 1., 1., 1., 1.],\n",
      "       [1., 1., 1., 1., 1., 1., 1., 1.],\n",
      "       [3., 2., 2., 2., 2., 3., 2., 2.],\n",
      "       [1., 2., 1., 1., 1., 1., 1., 1.],\n",
      "       [3., 3., 1., 3., 2., 2., 3., 3.],\n",
      "       [2., 3., 1., 3., 2., 1., 3., 3.],\n",
      "       [1., 1., 1., 1., 1., 1., 1., 1.],\n",
      "       [1., 2., 1., 3., 3., 3., 3., 3.],\n",
      "       [3., 2., 2., 3., 3., 3., 3., 2.],\n",
      "       [1., 1., 1., 1., 1., 1., 1., 1.],\n",
      "       [2., 2., 1., 3., 3., 2., 3., 3.],\n",
      "       [2., 3., 1., 3., 3., 3., 3., 3.],\n",
      "       [3., 3., 1., 3., 2., 2., 3., 3.],\n",
      "       [1., 3., 1., 3., 2., 1., 3., 3.],\n",
      "       [1., 1., 2., 1., 2., 3., 2., 2.],\n",
      "       [1., 2., 1., 3., 2., 2., 3., 1.],\n",
      "       [1., 1., 2., 3., 3., 3., 3., 3.],\n",
      "       [1., 2., 1., 2., 3., 2., 3., 3.],\n",
      "       [1., 1., 2., 3., 3., 1., 3., 3.],\n",
      "       [1., 1., 2., 1., 1., 1., 1., 2.],\n",
      "       [1., 1., 3., 1., 3., 1., 1., 1.],\n",
      "       [2., 3., 1., 3., 3., 3., 3., 3.],\n",
      "       [3., 2., 1., 3., 3., 3., 3., 3.],\n",
      "       [1., 1., 1., 3., 3., 1., 3., 3.],\n",
      "       [1., 1., 1., 3., 1., 1., 3., 1.],\n",
      "       [3., 2., 3., 3., 2., 3., 3., 3.],\n",
      "       [3., 2., 2., 3., 2., 2., 2., 2.],\n",
      "       [1., 1., 1., 1., 2., 1., 2., 2.],\n",
      "       [2., 3., 2., 3., 2., 2., 2., 3.],\n",
      "       [2., 3., 1., 3., 2., 3., 3., 3.],\n",
      "       [1., 1., 1., 3., 1., 3., 1., 3.],\n",
      "       [1., 1., 3., 3., 3., 1., 3., 3.],\n",
      "       [1., 1., 1., 1., 2., 2., 3., 2.],\n",
      "       [1., 1., 1., 1., 3., 1., 1., 1.],\n",
      "       [1., 2., 1., 1., 2., 1., 1., 2.],\n",
      "       [1., 1., 1., 1., 1., 3., 1., 2.],\n",
      "       [3., 1., 3., 3., 3., 3., 3., 3.],\n",
      "       [3., 3., 3., 3., 3., 3., 3., 1.],\n",
      "       [3., 3., 2., 3., 3., 3., 3., 3.],\n",
      "       [1., 1., 1., 1., 2., 2., 1., 2.],\n",
      "       [1., 1., 2., 2., 2., 2., 2., 2.],\n",
      "       [3., 3., 3., 3., 3., 1., 3., 3.],\n",
      "       [2., 3., 2., 3., 3., 3., 3., 3.],\n",
      "       [2., 2., 2., 2., 2., 2., 2., 2.],\n",
      "       [3., 3., 1., 3., 3., 3., 3., 3.],\n",
      "       [2., 1., 1., 1., 1., 2., 2., 2.],\n",
      "       [1., 1., 1., 1., 1., 1., 2., 2.],\n",
      "       [1., 3., 2., 3., 3., 3., 3., 3.],\n",
      "       [1., 1., 2., 3., 2., 2., 1., 1.],\n",
      "       [1., 3., 1., 1., 3., 2., 2., 3.],\n",
      "       [2., 2., 2., 3., 1., 3., 3., 3.],\n",
      "       [3., 3., 1., 3., 3., 1., 3., 3.],\n",
      "       [1., 1., 2., 3., 1., 1., 3., 3.],\n",
      "       [3., 3., 1., 3., 3., 2., 3., 3.],\n",
      "       [1., 3., 1., 3., 1., 3., 1., 2.],\n",
      "       [1., 1., 2., 1., 1., 1., 1., 1.],\n",
      "       [1., 2., 1., 3., 1., 3., 3., 3.],\n",
      "       [1., 1., 1., 1., 1., 2., 1., 2.],\n",
      "       [3., 2., 2., 3., 2., 3., 3., 3.],\n",
      "       [1., 3., 2., 3., 3., 3., 2., 2.],\n",
      "       [1., 2., 1., 3., 1., 2., 3., 3.],\n",
      "       [3., 1., 3., 3., 3., 3., 3., 3.],\n",
      "       [1., 2., 1., 1., 2., 1., 2., 2.],\n",
      "       [1., 2., 1., 1., 1., 1., 1., 1.],\n",
      "       [1., 1., 2., 3., 3., 3., 3., 3.],\n",
      "       [3., 1., 3., 3., 3., 1., 3., 3.],\n",
      "       [1., 1., 1., 3., 2., 3., 3., 3.],\n",
      "       [1., 1., 1., 3., 1., 1., 1., 3.],\n",
      "       [2., 3., 1., 3., 2., 3., 1., 2.],\n",
      "       [1., 3., 1., 3., 2., 1., 3., 3.],\n",
      "       [3., 2., 1., 3., 3., 3., 3., 2.]]), 6: array([[3., 1., 1., 3., 3., 3., 3., 3.],\n",
      "       [1., 1., 1., 1., 1., 1., 1., 2.],\n",
      "       [1., 3., 3., 3., 3., 3., 3., 3.],\n",
      "       [1., 1., 1., 1., 1., 1., 3., 2.],\n",
      "       [3., 3., 1., 3., 3., 3., 3., 3.],\n",
      "       [2., 2., 2., 3., 3., 3., 3., 3.],\n",
      "       [3., 1., 1., 3., 3., 3., 3., 3.],\n",
      "       [1., 1., 3., 3., 3., 1., 1., 1.],\n",
      "       [1., 1., 1., 1., 3., 1., 1., 1.],\n",
      "       [1., 1., 1., 2., 2., 2., 3., 3.],\n",
      "       [1., 1., 1., 1., 1., 3., 1., 3.],\n",
      "       [3., 3., 2., 3., 2., 2., 3., 3.],\n",
      "       [1., 1., 1., 1., 1., 1., 1., 1.],\n",
      "       [1., 1., 1., 1., 1., 1., 1., 1.],\n",
      "       [1., 2., 1., 3., 2., 3., 3., 3.],\n",
      "       [3., 3., 1., 3., 2., 2., 3., 3.],\n",
      "       [1., 3., 1., 2., 3., 2., 3., 3.],\n",
      "       [1., 2., 1., 1., 2., 1., 2., 2.],\n",
      "       [3., 2., 1., 3., 3., 3., 3., 3.],\n",
      "       [3., 3., 1., 3., 3., 3., 3., 3.],\n",
      "       [1., 1., 1., 1., 1., 1., 1., 1.],\n",
      "       [1., 2., 1., 1., 2., 3., 1., 2.],\n",
      "       [1., 3., 3., 3., 3., 3., 3., 3.],\n",
      "       [3., 3., 1., 3., 3., 3., 3., 3.],\n",
      "       [3., 3., 2., 3., 3., 1., 3., 3.],\n",
      "       [3., 1., 1., 3., 1., 1., 2., 3.],\n",
      "       [3., 3., 1., 3., 3., 3., 3., 3.],\n",
      "       [2., 3., 1., 1., 2., 1., 1., 2.],\n",
      "       [3., 3., 2., 3., 2., 3., 3., 3.],\n",
      "       [1., 1., 1., 3., 2., 2., 3., 3.],\n",
      "       [3., 1., 2., 3., 3., 3., 3., 3.],\n",
      "       [3., 3., 1., 3., 3., 2., 3., 3.],\n",
      "       [2., 3., 2., 3., 3., 3., 3., 3.],\n",
      "       [1., 2., 2., 3., 2., 3., 2., 2.],\n",
      "       [1., 2., 1., 1., 1., 1., 1., 1.],\n",
      "       [3., 1., 3., 3., 3., 3., 3., 3.],\n",
      "       [1., 1., 1., 3., 1., 3., 3., 3.],\n",
      "       [1., 2., 1., 1., 1., 1., 1., 1.],\n",
      "       [2., 2., 3., 3., 1., 3., 3., 3.],\n",
      "       [1., 1., 2., 3., 3., 2., 2., 2.],\n",
      "       [1., 1., 3., 1., 1., 1., 1., 1.],\n",
      "       [1., 1., 1., 3., 1., 2., 1., 3.],\n",
      "       [1., 2., 2., 1., 2., 3., 2., 2.],\n",
      "       [2., 3., 2., 3., 3., 3., 3., 3.],\n",
      "       [3., 2., 3., 3., 2., 3., 3., 3.],\n",
      "       [3., 3., 1., 3., 2., 3., 3., 3.],\n",
      "       [1., 1., 3., 1., 3., 1., 1., 1.],\n",
      "       [2., 2., 2., 2., 3., 3., 3., 3.],\n",
      "       [1., 1., 1., 2., 1., 2., 3., 2.],\n",
      "       [3., 3., 1., 3., 3., 3., 3., 3.],\n",
      "       [2., 2., 1., 3., 3., 3., 3., 3.],\n",
      "       [1., 3., 2., 3., 2., 3., 3., 2.],\n",
      "       [3., 3., 1., 3., 3., 3., 3., 3.],\n",
      "       [1., 2., 1., 2., 2., 1., 1., 2.],\n",
      "       [1., 1., 1., 3., 1., 2., 1., 3.],\n",
      "       [1., 3., 3., 3., 1., 3., 3., 3.],\n",
      "       [1., 1., 1., 3., 3., 1., 3., 3.],\n",
      "       [1., 1., 1., 1., 1., 1., 1., 1.],\n",
      "       [2., 2., 2., 3., 2., 2., 3., 3.],\n",
      "       [1., 1., 2., 2., 2., 2., 2., 2.],\n",
      "       [3., 3., 3., 3., 3., 1., 3., 3.],\n",
      "       [3., 3., 3., 3., 3., 3., 3., 3.],\n",
      "       [1., 1., 2., 3., 1., 3., 3., 1.]])}\n"
     ]
    }
   ],
   "source": [
    "\n",
    "ord_list_of_attributes = list_of_attributes - {'ethnicity_1', 'gender_1', 'hometown_1', 'age_1'}\n",
    "print(ord_list_of_attributes)\n",
    "\n",
    "#creating table of attribute values\n",
    "ord_attributes = dict((i, 0) for i in range(1,7))\n",
    "for i in range(1,7):\n",
    "    ord_attributes[i] = np.zeros([len(data[i].nodes), len(ord_list_of_attributes)])\n",
    "\n",
    "for sem in range(1,7):\n",
    "    for i, node in enumerate(data[sem].nodes()):\n",
    "        for j, attribute in enumerate(ord_list_of_attributes):\n",
    "            ord_attributes[sem][i,j] = data[sem].nodes[node][attribute]\n",
    "print(ord_attributes)"
   ]
  },
  {
   "cell_type": "code",
   "execution_count": 13,
   "id": "greater-greenhouse",
   "metadata": {},
   "outputs": [
    {
     "name": "stdout",
     "output_type": "stream",
     "text": [
      "[0.47038187 0.11940998 0.10246659 0.08957861 0.07116288 0.06436994\n",
      " 0.05160825 0.03102189]\n",
      "[17.11639876  8.62397378  7.98873919  7.46946095  6.65754145  6.33182142\n",
      "  5.66952482  4.39563096]\n"
     ]
    }
   ],
   "source": [
    "from sklearn.decomposition import PCA\n",
    "\n",
    "pca = PCA()\n",
    "pca.fit(ord_attributes[1])\n",
    "print(pca.explained_variance_ratio_)\n",
    "print(pca.singular_values_)"
   ]
  },
  {
   "cell_type": "code",
   "execution_count": 14,
   "id": "better-applicant",
   "metadata": {},
   "outputs": [
    {
     "data": {
      "text/plain": [
       "array([[-0.41745007, -0.3241474 , -0.12955624, -0.41769261, -0.24968005,\n",
       "        -0.27084   , -0.48425964, -0.39901144],\n",
       "       [ 0.07033197, -0.43714941,  0.65333018,  0.23690543,  0.46844261,\n",
       "        -0.22128266, -0.09174305, -0.2101619 ],\n",
       "       [-0.13639703,  0.10379584, -0.07401475, -0.05748098,  0.42464514,\n",
       "         0.77893658, -0.28540519, -0.30548031],\n",
       "       [-0.2445525 , -0.37576774, -0.52764789, -0.08070223,  0.57800543,\n",
       "        -0.16178306,  0.17738585,  0.34976814],\n",
       "       [ 0.67667811,  0.17894791, -0.08275739, -0.58494095,  0.29847934,\n",
       "        -0.2090991 , -0.10553723, -0.13087866],\n",
       "       [-0.06968337,  0.476098  , -0.31818028,  0.49896288,  0.23693772,\n",
       "        -0.41560726, -0.16015638, -0.40466446],\n",
       "       [ 0.41052265, -0.5095246 , -0.37499853,  0.25563998, -0.2217284 ,\n",
       "         0.16193395,  0.27344745, -0.46445726],\n",
       "       [ 0.33331801, -0.18315813, -0.15418497,  0.32112321, -0.09702961,\n",
       "         0.04570879, -0.72978919,  0.42937486]])"
      ]
     },
     "execution_count": 14,
     "metadata": {},
     "output_type": "execute_result"
    }
   ],
   "source": [
    "pca.components_"
   ]
  },
  {
   "cell_type": "markdown",
   "id": "selective-architecture",
   "metadata": {},
   "source": [
    "# Checking correlation for PCA transformed variables"
   ]
  },
  {
   "cell_type": "code",
   "execution_count": 15,
   "id": "juvenile-responsibility",
   "metadata": {},
   "outputs": [],
   "source": [
    "dcor_attributes = dict((i, 0) for i in range(1,7))\n",
    "\n",
    "dcor_attributes = dict((j, np.array([np.sum(pca.components_*ord_attributes[j][i],1) for i in range(0,len(ord_attributes[j]))])) for j in range(1,7))"
   ]
  },
  {
   "cell_type": "code",
   "execution_count": 16,
   "id": "fleet-loading",
   "metadata": {},
   "outputs": [],
   "source": [
    "def get_transformed_attributes(agents, pca_comp = pca.components_):\n",
    "    agents = np.array(agents)\n",
    "    if not hasattr(agents,  \"__len__\"):\n",
    "        agents = [agents]\n",
    "    one_ag = False\n",
    "    if hasattr(agents,  \"shape\"):\n",
    "        if len(agents.shape) == 1:\n",
    "            agents = [agents]\n",
    "            one_ag = True\n",
    "    \n",
    "    transf = np.array([np.sum(pca.components_*agents[i],1) for i in range(0,len(agents))])\n",
    "    \n",
    "    if one_ag:\n",
    "        transf = transf[0]\n",
    "    return transf"
   ]
  },
  {
   "cell_type": "code",
   "execution_count": 17,
   "id": "amateur-organic",
   "metadata": {},
   "outputs": [
    {
     "data": {
      "text/plain": [
       "array([-2.69263746,  0.46867315,  0.4485993 , -0.285294  ,  0.04089202,\n",
       "       -0.15629314, -0.46916477, -0.03463704])"
      ]
     },
     "execution_count": 17,
     "metadata": {},
     "output_type": "execute_result"
    }
   ],
   "source": [
    "get_transformed_attributes(np.ones(8))"
   ]
  },
  {
   "cell_type": "code",
   "execution_count": 18,
   "id": "racial-terminal",
   "metadata": {},
   "outputs": [
    {
     "data": {
      "text/plain": [
       "((98, 8),)"
      ]
     },
     "execution_count": 18,
     "metadata": {},
     "output_type": "execute_result"
    }
   ],
   "source": [
    "dcor_attributes[1].shape, "
   ]
  },
  {
   "cell_type": "code",
   "execution_count": 19,
   "id": "electoral-adaptation",
   "metadata": {},
   "outputs": [],
   "source": [
    "spr_cor, spr_pv = stats.spearmanr(dcor_attributes[1], axis=0)"
   ]
  },
  {
   "cell_type": "code",
   "execution_count": 20,
   "id": "willing-pittsburgh",
   "metadata": {},
   "outputs": [
    {
     "name": "stdout",
     "output_type": "stream",
     "text": [
      "[[ 1.    -0.032 -0.089  0.036 -0.048 -0.07   0.005 -0.057]\n",
      " [-0.032  1.    -0.042  0.039  0.013  0.058 -0.02  -0.021]\n",
      " [-0.089 -0.042  1.    -0.004  0.037 -0.019  0.073 -0.047]\n",
      " [ 0.036  0.039 -0.004  1.     0.042  0.033  0.022 -0.006]\n",
      " [-0.048  0.013  0.037  0.042  1.     0.115 -0.079 -0.045]\n",
      " [-0.07   0.058 -0.019  0.033  0.115  1.    -0.04  -0.003]\n",
      " [ 0.005 -0.02   0.073  0.022 -0.079 -0.04   1.     0.136]\n",
      " [-0.057 -0.021 -0.047 -0.006 -0.045 -0.003  0.136  1.   ]]\n",
      "[[0.    0.751 0.385 0.727 0.636 0.491 0.959 0.577]\n",
      " [0.751 0.    0.682 0.707 0.9   0.568 0.847 0.839]\n",
      " [0.385 0.682 0.    0.967 0.717 0.852 0.472 0.645]\n",
      " [0.727 0.707 0.967 0.    0.68  0.749 0.829 0.955]\n",
      " [0.636 0.9   0.717 0.68  0.    0.26  0.441 0.659]\n",
      " [0.491 0.568 0.852 0.749 0.26  0.    0.693 0.975]\n",
      " [0.959 0.847 0.472 0.829 0.441 0.693 0.    0.183]\n",
      " [0.577 0.839 0.645 0.955 0.659 0.975 0.183 0.   ]]\n"
     ]
    }
   ],
   "source": [
    "np.set_printoptions(precision=3)\n",
    "print(spr_cor)\n",
    "print(spr_pv)"
   ]
  },
  {
   "cell_type": "markdown",
   "id": "administrative-timer",
   "metadata": {},
   "source": [
    "Using PCA variables show that they are decorrelated. So maybe we can use them to calculate polarities, triads etc. \n",
    "But as to calc each new attribute we get all old attributes with certain coefficients, won't the distance just be sum of coefficients for given old attribute times this attribute value?"
   ]
  },
  {
   "cell_type": "markdown",
   "id": "cardiac-advocacy",
   "metadata": {},
   "source": [
    "## Max difference of new attributes"
   ]
  },
  {
   "cell_type": "code",
   "execution_count": 21,
   "id": "affecting-tablet",
   "metadata": {},
   "outputs": [],
   "source": [
    "def calc_distance(agent1, agent2, scale = 1):\n",
    "    return np.sum(np.abs(agent1-agent2)) / len(agent1) / scale\n",
    "\n",
    "def calc_distances(agents, scale = 1):\n",
    "    N, A = agents.shape\n",
    "    \n",
    "    distances = np.zeros([N,N])\n",
    "    \n",
    "    for i in range(0,N):\n",
    "        for j in range(i+1,N):\n",
    "            distances[i,j] = calc_distance(agents[i], agents[j], scale)\n",
    "            distances[j,i] = distances[i,j]\n",
    "    return distances\n"
   ]
  },
  {
   "cell_type": "code",
   "execution_count": 22,
   "id": "heated-winning",
   "metadata": {},
   "outputs": [
    {
     "data": {
      "text/plain": [
       "0.6731593640729354"
      ]
     },
     "execution_count": 22,
     "metadata": {},
     "output_type": "execute_result"
    }
   ],
   "source": [
    "max_dif = abs(np.sum([3,3,3,3,3,3,3,3] * pca.components_[0]) - np.sum(np.ones(8) * pca.components_[0]))/8\n",
    "min_dif = 0\n",
    "max_dif"
   ]
  },
  {
   "cell_type": "code",
   "execution_count": 23,
   "id": "geographic-dealer",
   "metadata": {},
   "outputs": [
    {
     "data": {
      "text/plain": [
       "[-0.6731593640729354,\n",
       " 0.11716828740273678,\n",
       " 0.11214982538572452,\n",
       " -0.07132349966753429,\n",
       " 0.01022300533199887,\n",
       " -0.03907328540479936,\n",
       " -0.11729119229619525,\n",
       " -0.00865926027737491]"
      ]
     },
     "execution_count": 23,
     "metadata": {},
     "output_type": "execute_result"
    }
   ],
   "source": [
    "max_difs = [(np.sum(np.ones(8)*3 * pca.components_[i]) - np.sum(np.ones(8) * pca.components_[i]))/8 for i in range(0, len(pca.components_))]\n",
    "max_difs"
   ]
  },
  {
   "cell_type": "code",
   "execution_count": 24,
   "id": "mathematical-experiment",
   "metadata": {},
   "outputs": [
    {
     "data": {
      "text/plain": [
       "1.1490477198392992"
      ]
     },
     "execution_count": 24,
     "metadata": {},
     "output_type": "execute_result"
    }
   ],
   "source": [
    "sum(np.abs(max_difs))"
   ]
  },
  {
   "cell_type": "code",
   "execution_count": 25,
   "id": "industrial-greensboro",
   "metadata": {},
   "outputs": [
    {
     "data": {
      "text/plain": [
       "([0.6731593640729354,\n",
       "  0.5973368021543238,\n",
       "  0.5415389513500879,\n",
       "  0.6239032129798602,\n",
       "  0.5668296735029927,\n",
       "  0.6450725898637424,\n",
       "  0.6680632035555414,\n",
       "  0.5734216963252283],\n",
       " 4.889325493804712)"
      ]
     },
     "execution_count": 25,
     "metadata": {},
     "output_type": "execute_result"
    }
   ],
   "source": [
    "max_difs2 = [(np.sum(np.abs(np.ones(8)*3 * pca.components_[i])) - np.sum(np.abs(np.ones(8) * pca.components_[i])))/8 for i in range(0, len(pca.components_))]\n",
    "max_difs2, sum(max_difs2)"
   ]
  },
  {
   "cell_type": "code",
   "execution_count": 26,
   "id": "celtic-absence",
   "metadata": {},
   "outputs": [
    {
     "data": {
      "text/plain": [
       "(1.9498109791002054, [(1, 3, 1, 3, 3, 3, 1, 3), (3, 1, 3, 1, 1, 1, 3, 1)])"
      ]
     },
     "execution_count": 26,
     "metadata": {},
     "output_type": "execute_result"
    }
   ],
   "source": [
    "import itertools\n",
    "\n",
    "vals = [1, 3]\n",
    "\n",
    "max_dif3 = 0\n",
    "max_vals = []\n",
    "\n",
    "repeat = 8\n",
    "\n",
    "# agents2 = [np.ones(repeat)]\n",
    "# agents2 = get_transformed_attributes(agents2)\n",
    "for agent1 in itertools.product(vals, repeat = repeat):\n",
    "    tr_agent1 = get_transformed_attributes(agent1)\n",
    "#     for agent2 in agents2: \n",
    "    for agent2 in itertools.product(vals, repeat = repeat):\n",
    "        tr_agent2 = get_transformed_attributes(agent2)\n",
    "        dif = calc_distance(tr_agent1, tr_agent2)\n",
    "        \n",
    "        if dif > max_dif3:\n",
    "            max_dif3 = dif\n",
    "            max_vals = [agent1, agent2]\n",
    "max_dif3, max_vals"
   ]
  },
  {
   "cell_type": "code",
   "execution_count": 27,
   "id": "broken-potential",
   "metadata": {},
   "outputs": [],
   "source": [
    "# def calc_max_dif()"
   ]
  },
  {
   "cell_type": "code",
   "execution_count": 28,
   "id": "wrong-sight",
   "metadata": {},
   "outputs": [
    {
     "data": {
      "text/plain": [
       "1.1490477198392994"
      ]
     },
     "execution_count": 28,
     "metadata": {},
     "output_type": "execute_result"
    }
   ],
   "source": [
    "calc_distance(get_transformed_attributes(np.ones(8)*3), get_transformed_attributes(np.ones(8)))"
   ]
  },
  {
   "cell_type": "code",
   "execution_count": 30,
   "id": "fantastic-april",
   "metadata": {},
   "outputs": [
    {
     "data": {
      "text/plain": [
       "(array([-8.078,  1.406,  1.346, -0.856,  0.123, -0.469, -1.407, -0.104]),\n",
       " (3, 3, 3, 3, 3, 3, 3, 3),\n",
       " array([-6.015,  0.142,  2.337,  0.334, -0.854,  0.627, -2.025,  0.997]))"
      ]
     },
     "execution_count": 30,
     "metadata": {},
     "output_type": "execute_result"
    }
   ],
   "source": [
    "get_transformed_attributes(agent1), agent1, get_transformed_attributes(max_vals[0])"
   ]
  },
  {
   "cell_type": "code",
   "execution_count": 31,
   "id": "sorted-stadium",
   "metadata": {},
   "outputs": [
    {
     "data": {
      "text/plain": [
       "(-0.6731593640729352, 8)"
      ]
     },
     "execution_count": 31,
     "metadata": {},
     "output_type": "execute_result"
    }
   ],
   "source": [
    "sum(pca.components_[0]*2)/8, len(get_transformed_attributes(np.ones(8)*3))"
   ]
  },
  {
   "cell_type": "code",
   "execution_count": null,
   "id": "guided-indication",
   "metadata": {},
   "outputs": [],
   "source": []
  },
  {
   "cell_type": "code",
   "execution_count": 24,
   "id": "fuzzy-condition",
   "metadata": {},
   "outputs": [
    {
     "data": {
      "text/plain": [
       "(array([0.157, 0.244, 0.487, 1.19 , 2.451, 3.277, 2.226, 0.785, 0.102,\n",
       "        0.009]),\n",
       " array([0.   , 0.092, 0.183, 0.275, 0.366, 0.458, 0.549, 0.641, 0.732,\n",
       "        0.824, 0.915]),\n",
       " <BarContainer object of 10 artists>)"
      ]
     },
     "execution_count": 24,
     "metadata": {},
     "output_type": "execute_result"
    },
    {
     "data": {
      "image/png": "[encoded data removed]",
      "text/plain": [
       "<Figure size 432x288 with 1 Axes>"
      ]
     },
     "metadata": {
      "needs_background": "light"
     },
     "output_type": "display_data"
    }
   ],
   "source": [
    "dists = calc_distances(dcor_attributes[1], max_dif3)\n",
    "\n",
    "plt.hist(dists.flatten(), density=True)"
   ]
  },
  {
   "cell_type": "code",
   "execution_count": 33,
   "id": "optional-salmon",
   "metadata": {},
   "outputs": [
    {
     "data": {
      "text/plain": [
       "((array([53, 79, 94, 94]), array([94, 94, 53, 79])), 0.9150660566622935)"
      ]
     },
     "execution_count": 33,
     "metadata": {},
     "output_type": "execute_result"
    }
   ],
   "source": [
    "np.where(np.max(dists) == dists), np.max(dists)"
   ]
  },
  {
   "cell_type": "code",
   "execution_count": 34,
   "id": "sapphire-decline",
   "metadata": {},
   "outputs": [
    {
     "data": {
      "text/plain": [
       "1.9498109791002052"
      ]
     },
     "execution_count": 34,
     "metadata": {},
     "output_type": "execute_result"
    }
   ],
   "source": [
    "transf_max_vals = get_transformed_attributes(max_vals)\n",
    "calc_distance(transf_max_vals[0], transf_max_vals[1])"
   ]
  },
  {
   "cell_type": "code",
   "execution_count": 35,
   "id": "expensive-initial",
   "metadata": {},
   "outputs": [
    {
     "data": {
      "text/plain": [
       "(array([[-6.015,  0.142,  2.337,  0.334, -0.854,  0.627, -2.025,  0.997],\n",
       "        [-4.755,  1.733, -0.543, -1.475,  1.018, -1.252,  0.149, -1.136]]),\n",
       " [(1, 1, 3, 3, 1, 3, 3, 3), (3, 3, 1, 1, 3, 1, 1, 1)])"
      ]
     },
     "execution_count": 35,
     "metadata": {},
     "output_type": "execute_result"
    }
   ],
   "source": [
    "transf_max_vals, max_vals"
   ]
  },
  {
   "cell_type": "code",
   "execution_count": 36,
   "id": "timely-deficit",
   "metadata": {},
   "outputs": [
    {
     "data": {
      "text/plain": [
       "(array([[1., 1., 3., 1., 1., 1., 1., 1.],\n",
       "        [1., 1., 3., 1., 1., 1., 1., 1.],\n",
       "        [3., 3., 1., 3., 3., 3., 3., 3.]]),\n",
       " {'abortion_',\n",
       "  'deathpen_',\n",
       "  'euthanasia_',\n",
       "  'gaymarriage_',\n",
       "  'homosexual_',\n",
       "  'marijuana_',\n",
       "  'political_',\n",
       "  'premaritalsex_'})"
      ]
     },
     "execution_count": 36,
     "metadata": {},
     "output_type": "execute_result"
    }
   ],
   "source": [
    "ord_attributes[1][[53,79,94]], ord_list_of_attributes"
   ]
  },
  {
   "cell_type": "code",
   "execution_count": 37,
   "id": "early-address",
   "metadata": {},
   "outputs": [
    {
     "data": {
      "text/plain": [
       "array([[ 0.,  1.,  1., ..., -1., -1.,  1.],\n",
       "       [ 1.,  0., -1., ...,  1.,  1.,  1.],\n",
       "       [ 1., -1.,  0., ..., -1., -1.,  1.],\n",
       "       ...,\n",
       "       [-1.,  1., -1., ...,  0.,  1., -1.],\n",
       "       [-1.,  1., -1., ...,  1.,  0.,  1.],\n",
       "       [ 1.,  1.,  1., ..., -1.,  1.,  0.]])"
      ]
     },
     "execution_count": 37,
     "metadata": {},
     "output_type": "execute_result"
    }
   ],
   "source": [
    "(dists <= 0.5)*2-1-np.eye(dists.shape[0])"
   ]
  },
  {
   "cell_type": "code",
   "execution_count": 25,
   "id": "cultural-latex",
   "metadata": {},
   "outputs": [],
   "source": [
    "def calc_link_polarity2(agent1, agent2, th, attr_dif = max_dif3):\n",
    "    return calc_distance(agent1, agent2, attr_dif) <= th\n",
    "\n",
    "def calc_link_polarities2(agents, th, attr_dif = max_dif3):\n",
    "    N, A = agents.shape\n",
    "    \n",
    "    polarities = (calc_distances(agents, attr_dif) <= th)*2 - 1 - np.eye(N)\n",
    "    \n",
    "    return polarities\n",
    "\n",
    "def balanced_triad_density(polarities):\n",
    "    N = polarities.shape[0]\n",
    "    return (np.sum(np.matmul(polarities,polarities) * polarities) / 6 / (N*(N-1)*(N-2)/6) + 1)/2"
   ]
  },
  {
   "cell_type": "code",
   "execution_count": 26,
   "id": "interpreted-bahrain",
   "metadata": {},
   "outputs": [
    {
     "data": {
      "text/plain": [
       "(0.6168604039553967, 0.7293682937092363)"
      ]
     },
     "execution_count": 26,
     "metadata": {},
     "output_type": "execute_result"
    }
   ],
   "source": [
    "polarities = calc_link_polarities2(dcor_attributes[1], 0.5)\n",
    "pol2 = calc_link_polarities2(ord_attributes[1], 0.5, 2)\n",
    "balanced_triad_density(polarities), balanced_triad_density(pol2)"
   ]
  },
  {
   "cell_type": "code",
   "execution_count": 27,
   "id": "raised-mitchell",
   "metadata": {},
   "outputs": [],
   "source": [
    "def balanced_triad_density_network(polarities, triads):\n",
    "    T = len(triads)\n",
    "    dens = 0.\n",
    "    for triad in triads:\n",
    "        i, j, k = triad\n",
    "        if polarities[i,j]*polarities[i,k]*polarities[k,j] >= 0:\n",
    "            dens = dens + 1\n",
    "    dens = dens / T\n",
    "    return dens\n",
    "\n",
    "def get_triads_polarity(polarities, triads):\n",
    "    Ts = len(triads)\n",
    "    \n",
    "    t_pol = np.zeros(Ts) \n",
    "    t_pol_type = np.zeros(Ts)\n",
    "    \n",
    "    for t in range(0,Ts):\n",
    "        i, j, k = triads[t]\n",
    "        pols = [polarities[i,j], polarities[i,k], polarities[k,j]]\n",
    "        \n",
    "        t_pol_type[t] = 3-(sum(pols)+3)/2\n",
    "        \n",
    "        if polarities[i,j]*polarities[i,k]*polarities[k,j] >= 0:\n",
    "            t_pol[t] = 1\n",
    "        else:\n",
    "            t_pol[t] = -1\n",
    "    \n",
    "    return t_pol, t_pol_type\n",
    "\n",
    "def count_triads_types(polarities, triads):\n",
    "    t_pol, t_pol_type = get_triads_polarity(polarities, triads)\n",
    "    \n",
    "    t2 = np.array(t_pol_type)\n",
    "    triads_type = [sum(t2 == i) for i in range(0,4)]\n",
    "    \n",
    "    return triads_type\n"
   ]
  },
  {
   "cell_type": "code",
   "execution_count": 28,
   "id": "official-objective",
   "metadata": {},
   "outputs": [],
   "source": [
    "def get_triads(net):\n",
    "    A = nx.adjacency_matrix(net).todense() \n",
    "\n",
    "    N = A.shape[0]\n",
    "\n",
    "    triads = []\n",
    "\n",
    "    for i in range(0,N):\n",
    "        for j in range(i+1,N):\n",
    "            if A[i,j] > 0:\n",
    "                for k in range(j+1,N):\n",
    "                    if A[i,k] > 0 and A[j,k] > 0:\n",
    "                        triads.append((i,j,k))\n",
    "    \n",
    "    return triads\n",
    "\n",
    "def get_triads_strength(triads, net):\n",
    "    A = nx.adjacency_matrix(net).todense() \n",
    "\n",
    "    N = A.shape[0]\n",
    "    Ts = len(triads)\n",
    "    \n",
    "    s_mul = np.zeros(Ts) #multiplicative strength\n",
    "    s_add = np.zeros(Ts) #additive strength\n",
    "    \n",
    "    for t in range(0,Ts):\n",
    "        i, j, k = triads[t]\n",
    "        s_mul[t] = A[i,j] * A[i,k] * A[j,k]\n",
    "        s_add[t] = A[i,j] + A[i,k] + A[j,k]\n",
    "    \n",
    "    return s_mul, s_add"
   ]
  },
  {
   "cell_type": "code",
   "execution_count": 29,
   "id": "outside-interstate",
   "metadata": {},
   "outputs": [
    {
     "data": {
      "text/plain": [
       "(0.044444444444444446, 0.012505259835893123)"
      ]
     },
     "execution_count": 29,
     "metadata": {},
     "output_type": "execute_result"
    }
   ],
   "source": [
    "sem = 1\n",
    "triads = get_triads(data[sem])\n",
    "\n",
    "polarities = calc_link_polarities2(dcor_attributes[sem], 0.1)\n",
    "\n",
    "balanced_triad_density_network(polarities, triads), balanced_triad_density(polarities)"
   ]
  },
  {
   "cell_type": "code",
   "execution_count": 43,
   "id": "sitting-posting",
   "metadata": {},
   "outputs": [],
   "source": [
    "sem = 4\n",
    "triads = get_triads(data[sem])\n",
    "\n",
    "thetas = np.linspace(0,1,101)\n",
    "\n",
    "bals = np.zeros(len(thetas))\n",
    "all_bals = np.zeros(len(thetas))\n",
    "for i, theta in enumerate(thetas):\n",
    "    polarities = calc_link_polarities2(dcor_attributes[sem], theta)\n",
    "    bals[i] = balanced_triad_density_network(polarities, triads)\n",
    "    all_bals[i] = balanced_triad_density(polarities)\n"
   ]
  },
  {
   "cell_type": "code",
   "execution_count": 44,
   "id": "informal-batch",
   "metadata": {},
   "outputs": [
    {
     "data": {
      "text/plain": [
       "Text(0, 0.5, 'density of balanced triads')"
      ]
     },
     "execution_count": 44,
     "metadata": {},
     "output_type": "execute_result"
    },
    {
     "data": {
      "image/png": "[encoded data removed]",
      "text/plain": [
       "<Figure size 432x288 with 1 Axes>"
      ]
     },
     "metadata": {
      "needs_background": "light"
     },
     "output_type": "display_data"
    }
   ],
   "source": [
    "plt.plot(thetas, bals, thetas, all_bals)\n",
    "plt.legend([\"network\", \"all\"])\n",
    "plt.title(\"Comparing HBT in triads and all pairs of agents\")\n",
    "plt.xlabel(\"theta\")\n",
    "plt.ylabel(\"density of balanced triads\")"
   ]
  },
  {
   "cell_type": "markdown",
   "id": "conservative-support",
   "metadata": {},
   "source": [
    "# Randomizing triads in the whole network"
   ]
  },
  {
   "cell_type": "code",
   "execution_count": 30,
   "id": "herbal-interval",
   "metadata": {},
   "outputs": [],
   "source": [
    "def randomize_all_attributes(attr, randomized_agents = []):\n",
    "    N, A = attr.shape\n",
    "    \n",
    "    if len(randomized_agents) == 0:\n",
    "        randomized_agents = list(range(0,N))\n",
    "    \n",
    "    attr_rand = np.copy(attr)\n",
    "    \n",
    "    attr_copy = attr_rand[randomized_agents]\n",
    "    \n",
    "    np.random.shuffle(attr_copy)\n",
    "    \n",
    "    attr_rand[randomized_agents] = attr_copy\n",
    "    \n",
    "    return attr_rand\n",
    "\n",
    "def randomize_attribute_sets(ord_attributes):\n",
    "    rand_ord_attributes = dict((i, 0) for i in range(1,7))\n",
    "    \n",
    "    for sem in range(1,7):\n",
    "        rand_ord_attributes[sem] = randomize_all_attributes(ord_attributes[sem])\n",
    "    \n",
    "    return rand_ord_attributes\n",
    "\n",
    "def compare_bal_triads(triads, agents, th, attr_dif, M, randomized_agents = []):\n",
    "    \"\"\"\n",
    "    triads - list of sets of node ids forming a triad\n",
    "    agents - array of vectors of agent attributes\n",
    "    th - threshold used\n",
    "    attr_dif - max difference between attributes\n",
    "    M - number of times to repeat randomization\n",
    "    \"\"\"\n",
    "    polarities = calc_link_polarities2(agents, th, attr_dif)\n",
    "    bal_dens = balanced_triad_density_network(polarities, triads)\n",
    "    \n",
    "    bal_dens_rands = np.zeros(M)\n",
    "    \n",
    "    for i in range(0,M):\n",
    "        agents_rand = randomize_all_attributes(agents, randomized_agents)\n",
    "        polarities_rand = calc_link_polarities2(agents_rand, th, attr_dif)\n",
    "        bal_dens_rands[i] = balanced_triad_density_network(polarities_rand, triads)\n",
    "        \n",
    "    pval = np.sum(bal_dens_rands > bal_dens)\n",
    "    \n",
    "    return bal_dens_rands, bal_dens, pval\n",
    "\n",
    "def compare_networks(data, th, attr_dif, M):\n",
    "    pvals = np.zeros(6)\n",
    "    vals = np.zeros(6)\n",
    "    stds = np.zeros(6)\n",
    "    difs = np.zeros(6)\n",
    "    \n",
    "    for n in range(1,7):\n",
    "#         print(n)\n",
    "        net = data[n]\n",
    "        triads = get_triads(net)\n",
    "        agents = dcor_attributes[n]\n",
    "        \n",
    "        bal_dens_rands, bal_dens, pval = compare_bal_triads(triads, agents, th, attr_dif, M)\n",
    "        pvals[n-1] = pval\n",
    "        vals[n - 1] = bal_dens\n",
    "        difs[n-1] = np.mean(bal_dens - bal_dens_rands)\n",
    "        stds[n-1] = np.std(difs)\n",
    "    return pvals, vals, difs, stds\n",
    "\n",
    "def compare_weighted_network(net, agents, th, attr_dif, M):\n",
    "    polarities = calc_link_polarities2(agents, th, attr_dif)\n",
    "    U_data, pval_data = compare_weighted_links(net, polarities)\n",
    "    \n",
    "    U_rands = np.zeros(M)\n",
    "    pval_rands = np.zeros(M)\n",
    "    \n",
    "    for i in range(0,M):\n",
    "        agents_rand = randomize_all_attributes(agents)\n",
    "        polarities_rand = calc_link_polarities2(agents_rand, th, attr_dif)\n",
    "        U_rands[i], pval_rands[i] = compare_weighted_links(net, polarities_rand)\n",
    "    \n",
    "    pval_U = np.sum(U_rands >= U_data)\n",
    "    pval_pval = np.sum(pval_rands <= pval_data)\n",
    "    \n",
    "    return U_rands, pval_rands, pval_U, pval_pval\n",
    "\n",
    "def compare_weighted_networks(data, ord_attributes, th, attr_dif, M):\n",
    "    U_rands = np.zeros(M)\n",
    "    pval_rands = np.zeros(M)\n",
    "    \n",
    "    U_data, pval_data = compare_all_weighted_links(data, ord_attributes, th, attr_dif)\n",
    "    \n",
    "    for i in range(0,M):\n",
    "        rand_ord_attributes = randomize_attribute_sets(ord_attributes)\n",
    "        U_rands[i], pval_rands[i] = compare_all_weighted_links(data, rand_ord_attributes, th, attr_dif)\n",
    "    \n",
    "    pval_U = np.sum(U_rands >= U_data)\n",
    "    pval_pval = np.sum(pval_rands <= pval_data)\n",
    "    \n",
    "    return U_rands, pval_rands, pval_U, pval_pval"
   ]
  },
  {
   "cell_type": "code",
   "execution_count": 31,
   "id": "short-pursuit",
   "metadata": {},
   "outputs": [],
   "source": [
    "bal_dens_rands, bal_dens, pval = compare_bal_triads(triads, dcor_attributes[sem], 0.5, 2, 100)"
   ]
  },
  {
   "cell_type": "code",
   "execution_count": 32,
   "id": "italic-stereo",
   "metadata": {},
   "outputs": [
    {
     "data": {
      "text/plain": [
       "(20, -0.059111111111111114, 20)"
      ]
     },
     "execution_count": 32,
     "metadata": {},
     "output_type": "execute_result"
    }
   ],
   "source": [
    "np.sum(bal_dens_rands > bal_dens), np.mean(bal_dens_rands) - bal_dens, pval"
   ]
  },
  {
   "cell_type": "code",
   "execution_count": 71,
   "id": "medium-spread",
   "metadata": {},
   "outputs": [],
   "source": [
    "sem = 1\n",
    "triads = get_triads(data[sem])\n",
    "\n",
    "thetas = np.linspace(0,1,15)\n",
    "\n",
    "bals = np.zeros(len(thetas))\n",
    "rand_bals_mean = np.zeros(len(thetas))\n",
    "rand_bals_std = np.zeros(len(thetas))\n",
    "pvals = np.zeros(len(thetas))\n",
    "for i, theta in enumerate(thetas):\n",
    "    rand_bal, bal, pval = compare_bal_triads(triads, dcor_attributes[sem], theta, max_dif3, 100)\n",
    "    rand_bals_mean[i] = np.mean(rand_bal)\n",
    "    rand_bals_std[i] = np.std(rand_bal)\n",
    "    bals[i] = bal\n",
    "    pvals[i] = pval\n"
   ]
  },
  {
   "cell_type": "code",
   "execution_count": 72,
   "id": "joined-eating",
   "metadata": {},
   "outputs": [
    {
     "data": {
      "text/plain": [
       "Text(0, 0.5, 'density of balanced triads')"
      ]
     },
     "execution_count": 72,
     "metadata": {},
     "output_type": "execute_result"
    },
    {
     "data": {
      "image/png": "[encoded data removed]",
      "text/plain": [
       "<Figure size 432x288 with 1 Axes>"
      ]
     },
     "metadata": {
      "needs_background": "light"
     },
     "output_type": "display_data"
    }
   ],
   "source": [
    "plt.plot(thetas, bals, 'ko')\n",
    "# plt.plot(thetas, rand_bals_mean)\n",
    "plt.fill_between(thetas, rand_bals_mean-rand_bals_std, rand_bals_mean+rand_bals_std)\n",
    "plt.legend([\"network\", \"mean\"])\n",
    "plt.title(\"Comparing HBT in triads and randomized all agents' sets of attributes\")\n",
    "plt.xlabel(\"theta\")\n",
    "plt.ylabel(\"density of balanced triads\")"
   ]
  },
  {
   "cell_type": "code",
   "execution_count": 73,
   "id": "possible-robin",
   "metadata": {},
   "outputs": [
    {
     "data": {
      "text/plain": [
       "(array([ 7.,  6.,  4., 54., 34., 66., 60., 43., 16., 14., 74.,  0.,  0.,\n",
       "         0.,  0.]),\n",
       " 1.9498109791002056)"
      ]
     },
     "execution_count": 73,
     "metadata": {},
     "output_type": "execute_result"
    }
   ],
   "source": [
    "pvals, max_dif3"
   ]
  },
  {
   "cell_type": "code",
   "execution_count": 74,
   "id": "complicated-synthetic",
   "metadata": {},
   "outputs": [
    {
     "data": {
      "image/png": "[encoded data removed]",
      "text/plain": [
       "<Figure size 1440x720 with 6 Axes>"
      ]
     },
     "metadata": {
      "needs_background": "light"
     },
     "output_type": "display_data"
    }
   ],
   "source": [
    "dim1 = 2\n",
    "dim2 = 3\n",
    "thetas = np.linspace(0,1,11)\n",
    "pvals = dict((i, np.zeros(len(thetas))) for i in range(1,7))\n",
    "\n",
    "fig, axs = plt.subplots(dim1, dim2)\n",
    "fig.set_size_inches(20,10)\n",
    "fig.suptitle(\"Comparing HBT in triads and randomized all agents' sets of attributes\")\n",
    "\n",
    "semm = 0\n",
    "for a1 in range(0,dim1):\n",
    "    for a2 in range(0,dim2):\n",
    "        semm = semm + 1\n",
    "        triads = get_triads(data[semm])\n",
    "\n",
    "        bals = np.zeros(len(thetas))\n",
    "        rand_bals_mean = np.zeros(len(thetas))\n",
    "        rand_bals_std = np.zeros(len(thetas))\n",
    "        \n",
    "        for i, theta in enumerate(thetas):\n",
    "            rand_bal, bal, pval = compare_bal_triads(triads, dcor_attributes[semm], theta, max_dif3, 100)\n",
    "            rand_bals_mean[i] = np.mean(rand_bal)\n",
    "            rand_bals_std[i] = np.std(rand_bal)\n",
    "            bals[i] = bal\n",
    "            pvals[semm][i] = pval\n",
    "        \n",
    "        axs[a1, a2].set_title(\"sem=\" + str(semm))\n",
    "        axs[a1,a2].plot(thetas, bals, 'ko')\n",
    "        # plt.plot(thetas, rand_bals_mean)\n",
    "        axs[a1, a2].fill_between(thetas, rand_bals_mean-rand_bals_std, rand_bals_mean+rand_bals_std)\n",
    "        axs[a1, a2].legend([\"network\", \"mean\"])\n",
    "\n",
    "for ax in axs.flat:\n",
    "    ax.set(xlabel='theta', ylabel='density of balanced triads')\n",
    "\n",
    "# Hide x labels and tick labels for top plots and y ticks for right plots.\n",
    "for ax in axs.flat:\n",
    "    ax.label_outer()"
   ]
  },
  {
   "cell_type": "code",
   "execution_count": 75,
   "id": "impaired-hello",
   "metadata": {},
   "outputs": [
    {
     "data": {
      "text/plain": [
       "{1: array([ 8.,  8., 35., 43., 40., 49., 27., 53.,  0.,  0.,  0.]),\n",
       " 2: array([ 3.,  7., 19.,  9.,  0., 60., 63.,  0.,  0.,  0.,  0.]),\n",
       " 3: array([12., 10., 25.,  8., 33., 28.,  4.,  0.,  0.,  0.,  0.]),\n",
       " 4: array([ 6.,  8.,  3.,  5., 18., 21., 55., 99.,  0.,  0.,  0.]),\n",
       " 5: array([ 6., 10., 12., 18., 10., 55., 48.,  0.,  0.,  0.,  0.]),\n",
       " 6: array([ 9., 14.,  4., 19., 10., 17., 10.,  0.,  0.,  0.,  0.])}"
      ]
     },
     "execution_count": 75,
     "metadata": {},
     "output_type": "execute_result"
    }
   ],
   "source": [
    "pvals"
   ]
  },
  {
   "cell_type": "markdown",
   "id": "breathing-success",
   "metadata": {},
   "source": [
    "# Randomizing attributes only inside triads"
   ]
  },
  {
   "cell_type": "code",
   "execution_count": 76,
   "id": "massive-reduction",
   "metadata": {},
   "outputs": [],
   "source": [
    "sem = 1\n",
    "triads = get_triads(data[sem])"
   ]
  },
  {
   "cell_type": "code",
   "execution_count": 77,
   "id": "cutting-message",
   "metadata": {},
   "outputs": [],
   "source": [
    "from itertools import chain\n",
    "triad_agents = np.unique(list(chain.from_iterable(triads)))\n",
    "dcor_attributes[1][triad_agents];"
   ]
  },
  {
   "cell_type": "code",
   "execution_count": 78,
   "id": "younger-patch",
   "metadata": {},
   "outputs": [],
   "source": [
    "sem = 2\n",
    "triads = get_triads(data[sem])\n",
    "triad_agents = np.unique(list(chain.from_iterable(triads)))\n",
    "\n",
    "thetas = np.linspace(0,1,11)\n",
    "\n",
    "bals = np.zeros(len(thetas))\n",
    "rand_bals_mean = np.zeros(len(thetas))\n",
    "rand_bals_std = np.zeros(len(thetas))\n",
    "pvals_t = np.zeros(len(thetas))\n",
    "for i, theta in enumerate(thetas):\n",
    "    rand_bal, bal, pval = compare_bal_triads(triads, dcor_attributes[sem], theta, max_dif3, 100, triad_agents)\n",
    "    rand_bals_mean[i] = np.mean(rand_bal)\n",
    "    rand_bals_std[i] = np.std(rand_bal)\n",
    "    bals[i] = bal\n",
    "    pvals_t[i] = pval"
   ]
  },
  {
   "cell_type": "code",
   "execution_count": 79,
   "id": "mobile-single",
   "metadata": {},
   "outputs": [
    {
     "data": {
      "text/plain": [
       "Text(0, 0.5, 'density of balanced triads')"
      ]
     },
     "execution_count": 79,
     "metadata": {},
     "output_type": "execute_result"
    },
    {
     "data": {
      "image/png": "[encoded data removed]",
      "text/plain": [
       "<Figure size 432x288 with 1 Axes>"
      ]
     },
     "metadata": {
      "needs_background": "light"
     },
     "output_type": "display_data"
    }
   ],
   "source": [
    "plt.plot(thetas, bals, 'ko')\n",
    "# plt.plot(thetas, rand_bals_mean)\n",
    "plt.fill_between(thetas, rand_bals_mean-rand_bals_std, rand_bals_mean+rand_bals_std)\n",
    "plt.legend([\"network\", \"mean\"])\n",
    "plt.title(\"Comparing HBT in triads and randomized triad agents' sets of attributes\")\n",
    "plt.xlabel(\"theta\")\n",
    "plt.ylabel(\"density of balanced triads\")"
   ]
  },
  {
   "cell_type": "code",
   "execution_count": 80,
   "id": "willing-million",
   "metadata": {},
   "outputs": [
    {
     "data": {
      "text/plain": [
       "(array([ 3.,  4., 32.,  3.,  9., 79., 61.,  0.,  0.,  0.,  0.]),\n",
       " array([ 0,  1,  4,  5,  8,  9, 10, 11, 14, 15, 16, 20, 21, 22, 23, 24, 25,\n",
       "        26, 27, 28, 29, 30, 31, 32, 33, 34, 38, 39, 40, 41, 44, 45, 48, 51,\n",
       "        58, 66, 76]))"
      ]
     },
     "execution_count": 80,
     "metadata": {},
     "output_type": "execute_result"
    }
   ],
   "source": [
    "pvals_t, triad_agents"
   ]
  },
  {
   "cell_type": "code",
   "execution_count": 81,
   "id": "grand-resolution",
   "metadata": {},
   "outputs": [
    {
     "data": {
      "image/png": "[encoded data removed]",
      "text/plain": [
       "<Figure size 1440x720 with 6 Axes>"
      ]
     },
     "metadata": {
      "needs_background": "light"
     },
     "output_type": "display_data"
    }
   ],
   "source": [
    "dim1 = 2\n",
    "dim2 = 3\n",
    "thetas = np.linspace(0,1,21)\n",
    "pvals_t = dict((i, np.zeros(len(thetas))) for i in range(1,7))\n",
    "\n",
    "fig, axs = plt.subplots(dim1, dim2)\n",
    "fig.set_size_inches(20,10)\n",
    "fig.suptitle(\"Comparing HBT in triads and randomized triad agents' sets of attributes\")\n",
    "\n",
    "semm = 0\n",
    "for a1 in range(0,dim1):\n",
    "    for a2 in range(0,dim2):\n",
    "        semm = semm + 1\n",
    "        triads = get_triads(data[semm])\n",
    "        triad_agents = np.unique(list(chain.from_iterable(triads)))\n",
    "\n",
    "        bals = np.zeros(len(thetas))\n",
    "        rand_bals_mean = np.zeros(len(thetas))\n",
    "        rand_bals_std = np.zeros(len(thetas))\n",
    "        \n",
    "        for i, theta in enumerate(thetas):\n",
    "            rand_bal, bal, pval = compare_bal_triads(triads, dcor_attributes[semm], theta, max_dif3, 100, triad_agents)\n",
    "            rand_bals_mean[i] = np.mean(rand_bal)\n",
    "            rand_bals_std[i] = np.std(rand_bal)\n",
    "            bals[i] = bal\n",
    "            pvals_t[semm][i] = pval\n",
    "        \n",
    "        axs[a1, a2].set_title(\"sem=\" + str(semm))\n",
    "        axs[a1,a2].plot(thetas, bals, 'ko')\n",
    "        # plt.plot(thetas, rand_bals_mean)\n",
    "        axs[a1, a2].fill_between(thetas, rand_bals_mean-rand_bals_std, rand_bals_mean+rand_bals_std)\n",
    "        axs[a1, a2].legend([\"network\", \"mean\"])\n",
    "\n",
    "for ax in axs.flat:\n",
    "    ax.set(xlabel='theta', ylabel='density of balanced triads')\n",
    "\n",
    "# Hide x labels and tick labels for top plots and y ticks for right plots.\n",
    "for ax in axs.flat:\n",
    "    ax.label_outer()"
   ]
  },
  {
   "cell_type": "code",
   "execution_count": 82,
   "id": "verbal-logging",
   "metadata": {
    "scrolled": true
   },
   "outputs": [
    {
     "data": {
      "text/plain": [
       "{1: array([19., 16., 14., 20., 21., 21., 27., 35., 22., 16., 46.,  4., 23.,\n",
       "         9., 37.,  0.,  0.,  0.,  0.,  0.,  0.]),\n",
       " 2: array([ 5.,  4.,  7.,  2., 22., 17.,  3.,  6.,  9., 46., 74., 75., 64.,\n",
       "        91.,  0.,  0.,  0.,  0.,  0.,  0.,  0.]),\n",
       " 3: array([24., 35., 26., 37., 34., 30.,  4., 17., 29., 93., 25., 11.,  1.,\n",
       "        73.,  0.,  0.,  0.,  0.,  0.,  0.,  0.]),\n",
       " 4: array([ 1.,  2.,  2.,  8.,  2.,  7.,  5.,  0., 21., 36., 20.,  1., 48.,\n",
       "        93., 96.,  0.,  0.,  0.,  0.,  0.,  0.]),\n",
       " 5: array([18., 17., 13., 20., 32., 13., 52., 49., 30., 12., 54., 70., 56.,\n",
       "        64.,  0.,  0.,  0.,  0.,  0.,  0.,  0.]),\n",
       " 6: array([31., 33., 30., 38., 19., 12., 47., 36., 33., 49., 30.,  9.,  8.,\n",
       "        38.,  0.,  0.,  0.,  0.,  0.,  0.,  0.])}"
      ]
     },
     "execution_count": 82,
     "metadata": {},
     "output_type": "execute_result"
    }
   ],
   "source": [
    "pvals_t"
   ]
  },
  {
   "cell_type": "code",
   "execution_count": 83,
   "id": "fabulous-pipeline",
   "metadata": {},
   "outputs": [],
   "source": [
    "sem = 2\n",
    "triads = get_triads(data[sem])\n",
    "triad_agents = np.unique(list(chain.from_iterable(triads)))"
   ]
  },
  {
   "cell_type": "code",
   "execution_count": 84,
   "id": "amino-knock",
   "metadata": {},
   "outputs": [
    {
     "data": {
      "text/plain": [
       "[43, 37, 22, 41, 30, 23]"
      ]
     },
     "execution_count": 84,
     "metadata": {},
     "output_type": "execute_result"
    }
   ],
   "source": [
    "[len(np.unique(list(chain.from_iterable(get_triads(data[sem]))))) for sem in range(1,7)]"
   ]
  },
  {
   "cell_type": "code",
   "execution_count": 85,
   "id": "complete-mercury",
   "metadata": {},
   "outputs": [
    {
     "data": {
      "text/plain": [
       "[45, 26, 9, 26, 20, 12]"
      ]
     },
     "execution_count": 85,
     "metadata": {},
     "output_type": "execute_result"
    }
   ],
   "source": [
    "[len(get_triads(data[sem])) for sem in range(1,7)]"
   ]
  },
  {
   "cell_type": "markdown",
   "id": "closed-volunteer",
   "metadata": {},
   "source": [
    "# Comparing links after decorrelation"
   ]
  },
  {
   "cell_type": "code",
   "execution_count": 86,
   "id": "lightweight-circular",
   "metadata": {},
   "outputs": [],
   "source": [
    "sem = 1\n",
    "th = 0.5\n",
    "\n",
    "polarities = calc_link_polarities2(dcor_attributes[sem], th)\n",
    "pol_old = calc_link_polarities2(ord_attributes[sem], th, 2)\n",
    "\n"
   ]
  },
  {
   "cell_type": "code",
   "execution_count": 87,
   "id": "sound-duplicate",
   "metadata": {},
   "outputs": [
    {
     "data": {
      "text/plain": [
       "(2607.0, 2933.0)"
      ]
     },
     "execution_count": 87,
     "metadata": {},
     "output_type": "execute_result"
    }
   ],
   "source": [
    "ones = np.sum(polarities == 1)/2\n",
    "ones_old = np.sum(pol_old == 1)/2\n",
    "\n",
    "ones, ones_old"
   ]
  },
  {
   "cell_type": "code",
   "execution_count": 88,
   "id": "peaceful-illness",
   "metadata": {},
   "outputs": [
    {
     "data": {
      "text/plain": [
       "(3777.0, 0.7946560067325898)"
      ]
     },
     "execution_count": 88,
     "metadata": {},
     "output_type": "execute_result"
    }
   ],
   "source": [
    "N = polarities.shape[0]\n",
    "same = (np.sum(polarities == pol_old) - N)/2\n",
    "same, same/N/(N-1)*2"
   ]
  },
  {
   "cell_type": "code",
   "execution_count": 89,
   "id": "valuable-interstate",
   "metadata": {},
   "outputs": [
    {
     "data": {
      "image/png": "[encoded data removed]",
      "text/plain": [
       "<Figure size 1440x720 with 6 Axes>"
      ]
     },
     "metadata": {
      "needs_background": "light"
     },
     "output_type": "display_data"
    }
   ],
   "source": [
    "dim1 = 2\n",
    "dim2 = 3\n",
    "thetas = np.linspace(0,1,101)\n",
    "\n",
    "fig, axs = plt.subplots(dim1, dim2)\n",
    "fig.set_size_inches(20,10)\n",
    "fig.suptitle(\"Comparing links after de-correlation\")\n",
    "\n",
    "semm = 0\n",
    "for a1 in range(0,dim1):\n",
    "    for a2 in range(0,dim2):\n",
    "        semm = semm + 1\n",
    "        \n",
    "        ones = np.zeros(len(thetas))\n",
    "        ones_old = np.zeros(len(thetas))\n",
    "        \n",
    "        for i, theta in enumerate(thetas):\n",
    "            polarities = calc_link_polarities2(dcor_attributes[semm], theta)\n",
    "            pol_old = calc_link_polarities2(ord_attributes[semm], theta, 2)\n",
    "            \n",
    "            N = polarities.shape[0]\n",
    "            ones[i] = np.sum(polarities == 1)/2 / N/(N-1)*2\n",
    "            ones_old[i] = np.sum(pol_old == 1)/2 / N/(N-1)*2\n",
    "        \n",
    "        axs[a1, a2].set_title(\"sem=\" + str(semm))\n",
    "        axs[a1,a2].plot(thetas, ones, thetas, ones_old)\n",
    "        # plt.plot(thetas, rand_bals_mean)\n",
    "        axs[a1, a2].legend([\"decor\", \"old attr\"])\n",
    "\n",
    "for ax in axs.flat:\n",
    "    ax.set(xlabel='theta', ylabel='density of positive links')\n",
    "\n",
    "# Hide x labels and tick labels for top plots and y ticks for right plots.\n",
    "for ax in axs.flat:\n",
    "    ax.label_outer()"
   ]
  },
  {
   "cell_type": "code",
   "execution_count": 90,
   "id": "honey-holder",
   "metadata": {},
   "outputs": [
    {
     "data": {
      "image/png": "[encoded data removed]",
      "text/plain": [
       "<Figure size 1440x720 with 6 Axes>"
      ]
     },
     "metadata": {
      "needs_background": "light"
     },
     "output_type": "display_data"
    }
   ],
   "source": [
    "dim1 = 2\n",
    "dim2 = 3\n",
    "thetas = np.linspace(0,1,101)\n",
    "\n",
    "fig, axs = plt.subplots(dim1, dim2)\n",
    "fig.set_size_inches(20,10)\n",
    "fig.suptitle(\"Comparing links after de-correlation\")\n",
    "\n",
    "semm = 0\n",
    "for a1 in range(0,dim1):\n",
    "    for a2 in range(0,dim2):\n",
    "        semm = semm + 1\n",
    "        \n",
    "        sames = np.zeros(len(thetas))\n",
    "        \n",
    "        for i, theta in enumerate(thetas):\n",
    "            polarities = calc_link_polarities2(dcor_attributes[semm], theta)\n",
    "            pol_old = calc_link_polarities2(ord_attributes[semm], theta, 2)\n",
    "            \n",
    "            N = polarities.shape[0]\n",
    "            sames[i] = (np.sum(polarities == pol_old) - N)/2 / N/(N-1)*2\n",
    "        \n",
    "        axs[a1, a2].set_title(\"sem=\" + str(semm))\n",
    "        axs[a1,a2].plot(thetas, sames, 'ko')\n",
    "        # plt.plot(thetas, rand_bals_mean)\n",
    "\n",
    "for ax in axs.flat:\n",
    "    ax.set(xlabel='theta', ylabel='density of same links')\n",
    "\n",
    "# Hide x labels and tick labels for top plots and y ticks for right plots.\n",
    "for ax in axs.flat:\n",
    "    ax.label_outer()"
   ]
  },
  {
   "cell_type": "code",
   "execution_count": 91,
   "id": "executed-europe",
   "metadata": {},
   "outputs": [
    {
     "data": {
      "text/plain": [
       "DegreeView({10060: 4, 85596: 10, 75261: 7, 71627: 2, 57637: 10, 66754: 6, 51552: 8, 23144: 13, 50869: 6, 25947: 6, 46160: 5, 46654: 2, 13799: 7, 86727: 4, 51722: 6, 59367: 2, 63188: 2, 68494: 6, 29914: 4, 15071: 4, 45539: 4, 46771: 5, 40997: 10, 53275: 6, 14188: 3, 17353: 2, 80058: 4, 30076: 4, 89827: 6, 37617: 2, 78911: 2, 62555: 4, 76313: 1, 50181: 1, 10841: 5, 72746: 2, 45945: 2, 26425: 2, 52067: 3, 34250: 2, 23642: 3, 66404: 6, 86352: 1, 16495: 6, 30952: 2, 19844: 1, 51597: 3, 52635: 2, 88175: 2, 75468: 2, 46021: 4, 66052: 2, 18420: 1, 68633: 2, 53884: 1, 32174: 1, 62560: 2, 25544: 5, 18344: 3, 39783: 2, 49597: 2, 44520: 2, 31583: 1})"
      ]
     },
     "execution_count": 91,
     "metadata": {},
     "output_type": "execute_result"
    }
   ],
   "source": [
    "data[6].degree"
   ]
  },
  {
   "cell_type": "code",
   "execution_count": 92,
   "id": "smoking-highland",
   "metadata": {},
   "outputs": [],
   "source": [
    "A = nx.adjacency_matrix(data[6]).todense()"
   ]
  },
  {
   "cell_type": "code",
   "execution_count": 93,
   "id": "political-teaching",
   "metadata": {},
   "outputs": [
    {
     "data": {
      "text/plain": [
       "NodeView((10060, 85596, 75261, 71627, 57637, 66754, 51552, 23144, 50869, 25947, 46160, 46654, 13799, 86727, 51722, 59367, 63188, 68494, 29914, 15071, 45539, 46771, 40997, 53275, 14188, 17353, 80058, 30076, 89827, 37617, 78911, 62555, 76313, 50181, 10841, 72746, 45945, 26425, 52067, 34250, 23642, 66404, 86352, 16495, 30952, 19844, 51597, 52635, 88175, 75468, 46021, 66052, 18420, 68633, 53884, 32174, 62560, 25544, 18344, 39783, 49597, 44520, 31583))"
      ]
     },
     "execution_count": 93,
     "metadata": {},
     "output_type": "execute_result"
    }
   ],
   "source": [
    "data[6].nodes"
   ]
  },
  {
   "cell_type": "code",
   "execution_count": 94,
   "id": "awful-territory",
   "metadata": {},
   "outputs": [],
   "source": [
    "degrees2 = [np.sum(A[:,i]>0) for i in range(0,len(data[6].nodes))]"
   ]
  },
  {
   "cell_type": "code",
   "execution_count": 95,
   "id": "personalized-ottawa",
   "metadata": {},
   "outputs": [
    {
     "data": {
      "text/plain": [
       "(63, 63)"
      ]
     },
     "execution_count": 95,
     "metadata": {},
     "output_type": "execute_result"
    }
   ],
   "source": [
    "len(degrees2), len(data[6].nodes)"
   ]
  },
  {
   "cell_type": "code",
   "execution_count": 96,
   "id": "rational-greensboro",
   "metadata": {},
   "outputs": [
    {
     "data": {
      "text/plain": [
       "array([10060, 10841, 13799, 14188, 15071, 16495, 17353, 18344, 18420,\n",
       "       19844, 23144, 23642, 25544, 25947, 26425, 29914, 30076, 30952,\n",
       "       31583, 32174, 34250, 37617, 39783, 40997, 44520, 45539, 45945,\n",
       "       46021, 46160, 46654, 46771, 49597, 50181, 50869, 51552, 51597,\n",
       "       51722, 52067, 52635, 53275, 53884, 57637, 59367, 62555, 62560,\n",
       "       63188, 66052, 66404, 66754, 68494, 68633, 71627, 72746, 75261,\n",
       "       75468, 76313, 78911, 80058, 85596, 86352, 86727, 88175, 89827])"
      ]
     },
     "execution_count": 96,
     "metadata": {},
     "output_type": "execute_result"
    }
   ],
   "source": [
    "np.sort(data[6].nodes)"
   ]
  },
  {
   "cell_type": "code",
   "execution_count": 97,
   "id": "distant-dancing",
   "metadata": {},
   "outputs": [
    {
     "data": {
      "text/plain": [
       "(2, 652)"
      ]
     },
     "execution_count": 97,
     "metadata": {},
     "output_type": "execute_result"
    }
   ],
   "source": [
    "np.sum(A[0,:]>0), np.sum(A[0,:])"
   ]
  },
  {
   "cell_type": "code",
   "execution_count": 98,
   "id": "prime-dynamics",
   "metadata": {},
   "outputs": [
    {
     "data": {
      "text/plain": [
       "[51722, 85596]"
      ]
     },
     "execution_count": 98,
     "metadata": {},
     "output_type": "execute_result"
    }
   ],
   "source": [
    "list(data[6].neighbors(10060))"
   ]
  },
  {
   "cell_type": "code",
   "execution_count": 99,
   "id": "aquatic-microwave",
   "metadata": {},
   "outputs": [
    {
     "data": {
      "text/plain": [
       "AtlasView(UnionAtlas({85596: {'weight': 638}, 51722: {'weight': 14}}, {85596: {'weight': 844}, 51722: {'weight': 16}}))"
      ]
     },
     "execution_count": 99,
     "metadata": {},
     "output_type": "execute_result"
    }
   ],
   "source": [
    "data[6][10060]"
   ]
  },
  {
   "cell_type": "code",
   "execution_count": 100,
   "id": "naughty-guarantee",
   "metadata": {},
   "outputs": [
    {
     "data": {
      "text/plain": [
       "([88175], AtlasView(UnionAtlas({}, {88175: {'weight': 1}})))"
      ]
     },
     "execution_count": 100,
     "metadata": {},
     "output_type": "execute_result"
    }
   ],
   "source": [
    "list(data[6].neighbors(31583)), data[6][31583]"
   ]
  },
  {
   "cell_type": "markdown",
   "id": "together-eugene",
   "metadata": {},
   "source": [
    "What we can see above is that this is in fact a directed network! But adjacency matrix is undirected. \n",
    "\n",
    "I will check whether the order of nodes is good. "
   ]
  },
  {
   "cell_type": "code",
   "execution_count": 101,
   "id": "inclusive-gallery",
   "metadata": {},
   "outputs": [
    {
     "data": {
      "text/plain": [
       "(1, AtlasView(UnionAtlas({39783: {'weight': 6}}, {39783: {'weight': 5}})))"
      ]
     },
     "execution_count": 101,
     "metadata": {},
     "output_type": "execute_result"
    }
   ],
   "source": [
    "np.sum(A[-3,:]>0), data[6][49597]"
   ]
  },
  {
   "cell_type": "code",
   "execution_count": 102,
   "id": "southeast-description",
   "metadata": {},
   "outputs": [
    {
     "data": {
      "text/plain": [
       "False"
      ]
     },
     "execution_count": 102,
     "metadata": {},
     "output_type": "execute_result"
    }
   ],
   "source": [
    "nx.is_directed(data[6])"
   ]
  },
  {
   "cell_type": "code",
   "execution_count": 103,
   "id": "nearby-style",
   "metadata": {},
   "outputs": [
    {
     "data": {
      "text/plain": [
       "[[10060],\n",
       " [85596],\n",
       " [75261],\n",
       " [71627],\n",
       " [57637],\n",
       " [66754],\n",
       " [51552],\n",
       " [23144],\n",
       " [50869],\n",
       " [25947],\n",
       " [46160],\n",
       " [46654],\n",
       " [13799],\n",
       " [86727],\n",
       " [51722],\n",
       " [59367],\n",
       " [63188],\n",
       " [68494],\n",
       " [29914],\n",
       " [15071],\n",
       " [45539],\n",
       " [46771],\n",
       " [40997],\n",
       " [53275],\n",
       " [14188],\n",
       " [17353],\n",
       " [80058],\n",
       " [30076],\n",
       " [89827],\n",
       " [37617],\n",
       " [78911],\n",
       " [62555],\n",
       " [76313],\n",
       " [50181],\n",
       " [10841],\n",
       " [72746],\n",
       " [45945],\n",
       " [26425],\n",
       " [52067],\n",
       " [34250],\n",
       " [23642],\n",
       " [66404],\n",
       " [86352],\n",
       " [16495],\n",
       " [30952],\n",
       " [19844],\n",
       " [51597],\n",
       " [52635],\n",
       " [88175],\n",
       " [75468],\n",
       " [46021],\n",
       " [66052],\n",
       " [18420],\n",
       " [68633],\n",
       " [53884],\n",
       " [32174],\n",
       " [62560],\n",
       " [25544],\n",
       " [18344],\n",
       " [39783],\n",
       " [49597],\n",
       " [44520],\n",
       " [31583],\n",
       " [10060, 85596],\n",
       " [10060, 51722],\n",
       " [85596, 50869],\n",
       " [85596, 51722],\n",
       " [85596, 68494],\n",
       " [85596, 37617],\n",
       " [75261, 71627],\n",
       " [75261, 46654],\n",
       " [75261, 66404],\n",
       " [75261, 62560],\n",
       " [57637, 66754],\n",
       " [57637, 51552],\n",
       " [57637, 23144],\n",
       " [57637, 89827],\n",
       " [57637, 25544],\n",
       " [66754, 51552],\n",
       " [66754, 89827],\n",
       " [51552, 23144],\n",
       " [51552, 89827],\n",
       " [23144, 50869],\n",
       " [23144, 46160],\n",
       " [23144, 26425],\n",
       " [23144, 52067],\n",
       " [23144, 23642],\n",
       " [23144, 32174],\n",
       " [50869, 13799],\n",
       " [25947, 46160],\n",
       " [25947, 59367],\n",
       " [25947, 34250],\n",
       " [46160, 23642],\n",
       " [13799, 86727],\n",
       " [13799, 45539],\n",
       " [13799, 62560],\n",
       " [86727, 45539],\n",
       " [51722, 78911],\n",
       " [63188, 68494],\n",
       " [68494, 16495],\n",
       " [29914, 15071],\n",
       " [29914, 46771],\n",
       " [15071, 46771],\n",
       " [46771, 19844],\n",
       " [40997, 53275],\n",
       " [40997, 10841],\n",
       " [40997, 86352],\n",
       " [40997, 52635],\n",
       " [40997, 46021],\n",
       " [40997, 18420],\n",
       " [53275, 10841],\n",
       " [53275, 68633],\n",
       " [53275, 53884],\n",
       " [14188, 17353],\n",
       " [14188, 16495],\n",
       " [80058, 30076],\n",
       " [80058, 66404],\n",
       " [30076, 66404],\n",
       " [62555, 76313],\n",
       " [62555, 50181],\n",
       " [62555, 66052],\n",
       " [10841, 68633],\n",
       " [72746, 45945],\n",
       " [52067, 51597],\n",
       " [16495, 30952],\n",
       " [16495, 88175],\n",
       " [51597, 25544],\n",
       " [88175, 31583],\n",
       " [75468, 46021],\n",
       " [25544, 18344],\n",
       " [18344, 44520],\n",
       " [39783, 49597],\n",
       " [10060, 85596, 51722],\n",
       " [57637, 66754, 51552],\n",
       " [57637, 66754, 89827],\n",
       " [57637, 51552, 23144],\n",
       " [57637, 51552, 89827],\n",
       " [66754, 51552, 89827],\n",
       " [23144, 46160, 23642],\n",
       " [13799, 86727, 45539],\n",
       " [29914, 15071, 46771],\n",
       " [40997, 53275, 10841],\n",
       " [53275, 10841, 68633],\n",
       " [80058, 30076, 66404],\n",
       " [57637, 66754, 51552, 89827]]"
      ]
     },
     "execution_count": 103,
     "metadata": {},
     "output_type": "execute_result"
    }
   ],
   "source": [
    "list(nx.enumerate_all_cliques(data[6]))"
   ]
  },
  {
   "cell_type": "code",
   "execution_count": 104,
   "id": "disabled-touch",
   "metadata": {},
   "outputs": [
    {
     "data": {
      "text/plain": [
       "[(0, 1, 14),\n",
       " (4, 5, 6),\n",
       " (4, 5, 28),\n",
       " (4, 6, 7),\n",
       " (4, 6, 28),\n",
       " (5, 6, 28),\n",
       " (7, 10, 40),\n",
       " (12, 13, 20),\n",
       " (18, 19, 21),\n",
       " (22, 23, 34),\n",
       " (23, 34, 53),\n",
       " (26, 27, 41)]"
      ]
     },
     "execution_count": 104,
     "metadata": {},
     "output_type": "execute_result"
    }
   ],
   "source": [
    "get_triads(data[6])"
   ]
  },
  {
   "cell_type": "markdown",
   "id": "external-advertiser",
   "metadata": {},
   "source": [
    "OK, the order of nodes is correct. \n",
    "\n",
    "Now let's check how weights in adjacency matrix are correlated with the weights in nodes' attributes"
   ]
  },
  {
   "cell_type": "code",
   "execution_count": 105,
   "id": "false-freedom",
   "metadata": {},
   "outputs": [
    {
     "data": {
      "text/plain": [
       "(AtlasView(UnionAtlas({85596: {'weight': 638}, 51722: {'weight': 14}}, {85596: {'weight': 844}, 51722: {'weight': 16}})),\n",
       " matrix([[  0, 638,   0,   0,   0,   0,   0,   0,   0,   0,   0,   0,   0,\n",
       "            0,  14,   0,   0,   0,   0,   0,   0,   0,   0,   0,   0,   0,\n",
       "            0,   0,   0,   0,   0,   0,   0,   0,   0,   0,   0,   0,   0,\n",
       "            0,   0,   0,   0,   0,   0,   0,   0,   0,   0,   0,   0,   0,\n",
       "            0,   0,   0,   0,   0,   0,   0,   0,   0,   0,   0]]))"
      ]
     },
     "execution_count": 105,
     "metadata": {},
     "output_type": "execute_result"
    }
   ],
   "source": [
    "data[6][10060], A[0,:]"
   ]
  },
  {
   "cell_type": "markdown",
   "id": "statewide-string",
   "metadata": {},
   "source": [
    "Adjacency matrix is symmetric. \n",
    "\n",
    "However, the weights are neither the maximum nor minimum weight of a weight i->j and j->i. \n",
    "Above is the example it is not the maximum (638, 844 -> 638). \n",
    "Also (14, 1 -> 14)\n"
   ]
  },
  {
   "cell_type": "code",
   "execution_count": 106,
   "id": "divine-procurement",
   "metadata": {},
   "outputs": [
    {
     "data": {
      "text/plain": [
       "(AtlasView(UnionAtlas({66754: {'weight': 123}, 51552: {'weight': 19}, 23144: {'weight': 86}, 89827: {'weight': 6}, 25544: {'weight': 6}}, {23144: {'weight': 72}, 66754: {'weight': 106}, 51552: {'weight': 13}, 89827: {'weight': 2}, 25544: {'weight': 8}})),\n",
       " matrix([[  0,   0,   0,   0,   0, 123,  19,  86,   0,   0,   0,   0,   0,\n",
       "            0,   0,   0,   0,   0,   0,   0,   0,   0,   0,   0,   0,   0,\n",
       "            0,   0,   6,   0,   0,   0,   0,   0,   0,   0,   0,   0,   0,\n",
       "            0,   0,   0,   0,   0,   0,   0,   0,   0,   0,   0,   0,   0,\n",
       "            0,   0,   0,   0,   0,   6,   0,   0,   0,   0,   0]]))"
      ]
     },
     "execution_count": 106,
     "metadata": {},
     "output_type": "execute_result"
    }
   ],
   "source": [
    "data[6][57637], A[4,:]"
   ]
  },
  {
   "cell_type": "markdown",
   "id": "focused-leisure",
   "metadata": {},
   "source": [
    "It seems, that which value of weight is given is related to which node was entered first. "
   ]
  },
  {
   "cell_type": "code",
   "execution_count": 107,
   "id": "owned-might",
   "metadata": {},
   "outputs": [
    {
     "data": {
      "text/plain": [
       "({'weight': 638},\n",
       " AtlasView(UnionAtlas({85596: {'weight': 638}, 51722: {'weight': 14}}, {85596: {'weight': 844}, 51722: {'weight': 16}})))"
      ]
     },
     "execution_count": 107,
     "metadata": {},
     "output_type": "execute_result"
    }
   ],
   "source": [
    "data_nodes = list(data[6].nodes)\n",
    "data[6][data_nodes[0]][85596], data[6][data_nodes[0]]"
   ]
  },
  {
   "cell_type": "code",
   "execution_count": 108,
   "id": "amended-trial",
   "metadata": {},
   "outputs": [
    {
     "data": {
      "text/plain": [
       "638"
      ]
     },
     "execution_count": 108,
     "metadata": {},
     "output_type": "execute_result"
    }
   ],
   "source": [
    "data[6][data_nodes[0]][85596]['weight']"
   ]
  },
  {
   "cell_type": "code",
   "execution_count": 109,
   "id": "preliminary-pasta",
   "metadata": {},
   "outputs": [],
   "source": [
    "def create_directed_adj_mat(net):\n",
    "    A_undir = nx.adjacency_matrix(net).todense()\n",
    "    A_dir = np.zeros(A_undir.shape, dtype=int)\n",
    "    \n",
    "    data_nodes = list(net.nodes)\n",
    "    \n",
    "    for node_ind, node in enumerate(data_nodes):\n",
    "        for neigh in net[data_nodes[node_ind]]:\n",
    "            try:\n",
    "                neigh_ind = np.where(np.array(data_nodes) == neigh)[0][0]\n",
    "            except KeyError:\n",
    "                print(neigh)\n",
    "                print(np.array(data_nodes) == neigh)\n",
    "                print(data_nodes)\n",
    "                print(net[data_nodes[node_ind]])\n",
    "            try:\n",
    "                A_dir[node_ind,neigh_ind] = net[data_nodes[node_ind]][neigh]['weight']\n",
    "            except KeyError:\n",
    "                print(node_ind, neigh_ind)\n",
    "                print(net[data_nodes[node_ind]])\n",
    "                print(net[data_nodes[node_ind]][neigh_ind])\n",
    "                print(net[data_nodes[node_ind]][neigh_ind]['weight'])\n",
    "    return A_dir, A_undir\n",
    "\n",
    "\"\"\"\n",
    "This can find also directed triads. \n",
    "\"\"\"\n",
    "def get_triads_from_adj_mat(A):\n",
    "    N = A.shape[0]\n",
    "    \n",
    "    triads = dict()\n",
    "    for i in range(0,N):\n",
    "        for j in range(i+1,N):\n",
    "            if A[i,j] == 0:\n",
    "                continue\n",
    "            for k in range(j+1,N):\n",
    "                if A[j,k] > 0 and A[k,i] > 0:\n",
    "                    triads[(i,j,k)] = (A[i,j], A[j,k], A[k, i])\n",
    "    \n",
    "    for i in range(0,N):\n",
    "        for j in range(i+1,N):\n",
    "            if A[j,i] == 0:\n",
    "                continue\n",
    "            for k in range(j+1,N):\n",
    "                if A[k,j] > 0 and A[i,k] > 0:\n",
    "                    triads[(k,j,i)] = (A[k,j], A[j,i], A[i,k])\n",
    "    return triads\n",
    "\n",
    "def find_th_polarity_change(attr, agent1, agent2, sem, dif_max = max_dif3):\n",
    "    thresholds = np.linspace(0,1,101)\n",
    "    \n",
    "    beg_polarity = calc_link_polarity2(attr[sem][agent1], attr[sem][agent2], 0, dif_max)\n",
    "    \n",
    "    for th in thresholds:\n",
    "        polarity = calc_link_polarity2(attr[sem][agent1], attr[sem][agent2], th, dif_max)\n",
    "        if beg_polarity != polarity:\n",
    "            break\n",
    "        \n",
    "    return th\n",
    "    "
   ]
  },
  {
   "cell_type": "code",
   "execution_count": 110,
   "id": "organized-mortality",
   "metadata": {},
   "outputs": [],
   "source": [
    "A_dir, A_undir = create_directed_adj_mat(data[6])"
   ]
  },
  {
   "cell_type": "code",
   "execution_count": 111,
   "id": "maritime-peripheral",
   "metadata": {},
   "outputs": [
    {
     "data": {
      "text/plain": [
       "{(0, 1, 14): (638, 123, 16),\n",
       " (4, 5, 6): (123, 13, 13),\n",
       " (4, 5, 28): (123, 39, 2),\n",
       " (4, 6, 7): (19, 9, 72),\n",
       " (4, 6, 28): (19, 4, 2),\n",
       " (5, 6, 28): (13, 4, 25),\n",
       " (7, 10, 40): (1, 25, 1),\n",
       " (12, 13, 20): (16, 329, 7784),\n",
       " (18, 19, 21): (10, 2, 27),\n",
       " (22, 23, 34): (37, 18, 1),\n",
       " (23, 34, 53): (18, 4, 2),\n",
       " (26, 27, 41): (2, 115, 8),\n",
       " (14, 1, 0): (98, 844, 14),\n",
       " (6, 5, 4): (11, 106, 19),\n",
       " (28, 5, 4): (25, 106, 6),\n",
       " (7, 6, 4): (11, 13, 86),\n",
       " (28, 6, 4): (5, 13, 6),\n",
       " (28, 6, 5): (5, 11, 39),\n",
       " (40, 10, 7): (33, 1, 1),\n",
       " (20, 13, 12): (329, 10, 8604),\n",
       " (21, 19, 18): (7, 7, 21),\n",
       " (34, 23, 22): (10, 36, 1),\n",
       " (53, 34, 23): (4, 10, 2),\n",
       " (41, 27, 26): (101, 2, 6)}"
      ]
     },
     "execution_count": 111,
     "metadata": {},
     "output_type": "execute_result"
    }
   ],
   "source": [
    "triads = get_triads_from_adj_mat(A_dir)\n",
    "triads"
   ]
  },
  {
   "cell_type": "code",
   "execution_count": 112,
   "id": "equipped-suspension",
   "metadata": {},
   "outputs": [],
   "source": [
    "sem = 6\n",
    "th = 0.4\n",
    "\n",
    "polarities = calc_link_polarities2(dcor_attributes[sem], th)\n",
    "pol_old = calc_link_polarities2(ord_attributes[sem], th, 2)"
   ]
  },
  {
   "cell_type": "code",
   "execution_count": 113,
   "id": "liable-garlic",
   "metadata": {},
   "outputs": [
    {
     "data": {
      "text/plain": [
       "1.0"
      ]
     },
     "execution_count": 113,
     "metadata": {},
     "output_type": "execute_result"
    }
   ],
   "source": [
    "polarities[12,13]"
   ]
  },
  {
   "cell_type": "code",
   "execution_count": 114,
   "id": "ecological-partner",
   "metadata": {},
   "outputs": [
    {
     "data": {
      "text/plain": [
       "(0.46, 0.25)"
      ]
     },
     "execution_count": 114,
     "metadata": {},
     "output_type": "execute_result"
    }
   ],
   "source": [
    "agent1 = 7\n",
    "agent2 = 40\n",
    "agent3 = 10\n",
    "find_th_polarity_change(dcor_attributes, agent1, agent2, sem), find_th_polarity_change(ord_attributes, agent1, agent2, sem, 2)"
   ]
  },
  {
   "cell_type": "code",
   "execution_count": 115,
   "id": "toxic-review",
   "metadata": {},
   "outputs": [
    {
     "name": "stdout",
     "output_type": "stream",
     "text": [
      "0.56\n"
     ]
    }
   ],
   "source": [
    "sem = 6\n",
    "attr = dcor_attributes\n",
    "agent1 = 40\n",
    "agent2= 10\n",
    "beg_polarity = calc_link_polarity2(attr[sem][agent1], attr[sem][agent2], 0)\n",
    "thresholds = np.linspace(0,1,101)\n",
    "for th in thresholds:\n",
    "    polarity = calc_link_polarity2(attr[sem][agent1], attr[sem][agent2], th)\n",
    "    if beg_polarity != polarity:\n",
    "        print(th)\n",
    "        break"
   ]
  },
  {
   "cell_type": "code",
   "execution_count": 116,
   "id": "different-fifteen",
   "metadata": {},
   "outputs": [
    {
     "data": {
      "text/plain": [
       "(array([-2.952,  1.775,  0.301, -1.341, -0.125, -0.793, -1.219, -0.343]),\n",
       " array([-4.032, -0.394,  1.396,  0.091, -0.639, -1.797, -1.074,  0.916]))"
      ]
     },
     "execution_count": 116,
     "metadata": {},
     "output_type": "execute_result"
    }
   ],
   "source": [
    "dcor_attributes[sem][agent1], dcor_attributes[sem][agent2]"
   ]
  },
  {
   "cell_type": "code",
   "execution_count": 117,
   "id": "circular-quantum",
   "metadata": {},
   "outputs": [
    {
     "data": {
      "text/plain": [
       "(0.451012365262551, 0.5163075877959855, 0.5576475905238086)"
      ]
     },
     "execution_count": 117,
     "metadata": {},
     "output_type": "execute_result"
    }
   ],
   "source": [
    "agent1 = 7\n",
    "agent2 = 40\n",
    "agent3 = 10\n",
    "calc_distance(dcor_attributes[sem][agent1], dcor_attributes[sem][agent2], max_dif3), calc_distance(dcor_attributes[sem][agent1], dcor_attributes[sem][agent3], max_dif3),  calc_distance(dcor_attributes[sem][agent3], dcor_attributes[sem][agent2], max_dif3)"
   ]
  },
  {
   "cell_type": "markdown",
   "id": "noticed-macro",
   "metadata": {},
   "source": [
    "Czemu losujemy tylko po agentach, którzy tworzą triady? Czy to ma sens?\n",
    "\n",
    "Agenci, którzy nie tworzą triad, może mają połączenia z innymi agentami, ale ich nie widzimy. Stąd jest sens ich nie brać. \n",
    "\n",
    "Ale jaki sens ma, że bierzemy jedną triadę ABC i triadę DEF, które są oderwane od reszty sieci i mieszamy agentów? \n",
    "\n",
    "Wychodzi, że atrybuty nie mają takiego znaczenia, jeśli chodzi o otrzymanie odpowiedniej równowagi. Ewentualnie, ja źle na nie patrzę. "
   ]
  },
  {
   "cell_type": "markdown",
   "id": "formal-ethics",
   "metadata": {},
   "source": [
    "# E8"
   ]
  },
  {
   "cell_type": "code",
   "execution_count": 46,
   "id": "unusual-holocaust",
   "metadata": {},
   "outputs": [
    {
     "data": {
      "text/plain": [
       "(0.5333333333333333, 0.4414758070970508)"
      ]
     },
     "execution_count": 46,
     "metadata": {},
     "output_type": "execute_result"
    }
   ],
   "source": [
    "sem = 1\n",
    "th = 0.4\n",
    "\n",
    "polarities = calc_link_polarities2(dcor_attributes[sem], th)\n",
    "N = polarities.shape[0]\n",
    "\n",
    "rho = np.sum(polarities == 1)/2 / N/(N-1)*2\n",
    "\n",
    "prob_balanced = np.power(rho,3) + 3*rho*np.power(1-rho,2)\n",
    "\n",
    "triads = get_triads(data[sem])\n",
    "balanced_triad_density_network(polarities, triads), prob_balanced"
   ]
  },
  {
   "cell_type": "code",
   "execution_count": 126,
   "id": "judicial-healing",
   "metadata": {},
   "outputs": [
    {
     "data": {
      "image/png": "[encoded data removed]",
      "text/plain": [
       "<Figure size 1440x720 with 6 Axes>"
      ]
     },
     "metadata": {
      "needs_background": "light"
     },
     "output_type": "display_data"
    }
   ],
   "source": [
    "dim1 = 2\n",
    "dim2 = 3\n",
    "thetas = np.linspace(0,1,101)\n",
    "\n",
    "fig, axs = plt.subplots(dim1, dim2)\n",
    "fig.set_size_inches(20,10)\n",
    "fig.suptitle(\"Model E_8\")\n",
    "\n",
    "semm = 0\n",
    "for a1 in range(0,dim1):\n",
    "    for a2 in range(0,dim2):\n",
    "        semm = semm + 1\n",
    "        \n",
    "        prob_bals = np.zeros(len(thetas))\n",
    "        bals = np.zeros(len(thetas))\n",
    "        \n",
    "        for i, theta in enumerate(thetas):\n",
    "            polarities = calc_link_polarities2(dcor_attributes[semm], theta)\n",
    "            \n",
    "            N = polarities.shape[0]\n",
    "            rho = np.sum(polarities == 1)/2 / N/(N-1)*2\n",
    "            prob_bals[i] = np.power(rho,3) + 3*rho*np.power(1-rho,2)\n",
    "            \n",
    "            triads = get_triads(data[semm])\n",
    "            bals[i] = balanced_triad_density_network(polarities, triads)\n",
    "        \n",
    "        axs[a1, a2].set_title(\"sem=\" + str(semm))\n",
    "        axs[a1,a2].plot(thetas, bals, thetas, prob_bals)\n",
    "        # plt.plot(thetas, rand_bals_mean)\n",
    "        axs[a1, a2].legend([\"data\", \"model\"])\n",
    "\n",
    "for ax in axs.flat:\n",
    "    ax.set(xlabel='theta', ylabel='density of balanced triads')\n",
    "\n",
    "# Hide x labels and tick labels for top plots and y ticks for right plots.\n",
    "for ax in axs.flat:\n",
    "    ax.label_outer()"
   ]
  },
  {
   "cell_type": "markdown",
   "id": "about-lawyer",
   "metadata": {},
   "source": [
    "Analiza statystyczna powyższego"
   ]
  },
  {
   "cell_type": "code",
   "execution_count": 34,
   "id": "posted-matrix",
   "metadata": {},
   "outputs": [],
   "source": [
    "def distribute_random_polarities(N, rho):\n",
    "    polarities = np.zeros([N,N], dtype = int)\n",
    "    \n",
    "    for i in range(0,N):\n",
    "        for j in range(i+1, N):\n",
    "            polarities[i,j] = 1 if np.random.random() < rho else -1\n",
    "            polarities[j,i] = polarities[i,j]\n",
    "    return polarities\n",
    "\n",
    "def calc_pval_E8(triads, agents, th, attr_dif, M):\n",
    "    \"\"\"\n",
    "    triads - list of sets of node ids forming a triad\n",
    "    agents - array of vectors of agent attributes\n",
    "    th - threshold used\n",
    "    attr_dif - max difference between attributes\n",
    "    M - number of times to repeat randomization\n",
    "    \"\"\"\n",
    "    polarities = calc_link_polarities2(agents, th, attr_dif)\n",
    "    bal_dens = balanced_triad_density_network(polarities, triads)\n",
    "    \n",
    "    N = polarities.shape[0]\n",
    "    rho = np.sum(polarities == 1)/2 / N/(N-1)*2\n",
    "    \n",
    "    bal_dens_rands = np.zeros(M)\n",
    "    \n",
    "    for i in range(0,M):\n",
    "        polarities_rand = distribute_random_polarities(N, rho)\n",
    "        bal_dens_rands[i] = balanced_triad_density_network(polarities_rand, triads)\n",
    "        \n",
    "    pval = np.sum(bal_dens_rands > bal_dens)\n",
    "    \n",
    "    return bal_dens_rands, bal_dens, pval\n",
    "\n",
    "def compare_networks2(fun, data, th, attr_dif, M):\n",
    "    pvals = np.zeros(6)\n",
    "    vals = np.zeros(6)\n",
    "    stds = np.zeros(6)\n",
    "    difs = np.zeros(6)\n",
    "    \n",
    "    for n in range(1,7):\n",
    "#         print(n)\n",
    "        net = data[n]\n",
    "        triads = get_triads(net)\n",
    "        agents = dcor_attributes[n]\n",
    "        \n",
    "        bal_dens_rands, bal_dens, pval = fun(triads, agents, th, attr_dif, M)\n",
    "        pvals[n-1] = pval\n",
    "        vals[n - 1] = bal_dens\n",
    "        difs[n-1] = np.mean(bal_dens - bal_dens_rands)\n",
    "        stds[n-1] = np.std(difs)\n",
    "    return pvals, vals, difs, stds"
   ]
  },
  {
   "cell_type": "code",
   "execution_count": 182,
   "id": "identical-channels",
   "metadata": {},
   "outputs": [
    {
     "data": {
      "text/plain": [
       "(0.7333333333333333, 0.5333333333333333)"
      ]
     },
     "execution_count": 182,
     "metadata": {},
     "output_type": "execute_result"
    }
   ],
   "source": [
    "sem = 1\n",
    "th = 0.55\n",
    "\n",
    "polarities = calc_link_polarities2(dcor_attributes[sem], th)\n",
    "N = polarities.shape[0]\n",
    "\n",
    "rho = np.sum(polarities == 1)/2 / N/(N-1)*2\n",
    "pol_rand = distribute_random_polarities(N, rho)\n",
    "\n",
    "triads = get_triads(data[sem])\n",
    "balanced_triad_density_network(polarities, triads), balanced_triad_density_network(pol_rand, triads)\n",
    "\n"
   ]
  },
  {
   "cell_type": "code",
   "execution_count": 183,
   "id": "buried-placement",
   "metadata": {},
   "outputs": [
    {
     "data": {
      "text/plain": [
       "(array([0.511, 0.578, 0.511, 0.6  , 0.444, 0.756, 0.556, 0.511, 0.6  ,\n",
       "        0.511, 0.667, 0.511, 0.644, 0.489, 0.556, 0.533, 0.533, 0.622,\n",
       "        0.489, 0.556, 0.556, 0.489, 0.533, 0.556, 0.6  , 0.644, 0.444,\n",
       "        0.689, 0.622, 0.644, 0.533, 0.533, 0.467, 0.578, 0.578, 0.467,\n",
       "        0.556, 0.578, 0.533, 0.533, 0.422, 0.578, 0.644, 0.556, 0.578,\n",
       "        0.644, 0.489, 0.511, 0.511, 0.422, 0.556, 0.333, 0.467, 0.489,\n",
       "        0.467, 0.622, 0.578, 0.556, 0.422, 0.511, 0.467, 0.578, 0.533,\n",
       "        0.556, 0.489, 0.667, 0.533, 0.556, 0.578, 0.556, 0.578, 0.489,\n",
       "        0.6  , 0.444, 0.578, 0.444, 0.6  , 0.511, 0.578, 0.533, 0.622,\n",
       "        0.622, 0.622, 0.511, 0.489, 0.533, 0.489, 0.467, 0.578, 0.444,\n",
       "        0.511, 0.622, 0.644, 0.689, 0.578, 0.622, 0.556, 0.578, 0.467,\n",
       "        0.467]),\n",
       " 0.7333333333333333,\n",
       " 1)"
      ]
     },
     "execution_count": 183,
     "metadata": {},
     "output_type": "execute_result"
    }
   ],
   "source": [
    "M = 100\n",
    "calc_pval_E8(triads, dcor_attributes[sem], th, max_dif3, M)"
   ]
  },
  {
   "cell_type": "code",
   "execution_count": 188,
   "id": "asian-entertainment",
   "metadata": {},
   "outputs": [
    {
     "data": {
      "image/png": "[encoded data removed]",
      "text/plain": [
       "<Figure size 1440x720 with 6 Axes>"
      ]
     },
     "metadata": {
      "needs_background": "light"
     },
     "output_type": "display_data"
    }
   ],
   "source": [
    "dim1 = 2\n",
    "dim2 = 3\n",
    "thetas = np.linspace(0,1,21)\n",
    "M = 100\n",
    "\n",
    "pvals = dict((i, np.zeros(len(thetas))) for i in range(1,7))\n",
    "\n",
    "fig, axs = plt.subplots(dim1, dim2)\n",
    "fig.set_size_inches(20,10)\n",
    "fig.suptitle(\"Model E_8 Errors\")\n",
    "\n",
    "semm = 0\n",
    "for a1 in range(0,dim1):\n",
    "    for a2 in range(0,dim2):\n",
    "        semm = semm + 1\n",
    "        \n",
    "        prob_bals_mean = np.zeros(len(thetas))\n",
    "        prob_bals_std = np.zeros(len(thetas))\n",
    "        bals = np.zeros(len(thetas))\n",
    "        \n",
    "        for i, theta in enumerate(thetas):\n",
    "            triads = get_triads(data[semm])\n",
    "            bal_dens_rands, bal_dens, pval = calc_pval_E8(triads, dcor_attributes[semm], theta, max_dif3, M)\n",
    "            \n",
    "            prob_bals_mean[i] = np.mean(bal_dens_rands)\n",
    "            prob_bals_std[i] = np.std(bal_dens_rands)\n",
    "            pvals[semm][i] = pval\n",
    "            \n",
    "            bals[i] = bal_dens\n",
    "        \n",
    "        axs[a1, a2].set_title(\"sem=\" + str(semm))\n",
    "        # axs[a1,a2].plot(thetas, bals, thetas, prob_bals)\n",
    "        axs[a1,a2].plot(thetas, bals, 'ko')\n",
    "        # plt.plot(thetas, rand_bals_mean)\n",
    "        axs[a1, a2].fill_between(thetas, prob_bals_mean-prob_bals_std, prob_bals_mean+prob_bals_std)\n",
    "        # plt.plot(thetas, rand_bals_mean)\n",
    "        axs[a1, a2].legend([\"data\", \"model\"])\n",
    "\n",
    "for ax in axs.flat:\n",
    "    ax.set(xlabel='theta', ylabel='density of balanced triads')\n",
    "\n",
    "# Hide x labels and tick labels for top plots and y ticks for right plots.\n",
    "for ax in axs.flat:\n",
    "    ax.label_outer()"
   ]
  },
  {
   "cell_type": "code",
   "execution_count": 185,
   "id": "incomplete-thunder",
   "metadata": {},
   "outputs": [
    {
     "data": {
      "text/plain": [
       "(array([0.083, 0.   , 0.167, 0.   , 0.   , 0.   , 0.   , 0.   , 0.   ,\n",
       "        0.083, 0.083, 0.083, 0.   , 0.083, 0.   , 0.167, 0.   , 0.   ,\n",
       "        0.   , 0.333, 0.   , 0.   , 0.   , 0.   , 0.083, 0.   , 0.   ,\n",
       "        0.   , 0.   , 0.   , 0.   , 0.   , 0.083, 0.   , 0.   , 0.   ,\n",
       "        0.   , 0.   , 0.   , 0.   , 0.   , 0.   , 0.   , 0.083, 0.   ,\n",
       "        0.   , 0.167, 0.   , 0.   , 0.   , 0.   , 0.   , 0.   , 0.   ,\n",
       "        0.   , 0.   , 0.   , 0.   , 0.   , 0.   , 0.083, 0.   , 0.083,\n",
       "        0.   , 0.083, 0.   , 0.167, 0.083, 0.083, 0.   , 0.   , 0.   ,\n",
       "        0.   , 0.   , 0.   , 0.083, 0.   , 0.   , 0.   , 0.   , 0.167,\n",
       "        0.   , 0.   , 0.   , 0.25 , 0.   , 0.083, 0.083, 0.   , 0.083,\n",
       "        0.   , 0.   , 0.   , 0.   , 0.   , 0.   , 0.   , 0.083, 0.   ,\n",
       "        0.   ]),\n",
       " 0.08333333333333333,\n",
       " 7)"
      ]
     },
     "execution_count": 185,
     "metadata": {},
     "output_type": "execute_result"
    }
   ],
   "source": [
    "calc_pval_E8(triads, dcor_attributes[semm], 0.05, max_dif3, M)"
   ]
  },
  {
   "cell_type": "code",
   "execution_count": 193,
   "id": "brilliant-cancellation",
   "metadata": {},
   "outputs": [
    {
     "data": {
      "text/plain": [
       "(0.08333333333333333, 0.16666666666666666)"
      ]
     },
     "execution_count": 193,
     "metadata": {},
     "output_type": "execute_result"
    }
   ],
   "source": [
    "sem = 6\n",
    "th = 0.05\n",
    "\n",
    "polarities = calc_link_polarities2(dcor_attributes[sem], th)\n",
    "N = polarities.shape[0]\n",
    "\n",
    "rho = np.sum(polarities == 1)/2 / N/(N-1)*2\n",
    "pol_rand = distribute_random_polarities(N, rho)\n",
    "\n",
    "triads = get_triads(data[sem])\n",
    "balanced_triad_density_network(polarities, triads), balanced_triad_density_network(pol_rand, triads)\n",
    "\n"
   ]
  },
  {
   "cell_type": "code",
   "execution_count": 194,
   "id": "contemporary-container",
   "metadata": {},
   "outputs": [
    {
     "data": {
      "text/plain": [
       "{1: array([10.,  9., 12., 22., 41., 45., 39., 64., 12.,  0.,  4.,  1., 17.,\n",
       "         8., 40.,  0.,  0.,  0.,  0.,  0.,  0.]),\n",
       " 2: array([ 2.,  3.,  3.,  4., 10., 10.,  2.,  0.,  1.,  6., 23., 50., 45.,\n",
       "        83.,  0.,  0.,  0.,  0.,  0.,  0.,  0.]),\n",
       " 3: array([15., 12., 17., 29., 22., 43., 10., 24., 19., 75., 10.,  4.,  2.,\n",
       "        59.,  0.,  0.,  0.,  0.,  0.,  0.,  0.]),\n",
       " 4: array([ 9.,  9.,  5., 16.,  5.,  5.,  4.,  0.,  4., 12.,  4.,  0., 30.,\n",
       "        87., 97.,  0.,  0.,  0.,  0.,  0.,  0.]),\n",
       " 5: array([ 5.,  8.,  8., 21., 16.,  2., 20., 11.,  0.,  0., 13., 46., 30.,\n",
       "        61.,  0.,  0.,  0.,  0.,  0.,  0.,  0.]),\n",
       " 6: array([14., 11.,  6., 25.,  6.,  0., 24.,  1.,  1.,  6.,  4.,  2.,  6.,\n",
       "        50.,  0.,  0.,  0.,  0.,  0.,  0.,  0.])}"
      ]
     },
     "execution_count": 194,
     "metadata": {},
     "output_type": "execute_result"
    }
   ],
   "source": [
    "pvals"
   ]
  },
  {
   "cell_type": "markdown",
   "id": "trying-snowboard",
   "metadata": {},
   "source": [
    "## Similar analysis but with taking all terms together"
   ]
  },
  {
   "cell_type": "code",
   "execution_count": 198,
   "id": "sized-cedar",
   "metadata": {},
   "outputs": [
    {
     "data": {
      "text/plain": [
       "Text(0, 0.5, 'density of balanced triads')"
      ]
     },
     "execution_count": 198,
     "metadata": {},
     "output_type": "execute_result"
    },
    {
     "data": {
      "image/png": "[encoded data removed]",
      "text/plain": [
       "<Figure size 432x288 with 1 Axes>"
      ]
     },
     "metadata": {
      "needs_background": "light"
     },
     "output_type": "display_data"
    }
   ],
   "source": [
    "first_sem = 1\n",
    "last_sem = 6\n",
    "thetas = np.linspace(0,1,101)\n",
    "\n",
    "triads_all = [get_triads(data[semm]) for semm in range(1,last_sem+1)]\n",
    "triads_len = [len(x) for x in triads_all]\n",
    "triads_all_num = np.sum(triads_len[first_sem-1:last_sem])\n",
    "\n",
    "agents_len = [len(dcor_attributes[semm]) for semm in range(1,last_sem+1)]\n",
    "net_all_num = np.sum([N*(N-1)/2 for N in agents_len[first_sem-1:last_sem]])\n",
    "\n",
    "all_bals = np.zeros(len(thetas))\n",
    "bals = np.zeros(len(thetas))\n",
    "\n",
    "for semm in range(first_sem, last_sem+1):\n",
    "    triads = triads_all[semm-1]\n",
    "    N = agents_len[semm-1]\n",
    "            \n",
    "    for i, theta in enumerate(thetas):\n",
    "        polarities = calc_link_polarities2(dcor_attributes[semm], theta)\n",
    "        bals[i] = bals[i] + balanced_triad_density_network(polarities, triads) * triads_len[semm - 1]\n",
    "        \n",
    "        rho = np.sum(polarities == 1)/2 / N/(N-1)*2\n",
    "        all_bals[i] = all_bals[i] + (np.power(rho,3) + 3*rho*np.power(1-rho,2) ) * N*(N-1)/2\n",
    "\n",
    "bals = bals / triads_all_num\n",
    "all_bals = all_bals / net_all_num\n",
    "\n",
    "plt.plot(thetas, bals, thetas, all_bals)\n",
    "plt.legend([\"network\", \"all\"])\n",
    "plt.title(\"Model E8. Comparing data and expected values in all terms together.\")\n",
    "plt.xlabel(\"theta\")\n",
    "plt.ylabel(\"density of balanced triads\")"
   ]
  },
  {
   "cell_type": "code",
   "execution_count": 51,
   "id": "respiratory-league",
   "metadata": {},
   "outputs": [
    {
     "name": "stdout",
     "output_type": "stream",
     "text": [
      "12:05:52 . Started analysis\n",
      "12:06:04 . Finished calculating real-world balanced densities. \n",
      "12:08:38 . Finished  20 % of randomized calculations.\n",
      "12:11:07 . Finished  40 % of randomized calculations.\n",
      "12:13:41 . Finished  60 % of randomized calculations.\n",
      "12:16:11 . Finished  80 % of randomized calculations.\n",
      "12:18:45 . Finished  100 % of randomized calculations.\n",
      "12:18:45 . Finished.\n"
     ]
    },
    {
     "data": {
      "text/plain": [
       "(8415.0,\n",
       " array([7648., 7667., 7588., 7639., 7661., 7611., 7676., 7621., 7637.,\n",
       "        7614., 7603., 7532., 7668., 7557., 7609., 7557., 7628., 7662.,\n",
       "        7655., 7708., 7593., 7698., 7592., 7624., 7533., 7565., 7597.,\n",
       "        7667., 7615., 7641., 7622., 7589., 7596., 7711., 7620., 7668.,\n",
       "        7750., 7605., 7675., 7622., 7587., 7658., 7562., 7601., 7673.,\n",
       "        7646., 7629., 7643., 7620., 7703., 7625., 7511., 7613., 7667.,\n",
       "        7630., 7595., 7708., 7672., 7622., 7664., 7592., 7564., 7647.,\n",
       "        7656., 7635., 7645., 7589., 7537., 7630., 7682., 7605., 7604.,\n",
       "        7591., 7609., 7600., 7748., 7721., 7639., 7673., 7610., 7570.,\n",
       "        7593., 7567., 7556., 7645., 7638., 7602., 7559., 7625., 7566.,\n",
       "        7632., 7634., 7683., 7665., 7622., 7684., 7554., 7627., 7621.,\n",
       "        7631., 7658., 7621., 7536., 7655., 7634., 7594., 7616., 7653.,\n",
       "        7589., 7660., 7687., 7566., 7565., 7744., 7614., 7643., 7634.,\n",
       "        7655., 7586., 7608., 7642., 7566., 7654., 7662., 7590., 7668.,\n",
       "        7552., 7661., 7583., 7593., 7578., 7645., 7591., 7670., 7666.,\n",
       "        7670., 7601., 7652., 7626., 7617., 7627., 7656., 7627., 7653.,\n",
       "        7611., 7616., 7641., 7588., 7698., 7588., 7591., 7748., 7682.,\n",
       "        7588., 7619., 7636., 7632., 7593., 7570., 7598., 7628., 7721.,\n",
       "        7597., 7589., 7634., 7668., 7602., 7635., 7684., 7713., 7568.,\n",
       "        7630., 7637., 7612., 7691., 7668., 7617., 7584., 7609., 7608.,\n",
       "        7563., 7617., 7618., 7602., 7663., 7636., 7581., 7630., 7584.,\n",
       "        7624., 7571., 7611., 7667., 7646., 7615., 7639., 7610., 7609.,\n",
       "        7586., 7608., 7649., 7575., 7597., 7661., 7653., 7593., 7695.,\n",
       "        7605., 7608., 7595., 7678., 7607., 7681., 7661., 7640., 7612.,\n",
       "        7569., 7644., 7593., 7636., 7588., 7615., 7661., 7727., 7676.,\n",
       "        7630., 7637., 7632., 7652., 7631., 7622., 7662., 7604., 7724.,\n",
       "        7685., 7602., 7519., 7605., 7592., 7648., 7598., 7601., 7574.,\n",
       "        7631., 7611., 7671., 7664., 7559., 7592., 7684., 7602., 7586.,\n",
       "        7572., 7643., 7582., 7575., 7620., 7677., 7608., 7668., 7634.,\n",
       "        7687., 7652., 7657., 7592., 7634., 7618., 7733., 7615., 7612.,\n",
       "        7594., 7601., 7759., 7631., 7528., 7590., 7677., 7628., 7623.,\n",
       "        7617., 7575., 7610., 7554., 7567., 7662., 7567., 7657., 7635.,\n",
       "        7694., 7576., 7647., 7629., 7616., 7640., 7618., 7586., 7691.,\n",
       "        7555., 7652., 7655., 7631., 7654., 7653., 7659., 7596., 7579.,\n",
       "        7681., 7612., 7632., 7592., 7608., 7647., 7619., 7593., 7566.,\n",
       "        7537., 7636., 7571., 7673., 7594., 7671., 7660., 7579., 7594.,\n",
       "        7702., 7728., 7593., 7605., 7655., 7546., 7634., 7593., 7525.,\n",
       "        7654., 7650., 7597., 7652., 7582., 7683., 7580., 7604., 7623.,\n",
       "        7607., 7681., 7640., 7599., 7607., 7554., 7642., 7601., 7604.,\n",
       "        7609., 7637., 7527., 7533., 7654., 7668., 7641., 7671., 7673.,\n",
       "        7648., 7633., 7665., 7596., 7669., 7604., 7626., 7570., 7666.,\n",
       "        7640., 7600., 7539., 7637., 7629., 7693., 7550., 7534., 7591.,\n",
       "        7634., 7678., 7608., 7615., 7629., 7663., 7662., 7592., 7672.,\n",
       "        7592., 7620., 7656., 7682., 7572., 7661., 7610., 7583., 7640.,\n",
       "        7649., 7546., 7621., 7551., 7672., 7702., 7593., 7658., 7687.,\n",
       "        7611., 7606., 7709., 7707., 7603., 7582., 7596., 7619., 7668.,\n",
       "        7561., 7649., 7643., 7592., 7562., 7661., 7658., 7670., 7669.,\n",
       "        7629., 7663., 7571., 7696., 7679., 7748., 7667., 7617., 7600.,\n",
       "        7683., 7621., 7630., 7679., 7584., 7664., 7659., 7674., 7599.,\n",
       "        7495., 7615., 7617., 7642., 7585., 7658., 7632., 7610., 7622.,\n",
       "        7658., 7653., 7585., 7641., 7613., 7581., 7623., 7570., 7595.,\n",
       "        7570., 7506., 7627., 7597., 7703., 7574., 7589., 7657., 7666.,\n",
       "        7644., 7719., 7623., 7703., 7706., 7530., 7660., 7589., 7583.,\n",
       "        7586., 7567., 7679., 7665., 7629., 7671., 7630., 7717., 7579.,\n",
       "        7667., 7522., 7562., 7575., 7685., 7750., 7621., 7689., 7661.,\n",
       "        7659., 7631., 7631., 7570., 7624., 7596., 7640., 7730., 7729.,\n",
       "        7546., 7685., 7612., 7627., 7562., 7647., 7644., 7587., 7681.,\n",
       "        7619., 7544., 7661., 7570., 7533., 7536., 7594., 7595., 7630.,\n",
       "        7572., 7627., 7670., 7645., 7573., 7603., 7695., 7605., 7604.,\n",
       "        7570., 7688., 7561., 7535., 7641., 7617., 7540., 7596., 7636.,\n",
       "        7720., 7611., 7607., 7632., 7609., 7693., 7591., 7654., 7599.,\n",
       "        7624., 7599., 7612., 7711., 7558., 7590., 7586., 7613., 7677.,\n",
       "        7601., 7658., 7593., 7520., 7604., 7603., 7618., 7624., 7583.,\n",
       "        7546., 7620., 7608., 7667., 7590., 7592., 7633., 7589., 7593.,\n",
       "        7595., 7641., 7601., 7692., 7622., 7624., 7594., 7653., 7611.,\n",
       "        7692., 7548., 7513., 7622., 7618., 7705., 7616., 7650., 7662.,\n",
       "        7623., 7578., 7526., 7638., 7637., 7623.]))"
      ]
     },
     "execution_count": 51,
     "metadata": {},
     "output_type": "execute_result"
    }
   ],
   "source": [
    "first_sem = 1\n",
    "last_sem = 6\n",
    "thetas = np.linspace(0,1,101)\n",
    "M = 600\n",
    "disp_every = 0.2\n",
    "generate_true_densities = True\n",
    "saved = False\n",
    "\n",
    "now = datetime.now()\n",
    "current_time = now.strftime(\"%H:%M:%S\")\n",
    "print(current_time, \". Started analysis\")\n",
    "\n",
    "triads_all = [get_triads(data[semm]) for semm in range(1,last_sem+1)]\n",
    "triads_len = [len(x) for x in triads_all]\n",
    "triads_all_num = np.sum(triads_len)\n",
    "\n",
    "agents_len = [len(dcor_attributes[semm]) for semm in range(1,last_sem+1)]\n",
    "\n",
    "bal_dens = np.zeros(len(thetas))\n",
    "\n",
    "bal_dens_rands_sum = np.zeros(M)\n",
    "# attr_rands_M = [randomize_attribute_sets(dcor_attributes) for i in range(0,M)] \n",
    "\n",
    "rhos = np.zeros([last_sem - first_sem + 1, len(thetas)])\n",
    "\n",
    "if generate_true_densities:\n",
    "    for semm in range(first_sem, last_sem+1):\n",
    "        triads = triads_all[semm-1]\n",
    "\n",
    "        for i, theta in enumerate(thetas):\n",
    "            polarities = calc_link_polarities2(dcor_attributes[semm], theta)\n",
    "            bal_dens[i] = bal_dens[i] + balanced_triad_density_network(polarities, triads) * triads_len[semm - 1]\n",
    "\n",
    "            N = polarities.shape[0]\n",
    "            rhos[semm-first_sem, i] = np.sum(polarities == 1)/2 / N/(N-1)*2\n",
    "    \n",
    "    now = datetime.now()\n",
    "    current_time = now.strftime(\"%H:%M:%S\")\n",
    "    print(current_time, \". Finished calculating real-world balanced densities. \")\n",
    "\n",
    "\n",
    "bal_dens_rands = np.zeros([M, len(thetas)])\n",
    "disp_every_printer = disp_every\n",
    "for j in range(0,M):  \n",
    "    for semm in range(first_sem, last_sem+1):\n",
    "        triads = triads_all[semm-1]\n",
    "        N = agents_len[semm-1]\n",
    "        for i, theta in enumerate(thetas):    \n",
    "            polarities_rand = distribute_random_polarities(N, rhos[semm - first_sem, i])\n",
    "            bal_dens_rands[j][i] = bal_dens_rands[j][i] + balanced_triad_density_network(polarities_rand, triads) * triads_len[semm - 1]\n",
    "\n",
    "    bal_dens_rands_sum[j] = np.sum(bal_dens_rands[j])\n",
    "    \n",
    "    if (j+1) / M >= disp_every_printer:\n",
    "        now = datetime.now()\n",
    "\n",
    "        current_time = now.strftime(\"%H:%M:%S\")\n",
    "        print(current_time, \". Finished \", str(int((j+1)/M*100)), \"% of randomized calculations.\")\n",
    "        disp_every_printer += disp_every\n",
    "    \n",
    "now = datetime.now()\n",
    "\n",
    "current_time = now.strftime(\"%H:%M:%S\")\n",
    "print(current_time, \". Finished.\")\n",
    "\n",
    "bal_dens_sum = np.sum(bal_dens)\n",
    "\n",
    "bal_dens = bal_dens / triads_all_num\n",
    "bal_dens_rands = bal_dens_rands / triads_all_num\n",
    "\n",
    "test_E8_all_agents_terms_together_thetas = thetas\n",
    "test_E8_all_agents_terms_together_bal_dens = bal_dens\n",
    "test_E8_all_agents_terms_together_bal_dens_rands = bal_dens_rands\n",
    "\n",
    "bal_dens_sum, bal_dens_rands_sum\n",
    "\n",
    "# TODO: do poprawy powyzej. Zrobić, żeby była taka sama randomizacja wszystkich węzłów na raz we wszystkich semestrach. \n",
    "#     Obecnie jest to niezależne. \n"
   ]
  },
  {
   "cell_type": "code",
   "execution_count": 52,
   "id": "least-miami",
   "metadata": {},
   "outputs": [],
   "source": [
    "#open, add and save\n",
    "if not saved:\n",
    "    with open('pca_e8_rand_results.pkl', 'rb') as file:\n",
    "\n",
    "        # Call load method to deserialze\n",
    "        old_data = pickle.load(file)\n",
    "\n",
    "\n",
    "\n",
    "    test_E8_all_agents_terms_together_bal_dens_rands = np.concatenate((old_data[2], test_E8_all_agents_terms_together_bal_dens_rands))\n",
    "\n",
    "    with open('pca_e8_rand_results.pkl', 'wb') as file:\n",
    "\n",
    "        # A new file will be created\n",
    "        pickle.dump((old_data[0], old_data[1], test_E8_all_agents_terms_together_bal_dens_rands), file) \n",
    "    saved = True"
   ]
  },
  {
   "cell_type": "code",
   "execution_count": 48,
   "id": "meaningful-biotechnology",
   "metadata": {},
   "outputs": [],
   "source": [
    "# #save, commented out not accidentally do it\n",
    "# with open('pca_e8_rand_results.pkl', 'wb') as file:\n",
    "      \n",
    "#     # A new file will be created\n",
    "#     pickle.dump((old_data[0], old_data[1], test_E8_all_agents_terms_together_bal_dens_rands[0:100]), file)\n"
   ]
  },
  {
   "cell_type": "code",
   "execution_count": 29,
   "id": "iraqi-injection",
   "metadata": {},
   "outputs": [
    {
     "name": "stdout",
     "output_type": "stream",
     "text": [
      "(array([0.  , 0.01, 0.02, 0.03, 0.04, 0.05, 0.06, 0.07, 0.08, 0.09, 0.1 ,\n",
      "       0.11, 0.12, 0.13, 0.14, 0.15, 0.16, 0.17, 0.18, 0.19, 0.2 , 0.21,\n",
      "       0.22, 0.23, 0.24, 0.25, 0.26, 0.27, 0.28, 0.29, 0.3 , 0.31, 0.32,\n",
      "       0.33, 0.34, 0.35, 0.36, 0.37, 0.38, 0.39, 0.4 , 0.41, 0.42, 0.43,\n",
      "       0.44, 0.45, 0.46, 0.47, 0.48, 0.49, 0.5 , 0.51, 0.52, 0.53, 0.54,\n",
      "       0.55, 0.56, 0.57, 0.58, 0.59, 0.6 , 0.61, 0.62, 0.63, 0.64, 0.65,\n",
      "       0.66, 0.67, 0.68, 0.69, 0.7 , 0.71, 0.72, 0.73, 0.74, 0.75, 0.76,\n",
      "       0.77, 0.78, 0.79, 0.8 , 0.81, 0.82, 0.83, 0.84, 0.85, 0.86, 0.87,\n",
      "       0.88, 0.89, 0.9 , 0.91, 0.92, 0.93, 0.94, 0.95, 0.96, 0.97, 0.98,\n",
      "       0.99, 1.  ]), array([0.051, 0.051, 0.051, 0.051, 0.051, 0.051, 0.051, 0.051, 0.051,\n",
      "       0.051, 0.051, 0.051, 0.051, 0.051, 0.051, 0.058, 0.058, 0.101,\n",
      "       0.101, 0.109, 0.159, 0.159, 0.181, 0.188, 0.21 , 0.254, 0.29 ,\n",
      "       0.297, 0.326, 0.341, 0.37 , 0.37 , 0.406, 0.442, 0.449, 0.507,\n",
      "       0.493, 0.529, 0.565, 0.572, 0.63 , 0.645, 0.638, 0.623, 0.63 ,\n",
      "       0.645, 0.638, 0.638, 0.659, 0.623, 0.616, 0.667, 0.703, 0.681,\n",
      "       0.688, 0.703, 0.717, 0.754, 0.746, 0.754, 0.768, 0.783, 0.79 ,\n",
      "       0.804, 0.812, 0.819, 0.877, 0.913, 0.935, 0.942, 0.942, 0.964,\n",
      "       0.964, 0.978, 0.993, 1.   , 1.   , 1.   , 1.   , 1.   , 1.   ,\n",
      "       1.   , 1.   , 1.   , 1.   , 1.   , 1.   , 1.   , 1.   , 1.   ,\n",
      "       1.   , 1.   , 1.   , 1.   , 1.   , 1.   , 1.   , 1.   , 1.   ,\n",
      "       1.   , 1.   ]), array([[0.007, 0.036, 0.022, ..., 1.   , 1.   , 1.   ],\n",
      "       [0.   , 0.029, 0.022, ..., 1.   , 1.   , 1.   ],\n",
      "       [0.   , 0.   , 0.   , ..., 1.   , 1.   , 1.   ],\n",
      "       ...,\n",
      "       [0.058, 0.014, 0.022, ..., 1.   , 1.   , 1.   ],\n",
      "       [0.007, 0.007, 0.022, ..., 1.   , 1.   , 1.   ],\n",
      "       [0.029, 0.   , 0.007, ..., 1.   , 1.   , 1.   ]]))\n"
     ]
    }
   ],
   "source": [
    "#open\n",
    "with open('pca_e8_rand_results.pkl', 'rb') as file:\n",
    "      \n",
    "    # Call load method to deserialze\n",
    "    myvar = pickle.load(file)\n",
    "  \n",
    "    print(myvar)\n",
    "test_E8_all_agents_terms_together_thetas, test_E8_all_agents_terms_together_bal_dens, test_E8_all_agents_terms_together_bal_dens_rands = myvar\n",
    "\n",
    "bal_dens_sum = np.sum(test_E8_all_agents_terms_together_bal_dens)\n",
    "bal_dens_rands_sum = np.array([np.sum(test_E8_all_agents_terms_together_bal_dens_rands[j]) for j in range(0,len(test_E8_all_agents_terms_together_bal_dens_rands))])\n"
   ]
  },
  {
   "cell_type": "code",
   "execution_count": 55,
   "id": "geological-conditioning",
   "metadata": {},
   "outputs": [
    {
     "data": {
      "text/plain": [
       "array([[0.007, 0.036, 0.022, ..., 1.   , 1.   , 1.   ],\n",
       "       [0.   , 0.029, 0.022, ..., 1.   , 1.   , 1.   ],\n",
       "       [0.   , 0.   , 0.   , ..., 1.   , 1.   , 1.   ],\n",
       "       ...,\n",
       "       [0.058, 0.014, 0.022, ..., 1.   , 1.   , 1.   ],\n",
       "       [0.007, 0.007, 0.022, ..., 1.   , 1.   , 1.   ],\n",
       "       [0.029, 0.   , 0.007, ..., 1.   , 1.   , 1.   ]])"
      ]
     },
     "execution_count": 55,
     "metadata": {},
     "output_type": "execute_result"
    }
   ],
   "source": [
    "test_E8_all_agents_terms_together_bal_dens_rands"
   ]
  },
  {
   "cell_type": "code",
   "execution_count": 30,
   "id": "genetic-diary",
   "metadata": {},
   "outputs": [
    {
     "data": {
      "text/plain": [
       "(1100, 1100)"
      ]
     },
     "execution_count": 30,
     "metadata": {},
     "output_type": "execute_result"
    }
   ],
   "source": [
    "np.sum(bal_dens_sum > bal_dens_rands_sum ), np.sum(bal_dens_sum >= bal_dens_rands_sum)"
   ]
  },
  {
   "cell_type": "code",
   "execution_count": 56,
   "id": "handmade-complex",
   "metadata": {},
   "outputs": [
    {
     "data": {
      "text/plain": [
       "array([  8.,   6.,  11.,  10.,   7.,   9.,   7.,  14.,   7.,   7.,   9.,\n",
       "         6.,   7.,  12.,   9.,  73.,  90.,  38.,  68.,  92.,  12.,  40.,\n",
       "        26.,  55.,  44.,  14.,   8.,  12.,   4.,   9.,   9.,   9.,  10.,\n",
       "         8.,   8.,   5.,   3.,   0.,   0.,   1.,   0.,   0.,   0.,   0.,\n",
       "         0.,   1.,   1.,   0.,   0.,   1.,   1.,   0.,   0.,   0.,   0.,\n",
       "         0.,   1.,   1.,  11.,  23.,  52.,  74., 136., 185., 304., 439.,\n",
       "       251., 125., 106., 180., 291., 271., 342., 294., 104.,   0.,   0.,\n",
       "         0.,   0.,   0.,   0.,   0.,   0.,   0.,   0.,   0.,   0.,   0.,\n",
       "         0.,   0.,   0.,   0.,   0.,   0.,   0.,   0.,   0.,   0.,   0.,\n",
       "         0.,   0.])"
      ]
     },
     "execution_count": 56,
     "metadata": {},
     "output_type": "execute_result"
    }
   ],
   "source": [
    "pvals_T = np.zeros(len(thetas))\n",
    "\n",
    "for i, theta in enumerate(thetas):    \n",
    "    pvals_T[i] = np.sum(bal_dens_rands[:,i] > bal_dens[i])\n",
    "\n",
    "pvals_T"
   ]
  },
  {
   "cell_type": "code",
   "execution_count": 32,
   "id": "considerable-music",
   "metadata": {},
   "outputs": [
    {
     "data": {
      "text/plain": [
       "array([4.100e+01, 4.100e+01, 3.700e+01, 3.000e+01, 3.300e+01, 4.200e+01,\n",
       "       3.800e+01, 3.700e+01, 3.000e+01, 3.000e+01, 3.800e+01, 2.800e+01,\n",
       "       3.500e+01, 3.500e+01, 3.600e+01, 1.900e+02, 2.480e+02, 9.900e+01,\n",
       "       1.780e+02, 2.160e+02, 3.800e+01, 9.100e+01, 6.600e+01, 1.330e+02,\n",
       "       1.130e+02, 3.800e+01, 1.700e+01, 3.700e+01, 1.200e+01, 2.400e+01,\n",
       "       1.800e+01, 3.000e+01, 1.800e+01, 1.700e+01, 2.200e+01, 6.000e+00,\n",
       "       1.600e+01, 3.000e+00, 0.000e+00, 3.000e+00, 0.000e+00, 0.000e+00,\n",
       "       0.000e+00, 1.000e+00, 0.000e+00, 1.000e+00, 1.000e+00, 2.000e+00,\n",
       "       0.000e+00, 2.000e+00, 5.000e+00, 0.000e+00, 0.000e+00, 0.000e+00,\n",
       "       1.000e+00, 2.000e+00, 3.000e+00, 1.000e+00, 2.400e+01, 3.800e+01,\n",
       "       1.170e+02, 1.640e+02, 3.010e+02, 4.200e+02, 6.250e+02, 8.580e+02,\n",
       "       5.140e+02, 3.180e+02, 2.810e+02, 4.240e+02, 6.600e+02, 6.200e+02,\n",
       "       7.470e+02, 7.020e+02, 4.200e+02, 2.660e+02, 4.140e+02, 5.690e+02,\n",
       "       6.340e+02, 7.710e+02, 8.240e+02, 8.640e+02, 9.290e+02, 9.410e+02,\n",
       "       9.750e+02, 1.005e+03, 1.027e+03, 1.016e+03, 1.015e+03, 1.054e+03,\n",
       "       1.055e+03, 1.064e+03, 1.100e+03, 1.100e+03, 1.100e+03, 1.100e+03,\n",
       "       1.100e+03, 1.100e+03, 1.100e+03, 1.100e+03, 1.100e+03])"
      ]
     },
     "execution_count": 32,
     "metadata": {},
     "output_type": "execute_result"
    }
   ],
   "source": [
    "pvals_T = np.zeros(len(test_E8_all_agents_terms_together_thetas))\n",
    "\n",
    "for i, theta in enumerate(test_E8_all_agents_terms_together_thetas):    \n",
    "    pvals_T[i] = np.sum(test_E8_all_agents_terms_together_bal_dens_rands[:,i] >= test_E8_all_agents_terms_together_bal_dens[i])\n",
    "\n",
    "pvals_T"
   ]
  },
  {
   "cell_type": "code",
   "execution_count": 34,
   "id": "fc6d5a81",
   "metadata": {},
   "outputs": [
    {
     "data": {
      "text/plain": [
       "[(0.0, 41.0),\n",
       " (0.01, 41.0),\n",
       " (0.02, 37.0),\n",
       " (0.03, 30.0),\n",
       " (0.04, 33.0),\n",
       " (0.05, 42.0),\n",
       " (0.06, 38.0),\n",
       " (0.07, 37.0),\n",
       " (0.08, 30.0),\n",
       " (0.09, 30.0),\n",
       " (0.1, 38.0),\n",
       " (0.11, 28.0),\n",
       " (0.12, 35.0),\n",
       " (0.13, 35.0),\n",
       " (0.14, 36.0),\n",
       " (0.2, 38.0),\n",
       " (0.25, 38.0),\n",
       " (0.26, 17.0),\n",
       " (0.27, 37.0),\n",
       " (0.28, 12.0),\n",
       " (0.29, 24.0),\n",
       " (0.3, 18.0),\n",
       " (0.31, 30.0),\n",
       " (0.32, 18.0),\n",
       " (0.33, 17.0),\n",
       " (0.34, 22.0),\n",
       " (0.35000000000000003, 6.0),\n",
       " (0.36, 16.0),\n",
       " (0.37, 3.0),\n",
       " (0.38, 0.0),\n",
       " (0.39, 3.0),\n",
       " (0.4, 0.0),\n",
       " (0.41000000000000003, 0.0),\n",
       " (0.42, 0.0),\n",
       " (0.43, 1.0),\n",
       " (0.44, 0.0),\n",
       " (0.45, 1.0),\n",
       " (0.46, 1.0),\n",
       " (0.47000000000000003, 2.0),\n",
       " (0.48, 0.0),\n",
       " (0.49, 2.0),\n",
       " (0.5, 5.0),\n",
       " (0.51, 0.0),\n",
       " (0.52, 0.0),\n",
       " (0.53, 0.0),\n",
       " (0.54, 1.0),\n",
       " (0.55, 2.0),\n",
       " (0.56, 3.0),\n",
       " (0.5700000000000001, 1.0),\n",
       " (0.58, 24.0),\n",
       " (0.59, 38.0)]"
      ]
     },
     "execution_count": 34,
     "metadata": {},
     "output_type": "execute_result"
    }
   ],
   "source": [
    "[(theta, pval) for theta, pval in zip(test_E8_all_agents_terms_together_thetas, pvals_T) if pval < 0.05*1100]"
   ]
  },
  {
   "cell_type": "code",
   "execution_count": 47,
   "id": "9d9dd2e7",
   "metadata": {},
   "outputs": [
    {
     "data": {
      "text/plain": [
       "array([ True,  True,  True,  True,  True,  True,  True,  True,  True,\n",
       "       False, False, False, False, False, False, False, False, False,\n",
       "       False, False, False, False, False, False, False, False, False,\n",
       "       False, False, False, False, False, False, False, False, False,\n",
       "       False, False, False, False, False, False, False, False, False,\n",
       "       False, False, False, False, False, False, False, False, False,\n",
       "       False, False, False, False, False, False, False, False, False,\n",
       "       False, False, False, False, False, False, False, False, False,\n",
       "       False, False, False, False, False, False, False, False, False,\n",
       "       False, False, False, False, False, False, False, False, False,\n",
       "       False, False, False, False, False, False, False, False, False,\n",
       "       False, False])"
      ]
     },
     "execution_count": 47,
     "metadata": {},
     "output_type": "execute_result"
    }
   ],
   "source": [
    "pvals_sorted = np.sort(pvals_T)\n",
    "indexes_sorted = np.argsort(pvals_T)\n",
    "\n",
    "ms = np.array(list(range(len(pvals_T),0,-1)))\n",
    "\n",
    "passed = pvals_sorted < 0.05 / ms\n",
    "passed"
   ]
  },
  {
   "cell_type": "code",
   "execution_count": 57,
   "id": "crucial-screw",
   "metadata": {},
   "outputs": [
    {
     "data": {
      "text/plain": [
       "Text(0, 0.5, 'density of balanced triads')"
      ]
     },
     "execution_count": 57,
     "metadata": {},
     "output_type": "execute_result"
    },
    {
     "data": {
      "image/png": "[encoded data removed]",
      "text/plain": [
       "<Figure size 432x288 with 1 Axes>"
      ]
     },
     "metadata": {
      "needs_background": "light"
     },
     "output_type": "display_data"
    }
   ],
   "source": [
    "mean_vals = np.mean(np.array(test_E8_all_agents_terms_together_bal_dens_rands).T,1)\n",
    "std_vals = np.std(np.array(test_E8_all_agents_terms_together_bal_dens_rands).T,1)\n",
    "\n",
    "plt.plot(test_E8_all_agents_terms_together_thetas, test_E8_all_agents_terms_together_bal_dens, 'k.')\n",
    "\n",
    "plt.fill_between(test_E8_all_agents_terms_together_thetas, mean_vals-std_vals, mean_vals+std_vals)\n",
    "plt.legend([\"network\", \"mean\"])\n",
    "plt.title(\"Model E8. Comparing data and randomized networks in all terms together.\")\n",
    "plt.xlabel(\"theta\")\n",
    "plt.ylabel(\"density of balanced triads\")"
   ]
  },
  {
   "cell_type": "code",
   "execution_count": 58,
   "id": "progressive-grade",
   "metadata": {},
   "outputs": [
    {
     "data": {
      "text/plain": [
       "Text(0, 0.5, 'density of balanced triads in all sems')"
      ]
     },
     "execution_count": 58,
     "metadata": {},
     "output_type": "execute_result"
    },
    {
     "data": {
      "image/png": "[encoded data removed]",
      "text/plain": [
       "<Figure size 432x288 with 1 Axes>"
      ]
     },
     "metadata": {
      "needs_background": "light"
     },
     "output_type": "display_data"
    }
   ],
   "source": [
    "handles_rand = plt.plot(test_E8_all_agents_terms_together_thetas, np.array(test_E8_all_agents_terms_together_bal_dens_rands).T, 'b')\n",
    "handles_net, = plt.plot(test_E8_all_agents_terms_together_thetas, test_E8_all_agents_terms_together_bal_dens, 'k')\n",
    "# plt.legend([\"network\", \"random\"], handles = [handles_net, handles_rand[0]])\n",
    "plt.legend([handles_net, handles_rand[0]], [\"network\", \"random\"])\n",
    "plt.title(\"Model E8. Comparing data and randomized networks in all terms together.\")\n",
    "plt.xlabel(\"theta\")\n",
    "plt.ylabel(\"density of balanced triads in all sems\")"
   ]
  },
  {
   "cell_type": "code",
   "execution_count": 58,
   "id": "broad-nashville",
   "metadata": {},
   "outputs": [
    {
     "data": {
      "text/plain": [
       "(5799.0,\n",
       " array([5188., 5211., 5162., 5171., 5119., 5197., 5141., 5182., 5209.,\n",
       "        5182., 5205., 5213., 5246., 5227., 5169., 5231., 5216., 5259.,\n",
       "        5191., 5220., 5228., 5169., 5202., 5157., 5181., 5181., 5149.,\n",
       "        5174., 5198., 5187., 5160., 5146., 5150., 5186., 5186., 5175.,\n",
       "        5210., 5194., 5194., 5222., 5098., 5191., 5163., 5198., 5181.,\n",
       "        5206., 5220., 5224., 5253., 5249., 5170., 5214., 5194., 5150.,\n",
       "        5195., 5220., 5153., 5138., 5174., 5115., 5272., 5157., 5129.,\n",
       "        5236., 5153., 5232., 5141., 5161., 5161., 5140., 5254., 5118.,\n",
       "        5230., 5148., 5197., 5218., 5208., 5178., 5211., 5156., 5198.,\n",
       "        5195., 5206., 5122., 5207., 5160., 5234., 5192., 5229., 5158.,\n",
       "        5144., 5141., 5245., 5239., 5110., 5169., 5204., 5208., 5192.,\n",
       "        5162., 5187., 5213., 5092., 5216., 5177., 5257., 5181., 5173.,\n",
       "        5185., 5188., 5134., 5174., 5178., 5159., 5229., 5205., 5151.,\n",
       "        5216., 5181., 5188., 5182., 5220., 5187., 5231., 5184., 5200.,\n",
       "        5164., 5256., 5201., 5164., 5253., 5172., 5169., 5199., 5251.,\n",
       "        5200., 5178., 5178., 5193., 5208., 5270., 5240., 5226., 5119.,\n",
       "        5210., 5207., 5069., 5175., 5201., 5171., 5213., 5145., 5116.,\n",
       "        5213., 5151., 5170., 5210., 5188., 5217., 5233., 5214., 5175.,\n",
       "        5171., 5162., 5215., 5179., 5214., 5183., 5226., 5138., 5218.,\n",
       "        5103., 5174., 5150., 5157., 5187., 5212., 5148., 5199., 5196.,\n",
       "        5175., 5191., 5212., 5197., 5165., 5203., 5198., 5220., 5200.,\n",
       "        5156., 5135., 5176., 5172., 5209., 5216., 5174., 5180., 5152.,\n",
       "        5152., 5177., 5166., 5190., 5220., 5164., 5199., 5133., 5179.,\n",
       "        5164., 5133., 5200., 5175., 5203., 5206., 5208., 5190., 5180.,\n",
       "        5166., 5195., 5162., 5155., 5207., 5212., 5171., 5203., 5216.,\n",
       "        5177., 5152., 5154., 5138., 5211., 5189., 5211., 5198., 5169.,\n",
       "        5190., 5171., 5196., 5182., 5225., 5138., 5192., 5201., 5159.,\n",
       "        5197., 5172., 5186., 5195., 5123., 5212., 5126., 5172., 5129.,\n",
       "        5168., 5193., 5207., 5145., 5128., 5116., 5201., 5204., 5208.,\n",
       "        5177., 5188., 5186., 5185., 5177., 5158., 5188., 5214., 5129.,\n",
       "        5150., 5192., 5175., 5198., 5210., 5152., 5174., 5199., 5146.,\n",
       "        5196., 5232., 5154., 5156., 5150., 5135., 5248., 5136., 5192.,\n",
       "        5204., 5173., 5170., 5224., 5228., 5151., 5191., 5206., 5160.,\n",
       "        5135., 5184., 5179., 5180., 5214., 5196., 5212., 5118., 5164.,\n",
       "        5157., 5206., 5142., 5191., 5164., 5204., 5230., 5158., 5204.,\n",
       "        5226., 5140., 5213., 5145., 5235., 5177., 5194., 5224., 5173.,\n",
       "        5207., 5208., 5239., 5118., 5146., 5182., 5194., 5138., 5130.,\n",
       "        5175., 5195., 5175., 5177., 5169., 5174., 5164., 5249., 5207.,\n",
       "        5210., 5149., 5182., 5136., 5192., 5177., 5194., 5190., 5142.,\n",
       "        5138., 5235., 5109., 5182., 5220., 5196., 5249., 5254., 5197.,\n",
       "        5149., 5160., 5208., 5170., 5213., 5122., 5185., 5139., 5171.,\n",
       "        5197., 5126., 5157., 5180., 5226., 5192., 5139., 5210., 5178.,\n",
       "        5178., 5174., 5282., 5080., 5199., 5187., 5209., 5188., 5168.,\n",
       "        5204., 5261., 5200., 5219., 5198., 5223., 5127., 5182., 5145.,\n",
       "        5138., 5192., 5191., 5206., 5210., 5195., 5145., 5227., 5154.,\n",
       "        5170., 5145., 5180., 5180., 5171., 5217., 5150., 5230., 5170.,\n",
       "        5187., 5218., 5188., 5160., 5151., 5157., 5213., 5195., 5231.,\n",
       "        5199., 5209., 5165., 5180., 5074., 5175., 5151., 5173., 5148.,\n",
       "        5185., 5212., 5208., 5209., 5211., 5205., 5230., 5171., 5168.,\n",
       "        5157., 5206., 5209., 5242., 5180., 5180., 5205., 5221., 5174.,\n",
       "        5237., 5153., 5239., 5180., 5119., 5192., 5155., 5126., 5173.,\n",
       "        5199., 5124., 5164., 5193., 5176., 5155., 5162., 5194., 5176.,\n",
       "        5177., 5206., 5187., 5206., 5172., 5233., 5165., 5143., 5187.,\n",
       "        5132., 5217., 5217., 5201., 5150., 5216., 5218., 5148., 5157.,\n",
       "        5205., 5215., 5173., 5157., 5190., 5133., 5186., 5200., 5197.,\n",
       "        5207., 5162., 5248., 5197., 5147., 5202., 5200., 5157., 5180.,\n",
       "        5180., 5166., 5240., 5141., 5159., 5249., 5181., 5197., 5151.,\n",
       "        5173., 5137., 5232., 5182., 5143., 5140., 5193., 5212., 5176.,\n",
       "        5163., 5145., 5202., 5147., 5212., 5170., 5156., 5238., 5154.,\n",
       "        5200., 5173., 5205., 5204., 5162., 5129., 5177., 5132., 5120.,\n",
       "        5161., 5123., 5223., 5195., 5135., 5146., 5199., 5137., 5193.,\n",
       "        5165., 5232., 5158., 5182., 5216., 5185., 5250., 5120., 5185.,\n",
       "        5190., 5145., 5192., 5217., 5235., 5169., 5205., 5131., 5136.,\n",
       "        5184., 5125., 5162., 5267., 5236., 5205., 5166., 5225., 5174.,\n",
       "        5227., 5207., 5200., 5124., 5182., 5220., 5195., 5222., 5238.,\n",
       "        5160., 5191., 5162., 5149., 5215., 5108., 5135., 5155., 5171.,\n",
       "        5199., 5197., 5199., 5114., 5189., 5191., 5193., 5104., 5207.,\n",
       "        5191., 5169., 5161., 5153., 5261., 5211., 5158., 5179., 5155.,\n",
       "        5177., 5187., 5203., 5175., 5150., 5121., 5154., 5148., 5175.,\n",
       "        5239., 5191., 5180., 5145., 5218., 5194., 5218., 5208., 5267.,\n",
       "        5194., 5144., 5228., 5225., 5173., 5197., 5108., 5188., 5196.,\n",
       "        5220., 5210., 5190., 5179., 5202., 5161., 5181., 5169., 5146.,\n",
       "        5162., 5160., 5185., 5175., 5207., 5237., 5204., 5150., 5128.,\n",
       "        5144., 5126., 5180., 5186., 5232., 5217., 5131., 5172., 5156.,\n",
       "        5209., 5257., 5196., 5130., 5161., 5201., 5245., 5210., 5137.,\n",
       "        5121., 5242., 5174., 5233., 5168., 5208., 5181., 5222., 5099.,\n",
       "        5164., 5215., 5177., 5137., 5163., 5191., 5114., 5173., 5175.,\n",
       "        5187., 5247., 5190., 5152., 5142., 5175., 5247., 5153., 5283.,\n",
       "        5176., 5196., 5224., 5181., 5173., 5156., 5142., 5183., 5226.,\n",
       "        5130., 5155., 5119., 5206., 5186., 5191., 5214., 5154., 5199.,\n",
       "        5108., 5171., 5212., 5214., 5170., 5124., 5182., 5172., 5111.,\n",
       "        5176., 5171., 5202., 5198., 5171., 5228., 5208., 5213., 5192.,\n",
       "        5171., 5184., 5167., 5273., 5216., 5095., 5127., 5186., 5145.,\n",
       "        5156., 5223., 5171., 5165., 5161., 5213., 5188., 5261., 5238.,\n",
       "        5235., 5219., 5186., 5166., 5185., 5191., 5124., 5192., 5197.,\n",
       "        5140., 5225., 5212., 5234., 5205., 5148., 5127., 5121., 5245.,\n",
       "        5154., 5177., 5196., 5126., 5153., 5200., 5250., 5252., 5173.,\n",
       "        5267., 5154., 5128., 5174., 5171., 5225., 5204., 5262., 5193.,\n",
       "        5176., 5166., 5226., 5253., 5245., 5232., 5246., 5238., 5208.,\n",
       "        5192., 5176., 5189., 5161., 5159., 5211., 5175., 5145., 5155.,\n",
       "        5182., 5197., 5184., 5187., 5180., 5198., 5153., 5202., 5187.,\n",
       "        5149., 5212., 5179., 5198., 5161., 5158., 5211., 5157., 5232.,\n",
       "        5166., 5178., 5220., 5134., 5185., 5189., 5175., 5161., 5165.,\n",
       "        5204., 5175., 5212., 5168., 5111., 5230., 5248., 5202., 5164.,\n",
       "        5255., 5167., 5197., 5198., 5203., 5196., 5212., 5169., 5165.,\n",
       "        5198., 5193., 5211., 5108., 5219., 5175., 5124., 5076., 5201.,\n",
       "        5138., 5225., 5232., 5156., 5128., 5303., 5192., 5161., 5160.,\n",
       "        5200., 5188., 5176., 5208., 5190., 5209., 5165., 5171., 5156.,\n",
       "        5167., 5180., 5120., 5179., 5211., 5241., 5173., 5150., 5196.,\n",
       "        5207., 5181., 5160., 5171., 5223., 5201., 5251., 5155., 5200.,\n",
       "        5199., 5177., 5189., 5184., 5188., 5228., 5186., 5173., 5144.,\n",
       "        5199., 5179., 5166., 5155., 5254., 5151., 5162., 5135., 5173.,\n",
       "        5207., 5186., 5196., 5222., 5163., 5179., 5183., 5177., 5214.,\n",
       "        5204., 5213., 5209., 5186., 5201., 5222., 5162., 5216., 5126.,\n",
       "        5265., 5171., 5223., 5246., 5228., 5129., 5248., 5200., 5220.,\n",
       "        5222., 5217., 5147., 5247., 5158., 5185., 5162., 5131., 5140.,\n",
       "        5161., 5155., 5242., 5111., 5179., 5161., 5222., 5199., 5187.,\n",
       "        5235., 5205., 5229., 5184., 5143., 5177., 5207., 5182., 5169.,\n",
       "        5142., 5202., 5184., 5165., 5106., 5211., 5168., 5212., 5173.,\n",
       "        5204., 5273., 5156., 5252., 5195., 5223., 5109., 5150., 5276.,\n",
       "        5199., 5195., 5244., 5174., 5193., 5188., 5180., 5162., 5146.,\n",
       "        5247.]))"
      ]
     },
     "execution_count": 58,
     "metadata": {},
     "output_type": "execute_result"
    }
   ],
   "source": [
    "first_sem = 2\n",
    "last_sem = 6\n",
    "thetas = np.linspace(0,1,101)\n",
    "M = 1000\n",
    "\n",
    "triads_all = [get_triads(data[semm]) for semm in range(1,last_sem+1)]\n",
    "triads_len = [len(x) for x in triads_all]\n",
    "triads_all_num = np.sum(triads_len)\n",
    "\n",
    "agents_len = [len(dcor_attributes[semm]) for semm in range(1,last_sem+1)]\n",
    "\n",
    "bal_dens = np.zeros(len(thetas))\n",
    "\n",
    "bal_dens_rands_sum = np.zeros(M)\n",
    "attr_rands_M = [randomize_attribute_sets(dcor_attributes) for i in range(0,M)] \n",
    "\n",
    "rhos = np.zeros([last_sem - first_sem + 1, len(thetas)])\n",
    "\n",
    "for semm in range(first_sem, last_sem+1):\n",
    "    triads = triads_all[semm-1]\n",
    "    \n",
    "    for i, theta in enumerate(thetas):\n",
    "        polarities = calc_link_polarities2(dcor_attributes[semm], theta)\n",
    "        bal_dens[i] = bal_dens[i] + balanced_triad_density_network(polarities, triads) * triads_len[semm - 1]\n",
    "        \n",
    "        N = polarities.shape[0]\n",
    "        rhos[semm-first_sem, i] = np.sum(polarities == 1)/2 / N/(N-1)*2\n",
    "\n",
    "bal_dens_rands = np.zeros([M, len(thetas)])\n",
    "for j in range(0,M):  \n",
    "    for semm in range(first_sem, last_sem+1):\n",
    "        triads = triads_all[semm-1]\n",
    "        N = agents_len[semm-1]\n",
    "        for i, theta in enumerate(thetas):    \n",
    "            polarities_rand = distribute_random_polarities(N, rhos[semm - first_sem, i])\n",
    "            bal_dens_rands[j][i] = bal_dens_rands[j][i] + balanced_triad_density_network(polarities_rand, triads) * triads_len[semm - 1]\n",
    "\n",
    "    bal_dens_rands_sum[j] = np.sum(bal_dens_rands[j])\n",
    "    \n",
    "bal_dens_sum = np.sum(bal_dens)\n",
    "\n",
    "bal_dens = bal_dens / triads_all_num\n",
    "bal_dens_rands = bal_dens_rands / triads_all_num\n",
    "\n",
    "test_E8_all_agents_terms_together_thetas2 = thetas\n",
    "test_E8_all_agents_terms_together_bal_dens2 = bal_dens\n",
    "test_E8_all_agents_terms_together_bal_dens_rands2 = bal_dens_rands\n",
    "\n",
    "bal_dens_sum, bal_dens_rands_sum\n",
    "\n",
    "# TODO: do poprawy powyzej. Zrobić, żeby była taka sama randomizacja wszystkich węzłów na raz we wszystkich semestrach. \n",
    "#     Obecnie jest to niezależne. \n"
   ]
  },
  {
   "cell_type": "code",
   "execution_count": 59,
   "id": "oriented-request",
   "metadata": {},
   "outputs": [
    {
     "data": {
      "text/plain": [
       "(1000, 1000)"
      ]
     },
     "execution_count": 59,
     "metadata": {},
     "output_type": "execute_result"
    }
   ],
   "source": [
    "np.sum(bal_dens_sum > bal_dens_rands_sum ), np.sum(bal_dens_sum >= bal_dens_rands_sum)"
   ]
  },
  {
   "cell_type": "code",
   "execution_count": 60,
   "id": "military-dating",
   "metadata": {},
   "outputs": [
    {
     "data": {
      "text/plain": [
       "array([  44.,   51.,   43.,   33.,   51.,   40.,   42.,   39.,   38.,\n",
       "         40.,   48.,   34.,   41.,   39.,   56.,  153.,  239.,   51.,\n",
       "        106.,  140.,   15.,   32.,    9.,   27.,   18.,    8.,    1.,\n",
       "          2.,    7.,    5.,    2.,    9.,   12.,    1.,    0.,    0.,\n",
       "          0.,    1.,    0.,    1.,    0.,    1.,    0.,    1.,    1.,\n",
       "          7.,    7.,    7.,    2.,   31.,   11.,    0.,    1.,    2.,\n",
       "          7.,   13.,   22.,    8.,   51.,   79.,  197.,  370.,  708.,\n",
       "        815.,  895.,  977.,  733.,  546.,  405.,  458.,  706.,  431.,\n",
       "        537.,  274.,  379.,  408.,  561.,  689.,  732.,  819.,  802.,\n",
       "        859.,  907.,  899.,  940.,  956.,  974.,  966.,  963.,  982.,\n",
       "        983., 1000., 1000., 1000., 1000., 1000., 1000., 1000., 1000.,\n",
       "       1000., 1000.])"
      ]
     },
     "execution_count": 60,
     "metadata": {},
     "output_type": "execute_result"
    }
   ],
   "source": [
    "pvals_T = np.zeros(len(thetas))\n",
    "\n",
    "for i, theta in enumerate(thetas):    \n",
    "    pvals_T[i] = np.sum(bal_dens_rands[:,i] >= bal_dens[i])\n",
    "\n",
    "pvals_T"
   ]
  },
  {
   "cell_type": "code",
   "execution_count": 61,
   "id": "apparent-consequence",
   "metadata": {},
   "outputs": [
    {
     "data": {
      "text/plain": [
       "Text(0, 0.5, 'density of balanced triads')"
      ]
     },
     "execution_count": 61,
     "metadata": {},
     "output_type": "execute_result"
    },
    {
     "data": {
      "image/png": "[encoded data removed]",
      "text/plain": [
       "<Figure size 432x288 with 1 Axes>"
      ]
     },
     "metadata": {
      "needs_background": "light"
     },
     "output_type": "display_data"
    }
   ],
   "source": [
    "mean_vals = np.mean(np.array(test_E8_all_agents_terms_together_bal_dens_rands2).T,1)\n",
    "std_vals = np.std(np.array(test_E8_all_agents_terms_together_bal_dens_rands2).T,1)\n",
    "\n",
    "plt.plot(test_E8_all_agents_terms_together_thetas2, test_E8_all_agents_terms_together_bal_dens2, 'k.')\n",
    "\n",
    "plt.fill_between(test_E8_all_agents_terms_together_thetas2, mean_vals-std_vals, mean_vals+std_vals)\n",
    "plt.legend([\"network\", \"mean\"])\n",
    "plt.title(\"Model E8. Comparing data and randomized networks in all terms together.\")\n",
    "plt.xlabel(\"theta\")\n",
    "plt.ylabel(\"density of balanced triads\")"
   ]
  },
  {
   "cell_type": "code",
   "execution_count": null,
   "id": "north-history",
   "metadata": {},
   "outputs": [],
   "source": []
  }
 ],
 "metadata": {
  "kernelspec": {
   "display_name": "Python 3 (ipykernel)",
   "language": "python",
   "name": "python3"
  },
  "language_info": {
   "codemirror_mode": {
    "name": "ipython",
    "version": 3
   },
   "file_extension": ".py",
   "mimetype": "text/x-python",
   "name": "python",
   "nbconvert_exporter": "python",
   "pygments_lexer": "ipython3",
   "version": "3.8.5"
  }
 },
 "nbformat": 4,
 "nbformat_minor": 5
}

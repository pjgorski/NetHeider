{
 "cells": [
  {
   "cell_type": "code",
   "execution_count": 3,
   "metadata": {},
   "outputs": [],
   "source": [
    "using DrWatson\n",
    "quickactivate(@__DIR__)\n",
    "\n",
    "using NetHeider\n",
    "using LinearAlgebra\n",
    "using LightGraphs\n",
    "using Plots\n",
    "using DataFrames"
   ]
  },
  {
   "cell_type": "code",
   "execution_count": 4,
   "metadata": {},
   "outputs": [
    {
     "name": "stderr",
     "output_type": "stream",
     "text": [
      "┌ Info: Scanning folder /home/pgorski/Desktop/programming/NetHeider/data/sims for result files.\n",
      "└ @ DrWatson /home/pgorski/.julia/packages/DrWatson/S4dYA/src/result_collection.jl:115\n",
      "┌ Info: Added 739 entries.\n",
      "└ @ DrWatson /home/pgorski/.julia/packages/DrWatson/S4dYA/src/result_collection.jl:191\n"
     ]
    },
    {
     "data": {
      "text/html": [
       "<div class=\"data-frame\"><p>10 rows × 34 columns (omitted printing of 28 columns)</p><table class=\"data-frame\"><thead><tr><th></th><th>inform_every</th><th>add_edges</th><th>m_filename</th><th>pr_neg</th><th>padd</th><th>measure_balance_every_step</th></tr><tr><th></th><th title=\"Union{Missing, Float64}\">Float64?</th><th title=\"Union{Missing, typeof(add_single_edge2!)}\">#add_sin…?</th><th title=\"Union{Missing, String}\">String?</th><th title=\"Union{Missing, Float64}\">Float64?</th><th title=\"Union{Missing, Float64}\">Float64?</th><th title=\"Union{Missing, Int64}\">Int64?</th></tr></thead><tbody><tr><th>1</th><td>0.25</td><td>add_single_edge2!</td><td>results.csv</td><td>0.0</td><td>0.01</td><td>10</td></tr><tr><th>2</th><td>0.25</td><td>add_single_edge2!</td><td>results.csv</td><td>0.1</td><td>0.01</td><td>10</td></tr><tr><th>3</th><td>0.25</td><td>add_single_edge2!</td><td>results.csv</td><td>0.2</td><td>0.01</td><td>10</td></tr><tr><th>4</th><td>0.25</td><td>add_single_edge2!</td><td>results.csv</td><td>0.3</td><td>0.01</td><td>10</td></tr><tr><th>5</th><td>0.25</td><td>add_single_edge2!</td><td>results.csv</td><td>0.4</td><td>0.01</td><td>10</td></tr><tr><th>6</th><td>0.25</td><td>add_single_edge2!</td><td>results.csv</td><td>0.5</td><td>0.01</td><td>10</td></tr><tr><th>7</th><td>0.25</td><td>add_single_edge2!</td><td>results.csv</td><td>0.6</td><td>0.01</td><td>10</td></tr><tr><th>8</th><td>0.25</td><td>add_single_edge2!</td><td>results.csv</td><td>0.7</td><td>0.01</td><td>10</td></tr><tr><th>9</th><td>0.25</td><td>add_single_edge2!</td><td>results.csv</td><td>0.8</td><td>0.01</td><td>10</td></tr><tr><th>10</th><td>0.25</td><td>add_single_edge2!</td><td>results.csv</td><td>0.9</td><td>0.01</td><td>10</td></tr></tbody></table></div>"
      ],
      "text/latex": [
       "\\begin{tabular}{r|ccccccc}\n",
       "\t& inform\\_every & add\\_edges & m\\_filename & pr\\_neg & padd & measure\\_balance\\_every\\_step & \\\\\n",
       "\t\\hline\n",
       "\t& Float64? & \\#add\\_sin…? & String? & Float64? & Float64? & Int64? & \\\\\n",
       "\t\\hline\n",
       "\t1 & 0.25 & add\\_single\\_edge2! & results.csv & 0.0 & 0.01 & 10 & $\\dots$ \\\\\n",
       "\t2 & 0.25 & add\\_single\\_edge2! & results.csv & 0.1 & 0.01 & 10 & $\\dots$ \\\\\n",
       "\t3 & 0.25 & add\\_single\\_edge2! & results.csv & 0.2 & 0.01 & 10 & $\\dots$ \\\\\n",
       "\t4 & 0.25 & add\\_single\\_edge2! & results.csv & 0.3 & 0.01 & 10 & $\\dots$ \\\\\n",
       "\t5 & 0.25 & add\\_single\\_edge2! & results.csv & 0.4 & 0.01 & 10 & $\\dots$ \\\\\n",
       "\t6 & 0.25 & add\\_single\\_edge2! & results.csv & 0.5 & 0.01 & 10 & $\\dots$ \\\\\n",
       "\t7 & 0.25 & add\\_single\\_edge2! & results.csv & 0.6 & 0.01 & 10 & $\\dots$ \\\\\n",
       "\t8 & 0.25 & add\\_single\\_edge2! & results.csv & 0.7 & 0.01 & 10 & $\\dots$ \\\\\n",
       "\t9 & 0.25 & add\\_single\\_edge2! & results.csv & 0.8 & 0.01 & 10 & $\\dots$ \\\\\n",
       "\t10 & 0.25 & add\\_single\\_edge2! & results.csv & 0.9 & 0.01 & 10 & $\\dots$ \\\\\n",
       "\\end{tabular}\n"
      ],
      "text/plain": [
       "\u001b[1m10×34 DataFrame\u001b[0m\n",
       "\u001b[1m Row \u001b[0m│\u001b[1m inform_every \u001b[0m\u001b[1m add_edges         \u001b[0m\u001b[1m m_filename  \u001b[0m\u001b[1m pr_neg   \u001b[0m\u001b[1m padd     \u001b[0m\u001b[1m measu\u001b[0m ⋯\n",
       "\u001b[1m     \u001b[0m│\u001b[90m Float64?     \u001b[0m\u001b[90m #add_sin…?        \u001b[0m\u001b[90m String?     \u001b[0m\u001b[90m Float64? \u001b[0m\u001b[90m Float64? \u001b[0m\u001b[90m Union\u001b[0m ⋯\n",
       "─────┼──────────────────────────────────────────────────────────────────────────\n",
       "   1 │         0.25  add_single_edge2!  results.csv       0.0      0.01        ⋯\n",
       "   2 │         0.25  add_single_edge2!  results.csv       0.1      0.01\n",
       "   3 │         0.25  add_single_edge2!  results.csv       0.2      0.01\n",
       "   4 │         0.25  add_single_edge2!  results.csv       0.3      0.01\n",
       "   5 │         0.25  add_single_edge2!  results.csv       0.4      0.01        ⋯\n",
       "   6 │         0.25  add_single_edge2!  results.csv       0.5      0.01\n",
       "   7 │         0.25  add_single_edge2!  results.csv       0.6      0.01\n",
       "   8 │         0.25  add_single_edge2!  results.csv       0.7      0.01\n",
       "   9 │         0.25  add_single_edge2!  results.csv       0.8      0.01        ⋯\n",
       "  10 │         0.25  add_single_edge2!  results.csv       0.9      0.01\n",
       "\u001b[36m                                                              29 columns omitted\u001b[0m"
      ]
     },
     "metadata": {},
     "output_type": "display_data"
    }
   ],
   "source": [
    "res = DrWatson.collect_results(\n",
    "           datadir(\"sims\"),\n",
    "           # rinclude = [r\"NumerFig1[.]*\"],\n",
    "           #   black_list = bl,\n",
    "       )\n",
    "first(res, 10)"
   ]
  },
  {
   "cell_type": "code",
   "execution_count": 10,
   "metadata": {},
   "outputs": [
    {
     "data": {
      "text/plain": [
       "27-element Vector{String}:\n",
       " \"balanced_std\"\n",
       " \"N\"\n",
       " \"inform_after\"\n",
       " \"bu_std\"\n",
       " \"repetitions\"\n",
       " \"balanced_mean\"\n",
       " \"pclose_triad\"\n",
       " \"trans_mean\"\n",
       " \"bal_unbal_table\"\n",
       " \"last_std\"\n",
       " ⋮\n",
       " \"step_max\"\n",
       " \"date\"\n",
       " \"bu_mean\"\n",
       " \"pn\"\n",
       " \"last_val\"\n",
       " \"unbal2bal_mean\"\n",
       " \"attr\"\n",
       " \"save_after\"\n",
       " \"path\""
      ]
     },
     "metadata": {},
     "output_type": "display_data"
    }
   ],
   "source": [
    "names(res)[8:end]"
   ]
  },
  {
   "cell_type": "code",
   "execution_count": 22,
   "metadata": {},
   "outputs": [
    {
     "data": {
      "image/png": "[encoded data removed]",
      "image/svg+xml": "<?xml version=\"1.0\" encoding=\"utf-8\"?>\n<svg xmlns=\"http://www.w3.org/2000/svg\" xmlns:xlink=\"http://www.w3.org/1999/xlink\" width=\"600\" height=\"400\" viewBox=\"0 0 2400 1600\">\n<defs>\n  <clipPath id=\"clip700\">\n    <rect x=\"0\" y=\"0\" width=\"2400\" height=\"1600\"/>\n  </clipPath>\n</defs>\n<path clip-path=\"url(#clip700)\" d=\"\nM0 1600 L2400 1600 L2400 0 L0 0  Z\n  \" fill=\"#ffffff\" fill-rule=\"evenodd\" fill-opacity=\"1\"/>\n<defs>\n  <clipPath id=\"clip701\">\n    <rect x=\"480\" y=\"0\" width=\"1681\" height=\"1600\"/>\n  </clipPath>\n</defs>\n<path clip-path=\"url(#clip700)\" d=\"\nM172.015 1486.45 L2352.76 1486.45 L2352.76 47.2441 L172.015 47.2441  Z\n  \" fill=\"#ffffff\" fill-rule=\"evenodd\" fill-opacity=\"1\"/>\n<defs>\n  <clipPath id=\"clip702\">\n    <rect x=\"172\" y=\"47\" width=\"2182\" height=\"1440\"/>\n  </clipPath>\n</defs>\n<polyline clip-path=\"url(#clip702)\" style=\"stroke:#000000; stroke-linecap:butt; stroke-linejoin:round; stroke-width:2; stroke-opacity:0.1; fill:none\" points=\"\n  291.959,1486.45 291.959,47.2441 \n  \"/>\n<polyline clip-path=\"url(#clip702)\" style=\"stroke:#000000; stroke-linecap:butt; stroke-linejoin:round; stroke-width:2; stroke-opacity:0.1; fill:none\" points=\"\n  777.172,1486.45 777.172,47.2441 \n  \"/>\n<polyline clip-path=\"url(#clip702)\" style=\"stroke:#000000; stroke-linecap:butt; stroke-linejoin:round; stroke-width:2; stroke-opacity:0.1; fill:none\" points=\"\n  1262.39,1486.45 1262.39,47.2441 \n  \"/>\n<polyline clip-path=\"url(#clip702)\" style=\"stroke:#000000; stroke-linecap:butt; stroke-linejoin:round; stroke-width:2; stroke-opacity:0.1; fill:none\" points=\"\n  1747.6,1486.45 1747.6,47.2441 \n  \"/>\n<polyline clip-path=\"url(#clip702)\" style=\"stroke:#000000; stroke-linecap:butt; stroke-linejoin:round; stroke-width:2; stroke-opacity:0.1; fill:none\" points=\"\n  2232.81,1486.45 2232.81,47.2441 \n  \"/>\n<polyline clip-path=\"url(#clip700)\" style=\"stroke:#000000; stroke-linecap:butt; stroke-linejoin:round; stroke-width:4; stroke-opacity:1; fill:none\" points=\"\n  172.015,1486.45 2352.76,1486.45 \n  \"/>\n<polyline clip-path=\"url(#clip700)\" style=\"stroke:#000000; stroke-linecap:butt; stroke-linejoin:round; stroke-width:4; stroke-opacity:1; fill:none\" points=\"\n  291.959,1486.45 291.959,1467.55 \n  \"/>\n<polyline clip-path=\"url(#clip700)\" style=\"stroke:#000000; stroke-linecap:butt; stroke-linejoin:round; stroke-width:4; stroke-opacity:1; fill:none\" points=\"\n  777.172,1486.45 777.172,1467.55 \n  \"/>\n<polyline clip-path=\"url(#clip700)\" style=\"stroke:#000000; stroke-linecap:butt; stroke-linejoin:round; stroke-width:4; stroke-opacity:1; fill:none\" points=\"\n  1262.39,1486.45 1262.39,1467.55 \n  \"/>\n<polyline clip-path=\"url(#clip700)\" style=\"stroke:#000000; stroke-linecap:butt; stroke-linejoin:round; stroke-width:4; stroke-opacity:1; fill:none\" points=\"\n  1747.6,1486.45 1747.6,1467.55 \n  \"/>\n<polyline clip-path=\"url(#clip700)\" style=\"stroke:#000000; stroke-linecap:butt; stroke-linejoin:round; stroke-width:4; stroke-opacity:1; fill:none\" points=\"\n  2232.81,1486.45 2232.81,1467.55 \n  \"/>\n<path clip-path=\"url(#clip700)\" d=\"M269.101 1517.37 Q265.49 1517.37 263.661 1520.93 Q261.855 1524.47 261.855 1531.6 Q261.855 1538.71 263.661 1542.27 Q265.49 1545.82 269.101 1545.82 Q272.735 1545.82 274.541 1542.27 Q276.369 1538.71 276.369 1531.6 Q276.369 1524.47 274.541 1520.93 Q272.735 1517.37 269.101 1517.37 M269.101 1513.66 Q274.911 1513.66 277.966 1518.27 Q281.045 1522.85 281.045 1531.6 Q281.045 1540.33 277.966 1544.94 Q274.911 1549.52 269.101 1549.52 Q263.291 1549.52 260.212 1544.94 Q257.156 1540.33 257.156 1531.6 Q257.156 1522.85 260.212 1518.27 Q263.291 1513.66 269.101 1513.66 Z\" fill=\"#000000\" fill-rule=\"evenodd\" fill-opacity=\"1\" /><path clip-path=\"url(#clip700)\" d=\"M289.263 1542.97 L294.147 1542.97 L294.147 1548.85 L289.263 1548.85 L289.263 1542.97 Z\" fill=\"#000000\" fill-rule=\"evenodd\" fill-opacity=\"1\" /><path clip-path=\"url(#clip700)\" d=\"M317.179 1518.36 L305.374 1536.81 L317.179 1536.81 L317.179 1518.36 M315.952 1514.29 L321.832 1514.29 L321.832 1536.81 L326.763 1536.81 L326.763 1540.7 L321.832 1540.7 L321.832 1548.85 L317.179 1548.85 L317.179 1540.7 L301.577 1540.7 L301.577 1536.19 L315.952 1514.29 Z\" fill=\"#000000\" fill-rule=\"evenodd\" fill-opacity=\"1\" /><path clip-path=\"url(#clip700)\" d=\"M754.476 1517.37 Q750.865 1517.37 749.036 1520.93 Q747.23 1524.47 747.23 1531.6 Q747.23 1538.71 749.036 1542.27 Q750.865 1545.82 754.476 1545.82 Q758.11 1545.82 759.916 1542.27 Q761.744 1538.71 761.744 1531.6 Q761.744 1524.47 759.916 1520.93 Q758.11 1517.37 754.476 1517.37 M754.476 1513.66 Q760.286 1513.66 763.341 1518.27 Q766.42 1522.85 766.42 1531.6 Q766.42 1540.33 763.341 1544.94 Q760.286 1549.52 754.476 1549.52 Q748.666 1549.52 745.587 1544.94 Q742.531 1540.33 742.531 1531.6 Q742.531 1522.85 745.587 1518.27 Q748.666 1513.66 754.476 1513.66 Z\" fill=\"#000000\" fill-rule=\"evenodd\" fill-opacity=\"1\" /><path clip-path=\"url(#clip700)\" d=\"M774.638 1542.97 L779.522 1542.97 L779.522 1548.85 L774.638 1548.85 L774.638 1542.97 Z\" fill=\"#000000\" fill-rule=\"evenodd\" fill-opacity=\"1\" /><path clip-path=\"url(#clip700)\" d=\"M800.286 1529.7 Q797.138 1529.7 795.286 1531.86 Q793.457 1534.01 793.457 1537.76 Q793.457 1541.49 795.286 1543.66 Q797.138 1545.82 800.286 1545.82 Q803.434 1545.82 805.263 1543.66 Q807.114 1541.49 807.114 1537.76 Q807.114 1534.01 805.263 1531.86 Q803.434 1529.7 800.286 1529.7 M809.568 1515.05 L809.568 1519.31 Q807.809 1518.48 806.003 1518.04 Q804.221 1517.6 802.462 1517.6 Q797.832 1517.6 795.378 1520.72 Q792.948 1523.85 792.601 1530.17 Q793.966 1528.15 796.026 1527.09 Q798.087 1526 800.563 1526 Q805.772 1526 808.781 1529.17 Q811.813 1532.32 811.813 1537.76 Q811.813 1543.08 808.665 1546.3 Q805.517 1549.52 800.286 1549.52 Q794.29 1549.52 791.119 1544.94 Q787.948 1540.33 787.948 1531.6 Q787.948 1523.41 791.837 1518.55 Q795.726 1513.66 802.276 1513.66 Q804.036 1513.66 805.818 1514.01 Q807.624 1514.36 809.568 1515.05 Z\" fill=\"#000000\" fill-rule=\"evenodd\" fill-opacity=\"1\" /><path clip-path=\"url(#clip700)\" d=\"M1239.82 1517.37 Q1236.2 1517.37 1234.38 1520.93 Q1232.57 1524.47 1232.57 1531.6 Q1232.57 1538.71 1234.38 1542.27 Q1236.2 1545.82 1239.82 1545.82 Q1243.45 1545.82 1245.26 1542.27 Q1247.08 1538.71 1247.08 1531.6 Q1247.08 1524.47 1245.26 1520.93 Q1243.45 1517.37 1239.82 1517.37 M1239.82 1513.66 Q1245.63 1513.66 1248.68 1518.27 Q1251.76 1522.85 1251.76 1531.6 Q1251.76 1540.33 1248.68 1544.94 Q1245.63 1549.52 1239.82 1549.52 Q1234.01 1549.52 1230.93 1544.94 Q1227.87 1540.33 1227.87 1531.6 Q1227.87 1522.85 1230.93 1518.27 Q1234.01 1513.66 1239.82 1513.66 Z\" fill=\"#000000\" fill-rule=\"evenodd\" fill-opacity=\"1\" /><path clip-path=\"url(#clip700)\" d=\"M1259.98 1542.97 L1264.86 1542.97 L1264.86 1548.85 L1259.98 1548.85 L1259.98 1542.97 Z\" fill=\"#000000\" fill-rule=\"evenodd\" fill-opacity=\"1\" /><path clip-path=\"url(#clip700)\" d=\"M1285.05 1532.44 Q1281.71 1532.44 1279.79 1534.22 Q1277.89 1536 1277.89 1539.13 Q1277.89 1542.25 1279.79 1544.03 Q1281.71 1545.82 1285.05 1545.82 Q1288.38 1545.82 1290.3 1544.03 Q1292.22 1542.23 1292.22 1539.13 Q1292.22 1536 1290.3 1534.22 Q1288.4 1532.44 1285.05 1532.44 M1280.37 1530.45 Q1277.36 1529.7 1275.67 1527.64 Q1274.01 1525.58 1274.01 1522.62 Q1274.01 1518.48 1276.95 1516.07 Q1279.91 1513.66 1285.05 1513.66 Q1290.21 1513.66 1293.15 1516.07 Q1296.09 1518.48 1296.09 1522.62 Q1296.09 1525.58 1294.4 1527.64 Q1292.73 1529.7 1289.75 1530.45 Q1293.13 1531.23 1295 1533.52 Q1296.9 1535.82 1296.9 1539.13 Q1296.9 1544.15 1293.82 1546.83 Q1290.76 1549.52 1285.05 1549.52 Q1279.33 1549.52 1276.25 1546.83 Q1273.2 1544.15 1273.2 1539.13 Q1273.2 1535.82 1275.09 1533.52 Q1276.99 1531.23 1280.37 1530.45 M1278.66 1523.06 Q1278.66 1525.75 1280.33 1527.25 Q1282.01 1528.76 1285.05 1528.76 Q1288.06 1528.76 1289.75 1527.25 Q1291.46 1525.75 1291.46 1523.06 Q1291.46 1520.38 1289.75 1518.87 Q1288.06 1517.37 1285.05 1517.37 Q1282.01 1517.37 1280.33 1518.87 Q1278.66 1520.38 1278.66 1523.06 Z\" fill=\"#000000\" fill-rule=\"evenodd\" fill-opacity=\"1\" /><path clip-path=\"url(#clip700)\" d=\"M1714.75 1544.91 L1722.39 1544.91 L1722.39 1518.55 L1714.08 1520.21 L1714.08 1515.95 L1722.34 1514.29 L1727.02 1514.29 L1727.02 1544.91 L1734.66 1544.91 L1734.66 1548.85 L1714.75 1548.85 L1714.75 1544.91 Z\" fill=\"#000000\" fill-rule=\"evenodd\" fill-opacity=\"1\" /><path clip-path=\"url(#clip700)\" d=\"M1744.1 1542.97 L1748.99 1542.97 L1748.99 1548.85 L1744.1 1548.85 L1744.1 1542.97 Z\" fill=\"#000000\" fill-rule=\"evenodd\" fill-opacity=\"1\" /><path clip-path=\"url(#clip700)\" d=\"M1769.17 1517.37 Q1765.56 1517.37 1763.73 1520.93 Q1761.93 1524.47 1761.93 1531.6 Q1761.93 1538.71 1763.73 1542.27 Q1765.56 1545.82 1769.17 1545.82 Q1772.81 1545.82 1774.61 1542.27 Q1776.44 1538.71 1776.44 1531.6 Q1776.44 1524.47 1774.61 1520.93 Q1772.81 1517.37 1769.17 1517.37 M1769.17 1513.66 Q1774.98 1513.66 1778.04 1518.27 Q1781.12 1522.85 1781.12 1531.6 Q1781.12 1540.33 1778.04 1544.94 Q1774.98 1549.52 1769.17 1549.52 Q1763.36 1549.52 1760.28 1544.94 Q1757.23 1540.33 1757.23 1531.6 Q1757.23 1522.85 1760.28 1518.27 Q1763.36 1513.66 1769.17 1513.66 Z\" fill=\"#000000\" fill-rule=\"evenodd\" fill-opacity=\"1\" /><path clip-path=\"url(#clip700)\" d=\"M2200.76 1544.91 L2208.4 1544.91 L2208.4 1518.55 L2200.09 1520.21 L2200.09 1515.95 L2208.36 1514.29 L2213.03 1514.29 L2213.03 1544.91 L2220.67 1544.91 L2220.67 1548.85 L2200.76 1548.85 L2200.76 1544.91 Z\" fill=\"#000000\" fill-rule=\"evenodd\" fill-opacity=\"1\" /><path clip-path=\"url(#clip700)\" d=\"M2230.11 1542.97 L2235 1542.97 L2235 1548.85 L2230.11 1548.85 L2230.11 1542.97 Z\" fill=\"#000000\" fill-rule=\"evenodd\" fill-opacity=\"1\" /><path clip-path=\"url(#clip700)\" d=\"M2249.21 1544.91 L2265.53 1544.91 L2265.53 1548.85 L2243.59 1548.85 L2243.59 1544.91 Q2246.25 1542.16 2250.83 1537.53 Q2255.44 1532.88 2256.62 1531.53 Q2258.86 1529.01 2259.74 1527.27 Q2260.65 1525.51 2260.65 1523.82 Q2260.65 1521.07 2258.7 1519.33 Q2256.78 1517.6 2253.68 1517.6 Q2251.48 1517.6 2249.03 1518.36 Q2246.6 1519.13 2243.82 1520.68 L2243.82 1515.95 Q2246.64 1514.82 2249.1 1514.24 Q2251.55 1513.66 2253.59 1513.66 Q2258.96 1513.66 2262.15 1516.35 Q2265.35 1519.03 2265.35 1523.52 Q2265.35 1525.65 2264.54 1527.57 Q2263.75 1529.47 2261.64 1532.07 Q2261.06 1532.74 2257.96 1535.95 Q2254.86 1539.15 2249.21 1544.91 Z\" fill=\"#000000\" fill-rule=\"evenodd\" fill-opacity=\"1\" /><polyline clip-path=\"url(#clip702)\" style=\"stroke:#000000; stroke-linecap:butt; stroke-linejoin:round; stroke-width:2; stroke-opacity:0.1; fill:none\" points=\"\n  172.015,1445.72 2352.76,1445.72 \n  \"/>\n<polyline clip-path=\"url(#clip702)\" style=\"stroke:#000000; stroke-linecap:butt; stroke-linejoin:round; stroke-width:2; stroke-opacity:0.1; fill:none\" points=\"\n  172.015,1059.45 2352.76,1059.45 \n  \"/>\n<polyline clip-path=\"url(#clip702)\" style=\"stroke:#000000; stroke-linecap:butt; stroke-linejoin:round; stroke-width:2; stroke-opacity:0.1; fill:none\" points=\"\n  172.015,673.175 2352.76,673.175 \n  \"/>\n<polyline clip-path=\"url(#clip702)\" style=\"stroke:#000000; stroke-linecap:butt; stroke-linejoin:round; stroke-width:2; stroke-opacity:0.1; fill:none\" points=\"\n  172.015,286.905 2352.76,286.905 \n  \"/>\n<polyline clip-path=\"url(#clip700)\" style=\"stroke:#000000; stroke-linecap:butt; stroke-linejoin:round; stroke-width:4; stroke-opacity:1; fill:none\" points=\"\n  172.015,1486.45 172.015,47.2441 \n  \"/>\n<polyline clip-path=\"url(#clip700)\" style=\"stroke:#000000; stroke-linecap:butt; stroke-linejoin:round; stroke-width:4; stroke-opacity:1; fill:none\" points=\"\n  172.015,1445.72 190.912,1445.72 \n  \"/>\n<polyline clip-path=\"url(#clip700)\" style=\"stroke:#000000; stroke-linecap:butt; stroke-linejoin:round; stroke-width:4; stroke-opacity:1; fill:none\" points=\"\n  172.015,1059.45 190.912,1059.45 \n  \"/>\n<polyline clip-path=\"url(#clip700)\" style=\"stroke:#000000; stroke-linecap:butt; stroke-linejoin:round; stroke-width:4; stroke-opacity:1; fill:none\" points=\"\n  172.015,673.175 190.912,673.175 \n  \"/>\n<polyline clip-path=\"url(#clip700)\" style=\"stroke:#000000; stroke-linecap:butt; stroke-linejoin:round; stroke-width:4; stroke-opacity:1; fill:none\" points=\"\n  172.015,286.905 190.912,286.905 \n  \"/>\n<path clip-path=\"url(#clip700)\" d=\"M124.07 1431.51 Q120.459 1431.51 118.631 1435.08 Q116.825 1438.62 116.825 1445.75 Q116.825 1452.86 118.631 1456.42 Q120.459 1459.96 124.07 1459.96 Q127.705 1459.96 129.51 1456.42 Q131.339 1452.86 131.339 1445.75 Q131.339 1438.62 129.51 1435.08 Q127.705 1431.51 124.07 1431.51 M124.07 1427.81 Q129.881 1427.81 132.936 1432.42 Q136.015 1437 136.015 1445.75 Q136.015 1454.48 132.936 1459.08 Q129.881 1463.67 124.07 1463.67 Q118.26 1463.67 115.182 1459.08 Q112.126 1454.48 112.126 1445.75 Q112.126 1437 115.182 1432.42 Q118.26 1427.81 124.07 1427.81 Z\" fill=\"#000000\" fill-rule=\"evenodd\" fill-opacity=\"1\" /><path clip-path=\"url(#clip700)\" d=\"M57.7745 1072.79 L74.0939 1072.79 L74.0939 1076.73 L52.1495 1076.73 L52.1495 1072.79 Q54.8115 1070.04 59.3949 1065.41 Q64.0013 1060.75 65.1819 1059.41 Q67.4272 1056.89 68.3068 1055.15 Q69.2096 1053.39 69.2096 1051.7 Q69.2096 1048.95 67.2652 1047.21 Q65.3439 1045.48 62.2421 1045.48 Q60.043 1045.48 57.5893 1046.24 Q55.1588 1047 52.381 1048.55 L52.381 1043.83 Q55.2051 1042.7 57.6588 1042.12 Q60.1124 1041.54 62.1495 1041.54 Q67.5198 1041.54 70.7142 1044.23 Q73.9087 1046.91 73.9087 1051.4 Q73.9087 1053.53 73.0985 1055.45 Q72.3115 1057.35 70.205 1059.94 Q69.6263 1060.61 66.5245 1063.83 Q63.4226 1067.03 57.7745 1072.79 Z\" fill=\"#000000\" fill-rule=\"evenodd\" fill-opacity=\"1\" /><path clip-path=\"url(#clip700)\" d=\"M93.9086 1045.24 Q90.2975 1045.24 88.4688 1048.81 Q86.6632 1052.35 86.6632 1059.48 Q86.6632 1066.59 88.4688 1070.15 Q90.2975 1073.69 93.9086 1073.69 Q97.5428 1073.69 99.3483 1070.15 Q101.177 1066.59 101.177 1059.48 Q101.177 1052.35 99.3483 1048.81 Q97.5428 1045.24 93.9086 1045.24 M93.9086 1041.54 Q99.7187 1041.54 102.774 1046.15 Q105.853 1050.73 105.853 1059.48 Q105.853 1068.21 102.774 1072.81 Q99.7187 1077.4 93.9086 1077.4 Q88.0984 1077.4 85.0197 1072.81 Q81.9642 1068.21 81.9642 1059.48 Q81.9642 1050.73 85.0197 1046.15 Q88.0984 1041.54 93.9086 1041.54 Z\" fill=\"#000000\" fill-rule=\"evenodd\" fill-opacity=\"1\" /><path clip-path=\"url(#clip700)\" d=\"M124.07 1045.24 Q120.459 1045.24 118.631 1048.81 Q116.825 1052.35 116.825 1059.48 Q116.825 1066.59 118.631 1070.15 Q120.459 1073.69 124.07 1073.69 Q127.705 1073.69 129.51 1070.15 Q131.339 1066.59 131.339 1059.48 Q131.339 1052.35 129.51 1048.81 Q127.705 1045.24 124.07 1045.24 M124.07 1041.54 Q129.881 1041.54 132.936 1046.15 Q136.015 1050.73 136.015 1059.48 Q136.015 1068.21 132.936 1072.81 Q129.881 1077.4 124.07 1077.4 Q118.26 1077.4 115.182 1072.81 Q112.126 1068.21 112.126 1059.48 Q112.126 1050.73 115.182 1046.15 Q118.26 1041.54 124.07 1041.54 Z\" fill=\"#000000\" fill-rule=\"evenodd\" fill-opacity=\"1\" /><path clip-path=\"url(#clip700)\" d=\"M66.5939 659.97 L54.7884 678.419 L66.5939 678.419 L66.5939 659.97 M65.367 655.895 L71.2466 655.895 L71.2466 678.419 L76.1772 678.419 L76.1772 682.307 L71.2466 682.307 L71.2466 690.455 L66.5939 690.455 L66.5939 682.307 L50.9921 682.307 L50.9921 677.794 L65.367 655.895 Z\" fill=\"#000000\" fill-rule=\"evenodd\" fill-opacity=\"1\" /><path clip-path=\"url(#clip700)\" d=\"M93.9086 658.974 Q90.2975 658.974 88.4688 662.539 Q86.6632 666.081 86.6632 673.21 Q86.6632 680.317 88.4688 683.881 Q90.2975 687.423 93.9086 687.423 Q97.5428 687.423 99.3483 683.881 Q101.177 680.317 101.177 673.21 Q101.177 666.081 99.3483 662.539 Q97.5428 658.974 93.9086 658.974 M93.9086 655.27 Q99.7187 655.27 102.774 659.877 Q105.853 664.46 105.853 673.21 Q105.853 681.937 102.774 686.543 Q99.7187 691.127 93.9086 691.127 Q88.0984 691.127 85.0197 686.543 Q81.9642 681.937 81.9642 673.21 Q81.9642 664.46 85.0197 659.877 Q88.0984 655.27 93.9086 655.27 Z\" fill=\"#000000\" fill-rule=\"evenodd\" fill-opacity=\"1\" /><path clip-path=\"url(#clip700)\" d=\"M124.07 658.974 Q120.459 658.974 118.631 662.539 Q116.825 666.081 116.825 673.21 Q116.825 680.317 118.631 683.881 Q120.459 687.423 124.07 687.423 Q127.705 687.423 129.51 683.881 Q131.339 680.317 131.339 673.21 Q131.339 666.081 129.51 662.539 Q127.705 658.974 124.07 658.974 M124.07 655.27 Q129.881 655.27 132.936 659.877 Q136.015 664.46 136.015 673.21 Q136.015 681.937 132.936 686.543 Q129.881 691.127 124.07 691.127 Q118.26 691.127 115.182 686.543 Q112.126 681.937 112.126 673.21 Q112.126 664.46 115.182 659.877 Q118.26 655.27 124.07 655.27 Z\" fill=\"#000000\" fill-rule=\"evenodd\" fill-opacity=\"1\" /><path clip-path=\"url(#clip700)\" d=\"M64.3254 285.042 Q61.1773 285.042 59.3254 287.195 Q57.4967 289.347 57.4967 293.097 Q57.4967 296.824 59.3254 299 Q61.1773 301.153 64.3254 301.153 Q67.4735 301.153 69.3022 299 Q71.1541 296.824 71.1541 293.097 Q71.1541 289.347 69.3022 287.195 Q67.4735 285.042 64.3254 285.042 M73.6077 270.389 L73.6077 274.649 Q71.8485 273.815 70.0429 273.375 Q68.2606 272.936 66.5013 272.936 Q61.8717 272.936 59.418 276.061 Q56.9875 279.186 56.6402 285.505 Q58.006 283.491 60.0662 282.426 Q62.1263 281.338 64.6032 281.338 Q69.8115 281.338 72.8207 284.51 Q75.8531 287.658 75.8531 293.097 Q75.8531 298.422 72.705 301.639 Q69.5568 304.857 64.3254 304.857 Q58.33 304.857 55.1588 300.273 Q51.9875 295.667 51.9875 286.94 Q51.9875 278.746 55.8764 273.885 Q59.7652 269 66.3161 269 Q68.0754 269 69.8578 269.348 Q71.6633 269.695 73.6077 270.389 Z\" fill=\"#000000\" fill-rule=\"evenodd\" fill-opacity=\"1\" /><path clip-path=\"url(#clip700)\" d=\"M93.9086 272.704 Q90.2975 272.704 88.4688 276.269 Q86.6632 279.811 86.6632 286.94 Q86.6632 294.047 88.4688 297.611 Q90.2975 301.153 93.9086 301.153 Q97.5428 301.153 99.3483 297.611 Q101.177 294.047 101.177 286.94 Q101.177 279.811 99.3483 276.269 Q97.5428 272.704 93.9086 272.704 M93.9086 269 Q99.7187 269 102.774 273.607 Q105.853 278.19 105.853 286.94 Q105.853 295.667 102.774 300.273 Q99.7187 304.857 93.9086 304.857 Q88.0984 304.857 85.0197 300.273 Q81.9642 295.667 81.9642 286.94 Q81.9642 278.19 85.0197 273.607 Q88.0984 269 93.9086 269 Z\" fill=\"#000000\" fill-rule=\"evenodd\" fill-opacity=\"1\" /><path clip-path=\"url(#clip700)\" d=\"M124.07 272.704 Q120.459 272.704 118.631 276.269 Q116.825 279.811 116.825 286.94 Q116.825 294.047 118.631 297.611 Q120.459 301.153 124.07 301.153 Q127.705 301.153 129.51 297.611 Q131.339 294.047 131.339 286.94 Q131.339 279.811 129.51 276.269 Q127.705 272.704 124.07 272.704 M124.07 269 Q129.881 269 132.936 273.607 Q136.015 278.19 136.015 286.94 Q136.015 295.667 132.936 300.273 Q129.881 304.857 124.07 304.857 Q118.26 304.857 115.182 300.273 Q112.126 295.667 112.126 286.94 Q112.126 278.19 115.182 273.607 Q118.26 269 124.07 269 Z\" fill=\"#000000\" fill-rule=\"evenodd\" fill-opacity=\"1\" /><path clip-path=\"url(#clip702)\" d=\"\nM291.959 1439.92 L291.959 1445.72 L777.172 1445.72 L777.172 1439.92 L291.959 1439.92 L291.959 1439.92  Z\n  \" fill=\"#009af9\" fill-rule=\"evenodd\" fill-opacity=\"1\"/>\n<polyline clip-path=\"url(#clip702)\" style=\"stroke:#000000; stroke-linecap:butt; stroke-linejoin:round; stroke-width:4; stroke-opacity:1; fill:none\" points=\"\n  291.959,1439.92 291.959,1445.72 777.172,1445.72 777.172,1439.92 291.959,1439.92 \n  \"/>\n<path clip-path=\"url(#clip702)\" d=\"\nM777.172 1420.61 L777.172 1445.72 L1262.39 1445.72 L1262.39 1420.61 L777.172 1420.61 L777.172 1420.61  Z\n  \" fill=\"#009af9\" fill-rule=\"evenodd\" fill-opacity=\"1\"/>\n<polyline clip-path=\"url(#clip702)\" style=\"stroke:#000000; stroke-linecap:butt; stroke-linejoin:round; stroke-width:4; stroke-opacity:1; fill:none\" points=\"\n  777.172,1420.61 777.172,1445.72 1262.39,1445.72 1262.39,1420.61 777.172,1420.61 \n  \"/>\n<path clip-path=\"url(#clip702)\" d=\"\nM1262.39 1407.09 L1262.39 1445.72 L1747.6 1445.72 L1747.6 1407.09 L1262.39 1407.09 L1262.39 1407.09  Z\n  \" fill=\"#009af9\" fill-rule=\"evenodd\" fill-opacity=\"1\"/>\n<polyline clip-path=\"url(#clip702)\" style=\"stroke:#000000; stroke-linecap:butt; stroke-linejoin:round; stroke-width:4; stroke-opacity:1; fill:none\" points=\"\n  1262.39,1407.09 1262.39,1445.72 1747.6,1445.72 1747.6,1407.09 1262.39,1407.09 \n  \"/>\n<path clip-path=\"url(#clip702)\" d=\"\nM1747.6 87.9763 L1747.6 1445.72 L2232.81 1445.72 L2232.81 87.9763 L1747.6 87.9763 L1747.6 87.9763  Z\n  \" fill=\"#009af9\" fill-rule=\"evenodd\" fill-opacity=\"1\"/>\n<polyline clip-path=\"url(#clip702)\" style=\"stroke:#000000; stroke-linecap:butt; stroke-linejoin:round; stroke-width:4; stroke-opacity:1; fill:none\" points=\"\n  1747.6,87.9763 1747.6,1445.72 2232.81,1445.72 2232.81,87.9763 1747.6,87.9763 \n  \"/>\n<circle clip-path=\"url(#clip702)\" style=\"fill:#009af9; stroke:none; fill-opacity:0\" cx=\"534.566\" cy=\"1439.92\" r=\"2\"/>\n<circle clip-path=\"url(#clip702)\" style=\"fill:#009af9; stroke:none; fill-opacity:0\" cx=\"1019.78\" cy=\"1420.61\" r=\"2\"/>\n<circle clip-path=\"url(#clip702)\" style=\"fill:#009af9; stroke:none; fill-opacity:0\" cx=\"1504.99\" cy=\"1407.09\" r=\"2\"/>\n<circle clip-path=\"url(#clip702)\" style=\"fill:#009af9; stroke:none; fill-opacity:0\" cx=\"1990.2\" cy=\"87.9763\" r=\"2\"/>\n<path clip-path=\"url(#clip700)\" d=\"\nM1985.33 198.898 L2280.06 198.898 L2280.06 95.2176 L1985.33 95.2176  Z\n  \" fill=\"#ffffff\" fill-rule=\"evenodd\" fill-opacity=\"1\"/>\n<polyline clip-path=\"url(#clip700)\" style=\"stroke:#000000; stroke-linecap:butt; stroke-linejoin:round; stroke-width:4; stroke-opacity:1; fill:none\" points=\"\n  1985.33,198.898 2280.06,198.898 2280.06,95.2176 1985.33,95.2176 1985.33,198.898 \n  \"/>\n<path clip-path=\"url(#clip700)\" d=\"\nM2009.56 167.794 L2154.94 167.794 L2154.94 126.322 L2009.56 126.322 L2009.56 167.794  Z\n  \" fill=\"#009af9\" fill-rule=\"evenodd\" fill-opacity=\"1\"/>\n<polyline clip-path=\"url(#clip700)\" style=\"stroke:#000000; stroke-linecap:butt; stroke-linejoin:round; stroke-width:4; stroke-opacity:1; fill:none\" points=\"\n  2009.56,167.794 2154.94,167.794 2154.94,126.322 2009.56,126.322 2009.56,167.794 \n  \"/>\n<path clip-path=\"url(#clip700)\" d=\"M2193.02 166.745 Q2191.21 171.375 2189.5 172.787 Q2187.78 174.199 2184.91 174.199 L2181.51 174.199 L2181.51 170.634 L2184.01 170.634 Q2185.77 170.634 2186.74 169.8 Q2187.71 168.967 2188.9 165.865 L2189.66 163.921 L2179.17 138.412 L2183.69 138.412 L2191.79 158.689 L2199.89 138.412 L2204.4 138.412 L2193.02 166.745 Z\" fill=\"#000000\" fill-rule=\"evenodd\" fill-opacity=\"1\" /><path clip-path=\"url(#clip700)\" d=\"M2211.7 160.402 L2219.34 160.402 L2219.34 134.037 L2211.03 135.703 L2211.03 131.444 L2219.29 129.778 L2223.96 129.778 L2223.96 160.402 L2231.6 160.402 L2231.6 164.338 L2211.7 164.338 L2211.7 160.402 Z\" fill=\"#000000\" fill-rule=\"evenodd\" fill-opacity=\"1\" /></svg>\n",
      "text/html": [
       "<?xml version=\"1.0\" encoding=\"utf-8\"?>\n",
       "<svg xmlns=\"http://www.w3.org/2000/svg\" xmlns:xlink=\"http://www.w3.org/1999/xlink\" width=\"600\" height=\"400\" viewBox=\"0 0 2400 1600\">\n",
       "<defs>\n",
       "  <clipPath id=\"clip750\">\n",
       "    <rect x=\"0\" y=\"0\" width=\"2400\" height=\"1600\"/>\n",
       "  </clipPath>\n",
       "</defs>\n",
       "<path clip-path=\"url(#clip750)\" d=\"\n",
       "M0 1600 L2400 1600 L2400 0 L0 0  Z\n",
       "  \" fill=\"#ffffff\" fill-rule=\"evenodd\" fill-opacity=\"1\"/>\n",
       "<defs>\n",
       "  <clipPath id=\"clip751\">\n",
       "    <rect x=\"480\" y=\"0\" width=\"1681\" height=\"1600\"/>\n",
       "  </clipPath>\n",
       "</defs>\n",
       "<path clip-path=\"url(#clip750)\" d=\"\n",
       "M172.015 1486.45 L2352.76 1486.45 L2352.76 47.2441 L172.015 47.2441  Z\n",
       "  \" fill=\"#ffffff\" fill-rule=\"evenodd\" fill-opacity=\"1\"/>\n",
       "<defs>\n",
       "  <clipPath id=\"clip752\">\n",
       "    <rect x=\"172\" y=\"47\" width=\"2182\" height=\"1440\"/>\n",
       "  </clipPath>\n",
       "</defs>\n",
       "<polyline clip-path=\"url(#clip752)\" style=\"stroke:#000000; stroke-linecap:butt; stroke-linejoin:round; stroke-width:2; stroke-opacity:0.1; fill:none\" points=\"\n",
       "  291.959,1486.45 291.959,47.2441 \n",
       "  \"/>\n",
       "<polyline clip-path=\"url(#clip752)\" style=\"stroke:#000000; stroke-linecap:butt; stroke-linejoin:round; stroke-width:2; stroke-opacity:0.1; fill:none\" points=\"\n",
       "  777.172,1486.45 777.172,47.2441 \n",
       "  \"/>\n",
       "<polyline clip-path=\"url(#clip752)\" style=\"stroke:#000000; stroke-linecap:butt; stroke-linejoin:round; stroke-width:2; stroke-opacity:0.1; fill:none\" points=\"\n",
       "  1262.39,1486.45 1262.39,47.2441 \n",
       "  \"/>\n",
       "<polyline clip-path=\"url(#clip752)\" style=\"stroke:#000000; stroke-linecap:butt; stroke-linejoin:round; stroke-width:2; stroke-opacity:0.1; fill:none\" points=\"\n",
       "  1747.6,1486.45 1747.6,47.2441 \n",
       "  \"/>\n",
       "<polyline clip-path=\"url(#clip752)\" style=\"stroke:#000000; stroke-linecap:butt; stroke-linejoin:round; stroke-width:2; stroke-opacity:0.1; fill:none\" points=\"\n",
       "  2232.81,1486.45 2232.81,47.2441 \n",
       "  \"/>\n",
       "<polyline clip-path=\"url(#clip750)\" style=\"stroke:#000000; stroke-linecap:butt; stroke-linejoin:round; stroke-width:4; stroke-opacity:1; fill:none\" points=\"\n",
       "  172.015,1486.45 2352.76,1486.45 \n",
       "  \"/>\n",
       "<polyline clip-path=\"url(#clip750)\" style=\"stroke:#000000; stroke-linecap:butt; stroke-linejoin:round; stroke-width:4; stroke-opacity:1; fill:none\" points=\"\n",
       "  291.959,1486.45 291.959,1467.55 \n",
       "  \"/>\n",
       "<polyline clip-path=\"url(#clip750)\" style=\"stroke:#000000; stroke-linecap:butt; stroke-linejoin:round; stroke-width:4; stroke-opacity:1; fill:none\" points=\"\n",
       "  777.172,1486.45 777.172,1467.55 \n",
       "  \"/>\n",
       "<polyline clip-path=\"url(#clip750)\" style=\"stroke:#000000; stroke-linecap:butt; stroke-linejoin:round; stroke-width:4; stroke-opacity:1; fill:none\" points=\"\n",
       "  1262.39,1486.45 1262.39,1467.55 \n",
       "  \"/>\n",
       "<polyline clip-path=\"url(#clip750)\" style=\"stroke:#000000; stroke-linecap:butt; stroke-linejoin:round; stroke-width:4; stroke-opacity:1; fill:none\" points=\"\n",
       "  1747.6,1486.45 1747.6,1467.55 \n",
       "  \"/>\n",
       "<polyline clip-path=\"url(#clip750)\" style=\"stroke:#000000; stroke-linecap:butt; stroke-linejoin:round; stroke-width:4; stroke-opacity:1; fill:none\" points=\"\n",
       "  2232.81,1486.45 2232.81,1467.55 \n",
       "  \"/>\n",
       "<path clip-path=\"url(#clip750)\" d=\"M269.101 1517.37 Q265.49 1517.37 263.661 1520.93 Q261.855 1524.47 261.855 1531.6 Q261.855 1538.71 263.661 1542.27 Q265.49 1545.82 269.101 1545.82 Q272.735 1545.82 274.541 1542.27 Q276.369 1538.71 276.369 1531.6 Q276.369 1524.47 274.541 1520.93 Q272.735 1517.37 269.101 1517.37 M269.101 1513.66 Q274.911 1513.66 277.966 1518.27 Q281.045 1522.85 281.045 1531.6 Q281.045 1540.33 277.966 1544.94 Q274.911 1549.52 269.101 1549.52 Q263.291 1549.52 260.212 1544.94 Q257.156 1540.33 257.156 1531.6 Q257.156 1522.85 260.212 1518.27 Q263.291 1513.66 269.101 1513.66 Z\" fill=\"#000000\" fill-rule=\"evenodd\" fill-opacity=\"1\" /><path clip-path=\"url(#clip750)\" d=\"M289.263 1542.97 L294.147 1542.97 L294.147 1548.85 L289.263 1548.85 L289.263 1542.97 Z\" fill=\"#000000\" fill-rule=\"evenodd\" fill-opacity=\"1\" /><path clip-path=\"url(#clip750)\" d=\"M317.179 1518.36 L305.374 1536.81 L317.179 1536.81 L317.179 1518.36 M315.952 1514.29 L321.832 1514.29 L321.832 1536.81 L326.763 1536.81 L326.763 1540.7 L321.832 1540.7 L321.832 1548.85 L317.179 1548.85 L317.179 1540.7 L301.577 1540.7 L301.577 1536.19 L315.952 1514.29 Z\" fill=\"#000000\" fill-rule=\"evenodd\" fill-opacity=\"1\" /><path clip-path=\"url(#clip750)\" d=\"M754.476 1517.37 Q750.865 1517.37 749.036 1520.93 Q747.23 1524.47 747.23 1531.6 Q747.23 1538.71 749.036 1542.27 Q750.865 1545.82 754.476 1545.82 Q758.11 1545.82 759.916 1542.27 Q761.744 1538.71 761.744 1531.6 Q761.744 1524.47 759.916 1520.93 Q758.11 1517.37 754.476 1517.37 M754.476 1513.66 Q760.286 1513.66 763.341 1518.27 Q766.42 1522.85 766.42 1531.6 Q766.42 1540.33 763.341 1544.94 Q760.286 1549.52 754.476 1549.52 Q748.666 1549.52 745.587 1544.94 Q742.531 1540.33 742.531 1531.6 Q742.531 1522.85 745.587 1518.27 Q748.666 1513.66 754.476 1513.66 Z\" fill=\"#000000\" fill-rule=\"evenodd\" fill-opacity=\"1\" /><path clip-path=\"url(#clip750)\" d=\"M774.638 1542.97 L779.522 1542.97 L779.522 1548.85 L774.638 1548.85 L774.638 1542.97 Z\" fill=\"#000000\" fill-rule=\"evenodd\" fill-opacity=\"1\" /><path clip-path=\"url(#clip750)\" d=\"M800.286 1529.7 Q797.138 1529.7 795.286 1531.86 Q793.457 1534.01 793.457 1537.76 Q793.457 1541.49 795.286 1543.66 Q797.138 1545.82 800.286 1545.82 Q803.434 1545.82 805.263 1543.66 Q807.114 1541.49 807.114 1537.76 Q807.114 1534.01 805.263 1531.86 Q803.434 1529.7 800.286 1529.7 M809.568 1515.05 L809.568 1519.31 Q807.809 1518.48 806.003 1518.04 Q804.221 1517.6 802.462 1517.6 Q797.832 1517.6 795.378 1520.72 Q792.948 1523.85 792.601 1530.17 Q793.966 1528.15 796.026 1527.09 Q798.087 1526 800.563 1526 Q805.772 1526 808.781 1529.17 Q811.813 1532.32 811.813 1537.76 Q811.813 1543.08 808.665 1546.3 Q805.517 1549.52 800.286 1549.52 Q794.29 1549.52 791.119 1544.94 Q787.948 1540.33 787.948 1531.6 Q787.948 1523.41 791.837 1518.55 Q795.726 1513.66 802.276 1513.66 Q804.036 1513.66 805.818 1514.01 Q807.624 1514.36 809.568 1515.05 Z\" fill=\"#000000\" fill-rule=\"evenodd\" fill-opacity=\"1\" /><path clip-path=\"url(#clip750)\" d=\"M1239.82 1517.37 Q1236.2 1517.37 1234.38 1520.93 Q1232.57 1524.47 1232.57 1531.6 Q1232.57 1538.71 1234.38 1542.27 Q1236.2 1545.82 1239.82 1545.82 Q1243.45 1545.82 1245.26 1542.27 Q1247.08 1538.71 1247.08 1531.6 Q1247.08 1524.47 1245.26 1520.93 Q1243.45 1517.37 1239.82 1517.37 M1239.82 1513.66 Q1245.63 1513.66 1248.68 1518.27 Q1251.76 1522.85 1251.76 1531.6 Q1251.76 1540.33 1248.68 1544.94 Q1245.63 1549.52 1239.82 1549.52 Q1234.01 1549.52 1230.93 1544.94 Q1227.87 1540.33 1227.87 1531.6 Q1227.87 1522.85 1230.93 1518.27 Q1234.01 1513.66 1239.82 1513.66 Z\" fill=\"#000000\" fill-rule=\"evenodd\" fill-opacity=\"1\" /><path clip-path=\"url(#clip750)\" d=\"M1259.98 1542.97 L1264.86 1542.97 L1264.86 1548.85 L1259.98 1548.85 L1259.98 1542.97 Z\" fill=\"#000000\" fill-rule=\"evenodd\" fill-opacity=\"1\" /><path clip-path=\"url(#clip750)\" d=\"M1285.05 1532.44 Q1281.71 1532.44 1279.79 1534.22 Q1277.89 1536 1277.89 1539.13 Q1277.89 1542.25 1279.79 1544.03 Q1281.71 1545.82 1285.05 1545.82 Q1288.38 1545.82 1290.3 1544.03 Q1292.22 1542.23 1292.22 1539.13 Q1292.22 1536 1290.3 1534.22 Q1288.4 1532.44 1285.05 1532.44 M1280.37 1530.45 Q1277.36 1529.7 1275.67 1527.64 Q1274.01 1525.58 1274.01 1522.62 Q1274.01 1518.48 1276.95 1516.07 Q1279.91 1513.66 1285.05 1513.66 Q1290.21 1513.66 1293.15 1516.07 Q1296.09 1518.48 1296.09 1522.62 Q1296.09 1525.58 1294.4 1527.64 Q1292.73 1529.7 1289.75 1530.45 Q1293.13 1531.23 1295 1533.52 Q1296.9 1535.82 1296.9 1539.13 Q1296.9 1544.15 1293.82 1546.83 Q1290.76 1549.52 1285.05 1549.52 Q1279.33 1549.52 1276.25 1546.83 Q1273.2 1544.15 1273.2 1539.13 Q1273.2 1535.82 1275.09 1533.52 Q1276.99 1531.23 1280.37 1530.45 M1278.66 1523.06 Q1278.66 1525.75 1280.33 1527.25 Q1282.01 1528.76 1285.05 1528.76 Q1288.06 1528.76 1289.75 1527.25 Q1291.46 1525.75 1291.46 1523.06 Q1291.46 1520.38 1289.75 1518.87 Q1288.06 1517.37 1285.05 1517.37 Q1282.01 1517.37 1280.33 1518.87 Q1278.66 1520.38 1278.66 1523.06 Z\" fill=\"#000000\" fill-rule=\"evenodd\" fill-opacity=\"1\" /><path clip-path=\"url(#clip750)\" d=\"M1714.75 1544.91 L1722.39 1544.91 L1722.39 1518.55 L1714.08 1520.21 L1714.08 1515.95 L1722.34 1514.29 L1727.02 1514.29 L1727.02 1544.91 L1734.66 1544.91 L1734.66 1548.85 L1714.75 1548.85 L1714.75 1544.91 Z\" fill=\"#000000\" fill-rule=\"evenodd\" fill-opacity=\"1\" /><path clip-path=\"url(#clip750)\" d=\"M1744.1 1542.97 L1748.99 1542.97 L1748.99 1548.85 L1744.1 1548.85 L1744.1 1542.97 Z\" fill=\"#000000\" fill-rule=\"evenodd\" fill-opacity=\"1\" /><path clip-path=\"url(#clip750)\" d=\"M1769.17 1517.37 Q1765.56 1517.37 1763.73 1520.93 Q1761.93 1524.47 1761.93 1531.6 Q1761.93 1538.71 1763.73 1542.27 Q1765.56 1545.82 1769.17 1545.82 Q1772.81 1545.82 1774.61 1542.27 Q1776.44 1538.71 1776.44 1531.6 Q1776.44 1524.47 1774.61 1520.93 Q1772.81 1517.37 1769.17 1517.37 M1769.17 1513.66 Q1774.98 1513.66 1778.04 1518.27 Q1781.12 1522.85 1781.12 1531.6 Q1781.12 1540.33 1778.04 1544.94 Q1774.98 1549.52 1769.17 1549.52 Q1763.36 1549.52 1760.28 1544.94 Q1757.23 1540.33 1757.23 1531.6 Q1757.23 1522.85 1760.28 1518.27 Q1763.36 1513.66 1769.17 1513.66 Z\" fill=\"#000000\" fill-rule=\"evenodd\" fill-opacity=\"1\" /><path clip-path=\"url(#clip750)\" d=\"M2200.76 1544.91 L2208.4 1544.91 L2208.4 1518.55 L2200.09 1520.21 L2200.09 1515.95 L2208.36 1514.29 L2213.03 1514.29 L2213.03 1544.91 L2220.67 1544.91 L2220.67 1548.85 L2200.76 1548.85 L2200.76 1544.91 Z\" fill=\"#000000\" fill-rule=\"evenodd\" fill-opacity=\"1\" /><path clip-path=\"url(#clip750)\" d=\"M2230.11 1542.97 L2235 1542.97 L2235 1548.85 L2230.11 1548.85 L2230.11 1542.97 Z\" fill=\"#000000\" fill-rule=\"evenodd\" fill-opacity=\"1\" /><path clip-path=\"url(#clip750)\" d=\"M2249.21 1544.91 L2265.53 1544.91 L2265.53 1548.85 L2243.59 1548.85 L2243.59 1544.91 Q2246.25 1542.16 2250.83 1537.53 Q2255.44 1532.88 2256.62 1531.53 Q2258.86 1529.01 2259.74 1527.27 Q2260.65 1525.51 2260.65 1523.82 Q2260.65 1521.07 2258.7 1519.33 Q2256.78 1517.6 2253.68 1517.6 Q2251.48 1517.6 2249.03 1518.36 Q2246.6 1519.13 2243.82 1520.68 L2243.82 1515.95 Q2246.64 1514.82 2249.1 1514.24 Q2251.55 1513.66 2253.59 1513.66 Q2258.96 1513.66 2262.15 1516.35 Q2265.35 1519.03 2265.35 1523.52 Q2265.35 1525.65 2264.54 1527.57 Q2263.75 1529.47 2261.64 1532.07 Q2261.06 1532.74 2257.96 1535.95 Q2254.86 1539.15 2249.21 1544.91 Z\" fill=\"#000000\" fill-rule=\"evenodd\" fill-opacity=\"1\" /><polyline clip-path=\"url(#clip752)\" style=\"stroke:#000000; stroke-linecap:butt; stroke-linejoin:round; stroke-width:2; stroke-opacity:0.1; fill:none\" points=\"\n",
       "  172.015,1445.72 2352.76,1445.72 \n",
       "  \"/>\n",
       "<polyline clip-path=\"url(#clip752)\" style=\"stroke:#000000; stroke-linecap:butt; stroke-linejoin:round; stroke-width:2; stroke-opacity:0.1; fill:none\" points=\"\n",
       "  172.015,1059.45 2352.76,1059.45 \n",
       "  \"/>\n",
       "<polyline clip-path=\"url(#clip752)\" style=\"stroke:#000000; stroke-linecap:butt; stroke-linejoin:round; stroke-width:2; stroke-opacity:0.1; fill:none\" points=\"\n",
       "  172.015,673.175 2352.76,673.175 \n",
       "  \"/>\n",
       "<polyline clip-path=\"url(#clip752)\" style=\"stroke:#000000; stroke-linecap:butt; stroke-linejoin:round; stroke-width:2; stroke-opacity:0.1; fill:none\" points=\"\n",
       "  172.015,286.905 2352.76,286.905 \n",
       "  \"/>\n",
       "<polyline clip-path=\"url(#clip750)\" style=\"stroke:#000000; stroke-linecap:butt; stroke-linejoin:round; stroke-width:4; stroke-opacity:1; fill:none\" points=\"\n",
       "  172.015,1486.45 172.015,47.2441 \n",
       "  \"/>\n",
       "<polyline clip-path=\"url(#clip750)\" style=\"stroke:#000000; stroke-linecap:butt; stroke-linejoin:round; stroke-width:4; stroke-opacity:1; fill:none\" points=\"\n",
       "  172.015,1445.72 190.912,1445.72 \n",
       "  \"/>\n",
       "<polyline clip-path=\"url(#clip750)\" style=\"stroke:#000000; stroke-linecap:butt; stroke-linejoin:round; stroke-width:4; stroke-opacity:1; fill:none\" points=\"\n",
       "  172.015,1059.45 190.912,1059.45 \n",
       "  \"/>\n",
       "<polyline clip-path=\"url(#clip750)\" style=\"stroke:#000000; stroke-linecap:butt; stroke-linejoin:round; stroke-width:4; stroke-opacity:1; fill:none\" points=\"\n",
       "  172.015,673.175 190.912,673.175 \n",
       "  \"/>\n",
       "<polyline clip-path=\"url(#clip750)\" style=\"stroke:#000000; stroke-linecap:butt; stroke-linejoin:round; stroke-width:4; stroke-opacity:1; fill:none\" points=\"\n",
       "  172.015,286.905 190.912,286.905 \n",
       "  \"/>\n",
       "<path clip-path=\"url(#clip750)\" d=\"M124.07 1431.51 Q120.459 1431.51 118.631 1435.08 Q116.825 1438.62 116.825 1445.75 Q116.825 1452.86 118.631 1456.42 Q120.459 1459.96 124.07 1459.96 Q127.705 1459.96 129.51 1456.42 Q131.339 1452.86 131.339 1445.75 Q131.339 1438.62 129.51 1435.08 Q127.705 1431.51 124.07 1431.51 M124.07 1427.81 Q129.881 1427.81 132.936 1432.42 Q136.015 1437 136.015 1445.75 Q136.015 1454.48 132.936 1459.08 Q129.881 1463.67 124.07 1463.67 Q118.26 1463.67 115.182 1459.08 Q112.126 1454.48 112.126 1445.75 Q112.126 1437 115.182 1432.42 Q118.26 1427.81 124.07 1427.81 Z\" fill=\"#000000\" fill-rule=\"evenodd\" fill-opacity=\"1\" /><path clip-path=\"url(#clip750)\" d=\"M57.7745 1072.79 L74.0939 1072.79 L74.0939 1076.73 L52.1495 1076.73 L52.1495 1072.79 Q54.8115 1070.04 59.3949 1065.41 Q64.0013 1060.75 65.1819 1059.41 Q67.4272 1056.89 68.3068 1055.15 Q69.2096 1053.39 69.2096 1051.7 Q69.2096 1048.95 67.2652 1047.21 Q65.3439 1045.48 62.2421 1045.48 Q60.043 1045.48 57.5893 1046.24 Q55.1588 1047 52.381 1048.55 L52.381 1043.83 Q55.2051 1042.7 57.6588 1042.12 Q60.1124 1041.54 62.1495 1041.54 Q67.5198 1041.54 70.7142 1044.23 Q73.9087 1046.91 73.9087 1051.4 Q73.9087 1053.53 73.0985 1055.45 Q72.3115 1057.35 70.205 1059.94 Q69.6263 1060.61 66.5245 1063.83 Q63.4226 1067.03 57.7745 1072.79 Z\" fill=\"#000000\" fill-rule=\"evenodd\" fill-opacity=\"1\" /><path clip-path=\"url(#clip750)\" d=\"M93.9086 1045.24 Q90.2975 1045.24 88.4688 1048.81 Q86.6632 1052.35 86.6632 1059.48 Q86.6632 1066.59 88.4688 1070.15 Q90.2975 1073.69 93.9086 1073.69 Q97.5428 1073.69 99.3483 1070.15 Q101.177 1066.59 101.177 1059.48 Q101.177 1052.35 99.3483 1048.81 Q97.5428 1045.24 93.9086 1045.24 M93.9086 1041.54 Q99.7187 1041.54 102.774 1046.15 Q105.853 1050.73 105.853 1059.48 Q105.853 1068.21 102.774 1072.81 Q99.7187 1077.4 93.9086 1077.4 Q88.0984 1077.4 85.0197 1072.81 Q81.9642 1068.21 81.9642 1059.48 Q81.9642 1050.73 85.0197 1046.15 Q88.0984 1041.54 93.9086 1041.54 Z\" fill=\"#000000\" fill-rule=\"evenodd\" fill-opacity=\"1\" /><path clip-path=\"url(#clip750)\" d=\"M124.07 1045.24 Q120.459 1045.24 118.631 1048.81 Q116.825 1052.35 116.825 1059.48 Q116.825 1066.59 118.631 1070.15 Q120.459 1073.69 124.07 1073.69 Q127.705 1073.69 129.51 1070.15 Q131.339 1066.59 131.339 1059.48 Q131.339 1052.35 129.51 1048.81 Q127.705 1045.24 124.07 1045.24 M124.07 1041.54 Q129.881 1041.54 132.936 1046.15 Q136.015 1050.73 136.015 1059.48 Q136.015 1068.21 132.936 1072.81 Q129.881 1077.4 124.07 1077.4 Q118.26 1077.4 115.182 1072.81 Q112.126 1068.21 112.126 1059.48 Q112.126 1050.73 115.182 1046.15 Q118.26 1041.54 124.07 1041.54 Z\" fill=\"#000000\" fill-rule=\"evenodd\" fill-opacity=\"1\" /><path clip-path=\"url(#clip750)\" d=\"M66.5939 659.97 L54.7884 678.419 L66.5939 678.419 L66.5939 659.97 M65.367 655.895 L71.2466 655.895 L71.2466 678.419 L76.1772 678.419 L76.1772 682.307 L71.2466 682.307 L71.2466 690.455 L66.5939 690.455 L66.5939 682.307 L50.9921 682.307 L50.9921 677.794 L65.367 655.895 Z\" fill=\"#000000\" fill-rule=\"evenodd\" fill-opacity=\"1\" /><path clip-path=\"url(#clip750)\" d=\"M93.9086 658.974 Q90.2975 658.974 88.4688 662.539 Q86.6632 666.081 86.6632 673.21 Q86.6632 680.317 88.4688 683.881 Q90.2975 687.423 93.9086 687.423 Q97.5428 687.423 99.3483 683.881 Q101.177 680.317 101.177 673.21 Q101.177 666.081 99.3483 662.539 Q97.5428 658.974 93.9086 658.974 M93.9086 655.27 Q99.7187 655.27 102.774 659.877 Q105.853 664.46 105.853 673.21 Q105.853 681.937 102.774 686.543 Q99.7187 691.127 93.9086 691.127 Q88.0984 691.127 85.0197 686.543 Q81.9642 681.937 81.9642 673.21 Q81.9642 664.46 85.0197 659.877 Q88.0984 655.27 93.9086 655.27 Z\" fill=\"#000000\" fill-rule=\"evenodd\" fill-opacity=\"1\" /><path clip-path=\"url(#clip750)\" d=\"M124.07 658.974 Q120.459 658.974 118.631 662.539 Q116.825 666.081 116.825 673.21 Q116.825 680.317 118.631 683.881 Q120.459 687.423 124.07 687.423 Q127.705 687.423 129.51 683.881 Q131.339 680.317 131.339 673.21 Q131.339 666.081 129.51 662.539 Q127.705 658.974 124.07 658.974 M124.07 655.27 Q129.881 655.27 132.936 659.877 Q136.015 664.46 136.015 673.21 Q136.015 681.937 132.936 686.543 Q129.881 691.127 124.07 691.127 Q118.26 691.127 115.182 686.543 Q112.126 681.937 112.126 673.21 Q112.126 664.46 115.182 659.877 Q118.26 655.27 124.07 655.27 Z\" fill=\"#000000\" fill-rule=\"evenodd\" fill-opacity=\"1\" /><path clip-path=\"url(#clip750)\" d=\"M64.3254 285.042 Q61.1773 285.042 59.3254 287.195 Q57.4967 289.347 57.4967 293.097 Q57.4967 296.824 59.3254 299 Q61.1773 301.153 64.3254 301.153 Q67.4735 301.153 69.3022 299 Q71.1541 296.824 71.1541 293.097 Q71.1541 289.347 69.3022 287.195 Q67.4735 285.042 64.3254 285.042 M73.6077 270.389 L73.6077 274.649 Q71.8485 273.815 70.0429 273.375 Q68.2606 272.936 66.5013 272.936 Q61.8717 272.936 59.418 276.061 Q56.9875 279.186 56.6402 285.505 Q58.006 283.491 60.0662 282.426 Q62.1263 281.338 64.6032 281.338 Q69.8115 281.338 72.8207 284.51 Q75.8531 287.658 75.8531 293.097 Q75.8531 298.422 72.705 301.639 Q69.5568 304.857 64.3254 304.857 Q58.33 304.857 55.1588 300.273 Q51.9875 295.667 51.9875 286.94 Q51.9875 278.746 55.8764 273.885 Q59.7652 269 66.3161 269 Q68.0754 269 69.8578 269.348 Q71.6633 269.695 73.6077 270.389 Z\" fill=\"#000000\" fill-rule=\"evenodd\" fill-opacity=\"1\" /><path clip-path=\"url(#clip750)\" d=\"M93.9086 272.704 Q90.2975 272.704 88.4688 276.269 Q86.6632 279.811 86.6632 286.94 Q86.6632 294.047 88.4688 297.611 Q90.2975 301.153 93.9086 301.153 Q97.5428 301.153 99.3483 297.611 Q101.177 294.047 101.177 286.94 Q101.177 279.811 99.3483 276.269 Q97.5428 272.704 93.9086 272.704 M93.9086 269 Q99.7187 269 102.774 273.607 Q105.853 278.19 105.853 286.94 Q105.853 295.667 102.774 300.273 Q99.7187 304.857 93.9086 304.857 Q88.0984 304.857 85.0197 300.273 Q81.9642 295.667 81.9642 286.94 Q81.9642 278.19 85.0197 273.607 Q88.0984 269 93.9086 269 Z\" fill=\"#000000\" fill-rule=\"evenodd\" fill-opacity=\"1\" /><path clip-path=\"url(#clip750)\" d=\"M124.07 272.704 Q120.459 272.704 118.631 276.269 Q116.825 279.811 116.825 286.94 Q116.825 294.047 118.631 297.611 Q120.459 301.153 124.07 301.153 Q127.705 301.153 129.51 297.611 Q131.339 294.047 131.339 286.94 Q131.339 279.811 129.51 276.269 Q127.705 272.704 124.07 272.704 M124.07 269 Q129.881 269 132.936 273.607 Q136.015 278.19 136.015 286.94 Q136.015 295.667 132.936 300.273 Q129.881 304.857 124.07 304.857 Q118.26 304.857 115.182 300.273 Q112.126 295.667 112.126 286.94 Q112.126 278.19 115.182 273.607 Q118.26 269 124.07 269 Z\" fill=\"#000000\" fill-rule=\"evenodd\" fill-opacity=\"1\" /><path clip-path=\"url(#clip752)\" d=\"\n",
       "M291.959 1439.92 L291.959 1445.72 L777.172 1445.72 L777.172 1439.92 L291.959 1439.92 L291.959 1439.92  Z\n",
       "  \" fill=\"#009af9\" fill-rule=\"evenodd\" fill-opacity=\"1\"/>\n",
       "<polyline clip-path=\"url(#clip752)\" style=\"stroke:#000000; stroke-linecap:butt; stroke-linejoin:round; stroke-width:4; stroke-opacity:1; fill:none\" points=\"\n",
       "  291.959,1439.92 291.959,1445.72 777.172,1445.72 777.172,1439.92 291.959,1439.92 \n",
       "  \"/>\n",
       "<path clip-path=\"url(#clip752)\" d=\"\n",
       "M777.172 1420.61 L777.172 1445.72 L1262.39 1445.72 L1262.39 1420.61 L777.172 1420.61 L777.172 1420.61  Z\n",
       "  \" fill=\"#009af9\" fill-rule=\"evenodd\" fill-opacity=\"1\"/>\n",
       "<polyline clip-path=\"url(#clip752)\" style=\"stroke:#000000; stroke-linecap:butt; stroke-linejoin:round; stroke-width:4; stroke-opacity:1; fill:none\" points=\"\n",
       "  777.172,1420.61 777.172,1445.72 1262.39,1445.72 1262.39,1420.61 777.172,1420.61 \n",
       "  \"/>\n",
       "<path clip-path=\"url(#clip752)\" d=\"\n",
       "M1262.39 1407.09 L1262.39 1445.72 L1747.6 1445.72 L1747.6 1407.09 L1262.39 1407.09 L1262.39 1407.09  Z\n",
       "  \" fill=\"#009af9\" fill-rule=\"evenodd\" fill-opacity=\"1\"/>\n",
       "<polyline clip-path=\"url(#clip752)\" style=\"stroke:#000000; stroke-linecap:butt; stroke-linejoin:round; stroke-width:4; stroke-opacity:1; fill:none\" points=\"\n",
       "  1262.39,1407.09 1262.39,1445.72 1747.6,1445.72 1747.6,1407.09 1262.39,1407.09 \n",
       "  \"/>\n",
       "<path clip-path=\"url(#clip752)\" d=\"\n",
       "M1747.6 87.9763 L1747.6 1445.72 L2232.81 1445.72 L2232.81 87.9763 L1747.6 87.9763 L1747.6 87.9763  Z\n",
       "  \" fill=\"#009af9\" fill-rule=\"evenodd\" fill-opacity=\"1\"/>\n",
       "<polyline clip-path=\"url(#clip752)\" style=\"stroke:#000000; stroke-linecap:butt; stroke-linejoin:round; stroke-width:4; stroke-opacity:1; fill:none\" points=\"\n",
       "  1747.6,87.9763 1747.6,1445.72 2232.81,1445.72 2232.81,87.9763 1747.6,87.9763 \n",
       "  \"/>\n",
       "<circle clip-path=\"url(#clip752)\" style=\"fill:#009af9; stroke:none; fill-opacity:0\" cx=\"534.566\" cy=\"1439.92\" r=\"2\"/>\n",
       "<circle clip-path=\"url(#clip752)\" style=\"fill:#009af9; stroke:none; fill-opacity:0\" cx=\"1019.78\" cy=\"1420.61\" r=\"2\"/>\n",
       "<circle clip-path=\"url(#clip752)\" style=\"fill:#009af9; stroke:none; fill-opacity:0\" cx=\"1504.99\" cy=\"1407.09\" r=\"2\"/>\n",
       "<circle clip-path=\"url(#clip752)\" style=\"fill:#009af9; stroke:none; fill-opacity:0\" cx=\"1990.2\" cy=\"87.9763\" r=\"2\"/>\n",
       "<path clip-path=\"url(#clip750)\" d=\"\n",
       "M1985.33 198.898 L2280.06 198.898 L2280.06 95.2176 L1985.33 95.2176  Z\n",
       "  \" fill=\"#ffffff\" fill-rule=\"evenodd\" fill-opacity=\"1\"/>\n",
       "<polyline clip-path=\"url(#clip750)\" style=\"stroke:#000000; stroke-linecap:butt; stroke-linejoin:round; stroke-width:4; stroke-opacity:1; fill:none\" points=\"\n",
       "  1985.33,198.898 2280.06,198.898 2280.06,95.2176 1985.33,95.2176 1985.33,198.898 \n",
       "  \"/>\n",
       "<path clip-path=\"url(#clip750)\" d=\"\n",
       "M2009.56 167.794 L2154.94 167.794 L2154.94 126.322 L2009.56 126.322 L2009.56 167.794  Z\n",
       "  \" fill=\"#009af9\" fill-rule=\"evenodd\" fill-opacity=\"1\"/>\n",
       "<polyline clip-path=\"url(#clip750)\" style=\"stroke:#000000; stroke-linecap:butt; stroke-linejoin:round; stroke-width:4; stroke-opacity:1; fill:none\" points=\"\n",
       "  2009.56,167.794 2154.94,167.794 2154.94,126.322 2009.56,126.322 2009.56,167.794 \n",
       "  \"/>\n",
       "<path clip-path=\"url(#clip750)\" d=\"M2193.02 166.745 Q2191.21 171.375 2189.5 172.787 Q2187.78 174.199 2184.91 174.199 L2181.51 174.199 L2181.51 170.634 L2184.01 170.634 Q2185.77 170.634 2186.74 169.8 Q2187.71 168.967 2188.9 165.865 L2189.66 163.921 L2179.17 138.412 L2183.69 138.412 L2191.79 158.689 L2199.89 138.412 L2204.4 138.412 L2193.02 166.745 Z\" fill=\"#000000\" fill-rule=\"evenodd\" fill-opacity=\"1\" /><path clip-path=\"url(#clip750)\" d=\"M2211.7 160.402 L2219.34 160.402 L2219.34 134.037 L2211.03 135.703 L2211.03 131.444 L2219.29 129.778 L2223.96 129.778 L2223.96 160.402 L2231.6 160.402 L2231.6 164.338 L2211.7 164.338 L2211.7 160.402 Z\" fill=\"#000000\" fill-rule=\"evenodd\" fill-opacity=\"1\" /></svg>\n"
      ]
     },
     "metadata": {},
     "output_type": "display_data"
    }
   ],
   "source": [
    "histogram(res.last_val)"
   ]
  },
  {
   "cell_type": "code",
   "execution_count": 68,
   "metadata": {},
   "outputs": [
    {
     "data": {
      "text/plain": [
       "1.0"
      ]
     },
     "metadata": {},
     "output_type": "display_data"
    }
   ],
   "source": [
    "#neg link will be chosen for certain\n",
    "params.pn = 1.\n"
   ]
  },
  {
   "cell_type": "code",
   "execution_count": 71,
   "metadata": {},
   "outputs": [
    {
     "data": {
      "text/plain": [
       "true"
      ]
     },
     "metadata": {},
     "output_type": "display_data"
    }
   ],
   "source": [
    "#connection will be surely removed\n",
    "params.pr_neg = 1.\n",
    "attr, signs, triads = single_update(params, attr, signs, triads)\n",
    "length(triads) == 0"
   ]
  }
 ],
 "metadata": {
  "kernelspec": {
   "display_name": "Julia 1.6.4",
   "language": "julia",
   "name": "julia-1.6"
  },
  "language_info": {
   "file_extension": ".jl",
   "mimetype": "application/julia",
   "name": "julia",
   "version": "1.6.4"
  },
  "orig_nbformat": 4
 },
 "nbformat": 4,
 "nbformat_minor": 2
}

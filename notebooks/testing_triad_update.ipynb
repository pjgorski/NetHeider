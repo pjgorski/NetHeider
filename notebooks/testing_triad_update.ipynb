{
 "cells": [
  {
   "cell_type": "code",
   "execution_count": 1,
   "metadata": {},
   "outputs": [],
   "source": [
    "using DrWatson\n",
    "quickactivate(@__DIR__)\n",
    "\n",
    "using NetHeider\n",
    "using LinearAlgebra\n",
    "using LightGraphs"
   ]
  },
  {
   "cell_type": "code",
   "execution_count": 2,
   "metadata": {},
   "outputs": [
    {
     "data": {
      "text/plain": [
       "single_update (generic function with 1 method)"
      ]
     },
     "metadata": {},
     "output_type": "display_data"
    }
   ],
   "source": [
    "function single_update(params::Params, attr::Matrix{Int}, signs::Matrix{Float64}, triads)\n",
    "    if length(triads) == 0\n",
    "        return attr, signs, triads\n",
    "    end\n",
    "    #choose triad\n",
    "    triad = rand(triads)\n",
    "    triad_links = (signs[triad[1],triad[2]], signs[triad[2],triad[3]], signs[triad[3],triad[1]])\n",
    "    triad_links_inds = ((triad[1],triad[2]), (triad[2],triad[3]), (triad[3],triad[1]))\n",
    "\n",
    "    #determine triad type\n",
    "    is_balanced = prod(triad_links) > 0\n",
    "\n",
    "    if !is_balanced\n",
    "        s = sum(triad_links)\n",
    "        if s == 1 # triad with 1 neg link\n",
    "            if rand() < params.pn #change neg link\n",
    "                neg_link_ind = findfirst(triad_links .== -1)\n",
    "                change_link = triad_links_inds[neg_link_ind]\n",
    "            else\n",
    "                pos_link_inds = findall(triad_links .== 1)\n",
    "                change_link = triad_links_inds[rand(pos_link_inds)]\n",
    "            end\n",
    "        else # triad with 3 neg links\n",
    "            change_link = rand(triad_links_inds)\n",
    "        end\n",
    "\n",
    "        pr = signs[change_link...] > 0 ? params.pr_pos : params.pr_neg\n",
    "        if rand() < pr\n",
    "            # remove connection\n",
    "            rem_edge!(net, change_link...)\n",
    "\n",
    "            triads = get_undir_triads(net)\n",
    "        else #change attribute\n",
    "            #choose agent\n",
    "            ind_1 = rand(1:2)\n",
    "            agent_1 = change_link[ind_1]\n",
    "            agent_2 = ind_1 == 1 ? change_link[2] : change_link[1]\n",
    "\n",
    "            #find set of attributes\n",
    "            v = get_degeneracy(params.attr)\n",
    "            dif = attr[agent_1,:] .- attr[agent_2,:]\n",
    "            if signs[change_link...] > 0 #this link is positive. We want to make it negative\n",
    "                #find set of not completely different attributes\n",
    "                attr_inds = findall(abs.(dif) .!= v-1)\n",
    "\n",
    "                #exclude attributes that cannot become more different (for instance attribute 1 cannot become smaller)\n",
    "                attr_inds = [attr_ind for (i, attr_ind) in enumerate(attr_inds) if dif[i] == 0 || (attr[agent_1, attr_ind] != 1 && attr[agent_1, attr_ind] != v)]\n",
    "            else #this link is negative. We want to make it positive\n",
    "                #find set of not the same attributes\n",
    "                attr_inds = findall(attr[agent_1,:] .!= attr[agent_2,:])\n",
    "            end\n",
    "\n",
    "            attr_ind = rand(attr_inds)\n",
    "            if signs[change_link...] > 0 #this link is positive. We want to make it negative\n",
    "                    \n",
    "                if dif[attr_ind] == 0\n",
    "                    if attr[agent_1, attr_ind] == 1\n",
    "                        possible_new_vals = [attr[agent_1, attr_ind] + 1]\n",
    "                    elseif attr[agent_1, attr_ind] == v\n",
    "                        possible_new_vals = [attr[agent_1, attr_ind] - 1]\n",
    "                    else possible_new_vals = [attr[agent_1, attr_ind] - 1, attr[agent_1, attr_ind] + 1]\n",
    "                    end\n",
    "                else\n",
    "                    possible_new_vals = [attr[agent_1, attr_ind] + sign(dif[attr_ind])]\n",
    "                end\n",
    "            else #this link is negative. We want to make it positive\n",
    "                possible_new_vals = [attr[agent_1, attr_ind] - sign(dif[attr_ind])]\n",
    "            end\n",
    "\n",
    "            attr[agent_1, attr_ind] = rand(possible_new_vals)\n",
    "        end\n",
    "    end\n",
    "    return attr, signs, triads\n",
    "end"
   ]
  },
  {
   "cell_type": "code",
   "execution_count": 5,
   "metadata": {},
   "outputs": [
    {
     "data": {
      "text/plain": [
       "Params(OrderedAttributes(3, 0.25, 3), 3, \"complete\", 0, 0.5, 0.5, 0.5, 0.5, false, 1000, 10, 100, Dates.Date(\"2022-04-21\"), \"results.csv\", 60, 0.25, 60)"
      ]
     },
     "metadata": {},
     "output_type": "display_data"
    }
   ],
   "source": [
    "attribute = OrderedAttributes(3, 0.25, 3)\n",
    "attr = [1 1 1;\n",
    "    1 1 3; \n",
    "    1 1 2]\n",
    "signs = sign.(Symmetric(get_attribute_layer_weights(attribute, attr)))\n",
    "net = NetHeider.generate_complete_network(3)\n",
    "triads = get_undir_triads(net)\n",
    "\n",
    "params = Params()\n",
    "params.attr = attribute\n",
    "params"
   ]
  },
  {
   "cell_type": "code",
   "execution_count": 6,
   "metadata": {},
   "outputs": [
    {
     "data": {
      "text/plain": [
       "3×3 Matrix{Float64}:\n",
       "  0.0  -1.0  1.0\n",
       " -1.0   0.0  1.0\n",
       "  1.0   1.0  0.0"
      ]
     },
     "metadata": {},
     "output_type": "display_data"
    }
   ],
   "source": [
    "signs"
   ]
  },
  {
   "cell_type": "code",
   "execution_count": 68,
   "metadata": {},
   "outputs": [
    {
     "data": {
      "text/plain": [
       "1.0"
      ]
     },
     "metadata": {},
     "output_type": "display_data"
    }
   ],
   "source": [
    "#neg link will be chosen for certain\n",
    "params.pn = 1.\n"
   ]
  },
  {
   "cell_type": "code",
   "execution_count": 71,
   "metadata": {},
   "outputs": [
    {
     "data": {
      "text/plain": [
       "true"
      ]
     },
     "metadata": {},
     "output_type": "display_data"
    }
   ],
   "source": [
    "#connection will be surely removed\n",
    "params.pr_neg = 1.\n",
    "attr, signs, triads = single_update(params, attr, signs, triads)\n",
    "length(triads) == 0"
   ]
  }
 ],
 "metadata": {
  "kernelspec": {
   "display_name": "Julia 1.6.4",
   "language": "julia",
   "name": "julia-1.6"
  },
  "language_info": {
   "file_extension": ".jl",
   "mimetype": "application/julia",
   "name": "julia",
   "version": "1.6.4"
  },
  "orig_nbformat": 4
 },
 "nbformat": 4,
 "nbformat_minor": 2
}

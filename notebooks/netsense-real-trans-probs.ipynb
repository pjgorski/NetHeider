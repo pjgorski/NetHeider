{
 "cells": [
  {
   "cell_type": "code",
   "execution_count": 1,
   "metadata": {},
   "outputs": [
    {
     "data": {
      "text/plain": [
       "PyObject <function load_pickle at 0x7fada9ea8b80>"
      ]
     },
     "metadata": {},
     "output_type": "display_data"
    }
   ],
   "source": [
    "using PyCall\n",
    "using LinearAlgebra\n",
    "using Statistics\n",
    "using Random\n",
    "\n",
    "using DrWatson\n",
    "quickactivate(@__DIR__)\n",
    "\n",
    "using NetHeider\n",
    "\n",
    "py\"\"\"\n",
    "import pickle\n",
    " \n",
    "def load_pickle(fpath):\n",
    "    with open(fpath, \"rb\") as f:\n",
    "        data = pickle.load(f)\n",
    "    return data\n",
    "\"\"\"\n",
    "\n",
    "load_pickle = py\"load_pickle\""
   ]
  },
  {
   "cell_type": "code",
   "execution_count": 2,
   "metadata": {},
   "outputs": [
    {
     "data": {
      "text/plain": [
       "Dict{Any, Any} with 6 entries:\n",
       "  5 => PyObject <networkx.classes.graph.Graph object at 0x7fad8f9e59d0>\n",
       "  4 => PyObject <networkx.classes.graph.Graph object at 0x7fad8fa2ad90>\n",
       "  6 => PyObject <networkx.classes.graph.Graph object at 0x7fad8f9a7cd0>\n",
       "  2 => PyObject <networkx.classes.graph.Graph object at 0x7fad8faa74f0>\n",
       "  3 => PyObject <networkx.classes.graph.Graph object at 0x7fad8f9ef130>\n",
       "  1 => PyObject <networkx.classes.graph.Graph object at 0x7fadaa104940>"
      ]
     },
     "metadata": {},
     "output_type": "display_data"
    }
   ],
   "source": [
    "fname = datadir(\"exp_pro\", \"NetSense_network.pkl\")\n",
    "file = load_pickle(fname)"
   ]
  },
  {
   "cell_type": "code",
   "execution_count": 3,
   "metadata": {},
   "outputs": [
    {
     "data": {
      "text/plain": [
       "PyObject <function get_adjacency_matrix at 0x7fad8fa7cb80>"
      ]
     },
     "metadata": {},
     "output_type": "display_data"
    }
   ],
   "source": [
    "py\"\"\"\n",
    "import networkx as nx\n",
    "def get_triads(net):\n",
    "    A = nx.adjacency_matrix(net).todense() \n",
    "\n",
    "    N = A.shape[0]\n",
    "\n",
    "    triads = []\n",
    "\n",
    "    for i in range(0,N):\n",
    "        for j in range(i+1,N):\n",
    "            if A[i,j] > 0:\n",
    "                for k in range(j+1,N):\n",
    "                    if A[i,k] > 0 and A[j,k] > 0:\n",
    "                        triads.append((i,j,k))\n",
    "    \n",
    "    return triads\n",
    "\n",
    "def get_adjacency_matrix(net, ordering = None):\n",
    "    return nx.adjacency_matrix(net, ordering).todense() \n",
    "\"\"\"\n",
    "\n",
    "function get_triads2(A)\n",
    "    \n",
    "\n",
    "    N = size(A)[1]\n",
    "\n",
    "    triads = []\n",
    "\n",
    "    for i in 1:N\n",
    "        for j in (i+1):N\n",
    "            if A[i,j] > 0\n",
    "                for k in (j+1):N\n",
    "                    if A[i,k] > 0 && A[j,k] > 0\n",
    "                        push!(triads, (i,j,k))\n",
    "                    end\n",
    "                end\n",
    "            end\n",
    "        end\n",
    "    end\n",
    "    \n",
    "    return triads\n",
    "end\n",
    "\n",
    "get_triads = py\"get_triads\"\n",
    "get_adjacency_matrix = py\"get_adjacency_matrix\""
   ]
  },
  {
   "cell_type": "code",
   "execution_count": 4,
   "metadata": {},
   "outputs": [
    {
     "data": {
      "text/plain": [
       "create_series_adj_mat (generic function with 2 methods)"
      ]
     },
     "metadata": {},
     "output_type": "display_data"
    }
   ],
   "source": [
    "function get_all_nodes(file)\n",
    "    nodes = [n for n in file[1].nodes]\n",
    "    for i in 2:6\n",
    "        nodes = [nodes..., [n for n in file[i].nodes()]...]\n",
    "    end\n",
    "    return unique(nodes)\n",
    "end\n",
    "\n",
    "function create_series_adj_mat(file, nodes = get_all_nodes(file))\n",
    "    As = [get_adjacency_matrix(file[i], nodes) for i in 1:6]\n",
    "    return As\n",
    "end"
   ]
  },
  {
   "cell_type": "code",
   "execution_count": 5,
   "metadata": {},
   "outputs": [
    {
     "data": {
      "text/plain": [
       "(108.0, 152.0, 116.0)"
      ]
     },
     "metadata": {},
     "output_type": "display_data"
    },
    {
     "data": {
      "text/plain": [
       "6×6 Matrix{Float64}:\n",
       " 1.0       0.425532  0.260355  0.318182  0.258706  0.255682\n",
       " 0.425532  1.0       0.427419  0.530612  0.466216  0.350365\n",
       " 0.260355  0.427419  1.0       0.478261  0.421053  0.397849\n",
       " 0.318182  0.530612  0.478261  1.0       0.578947  0.401575\n",
       " 0.258706  0.466216  0.421053  0.578947  1.0       0.491228\n",
       " 0.255682  0.350365  0.397849  0.401575  0.491228  1.0"
      ]
     },
     "metadata": {},
     "output_type": "display_data"
    },
    {
     "data": {
      "text/plain": [
       "6×6 Matrix{Float64}:\n",
       " 1.0  0.526316  0.289474  0.414474  0.342105  0.296053\n",
       " 0.0  1.0       0.456897  0.672414  0.594828  0.413793\n",
       " 0.0  0.0       1.0       0.901639  0.786885  0.606557\n",
       " 0.0  0.0       0.0       1.0       0.706422  0.46789\n",
       " 0.0  0.0       0.0       0.0       1.0       0.554455\n",
       " 0.0  0.0       0.0       0.0       0.0       1.0"
      ]
     },
     "metadata": {},
     "output_type": "display_data"
    },
    {
     "data": {
      "text/plain": [
       "6×6 Matrix{Float64}:\n",
       " 0.0  72.0  108.0  89.0  100.0  107.0\n",
       " 0.0   0.0   63.0  38.0   47.0   68.0\n",
       " 0.0   0.0    0.0   6.0   13.0   24.0\n",
       " 0.0   0.0    0.0   0.0   32.0   58.0\n",
       " 0.0   0.0    0.0   0.0    0.0   45.0\n",
       " 0.0   0.0    0.0   0.0    0.0    0.0"
      ]
     },
     "metadata": {},
     "output_type": "display_data"
    }
   ],
   "source": [
    "nodes = get_all_nodes(file)\n",
    "Ws = create_series_adj_mat(file, nodes)\n",
    "As = [sign.(W) for W in Ws]\n",
    "\n",
    "i=1; inc = 1;\n",
    "display((sum(abs.(As[i + inc] .- As[i]))/2, sum(As[i])/2, sum(As[i+inc])/2))\n",
    "\n",
    "overlap = zeros(6,6)\n",
    "for i in 1:6, j in 1:6\n",
    "    overlap[i,j] = sum(As[i].*As[j]) / sum(sign.(As[i] .+ As[j]))\n",
    "end\n",
    "display(overlap)\n",
    "\n",
    "#how many links vanish?\n",
    "not_vanish = zeros(6,6)\n",
    "vanish_abs = zeros(6,6)\n",
    "for i in 1:6\n",
    "    for j in i:6\n",
    "        not_vanish[i,j] = sum(As[i].*As[j]) / sum(As[i])\n",
    "        vanish_abs[i,j] = (sum(As[i]) - sum(As[i].*As[j]))/2\n",
    "    end\n",
    "end\n",
    "display(not_vanish)\n",
    "display(vanish_abs)\n"
   ]
  },
  {
   "cell_type": "code",
   "execution_count": 6,
   "metadata": {},
   "outputs": [
    {
     "data": {
      "text/plain": [
       "6×6 Matrix{Float64}:\n",
       " 1.0  0.689655  0.721311  0.577982  0.514851  0.652174\n",
       " 0.0  1.0       0.868852  0.715596  0.683168  0.695652\n",
       " 0.0  0.0       1.0       0.504587  0.475248  0.536232\n",
       " 0.0  0.0       0.0       1.0       0.762376  0.73913\n",
       " 0.0  0.0       0.0       0.0       1.0       0.811594\n",
       " 0.0  0.0       0.0       0.0       0.0       1.0"
      ]
     },
     "metadata": {},
     "output_type": "display_data"
    },
    {
     "data": {
      "text/plain": [
       "6×6 Matrix{Float64}:\n",
       " 0.0  36.0  17.0  46.0  49.0  24.0\n",
       " 0.0   0.0   8.0  31.0  32.0  21.0\n",
       " 0.0   0.0   0.0  54.0  53.0  32.0\n",
       " 0.0   0.0   0.0   0.0  24.0  18.0\n",
       " 0.0   0.0   0.0   0.0   0.0  13.0\n",
       " 0.0   0.0   0.0   0.0   0.0   0.0"
      ]
     },
     "metadata": {},
     "output_type": "display_data"
    }
   ],
   "source": [
    "#how many links appear?\n",
    "appear = zeros(6,6)\n",
    "appear_abs = zeros(6,6)\n",
    "for i in 1:6\n",
    "    for j in i:6\n",
    "        appear[i,j] = sum(As[i].*As[j]) / sum(As[j])\n",
    "        appear_abs[i,j] = (sum(As[j]) - sum(As[i].*As[j])) / 2\n",
    "    end\n",
    "end\n",
    "display(appear)\n",
    "display(appear_abs)"
   ]
  },
  {
   "cell_type": "code",
   "execution_count": 7,
   "metadata": {},
   "outputs": [
    {
     "data": {
      "text/plain": [
       "6×6 Matrix{Float64}:\n",
       " 1.0  0.377778  0.111111  0.222222  0.222222  0.111111\n",
       " 0.0  1.0       0.307692  0.538462  0.461538  0.230769\n",
       " 0.0  0.0       1.0       1.0       0.888889  0.777778\n",
       " 0.0  0.0       0.0       1.0       0.692308  0.346154\n",
       " 0.0  0.0       0.0       0.0       1.0       0.5\n",
       " 0.0  0.0       0.0       0.0       0.0       1.0"
      ]
     },
     "metadata": {},
     "output_type": "display_data"
    },
    {
     "data": {
      "text/plain": [
       "6×6 Matrix{Float64}:\n",
       " 0.0  28.0  40.0  35.0  35.0  40.0\n",
       " 0.0   0.0  18.0  12.0  14.0  20.0\n",
       " 0.0   0.0   0.0   0.0   1.0   2.0\n",
       " 0.0   0.0   0.0   0.0   8.0  17.0\n",
       " 0.0   0.0   0.0   0.0   0.0  10.0\n",
       " 0.0   0.0   0.0   0.0   0.0   0.0"
      ]
     },
     "metadata": {},
     "output_type": "display_data"
    }
   ],
   "source": [
    "#find prob of triad vanishing\n",
    "all_triads = [get_triads2(As[i]) for i in 1:6]\n",
    "\n",
    "# intersect(all_triads[1], all_triads[2])\n",
    "\n",
    "#how many triads vanish?\n",
    "triad_not_vanish = zeros(6,6)\n",
    "triad_vanish_abs = zeros(6,6)\n",
    "for i in 1:6\n",
    "    for j in i:6\n",
    "        triad_not_vanish[i,j] = length(intersect(all_triads[i], all_triads[j])) / length(all_triads[i])\n",
    "        triad_vanish_abs[i,j] = length(all_triads[i]) - length(intersect(all_triads[i], all_triads[j]))\n",
    "    end\n",
    "end\n",
    "display(triad_not_vanish)\n",
    "display(triad_vanish_abs)"
   ]
  },
  {
   "cell_type": "code",
   "execution_count": 8,
   "metadata": {},
   "outputs": [
    {
     "data": {
      "text/plain": [
       "1×6 adjoint(::Vector{Int64}) with eltype Int64:\n",
       " 45  26  9  26  20  12"
      ]
     },
     "metadata": {},
     "output_type": "display_data"
    }
   ],
   "source": [
    "map(length, all_triads)'"
   ]
  },
  {
   "cell_type": "code",
   "execution_count": 64,
   "metadata": {},
   "outputs": [
    {
     "data": {
      "text/plain": [
       "get_wedges_single_edges (generic function with 1 method)"
      ]
     },
     "metadata": {},
     "output_type": "display_data"
    }
   ],
   "source": [
    "function get_wedges_single_edges(A)\n",
    "    N = size(A)[1]\n",
    "\n",
    "    wedges = []\n",
    "    single_edges = []\n",
    "\n",
    "    for i in 1:N\n",
    "        for j in (i+1):N\n",
    "            for k in (j+1):N\n",
    "                if A[i,k] + A[j,k] + A[i,j] == 2\n",
    "                    push!(wedges, (i,j,k))\n",
    "                elseif A[i,k] + A[j,k] + A[i,j] == 1\n",
    "                    push!(single_edges, (i,j,k))\n",
    "                end\n",
    "            end\n",
    "        end\n",
    "    end\n",
    "    \n",
    "    return wedges, single_edges\n",
    "end"
   ]
  },
  {
   "cell_type": "code",
   "execution_count": 65,
   "metadata": {},
   "outputs": [],
   "source": [
    "all_wedges = []\n",
    "all_singles = []\n",
    "for i in 1:6\n",
    "    wedges, single_edges = get_wedges_single_edges(As[i])\n",
    "    push!(all_wedges, wedges)\n",
    "    push!(all_singles, single_edges)\n",
    "end"
   ]
  },
  {
   "cell_type": "code",
   "execution_count": 66,
   "metadata": {},
   "outputs": [
    {
     "data": {
      "text/plain": [
       "understand_triad_apperance (generic function with 1 method)"
      ]
     },
     "metadata": {},
     "output_type": "display_data"
    }
   ],
   "source": [
    "function understand_triad_apperance(As)\n",
    "    num_mats = length(As)\n",
    "\n",
    "    all_triads = [get_triads2(As[i]) for i in 1:num_mats]\n",
    "    all_wedges = []\n",
    "    all_singles = []\n",
    "    for i in 1:num_mats\n",
    "        wedges, single_edges = get_wedges_single_edges(As[i])\n",
    "        push!(all_wedges, wedges)\n",
    "        push!(all_singles, single_edges)\n",
    "    end\n",
    "\n",
    "    \n",
    "\n",
    "    triad_appear = zeros(num_mats,num_mats)\n",
    "    triad_appear_wedges = zeros(num_mats,num_mats)\n",
    "    triad_appear_single = zeros(num_mats,num_mats)\n",
    "    triad_appear_nowhere = zeros(num_mats,num_mats)\n",
    "\n",
    "    for i in 1:num_mats\n",
    "        for j in i:num_mats\n",
    "            triad_appear[i,j] = length(all_triads[j]) - length(intersect(all_triads[i], all_triads[j]))\n",
    "            new_triads = setdiff(all_triads[j], all_triads[i])\n",
    "            @assert length(new_triads) == triad_appear[i,j]\n",
    "            triad_appear_wedges[i,j] = length(intersect(new_triads, all_wedges[i]))\n",
    "\n",
    "            triad_appear_single[i,j] = length(intersect(new_triads, all_singles[i]))\n",
    "            # triad_vanish_abs[i,j] = length(all_triads[i]) - length(intersect(all_triads[i], all_triads[j]))\n",
    "            triad_appear_nowhere[i,j] = triad_appear[i,j] - triad_appear_wedges[i, j] - triad_appear_single[i, j]\n",
    "        end\n",
    "    end\n",
    "    return triad_appear, triad_appear_wedges, triad_appear_single, triad_appear_nowhere\n",
    "end"
   ]
  },
  {
   "cell_type": "code",
   "execution_count": 67,
   "metadata": {},
   "outputs": [
    {
     "data": {
      "text/plain": [
       "6×6 Matrix{Float64}:\n",
       " 0.0  9.0  4.0  16.0  10.0  7.0\n",
       " 0.0  0.0  1.0  12.0   8.0  6.0\n",
       " 0.0  0.0  0.0  17.0  12.0  5.0\n",
       " 0.0  0.0  0.0   0.0   2.0  3.0\n",
       " 0.0  0.0  0.0   0.0   0.0  2.0\n",
       " 0.0  0.0  0.0   0.0   0.0  0.0"
      ]
     },
     "metadata": {},
     "output_type": "display_data"
    },
    {
     "data": {
      "text/plain": [
       "6×6 Matrix{Float64}:\n",
       " 0.0  8.0  4.0   9.0  5.0  4.0\n",
       " 0.0  0.0  1.0   9.0  5.0  3.0\n",
       " 0.0  0.0  0.0  12.0  9.0  2.0\n",
       " 0.0  0.0  0.0   0.0  2.0  2.0\n",
       " 0.0  0.0  0.0   0.0  0.0  2.0\n",
       " 0.0  0.0  0.0   0.0  0.0  0.0"
      ]
     },
     "metadata": {},
     "output_type": "display_data"
    },
    {
     "data": {
      "text/plain": [
       "6×6 Matrix{Float64}:\n",
       " 0.0  1.0  0.0  7.0  4.0  2.0\n",
       " 0.0  0.0  0.0  3.0  3.0  2.0\n",
       " 0.0  0.0  0.0  4.0  3.0  3.0\n",
       " 0.0  0.0  0.0  0.0  0.0  1.0\n",
       " 0.0  0.0  0.0  0.0  0.0  0.0\n",
       " 0.0  0.0  0.0  0.0  0.0  0.0"
      ]
     },
     "metadata": {},
     "output_type": "display_data"
    },
    {
     "data": {
      "text/plain": [
       "6×6 Matrix{Float64}:\n",
       " 0.0  0.0  0.0  0.0  1.0  1.0\n",
       " 0.0  0.0  0.0  0.0  0.0  1.0\n",
       " 0.0  0.0  0.0  1.0  0.0  0.0\n",
       " 0.0  0.0  0.0  0.0  0.0  0.0\n",
       " 0.0  0.0  0.0  0.0  0.0  0.0\n",
       " 0.0  0.0  0.0  0.0  0.0  0.0"
      ]
     },
     "metadata": {},
     "output_type": "display_data"
    }
   ],
   "source": [
    "# find prob of tried appearing (from wedges, from single link, from nowhere)\n",
    "\n",
    "triad_appear = zeros(6,6)\n",
    "triad_appear_wedges = zeros(6,6)\n",
    "triad_appear_single = zeros(6,6)\n",
    "triad_appear_nowhere = zeros(6,6)\n",
    "for i in 1:6\n",
    "    for j in i:6\n",
    "        triad_appear[i,j] = length(all_triads[j]) - length(intersect(all_triads[i], all_triads[j]))\n",
    "        new_triads = setdiff(all_triads[j], all_triads[i])\n",
    "        @assert length(new_triads) == triad_appear[i,j]\n",
    "        triad_appear_wedges[i,j] = length(intersect(new_triads, all_wedges[i]))\n",
    "\n",
    "        triad_appear_single[i,j] = length(intersect(new_triads, all_singles[i]))\n",
    "        # triad_vanish_abs[i,j] = length(all_triads[i]) - length(intersect(all_triads[i], all_triads[j]))\n",
    "        triad_appear_nowhere[i,j] = triad_appear[i,j] - triad_appear_wedges[i, j] - triad_appear_single[i, j]\n",
    "    end\n",
    "end\n",
    "display(triad_appear)\n",
    "display(triad_appear_wedges)\n",
    "display(triad_appear_single)\n",
    "display(triad_appear_nowhere)"
   ]
  },
  {
   "cell_type": "code",
   "execution_count": 68,
   "metadata": {},
   "outputs": [],
   "source": [
    "# test\n",
    "triad_appear2, triad_appear_wedges2, triad_appear_single2, triad_appear_nowhere2 = understand_triad_apperance(As)\n",
    "\n",
    "@assert triad_appear_wedges2 == triad_appear_wedges\n",
    "@assert triad_appear_single2 == triad_appear_single\n",
    "@assert triad_appear_nowhere2 == triad_appear_nowhere\n",
    "@assert triad_appear == triad_appear2"
   ]
  },
  {
   "cell_type": "code",
   "execution_count": 69,
   "metadata": {},
   "outputs": [
    {
     "data": {
      "text/plain": [
       "36.0"
      ]
     },
     "metadata": {},
     "output_type": "display_data"
    },
    {
     "data": {
      "text/plain": [
       "2×2 Matrix{Float64}:\n",
       " 0.0  1.0\n",
       " 0.0  0.0"
      ]
     },
     "metadata": {},
     "output_type": "display_data"
    },
    {
     "data": {
      "text/plain": [
       "2×2 Matrix{Float64}:\n",
       " 0.0  1.0\n",
       " 0.0  0.0"
      ]
     },
     "metadata": {},
     "output_type": "display_data"
    },
    {
     "data": {
      "text/plain": [
       "2×2 Matrix{Float64}:\n",
       " 0.0  0.0\n",
       " 0.0  0.0"
      ]
     },
     "metadata": {},
     "output_type": "display_data"
    },
    {
     "data": {
      "text/plain": [
       "2×2 Matrix{Float64}:\n",
       " 0.0  0.0\n",
       " 0.0  0.0"
      ]
     },
     "metadata": {},
     "output_type": "display_data"
    }
   ],
   "source": [
    "# Let's make an expetiment. \n",
    "# Lets remove connections that vanish from term I and \n",
    "# randomly new connections and \n",
    "# see how many new triads were formed, and from which structures. \n",
    "\n",
    "#removing edges from A1\n",
    "start_term = 1\n",
    "inc = 1\n",
    "A1r = As[start_term] .* As[start_term + inc] \n",
    "\n",
    "# We need to add this amount of new links:\n",
    "display(appear_abs[start_term, start_term + inc])\n",
    "N = length(nodes)\n",
    "\n",
    "added = 0\n",
    "while added < appear_abs[start_term, start_term + inc]\n",
    "    i, j = rand(1:N, 2)\n",
    "    if i==j continue\n",
    "    elseif A1r[i,j] > 0\n",
    "        continue\n",
    "    else\n",
    "        A1r[i,j] = A1r[j,i] = 1\n",
    "        added += 1\n",
    "    end\n",
    "end\n",
    "# display(\"finishes\")\n",
    "\n",
    "triad_appear2, triad_appear_wedges2, triad_appear_single2, triad_appear_nowhere2 = understand_triad_apperance([As[start_term], A1r])\n",
    "display(triad_appear2)\n",
    "display(triad_appear_wedges2)\n",
    "display(triad_appear_single2)\n",
    "display(triad_appear_nowhere2)\n",
    "\n",
    "# Conclusion:\n",
    "# As expected, more triads are created than random would expect"
   ]
  },
  {
   "cell_type": "code",
   "execution_count": 70,
   "metadata": {},
   "outputs": [
    {
     "data": {
      "text/plain": [
       "60"
      ]
     },
     "metadata": {},
     "output_type": "display_data"
    },
    {
     "data": {
      "text/plain": [
       "6-element Vector{Matrix{Int64}}:\n",
       " [0 1 … 0 0; 1 0 … 0 0; … ; 0 0 … 0 0; 0 0 … 0 0]\n",
       " [0 0 … 0 0; 0 0 … 0 0; … ; 0 0 … 0 0; 0 0 … 0 0]\n",
       " [0 0 … 0 0; 0 0 … 0 0; … ; 0 0 … 0 0; 0 0 … 0 0]\n",
       " [0 0 … 0 0; 0 0 … 0 1; … ; 0 0 … 0 0; 0 1 … 0 0]\n",
       " [0 0 … 0 0; 0 0 … 0 0; … ; 0 0 … 0 0; 0 0 … 0 0]\n",
       " [0 0 … 0 0; 0 0 … 0 0; … ; 0 0 … 0 0; 0 0 … 0 0]"
      ]
     },
     "metadata": {},
     "output_type": "display_data"
    }
   ],
   "source": [
    "# Let's check how many people are in triads\n",
    "\n",
    "triad_nodes = sort(unique([node for triads in all_triads for triad in triads for node in triad]))\n",
    "display(length(triad_nodes))\n",
    "\n",
    "# There are only 60 nodes, so lets repeat above experiment with generating links only among these agents. \n",
    "# But first I need to count how many edges were added among those agents\n",
    "\n",
    "As2 = [As[i][triad_nodes, triad_nodes] for i in 1:6]"
   ]
  },
  {
   "cell_type": "code",
   "execution_count": 71,
   "metadata": {},
   "outputs": [
    {
     "data": {
      "text/plain": [
       "6×6 Matrix{Float64}:\n",
       " 1.0  0.763158  0.770833  0.626667  0.602941  0.705882\n",
       " 0.0  1.0       0.875     0.733333  0.705882  0.705882\n",
       " 0.0  0.0       1.0       0.586667  0.573529  0.627451\n",
       " 0.0  0.0       0.0       1.0       0.823529  0.764706\n",
       " 0.0  0.0       0.0       0.0       1.0       0.843137\n",
       " 0.0  0.0       0.0       0.0       0.0       1.0"
      ]
     },
     "metadata": {},
     "output_type": "display_data"
    },
    {
     "data": {
      "text/plain": [
       "6×6 Matrix{Float64}:\n",
       " 0.0  18.0  11.0  28.0  27.0  15.0\n",
       " 0.0   0.0   6.0  20.0  20.0  15.0\n",
       " 0.0   0.0   0.0  31.0  29.0  19.0\n",
       " 0.0   0.0   0.0   0.0  12.0  12.0\n",
       " 0.0   0.0   0.0   0.0   0.0   8.0\n",
       " 0.0   0.0   0.0   0.0   0.0   0.0"
      ]
     },
     "metadata": {},
     "output_type": "display_data"
    }
   ],
   "source": [
    "#how many links appear?\n",
    "appear_triads = zeros(6,6)\n",
    "appear_abs_triads = zeros(6,6)\n",
    "for i in 1:6\n",
    "    for j in i:6\n",
    "        appear_triads[i,j] = sum(As2[i].*As2[j]) / sum(As2[j])\n",
    "        appear_abs_triads[i,j] = (sum(As2[j]) - sum(As2[i].*As2[j])) / 2\n",
    "    end\n",
    "end\n",
    "display(appear_triads)\n",
    "display(appear_abs_triads)"
   ]
  },
  {
   "cell_type": "code",
   "execution_count": 72,
   "metadata": {},
   "outputs": [
    {
     "data": {
      "text/plain": [
       "18.0"
      ]
     },
     "metadata": {},
     "output_type": "display_data"
    },
    {
     "data": {
      "text/plain": [
       "2×2 Matrix{Float64}:\n",
       " 0.0  1.0\n",
       " 0.0  0.0"
      ]
     },
     "metadata": {},
     "output_type": "display_data"
    },
    {
     "data": {
      "text/plain": [
       "2×2 Matrix{Float64}:\n",
       " 0.0  1.0\n",
       " 0.0  0.0"
      ]
     },
     "metadata": {},
     "output_type": "display_data"
    },
    {
     "data": {
      "text/plain": [
       "2×2 Matrix{Float64}:\n",
       " 0.0  0.0\n",
       " 0.0  0.0"
      ]
     },
     "metadata": {},
     "output_type": "display_data"
    },
    {
     "data": {
      "text/plain": [
       "2×2 Matrix{Float64}:\n",
       " 0.0  0.0\n",
       " 0.0  0.0"
      ]
     },
     "metadata": {},
     "output_type": "display_data"
    }
   ],
   "source": [
    "# Experiment 2. \n",
    "\n",
    "#removing edges from A1\n",
    "start_term = 1\n",
    "inc = 1\n",
    "A1r = As2[start_term] .* As2[start_term + inc] \n",
    "\n",
    "# We need to add this amount of new links:\n",
    "display(appear_abs_triads[start_term, start_term + inc])\n",
    "N = length(triad_nodes)\n",
    "\n",
    "added = 0\n",
    "while added < appear_abs_triads[start_term, start_term + inc]\n",
    "    i, j = rand(1:N, 2)\n",
    "    if i==j continue\n",
    "    elseif A1r[i,j] > 0\n",
    "        continue\n",
    "    else\n",
    "        A1r[i,j] = A1r[j,i] = 1\n",
    "        added += 1\n",
    "    end\n",
    "end\n",
    "# display(\"finishes\")\n",
    "\n",
    "triad_appear3, triad_appear_wedges3, triad_appear_single3, triad_appear_nowhere3 = understand_triad_apperance([As2[start_term], A1r])\n",
    "display(triad_appear3)\n",
    "display(triad_appear_wedges3)\n",
    "display(triad_appear_single3)\n",
    "display(triad_appear_nowhere3)\n",
    "\n",
    "# Conclusion:\n",
    "# As expected, more triads are created than random would expect"
   ]
  },
  {
   "cell_type": "code",
   "execution_count": 73,
   "metadata": {},
   "outputs": [
    {
     "data": {
      "text/plain": [
       "6.0"
      ]
     },
     "metadata": {},
     "output_type": "display_data"
    },
    {
     "data": {
      "text/plain": [
       "2×2 Matrix{Float64}:\n",
       " 0.0  3.0\n",
       " 0.0  0.0"
      ]
     },
     "metadata": {},
     "output_type": "display_data"
    },
    {
     "data": {
      "text/plain": [
       "2×2 Matrix{Float64}:\n",
       " 0.0  3.0\n",
       " 0.0  0.0"
      ]
     },
     "metadata": {},
     "output_type": "display_data"
    },
    {
     "data": {
      "text/plain": [
       "2×2 Matrix{Float64}:\n",
       " 0.0  0.0\n",
       " 0.0  0.0"
      ]
     },
     "metadata": {},
     "output_type": "display_data"
    },
    {
     "data": {
      "text/plain": [
       "2×2 Matrix{Float64}:\n",
       " 0.0  0.0\n",
       " 0.0  0.0"
      ]
     },
     "metadata": {},
     "output_type": "display_data"
    }
   ],
   "source": [
    "# OK, lets try to generate triads more frequently. \n",
    "# There will be a new parameter for closing triads.\n",
    "\n",
    "close_triad = 0.7\n",
    "\n",
    "# function get_nodes_in_triads(A)\n",
    "#     triads = get_triads2(A)\n",
    "\n",
    "#     return sort(unique([node for triad in triads for node in triad.nodes]))\n",
    "# end\n",
    "\n",
    "# Experiment 3. \n",
    "\n",
    "#removing edges from A1\n",
    "start_term = 2\n",
    "inc = 1\n",
    "A1r = As2[start_term] .* As2[start_term + inc] \n",
    "\n",
    "# We need to add this amount of new links:\n",
    "display(appear_abs_triads[start_term, start_term + inc])\n",
    "N = length(triad_nodes)\n",
    "\n",
    "added = 0\n",
    "while added < appear_abs_triads[start_term, start_term + inc]\n",
    "    wedges_t, single_t = get_wedges_single_edges(A1r)\n",
    "    if rand() < close_triad\n",
    "        wedge = rand(wedges_t)\n",
    "        if A1r[wedge[1], wedge[2]] == 0\n",
    "            i, j = wedge[1], wedge[2]\n",
    "        elseif A1r[wedge[1], wedge[3]] == 0\n",
    "            i, j = wedge[1], wedge[3]\n",
    "        else i, j = wedge[2], wedge[3]\n",
    "        end\n",
    "    else\n",
    "        i, j = rand(1:N, 2)\n",
    "        if i==j continue\n",
    "        elseif A1r[i,j] > 0\n",
    "            continue\n",
    "        end\n",
    "    end\n",
    "    A1r[i,j] = A1r[j,i] = 1\n",
    "    added += 1\n",
    "end\n",
    "# display(\"finishes\")\n",
    "\n",
    "triad_appear3, triad_appear_wedges3, triad_appear_single3, triad_appear_nowhere3 = understand_triad_apperance([As2[start_term], A1r])\n",
    "display(triad_appear3)\n",
    "display(triad_appear_wedges3)\n",
    "display(triad_appear_single3)\n",
    "display(triad_appear_nowhere3)\n",
    "\n",
    "# Conclusion:\n",
    "# As expected, more triads are created than random would expect"
   ]
  },
  {
   "cell_type": "code",
   "execution_count": 74,
   "metadata": {},
   "outputs": [
    {
     "data": {
      "text/plain": [
       "calc_difs_only_numT (generic function with 1 method)"
      ]
     },
     "metadata": {},
     "output_type": "display_data"
    }
   ],
   "source": [
    "# defining functions to calibrate this probability\n",
    "function add_edges!(A1r, edges_to_add, close_triad)\n",
    "    N = size(A1r)[1]\n",
    "\n",
    "    added = 0\n",
    "    while added < edges_to_add\n",
    "        wedges_t, single_t = get_wedges_single_edges(A1r)\n",
    "        if rand() < close_triad\n",
    "            wedge = rand(wedges_t)\n",
    "            if A1r[wedge[1], wedge[2]] == 0\n",
    "                i, j = wedge[1], wedge[2]\n",
    "            elseif A1r[wedge[1], wedge[3]] == 0\n",
    "                i, j = wedge[1], wedge[3]\n",
    "            else i, j = wedge[2], wedge[3]\n",
    "            end\n",
    "        else\n",
    "            i, j = rand(1:N, 2)\n",
    "            if i==j continue\n",
    "            elseif A1r[i,j] > 0\n",
    "                continue\n",
    "            end\n",
    "        end\n",
    "        A1r[i,j] = A1r[j,i] = 1\n",
    "        added += 1\n",
    "    end\n",
    "end\n",
    "\n",
    "function calc_difs(close_triad_prob; term_pairs = [(1, 2), (2, 3), (2, 4), (3, 4), (4, 5), (5, 6)], repetitions = 10)\n",
    "    dif = 0\n",
    "\n",
    "    for _ in 1:repetitions\n",
    "        for term_pair in term_pairs\n",
    "            start_term = term_pair[1]\n",
    "            inc = term_pair[2] - start_term\n",
    "\n",
    "            A1r = As2[start_term] .* As2[start_term + inc] \n",
    "            add_edges!(A1r, appear_abs_triads[start_term, start_term + inc], close_triad_prob)\n",
    "            triad_appear3, triad_appear_wedges3, triad_appear_single3, triad_appear_nowhere3 = understand_triad_apperance([As2[start_term], A1r])\n",
    "\n",
    "            dif += abs(triad_appear[term_pair...] - triad_appear3[1,2])\n",
    "            dif += abs(triad_appear_wedges[term_pair...] - triad_appear_wedges3[1,2])\n",
    "            dif += abs(triad_appear_single[term_pair...] - triad_appear_single3[1,2])\n",
    "            dif += abs(triad_appear_nowhere[term_pair...] - triad_appear_nowhere3[1,2])\n",
    "        end\n",
    "    end\n",
    "    return dif\n",
    "end\n",
    "\n",
    "function calc_difs_only_numT(close_triad_prob; term_pairs = [(1, 2), (2, 3), (2, 4), (3, 4), (4, 5), (5, 6)], repetitions = 10)\n",
    "    dif = 0\n",
    "\n",
    "    for _ in 1:repetitions\n",
    "        for term_pair in term_pairs\n",
    "            start_term = term_pair[1]\n",
    "            inc = term_pair[2] - start_term\n",
    "\n",
    "            A1r = As2[start_term] .* As2[start_term + inc] \n",
    "            add_edges!(A1r, appear_abs_triads[start_term, start_term + inc], close_triad_prob)\n",
    "            triad_appear3, triad_appear_wedges3, triad_appear_single3, triad_appear_nowhere3 = understand_triad_apperance([As2[start_term], A1r])\n",
    "\n",
    "            dif += abs(triad_appear[term_pair...] - triad_appear3[1,2])\n",
    "        end\n",
    "    end\n",
    "    return dif\n",
    "end"
   ]
  },
  {
   "cell_type": "code",
   "execution_count": 75,
   "metadata": {},
   "outputs": [
    {
     "data": {
      "text/plain": [
       "4176.0"
      ]
     },
     "metadata": {},
     "output_type": "display_data"
    }
   ],
   "source": [
    "# calibration!\n",
    "# We choose pairs of terms that will be compared. \n",
    "term_pairs = [(1, 2), (2, 3), (2, 4), (3, 4), (4, 5), (5, 6)]\n",
    "repetitions = 100\n",
    "\n",
    "close_triad_prob = 0.3\n",
    "\n",
    "dif = 0\n",
    "\n",
    "for _ in 1:repetitions\n",
    "    for term_pair in term_pairs\n",
    "        start_term = term_pair[1]\n",
    "        inc = term_pair[2] - start_term\n",
    "\n",
    "        A1r = As2[start_term] .* As2[start_term + inc] \n",
    "        add_edges!(A1r, appear_abs_triads[start_term, start_term + inc], close_triad_prob)\n",
    "        triad_appear3, triad_appear_wedges3, triad_appear_single3, triad_appear_nowhere3 = understand_triad_apperance([As2[start_term], A1r])\n",
    "\n",
    "        dif += abs(triad_appear[term_pair...] - triad_appear3[1,2])\n",
    "        dif += abs(triad_appear_wedges[term_pair...] - triad_appear_wedges3[1,2])\n",
    "        dif += abs(triad_appear_single[term_pair...] - triad_appear_single3[1,2])\n",
    "        dif += abs(triad_appear_nowhere[term_pair...] - triad_appear_nowhere3[1,2])\n",
    "    end\n",
    "end\n",
    "\n",
    "dif"
   ]
  },
  {
   "cell_type": "markdown",
   "metadata": {},
   "source": [
    "## Let's count attribute changes now"
   ]
  },
  {
   "cell_type": "code",
   "execution_count": 76,
   "metadata": {},
   "outputs": [
    {
     "data": {
      "text/plain": [
       "Dict{String, Set{Any}} with 12 entries:\n",
       "  \"premaritalsex_\" => Set([2, 3, 1])\n",
       "  \"ethnicity_1\"    => Set([4, 2, 3, 1])\n",
       "  \"hometown_1\"     => Set([2, 3, 1])\n",
       "  \"political_\"     => Set([2, 3, 1])\n",
       "  \"abortion_\"      => Set([2, 3, 1])\n",
       "  \"homosexual_\"    => Set([2, 3, 1])\n",
       "  \"marijuana_\"     => Set([2, 3, 1])\n",
       "  \"gender_1\"       => Set([2, 1])\n",
       "  \"gaymarriage_\"   => Set([2, 3, 1])\n",
       "  \"deathpen_\"      => Set([2, 3, 1])\n",
       "  \"euthanasia_\"    => Set([2, 3, 1])\n",
       "  \"age_1\"          => Set([2, 1])"
      ]
     },
     "metadata": {},
     "output_type": "display_data"
    }
   ],
   "source": [
    "#creating list of attributes\n",
    "list_of_attributes = Set([k for n in file[1].nodes for k in keys(file[1].nodes[n+1])])\n",
    "\n",
    "# creating possible attribute values\n",
    "attribute_values = Dict((attribute, Set() ) for attribute in list_of_attributes)\n",
    "\n",
    "for sem in 1:6\n",
    "    for node in file[sem].nodes()\n",
    "        for attribute in list_of_attributes\n",
    "            push!(attribute_values[attribute], convert(Int, file[sem].nodes[node + 1][attribute]))\n",
    "        end\n",
    "    end\n",
    "end\n",
    "\n",
    "attribute_values\n",
    "\n",
    "#To apply PCA or other analysis on all attributes (i.e. including ethnicity) \n",
    "#one would have to create an attribute for each race, that is is_1, is_2 etc. \n",
    "#Because this attribute is not ordered. "
   ]
  },
  {
   "cell_type": "code",
   "execution_count": 77,
   "metadata": {},
   "outputs": [],
   "source": [
    "#creating table of attribute values\n",
    "attributes = Dict((i, zeros(length(nodes), length(list_of_attributes))) for i in 1:6)\n",
    "# for i in 1:6\n",
    "#     attributes[i] = zeros(length(file[i].nodes), length(list_of_attributes))\n",
    "# end\n",
    "\n",
    "for sem in 1:6\n",
    "    for (i, node) in enumerate(nodes)\n",
    "        for (j, attribute) in enumerate(list_of_attributes)\n",
    "            if node in file[sem].nodes()\n",
    "                attributes[sem][i,j] = file[sem].nodes[node + 1][attribute]\n",
    "            else\n",
    "                attributes[sem][i,j] = NaN\n",
    "            end\n",
    "        end\n",
    "    end\n",
    "end\n",
    "attributes"
   ]
  },
  {
   "cell_type": "code",
   "execution_count": null,
   "metadata": {},
   "outputs": [],
   "source": [
    "\n",
    "ord_list_of_attributes = setdiff(list_of_attributes, [\"ethnicity_1\", \"gender_1\", \"hometown_1\", \"age_1\"])\n",
    "print(ord_list_of_attributes)\n",
    "\n",
    "#creating table of attribute values\n",
    "ord_attributes = Dict((i, zeros(length(nodes), length(ord_list_of_attributes))) for i in 1:6)\n",
    "\n",
    "for sem in 1:6\n",
    "    for (i, node) in enumerate(nodes)\n",
    "        for (j, attribute) in enumerate(ord_list_of_attributes)\n",
    "            if node in file[sem].nodes()\n",
    "                ord_attributes[sem][i,j] = file[sem].nodes[node + 1][attribute]\n",
    "            else\n",
    "                ord_attributes[sem][i,j] = NaN\n",
    "            end\n",
    "        end\n",
    "    end\n",
    "end\n",
    "# for sem in range(1,7):\n",
    "#     for i, node in enumerate(data[sem].nodes()):\n",
    "#         for j, attribute in enumerate(ord_list_of_attributes):\n",
    "#             ord_attributes[sem][i,j] = data[sem].nodes[node][attribute]\n",
    "ord_attributes"
   ]
  },
  {
   "cell_type": "code",
   "execution_count": null,
   "metadata": {},
   "outputs": [],
   "source": [
    "# a change is a change of attribute from 1 to 2. a change from 1 to 3 are two changes. \n",
    "function count_attr_changes(ord_attributes)\n",
    "    sems = length(ord_attributes)\n",
    "    N = size(ord_attributes[1])[1]\n",
    "\n",
    "    changes = zeros(sems, sems)\n",
    "    max_change = zeros(sems, sems)\n",
    "\n",
    "    # for sem1 in 1:sems, sem2 in 1:sems\n",
    "    for i in 1:sems\n",
    "        for j in i:sems\n",
    "            attr_change = abs.(ord_attributes[i] .- ord_attributes[j])\n",
    "\n",
    "            changes[i,j] = sum(filter(!isnan, attr_change))\n",
    "            max_change[i,j] = length(filter(!isnan, attr_change))*2\n",
    "        end\n",
    "    end\n",
    "    return changes, max_change\n",
    "end\n",
    "\n",
    "# a change is a change of attribute from 1 to 2. a change from 1 to 3 are two changes. \n",
    "function count_attr_stays(ord_attributes)\n",
    "    sems = length(ord_attributes)\n",
    "    N = size(ord_attributes[1])[1]\n",
    "\n",
    "    stays = zeros(sems, sems)\n",
    "    max_stays = zeros(sems, sems)\n",
    "\n",
    "    # for sem1 in 1:sems, sem2 in 1:sems\n",
    "    for i in 1:sems\n",
    "        for j in i:sems\n",
    "            attr_stay = sum(ord_attributes[i] .== ord_attributes[j])\n",
    "\n",
    "            stays[i,j] = attr_stay\n",
    "            max_stays[i,j] = length(filter(!isnan, ord_attributes[i] .+ ord_attributes[j]))\n",
    "        end\n",
    "    end\n",
    "    return stays, max_stays\n",
    "end"
   ]
  },
  {
   "cell_type": "code",
   "execution_count": null,
   "metadata": {},
   "outputs": [],
   "source": [
    "changes, max_change = count_attr_changes(ord_attributes)\n",
    "\n",
    "display(changes)\n",
    "display(max_change)"
   ]
  },
  {
   "cell_type": "code",
   "execution_count": null,
   "metadata": {},
   "outputs": [],
   "source": [
    "changes ./ max_change"
   ]
  },
  {
   "cell_type": "code",
   "execution_count": null,
   "metadata": {},
   "outputs": [],
   "source": [
    "stays, max_stays = count_attr_stays(ord_attributes)\n",
    "\n",
    "display(stays)\n",
    "display(max_stays)\n",
    "display(stays ./ max_stays)"
   ]
  },
  {
   "cell_type": "markdown",
   "metadata": {},
   "source": [
    "## Now, let's see above only on triads"
   ]
  },
  {
   "cell_type": "code",
   "execution_count": null,
   "metadata": {},
   "outputs": [],
   "source": [
    "ord_attributes_triads = [ord_attributes[sem][triad_nodes, :] for sem in 1:6]\n",
    "\n",
    "changes, max_change = count_attr_changes(ord_attributes_triads)\n",
    "\n",
    "display(changes)\n",
    "display(max_change)\n",
    "display(changes ./ max_change)"
   ]
  },
  {
   "cell_type": "code",
   "execution_count": null,
   "metadata": {},
   "outputs": [],
   "source": [
    "stays, max_stays = count_attr_stays(ord_attributes_triads)\n",
    "\n",
    "display(stays)\n",
    "display(max_stays)\n",
    "display(stays ./ max_stays)"
   ]
  },
  {
   "cell_type": "markdown",
   "metadata": {},
   "source": [
    "## Let's count how many edges between nodes in triads vanish"
   ]
  },
  {
   "cell_type": "code",
   "execution_count": null,
   "metadata": {},
   "outputs": [],
   "source": [
    "As2\n",
    "\n",
    "i=1; inc = 1;\n",
    "display((sum(abs.(As2[i + inc] .- As2[i]))/2, sum(As2[i])/2, sum(As2[i+inc])/2))\n",
    "\n",
    "overlap_nodes_triads = zeros(6,6)\n",
    "for i in 1:6, j in 1:6\n",
    "    overlap_nodes_triads[i,j] = sum(As2[i].*As2[j]) / sum(sign.(As2[i] .+ As2[j]))\n",
    "end\n",
    "display(overlap_nodes_triads)\n",
    "\n",
    "#how many links vanish?\n",
    "not_vanish_nodes_triads = zeros(6,6)\n",
    "vanish_abs_nodes_triads = zeros(6,6)\n",
    "for i in 1:6\n",
    "    for j in i:6\n",
    "        not_vanish_nodes_triads[i,j] = sum(As2[i].*As2[j]) / sum(As2[i])\n",
    "        vanish_abs_nodes_triads[i,j] = (sum(As2[i]) - sum(As2[i].*As2[j]))/2\n",
    "    end\n",
    "end\n",
    "display(not_vanish_nodes_triads)\n",
    "display(vanish_abs_nodes_triads)\n"
   ]
  },
  {
   "cell_type": "code",
   "execution_count": null,
   "metadata": {},
   "outputs": [],
   "source": [
    "# display(vanish_abs_nodes_triads)\n",
    "display(changes)\n",
    "display(changes ./ vanish_abs_nodes_triads)\n",
    "\n",
    "# diff = changes .- triad_vanish_abs\n",
    "# [diff[i, i+1] for i in 1:5]"
   ]
  },
  {
   "cell_type": "code",
   "execution_count": null,
   "metadata": {},
   "outputs": [],
   "source": [
    "attr_tot = sum([changes[i, i+1] for i in 1:5])\n",
    "println(\"Total number of attribute changes from term to term: \" * string(attr_tot))\n",
    "edges_vanish_tot = sum([vanish_abs_nodes_triads[i, i+1] for i in 1:5])\n",
    "println(\"Total number of edges vanished from term to term: \" * string(edges_vanish_tot))\n",
    "\n",
    "pr = edges_vanish_tot / (edges_vanish_tot + attr_tot)"
   ]
  },
  {
   "cell_type": "markdown",
   "metadata": {},
   "source": [
    "## Let's calculate link signs depending on threshold"
   ]
  },
  {
   "cell_type": "code",
   "execution_count": null,
   "metadata": {},
   "outputs": [],
   "source": [
    "G = 8\n",
    "th = 0.3\n",
    "v = 3\n",
    "aT = OrderedAttributes(G, th, v)\n",
    "N = 60\n"
   ]
  },
  {
   "cell_type": "code",
   "execution_count": null,
   "metadata": {},
   "outputs": [],
   "source": [
    "attr= ord_attributes[2]\n",
    "\n",
    "sign.(Symmetric(get_attribute_layer_weights(aT, attr)))\n",
    "\n",
    "[Symmetric(sign.(get_attribute_layer_weights(aT, ord_attributes[i]))) for i in 1:6]"
   ]
  },
  {
   "cell_type": "code",
   "execution_count": null,
   "metadata": {},
   "outputs": [],
   "source": [
    "attr = ord_attributes_triads[1]\n",
    "\n",
    "all_signs = [Symmetric(sign.(get_attribute_layer_weights(aT, ord_attributes[i]))) for i in 1:6]\n",
    "all_signs[1]"
   ]
  },
  {
   "cell_type": "markdown",
   "metadata": {},
   "source": [
    "## Get triad transition probablities"
   ]
  },
  {
   "cell_type": "code",
   "execution_count": null,
   "metadata": {},
   "outputs": [],
   "source": [
    "# calculate list of triads\n",
    "\n",
    "all_triads_list = unique([triad for triads in all_triads for triad in triads])\n",
    "\n",
    "length(all_triads_list)"
   ]
  },
  {
   "cell_type": "code",
   "execution_count": null,
   "metadata": {},
   "outputs": [],
   "source": [
    "#returns two values: \n",
    "# first value (true- balanced, false - unbalanced)\n",
    "# second value is triad type (0, 1, 2, 3) - number of negative links\n",
    "function get_triad_type(triad, signs)\n",
    "    links = [(triad[1], triad[2]), (triad[3], triad[2]), (triad[1], triad[3])]\n",
    "\n",
    "    triad_signs = [signs[link...] for link in links]\n",
    "\n",
    "    is_balanced = prod(triad_signs) > 0\n",
    "    triad_type = sum(triad_signs .== -1)\n",
    "\n",
    "    return is_balanced, triad_type\n",
    "end\n",
    "\n",
    "# Returns two Arrays. \n",
    "# First - balanced (1), unbalanced (2) or lack of triad (3). \n",
    "# Second - triad_type (0-3) or lack of triad (4). \n",
    "function get_triads_history(all_triads_list, all_signs; sem_count = 6, all_triads = all_triads)\n",
    "    T = length(all_triads_list)\n",
    "\n",
    "    triads_balanced_hist = Array{Any}(undef, T, sem_count)\n",
    "    triads_type_hist = Array{Any}(undef, T, sem_count)\n",
    "    for (ti, triad) in enumerate(all_triads_list), sem in 1:sem_count\n",
    "        is_balanced = 3\n",
    "        triad_type = 4\n",
    "        if triad in all_triads[sem]\n",
    "            is_balanced, triad_type = get_triad_type(triad, all_signs[sem])\n",
    "            is_balanced = is_balanced ? 1 : 2\n",
    "        end\n",
    "        triads_balanced_hist[ti, sem] = is_balanced\n",
    "        triads_type_hist[ti, sem] = triad_type\n",
    "    end\n",
    "\n",
    "    return triads_balanced_hist, triads_type_hist\n",
    "end\n",
    "\n",
    "\n",
    "function get_triad_transitions(all_triads, threshold, attrs; all_triads_list = [] )\n",
    "    aT = OrderedAttributes(8, threshold, 3)\n",
    "\n",
    "    if isempty(all_triads_list)\n",
    "        all_triads_list = unique([triad for triads in all_triads for triad in triads])\n",
    "    end\n",
    "    T = length(all_triads_list)\n",
    "\n",
    "    all_signs = [Symmetric(sign.(get_attribute_layer_weights(aT, attrs[i]))) .* 1. for i in 1:6]\n",
    "    map(x-> x[x .== 0.] .= 1, all_signs)\n",
    "\n",
    "    triads_balanced_hist, triads_type_hist = get_triads_history(all_triads_list, all_signs)\n",
    "\n",
    "    bal_trans = zeros(3,3) \n",
    "    bal_trans2 = zeros(2,2) # let's remove all nans, so if the triad exist in semesters 1, 3, 4, then there are 2 transitions 1->3, 3->4\n",
    "\n",
    "    type_trans = zeros(5,5)\n",
    "    type_trans2 = zeros(4,4)\n",
    "\n",
    "    for (ti, triad) in enumerate(all_triads_list)\n",
    "        # for sem in 1:5\n",
    "        #     inds = triads_balanced_hist[ti, sem:(sem+1)]\n",
    "        #     bal_trans[inds...] += 1\n",
    "        #     inds = triads_type_hist[ti,sem:(sem+1)] .+ 1\n",
    "        #     type_trans[inds...] += 1\n",
    "        # end\n",
    "        inds = [[triads_balanced_hist[ti,i], triads_balanced_hist[ti,i+1]] for i in 1:5]\n",
    "        map((x) -> bal_trans[x...] += 1, inds)\n",
    "\n",
    "        inds = [[triads_type_hist[ti,i], triads_type_hist[ti, i+1]] .+ 1 for i in 1:5]\n",
    "        map((x) -> type_trans[x...] += 1, inds)\n",
    "\n",
    "        triad_exists = triads_balanced_hist[ti,:] .!= 3\n",
    "        els = sum(triad_exists)\n",
    "        if els == 1\n",
    "            continue\n",
    "        end\n",
    "        \n",
    "        bal_hist = triads_balanced_hist[ti, triad_exists]\n",
    "        type_hist = triads_type_hist[ti,triad_exists]\n",
    "\n",
    "        inds = [[bal_hist[i], bal_hist[i+1]] for i in 1:els-1]\n",
    "        map((x) -> bal_trans2[x...] += 1, inds)\n",
    "\n",
    "        inds = [[type_hist[i], type_hist[i+1]] .+ 1 for i in 1:els-1]\n",
    "        map((x) -> type_trans2[x...] += 1, inds)\n",
    "\n",
    "    end\n",
    "\n",
    "    return bal_trans, type_trans, bal_trans2, type_trans2\n",
    "end"
   ]
  },
  {
   "cell_type": "code",
   "execution_count": null,
   "metadata": {},
   "outputs": [],
   "source": [
    "bal_trans, type_trans, bal_trans2, type_trans2 = get_triad_transitions(all_triads, 0.49, ord_attributes; all_triads_list = [] )\n",
    "display(bal_trans)\n",
    "display(type_trans)\n",
    "display(bal_trans2)\n",
    "display(type_trans2)"
   ]
  },
  {
   "cell_type": "code",
   "execution_count": null,
   "metadata": {},
   "outputs": [],
   "source": [
    "ths = [0:0.01:1...]\n",
    "bal_to_bals = []\n",
    "ubal_to_bals = []\n",
    "bal_to_bals2 = []\n",
    "ubal_to_bals2 = []\n",
    "\n",
    "for th in ths\n",
    "    res = get_triad_transitions(all_triads, th, ord_attributes; all_triads_list = all_triads_list )\n",
    "    bal_to_bal = res[1][1,1] / sum(res[1][1,1:2])\n",
    "    ubal_to_bal = res[1][2,1] / sum(res[1][2,1:2])\n",
    "    bal_to_bal2 = res[3][1,1] / sum(res[3][1,1:2])\n",
    "    ubal_to_bal2 = res[3][2,1] / sum(res[3][2,1:2])\n",
    "    \n",
    "    push!(bal_to_bals, bal_to_bal)\n",
    "    push!(ubal_to_bals, ubal_to_bal)\n",
    "    push!(bal_to_bals2, bal_to_bal2)\n",
    "    push!(ubal_to_bals2, ubal_to_bal2)\n",
    "end"
   ]
  },
  {
   "cell_type": "code",
   "execution_count": null,
   "metadata": {},
   "outputs": [],
   "source": [
    "thi = 0.\n",
    "aT = OrderedAttributes(8, thi, 3)\n",
    "\n",
    "    # if isempty(all_triads_list)\n",
    "    #     all_triads_list = unique([triad for triads in all_triads for triad in triads])\n",
    "    # end\n",
    "    T = length(all_triads_list)\n",
    "\n",
    "    all_signs = [Symmetric(sign.(get_attribute_layer_weights(aT, ord_attributes[i]))) .* 1. for i in 1:6]\n",
    "    map(x-> x[x .== 0.] .= 1, all_signs)\n",
    "    # all_signs[1][all_signs[1] .== 0.] \n",
    "#    findfirst( (all_signs[1] .== 0) - I .!= 0)\n",
    "   all_signs[1]"
   ]
  },
  {
   "cell_type": "code",
   "execution_count": null,
   "metadata": {},
   "outputs": [],
   "source": [
    "using Plots\n",
    "\n",
    "plot(ths, bal_to_bals)\n",
    "plot!(ths, ubal_to_bals)"
   ]
  },
  {
   "cell_type": "code",
   "execution_count": null,
   "metadata": {},
   "outputs": [],
   "source": [
    "\n",
    "plot(ths, bal_to_bals2)\n",
    "plot!(ths, ubal_to_bals2)"
   ]
  },
  {
   "cell_type": "code",
   "execution_count": null,
   "metadata": {},
   "outputs": [],
   "source": [
    "chosen_ths = [0:7...] ./ 8\n",
    "inds = [findfirst(ths .>= chosen_ths[i]) for i in 1:length(chosen_ths)]\n",
    "\n",
    "plot(ths[inds], bal_to_bals[inds], markershape = :circle, label = \"T(+→+)\", legend = :bottomright)\n",
    "plot!(ths[inds], ubal_to_bals[inds], markershape = :circle, label = \"T(−→+)\") \n",
    "\n",
    "# legend(position=:Best)"
   ]
  },
  {
   "cell_type": "markdown",
   "metadata": {},
   "source": [
    "Above result is the same as obtained by Joanna. \n",
    "\n",
    "Let us now see how it looks like when we accept more threshold values and count triads slightly differently. "
   ]
  },
  {
   "cell_type": "code",
   "execution_count": null,
   "metadata": {},
   "outputs": [],
   "source": [
    "points = 16\n",
    "\n",
    "chosen_ths = [0:points-1...] ./ points\n",
    "inds = [findfirst(ths .>= chosen_ths[i]) for i in 1:length(chosen_ths)]\n",
    "\n",
    "plot(ths[inds], bal_to_bals[inds], markershape = :circle, label = \"T(+→+)\", legend = :bottomright)\n",
    "plot!(ths[inds], ubal_to_bals[inds], markershape = :circle, label = \"T(−→+)\") "
   ]
  },
  {
   "cell_type": "code",
   "execution_count": null,
   "metadata": {},
   "outputs": [],
   "source": [
    "points = 16\n",
    "\n",
    "chosen_ths = [0:points-1...] ./ points\n",
    "inds = [findfirst(ths .>= chosen_ths[i]) for i in 1:length(chosen_ths)]\n",
    "\n",
    "plot(ths[inds], bal_to_bals2[inds], markershape = :circle, label = \"T(+→+)\", legend = :bottomright)\n",
    "plot!(ths[inds], ubal_to_bals[inds], markershape = :circle, label = \"T(−→+)\") "
   ]
  },
  {
   "cell_type": "code",
   "execution_count": null,
   "metadata": {},
   "outputs": [],
   "source": [
    "thi = 0.\n",
    "res = get_triad_transitions(all_triads, thi, ord_attributes; all_triads_list = all_triads_list )\n",
    "res[1]"
   ]
  },
  {
   "cell_type": "markdown",
   "metadata": {},
   "source": [
    "## Let's see how number of triad type changes changes with threshold. "
   ]
  },
  {
   "cell_type": "code",
   "execution_count": null,
   "metadata": {},
   "outputs": [],
   "source": [
    "ths = [0:15...] ./ 16\n",
    "bal_changes_abs = []\n",
    "ubal_changes_abs = []\n",
    "bal_changes_abs2 = []\n",
    "ubal_changes_abs2 = []\n",
    "\n",
    "for th in ths\n",
    "    res = get_triad_transitions(all_triads, th, ord_attributes; all_triads_list = all_triads_list )\n",
    "    bal_change_abs = sum(res[2][1,2:4]) + sum(res[2][3, [1, 2, 4]])\n",
    "    ubal_change_abs = sum(res[2][2,[1, 3,4]]) + sum(res[2][4, [1, 2, 3]])\n",
    "    bal_change_abs2 = sum(res[4][1,2:4]) + sum(res[4][3, [1, 2, 4]])\n",
    "    ubal_change_abs2 = sum(res[4][2,[1, 3,4]]) + sum(res[4][4, [1, 2, 3]])\n",
    "    \n",
    "    push!(bal_changes_abs, bal_change_abs)\n",
    "    push!(ubal_changes_abs, ubal_change_abs)\n",
    "    push!(bal_changes_abs2, bal_change_abs2)\n",
    "    push!(ubal_changes_abs2, ubal_change_abs2)\n",
    "end"
   ]
  },
  {
   "cell_type": "code",
   "execution_count": null,
   "metadata": {},
   "outputs": [],
   "source": [
    "points = 16\n",
    "\n",
    "chosen_ths = [0:points-1...] ./ points\n",
    "inds = [findfirst(ths .>= chosen_ths[i]) for i in 1:length(chosen_ths)]\n",
    "\n",
    "plot(ths[inds], bal_changes_abs[inds], markershape = :circle, label = \"# changes of balanced Δ\", legend = :bottom)\n",
    "plot!(ths[inds], ubal_changes_abs[inds], markershape = :circle, label = \"# changes of unbalanced Δ\") "
   ]
  },
  {
   "cell_type": "code",
   "execution_count": null,
   "metadata": {},
   "outputs": [],
   "source": [
    "points = 16\n",
    "\n",
    "chosen_ths = [0:points-1...] ./ points\n",
    "inds = [findfirst(ths .>= chosen_ths[i]) for i in 1:length(chosen_ths)]\n",
    "\n",
    "plot(ths[inds], bal_changes_abs2[inds], markershape = :circle, label = \"# changes of balanced Δ\", legend = :bottom)\n",
    "plot!(ths[inds], ubal_changes_abs2[inds], markershape = :circle, label = \"# changes of unbalanced Δ\") "
   ]
  },
  {
   "cell_type": "markdown",
   "metadata": {},
   "source": [
    "## Node- and edge-randomization"
   ]
  },
  {
   "cell_type": "code",
   "execution_count": null,
   "metadata": {},
   "outputs": [],
   "source": [
    "all_links = sum(As) .> 0\n",
    "all_links_list = get_all_links2(As)"
   ]
  },
  {
   "cell_type": "code",
   "execution_count": null,
   "metadata": {},
   "outputs": [],
   "source": [
    "function get_all_links2(As)\n",
    "    N = size(As[1])[1]\n",
    "\n",
    "    all_links = sum(As) .> 0\n",
    "    links = []\n",
    "\n",
    "    for i in 1:N\n",
    "        for j in (i+1):N\n",
    "            if all_links[i,j] > 0\n",
    "                push!(links, (i,j))\n",
    "            end\n",
    "        end\n",
    "    end\n",
    "    \n",
    "    return links\n",
    "end\n",
    "\n",
    "function get_links_history(all_links_list, all_signs)\n",
    "    D = length(all_links_list)\n",
    "\n",
    "    links_sign_hist = Array{Any}(undef, D, 6)\n",
    "    for (ti, link) in enumerate(all_links_list), sem in 1:6\n",
    "        is_pos = 3\n",
    "        l_sign = all_signs[sem][link...]\n",
    "        if isnan(l_sign)\n",
    "            is_pos = 3\n",
    "        elseif l_sign == 1\n",
    "            is_pos = 1\n",
    "        else\n",
    "            is_pos = 2\n",
    "        end\n",
    "        links_sign_hist[ti, sem] = is_pos\n",
    "    end\n",
    "\n",
    "    return links_sign_hist\n",
    "end\n",
    "\n",
    "\n",
    "function get_link_transitions(As, threshold, attrs; all_links_list = [] )\n",
    "    aT = OrderedAttributes(8, threshold, 3)\n",
    "\n",
    "    if isempty(all_links_list)\n",
    "        all_links_list = get_all_links2(As)\n",
    "    end\n",
    "    D = length(all_links_list)\n",
    "\n",
    "    all_signs = [Symmetric(sign.(get_attribute_layer_weights(aT, attrs[i]))) .* 1. for i in 1:6]\n",
    "    map(x-> x[x .== 0.] .= 1, all_signs)\n",
    "\n",
    "    links_sign_hist = get_links_history(all_links_list, all_signs)\n",
    "\n",
    "    sign_trans = zeros(3,3) \n",
    "    sign_trans2 = zeros(2,2) # let's remove all nans, so if the triad exist in semesters 1, 3, 4, then there are 2 transitions 1->3, 3->4\n",
    "\n",
    "    for (ti, link) in enumerate(all_links_list)\n",
    "        # for sem in 1:5\n",
    "        #     inds = triads_balanced_hist[ti, sem:(sem+1)]\n",
    "        #     bal_trans[inds...] += 1\n",
    "        #     inds = triads_type_hist[ti,sem:(sem+1)] .+ 1\n",
    "        #     type_trans[inds...] += 1\n",
    "        # end\n",
    "        inds = [[links_sign_hist[ti,i], links_sign_hist[ti,i+1]] for i in 1:5]\n",
    "        map((x) -> sign_trans[x...] += 1, inds)\n",
    "\n",
    "        link_exists = links_sign_hist[ti,:] .!= 3\n",
    "        els = sum(link_exists)\n",
    "        if els == 1\n",
    "            continue\n",
    "        end\n",
    "        \n",
    "        sign_hist = links_sign_hist[ti, link_exists]\n",
    "\n",
    "        inds = [[sign_hist[i], sign_hist[i+1]] for i in 1:els-1]\n",
    "        map((x) -> sign_trans2[x...] += 1, inds)\n",
    "\n",
    "    end\n",
    "\n",
    "    return sign_trans, sign_trans2\n",
    "end"
   ]
  },
  {
   "cell_type": "code",
   "execution_count": null,
   "metadata": {},
   "outputs": [],
   "source": [
    "get_links_history(all_links_list, all_signs);\n",
    "\n",
    "thi = 15/16\n",
    "sign_trans, sign_trans2 = get_link_transitions(As, thi, ord_attributes)\n",
    "\n",
    "display(sign_trans)\n",
    "display(sign_trans2)"
   ]
  },
  {
   "cell_type": "code",
   "execution_count": null,
   "metadata": {},
   "outputs": [],
   "source": [
    "ths = [0:15...] / 16\n",
    "\n",
    "pos_to_pos_prob = []\n",
    "neg_to_pos_prob = []\n",
    "pos_to_pos_prob2 = []\n",
    "neg_to_pos_prob2 = []\n",
    "\n",
    "for (i, th) in enumerate(ths)\n",
    "    res = get_link_transitions(As, th, ord_attributes)\n",
    "\n",
    "    pos_flip = res[1][1,1] / sum(res[1][1,1:2])\n",
    "    neg_flip = res[1][2,1] / sum(res[1][2,1:2])\n",
    "    pos_flip2 = res[2][1,1] / sum(res[2][1,1:2])\n",
    "    neg_flip2 = res[2][2,1] / sum(res[2][2,1:2])\n",
    "    \n",
    "    push!(pos_to_pos_prob, pos_flip)\n",
    "    push!(neg_to_pos_prob, neg_flip)\n",
    "    push!(pos_to_pos_prob2, pos_flip2)\n",
    "    push!(neg_to_pos_prob2, neg_flip2)\n",
    "end"
   ]
  },
  {
   "cell_type": "code",
   "execution_count": null,
   "metadata": {},
   "outputs": [],
   "source": [
    "plot(ths, pos_to_pos_prob, markershape = :circle, label = \"D(+→+)\", legend = :bottomright)\n",
    "plot!(ths, neg_to_pos_prob, markershape = :circle, label = \"D(−→+)\")\n",
    "title!(\"Positive and negative link transition probabilities\")\n",
    "xlabel!(\"Θ\")"
   ]
  },
  {
   "cell_type": "code",
   "execution_count": null,
   "metadata": {},
   "outputs": [],
   "source": [
    "plot(ths, pos_to_pos_prob2, markershape = :circle, label = \"D(+→+)\", legend = :bottomright)\n",
    "plot!(ths, neg_to_pos_prob2, markershape = :circle, label = \"D(−→+)\")\n",
    "title!(\"Positive and negative link transition probabilities\")\n",
    "xlabel!(\"Θ\")"
   ]
  },
  {
   "cell_type": "markdown",
   "metadata": {},
   "source": [
    "## Edge-randomization"
   ]
  },
  {
   "cell_type": "code",
   "execution_count": null,
   "metadata": {},
   "outputs": [],
   "source": [
    "function get_sign_trans_probs(all_links, threshold, attrs; all_links_list = [])\n",
    "    res = get_link_transitions(all_links, threshold, attrs; all_links_list = all_links_list)\n",
    "\n",
    "    pos_flip = res[1][1,1] / sum(res[1][1,1:2])\n",
    "    neg_flip = res[1][2,1] / sum(res[1][2,1:2])\n",
    "    pos_flip2 = res[2][1,1] / sum(res[2][1,1:2])\n",
    "    neg_flip2 = res[2][2,1] / sum(res[2][2,1:2])\n",
    "\n",
    "    return pos_flip, neg_flip, pos_flip2, neg_flip2\n",
    "end\n",
    "\n",
    "function edge_randomization(all_links, threshold, attrs = ord_attributes, starting_adj_term = 1; pos_to_pos_prob = NaN, neg_to_pos_prob = NaN, all_links_list = [])\n",
    "    aT = OrderedAttributes(8, threshold, 3)\n",
    "    \n",
    "    all_signs = [Symmetric(sign.(get_attribute_layer_weights(aT, attrs[i]))) .* 1. for i in 1:6]\n",
    "    map(x-> x[x .== 0.] .= 1, all_signs)\n",
    "\n",
    "    if isnan(pos_to_pos_prob) || isnan(neg_to_pos_prob)\n",
    "        pos_to_pos_prob, neg_to_pos_prob, pos_flip2, neg_flip2 = get_sign_trans_probs(all_links, threshold, attrs; all_links_list = all_links_list)\n",
    "    end\n",
    "    \n",
    "    starting_adj = As[starting_adj_term]\n",
    "    starting_signs = all_signs[starting_adj_term]\n",
    "\n",
    "    N = size(starting_adj)[1]\n",
    "    new_signs = zeros(N, N)\n",
    "    for i in 1:N\n",
    "        for j in i+1:N\n",
    "            if starting_adj[i, j] > 0\n",
    "                if starting_signs[i, j] == 1\n",
    "                    is_pos = rand() < pos_to_pos_prob\n",
    "                else\n",
    "                    is_pos = rand() < neg_to_pos_prob\n",
    "                end\n",
    "                new_signs[i, j] = 2*is_pos - 1\n",
    "                new_signs[j, i] = new_signs[i, j]\n",
    "            end\n",
    "        end\n",
    "    end\n",
    "    return new_signs, starting_signs, pos_to_pos_prob, neg_to_pos_prob\n",
    "end\n",
    "\n",
    "function get_triad_transitions2(triads, all_signs )\n",
    "    sem_count = length(all_signs)\n",
    "\n",
    "    T = length(triads)\n",
    "\n",
    "    triads_balanced_hist, triads_type_hist = get_triads_history(triads, all_signs; sem_count = sem_count, all_triads = repeat([triads], sem_count))\n",
    "\n",
    "    bal_trans = zeros(3,3) \n",
    "    bal_trans2 = zeros(2,2) # let's remove all nans, so if the triad exist in semesters 1, 3, 4, then there are 2 transitions 1->3, 3->4\n",
    "\n",
    "    type_trans = zeros(5,5)\n",
    "    type_trans2 = zeros(4,4)\n",
    "\n",
    "    for (ti, triad) in enumerate(triads)\n",
    "        # for sem in 1:5\n",
    "        #     inds = triads_balanced_hist[ti, sem:(sem+1)]\n",
    "        #     bal_trans[inds...] += 1\n",
    "        #     inds = triads_type_hist[ti,sem:(sem+1)] .+ 1\n",
    "        #     type_trans[inds...] += 1\n",
    "        # end\n",
    "        inds = [[triads_balanced_hist[ti,i], triads_balanced_hist[ti,i+1]] for i in 1:sem_count-1]\n",
    "        map((x) -> bal_trans[x...] += 1, inds)\n",
    "\n",
    "        inds = [[triads_type_hist[ti,i], triads_type_hist[ti, i+1]] .+ 1 for i in 1:sem_count-1]\n",
    "        map((x) -> type_trans[x...] += 1, inds)\n",
    "\n",
    "        triad_exists = triads_balanced_hist[ti,:] .!= 3\n",
    "        els = sum(triad_exists)\n",
    "        if els == 1\n",
    "            continue\n",
    "        end\n",
    "        \n",
    "        bal_hist = triads_balanced_hist[ti, triad_exists]\n",
    "        type_hist = triads_type_hist[ti,triad_exists]\n",
    "\n",
    "        inds = [[bal_hist[i], bal_hist[i+1]] for i in 1:els-1]\n",
    "        map((x) -> bal_trans2[x...] += 1, inds)\n",
    "\n",
    "        inds = [[type_hist[i], type_hist[i+1]] .+ 1 for i in 1:els-1]\n",
    "        map((x) -> type_trans2[x...] += 1, inds)\n",
    "\n",
    "    end\n",
    "\n",
    "    return bal_trans, type_trans, bal_trans2, type_trans2\n",
    "end"
   ]
  },
  {
   "cell_type": "code",
   "execution_count": null,
   "metadata": {},
   "outputs": [],
   "source": [
    "thi = 0.\n",
    "\n",
    "new_signs, starting_signs, pos_to_pos, neg_to_pos = edge_randomization(As, thi)\n",
    "\n",
    "bal_trans, type_trans, bal_trans2, type_trans2 = get_triad_transitions2(all_triads[1], [starting_signs, new_signs] )\n",
    "\n",
    "@assert bal_trans[1:2,1:2] == bal_trans2\n",
    "@assert type_trans[1:4,1:4] == type_trans2\n",
    "display(bal_trans)\n",
    "display(type_trans)\n",
    "display([pos_to_pos, neg_to_pos])"
   ]
  },
  {
   "cell_type": "code",
   "execution_count": null,
   "metadata": {},
   "outputs": [],
   "source": [
    "ths = [0:15...] / 16\n",
    "repetitions = 100\n",
    "\n",
    "bal_to_bals_edge_rand = []\n",
    "bal_to_bals_edge_rand_std = []\n",
    "ubal_to_bals_edge_rand = []\n",
    "\n",
    "for (i, th) in enumerate(ths)\n",
    "    bal_trans = zeros(3,3)\n",
    "    bal_to_bal_vals = zeros(repetitions)\n",
    "    for rep in 1:repetitions\n",
    "        new_signs, starting_signs, _, _ = edge_randomization(As, thi; \n",
    "            pos_to_pos_prob = pos_to_pos_prob[i], neg_to_pos_prob = neg_to_pos_prob[i])\n",
    "\n",
    "        res = get_triad_transitions2(all_triads[1], [starting_signs, new_signs] )\n",
    "        bal_trans .+= res[1]\n",
    "\n",
    "        bal_to_bal_vals[rep] = res[1][1,1] / sum(res[1][1,1:2])\n",
    "    end\n",
    "\n",
    "    res = bal_trans, [], [], []\n",
    "    bal_to_bal = res[1][1,1] / sum(res[1][1,1:2])\n",
    "    ubal_to_bal = res[1][2,1] / sum(res[1][2,1:2])\n",
    "\n",
    "    @assert mean(bal_to_bal_vals) == bal_to_bal\n",
    "    \n",
    "    push!(bal_to_bals_edge_rand, bal_to_bal)\n",
    "    push!(bal_to_bals_edge_rand_std, std(bal_to_bal_vals))\n",
    "    push!(ubal_to_bals_edge_rand, ubal_to_bal)\n",
    "end"
   ]
  },
  {
   "cell_type": "code",
   "execution_count": null,
   "metadata": {},
   "outputs": [],
   "source": [
    "bal_to_bals_edge_rand_std"
   ]
  },
  {
   "cell_type": "code",
   "execution_count": null,
   "metadata": {},
   "outputs": [],
   "source": [
    "plot(ths, bal_to_bals_edge_rand, yerror = bal_to_bals_edge_rand_std, markershape = :circle, label = \"T(+→+)\", legend = :bottomright)\n",
    "plot!(ths, ubal_to_bals_edge_rand, markershape = :circle, label = \"T(−→+)\")\n",
    "title!(\"Edge randomization\")\n",
    "xlabel!(\"Θ\")"
   ]
  },
  {
   "cell_type": "code",
   "execution_count": null,
   "metadata": {},
   "outputs": [],
   "source": [
    "points = 16\n",
    "\n",
    "original_ths = 0:0.01:1\n",
    "inds = [findfirst(original_ths .>= ths[i]) for i in 1:length(ths)]\n",
    "\n",
    "plot(original_ths[inds], bal_to_bals[inds], markershape = :circle, label = \"data\", legend = :bottomright)\n",
    "# plot!(ths[inds], ubal_to_bals[inds], markershape = :circle, label = \"T(−→+)\") \n",
    "# plot(ths, bal_to_bals, markershape = :circle, label = \"T(+→+)\", legend = :bottomright)\n",
    "plot!(ths, bal_to_bals_edge_rand, markershape = :circle, label = \"edge-randomization\", linestyle = :dash)\n",
    "title!(\"T(+→+)\")\n",
    "xlabel!(\"Θ\")\n",
    "\n"
   ]
  },
  {
   "cell_type": "code",
   "execution_count": null,
   "metadata": {},
   "outputs": [],
   "source": [
    "points = 16\n",
    "\n",
    "original_ths = 0:0.01:1\n",
    "inds = [findfirst(original_ths .>= ths[i]) for i in 1:length(ths)]\n",
    "\n",
    "plot(original_ths[inds], ubal_to_bals[inds], markershape = :circle, label = \"data\", legend = :bottomright)\n",
    "# plot!(ths[inds], ubal_to_bals[inds], markershape = :circle, label = \"T(−→+)\") \n",
    "# plot(ths, bal_to_bals, markershape = :circle, label = \"T(+→+)\", legend = :bottomright)\n",
    "plot!(ths, ubal_to_bals_edge_rand, markershape = :circle, label = \"edge-randomization\", linestyle = :dash)\n",
    "title!(\"T(−→+)\")\n",
    "xlabel!(\"Θ\")"
   ]
  },
  {
   "cell_type": "code",
   "execution_count": null,
   "metadata": {},
   "outputs": [],
   "source": [
    "thi"
   ]
  },
  {
   "cell_type": "markdown",
   "metadata": {},
   "source": [
    "### Let's include other terms as well"
   ]
  },
  {
   "cell_type": "code",
   "execution_count": null,
   "metadata": {},
   "outputs": [],
   "source": [
    "ths = [0:15...] / 16\n",
    "repetitions = 100\n",
    "\n",
    "bal_to_bals_edge_rand = []\n",
    "bal_to_bals_edge_rand_std = []\n",
    "ubal_to_bals_edge_rand = []\n",
    "ubal_to_bals_edge_rand_std = []\n",
    "\n",
    "for (i, th) in enumerate(ths)\n",
    "    bal_trans = zeros(3,3)\n",
    "\n",
    "    bal_to_bal_vals = zeros(repetitions)\n",
    "    ubal_to_bal_vals = zeros(repetitions)\n",
    "    for rep in 1:repetitions\n",
    "        bal_trans_rep = zeros(3,3)\n",
    "        for sem in 1:5\n",
    "            new_signs, starting_signs, _, _ = edge_randomization(As, th, ord_attributes, sem; \n",
    "                pos_to_pos_prob = pos_to_pos_prob[i], neg_to_pos_prob = neg_to_pos_prob[i])\n",
    "\n",
    "            res = get_triad_transitions2(all_triads[sem], [starting_signs, new_signs] )\n",
    "            bal_trans .+= res[1]\n",
    "            bal_trans_rep += res[1]\n",
    "\n",
    "            # bal_to_bal_vals[rep] = res[1][1,1] / sum(res[1][1,1:2])\n",
    "        end\n",
    "        bal_to_bal_vals[rep] = bal_trans_rep[1,1] / sum(bal_trans_rep[1,1:2])\n",
    "        ubal_to_bal_vals[rep] = bal_trans_rep[2,1] / sum(bal_trans_rep[2,1:2])\n",
    "    end\n",
    "\n",
    "    res = bal_trans, [], [], []\n",
    "    bal_to_bal = res[1][1,1] / sum(res[1][1,1:2])\n",
    "    ubal_to_bal = res[1][2,1] / sum(res[1][2,1:2])\n",
    "    \n",
    "    push!(bal_to_bals_edge_rand, bal_to_bal)\n",
    "    push!(bal_to_bals_edge_rand_std, std(bal_to_bal_vals))\n",
    "    push!(ubal_to_bals_edge_rand, ubal_to_bal)\n",
    "    push!(ubal_to_bals_edge_rand_std, std(ubal_to_bal_vals))\n",
    "end"
   ]
  },
  {
   "cell_type": "code",
   "execution_count": null,
   "metadata": {},
   "outputs": [],
   "source": [
    "plot(ths, bal_to_bals_edge_rand, yerror = bal_to_bals_edge_rand_std, markershape = :circle, label = \"T(+→+)\", legend = :bottomright)\n",
    "plot!(ths, ubal_to_bals_edge_rand, markershape = :circle, label = \"T(−→+)\")\n",
    "title!(\"Edge randomization\")\n",
    "xlabel!(\"Θ\")"
   ]
  },
  {
   "cell_type": "code",
   "execution_count": null,
   "metadata": {},
   "outputs": [],
   "source": [
    "points = 16\n",
    "\n",
    "original_ths = 0:0.01:1\n",
    "inds = [findfirst(original_ths .>= ths[i]) for i in 1:length(ths)]\n",
    "\n",
    "plot(original_ths[inds], bal_to_bals[inds], markershape = :circle, label = \"data\", legend = :bottomright)\n",
    "# plot!(ths[inds], ubal_to_bals[inds], markershape = :circle, label = \"T(−→+)\") \n",
    "# plot(ths, bal_to_bals, markershape = :circle, label = \"T(+→+)\", legend = :bottomright)\n",
    "plot!(ths, bal_to_bals_edge_rand, yerror = bal_to_bals_edge_rand_std, markershape = :circle, label = \"edge-randomization\", linestyle = :dash)\n",
    "title!(\"T(+→+)\")\n",
    "xlabel!(\"Θ\")\n",
    "\n"
   ]
  },
  {
   "cell_type": "code",
   "execution_count": null,
   "metadata": {},
   "outputs": [],
   "source": [
    "points = 16\n",
    "\n",
    "original_ths = 0:0.01:1\n",
    "inds = [findfirst(original_ths .>= ths[i]) for i in 1:length(ths)]\n",
    "\n",
    "plot(original_ths[inds], ubal_to_bals[inds], markershape = :circle, label = \"data\", legend = :bottomright)\n",
    "# plot!(ths[inds], ubal_to_bals[inds], markershape = :circle, label = \"T(−→+)\") \n",
    "# plot(ths, bal_to_bals, markershape = :circle, label = \"T(+→+)\", legend = :bottomright)\n",
    "plot!(ths, ubal_to_bals_edge_rand, yerror = ubal_to_bals_edge_rand_std, markershape = :circle, label = \"edge-randomization\", linestyle = :dash)\n",
    "title!(\"T(−→+)\")\n",
    "xlabel!(\"Θ\")"
   ]
  },
  {
   "cell_type": "markdown",
   "metadata": {},
   "source": [
    "## Node randomization"
   ]
  },
  {
   "cell_type": "code",
   "execution_count": null,
   "metadata": {},
   "outputs": [],
   "source": [
    "function get_attr_transitions(attrs )\n",
    "    sem_count = length(attrs)\n",
    "\n",
    "    N, G = size(attrs[1])\n",
    "\n",
    "    attr_change_count_any = zeros(G) # a change from 1 to 3 is counted as 1\n",
    "    attr_change_count_abs = zeros(G) # a change from 1 to 3 is counted as 2\n",
    "    attr_change_count_any2 = zeros(G) # NaNs are discarded\n",
    "    attr_change_count_abs2 = zeros(G) # NaNs are discarded\n",
    "\n",
    "    # attr_change_probs_any = attr_change_count_any ./ attr_change_max_any\n",
    "    # max values of above\n",
    "    attr_change_max_any = zeros(G) # a change from 1 to 3 is counted as 1\n",
    "    attr_change_max_abs = zeros(G) # a change from 1 to 3 is counted as 2\n",
    "    attr_change_max_any2 = zeros(G) # NaNs are discarded\n",
    "    attr_change_max_abs2 = zeros(G) # NaNs are discarded\n",
    "    for g = 1:G\n",
    "        for n in 1:N\n",
    "            attr_history = [attrs[sem][n,g] for sem in 1:sem_count]\n",
    "\n",
    "            type_of_change = [attr_history[i+1] - attr_history[i] for i in 1:sem_count-1]\n",
    "\n",
    "            attr_exists = .!(isnan.(type_of_change))\n",
    "            els = sum(attr_exists)\n",
    "            \n",
    "            attr_change_count_any[g] += sum((type_of_change .!= 0) .& attr_exists)\n",
    "            attr_change_max_any[g] += els\n",
    "\n",
    "            attr_change_count_abs[g] += sum(abs.(type_of_change[attr_exists]))\n",
    "            attr_change_max_abs[g] += 2*els\n",
    "\n",
    "            attr_exists = .!(isnan.(attr_history))\n",
    "            els = sum(attr_exists)\n",
    "            if els == 1\n",
    "                continue\n",
    "            end\n",
    "\n",
    "            attr_no_nan = attr_history[attr_exists]\n",
    "            type_of_change = [attr_no_nan[i+1] - attr_no_nan[i] for i in 1:els-1]\n",
    "\n",
    "            attr_change_count_any2[g] += sum(type_of_change .!= 0)\n",
    "            attr_change_max_any2[g] += els\n",
    "\n",
    "            attr_change_count_abs2[g] += sum(abs.(type_of_change))\n",
    "            attr_change_max_abs2[g] += 2*els\n",
    "        end\n",
    "    end\n",
    "\n",
    "    attr_change_probs_any = attr_change_count_any ./ attr_change_max_any\n",
    "    attr_change_probs_abs = attr_change_count_abs ./ attr_change_max_abs\n",
    "    attr_change_probs_any2 = attr_change_count_any2 ./ attr_change_max_any2\n",
    "    attr_change_probs_abs2 = attr_change_count_abs2 ./ attr_change_max_abs2\n",
    "\n",
    "    return attr_change_probs_any, attr_change_probs_abs, attr_change_probs_any2, attr_change_probs_abs2\n",
    "end\n",
    "\n",
    "function attr_randomization(attrs = ord_attributes; attr_change_probs = [], num_of_turns = 1)\n",
    "    \n",
    "    if isempty(attr_change_probs) \n",
    "        attr_change_probs_any, attr_change_probs_abs, attr_change_probs_any2, attr_change_probs_abs2 = get_attr_transitions(attrs)\n",
    "\n",
    "        attr_change_probs = attr_change_probs_abs\n",
    "    end\n",
    "\n",
    "    probs = attr_change_probs ./ num_of_turns\n",
    "    \n",
    "    sem_count = length(attrs)\n",
    "\n",
    "    N, G = size(attrs[1])\n",
    "\n",
    "    new_attrs = deepcopy(attrs)\n",
    "    rand_vals = zeros(G)\n",
    "\n",
    "    for _ in 1:num_of_turns\n",
    "        for sem in 1:sem_count, n in 1:N\n",
    "            if isnan(new_attrs[sem][n,1])\n",
    "                continue\n",
    "            end\n",
    "            rand!(rand_vals)\n",
    "\n",
    "            change_attr_flag = rand_vals .< probs\n",
    "\n",
    "            for g in 1:G\n",
    "                if change_attr_flag[g]\n",
    "                    if mod(new_attrs[sem][n,g],2) == 1 \n",
    "                        new_attrs[sem][n,g] = 2\n",
    "                    elseif rand() < 0.5\n",
    "                        new_attrs[sem][n,g] = 1\n",
    "                    else\n",
    "                        new_attrs[sem][n,g] = 3\n",
    "                    end\n",
    "                end\n",
    "            end\n",
    "        end\n",
    "    end\n",
    "    return new_attrs\n",
    "end"
   ]
  },
  {
   "cell_type": "code",
   "execution_count": null,
   "metadata": {},
   "outputs": [],
   "source": [
    "attr_change_probs_any, attr_change_probs_abs, attr_change_probs_any2, attr_change_probs_abs2 = get_attr_transitions(ord_attributes)"
   ]
  },
  {
   "cell_type": "code",
   "execution_count": null,
   "metadata": {},
   "outputs": [],
   "source": [
    "display(attr_change_probs_any)\n",
    "display(attr_change_probs_abs)\n",
    "display(attr_change_probs_any2)\n",
    "display(attr_change_probs_abs2)"
   ]
  },
  {
   "cell_type": "code",
   "execution_count": null,
   "metadata": {},
   "outputs": [],
   "source": [
    "new_attrs = attr_randomization(ord_attributes, num_of_turns = 10)"
   ]
  },
  {
   "cell_type": "code",
   "execution_count": null,
   "metadata": {},
   "outputs": [],
   "source": [
    "dif = new_attrs[1] .- ord_attributes[1]\n",
    "sum(abs.(dif[1:98,:])) / 8/ 98, mean(attr_change_probs_abs)"
   ]
  },
  {
   "cell_type": "code",
   "execution_count": null,
   "metadata": {},
   "outputs": [],
   "source": [
    "maximum(new_attrs[1][1:98,:]), minimum(new_attrs[1][1:98,:]), maximum(abs.(dif[1:98,:]))"
   ]
  },
  {
   "cell_type": "code",
   "execution_count": null,
   "metadata": {},
   "outputs": [],
   "source": [
    "thi = 0.\n",
    "\n",
    "new_attrs = attr_randomization(ord_attributes, num_of_turns = 10, attr_change_probs = attr_change_probs_abs)\n",
    "\n",
    "aT = OrderedAttributes(8, thi, 3)\n",
    "    \n",
    "starting_signs = [Symmetric(sign.(get_attribute_layer_weights(aT, ord_attributes[i]))) .* 1. for i in 1:6]\n",
    "map(x-> x[x .== 0.] .= 1, starting_signs)\n",
    "\n",
    "new_signs = [Symmetric(sign.(get_attribute_layer_weights(aT, new_attrs[i]))) .* 1. for i in 1:6]\n",
    "map(x-> x[x .== 0.] .= 1, new_signs)\n",
    "\n",
    "bal_trans, type_trans, bal_trans2, type_trans2 = get_triad_transitions2(all_triads[1], [starting_signs[1], new_signs[1]] )\n",
    "\n",
    "@assert bal_trans[1:2,1:2] == bal_trans2\n",
    "@assert type_trans[1:4,1:4] == type_trans2\n",
    "display(bal_trans)\n",
    "display(type_trans)"
   ]
  },
  {
   "cell_type": "code",
   "execution_count": null,
   "metadata": {},
   "outputs": [],
   "source": [
    "ths = [0:15...] / 16\n",
    "repetitions = 100\n",
    "num_of_turns = 4\n",
    "\n",
    "bal_to_bals_agent_rand = []\n",
    "bal_to_bals_agent_rand_std = []\n",
    "ubal_to_bals_agent_rand = []\n",
    "ubal_to_bals_agent_rand_std = []\n",
    "\n",
    "for (i, th) in enumerate(ths)\n",
    "    bal_trans = zeros(3,3)\n",
    "\n",
    "    bal_to_bal_vals = zeros(repetitions)\n",
    "    ubal_to_bal_vals = zeros(repetitions)\n",
    "    for rep in 1:repetitions\n",
    "        new_attrs = attr_randomization(ord_attributes, num_of_turns = num_of_turns, attr_change_probs = attr_change_probs_abs)\n",
    "\n",
    "        aT = OrderedAttributes(8, th, 3)\n",
    "        starting_signs = [Symmetric(sign.(get_attribute_layer_weights(aT, ord_attributes[i]))) .* 1. for i in 1:6]\n",
    "        map(x-> x[x .== 0.] .= 1, starting_signs)\n",
    "        \n",
    "        new_signs = [Symmetric(sign.(get_attribute_layer_weights(aT, new_attrs[i]))) .* 1. for i in 1:6]\n",
    "        map(x-> x[x .== 0.] .= 1, new_signs)\n",
    "\n",
    "        bal_trans_rep = zeros(3,3)\n",
    "        for sem in 1:5\n",
    "            \n",
    "            res = get_triad_transitions2(all_triads[sem], [starting_signs[sem], new_signs[sem]] )\n",
    "            bal_trans .+= res[1]\n",
    "            bal_trans_rep += res[1]\n",
    "\n",
    "            # bal_to_bal_vals[rep] = res[1][1,1] / sum(res[1][1,1:2])\n",
    "        end\n",
    "        bal_to_bal_vals[rep] = bal_trans_rep[1,1] / sum(bal_trans_rep[1,1:2])\n",
    "        ubal_to_bal_vals[rep] = bal_trans_rep[2,1] / sum(bal_trans_rep[2,1:2])\n",
    "    end\n",
    "\n",
    "    res = bal_trans, [], [], []\n",
    "    bal_to_bal = res[1][1,1] / sum(res[1][1,1:2])\n",
    "    ubal_to_bal = res[1][2,1] / sum(res[1][2,1:2])\n",
    "    \n",
    "    push!(bal_to_bals_agent_rand, bal_to_bal)\n",
    "    push!(bal_to_bals_agent_rand_std, std(bal_to_bal_vals))\n",
    "    push!(ubal_to_bals_agent_rand, ubal_to_bal)\n",
    "    push!(ubal_to_bals_agent_rand_std, std(ubal_to_bal_vals))\n",
    "end"
   ]
  },
  {
   "cell_type": "code",
   "execution_count": null,
   "metadata": {},
   "outputs": [],
   "source": [
    "plot(ths, bal_to_bals_agent_rand, yerror = bal_to_bals_agent_rand_std, markershape = :circle, label = \"T(+→+)\", legend = :bottomright)\n",
    "plot!(ths, ubal_to_bals_agent_rand, yerror = ubal_to_bals_agent_rand_std, markershape = :circle, label = \"T(−→+)\")\n",
    "title!(\"Node randomization\")\n",
    "xlabel!(\"Θ\")\n",
    "ylims!((0, 1))"
   ]
  },
  {
   "cell_type": "code",
   "execution_count": null,
   "metadata": {},
   "outputs": [],
   "source": [
    "points = 16\n",
    "\n",
    "original_ths = 0:0.01:1\n",
    "inds = [findfirst(original_ths .>= ths[i]) for i in 1:length(ths)]\n",
    "\n",
    "plot(original_ths[inds], bal_to_bals[inds], markershape = :circle, label = \"data\", legend = :bottomright)\n",
    "# plot!(ths[inds], ubal_to_bals[inds], markershape = :circle, label = \"T(−→+)\") \n",
    "# plot(ths, bal_to_bals, markershape = :circle, label = \"T(+→+)\", legend = :bottomright)\n",
    "plot!(ths, bal_to_bals_agent_rand, yerror = bal_to_bals_agent_rand_std, markershape = :circle, label = \"node-randomization\", linestyle = :dash)\n",
    "title!(\"T(+→+)\")\n",
    "xlabel!(\"Θ\")\n",
    "\n"
   ]
  },
  {
   "cell_type": "code",
   "execution_count": null,
   "metadata": {},
   "outputs": [],
   "source": [
    "points = 16\n",
    "\n",
    "original_ths = 0:0.01:1\n",
    "inds = [findfirst(original_ths .>= ths[i]) for i in 1:length(ths)]\n",
    "\n",
    "plot(original_ths[inds], ubal_to_bals[inds], markershape = :circle, label = \"data\", legend = :bottomright)\n",
    "# plot!(ths[inds], ubal_to_bals[inds], markershape = :circle, label = \"T(−→+)\") \n",
    "# plot(ths, bal_to_bals, markershape = :circle, label = \"T(+→+)\", legend = :bottomright)\n",
    "plot!(ths, ubal_to_bals_edge_rand, yerror = ubal_to_bals_edge_rand_std, markershape = :circle, label = \"node-randomization\", linestyle = :dash)\n",
    "title!(\"T(−→+)\")\n",
    "xlabel!(\"Θ\")"
   ]
  },
  {
   "cell_type": "markdown",
   "metadata": {},
   "source": [
    "### Let's see how changes of attributes depend on triad types"
   ]
  },
  {
   "cell_type": "code",
   "execution_count": null,
   "metadata": {},
   "outputs": [],
   "source": [
    "\n",
    "# a change is a change of attribute from 1 to 2. a change from 1 to 3 are two changes. \n",
    "function count_attr_changes_cor_sign(attrs, all_triads)\n",
    "    sems = length(attrs)\n",
    "    N = size(attrs[1])[1]\n",
    "\n",
    "    changes_all_triads = []\n",
    "\n",
    "    # for sem1 in 1:sems, sem2 in 1:sems\n",
    "    for i in 1:sems-1\n",
    "        j = i+1\n",
    "\n",
    "        changes_triads = zeros(length(all_triads[i]))\n",
    "\n",
    "        attr_change = abs.(attrs[i] .- attrs[j])\n",
    "        for (ti, triad) in enumerate(all_triads[i])\n",
    "\n",
    "            if any(isnan.(attr_change[[triad...],:])) #missing attributes\n",
    "                changes_triads[ti] = NaN\n",
    "            else\n",
    "                changes_triads[ti] = sum(attr_change[[triad...], :])\n",
    "            end\n",
    "        end\n",
    "\n",
    "        push!(changes_all_triads, changes_triads)\n",
    "    end\n",
    "    return changes_all_triads\n",
    "end"
   ]
  },
  {
   "cell_type": "code",
   "execution_count": null,
   "metadata": {},
   "outputs": [],
   "source": [
    "triad = all_triads[1][5]\n",
    "\n",
    "i = 1;\n",
    "j = 2;\n",
    "attr_change = abs.(ord_attributes[i] .- ord_attributes[j])\n",
    "\n",
    "any(isnan.(attr_change[[triad...],:]))\n",
    "\n",
    "display(attr_change[[triad...],:])\n",
    "display(ord_attributes[i][[triad...], :])\n",
    "display(ord_attributes[j][[triad...], :])"
   ]
  },
  {
   "cell_type": "code",
   "execution_count": null,
   "metadata": {},
   "outputs": [],
   "source": [
    "changes_all_triads = count_attr_changes_cor_sign(ord_attributes, all_triads)"
   ]
  },
  {
   "cell_type": "markdown",
   "metadata": {},
   "source": [
    "## Balanced triad density"
   ]
  },
  {
   "cell_type": "code",
   "execution_count": null,
   "metadata": {},
   "outputs": [],
   "source": [
    "sum(triads_balanced_hist[:,1] .== 1) / (length(triads_balanced_hist[:,1]) - sum(triads_balanced_hist[:,1] .== 3))"
   ]
  },
  {
   "cell_type": "code",
   "execution_count": null,
   "metadata": {},
   "outputs": [],
   "source": [
    "function get_balanced_ratio(all_triads, threshold, attrs; all_triads_list = [] )\n",
    "\n",
    "    aT = OrderedAttributes(8, threshold, 3)\n",
    "\n",
    "    if isempty(all_triads_list)\n",
    "        all_triads_list = unique([triad for triads in all_triads for triad in triads])\n",
    "    end\n",
    "    T = length(all_triads_list)\n",
    "\n",
    "    all_signs = [Symmetric(sign.(get_attribute_layer_weights(aT, attrs[i]))) .* 1. for i in 1:6]\n",
    "    map(x-> x[x .== 0.] .= 1, all_signs)\n",
    "\n",
    "    triads_balanced_hist, _ = get_triads_history(all_triads_list, all_signs; all_triads = all_triads)\n",
    "\n",
    "    bal_ratio = [sum(triads_balanced_hist[:,i] .== 1) / (T - sum(triads_balanced_hist[:,i] .== 3)) for i in 1:6]\n",
    "\n",
    "    all_bal_ratio = sum(triads_balanced_hist .== 1) / (6*T - sum(triads_balanced_hist .== 3))\n",
    "\n",
    "    return bal_ratio, all_bal_ratio\n",
    "end"
   ]
  },
  {
   "cell_type": "code",
   "execution_count": null,
   "metadata": {},
   "outputs": [],
   "source": [
    "get_balanced_ratio(all_triads, 0.5, ord_attributes; all_triads_list = all_triads_list )"
   ]
  },
  {
   "cell_type": "code",
   "execution_count": null,
   "metadata": {},
   "outputs": [],
   "source": [
    "ths = [0:0.01:1...]\n",
    "bal_to_bals = []\n",
    "ubal_to_bals = []\n",
    "bal_to_bals2 = []\n",
    "ubal_to_bals2 = []\n",
    "\n",
    "for th in ths\n",
    "    res = get_triad_transitions(all_triads, th, ord_attributes; all_triads_list = all_triads_list )\n",
    "    bal_to_bal = res[1][1,1] / sum(res[1][1,1:2])\n",
    "    ubal_to_bal = res[1][2,1] / sum(res[1][2,1:2])\n",
    "    bal_to_bal2 = res[3][1,1] / sum(res[3][1,1:2])\n",
    "    ubal_to_bal2 = res[3][2,1] / sum(res[3][2,1:2])\n",
    "    \n",
    "    push!(bal_to_bals, bal_to_bal)\n",
    "    push!(ubal_to_bals, ubal_to_bal)\n",
    "    push!(bal_to_bals2, bal_to_bal2)\n",
    "    push!(ubal_to_bals2, ubal_to_bal2)\n",
    "end"
   ]
  }
 ],
 "metadata": {
  "kernelspec": {
   "display_name": "Julia 1.6.4",
   "language": "julia",
   "name": "julia-1.6"
  },
  "language_info": {
   "file_extension": ".jl",
   "mimetype": "application/julia",
   "name": "julia",
   "version": "1.6.4"
  },
  "orig_nbformat": 4
 },
 "nbformat": 4,
 "nbformat_minor": 2
}

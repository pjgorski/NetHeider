{
 "cells": [
  {
   "cell_type": "code",
   "execution_count": 8,
   "metadata": {},
   "outputs": [
    {
     "data": {
      "text/plain": [
       "PyObject <function load_pickle at 0x7f3fce7bf310>"
      ]
     },
     "metadata": {},
     "output_type": "display_data"
    }
   ],
   "source": [
    "using PyCall\n",
    "using LinearAlgebra\n",
    "\n",
    "using DrWatson\n",
    "quickactivate(@__DIR__)\n",
    "\n",
    "using NetHeider\n",
    "\n",
    "py\"\"\"\n",
    "import pickle\n",
    " \n",
    "def load_pickle(fpath):\n",
    "    with open(fpath, \"rb\") as f:\n",
    "        data = pickle.load(f)\n",
    "    return data\n",
    "\"\"\"\n",
    "\n",
    "load_pickle = py\"load_pickle\""
   ]
  },
  {
   "cell_type": "code",
   "execution_count": 2,
   "metadata": {},
   "outputs": [
    {
     "data": {
      "text/plain": [
       "Dict{Any, Any} with 6 entries:\n",
       "  5 => PyObject <networkx.classes.graph.Graph object at 0x7f3fce6c8a00>\n",
       "  4 => PyObject <networkx.classes.graph.Graph object at 0x7f3fce70edc0>\n",
       "  6 => PyObject <networkx.classes.graph.Graph object at 0x7f3fce68bd00>\n",
       "  2 => PyObject <networkx.classes.graph.Graph object at 0x7f3fce78b520>\n",
       "  3 => PyObject <networkx.classes.graph.Graph object at 0x7f3fce6d3160>\n",
       "  1 => PyObject <networkx.classes.graph.Graph object at 0x7f3fdcddc970>"
      ]
     },
     "metadata": {},
     "output_type": "display_data"
    }
   ],
   "source": [
    "fname = datadir(\"exp_pro\", \"NetSense_network.pkl\")\n",
    "file = load_pickle(fname)"
   ]
  },
  {
   "cell_type": "code",
   "execution_count": 3,
   "metadata": {},
   "outputs": [
    {
     "data": {
      "text/plain": [
       "PyObject <function get_adjacency_matrix at 0x7f3fce760b80>"
      ]
     },
     "metadata": {},
     "output_type": "display_data"
    }
   ],
   "source": [
    "py\"\"\"\n",
    "import networkx as nx\n",
    "def get_triads(net):\n",
    "    A = nx.adjacency_matrix(net).todense() \n",
    "\n",
    "    N = A.shape[0]\n",
    "\n",
    "    triads = []\n",
    "\n",
    "    for i in range(0,N):\n",
    "        for j in range(i+1,N):\n",
    "            if A[i,j] > 0:\n",
    "                for k in range(j+1,N):\n",
    "                    if A[i,k] > 0 and A[j,k] > 0:\n",
    "                        triads.append((i,j,k))\n",
    "    \n",
    "    return triads\n",
    "\n",
    "def get_adjacency_matrix(net, ordering = None):\n",
    "    return nx.adjacency_matrix(net, ordering).todense() \n",
    "\"\"\"\n",
    "\n",
    "function get_triads2(A)\n",
    "    \n",
    "\n",
    "    N = size(A)[1]\n",
    "\n",
    "    triads = []\n",
    "\n",
    "    for i in 1:N\n",
    "        for j in (i+1):N\n",
    "            if A[i,j] > 0\n",
    "                for k in (j+1):N\n",
    "                    if A[i,k] > 0 && A[j,k] > 0\n",
    "                        push!(triads, (i,j,k))\n",
    "                    end\n",
    "                end\n",
    "            end\n",
    "        end\n",
    "    end\n",
    "    \n",
    "    return triads\n",
    "end\n",
    "\n",
    "get_triads = py\"get_triads\"\n",
    "get_adjacency_matrix = py\"get_adjacency_matrix\""
   ]
  },
  {
   "cell_type": "code",
   "execution_count": 4,
   "metadata": {},
   "outputs": [
    {
     "data": {
      "text/plain": [
       "create_series_adj_mat (generic function with 2 methods)"
      ]
     },
     "metadata": {},
     "output_type": "display_data"
    }
   ],
   "source": [
    "function get_all_nodes(file)\n",
    "    nodes = [n for n in file[1].nodes]\n",
    "    for i in 2:6\n",
    "        nodes = [nodes..., [n for n in file[i].nodes()]...]\n",
    "    end\n",
    "    return unique(nodes)\n",
    "end\n",
    "\n",
    "function create_series_adj_mat(file, nodes = get_all_nodes(file))\n",
    "    As = [get_adjacency_matrix(file[i], nodes) for i in 1:6]\n",
    "    return As\n",
    "end"
   ]
  },
  {
   "cell_type": "code",
   "execution_count": 5,
   "metadata": {},
   "outputs": [
    {
     "data": {
      "text/plain": [
       "(108.0, 152.0, 116.0)"
      ]
     },
     "metadata": {},
     "output_type": "display_data"
    },
    {
     "data": {
      "text/plain": [
       "6×6 Matrix{Float64}:\n",
       " 1.0       0.425532  0.260355  0.318182  0.258706  0.255682\n",
       " 0.425532  1.0       0.427419  0.530612  0.466216  0.350365\n",
       " 0.260355  0.427419  1.0       0.478261  0.421053  0.397849\n",
       " 0.318182  0.530612  0.478261  1.0       0.578947  0.401575\n",
       " 0.258706  0.466216  0.421053  0.578947  1.0       0.491228\n",
       " 0.255682  0.350365  0.397849  0.401575  0.491228  1.0"
      ]
     },
     "metadata": {},
     "output_type": "display_data"
    },
    {
     "data": {
      "text/plain": [
       "6×6 Matrix{Float64}:\n",
       " 1.0  0.526316  0.289474  0.414474  0.342105  0.296053\n",
       " 0.0  1.0       0.456897  0.672414  0.594828  0.413793\n",
       " 0.0  0.0       1.0       0.901639  0.786885  0.606557\n",
       " 0.0  0.0       0.0       1.0       0.706422  0.46789\n",
       " 0.0  0.0       0.0       0.0       1.0       0.554455\n",
       " 0.0  0.0       0.0       0.0       0.0       1.0"
      ]
     },
     "metadata": {},
     "output_type": "display_data"
    },
    {
     "data": {
      "text/plain": [
       "6×6 Matrix{Float64}:\n",
       " 0.0  72.0  108.0  89.0  100.0  107.0\n",
       " 0.0   0.0   63.0  38.0   47.0   68.0\n",
       " 0.0   0.0    0.0   6.0   13.0   24.0\n",
       " 0.0   0.0    0.0   0.0   32.0   58.0\n",
       " 0.0   0.0    0.0   0.0    0.0   45.0\n",
       " 0.0   0.0    0.0   0.0    0.0    0.0"
      ]
     },
     "metadata": {},
     "output_type": "display_data"
    }
   ],
   "source": [
    "nodes = get_all_nodes(file)\n",
    "Ws = create_series_adj_mat(file, nodes)\n",
    "As = [sign.(W) for W in Ws]\n",
    "\n",
    "i=1; inc = 1;\n",
    "display((sum(abs.(As[i + inc] .- As[i]))/2, sum(As[i])/2, sum(As[i+inc])/2))\n",
    "\n",
    "overlap = zeros(6,6)\n",
    "for i in 1:6, j in 1:6\n",
    "    overlap[i,j] = sum(As[i].*As[j]) / sum(sign.(As[i] .+ As[j]))\n",
    "end\n",
    "display(overlap)\n",
    "\n",
    "#how many links vanish?\n",
    "not_vanish = zeros(6,6)\n",
    "vanish_abs = zeros(6,6)\n",
    "for i in 1:6\n",
    "    for j in i:6\n",
    "        not_vanish[i,j] = sum(As[i].*As[j]) / sum(As[i])\n",
    "        vanish_abs[i,j] = (sum(As[i]) - sum(As[i].*As[j]))/2\n",
    "    end\n",
    "end\n",
    "display(not_vanish)\n",
    "display(vanish_abs)\n"
   ]
  },
  {
   "cell_type": "code",
   "execution_count": 6,
   "metadata": {},
   "outputs": [
    {
     "data": {
      "text/plain": [
       "6×6 Matrix{Float64}:\n",
       " 1.0  0.689655  0.721311  0.577982  0.514851  0.652174\n",
       " 0.0  1.0       0.868852  0.715596  0.683168  0.695652\n",
       " 0.0  0.0       1.0       0.504587  0.475248  0.536232\n",
       " 0.0  0.0       0.0       1.0       0.762376  0.73913\n",
       " 0.0  0.0       0.0       0.0       1.0       0.811594\n",
       " 0.0  0.0       0.0       0.0       0.0       1.0"
      ]
     },
     "metadata": {},
     "output_type": "display_data"
    },
    {
     "data": {
      "text/plain": [
       "6×6 Matrix{Float64}:\n",
       " 0.0  36.0  17.0  46.0  49.0  24.0\n",
       " 0.0   0.0   8.0  31.0  32.0  21.0\n",
       " 0.0   0.0   0.0  54.0  53.0  32.0\n",
       " 0.0   0.0   0.0   0.0  24.0  18.0\n",
       " 0.0   0.0   0.0   0.0   0.0  13.0\n",
       " 0.0   0.0   0.0   0.0   0.0   0.0"
      ]
     },
     "metadata": {},
     "output_type": "display_data"
    }
   ],
   "source": [
    "#how many links appear?\n",
    "appear = zeros(6,6)\n",
    "appear_abs = zeros(6,6)\n",
    "for i in 1:6\n",
    "    for j in i:6\n",
    "        appear[i,j] = sum(As[i].*As[j]) / sum(As[j])\n",
    "        appear_abs[i,j] = (sum(As[j]) - sum(As[i].*As[j])) / 2\n",
    "    end\n",
    "end\n",
    "display(appear)\n",
    "display(appear_abs)"
   ]
  },
  {
   "cell_type": "code",
   "execution_count": 7,
   "metadata": {},
   "outputs": [
    {
     "data": {
      "text/plain": [
       "6×6 Matrix{Float64}:\n",
       " 1.0  0.377778  0.111111  0.222222  0.222222  0.111111\n",
       " 0.0  1.0       0.307692  0.538462  0.461538  0.230769\n",
       " 0.0  0.0       1.0       1.0       0.888889  0.777778\n",
       " 0.0  0.0       0.0       1.0       0.692308  0.346154\n",
       " 0.0  0.0       0.0       0.0       1.0       0.5\n",
       " 0.0  0.0       0.0       0.0       0.0       1.0"
      ]
     },
     "metadata": {},
     "output_type": "display_data"
    },
    {
     "data": {
      "text/plain": [
       "6×6 Matrix{Float64}:\n",
       " 0.0  28.0  40.0  35.0  35.0  40.0\n",
       " 0.0   0.0  18.0  12.0  14.0  20.0\n",
       " 0.0   0.0   0.0   0.0   1.0   2.0\n",
       " 0.0   0.0   0.0   0.0   8.0  17.0\n",
       " 0.0   0.0   0.0   0.0   0.0  10.0\n",
       " 0.0   0.0   0.0   0.0   0.0   0.0"
      ]
     },
     "metadata": {},
     "output_type": "display_data"
    }
   ],
   "source": [
    "#find prob of triad vanishing\n",
    "all_triads = [get_triads2(As[i]) for i in 1:6]\n",
    "\n",
    "# intersect(all_triads[1], all_triads[2])\n",
    "\n",
    "#how many triads vanish?\n",
    "triad_not_vanish = zeros(6,6)\n",
    "triad_vanish_abs = zeros(6,6)\n",
    "for i in 1:6\n",
    "    for j in i:6\n",
    "        triad_not_vanish[i,j] = length(intersect(all_triads[i], all_triads[j])) / length(all_triads[i])\n",
    "        triad_vanish_abs[i,j] = length(all_triads[i]) - length(intersect(all_triads[i], all_triads[j]))\n",
    "    end\n",
    "end\n",
    "display(triad_not_vanish)\n",
    "display(triad_vanish_abs)"
   ]
  },
  {
   "cell_type": "code",
   "execution_count": 13,
   "metadata": {},
   "outputs": [
    {
     "data": {
      "text/plain": [
       "1×6 adjoint(::Vector{Int64}) with eltype Int64:\n",
       " 45  26  9  26  20  12"
      ]
     },
     "metadata": {},
     "output_type": "display_data"
    }
   ],
   "source": [
    "map(length, all_triads)'"
   ]
  },
  {
   "cell_type": "code",
   "execution_count": 9,
   "metadata": {},
   "outputs": [
    {
     "data": {
      "text/plain": [
       "get_wedges_single_edges (generic function with 1 method)"
      ]
     },
     "metadata": {},
     "output_type": "display_data"
    }
   ],
   "source": [
    "function get_wedges_single_edges(A)\n",
    "    N = size(A)[1]\n",
    "\n",
    "    wedges = []\n",
    "    single_edges = []\n",
    "\n",
    "    for i in 1:N\n",
    "        for j in (i+1):N\n",
    "            for k in (j+1):N\n",
    "                if A[i,k] + A[j,k] + A[i,j] == 2\n",
    "                    push!(wedges, (i,j,k))\n",
    "                elseif A[i,k] + A[j,k] + A[i,j] == 1\n",
    "                    push!(single_edges, (i,j,k))\n",
    "                end\n",
    "            end\n",
    "        end\n",
    "    end\n",
    "    \n",
    "    return wedges, single_edges\n",
    "end"
   ]
  },
  {
   "cell_type": "code",
   "execution_count": 10,
   "metadata": {},
   "outputs": [],
   "source": [
    "all_wedges = []\n",
    "all_singles = []\n",
    "for i in 1:6\n",
    "    wedges, single_edges = get_wedges_single_edges(As[i])\n",
    "    push!(all_wedges, wedges)\n",
    "    push!(all_singles, single_edges)\n",
    "end"
   ]
  },
  {
   "cell_type": "code",
   "execution_count": 11,
   "metadata": {},
   "outputs": [
    {
     "data": {
      "text/plain": [
       "understand_triad_apperance (generic function with 1 method)"
      ]
     },
     "metadata": {},
     "output_type": "display_data"
    }
   ],
   "source": [
    "function understand_triad_apperance(As)\n",
    "    num_mats = length(As)\n",
    "\n",
    "    all_triads = [get_triads2(As[i]) for i in 1:num_mats]\n",
    "    all_wedges = []\n",
    "    all_singles = []\n",
    "    for i in 1:num_mats\n",
    "        wedges, single_edges = get_wedges_single_edges(As[i])\n",
    "        push!(all_wedges, wedges)\n",
    "        push!(all_singles, single_edges)\n",
    "    end\n",
    "\n",
    "    \n",
    "\n",
    "    triad_appear = zeros(num_mats,num_mats)\n",
    "    triad_appear_wedges = zeros(num_mats,num_mats)\n",
    "    triad_appear_single = zeros(num_mats,num_mats)\n",
    "    triad_appear_nowhere = zeros(num_mats,num_mats)\n",
    "\n",
    "    for i in 1:num_mats\n",
    "        for j in i:num_mats\n",
    "            triad_appear[i,j] = length(all_triads[j]) - length(intersect(all_triads[i], all_triads[j]))\n",
    "            new_triads = setdiff(all_triads[j], all_triads[i])\n",
    "            @assert length(new_triads) == triad_appear[i,j]\n",
    "            triad_appear_wedges[i,j] = length(intersect(new_triads, all_wedges[i]))\n",
    "\n",
    "            triad_appear_single[i,j] = length(intersect(new_triads, all_singles[i]))\n",
    "            # triad_vanish_abs[i,j] = length(all_triads[i]) - length(intersect(all_triads[i], all_triads[j]))\n",
    "            triad_appear_nowhere[i,j] = triad_appear[i,j] - triad_appear_wedges[i, j] - triad_appear_single[i, j]\n",
    "        end\n",
    "    end\n",
    "    return triad_appear, triad_appear_wedges, triad_appear_single, triad_appear_nowhere\n",
    "end"
   ]
  },
  {
   "cell_type": "code",
   "execution_count": 12,
   "metadata": {},
   "outputs": [
    {
     "data": {
      "text/plain": [
       "6×6 Matrix{Float64}:\n",
       " 0.0  9.0  4.0  16.0  10.0  7.0\n",
       " 0.0  0.0  1.0  12.0   8.0  6.0\n",
       " 0.0  0.0  0.0  17.0  12.0  5.0\n",
       " 0.0  0.0  0.0   0.0   2.0  3.0\n",
       " 0.0  0.0  0.0   0.0   0.0  2.0\n",
       " 0.0  0.0  0.0   0.0   0.0  0.0"
      ]
     },
     "metadata": {},
     "output_type": "display_data"
    },
    {
     "data": {
      "text/plain": [
       "6×6 Matrix{Float64}:\n",
       " 0.0  8.0  4.0   9.0  5.0  4.0\n",
       " 0.0  0.0  1.0   9.0  5.0  3.0\n",
       " 0.0  0.0  0.0  12.0  9.0  2.0\n",
       " 0.0  0.0  0.0   0.0  2.0  2.0\n",
       " 0.0  0.0  0.0   0.0  0.0  2.0\n",
       " 0.0  0.0  0.0   0.0  0.0  0.0"
      ]
     },
     "metadata": {},
     "output_type": "display_data"
    },
    {
     "data": {
      "text/plain": [
       "6×6 Matrix{Float64}:\n",
       " 0.0  1.0  0.0  7.0  4.0  2.0\n",
       " 0.0  0.0  0.0  3.0  3.0  2.0\n",
       " 0.0  0.0  0.0  4.0  3.0  3.0\n",
       " 0.0  0.0  0.0  0.0  0.0  1.0\n",
       " 0.0  0.0  0.0  0.0  0.0  0.0\n",
       " 0.0  0.0  0.0  0.0  0.0  0.0"
      ]
     },
     "metadata": {},
     "output_type": "display_data"
    },
    {
     "data": {
      "text/plain": [
       "6×6 Matrix{Float64}:\n",
       " 0.0  0.0  0.0  0.0  1.0  1.0\n",
       " 0.0  0.0  0.0  0.0  0.0  1.0\n",
       " 0.0  0.0  0.0  1.0  0.0  0.0\n",
       " 0.0  0.0  0.0  0.0  0.0  0.0\n",
       " 0.0  0.0  0.0  0.0  0.0  0.0\n",
       " 0.0  0.0  0.0  0.0  0.0  0.0"
      ]
     },
     "metadata": {},
     "output_type": "display_data"
    }
   ],
   "source": [
    "# find prob of tried appearing (from wedges, from single link, from nowhere)\n",
    "\n",
    "triad_appear = zeros(6,6)\n",
    "triad_appear_wedges = zeros(6,6)\n",
    "triad_appear_single = zeros(6,6)\n",
    "triad_appear_nowhere = zeros(6,6)\n",
    "for i in 1:6\n",
    "    for j in i:6\n",
    "        triad_appear[i,j] = length(all_triads[j]) - length(intersect(all_triads[i], all_triads[j]))\n",
    "        new_triads = setdiff(all_triads[j], all_triads[i])\n",
    "        @assert length(new_triads) == triad_appear[i,j]\n",
    "        triad_appear_wedges[i,j] = length(intersect(new_triads, all_wedges[i]))\n",
    "\n",
    "        triad_appear_single[i,j] = length(intersect(new_triads, all_singles[i]))\n",
    "        # triad_vanish_abs[i,j] = length(all_triads[i]) - length(intersect(all_triads[i], all_triads[j]))\n",
    "        triad_appear_nowhere[i,j] = triad_appear[i,j] - triad_appear_wedges[i, j] - triad_appear_single[i, j]\n",
    "    end\n",
    "end\n",
    "display(triad_appear)\n",
    "display(triad_appear_wedges)\n",
    "display(triad_appear_single)\n",
    "display(triad_appear_nowhere)"
   ]
  },
  {
   "cell_type": "code",
   "execution_count": 13,
   "metadata": {},
   "outputs": [],
   "source": [
    "# test\n",
    "triad_appear2, triad_appear_wedges2, triad_appear_single2, triad_appear_nowhere2 = understand_triad_apperance(As)\n",
    "\n",
    "@assert triad_appear_wedges2 == triad_appear_wedges\n",
    "@assert triad_appear_single2 == triad_appear_single\n",
    "@assert triad_appear_nowhere2 == triad_appear_nowhere\n",
    "@assert triad_appear == triad_appear2"
   ]
  },
  {
   "cell_type": "code",
   "execution_count": 14,
   "metadata": {},
   "outputs": [
    {
     "data": {
      "text/plain": [
       "36.0"
      ]
     },
     "metadata": {},
     "output_type": "display_data"
    },
    {
     "data": {
      "text/plain": [
       "2×2 Matrix{Float64}:\n",
       " 0.0  0.0\n",
       " 0.0  0.0"
      ]
     },
     "metadata": {},
     "output_type": "display_data"
    },
    {
     "data": {
      "text/plain": [
       "2×2 Matrix{Float64}:\n",
       " 0.0  0.0\n",
       " 0.0  0.0"
      ]
     },
     "metadata": {},
     "output_type": "display_data"
    },
    {
     "data": {
      "text/plain": [
       "2×2 Matrix{Float64}:\n",
       " 0.0  0.0\n",
       " 0.0  0.0"
      ]
     },
     "metadata": {},
     "output_type": "display_data"
    },
    {
     "data": {
      "text/plain": [
       "2×2 Matrix{Float64}:\n",
       " 0.0  0.0\n",
       " 0.0  0.0"
      ]
     },
     "metadata": {},
     "output_type": "display_data"
    }
   ],
   "source": [
    "# Let's make an expetiment. \n",
    "# Lets remove connections that vanish from term I and \n",
    "# randomly new connections and \n",
    "# see how many new triads were formed, and from which structures. \n",
    "\n",
    "#removing edges from A1\n",
    "start_term = 1\n",
    "inc = 1\n",
    "A1r = As[start_term] .* As[start_term + inc] \n",
    "\n",
    "# We need to add this amount of new links:\n",
    "display(appear_abs[start_term, start_term + inc])\n",
    "N = length(nodes)\n",
    "\n",
    "added = 0\n",
    "while added < appear_abs[start_term, start_term + inc]\n",
    "    i, j = rand(1:N, 2)\n",
    "    if i==j continue\n",
    "    elseif A1r[i,j] > 0\n",
    "        continue\n",
    "    else\n",
    "        A1r[i,j] = A1r[j,i] = 1\n",
    "        added += 1\n",
    "    end\n",
    "end\n",
    "# display(\"finishes\")\n",
    "\n",
    "triad_appear2, triad_appear_wedges2, triad_appear_single2, triad_appear_nowhere2 = understand_triad_apperance([As[start_term], A1r])\n",
    "display(triad_appear2)\n",
    "display(triad_appear_wedges2)\n",
    "display(triad_appear_single2)\n",
    "display(triad_appear_nowhere2)\n",
    "\n",
    "# Conclusion:\n",
    "# As expected, more triads are created than random would expect"
   ]
  },
  {
   "cell_type": "code",
   "execution_count": 15,
   "metadata": {},
   "outputs": [
    {
     "data": {
      "text/plain": [
       "60"
      ]
     },
     "metadata": {},
     "output_type": "display_data"
    },
    {
     "data": {
      "text/plain": [
       "6-element Vector{Matrix{Int64}}:\n",
       " [0 1 … 0 0; 1 0 … 0 0; … ; 0 0 … 0 0; 0 0 … 0 0]\n",
       " [0 0 … 0 0; 0 0 … 0 0; … ; 0 0 … 0 0; 0 0 … 0 0]\n",
       " [0 0 … 0 0; 0 0 … 0 0; … ; 0 0 … 0 0; 0 0 … 0 0]\n",
       " [0 0 … 0 0; 0 0 … 0 1; … ; 0 0 … 0 0; 0 1 … 0 0]\n",
       " [0 0 … 0 0; 0 0 … 0 0; … ; 0 0 … 0 0; 0 0 … 0 0]\n",
       " [0 0 … 0 0; 0 0 … 0 0; … ; 0 0 … 0 0; 0 0 … 0 0]"
      ]
     },
     "metadata": {},
     "output_type": "display_data"
    }
   ],
   "source": [
    "# Let's check how many people are in triads\n",
    "\n",
    "triad_nodes = sort(unique([node for triads in all_triads for triad in triads for node in triad]))\n",
    "display(length(triad_nodes))\n",
    "\n",
    "# There are only 60 nodes, so lets repeat above experiment with generating links only among these agents. \n",
    "# But first I need to count how many edges were added among those agents\n",
    "\n",
    "As2 = [As[i][triad_nodes, triad_nodes] for i in 1:6]"
   ]
  },
  {
   "cell_type": "code",
   "execution_count": 16,
   "metadata": {},
   "outputs": [
    {
     "data": {
      "text/plain": [
       "6×6 Matrix{Float64}:\n",
       " 1.0  0.763158  0.770833  0.626667  0.602941  0.705882\n",
       " 0.0  1.0       0.875     0.733333  0.705882  0.705882\n",
       " 0.0  0.0       1.0       0.586667  0.573529  0.627451\n",
       " 0.0  0.0       0.0       1.0       0.823529  0.764706\n",
       " 0.0  0.0       0.0       0.0       1.0       0.843137\n",
       " 0.0  0.0       0.0       0.0       0.0       1.0"
      ]
     },
     "metadata": {},
     "output_type": "display_data"
    },
    {
     "data": {
      "text/plain": [
       "6×6 Matrix{Float64}:\n",
       " 0.0  18.0  11.0  28.0  27.0  15.0\n",
       " 0.0   0.0   6.0  20.0  20.0  15.0\n",
       " 0.0   0.0   0.0  31.0  29.0  19.0\n",
       " 0.0   0.0   0.0   0.0  12.0  12.0\n",
       " 0.0   0.0   0.0   0.0   0.0   8.0\n",
       " 0.0   0.0   0.0   0.0   0.0   0.0"
      ]
     },
     "metadata": {},
     "output_type": "display_data"
    }
   ],
   "source": [
    "#how many links appear?\n",
    "appear_triads = zeros(6,6)\n",
    "appear_abs_triads = zeros(6,6)\n",
    "for i in 1:6\n",
    "    for j in i:6\n",
    "        appear_triads[i,j] = sum(As2[i].*As2[j]) / sum(As2[j])\n",
    "        appear_abs_triads[i,j] = (sum(As2[j]) - sum(As2[i].*As2[j])) / 2\n",
    "    end\n",
    "end\n",
    "display(appear_triads)\n",
    "display(appear_abs_triads)"
   ]
  },
  {
   "cell_type": "code",
   "execution_count": 17,
   "metadata": {},
   "outputs": [
    {
     "data": {
      "text/plain": [
       "18.0"
      ]
     },
     "metadata": {},
     "output_type": "display_data"
    },
    {
     "data": {
      "text/plain": [
       "2×2 Matrix{Float64}:\n",
       " 0.0  1.0\n",
       " 0.0  0.0"
      ]
     },
     "metadata": {},
     "output_type": "display_data"
    },
    {
     "data": {
      "text/plain": [
       "2×2 Matrix{Float64}:\n",
       " 0.0  0.0\n",
       " 0.0  0.0"
      ]
     },
     "metadata": {},
     "output_type": "display_data"
    },
    {
     "data": {
      "text/plain": [
       "2×2 Matrix{Float64}:\n",
       " 0.0  1.0\n",
       " 0.0  0.0"
      ]
     },
     "metadata": {},
     "output_type": "display_data"
    },
    {
     "data": {
      "text/plain": [
       "2×2 Matrix{Float64}:\n",
       " 0.0  0.0\n",
       " 0.0  0.0"
      ]
     },
     "metadata": {},
     "output_type": "display_data"
    }
   ],
   "source": [
    "# Experiment 2. \n",
    "\n",
    "#removing edges from A1\n",
    "start_term = 1\n",
    "inc = 1\n",
    "A1r = As2[start_term] .* As2[start_term + inc] \n",
    "\n",
    "# We need to add this amount of new links:\n",
    "display(appear_abs_triads[start_term, start_term + inc])\n",
    "N = length(triad_nodes)\n",
    "\n",
    "added = 0\n",
    "while added < appear_abs_triads[start_term, start_term + inc]\n",
    "    i, j = rand(1:N, 2)\n",
    "    if i==j continue\n",
    "    elseif A1r[i,j] > 0\n",
    "        continue\n",
    "    else\n",
    "        A1r[i,j] = A1r[j,i] = 1\n",
    "        added += 1\n",
    "    end\n",
    "end\n",
    "# display(\"finishes\")\n",
    "\n",
    "triad_appear3, triad_appear_wedges3, triad_appear_single3, triad_appear_nowhere3 = understand_triad_apperance([As2[start_term], A1r])\n",
    "display(triad_appear3)\n",
    "display(triad_appear_wedges3)\n",
    "display(triad_appear_single3)\n",
    "display(triad_appear_nowhere3)\n",
    "\n",
    "# Conclusion:\n",
    "# As expected, more triads are created than random would expect"
   ]
  },
  {
   "cell_type": "code",
   "execution_count": 18,
   "metadata": {},
   "outputs": [
    {
     "data": {
      "text/plain": [
       "6.0"
      ]
     },
     "metadata": {},
     "output_type": "display_data"
    },
    {
     "data": {
      "text/plain": [
       "2×2 Matrix{Float64}:\n",
       " 0.0  4.0\n",
       " 0.0  0.0"
      ]
     },
     "metadata": {},
     "output_type": "display_data"
    },
    {
     "data": {
      "text/plain": [
       "2×2 Matrix{Float64}:\n",
       " 0.0  3.0\n",
       " 0.0  0.0"
      ]
     },
     "metadata": {},
     "output_type": "display_data"
    },
    {
     "data": {
      "text/plain": [
       "2×2 Matrix{Float64}:\n",
       " 0.0  1.0\n",
       " 0.0  0.0"
      ]
     },
     "metadata": {},
     "output_type": "display_data"
    },
    {
     "data": {
      "text/plain": [
       "2×2 Matrix{Float64}:\n",
       " 0.0  0.0\n",
       " 0.0  0.0"
      ]
     },
     "metadata": {},
     "output_type": "display_data"
    }
   ],
   "source": [
    "# OK, lets try to generate triads more frequently. \n",
    "# There will be a new parameter for closing triads.\n",
    "\n",
    "close_triad = 0.7\n",
    "\n",
    "# function get_nodes_in_triads(A)\n",
    "#     triads = get_triads2(A)\n",
    "\n",
    "#     return sort(unique([node for triad in triads for node in triad.nodes]))\n",
    "# end\n",
    "\n",
    "# Experiment 3. \n",
    "\n",
    "#removing edges from A1\n",
    "start_term = 2\n",
    "inc = 1\n",
    "A1r = As2[start_term] .* As2[start_term + inc] \n",
    "\n",
    "# We need to add this amount of new links:\n",
    "display(appear_abs_triads[start_term, start_term + inc])\n",
    "N = length(triad_nodes)\n",
    "\n",
    "added = 0\n",
    "while added < appear_abs_triads[start_term, start_term + inc]\n",
    "    wedges_t, single_t = get_wedges_single_edges(A1r)\n",
    "    if rand() < close_triad\n",
    "        wedge = rand(wedges_t)\n",
    "        if A1r[wedge[1], wedge[2]] == 0\n",
    "            i, j = wedge[1], wedge[2]\n",
    "        elseif A1r[wedge[1], wedge[3]] == 0\n",
    "            i, j = wedge[1], wedge[3]\n",
    "        else i, j = wedge[2], wedge[3]\n",
    "        end\n",
    "    else\n",
    "        i, j = rand(1:N, 2)\n",
    "        if i==j continue\n",
    "        elseif A1r[i,j] > 0\n",
    "            continue\n",
    "        end\n",
    "    end\n",
    "    A1r[i,j] = A1r[j,i] = 1\n",
    "    added += 1\n",
    "end\n",
    "# display(\"finishes\")\n",
    "\n",
    "triad_appear3, triad_appear_wedges3, triad_appear_single3, triad_appear_nowhere3 = understand_triad_apperance([As2[start_term], A1r])\n",
    "display(triad_appear3)\n",
    "display(triad_appear_wedges3)\n",
    "display(triad_appear_single3)\n",
    "display(triad_appear_nowhere3)\n",
    "\n",
    "# Conclusion:\n",
    "# As expected, more triads are created than random would expect"
   ]
  },
  {
   "cell_type": "code",
   "execution_count": 19,
   "metadata": {},
   "outputs": [
    {
     "data": {
      "text/plain": [
       "calc_difs_only_numT (generic function with 1 method)"
      ]
     },
     "metadata": {},
     "output_type": "display_data"
    }
   ],
   "source": [
    "# defining functions to calibrate this probability\n",
    "function add_edges!(A1r, edges_to_add, close_triad)\n",
    "    N = size(A1r)[1]\n",
    "\n",
    "    added = 0\n",
    "    while added < edges_to_add\n",
    "        wedges_t, single_t = get_wedges_single_edges(A1r)\n",
    "        if rand() < close_triad\n",
    "            wedge = rand(wedges_t)\n",
    "            if A1r[wedge[1], wedge[2]] == 0\n",
    "                i, j = wedge[1], wedge[2]\n",
    "            elseif A1r[wedge[1], wedge[3]] == 0\n",
    "                i, j = wedge[1], wedge[3]\n",
    "            else i, j = wedge[2], wedge[3]\n",
    "            end\n",
    "        else\n",
    "            i, j = rand(1:N, 2)\n",
    "            if i==j continue\n",
    "            elseif A1r[i,j] > 0\n",
    "                continue\n",
    "            end\n",
    "        end\n",
    "        A1r[i,j] = A1r[j,i] = 1\n",
    "        added += 1\n",
    "    end\n",
    "end\n",
    "\n",
    "function calc_difs(close_triad_prob; term_pairs = [(1, 2), (2, 3), (2, 4), (3, 4), (4, 5), (5, 6)], repetitions = 10)\n",
    "    dif = 0\n",
    "\n",
    "    for _ in 1:repetitions\n",
    "        for term_pair in term_pairs\n",
    "            start_term = term_pair[1]\n",
    "            inc = term_pair[2] - start_term\n",
    "\n",
    "            A1r = As2[start_term] .* As2[start_term + inc] \n",
    "            add_edges!(A1r, appear_abs_triads[start_term, start_term + inc], close_triad_prob)\n",
    "            triad_appear3, triad_appear_wedges3, triad_appear_single3, triad_appear_nowhere3 = understand_triad_apperance([As2[start_term], A1r])\n",
    "\n",
    "            dif += abs(triad_appear[term_pair...] - triad_appear3[1,2])\n",
    "            dif += abs(triad_appear_wedges[term_pair...] - triad_appear_wedges3[1,2])\n",
    "            dif += abs(triad_appear_single[term_pair...] - triad_appear_single3[1,2])\n",
    "            dif += abs(triad_appear_nowhere[term_pair...] - triad_appear_nowhere3[1,2])\n",
    "        end\n",
    "    end\n",
    "    return dif\n",
    "end\n",
    "\n",
    "function calc_difs_only_numT(close_triad_prob; term_pairs = [(1, 2), (2, 3), (2, 4), (3, 4), (4, 5), (5, 6)], repetitions = 10)\n",
    "    dif = 0\n",
    "\n",
    "    for _ in 1:repetitions\n",
    "        for term_pair in term_pairs\n",
    "            start_term = term_pair[1]\n",
    "            inc = term_pair[2] - start_term\n",
    "\n",
    "            A1r = As2[start_term] .* As2[start_term + inc] \n",
    "            add_edges!(A1r, appear_abs_triads[start_term, start_term + inc], close_triad_prob)\n",
    "            triad_appear3, triad_appear_wedges3, triad_appear_single3, triad_appear_nowhere3 = understand_triad_apperance([As2[start_term], A1r])\n",
    "\n",
    "            dif += abs(triad_appear[term_pair...] - triad_appear3[1,2])\n",
    "        end\n",
    "    end\n",
    "    return dif\n",
    "end"
   ]
  },
  {
   "cell_type": "code",
   "execution_count": 20,
   "metadata": {},
   "outputs": [
    {
     "data": {
      "text/plain": [
       "4208.0"
      ]
     },
     "metadata": {},
     "output_type": "display_data"
    }
   ],
   "source": [
    "# calibration!\n",
    "# We choose pairs of terms that will be compared. \n",
    "term_pairs = [(1, 2), (2, 3), (2, 4), (3, 4), (4, 5), (5, 6)]\n",
    "repetitions = 100\n",
    "\n",
    "close_triad_prob = 0.3\n",
    "\n",
    "dif = 0\n",
    "\n",
    "for _ in 1:repetitions\n",
    "    for term_pair in term_pairs\n",
    "        start_term = term_pair[1]\n",
    "        inc = term_pair[2] - start_term\n",
    "\n",
    "        A1r = As2[start_term] .* As2[start_term + inc] \n",
    "        add_edges!(A1r, appear_abs_triads[start_term, start_term + inc], close_triad_prob)\n",
    "        triad_appear3, triad_appear_wedges3, triad_appear_single3, triad_appear_nowhere3 = understand_triad_apperance([As2[start_term], A1r])\n",
    "\n",
    "        dif += abs(triad_appear[term_pair...] - triad_appear3[1,2])\n",
    "        dif += abs(triad_appear_wedges[term_pair...] - triad_appear_wedges3[1,2])\n",
    "        dif += abs(triad_appear_single[term_pair...] - triad_appear_single3[1,2])\n",
    "        dif += abs(triad_appear_nowhere[term_pair...] - triad_appear_nowhere3[1,2])\n",
    "    end\n",
    "end\n",
    "\n",
    "dif"
   ]
  },
  {
   "cell_type": "markdown",
   "metadata": {},
   "source": [
    "## Let's count attribute changes now"
   ]
  },
  {
   "cell_type": "code",
   "execution_count": 21,
   "metadata": {},
   "outputs": [
    {
     "data": {
      "text/plain": [
       "Dict{String, Set{Any}} with 12 entries:\n",
       "  \"premaritalsex_\" => Set([2, 3, 1])\n",
       "  \"ethnicity_1\"    => Set([4, 2, 3, 1])\n",
       "  \"hometown_1\"     => Set([2, 3, 1])\n",
       "  \"political_\"     => Set([2, 3, 1])\n",
       "  \"abortion_\"      => Set([2, 3, 1])\n",
       "  \"homosexual_\"    => Set([2, 3, 1])\n",
       "  \"marijuana_\"     => Set([2, 3, 1])\n",
       "  \"gender_1\"       => Set([2, 1])\n",
       "  \"gaymarriage_\"   => Set([2, 3, 1])\n",
       "  \"deathpen_\"      => Set([2, 3, 1])\n",
       "  \"euthanasia_\"    => Set([2, 3, 1])\n",
       "  \"age_1\"          => Set([2, 1])"
      ]
     },
     "metadata": {},
     "output_type": "display_data"
    }
   ],
   "source": [
    "#creating list of attributes\n",
    "list_of_attributes = Set([k for n in file[1].nodes for k in keys(file[1].nodes[n+1])])\n",
    "\n",
    "# creating possible attribute values\n",
    "attribute_values = Dict((attribute, Set() ) for attribute in list_of_attributes)\n",
    "\n",
    "for sem in 1:6\n",
    "    for node in file[sem].nodes()\n",
    "        for attribute in list_of_attributes\n",
    "            push!(attribute_values[attribute], convert(Int, file[sem].nodes[node + 1][attribute]))\n",
    "        end\n",
    "    end\n",
    "end\n",
    "\n",
    "attribute_values\n",
    "\n",
    "#To apply PCA or other analysis on all attributes (i.e. including ethnicity) \n",
    "#one would have to create an attribute for each race, that is is_1, is_2 etc. \n",
    "#Because this attribute is not ordered. "
   ]
  },
  {
   "cell_type": "code",
   "execution_count": 22,
   "metadata": {},
   "outputs": [
    {
     "data": {
      "text/plain": [
       "Dict{Int64, Matrix{Float64}} with 6 entries:\n",
       "  5 => [3.0 3.0 … 2.0 1.0; 3.0 3.0 … 2.0 2.0; … ; NaN NaN … NaN NaN; 1.0 3.0 … …\n",
       "  4 => [3.0 3.0 … 2.0 1.0; 3.0 3.0 … 2.0 1.0; … ; 1.0 1.0 … 1.0 1.0; 1.0 3.0 … …\n",
       "  6 => [NaN NaN … NaN NaN; 3.0 3.0 … 2.0 2.0; … ; NaN NaN … NaN NaN; NaN NaN … …\n",
       "  2 => [NaN NaN … NaN NaN; 3.0 3.0 … 2.0 2.0; … ; NaN NaN … NaN NaN; NaN NaN … …\n",
       "  3 => [3.0 3.0 … 2.0 1.0; 3.0 1.0 … 2.0 2.0; … ; NaN NaN … NaN NaN; NaN NaN … …\n",
       "  1 => [3.0 3.0 … 2.0 1.0; 2.0 2.0 … 2.0 1.0; … ; NaN NaN … NaN NaN; NaN NaN … …"
      ]
     },
     "metadata": {},
     "output_type": "display_data"
    }
   ],
   "source": [
    "#creating table of attribute values\n",
    "attributes = Dict((i, zeros(length(nodes), length(list_of_attributes))) for i in 1:6)\n",
    "# for i in 1:6\n",
    "#     attributes[i] = zeros(length(file[i].nodes), length(list_of_attributes))\n",
    "# end\n",
    "\n",
    "for sem in 1:6\n",
    "    for (i, node) in enumerate(nodes)\n",
    "        for (j, attribute) in enumerate(list_of_attributes)\n",
    "            if node in file[sem].nodes()\n",
    "                attributes[sem][i,j] = file[sem].nodes[node + 1][attribute]\n",
    "            else\n",
    "                attributes[sem][i,j] = NaN\n",
    "            end\n",
    "        end\n",
    "    end\n",
    "end\n",
    "attributes"
   ]
  },
  {
   "cell_type": "code",
   "execution_count": 23,
   "metadata": {},
   "outputs": [
    {
     "name": "stdout",
     "output_type": "stream",
     "text": [
      "Set([\"abortion_\", \"premaritalsex_\", \"homosexual_\", \"marijuana_\", \"euthanasia_\", \"gaymarriage_\", \"deathpen_\", \"political_\"])"
     ]
    },
    {
     "data": {
      "text/plain": [
       "Dict{Int64, Matrix{Float64}} with 6 entries:\n",
       "  5 => [3.0 3.0 … 3.0 1.0; 3.0 3.0 … 3.0 2.0; … ; NaN NaN … NaN NaN; 1.0 3.0 … …\n",
       "  4 => [3.0 3.0 … 3.0 1.0; 3.0 3.0 … 1.0 1.0; … ; 1.0 1.0 … 3.0 1.0; 1.0 3.0 … …\n",
       "  6 => [NaN NaN … NaN NaN; 3.0 3.0 … 3.0 2.0; … ; NaN NaN … NaN NaN; NaN NaN … …\n",
       "  2 => [NaN NaN … NaN NaN; 3.0 3.0 … 1.0 2.0; … ; NaN NaN … NaN NaN; NaN NaN … …\n",
       "  3 => [3.0 3.0 … 3.0 1.0; 3.0 1.0 … 1.0 2.0; … ; NaN NaN … NaN NaN; NaN NaN … …\n",
       "  1 => [3.0 3.0 … 3.0 1.0; 2.0 2.0 … 2.0 1.0; … ; NaN NaN … NaN NaN; NaN NaN … …"
      ]
     },
     "metadata": {},
     "output_type": "display_data"
    }
   ],
   "source": [
    "\n",
    "ord_list_of_attributes = setdiff(list_of_attributes, [\"ethnicity_1\", \"gender_1\", \"hometown_1\", \"age_1\"])\n",
    "print(ord_list_of_attributes)\n",
    "\n",
    "#creating table of attribute values\n",
    "ord_attributes = Dict((i, zeros(length(nodes), length(ord_list_of_attributes))) for i in 1:6)\n",
    "\n",
    "for sem in 1:6\n",
    "    for (i, node) in enumerate(nodes)\n",
    "        for (j, attribute) in enumerate(ord_list_of_attributes)\n",
    "            if node in file[sem].nodes()\n",
    "                ord_attributes[sem][i,j] = file[sem].nodes[node + 1][attribute]\n",
    "            else\n",
    "                ord_attributes[sem][i,j] = NaN\n",
    "            end\n",
    "        end\n",
    "    end\n",
    "end\n",
    "# for sem in range(1,7):\n",
    "#     for i, node in enumerate(data[sem].nodes()):\n",
    "#         for j, attribute in enumerate(ord_list_of_attributes):\n",
    "#             ord_attributes[sem][i,j] = data[sem].nodes[node][attribute]\n",
    "ord_attributes"
   ]
  },
  {
   "cell_type": "code",
   "execution_count": 24,
   "metadata": {},
   "outputs": [
    {
     "data": {
      "text/plain": [
       "count_attr_stays (generic function with 1 method)"
      ]
     },
     "metadata": {},
     "output_type": "display_data"
    }
   ],
   "source": [
    "# a change is a change of attribute from 1 to 2. a change from 1 to 3 are two changes. \n",
    "function count_attr_changes(ord_attributes)\n",
    "    sems = length(ord_attributes)\n",
    "    N = size(ord_attributes[1])[1]\n",
    "\n",
    "    changes = zeros(sems, sems)\n",
    "    max_change = zeros(sems, sems)\n",
    "\n",
    "    # for sem1 in 1:sems, sem2 in 1:sems\n",
    "    for i in 1:sems\n",
    "        for j in i:sems\n",
    "            attr_change = abs.(ord_attributes[i] .- ord_attributes[j])\n",
    "\n",
    "            changes[i,j] = sum(filter(!isnan, attr_change))\n",
    "            max_change[i,j] = length(filter(!isnan, attr_change))*2\n",
    "        end\n",
    "    end\n",
    "    return changes, max_change\n",
    "end\n",
    "\n",
    "# a change is a change of attribute from 1 to 2. a change from 1 to 3 are two changes. \n",
    "function count_attr_stays(ord_attributes)\n",
    "    sems = length(ord_attributes)\n",
    "    N = size(ord_attributes[1])[1]\n",
    "\n",
    "    stays = zeros(sems, sems)\n",
    "    max_stays = zeros(sems, sems)\n",
    "\n",
    "    # for sem1 in 1:sems, sem2 in 1:sems\n",
    "    for i in 1:sems\n",
    "        for j in i:sems\n",
    "            attr_stay = sum(ord_attributes[i] .== ord_attributes[j])\n",
    "\n",
    "            stays[i,j] = attr_stay\n",
    "            max_stays[i,j] = length(filter(!isnan, ord_attributes[i] .+ ord_attributes[j]))\n",
    "        end\n",
    "    end\n",
    "    return stays, max_stays\n",
    "end"
   ]
  },
  {
   "cell_type": "code",
   "execution_count": 25,
   "metadata": {},
   "outputs": [
    {
     "data": {
      "text/plain": [
       "6×6 Matrix{Float64}:\n",
       " 0.0  210.0  192.0  248.0  238.0  193.0\n",
       " 0.0    0.0  126.0  153.0  175.0  143.0\n",
       " 0.0    0.0    0.0  119.0  125.0  124.0\n",
       " 0.0    0.0    0.0    0.0  148.0  129.0\n",
       " 0.0    0.0    0.0    0.0    0.0  103.0\n",
       " 0.0    0.0    0.0    0.0    0.0    0.0"
      ]
     },
     "metadata": {},
     "output_type": "display_data"
    },
    {
     "data": {
      "text/plain": [
       "6×6 Matrix{Float64}:\n",
       " 1568.0  1376.0  1072.0  1360.0  1296.0  1008.0\n",
       "    0.0  1424.0  1040.0  1312.0  1248.0   960.0\n",
       "    0.0     0.0  1088.0  1072.0  1008.0   848.0\n",
       "    0.0     0.0     0.0  1424.0  1280.0   960.0\n",
       "    0.0     0.0     0.0     0.0  1360.0   992.0\n",
       "    0.0     0.0     0.0     0.0     0.0  1008.0"
      ]
     },
     "metadata": {},
     "output_type": "display_data"
    }
   ],
   "source": [
    "changes, max_change = count_attr_changes(ord_attributes)\n",
    "\n",
    "display(changes)\n",
    "display(max_change)"
   ]
  },
  {
   "cell_type": "code",
   "execution_count": 26,
   "metadata": {},
   "outputs": [
    {
     "data": {
      "text/plain": [
       "6×6 Matrix{Float64}:\n",
       "   0.0    0.152616    0.179104    0.182353    0.183642  0.191468\n",
       " NaN      0.0         0.121154    0.116616    0.140224  0.148958\n",
       " NaN    NaN           0.0         0.111007    0.124008  0.146226\n",
       " NaN    NaN         NaN           0.0         0.115625  0.134375\n",
       " NaN    NaN         NaN         NaN           0.0       0.103831\n",
       " NaN    NaN         NaN         NaN         NaN         0.0"
      ]
     },
     "metadata": {},
     "output_type": "display_data"
    }
   ],
   "source": [
    "changes ./ max_change"
   ]
  },
  {
   "cell_type": "code",
   "execution_count": 27,
   "metadata": {},
   "outputs": [
    {
     "data": {
      "text/plain": [
       "6×6 Matrix{Float64}:\n",
       " 784.0  525.0  388.0  491.0  462.0  361.0\n",
       "   0.0  712.0  421.0  531.0  485.0  372.0\n",
       "   0.0    0.0  544.0  440.0  404.0  331.0\n",
       "   0.0    0.0    0.0  712.0  522.0  378.0\n",
       "   0.0    0.0    0.0    0.0  680.0  412.0\n",
       "   0.0    0.0    0.0    0.0    0.0  504.0"
      ]
     },
     "metadata": {},
     "output_type": "display_data"
    },
    {
     "data": {
      "text/plain": [
       "6×6 Matrix{Float64}:\n",
       " 784.0  688.0  536.0  680.0  648.0  504.0\n",
       "   0.0  712.0  520.0  656.0  624.0  480.0\n",
       "   0.0    0.0  544.0  536.0  504.0  424.0\n",
       "   0.0    0.0    0.0  712.0  640.0  480.0\n",
       "   0.0    0.0    0.0    0.0  680.0  496.0\n",
       "   0.0    0.0    0.0    0.0    0.0  504.0"
      ]
     },
     "metadata": {},
     "output_type": "display_data"
    },
    {
     "data": {
      "text/plain": [
       "6×6 Matrix{Float64}:\n",
       "   1.0    0.763081    0.723881    0.722059    0.712963  0.71627\n",
       " NaN      1.0         0.809615    0.809451    0.777244  0.775\n",
       " NaN    NaN           1.0         0.820896    0.801587  0.78066\n",
       " NaN    NaN         NaN           1.0         0.815625  0.7875\n",
       " NaN    NaN         NaN         NaN           1.0       0.830645\n",
       " NaN    NaN         NaN         NaN         NaN         1.0"
      ]
     },
     "metadata": {},
     "output_type": "display_data"
    }
   ],
   "source": [
    "stays, max_stays = count_attr_stays(ord_attributes)\n",
    "\n",
    "display(stays)\n",
    "display(max_stays)\n",
    "display(stays ./ max_stays)"
   ]
  },
  {
   "cell_type": "markdown",
   "metadata": {},
   "source": [
    "## Now, let's see above only on triads"
   ]
  },
  {
   "cell_type": "code",
   "execution_count": 28,
   "metadata": {},
   "outputs": [
    {
     "data": {
      "text/plain": [
       "6×6 Matrix{Float64}:\n",
       " 0.0  128.0  146.0  169.0  151.0  151.0\n",
       " 0.0    0.0   94.0  107.0  108.0  114.0\n",
       " 0.0    0.0    0.0   91.0  102.0  111.0\n",
       " 0.0    0.0    0.0    0.0   93.0  104.0\n",
       " 0.0    0.0    0.0    0.0    0.0   76.0\n",
       " 0.0    0.0    0.0    0.0    0.0    0.0"
      ]
     },
     "metadata": {},
     "output_type": "display_data"
    },
    {
     "data": {
      "text/plain": [
       "6×6 Matrix{Float64}:\n",
       " 960.0  880.0  832.0  912.0  880.0  784.0\n",
       "   0.0  880.0  800.0  864.0  832.0  752.0\n",
       "   0.0    0.0  832.0  832.0  784.0  720.0\n",
       "   0.0    0.0    0.0  912.0  864.0  768.0\n",
       "   0.0    0.0    0.0    0.0  880.0  784.0\n",
       "   0.0    0.0    0.0    0.0    0.0  784.0"
      ]
     },
     "metadata": {},
     "output_type": "display_data"
    },
    {
     "data": {
      "text/plain": [
       "6×6 Matrix{Float64}:\n",
       "   0.0    0.145455    0.175481    0.185307    0.171591  0.192602\n",
       " NaN      0.0         0.1175      0.123843    0.129808  0.151596\n",
       " NaN    NaN           0.0         0.109375    0.130102  0.154167\n",
       " NaN    NaN         NaN           0.0         0.107639  0.135417\n",
       " NaN    NaN         NaN         NaN           0.0       0.0969388\n",
       " NaN    NaN         NaN         NaN         NaN         0.0"
      ]
     },
     "metadata": {},
     "output_type": "display_data"
    }
   ],
   "source": [
    "ord_attributes_triads = [ord_attributes[sem][triad_nodes, :] for sem in 1:6]\n",
    "\n",
    "changes, max_change = count_attr_changes(ord_attributes_triads)\n",
    "\n",
    "display(changes)\n",
    "display(max_change)\n",
    "display(changes ./ max_change)"
   ]
  },
  {
   "cell_type": "code",
   "execution_count": 29,
   "metadata": {},
   "outputs": [
    {
     "data": {
      "text/plain": [
       "6×6 Matrix{Float64}:\n",
       " 480.0  337.0  301.0  328.0  323.0  282.0\n",
       "   0.0  440.0  325.0  345.0  334.0  293.0\n",
       "   0.0    0.0  416.0  343.0  312.0  279.0\n",
       "   0.0    0.0    0.0  456.0  359.0  304.0\n",
       "   0.0    0.0    0.0    0.0  440.0  332.0\n",
       "   0.0    0.0    0.0    0.0    0.0  392.0"
      ]
     },
     "metadata": {},
     "output_type": "display_data"
    },
    {
     "data": {
      "text/plain": [
       "6×6 Matrix{Float64}:\n",
       " 480.0  440.0  416.0  456.0  440.0  392.0\n",
       "   0.0  440.0  400.0  432.0  416.0  376.0\n",
       "   0.0    0.0  416.0  416.0  392.0  360.0\n",
       "   0.0    0.0    0.0  456.0  432.0  384.0\n",
       "   0.0    0.0    0.0    0.0  440.0  392.0\n",
       "   0.0    0.0    0.0    0.0    0.0  392.0"
      ]
     },
     "metadata": {},
     "output_type": "display_data"
    },
    {
     "data": {
      "text/plain": [
       "6×6 Matrix{Float64}:\n",
       "   1.0    0.765909    0.723558    0.719298    0.734091  0.719388\n",
       " NaN      1.0         0.8125      0.798611    0.802885  0.779255\n",
       " NaN    NaN           1.0         0.824519    0.795918  0.775\n",
       " NaN    NaN         NaN           1.0         0.831019  0.791667\n",
       " NaN    NaN         NaN         NaN           1.0       0.846939\n",
       " NaN    NaN         NaN         NaN         NaN         1.0"
      ]
     },
     "metadata": {},
     "output_type": "display_data"
    }
   ],
   "source": [
    "stays, max_stays = count_attr_stays(ord_attributes_triads)\n",
    "\n",
    "display(stays)\n",
    "display(max_stays)\n",
    "display(stays ./ max_stays)"
   ]
  },
  {
   "cell_type": "markdown",
   "metadata": {},
   "source": [
    "## Let's count how many edges between nodes in triads vanish"
   ]
  },
  {
   "cell_type": "code",
   "execution_count": 30,
   "metadata": {},
   "outputs": [
    {
     "data": {
      "text/plain": [
       "(65.0, 105.0, 76.0)"
      ]
     },
     "metadata": {},
     "output_type": "display_data"
    },
    {
     "data": {
      "text/plain": [
       "6×6 Matrix{Float64}:\n",
       " 1.0       0.471545  0.318966  0.353383  0.310606  0.3\n",
       " 0.471545  1.0       0.512195  0.572917  0.5       0.395604\n",
       " 0.318966  0.512195  1.0       0.556962  0.506494  0.477612\n",
       " 0.353383  0.572917  0.556962  1.0       0.643678  0.448276\n",
       " 0.310606  0.5       0.506494  0.643678  1.0       0.565789\n",
       " 0.3       0.395604  0.477612  0.448276  0.565789  1.0"
      ]
     },
     "metadata": {},
     "output_type": "display_data"
    },
    {
     "data": {
      "text/plain": [
       "6×6 Matrix{Float64}:\n",
       " 1.0  0.552381  0.352381  0.447619  0.390476  0.342857\n",
       " 0.0  1.0       0.552632  0.723684  0.631579  0.473684\n",
       " 0.0  0.0       1.0       0.916667  0.8125    0.666667\n",
       " 0.0  0.0       0.0       1.0       0.746667  0.52\n",
       " 0.0  0.0       0.0       0.0       1.0       0.632353\n",
       " 0.0  0.0       0.0       0.0       0.0       1.0"
      ]
     },
     "metadata": {},
     "output_type": "display_data"
    },
    {
     "data": {
      "text/plain": [
       "6×6 Matrix{Float64}:\n",
       " 0.0  47.0  68.0  58.0  64.0  69.0\n",
       " 0.0   0.0  34.0  21.0  28.0  40.0\n",
       " 0.0   0.0   0.0   4.0   9.0  16.0\n",
       " 0.0   0.0   0.0   0.0  19.0  36.0\n",
       " 0.0   0.0   0.0   0.0   0.0  25.0\n",
       " 0.0   0.0   0.0   0.0   0.0   0.0"
      ]
     },
     "metadata": {},
     "output_type": "display_data"
    }
   ],
   "source": [
    "As2\n",
    "\n",
    "i=1; inc = 1;\n",
    "display((sum(abs.(As2[i + inc] .- As2[i]))/2, sum(As2[i])/2, sum(As2[i+inc])/2))\n",
    "\n",
    "overlap_nodes_triads = zeros(6,6)\n",
    "for i in 1:6, j in 1:6\n",
    "    overlap_nodes_triads[i,j] = sum(As2[i].*As2[j]) / sum(sign.(As2[i] .+ As2[j]))\n",
    "end\n",
    "display(overlap_nodes_triads)\n",
    "\n",
    "#how many links vanish?\n",
    "not_vanish_nodes_triads = zeros(6,6)\n",
    "vanish_abs_nodes_triads = zeros(6,6)\n",
    "for i in 1:6\n",
    "    for j in i:6\n",
    "        not_vanish_nodes_triads[i,j] = sum(As2[i].*As2[j]) / sum(As2[i])\n",
    "        vanish_abs_nodes_triads[i,j] = (sum(As2[i]) - sum(As2[i].*As2[j]))/2\n",
    "    end\n",
    "end\n",
    "display(not_vanish_nodes_triads)\n",
    "display(vanish_abs_nodes_triads)\n"
   ]
  },
  {
   "cell_type": "code",
   "execution_count": 31,
   "metadata": {},
   "outputs": [
    {
     "data": {
      "text/plain": [
       "6×6 Matrix{Float64}:\n",
       " 0.0  128.0  146.0  169.0  151.0  151.0\n",
       " 0.0    0.0   94.0  107.0  108.0  114.0\n",
       " 0.0    0.0    0.0   91.0  102.0  111.0\n",
       " 0.0    0.0    0.0    0.0   93.0  104.0\n",
       " 0.0    0.0    0.0    0.0    0.0   76.0\n",
       " 0.0    0.0    0.0    0.0    0.0    0.0"
      ]
     },
     "metadata": {},
     "output_type": "display_data"
    },
    {
     "data": {
      "text/plain": [
       "6×6 Matrix{Float64}:\n",
       " NaN    2.7234    2.14706    2.91379    2.35938    2.18841\n",
       " NaN  NaN         2.76471    5.09524    3.85714    2.85\n",
       " NaN  NaN       NaN         22.75      11.3333     6.9375\n",
       " NaN  NaN       NaN        NaN          4.89474    2.88889\n",
       " NaN  NaN       NaN        NaN        NaN          3.04\n",
       " NaN  NaN       NaN        NaN        NaN        NaN"
      ]
     },
     "metadata": {},
     "output_type": "display_data"
    }
   ],
   "source": [
    "# display(vanish_abs_nodes_triads)\n",
    "display(changes)\n",
    "display(changes ./ vanish_abs_nodes_triads)\n",
    "\n",
    "# diff = changes .- triad_vanish_abs\n",
    "# [diff[i, i+1] for i in 1:5]"
   ]
  },
  {
   "cell_type": "code",
   "execution_count": 32,
   "metadata": {},
   "outputs": [
    {
     "name": "stdout",
     "output_type": "stream",
     "text": [
      "Total number of attribute changes from term to term: 482.0\n",
      "Total number of edges vanished from term to term: 129.0\n"
     ]
    },
    {
     "data": {
      "text/plain": [
       "0.21112929623567922"
      ]
     },
     "metadata": {},
     "output_type": "display_data"
    }
   ],
   "source": [
    "attr_tot = sum([changes[i, i+1] for i in 1:5])\n",
    "println(\"Total number of attribute changes from term to term: \" * string(attr_tot))\n",
    "edges_vanish_tot = sum([vanish_abs_nodes_triads[i, i+1] for i in 1:5])\n",
    "println(\"Total number of edges vanished from term to term: \" * string(edges_vanish_tot))\n",
    "\n",
    "pr = edges_vanish_tot / (edges_vanish_tot + attr_tot)"
   ]
  },
  {
   "cell_type": "markdown",
   "metadata": {},
   "source": [
    "## Let's calculate link signs depending on threshold"
   ]
  },
  {
   "cell_type": "code",
   "execution_count": 34,
   "metadata": {},
   "outputs": [
    {
     "data": {
      "text/plain": [
       "60"
      ]
     },
     "metadata": {},
     "output_type": "display_data"
    }
   ],
   "source": [
    "G = 8\n",
    "th = 0.51\n",
    "v = 3\n",
    "aT = OrderedAttributes(G, th, v)\n",
    "N = 60\n"
   ]
  },
  {
   "cell_type": "code",
   "execution_count": 35,
   "metadata": {},
   "outputs": [
    {
     "data": {
      "text/plain": [
       "6-element Vector{Symmetric{Float64, Matrix{Float64}}}:\n",
       " [0.0 1.0 … NaN NaN; 1.0 0.0 … NaN NaN; … ; NaN NaN … 0.0 NaN; NaN NaN … NaN 0.0]\n",
       " [0.0 NaN … NaN NaN; NaN 0.0 … NaN NaN; … ; NaN NaN … 0.0 NaN; NaN NaN … NaN 0.0]\n",
       " [0.0 1.0 … NaN NaN; 1.0 0.0 … NaN NaN; … ; NaN NaN … 0.0 NaN; NaN NaN … NaN 0.0]\n",
       " [0.0 1.0 … -1.0 -1.0; 1.0 0.0 … -1.0 1.0; … ; -1.0 -1.0 … 0.0 -1.0; -1.0 1.0 … -1.0 0.0]\n",
       " [0.0 1.0 … NaN -1.0; 1.0 0.0 … NaN 1.0; … ; NaN NaN … 0.0 NaN; -1.0 1.0 … NaN 0.0]\n",
       " [0.0 NaN … NaN NaN; NaN 0.0 … NaN NaN; … ; NaN NaN … 0.0 NaN; NaN NaN … NaN 0.0]"
      ]
     },
     "metadata": {},
     "output_type": "display_data"
    }
   ],
   "source": [
    "attr= ord_attributes[2]\n",
    "\n",
    "sign.(Symmetric(get_attribute_layer_weights(aT, attr)))\n",
    "\n",
    "[Symmetric(sign.(get_attribute_layer_weights(aT, ord_attributes[i]))) for i in 1:6]"
   ]
  },
  {
   "cell_type": "code",
   "execution_count": 36,
   "metadata": {},
   "outputs": [
    {
     "data": {
      "text/plain": [
       "6-element Vector{Symmetric{Float64, Matrix{Float64}}}:\n",
       " [0.0 1.0 … NaN NaN; 1.0 0.0 … NaN NaN; … ; NaN NaN … 0.0 NaN; NaN NaN … NaN 0.0]\n",
       " [0.0 NaN … NaN NaN; NaN 0.0 … NaN NaN; … ; NaN NaN … 0.0 NaN; NaN NaN … NaN 0.0]\n",
       " [0.0 1.0 … NaN NaN; 1.0 0.0 … NaN NaN; … ; NaN NaN … 0.0 NaN; NaN NaN … NaN 0.0]\n",
       " [0.0 1.0 … -1.0 -1.0; 1.0 0.0 … -1.0 1.0; … ; -1.0 -1.0 … 0.0 -1.0; -1.0 1.0 … -1.0 0.0]\n",
       " [0.0 1.0 … NaN -1.0; 1.0 0.0 … NaN 1.0; … ; NaN NaN … 0.0 NaN; -1.0 1.0 … NaN 0.0]\n",
       " [0.0 NaN … NaN NaN; NaN 0.0 … NaN NaN; … ; NaN NaN … 0.0 NaN; NaN NaN … NaN 0.0]"
      ]
     },
     "metadata": {},
     "output_type": "display_data"
    }
   ],
   "source": [
    "attr = ord_attributes_triads[1]\n",
    "\n",
    "all_signs = [Symmetric(sign.(get_attribute_layer_weights(aT, ord_attributes[i]))) for i in 1:6]"
   ]
  },
  {
   "cell_type": "markdown",
   "metadata": {},
   "source": [
    "## Get triad transition probablities"
   ]
  },
  {
   "cell_type": "code",
   "execution_count": 43,
   "metadata": {},
   "outputs": [
    {
     "data": {
      "text/plain": [
       "66"
      ]
     },
     "metadata": {},
     "output_type": "display_data"
    }
   ],
   "source": [
    "# calculate list of triads\n",
    "\n",
    "all_triads_list = unique([triad for triads in all_triads for triad in triads])\n",
    "\n",
    "length(all_triads_list)"
   ]
  },
  {
   "cell_type": "code",
   "execution_count": 205,
   "metadata": {},
   "outputs": [
    {
     "data": {
      "text/plain": [
       "get_triad_transitions (generic function with 1 method)"
      ]
     },
     "metadata": {},
     "output_type": "display_data"
    }
   ],
   "source": [
    "#returns two values: \n",
    "# first value (true- balanced, false - unbalanced)\n",
    "# second value is triad type (0, 1, 2, 3) - number of negative links\n",
    "function get_triad_type(triad, signs)\n",
    "    links = [(triad[1], triad[2]), (triad[3], triad[2]), (triad[1], triad[3])]\n",
    "\n",
    "    triad_signs = [signs[link...] for link in links]\n",
    "\n",
    "    is_balanced = prod(triad_signs) > 0\n",
    "    triad_type = sum(triad_signs .== -1)\n",
    "\n",
    "    return is_balanced, triad_type\n",
    "end\n",
    "\n",
    "# Returns two Arrays. \n",
    "# First - balanced (1), unbalanced (2) or lack of triad (3). \n",
    "# Second - triad_type (0-3) or lack of triad (4). \n",
    "function get_triads_history(all_triads_list, all_signs)\n",
    "    T = length(all_triads_list)\n",
    "\n",
    "    triads_balanced_hist = Array{Any}(undef, T, 6)\n",
    "    triads_type_hist = Array{Any}(undef, T, 6)\n",
    "    for (ti, triad) in enumerate(all_triads_list), sem in 1:6\n",
    "        is_balanced = 3\n",
    "        triad_type = 4\n",
    "        if triad in all_triads[sem]\n",
    "            is_balanced, triad_type = get_triad_type(triad, all_signs[sem])\n",
    "            is_balanced = is_balanced ? 1 : 2\n",
    "        end\n",
    "        triads_balanced_hist[ti, sem] = is_balanced\n",
    "        triads_type_hist[ti, sem] = triad_type\n",
    "    end\n",
    "\n",
    "    return triads_balanced_hist, triads_type_hist\n",
    "end\n",
    "\n",
    "\n",
    "function get_triad_transitions(all_triads, threshold, attrs; all_triads_list = [] )\n",
    "    aT = OrderedAttributes(8, threshold, 3)\n",
    "\n",
    "    if isempty(all_triads_list)\n",
    "        all_triads_list = unique([triad for triads in all_triads for triad in triads])\n",
    "    end\n",
    "    T = length(all_triads_list)\n",
    "\n",
    "    all_signs = [Symmetric(sign.(get_attribute_layer_weights(aT, attrs[i]))) .* 1. for i in 1:6]\n",
    "    map(x-> x[x .== 0.] .= 1, all_signs)\n",
    "\n",
    "    triads_balanced_hist, triads_type_hist = get_triads_history(all_triads_list, all_signs)\n",
    "\n",
    "    bal_trans = zeros(3,3) \n",
    "    bal_trans2 = zeros(2,2) # let's remove all nans, so if the triad exist in semesters 1, 3, 4, then there are 2 transitions 1->3, 3->4\n",
    "\n",
    "    type_trans = zeros(5,5)\n",
    "    type_trans2 = zeros(4,4)\n",
    "\n",
    "    for (ti, triad) in enumerate(all_triads_list)\n",
    "        # for sem in 1:5\n",
    "        #     inds = triads_balanced_hist[ti, sem:(sem+1)]\n",
    "        #     bal_trans[inds...] += 1\n",
    "        #     inds = triads_type_hist[ti,sem:(sem+1)] .+ 1\n",
    "        #     type_trans[inds...] += 1\n",
    "        # end\n",
    "        inds = [[triads_balanced_hist[ti,i], triads_balanced_hist[ti,i+1]] for i in 1:5]\n",
    "        map((x) -> bal_trans[x...] += 1, inds)\n",
    "\n",
    "        inds = [[triads_type_hist[ti,i], triads_type_hist[ti, i+1]] .+ 1 for i in 1:5]\n",
    "        map((x) -> type_trans[x...] += 1, inds)\n",
    "\n",
    "        triad_exists = triads_balanced_hist[ti,:] .!= 3\n",
    "        els = sum(triad_exists)\n",
    "        if els == 1\n",
    "            continue\n",
    "        end\n",
    "        \n",
    "        bal_hist = triads_balanced_hist[ti, triad_exists]\n",
    "        type_hist = triads_type_hist[ti,triad_exists]\n",
    "\n",
    "        inds = [[bal_hist[i], bal_hist[i+1]] for i in 1:els-1]\n",
    "        map((x) -> bal_trans2[x...] += 1, inds)\n",
    "\n",
    "        inds = [[type_hist[i], type_hist[i+1]] .+ 1 for i in 1:els-1]\n",
    "        map((x) -> type_trans2[x...] += 1, inds)\n",
    "\n",
    "    end\n",
    "\n",
    "    return bal_trans, type_trans, bal_trans2, type_trans2\n",
    "end"
   ]
  },
  {
   "cell_type": "code",
   "execution_count": 208,
   "metadata": {},
   "outputs": [
    {
     "data": {
      "text/plain": [
       "3×3 Matrix{Float64}:\n",
       " 41.0   5.0   47.0\n",
       "  6.0  10.0   17.0\n",
       " 22.0   9.0  173.0"
      ]
     },
     "metadata": {},
     "output_type": "display_data"
    },
    {
     "data": {
      "text/plain": [
       "5×5 Matrix{Float64}:\n",
       " 21.0  3.0   1.0  0.0   19.0\n",
       "  3.0  7.0   2.0  1.0   14.0\n",
       "  1.0  2.0  18.0  0.0   28.0\n",
       "  0.0  0.0   1.0  2.0    3.0\n",
       "  9.0  6.0  13.0  3.0  173.0"
      ]
     },
     "metadata": {},
     "output_type": "display_data"
    },
    {
     "data": {
      "text/plain": [
       "2×2 Matrix{Float64}:\n",
       " 47.0   6.0\n",
       "  8.0  11.0"
      ]
     },
     "metadata": {},
     "output_type": "display_data"
    },
    {
     "data": {
      "text/plain": [
       "4×4 Matrix{Float64}:\n",
       " 23.0  3.0   1.0  0.0\n",
       "  3.0  8.0   4.0  1.0\n",
       "  2.0  2.0  21.0  1.0\n",
       "  0.0  0.0   1.0  2.0"
      ]
     },
     "metadata": {},
     "output_type": "display_data"
    }
   ],
   "source": [
    "bal_trans, type_trans, bal_trans2, type_trans2 = get_triad_transitions(all_triads, 0.49, ord_attributes; all_triads_list = [] )\n",
    "display(bal_trans)\n",
    "display(type_trans)\n",
    "display(bal_trans2)\n",
    "display(type_trans2)"
   ]
  },
  {
   "cell_type": "code",
   "execution_count": 209,
   "metadata": {},
   "outputs": [],
   "source": [
    "ths = [0:0.01:1...]\n",
    "bal_to_bals = []\n",
    "ubal_to_bals = []\n",
    "bal_to_bals2 = []\n",
    "ubal_to_bals2 = []\n",
    "\n",
    "for th in ths\n",
    "    res = get_triad_transitions(all_triads, th, ord_attributes; all_triads_list = all_triads_list )\n",
    "    bal_to_bal = res[1][1,1] / sum(res[1][1,1:2])\n",
    "    ubal_to_bal = res[1][2,1] / sum(res[1][2,1:2])\n",
    "    bal_to_bal2 = res[3][1,1] / sum(res[3][1,1:2])\n",
    "    ubal_to_bal2 = res[3][2,1] / sum(res[3][2,1:2])\n",
    "    \n",
    "    push!(bal_to_bals, bal_to_bal)\n",
    "    push!(ubal_to_bals, ubal_to_bal)\n",
    "    push!(bal_to_bals2, bal_to_bal2)\n",
    "    push!(ubal_to_bals2, ubal_to_bal2)\n",
    "end"
   ]
  },
  {
   "cell_type": "code",
   "execution_count": 204,
   "metadata": {},
   "outputs": [
    {
     "data": {
      "text/plain": [
       "103×103 Matrix{Float64}:\n",
       "   1.0   -1.0   -1.0   -1.0   -1.0  …  NaN    NaN    NaN    NaN    NaN\n",
       "  -1.0    1.0   -1.0   -1.0   -1.0     NaN    NaN    NaN    NaN    NaN\n",
       "  -1.0   -1.0    1.0   -1.0   -1.0     NaN    NaN    NaN    NaN    NaN\n",
       "  -1.0   -1.0   -1.0    1.0   -1.0     NaN    NaN    NaN    NaN    NaN\n",
       "  -1.0   -1.0   -1.0   -1.0    1.0     NaN    NaN    NaN    NaN    NaN\n",
       "  -1.0   -1.0   -1.0   -1.0   -1.0  …  NaN    NaN    NaN    NaN    NaN\n",
       "  -1.0   -1.0   -1.0   -1.0   -1.0     NaN    NaN    NaN    NaN    NaN\n",
       "  -1.0   -1.0   -1.0   -1.0   -1.0     NaN    NaN    NaN    NaN    NaN\n",
       "  -1.0   -1.0   -1.0   -1.0   -1.0     NaN    NaN    NaN    NaN    NaN\n",
       "  -1.0   -1.0   -1.0   -1.0   -1.0     NaN    NaN    NaN    NaN    NaN\n",
       "   ⋮                                ⋱                  ⋮           \n",
       "  -1.0   -1.0   -1.0   -1.0   -1.0     NaN    NaN    NaN    NaN    NaN\n",
       "  -1.0   -1.0   -1.0   -1.0   -1.0  …  NaN    NaN    NaN    NaN    NaN\n",
       "  -1.0   -1.0   -1.0   -1.0   -1.0     NaN    NaN    NaN    NaN    NaN\n",
       "  -1.0   -1.0   -1.0   -1.0   -1.0     NaN    NaN    NaN    NaN    NaN\n",
       " NaN    NaN    NaN    NaN    NaN         1.0  NaN    NaN    NaN    NaN\n",
       " NaN    NaN    NaN    NaN    NaN       NaN      1.0  NaN    NaN    NaN\n",
       " NaN    NaN    NaN    NaN    NaN    …  NaN    NaN      1.0  NaN    NaN\n",
       " NaN    NaN    NaN    NaN    NaN       NaN    NaN    NaN      1.0  NaN\n",
       " NaN    NaN    NaN    NaN    NaN       NaN    NaN    NaN    NaN      1.0"
      ]
     },
     "metadata": {},
     "output_type": "display_data"
    }
   ],
   "source": [
    "thi = 0.\n",
    "aT = OrderedAttributes(8, thi, 3)\n",
    "\n",
    "    # if isempty(all_triads_list)\n",
    "    #     all_triads_list = unique([triad for triads in all_triads for triad in triads])\n",
    "    # end\n",
    "    T = length(all_triads_list)\n",
    "\n",
    "    all_signs = [Symmetric(sign.(get_attribute_layer_weights(aT, ord_attributes[i]))) .* 1. for i in 1:6]\n",
    "    map(x-> x[x .== 0.] .= 1, all_signs)\n",
    "    # all_signs[1][all_signs[1] .== 0.] \n",
    "#    findfirst( (all_signs[1] .== 0) - I .!= 0)\n",
    "   all_signs[1]"
   ]
  },
  {
   "cell_type": "code",
   "execution_count": 210,
   "metadata": {},
   "outputs": [
    {
     "data": {
      "image/png": "[encoded data removed]",
      "image/svg+xml": "<?xml version=\"1.0\" encoding=\"utf-8\"?>\n<svg xmlns=\"http://www.w3.org/2000/svg\" xmlns:xlink=\"http://www.w3.org/1999/xlink\" width=\"600\" height=\"400\" viewBox=\"0 0 2400 1600\">\n<defs>\n  <clipPath id=\"clip320\">\n    <rect x=\"0\" y=\"0\" width=\"2400\" height=\"1600\"/>\n  </clipPath>\n</defs>\n<path clip-path=\"url(#clip320)\" d=\"\nM0 1600 L2400 1600 L2400 0 L0 0  Z\n  \" fill=\"#ffffff\" fill-rule=\"evenodd\" fill-opacity=\"1\"/>\n<defs>\n  <clipPath id=\"clip321\">\n    <rect x=\"480\" y=\"0\" width=\"1681\" height=\"1600\"/>\n  </clipPath>\n</defs>\n<path clip-path=\"url(#clip320)\" d=\"\nM186.274 1486.45 L2352.76 1486.45 L2352.76 47.2441 L186.274 47.2441  Z\n  \" fill=\"#ffffff\" fill-rule=\"evenodd\" fill-opacity=\"1\"/>\n<defs>\n  <clipPath id=\"clip322\">\n    <rect x=\"186\" y=\"47\" width=\"2167\" height=\"1440\"/>\n  </clipPath>\n</defs>\n<polyline clip-path=\"url(#clip322)\" style=\"stroke:#000000; stroke-linecap:butt; stroke-linejoin:round; stroke-width:2; stroke-opacity:0.1; fill:none\" points=\"\n  247.59,1486.45 247.59,47.2441 \n  \"/>\n<polyline clip-path=\"url(#clip322)\" style=\"stroke:#000000; stroke-linecap:butt; stroke-linejoin:round; stroke-width:2; stroke-opacity:0.1; fill:none\" points=\"\n  758.552,1486.45 758.552,47.2441 \n  \"/>\n<polyline clip-path=\"url(#clip322)\" style=\"stroke:#000000; stroke-linecap:butt; stroke-linejoin:round; stroke-width:2; stroke-opacity:0.1; fill:none\" points=\"\n  1269.51,1486.45 1269.51,47.2441 \n  \"/>\n<polyline clip-path=\"url(#clip322)\" style=\"stroke:#000000; stroke-linecap:butt; stroke-linejoin:round; stroke-width:2; stroke-opacity:0.1; fill:none\" points=\"\n  1780.48,1486.45 1780.48,47.2441 \n  \"/>\n<polyline clip-path=\"url(#clip322)\" style=\"stroke:#000000; stroke-linecap:butt; stroke-linejoin:round; stroke-width:2; stroke-opacity:0.1; fill:none\" points=\"\n  2291.44,1486.45 2291.44,47.2441 \n  \"/>\n<polyline clip-path=\"url(#clip320)\" style=\"stroke:#000000; stroke-linecap:butt; stroke-linejoin:round; stroke-width:4; stroke-opacity:1; fill:none\" points=\"\n  186.274,1486.45 2352.76,1486.45 \n  \"/>\n<polyline clip-path=\"url(#clip320)\" style=\"stroke:#000000; stroke-linecap:butt; stroke-linejoin:round; stroke-width:4; stroke-opacity:1; fill:none\" points=\"\n  247.59,1486.45 247.59,1467.55 \n  \"/>\n<polyline clip-path=\"url(#clip320)\" style=\"stroke:#000000; stroke-linecap:butt; stroke-linejoin:round; stroke-width:4; stroke-opacity:1; fill:none\" points=\"\n  758.552,1486.45 758.552,1467.55 \n  \"/>\n<polyline clip-path=\"url(#clip320)\" style=\"stroke:#000000; stroke-linecap:butt; stroke-linejoin:round; stroke-width:4; stroke-opacity:1; fill:none\" points=\"\n  1269.51,1486.45 1269.51,1467.55 \n  \"/>\n<polyline clip-path=\"url(#clip320)\" style=\"stroke:#000000; stroke-linecap:butt; stroke-linejoin:round; stroke-width:4; stroke-opacity:1; fill:none\" points=\"\n  1780.48,1486.45 1780.48,1467.55 \n  \"/>\n<polyline clip-path=\"url(#clip320)\" style=\"stroke:#000000; stroke-linecap:butt; stroke-linejoin:round; stroke-width:4; stroke-opacity:1; fill:none\" points=\"\n  2291.44,1486.45 2291.44,1467.55 \n  \"/>\n<path clip-path=\"url(#clip320)\" d=\"M209.893 1517.37 Q206.282 1517.37 204.453 1520.93 Q202.648 1524.47 202.648 1531.6 Q202.648 1538.71 204.453 1542.27 Q206.282 1545.82 209.893 1545.82 Q213.527 1545.82 215.333 1542.27 Q217.161 1538.71 217.161 1531.6 Q217.161 1524.47 215.333 1520.93 Q213.527 1517.37 209.893 1517.37 M209.893 1513.66 Q215.703 1513.66 218.759 1518.27 Q221.837 1522.85 221.837 1531.6 Q221.837 1540.33 218.759 1544.94 Q215.703 1549.52 209.893 1549.52 Q204.083 1549.52 201.004 1544.94 Q197.949 1540.33 197.949 1531.6 Q197.949 1522.85 201.004 1518.27 Q204.083 1513.66 209.893 1513.66 Z\" fill=\"#000000\" fill-rule=\"evenodd\" fill-opacity=\"1\" /><path clip-path=\"url(#clip320)\" d=\"M230.055 1542.97 L234.939 1542.97 L234.939 1548.85 L230.055 1548.85 L230.055 1542.97 Z\" fill=\"#000000\" fill-rule=\"evenodd\" fill-opacity=\"1\" /><path clip-path=\"url(#clip320)\" d=\"M255.124 1517.37 Q251.513 1517.37 249.684 1520.93 Q247.879 1524.47 247.879 1531.6 Q247.879 1538.71 249.684 1542.27 Q251.513 1545.82 255.124 1545.82 Q258.758 1545.82 260.564 1542.27 Q262.393 1538.71 262.393 1531.6 Q262.393 1524.47 260.564 1520.93 Q258.758 1517.37 255.124 1517.37 M255.124 1513.66 Q260.934 1513.66 263.99 1518.27 Q267.069 1522.85 267.069 1531.6 Q267.069 1540.33 263.99 1544.94 Q260.934 1549.52 255.124 1549.52 Q249.314 1549.52 246.235 1544.94 Q243.18 1540.33 243.18 1531.6 Q243.18 1522.85 246.235 1518.27 Q249.314 1513.66 255.124 1513.66 Z\" fill=\"#000000\" fill-rule=\"evenodd\" fill-opacity=\"1\" /><path clip-path=\"url(#clip320)\" d=\"M285.286 1517.37 Q281.675 1517.37 279.846 1520.93 Q278.041 1524.47 278.041 1531.6 Q278.041 1538.71 279.846 1542.27 Q281.675 1545.82 285.286 1545.82 Q288.92 1545.82 290.726 1542.27 Q292.555 1538.71 292.555 1531.6 Q292.555 1524.47 290.726 1520.93 Q288.92 1517.37 285.286 1517.37 M285.286 1513.66 Q291.096 1513.66 294.152 1518.27 Q297.23 1522.85 297.23 1531.6 Q297.23 1540.33 294.152 1544.94 Q291.096 1549.52 285.286 1549.52 Q279.476 1549.52 276.397 1544.94 Q273.342 1540.33 273.342 1531.6 Q273.342 1522.85 276.397 1518.27 Q279.476 1513.66 285.286 1513.66 Z\" fill=\"#000000\" fill-rule=\"evenodd\" fill-opacity=\"1\" /><path clip-path=\"url(#clip320)\" d=\"M721.353 1517.37 Q717.742 1517.37 715.914 1520.93 Q714.108 1524.47 714.108 1531.6 Q714.108 1538.71 715.914 1542.27 Q717.742 1545.82 721.353 1545.82 Q724.988 1545.82 726.793 1542.27 Q728.622 1538.71 728.622 1531.6 Q728.622 1524.47 726.793 1520.93 Q724.988 1517.37 721.353 1517.37 M721.353 1513.66 Q727.164 1513.66 730.219 1518.27 Q733.298 1522.85 733.298 1531.6 Q733.298 1540.33 730.219 1544.94 Q727.164 1549.52 721.353 1549.52 Q715.543 1549.52 712.465 1544.94 Q709.409 1540.33 709.409 1531.6 Q709.409 1522.85 712.465 1518.27 Q715.543 1513.66 721.353 1513.66 Z\" fill=\"#000000\" fill-rule=\"evenodd\" fill-opacity=\"1\" /><path clip-path=\"url(#clip320)\" d=\"M741.515 1542.97 L746.4 1542.97 L746.4 1548.85 L741.515 1548.85 L741.515 1542.97 Z\" fill=\"#000000\" fill-rule=\"evenodd\" fill-opacity=\"1\" /><path clip-path=\"url(#clip320)\" d=\"M760.612 1544.91 L776.932 1544.91 L776.932 1548.85 L754.987 1548.85 L754.987 1544.91 Q757.649 1542.16 762.233 1537.53 Q766.839 1532.88 768.02 1531.53 Q770.265 1529.01 771.145 1527.27 Q772.048 1525.51 772.048 1523.82 Q772.048 1521.07 770.103 1519.33 Q768.182 1517.6 765.08 1517.6 Q762.881 1517.6 760.427 1518.36 Q757.997 1519.13 755.219 1520.68 L755.219 1515.95 Q758.043 1514.82 760.497 1514.24 Q762.95 1513.66 764.987 1513.66 Q770.358 1513.66 773.552 1516.35 Q776.747 1519.03 776.747 1523.52 Q776.747 1525.65 775.936 1527.57 Q775.149 1529.47 773.043 1532.07 Q772.464 1532.74 769.362 1535.95 Q766.261 1539.15 760.612 1544.91 Z\" fill=\"#000000\" fill-rule=\"evenodd\" fill-opacity=\"1\" /><path clip-path=\"url(#clip320)\" d=\"M786.793 1514.29 L805.149 1514.29 L805.149 1518.22 L791.075 1518.22 L791.075 1526.7 Q792.094 1526.35 793.112 1526.19 Q794.131 1526 795.149 1526 Q800.936 1526 804.316 1529.17 Q807.695 1532.34 807.695 1537.76 Q807.695 1543.34 804.223 1546.44 Q800.751 1549.52 794.432 1549.52 Q792.256 1549.52 789.987 1549.15 Q787.742 1548.78 785.335 1548.04 L785.335 1543.34 Q787.418 1544.47 789.64 1545.03 Q791.862 1545.58 794.339 1545.58 Q798.344 1545.58 800.682 1543.48 Q803.02 1541.37 803.02 1537.76 Q803.02 1534.15 800.682 1532.04 Q798.344 1529.94 794.339 1529.94 Q792.464 1529.94 790.589 1530.35 Q788.737 1530.77 786.793 1531.65 L786.793 1514.29 Z\" fill=\"#000000\" fill-rule=\"evenodd\" fill-opacity=\"1\" /><path clip-path=\"url(#clip320)\" d=\"M1231.82 1517.37 Q1228.21 1517.37 1226.38 1520.93 Q1224.57 1524.47 1224.57 1531.6 Q1224.57 1538.71 1226.38 1542.27 Q1228.21 1545.82 1231.82 1545.82 Q1235.45 1545.82 1237.26 1542.27 Q1239.09 1538.71 1239.09 1531.6 Q1239.09 1524.47 1237.26 1520.93 Q1235.45 1517.37 1231.82 1517.37 M1231.82 1513.66 Q1237.63 1513.66 1240.68 1518.27 Q1243.76 1522.85 1243.76 1531.6 Q1243.76 1540.33 1240.68 1544.94 Q1237.63 1549.52 1231.82 1549.52 Q1226.01 1549.52 1222.93 1544.94 Q1219.87 1540.33 1219.87 1531.6 Q1219.87 1522.85 1222.93 1518.27 Q1226.01 1513.66 1231.82 1513.66 Z\" fill=\"#000000\" fill-rule=\"evenodd\" fill-opacity=\"1\" /><path clip-path=\"url(#clip320)\" d=\"M1251.98 1542.97 L1256.86 1542.97 L1256.86 1548.85 L1251.98 1548.85 L1251.98 1542.97 Z\" fill=\"#000000\" fill-rule=\"evenodd\" fill-opacity=\"1\" /><path clip-path=\"url(#clip320)\" d=\"M1267.1 1514.29 L1285.45 1514.29 L1285.45 1518.22 L1271.38 1518.22 L1271.38 1526.7 Q1272.4 1526.35 1273.42 1526.19 Q1274.43 1526 1275.45 1526 Q1281.24 1526 1284.62 1529.17 Q1288 1532.34 1288 1537.76 Q1288 1543.34 1284.53 1546.44 Q1281.05 1549.52 1274.73 1549.52 Q1272.56 1549.52 1270.29 1549.15 Q1268.05 1548.78 1265.64 1548.04 L1265.64 1543.34 Q1267.72 1544.47 1269.94 1545.03 Q1272.17 1545.58 1274.64 1545.58 Q1278.65 1545.58 1280.98 1543.48 Q1283.32 1541.37 1283.32 1537.76 Q1283.32 1534.15 1280.98 1532.04 Q1278.65 1529.94 1274.64 1529.94 Q1272.77 1529.94 1270.89 1530.35 Q1269.04 1530.77 1267.1 1531.65 L1267.1 1514.29 Z\" fill=\"#000000\" fill-rule=\"evenodd\" fill-opacity=\"1\" /><path clip-path=\"url(#clip320)\" d=\"M1307.21 1517.37 Q1303.6 1517.37 1301.77 1520.93 Q1299.97 1524.47 1299.97 1531.6 Q1299.97 1538.71 1301.77 1542.27 Q1303.6 1545.82 1307.21 1545.82 Q1310.85 1545.82 1312.65 1542.27 Q1314.48 1538.71 1314.48 1531.6 Q1314.48 1524.47 1312.65 1520.93 Q1310.85 1517.37 1307.21 1517.37 M1307.21 1513.66 Q1313.02 1513.66 1316.08 1518.27 Q1319.16 1522.85 1319.16 1531.6 Q1319.16 1540.33 1316.08 1544.94 Q1313.02 1549.52 1307.21 1549.52 Q1301.4 1549.52 1298.32 1544.94 Q1295.27 1540.33 1295.27 1531.6 Q1295.27 1522.85 1298.32 1518.27 Q1301.4 1513.66 1307.21 1513.66 Z\" fill=\"#000000\" fill-rule=\"evenodd\" fill-opacity=\"1\" /><path clip-path=\"url(#clip320)\" d=\"M1743.28 1517.37 Q1739.67 1517.37 1737.84 1520.93 Q1736.03 1524.47 1736.03 1531.6 Q1736.03 1538.71 1737.84 1542.27 Q1739.67 1545.82 1743.28 1545.82 Q1746.91 1545.82 1748.72 1542.27 Q1750.55 1538.71 1750.55 1531.6 Q1750.55 1524.47 1748.72 1520.93 Q1746.91 1517.37 1743.28 1517.37 M1743.28 1513.66 Q1749.09 1513.66 1752.14 1518.27 Q1755.22 1522.85 1755.22 1531.6 Q1755.22 1540.33 1752.14 1544.94 Q1749.09 1549.52 1743.28 1549.52 Q1737.47 1549.52 1734.39 1544.94 Q1731.33 1540.33 1731.33 1531.6 Q1731.33 1522.85 1734.39 1518.27 Q1737.47 1513.66 1743.28 1513.66 Z\" fill=\"#000000\" fill-rule=\"evenodd\" fill-opacity=\"1\" /><path clip-path=\"url(#clip320)\" d=\"M1763.44 1542.97 L1768.32 1542.97 L1768.32 1548.85 L1763.44 1548.85 L1763.44 1542.97 Z\" fill=\"#000000\" fill-rule=\"evenodd\" fill-opacity=\"1\" /><path clip-path=\"url(#clip320)\" d=\"M1777.33 1514.29 L1799.55 1514.29 L1799.55 1516.28 L1787.01 1548.85 L1782.12 1548.85 L1793.93 1518.22 L1777.33 1518.22 L1777.33 1514.29 Z\" fill=\"#000000\" fill-rule=\"evenodd\" fill-opacity=\"1\" /><path clip-path=\"url(#clip320)\" d=\"M1808.72 1514.29 L1827.07 1514.29 L1827.07 1518.22 L1813 1518.22 L1813 1526.7 Q1814.02 1526.35 1815.04 1526.19 Q1816.06 1526 1817.07 1526 Q1822.86 1526 1826.24 1529.17 Q1829.62 1532.34 1829.62 1537.76 Q1829.62 1543.34 1826.15 1546.44 Q1822.68 1549.52 1816.36 1549.52 Q1814.18 1549.52 1811.91 1549.15 Q1809.67 1548.78 1807.26 1548.04 L1807.26 1543.34 Q1809.34 1544.47 1811.57 1545.03 Q1813.79 1545.58 1816.26 1545.58 Q1820.27 1545.58 1822.61 1543.48 Q1824.95 1541.37 1824.95 1537.76 Q1824.95 1534.15 1822.61 1532.04 Q1820.27 1529.94 1816.26 1529.94 Q1814.39 1529.94 1812.51 1530.35 Q1810.66 1530.77 1808.72 1531.65 L1808.72 1514.29 Z\" fill=\"#000000\" fill-rule=\"evenodd\" fill-opacity=\"1\" /><path clip-path=\"url(#clip320)\" d=\"M2243.51 1544.91 L2251.15 1544.91 L2251.15 1518.55 L2242.84 1520.21 L2242.84 1515.95 L2251.1 1514.29 L2255.78 1514.29 L2255.78 1544.91 L2263.42 1544.91 L2263.42 1548.85 L2243.51 1548.85 L2243.51 1544.91 Z\" fill=\"#000000\" fill-rule=\"evenodd\" fill-opacity=\"1\" /><path clip-path=\"url(#clip320)\" d=\"M2272.86 1542.97 L2277.75 1542.97 L2277.75 1548.85 L2272.86 1548.85 L2272.86 1542.97 Z\" fill=\"#000000\" fill-rule=\"evenodd\" fill-opacity=\"1\" /><path clip-path=\"url(#clip320)\" d=\"M2297.93 1517.37 Q2294.32 1517.37 2292.49 1520.93 Q2290.69 1524.47 2290.69 1531.6 Q2290.69 1538.71 2292.49 1542.27 Q2294.32 1545.82 2297.93 1545.82 Q2301.57 1545.82 2303.37 1542.27 Q2305.2 1538.71 2305.2 1531.6 Q2305.2 1524.47 2303.37 1520.93 Q2301.57 1517.37 2297.93 1517.37 M2297.93 1513.66 Q2303.74 1513.66 2306.8 1518.27 Q2309.88 1522.85 2309.88 1531.6 Q2309.88 1540.33 2306.8 1544.94 Q2303.74 1549.52 2297.93 1549.52 Q2292.12 1549.52 2289.04 1544.94 Q2285.99 1540.33 2285.99 1531.6 Q2285.99 1522.85 2289.04 1518.27 Q2292.12 1513.66 2297.93 1513.66 Z\" fill=\"#000000\" fill-rule=\"evenodd\" fill-opacity=\"1\" /><path clip-path=\"url(#clip320)\" d=\"M2328.1 1517.37 Q2324.48 1517.37 2322.66 1520.93 Q2320.85 1524.47 2320.85 1531.6 Q2320.85 1538.71 2322.66 1542.27 Q2324.48 1545.82 2328.1 1545.82 Q2331.73 1545.82 2333.54 1542.27 Q2335.36 1538.71 2335.36 1531.6 Q2335.36 1524.47 2333.54 1520.93 Q2331.73 1517.37 2328.1 1517.37 M2328.1 1513.66 Q2333.91 1513.66 2336.96 1518.27 Q2340.04 1522.85 2340.04 1531.6 Q2340.04 1540.33 2336.96 1544.94 Q2333.91 1549.52 2328.1 1549.52 Q2322.29 1549.52 2319.21 1544.94 Q2316.15 1540.33 2316.15 1531.6 Q2316.15 1522.85 2319.21 1518.27 Q2322.29 1513.66 2328.1 1513.66 Z\" fill=\"#000000\" fill-rule=\"evenodd\" fill-opacity=\"1\" /><polyline clip-path=\"url(#clip322)\" style=\"stroke:#000000; stroke-linecap:butt; stroke-linejoin:round; stroke-width:2; stroke-opacity:0.1; fill:none\" points=\"\n  186.274,1469.96 2352.76,1469.96 \n  \"/>\n<polyline clip-path=\"url(#clip322)\" style=\"stroke:#000000; stroke-linecap:butt; stroke-linejoin:round; stroke-width:2; stroke-opacity:0.1; fill:none\" points=\"\n  186.274,1124.46 2352.76,1124.46 \n  \"/>\n<polyline clip-path=\"url(#clip322)\" style=\"stroke:#000000; stroke-linecap:butt; stroke-linejoin:round; stroke-width:2; stroke-opacity:0.1; fill:none\" points=\"\n  186.274,778.969 2352.76,778.969 \n  \"/>\n<polyline clip-path=\"url(#clip322)\" style=\"stroke:#000000; stroke-linecap:butt; stroke-linejoin:round; stroke-width:2; stroke-opacity:0.1; fill:none\" points=\"\n  186.274,433.472 2352.76,433.472 \n  \"/>\n<polyline clip-path=\"url(#clip322)\" style=\"stroke:#000000; stroke-linecap:butt; stroke-linejoin:round; stroke-width:2; stroke-opacity:0.1; fill:none\" points=\"\n  186.274,87.9763 2352.76,87.9763 \n  \"/>\n<polyline clip-path=\"url(#clip320)\" style=\"stroke:#000000; stroke-linecap:butt; stroke-linejoin:round; stroke-width:4; stroke-opacity:1; fill:none\" points=\"\n  186.274,1486.45 186.274,47.2441 \n  \"/>\n<polyline clip-path=\"url(#clip320)\" style=\"stroke:#000000; stroke-linecap:butt; stroke-linejoin:round; stroke-width:4; stroke-opacity:1; fill:none\" points=\"\n  186.274,1469.96 205.172,1469.96 \n  \"/>\n<polyline clip-path=\"url(#clip320)\" style=\"stroke:#000000; stroke-linecap:butt; stroke-linejoin:round; stroke-width:4; stroke-opacity:1; fill:none\" points=\"\n  186.274,1124.46 205.172,1124.46 \n  \"/>\n<polyline clip-path=\"url(#clip320)\" style=\"stroke:#000000; stroke-linecap:butt; stroke-linejoin:round; stroke-width:4; stroke-opacity:1; fill:none\" points=\"\n  186.274,778.969 205.172,778.969 \n  \"/>\n<polyline clip-path=\"url(#clip320)\" style=\"stroke:#000000; stroke-linecap:butt; stroke-linejoin:round; stroke-width:4; stroke-opacity:1; fill:none\" points=\"\n  186.274,433.472 205.172,433.472 \n  \"/>\n<polyline clip-path=\"url(#clip320)\" style=\"stroke:#000000; stroke-linecap:butt; stroke-linejoin:round; stroke-width:4; stroke-opacity:1; fill:none\" points=\"\n  186.274,87.9763 205.172,87.9763 \n  \"/>\n<path clip-path=\"url(#clip320)\" d=\"M62.9365 1455.76 Q59.3254 1455.76 57.4967 1459.32 Q55.6912 1462.87 55.6912 1470 Q55.6912 1477.1 57.4967 1480.67 Q59.3254 1484.21 62.9365 1484.21 Q66.5707 1484.21 68.3763 1480.67 Q70.205 1477.1 70.205 1470 Q70.205 1462.87 68.3763 1459.32 Q66.5707 1455.76 62.9365 1455.76 M62.9365 1452.06 Q68.7467 1452.06 71.8022 1456.66 Q74.8809 1461.25 74.8809 1470 Q74.8809 1478.72 71.8022 1483.33 Q68.7467 1487.91 62.9365 1487.91 Q57.1264 1487.91 54.0477 1483.33 Q50.9921 1478.72 50.9921 1470 Q50.9921 1461.25 54.0477 1456.66 Q57.1264 1452.06 62.9365 1452.06 Z\" fill=\"#000000\" fill-rule=\"evenodd\" fill-opacity=\"1\" /><path clip-path=\"url(#clip320)\" d=\"M83.0984 1481.36 L87.9827 1481.36 L87.9827 1487.24 L83.0984 1487.24 L83.0984 1481.36 Z\" fill=\"#000000\" fill-rule=\"evenodd\" fill-opacity=\"1\" /><path clip-path=\"url(#clip320)\" d=\"M108.168 1455.76 Q104.557 1455.76 102.728 1459.32 Q100.922 1462.87 100.922 1470 Q100.922 1477.1 102.728 1480.67 Q104.557 1484.21 108.168 1484.21 Q111.802 1484.21 113.608 1480.67 Q115.436 1477.1 115.436 1470 Q115.436 1462.87 113.608 1459.32 Q111.802 1455.76 108.168 1455.76 M108.168 1452.06 Q113.978 1452.06 117.033 1456.66 Q120.112 1461.25 120.112 1470 Q120.112 1478.72 117.033 1483.33 Q113.978 1487.91 108.168 1487.91 Q102.358 1487.91 99.2789 1483.33 Q96.2234 1478.72 96.2234 1470 Q96.2234 1461.25 99.2789 1456.66 Q102.358 1452.06 108.168 1452.06 Z\" fill=\"#000000\" fill-rule=\"evenodd\" fill-opacity=\"1\" /><path clip-path=\"url(#clip320)\" d=\"M138.33 1455.76 Q134.719 1455.76 132.89 1459.32 Q131.084 1462.87 131.084 1470 Q131.084 1477.1 132.89 1480.67 Q134.719 1484.21 138.33 1484.21 Q141.964 1484.21 143.769 1480.67 Q145.598 1477.1 145.598 1470 Q145.598 1462.87 143.769 1459.32 Q141.964 1455.76 138.33 1455.76 M138.33 1452.06 Q144.14 1452.06 147.195 1456.66 Q150.274 1461.25 150.274 1470 Q150.274 1478.72 147.195 1483.33 Q144.14 1487.91 138.33 1487.91 Q132.519 1487.91 129.441 1483.33 Q126.385 1478.72 126.385 1470 Q126.385 1461.25 129.441 1456.66 Q132.519 1452.06 138.33 1452.06 Z\" fill=\"#000000\" fill-rule=\"evenodd\" fill-opacity=\"1\" /><path clip-path=\"url(#clip320)\" d=\"M63.9319 1110.26 Q60.3208 1110.26 58.4921 1113.83 Q56.6865 1117.37 56.6865 1124.5 Q56.6865 1131.61 58.4921 1135.17 Q60.3208 1138.71 63.9319 1138.71 Q67.5661 1138.71 69.3717 1135.17 Q71.2004 1131.61 71.2004 1124.5 Q71.2004 1117.37 69.3717 1113.83 Q67.5661 1110.26 63.9319 1110.26 M63.9319 1106.56 Q69.742 1106.56 72.7976 1111.17 Q75.8763 1115.75 75.8763 1124.5 Q75.8763 1133.23 72.7976 1137.83 Q69.742 1142.42 63.9319 1142.42 Q58.1217 1142.42 55.043 1137.83 Q51.9875 1133.23 51.9875 1124.5 Q51.9875 1115.75 55.043 1111.17 Q58.1217 1106.56 63.9319 1106.56 Z\" fill=\"#000000\" fill-rule=\"evenodd\" fill-opacity=\"1\" /><path clip-path=\"url(#clip320)\" d=\"M84.0938 1135.87 L88.978 1135.87 L88.978 1141.74 L84.0938 1141.74 L84.0938 1135.87 Z\" fill=\"#000000\" fill-rule=\"evenodd\" fill-opacity=\"1\" /><path clip-path=\"url(#clip320)\" d=\"M103.191 1137.81 L119.51 1137.81 L119.51 1141.74 L97.566 1141.74 L97.566 1137.81 Q100.228 1135.06 104.811 1130.43 Q109.418 1125.77 110.598 1124.43 Q112.844 1121.91 113.723 1120.17 Q114.626 1118.41 114.626 1116.72 Q114.626 1113.97 112.682 1112.23 Q110.76 1110.5 107.658 1110.5 Q105.459 1110.5 103.006 1111.26 Q100.575 1112.02 97.7974 1113.57 L97.7974 1108.85 Q100.621 1107.72 103.075 1107.14 Q105.529 1106.56 107.566 1106.56 Q112.936 1106.56 116.131 1109.25 Q119.325 1111.93 119.325 1116.42 Q119.325 1118.55 118.515 1120.47 Q117.728 1122.37 115.621 1124.96 Q115.043 1125.63 111.941 1128.85 Q108.839 1132.05 103.191 1137.81 Z\" fill=\"#000000\" fill-rule=\"evenodd\" fill-opacity=\"1\" /><path clip-path=\"url(#clip320)\" d=\"M129.371 1107.18 L147.728 1107.18 L147.728 1111.12 L133.654 1111.12 L133.654 1119.59 Q134.672 1119.24 135.691 1119.08 Q136.709 1118.9 137.728 1118.9 Q143.515 1118.9 146.894 1122.07 Q150.274 1125.24 150.274 1130.66 Q150.274 1136.24 146.802 1139.34 Q143.33 1142.42 137.01 1142.42 Q134.834 1142.42 132.566 1142.05 Q130.32 1141.68 127.913 1140.93 L127.913 1136.24 Q129.996 1137.37 132.219 1137.93 Q134.441 1138.48 136.918 1138.48 Q140.922 1138.48 143.26 1136.37 Q145.598 1134.27 145.598 1130.66 Q145.598 1127.05 143.26 1124.94 Q140.922 1122.83 136.918 1122.83 Q135.043 1122.83 133.168 1123.25 Q131.316 1123.67 129.371 1124.55 L129.371 1107.18 Z\" fill=\"#000000\" fill-rule=\"evenodd\" fill-opacity=\"1\" /><path clip-path=\"url(#clip320)\" d=\"M62.9365 764.767 Q59.3254 764.767 57.4967 768.332 Q55.6912 771.874 55.6912 779.003 Q55.6912 786.11 57.4967 789.675 Q59.3254 793.216 62.9365 793.216 Q66.5707 793.216 68.3763 789.675 Q70.205 786.11 70.205 779.003 Q70.205 771.874 68.3763 768.332 Q66.5707 764.767 62.9365 764.767 M62.9365 761.064 Q68.7467 761.064 71.8022 765.67 Q74.8809 770.253 74.8809 779.003 Q74.8809 787.73 71.8022 792.337 Q68.7467 796.92 62.9365 796.92 Q57.1264 796.92 54.0477 792.337 Q50.9921 787.73 50.9921 779.003 Q50.9921 770.253 54.0477 765.67 Q57.1264 761.064 62.9365 761.064 Z\" fill=\"#000000\" fill-rule=\"evenodd\" fill-opacity=\"1\" /><path clip-path=\"url(#clip320)\" d=\"M83.0984 790.369 L87.9827 790.369 L87.9827 796.249 L83.0984 796.249 L83.0984 790.369 Z\" fill=\"#000000\" fill-rule=\"evenodd\" fill-opacity=\"1\" /><path clip-path=\"url(#clip320)\" d=\"M98.2141 761.689 L116.57 761.689 L116.57 765.624 L102.496 765.624 L102.496 774.096 Q103.515 773.749 104.534 773.587 Q105.552 773.402 106.571 773.402 Q112.358 773.402 115.737 776.573 Q119.117 779.744 119.117 785.161 Q119.117 790.739 115.645 793.841 Q112.172 796.92 105.853 796.92 Q103.677 796.92 101.409 796.55 Q99.1632 796.179 96.7558 795.438 L96.7558 790.739 Q98.8391 791.874 101.061 792.429 Q103.284 792.985 105.76 792.985 Q109.765 792.985 112.103 790.878 Q114.441 788.772 114.441 785.161 Q114.441 781.55 112.103 779.443 Q109.765 777.337 105.76 777.337 Q103.885 777.337 102.01 777.753 Q100.159 778.17 98.2141 779.05 L98.2141 761.689 Z\" fill=\"#000000\" fill-rule=\"evenodd\" fill-opacity=\"1\" /><path clip-path=\"url(#clip320)\" d=\"M138.33 764.767 Q134.719 764.767 132.89 768.332 Q131.084 771.874 131.084 779.003 Q131.084 786.11 132.89 789.675 Q134.719 793.216 138.33 793.216 Q141.964 793.216 143.769 789.675 Q145.598 786.11 145.598 779.003 Q145.598 771.874 143.769 768.332 Q141.964 764.767 138.33 764.767 M138.33 761.064 Q144.14 761.064 147.195 765.67 Q150.274 770.253 150.274 779.003 Q150.274 787.73 147.195 792.337 Q144.14 796.92 138.33 796.92 Q132.519 796.92 129.441 792.337 Q126.385 787.73 126.385 779.003 Q126.385 770.253 129.441 765.67 Q132.519 761.064 138.33 761.064 Z\" fill=\"#000000\" fill-rule=\"evenodd\" fill-opacity=\"1\" /><path clip-path=\"url(#clip320)\" d=\"M63.9319 419.271 Q60.3208 419.271 58.4921 422.836 Q56.6865 426.378 56.6865 433.507 Q56.6865 440.614 58.4921 444.178 Q60.3208 447.72 63.9319 447.72 Q67.5661 447.72 69.3717 444.178 Q71.2004 440.614 71.2004 433.507 Q71.2004 426.378 69.3717 422.836 Q67.5661 419.271 63.9319 419.271 M63.9319 415.567 Q69.742 415.567 72.7976 420.174 Q75.8763 424.757 75.8763 433.507 Q75.8763 442.234 72.7976 446.84 Q69.742 451.424 63.9319 451.424 Q58.1217 451.424 55.043 446.84 Q51.9875 442.234 51.9875 433.507 Q51.9875 424.757 55.043 420.174 Q58.1217 415.567 63.9319 415.567 Z\" fill=\"#000000\" fill-rule=\"evenodd\" fill-opacity=\"1\" /><path clip-path=\"url(#clip320)\" d=\"M84.0938 444.873 L88.978 444.873 L88.978 450.752 L84.0938 450.752 L84.0938 444.873 Z\" fill=\"#000000\" fill-rule=\"evenodd\" fill-opacity=\"1\" /><path clip-path=\"url(#clip320)\" d=\"M97.9826 416.192 L120.205 416.192 L120.205 418.183 L107.658 450.752 L102.774 450.752 L114.58 420.128 L97.9826 420.128 L97.9826 416.192 Z\" fill=\"#000000\" fill-rule=\"evenodd\" fill-opacity=\"1\" /><path clip-path=\"url(#clip320)\" d=\"M129.371 416.192 L147.728 416.192 L147.728 420.128 L133.654 420.128 L133.654 428.6 Q134.672 428.253 135.691 428.091 Q136.709 427.905 137.728 427.905 Q143.515 427.905 146.894 431.077 Q150.274 434.248 150.274 439.665 Q150.274 445.243 146.802 448.345 Q143.33 451.424 137.01 451.424 Q134.834 451.424 132.566 451.053 Q130.32 450.683 127.913 449.942 L127.913 445.243 Q129.996 446.377 132.219 446.933 Q134.441 447.489 136.918 447.489 Q140.922 447.489 143.26 445.382 Q145.598 443.276 145.598 439.665 Q145.598 436.053 143.26 433.947 Q140.922 431.841 136.918 431.841 Q135.043 431.841 133.168 432.257 Q131.316 432.674 129.371 433.553 L129.371 416.192 Z\" fill=\"#000000\" fill-rule=\"evenodd\" fill-opacity=\"1\" /><path clip-path=\"url(#clip320)\" d=\"M53.7467 101.321 L61.3856 101.321 L61.3856 74.9555 L53.0754 76.6222 L53.0754 72.3629 L61.3393 70.6963 L66.0152 70.6963 L66.0152 101.321 L73.654 101.321 L73.654 105.256 L53.7467 105.256 L53.7467 101.321 Z\" fill=\"#000000\" fill-rule=\"evenodd\" fill-opacity=\"1\" /><path clip-path=\"url(#clip320)\" d=\"M83.0984 99.3767 L87.9827 99.3767 L87.9827 105.256 L83.0984 105.256 L83.0984 99.3767 Z\" fill=\"#000000\" fill-rule=\"evenodd\" fill-opacity=\"1\" /><path clip-path=\"url(#clip320)\" d=\"M108.168 73.775 Q104.557 73.775 102.728 77.3398 Q100.922 80.8814 100.922 88.011 Q100.922 95.1174 102.728 98.6822 Q104.557 102.224 108.168 102.224 Q111.802 102.224 113.608 98.6822 Q115.436 95.1174 115.436 88.011 Q115.436 80.8814 113.608 77.3398 Q111.802 73.775 108.168 73.775 M108.168 70.0713 Q113.978 70.0713 117.033 74.6777 Q120.112 79.261 120.112 88.011 Q120.112 96.7378 117.033 101.344 Q113.978 105.928 108.168 105.928 Q102.358 105.928 99.2789 101.344 Q96.2234 96.7378 96.2234 88.011 Q96.2234 79.261 99.2789 74.6777 Q102.358 70.0713 108.168 70.0713 Z\" fill=\"#000000\" fill-rule=\"evenodd\" fill-opacity=\"1\" /><path clip-path=\"url(#clip320)\" d=\"M138.33 73.775 Q134.719 73.775 132.89 77.3398 Q131.084 80.8814 131.084 88.011 Q131.084 95.1174 132.89 98.6822 Q134.719 102.224 138.33 102.224 Q141.964 102.224 143.769 98.6822 Q145.598 95.1174 145.598 88.011 Q145.598 80.8814 143.769 77.3398 Q141.964 73.775 138.33 73.775 M138.33 70.0713 Q144.14 70.0713 147.195 74.6777 Q150.274 79.261 150.274 88.011 Q150.274 96.7378 147.195 101.344 Q144.14 105.928 138.33 105.928 Q132.519 105.928 129.441 101.344 Q126.385 96.7378 126.385 88.011 Q126.385 79.261 129.441 74.6777 Q132.519 70.0713 138.33 70.0713 Z\" fill=\"#000000\" fill-rule=\"evenodd\" fill-opacity=\"1\" /><polyline clip-path=\"url(#clip322)\" style=\"stroke:#009af9; stroke-linecap:butt; stroke-linejoin:round; stroke-width:4; stroke-opacity:1; fill:none\" points=\"\n  247.59,917.167 268.028,917.167 288.467,917.167 308.905,917.167 329.344,917.167 349.782,917.167 370.221,917.167 390.659,1193.56 411.098,1193.56 431.536,1193.56 \n  451.975,1193.56 472.413,1193.56 492.852,1193.56 513.29,597.129 533.729,597.129 554.167,597.129 574.606,597.129 595.044,597.129 615.483,597.129 635.921,622.938 \n  656.36,622.938 676.798,622.938 697.237,622.938 717.675,622.938 738.114,622.938 758.552,371.46 778.991,371.46 799.429,371.46 819.868,371.46 840.306,371.46 \n  860.745,371.46 881.183,371.46 901.622,458.753 922.06,458.753 942.499,458.753 962.937,458.753 983.376,458.753 1003.81,458.753 1024.25,312.951 1044.69,312.951 \n  1065.13,312.951 1085.57,312.951 1106.01,312.951 1126.45,312.951 1146.88,238.192 1167.32,238.192 1187.76,238.192 1208.2,238.192 1228.64,238.192 1249.08,238.192 \n  1269.51,268.235 1289.95,268.235 1310.39,268.235 1330.83,268.235 1351.27,268.235 1371.71,268.235 1392.15,268.235 1412.58,392.013 1433.02,392.013 1453.46,392.013 \n  1473.9,392.013 1494.34,392.013 1514.78,392.013 1535.22,313.606 1555.65,313.606 1576.09,313.606 1596.53,313.606 1616.97,313.606 1637.41,313.606 1657.85,263.865 \n  1678.29,263.865 1698.72,263.865 1719.16,263.865 1739.6,263.865 1760.04,263.865 1780.48,134.823 1800.92,134.823 1821.35,134.823 1841.79,134.823 1862.23,134.823 \n  1882.67,134.823 1903.11,134.823 1923.55,87.9763 1943.99,87.9763 1964.42,87.9763 1984.86,87.9763 2005.3,87.9763 2025.74,87.9763 2046.18,87.9763 2066.62,87.9763 \n  2087.06,87.9763 2107.49,87.9763 2127.93,87.9763 2148.37,87.9763 2168.81,87.9763 2189.25,87.9763 2209.69,87.9763 2230.12,87.9763 2250.56,87.9763 2271,87.9763 \n  2291.44,87.9763 \n  \"/>\n<polyline clip-path=\"url(#clip322)\" style=\"stroke:#e26f46; stroke-linecap:butt; stroke-linejoin:round; stroke-width:4; stroke-opacity:1; fill:none\" points=\"\n  247.59,1445.72 268.028,1445.72 288.467,1445.72 308.905,1445.72 329.344,1445.72 349.782,1445.72 370.221,1445.72 390.659,1363.65 411.098,1363.65 431.536,1363.65 \n  451.975,1363.65 472.413,1363.65 492.852,1363.65 513.29,1180.71 533.729,1180.71 554.167,1180.71 574.606,1180.71 595.044,1180.71 615.483,1180.71 635.921,845.839 \n  656.36,845.839 676.798,845.839 697.237,845.839 717.675,845.839 738.114,845.839 758.552,929.184 778.991,929.184 799.429,929.184 819.868,929.184 840.306,929.184 \n  860.745,929.184 881.183,929.184 901.622,614.447 922.06,614.447 942.499,614.447 962.937,614.447 983.376,614.447 1003.81,614.447 1024.25,451.656 1044.69,451.656 \n  1065.13,451.656 1085.57,451.656 1106.01,451.656 1126.45,451.656 1146.88,951.717 1167.32,951.717 1187.76,951.717 1208.2,951.717 1228.64,951.717 1249.08,951.717 \n  1269.51,606.221 1289.95,606.221 1310.39,606.221 1330.83,606.221 1351.27,606.221 1371.71,606.221 1392.15,606.221 1412.58,894.134 1433.02,894.134 1453.46,894.134 \n  1473.9,894.134 1494.34,894.134 1514.78,894.134 1535.22,725.815 1555.65,725.815 1576.09,725.815 1596.53,725.815 1616.97,725.815 1637.41,725.815 1657.85,87.9763 \n  1678.29,87.9763 1698.72,87.9763 1719.16,87.9763 1739.6,87.9763 1760.04,87.9763 1780.48,87.9763 1800.92,87.9763 1821.35,87.9763 1841.79,87.9763 1862.23,87.9763 \n  1882.67,87.9763 1903.11,87.9763 1923.55,87.9763 1943.99,87.9763 1964.42,87.9763 1984.86,87.9763 2005.3,87.9763 2025.74,87.9763 \n  \"/>\n<path clip-path=\"url(#clip320)\" d=\"\nM1987.39 250.738 L2280.54 250.738 L2280.54 95.2176 L1987.39 95.2176  Z\n  \" fill=\"#ffffff\" fill-rule=\"evenodd\" fill-opacity=\"1\"/>\n<polyline clip-path=\"url(#clip320)\" style=\"stroke:#000000; stroke-linecap:butt; stroke-linejoin:round; stroke-width:4; stroke-opacity:1; fill:none\" points=\"\n  1987.39,250.738 2280.54,250.738 2280.54,95.2176 1987.39,95.2176 1987.39,250.738 \n  \"/>\n<polyline clip-path=\"url(#clip320)\" style=\"stroke:#009af9; stroke-linecap:butt; stroke-linejoin:round; stroke-width:4; stroke-opacity:1; fill:none\" points=\"\n  2011.46,147.058 2155.89,147.058 \n  \"/>\n<path clip-path=\"url(#clip320)\" d=\"M2193.81 166.745 Q2192 171.375 2190.29 172.787 Q2188.58 174.199 2185.71 174.199 L2182.3 174.199 L2182.3 170.634 L2184.8 170.634 Q2186.56 170.634 2187.53 169.8 Q2188.51 168.967 2189.69 165.865 L2190.45 163.921 L2179.97 138.412 L2184.48 138.412 L2192.58 158.689 L2200.68 138.412 L2205.2 138.412 L2193.81 166.745 Z\" fill=\"#000000\" fill-rule=\"evenodd\" fill-opacity=\"1\" /><path clip-path=\"url(#clip320)\" d=\"M2212.49 160.402 L2220.13 160.402 L2220.13 134.037 L2211.82 135.703 L2211.82 131.444 L2220.08 129.778 L2224.76 129.778 L2224.76 160.402 L2232.4 160.402 L2232.4 164.338 L2212.49 164.338 L2212.49 160.402 Z\" fill=\"#000000\" fill-rule=\"evenodd\" fill-opacity=\"1\" /><polyline clip-path=\"url(#clip320)\" style=\"stroke:#e26f46; stroke-linecap:butt; stroke-linejoin:round; stroke-width:4; stroke-opacity:1; fill:none\" points=\"\n  2011.46,198.898 2155.89,198.898 \n  \"/>\n<path clip-path=\"url(#clip320)\" d=\"M2193.81 218.585 Q2192 223.215 2190.29 224.627 Q2188.58 226.039 2185.71 226.039 L2182.3 226.039 L2182.3 222.474 L2184.8 222.474 Q2186.56 222.474 2187.53 221.64 Q2188.51 220.807 2189.69 217.705 L2190.45 215.761 L2179.97 190.252 L2184.48 190.252 L2192.58 210.529 L2200.68 190.252 L2205.2 190.252 L2193.81 218.585 Z\" fill=\"#000000\" fill-rule=\"evenodd\" fill-opacity=\"1\" /><path clip-path=\"url(#clip320)\" d=\"M2215.71 212.242 L2232.03 212.242 L2232.03 216.178 L2210.08 216.178 L2210.08 212.242 Q2212.74 209.488 2217.33 204.858 Q2221.93 200.205 2223.11 198.863 Q2225.36 196.34 2226.24 194.604 Q2227.14 192.844 2227.14 191.155 Q2227.14 188.4 2225.2 186.664 Q2223.28 184.928 2220.17 184.928 Q2217.97 184.928 2215.52 185.692 Q2213.09 186.455 2210.31 188.006 L2210.31 183.284 Q2213.14 182.15 2215.59 181.571 Q2218.04 180.993 2220.08 180.993 Q2225.45 180.993 2228.65 183.678 Q2231.84 186.363 2231.84 190.854 Q2231.84 192.983 2231.03 194.905 Q2230.24 196.803 2228.14 199.395 Q2227.56 200.067 2224.46 203.284 Q2221.35 206.479 2215.71 212.242 Z\" fill=\"#000000\" fill-rule=\"evenodd\" fill-opacity=\"1\" /></svg>\n",
      "text/html": [
       "<?xml version=\"1.0\" encoding=\"utf-8\"?>\n",
       "<svg xmlns=\"http://www.w3.org/2000/svg\" xmlns:xlink=\"http://www.w3.org/1999/xlink\" width=\"600\" height=\"400\" viewBox=\"0 0 2400 1600\">\n",
       "<defs>\n",
       "  <clipPath id=\"clip370\">\n",
       "    <rect x=\"0\" y=\"0\" width=\"2400\" height=\"1600\"/>\n",
       "  </clipPath>\n",
       "</defs>\n",
       "<path clip-path=\"url(#clip370)\" d=\"\n",
       "M0 1600 L2400 1600 L2400 0 L0 0  Z\n",
       "  \" fill=\"#ffffff\" fill-rule=\"evenodd\" fill-opacity=\"1\"/>\n",
       "<defs>\n",
       "  <clipPath id=\"clip371\">\n",
       "    <rect x=\"480\" y=\"0\" width=\"1681\" height=\"1600\"/>\n",
       "  </clipPath>\n",
       "</defs>\n",
       "<path clip-path=\"url(#clip370)\" d=\"\n",
       "M186.274 1486.45 L2352.76 1486.45 L2352.76 47.2441 L186.274 47.2441  Z\n",
       "  \" fill=\"#ffffff\" fill-rule=\"evenodd\" fill-opacity=\"1\"/>\n",
       "<defs>\n",
       "  <clipPath id=\"clip372\">\n",
       "    <rect x=\"186\" y=\"47\" width=\"2167\" height=\"1440\"/>\n",
       "  </clipPath>\n",
       "</defs>\n",
       "<polyline clip-path=\"url(#clip372)\" style=\"stroke:#000000; stroke-linecap:butt; stroke-linejoin:round; stroke-width:2; stroke-opacity:0.1; fill:none\" points=\"\n",
       "  247.59,1486.45 247.59,47.2441 \n",
       "  \"/>\n",
       "<polyline clip-path=\"url(#clip372)\" style=\"stroke:#000000; stroke-linecap:butt; stroke-linejoin:round; stroke-width:2; stroke-opacity:0.1; fill:none\" points=\"\n",
       "  758.552,1486.45 758.552,47.2441 \n",
       "  \"/>\n",
       "<polyline clip-path=\"url(#clip372)\" style=\"stroke:#000000; stroke-linecap:butt; stroke-linejoin:round; stroke-width:2; stroke-opacity:0.1; fill:none\" points=\"\n",
       "  1269.51,1486.45 1269.51,47.2441 \n",
       "  \"/>\n",
       "<polyline clip-path=\"url(#clip372)\" style=\"stroke:#000000; stroke-linecap:butt; stroke-linejoin:round; stroke-width:2; stroke-opacity:0.1; fill:none\" points=\"\n",
       "  1780.48,1486.45 1780.48,47.2441 \n",
       "  \"/>\n",
       "<polyline clip-path=\"url(#clip372)\" style=\"stroke:#000000; stroke-linecap:butt; stroke-linejoin:round; stroke-width:2; stroke-opacity:0.1; fill:none\" points=\"\n",
       "  2291.44,1486.45 2291.44,47.2441 \n",
       "  \"/>\n",
       "<polyline clip-path=\"url(#clip370)\" style=\"stroke:#000000; stroke-linecap:butt; stroke-linejoin:round; stroke-width:4; stroke-opacity:1; fill:none\" points=\"\n",
       "  186.274,1486.45 2352.76,1486.45 \n",
       "  \"/>\n",
       "<polyline clip-path=\"url(#clip370)\" style=\"stroke:#000000; stroke-linecap:butt; stroke-linejoin:round; stroke-width:4; stroke-opacity:1; fill:none\" points=\"\n",
       "  247.59,1486.45 247.59,1467.55 \n",
       "  \"/>\n",
       "<polyline clip-path=\"url(#clip370)\" style=\"stroke:#000000; stroke-linecap:butt; stroke-linejoin:round; stroke-width:4; stroke-opacity:1; fill:none\" points=\"\n",
       "  758.552,1486.45 758.552,1467.55 \n",
       "  \"/>\n",
       "<polyline clip-path=\"url(#clip370)\" style=\"stroke:#000000; stroke-linecap:butt; stroke-linejoin:round; stroke-width:4; stroke-opacity:1; fill:none\" points=\"\n",
       "  1269.51,1486.45 1269.51,1467.55 \n",
       "  \"/>\n",
       "<polyline clip-path=\"url(#clip370)\" style=\"stroke:#000000; stroke-linecap:butt; stroke-linejoin:round; stroke-width:4; stroke-opacity:1; fill:none\" points=\"\n",
       "  1780.48,1486.45 1780.48,1467.55 \n",
       "  \"/>\n",
       "<polyline clip-path=\"url(#clip370)\" style=\"stroke:#000000; stroke-linecap:butt; stroke-linejoin:round; stroke-width:4; stroke-opacity:1; fill:none\" points=\"\n",
       "  2291.44,1486.45 2291.44,1467.55 \n",
       "  \"/>\n",
       "<path clip-path=\"url(#clip370)\" d=\"M209.893 1517.37 Q206.282 1517.37 204.453 1520.93 Q202.648 1524.47 202.648 1531.6 Q202.648 1538.71 204.453 1542.27 Q206.282 1545.82 209.893 1545.82 Q213.527 1545.82 215.333 1542.27 Q217.161 1538.71 217.161 1531.6 Q217.161 1524.47 215.333 1520.93 Q213.527 1517.37 209.893 1517.37 M209.893 1513.66 Q215.703 1513.66 218.759 1518.27 Q221.837 1522.85 221.837 1531.6 Q221.837 1540.33 218.759 1544.94 Q215.703 1549.52 209.893 1549.52 Q204.083 1549.52 201.004 1544.94 Q197.949 1540.33 197.949 1531.6 Q197.949 1522.85 201.004 1518.27 Q204.083 1513.66 209.893 1513.66 Z\" fill=\"#000000\" fill-rule=\"evenodd\" fill-opacity=\"1\" /><path clip-path=\"url(#clip370)\" d=\"M230.055 1542.97 L234.939 1542.97 L234.939 1548.85 L230.055 1548.85 L230.055 1542.97 Z\" fill=\"#000000\" fill-rule=\"evenodd\" fill-opacity=\"1\" /><path clip-path=\"url(#clip370)\" d=\"M255.124 1517.37 Q251.513 1517.37 249.684 1520.93 Q247.879 1524.47 247.879 1531.6 Q247.879 1538.71 249.684 1542.27 Q251.513 1545.82 255.124 1545.82 Q258.758 1545.82 260.564 1542.27 Q262.393 1538.71 262.393 1531.6 Q262.393 1524.47 260.564 1520.93 Q258.758 1517.37 255.124 1517.37 M255.124 1513.66 Q260.934 1513.66 263.99 1518.27 Q267.069 1522.85 267.069 1531.6 Q267.069 1540.33 263.99 1544.94 Q260.934 1549.52 255.124 1549.52 Q249.314 1549.52 246.235 1544.94 Q243.18 1540.33 243.18 1531.6 Q243.18 1522.85 246.235 1518.27 Q249.314 1513.66 255.124 1513.66 Z\" fill=\"#000000\" fill-rule=\"evenodd\" fill-opacity=\"1\" /><path clip-path=\"url(#clip370)\" d=\"M285.286 1517.37 Q281.675 1517.37 279.846 1520.93 Q278.041 1524.47 278.041 1531.6 Q278.041 1538.71 279.846 1542.27 Q281.675 1545.82 285.286 1545.82 Q288.92 1545.82 290.726 1542.27 Q292.555 1538.71 292.555 1531.6 Q292.555 1524.47 290.726 1520.93 Q288.92 1517.37 285.286 1517.37 M285.286 1513.66 Q291.096 1513.66 294.152 1518.27 Q297.23 1522.85 297.23 1531.6 Q297.23 1540.33 294.152 1544.94 Q291.096 1549.52 285.286 1549.52 Q279.476 1549.52 276.397 1544.94 Q273.342 1540.33 273.342 1531.6 Q273.342 1522.85 276.397 1518.27 Q279.476 1513.66 285.286 1513.66 Z\" fill=\"#000000\" fill-rule=\"evenodd\" fill-opacity=\"1\" /><path clip-path=\"url(#clip370)\" d=\"M721.353 1517.37 Q717.742 1517.37 715.914 1520.93 Q714.108 1524.47 714.108 1531.6 Q714.108 1538.71 715.914 1542.27 Q717.742 1545.82 721.353 1545.82 Q724.988 1545.82 726.793 1542.27 Q728.622 1538.71 728.622 1531.6 Q728.622 1524.47 726.793 1520.93 Q724.988 1517.37 721.353 1517.37 M721.353 1513.66 Q727.164 1513.66 730.219 1518.27 Q733.298 1522.85 733.298 1531.6 Q733.298 1540.33 730.219 1544.94 Q727.164 1549.52 721.353 1549.52 Q715.543 1549.52 712.465 1544.94 Q709.409 1540.33 709.409 1531.6 Q709.409 1522.85 712.465 1518.27 Q715.543 1513.66 721.353 1513.66 Z\" fill=\"#000000\" fill-rule=\"evenodd\" fill-opacity=\"1\" /><path clip-path=\"url(#clip370)\" d=\"M741.515 1542.97 L746.4 1542.97 L746.4 1548.85 L741.515 1548.85 L741.515 1542.97 Z\" fill=\"#000000\" fill-rule=\"evenodd\" fill-opacity=\"1\" /><path clip-path=\"url(#clip370)\" d=\"M760.612 1544.91 L776.932 1544.91 L776.932 1548.85 L754.987 1548.85 L754.987 1544.91 Q757.649 1542.16 762.233 1537.53 Q766.839 1532.88 768.02 1531.53 Q770.265 1529.01 771.145 1527.27 Q772.048 1525.51 772.048 1523.82 Q772.048 1521.07 770.103 1519.33 Q768.182 1517.6 765.08 1517.6 Q762.881 1517.6 760.427 1518.36 Q757.997 1519.13 755.219 1520.68 L755.219 1515.95 Q758.043 1514.82 760.497 1514.24 Q762.95 1513.66 764.987 1513.66 Q770.358 1513.66 773.552 1516.35 Q776.747 1519.03 776.747 1523.52 Q776.747 1525.65 775.936 1527.57 Q775.149 1529.47 773.043 1532.07 Q772.464 1532.74 769.362 1535.95 Q766.261 1539.15 760.612 1544.91 Z\" fill=\"#000000\" fill-rule=\"evenodd\" fill-opacity=\"1\" /><path clip-path=\"url(#clip370)\" d=\"M786.793 1514.29 L805.149 1514.29 L805.149 1518.22 L791.075 1518.22 L791.075 1526.7 Q792.094 1526.35 793.112 1526.19 Q794.131 1526 795.149 1526 Q800.936 1526 804.316 1529.17 Q807.695 1532.34 807.695 1537.76 Q807.695 1543.34 804.223 1546.44 Q800.751 1549.52 794.432 1549.52 Q792.256 1549.52 789.987 1549.15 Q787.742 1548.78 785.335 1548.04 L785.335 1543.34 Q787.418 1544.47 789.64 1545.03 Q791.862 1545.58 794.339 1545.58 Q798.344 1545.58 800.682 1543.48 Q803.02 1541.37 803.02 1537.76 Q803.02 1534.15 800.682 1532.04 Q798.344 1529.94 794.339 1529.94 Q792.464 1529.94 790.589 1530.35 Q788.737 1530.77 786.793 1531.65 L786.793 1514.29 Z\" fill=\"#000000\" fill-rule=\"evenodd\" fill-opacity=\"1\" /><path clip-path=\"url(#clip370)\" d=\"M1231.82 1517.37 Q1228.21 1517.37 1226.38 1520.93 Q1224.57 1524.47 1224.57 1531.6 Q1224.57 1538.71 1226.38 1542.27 Q1228.21 1545.82 1231.82 1545.82 Q1235.45 1545.82 1237.26 1542.27 Q1239.09 1538.71 1239.09 1531.6 Q1239.09 1524.47 1237.26 1520.93 Q1235.45 1517.37 1231.82 1517.37 M1231.82 1513.66 Q1237.63 1513.66 1240.68 1518.27 Q1243.76 1522.85 1243.76 1531.6 Q1243.76 1540.33 1240.68 1544.94 Q1237.63 1549.52 1231.82 1549.52 Q1226.01 1549.52 1222.93 1544.94 Q1219.87 1540.33 1219.87 1531.6 Q1219.87 1522.85 1222.93 1518.27 Q1226.01 1513.66 1231.82 1513.66 Z\" fill=\"#000000\" fill-rule=\"evenodd\" fill-opacity=\"1\" /><path clip-path=\"url(#clip370)\" d=\"M1251.98 1542.97 L1256.86 1542.97 L1256.86 1548.85 L1251.98 1548.85 L1251.98 1542.97 Z\" fill=\"#000000\" fill-rule=\"evenodd\" fill-opacity=\"1\" /><path clip-path=\"url(#clip370)\" d=\"M1267.1 1514.29 L1285.45 1514.29 L1285.45 1518.22 L1271.38 1518.22 L1271.38 1526.7 Q1272.4 1526.35 1273.42 1526.19 Q1274.43 1526 1275.45 1526 Q1281.24 1526 1284.62 1529.17 Q1288 1532.34 1288 1537.76 Q1288 1543.34 1284.53 1546.44 Q1281.05 1549.52 1274.73 1549.52 Q1272.56 1549.52 1270.29 1549.15 Q1268.05 1548.78 1265.64 1548.04 L1265.64 1543.34 Q1267.72 1544.47 1269.94 1545.03 Q1272.17 1545.58 1274.64 1545.58 Q1278.65 1545.58 1280.98 1543.48 Q1283.32 1541.37 1283.32 1537.76 Q1283.32 1534.15 1280.98 1532.04 Q1278.65 1529.94 1274.64 1529.94 Q1272.77 1529.94 1270.89 1530.35 Q1269.04 1530.77 1267.1 1531.65 L1267.1 1514.29 Z\" fill=\"#000000\" fill-rule=\"evenodd\" fill-opacity=\"1\" /><path clip-path=\"url(#clip370)\" d=\"M1307.21 1517.37 Q1303.6 1517.37 1301.77 1520.93 Q1299.97 1524.47 1299.97 1531.6 Q1299.97 1538.71 1301.77 1542.27 Q1303.6 1545.82 1307.21 1545.82 Q1310.85 1545.82 1312.65 1542.27 Q1314.48 1538.71 1314.48 1531.6 Q1314.48 1524.47 1312.65 1520.93 Q1310.85 1517.37 1307.21 1517.37 M1307.21 1513.66 Q1313.02 1513.66 1316.08 1518.27 Q1319.16 1522.85 1319.16 1531.6 Q1319.16 1540.33 1316.08 1544.94 Q1313.02 1549.52 1307.21 1549.52 Q1301.4 1549.52 1298.32 1544.94 Q1295.27 1540.33 1295.27 1531.6 Q1295.27 1522.85 1298.32 1518.27 Q1301.4 1513.66 1307.21 1513.66 Z\" fill=\"#000000\" fill-rule=\"evenodd\" fill-opacity=\"1\" /><path clip-path=\"url(#clip370)\" d=\"M1743.28 1517.37 Q1739.67 1517.37 1737.84 1520.93 Q1736.03 1524.47 1736.03 1531.6 Q1736.03 1538.71 1737.84 1542.27 Q1739.67 1545.82 1743.28 1545.82 Q1746.91 1545.82 1748.72 1542.27 Q1750.55 1538.71 1750.55 1531.6 Q1750.55 1524.47 1748.72 1520.93 Q1746.91 1517.37 1743.28 1517.37 M1743.28 1513.66 Q1749.09 1513.66 1752.14 1518.27 Q1755.22 1522.85 1755.22 1531.6 Q1755.22 1540.33 1752.14 1544.94 Q1749.09 1549.52 1743.28 1549.52 Q1737.47 1549.52 1734.39 1544.94 Q1731.33 1540.33 1731.33 1531.6 Q1731.33 1522.85 1734.39 1518.27 Q1737.47 1513.66 1743.28 1513.66 Z\" fill=\"#000000\" fill-rule=\"evenodd\" fill-opacity=\"1\" /><path clip-path=\"url(#clip370)\" d=\"M1763.44 1542.97 L1768.32 1542.97 L1768.32 1548.85 L1763.44 1548.85 L1763.44 1542.97 Z\" fill=\"#000000\" fill-rule=\"evenodd\" fill-opacity=\"1\" /><path clip-path=\"url(#clip370)\" d=\"M1777.33 1514.29 L1799.55 1514.29 L1799.55 1516.28 L1787.01 1548.85 L1782.12 1548.85 L1793.93 1518.22 L1777.33 1518.22 L1777.33 1514.29 Z\" fill=\"#000000\" fill-rule=\"evenodd\" fill-opacity=\"1\" /><path clip-path=\"url(#clip370)\" d=\"M1808.72 1514.29 L1827.07 1514.29 L1827.07 1518.22 L1813 1518.22 L1813 1526.7 Q1814.02 1526.35 1815.04 1526.19 Q1816.06 1526 1817.07 1526 Q1822.86 1526 1826.24 1529.17 Q1829.62 1532.34 1829.62 1537.76 Q1829.62 1543.34 1826.15 1546.44 Q1822.68 1549.52 1816.36 1549.52 Q1814.18 1549.52 1811.91 1549.15 Q1809.67 1548.78 1807.26 1548.04 L1807.26 1543.34 Q1809.34 1544.47 1811.57 1545.03 Q1813.79 1545.58 1816.26 1545.58 Q1820.27 1545.58 1822.61 1543.48 Q1824.95 1541.37 1824.95 1537.76 Q1824.95 1534.15 1822.61 1532.04 Q1820.27 1529.94 1816.26 1529.94 Q1814.39 1529.94 1812.51 1530.35 Q1810.66 1530.77 1808.72 1531.65 L1808.72 1514.29 Z\" fill=\"#000000\" fill-rule=\"evenodd\" fill-opacity=\"1\" /><path clip-path=\"url(#clip370)\" d=\"M2243.51 1544.91 L2251.15 1544.91 L2251.15 1518.55 L2242.84 1520.21 L2242.84 1515.95 L2251.1 1514.29 L2255.78 1514.29 L2255.78 1544.91 L2263.42 1544.91 L2263.42 1548.85 L2243.51 1548.85 L2243.51 1544.91 Z\" fill=\"#000000\" fill-rule=\"evenodd\" fill-opacity=\"1\" /><path clip-path=\"url(#clip370)\" d=\"M2272.86 1542.97 L2277.75 1542.97 L2277.75 1548.85 L2272.86 1548.85 L2272.86 1542.97 Z\" fill=\"#000000\" fill-rule=\"evenodd\" fill-opacity=\"1\" /><path clip-path=\"url(#clip370)\" d=\"M2297.93 1517.37 Q2294.32 1517.37 2292.49 1520.93 Q2290.69 1524.47 2290.69 1531.6 Q2290.69 1538.71 2292.49 1542.27 Q2294.32 1545.82 2297.93 1545.82 Q2301.57 1545.82 2303.37 1542.27 Q2305.2 1538.71 2305.2 1531.6 Q2305.2 1524.47 2303.37 1520.93 Q2301.57 1517.37 2297.93 1517.37 M2297.93 1513.66 Q2303.74 1513.66 2306.8 1518.27 Q2309.88 1522.85 2309.88 1531.6 Q2309.88 1540.33 2306.8 1544.94 Q2303.74 1549.52 2297.93 1549.52 Q2292.12 1549.52 2289.04 1544.94 Q2285.99 1540.33 2285.99 1531.6 Q2285.99 1522.85 2289.04 1518.27 Q2292.12 1513.66 2297.93 1513.66 Z\" fill=\"#000000\" fill-rule=\"evenodd\" fill-opacity=\"1\" /><path clip-path=\"url(#clip370)\" d=\"M2328.1 1517.37 Q2324.48 1517.37 2322.66 1520.93 Q2320.85 1524.47 2320.85 1531.6 Q2320.85 1538.71 2322.66 1542.27 Q2324.48 1545.82 2328.1 1545.82 Q2331.73 1545.82 2333.54 1542.27 Q2335.36 1538.71 2335.36 1531.6 Q2335.36 1524.47 2333.54 1520.93 Q2331.73 1517.37 2328.1 1517.37 M2328.1 1513.66 Q2333.91 1513.66 2336.96 1518.27 Q2340.04 1522.85 2340.04 1531.6 Q2340.04 1540.33 2336.96 1544.94 Q2333.91 1549.52 2328.1 1549.52 Q2322.29 1549.52 2319.21 1544.94 Q2316.15 1540.33 2316.15 1531.6 Q2316.15 1522.85 2319.21 1518.27 Q2322.29 1513.66 2328.1 1513.66 Z\" fill=\"#000000\" fill-rule=\"evenodd\" fill-opacity=\"1\" /><polyline clip-path=\"url(#clip372)\" style=\"stroke:#000000; stroke-linecap:butt; stroke-linejoin:round; stroke-width:2; stroke-opacity:0.1; fill:none\" points=\"\n",
       "  186.274,1469.96 2352.76,1469.96 \n",
       "  \"/>\n",
       "<polyline clip-path=\"url(#clip372)\" style=\"stroke:#000000; stroke-linecap:butt; stroke-linejoin:round; stroke-width:2; stroke-opacity:0.1; fill:none\" points=\"\n",
       "  186.274,1124.46 2352.76,1124.46 \n",
       "  \"/>\n",
       "<polyline clip-path=\"url(#clip372)\" style=\"stroke:#000000; stroke-linecap:butt; stroke-linejoin:round; stroke-width:2; stroke-opacity:0.1; fill:none\" points=\"\n",
       "  186.274,778.969 2352.76,778.969 \n",
       "  \"/>\n",
       "<polyline clip-path=\"url(#clip372)\" style=\"stroke:#000000; stroke-linecap:butt; stroke-linejoin:round; stroke-width:2; stroke-opacity:0.1; fill:none\" points=\"\n",
       "  186.274,433.472 2352.76,433.472 \n",
       "  \"/>\n",
       "<polyline clip-path=\"url(#clip372)\" style=\"stroke:#000000; stroke-linecap:butt; stroke-linejoin:round; stroke-width:2; stroke-opacity:0.1; fill:none\" points=\"\n",
       "  186.274,87.9763 2352.76,87.9763 \n",
       "  \"/>\n",
       "<polyline clip-path=\"url(#clip370)\" style=\"stroke:#000000; stroke-linecap:butt; stroke-linejoin:round; stroke-width:4; stroke-opacity:1; fill:none\" points=\"\n",
       "  186.274,1486.45 186.274,47.2441 \n",
       "  \"/>\n",
       "<polyline clip-path=\"url(#clip370)\" style=\"stroke:#000000; stroke-linecap:butt; stroke-linejoin:round; stroke-width:4; stroke-opacity:1; fill:none\" points=\"\n",
       "  186.274,1469.96 205.172,1469.96 \n",
       "  \"/>\n",
       "<polyline clip-path=\"url(#clip370)\" style=\"stroke:#000000; stroke-linecap:butt; stroke-linejoin:round; stroke-width:4; stroke-opacity:1; fill:none\" points=\"\n",
       "  186.274,1124.46 205.172,1124.46 \n",
       "  \"/>\n",
       "<polyline clip-path=\"url(#clip370)\" style=\"stroke:#000000; stroke-linecap:butt; stroke-linejoin:round; stroke-width:4; stroke-opacity:1; fill:none\" points=\"\n",
       "  186.274,778.969 205.172,778.969 \n",
       "  \"/>\n",
       "<polyline clip-path=\"url(#clip370)\" style=\"stroke:#000000; stroke-linecap:butt; stroke-linejoin:round; stroke-width:4; stroke-opacity:1; fill:none\" points=\"\n",
       "  186.274,433.472 205.172,433.472 \n",
       "  \"/>\n",
       "<polyline clip-path=\"url(#clip370)\" style=\"stroke:#000000; stroke-linecap:butt; stroke-linejoin:round; stroke-width:4; stroke-opacity:1; fill:none\" points=\"\n",
       "  186.274,87.9763 205.172,87.9763 \n",
       "  \"/>\n",
       "<path clip-path=\"url(#clip370)\" d=\"M62.9365 1455.76 Q59.3254 1455.76 57.4967 1459.32 Q55.6912 1462.87 55.6912 1470 Q55.6912 1477.1 57.4967 1480.67 Q59.3254 1484.21 62.9365 1484.21 Q66.5707 1484.21 68.3763 1480.67 Q70.205 1477.1 70.205 1470 Q70.205 1462.87 68.3763 1459.32 Q66.5707 1455.76 62.9365 1455.76 M62.9365 1452.06 Q68.7467 1452.06 71.8022 1456.66 Q74.8809 1461.25 74.8809 1470 Q74.8809 1478.72 71.8022 1483.33 Q68.7467 1487.91 62.9365 1487.91 Q57.1264 1487.91 54.0477 1483.33 Q50.9921 1478.72 50.9921 1470 Q50.9921 1461.25 54.0477 1456.66 Q57.1264 1452.06 62.9365 1452.06 Z\" fill=\"#000000\" fill-rule=\"evenodd\" fill-opacity=\"1\" /><path clip-path=\"url(#clip370)\" d=\"M83.0984 1481.36 L87.9827 1481.36 L87.9827 1487.24 L83.0984 1487.24 L83.0984 1481.36 Z\" fill=\"#000000\" fill-rule=\"evenodd\" fill-opacity=\"1\" /><path clip-path=\"url(#clip370)\" d=\"M108.168 1455.76 Q104.557 1455.76 102.728 1459.32 Q100.922 1462.87 100.922 1470 Q100.922 1477.1 102.728 1480.67 Q104.557 1484.21 108.168 1484.21 Q111.802 1484.21 113.608 1480.67 Q115.436 1477.1 115.436 1470 Q115.436 1462.87 113.608 1459.32 Q111.802 1455.76 108.168 1455.76 M108.168 1452.06 Q113.978 1452.06 117.033 1456.66 Q120.112 1461.25 120.112 1470 Q120.112 1478.72 117.033 1483.33 Q113.978 1487.91 108.168 1487.91 Q102.358 1487.91 99.2789 1483.33 Q96.2234 1478.72 96.2234 1470 Q96.2234 1461.25 99.2789 1456.66 Q102.358 1452.06 108.168 1452.06 Z\" fill=\"#000000\" fill-rule=\"evenodd\" fill-opacity=\"1\" /><path clip-path=\"url(#clip370)\" d=\"M138.33 1455.76 Q134.719 1455.76 132.89 1459.32 Q131.084 1462.87 131.084 1470 Q131.084 1477.1 132.89 1480.67 Q134.719 1484.21 138.33 1484.21 Q141.964 1484.21 143.769 1480.67 Q145.598 1477.1 145.598 1470 Q145.598 1462.87 143.769 1459.32 Q141.964 1455.76 138.33 1455.76 M138.33 1452.06 Q144.14 1452.06 147.195 1456.66 Q150.274 1461.25 150.274 1470 Q150.274 1478.72 147.195 1483.33 Q144.14 1487.91 138.33 1487.91 Q132.519 1487.91 129.441 1483.33 Q126.385 1478.72 126.385 1470 Q126.385 1461.25 129.441 1456.66 Q132.519 1452.06 138.33 1452.06 Z\" fill=\"#000000\" fill-rule=\"evenodd\" fill-opacity=\"1\" /><path clip-path=\"url(#clip370)\" d=\"M63.9319 1110.26 Q60.3208 1110.26 58.4921 1113.83 Q56.6865 1117.37 56.6865 1124.5 Q56.6865 1131.61 58.4921 1135.17 Q60.3208 1138.71 63.9319 1138.71 Q67.5661 1138.71 69.3717 1135.17 Q71.2004 1131.61 71.2004 1124.5 Q71.2004 1117.37 69.3717 1113.83 Q67.5661 1110.26 63.9319 1110.26 M63.9319 1106.56 Q69.742 1106.56 72.7976 1111.17 Q75.8763 1115.75 75.8763 1124.5 Q75.8763 1133.23 72.7976 1137.83 Q69.742 1142.42 63.9319 1142.42 Q58.1217 1142.42 55.043 1137.83 Q51.9875 1133.23 51.9875 1124.5 Q51.9875 1115.75 55.043 1111.17 Q58.1217 1106.56 63.9319 1106.56 Z\" fill=\"#000000\" fill-rule=\"evenodd\" fill-opacity=\"1\" /><path clip-path=\"url(#clip370)\" d=\"M84.0938 1135.87 L88.978 1135.87 L88.978 1141.74 L84.0938 1141.74 L84.0938 1135.87 Z\" fill=\"#000000\" fill-rule=\"evenodd\" fill-opacity=\"1\" /><path clip-path=\"url(#clip370)\" d=\"M103.191 1137.81 L119.51 1137.81 L119.51 1141.74 L97.566 1141.74 L97.566 1137.81 Q100.228 1135.06 104.811 1130.43 Q109.418 1125.77 110.598 1124.43 Q112.844 1121.91 113.723 1120.17 Q114.626 1118.41 114.626 1116.72 Q114.626 1113.97 112.682 1112.23 Q110.76 1110.5 107.658 1110.5 Q105.459 1110.5 103.006 1111.26 Q100.575 1112.02 97.7974 1113.57 L97.7974 1108.85 Q100.621 1107.72 103.075 1107.14 Q105.529 1106.56 107.566 1106.56 Q112.936 1106.56 116.131 1109.25 Q119.325 1111.93 119.325 1116.42 Q119.325 1118.55 118.515 1120.47 Q117.728 1122.37 115.621 1124.96 Q115.043 1125.63 111.941 1128.85 Q108.839 1132.05 103.191 1137.81 Z\" fill=\"#000000\" fill-rule=\"evenodd\" fill-opacity=\"1\" /><path clip-path=\"url(#clip370)\" d=\"M129.371 1107.18 L147.728 1107.18 L147.728 1111.12 L133.654 1111.12 L133.654 1119.59 Q134.672 1119.24 135.691 1119.08 Q136.709 1118.9 137.728 1118.9 Q143.515 1118.9 146.894 1122.07 Q150.274 1125.24 150.274 1130.66 Q150.274 1136.24 146.802 1139.34 Q143.33 1142.42 137.01 1142.42 Q134.834 1142.42 132.566 1142.05 Q130.32 1141.68 127.913 1140.93 L127.913 1136.24 Q129.996 1137.37 132.219 1137.93 Q134.441 1138.48 136.918 1138.48 Q140.922 1138.48 143.26 1136.37 Q145.598 1134.27 145.598 1130.66 Q145.598 1127.05 143.26 1124.94 Q140.922 1122.83 136.918 1122.83 Q135.043 1122.83 133.168 1123.25 Q131.316 1123.67 129.371 1124.55 L129.371 1107.18 Z\" fill=\"#000000\" fill-rule=\"evenodd\" fill-opacity=\"1\" /><path clip-path=\"url(#clip370)\" d=\"M62.9365 764.767 Q59.3254 764.767 57.4967 768.332 Q55.6912 771.874 55.6912 779.003 Q55.6912 786.11 57.4967 789.675 Q59.3254 793.216 62.9365 793.216 Q66.5707 793.216 68.3763 789.675 Q70.205 786.11 70.205 779.003 Q70.205 771.874 68.3763 768.332 Q66.5707 764.767 62.9365 764.767 M62.9365 761.064 Q68.7467 761.064 71.8022 765.67 Q74.8809 770.253 74.8809 779.003 Q74.8809 787.73 71.8022 792.337 Q68.7467 796.92 62.9365 796.92 Q57.1264 796.92 54.0477 792.337 Q50.9921 787.73 50.9921 779.003 Q50.9921 770.253 54.0477 765.67 Q57.1264 761.064 62.9365 761.064 Z\" fill=\"#000000\" fill-rule=\"evenodd\" fill-opacity=\"1\" /><path clip-path=\"url(#clip370)\" d=\"M83.0984 790.369 L87.9827 790.369 L87.9827 796.249 L83.0984 796.249 L83.0984 790.369 Z\" fill=\"#000000\" fill-rule=\"evenodd\" fill-opacity=\"1\" /><path clip-path=\"url(#clip370)\" d=\"M98.2141 761.689 L116.57 761.689 L116.57 765.624 L102.496 765.624 L102.496 774.096 Q103.515 773.749 104.534 773.587 Q105.552 773.402 106.571 773.402 Q112.358 773.402 115.737 776.573 Q119.117 779.744 119.117 785.161 Q119.117 790.739 115.645 793.841 Q112.172 796.92 105.853 796.92 Q103.677 796.92 101.409 796.55 Q99.1632 796.179 96.7558 795.438 L96.7558 790.739 Q98.8391 791.874 101.061 792.429 Q103.284 792.985 105.76 792.985 Q109.765 792.985 112.103 790.878 Q114.441 788.772 114.441 785.161 Q114.441 781.55 112.103 779.443 Q109.765 777.337 105.76 777.337 Q103.885 777.337 102.01 777.753 Q100.159 778.17 98.2141 779.05 L98.2141 761.689 Z\" fill=\"#000000\" fill-rule=\"evenodd\" fill-opacity=\"1\" /><path clip-path=\"url(#clip370)\" d=\"M138.33 764.767 Q134.719 764.767 132.89 768.332 Q131.084 771.874 131.084 779.003 Q131.084 786.11 132.89 789.675 Q134.719 793.216 138.33 793.216 Q141.964 793.216 143.769 789.675 Q145.598 786.11 145.598 779.003 Q145.598 771.874 143.769 768.332 Q141.964 764.767 138.33 764.767 M138.33 761.064 Q144.14 761.064 147.195 765.67 Q150.274 770.253 150.274 779.003 Q150.274 787.73 147.195 792.337 Q144.14 796.92 138.33 796.92 Q132.519 796.92 129.441 792.337 Q126.385 787.73 126.385 779.003 Q126.385 770.253 129.441 765.67 Q132.519 761.064 138.33 761.064 Z\" fill=\"#000000\" fill-rule=\"evenodd\" fill-opacity=\"1\" /><path clip-path=\"url(#clip370)\" d=\"M63.9319 419.271 Q60.3208 419.271 58.4921 422.836 Q56.6865 426.378 56.6865 433.507 Q56.6865 440.614 58.4921 444.178 Q60.3208 447.72 63.9319 447.72 Q67.5661 447.72 69.3717 444.178 Q71.2004 440.614 71.2004 433.507 Q71.2004 426.378 69.3717 422.836 Q67.5661 419.271 63.9319 419.271 M63.9319 415.567 Q69.742 415.567 72.7976 420.174 Q75.8763 424.757 75.8763 433.507 Q75.8763 442.234 72.7976 446.84 Q69.742 451.424 63.9319 451.424 Q58.1217 451.424 55.043 446.84 Q51.9875 442.234 51.9875 433.507 Q51.9875 424.757 55.043 420.174 Q58.1217 415.567 63.9319 415.567 Z\" fill=\"#000000\" fill-rule=\"evenodd\" fill-opacity=\"1\" /><path clip-path=\"url(#clip370)\" d=\"M84.0938 444.873 L88.978 444.873 L88.978 450.752 L84.0938 450.752 L84.0938 444.873 Z\" fill=\"#000000\" fill-rule=\"evenodd\" fill-opacity=\"1\" /><path clip-path=\"url(#clip370)\" d=\"M97.9826 416.192 L120.205 416.192 L120.205 418.183 L107.658 450.752 L102.774 450.752 L114.58 420.128 L97.9826 420.128 L97.9826 416.192 Z\" fill=\"#000000\" fill-rule=\"evenodd\" fill-opacity=\"1\" /><path clip-path=\"url(#clip370)\" d=\"M129.371 416.192 L147.728 416.192 L147.728 420.128 L133.654 420.128 L133.654 428.6 Q134.672 428.253 135.691 428.091 Q136.709 427.905 137.728 427.905 Q143.515 427.905 146.894 431.077 Q150.274 434.248 150.274 439.665 Q150.274 445.243 146.802 448.345 Q143.33 451.424 137.01 451.424 Q134.834 451.424 132.566 451.053 Q130.32 450.683 127.913 449.942 L127.913 445.243 Q129.996 446.377 132.219 446.933 Q134.441 447.489 136.918 447.489 Q140.922 447.489 143.26 445.382 Q145.598 443.276 145.598 439.665 Q145.598 436.053 143.26 433.947 Q140.922 431.841 136.918 431.841 Q135.043 431.841 133.168 432.257 Q131.316 432.674 129.371 433.553 L129.371 416.192 Z\" fill=\"#000000\" fill-rule=\"evenodd\" fill-opacity=\"1\" /><path clip-path=\"url(#clip370)\" d=\"M53.7467 101.321 L61.3856 101.321 L61.3856 74.9555 L53.0754 76.6222 L53.0754 72.3629 L61.3393 70.6963 L66.0152 70.6963 L66.0152 101.321 L73.654 101.321 L73.654 105.256 L53.7467 105.256 L53.7467 101.321 Z\" fill=\"#000000\" fill-rule=\"evenodd\" fill-opacity=\"1\" /><path clip-path=\"url(#clip370)\" d=\"M83.0984 99.3767 L87.9827 99.3767 L87.9827 105.256 L83.0984 105.256 L83.0984 99.3767 Z\" fill=\"#000000\" fill-rule=\"evenodd\" fill-opacity=\"1\" /><path clip-path=\"url(#clip370)\" d=\"M108.168 73.775 Q104.557 73.775 102.728 77.3398 Q100.922 80.8814 100.922 88.011 Q100.922 95.1174 102.728 98.6822 Q104.557 102.224 108.168 102.224 Q111.802 102.224 113.608 98.6822 Q115.436 95.1174 115.436 88.011 Q115.436 80.8814 113.608 77.3398 Q111.802 73.775 108.168 73.775 M108.168 70.0713 Q113.978 70.0713 117.033 74.6777 Q120.112 79.261 120.112 88.011 Q120.112 96.7378 117.033 101.344 Q113.978 105.928 108.168 105.928 Q102.358 105.928 99.2789 101.344 Q96.2234 96.7378 96.2234 88.011 Q96.2234 79.261 99.2789 74.6777 Q102.358 70.0713 108.168 70.0713 Z\" fill=\"#000000\" fill-rule=\"evenodd\" fill-opacity=\"1\" /><path clip-path=\"url(#clip370)\" d=\"M138.33 73.775 Q134.719 73.775 132.89 77.3398 Q131.084 80.8814 131.084 88.011 Q131.084 95.1174 132.89 98.6822 Q134.719 102.224 138.33 102.224 Q141.964 102.224 143.769 98.6822 Q145.598 95.1174 145.598 88.011 Q145.598 80.8814 143.769 77.3398 Q141.964 73.775 138.33 73.775 M138.33 70.0713 Q144.14 70.0713 147.195 74.6777 Q150.274 79.261 150.274 88.011 Q150.274 96.7378 147.195 101.344 Q144.14 105.928 138.33 105.928 Q132.519 105.928 129.441 101.344 Q126.385 96.7378 126.385 88.011 Q126.385 79.261 129.441 74.6777 Q132.519 70.0713 138.33 70.0713 Z\" fill=\"#000000\" fill-rule=\"evenodd\" fill-opacity=\"1\" /><polyline clip-path=\"url(#clip372)\" style=\"stroke:#009af9; stroke-linecap:butt; stroke-linejoin:round; stroke-width:4; stroke-opacity:1; fill:none\" points=\"\n",
       "  247.59,917.167 268.028,917.167 288.467,917.167 308.905,917.167 329.344,917.167 349.782,917.167 370.221,917.167 390.659,1193.56 411.098,1193.56 431.536,1193.56 \n",
       "  451.975,1193.56 472.413,1193.56 492.852,1193.56 513.29,597.129 533.729,597.129 554.167,597.129 574.606,597.129 595.044,597.129 615.483,597.129 635.921,622.938 \n",
       "  656.36,622.938 676.798,622.938 697.237,622.938 717.675,622.938 738.114,622.938 758.552,371.46 778.991,371.46 799.429,371.46 819.868,371.46 840.306,371.46 \n",
       "  860.745,371.46 881.183,371.46 901.622,458.753 922.06,458.753 942.499,458.753 962.937,458.753 983.376,458.753 1003.81,458.753 1024.25,312.951 1044.69,312.951 \n",
       "  1065.13,312.951 1085.57,312.951 1106.01,312.951 1126.45,312.951 1146.88,238.192 1167.32,238.192 1187.76,238.192 1208.2,238.192 1228.64,238.192 1249.08,238.192 \n",
       "  1269.51,268.235 1289.95,268.235 1310.39,268.235 1330.83,268.235 1351.27,268.235 1371.71,268.235 1392.15,268.235 1412.58,392.013 1433.02,392.013 1453.46,392.013 \n",
       "  1473.9,392.013 1494.34,392.013 1514.78,392.013 1535.22,313.606 1555.65,313.606 1576.09,313.606 1596.53,313.606 1616.97,313.606 1637.41,313.606 1657.85,263.865 \n",
       "  1678.29,263.865 1698.72,263.865 1719.16,263.865 1739.6,263.865 1760.04,263.865 1780.48,134.823 1800.92,134.823 1821.35,134.823 1841.79,134.823 1862.23,134.823 \n",
       "  1882.67,134.823 1903.11,134.823 1923.55,87.9763 1943.99,87.9763 1964.42,87.9763 1984.86,87.9763 2005.3,87.9763 2025.74,87.9763 2046.18,87.9763 2066.62,87.9763 \n",
       "  2087.06,87.9763 2107.49,87.9763 2127.93,87.9763 2148.37,87.9763 2168.81,87.9763 2189.25,87.9763 2209.69,87.9763 2230.12,87.9763 2250.56,87.9763 2271,87.9763 \n",
       "  2291.44,87.9763 \n",
       "  \"/>\n",
       "<polyline clip-path=\"url(#clip372)\" style=\"stroke:#e26f46; stroke-linecap:butt; stroke-linejoin:round; stroke-width:4; stroke-opacity:1; fill:none\" points=\"\n",
       "  247.59,1445.72 268.028,1445.72 288.467,1445.72 308.905,1445.72 329.344,1445.72 349.782,1445.72 370.221,1445.72 390.659,1363.65 411.098,1363.65 431.536,1363.65 \n",
       "  451.975,1363.65 472.413,1363.65 492.852,1363.65 513.29,1180.71 533.729,1180.71 554.167,1180.71 574.606,1180.71 595.044,1180.71 615.483,1180.71 635.921,845.839 \n",
       "  656.36,845.839 676.798,845.839 697.237,845.839 717.675,845.839 738.114,845.839 758.552,929.184 778.991,929.184 799.429,929.184 819.868,929.184 840.306,929.184 \n",
       "  860.745,929.184 881.183,929.184 901.622,614.447 922.06,614.447 942.499,614.447 962.937,614.447 983.376,614.447 1003.81,614.447 1024.25,451.656 1044.69,451.656 \n",
       "  1065.13,451.656 1085.57,451.656 1106.01,451.656 1126.45,451.656 1146.88,951.717 1167.32,951.717 1187.76,951.717 1208.2,951.717 1228.64,951.717 1249.08,951.717 \n",
       "  1269.51,606.221 1289.95,606.221 1310.39,606.221 1330.83,606.221 1351.27,606.221 1371.71,606.221 1392.15,606.221 1412.58,894.134 1433.02,894.134 1453.46,894.134 \n",
       "  1473.9,894.134 1494.34,894.134 1514.78,894.134 1535.22,725.815 1555.65,725.815 1576.09,725.815 1596.53,725.815 1616.97,725.815 1637.41,725.815 1657.85,87.9763 \n",
       "  1678.29,87.9763 1698.72,87.9763 1719.16,87.9763 1739.6,87.9763 1760.04,87.9763 1780.48,87.9763 1800.92,87.9763 1821.35,87.9763 1841.79,87.9763 1862.23,87.9763 \n",
       "  1882.67,87.9763 1903.11,87.9763 1923.55,87.9763 1943.99,87.9763 1964.42,87.9763 1984.86,87.9763 2005.3,87.9763 2025.74,87.9763 \n",
       "  \"/>\n",
       "<path clip-path=\"url(#clip370)\" d=\"\n",
       "M1987.39 250.738 L2280.54 250.738 L2280.54 95.2176 L1987.39 95.2176  Z\n",
       "  \" fill=\"#ffffff\" fill-rule=\"evenodd\" fill-opacity=\"1\"/>\n",
       "<polyline clip-path=\"url(#clip370)\" style=\"stroke:#000000; stroke-linecap:butt; stroke-linejoin:round; stroke-width:4; stroke-opacity:1; fill:none\" points=\"\n",
       "  1987.39,250.738 2280.54,250.738 2280.54,95.2176 1987.39,95.2176 1987.39,250.738 \n",
       "  \"/>\n",
       "<polyline clip-path=\"url(#clip370)\" style=\"stroke:#009af9; stroke-linecap:butt; stroke-linejoin:round; stroke-width:4; stroke-opacity:1; fill:none\" points=\"\n",
       "  2011.46,147.058 2155.89,147.058 \n",
       "  \"/>\n",
       "<path clip-path=\"url(#clip370)\" d=\"M2193.81 166.745 Q2192 171.375 2190.29 172.787 Q2188.58 174.199 2185.71 174.199 L2182.3 174.199 L2182.3 170.634 L2184.8 170.634 Q2186.56 170.634 2187.53 169.8 Q2188.51 168.967 2189.69 165.865 L2190.45 163.921 L2179.97 138.412 L2184.48 138.412 L2192.58 158.689 L2200.68 138.412 L2205.2 138.412 L2193.81 166.745 Z\" fill=\"#000000\" fill-rule=\"evenodd\" fill-opacity=\"1\" /><path clip-path=\"url(#clip370)\" d=\"M2212.49 160.402 L2220.13 160.402 L2220.13 134.037 L2211.82 135.703 L2211.82 131.444 L2220.08 129.778 L2224.76 129.778 L2224.76 160.402 L2232.4 160.402 L2232.4 164.338 L2212.49 164.338 L2212.49 160.402 Z\" fill=\"#000000\" fill-rule=\"evenodd\" fill-opacity=\"1\" /><polyline clip-path=\"url(#clip370)\" style=\"stroke:#e26f46; stroke-linecap:butt; stroke-linejoin:round; stroke-width:4; stroke-opacity:1; fill:none\" points=\"\n",
       "  2011.46,198.898 2155.89,198.898 \n",
       "  \"/>\n",
       "<path clip-path=\"url(#clip370)\" d=\"M2193.81 218.585 Q2192 223.215 2190.29 224.627 Q2188.58 226.039 2185.71 226.039 L2182.3 226.039 L2182.3 222.474 L2184.8 222.474 Q2186.56 222.474 2187.53 221.64 Q2188.51 220.807 2189.69 217.705 L2190.45 215.761 L2179.97 190.252 L2184.48 190.252 L2192.58 210.529 L2200.68 190.252 L2205.2 190.252 L2193.81 218.585 Z\" fill=\"#000000\" fill-rule=\"evenodd\" fill-opacity=\"1\" /><path clip-path=\"url(#clip370)\" d=\"M2215.71 212.242 L2232.03 212.242 L2232.03 216.178 L2210.08 216.178 L2210.08 212.242 Q2212.74 209.488 2217.33 204.858 Q2221.93 200.205 2223.11 198.863 Q2225.36 196.34 2226.24 194.604 Q2227.14 192.844 2227.14 191.155 Q2227.14 188.4 2225.2 186.664 Q2223.28 184.928 2220.17 184.928 Q2217.97 184.928 2215.52 185.692 Q2213.09 186.455 2210.31 188.006 L2210.31 183.284 Q2213.14 182.15 2215.59 181.571 Q2218.04 180.993 2220.08 180.993 Q2225.45 180.993 2228.65 183.678 Q2231.84 186.363 2231.84 190.854 Q2231.84 192.983 2231.03 194.905 Q2230.24 196.803 2228.14 199.395 Q2227.56 200.067 2224.46 203.284 Q2221.35 206.479 2215.71 212.242 Z\" fill=\"#000000\" fill-rule=\"evenodd\" fill-opacity=\"1\" /></svg>\n"
      ]
     },
     "metadata": {},
     "output_type": "display_data"
    }
   ],
   "source": [
    "using Plots\n",
    "\n",
    "plot(ths, bal_to_bals)\n",
    "plot!(ths, ubal_to_bals)"
   ]
  },
  {
   "cell_type": "code",
   "execution_count": 211,
   "metadata": {},
   "outputs": [
    {
     "data": {
      "image/png": "[encoded data removed]",
      "image/svg+xml": "<?xml version=\"1.0\" encoding=\"utf-8\"?>\n<svg xmlns=\"http://www.w3.org/2000/svg\" xmlns:xlink=\"http://www.w3.org/1999/xlink\" width=\"600\" height=\"400\" viewBox=\"0 0 2400 1600\">\n<defs>\n  <clipPath id=\"clip410\">\n    <rect x=\"0\" y=\"0\" width=\"2400\" height=\"1600\"/>\n  </clipPath>\n</defs>\n<path clip-path=\"url(#clip410)\" d=\"\nM0 1600 L2400 1600 L2400 0 L0 0  Z\n  \" fill=\"#ffffff\" fill-rule=\"evenodd\" fill-opacity=\"1\"/>\n<defs>\n  <clipPath id=\"clip411\">\n    <rect x=\"480\" y=\"0\" width=\"1681\" height=\"1600\"/>\n  </clipPath>\n</defs>\n<path clip-path=\"url(#clip410)\" d=\"\nM186.274 1486.45 L2352.76 1486.45 L2352.76 47.2441 L186.274 47.2441  Z\n  \" fill=\"#ffffff\" fill-rule=\"evenodd\" fill-opacity=\"1\"/>\n<defs>\n  <clipPath id=\"clip412\">\n    <rect x=\"186\" y=\"47\" width=\"2167\" height=\"1440\"/>\n  </clipPath>\n</defs>\n<polyline clip-path=\"url(#clip412)\" style=\"stroke:#000000; stroke-linecap:butt; stroke-linejoin:round; stroke-width:2; stroke-opacity:0.1; fill:none\" points=\"\n  247.59,1486.45 247.59,47.2441 \n  \"/>\n<polyline clip-path=\"url(#clip412)\" style=\"stroke:#000000; stroke-linecap:butt; stroke-linejoin:round; stroke-width:2; stroke-opacity:0.1; fill:none\" points=\"\n  758.552,1486.45 758.552,47.2441 \n  \"/>\n<polyline clip-path=\"url(#clip412)\" style=\"stroke:#000000; stroke-linecap:butt; stroke-linejoin:round; stroke-width:2; stroke-opacity:0.1; fill:none\" points=\"\n  1269.51,1486.45 1269.51,47.2441 \n  \"/>\n<polyline clip-path=\"url(#clip412)\" style=\"stroke:#000000; stroke-linecap:butt; stroke-linejoin:round; stroke-width:2; stroke-opacity:0.1; fill:none\" points=\"\n  1780.48,1486.45 1780.48,47.2441 \n  \"/>\n<polyline clip-path=\"url(#clip412)\" style=\"stroke:#000000; stroke-linecap:butt; stroke-linejoin:round; stroke-width:2; stroke-opacity:0.1; fill:none\" points=\"\n  2291.44,1486.45 2291.44,47.2441 \n  \"/>\n<polyline clip-path=\"url(#clip410)\" style=\"stroke:#000000; stroke-linecap:butt; stroke-linejoin:round; stroke-width:4; stroke-opacity:1; fill:none\" points=\"\n  186.274,1486.45 2352.76,1486.45 \n  \"/>\n<polyline clip-path=\"url(#clip410)\" style=\"stroke:#000000; stroke-linecap:butt; stroke-linejoin:round; stroke-width:4; stroke-opacity:1; fill:none\" points=\"\n  247.59,1486.45 247.59,1467.55 \n  \"/>\n<polyline clip-path=\"url(#clip410)\" style=\"stroke:#000000; stroke-linecap:butt; stroke-linejoin:round; stroke-width:4; stroke-opacity:1; fill:none\" points=\"\n  758.552,1486.45 758.552,1467.55 \n  \"/>\n<polyline clip-path=\"url(#clip410)\" style=\"stroke:#000000; stroke-linecap:butt; stroke-linejoin:round; stroke-width:4; stroke-opacity:1; fill:none\" points=\"\n  1269.51,1486.45 1269.51,1467.55 \n  \"/>\n<polyline clip-path=\"url(#clip410)\" style=\"stroke:#000000; stroke-linecap:butt; stroke-linejoin:round; stroke-width:4; stroke-opacity:1; fill:none\" points=\"\n  1780.48,1486.45 1780.48,1467.55 \n  \"/>\n<polyline clip-path=\"url(#clip410)\" style=\"stroke:#000000; stroke-linecap:butt; stroke-linejoin:round; stroke-width:4; stroke-opacity:1; fill:none\" points=\"\n  2291.44,1486.45 2291.44,1467.55 \n  \"/>\n<path clip-path=\"url(#clip410)\" d=\"M209.893 1517.37 Q206.282 1517.37 204.453 1520.93 Q202.648 1524.47 202.648 1531.6 Q202.648 1538.71 204.453 1542.27 Q206.282 1545.82 209.893 1545.82 Q213.527 1545.82 215.333 1542.27 Q217.161 1538.71 217.161 1531.6 Q217.161 1524.47 215.333 1520.93 Q213.527 1517.37 209.893 1517.37 M209.893 1513.66 Q215.703 1513.66 218.759 1518.27 Q221.837 1522.85 221.837 1531.6 Q221.837 1540.33 218.759 1544.94 Q215.703 1549.52 209.893 1549.52 Q204.083 1549.52 201.004 1544.94 Q197.949 1540.33 197.949 1531.6 Q197.949 1522.85 201.004 1518.27 Q204.083 1513.66 209.893 1513.66 Z\" fill=\"#000000\" fill-rule=\"evenodd\" fill-opacity=\"1\" /><path clip-path=\"url(#clip410)\" d=\"M230.055 1542.97 L234.939 1542.97 L234.939 1548.85 L230.055 1548.85 L230.055 1542.97 Z\" fill=\"#000000\" fill-rule=\"evenodd\" fill-opacity=\"1\" /><path clip-path=\"url(#clip410)\" d=\"M255.124 1517.37 Q251.513 1517.37 249.684 1520.93 Q247.879 1524.47 247.879 1531.6 Q247.879 1538.71 249.684 1542.27 Q251.513 1545.82 255.124 1545.82 Q258.758 1545.82 260.564 1542.27 Q262.393 1538.71 262.393 1531.6 Q262.393 1524.47 260.564 1520.93 Q258.758 1517.37 255.124 1517.37 M255.124 1513.66 Q260.934 1513.66 263.99 1518.27 Q267.069 1522.85 267.069 1531.6 Q267.069 1540.33 263.99 1544.94 Q260.934 1549.52 255.124 1549.52 Q249.314 1549.52 246.235 1544.94 Q243.18 1540.33 243.18 1531.6 Q243.18 1522.85 246.235 1518.27 Q249.314 1513.66 255.124 1513.66 Z\" fill=\"#000000\" fill-rule=\"evenodd\" fill-opacity=\"1\" /><path clip-path=\"url(#clip410)\" d=\"M285.286 1517.37 Q281.675 1517.37 279.846 1520.93 Q278.041 1524.47 278.041 1531.6 Q278.041 1538.71 279.846 1542.27 Q281.675 1545.82 285.286 1545.82 Q288.92 1545.82 290.726 1542.27 Q292.555 1538.71 292.555 1531.6 Q292.555 1524.47 290.726 1520.93 Q288.92 1517.37 285.286 1517.37 M285.286 1513.66 Q291.096 1513.66 294.152 1518.27 Q297.23 1522.85 297.23 1531.6 Q297.23 1540.33 294.152 1544.94 Q291.096 1549.52 285.286 1549.52 Q279.476 1549.52 276.397 1544.94 Q273.342 1540.33 273.342 1531.6 Q273.342 1522.85 276.397 1518.27 Q279.476 1513.66 285.286 1513.66 Z\" fill=\"#000000\" fill-rule=\"evenodd\" fill-opacity=\"1\" /><path clip-path=\"url(#clip410)\" d=\"M721.353 1517.37 Q717.742 1517.37 715.914 1520.93 Q714.108 1524.47 714.108 1531.6 Q714.108 1538.71 715.914 1542.27 Q717.742 1545.82 721.353 1545.82 Q724.988 1545.82 726.793 1542.27 Q728.622 1538.71 728.622 1531.6 Q728.622 1524.47 726.793 1520.93 Q724.988 1517.37 721.353 1517.37 M721.353 1513.66 Q727.164 1513.66 730.219 1518.27 Q733.298 1522.85 733.298 1531.6 Q733.298 1540.33 730.219 1544.94 Q727.164 1549.52 721.353 1549.52 Q715.543 1549.52 712.465 1544.94 Q709.409 1540.33 709.409 1531.6 Q709.409 1522.85 712.465 1518.27 Q715.543 1513.66 721.353 1513.66 Z\" fill=\"#000000\" fill-rule=\"evenodd\" fill-opacity=\"1\" /><path clip-path=\"url(#clip410)\" d=\"M741.515 1542.97 L746.4 1542.97 L746.4 1548.85 L741.515 1548.85 L741.515 1542.97 Z\" fill=\"#000000\" fill-rule=\"evenodd\" fill-opacity=\"1\" /><path clip-path=\"url(#clip410)\" d=\"M760.612 1544.91 L776.932 1544.91 L776.932 1548.85 L754.987 1548.85 L754.987 1544.91 Q757.649 1542.16 762.233 1537.53 Q766.839 1532.88 768.02 1531.53 Q770.265 1529.01 771.145 1527.27 Q772.048 1525.51 772.048 1523.82 Q772.048 1521.07 770.103 1519.33 Q768.182 1517.6 765.08 1517.6 Q762.881 1517.6 760.427 1518.36 Q757.997 1519.13 755.219 1520.68 L755.219 1515.95 Q758.043 1514.82 760.497 1514.24 Q762.95 1513.66 764.987 1513.66 Q770.358 1513.66 773.552 1516.35 Q776.747 1519.03 776.747 1523.52 Q776.747 1525.65 775.936 1527.57 Q775.149 1529.47 773.043 1532.07 Q772.464 1532.74 769.362 1535.95 Q766.261 1539.15 760.612 1544.91 Z\" fill=\"#000000\" fill-rule=\"evenodd\" fill-opacity=\"1\" /><path clip-path=\"url(#clip410)\" d=\"M786.793 1514.29 L805.149 1514.29 L805.149 1518.22 L791.075 1518.22 L791.075 1526.7 Q792.094 1526.35 793.112 1526.19 Q794.131 1526 795.149 1526 Q800.936 1526 804.316 1529.17 Q807.695 1532.34 807.695 1537.76 Q807.695 1543.34 804.223 1546.44 Q800.751 1549.52 794.432 1549.52 Q792.256 1549.52 789.987 1549.15 Q787.742 1548.78 785.335 1548.04 L785.335 1543.34 Q787.418 1544.47 789.64 1545.03 Q791.862 1545.58 794.339 1545.58 Q798.344 1545.58 800.682 1543.48 Q803.02 1541.37 803.02 1537.76 Q803.02 1534.15 800.682 1532.04 Q798.344 1529.94 794.339 1529.94 Q792.464 1529.94 790.589 1530.35 Q788.737 1530.77 786.793 1531.65 L786.793 1514.29 Z\" fill=\"#000000\" fill-rule=\"evenodd\" fill-opacity=\"1\" /><path clip-path=\"url(#clip410)\" d=\"M1231.82 1517.37 Q1228.21 1517.37 1226.38 1520.93 Q1224.57 1524.47 1224.57 1531.6 Q1224.57 1538.71 1226.38 1542.27 Q1228.21 1545.82 1231.82 1545.82 Q1235.45 1545.82 1237.26 1542.27 Q1239.09 1538.71 1239.09 1531.6 Q1239.09 1524.47 1237.26 1520.93 Q1235.45 1517.37 1231.82 1517.37 M1231.82 1513.66 Q1237.63 1513.66 1240.68 1518.27 Q1243.76 1522.85 1243.76 1531.6 Q1243.76 1540.33 1240.68 1544.94 Q1237.63 1549.52 1231.82 1549.52 Q1226.01 1549.52 1222.93 1544.94 Q1219.87 1540.33 1219.87 1531.6 Q1219.87 1522.85 1222.93 1518.27 Q1226.01 1513.66 1231.82 1513.66 Z\" fill=\"#000000\" fill-rule=\"evenodd\" fill-opacity=\"1\" /><path clip-path=\"url(#clip410)\" d=\"M1251.98 1542.97 L1256.86 1542.97 L1256.86 1548.85 L1251.98 1548.85 L1251.98 1542.97 Z\" fill=\"#000000\" fill-rule=\"evenodd\" fill-opacity=\"1\" /><path clip-path=\"url(#clip410)\" d=\"M1267.1 1514.29 L1285.45 1514.29 L1285.45 1518.22 L1271.38 1518.22 L1271.38 1526.7 Q1272.4 1526.35 1273.42 1526.19 Q1274.43 1526 1275.45 1526 Q1281.24 1526 1284.62 1529.17 Q1288 1532.34 1288 1537.76 Q1288 1543.34 1284.53 1546.44 Q1281.05 1549.52 1274.73 1549.52 Q1272.56 1549.52 1270.29 1549.15 Q1268.05 1548.78 1265.64 1548.04 L1265.64 1543.34 Q1267.72 1544.47 1269.94 1545.03 Q1272.17 1545.58 1274.64 1545.58 Q1278.65 1545.58 1280.98 1543.48 Q1283.32 1541.37 1283.32 1537.76 Q1283.32 1534.15 1280.98 1532.04 Q1278.65 1529.94 1274.64 1529.94 Q1272.77 1529.94 1270.89 1530.35 Q1269.04 1530.77 1267.1 1531.65 L1267.1 1514.29 Z\" fill=\"#000000\" fill-rule=\"evenodd\" fill-opacity=\"1\" /><path clip-path=\"url(#clip410)\" d=\"M1307.21 1517.37 Q1303.6 1517.37 1301.77 1520.93 Q1299.97 1524.47 1299.97 1531.6 Q1299.97 1538.71 1301.77 1542.27 Q1303.6 1545.82 1307.21 1545.82 Q1310.85 1545.82 1312.65 1542.27 Q1314.48 1538.71 1314.48 1531.6 Q1314.48 1524.47 1312.65 1520.93 Q1310.85 1517.37 1307.21 1517.37 M1307.21 1513.66 Q1313.02 1513.66 1316.08 1518.27 Q1319.16 1522.85 1319.16 1531.6 Q1319.16 1540.33 1316.08 1544.94 Q1313.02 1549.52 1307.21 1549.52 Q1301.4 1549.52 1298.32 1544.94 Q1295.27 1540.33 1295.27 1531.6 Q1295.27 1522.85 1298.32 1518.27 Q1301.4 1513.66 1307.21 1513.66 Z\" fill=\"#000000\" fill-rule=\"evenodd\" fill-opacity=\"1\" /><path clip-path=\"url(#clip410)\" d=\"M1743.28 1517.37 Q1739.67 1517.37 1737.84 1520.93 Q1736.03 1524.47 1736.03 1531.6 Q1736.03 1538.71 1737.84 1542.27 Q1739.67 1545.82 1743.28 1545.82 Q1746.91 1545.82 1748.72 1542.27 Q1750.55 1538.71 1750.55 1531.6 Q1750.55 1524.47 1748.72 1520.93 Q1746.91 1517.37 1743.28 1517.37 M1743.28 1513.66 Q1749.09 1513.66 1752.14 1518.27 Q1755.22 1522.85 1755.22 1531.6 Q1755.22 1540.33 1752.14 1544.94 Q1749.09 1549.52 1743.28 1549.52 Q1737.47 1549.52 1734.39 1544.94 Q1731.33 1540.33 1731.33 1531.6 Q1731.33 1522.85 1734.39 1518.27 Q1737.47 1513.66 1743.28 1513.66 Z\" fill=\"#000000\" fill-rule=\"evenodd\" fill-opacity=\"1\" /><path clip-path=\"url(#clip410)\" d=\"M1763.44 1542.97 L1768.32 1542.97 L1768.32 1548.85 L1763.44 1548.85 L1763.44 1542.97 Z\" fill=\"#000000\" fill-rule=\"evenodd\" fill-opacity=\"1\" /><path clip-path=\"url(#clip410)\" d=\"M1777.33 1514.29 L1799.55 1514.29 L1799.55 1516.28 L1787.01 1548.85 L1782.12 1548.85 L1793.93 1518.22 L1777.33 1518.22 L1777.33 1514.29 Z\" fill=\"#000000\" fill-rule=\"evenodd\" fill-opacity=\"1\" /><path clip-path=\"url(#clip410)\" d=\"M1808.72 1514.29 L1827.07 1514.29 L1827.07 1518.22 L1813 1518.22 L1813 1526.7 Q1814.02 1526.35 1815.04 1526.19 Q1816.06 1526 1817.07 1526 Q1822.86 1526 1826.24 1529.17 Q1829.62 1532.34 1829.62 1537.76 Q1829.62 1543.34 1826.15 1546.44 Q1822.68 1549.52 1816.36 1549.52 Q1814.18 1549.52 1811.91 1549.15 Q1809.67 1548.78 1807.26 1548.04 L1807.26 1543.34 Q1809.34 1544.47 1811.57 1545.03 Q1813.79 1545.58 1816.26 1545.58 Q1820.27 1545.58 1822.61 1543.48 Q1824.95 1541.37 1824.95 1537.76 Q1824.95 1534.15 1822.61 1532.04 Q1820.27 1529.94 1816.26 1529.94 Q1814.39 1529.94 1812.51 1530.35 Q1810.66 1530.77 1808.72 1531.65 L1808.72 1514.29 Z\" fill=\"#000000\" fill-rule=\"evenodd\" fill-opacity=\"1\" /><path clip-path=\"url(#clip410)\" d=\"M2243.51 1544.91 L2251.15 1544.91 L2251.15 1518.55 L2242.84 1520.21 L2242.84 1515.95 L2251.1 1514.29 L2255.78 1514.29 L2255.78 1544.91 L2263.42 1544.91 L2263.42 1548.85 L2243.51 1548.85 L2243.51 1544.91 Z\" fill=\"#000000\" fill-rule=\"evenodd\" fill-opacity=\"1\" /><path clip-path=\"url(#clip410)\" d=\"M2272.86 1542.97 L2277.75 1542.97 L2277.75 1548.85 L2272.86 1548.85 L2272.86 1542.97 Z\" fill=\"#000000\" fill-rule=\"evenodd\" fill-opacity=\"1\" /><path clip-path=\"url(#clip410)\" d=\"M2297.93 1517.37 Q2294.32 1517.37 2292.49 1520.93 Q2290.69 1524.47 2290.69 1531.6 Q2290.69 1538.71 2292.49 1542.27 Q2294.32 1545.82 2297.93 1545.82 Q2301.57 1545.82 2303.37 1542.27 Q2305.2 1538.71 2305.2 1531.6 Q2305.2 1524.47 2303.37 1520.93 Q2301.57 1517.37 2297.93 1517.37 M2297.93 1513.66 Q2303.74 1513.66 2306.8 1518.27 Q2309.88 1522.85 2309.88 1531.6 Q2309.88 1540.33 2306.8 1544.94 Q2303.74 1549.52 2297.93 1549.52 Q2292.12 1549.52 2289.04 1544.94 Q2285.99 1540.33 2285.99 1531.6 Q2285.99 1522.85 2289.04 1518.27 Q2292.12 1513.66 2297.93 1513.66 Z\" fill=\"#000000\" fill-rule=\"evenodd\" fill-opacity=\"1\" /><path clip-path=\"url(#clip410)\" d=\"M2328.1 1517.37 Q2324.48 1517.37 2322.66 1520.93 Q2320.85 1524.47 2320.85 1531.6 Q2320.85 1538.71 2322.66 1542.27 Q2324.48 1545.82 2328.1 1545.82 Q2331.73 1545.82 2333.54 1542.27 Q2335.36 1538.71 2335.36 1531.6 Q2335.36 1524.47 2333.54 1520.93 Q2331.73 1517.37 2328.1 1517.37 M2328.1 1513.66 Q2333.91 1513.66 2336.96 1518.27 Q2340.04 1522.85 2340.04 1531.6 Q2340.04 1540.33 2336.96 1544.94 Q2333.91 1549.52 2328.1 1549.52 Q2322.29 1549.52 2319.21 1544.94 Q2316.15 1540.33 2316.15 1531.6 Q2316.15 1522.85 2319.21 1518.27 Q2322.29 1513.66 2328.1 1513.66 Z\" fill=\"#000000\" fill-rule=\"evenodd\" fill-opacity=\"1\" /><polyline clip-path=\"url(#clip412)\" style=\"stroke:#000000; stroke-linecap:butt; stroke-linejoin:round; stroke-width:2; stroke-opacity:0.1; fill:none\" points=\"\n  186.274,1466.29 2352.76,1466.29 \n  \"/>\n<polyline clip-path=\"url(#clip412)\" style=\"stroke:#000000; stroke-linecap:butt; stroke-linejoin:round; stroke-width:2; stroke-opacity:0.1; fill:none\" points=\"\n  186.274,1121.71 2352.76,1121.71 \n  \"/>\n<polyline clip-path=\"url(#clip412)\" style=\"stroke:#000000; stroke-linecap:butt; stroke-linejoin:round; stroke-width:2; stroke-opacity:0.1; fill:none\" points=\"\n  186.274,777.132 2352.76,777.132 \n  \"/>\n<polyline clip-path=\"url(#clip412)\" style=\"stroke:#000000; stroke-linecap:butt; stroke-linejoin:round; stroke-width:2; stroke-opacity:0.1; fill:none\" points=\"\n  186.274,432.554 2352.76,432.554 \n  \"/>\n<polyline clip-path=\"url(#clip412)\" style=\"stroke:#000000; stroke-linecap:butt; stroke-linejoin:round; stroke-width:2; stroke-opacity:0.1; fill:none\" points=\"\n  186.274,87.9763 2352.76,87.9763 \n  \"/>\n<polyline clip-path=\"url(#clip410)\" style=\"stroke:#000000; stroke-linecap:butt; stroke-linejoin:round; stroke-width:4; stroke-opacity:1; fill:none\" points=\"\n  186.274,1486.45 186.274,47.2441 \n  \"/>\n<polyline clip-path=\"url(#clip410)\" style=\"stroke:#000000; stroke-linecap:butt; stroke-linejoin:round; stroke-width:4; stroke-opacity:1; fill:none\" points=\"\n  186.274,1466.29 205.172,1466.29 \n  \"/>\n<polyline clip-path=\"url(#clip410)\" style=\"stroke:#000000; stroke-linecap:butt; stroke-linejoin:round; stroke-width:4; stroke-opacity:1; fill:none\" points=\"\n  186.274,1121.71 205.172,1121.71 \n  \"/>\n<polyline clip-path=\"url(#clip410)\" style=\"stroke:#000000; stroke-linecap:butt; stroke-linejoin:round; stroke-width:4; stroke-opacity:1; fill:none\" points=\"\n  186.274,777.132 205.172,777.132 \n  \"/>\n<polyline clip-path=\"url(#clip410)\" style=\"stroke:#000000; stroke-linecap:butt; stroke-linejoin:round; stroke-width:4; stroke-opacity:1; fill:none\" points=\"\n  186.274,432.554 205.172,432.554 \n  \"/>\n<polyline clip-path=\"url(#clip410)\" style=\"stroke:#000000; stroke-linecap:butt; stroke-linejoin:round; stroke-width:4; stroke-opacity:1; fill:none\" points=\"\n  186.274,87.9763 205.172,87.9763 \n  \"/>\n<path clip-path=\"url(#clip410)\" d=\"M62.9365 1452.09 Q59.3254 1452.09 57.4967 1455.65 Q55.6912 1459.19 55.6912 1466.32 Q55.6912 1473.43 57.4967 1476.99 Q59.3254 1480.54 62.9365 1480.54 Q66.5707 1480.54 68.3763 1476.99 Q70.205 1473.43 70.205 1466.32 Q70.205 1459.19 68.3763 1455.65 Q66.5707 1452.09 62.9365 1452.09 M62.9365 1448.38 Q68.7467 1448.38 71.8022 1452.99 Q74.8809 1457.57 74.8809 1466.32 Q74.8809 1475.05 71.8022 1479.66 Q68.7467 1484.24 62.9365 1484.24 Q57.1264 1484.24 54.0477 1479.66 Q50.9921 1475.05 50.9921 1466.32 Q50.9921 1457.57 54.0477 1452.99 Q57.1264 1448.38 62.9365 1448.38 Z\" fill=\"#000000\" fill-rule=\"evenodd\" fill-opacity=\"1\" /><path clip-path=\"url(#clip410)\" d=\"M83.0984 1477.69 L87.9827 1477.69 L87.9827 1483.57 L83.0984 1483.57 L83.0984 1477.69 Z\" fill=\"#000000\" fill-rule=\"evenodd\" fill-opacity=\"1\" /><path clip-path=\"url(#clip410)\" d=\"M108.168 1452.09 Q104.557 1452.09 102.728 1455.65 Q100.922 1459.19 100.922 1466.32 Q100.922 1473.43 102.728 1476.99 Q104.557 1480.54 108.168 1480.54 Q111.802 1480.54 113.608 1476.99 Q115.436 1473.43 115.436 1466.32 Q115.436 1459.19 113.608 1455.65 Q111.802 1452.09 108.168 1452.09 M108.168 1448.38 Q113.978 1448.38 117.033 1452.99 Q120.112 1457.57 120.112 1466.32 Q120.112 1475.05 117.033 1479.66 Q113.978 1484.24 108.168 1484.24 Q102.358 1484.24 99.2789 1479.66 Q96.2234 1475.05 96.2234 1466.32 Q96.2234 1457.57 99.2789 1452.99 Q102.358 1448.38 108.168 1448.38 Z\" fill=\"#000000\" fill-rule=\"evenodd\" fill-opacity=\"1\" /><path clip-path=\"url(#clip410)\" d=\"M138.33 1452.09 Q134.719 1452.09 132.89 1455.65 Q131.084 1459.19 131.084 1466.32 Q131.084 1473.43 132.89 1476.99 Q134.719 1480.54 138.33 1480.54 Q141.964 1480.54 143.769 1476.99 Q145.598 1473.43 145.598 1466.32 Q145.598 1459.19 143.769 1455.65 Q141.964 1452.09 138.33 1452.09 M138.33 1448.38 Q144.14 1448.38 147.195 1452.99 Q150.274 1457.57 150.274 1466.32 Q150.274 1475.05 147.195 1479.66 Q144.14 1484.24 138.33 1484.24 Q132.519 1484.24 129.441 1479.66 Q126.385 1475.05 126.385 1466.32 Q126.385 1457.57 129.441 1452.99 Q132.519 1448.38 138.33 1448.38 Z\" fill=\"#000000\" fill-rule=\"evenodd\" fill-opacity=\"1\" /><path clip-path=\"url(#clip410)\" d=\"M63.9319 1107.51 Q60.3208 1107.51 58.4921 1111.07 Q56.6865 1114.61 56.6865 1121.74 Q56.6865 1128.85 58.4921 1132.42 Q60.3208 1135.96 63.9319 1135.96 Q67.5661 1135.96 69.3717 1132.42 Q71.2004 1128.85 71.2004 1121.74 Q71.2004 1114.61 69.3717 1111.07 Q67.5661 1107.51 63.9319 1107.51 M63.9319 1103.8 Q69.742 1103.8 72.7976 1108.41 Q75.8763 1112.99 75.8763 1121.74 Q75.8763 1130.47 72.7976 1135.08 Q69.742 1139.66 63.9319 1139.66 Q58.1217 1139.66 55.043 1135.08 Q51.9875 1130.47 51.9875 1121.74 Q51.9875 1112.99 55.043 1108.41 Q58.1217 1103.8 63.9319 1103.8 Z\" fill=\"#000000\" fill-rule=\"evenodd\" fill-opacity=\"1\" /><path clip-path=\"url(#clip410)\" d=\"M84.0938 1133.11 L88.978 1133.11 L88.978 1138.99 L84.0938 1138.99 L84.0938 1133.11 Z\" fill=\"#000000\" fill-rule=\"evenodd\" fill-opacity=\"1\" /><path clip-path=\"url(#clip410)\" d=\"M103.191 1135.05 L119.51 1135.05 L119.51 1138.99 L97.566 1138.99 L97.566 1135.05 Q100.228 1132.3 104.811 1127.67 Q109.418 1123.02 110.598 1121.67 Q112.844 1119.15 113.723 1117.42 Q114.626 1115.66 114.626 1113.97 Q114.626 1111.21 112.682 1109.48 Q110.76 1107.74 107.658 1107.74 Q105.459 1107.74 103.006 1108.5 Q100.575 1109.27 97.7974 1110.82 L97.7974 1106.1 Q100.621 1104.96 103.075 1104.38 Q105.529 1103.8 107.566 1103.8 Q112.936 1103.8 116.131 1106.49 Q119.325 1109.18 119.325 1113.67 Q119.325 1115.8 118.515 1117.72 Q117.728 1119.61 115.621 1122.21 Q115.043 1122.88 111.941 1126.1 Q108.839 1129.29 103.191 1135.05 Z\" fill=\"#000000\" fill-rule=\"evenodd\" fill-opacity=\"1\" /><path clip-path=\"url(#clip410)\" d=\"M129.371 1104.43 L147.728 1104.43 L147.728 1108.36 L133.654 1108.36 L133.654 1116.84 Q134.672 1116.49 135.691 1116.33 Q136.709 1116.14 137.728 1116.14 Q143.515 1116.14 146.894 1119.31 Q150.274 1122.49 150.274 1127.9 Q150.274 1133.48 146.802 1136.58 Q143.33 1139.66 137.01 1139.66 Q134.834 1139.66 132.566 1139.29 Q130.32 1138.92 127.913 1138.18 L127.913 1133.48 Q129.996 1134.61 132.219 1135.17 Q134.441 1135.73 136.918 1135.73 Q140.922 1135.73 143.26 1133.62 Q145.598 1131.51 145.598 1127.9 Q145.598 1124.29 143.26 1122.18 Q140.922 1120.08 136.918 1120.08 Q135.043 1120.08 133.168 1120.49 Q131.316 1120.91 129.371 1121.79 L129.371 1104.43 Z\" fill=\"#000000\" fill-rule=\"evenodd\" fill-opacity=\"1\" /><path clip-path=\"url(#clip410)\" d=\"M62.9365 762.931 Q59.3254 762.931 57.4967 766.495 Q55.6912 770.037 55.6912 777.167 Q55.6912 784.273 57.4967 787.838 Q59.3254 791.379 62.9365 791.379 Q66.5707 791.379 68.3763 787.838 Q70.205 784.273 70.205 777.167 Q70.205 770.037 68.3763 766.495 Q66.5707 762.931 62.9365 762.931 M62.9365 759.227 Q68.7467 759.227 71.8022 763.833 Q74.8809 768.417 74.8809 777.167 Q74.8809 785.893 71.8022 790.5 Q68.7467 795.083 62.9365 795.083 Q57.1264 795.083 54.0477 790.5 Q50.9921 785.893 50.9921 777.167 Q50.9921 768.417 54.0477 763.833 Q57.1264 759.227 62.9365 759.227 Z\" fill=\"#000000\" fill-rule=\"evenodd\" fill-opacity=\"1\" /><path clip-path=\"url(#clip410)\" d=\"M83.0984 788.532 L87.9827 788.532 L87.9827 794.412 L83.0984 794.412 L83.0984 788.532 Z\" fill=\"#000000\" fill-rule=\"evenodd\" fill-opacity=\"1\" /><path clip-path=\"url(#clip410)\" d=\"M98.2141 759.852 L116.57 759.852 L116.57 763.787 L102.496 763.787 L102.496 772.259 Q103.515 771.912 104.534 771.75 Q105.552 771.565 106.571 771.565 Q112.358 771.565 115.737 774.736 Q119.117 777.907 119.117 783.324 Q119.117 788.903 115.645 792.004 Q112.172 795.083 105.853 795.083 Q103.677 795.083 101.409 794.713 Q99.1632 794.342 96.7558 793.602 L96.7558 788.903 Q98.8391 790.037 101.061 790.592 Q103.284 791.148 105.76 791.148 Q109.765 791.148 112.103 789.042 Q114.441 786.935 114.441 783.324 Q114.441 779.713 112.103 777.606 Q109.765 775.5 105.76 775.5 Q103.885 775.5 102.01 775.917 Q100.159 776.333 98.2141 777.213 L98.2141 759.852 Z\" fill=\"#000000\" fill-rule=\"evenodd\" fill-opacity=\"1\" /><path clip-path=\"url(#clip410)\" d=\"M138.33 762.931 Q134.719 762.931 132.89 766.495 Q131.084 770.037 131.084 777.167 Q131.084 784.273 132.89 787.838 Q134.719 791.379 138.33 791.379 Q141.964 791.379 143.769 787.838 Q145.598 784.273 145.598 777.167 Q145.598 770.037 143.769 766.495 Q141.964 762.931 138.33 762.931 M138.33 759.227 Q144.14 759.227 147.195 763.833 Q150.274 768.417 150.274 777.167 Q150.274 785.893 147.195 790.5 Q144.14 795.083 138.33 795.083 Q132.519 795.083 129.441 790.5 Q126.385 785.893 126.385 777.167 Q126.385 768.417 129.441 763.833 Q132.519 759.227 138.33 759.227 Z\" fill=\"#000000\" fill-rule=\"evenodd\" fill-opacity=\"1\" /><path clip-path=\"url(#clip410)\" d=\"M63.9319 418.353 Q60.3208 418.353 58.4921 421.918 Q56.6865 425.459 56.6865 432.589 Q56.6865 439.695 58.4921 443.26 Q60.3208 446.802 63.9319 446.802 Q67.5661 446.802 69.3717 443.26 Q71.2004 439.695 71.2004 432.589 Q71.2004 425.459 69.3717 421.918 Q67.5661 418.353 63.9319 418.353 M63.9319 414.649 Q69.742 414.649 72.7976 419.256 Q75.8763 423.839 75.8763 432.589 Q75.8763 441.316 72.7976 445.922 Q69.742 450.505 63.9319 450.505 Q58.1217 450.505 55.043 445.922 Q51.9875 441.316 51.9875 432.589 Q51.9875 423.839 55.043 419.256 Q58.1217 414.649 63.9319 414.649 Z\" fill=\"#000000\" fill-rule=\"evenodd\" fill-opacity=\"1\" /><path clip-path=\"url(#clip410)\" d=\"M84.0938 443.954 L88.978 443.954 L88.978 449.834 L84.0938 449.834 L84.0938 443.954 Z\" fill=\"#000000\" fill-rule=\"evenodd\" fill-opacity=\"1\" /><path clip-path=\"url(#clip410)\" d=\"M97.9826 415.274 L120.205 415.274 L120.205 417.265 L107.658 449.834 L102.774 449.834 L114.58 419.209 L97.9826 419.209 L97.9826 415.274 Z\" fill=\"#000000\" fill-rule=\"evenodd\" fill-opacity=\"1\" /><path clip-path=\"url(#clip410)\" d=\"M129.371 415.274 L147.728 415.274 L147.728 419.209 L133.654 419.209 L133.654 427.681 Q134.672 427.334 135.691 427.172 Q136.709 426.987 137.728 426.987 Q143.515 426.987 146.894 430.158 Q150.274 433.33 150.274 438.746 Q150.274 444.325 146.802 447.427 Q143.33 450.505 137.01 450.505 Q134.834 450.505 132.566 450.135 Q130.32 449.765 127.913 449.024 L127.913 444.325 Q129.996 445.459 132.219 446.015 Q134.441 446.57 136.918 446.57 Q140.922 446.57 143.26 444.464 Q145.598 442.357 145.598 438.746 Q145.598 435.135 143.26 433.029 Q140.922 430.922 136.918 430.922 Q135.043 430.922 133.168 431.339 Q131.316 431.755 129.371 432.635 L129.371 415.274 Z\" fill=\"#000000\" fill-rule=\"evenodd\" fill-opacity=\"1\" /><path clip-path=\"url(#clip410)\" d=\"M53.7467 101.321 L61.3856 101.321 L61.3856 74.9555 L53.0754 76.6222 L53.0754 72.3629 L61.3393 70.6963 L66.0152 70.6963 L66.0152 101.321 L73.654 101.321 L73.654 105.256 L53.7467 105.256 L53.7467 101.321 Z\" fill=\"#000000\" fill-rule=\"evenodd\" fill-opacity=\"1\" /><path clip-path=\"url(#clip410)\" d=\"M83.0984 99.3767 L87.9827 99.3767 L87.9827 105.256 L83.0984 105.256 L83.0984 99.3767 Z\" fill=\"#000000\" fill-rule=\"evenodd\" fill-opacity=\"1\" /><path clip-path=\"url(#clip410)\" d=\"M108.168 73.775 Q104.557 73.775 102.728 77.3398 Q100.922 80.8814 100.922 88.011 Q100.922 95.1174 102.728 98.6822 Q104.557 102.224 108.168 102.224 Q111.802 102.224 113.608 98.6822 Q115.436 95.1174 115.436 88.011 Q115.436 80.8814 113.608 77.3398 Q111.802 73.775 108.168 73.775 M108.168 70.0713 Q113.978 70.0713 117.033 74.6777 Q120.112 79.261 120.112 88.011 Q120.112 96.7378 117.033 101.344 Q113.978 105.928 108.168 105.928 Q102.358 105.928 99.2789 101.344 Q96.2234 96.7378 96.2234 88.011 Q96.2234 79.261 99.2789 74.6777 Q102.358 70.0713 108.168 70.0713 Z\" fill=\"#000000\" fill-rule=\"evenodd\" fill-opacity=\"1\" /><path clip-path=\"url(#clip410)\" d=\"M138.33 73.775 Q134.719 73.775 132.89 77.3398 Q131.084 80.8814 131.084 88.011 Q131.084 95.1174 132.89 98.6822 Q134.719 102.224 138.33 102.224 Q141.964 102.224 143.769 98.6822 Q145.598 95.1174 145.598 88.011 Q145.598 80.8814 143.769 77.3398 Q141.964 73.775 138.33 73.775 M138.33 70.0713 Q144.14 70.0713 147.195 74.6777 Q150.274 79.261 150.274 88.011 Q150.274 96.7378 147.195 101.344 Q144.14 105.928 138.33 105.928 Q132.519 105.928 129.441 101.344 Q126.385 96.7378 126.385 88.011 Q126.385 79.261 129.441 74.6777 Q132.519 70.0713 138.33 70.0713 Z\" fill=\"#000000\" fill-rule=\"evenodd\" fill-opacity=\"1\" /><polyline clip-path=\"url(#clip412)\" style=\"stroke:#009af9; stroke-linecap:butt; stroke-linejoin:round; stroke-width:4; stroke-opacity:1; fill:none\" points=\"\n  247.59,914.963 268.028,914.963 288.467,914.963 308.905,914.963 329.344,914.963 349.782,914.963 370.221,914.963 390.659,1190.63 411.098,1190.63 431.536,1190.63 \n  451.975,1190.63 472.413,1190.63 492.852,1190.63 513.29,639.301 533.729,639.301 554.167,639.301 574.606,639.301 595.044,639.301 615.483,639.301 635.921,639.301 \n  656.36,639.301 676.798,639.301 697.237,639.301 717.675,639.301 738.114,639.301 758.552,344.406 778.991,344.406 799.429,344.406 819.868,344.406 840.306,344.406 \n  860.745,344.406 881.183,344.406 901.622,489.984 922.06,489.984 942.499,489.984 962.937,489.984 983.376,489.984 1003.81,489.984 1024.25,326.53 1044.69,326.53 \n  1065.13,326.53 1085.57,326.53 1106.01,326.53 1126.45,326.53 1146.88,244.012 1167.32,244.012 1187.76,244.012 1208.2,244.012 1228.64,244.012 1249.08,244.012 \n  1269.51,353.036 1289.95,353.036 1310.39,353.036 1330.83,353.036 1351.27,353.036 1371.71,353.036 1392.15,353.036 1412.58,363.639 1433.02,363.639 1453.46,363.639 \n  1473.9,363.639 1494.34,363.639 1514.78,363.639 1535.22,338.578 1555.65,338.578 1576.09,338.578 1596.53,338.578 1616.97,338.578 1637.41,338.578 1657.85,263 \n  1678.29,263 1698.72,263 1719.16,263 1739.6,263 1760.04,263 1780.48,169.053 1800.92,169.053 1821.35,169.053 1841.79,169.053 1862.23,169.053 \n  1882.67,169.053 1903.11,169.053 1923.55,87.9763 1943.99,87.9763 1964.42,87.9763 1984.86,87.9763 2005.3,87.9763 2025.74,87.9763 2046.18,87.9763 2066.62,87.9763 \n  2087.06,87.9763 2107.49,87.9763 2127.93,87.9763 2148.37,87.9763 2168.81,87.9763 2189.25,87.9763 2209.69,87.9763 2230.12,87.9763 2250.56,87.9763 2271,87.9763 \n  2291.44,87.9763 \n  \"/>\n<polyline clip-path=\"url(#clip412)\" style=\"stroke:#e26f46; stroke-linecap:butt; stroke-linejoin:round; stroke-width:4; stroke-opacity:1; fill:none\" points=\"\n  247.59,1445.72 268.028,1445.72 288.467,1445.72 308.905,1445.72 329.344,1445.72 349.782,1445.72 370.221,1445.72 390.659,1332.9 411.098,1332.9 431.536,1332.9 \n  451.975,1332.9 472.413,1332.9 492.852,1332.9 513.29,1174.72 533.729,1174.72 554.167,1174.72 574.606,1174.72 595.044,1174.72 615.483,1174.72 635.921,870.261 \n  656.36,870.261 676.798,870.261 697.237,870.261 717.675,870.261 738.114,870.261 758.552,895.952 778.991,895.952 799.429,895.952 819.868,895.952 840.306,895.952 \n  860.745,895.952 881.183,895.952 901.622,604.843 922.06,604.843 942.499,604.843 962.937,604.843 983.376,604.843 1003.81,604.843 1024.25,501.47 1044.69,501.47 \n  1065.13,501.47 1085.57,501.47 1106.01,501.47 1126.45,501.47 1146.88,885.946 1167.32,885.946 1187.76,885.946 1208.2,885.946 1228.64,885.946 1249.08,885.946 \n  1269.51,639.301 1289.95,639.301 1310.39,639.301 1330.83,639.301 1351.27,639.301 1371.71,639.301 1392.15,639.301 1412.58,736.593 1433.02,736.593 1453.46,736.593 \n  1473.9,736.593 1494.34,736.593 1514.78,736.593 1535.22,655.516 1555.65,655.516 1576.09,655.516 1596.53,655.516 1616.97,655.516 1637.41,655.516 1657.85,241.122 \n  1678.29,241.122 1698.72,241.122 1719.16,241.122 1739.6,241.122 1760.04,241.122 1780.48,87.9763 1800.92,87.9763 1821.35,87.9763 1841.79,87.9763 1862.23,87.9763 \n  1882.67,87.9763 1903.11,87.9763 1923.55,87.9763 1943.99,87.9763 1964.42,87.9763 1984.86,87.9763 2005.3,87.9763 2025.74,87.9763 \n  \"/>\n<path clip-path=\"url(#clip410)\" d=\"\nM1987.39 250.738 L2280.54 250.738 L2280.54 95.2176 L1987.39 95.2176  Z\n  \" fill=\"#ffffff\" fill-rule=\"evenodd\" fill-opacity=\"1\"/>\n<polyline clip-path=\"url(#clip410)\" style=\"stroke:#000000; stroke-linecap:butt; stroke-linejoin:round; stroke-width:4; stroke-opacity:1; fill:none\" points=\"\n  1987.39,250.738 2280.54,250.738 2280.54,95.2176 1987.39,95.2176 1987.39,250.738 \n  \"/>\n<polyline clip-path=\"url(#clip410)\" style=\"stroke:#009af9; stroke-linecap:butt; stroke-linejoin:round; stroke-width:4; stroke-opacity:1; fill:none\" points=\"\n  2011.46,147.058 2155.89,147.058 \n  \"/>\n<path clip-path=\"url(#clip410)\" d=\"M2193.81 166.745 Q2192 171.375 2190.29 172.787 Q2188.58 174.199 2185.71 174.199 L2182.3 174.199 L2182.3 170.634 L2184.8 170.634 Q2186.56 170.634 2187.53 169.8 Q2188.51 168.967 2189.69 165.865 L2190.45 163.921 L2179.97 138.412 L2184.48 138.412 L2192.58 158.689 L2200.68 138.412 L2205.2 138.412 L2193.81 166.745 Z\" fill=\"#000000\" fill-rule=\"evenodd\" fill-opacity=\"1\" /><path clip-path=\"url(#clip410)\" d=\"M2212.49 160.402 L2220.13 160.402 L2220.13 134.037 L2211.82 135.703 L2211.82 131.444 L2220.08 129.778 L2224.76 129.778 L2224.76 160.402 L2232.4 160.402 L2232.4 164.338 L2212.49 164.338 L2212.49 160.402 Z\" fill=\"#000000\" fill-rule=\"evenodd\" fill-opacity=\"1\" /><polyline clip-path=\"url(#clip410)\" style=\"stroke:#e26f46; stroke-linecap:butt; stroke-linejoin:round; stroke-width:4; stroke-opacity:1; fill:none\" points=\"\n  2011.46,198.898 2155.89,198.898 \n  \"/>\n<path clip-path=\"url(#clip410)\" d=\"M2193.81 218.585 Q2192 223.215 2190.29 224.627 Q2188.58 226.039 2185.71 226.039 L2182.3 226.039 L2182.3 222.474 L2184.8 222.474 Q2186.56 222.474 2187.53 221.64 Q2188.51 220.807 2189.69 217.705 L2190.45 215.761 L2179.97 190.252 L2184.48 190.252 L2192.58 210.529 L2200.68 190.252 L2205.2 190.252 L2193.81 218.585 Z\" fill=\"#000000\" fill-rule=\"evenodd\" fill-opacity=\"1\" /><path clip-path=\"url(#clip410)\" d=\"M2215.71 212.242 L2232.03 212.242 L2232.03 216.178 L2210.08 216.178 L2210.08 212.242 Q2212.74 209.488 2217.33 204.858 Q2221.93 200.205 2223.11 198.863 Q2225.36 196.34 2226.24 194.604 Q2227.14 192.844 2227.14 191.155 Q2227.14 188.4 2225.2 186.664 Q2223.28 184.928 2220.17 184.928 Q2217.97 184.928 2215.52 185.692 Q2213.09 186.455 2210.31 188.006 L2210.31 183.284 Q2213.14 182.15 2215.59 181.571 Q2218.04 180.993 2220.08 180.993 Q2225.45 180.993 2228.65 183.678 Q2231.84 186.363 2231.84 190.854 Q2231.84 192.983 2231.03 194.905 Q2230.24 196.803 2228.14 199.395 Q2227.56 200.067 2224.46 203.284 Q2221.35 206.479 2215.71 212.242 Z\" fill=\"#000000\" fill-rule=\"evenodd\" fill-opacity=\"1\" /></svg>\n",
      "text/html": [
       "<?xml version=\"1.0\" encoding=\"utf-8\"?>\n",
       "<svg xmlns=\"http://www.w3.org/2000/svg\" xmlns:xlink=\"http://www.w3.org/1999/xlink\" width=\"600\" height=\"400\" viewBox=\"0 0 2400 1600\">\n",
       "<defs>\n",
       "  <clipPath id=\"clip460\">\n",
       "    <rect x=\"0\" y=\"0\" width=\"2400\" height=\"1600\"/>\n",
       "  </clipPath>\n",
       "</defs>\n",
       "<path clip-path=\"url(#clip460)\" d=\"\n",
       "M0 1600 L2400 1600 L2400 0 L0 0  Z\n",
       "  \" fill=\"#ffffff\" fill-rule=\"evenodd\" fill-opacity=\"1\"/>\n",
       "<defs>\n",
       "  <clipPath id=\"clip461\">\n",
       "    <rect x=\"480\" y=\"0\" width=\"1681\" height=\"1600\"/>\n",
       "  </clipPath>\n",
       "</defs>\n",
       "<path clip-path=\"url(#clip460)\" d=\"\n",
       "M186.274 1486.45 L2352.76 1486.45 L2352.76 47.2441 L186.274 47.2441  Z\n",
       "  \" fill=\"#ffffff\" fill-rule=\"evenodd\" fill-opacity=\"1\"/>\n",
       "<defs>\n",
       "  <clipPath id=\"clip462\">\n",
       "    <rect x=\"186\" y=\"47\" width=\"2167\" height=\"1440\"/>\n",
       "  </clipPath>\n",
       "</defs>\n",
       "<polyline clip-path=\"url(#clip462)\" style=\"stroke:#000000; stroke-linecap:butt; stroke-linejoin:round; stroke-width:2; stroke-opacity:0.1; fill:none\" points=\"\n",
       "  247.59,1486.45 247.59,47.2441 \n",
       "  \"/>\n",
       "<polyline clip-path=\"url(#clip462)\" style=\"stroke:#000000; stroke-linecap:butt; stroke-linejoin:round; stroke-width:2; stroke-opacity:0.1; fill:none\" points=\"\n",
       "  758.552,1486.45 758.552,47.2441 \n",
       "  \"/>\n",
       "<polyline clip-path=\"url(#clip462)\" style=\"stroke:#000000; stroke-linecap:butt; stroke-linejoin:round; stroke-width:2; stroke-opacity:0.1; fill:none\" points=\"\n",
       "  1269.51,1486.45 1269.51,47.2441 \n",
       "  \"/>\n",
       "<polyline clip-path=\"url(#clip462)\" style=\"stroke:#000000; stroke-linecap:butt; stroke-linejoin:round; stroke-width:2; stroke-opacity:0.1; fill:none\" points=\"\n",
       "  1780.48,1486.45 1780.48,47.2441 \n",
       "  \"/>\n",
       "<polyline clip-path=\"url(#clip462)\" style=\"stroke:#000000; stroke-linecap:butt; stroke-linejoin:round; stroke-width:2; stroke-opacity:0.1; fill:none\" points=\"\n",
       "  2291.44,1486.45 2291.44,47.2441 \n",
       "  \"/>\n",
       "<polyline clip-path=\"url(#clip460)\" style=\"stroke:#000000; stroke-linecap:butt; stroke-linejoin:round; stroke-width:4; stroke-opacity:1; fill:none\" points=\"\n",
       "  186.274,1486.45 2352.76,1486.45 \n",
       "  \"/>\n",
       "<polyline clip-path=\"url(#clip460)\" style=\"stroke:#000000; stroke-linecap:butt; stroke-linejoin:round; stroke-width:4; stroke-opacity:1; fill:none\" points=\"\n",
       "  247.59,1486.45 247.59,1467.55 \n",
       "  \"/>\n",
       "<polyline clip-path=\"url(#clip460)\" style=\"stroke:#000000; stroke-linecap:butt; stroke-linejoin:round; stroke-width:4; stroke-opacity:1; fill:none\" points=\"\n",
       "  758.552,1486.45 758.552,1467.55 \n",
       "  \"/>\n",
       "<polyline clip-path=\"url(#clip460)\" style=\"stroke:#000000; stroke-linecap:butt; stroke-linejoin:round; stroke-width:4; stroke-opacity:1; fill:none\" points=\"\n",
       "  1269.51,1486.45 1269.51,1467.55 \n",
       "  \"/>\n",
       "<polyline clip-path=\"url(#clip460)\" style=\"stroke:#000000; stroke-linecap:butt; stroke-linejoin:round; stroke-width:4; stroke-opacity:1; fill:none\" points=\"\n",
       "  1780.48,1486.45 1780.48,1467.55 \n",
       "  \"/>\n",
       "<polyline clip-path=\"url(#clip460)\" style=\"stroke:#000000; stroke-linecap:butt; stroke-linejoin:round; stroke-width:4; stroke-opacity:1; fill:none\" points=\"\n",
       "  2291.44,1486.45 2291.44,1467.55 \n",
       "  \"/>\n",
       "<path clip-path=\"url(#clip460)\" d=\"M209.893 1517.37 Q206.282 1517.37 204.453 1520.93 Q202.648 1524.47 202.648 1531.6 Q202.648 1538.71 204.453 1542.27 Q206.282 1545.82 209.893 1545.82 Q213.527 1545.82 215.333 1542.27 Q217.161 1538.71 217.161 1531.6 Q217.161 1524.47 215.333 1520.93 Q213.527 1517.37 209.893 1517.37 M209.893 1513.66 Q215.703 1513.66 218.759 1518.27 Q221.837 1522.85 221.837 1531.6 Q221.837 1540.33 218.759 1544.94 Q215.703 1549.52 209.893 1549.52 Q204.083 1549.52 201.004 1544.94 Q197.949 1540.33 197.949 1531.6 Q197.949 1522.85 201.004 1518.27 Q204.083 1513.66 209.893 1513.66 Z\" fill=\"#000000\" fill-rule=\"evenodd\" fill-opacity=\"1\" /><path clip-path=\"url(#clip460)\" d=\"M230.055 1542.97 L234.939 1542.97 L234.939 1548.85 L230.055 1548.85 L230.055 1542.97 Z\" fill=\"#000000\" fill-rule=\"evenodd\" fill-opacity=\"1\" /><path clip-path=\"url(#clip460)\" d=\"M255.124 1517.37 Q251.513 1517.37 249.684 1520.93 Q247.879 1524.47 247.879 1531.6 Q247.879 1538.71 249.684 1542.27 Q251.513 1545.82 255.124 1545.82 Q258.758 1545.82 260.564 1542.27 Q262.393 1538.71 262.393 1531.6 Q262.393 1524.47 260.564 1520.93 Q258.758 1517.37 255.124 1517.37 M255.124 1513.66 Q260.934 1513.66 263.99 1518.27 Q267.069 1522.85 267.069 1531.6 Q267.069 1540.33 263.99 1544.94 Q260.934 1549.52 255.124 1549.52 Q249.314 1549.52 246.235 1544.94 Q243.18 1540.33 243.18 1531.6 Q243.18 1522.85 246.235 1518.27 Q249.314 1513.66 255.124 1513.66 Z\" fill=\"#000000\" fill-rule=\"evenodd\" fill-opacity=\"1\" /><path clip-path=\"url(#clip460)\" d=\"M285.286 1517.37 Q281.675 1517.37 279.846 1520.93 Q278.041 1524.47 278.041 1531.6 Q278.041 1538.71 279.846 1542.27 Q281.675 1545.82 285.286 1545.82 Q288.92 1545.82 290.726 1542.27 Q292.555 1538.71 292.555 1531.6 Q292.555 1524.47 290.726 1520.93 Q288.92 1517.37 285.286 1517.37 M285.286 1513.66 Q291.096 1513.66 294.152 1518.27 Q297.23 1522.85 297.23 1531.6 Q297.23 1540.33 294.152 1544.94 Q291.096 1549.52 285.286 1549.52 Q279.476 1549.52 276.397 1544.94 Q273.342 1540.33 273.342 1531.6 Q273.342 1522.85 276.397 1518.27 Q279.476 1513.66 285.286 1513.66 Z\" fill=\"#000000\" fill-rule=\"evenodd\" fill-opacity=\"1\" /><path clip-path=\"url(#clip460)\" d=\"M721.353 1517.37 Q717.742 1517.37 715.914 1520.93 Q714.108 1524.47 714.108 1531.6 Q714.108 1538.71 715.914 1542.27 Q717.742 1545.82 721.353 1545.82 Q724.988 1545.82 726.793 1542.27 Q728.622 1538.71 728.622 1531.6 Q728.622 1524.47 726.793 1520.93 Q724.988 1517.37 721.353 1517.37 M721.353 1513.66 Q727.164 1513.66 730.219 1518.27 Q733.298 1522.85 733.298 1531.6 Q733.298 1540.33 730.219 1544.94 Q727.164 1549.52 721.353 1549.52 Q715.543 1549.52 712.465 1544.94 Q709.409 1540.33 709.409 1531.6 Q709.409 1522.85 712.465 1518.27 Q715.543 1513.66 721.353 1513.66 Z\" fill=\"#000000\" fill-rule=\"evenodd\" fill-opacity=\"1\" /><path clip-path=\"url(#clip460)\" d=\"M741.515 1542.97 L746.4 1542.97 L746.4 1548.85 L741.515 1548.85 L741.515 1542.97 Z\" fill=\"#000000\" fill-rule=\"evenodd\" fill-opacity=\"1\" /><path clip-path=\"url(#clip460)\" d=\"M760.612 1544.91 L776.932 1544.91 L776.932 1548.85 L754.987 1548.85 L754.987 1544.91 Q757.649 1542.16 762.233 1537.53 Q766.839 1532.88 768.02 1531.53 Q770.265 1529.01 771.145 1527.27 Q772.048 1525.51 772.048 1523.82 Q772.048 1521.07 770.103 1519.33 Q768.182 1517.6 765.08 1517.6 Q762.881 1517.6 760.427 1518.36 Q757.997 1519.13 755.219 1520.68 L755.219 1515.95 Q758.043 1514.82 760.497 1514.24 Q762.95 1513.66 764.987 1513.66 Q770.358 1513.66 773.552 1516.35 Q776.747 1519.03 776.747 1523.52 Q776.747 1525.65 775.936 1527.57 Q775.149 1529.47 773.043 1532.07 Q772.464 1532.74 769.362 1535.95 Q766.261 1539.15 760.612 1544.91 Z\" fill=\"#000000\" fill-rule=\"evenodd\" fill-opacity=\"1\" /><path clip-path=\"url(#clip460)\" d=\"M786.793 1514.29 L805.149 1514.29 L805.149 1518.22 L791.075 1518.22 L791.075 1526.7 Q792.094 1526.35 793.112 1526.19 Q794.131 1526 795.149 1526 Q800.936 1526 804.316 1529.17 Q807.695 1532.34 807.695 1537.76 Q807.695 1543.34 804.223 1546.44 Q800.751 1549.52 794.432 1549.52 Q792.256 1549.52 789.987 1549.15 Q787.742 1548.78 785.335 1548.04 L785.335 1543.34 Q787.418 1544.47 789.64 1545.03 Q791.862 1545.58 794.339 1545.58 Q798.344 1545.58 800.682 1543.48 Q803.02 1541.37 803.02 1537.76 Q803.02 1534.15 800.682 1532.04 Q798.344 1529.94 794.339 1529.94 Q792.464 1529.94 790.589 1530.35 Q788.737 1530.77 786.793 1531.65 L786.793 1514.29 Z\" fill=\"#000000\" fill-rule=\"evenodd\" fill-opacity=\"1\" /><path clip-path=\"url(#clip460)\" d=\"M1231.82 1517.37 Q1228.21 1517.37 1226.38 1520.93 Q1224.57 1524.47 1224.57 1531.6 Q1224.57 1538.71 1226.38 1542.27 Q1228.21 1545.82 1231.82 1545.82 Q1235.45 1545.82 1237.26 1542.27 Q1239.09 1538.71 1239.09 1531.6 Q1239.09 1524.47 1237.26 1520.93 Q1235.45 1517.37 1231.82 1517.37 M1231.82 1513.66 Q1237.63 1513.66 1240.68 1518.27 Q1243.76 1522.85 1243.76 1531.6 Q1243.76 1540.33 1240.68 1544.94 Q1237.63 1549.52 1231.82 1549.52 Q1226.01 1549.52 1222.93 1544.94 Q1219.87 1540.33 1219.87 1531.6 Q1219.87 1522.85 1222.93 1518.27 Q1226.01 1513.66 1231.82 1513.66 Z\" fill=\"#000000\" fill-rule=\"evenodd\" fill-opacity=\"1\" /><path clip-path=\"url(#clip460)\" d=\"M1251.98 1542.97 L1256.86 1542.97 L1256.86 1548.85 L1251.98 1548.85 L1251.98 1542.97 Z\" fill=\"#000000\" fill-rule=\"evenodd\" fill-opacity=\"1\" /><path clip-path=\"url(#clip460)\" d=\"M1267.1 1514.29 L1285.45 1514.29 L1285.45 1518.22 L1271.38 1518.22 L1271.38 1526.7 Q1272.4 1526.35 1273.42 1526.19 Q1274.43 1526 1275.45 1526 Q1281.24 1526 1284.62 1529.17 Q1288 1532.34 1288 1537.76 Q1288 1543.34 1284.53 1546.44 Q1281.05 1549.52 1274.73 1549.52 Q1272.56 1549.52 1270.29 1549.15 Q1268.05 1548.78 1265.64 1548.04 L1265.64 1543.34 Q1267.72 1544.47 1269.94 1545.03 Q1272.17 1545.58 1274.64 1545.58 Q1278.65 1545.58 1280.98 1543.48 Q1283.32 1541.37 1283.32 1537.76 Q1283.32 1534.15 1280.98 1532.04 Q1278.65 1529.94 1274.64 1529.94 Q1272.77 1529.94 1270.89 1530.35 Q1269.04 1530.77 1267.1 1531.65 L1267.1 1514.29 Z\" fill=\"#000000\" fill-rule=\"evenodd\" fill-opacity=\"1\" /><path clip-path=\"url(#clip460)\" d=\"M1307.21 1517.37 Q1303.6 1517.37 1301.77 1520.93 Q1299.97 1524.47 1299.97 1531.6 Q1299.97 1538.71 1301.77 1542.27 Q1303.6 1545.82 1307.21 1545.82 Q1310.85 1545.82 1312.65 1542.27 Q1314.48 1538.71 1314.48 1531.6 Q1314.48 1524.47 1312.65 1520.93 Q1310.85 1517.37 1307.21 1517.37 M1307.21 1513.66 Q1313.02 1513.66 1316.08 1518.27 Q1319.16 1522.85 1319.16 1531.6 Q1319.16 1540.33 1316.08 1544.94 Q1313.02 1549.52 1307.21 1549.52 Q1301.4 1549.52 1298.32 1544.94 Q1295.27 1540.33 1295.27 1531.6 Q1295.27 1522.85 1298.32 1518.27 Q1301.4 1513.66 1307.21 1513.66 Z\" fill=\"#000000\" fill-rule=\"evenodd\" fill-opacity=\"1\" /><path clip-path=\"url(#clip460)\" d=\"M1743.28 1517.37 Q1739.67 1517.37 1737.84 1520.93 Q1736.03 1524.47 1736.03 1531.6 Q1736.03 1538.71 1737.84 1542.27 Q1739.67 1545.82 1743.28 1545.82 Q1746.91 1545.82 1748.72 1542.27 Q1750.55 1538.71 1750.55 1531.6 Q1750.55 1524.47 1748.72 1520.93 Q1746.91 1517.37 1743.28 1517.37 M1743.28 1513.66 Q1749.09 1513.66 1752.14 1518.27 Q1755.22 1522.85 1755.22 1531.6 Q1755.22 1540.33 1752.14 1544.94 Q1749.09 1549.52 1743.28 1549.52 Q1737.47 1549.52 1734.39 1544.94 Q1731.33 1540.33 1731.33 1531.6 Q1731.33 1522.85 1734.39 1518.27 Q1737.47 1513.66 1743.28 1513.66 Z\" fill=\"#000000\" fill-rule=\"evenodd\" fill-opacity=\"1\" /><path clip-path=\"url(#clip460)\" d=\"M1763.44 1542.97 L1768.32 1542.97 L1768.32 1548.85 L1763.44 1548.85 L1763.44 1542.97 Z\" fill=\"#000000\" fill-rule=\"evenodd\" fill-opacity=\"1\" /><path clip-path=\"url(#clip460)\" d=\"M1777.33 1514.29 L1799.55 1514.29 L1799.55 1516.28 L1787.01 1548.85 L1782.12 1548.85 L1793.93 1518.22 L1777.33 1518.22 L1777.33 1514.29 Z\" fill=\"#000000\" fill-rule=\"evenodd\" fill-opacity=\"1\" /><path clip-path=\"url(#clip460)\" d=\"M1808.72 1514.29 L1827.07 1514.29 L1827.07 1518.22 L1813 1518.22 L1813 1526.7 Q1814.02 1526.35 1815.04 1526.19 Q1816.06 1526 1817.07 1526 Q1822.86 1526 1826.24 1529.17 Q1829.62 1532.34 1829.62 1537.76 Q1829.62 1543.34 1826.15 1546.44 Q1822.68 1549.52 1816.36 1549.52 Q1814.18 1549.52 1811.91 1549.15 Q1809.67 1548.78 1807.26 1548.04 L1807.26 1543.34 Q1809.34 1544.47 1811.57 1545.03 Q1813.79 1545.58 1816.26 1545.58 Q1820.27 1545.58 1822.61 1543.48 Q1824.95 1541.37 1824.95 1537.76 Q1824.95 1534.15 1822.61 1532.04 Q1820.27 1529.94 1816.26 1529.94 Q1814.39 1529.94 1812.51 1530.35 Q1810.66 1530.77 1808.72 1531.65 L1808.72 1514.29 Z\" fill=\"#000000\" fill-rule=\"evenodd\" fill-opacity=\"1\" /><path clip-path=\"url(#clip460)\" d=\"M2243.51 1544.91 L2251.15 1544.91 L2251.15 1518.55 L2242.84 1520.21 L2242.84 1515.95 L2251.1 1514.29 L2255.78 1514.29 L2255.78 1544.91 L2263.42 1544.91 L2263.42 1548.85 L2243.51 1548.85 L2243.51 1544.91 Z\" fill=\"#000000\" fill-rule=\"evenodd\" fill-opacity=\"1\" /><path clip-path=\"url(#clip460)\" d=\"M2272.86 1542.97 L2277.75 1542.97 L2277.75 1548.85 L2272.86 1548.85 L2272.86 1542.97 Z\" fill=\"#000000\" fill-rule=\"evenodd\" fill-opacity=\"1\" /><path clip-path=\"url(#clip460)\" d=\"M2297.93 1517.37 Q2294.32 1517.37 2292.49 1520.93 Q2290.69 1524.47 2290.69 1531.6 Q2290.69 1538.71 2292.49 1542.27 Q2294.32 1545.82 2297.93 1545.82 Q2301.57 1545.82 2303.37 1542.27 Q2305.2 1538.71 2305.2 1531.6 Q2305.2 1524.47 2303.37 1520.93 Q2301.57 1517.37 2297.93 1517.37 M2297.93 1513.66 Q2303.74 1513.66 2306.8 1518.27 Q2309.88 1522.85 2309.88 1531.6 Q2309.88 1540.33 2306.8 1544.94 Q2303.74 1549.52 2297.93 1549.52 Q2292.12 1549.52 2289.04 1544.94 Q2285.99 1540.33 2285.99 1531.6 Q2285.99 1522.85 2289.04 1518.27 Q2292.12 1513.66 2297.93 1513.66 Z\" fill=\"#000000\" fill-rule=\"evenodd\" fill-opacity=\"1\" /><path clip-path=\"url(#clip460)\" d=\"M2328.1 1517.37 Q2324.48 1517.37 2322.66 1520.93 Q2320.85 1524.47 2320.85 1531.6 Q2320.85 1538.71 2322.66 1542.27 Q2324.48 1545.82 2328.1 1545.82 Q2331.73 1545.82 2333.54 1542.27 Q2335.36 1538.71 2335.36 1531.6 Q2335.36 1524.47 2333.54 1520.93 Q2331.73 1517.37 2328.1 1517.37 M2328.1 1513.66 Q2333.91 1513.66 2336.96 1518.27 Q2340.04 1522.85 2340.04 1531.6 Q2340.04 1540.33 2336.96 1544.94 Q2333.91 1549.52 2328.1 1549.52 Q2322.29 1549.52 2319.21 1544.94 Q2316.15 1540.33 2316.15 1531.6 Q2316.15 1522.85 2319.21 1518.27 Q2322.29 1513.66 2328.1 1513.66 Z\" fill=\"#000000\" fill-rule=\"evenodd\" fill-opacity=\"1\" /><polyline clip-path=\"url(#clip462)\" style=\"stroke:#000000; stroke-linecap:butt; stroke-linejoin:round; stroke-width:2; stroke-opacity:0.1; fill:none\" points=\"\n",
       "  186.274,1466.29 2352.76,1466.29 \n",
       "  \"/>\n",
       "<polyline clip-path=\"url(#clip462)\" style=\"stroke:#000000; stroke-linecap:butt; stroke-linejoin:round; stroke-width:2; stroke-opacity:0.1; fill:none\" points=\"\n",
       "  186.274,1121.71 2352.76,1121.71 \n",
       "  \"/>\n",
       "<polyline clip-path=\"url(#clip462)\" style=\"stroke:#000000; stroke-linecap:butt; stroke-linejoin:round; stroke-width:2; stroke-opacity:0.1; fill:none\" points=\"\n",
       "  186.274,777.132 2352.76,777.132 \n",
       "  \"/>\n",
       "<polyline clip-path=\"url(#clip462)\" style=\"stroke:#000000; stroke-linecap:butt; stroke-linejoin:round; stroke-width:2; stroke-opacity:0.1; fill:none\" points=\"\n",
       "  186.274,432.554 2352.76,432.554 \n",
       "  \"/>\n",
       "<polyline clip-path=\"url(#clip462)\" style=\"stroke:#000000; stroke-linecap:butt; stroke-linejoin:round; stroke-width:2; stroke-opacity:0.1; fill:none\" points=\"\n",
       "  186.274,87.9763 2352.76,87.9763 \n",
       "  \"/>\n",
       "<polyline clip-path=\"url(#clip460)\" style=\"stroke:#000000; stroke-linecap:butt; stroke-linejoin:round; stroke-width:4; stroke-opacity:1; fill:none\" points=\"\n",
       "  186.274,1486.45 186.274,47.2441 \n",
       "  \"/>\n",
       "<polyline clip-path=\"url(#clip460)\" style=\"stroke:#000000; stroke-linecap:butt; stroke-linejoin:round; stroke-width:4; stroke-opacity:1; fill:none\" points=\"\n",
       "  186.274,1466.29 205.172,1466.29 \n",
       "  \"/>\n",
       "<polyline clip-path=\"url(#clip460)\" style=\"stroke:#000000; stroke-linecap:butt; stroke-linejoin:round; stroke-width:4; stroke-opacity:1; fill:none\" points=\"\n",
       "  186.274,1121.71 205.172,1121.71 \n",
       "  \"/>\n",
       "<polyline clip-path=\"url(#clip460)\" style=\"stroke:#000000; stroke-linecap:butt; stroke-linejoin:round; stroke-width:4; stroke-opacity:1; fill:none\" points=\"\n",
       "  186.274,777.132 205.172,777.132 \n",
       "  \"/>\n",
       "<polyline clip-path=\"url(#clip460)\" style=\"stroke:#000000; stroke-linecap:butt; stroke-linejoin:round; stroke-width:4; stroke-opacity:1; fill:none\" points=\"\n",
       "  186.274,432.554 205.172,432.554 \n",
       "  \"/>\n",
       "<polyline clip-path=\"url(#clip460)\" style=\"stroke:#000000; stroke-linecap:butt; stroke-linejoin:round; stroke-width:4; stroke-opacity:1; fill:none\" points=\"\n",
       "  186.274,87.9763 205.172,87.9763 \n",
       "  \"/>\n",
       "<path clip-path=\"url(#clip460)\" d=\"M62.9365 1452.09 Q59.3254 1452.09 57.4967 1455.65 Q55.6912 1459.19 55.6912 1466.32 Q55.6912 1473.43 57.4967 1476.99 Q59.3254 1480.54 62.9365 1480.54 Q66.5707 1480.54 68.3763 1476.99 Q70.205 1473.43 70.205 1466.32 Q70.205 1459.19 68.3763 1455.65 Q66.5707 1452.09 62.9365 1452.09 M62.9365 1448.38 Q68.7467 1448.38 71.8022 1452.99 Q74.8809 1457.57 74.8809 1466.32 Q74.8809 1475.05 71.8022 1479.66 Q68.7467 1484.24 62.9365 1484.24 Q57.1264 1484.24 54.0477 1479.66 Q50.9921 1475.05 50.9921 1466.32 Q50.9921 1457.57 54.0477 1452.99 Q57.1264 1448.38 62.9365 1448.38 Z\" fill=\"#000000\" fill-rule=\"evenodd\" fill-opacity=\"1\" /><path clip-path=\"url(#clip460)\" d=\"M83.0984 1477.69 L87.9827 1477.69 L87.9827 1483.57 L83.0984 1483.57 L83.0984 1477.69 Z\" fill=\"#000000\" fill-rule=\"evenodd\" fill-opacity=\"1\" /><path clip-path=\"url(#clip460)\" d=\"M108.168 1452.09 Q104.557 1452.09 102.728 1455.65 Q100.922 1459.19 100.922 1466.32 Q100.922 1473.43 102.728 1476.99 Q104.557 1480.54 108.168 1480.54 Q111.802 1480.54 113.608 1476.99 Q115.436 1473.43 115.436 1466.32 Q115.436 1459.19 113.608 1455.65 Q111.802 1452.09 108.168 1452.09 M108.168 1448.38 Q113.978 1448.38 117.033 1452.99 Q120.112 1457.57 120.112 1466.32 Q120.112 1475.05 117.033 1479.66 Q113.978 1484.24 108.168 1484.24 Q102.358 1484.24 99.2789 1479.66 Q96.2234 1475.05 96.2234 1466.32 Q96.2234 1457.57 99.2789 1452.99 Q102.358 1448.38 108.168 1448.38 Z\" fill=\"#000000\" fill-rule=\"evenodd\" fill-opacity=\"1\" /><path clip-path=\"url(#clip460)\" d=\"M138.33 1452.09 Q134.719 1452.09 132.89 1455.65 Q131.084 1459.19 131.084 1466.32 Q131.084 1473.43 132.89 1476.99 Q134.719 1480.54 138.33 1480.54 Q141.964 1480.54 143.769 1476.99 Q145.598 1473.43 145.598 1466.32 Q145.598 1459.19 143.769 1455.65 Q141.964 1452.09 138.33 1452.09 M138.33 1448.38 Q144.14 1448.38 147.195 1452.99 Q150.274 1457.57 150.274 1466.32 Q150.274 1475.05 147.195 1479.66 Q144.14 1484.24 138.33 1484.24 Q132.519 1484.24 129.441 1479.66 Q126.385 1475.05 126.385 1466.32 Q126.385 1457.57 129.441 1452.99 Q132.519 1448.38 138.33 1448.38 Z\" fill=\"#000000\" fill-rule=\"evenodd\" fill-opacity=\"1\" /><path clip-path=\"url(#clip460)\" d=\"M63.9319 1107.51 Q60.3208 1107.51 58.4921 1111.07 Q56.6865 1114.61 56.6865 1121.74 Q56.6865 1128.85 58.4921 1132.42 Q60.3208 1135.96 63.9319 1135.96 Q67.5661 1135.96 69.3717 1132.42 Q71.2004 1128.85 71.2004 1121.74 Q71.2004 1114.61 69.3717 1111.07 Q67.5661 1107.51 63.9319 1107.51 M63.9319 1103.8 Q69.742 1103.8 72.7976 1108.41 Q75.8763 1112.99 75.8763 1121.74 Q75.8763 1130.47 72.7976 1135.08 Q69.742 1139.66 63.9319 1139.66 Q58.1217 1139.66 55.043 1135.08 Q51.9875 1130.47 51.9875 1121.74 Q51.9875 1112.99 55.043 1108.41 Q58.1217 1103.8 63.9319 1103.8 Z\" fill=\"#000000\" fill-rule=\"evenodd\" fill-opacity=\"1\" /><path clip-path=\"url(#clip460)\" d=\"M84.0938 1133.11 L88.978 1133.11 L88.978 1138.99 L84.0938 1138.99 L84.0938 1133.11 Z\" fill=\"#000000\" fill-rule=\"evenodd\" fill-opacity=\"1\" /><path clip-path=\"url(#clip460)\" d=\"M103.191 1135.05 L119.51 1135.05 L119.51 1138.99 L97.566 1138.99 L97.566 1135.05 Q100.228 1132.3 104.811 1127.67 Q109.418 1123.02 110.598 1121.67 Q112.844 1119.15 113.723 1117.42 Q114.626 1115.66 114.626 1113.97 Q114.626 1111.21 112.682 1109.48 Q110.76 1107.74 107.658 1107.74 Q105.459 1107.74 103.006 1108.5 Q100.575 1109.27 97.7974 1110.82 L97.7974 1106.1 Q100.621 1104.96 103.075 1104.38 Q105.529 1103.8 107.566 1103.8 Q112.936 1103.8 116.131 1106.49 Q119.325 1109.18 119.325 1113.67 Q119.325 1115.8 118.515 1117.72 Q117.728 1119.61 115.621 1122.21 Q115.043 1122.88 111.941 1126.1 Q108.839 1129.29 103.191 1135.05 Z\" fill=\"#000000\" fill-rule=\"evenodd\" fill-opacity=\"1\" /><path clip-path=\"url(#clip460)\" d=\"M129.371 1104.43 L147.728 1104.43 L147.728 1108.36 L133.654 1108.36 L133.654 1116.84 Q134.672 1116.49 135.691 1116.33 Q136.709 1116.14 137.728 1116.14 Q143.515 1116.14 146.894 1119.31 Q150.274 1122.49 150.274 1127.9 Q150.274 1133.48 146.802 1136.58 Q143.33 1139.66 137.01 1139.66 Q134.834 1139.66 132.566 1139.29 Q130.32 1138.92 127.913 1138.18 L127.913 1133.48 Q129.996 1134.61 132.219 1135.17 Q134.441 1135.73 136.918 1135.73 Q140.922 1135.73 143.26 1133.62 Q145.598 1131.51 145.598 1127.9 Q145.598 1124.29 143.26 1122.18 Q140.922 1120.08 136.918 1120.08 Q135.043 1120.08 133.168 1120.49 Q131.316 1120.91 129.371 1121.79 L129.371 1104.43 Z\" fill=\"#000000\" fill-rule=\"evenodd\" fill-opacity=\"1\" /><path clip-path=\"url(#clip460)\" d=\"M62.9365 762.931 Q59.3254 762.931 57.4967 766.495 Q55.6912 770.037 55.6912 777.167 Q55.6912 784.273 57.4967 787.838 Q59.3254 791.379 62.9365 791.379 Q66.5707 791.379 68.3763 787.838 Q70.205 784.273 70.205 777.167 Q70.205 770.037 68.3763 766.495 Q66.5707 762.931 62.9365 762.931 M62.9365 759.227 Q68.7467 759.227 71.8022 763.833 Q74.8809 768.417 74.8809 777.167 Q74.8809 785.893 71.8022 790.5 Q68.7467 795.083 62.9365 795.083 Q57.1264 795.083 54.0477 790.5 Q50.9921 785.893 50.9921 777.167 Q50.9921 768.417 54.0477 763.833 Q57.1264 759.227 62.9365 759.227 Z\" fill=\"#000000\" fill-rule=\"evenodd\" fill-opacity=\"1\" /><path clip-path=\"url(#clip460)\" d=\"M83.0984 788.532 L87.9827 788.532 L87.9827 794.412 L83.0984 794.412 L83.0984 788.532 Z\" fill=\"#000000\" fill-rule=\"evenodd\" fill-opacity=\"1\" /><path clip-path=\"url(#clip460)\" d=\"M98.2141 759.852 L116.57 759.852 L116.57 763.787 L102.496 763.787 L102.496 772.259 Q103.515 771.912 104.534 771.75 Q105.552 771.565 106.571 771.565 Q112.358 771.565 115.737 774.736 Q119.117 777.907 119.117 783.324 Q119.117 788.903 115.645 792.004 Q112.172 795.083 105.853 795.083 Q103.677 795.083 101.409 794.713 Q99.1632 794.342 96.7558 793.602 L96.7558 788.903 Q98.8391 790.037 101.061 790.592 Q103.284 791.148 105.76 791.148 Q109.765 791.148 112.103 789.042 Q114.441 786.935 114.441 783.324 Q114.441 779.713 112.103 777.606 Q109.765 775.5 105.76 775.5 Q103.885 775.5 102.01 775.917 Q100.159 776.333 98.2141 777.213 L98.2141 759.852 Z\" fill=\"#000000\" fill-rule=\"evenodd\" fill-opacity=\"1\" /><path clip-path=\"url(#clip460)\" d=\"M138.33 762.931 Q134.719 762.931 132.89 766.495 Q131.084 770.037 131.084 777.167 Q131.084 784.273 132.89 787.838 Q134.719 791.379 138.33 791.379 Q141.964 791.379 143.769 787.838 Q145.598 784.273 145.598 777.167 Q145.598 770.037 143.769 766.495 Q141.964 762.931 138.33 762.931 M138.33 759.227 Q144.14 759.227 147.195 763.833 Q150.274 768.417 150.274 777.167 Q150.274 785.893 147.195 790.5 Q144.14 795.083 138.33 795.083 Q132.519 795.083 129.441 790.5 Q126.385 785.893 126.385 777.167 Q126.385 768.417 129.441 763.833 Q132.519 759.227 138.33 759.227 Z\" fill=\"#000000\" fill-rule=\"evenodd\" fill-opacity=\"1\" /><path clip-path=\"url(#clip460)\" d=\"M63.9319 418.353 Q60.3208 418.353 58.4921 421.918 Q56.6865 425.459 56.6865 432.589 Q56.6865 439.695 58.4921 443.26 Q60.3208 446.802 63.9319 446.802 Q67.5661 446.802 69.3717 443.26 Q71.2004 439.695 71.2004 432.589 Q71.2004 425.459 69.3717 421.918 Q67.5661 418.353 63.9319 418.353 M63.9319 414.649 Q69.742 414.649 72.7976 419.256 Q75.8763 423.839 75.8763 432.589 Q75.8763 441.316 72.7976 445.922 Q69.742 450.505 63.9319 450.505 Q58.1217 450.505 55.043 445.922 Q51.9875 441.316 51.9875 432.589 Q51.9875 423.839 55.043 419.256 Q58.1217 414.649 63.9319 414.649 Z\" fill=\"#000000\" fill-rule=\"evenodd\" fill-opacity=\"1\" /><path clip-path=\"url(#clip460)\" d=\"M84.0938 443.954 L88.978 443.954 L88.978 449.834 L84.0938 449.834 L84.0938 443.954 Z\" fill=\"#000000\" fill-rule=\"evenodd\" fill-opacity=\"1\" /><path clip-path=\"url(#clip460)\" d=\"M97.9826 415.274 L120.205 415.274 L120.205 417.265 L107.658 449.834 L102.774 449.834 L114.58 419.209 L97.9826 419.209 L97.9826 415.274 Z\" fill=\"#000000\" fill-rule=\"evenodd\" fill-opacity=\"1\" /><path clip-path=\"url(#clip460)\" d=\"M129.371 415.274 L147.728 415.274 L147.728 419.209 L133.654 419.209 L133.654 427.681 Q134.672 427.334 135.691 427.172 Q136.709 426.987 137.728 426.987 Q143.515 426.987 146.894 430.158 Q150.274 433.33 150.274 438.746 Q150.274 444.325 146.802 447.427 Q143.33 450.505 137.01 450.505 Q134.834 450.505 132.566 450.135 Q130.32 449.765 127.913 449.024 L127.913 444.325 Q129.996 445.459 132.219 446.015 Q134.441 446.57 136.918 446.57 Q140.922 446.57 143.26 444.464 Q145.598 442.357 145.598 438.746 Q145.598 435.135 143.26 433.029 Q140.922 430.922 136.918 430.922 Q135.043 430.922 133.168 431.339 Q131.316 431.755 129.371 432.635 L129.371 415.274 Z\" fill=\"#000000\" fill-rule=\"evenodd\" fill-opacity=\"1\" /><path clip-path=\"url(#clip460)\" d=\"M53.7467 101.321 L61.3856 101.321 L61.3856 74.9555 L53.0754 76.6222 L53.0754 72.3629 L61.3393 70.6963 L66.0152 70.6963 L66.0152 101.321 L73.654 101.321 L73.654 105.256 L53.7467 105.256 L53.7467 101.321 Z\" fill=\"#000000\" fill-rule=\"evenodd\" fill-opacity=\"1\" /><path clip-path=\"url(#clip460)\" d=\"M83.0984 99.3767 L87.9827 99.3767 L87.9827 105.256 L83.0984 105.256 L83.0984 99.3767 Z\" fill=\"#000000\" fill-rule=\"evenodd\" fill-opacity=\"1\" /><path clip-path=\"url(#clip460)\" d=\"M108.168 73.775 Q104.557 73.775 102.728 77.3398 Q100.922 80.8814 100.922 88.011 Q100.922 95.1174 102.728 98.6822 Q104.557 102.224 108.168 102.224 Q111.802 102.224 113.608 98.6822 Q115.436 95.1174 115.436 88.011 Q115.436 80.8814 113.608 77.3398 Q111.802 73.775 108.168 73.775 M108.168 70.0713 Q113.978 70.0713 117.033 74.6777 Q120.112 79.261 120.112 88.011 Q120.112 96.7378 117.033 101.344 Q113.978 105.928 108.168 105.928 Q102.358 105.928 99.2789 101.344 Q96.2234 96.7378 96.2234 88.011 Q96.2234 79.261 99.2789 74.6777 Q102.358 70.0713 108.168 70.0713 Z\" fill=\"#000000\" fill-rule=\"evenodd\" fill-opacity=\"1\" /><path clip-path=\"url(#clip460)\" d=\"M138.33 73.775 Q134.719 73.775 132.89 77.3398 Q131.084 80.8814 131.084 88.011 Q131.084 95.1174 132.89 98.6822 Q134.719 102.224 138.33 102.224 Q141.964 102.224 143.769 98.6822 Q145.598 95.1174 145.598 88.011 Q145.598 80.8814 143.769 77.3398 Q141.964 73.775 138.33 73.775 M138.33 70.0713 Q144.14 70.0713 147.195 74.6777 Q150.274 79.261 150.274 88.011 Q150.274 96.7378 147.195 101.344 Q144.14 105.928 138.33 105.928 Q132.519 105.928 129.441 101.344 Q126.385 96.7378 126.385 88.011 Q126.385 79.261 129.441 74.6777 Q132.519 70.0713 138.33 70.0713 Z\" fill=\"#000000\" fill-rule=\"evenodd\" fill-opacity=\"1\" /><polyline clip-path=\"url(#clip462)\" style=\"stroke:#009af9; stroke-linecap:butt; stroke-linejoin:round; stroke-width:4; stroke-opacity:1; fill:none\" points=\"\n",
       "  247.59,914.963 268.028,914.963 288.467,914.963 308.905,914.963 329.344,914.963 349.782,914.963 370.221,914.963 390.659,1190.63 411.098,1190.63 431.536,1190.63 \n",
       "  451.975,1190.63 472.413,1190.63 492.852,1190.63 513.29,639.301 533.729,639.301 554.167,639.301 574.606,639.301 595.044,639.301 615.483,639.301 635.921,639.301 \n",
       "  656.36,639.301 676.798,639.301 697.237,639.301 717.675,639.301 738.114,639.301 758.552,344.406 778.991,344.406 799.429,344.406 819.868,344.406 840.306,344.406 \n",
       "  860.745,344.406 881.183,344.406 901.622,489.984 922.06,489.984 942.499,489.984 962.937,489.984 983.376,489.984 1003.81,489.984 1024.25,326.53 1044.69,326.53 \n",
       "  1065.13,326.53 1085.57,326.53 1106.01,326.53 1126.45,326.53 1146.88,244.012 1167.32,244.012 1187.76,244.012 1208.2,244.012 1228.64,244.012 1249.08,244.012 \n",
       "  1269.51,353.036 1289.95,353.036 1310.39,353.036 1330.83,353.036 1351.27,353.036 1371.71,353.036 1392.15,353.036 1412.58,363.639 1433.02,363.639 1453.46,363.639 \n",
       "  1473.9,363.639 1494.34,363.639 1514.78,363.639 1535.22,338.578 1555.65,338.578 1576.09,338.578 1596.53,338.578 1616.97,338.578 1637.41,338.578 1657.85,263 \n",
       "  1678.29,263 1698.72,263 1719.16,263 1739.6,263 1760.04,263 1780.48,169.053 1800.92,169.053 1821.35,169.053 1841.79,169.053 1862.23,169.053 \n",
       "  1882.67,169.053 1903.11,169.053 1923.55,87.9763 1943.99,87.9763 1964.42,87.9763 1984.86,87.9763 2005.3,87.9763 2025.74,87.9763 2046.18,87.9763 2066.62,87.9763 \n",
       "  2087.06,87.9763 2107.49,87.9763 2127.93,87.9763 2148.37,87.9763 2168.81,87.9763 2189.25,87.9763 2209.69,87.9763 2230.12,87.9763 2250.56,87.9763 2271,87.9763 \n",
       "  2291.44,87.9763 \n",
       "  \"/>\n",
       "<polyline clip-path=\"url(#clip462)\" style=\"stroke:#e26f46; stroke-linecap:butt; stroke-linejoin:round; stroke-width:4; stroke-opacity:1; fill:none\" points=\"\n",
       "  247.59,1445.72 268.028,1445.72 288.467,1445.72 308.905,1445.72 329.344,1445.72 349.782,1445.72 370.221,1445.72 390.659,1332.9 411.098,1332.9 431.536,1332.9 \n",
       "  451.975,1332.9 472.413,1332.9 492.852,1332.9 513.29,1174.72 533.729,1174.72 554.167,1174.72 574.606,1174.72 595.044,1174.72 615.483,1174.72 635.921,870.261 \n",
       "  656.36,870.261 676.798,870.261 697.237,870.261 717.675,870.261 738.114,870.261 758.552,895.952 778.991,895.952 799.429,895.952 819.868,895.952 840.306,895.952 \n",
       "  860.745,895.952 881.183,895.952 901.622,604.843 922.06,604.843 942.499,604.843 962.937,604.843 983.376,604.843 1003.81,604.843 1024.25,501.47 1044.69,501.47 \n",
       "  1065.13,501.47 1085.57,501.47 1106.01,501.47 1126.45,501.47 1146.88,885.946 1167.32,885.946 1187.76,885.946 1208.2,885.946 1228.64,885.946 1249.08,885.946 \n",
       "  1269.51,639.301 1289.95,639.301 1310.39,639.301 1330.83,639.301 1351.27,639.301 1371.71,639.301 1392.15,639.301 1412.58,736.593 1433.02,736.593 1453.46,736.593 \n",
       "  1473.9,736.593 1494.34,736.593 1514.78,736.593 1535.22,655.516 1555.65,655.516 1576.09,655.516 1596.53,655.516 1616.97,655.516 1637.41,655.516 1657.85,241.122 \n",
       "  1678.29,241.122 1698.72,241.122 1719.16,241.122 1739.6,241.122 1760.04,241.122 1780.48,87.9763 1800.92,87.9763 1821.35,87.9763 1841.79,87.9763 1862.23,87.9763 \n",
       "  1882.67,87.9763 1903.11,87.9763 1923.55,87.9763 1943.99,87.9763 1964.42,87.9763 1984.86,87.9763 2005.3,87.9763 2025.74,87.9763 \n",
       "  \"/>\n",
       "<path clip-path=\"url(#clip460)\" d=\"\n",
       "M1987.39 250.738 L2280.54 250.738 L2280.54 95.2176 L1987.39 95.2176  Z\n",
       "  \" fill=\"#ffffff\" fill-rule=\"evenodd\" fill-opacity=\"1\"/>\n",
       "<polyline clip-path=\"url(#clip460)\" style=\"stroke:#000000; stroke-linecap:butt; stroke-linejoin:round; stroke-width:4; stroke-opacity:1; fill:none\" points=\"\n",
       "  1987.39,250.738 2280.54,250.738 2280.54,95.2176 1987.39,95.2176 1987.39,250.738 \n",
       "  \"/>\n",
       "<polyline clip-path=\"url(#clip460)\" style=\"stroke:#009af9; stroke-linecap:butt; stroke-linejoin:round; stroke-width:4; stroke-opacity:1; fill:none\" points=\"\n",
       "  2011.46,147.058 2155.89,147.058 \n",
       "  \"/>\n",
       "<path clip-path=\"url(#clip460)\" d=\"M2193.81 166.745 Q2192 171.375 2190.29 172.787 Q2188.58 174.199 2185.71 174.199 L2182.3 174.199 L2182.3 170.634 L2184.8 170.634 Q2186.56 170.634 2187.53 169.8 Q2188.51 168.967 2189.69 165.865 L2190.45 163.921 L2179.97 138.412 L2184.48 138.412 L2192.58 158.689 L2200.68 138.412 L2205.2 138.412 L2193.81 166.745 Z\" fill=\"#000000\" fill-rule=\"evenodd\" fill-opacity=\"1\" /><path clip-path=\"url(#clip460)\" d=\"M2212.49 160.402 L2220.13 160.402 L2220.13 134.037 L2211.82 135.703 L2211.82 131.444 L2220.08 129.778 L2224.76 129.778 L2224.76 160.402 L2232.4 160.402 L2232.4 164.338 L2212.49 164.338 L2212.49 160.402 Z\" fill=\"#000000\" fill-rule=\"evenodd\" fill-opacity=\"1\" /><polyline clip-path=\"url(#clip460)\" style=\"stroke:#e26f46; stroke-linecap:butt; stroke-linejoin:round; stroke-width:4; stroke-opacity:1; fill:none\" points=\"\n",
       "  2011.46,198.898 2155.89,198.898 \n",
       "  \"/>\n",
       "<path clip-path=\"url(#clip460)\" d=\"M2193.81 218.585 Q2192 223.215 2190.29 224.627 Q2188.58 226.039 2185.71 226.039 L2182.3 226.039 L2182.3 222.474 L2184.8 222.474 Q2186.56 222.474 2187.53 221.64 Q2188.51 220.807 2189.69 217.705 L2190.45 215.761 L2179.97 190.252 L2184.48 190.252 L2192.58 210.529 L2200.68 190.252 L2205.2 190.252 L2193.81 218.585 Z\" fill=\"#000000\" fill-rule=\"evenodd\" fill-opacity=\"1\" /><path clip-path=\"url(#clip460)\" d=\"M2215.71 212.242 L2232.03 212.242 L2232.03 216.178 L2210.08 216.178 L2210.08 212.242 Q2212.74 209.488 2217.33 204.858 Q2221.93 200.205 2223.11 198.863 Q2225.36 196.34 2226.24 194.604 Q2227.14 192.844 2227.14 191.155 Q2227.14 188.4 2225.2 186.664 Q2223.28 184.928 2220.17 184.928 Q2217.97 184.928 2215.52 185.692 Q2213.09 186.455 2210.31 188.006 L2210.31 183.284 Q2213.14 182.15 2215.59 181.571 Q2218.04 180.993 2220.08 180.993 Q2225.45 180.993 2228.65 183.678 Q2231.84 186.363 2231.84 190.854 Q2231.84 192.983 2231.03 194.905 Q2230.24 196.803 2228.14 199.395 Q2227.56 200.067 2224.46 203.284 Q2221.35 206.479 2215.71 212.242 Z\" fill=\"#000000\" fill-rule=\"evenodd\" fill-opacity=\"1\" /></svg>\n"
      ]
     },
     "metadata": {},
     "output_type": "display_data"
    }
   ],
   "source": [
    "\n",
    "plot(ths, bal_to_bals2)\n",
    "plot!(ths, ubal_to_bals2)"
   ]
  },
  {
   "cell_type": "code",
   "execution_count": 239,
   "metadata": {},
   "outputs": [
    {
     "data": {
      "image/png": "[encoded data removed]",
      "image/svg+xml": "<?xml version=\"1.0\" encoding=\"utf-8\"?>\n<svg xmlns=\"http://www.w3.org/2000/svg\" xmlns:xlink=\"http://www.w3.org/1999/xlink\" width=\"600\" height=\"400\" viewBox=\"0 0 2400 1600\">\n<defs>\n  <clipPath id=\"clip670\">\n    <rect x=\"0\" y=\"0\" width=\"2400\" height=\"1600\"/>\n  </clipPath>\n</defs>\n<path clip-path=\"url(#clip670)\" d=\"\nM0 1600 L2400 1600 L2400 0 L0 0  Z\n  \" fill=\"#ffffff\" fill-rule=\"evenodd\" fill-opacity=\"1\"/>\n<defs>\n  <clipPath id=\"clip671\">\n    <rect x=\"480\" y=\"0\" width=\"1681\" height=\"1600\"/>\n  </clipPath>\n</defs>\n<path clip-path=\"url(#clip670)\" d=\"\nM186.274 1486.45 L2352.76 1486.45 L2352.76 47.2441 L186.274 47.2441  Z\n  \" fill=\"#ffffff\" fill-rule=\"evenodd\" fill-opacity=\"1\"/>\n<defs>\n  <clipPath id=\"clip672\">\n    <rect x=\"186\" y=\"47\" width=\"2167\" height=\"1440\"/>\n  </clipPath>\n</defs>\n<polyline clip-path=\"url(#clip672)\" style=\"stroke:#000000; stroke-linecap:butt; stroke-linejoin:round; stroke-width:2; stroke-opacity:0.1; fill:none\" points=\"\n  247.59,1486.45 247.59,47.2441 \n  \"/>\n<polyline clip-path=\"url(#clip672)\" style=\"stroke:#000000; stroke-linecap:butt; stroke-linejoin:round; stroke-width:2; stroke-opacity:0.1; fill:none\" points=\"\n  712.101,1486.45 712.101,47.2441 \n  \"/>\n<polyline clip-path=\"url(#clip672)\" style=\"stroke:#000000; stroke-linecap:butt; stroke-linejoin:round; stroke-width:2; stroke-opacity:0.1; fill:none\" points=\"\n  1176.61,1486.45 1176.61,47.2441 \n  \"/>\n<polyline clip-path=\"url(#clip672)\" style=\"stroke:#000000; stroke-linecap:butt; stroke-linejoin:round; stroke-width:2; stroke-opacity:0.1; fill:none\" points=\"\n  1641.12,1486.45 1641.12,47.2441 \n  \"/>\n<polyline clip-path=\"url(#clip672)\" style=\"stroke:#000000; stroke-linecap:butt; stroke-linejoin:round; stroke-width:2; stroke-opacity:0.1; fill:none\" points=\"\n  2105.64,1486.45 2105.64,47.2441 \n  \"/>\n<polyline clip-path=\"url(#clip670)\" style=\"stroke:#000000; stroke-linecap:butt; stroke-linejoin:round; stroke-width:4; stroke-opacity:1; fill:none\" points=\"\n  186.274,1486.45 2352.76,1486.45 \n  \"/>\n<polyline clip-path=\"url(#clip670)\" style=\"stroke:#000000; stroke-linecap:butt; stroke-linejoin:round; stroke-width:4; stroke-opacity:1; fill:none\" points=\"\n  247.59,1486.45 247.59,1467.55 \n  \"/>\n<polyline clip-path=\"url(#clip670)\" style=\"stroke:#000000; stroke-linecap:butt; stroke-linejoin:round; stroke-width:4; stroke-opacity:1; fill:none\" points=\"\n  712.101,1486.45 712.101,1467.55 \n  \"/>\n<polyline clip-path=\"url(#clip670)\" style=\"stroke:#000000; stroke-linecap:butt; stroke-linejoin:round; stroke-width:4; stroke-opacity:1; fill:none\" points=\"\n  1176.61,1486.45 1176.61,1467.55 \n  \"/>\n<polyline clip-path=\"url(#clip670)\" style=\"stroke:#000000; stroke-linecap:butt; stroke-linejoin:round; stroke-width:4; stroke-opacity:1; fill:none\" points=\"\n  1641.12,1486.45 1641.12,1467.55 \n  \"/>\n<polyline clip-path=\"url(#clip670)\" style=\"stroke:#000000; stroke-linecap:butt; stroke-linejoin:round; stroke-width:4; stroke-opacity:1; fill:none\" points=\"\n  2105.64,1486.45 2105.64,1467.55 \n  \"/>\n<path clip-path=\"url(#clip670)\" d=\"M224.974 1517.37 Q221.363 1517.37 219.534 1520.93 Q217.729 1524.47 217.729 1531.6 Q217.729 1538.71 219.534 1542.27 Q221.363 1545.82 224.974 1545.82 Q228.608 1545.82 230.414 1542.27 Q232.242 1538.71 232.242 1531.6 Q232.242 1524.47 230.414 1520.93 Q228.608 1517.37 224.974 1517.37 M224.974 1513.66 Q230.784 1513.66 233.84 1518.27 Q236.918 1522.85 236.918 1531.6 Q236.918 1540.33 233.84 1544.94 Q230.784 1549.52 224.974 1549.52 Q219.164 1549.52 216.085 1544.94 Q213.03 1540.33 213.03 1531.6 Q213.03 1522.85 216.085 1518.27 Q219.164 1513.66 224.974 1513.66 Z\" fill=\"#000000\" fill-rule=\"evenodd\" fill-opacity=\"1\" /><path clip-path=\"url(#clip670)\" d=\"M245.136 1542.97 L250.02 1542.97 L250.02 1548.85 L245.136 1548.85 L245.136 1542.97 Z\" fill=\"#000000\" fill-rule=\"evenodd\" fill-opacity=\"1\" /><path clip-path=\"url(#clip670)\" d=\"M270.205 1517.37 Q266.594 1517.37 264.765 1520.93 Q262.96 1524.47 262.96 1531.6 Q262.96 1538.71 264.765 1542.27 Q266.594 1545.82 270.205 1545.82 Q273.839 1545.82 275.645 1542.27 Q277.474 1538.71 277.474 1531.6 Q277.474 1524.47 275.645 1520.93 Q273.839 1517.37 270.205 1517.37 M270.205 1513.66 Q276.015 1513.66 279.071 1518.27 Q282.15 1522.85 282.15 1531.6 Q282.15 1540.33 279.071 1544.94 Q276.015 1549.52 270.205 1549.52 Q264.395 1549.52 261.316 1544.94 Q258.261 1540.33 258.261 1531.6 Q258.261 1522.85 261.316 1518.27 Q264.395 1513.66 270.205 1513.66 Z\" fill=\"#000000\" fill-rule=\"evenodd\" fill-opacity=\"1\" /><path clip-path=\"url(#clip670)\" d=\"M690.284 1517.37 Q686.673 1517.37 684.844 1520.93 Q683.039 1524.47 683.039 1531.6 Q683.039 1538.71 684.844 1542.27 Q686.673 1545.82 690.284 1545.82 Q693.918 1545.82 695.724 1542.27 Q697.553 1538.71 697.553 1531.6 Q697.553 1524.47 695.724 1520.93 Q693.918 1517.37 690.284 1517.37 M690.284 1513.66 Q696.094 1513.66 699.15 1518.27 Q702.228 1522.85 702.228 1531.6 Q702.228 1540.33 699.15 1544.94 Q696.094 1549.52 690.284 1549.52 Q684.474 1549.52 681.395 1544.94 Q678.34 1540.33 678.34 1531.6 Q678.34 1522.85 681.395 1518.27 Q684.474 1513.66 690.284 1513.66 Z\" fill=\"#000000\" fill-rule=\"evenodd\" fill-opacity=\"1\" /><path clip-path=\"url(#clip670)\" d=\"M710.446 1542.97 L715.33 1542.97 L715.33 1548.85 L710.446 1548.85 L710.446 1542.97 Z\" fill=\"#000000\" fill-rule=\"evenodd\" fill-opacity=\"1\" /><path clip-path=\"url(#clip670)\" d=\"M729.543 1544.91 L745.862 1544.91 L745.862 1548.85 L723.918 1548.85 L723.918 1544.91 Q726.58 1542.16 731.163 1537.53 Q735.77 1532.88 736.95 1531.53 Q739.196 1529.01 740.075 1527.27 Q740.978 1525.51 740.978 1523.82 Q740.978 1521.07 739.034 1519.33 Q737.113 1517.6 734.011 1517.6 Q731.812 1517.6 729.358 1518.36 Q726.927 1519.13 724.15 1520.68 L724.15 1515.95 Q726.974 1514.82 729.427 1514.24 Q731.881 1513.66 733.918 1513.66 Q739.288 1513.66 742.483 1516.35 Q745.677 1519.03 745.677 1523.52 Q745.677 1525.65 744.867 1527.57 Q744.08 1529.47 741.974 1532.07 Q741.395 1532.74 738.293 1535.95 Q735.191 1539.15 729.543 1544.91 Z\" fill=\"#000000\" fill-rule=\"evenodd\" fill-opacity=\"1\" /><path clip-path=\"url(#clip670)\" d=\"M1153.75 1517.37 Q1150.14 1517.37 1148.31 1520.93 Q1146.51 1524.47 1146.51 1531.6 Q1146.51 1538.71 1148.31 1542.27 Q1150.14 1545.82 1153.75 1545.82 Q1157.39 1545.82 1159.19 1542.27 Q1161.02 1538.71 1161.02 1531.6 Q1161.02 1524.47 1159.19 1520.93 Q1157.39 1517.37 1153.75 1517.37 M1153.75 1513.66 Q1159.56 1513.66 1162.62 1518.27 Q1165.7 1522.85 1165.7 1531.6 Q1165.7 1540.33 1162.62 1544.94 Q1159.56 1549.52 1153.75 1549.52 Q1147.94 1549.52 1144.87 1544.94 Q1141.81 1540.33 1141.81 1531.6 Q1141.81 1522.85 1144.87 1518.27 Q1147.94 1513.66 1153.75 1513.66 Z\" fill=\"#000000\" fill-rule=\"evenodd\" fill-opacity=\"1\" /><path clip-path=\"url(#clip670)\" d=\"M1173.92 1542.97 L1178.8 1542.97 L1178.8 1548.85 L1173.92 1548.85 L1173.92 1542.97 Z\" fill=\"#000000\" fill-rule=\"evenodd\" fill-opacity=\"1\" /><path clip-path=\"url(#clip670)\" d=\"M1201.83 1518.36 L1190.03 1536.81 L1201.83 1536.81 L1201.83 1518.36 M1200.61 1514.29 L1206.49 1514.29 L1206.49 1536.81 L1211.42 1536.81 L1211.42 1540.7 L1206.49 1540.7 L1206.49 1548.85 L1201.83 1548.85 L1201.83 1540.7 L1186.23 1540.7 L1186.23 1536.19 L1200.61 1514.29 Z\" fill=\"#000000\" fill-rule=\"evenodd\" fill-opacity=\"1\" /><path clip-path=\"url(#clip670)\" d=\"M1618.43 1517.37 Q1614.82 1517.37 1612.99 1520.93 Q1611.18 1524.47 1611.18 1531.6 Q1611.18 1538.71 1612.99 1542.27 Q1614.82 1545.82 1618.43 1545.82 Q1622.06 1545.82 1623.87 1542.27 Q1625.7 1538.71 1625.7 1531.6 Q1625.7 1524.47 1623.87 1520.93 Q1622.06 1517.37 1618.43 1517.37 M1618.43 1513.66 Q1624.24 1513.66 1627.29 1518.27 Q1630.37 1522.85 1630.37 1531.6 Q1630.37 1540.33 1627.29 1544.94 Q1624.24 1549.52 1618.43 1549.52 Q1612.62 1549.52 1609.54 1544.94 Q1606.48 1540.33 1606.48 1531.6 Q1606.48 1522.85 1609.54 1518.27 Q1612.62 1513.66 1618.43 1513.66 Z\" fill=\"#000000\" fill-rule=\"evenodd\" fill-opacity=\"1\" /><path clip-path=\"url(#clip670)\" d=\"M1638.59 1542.97 L1643.47 1542.97 L1643.47 1548.85 L1638.59 1548.85 L1638.59 1542.97 Z\" fill=\"#000000\" fill-rule=\"evenodd\" fill-opacity=\"1\" /><path clip-path=\"url(#clip670)\" d=\"M1664.24 1529.7 Q1661.09 1529.7 1659.24 1531.86 Q1657.41 1534.01 1657.41 1537.76 Q1657.41 1541.49 1659.24 1543.66 Q1661.09 1545.82 1664.24 1545.82 Q1667.39 1545.82 1669.21 1543.66 Q1671.07 1541.49 1671.07 1537.76 Q1671.07 1534.01 1669.21 1531.86 Q1667.39 1529.7 1664.24 1529.7 M1673.52 1515.05 L1673.52 1519.31 Q1671.76 1518.48 1669.96 1518.04 Q1668.17 1517.6 1666.41 1517.6 Q1661.78 1517.6 1659.33 1520.72 Q1656.9 1523.85 1656.55 1530.17 Q1657.92 1528.15 1659.98 1527.09 Q1662.04 1526 1664.52 1526 Q1669.72 1526 1672.73 1529.17 Q1675.77 1532.32 1675.77 1537.76 Q1675.77 1543.08 1672.62 1546.3 Q1669.47 1549.52 1664.24 1549.52 Q1658.24 1549.52 1655.07 1544.94 Q1651.9 1540.33 1651.9 1531.6 Q1651.9 1523.41 1655.79 1518.55 Q1659.68 1513.66 1666.23 1513.66 Q1667.99 1513.66 1669.77 1514.01 Q1671.58 1514.36 1673.52 1515.05 Z\" fill=\"#000000\" fill-rule=\"evenodd\" fill-opacity=\"1\" /><path clip-path=\"url(#clip670)\" d=\"M2083.07 1517.37 Q2079.46 1517.37 2077.63 1520.93 Q2075.82 1524.47 2075.82 1531.6 Q2075.82 1538.71 2077.63 1542.27 Q2079.46 1545.82 2083.07 1545.82 Q2086.7 1545.82 2088.51 1542.27 Q2090.33 1538.71 2090.33 1531.6 Q2090.33 1524.47 2088.51 1520.93 Q2086.7 1517.37 2083.07 1517.37 M2083.07 1513.66 Q2088.88 1513.66 2091.93 1518.27 Q2095.01 1522.85 2095.01 1531.6 Q2095.01 1540.33 2091.93 1544.94 Q2088.88 1549.52 2083.07 1549.52 Q2077.26 1549.52 2074.18 1544.94 Q2071.12 1540.33 2071.12 1531.6 Q2071.12 1522.85 2074.18 1518.27 Q2077.26 1513.66 2083.07 1513.66 Z\" fill=\"#000000\" fill-rule=\"evenodd\" fill-opacity=\"1\" /><path clip-path=\"url(#clip670)\" d=\"M2103.23 1542.97 L2108.11 1542.97 L2108.11 1548.85 L2103.23 1548.85 L2103.23 1542.97 Z\" fill=\"#000000\" fill-rule=\"evenodd\" fill-opacity=\"1\" /><path clip-path=\"url(#clip670)\" d=\"M2128.3 1532.44 Q2124.96 1532.44 2123.04 1534.22 Q2121.14 1536 2121.14 1539.13 Q2121.14 1542.25 2123.04 1544.03 Q2124.96 1545.82 2128.3 1545.82 Q2131.63 1545.82 2133.55 1544.03 Q2135.47 1542.23 2135.47 1539.13 Q2135.47 1536 2133.55 1534.22 Q2131.65 1532.44 2128.3 1532.44 M2123.62 1530.45 Q2120.61 1529.7 2118.92 1527.64 Q2117.26 1525.58 2117.26 1522.62 Q2117.26 1518.48 2120.2 1516.07 Q2123.16 1513.66 2128.3 1513.66 Q2133.46 1513.66 2136.4 1516.07 Q2139.34 1518.48 2139.34 1522.62 Q2139.34 1525.58 2137.65 1527.64 Q2135.98 1529.7 2133 1530.45 Q2136.38 1531.23 2138.25 1533.52 Q2140.15 1535.82 2140.15 1539.13 Q2140.15 1544.15 2137.07 1546.83 Q2134.02 1549.52 2128.3 1549.52 Q2122.58 1549.52 2119.5 1546.83 Q2116.45 1544.15 2116.45 1539.13 Q2116.45 1535.82 2118.34 1533.52 Q2120.24 1531.23 2123.62 1530.45 M2121.91 1523.06 Q2121.91 1525.75 2123.58 1527.25 Q2125.27 1528.76 2128.3 1528.76 Q2131.31 1528.76 2133 1527.25 Q2134.71 1525.75 2134.71 1523.06 Q2134.71 1520.38 2133 1518.87 Q2131.31 1517.37 2128.3 1517.37 Q2125.27 1517.37 2123.58 1518.87 Q2121.91 1520.38 2121.91 1523.06 Z\" fill=\"#000000\" fill-rule=\"evenodd\" fill-opacity=\"1\" /><polyline clip-path=\"url(#clip672)\" style=\"stroke:#000000; stroke-linecap:butt; stroke-linejoin:round; stroke-width:2; stroke-opacity:0.1; fill:none\" points=\"\n  186.274,1469.96 2352.76,1469.96 \n  \"/>\n<polyline clip-path=\"url(#clip672)\" style=\"stroke:#000000; stroke-linecap:butt; stroke-linejoin:round; stroke-width:2; stroke-opacity:0.1; fill:none\" points=\"\n  186.274,1124.46 2352.76,1124.46 \n  \"/>\n<polyline clip-path=\"url(#clip672)\" style=\"stroke:#000000; stroke-linecap:butt; stroke-linejoin:round; stroke-width:2; stroke-opacity:0.1; fill:none\" points=\"\n  186.274,778.969 2352.76,778.969 \n  \"/>\n<polyline clip-path=\"url(#clip672)\" style=\"stroke:#000000; stroke-linecap:butt; stroke-linejoin:round; stroke-width:2; stroke-opacity:0.1; fill:none\" points=\"\n  186.274,433.472 2352.76,433.472 \n  \"/>\n<polyline clip-path=\"url(#clip672)\" style=\"stroke:#000000; stroke-linecap:butt; stroke-linejoin:round; stroke-width:2; stroke-opacity:0.1; fill:none\" points=\"\n  186.274,87.9763 2352.76,87.9763 \n  \"/>\n<polyline clip-path=\"url(#clip670)\" style=\"stroke:#000000; stroke-linecap:butt; stroke-linejoin:round; stroke-width:4; stroke-opacity:1; fill:none\" points=\"\n  186.274,1486.45 186.274,47.2441 \n  \"/>\n<polyline clip-path=\"url(#clip670)\" style=\"stroke:#000000; stroke-linecap:butt; stroke-linejoin:round; stroke-width:4; stroke-opacity:1; fill:none\" points=\"\n  186.274,1469.96 205.172,1469.96 \n  \"/>\n<polyline clip-path=\"url(#clip670)\" style=\"stroke:#000000; stroke-linecap:butt; stroke-linejoin:round; stroke-width:4; stroke-opacity:1; fill:none\" points=\"\n  186.274,1124.46 205.172,1124.46 \n  \"/>\n<polyline clip-path=\"url(#clip670)\" style=\"stroke:#000000; stroke-linecap:butt; stroke-linejoin:round; stroke-width:4; stroke-opacity:1; fill:none\" points=\"\n  186.274,778.969 205.172,778.969 \n  \"/>\n<polyline clip-path=\"url(#clip670)\" style=\"stroke:#000000; stroke-linecap:butt; stroke-linejoin:round; stroke-width:4; stroke-opacity:1; fill:none\" points=\"\n  186.274,433.472 205.172,433.472 \n  \"/>\n<polyline clip-path=\"url(#clip670)\" style=\"stroke:#000000; stroke-linecap:butt; stroke-linejoin:round; stroke-width:4; stroke-opacity:1; fill:none\" points=\"\n  186.274,87.9763 205.172,87.9763 \n  \"/>\n<path clip-path=\"url(#clip670)\" d=\"M62.9365 1455.76 Q59.3254 1455.76 57.4967 1459.32 Q55.6912 1462.87 55.6912 1470 Q55.6912 1477.1 57.4967 1480.67 Q59.3254 1484.21 62.9365 1484.21 Q66.5707 1484.21 68.3763 1480.67 Q70.205 1477.1 70.205 1470 Q70.205 1462.87 68.3763 1459.32 Q66.5707 1455.76 62.9365 1455.76 M62.9365 1452.06 Q68.7467 1452.06 71.8022 1456.66 Q74.8809 1461.25 74.8809 1470 Q74.8809 1478.72 71.8022 1483.33 Q68.7467 1487.91 62.9365 1487.91 Q57.1264 1487.91 54.0477 1483.33 Q50.9921 1478.72 50.9921 1470 Q50.9921 1461.25 54.0477 1456.66 Q57.1264 1452.06 62.9365 1452.06 Z\" fill=\"#000000\" fill-rule=\"evenodd\" fill-opacity=\"1\" /><path clip-path=\"url(#clip670)\" d=\"M83.0984 1481.36 L87.9827 1481.36 L87.9827 1487.24 L83.0984 1487.24 L83.0984 1481.36 Z\" fill=\"#000000\" fill-rule=\"evenodd\" fill-opacity=\"1\" /><path clip-path=\"url(#clip670)\" d=\"M108.168 1455.76 Q104.557 1455.76 102.728 1459.32 Q100.922 1462.87 100.922 1470 Q100.922 1477.1 102.728 1480.67 Q104.557 1484.21 108.168 1484.21 Q111.802 1484.21 113.608 1480.67 Q115.436 1477.1 115.436 1470 Q115.436 1462.87 113.608 1459.32 Q111.802 1455.76 108.168 1455.76 M108.168 1452.06 Q113.978 1452.06 117.033 1456.66 Q120.112 1461.25 120.112 1470 Q120.112 1478.72 117.033 1483.33 Q113.978 1487.91 108.168 1487.91 Q102.358 1487.91 99.2789 1483.33 Q96.2234 1478.72 96.2234 1470 Q96.2234 1461.25 99.2789 1456.66 Q102.358 1452.06 108.168 1452.06 Z\" fill=\"#000000\" fill-rule=\"evenodd\" fill-opacity=\"1\" /><path clip-path=\"url(#clip670)\" d=\"M138.33 1455.76 Q134.719 1455.76 132.89 1459.32 Q131.084 1462.87 131.084 1470 Q131.084 1477.1 132.89 1480.67 Q134.719 1484.21 138.33 1484.21 Q141.964 1484.21 143.769 1480.67 Q145.598 1477.1 145.598 1470 Q145.598 1462.87 143.769 1459.32 Q141.964 1455.76 138.33 1455.76 M138.33 1452.06 Q144.14 1452.06 147.195 1456.66 Q150.274 1461.25 150.274 1470 Q150.274 1478.72 147.195 1483.33 Q144.14 1487.91 138.33 1487.91 Q132.519 1487.91 129.441 1483.33 Q126.385 1478.72 126.385 1470 Q126.385 1461.25 129.441 1456.66 Q132.519 1452.06 138.33 1452.06 Z\" fill=\"#000000\" fill-rule=\"evenodd\" fill-opacity=\"1\" /><path clip-path=\"url(#clip670)\" d=\"M63.9319 1110.26 Q60.3208 1110.26 58.4921 1113.83 Q56.6865 1117.37 56.6865 1124.5 Q56.6865 1131.61 58.4921 1135.17 Q60.3208 1138.71 63.9319 1138.71 Q67.5661 1138.71 69.3717 1135.17 Q71.2004 1131.61 71.2004 1124.5 Q71.2004 1117.37 69.3717 1113.83 Q67.5661 1110.26 63.9319 1110.26 M63.9319 1106.56 Q69.742 1106.56 72.7976 1111.17 Q75.8763 1115.75 75.8763 1124.5 Q75.8763 1133.23 72.7976 1137.83 Q69.742 1142.42 63.9319 1142.42 Q58.1217 1142.42 55.043 1137.83 Q51.9875 1133.23 51.9875 1124.5 Q51.9875 1115.75 55.043 1111.17 Q58.1217 1106.56 63.9319 1106.56 Z\" fill=\"#000000\" fill-rule=\"evenodd\" fill-opacity=\"1\" /><path clip-path=\"url(#clip670)\" d=\"M84.0938 1135.87 L88.978 1135.87 L88.978 1141.74 L84.0938 1141.74 L84.0938 1135.87 Z\" fill=\"#000000\" fill-rule=\"evenodd\" fill-opacity=\"1\" /><path clip-path=\"url(#clip670)\" d=\"M103.191 1137.81 L119.51 1137.81 L119.51 1141.74 L97.566 1141.74 L97.566 1137.81 Q100.228 1135.06 104.811 1130.43 Q109.418 1125.77 110.598 1124.43 Q112.844 1121.91 113.723 1120.17 Q114.626 1118.41 114.626 1116.72 Q114.626 1113.97 112.682 1112.23 Q110.76 1110.5 107.658 1110.5 Q105.459 1110.5 103.006 1111.26 Q100.575 1112.02 97.7974 1113.57 L97.7974 1108.85 Q100.621 1107.72 103.075 1107.14 Q105.529 1106.56 107.566 1106.56 Q112.936 1106.56 116.131 1109.25 Q119.325 1111.93 119.325 1116.42 Q119.325 1118.55 118.515 1120.47 Q117.728 1122.37 115.621 1124.96 Q115.043 1125.63 111.941 1128.85 Q108.839 1132.05 103.191 1137.81 Z\" fill=\"#000000\" fill-rule=\"evenodd\" fill-opacity=\"1\" /><path clip-path=\"url(#clip670)\" d=\"M129.371 1107.18 L147.728 1107.18 L147.728 1111.12 L133.654 1111.12 L133.654 1119.59 Q134.672 1119.24 135.691 1119.08 Q136.709 1118.9 137.728 1118.9 Q143.515 1118.9 146.894 1122.07 Q150.274 1125.24 150.274 1130.66 Q150.274 1136.24 146.802 1139.34 Q143.33 1142.42 137.01 1142.42 Q134.834 1142.42 132.566 1142.05 Q130.32 1141.68 127.913 1140.93 L127.913 1136.24 Q129.996 1137.37 132.219 1137.93 Q134.441 1138.48 136.918 1138.48 Q140.922 1138.48 143.26 1136.37 Q145.598 1134.27 145.598 1130.66 Q145.598 1127.05 143.26 1124.94 Q140.922 1122.83 136.918 1122.83 Q135.043 1122.83 133.168 1123.25 Q131.316 1123.67 129.371 1124.55 L129.371 1107.18 Z\" fill=\"#000000\" fill-rule=\"evenodd\" fill-opacity=\"1\" /><path clip-path=\"url(#clip670)\" d=\"M62.9365 764.767 Q59.3254 764.767 57.4967 768.332 Q55.6912 771.874 55.6912 779.003 Q55.6912 786.11 57.4967 789.675 Q59.3254 793.216 62.9365 793.216 Q66.5707 793.216 68.3763 789.675 Q70.205 786.11 70.205 779.003 Q70.205 771.874 68.3763 768.332 Q66.5707 764.767 62.9365 764.767 M62.9365 761.064 Q68.7467 761.064 71.8022 765.67 Q74.8809 770.253 74.8809 779.003 Q74.8809 787.73 71.8022 792.337 Q68.7467 796.92 62.9365 796.92 Q57.1264 796.92 54.0477 792.337 Q50.9921 787.73 50.9921 779.003 Q50.9921 770.253 54.0477 765.67 Q57.1264 761.064 62.9365 761.064 Z\" fill=\"#000000\" fill-rule=\"evenodd\" fill-opacity=\"1\" /><path clip-path=\"url(#clip670)\" d=\"M83.0984 790.369 L87.9827 790.369 L87.9827 796.249 L83.0984 796.249 L83.0984 790.369 Z\" fill=\"#000000\" fill-rule=\"evenodd\" fill-opacity=\"1\" /><path clip-path=\"url(#clip670)\" d=\"M98.2141 761.689 L116.57 761.689 L116.57 765.624 L102.496 765.624 L102.496 774.096 Q103.515 773.749 104.534 773.587 Q105.552 773.402 106.571 773.402 Q112.358 773.402 115.737 776.573 Q119.117 779.744 119.117 785.161 Q119.117 790.739 115.645 793.841 Q112.172 796.92 105.853 796.92 Q103.677 796.92 101.409 796.55 Q99.1632 796.179 96.7558 795.438 L96.7558 790.739 Q98.8391 791.874 101.061 792.429 Q103.284 792.985 105.76 792.985 Q109.765 792.985 112.103 790.878 Q114.441 788.772 114.441 785.161 Q114.441 781.55 112.103 779.443 Q109.765 777.337 105.76 777.337 Q103.885 777.337 102.01 777.753 Q100.159 778.17 98.2141 779.05 L98.2141 761.689 Z\" fill=\"#000000\" fill-rule=\"evenodd\" fill-opacity=\"1\" /><path clip-path=\"url(#clip670)\" d=\"M138.33 764.767 Q134.719 764.767 132.89 768.332 Q131.084 771.874 131.084 779.003 Q131.084 786.11 132.89 789.675 Q134.719 793.216 138.33 793.216 Q141.964 793.216 143.769 789.675 Q145.598 786.11 145.598 779.003 Q145.598 771.874 143.769 768.332 Q141.964 764.767 138.33 764.767 M138.33 761.064 Q144.14 761.064 147.195 765.67 Q150.274 770.253 150.274 779.003 Q150.274 787.73 147.195 792.337 Q144.14 796.92 138.33 796.92 Q132.519 796.92 129.441 792.337 Q126.385 787.73 126.385 779.003 Q126.385 770.253 129.441 765.67 Q132.519 761.064 138.33 761.064 Z\" fill=\"#000000\" fill-rule=\"evenodd\" fill-opacity=\"1\" /><path clip-path=\"url(#clip670)\" d=\"M63.9319 419.271 Q60.3208 419.271 58.4921 422.836 Q56.6865 426.378 56.6865 433.507 Q56.6865 440.614 58.4921 444.178 Q60.3208 447.72 63.9319 447.72 Q67.5661 447.72 69.3717 444.178 Q71.2004 440.614 71.2004 433.507 Q71.2004 426.378 69.3717 422.836 Q67.5661 419.271 63.9319 419.271 M63.9319 415.567 Q69.742 415.567 72.7976 420.174 Q75.8763 424.757 75.8763 433.507 Q75.8763 442.234 72.7976 446.84 Q69.742 451.424 63.9319 451.424 Q58.1217 451.424 55.043 446.84 Q51.9875 442.234 51.9875 433.507 Q51.9875 424.757 55.043 420.174 Q58.1217 415.567 63.9319 415.567 Z\" fill=\"#000000\" fill-rule=\"evenodd\" fill-opacity=\"1\" /><path clip-path=\"url(#clip670)\" d=\"M84.0938 444.873 L88.978 444.873 L88.978 450.752 L84.0938 450.752 L84.0938 444.873 Z\" fill=\"#000000\" fill-rule=\"evenodd\" fill-opacity=\"1\" /><path clip-path=\"url(#clip670)\" d=\"M97.9826 416.192 L120.205 416.192 L120.205 418.183 L107.658 450.752 L102.774 450.752 L114.58 420.128 L97.9826 420.128 L97.9826 416.192 Z\" fill=\"#000000\" fill-rule=\"evenodd\" fill-opacity=\"1\" /><path clip-path=\"url(#clip670)\" d=\"M129.371 416.192 L147.728 416.192 L147.728 420.128 L133.654 420.128 L133.654 428.6 Q134.672 428.253 135.691 428.091 Q136.709 427.905 137.728 427.905 Q143.515 427.905 146.894 431.077 Q150.274 434.248 150.274 439.665 Q150.274 445.243 146.802 448.345 Q143.33 451.424 137.01 451.424 Q134.834 451.424 132.566 451.053 Q130.32 450.683 127.913 449.942 L127.913 445.243 Q129.996 446.377 132.219 446.933 Q134.441 447.489 136.918 447.489 Q140.922 447.489 143.26 445.382 Q145.598 443.276 145.598 439.665 Q145.598 436.053 143.26 433.947 Q140.922 431.841 136.918 431.841 Q135.043 431.841 133.168 432.257 Q131.316 432.674 129.371 433.553 L129.371 416.192 Z\" fill=\"#000000\" fill-rule=\"evenodd\" fill-opacity=\"1\" /><path clip-path=\"url(#clip670)\" d=\"M53.7467 101.321 L61.3856 101.321 L61.3856 74.9555 L53.0754 76.6222 L53.0754 72.3629 L61.3393 70.6963 L66.0152 70.6963 L66.0152 101.321 L73.654 101.321 L73.654 105.256 L53.7467 105.256 L53.7467 101.321 Z\" fill=\"#000000\" fill-rule=\"evenodd\" fill-opacity=\"1\" /><path clip-path=\"url(#clip670)\" d=\"M83.0984 99.3767 L87.9827 99.3767 L87.9827 105.256 L83.0984 105.256 L83.0984 99.3767 Z\" fill=\"#000000\" fill-rule=\"evenodd\" fill-opacity=\"1\" /><path clip-path=\"url(#clip670)\" d=\"M108.168 73.775 Q104.557 73.775 102.728 77.3398 Q100.922 80.8814 100.922 88.011 Q100.922 95.1174 102.728 98.6822 Q104.557 102.224 108.168 102.224 Q111.802 102.224 113.608 98.6822 Q115.436 95.1174 115.436 88.011 Q115.436 80.8814 113.608 77.3398 Q111.802 73.775 108.168 73.775 M108.168 70.0713 Q113.978 70.0713 117.033 74.6777 Q120.112 79.261 120.112 88.011 Q120.112 96.7378 117.033 101.344 Q113.978 105.928 108.168 105.928 Q102.358 105.928 99.2789 101.344 Q96.2234 96.7378 96.2234 88.011 Q96.2234 79.261 99.2789 74.6777 Q102.358 70.0713 108.168 70.0713 Z\" fill=\"#000000\" fill-rule=\"evenodd\" fill-opacity=\"1\" /><path clip-path=\"url(#clip670)\" d=\"M138.33 73.775 Q134.719 73.775 132.89 77.3398 Q131.084 80.8814 131.084 88.011 Q131.084 95.1174 132.89 98.6822 Q134.719 102.224 138.33 102.224 Q141.964 102.224 143.769 98.6822 Q145.598 95.1174 145.598 88.011 Q145.598 80.8814 143.769 77.3398 Q141.964 73.775 138.33 73.775 M138.33 70.0713 Q144.14 70.0713 147.195 74.6777 Q150.274 79.261 150.274 88.011 Q150.274 96.7378 147.195 101.344 Q144.14 105.928 138.33 105.928 Q132.519 105.928 129.441 101.344 Q126.385 96.7378 126.385 88.011 Q126.385 79.261 129.441 74.6777 Q132.519 70.0713 138.33 70.0713 Z\" fill=\"#000000\" fill-rule=\"evenodd\" fill-opacity=\"1\" /><polyline clip-path=\"url(#clip672)\" style=\"stroke:#009af9; stroke-linecap:butt; stroke-linejoin:round; stroke-width:4; stroke-opacity:1; fill:none\" points=\"\n  247.59,917.167 549.522,597.129 828.229,371.46 1130.16,312.951 1408.87,268.235 1710.8,313.606 1989.51,134.823 2291.44,87.9763 \n  \"/>\n<circle clip-path=\"url(#clip672)\" cx=\"247.59\" cy=\"917.167\" r=\"14\" fill=\"#009af9\" fill-rule=\"evenodd\" fill-opacity=\"1\" stroke=\"#000000\" stroke-opacity=\"1\" stroke-width=\"3.2\"/>\n<circle clip-path=\"url(#clip672)\" cx=\"549.522\" cy=\"597.129\" r=\"14\" fill=\"#009af9\" fill-rule=\"evenodd\" fill-opacity=\"1\" stroke=\"#000000\" stroke-opacity=\"1\" stroke-width=\"3.2\"/>\n<circle clip-path=\"url(#clip672)\" cx=\"828.229\" cy=\"371.46\" r=\"14\" fill=\"#009af9\" fill-rule=\"evenodd\" fill-opacity=\"1\" stroke=\"#000000\" stroke-opacity=\"1\" stroke-width=\"3.2\"/>\n<circle clip-path=\"url(#clip672)\" cx=\"1130.16\" cy=\"312.951\" r=\"14\" fill=\"#009af9\" fill-rule=\"evenodd\" fill-opacity=\"1\" stroke=\"#000000\" stroke-opacity=\"1\" stroke-width=\"3.2\"/>\n<circle clip-path=\"url(#clip672)\" cx=\"1408.87\" cy=\"268.235\" r=\"14\" fill=\"#009af9\" fill-rule=\"evenodd\" fill-opacity=\"1\" stroke=\"#000000\" stroke-opacity=\"1\" stroke-width=\"3.2\"/>\n<circle clip-path=\"url(#clip672)\" cx=\"1710.8\" cy=\"313.606\" r=\"14\" fill=\"#009af9\" fill-rule=\"evenodd\" fill-opacity=\"1\" stroke=\"#000000\" stroke-opacity=\"1\" stroke-width=\"3.2\"/>\n<circle clip-path=\"url(#clip672)\" cx=\"1989.51\" cy=\"134.823\" r=\"14\" fill=\"#009af9\" fill-rule=\"evenodd\" fill-opacity=\"1\" stroke=\"#000000\" stroke-opacity=\"1\" stroke-width=\"3.2\"/>\n<circle clip-path=\"url(#clip672)\" cx=\"2291.44\" cy=\"87.9763\" r=\"14\" fill=\"#009af9\" fill-rule=\"evenodd\" fill-opacity=\"1\" stroke=\"#000000\" stroke-opacity=\"1\" stroke-width=\"3.2\"/>\n<polyline clip-path=\"url(#clip672)\" style=\"stroke:#e26f46; stroke-linecap:butt; stroke-linejoin:round; stroke-width:4; stroke-opacity:1; fill:none\" points=\"\n  247.59,1445.72 549.522,1180.71 828.229,929.184 1130.16,451.656 1408.87,606.221 1710.8,725.815 1989.51,87.9763 \n  \"/>\n<circle clip-path=\"url(#clip672)\" cx=\"247.59\" cy=\"1445.72\" r=\"14\" fill=\"#e26f46\" fill-rule=\"evenodd\" fill-opacity=\"1\" stroke=\"#000000\" stroke-opacity=\"1\" stroke-width=\"3.2\"/>\n<circle clip-path=\"url(#clip672)\" cx=\"549.522\" cy=\"1180.71\" r=\"14\" fill=\"#e26f46\" fill-rule=\"evenodd\" fill-opacity=\"1\" stroke=\"#000000\" stroke-opacity=\"1\" stroke-width=\"3.2\"/>\n<circle clip-path=\"url(#clip672)\" cx=\"828.229\" cy=\"929.184\" r=\"14\" fill=\"#e26f46\" fill-rule=\"evenodd\" fill-opacity=\"1\" stroke=\"#000000\" stroke-opacity=\"1\" stroke-width=\"3.2\"/>\n<circle clip-path=\"url(#clip672)\" cx=\"1130.16\" cy=\"451.656\" r=\"14\" fill=\"#e26f46\" fill-rule=\"evenodd\" fill-opacity=\"1\" stroke=\"#000000\" stroke-opacity=\"1\" stroke-width=\"3.2\"/>\n<circle clip-path=\"url(#clip672)\" cx=\"1408.87\" cy=\"606.221\" r=\"14\" fill=\"#e26f46\" fill-rule=\"evenodd\" fill-opacity=\"1\" stroke=\"#000000\" stroke-opacity=\"1\" stroke-width=\"3.2\"/>\n<circle clip-path=\"url(#clip672)\" cx=\"1710.8\" cy=\"725.815\" r=\"14\" fill=\"#e26f46\" fill-rule=\"evenodd\" fill-opacity=\"1\" stroke=\"#000000\" stroke-opacity=\"1\" stroke-width=\"3.2\"/>\n<circle clip-path=\"url(#clip672)\" cx=\"1989.51\" cy=\"87.9763\" r=\"14\" fill=\"#e26f46\" fill-rule=\"evenodd\" fill-opacity=\"1\" stroke=\"#000000\" stroke-opacity=\"1\" stroke-width=\"3.2\"/>\n<path clip-path=\"url(#clip670)\" d=\"\nM1858.64 1438.47 L2280.54 1438.47 L2280.54 1282.95 L1858.64 1282.95  Z\n  \" fill=\"#ffffff\" fill-rule=\"evenodd\" fill-opacity=\"1\"/>\n<polyline clip-path=\"url(#clip670)\" style=\"stroke:#000000; stroke-linecap:butt; stroke-linejoin:round; stroke-width:4; stroke-opacity:1; fill:none\" points=\"\n  1858.64,1438.47 2280.54,1438.47 2280.54,1282.95 1858.64,1282.95 1858.64,1438.47 \n  \"/>\n<polyline clip-path=\"url(#clip670)\" style=\"stroke:#009af9; stroke-linecap:butt; stroke-linejoin:round; stroke-width:4; stroke-opacity:1; fill:none\" points=\"\n  1882.71,1334.79 2027.14,1334.79 \n  \"/>\n<circle clip-path=\"url(#clip670)\" cx=\"1954.93\" cy=\"1334.79\" r=\"23\" fill=\"#009af9\" fill-rule=\"evenodd\" fill-opacity=\"1\" stroke=\"#000000\" stroke-opacity=\"1\" stroke-width=\"5.12\"/>\n<path clip-path=\"url(#clip670)\" d=\"M2051.22 1317.51 L2080.45 1317.51 L2080.45 1321.45 L2068.18 1321.45 L2068.18 1352.07 L2063.48 1352.07 L2063.48 1321.45 L2051.22 1321.45 L2051.22 1317.51 Z\" fill=\"#000000\" fill-rule=\"evenodd\" fill-opacity=\"1\" /><path clip-path=\"url(#clip670)\" d=\"M2095.01 1316.1 Q2091.91 1321.43 2090.41 1326.63 Q2088.9 1331.84 2088.9 1337.19 Q2088.9 1342.54 2090.41 1347.79 Q2091.93 1353.02 2095.01 1358.32 L2091.31 1358.32 Q2087.84 1352.88 2086.1 1347.63 Q2084.39 1342.38 2084.39 1337.19 Q2084.39 1332.03 2086.1 1326.8 Q2087.81 1321.57 2091.31 1316.1 L2095.01 1316.1 Z\" fill=\"#000000\" fill-rule=\"evenodd\" fill-opacity=\"1\" /><path clip-path=\"url(#clip670)\" d=\"M2120.61 1322.35 L2120.61 1335.25 L2133.51 1335.25 L2133.51 1339.18 L2120.61 1339.18 L2120.61 1352.07 L2116.73 1352.07 L2116.73 1339.18 L2103.83 1339.18 L2103.83 1335.25 L2116.73 1335.25 L2116.73 1322.35 L2120.61 1322.35 Z\" fill=\"#000000\" fill-rule=\"evenodd\" fill-opacity=\"1\" /><path clip-path=\"url(#clip670)\" d=\"M2175.94 1336.17 L2175.94 1338.26 L2166.84 1347.35 L2164.06 1344.57 L2169.46 1339.18 L2141.24 1339.18 L2141.24 1335.25 L2169.46 1335.25 L2164.06 1329.85 L2166.84 1327.07 L2175.94 1336.17 Z\" fill=\"#000000\" fill-rule=\"evenodd\" fill-opacity=\"1\" /><path clip-path=\"url(#clip670)\" d=\"M2200.06 1322.35 L2200.06 1335.25 L2212.95 1335.25 L2212.95 1339.18 L2200.06 1339.18 L2200.06 1352.07 L2196.17 1352.07 L2196.17 1339.18 L2183.28 1339.18 L2183.28 1335.25 L2196.17 1335.25 L2196.17 1322.35 L2200.06 1322.35 Z\" fill=\"#000000\" fill-rule=\"evenodd\" fill-opacity=\"1\" /><path clip-path=\"url(#clip670)\" d=\"M2221.77 1316.1 L2225.47 1316.1 Q2228.95 1321.57 2230.66 1326.8 Q2232.4 1332.03 2232.4 1337.19 Q2232.4 1342.38 2230.66 1347.63 Q2228.95 1352.88 2225.47 1358.32 L2221.77 1358.32 Q2224.85 1353.02 2226.35 1347.79 Q2227.88 1342.54 2227.88 1337.19 Q2227.88 1331.84 2226.35 1326.63 Q2224.85 1321.43 2221.77 1316.1 Z\" fill=\"#000000\" fill-rule=\"evenodd\" fill-opacity=\"1\" /><polyline clip-path=\"url(#clip670)\" style=\"stroke:#e26f46; stroke-linecap:butt; stroke-linejoin:round; stroke-width:4; stroke-opacity:1; fill:none\" points=\"\n  1882.71,1386.63 2027.14,1386.63 \n  \"/>\n<circle clip-path=\"url(#clip670)\" cx=\"1954.93\" cy=\"1386.63\" r=\"23\" fill=\"#e26f46\" fill-rule=\"evenodd\" fill-opacity=\"1\" stroke=\"#000000\" stroke-opacity=\"1\" stroke-width=\"5.12\"/>\n<path clip-path=\"url(#clip670)\" d=\"M2051.22 1369.35 L2080.45 1369.35 L2080.45 1373.29 L2068.18 1373.29 L2068.18 1403.91 L2063.48 1403.91 L2063.48 1373.29 L2051.22 1373.29 L2051.22 1369.35 Z\" fill=\"#000000\" fill-rule=\"evenodd\" fill-opacity=\"1\" /><path clip-path=\"url(#clip670)\" d=\"M2095.01 1367.94 Q2091.91 1373.27 2090.41 1378.47 Q2088.9 1383.68 2088.9 1389.03 Q2088.9 1394.38 2090.41 1399.63 Q2091.93 1404.86 2095.01 1410.16 L2091.31 1410.16 Q2087.84 1404.72 2086.1 1399.47 Q2084.39 1394.22 2084.39 1389.03 Q2084.39 1383.87 2086.1 1378.64 Q2087.81 1373.41 2091.31 1367.94 L2095.01 1367.94 Z\" fill=\"#000000\" fill-rule=\"evenodd\" fill-opacity=\"1\" /><path clip-path=\"url(#clip670)\" d=\"M2103.83 1387.09 L2133.51 1387.09 L2133.51 1391.02 L2103.83 1391.02 L2103.83 1387.09 Z\" fill=\"#000000\" fill-rule=\"evenodd\" fill-opacity=\"1\" /><path clip-path=\"url(#clip670)\" d=\"M2175.94 1388.01 L2175.94 1390.1 L2166.84 1399.19 L2164.06 1396.41 L2169.46 1391.02 L2141.24 1391.02 L2141.24 1387.09 L2169.46 1387.09 L2164.06 1381.69 L2166.84 1378.91 L2175.94 1388.01 Z\" fill=\"#000000\" fill-rule=\"evenodd\" fill-opacity=\"1\" /><path clip-path=\"url(#clip670)\" d=\"M2200.06 1374.19 L2200.06 1387.09 L2212.95 1387.09 L2212.95 1391.02 L2200.06 1391.02 L2200.06 1403.91 L2196.17 1403.91 L2196.17 1391.02 L2183.28 1391.02 L2183.28 1387.09 L2196.17 1387.09 L2196.17 1374.19 L2200.06 1374.19 Z\" fill=\"#000000\" fill-rule=\"evenodd\" fill-opacity=\"1\" /><path clip-path=\"url(#clip670)\" d=\"M2221.77 1367.94 L2225.47 1367.94 Q2228.95 1373.41 2230.66 1378.64 Q2232.4 1383.87 2232.4 1389.03 Q2232.4 1394.22 2230.66 1399.47 Q2228.95 1404.72 2225.47 1410.16 L2221.77 1410.16 Q2224.85 1404.86 2226.35 1399.63 Q2227.88 1394.38 2227.88 1389.03 Q2227.88 1383.68 2226.35 1378.47 Q2224.85 1373.27 2221.77 1367.94 Z\" fill=\"#000000\" fill-rule=\"evenodd\" fill-opacity=\"1\" /></svg>\n",
      "text/html": [
       "<?xml version=\"1.0\" encoding=\"utf-8\"?>\n",
       "<svg xmlns=\"http://www.w3.org/2000/svg\" xmlns:xlink=\"http://www.w3.org/1999/xlink\" width=\"600\" height=\"400\" viewBox=\"0 0 2400 1600\">\n",
       "<defs>\n",
       "  <clipPath id=\"clip720\">\n",
       "    <rect x=\"0\" y=\"0\" width=\"2400\" height=\"1600\"/>\n",
       "  </clipPath>\n",
       "</defs>\n",
       "<path clip-path=\"url(#clip720)\" d=\"\n",
       "M0 1600 L2400 1600 L2400 0 L0 0  Z\n",
       "  \" fill=\"#ffffff\" fill-rule=\"evenodd\" fill-opacity=\"1\"/>\n",
       "<defs>\n",
       "  <clipPath id=\"clip721\">\n",
       "    <rect x=\"480\" y=\"0\" width=\"1681\" height=\"1600\"/>\n",
       "  </clipPath>\n",
       "</defs>\n",
       "<path clip-path=\"url(#clip720)\" d=\"\n",
       "M186.274 1486.45 L2352.76 1486.45 L2352.76 47.2441 L186.274 47.2441  Z\n",
       "  \" fill=\"#ffffff\" fill-rule=\"evenodd\" fill-opacity=\"1\"/>\n",
       "<defs>\n",
       "  <clipPath id=\"clip722\">\n",
       "    <rect x=\"186\" y=\"47\" width=\"2167\" height=\"1440\"/>\n",
       "  </clipPath>\n",
       "</defs>\n",
       "<polyline clip-path=\"url(#clip722)\" style=\"stroke:#000000; stroke-linecap:butt; stroke-linejoin:round; stroke-width:2; stroke-opacity:0.1; fill:none\" points=\"\n",
       "  247.59,1486.45 247.59,47.2441 \n",
       "  \"/>\n",
       "<polyline clip-path=\"url(#clip722)\" style=\"stroke:#000000; stroke-linecap:butt; stroke-linejoin:round; stroke-width:2; stroke-opacity:0.1; fill:none\" points=\"\n",
       "  712.101,1486.45 712.101,47.2441 \n",
       "  \"/>\n",
       "<polyline clip-path=\"url(#clip722)\" style=\"stroke:#000000; stroke-linecap:butt; stroke-linejoin:round; stroke-width:2; stroke-opacity:0.1; fill:none\" points=\"\n",
       "  1176.61,1486.45 1176.61,47.2441 \n",
       "  \"/>\n",
       "<polyline clip-path=\"url(#clip722)\" style=\"stroke:#000000; stroke-linecap:butt; stroke-linejoin:round; stroke-width:2; stroke-opacity:0.1; fill:none\" points=\"\n",
       "  1641.12,1486.45 1641.12,47.2441 \n",
       "  \"/>\n",
       "<polyline clip-path=\"url(#clip722)\" style=\"stroke:#000000; stroke-linecap:butt; stroke-linejoin:round; stroke-width:2; stroke-opacity:0.1; fill:none\" points=\"\n",
       "  2105.64,1486.45 2105.64,47.2441 \n",
       "  \"/>\n",
       "<polyline clip-path=\"url(#clip720)\" style=\"stroke:#000000; stroke-linecap:butt; stroke-linejoin:round; stroke-width:4; stroke-opacity:1; fill:none\" points=\"\n",
       "  186.274,1486.45 2352.76,1486.45 \n",
       "  \"/>\n",
       "<polyline clip-path=\"url(#clip720)\" style=\"stroke:#000000; stroke-linecap:butt; stroke-linejoin:round; stroke-width:4; stroke-opacity:1; fill:none\" points=\"\n",
       "  247.59,1486.45 247.59,1467.55 \n",
       "  \"/>\n",
       "<polyline clip-path=\"url(#clip720)\" style=\"stroke:#000000; stroke-linecap:butt; stroke-linejoin:round; stroke-width:4; stroke-opacity:1; fill:none\" points=\"\n",
       "  712.101,1486.45 712.101,1467.55 \n",
       "  \"/>\n",
       "<polyline clip-path=\"url(#clip720)\" style=\"stroke:#000000; stroke-linecap:butt; stroke-linejoin:round; stroke-width:4; stroke-opacity:1; fill:none\" points=\"\n",
       "  1176.61,1486.45 1176.61,1467.55 \n",
       "  \"/>\n",
       "<polyline clip-path=\"url(#clip720)\" style=\"stroke:#000000; stroke-linecap:butt; stroke-linejoin:round; stroke-width:4; stroke-opacity:1; fill:none\" points=\"\n",
       "  1641.12,1486.45 1641.12,1467.55 \n",
       "  \"/>\n",
       "<polyline clip-path=\"url(#clip720)\" style=\"stroke:#000000; stroke-linecap:butt; stroke-linejoin:round; stroke-width:4; stroke-opacity:1; fill:none\" points=\"\n",
       "  2105.64,1486.45 2105.64,1467.55 \n",
       "  \"/>\n",
       "<path clip-path=\"url(#clip720)\" d=\"M224.974 1517.37 Q221.363 1517.37 219.534 1520.93 Q217.729 1524.47 217.729 1531.6 Q217.729 1538.71 219.534 1542.27 Q221.363 1545.82 224.974 1545.82 Q228.608 1545.82 230.414 1542.27 Q232.242 1538.71 232.242 1531.6 Q232.242 1524.47 230.414 1520.93 Q228.608 1517.37 224.974 1517.37 M224.974 1513.66 Q230.784 1513.66 233.84 1518.27 Q236.918 1522.85 236.918 1531.6 Q236.918 1540.33 233.84 1544.94 Q230.784 1549.52 224.974 1549.52 Q219.164 1549.52 216.085 1544.94 Q213.03 1540.33 213.03 1531.6 Q213.03 1522.85 216.085 1518.27 Q219.164 1513.66 224.974 1513.66 Z\" fill=\"#000000\" fill-rule=\"evenodd\" fill-opacity=\"1\" /><path clip-path=\"url(#clip720)\" d=\"M245.136 1542.97 L250.02 1542.97 L250.02 1548.85 L245.136 1548.85 L245.136 1542.97 Z\" fill=\"#000000\" fill-rule=\"evenodd\" fill-opacity=\"1\" /><path clip-path=\"url(#clip720)\" d=\"M270.205 1517.37 Q266.594 1517.37 264.765 1520.93 Q262.96 1524.47 262.96 1531.6 Q262.96 1538.71 264.765 1542.27 Q266.594 1545.82 270.205 1545.82 Q273.839 1545.82 275.645 1542.27 Q277.474 1538.71 277.474 1531.6 Q277.474 1524.47 275.645 1520.93 Q273.839 1517.37 270.205 1517.37 M270.205 1513.66 Q276.015 1513.66 279.071 1518.27 Q282.15 1522.85 282.15 1531.6 Q282.15 1540.33 279.071 1544.94 Q276.015 1549.52 270.205 1549.52 Q264.395 1549.52 261.316 1544.94 Q258.261 1540.33 258.261 1531.6 Q258.261 1522.85 261.316 1518.27 Q264.395 1513.66 270.205 1513.66 Z\" fill=\"#000000\" fill-rule=\"evenodd\" fill-opacity=\"1\" /><path clip-path=\"url(#clip720)\" d=\"M690.284 1517.37 Q686.673 1517.37 684.844 1520.93 Q683.039 1524.47 683.039 1531.6 Q683.039 1538.71 684.844 1542.27 Q686.673 1545.82 690.284 1545.82 Q693.918 1545.82 695.724 1542.27 Q697.553 1538.71 697.553 1531.6 Q697.553 1524.47 695.724 1520.93 Q693.918 1517.37 690.284 1517.37 M690.284 1513.66 Q696.094 1513.66 699.15 1518.27 Q702.228 1522.85 702.228 1531.6 Q702.228 1540.33 699.15 1544.94 Q696.094 1549.52 690.284 1549.52 Q684.474 1549.52 681.395 1544.94 Q678.34 1540.33 678.34 1531.6 Q678.34 1522.85 681.395 1518.27 Q684.474 1513.66 690.284 1513.66 Z\" fill=\"#000000\" fill-rule=\"evenodd\" fill-opacity=\"1\" /><path clip-path=\"url(#clip720)\" d=\"M710.446 1542.97 L715.33 1542.97 L715.33 1548.85 L710.446 1548.85 L710.446 1542.97 Z\" fill=\"#000000\" fill-rule=\"evenodd\" fill-opacity=\"1\" /><path clip-path=\"url(#clip720)\" d=\"M729.543 1544.91 L745.862 1544.91 L745.862 1548.85 L723.918 1548.85 L723.918 1544.91 Q726.58 1542.16 731.163 1537.53 Q735.77 1532.88 736.95 1531.53 Q739.196 1529.01 740.075 1527.27 Q740.978 1525.51 740.978 1523.82 Q740.978 1521.07 739.034 1519.33 Q737.113 1517.6 734.011 1517.6 Q731.812 1517.6 729.358 1518.36 Q726.927 1519.13 724.15 1520.68 L724.15 1515.95 Q726.974 1514.82 729.427 1514.24 Q731.881 1513.66 733.918 1513.66 Q739.288 1513.66 742.483 1516.35 Q745.677 1519.03 745.677 1523.52 Q745.677 1525.65 744.867 1527.57 Q744.08 1529.47 741.974 1532.07 Q741.395 1532.74 738.293 1535.95 Q735.191 1539.15 729.543 1544.91 Z\" fill=\"#000000\" fill-rule=\"evenodd\" fill-opacity=\"1\" /><path clip-path=\"url(#clip720)\" d=\"M1153.75 1517.37 Q1150.14 1517.37 1148.31 1520.93 Q1146.51 1524.47 1146.51 1531.6 Q1146.51 1538.71 1148.31 1542.27 Q1150.14 1545.82 1153.75 1545.82 Q1157.39 1545.82 1159.19 1542.27 Q1161.02 1538.71 1161.02 1531.6 Q1161.02 1524.47 1159.19 1520.93 Q1157.39 1517.37 1153.75 1517.37 M1153.75 1513.66 Q1159.56 1513.66 1162.62 1518.27 Q1165.7 1522.85 1165.7 1531.6 Q1165.7 1540.33 1162.62 1544.94 Q1159.56 1549.52 1153.75 1549.52 Q1147.94 1549.52 1144.87 1544.94 Q1141.81 1540.33 1141.81 1531.6 Q1141.81 1522.85 1144.87 1518.27 Q1147.94 1513.66 1153.75 1513.66 Z\" fill=\"#000000\" fill-rule=\"evenodd\" fill-opacity=\"1\" /><path clip-path=\"url(#clip720)\" d=\"M1173.92 1542.97 L1178.8 1542.97 L1178.8 1548.85 L1173.92 1548.85 L1173.92 1542.97 Z\" fill=\"#000000\" fill-rule=\"evenodd\" fill-opacity=\"1\" /><path clip-path=\"url(#clip720)\" d=\"M1201.83 1518.36 L1190.03 1536.81 L1201.83 1536.81 L1201.83 1518.36 M1200.61 1514.29 L1206.49 1514.29 L1206.49 1536.81 L1211.42 1536.81 L1211.42 1540.7 L1206.49 1540.7 L1206.49 1548.85 L1201.83 1548.85 L1201.83 1540.7 L1186.23 1540.7 L1186.23 1536.19 L1200.61 1514.29 Z\" fill=\"#000000\" fill-rule=\"evenodd\" fill-opacity=\"1\" /><path clip-path=\"url(#clip720)\" d=\"M1618.43 1517.37 Q1614.82 1517.37 1612.99 1520.93 Q1611.18 1524.47 1611.18 1531.6 Q1611.18 1538.71 1612.99 1542.27 Q1614.82 1545.82 1618.43 1545.82 Q1622.06 1545.82 1623.87 1542.27 Q1625.7 1538.71 1625.7 1531.6 Q1625.7 1524.47 1623.87 1520.93 Q1622.06 1517.37 1618.43 1517.37 M1618.43 1513.66 Q1624.24 1513.66 1627.29 1518.27 Q1630.37 1522.85 1630.37 1531.6 Q1630.37 1540.33 1627.29 1544.94 Q1624.24 1549.52 1618.43 1549.52 Q1612.62 1549.52 1609.54 1544.94 Q1606.48 1540.33 1606.48 1531.6 Q1606.48 1522.85 1609.54 1518.27 Q1612.62 1513.66 1618.43 1513.66 Z\" fill=\"#000000\" fill-rule=\"evenodd\" fill-opacity=\"1\" /><path clip-path=\"url(#clip720)\" d=\"M1638.59 1542.97 L1643.47 1542.97 L1643.47 1548.85 L1638.59 1548.85 L1638.59 1542.97 Z\" fill=\"#000000\" fill-rule=\"evenodd\" fill-opacity=\"1\" /><path clip-path=\"url(#clip720)\" d=\"M1664.24 1529.7 Q1661.09 1529.7 1659.24 1531.86 Q1657.41 1534.01 1657.41 1537.76 Q1657.41 1541.49 1659.24 1543.66 Q1661.09 1545.82 1664.24 1545.82 Q1667.39 1545.82 1669.21 1543.66 Q1671.07 1541.49 1671.07 1537.76 Q1671.07 1534.01 1669.21 1531.86 Q1667.39 1529.7 1664.24 1529.7 M1673.52 1515.05 L1673.52 1519.31 Q1671.76 1518.48 1669.96 1518.04 Q1668.17 1517.6 1666.41 1517.6 Q1661.78 1517.6 1659.33 1520.72 Q1656.9 1523.85 1656.55 1530.17 Q1657.92 1528.15 1659.98 1527.09 Q1662.04 1526 1664.52 1526 Q1669.72 1526 1672.73 1529.17 Q1675.77 1532.32 1675.77 1537.76 Q1675.77 1543.08 1672.62 1546.3 Q1669.47 1549.52 1664.24 1549.52 Q1658.24 1549.52 1655.07 1544.94 Q1651.9 1540.33 1651.9 1531.6 Q1651.9 1523.41 1655.79 1518.55 Q1659.68 1513.66 1666.23 1513.66 Q1667.99 1513.66 1669.77 1514.01 Q1671.58 1514.36 1673.52 1515.05 Z\" fill=\"#000000\" fill-rule=\"evenodd\" fill-opacity=\"1\" /><path clip-path=\"url(#clip720)\" d=\"M2083.07 1517.37 Q2079.46 1517.37 2077.63 1520.93 Q2075.82 1524.47 2075.82 1531.6 Q2075.82 1538.71 2077.63 1542.27 Q2079.46 1545.82 2083.07 1545.82 Q2086.7 1545.82 2088.51 1542.27 Q2090.33 1538.71 2090.33 1531.6 Q2090.33 1524.47 2088.51 1520.93 Q2086.7 1517.37 2083.07 1517.37 M2083.07 1513.66 Q2088.88 1513.66 2091.93 1518.27 Q2095.01 1522.85 2095.01 1531.6 Q2095.01 1540.33 2091.93 1544.94 Q2088.88 1549.52 2083.07 1549.52 Q2077.26 1549.52 2074.18 1544.94 Q2071.12 1540.33 2071.12 1531.6 Q2071.12 1522.85 2074.18 1518.27 Q2077.26 1513.66 2083.07 1513.66 Z\" fill=\"#000000\" fill-rule=\"evenodd\" fill-opacity=\"1\" /><path clip-path=\"url(#clip720)\" d=\"M2103.23 1542.97 L2108.11 1542.97 L2108.11 1548.85 L2103.23 1548.85 L2103.23 1542.97 Z\" fill=\"#000000\" fill-rule=\"evenodd\" fill-opacity=\"1\" /><path clip-path=\"url(#clip720)\" d=\"M2128.3 1532.44 Q2124.96 1532.44 2123.04 1534.22 Q2121.14 1536 2121.14 1539.13 Q2121.14 1542.25 2123.04 1544.03 Q2124.96 1545.82 2128.3 1545.82 Q2131.63 1545.82 2133.55 1544.03 Q2135.47 1542.23 2135.47 1539.13 Q2135.47 1536 2133.55 1534.22 Q2131.65 1532.44 2128.3 1532.44 M2123.62 1530.45 Q2120.61 1529.7 2118.92 1527.64 Q2117.26 1525.58 2117.26 1522.62 Q2117.26 1518.48 2120.2 1516.07 Q2123.16 1513.66 2128.3 1513.66 Q2133.46 1513.66 2136.4 1516.07 Q2139.34 1518.48 2139.34 1522.62 Q2139.34 1525.58 2137.65 1527.64 Q2135.98 1529.7 2133 1530.45 Q2136.38 1531.23 2138.25 1533.52 Q2140.15 1535.82 2140.15 1539.13 Q2140.15 1544.15 2137.07 1546.83 Q2134.02 1549.52 2128.3 1549.52 Q2122.58 1549.52 2119.5 1546.83 Q2116.45 1544.15 2116.45 1539.13 Q2116.45 1535.82 2118.34 1533.52 Q2120.24 1531.23 2123.62 1530.45 M2121.91 1523.06 Q2121.91 1525.75 2123.58 1527.25 Q2125.27 1528.76 2128.3 1528.76 Q2131.31 1528.76 2133 1527.25 Q2134.71 1525.75 2134.71 1523.06 Q2134.71 1520.38 2133 1518.87 Q2131.31 1517.37 2128.3 1517.37 Q2125.27 1517.37 2123.58 1518.87 Q2121.91 1520.38 2121.91 1523.06 Z\" fill=\"#000000\" fill-rule=\"evenodd\" fill-opacity=\"1\" /><polyline clip-path=\"url(#clip722)\" style=\"stroke:#000000; stroke-linecap:butt; stroke-linejoin:round; stroke-width:2; stroke-opacity:0.1; fill:none\" points=\"\n",
       "  186.274,1469.96 2352.76,1469.96 \n",
       "  \"/>\n",
       "<polyline clip-path=\"url(#clip722)\" style=\"stroke:#000000; stroke-linecap:butt; stroke-linejoin:round; stroke-width:2; stroke-opacity:0.1; fill:none\" points=\"\n",
       "  186.274,1124.46 2352.76,1124.46 \n",
       "  \"/>\n",
       "<polyline clip-path=\"url(#clip722)\" style=\"stroke:#000000; stroke-linecap:butt; stroke-linejoin:round; stroke-width:2; stroke-opacity:0.1; fill:none\" points=\"\n",
       "  186.274,778.969 2352.76,778.969 \n",
       "  \"/>\n",
       "<polyline clip-path=\"url(#clip722)\" style=\"stroke:#000000; stroke-linecap:butt; stroke-linejoin:round; stroke-width:2; stroke-opacity:0.1; fill:none\" points=\"\n",
       "  186.274,433.472 2352.76,433.472 \n",
       "  \"/>\n",
       "<polyline clip-path=\"url(#clip722)\" style=\"stroke:#000000; stroke-linecap:butt; stroke-linejoin:round; stroke-width:2; stroke-opacity:0.1; fill:none\" points=\"\n",
       "  186.274,87.9763 2352.76,87.9763 \n",
       "  \"/>\n",
       "<polyline clip-path=\"url(#clip720)\" style=\"stroke:#000000; stroke-linecap:butt; stroke-linejoin:round; stroke-width:4; stroke-opacity:1; fill:none\" points=\"\n",
       "  186.274,1486.45 186.274,47.2441 \n",
       "  \"/>\n",
       "<polyline clip-path=\"url(#clip720)\" style=\"stroke:#000000; stroke-linecap:butt; stroke-linejoin:round; stroke-width:4; stroke-opacity:1; fill:none\" points=\"\n",
       "  186.274,1469.96 205.172,1469.96 \n",
       "  \"/>\n",
       "<polyline clip-path=\"url(#clip720)\" style=\"stroke:#000000; stroke-linecap:butt; stroke-linejoin:round; stroke-width:4; stroke-opacity:1; fill:none\" points=\"\n",
       "  186.274,1124.46 205.172,1124.46 \n",
       "  \"/>\n",
       "<polyline clip-path=\"url(#clip720)\" style=\"stroke:#000000; stroke-linecap:butt; stroke-linejoin:round; stroke-width:4; stroke-opacity:1; fill:none\" points=\"\n",
       "  186.274,778.969 205.172,778.969 \n",
       "  \"/>\n",
       "<polyline clip-path=\"url(#clip720)\" style=\"stroke:#000000; stroke-linecap:butt; stroke-linejoin:round; stroke-width:4; stroke-opacity:1; fill:none\" points=\"\n",
       "  186.274,433.472 205.172,433.472 \n",
       "  \"/>\n",
       "<polyline clip-path=\"url(#clip720)\" style=\"stroke:#000000; stroke-linecap:butt; stroke-linejoin:round; stroke-width:4; stroke-opacity:1; fill:none\" points=\"\n",
       "  186.274,87.9763 205.172,87.9763 \n",
       "  \"/>\n",
       "<path clip-path=\"url(#clip720)\" d=\"M62.9365 1455.76 Q59.3254 1455.76 57.4967 1459.32 Q55.6912 1462.87 55.6912 1470 Q55.6912 1477.1 57.4967 1480.67 Q59.3254 1484.21 62.9365 1484.21 Q66.5707 1484.21 68.3763 1480.67 Q70.205 1477.1 70.205 1470 Q70.205 1462.87 68.3763 1459.32 Q66.5707 1455.76 62.9365 1455.76 M62.9365 1452.06 Q68.7467 1452.06 71.8022 1456.66 Q74.8809 1461.25 74.8809 1470 Q74.8809 1478.72 71.8022 1483.33 Q68.7467 1487.91 62.9365 1487.91 Q57.1264 1487.91 54.0477 1483.33 Q50.9921 1478.72 50.9921 1470 Q50.9921 1461.25 54.0477 1456.66 Q57.1264 1452.06 62.9365 1452.06 Z\" fill=\"#000000\" fill-rule=\"evenodd\" fill-opacity=\"1\" /><path clip-path=\"url(#clip720)\" d=\"M83.0984 1481.36 L87.9827 1481.36 L87.9827 1487.24 L83.0984 1487.24 L83.0984 1481.36 Z\" fill=\"#000000\" fill-rule=\"evenodd\" fill-opacity=\"1\" /><path clip-path=\"url(#clip720)\" d=\"M108.168 1455.76 Q104.557 1455.76 102.728 1459.32 Q100.922 1462.87 100.922 1470 Q100.922 1477.1 102.728 1480.67 Q104.557 1484.21 108.168 1484.21 Q111.802 1484.21 113.608 1480.67 Q115.436 1477.1 115.436 1470 Q115.436 1462.87 113.608 1459.32 Q111.802 1455.76 108.168 1455.76 M108.168 1452.06 Q113.978 1452.06 117.033 1456.66 Q120.112 1461.25 120.112 1470 Q120.112 1478.72 117.033 1483.33 Q113.978 1487.91 108.168 1487.91 Q102.358 1487.91 99.2789 1483.33 Q96.2234 1478.72 96.2234 1470 Q96.2234 1461.25 99.2789 1456.66 Q102.358 1452.06 108.168 1452.06 Z\" fill=\"#000000\" fill-rule=\"evenodd\" fill-opacity=\"1\" /><path clip-path=\"url(#clip720)\" d=\"M138.33 1455.76 Q134.719 1455.76 132.89 1459.32 Q131.084 1462.87 131.084 1470 Q131.084 1477.1 132.89 1480.67 Q134.719 1484.21 138.33 1484.21 Q141.964 1484.21 143.769 1480.67 Q145.598 1477.1 145.598 1470 Q145.598 1462.87 143.769 1459.32 Q141.964 1455.76 138.33 1455.76 M138.33 1452.06 Q144.14 1452.06 147.195 1456.66 Q150.274 1461.25 150.274 1470 Q150.274 1478.72 147.195 1483.33 Q144.14 1487.91 138.33 1487.91 Q132.519 1487.91 129.441 1483.33 Q126.385 1478.72 126.385 1470 Q126.385 1461.25 129.441 1456.66 Q132.519 1452.06 138.33 1452.06 Z\" fill=\"#000000\" fill-rule=\"evenodd\" fill-opacity=\"1\" /><path clip-path=\"url(#clip720)\" d=\"M63.9319 1110.26 Q60.3208 1110.26 58.4921 1113.83 Q56.6865 1117.37 56.6865 1124.5 Q56.6865 1131.61 58.4921 1135.17 Q60.3208 1138.71 63.9319 1138.71 Q67.5661 1138.71 69.3717 1135.17 Q71.2004 1131.61 71.2004 1124.5 Q71.2004 1117.37 69.3717 1113.83 Q67.5661 1110.26 63.9319 1110.26 M63.9319 1106.56 Q69.742 1106.56 72.7976 1111.17 Q75.8763 1115.75 75.8763 1124.5 Q75.8763 1133.23 72.7976 1137.83 Q69.742 1142.42 63.9319 1142.42 Q58.1217 1142.42 55.043 1137.83 Q51.9875 1133.23 51.9875 1124.5 Q51.9875 1115.75 55.043 1111.17 Q58.1217 1106.56 63.9319 1106.56 Z\" fill=\"#000000\" fill-rule=\"evenodd\" fill-opacity=\"1\" /><path clip-path=\"url(#clip720)\" d=\"M84.0938 1135.87 L88.978 1135.87 L88.978 1141.74 L84.0938 1141.74 L84.0938 1135.87 Z\" fill=\"#000000\" fill-rule=\"evenodd\" fill-opacity=\"1\" /><path clip-path=\"url(#clip720)\" d=\"M103.191 1137.81 L119.51 1137.81 L119.51 1141.74 L97.566 1141.74 L97.566 1137.81 Q100.228 1135.06 104.811 1130.43 Q109.418 1125.77 110.598 1124.43 Q112.844 1121.91 113.723 1120.17 Q114.626 1118.41 114.626 1116.72 Q114.626 1113.97 112.682 1112.23 Q110.76 1110.5 107.658 1110.5 Q105.459 1110.5 103.006 1111.26 Q100.575 1112.02 97.7974 1113.57 L97.7974 1108.85 Q100.621 1107.72 103.075 1107.14 Q105.529 1106.56 107.566 1106.56 Q112.936 1106.56 116.131 1109.25 Q119.325 1111.93 119.325 1116.42 Q119.325 1118.55 118.515 1120.47 Q117.728 1122.37 115.621 1124.96 Q115.043 1125.63 111.941 1128.85 Q108.839 1132.05 103.191 1137.81 Z\" fill=\"#000000\" fill-rule=\"evenodd\" fill-opacity=\"1\" /><path clip-path=\"url(#clip720)\" d=\"M129.371 1107.18 L147.728 1107.18 L147.728 1111.12 L133.654 1111.12 L133.654 1119.59 Q134.672 1119.24 135.691 1119.08 Q136.709 1118.9 137.728 1118.9 Q143.515 1118.9 146.894 1122.07 Q150.274 1125.24 150.274 1130.66 Q150.274 1136.24 146.802 1139.34 Q143.33 1142.42 137.01 1142.42 Q134.834 1142.42 132.566 1142.05 Q130.32 1141.68 127.913 1140.93 L127.913 1136.24 Q129.996 1137.37 132.219 1137.93 Q134.441 1138.48 136.918 1138.48 Q140.922 1138.48 143.26 1136.37 Q145.598 1134.27 145.598 1130.66 Q145.598 1127.05 143.26 1124.94 Q140.922 1122.83 136.918 1122.83 Q135.043 1122.83 133.168 1123.25 Q131.316 1123.67 129.371 1124.55 L129.371 1107.18 Z\" fill=\"#000000\" fill-rule=\"evenodd\" fill-opacity=\"1\" /><path clip-path=\"url(#clip720)\" d=\"M62.9365 764.767 Q59.3254 764.767 57.4967 768.332 Q55.6912 771.874 55.6912 779.003 Q55.6912 786.11 57.4967 789.675 Q59.3254 793.216 62.9365 793.216 Q66.5707 793.216 68.3763 789.675 Q70.205 786.11 70.205 779.003 Q70.205 771.874 68.3763 768.332 Q66.5707 764.767 62.9365 764.767 M62.9365 761.064 Q68.7467 761.064 71.8022 765.67 Q74.8809 770.253 74.8809 779.003 Q74.8809 787.73 71.8022 792.337 Q68.7467 796.92 62.9365 796.92 Q57.1264 796.92 54.0477 792.337 Q50.9921 787.73 50.9921 779.003 Q50.9921 770.253 54.0477 765.67 Q57.1264 761.064 62.9365 761.064 Z\" fill=\"#000000\" fill-rule=\"evenodd\" fill-opacity=\"1\" /><path clip-path=\"url(#clip720)\" d=\"M83.0984 790.369 L87.9827 790.369 L87.9827 796.249 L83.0984 796.249 L83.0984 790.369 Z\" fill=\"#000000\" fill-rule=\"evenodd\" fill-opacity=\"1\" /><path clip-path=\"url(#clip720)\" d=\"M98.2141 761.689 L116.57 761.689 L116.57 765.624 L102.496 765.624 L102.496 774.096 Q103.515 773.749 104.534 773.587 Q105.552 773.402 106.571 773.402 Q112.358 773.402 115.737 776.573 Q119.117 779.744 119.117 785.161 Q119.117 790.739 115.645 793.841 Q112.172 796.92 105.853 796.92 Q103.677 796.92 101.409 796.55 Q99.1632 796.179 96.7558 795.438 L96.7558 790.739 Q98.8391 791.874 101.061 792.429 Q103.284 792.985 105.76 792.985 Q109.765 792.985 112.103 790.878 Q114.441 788.772 114.441 785.161 Q114.441 781.55 112.103 779.443 Q109.765 777.337 105.76 777.337 Q103.885 777.337 102.01 777.753 Q100.159 778.17 98.2141 779.05 L98.2141 761.689 Z\" fill=\"#000000\" fill-rule=\"evenodd\" fill-opacity=\"1\" /><path clip-path=\"url(#clip720)\" d=\"M138.33 764.767 Q134.719 764.767 132.89 768.332 Q131.084 771.874 131.084 779.003 Q131.084 786.11 132.89 789.675 Q134.719 793.216 138.33 793.216 Q141.964 793.216 143.769 789.675 Q145.598 786.11 145.598 779.003 Q145.598 771.874 143.769 768.332 Q141.964 764.767 138.33 764.767 M138.33 761.064 Q144.14 761.064 147.195 765.67 Q150.274 770.253 150.274 779.003 Q150.274 787.73 147.195 792.337 Q144.14 796.92 138.33 796.92 Q132.519 796.92 129.441 792.337 Q126.385 787.73 126.385 779.003 Q126.385 770.253 129.441 765.67 Q132.519 761.064 138.33 761.064 Z\" fill=\"#000000\" fill-rule=\"evenodd\" fill-opacity=\"1\" /><path clip-path=\"url(#clip720)\" d=\"M63.9319 419.271 Q60.3208 419.271 58.4921 422.836 Q56.6865 426.378 56.6865 433.507 Q56.6865 440.614 58.4921 444.178 Q60.3208 447.72 63.9319 447.72 Q67.5661 447.72 69.3717 444.178 Q71.2004 440.614 71.2004 433.507 Q71.2004 426.378 69.3717 422.836 Q67.5661 419.271 63.9319 419.271 M63.9319 415.567 Q69.742 415.567 72.7976 420.174 Q75.8763 424.757 75.8763 433.507 Q75.8763 442.234 72.7976 446.84 Q69.742 451.424 63.9319 451.424 Q58.1217 451.424 55.043 446.84 Q51.9875 442.234 51.9875 433.507 Q51.9875 424.757 55.043 420.174 Q58.1217 415.567 63.9319 415.567 Z\" fill=\"#000000\" fill-rule=\"evenodd\" fill-opacity=\"1\" /><path clip-path=\"url(#clip720)\" d=\"M84.0938 444.873 L88.978 444.873 L88.978 450.752 L84.0938 450.752 L84.0938 444.873 Z\" fill=\"#000000\" fill-rule=\"evenodd\" fill-opacity=\"1\" /><path clip-path=\"url(#clip720)\" d=\"M97.9826 416.192 L120.205 416.192 L120.205 418.183 L107.658 450.752 L102.774 450.752 L114.58 420.128 L97.9826 420.128 L97.9826 416.192 Z\" fill=\"#000000\" fill-rule=\"evenodd\" fill-opacity=\"1\" /><path clip-path=\"url(#clip720)\" d=\"M129.371 416.192 L147.728 416.192 L147.728 420.128 L133.654 420.128 L133.654 428.6 Q134.672 428.253 135.691 428.091 Q136.709 427.905 137.728 427.905 Q143.515 427.905 146.894 431.077 Q150.274 434.248 150.274 439.665 Q150.274 445.243 146.802 448.345 Q143.33 451.424 137.01 451.424 Q134.834 451.424 132.566 451.053 Q130.32 450.683 127.913 449.942 L127.913 445.243 Q129.996 446.377 132.219 446.933 Q134.441 447.489 136.918 447.489 Q140.922 447.489 143.26 445.382 Q145.598 443.276 145.598 439.665 Q145.598 436.053 143.26 433.947 Q140.922 431.841 136.918 431.841 Q135.043 431.841 133.168 432.257 Q131.316 432.674 129.371 433.553 L129.371 416.192 Z\" fill=\"#000000\" fill-rule=\"evenodd\" fill-opacity=\"1\" /><path clip-path=\"url(#clip720)\" d=\"M53.7467 101.321 L61.3856 101.321 L61.3856 74.9555 L53.0754 76.6222 L53.0754 72.3629 L61.3393 70.6963 L66.0152 70.6963 L66.0152 101.321 L73.654 101.321 L73.654 105.256 L53.7467 105.256 L53.7467 101.321 Z\" fill=\"#000000\" fill-rule=\"evenodd\" fill-opacity=\"1\" /><path clip-path=\"url(#clip720)\" d=\"M83.0984 99.3767 L87.9827 99.3767 L87.9827 105.256 L83.0984 105.256 L83.0984 99.3767 Z\" fill=\"#000000\" fill-rule=\"evenodd\" fill-opacity=\"1\" /><path clip-path=\"url(#clip720)\" d=\"M108.168 73.775 Q104.557 73.775 102.728 77.3398 Q100.922 80.8814 100.922 88.011 Q100.922 95.1174 102.728 98.6822 Q104.557 102.224 108.168 102.224 Q111.802 102.224 113.608 98.6822 Q115.436 95.1174 115.436 88.011 Q115.436 80.8814 113.608 77.3398 Q111.802 73.775 108.168 73.775 M108.168 70.0713 Q113.978 70.0713 117.033 74.6777 Q120.112 79.261 120.112 88.011 Q120.112 96.7378 117.033 101.344 Q113.978 105.928 108.168 105.928 Q102.358 105.928 99.2789 101.344 Q96.2234 96.7378 96.2234 88.011 Q96.2234 79.261 99.2789 74.6777 Q102.358 70.0713 108.168 70.0713 Z\" fill=\"#000000\" fill-rule=\"evenodd\" fill-opacity=\"1\" /><path clip-path=\"url(#clip720)\" d=\"M138.33 73.775 Q134.719 73.775 132.89 77.3398 Q131.084 80.8814 131.084 88.011 Q131.084 95.1174 132.89 98.6822 Q134.719 102.224 138.33 102.224 Q141.964 102.224 143.769 98.6822 Q145.598 95.1174 145.598 88.011 Q145.598 80.8814 143.769 77.3398 Q141.964 73.775 138.33 73.775 M138.33 70.0713 Q144.14 70.0713 147.195 74.6777 Q150.274 79.261 150.274 88.011 Q150.274 96.7378 147.195 101.344 Q144.14 105.928 138.33 105.928 Q132.519 105.928 129.441 101.344 Q126.385 96.7378 126.385 88.011 Q126.385 79.261 129.441 74.6777 Q132.519 70.0713 138.33 70.0713 Z\" fill=\"#000000\" fill-rule=\"evenodd\" fill-opacity=\"1\" /><polyline clip-path=\"url(#clip722)\" style=\"stroke:#009af9; stroke-linecap:butt; stroke-linejoin:round; stroke-width:4; stroke-opacity:1; fill:none\" points=\"\n",
       "  247.59,917.167 549.522,597.129 828.229,371.46 1130.16,312.951 1408.87,268.235 1710.8,313.606 1989.51,134.823 2291.44,87.9763 \n",
       "  \"/>\n",
       "<circle clip-path=\"url(#clip722)\" cx=\"247.59\" cy=\"917.167\" r=\"14\" fill=\"#009af9\" fill-rule=\"evenodd\" fill-opacity=\"1\" stroke=\"#000000\" stroke-opacity=\"1\" stroke-width=\"3.2\"/>\n",
       "<circle clip-path=\"url(#clip722)\" cx=\"549.522\" cy=\"597.129\" r=\"14\" fill=\"#009af9\" fill-rule=\"evenodd\" fill-opacity=\"1\" stroke=\"#000000\" stroke-opacity=\"1\" stroke-width=\"3.2\"/>\n",
       "<circle clip-path=\"url(#clip722)\" cx=\"828.229\" cy=\"371.46\" r=\"14\" fill=\"#009af9\" fill-rule=\"evenodd\" fill-opacity=\"1\" stroke=\"#000000\" stroke-opacity=\"1\" stroke-width=\"3.2\"/>\n",
       "<circle clip-path=\"url(#clip722)\" cx=\"1130.16\" cy=\"312.951\" r=\"14\" fill=\"#009af9\" fill-rule=\"evenodd\" fill-opacity=\"1\" stroke=\"#000000\" stroke-opacity=\"1\" stroke-width=\"3.2\"/>\n",
       "<circle clip-path=\"url(#clip722)\" cx=\"1408.87\" cy=\"268.235\" r=\"14\" fill=\"#009af9\" fill-rule=\"evenodd\" fill-opacity=\"1\" stroke=\"#000000\" stroke-opacity=\"1\" stroke-width=\"3.2\"/>\n",
       "<circle clip-path=\"url(#clip722)\" cx=\"1710.8\" cy=\"313.606\" r=\"14\" fill=\"#009af9\" fill-rule=\"evenodd\" fill-opacity=\"1\" stroke=\"#000000\" stroke-opacity=\"1\" stroke-width=\"3.2\"/>\n",
       "<circle clip-path=\"url(#clip722)\" cx=\"1989.51\" cy=\"134.823\" r=\"14\" fill=\"#009af9\" fill-rule=\"evenodd\" fill-opacity=\"1\" stroke=\"#000000\" stroke-opacity=\"1\" stroke-width=\"3.2\"/>\n",
       "<circle clip-path=\"url(#clip722)\" cx=\"2291.44\" cy=\"87.9763\" r=\"14\" fill=\"#009af9\" fill-rule=\"evenodd\" fill-opacity=\"1\" stroke=\"#000000\" stroke-opacity=\"1\" stroke-width=\"3.2\"/>\n",
       "<polyline clip-path=\"url(#clip722)\" style=\"stroke:#e26f46; stroke-linecap:butt; stroke-linejoin:round; stroke-width:4; stroke-opacity:1; fill:none\" points=\"\n",
       "  247.59,1445.72 549.522,1180.71 828.229,929.184 1130.16,451.656 1408.87,606.221 1710.8,725.815 1989.51,87.9763 \n",
       "  \"/>\n",
       "<circle clip-path=\"url(#clip722)\" cx=\"247.59\" cy=\"1445.72\" r=\"14\" fill=\"#e26f46\" fill-rule=\"evenodd\" fill-opacity=\"1\" stroke=\"#000000\" stroke-opacity=\"1\" stroke-width=\"3.2\"/>\n",
       "<circle clip-path=\"url(#clip722)\" cx=\"549.522\" cy=\"1180.71\" r=\"14\" fill=\"#e26f46\" fill-rule=\"evenodd\" fill-opacity=\"1\" stroke=\"#000000\" stroke-opacity=\"1\" stroke-width=\"3.2\"/>\n",
       "<circle clip-path=\"url(#clip722)\" cx=\"828.229\" cy=\"929.184\" r=\"14\" fill=\"#e26f46\" fill-rule=\"evenodd\" fill-opacity=\"1\" stroke=\"#000000\" stroke-opacity=\"1\" stroke-width=\"3.2\"/>\n",
       "<circle clip-path=\"url(#clip722)\" cx=\"1130.16\" cy=\"451.656\" r=\"14\" fill=\"#e26f46\" fill-rule=\"evenodd\" fill-opacity=\"1\" stroke=\"#000000\" stroke-opacity=\"1\" stroke-width=\"3.2\"/>\n",
       "<circle clip-path=\"url(#clip722)\" cx=\"1408.87\" cy=\"606.221\" r=\"14\" fill=\"#e26f46\" fill-rule=\"evenodd\" fill-opacity=\"1\" stroke=\"#000000\" stroke-opacity=\"1\" stroke-width=\"3.2\"/>\n",
       "<circle clip-path=\"url(#clip722)\" cx=\"1710.8\" cy=\"725.815\" r=\"14\" fill=\"#e26f46\" fill-rule=\"evenodd\" fill-opacity=\"1\" stroke=\"#000000\" stroke-opacity=\"1\" stroke-width=\"3.2\"/>\n",
       "<circle clip-path=\"url(#clip722)\" cx=\"1989.51\" cy=\"87.9763\" r=\"14\" fill=\"#e26f46\" fill-rule=\"evenodd\" fill-opacity=\"1\" stroke=\"#000000\" stroke-opacity=\"1\" stroke-width=\"3.2\"/>\n",
       "<path clip-path=\"url(#clip720)\" d=\"\n",
       "M1858.64 1438.47 L2280.54 1438.47 L2280.54 1282.95 L1858.64 1282.95  Z\n",
       "  \" fill=\"#ffffff\" fill-rule=\"evenodd\" fill-opacity=\"1\"/>\n",
       "<polyline clip-path=\"url(#clip720)\" style=\"stroke:#000000; stroke-linecap:butt; stroke-linejoin:round; stroke-width:4; stroke-opacity:1; fill:none\" points=\"\n",
       "  1858.64,1438.47 2280.54,1438.47 2280.54,1282.95 1858.64,1282.95 1858.64,1438.47 \n",
       "  \"/>\n",
       "<polyline clip-path=\"url(#clip720)\" style=\"stroke:#009af9; stroke-linecap:butt; stroke-linejoin:round; stroke-width:4; stroke-opacity:1; fill:none\" points=\"\n",
       "  1882.71,1334.79 2027.14,1334.79 \n",
       "  \"/>\n",
       "<circle clip-path=\"url(#clip720)\" cx=\"1954.93\" cy=\"1334.79\" r=\"23\" fill=\"#009af9\" fill-rule=\"evenodd\" fill-opacity=\"1\" stroke=\"#000000\" stroke-opacity=\"1\" stroke-width=\"5.12\"/>\n",
       "<path clip-path=\"url(#clip720)\" d=\"M2051.22 1317.51 L2080.45 1317.51 L2080.45 1321.45 L2068.18 1321.45 L2068.18 1352.07 L2063.48 1352.07 L2063.48 1321.45 L2051.22 1321.45 L2051.22 1317.51 Z\" fill=\"#000000\" fill-rule=\"evenodd\" fill-opacity=\"1\" /><path clip-path=\"url(#clip720)\" d=\"M2095.01 1316.1 Q2091.91 1321.43 2090.41 1326.63 Q2088.9 1331.84 2088.9 1337.19 Q2088.9 1342.54 2090.41 1347.79 Q2091.93 1353.02 2095.01 1358.32 L2091.31 1358.32 Q2087.84 1352.88 2086.1 1347.63 Q2084.39 1342.38 2084.39 1337.19 Q2084.39 1332.03 2086.1 1326.8 Q2087.81 1321.57 2091.31 1316.1 L2095.01 1316.1 Z\" fill=\"#000000\" fill-rule=\"evenodd\" fill-opacity=\"1\" /><path clip-path=\"url(#clip720)\" d=\"M2120.61 1322.35 L2120.61 1335.25 L2133.51 1335.25 L2133.51 1339.18 L2120.61 1339.18 L2120.61 1352.07 L2116.73 1352.07 L2116.73 1339.18 L2103.83 1339.18 L2103.83 1335.25 L2116.73 1335.25 L2116.73 1322.35 L2120.61 1322.35 Z\" fill=\"#000000\" fill-rule=\"evenodd\" fill-opacity=\"1\" /><path clip-path=\"url(#clip720)\" d=\"M2175.94 1336.17 L2175.94 1338.26 L2166.84 1347.35 L2164.06 1344.57 L2169.46 1339.18 L2141.24 1339.18 L2141.24 1335.25 L2169.46 1335.25 L2164.06 1329.85 L2166.84 1327.07 L2175.94 1336.17 Z\" fill=\"#000000\" fill-rule=\"evenodd\" fill-opacity=\"1\" /><path clip-path=\"url(#clip720)\" d=\"M2200.06 1322.35 L2200.06 1335.25 L2212.95 1335.25 L2212.95 1339.18 L2200.06 1339.18 L2200.06 1352.07 L2196.17 1352.07 L2196.17 1339.18 L2183.28 1339.18 L2183.28 1335.25 L2196.17 1335.25 L2196.17 1322.35 L2200.06 1322.35 Z\" fill=\"#000000\" fill-rule=\"evenodd\" fill-opacity=\"1\" /><path clip-path=\"url(#clip720)\" d=\"M2221.77 1316.1 L2225.47 1316.1 Q2228.95 1321.57 2230.66 1326.8 Q2232.4 1332.03 2232.4 1337.19 Q2232.4 1342.38 2230.66 1347.63 Q2228.95 1352.88 2225.47 1358.32 L2221.77 1358.32 Q2224.85 1353.02 2226.35 1347.79 Q2227.88 1342.54 2227.88 1337.19 Q2227.88 1331.84 2226.35 1326.63 Q2224.85 1321.43 2221.77 1316.1 Z\" fill=\"#000000\" fill-rule=\"evenodd\" fill-opacity=\"1\" /><polyline clip-path=\"url(#clip720)\" style=\"stroke:#e26f46; stroke-linecap:butt; stroke-linejoin:round; stroke-width:4; stroke-opacity:1; fill:none\" points=\"\n",
       "  1882.71,1386.63 2027.14,1386.63 \n",
       "  \"/>\n",
       "<circle clip-path=\"url(#clip720)\" cx=\"1954.93\" cy=\"1386.63\" r=\"23\" fill=\"#e26f46\" fill-rule=\"evenodd\" fill-opacity=\"1\" stroke=\"#000000\" stroke-opacity=\"1\" stroke-width=\"5.12\"/>\n",
       "<path clip-path=\"url(#clip720)\" d=\"M2051.22 1369.35 L2080.45 1369.35 L2080.45 1373.29 L2068.18 1373.29 L2068.18 1403.91 L2063.48 1403.91 L2063.48 1373.29 L2051.22 1373.29 L2051.22 1369.35 Z\" fill=\"#000000\" fill-rule=\"evenodd\" fill-opacity=\"1\" /><path clip-path=\"url(#clip720)\" d=\"M2095.01 1367.94 Q2091.91 1373.27 2090.41 1378.47 Q2088.9 1383.68 2088.9 1389.03 Q2088.9 1394.38 2090.41 1399.63 Q2091.93 1404.86 2095.01 1410.16 L2091.31 1410.16 Q2087.84 1404.72 2086.1 1399.47 Q2084.39 1394.22 2084.39 1389.03 Q2084.39 1383.87 2086.1 1378.64 Q2087.81 1373.41 2091.31 1367.94 L2095.01 1367.94 Z\" fill=\"#000000\" fill-rule=\"evenodd\" fill-opacity=\"1\" /><path clip-path=\"url(#clip720)\" d=\"M2103.83 1387.09 L2133.51 1387.09 L2133.51 1391.02 L2103.83 1391.02 L2103.83 1387.09 Z\" fill=\"#000000\" fill-rule=\"evenodd\" fill-opacity=\"1\" /><path clip-path=\"url(#clip720)\" d=\"M2175.94 1388.01 L2175.94 1390.1 L2166.84 1399.19 L2164.06 1396.41 L2169.46 1391.02 L2141.24 1391.02 L2141.24 1387.09 L2169.46 1387.09 L2164.06 1381.69 L2166.84 1378.91 L2175.94 1388.01 Z\" fill=\"#000000\" fill-rule=\"evenodd\" fill-opacity=\"1\" /><path clip-path=\"url(#clip720)\" d=\"M2200.06 1374.19 L2200.06 1387.09 L2212.95 1387.09 L2212.95 1391.02 L2200.06 1391.02 L2200.06 1403.91 L2196.17 1403.91 L2196.17 1391.02 L2183.28 1391.02 L2183.28 1387.09 L2196.17 1387.09 L2196.17 1374.19 L2200.06 1374.19 Z\" fill=\"#000000\" fill-rule=\"evenodd\" fill-opacity=\"1\" /><path clip-path=\"url(#clip720)\" d=\"M2221.77 1367.94 L2225.47 1367.94 Q2228.95 1373.41 2230.66 1378.64 Q2232.4 1383.87 2232.4 1389.03 Q2232.4 1394.22 2230.66 1399.47 Q2228.95 1404.72 2225.47 1410.16 L2221.77 1410.16 Q2224.85 1404.86 2226.35 1399.63 Q2227.88 1394.38 2227.88 1389.03 Q2227.88 1383.68 2226.35 1378.47 Q2224.85 1373.27 2221.77 1367.94 Z\" fill=\"#000000\" fill-rule=\"evenodd\" fill-opacity=\"1\" /></svg>\n"
      ]
     },
     "metadata": {},
     "output_type": "display_data"
    }
   ],
   "source": [
    "chosen_ths = [0:7...] ./ 8\n",
    "inds = [findfirst(ths .>= chosen_ths[i]) for i in 1:length(chosen_ths)]\n",
    "\n",
    "plot(ths[inds], bal_to_bals[inds], markershape = :circle, label = \"T(+→+)\", legend = :bottomright)\n",
    "plot!(ths[inds], ubal_to_bals[inds], markershape = :circle, label = \"T(−→+)\") \n",
    "\n",
    "# legend(position=:Best)"
   ]
  },
  {
   "cell_type": "markdown",
   "metadata": {},
   "source": [
    "Above result is the same as obtained by Joanna. \n",
    "\n",
    "Let us now see how it looks like when we accept more threshold values and count triads slightly differently. "
   ]
  },
  {
   "cell_type": "code",
   "execution_count": 240,
   "metadata": {},
   "outputs": [
    {
     "data": {
      "image/png": "[encoded data removed]",
      "image/svg+xml": "<?xml version=\"1.0\" encoding=\"utf-8\"?>\n<svg xmlns=\"http://www.w3.org/2000/svg\" xmlns:xlink=\"http://www.w3.org/1999/xlink\" width=\"600\" height=\"400\" viewBox=\"0 0 2400 1600\">\n<defs>\n  <clipPath id=\"clip760\">\n    <rect x=\"0\" y=\"0\" width=\"2400\" height=\"1600\"/>\n  </clipPath>\n</defs>\n<path clip-path=\"url(#clip760)\" d=\"\nM0 1600 L2400 1600 L2400 0 L0 0  Z\n  \" fill=\"#ffffff\" fill-rule=\"evenodd\" fill-opacity=\"1\"/>\n<defs>\n  <clipPath id=\"clip761\">\n    <rect x=\"480\" y=\"0\" width=\"1681\" height=\"1600\"/>\n  </clipPath>\n</defs>\n<path clip-path=\"url(#clip760)\" d=\"\nM186.274 1486.45 L2352.76 1486.45 L2352.76 47.2441 L186.274 47.2441  Z\n  \" fill=\"#ffffff\" fill-rule=\"evenodd\" fill-opacity=\"1\"/>\n<defs>\n  <clipPath id=\"clip762\">\n    <rect x=\"186\" y=\"47\" width=\"2167\" height=\"1440\"/>\n  </clipPath>\n</defs>\n<polyline clip-path=\"url(#clip762)\" style=\"stroke:#000000; stroke-linecap:butt; stroke-linejoin:round; stroke-width:2; stroke-opacity:0.1; fill:none\" points=\"\n  247.59,1486.45 247.59,47.2441 \n  \"/>\n<polyline clip-path=\"url(#clip762)\" style=\"stroke:#000000; stroke-linecap:butt; stroke-linejoin:round; stroke-width:2; stroke-opacity:0.1; fill:none\" points=\"\n  682.451,1486.45 682.451,47.2441 \n  \"/>\n<polyline clip-path=\"url(#clip762)\" style=\"stroke:#000000; stroke-linecap:butt; stroke-linejoin:round; stroke-width:2; stroke-opacity:0.1; fill:none\" points=\"\n  1117.31,1486.45 1117.31,47.2441 \n  \"/>\n<polyline clip-path=\"url(#clip762)\" style=\"stroke:#000000; stroke-linecap:butt; stroke-linejoin:round; stroke-width:2; stroke-opacity:0.1; fill:none\" points=\"\n  1552.18,1486.45 1552.18,47.2441 \n  \"/>\n<polyline clip-path=\"url(#clip762)\" style=\"stroke:#000000; stroke-linecap:butt; stroke-linejoin:round; stroke-width:2; stroke-opacity:0.1; fill:none\" points=\"\n  1987.04,1486.45 1987.04,47.2441 \n  \"/>\n<polyline clip-path=\"url(#clip760)\" style=\"stroke:#000000; stroke-linecap:butt; stroke-linejoin:round; stroke-width:4; stroke-opacity:1; fill:none\" points=\"\n  186.274,1486.45 2352.76,1486.45 \n  \"/>\n<polyline clip-path=\"url(#clip760)\" style=\"stroke:#000000; stroke-linecap:butt; stroke-linejoin:round; stroke-width:4; stroke-opacity:1; fill:none\" points=\"\n  247.59,1486.45 247.59,1467.55 \n  \"/>\n<polyline clip-path=\"url(#clip760)\" style=\"stroke:#000000; stroke-linecap:butt; stroke-linejoin:round; stroke-width:4; stroke-opacity:1; fill:none\" points=\"\n  682.451,1486.45 682.451,1467.55 \n  \"/>\n<polyline clip-path=\"url(#clip760)\" style=\"stroke:#000000; stroke-linecap:butt; stroke-linejoin:round; stroke-width:4; stroke-opacity:1; fill:none\" points=\"\n  1117.31,1486.45 1117.31,1467.55 \n  \"/>\n<polyline clip-path=\"url(#clip760)\" style=\"stroke:#000000; stroke-linecap:butt; stroke-linejoin:round; stroke-width:4; stroke-opacity:1; fill:none\" points=\"\n  1552.18,1486.45 1552.18,1467.55 \n  \"/>\n<polyline clip-path=\"url(#clip760)\" style=\"stroke:#000000; stroke-linecap:butt; stroke-linejoin:round; stroke-width:4; stroke-opacity:1; fill:none\" points=\"\n  1987.04,1486.45 1987.04,1467.55 \n  \"/>\n<path clip-path=\"url(#clip760)\" d=\"M224.974 1517.37 Q221.363 1517.37 219.534 1520.93 Q217.729 1524.47 217.729 1531.6 Q217.729 1538.71 219.534 1542.27 Q221.363 1545.82 224.974 1545.82 Q228.608 1545.82 230.414 1542.27 Q232.242 1538.71 232.242 1531.6 Q232.242 1524.47 230.414 1520.93 Q228.608 1517.37 224.974 1517.37 M224.974 1513.66 Q230.784 1513.66 233.84 1518.27 Q236.918 1522.85 236.918 1531.6 Q236.918 1540.33 233.84 1544.94 Q230.784 1549.52 224.974 1549.52 Q219.164 1549.52 216.085 1544.94 Q213.03 1540.33 213.03 1531.6 Q213.03 1522.85 216.085 1518.27 Q219.164 1513.66 224.974 1513.66 Z\" fill=\"#000000\" fill-rule=\"evenodd\" fill-opacity=\"1\" /><path clip-path=\"url(#clip760)\" d=\"M245.136 1542.97 L250.02 1542.97 L250.02 1548.85 L245.136 1548.85 L245.136 1542.97 Z\" fill=\"#000000\" fill-rule=\"evenodd\" fill-opacity=\"1\" /><path clip-path=\"url(#clip760)\" d=\"M270.205 1517.37 Q266.594 1517.37 264.765 1520.93 Q262.96 1524.47 262.96 1531.6 Q262.96 1538.71 264.765 1542.27 Q266.594 1545.82 270.205 1545.82 Q273.839 1545.82 275.645 1542.27 Q277.474 1538.71 277.474 1531.6 Q277.474 1524.47 275.645 1520.93 Q273.839 1517.37 270.205 1517.37 M270.205 1513.66 Q276.015 1513.66 279.071 1518.27 Q282.15 1522.85 282.15 1531.6 Q282.15 1540.33 279.071 1544.94 Q276.015 1549.52 270.205 1549.52 Q264.395 1549.52 261.316 1544.94 Q258.261 1540.33 258.261 1531.6 Q258.261 1522.85 261.316 1518.27 Q264.395 1513.66 270.205 1513.66 Z\" fill=\"#000000\" fill-rule=\"evenodd\" fill-opacity=\"1\" /><path clip-path=\"url(#clip760)\" d=\"M660.634 1517.37 Q657.023 1517.37 655.195 1520.93 Q653.389 1524.47 653.389 1531.6 Q653.389 1538.71 655.195 1542.27 Q657.023 1545.82 660.634 1545.82 Q664.269 1545.82 666.074 1542.27 Q667.903 1538.71 667.903 1531.6 Q667.903 1524.47 666.074 1520.93 Q664.269 1517.37 660.634 1517.37 M660.634 1513.66 Q666.445 1513.66 669.5 1518.27 Q672.579 1522.85 672.579 1531.6 Q672.579 1540.33 669.5 1544.94 Q666.445 1549.52 660.634 1549.52 Q654.824 1549.52 651.746 1544.94 Q648.69 1540.33 648.69 1531.6 Q648.69 1522.85 651.746 1518.27 Q654.824 1513.66 660.634 1513.66 Z\" fill=\"#000000\" fill-rule=\"evenodd\" fill-opacity=\"1\" /><path clip-path=\"url(#clip760)\" d=\"M680.796 1542.97 L685.681 1542.97 L685.681 1548.85 L680.796 1548.85 L680.796 1542.97 Z\" fill=\"#000000\" fill-rule=\"evenodd\" fill-opacity=\"1\" /><path clip-path=\"url(#clip760)\" d=\"M699.893 1544.91 L716.213 1544.91 L716.213 1548.85 L694.268 1548.85 L694.268 1544.91 Q696.93 1542.16 701.514 1537.53 Q706.12 1532.88 707.301 1531.53 Q709.546 1529.01 710.426 1527.27 Q711.329 1525.51 711.329 1523.82 Q711.329 1521.07 709.384 1519.33 Q707.463 1517.6 704.361 1517.6 Q702.162 1517.6 699.708 1518.36 Q697.278 1519.13 694.5 1520.68 L694.5 1515.95 Q697.324 1514.82 699.778 1514.24 Q702.231 1513.66 704.268 1513.66 Q709.639 1513.66 712.833 1516.35 Q716.028 1519.03 716.028 1523.52 Q716.028 1525.65 715.217 1527.57 Q714.43 1529.47 712.324 1532.07 Q711.745 1532.74 708.643 1535.95 Q705.542 1539.15 699.893 1544.91 Z\" fill=\"#000000\" fill-rule=\"evenodd\" fill-opacity=\"1\" /><path clip-path=\"url(#clip760)\" d=\"M1094.45 1517.37 Q1090.84 1517.37 1089.01 1520.93 Q1087.21 1524.47 1087.21 1531.6 Q1087.21 1538.71 1089.01 1542.27 Q1090.84 1545.82 1094.45 1545.82 Q1098.09 1545.82 1099.89 1542.27 Q1101.72 1538.71 1101.72 1531.6 Q1101.72 1524.47 1099.89 1520.93 Q1098.09 1517.37 1094.45 1517.37 M1094.45 1513.66 Q1100.26 1513.66 1103.32 1518.27 Q1106.4 1522.85 1106.4 1531.6 Q1106.4 1540.33 1103.32 1544.94 Q1100.26 1549.52 1094.45 1549.52 Q1088.64 1549.52 1085.57 1544.94 Q1082.51 1540.33 1082.51 1531.6 Q1082.51 1522.85 1085.57 1518.27 Q1088.64 1513.66 1094.45 1513.66 Z\" fill=\"#000000\" fill-rule=\"evenodd\" fill-opacity=\"1\" /><path clip-path=\"url(#clip760)\" d=\"M1114.62 1542.97 L1119.5 1542.97 L1119.5 1548.85 L1114.62 1548.85 L1114.62 1542.97 Z\" fill=\"#000000\" fill-rule=\"evenodd\" fill-opacity=\"1\" /><path clip-path=\"url(#clip760)\" d=\"M1142.53 1518.36 L1130.73 1536.81 L1142.53 1536.81 L1142.53 1518.36 M1141.31 1514.29 L1147.19 1514.29 L1147.19 1536.81 L1152.12 1536.81 L1152.12 1540.7 L1147.19 1540.7 L1147.19 1548.85 L1142.53 1548.85 L1142.53 1540.7 L1126.93 1540.7 L1126.93 1536.19 L1141.31 1514.29 Z\" fill=\"#000000\" fill-rule=\"evenodd\" fill-opacity=\"1\" /><path clip-path=\"url(#clip760)\" d=\"M1529.48 1517.37 Q1525.87 1517.37 1524.04 1520.93 Q1522.23 1524.47 1522.23 1531.6 Q1522.23 1538.71 1524.04 1542.27 Q1525.87 1545.82 1529.48 1545.82 Q1533.11 1545.82 1534.92 1542.27 Q1536.75 1538.71 1536.75 1531.6 Q1536.75 1524.47 1534.92 1520.93 Q1533.11 1517.37 1529.48 1517.37 M1529.48 1513.66 Q1535.29 1513.66 1538.34 1518.27 Q1541.42 1522.85 1541.42 1531.6 Q1541.42 1540.33 1538.34 1544.94 Q1535.29 1549.52 1529.48 1549.52 Q1523.67 1549.52 1520.59 1544.94 Q1517.53 1540.33 1517.53 1531.6 Q1517.53 1522.85 1520.59 1518.27 Q1523.67 1513.66 1529.48 1513.66 Z\" fill=\"#000000\" fill-rule=\"evenodd\" fill-opacity=\"1\" /><path clip-path=\"url(#clip760)\" d=\"M1549.64 1542.97 L1554.52 1542.97 L1554.52 1548.85 L1549.64 1548.85 L1549.64 1542.97 Z\" fill=\"#000000\" fill-rule=\"evenodd\" fill-opacity=\"1\" /><path clip-path=\"url(#clip760)\" d=\"M1575.29 1529.7 Q1572.14 1529.7 1570.29 1531.86 Q1568.46 1534.01 1568.46 1537.76 Q1568.46 1541.49 1570.29 1543.66 Q1572.14 1545.82 1575.29 1545.82 Q1578.44 1545.82 1580.27 1543.66 Q1582.12 1541.49 1582.12 1537.76 Q1582.12 1534.01 1580.27 1531.86 Q1578.44 1529.7 1575.29 1529.7 M1584.57 1515.05 L1584.57 1519.31 Q1582.81 1518.48 1581.01 1518.04 Q1579.22 1517.6 1577.46 1517.6 Q1572.83 1517.6 1570.38 1520.72 Q1567.95 1523.85 1567.6 1530.17 Q1568.97 1528.15 1571.03 1527.09 Q1573.09 1526 1575.57 1526 Q1580.77 1526 1583.78 1529.17 Q1586.82 1532.32 1586.82 1537.76 Q1586.82 1543.08 1583.67 1546.3 Q1580.52 1549.52 1575.29 1549.52 Q1569.29 1549.52 1566.12 1544.94 Q1562.95 1540.33 1562.95 1531.6 Q1562.95 1523.41 1566.84 1518.55 Q1570.73 1513.66 1577.28 1513.66 Q1579.04 1513.66 1580.82 1514.01 Q1582.63 1514.36 1584.57 1515.05 Z\" fill=\"#000000\" fill-rule=\"evenodd\" fill-opacity=\"1\" /><path clip-path=\"url(#clip760)\" d=\"M1964.47 1517.37 Q1960.86 1517.37 1959.03 1520.93 Q1957.22 1524.47 1957.22 1531.6 Q1957.22 1538.71 1959.03 1542.27 Q1960.86 1545.82 1964.47 1545.82 Q1968.1 1545.82 1969.91 1542.27 Q1971.74 1538.71 1971.74 1531.6 Q1971.74 1524.47 1969.91 1520.93 Q1968.1 1517.37 1964.47 1517.37 M1964.47 1513.66 Q1970.28 1513.66 1973.33 1518.27 Q1976.41 1522.85 1976.41 1531.6 Q1976.41 1540.33 1973.33 1544.94 Q1970.28 1549.52 1964.47 1549.52 Q1958.66 1549.52 1955.58 1544.94 Q1952.52 1540.33 1952.52 1531.6 Q1952.52 1522.85 1955.58 1518.27 Q1958.66 1513.66 1964.47 1513.66 Z\" fill=\"#000000\" fill-rule=\"evenodd\" fill-opacity=\"1\" /><path clip-path=\"url(#clip760)\" d=\"M1984.63 1542.97 L1989.51 1542.97 L1989.51 1548.85 L1984.63 1548.85 L1984.63 1542.97 Z\" fill=\"#000000\" fill-rule=\"evenodd\" fill-opacity=\"1\" /><path clip-path=\"url(#clip760)\" d=\"M2009.7 1532.44 Q2006.37 1532.44 2004.44 1534.22 Q2002.55 1536 2002.55 1539.13 Q2002.55 1542.25 2004.44 1544.03 Q2006.37 1545.82 2009.7 1545.82 Q2013.03 1545.82 2014.95 1544.03 Q2016.87 1542.23 2016.87 1539.13 Q2016.87 1536 2014.95 1534.22 Q2013.06 1532.44 2009.7 1532.44 M2005.02 1530.45 Q2002.01 1529.7 2000.32 1527.64 Q1998.66 1525.58 1998.66 1522.62 Q1998.66 1518.48 2001.6 1516.07 Q2004.56 1513.66 2009.7 1513.66 Q2014.86 1513.66 2017.8 1516.07 Q2020.74 1518.48 2020.74 1522.62 Q2020.74 1525.58 2019.05 1527.64 Q2017.38 1529.7 2014.4 1530.45 Q2017.78 1531.23 2019.65 1533.52 Q2021.55 1535.82 2021.55 1539.13 Q2021.55 1544.15 2018.47 1546.83 Q2015.42 1549.52 2009.7 1549.52 Q2003.98 1549.52 2000.9 1546.83 Q1997.85 1544.15 1997.85 1539.13 Q1997.85 1535.82 1999.75 1533.52 Q2001.64 1531.23 2005.02 1530.45 M2003.31 1523.06 Q2003.31 1525.75 2004.98 1527.25 Q2006.67 1528.76 2009.7 1528.76 Q2012.71 1528.76 2014.4 1527.25 Q2016.11 1525.75 2016.11 1523.06 Q2016.11 1520.38 2014.4 1518.87 Q2012.71 1517.37 2009.7 1517.37 Q2006.67 1517.37 2004.98 1518.87 Q2003.31 1520.38 2003.31 1523.06 Z\" fill=\"#000000\" fill-rule=\"evenodd\" fill-opacity=\"1\" /><polyline clip-path=\"url(#clip762)\" style=\"stroke:#000000; stroke-linecap:butt; stroke-linejoin:round; stroke-width:2; stroke-opacity:0.1; fill:none\" points=\"\n  186.274,1469.96 2352.76,1469.96 \n  \"/>\n<polyline clip-path=\"url(#clip762)\" style=\"stroke:#000000; stroke-linecap:butt; stroke-linejoin:round; stroke-width:2; stroke-opacity:0.1; fill:none\" points=\"\n  186.274,1124.46 2352.76,1124.46 \n  \"/>\n<polyline clip-path=\"url(#clip762)\" style=\"stroke:#000000; stroke-linecap:butt; stroke-linejoin:round; stroke-width:2; stroke-opacity:0.1; fill:none\" points=\"\n  186.274,778.969 2352.76,778.969 \n  \"/>\n<polyline clip-path=\"url(#clip762)\" style=\"stroke:#000000; stroke-linecap:butt; stroke-linejoin:round; stroke-width:2; stroke-opacity:0.1; fill:none\" points=\"\n  186.274,433.472 2352.76,433.472 \n  \"/>\n<polyline clip-path=\"url(#clip762)\" style=\"stroke:#000000; stroke-linecap:butt; stroke-linejoin:round; stroke-width:2; stroke-opacity:0.1; fill:none\" points=\"\n  186.274,87.9763 2352.76,87.9763 \n  \"/>\n<polyline clip-path=\"url(#clip760)\" style=\"stroke:#000000; stroke-linecap:butt; stroke-linejoin:round; stroke-width:4; stroke-opacity:1; fill:none\" points=\"\n  186.274,1486.45 186.274,47.2441 \n  \"/>\n<polyline clip-path=\"url(#clip760)\" style=\"stroke:#000000; stroke-linecap:butt; stroke-linejoin:round; stroke-width:4; stroke-opacity:1; fill:none\" points=\"\n  186.274,1469.96 205.172,1469.96 \n  \"/>\n<polyline clip-path=\"url(#clip760)\" style=\"stroke:#000000; stroke-linecap:butt; stroke-linejoin:round; stroke-width:4; stroke-opacity:1; fill:none\" points=\"\n  186.274,1124.46 205.172,1124.46 \n  \"/>\n<polyline clip-path=\"url(#clip760)\" style=\"stroke:#000000; stroke-linecap:butt; stroke-linejoin:round; stroke-width:4; stroke-opacity:1; fill:none\" points=\"\n  186.274,778.969 205.172,778.969 \n  \"/>\n<polyline clip-path=\"url(#clip760)\" style=\"stroke:#000000; stroke-linecap:butt; stroke-linejoin:round; stroke-width:4; stroke-opacity:1; fill:none\" points=\"\n  186.274,433.472 205.172,433.472 \n  \"/>\n<polyline clip-path=\"url(#clip760)\" style=\"stroke:#000000; stroke-linecap:butt; stroke-linejoin:round; stroke-width:4; stroke-opacity:1; fill:none\" points=\"\n  186.274,87.9763 205.172,87.9763 \n  \"/>\n<path clip-path=\"url(#clip760)\" d=\"M62.9365 1455.76 Q59.3254 1455.76 57.4967 1459.32 Q55.6912 1462.87 55.6912 1470 Q55.6912 1477.1 57.4967 1480.67 Q59.3254 1484.21 62.9365 1484.21 Q66.5707 1484.21 68.3763 1480.67 Q70.205 1477.1 70.205 1470 Q70.205 1462.87 68.3763 1459.32 Q66.5707 1455.76 62.9365 1455.76 M62.9365 1452.06 Q68.7467 1452.06 71.8022 1456.66 Q74.8809 1461.25 74.8809 1470 Q74.8809 1478.72 71.8022 1483.33 Q68.7467 1487.91 62.9365 1487.91 Q57.1264 1487.91 54.0477 1483.33 Q50.9921 1478.72 50.9921 1470 Q50.9921 1461.25 54.0477 1456.66 Q57.1264 1452.06 62.9365 1452.06 Z\" fill=\"#000000\" fill-rule=\"evenodd\" fill-opacity=\"1\" /><path clip-path=\"url(#clip760)\" d=\"M83.0984 1481.36 L87.9827 1481.36 L87.9827 1487.24 L83.0984 1487.24 L83.0984 1481.36 Z\" fill=\"#000000\" fill-rule=\"evenodd\" fill-opacity=\"1\" /><path clip-path=\"url(#clip760)\" d=\"M108.168 1455.76 Q104.557 1455.76 102.728 1459.32 Q100.922 1462.87 100.922 1470 Q100.922 1477.1 102.728 1480.67 Q104.557 1484.21 108.168 1484.21 Q111.802 1484.21 113.608 1480.67 Q115.436 1477.1 115.436 1470 Q115.436 1462.87 113.608 1459.32 Q111.802 1455.76 108.168 1455.76 M108.168 1452.06 Q113.978 1452.06 117.033 1456.66 Q120.112 1461.25 120.112 1470 Q120.112 1478.72 117.033 1483.33 Q113.978 1487.91 108.168 1487.91 Q102.358 1487.91 99.2789 1483.33 Q96.2234 1478.72 96.2234 1470 Q96.2234 1461.25 99.2789 1456.66 Q102.358 1452.06 108.168 1452.06 Z\" fill=\"#000000\" fill-rule=\"evenodd\" fill-opacity=\"1\" /><path clip-path=\"url(#clip760)\" d=\"M138.33 1455.76 Q134.719 1455.76 132.89 1459.32 Q131.084 1462.87 131.084 1470 Q131.084 1477.1 132.89 1480.67 Q134.719 1484.21 138.33 1484.21 Q141.964 1484.21 143.769 1480.67 Q145.598 1477.1 145.598 1470 Q145.598 1462.87 143.769 1459.32 Q141.964 1455.76 138.33 1455.76 M138.33 1452.06 Q144.14 1452.06 147.195 1456.66 Q150.274 1461.25 150.274 1470 Q150.274 1478.72 147.195 1483.33 Q144.14 1487.91 138.33 1487.91 Q132.519 1487.91 129.441 1483.33 Q126.385 1478.72 126.385 1470 Q126.385 1461.25 129.441 1456.66 Q132.519 1452.06 138.33 1452.06 Z\" fill=\"#000000\" fill-rule=\"evenodd\" fill-opacity=\"1\" /><path clip-path=\"url(#clip760)\" d=\"M63.9319 1110.26 Q60.3208 1110.26 58.4921 1113.83 Q56.6865 1117.37 56.6865 1124.5 Q56.6865 1131.61 58.4921 1135.17 Q60.3208 1138.71 63.9319 1138.71 Q67.5661 1138.71 69.3717 1135.17 Q71.2004 1131.61 71.2004 1124.5 Q71.2004 1117.37 69.3717 1113.83 Q67.5661 1110.26 63.9319 1110.26 M63.9319 1106.56 Q69.742 1106.56 72.7976 1111.17 Q75.8763 1115.75 75.8763 1124.5 Q75.8763 1133.23 72.7976 1137.83 Q69.742 1142.42 63.9319 1142.42 Q58.1217 1142.42 55.043 1137.83 Q51.9875 1133.23 51.9875 1124.5 Q51.9875 1115.75 55.043 1111.17 Q58.1217 1106.56 63.9319 1106.56 Z\" fill=\"#000000\" fill-rule=\"evenodd\" fill-opacity=\"1\" /><path clip-path=\"url(#clip760)\" d=\"M84.0938 1135.87 L88.978 1135.87 L88.978 1141.74 L84.0938 1141.74 L84.0938 1135.87 Z\" fill=\"#000000\" fill-rule=\"evenodd\" fill-opacity=\"1\" /><path clip-path=\"url(#clip760)\" d=\"M103.191 1137.81 L119.51 1137.81 L119.51 1141.74 L97.566 1141.74 L97.566 1137.81 Q100.228 1135.06 104.811 1130.43 Q109.418 1125.77 110.598 1124.43 Q112.844 1121.91 113.723 1120.17 Q114.626 1118.41 114.626 1116.72 Q114.626 1113.97 112.682 1112.23 Q110.76 1110.5 107.658 1110.5 Q105.459 1110.5 103.006 1111.26 Q100.575 1112.02 97.7974 1113.57 L97.7974 1108.85 Q100.621 1107.72 103.075 1107.14 Q105.529 1106.56 107.566 1106.56 Q112.936 1106.56 116.131 1109.25 Q119.325 1111.93 119.325 1116.42 Q119.325 1118.55 118.515 1120.47 Q117.728 1122.37 115.621 1124.96 Q115.043 1125.63 111.941 1128.85 Q108.839 1132.05 103.191 1137.81 Z\" fill=\"#000000\" fill-rule=\"evenodd\" fill-opacity=\"1\" /><path clip-path=\"url(#clip760)\" d=\"M129.371 1107.18 L147.728 1107.18 L147.728 1111.12 L133.654 1111.12 L133.654 1119.59 Q134.672 1119.24 135.691 1119.08 Q136.709 1118.9 137.728 1118.9 Q143.515 1118.9 146.894 1122.07 Q150.274 1125.24 150.274 1130.66 Q150.274 1136.24 146.802 1139.34 Q143.33 1142.42 137.01 1142.42 Q134.834 1142.42 132.566 1142.05 Q130.32 1141.68 127.913 1140.93 L127.913 1136.24 Q129.996 1137.37 132.219 1137.93 Q134.441 1138.48 136.918 1138.48 Q140.922 1138.48 143.26 1136.37 Q145.598 1134.27 145.598 1130.66 Q145.598 1127.05 143.26 1124.94 Q140.922 1122.83 136.918 1122.83 Q135.043 1122.83 133.168 1123.25 Q131.316 1123.67 129.371 1124.55 L129.371 1107.18 Z\" fill=\"#000000\" fill-rule=\"evenodd\" fill-opacity=\"1\" /><path clip-path=\"url(#clip760)\" d=\"M62.9365 764.767 Q59.3254 764.767 57.4967 768.332 Q55.6912 771.874 55.6912 779.003 Q55.6912 786.11 57.4967 789.675 Q59.3254 793.216 62.9365 793.216 Q66.5707 793.216 68.3763 789.675 Q70.205 786.11 70.205 779.003 Q70.205 771.874 68.3763 768.332 Q66.5707 764.767 62.9365 764.767 M62.9365 761.064 Q68.7467 761.064 71.8022 765.67 Q74.8809 770.253 74.8809 779.003 Q74.8809 787.73 71.8022 792.337 Q68.7467 796.92 62.9365 796.92 Q57.1264 796.92 54.0477 792.337 Q50.9921 787.73 50.9921 779.003 Q50.9921 770.253 54.0477 765.67 Q57.1264 761.064 62.9365 761.064 Z\" fill=\"#000000\" fill-rule=\"evenodd\" fill-opacity=\"1\" /><path clip-path=\"url(#clip760)\" d=\"M83.0984 790.369 L87.9827 790.369 L87.9827 796.249 L83.0984 796.249 L83.0984 790.369 Z\" fill=\"#000000\" fill-rule=\"evenodd\" fill-opacity=\"1\" /><path clip-path=\"url(#clip760)\" d=\"M98.2141 761.689 L116.57 761.689 L116.57 765.624 L102.496 765.624 L102.496 774.096 Q103.515 773.749 104.534 773.587 Q105.552 773.402 106.571 773.402 Q112.358 773.402 115.737 776.573 Q119.117 779.744 119.117 785.161 Q119.117 790.739 115.645 793.841 Q112.172 796.92 105.853 796.92 Q103.677 796.92 101.409 796.55 Q99.1632 796.179 96.7558 795.438 L96.7558 790.739 Q98.8391 791.874 101.061 792.429 Q103.284 792.985 105.76 792.985 Q109.765 792.985 112.103 790.878 Q114.441 788.772 114.441 785.161 Q114.441 781.55 112.103 779.443 Q109.765 777.337 105.76 777.337 Q103.885 777.337 102.01 777.753 Q100.159 778.17 98.2141 779.05 L98.2141 761.689 Z\" fill=\"#000000\" fill-rule=\"evenodd\" fill-opacity=\"1\" /><path clip-path=\"url(#clip760)\" d=\"M138.33 764.767 Q134.719 764.767 132.89 768.332 Q131.084 771.874 131.084 779.003 Q131.084 786.11 132.89 789.675 Q134.719 793.216 138.33 793.216 Q141.964 793.216 143.769 789.675 Q145.598 786.11 145.598 779.003 Q145.598 771.874 143.769 768.332 Q141.964 764.767 138.33 764.767 M138.33 761.064 Q144.14 761.064 147.195 765.67 Q150.274 770.253 150.274 779.003 Q150.274 787.73 147.195 792.337 Q144.14 796.92 138.33 796.92 Q132.519 796.92 129.441 792.337 Q126.385 787.73 126.385 779.003 Q126.385 770.253 129.441 765.67 Q132.519 761.064 138.33 761.064 Z\" fill=\"#000000\" fill-rule=\"evenodd\" fill-opacity=\"1\" /><path clip-path=\"url(#clip760)\" d=\"M63.9319 419.271 Q60.3208 419.271 58.4921 422.836 Q56.6865 426.378 56.6865 433.507 Q56.6865 440.614 58.4921 444.178 Q60.3208 447.72 63.9319 447.72 Q67.5661 447.72 69.3717 444.178 Q71.2004 440.614 71.2004 433.507 Q71.2004 426.378 69.3717 422.836 Q67.5661 419.271 63.9319 419.271 M63.9319 415.567 Q69.742 415.567 72.7976 420.174 Q75.8763 424.757 75.8763 433.507 Q75.8763 442.234 72.7976 446.84 Q69.742 451.424 63.9319 451.424 Q58.1217 451.424 55.043 446.84 Q51.9875 442.234 51.9875 433.507 Q51.9875 424.757 55.043 420.174 Q58.1217 415.567 63.9319 415.567 Z\" fill=\"#000000\" fill-rule=\"evenodd\" fill-opacity=\"1\" /><path clip-path=\"url(#clip760)\" d=\"M84.0938 444.873 L88.978 444.873 L88.978 450.752 L84.0938 450.752 L84.0938 444.873 Z\" fill=\"#000000\" fill-rule=\"evenodd\" fill-opacity=\"1\" /><path clip-path=\"url(#clip760)\" d=\"M97.9826 416.192 L120.205 416.192 L120.205 418.183 L107.658 450.752 L102.774 450.752 L114.58 420.128 L97.9826 420.128 L97.9826 416.192 Z\" fill=\"#000000\" fill-rule=\"evenodd\" fill-opacity=\"1\" /><path clip-path=\"url(#clip760)\" d=\"M129.371 416.192 L147.728 416.192 L147.728 420.128 L133.654 420.128 L133.654 428.6 Q134.672 428.253 135.691 428.091 Q136.709 427.905 137.728 427.905 Q143.515 427.905 146.894 431.077 Q150.274 434.248 150.274 439.665 Q150.274 445.243 146.802 448.345 Q143.33 451.424 137.01 451.424 Q134.834 451.424 132.566 451.053 Q130.32 450.683 127.913 449.942 L127.913 445.243 Q129.996 446.377 132.219 446.933 Q134.441 447.489 136.918 447.489 Q140.922 447.489 143.26 445.382 Q145.598 443.276 145.598 439.665 Q145.598 436.053 143.26 433.947 Q140.922 431.841 136.918 431.841 Q135.043 431.841 133.168 432.257 Q131.316 432.674 129.371 433.553 L129.371 416.192 Z\" fill=\"#000000\" fill-rule=\"evenodd\" fill-opacity=\"1\" /><path clip-path=\"url(#clip760)\" d=\"M53.7467 101.321 L61.3856 101.321 L61.3856 74.9555 L53.0754 76.6222 L53.0754 72.3629 L61.3393 70.6963 L66.0152 70.6963 L66.0152 101.321 L73.654 101.321 L73.654 105.256 L53.7467 105.256 L53.7467 101.321 Z\" fill=\"#000000\" fill-rule=\"evenodd\" fill-opacity=\"1\" /><path clip-path=\"url(#clip760)\" d=\"M83.0984 99.3767 L87.9827 99.3767 L87.9827 105.256 L83.0984 105.256 L83.0984 99.3767 Z\" fill=\"#000000\" fill-rule=\"evenodd\" fill-opacity=\"1\" /><path clip-path=\"url(#clip760)\" d=\"M108.168 73.775 Q104.557 73.775 102.728 77.3398 Q100.922 80.8814 100.922 88.011 Q100.922 95.1174 102.728 98.6822 Q104.557 102.224 108.168 102.224 Q111.802 102.224 113.608 98.6822 Q115.436 95.1174 115.436 88.011 Q115.436 80.8814 113.608 77.3398 Q111.802 73.775 108.168 73.775 M108.168 70.0713 Q113.978 70.0713 117.033 74.6777 Q120.112 79.261 120.112 88.011 Q120.112 96.7378 117.033 101.344 Q113.978 105.928 108.168 105.928 Q102.358 105.928 99.2789 101.344 Q96.2234 96.7378 96.2234 88.011 Q96.2234 79.261 99.2789 74.6777 Q102.358 70.0713 108.168 70.0713 Z\" fill=\"#000000\" fill-rule=\"evenodd\" fill-opacity=\"1\" /><path clip-path=\"url(#clip760)\" d=\"M138.33 73.775 Q134.719 73.775 132.89 77.3398 Q131.084 80.8814 131.084 88.011 Q131.084 95.1174 132.89 98.6822 Q134.719 102.224 138.33 102.224 Q141.964 102.224 143.769 98.6822 Q145.598 95.1174 145.598 88.011 Q145.598 80.8814 143.769 77.3398 Q141.964 73.775 138.33 73.775 M138.33 70.0713 Q144.14 70.0713 147.195 74.6777 Q150.274 79.261 150.274 88.011 Q150.274 96.7378 147.195 101.344 Q144.14 105.928 138.33 105.928 Q132.519 105.928 129.441 101.344 Q126.385 96.7378 126.385 88.011 Q126.385 79.261 129.441 74.6777 Q132.519 70.0713 138.33 70.0713 Z\" fill=\"#000000\" fill-rule=\"evenodd\" fill-opacity=\"1\" /><polyline clip-path=\"url(#clip762)\" style=\"stroke:#009af9; stroke-linecap:butt; stroke-linejoin:round; stroke-width:4; stroke-opacity:1; fill:none\" points=\"\n  247.59,917.167 399.791,1193.56 530.25,597.129 660.708,622.938 791.167,371.46 943.369,458.753 1073.83,312.951 1204.29,238.192 1334.74,268.235 1486.95,392.013 \n  1617.4,313.606 1747.86,263.865 1878.32,134.823 2030.52,87.9763 2160.98,87.9763 2291.44,87.9763 \n  \"/>\n<circle clip-path=\"url(#clip762)\" cx=\"247.59\" cy=\"917.167\" r=\"14\" fill=\"#009af9\" fill-rule=\"evenodd\" fill-opacity=\"1\" stroke=\"#000000\" stroke-opacity=\"1\" stroke-width=\"3.2\"/>\n<circle clip-path=\"url(#clip762)\" cx=\"399.791\" cy=\"1193.56\" r=\"14\" fill=\"#009af9\" fill-rule=\"evenodd\" fill-opacity=\"1\" stroke=\"#000000\" stroke-opacity=\"1\" stroke-width=\"3.2\"/>\n<circle clip-path=\"url(#clip762)\" cx=\"530.25\" cy=\"597.129\" r=\"14\" fill=\"#009af9\" fill-rule=\"evenodd\" fill-opacity=\"1\" stroke=\"#000000\" stroke-opacity=\"1\" stroke-width=\"3.2\"/>\n<circle clip-path=\"url(#clip762)\" cx=\"660.708\" cy=\"622.938\" r=\"14\" fill=\"#009af9\" fill-rule=\"evenodd\" fill-opacity=\"1\" stroke=\"#000000\" stroke-opacity=\"1\" stroke-width=\"3.2\"/>\n<circle clip-path=\"url(#clip762)\" cx=\"791.167\" cy=\"371.46\" r=\"14\" fill=\"#009af9\" fill-rule=\"evenodd\" fill-opacity=\"1\" stroke=\"#000000\" stroke-opacity=\"1\" stroke-width=\"3.2\"/>\n<circle clip-path=\"url(#clip762)\" cx=\"943.369\" cy=\"458.753\" r=\"14\" fill=\"#009af9\" fill-rule=\"evenodd\" fill-opacity=\"1\" stroke=\"#000000\" stroke-opacity=\"1\" stroke-width=\"3.2\"/>\n<circle clip-path=\"url(#clip762)\" cx=\"1073.83\" cy=\"312.951\" r=\"14\" fill=\"#009af9\" fill-rule=\"evenodd\" fill-opacity=\"1\" stroke=\"#000000\" stroke-opacity=\"1\" stroke-width=\"3.2\"/>\n<circle clip-path=\"url(#clip762)\" cx=\"1204.29\" cy=\"238.192\" r=\"14\" fill=\"#009af9\" fill-rule=\"evenodd\" fill-opacity=\"1\" stroke=\"#000000\" stroke-opacity=\"1\" stroke-width=\"3.2\"/>\n<circle clip-path=\"url(#clip762)\" cx=\"1334.74\" cy=\"268.235\" r=\"14\" fill=\"#009af9\" fill-rule=\"evenodd\" fill-opacity=\"1\" stroke=\"#000000\" stroke-opacity=\"1\" stroke-width=\"3.2\"/>\n<circle clip-path=\"url(#clip762)\" cx=\"1486.95\" cy=\"392.013\" r=\"14\" fill=\"#009af9\" fill-rule=\"evenodd\" fill-opacity=\"1\" stroke=\"#000000\" stroke-opacity=\"1\" stroke-width=\"3.2\"/>\n<circle clip-path=\"url(#clip762)\" cx=\"1617.4\" cy=\"313.606\" r=\"14\" fill=\"#009af9\" fill-rule=\"evenodd\" fill-opacity=\"1\" stroke=\"#000000\" stroke-opacity=\"1\" stroke-width=\"3.2\"/>\n<circle clip-path=\"url(#clip762)\" cx=\"1747.86\" cy=\"263.865\" r=\"14\" fill=\"#009af9\" fill-rule=\"evenodd\" fill-opacity=\"1\" stroke=\"#000000\" stroke-opacity=\"1\" stroke-width=\"3.2\"/>\n<circle clip-path=\"url(#clip762)\" cx=\"1878.32\" cy=\"134.823\" r=\"14\" fill=\"#009af9\" fill-rule=\"evenodd\" fill-opacity=\"1\" stroke=\"#000000\" stroke-opacity=\"1\" stroke-width=\"3.2\"/>\n<circle clip-path=\"url(#clip762)\" cx=\"2030.52\" cy=\"87.9763\" r=\"14\" fill=\"#009af9\" fill-rule=\"evenodd\" fill-opacity=\"1\" stroke=\"#000000\" stroke-opacity=\"1\" stroke-width=\"3.2\"/>\n<circle clip-path=\"url(#clip762)\" cx=\"2160.98\" cy=\"87.9763\" r=\"14\" fill=\"#009af9\" fill-rule=\"evenodd\" fill-opacity=\"1\" stroke=\"#000000\" stroke-opacity=\"1\" stroke-width=\"3.2\"/>\n<circle clip-path=\"url(#clip762)\" cx=\"2291.44\" cy=\"87.9763\" r=\"14\" fill=\"#009af9\" fill-rule=\"evenodd\" fill-opacity=\"1\" stroke=\"#000000\" stroke-opacity=\"1\" stroke-width=\"3.2\"/>\n<polyline clip-path=\"url(#clip762)\" style=\"stroke:#e26f46; stroke-linecap:butt; stroke-linejoin:round; stroke-width:4; stroke-opacity:1; fill:none\" points=\"\n  247.59,1445.72 399.791,1363.65 530.25,1180.71 660.708,845.839 791.167,929.184 943.369,614.447 1073.83,451.656 1204.29,951.717 1334.74,606.221 1486.95,894.134 \n  1617.4,725.815 1747.86,87.9763 1878.32,87.9763 2030.52,87.9763 \n  \"/>\n<circle clip-path=\"url(#clip762)\" cx=\"247.59\" cy=\"1445.72\" r=\"14\" fill=\"#e26f46\" fill-rule=\"evenodd\" fill-opacity=\"1\" stroke=\"#000000\" stroke-opacity=\"1\" stroke-width=\"3.2\"/>\n<circle clip-path=\"url(#clip762)\" cx=\"399.791\" cy=\"1363.65\" r=\"14\" fill=\"#e26f46\" fill-rule=\"evenodd\" fill-opacity=\"1\" stroke=\"#000000\" stroke-opacity=\"1\" stroke-width=\"3.2\"/>\n<circle clip-path=\"url(#clip762)\" cx=\"530.25\" cy=\"1180.71\" r=\"14\" fill=\"#e26f46\" fill-rule=\"evenodd\" fill-opacity=\"1\" stroke=\"#000000\" stroke-opacity=\"1\" stroke-width=\"3.2\"/>\n<circle clip-path=\"url(#clip762)\" cx=\"660.708\" cy=\"845.839\" r=\"14\" fill=\"#e26f46\" fill-rule=\"evenodd\" fill-opacity=\"1\" stroke=\"#000000\" stroke-opacity=\"1\" stroke-width=\"3.2\"/>\n<circle clip-path=\"url(#clip762)\" cx=\"791.167\" cy=\"929.184\" r=\"14\" fill=\"#e26f46\" fill-rule=\"evenodd\" fill-opacity=\"1\" stroke=\"#000000\" stroke-opacity=\"1\" stroke-width=\"3.2\"/>\n<circle clip-path=\"url(#clip762)\" cx=\"943.369\" cy=\"614.447\" r=\"14\" fill=\"#e26f46\" fill-rule=\"evenodd\" fill-opacity=\"1\" stroke=\"#000000\" stroke-opacity=\"1\" stroke-width=\"3.2\"/>\n<circle clip-path=\"url(#clip762)\" cx=\"1073.83\" cy=\"451.656\" r=\"14\" fill=\"#e26f46\" fill-rule=\"evenodd\" fill-opacity=\"1\" stroke=\"#000000\" stroke-opacity=\"1\" stroke-width=\"3.2\"/>\n<circle clip-path=\"url(#clip762)\" cx=\"1204.29\" cy=\"951.717\" r=\"14\" fill=\"#e26f46\" fill-rule=\"evenodd\" fill-opacity=\"1\" stroke=\"#000000\" stroke-opacity=\"1\" stroke-width=\"3.2\"/>\n<circle clip-path=\"url(#clip762)\" cx=\"1334.74\" cy=\"606.221\" r=\"14\" fill=\"#e26f46\" fill-rule=\"evenodd\" fill-opacity=\"1\" stroke=\"#000000\" stroke-opacity=\"1\" stroke-width=\"3.2\"/>\n<circle clip-path=\"url(#clip762)\" cx=\"1486.95\" cy=\"894.134\" r=\"14\" fill=\"#e26f46\" fill-rule=\"evenodd\" fill-opacity=\"1\" stroke=\"#000000\" stroke-opacity=\"1\" stroke-width=\"3.2\"/>\n<circle clip-path=\"url(#clip762)\" cx=\"1617.4\" cy=\"725.815\" r=\"14\" fill=\"#e26f46\" fill-rule=\"evenodd\" fill-opacity=\"1\" stroke=\"#000000\" stroke-opacity=\"1\" stroke-width=\"3.2\"/>\n<circle clip-path=\"url(#clip762)\" cx=\"1747.86\" cy=\"87.9763\" r=\"14\" fill=\"#e26f46\" fill-rule=\"evenodd\" fill-opacity=\"1\" stroke=\"#000000\" stroke-opacity=\"1\" stroke-width=\"3.2\"/>\n<circle clip-path=\"url(#clip762)\" cx=\"1878.32\" cy=\"87.9763\" r=\"14\" fill=\"#e26f46\" fill-rule=\"evenodd\" fill-opacity=\"1\" stroke=\"#000000\" stroke-opacity=\"1\" stroke-width=\"3.2\"/>\n<circle clip-path=\"url(#clip762)\" cx=\"2030.52\" cy=\"87.9763\" r=\"14\" fill=\"#e26f46\" fill-rule=\"evenodd\" fill-opacity=\"1\" stroke=\"#000000\" stroke-opacity=\"1\" stroke-width=\"3.2\"/>\n<path clip-path=\"url(#clip760)\" d=\"\nM1858.64 1438.47 L2280.54 1438.47 L2280.54 1282.95 L1858.64 1282.95  Z\n  \" fill=\"#ffffff\" fill-rule=\"evenodd\" fill-opacity=\"1\"/>\n<polyline clip-path=\"url(#clip760)\" style=\"stroke:#000000; stroke-linecap:butt; stroke-linejoin:round; stroke-width:4; stroke-opacity:1; fill:none\" points=\"\n  1858.64,1438.47 2280.54,1438.47 2280.54,1282.95 1858.64,1282.95 1858.64,1438.47 \n  \"/>\n<polyline clip-path=\"url(#clip760)\" style=\"stroke:#009af9; stroke-linecap:butt; stroke-linejoin:round; stroke-width:4; stroke-opacity:1; fill:none\" points=\"\n  1882.71,1334.79 2027.14,1334.79 \n  \"/>\n<circle clip-path=\"url(#clip760)\" cx=\"1954.93\" cy=\"1334.79\" r=\"23\" fill=\"#009af9\" fill-rule=\"evenodd\" fill-opacity=\"1\" stroke=\"#000000\" stroke-opacity=\"1\" stroke-width=\"5.12\"/>\n<path clip-path=\"url(#clip760)\" d=\"M2051.22 1317.51 L2080.45 1317.51 L2080.45 1321.45 L2068.18 1321.45 L2068.18 1352.07 L2063.48 1352.07 L2063.48 1321.45 L2051.22 1321.45 L2051.22 1317.51 Z\" fill=\"#000000\" fill-rule=\"evenodd\" fill-opacity=\"1\" /><path clip-path=\"url(#clip760)\" d=\"M2095.01 1316.1 Q2091.91 1321.43 2090.41 1326.63 Q2088.9 1331.84 2088.9 1337.19 Q2088.9 1342.54 2090.41 1347.79 Q2091.93 1353.02 2095.01 1358.32 L2091.31 1358.32 Q2087.84 1352.88 2086.1 1347.63 Q2084.39 1342.38 2084.39 1337.19 Q2084.39 1332.03 2086.1 1326.8 Q2087.81 1321.57 2091.31 1316.1 L2095.01 1316.1 Z\" fill=\"#000000\" fill-rule=\"evenodd\" fill-opacity=\"1\" /><path clip-path=\"url(#clip760)\" d=\"M2120.61 1322.35 L2120.61 1335.25 L2133.51 1335.25 L2133.51 1339.18 L2120.61 1339.18 L2120.61 1352.07 L2116.73 1352.07 L2116.73 1339.18 L2103.83 1339.18 L2103.83 1335.25 L2116.73 1335.25 L2116.73 1322.35 L2120.61 1322.35 Z\" fill=\"#000000\" fill-rule=\"evenodd\" fill-opacity=\"1\" /><path clip-path=\"url(#clip760)\" d=\"M2175.94 1336.17 L2175.94 1338.26 L2166.84 1347.35 L2164.06 1344.57 L2169.46 1339.18 L2141.24 1339.18 L2141.24 1335.25 L2169.46 1335.25 L2164.06 1329.85 L2166.84 1327.07 L2175.94 1336.17 Z\" fill=\"#000000\" fill-rule=\"evenodd\" fill-opacity=\"1\" /><path clip-path=\"url(#clip760)\" d=\"M2200.06 1322.35 L2200.06 1335.25 L2212.95 1335.25 L2212.95 1339.18 L2200.06 1339.18 L2200.06 1352.07 L2196.17 1352.07 L2196.17 1339.18 L2183.28 1339.18 L2183.28 1335.25 L2196.17 1335.25 L2196.17 1322.35 L2200.06 1322.35 Z\" fill=\"#000000\" fill-rule=\"evenodd\" fill-opacity=\"1\" /><path clip-path=\"url(#clip760)\" d=\"M2221.77 1316.1 L2225.47 1316.1 Q2228.95 1321.57 2230.66 1326.8 Q2232.4 1332.03 2232.4 1337.19 Q2232.4 1342.38 2230.66 1347.63 Q2228.95 1352.88 2225.47 1358.32 L2221.77 1358.32 Q2224.85 1353.02 2226.35 1347.79 Q2227.88 1342.54 2227.88 1337.19 Q2227.88 1331.84 2226.35 1326.63 Q2224.85 1321.43 2221.77 1316.1 Z\" fill=\"#000000\" fill-rule=\"evenodd\" fill-opacity=\"1\" /><polyline clip-path=\"url(#clip760)\" style=\"stroke:#e26f46; stroke-linecap:butt; stroke-linejoin:round; stroke-width:4; stroke-opacity:1; fill:none\" points=\"\n  1882.71,1386.63 2027.14,1386.63 \n  \"/>\n<circle clip-path=\"url(#clip760)\" cx=\"1954.93\" cy=\"1386.63\" r=\"23\" fill=\"#e26f46\" fill-rule=\"evenodd\" fill-opacity=\"1\" stroke=\"#000000\" stroke-opacity=\"1\" stroke-width=\"5.12\"/>\n<path clip-path=\"url(#clip760)\" d=\"M2051.22 1369.35 L2080.45 1369.35 L2080.45 1373.29 L2068.18 1373.29 L2068.18 1403.91 L2063.48 1403.91 L2063.48 1373.29 L2051.22 1373.29 L2051.22 1369.35 Z\" fill=\"#000000\" fill-rule=\"evenodd\" fill-opacity=\"1\" /><path clip-path=\"url(#clip760)\" d=\"M2095.01 1367.94 Q2091.91 1373.27 2090.41 1378.47 Q2088.9 1383.68 2088.9 1389.03 Q2088.9 1394.38 2090.41 1399.63 Q2091.93 1404.86 2095.01 1410.16 L2091.31 1410.16 Q2087.84 1404.72 2086.1 1399.47 Q2084.39 1394.22 2084.39 1389.03 Q2084.39 1383.87 2086.1 1378.64 Q2087.81 1373.41 2091.31 1367.94 L2095.01 1367.94 Z\" fill=\"#000000\" fill-rule=\"evenodd\" fill-opacity=\"1\" /><path clip-path=\"url(#clip760)\" d=\"M2103.83 1387.09 L2133.51 1387.09 L2133.51 1391.02 L2103.83 1391.02 L2103.83 1387.09 Z\" fill=\"#000000\" fill-rule=\"evenodd\" fill-opacity=\"1\" /><path clip-path=\"url(#clip760)\" d=\"M2175.94 1388.01 L2175.94 1390.1 L2166.84 1399.19 L2164.06 1396.41 L2169.46 1391.02 L2141.24 1391.02 L2141.24 1387.09 L2169.46 1387.09 L2164.06 1381.69 L2166.84 1378.91 L2175.94 1388.01 Z\" fill=\"#000000\" fill-rule=\"evenodd\" fill-opacity=\"1\" /><path clip-path=\"url(#clip760)\" d=\"M2200.06 1374.19 L2200.06 1387.09 L2212.95 1387.09 L2212.95 1391.02 L2200.06 1391.02 L2200.06 1403.91 L2196.17 1403.91 L2196.17 1391.02 L2183.28 1391.02 L2183.28 1387.09 L2196.17 1387.09 L2196.17 1374.19 L2200.06 1374.19 Z\" fill=\"#000000\" fill-rule=\"evenodd\" fill-opacity=\"1\" /><path clip-path=\"url(#clip760)\" d=\"M2221.77 1367.94 L2225.47 1367.94 Q2228.95 1373.41 2230.66 1378.64 Q2232.4 1383.87 2232.4 1389.03 Q2232.4 1394.22 2230.66 1399.47 Q2228.95 1404.72 2225.47 1410.16 L2221.77 1410.16 Q2224.85 1404.86 2226.35 1399.63 Q2227.88 1394.38 2227.88 1389.03 Q2227.88 1383.68 2226.35 1378.47 Q2224.85 1373.27 2221.77 1367.94 Z\" fill=\"#000000\" fill-rule=\"evenodd\" fill-opacity=\"1\" /></svg>\n",
      "text/html": [
       "<?xml version=\"1.0\" encoding=\"utf-8\"?>\n",
       "<svg xmlns=\"http://www.w3.org/2000/svg\" xmlns:xlink=\"http://www.w3.org/1999/xlink\" width=\"600\" height=\"400\" viewBox=\"0 0 2400 1600\">\n",
       "<defs>\n",
       "  <clipPath id=\"clip810\">\n",
       "    <rect x=\"0\" y=\"0\" width=\"2400\" height=\"1600\"/>\n",
       "  </clipPath>\n",
       "</defs>\n",
       "<path clip-path=\"url(#clip810)\" d=\"\n",
       "M0 1600 L2400 1600 L2400 0 L0 0  Z\n",
       "  \" fill=\"#ffffff\" fill-rule=\"evenodd\" fill-opacity=\"1\"/>\n",
       "<defs>\n",
       "  <clipPath id=\"clip811\">\n",
       "    <rect x=\"480\" y=\"0\" width=\"1681\" height=\"1600\"/>\n",
       "  </clipPath>\n",
       "</defs>\n",
       "<path clip-path=\"url(#clip810)\" d=\"\n",
       "M186.274 1486.45 L2352.76 1486.45 L2352.76 47.2441 L186.274 47.2441  Z\n",
       "  \" fill=\"#ffffff\" fill-rule=\"evenodd\" fill-opacity=\"1\"/>\n",
       "<defs>\n",
       "  <clipPath id=\"clip812\">\n",
       "    <rect x=\"186\" y=\"47\" width=\"2167\" height=\"1440\"/>\n",
       "  </clipPath>\n",
       "</defs>\n",
       "<polyline clip-path=\"url(#clip812)\" style=\"stroke:#000000; stroke-linecap:butt; stroke-linejoin:round; stroke-width:2; stroke-opacity:0.1; fill:none\" points=\"\n",
       "  247.59,1486.45 247.59,47.2441 \n",
       "  \"/>\n",
       "<polyline clip-path=\"url(#clip812)\" style=\"stroke:#000000; stroke-linecap:butt; stroke-linejoin:round; stroke-width:2; stroke-opacity:0.1; fill:none\" points=\"\n",
       "  682.451,1486.45 682.451,47.2441 \n",
       "  \"/>\n",
       "<polyline clip-path=\"url(#clip812)\" style=\"stroke:#000000; stroke-linecap:butt; stroke-linejoin:round; stroke-width:2; stroke-opacity:0.1; fill:none\" points=\"\n",
       "  1117.31,1486.45 1117.31,47.2441 \n",
       "  \"/>\n",
       "<polyline clip-path=\"url(#clip812)\" style=\"stroke:#000000; stroke-linecap:butt; stroke-linejoin:round; stroke-width:2; stroke-opacity:0.1; fill:none\" points=\"\n",
       "  1552.18,1486.45 1552.18,47.2441 \n",
       "  \"/>\n",
       "<polyline clip-path=\"url(#clip812)\" style=\"stroke:#000000; stroke-linecap:butt; stroke-linejoin:round; stroke-width:2; stroke-opacity:0.1; fill:none\" points=\"\n",
       "  1987.04,1486.45 1987.04,47.2441 \n",
       "  \"/>\n",
       "<polyline clip-path=\"url(#clip810)\" style=\"stroke:#000000; stroke-linecap:butt; stroke-linejoin:round; stroke-width:4; stroke-opacity:1; fill:none\" points=\"\n",
       "  186.274,1486.45 2352.76,1486.45 \n",
       "  \"/>\n",
       "<polyline clip-path=\"url(#clip810)\" style=\"stroke:#000000; stroke-linecap:butt; stroke-linejoin:round; stroke-width:4; stroke-opacity:1; fill:none\" points=\"\n",
       "  247.59,1486.45 247.59,1467.55 \n",
       "  \"/>\n",
       "<polyline clip-path=\"url(#clip810)\" style=\"stroke:#000000; stroke-linecap:butt; stroke-linejoin:round; stroke-width:4; stroke-opacity:1; fill:none\" points=\"\n",
       "  682.451,1486.45 682.451,1467.55 \n",
       "  \"/>\n",
       "<polyline clip-path=\"url(#clip810)\" style=\"stroke:#000000; stroke-linecap:butt; stroke-linejoin:round; stroke-width:4; stroke-opacity:1; fill:none\" points=\"\n",
       "  1117.31,1486.45 1117.31,1467.55 \n",
       "  \"/>\n",
       "<polyline clip-path=\"url(#clip810)\" style=\"stroke:#000000; stroke-linecap:butt; stroke-linejoin:round; stroke-width:4; stroke-opacity:1; fill:none\" points=\"\n",
       "  1552.18,1486.45 1552.18,1467.55 \n",
       "  \"/>\n",
       "<polyline clip-path=\"url(#clip810)\" style=\"stroke:#000000; stroke-linecap:butt; stroke-linejoin:round; stroke-width:4; stroke-opacity:1; fill:none\" points=\"\n",
       "  1987.04,1486.45 1987.04,1467.55 \n",
       "  \"/>\n",
       "<path clip-path=\"url(#clip810)\" d=\"M224.974 1517.37 Q221.363 1517.37 219.534 1520.93 Q217.729 1524.47 217.729 1531.6 Q217.729 1538.71 219.534 1542.27 Q221.363 1545.82 224.974 1545.82 Q228.608 1545.82 230.414 1542.27 Q232.242 1538.71 232.242 1531.6 Q232.242 1524.47 230.414 1520.93 Q228.608 1517.37 224.974 1517.37 M224.974 1513.66 Q230.784 1513.66 233.84 1518.27 Q236.918 1522.85 236.918 1531.6 Q236.918 1540.33 233.84 1544.94 Q230.784 1549.52 224.974 1549.52 Q219.164 1549.52 216.085 1544.94 Q213.03 1540.33 213.03 1531.6 Q213.03 1522.85 216.085 1518.27 Q219.164 1513.66 224.974 1513.66 Z\" fill=\"#000000\" fill-rule=\"evenodd\" fill-opacity=\"1\" /><path clip-path=\"url(#clip810)\" d=\"M245.136 1542.97 L250.02 1542.97 L250.02 1548.85 L245.136 1548.85 L245.136 1542.97 Z\" fill=\"#000000\" fill-rule=\"evenodd\" fill-opacity=\"1\" /><path clip-path=\"url(#clip810)\" d=\"M270.205 1517.37 Q266.594 1517.37 264.765 1520.93 Q262.96 1524.47 262.96 1531.6 Q262.96 1538.71 264.765 1542.27 Q266.594 1545.82 270.205 1545.82 Q273.839 1545.82 275.645 1542.27 Q277.474 1538.71 277.474 1531.6 Q277.474 1524.47 275.645 1520.93 Q273.839 1517.37 270.205 1517.37 M270.205 1513.66 Q276.015 1513.66 279.071 1518.27 Q282.15 1522.85 282.15 1531.6 Q282.15 1540.33 279.071 1544.94 Q276.015 1549.52 270.205 1549.52 Q264.395 1549.52 261.316 1544.94 Q258.261 1540.33 258.261 1531.6 Q258.261 1522.85 261.316 1518.27 Q264.395 1513.66 270.205 1513.66 Z\" fill=\"#000000\" fill-rule=\"evenodd\" fill-opacity=\"1\" /><path clip-path=\"url(#clip810)\" d=\"M660.634 1517.37 Q657.023 1517.37 655.195 1520.93 Q653.389 1524.47 653.389 1531.6 Q653.389 1538.71 655.195 1542.27 Q657.023 1545.82 660.634 1545.82 Q664.269 1545.82 666.074 1542.27 Q667.903 1538.71 667.903 1531.6 Q667.903 1524.47 666.074 1520.93 Q664.269 1517.37 660.634 1517.37 M660.634 1513.66 Q666.445 1513.66 669.5 1518.27 Q672.579 1522.85 672.579 1531.6 Q672.579 1540.33 669.5 1544.94 Q666.445 1549.52 660.634 1549.52 Q654.824 1549.52 651.746 1544.94 Q648.69 1540.33 648.69 1531.6 Q648.69 1522.85 651.746 1518.27 Q654.824 1513.66 660.634 1513.66 Z\" fill=\"#000000\" fill-rule=\"evenodd\" fill-opacity=\"1\" /><path clip-path=\"url(#clip810)\" d=\"M680.796 1542.97 L685.681 1542.97 L685.681 1548.85 L680.796 1548.85 L680.796 1542.97 Z\" fill=\"#000000\" fill-rule=\"evenodd\" fill-opacity=\"1\" /><path clip-path=\"url(#clip810)\" d=\"M699.893 1544.91 L716.213 1544.91 L716.213 1548.85 L694.268 1548.85 L694.268 1544.91 Q696.93 1542.16 701.514 1537.53 Q706.12 1532.88 707.301 1531.53 Q709.546 1529.01 710.426 1527.27 Q711.329 1525.51 711.329 1523.82 Q711.329 1521.07 709.384 1519.33 Q707.463 1517.6 704.361 1517.6 Q702.162 1517.6 699.708 1518.36 Q697.278 1519.13 694.5 1520.68 L694.5 1515.95 Q697.324 1514.82 699.778 1514.24 Q702.231 1513.66 704.268 1513.66 Q709.639 1513.66 712.833 1516.35 Q716.028 1519.03 716.028 1523.52 Q716.028 1525.65 715.217 1527.57 Q714.43 1529.47 712.324 1532.07 Q711.745 1532.74 708.643 1535.95 Q705.542 1539.15 699.893 1544.91 Z\" fill=\"#000000\" fill-rule=\"evenodd\" fill-opacity=\"1\" /><path clip-path=\"url(#clip810)\" d=\"M1094.45 1517.37 Q1090.84 1517.37 1089.01 1520.93 Q1087.21 1524.47 1087.21 1531.6 Q1087.21 1538.71 1089.01 1542.27 Q1090.84 1545.82 1094.45 1545.82 Q1098.09 1545.82 1099.89 1542.27 Q1101.72 1538.71 1101.72 1531.6 Q1101.72 1524.47 1099.89 1520.93 Q1098.09 1517.37 1094.45 1517.37 M1094.45 1513.66 Q1100.26 1513.66 1103.32 1518.27 Q1106.4 1522.85 1106.4 1531.6 Q1106.4 1540.33 1103.32 1544.94 Q1100.26 1549.52 1094.45 1549.52 Q1088.64 1549.52 1085.57 1544.94 Q1082.51 1540.33 1082.51 1531.6 Q1082.51 1522.85 1085.57 1518.27 Q1088.64 1513.66 1094.45 1513.66 Z\" fill=\"#000000\" fill-rule=\"evenodd\" fill-opacity=\"1\" /><path clip-path=\"url(#clip810)\" d=\"M1114.62 1542.97 L1119.5 1542.97 L1119.5 1548.85 L1114.62 1548.85 L1114.62 1542.97 Z\" fill=\"#000000\" fill-rule=\"evenodd\" fill-opacity=\"1\" /><path clip-path=\"url(#clip810)\" d=\"M1142.53 1518.36 L1130.73 1536.81 L1142.53 1536.81 L1142.53 1518.36 M1141.31 1514.29 L1147.19 1514.29 L1147.19 1536.81 L1152.12 1536.81 L1152.12 1540.7 L1147.19 1540.7 L1147.19 1548.85 L1142.53 1548.85 L1142.53 1540.7 L1126.93 1540.7 L1126.93 1536.19 L1141.31 1514.29 Z\" fill=\"#000000\" fill-rule=\"evenodd\" fill-opacity=\"1\" /><path clip-path=\"url(#clip810)\" d=\"M1529.48 1517.37 Q1525.87 1517.37 1524.04 1520.93 Q1522.23 1524.47 1522.23 1531.6 Q1522.23 1538.71 1524.04 1542.27 Q1525.87 1545.82 1529.48 1545.82 Q1533.11 1545.82 1534.92 1542.27 Q1536.75 1538.71 1536.75 1531.6 Q1536.75 1524.47 1534.92 1520.93 Q1533.11 1517.37 1529.48 1517.37 M1529.48 1513.66 Q1535.29 1513.66 1538.34 1518.27 Q1541.42 1522.85 1541.42 1531.6 Q1541.42 1540.33 1538.34 1544.94 Q1535.29 1549.52 1529.48 1549.52 Q1523.67 1549.52 1520.59 1544.94 Q1517.53 1540.33 1517.53 1531.6 Q1517.53 1522.85 1520.59 1518.27 Q1523.67 1513.66 1529.48 1513.66 Z\" fill=\"#000000\" fill-rule=\"evenodd\" fill-opacity=\"1\" /><path clip-path=\"url(#clip810)\" d=\"M1549.64 1542.97 L1554.52 1542.97 L1554.52 1548.85 L1549.64 1548.85 L1549.64 1542.97 Z\" fill=\"#000000\" fill-rule=\"evenodd\" fill-opacity=\"1\" /><path clip-path=\"url(#clip810)\" d=\"M1575.29 1529.7 Q1572.14 1529.7 1570.29 1531.86 Q1568.46 1534.01 1568.46 1537.76 Q1568.46 1541.49 1570.29 1543.66 Q1572.14 1545.82 1575.29 1545.82 Q1578.44 1545.82 1580.27 1543.66 Q1582.12 1541.49 1582.12 1537.76 Q1582.12 1534.01 1580.27 1531.86 Q1578.44 1529.7 1575.29 1529.7 M1584.57 1515.05 L1584.57 1519.31 Q1582.81 1518.48 1581.01 1518.04 Q1579.22 1517.6 1577.46 1517.6 Q1572.83 1517.6 1570.38 1520.72 Q1567.95 1523.85 1567.6 1530.17 Q1568.97 1528.15 1571.03 1527.09 Q1573.09 1526 1575.57 1526 Q1580.77 1526 1583.78 1529.17 Q1586.82 1532.32 1586.82 1537.76 Q1586.82 1543.08 1583.67 1546.3 Q1580.52 1549.52 1575.29 1549.52 Q1569.29 1549.52 1566.12 1544.94 Q1562.95 1540.33 1562.95 1531.6 Q1562.95 1523.41 1566.84 1518.55 Q1570.73 1513.66 1577.28 1513.66 Q1579.04 1513.66 1580.82 1514.01 Q1582.63 1514.36 1584.57 1515.05 Z\" fill=\"#000000\" fill-rule=\"evenodd\" fill-opacity=\"1\" /><path clip-path=\"url(#clip810)\" d=\"M1964.47 1517.37 Q1960.86 1517.37 1959.03 1520.93 Q1957.22 1524.47 1957.22 1531.6 Q1957.22 1538.71 1959.03 1542.27 Q1960.86 1545.82 1964.47 1545.82 Q1968.1 1545.82 1969.91 1542.27 Q1971.74 1538.71 1971.74 1531.6 Q1971.74 1524.47 1969.91 1520.93 Q1968.1 1517.37 1964.47 1517.37 M1964.47 1513.66 Q1970.28 1513.66 1973.33 1518.27 Q1976.41 1522.85 1976.41 1531.6 Q1976.41 1540.33 1973.33 1544.94 Q1970.28 1549.52 1964.47 1549.52 Q1958.66 1549.52 1955.58 1544.94 Q1952.52 1540.33 1952.52 1531.6 Q1952.52 1522.85 1955.58 1518.27 Q1958.66 1513.66 1964.47 1513.66 Z\" fill=\"#000000\" fill-rule=\"evenodd\" fill-opacity=\"1\" /><path clip-path=\"url(#clip810)\" d=\"M1984.63 1542.97 L1989.51 1542.97 L1989.51 1548.85 L1984.63 1548.85 L1984.63 1542.97 Z\" fill=\"#000000\" fill-rule=\"evenodd\" fill-opacity=\"1\" /><path clip-path=\"url(#clip810)\" d=\"M2009.7 1532.44 Q2006.37 1532.44 2004.44 1534.22 Q2002.55 1536 2002.55 1539.13 Q2002.55 1542.25 2004.44 1544.03 Q2006.37 1545.82 2009.7 1545.82 Q2013.03 1545.82 2014.95 1544.03 Q2016.87 1542.23 2016.87 1539.13 Q2016.87 1536 2014.95 1534.22 Q2013.06 1532.44 2009.7 1532.44 M2005.02 1530.45 Q2002.01 1529.7 2000.32 1527.64 Q1998.66 1525.58 1998.66 1522.62 Q1998.66 1518.48 2001.6 1516.07 Q2004.56 1513.66 2009.7 1513.66 Q2014.86 1513.66 2017.8 1516.07 Q2020.74 1518.48 2020.74 1522.62 Q2020.74 1525.58 2019.05 1527.64 Q2017.38 1529.7 2014.4 1530.45 Q2017.78 1531.23 2019.65 1533.52 Q2021.55 1535.82 2021.55 1539.13 Q2021.55 1544.15 2018.47 1546.83 Q2015.42 1549.52 2009.7 1549.52 Q2003.98 1549.52 2000.9 1546.83 Q1997.85 1544.15 1997.85 1539.13 Q1997.85 1535.82 1999.75 1533.52 Q2001.64 1531.23 2005.02 1530.45 M2003.31 1523.06 Q2003.31 1525.75 2004.98 1527.25 Q2006.67 1528.76 2009.7 1528.76 Q2012.71 1528.76 2014.4 1527.25 Q2016.11 1525.75 2016.11 1523.06 Q2016.11 1520.38 2014.4 1518.87 Q2012.71 1517.37 2009.7 1517.37 Q2006.67 1517.37 2004.98 1518.87 Q2003.31 1520.38 2003.31 1523.06 Z\" fill=\"#000000\" fill-rule=\"evenodd\" fill-opacity=\"1\" /><polyline clip-path=\"url(#clip812)\" style=\"stroke:#000000; stroke-linecap:butt; stroke-linejoin:round; stroke-width:2; stroke-opacity:0.1; fill:none\" points=\"\n",
       "  186.274,1469.96 2352.76,1469.96 \n",
       "  \"/>\n",
       "<polyline clip-path=\"url(#clip812)\" style=\"stroke:#000000; stroke-linecap:butt; stroke-linejoin:round; stroke-width:2; stroke-opacity:0.1; fill:none\" points=\"\n",
       "  186.274,1124.46 2352.76,1124.46 \n",
       "  \"/>\n",
       "<polyline clip-path=\"url(#clip812)\" style=\"stroke:#000000; stroke-linecap:butt; stroke-linejoin:round; stroke-width:2; stroke-opacity:0.1; fill:none\" points=\"\n",
       "  186.274,778.969 2352.76,778.969 \n",
       "  \"/>\n",
       "<polyline clip-path=\"url(#clip812)\" style=\"stroke:#000000; stroke-linecap:butt; stroke-linejoin:round; stroke-width:2; stroke-opacity:0.1; fill:none\" points=\"\n",
       "  186.274,433.472 2352.76,433.472 \n",
       "  \"/>\n",
       "<polyline clip-path=\"url(#clip812)\" style=\"stroke:#000000; stroke-linecap:butt; stroke-linejoin:round; stroke-width:2; stroke-opacity:0.1; fill:none\" points=\"\n",
       "  186.274,87.9763 2352.76,87.9763 \n",
       "  \"/>\n",
       "<polyline clip-path=\"url(#clip810)\" style=\"stroke:#000000; stroke-linecap:butt; stroke-linejoin:round; stroke-width:4; stroke-opacity:1; fill:none\" points=\"\n",
       "  186.274,1486.45 186.274,47.2441 \n",
       "  \"/>\n",
       "<polyline clip-path=\"url(#clip810)\" style=\"stroke:#000000; stroke-linecap:butt; stroke-linejoin:round; stroke-width:4; stroke-opacity:1; fill:none\" points=\"\n",
       "  186.274,1469.96 205.172,1469.96 \n",
       "  \"/>\n",
       "<polyline clip-path=\"url(#clip810)\" style=\"stroke:#000000; stroke-linecap:butt; stroke-linejoin:round; stroke-width:4; stroke-opacity:1; fill:none\" points=\"\n",
       "  186.274,1124.46 205.172,1124.46 \n",
       "  \"/>\n",
       "<polyline clip-path=\"url(#clip810)\" style=\"stroke:#000000; stroke-linecap:butt; stroke-linejoin:round; stroke-width:4; stroke-opacity:1; fill:none\" points=\"\n",
       "  186.274,778.969 205.172,778.969 \n",
       "  \"/>\n",
       "<polyline clip-path=\"url(#clip810)\" style=\"stroke:#000000; stroke-linecap:butt; stroke-linejoin:round; stroke-width:4; stroke-opacity:1; fill:none\" points=\"\n",
       "  186.274,433.472 205.172,433.472 \n",
       "  \"/>\n",
       "<polyline clip-path=\"url(#clip810)\" style=\"stroke:#000000; stroke-linecap:butt; stroke-linejoin:round; stroke-width:4; stroke-opacity:1; fill:none\" points=\"\n",
       "  186.274,87.9763 205.172,87.9763 \n",
       "  \"/>\n",
       "<path clip-path=\"url(#clip810)\" d=\"M62.9365 1455.76 Q59.3254 1455.76 57.4967 1459.32 Q55.6912 1462.87 55.6912 1470 Q55.6912 1477.1 57.4967 1480.67 Q59.3254 1484.21 62.9365 1484.21 Q66.5707 1484.21 68.3763 1480.67 Q70.205 1477.1 70.205 1470 Q70.205 1462.87 68.3763 1459.32 Q66.5707 1455.76 62.9365 1455.76 M62.9365 1452.06 Q68.7467 1452.06 71.8022 1456.66 Q74.8809 1461.25 74.8809 1470 Q74.8809 1478.72 71.8022 1483.33 Q68.7467 1487.91 62.9365 1487.91 Q57.1264 1487.91 54.0477 1483.33 Q50.9921 1478.72 50.9921 1470 Q50.9921 1461.25 54.0477 1456.66 Q57.1264 1452.06 62.9365 1452.06 Z\" fill=\"#000000\" fill-rule=\"evenodd\" fill-opacity=\"1\" /><path clip-path=\"url(#clip810)\" d=\"M83.0984 1481.36 L87.9827 1481.36 L87.9827 1487.24 L83.0984 1487.24 L83.0984 1481.36 Z\" fill=\"#000000\" fill-rule=\"evenodd\" fill-opacity=\"1\" /><path clip-path=\"url(#clip810)\" d=\"M108.168 1455.76 Q104.557 1455.76 102.728 1459.32 Q100.922 1462.87 100.922 1470 Q100.922 1477.1 102.728 1480.67 Q104.557 1484.21 108.168 1484.21 Q111.802 1484.21 113.608 1480.67 Q115.436 1477.1 115.436 1470 Q115.436 1462.87 113.608 1459.32 Q111.802 1455.76 108.168 1455.76 M108.168 1452.06 Q113.978 1452.06 117.033 1456.66 Q120.112 1461.25 120.112 1470 Q120.112 1478.72 117.033 1483.33 Q113.978 1487.91 108.168 1487.91 Q102.358 1487.91 99.2789 1483.33 Q96.2234 1478.72 96.2234 1470 Q96.2234 1461.25 99.2789 1456.66 Q102.358 1452.06 108.168 1452.06 Z\" fill=\"#000000\" fill-rule=\"evenodd\" fill-opacity=\"1\" /><path clip-path=\"url(#clip810)\" d=\"M138.33 1455.76 Q134.719 1455.76 132.89 1459.32 Q131.084 1462.87 131.084 1470 Q131.084 1477.1 132.89 1480.67 Q134.719 1484.21 138.33 1484.21 Q141.964 1484.21 143.769 1480.67 Q145.598 1477.1 145.598 1470 Q145.598 1462.87 143.769 1459.32 Q141.964 1455.76 138.33 1455.76 M138.33 1452.06 Q144.14 1452.06 147.195 1456.66 Q150.274 1461.25 150.274 1470 Q150.274 1478.72 147.195 1483.33 Q144.14 1487.91 138.33 1487.91 Q132.519 1487.91 129.441 1483.33 Q126.385 1478.72 126.385 1470 Q126.385 1461.25 129.441 1456.66 Q132.519 1452.06 138.33 1452.06 Z\" fill=\"#000000\" fill-rule=\"evenodd\" fill-opacity=\"1\" /><path clip-path=\"url(#clip810)\" d=\"M63.9319 1110.26 Q60.3208 1110.26 58.4921 1113.83 Q56.6865 1117.37 56.6865 1124.5 Q56.6865 1131.61 58.4921 1135.17 Q60.3208 1138.71 63.9319 1138.71 Q67.5661 1138.71 69.3717 1135.17 Q71.2004 1131.61 71.2004 1124.5 Q71.2004 1117.37 69.3717 1113.83 Q67.5661 1110.26 63.9319 1110.26 M63.9319 1106.56 Q69.742 1106.56 72.7976 1111.17 Q75.8763 1115.75 75.8763 1124.5 Q75.8763 1133.23 72.7976 1137.83 Q69.742 1142.42 63.9319 1142.42 Q58.1217 1142.42 55.043 1137.83 Q51.9875 1133.23 51.9875 1124.5 Q51.9875 1115.75 55.043 1111.17 Q58.1217 1106.56 63.9319 1106.56 Z\" fill=\"#000000\" fill-rule=\"evenodd\" fill-opacity=\"1\" /><path clip-path=\"url(#clip810)\" d=\"M84.0938 1135.87 L88.978 1135.87 L88.978 1141.74 L84.0938 1141.74 L84.0938 1135.87 Z\" fill=\"#000000\" fill-rule=\"evenodd\" fill-opacity=\"1\" /><path clip-path=\"url(#clip810)\" d=\"M103.191 1137.81 L119.51 1137.81 L119.51 1141.74 L97.566 1141.74 L97.566 1137.81 Q100.228 1135.06 104.811 1130.43 Q109.418 1125.77 110.598 1124.43 Q112.844 1121.91 113.723 1120.17 Q114.626 1118.41 114.626 1116.72 Q114.626 1113.97 112.682 1112.23 Q110.76 1110.5 107.658 1110.5 Q105.459 1110.5 103.006 1111.26 Q100.575 1112.02 97.7974 1113.57 L97.7974 1108.85 Q100.621 1107.72 103.075 1107.14 Q105.529 1106.56 107.566 1106.56 Q112.936 1106.56 116.131 1109.25 Q119.325 1111.93 119.325 1116.42 Q119.325 1118.55 118.515 1120.47 Q117.728 1122.37 115.621 1124.96 Q115.043 1125.63 111.941 1128.85 Q108.839 1132.05 103.191 1137.81 Z\" fill=\"#000000\" fill-rule=\"evenodd\" fill-opacity=\"1\" /><path clip-path=\"url(#clip810)\" d=\"M129.371 1107.18 L147.728 1107.18 L147.728 1111.12 L133.654 1111.12 L133.654 1119.59 Q134.672 1119.24 135.691 1119.08 Q136.709 1118.9 137.728 1118.9 Q143.515 1118.9 146.894 1122.07 Q150.274 1125.24 150.274 1130.66 Q150.274 1136.24 146.802 1139.34 Q143.33 1142.42 137.01 1142.42 Q134.834 1142.42 132.566 1142.05 Q130.32 1141.68 127.913 1140.93 L127.913 1136.24 Q129.996 1137.37 132.219 1137.93 Q134.441 1138.48 136.918 1138.48 Q140.922 1138.48 143.26 1136.37 Q145.598 1134.27 145.598 1130.66 Q145.598 1127.05 143.26 1124.94 Q140.922 1122.83 136.918 1122.83 Q135.043 1122.83 133.168 1123.25 Q131.316 1123.67 129.371 1124.55 L129.371 1107.18 Z\" fill=\"#000000\" fill-rule=\"evenodd\" fill-opacity=\"1\" /><path clip-path=\"url(#clip810)\" d=\"M62.9365 764.767 Q59.3254 764.767 57.4967 768.332 Q55.6912 771.874 55.6912 779.003 Q55.6912 786.11 57.4967 789.675 Q59.3254 793.216 62.9365 793.216 Q66.5707 793.216 68.3763 789.675 Q70.205 786.11 70.205 779.003 Q70.205 771.874 68.3763 768.332 Q66.5707 764.767 62.9365 764.767 M62.9365 761.064 Q68.7467 761.064 71.8022 765.67 Q74.8809 770.253 74.8809 779.003 Q74.8809 787.73 71.8022 792.337 Q68.7467 796.92 62.9365 796.92 Q57.1264 796.92 54.0477 792.337 Q50.9921 787.73 50.9921 779.003 Q50.9921 770.253 54.0477 765.67 Q57.1264 761.064 62.9365 761.064 Z\" fill=\"#000000\" fill-rule=\"evenodd\" fill-opacity=\"1\" /><path clip-path=\"url(#clip810)\" d=\"M83.0984 790.369 L87.9827 790.369 L87.9827 796.249 L83.0984 796.249 L83.0984 790.369 Z\" fill=\"#000000\" fill-rule=\"evenodd\" fill-opacity=\"1\" /><path clip-path=\"url(#clip810)\" d=\"M98.2141 761.689 L116.57 761.689 L116.57 765.624 L102.496 765.624 L102.496 774.096 Q103.515 773.749 104.534 773.587 Q105.552 773.402 106.571 773.402 Q112.358 773.402 115.737 776.573 Q119.117 779.744 119.117 785.161 Q119.117 790.739 115.645 793.841 Q112.172 796.92 105.853 796.92 Q103.677 796.92 101.409 796.55 Q99.1632 796.179 96.7558 795.438 L96.7558 790.739 Q98.8391 791.874 101.061 792.429 Q103.284 792.985 105.76 792.985 Q109.765 792.985 112.103 790.878 Q114.441 788.772 114.441 785.161 Q114.441 781.55 112.103 779.443 Q109.765 777.337 105.76 777.337 Q103.885 777.337 102.01 777.753 Q100.159 778.17 98.2141 779.05 L98.2141 761.689 Z\" fill=\"#000000\" fill-rule=\"evenodd\" fill-opacity=\"1\" /><path clip-path=\"url(#clip810)\" d=\"M138.33 764.767 Q134.719 764.767 132.89 768.332 Q131.084 771.874 131.084 779.003 Q131.084 786.11 132.89 789.675 Q134.719 793.216 138.33 793.216 Q141.964 793.216 143.769 789.675 Q145.598 786.11 145.598 779.003 Q145.598 771.874 143.769 768.332 Q141.964 764.767 138.33 764.767 M138.33 761.064 Q144.14 761.064 147.195 765.67 Q150.274 770.253 150.274 779.003 Q150.274 787.73 147.195 792.337 Q144.14 796.92 138.33 796.92 Q132.519 796.92 129.441 792.337 Q126.385 787.73 126.385 779.003 Q126.385 770.253 129.441 765.67 Q132.519 761.064 138.33 761.064 Z\" fill=\"#000000\" fill-rule=\"evenodd\" fill-opacity=\"1\" /><path clip-path=\"url(#clip810)\" d=\"M63.9319 419.271 Q60.3208 419.271 58.4921 422.836 Q56.6865 426.378 56.6865 433.507 Q56.6865 440.614 58.4921 444.178 Q60.3208 447.72 63.9319 447.72 Q67.5661 447.72 69.3717 444.178 Q71.2004 440.614 71.2004 433.507 Q71.2004 426.378 69.3717 422.836 Q67.5661 419.271 63.9319 419.271 M63.9319 415.567 Q69.742 415.567 72.7976 420.174 Q75.8763 424.757 75.8763 433.507 Q75.8763 442.234 72.7976 446.84 Q69.742 451.424 63.9319 451.424 Q58.1217 451.424 55.043 446.84 Q51.9875 442.234 51.9875 433.507 Q51.9875 424.757 55.043 420.174 Q58.1217 415.567 63.9319 415.567 Z\" fill=\"#000000\" fill-rule=\"evenodd\" fill-opacity=\"1\" /><path clip-path=\"url(#clip810)\" d=\"M84.0938 444.873 L88.978 444.873 L88.978 450.752 L84.0938 450.752 L84.0938 444.873 Z\" fill=\"#000000\" fill-rule=\"evenodd\" fill-opacity=\"1\" /><path clip-path=\"url(#clip810)\" d=\"M97.9826 416.192 L120.205 416.192 L120.205 418.183 L107.658 450.752 L102.774 450.752 L114.58 420.128 L97.9826 420.128 L97.9826 416.192 Z\" fill=\"#000000\" fill-rule=\"evenodd\" fill-opacity=\"1\" /><path clip-path=\"url(#clip810)\" d=\"M129.371 416.192 L147.728 416.192 L147.728 420.128 L133.654 420.128 L133.654 428.6 Q134.672 428.253 135.691 428.091 Q136.709 427.905 137.728 427.905 Q143.515 427.905 146.894 431.077 Q150.274 434.248 150.274 439.665 Q150.274 445.243 146.802 448.345 Q143.33 451.424 137.01 451.424 Q134.834 451.424 132.566 451.053 Q130.32 450.683 127.913 449.942 L127.913 445.243 Q129.996 446.377 132.219 446.933 Q134.441 447.489 136.918 447.489 Q140.922 447.489 143.26 445.382 Q145.598 443.276 145.598 439.665 Q145.598 436.053 143.26 433.947 Q140.922 431.841 136.918 431.841 Q135.043 431.841 133.168 432.257 Q131.316 432.674 129.371 433.553 L129.371 416.192 Z\" fill=\"#000000\" fill-rule=\"evenodd\" fill-opacity=\"1\" /><path clip-path=\"url(#clip810)\" d=\"M53.7467 101.321 L61.3856 101.321 L61.3856 74.9555 L53.0754 76.6222 L53.0754 72.3629 L61.3393 70.6963 L66.0152 70.6963 L66.0152 101.321 L73.654 101.321 L73.654 105.256 L53.7467 105.256 L53.7467 101.321 Z\" fill=\"#000000\" fill-rule=\"evenodd\" fill-opacity=\"1\" /><path clip-path=\"url(#clip810)\" d=\"M83.0984 99.3767 L87.9827 99.3767 L87.9827 105.256 L83.0984 105.256 L83.0984 99.3767 Z\" fill=\"#000000\" fill-rule=\"evenodd\" fill-opacity=\"1\" /><path clip-path=\"url(#clip810)\" d=\"M108.168 73.775 Q104.557 73.775 102.728 77.3398 Q100.922 80.8814 100.922 88.011 Q100.922 95.1174 102.728 98.6822 Q104.557 102.224 108.168 102.224 Q111.802 102.224 113.608 98.6822 Q115.436 95.1174 115.436 88.011 Q115.436 80.8814 113.608 77.3398 Q111.802 73.775 108.168 73.775 M108.168 70.0713 Q113.978 70.0713 117.033 74.6777 Q120.112 79.261 120.112 88.011 Q120.112 96.7378 117.033 101.344 Q113.978 105.928 108.168 105.928 Q102.358 105.928 99.2789 101.344 Q96.2234 96.7378 96.2234 88.011 Q96.2234 79.261 99.2789 74.6777 Q102.358 70.0713 108.168 70.0713 Z\" fill=\"#000000\" fill-rule=\"evenodd\" fill-opacity=\"1\" /><path clip-path=\"url(#clip810)\" d=\"M138.33 73.775 Q134.719 73.775 132.89 77.3398 Q131.084 80.8814 131.084 88.011 Q131.084 95.1174 132.89 98.6822 Q134.719 102.224 138.33 102.224 Q141.964 102.224 143.769 98.6822 Q145.598 95.1174 145.598 88.011 Q145.598 80.8814 143.769 77.3398 Q141.964 73.775 138.33 73.775 M138.33 70.0713 Q144.14 70.0713 147.195 74.6777 Q150.274 79.261 150.274 88.011 Q150.274 96.7378 147.195 101.344 Q144.14 105.928 138.33 105.928 Q132.519 105.928 129.441 101.344 Q126.385 96.7378 126.385 88.011 Q126.385 79.261 129.441 74.6777 Q132.519 70.0713 138.33 70.0713 Z\" fill=\"#000000\" fill-rule=\"evenodd\" fill-opacity=\"1\" /><polyline clip-path=\"url(#clip812)\" style=\"stroke:#009af9; stroke-linecap:butt; stroke-linejoin:round; stroke-width:4; stroke-opacity:1; fill:none\" points=\"\n",
       "  247.59,917.167 399.791,1193.56 530.25,597.129 660.708,622.938 791.167,371.46 943.369,458.753 1073.83,312.951 1204.29,238.192 1334.74,268.235 1486.95,392.013 \n",
       "  1617.4,313.606 1747.86,263.865 1878.32,134.823 2030.52,87.9763 2160.98,87.9763 2291.44,87.9763 \n",
       "  \"/>\n",
       "<circle clip-path=\"url(#clip812)\" cx=\"247.59\" cy=\"917.167\" r=\"14\" fill=\"#009af9\" fill-rule=\"evenodd\" fill-opacity=\"1\" stroke=\"#000000\" stroke-opacity=\"1\" stroke-width=\"3.2\"/>\n",
       "<circle clip-path=\"url(#clip812)\" cx=\"399.791\" cy=\"1193.56\" r=\"14\" fill=\"#009af9\" fill-rule=\"evenodd\" fill-opacity=\"1\" stroke=\"#000000\" stroke-opacity=\"1\" stroke-width=\"3.2\"/>\n",
       "<circle clip-path=\"url(#clip812)\" cx=\"530.25\" cy=\"597.129\" r=\"14\" fill=\"#009af9\" fill-rule=\"evenodd\" fill-opacity=\"1\" stroke=\"#000000\" stroke-opacity=\"1\" stroke-width=\"3.2\"/>\n",
       "<circle clip-path=\"url(#clip812)\" cx=\"660.708\" cy=\"622.938\" r=\"14\" fill=\"#009af9\" fill-rule=\"evenodd\" fill-opacity=\"1\" stroke=\"#000000\" stroke-opacity=\"1\" stroke-width=\"3.2\"/>\n",
       "<circle clip-path=\"url(#clip812)\" cx=\"791.167\" cy=\"371.46\" r=\"14\" fill=\"#009af9\" fill-rule=\"evenodd\" fill-opacity=\"1\" stroke=\"#000000\" stroke-opacity=\"1\" stroke-width=\"3.2\"/>\n",
       "<circle clip-path=\"url(#clip812)\" cx=\"943.369\" cy=\"458.753\" r=\"14\" fill=\"#009af9\" fill-rule=\"evenodd\" fill-opacity=\"1\" stroke=\"#000000\" stroke-opacity=\"1\" stroke-width=\"3.2\"/>\n",
       "<circle clip-path=\"url(#clip812)\" cx=\"1073.83\" cy=\"312.951\" r=\"14\" fill=\"#009af9\" fill-rule=\"evenodd\" fill-opacity=\"1\" stroke=\"#000000\" stroke-opacity=\"1\" stroke-width=\"3.2\"/>\n",
       "<circle clip-path=\"url(#clip812)\" cx=\"1204.29\" cy=\"238.192\" r=\"14\" fill=\"#009af9\" fill-rule=\"evenodd\" fill-opacity=\"1\" stroke=\"#000000\" stroke-opacity=\"1\" stroke-width=\"3.2\"/>\n",
       "<circle clip-path=\"url(#clip812)\" cx=\"1334.74\" cy=\"268.235\" r=\"14\" fill=\"#009af9\" fill-rule=\"evenodd\" fill-opacity=\"1\" stroke=\"#000000\" stroke-opacity=\"1\" stroke-width=\"3.2\"/>\n",
       "<circle clip-path=\"url(#clip812)\" cx=\"1486.95\" cy=\"392.013\" r=\"14\" fill=\"#009af9\" fill-rule=\"evenodd\" fill-opacity=\"1\" stroke=\"#000000\" stroke-opacity=\"1\" stroke-width=\"3.2\"/>\n",
       "<circle clip-path=\"url(#clip812)\" cx=\"1617.4\" cy=\"313.606\" r=\"14\" fill=\"#009af9\" fill-rule=\"evenodd\" fill-opacity=\"1\" stroke=\"#000000\" stroke-opacity=\"1\" stroke-width=\"3.2\"/>\n",
       "<circle clip-path=\"url(#clip812)\" cx=\"1747.86\" cy=\"263.865\" r=\"14\" fill=\"#009af9\" fill-rule=\"evenodd\" fill-opacity=\"1\" stroke=\"#000000\" stroke-opacity=\"1\" stroke-width=\"3.2\"/>\n",
       "<circle clip-path=\"url(#clip812)\" cx=\"1878.32\" cy=\"134.823\" r=\"14\" fill=\"#009af9\" fill-rule=\"evenodd\" fill-opacity=\"1\" stroke=\"#000000\" stroke-opacity=\"1\" stroke-width=\"3.2\"/>\n",
       "<circle clip-path=\"url(#clip812)\" cx=\"2030.52\" cy=\"87.9763\" r=\"14\" fill=\"#009af9\" fill-rule=\"evenodd\" fill-opacity=\"1\" stroke=\"#000000\" stroke-opacity=\"1\" stroke-width=\"3.2\"/>\n",
       "<circle clip-path=\"url(#clip812)\" cx=\"2160.98\" cy=\"87.9763\" r=\"14\" fill=\"#009af9\" fill-rule=\"evenodd\" fill-opacity=\"1\" stroke=\"#000000\" stroke-opacity=\"1\" stroke-width=\"3.2\"/>\n",
       "<circle clip-path=\"url(#clip812)\" cx=\"2291.44\" cy=\"87.9763\" r=\"14\" fill=\"#009af9\" fill-rule=\"evenodd\" fill-opacity=\"1\" stroke=\"#000000\" stroke-opacity=\"1\" stroke-width=\"3.2\"/>\n",
       "<polyline clip-path=\"url(#clip812)\" style=\"stroke:#e26f46; stroke-linecap:butt; stroke-linejoin:round; stroke-width:4; stroke-opacity:1; fill:none\" points=\"\n",
       "  247.59,1445.72 399.791,1363.65 530.25,1180.71 660.708,845.839 791.167,929.184 943.369,614.447 1073.83,451.656 1204.29,951.717 1334.74,606.221 1486.95,894.134 \n",
       "  1617.4,725.815 1747.86,87.9763 1878.32,87.9763 2030.52,87.9763 \n",
       "  \"/>\n",
       "<circle clip-path=\"url(#clip812)\" cx=\"247.59\" cy=\"1445.72\" r=\"14\" fill=\"#e26f46\" fill-rule=\"evenodd\" fill-opacity=\"1\" stroke=\"#000000\" stroke-opacity=\"1\" stroke-width=\"3.2\"/>\n",
       "<circle clip-path=\"url(#clip812)\" cx=\"399.791\" cy=\"1363.65\" r=\"14\" fill=\"#e26f46\" fill-rule=\"evenodd\" fill-opacity=\"1\" stroke=\"#000000\" stroke-opacity=\"1\" stroke-width=\"3.2\"/>\n",
       "<circle clip-path=\"url(#clip812)\" cx=\"530.25\" cy=\"1180.71\" r=\"14\" fill=\"#e26f46\" fill-rule=\"evenodd\" fill-opacity=\"1\" stroke=\"#000000\" stroke-opacity=\"1\" stroke-width=\"3.2\"/>\n",
       "<circle clip-path=\"url(#clip812)\" cx=\"660.708\" cy=\"845.839\" r=\"14\" fill=\"#e26f46\" fill-rule=\"evenodd\" fill-opacity=\"1\" stroke=\"#000000\" stroke-opacity=\"1\" stroke-width=\"3.2\"/>\n",
       "<circle clip-path=\"url(#clip812)\" cx=\"791.167\" cy=\"929.184\" r=\"14\" fill=\"#e26f46\" fill-rule=\"evenodd\" fill-opacity=\"1\" stroke=\"#000000\" stroke-opacity=\"1\" stroke-width=\"3.2\"/>\n",
       "<circle clip-path=\"url(#clip812)\" cx=\"943.369\" cy=\"614.447\" r=\"14\" fill=\"#e26f46\" fill-rule=\"evenodd\" fill-opacity=\"1\" stroke=\"#000000\" stroke-opacity=\"1\" stroke-width=\"3.2\"/>\n",
       "<circle clip-path=\"url(#clip812)\" cx=\"1073.83\" cy=\"451.656\" r=\"14\" fill=\"#e26f46\" fill-rule=\"evenodd\" fill-opacity=\"1\" stroke=\"#000000\" stroke-opacity=\"1\" stroke-width=\"3.2\"/>\n",
       "<circle clip-path=\"url(#clip812)\" cx=\"1204.29\" cy=\"951.717\" r=\"14\" fill=\"#e26f46\" fill-rule=\"evenodd\" fill-opacity=\"1\" stroke=\"#000000\" stroke-opacity=\"1\" stroke-width=\"3.2\"/>\n",
       "<circle clip-path=\"url(#clip812)\" cx=\"1334.74\" cy=\"606.221\" r=\"14\" fill=\"#e26f46\" fill-rule=\"evenodd\" fill-opacity=\"1\" stroke=\"#000000\" stroke-opacity=\"1\" stroke-width=\"3.2\"/>\n",
       "<circle clip-path=\"url(#clip812)\" cx=\"1486.95\" cy=\"894.134\" r=\"14\" fill=\"#e26f46\" fill-rule=\"evenodd\" fill-opacity=\"1\" stroke=\"#000000\" stroke-opacity=\"1\" stroke-width=\"3.2\"/>\n",
       "<circle clip-path=\"url(#clip812)\" cx=\"1617.4\" cy=\"725.815\" r=\"14\" fill=\"#e26f46\" fill-rule=\"evenodd\" fill-opacity=\"1\" stroke=\"#000000\" stroke-opacity=\"1\" stroke-width=\"3.2\"/>\n",
       "<circle clip-path=\"url(#clip812)\" cx=\"1747.86\" cy=\"87.9763\" r=\"14\" fill=\"#e26f46\" fill-rule=\"evenodd\" fill-opacity=\"1\" stroke=\"#000000\" stroke-opacity=\"1\" stroke-width=\"3.2\"/>\n",
       "<circle clip-path=\"url(#clip812)\" cx=\"1878.32\" cy=\"87.9763\" r=\"14\" fill=\"#e26f46\" fill-rule=\"evenodd\" fill-opacity=\"1\" stroke=\"#000000\" stroke-opacity=\"1\" stroke-width=\"3.2\"/>\n",
       "<circle clip-path=\"url(#clip812)\" cx=\"2030.52\" cy=\"87.9763\" r=\"14\" fill=\"#e26f46\" fill-rule=\"evenodd\" fill-opacity=\"1\" stroke=\"#000000\" stroke-opacity=\"1\" stroke-width=\"3.2\"/>\n",
       "<path clip-path=\"url(#clip810)\" d=\"\n",
       "M1858.64 1438.47 L2280.54 1438.47 L2280.54 1282.95 L1858.64 1282.95  Z\n",
       "  \" fill=\"#ffffff\" fill-rule=\"evenodd\" fill-opacity=\"1\"/>\n",
       "<polyline clip-path=\"url(#clip810)\" style=\"stroke:#000000; stroke-linecap:butt; stroke-linejoin:round; stroke-width:4; stroke-opacity:1; fill:none\" points=\"\n",
       "  1858.64,1438.47 2280.54,1438.47 2280.54,1282.95 1858.64,1282.95 1858.64,1438.47 \n",
       "  \"/>\n",
       "<polyline clip-path=\"url(#clip810)\" style=\"stroke:#009af9; stroke-linecap:butt; stroke-linejoin:round; stroke-width:4; stroke-opacity:1; fill:none\" points=\"\n",
       "  1882.71,1334.79 2027.14,1334.79 \n",
       "  \"/>\n",
       "<circle clip-path=\"url(#clip810)\" cx=\"1954.93\" cy=\"1334.79\" r=\"23\" fill=\"#009af9\" fill-rule=\"evenodd\" fill-opacity=\"1\" stroke=\"#000000\" stroke-opacity=\"1\" stroke-width=\"5.12\"/>\n",
       "<path clip-path=\"url(#clip810)\" d=\"M2051.22 1317.51 L2080.45 1317.51 L2080.45 1321.45 L2068.18 1321.45 L2068.18 1352.07 L2063.48 1352.07 L2063.48 1321.45 L2051.22 1321.45 L2051.22 1317.51 Z\" fill=\"#000000\" fill-rule=\"evenodd\" fill-opacity=\"1\" /><path clip-path=\"url(#clip810)\" d=\"M2095.01 1316.1 Q2091.91 1321.43 2090.41 1326.63 Q2088.9 1331.84 2088.9 1337.19 Q2088.9 1342.54 2090.41 1347.79 Q2091.93 1353.02 2095.01 1358.32 L2091.31 1358.32 Q2087.84 1352.88 2086.1 1347.63 Q2084.39 1342.38 2084.39 1337.19 Q2084.39 1332.03 2086.1 1326.8 Q2087.81 1321.57 2091.31 1316.1 L2095.01 1316.1 Z\" fill=\"#000000\" fill-rule=\"evenodd\" fill-opacity=\"1\" /><path clip-path=\"url(#clip810)\" d=\"M2120.61 1322.35 L2120.61 1335.25 L2133.51 1335.25 L2133.51 1339.18 L2120.61 1339.18 L2120.61 1352.07 L2116.73 1352.07 L2116.73 1339.18 L2103.83 1339.18 L2103.83 1335.25 L2116.73 1335.25 L2116.73 1322.35 L2120.61 1322.35 Z\" fill=\"#000000\" fill-rule=\"evenodd\" fill-opacity=\"1\" /><path clip-path=\"url(#clip810)\" d=\"M2175.94 1336.17 L2175.94 1338.26 L2166.84 1347.35 L2164.06 1344.57 L2169.46 1339.18 L2141.24 1339.18 L2141.24 1335.25 L2169.46 1335.25 L2164.06 1329.85 L2166.84 1327.07 L2175.94 1336.17 Z\" fill=\"#000000\" fill-rule=\"evenodd\" fill-opacity=\"1\" /><path clip-path=\"url(#clip810)\" d=\"M2200.06 1322.35 L2200.06 1335.25 L2212.95 1335.25 L2212.95 1339.18 L2200.06 1339.18 L2200.06 1352.07 L2196.17 1352.07 L2196.17 1339.18 L2183.28 1339.18 L2183.28 1335.25 L2196.17 1335.25 L2196.17 1322.35 L2200.06 1322.35 Z\" fill=\"#000000\" fill-rule=\"evenodd\" fill-opacity=\"1\" /><path clip-path=\"url(#clip810)\" d=\"M2221.77 1316.1 L2225.47 1316.1 Q2228.95 1321.57 2230.66 1326.8 Q2232.4 1332.03 2232.4 1337.19 Q2232.4 1342.38 2230.66 1347.63 Q2228.95 1352.88 2225.47 1358.32 L2221.77 1358.32 Q2224.85 1353.02 2226.35 1347.79 Q2227.88 1342.54 2227.88 1337.19 Q2227.88 1331.84 2226.35 1326.63 Q2224.85 1321.43 2221.77 1316.1 Z\" fill=\"#000000\" fill-rule=\"evenodd\" fill-opacity=\"1\" /><polyline clip-path=\"url(#clip810)\" style=\"stroke:#e26f46; stroke-linecap:butt; stroke-linejoin:round; stroke-width:4; stroke-opacity:1; fill:none\" points=\"\n",
       "  1882.71,1386.63 2027.14,1386.63 \n",
       "  \"/>\n",
       "<circle clip-path=\"url(#clip810)\" cx=\"1954.93\" cy=\"1386.63\" r=\"23\" fill=\"#e26f46\" fill-rule=\"evenodd\" fill-opacity=\"1\" stroke=\"#000000\" stroke-opacity=\"1\" stroke-width=\"5.12\"/>\n",
       "<path clip-path=\"url(#clip810)\" d=\"M2051.22 1369.35 L2080.45 1369.35 L2080.45 1373.29 L2068.18 1373.29 L2068.18 1403.91 L2063.48 1403.91 L2063.48 1373.29 L2051.22 1373.29 L2051.22 1369.35 Z\" fill=\"#000000\" fill-rule=\"evenodd\" fill-opacity=\"1\" /><path clip-path=\"url(#clip810)\" d=\"M2095.01 1367.94 Q2091.91 1373.27 2090.41 1378.47 Q2088.9 1383.68 2088.9 1389.03 Q2088.9 1394.38 2090.41 1399.63 Q2091.93 1404.86 2095.01 1410.16 L2091.31 1410.16 Q2087.84 1404.72 2086.1 1399.47 Q2084.39 1394.22 2084.39 1389.03 Q2084.39 1383.87 2086.1 1378.64 Q2087.81 1373.41 2091.31 1367.94 L2095.01 1367.94 Z\" fill=\"#000000\" fill-rule=\"evenodd\" fill-opacity=\"1\" /><path clip-path=\"url(#clip810)\" d=\"M2103.83 1387.09 L2133.51 1387.09 L2133.51 1391.02 L2103.83 1391.02 L2103.83 1387.09 Z\" fill=\"#000000\" fill-rule=\"evenodd\" fill-opacity=\"1\" /><path clip-path=\"url(#clip810)\" d=\"M2175.94 1388.01 L2175.94 1390.1 L2166.84 1399.19 L2164.06 1396.41 L2169.46 1391.02 L2141.24 1391.02 L2141.24 1387.09 L2169.46 1387.09 L2164.06 1381.69 L2166.84 1378.91 L2175.94 1388.01 Z\" fill=\"#000000\" fill-rule=\"evenodd\" fill-opacity=\"1\" /><path clip-path=\"url(#clip810)\" d=\"M2200.06 1374.19 L2200.06 1387.09 L2212.95 1387.09 L2212.95 1391.02 L2200.06 1391.02 L2200.06 1403.91 L2196.17 1403.91 L2196.17 1391.02 L2183.28 1391.02 L2183.28 1387.09 L2196.17 1387.09 L2196.17 1374.19 L2200.06 1374.19 Z\" fill=\"#000000\" fill-rule=\"evenodd\" fill-opacity=\"1\" /><path clip-path=\"url(#clip810)\" d=\"M2221.77 1367.94 L2225.47 1367.94 Q2228.95 1373.41 2230.66 1378.64 Q2232.4 1383.87 2232.4 1389.03 Q2232.4 1394.22 2230.66 1399.47 Q2228.95 1404.72 2225.47 1410.16 L2221.77 1410.16 Q2224.85 1404.86 2226.35 1399.63 Q2227.88 1394.38 2227.88 1389.03 Q2227.88 1383.68 2226.35 1378.47 Q2224.85 1373.27 2221.77 1367.94 Z\" fill=\"#000000\" fill-rule=\"evenodd\" fill-opacity=\"1\" /></svg>\n"
      ]
     },
     "metadata": {},
     "output_type": "display_data"
    }
   ],
   "source": [
    "points = 16\n",
    "\n",
    "chosen_ths = [0:points-1...] ./ points\n",
    "inds = [findfirst(ths .>= chosen_ths[i]) for i in 1:length(chosen_ths)]\n",
    "\n",
    "plot(ths[inds], bal_to_bals[inds], markershape = :circle, label = \"T(+→+)\", legend = :bottomright)\n",
    "plot!(ths[inds], ubal_to_bals[inds], markershape = :circle, label = \"T(−→+)\") "
   ]
  },
  {
   "cell_type": "code",
   "execution_count": 242,
   "metadata": {},
   "outputs": [
    {
     "data": {
      "image/png": "[encoded data removed]",
      "image/svg+xml": "<?xml version=\"1.0\" encoding=\"utf-8\"?>\n<svg xmlns=\"http://www.w3.org/2000/svg\" xmlns:xlink=\"http://www.w3.org/1999/xlink\" width=\"600\" height=\"400\" viewBox=\"0 0 2400 1600\">\n<defs>\n  <clipPath id=\"clip850\">\n    <rect x=\"0\" y=\"0\" width=\"2400\" height=\"1600\"/>\n  </clipPath>\n</defs>\n<path clip-path=\"url(#clip850)\" d=\"\nM0 1600 L2400 1600 L2400 0 L0 0  Z\n  \" fill=\"#ffffff\" fill-rule=\"evenodd\" fill-opacity=\"1\"/>\n<defs>\n  <clipPath id=\"clip851\">\n    <rect x=\"480\" y=\"0\" width=\"1681\" height=\"1600\"/>\n  </clipPath>\n</defs>\n<path clip-path=\"url(#clip850)\" d=\"\nM186.274 1486.45 L2352.76 1486.45 L2352.76 47.2441 L186.274 47.2441  Z\n  \" fill=\"#ffffff\" fill-rule=\"evenodd\" fill-opacity=\"1\"/>\n<defs>\n  <clipPath id=\"clip852\">\n    <rect x=\"186\" y=\"47\" width=\"2167\" height=\"1440\"/>\n  </clipPath>\n</defs>\n<polyline clip-path=\"url(#clip852)\" style=\"stroke:#000000; stroke-linecap:butt; stroke-linejoin:round; stroke-width:2; stroke-opacity:0.1; fill:none\" points=\"\n  247.59,1486.45 247.59,47.2441 \n  \"/>\n<polyline clip-path=\"url(#clip852)\" style=\"stroke:#000000; stroke-linecap:butt; stroke-linejoin:round; stroke-width:2; stroke-opacity:0.1; fill:none\" points=\"\n  682.451,1486.45 682.451,47.2441 \n  \"/>\n<polyline clip-path=\"url(#clip852)\" style=\"stroke:#000000; stroke-linecap:butt; stroke-linejoin:round; stroke-width:2; stroke-opacity:0.1; fill:none\" points=\"\n  1117.31,1486.45 1117.31,47.2441 \n  \"/>\n<polyline clip-path=\"url(#clip852)\" style=\"stroke:#000000; stroke-linecap:butt; stroke-linejoin:round; stroke-width:2; stroke-opacity:0.1; fill:none\" points=\"\n  1552.18,1486.45 1552.18,47.2441 \n  \"/>\n<polyline clip-path=\"url(#clip852)\" style=\"stroke:#000000; stroke-linecap:butt; stroke-linejoin:round; stroke-width:2; stroke-opacity:0.1; fill:none\" points=\"\n  1987.04,1486.45 1987.04,47.2441 \n  \"/>\n<polyline clip-path=\"url(#clip850)\" style=\"stroke:#000000; stroke-linecap:butt; stroke-linejoin:round; stroke-width:4; stroke-opacity:1; fill:none\" points=\"\n  186.274,1486.45 2352.76,1486.45 \n  \"/>\n<polyline clip-path=\"url(#clip850)\" style=\"stroke:#000000; stroke-linecap:butt; stroke-linejoin:round; stroke-width:4; stroke-opacity:1; fill:none\" points=\"\n  247.59,1486.45 247.59,1467.55 \n  \"/>\n<polyline clip-path=\"url(#clip850)\" style=\"stroke:#000000; stroke-linecap:butt; stroke-linejoin:round; stroke-width:4; stroke-opacity:1; fill:none\" points=\"\n  682.451,1486.45 682.451,1467.55 \n  \"/>\n<polyline clip-path=\"url(#clip850)\" style=\"stroke:#000000; stroke-linecap:butt; stroke-linejoin:round; stroke-width:4; stroke-opacity:1; fill:none\" points=\"\n  1117.31,1486.45 1117.31,1467.55 \n  \"/>\n<polyline clip-path=\"url(#clip850)\" style=\"stroke:#000000; stroke-linecap:butt; stroke-linejoin:round; stroke-width:4; stroke-opacity:1; fill:none\" points=\"\n  1552.18,1486.45 1552.18,1467.55 \n  \"/>\n<polyline clip-path=\"url(#clip850)\" style=\"stroke:#000000; stroke-linecap:butt; stroke-linejoin:round; stroke-width:4; stroke-opacity:1; fill:none\" points=\"\n  1987.04,1486.45 1987.04,1467.55 \n  \"/>\n<path clip-path=\"url(#clip850)\" d=\"M224.974 1517.37 Q221.363 1517.37 219.534 1520.93 Q217.729 1524.47 217.729 1531.6 Q217.729 1538.71 219.534 1542.27 Q221.363 1545.82 224.974 1545.82 Q228.608 1545.82 230.414 1542.27 Q232.242 1538.71 232.242 1531.6 Q232.242 1524.47 230.414 1520.93 Q228.608 1517.37 224.974 1517.37 M224.974 1513.66 Q230.784 1513.66 233.84 1518.27 Q236.918 1522.85 236.918 1531.6 Q236.918 1540.33 233.84 1544.94 Q230.784 1549.52 224.974 1549.52 Q219.164 1549.52 216.085 1544.94 Q213.03 1540.33 213.03 1531.6 Q213.03 1522.85 216.085 1518.27 Q219.164 1513.66 224.974 1513.66 Z\" fill=\"#000000\" fill-rule=\"evenodd\" fill-opacity=\"1\" /><path clip-path=\"url(#clip850)\" d=\"M245.136 1542.97 L250.02 1542.97 L250.02 1548.85 L245.136 1548.85 L245.136 1542.97 Z\" fill=\"#000000\" fill-rule=\"evenodd\" fill-opacity=\"1\" /><path clip-path=\"url(#clip850)\" d=\"M270.205 1517.37 Q266.594 1517.37 264.765 1520.93 Q262.96 1524.47 262.96 1531.6 Q262.96 1538.71 264.765 1542.27 Q266.594 1545.82 270.205 1545.82 Q273.839 1545.82 275.645 1542.27 Q277.474 1538.71 277.474 1531.6 Q277.474 1524.47 275.645 1520.93 Q273.839 1517.37 270.205 1517.37 M270.205 1513.66 Q276.015 1513.66 279.071 1518.27 Q282.15 1522.85 282.15 1531.6 Q282.15 1540.33 279.071 1544.94 Q276.015 1549.52 270.205 1549.52 Q264.395 1549.52 261.316 1544.94 Q258.261 1540.33 258.261 1531.6 Q258.261 1522.85 261.316 1518.27 Q264.395 1513.66 270.205 1513.66 Z\" fill=\"#000000\" fill-rule=\"evenodd\" fill-opacity=\"1\" /><path clip-path=\"url(#clip850)\" d=\"M660.634 1517.37 Q657.023 1517.37 655.195 1520.93 Q653.389 1524.47 653.389 1531.6 Q653.389 1538.71 655.195 1542.27 Q657.023 1545.82 660.634 1545.82 Q664.269 1545.82 666.074 1542.27 Q667.903 1538.71 667.903 1531.6 Q667.903 1524.47 666.074 1520.93 Q664.269 1517.37 660.634 1517.37 M660.634 1513.66 Q666.445 1513.66 669.5 1518.27 Q672.579 1522.85 672.579 1531.6 Q672.579 1540.33 669.5 1544.94 Q666.445 1549.52 660.634 1549.52 Q654.824 1549.52 651.746 1544.94 Q648.69 1540.33 648.69 1531.6 Q648.69 1522.85 651.746 1518.27 Q654.824 1513.66 660.634 1513.66 Z\" fill=\"#000000\" fill-rule=\"evenodd\" fill-opacity=\"1\" /><path clip-path=\"url(#clip850)\" d=\"M680.796 1542.97 L685.681 1542.97 L685.681 1548.85 L680.796 1548.85 L680.796 1542.97 Z\" fill=\"#000000\" fill-rule=\"evenodd\" fill-opacity=\"1\" /><path clip-path=\"url(#clip850)\" d=\"M699.893 1544.91 L716.213 1544.91 L716.213 1548.85 L694.268 1548.85 L694.268 1544.91 Q696.93 1542.16 701.514 1537.53 Q706.12 1532.88 707.301 1531.53 Q709.546 1529.01 710.426 1527.27 Q711.329 1525.51 711.329 1523.82 Q711.329 1521.07 709.384 1519.33 Q707.463 1517.6 704.361 1517.6 Q702.162 1517.6 699.708 1518.36 Q697.278 1519.13 694.5 1520.68 L694.5 1515.95 Q697.324 1514.82 699.778 1514.24 Q702.231 1513.66 704.268 1513.66 Q709.639 1513.66 712.833 1516.35 Q716.028 1519.03 716.028 1523.52 Q716.028 1525.65 715.217 1527.57 Q714.43 1529.47 712.324 1532.07 Q711.745 1532.74 708.643 1535.95 Q705.542 1539.15 699.893 1544.91 Z\" fill=\"#000000\" fill-rule=\"evenodd\" fill-opacity=\"1\" /><path clip-path=\"url(#clip850)\" d=\"M1094.45 1517.37 Q1090.84 1517.37 1089.01 1520.93 Q1087.21 1524.47 1087.21 1531.6 Q1087.21 1538.71 1089.01 1542.27 Q1090.84 1545.82 1094.45 1545.82 Q1098.09 1545.82 1099.89 1542.27 Q1101.72 1538.71 1101.72 1531.6 Q1101.72 1524.47 1099.89 1520.93 Q1098.09 1517.37 1094.45 1517.37 M1094.45 1513.66 Q1100.26 1513.66 1103.32 1518.27 Q1106.4 1522.85 1106.4 1531.6 Q1106.4 1540.33 1103.32 1544.94 Q1100.26 1549.52 1094.45 1549.52 Q1088.64 1549.52 1085.57 1544.94 Q1082.51 1540.33 1082.51 1531.6 Q1082.51 1522.85 1085.57 1518.27 Q1088.64 1513.66 1094.45 1513.66 Z\" fill=\"#000000\" fill-rule=\"evenodd\" fill-opacity=\"1\" /><path clip-path=\"url(#clip850)\" d=\"M1114.62 1542.97 L1119.5 1542.97 L1119.5 1548.85 L1114.62 1548.85 L1114.62 1542.97 Z\" fill=\"#000000\" fill-rule=\"evenodd\" fill-opacity=\"1\" /><path clip-path=\"url(#clip850)\" d=\"M1142.53 1518.36 L1130.73 1536.81 L1142.53 1536.81 L1142.53 1518.36 M1141.31 1514.29 L1147.19 1514.29 L1147.19 1536.81 L1152.12 1536.81 L1152.12 1540.7 L1147.19 1540.7 L1147.19 1548.85 L1142.53 1548.85 L1142.53 1540.7 L1126.93 1540.7 L1126.93 1536.19 L1141.31 1514.29 Z\" fill=\"#000000\" fill-rule=\"evenodd\" fill-opacity=\"1\" /><path clip-path=\"url(#clip850)\" d=\"M1529.48 1517.37 Q1525.87 1517.37 1524.04 1520.93 Q1522.23 1524.47 1522.23 1531.6 Q1522.23 1538.71 1524.04 1542.27 Q1525.87 1545.82 1529.48 1545.82 Q1533.11 1545.82 1534.92 1542.27 Q1536.75 1538.71 1536.75 1531.6 Q1536.75 1524.47 1534.92 1520.93 Q1533.11 1517.37 1529.48 1517.37 M1529.48 1513.66 Q1535.29 1513.66 1538.34 1518.27 Q1541.42 1522.85 1541.42 1531.6 Q1541.42 1540.33 1538.34 1544.94 Q1535.29 1549.52 1529.48 1549.52 Q1523.67 1549.52 1520.59 1544.94 Q1517.53 1540.33 1517.53 1531.6 Q1517.53 1522.85 1520.59 1518.27 Q1523.67 1513.66 1529.48 1513.66 Z\" fill=\"#000000\" fill-rule=\"evenodd\" fill-opacity=\"1\" /><path clip-path=\"url(#clip850)\" d=\"M1549.64 1542.97 L1554.52 1542.97 L1554.52 1548.85 L1549.64 1548.85 L1549.64 1542.97 Z\" fill=\"#000000\" fill-rule=\"evenodd\" fill-opacity=\"1\" /><path clip-path=\"url(#clip850)\" d=\"M1575.29 1529.7 Q1572.14 1529.7 1570.29 1531.86 Q1568.46 1534.01 1568.46 1537.76 Q1568.46 1541.49 1570.29 1543.66 Q1572.14 1545.82 1575.29 1545.82 Q1578.44 1545.82 1580.27 1543.66 Q1582.12 1541.49 1582.12 1537.76 Q1582.12 1534.01 1580.27 1531.86 Q1578.44 1529.7 1575.29 1529.7 M1584.57 1515.05 L1584.57 1519.31 Q1582.81 1518.48 1581.01 1518.04 Q1579.22 1517.6 1577.46 1517.6 Q1572.83 1517.6 1570.38 1520.72 Q1567.95 1523.85 1567.6 1530.17 Q1568.97 1528.15 1571.03 1527.09 Q1573.09 1526 1575.57 1526 Q1580.77 1526 1583.78 1529.17 Q1586.82 1532.32 1586.82 1537.76 Q1586.82 1543.08 1583.67 1546.3 Q1580.52 1549.52 1575.29 1549.52 Q1569.29 1549.52 1566.12 1544.94 Q1562.95 1540.33 1562.95 1531.6 Q1562.95 1523.41 1566.84 1518.55 Q1570.73 1513.66 1577.28 1513.66 Q1579.04 1513.66 1580.82 1514.01 Q1582.63 1514.36 1584.57 1515.05 Z\" fill=\"#000000\" fill-rule=\"evenodd\" fill-opacity=\"1\" /><path clip-path=\"url(#clip850)\" d=\"M1964.47 1517.37 Q1960.86 1517.37 1959.03 1520.93 Q1957.22 1524.47 1957.22 1531.6 Q1957.22 1538.71 1959.03 1542.27 Q1960.86 1545.82 1964.47 1545.82 Q1968.1 1545.82 1969.91 1542.27 Q1971.74 1538.71 1971.74 1531.6 Q1971.74 1524.47 1969.91 1520.93 Q1968.1 1517.37 1964.47 1517.37 M1964.47 1513.66 Q1970.28 1513.66 1973.33 1518.27 Q1976.41 1522.85 1976.41 1531.6 Q1976.41 1540.33 1973.33 1544.94 Q1970.28 1549.52 1964.47 1549.52 Q1958.66 1549.52 1955.58 1544.94 Q1952.52 1540.33 1952.52 1531.6 Q1952.52 1522.85 1955.58 1518.27 Q1958.66 1513.66 1964.47 1513.66 Z\" fill=\"#000000\" fill-rule=\"evenodd\" fill-opacity=\"1\" /><path clip-path=\"url(#clip850)\" d=\"M1984.63 1542.97 L1989.51 1542.97 L1989.51 1548.85 L1984.63 1548.85 L1984.63 1542.97 Z\" fill=\"#000000\" fill-rule=\"evenodd\" fill-opacity=\"1\" /><path clip-path=\"url(#clip850)\" d=\"M2009.7 1532.44 Q2006.37 1532.44 2004.44 1534.22 Q2002.55 1536 2002.55 1539.13 Q2002.55 1542.25 2004.44 1544.03 Q2006.37 1545.82 2009.7 1545.82 Q2013.03 1545.82 2014.95 1544.03 Q2016.87 1542.23 2016.87 1539.13 Q2016.87 1536 2014.95 1534.22 Q2013.06 1532.44 2009.7 1532.44 M2005.02 1530.45 Q2002.01 1529.7 2000.32 1527.64 Q1998.66 1525.58 1998.66 1522.62 Q1998.66 1518.48 2001.6 1516.07 Q2004.56 1513.66 2009.7 1513.66 Q2014.86 1513.66 2017.8 1516.07 Q2020.74 1518.48 2020.74 1522.62 Q2020.74 1525.58 2019.05 1527.64 Q2017.38 1529.7 2014.4 1530.45 Q2017.78 1531.23 2019.65 1533.52 Q2021.55 1535.82 2021.55 1539.13 Q2021.55 1544.15 2018.47 1546.83 Q2015.42 1549.52 2009.7 1549.52 Q2003.98 1549.52 2000.9 1546.83 Q1997.85 1544.15 1997.85 1539.13 Q1997.85 1535.82 1999.75 1533.52 Q2001.64 1531.23 2005.02 1530.45 M2003.31 1523.06 Q2003.31 1525.75 2004.98 1527.25 Q2006.67 1528.76 2009.7 1528.76 Q2012.71 1528.76 2014.4 1527.25 Q2016.11 1525.75 2016.11 1523.06 Q2016.11 1520.38 2014.4 1518.87 Q2012.71 1517.37 2009.7 1517.37 Q2006.67 1517.37 2004.98 1518.87 Q2003.31 1520.38 2003.31 1523.06 Z\" fill=\"#000000\" fill-rule=\"evenodd\" fill-opacity=\"1\" /><polyline clip-path=\"url(#clip852)\" style=\"stroke:#000000; stroke-linecap:butt; stroke-linejoin:round; stroke-width:2; stroke-opacity:0.1; fill:none\" points=\"\n  186.274,1469.96 2352.76,1469.96 \n  \"/>\n<polyline clip-path=\"url(#clip852)\" style=\"stroke:#000000; stroke-linecap:butt; stroke-linejoin:round; stroke-width:2; stroke-opacity:0.1; fill:none\" points=\"\n  186.274,1124.46 2352.76,1124.46 \n  \"/>\n<polyline clip-path=\"url(#clip852)\" style=\"stroke:#000000; stroke-linecap:butt; stroke-linejoin:round; stroke-width:2; stroke-opacity:0.1; fill:none\" points=\"\n  186.274,778.969 2352.76,778.969 \n  \"/>\n<polyline clip-path=\"url(#clip852)\" style=\"stroke:#000000; stroke-linecap:butt; stroke-linejoin:round; stroke-width:2; stroke-opacity:0.1; fill:none\" points=\"\n  186.274,433.472 2352.76,433.472 \n  \"/>\n<polyline clip-path=\"url(#clip852)\" style=\"stroke:#000000; stroke-linecap:butt; stroke-linejoin:round; stroke-width:2; stroke-opacity:0.1; fill:none\" points=\"\n  186.274,87.9763 2352.76,87.9763 \n  \"/>\n<polyline clip-path=\"url(#clip850)\" style=\"stroke:#000000; stroke-linecap:butt; stroke-linejoin:round; stroke-width:4; stroke-opacity:1; fill:none\" points=\"\n  186.274,1486.45 186.274,47.2441 \n  \"/>\n<polyline clip-path=\"url(#clip850)\" style=\"stroke:#000000; stroke-linecap:butt; stroke-linejoin:round; stroke-width:4; stroke-opacity:1; fill:none\" points=\"\n  186.274,1469.96 205.172,1469.96 \n  \"/>\n<polyline clip-path=\"url(#clip850)\" style=\"stroke:#000000; stroke-linecap:butt; stroke-linejoin:round; stroke-width:4; stroke-opacity:1; fill:none\" points=\"\n  186.274,1124.46 205.172,1124.46 \n  \"/>\n<polyline clip-path=\"url(#clip850)\" style=\"stroke:#000000; stroke-linecap:butt; stroke-linejoin:round; stroke-width:4; stroke-opacity:1; fill:none\" points=\"\n  186.274,778.969 205.172,778.969 \n  \"/>\n<polyline clip-path=\"url(#clip850)\" style=\"stroke:#000000; stroke-linecap:butt; stroke-linejoin:round; stroke-width:4; stroke-opacity:1; fill:none\" points=\"\n  186.274,433.472 205.172,433.472 \n  \"/>\n<polyline clip-path=\"url(#clip850)\" style=\"stroke:#000000; stroke-linecap:butt; stroke-linejoin:round; stroke-width:4; stroke-opacity:1; fill:none\" points=\"\n  186.274,87.9763 205.172,87.9763 \n  \"/>\n<path clip-path=\"url(#clip850)\" d=\"M62.9365 1455.76 Q59.3254 1455.76 57.4967 1459.32 Q55.6912 1462.87 55.6912 1470 Q55.6912 1477.1 57.4967 1480.67 Q59.3254 1484.21 62.9365 1484.21 Q66.5707 1484.21 68.3763 1480.67 Q70.205 1477.1 70.205 1470 Q70.205 1462.87 68.3763 1459.32 Q66.5707 1455.76 62.9365 1455.76 M62.9365 1452.06 Q68.7467 1452.06 71.8022 1456.66 Q74.8809 1461.25 74.8809 1470 Q74.8809 1478.72 71.8022 1483.33 Q68.7467 1487.91 62.9365 1487.91 Q57.1264 1487.91 54.0477 1483.33 Q50.9921 1478.72 50.9921 1470 Q50.9921 1461.25 54.0477 1456.66 Q57.1264 1452.06 62.9365 1452.06 Z\" fill=\"#000000\" fill-rule=\"evenodd\" fill-opacity=\"1\" /><path clip-path=\"url(#clip850)\" d=\"M83.0984 1481.36 L87.9827 1481.36 L87.9827 1487.24 L83.0984 1487.24 L83.0984 1481.36 Z\" fill=\"#000000\" fill-rule=\"evenodd\" fill-opacity=\"1\" /><path clip-path=\"url(#clip850)\" d=\"M108.168 1455.76 Q104.557 1455.76 102.728 1459.32 Q100.922 1462.87 100.922 1470 Q100.922 1477.1 102.728 1480.67 Q104.557 1484.21 108.168 1484.21 Q111.802 1484.21 113.608 1480.67 Q115.436 1477.1 115.436 1470 Q115.436 1462.87 113.608 1459.32 Q111.802 1455.76 108.168 1455.76 M108.168 1452.06 Q113.978 1452.06 117.033 1456.66 Q120.112 1461.25 120.112 1470 Q120.112 1478.72 117.033 1483.33 Q113.978 1487.91 108.168 1487.91 Q102.358 1487.91 99.2789 1483.33 Q96.2234 1478.72 96.2234 1470 Q96.2234 1461.25 99.2789 1456.66 Q102.358 1452.06 108.168 1452.06 Z\" fill=\"#000000\" fill-rule=\"evenodd\" fill-opacity=\"1\" /><path clip-path=\"url(#clip850)\" d=\"M138.33 1455.76 Q134.719 1455.76 132.89 1459.32 Q131.084 1462.87 131.084 1470 Q131.084 1477.1 132.89 1480.67 Q134.719 1484.21 138.33 1484.21 Q141.964 1484.21 143.769 1480.67 Q145.598 1477.1 145.598 1470 Q145.598 1462.87 143.769 1459.32 Q141.964 1455.76 138.33 1455.76 M138.33 1452.06 Q144.14 1452.06 147.195 1456.66 Q150.274 1461.25 150.274 1470 Q150.274 1478.72 147.195 1483.33 Q144.14 1487.91 138.33 1487.91 Q132.519 1487.91 129.441 1483.33 Q126.385 1478.72 126.385 1470 Q126.385 1461.25 129.441 1456.66 Q132.519 1452.06 138.33 1452.06 Z\" fill=\"#000000\" fill-rule=\"evenodd\" fill-opacity=\"1\" /><path clip-path=\"url(#clip850)\" d=\"M63.9319 1110.26 Q60.3208 1110.26 58.4921 1113.83 Q56.6865 1117.37 56.6865 1124.5 Q56.6865 1131.61 58.4921 1135.17 Q60.3208 1138.71 63.9319 1138.71 Q67.5661 1138.71 69.3717 1135.17 Q71.2004 1131.61 71.2004 1124.5 Q71.2004 1117.37 69.3717 1113.83 Q67.5661 1110.26 63.9319 1110.26 M63.9319 1106.56 Q69.742 1106.56 72.7976 1111.17 Q75.8763 1115.75 75.8763 1124.5 Q75.8763 1133.23 72.7976 1137.83 Q69.742 1142.42 63.9319 1142.42 Q58.1217 1142.42 55.043 1137.83 Q51.9875 1133.23 51.9875 1124.5 Q51.9875 1115.75 55.043 1111.17 Q58.1217 1106.56 63.9319 1106.56 Z\" fill=\"#000000\" fill-rule=\"evenodd\" fill-opacity=\"1\" /><path clip-path=\"url(#clip850)\" d=\"M84.0938 1135.87 L88.978 1135.87 L88.978 1141.74 L84.0938 1141.74 L84.0938 1135.87 Z\" fill=\"#000000\" fill-rule=\"evenodd\" fill-opacity=\"1\" /><path clip-path=\"url(#clip850)\" d=\"M103.191 1137.81 L119.51 1137.81 L119.51 1141.74 L97.566 1141.74 L97.566 1137.81 Q100.228 1135.06 104.811 1130.43 Q109.418 1125.77 110.598 1124.43 Q112.844 1121.91 113.723 1120.17 Q114.626 1118.41 114.626 1116.72 Q114.626 1113.97 112.682 1112.23 Q110.76 1110.5 107.658 1110.5 Q105.459 1110.5 103.006 1111.26 Q100.575 1112.02 97.7974 1113.57 L97.7974 1108.85 Q100.621 1107.72 103.075 1107.14 Q105.529 1106.56 107.566 1106.56 Q112.936 1106.56 116.131 1109.25 Q119.325 1111.93 119.325 1116.42 Q119.325 1118.55 118.515 1120.47 Q117.728 1122.37 115.621 1124.96 Q115.043 1125.63 111.941 1128.85 Q108.839 1132.05 103.191 1137.81 Z\" fill=\"#000000\" fill-rule=\"evenodd\" fill-opacity=\"1\" /><path clip-path=\"url(#clip850)\" d=\"M129.371 1107.18 L147.728 1107.18 L147.728 1111.12 L133.654 1111.12 L133.654 1119.59 Q134.672 1119.24 135.691 1119.08 Q136.709 1118.9 137.728 1118.9 Q143.515 1118.9 146.894 1122.07 Q150.274 1125.24 150.274 1130.66 Q150.274 1136.24 146.802 1139.34 Q143.33 1142.42 137.01 1142.42 Q134.834 1142.42 132.566 1142.05 Q130.32 1141.68 127.913 1140.93 L127.913 1136.24 Q129.996 1137.37 132.219 1137.93 Q134.441 1138.48 136.918 1138.48 Q140.922 1138.48 143.26 1136.37 Q145.598 1134.27 145.598 1130.66 Q145.598 1127.05 143.26 1124.94 Q140.922 1122.83 136.918 1122.83 Q135.043 1122.83 133.168 1123.25 Q131.316 1123.67 129.371 1124.55 L129.371 1107.18 Z\" fill=\"#000000\" fill-rule=\"evenodd\" fill-opacity=\"1\" /><path clip-path=\"url(#clip850)\" d=\"M62.9365 764.767 Q59.3254 764.767 57.4967 768.332 Q55.6912 771.874 55.6912 779.003 Q55.6912 786.11 57.4967 789.675 Q59.3254 793.216 62.9365 793.216 Q66.5707 793.216 68.3763 789.675 Q70.205 786.11 70.205 779.003 Q70.205 771.874 68.3763 768.332 Q66.5707 764.767 62.9365 764.767 M62.9365 761.064 Q68.7467 761.064 71.8022 765.67 Q74.8809 770.253 74.8809 779.003 Q74.8809 787.73 71.8022 792.337 Q68.7467 796.92 62.9365 796.92 Q57.1264 796.92 54.0477 792.337 Q50.9921 787.73 50.9921 779.003 Q50.9921 770.253 54.0477 765.67 Q57.1264 761.064 62.9365 761.064 Z\" fill=\"#000000\" fill-rule=\"evenodd\" fill-opacity=\"1\" /><path clip-path=\"url(#clip850)\" d=\"M83.0984 790.369 L87.9827 790.369 L87.9827 796.249 L83.0984 796.249 L83.0984 790.369 Z\" fill=\"#000000\" fill-rule=\"evenodd\" fill-opacity=\"1\" /><path clip-path=\"url(#clip850)\" d=\"M98.2141 761.689 L116.57 761.689 L116.57 765.624 L102.496 765.624 L102.496 774.096 Q103.515 773.749 104.534 773.587 Q105.552 773.402 106.571 773.402 Q112.358 773.402 115.737 776.573 Q119.117 779.744 119.117 785.161 Q119.117 790.739 115.645 793.841 Q112.172 796.92 105.853 796.92 Q103.677 796.92 101.409 796.55 Q99.1632 796.179 96.7558 795.438 L96.7558 790.739 Q98.8391 791.874 101.061 792.429 Q103.284 792.985 105.76 792.985 Q109.765 792.985 112.103 790.878 Q114.441 788.772 114.441 785.161 Q114.441 781.55 112.103 779.443 Q109.765 777.337 105.76 777.337 Q103.885 777.337 102.01 777.753 Q100.159 778.17 98.2141 779.05 L98.2141 761.689 Z\" fill=\"#000000\" fill-rule=\"evenodd\" fill-opacity=\"1\" /><path clip-path=\"url(#clip850)\" d=\"M138.33 764.767 Q134.719 764.767 132.89 768.332 Q131.084 771.874 131.084 779.003 Q131.084 786.11 132.89 789.675 Q134.719 793.216 138.33 793.216 Q141.964 793.216 143.769 789.675 Q145.598 786.11 145.598 779.003 Q145.598 771.874 143.769 768.332 Q141.964 764.767 138.33 764.767 M138.33 761.064 Q144.14 761.064 147.195 765.67 Q150.274 770.253 150.274 779.003 Q150.274 787.73 147.195 792.337 Q144.14 796.92 138.33 796.92 Q132.519 796.92 129.441 792.337 Q126.385 787.73 126.385 779.003 Q126.385 770.253 129.441 765.67 Q132.519 761.064 138.33 761.064 Z\" fill=\"#000000\" fill-rule=\"evenodd\" fill-opacity=\"1\" /><path clip-path=\"url(#clip850)\" d=\"M63.9319 419.271 Q60.3208 419.271 58.4921 422.836 Q56.6865 426.378 56.6865 433.507 Q56.6865 440.614 58.4921 444.178 Q60.3208 447.72 63.9319 447.72 Q67.5661 447.72 69.3717 444.178 Q71.2004 440.614 71.2004 433.507 Q71.2004 426.378 69.3717 422.836 Q67.5661 419.271 63.9319 419.271 M63.9319 415.567 Q69.742 415.567 72.7976 420.174 Q75.8763 424.757 75.8763 433.507 Q75.8763 442.234 72.7976 446.84 Q69.742 451.424 63.9319 451.424 Q58.1217 451.424 55.043 446.84 Q51.9875 442.234 51.9875 433.507 Q51.9875 424.757 55.043 420.174 Q58.1217 415.567 63.9319 415.567 Z\" fill=\"#000000\" fill-rule=\"evenodd\" fill-opacity=\"1\" /><path clip-path=\"url(#clip850)\" d=\"M84.0938 444.873 L88.978 444.873 L88.978 450.752 L84.0938 450.752 L84.0938 444.873 Z\" fill=\"#000000\" fill-rule=\"evenodd\" fill-opacity=\"1\" /><path clip-path=\"url(#clip850)\" d=\"M97.9826 416.192 L120.205 416.192 L120.205 418.183 L107.658 450.752 L102.774 450.752 L114.58 420.128 L97.9826 420.128 L97.9826 416.192 Z\" fill=\"#000000\" fill-rule=\"evenodd\" fill-opacity=\"1\" /><path clip-path=\"url(#clip850)\" d=\"M129.371 416.192 L147.728 416.192 L147.728 420.128 L133.654 420.128 L133.654 428.6 Q134.672 428.253 135.691 428.091 Q136.709 427.905 137.728 427.905 Q143.515 427.905 146.894 431.077 Q150.274 434.248 150.274 439.665 Q150.274 445.243 146.802 448.345 Q143.33 451.424 137.01 451.424 Q134.834 451.424 132.566 451.053 Q130.32 450.683 127.913 449.942 L127.913 445.243 Q129.996 446.377 132.219 446.933 Q134.441 447.489 136.918 447.489 Q140.922 447.489 143.26 445.382 Q145.598 443.276 145.598 439.665 Q145.598 436.053 143.26 433.947 Q140.922 431.841 136.918 431.841 Q135.043 431.841 133.168 432.257 Q131.316 432.674 129.371 433.553 L129.371 416.192 Z\" fill=\"#000000\" fill-rule=\"evenodd\" fill-opacity=\"1\" /><path clip-path=\"url(#clip850)\" d=\"M53.7467 101.321 L61.3856 101.321 L61.3856 74.9555 L53.0754 76.6222 L53.0754 72.3629 L61.3393 70.6963 L66.0152 70.6963 L66.0152 101.321 L73.654 101.321 L73.654 105.256 L53.7467 105.256 L53.7467 101.321 Z\" fill=\"#000000\" fill-rule=\"evenodd\" fill-opacity=\"1\" /><path clip-path=\"url(#clip850)\" d=\"M83.0984 99.3767 L87.9827 99.3767 L87.9827 105.256 L83.0984 105.256 L83.0984 99.3767 Z\" fill=\"#000000\" fill-rule=\"evenodd\" fill-opacity=\"1\" /><path clip-path=\"url(#clip850)\" d=\"M108.168 73.775 Q104.557 73.775 102.728 77.3398 Q100.922 80.8814 100.922 88.011 Q100.922 95.1174 102.728 98.6822 Q104.557 102.224 108.168 102.224 Q111.802 102.224 113.608 98.6822 Q115.436 95.1174 115.436 88.011 Q115.436 80.8814 113.608 77.3398 Q111.802 73.775 108.168 73.775 M108.168 70.0713 Q113.978 70.0713 117.033 74.6777 Q120.112 79.261 120.112 88.011 Q120.112 96.7378 117.033 101.344 Q113.978 105.928 108.168 105.928 Q102.358 105.928 99.2789 101.344 Q96.2234 96.7378 96.2234 88.011 Q96.2234 79.261 99.2789 74.6777 Q102.358 70.0713 108.168 70.0713 Z\" fill=\"#000000\" fill-rule=\"evenodd\" fill-opacity=\"1\" /><path clip-path=\"url(#clip850)\" d=\"M138.33 73.775 Q134.719 73.775 132.89 77.3398 Q131.084 80.8814 131.084 88.011 Q131.084 95.1174 132.89 98.6822 Q134.719 102.224 138.33 102.224 Q141.964 102.224 143.769 98.6822 Q145.598 95.1174 145.598 88.011 Q145.598 80.8814 143.769 77.3398 Q141.964 73.775 138.33 73.775 M138.33 70.0713 Q144.14 70.0713 147.195 74.6777 Q150.274 79.261 150.274 88.011 Q150.274 96.7378 147.195 101.344 Q144.14 105.928 138.33 105.928 Q132.519 105.928 129.441 101.344 Q126.385 96.7378 126.385 88.011 Q126.385 79.261 129.441 74.6777 Q132.519 70.0713 138.33 70.0713 Z\" fill=\"#000000\" fill-rule=\"evenodd\" fill-opacity=\"1\" /><polyline clip-path=\"url(#clip852)\" style=\"stroke:#009af9; stroke-linecap:butt; stroke-linejoin:round; stroke-width:4; stroke-opacity:1; fill:none\" points=\"\n  247.59,917.167 399.791,1193.56 530.25,640.77 660.708,640.77 791.167,345.09 943.369,491.055 1073.83,327.166 1204.29,244.427 1334.74,353.743 1486.95,364.373 \n  1617.4,339.246 1747.86,263.466 1878.32,169.269 2030.52,87.9763 2160.98,87.9763 2291.44,87.9763 \n  \"/>\n<circle clip-path=\"url(#clip852)\" cx=\"247.59\" cy=\"917.167\" r=\"14\" fill=\"#009af9\" fill-rule=\"evenodd\" fill-opacity=\"1\" stroke=\"#000000\" stroke-opacity=\"1\" stroke-width=\"3.2\"/>\n<circle clip-path=\"url(#clip852)\" cx=\"399.791\" cy=\"1193.56\" r=\"14\" fill=\"#009af9\" fill-rule=\"evenodd\" fill-opacity=\"1\" stroke=\"#000000\" stroke-opacity=\"1\" stroke-width=\"3.2\"/>\n<circle clip-path=\"url(#clip852)\" cx=\"530.25\" cy=\"640.77\" r=\"14\" fill=\"#009af9\" fill-rule=\"evenodd\" fill-opacity=\"1\" stroke=\"#000000\" stroke-opacity=\"1\" stroke-width=\"3.2\"/>\n<circle clip-path=\"url(#clip852)\" cx=\"660.708\" cy=\"640.77\" r=\"14\" fill=\"#009af9\" fill-rule=\"evenodd\" fill-opacity=\"1\" stroke=\"#000000\" stroke-opacity=\"1\" stroke-width=\"3.2\"/>\n<circle clip-path=\"url(#clip852)\" cx=\"791.167\" cy=\"345.09\" r=\"14\" fill=\"#009af9\" fill-rule=\"evenodd\" fill-opacity=\"1\" stroke=\"#000000\" stroke-opacity=\"1\" stroke-width=\"3.2\"/>\n<circle clip-path=\"url(#clip852)\" cx=\"943.369\" cy=\"491.055\" r=\"14\" fill=\"#009af9\" fill-rule=\"evenodd\" fill-opacity=\"1\" stroke=\"#000000\" stroke-opacity=\"1\" stroke-width=\"3.2\"/>\n<circle clip-path=\"url(#clip852)\" cx=\"1073.83\" cy=\"327.166\" r=\"14\" fill=\"#009af9\" fill-rule=\"evenodd\" fill-opacity=\"1\" stroke=\"#000000\" stroke-opacity=\"1\" stroke-width=\"3.2\"/>\n<circle clip-path=\"url(#clip852)\" cx=\"1204.29\" cy=\"244.427\" r=\"14\" fill=\"#009af9\" fill-rule=\"evenodd\" fill-opacity=\"1\" stroke=\"#000000\" stroke-opacity=\"1\" stroke-width=\"3.2\"/>\n<circle clip-path=\"url(#clip852)\" cx=\"1334.74\" cy=\"353.743\" r=\"14\" fill=\"#009af9\" fill-rule=\"evenodd\" fill-opacity=\"1\" stroke=\"#000000\" stroke-opacity=\"1\" stroke-width=\"3.2\"/>\n<circle clip-path=\"url(#clip852)\" cx=\"1486.95\" cy=\"364.373\" r=\"14\" fill=\"#009af9\" fill-rule=\"evenodd\" fill-opacity=\"1\" stroke=\"#000000\" stroke-opacity=\"1\" stroke-width=\"3.2\"/>\n<circle clip-path=\"url(#clip852)\" cx=\"1617.4\" cy=\"339.246\" r=\"14\" fill=\"#009af9\" fill-rule=\"evenodd\" fill-opacity=\"1\" stroke=\"#000000\" stroke-opacity=\"1\" stroke-width=\"3.2\"/>\n<circle clip-path=\"url(#clip852)\" cx=\"1747.86\" cy=\"263.466\" r=\"14\" fill=\"#009af9\" fill-rule=\"evenodd\" fill-opacity=\"1\" stroke=\"#000000\" stroke-opacity=\"1\" stroke-width=\"3.2\"/>\n<circle clip-path=\"url(#clip852)\" cx=\"1878.32\" cy=\"169.269\" r=\"14\" fill=\"#009af9\" fill-rule=\"evenodd\" fill-opacity=\"1\" stroke=\"#000000\" stroke-opacity=\"1\" stroke-width=\"3.2\"/>\n<circle clip-path=\"url(#clip852)\" cx=\"2030.52\" cy=\"87.9763\" r=\"14\" fill=\"#009af9\" fill-rule=\"evenodd\" fill-opacity=\"1\" stroke=\"#000000\" stroke-opacity=\"1\" stroke-width=\"3.2\"/>\n<circle clip-path=\"url(#clip852)\" cx=\"2160.98\" cy=\"87.9763\" r=\"14\" fill=\"#009af9\" fill-rule=\"evenodd\" fill-opacity=\"1\" stroke=\"#000000\" stroke-opacity=\"1\" stroke-width=\"3.2\"/>\n<circle clip-path=\"url(#clip852)\" cx=\"2291.44\" cy=\"87.9763\" r=\"14\" fill=\"#009af9\" fill-rule=\"evenodd\" fill-opacity=\"1\" stroke=\"#000000\" stroke-opacity=\"1\" stroke-width=\"3.2\"/>\n<polyline clip-path=\"url(#clip852)\" style=\"stroke:#e26f46; stroke-linecap:butt; stroke-linejoin:round; stroke-width:4; stroke-opacity:1; fill:none\" points=\"\n  247.59,1445.72 399.791,1363.65 530.25,1180.71 660.708,845.839 791.167,929.184 943.369,614.447 1073.83,451.656 1204.29,951.717 1334.74,606.221 1486.95,894.134 \n  1617.4,725.815 1747.86,87.9763 1878.32,87.9763 2030.52,87.9763 \n  \"/>\n<circle clip-path=\"url(#clip852)\" cx=\"247.59\" cy=\"1445.72\" r=\"14\" fill=\"#e26f46\" fill-rule=\"evenodd\" fill-opacity=\"1\" stroke=\"#000000\" stroke-opacity=\"1\" stroke-width=\"3.2\"/>\n<circle clip-path=\"url(#clip852)\" cx=\"399.791\" cy=\"1363.65\" r=\"14\" fill=\"#e26f46\" fill-rule=\"evenodd\" fill-opacity=\"1\" stroke=\"#000000\" stroke-opacity=\"1\" stroke-width=\"3.2\"/>\n<circle clip-path=\"url(#clip852)\" cx=\"530.25\" cy=\"1180.71\" r=\"14\" fill=\"#e26f46\" fill-rule=\"evenodd\" fill-opacity=\"1\" stroke=\"#000000\" stroke-opacity=\"1\" stroke-width=\"3.2\"/>\n<circle clip-path=\"url(#clip852)\" cx=\"660.708\" cy=\"845.839\" r=\"14\" fill=\"#e26f46\" fill-rule=\"evenodd\" fill-opacity=\"1\" stroke=\"#000000\" stroke-opacity=\"1\" stroke-width=\"3.2\"/>\n<circle clip-path=\"url(#clip852)\" cx=\"791.167\" cy=\"929.184\" r=\"14\" fill=\"#e26f46\" fill-rule=\"evenodd\" fill-opacity=\"1\" stroke=\"#000000\" stroke-opacity=\"1\" stroke-width=\"3.2\"/>\n<circle clip-path=\"url(#clip852)\" cx=\"943.369\" cy=\"614.447\" r=\"14\" fill=\"#e26f46\" fill-rule=\"evenodd\" fill-opacity=\"1\" stroke=\"#000000\" stroke-opacity=\"1\" stroke-width=\"3.2\"/>\n<circle clip-path=\"url(#clip852)\" cx=\"1073.83\" cy=\"451.656\" r=\"14\" fill=\"#e26f46\" fill-rule=\"evenodd\" fill-opacity=\"1\" stroke=\"#000000\" stroke-opacity=\"1\" stroke-width=\"3.2\"/>\n<circle clip-path=\"url(#clip852)\" cx=\"1204.29\" cy=\"951.717\" r=\"14\" fill=\"#e26f46\" fill-rule=\"evenodd\" fill-opacity=\"1\" stroke=\"#000000\" stroke-opacity=\"1\" stroke-width=\"3.2\"/>\n<circle clip-path=\"url(#clip852)\" cx=\"1334.74\" cy=\"606.221\" r=\"14\" fill=\"#e26f46\" fill-rule=\"evenodd\" fill-opacity=\"1\" stroke=\"#000000\" stroke-opacity=\"1\" stroke-width=\"3.2\"/>\n<circle clip-path=\"url(#clip852)\" cx=\"1486.95\" cy=\"894.134\" r=\"14\" fill=\"#e26f46\" fill-rule=\"evenodd\" fill-opacity=\"1\" stroke=\"#000000\" stroke-opacity=\"1\" stroke-width=\"3.2\"/>\n<circle clip-path=\"url(#clip852)\" cx=\"1617.4\" cy=\"725.815\" r=\"14\" fill=\"#e26f46\" fill-rule=\"evenodd\" fill-opacity=\"1\" stroke=\"#000000\" stroke-opacity=\"1\" stroke-width=\"3.2\"/>\n<circle clip-path=\"url(#clip852)\" cx=\"1747.86\" cy=\"87.9763\" r=\"14\" fill=\"#e26f46\" fill-rule=\"evenodd\" fill-opacity=\"1\" stroke=\"#000000\" stroke-opacity=\"1\" stroke-width=\"3.2\"/>\n<circle clip-path=\"url(#clip852)\" cx=\"1878.32\" cy=\"87.9763\" r=\"14\" fill=\"#e26f46\" fill-rule=\"evenodd\" fill-opacity=\"1\" stroke=\"#000000\" stroke-opacity=\"1\" stroke-width=\"3.2\"/>\n<circle clip-path=\"url(#clip852)\" cx=\"2030.52\" cy=\"87.9763\" r=\"14\" fill=\"#e26f46\" fill-rule=\"evenodd\" fill-opacity=\"1\" stroke=\"#000000\" stroke-opacity=\"1\" stroke-width=\"3.2\"/>\n<path clip-path=\"url(#clip850)\" d=\"\nM1858.64 1438.47 L2280.54 1438.47 L2280.54 1282.95 L1858.64 1282.95  Z\n  \" fill=\"#ffffff\" fill-rule=\"evenodd\" fill-opacity=\"1\"/>\n<polyline clip-path=\"url(#clip850)\" style=\"stroke:#000000; stroke-linecap:butt; stroke-linejoin:round; stroke-width:4; stroke-opacity:1; fill:none\" points=\"\n  1858.64,1438.47 2280.54,1438.47 2280.54,1282.95 1858.64,1282.95 1858.64,1438.47 \n  \"/>\n<polyline clip-path=\"url(#clip850)\" style=\"stroke:#009af9; stroke-linecap:butt; stroke-linejoin:round; stroke-width:4; stroke-opacity:1; fill:none\" points=\"\n  1882.71,1334.79 2027.14,1334.79 \n  \"/>\n<circle clip-path=\"url(#clip850)\" cx=\"1954.93\" cy=\"1334.79\" r=\"23\" fill=\"#009af9\" fill-rule=\"evenodd\" fill-opacity=\"1\" stroke=\"#000000\" stroke-opacity=\"1\" stroke-width=\"5.12\"/>\n<path clip-path=\"url(#clip850)\" d=\"M2051.22 1317.51 L2080.45 1317.51 L2080.45 1321.45 L2068.18 1321.45 L2068.18 1352.07 L2063.48 1352.07 L2063.48 1321.45 L2051.22 1321.45 L2051.22 1317.51 Z\" fill=\"#000000\" fill-rule=\"evenodd\" fill-opacity=\"1\" /><path clip-path=\"url(#clip850)\" d=\"M2095.01 1316.1 Q2091.91 1321.43 2090.41 1326.63 Q2088.9 1331.84 2088.9 1337.19 Q2088.9 1342.54 2090.41 1347.79 Q2091.93 1353.02 2095.01 1358.32 L2091.31 1358.32 Q2087.84 1352.88 2086.1 1347.63 Q2084.39 1342.38 2084.39 1337.19 Q2084.39 1332.03 2086.1 1326.8 Q2087.81 1321.57 2091.31 1316.1 L2095.01 1316.1 Z\" fill=\"#000000\" fill-rule=\"evenodd\" fill-opacity=\"1\" /><path clip-path=\"url(#clip850)\" d=\"M2120.61 1322.35 L2120.61 1335.25 L2133.51 1335.25 L2133.51 1339.18 L2120.61 1339.18 L2120.61 1352.07 L2116.73 1352.07 L2116.73 1339.18 L2103.83 1339.18 L2103.83 1335.25 L2116.73 1335.25 L2116.73 1322.35 L2120.61 1322.35 Z\" fill=\"#000000\" fill-rule=\"evenodd\" fill-opacity=\"1\" /><path clip-path=\"url(#clip850)\" d=\"M2175.94 1336.17 L2175.94 1338.26 L2166.84 1347.35 L2164.06 1344.57 L2169.46 1339.18 L2141.24 1339.18 L2141.24 1335.25 L2169.46 1335.25 L2164.06 1329.85 L2166.84 1327.07 L2175.94 1336.17 Z\" fill=\"#000000\" fill-rule=\"evenodd\" fill-opacity=\"1\" /><path clip-path=\"url(#clip850)\" d=\"M2200.06 1322.35 L2200.06 1335.25 L2212.95 1335.25 L2212.95 1339.18 L2200.06 1339.18 L2200.06 1352.07 L2196.17 1352.07 L2196.17 1339.18 L2183.28 1339.18 L2183.28 1335.25 L2196.17 1335.25 L2196.17 1322.35 L2200.06 1322.35 Z\" fill=\"#000000\" fill-rule=\"evenodd\" fill-opacity=\"1\" /><path clip-path=\"url(#clip850)\" d=\"M2221.77 1316.1 L2225.47 1316.1 Q2228.95 1321.57 2230.66 1326.8 Q2232.4 1332.03 2232.4 1337.19 Q2232.4 1342.38 2230.66 1347.63 Q2228.95 1352.88 2225.47 1358.32 L2221.77 1358.32 Q2224.85 1353.02 2226.35 1347.79 Q2227.88 1342.54 2227.88 1337.19 Q2227.88 1331.84 2226.35 1326.63 Q2224.85 1321.43 2221.77 1316.1 Z\" fill=\"#000000\" fill-rule=\"evenodd\" fill-opacity=\"1\" /><polyline clip-path=\"url(#clip850)\" style=\"stroke:#e26f46; stroke-linecap:butt; stroke-linejoin:round; stroke-width:4; stroke-opacity:1; fill:none\" points=\"\n  1882.71,1386.63 2027.14,1386.63 \n  \"/>\n<circle clip-path=\"url(#clip850)\" cx=\"1954.93\" cy=\"1386.63\" r=\"23\" fill=\"#e26f46\" fill-rule=\"evenodd\" fill-opacity=\"1\" stroke=\"#000000\" stroke-opacity=\"1\" stroke-width=\"5.12\"/>\n<path clip-path=\"url(#clip850)\" d=\"M2051.22 1369.35 L2080.45 1369.35 L2080.45 1373.29 L2068.18 1373.29 L2068.18 1403.91 L2063.48 1403.91 L2063.48 1373.29 L2051.22 1373.29 L2051.22 1369.35 Z\" fill=\"#000000\" fill-rule=\"evenodd\" fill-opacity=\"1\" /><path clip-path=\"url(#clip850)\" d=\"M2095.01 1367.94 Q2091.91 1373.27 2090.41 1378.47 Q2088.9 1383.68 2088.9 1389.03 Q2088.9 1394.38 2090.41 1399.63 Q2091.93 1404.86 2095.01 1410.16 L2091.31 1410.16 Q2087.84 1404.72 2086.1 1399.47 Q2084.39 1394.22 2084.39 1389.03 Q2084.39 1383.87 2086.1 1378.64 Q2087.81 1373.41 2091.31 1367.94 L2095.01 1367.94 Z\" fill=\"#000000\" fill-rule=\"evenodd\" fill-opacity=\"1\" /><path clip-path=\"url(#clip850)\" d=\"M2103.83 1387.09 L2133.51 1387.09 L2133.51 1391.02 L2103.83 1391.02 L2103.83 1387.09 Z\" fill=\"#000000\" fill-rule=\"evenodd\" fill-opacity=\"1\" /><path clip-path=\"url(#clip850)\" d=\"M2175.94 1388.01 L2175.94 1390.1 L2166.84 1399.19 L2164.06 1396.41 L2169.46 1391.02 L2141.24 1391.02 L2141.24 1387.09 L2169.46 1387.09 L2164.06 1381.69 L2166.84 1378.91 L2175.94 1388.01 Z\" fill=\"#000000\" fill-rule=\"evenodd\" fill-opacity=\"1\" /><path clip-path=\"url(#clip850)\" d=\"M2200.06 1374.19 L2200.06 1387.09 L2212.95 1387.09 L2212.95 1391.02 L2200.06 1391.02 L2200.06 1403.91 L2196.17 1403.91 L2196.17 1391.02 L2183.28 1391.02 L2183.28 1387.09 L2196.17 1387.09 L2196.17 1374.19 L2200.06 1374.19 Z\" fill=\"#000000\" fill-rule=\"evenodd\" fill-opacity=\"1\" /><path clip-path=\"url(#clip850)\" d=\"M2221.77 1367.94 L2225.47 1367.94 Q2228.95 1373.41 2230.66 1378.64 Q2232.4 1383.87 2232.4 1389.03 Q2232.4 1394.22 2230.66 1399.47 Q2228.95 1404.72 2225.47 1410.16 L2221.77 1410.16 Q2224.85 1404.86 2226.35 1399.63 Q2227.88 1394.38 2227.88 1389.03 Q2227.88 1383.68 2226.35 1378.47 Q2224.85 1373.27 2221.77 1367.94 Z\" fill=\"#000000\" fill-rule=\"evenodd\" fill-opacity=\"1\" /></svg>\n",
      "text/html": [
       "<?xml version=\"1.0\" encoding=\"utf-8\"?>\n",
       "<svg xmlns=\"http://www.w3.org/2000/svg\" xmlns:xlink=\"http://www.w3.org/1999/xlink\" width=\"600\" height=\"400\" viewBox=\"0 0 2400 1600\">\n",
       "<defs>\n",
       "  <clipPath id=\"clip900\">\n",
       "    <rect x=\"0\" y=\"0\" width=\"2400\" height=\"1600\"/>\n",
       "  </clipPath>\n",
       "</defs>\n",
       "<path clip-path=\"url(#clip900)\" d=\"\n",
       "M0 1600 L2400 1600 L2400 0 L0 0  Z\n",
       "  \" fill=\"#ffffff\" fill-rule=\"evenodd\" fill-opacity=\"1\"/>\n",
       "<defs>\n",
       "  <clipPath id=\"clip901\">\n",
       "    <rect x=\"480\" y=\"0\" width=\"1681\" height=\"1600\"/>\n",
       "  </clipPath>\n",
       "</defs>\n",
       "<path clip-path=\"url(#clip900)\" d=\"\n",
       "M186.274 1486.45 L2352.76 1486.45 L2352.76 47.2441 L186.274 47.2441  Z\n",
       "  \" fill=\"#ffffff\" fill-rule=\"evenodd\" fill-opacity=\"1\"/>\n",
       "<defs>\n",
       "  <clipPath id=\"clip902\">\n",
       "    <rect x=\"186\" y=\"47\" width=\"2167\" height=\"1440\"/>\n",
       "  </clipPath>\n",
       "</defs>\n",
       "<polyline clip-path=\"url(#clip902)\" style=\"stroke:#000000; stroke-linecap:butt; stroke-linejoin:round; stroke-width:2; stroke-opacity:0.1; fill:none\" points=\"\n",
       "  247.59,1486.45 247.59,47.2441 \n",
       "  \"/>\n",
       "<polyline clip-path=\"url(#clip902)\" style=\"stroke:#000000; stroke-linecap:butt; stroke-linejoin:round; stroke-width:2; stroke-opacity:0.1; fill:none\" points=\"\n",
       "  682.451,1486.45 682.451,47.2441 \n",
       "  \"/>\n",
       "<polyline clip-path=\"url(#clip902)\" style=\"stroke:#000000; stroke-linecap:butt; stroke-linejoin:round; stroke-width:2; stroke-opacity:0.1; fill:none\" points=\"\n",
       "  1117.31,1486.45 1117.31,47.2441 \n",
       "  \"/>\n",
       "<polyline clip-path=\"url(#clip902)\" style=\"stroke:#000000; stroke-linecap:butt; stroke-linejoin:round; stroke-width:2; stroke-opacity:0.1; fill:none\" points=\"\n",
       "  1552.18,1486.45 1552.18,47.2441 \n",
       "  \"/>\n",
       "<polyline clip-path=\"url(#clip902)\" style=\"stroke:#000000; stroke-linecap:butt; stroke-linejoin:round; stroke-width:2; stroke-opacity:0.1; fill:none\" points=\"\n",
       "  1987.04,1486.45 1987.04,47.2441 \n",
       "  \"/>\n",
       "<polyline clip-path=\"url(#clip900)\" style=\"stroke:#000000; stroke-linecap:butt; stroke-linejoin:round; stroke-width:4; stroke-opacity:1; fill:none\" points=\"\n",
       "  186.274,1486.45 2352.76,1486.45 \n",
       "  \"/>\n",
       "<polyline clip-path=\"url(#clip900)\" style=\"stroke:#000000; stroke-linecap:butt; stroke-linejoin:round; stroke-width:4; stroke-opacity:1; fill:none\" points=\"\n",
       "  247.59,1486.45 247.59,1467.55 \n",
       "  \"/>\n",
       "<polyline clip-path=\"url(#clip900)\" style=\"stroke:#000000; stroke-linecap:butt; stroke-linejoin:round; stroke-width:4; stroke-opacity:1; fill:none\" points=\"\n",
       "  682.451,1486.45 682.451,1467.55 \n",
       "  \"/>\n",
       "<polyline clip-path=\"url(#clip900)\" style=\"stroke:#000000; stroke-linecap:butt; stroke-linejoin:round; stroke-width:4; stroke-opacity:1; fill:none\" points=\"\n",
       "  1117.31,1486.45 1117.31,1467.55 \n",
       "  \"/>\n",
       "<polyline clip-path=\"url(#clip900)\" style=\"stroke:#000000; stroke-linecap:butt; stroke-linejoin:round; stroke-width:4; stroke-opacity:1; fill:none\" points=\"\n",
       "  1552.18,1486.45 1552.18,1467.55 \n",
       "  \"/>\n",
       "<polyline clip-path=\"url(#clip900)\" style=\"stroke:#000000; stroke-linecap:butt; stroke-linejoin:round; stroke-width:4; stroke-opacity:1; fill:none\" points=\"\n",
       "  1987.04,1486.45 1987.04,1467.55 \n",
       "  \"/>\n",
       "<path clip-path=\"url(#clip900)\" d=\"M224.974 1517.37 Q221.363 1517.37 219.534 1520.93 Q217.729 1524.47 217.729 1531.6 Q217.729 1538.71 219.534 1542.27 Q221.363 1545.82 224.974 1545.82 Q228.608 1545.82 230.414 1542.27 Q232.242 1538.71 232.242 1531.6 Q232.242 1524.47 230.414 1520.93 Q228.608 1517.37 224.974 1517.37 M224.974 1513.66 Q230.784 1513.66 233.84 1518.27 Q236.918 1522.85 236.918 1531.6 Q236.918 1540.33 233.84 1544.94 Q230.784 1549.52 224.974 1549.52 Q219.164 1549.52 216.085 1544.94 Q213.03 1540.33 213.03 1531.6 Q213.03 1522.85 216.085 1518.27 Q219.164 1513.66 224.974 1513.66 Z\" fill=\"#000000\" fill-rule=\"evenodd\" fill-opacity=\"1\" /><path clip-path=\"url(#clip900)\" d=\"M245.136 1542.97 L250.02 1542.97 L250.02 1548.85 L245.136 1548.85 L245.136 1542.97 Z\" fill=\"#000000\" fill-rule=\"evenodd\" fill-opacity=\"1\" /><path clip-path=\"url(#clip900)\" d=\"M270.205 1517.37 Q266.594 1517.37 264.765 1520.93 Q262.96 1524.47 262.96 1531.6 Q262.96 1538.71 264.765 1542.27 Q266.594 1545.82 270.205 1545.82 Q273.839 1545.82 275.645 1542.27 Q277.474 1538.71 277.474 1531.6 Q277.474 1524.47 275.645 1520.93 Q273.839 1517.37 270.205 1517.37 M270.205 1513.66 Q276.015 1513.66 279.071 1518.27 Q282.15 1522.85 282.15 1531.6 Q282.15 1540.33 279.071 1544.94 Q276.015 1549.52 270.205 1549.52 Q264.395 1549.52 261.316 1544.94 Q258.261 1540.33 258.261 1531.6 Q258.261 1522.85 261.316 1518.27 Q264.395 1513.66 270.205 1513.66 Z\" fill=\"#000000\" fill-rule=\"evenodd\" fill-opacity=\"1\" /><path clip-path=\"url(#clip900)\" d=\"M660.634 1517.37 Q657.023 1517.37 655.195 1520.93 Q653.389 1524.47 653.389 1531.6 Q653.389 1538.71 655.195 1542.27 Q657.023 1545.82 660.634 1545.82 Q664.269 1545.82 666.074 1542.27 Q667.903 1538.71 667.903 1531.6 Q667.903 1524.47 666.074 1520.93 Q664.269 1517.37 660.634 1517.37 M660.634 1513.66 Q666.445 1513.66 669.5 1518.27 Q672.579 1522.85 672.579 1531.6 Q672.579 1540.33 669.5 1544.94 Q666.445 1549.52 660.634 1549.52 Q654.824 1549.52 651.746 1544.94 Q648.69 1540.33 648.69 1531.6 Q648.69 1522.85 651.746 1518.27 Q654.824 1513.66 660.634 1513.66 Z\" fill=\"#000000\" fill-rule=\"evenodd\" fill-opacity=\"1\" /><path clip-path=\"url(#clip900)\" d=\"M680.796 1542.97 L685.681 1542.97 L685.681 1548.85 L680.796 1548.85 L680.796 1542.97 Z\" fill=\"#000000\" fill-rule=\"evenodd\" fill-opacity=\"1\" /><path clip-path=\"url(#clip900)\" d=\"M699.893 1544.91 L716.213 1544.91 L716.213 1548.85 L694.268 1548.85 L694.268 1544.91 Q696.93 1542.16 701.514 1537.53 Q706.12 1532.88 707.301 1531.53 Q709.546 1529.01 710.426 1527.27 Q711.329 1525.51 711.329 1523.82 Q711.329 1521.07 709.384 1519.33 Q707.463 1517.6 704.361 1517.6 Q702.162 1517.6 699.708 1518.36 Q697.278 1519.13 694.5 1520.68 L694.5 1515.95 Q697.324 1514.82 699.778 1514.24 Q702.231 1513.66 704.268 1513.66 Q709.639 1513.66 712.833 1516.35 Q716.028 1519.03 716.028 1523.52 Q716.028 1525.65 715.217 1527.57 Q714.43 1529.47 712.324 1532.07 Q711.745 1532.74 708.643 1535.95 Q705.542 1539.15 699.893 1544.91 Z\" fill=\"#000000\" fill-rule=\"evenodd\" fill-opacity=\"1\" /><path clip-path=\"url(#clip900)\" d=\"M1094.45 1517.37 Q1090.84 1517.37 1089.01 1520.93 Q1087.21 1524.47 1087.21 1531.6 Q1087.21 1538.71 1089.01 1542.27 Q1090.84 1545.82 1094.45 1545.82 Q1098.09 1545.82 1099.89 1542.27 Q1101.72 1538.71 1101.72 1531.6 Q1101.72 1524.47 1099.89 1520.93 Q1098.09 1517.37 1094.45 1517.37 M1094.45 1513.66 Q1100.26 1513.66 1103.32 1518.27 Q1106.4 1522.85 1106.4 1531.6 Q1106.4 1540.33 1103.32 1544.94 Q1100.26 1549.52 1094.45 1549.52 Q1088.64 1549.52 1085.57 1544.94 Q1082.51 1540.33 1082.51 1531.6 Q1082.51 1522.85 1085.57 1518.27 Q1088.64 1513.66 1094.45 1513.66 Z\" fill=\"#000000\" fill-rule=\"evenodd\" fill-opacity=\"1\" /><path clip-path=\"url(#clip900)\" d=\"M1114.62 1542.97 L1119.5 1542.97 L1119.5 1548.85 L1114.62 1548.85 L1114.62 1542.97 Z\" fill=\"#000000\" fill-rule=\"evenodd\" fill-opacity=\"1\" /><path clip-path=\"url(#clip900)\" d=\"M1142.53 1518.36 L1130.73 1536.81 L1142.53 1536.81 L1142.53 1518.36 M1141.31 1514.29 L1147.19 1514.29 L1147.19 1536.81 L1152.12 1536.81 L1152.12 1540.7 L1147.19 1540.7 L1147.19 1548.85 L1142.53 1548.85 L1142.53 1540.7 L1126.93 1540.7 L1126.93 1536.19 L1141.31 1514.29 Z\" fill=\"#000000\" fill-rule=\"evenodd\" fill-opacity=\"1\" /><path clip-path=\"url(#clip900)\" d=\"M1529.48 1517.37 Q1525.87 1517.37 1524.04 1520.93 Q1522.23 1524.47 1522.23 1531.6 Q1522.23 1538.71 1524.04 1542.27 Q1525.87 1545.82 1529.48 1545.82 Q1533.11 1545.82 1534.92 1542.27 Q1536.75 1538.71 1536.75 1531.6 Q1536.75 1524.47 1534.92 1520.93 Q1533.11 1517.37 1529.48 1517.37 M1529.48 1513.66 Q1535.29 1513.66 1538.34 1518.27 Q1541.42 1522.85 1541.42 1531.6 Q1541.42 1540.33 1538.34 1544.94 Q1535.29 1549.52 1529.48 1549.52 Q1523.67 1549.52 1520.59 1544.94 Q1517.53 1540.33 1517.53 1531.6 Q1517.53 1522.85 1520.59 1518.27 Q1523.67 1513.66 1529.48 1513.66 Z\" fill=\"#000000\" fill-rule=\"evenodd\" fill-opacity=\"1\" /><path clip-path=\"url(#clip900)\" d=\"M1549.64 1542.97 L1554.52 1542.97 L1554.52 1548.85 L1549.64 1548.85 L1549.64 1542.97 Z\" fill=\"#000000\" fill-rule=\"evenodd\" fill-opacity=\"1\" /><path clip-path=\"url(#clip900)\" d=\"M1575.29 1529.7 Q1572.14 1529.7 1570.29 1531.86 Q1568.46 1534.01 1568.46 1537.76 Q1568.46 1541.49 1570.29 1543.66 Q1572.14 1545.82 1575.29 1545.82 Q1578.44 1545.82 1580.27 1543.66 Q1582.12 1541.49 1582.12 1537.76 Q1582.12 1534.01 1580.27 1531.86 Q1578.44 1529.7 1575.29 1529.7 M1584.57 1515.05 L1584.57 1519.31 Q1582.81 1518.48 1581.01 1518.04 Q1579.22 1517.6 1577.46 1517.6 Q1572.83 1517.6 1570.38 1520.72 Q1567.95 1523.85 1567.6 1530.17 Q1568.97 1528.15 1571.03 1527.09 Q1573.09 1526 1575.57 1526 Q1580.77 1526 1583.78 1529.17 Q1586.82 1532.32 1586.82 1537.76 Q1586.82 1543.08 1583.67 1546.3 Q1580.52 1549.52 1575.29 1549.52 Q1569.29 1549.52 1566.12 1544.94 Q1562.95 1540.33 1562.95 1531.6 Q1562.95 1523.41 1566.84 1518.55 Q1570.73 1513.66 1577.28 1513.66 Q1579.04 1513.66 1580.82 1514.01 Q1582.63 1514.36 1584.57 1515.05 Z\" fill=\"#000000\" fill-rule=\"evenodd\" fill-opacity=\"1\" /><path clip-path=\"url(#clip900)\" d=\"M1964.47 1517.37 Q1960.86 1517.37 1959.03 1520.93 Q1957.22 1524.47 1957.22 1531.6 Q1957.22 1538.71 1959.03 1542.27 Q1960.86 1545.82 1964.47 1545.82 Q1968.1 1545.82 1969.91 1542.27 Q1971.74 1538.71 1971.74 1531.6 Q1971.74 1524.47 1969.91 1520.93 Q1968.1 1517.37 1964.47 1517.37 M1964.47 1513.66 Q1970.28 1513.66 1973.33 1518.27 Q1976.41 1522.85 1976.41 1531.6 Q1976.41 1540.33 1973.33 1544.94 Q1970.28 1549.52 1964.47 1549.52 Q1958.66 1549.52 1955.58 1544.94 Q1952.52 1540.33 1952.52 1531.6 Q1952.52 1522.85 1955.58 1518.27 Q1958.66 1513.66 1964.47 1513.66 Z\" fill=\"#000000\" fill-rule=\"evenodd\" fill-opacity=\"1\" /><path clip-path=\"url(#clip900)\" d=\"M1984.63 1542.97 L1989.51 1542.97 L1989.51 1548.85 L1984.63 1548.85 L1984.63 1542.97 Z\" fill=\"#000000\" fill-rule=\"evenodd\" fill-opacity=\"1\" /><path clip-path=\"url(#clip900)\" d=\"M2009.7 1532.44 Q2006.37 1532.44 2004.44 1534.22 Q2002.55 1536 2002.55 1539.13 Q2002.55 1542.25 2004.44 1544.03 Q2006.37 1545.82 2009.7 1545.82 Q2013.03 1545.82 2014.95 1544.03 Q2016.87 1542.23 2016.87 1539.13 Q2016.87 1536 2014.95 1534.22 Q2013.06 1532.44 2009.7 1532.44 M2005.02 1530.45 Q2002.01 1529.7 2000.32 1527.64 Q1998.66 1525.58 1998.66 1522.62 Q1998.66 1518.48 2001.6 1516.07 Q2004.56 1513.66 2009.7 1513.66 Q2014.86 1513.66 2017.8 1516.07 Q2020.74 1518.48 2020.74 1522.62 Q2020.74 1525.58 2019.05 1527.64 Q2017.38 1529.7 2014.4 1530.45 Q2017.78 1531.23 2019.65 1533.52 Q2021.55 1535.82 2021.55 1539.13 Q2021.55 1544.15 2018.47 1546.83 Q2015.42 1549.52 2009.7 1549.52 Q2003.98 1549.52 2000.9 1546.83 Q1997.85 1544.15 1997.85 1539.13 Q1997.85 1535.82 1999.75 1533.52 Q2001.64 1531.23 2005.02 1530.45 M2003.31 1523.06 Q2003.31 1525.75 2004.98 1527.25 Q2006.67 1528.76 2009.7 1528.76 Q2012.71 1528.76 2014.4 1527.25 Q2016.11 1525.75 2016.11 1523.06 Q2016.11 1520.38 2014.4 1518.87 Q2012.71 1517.37 2009.7 1517.37 Q2006.67 1517.37 2004.98 1518.87 Q2003.31 1520.38 2003.31 1523.06 Z\" fill=\"#000000\" fill-rule=\"evenodd\" fill-opacity=\"1\" /><polyline clip-path=\"url(#clip902)\" style=\"stroke:#000000; stroke-linecap:butt; stroke-linejoin:round; stroke-width:2; stroke-opacity:0.1; fill:none\" points=\"\n",
       "  186.274,1469.96 2352.76,1469.96 \n",
       "  \"/>\n",
       "<polyline clip-path=\"url(#clip902)\" style=\"stroke:#000000; stroke-linecap:butt; stroke-linejoin:round; stroke-width:2; stroke-opacity:0.1; fill:none\" points=\"\n",
       "  186.274,1124.46 2352.76,1124.46 \n",
       "  \"/>\n",
       "<polyline clip-path=\"url(#clip902)\" style=\"stroke:#000000; stroke-linecap:butt; stroke-linejoin:round; stroke-width:2; stroke-opacity:0.1; fill:none\" points=\"\n",
       "  186.274,778.969 2352.76,778.969 \n",
       "  \"/>\n",
       "<polyline clip-path=\"url(#clip902)\" style=\"stroke:#000000; stroke-linecap:butt; stroke-linejoin:round; stroke-width:2; stroke-opacity:0.1; fill:none\" points=\"\n",
       "  186.274,433.472 2352.76,433.472 \n",
       "  \"/>\n",
       "<polyline clip-path=\"url(#clip902)\" style=\"stroke:#000000; stroke-linecap:butt; stroke-linejoin:round; stroke-width:2; stroke-opacity:0.1; fill:none\" points=\"\n",
       "  186.274,87.9763 2352.76,87.9763 \n",
       "  \"/>\n",
       "<polyline clip-path=\"url(#clip900)\" style=\"stroke:#000000; stroke-linecap:butt; stroke-linejoin:round; stroke-width:4; stroke-opacity:1; fill:none\" points=\"\n",
       "  186.274,1486.45 186.274,47.2441 \n",
       "  \"/>\n",
       "<polyline clip-path=\"url(#clip900)\" style=\"stroke:#000000; stroke-linecap:butt; stroke-linejoin:round; stroke-width:4; stroke-opacity:1; fill:none\" points=\"\n",
       "  186.274,1469.96 205.172,1469.96 \n",
       "  \"/>\n",
       "<polyline clip-path=\"url(#clip900)\" style=\"stroke:#000000; stroke-linecap:butt; stroke-linejoin:round; stroke-width:4; stroke-opacity:1; fill:none\" points=\"\n",
       "  186.274,1124.46 205.172,1124.46 \n",
       "  \"/>\n",
       "<polyline clip-path=\"url(#clip900)\" style=\"stroke:#000000; stroke-linecap:butt; stroke-linejoin:round; stroke-width:4; stroke-opacity:1; fill:none\" points=\"\n",
       "  186.274,778.969 205.172,778.969 \n",
       "  \"/>\n",
       "<polyline clip-path=\"url(#clip900)\" style=\"stroke:#000000; stroke-linecap:butt; stroke-linejoin:round; stroke-width:4; stroke-opacity:1; fill:none\" points=\"\n",
       "  186.274,433.472 205.172,433.472 \n",
       "  \"/>\n",
       "<polyline clip-path=\"url(#clip900)\" style=\"stroke:#000000; stroke-linecap:butt; stroke-linejoin:round; stroke-width:4; stroke-opacity:1; fill:none\" points=\"\n",
       "  186.274,87.9763 205.172,87.9763 \n",
       "  \"/>\n",
       "<path clip-path=\"url(#clip900)\" d=\"M62.9365 1455.76 Q59.3254 1455.76 57.4967 1459.32 Q55.6912 1462.87 55.6912 1470 Q55.6912 1477.1 57.4967 1480.67 Q59.3254 1484.21 62.9365 1484.21 Q66.5707 1484.21 68.3763 1480.67 Q70.205 1477.1 70.205 1470 Q70.205 1462.87 68.3763 1459.32 Q66.5707 1455.76 62.9365 1455.76 M62.9365 1452.06 Q68.7467 1452.06 71.8022 1456.66 Q74.8809 1461.25 74.8809 1470 Q74.8809 1478.72 71.8022 1483.33 Q68.7467 1487.91 62.9365 1487.91 Q57.1264 1487.91 54.0477 1483.33 Q50.9921 1478.72 50.9921 1470 Q50.9921 1461.25 54.0477 1456.66 Q57.1264 1452.06 62.9365 1452.06 Z\" fill=\"#000000\" fill-rule=\"evenodd\" fill-opacity=\"1\" /><path clip-path=\"url(#clip900)\" d=\"M83.0984 1481.36 L87.9827 1481.36 L87.9827 1487.24 L83.0984 1487.24 L83.0984 1481.36 Z\" fill=\"#000000\" fill-rule=\"evenodd\" fill-opacity=\"1\" /><path clip-path=\"url(#clip900)\" d=\"M108.168 1455.76 Q104.557 1455.76 102.728 1459.32 Q100.922 1462.87 100.922 1470 Q100.922 1477.1 102.728 1480.67 Q104.557 1484.21 108.168 1484.21 Q111.802 1484.21 113.608 1480.67 Q115.436 1477.1 115.436 1470 Q115.436 1462.87 113.608 1459.32 Q111.802 1455.76 108.168 1455.76 M108.168 1452.06 Q113.978 1452.06 117.033 1456.66 Q120.112 1461.25 120.112 1470 Q120.112 1478.72 117.033 1483.33 Q113.978 1487.91 108.168 1487.91 Q102.358 1487.91 99.2789 1483.33 Q96.2234 1478.72 96.2234 1470 Q96.2234 1461.25 99.2789 1456.66 Q102.358 1452.06 108.168 1452.06 Z\" fill=\"#000000\" fill-rule=\"evenodd\" fill-opacity=\"1\" /><path clip-path=\"url(#clip900)\" d=\"M138.33 1455.76 Q134.719 1455.76 132.89 1459.32 Q131.084 1462.87 131.084 1470 Q131.084 1477.1 132.89 1480.67 Q134.719 1484.21 138.33 1484.21 Q141.964 1484.21 143.769 1480.67 Q145.598 1477.1 145.598 1470 Q145.598 1462.87 143.769 1459.32 Q141.964 1455.76 138.33 1455.76 M138.33 1452.06 Q144.14 1452.06 147.195 1456.66 Q150.274 1461.25 150.274 1470 Q150.274 1478.72 147.195 1483.33 Q144.14 1487.91 138.33 1487.91 Q132.519 1487.91 129.441 1483.33 Q126.385 1478.72 126.385 1470 Q126.385 1461.25 129.441 1456.66 Q132.519 1452.06 138.33 1452.06 Z\" fill=\"#000000\" fill-rule=\"evenodd\" fill-opacity=\"1\" /><path clip-path=\"url(#clip900)\" d=\"M63.9319 1110.26 Q60.3208 1110.26 58.4921 1113.83 Q56.6865 1117.37 56.6865 1124.5 Q56.6865 1131.61 58.4921 1135.17 Q60.3208 1138.71 63.9319 1138.71 Q67.5661 1138.71 69.3717 1135.17 Q71.2004 1131.61 71.2004 1124.5 Q71.2004 1117.37 69.3717 1113.83 Q67.5661 1110.26 63.9319 1110.26 M63.9319 1106.56 Q69.742 1106.56 72.7976 1111.17 Q75.8763 1115.75 75.8763 1124.5 Q75.8763 1133.23 72.7976 1137.83 Q69.742 1142.42 63.9319 1142.42 Q58.1217 1142.42 55.043 1137.83 Q51.9875 1133.23 51.9875 1124.5 Q51.9875 1115.75 55.043 1111.17 Q58.1217 1106.56 63.9319 1106.56 Z\" fill=\"#000000\" fill-rule=\"evenodd\" fill-opacity=\"1\" /><path clip-path=\"url(#clip900)\" d=\"M84.0938 1135.87 L88.978 1135.87 L88.978 1141.74 L84.0938 1141.74 L84.0938 1135.87 Z\" fill=\"#000000\" fill-rule=\"evenodd\" fill-opacity=\"1\" /><path clip-path=\"url(#clip900)\" d=\"M103.191 1137.81 L119.51 1137.81 L119.51 1141.74 L97.566 1141.74 L97.566 1137.81 Q100.228 1135.06 104.811 1130.43 Q109.418 1125.77 110.598 1124.43 Q112.844 1121.91 113.723 1120.17 Q114.626 1118.41 114.626 1116.72 Q114.626 1113.97 112.682 1112.23 Q110.76 1110.5 107.658 1110.5 Q105.459 1110.5 103.006 1111.26 Q100.575 1112.02 97.7974 1113.57 L97.7974 1108.85 Q100.621 1107.72 103.075 1107.14 Q105.529 1106.56 107.566 1106.56 Q112.936 1106.56 116.131 1109.25 Q119.325 1111.93 119.325 1116.42 Q119.325 1118.55 118.515 1120.47 Q117.728 1122.37 115.621 1124.96 Q115.043 1125.63 111.941 1128.85 Q108.839 1132.05 103.191 1137.81 Z\" fill=\"#000000\" fill-rule=\"evenodd\" fill-opacity=\"1\" /><path clip-path=\"url(#clip900)\" d=\"M129.371 1107.18 L147.728 1107.18 L147.728 1111.12 L133.654 1111.12 L133.654 1119.59 Q134.672 1119.24 135.691 1119.08 Q136.709 1118.9 137.728 1118.9 Q143.515 1118.9 146.894 1122.07 Q150.274 1125.24 150.274 1130.66 Q150.274 1136.24 146.802 1139.34 Q143.33 1142.42 137.01 1142.42 Q134.834 1142.42 132.566 1142.05 Q130.32 1141.68 127.913 1140.93 L127.913 1136.24 Q129.996 1137.37 132.219 1137.93 Q134.441 1138.48 136.918 1138.48 Q140.922 1138.48 143.26 1136.37 Q145.598 1134.27 145.598 1130.66 Q145.598 1127.05 143.26 1124.94 Q140.922 1122.83 136.918 1122.83 Q135.043 1122.83 133.168 1123.25 Q131.316 1123.67 129.371 1124.55 L129.371 1107.18 Z\" fill=\"#000000\" fill-rule=\"evenodd\" fill-opacity=\"1\" /><path clip-path=\"url(#clip900)\" d=\"M62.9365 764.767 Q59.3254 764.767 57.4967 768.332 Q55.6912 771.874 55.6912 779.003 Q55.6912 786.11 57.4967 789.675 Q59.3254 793.216 62.9365 793.216 Q66.5707 793.216 68.3763 789.675 Q70.205 786.11 70.205 779.003 Q70.205 771.874 68.3763 768.332 Q66.5707 764.767 62.9365 764.767 M62.9365 761.064 Q68.7467 761.064 71.8022 765.67 Q74.8809 770.253 74.8809 779.003 Q74.8809 787.73 71.8022 792.337 Q68.7467 796.92 62.9365 796.92 Q57.1264 796.92 54.0477 792.337 Q50.9921 787.73 50.9921 779.003 Q50.9921 770.253 54.0477 765.67 Q57.1264 761.064 62.9365 761.064 Z\" fill=\"#000000\" fill-rule=\"evenodd\" fill-opacity=\"1\" /><path clip-path=\"url(#clip900)\" d=\"M83.0984 790.369 L87.9827 790.369 L87.9827 796.249 L83.0984 796.249 L83.0984 790.369 Z\" fill=\"#000000\" fill-rule=\"evenodd\" fill-opacity=\"1\" /><path clip-path=\"url(#clip900)\" d=\"M98.2141 761.689 L116.57 761.689 L116.57 765.624 L102.496 765.624 L102.496 774.096 Q103.515 773.749 104.534 773.587 Q105.552 773.402 106.571 773.402 Q112.358 773.402 115.737 776.573 Q119.117 779.744 119.117 785.161 Q119.117 790.739 115.645 793.841 Q112.172 796.92 105.853 796.92 Q103.677 796.92 101.409 796.55 Q99.1632 796.179 96.7558 795.438 L96.7558 790.739 Q98.8391 791.874 101.061 792.429 Q103.284 792.985 105.76 792.985 Q109.765 792.985 112.103 790.878 Q114.441 788.772 114.441 785.161 Q114.441 781.55 112.103 779.443 Q109.765 777.337 105.76 777.337 Q103.885 777.337 102.01 777.753 Q100.159 778.17 98.2141 779.05 L98.2141 761.689 Z\" fill=\"#000000\" fill-rule=\"evenodd\" fill-opacity=\"1\" /><path clip-path=\"url(#clip900)\" d=\"M138.33 764.767 Q134.719 764.767 132.89 768.332 Q131.084 771.874 131.084 779.003 Q131.084 786.11 132.89 789.675 Q134.719 793.216 138.33 793.216 Q141.964 793.216 143.769 789.675 Q145.598 786.11 145.598 779.003 Q145.598 771.874 143.769 768.332 Q141.964 764.767 138.33 764.767 M138.33 761.064 Q144.14 761.064 147.195 765.67 Q150.274 770.253 150.274 779.003 Q150.274 787.73 147.195 792.337 Q144.14 796.92 138.33 796.92 Q132.519 796.92 129.441 792.337 Q126.385 787.73 126.385 779.003 Q126.385 770.253 129.441 765.67 Q132.519 761.064 138.33 761.064 Z\" fill=\"#000000\" fill-rule=\"evenodd\" fill-opacity=\"1\" /><path clip-path=\"url(#clip900)\" d=\"M63.9319 419.271 Q60.3208 419.271 58.4921 422.836 Q56.6865 426.378 56.6865 433.507 Q56.6865 440.614 58.4921 444.178 Q60.3208 447.72 63.9319 447.72 Q67.5661 447.72 69.3717 444.178 Q71.2004 440.614 71.2004 433.507 Q71.2004 426.378 69.3717 422.836 Q67.5661 419.271 63.9319 419.271 M63.9319 415.567 Q69.742 415.567 72.7976 420.174 Q75.8763 424.757 75.8763 433.507 Q75.8763 442.234 72.7976 446.84 Q69.742 451.424 63.9319 451.424 Q58.1217 451.424 55.043 446.84 Q51.9875 442.234 51.9875 433.507 Q51.9875 424.757 55.043 420.174 Q58.1217 415.567 63.9319 415.567 Z\" fill=\"#000000\" fill-rule=\"evenodd\" fill-opacity=\"1\" /><path clip-path=\"url(#clip900)\" d=\"M84.0938 444.873 L88.978 444.873 L88.978 450.752 L84.0938 450.752 L84.0938 444.873 Z\" fill=\"#000000\" fill-rule=\"evenodd\" fill-opacity=\"1\" /><path clip-path=\"url(#clip900)\" d=\"M97.9826 416.192 L120.205 416.192 L120.205 418.183 L107.658 450.752 L102.774 450.752 L114.58 420.128 L97.9826 420.128 L97.9826 416.192 Z\" fill=\"#000000\" fill-rule=\"evenodd\" fill-opacity=\"1\" /><path clip-path=\"url(#clip900)\" d=\"M129.371 416.192 L147.728 416.192 L147.728 420.128 L133.654 420.128 L133.654 428.6 Q134.672 428.253 135.691 428.091 Q136.709 427.905 137.728 427.905 Q143.515 427.905 146.894 431.077 Q150.274 434.248 150.274 439.665 Q150.274 445.243 146.802 448.345 Q143.33 451.424 137.01 451.424 Q134.834 451.424 132.566 451.053 Q130.32 450.683 127.913 449.942 L127.913 445.243 Q129.996 446.377 132.219 446.933 Q134.441 447.489 136.918 447.489 Q140.922 447.489 143.26 445.382 Q145.598 443.276 145.598 439.665 Q145.598 436.053 143.26 433.947 Q140.922 431.841 136.918 431.841 Q135.043 431.841 133.168 432.257 Q131.316 432.674 129.371 433.553 L129.371 416.192 Z\" fill=\"#000000\" fill-rule=\"evenodd\" fill-opacity=\"1\" /><path clip-path=\"url(#clip900)\" d=\"M53.7467 101.321 L61.3856 101.321 L61.3856 74.9555 L53.0754 76.6222 L53.0754 72.3629 L61.3393 70.6963 L66.0152 70.6963 L66.0152 101.321 L73.654 101.321 L73.654 105.256 L53.7467 105.256 L53.7467 101.321 Z\" fill=\"#000000\" fill-rule=\"evenodd\" fill-opacity=\"1\" /><path clip-path=\"url(#clip900)\" d=\"M83.0984 99.3767 L87.9827 99.3767 L87.9827 105.256 L83.0984 105.256 L83.0984 99.3767 Z\" fill=\"#000000\" fill-rule=\"evenodd\" fill-opacity=\"1\" /><path clip-path=\"url(#clip900)\" d=\"M108.168 73.775 Q104.557 73.775 102.728 77.3398 Q100.922 80.8814 100.922 88.011 Q100.922 95.1174 102.728 98.6822 Q104.557 102.224 108.168 102.224 Q111.802 102.224 113.608 98.6822 Q115.436 95.1174 115.436 88.011 Q115.436 80.8814 113.608 77.3398 Q111.802 73.775 108.168 73.775 M108.168 70.0713 Q113.978 70.0713 117.033 74.6777 Q120.112 79.261 120.112 88.011 Q120.112 96.7378 117.033 101.344 Q113.978 105.928 108.168 105.928 Q102.358 105.928 99.2789 101.344 Q96.2234 96.7378 96.2234 88.011 Q96.2234 79.261 99.2789 74.6777 Q102.358 70.0713 108.168 70.0713 Z\" fill=\"#000000\" fill-rule=\"evenodd\" fill-opacity=\"1\" /><path clip-path=\"url(#clip900)\" d=\"M138.33 73.775 Q134.719 73.775 132.89 77.3398 Q131.084 80.8814 131.084 88.011 Q131.084 95.1174 132.89 98.6822 Q134.719 102.224 138.33 102.224 Q141.964 102.224 143.769 98.6822 Q145.598 95.1174 145.598 88.011 Q145.598 80.8814 143.769 77.3398 Q141.964 73.775 138.33 73.775 M138.33 70.0713 Q144.14 70.0713 147.195 74.6777 Q150.274 79.261 150.274 88.011 Q150.274 96.7378 147.195 101.344 Q144.14 105.928 138.33 105.928 Q132.519 105.928 129.441 101.344 Q126.385 96.7378 126.385 88.011 Q126.385 79.261 129.441 74.6777 Q132.519 70.0713 138.33 70.0713 Z\" fill=\"#000000\" fill-rule=\"evenodd\" fill-opacity=\"1\" /><polyline clip-path=\"url(#clip902)\" style=\"stroke:#009af9; stroke-linecap:butt; stroke-linejoin:round; stroke-width:4; stroke-opacity:1; fill:none\" points=\"\n",
       "  247.59,917.167 399.791,1193.56 530.25,640.77 660.708,640.77 791.167,345.09 943.369,491.055 1073.83,327.166 1204.29,244.427 1334.74,353.743 1486.95,364.373 \n",
       "  1617.4,339.246 1747.86,263.466 1878.32,169.269 2030.52,87.9763 2160.98,87.9763 2291.44,87.9763 \n",
       "  \"/>\n",
       "<circle clip-path=\"url(#clip902)\" cx=\"247.59\" cy=\"917.167\" r=\"14\" fill=\"#009af9\" fill-rule=\"evenodd\" fill-opacity=\"1\" stroke=\"#000000\" stroke-opacity=\"1\" stroke-width=\"3.2\"/>\n",
       "<circle clip-path=\"url(#clip902)\" cx=\"399.791\" cy=\"1193.56\" r=\"14\" fill=\"#009af9\" fill-rule=\"evenodd\" fill-opacity=\"1\" stroke=\"#000000\" stroke-opacity=\"1\" stroke-width=\"3.2\"/>\n",
       "<circle clip-path=\"url(#clip902)\" cx=\"530.25\" cy=\"640.77\" r=\"14\" fill=\"#009af9\" fill-rule=\"evenodd\" fill-opacity=\"1\" stroke=\"#000000\" stroke-opacity=\"1\" stroke-width=\"3.2\"/>\n",
       "<circle clip-path=\"url(#clip902)\" cx=\"660.708\" cy=\"640.77\" r=\"14\" fill=\"#009af9\" fill-rule=\"evenodd\" fill-opacity=\"1\" stroke=\"#000000\" stroke-opacity=\"1\" stroke-width=\"3.2\"/>\n",
       "<circle clip-path=\"url(#clip902)\" cx=\"791.167\" cy=\"345.09\" r=\"14\" fill=\"#009af9\" fill-rule=\"evenodd\" fill-opacity=\"1\" stroke=\"#000000\" stroke-opacity=\"1\" stroke-width=\"3.2\"/>\n",
       "<circle clip-path=\"url(#clip902)\" cx=\"943.369\" cy=\"491.055\" r=\"14\" fill=\"#009af9\" fill-rule=\"evenodd\" fill-opacity=\"1\" stroke=\"#000000\" stroke-opacity=\"1\" stroke-width=\"3.2\"/>\n",
       "<circle clip-path=\"url(#clip902)\" cx=\"1073.83\" cy=\"327.166\" r=\"14\" fill=\"#009af9\" fill-rule=\"evenodd\" fill-opacity=\"1\" stroke=\"#000000\" stroke-opacity=\"1\" stroke-width=\"3.2\"/>\n",
       "<circle clip-path=\"url(#clip902)\" cx=\"1204.29\" cy=\"244.427\" r=\"14\" fill=\"#009af9\" fill-rule=\"evenodd\" fill-opacity=\"1\" stroke=\"#000000\" stroke-opacity=\"1\" stroke-width=\"3.2\"/>\n",
       "<circle clip-path=\"url(#clip902)\" cx=\"1334.74\" cy=\"353.743\" r=\"14\" fill=\"#009af9\" fill-rule=\"evenodd\" fill-opacity=\"1\" stroke=\"#000000\" stroke-opacity=\"1\" stroke-width=\"3.2\"/>\n",
       "<circle clip-path=\"url(#clip902)\" cx=\"1486.95\" cy=\"364.373\" r=\"14\" fill=\"#009af9\" fill-rule=\"evenodd\" fill-opacity=\"1\" stroke=\"#000000\" stroke-opacity=\"1\" stroke-width=\"3.2\"/>\n",
       "<circle clip-path=\"url(#clip902)\" cx=\"1617.4\" cy=\"339.246\" r=\"14\" fill=\"#009af9\" fill-rule=\"evenodd\" fill-opacity=\"1\" stroke=\"#000000\" stroke-opacity=\"1\" stroke-width=\"3.2\"/>\n",
       "<circle clip-path=\"url(#clip902)\" cx=\"1747.86\" cy=\"263.466\" r=\"14\" fill=\"#009af9\" fill-rule=\"evenodd\" fill-opacity=\"1\" stroke=\"#000000\" stroke-opacity=\"1\" stroke-width=\"3.2\"/>\n",
       "<circle clip-path=\"url(#clip902)\" cx=\"1878.32\" cy=\"169.269\" r=\"14\" fill=\"#009af9\" fill-rule=\"evenodd\" fill-opacity=\"1\" stroke=\"#000000\" stroke-opacity=\"1\" stroke-width=\"3.2\"/>\n",
       "<circle clip-path=\"url(#clip902)\" cx=\"2030.52\" cy=\"87.9763\" r=\"14\" fill=\"#009af9\" fill-rule=\"evenodd\" fill-opacity=\"1\" stroke=\"#000000\" stroke-opacity=\"1\" stroke-width=\"3.2\"/>\n",
       "<circle clip-path=\"url(#clip902)\" cx=\"2160.98\" cy=\"87.9763\" r=\"14\" fill=\"#009af9\" fill-rule=\"evenodd\" fill-opacity=\"1\" stroke=\"#000000\" stroke-opacity=\"1\" stroke-width=\"3.2\"/>\n",
       "<circle clip-path=\"url(#clip902)\" cx=\"2291.44\" cy=\"87.9763\" r=\"14\" fill=\"#009af9\" fill-rule=\"evenodd\" fill-opacity=\"1\" stroke=\"#000000\" stroke-opacity=\"1\" stroke-width=\"3.2\"/>\n",
       "<polyline clip-path=\"url(#clip902)\" style=\"stroke:#e26f46; stroke-linecap:butt; stroke-linejoin:round; stroke-width:4; stroke-opacity:1; fill:none\" points=\"\n",
       "  247.59,1445.72 399.791,1363.65 530.25,1180.71 660.708,845.839 791.167,929.184 943.369,614.447 1073.83,451.656 1204.29,951.717 1334.74,606.221 1486.95,894.134 \n",
       "  1617.4,725.815 1747.86,87.9763 1878.32,87.9763 2030.52,87.9763 \n",
       "  \"/>\n",
       "<circle clip-path=\"url(#clip902)\" cx=\"247.59\" cy=\"1445.72\" r=\"14\" fill=\"#e26f46\" fill-rule=\"evenodd\" fill-opacity=\"1\" stroke=\"#000000\" stroke-opacity=\"1\" stroke-width=\"3.2\"/>\n",
       "<circle clip-path=\"url(#clip902)\" cx=\"399.791\" cy=\"1363.65\" r=\"14\" fill=\"#e26f46\" fill-rule=\"evenodd\" fill-opacity=\"1\" stroke=\"#000000\" stroke-opacity=\"1\" stroke-width=\"3.2\"/>\n",
       "<circle clip-path=\"url(#clip902)\" cx=\"530.25\" cy=\"1180.71\" r=\"14\" fill=\"#e26f46\" fill-rule=\"evenodd\" fill-opacity=\"1\" stroke=\"#000000\" stroke-opacity=\"1\" stroke-width=\"3.2\"/>\n",
       "<circle clip-path=\"url(#clip902)\" cx=\"660.708\" cy=\"845.839\" r=\"14\" fill=\"#e26f46\" fill-rule=\"evenodd\" fill-opacity=\"1\" stroke=\"#000000\" stroke-opacity=\"1\" stroke-width=\"3.2\"/>\n",
       "<circle clip-path=\"url(#clip902)\" cx=\"791.167\" cy=\"929.184\" r=\"14\" fill=\"#e26f46\" fill-rule=\"evenodd\" fill-opacity=\"1\" stroke=\"#000000\" stroke-opacity=\"1\" stroke-width=\"3.2\"/>\n",
       "<circle clip-path=\"url(#clip902)\" cx=\"943.369\" cy=\"614.447\" r=\"14\" fill=\"#e26f46\" fill-rule=\"evenodd\" fill-opacity=\"1\" stroke=\"#000000\" stroke-opacity=\"1\" stroke-width=\"3.2\"/>\n",
       "<circle clip-path=\"url(#clip902)\" cx=\"1073.83\" cy=\"451.656\" r=\"14\" fill=\"#e26f46\" fill-rule=\"evenodd\" fill-opacity=\"1\" stroke=\"#000000\" stroke-opacity=\"1\" stroke-width=\"3.2\"/>\n",
       "<circle clip-path=\"url(#clip902)\" cx=\"1204.29\" cy=\"951.717\" r=\"14\" fill=\"#e26f46\" fill-rule=\"evenodd\" fill-opacity=\"1\" stroke=\"#000000\" stroke-opacity=\"1\" stroke-width=\"3.2\"/>\n",
       "<circle clip-path=\"url(#clip902)\" cx=\"1334.74\" cy=\"606.221\" r=\"14\" fill=\"#e26f46\" fill-rule=\"evenodd\" fill-opacity=\"1\" stroke=\"#000000\" stroke-opacity=\"1\" stroke-width=\"3.2\"/>\n",
       "<circle clip-path=\"url(#clip902)\" cx=\"1486.95\" cy=\"894.134\" r=\"14\" fill=\"#e26f46\" fill-rule=\"evenodd\" fill-opacity=\"1\" stroke=\"#000000\" stroke-opacity=\"1\" stroke-width=\"3.2\"/>\n",
       "<circle clip-path=\"url(#clip902)\" cx=\"1617.4\" cy=\"725.815\" r=\"14\" fill=\"#e26f46\" fill-rule=\"evenodd\" fill-opacity=\"1\" stroke=\"#000000\" stroke-opacity=\"1\" stroke-width=\"3.2\"/>\n",
       "<circle clip-path=\"url(#clip902)\" cx=\"1747.86\" cy=\"87.9763\" r=\"14\" fill=\"#e26f46\" fill-rule=\"evenodd\" fill-opacity=\"1\" stroke=\"#000000\" stroke-opacity=\"1\" stroke-width=\"3.2\"/>\n",
       "<circle clip-path=\"url(#clip902)\" cx=\"1878.32\" cy=\"87.9763\" r=\"14\" fill=\"#e26f46\" fill-rule=\"evenodd\" fill-opacity=\"1\" stroke=\"#000000\" stroke-opacity=\"1\" stroke-width=\"3.2\"/>\n",
       "<circle clip-path=\"url(#clip902)\" cx=\"2030.52\" cy=\"87.9763\" r=\"14\" fill=\"#e26f46\" fill-rule=\"evenodd\" fill-opacity=\"1\" stroke=\"#000000\" stroke-opacity=\"1\" stroke-width=\"3.2\"/>\n",
       "<path clip-path=\"url(#clip900)\" d=\"\n",
       "M1858.64 1438.47 L2280.54 1438.47 L2280.54 1282.95 L1858.64 1282.95  Z\n",
       "  \" fill=\"#ffffff\" fill-rule=\"evenodd\" fill-opacity=\"1\"/>\n",
       "<polyline clip-path=\"url(#clip900)\" style=\"stroke:#000000; stroke-linecap:butt; stroke-linejoin:round; stroke-width:4; stroke-opacity:1; fill:none\" points=\"\n",
       "  1858.64,1438.47 2280.54,1438.47 2280.54,1282.95 1858.64,1282.95 1858.64,1438.47 \n",
       "  \"/>\n",
       "<polyline clip-path=\"url(#clip900)\" style=\"stroke:#009af9; stroke-linecap:butt; stroke-linejoin:round; stroke-width:4; stroke-opacity:1; fill:none\" points=\"\n",
       "  1882.71,1334.79 2027.14,1334.79 \n",
       "  \"/>\n",
       "<circle clip-path=\"url(#clip900)\" cx=\"1954.93\" cy=\"1334.79\" r=\"23\" fill=\"#009af9\" fill-rule=\"evenodd\" fill-opacity=\"1\" stroke=\"#000000\" stroke-opacity=\"1\" stroke-width=\"5.12\"/>\n",
       "<path clip-path=\"url(#clip900)\" d=\"M2051.22 1317.51 L2080.45 1317.51 L2080.45 1321.45 L2068.18 1321.45 L2068.18 1352.07 L2063.48 1352.07 L2063.48 1321.45 L2051.22 1321.45 L2051.22 1317.51 Z\" fill=\"#000000\" fill-rule=\"evenodd\" fill-opacity=\"1\" /><path clip-path=\"url(#clip900)\" d=\"M2095.01 1316.1 Q2091.91 1321.43 2090.41 1326.63 Q2088.9 1331.84 2088.9 1337.19 Q2088.9 1342.54 2090.41 1347.79 Q2091.93 1353.02 2095.01 1358.32 L2091.31 1358.32 Q2087.84 1352.88 2086.1 1347.63 Q2084.39 1342.38 2084.39 1337.19 Q2084.39 1332.03 2086.1 1326.8 Q2087.81 1321.57 2091.31 1316.1 L2095.01 1316.1 Z\" fill=\"#000000\" fill-rule=\"evenodd\" fill-opacity=\"1\" /><path clip-path=\"url(#clip900)\" d=\"M2120.61 1322.35 L2120.61 1335.25 L2133.51 1335.25 L2133.51 1339.18 L2120.61 1339.18 L2120.61 1352.07 L2116.73 1352.07 L2116.73 1339.18 L2103.83 1339.18 L2103.83 1335.25 L2116.73 1335.25 L2116.73 1322.35 L2120.61 1322.35 Z\" fill=\"#000000\" fill-rule=\"evenodd\" fill-opacity=\"1\" /><path clip-path=\"url(#clip900)\" d=\"M2175.94 1336.17 L2175.94 1338.26 L2166.84 1347.35 L2164.06 1344.57 L2169.46 1339.18 L2141.24 1339.18 L2141.24 1335.25 L2169.46 1335.25 L2164.06 1329.85 L2166.84 1327.07 L2175.94 1336.17 Z\" fill=\"#000000\" fill-rule=\"evenodd\" fill-opacity=\"1\" /><path clip-path=\"url(#clip900)\" d=\"M2200.06 1322.35 L2200.06 1335.25 L2212.95 1335.25 L2212.95 1339.18 L2200.06 1339.18 L2200.06 1352.07 L2196.17 1352.07 L2196.17 1339.18 L2183.28 1339.18 L2183.28 1335.25 L2196.17 1335.25 L2196.17 1322.35 L2200.06 1322.35 Z\" fill=\"#000000\" fill-rule=\"evenodd\" fill-opacity=\"1\" /><path clip-path=\"url(#clip900)\" d=\"M2221.77 1316.1 L2225.47 1316.1 Q2228.95 1321.57 2230.66 1326.8 Q2232.4 1332.03 2232.4 1337.19 Q2232.4 1342.38 2230.66 1347.63 Q2228.95 1352.88 2225.47 1358.32 L2221.77 1358.32 Q2224.85 1353.02 2226.35 1347.79 Q2227.88 1342.54 2227.88 1337.19 Q2227.88 1331.84 2226.35 1326.63 Q2224.85 1321.43 2221.77 1316.1 Z\" fill=\"#000000\" fill-rule=\"evenodd\" fill-opacity=\"1\" /><polyline clip-path=\"url(#clip900)\" style=\"stroke:#e26f46; stroke-linecap:butt; stroke-linejoin:round; stroke-width:4; stroke-opacity:1; fill:none\" points=\"\n",
       "  1882.71,1386.63 2027.14,1386.63 \n",
       "  \"/>\n",
       "<circle clip-path=\"url(#clip900)\" cx=\"1954.93\" cy=\"1386.63\" r=\"23\" fill=\"#e26f46\" fill-rule=\"evenodd\" fill-opacity=\"1\" stroke=\"#000000\" stroke-opacity=\"1\" stroke-width=\"5.12\"/>\n",
       "<path clip-path=\"url(#clip900)\" d=\"M2051.22 1369.35 L2080.45 1369.35 L2080.45 1373.29 L2068.18 1373.29 L2068.18 1403.91 L2063.48 1403.91 L2063.48 1373.29 L2051.22 1373.29 L2051.22 1369.35 Z\" fill=\"#000000\" fill-rule=\"evenodd\" fill-opacity=\"1\" /><path clip-path=\"url(#clip900)\" d=\"M2095.01 1367.94 Q2091.91 1373.27 2090.41 1378.47 Q2088.9 1383.68 2088.9 1389.03 Q2088.9 1394.38 2090.41 1399.63 Q2091.93 1404.86 2095.01 1410.16 L2091.31 1410.16 Q2087.84 1404.72 2086.1 1399.47 Q2084.39 1394.22 2084.39 1389.03 Q2084.39 1383.87 2086.1 1378.64 Q2087.81 1373.41 2091.31 1367.94 L2095.01 1367.94 Z\" fill=\"#000000\" fill-rule=\"evenodd\" fill-opacity=\"1\" /><path clip-path=\"url(#clip900)\" d=\"M2103.83 1387.09 L2133.51 1387.09 L2133.51 1391.02 L2103.83 1391.02 L2103.83 1387.09 Z\" fill=\"#000000\" fill-rule=\"evenodd\" fill-opacity=\"1\" /><path clip-path=\"url(#clip900)\" d=\"M2175.94 1388.01 L2175.94 1390.1 L2166.84 1399.19 L2164.06 1396.41 L2169.46 1391.02 L2141.24 1391.02 L2141.24 1387.09 L2169.46 1387.09 L2164.06 1381.69 L2166.84 1378.91 L2175.94 1388.01 Z\" fill=\"#000000\" fill-rule=\"evenodd\" fill-opacity=\"1\" /><path clip-path=\"url(#clip900)\" d=\"M2200.06 1374.19 L2200.06 1387.09 L2212.95 1387.09 L2212.95 1391.02 L2200.06 1391.02 L2200.06 1403.91 L2196.17 1403.91 L2196.17 1391.02 L2183.28 1391.02 L2183.28 1387.09 L2196.17 1387.09 L2196.17 1374.19 L2200.06 1374.19 Z\" fill=\"#000000\" fill-rule=\"evenodd\" fill-opacity=\"1\" /><path clip-path=\"url(#clip900)\" d=\"M2221.77 1367.94 L2225.47 1367.94 Q2228.95 1373.41 2230.66 1378.64 Q2232.4 1383.87 2232.4 1389.03 Q2232.4 1394.22 2230.66 1399.47 Q2228.95 1404.72 2225.47 1410.16 L2221.77 1410.16 Q2224.85 1404.86 2226.35 1399.63 Q2227.88 1394.38 2227.88 1389.03 Q2227.88 1383.68 2226.35 1378.47 Q2224.85 1373.27 2221.77 1367.94 Z\" fill=\"#000000\" fill-rule=\"evenodd\" fill-opacity=\"1\" /></svg>\n"
      ]
     },
     "metadata": {},
     "output_type": "display_data"
    }
   ],
   "source": [
    "points = 16\n",
    "\n",
    "chosen_ths = [0:points-1...] ./ points\n",
    "inds = [findfirst(ths .>= chosen_ths[i]) for i in 1:length(chosen_ths)]\n",
    "\n",
    "plot(ths[inds], bal_to_bals2[inds], markershape = :circle, label = \"T(+→+)\", legend = :bottomright)\n",
    "plot!(ths[inds], ubal_to_bals[inds], markershape = :circle, label = \"T(−→+)\") "
   ]
  }
 ],
 "metadata": {
  "kernelspec": {
   "display_name": "Julia 1.6.4",
   "language": "julia",
   "name": "julia-1.6"
  },
  "language_info": {
   "file_extension": ".jl",
   "mimetype": "application/julia",
   "name": "julia",
   "version": "1.6.4"
  },
  "orig_nbformat": 4
 },
 "nbformat": 4,
 "nbformat_minor": 2
}

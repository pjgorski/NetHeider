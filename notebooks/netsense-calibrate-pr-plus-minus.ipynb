{
 "cells": [
  {
   "cell_type": "code",
   "execution_count": 56,
   "metadata": {},
   "outputs": [
    {
     "data": {
      "text/plain": [
       "PyObject <function load_pickle at 0x7fd366177ca0>"
      ]
     },
     "metadata": {},
     "output_type": "display_data"
    }
   ],
   "source": [
    "using PyCall\n",
    "using LinearAlgebra\n",
    "\n",
    "using DrWatson\n",
    "quickactivate(@__DIR__)\n",
    "\n",
    "py\"\"\"\n",
    "import pickle\n",
    " \n",
    "def load_pickle(fpath):\n",
    "    with open(fpath, \"rb\") as f:\n",
    "        data = pickle.load(f)\n",
    "    return data\n",
    "\"\"\"\n",
    "\n",
    "load_pickle = py\"load_pickle\""
   ]
  },
  {
   "cell_type": "code",
   "execution_count": 2,
   "metadata": {},
   "outputs": [
    {
     "data": {
      "text/plain": [
       "Dict{Any, Any} with 6 entries:\n",
       "  5 => PyObject <networkx.classes.graph.Graph object at 0x7fd365a62a00>\n",
       "  4 => PyObject <networkx.classes.graph.Graph object at 0x7fd365aa8dc0>\n",
       "  6 => PyObject <networkx.classes.graph.Graph object at 0x7fd365a25d00>\n",
       "  2 => PyObject <networkx.classes.graph.Graph object at 0x7fd365b25520>\n",
       "  3 => PyObject <networkx.classes.graph.Graph object at 0x7fd365a6d160>\n",
       "  1 => PyObject <networkx.classes.graph.Graph object at 0x7fd374176970>"
      ]
     },
     "metadata": {},
     "output_type": "display_data"
    }
   ],
   "source": [
    "fname = datadir(\"exp_pro\", \"NetSense_network.pkl\")\n",
    "file = load_pickle(fname)"
   ]
  },
  {
   "cell_type": "code",
   "execution_count": 3,
   "metadata": {},
   "outputs": [
    {
     "data": {
      "text/plain": [
       "3-element Vector{Int64}:\n",
       " 26999\n",
       " 30952\n",
       " 62555"
      ]
     },
     "metadata": {},
     "output_type": "display_data"
    }
   ],
   "source": [
    "#works! (shows a lot without semicolon)\n",
    "file[1].nodes.data();\n",
    "[n for n in file[1].neighbors(75178)]"
   ]
  },
  {
   "cell_type": "code",
   "execution_count": 4,
   "metadata": {},
   "outputs": [
    {
     "data": {
      "text/plain": [
       "PyObject <function get_adjacency_matrix at 0x7fd365afab80>"
      ]
     },
     "metadata": {},
     "output_type": "display_data"
    }
   ],
   "source": [
    "py\"\"\"\n",
    "import networkx as nx\n",
    "def get_triads(net):\n",
    "    A = nx.adjacency_matrix(net).todense() \n",
    "\n",
    "    N = A.shape[0]\n",
    "\n",
    "    triads = []\n",
    "\n",
    "    for i in range(0,N):\n",
    "        for j in range(i+1,N):\n",
    "            if A[i,j] > 0:\n",
    "                for k in range(j+1,N):\n",
    "                    if A[i,k] > 0 and A[j,k] > 0:\n",
    "                        triads.append((i,j,k))\n",
    "    \n",
    "    return triads\n",
    "\n",
    "def get_adjacency_matrix(net, ordering = None):\n",
    "    return nx.adjacency_matrix(net, ordering).todense() \n",
    "\"\"\"\n",
    "\n",
    "function get_triads2(A)\n",
    "    \n",
    "\n",
    "    N = size(A)[1]\n",
    "\n",
    "    triads = []\n",
    "\n",
    "    for i in 1:N\n",
    "        for j in (i+1):N\n",
    "            if A[i,j] > 0\n",
    "                for k in (j+1):N\n",
    "                    if A[i,k] > 0 && A[j,k] > 0\n",
    "                        push!(triads, (i,j,k))\n",
    "                    end\n",
    "                end\n",
    "            end\n",
    "        end\n",
    "    end\n",
    "    \n",
    "    return triads\n",
    "end\n",
    "\n",
    "get_triads = py\"get_triads\"\n",
    "get_adjacency_matrix = py\"get_adjacency_matrix\""
   ]
  },
  {
   "cell_type": "code",
   "execution_count": 5,
   "metadata": {},
   "outputs": [
    {
     "data": {
      "text/plain": [
       "45-element Vector{Tuple{Int64, Int64, Int64}}:\n",
       " (0, 1, 3)\n",
       " (0, 3, 4)\n",
       " (1, 2, 3)\n",
       " (2, 3, 4)\n",
       " (3, 8, 15)\n",
       " (4, 69, 94)\n",
       " (5, 7, 8)\n",
       " (5, 7, 17)\n",
       " (5, 7, 41)\n",
       " (5, 7, 43)\n",
       " ⋮\n",
       " (12, 53, 80)\n",
       " (12, 59, 62)\n",
       " (13, 14, 50)\n",
       " (15, 19, 20)\n",
       " (17, 44, 77)\n",
       " (21, 22, 23)\n",
       " (35, 36, 83)\n",
       " (53, 59, 62)\n",
       " (53, 62, 74)"
      ]
     },
     "metadata": {},
     "output_type": "display_data"
    }
   ],
   "source": [
    "display(get_triads(file[1]))"
   ]
  },
  {
   "cell_type": "code",
   "execution_count": 6,
   "metadata": {},
   "outputs": [
    {
     "data": {
      "text/plain": [
       "98×98 Matrix{Int64}:\n",
       "  0  11    0    4   2   0   0   0   0  …  0  0  0   0   0  0   0  0  0  0  0\n",
       " 11   0   61    8   0   0   0   0   0     0  0  0   0   0  0   0  0  0  0  0\n",
       "  0  61    0  193  19   0   0   0   0     0  0  0   0   0  0   0  0  0  0  0\n",
       "  4   8  193    0   5   0   0   0   8     0  0  0   0   0  0   0  0  0  0  0\n",
       "  2   0   19    5   0   0   0   7   0     0  0  0   0   0  0   0  1  0  0  0\n",
       "  0   0    0    0   0   0  18  36  49  …  0  0  0   0   0  0   0  0  0  0  0\n",
       "  0   0    0    0   0  18   0   0   0     0  0  0   0   0  0   0  2  0  0  0\n",
       "  0   0    0    0   7  36   0   0  81     0  0  0   0   0  0   0  0  0  0  0\n",
       "  0   0    0    8   0  49   0  81   0     0  0  0   0   0  0   0  0  0  0  0\n",
       "  0   0    0    0   0   0   0   0   0     0  0  0   0   0  0   0  0  0  0  0\n",
       "  ⋮                     ⋮              ⋱            ⋮                ⋮     \n",
       "  0   0    0    0   0   0   0   0   0     0  0  0   0   0  0   0  0  0  0  0\n",
       "  0   0    0    0   0   0   0   0   0  …  0  0  0   0  86  0   0  0  0  0  0\n",
       "  0   0    0    0   0   0   0   0   0     0  0  0  86   0  0  10  0  0  0  0\n",
       "  0   0    0    0   0   0   0   0   0     0  0  0   0   0  0   0  0  0  0  0\n",
       "  0   0    0    0   0   0   0   0   0     0  0  0   0  10  0   0  0  0  0  0\n",
       "  0   0    0    0   1   0   2   0   0     0  0  0   0   0  0   0  0  0  0  0\n",
       "  0   0    0    0   0   0   0   0   0  …  0  0  0   0   0  0   0  0  0  0  0\n",
       "  0   0    0    0   0   0   0   0   0     0  0  0   0   0  0   0  0  0  0  0\n",
       "  0   0    0    0   0   0   0   0   0     0  0  0   0   0  0   0  0  0  0  0"
      ]
     },
     "metadata": {},
     "output_type": "display_data"
    }
   ],
   "source": [
    "As = [get_adjacency_matrix(file[i]) for i in 1:6]\n",
    "A1 = get_adjacency_matrix(file[1])\n",
    "A2 = As[2]\n",
    "A1"
   ]
  },
  {
   "cell_type": "code",
   "execution_count": 7,
   "metadata": {},
   "outputs": [
    {
     "data": {
      "text/plain": [
       "89×89 Matrix{Int64}:\n",
       "    0  2878    0    0    0    0    0  …  0  0  0  0  0  0  0  0   0  0    0\n",
       " 2878     0   70    0    0    0    0     0  0  0  0  0  0  0  0   0  0    0\n",
       "    0    70    0  127    0    0    0     0  0  0  0  0  0  0  0   0  0    0\n",
       "    0     0  127    0    0    0    0     0  0  0  0  0  0  0  0   0  0    0\n",
       "    0     0    0    0    0  315    0     0  0  0  0  0  0  0  0   0  0  124\n",
       "    0     0    0    0  315    0    0  …  0  0  0  0  0  0  0  0   0  0    0\n",
       "    0     0    0    0    0    0    0     0  0  0  0  0  0  0  0   0  0    0\n",
       "    0     0    0    0    0    0  278     0  0  0  0  0  0  0  0   0  0    0\n",
       "    0     0    0    0   20    0    0     0  0  0  0  0  0  0  0  18  0    0\n",
       "    0     0    0    0    0    0    0     0  0  0  0  0  0  0  0   0  0    0\n",
       "    ⋮                         ⋮       ⋱        ⋮              ⋮         \n",
       "    0     0    0    0    0    0    0  …  0  0  0  0  0  0  0  0   0  0    0\n",
       "    0     0    0    0    0    0    0     0  0  0  0  0  0  0  0   0  0    0\n",
       "    0     0    0    0    0    0    0     0  0  0  0  0  0  0  0   0  0    0\n",
       "    0     0    0    0    0    0    0     0  0  0  0  0  0  0  0   0  0    0\n",
       "    0     0    0    0    0    0    0     0  0  0  0  0  0  0  0   0  0    0\n",
       "    0     0    0    0    0    0    0  …  0  0  0  0  0  0  0  0   0  0    0\n",
       "    0     0    0    0    0    0    0     0  0  0  0  0  0  0  0   0  0    0\n",
       "    0     0    0    0    0    0    0     0  0  0  0  0  0  0  0   0  0    0\n",
       "    0     0    0    0  124    0    0     0  0  0  0  0  0  0  0   0  0    0"
      ]
     },
     "metadata": {},
     "output_type": "display_data"
    }
   ],
   "source": [
    "get_adjacency_matrix(file[1], file[2].nodes())"
   ]
  },
  {
   "cell_type": "code",
   "execution_count": 8,
   "metadata": {},
   "outputs": [
    {
     "name": "stdout",
     "output_type": "stream",
     "text": [
      "PyObject NodeView((75178, 30952, 13116, 62555, 26999, 10841, 17353, 86352, 53275, 77291, 18394, 36006, 57637, 71627, 75261, 19844, 25323, 40997, 52635, 45945, 72746, 15071, 46771, 29914, 52067, 37617, 30076, 71700, 19066, 51675, 63188, 79877, 14106, 76313, 82282, 85596, 10060, 75468, 46021, 23642, 50869, 68633, 18420, 68494, 39783, 21350, 66404, 85970, 59367, 13799, 62560, 16495, 34853, 67947, 50709, 70889, 86727, 45539, 14188, 89827, 11692, 82060, 66754, 66245, 46654, 32174, 58909, 25947, 34250, 18344, 38823, 22745, 26127, 38893, 31372, 68533, 31583, 49597, 73303, 46160, 25544, 51597, 49294, 51722, 66052, 53884, 51552, 80058, 10281, 45292, 32899, 26425, 78911, 23144, 44520, 50181, 88175, 63063))"
     ]
    },
    {
     "data": {
      "text/plain": [
       "3-element Vector{Int64}:\n",
       " 26999\n",
       " 30952\n",
       " 62555"
      ]
     },
     "metadata": {},
     "output_type": "display_data"
    }
   ],
   "source": [
    "print(file[1].nodes())\n",
    "[n for n in file[1].neighbors(75178)]"
   ]
  },
  {
   "cell_type": "code",
   "execution_count": 9,
   "metadata": {},
   "outputs": [
    {
     "data": {
      "text/plain": [
       "create_series_adj_mat (generic function with 2 methods)"
      ]
     },
     "metadata": {},
     "output_type": "display_data"
    }
   ],
   "source": [
    "function get_all_nodes(file)\n",
    "    nodes = [n for n in file[1].nodes]\n",
    "    for i in 2:6\n",
    "        nodes = [nodes..., [n for n in file[i].nodes()]...]\n",
    "    end\n",
    "    return unique(nodes)\n",
    "end\n",
    "\n",
    "function create_series_adj_mat(file, nodes = get_all_nodes(file))\n",
    "    As = [get_adjacency_matrix(file[i], nodes) for i in 1:6]\n",
    "    return As\n",
    "end"
   ]
  },
  {
   "cell_type": "code",
   "execution_count": 10,
   "metadata": {},
   "outputs": [
    {
     "data": {
      "text/plain": [
       "(108.0, 152.0, 116.0)"
      ]
     },
     "metadata": {},
     "output_type": "display_data"
    },
    {
     "data": {
      "text/plain": [
       "6×6 Matrix{Float64}:\n",
       " 1.0       0.425532  0.260355  0.318182  0.258706  0.255682\n",
       " 0.425532  1.0       0.427419  0.530612  0.466216  0.350365\n",
       " 0.260355  0.427419  1.0       0.478261  0.421053  0.397849\n",
       " 0.318182  0.530612  0.478261  1.0       0.578947  0.401575\n",
       " 0.258706  0.466216  0.421053  0.578947  1.0       0.491228\n",
       " 0.255682  0.350365  0.397849  0.401575  0.491228  1.0"
      ]
     },
     "metadata": {},
     "output_type": "display_data"
    },
    {
     "data": {
      "text/plain": [
       "6×6 Matrix{Float64}:\n",
       " 1.0  0.526316  0.289474  0.414474  0.342105  0.296053\n",
       " 0.0  1.0       0.456897  0.672414  0.594828  0.413793\n",
       " 0.0  0.0       1.0       0.901639  0.786885  0.606557\n",
       " 0.0  0.0       0.0       1.0       0.706422  0.46789\n",
       " 0.0  0.0       0.0       0.0       1.0       0.554455\n",
       " 0.0  0.0       0.0       0.0       0.0       1.0"
      ]
     },
     "metadata": {},
     "output_type": "display_data"
    },
    {
     "data": {
      "text/plain": [
       "6×6 Matrix{Float64}:\n",
       " 0.0  72.0  108.0  89.0  100.0  107.0\n",
       " 0.0   0.0   63.0  38.0   47.0   68.0\n",
       " 0.0   0.0    0.0   6.0   13.0   24.0\n",
       " 0.0   0.0    0.0   0.0   32.0   58.0\n",
       " 0.0   0.0    0.0   0.0    0.0   45.0\n",
       " 0.0   0.0    0.0   0.0    0.0    0.0"
      ]
     },
     "metadata": {},
     "output_type": "display_data"
    }
   ],
   "source": [
    "nodes = get_all_nodes(file)\n",
    "Ws = create_series_adj_mat(file, nodes)\n",
    "As = [sign.(W) for W in Ws]\n",
    "\n",
    "i=1; inc = 1;\n",
    "display((sum(abs.(As[i + inc] .- As[i]))/2, sum(As[i])/2, sum(As[i+inc])/2))\n",
    "\n",
    "overlap = zeros(6,6)\n",
    "for i in 1:6, j in 1:6\n",
    "    overlap[i,j] = sum(As[i].*As[j]) / sum(sign.(As[i] .+ As[j]))\n",
    "end\n",
    "display(overlap)\n",
    "\n",
    "#how many links vanish?\n",
    "not_vanish = zeros(6,6)\n",
    "vanish_abs = zeros(6,6)\n",
    "for i in 1:6\n",
    "    for j in i:6\n",
    "        not_vanish[i,j] = sum(As[i].*As[j]) / sum(As[i])\n",
    "        vanish_abs[i,j] = (sum(As[i]) - sum(As[i].*As[j]))/2\n",
    "    end\n",
    "end\n",
    "display(not_vanish)\n",
    "display(vanish_abs)\n"
   ]
  },
  {
   "cell_type": "code",
   "execution_count": 11,
   "metadata": {},
   "outputs": [
    {
     "data": {
      "text/plain": [
       "6×6 Matrix{Float64}:\n",
       " 1.0  0.689655  0.721311  0.577982  0.514851  0.652174\n",
       " 0.0  1.0       0.868852  0.715596  0.683168  0.695652\n",
       " 0.0  0.0       1.0       0.504587  0.475248  0.536232\n",
       " 0.0  0.0       0.0       1.0       0.762376  0.73913\n",
       " 0.0  0.0       0.0       0.0       1.0       0.811594\n",
       " 0.0  0.0       0.0       0.0       0.0       1.0"
      ]
     },
     "metadata": {},
     "output_type": "display_data"
    },
    {
     "data": {
      "text/plain": [
       "6×6 Matrix{Float64}:\n",
       " 0.0  36.0  17.0  46.0  49.0  24.0\n",
       " 0.0   0.0   8.0  31.0  32.0  21.0\n",
       " 0.0   0.0   0.0  54.0  53.0  32.0\n",
       " 0.0   0.0   0.0   0.0  24.0  18.0\n",
       " 0.0   0.0   0.0   0.0   0.0  13.0\n",
       " 0.0   0.0   0.0   0.0   0.0   0.0"
      ]
     },
     "metadata": {},
     "output_type": "display_data"
    }
   ],
   "source": [
    "#how many links appear?\n",
    "appear = zeros(6,6)\n",
    "appear_abs = zeros(6,6)\n",
    "for i in 1:6\n",
    "    for j in i:6\n",
    "        appear[i,j] = sum(As[i].*As[j]) / sum(As[j])\n",
    "        appear_abs[i,j] = (sum(As[j]) - sum(As[i].*As[j])) / 2\n",
    "    end\n",
    "end\n",
    "display(appear)\n",
    "display(appear_abs)"
   ]
  },
  {
   "cell_type": "code",
   "execution_count": 12,
   "metadata": {},
   "outputs": [
    {
     "data": {
      "text/plain": [
       "6×6 Matrix{Float64}:\n",
       " 1.0  0.377778  0.111111  0.222222  0.222222  0.111111\n",
       " 0.0  1.0       0.307692  0.538462  0.461538  0.230769\n",
       " 0.0  0.0       1.0       1.0       0.888889  0.777778\n",
       " 0.0  0.0       0.0       1.0       0.692308  0.346154\n",
       " 0.0  0.0       0.0       0.0       1.0       0.5\n",
       " 0.0  0.0       0.0       0.0       0.0       1.0"
      ]
     },
     "metadata": {},
     "output_type": "display_data"
    },
    {
     "data": {
      "text/plain": [
       "6×6 Matrix{Float64}:\n",
       " 0.0  28.0  40.0  35.0  35.0  40.0\n",
       " 0.0   0.0  18.0  12.0  14.0  20.0\n",
       " 0.0   0.0   0.0   0.0   1.0   2.0\n",
       " 0.0   0.0   0.0   0.0   8.0  17.0\n",
       " 0.0   0.0   0.0   0.0   0.0  10.0\n",
       " 0.0   0.0   0.0   0.0   0.0   0.0"
      ]
     },
     "metadata": {},
     "output_type": "display_data"
    }
   ],
   "source": [
    "#find prob of triad vanishing\n",
    "all_triads = [get_triads2(As[i]) for i in 1:6]\n",
    "\n",
    "# intersect(all_triads[1], all_triads[2])\n",
    "\n",
    "#how many triads vanish?\n",
    "triad_not_vanish = zeros(6,6)\n",
    "triad_vanish_abs = zeros(6,6)\n",
    "for i in 1:6\n",
    "    for j in i:6\n",
    "        triad_not_vanish[i,j] = length(intersect(all_triads[i], all_triads[j])) / length(all_triads[i])\n",
    "        triad_vanish_abs[i,j] = length(all_triads[i]) - length(intersect(all_triads[i], all_triads[j]))\n",
    "    end\n",
    "end\n",
    "display(triad_not_vanish)\n",
    "display(triad_vanish_abs)"
   ]
  },
  {
   "cell_type": "code",
   "execution_count": 13,
   "metadata": {},
   "outputs": [
    {
     "data": {
      "text/plain": [
       "1×6 adjoint(::Vector{Int64}) with eltype Int64:\n",
       " 45  26  9  26  20  12"
      ]
     },
     "metadata": {},
     "output_type": "display_data"
    }
   ],
   "source": [
    "map(length, all_triads)'"
   ]
  },
  {
   "cell_type": "code",
   "execution_count": 14,
   "metadata": {},
   "outputs": [
    {
     "data": {
      "text/plain": [
       "get_wedges_single_edges (generic function with 1 method)"
      ]
     },
     "metadata": {},
     "output_type": "display_data"
    }
   ],
   "source": [
    "function get_wedges_single_edges(A)\n",
    "    N = size(A)[1]\n",
    "\n",
    "    wedges = []\n",
    "    single_edges = []\n",
    "\n",
    "    for i in 1:N\n",
    "        for j in (i+1):N\n",
    "            for k in (j+1):N\n",
    "                if A[i,k] + A[j,k] + A[i,j] == 2\n",
    "                    push!(wedges, (i,j,k))\n",
    "                elseif A[i,k] + A[j,k] + A[i,j] == 1\n",
    "                    push!(single_edges, (i,j,k))\n",
    "                end\n",
    "            end\n",
    "        end\n",
    "    end\n",
    "    \n",
    "    return wedges, single_edges\n",
    "end"
   ]
  },
  {
   "cell_type": "code",
   "execution_count": 15,
   "metadata": {},
   "outputs": [],
   "source": [
    "all_wedges = []\n",
    "all_singles = []\n",
    "for i in 1:6\n",
    "    wedges, single_edges = get_wedges_single_edges(As[i])\n",
    "    push!(all_wedges, wedges)\n",
    "    push!(all_singles, single_edges)\n",
    "end"
   ]
  },
  {
   "cell_type": "code",
   "execution_count": 16,
   "metadata": {},
   "outputs": [
    {
     "data": {
      "text/plain": [
       "understand_triad_apperance (generic function with 1 method)"
      ]
     },
     "metadata": {},
     "output_type": "display_data"
    }
   ],
   "source": [
    "function understand_triad_apperance(As)\n",
    "    num_mats = length(As)\n",
    "\n",
    "    all_triads = [get_triads2(As[i]) for i in 1:num_mats]\n",
    "    all_wedges = []\n",
    "    all_singles = []\n",
    "    for i in 1:num_mats\n",
    "        wedges, single_edges = get_wedges_single_edges(As[i])\n",
    "        push!(all_wedges, wedges)\n",
    "        push!(all_singles, single_edges)\n",
    "    end\n",
    "\n",
    "    \n",
    "\n",
    "    triad_appear = zeros(num_mats,num_mats)\n",
    "    triad_appear_wedges = zeros(num_mats,num_mats)\n",
    "    triad_appear_single = zeros(num_mats,num_mats)\n",
    "    triad_appear_nowhere = zeros(num_mats,num_mats)\n",
    "\n",
    "    for i in 1:num_mats\n",
    "        for j in i:num_mats\n",
    "            triad_appear[i,j] = length(all_triads[j]) - length(intersect(all_triads[i], all_triads[j]))\n",
    "            new_triads = setdiff(all_triads[j], all_triads[i])\n",
    "            @assert length(new_triads) == triad_appear[i,j]\n",
    "            triad_appear_wedges[i,j] = length(intersect(new_triads, all_wedges[i]))\n",
    "\n",
    "            triad_appear_single[i,j] = length(intersect(new_triads, all_singles[i]))\n",
    "            # triad_vanish_abs[i,j] = length(all_triads[i]) - length(intersect(all_triads[i], all_triads[j]))\n",
    "            triad_appear_nowhere[i,j] = triad_appear[i,j] - triad_appear_wedges[i, j] - triad_appear_single[i, j]\n",
    "        end\n",
    "    end\n",
    "    return triad_appear, triad_appear_wedges, triad_appear_single, triad_appear_nowhere\n",
    "end"
   ]
  },
  {
   "cell_type": "code",
   "execution_count": 17,
   "metadata": {},
   "outputs": [
    {
     "data": {
      "text/plain": [
       "6×6 Matrix{Float64}:\n",
       " 0.0  9.0  4.0  16.0  10.0  7.0\n",
       " 0.0  0.0  1.0  12.0   8.0  6.0\n",
       " 0.0  0.0  0.0  17.0  12.0  5.0\n",
       " 0.0  0.0  0.0   0.0   2.0  3.0\n",
       " 0.0  0.0  0.0   0.0   0.0  2.0\n",
       " 0.0  0.0  0.0   0.0   0.0  0.0"
      ]
     },
     "metadata": {},
     "output_type": "display_data"
    },
    {
     "data": {
      "text/plain": [
       "6×6 Matrix{Float64}:\n",
       " 0.0  8.0  4.0   9.0  5.0  4.0\n",
       " 0.0  0.0  1.0   9.0  5.0  3.0\n",
       " 0.0  0.0  0.0  12.0  9.0  2.0\n",
       " 0.0  0.0  0.0   0.0  2.0  2.0\n",
       " 0.0  0.0  0.0   0.0  0.0  2.0\n",
       " 0.0  0.0  0.0   0.0  0.0  0.0"
      ]
     },
     "metadata": {},
     "output_type": "display_data"
    },
    {
     "data": {
      "text/plain": [
       "6×6 Matrix{Float64}:\n",
       " 0.0  1.0  0.0  7.0  4.0  2.0\n",
       " 0.0  0.0  0.0  3.0  3.0  2.0\n",
       " 0.0  0.0  0.0  4.0  3.0  3.0\n",
       " 0.0  0.0  0.0  0.0  0.0  1.0\n",
       " 0.0  0.0  0.0  0.0  0.0  0.0\n",
       " 0.0  0.0  0.0  0.0  0.0  0.0"
      ]
     },
     "metadata": {},
     "output_type": "display_data"
    },
    {
     "data": {
      "text/plain": [
       "6×6 Matrix{Float64}:\n",
       " 0.0  0.0  0.0  0.0  1.0  1.0\n",
       " 0.0  0.0  0.0  0.0  0.0  1.0\n",
       " 0.0  0.0  0.0  1.0  0.0  0.0\n",
       " 0.0  0.0  0.0  0.0  0.0  0.0\n",
       " 0.0  0.0  0.0  0.0  0.0  0.0\n",
       " 0.0  0.0  0.0  0.0  0.0  0.0"
      ]
     },
     "metadata": {},
     "output_type": "display_data"
    }
   ],
   "source": [
    "# find prob of tried appearing (from wedges, from single link, from nowhere)\n",
    "\n",
    "triad_appear = zeros(6,6)\n",
    "triad_appear_wedges = zeros(6,6)\n",
    "triad_appear_single = zeros(6,6)\n",
    "triad_appear_nowhere = zeros(6,6)\n",
    "for i in 1:6\n",
    "    for j in i:6\n",
    "        triad_appear[i,j] = length(all_triads[j]) - length(intersect(all_triads[i], all_triads[j]))\n",
    "        new_triads = setdiff(all_triads[j], all_triads[i])\n",
    "        @assert length(new_triads) == triad_appear[i,j]\n",
    "        triad_appear_wedges[i,j] = length(intersect(new_triads, all_wedges[i]))\n",
    "\n",
    "        triad_appear_single[i,j] = length(intersect(new_triads, all_singles[i]))\n",
    "        # triad_vanish_abs[i,j] = length(all_triads[i]) - length(intersect(all_triads[i], all_triads[j]))\n",
    "        triad_appear_nowhere[i,j] = triad_appear[i,j] - triad_appear_wedges[i, j] - triad_appear_single[i, j]\n",
    "    end\n",
    "end\n",
    "display(triad_appear)\n",
    "display(triad_appear_wedges)\n",
    "display(triad_appear_single)\n",
    "display(triad_appear_nowhere)"
   ]
  },
  {
   "cell_type": "code",
   "execution_count": 18,
   "metadata": {},
   "outputs": [],
   "source": [
    "# test\n",
    "triad_appear2, triad_appear_wedges2, triad_appear_single2, triad_appear_nowhere2 = understand_triad_apperance(As)\n",
    "\n",
    "@assert triad_appear_wedges2 == triad_appear_wedges\n",
    "@assert triad_appear_single2 == triad_appear_single\n",
    "@assert triad_appear_nowhere2 == triad_appear_nowhere\n",
    "@assert triad_appear == triad_appear2"
   ]
  },
  {
   "cell_type": "code",
   "execution_count": 19,
   "metadata": {},
   "outputs": [
    {
     "data": {
      "text/plain": [
       "36.0"
      ]
     },
     "metadata": {},
     "output_type": "display_data"
    },
    {
     "data": {
      "text/plain": [
       "2×2 Matrix{Float64}:\n",
       " 0.0  0.0\n",
       " 0.0  0.0"
      ]
     },
     "metadata": {},
     "output_type": "display_data"
    },
    {
     "data": {
      "text/plain": [
       "2×2 Matrix{Float64}:\n",
       " 0.0  0.0\n",
       " 0.0  0.0"
      ]
     },
     "metadata": {},
     "output_type": "display_data"
    },
    {
     "data": {
      "text/plain": [
       "2×2 Matrix{Float64}:\n",
       " 0.0  0.0\n",
       " 0.0  0.0"
      ]
     },
     "metadata": {},
     "output_type": "display_data"
    },
    {
     "data": {
      "text/plain": [
       "2×2 Matrix{Float64}:\n",
       " 0.0  0.0\n",
       " 0.0  0.0"
      ]
     },
     "metadata": {},
     "output_type": "display_data"
    }
   ],
   "source": [
    "# Let's make an expetiment. \n",
    "# Lets remove connections that vanish from term I and \n",
    "# randomly new connections and \n",
    "# see how many new triads were formed, and from which structures. \n",
    "\n",
    "#removing edges from A1\n",
    "start_term = 1\n",
    "inc = 1\n",
    "A1r = As[start_term] .* As[start_term + inc] \n",
    "\n",
    "# We need to add this amount of new links:\n",
    "display(appear_abs[start_term, start_term + inc])\n",
    "N = length(nodes)\n",
    "\n",
    "added = 0\n",
    "while added < appear_abs[start_term, start_term + inc]\n",
    "    i, j = rand(1:N, 2)\n",
    "    if i==j continue\n",
    "    elseif A1r[i,j] > 0\n",
    "        continue\n",
    "    else\n",
    "        A1r[i,j] = A1r[j,i] = 1\n",
    "        added += 1\n",
    "    end\n",
    "end\n",
    "# display(\"finishes\")\n",
    "\n",
    "triad_appear2, triad_appear_wedges2, triad_appear_single2, triad_appear_nowhere2 = understand_triad_apperance([As[start_term], A1r])\n",
    "display(triad_appear2)\n",
    "display(triad_appear_wedges2)\n",
    "display(triad_appear_single2)\n",
    "display(triad_appear_nowhere2)\n",
    "\n",
    "# Conclusion:\n",
    "# As expected, more triads are created than random would expect"
   ]
  },
  {
   "cell_type": "code",
   "execution_count": 20,
   "metadata": {},
   "outputs": [
    {
     "data": {
      "text/plain": [
       "60"
      ]
     },
     "metadata": {},
     "output_type": "display_data"
    },
    {
     "data": {
      "text/plain": [
       "6-element Vector{Matrix{Int64}}:\n",
       " [0 1 … 0 0; 1 0 … 0 0; … ; 0 0 … 0 0; 0 0 … 0 0]\n",
       " [0 0 … 0 0; 0 0 … 0 0; … ; 0 0 … 0 0; 0 0 … 0 0]\n",
       " [0 0 … 0 0; 0 0 … 0 0; … ; 0 0 … 0 0; 0 0 … 0 0]\n",
       " [0 0 … 0 0; 0 0 … 0 1; … ; 0 0 … 0 0; 0 1 … 0 0]\n",
       " [0 0 … 0 0; 0 0 … 0 0; … ; 0 0 … 0 0; 0 0 … 0 0]\n",
       " [0 0 … 0 0; 0 0 … 0 0; … ; 0 0 … 0 0; 0 0 … 0 0]"
      ]
     },
     "metadata": {},
     "output_type": "display_data"
    }
   ],
   "source": [
    "# Let's check how many people are in triads\n",
    "\n",
    "triad_nodes = sort(unique([node for triads in all_triads for triad in triads for node in triad]))\n",
    "display(length(triad_nodes))\n",
    "\n",
    "# There are only 60 nodes, so lets repeat above experiment with generating links only among these agents. \n",
    "# But first I need to count how many edges were added among those agents\n",
    "\n",
    "As2 = [As[i][triad_nodes, triad_nodes] for i in 1:6]"
   ]
  },
  {
   "cell_type": "code",
   "execution_count": 21,
   "metadata": {},
   "outputs": [
    {
     "data": {
      "text/plain": [
       "6×6 Matrix{Float64}:\n",
       " 1.0  0.763158  0.770833  0.626667  0.602941  0.705882\n",
       " 0.0  1.0       0.875     0.733333  0.705882  0.705882\n",
       " 0.0  0.0       1.0       0.586667  0.573529  0.627451\n",
       " 0.0  0.0       0.0       1.0       0.823529  0.764706\n",
       " 0.0  0.0       0.0       0.0       1.0       0.843137\n",
       " 0.0  0.0       0.0       0.0       0.0       1.0"
      ]
     },
     "metadata": {},
     "output_type": "display_data"
    },
    {
     "data": {
      "text/plain": [
       "6×6 Matrix{Float64}:\n",
       " 0.0  18.0  11.0  28.0  27.0  15.0\n",
       " 0.0   0.0   6.0  20.0  20.0  15.0\n",
       " 0.0   0.0   0.0  31.0  29.0  19.0\n",
       " 0.0   0.0   0.0   0.0  12.0  12.0\n",
       " 0.0   0.0   0.0   0.0   0.0   8.0\n",
       " 0.0   0.0   0.0   0.0   0.0   0.0"
      ]
     },
     "metadata": {},
     "output_type": "display_data"
    }
   ],
   "source": [
    "#how many links appear?\n",
    "appear_triads = zeros(6,6)\n",
    "appear_abs_triads = zeros(6,6)\n",
    "for i in 1:6\n",
    "    for j in i:6\n",
    "        appear_triads[i,j] = sum(As2[i].*As2[j]) / sum(As2[j])\n",
    "        appear_abs_triads[i,j] = (sum(As2[j]) - sum(As2[i].*As2[j])) / 2\n",
    "    end\n",
    "end\n",
    "display(appear_triads)\n",
    "display(appear_abs_triads)"
   ]
  },
  {
   "cell_type": "code",
   "execution_count": 22,
   "metadata": {},
   "outputs": [
    {
     "data": {
      "text/plain": [
       "18.0"
      ]
     },
     "metadata": {},
     "output_type": "display_data"
    },
    {
     "data": {
      "text/plain": [
       "2×2 Matrix{Float64}:\n",
       " 0.0  3.0\n",
       " 0.0  0.0"
      ]
     },
     "metadata": {},
     "output_type": "display_data"
    },
    {
     "data": {
      "text/plain": [
       "2×2 Matrix{Float64}:\n",
       " 0.0  2.0\n",
       " 0.0  0.0"
      ]
     },
     "metadata": {},
     "output_type": "display_data"
    },
    {
     "data": {
      "text/plain": [
       "2×2 Matrix{Float64}:\n",
       " 0.0  1.0\n",
       " 0.0  0.0"
      ]
     },
     "metadata": {},
     "output_type": "display_data"
    },
    {
     "data": {
      "text/plain": [
       "2×2 Matrix{Float64}:\n",
       " 0.0  0.0\n",
       " 0.0  0.0"
      ]
     },
     "metadata": {},
     "output_type": "display_data"
    }
   ],
   "source": [
    "# Experiment 2. \n",
    "\n",
    "#removing edges from A1\n",
    "start_term = 1\n",
    "inc = 1\n",
    "A1r = As2[start_term] .* As2[start_term + inc] \n",
    "\n",
    "# We need to add this amount of new links:\n",
    "display(appear_abs_triads[start_term, start_term + inc])\n",
    "N = length(triad_nodes)\n",
    "\n",
    "added = 0\n",
    "while added < appear_abs_triads[start_term, start_term + inc]\n",
    "    i, j = rand(1:N, 2)\n",
    "    if i==j continue\n",
    "    elseif A1r[i,j] > 0\n",
    "        continue\n",
    "    else\n",
    "        A1r[i,j] = A1r[j,i] = 1\n",
    "        added += 1\n",
    "    end\n",
    "end\n",
    "# display(\"finishes\")\n",
    "\n",
    "triad_appear3, triad_appear_wedges3, triad_appear_single3, triad_appear_nowhere3 = understand_triad_apperance([As2[start_term], A1r])\n",
    "display(triad_appear3)\n",
    "display(triad_appear_wedges3)\n",
    "display(triad_appear_single3)\n",
    "display(triad_appear_nowhere3)\n",
    "\n",
    "# Conclusion:\n",
    "# As expected, more triads are created than random would expect"
   ]
  },
  {
   "cell_type": "code",
   "execution_count": 23,
   "metadata": {},
   "outputs": [
    {
     "data": {
      "text/plain": [
       "6.0"
      ]
     },
     "metadata": {},
     "output_type": "display_data"
    },
    {
     "data": {
      "text/plain": [
       "2×2 Matrix{Float64}:\n",
       " 0.0  4.0\n",
       " 0.0  0.0"
      ]
     },
     "metadata": {},
     "output_type": "display_data"
    },
    {
     "data": {
      "text/plain": [
       "2×2 Matrix{Float64}:\n",
       " 0.0  3.0\n",
       " 0.0  0.0"
      ]
     },
     "metadata": {},
     "output_type": "display_data"
    },
    {
     "data": {
      "text/plain": [
       "2×2 Matrix{Float64}:\n",
       " 0.0  1.0\n",
       " 0.0  0.0"
      ]
     },
     "metadata": {},
     "output_type": "display_data"
    },
    {
     "data": {
      "text/plain": [
       "2×2 Matrix{Float64}:\n",
       " 0.0  0.0\n",
       " 0.0  0.0"
      ]
     },
     "metadata": {},
     "output_type": "display_data"
    }
   ],
   "source": [
    "# OK, lets try to generate triads more frequently. \n",
    "# There will be a new parameter for closing triads.\n",
    "\n",
    "close_triad = 0.7\n",
    "\n",
    "# function get_nodes_in_triads(A)\n",
    "#     triads = get_triads2(A)\n",
    "\n",
    "#     return sort(unique([node for triad in triads for node in triad.nodes]))\n",
    "# end\n",
    "\n",
    "# Experiment 3. \n",
    "\n",
    "#removing edges from A1\n",
    "start_term = 2\n",
    "inc = 1\n",
    "A1r = As2[start_term] .* As2[start_term + inc] \n",
    "\n",
    "# We need to add this amount of new links:\n",
    "display(appear_abs_triads[start_term, start_term + inc])\n",
    "N = length(triad_nodes)\n",
    "\n",
    "added = 0\n",
    "while added < appear_abs_triads[start_term, start_term + inc]\n",
    "    wedges_t, single_t = get_wedges_single_edges(A1r)\n",
    "    if rand() < close_triad\n",
    "        wedge = rand(wedges_t)\n",
    "        if A1r[wedge[1], wedge[2]] == 0\n",
    "            i, j = wedge[1], wedge[2]\n",
    "        elseif A1r[wedge[1], wedge[3]] == 0\n",
    "            i, j = wedge[1], wedge[3]\n",
    "        else i, j = wedge[2], wedge[3]\n",
    "        end\n",
    "    else\n",
    "        i, j = rand(1:N, 2)\n",
    "        if i==j continue\n",
    "        elseif A1r[i,j] > 0\n",
    "            continue\n",
    "        end\n",
    "    end\n",
    "    A1r[i,j] = A1r[j,i] = 1\n",
    "    added += 1\n",
    "end\n",
    "# display(\"finishes\")\n",
    "\n",
    "triad_appear3, triad_appear_wedges3, triad_appear_single3, triad_appear_nowhere3 = understand_triad_apperance([As2[start_term], A1r])\n",
    "display(triad_appear3)\n",
    "display(triad_appear_wedges3)\n",
    "display(triad_appear_single3)\n",
    "display(triad_appear_nowhere3)\n",
    "\n",
    "# Conclusion:\n",
    "# As expected, more triads are created than random would expect"
   ]
  },
  {
   "cell_type": "code",
   "execution_count": 24,
   "metadata": {},
   "outputs": [
    {
     "data": {
      "text/plain": [
       "calc_difs_only_numT (generic function with 1 method)"
      ]
     },
     "metadata": {},
     "output_type": "display_data"
    }
   ],
   "source": [
    "# defining functions to calibrate this probability\n",
    "function add_edges!(A1r, edges_to_add, close_triad)\n",
    "    N = size(A1r)[1]\n",
    "\n",
    "    added = 0\n",
    "    while added < edges_to_add\n",
    "        wedges_t, single_t = get_wedges_single_edges(A1r)\n",
    "        if rand() < close_triad\n",
    "            wedge = rand(wedges_t)\n",
    "            if A1r[wedge[1], wedge[2]] == 0\n",
    "                i, j = wedge[1], wedge[2]\n",
    "            elseif A1r[wedge[1], wedge[3]] == 0\n",
    "                i, j = wedge[1], wedge[3]\n",
    "            else i, j = wedge[2], wedge[3]\n",
    "            end\n",
    "        else\n",
    "            i, j = rand(1:N, 2)\n",
    "            if i==j continue\n",
    "            elseif A1r[i,j] > 0\n",
    "                continue\n",
    "            end\n",
    "        end\n",
    "        A1r[i,j] = A1r[j,i] = 1\n",
    "        added += 1\n",
    "    end\n",
    "end\n",
    "\n",
    "function calc_difs(close_triad_prob; term_pairs = [(1, 2), (2, 3), (2, 4), (3, 4), (4, 5), (5, 6)], repetitions = 10)\n",
    "    dif = 0\n",
    "\n",
    "    for _ in 1:repetitions\n",
    "        for term_pair in term_pairs\n",
    "            start_term = term_pair[1]\n",
    "            inc = term_pair[2] - start_term\n",
    "\n",
    "            A1r = As2[start_term] .* As2[start_term + inc] \n",
    "            add_edges!(A1r, appear_abs_triads[start_term, start_term + inc], close_triad_prob)\n",
    "            triad_appear3, triad_appear_wedges3, triad_appear_single3, triad_appear_nowhere3 = understand_triad_apperance([As2[start_term], A1r])\n",
    "\n",
    "            dif += abs(triad_appear[term_pair...] - triad_appear3[1,2])\n",
    "            dif += abs(triad_appear_wedges[term_pair...] - triad_appear_wedges3[1,2])\n",
    "            dif += abs(triad_appear_single[term_pair...] - triad_appear_single3[1,2])\n",
    "            dif += abs(triad_appear_nowhere[term_pair...] - triad_appear_nowhere3[1,2])\n",
    "        end\n",
    "    end\n",
    "    return dif\n",
    "end\n",
    "\n",
    "function calc_difs_only_numT(close_triad_prob; term_pairs = [(1, 2), (2, 3), (2, 4), (3, 4), (4, 5), (5, 6)], repetitions = 10)\n",
    "    dif = 0\n",
    "\n",
    "    for _ in 1:repetitions\n",
    "        for term_pair in term_pairs\n",
    "            start_term = term_pair[1]\n",
    "            inc = term_pair[2] - start_term\n",
    "\n",
    "            A1r = As2[start_term] .* As2[start_term + inc] \n",
    "            add_edges!(A1r, appear_abs_triads[start_term, start_term + inc], close_triad_prob)\n",
    "            triad_appear3, triad_appear_wedges3, triad_appear_single3, triad_appear_nowhere3 = understand_triad_apperance([As2[start_term], A1r])\n",
    "\n",
    "            dif += abs(triad_appear[term_pair...] - triad_appear3[1,2])\n",
    "        end\n",
    "    end\n",
    "    return dif\n",
    "end"
   ]
  },
  {
   "cell_type": "code",
   "execution_count": 257,
   "metadata": {},
   "outputs": [
    {
     "data": {
      "text/plain": [
       "4268.0"
      ]
     },
     "metadata": {},
     "output_type": "display_data"
    }
   ],
   "source": [
    "# calibration!\n",
    "# We choose pairs of terms that will be compared. \n",
    "term_pairs = [(1, 2), (2, 3), (2, 4), (3, 4), (4, 5), (5, 6)]\n",
    "repetitions = 100\n",
    "\n",
    "close_triad_prob = 0.3\n",
    "\n",
    "dif = 0\n",
    "\n",
    "for _ in 1:repetitions\n",
    "    for term_pair in term_pairs\n",
    "        start_term = term_pair[1]\n",
    "        inc = term_pair[2] - start_term\n",
    "\n",
    "        A1r = As2[start_term] .* As2[start_term + inc] \n",
    "        add_edges!(A1r, appear_abs_triads[start_term, start_term + inc], close_triad_prob)\n",
    "        triad_appear3, triad_appear_wedges3, triad_appear_single3, triad_appear_nowhere3 = understand_triad_apperance([As2[start_term], A1r])\n",
    "\n",
    "        dif += abs(triad_appear[term_pair...] - triad_appear3[1,2])\n",
    "        dif += abs(triad_appear_wedges[term_pair...] - triad_appear_wedges3[1,2])\n",
    "        dif += abs(triad_appear_single[term_pair...] - triad_appear_single3[1,2])\n",
    "        dif += abs(triad_appear_nowhere[term_pair...] - triad_appear_nowhere3[1,2])\n",
    "    end\n",
    "end\n",
    "\n",
    "dif"
   ]
  },
  {
   "cell_type": "markdown",
   "metadata": {},
   "source": [
    "## Let's count attribute changes now"
   ]
  },
  {
   "cell_type": "code",
   "execution_count": 25,
   "metadata": {},
   "outputs": [
    {
     "data": {
      "text/plain": [
       "Dict{String, Set{Any}} with 12 entries:\n",
       "  \"premaritalsex_\" => Set([2, 3, 1])\n",
       "  \"ethnicity_1\"    => Set([4, 2, 3, 1])\n",
       "  \"hometown_1\"     => Set([2, 3, 1])\n",
       "  \"political_\"     => Set([2, 3, 1])\n",
       "  \"abortion_\"      => Set([2, 3, 1])\n",
       "  \"homosexual_\"    => Set([2, 3, 1])\n",
       "  \"marijuana_\"     => Set([2, 3, 1])\n",
       "  \"gender_1\"       => Set([2, 1])\n",
       "  \"gaymarriage_\"   => Set([2, 3, 1])\n",
       "  \"deathpen_\"      => Set([2, 3, 1])\n",
       "  \"euthanasia_\"    => Set([2, 3, 1])\n",
       "  \"age_1\"          => Set([2, 1])"
      ]
     },
     "metadata": {},
     "output_type": "display_data"
    }
   ],
   "source": [
    "#creating list of attributes\n",
    "list_of_attributes = Set([k for n in file[1].nodes for k in keys(file[1].nodes[n+1])])\n",
    "\n",
    "# creating possible attribute values\n",
    "attribute_values = Dict((attribute, Set() ) for attribute in list_of_attributes)\n",
    "\n",
    "for sem in 1:6\n",
    "    for node in file[sem].nodes()\n",
    "        for attribute in list_of_attributes\n",
    "            push!(attribute_values[attribute], convert(Int, file[sem].nodes[node + 1][attribute]))\n",
    "        end\n",
    "    end\n",
    "end\n",
    "\n",
    "attribute_values\n",
    "\n",
    "#To apply PCA or other analysis on all attributes (i.e. including ethnicity) \n",
    "#one would have to create an attribute for each race, that is is_1, is_2 etc. \n",
    "#Because this attribute is not ordered. "
   ]
  },
  {
   "cell_type": "code",
   "execution_count": 26,
   "metadata": {},
   "outputs": [
    {
     "data": {
      "text/plain": [
       "Dict{Int64, Matrix{Float64}} with 6 entries:\n",
       "  5 => [3.0 3.0 … 2.0 1.0; 3.0 3.0 … 2.0 2.0; … ; NaN NaN … NaN NaN; 1.0 3.0 … …\n",
       "  4 => [3.0 3.0 … 2.0 1.0; 3.0 3.0 … 2.0 1.0; … ; 1.0 1.0 … 1.0 1.0; 1.0 3.0 … …\n",
       "  6 => [NaN NaN … NaN NaN; 3.0 3.0 … 2.0 2.0; … ; NaN NaN … NaN NaN; NaN NaN … …\n",
       "  2 => [NaN NaN … NaN NaN; 3.0 3.0 … 2.0 2.0; … ; NaN NaN … NaN NaN; NaN NaN … …\n",
       "  3 => [3.0 3.0 … 2.0 1.0; 3.0 1.0 … 2.0 2.0; … ; NaN NaN … NaN NaN; NaN NaN … …\n",
       "  1 => [3.0 3.0 … 2.0 1.0; 2.0 2.0 … 2.0 1.0; … ; NaN NaN … NaN NaN; NaN NaN … …"
      ]
     },
     "metadata": {},
     "output_type": "display_data"
    }
   ],
   "source": [
    "#creating table of attribute values\n",
    "attributes = Dict((i, zeros(length(nodes), length(list_of_attributes))) for i in 1:6)\n",
    "# for i in 1:6\n",
    "#     attributes[i] = zeros(length(file[i].nodes), length(list_of_attributes))\n",
    "# end\n",
    "\n",
    "for sem in 1:6\n",
    "    for (i, node) in enumerate(nodes)\n",
    "        for (j, attribute) in enumerate(list_of_attributes)\n",
    "            if node in file[sem].nodes()\n",
    "                attributes[sem][i,j] = file[sem].nodes[node + 1][attribute]\n",
    "            else\n",
    "                attributes[sem][i,j] = NaN\n",
    "            end\n",
    "        end\n",
    "    end\n",
    "end\n",
    "attributes"
   ]
  },
  {
   "cell_type": "code",
   "execution_count": 27,
   "metadata": {},
   "outputs": [
    {
     "name": "stdout",
     "output_type": "stream",
     "text": [
      "Set([\"abortion_\", \"premaritalsex_\", \"homosexual_\", \"marijuana_\", \"euthanasia_\", \"gaymarriage_\", \"deathpen_\", \"political_\"])"
     ]
    },
    {
     "data": {
      "text/plain": [
       "Dict{Int64, Matrix{Float64}} with 6 entries:\n",
       "  5 => [3.0 3.0 … 3.0 1.0; 3.0 3.0 … 3.0 2.0; … ; NaN NaN … NaN NaN; 1.0 3.0 … …\n",
       "  4 => [3.0 3.0 … 3.0 1.0; 3.0 3.0 … 1.0 1.0; … ; 1.0 1.0 … 3.0 1.0; 1.0 3.0 … …\n",
       "  6 => [NaN NaN … NaN NaN; 3.0 3.0 … 3.0 2.0; … ; NaN NaN … NaN NaN; NaN NaN … …\n",
       "  2 => [NaN NaN … NaN NaN; 3.0 3.0 … 1.0 2.0; … ; NaN NaN … NaN NaN; NaN NaN … …\n",
       "  3 => [3.0 3.0 … 3.0 1.0; 3.0 1.0 … 1.0 2.0; … ; NaN NaN … NaN NaN; NaN NaN … …\n",
       "  1 => [3.0 3.0 … 3.0 1.0; 2.0 2.0 … 2.0 1.0; … ; NaN NaN … NaN NaN; NaN NaN … …"
      ]
     },
     "metadata": {},
     "output_type": "display_data"
    }
   ],
   "source": [
    "\n",
    "ord_list_of_attributes = setdiff(list_of_attributes, [\"ethnicity_1\", \"gender_1\", \"hometown_1\", \"age_1\"])\n",
    "print(ord_list_of_attributes)\n",
    "\n",
    "#creating table of attribute values\n",
    "ord_attributes = Dict((i, zeros(length(nodes), length(ord_list_of_attributes))) for i in 1:6)\n",
    "\n",
    "for sem in 1:6\n",
    "    for (i, node) in enumerate(nodes)\n",
    "        for (j, attribute) in enumerate(ord_list_of_attributes)\n",
    "            if node in file[sem].nodes()\n",
    "                ord_attributes[sem][i,j] = file[sem].nodes[node + 1][attribute]\n",
    "            else\n",
    "                ord_attributes[sem][i,j] = NaN\n",
    "            end\n",
    "        end\n",
    "    end\n",
    "end\n",
    "# for sem in range(1,7):\n",
    "#     for i, node in enumerate(data[sem].nodes()):\n",
    "#         for j, attribute in enumerate(ord_list_of_attributes):\n",
    "#             ord_attributes[sem][i,j] = data[sem].nodes[node][attribute]\n",
    "ord_attributes"
   ]
  },
  {
   "cell_type": "code",
   "execution_count": 28,
   "metadata": {},
   "outputs": [
    {
     "data": {
      "text/plain": [
       "count_attr_stays (generic function with 1 method)"
      ]
     },
     "metadata": {},
     "output_type": "display_data"
    }
   ],
   "source": [
    "# a change is a change of attribute from 1 to 2. a change from 1 to 3 are two changes. \n",
    "function count_attr_changes(ord_attributes)\n",
    "    sems = length(ord_attributes)\n",
    "    N = size(ord_attributes[1])[1]\n",
    "\n",
    "    changes = zeros(sems, sems)\n",
    "    max_change = zeros(sems, sems)\n",
    "\n",
    "    # for sem1 in 1:sems, sem2 in 1:sems\n",
    "    for i in 1:sems\n",
    "        for j in i:sems\n",
    "            attr_change = abs.(ord_attributes[i] .- ord_attributes[j])\n",
    "\n",
    "            changes[i,j] = sum(filter(!isnan, attr_change))\n",
    "            max_change[i,j] = length(filter(!isnan, attr_change))*2\n",
    "        end\n",
    "    end\n",
    "    return changes, max_change\n",
    "end\n",
    "\n",
    "# a change is a change of attribute from 1 to 2. a change from 1 to 3 are two changes. \n",
    "function count_attr_stays(ord_attributes)\n",
    "    sems = length(ord_attributes)\n",
    "    N = size(ord_attributes[1])[1]\n",
    "\n",
    "    stays = zeros(sems, sems)\n",
    "    max_stays = zeros(sems, sems)\n",
    "\n",
    "    # for sem1 in 1:sems, sem2 in 1:sems\n",
    "    for i in 1:sems\n",
    "        for j in i:sems\n",
    "            attr_stay = sum(ord_attributes[i] .== ord_attributes[j])\n",
    "\n",
    "            stays[i,j] = attr_stay\n",
    "            max_stays[i,j] = length(filter(!isnan, ord_attributes[i] .+ ord_attributes[j]))\n",
    "        end\n",
    "    end\n",
    "    return stays, max_stays\n",
    "end"
   ]
  },
  {
   "cell_type": "code",
   "execution_count": 29,
   "metadata": {},
   "outputs": [
    {
     "data": {
      "text/plain": [
       "6×6 Matrix{Float64}:\n",
       " 0.0  210.0  192.0  248.0  238.0  193.0\n",
       " 0.0    0.0  126.0  153.0  175.0  143.0\n",
       " 0.0    0.0    0.0  119.0  125.0  124.0\n",
       " 0.0    0.0    0.0    0.0  148.0  129.0\n",
       " 0.0    0.0    0.0    0.0    0.0  103.0\n",
       " 0.0    0.0    0.0    0.0    0.0    0.0"
      ]
     },
     "metadata": {},
     "output_type": "display_data"
    },
    {
     "data": {
      "text/plain": [
       "6×6 Matrix{Float64}:\n",
       " 1568.0  1376.0  1072.0  1360.0  1296.0  1008.0\n",
       "    0.0  1424.0  1040.0  1312.0  1248.0   960.0\n",
       "    0.0     0.0  1088.0  1072.0  1008.0   848.0\n",
       "    0.0     0.0     0.0  1424.0  1280.0   960.0\n",
       "    0.0     0.0     0.0     0.0  1360.0   992.0\n",
       "    0.0     0.0     0.0     0.0     0.0  1008.0"
      ]
     },
     "metadata": {},
     "output_type": "display_data"
    }
   ],
   "source": [
    "changes, max_change = count_attr_changes(ord_attributes)\n",
    "\n",
    "display(changes)\n",
    "display(max_change)"
   ]
  },
  {
   "cell_type": "code",
   "execution_count": 30,
   "metadata": {},
   "outputs": [
    {
     "data": {
      "text/plain": [
       "6×6 Matrix{Float64}:\n",
       "   0.0    0.152616    0.179104    0.182353    0.183642  0.191468\n",
       " NaN      0.0         0.121154    0.116616    0.140224  0.148958\n",
       " NaN    NaN           0.0         0.111007    0.124008  0.146226\n",
       " NaN    NaN         NaN           0.0         0.115625  0.134375\n",
       " NaN    NaN         NaN         NaN           0.0       0.103831\n",
       " NaN    NaN         NaN         NaN         NaN         0.0"
      ]
     },
     "metadata": {},
     "output_type": "display_data"
    }
   ],
   "source": [
    "changes ./ max_change"
   ]
  },
  {
   "cell_type": "code",
   "execution_count": 31,
   "metadata": {},
   "outputs": [
    {
     "data": {
      "text/plain": [
       "6×6 Matrix{Float64}:\n",
       " 784.0  525.0  388.0  491.0  462.0  361.0\n",
       "   0.0  712.0  421.0  531.0  485.0  372.0\n",
       "   0.0    0.0  544.0  440.0  404.0  331.0\n",
       "   0.0    0.0    0.0  712.0  522.0  378.0\n",
       "   0.0    0.0    0.0    0.0  680.0  412.0\n",
       "   0.0    0.0    0.0    0.0    0.0  504.0"
      ]
     },
     "metadata": {},
     "output_type": "display_data"
    },
    {
     "data": {
      "text/plain": [
       "6×6 Matrix{Float64}:\n",
       " 784.0  688.0  536.0  680.0  648.0  504.0\n",
       "   0.0  712.0  520.0  656.0  624.0  480.0\n",
       "   0.0    0.0  544.0  536.0  504.0  424.0\n",
       "   0.0    0.0    0.0  712.0  640.0  480.0\n",
       "   0.0    0.0    0.0    0.0  680.0  496.0\n",
       "   0.0    0.0    0.0    0.0    0.0  504.0"
      ]
     },
     "metadata": {},
     "output_type": "display_data"
    },
    {
     "data": {
      "text/plain": [
       "6×6 Matrix{Float64}:\n",
       "   1.0    0.763081    0.723881    0.722059    0.712963  0.71627\n",
       " NaN      1.0         0.809615    0.809451    0.777244  0.775\n",
       " NaN    NaN           1.0         0.820896    0.801587  0.78066\n",
       " NaN    NaN         NaN           1.0         0.815625  0.7875\n",
       " NaN    NaN         NaN         NaN           1.0       0.830645\n",
       " NaN    NaN         NaN         NaN         NaN         1.0"
      ]
     },
     "metadata": {},
     "output_type": "display_data"
    }
   ],
   "source": [
    "stays, max_stays = count_attr_stays(ord_attributes)\n",
    "\n",
    "display(stays)\n",
    "display(max_stays)\n",
    "display(stays ./ max_stays)"
   ]
  },
  {
   "cell_type": "markdown",
   "metadata": {},
   "source": [
    "## Now, let's see above only on triads"
   ]
  },
  {
   "cell_type": "code",
   "execution_count": 32,
   "metadata": {},
   "outputs": [
    {
     "data": {
      "text/plain": [
       "6×6 Matrix{Float64}:\n",
       " 0.0  128.0  146.0  169.0  151.0  151.0\n",
       " 0.0    0.0   94.0  107.0  108.0  114.0\n",
       " 0.0    0.0    0.0   91.0  102.0  111.0\n",
       " 0.0    0.0    0.0    0.0   93.0  104.0\n",
       " 0.0    0.0    0.0    0.0    0.0   76.0\n",
       " 0.0    0.0    0.0    0.0    0.0    0.0"
      ]
     },
     "metadata": {},
     "output_type": "display_data"
    },
    {
     "data": {
      "text/plain": [
       "6×6 Matrix{Float64}:\n",
       " 960.0  880.0  832.0  912.0  880.0  784.0\n",
       "   0.0  880.0  800.0  864.0  832.0  752.0\n",
       "   0.0    0.0  832.0  832.0  784.0  720.0\n",
       "   0.0    0.0    0.0  912.0  864.0  768.0\n",
       "   0.0    0.0    0.0    0.0  880.0  784.0\n",
       "   0.0    0.0    0.0    0.0    0.0  784.0"
      ]
     },
     "metadata": {},
     "output_type": "display_data"
    },
    {
     "data": {
      "text/plain": [
       "6×6 Matrix{Float64}:\n",
       "   0.0    0.145455    0.175481    0.185307    0.171591  0.192602\n",
       " NaN      0.0         0.1175      0.123843    0.129808  0.151596\n",
       " NaN    NaN           0.0         0.109375    0.130102  0.154167\n",
       " NaN    NaN         NaN           0.0         0.107639  0.135417\n",
       " NaN    NaN         NaN         NaN           0.0       0.0969388\n",
       " NaN    NaN         NaN         NaN         NaN         0.0"
      ]
     },
     "metadata": {},
     "output_type": "display_data"
    }
   ],
   "source": [
    "ord_attributes_triads = [ord_attributes[sem][triad_nodes, :] for sem in 1:6]\n",
    "\n",
    "changes, max_change = count_attr_changes(ord_attributes_triads)\n",
    "\n",
    "display(changes)\n",
    "display(max_change)\n",
    "display(changes ./ max_change)"
   ]
  },
  {
   "cell_type": "code",
   "execution_count": 33,
   "metadata": {},
   "outputs": [
    {
     "data": {
      "text/plain": [
       "6×6 Matrix{Float64}:\n",
       " 480.0  337.0  301.0  328.0  323.0  282.0\n",
       "   0.0  440.0  325.0  345.0  334.0  293.0\n",
       "   0.0    0.0  416.0  343.0  312.0  279.0\n",
       "   0.0    0.0    0.0  456.0  359.0  304.0\n",
       "   0.0    0.0    0.0    0.0  440.0  332.0\n",
       "   0.0    0.0    0.0    0.0    0.0  392.0"
      ]
     },
     "metadata": {},
     "output_type": "display_data"
    },
    {
     "data": {
      "text/plain": [
       "6×6 Matrix{Float64}:\n",
       " 480.0  440.0  416.0  456.0  440.0  392.0\n",
       "   0.0  440.0  400.0  432.0  416.0  376.0\n",
       "   0.0    0.0  416.0  416.0  392.0  360.0\n",
       "   0.0    0.0    0.0  456.0  432.0  384.0\n",
       "   0.0    0.0    0.0    0.0  440.0  392.0\n",
       "   0.0    0.0    0.0    0.0    0.0  392.0"
      ]
     },
     "metadata": {},
     "output_type": "display_data"
    },
    {
     "data": {
      "text/plain": [
       "6×6 Matrix{Float64}:\n",
       "   1.0    0.765909    0.723558    0.719298    0.734091  0.719388\n",
       " NaN      1.0         0.8125      0.798611    0.802885  0.779255\n",
       " NaN    NaN           1.0         0.824519    0.795918  0.775\n",
       " NaN    NaN         NaN           1.0         0.831019  0.791667\n",
       " NaN    NaN         NaN         NaN           1.0       0.846939\n",
       " NaN    NaN         NaN         NaN         NaN         1.0"
      ]
     },
     "metadata": {},
     "output_type": "display_data"
    }
   ],
   "source": [
    "stays, max_stays = count_attr_stays(ord_attributes_triads)\n",
    "\n",
    "display(stays)\n",
    "display(max_stays)\n",
    "display(stays ./ max_stays)"
   ]
  },
  {
   "cell_type": "markdown",
   "metadata": {},
   "source": [
    "## Let's count how many edges between nodes in triads vanish"
   ]
  },
  {
   "cell_type": "code",
   "execution_count": 34,
   "metadata": {},
   "outputs": [
    {
     "data": {
      "text/plain": [
       "(65.0, 105.0, 76.0)"
      ]
     },
     "metadata": {},
     "output_type": "display_data"
    },
    {
     "data": {
      "text/plain": [
       "6×6 Matrix{Float64}:\n",
       " 1.0       0.471545  0.318966  0.353383  0.310606  0.3\n",
       " 0.471545  1.0       0.512195  0.572917  0.5       0.395604\n",
       " 0.318966  0.512195  1.0       0.556962  0.506494  0.477612\n",
       " 0.353383  0.572917  0.556962  1.0       0.643678  0.448276\n",
       " 0.310606  0.5       0.506494  0.643678  1.0       0.565789\n",
       " 0.3       0.395604  0.477612  0.448276  0.565789  1.0"
      ]
     },
     "metadata": {},
     "output_type": "display_data"
    },
    {
     "data": {
      "text/plain": [
       "6×6 Matrix{Float64}:\n",
       " 1.0  0.552381  0.352381  0.447619  0.390476  0.342857\n",
       " 0.0  1.0       0.552632  0.723684  0.631579  0.473684\n",
       " 0.0  0.0       1.0       0.916667  0.8125    0.666667\n",
       " 0.0  0.0       0.0       1.0       0.746667  0.52\n",
       " 0.0  0.0       0.0       0.0       1.0       0.632353\n",
       " 0.0  0.0       0.0       0.0       0.0       1.0"
      ]
     },
     "metadata": {},
     "output_type": "display_data"
    },
    {
     "data": {
      "text/plain": [
       "6×6 Matrix{Float64}:\n",
       " 0.0  47.0  68.0  58.0  64.0  69.0\n",
       " 0.0   0.0  34.0  21.0  28.0  40.0\n",
       " 0.0   0.0   0.0   4.0   9.0  16.0\n",
       " 0.0   0.0   0.0   0.0  19.0  36.0\n",
       " 0.0   0.0   0.0   0.0   0.0  25.0\n",
       " 0.0   0.0   0.0   0.0   0.0   0.0"
      ]
     },
     "metadata": {},
     "output_type": "display_data"
    }
   ],
   "source": [
    "As2\n",
    "\n",
    "i=1; inc = 1;\n",
    "display((sum(abs.(As2[i + inc] .- As2[i]))/2, sum(As2[i])/2, sum(As2[i+inc])/2))\n",
    "\n",
    "overlap_nodes_triads = zeros(6,6)\n",
    "for i in 1:6, j in 1:6\n",
    "    overlap_nodes_triads[i,j] = sum(As2[i].*As2[j]) / sum(sign.(As2[i] .+ As2[j]))\n",
    "end\n",
    "display(overlap_nodes_triads)\n",
    "\n",
    "#how many links vanish?\n",
    "not_vanish_nodes_triads = zeros(6,6)\n",
    "vanish_abs_nodes_triads = zeros(6,6)\n",
    "for i in 1:6\n",
    "    for j in i:6\n",
    "        not_vanish_nodes_triads[i,j] = sum(As2[i].*As2[j]) / sum(As2[i])\n",
    "        vanish_abs_nodes_triads[i,j] = (sum(As2[i]) - sum(As2[i].*As2[j]))/2\n",
    "    end\n",
    "end\n",
    "display(not_vanish_nodes_triads)\n",
    "display(vanish_abs_nodes_triads)\n"
   ]
  },
  {
   "cell_type": "code",
   "execution_count": 35,
   "metadata": {},
   "outputs": [
    {
     "data": {
      "text/plain": [
       "6×6 Matrix{Float64}:\n",
       " 0.0  128.0  146.0  169.0  151.0  151.0\n",
       " 0.0    0.0   94.0  107.0  108.0  114.0\n",
       " 0.0    0.0    0.0   91.0  102.0  111.0\n",
       " 0.0    0.0    0.0    0.0   93.0  104.0\n",
       " 0.0    0.0    0.0    0.0    0.0   76.0\n",
       " 0.0    0.0    0.0    0.0    0.0    0.0"
      ]
     },
     "metadata": {},
     "output_type": "display_data"
    },
    {
     "data": {
      "text/plain": [
       "6×6 Matrix{Float64}:\n",
       " NaN    2.7234    2.14706    2.91379    2.35938    2.18841\n",
       " NaN  NaN         2.76471    5.09524    3.85714    2.85\n",
       " NaN  NaN       NaN         22.75      11.3333     6.9375\n",
       " NaN  NaN       NaN        NaN          4.89474    2.88889\n",
       " NaN  NaN       NaN        NaN        NaN          3.04\n",
       " NaN  NaN       NaN        NaN        NaN        NaN"
      ]
     },
     "metadata": {},
     "output_type": "display_data"
    }
   ],
   "source": [
    "# display(vanish_abs_nodes_triads)\n",
    "display(changes)\n",
    "display(changes ./ vanish_abs_nodes_triads)\n",
    "\n",
    "# diff = changes .- triad_vanish_abs\n",
    "# [diff[i, i+1] for i in 1:5]"
   ]
  },
  {
   "cell_type": "code",
   "execution_count": 36,
   "metadata": {},
   "outputs": [
    {
     "name": "stdout",
     "output_type": "stream",
     "text": [
      "Total number of attribute changes from term to term: 482.0\n",
      "Total number of edges vanished from term to term: 129.0\n"
     ]
    },
    {
     "data": {
      "text/plain": [
       "0.21112929623567922"
      ]
     },
     "metadata": {},
     "output_type": "display_data"
    }
   ],
   "source": [
    "attr_tot = sum([changes[i, i+1] for i in 1:5])\n",
    "println(\"Total number of attribute changes from term to term: \" * string(attr_tot))\n",
    "edges_vanish_tot = sum([vanish_abs_nodes_triads[i, i+1] for i in 1:5])\n",
    "println(\"Total number of edges vanished from term to term: \" * string(edges_vanish_tot))\n",
    "\n",
    "pr = edges_vanish_tot / (edges_vanish_tot + attr_tot)"
   ]
  },
  {
   "cell_type": "markdown",
   "metadata": {},
   "source": [
    "## Let's calculate link signs depending on threshold"
   ]
  },
  {
   "cell_type": "code",
   "execution_count": 37,
   "metadata": {},
   "outputs": [
    {
     "name": "stderr",
     "output_type": "stream",
     "text": [
      "WARNING: using NetHeider.add_edges! in module Main conflicts with an existing identifier.\n"
     ]
    }
   ],
   "source": [
    "using NetHeider"
   ]
  },
  {
   "cell_type": "code",
   "execution_count": 52,
   "metadata": {},
   "outputs": [
    {
     "data": {
      "text/plain": [
       "60"
      ]
     },
     "metadata": {},
     "output_type": "display_data"
    }
   ],
   "source": [
    "G = 8\n",
    "th = 0.51\n",
    "v = 3\n",
    "aT = OrderedAttributes(G, th, v)\n",
    "N = 60\n"
   ]
  },
  {
   "cell_type": "code",
   "execution_count": 89,
   "metadata": {},
   "outputs": [
    {
     "data": {
      "text/plain": [
       "6-element Vector{Symmetric{Float64, Matrix{Float64}}}:\n",
       " [0.0 1.0 … NaN NaN; 1.0 0.0 … NaN NaN; … ; NaN NaN … 0.0 NaN; NaN NaN … NaN 0.0]\n",
       " [0.0 NaN … NaN NaN; NaN 0.0 … NaN NaN; … ; NaN NaN … 0.0 NaN; NaN NaN … NaN 0.0]\n",
       " [0.0 1.0 … NaN NaN; 1.0 0.0 … NaN NaN; … ; NaN NaN … 0.0 NaN; NaN NaN … NaN 0.0]\n",
       " [0.0 1.0 … -1.0 -1.0; 1.0 0.0 … -1.0 1.0; … ; -1.0 -1.0 … 0.0 -1.0; -1.0 1.0 … -1.0 0.0]\n",
       " [0.0 1.0 … NaN -1.0; 1.0 0.0 … NaN 1.0; … ; NaN NaN … 0.0 NaN; -1.0 1.0 … NaN 0.0]\n",
       " [0.0 NaN … NaN NaN; NaN 0.0 … NaN NaN; … ; NaN NaN … 0.0 NaN; NaN NaN … NaN 0.0]"
      ]
     },
     "metadata": {},
     "output_type": "display_data"
    }
   ],
   "source": [
    "attr= ord_attributes[2]\n",
    "\n",
    "sign.(Symmetric(get_attribute_layer_weights(aT, attr)))\n",
    "\n",
    "[Symmetric(sign.(get_attribute_layer_weights(aT, ord_attributes[i]))) for i in 1:6]"
   ]
  },
  {
   "cell_type": "code",
   "execution_count": 90,
   "metadata": {},
   "outputs": [
    {
     "data": {
      "text/plain": [
       "6-element Vector{Symmetric{Float64, Matrix{Float64}}}:\n",
       " [0.0 1.0 … NaN NaN; 1.0 0.0 … NaN NaN; … ; NaN NaN … 0.0 NaN; NaN NaN … NaN 0.0]\n",
       " [0.0 NaN … NaN NaN; NaN 0.0 … NaN NaN; … ; NaN NaN … 0.0 NaN; NaN NaN … NaN 0.0]\n",
       " [0.0 1.0 … NaN NaN; 1.0 0.0 … NaN NaN; … ; NaN NaN … 0.0 NaN; NaN NaN … NaN 0.0]\n",
       " [0.0 1.0 … -1.0 -1.0; 1.0 0.0 … -1.0 1.0; … ; -1.0 -1.0 … 0.0 -1.0; -1.0 1.0 … -1.0 0.0]\n",
       " [0.0 1.0 … NaN -1.0; 1.0 0.0 … NaN 1.0; … ; NaN NaN … 0.0 NaN; -1.0 1.0 … NaN 0.0]\n",
       " [0.0 NaN … NaN NaN; NaN 0.0 … NaN NaN; … ; NaN NaN … 0.0 NaN; NaN NaN … NaN 0.0]"
      ]
     },
     "metadata": {},
     "output_type": "display_data"
    }
   ],
   "source": [
    "attr = ord_attributes_triads[1]\n",
    "\n",
    "all_signs = [Symmetric(sign.(get_attribute_layer_weights(aT, ord_attributes[i]))) for i in 1:6]"
   ]
  },
  {
   "cell_type": "code",
   "execution_count": 92,
   "metadata": {},
   "outputs": [
    {
     "data": {
      "text/plain": [
       "60×60 Matrix{Float64}:\n",
       "  0.0   1.0   1.0   1.0   1.0  -1.0  …   1.0   1.0  -1.0   1.0   1.0   1.0\n",
       "  1.0   0.0  -1.0  -1.0   1.0   1.0      1.0  -1.0   1.0   1.0   1.0   1.0\n",
       "  1.0  -1.0   0.0   1.0  -1.0  -1.0     -1.0   1.0  -1.0   1.0   1.0   1.0\n",
       "  1.0  -1.0   1.0   0.0   1.0  -1.0      1.0   1.0  -1.0   1.0  -1.0   1.0\n",
       "  1.0   1.0  -1.0   1.0   0.0  -1.0      1.0   1.0  -1.0   1.0  -1.0   1.0\n",
       " -1.0   1.0  -1.0  -1.0  -1.0   0.0  …   1.0   1.0   1.0  -1.0   1.0  -1.0\n",
       " -1.0   1.0  -1.0  -1.0   1.0   1.0     -1.0  -1.0   1.0   1.0   1.0  -1.0\n",
       " -1.0   1.0   1.0  -1.0   1.0   1.0     -1.0  -1.0   1.0  -1.0  -1.0  -1.0\n",
       "  1.0  -1.0   1.0   1.0   1.0  -1.0      1.0   1.0  -1.0   1.0  -1.0   1.0\n",
       " -1.0  -1.0   1.0   1.0   1.0  -1.0     -1.0   1.0  -1.0   1.0  -1.0   1.0\n",
       "  ⋮                             ⋮    ⋱         ⋮                      \n",
       " -1.0   1.0  -1.0  -1.0  -1.0   1.0      1.0  -1.0   1.0  -1.0   1.0  -1.0\n",
       "  1.0   1.0  -1.0   1.0   1.0   1.0     -1.0   1.0   1.0   1.0  -1.0  -1.0\n",
       " -1.0   1.0  -1.0  -1.0  -1.0   1.0      1.0  -1.0   1.0  -1.0   1.0  -1.0\n",
       "  1.0   1.0  -1.0   1.0   1.0   1.0      0.0   1.0  -1.0   1.0   1.0   1.0\n",
       "  1.0  -1.0   1.0   1.0   1.0   1.0  …   1.0   0.0  -1.0   1.0  -1.0   1.0\n",
       " -1.0   1.0  -1.0  -1.0  -1.0   1.0     -1.0  -1.0   0.0  -1.0   1.0  -1.0\n",
       "  1.0   1.0   1.0   1.0   1.0  -1.0      1.0   1.0  -1.0   0.0   1.0   1.0\n",
       "  1.0   1.0   1.0  -1.0  -1.0   1.0      1.0  -1.0   1.0   1.0   0.0   1.0\n",
       "  1.0   1.0   1.0   1.0   1.0  -1.0      1.0   1.0  -1.0   1.0   1.0   0.0"
      ]
     },
     "metadata": {},
     "output_type": "display_data"
    }
   ],
   "source": [
    "t = all_triads[1][10]\n",
    "triad_nodes .== t[3]\n",
    "\n",
    "all_signs[1][triad_nodes, triad_nodes]"
   ]
  },
  {
   "cell_type": "code",
   "execution_count": 115,
   "metadata": {},
   "outputs": [
    {
     "data": {
      "text/plain": [
       "false"
      ]
     },
     "metadata": {},
     "output_type": "display_data"
    },
    {
     "data": {
      "text/plain": [
       "3-element Vector{Float64}:\n",
       "  1.0\n",
       " -1.0\n",
       "  1.0"
      ]
     },
     "metadata": {},
     "output_type": "display_data"
    },
    {
     "data": {
      "text/plain": [
       "3-element Vector{Float64}:\n",
       " NaN\n",
       "   1.0\n",
       " NaN"
      ]
     },
     "metadata": {},
     "output_type": "display_data"
    }
   ],
   "source": [
    "#Example oj lack of attributes: \n",
    "t = all_triads[1][1]\n",
    "display(t in all_triads[2])\n",
    "\n",
    "links = [(t[1], t[2]), (t[2], t[3]), (t[3], t[1])]\n",
    "all_signs[1][[t...],[t...]]\n",
    "triad_links_old = [all_signs[1][link...] for link in links]\n",
    "display(triad_links_old)\n",
    "\n",
    "triad_links_new = [all_signs[2][link...] for link in links]\n",
    "display(triad_links_new)"
   ]
  },
  {
   "cell_type": "code",
   "execution_count": 116,
   "metadata": {},
   "outputs": [
    {
     "data": {
      "text/plain": [
       "false"
      ]
     },
     "metadata": {},
     "output_type": "display_data"
    },
    {
     "data": {
      "text/plain": [
       "3-element Vector{Float64}:\n",
       "  1.0\n",
       "  1.0\n",
       " -1.0"
      ]
     },
     "metadata": {},
     "output_type": "display_data"
    },
    {
     "data": {
      "text/plain": [
       "3-element Vector{Float64}:\n",
       "  1.0\n",
       " -1.0\n",
       " -1.0"
      ]
     },
     "metadata": {},
     "output_type": "display_data"
    },
    {
     "data": {
      "text/plain": [
       "3-element Vector{Int64}:\n",
       " 0\n",
       " 0\n",
       " 1"
      ]
     },
     "metadata": {},
     "output_type": "display_data"
    },
    {
     "data": {
      "text/plain": [
       "2-element Vector{Tuple{Int64, Int64}}:\n",
       " (4, 9)\n",
       " (9, 16)"
      ]
     },
     "metadata": {},
     "output_type": "display_data"
    }
   ],
   "source": [
    "# Example of disappearing two links in a triad:\n",
    "t = all_triads[1][5]\n",
    "display(t in all_triads[2])\n",
    "#triad not in triads in semester 2\n",
    "\n",
    "links = [(t[1], t[2]), (t[2], t[3]), (t[3], t[1])]\n",
    "all_signs[1][[t...],[t...]]\n",
    "triad_links_old = [all_signs[1][link...] for link in links]\n",
    "display(triad_links_old)\n",
    "\n",
    "triad_links_new = [all_signs[2][link...] for link in links]\n",
    "display(triad_links_new)\n",
    "\n",
    "display([As[2][link...] for link in links])\n",
    "#two links disappeared: positive and negative\n",
    "\n",
    "disappearing_links = links[[As[2][link...] for link in links] .== 0]"
   ]
  },
  {
   "cell_type": "code",
   "execution_count": 122,
   "metadata": {},
   "outputs": [
    {
     "data": {
      "text/plain": [
       "true"
      ]
     },
     "metadata": {},
     "output_type": "display_data"
    },
    {
     "data": {
      "text/plain": [
       "3-element Vector{Float64}:\n",
       " 1.0\n",
       " 1.0\n",
       " 1.0"
      ]
     },
     "metadata": {},
     "output_type": "display_data"
    },
    {
     "data": {
      "text/plain": [
       "3-element Vector{Float64}:\n",
       " 1.0\n",
       " 1.0\n",
       " 1.0"
      ]
     },
     "metadata": {},
     "output_type": "display_data"
    },
    {
     "data": {
      "text/plain": [
       "3-element Vector{Int64}:\n",
       " 1\n",
       " 1\n",
       " 1"
      ]
     },
     "metadata": {},
     "output_type": "display_data"
    }
   ],
   "source": [
    "# Example of not changing signs\n",
    "t = all_triads[1][8]\n",
    "display(t in all_triads[2])\n",
    "#triad not in triads in semester 2\n",
    "\n",
    "links = [(t[1], t[2]), (t[2], t[3]), (t[3], t[1])]\n",
    "all_signs[1][[t...],[t...]]\n",
    "triad_links_old = [all_signs[1][link...] for link in links]\n",
    "display(triad_links_old)\n",
    "\n",
    "triad_links_new = [all_signs[2][link...] for link in links]\n",
    "display(triad_links_new)\n",
    "\n",
    "display([As[2][link...] for link in links])\n",
    "\n"
   ]
  },
  {
   "cell_type": "code",
   "execution_count": 143,
   "metadata": {},
   "outputs": [
    {
     "data": {
      "text/plain": [
       "2×8 Matrix{Float64}:\n",
       " 3.0  3.0  3.0  1.0  1.0  2.0  2.0  2.0\n",
       " 3.0  3.0  3.0  2.0  1.0  3.0  1.0  3.0"
      ]
     },
     "metadata": {},
     "output_type": "display_data"
    }
   ],
   "source": [
    "ord_attributes[1][[5,4], :]"
   ]
  },
  {
   "cell_type": "code",
   "execution_count": 186,
   "metadata": {},
   "outputs": [
    {
     "data": {
      "text/plain": [
       "true"
      ]
     },
     "metadata": {},
     "output_type": "display_data"
    },
    {
     "data": {
      "text/plain": [
       "3-element Vector{Float64}:\n",
       " -1.0\n",
       "  1.0\n",
       " -1.0"
      ]
     },
     "metadata": {},
     "output_type": "display_data"
    },
    {
     "data": {
      "text/plain": [
       "3-element Vector{Float64}:\n",
       " 1.0\n",
       " 1.0\n",
       " 1.0"
      ]
     },
     "metadata": {},
     "output_type": "display_data"
    },
    {
     "data": {
      "text/plain": [
       "3-element Vector{Int64}:\n",
       " 1\n",
       " 1\n",
       " 1"
      ]
     },
     "metadata": {},
     "output_type": "display_data"
    },
    {
     "data": {
      "text/plain": [
       "2×8 Matrix{Float64}:\n",
       " 1.0  1.0  1.0  1.0  1.0  3.0  1.0  1.0\n",
       " 3.0  3.0  2.0  3.0  2.0  2.0  1.0  2.0"
      ]
     },
     "metadata": {},
     "output_type": "display_data"
    },
    {
     "data": {
      "text/plain": [
       "2×8 Matrix{Float64}:\n",
       " 1.0  1.0  3.0  3.0  3.0  3.0  1.0  1.0\n",
       " 2.0  3.0  3.0  3.0  3.0  3.0  1.0  2.0"
      ]
     },
     "metadata": {},
     "output_type": "display_data"
    },
    {
     "data": {
      "text/plain": [
       "10.0"
      ]
     },
     "metadata": {},
     "output_type": "display_data"
    },
    {
     "data": {
      "text/plain": [
       "2×8 Matrix{Float64}:\n",
       " 3.0  3.0  3.0  1.0  3.0  2.0  3.0  1.0\n",
       " 1.0  1.0  1.0  1.0  1.0  3.0  1.0  1.0"
      ]
     },
     "metadata": {},
     "output_type": "display_data"
    },
    {
     "data": {
      "text/plain": [
       "2×8 Matrix{Float64}:\n",
       " 1.0  3.0  3.0  2.0  3.0  3.0  2.0  1.0\n",
       " 1.0  1.0  3.0  3.0  3.0  3.0  1.0  1.0"
      ]
     },
     "metadata": {},
     "output_type": "display_data"
    },
    {
     "data": {
      "text/plain": [
       "11.0"
      ]
     },
     "metadata": {},
     "output_type": "display_data"
    }
   ],
   "source": [
    "# Example of not changint type of triad\n",
    "t = all_triads[1][45]\n",
    "display(t in all_triads[2])\n",
    "#triad not in triads in semester 2\n",
    "\n",
    "links = [(t[1], t[2]), (t[2], t[3]), (t[3], t[1])]\n",
    "all_signs[1][[t...],[t...]]\n",
    "triad_links_old = [all_signs[1][link...] for link in links]\n",
    "display(triad_links_old)\n",
    "\n",
    "triad_links_new = [all_signs[2][link...] for link in links]\n",
    "display(triad_links_new)\n",
    "\n",
    "triad_signs_new = [As[2][link...] for link in links]\n",
    "display(triad_signs_new)\n",
    "\n",
    "if all(triad_signs_new .== 1)\n",
    "    #which link changed sign?\n",
    "    links_changed = findall(triad_links_old .!= triad_links_new)\n",
    "    # triad_links_old .== triad_links_new\n",
    "\n",
    "    for link_changed in links_changed\n",
    "        link = [links[link_changed]...]\n",
    "\n",
    "        attr_old = ord_attributes[1][link,:]\n",
    "        attr_new = ord_attributes[2][link,:]\n",
    "        \n",
    "        display(ord_attributes[1][link,:])\n",
    "        display(ord_attributes[2][link,:])\n",
    "\n",
    "        attr_changes = count_attr_changes([attr_old, attr_new])[1][1,2]\n",
    "        display(attr_changes)\n",
    "    end\n",
    "end"
   ]
  },
  {
   "cell_type": "code",
   "execution_count": 153,
   "metadata": {},
   "outputs": [
    {
     "data": {
      "text/plain": [
       "true"
      ]
     },
     "metadata": {},
     "output_type": "display_data"
    },
    {
     "data": {
      "text/plain": [
       "3-element Vector{Float64}:\n",
       "  1.0\n",
       " -1.0\n",
       " -1.0"
      ]
     },
     "metadata": {},
     "output_type": "display_data"
    },
    {
     "data": {
      "text/plain": [
       "3-element Vector{Float64}:\n",
       "  1.0\n",
       " -1.0\n",
       " -1.0"
      ]
     },
     "metadata": {},
     "output_type": "display_data"
    },
    {
     "data": {
      "text/plain": [
       "3-element Vector{Int64}:\n",
       " 1\n",
       " 1\n",
       " 1"
      ]
     },
     "metadata": {},
     "output_type": "display_data"
    }
   ],
   "source": [
    "# Example of not changint type of triad\n",
    "t = all_triads[1][19]\n",
    "display(t in all_triads[2])\n",
    "#triad not in triads in semester 2\n",
    "\n",
    "links = [(t[1], t[2]), (t[2], t[3]), (t[3], t[1])]\n",
    "all_signs[1][[t...],[t...]]\n",
    "triad_links_old = [all_signs[1][link...] for link in links]\n",
    "display(triad_links_old)\n",
    "\n",
    "triad_links_new = [all_signs[2][link...] for link in links]\n",
    "display(triad_links_new)\n",
    "\n",
    "triad_signs_new = [As[2][link...] for link in links]\n",
    "display(triad_signs_new)\n",
    "\n",
    "if all(triad_signs_new .== 1)\n",
    "    #which link changed sign?\n",
    "    links_changed = findall(triad_links_old .!= triad_links_new)\n",
    "    # triad_links_old .== triad_links_new\n",
    "\n",
    "    for link_changed in links_changed\n",
    "        link = [links[link_changed]...]\n",
    "\n",
    "        attr_old = ord_attributes[1][link,:]\n",
    "        attr_new = ord_attributes[2][link,:]\n",
    "        \n",
    "        display(ord_attributes[1][link,:])\n",
    "        display(ord_attributes[2][link,:])\n",
    "\n",
    "        attr_changes = count_attr_changes([attr_old, attr_new])[1][1,2]\n",
    "        display(attr_changes)\n",
    "    end\n",
    "end"
   ]
  },
  {
   "cell_type": "code",
   "execution_count": null,
   "metadata": {},
   "outputs": [],
   "source": [
    "num_triads_didnt_change = 0\n",
    "num_triads_attributes_change = 0\n",
    "num_triads_positive_link\n",
    "\n",
    "for triad in all_triads[1]\n",
    "    #is triad in next iteration?\n",
    "\n",
    "    #if yes, are the links the same?\n",
    "\n",
    "    #if not, are there attributes? If not, continue\n",
    "    #if not, how did attribtues change (more similar/more different)\n",
    "\n",
    "    #if \n",
    "end"
   ]
  }
 ],
 "metadata": {
  "kernelspec": {
   "display_name": "Julia 1.6.4",
   "language": "julia",
   "name": "julia-1.6"
  },
  "language_info": {
   "file_extension": ".jl",
   "mimetype": "application/julia",
   "name": "julia",
   "version": "1.6.4"
  },
  "orig_nbformat": 4
 },
 "nbformat": 4,
 "nbformat_minor": 2
}

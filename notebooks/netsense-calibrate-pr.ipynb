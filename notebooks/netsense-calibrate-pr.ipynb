{
 "cells": [
  {
   "cell_type": "code",
   "execution_count": 1,
   "metadata": {},
   "outputs": [
    {
     "data": {
      "text/plain": [
       "PyObject <function load_pickle at 0x7fe79fb6cb80>"
      ]
     },
     "metadata": {},
     "output_type": "display_data"
    }
   ],
   "source": [
    "using PyCall\n",
    "\n",
    "using DrWatson\n",
    "quickactivate(@__DIR__)\n",
    "\n",
    "py\"\"\"\n",
    "import pickle\n",
    " \n",
    "def load_pickle(fpath):\n",
    "    with open(fpath, \"rb\") as f:\n",
    "        data = pickle.load(f)\n",
    "    return data\n",
    "\"\"\"\n",
    "\n",
    "load_pickle = py\"load_pickle\""
   ]
  },
  {
   "cell_type": "code",
   "execution_count": 2,
   "metadata": {},
   "outputs": [
    {
     "data": {
      "text/plain": [
       "Dict{Any, Any} with 6 entries:\n",
       "  5 => PyObject <networkx.classes.graph.Graph object at 0x7fe7916b49d0>\n",
       "  4 => PyObject <networkx.classes.graph.Graph object at 0x7fe7916fad90>\n",
       "  6 => PyObject <networkx.classes.graph.Graph object at 0x7fe791677cd0>\n",
       "  2 => PyObject <networkx.classes.graph.Graph object at 0x7fe7917774f0>\n",
       "  3 => PyObject <networkx.classes.graph.Graph object at 0x7fe7916bf130>\n",
       "  1 => PyObject <networkx.classes.graph.Graph object at 0x7fe79fdc8940>"
      ]
     },
     "metadata": {},
     "output_type": "display_data"
    }
   ],
   "source": [
    "fname = datadir(\"exp_pro\", \"NetSense_network.pkl\")\n",
    "file = load_pickle(fname)"
   ]
  },
  {
   "cell_type": "code",
   "execution_count": 3,
   "metadata": {},
   "outputs": [
    {
     "data": {
      "text/plain": [
       "3-element Vector{Int64}:\n",
       " 26999\n",
       " 30952\n",
       " 62555"
      ]
     },
     "metadata": {},
     "output_type": "display_data"
    }
   ],
   "source": [
    "#works! (shows a lot without semicolon)\n",
    "file[1].nodes.data();\n",
    "[n for n in file[1].neighbors(75178)]"
   ]
  },
  {
   "cell_type": "code",
   "execution_count": 4,
   "metadata": {},
   "outputs": [
    {
     "data": {
      "text/plain": [
       "PyObject <function get_adjacency_matrix at 0x7fe79174cb80>"
      ]
     },
     "metadata": {},
     "output_type": "display_data"
    }
   ],
   "source": [
    "py\"\"\"\n",
    "import networkx as nx\n",
    "def get_triads(net):\n",
    "    A = nx.adjacency_matrix(net).todense() \n",
    "\n",
    "    N = A.shape[0]\n",
    "\n",
    "    triads = []\n",
    "\n",
    "    for i in range(0,N):\n",
    "        for j in range(i+1,N):\n",
    "            if A[i,j] > 0:\n",
    "                for k in range(j+1,N):\n",
    "                    if A[i,k] > 0 and A[j,k] > 0:\n",
    "                        triads.append((i,j,k))\n",
    "    \n",
    "    return triads\n",
    "\n",
    "def get_adjacency_matrix(net, ordering = None):\n",
    "    return nx.adjacency_matrix(net, ordering).todense() \n",
    "\"\"\"\n",
    "\n",
    "function get_triads2(A)\n",
    "    \n",
    "\n",
    "    N = size(A)[1]\n",
    "\n",
    "    triads = []\n",
    "\n",
    "    for i in 1:N\n",
    "        for j in (i+1):N\n",
    "            if A[i,j] > 0\n",
    "                for k in (j+1):N\n",
    "                    if A[i,k] > 0 && A[j,k] > 0\n",
    "                        push!(triads, (i,j,k))\n",
    "                    end\n",
    "                end\n",
    "            end\n",
    "        end\n",
    "    end\n",
    "    \n",
    "    return triads\n",
    "end\n",
    "\n",
    "get_triads = py\"get_triads\"\n",
    "get_adjacency_matrix = py\"get_adjacency_matrix\""
   ]
  },
  {
   "cell_type": "code",
   "execution_count": 5,
   "metadata": {},
   "outputs": [
    {
     "data": {
      "text/plain": [
       "45-element Vector{Tuple{Int64, Int64, Int64}}:\n",
       " (0, 1, 3)\n",
       " (0, 3, 4)\n",
       " (1, 2, 3)\n",
       " (2, 3, 4)\n",
       " (3, 8, 15)\n",
       " (4, 69, 94)\n",
       " (5, 7, 8)\n",
       " (5, 7, 17)\n",
       " (5, 7, 41)\n",
       " (5, 7, 43)\n",
       " ⋮\n",
       " (12, 53, 80)\n",
       " (12, 59, 62)\n",
       " (13, 14, 50)\n",
       " (15, 19, 20)\n",
       " (17, 44, 77)\n",
       " (21, 22, 23)\n",
       " (35, 36, 83)\n",
       " (53, 59, 62)\n",
       " (53, 62, 74)"
      ]
     },
     "metadata": {},
     "output_type": "display_data"
    }
   ],
   "source": [
    "display(get_triads(file[1]))"
   ]
  },
  {
   "cell_type": "code",
   "execution_count": 6,
   "metadata": {},
   "outputs": [
    {
     "data": {
      "text/plain": [
       "98×98 Matrix{Int64}:\n",
       "  0  11    0    4   2   0   0   0   0  …  0  0  0   0   0  0   0  0  0  0  0\n",
       " 11   0   61    8   0   0   0   0   0     0  0  0   0   0  0   0  0  0  0  0\n",
       "  0  61    0  193  19   0   0   0   0     0  0  0   0   0  0   0  0  0  0  0\n",
       "  4   8  193    0   5   0   0   0   8     0  0  0   0   0  0   0  0  0  0  0\n",
       "  2   0   19    5   0   0   0   7   0     0  0  0   0   0  0   0  1  0  0  0\n",
       "  0   0    0    0   0   0  18  36  49  …  0  0  0   0   0  0   0  0  0  0  0\n",
       "  0   0    0    0   0  18   0   0   0     0  0  0   0   0  0   0  2  0  0  0\n",
       "  0   0    0    0   7  36   0   0  81     0  0  0   0   0  0   0  0  0  0  0\n",
       "  0   0    0    8   0  49   0  81   0     0  0  0   0   0  0   0  0  0  0  0\n",
       "  0   0    0    0   0   0   0   0   0     0  0  0   0   0  0   0  0  0  0  0\n",
       "  ⋮                     ⋮              ⋱            ⋮                ⋮     \n",
       "  0   0    0    0   0   0   0   0   0     0  0  0   0   0  0   0  0  0  0  0\n",
       "  0   0    0    0   0   0   0   0   0  …  0  0  0   0  86  0   0  0  0  0  0\n",
       "  0   0    0    0   0   0   0   0   0     0  0  0  86   0  0  10  0  0  0  0\n",
       "  0   0    0    0   0   0   0   0   0     0  0  0   0   0  0   0  0  0  0  0\n",
       "  0   0    0    0   0   0   0   0   0     0  0  0   0  10  0   0  0  0  0  0\n",
       "  0   0    0    0   1   0   2   0   0     0  0  0   0   0  0   0  0  0  0  0\n",
       "  0   0    0    0   0   0   0   0   0  …  0  0  0   0   0  0   0  0  0  0  0\n",
       "  0   0    0    0   0   0   0   0   0     0  0  0   0   0  0   0  0  0  0  0\n",
       "  0   0    0    0   0   0   0   0   0     0  0  0   0   0  0   0  0  0  0  0"
      ]
     },
     "metadata": {},
     "output_type": "display_data"
    }
   ],
   "source": [
    "As = [get_adjacency_matrix(file[i]) for i in 1:6]\n",
    "A1 = get_adjacency_matrix(file[1])\n",
    "A2 = As[2]\n",
    "A1"
   ]
  },
  {
   "cell_type": "code",
   "execution_count": 7,
   "metadata": {},
   "outputs": [
    {
     "data": {
      "text/plain": [
       "89×89 Matrix{Int64}:\n",
       "    0  2878    0    0    0    0    0  …  0  0  0  0  0  0  0  0   0  0    0\n",
       " 2878     0   70    0    0    0    0     0  0  0  0  0  0  0  0   0  0    0\n",
       "    0    70    0  127    0    0    0     0  0  0  0  0  0  0  0   0  0    0\n",
       "    0     0  127    0    0    0    0     0  0  0  0  0  0  0  0   0  0    0\n",
       "    0     0    0    0    0  315    0     0  0  0  0  0  0  0  0   0  0  124\n",
       "    0     0    0    0  315    0    0  …  0  0  0  0  0  0  0  0   0  0    0\n",
       "    0     0    0    0    0    0    0     0  0  0  0  0  0  0  0   0  0    0\n",
       "    0     0    0    0    0    0  278     0  0  0  0  0  0  0  0   0  0    0\n",
       "    0     0    0    0   20    0    0     0  0  0  0  0  0  0  0  18  0    0\n",
       "    0     0    0    0    0    0    0     0  0  0  0  0  0  0  0   0  0    0\n",
       "    ⋮                         ⋮       ⋱        ⋮              ⋮         \n",
       "    0     0    0    0    0    0    0  …  0  0  0  0  0  0  0  0   0  0    0\n",
       "    0     0    0    0    0    0    0     0  0  0  0  0  0  0  0   0  0    0\n",
       "    0     0    0    0    0    0    0     0  0  0  0  0  0  0  0   0  0    0\n",
       "    0     0    0    0    0    0    0     0  0  0  0  0  0  0  0   0  0    0\n",
       "    0     0    0    0    0    0    0     0  0  0  0  0  0  0  0   0  0    0\n",
       "    0     0    0    0    0    0    0  …  0  0  0  0  0  0  0  0   0  0    0\n",
       "    0     0    0    0    0    0    0     0  0  0  0  0  0  0  0   0  0    0\n",
       "    0     0    0    0    0    0    0     0  0  0  0  0  0  0  0   0  0    0\n",
       "    0     0    0    0  124    0    0     0  0  0  0  0  0  0  0   0  0    0"
      ]
     },
     "metadata": {},
     "output_type": "display_data"
    }
   ],
   "source": [
    "get_adjacency_matrix(file[1], file[2].nodes())"
   ]
  },
  {
   "cell_type": "code",
   "execution_count": 8,
   "metadata": {},
   "outputs": [
    {
     "name": "stdout",
     "output_type": "stream",
     "text": [
      "PyObject NodeView((75178, 30952, 13116, 62555, 26999, 10841, 17353, 86352, 53275, 77291, 18394, 36006, 57637, 71627, 75261, 19844, 25323, 40997, 52635, 45945, 72746, 15071, 46771, 29914, 52067, 37617, 30076, 71700, 19066, 51675, 63188, 79877, 14106, 76313, 82282, 85596, 10060, 75468, 46021, 23642, 50869, 68633, 18420, 68494, 39783, 21350, 66404, 85970, 59367, 13799, 62560, 16495, 34853, 67947, 50709, 70889, 86727, 45539, 14188, 89827, 11692, 82060, 66754, 66245, 46654, 32174, 58909, 25947, 34250, 18344, 38823, 22745, 26127, 38893, 31372, 68533, 31583, 49597, 73303, 46160, 25544, 51597, 49294, 51722, 66052, 53884, 51552, 80058, 10281, 45292, 32899, 26425, 78911, 23144, 44520, 50181, 88175, 63063))"
     ]
    },
    {
     "data": {
      "text/plain": [
       "3-element Vector{Int64}:\n",
       " 26999\n",
       " 30952\n",
       " 62555"
      ]
     },
     "metadata": {},
     "output_type": "display_data"
    }
   ],
   "source": [
    "print(file[1].nodes())\n",
    "[n for n in file[1].neighbors(75178)]"
   ]
  },
  {
   "cell_type": "code",
   "execution_count": 9,
   "metadata": {},
   "outputs": [
    {
     "data": {
      "text/plain": [
       "create_series_adj_mat (generic function with 2 methods)"
      ]
     },
     "metadata": {},
     "output_type": "display_data"
    }
   ],
   "source": [
    "function get_all_nodes(file)\n",
    "    nodes = [n for n in file[1].nodes]\n",
    "    for i in 2:6\n",
    "        nodes = [nodes..., [n for n in file[i].nodes()]...]\n",
    "    end\n",
    "    return unique(nodes)\n",
    "end\n",
    "\n",
    "function create_series_adj_mat(file, nodes = get_all_nodes(file))\n",
    "    As = [get_adjacency_matrix(file[i], nodes) for i in 1:6]\n",
    "    return As\n",
    "end"
   ]
  },
  {
   "cell_type": "code",
   "execution_count": 10,
   "metadata": {},
   "outputs": [
    {
     "data": {
      "text/plain": [
       "(108.0, 152.0, 116.0)"
      ]
     },
     "metadata": {},
     "output_type": "display_data"
    },
    {
     "data": {
      "text/plain": [
       "6×6 Matrix{Float64}:\n",
       " 1.0       0.425532  0.260355  0.318182  0.258706  0.255682\n",
       " 0.425532  1.0       0.427419  0.530612  0.466216  0.350365\n",
       " 0.260355  0.427419  1.0       0.478261  0.421053  0.397849\n",
       " 0.318182  0.530612  0.478261  1.0       0.578947  0.401575\n",
       " 0.258706  0.466216  0.421053  0.578947  1.0       0.491228\n",
       " 0.255682  0.350365  0.397849  0.401575  0.491228  1.0"
      ]
     },
     "metadata": {},
     "output_type": "display_data"
    },
    {
     "data": {
      "text/plain": [
       "6×6 Matrix{Float64}:\n",
       " 1.0  0.526316  0.289474  0.414474  0.342105  0.296053\n",
       " 0.0  1.0       0.456897  0.672414  0.594828  0.413793\n",
       " 0.0  0.0       1.0       0.901639  0.786885  0.606557\n",
       " 0.0  0.0       0.0       1.0       0.706422  0.46789\n",
       " 0.0  0.0       0.0       0.0       1.0       0.554455\n",
       " 0.0  0.0       0.0       0.0       0.0       1.0"
      ]
     },
     "metadata": {},
     "output_type": "display_data"
    },
    {
     "data": {
      "text/plain": [
       "6×6 Matrix{Float64}:\n",
       " 0.0  72.0  108.0  89.0  100.0  107.0\n",
       " 0.0   0.0   63.0  38.0   47.0   68.0\n",
       " 0.0   0.0    0.0   6.0   13.0   24.0\n",
       " 0.0   0.0    0.0   0.0   32.0   58.0\n",
       " 0.0   0.0    0.0   0.0    0.0   45.0\n",
       " 0.0   0.0    0.0   0.0    0.0    0.0"
      ]
     },
     "metadata": {},
     "output_type": "display_data"
    }
   ],
   "source": [
    "nodes = get_all_nodes(file)\n",
    "Ws = create_series_adj_mat(file, nodes)\n",
    "As = [sign.(W) for W in Ws]\n",
    "\n",
    "i=1; inc = 1;\n",
    "display((sum(abs.(As[i + inc] .- As[i]))/2, sum(As[i])/2, sum(As[i+inc])/2))\n",
    "\n",
    "overlap = zeros(6,6)\n",
    "for i in 1:6, j in 1:6\n",
    "    overlap[i,j] = sum(As[i].*As[j]) / sum(sign.(As[i] .+ As[j]))\n",
    "end\n",
    "display(overlap)\n",
    "\n",
    "#how many links vanish?\n",
    "not_vanish = zeros(6,6)\n",
    "vanish_abs = zeros(6,6)\n",
    "for i in 1:6\n",
    "    for j in i:6\n",
    "        not_vanish[i,j] = sum(As[i].*As[j]) / sum(As[i])\n",
    "        vanish_abs[i,j] = (sum(As[i]) - sum(As[i].*As[j]))/2\n",
    "    end\n",
    "end\n",
    "display(not_vanish)\n",
    "display(vanish_abs)\n"
   ]
  },
  {
   "cell_type": "code",
   "execution_count": 11,
   "metadata": {},
   "outputs": [
    {
     "data": {
      "text/plain": [
       "6×6 Matrix{Float64}:\n",
       " 1.0  0.689655  0.721311  0.577982  0.514851  0.652174\n",
       " 0.0  1.0       0.868852  0.715596  0.683168  0.695652\n",
       " 0.0  0.0       1.0       0.504587  0.475248  0.536232\n",
       " 0.0  0.0       0.0       1.0       0.762376  0.73913\n",
       " 0.0  0.0       0.0       0.0       1.0       0.811594\n",
       " 0.0  0.0       0.0       0.0       0.0       1.0"
      ]
     },
     "metadata": {},
     "output_type": "display_data"
    },
    {
     "data": {
      "text/plain": [
       "6×6 Matrix{Float64}:\n",
       " 0.0  36.0  17.0  46.0  49.0  24.0\n",
       " 0.0   0.0   8.0  31.0  32.0  21.0\n",
       " 0.0   0.0   0.0  54.0  53.0  32.0\n",
       " 0.0   0.0   0.0   0.0  24.0  18.0\n",
       " 0.0   0.0   0.0   0.0   0.0  13.0\n",
       " 0.0   0.0   0.0   0.0   0.0   0.0"
      ]
     },
     "metadata": {},
     "output_type": "display_data"
    }
   ],
   "source": [
    "#how many links appear?\n",
    "appear = zeros(6,6)\n",
    "appear_abs = zeros(6,6)\n",
    "for i in 1:6\n",
    "    for j in i:6\n",
    "        appear[i,j] = sum(As[i].*As[j]) / sum(As[j])\n",
    "        appear_abs[i,j] = (sum(As[j]) - sum(As[i].*As[j])) / 2\n",
    "    end\n",
    "end\n",
    "display(appear)\n",
    "display(appear_abs)"
   ]
  },
  {
   "cell_type": "code",
   "execution_count": 12,
   "metadata": {},
   "outputs": [
    {
     "data": {
      "text/plain": [
       "6×6 Matrix{Float64}:\n",
       " 1.0  0.377778  0.111111  0.222222  0.222222  0.111111\n",
       " 0.0  1.0       0.307692  0.538462  0.461538  0.230769\n",
       " 0.0  0.0       1.0       1.0       0.888889  0.777778\n",
       " 0.0  0.0       0.0       1.0       0.692308  0.346154\n",
       " 0.0  0.0       0.0       0.0       1.0       0.5\n",
       " 0.0  0.0       0.0       0.0       0.0       1.0"
      ]
     },
     "metadata": {},
     "output_type": "display_data"
    },
    {
     "data": {
      "text/plain": [
       "6×6 Matrix{Float64}:\n",
       " 0.0  28.0  40.0  35.0  35.0  40.0\n",
       " 0.0   0.0  18.0  12.0  14.0  20.0\n",
       " 0.0   0.0   0.0   0.0   1.0   2.0\n",
       " 0.0   0.0   0.0   0.0   8.0  17.0\n",
       " 0.0   0.0   0.0   0.0   0.0  10.0\n",
       " 0.0   0.0   0.0   0.0   0.0   0.0"
      ]
     },
     "metadata": {},
     "output_type": "display_data"
    }
   ],
   "source": [
    "#find prob of triad vanishing\n",
    "all_triads = [get_triads2(As[i]) for i in 1:6]\n",
    "\n",
    "# intersect(all_triads[1], all_triads[2])\n",
    "\n",
    "#how many triads vanish?\n",
    "triad_not_vanish = zeros(6,6)\n",
    "triad_vanish_abs = zeros(6,6)\n",
    "for i in 1:6\n",
    "    for j in i:6\n",
    "        triad_not_vanish[i,j] = length(intersect(all_triads[i], all_triads[j])) / length(all_triads[i])\n",
    "        triad_vanish_abs[i,j] = length(all_triads[i]) - length(intersect(all_triads[i], all_triads[j]))\n",
    "    end\n",
    "end\n",
    "display(triad_not_vanish)\n",
    "display(triad_vanish_abs)"
   ]
  },
  {
   "cell_type": "code",
   "execution_count": 16,
   "metadata": {},
   "outputs": [
    {
     "data": {
      "text/plain": [
       "1×6 adjoint(::Vector{Int64}) with eltype Int64:\n",
       " 45  26  9  26  20  12"
      ]
     },
     "metadata": {},
     "output_type": "display_data"
    }
   ],
   "source": [
    "map(length, all_triads)'"
   ]
  },
  {
   "cell_type": "code",
   "execution_count": 17,
   "metadata": {},
   "outputs": [
    {
     "data": {
      "text/plain": [
       "get_wedges_single_edges (generic function with 1 method)"
      ]
     },
     "metadata": {},
     "output_type": "display_data"
    }
   ],
   "source": [
    "function get_wedges_single_edges(A)\n",
    "    N = size(A)[1]\n",
    "\n",
    "    wedges = []\n",
    "    single_edges = []\n",
    "\n",
    "    for i in 1:N\n",
    "        for j in (i+1):N\n",
    "            for k in (j+1):N\n",
    "                if A[i,k] + A[j,k] + A[i,j] == 2\n",
    "                    push!(wedges, (i,j,k))\n",
    "                elseif A[i,k] + A[j,k] + A[i,j] == 1\n",
    "                    push!(single_edges, (i,j,k))\n",
    "                end\n",
    "            end\n",
    "        end\n",
    "    end\n",
    "    \n",
    "    return wedges, single_edges\n",
    "end"
   ]
  },
  {
   "cell_type": "code",
   "execution_count": 18,
   "metadata": {},
   "outputs": [],
   "source": [
    "all_wedges = []\n",
    "all_singles = []\n",
    "for i in 1:6\n",
    "    wedges, single_edges = get_wedges_single_edges(As[i])\n",
    "    push!(all_wedges, wedges)\n",
    "    push!(all_singles, single_edges)\n",
    "end"
   ]
  },
  {
   "cell_type": "code",
   "execution_count": 19,
   "metadata": {},
   "outputs": [
    {
     "data": {
      "text/plain": [
       "understand_triad_apperance (generic function with 1 method)"
      ]
     },
     "metadata": {},
     "output_type": "display_data"
    }
   ],
   "source": [
    "function understand_triad_apperance(As)\n",
    "    num_mats = length(As)\n",
    "\n",
    "    all_triads = [get_triads2(As[i]) for i in 1:num_mats]\n",
    "    all_wedges = []\n",
    "    all_singles = []\n",
    "    for i in 1:num_mats\n",
    "        wedges, single_edges = get_wedges_single_edges(As[i])\n",
    "        push!(all_wedges, wedges)\n",
    "        push!(all_singles, single_edges)\n",
    "    end\n",
    "\n",
    "    \n",
    "\n",
    "    triad_appear = zeros(num_mats,num_mats)\n",
    "    triad_appear_wedges = zeros(num_mats,num_mats)\n",
    "    triad_appear_single = zeros(num_mats,num_mats)\n",
    "    triad_appear_nowhere = zeros(num_mats,num_mats)\n",
    "\n",
    "    for i in 1:num_mats\n",
    "        for j in i:num_mats\n",
    "            triad_appear[i,j] = length(all_triads[j]) - length(intersect(all_triads[i], all_triads[j]))\n",
    "            new_triads = setdiff(all_triads[j], all_triads[i])\n",
    "            @assert length(new_triads) == triad_appear[i,j]\n",
    "            triad_appear_wedges[i,j] = length(intersect(new_triads, all_wedges[i]))\n",
    "\n",
    "            triad_appear_single[i,j] = length(intersect(new_triads, all_singles[i]))\n",
    "            # triad_vanish_abs[i,j] = length(all_triads[i]) - length(intersect(all_triads[i], all_triads[j]))\n",
    "            triad_appear_nowhere[i,j] = triad_appear[i,j] - triad_appear_wedges[i, j] - triad_appear_single[i, j]\n",
    "        end\n",
    "    end\n",
    "    return triad_appear, triad_appear_wedges, triad_appear_single, triad_appear_nowhere\n",
    "end"
   ]
  },
  {
   "cell_type": "code",
   "execution_count": 20,
   "metadata": {},
   "outputs": [
    {
     "data": {
      "text/plain": [
       "6×6 Matrix{Float64}:\n",
       " 0.0  9.0  4.0  16.0  10.0  7.0\n",
       " 0.0  0.0  1.0  12.0   8.0  6.0\n",
       " 0.0  0.0  0.0  17.0  12.0  5.0\n",
       " 0.0  0.0  0.0   0.0   2.0  3.0\n",
       " 0.0  0.0  0.0   0.0   0.0  2.0\n",
       " 0.0  0.0  0.0   0.0   0.0  0.0"
      ]
     },
     "metadata": {},
     "output_type": "display_data"
    },
    {
     "data": {
      "text/plain": [
       "6×6 Matrix{Float64}:\n",
       " 0.0  8.0  4.0   9.0  5.0  4.0\n",
       " 0.0  0.0  1.0   9.0  5.0  3.0\n",
       " 0.0  0.0  0.0  12.0  9.0  2.0\n",
       " 0.0  0.0  0.0   0.0  2.0  2.0\n",
       " 0.0  0.0  0.0   0.0  0.0  2.0\n",
       " 0.0  0.0  0.0   0.0  0.0  0.0"
      ]
     },
     "metadata": {},
     "output_type": "display_data"
    },
    {
     "data": {
      "text/plain": [
       "6×6 Matrix{Float64}:\n",
       " 0.0  1.0  0.0  7.0  4.0  2.0\n",
       " 0.0  0.0  0.0  3.0  3.0  2.0\n",
       " 0.0  0.0  0.0  4.0  3.0  3.0\n",
       " 0.0  0.0  0.0  0.0  0.0  1.0\n",
       " 0.0  0.0  0.0  0.0  0.0  0.0\n",
       " 0.0  0.0  0.0  0.0  0.0  0.0"
      ]
     },
     "metadata": {},
     "output_type": "display_data"
    },
    {
     "data": {
      "text/plain": [
       "6×6 Matrix{Float64}:\n",
       " 0.0  0.0  0.0  0.0  1.0  1.0\n",
       " 0.0  0.0  0.0  0.0  0.0  1.0\n",
       " 0.0  0.0  0.0  1.0  0.0  0.0\n",
       " 0.0  0.0  0.0  0.0  0.0  0.0\n",
       " 0.0  0.0  0.0  0.0  0.0  0.0\n",
       " 0.0  0.0  0.0  0.0  0.0  0.0"
      ]
     },
     "metadata": {},
     "output_type": "display_data"
    }
   ],
   "source": [
    "# find prob of tried appearing (from wedges, from single link, from nowhere)\n",
    "\n",
    "triad_appear = zeros(6,6)\n",
    "triad_appear_wedges = zeros(6,6)\n",
    "triad_appear_single = zeros(6,6)\n",
    "triad_appear_nowhere = zeros(6,6)\n",
    "for i in 1:6\n",
    "    for j in i:6\n",
    "        triad_appear[i,j] = length(all_triads[j]) - length(intersect(all_triads[i], all_triads[j]))\n",
    "        new_triads = setdiff(all_triads[j], all_triads[i])\n",
    "        @assert length(new_triads) == triad_appear[i,j]\n",
    "        triad_appear_wedges[i,j] = length(intersect(new_triads, all_wedges[i]))\n",
    "\n",
    "        triad_appear_single[i,j] = length(intersect(new_triads, all_singles[i]))\n",
    "        # triad_vanish_abs[i,j] = length(all_triads[i]) - length(intersect(all_triads[i], all_triads[j]))\n",
    "        triad_appear_nowhere[i,j] = triad_appear[i,j] - triad_appear_wedges[i, j] - triad_appear_single[i, j]\n",
    "    end\n",
    "end\n",
    "display(triad_appear)\n",
    "display(triad_appear_wedges)\n",
    "display(triad_appear_single)\n",
    "display(triad_appear_nowhere)"
   ]
  },
  {
   "cell_type": "code",
   "execution_count": 22,
   "metadata": {},
   "outputs": [],
   "source": [
    "# test\n",
    "triad_appear2, triad_appear_wedges2, triad_appear_single2, triad_appear_nowhere2 = understand_triad_apperance(As)\n",
    "\n",
    "@assert triad_appear_wedges2 == triad_appear_wedges\n",
    "@assert triad_appear_single2 == triad_appear_single\n",
    "@assert triad_appear_nowhere2 == triad_appear_nowhere\n",
    "@assert triad_appear == triad_appear2"
   ]
  },
  {
   "cell_type": "code",
   "execution_count": 176,
   "metadata": {},
   "outputs": [
    {
     "data": {
      "text/plain": [
       "36.0"
      ]
     },
     "metadata": {},
     "output_type": "display_data"
    },
    {
     "data": {
      "text/plain": [
       "2×2 Matrix{Float64}:\n",
       " 0.0  2.0\n",
       " 0.0  0.0"
      ]
     },
     "metadata": {},
     "output_type": "display_data"
    },
    {
     "data": {
      "text/plain": [
       "2×2 Matrix{Float64}:\n",
       " 0.0  2.0\n",
       " 0.0  0.0"
      ]
     },
     "metadata": {},
     "output_type": "display_data"
    },
    {
     "data": {
      "text/plain": [
       "2×2 Matrix{Float64}:\n",
       " 0.0  0.0\n",
       " 0.0  0.0"
      ]
     },
     "metadata": {},
     "output_type": "display_data"
    },
    {
     "data": {
      "text/plain": [
       "2×2 Matrix{Float64}:\n",
       " 0.0  0.0\n",
       " 0.0  0.0"
      ]
     },
     "metadata": {},
     "output_type": "display_data"
    }
   ],
   "source": [
    "# Let's make an expetiment. \n",
    "# Lets remove connections that vanish from term I and \n",
    "# randomly new connections and \n",
    "# see how many new triads were formed, and from which structures. \n",
    "\n",
    "#removing edges from A1\n",
    "start_term = 1\n",
    "inc = 1\n",
    "A1r = As[start_term] .* As[start_term + inc] \n",
    "\n",
    "# We need to add this amount of new links:\n",
    "display(appear_abs[start_term, start_term + inc])\n",
    "N = length(nodes)\n",
    "\n",
    "added = 0\n",
    "while added < appear_abs[start_term, start_term + inc]\n",
    "    i, j = rand(1:N, 2)\n",
    "    if i==j continue\n",
    "    elseif A1r[i,j] > 0\n",
    "        continue\n",
    "    else\n",
    "        A1r[i,j] = A1r[j,i] = 1\n",
    "        added += 1\n",
    "    end\n",
    "end\n",
    "# display(\"finishes\")\n",
    "\n",
    "triad_appear2, triad_appear_wedges2, triad_appear_single2, triad_appear_nowhere2 = understand_triad_apperance([As[start_term], A1r])\n",
    "display(triad_appear2)\n",
    "display(triad_appear_wedges2)\n",
    "display(triad_appear_single2)\n",
    "display(triad_appear_nowhere2)\n",
    "\n",
    "# Conclusion:\n",
    "# As expected, more triads are created than random would expect"
   ]
  },
  {
   "cell_type": "code",
   "execution_count": 24,
   "metadata": {},
   "outputs": [
    {
     "data": {
      "text/plain": [
       "60"
      ]
     },
     "metadata": {},
     "output_type": "display_data"
    },
    {
     "data": {
      "text/plain": [
       "6-element Vector{Matrix{Int64}}:\n",
       " [0 1 … 0 0; 1 0 … 0 0; … ; 0 0 … 0 0; 0 0 … 0 0]\n",
       " [0 0 … 0 0; 0 0 … 0 0; … ; 0 0 … 0 0; 0 0 … 0 0]\n",
       " [0 0 … 0 0; 0 0 … 0 0; … ; 0 0 … 0 0; 0 0 … 0 0]\n",
       " [0 0 … 0 0; 0 0 … 0 1; … ; 0 0 … 0 0; 0 1 … 0 0]\n",
       " [0 0 … 0 0; 0 0 … 0 0; … ; 0 0 … 0 0; 0 0 … 0 0]\n",
       " [0 0 … 0 0; 0 0 … 0 0; … ; 0 0 … 0 0; 0 0 … 0 0]"
      ]
     },
     "metadata": {},
     "output_type": "display_data"
    }
   ],
   "source": [
    "# Let's check how many people are in triads\n",
    "\n",
    "triad_nodes = sort(unique([node for triads in all_triads for triad in triads for node in triad]))\n",
    "display(length(triad_nodes))\n",
    "\n",
    "# There are only 60 nodes, so lets repeat above experiment with generating links only among these agents. \n",
    "# But first I need to count how many edges were added among those agents\n",
    "\n",
    "As2 = [As[i][triad_nodes, triad_nodes] for i in 1:6]"
   ]
  },
  {
   "cell_type": "code",
   "execution_count": 25,
   "metadata": {},
   "outputs": [
    {
     "data": {
      "text/plain": [
       "6×6 Matrix{Float64}:\n",
       " 1.0  0.763158  0.770833  0.626667  0.602941  0.705882\n",
       " 0.0  1.0       0.875     0.733333  0.705882  0.705882\n",
       " 0.0  0.0       1.0       0.586667  0.573529  0.627451\n",
       " 0.0  0.0       0.0       1.0       0.823529  0.764706\n",
       " 0.0  0.0       0.0       0.0       1.0       0.843137\n",
       " 0.0  0.0       0.0       0.0       0.0       1.0"
      ]
     },
     "metadata": {},
     "output_type": "display_data"
    },
    {
     "data": {
      "text/plain": [
       "6×6 Matrix{Float64}:\n",
       " 0.0  18.0  11.0  28.0  27.0  15.0\n",
       " 0.0   0.0   6.0  20.0  20.0  15.0\n",
       " 0.0   0.0   0.0  31.0  29.0  19.0\n",
       " 0.0   0.0   0.0   0.0  12.0  12.0\n",
       " 0.0   0.0   0.0   0.0   0.0   8.0\n",
       " 0.0   0.0   0.0   0.0   0.0   0.0"
      ]
     },
     "metadata": {},
     "output_type": "display_data"
    }
   ],
   "source": [
    "#how many links appear?\n",
    "appear_triads = zeros(6,6)\n",
    "appear_abs_triads = zeros(6,6)\n",
    "for i in 1:6\n",
    "    for j in i:6\n",
    "        appear_triads[i,j] = sum(As2[i].*As2[j]) / sum(As2[j])\n",
    "        appear_abs_triads[i,j] = (sum(As2[j]) - sum(As2[i].*As2[j])) / 2\n",
    "    end\n",
    "end\n",
    "display(appear_triads)\n",
    "display(appear_abs_triads)"
   ]
  },
  {
   "cell_type": "code",
   "execution_count": 184,
   "metadata": {},
   "outputs": [
    {
     "data": {
      "text/plain": [
       "18.0"
      ]
     },
     "metadata": {},
     "output_type": "display_data"
    },
    {
     "data": {
      "text/plain": [
       "2×2 Matrix{Float64}:\n",
       " 0.0  3.0\n",
       " 0.0  0.0"
      ]
     },
     "metadata": {},
     "output_type": "display_data"
    },
    {
     "data": {
      "text/plain": [
       "2×2 Matrix{Float64}:\n",
       " 0.0  2.0\n",
       " 0.0  0.0"
      ]
     },
     "metadata": {},
     "output_type": "display_data"
    },
    {
     "data": {
      "text/plain": [
       "2×2 Matrix{Float64}:\n",
       " 0.0  0.0\n",
       " 0.0  0.0"
      ]
     },
     "metadata": {},
     "output_type": "display_data"
    },
    {
     "data": {
      "text/plain": [
       "2×2 Matrix{Float64}:\n",
       " 0.0  1.0\n",
       " 0.0  0.0"
      ]
     },
     "metadata": {},
     "output_type": "display_data"
    }
   ],
   "source": [
    "# Experiment 2. \n",
    "\n",
    "#removing edges from A1\n",
    "start_term = 1\n",
    "inc = 1\n",
    "A1r = As2[start_term] .* As2[start_term + inc] \n",
    "\n",
    "# We need to add this amount of new links:\n",
    "display(appear_abs_triads[start_term, start_term + inc])\n",
    "N = length(triad_nodes)\n",
    "\n",
    "added = 0\n",
    "while added < appear_abs_triads[start_term, start_term + inc]\n",
    "    i, j = rand(1:N, 2)\n",
    "    if i==j continue\n",
    "    elseif A1r[i,j] > 0\n",
    "        continue\n",
    "    else\n",
    "        A1r[i,j] = A1r[j,i] = 1\n",
    "        added += 1\n",
    "    end\n",
    "end\n",
    "# display(\"finishes\")\n",
    "\n",
    "triad_appear3, triad_appear_wedges3, triad_appear_single3, triad_appear_nowhere3 = understand_triad_apperance([As2[start_term], A1r])\n",
    "display(triad_appear3)\n",
    "display(triad_appear_wedges3)\n",
    "display(triad_appear_single3)\n",
    "display(triad_appear_nowhere3)\n",
    "\n",
    "# Conclusion:\n",
    "# As expected, more triads are created than random would expect"
   ]
  },
  {
   "cell_type": "code",
   "execution_count": 228,
   "metadata": {},
   "outputs": [
    {
     "data": {
      "text/plain": [
       "6.0"
      ]
     },
     "metadata": {},
     "output_type": "display_data"
    },
    {
     "data": {
      "text/plain": [
       "2×2 Matrix{Float64}:\n",
       " 0.0  5.0\n",
       " 0.0  0.0"
      ]
     },
     "metadata": {},
     "output_type": "display_data"
    },
    {
     "data": {
      "text/plain": [
       "2×2 Matrix{Float64}:\n",
       " 0.0  3.0\n",
       " 0.0  0.0"
      ]
     },
     "metadata": {},
     "output_type": "display_data"
    },
    {
     "data": {
      "text/plain": [
       "2×2 Matrix{Float64}:\n",
       " 0.0  2.0\n",
       " 0.0  0.0"
      ]
     },
     "metadata": {},
     "output_type": "display_data"
    },
    {
     "data": {
      "text/plain": [
       "2×2 Matrix{Float64}:\n",
       " 0.0  0.0\n",
       " 0.0  0.0"
      ]
     },
     "metadata": {},
     "output_type": "display_data"
    }
   ],
   "source": [
    "# OK, lets try to generate triads more frequently. \n",
    "# There will be a new parameter for closing triads.\n",
    "\n",
    "close_triad = 0.7\n",
    "\n",
    "# function get_nodes_in_triads(A)\n",
    "#     triads = get_triads2(A)\n",
    "\n",
    "#     return sort(unique([node for triad in triads for node in triad.nodes]))\n",
    "# end\n",
    "\n",
    "# Experiment 3. \n",
    "\n",
    "#removing edges from A1\n",
    "start_term = 2\n",
    "inc = 1\n",
    "A1r = As2[start_term] .* As2[start_term + inc] \n",
    "\n",
    "# We need to add this amount of new links:\n",
    "display(appear_abs_triads[start_term, start_term + inc])\n",
    "N = length(triad_nodes)\n",
    "\n",
    "added = 0\n",
    "while added < appear_abs_triads[start_term, start_term + inc]\n",
    "    wedges_t, single_t = get_wedges_single_edges(A1r)\n",
    "    if rand() < close_triad\n",
    "        wedge = rand(wedges_t)\n",
    "        if A1r[wedge[1], wedge[2]] == 0\n",
    "            i, j = wedge[1], wedge[2]\n",
    "        elseif A1r[wedge[1], wedge[3]] == 0\n",
    "            i, j = wedge[1], wedge[3]\n",
    "        else i, j = wedge[2], wedge[3]\n",
    "        end\n",
    "    else\n",
    "        i, j = rand(1:N, 2)\n",
    "        if i==j continue\n",
    "        elseif A1r[i,j] > 0\n",
    "            continue\n",
    "        end\n",
    "    end\n",
    "    A1r[i,j] = A1r[j,i] = 1\n",
    "    added += 1\n",
    "end\n",
    "# display(\"finishes\")\n",
    "\n",
    "triad_appear3, triad_appear_wedges3, triad_appear_single3, triad_appear_nowhere3 = understand_triad_apperance([As2[start_term], A1r])\n",
    "display(triad_appear3)\n",
    "display(triad_appear_wedges3)\n",
    "display(triad_appear_single3)\n",
    "display(triad_appear_nowhere3)\n",
    "\n",
    "# Conclusion:\n",
    "# As expected, more triads are created than random would expect"
   ]
  },
  {
   "cell_type": "code",
   "execution_count": 26,
   "metadata": {},
   "outputs": [
    {
     "data": {
      "text/plain": [
       "calc_difs_only_numT (generic function with 1 method)"
      ]
     },
     "metadata": {},
     "output_type": "display_data"
    }
   ],
   "source": [
    "# defining functions to calibrate this probability\n",
    "function add_edges!(A1r, edges_to_add, close_triad)\n",
    "    N = size(A1r)[1]\n",
    "\n",
    "    added = 0\n",
    "    while added < edges_to_add\n",
    "        wedges_t, single_t = get_wedges_single_edges(A1r)\n",
    "        if rand() < close_triad\n",
    "            wedge = rand(wedges_t)\n",
    "            if A1r[wedge[1], wedge[2]] == 0\n",
    "                i, j = wedge[1], wedge[2]\n",
    "            elseif A1r[wedge[1], wedge[3]] == 0\n",
    "                i, j = wedge[1], wedge[3]\n",
    "            else i, j = wedge[2], wedge[3]\n",
    "            end\n",
    "        else\n",
    "            i, j = rand(1:N, 2)\n",
    "            if i==j continue\n",
    "            elseif A1r[i,j] > 0\n",
    "                continue\n",
    "            end\n",
    "        end\n",
    "        A1r[i,j] = A1r[j,i] = 1\n",
    "        added += 1\n",
    "    end\n",
    "end\n",
    "\n",
    "function calc_difs(close_triad_prob; term_pairs = [(1, 2), (2, 3), (2, 4), (3, 4), (4, 5), (5, 6)], repetitions = 10)\n",
    "    dif = 0\n",
    "\n",
    "    for _ in 1:repetitions\n",
    "        for term_pair in term_pairs\n",
    "            start_term = term_pair[1]\n",
    "            inc = term_pair[2] - start_term\n",
    "\n",
    "            A1r = As2[start_term] .* As2[start_term + inc] \n",
    "            add_edges!(A1r, appear_abs_triads[start_term, start_term + inc], close_triad_prob)\n",
    "            triad_appear3, triad_appear_wedges3, triad_appear_single3, triad_appear_nowhere3 = understand_triad_apperance([As2[start_term], A1r])\n",
    "\n",
    "            dif += abs(triad_appear[term_pair...] - triad_appear3[1,2])\n",
    "            dif += abs(triad_appear_wedges[term_pair...] - triad_appear_wedges3[1,2])\n",
    "            dif += abs(triad_appear_single[term_pair...] - triad_appear_single3[1,2])\n",
    "            dif += abs(triad_appear_nowhere[term_pair...] - triad_appear_nowhere3[1,2])\n",
    "        end\n",
    "    end\n",
    "    return dif\n",
    "end\n",
    "\n",
    "function calc_difs_only_numT(close_triad_prob; term_pairs = [(1, 2), (2, 3), (2, 4), (3, 4), (4, 5), (5, 6)], repetitions = 10)\n",
    "    dif = 0\n",
    "\n",
    "    for _ in 1:repetitions\n",
    "        for term_pair in term_pairs\n",
    "            start_term = term_pair[1]\n",
    "            inc = term_pair[2] - start_term\n",
    "\n",
    "            A1r = As2[start_term] .* As2[start_term + inc] \n",
    "            add_edges!(A1r, appear_abs_triads[start_term, start_term + inc], close_triad_prob)\n",
    "            triad_appear3, triad_appear_wedges3, triad_appear_single3, triad_appear_nowhere3 = understand_triad_apperance([As2[start_term], A1r])\n",
    "\n",
    "            dif += abs(triad_appear[term_pair...] - triad_appear3[1,2])\n",
    "        end\n",
    "    end\n",
    "    return dif\n",
    "end"
   ]
  },
  {
   "cell_type": "code",
   "execution_count": 257,
   "metadata": {},
   "outputs": [
    {
     "data": {
      "text/plain": [
       "4268.0"
      ]
     },
     "metadata": {},
     "output_type": "display_data"
    }
   ],
   "source": [
    "# calibration!\n",
    "# We choose pairs of terms that will be compared. \n",
    "term_pairs = [(1, 2), (2, 3), (2, 4), (3, 4), (4, 5), (5, 6)]\n",
    "repetitions = 100\n",
    "\n",
    "close_triad_prob = 0.3\n",
    "\n",
    "dif = 0\n",
    "\n",
    "for _ in 1:repetitions\n",
    "    for term_pair in term_pairs\n",
    "        start_term = term_pair[1]\n",
    "        inc = term_pair[2] - start_term\n",
    "\n",
    "        A1r = As2[start_term] .* As2[start_term + inc] \n",
    "        add_edges!(A1r, appear_abs_triads[start_term, start_term + inc], close_triad_prob)\n",
    "        triad_appear3, triad_appear_wedges3, triad_appear_single3, triad_appear_nowhere3 = understand_triad_apperance([As2[start_term], A1r])\n",
    "\n",
    "        dif += abs(triad_appear[term_pair...] - triad_appear3[1,2])\n",
    "        dif += abs(triad_appear_wedges[term_pair...] - triad_appear_wedges3[1,2])\n",
    "        dif += abs(triad_appear_single[term_pair...] - triad_appear_single3[1,2])\n",
    "        dif += abs(triad_appear_nowhere[term_pair...] - triad_appear_nowhere3[1,2])\n",
    "    end\n",
    "end\n",
    "\n",
    "dif"
   ]
  },
  {
   "cell_type": "code",
   "execution_count": 274,
   "metadata": {},
   "outputs": [
    {
     "data": {
      "text/plain": [
       "Results of Optimization Algorithm\n",
       " * Algorithm: Brent's Method\n",
       " * Search Interval: [0.000000, 1.000000]\n",
       " * Minimizer: 3.527405e-01\n",
       " * Minimum: 3.874000e+03\n",
       " * Iterations: 34\n",
       " * Convergence: max(|x - x_upper|, |x - x_lower|) <= 2*(1.5e-08*|x|+2.2e-16): true\n",
       " * Objective Function Calls: 35"
      ]
     },
     "metadata": {},
     "output_type": "display_data"
    }
   ],
   "source": [
    "#finding optimal prob\n",
    "\n",
    "using Optim\n",
    "repetitions = 100\n",
    "loc(x) = calc_difs(x; repetitions = repetitions)\n",
    "optimize(loc, 0., 1.)\n",
    "#czyli minimum jest ok. 0.3527"
   ]
  },
  {
   "cell_type": "code",
   "execution_count": 277,
   "metadata": {},
   "outputs": [
    {
     "data": {
      "text/plain": [
       "Results of Optimization Algorithm\n",
       " * Algorithm: Brent's Method\n",
       " * Search Interval: [0.000000, 1.000000]\n",
       " * Minimizer: 3.551966e-01\n",
       " * Minimum: 1.481000e+03\n",
       " * Iterations: 34\n",
       " * Convergence: max(|x - x_upper|, |x - x_lower|) <= 2*(1.5e-08*|x|+2.2e-16): true\n",
       " * Objective Function Calls: 35"
      ]
     },
     "metadata": {},
     "output_type": "display_data"
    }
   ],
   "source": [
    "#finding optimal prob when looking only at number of triads, and not where they originate from\n",
    "\n",
    "using Optim\n",
    "repetitions = 100\n",
    "loc(x) = calc_difs_only_numT(x; repetitions = repetitions)\n",
    "optimize(loc, 0., 1.)\n",
    "#czyli minimum jest ok. 0.3552"
   ]
  },
  {
   "cell_type": "code",
   "execution_count": 263,
   "metadata": {},
   "outputs": [],
   "source": [
    "using Plots"
   ]
  },
  {
   "cell_type": "code",
   "execution_count": 270,
   "metadata": {},
   "outputs": [],
   "source": [
    "probs = [0.:0.05:1...]\n",
    "difs = zeros(size(probs))\n",
    "\n",
    "for (i, prob) in enumerate(probs)\n",
    "    difs[i] = calc_difs(prob; repetitions = 100)\n",
    "end"
   ]
  },
  {
   "cell_type": "code",
   "execution_count": 273,
   "metadata": {},
   "outputs": [
    {
     "data": {
      "text/plain": [
       "1-element Vector{Float64}:\n",
       " 0.35"
      ]
     },
     "metadata": {},
     "output_type": "display_data"
    },
    {
     "data": {
      "image/png": "[encoded data removed]",
      "image/svg+xml": "<?xml version=\"1.0\" encoding=\"utf-8\"?>\n<svg xmlns=\"http://www.w3.org/2000/svg\" xmlns:xlink=\"http://www.w3.org/1999/xlink\" width=\"600\" height=\"400\" viewBox=\"0 0 2400 1600\">\n<defs>\n  <clipPath id=\"clip520\">\n    <rect x=\"0\" y=\"0\" width=\"2400\" height=\"1600\"/>\n  </clipPath>\n</defs>\n<path clip-path=\"url(#clip520)\" d=\"\nM0 1600 L2400 1600 L2400 0 L0 0  Z\n  \" fill=\"#ffffff\" fill-rule=\"evenodd\" fill-opacity=\"1\"/>\n<defs>\n  <clipPath id=\"clip521\">\n    <rect x=\"480\" y=\"0\" width=\"1681\" height=\"1600\"/>\n  </clipPath>\n</defs>\n<path clip-path=\"url(#clip520)\" d=\"\nM304.947 1486.45 L2352.76 1486.45 L2352.76 47.2441 L304.947 47.2441  Z\n  \" fill=\"#ffffff\" fill-rule=\"evenodd\" fill-opacity=\"1\"/>\n<defs>\n  <clipPath id=\"clip522\">\n    <rect x=\"304\" y=\"47\" width=\"2049\" height=\"1440\"/>\n  </clipPath>\n</defs>\n<polyline clip-path=\"url(#clip522)\" style=\"stroke:#000000; stroke-linecap:butt; stroke-linejoin:round; stroke-width:2; stroke-opacity:0.1; fill:none\" points=\"\n  362.904,1486.45 362.904,47.2441 \n  \"/>\n<polyline clip-path=\"url(#clip522)\" style=\"stroke:#000000; stroke-linecap:butt; stroke-linejoin:round; stroke-width:2; stroke-opacity:0.1; fill:none\" points=\"\n  845.877,1486.45 845.877,47.2441 \n  \"/>\n<polyline clip-path=\"url(#clip522)\" style=\"stroke:#000000; stroke-linecap:butt; stroke-linejoin:round; stroke-width:2; stroke-opacity:0.1; fill:none\" points=\"\n  1328.85,1486.45 1328.85,47.2441 \n  \"/>\n<polyline clip-path=\"url(#clip522)\" style=\"stroke:#000000; stroke-linecap:butt; stroke-linejoin:round; stroke-width:2; stroke-opacity:0.1; fill:none\" points=\"\n  1811.83,1486.45 1811.83,47.2441 \n  \"/>\n<polyline clip-path=\"url(#clip522)\" style=\"stroke:#000000; stroke-linecap:butt; stroke-linejoin:round; stroke-width:2; stroke-opacity:0.1; fill:none\" points=\"\n  2294.8,1486.45 2294.8,47.2441 \n  \"/>\n<polyline clip-path=\"url(#clip520)\" style=\"stroke:#000000; stroke-linecap:butt; stroke-linejoin:round; stroke-width:4; stroke-opacity:1; fill:none\" points=\"\n  304.947,1486.45 2352.76,1486.45 \n  \"/>\n<polyline clip-path=\"url(#clip520)\" style=\"stroke:#000000; stroke-linecap:butt; stroke-linejoin:round; stroke-width:4; stroke-opacity:1; fill:none\" points=\"\n  362.904,1486.45 362.904,1467.55 \n  \"/>\n<polyline clip-path=\"url(#clip520)\" style=\"stroke:#000000; stroke-linecap:butt; stroke-linejoin:round; stroke-width:4; stroke-opacity:1; fill:none\" points=\"\n  845.877,1486.45 845.877,1467.55 \n  \"/>\n<polyline clip-path=\"url(#clip520)\" style=\"stroke:#000000; stroke-linecap:butt; stroke-linejoin:round; stroke-width:4; stroke-opacity:1; fill:none\" points=\"\n  1328.85,1486.45 1328.85,1467.55 \n  \"/>\n<polyline clip-path=\"url(#clip520)\" style=\"stroke:#000000; stroke-linecap:butt; stroke-linejoin:round; stroke-width:4; stroke-opacity:1; fill:none\" points=\"\n  1811.83,1486.45 1811.83,1467.55 \n  \"/>\n<polyline clip-path=\"url(#clip520)\" style=\"stroke:#000000; stroke-linecap:butt; stroke-linejoin:round; stroke-width:4; stroke-opacity:1; fill:none\" points=\"\n  2294.8,1486.45 2294.8,1467.55 \n  \"/>\n<path clip-path=\"url(#clip520)\" d=\"M325.207 1517.37 Q321.596 1517.37 319.767 1520.93 Q317.962 1524.47 317.962 1531.6 Q317.962 1538.71 319.767 1542.27 Q321.596 1545.82 325.207 1545.82 Q328.841 1545.82 330.647 1542.27 Q332.475 1538.71 332.475 1531.6 Q332.475 1524.47 330.647 1520.93 Q328.841 1517.37 325.207 1517.37 M325.207 1513.66 Q331.017 1513.66 334.073 1518.27 Q337.151 1522.85 337.151 1531.6 Q337.151 1540.33 334.073 1544.94 Q331.017 1549.52 325.207 1549.52 Q319.397 1549.52 316.318 1544.94 Q313.263 1540.33 313.263 1531.6 Q313.263 1522.85 316.318 1518.27 Q319.397 1513.66 325.207 1513.66 Z\" fill=\"#000000\" fill-rule=\"evenodd\" fill-opacity=\"1\" /><path clip-path=\"url(#clip520)\" d=\"M345.369 1542.97 L350.253 1542.97 L350.253 1548.85 L345.369 1548.85 L345.369 1542.97 Z\" fill=\"#000000\" fill-rule=\"evenodd\" fill-opacity=\"1\" /><path clip-path=\"url(#clip520)\" d=\"M370.438 1517.37 Q366.827 1517.37 364.998 1520.93 Q363.193 1524.47 363.193 1531.6 Q363.193 1538.71 364.998 1542.27 Q366.827 1545.82 370.438 1545.82 Q374.072 1545.82 375.878 1542.27 Q377.707 1538.71 377.707 1531.6 Q377.707 1524.47 375.878 1520.93 Q374.072 1517.37 370.438 1517.37 M370.438 1513.66 Q376.248 1513.66 379.304 1518.27 Q382.383 1522.85 382.383 1531.6 Q382.383 1540.33 379.304 1544.94 Q376.248 1549.52 370.438 1549.52 Q364.628 1549.52 361.549 1544.94 Q358.494 1540.33 358.494 1531.6 Q358.494 1522.85 361.549 1518.27 Q364.628 1513.66 370.438 1513.66 Z\" fill=\"#000000\" fill-rule=\"evenodd\" fill-opacity=\"1\" /><path clip-path=\"url(#clip520)\" d=\"M400.6 1517.37 Q396.989 1517.37 395.16 1520.93 Q393.355 1524.47 393.355 1531.6 Q393.355 1538.71 395.16 1542.27 Q396.989 1545.82 400.6 1545.82 Q404.234 1545.82 406.04 1542.27 Q407.869 1538.71 407.869 1531.6 Q407.869 1524.47 406.04 1520.93 Q404.234 1517.37 400.6 1517.37 M400.6 1513.66 Q406.41 1513.66 409.466 1518.27 Q412.544 1522.85 412.544 1531.6 Q412.544 1540.33 409.466 1544.94 Q406.41 1549.52 400.6 1549.52 Q394.79 1549.52 391.711 1544.94 Q388.656 1540.33 388.656 1531.6 Q388.656 1522.85 391.711 1518.27 Q394.79 1513.66 400.6 1513.66 Z\" fill=\"#000000\" fill-rule=\"evenodd\" fill-opacity=\"1\" /><path clip-path=\"url(#clip520)\" d=\"M808.679 1517.37 Q805.067 1517.37 803.239 1520.93 Q801.433 1524.47 801.433 1531.6 Q801.433 1538.71 803.239 1542.27 Q805.067 1545.82 808.679 1545.82 Q812.313 1545.82 814.118 1542.27 Q815.947 1538.71 815.947 1531.6 Q815.947 1524.47 814.118 1520.93 Q812.313 1517.37 808.679 1517.37 M808.679 1513.66 Q814.489 1513.66 817.544 1518.27 Q820.623 1522.85 820.623 1531.6 Q820.623 1540.33 817.544 1544.94 Q814.489 1549.52 808.679 1549.52 Q802.868 1549.52 799.79 1544.94 Q796.734 1540.33 796.734 1531.6 Q796.734 1522.85 799.79 1518.27 Q802.868 1513.66 808.679 1513.66 Z\" fill=\"#000000\" fill-rule=\"evenodd\" fill-opacity=\"1\" /><path clip-path=\"url(#clip520)\" d=\"M828.84 1542.97 L833.725 1542.97 L833.725 1548.85 L828.84 1548.85 L828.84 1542.97 Z\" fill=\"#000000\" fill-rule=\"evenodd\" fill-opacity=\"1\" /><path clip-path=\"url(#clip520)\" d=\"M847.938 1544.91 L864.257 1544.91 L864.257 1548.85 L842.313 1548.85 L842.313 1544.91 Q844.975 1542.16 849.558 1537.53 Q854.164 1532.88 855.345 1531.53 Q857.59 1529.01 858.47 1527.27 Q859.373 1525.51 859.373 1523.82 Q859.373 1521.07 857.428 1519.33 Q855.507 1517.6 852.405 1517.6 Q850.206 1517.6 847.752 1518.36 Q845.322 1519.13 842.544 1520.68 L842.544 1515.95 Q845.368 1514.82 847.822 1514.24 Q850.276 1513.66 852.313 1513.66 Q857.683 1513.66 860.877 1516.35 Q864.072 1519.03 864.072 1523.52 Q864.072 1525.65 863.262 1527.57 Q862.475 1529.47 860.368 1532.07 Q859.789 1532.74 856.688 1535.95 Q853.586 1539.15 847.938 1544.91 Z\" fill=\"#000000\" fill-rule=\"evenodd\" fill-opacity=\"1\" /><path clip-path=\"url(#clip520)\" d=\"M874.118 1514.29 L892.474 1514.29 L892.474 1518.22 L878.4 1518.22 L878.4 1526.7 Q879.419 1526.35 880.437 1526.19 Q881.456 1526 882.474 1526 Q888.261 1526 891.641 1529.17 Q895.021 1532.34 895.021 1537.76 Q895.021 1543.34 891.548 1546.44 Q888.076 1549.52 881.757 1549.52 Q879.581 1549.52 877.312 1549.15 Q875.067 1548.78 872.66 1548.04 L872.66 1543.34 Q874.743 1544.47 876.965 1545.03 Q879.187 1545.58 881.664 1545.58 Q885.669 1545.58 888.007 1543.48 Q890.345 1541.37 890.345 1537.76 Q890.345 1534.15 888.007 1532.04 Q885.669 1529.94 881.664 1529.94 Q879.789 1529.94 877.914 1530.35 Q876.062 1530.77 874.118 1531.65 L874.118 1514.29 Z\" fill=\"#000000\" fill-rule=\"evenodd\" fill-opacity=\"1\" /><path clip-path=\"url(#clip520)\" d=\"M1291.15 1517.37 Q1287.54 1517.37 1285.71 1520.93 Q1283.91 1524.47 1283.91 1531.6 Q1283.91 1538.71 1285.71 1542.27 Q1287.54 1545.82 1291.15 1545.82 Q1294.79 1545.82 1296.59 1542.27 Q1298.42 1538.71 1298.42 1531.6 Q1298.42 1524.47 1296.59 1520.93 Q1294.79 1517.37 1291.15 1517.37 M1291.15 1513.66 Q1296.96 1513.66 1300.02 1518.27 Q1303.1 1522.85 1303.1 1531.6 Q1303.1 1540.33 1300.02 1544.94 Q1296.96 1549.52 1291.15 1549.52 Q1285.34 1549.52 1282.27 1544.94 Q1279.21 1540.33 1279.21 1531.6 Q1279.21 1522.85 1282.27 1518.27 Q1285.34 1513.66 1291.15 1513.66 Z\" fill=\"#000000\" fill-rule=\"evenodd\" fill-opacity=\"1\" /><path clip-path=\"url(#clip520)\" d=\"M1311.32 1542.97 L1316.2 1542.97 L1316.2 1548.85 L1311.32 1548.85 L1311.32 1542.97 Z\" fill=\"#000000\" fill-rule=\"evenodd\" fill-opacity=\"1\" /><path clip-path=\"url(#clip520)\" d=\"M1326.43 1514.29 L1344.79 1514.29 L1344.79 1518.22 L1330.71 1518.22 L1330.71 1526.7 Q1331.73 1526.35 1332.75 1526.19 Q1333.77 1526 1334.79 1526 Q1340.58 1526 1343.96 1529.17 Q1347.33 1532.34 1347.33 1537.76 Q1347.33 1543.34 1343.86 1546.44 Q1340.39 1549.52 1334.07 1549.52 Q1331.9 1549.52 1329.63 1549.15 Q1327.38 1548.78 1324.97 1548.04 L1324.97 1543.34 Q1327.06 1544.47 1329.28 1545.03 Q1331.5 1545.58 1333.98 1545.58 Q1337.98 1545.58 1340.32 1543.48 Q1342.66 1541.37 1342.66 1537.76 Q1342.66 1534.15 1340.32 1532.04 Q1337.98 1529.94 1333.98 1529.94 Q1332.1 1529.94 1330.23 1530.35 Q1328.38 1530.77 1326.43 1531.65 L1326.43 1514.29 Z\" fill=\"#000000\" fill-rule=\"evenodd\" fill-opacity=\"1\" /><path clip-path=\"url(#clip520)\" d=\"M1366.55 1517.37 Q1362.94 1517.37 1361.11 1520.93 Q1359.3 1524.47 1359.3 1531.6 Q1359.3 1538.71 1361.11 1542.27 Q1362.94 1545.82 1366.55 1545.82 Q1370.18 1545.82 1371.99 1542.27 Q1373.82 1538.71 1373.82 1531.6 Q1373.82 1524.47 1371.99 1520.93 Q1370.18 1517.37 1366.55 1517.37 M1366.55 1513.66 Q1372.36 1513.66 1375.41 1518.27 Q1378.49 1522.85 1378.49 1531.6 Q1378.49 1540.33 1375.41 1544.94 Q1372.36 1549.52 1366.55 1549.52 Q1360.74 1549.52 1357.66 1544.94 Q1354.6 1540.33 1354.6 1531.6 Q1354.6 1522.85 1357.66 1518.27 Q1360.74 1513.66 1366.55 1513.66 Z\" fill=\"#000000\" fill-rule=\"evenodd\" fill-opacity=\"1\" /><path clip-path=\"url(#clip520)\" d=\"M1774.63 1517.37 Q1771.02 1517.37 1769.19 1520.93 Q1767.38 1524.47 1767.38 1531.6 Q1767.38 1538.71 1769.19 1542.27 Q1771.02 1545.82 1774.63 1545.82 Q1778.26 1545.82 1780.07 1542.27 Q1781.89 1538.71 1781.89 1531.6 Q1781.89 1524.47 1780.07 1520.93 Q1778.26 1517.37 1774.63 1517.37 M1774.63 1513.66 Q1780.44 1513.66 1783.49 1518.27 Q1786.57 1522.85 1786.57 1531.6 Q1786.57 1540.33 1783.49 1544.94 Q1780.44 1549.52 1774.63 1549.52 Q1768.82 1549.52 1765.74 1544.94 Q1762.68 1540.33 1762.68 1531.6 Q1762.68 1522.85 1765.74 1518.27 Q1768.82 1513.66 1774.63 1513.66 Z\" fill=\"#000000\" fill-rule=\"evenodd\" fill-opacity=\"1\" /><path clip-path=\"url(#clip520)\" d=\"M1794.79 1542.97 L1799.67 1542.97 L1799.67 1548.85 L1794.79 1548.85 L1794.79 1542.97 Z\" fill=\"#000000\" fill-rule=\"evenodd\" fill-opacity=\"1\" /><path clip-path=\"url(#clip520)\" d=\"M1808.68 1514.29 L1830.9 1514.29 L1830.9 1516.28 L1818.35 1548.85 L1813.47 1548.85 L1825.27 1518.22 L1808.68 1518.22 L1808.68 1514.29 Z\" fill=\"#000000\" fill-rule=\"evenodd\" fill-opacity=\"1\" /><path clip-path=\"url(#clip520)\" d=\"M1840.07 1514.29 L1858.42 1514.29 L1858.42 1518.22 L1844.35 1518.22 L1844.35 1526.7 Q1845.37 1526.35 1846.39 1526.19 Q1847.4 1526 1848.42 1526 Q1854.21 1526 1857.59 1529.17 Q1860.97 1532.34 1860.97 1537.76 Q1860.97 1543.34 1857.5 1546.44 Q1854.02 1549.52 1847.7 1549.52 Q1845.53 1549.52 1843.26 1549.15 Q1841.01 1548.78 1838.61 1548.04 L1838.61 1543.34 Q1840.69 1544.47 1842.91 1545.03 Q1845.14 1545.58 1847.61 1545.58 Q1851.62 1545.58 1853.95 1543.48 Q1856.29 1541.37 1856.29 1537.76 Q1856.29 1534.15 1853.95 1532.04 Q1851.62 1529.94 1847.61 1529.94 Q1845.74 1529.94 1843.86 1530.35 Q1842.01 1530.77 1840.07 1531.65 L1840.07 1514.29 Z\" fill=\"#000000\" fill-rule=\"evenodd\" fill-opacity=\"1\" /><path clip-path=\"url(#clip520)\" d=\"M2246.87 1544.91 L2254.51 1544.91 L2254.51 1518.55 L2246.2 1520.21 L2246.2 1515.95 L2254.46 1514.29 L2259.14 1514.29 L2259.14 1544.91 L2266.78 1544.91 L2266.78 1548.85 L2246.87 1548.85 L2246.87 1544.91 Z\" fill=\"#000000\" fill-rule=\"evenodd\" fill-opacity=\"1\" /><path clip-path=\"url(#clip520)\" d=\"M2276.22 1542.97 L2281.11 1542.97 L2281.11 1548.85 L2276.22 1548.85 L2276.22 1542.97 Z\" fill=\"#000000\" fill-rule=\"evenodd\" fill-opacity=\"1\" /><path clip-path=\"url(#clip520)\" d=\"M2301.29 1517.37 Q2297.68 1517.37 2295.85 1520.93 Q2294.05 1524.47 2294.05 1531.6 Q2294.05 1538.71 2295.85 1542.27 Q2297.68 1545.82 2301.29 1545.82 Q2304.93 1545.82 2306.73 1542.27 Q2308.56 1538.71 2308.56 1531.6 Q2308.56 1524.47 2306.73 1520.93 Q2304.93 1517.37 2301.29 1517.37 M2301.29 1513.66 Q2307.1 1513.66 2310.16 1518.27 Q2313.24 1522.85 2313.24 1531.6 Q2313.24 1540.33 2310.16 1544.94 Q2307.1 1549.52 2301.29 1549.52 Q2295.48 1549.52 2292.4 1544.94 Q2289.35 1540.33 2289.35 1531.6 Q2289.35 1522.85 2292.4 1518.27 Q2295.48 1513.66 2301.29 1513.66 Z\" fill=\"#000000\" fill-rule=\"evenodd\" fill-opacity=\"1\" /><path clip-path=\"url(#clip520)\" d=\"M2331.45 1517.37 Q2327.84 1517.37 2326.01 1520.93 Q2324.21 1524.47 2324.21 1531.6 Q2324.21 1538.71 2326.01 1542.27 Q2327.84 1545.82 2331.45 1545.82 Q2335.09 1545.82 2336.89 1542.27 Q2338.72 1538.71 2338.72 1531.6 Q2338.72 1524.47 2336.89 1520.93 Q2335.09 1517.37 2331.45 1517.37 M2331.45 1513.66 Q2337.26 1513.66 2340.32 1518.27 Q2343.4 1522.85 2343.4 1531.6 Q2343.4 1540.33 2340.32 1544.94 Q2337.26 1549.52 2331.45 1549.52 Q2325.64 1549.52 2322.57 1544.94 Q2319.51 1540.33 2319.51 1531.6 Q2319.51 1522.85 2322.57 1518.27 Q2325.64 1513.66 2331.45 1513.66 Z\" fill=\"#000000\" fill-rule=\"evenodd\" fill-opacity=\"1\" /><polyline clip-path=\"url(#clip522)\" style=\"stroke:#000000; stroke-linecap:butt; stroke-linejoin:round; stroke-width:2; stroke-opacity:0.1; fill:none\" points=\"\n  304.947,1270.48 2352.76,1270.48 \n  \"/>\n<polyline clip-path=\"url(#clip522)\" style=\"stroke:#000000; stroke-linecap:butt; stroke-linejoin:round; stroke-width:2; stroke-opacity:0.1; fill:none\" points=\"\n  304.947,999.224 2352.76,999.224 \n  \"/>\n<polyline clip-path=\"url(#clip522)\" style=\"stroke:#000000; stroke-linecap:butt; stroke-linejoin:round; stroke-width:2; stroke-opacity:0.1; fill:none\" points=\"\n  304.947,727.966 2352.76,727.966 \n  \"/>\n<polyline clip-path=\"url(#clip522)\" style=\"stroke:#000000; stroke-linecap:butt; stroke-linejoin:round; stroke-width:2; stroke-opacity:0.1; fill:none\" points=\"\n  304.947,456.707 2352.76,456.707 \n  \"/>\n<polyline clip-path=\"url(#clip522)\" style=\"stroke:#000000; stroke-linecap:butt; stroke-linejoin:round; stroke-width:2; stroke-opacity:0.1; fill:none\" points=\"\n  304.947,185.449 2352.76,185.449 \n  \"/>\n<polyline clip-path=\"url(#clip520)\" style=\"stroke:#000000; stroke-linecap:butt; stroke-linejoin:round; stroke-width:4; stroke-opacity:1; fill:none\" points=\"\n  304.947,1486.45 304.947,47.2441 \n  \"/>\n<polyline clip-path=\"url(#clip520)\" style=\"stroke:#000000; stroke-linecap:butt; stroke-linejoin:round; stroke-width:4; stroke-opacity:1; fill:none\" points=\"\n  304.947,1270.48 323.844,1270.48 \n  \"/>\n<polyline clip-path=\"url(#clip520)\" style=\"stroke:#000000; stroke-linecap:butt; stroke-linejoin:round; stroke-width:4; stroke-opacity:1; fill:none\" points=\"\n  304.947,999.224 323.844,999.224 \n  \"/>\n<polyline clip-path=\"url(#clip520)\" style=\"stroke:#000000; stroke-linecap:butt; stroke-linejoin:round; stroke-width:4; stroke-opacity:1; fill:none\" points=\"\n  304.947,727.966 323.844,727.966 \n  \"/>\n<polyline clip-path=\"url(#clip520)\" style=\"stroke:#000000; stroke-linecap:butt; stroke-linejoin:round; stroke-width:4; stroke-opacity:1; fill:none\" points=\"\n  304.947,456.707 323.844,456.707 \n  \"/>\n<polyline clip-path=\"url(#clip520)\" style=\"stroke:#000000; stroke-linecap:butt; stroke-linejoin:round; stroke-width:4; stroke-opacity:1; fill:none\" points=\"\n  304.947,185.449 323.844,185.449 \n  \"/>\n<path clip-path=\"url(#clip520)\" d=\"M63.6541 1275.07 Q60.506 1275.07 58.6541 1277.22 Q56.8254 1279.37 56.8254 1283.12 Q56.8254 1286.85 58.6541 1289.03 Q60.506 1291.18 63.6541 1291.18 Q66.8022 1291.18 68.6309 1289.03 Q70.4828 1286.85 70.4828 1283.12 Q70.4828 1279.37 68.6309 1277.22 Q66.8022 1275.07 63.6541 1275.07 M72.9365 1260.41 L72.9365 1264.67 Q71.1772 1263.84 69.3717 1263.4 Q67.5893 1262.96 65.83 1262.96 Q61.2004 1262.96 58.7467 1266.09 Q56.3162 1269.21 55.969 1275.53 Q57.3347 1273.52 59.3949 1272.45 Q61.455 1271.36 63.9319 1271.36 Q69.1402 1271.36 72.1494 1274.53 Q75.1818 1277.68 75.1818 1283.12 Q75.1818 1288.45 72.0337 1291.66 Q68.8855 1294.88 63.6541 1294.88 Q57.6588 1294.88 54.4875 1290.3 Q51.3162 1285.69 51.3162 1276.96 Q51.3162 1268.77 55.2051 1263.91 Q59.0939 1259.03 65.6448 1259.03 Q67.4041 1259.03 69.1865 1259.37 Q70.992 1259.72 72.9365 1260.41 Z\" fill=\"#000000\" fill-rule=\"evenodd\" fill-opacity=\"1\" /><path clip-path=\"url(#clip520)\" d=\"M83.2373 1288.33 L88.1216 1288.33 L88.1216 1294.21 L83.2373 1294.21 L83.2373 1288.33 Z\" fill=\"#000000\" fill-rule=\"evenodd\" fill-opacity=\"1\" /><path clip-path=\"url(#clip520)\" d=\"M108.307 1262.73 Q104.696 1262.73 102.867 1266.29 Q101.061 1269.84 101.061 1276.96 Q101.061 1284.07 102.867 1287.64 Q104.696 1291.18 108.307 1291.18 Q111.941 1291.18 113.746 1287.64 Q115.575 1284.07 115.575 1276.96 Q115.575 1269.84 113.746 1266.29 Q111.941 1262.73 108.307 1262.73 M108.307 1259.03 Q114.117 1259.03 117.172 1263.63 Q120.251 1268.22 120.251 1276.96 Q120.251 1285.69 117.172 1290.3 Q114.117 1294.88 108.307 1294.88 Q102.496 1294.88 99.4178 1290.3 Q96.3623 1285.69 96.3623 1276.96 Q96.3623 1268.22 99.4178 1263.63 Q102.496 1259.03 108.307 1259.03 Z\" fill=\"#000000\" fill-rule=\"evenodd\" fill-opacity=\"1\" /><path clip-path=\"url(#clip520)\" d=\"M138.469 1262.73 Q134.857 1262.73 133.029 1266.29 Q131.223 1269.84 131.223 1276.96 Q131.223 1284.07 133.029 1287.64 Q134.857 1291.18 138.469 1291.18 Q142.103 1291.18 143.908 1287.64 Q145.737 1284.07 145.737 1276.96 Q145.737 1269.84 143.908 1266.29 Q142.103 1262.73 138.469 1262.73 M138.469 1259.03 Q144.279 1259.03 147.334 1263.63 Q150.413 1268.22 150.413 1276.96 Q150.413 1285.69 147.334 1290.3 Q144.279 1294.88 138.469 1294.88 Q132.658 1294.88 129.58 1290.3 Q126.524 1285.69 126.524 1276.96 Q126.524 1268.22 129.58 1263.63 Q132.658 1259.03 138.469 1259.03 Z\" fill=\"#000000\" fill-rule=\"evenodd\" fill-opacity=\"1\" /><path clip-path=\"url(#clip520)\" d=\"M186.802 1268.75 L176.223 1279.37 L186.802 1289.95 L184.047 1292.75 L173.422 1282.13 L162.797 1292.75 L160.066 1289.95 L170.621 1279.37 L160.066 1268.75 L162.797 1265.95 L173.422 1276.57 L184.047 1265.95 L186.802 1268.75 Z\" fill=\"#000000\" fill-rule=\"evenodd\" fill-opacity=\"1\" /><path clip-path=\"url(#clip520)\" d=\"M199.163 1290.28 L206.801 1290.28 L206.801 1263.91 L198.491 1265.58 L198.491 1261.32 L206.755 1259.65 L211.431 1259.65 L211.431 1290.28 L219.07 1290.28 L219.07 1294.21 L199.163 1294.21 L199.163 1290.28 Z\" fill=\"#000000\" fill-rule=\"evenodd\" fill-opacity=\"1\" /><path clip-path=\"url(#clip520)\" d=\"M238.514 1262.73 Q234.903 1262.73 233.074 1266.29 Q231.269 1269.84 231.269 1276.96 Q231.269 1284.07 233.074 1287.64 Q234.903 1291.18 238.514 1291.18 Q242.149 1291.18 243.954 1287.64 Q245.783 1284.07 245.783 1276.96 Q245.783 1269.84 243.954 1266.29 Q242.149 1262.73 238.514 1262.73 M238.514 1259.03 Q244.324 1259.03 247.38 1263.63 Q250.459 1268.22 250.459 1276.96 Q250.459 1285.69 247.38 1290.3 Q244.324 1294.88 238.514 1294.88 Q232.704 1294.88 229.625 1290.3 Q226.57 1285.69 226.57 1276.96 Q226.57 1268.22 229.625 1263.63 Q232.704 1259.03 238.514 1259.03 Z\" fill=\"#000000\" fill-rule=\"evenodd\" fill-opacity=\"1\" /><path clip-path=\"url(#clip520)\" d=\"M263.154 1251.66 Q265.881 1252.24 267.404 1254.09 Q268.947 1255.93 268.947 1258.64 Q268.947 1262.79 266.088 1265.07 Q263.229 1267.35 257.963 1267.35 Q256.195 1267.35 254.314 1266.99 Q252.452 1266.65 250.459 1265.95 L250.459 1262.29 Q252.039 1263.21 253.919 1263.68 Q255.8 1264.15 257.85 1264.15 Q261.424 1264.15 263.286 1262.74 Q265.166 1261.33 265.166 1258.64 Q265.166 1256.15 263.417 1254.76 Q261.687 1253.35 258.584 1253.35 L255.311 1253.35 L255.311 1250.23 L258.734 1250.23 Q261.536 1250.23 263.022 1249.12 Q264.508 1247.99 264.508 1245.89 Q264.508 1243.72 262.966 1242.58 Q261.442 1241.41 258.584 1241.41 Q257.023 1241.41 255.236 1241.75 Q253.449 1242.09 251.305 1242.8 L251.305 1239.42 Q253.468 1238.81 255.349 1238.51 Q257.248 1238.21 258.922 1238.21 Q263.248 1238.21 265.768 1240.19 Q268.288 1242.14 268.288 1245.49 Q268.288 1247.82 266.953 1249.44 Q265.618 1251.04 263.154 1251.66 Z\" fill=\"#000000\" fill-rule=\"evenodd\" fill-opacity=\"1\" /><path clip-path=\"url(#clip520)\" d=\"M53.2143 1022.23 L53.2143 1017.97 Q54.9736 1018.81 56.7791 1019.25 Q58.5847 1019.69 60.3208 1019.69 Q64.9504 1019.69 67.3809 1016.59 Q69.8346 1013.46 70.1818 1007.12 Q68.8393 1009.11 66.7791 1010.17 Q64.7189 1011.24 62.2189 1011.24 Q57.0338 1011.24 54.0014 1008.11 Q50.9921 1004.97 50.9921 999.526 Q50.9921 994.202 54.1403 990.984 Q57.2884 987.767 62.5198 987.767 Q68.5152 987.767 71.6633 992.373 Q74.8346 996.957 74.8346 1005.71 Q74.8346 1013.88 70.9457 1018.76 Q67.08 1023.62 60.5291 1023.62 Q58.7699 1023.62 56.9643 1023.28 Q55.1588 1022.93 53.2143 1022.23 M62.5198 1007.58 Q65.668 1007.58 67.4967 1005.43 Q69.3485 1003.28 69.3485 999.526 Q69.3485 995.799 67.4967 993.646 Q65.668 991.47 62.5198 991.47 Q59.3717 991.47 57.5199 993.646 Q55.6912 995.799 55.6912 999.526 Q55.6912 1003.28 57.5199 1005.43 Q59.3717 1007.58 62.5198 1007.58 Z\" fill=\"#000000\" fill-rule=\"evenodd\" fill-opacity=\"1\" /><path clip-path=\"url(#clip520)\" d=\"M83.2373 1017.07 L88.1216 1017.07 L88.1216 1022.95 L83.2373 1022.95 L83.2373 1017.07 Z\" fill=\"#000000\" fill-rule=\"evenodd\" fill-opacity=\"1\" /><path clip-path=\"url(#clip520)\" d=\"M108.307 991.47 Q104.696 991.47 102.867 995.035 Q101.061 998.577 101.061 1005.71 Q101.061 1012.81 102.867 1016.38 Q104.696 1019.92 108.307 1019.92 Q111.941 1019.92 113.746 1016.38 Q115.575 1012.81 115.575 1005.71 Q115.575 998.577 113.746 995.035 Q111.941 991.47 108.307 991.47 M108.307 987.767 Q114.117 987.767 117.172 992.373 Q120.251 996.957 120.251 1005.71 Q120.251 1014.43 117.172 1019.04 Q114.117 1023.62 108.307 1023.62 Q102.496 1023.62 99.4178 1019.04 Q96.3623 1014.43 96.3623 1005.71 Q96.3623 996.957 99.4178 992.373 Q102.496 987.767 108.307 987.767 Z\" fill=\"#000000\" fill-rule=\"evenodd\" fill-opacity=\"1\" /><path clip-path=\"url(#clip520)\" d=\"M138.469 991.47 Q134.857 991.47 133.029 995.035 Q131.223 998.577 131.223 1005.71 Q131.223 1012.81 133.029 1016.38 Q134.857 1019.92 138.469 1019.92 Q142.103 1019.92 143.908 1016.38 Q145.737 1012.81 145.737 1005.71 Q145.737 998.577 143.908 995.035 Q142.103 991.47 138.469 991.47 M138.469 987.767 Q144.279 987.767 147.334 992.373 Q150.413 996.957 150.413 1005.71 Q150.413 1014.43 147.334 1019.04 Q144.279 1023.62 138.469 1023.62 Q132.658 1023.62 129.58 1019.04 Q126.524 1014.43 126.524 1005.71 Q126.524 996.957 129.58 992.373 Q132.658 987.767 138.469 987.767 Z\" fill=\"#000000\" fill-rule=\"evenodd\" fill-opacity=\"1\" /><path clip-path=\"url(#clip520)\" d=\"M186.802 997.489 L176.223 1008.11 L186.802 1018.69 L184.047 1021.49 L173.422 1010.87 L162.797 1021.49 L160.066 1018.69 L170.621 1008.11 L160.066 997.489 L162.797 994.688 L173.422 1005.31 L184.047 994.688 L186.802 997.489 Z\" fill=\"#000000\" fill-rule=\"evenodd\" fill-opacity=\"1\" /><path clip-path=\"url(#clip520)\" d=\"M199.163 1019.02 L206.801 1019.02 L206.801 992.651 L198.491 994.318 L198.491 990.058 L206.755 988.392 L211.431 988.392 L211.431 1019.02 L219.07 1019.02 L219.07 1022.95 L199.163 1022.95 L199.163 1019.02 Z\" fill=\"#000000\" fill-rule=\"evenodd\" fill-opacity=\"1\" /><path clip-path=\"url(#clip520)\" d=\"M238.514 991.47 Q234.903 991.47 233.074 995.035 Q231.269 998.577 231.269 1005.71 Q231.269 1012.81 233.074 1016.38 Q234.903 1019.92 238.514 1019.92 Q242.149 1019.92 243.954 1016.38 Q245.783 1012.81 245.783 1005.71 Q245.783 998.577 243.954 995.035 Q242.149 991.47 238.514 991.47 M238.514 987.767 Q244.324 987.767 247.38 992.373 Q250.459 996.957 250.459 1005.71 Q250.459 1014.43 247.38 1019.04 Q244.324 1023.62 238.514 1023.62 Q232.704 1023.62 229.625 1019.04 Q226.57 1014.43 226.57 1005.71 Q226.57 996.957 229.625 992.373 Q232.704 987.767 238.514 987.767 Z\" fill=\"#000000\" fill-rule=\"evenodd\" fill-opacity=\"1\" /><path clip-path=\"url(#clip520)\" d=\"M263.154 980.401 Q265.881 980.984 267.404 982.827 Q268.947 984.67 268.947 987.379 Q268.947 991.535 266.088 993.811 Q263.229 996.087 257.963 996.087 Q256.195 996.087 254.314 995.729 Q252.452 995.391 250.459 994.695 L250.459 991.027 Q252.039 991.949 253.919 992.419 Q255.8 992.889 257.85 992.889 Q261.424 992.889 263.286 991.479 Q265.166 990.068 265.166 987.379 Q265.166 984.896 263.417 983.504 Q261.687 982.094 258.584 982.094 L255.311 982.094 L255.311 978.972 L258.734 978.972 Q261.536 978.972 263.022 977.862 Q264.508 976.734 264.508 974.627 Q264.508 972.464 262.966 971.317 Q261.442 970.151 258.584 970.151 Q257.023 970.151 255.236 970.489 Q253.449 970.828 251.305 971.543 L251.305 968.157 Q253.468 967.555 255.349 967.254 Q257.248 966.954 258.922 966.954 Q263.248 966.954 265.768 968.928 Q268.288 970.884 268.288 974.232 Q268.288 976.564 266.953 978.182 Q265.618 979.78 263.154 980.401 Z\" fill=\"#000000\" fill-rule=\"evenodd\" fill-opacity=\"1\" /><path clip-path=\"url(#clip520)\" d=\"M51.9108 747.758 L59.5497 747.758 L59.5497 721.392 L51.2395 723.059 L51.2395 718.8 L59.5034 717.133 L64.1793 717.133 L64.1793 747.758 L71.8181 747.758 L71.8181 751.693 L51.9108 751.693 L51.9108 747.758 Z\" fill=\"#000000\" fill-rule=\"evenodd\" fill-opacity=\"1\" /><path clip-path=\"url(#clip520)\" d=\"M81.2625 745.814 L86.1467 745.814 L86.1467 751.693 L81.2625 751.693 L81.2625 745.814 Z\" fill=\"#000000\" fill-rule=\"evenodd\" fill-opacity=\"1\" /><path clip-path=\"url(#clip520)\" d=\"M100.36 747.758 L116.679 747.758 L116.679 751.693 L94.7347 751.693 L94.7347 747.758 Q97.3967 745.003 101.98 740.374 Q106.586 735.721 107.767 734.378 Q110.012 731.855 110.892 730.119 Q111.795 728.36 111.795 726.67 Q111.795 723.916 109.85 722.179 Q107.929 720.443 104.827 720.443 Q102.628 720.443 100.174 721.207 Q97.7439 721.971 94.9661 723.522 L94.9661 718.8 Q97.7902 717.666 100.244 717.087 Q102.698 716.508 104.735 716.508 Q110.105 716.508 113.299 719.193 Q116.494 721.879 116.494 726.369 Q116.494 728.499 115.684 730.42 Q114.897 732.318 112.79 734.911 Q112.211 735.582 109.11 738.8 Q106.008 741.994 100.36 747.758 Z\" fill=\"#000000\" fill-rule=\"evenodd\" fill-opacity=\"1\" /><path clip-path=\"url(#clip520)\" d=\"M136.494 720.212 Q132.883 720.212 131.054 723.777 Q129.248 727.318 129.248 734.448 Q129.248 741.554 131.054 745.119 Q132.883 748.661 136.494 748.661 Q140.128 748.661 141.933 745.119 Q143.762 741.554 143.762 734.448 Q143.762 727.318 141.933 723.777 Q140.128 720.212 136.494 720.212 M136.494 716.508 Q142.304 716.508 145.359 721.115 Q148.438 725.698 148.438 734.448 Q148.438 743.175 145.359 747.781 Q142.304 752.364 136.494 752.364 Q130.684 752.364 127.605 747.781 Q124.549 743.175 124.549 734.448 Q124.549 725.698 127.605 721.115 Q130.684 716.508 136.494 716.508 Z\" fill=\"#000000\" fill-rule=\"evenodd\" fill-opacity=\"1\" /><path clip-path=\"url(#clip520)\" d=\"M184.827 726.23 L174.248 736.855 L184.827 747.434 L182.072 750.235 L171.447 739.61 L160.822 750.235 L158.091 747.434 L168.646 736.855 L158.091 726.23 L160.822 723.429 L171.447 734.054 L182.072 723.429 L184.827 726.23 Z\" fill=\"#000000\" fill-rule=\"evenodd\" fill-opacity=\"1\" /><path clip-path=\"url(#clip520)\" d=\"M197.188 747.758 L204.827 747.758 L204.827 721.392 L196.517 723.059 L196.517 718.8 L204.78 717.133 L209.456 717.133 L209.456 747.758 L217.095 747.758 L217.095 751.693 L197.188 751.693 L197.188 747.758 Z\" fill=\"#000000\" fill-rule=\"evenodd\" fill-opacity=\"1\" /><path clip-path=\"url(#clip520)\" d=\"M236.539 720.212 Q232.928 720.212 231.1 723.777 Q229.294 727.318 229.294 734.448 Q229.294 741.554 231.1 745.119 Q232.928 748.661 236.539 748.661 Q240.174 748.661 241.979 745.119 Q243.808 741.554 243.808 734.448 Q243.808 727.318 241.979 723.777 Q240.174 720.212 236.539 720.212 M236.539 716.508 Q242.35 716.508 245.405 721.115 Q248.484 725.698 248.484 734.448 Q248.484 743.175 245.405 747.781 Q242.35 752.364 236.539 752.364 Q230.729 752.364 227.651 747.781 Q224.595 743.175 224.595 734.448 Q224.595 725.698 227.651 721.115 Q230.729 716.508 236.539 716.508 Z\" fill=\"#000000\" fill-rule=\"evenodd\" fill-opacity=\"1\" /><path clip-path=\"url(#clip520)\" d=\"M261.16 699.513 L251.568 714.503 L261.16 714.503 L261.16 699.513 M260.163 696.203 L264.941 696.203 L264.941 714.503 L268.947 714.503 L268.947 717.662 L264.941 717.662 L264.941 724.283 L261.16 724.283 L261.16 717.662 L248.484 717.662 L248.484 713.995 L260.163 696.203 Z\" fill=\"#000000\" fill-rule=\"evenodd\" fill-opacity=\"1\" /><path clip-path=\"url(#clip520)\" d=\"M51.9108 476.499 L59.5497 476.499 L59.5497 450.134 L51.2395 451.801 L51.2395 447.541 L59.5034 445.875 L64.1793 445.875 L64.1793 476.499 L71.8181 476.499 L71.8181 480.435 L51.9108 480.435 L51.9108 476.499 Z\" fill=\"#000000\" fill-rule=\"evenodd\" fill-opacity=\"1\" /><path clip-path=\"url(#clip520)\" d=\"M81.2625 474.555 L86.1467 474.555 L86.1467 480.435 L81.2625 480.435 L81.2625 474.555 Z\" fill=\"#000000\" fill-rule=\"evenodd\" fill-opacity=\"1\" /><path clip-path=\"url(#clip520)\" d=\"M96.3782 445.875 L114.735 445.875 L114.735 449.81 L100.661 449.81 L100.661 458.282 Q101.679 457.935 102.698 457.773 Q103.716 457.588 104.735 457.588 Q110.522 457.588 113.901 460.759 Q117.281 463.93 117.281 469.347 Q117.281 474.925 113.809 478.027 Q110.336 481.106 104.017 481.106 Q101.841 481.106 99.5726 480.736 Q97.3272 480.365 94.9198 479.624 L94.9198 474.925 Q97.0032 476.06 99.2254 476.615 Q101.448 477.171 103.924 477.171 Q107.929 477.171 110.267 475.064 Q112.605 472.958 112.605 469.347 Q112.605 465.736 110.267 463.629 Q107.929 461.523 103.924 461.523 Q102.049 461.523 100.174 461.939 Q98.3226 462.356 96.3782 463.236 L96.3782 445.875 Z\" fill=\"#000000\" fill-rule=\"evenodd\" fill-opacity=\"1\" /><path clip-path=\"url(#clip520)\" d=\"M136.494 448.953 Q132.883 448.953 131.054 452.518 Q129.248 456.06 129.248 463.189 Q129.248 470.296 131.054 473.861 Q132.883 477.402 136.494 477.402 Q140.128 477.402 141.933 473.861 Q143.762 470.296 143.762 463.189 Q143.762 456.06 141.933 452.518 Q140.128 448.953 136.494 448.953 M136.494 445.25 Q142.304 445.25 145.359 449.856 Q148.438 454.439 148.438 463.189 Q148.438 471.916 145.359 476.523 Q142.304 481.106 136.494 481.106 Q130.684 481.106 127.605 476.523 Q124.549 471.916 124.549 463.189 Q124.549 454.439 127.605 449.856 Q130.684 445.25 136.494 445.25 Z\" fill=\"#000000\" fill-rule=\"evenodd\" fill-opacity=\"1\" /><path clip-path=\"url(#clip520)\" d=\"M184.827 454.972 L174.248 465.597 L184.827 476.175 L182.072 478.976 L171.447 468.351 L160.822 478.976 L158.091 476.175 L168.646 465.597 L158.091 454.972 L160.822 452.171 L171.447 462.796 L182.072 452.171 L184.827 454.972 Z\" fill=\"#000000\" fill-rule=\"evenodd\" fill-opacity=\"1\" /><path clip-path=\"url(#clip520)\" d=\"M197.188 476.499 L204.827 476.499 L204.827 450.134 L196.517 451.801 L196.517 447.541 L204.78 445.875 L209.456 445.875 L209.456 476.499 L217.095 476.499 L217.095 480.435 L197.188 480.435 L197.188 476.499 Z\" fill=\"#000000\" fill-rule=\"evenodd\" fill-opacity=\"1\" /><path clip-path=\"url(#clip520)\" d=\"M236.539 448.953 Q232.928 448.953 231.1 452.518 Q229.294 456.06 229.294 463.189 Q229.294 470.296 231.1 473.861 Q232.928 477.402 236.539 477.402 Q240.174 477.402 241.979 473.861 Q243.808 470.296 243.808 463.189 Q243.808 456.06 241.979 452.518 Q240.174 448.953 236.539 448.953 M236.539 445.25 Q242.35 445.25 245.405 449.856 Q248.484 454.439 248.484 463.189 Q248.484 471.916 245.405 476.523 Q242.35 481.106 236.539 481.106 Q230.729 481.106 227.651 476.523 Q224.595 471.916 224.595 463.189 Q224.595 454.439 227.651 449.856 Q230.729 445.25 236.539 445.25 Z\" fill=\"#000000\" fill-rule=\"evenodd\" fill-opacity=\"1\" /><path clip-path=\"url(#clip520)\" d=\"M261.16 428.254 L251.568 443.244 L261.16 443.244 L261.16 428.254 M260.163 424.944 L264.941 424.944 L264.941 443.244 L268.947 443.244 L268.947 446.404 L264.941 446.404 L264.941 453.024 L261.16 453.024 L261.16 446.404 L248.484 446.404 L248.484 442.736 L260.163 424.944 Z\" fill=\"#000000\" fill-rule=\"evenodd\" fill-opacity=\"1\" /><path clip-path=\"url(#clip520)\" d=\"M51.9108 205.241 L59.5497 205.241 L59.5497 178.875 L51.2395 180.542 L51.2395 176.283 L59.5034 174.616 L64.1793 174.616 L64.1793 205.241 L71.8181 205.241 L71.8181 209.176 L51.9108 209.176 L51.9108 205.241 Z\" fill=\"#000000\" fill-rule=\"evenodd\" fill-opacity=\"1\" /><path clip-path=\"url(#clip520)\" d=\"M81.2625 203.297 L86.1467 203.297 L86.1467 209.176 L81.2625 209.176 L81.2625 203.297 Z\" fill=\"#000000\" fill-rule=\"evenodd\" fill-opacity=\"1\" /><path clip-path=\"url(#clip520)\" d=\"M106.332 192.764 Q102.999 192.764 101.077 194.547 Q99.1791 196.329 99.1791 199.454 Q99.1791 202.579 101.077 204.361 Q102.999 206.144 106.332 206.144 Q109.665 206.144 111.586 204.361 Q113.508 202.556 113.508 199.454 Q113.508 196.329 111.586 194.547 Q109.688 192.764 106.332 192.764 M101.656 190.773 Q98.6467 190.033 96.9569 187.973 Q95.2902 185.912 95.2902 182.949 Q95.2902 178.806 98.23 176.399 Q101.193 173.991 106.332 173.991 Q111.494 173.991 114.434 176.399 Q117.373 178.806 117.373 182.949 Q117.373 185.912 115.684 187.973 Q114.017 190.033 111.031 190.773 Q114.41 191.56 116.285 193.852 Q118.184 196.144 118.184 199.454 Q118.184 204.477 115.105 207.162 Q112.049 209.847 106.332 209.847 Q100.614 209.847 97.5356 207.162 Q94.48 204.477 94.48 199.454 Q94.48 196.144 96.3782 193.852 Q98.2763 191.56 101.656 190.773 M99.943 183.389 Q99.943 186.074 101.61 187.579 Q103.299 189.084 106.332 189.084 Q109.341 189.084 111.031 187.579 Q112.744 186.074 112.744 183.389 Q112.744 180.704 111.031 179.199 Q109.341 177.695 106.332 177.695 Q103.299 177.695 101.61 179.199 Q99.943 180.704 99.943 183.389 Z\" fill=\"#000000\" fill-rule=\"evenodd\" fill-opacity=\"1\" /><path clip-path=\"url(#clip520)\" d=\"M136.494 177.695 Q132.883 177.695 131.054 181.26 Q129.248 184.801 129.248 191.931 Q129.248 199.037 131.054 202.602 Q132.883 206.144 136.494 206.144 Q140.128 206.144 141.933 202.602 Q143.762 199.037 143.762 191.931 Q143.762 184.801 141.933 181.26 Q140.128 177.695 136.494 177.695 M136.494 173.991 Q142.304 173.991 145.359 178.598 Q148.438 183.181 148.438 191.931 Q148.438 200.658 145.359 205.264 Q142.304 209.847 136.494 209.847 Q130.684 209.847 127.605 205.264 Q124.549 200.658 124.549 191.931 Q124.549 183.181 127.605 178.598 Q130.684 173.991 136.494 173.991 Z\" fill=\"#000000\" fill-rule=\"evenodd\" fill-opacity=\"1\" /><path clip-path=\"url(#clip520)\" d=\"M184.827 183.713 L174.248 194.338 L184.827 204.917 L182.072 207.718 L171.447 197.093 L160.822 207.718 L158.091 204.917 L168.646 194.338 L158.091 183.713 L160.822 180.912 L171.447 191.537 L182.072 180.912 L184.827 183.713 Z\" fill=\"#000000\" fill-rule=\"evenodd\" fill-opacity=\"1\" /><path clip-path=\"url(#clip520)\" d=\"M197.188 205.241 L204.827 205.241 L204.827 178.875 L196.517 180.542 L196.517 176.283 L204.78 174.616 L209.456 174.616 L209.456 205.241 L217.095 205.241 L217.095 209.176 L197.188 209.176 L197.188 205.241 Z\" fill=\"#000000\" fill-rule=\"evenodd\" fill-opacity=\"1\" /><path clip-path=\"url(#clip520)\" d=\"M236.539 177.695 Q232.928 177.695 231.1 181.26 Q229.294 184.801 229.294 191.931 Q229.294 199.037 231.1 202.602 Q232.928 206.144 236.539 206.144 Q240.174 206.144 241.979 202.602 Q243.808 199.037 243.808 191.931 Q243.808 184.801 241.979 181.26 Q240.174 177.695 236.539 177.695 M236.539 173.991 Q242.35 173.991 245.405 178.598 Q248.484 183.181 248.484 191.931 Q248.484 200.658 245.405 205.264 Q242.35 209.847 236.539 209.847 Q230.729 209.847 227.651 205.264 Q224.595 200.658 224.595 191.931 Q224.595 183.181 227.651 178.598 Q230.729 173.991 236.539 173.991 Z\" fill=\"#000000\" fill-rule=\"evenodd\" fill-opacity=\"1\" /><path clip-path=\"url(#clip520)\" d=\"M261.16 156.996 L251.568 171.986 L261.16 171.986 L261.16 156.996 M260.163 153.686 L264.941 153.686 L264.941 171.986 L268.947 171.986 L268.947 175.145 L264.941 175.145 L264.941 181.766 L261.16 181.766 L261.16 175.145 L248.484 175.145 L248.484 171.478 L260.163 153.686 Z\" fill=\"#000000\" fill-rule=\"evenodd\" fill-opacity=\"1\" /><polyline clip-path=\"url(#clip522)\" style=\"stroke:#009af9; stroke-linecap:butt; stroke-linejoin:round; stroke-width:4; stroke-opacity:1; fill:none\" points=\"\n  362.904,1107.37 459.498,1185.49 556.093,1250.23 652.688,1315.15 749.283,1366.15 845.877,1407.92 942.472,1433.96 1039.07,1445.72 1135.66,1444.81 1232.26,1418.41 \n  1328.85,1380.61 1425.45,1297.79 1522.04,1205.38 1618.64,1122.38 1715.23,998.501 1811.83,858.712 1908.42,739.901 2005.01,598.485 2101.61,463.941 2198.2,256.88 \n  2294.8,87.9763 \n  \"/>\n<path clip-path=\"url(#clip520)\" d=\"\nM2004.53 198.898 L2284.5 198.898 L2284.5 95.2176 L2004.53 95.2176  Z\n  \" fill=\"#ffffff\" fill-rule=\"evenodd\" fill-opacity=\"1\"/>\n<polyline clip-path=\"url(#clip520)\" style=\"stroke:#000000; stroke-linecap:butt; stroke-linejoin:round; stroke-width:4; stroke-opacity:1; fill:none\" points=\"\n  2004.53,198.898 2284.5,198.898 2284.5,95.2176 2004.53,95.2176 2004.53,198.898 \n  \"/>\n<polyline clip-path=\"url(#clip520)\" style=\"stroke:#009af9; stroke-linecap:butt; stroke-linejoin:round; stroke-width:4; stroke-opacity:1; fill:none\" points=\"\n  2027.28,147.058 2163.81,147.058 \n  \"/>\n<path clip-path=\"url(#clip520)\" d=\"M2200.4 166.745 Q2198.6 171.375 2196.88 172.787 Q2195.17 174.199 2192.3 174.199 L2188.9 174.199 L2188.9 170.634 L2191.4 170.634 Q2193.16 170.634 2194.13 169.8 Q2195.1 168.967 2196.28 165.865 L2197.04 163.921 L2186.56 138.412 L2191.07 138.412 L2199.17 158.689 L2207.28 138.412 L2211.79 138.412 L2200.4 166.745 Z\" fill=\"#000000\" fill-rule=\"evenodd\" fill-opacity=\"1\" /><path clip-path=\"url(#clip520)\" d=\"M2219.08 160.402 L2226.72 160.402 L2226.72 134.037 L2218.41 135.703 L2218.41 131.444 L2226.67 129.778 L2231.35 129.778 L2231.35 160.402 L2238.99 160.402 L2238.99 164.338 L2219.08 164.338 L2219.08 160.402 Z\" fill=\"#000000\" fill-rule=\"evenodd\" fill-opacity=\"1\" /></svg>\n",
      "text/html": [
       "<?xml version=\"1.0\" encoding=\"utf-8\"?>\n",
       "<svg xmlns=\"http://www.w3.org/2000/svg\" xmlns:xlink=\"http://www.w3.org/1999/xlink\" width=\"600\" height=\"400\" viewBox=\"0 0 2400 1600\">\n",
       "<defs>\n",
       "  <clipPath id=\"clip570\">\n",
       "    <rect x=\"0\" y=\"0\" width=\"2400\" height=\"1600\"/>\n",
       "  </clipPath>\n",
       "</defs>\n",
       "<path clip-path=\"url(#clip570)\" d=\"\n",
       "M0 1600 L2400 1600 L2400 0 L0 0  Z\n",
       "  \" fill=\"#ffffff\" fill-rule=\"evenodd\" fill-opacity=\"1\"/>\n",
       "<defs>\n",
       "  <clipPath id=\"clip571\">\n",
       "    <rect x=\"480\" y=\"0\" width=\"1681\" height=\"1600\"/>\n",
       "  </clipPath>\n",
       "</defs>\n",
       "<path clip-path=\"url(#clip570)\" d=\"\n",
       "M304.947 1486.45 L2352.76 1486.45 L2352.76 47.2441 L304.947 47.2441  Z\n",
       "  \" fill=\"#ffffff\" fill-rule=\"evenodd\" fill-opacity=\"1\"/>\n",
       "<defs>\n",
       "  <clipPath id=\"clip572\">\n",
       "    <rect x=\"304\" y=\"47\" width=\"2049\" height=\"1440\"/>\n",
       "  </clipPath>\n",
       "</defs>\n",
       "<polyline clip-path=\"url(#clip572)\" style=\"stroke:#000000; stroke-linecap:butt; stroke-linejoin:round; stroke-width:2; stroke-opacity:0.1; fill:none\" points=\"\n",
       "  362.904,1486.45 362.904,47.2441 \n",
       "  \"/>\n",
       "<polyline clip-path=\"url(#clip572)\" style=\"stroke:#000000; stroke-linecap:butt; stroke-linejoin:round; stroke-width:2; stroke-opacity:0.1; fill:none\" points=\"\n",
       "  845.877,1486.45 845.877,47.2441 \n",
       "  \"/>\n",
       "<polyline clip-path=\"url(#clip572)\" style=\"stroke:#000000; stroke-linecap:butt; stroke-linejoin:round; stroke-width:2; stroke-opacity:0.1; fill:none\" points=\"\n",
       "  1328.85,1486.45 1328.85,47.2441 \n",
       "  \"/>\n",
       "<polyline clip-path=\"url(#clip572)\" style=\"stroke:#000000; stroke-linecap:butt; stroke-linejoin:round; stroke-width:2; stroke-opacity:0.1; fill:none\" points=\"\n",
       "  1811.83,1486.45 1811.83,47.2441 \n",
       "  \"/>\n",
       "<polyline clip-path=\"url(#clip572)\" style=\"stroke:#000000; stroke-linecap:butt; stroke-linejoin:round; stroke-width:2; stroke-opacity:0.1; fill:none\" points=\"\n",
       "  2294.8,1486.45 2294.8,47.2441 \n",
       "  \"/>\n",
       "<polyline clip-path=\"url(#clip570)\" style=\"stroke:#000000; stroke-linecap:butt; stroke-linejoin:round; stroke-width:4; stroke-opacity:1; fill:none\" points=\"\n",
       "  304.947,1486.45 2352.76,1486.45 \n",
       "  \"/>\n",
       "<polyline clip-path=\"url(#clip570)\" style=\"stroke:#000000; stroke-linecap:butt; stroke-linejoin:round; stroke-width:4; stroke-opacity:1; fill:none\" points=\"\n",
       "  362.904,1486.45 362.904,1467.55 \n",
       "  \"/>\n",
       "<polyline clip-path=\"url(#clip570)\" style=\"stroke:#000000; stroke-linecap:butt; stroke-linejoin:round; stroke-width:4; stroke-opacity:1; fill:none\" points=\"\n",
       "  845.877,1486.45 845.877,1467.55 \n",
       "  \"/>\n",
       "<polyline clip-path=\"url(#clip570)\" style=\"stroke:#000000; stroke-linecap:butt; stroke-linejoin:round; stroke-width:4; stroke-opacity:1; fill:none\" points=\"\n",
       "  1328.85,1486.45 1328.85,1467.55 \n",
       "  \"/>\n",
       "<polyline clip-path=\"url(#clip570)\" style=\"stroke:#000000; stroke-linecap:butt; stroke-linejoin:round; stroke-width:4; stroke-opacity:1; fill:none\" points=\"\n",
       "  1811.83,1486.45 1811.83,1467.55 \n",
       "  \"/>\n",
       "<polyline clip-path=\"url(#clip570)\" style=\"stroke:#000000; stroke-linecap:butt; stroke-linejoin:round; stroke-width:4; stroke-opacity:1; fill:none\" points=\"\n",
       "  2294.8,1486.45 2294.8,1467.55 \n",
       "  \"/>\n",
       "<path clip-path=\"url(#clip570)\" d=\"M325.207 1517.37 Q321.596 1517.37 319.767 1520.93 Q317.962 1524.47 317.962 1531.6 Q317.962 1538.71 319.767 1542.27 Q321.596 1545.82 325.207 1545.82 Q328.841 1545.82 330.647 1542.27 Q332.475 1538.71 332.475 1531.6 Q332.475 1524.47 330.647 1520.93 Q328.841 1517.37 325.207 1517.37 M325.207 1513.66 Q331.017 1513.66 334.073 1518.27 Q337.151 1522.85 337.151 1531.6 Q337.151 1540.33 334.073 1544.94 Q331.017 1549.52 325.207 1549.52 Q319.397 1549.52 316.318 1544.94 Q313.263 1540.33 313.263 1531.6 Q313.263 1522.85 316.318 1518.27 Q319.397 1513.66 325.207 1513.66 Z\" fill=\"#000000\" fill-rule=\"evenodd\" fill-opacity=\"1\" /><path clip-path=\"url(#clip570)\" d=\"M345.369 1542.97 L350.253 1542.97 L350.253 1548.85 L345.369 1548.85 L345.369 1542.97 Z\" fill=\"#000000\" fill-rule=\"evenodd\" fill-opacity=\"1\" /><path clip-path=\"url(#clip570)\" d=\"M370.438 1517.37 Q366.827 1517.37 364.998 1520.93 Q363.193 1524.47 363.193 1531.6 Q363.193 1538.71 364.998 1542.27 Q366.827 1545.82 370.438 1545.82 Q374.072 1545.82 375.878 1542.27 Q377.707 1538.71 377.707 1531.6 Q377.707 1524.47 375.878 1520.93 Q374.072 1517.37 370.438 1517.37 M370.438 1513.66 Q376.248 1513.66 379.304 1518.27 Q382.383 1522.85 382.383 1531.6 Q382.383 1540.33 379.304 1544.94 Q376.248 1549.52 370.438 1549.52 Q364.628 1549.52 361.549 1544.94 Q358.494 1540.33 358.494 1531.6 Q358.494 1522.85 361.549 1518.27 Q364.628 1513.66 370.438 1513.66 Z\" fill=\"#000000\" fill-rule=\"evenodd\" fill-opacity=\"1\" /><path clip-path=\"url(#clip570)\" d=\"M400.6 1517.37 Q396.989 1517.37 395.16 1520.93 Q393.355 1524.47 393.355 1531.6 Q393.355 1538.71 395.16 1542.27 Q396.989 1545.82 400.6 1545.82 Q404.234 1545.82 406.04 1542.27 Q407.869 1538.71 407.869 1531.6 Q407.869 1524.47 406.04 1520.93 Q404.234 1517.37 400.6 1517.37 M400.6 1513.66 Q406.41 1513.66 409.466 1518.27 Q412.544 1522.85 412.544 1531.6 Q412.544 1540.33 409.466 1544.94 Q406.41 1549.52 400.6 1549.52 Q394.79 1549.52 391.711 1544.94 Q388.656 1540.33 388.656 1531.6 Q388.656 1522.85 391.711 1518.27 Q394.79 1513.66 400.6 1513.66 Z\" fill=\"#000000\" fill-rule=\"evenodd\" fill-opacity=\"1\" /><path clip-path=\"url(#clip570)\" d=\"M808.679 1517.37 Q805.067 1517.37 803.239 1520.93 Q801.433 1524.47 801.433 1531.6 Q801.433 1538.71 803.239 1542.27 Q805.067 1545.82 808.679 1545.82 Q812.313 1545.82 814.118 1542.27 Q815.947 1538.71 815.947 1531.6 Q815.947 1524.47 814.118 1520.93 Q812.313 1517.37 808.679 1517.37 M808.679 1513.66 Q814.489 1513.66 817.544 1518.27 Q820.623 1522.85 820.623 1531.6 Q820.623 1540.33 817.544 1544.94 Q814.489 1549.52 808.679 1549.52 Q802.868 1549.52 799.79 1544.94 Q796.734 1540.33 796.734 1531.6 Q796.734 1522.85 799.79 1518.27 Q802.868 1513.66 808.679 1513.66 Z\" fill=\"#000000\" fill-rule=\"evenodd\" fill-opacity=\"1\" /><path clip-path=\"url(#clip570)\" d=\"M828.84 1542.97 L833.725 1542.97 L833.725 1548.85 L828.84 1548.85 L828.84 1542.97 Z\" fill=\"#000000\" fill-rule=\"evenodd\" fill-opacity=\"1\" /><path clip-path=\"url(#clip570)\" d=\"M847.938 1544.91 L864.257 1544.91 L864.257 1548.85 L842.313 1548.85 L842.313 1544.91 Q844.975 1542.16 849.558 1537.53 Q854.164 1532.88 855.345 1531.53 Q857.59 1529.01 858.47 1527.27 Q859.373 1525.51 859.373 1523.82 Q859.373 1521.07 857.428 1519.33 Q855.507 1517.6 852.405 1517.6 Q850.206 1517.6 847.752 1518.36 Q845.322 1519.13 842.544 1520.68 L842.544 1515.95 Q845.368 1514.82 847.822 1514.24 Q850.276 1513.66 852.313 1513.66 Q857.683 1513.66 860.877 1516.35 Q864.072 1519.03 864.072 1523.52 Q864.072 1525.65 863.262 1527.57 Q862.475 1529.47 860.368 1532.07 Q859.789 1532.74 856.688 1535.95 Q853.586 1539.15 847.938 1544.91 Z\" fill=\"#000000\" fill-rule=\"evenodd\" fill-opacity=\"1\" /><path clip-path=\"url(#clip570)\" d=\"M874.118 1514.29 L892.474 1514.29 L892.474 1518.22 L878.4 1518.22 L878.4 1526.7 Q879.419 1526.35 880.437 1526.19 Q881.456 1526 882.474 1526 Q888.261 1526 891.641 1529.17 Q895.021 1532.34 895.021 1537.76 Q895.021 1543.34 891.548 1546.44 Q888.076 1549.52 881.757 1549.52 Q879.581 1549.52 877.312 1549.15 Q875.067 1548.78 872.66 1548.04 L872.66 1543.34 Q874.743 1544.47 876.965 1545.03 Q879.187 1545.58 881.664 1545.58 Q885.669 1545.58 888.007 1543.48 Q890.345 1541.37 890.345 1537.76 Q890.345 1534.15 888.007 1532.04 Q885.669 1529.94 881.664 1529.94 Q879.789 1529.94 877.914 1530.35 Q876.062 1530.77 874.118 1531.65 L874.118 1514.29 Z\" fill=\"#000000\" fill-rule=\"evenodd\" fill-opacity=\"1\" /><path clip-path=\"url(#clip570)\" d=\"M1291.15 1517.37 Q1287.54 1517.37 1285.71 1520.93 Q1283.91 1524.47 1283.91 1531.6 Q1283.91 1538.71 1285.71 1542.27 Q1287.54 1545.82 1291.15 1545.82 Q1294.79 1545.82 1296.59 1542.27 Q1298.42 1538.71 1298.42 1531.6 Q1298.42 1524.47 1296.59 1520.93 Q1294.79 1517.37 1291.15 1517.37 M1291.15 1513.66 Q1296.96 1513.66 1300.02 1518.27 Q1303.1 1522.85 1303.1 1531.6 Q1303.1 1540.33 1300.02 1544.94 Q1296.96 1549.52 1291.15 1549.52 Q1285.34 1549.52 1282.27 1544.94 Q1279.21 1540.33 1279.21 1531.6 Q1279.21 1522.85 1282.27 1518.27 Q1285.34 1513.66 1291.15 1513.66 Z\" fill=\"#000000\" fill-rule=\"evenodd\" fill-opacity=\"1\" /><path clip-path=\"url(#clip570)\" d=\"M1311.32 1542.97 L1316.2 1542.97 L1316.2 1548.85 L1311.32 1548.85 L1311.32 1542.97 Z\" fill=\"#000000\" fill-rule=\"evenodd\" fill-opacity=\"1\" /><path clip-path=\"url(#clip570)\" d=\"M1326.43 1514.29 L1344.79 1514.29 L1344.79 1518.22 L1330.71 1518.22 L1330.71 1526.7 Q1331.73 1526.35 1332.75 1526.19 Q1333.77 1526 1334.79 1526 Q1340.58 1526 1343.96 1529.17 Q1347.33 1532.34 1347.33 1537.76 Q1347.33 1543.34 1343.86 1546.44 Q1340.39 1549.52 1334.07 1549.52 Q1331.9 1549.52 1329.63 1549.15 Q1327.38 1548.78 1324.97 1548.04 L1324.97 1543.34 Q1327.06 1544.47 1329.28 1545.03 Q1331.5 1545.58 1333.98 1545.58 Q1337.98 1545.58 1340.32 1543.48 Q1342.66 1541.37 1342.66 1537.76 Q1342.66 1534.15 1340.32 1532.04 Q1337.98 1529.94 1333.98 1529.94 Q1332.1 1529.94 1330.23 1530.35 Q1328.38 1530.77 1326.43 1531.65 L1326.43 1514.29 Z\" fill=\"#000000\" fill-rule=\"evenodd\" fill-opacity=\"1\" /><path clip-path=\"url(#clip570)\" d=\"M1366.55 1517.37 Q1362.94 1517.37 1361.11 1520.93 Q1359.3 1524.47 1359.3 1531.6 Q1359.3 1538.71 1361.11 1542.27 Q1362.94 1545.82 1366.55 1545.82 Q1370.18 1545.82 1371.99 1542.27 Q1373.82 1538.71 1373.82 1531.6 Q1373.82 1524.47 1371.99 1520.93 Q1370.18 1517.37 1366.55 1517.37 M1366.55 1513.66 Q1372.36 1513.66 1375.41 1518.27 Q1378.49 1522.85 1378.49 1531.6 Q1378.49 1540.33 1375.41 1544.94 Q1372.36 1549.52 1366.55 1549.52 Q1360.74 1549.52 1357.66 1544.94 Q1354.6 1540.33 1354.6 1531.6 Q1354.6 1522.85 1357.66 1518.27 Q1360.74 1513.66 1366.55 1513.66 Z\" fill=\"#000000\" fill-rule=\"evenodd\" fill-opacity=\"1\" /><path clip-path=\"url(#clip570)\" d=\"M1774.63 1517.37 Q1771.02 1517.37 1769.19 1520.93 Q1767.38 1524.47 1767.38 1531.6 Q1767.38 1538.71 1769.19 1542.27 Q1771.02 1545.82 1774.63 1545.82 Q1778.26 1545.82 1780.07 1542.27 Q1781.89 1538.71 1781.89 1531.6 Q1781.89 1524.47 1780.07 1520.93 Q1778.26 1517.37 1774.63 1517.37 M1774.63 1513.66 Q1780.44 1513.66 1783.49 1518.27 Q1786.57 1522.85 1786.57 1531.6 Q1786.57 1540.33 1783.49 1544.94 Q1780.44 1549.52 1774.63 1549.52 Q1768.82 1549.52 1765.74 1544.94 Q1762.68 1540.33 1762.68 1531.6 Q1762.68 1522.85 1765.74 1518.27 Q1768.82 1513.66 1774.63 1513.66 Z\" fill=\"#000000\" fill-rule=\"evenodd\" fill-opacity=\"1\" /><path clip-path=\"url(#clip570)\" d=\"M1794.79 1542.97 L1799.67 1542.97 L1799.67 1548.85 L1794.79 1548.85 L1794.79 1542.97 Z\" fill=\"#000000\" fill-rule=\"evenodd\" fill-opacity=\"1\" /><path clip-path=\"url(#clip570)\" d=\"M1808.68 1514.29 L1830.9 1514.29 L1830.9 1516.28 L1818.35 1548.85 L1813.47 1548.85 L1825.27 1518.22 L1808.68 1518.22 L1808.68 1514.29 Z\" fill=\"#000000\" fill-rule=\"evenodd\" fill-opacity=\"1\" /><path clip-path=\"url(#clip570)\" d=\"M1840.07 1514.29 L1858.42 1514.29 L1858.42 1518.22 L1844.35 1518.22 L1844.35 1526.7 Q1845.37 1526.35 1846.39 1526.19 Q1847.4 1526 1848.42 1526 Q1854.21 1526 1857.59 1529.17 Q1860.97 1532.34 1860.97 1537.76 Q1860.97 1543.34 1857.5 1546.44 Q1854.02 1549.52 1847.7 1549.52 Q1845.53 1549.52 1843.26 1549.15 Q1841.01 1548.78 1838.61 1548.04 L1838.61 1543.34 Q1840.69 1544.47 1842.91 1545.03 Q1845.14 1545.58 1847.61 1545.58 Q1851.62 1545.58 1853.95 1543.48 Q1856.29 1541.37 1856.29 1537.76 Q1856.29 1534.15 1853.95 1532.04 Q1851.62 1529.94 1847.61 1529.94 Q1845.74 1529.94 1843.86 1530.35 Q1842.01 1530.77 1840.07 1531.65 L1840.07 1514.29 Z\" fill=\"#000000\" fill-rule=\"evenodd\" fill-opacity=\"1\" /><path clip-path=\"url(#clip570)\" d=\"M2246.87 1544.91 L2254.51 1544.91 L2254.51 1518.55 L2246.2 1520.21 L2246.2 1515.95 L2254.46 1514.29 L2259.14 1514.29 L2259.14 1544.91 L2266.78 1544.91 L2266.78 1548.85 L2246.87 1548.85 L2246.87 1544.91 Z\" fill=\"#000000\" fill-rule=\"evenodd\" fill-opacity=\"1\" /><path clip-path=\"url(#clip570)\" d=\"M2276.22 1542.97 L2281.11 1542.97 L2281.11 1548.85 L2276.22 1548.85 L2276.22 1542.97 Z\" fill=\"#000000\" fill-rule=\"evenodd\" fill-opacity=\"1\" /><path clip-path=\"url(#clip570)\" d=\"M2301.29 1517.37 Q2297.68 1517.37 2295.85 1520.93 Q2294.05 1524.47 2294.05 1531.6 Q2294.05 1538.71 2295.85 1542.27 Q2297.68 1545.82 2301.29 1545.82 Q2304.93 1545.82 2306.73 1542.27 Q2308.56 1538.71 2308.56 1531.6 Q2308.56 1524.47 2306.73 1520.93 Q2304.93 1517.37 2301.29 1517.37 M2301.29 1513.66 Q2307.1 1513.66 2310.16 1518.27 Q2313.24 1522.85 2313.24 1531.6 Q2313.24 1540.33 2310.16 1544.94 Q2307.1 1549.52 2301.29 1549.52 Q2295.48 1549.52 2292.4 1544.94 Q2289.35 1540.33 2289.35 1531.6 Q2289.35 1522.85 2292.4 1518.27 Q2295.48 1513.66 2301.29 1513.66 Z\" fill=\"#000000\" fill-rule=\"evenodd\" fill-opacity=\"1\" /><path clip-path=\"url(#clip570)\" d=\"M2331.45 1517.37 Q2327.84 1517.37 2326.01 1520.93 Q2324.21 1524.47 2324.21 1531.6 Q2324.21 1538.71 2326.01 1542.27 Q2327.84 1545.82 2331.45 1545.82 Q2335.09 1545.82 2336.89 1542.27 Q2338.72 1538.71 2338.72 1531.6 Q2338.72 1524.47 2336.89 1520.93 Q2335.09 1517.37 2331.45 1517.37 M2331.45 1513.66 Q2337.26 1513.66 2340.32 1518.27 Q2343.4 1522.85 2343.4 1531.6 Q2343.4 1540.33 2340.32 1544.94 Q2337.26 1549.52 2331.45 1549.52 Q2325.64 1549.52 2322.57 1544.94 Q2319.51 1540.33 2319.51 1531.6 Q2319.51 1522.85 2322.57 1518.27 Q2325.64 1513.66 2331.45 1513.66 Z\" fill=\"#000000\" fill-rule=\"evenodd\" fill-opacity=\"1\" /><polyline clip-path=\"url(#clip572)\" style=\"stroke:#000000; stroke-linecap:butt; stroke-linejoin:round; stroke-width:2; stroke-opacity:0.1; fill:none\" points=\"\n",
       "  304.947,1270.48 2352.76,1270.48 \n",
       "  \"/>\n",
       "<polyline clip-path=\"url(#clip572)\" style=\"stroke:#000000; stroke-linecap:butt; stroke-linejoin:round; stroke-width:2; stroke-opacity:0.1; fill:none\" points=\"\n",
       "  304.947,999.224 2352.76,999.224 \n",
       "  \"/>\n",
       "<polyline clip-path=\"url(#clip572)\" style=\"stroke:#000000; stroke-linecap:butt; stroke-linejoin:round; stroke-width:2; stroke-opacity:0.1; fill:none\" points=\"\n",
       "  304.947,727.966 2352.76,727.966 \n",
       "  \"/>\n",
       "<polyline clip-path=\"url(#clip572)\" style=\"stroke:#000000; stroke-linecap:butt; stroke-linejoin:round; stroke-width:2; stroke-opacity:0.1; fill:none\" points=\"\n",
       "  304.947,456.707 2352.76,456.707 \n",
       "  \"/>\n",
       "<polyline clip-path=\"url(#clip572)\" style=\"stroke:#000000; stroke-linecap:butt; stroke-linejoin:round; stroke-width:2; stroke-opacity:0.1; fill:none\" points=\"\n",
       "  304.947,185.449 2352.76,185.449 \n",
       "  \"/>\n",
       "<polyline clip-path=\"url(#clip570)\" style=\"stroke:#000000; stroke-linecap:butt; stroke-linejoin:round; stroke-width:4; stroke-opacity:1; fill:none\" points=\"\n",
       "  304.947,1486.45 304.947,47.2441 \n",
       "  \"/>\n",
       "<polyline clip-path=\"url(#clip570)\" style=\"stroke:#000000; stroke-linecap:butt; stroke-linejoin:round; stroke-width:4; stroke-opacity:1; fill:none\" points=\"\n",
       "  304.947,1270.48 323.844,1270.48 \n",
       "  \"/>\n",
       "<polyline clip-path=\"url(#clip570)\" style=\"stroke:#000000; stroke-linecap:butt; stroke-linejoin:round; stroke-width:4; stroke-opacity:1; fill:none\" points=\"\n",
       "  304.947,999.224 323.844,999.224 \n",
       "  \"/>\n",
       "<polyline clip-path=\"url(#clip570)\" style=\"stroke:#000000; stroke-linecap:butt; stroke-linejoin:round; stroke-width:4; stroke-opacity:1; fill:none\" points=\"\n",
       "  304.947,727.966 323.844,727.966 \n",
       "  \"/>\n",
       "<polyline clip-path=\"url(#clip570)\" style=\"stroke:#000000; stroke-linecap:butt; stroke-linejoin:round; stroke-width:4; stroke-opacity:1; fill:none\" points=\"\n",
       "  304.947,456.707 323.844,456.707 \n",
       "  \"/>\n",
       "<polyline clip-path=\"url(#clip570)\" style=\"stroke:#000000; stroke-linecap:butt; stroke-linejoin:round; stroke-width:4; stroke-opacity:1; fill:none\" points=\"\n",
       "  304.947,185.449 323.844,185.449 \n",
       "  \"/>\n",
       "<path clip-path=\"url(#clip570)\" d=\"M63.6541 1275.07 Q60.506 1275.07 58.6541 1277.22 Q56.8254 1279.37 56.8254 1283.12 Q56.8254 1286.85 58.6541 1289.03 Q60.506 1291.18 63.6541 1291.18 Q66.8022 1291.18 68.6309 1289.03 Q70.4828 1286.85 70.4828 1283.12 Q70.4828 1279.37 68.6309 1277.22 Q66.8022 1275.07 63.6541 1275.07 M72.9365 1260.41 L72.9365 1264.67 Q71.1772 1263.84 69.3717 1263.4 Q67.5893 1262.96 65.83 1262.96 Q61.2004 1262.96 58.7467 1266.09 Q56.3162 1269.21 55.969 1275.53 Q57.3347 1273.52 59.3949 1272.45 Q61.455 1271.36 63.9319 1271.36 Q69.1402 1271.36 72.1494 1274.53 Q75.1818 1277.68 75.1818 1283.12 Q75.1818 1288.45 72.0337 1291.66 Q68.8855 1294.88 63.6541 1294.88 Q57.6588 1294.88 54.4875 1290.3 Q51.3162 1285.69 51.3162 1276.96 Q51.3162 1268.77 55.2051 1263.91 Q59.0939 1259.03 65.6448 1259.03 Q67.4041 1259.03 69.1865 1259.37 Q70.992 1259.72 72.9365 1260.41 Z\" fill=\"#000000\" fill-rule=\"evenodd\" fill-opacity=\"1\" /><path clip-path=\"url(#clip570)\" d=\"M83.2373 1288.33 L88.1216 1288.33 L88.1216 1294.21 L83.2373 1294.21 L83.2373 1288.33 Z\" fill=\"#000000\" fill-rule=\"evenodd\" fill-opacity=\"1\" /><path clip-path=\"url(#clip570)\" d=\"M108.307 1262.73 Q104.696 1262.73 102.867 1266.29 Q101.061 1269.84 101.061 1276.96 Q101.061 1284.07 102.867 1287.64 Q104.696 1291.18 108.307 1291.18 Q111.941 1291.18 113.746 1287.64 Q115.575 1284.07 115.575 1276.96 Q115.575 1269.84 113.746 1266.29 Q111.941 1262.73 108.307 1262.73 M108.307 1259.03 Q114.117 1259.03 117.172 1263.63 Q120.251 1268.22 120.251 1276.96 Q120.251 1285.69 117.172 1290.3 Q114.117 1294.88 108.307 1294.88 Q102.496 1294.88 99.4178 1290.3 Q96.3623 1285.69 96.3623 1276.96 Q96.3623 1268.22 99.4178 1263.63 Q102.496 1259.03 108.307 1259.03 Z\" fill=\"#000000\" fill-rule=\"evenodd\" fill-opacity=\"1\" /><path clip-path=\"url(#clip570)\" d=\"M138.469 1262.73 Q134.857 1262.73 133.029 1266.29 Q131.223 1269.84 131.223 1276.96 Q131.223 1284.07 133.029 1287.64 Q134.857 1291.18 138.469 1291.18 Q142.103 1291.18 143.908 1287.64 Q145.737 1284.07 145.737 1276.96 Q145.737 1269.84 143.908 1266.29 Q142.103 1262.73 138.469 1262.73 M138.469 1259.03 Q144.279 1259.03 147.334 1263.63 Q150.413 1268.22 150.413 1276.96 Q150.413 1285.69 147.334 1290.3 Q144.279 1294.88 138.469 1294.88 Q132.658 1294.88 129.58 1290.3 Q126.524 1285.69 126.524 1276.96 Q126.524 1268.22 129.58 1263.63 Q132.658 1259.03 138.469 1259.03 Z\" fill=\"#000000\" fill-rule=\"evenodd\" fill-opacity=\"1\" /><path clip-path=\"url(#clip570)\" d=\"M186.802 1268.75 L176.223 1279.37 L186.802 1289.95 L184.047 1292.75 L173.422 1282.13 L162.797 1292.75 L160.066 1289.95 L170.621 1279.37 L160.066 1268.75 L162.797 1265.95 L173.422 1276.57 L184.047 1265.95 L186.802 1268.75 Z\" fill=\"#000000\" fill-rule=\"evenodd\" fill-opacity=\"1\" /><path clip-path=\"url(#clip570)\" d=\"M199.163 1290.28 L206.801 1290.28 L206.801 1263.91 L198.491 1265.58 L198.491 1261.32 L206.755 1259.65 L211.431 1259.65 L211.431 1290.28 L219.07 1290.28 L219.07 1294.21 L199.163 1294.21 L199.163 1290.28 Z\" fill=\"#000000\" fill-rule=\"evenodd\" fill-opacity=\"1\" /><path clip-path=\"url(#clip570)\" d=\"M238.514 1262.73 Q234.903 1262.73 233.074 1266.29 Q231.269 1269.84 231.269 1276.96 Q231.269 1284.07 233.074 1287.64 Q234.903 1291.18 238.514 1291.18 Q242.149 1291.18 243.954 1287.64 Q245.783 1284.07 245.783 1276.96 Q245.783 1269.84 243.954 1266.29 Q242.149 1262.73 238.514 1262.73 M238.514 1259.03 Q244.324 1259.03 247.38 1263.63 Q250.459 1268.22 250.459 1276.96 Q250.459 1285.69 247.38 1290.3 Q244.324 1294.88 238.514 1294.88 Q232.704 1294.88 229.625 1290.3 Q226.57 1285.69 226.57 1276.96 Q226.57 1268.22 229.625 1263.63 Q232.704 1259.03 238.514 1259.03 Z\" fill=\"#000000\" fill-rule=\"evenodd\" fill-opacity=\"1\" /><path clip-path=\"url(#clip570)\" d=\"M263.154 1251.66 Q265.881 1252.24 267.404 1254.09 Q268.947 1255.93 268.947 1258.64 Q268.947 1262.79 266.088 1265.07 Q263.229 1267.35 257.963 1267.35 Q256.195 1267.35 254.314 1266.99 Q252.452 1266.65 250.459 1265.95 L250.459 1262.29 Q252.039 1263.21 253.919 1263.68 Q255.8 1264.15 257.85 1264.15 Q261.424 1264.15 263.286 1262.74 Q265.166 1261.33 265.166 1258.64 Q265.166 1256.15 263.417 1254.76 Q261.687 1253.35 258.584 1253.35 L255.311 1253.35 L255.311 1250.23 L258.734 1250.23 Q261.536 1250.23 263.022 1249.12 Q264.508 1247.99 264.508 1245.89 Q264.508 1243.72 262.966 1242.58 Q261.442 1241.41 258.584 1241.41 Q257.023 1241.41 255.236 1241.75 Q253.449 1242.09 251.305 1242.8 L251.305 1239.42 Q253.468 1238.81 255.349 1238.51 Q257.248 1238.21 258.922 1238.21 Q263.248 1238.21 265.768 1240.19 Q268.288 1242.14 268.288 1245.49 Q268.288 1247.82 266.953 1249.44 Q265.618 1251.04 263.154 1251.66 Z\" fill=\"#000000\" fill-rule=\"evenodd\" fill-opacity=\"1\" /><path clip-path=\"url(#clip570)\" d=\"M53.2143 1022.23 L53.2143 1017.97 Q54.9736 1018.81 56.7791 1019.25 Q58.5847 1019.69 60.3208 1019.69 Q64.9504 1019.69 67.3809 1016.59 Q69.8346 1013.46 70.1818 1007.12 Q68.8393 1009.11 66.7791 1010.17 Q64.7189 1011.24 62.2189 1011.24 Q57.0338 1011.24 54.0014 1008.11 Q50.9921 1004.97 50.9921 999.526 Q50.9921 994.202 54.1403 990.984 Q57.2884 987.767 62.5198 987.767 Q68.5152 987.767 71.6633 992.373 Q74.8346 996.957 74.8346 1005.71 Q74.8346 1013.88 70.9457 1018.76 Q67.08 1023.62 60.5291 1023.62 Q58.7699 1023.62 56.9643 1023.28 Q55.1588 1022.93 53.2143 1022.23 M62.5198 1007.58 Q65.668 1007.58 67.4967 1005.43 Q69.3485 1003.28 69.3485 999.526 Q69.3485 995.799 67.4967 993.646 Q65.668 991.47 62.5198 991.47 Q59.3717 991.47 57.5199 993.646 Q55.6912 995.799 55.6912 999.526 Q55.6912 1003.28 57.5199 1005.43 Q59.3717 1007.58 62.5198 1007.58 Z\" fill=\"#000000\" fill-rule=\"evenodd\" fill-opacity=\"1\" /><path clip-path=\"url(#clip570)\" d=\"M83.2373 1017.07 L88.1216 1017.07 L88.1216 1022.95 L83.2373 1022.95 L83.2373 1017.07 Z\" fill=\"#000000\" fill-rule=\"evenodd\" fill-opacity=\"1\" /><path clip-path=\"url(#clip570)\" d=\"M108.307 991.47 Q104.696 991.47 102.867 995.035 Q101.061 998.577 101.061 1005.71 Q101.061 1012.81 102.867 1016.38 Q104.696 1019.92 108.307 1019.92 Q111.941 1019.92 113.746 1016.38 Q115.575 1012.81 115.575 1005.71 Q115.575 998.577 113.746 995.035 Q111.941 991.47 108.307 991.47 M108.307 987.767 Q114.117 987.767 117.172 992.373 Q120.251 996.957 120.251 1005.71 Q120.251 1014.43 117.172 1019.04 Q114.117 1023.62 108.307 1023.62 Q102.496 1023.62 99.4178 1019.04 Q96.3623 1014.43 96.3623 1005.71 Q96.3623 996.957 99.4178 992.373 Q102.496 987.767 108.307 987.767 Z\" fill=\"#000000\" fill-rule=\"evenodd\" fill-opacity=\"1\" /><path clip-path=\"url(#clip570)\" d=\"M138.469 991.47 Q134.857 991.47 133.029 995.035 Q131.223 998.577 131.223 1005.71 Q131.223 1012.81 133.029 1016.38 Q134.857 1019.92 138.469 1019.92 Q142.103 1019.92 143.908 1016.38 Q145.737 1012.81 145.737 1005.71 Q145.737 998.577 143.908 995.035 Q142.103 991.47 138.469 991.47 M138.469 987.767 Q144.279 987.767 147.334 992.373 Q150.413 996.957 150.413 1005.71 Q150.413 1014.43 147.334 1019.04 Q144.279 1023.62 138.469 1023.62 Q132.658 1023.62 129.58 1019.04 Q126.524 1014.43 126.524 1005.71 Q126.524 996.957 129.58 992.373 Q132.658 987.767 138.469 987.767 Z\" fill=\"#000000\" fill-rule=\"evenodd\" fill-opacity=\"1\" /><path clip-path=\"url(#clip570)\" d=\"M186.802 997.489 L176.223 1008.11 L186.802 1018.69 L184.047 1021.49 L173.422 1010.87 L162.797 1021.49 L160.066 1018.69 L170.621 1008.11 L160.066 997.489 L162.797 994.688 L173.422 1005.31 L184.047 994.688 L186.802 997.489 Z\" fill=\"#000000\" fill-rule=\"evenodd\" fill-opacity=\"1\" /><path clip-path=\"url(#clip570)\" d=\"M199.163 1019.02 L206.801 1019.02 L206.801 992.651 L198.491 994.318 L198.491 990.058 L206.755 988.392 L211.431 988.392 L211.431 1019.02 L219.07 1019.02 L219.07 1022.95 L199.163 1022.95 L199.163 1019.02 Z\" fill=\"#000000\" fill-rule=\"evenodd\" fill-opacity=\"1\" /><path clip-path=\"url(#clip570)\" d=\"M238.514 991.47 Q234.903 991.47 233.074 995.035 Q231.269 998.577 231.269 1005.71 Q231.269 1012.81 233.074 1016.38 Q234.903 1019.92 238.514 1019.92 Q242.149 1019.92 243.954 1016.38 Q245.783 1012.81 245.783 1005.71 Q245.783 998.577 243.954 995.035 Q242.149 991.47 238.514 991.47 M238.514 987.767 Q244.324 987.767 247.38 992.373 Q250.459 996.957 250.459 1005.71 Q250.459 1014.43 247.38 1019.04 Q244.324 1023.62 238.514 1023.62 Q232.704 1023.62 229.625 1019.04 Q226.57 1014.43 226.57 1005.71 Q226.57 996.957 229.625 992.373 Q232.704 987.767 238.514 987.767 Z\" fill=\"#000000\" fill-rule=\"evenodd\" fill-opacity=\"1\" /><path clip-path=\"url(#clip570)\" d=\"M263.154 980.401 Q265.881 980.984 267.404 982.827 Q268.947 984.67 268.947 987.379 Q268.947 991.535 266.088 993.811 Q263.229 996.087 257.963 996.087 Q256.195 996.087 254.314 995.729 Q252.452 995.391 250.459 994.695 L250.459 991.027 Q252.039 991.949 253.919 992.419 Q255.8 992.889 257.85 992.889 Q261.424 992.889 263.286 991.479 Q265.166 990.068 265.166 987.379 Q265.166 984.896 263.417 983.504 Q261.687 982.094 258.584 982.094 L255.311 982.094 L255.311 978.972 L258.734 978.972 Q261.536 978.972 263.022 977.862 Q264.508 976.734 264.508 974.627 Q264.508 972.464 262.966 971.317 Q261.442 970.151 258.584 970.151 Q257.023 970.151 255.236 970.489 Q253.449 970.828 251.305 971.543 L251.305 968.157 Q253.468 967.555 255.349 967.254 Q257.248 966.954 258.922 966.954 Q263.248 966.954 265.768 968.928 Q268.288 970.884 268.288 974.232 Q268.288 976.564 266.953 978.182 Q265.618 979.78 263.154 980.401 Z\" fill=\"#000000\" fill-rule=\"evenodd\" fill-opacity=\"1\" /><path clip-path=\"url(#clip570)\" d=\"M51.9108 747.758 L59.5497 747.758 L59.5497 721.392 L51.2395 723.059 L51.2395 718.8 L59.5034 717.133 L64.1793 717.133 L64.1793 747.758 L71.8181 747.758 L71.8181 751.693 L51.9108 751.693 L51.9108 747.758 Z\" fill=\"#000000\" fill-rule=\"evenodd\" fill-opacity=\"1\" /><path clip-path=\"url(#clip570)\" d=\"M81.2625 745.814 L86.1467 745.814 L86.1467 751.693 L81.2625 751.693 L81.2625 745.814 Z\" fill=\"#000000\" fill-rule=\"evenodd\" fill-opacity=\"1\" /><path clip-path=\"url(#clip570)\" d=\"M100.36 747.758 L116.679 747.758 L116.679 751.693 L94.7347 751.693 L94.7347 747.758 Q97.3967 745.003 101.98 740.374 Q106.586 735.721 107.767 734.378 Q110.012 731.855 110.892 730.119 Q111.795 728.36 111.795 726.67 Q111.795 723.916 109.85 722.179 Q107.929 720.443 104.827 720.443 Q102.628 720.443 100.174 721.207 Q97.7439 721.971 94.9661 723.522 L94.9661 718.8 Q97.7902 717.666 100.244 717.087 Q102.698 716.508 104.735 716.508 Q110.105 716.508 113.299 719.193 Q116.494 721.879 116.494 726.369 Q116.494 728.499 115.684 730.42 Q114.897 732.318 112.79 734.911 Q112.211 735.582 109.11 738.8 Q106.008 741.994 100.36 747.758 Z\" fill=\"#000000\" fill-rule=\"evenodd\" fill-opacity=\"1\" /><path clip-path=\"url(#clip570)\" d=\"M136.494 720.212 Q132.883 720.212 131.054 723.777 Q129.248 727.318 129.248 734.448 Q129.248 741.554 131.054 745.119 Q132.883 748.661 136.494 748.661 Q140.128 748.661 141.933 745.119 Q143.762 741.554 143.762 734.448 Q143.762 727.318 141.933 723.777 Q140.128 720.212 136.494 720.212 M136.494 716.508 Q142.304 716.508 145.359 721.115 Q148.438 725.698 148.438 734.448 Q148.438 743.175 145.359 747.781 Q142.304 752.364 136.494 752.364 Q130.684 752.364 127.605 747.781 Q124.549 743.175 124.549 734.448 Q124.549 725.698 127.605 721.115 Q130.684 716.508 136.494 716.508 Z\" fill=\"#000000\" fill-rule=\"evenodd\" fill-opacity=\"1\" /><path clip-path=\"url(#clip570)\" d=\"M184.827 726.23 L174.248 736.855 L184.827 747.434 L182.072 750.235 L171.447 739.61 L160.822 750.235 L158.091 747.434 L168.646 736.855 L158.091 726.23 L160.822 723.429 L171.447 734.054 L182.072 723.429 L184.827 726.23 Z\" fill=\"#000000\" fill-rule=\"evenodd\" fill-opacity=\"1\" /><path clip-path=\"url(#clip570)\" d=\"M197.188 747.758 L204.827 747.758 L204.827 721.392 L196.517 723.059 L196.517 718.8 L204.78 717.133 L209.456 717.133 L209.456 747.758 L217.095 747.758 L217.095 751.693 L197.188 751.693 L197.188 747.758 Z\" fill=\"#000000\" fill-rule=\"evenodd\" fill-opacity=\"1\" /><path clip-path=\"url(#clip570)\" d=\"M236.539 720.212 Q232.928 720.212 231.1 723.777 Q229.294 727.318 229.294 734.448 Q229.294 741.554 231.1 745.119 Q232.928 748.661 236.539 748.661 Q240.174 748.661 241.979 745.119 Q243.808 741.554 243.808 734.448 Q243.808 727.318 241.979 723.777 Q240.174 720.212 236.539 720.212 M236.539 716.508 Q242.35 716.508 245.405 721.115 Q248.484 725.698 248.484 734.448 Q248.484 743.175 245.405 747.781 Q242.35 752.364 236.539 752.364 Q230.729 752.364 227.651 747.781 Q224.595 743.175 224.595 734.448 Q224.595 725.698 227.651 721.115 Q230.729 716.508 236.539 716.508 Z\" fill=\"#000000\" fill-rule=\"evenodd\" fill-opacity=\"1\" /><path clip-path=\"url(#clip570)\" d=\"M261.16 699.513 L251.568 714.503 L261.16 714.503 L261.16 699.513 M260.163 696.203 L264.941 696.203 L264.941 714.503 L268.947 714.503 L268.947 717.662 L264.941 717.662 L264.941 724.283 L261.16 724.283 L261.16 717.662 L248.484 717.662 L248.484 713.995 L260.163 696.203 Z\" fill=\"#000000\" fill-rule=\"evenodd\" fill-opacity=\"1\" /><path clip-path=\"url(#clip570)\" d=\"M51.9108 476.499 L59.5497 476.499 L59.5497 450.134 L51.2395 451.801 L51.2395 447.541 L59.5034 445.875 L64.1793 445.875 L64.1793 476.499 L71.8181 476.499 L71.8181 480.435 L51.9108 480.435 L51.9108 476.499 Z\" fill=\"#000000\" fill-rule=\"evenodd\" fill-opacity=\"1\" /><path clip-path=\"url(#clip570)\" d=\"M81.2625 474.555 L86.1467 474.555 L86.1467 480.435 L81.2625 480.435 L81.2625 474.555 Z\" fill=\"#000000\" fill-rule=\"evenodd\" fill-opacity=\"1\" /><path clip-path=\"url(#clip570)\" d=\"M96.3782 445.875 L114.735 445.875 L114.735 449.81 L100.661 449.81 L100.661 458.282 Q101.679 457.935 102.698 457.773 Q103.716 457.588 104.735 457.588 Q110.522 457.588 113.901 460.759 Q117.281 463.93 117.281 469.347 Q117.281 474.925 113.809 478.027 Q110.336 481.106 104.017 481.106 Q101.841 481.106 99.5726 480.736 Q97.3272 480.365 94.9198 479.624 L94.9198 474.925 Q97.0032 476.06 99.2254 476.615 Q101.448 477.171 103.924 477.171 Q107.929 477.171 110.267 475.064 Q112.605 472.958 112.605 469.347 Q112.605 465.736 110.267 463.629 Q107.929 461.523 103.924 461.523 Q102.049 461.523 100.174 461.939 Q98.3226 462.356 96.3782 463.236 L96.3782 445.875 Z\" fill=\"#000000\" fill-rule=\"evenodd\" fill-opacity=\"1\" /><path clip-path=\"url(#clip570)\" d=\"M136.494 448.953 Q132.883 448.953 131.054 452.518 Q129.248 456.06 129.248 463.189 Q129.248 470.296 131.054 473.861 Q132.883 477.402 136.494 477.402 Q140.128 477.402 141.933 473.861 Q143.762 470.296 143.762 463.189 Q143.762 456.06 141.933 452.518 Q140.128 448.953 136.494 448.953 M136.494 445.25 Q142.304 445.25 145.359 449.856 Q148.438 454.439 148.438 463.189 Q148.438 471.916 145.359 476.523 Q142.304 481.106 136.494 481.106 Q130.684 481.106 127.605 476.523 Q124.549 471.916 124.549 463.189 Q124.549 454.439 127.605 449.856 Q130.684 445.25 136.494 445.25 Z\" fill=\"#000000\" fill-rule=\"evenodd\" fill-opacity=\"1\" /><path clip-path=\"url(#clip570)\" d=\"M184.827 454.972 L174.248 465.597 L184.827 476.175 L182.072 478.976 L171.447 468.351 L160.822 478.976 L158.091 476.175 L168.646 465.597 L158.091 454.972 L160.822 452.171 L171.447 462.796 L182.072 452.171 L184.827 454.972 Z\" fill=\"#000000\" fill-rule=\"evenodd\" fill-opacity=\"1\" /><path clip-path=\"url(#clip570)\" d=\"M197.188 476.499 L204.827 476.499 L204.827 450.134 L196.517 451.801 L196.517 447.541 L204.78 445.875 L209.456 445.875 L209.456 476.499 L217.095 476.499 L217.095 480.435 L197.188 480.435 L197.188 476.499 Z\" fill=\"#000000\" fill-rule=\"evenodd\" fill-opacity=\"1\" /><path clip-path=\"url(#clip570)\" d=\"M236.539 448.953 Q232.928 448.953 231.1 452.518 Q229.294 456.06 229.294 463.189 Q229.294 470.296 231.1 473.861 Q232.928 477.402 236.539 477.402 Q240.174 477.402 241.979 473.861 Q243.808 470.296 243.808 463.189 Q243.808 456.06 241.979 452.518 Q240.174 448.953 236.539 448.953 M236.539 445.25 Q242.35 445.25 245.405 449.856 Q248.484 454.439 248.484 463.189 Q248.484 471.916 245.405 476.523 Q242.35 481.106 236.539 481.106 Q230.729 481.106 227.651 476.523 Q224.595 471.916 224.595 463.189 Q224.595 454.439 227.651 449.856 Q230.729 445.25 236.539 445.25 Z\" fill=\"#000000\" fill-rule=\"evenodd\" fill-opacity=\"1\" /><path clip-path=\"url(#clip570)\" d=\"M261.16 428.254 L251.568 443.244 L261.16 443.244 L261.16 428.254 M260.163 424.944 L264.941 424.944 L264.941 443.244 L268.947 443.244 L268.947 446.404 L264.941 446.404 L264.941 453.024 L261.16 453.024 L261.16 446.404 L248.484 446.404 L248.484 442.736 L260.163 424.944 Z\" fill=\"#000000\" fill-rule=\"evenodd\" fill-opacity=\"1\" /><path clip-path=\"url(#clip570)\" d=\"M51.9108 205.241 L59.5497 205.241 L59.5497 178.875 L51.2395 180.542 L51.2395 176.283 L59.5034 174.616 L64.1793 174.616 L64.1793 205.241 L71.8181 205.241 L71.8181 209.176 L51.9108 209.176 L51.9108 205.241 Z\" fill=\"#000000\" fill-rule=\"evenodd\" fill-opacity=\"1\" /><path clip-path=\"url(#clip570)\" d=\"M81.2625 203.297 L86.1467 203.297 L86.1467 209.176 L81.2625 209.176 L81.2625 203.297 Z\" fill=\"#000000\" fill-rule=\"evenodd\" fill-opacity=\"1\" /><path clip-path=\"url(#clip570)\" d=\"M106.332 192.764 Q102.999 192.764 101.077 194.547 Q99.1791 196.329 99.1791 199.454 Q99.1791 202.579 101.077 204.361 Q102.999 206.144 106.332 206.144 Q109.665 206.144 111.586 204.361 Q113.508 202.556 113.508 199.454 Q113.508 196.329 111.586 194.547 Q109.688 192.764 106.332 192.764 M101.656 190.773 Q98.6467 190.033 96.9569 187.973 Q95.2902 185.912 95.2902 182.949 Q95.2902 178.806 98.23 176.399 Q101.193 173.991 106.332 173.991 Q111.494 173.991 114.434 176.399 Q117.373 178.806 117.373 182.949 Q117.373 185.912 115.684 187.973 Q114.017 190.033 111.031 190.773 Q114.41 191.56 116.285 193.852 Q118.184 196.144 118.184 199.454 Q118.184 204.477 115.105 207.162 Q112.049 209.847 106.332 209.847 Q100.614 209.847 97.5356 207.162 Q94.48 204.477 94.48 199.454 Q94.48 196.144 96.3782 193.852 Q98.2763 191.56 101.656 190.773 M99.943 183.389 Q99.943 186.074 101.61 187.579 Q103.299 189.084 106.332 189.084 Q109.341 189.084 111.031 187.579 Q112.744 186.074 112.744 183.389 Q112.744 180.704 111.031 179.199 Q109.341 177.695 106.332 177.695 Q103.299 177.695 101.61 179.199 Q99.943 180.704 99.943 183.389 Z\" fill=\"#000000\" fill-rule=\"evenodd\" fill-opacity=\"1\" /><path clip-path=\"url(#clip570)\" d=\"M136.494 177.695 Q132.883 177.695 131.054 181.26 Q129.248 184.801 129.248 191.931 Q129.248 199.037 131.054 202.602 Q132.883 206.144 136.494 206.144 Q140.128 206.144 141.933 202.602 Q143.762 199.037 143.762 191.931 Q143.762 184.801 141.933 181.26 Q140.128 177.695 136.494 177.695 M136.494 173.991 Q142.304 173.991 145.359 178.598 Q148.438 183.181 148.438 191.931 Q148.438 200.658 145.359 205.264 Q142.304 209.847 136.494 209.847 Q130.684 209.847 127.605 205.264 Q124.549 200.658 124.549 191.931 Q124.549 183.181 127.605 178.598 Q130.684 173.991 136.494 173.991 Z\" fill=\"#000000\" fill-rule=\"evenodd\" fill-opacity=\"1\" /><path clip-path=\"url(#clip570)\" d=\"M184.827 183.713 L174.248 194.338 L184.827 204.917 L182.072 207.718 L171.447 197.093 L160.822 207.718 L158.091 204.917 L168.646 194.338 L158.091 183.713 L160.822 180.912 L171.447 191.537 L182.072 180.912 L184.827 183.713 Z\" fill=\"#000000\" fill-rule=\"evenodd\" fill-opacity=\"1\" /><path clip-path=\"url(#clip570)\" d=\"M197.188 205.241 L204.827 205.241 L204.827 178.875 L196.517 180.542 L196.517 176.283 L204.78 174.616 L209.456 174.616 L209.456 205.241 L217.095 205.241 L217.095 209.176 L197.188 209.176 L197.188 205.241 Z\" fill=\"#000000\" fill-rule=\"evenodd\" fill-opacity=\"1\" /><path clip-path=\"url(#clip570)\" d=\"M236.539 177.695 Q232.928 177.695 231.1 181.26 Q229.294 184.801 229.294 191.931 Q229.294 199.037 231.1 202.602 Q232.928 206.144 236.539 206.144 Q240.174 206.144 241.979 202.602 Q243.808 199.037 243.808 191.931 Q243.808 184.801 241.979 181.26 Q240.174 177.695 236.539 177.695 M236.539 173.991 Q242.35 173.991 245.405 178.598 Q248.484 183.181 248.484 191.931 Q248.484 200.658 245.405 205.264 Q242.35 209.847 236.539 209.847 Q230.729 209.847 227.651 205.264 Q224.595 200.658 224.595 191.931 Q224.595 183.181 227.651 178.598 Q230.729 173.991 236.539 173.991 Z\" fill=\"#000000\" fill-rule=\"evenodd\" fill-opacity=\"1\" /><path clip-path=\"url(#clip570)\" d=\"M261.16 156.996 L251.568 171.986 L261.16 171.986 L261.16 156.996 M260.163 153.686 L264.941 153.686 L264.941 171.986 L268.947 171.986 L268.947 175.145 L264.941 175.145 L264.941 181.766 L261.16 181.766 L261.16 175.145 L248.484 175.145 L248.484 171.478 L260.163 153.686 Z\" fill=\"#000000\" fill-rule=\"evenodd\" fill-opacity=\"1\" /><polyline clip-path=\"url(#clip572)\" style=\"stroke:#009af9; stroke-linecap:butt; stroke-linejoin:round; stroke-width:4; stroke-opacity:1; fill:none\" points=\"\n",
       "  362.904,1107.37 459.498,1185.49 556.093,1250.23 652.688,1315.15 749.283,1366.15 845.877,1407.92 942.472,1433.96 1039.07,1445.72 1135.66,1444.81 1232.26,1418.41 \n",
       "  1328.85,1380.61 1425.45,1297.79 1522.04,1205.38 1618.64,1122.38 1715.23,998.501 1811.83,858.712 1908.42,739.901 2005.01,598.485 2101.61,463.941 2198.2,256.88 \n",
       "  2294.8,87.9763 \n",
       "  \"/>\n",
       "<path clip-path=\"url(#clip570)\" d=\"\n",
       "M2004.53 198.898 L2284.5 198.898 L2284.5 95.2176 L2004.53 95.2176  Z\n",
       "  \" fill=\"#ffffff\" fill-rule=\"evenodd\" fill-opacity=\"1\"/>\n",
       "<polyline clip-path=\"url(#clip570)\" style=\"stroke:#000000; stroke-linecap:butt; stroke-linejoin:round; stroke-width:4; stroke-opacity:1; fill:none\" points=\"\n",
       "  2004.53,198.898 2284.5,198.898 2284.5,95.2176 2004.53,95.2176 2004.53,198.898 \n",
       "  \"/>\n",
       "<polyline clip-path=\"url(#clip570)\" style=\"stroke:#009af9; stroke-linecap:butt; stroke-linejoin:round; stroke-width:4; stroke-opacity:1; fill:none\" points=\"\n",
       "  2027.28,147.058 2163.81,147.058 \n",
       "  \"/>\n",
       "<path clip-path=\"url(#clip570)\" d=\"M2200.4 166.745 Q2198.6 171.375 2196.88 172.787 Q2195.17 174.199 2192.3 174.199 L2188.9 174.199 L2188.9 170.634 L2191.4 170.634 Q2193.16 170.634 2194.13 169.8 Q2195.1 168.967 2196.28 165.865 L2197.04 163.921 L2186.56 138.412 L2191.07 138.412 L2199.17 158.689 L2207.28 138.412 L2211.79 138.412 L2200.4 166.745 Z\" fill=\"#000000\" fill-rule=\"evenodd\" fill-opacity=\"1\" /><path clip-path=\"url(#clip570)\" d=\"M2219.08 160.402 L2226.72 160.402 L2226.72 134.037 L2218.41 135.703 L2218.41 131.444 L2226.67 129.778 L2231.35 129.778 L2231.35 160.402 L2238.99 160.402 L2238.99 164.338 L2219.08 164.338 L2219.08 160.402 Z\" fill=\"#000000\" fill-rule=\"evenodd\" fill-opacity=\"1\" /></svg>\n"
      ]
     },
     "metadata": {},
     "output_type": "display_data"
    }
   ],
   "source": [
    "display(probs[difs .== minimum(difs)])\n",
    "plot(probs, difs)\n"
   ]
  },
  {
   "cell_type": "code",
   "execution_count": 278,
   "metadata": {},
   "outputs": [],
   "source": [
    "probs = [0.:0.05:1...]\n",
    "difs = zeros(size(probs))\n",
    "\n",
    "for (i, prob) in enumerate(probs)\n",
    "    difs[i] = calc_difs_only_numT(prob; repetitions = 100)\n",
    "end"
   ]
  },
  {
   "cell_type": "code",
   "execution_count": 279,
   "metadata": {},
   "outputs": [
    {
     "data": {
      "text/plain": [
       "1-element Vector{Float64}:\n",
       " 0.4"
      ]
     },
     "metadata": {},
     "output_type": "display_data"
    },
    {
     "data": {
      "image/png": "[encoded data removed]",
      "image/svg+xml": "<?xml version=\"1.0\" encoding=\"utf-8\"?>\n<svg xmlns=\"http://www.w3.org/2000/svg\" xmlns:xlink=\"http://www.w3.org/1999/xlink\" width=\"600\" height=\"400\" viewBox=\"0 0 2400 1600\">\n<defs>\n  <clipPath id=\"clip610\">\n    <rect x=\"0\" y=\"0\" width=\"2400\" height=\"1600\"/>\n  </clipPath>\n</defs>\n<path clip-path=\"url(#clip610)\" d=\"\nM0 1600 L2400 1600 L2400 0 L0 0  Z\n  \" fill=\"#ffffff\" fill-rule=\"evenodd\" fill-opacity=\"1\"/>\n<defs>\n  <clipPath id=\"clip611\">\n    <rect x=\"480\" y=\"0\" width=\"1681\" height=\"1600\"/>\n  </clipPath>\n</defs>\n<path clip-path=\"url(#clip610)\" d=\"\nM202.177 1486.45 L2352.76 1486.45 L2352.76 47.2441 L202.177 47.2441  Z\n  \" fill=\"#ffffff\" fill-rule=\"evenodd\" fill-opacity=\"1\"/>\n<defs>\n  <clipPath id=\"clip612\">\n    <rect x=\"202\" y=\"47\" width=\"2152\" height=\"1440\"/>\n  </clipPath>\n</defs>\n<polyline clip-path=\"url(#clip612)\" style=\"stroke:#000000; stroke-linecap:butt; stroke-linejoin:round; stroke-width:2; stroke-opacity:0.1; fill:none\" points=\"\n  263.042,1486.45 263.042,47.2441 \n  \"/>\n<polyline clip-path=\"url(#clip612)\" style=\"stroke:#000000; stroke-linecap:butt; stroke-linejoin:round; stroke-width:2; stroke-opacity:0.1; fill:none\" points=\"\n  770.254,1486.45 770.254,47.2441 \n  \"/>\n<polyline clip-path=\"url(#clip612)\" style=\"stroke:#000000; stroke-linecap:butt; stroke-linejoin:round; stroke-width:2; stroke-opacity:0.1; fill:none\" points=\"\n  1277.47,1486.45 1277.47,47.2441 \n  \"/>\n<polyline clip-path=\"url(#clip612)\" style=\"stroke:#000000; stroke-linecap:butt; stroke-linejoin:round; stroke-width:2; stroke-opacity:0.1; fill:none\" points=\"\n  1784.68,1486.45 1784.68,47.2441 \n  \"/>\n<polyline clip-path=\"url(#clip612)\" style=\"stroke:#000000; stroke-linecap:butt; stroke-linejoin:round; stroke-width:2; stroke-opacity:0.1; fill:none\" points=\"\n  2291.89,1486.45 2291.89,47.2441 \n  \"/>\n<polyline clip-path=\"url(#clip610)\" style=\"stroke:#000000; stroke-linecap:butt; stroke-linejoin:round; stroke-width:4; stroke-opacity:1; fill:none\" points=\"\n  202.177,1486.45 2352.76,1486.45 \n  \"/>\n<polyline clip-path=\"url(#clip610)\" style=\"stroke:#000000; stroke-linecap:butt; stroke-linejoin:round; stroke-width:4; stroke-opacity:1; fill:none\" points=\"\n  263.042,1486.45 263.042,1467.55 \n  \"/>\n<polyline clip-path=\"url(#clip610)\" style=\"stroke:#000000; stroke-linecap:butt; stroke-linejoin:round; stroke-width:4; stroke-opacity:1; fill:none\" points=\"\n  770.254,1486.45 770.254,1467.55 \n  \"/>\n<polyline clip-path=\"url(#clip610)\" style=\"stroke:#000000; stroke-linecap:butt; stroke-linejoin:round; stroke-width:4; stroke-opacity:1; fill:none\" points=\"\n  1277.47,1486.45 1277.47,1467.55 \n  \"/>\n<polyline clip-path=\"url(#clip610)\" style=\"stroke:#000000; stroke-linecap:butt; stroke-linejoin:round; stroke-width:4; stroke-opacity:1; fill:none\" points=\"\n  1784.68,1486.45 1784.68,1467.55 \n  \"/>\n<polyline clip-path=\"url(#clip610)\" style=\"stroke:#000000; stroke-linecap:butt; stroke-linejoin:round; stroke-width:4; stroke-opacity:1; fill:none\" points=\"\n  2291.89,1486.45 2291.89,1467.55 \n  \"/>\n<path clip-path=\"url(#clip610)\" d=\"M225.346 1517.37 Q221.734 1517.37 219.906 1520.93 Q218.1 1524.47 218.1 1531.6 Q218.1 1538.71 219.906 1542.27 Q221.734 1545.82 225.346 1545.82 Q228.98 1545.82 230.785 1542.27 Q232.614 1538.71 232.614 1531.6 Q232.614 1524.47 230.785 1520.93 Q228.98 1517.37 225.346 1517.37 M225.346 1513.66 Q231.156 1513.66 234.211 1518.27 Q237.29 1522.85 237.29 1531.6 Q237.29 1540.33 234.211 1544.94 Q231.156 1549.52 225.346 1549.52 Q219.535 1549.52 216.457 1544.94 Q213.401 1540.33 213.401 1531.6 Q213.401 1522.85 216.457 1518.27 Q219.535 1513.66 225.346 1513.66 Z\" fill=\"#000000\" fill-rule=\"evenodd\" fill-opacity=\"1\" /><path clip-path=\"url(#clip610)\" d=\"M245.508 1542.97 L250.392 1542.97 L250.392 1548.85 L245.508 1548.85 L245.508 1542.97 Z\" fill=\"#000000\" fill-rule=\"evenodd\" fill-opacity=\"1\" /><path clip-path=\"url(#clip610)\" d=\"M270.577 1517.37 Q266.966 1517.37 265.137 1520.93 Q263.331 1524.47 263.331 1531.6 Q263.331 1538.71 265.137 1542.27 Q266.966 1545.82 270.577 1545.82 Q274.211 1545.82 276.017 1542.27 Q277.845 1538.71 277.845 1531.6 Q277.845 1524.47 276.017 1520.93 Q274.211 1517.37 270.577 1517.37 M270.577 1513.66 Q276.387 1513.66 279.443 1518.27 Q282.521 1522.85 282.521 1531.6 Q282.521 1540.33 279.443 1544.94 Q276.387 1549.52 270.577 1549.52 Q264.767 1549.52 261.688 1544.94 Q258.632 1540.33 258.632 1531.6 Q258.632 1522.85 261.688 1518.27 Q264.767 1513.66 270.577 1513.66 Z\" fill=\"#000000\" fill-rule=\"evenodd\" fill-opacity=\"1\" /><path clip-path=\"url(#clip610)\" d=\"M300.739 1517.37 Q297.128 1517.37 295.299 1520.93 Q293.493 1524.47 293.493 1531.6 Q293.493 1538.71 295.299 1542.27 Q297.128 1545.82 300.739 1545.82 Q304.373 1545.82 306.178 1542.27 Q308.007 1538.71 308.007 1531.6 Q308.007 1524.47 306.178 1520.93 Q304.373 1517.37 300.739 1517.37 M300.739 1513.66 Q306.549 1513.66 309.604 1518.27 Q312.683 1522.85 312.683 1531.6 Q312.683 1540.33 309.604 1544.94 Q306.549 1549.52 300.739 1549.52 Q294.929 1549.52 291.85 1544.94 Q288.794 1540.33 288.794 1531.6 Q288.794 1522.85 291.85 1518.27 Q294.929 1513.66 300.739 1513.66 Z\" fill=\"#000000\" fill-rule=\"evenodd\" fill-opacity=\"1\" /><path clip-path=\"url(#clip610)\" d=\"M733.055 1517.37 Q729.444 1517.37 727.616 1520.93 Q725.81 1524.47 725.81 1531.6 Q725.81 1538.71 727.616 1542.27 Q729.444 1545.82 733.055 1545.82 Q736.69 1545.82 738.495 1542.27 Q740.324 1538.71 740.324 1531.6 Q740.324 1524.47 738.495 1520.93 Q736.69 1517.37 733.055 1517.37 M733.055 1513.66 Q738.866 1513.66 741.921 1518.27 Q745 1522.85 745 1531.6 Q745 1540.33 741.921 1544.94 Q738.866 1549.52 733.055 1549.52 Q727.245 1549.52 724.167 1544.94 Q721.111 1540.33 721.111 1531.6 Q721.111 1522.85 724.167 1518.27 Q727.245 1513.66 733.055 1513.66 Z\" fill=\"#000000\" fill-rule=\"evenodd\" fill-opacity=\"1\" /><path clip-path=\"url(#clip610)\" d=\"M753.217 1542.97 L758.102 1542.97 L758.102 1548.85 L753.217 1548.85 L753.217 1542.97 Z\" fill=\"#000000\" fill-rule=\"evenodd\" fill-opacity=\"1\" /><path clip-path=\"url(#clip610)\" d=\"M772.314 1544.91 L788.634 1544.91 L788.634 1548.85 L766.689 1548.85 L766.689 1544.91 Q769.351 1542.16 773.935 1537.53 Q778.541 1532.88 779.722 1531.53 Q781.967 1529.01 782.847 1527.27 Q783.75 1525.51 783.75 1523.82 Q783.75 1521.07 781.805 1519.33 Q779.884 1517.6 776.782 1517.6 Q774.583 1517.6 772.129 1518.36 Q769.699 1519.13 766.921 1520.68 L766.921 1515.95 Q769.745 1514.82 772.199 1514.24 Q774.652 1513.66 776.689 1513.66 Q782.06 1513.66 785.254 1516.35 Q788.449 1519.03 788.449 1523.52 Q788.449 1525.65 787.638 1527.57 Q786.851 1529.47 784.745 1532.07 Q784.166 1532.74 781.064 1535.95 Q777.963 1539.15 772.314 1544.91 Z\" fill=\"#000000\" fill-rule=\"evenodd\" fill-opacity=\"1\" /><path clip-path=\"url(#clip610)\" d=\"M798.495 1514.29 L816.851 1514.29 L816.851 1518.22 L802.777 1518.22 L802.777 1526.7 Q803.796 1526.35 804.814 1526.19 Q805.833 1526 806.851 1526 Q812.638 1526 816.018 1529.17 Q819.397 1532.34 819.397 1537.76 Q819.397 1543.34 815.925 1546.44 Q812.453 1549.52 806.134 1549.52 Q803.958 1549.52 801.689 1549.15 Q799.444 1548.78 797.036 1548.04 L797.036 1543.34 Q799.12 1544.47 801.342 1545.03 Q803.564 1545.58 806.041 1545.58 Q810.046 1545.58 812.384 1543.48 Q814.722 1541.37 814.722 1537.76 Q814.722 1534.15 812.384 1532.04 Q810.046 1529.94 806.041 1529.94 Q804.166 1529.94 802.291 1530.35 Q800.439 1530.77 798.495 1531.65 L798.495 1514.29 Z\" fill=\"#000000\" fill-rule=\"evenodd\" fill-opacity=\"1\" /><path clip-path=\"url(#clip610)\" d=\"M1239.77 1517.37 Q1236.16 1517.37 1234.33 1520.93 Q1232.52 1524.47 1232.52 1531.6 Q1232.52 1538.71 1234.33 1542.27 Q1236.16 1545.82 1239.77 1545.82 Q1243.4 1545.82 1245.21 1542.27 Q1247.04 1538.71 1247.04 1531.6 Q1247.04 1524.47 1245.21 1520.93 Q1243.4 1517.37 1239.77 1517.37 M1239.77 1513.66 Q1245.58 1513.66 1248.64 1518.27 Q1251.71 1522.85 1251.71 1531.6 Q1251.71 1540.33 1248.64 1544.94 Q1245.58 1549.52 1239.77 1549.52 Q1233.96 1549.52 1230.88 1544.94 Q1227.83 1540.33 1227.83 1531.6 Q1227.83 1522.85 1230.88 1518.27 Q1233.96 1513.66 1239.77 1513.66 Z\" fill=\"#000000\" fill-rule=\"evenodd\" fill-opacity=\"1\" /><path clip-path=\"url(#clip610)\" d=\"M1259.93 1542.97 L1264.82 1542.97 L1264.82 1548.85 L1259.93 1548.85 L1259.93 1542.97 Z\" fill=\"#000000\" fill-rule=\"evenodd\" fill-opacity=\"1\" /><path clip-path=\"url(#clip610)\" d=\"M1275.05 1514.29 L1293.4 1514.29 L1293.4 1518.22 L1279.33 1518.22 L1279.33 1526.7 Q1280.35 1526.35 1281.37 1526.19 Q1282.39 1526 1283.4 1526 Q1289.19 1526 1292.57 1529.17 Q1295.95 1532.34 1295.95 1537.76 Q1295.95 1543.34 1292.48 1546.44 Q1289.01 1549.52 1282.69 1549.52 Q1280.51 1549.52 1278.24 1549.15 Q1276 1548.78 1273.59 1548.04 L1273.59 1543.34 Q1275.67 1544.47 1277.89 1545.03 Q1280.12 1545.58 1282.59 1545.58 Q1286.6 1545.58 1288.94 1543.48 Q1291.27 1541.37 1291.27 1537.76 Q1291.27 1534.15 1288.94 1532.04 Q1286.6 1529.94 1282.59 1529.94 Q1280.72 1529.94 1278.84 1530.35 Q1276.99 1530.77 1275.05 1531.65 L1275.05 1514.29 Z\" fill=\"#000000\" fill-rule=\"evenodd\" fill-opacity=\"1\" /><path clip-path=\"url(#clip610)\" d=\"M1315.16 1517.37 Q1311.55 1517.37 1309.72 1520.93 Q1307.92 1524.47 1307.92 1531.6 Q1307.92 1538.71 1309.72 1542.27 Q1311.55 1545.82 1315.16 1545.82 Q1318.8 1545.82 1320.6 1542.27 Q1322.43 1538.71 1322.43 1531.6 Q1322.43 1524.47 1320.6 1520.93 Q1318.8 1517.37 1315.16 1517.37 M1315.16 1513.66 Q1320.97 1513.66 1324.03 1518.27 Q1327.11 1522.85 1327.11 1531.6 Q1327.11 1540.33 1324.03 1544.94 Q1320.97 1549.52 1315.16 1549.52 Q1309.35 1549.52 1306.27 1544.94 Q1303.22 1540.33 1303.22 1531.6 Q1303.22 1522.85 1306.27 1518.27 Q1309.35 1513.66 1315.16 1513.66 Z\" fill=\"#000000\" fill-rule=\"evenodd\" fill-opacity=\"1\" /><path clip-path=\"url(#clip610)\" d=\"M1747.48 1517.37 Q1743.87 1517.37 1742.04 1520.93 Q1740.23 1524.47 1740.23 1531.6 Q1740.23 1538.71 1742.04 1542.27 Q1743.87 1545.82 1747.48 1545.82 Q1751.11 1545.82 1752.92 1542.27 Q1754.75 1538.71 1754.75 1531.6 Q1754.75 1524.47 1752.92 1520.93 Q1751.11 1517.37 1747.48 1517.37 M1747.48 1513.66 Q1753.29 1513.66 1756.35 1518.27 Q1759.42 1522.85 1759.42 1531.6 Q1759.42 1540.33 1756.35 1544.94 Q1753.29 1549.52 1747.48 1549.52 Q1741.67 1549.52 1738.59 1544.94 Q1735.54 1540.33 1735.54 1531.6 Q1735.54 1522.85 1738.59 1518.27 Q1741.67 1513.66 1747.48 1513.66 Z\" fill=\"#000000\" fill-rule=\"evenodd\" fill-opacity=\"1\" /><path clip-path=\"url(#clip610)\" d=\"M1767.64 1542.97 L1772.53 1542.97 L1772.53 1548.85 L1767.64 1548.85 L1767.64 1542.97 Z\" fill=\"#000000\" fill-rule=\"evenodd\" fill-opacity=\"1\" /><path clip-path=\"url(#clip610)\" d=\"M1781.53 1514.29 L1803.75 1514.29 L1803.75 1516.28 L1791.21 1548.85 L1786.32 1548.85 L1798.13 1518.22 L1781.53 1518.22 L1781.53 1514.29 Z\" fill=\"#000000\" fill-rule=\"evenodd\" fill-opacity=\"1\" /><path clip-path=\"url(#clip610)\" d=\"M1812.92 1514.29 L1831.28 1514.29 L1831.28 1518.22 L1817.2 1518.22 L1817.2 1526.7 Q1818.22 1526.35 1819.24 1526.19 Q1820.26 1526 1821.28 1526 Q1827.06 1526 1830.44 1529.17 Q1833.82 1532.34 1833.82 1537.76 Q1833.82 1543.34 1830.35 1546.44 Q1826.88 1549.52 1820.56 1549.52 Q1818.38 1549.52 1816.11 1549.15 Q1813.87 1548.78 1811.46 1548.04 L1811.46 1543.34 Q1813.54 1544.47 1815.77 1545.03 Q1817.99 1545.58 1820.47 1545.58 Q1824.47 1545.58 1826.81 1543.48 Q1829.15 1541.37 1829.15 1537.76 Q1829.15 1534.15 1826.81 1532.04 Q1824.47 1529.94 1820.47 1529.94 Q1818.59 1529.94 1816.72 1530.35 Q1814.86 1530.77 1812.92 1531.65 L1812.92 1514.29 Z\" fill=\"#000000\" fill-rule=\"evenodd\" fill-opacity=\"1\" /><path clip-path=\"url(#clip610)\" d=\"M2243.96 1544.91 L2251.6 1544.91 L2251.6 1518.55 L2243.29 1520.21 L2243.29 1515.95 L2251.56 1514.29 L2256.23 1514.29 L2256.23 1544.91 L2263.87 1544.91 L2263.87 1548.85 L2243.96 1548.85 L2243.96 1544.91 Z\" fill=\"#000000\" fill-rule=\"evenodd\" fill-opacity=\"1\" /><path clip-path=\"url(#clip610)\" d=\"M2273.31 1542.97 L2278.2 1542.97 L2278.2 1548.85 L2273.31 1548.85 L2273.31 1542.97 Z\" fill=\"#000000\" fill-rule=\"evenodd\" fill-opacity=\"1\" /><path clip-path=\"url(#clip610)\" d=\"M2298.38 1517.37 Q2294.77 1517.37 2292.94 1520.93 Q2291.14 1524.47 2291.14 1531.6 Q2291.14 1538.71 2292.94 1542.27 Q2294.77 1545.82 2298.38 1545.82 Q2302.02 1545.82 2303.82 1542.27 Q2305.65 1538.71 2305.65 1531.6 Q2305.65 1524.47 2303.82 1520.93 Q2302.02 1517.37 2298.38 1517.37 M2298.38 1513.66 Q2304.19 1513.66 2307.25 1518.27 Q2310.33 1522.85 2310.33 1531.6 Q2310.33 1540.33 2307.25 1544.94 Q2304.19 1549.52 2298.38 1549.52 Q2292.57 1549.52 2289.49 1544.94 Q2286.44 1540.33 2286.44 1531.6 Q2286.44 1522.85 2289.49 1518.27 Q2292.57 1513.66 2298.38 1513.66 Z\" fill=\"#000000\" fill-rule=\"evenodd\" fill-opacity=\"1\" /><path clip-path=\"url(#clip610)\" d=\"M2328.55 1517.37 Q2324.93 1517.37 2323.11 1520.93 Q2321.3 1524.47 2321.3 1531.6 Q2321.3 1538.71 2323.11 1542.27 Q2324.93 1545.82 2328.55 1545.82 Q2332.18 1545.82 2333.99 1542.27 Q2335.81 1538.71 2335.81 1531.6 Q2335.81 1524.47 2333.99 1520.93 Q2332.18 1517.37 2328.55 1517.37 M2328.55 1513.66 Q2334.36 1513.66 2337.41 1518.27 Q2340.49 1522.85 2340.49 1531.6 Q2340.49 1540.33 2337.41 1544.94 Q2334.36 1549.52 2328.55 1549.52 Q2322.74 1549.52 2319.66 1544.94 Q2316.6 1540.33 2316.6 1531.6 Q2316.6 1522.85 2319.66 1518.27 Q2322.74 1513.66 2328.55 1513.66 Z\" fill=\"#000000\" fill-rule=\"evenodd\" fill-opacity=\"1\" /><polyline clip-path=\"url(#clip612)\" style=\"stroke:#000000; stroke-linecap:butt; stroke-linejoin:round; stroke-width:2; stroke-opacity:0.1; fill:none\" points=\"\n  202.177,1368.4 2352.76,1368.4 \n  \"/>\n<polyline clip-path=\"url(#clip612)\" style=\"stroke:#000000; stroke-linecap:butt; stroke-linejoin:round; stroke-width:2; stroke-opacity:0.1; fill:none\" points=\"\n  202.177,1027.82 2352.76,1027.82 \n  \"/>\n<polyline clip-path=\"url(#clip612)\" style=\"stroke:#000000; stroke-linecap:butt; stroke-linejoin:round; stroke-width:2; stroke-opacity:0.1; fill:none\" points=\"\n  202.177,687.234 2352.76,687.234 \n  \"/>\n<polyline clip-path=\"url(#clip612)\" style=\"stroke:#000000; stroke-linecap:butt; stroke-linejoin:round; stroke-width:2; stroke-opacity:0.1; fill:none\" points=\"\n  202.177,346.65 2352.76,346.65 \n  \"/>\n<polyline clip-path=\"url(#clip610)\" style=\"stroke:#000000; stroke-linecap:butt; stroke-linejoin:round; stroke-width:4; stroke-opacity:1; fill:none\" points=\"\n  202.177,1486.45 202.177,47.2441 \n  \"/>\n<polyline clip-path=\"url(#clip610)\" style=\"stroke:#000000; stroke-linecap:butt; stroke-linejoin:round; stroke-width:4; stroke-opacity:1; fill:none\" points=\"\n  202.177,1368.4 221.074,1368.4 \n  \"/>\n<polyline clip-path=\"url(#clip610)\" style=\"stroke:#000000; stroke-linecap:butt; stroke-linejoin:round; stroke-width:4; stroke-opacity:1; fill:none\" points=\"\n  202.177,1027.82 221.074,1027.82 \n  \"/>\n<polyline clip-path=\"url(#clip610)\" style=\"stroke:#000000; stroke-linecap:butt; stroke-linejoin:round; stroke-width:4; stroke-opacity:1; fill:none\" points=\"\n  202.177,687.234 221.074,687.234 \n  \"/>\n<polyline clip-path=\"url(#clip610)\" style=\"stroke:#000000; stroke-linecap:butt; stroke-linejoin:round; stroke-width:4; stroke-opacity:1; fill:none\" points=\"\n  202.177,346.65 221.074,346.65 \n  \"/>\n<path clip-path=\"url(#clip610)\" d=\"M57.7745 1381.75 L74.0939 1381.75 L74.0939 1385.68 L52.1495 1385.68 L52.1495 1381.75 Q54.8115 1378.99 59.3949 1374.36 Q64.0013 1369.71 65.1819 1368.37 Q67.4272 1365.85 68.3068 1364.11 Q69.2096 1362.35 69.2096 1360.66 Q69.2096 1357.91 67.2652 1356.17 Q65.3439 1354.43 62.2421 1354.43 Q60.043 1354.43 57.5893 1355.2 Q55.1588 1355.96 52.381 1357.51 L52.381 1352.79 Q55.2051 1351.66 57.6588 1351.08 Q60.1124 1350.5 62.1495 1350.5 Q67.5198 1350.5 70.7142 1353.18 Q73.9087 1355.87 73.9087 1360.36 Q73.9087 1362.49 73.0985 1364.41 Q72.3115 1366.31 70.205 1368.9 Q69.6263 1369.57 66.5245 1372.79 Q63.4226 1375.98 57.7745 1381.75 Z\" fill=\"#000000\" fill-rule=\"evenodd\" fill-opacity=\"1\" /><path clip-path=\"url(#clip610)\" d=\"M93.9086 1354.2 Q90.2975 1354.2 88.4688 1357.77 Q86.6632 1361.31 86.6632 1368.44 Q86.6632 1375.54 88.4688 1379.11 Q90.2975 1382.65 93.9086 1382.65 Q97.5428 1382.65 99.3483 1379.11 Q101.177 1375.54 101.177 1368.44 Q101.177 1361.31 99.3483 1357.77 Q97.5428 1354.2 93.9086 1354.2 M93.9086 1350.5 Q99.7187 1350.5 102.774 1355.1 Q105.853 1359.69 105.853 1368.44 Q105.853 1377.16 102.774 1381.77 Q99.7187 1386.35 93.9086 1386.35 Q88.0984 1386.35 85.0197 1381.77 Q81.9642 1377.16 81.9642 1368.44 Q81.9642 1359.69 85.0197 1355.1 Q88.0984 1350.5 93.9086 1350.5 Z\" fill=\"#000000\" fill-rule=\"evenodd\" fill-opacity=\"1\" /><path clip-path=\"url(#clip610)\" d=\"M124.07 1354.2 Q120.459 1354.2 118.631 1357.77 Q116.825 1361.31 116.825 1368.44 Q116.825 1375.54 118.631 1379.11 Q120.459 1382.65 124.07 1382.65 Q127.705 1382.65 129.51 1379.11 Q131.339 1375.54 131.339 1368.44 Q131.339 1361.31 129.51 1357.77 Q127.705 1354.2 124.07 1354.2 M124.07 1350.5 Q129.881 1350.5 132.936 1355.1 Q136.015 1359.69 136.015 1368.44 Q136.015 1377.16 132.936 1381.77 Q129.881 1386.35 124.07 1386.35 Q118.26 1386.35 115.182 1381.77 Q112.126 1377.16 112.126 1368.44 Q112.126 1359.69 115.182 1355.1 Q118.26 1350.5 124.07 1350.5 Z\" fill=\"#000000\" fill-rule=\"evenodd\" fill-opacity=\"1\" /><path clip-path=\"url(#clip610)\" d=\"M154.232 1354.2 Q150.621 1354.2 148.793 1357.77 Q146.987 1361.31 146.987 1368.44 Q146.987 1375.54 148.793 1379.11 Q150.621 1382.65 154.232 1382.65 Q157.867 1382.65 159.672 1379.11 Q161.501 1375.54 161.501 1368.44 Q161.501 1361.31 159.672 1357.77 Q157.867 1354.2 154.232 1354.2 M154.232 1350.5 Q160.042 1350.5 163.098 1355.1 Q166.177 1359.69 166.177 1368.44 Q166.177 1377.16 163.098 1381.77 Q160.042 1386.35 154.232 1386.35 Q148.422 1386.35 145.343 1381.77 Q142.288 1377.16 142.288 1368.44 Q142.288 1359.69 145.343 1355.1 Q148.422 1350.5 154.232 1350.5 Z\" fill=\"#000000\" fill-rule=\"evenodd\" fill-opacity=\"1\" /><path clip-path=\"url(#clip610)\" d=\"M66.5939 1014.61 L54.7884 1033.06 L66.5939 1033.06 L66.5939 1014.61 M65.367 1010.54 L71.2466 1010.54 L71.2466 1033.06 L76.1772 1033.06 L76.1772 1036.95 L71.2466 1036.95 L71.2466 1045.1 L66.5939 1045.1 L66.5939 1036.95 L50.9921 1036.95 L50.9921 1032.44 L65.367 1010.54 Z\" fill=\"#000000\" fill-rule=\"evenodd\" fill-opacity=\"1\" /><path clip-path=\"url(#clip610)\" d=\"M93.9086 1013.62 Q90.2975 1013.62 88.4688 1017.18 Q86.6632 1020.72 86.6632 1027.85 Q86.6632 1034.96 88.4688 1038.52 Q90.2975 1042.07 93.9086 1042.07 Q97.5428 1042.07 99.3483 1038.52 Q101.177 1034.96 101.177 1027.85 Q101.177 1020.72 99.3483 1017.18 Q97.5428 1013.62 93.9086 1013.62 M93.9086 1009.91 Q99.7187 1009.91 102.774 1014.52 Q105.853 1019.1 105.853 1027.85 Q105.853 1036.58 102.774 1041.19 Q99.7187 1045.77 93.9086 1045.77 Q88.0984 1045.77 85.0197 1041.19 Q81.9642 1036.58 81.9642 1027.85 Q81.9642 1019.1 85.0197 1014.52 Q88.0984 1009.91 93.9086 1009.91 Z\" fill=\"#000000\" fill-rule=\"evenodd\" fill-opacity=\"1\" /><path clip-path=\"url(#clip610)\" d=\"M124.07 1013.62 Q120.459 1013.62 118.631 1017.18 Q116.825 1020.72 116.825 1027.85 Q116.825 1034.96 118.631 1038.52 Q120.459 1042.07 124.07 1042.07 Q127.705 1042.07 129.51 1038.52 Q131.339 1034.96 131.339 1027.85 Q131.339 1020.72 129.51 1017.18 Q127.705 1013.62 124.07 1013.62 M124.07 1009.91 Q129.881 1009.91 132.936 1014.52 Q136.015 1019.1 136.015 1027.85 Q136.015 1036.58 132.936 1041.19 Q129.881 1045.77 124.07 1045.77 Q118.26 1045.77 115.182 1041.19 Q112.126 1036.58 112.126 1027.85 Q112.126 1019.1 115.182 1014.52 Q118.26 1009.91 124.07 1009.91 Z\" fill=\"#000000\" fill-rule=\"evenodd\" fill-opacity=\"1\" /><path clip-path=\"url(#clip610)\" d=\"M154.232 1013.62 Q150.621 1013.62 148.793 1017.18 Q146.987 1020.72 146.987 1027.85 Q146.987 1034.96 148.793 1038.52 Q150.621 1042.07 154.232 1042.07 Q157.867 1042.07 159.672 1038.52 Q161.501 1034.96 161.501 1027.85 Q161.501 1020.72 159.672 1017.18 Q157.867 1013.62 154.232 1013.62 M154.232 1009.91 Q160.042 1009.91 163.098 1014.52 Q166.177 1019.1 166.177 1027.85 Q166.177 1036.58 163.098 1041.19 Q160.042 1045.77 154.232 1045.77 Q148.422 1045.77 145.343 1041.19 Q142.288 1036.58 142.288 1027.85 Q142.288 1019.1 145.343 1014.52 Q148.422 1009.91 154.232 1009.91 Z\" fill=\"#000000\" fill-rule=\"evenodd\" fill-opacity=\"1\" /><path clip-path=\"url(#clip610)\" d=\"M64.3254 685.371 Q61.1773 685.371 59.3254 687.524 Q57.4967 689.677 57.4967 693.426 Q57.4967 697.153 59.3254 699.329 Q61.1773 701.482 64.3254 701.482 Q67.4735 701.482 69.3022 699.329 Q71.1541 697.153 71.1541 693.426 Q71.1541 689.677 69.3022 687.524 Q67.4735 685.371 64.3254 685.371 M73.6077 670.718 L73.6077 674.978 Q71.8485 674.144 70.0429 673.704 Q68.2606 673.265 66.5013 673.265 Q61.8717 673.265 59.418 676.39 Q56.9875 679.515 56.6402 685.834 Q58.006 683.82 60.0662 682.755 Q62.1263 681.667 64.6032 681.667 Q69.8115 681.667 72.8207 684.839 Q75.8531 687.987 75.8531 693.426 Q75.8531 698.751 72.705 701.968 Q69.5568 705.186 64.3254 705.186 Q58.33 705.186 55.1588 700.602 Q51.9875 695.996 51.9875 687.269 Q51.9875 679.075 55.8764 674.214 Q59.7652 669.329 66.3161 669.329 Q68.0754 669.329 69.8578 669.677 Q71.6633 670.024 73.6077 670.718 Z\" fill=\"#000000\" fill-rule=\"evenodd\" fill-opacity=\"1\" /><path clip-path=\"url(#clip610)\" d=\"M93.9086 673.033 Q90.2975 673.033 88.4688 676.598 Q86.6632 680.14 86.6632 687.269 Q86.6632 694.376 88.4688 697.94 Q90.2975 701.482 93.9086 701.482 Q97.5428 701.482 99.3483 697.94 Q101.177 694.376 101.177 687.269 Q101.177 680.14 99.3483 676.598 Q97.5428 673.033 93.9086 673.033 M93.9086 669.329 Q99.7187 669.329 102.774 673.936 Q105.853 678.519 105.853 687.269 Q105.853 695.996 102.774 700.602 Q99.7187 705.186 93.9086 705.186 Q88.0984 705.186 85.0197 700.602 Q81.9642 695.996 81.9642 687.269 Q81.9642 678.519 85.0197 673.936 Q88.0984 669.329 93.9086 669.329 Z\" fill=\"#000000\" fill-rule=\"evenodd\" fill-opacity=\"1\" /><path clip-path=\"url(#clip610)\" d=\"M124.07 673.033 Q120.459 673.033 118.631 676.598 Q116.825 680.14 116.825 687.269 Q116.825 694.376 118.631 697.94 Q120.459 701.482 124.07 701.482 Q127.705 701.482 129.51 697.94 Q131.339 694.376 131.339 687.269 Q131.339 680.14 129.51 676.598 Q127.705 673.033 124.07 673.033 M124.07 669.329 Q129.881 669.329 132.936 673.936 Q136.015 678.519 136.015 687.269 Q136.015 695.996 132.936 700.602 Q129.881 705.186 124.07 705.186 Q118.26 705.186 115.182 700.602 Q112.126 695.996 112.126 687.269 Q112.126 678.519 115.182 673.936 Q118.26 669.329 124.07 669.329 Z\" fill=\"#000000\" fill-rule=\"evenodd\" fill-opacity=\"1\" /><path clip-path=\"url(#clip610)\" d=\"M154.232 673.033 Q150.621 673.033 148.793 676.598 Q146.987 680.14 146.987 687.269 Q146.987 694.376 148.793 697.94 Q150.621 701.482 154.232 701.482 Q157.867 701.482 159.672 697.94 Q161.501 694.376 161.501 687.269 Q161.501 680.14 159.672 676.598 Q157.867 673.033 154.232 673.033 M154.232 669.329 Q160.042 669.329 163.098 673.936 Q166.177 678.519 166.177 687.269 Q166.177 695.996 163.098 700.602 Q160.042 705.186 154.232 705.186 Q148.422 705.186 145.343 700.602 Q142.288 695.996 142.288 687.269 Q142.288 678.519 145.343 673.936 Q148.422 669.329 154.232 669.329 Z\" fill=\"#000000\" fill-rule=\"evenodd\" fill-opacity=\"1\" /><path clip-path=\"url(#clip610)\" d=\"M63.7467 347.518 Q60.4134 347.518 58.4921 349.301 Q56.5939 351.083 56.5939 354.208 Q56.5939 357.333 58.4921 359.115 Q60.4134 360.898 63.7467 360.898 Q67.08 360.898 69.0013 359.115 Q70.9226 357.31 70.9226 354.208 Q70.9226 351.083 69.0013 349.301 Q67.1032 347.518 63.7467 347.518 M59.0708 345.527 Q56.0615 344.787 54.3717 342.726 Q52.7051 340.666 52.7051 337.703 Q52.7051 333.56 55.6449 331.152 Q58.6078 328.745 63.7467 328.745 Q68.9087 328.745 71.8485 331.152 Q74.7883 333.56 74.7883 337.703 Q74.7883 340.666 73.0985 342.726 Q71.4318 344.787 68.4457 345.527 Q71.8253 346.314 73.7003 348.606 Q75.5985 350.898 75.5985 354.208 Q75.5985 359.231 72.5198 361.916 Q69.4642 364.601 63.7467 364.601 Q58.0291 364.601 54.9504 361.916 Q51.8949 359.231 51.8949 354.208 Q51.8949 350.898 53.793 348.606 Q55.6912 346.314 59.0708 345.527 M57.3578 338.143 Q57.3578 340.828 59.0245 342.333 Q60.7143 343.838 63.7467 343.838 Q66.7559 343.838 68.4457 342.333 Q70.1587 340.828 70.1587 338.143 Q70.1587 335.458 68.4457 333.953 Q66.7559 332.449 63.7467 332.449 Q60.7143 332.449 59.0245 333.953 Q57.3578 335.458 57.3578 338.143 Z\" fill=\"#000000\" fill-rule=\"evenodd\" fill-opacity=\"1\" /><path clip-path=\"url(#clip610)\" d=\"M93.9086 332.449 Q90.2975 332.449 88.4688 336.014 Q86.6632 339.555 86.6632 346.685 Q86.6632 353.791 88.4688 357.356 Q90.2975 360.898 93.9086 360.898 Q97.5428 360.898 99.3483 357.356 Q101.177 353.791 101.177 346.685 Q101.177 339.555 99.3483 336.014 Q97.5428 332.449 93.9086 332.449 M93.9086 328.745 Q99.7187 328.745 102.774 333.352 Q105.853 337.935 105.853 346.685 Q105.853 355.412 102.774 360.018 Q99.7187 364.601 93.9086 364.601 Q88.0984 364.601 85.0197 360.018 Q81.9642 355.412 81.9642 346.685 Q81.9642 337.935 85.0197 333.352 Q88.0984 328.745 93.9086 328.745 Z\" fill=\"#000000\" fill-rule=\"evenodd\" fill-opacity=\"1\" /><path clip-path=\"url(#clip610)\" d=\"M124.07 332.449 Q120.459 332.449 118.631 336.014 Q116.825 339.555 116.825 346.685 Q116.825 353.791 118.631 357.356 Q120.459 360.898 124.07 360.898 Q127.705 360.898 129.51 357.356 Q131.339 353.791 131.339 346.685 Q131.339 339.555 129.51 336.014 Q127.705 332.449 124.07 332.449 M124.07 328.745 Q129.881 328.745 132.936 333.352 Q136.015 337.935 136.015 346.685 Q136.015 355.412 132.936 360.018 Q129.881 364.601 124.07 364.601 Q118.26 364.601 115.182 360.018 Q112.126 355.412 112.126 346.685 Q112.126 337.935 115.182 333.352 Q118.26 328.745 124.07 328.745 Z\" fill=\"#000000\" fill-rule=\"evenodd\" fill-opacity=\"1\" /><path clip-path=\"url(#clip610)\" d=\"M154.232 332.449 Q150.621 332.449 148.793 336.014 Q146.987 339.555 146.987 346.685 Q146.987 353.791 148.793 357.356 Q150.621 360.898 154.232 360.898 Q157.867 360.898 159.672 357.356 Q161.501 353.791 161.501 346.685 Q161.501 339.555 159.672 336.014 Q157.867 332.449 154.232 332.449 M154.232 328.745 Q160.042 328.745 163.098 333.352 Q166.177 337.935 166.177 346.685 Q166.177 355.412 163.098 360.018 Q160.042 364.601 154.232 364.601 Q148.422 364.601 145.343 360.018 Q142.288 355.412 142.288 346.685 Q142.288 337.935 145.343 333.352 Q148.422 328.745 154.232 328.745 Z\" fill=\"#000000\" fill-rule=\"evenodd\" fill-opacity=\"1\" /><polyline clip-path=\"url(#clip612)\" style=\"stroke:#009af9; stroke-linecap:butt; stroke-linejoin:round; stroke-width:4; stroke-opacity:1; fill:none\" points=\"\n  263.042,1057.45 364.485,1136.47 465.927,1194.19 567.369,1261.8 668.812,1324.13 770.254,1365.34 871.697,1405.7 973.139,1425.11 1074.58,1445.72 1176.02,1419.15 \n  1277.47,1367.38 1378.91,1283.26 1480.35,1196.07 1581.79,1075.16 1683.24,953.912 1784.68,849.012 1886.12,698.133 1987.56,579.099 2089.01,414.426 2190.45,247.881 \n  2291.89,87.9763 \n  \"/>\n<path clip-path=\"url(#clip610)\" d=\"\nM1989.69 198.898 L2281.07 198.898 L2281.07 95.2176 L1989.69 95.2176  Z\n  \" fill=\"#ffffff\" fill-rule=\"evenodd\" fill-opacity=\"1\"/>\n<polyline clip-path=\"url(#clip610)\" style=\"stroke:#000000; stroke-linecap:butt; stroke-linejoin:round; stroke-width:4; stroke-opacity:1; fill:none\" points=\"\n  1989.69,198.898 2281.07,198.898 2281.07,95.2176 1989.69,95.2176 1989.69,198.898 \n  \"/>\n<polyline clip-path=\"url(#clip610)\" style=\"stroke:#009af9; stroke-linecap:butt; stroke-linejoin:round; stroke-width:4; stroke-opacity:1; fill:none\" points=\"\n  2013.58,147.058 2156.95,147.058 \n  \"/>\n<path clip-path=\"url(#clip610)\" d=\"M2194.69 166.745 Q2192.89 171.375 2191.17 172.787 Q2189.46 174.199 2186.59 174.199 L2183.19 174.199 L2183.19 170.634 L2185.69 170.634 Q2187.45 170.634 2188.42 169.8 Q2189.39 168.967 2190.57 165.865 L2191.34 163.921 L2180.85 138.412 L2185.36 138.412 L2193.46 158.689 L2201.57 138.412 L2206.08 138.412 L2194.69 166.745 Z\" fill=\"#000000\" fill-rule=\"evenodd\" fill-opacity=\"1\" /><path clip-path=\"url(#clip610)\" d=\"M2213.37 160.402 L2221.01 160.402 L2221.01 134.037 L2212.7 135.703 L2212.7 131.444 L2220.96 129.778 L2225.64 129.778 L2225.64 160.402 L2233.28 160.402 L2233.28 164.338 L2213.37 164.338 L2213.37 160.402 Z\" fill=\"#000000\" fill-rule=\"evenodd\" fill-opacity=\"1\" /></svg>\n",
      "text/html": [
       "<?xml version=\"1.0\" encoding=\"utf-8\"?>\n",
       "<svg xmlns=\"http://www.w3.org/2000/svg\" xmlns:xlink=\"http://www.w3.org/1999/xlink\" width=\"600\" height=\"400\" viewBox=\"0 0 2400 1600\">\n",
       "<defs>\n",
       "  <clipPath id=\"clip660\">\n",
       "    <rect x=\"0\" y=\"0\" width=\"2400\" height=\"1600\"/>\n",
       "  </clipPath>\n",
       "</defs>\n",
       "<path clip-path=\"url(#clip660)\" d=\"\n",
       "M0 1600 L2400 1600 L2400 0 L0 0  Z\n",
       "  \" fill=\"#ffffff\" fill-rule=\"evenodd\" fill-opacity=\"1\"/>\n",
       "<defs>\n",
       "  <clipPath id=\"clip661\">\n",
       "    <rect x=\"480\" y=\"0\" width=\"1681\" height=\"1600\"/>\n",
       "  </clipPath>\n",
       "</defs>\n",
       "<path clip-path=\"url(#clip660)\" d=\"\n",
       "M202.177 1486.45 L2352.76 1486.45 L2352.76 47.2441 L202.177 47.2441  Z\n",
       "  \" fill=\"#ffffff\" fill-rule=\"evenodd\" fill-opacity=\"1\"/>\n",
       "<defs>\n",
       "  <clipPath id=\"clip662\">\n",
       "    <rect x=\"202\" y=\"47\" width=\"2152\" height=\"1440\"/>\n",
       "  </clipPath>\n",
       "</defs>\n",
       "<polyline clip-path=\"url(#clip662)\" style=\"stroke:#000000; stroke-linecap:butt; stroke-linejoin:round; stroke-width:2; stroke-opacity:0.1; fill:none\" points=\"\n",
       "  263.042,1486.45 263.042,47.2441 \n",
       "  \"/>\n",
       "<polyline clip-path=\"url(#clip662)\" style=\"stroke:#000000; stroke-linecap:butt; stroke-linejoin:round; stroke-width:2; stroke-opacity:0.1; fill:none\" points=\"\n",
       "  770.254,1486.45 770.254,47.2441 \n",
       "  \"/>\n",
       "<polyline clip-path=\"url(#clip662)\" style=\"stroke:#000000; stroke-linecap:butt; stroke-linejoin:round; stroke-width:2; stroke-opacity:0.1; fill:none\" points=\"\n",
       "  1277.47,1486.45 1277.47,47.2441 \n",
       "  \"/>\n",
       "<polyline clip-path=\"url(#clip662)\" style=\"stroke:#000000; stroke-linecap:butt; stroke-linejoin:round; stroke-width:2; stroke-opacity:0.1; fill:none\" points=\"\n",
       "  1784.68,1486.45 1784.68,47.2441 \n",
       "  \"/>\n",
       "<polyline clip-path=\"url(#clip662)\" style=\"stroke:#000000; stroke-linecap:butt; stroke-linejoin:round; stroke-width:2; stroke-opacity:0.1; fill:none\" points=\"\n",
       "  2291.89,1486.45 2291.89,47.2441 \n",
       "  \"/>\n",
       "<polyline clip-path=\"url(#clip660)\" style=\"stroke:#000000; stroke-linecap:butt; stroke-linejoin:round; stroke-width:4; stroke-opacity:1; fill:none\" points=\"\n",
       "  202.177,1486.45 2352.76,1486.45 \n",
       "  \"/>\n",
       "<polyline clip-path=\"url(#clip660)\" style=\"stroke:#000000; stroke-linecap:butt; stroke-linejoin:round; stroke-width:4; stroke-opacity:1; fill:none\" points=\"\n",
       "  263.042,1486.45 263.042,1467.55 \n",
       "  \"/>\n",
       "<polyline clip-path=\"url(#clip660)\" style=\"stroke:#000000; stroke-linecap:butt; stroke-linejoin:round; stroke-width:4; stroke-opacity:1; fill:none\" points=\"\n",
       "  770.254,1486.45 770.254,1467.55 \n",
       "  \"/>\n",
       "<polyline clip-path=\"url(#clip660)\" style=\"stroke:#000000; stroke-linecap:butt; stroke-linejoin:round; stroke-width:4; stroke-opacity:1; fill:none\" points=\"\n",
       "  1277.47,1486.45 1277.47,1467.55 \n",
       "  \"/>\n",
       "<polyline clip-path=\"url(#clip660)\" style=\"stroke:#000000; stroke-linecap:butt; stroke-linejoin:round; stroke-width:4; stroke-opacity:1; fill:none\" points=\"\n",
       "  1784.68,1486.45 1784.68,1467.55 \n",
       "  \"/>\n",
       "<polyline clip-path=\"url(#clip660)\" style=\"stroke:#000000; stroke-linecap:butt; stroke-linejoin:round; stroke-width:4; stroke-opacity:1; fill:none\" points=\"\n",
       "  2291.89,1486.45 2291.89,1467.55 \n",
       "  \"/>\n",
       "<path clip-path=\"url(#clip660)\" d=\"M225.346 1517.37 Q221.734 1517.37 219.906 1520.93 Q218.1 1524.47 218.1 1531.6 Q218.1 1538.71 219.906 1542.27 Q221.734 1545.82 225.346 1545.82 Q228.98 1545.82 230.785 1542.27 Q232.614 1538.71 232.614 1531.6 Q232.614 1524.47 230.785 1520.93 Q228.98 1517.37 225.346 1517.37 M225.346 1513.66 Q231.156 1513.66 234.211 1518.27 Q237.29 1522.85 237.29 1531.6 Q237.29 1540.33 234.211 1544.94 Q231.156 1549.52 225.346 1549.52 Q219.535 1549.52 216.457 1544.94 Q213.401 1540.33 213.401 1531.6 Q213.401 1522.85 216.457 1518.27 Q219.535 1513.66 225.346 1513.66 Z\" fill=\"#000000\" fill-rule=\"evenodd\" fill-opacity=\"1\" /><path clip-path=\"url(#clip660)\" d=\"M245.508 1542.97 L250.392 1542.97 L250.392 1548.85 L245.508 1548.85 L245.508 1542.97 Z\" fill=\"#000000\" fill-rule=\"evenodd\" fill-opacity=\"1\" /><path clip-path=\"url(#clip660)\" d=\"M270.577 1517.37 Q266.966 1517.37 265.137 1520.93 Q263.331 1524.47 263.331 1531.6 Q263.331 1538.71 265.137 1542.27 Q266.966 1545.82 270.577 1545.82 Q274.211 1545.82 276.017 1542.27 Q277.845 1538.71 277.845 1531.6 Q277.845 1524.47 276.017 1520.93 Q274.211 1517.37 270.577 1517.37 M270.577 1513.66 Q276.387 1513.66 279.443 1518.27 Q282.521 1522.85 282.521 1531.6 Q282.521 1540.33 279.443 1544.94 Q276.387 1549.52 270.577 1549.52 Q264.767 1549.52 261.688 1544.94 Q258.632 1540.33 258.632 1531.6 Q258.632 1522.85 261.688 1518.27 Q264.767 1513.66 270.577 1513.66 Z\" fill=\"#000000\" fill-rule=\"evenodd\" fill-opacity=\"1\" /><path clip-path=\"url(#clip660)\" d=\"M300.739 1517.37 Q297.128 1517.37 295.299 1520.93 Q293.493 1524.47 293.493 1531.6 Q293.493 1538.71 295.299 1542.27 Q297.128 1545.82 300.739 1545.82 Q304.373 1545.82 306.178 1542.27 Q308.007 1538.71 308.007 1531.6 Q308.007 1524.47 306.178 1520.93 Q304.373 1517.37 300.739 1517.37 M300.739 1513.66 Q306.549 1513.66 309.604 1518.27 Q312.683 1522.85 312.683 1531.6 Q312.683 1540.33 309.604 1544.94 Q306.549 1549.52 300.739 1549.52 Q294.929 1549.52 291.85 1544.94 Q288.794 1540.33 288.794 1531.6 Q288.794 1522.85 291.85 1518.27 Q294.929 1513.66 300.739 1513.66 Z\" fill=\"#000000\" fill-rule=\"evenodd\" fill-opacity=\"1\" /><path clip-path=\"url(#clip660)\" d=\"M733.055 1517.37 Q729.444 1517.37 727.616 1520.93 Q725.81 1524.47 725.81 1531.6 Q725.81 1538.71 727.616 1542.27 Q729.444 1545.82 733.055 1545.82 Q736.69 1545.82 738.495 1542.27 Q740.324 1538.71 740.324 1531.6 Q740.324 1524.47 738.495 1520.93 Q736.69 1517.37 733.055 1517.37 M733.055 1513.66 Q738.866 1513.66 741.921 1518.27 Q745 1522.85 745 1531.6 Q745 1540.33 741.921 1544.94 Q738.866 1549.52 733.055 1549.52 Q727.245 1549.52 724.167 1544.94 Q721.111 1540.33 721.111 1531.6 Q721.111 1522.85 724.167 1518.27 Q727.245 1513.66 733.055 1513.66 Z\" fill=\"#000000\" fill-rule=\"evenodd\" fill-opacity=\"1\" /><path clip-path=\"url(#clip660)\" d=\"M753.217 1542.97 L758.102 1542.97 L758.102 1548.85 L753.217 1548.85 L753.217 1542.97 Z\" fill=\"#000000\" fill-rule=\"evenodd\" fill-opacity=\"1\" /><path clip-path=\"url(#clip660)\" d=\"M772.314 1544.91 L788.634 1544.91 L788.634 1548.85 L766.689 1548.85 L766.689 1544.91 Q769.351 1542.16 773.935 1537.53 Q778.541 1532.88 779.722 1531.53 Q781.967 1529.01 782.847 1527.27 Q783.75 1525.51 783.75 1523.82 Q783.75 1521.07 781.805 1519.33 Q779.884 1517.6 776.782 1517.6 Q774.583 1517.6 772.129 1518.36 Q769.699 1519.13 766.921 1520.68 L766.921 1515.95 Q769.745 1514.82 772.199 1514.24 Q774.652 1513.66 776.689 1513.66 Q782.06 1513.66 785.254 1516.35 Q788.449 1519.03 788.449 1523.52 Q788.449 1525.65 787.638 1527.57 Q786.851 1529.47 784.745 1532.07 Q784.166 1532.74 781.064 1535.95 Q777.963 1539.15 772.314 1544.91 Z\" fill=\"#000000\" fill-rule=\"evenodd\" fill-opacity=\"1\" /><path clip-path=\"url(#clip660)\" d=\"M798.495 1514.29 L816.851 1514.29 L816.851 1518.22 L802.777 1518.22 L802.777 1526.7 Q803.796 1526.35 804.814 1526.19 Q805.833 1526 806.851 1526 Q812.638 1526 816.018 1529.17 Q819.397 1532.34 819.397 1537.76 Q819.397 1543.34 815.925 1546.44 Q812.453 1549.52 806.134 1549.52 Q803.958 1549.52 801.689 1549.15 Q799.444 1548.78 797.036 1548.04 L797.036 1543.34 Q799.12 1544.47 801.342 1545.03 Q803.564 1545.58 806.041 1545.58 Q810.046 1545.58 812.384 1543.48 Q814.722 1541.37 814.722 1537.76 Q814.722 1534.15 812.384 1532.04 Q810.046 1529.94 806.041 1529.94 Q804.166 1529.94 802.291 1530.35 Q800.439 1530.77 798.495 1531.65 L798.495 1514.29 Z\" fill=\"#000000\" fill-rule=\"evenodd\" fill-opacity=\"1\" /><path clip-path=\"url(#clip660)\" d=\"M1239.77 1517.37 Q1236.16 1517.37 1234.33 1520.93 Q1232.52 1524.47 1232.52 1531.6 Q1232.52 1538.71 1234.33 1542.27 Q1236.16 1545.82 1239.77 1545.82 Q1243.4 1545.82 1245.21 1542.27 Q1247.04 1538.71 1247.04 1531.6 Q1247.04 1524.47 1245.21 1520.93 Q1243.4 1517.37 1239.77 1517.37 M1239.77 1513.66 Q1245.58 1513.66 1248.64 1518.27 Q1251.71 1522.85 1251.71 1531.6 Q1251.71 1540.33 1248.64 1544.94 Q1245.58 1549.52 1239.77 1549.52 Q1233.96 1549.52 1230.88 1544.94 Q1227.83 1540.33 1227.83 1531.6 Q1227.83 1522.85 1230.88 1518.27 Q1233.96 1513.66 1239.77 1513.66 Z\" fill=\"#000000\" fill-rule=\"evenodd\" fill-opacity=\"1\" /><path clip-path=\"url(#clip660)\" d=\"M1259.93 1542.97 L1264.82 1542.97 L1264.82 1548.85 L1259.93 1548.85 L1259.93 1542.97 Z\" fill=\"#000000\" fill-rule=\"evenodd\" fill-opacity=\"1\" /><path clip-path=\"url(#clip660)\" d=\"M1275.05 1514.29 L1293.4 1514.29 L1293.4 1518.22 L1279.33 1518.22 L1279.33 1526.7 Q1280.35 1526.35 1281.37 1526.19 Q1282.39 1526 1283.4 1526 Q1289.19 1526 1292.57 1529.17 Q1295.95 1532.34 1295.95 1537.76 Q1295.95 1543.34 1292.48 1546.44 Q1289.01 1549.52 1282.69 1549.52 Q1280.51 1549.52 1278.24 1549.15 Q1276 1548.78 1273.59 1548.04 L1273.59 1543.34 Q1275.67 1544.47 1277.89 1545.03 Q1280.12 1545.58 1282.59 1545.58 Q1286.6 1545.58 1288.94 1543.48 Q1291.27 1541.37 1291.27 1537.76 Q1291.27 1534.15 1288.94 1532.04 Q1286.6 1529.94 1282.59 1529.94 Q1280.72 1529.94 1278.84 1530.35 Q1276.99 1530.77 1275.05 1531.65 L1275.05 1514.29 Z\" fill=\"#000000\" fill-rule=\"evenodd\" fill-opacity=\"1\" /><path clip-path=\"url(#clip660)\" d=\"M1315.16 1517.37 Q1311.55 1517.37 1309.72 1520.93 Q1307.92 1524.47 1307.92 1531.6 Q1307.92 1538.71 1309.72 1542.27 Q1311.55 1545.82 1315.16 1545.82 Q1318.8 1545.82 1320.6 1542.27 Q1322.43 1538.71 1322.43 1531.6 Q1322.43 1524.47 1320.6 1520.93 Q1318.8 1517.37 1315.16 1517.37 M1315.16 1513.66 Q1320.97 1513.66 1324.03 1518.27 Q1327.11 1522.85 1327.11 1531.6 Q1327.11 1540.33 1324.03 1544.94 Q1320.97 1549.52 1315.16 1549.52 Q1309.35 1549.52 1306.27 1544.94 Q1303.22 1540.33 1303.22 1531.6 Q1303.22 1522.85 1306.27 1518.27 Q1309.35 1513.66 1315.16 1513.66 Z\" fill=\"#000000\" fill-rule=\"evenodd\" fill-opacity=\"1\" /><path clip-path=\"url(#clip660)\" d=\"M1747.48 1517.37 Q1743.87 1517.37 1742.04 1520.93 Q1740.23 1524.47 1740.23 1531.6 Q1740.23 1538.71 1742.04 1542.27 Q1743.87 1545.82 1747.48 1545.82 Q1751.11 1545.82 1752.92 1542.27 Q1754.75 1538.71 1754.75 1531.6 Q1754.75 1524.47 1752.92 1520.93 Q1751.11 1517.37 1747.48 1517.37 M1747.48 1513.66 Q1753.29 1513.66 1756.35 1518.27 Q1759.42 1522.85 1759.42 1531.6 Q1759.42 1540.33 1756.35 1544.94 Q1753.29 1549.52 1747.48 1549.52 Q1741.67 1549.52 1738.59 1544.94 Q1735.54 1540.33 1735.54 1531.6 Q1735.54 1522.85 1738.59 1518.27 Q1741.67 1513.66 1747.48 1513.66 Z\" fill=\"#000000\" fill-rule=\"evenodd\" fill-opacity=\"1\" /><path clip-path=\"url(#clip660)\" d=\"M1767.64 1542.97 L1772.53 1542.97 L1772.53 1548.85 L1767.64 1548.85 L1767.64 1542.97 Z\" fill=\"#000000\" fill-rule=\"evenodd\" fill-opacity=\"1\" /><path clip-path=\"url(#clip660)\" d=\"M1781.53 1514.29 L1803.75 1514.29 L1803.75 1516.28 L1791.21 1548.85 L1786.32 1548.85 L1798.13 1518.22 L1781.53 1518.22 L1781.53 1514.29 Z\" fill=\"#000000\" fill-rule=\"evenodd\" fill-opacity=\"1\" /><path clip-path=\"url(#clip660)\" d=\"M1812.92 1514.29 L1831.28 1514.29 L1831.28 1518.22 L1817.2 1518.22 L1817.2 1526.7 Q1818.22 1526.35 1819.24 1526.19 Q1820.26 1526 1821.28 1526 Q1827.06 1526 1830.44 1529.17 Q1833.82 1532.34 1833.82 1537.76 Q1833.82 1543.34 1830.35 1546.44 Q1826.88 1549.52 1820.56 1549.52 Q1818.38 1549.52 1816.11 1549.15 Q1813.87 1548.78 1811.46 1548.04 L1811.46 1543.34 Q1813.54 1544.47 1815.77 1545.03 Q1817.99 1545.58 1820.47 1545.58 Q1824.47 1545.58 1826.81 1543.48 Q1829.15 1541.37 1829.15 1537.76 Q1829.15 1534.15 1826.81 1532.04 Q1824.47 1529.94 1820.47 1529.94 Q1818.59 1529.94 1816.72 1530.35 Q1814.86 1530.77 1812.92 1531.65 L1812.92 1514.29 Z\" fill=\"#000000\" fill-rule=\"evenodd\" fill-opacity=\"1\" /><path clip-path=\"url(#clip660)\" d=\"M2243.96 1544.91 L2251.6 1544.91 L2251.6 1518.55 L2243.29 1520.21 L2243.29 1515.95 L2251.56 1514.29 L2256.23 1514.29 L2256.23 1544.91 L2263.87 1544.91 L2263.87 1548.85 L2243.96 1548.85 L2243.96 1544.91 Z\" fill=\"#000000\" fill-rule=\"evenodd\" fill-opacity=\"1\" /><path clip-path=\"url(#clip660)\" d=\"M2273.31 1542.97 L2278.2 1542.97 L2278.2 1548.85 L2273.31 1548.85 L2273.31 1542.97 Z\" fill=\"#000000\" fill-rule=\"evenodd\" fill-opacity=\"1\" /><path clip-path=\"url(#clip660)\" d=\"M2298.38 1517.37 Q2294.77 1517.37 2292.94 1520.93 Q2291.14 1524.47 2291.14 1531.6 Q2291.14 1538.71 2292.94 1542.27 Q2294.77 1545.82 2298.38 1545.82 Q2302.02 1545.82 2303.82 1542.27 Q2305.65 1538.71 2305.65 1531.6 Q2305.65 1524.47 2303.82 1520.93 Q2302.02 1517.37 2298.38 1517.37 M2298.38 1513.66 Q2304.19 1513.66 2307.25 1518.27 Q2310.33 1522.85 2310.33 1531.6 Q2310.33 1540.33 2307.25 1544.94 Q2304.19 1549.52 2298.38 1549.52 Q2292.57 1549.52 2289.49 1544.94 Q2286.44 1540.33 2286.44 1531.6 Q2286.44 1522.85 2289.49 1518.27 Q2292.57 1513.66 2298.38 1513.66 Z\" fill=\"#000000\" fill-rule=\"evenodd\" fill-opacity=\"1\" /><path clip-path=\"url(#clip660)\" d=\"M2328.55 1517.37 Q2324.93 1517.37 2323.11 1520.93 Q2321.3 1524.47 2321.3 1531.6 Q2321.3 1538.71 2323.11 1542.27 Q2324.93 1545.82 2328.55 1545.82 Q2332.18 1545.82 2333.99 1542.27 Q2335.81 1538.71 2335.81 1531.6 Q2335.81 1524.47 2333.99 1520.93 Q2332.18 1517.37 2328.55 1517.37 M2328.55 1513.66 Q2334.36 1513.66 2337.41 1518.27 Q2340.49 1522.85 2340.49 1531.6 Q2340.49 1540.33 2337.41 1544.94 Q2334.36 1549.52 2328.55 1549.52 Q2322.74 1549.52 2319.66 1544.94 Q2316.6 1540.33 2316.6 1531.6 Q2316.6 1522.85 2319.66 1518.27 Q2322.74 1513.66 2328.55 1513.66 Z\" fill=\"#000000\" fill-rule=\"evenodd\" fill-opacity=\"1\" /><polyline clip-path=\"url(#clip662)\" style=\"stroke:#000000; stroke-linecap:butt; stroke-linejoin:round; stroke-width:2; stroke-opacity:0.1; fill:none\" points=\"\n",
       "  202.177,1368.4 2352.76,1368.4 \n",
       "  \"/>\n",
       "<polyline clip-path=\"url(#clip662)\" style=\"stroke:#000000; stroke-linecap:butt; stroke-linejoin:round; stroke-width:2; stroke-opacity:0.1; fill:none\" points=\"\n",
       "  202.177,1027.82 2352.76,1027.82 \n",
       "  \"/>\n",
       "<polyline clip-path=\"url(#clip662)\" style=\"stroke:#000000; stroke-linecap:butt; stroke-linejoin:round; stroke-width:2; stroke-opacity:0.1; fill:none\" points=\"\n",
       "  202.177,687.234 2352.76,687.234 \n",
       "  \"/>\n",
       "<polyline clip-path=\"url(#clip662)\" style=\"stroke:#000000; stroke-linecap:butt; stroke-linejoin:round; stroke-width:2; stroke-opacity:0.1; fill:none\" points=\"\n",
       "  202.177,346.65 2352.76,346.65 \n",
       "  \"/>\n",
       "<polyline clip-path=\"url(#clip660)\" style=\"stroke:#000000; stroke-linecap:butt; stroke-linejoin:round; stroke-width:4; stroke-opacity:1; fill:none\" points=\"\n",
       "  202.177,1486.45 202.177,47.2441 \n",
       "  \"/>\n",
       "<polyline clip-path=\"url(#clip660)\" style=\"stroke:#000000; stroke-linecap:butt; stroke-linejoin:round; stroke-width:4; stroke-opacity:1; fill:none\" points=\"\n",
       "  202.177,1368.4 221.074,1368.4 \n",
       "  \"/>\n",
       "<polyline clip-path=\"url(#clip660)\" style=\"stroke:#000000; stroke-linecap:butt; stroke-linejoin:round; stroke-width:4; stroke-opacity:1; fill:none\" points=\"\n",
       "  202.177,1027.82 221.074,1027.82 \n",
       "  \"/>\n",
       "<polyline clip-path=\"url(#clip660)\" style=\"stroke:#000000; stroke-linecap:butt; stroke-linejoin:round; stroke-width:4; stroke-opacity:1; fill:none\" points=\"\n",
       "  202.177,687.234 221.074,687.234 \n",
       "  \"/>\n",
       "<polyline clip-path=\"url(#clip660)\" style=\"stroke:#000000; stroke-linecap:butt; stroke-linejoin:round; stroke-width:4; stroke-opacity:1; fill:none\" points=\"\n",
       "  202.177,346.65 221.074,346.65 \n",
       "  \"/>\n",
       "<path clip-path=\"url(#clip660)\" d=\"M57.7745 1381.75 L74.0939 1381.75 L74.0939 1385.68 L52.1495 1385.68 L52.1495 1381.75 Q54.8115 1378.99 59.3949 1374.36 Q64.0013 1369.71 65.1819 1368.37 Q67.4272 1365.85 68.3068 1364.11 Q69.2096 1362.35 69.2096 1360.66 Q69.2096 1357.91 67.2652 1356.17 Q65.3439 1354.43 62.2421 1354.43 Q60.043 1354.43 57.5893 1355.2 Q55.1588 1355.96 52.381 1357.51 L52.381 1352.79 Q55.2051 1351.66 57.6588 1351.08 Q60.1124 1350.5 62.1495 1350.5 Q67.5198 1350.5 70.7142 1353.18 Q73.9087 1355.87 73.9087 1360.36 Q73.9087 1362.49 73.0985 1364.41 Q72.3115 1366.31 70.205 1368.9 Q69.6263 1369.57 66.5245 1372.79 Q63.4226 1375.98 57.7745 1381.75 Z\" fill=\"#000000\" fill-rule=\"evenodd\" fill-opacity=\"1\" /><path clip-path=\"url(#clip660)\" d=\"M93.9086 1354.2 Q90.2975 1354.2 88.4688 1357.77 Q86.6632 1361.31 86.6632 1368.44 Q86.6632 1375.54 88.4688 1379.11 Q90.2975 1382.65 93.9086 1382.65 Q97.5428 1382.65 99.3483 1379.11 Q101.177 1375.54 101.177 1368.44 Q101.177 1361.31 99.3483 1357.77 Q97.5428 1354.2 93.9086 1354.2 M93.9086 1350.5 Q99.7187 1350.5 102.774 1355.1 Q105.853 1359.69 105.853 1368.44 Q105.853 1377.16 102.774 1381.77 Q99.7187 1386.35 93.9086 1386.35 Q88.0984 1386.35 85.0197 1381.77 Q81.9642 1377.16 81.9642 1368.44 Q81.9642 1359.69 85.0197 1355.1 Q88.0984 1350.5 93.9086 1350.5 Z\" fill=\"#000000\" fill-rule=\"evenodd\" fill-opacity=\"1\" /><path clip-path=\"url(#clip660)\" d=\"M124.07 1354.2 Q120.459 1354.2 118.631 1357.77 Q116.825 1361.31 116.825 1368.44 Q116.825 1375.54 118.631 1379.11 Q120.459 1382.65 124.07 1382.65 Q127.705 1382.65 129.51 1379.11 Q131.339 1375.54 131.339 1368.44 Q131.339 1361.31 129.51 1357.77 Q127.705 1354.2 124.07 1354.2 M124.07 1350.5 Q129.881 1350.5 132.936 1355.1 Q136.015 1359.69 136.015 1368.44 Q136.015 1377.16 132.936 1381.77 Q129.881 1386.35 124.07 1386.35 Q118.26 1386.35 115.182 1381.77 Q112.126 1377.16 112.126 1368.44 Q112.126 1359.69 115.182 1355.1 Q118.26 1350.5 124.07 1350.5 Z\" fill=\"#000000\" fill-rule=\"evenodd\" fill-opacity=\"1\" /><path clip-path=\"url(#clip660)\" d=\"M154.232 1354.2 Q150.621 1354.2 148.793 1357.77 Q146.987 1361.31 146.987 1368.44 Q146.987 1375.54 148.793 1379.11 Q150.621 1382.65 154.232 1382.65 Q157.867 1382.65 159.672 1379.11 Q161.501 1375.54 161.501 1368.44 Q161.501 1361.31 159.672 1357.77 Q157.867 1354.2 154.232 1354.2 M154.232 1350.5 Q160.042 1350.5 163.098 1355.1 Q166.177 1359.69 166.177 1368.44 Q166.177 1377.16 163.098 1381.77 Q160.042 1386.35 154.232 1386.35 Q148.422 1386.35 145.343 1381.77 Q142.288 1377.16 142.288 1368.44 Q142.288 1359.69 145.343 1355.1 Q148.422 1350.5 154.232 1350.5 Z\" fill=\"#000000\" fill-rule=\"evenodd\" fill-opacity=\"1\" /><path clip-path=\"url(#clip660)\" d=\"M66.5939 1014.61 L54.7884 1033.06 L66.5939 1033.06 L66.5939 1014.61 M65.367 1010.54 L71.2466 1010.54 L71.2466 1033.06 L76.1772 1033.06 L76.1772 1036.95 L71.2466 1036.95 L71.2466 1045.1 L66.5939 1045.1 L66.5939 1036.95 L50.9921 1036.95 L50.9921 1032.44 L65.367 1010.54 Z\" fill=\"#000000\" fill-rule=\"evenodd\" fill-opacity=\"1\" /><path clip-path=\"url(#clip660)\" d=\"M93.9086 1013.62 Q90.2975 1013.62 88.4688 1017.18 Q86.6632 1020.72 86.6632 1027.85 Q86.6632 1034.96 88.4688 1038.52 Q90.2975 1042.07 93.9086 1042.07 Q97.5428 1042.07 99.3483 1038.52 Q101.177 1034.96 101.177 1027.85 Q101.177 1020.72 99.3483 1017.18 Q97.5428 1013.62 93.9086 1013.62 M93.9086 1009.91 Q99.7187 1009.91 102.774 1014.52 Q105.853 1019.1 105.853 1027.85 Q105.853 1036.58 102.774 1041.19 Q99.7187 1045.77 93.9086 1045.77 Q88.0984 1045.77 85.0197 1041.19 Q81.9642 1036.58 81.9642 1027.85 Q81.9642 1019.1 85.0197 1014.52 Q88.0984 1009.91 93.9086 1009.91 Z\" fill=\"#000000\" fill-rule=\"evenodd\" fill-opacity=\"1\" /><path clip-path=\"url(#clip660)\" d=\"M124.07 1013.62 Q120.459 1013.62 118.631 1017.18 Q116.825 1020.72 116.825 1027.85 Q116.825 1034.96 118.631 1038.52 Q120.459 1042.07 124.07 1042.07 Q127.705 1042.07 129.51 1038.52 Q131.339 1034.96 131.339 1027.85 Q131.339 1020.72 129.51 1017.18 Q127.705 1013.62 124.07 1013.62 M124.07 1009.91 Q129.881 1009.91 132.936 1014.52 Q136.015 1019.1 136.015 1027.85 Q136.015 1036.58 132.936 1041.19 Q129.881 1045.77 124.07 1045.77 Q118.26 1045.77 115.182 1041.19 Q112.126 1036.58 112.126 1027.85 Q112.126 1019.1 115.182 1014.52 Q118.26 1009.91 124.07 1009.91 Z\" fill=\"#000000\" fill-rule=\"evenodd\" fill-opacity=\"1\" /><path clip-path=\"url(#clip660)\" d=\"M154.232 1013.62 Q150.621 1013.62 148.793 1017.18 Q146.987 1020.72 146.987 1027.85 Q146.987 1034.96 148.793 1038.52 Q150.621 1042.07 154.232 1042.07 Q157.867 1042.07 159.672 1038.52 Q161.501 1034.96 161.501 1027.85 Q161.501 1020.72 159.672 1017.18 Q157.867 1013.62 154.232 1013.62 M154.232 1009.91 Q160.042 1009.91 163.098 1014.52 Q166.177 1019.1 166.177 1027.85 Q166.177 1036.58 163.098 1041.19 Q160.042 1045.77 154.232 1045.77 Q148.422 1045.77 145.343 1041.19 Q142.288 1036.58 142.288 1027.85 Q142.288 1019.1 145.343 1014.52 Q148.422 1009.91 154.232 1009.91 Z\" fill=\"#000000\" fill-rule=\"evenodd\" fill-opacity=\"1\" /><path clip-path=\"url(#clip660)\" d=\"M64.3254 685.371 Q61.1773 685.371 59.3254 687.524 Q57.4967 689.677 57.4967 693.426 Q57.4967 697.153 59.3254 699.329 Q61.1773 701.482 64.3254 701.482 Q67.4735 701.482 69.3022 699.329 Q71.1541 697.153 71.1541 693.426 Q71.1541 689.677 69.3022 687.524 Q67.4735 685.371 64.3254 685.371 M73.6077 670.718 L73.6077 674.978 Q71.8485 674.144 70.0429 673.704 Q68.2606 673.265 66.5013 673.265 Q61.8717 673.265 59.418 676.39 Q56.9875 679.515 56.6402 685.834 Q58.006 683.82 60.0662 682.755 Q62.1263 681.667 64.6032 681.667 Q69.8115 681.667 72.8207 684.839 Q75.8531 687.987 75.8531 693.426 Q75.8531 698.751 72.705 701.968 Q69.5568 705.186 64.3254 705.186 Q58.33 705.186 55.1588 700.602 Q51.9875 695.996 51.9875 687.269 Q51.9875 679.075 55.8764 674.214 Q59.7652 669.329 66.3161 669.329 Q68.0754 669.329 69.8578 669.677 Q71.6633 670.024 73.6077 670.718 Z\" fill=\"#000000\" fill-rule=\"evenodd\" fill-opacity=\"1\" /><path clip-path=\"url(#clip660)\" d=\"M93.9086 673.033 Q90.2975 673.033 88.4688 676.598 Q86.6632 680.14 86.6632 687.269 Q86.6632 694.376 88.4688 697.94 Q90.2975 701.482 93.9086 701.482 Q97.5428 701.482 99.3483 697.94 Q101.177 694.376 101.177 687.269 Q101.177 680.14 99.3483 676.598 Q97.5428 673.033 93.9086 673.033 M93.9086 669.329 Q99.7187 669.329 102.774 673.936 Q105.853 678.519 105.853 687.269 Q105.853 695.996 102.774 700.602 Q99.7187 705.186 93.9086 705.186 Q88.0984 705.186 85.0197 700.602 Q81.9642 695.996 81.9642 687.269 Q81.9642 678.519 85.0197 673.936 Q88.0984 669.329 93.9086 669.329 Z\" fill=\"#000000\" fill-rule=\"evenodd\" fill-opacity=\"1\" /><path clip-path=\"url(#clip660)\" d=\"M124.07 673.033 Q120.459 673.033 118.631 676.598 Q116.825 680.14 116.825 687.269 Q116.825 694.376 118.631 697.94 Q120.459 701.482 124.07 701.482 Q127.705 701.482 129.51 697.94 Q131.339 694.376 131.339 687.269 Q131.339 680.14 129.51 676.598 Q127.705 673.033 124.07 673.033 M124.07 669.329 Q129.881 669.329 132.936 673.936 Q136.015 678.519 136.015 687.269 Q136.015 695.996 132.936 700.602 Q129.881 705.186 124.07 705.186 Q118.26 705.186 115.182 700.602 Q112.126 695.996 112.126 687.269 Q112.126 678.519 115.182 673.936 Q118.26 669.329 124.07 669.329 Z\" fill=\"#000000\" fill-rule=\"evenodd\" fill-opacity=\"1\" /><path clip-path=\"url(#clip660)\" d=\"M154.232 673.033 Q150.621 673.033 148.793 676.598 Q146.987 680.14 146.987 687.269 Q146.987 694.376 148.793 697.94 Q150.621 701.482 154.232 701.482 Q157.867 701.482 159.672 697.94 Q161.501 694.376 161.501 687.269 Q161.501 680.14 159.672 676.598 Q157.867 673.033 154.232 673.033 M154.232 669.329 Q160.042 669.329 163.098 673.936 Q166.177 678.519 166.177 687.269 Q166.177 695.996 163.098 700.602 Q160.042 705.186 154.232 705.186 Q148.422 705.186 145.343 700.602 Q142.288 695.996 142.288 687.269 Q142.288 678.519 145.343 673.936 Q148.422 669.329 154.232 669.329 Z\" fill=\"#000000\" fill-rule=\"evenodd\" fill-opacity=\"1\" /><path clip-path=\"url(#clip660)\" d=\"M63.7467 347.518 Q60.4134 347.518 58.4921 349.301 Q56.5939 351.083 56.5939 354.208 Q56.5939 357.333 58.4921 359.115 Q60.4134 360.898 63.7467 360.898 Q67.08 360.898 69.0013 359.115 Q70.9226 357.31 70.9226 354.208 Q70.9226 351.083 69.0013 349.301 Q67.1032 347.518 63.7467 347.518 M59.0708 345.527 Q56.0615 344.787 54.3717 342.726 Q52.7051 340.666 52.7051 337.703 Q52.7051 333.56 55.6449 331.152 Q58.6078 328.745 63.7467 328.745 Q68.9087 328.745 71.8485 331.152 Q74.7883 333.56 74.7883 337.703 Q74.7883 340.666 73.0985 342.726 Q71.4318 344.787 68.4457 345.527 Q71.8253 346.314 73.7003 348.606 Q75.5985 350.898 75.5985 354.208 Q75.5985 359.231 72.5198 361.916 Q69.4642 364.601 63.7467 364.601 Q58.0291 364.601 54.9504 361.916 Q51.8949 359.231 51.8949 354.208 Q51.8949 350.898 53.793 348.606 Q55.6912 346.314 59.0708 345.527 M57.3578 338.143 Q57.3578 340.828 59.0245 342.333 Q60.7143 343.838 63.7467 343.838 Q66.7559 343.838 68.4457 342.333 Q70.1587 340.828 70.1587 338.143 Q70.1587 335.458 68.4457 333.953 Q66.7559 332.449 63.7467 332.449 Q60.7143 332.449 59.0245 333.953 Q57.3578 335.458 57.3578 338.143 Z\" fill=\"#000000\" fill-rule=\"evenodd\" fill-opacity=\"1\" /><path clip-path=\"url(#clip660)\" d=\"M93.9086 332.449 Q90.2975 332.449 88.4688 336.014 Q86.6632 339.555 86.6632 346.685 Q86.6632 353.791 88.4688 357.356 Q90.2975 360.898 93.9086 360.898 Q97.5428 360.898 99.3483 357.356 Q101.177 353.791 101.177 346.685 Q101.177 339.555 99.3483 336.014 Q97.5428 332.449 93.9086 332.449 M93.9086 328.745 Q99.7187 328.745 102.774 333.352 Q105.853 337.935 105.853 346.685 Q105.853 355.412 102.774 360.018 Q99.7187 364.601 93.9086 364.601 Q88.0984 364.601 85.0197 360.018 Q81.9642 355.412 81.9642 346.685 Q81.9642 337.935 85.0197 333.352 Q88.0984 328.745 93.9086 328.745 Z\" fill=\"#000000\" fill-rule=\"evenodd\" fill-opacity=\"1\" /><path clip-path=\"url(#clip660)\" d=\"M124.07 332.449 Q120.459 332.449 118.631 336.014 Q116.825 339.555 116.825 346.685 Q116.825 353.791 118.631 357.356 Q120.459 360.898 124.07 360.898 Q127.705 360.898 129.51 357.356 Q131.339 353.791 131.339 346.685 Q131.339 339.555 129.51 336.014 Q127.705 332.449 124.07 332.449 M124.07 328.745 Q129.881 328.745 132.936 333.352 Q136.015 337.935 136.015 346.685 Q136.015 355.412 132.936 360.018 Q129.881 364.601 124.07 364.601 Q118.26 364.601 115.182 360.018 Q112.126 355.412 112.126 346.685 Q112.126 337.935 115.182 333.352 Q118.26 328.745 124.07 328.745 Z\" fill=\"#000000\" fill-rule=\"evenodd\" fill-opacity=\"1\" /><path clip-path=\"url(#clip660)\" d=\"M154.232 332.449 Q150.621 332.449 148.793 336.014 Q146.987 339.555 146.987 346.685 Q146.987 353.791 148.793 357.356 Q150.621 360.898 154.232 360.898 Q157.867 360.898 159.672 357.356 Q161.501 353.791 161.501 346.685 Q161.501 339.555 159.672 336.014 Q157.867 332.449 154.232 332.449 M154.232 328.745 Q160.042 328.745 163.098 333.352 Q166.177 337.935 166.177 346.685 Q166.177 355.412 163.098 360.018 Q160.042 364.601 154.232 364.601 Q148.422 364.601 145.343 360.018 Q142.288 355.412 142.288 346.685 Q142.288 337.935 145.343 333.352 Q148.422 328.745 154.232 328.745 Z\" fill=\"#000000\" fill-rule=\"evenodd\" fill-opacity=\"1\" /><polyline clip-path=\"url(#clip662)\" style=\"stroke:#009af9; stroke-linecap:butt; stroke-linejoin:round; stroke-width:4; stroke-opacity:1; fill:none\" points=\"\n",
       "  263.042,1057.45 364.485,1136.47 465.927,1194.19 567.369,1261.8 668.812,1324.13 770.254,1365.34 871.697,1405.7 973.139,1425.11 1074.58,1445.72 1176.02,1419.15 \n",
       "  1277.47,1367.38 1378.91,1283.26 1480.35,1196.07 1581.79,1075.16 1683.24,953.912 1784.68,849.012 1886.12,698.133 1987.56,579.099 2089.01,414.426 2190.45,247.881 \n",
       "  2291.89,87.9763 \n",
       "  \"/>\n",
       "<path clip-path=\"url(#clip660)\" d=\"\n",
       "M1989.69 198.898 L2281.07 198.898 L2281.07 95.2176 L1989.69 95.2176  Z\n",
       "  \" fill=\"#ffffff\" fill-rule=\"evenodd\" fill-opacity=\"1\"/>\n",
       "<polyline clip-path=\"url(#clip660)\" style=\"stroke:#000000; stroke-linecap:butt; stroke-linejoin:round; stroke-width:4; stroke-opacity:1; fill:none\" points=\"\n",
       "  1989.69,198.898 2281.07,198.898 2281.07,95.2176 1989.69,95.2176 1989.69,198.898 \n",
       "  \"/>\n",
       "<polyline clip-path=\"url(#clip660)\" style=\"stroke:#009af9; stroke-linecap:butt; stroke-linejoin:round; stroke-width:4; stroke-opacity:1; fill:none\" points=\"\n",
       "  2013.58,147.058 2156.95,147.058 \n",
       "  \"/>\n",
       "<path clip-path=\"url(#clip660)\" d=\"M2194.69 166.745 Q2192.89 171.375 2191.17 172.787 Q2189.46 174.199 2186.59 174.199 L2183.19 174.199 L2183.19 170.634 L2185.69 170.634 Q2187.45 170.634 2188.42 169.8 Q2189.39 168.967 2190.57 165.865 L2191.34 163.921 L2180.85 138.412 L2185.36 138.412 L2193.46 158.689 L2201.57 138.412 L2206.08 138.412 L2194.69 166.745 Z\" fill=\"#000000\" fill-rule=\"evenodd\" fill-opacity=\"1\" /><path clip-path=\"url(#clip660)\" d=\"M2213.37 160.402 L2221.01 160.402 L2221.01 134.037 L2212.7 135.703 L2212.7 131.444 L2220.96 129.778 L2225.64 129.778 L2225.64 160.402 L2233.28 160.402 L2233.28 164.338 L2213.37 164.338 L2213.37 160.402 Z\" fill=\"#000000\" fill-rule=\"evenodd\" fill-opacity=\"1\" /></svg>\n"
      ]
     },
     "metadata": {},
     "output_type": "display_data"
    }
   ],
   "source": [
    "display(probs[difs .== minimum(difs)])\n",
    "plot(probs, difs)"
   ]
  },
  {
   "cell_type": "markdown",
   "metadata": {},
   "source": [
    "## Let's count attribute changes now"
   ]
  },
  {
   "cell_type": "code",
   "execution_count": 27,
   "metadata": {},
   "outputs": [
    {
     "data": {
      "text/plain": [
       "Dict{String, Set{Any}} with 12 entries:\n",
       "  \"premaritalsex_\" => Set([2, 3, 1])\n",
       "  \"ethnicity_1\"    => Set([4, 2, 3, 1])\n",
       "  \"hometown_1\"     => Set([2, 3, 1])\n",
       "  \"political_\"     => Set([2, 3, 1])\n",
       "  \"abortion_\"      => Set([2, 3, 1])\n",
       "  \"homosexual_\"    => Set([2, 3, 1])\n",
       "  \"marijuana_\"     => Set([2, 3, 1])\n",
       "  \"gender_1\"       => Set([2, 1])\n",
       "  \"gaymarriage_\"   => Set([2, 3, 1])\n",
       "  \"deathpen_\"      => Set([2, 3, 1])\n",
       "  \"euthanasia_\"    => Set([2, 3, 1])\n",
       "  \"age_1\"          => Set([2, 1])"
      ]
     },
     "metadata": {},
     "output_type": "display_data"
    }
   ],
   "source": [
    "#creating list of attributes\n",
    "list_of_attributes = Set([k for n in file[1].nodes for k in keys(file[1].nodes[n+1])])\n",
    "\n",
    "# creating possible attribute values\n",
    "attribute_values = Dict((attribute, Set() ) for attribute in list_of_attributes)\n",
    "\n",
    "for sem in 1:6\n",
    "    for node in file[sem].nodes()\n",
    "        for attribute in list_of_attributes\n",
    "            push!(attribute_values[attribute], convert(Int, file[sem].nodes[node + 1][attribute]))\n",
    "        end\n",
    "    end\n",
    "end\n",
    "\n",
    "attribute_values\n",
    "\n",
    "#To apply PCA or other analysis on all attributes (i.e. including ethnicity) \n",
    "#one would have to create an attribute for each race, that is is_1, is_2 etc. \n",
    "#Because this attribute is not ordered. "
   ]
  },
  {
   "cell_type": "code",
   "execution_count": 28,
   "metadata": {},
   "outputs": [
    {
     "data": {
      "text/plain": [
       "Dict{Int64, Matrix{Float64}} with 6 entries:\n",
       "  5 => [3.0 3.0 … 2.0 1.0; 3.0 3.0 … 2.0 2.0; … ; NaN NaN … NaN NaN; 1.0 3.0 … …\n",
       "  4 => [3.0 3.0 … 2.0 1.0; 3.0 3.0 … 2.0 1.0; … ; 1.0 1.0 … 1.0 1.0; 1.0 3.0 … …\n",
       "  6 => [NaN NaN … NaN NaN; 3.0 3.0 … 2.0 2.0; … ; NaN NaN … NaN NaN; NaN NaN … …\n",
       "  2 => [NaN NaN … NaN NaN; 3.0 3.0 … 2.0 2.0; … ; NaN NaN … NaN NaN; NaN NaN … …\n",
       "  3 => [3.0 3.0 … 2.0 1.0; 3.0 1.0 … 2.0 2.0; … ; NaN NaN … NaN NaN; NaN NaN … …\n",
       "  1 => [3.0 3.0 … 2.0 1.0; 2.0 2.0 … 2.0 1.0; … ; NaN NaN … NaN NaN; NaN NaN … …"
      ]
     },
     "metadata": {},
     "output_type": "display_data"
    }
   ],
   "source": [
    "#creating table of attribute values\n",
    "attributes = Dict((i, zeros(length(nodes), length(list_of_attributes))) for i in 1:6)\n",
    "# for i in 1:6\n",
    "#     attributes[i] = zeros(length(file[i].nodes), length(list_of_attributes))\n",
    "# end\n",
    "\n",
    "for sem in 1:6\n",
    "    for (i, node) in enumerate(nodes)\n",
    "        for (j, attribute) in enumerate(list_of_attributes)\n",
    "            if node in file[sem].nodes()\n",
    "                attributes[sem][i,j] = file[sem].nodes[node + 1][attribute]\n",
    "            else\n",
    "                attributes[sem][i,j] = NaN\n",
    "            end\n",
    "        end\n",
    "    end\n",
    "end\n",
    "attributes"
   ]
  },
  {
   "cell_type": "code",
   "execution_count": 29,
   "metadata": {},
   "outputs": [
    {
     "name": "stdout",
     "output_type": "stream",
     "text": [
      "Set([\"abortion_\", \"premaritalsex_\", \"homosexual_\", \"marijuana_\", \"euthanasia_\", \"gaymarriage_\", \"deathpen_\", \"political_\"])"
     ]
    },
    {
     "data": {
      "text/plain": [
       "Dict{Int64, Matrix{Float64}} with 6 entries:\n",
       "  5 => [3.0 3.0 … 3.0 1.0; 3.0 3.0 … 3.0 2.0; … ; NaN NaN … NaN NaN; 1.0 3.0 … …\n",
       "  4 => [3.0 3.0 … 3.0 1.0; 3.0 3.0 … 1.0 1.0; … ; 1.0 1.0 … 3.0 1.0; 1.0 3.0 … …\n",
       "  6 => [NaN NaN … NaN NaN; 3.0 3.0 … 3.0 2.0; … ; NaN NaN … NaN NaN; NaN NaN … …\n",
       "  2 => [NaN NaN … NaN NaN; 3.0 3.0 … 1.0 2.0; … ; NaN NaN … NaN NaN; NaN NaN … …\n",
       "  3 => [3.0 3.0 … 3.0 1.0; 3.0 1.0 … 1.0 2.0; … ; NaN NaN … NaN NaN; NaN NaN … …\n",
       "  1 => [3.0 3.0 … 3.0 1.0; 2.0 2.0 … 2.0 1.0; … ; NaN NaN … NaN NaN; NaN NaN … …"
      ]
     },
     "metadata": {},
     "output_type": "display_data"
    }
   ],
   "source": [
    "\n",
    "ord_list_of_attributes = setdiff(list_of_attributes, [\"ethnicity_1\", \"gender_1\", \"hometown_1\", \"age_1\"])\n",
    "print(ord_list_of_attributes)\n",
    "\n",
    "#creating table of attribute values\n",
    "ord_attributes = Dict((i, zeros(length(nodes), length(ord_list_of_attributes))) for i in 1:6)\n",
    "\n",
    "for sem in 1:6\n",
    "    for (i, node) in enumerate(nodes)\n",
    "        for (j, attribute) in enumerate(ord_list_of_attributes)\n",
    "            if node in file[sem].nodes()\n",
    "                ord_attributes[sem][i,j] = file[sem].nodes[node + 1][attribute]\n",
    "            else\n",
    "                ord_attributes[sem][i,j] = NaN\n",
    "            end\n",
    "        end\n",
    "    end\n",
    "end\n",
    "# for sem in range(1,7):\n",
    "#     for i, node in enumerate(data[sem].nodes()):\n",
    "#         for j, attribute in enumerate(ord_list_of_attributes):\n",
    "#             ord_attributes[sem][i,j] = data[sem].nodes[node][attribute]\n",
    "ord_attributes"
   ]
  },
  {
   "cell_type": "code",
   "execution_count": 30,
   "metadata": {},
   "outputs": [
    {
     "data": {
      "text/plain": [
       "count_attr_stays (generic function with 1 method)"
      ]
     },
     "metadata": {},
     "output_type": "display_data"
    }
   ],
   "source": [
    "# a change is a change of attribute from 1 to 2. a change from 1 to 3 are two changes. \n",
    "function count_attr_changes(ord_attributes)\n",
    "    sems = length(ord_attributes)\n",
    "    N = size(ord_attributes[1])[1]\n",
    "\n",
    "    changes = zeros(sems, sems)\n",
    "    max_change = zeros(sems, sems)\n",
    "\n",
    "    # for sem1 in 1:sems, sem2 in 1:sems\n",
    "    for i in 1:sems\n",
    "        for j in i:sems\n",
    "            attr_change = abs.(ord_attributes[i] .- ord_attributes[j])\n",
    "\n",
    "            changes[i,j] = sum(filter(!isnan, attr_change))\n",
    "            max_change[i,j] = length(filter(!isnan, attr_change))*2\n",
    "        end\n",
    "    end\n",
    "    return changes, max_change\n",
    "end\n",
    "\n",
    "# a change is a change of attribute from 1 to 2. a change from 1 to 3 are two changes. \n",
    "function count_attr_stays(ord_attributes)\n",
    "    sems = length(ord_attributes)\n",
    "    N = size(ord_attributes[1])[1]\n",
    "\n",
    "    stays = zeros(sems, sems)\n",
    "    max_stays = zeros(sems, sems)\n",
    "\n",
    "    # for sem1 in 1:sems, sem2 in 1:sems\n",
    "    for i in 1:sems\n",
    "        for j in i:sems\n",
    "            attr_stay = sum(ord_attributes[i] .== ord_attributes[j])\n",
    "\n",
    "            stays[i,j] = attr_stay\n",
    "            max_stays[i,j] = length(filter(!isnan, ord_attributes[i] .+ ord_attributes[j]))\n",
    "        end\n",
    "    end\n",
    "    return stays, max_stays\n",
    "end"
   ]
  },
  {
   "cell_type": "code",
   "execution_count": 31,
   "metadata": {},
   "outputs": [
    {
     "data": {
      "text/plain": [
       "6×6 Matrix{Float64}:\n",
       " 0.0  210.0  192.0  248.0  238.0  193.0\n",
       " 0.0    0.0  126.0  153.0  175.0  143.0\n",
       " 0.0    0.0    0.0  119.0  125.0  124.0\n",
       " 0.0    0.0    0.0    0.0  148.0  129.0\n",
       " 0.0    0.0    0.0    0.0    0.0  103.0\n",
       " 0.0    0.0    0.0    0.0    0.0    0.0"
      ]
     },
     "metadata": {},
     "output_type": "display_data"
    },
    {
     "data": {
      "text/plain": [
       "6×6 Matrix{Float64}:\n",
       " 1568.0  1376.0  1072.0  1360.0  1296.0  1008.0\n",
       "    0.0  1424.0  1040.0  1312.0  1248.0   960.0\n",
       "    0.0     0.0  1088.0  1072.0  1008.0   848.0\n",
       "    0.0     0.0     0.0  1424.0  1280.0   960.0\n",
       "    0.0     0.0     0.0     0.0  1360.0   992.0\n",
       "    0.0     0.0     0.0     0.0     0.0  1008.0"
      ]
     },
     "metadata": {},
     "output_type": "display_data"
    }
   ],
   "source": [
    "changes, max_change = count_attr_changes(ord_attributes)\n",
    "\n",
    "display(changes)\n",
    "display(max_change)"
   ]
  },
  {
   "cell_type": "code",
   "execution_count": 32,
   "metadata": {},
   "outputs": [
    {
     "data": {
      "text/plain": [
       "6×6 Matrix{Float64}:\n",
       "   0.0    0.152616    0.179104    0.182353    0.183642  0.191468\n",
       " NaN      0.0         0.121154    0.116616    0.140224  0.148958\n",
       " NaN    NaN           0.0         0.111007    0.124008  0.146226\n",
       " NaN    NaN         NaN           0.0         0.115625  0.134375\n",
       " NaN    NaN         NaN         NaN           0.0       0.103831\n",
       " NaN    NaN         NaN         NaN         NaN         0.0"
      ]
     },
     "metadata": {},
     "output_type": "display_data"
    }
   ],
   "source": [
    "changes ./ max_change"
   ]
  },
  {
   "cell_type": "code",
   "execution_count": 33,
   "metadata": {},
   "outputs": [
    {
     "data": {
      "text/plain": [
       "6×6 Matrix{Float64}:\n",
       " 784.0  525.0  388.0  491.0  462.0  361.0\n",
       "   0.0  712.0  421.0  531.0  485.0  372.0\n",
       "   0.0    0.0  544.0  440.0  404.0  331.0\n",
       "   0.0    0.0    0.0  712.0  522.0  378.0\n",
       "   0.0    0.0    0.0    0.0  680.0  412.0\n",
       "   0.0    0.0    0.0    0.0    0.0  504.0"
      ]
     },
     "metadata": {},
     "output_type": "display_data"
    },
    {
     "data": {
      "text/plain": [
       "6×6 Matrix{Float64}:\n",
       " 784.0  688.0  536.0  680.0  648.0  504.0\n",
       "   0.0  712.0  520.0  656.0  624.0  480.0\n",
       "   0.0    0.0  544.0  536.0  504.0  424.0\n",
       "   0.0    0.0    0.0  712.0  640.0  480.0\n",
       "   0.0    0.0    0.0    0.0  680.0  496.0\n",
       "   0.0    0.0    0.0    0.0    0.0  504.0"
      ]
     },
     "metadata": {},
     "output_type": "display_data"
    },
    {
     "data": {
      "text/plain": [
       "6×6 Matrix{Float64}:\n",
       "   1.0    0.763081    0.723881    0.722059    0.712963  0.71627\n",
       " NaN      1.0         0.809615    0.809451    0.777244  0.775\n",
       " NaN    NaN           1.0         0.820896    0.801587  0.78066\n",
       " NaN    NaN         NaN           1.0         0.815625  0.7875\n",
       " NaN    NaN         NaN         NaN           1.0       0.830645\n",
       " NaN    NaN         NaN         NaN         NaN         1.0"
      ]
     },
     "metadata": {},
     "output_type": "display_data"
    }
   ],
   "source": [
    "stays, max_stays = count_attr_stays(ord_attributes)\n",
    "\n",
    "display(stays)\n",
    "display(max_stays)\n",
    "display(stays ./ max_stays)"
   ]
  },
  {
   "cell_type": "markdown",
   "metadata": {},
   "source": [
    "## Now, let's see above only on triads"
   ]
  },
  {
   "cell_type": "code",
   "execution_count": 34,
   "metadata": {},
   "outputs": [
    {
     "data": {
      "text/plain": [
       "6×6 Matrix{Float64}:\n",
       " 0.0  128.0  146.0  169.0  151.0  151.0\n",
       " 0.0    0.0   94.0  107.0  108.0  114.0\n",
       " 0.0    0.0    0.0   91.0  102.0  111.0\n",
       " 0.0    0.0    0.0    0.0   93.0  104.0\n",
       " 0.0    0.0    0.0    0.0    0.0   76.0\n",
       " 0.0    0.0    0.0    0.0    0.0    0.0"
      ]
     },
     "metadata": {},
     "output_type": "display_data"
    },
    {
     "data": {
      "text/plain": [
       "6×6 Matrix{Float64}:\n",
       " 960.0  880.0  832.0  912.0  880.0  784.0\n",
       "   0.0  880.0  800.0  864.0  832.0  752.0\n",
       "   0.0    0.0  832.0  832.0  784.0  720.0\n",
       "   0.0    0.0    0.0  912.0  864.0  768.0\n",
       "   0.0    0.0    0.0    0.0  880.0  784.0\n",
       "   0.0    0.0    0.0    0.0    0.0  784.0"
      ]
     },
     "metadata": {},
     "output_type": "display_data"
    },
    {
     "data": {
      "text/plain": [
       "6×6 Matrix{Float64}:\n",
       "   0.0    0.145455    0.175481    0.185307    0.171591  0.192602\n",
       " NaN      0.0         0.1175      0.123843    0.129808  0.151596\n",
       " NaN    NaN           0.0         0.109375    0.130102  0.154167\n",
       " NaN    NaN         NaN           0.0         0.107639  0.135417\n",
       " NaN    NaN         NaN         NaN           0.0       0.0969388\n",
       " NaN    NaN         NaN         NaN         NaN         0.0"
      ]
     },
     "metadata": {},
     "output_type": "display_data"
    }
   ],
   "source": [
    "ord_attributes_triads = [ord_attributes[sem][triad_nodes, :] for sem in 1:6]\n",
    "\n",
    "changes, max_change = count_attr_changes(ord_attributes_triads)\n",
    "\n",
    "display(changes)\n",
    "display(max_change)\n",
    "display(changes ./ max_change)"
   ]
  },
  {
   "cell_type": "code",
   "execution_count": 35,
   "metadata": {},
   "outputs": [
    {
     "data": {
      "text/plain": [
       "6×6 Matrix{Float64}:\n",
       " 480.0  337.0  301.0  328.0  323.0  282.0\n",
       "   0.0  440.0  325.0  345.0  334.0  293.0\n",
       "   0.0    0.0  416.0  343.0  312.0  279.0\n",
       "   0.0    0.0    0.0  456.0  359.0  304.0\n",
       "   0.0    0.0    0.0    0.0  440.0  332.0\n",
       "   0.0    0.0    0.0    0.0    0.0  392.0"
      ]
     },
     "metadata": {},
     "output_type": "display_data"
    },
    {
     "data": {
      "text/plain": [
       "6×6 Matrix{Float64}:\n",
       " 480.0  440.0  416.0  456.0  440.0  392.0\n",
       "   0.0  440.0  400.0  432.0  416.0  376.0\n",
       "   0.0    0.0  416.0  416.0  392.0  360.0\n",
       "   0.0    0.0    0.0  456.0  432.0  384.0\n",
       "   0.0    0.0    0.0    0.0  440.0  392.0\n",
       "   0.0    0.0    0.0    0.0    0.0  392.0"
      ]
     },
     "metadata": {},
     "output_type": "display_data"
    },
    {
     "data": {
      "text/plain": [
       "6×6 Matrix{Float64}:\n",
       "   1.0    0.765909    0.723558    0.719298    0.734091  0.719388\n",
       " NaN      1.0         0.8125      0.798611    0.802885  0.779255\n",
       " NaN    NaN           1.0         0.824519    0.795918  0.775\n",
       " NaN    NaN         NaN           1.0         0.831019  0.791667\n",
       " NaN    NaN         NaN         NaN           1.0       0.846939\n",
       " NaN    NaN         NaN         NaN         NaN         1.0"
      ]
     },
     "metadata": {},
     "output_type": "display_data"
    }
   ],
   "source": [
    "stays, max_stays = count_attr_stays(ord_attributes_triads)\n",
    "\n",
    "display(stays)\n",
    "display(max_stays)\n",
    "display(stays ./ max_stays)"
   ]
  },
  {
   "cell_type": "markdown",
   "metadata": {},
   "source": [
    "## Let's count how many edges between nodes in triads vanish"
   ]
  },
  {
   "cell_type": "code",
   "execution_count": 38,
   "metadata": {},
   "outputs": [
    {
     "data": {
      "text/plain": [
       "(65.0, 105.0, 76.0)"
      ]
     },
     "metadata": {},
     "output_type": "display_data"
    },
    {
     "data": {
      "text/plain": [
       "6×6 Matrix{Float64}:\n",
       " 1.0       0.471545  0.318966  0.353383  0.310606  0.3\n",
       " 0.471545  1.0       0.512195  0.572917  0.5       0.395604\n",
       " 0.318966  0.512195  1.0       0.556962  0.506494  0.477612\n",
       " 0.353383  0.572917  0.556962  1.0       0.643678  0.448276\n",
       " 0.310606  0.5       0.506494  0.643678  1.0       0.565789\n",
       " 0.3       0.395604  0.477612  0.448276  0.565789  1.0"
      ]
     },
     "metadata": {},
     "output_type": "display_data"
    },
    {
     "data": {
      "text/plain": [
       "6×6 Matrix{Float64}:\n",
       " 1.0  0.552381  0.352381  0.447619  0.390476  0.342857\n",
       " 0.0  1.0       0.552632  0.723684  0.631579  0.473684\n",
       " 0.0  0.0       1.0       0.916667  0.8125    0.666667\n",
       " 0.0  0.0       0.0       1.0       0.746667  0.52\n",
       " 0.0  0.0       0.0       0.0       1.0       0.632353\n",
       " 0.0  0.0       0.0       0.0       0.0       1.0"
      ]
     },
     "metadata": {},
     "output_type": "display_data"
    },
    {
     "data": {
      "text/plain": [
       "6×6 Matrix{Float64}:\n",
       " 0.0  47.0  68.0  58.0  64.0  69.0\n",
       " 0.0   0.0  34.0  21.0  28.0  40.0\n",
       " 0.0   0.0   0.0   4.0   9.0  16.0\n",
       " 0.0   0.0   0.0   0.0  19.0  36.0\n",
       " 0.0   0.0   0.0   0.0   0.0  25.0\n",
       " 0.0   0.0   0.0   0.0   0.0   0.0"
      ]
     },
     "metadata": {},
     "output_type": "display_data"
    }
   ],
   "source": [
    "As2\n",
    "\n",
    "i=1; inc = 1;\n",
    "display((sum(abs.(As2[i + inc] .- As2[i]))/2, sum(As2[i])/2, sum(As2[i+inc])/2))\n",
    "\n",
    "overlap_nodes_triads = zeros(6,6)\n",
    "for i in 1:6, j in 1:6\n",
    "    overlap_nodes_triads[i,j] = sum(As2[i].*As2[j]) / sum(sign.(As2[i] .+ As2[j]))\n",
    "end\n",
    "display(overlap_nodes_triads)\n",
    "\n",
    "#how many links vanish?\n",
    "not_vanish_nodes_triads = zeros(6,6)\n",
    "vanish_abs_nodes_triads = zeros(6,6)\n",
    "for i in 1:6\n",
    "    for j in i:6\n",
    "        not_vanish_nodes_triads[i,j] = sum(As2[i].*As2[j]) / sum(As2[i])\n",
    "        vanish_abs_nodes_triads[i,j] = (sum(As2[i]) - sum(As2[i].*As2[j]))/2\n",
    "    end\n",
    "end\n",
    "display(not_vanish_nodes_triads)\n",
    "display(vanish_abs_nodes_triads)\n"
   ]
  },
  {
   "cell_type": "code",
   "execution_count": 39,
   "metadata": {},
   "outputs": [
    {
     "data": {
      "text/plain": [
       "6×6 Matrix{Float64}:\n",
       " 0.0  128.0  146.0  169.0  151.0  151.0\n",
       " 0.0    0.0   94.0  107.0  108.0  114.0\n",
       " 0.0    0.0    0.0   91.0  102.0  111.0\n",
       " 0.0    0.0    0.0    0.0   93.0  104.0\n",
       " 0.0    0.0    0.0    0.0    0.0   76.0\n",
       " 0.0    0.0    0.0    0.0    0.0    0.0"
      ]
     },
     "metadata": {},
     "output_type": "display_data"
    },
    {
     "data": {
      "text/plain": [
       "6×6 Matrix{Float64}:\n",
       " NaN    2.7234    2.14706    2.91379    2.35938    2.18841\n",
       " NaN  NaN         2.76471    5.09524    3.85714    2.85\n",
       " NaN  NaN       NaN         22.75      11.3333     6.9375\n",
       " NaN  NaN       NaN        NaN          4.89474    2.88889\n",
       " NaN  NaN       NaN        NaN        NaN          3.04\n",
       " NaN  NaN       NaN        NaN        NaN        NaN"
      ]
     },
     "metadata": {},
     "output_type": "display_data"
    }
   ],
   "source": [
    "# display(vanish_abs_nodes_triads)\n",
    "display(changes)\n",
    "display(changes ./ vanish_abs_nodes_triads)\n",
    "\n",
    "# diff = changes .- triad_vanish_abs\n",
    "# [diff[i, i+1] for i in 1:5]"
   ]
  },
  {
   "cell_type": "code",
   "execution_count": 45,
   "metadata": {},
   "outputs": [
    {
     "name": "stdout",
     "output_type": "stream",
     "text": [
      "Total number of attribute changes from term to term: 482.0\n",
      "Total number of edges vanished from term to term: 129.0\n"
     ]
    },
    {
     "data": {
      "text/plain": [
       "0.21112929623567922"
      ]
     },
     "metadata": {},
     "output_type": "display_data"
    }
   ],
   "source": [
    "attr_tot = sum([changes[i, i+1] for i in 1:5])\n",
    "println(\"Total number of attribute changes from term to term: \" * string(attr_tot))\n",
    "edges_vanish_tot = sum([vanish_abs_nodes_triads[i, i+1] for i in 1:5])\n",
    "println(\"Total number of edges vanished from term to term: \" * string(edges_vanish_tot))\n",
    "\n",
    "pr = edges_vanish_tot / (edges_vanish_tot + attr_tot)"
   ]
  },
  {
   "cell_type": "code",
   "execution_count": null,
   "metadata": {},
   "outputs": [
    {
     "name": "stdout",
     "output_type": "stream",
     "text": [
      "Total number of attribute changes from term to term: 482.0\n",
      "Total number of edges vanished from term to term: 129.0\n"
     ]
    },
    {
     "data": {
      "text/plain": [
       "0.21112929623567922"
      ]
     },
     "metadata": {},
     "output_type": "display_data"
    }
   ],
   "source": [
    "attr_tot = sum([changes[i, i+1] for i in 1:5])\n",
    "println(\"Total number of attribute changes from term to term: \" * string(attr_tot))\n",
    "edges_vanish_tot = sum([vanish_abs_nodes_triads[i, i+1] for i in 1:5])\n",
    "println(\"Total number of edges vanished from term to term: \" * string(edges_vanish_tot))\n",
    "\n",
    "pr = edges_vanish_tot / (edges_vanish_tot + attr_tot)"
   ]
  }
 ],
 "metadata": {
  "kernelspec": {
   "display_name": "Julia 1.6.4",
   "language": "julia",
   "name": "julia-1.6"
  },
  "language_info": {
   "file_extension": ".jl",
   "mimetype": "application/julia",
   "name": "julia",
   "version": "1.6.4"
  },
  "orig_nbformat": 4
 },
 "nbformat": 4,
 "nbformat_minor": 2
}

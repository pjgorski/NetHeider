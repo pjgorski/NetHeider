{
 "cells": [
  {
   "cell_type": "code",
   "execution_count": 2,
   "metadata": {},
   "outputs": [
    {
     "data": {
      "text/plain": [
       "PyObject <function load_pickle at 0x7f4daff34b80>"
      ]
     },
     "metadata": {},
     "output_type": "display_data"
    }
   ],
   "source": [
    "using PyCall\n",
    "\n",
    "using DrWatson\n",
    "quickactivate(@__DIR__)\n",
    "\n",
    "py\"\"\"\n",
    "import pickle\n",
    " \n",
    "def load_pickle(fpath):\n",
    "    with open(fpath, \"rb\") as f:\n",
    "        data = pickle.load(f)\n",
    "    return data\n",
    "\"\"\"\n",
    "\n",
    "load_pickle = py\"load_pickle\""
   ]
  },
  {
   "cell_type": "code",
   "execution_count": 3,
   "metadata": {},
   "outputs": [
    {
     "data": {
      "text/plain": [
       "Dict{Any, Any} with 6 entries:\n",
       "  5 => PyObject <networkx.classes.graph.Graph object at 0x7f4da1a7ea00>\n",
       "  4 => PyObject <networkx.classes.graph.Graph object at 0x7f4da1ac3dc0>\n",
       "  6 => PyObject <networkx.classes.graph.Graph object at 0x7f4da1a40d00>\n",
       "  2 => PyObject <networkx.classes.graph.Graph object at 0x7f4da1b40520>\n",
       "  3 => PyObject <networkx.classes.graph.Graph object at 0x7f4da1a88160>\n",
       "  1 => PyObject <networkx.classes.graph.Graph object at 0x7f4db0195970>"
      ]
     },
     "metadata": {},
     "output_type": "display_data"
    }
   ],
   "source": [
    "fname = datadir(\"exp_pro\", \"NetSense_network.pkl\")\n",
    "file = load_pickle(fname)"
   ]
  },
  {
   "cell_type": "code",
   "execution_count": 4,
   "metadata": {},
   "outputs": [
    {
     "data": {
      "text/plain": [
       "3-element Vector{Int64}:\n",
       " 26999\n",
       " 30952\n",
       " 62555"
      ]
     },
     "metadata": {},
     "output_type": "display_data"
    }
   ],
   "source": [
    "#works! (shows a lot without semicolon)\n",
    "file[1].nodes.data();\n",
    "[n for n in file[1].neighbors(75178)]"
   ]
  },
  {
   "cell_type": "code",
   "execution_count": 5,
   "metadata": {},
   "outputs": [
    {
     "data": {
      "text/plain": [
       "PyObject <function get_adjacency_matrix at 0x7f4da1b15b80>"
      ]
     },
     "metadata": {},
     "output_type": "display_data"
    }
   ],
   "source": [
    "py\"\"\"\n",
    "import networkx as nx\n",
    "def get_triads(net):\n",
    "    A = nx.adjacency_matrix(net).todense() \n",
    "\n",
    "    N = A.shape[0]\n",
    "\n",
    "    triads = []\n",
    "\n",
    "    for i in range(0,N):\n",
    "        for j in range(i+1,N):\n",
    "            if A[i,j] > 0:\n",
    "                for k in range(j+1,N):\n",
    "                    if A[i,k] > 0 and A[j,k] > 0:\n",
    "                        triads.append((i,j,k))\n",
    "    \n",
    "    return triads\n",
    "\n",
    "def get_adjacency_matrix(net, ordering = None):\n",
    "    return nx.adjacency_matrix(net, ordering).todense() \n",
    "\"\"\"\n",
    "\n",
    "function get_triads2(A)\n",
    "    \n",
    "\n",
    "    N = size(A)[1]\n",
    "\n",
    "    triads = []\n",
    "\n",
    "    for i in 1:N\n",
    "        for j in (i+1):N\n",
    "            if A[i,j] > 0\n",
    "                for k in (j+1):N\n",
    "                    if A[i,k] > 0 && A[j,k] > 0\n",
    "                        push!(triads, (i,j,k))\n",
    "                    end\n",
    "                end\n",
    "            end\n",
    "        end\n",
    "    end\n",
    "    \n",
    "    return triads\n",
    "end\n",
    "\n",
    "get_triads = py\"get_triads\"\n",
    "get_adjacency_matrix = py\"get_adjacency_matrix\""
   ]
  },
  {
   "cell_type": "code",
   "execution_count": 6,
   "metadata": {},
   "outputs": [
    {
     "data": {
      "text/plain": [
       "45-element Vector{Tuple{Int64, Int64, Int64}}:\n",
       " (0, 1, 3)\n",
       " (0, 3, 4)\n",
       " (1, 2, 3)\n",
       " (2, 3, 4)\n",
       " (3, 8, 15)\n",
       " (4, 69, 94)\n",
       " (5, 7, 8)\n",
       " (5, 7, 17)\n",
       " (5, 7, 41)\n",
       " (5, 7, 43)\n",
       " ⋮\n",
       " (12, 53, 80)\n",
       " (12, 59, 62)\n",
       " (13, 14, 50)\n",
       " (15, 19, 20)\n",
       " (17, 44, 77)\n",
       " (21, 22, 23)\n",
       " (35, 36, 83)\n",
       " (53, 59, 62)\n",
       " (53, 62, 74)"
      ]
     },
     "metadata": {},
     "output_type": "display_data"
    }
   ],
   "source": [
    "display(get_triads(file[1]))"
   ]
  },
  {
   "cell_type": "code",
   "execution_count": 7,
   "metadata": {},
   "outputs": [
    {
     "data": {
      "text/plain": [
       "98×98 Matrix{Int64}:\n",
       "  0  11    0    4   2   0   0   0   0  …  0  0  0   0   0  0   0  0  0  0  0\n",
       " 11   0   61    8   0   0   0   0   0     0  0  0   0   0  0   0  0  0  0  0\n",
       "  0  61    0  193  19   0   0   0   0     0  0  0   0   0  0   0  0  0  0  0\n",
       "  4   8  193    0   5   0   0   0   8     0  0  0   0   0  0   0  0  0  0  0\n",
       "  2   0   19    5   0   0   0   7   0     0  0  0   0   0  0   0  1  0  0  0\n",
       "  0   0    0    0   0   0  18  36  49  …  0  0  0   0   0  0   0  0  0  0  0\n",
       "  0   0    0    0   0  18   0   0   0     0  0  0   0   0  0   0  2  0  0  0\n",
       "  0   0    0    0   7  36   0   0  81     0  0  0   0   0  0   0  0  0  0  0\n",
       "  0   0    0    8   0  49   0  81   0     0  0  0   0   0  0   0  0  0  0  0\n",
       "  0   0    0    0   0   0   0   0   0     0  0  0   0   0  0   0  0  0  0  0\n",
       "  ⋮                     ⋮              ⋱            ⋮                ⋮     \n",
       "  0   0    0    0   0   0   0   0   0     0  0  0   0   0  0   0  0  0  0  0\n",
       "  0   0    0    0   0   0   0   0   0  …  0  0  0   0  86  0   0  0  0  0  0\n",
       "  0   0    0    0   0   0   0   0   0     0  0  0  86   0  0  10  0  0  0  0\n",
       "  0   0    0    0   0   0   0   0   0     0  0  0   0   0  0   0  0  0  0  0\n",
       "  0   0    0    0   0   0   0   0   0     0  0  0   0  10  0   0  0  0  0  0\n",
       "  0   0    0    0   1   0   2   0   0     0  0  0   0   0  0   0  0  0  0  0\n",
       "  0   0    0    0   0   0   0   0   0  …  0  0  0   0   0  0   0  0  0  0  0\n",
       "  0   0    0    0   0   0   0   0   0     0  0  0   0   0  0   0  0  0  0  0\n",
       "  0   0    0    0   0   0   0   0   0     0  0  0   0   0  0   0  0  0  0  0"
      ]
     },
     "metadata": {},
     "output_type": "display_data"
    }
   ],
   "source": [
    "As = [get_adjacency_matrix(file[i]) for i in 1:6]\n",
    "A1 = get_adjacency_matrix(file[1])\n",
    "A2 = As[2]\n",
    "A1"
   ]
  },
  {
   "cell_type": "code",
   "execution_count": 8,
   "metadata": {},
   "outputs": [
    {
     "data": {
      "text/plain": [
       "89×89 Matrix{Int64}:\n",
       "    0  2878    0    0    0    0    0  …  0  0  0  0  0  0  0  0   0  0    0\n",
       " 2878     0   70    0    0    0    0     0  0  0  0  0  0  0  0   0  0    0\n",
       "    0    70    0  127    0    0    0     0  0  0  0  0  0  0  0   0  0    0\n",
       "    0     0  127    0    0    0    0     0  0  0  0  0  0  0  0   0  0    0\n",
       "    0     0    0    0    0  315    0     0  0  0  0  0  0  0  0   0  0  124\n",
       "    0     0    0    0  315    0    0  …  0  0  0  0  0  0  0  0   0  0    0\n",
       "    0     0    0    0    0    0    0     0  0  0  0  0  0  0  0   0  0    0\n",
       "    0     0    0    0    0    0  278     0  0  0  0  0  0  0  0   0  0    0\n",
       "    0     0    0    0   20    0    0     0  0  0  0  0  0  0  0  18  0    0\n",
       "    0     0    0    0    0    0    0     0  0  0  0  0  0  0  0   0  0    0\n",
       "    ⋮                         ⋮       ⋱        ⋮              ⋮         \n",
       "    0     0    0    0    0    0    0  …  0  0  0  0  0  0  0  0   0  0    0\n",
       "    0     0    0    0    0    0    0     0  0  0  0  0  0  0  0   0  0    0\n",
       "    0     0    0    0    0    0    0     0  0  0  0  0  0  0  0   0  0    0\n",
       "    0     0    0    0    0    0    0     0  0  0  0  0  0  0  0   0  0    0\n",
       "    0     0    0    0    0    0    0     0  0  0  0  0  0  0  0   0  0    0\n",
       "    0     0    0    0    0    0    0  …  0  0  0  0  0  0  0  0   0  0    0\n",
       "    0     0    0    0    0    0    0     0  0  0  0  0  0  0  0   0  0    0\n",
       "    0     0    0    0    0    0    0     0  0  0  0  0  0  0  0   0  0    0\n",
       "    0     0    0    0  124    0    0     0  0  0  0  0  0  0  0   0  0    0"
      ]
     },
     "metadata": {},
     "output_type": "display_data"
    }
   ],
   "source": [
    "get_adjacency_matrix(file[1], file[2].nodes())"
   ]
  },
  {
   "cell_type": "code",
   "execution_count": 9,
   "metadata": {},
   "outputs": [
    {
     "name": "stdout",
     "output_type": "stream",
     "text": [
      "PyObject NodeView((75178, 30952, 13116, 62555, 26999, 10841, 17353, 86352, 53275, 77291, 18394, 36006, 57637, 71627, 75261, 19844, 25323, 40997, 52635, 45945, 72746, 15071, 46771, 29914, 52067, 37617, 30076, 71700, 19066, 51675, 63188, 79877, 14106, 76313, 82282, 85596, 10060, 75468, 46021, 23642, 50869, 68633, 18420, 68494, 39783, 21350, 66404, 85970, 59367, 13799, 62560, 16495, 34853, 67947, 50709, 70889, 86727, 45539, 14188, 89827, 11692, 82060, 66754, 66245, 46654, 32174, 58909, 25947, 34250, 18344, 38823, 22745, 26127, 38893, 31372, 68533, 31583, 49597, 73303, 46160, 25544, 51597, 49294, 51722, 66052, 53884, 51552, 80058, 10281, 45292, 32899, 26425, 78911, 23144, 44520, 50181, 88175, 63063))"
     ]
    },
    {
     "data": {
      "text/plain": [
       "3-element Vector{Int64}:\n",
       " 26999\n",
       " 30952\n",
       " 62555"
      ]
     },
     "metadata": {},
     "output_type": "display_data"
    }
   ],
   "source": [
    "print(file[1].nodes())\n",
    "[n for n in file[1].neighbors(75178)]"
   ]
  },
  {
   "cell_type": "code",
   "execution_count": 10,
   "metadata": {},
   "outputs": [
    {
     "data": {
      "text/plain": [
       "create_series_adj_mat (generic function with 2 methods)"
      ]
     },
     "metadata": {},
     "output_type": "display_data"
    }
   ],
   "source": [
    "function get_all_nodes(file)\n",
    "    nodes = [n for n in file[1].nodes]\n",
    "    for i in 2:6\n",
    "        nodes = [nodes..., [n for n in file[i].nodes()]...]\n",
    "    end\n",
    "    return unique(nodes)\n",
    "end\n",
    "\n",
    "function create_series_adj_mat(file, nodes = get_all_nodes(file))\n",
    "    As = [get_adjacency_matrix(file[i], nodes) for i in 1:6]\n",
    "    return As\n",
    "end"
   ]
  },
  {
   "cell_type": "code",
   "execution_count": 11,
   "metadata": {},
   "outputs": [
    {
     "data": {
      "text/plain": [
       "(108.0, 152.0, 116.0)"
      ]
     },
     "metadata": {},
     "output_type": "display_data"
    },
    {
     "data": {
      "text/plain": [
       "6×6 Matrix{Float64}:\n",
       " 1.0       0.425532  0.260355  0.318182  0.258706  0.255682\n",
       " 0.425532  1.0       0.427419  0.530612  0.466216  0.350365\n",
       " 0.260355  0.427419  1.0       0.478261  0.421053  0.397849\n",
       " 0.318182  0.530612  0.478261  1.0       0.578947  0.401575\n",
       " 0.258706  0.466216  0.421053  0.578947  1.0       0.491228\n",
       " 0.255682  0.350365  0.397849  0.401575  0.491228  1.0"
      ]
     },
     "metadata": {},
     "output_type": "display_data"
    },
    {
     "data": {
      "text/plain": [
       "6×6 Matrix{Float64}:\n",
       " 1.0  0.526316  0.289474  0.414474  0.342105  0.296053\n",
       " 0.0  1.0       0.456897  0.672414  0.594828  0.413793\n",
       " 0.0  0.0       1.0       0.901639  0.786885  0.606557\n",
       " 0.0  0.0       0.0       1.0       0.706422  0.46789\n",
       " 0.0  0.0       0.0       0.0       1.0       0.554455\n",
       " 0.0  0.0       0.0       0.0       0.0       1.0"
      ]
     },
     "metadata": {},
     "output_type": "display_data"
    },
    {
     "data": {
      "text/plain": [
       "6×6 Matrix{Float64}:\n",
       " 0.0  72.0  108.0  89.0  100.0  107.0\n",
       " 0.0   0.0   63.0  38.0   47.0   68.0\n",
       " 0.0   0.0    0.0   6.0   13.0   24.0\n",
       " 0.0   0.0    0.0   0.0   32.0   58.0\n",
       " 0.0   0.0    0.0   0.0    0.0   45.0\n",
       " 0.0   0.0    0.0   0.0    0.0    0.0"
      ]
     },
     "metadata": {},
     "output_type": "display_data"
    }
   ],
   "source": [
    "nodes = get_all_nodes(file)\n",
    "Ws = create_series_adj_mat(file, nodes)\n",
    "As = [sign.(W) for W in Ws]\n",
    "\n",
    "i=1; inc = 1;\n",
    "display((sum(abs.(As[i + inc] .- As[i]))/2, sum(As[i])/2, sum(As[i+inc])/2))\n",
    "\n",
    "overlap = zeros(6,6)\n",
    "for i in 1:6, j in 1:6\n",
    "    overlap[i,j] = sum(As[i].*As[j]) / sum(sign.(As[i] .+ As[j]))\n",
    "end\n",
    "display(overlap)\n",
    "\n",
    "#how many links vanish?\n",
    "not_vanish = zeros(6,6)\n",
    "vanish_abs = zeros(6,6)\n",
    "for i in 1:6\n",
    "    for j in i:6\n",
    "        not_vanish[i,j] = sum(As[i].*As[j]) / sum(As[i])\n",
    "        vanish_abs[i,j] = (sum(As[i]) - sum(As[i].*As[j]))/2\n",
    "    end\n",
    "end\n",
    "display(not_vanish)\n",
    "display(vanish_abs)\n"
   ]
  },
  {
   "cell_type": "code",
   "execution_count": 12,
   "metadata": {},
   "outputs": [
    {
     "data": {
      "text/plain": [
       "6×6 Matrix{Float64}:\n",
       " 1.0  0.689655  0.721311  0.577982  0.514851  0.652174\n",
       " 0.0  1.0       0.868852  0.715596  0.683168  0.695652\n",
       " 0.0  0.0       1.0       0.504587  0.475248  0.536232\n",
       " 0.0  0.0       0.0       1.0       0.762376  0.73913\n",
       " 0.0  0.0       0.0       0.0       1.0       0.811594\n",
       " 0.0  0.0       0.0       0.0       0.0       1.0"
      ]
     },
     "metadata": {},
     "output_type": "display_data"
    },
    {
     "data": {
      "text/plain": [
       "6×6 Matrix{Float64}:\n",
       " 0.0  36.0  17.0  46.0  49.0  24.0\n",
       " 0.0   0.0   8.0  31.0  32.0  21.0\n",
       " 0.0   0.0   0.0  54.0  53.0  32.0\n",
       " 0.0   0.0   0.0   0.0  24.0  18.0\n",
       " 0.0   0.0   0.0   0.0   0.0  13.0\n",
       " 0.0   0.0   0.0   0.0   0.0   0.0"
      ]
     },
     "metadata": {},
     "output_type": "display_data"
    }
   ],
   "source": [
    "#how many links appear?\n",
    "appear = zeros(6,6)\n",
    "appear_abs = zeros(6,6)\n",
    "for i in 1:6\n",
    "    for j in i:6\n",
    "        appear[i,j] = sum(As[i].*As[j]) / sum(As[j])\n",
    "        appear_abs[i,j] = (sum(As[j]) - sum(As[i].*As[j])) / 2\n",
    "    end\n",
    "end\n",
    "display(appear)\n",
    "display(appear_abs)"
   ]
  },
  {
   "cell_type": "code",
   "execution_count": 13,
   "metadata": {},
   "outputs": [
    {
     "data": {
      "text/plain": [
       "6×6 Matrix{Float64}:\n",
       " 1.0  0.377778  0.111111  0.222222  0.222222  0.111111\n",
       " 0.0  1.0       0.307692  0.538462  0.461538  0.230769\n",
       " 0.0  0.0       1.0       1.0       0.888889  0.777778\n",
       " 0.0  0.0       0.0       1.0       0.692308  0.346154\n",
       " 0.0  0.0       0.0       0.0       1.0       0.5\n",
       " 0.0  0.0       0.0       0.0       0.0       1.0"
      ]
     },
     "metadata": {},
     "output_type": "display_data"
    },
    {
     "data": {
      "text/plain": [
       "6×6 Matrix{Float64}:\n",
       " 0.0  28.0  40.0  35.0  35.0  40.0\n",
       " 0.0   0.0  18.0  12.0  14.0  20.0\n",
       " 0.0   0.0   0.0   0.0   1.0   2.0\n",
       " 0.0   0.0   0.0   0.0   8.0  17.0\n",
       " 0.0   0.0   0.0   0.0   0.0  10.0\n",
       " 0.0   0.0   0.0   0.0   0.0   0.0"
      ]
     },
     "metadata": {},
     "output_type": "display_data"
    }
   ],
   "source": [
    "#find prob of triad vanishing\n",
    "all_triads = [get_triads2(As[i]) for i in 1:6]\n",
    "\n",
    "# intersect(all_triads[1], all_triads[2])\n",
    "\n",
    "#how many triads vanish?\n",
    "triad_not_vanish = zeros(6,6)\n",
    "triad_vanish_abs = zeros(6,6)\n",
    "for i in 1:6\n",
    "    for j in i:6\n",
    "        triad_not_vanish[i,j] = length(intersect(all_triads[i], all_triads[j])) / length(all_triads[i])\n",
    "        triad_vanish_abs[i,j] = length(all_triads[i]) - length(intersect(all_triads[i], all_triads[j]))\n",
    "    end\n",
    "end\n",
    "display(triad_not_vanish)\n",
    "display(triad_vanish_abs)"
   ]
  },
  {
   "cell_type": "code",
   "execution_count": 14,
   "metadata": {},
   "outputs": [
    {
     "data": {
      "text/plain": [
       "1×6 adjoint(::Vector{Int64}) with eltype Int64:\n",
       " 45  26  9  26  20  12"
      ]
     },
     "metadata": {},
     "output_type": "display_data"
    }
   ],
   "source": [
    "map(length, all_triads)'"
   ]
  },
  {
   "cell_type": "code",
   "execution_count": 15,
   "metadata": {},
   "outputs": [
    {
     "data": {
      "text/plain": [
       "get_wedges_single_edges (generic function with 1 method)"
      ]
     },
     "metadata": {},
     "output_type": "display_data"
    }
   ],
   "source": [
    "function get_wedges_single_edges(A)\n",
    "    N = size(A)[1]\n",
    "\n",
    "    wedges = []\n",
    "    single_edges = []\n",
    "\n",
    "    for i in 1:N\n",
    "        for j in (i+1):N\n",
    "            for k in (j+1):N\n",
    "                if A[i,k] + A[j,k] + A[i,j] == 2\n",
    "                    push!(wedges, (i,j,k))\n",
    "                elseif A[i,k] + A[j,k] + A[i,j] == 1\n",
    "                    push!(single_edges, (i,j,k))\n",
    "                end\n",
    "            end\n",
    "        end\n",
    "    end\n",
    "    \n",
    "    return wedges, single_edges\n",
    "end"
   ]
  },
  {
   "cell_type": "code",
   "execution_count": 16,
   "metadata": {},
   "outputs": [],
   "source": [
    "all_wedges = []\n",
    "all_singles = []\n",
    "for i in 1:6\n",
    "    wedges, single_edges = get_wedges_single_edges(As[i])\n",
    "    push!(all_wedges, wedges)\n",
    "    push!(all_singles, single_edges)\n",
    "end"
   ]
  },
  {
   "cell_type": "code",
   "execution_count": 17,
   "metadata": {},
   "outputs": [
    {
     "data": {
      "text/plain": [
       "understand_triad_apperance (generic function with 1 method)"
      ]
     },
     "metadata": {},
     "output_type": "display_data"
    }
   ],
   "source": [
    "function understand_triad_apperance(As)\n",
    "    num_mats = length(As)\n",
    "\n",
    "    all_triads = [get_triads2(As[i]) for i in 1:num_mats]\n",
    "    all_wedges = []\n",
    "    all_singles = []\n",
    "    for i in 1:num_mats\n",
    "        wedges, single_edges = get_wedges_single_edges(As[i])\n",
    "        push!(all_wedges, wedges)\n",
    "        push!(all_singles, single_edges)\n",
    "    end\n",
    "\n",
    "    \n",
    "\n",
    "    triad_appear = zeros(num_mats,num_mats)\n",
    "    triad_appear_wedges = zeros(num_mats,num_mats)\n",
    "    triad_appear_single = zeros(num_mats,num_mats)\n",
    "    triad_appear_nowhere = zeros(num_mats,num_mats)\n",
    "\n",
    "    for i in 1:num_mats\n",
    "        for j in i:num_mats\n",
    "            triad_appear[i,j] = length(all_triads[j]) - length(intersect(all_triads[i], all_triads[j]))\n",
    "            new_triads = setdiff(all_triads[j], all_triads[i])\n",
    "            @assert length(new_triads) == triad_appear[i,j]\n",
    "            triad_appear_wedges[i,j] = length(intersect(new_triads, all_wedges[i]))\n",
    "\n",
    "            triad_appear_single[i,j] = length(intersect(new_triads, all_singles[i]))\n",
    "            # triad_vanish_abs[i,j] = length(all_triads[i]) - length(intersect(all_triads[i], all_triads[j]))\n",
    "            triad_appear_nowhere[i,j] = triad_appear[i,j] - triad_appear_wedges[i, j] - triad_appear_single[i, j]\n",
    "        end\n",
    "    end\n",
    "    return triad_appear, triad_appear_wedges, triad_appear_single, triad_appear_nowhere\n",
    "end"
   ]
  },
  {
   "cell_type": "code",
   "execution_count": 18,
   "metadata": {},
   "outputs": [
    {
     "data": {
      "text/plain": [
       "6×6 Matrix{Float64}:\n",
       " 0.0  9.0  4.0  16.0  10.0  7.0\n",
       " 0.0  0.0  1.0  12.0   8.0  6.0\n",
       " 0.0  0.0  0.0  17.0  12.0  5.0\n",
       " 0.0  0.0  0.0   0.0   2.0  3.0\n",
       " 0.0  0.0  0.0   0.0   0.0  2.0\n",
       " 0.0  0.0  0.0   0.0   0.0  0.0"
      ]
     },
     "metadata": {},
     "output_type": "display_data"
    },
    {
     "data": {
      "text/plain": [
       "6×6 Matrix{Float64}:\n",
       " 0.0  8.0  4.0   9.0  5.0  4.0\n",
       " 0.0  0.0  1.0   9.0  5.0  3.0\n",
       " 0.0  0.0  0.0  12.0  9.0  2.0\n",
       " 0.0  0.0  0.0   0.0  2.0  2.0\n",
       " 0.0  0.0  0.0   0.0  0.0  2.0\n",
       " 0.0  0.0  0.0   0.0  0.0  0.0"
      ]
     },
     "metadata": {},
     "output_type": "display_data"
    },
    {
     "data": {
      "text/plain": [
       "6×6 Matrix{Float64}:\n",
       " 0.0  1.0  0.0  7.0  4.0  2.0\n",
       " 0.0  0.0  0.0  3.0  3.0  2.0\n",
       " 0.0  0.0  0.0  4.0  3.0  3.0\n",
       " 0.0  0.0  0.0  0.0  0.0  1.0\n",
       " 0.0  0.0  0.0  0.0  0.0  0.0\n",
       " 0.0  0.0  0.0  0.0  0.0  0.0"
      ]
     },
     "metadata": {},
     "output_type": "display_data"
    },
    {
     "data": {
      "text/plain": [
       "6×6 Matrix{Float64}:\n",
       " 0.0  0.0  0.0  0.0  1.0  1.0\n",
       " 0.0  0.0  0.0  0.0  0.0  1.0\n",
       " 0.0  0.0  0.0  1.0  0.0  0.0\n",
       " 0.0  0.0  0.0  0.0  0.0  0.0\n",
       " 0.0  0.0  0.0  0.0  0.0  0.0\n",
       " 0.0  0.0  0.0  0.0  0.0  0.0"
      ]
     },
     "metadata": {},
     "output_type": "display_data"
    }
   ],
   "source": [
    "# find prob of tried appearing (from wedges, from single link, from nowhere)\n",
    "\n",
    "triad_appear = zeros(6,6)\n",
    "triad_appear_wedges = zeros(6,6)\n",
    "triad_appear_single = zeros(6,6)\n",
    "triad_appear_nowhere = zeros(6,6)\n",
    "for i in 1:6\n",
    "    for j in i:6\n",
    "        triad_appear[i,j] = length(all_triads[j]) - length(intersect(all_triads[i], all_triads[j]))\n",
    "        new_triads = setdiff(all_triads[j], all_triads[i])\n",
    "        @assert length(new_triads) == triad_appear[i,j]\n",
    "        triad_appear_wedges[i,j] = length(intersect(new_triads, all_wedges[i]))\n",
    "\n",
    "        triad_appear_single[i,j] = length(intersect(new_triads, all_singles[i]))\n",
    "        # triad_vanish_abs[i,j] = length(all_triads[i]) - length(intersect(all_triads[i], all_triads[j]))\n",
    "        triad_appear_nowhere[i,j] = triad_appear[i,j] - triad_appear_wedges[i, j] - triad_appear_single[i, j]\n",
    "    end\n",
    "end\n",
    "display(triad_appear)\n",
    "display(triad_appear_wedges)\n",
    "display(triad_appear_single)\n",
    "display(triad_appear_nowhere)"
   ]
  },
  {
   "cell_type": "code",
   "execution_count": 19,
   "metadata": {},
   "outputs": [],
   "source": [
    "# test\n",
    "triad_appear2, triad_appear_wedges2, triad_appear_single2, triad_appear_nowhere2 = understand_triad_apperance(As)\n",
    "\n",
    "@assert triad_appear_wedges2 == triad_appear_wedges\n",
    "@assert triad_appear_single2 == triad_appear_single\n",
    "@assert triad_appear_nowhere2 == triad_appear_nowhere\n",
    "@assert triad_appear == triad_appear2"
   ]
  },
  {
   "cell_type": "code",
   "execution_count": 20,
   "metadata": {},
   "outputs": [
    {
     "data": {
      "text/plain": [
       "36.0"
      ]
     },
     "metadata": {},
     "output_type": "display_data"
    },
    {
     "data": {
      "text/plain": [
       "2×2 Matrix{Float64}:\n",
       " 0.0  0.0\n",
       " 0.0  0.0"
      ]
     },
     "metadata": {},
     "output_type": "display_data"
    },
    {
     "data": {
      "text/plain": [
       "2×2 Matrix{Float64}:\n",
       " 0.0  0.0\n",
       " 0.0  0.0"
      ]
     },
     "metadata": {},
     "output_type": "display_data"
    },
    {
     "data": {
      "text/plain": [
       "2×2 Matrix{Float64}:\n",
       " 0.0  0.0\n",
       " 0.0  0.0"
      ]
     },
     "metadata": {},
     "output_type": "display_data"
    },
    {
     "data": {
      "text/plain": [
       "2×2 Matrix{Float64}:\n",
       " 0.0  0.0\n",
       " 0.0  0.0"
      ]
     },
     "metadata": {},
     "output_type": "display_data"
    }
   ],
   "source": [
    "# Let's make an expetiment. \n",
    "# Lets remove connections that vanish from term I and \n",
    "# randomly new connections and \n",
    "# see how many new triads were formed, and from which structures. \n",
    "\n",
    "#removing edges from A1\n",
    "start_term = 1\n",
    "inc = 1\n",
    "A1r = As[start_term] .* As[start_term + inc] \n",
    "\n",
    "# We need to add this amount of new links:\n",
    "display(appear_abs[start_term, start_term + inc])\n",
    "N = length(nodes)\n",
    "\n",
    "added = 0\n",
    "while added < appear_abs[start_term, start_term + inc]\n",
    "    i, j = rand(1:N, 2)\n",
    "    if i==j continue\n",
    "    elseif A1r[i,j] > 0\n",
    "        continue\n",
    "    else\n",
    "        A1r[i,j] = A1r[j,i] = 1\n",
    "        added += 1\n",
    "    end\n",
    "end\n",
    "# display(\"finishes\")\n",
    "\n",
    "triad_appear2, triad_appear_wedges2, triad_appear_single2, triad_appear_nowhere2 = understand_triad_apperance([As[start_term], A1r])\n",
    "display(triad_appear2)\n",
    "display(triad_appear_wedges2)\n",
    "display(triad_appear_single2)\n",
    "display(triad_appear_nowhere2)\n",
    "\n",
    "# Conclusion:\n",
    "# As expected, more triads are created than random would expect"
   ]
  },
  {
   "cell_type": "code",
   "execution_count": 130,
   "metadata": {},
   "outputs": [
    {
     "data": {
      "text/plain": [
       "26-element Vector{Any}:\n",
       " (6, 8, 18)\n",
       " (6, 8, 44)\n",
       " (6, 8, 67)\n",
       " (6, 18, 44)\n",
       " (6, 45, 78)\n",
       " (8, 9, 18)\n",
       " (8, 18, 44)\n",
       " (9, 18, 19)\n",
       " (10, 50, 57)\n",
       " (10, 50, 58)\n",
       " ⋮\n",
       " (26, 27, 36)\n",
       " (36, 37, 84)\n",
       " (37, 84, 93)\n",
       " (40, 80, 94)\n",
       " (50, 57, 58)\n",
       " (54, 60, 63)\n",
       " (54, 63, 75)\n",
       " (60, 63, 87)\n",
       " (81, 82, 83)"
      ]
     },
     "metadata": {},
     "output_type": "display_data"
    }
   ],
   "source": [
    "all_triads[2]"
   ]
  },
  {
   "cell_type": "code",
   "execution_count": 124,
   "metadata": {},
   "outputs": [
    {
     "data": {
      "text/plain": [
       "60"
      ]
     },
     "metadata": {},
     "output_type": "display_data"
    },
    {
     "data": {
      "text/plain": [
       "6-element Vector{Matrix{Int64}}:\n",
       " [0 1 … 0 0; 1 0 … 0 0; … ; 0 0 … 0 0; 0 0 … 0 0]\n",
       " [0 0 … 0 0; 0 0 … 0 0; … ; 0 0 … 0 0; 0 0 … 0 0]\n",
       " [0 0 … 0 0; 0 0 … 0 0; … ; 0 0 … 0 0; 0 0 … 0 0]\n",
       " [0 0 … 0 0; 0 0 … 0 1; … ; 0 0 … 0 0; 0 1 … 0 0]\n",
       " [0 0 … 0 0; 0 0 … 0 0; … ; 0 0 … 0 0; 0 0 … 0 0]\n",
       " [0 0 … 0 0; 0 0 … 0 0; … ; 0 0 … 0 0; 0 0 … 0 0]"
      ]
     },
     "metadata": {},
     "output_type": "display_data"
    }
   ],
   "source": [
    "# Let's check how many people are in triads\n",
    "\n",
    "triad_nodes = sort(unique([node for triads in all_triads for triad in triads for node in triad]))\n",
    "display(length(triad_nodes))\n",
    "\n",
    "# There are only 60 nodes, so lets repeat above experiment with generating links only among these agents. \n",
    "# But first I need to count how many edges were added among those agents\n",
    "\n",
    "As2 = [As[i][triad_nodes, triad_nodes] for i in 1:6]"
   ]
  },
  {
   "cell_type": "code",
   "execution_count": 22,
   "metadata": {},
   "outputs": [
    {
     "data": {
      "text/plain": [
       "6×6 Matrix{Float64}:\n",
       " 1.0  0.763158  0.770833  0.626667  0.602941  0.705882\n",
       " 0.0  1.0       0.875     0.733333  0.705882  0.705882\n",
       " 0.0  0.0       1.0       0.586667  0.573529  0.627451\n",
       " 0.0  0.0       0.0       1.0       0.823529  0.764706\n",
       " 0.0  0.0       0.0       0.0       1.0       0.843137\n",
       " 0.0  0.0       0.0       0.0       0.0       1.0"
      ]
     },
     "metadata": {},
     "output_type": "display_data"
    },
    {
     "data": {
      "text/plain": [
       "6×6 Matrix{Float64}:\n",
       " 0.0  18.0  11.0  28.0  27.0  15.0\n",
       " 0.0   0.0   6.0  20.0  20.0  15.0\n",
       " 0.0   0.0   0.0  31.0  29.0  19.0\n",
       " 0.0   0.0   0.0   0.0  12.0  12.0\n",
       " 0.0   0.0   0.0   0.0   0.0   8.0\n",
       " 0.0   0.0   0.0   0.0   0.0   0.0"
      ]
     },
     "metadata": {},
     "output_type": "display_data"
    }
   ],
   "source": [
    "#how many links appear?\n",
    "appear_triads = zeros(6,6)\n",
    "appear_abs_triads = zeros(6,6)\n",
    "for i in 1:6\n",
    "    for j in i:6\n",
    "        appear_triads[i,j] = sum(As2[i].*As2[j]) / sum(As2[j])\n",
    "        appear_abs_triads[i,j] = (sum(As2[j]) - sum(As2[i].*As2[j])) / 2\n",
    "    end\n",
    "end\n",
    "display(appear_triads)\n",
    "display(appear_abs_triads)"
   ]
  },
  {
   "cell_type": "code",
   "execution_count": 23,
   "metadata": {},
   "outputs": [
    {
     "data": {
      "text/plain": [
       "18.0"
      ]
     },
     "metadata": {},
     "output_type": "display_data"
    },
    {
     "data": {
      "text/plain": [
       "2×2 Matrix{Float64}:\n",
       " 0.0  2.0\n",
       " 0.0  0.0"
      ]
     },
     "metadata": {},
     "output_type": "display_data"
    },
    {
     "data": {
      "text/plain": [
       "2×2 Matrix{Float64}:\n",
       " 0.0  0.0\n",
       " 0.0  0.0"
      ]
     },
     "metadata": {},
     "output_type": "display_data"
    },
    {
     "data": {
      "text/plain": [
       "2×2 Matrix{Float64}:\n",
       " 0.0  1.0\n",
       " 0.0  0.0"
      ]
     },
     "metadata": {},
     "output_type": "display_data"
    },
    {
     "data": {
      "text/plain": [
       "2×2 Matrix{Float64}:\n",
       " 0.0  1.0\n",
       " 0.0  0.0"
      ]
     },
     "metadata": {},
     "output_type": "display_data"
    }
   ],
   "source": [
    "# Experiment 2. \n",
    "\n",
    "#removing edges from A1\n",
    "start_term = 1\n",
    "inc = 1\n",
    "A1r = As2[start_term] .* As2[start_term + inc] \n",
    "\n",
    "# We need to add this amount of new links:\n",
    "display(appear_abs_triads[start_term, start_term + inc])\n",
    "N = length(triad_nodes)\n",
    "\n",
    "added = 0\n",
    "while added < appear_abs_triads[start_term, start_term + inc]\n",
    "    i, j = rand(1:N, 2)\n",
    "    if i==j continue\n",
    "    elseif A1r[i,j] > 0\n",
    "        continue\n",
    "    else\n",
    "        A1r[i,j] = A1r[j,i] = 1\n",
    "        added += 1\n",
    "    end\n",
    "end\n",
    "# display(\"finishes\")\n",
    "\n",
    "triad_appear3, triad_appear_wedges3, triad_appear_single3, triad_appear_nowhere3 = understand_triad_apperance([As2[start_term], A1r])\n",
    "display(triad_appear3)\n",
    "display(triad_appear_wedges3)\n",
    "display(triad_appear_single3)\n",
    "display(triad_appear_nowhere3)\n",
    "\n",
    "# Conclusion:\n",
    "# As expected, more triads are created than random would expect"
   ]
  },
  {
   "cell_type": "code",
   "execution_count": 24,
   "metadata": {},
   "outputs": [
    {
     "data": {
      "text/plain": [
       "6.0"
      ]
     },
     "metadata": {},
     "output_type": "display_data"
    },
    {
     "data": {
      "text/plain": [
       "2×2 Matrix{Float64}:\n",
       " 0.0  6.0\n",
       " 0.0  0.0"
      ]
     },
     "metadata": {},
     "output_type": "display_data"
    },
    {
     "data": {
      "text/plain": [
       "2×2 Matrix{Float64}:\n",
       " 0.0  6.0\n",
       " 0.0  0.0"
      ]
     },
     "metadata": {},
     "output_type": "display_data"
    },
    {
     "data": {
      "text/plain": [
       "2×2 Matrix{Float64}:\n",
       " 0.0  0.0\n",
       " 0.0  0.0"
      ]
     },
     "metadata": {},
     "output_type": "display_data"
    },
    {
     "data": {
      "text/plain": [
       "2×2 Matrix{Float64}:\n",
       " 0.0  0.0\n",
       " 0.0  0.0"
      ]
     },
     "metadata": {},
     "output_type": "display_data"
    }
   ],
   "source": [
    "# OK, lets try to generate triads more frequently. \n",
    "# There will be a new parameter for closing triads.\n",
    "\n",
    "close_triad = 0.7\n",
    "\n",
    "# function get_nodes_in_triads(A)\n",
    "#     triads = get_triads2(A)\n",
    "\n",
    "#     return sort(unique([node for triad in triads for node in triad.nodes]))\n",
    "# end\n",
    "\n",
    "# Experiment 3. \n",
    "\n",
    "#removing edges from A1\n",
    "start_term = 2\n",
    "inc = 1\n",
    "A1r = As2[start_term] .* As2[start_term + inc] \n",
    "\n",
    "# We need to add this amount of new links:\n",
    "display(appear_abs_triads[start_term, start_term + inc])\n",
    "N = length(triad_nodes)\n",
    "\n",
    "added = 0\n",
    "while added < appear_abs_triads[start_term, start_term + inc]\n",
    "    wedges_t, single_t = get_wedges_single_edges(A1r)\n",
    "    if rand() < close_triad\n",
    "        wedge = rand(wedges_t)\n",
    "        if A1r[wedge[1], wedge[2]] == 0\n",
    "            i, j = wedge[1], wedge[2]\n",
    "        elseif A1r[wedge[1], wedge[3]] == 0\n",
    "            i, j = wedge[1], wedge[3]\n",
    "        else i, j = wedge[2], wedge[3]\n",
    "        end\n",
    "    else\n",
    "        i, j = rand(1:N, 2)\n",
    "        if i==j continue\n",
    "        elseif A1r[i,j] > 0\n",
    "            continue\n",
    "        end\n",
    "    end\n",
    "    A1r[i,j] = A1r[j,i] = 1\n",
    "    added += 1\n",
    "end\n",
    "# display(\"finishes\")\n",
    "\n",
    "triad_appear3, triad_appear_wedges3, triad_appear_single3, triad_appear_nowhere3 = understand_triad_apperance([As2[start_term], A1r])\n",
    "display(triad_appear3)\n",
    "display(triad_appear_wedges3)\n",
    "display(triad_appear_single3)\n",
    "display(triad_appear_nowhere3)\n",
    "\n",
    "# Conclusion:\n",
    "# As expected, more triads are created than random would expect"
   ]
  },
  {
   "cell_type": "code",
   "execution_count": 25,
   "metadata": {},
   "outputs": [
    {
     "data": {
      "text/plain": [
       "calc_difs_only_numT (generic function with 1 method)"
      ]
     },
     "metadata": {},
     "output_type": "display_data"
    }
   ],
   "source": [
    "# defining functions to calibrate this probability\n",
    "function add_edges!(A1r, edges_to_add, close_triad)\n",
    "    N = size(A1r)[1]\n",
    "\n",
    "    added = 0\n",
    "    while added < edges_to_add\n",
    "        wedges_t, single_t = get_wedges_single_edges(A1r)\n",
    "        if rand() < close_triad\n",
    "            wedge = rand(wedges_t)\n",
    "            if A1r[wedge[1], wedge[2]] == 0\n",
    "                i, j = wedge[1], wedge[2]\n",
    "            elseif A1r[wedge[1], wedge[3]] == 0\n",
    "                i, j = wedge[1], wedge[3]\n",
    "            else i, j = wedge[2], wedge[3]\n",
    "            end\n",
    "        else\n",
    "            i, j = rand(1:N, 2)\n",
    "            if i==j continue\n",
    "            elseif A1r[i,j] > 0\n",
    "                continue\n",
    "            end\n",
    "        end\n",
    "        A1r[i,j] = A1r[j,i] = 1\n",
    "        added += 1\n",
    "    end\n",
    "end\n",
    "\n",
    "function calc_difs(close_triad_prob; term_pairs = [(1, 2), (2, 3), (2, 4), (3, 4), (4, 5), (5, 6)], repetitions = 10)\n",
    "    dif = 0\n",
    "\n",
    "    for _ in 1:repetitions\n",
    "        for term_pair in term_pairs\n",
    "            start_term = term_pair[1]\n",
    "            inc = term_pair[2] - start_term\n",
    "\n",
    "            A1r = As2[start_term] .* As2[start_term + inc] \n",
    "            add_edges!(A1r, appear_abs_triads[start_term, start_term + inc], close_triad_prob)\n",
    "            triad_appear3, triad_appear_wedges3, triad_appear_single3, triad_appear_nowhere3 = understand_triad_apperance([As2[start_term], A1r])\n",
    "\n",
    "            dif += abs(triad_appear[term_pair...] - triad_appear3[1,2])\n",
    "            dif += abs(triad_appear_wedges[term_pair...] - triad_appear_wedges3[1,2])\n",
    "            dif += abs(triad_appear_single[term_pair...] - triad_appear_single3[1,2])\n",
    "            dif += abs(triad_appear_nowhere[term_pair...] - triad_appear_nowhere3[1,2])\n",
    "        end\n",
    "    end\n",
    "    return dif\n",
    "end\n",
    "\n",
    "function calc_difs_only_numT(close_triad_prob; term_pairs = [(1, 2), (2, 3), (2, 4), (3, 4), (4, 5), (5, 6)], repetitions = 10)\n",
    "    dif = 0\n",
    "\n",
    "    for _ in 1:repetitions\n",
    "        for term_pair in term_pairs\n",
    "            start_term = term_pair[1]\n",
    "            inc = term_pair[2] - start_term\n",
    "\n",
    "            A1r = As2[start_term] .* As2[start_term + inc] \n",
    "            add_edges!(A1r, appear_abs_triads[start_term, start_term + inc], close_triad_prob)\n",
    "            triad_appear3, triad_appear_wedges3, triad_appear_single3, triad_appear_nowhere3 = understand_triad_apperance([As2[start_term], A1r])\n",
    "\n",
    "            dif += abs(triad_appear[term_pair...] - triad_appear3[1,2])\n",
    "        end\n",
    "    end\n",
    "    return dif\n",
    "end"
   ]
  },
  {
   "cell_type": "code",
   "execution_count": 26,
   "metadata": {},
   "outputs": [
    {
     "data": {
      "text/plain": [
       "4360.0"
      ]
     },
     "metadata": {},
     "output_type": "display_data"
    }
   ],
   "source": [
    "# calibration!\n",
    "# We choose pairs of terms that will be compared. \n",
    "term_pairs = [(1, 2), (2, 3), (2, 4), (3, 4), (4, 5), (5, 6)]\n",
    "repetitions = 100\n",
    "\n",
    "close_triad_prob = 0.3\n",
    "\n",
    "dif = 0\n",
    "\n",
    "for _ in 1:repetitions\n",
    "    for term_pair in term_pairs\n",
    "        start_term = term_pair[1]\n",
    "        inc = term_pair[2] - start_term\n",
    "\n",
    "        A1r = As2[start_term] .* As2[start_term + inc] \n",
    "        add_edges!(A1r, appear_abs_triads[start_term, start_term + inc], close_triad_prob)\n",
    "        triad_appear3, triad_appear_wedges3, triad_appear_single3, triad_appear_nowhere3 = understand_triad_apperance([As2[start_term], A1r])\n",
    "\n",
    "        dif += abs(triad_appear[term_pair...] - triad_appear3[1,2])\n",
    "        dif += abs(triad_appear_wedges[term_pair...] - triad_appear_wedges3[1,2])\n",
    "        dif += abs(triad_appear_single[term_pair...] - triad_appear_single3[1,2])\n",
    "        dif += abs(triad_appear_nowhere[term_pair...] - triad_appear_nowhere3[1,2])\n",
    "    end\n",
    "end\n",
    "\n",
    "dif"
   ]
  },
  {
   "cell_type": "code",
   "execution_count": 274,
   "metadata": {},
   "outputs": [
    {
     "data": {
      "text/plain": [
       "Results of Optimization Algorithm\n",
       " * Algorithm: Brent's Method\n",
       " * Search Interval: [0.000000, 1.000000]\n",
       " * Minimizer: 3.527405e-01\n",
       " * Minimum: 3.874000e+03\n",
       " * Iterations: 34\n",
       " * Convergence: max(|x - x_upper|, |x - x_lower|) <= 2*(1.5e-08*|x|+2.2e-16): true\n",
       " * Objective Function Calls: 35"
      ]
     },
     "metadata": {},
     "output_type": "display_data"
    }
   ],
   "source": [
    "#finding optimal prob\n",
    "\n",
    "using Optim\n",
    "repetitions = 100\n",
    "loc(x) = calc_difs(x; repetitions = repetitions)\n",
    "optimize(loc, 0., 1.)\n",
    "#czyli minimum jest ok. 0.3527"
   ]
  },
  {
   "cell_type": "code",
   "execution_count": 277,
   "metadata": {},
   "outputs": [
    {
     "data": {
      "text/plain": [
       "Results of Optimization Algorithm\n",
       " * Algorithm: Brent's Method\n",
       " * Search Interval: [0.000000, 1.000000]\n",
       " * Minimizer: 3.551966e-01\n",
       " * Minimum: 1.481000e+03\n",
       " * Iterations: 34\n",
       " * Convergence: max(|x - x_upper|, |x - x_lower|) <= 2*(1.5e-08*|x|+2.2e-16): true\n",
       " * Objective Function Calls: 35"
      ]
     },
     "metadata": {},
     "output_type": "display_data"
    }
   ],
   "source": [
    "#finding optimal prob when looking only at number of triads, and not where they originate from\n",
    "\n",
    "using Optim\n",
    "repetitions = 100\n",
    "loc(x) = calc_difs_only_numT(x; repetitions = repetitions)\n",
    "optimize(loc, 0., 1.)\n",
    "#czyli minimum jest ok. 0.3552"
   ]
  },
  {
   "cell_type": "code",
   "execution_count": 27,
   "metadata": {},
   "outputs": [],
   "source": [
    "using Plots"
   ]
  },
  {
   "cell_type": "code",
   "execution_count": 270,
   "metadata": {},
   "outputs": [],
   "source": [
    "probs = [0.:0.05:1...]\n",
    "difs = zeros(size(probs))\n",
    "\n",
    "for (i, prob) in enumerate(probs)\n",
    "    difs[i] = calc_difs(prob; repetitions = 100)\n",
    "end"
   ]
  },
  {
   "cell_type": "code",
   "execution_count": 273,
   "metadata": {},
   "outputs": [
    {
     "data": {
      "text/plain": [
       "1-element Vector{Float64}:\n",
       " 0.35"
      ]
     },
     "metadata": {},
     "output_type": "display_data"
    },
    {
     "data": {
      "image/png": "[encoded data removed]",
      "image/svg+xml": "<?xml version=\"1.0\" encoding=\"utf-8\"?>\n<svg xmlns=\"http://www.w3.org/2000/svg\" xmlns:xlink=\"http://www.w3.org/1999/xlink\" width=\"600\" height=\"400\" viewBox=\"0 0 2400 1600\">\n<defs>\n  <clipPath id=\"clip520\">\n    <rect x=\"0\" y=\"0\" width=\"2400\" height=\"1600\"/>\n  </clipPath>\n</defs>\n<path clip-path=\"url(#clip520)\" d=\"\nM0 1600 L2400 1600 L2400 0 L0 0  Z\n  \" fill=\"#ffffff\" fill-rule=\"evenodd\" fill-opacity=\"1\"/>\n<defs>\n  <clipPath id=\"clip521\">\n    <rect x=\"480\" y=\"0\" width=\"1681\" height=\"1600\"/>\n  </clipPath>\n</defs>\n<path clip-path=\"url(#clip520)\" d=\"\nM304.947 1486.45 L2352.76 1486.45 L2352.76 47.2441 L304.947 47.2441  Z\n  \" fill=\"#ffffff\" fill-rule=\"evenodd\" fill-opacity=\"1\"/>\n<defs>\n  <clipPath id=\"clip522\">\n    <rect x=\"304\" y=\"47\" width=\"2049\" height=\"1440\"/>\n  </clipPath>\n</defs>\n<polyline clip-path=\"url(#clip522)\" style=\"stroke:#000000; stroke-linecap:butt; stroke-linejoin:round; stroke-width:2; stroke-opacity:0.1; fill:none\" points=\"\n  362.904,1486.45 362.904,47.2441 \n  \"/>\n<polyline clip-path=\"url(#clip522)\" style=\"stroke:#000000; stroke-linecap:butt; stroke-linejoin:round; stroke-width:2; stroke-opacity:0.1; fill:none\" points=\"\n  845.877,1486.45 845.877,47.2441 \n  \"/>\n<polyline clip-path=\"url(#clip522)\" style=\"stroke:#000000; stroke-linecap:butt; stroke-linejoin:round; stroke-width:2; stroke-opacity:0.1; fill:none\" points=\"\n  1328.85,1486.45 1328.85,47.2441 \n  \"/>\n<polyline clip-path=\"url(#clip522)\" style=\"stroke:#000000; stroke-linecap:butt; stroke-linejoin:round; stroke-width:2; stroke-opacity:0.1; fill:none\" points=\"\n  1811.83,1486.45 1811.83,47.2441 \n  \"/>\n<polyline clip-path=\"url(#clip522)\" style=\"stroke:#000000; stroke-linecap:butt; stroke-linejoin:round; stroke-width:2; stroke-opacity:0.1; fill:none\" points=\"\n  2294.8,1486.45 2294.8,47.2441 \n  \"/>\n<polyline clip-path=\"url(#clip520)\" style=\"stroke:#000000; stroke-linecap:butt; stroke-linejoin:round; stroke-width:4; stroke-opacity:1; fill:none\" points=\"\n  304.947,1486.45 2352.76,1486.45 \n  \"/>\n<polyline clip-path=\"url(#clip520)\" style=\"stroke:#000000; stroke-linecap:butt; stroke-linejoin:round; stroke-width:4; stroke-opacity:1; fill:none\" points=\"\n  362.904,1486.45 362.904,1467.55 \n  \"/>\n<polyline clip-path=\"url(#clip520)\" style=\"stroke:#000000; stroke-linecap:butt; stroke-linejoin:round; stroke-width:4; stroke-opacity:1; fill:none\" points=\"\n  845.877,1486.45 845.877,1467.55 \n  \"/>\n<polyline clip-path=\"url(#clip520)\" style=\"stroke:#000000; stroke-linecap:butt; stroke-linejoin:round; stroke-width:4; stroke-opacity:1; fill:none\" points=\"\n  1328.85,1486.45 1328.85,1467.55 \n  \"/>\n<polyline clip-path=\"url(#clip520)\" style=\"stroke:#000000; stroke-linecap:butt; stroke-linejoin:round; stroke-width:4; stroke-opacity:1; fill:none\" points=\"\n  1811.83,1486.45 1811.83,1467.55 \n  \"/>\n<polyline clip-path=\"url(#clip520)\" style=\"stroke:#000000; stroke-linecap:butt; stroke-linejoin:round; stroke-width:4; stroke-opacity:1; fill:none\" points=\"\n  2294.8,1486.45 2294.8,1467.55 \n  \"/>\n<path clip-path=\"url(#clip520)\" d=\"M325.207 1517.37 Q321.596 1517.37 319.767 1520.93 Q317.962 1524.47 317.962 1531.6 Q317.962 1538.71 319.767 1542.27 Q321.596 1545.82 325.207 1545.82 Q328.841 1545.82 330.647 1542.27 Q332.475 1538.71 332.475 1531.6 Q332.475 1524.47 330.647 1520.93 Q328.841 1517.37 325.207 1517.37 M325.207 1513.66 Q331.017 1513.66 334.073 1518.27 Q337.151 1522.85 337.151 1531.6 Q337.151 1540.33 334.073 1544.94 Q331.017 1549.52 325.207 1549.52 Q319.397 1549.52 316.318 1544.94 Q313.263 1540.33 313.263 1531.6 Q313.263 1522.85 316.318 1518.27 Q319.397 1513.66 325.207 1513.66 Z\" fill=\"#000000\" fill-rule=\"evenodd\" fill-opacity=\"1\" /><path clip-path=\"url(#clip520)\" d=\"M345.369 1542.97 L350.253 1542.97 L350.253 1548.85 L345.369 1548.85 L345.369 1542.97 Z\" fill=\"#000000\" fill-rule=\"evenodd\" fill-opacity=\"1\" /><path clip-path=\"url(#clip520)\" d=\"M370.438 1517.37 Q366.827 1517.37 364.998 1520.93 Q363.193 1524.47 363.193 1531.6 Q363.193 1538.71 364.998 1542.27 Q366.827 1545.82 370.438 1545.82 Q374.072 1545.82 375.878 1542.27 Q377.707 1538.71 377.707 1531.6 Q377.707 1524.47 375.878 1520.93 Q374.072 1517.37 370.438 1517.37 M370.438 1513.66 Q376.248 1513.66 379.304 1518.27 Q382.383 1522.85 382.383 1531.6 Q382.383 1540.33 379.304 1544.94 Q376.248 1549.52 370.438 1549.52 Q364.628 1549.52 361.549 1544.94 Q358.494 1540.33 358.494 1531.6 Q358.494 1522.85 361.549 1518.27 Q364.628 1513.66 370.438 1513.66 Z\" fill=\"#000000\" fill-rule=\"evenodd\" fill-opacity=\"1\" /><path clip-path=\"url(#clip520)\" d=\"M400.6 1517.37 Q396.989 1517.37 395.16 1520.93 Q393.355 1524.47 393.355 1531.6 Q393.355 1538.71 395.16 1542.27 Q396.989 1545.82 400.6 1545.82 Q404.234 1545.82 406.04 1542.27 Q407.869 1538.71 407.869 1531.6 Q407.869 1524.47 406.04 1520.93 Q404.234 1517.37 400.6 1517.37 M400.6 1513.66 Q406.41 1513.66 409.466 1518.27 Q412.544 1522.85 412.544 1531.6 Q412.544 1540.33 409.466 1544.94 Q406.41 1549.52 400.6 1549.52 Q394.79 1549.52 391.711 1544.94 Q388.656 1540.33 388.656 1531.6 Q388.656 1522.85 391.711 1518.27 Q394.79 1513.66 400.6 1513.66 Z\" fill=\"#000000\" fill-rule=\"evenodd\" fill-opacity=\"1\" /><path clip-path=\"url(#clip520)\" d=\"M808.679 1517.37 Q805.067 1517.37 803.239 1520.93 Q801.433 1524.47 801.433 1531.6 Q801.433 1538.71 803.239 1542.27 Q805.067 1545.82 808.679 1545.82 Q812.313 1545.82 814.118 1542.27 Q815.947 1538.71 815.947 1531.6 Q815.947 1524.47 814.118 1520.93 Q812.313 1517.37 808.679 1517.37 M808.679 1513.66 Q814.489 1513.66 817.544 1518.27 Q820.623 1522.85 820.623 1531.6 Q820.623 1540.33 817.544 1544.94 Q814.489 1549.52 808.679 1549.52 Q802.868 1549.52 799.79 1544.94 Q796.734 1540.33 796.734 1531.6 Q796.734 1522.85 799.79 1518.27 Q802.868 1513.66 808.679 1513.66 Z\" fill=\"#000000\" fill-rule=\"evenodd\" fill-opacity=\"1\" /><path clip-path=\"url(#clip520)\" d=\"M828.84 1542.97 L833.725 1542.97 L833.725 1548.85 L828.84 1548.85 L828.84 1542.97 Z\" fill=\"#000000\" fill-rule=\"evenodd\" fill-opacity=\"1\" /><path clip-path=\"url(#clip520)\" d=\"M847.938 1544.91 L864.257 1544.91 L864.257 1548.85 L842.313 1548.85 L842.313 1544.91 Q844.975 1542.16 849.558 1537.53 Q854.164 1532.88 855.345 1531.53 Q857.59 1529.01 858.47 1527.27 Q859.373 1525.51 859.373 1523.82 Q859.373 1521.07 857.428 1519.33 Q855.507 1517.6 852.405 1517.6 Q850.206 1517.6 847.752 1518.36 Q845.322 1519.13 842.544 1520.68 L842.544 1515.95 Q845.368 1514.82 847.822 1514.24 Q850.276 1513.66 852.313 1513.66 Q857.683 1513.66 860.877 1516.35 Q864.072 1519.03 864.072 1523.52 Q864.072 1525.65 863.262 1527.57 Q862.475 1529.47 860.368 1532.07 Q859.789 1532.74 856.688 1535.95 Q853.586 1539.15 847.938 1544.91 Z\" fill=\"#000000\" fill-rule=\"evenodd\" fill-opacity=\"1\" /><path clip-path=\"url(#clip520)\" d=\"M874.118 1514.29 L892.474 1514.29 L892.474 1518.22 L878.4 1518.22 L878.4 1526.7 Q879.419 1526.35 880.437 1526.19 Q881.456 1526 882.474 1526 Q888.261 1526 891.641 1529.17 Q895.021 1532.34 895.021 1537.76 Q895.021 1543.34 891.548 1546.44 Q888.076 1549.52 881.757 1549.52 Q879.581 1549.52 877.312 1549.15 Q875.067 1548.78 872.66 1548.04 L872.66 1543.34 Q874.743 1544.47 876.965 1545.03 Q879.187 1545.58 881.664 1545.58 Q885.669 1545.58 888.007 1543.48 Q890.345 1541.37 890.345 1537.76 Q890.345 1534.15 888.007 1532.04 Q885.669 1529.94 881.664 1529.94 Q879.789 1529.94 877.914 1530.35 Q876.062 1530.77 874.118 1531.65 L874.118 1514.29 Z\" fill=\"#000000\" fill-rule=\"evenodd\" fill-opacity=\"1\" /><path clip-path=\"url(#clip520)\" d=\"M1291.15 1517.37 Q1287.54 1517.37 1285.71 1520.93 Q1283.91 1524.47 1283.91 1531.6 Q1283.91 1538.71 1285.71 1542.27 Q1287.54 1545.82 1291.15 1545.82 Q1294.79 1545.82 1296.59 1542.27 Q1298.42 1538.71 1298.42 1531.6 Q1298.42 1524.47 1296.59 1520.93 Q1294.79 1517.37 1291.15 1517.37 M1291.15 1513.66 Q1296.96 1513.66 1300.02 1518.27 Q1303.1 1522.85 1303.1 1531.6 Q1303.1 1540.33 1300.02 1544.94 Q1296.96 1549.52 1291.15 1549.52 Q1285.34 1549.52 1282.27 1544.94 Q1279.21 1540.33 1279.21 1531.6 Q1279.21 1522.85 1282.27 1518.27 Q1285.34 1513.66 1291.15 1513.66 Z\" fill=\"#000000\" fill-rule=\"evenodd\" fill-opacity=\"1\" /><path clip-path=\"url(#clip520)\" d=\"M1311.32 1542.97 L1316.2 1542.97 L1316.2 1548.85 L1311.32 1548.85 L1311.32 1542.97 Z\" fill=\"#000000\" fill-rule=\"evenodd\" fill-opacity=\"1\" /><path clip-path=\"url(#clip520)\" d=\"M1326.43 1514.29 L1344.79 1514.29 L1344.79 1518.22 L1330.71 1518.22 L1330.71 1526.7 Q1331.73 1526.35 1332.75 1526.19 Q1333.77 1526 1334.79 1526 Q1340.58 1526 1343.96 1529.17 Q1347.33 1532.34 1347.33 1537.76 Q1347.33 1543.34 1343.86 1546.44 Q1340.39 1549.52 1334.07 1549.52 Q1331.9 1549.52 1329.63 1549.15 Q1327.38 1548.78 1324.97 1548.04 L1324.97 1543.34 Q1327.06 1544.47 1329.28 1545.03 Q1331.5 1545.58 1333.98 1545.58 Q1337.98 1545.58 1340.32 1543.48 Q1342.66 1541.37 1342.66 1537.76 Q1342.66 1534.15 1340.32 1532.04 Q1337.98 1529.94 1333.98 1529.94 Q1332.1 1529.94 1330.23 1530.35 Q1328.38 1530.77 1326.43 1531.65 L1326.43 1514.29 Z\" fill=\"#000000\" fill-rule=\"evenodd\" fill-opacity=\"1\" /><path clip-path=\"url(#clip520)\" d=\"M1366.55 1517.37 Q1362.94 1517.37 1361.11 1520.93 Q1359.3 1524.47 1359.3 1531.6 Q1359.3 1538.71 1361.11 1542.27 Q1362.94 1545.82 1366.55 1545.82 Q1370.18 1545.82 1371.99 1542.27 Q1373.82 1538.71 1373.82 1531.6 Q1373.82 1524.47 1371.99 1520.93 Q1370.18 1517.37 1366.55 1517.37 M1366.55 1513.66 Q1372.36 1513.66 1375.41 1518.27 Q1378.49 1522.85 1378.49 1531.6 Q1378.49 1540.33 1375.41 1544.94 Q1372.36 1549.52 1366.55 1549.52 Q1360.74 1549.52 1357.66 1544.94 Q1354.6 1540.33 1354.6 1531.6 Q1354.6 1522.85 1357.66 1518.27 Q1360.74 1513.66 1366.55 1513.66 Z\" fill=\"#000000\" fill-rule=\"evenodd\" fill-opacity=\"1\" /><path clip-path=\"url(#clip520)\" d=\"M1774.63 1517.37 Q1771.02 1517.37 1769.19 1520.93 Q1767.38 1524.47 1767.38 1531.6 Q1767.38 1538.71 1769.19 1542.27 Q1771.02 1545.82 1774.63 1545.82 Q1778.26 1545.82 1780.07 1542.27 Q1781.89 1538.71 1781.89 1531.6 Q1781.89 1524.47 1780.07 1520.93 Q1778.26 1517.37 1774.63 1517.37 M1774.63 1513.66 Q1780.44 1513.66 1783.49 1518.27 Q1786.57 1522.85 1786.57 1531.6 Q1786.57 1540.33 1783.49 1544.94 Q1780.44 1549.52 1774.63 1549.52 Q1768.82 1549.52 1765.74 1544.94 Q1762.68 1540.33 1762.68 1531.6 Q1762.68 1522.85 1765.74 1518.27 Q1768.82 1513.66 1774.63 1513.66 Z\" fill=\"#000000\" fill-rule=\"evenodd\" fill-opacity=\"1\" /><path clip-path=\"url(#clip520)\" d=\"M1794.79 1542.97 L1799.67 1542.97 L1799.67 1548.85 L1794.79 1548.85 L1794.79 1542.97 Z\" fill=\"#000000\" fill-rule=\"evenodd\" fill-opacity=\"1\" /><path clip-path=\"url(#clip520)\" d=\"M1808.68 1514.29 L1830.9 1514.29 L1830.9 1516.28 L1818.35 1548.85 L1813.47 1548.85 L1825.27 1518.22 L1808.68 1518.22 L1808.68 1514.29 Z\" fill=\"#000000\" fill-rule=\"evenodd\" fill-opacity=\"1\" /><path clip-path=\"url(#clip520)\" d=\"M1840.07 1514.29 L1858.42 1514.29 L1858.42 1518.22 L1844.35 1518.22 L1844.35 1526.7 Q1845.37 1526.35 1846.39 1526.19 Q1847.4 1526 1848.42 1526 Q1854.21 1526 1857.59 1529.17 Q1860.97 1532.34 1860.97 1537.76 Q1860.97 1543.34 1857.5 1546.44 Q1854.02 1549.52 1847.7 1549.52 Q1845.53 1549.52 1843.26 1549.15 Q1841.01 1548.78 1838.61 1548.04 L1838.61 1543.34 Q1840.69 1544.47 1842.91 1545.03 Q1845.14 1545.58 1847.61 1545.58 Q1851.62 1545.58 1853.95 1543.48 Q1856.29 1541.37 1856.29 1537.76 Q1856.29 1534.15 1853.95 1532.04 Q1851.62 1529.94 1847.61 1529.94 Q1845.74 1529.94 1843.86 1530.35 Q1842.01 1530.77 1840.07 1531.65 L1840.07 1514.29 Z\" fill=\"#000000\" fill-rule=\"evenodd\" fill-opacity=\"1\" /><path clip-path=\"url(#clip520)\" d=\"M2246.87 1544.91 L2254.51 1544.91 L2254.51 1518.55 L2246.2 1520.21 L2246.2 1515.95 L2254.46 1514.29 L2259.14 1514.29 L2259.14 1544.91 L2266.78 1544.91 L2266.78 1548.85 L2246.87 1548.85 L2246.87 1544.91 Z\" fill=\"#000000\" fill-rule=\"evenodd\" fill-opacity=\"1\" /><path clip-path=\"url(#clip520)\" d=\"M2276.22 1542.97 L2281.11 1542.97 L2281.11 1548.85 L2276.22 1548.85 L2276.22 1542.97 Z\" fill=\"#000000\" fill-rule=\"evenodd\" fill-opacity=\"1\" /><path clip-path=\"url(#clip520)\" d=\"M2301.29 1517.37 Q2297.68 1517.37 2295.85 1520.93 Q2294.05 1524.47 2294.05 1531.6 Q2294.05 1538.71 2295.85 1542.27 Q2297.68 1545.82 2301.29 1545.82 Q2304.93 1545.82 2306.73 1542.27 Q2308.56 1538.71 2308.56 1531.6 Q2308.56 1524.47 2306.73 1520.93 Q2304.93 1517.37 2301.29 1517.37 M2301.29 1513.66 Q2307.1 1513.66 2310.16 1518.27 Q2313.24 1522.85 2313.24 1531.6 Q2313.24 1540.33 2310.16 1544.94 Q2307.1 1549.52 2301.29 1549.52 Q2295.48 1549.52 2292.4 1544.94 Q2289.35 1540.33 2289.35 1531.6 Q2289.35 1522.85 2292.4 1518.27 Q2295.48 1513.66 2301.29 1513.66 Z\" fill=\"#000000\" fill-rule=\"evenodd\" fill-opacity=\"1\" /><path clip-path=\"url(#clip520)\" d=\"M2331.45 1517.37 Q2327.84 1517.37 2326.01 1520.93 Q2324.21 1524.47 2324.21 1531.6 Q2324.21 1538.71 2326.01 1542.27 Q2327.84 1545.82 2331.45 1545.82 Q2335.09 1545.82 2336.89 1542.27 Q2338.72 1538.71 2338.72 1531.6 Q2338.72 1524.47 2336.89 1520.93 Q2335.09 1517.37 2331.45 1517.37 M2331.45 1513.66 Q2337.26 1513.66 2340.32 1518.27 Q2343.4 1522.85 2343.4 1531.6 Q2343.4 1540.33 2340.32 1544.94 Q2337.26 1549.52 2331.45 1549.52 Q2325.64 1549.52 2322.57 1544.94 Q2319.51 1540.33 2319.51 1531.6 Q2319.51 1522.85 2322.57 1518.27 Q2325.64 1513.66 2331.45 1513.66 Z\" fill=\"#000000\" fill-rule=\"evenodd\" fill-opacity=\"1\" /><polyline clip-path=\"url(#clip522)\" style=\"stroke:#000000; stroke-linecap:butt; stroke-linejoin:round; stroke-width:2; stroke-opacity:0.1; fill:none\" points=\"\n  304.947,1270.48 2352.76,1270.48 \n  \"/>\n<polyline clip-path=\"url(#clip522)\" style=\"stroke:#000000; stroke-linecap:butt; stroke-linejoin:round; stroke-width:2; stroke-opacity:0.1; fill:none\" points=\"\n  304.947,999.224 2352.76,999.224 \n  \"/>\n<polyline clip-path=\"url(#clip522)\" style=\"stroke:#000000; stroke-linecap:butt; stroke-linejoin:round; stroke-width:2; stroke-opacity:0.1; fill:none\" points=\"\n  304.947,727.966 2352.76,727.966 \n  \"/>\n<polyline clip-path=\"url(#clip522)\" style=\"stroke:#000000; stroke-linecap:butt; stroke-linejoin:round; stroke-width:2; stroke-opacity:0.1; fill:none\" points=\"\n  304.947,456.707 2352.76,456.707 \n  \"/>\n<polyline clip-path=\"url(#clip522)\" style=\"stroke:#000000; stroke-linecap:butt; stroke-linejoin:round; stroke-width:2; stroke-opacity:0.1; fill:none\" points=\"\n  304.947,185.449 2352.76,185.449 \n  \"/>\n<polyline clip-path=\"url(#clip520)\" style=\"stroke:#000000; stroke-linecap:butt; stroke-linejoin:round; stroke-width:4; stroke-opacity:1; fill:none\" points=\"\n  304.947,1486.45 304.947,47.2441 \n  \"/>\n<polyline clip-path=\"url(#clip520)\" style=\"stroke:#000000; stroke-linecap:butt; stroke-linejoin:round; stroke-width:4; stroke-opacity:1; fill:none\" points=\"\n  304.947,1270.48 323.844,1270.48 \n  \"/>\n<polyline clip-path=\"url(#clip520)\" style=\"stroke:#000000; stroke-linecap:butt; stroke-linejoin:round; stroke-width:4; stroke-opacity:1; fill:none\" points=\"\n  304.947,999.224 323.844,999.224 \n  \"/>\n<polyline clip-path=\"url(#clip520)\" style=\"stroke:#000000; stroke-linecap:butt; stroke-linejoin:round; stroke-width:4; stroke-opacity:1; fill:none\" points=\"\n  304.947,727.966 323.844,727.966 \n  \"/>\n<polyline clip-path=\"url(#clip520)\" style=\"stroke:#000000; stroke-linecap:butt; stroke-linejoin:round; stroke-width:4; stroke-opacity:1; fill:none\" points=\"\n  304.947,456.707 323.844,456.707 \n  \"/>\n<polyline clip-path=\"url(#clip520)\" style=\"stroke:#000000; stroke-linecap:butt; stroke-linejoin:round; stroke-width:4; stroke-opacity:1; fill:none\" points=\"\n  304.947,185.449 323.844,185.449 \n  \"/>\n<path clip-path=\"url(#clip520)\" d=\"M63.6541 1275.07 Q60.506 1275.07 58.6541 1277.22 Q56.8254 1279.37 56.8254 1283.12 Q56.8254 1286.85 58.6541 1289.03 Q60.506 1291.18 63.6541 1291.18 Q66.8022 1291.18 68.6309 1289.03 Q70.4828 1286.85 70.4828 1283.12 Q70.4828 1279.37 68.6309 1277.22 Q66.8022 1275.07 63.6541 1275.07 M72.9365 1260.41 L72.9365 1264.67 Q71.1772 1263.84 69.3717 1263.4 Q67.5893 1262.96 65.83 1262.96 Q61.2004 1262.96 58.7467 1266.09 Q56.3162 1269.21 55.969 1275.53 Q57.3347 1273.52 59.3949 1272.45 Q61.455 1271.36 63.9319 1271.36 Q69.1402 1271.36 72.1494 1274.53 Q75.1818 1277.68 75.1818 1283.12 Q75.1818 1288.45 72.0337 1291.66 Q68.8855 1294.88 63.6541 1294.88 Q57.6588 1294.88 54.4875 1290.3 Q51.3162 1285.69 51.3162 1276.96 Q51.3162 1268.77 55.2051 1263.91 Q59.0939 1259.03 65.6448 1259.03 Q67.4041 1259.03 69.1865 1259.37 Q70.992 1259.72 72.9365 1260.41 Z\" fill=\"#000000\" fill-rule=\"evenodd\" fill-opacity=\"1\" /><path clip-path=\"url(#clip520)\" d=\"M83.2373 1288.33 L88.1216 1288.33 L88.1216 1294.21 L83.2373 1294.21 L83.2373 1288.33 Z\" fill=\"#000000\" fill-rule=\"evenodd\" fill-opacity=\"1\" /><path clip-path=\"url(#clip520)\" d=\"M108.307 1262.73 Q104.696 1262.73 102.867 1266.29 Q101.061 1269.84 101.061 1276.96 Q101.061 1284.07 102.867 1287.64 Q104.696 1291.18 108.307 1291.18 Q111.941 1291.18 113.746 1287.64 Q115.575 1284.07 115.575 1276.96 Q115.575 1269.84 113.746 1266.29 Q111.941 1262.73 108.307 1262.73 M108.307 1259.03 Q114.117 1259.03 117.172 1263.63 Q120.251 1268.22 120.251 1276.96 Q120.251 1285.69 117.172 1290.3 Q114.117 1294.88 108.307 1294.88 Q102.496 1294.88 99.4178 1290.3 Q96.3623 1285.69 96.3623 1276.96 Q96.3623 1268.22 99.4178 1263.63 Q102.496 1259.03 108.307 1259.03 Z\" fill=\"#000000\" fill-rule=\"evenodd\" fill-opacity=\"1\" /><path clip-path=\"url(#clip520)\" d=\"M138.469 1262.73 Q134.857 1262.73 133.029 1266.29 Q131.223 1269.84 131.223 1276.96 Q131.223 1284.07 133.029 1287.64 Q134.857 1291.18 138.469 1291.18 Q142.103 1291.18 143.908 1287.64 Q145.737 1284.07 145.737 1276.96 Q145.737 1269.84 143.908 1266.29 Q142.103 1262.73 138.469 1262.73 M138.469 1259.03 Q144.279 1259.03 147.334 1263.63 Q150.413 1268.22 150.413 1276.96 Q150.413 1285.69 147.334 1290.3 Q144.279 1294.88 138.469 1294.88 Q132.658 1294.88 129.58 1290.3 Q126.524 1285.69 126.524 1276.96 Q126.524 1268.22 129.58 1263.63 Q132.658 1259.03 138.469 1259.03 Z\" fill=\"#000000\" fill-rule=\"evenodd\" fill-opacity=\"1\" /><path clip-path=\"url(#clip520)\" d=\"M186.802 1268.75 L176.223 1279.37 L186.802 1289.95 L184.047 1292.75 L173.422 1282.13 L162.797 1292.75 L160.066 1289.95 L170.621 1279.37 L160.066 1268.75 L162.797 1265.95 L173.422 1276.57 L184.047 1265.95 L186.802 1268.75 Z\" fill=\"#000000\" fill-rule=\"evenodd\" fill-opacity=\"1\" /><path clip-path=\"url(#clip520)\" d=\"M199.163 1290.28 L206.801 1290.28 L206.801 1263.91 L198.491 1265.58 L198.491 1261.32 L206.755 1259.65 L211.431 1259.65 L211.431 1290.28 L219.07 1290.28 L219.07 1294.21 L199.163 1294.21 L199.163 1290.28 Z\" fill=\"#000000\" fill-rule=\"evenodd\" fill-opacity=\"1\" /><path clip-path=\"url(#clip520)\" d=\"M238.514 1262.73 Q234.903 1262.73 233.074 1266.29 Q231.269 1269.84 231.269 1276.96 Q231.269 1284.07 233.074 1287.64 Q234.903 1291.18 238.514 1291.18 Q242.149 1291.18 243.954 1287.64 Q245.783 1284.07 245.783 1276.96 Q245.783 1269.84 243.954 1266.29 Q242.149 1262.73 238.514 1262.73 M238.514 1259.03 Q244.324 1259.03 247.38 1263.63 Q250.459 1268.22 250.459 1276.96 Q250.459 1285.69 247.38 1290.3 Q244.324 1294.88 238.514 1294.88 Q232.704 1294.88 229.625 1290.3 Q226.57 1285.69 226.57 1276.96 Q226.57 1268.22 229.625 1263.63 Q232.704 1259.03 238.514 1259.03 Z\" fill=\"#000000\" fill-rule=\"evenodd\" fill-opacity=\"1\" /><path clip-path=\"url(#clip520)\" d=\"M263.154 1251.66 Q265.881 1252.24 267.404 1254.09 Q268.947 1255.93 268.947 1258.64 Q268.947 1262.79 266.088 1265.07 Q263.229 1267.35 257.963 1267.35 Q256.195 1267.35 254.314 1266.99 Q252.452 1266.65 250.459 1265.95 L250.459 1262.29 Q252.039 1263.21 253.919 1263.68 Q255.8 1264.15 257.85 1264.15 Q261.424 1264.15 263.286 1262.74 Q265.166 1261.33 265.166 1258.64 Q265.166 1256.15 263.417 1254.76 Q261.687 1253.35 258.584 1253.35 L255.311 1253.35 L255.311 1250.23 L258.734 1250.23 Q261.536 1250.23 263.022 1249.12 Q264.508 1247.99 264.508 1245.89 Q264.508 1243.72 262.966 1242.58 Q261.442 1241.41 258.584 1241.41 Q257.023 1241.41 255.236 1241.75 Q253.449 1242.09 251.305 1242.8 L251.305 1239.42 Q253.468 1238.81 255.349 1238.51 Q257.248 1238.21 258.922 1238.21 Q263.248 1238.21 265.768 1240.19 Q268.288 1242.14 268.288 1245.49 Q268.288 1247.82 266.953 1249.44 Q265.618 1251.04 263.154 1251.66 Z\" fill=\"#000000\" fill-rule=\"evenodd\" fill-opacity=\"1\" /><path clip-path=\"url(#clip520)\" d=\"M53.2143 1022.23 L53.2143 1017.97 Q54.9736 1018.81 56.7791 1019.25 Q58.5847 1019.69 60.3208 1019.69 Q64.9504 1019.69 67.3809 1016.59 Q69.8346 1013.46 70.1818 1007.12 Q68.8393 1009.11 66.7791 1010.17 Q64.7189 1011.24 62.2189 1011.24 Q57.0338 1011.24 54.0014 1008.11 Q50.9921 1004.97 50.9921 999.526 Q50.9921 994.202 54.1403 990.984 Q57.2884 987.767 62.5198 987.767 Q68.5152 987.767 71.6633 992.373 Q74.8346 996.957 74.8346 1005.71 Q74.8346 1013.88 70.9457 1018.76 Q67.08 1023.62 60.5291 1023.62 Q58.7699 1023.62 56.9643 1023.28 Q55.1588 1022.93 53.2143 1022.23 M62.5198 1007.58 Q65.668 1007.58 67.4967 1005.43 Q69.3485 1003.28 69.3485 999.526 Q69.3485 995.799 67.4967 993.646 Q65.668 991.47 62.5198 991.47 Q59.3717 991.47 57.5199 993.646 Q55.6912 995.799 55.6912 999.526 Q55.6912 1003.28 57.5199 1005.43 Q59.3717 1007.58 62.5198 1007.58 Z\" fill=\"#000000\" fill-rule=\"evenodd\" fill-opacity=\"1\" /><path clip-path=\"url(#clip520)\" d=\"M83.2373 1017.07 L88.1216 1017.07 L88.1216 1022.95 L83.2373 1022.95 L83.2373 1017.07 Z\" fill=\"#000000\" fill-rule=\"evenodd\" fill-opacity=\"1\" /><path clip-path=\"url(#clip520)\" d=\"M108.307 991.47 Q104.696 991.47 102.867 995.035 Q101.061 998.577 101.061 1005.71 Q101.061 1012.81 102.867 1016.38 Q104.696 1019.92 108.307 1019.92 Q111.941 1019.92 113.746 1016.38 Q115.575 1012.81 115.575 1005.71 Q115.575 998.577 113.746 995.035 Q111.941 991.47 108.307 991.47 M108.307 987.767 Q114.117 987.767 117.172 992.373 Q120.251 996.957 120.251 1005.71 Q120.251 1014.43 117.172 1019.04 Q114.117 1023.62 108.307 1023.62 Q102.496 1023.62 99.4178 1019.04 Q96.3623 1014.43 96.3623 1005.71 Q96.3623 996.957 99.4178 992.373 Q102.496 987.767 108.307 987.767 Z\" fill=\"#000000\" fill-rule=\"evenodd\" fill-opacity=\"1\" /><path clip-path=\"url(#clip520)\" d=\"M138.469 991.47 Q134.857 991.47 133.029 995.035 Q131.223 998.577 131.223 1005.71 Q131.223 1012.81 133.029 1016.38 Q134.857 1019.92 138.469 1019.92 Q142.103 1019.92 143.908 1016.38 Q145.737 1012.81 145.737 1005.71 Q145.737 998.577 143.908 995.035 Q142.103 991.47 138.469 991.47 M138.469 987.767 Q144.279 987.767 147.334 992.373 Q150.413 996.957 150.413 1005.71 Q150.413 1014.43 147.334 1019.04 Q144.279 1023.62 138.469 1023.62 Q132.658 1023.62 129.58 1019.04 Q126.524 1014.43 126.524 1005.71 Q126.524 996.957 129.58 992.373 Q132.658 987.767 138.469 987.767 Z\" fill=\"#000000\" fill-rule=\"evenodd\" fill-opacity=\"1\" /><path clip-path=\"url(#clip520)\" d=\"M186.802 997.489 L176.223 1008.11 L186.802 1018.69 L184.047 1021.49 L173.422 1010.87 L162.797 1021.49 L160.066 1018.69 L170.621 1008.11 L160.066 997.489 L162.797 994.688 L173.422 1005.31 L184.047 994.688 L186.802 997.489 Z\" fill=\"#000000\" fill-rule=\"evenodd\" fill-opacity=\"1\" /><path clip-path=\"url(#clip520)\" d=\"M199.163 1019.02 L206.801 1019.02 L206.801 992.651 L198.491 994.318 L198.491 990.058 L206.755 988.392 L211.431 988.392 L211.431 1019.02 L219.07 1019.02 L219.07 1022.95 L199.163 1022.95 L199.163 1019.02 Z\" fill=\"#000000\" fill-rule=\"evenodd\" fill-opacity=\"1\" /><path clip-path=\"url(#clip520)\" d=\"M238.514 991.47 Q234.903 991.47 233.074 995.035 Q231.269 998.577 231.269 1005.71 Q231.269 1012.81 233.074 1016.38 Q234.903 1019.92 238.514 1019.92 Q242.149 1019.92 243.954 1016.38 Q245.783 1012.81 245.783 1005.71 Q245.783 998.577 243.954 995.035 Q242.149 991.47 238.514 991.47 M238.514 987.767 Q244.324 987.767 247.38 992.373 Q250.459 996.957 250.459 1005.71 Q250.459 1014.43 247.38 1019.04 Q244.324 1023.62 238.514 1023.62 Q232.704 1023.62 229.625 1019.04 Q226.57 1014.43 226.57 1005.71 Q226.57 996.957 229.625 992.373 Q232.704 987.767 238.514 987.767 Z\" fill=\"#000000\" fill-rule=\"evenodd\" fill-opacity=\"1\" /><path clip-path=\"url(#clip520)\" d=\"M263.154 980.401 Q265.881 980.984 267.404 982.827 Q268.947 984.67 268.947 987.379 Q268.947 991.535 266.088 993.811 Q263.229 996.087 257.963 996.087 Q256.195 996.087 254.314 995.729 Q252.452 995.391 250.459 994.695 L250.459 991.027 Q252.039 991.949 253.919 992.419 Q255.8 992.889 257.85 992.889 Q261.424 992.889 263.286 991.479 Q265.166 990.068 265.166 987.379 Q265.166 984.896 263.417 983.504 Q261.687 982.094 258.584 982.094 L255.311 982.094 L255.311 978.972 L258.734 978.972 Q261.536 978.972 263.022 977.862 Q264.508 976.734 264.508 974.627 Q264.508 972.464 262.966 971.317 Q261.442 970.151 258.584 970.151 Q257.023 970.151 255.236 970.489 Q253.449 970.828 251.305 971.543 L251.305 968.157 Q253.468 967.555 255.349 967.254 Q257.248 966.954 258.922 966.954 Q263.248 966.954 265.768 968.928 Q268.288 970.884 268.288 974.232 Q268.288 976.564 266.953 978.182 Q265.618 979.78 263.154 980.401 Z\" fill=\"#000000\" fill-rule=\"evenodd\" fill-opacity=\"1\" /><path clip-path=\"url(#clip520)\" d=\"M51.9108 747.758 L59.5497 747.758 L59.5497 721.392 L51.2395 723.059 L51.2395 718.8 L59.5034 717.133 L64.1793 717.133 L64.1793 747.758 L71.8181 747.758 L71.8181 751.693 L51.9108 751.693 L51.9108 747.758 Z\" fill=\"#000000\" fill-rule=\"evenodd\" fill-opacity=\"1\" /><path clip-path=\"url(#clip520)\" d=\"M81.2625 745.814 L86.1467 745.814 L86.1467 751.693 L81.2625 751.693 L81.2625 745.814 Z\" fill=\"#000000\" fill-rule=\"evenodd\" fill-opacity=\"1\" /><path clip-path=\"url(#clip520)\" d=\"M100.36 747.758 L116.679 747.758 L116.679 751.693 L94.7347 751.693 L94.7347 747.758 Q97.3967 745.003 101.98 740.374 Q106.586 735.721 107.767 734.378 Q110.012 731.855 110.892 730.119 Q111.795 728.36 111.795 726.67 Q111.795 723.916 109.85 722.179 Q107.929 720.443 104.827 720.443 Q102.628 720.443 100.174 721.207 Q97.7439 721.971 94.9661 723.522 L94.9661 718.8 Q97.7902 717.666 100.244 717.087 Q102.698 716.508 104.735 716.508 Q110.105 716.508 113.299 719.193 Q116.494 721.879 116.494 726.369 Q116.494 728.499 115.684 730.42 Q114.897 732.318 112.79 734.911 Q112.211 735.582 109.11 738.8 Q106.008 741.994 100.36 747.758 Z\" fill=\"#000000\" fill-rule=\"evenodd\" fill-opacity=\"1\" /><path clip-path=\"url(#clip520)\" d=\"M136.494 720.212 Q132.883 720.212 131.054 723.777 Q129.248 727.318 129.248 734.448 Q129.248 741.554 131.054 745.119 Q132.883 748.661 136.494 748.661 Q140.128 748.661 141.933 745.119 Q143.762 741.554 143.762 734.448 Q143.762 727.318 141.933 723.777 Q140.128 720.212 136.494 720.212 M136.494 716.508 Q142.304 716.508 145.359 721.115 Q148.438 725.698 148.438 734.448 Q148.438 743.175 145.359 747.781 Q142.304 752.364 136.494 752.364 Q130.684 752.364 127.605 747.781 Q124.549 743.175 124.549 734.448 Q124.549 725.698 127.605 721.115 Q130.684 716.508 136.494 716.508 Z\" fill=\"#000000\" fill-rule=\"evenodd\" fill-opacity=\"1\" /><path clip-path=\"url(#clip520)\" d=\"M184.827 726.23 L174.248 736.855 L184.827 747.434 L182.072 750.235 L171.447 739.61 L160.822 750.235 L158.091 747.434 L168.646 736.855 L158.091 726.23 L160.822 723.429 L171.447 734.054 L182.072 723.429 L184.827 726.23 Z\" fill=\"#000000\" fill-rule=\"evenodd\" fill-opacity=\"1\" /><path clip-path=\"url(#clip520)\" d=\"M197.188 747.758 L204.827 747.758 L204.827 721.392 L196.517 723.059 L196.517 718.8 L204.78 717.133 L209.456 717.133 L209.456 747.758 L217.095 747.758 L217.095 751.693 L197.188 751.693 L197.188 747.758 Z\" fill=\"#000000\" fill-rule=\"evenodd\" fill-opacity=\"1\" /><path clip-path=\"url(#clip520)\" d=\"M236.539 720.212 Q232.928 720.212 231.1 723.777 Q229.294 727.318 229.294 734.448 Q229.294 741.554 231.1 745.119 Q232.928 748.661 236.539 748.661 Q240.174 748.661 241.979 745.119 Q243.808 741.554 243.808 734.448 Q243.808 727.318 241.979 723.777 Q240.174 720.212 236.539 720.212 M236.539 716.508 Q242.35 716.508 245.405 721.115 Q248.484 725.698 248.484 734.448 Q248.484 743.175 245.405 747.781 Q242.35 752.364 236.539 752.364 Q230.729 752.364 227.651 747.781 Q224.595 743.175 224.595 734.448 Q224.595 725.698 227.651 721.115 Q230.729 716.508 236.539 716.508 Z\" fill=\"#000000\" fill-rule=\"evenodd\" fill-opacity=\"1\" /><path clip-path=\"url(#clip520)\" d=\"M261.16 699.513 L251.568 714.503 L261.16 714.503 L261.16 699.513 M260.163 696.203 L264.941 696.203 L264.941 714.503 L268.947 714.503 L268.947 717.662 L264.941 717.662 L264.941 724.283 L261.16 724.283 L261.16 717.662 L248.484 717.662 L248.484 713.995 L260.163 696.203 Z\" fill=\"#000000\" fill-rule=\"evenodd\" fill-opacity=\"1\" /><path clip-path=\"url(#clip520)\" d=\"M51.9108 476.499 L59.5497 476.499 L59.5497 450.134 L51.2395 451.801 L51.2395 447.541 L59.5034 445.875 L64.1793 445.875 L64.1793 476.499 L71.8181 476.499 L71.8181 480.435 L51.9108 480.435 L51.9108 476.499 Z\" fill=\"#000000\" fill-rule=\"evenodd\" fill-opacity=\"1\" /><path clip-path=\"url(#clip520)\" d=\"M81.2625 474.555 L86.1467 474.555 L86.1467 480.435 L81.2625 480.435 L81.2625 474.555 Z\" fill=\"#000000\" fill-rule=\"evenodd\" fill-opacity=\"1\" /><path clip-path=\"url(#clip520)\" d=\"M96.3782 445.875 L114.735 445.875 L114.735 449.81 L100.661 449.81 L100.661 458.282 Q101.679 457.935 102.698 457.773 Q103.716 457.588 104.735 457.588 Q110.522 457.588 113.901 460.759 Q117.281 463.93 117.281 469.347 Q117.281 474.925 113.809 478.027 Q110.336 481.106 104.017 481.106 Q101.841 481.106 99.5726 480.736 Q97.3272 480.365 94.9198 479.624 L94.9198 474.925 Q97.0032 476.06 99.2254 476.615 Q101.448 477.171 103.924 477.171 Q107.929 477.171 110.267 475.064 Q112.605 472.958 112.605 469.347 Q112.605 465.736 110.267 463.629 Q107.929 461.523 103.924 461.523 Q102.049 461.523 100.174 461.939 Q98.3226 462.356 96.3782 463.236 L96.3782 445.875 Z\" fill=\"#000000\" fill-rule=\"evenodd\" fill-opacity=\"1\" /><path clip-path=\"url(#clip520)\" d=\"M136.494 448.953 Q132.883 448.953 131.054 452.518 Q129.248 456.06 129.248 463.189 Q129.248 470.296 131.054 473.861 Q132.883 477.402 136.494 477.402 Q140.128 477.402 141.933 473.861 Q143.762 470.296 143.762 463.189 Q143.762 456.06 141.933 452.518 Q140.128 448.953 136.494 448.953 M136.494 445.25 Q142.304 445.25 145.359 449.856 Q148.438 454.439 148.438 463.189 Q148.438 471.916 145.359 476.523 Q142.304 481.106 136.494 481.106 Q130.684 481.106 127.605 476.523 Q124.549 471.916 124.549 463.189 Q124.549 454.439 127.605 449.856 Q130.684 445.25 136.494 445.25 Z\" fill=\"#000000\" fill-rule=\"evenodd\" fill-opacity=\"1\" /><path clip-path=\"url(#clip520)\" d=\"M184.827 454.972 L174.248 465.597 L184.827 476.175 L182.072 478.976 L171.447 468.351 L160.822 478.976 L158.091 476.175 L168.646 465.597 L158.091 454.972 L160.822 452.171 L171.447 462.796 L182.072 452.171 L184.827 454.972 Z\" fill=\"#000000\" fill-rule=\"evenodd\" fill-opacity=\"1\" /><path clip-path=\"url(#clip520)\" d=\"M197.188 476.499 L204.827 476.499 L204.827 450.134 L196.517 451.801 L196.517 447.541 L204.78 445.875 L209.456 445.875 L209.456 476.499 L217.095 476.499 L217.095 480.435 L197.188 480.435 L197.188 476.499 Z\" fill=\"#000000\" fill-rule=\"evenodd\" fill-opacity=\"1\" /><path clip-path=\"url(#clip520)\" d=\"M236.539 448.953 Q232.928 448.953 231.1 452.518 Q229.294 456.06 229.294 463.189 Q229.294 470.296 231.1 473.861 Q232.928 477.402 236.539 477.402 Q240.174 477.402 241.979 473.861 Q243.808 470.296 243.808 463.189 Q243.808 456.06 241.979 452.518 Q240.174 448.953 236.539 448.953 M236.539 445.25 Q242.35 445.25 245.405 449.856 Q248.484 454.439 248.484 463.189 Q248.484 471.916 245.405 476.523 Q242.35 481.106 236.539 481.106 Q230.729 481.106 227.651 476.523 Q224.595 471.916 224.595 463.189 Q224.595 454.439 227.651 449.856 Q230.729 445.25 236.539 445.25 Z\" fill=\"#000000\" fill-rule=\"evenodd\" fill-opacity=\"1\" /><path clip-path=\"url(#clip520)\" d=\"M261.16 428.254 L251.568 443.244 L261.16 443.244 L261.16 428.254 M260.163 424.944 L264.941 424.944 L264.941 443.244 L268.947 443.244 L268.947 446.404 L264.941 446.404 L264.941 453.024 L261.16 453.024 L261.16 446.404 L248.484 446.404 L248.484 442.736 L260.163 424.944 Z\" fill=\"#000000\" fill-rule=\"evenodd\" fill-opacity=\"1\" /><path clip-path=\"url(#clip520)\" d=\"M51.9108 205.241 L59.5497 205.241 L59.5497 178.875 L51.2395 180.542 L51.2395 176.283 L59.5034 174.616 L64.1793 174.616 L64.1793 205.241 L71.8181 205.241 L71.8181 209.176 L51.9108 209.176 L51.9108 205.241 Z\" fill=\"#000000\" fill-rule=\"evenodd\" fill-opacity=\"1\" /><path clip-path=\"url(#clip520)\" d=\"M81.2625 203.297 L86.1467 203.297 L86.1467 209.176 L81.2625 209.176 L81.2625 203.297 Z\" fill=\"#000000\" fill-rule=\"evenodd\" fill-opacity=\"1\" /><path clip-path=\"url(#clip520)\" d=\"M106.332 192.764 Q102.999 192.764 101.077 194.547 Q99.1791 196.329 99.1791 199.454 Q99.1791 202.579 101.077 204.361 Q102.999 206.144 106.332 206.144 Q109.665 206.144 111.586 204.361 Q113.508 202.556 113.508 199.454 Q113.508 196.329 111.586 194.547 Q109.688 192.764 106.332 192.764 M101.656 190.773 Q98.6467 190.033 96.9569 187.973 Q95.2902 185.912 95.2902 182.949 Q95.2902 178.806 98.23 176.399 Q101.193 173.991 106.332 173.991 Q111.494 173.991 114.434 176.399 Q117.373 178.806 117.373 182.949 Q117.373 185.912 115.684 187.973 Q114.017 190.033 111.031 190.773 Q114.41 191.56 116.285 193.852 Q118.184 196.144 118.184 199.454 Q118.184 204.477 115.105 207.162 Q112.049 209.847 106.332 209.847 Q100.614 209.847 97.5356 207.162 Q94.48 204.477 94.48 199.454 Q94.48 196.144 96.3782 193.852 Q98.2763 191.56 101.656 190.773 M99.943 183.389 Q99.943 186.074 101.61 187.579 Q103.299 189.084 106.332 189.084 Q109.341 189.084 111.031 187.579 Q112.744 186.074 112.744 183.389 Q112.744 180.704 111.031 179.199 Q109.341 177.695 106.332 177.695 Q103.299 177.695 101.61 179.199 Q99.943 180.704 99.943 183.389 Z\" fill=\"#000000\" fill-rule=\"evenodd\" fill-opacity=\"1\" /><path clip-path=\"url(#clip520)\" d=\"M136.494 177.695 Q132.883 177.695 131.054 181.26 Q129.248 184.801 129.248 191.931 Q129.248 199.037 131.054 202.602 Q132.883 206.144 136.494 206.144 Q140.128 206.144 141.933 202.602 Q143.762 199.037 143.762 191.931 Q143.762 184.801 141.933 181.26 Q140.128 177.695 136.494 177.695 M136.494 173.991 Q142.304 173.991 145.359 178.598 Q148.438 183.181 148.438 191.931 Q148.438 200.658 145.359 205.264 Q142.304 209.847 136.494 209.847 Q130.684 209.847 127.605 205.264 Q124.549 200.658 124.549 191.931 Q124.549 183.181 127.605 178.598 Q130.684 173.991 136.494 173.991 Z\" fill=\"#000000\" fill-rule=\"evenodd\" fill-opacity=\"1\" /><path clip-path=\"url(#clip520)\" d=\"M184.827 183.713 L174.248 194.338 L184.827 204.917 L182.072 207.718 L171.447 197.093 L160.822 207.718 L158.091 204.917 L168.646 194.338 L158.091 183.713 L160.822 180.912 L171.447 191.537 L182.072 180.912 L184.827 183.713 Z\" fill=\"#000000\" fill-rule=\"evenodd\" fill-opacity=\"1\" /><path clip-path=\"url(#clip520)\" d=\"M197.188 205.241 L204.827 205.241 L204.827 178.875 L196.517 180.542 L196.517 176.283 L204.78 174.616 L209.456 174.616 L209.456 205.241 L217.095 205.241 L217.095 209.176 L197.188 209.176 L197.188 205.241 Z\" fill=\"#000000\" fill-rule=\"evenodd\" fill-opacity=\"1\" /><path clip-path=\"url(#clip520)\" d=\"M236.539 177.695 Q232.928 177.695 231.1 181.26 Q229.294 184.801 229.294 191.931 Q229.294 199.037 231.1 202.602 Q232.928 206.144 236.539 206.144 Q240.174 206.144 241.979 202.602 Q243.808 199.037 243.808 191.931 Q243.808 184.801 241.979 181.26 Q240.174 177.695 236.539 177.695 M236.539 173.991 Q242.35 173.991 245.405 178.598 Q248.484 183.181 248.484 191.931 Q248.484 200.658 245.405 205.264 Q242.35 209.847 236.539 209.847 Q230.729 209.847 227.651 205.264 Q224.595 200.658 224.595 191.931 Q224.595 183.181 227.651 178.598 Q230.729 173.991 236.539 173.991 Z\" fill=\"#000000\" fill-rule=\"evenodd\" fill-opacity=\"1\" /><path clip-path=\"url(#clip520)\" d=\"M261.16 156.996 L251.568 171.986 L261.16 171.986 L261.16 156.996 M260.163 153.686 L264.941 153.686 L264.941 171.986 L268.947 171.986 L268.947 175.145 L264.941 175.145 L264.941 181.766 L261.16 181.766 L261.16 175.145 L248.484 175.145 L248.484 171.478 L260.163 153.686 Z\" fill=\"#000000\" fill-rule=\"evenodd\" fill-opacity=\"1\" /><polyline clip-path=\"url(#clip522)\" style=\"stroke:#009af9; stroke-linecap:butt; stroke-linejoin:round; stroke-width:4; stroke-opacity:1; fill:none\" points=\"\n  362.904,1107.37 459.498,1185.49 556.093,1250.23 652.688,1315.15 749.283,1366.15 845.877,1407.92 942.472,1433.96 1039.07,1445.72 1135.66,1444.81 1232.26,1418.41 \n  1328.85,1380.61 1425.45,1297.79 1522.04,1205.38 1618.64,1122.38 1715.23,998.501 1811.83,858.712 1908.42,739.901 2005.01,598.485 2101.61,463.941 2198.2,256.88 \n  2294.8,87.9763 \n  \"/>\n<path clip-path=\"url(#clip520)\" d=\"\nM2004.53 198.898 L2284.5 198.898 L2284.5 95.2176 L2004.53 95.2176  Z\n  \" fill=\"#ffffff\" fill-rule=\"evenodd\" fill-opacity=\"1\"/>\n<polyline clip-path=\"url(#clip520)\" style=\"stroke:#000000; stroke-linecap:butt; stroke-linejoin:round; stroke-width:4; stroke-opacity:1; fill:none\" points=\"\n  2004.53,198.898 2284.5,198.898 2284.5,95.2176 2004.53,95.2176 2004.53,198.898 \n  \"/>\n<polyline clip-path=\"url(#clip520)\" style=\"stroke:#009af9; stroke-linecap:butt; stroke-linejoin:round; stroke-width:4; stroke-opacity:1; fill:none\" points=\"\n  2027.28,147.058 2163.81,147.058 \n  \"/>\n<path clip-path=\"url(#clip520)\" d=\"M2200.4 166.745 Q2198.6 171.375 2196.88 172.787 Q2195.17 174.199 2192.3 174.199 L2188.9 174.199 L2188.9 170.634 L2191.4 170.634 Q2193.16 170.634 2194.13 169.8 Q2195.1 168.967 2196.28 165.865 L2197.04 163.921 L2186.56 138.412 L2191.07 138.412 L2199.17 158.689 L2207.28 138.412 L2211.79 138.412 L2200.4 166.745 Z\" fill=\"#000000\" fill-rule=\"evenodd\" fill-opacity=\"1\" /><path clip-path=\"url(#clip520)\" d=\"M2219.08 160.402 L2226.72 160.402 L2226.72 134.037 L2218.41 135.703 L2218.41 131.444 L2226.67 129.778 L2231.35 129.778 L2231.35 160.402 L2238.99 160.402 L2238.99 164.338 L2219.08 164.338 L2219.08 160.402 Z\" fill=\"#000000\" fill-rule=\"evenodd\" fill-opacity=\"1\" /></svg>\n",
      "text/html": [
       "<?xml version=\"1.0\" encoding=\"utf-8\"?>\n",
       "<svg xmlns=\"http://www.w3.org/2000/svg\" xmlns:xlink=\"http://www.w3.org/1999/xlink\" width=\"600\" height=\"400\" viewBox=\"0 0 2400 1600\">\n",
       "<defs>\n",
       "  <clipPath id=\"clip570\">\n",
       "    <rect x=\"0\" y=\"0\" width=\"2400\" height=\"1600\"/>\n",
       "  </clipPath>\n",
       "</defs>\n",
       "<path clip-path=\"url(#clip570)\" d=\"\n",
       "M0 1600 L2400 1600 L2400 0 L0 0  Z\n",
       "  \" fill=\"#ffffff\" fill-rule=\"evenodd\" fill-opacity=\"1\"/>\n",
       "<defs>\n",
       "  <clipPath id=\"clip571\">\n",
       "    <rect x=\"480\" y=\"0\" width=\"1681\" height=\"1600\"/>\n",
       "  </clipPath>\n",
       "</defs>\n",
       "<path clip-path=\"url(#clip570)\" d=\"\n",
       "M304.947 1486.45 L2352.76 1486.45 L2352.76 47.2441 L304.947 47.2441  Z\n",
       "  \" fill=\"#ffffff\" fill-rule=\"evenodd\" fill-opacity=\"1\"/>\n",
       "<defs>\n",
       "  <clipPath id=\"clip572\">\n",
       "    <rect x=\"304\" y=\"47\" width=\"2049\" height=\"1440\"/>\n",
       "  </clipPath>\n",
       "</defs>\n",
       "<polyline clip-path=\"url(#clip572)\" style=\"stroke:#000000; stroke-linecap:butt; stroke-linejoin:round; stroke-width:2; stroke-opacity:0.1; fill:none\" points=\"\n",
       "  362.904,1486.45 362.904,47.2441 \n",
       "  \"/>\n",
       "<polyline clip-path=\"url(#clip572)\" style=\"stroke:#000000; stroke-linecap:butt; stroke-linejoin:round; stroke-width:2; stroke-opacity:0.1; fill:none\" points=\"\n",
       "  845.877,1486.45 845.877,47.2441 \n",
       "  \"/>\n",
       "<polyline clip-path=\"url(#clip572)\" style=\"stroke:#000000; stroke-linecap:butt; stroke-linejoin:round; stroke-width:2; stroke-opacity:0.1; fill:none\" points=\"\n",
       "  1328.85,1486.45 1328.85,47.2441 \n",
       "  \"/>\n",
       "<polyline clip-path=\"url(#clip572)\" style=\"stroke:#000000; stroke-linecap:butt; stroke-linejoin:round; stroke-width:2; stroke-opacity:0.1; fill:none\" points=\"\n",
       "  1811.83,1486.45 1811.83,47.2441 \n",
       "  \"/>\n",
       "<polyline clip-path=\"url(#clip572)\" style=\"stroke:#000000; stroke-linecap:butt; stroke-linejoin:round; stroke-width:2; stroke-opacity:0.1; fill:none\" points=\"\n",
       "  2294.8,1486.45 2294.8,47.2441 \n",
       "  \"/>\n",
       "<polyline clip-path=\"url(#clip570)\" style=\"stroke:#000000; stroke-linecap:butt; stroke-linejoin:round; stroke-width:4; stroke-opacity:1; fill:none\" points=\"\n",
       "  304.947,1486.45 2352.76,1486.45 \n",
       "  \"/>\n",
       "<polyline clip-path=\"url(#clip570)\" style=\"stroke:#000000; stroke-linecap:butt; stroke-linejoin:round; stroke-width:4; stroke-opacity:1; fill:none\" points=\"\n",
       "  362.904,1486.45 362.904,1467.55 \n",
       "  \"/>\n",
       "<polyline clip-path=\"url(#clip570)\" style=\"stroke:#000000; stroke-linecap:butt; stroke-linejoin:round; stroke-width:4; stroke-opacity:1; fill:none\" points=\"\n",
       "  845.877,1486.45 845.877,1467.55 \n",
       "  \"/>\n",
       "<polyline clip-path=\"url(#clip570)\" style=\"stroke:#000000; stroke-linecap:butt; stroke-linejoin:round; stroke-width:4; stroke-opacity:1; fill:none\" points=\"\n",
       "  1328.85,1486.45 1328.85,1467.55 \n",
       "  \"/>\n",
       "<polyline clip-path=\"url(#clip570)\" style=\"stroke:#000000; stroke-linecap:butt; stroke-linejoin:round; stroke-width:4; stroke-opacity:1; fill:none\" points=\"\n",
       "  1811.83,1486.45 1811.83,1467.55 \n",
       "  \"/>\n",
       "<polyline clip-path=\"url(#clip570)\" style=\"stroke:#000000; stroke-linecap:butt; stroke-linejoin:round; stroke-width:4; stroke-opacity:1; fill:none\" points=\"\n",
       "  2294.8,1486.45 2294.8,1467.55 \n",
       "  \"/>\n",
       "<path clip-path=\"url(#clip570)\" d=\"M325.207 1517.37 Q321.596 1517.37 319.767 1520.93 Q317.962 1524.47 317.962 1531.6 Q317.962 1538.71 319.767 1542.27 Q321.596 1545.82 325.207 1545.82 Q328.841 1545.82 330.647 1542.27 Q332.475 1538.71 332.475 1531.6 Q332.475 1524.47 330.647 1520.93 Q328.841 1517.37 325.207 1517.37 M325.207 1513.66 Q331.017 1513.66 334.073 1518.27 Q337.151 1522.85 337.151 1531.6 Q337.151 1540.33 334.073 1544.94 Q331.017 1549.52 325.207 1549.52 Q319.397 1549.52 316.318 1544.94 Q313.263 1540.33 313.263 1531.6 Q313.263 1522.85 316.318 1518.27 Q319.397 1513.66 325.207 1513.66 Z\" fill=\"#000000\" fill-rule=\"evenodd\" fill-opacity=\"1\" /><path clip-path=\"url(#clip570)\" d=\"M345.369 1542.97 L350.253 1542.97 L350.253 1548.85 L345.369 1548.85 L345.369 1542.97 Z\" fill=\"#000000\" fill-rule=\"evenodd\" fill-opacity=\"1\" /><path clip-path=\"url(#clip570)\" d=\"M370.438 1517.37 Q366.827 1517.37 364.998 1520.93 Q363.193 1524.47 363.193 1531.6 Q363.193 1538.71 364.998 1542.27 Q366.827 1545.82 370.438 1545.82 Q374.072 1545.82 375.878 1542.27 Q377.707 1538.71 377.707 1531.6 Q377.707 1524.47 375.878 1520.93 Q374.072 1517.37 370.438 1517.37 M370.438 1513.66 Q376.248 1513.66 379.304 1518.27 Q382.383 1522.85 382.383 1531.6 Q382.383 1540.33 379.304 1544.94 Q376.248 1549.52 370.438 1549.52 Q364.628 1549.52 361.549 1544.94 Q358.494 1540.33 358.494 1531.6 Q358.494 1522.85 361.549 1518.27 Q364.628 1513.66 370.438 1513.66 Z\" fill=\"#000000\" fill-rule=\"evenodd\" fill-opacity=\"1\" /><path clip-path=\"url(#clip570)\" d=\"M400.6 1517.37 Q396.989 1517.37 395.16 1520.93 Q393.355 1524.47 393.355 1531.6 Q393.355 1538.71 395.16 1542.27 Q396.989 1545.82 400.6 1545.82 Q404.234 1545.82 406.04 1542.27 Q407.869 1538.71 407.869 1531.6 Q407.869 1524.47 406.04 1520.93 Q404.234 1517.37 400.6 1517.37 M400.6 1513.66 Q406.41 1513.66 409.466 1518.27 Q412.544 1522.85 412.544 1531.6 Q412.544 1540.33 409.466 1544.94 Q406.41 1549.52 400.6 1549.52 Q394.79 1549.52 391.711 1544.94 Q388.656 1540.33 388.656 1531.6 Q388.656 1522.85 391.711 1518.27 Q394.79 1513.66 400.6 1513.66 Z\" fill=\"#000000\" fill-rule=\"evenodd\" fill-opacity=\"1\" /><path clip-path=\"url(#clip570)\" d=\"M808.679 1517.37 Q805.067 1517.37 803.239 1520.93 Q801.433 1524.47 801.433 1531.6 Q801.433 1538.71 803.239 1542.27 Q805.067 1545.82 808.679 1545.82 Q812.313 1545.82 814.118 1542.27 Q815.947 1538.71 815.947 1531.6 Q815.947 1524.47 814.118 1520.93 Q812.313 1517.37 808.679 1517.37 M808.679 1513.66 Q814.489 1513.66 817.544 1518.27 Q820.623 1522.85 820.623 1531.6 Q820.623 1540.33 817.544 1544.94 Q814.489 1549.52 808.679 1549.52 Q802.868 1549.52 799.79 1544.94 Q796.734 1540.33 796.734 1531.6 Q796.734 1522.85 799.79 1518.27 Q802.868 1513.66 808.679 1513.66 Z\" fill=\"#000000\" fill-rule=\"evenodd\" fill-opacity=\"1\" /><path clip-path=\"url(#clip570)\" d=\"M828.84 1542.97 L833.725 1542.97 L833.725 1548.85 L828.84 1548.85 L828.84 1542.97 Z\" fill=\"#000000\" fill-rule=\"evenodd\" fill-opacity=\"1\" /><path clip-path=\"url(#clip570)\" d=\"M847.938 1544.91 L864.257 1544.91 L864.257 1548.85 L842.313 1548.85 L842.313 1544.91 Q844.975 1542.16 849.558 1537.53 Q854.164 1532.88 855.345 1531.53 Q857.59 1529.01 858.47 1527.27 Q859.373 1525.51 859.373 1523.82 Q859.373 1521.07 857.428 1519.33 Q855.507 1517.6 852.405 1517.6 Q850.206 1517.6 847.752 1518.36 Q845.322 1519.13 842.544 1520.68 L842.544 1515.95 Q845.368 1514.82 847.822 1514.24 Q850.276 1513.66 852.313 1513.66 Q857.683 1513.66 860.877 1516.35 Q864.072 1519.03 864.072 1523.52 Q864.072 1525.65 863.262 1527.57 Q862.475 1529.47 860.368 1532.07 Q859.789 1532.74 856.688 1535.95 Q853.586 1539.15 847.938 1544.91 Z\" fill=\"#000000\" fill-rule=\"evenodd\" fill-opacity=\"1\" /><path clip-path=\"url(#clip570)\" d=\"M874.118 1514.29 L892.474 1514.29 L892.474 1518.22 L878.4 1518.22 L878.4 1526.7 Q879.419 1526.35 880.437 1526.19 Q881.456 1526 882.474 1526 Q888.261 1526 891.641 1529.17 Q895.021 1532.34 895.021 1537.76 Q895.021 1543.34 891.548 1546.44 Q888.076 1549.52 881.757 1549.52 Q879.581 1549.52 877.312 1549.15 Q875.067 1548.78 872.66 1548.04 L872.66 1543.34 Q874.743 1544.47 876.965 1545.03 Q879.187 1545.58 881.664 1545.58 Q885.669 1545.58 888.007 1543.48 Q890.345 1541.37 890.345 1537.76 Q890.345 1534.15 888.007 1532.04 Q885.669 1529.94 881.664 1529.94 Q879.789 1529.94 877.914 1530.35 Q876.062 1530.77 874.118 1531.65 L874.118 1514.29 Z\" fill=\"#000000\" fill-rule=\"evenodd\" fill-opacity=\"1\" /><path clip-path=\"url(#clip570)\" d=\"M1291.15 1517.37 Q1287.54 1517.37 1285.71 1520.93 Q1283.91 1524.47 1283.91 1531.6 Q1283.91 1538.71 1285.71 1542.27 Q1287.54 1545.82 1291.15 1545.82 Q1294.79 1545.82 1296.59 1542.27 Q1298.42 1538.71 1298.42 1531.6 Q1298.42 1524.47 1296.59 1520.93 Q1294.79 1517.37 1291.15 1517.37 M1291.15 1513.66 Q1296.96 1513.66 1300.02 1518.27 Q1303.1 1522.85 1303.1 1531.6 Q1303.1 1540.33 1300.02 1544.94 Q1296.96 1549.52 1291.15 1549.52 Q1285.34 1549.52 1282.27 1544.94 Q1279.21 1540.33 1279.21 1531.6 Q1279.21 1522.85 1282.27 1518.27 Q1285.34 1513.66 1291.15 1513.66 Z\" fill=\"#000000\" fill-rule=\"evenodd\" fill-opacity=\"1\" /><path clip-path=\"url(#clip570)\" d=\"M1311.32 1542.97 L1316.2 1542.97 L1316.2 1548.85 L1311.32 1548.85 L1311.32 1542.97 Z\" fill=\"#000000\" fill-rule=\"evenodd\" fill-opacity=\"1\" /><path clip-path=\"url(#clip570)\" d=\"M1326.43 1514.29 L1344.79 1514.29 L1344.79 1518.22 L1330.71 1518.22 L1330.71 1526.7 Q1331.73 1526.35 1332.75 1526.19 Q1333.77 1526 1334.79 1526 Q1340.58 1526 1343.96 1529.17 Q1347.33 1532.34 1347.33 1537.76 Q1347.33 1543.34 1343.86 1546.44 Q1340.39 1549.52 1334.07 1549.52 Q1331.9 1549.52 1329.63 1549.15 Q1327.38 1548.78 1324.97 1548.04 L1324.97 1543.34 Q1327.06 1544.47 1329.28 1545.03 Q1331.5 1545.58 1333.98 1545.58 Q1337.98 1545.58 1340.32 1543.48 Q1342.66 1541.37 1342.66 1537.76 Q1342.66 1534.15 1340.32 1532.04 Q1337.98 1529.94 1333.98 1529.94 Q1332.1 1529.94 1330.23 1530.35 Q1328.38 1530.77 1326.43 1531.65 L1326.43 1514.29 Z\" fill=\"#000000\" fill-rule=\"evenodd\" fill-opacity=\"1\" /><path clip-path=\"url(#clip570)\" d=\"M1366.55 1517.37 Q1362.94 1517.37 1361.11 1520.93 Q1359.3 1524.47 1359.3 1531.6 Q1359.3 1538.71 1361.11 1542.27 Q1362.94 1545.82 1366.55 1545.82 Q1370.18 1545.82 1371.99 1542.27 Q1373.82 1538.71 1373.82 1531.6 Q1373.82 1524.47 1371.99 1520.93 Q1370.18 1517.37 1366.55 1517.37 M1366.55 1513.66 Q1372.36 1513.66 1375.41 1518.27 Q1378.49 1522.85 1378.49 1531.6 Q1378.49 1540.33 1375.41 1544.94 Q1372.36 1549.52 1366.55 1549.52 Q1360.74 1549.52 1357.66 1544.94 Q1354.6 1540.33 1354.6 1531.6 Q1354.6 1522.85 1357.66 1518.27 Q1360.74 1513.66 1366.55 1513.66 Z\" fill=\"#000000\" fill-rule=\"evenodd\" fill-opacity=\"1\" /><path clip-path=\"url(#clip570)\" d=\"M1774.63 1517.37 Q1771.02 1517.37 1769.19 1520.93 Q1767.38 1524.47 1767.38 1531.6 Q1767.38 1538.71 1769.19 1542.27 Q1771.02 1545.82 1774.63 1545.82 Q1778.26 1545.82 1780.07 1542.27 Q1781.89 1538.71 1781.89 1531.6 Q1781.89 1524.47 1780.07 1520.93 Q1778.26 1517.37 1774.63 1517.37 M1774.63 1513.66 Q1780.44 1513.66 1783.49 1518.27 Q1786.57 1522.85 1786.57 1531.6 Q1786.57 1540.33 1783.49 1544.94 Q1780.44 1549.52 1774.63 1549.52 Q1768.82 1549.52 1765.74 1544.94 Q1762.68 1540.33 1762.68 1531.6 Q1762.68 1522.85 1765.74 1518.27 Q1768.82 1513.66 1774.63 1513.66 Z\" fill=\"#000000\" fill-rule=\"evenodd\" fill-opacity=\"1\" /><path clip-path=\"url(#clip570)\" d=\"M1794.79 1542.97 L1799.67 1542.97 L1799.67 1548.85 L1794.79 1548.85 L1794.79 1542.97 Z\" fill=\"#000000\" fill-rule=\"evenodd\" fill-opacity=\"1\" /><path clip-path=\"url(#clip570)\" d=\"M1808.68 1514.29 L1830.9 1514.29 L1830.9 1516.28 L1818.35 1548.85 L1813.47 1548.85 L1825.27 1518.22 L1808.68 1518.22 L1808.68 1514.29 Z\" fill=\"#000000\" fill-rule=\"evenodd\" fill-opacity=\"1\" /><path clip-path=\"url(#clip570)\" d=\"M1840.07 1514.29 L1858.42 1514.29 L1858.42 1518.22 L1844.35 1518.22 L1844.35 1526.7 Q1845.37 1526.35 1846.39 1526.19 Q1847.4 1526 1848.42 1526 Q1854.21 1526 1857.59 1529.17 Q1860.97 1532.34 1860.97 1537.76 Q1860.97 1543.34 1857.5 1546.44 Q1854.02 1549.52 1847.7 1549.52 Q1845.53 1549.52 1843.26 1549.15 Q1841.01 1548.78 1838.61 1548.04 L1838.61 1543.34 Q1840.69 1544.47 1842.91 1545.03 Q1845.14 1545.58 1847.61 1545.58 Q1851.62 1545.58 1853.95 1543.48 Q1856.29 1541.37 1856.29 1537.76 Q1856.29 1534.15 1853.95 1532.04 Q1851.62 1529.94 1847.61 1529.94 Q1845.74 1529.94 1843.86 1530.35 Q1842.01 1530.77 1840.07 1531.65 L1840.07 1514.29 Z\" fill=\"#000000\" fill-rule=\"evenodd\" fill-opacity=\"1\" /><path clip-path=\"url(#clip570)\" d=\"M2246.87 1544.91 L2254.51 1544.91 L2254.51 1518.55 L2246.2 1520.21 L2246.2 1515.95 L2254.46 1514.29 L2259.14 1514.29 L2259.14 1544.91 L2266.78 1544.91 L2266.78 1548.85 L2246.87 1548.85 L2246.87 1544.91 Z\" fill=\"#000000\" fill-rule=\"evenodd\" fill-opacity=\"1\" /><path clip-path=\"url(#clip570)\" d=\"M2276.22 1542.97 L2281.11 1542.97 L2281.11 1548.85 L2276.22 1548.85 L2276.22 1542.97 Z\" fill=\"#000000\" fill-rule=\"evenodd\" fill-opacity=\"1\" /><path clip-path=\"url(#clip570)\" d=\"M2301.29 1517.37 Q2297.68 1517.37 2295.85 1520.93 Q2294.05 1524.47 2294.05 1531.6 Q2294.05 1538.71 2295.85 1542.27 Q2297.68 1545.82 2301.29 1545.82 Q2304.93 1545.82 2306.73 1542.27 Q2308.56 1538.71 2308.56 1531.6 Q2308.56 1524.47 2306.73 1520.93 Q2304.93 1517.37 2301.29 1517.37 M2301.29 1513.66 Q2307.1 1513.66 2310.16 1518.27 Q2313.24 1522.85 2313.24 1531.6 Q2313.24 1540.33 2310.16 1544.94 Q2307.1 1549.52 2301.29 1549.52 Q2295.48 1549.52 2292.4 1544.94 Q2289.35 1540.33 2289.35 1531.6 Q2289.35 1522.85 2292.4 1518.27 Q2295.48 1513.66 2301.29 1513.66 Z\" fill=\"#000000\" fill-rule=\"evenodd\" fill-opacity=\"1\" /><path clip-path=\"url(#clip570)\" d=\"M2331.45 1517.37 Q2327.84 1517.37 2326.01 1520.93 Q2324.21 1524.47 2324.21 1531.6 Q2324.21 1538.71 2326.01 1542.27 Q2327.84 1545.82 2331.45 1545.82 Q2335.09 1545.82 2336.89 1542.27 Q2338.72 1538.71 2338.72 1531.6 Q2338.72 1524.47 2336.89 1520.93 Q2335.09 1517.37 2331.45 1517.37 M2331.45 1513.66 Q2337.26 1513.66 2340.32 1518.27 Q2343.4 1522.85 2343.4 1531.6 Q2343.4 1540.33 2340.32 1544.94 Q2337.26 1549.52 2331.45 1549.52 Q2325.64 1549.52 2322.57 1544.94 Q2319.51 1540.33 2319.51 1531.6 Q2319.51 1522.85 2322.57 1518.27 Q2325.64 1513.66 2331.45 1513.66 Z\" fill=\"#000000\" fill-rule=\"evenodd\" fill-opacity=\"1\" /><polyline clip-path=\"url(#clip572)\" style=\"stroke:#000000; stroke-linecap:butt; stroke-linejoin:round; stroke-width:2; stroke-opacity:0.1; fill:none\" points=\"\n",
       "  304.947,1270.48 2352.76,1270.48 \n",
       "  \"/>\n",
       "<polyline clip-path=\"url(#clip572)\" style=\"stroke:#000000; stroke-linecap:butt; stroke-linejoin:round; stroke-width:2; stroke-opacity:0.1; fill:none\" points=\"\n",
       "  304.947,999.224 2352.76,999.224 \n",
       "  \"/>\n",
       "<polyline clip-path=\"url(#clip572)\" style=\"stroke:#000000; stroke-linecap:butt; stroke-linejoin:round; stroke-width:2; stroke-opacity:0.1; fill:none\" points=\"\n",
       "  304.947,727.966 2352.76,727.966 \n",
       "  \"/>\n",
       "<polyline clip-path=\"url(#clip572)\" style=\"stroke:#000000; stroke-linecap:butt; stroke-linejoin:round; stroke-width:2; stroke-opacity:0.1; fill:none\" points=\"\n",
       "  304.947,456.707 2352.76,456.707 \n",
       "  \"/>\n",
       "<polyline clip-path=\"url(#clip572)\" style=\"stroke:#000000; stroke-linecap:butt; stroke-linejoin:round; stroke-width:2; stroke-opacity:0.1; fill:none\" points=\"\n",
       "  304.947,185.449 2352.76,185.449 \n",
       "  \"/>\n",
       "<polyline clip-path=\"url(#clip570)\" style=\"stroke:#000000; stroke-linecap:butt; stroke-linejoin:round; stroke-width:4; stroke-opacity:1; fill:none\" points=\"\n",
       "  304.947,1486.45 304.947,47.2441 \n",
       "  \"/>\n",
       "<polyline clip-path=\"url(#clip570)\" style=\"stroke:#000000; stroke-linecap:butt; stroke-linejoin:round; stroke-width:4; stroke-opacity:1; fill:none\" points=\"\n",
       "  304.947,1270.48 323.844,1270.48 \n",
       "  \"/>\n",
       "<polyline clip-path=\"url(#clip570)\" style=\"stroke:#000000; stroke-linecap:butt; stroke-linejoin:round; stroke-width:4; stroke-opacity:1; fill:none\" points=\"\n",
       "  304.947,999.224 323.844,999.224 \n",
       "  \"/>\n",
       "<polyline clip-path=\"url(#clip570)\" style=\"stroke:#000000; stroke-linecap:butt; stroke-linejoin:round; stroke-width:4; stroke-opacity:1; fill:none\" points=\"\n",
       "  304.947,727.966 323.844,727.966 \n",
       "  \"/>\n",
       "<polyline clip-path=\"url(#clip570)\" style=\"stroke:#000000; stroke-linecap:butt; stroke-linejoin:round; stroke-width:4; stroke-opacity:1; fill:none\" points=\"\n",
       "  304.947,456.707 323.844,456.707 \n",
       "  \"/>\n",
       "<polyline clip-path=\"url(#clip570)\" style=\"stroke:#000000; stroke-linecap:butt; stroke-linejoin:round; stroke-width:4; stroke-opacity:1; fill:none\" points=\"\n",
       "  304.947,185.449 323.844,185.449 \n",
       "  \"/>\n",
       "<path clip-path=\"url(#clip570)\" d=\"M63.6541 1275.07 Q60.506 1275.07 58.6541 1277.22 Q56.8254 1279.37 56.8254 1283.12 Q56.8254 1286.85 58.6541 1289.03 Q60.506 1291.18 63.6541 1291.18 Q66.8022 1291.18 68.6309 1289.03 Q70.4828 1286.85 70.4828 1283.12 Q70.4828 1279.37 68.6309 1277.22 Q66.8022 1275.07 63.6541 1275.07 M72.9365 1260.41 L72.9365 1264.67 Q71.1772 1263.84 69.3717 1263.4 Q67.5893 1262.96 65.83 1262.96 Q61.2004 1262.96 58.7467 1266.09 Q56.3162 1269.21 55.969 1275.53 Q57.3347 1273.52 59.3949 1272.45 Q61.455 1271.36 63.9319 1271.36 Q69.1402 1271.36 72.1494 1274.53 Q75.1818 1277.68 75.1818 1283.12 Q75.1818 1288.45 72.0337 1291.66 Q68.8855 1294.88 63.6541 1294.88 Q57.6588 1294.88 54.4875 1290.3 Q51.3162 1285.69 51.3162 1276.96 Q51.3162 1268.77 55.2051 1263.91 Q59.0939 1259.03 65.6448 1259.03 Q67.4041 1259.03 69.1865 1259.37 Q70.992 1259.72 72.9365 1260.41 Z\" fill=\"#000000\" fill-rule=\"evenodd\" fill-opacity=\"1\" /><path clip-path=\"url(#clip570)\" d=\"M83.2373 1288.33 L88.1216 1288.33 L88.1216 1294.21 L83.2373 1294.21 L83.2373 1288.33 Z\" fill=\"#000000\" fill-rule=\"evenodd\" fill-opacity=\"1\" /><path clip-path=\"url(#clip570)\" d=\"M108.307 1262.73 Q104.696 1262.73 102.867 1266.29 Q101.061 1269.84 101.061 1276.96 Q101.061 1284.07 102.867 1287.64 Q104.696 1291.18 108.307 1291.18 Q111.941 1291.18 113.746 1287.64 Q115.575 1284.07 115.575 1276.96 Q115.575 1269.84 113.746 1266.29 Q111.941 1262.73 108.307 1262.73 M108.307 1259.03 Q114.117 1259.03 117.172 1263.63 Q120.251 1268.22 120.251 1276.96 Q120.251 1285.69 117.172 1290.3 Q114.117 1294.88 108.307 1294.88 Q102.496 1294.88 99.4178 1290.3 Q96.3623 1285.69 96.3623 1276.96 Q96.3623 1268.22 99.4178 1263.63 Q102.496 1259.03 108.307 1259.03 Z\" fill=\"#000000\" fill-rule=\"evenodd\" fill-opacity=\"1\" /><path clip-path=\"url(#clip570)\" d=\"M138.469 1262.73 Q134.857 1262.73 133.029 1266.29 Q131.223 1269.84 131.223 1276.96 Q131.223 1284.07 133.029 1287.64 Q134.857 1291.18 138.469 1291.18 Q142.103 1291.18 143.908 1287.64 Q145.737 1284.07 145.737 1276.96 Q145.737 1269.84 143.908 1266.29 Q142.103 1262.73 138.469 1262.73 M138.469 1259.03 Q144.279 1259.03 147.334 1263.63 Q150.413 1268.22 150.413 1276.96 Q150.413 1285.69 147.334 1290.3 Q144.279 1294.88 138.469 1294.88 Q132.658 1294.88 129.58 1290.3 Q126.524 1285.69 126.524 1276.96 Q126.524 1268.22 129.58 1263.63 Q132.658 1259.03 138.469 1259.03 Z\" fill=\"#000000\" fill-rule=\"evenodd\" fill-opacity=\"1\" /><path clip-path=\"url(#clip570)\" d=\"M186.802 1268.75 L176.223 1279.37 L186.802 1289.95 L184.047 1292.75 L173.422 1282.13 L162.797 1292.75 L160.066 1289.95 L170.621 1279.37 L160.066 1268.75 L162.797 1265.95 L173.422 1276.57 L184.047 1265.95 L186.802 1268.75 Z\" fill=\"#000000\" fill-rule=\"evenodd\" fill-opacity=\"1\" /><path clip-path=\"url(#clip570)\" d=\"M199.163 1290.28 L206.801 1290.28 L206.801 1263.91 L198.491 1265.58 L198.491 1261.32 L206.755 1259.65 L211.431 1259.65 L211.431 1290.28 L219.07 1290.28 L219.07 1294.21 L199.163 1294.21 L199.163 1290.28 Z\" fill=\"#000000\" fill-rule=\"evenodd\" fill-opacity=\"1\" /><path clip-path=\"url(#clip570)\" d=\"M238.514 1262.73 Q234.903 1262.73 233.074 1266.29 Q231.269 1269.84 231.269 1276.96 Q231.269 1284.07 233.074 1287.64 Q234.903 1291.18 238.514 1291.18 Q242.149 1291.18 243.954 1287.64 Q245.783 1284.07 245.783 1276.96 Q245.783 1269.84 243.954 1266.29 Q242.149 1262.73 238.514 1262.73 M238.514 1259.03 Q244.324 1259.03 247.38 1263.63 Q250.459 1268.22 250.459 1276.96 Q250.459 1285.69 247.38 1290.3 Q244.324 1294.88 238.514 1294.88 Q232.704 1294.88 229.625 1290.3 Q226.57 1285.69 226.57 1276.96 Q226.57 1268.22 229.625 1263.63 Q232.704 1259.03 238.514 1259.03 Z\" fill=\"#000000\" fill-rule=\"evenodd\" fill-opacity=\"1\" /><path clip-path=\"url(#clip570)\" d=\"M263.154 1251.66 Q265.881 1252.24 267.404 1254.09 Q268.947 1255.93 268.947 1258.64 Q268.947 1262.79 266.088 1265.07 Q263.229 1267.35 257.963 1267.35 Q256.195 1267.35 254.314 1266.99 Q252.452 1266.65 250.459 1265.95 L250.459 1262.29 Q252.039 1263.21 253.919 1263.68 Q255.8 1264.15 257.85 1264.15 Q261.424 1264.15 263.286 1262.74 Q265.166 1261.33 265.166 1258.64 Q265.166 1256.15 263.417 1254.76 Q261.687 1253.35 258.584 1253.35 L255.311 1253.35 L255.311 1250.23 L258.734 1250.23 Q261.536 1250.23 263.022 1249.12 Q264.508 1247.99 264.508 1245.89 Q264.508 1243.72 262.966 1242.58 Q261.442 1241.41 258.584 1241.41 Q257.023 1241.41 255.236 1241.75 Q253.449 1242.09 251.305 1242.8 L251.305 1239.42 Q253.468 1238.81 255.349 1238.51 Q257.248 1238.21 258.922 1238.21 Q263.248 1238.21 265.768 1240.19 Q268.288 1242.14 268.288 1245.49 Q268.288 1247.82 266.953 1249.44 Q265.618 1251.04 263.154 1251.66 Z\" fill=\"#000000\" fill-rule=\"evenodd\" fill-opacity=\"1\" /><path clip-path=\"url(#clip570)\" d=\"M53.2143 1022.23 L53.2143 1017.97 Q54.9736 1018.81 56.7791 1019.25 Q58.5847 1019.69 60.3208 1019.69 Q64.9504 1019.69 67.3809 1016.59 Q69.8346 1013.46 70.1818 1007.12 Q68.8393 1009.11 66.7791 1010.17 Q64.7189 1011.24 62.2189 1011.24 Q57.0338 1011.24 54.0014 1008.11 Q50.9921 1004.97 50.9921 999.526 Q50.9921 994.202 54.1403 990.984 Q57.2884 987.767 62.5198 987.767 Q68.5152 987.767 71.6633 992.373 Q74.8346 996.957 74.8346 1005.71 Q74.8346 1013.88 70.9457 1018.76 Q67.08 1023.62 60.5291 1023.62 Q58.7699 1023.62 56.9643 1023.28 Q55.1588 1022.93 53.2143 1022.23 M62.5198 1007.58 Q65.668 1007.58 67.4967 1005.43 Q69.3485 1003.28 69.3485 999.526 Q69.3485 995.799 67.4967 993.646 Q65.668 991.47 62.5198 991.47 Q59.3717 991.47 57.5199 993.646 Q55.6912 995.799 55.6912 999.526 Q55.6912 1003.28 57.5199 1005.43 Q59.3717 1007.58 62.5198 1007.58 Z\" fill=\"#000000\" fill-rule=\"evenodd\" fill-opacity=\"1\" /><path clip-path=\"url(#clip570)\" d=\"M83.2373 1017.07 L88.1216 1017.07 L88.1216 1022.95 L83.2373 1022.95 L83.2373 1017.07 Z\" fill=\"#000000\" fill-rule=\"evenodd\" fill-opacity=\"1\" /><path clip-path=\"url(#clip570)\" d=\"M108.307 991.47 Q104.696 991.47 102.867 995.035 Q101.061 998.577 101.061 1005.71 Q101.061 1012.81 102.867 1016.38 Q104.696 1019.92 108.307 1019.92 Q111.941 1019.92 113.746 1016.38 Q115.575 1012.81 115.575 1005.71 Q115.575 998.577 113.746 995.035 Q111.941 991.47 108.307 991.47 M108.307 987.767 Q114.117 987.767 117.172 992.373 Q120.251 996.957 120.251 1005.71 Q120.251 1014.43 117.172 1019.04 Q114.117 1023.62 108.307 1023.62 Q102.496 1023.62 99.4178 1019.04 Q96.3623 1014.43 96.3623 1005.71 Q96.3623 996.957 99.4178 992.373 Q102.496 987.767 108.307 987.767 Z\" fill=\"#000000\" fill-rule=\"evenodd\" fill-opacity=\"1\" /><path clip-path=\"url(#clip570)\" d=\"M138.469 991.47 Q134.857 991.47 133.029 995.035 Q131.223 998.577 131.223 1005.71 Q131.223 1012.81 133.029 1016.38 Q134.857 1019.92 138.469 1019.92 Q142.103 1019.92 143.908 1016.38 Q145.737 1012.81 145.737 1005.71 Q145.737 998.577 143.908 995.035 Q142.103 991.47 138.469 991.47 M138.469 987.767 Q144.279 987.767 147.334 992.373 Q150.413 996.957 150.413 1005.71 Q150.413 1014.43 147.334 1019.04 Q144.279 1023.62 138.469 1023.62 Q132.658 1023.62 129.58 1019.04 Q126.524 1014.43 126.524 1005.71 Q126.524 996.957 129.58 992.373 Q132.658 987.767 138.469 987.767 Z\" fill=\"#000000\" fill-rule=\"evenodd\" fill-opacity=\"1\" /><path clip-path=\"url(#clip570)\" d=\"M186.802 997.489 L176.223 1008.11 L186.802 1018.69 L184.047 1021.49 L173.422 1010.87 L162.797 1021.49 L160.066 1018.69 L170.621 1008.11 L160.066 997.489 L162.797 994.688 L173.422 1005.31 L184.047 994.688 L186.802 997.489 Z\" fill=\"#000000\" fill-rule=\"evenodd\" fill-opacity=\"1\" /><path clip-path=\"url(#clip570)\" d=\"M199.163 1019.02 L206.801 1019.02 L206.801 992.651 L198.491 994.318 L198.491 990.058 L206.755 988.392 L211.431 988.392 L211.431 1019.02 L219.07 1019.02 L219.07 1022.95 L199.163 1022.95 L199.163 1019.02 Z\" fill=\"#000000\" fill-rule=\"evenodd\" fill-opacity=\"1\" /><path clip-path=\"url(#clip570)\" d=\"M238.514 991.47 Q234.903 991.47 233.074 995.035 Q231.269 998.577 231.269 1005.71 Q231.269 1012.81 233.074 1016.38 Q234.903 1019.92 238.514 1019.92 Q242.149 1019.92 243.954 1016.38 Q245.783 1012.81 245.783 1005.71 Q245.783 998.577 243.954 995.035 Q242.149 991.47 238.514 991.47 M238.514 987.767 Q244.324 987.767 247.38 992.373 Q250.459 996.957 250.459 1005.71 Q250.459 1014.43 247.38 1019.04 Q244.324 1023.62 238.514 1023.62 Q232.704 1023.62 229.625 1019.04 Q226.57 1014.43 226.57 1005.71 Q226.57 996.957 229.625 992.373 Q232.704 987.767 238.514 987.767 Z\" fill=\"#000000\" fill-rule=\"evenodd\" fill-opacity=\"1\" /><path clip-path=\"url(#clip570)\" d=\"M263.154 980.401 Q265.881 980.984 267.404 982.827 Q268.947 984.67 268.947 987.379 Q268.947 991.535 266.088 993.811 Q263.229 996.087 257.963 996.087 Q256.195 996.087 254.314 995.729 Q252.452 995.391 250.459 994.695 L250.459 991.027 Q252.039 991.949 253.919 992.419 Q255.8 992.889 257.85 992.889 Q261.424 992.889 263.286 991.479 Q265.166 990.068 265.166 987.379 Q265.166 984.896 263.417 983.504 Q261.687 982.094 258.584 982.094 L255.311 982.094 L255.311 978.972 L258.734 978.972 Q261.536 978.972 263.022 977.862 Q264.508 976.734 264.508 974.627 Q264.508 972.464 262.966 971.317 Q261.442 970.151 258.584 970.151 Q257.023 970.151 255.236 970.489 Q253.449 970.828 251.305 971.543 L251.305 968.157 Q253.468 967.555 255.349 967.254 Q257.248 966.954 258.922 966.954 Q263.248 966.954 265.768 968.928 Q268.288 970.884 268.288 974.232 Q268.288 976.564 266.953 978.182 Q265.618 979.78 263.154 980.401 Z\" fill=\"#000000\" fill-rule=\"evenodd\" fill-opacity=\"1\" /><path clip-path=\"url(#clip570)\" d=\"M51.9108 747.758 L59.5497 747.758 L59.5497 721.392 L51.2395 723.059 L51.2395 718.8 L59.5034 717.133 L64.1793 717.133 L64.1793 747.758 L71.8181 747.758 L71.8181 751.693 L51.9108 751.693 L51.9108 747.758 Z\" fill=\"#000000\" fill-rule=\"evenodd\" fill-opacity=\"1\" /><path clip-path=\"url(#clip570)\" d=\"M81.2625 745.814 L86.1467 745.814 L86.1467 751.693 L81.2625 751.693 L81.2625 745.814 Z\" fill=\"#000000\" fill-rule=\"evenodd\" fill-opacity=\"1\" /><path clip-path=\"url(#clip570)\" d=\"M100.36 747.758 L116.679 747.758 L116.679 751.693 L94.7347 751.693 L94.7347 747.758 Q97.3967 745.003 101.98 740.374 Q106.586 735.721 107.767 734.378 Q110.012 731.855 110.892 730.119 Q111.795 728.36 111.795 726.67 Q111.795 723.916 109.85 722.179 Q107.929 720.443 104.827 720.443 Q102.628 720.443 100.174 721.207 Q97.7439 721.971 94.9661 723.522 L94.9661 718.8 Q97.7902 717.666 100.244 717.087 Q102.698 716.508 104.735 716.508 Q110.105 716.508 113.299 719.193 Q116.494 721.879 116.494 726.369 Q116.494 728.499 115.684 730.42 Q114.897 732.318 112.79 734.911 Q112.211 735.582 109.11 738.8 Q106.008 741.994 100.36 747.758 Z\" fill=\"#000000\" fill-rule=\"evenodd\" fill-opacity=\"1\" /><path clip-path=\"url(#clip570)\" d=\"M136.494 720.212 Q132.883 720.212 131.054 723.777 Q129.248 727.318 129.248 734.448 Q129.248 741.554 131.054 745.119 Q132.883 748.661 136.494 748.661 Q140.128 748.661 141.933 745.119 Q143.762 741.554 143.762 734.448 Q143.762 727.318 141.933 723.777 Q140.128 720.212 136.494 720.212 M136.494 716.508 Q142.304 716.508 145.359 721.115 Q148.438 725.698 148.438 734.448 Q148.438 743.175 145.359 747.781 Q142.304 752.364 136.494 752.364 Q130.684 752.364 127.605 747.781 Q124.549 743.175 124.549 734.448 Q124.549 725.698 127.605 721.115 Q130.684 716.508 136.494 716.508 Z\" fill=\"#000000\" fill-rule=\"evenodd\" fill-opacity=\"1\" /><path clip-path=\"url(#clip570)\" d=\"M184.827 726.23 L174.248 736.855 L184.827 747.434 L182.072 750.235 L171.447 739.61 L160.822 750.235 L158.091 747.434 L168.646 736.855 L158.091 726.23 L160.822 723.429 L171.447 734.054 L182.072 723.429 L184.827 726.23 Z\" fill=\"#000000\" fill-rule=\"evenodd\" fill-opacity=\"1\" /><path clip-path=\"url(#clip570)\" d=\"M197.188 747.758 L204.827 747.758 L204.827 721.392 L196.517 723.059 L196.517 718.8 L204.78 717.133 L209.456 717.133 L209.456 747.758 L217.095 747.758 L217.095 751.693 L197.188 751.693 L197.188 747.758 Z\" fill=\"#000000\" fill-rule=\"evenodd\" fill-opacity=\"1\" /><path clip-path=\"url(#clip570)\" d=\"M236.539 720.212 Q232.928 720.212 231.1 723.777 Q229.294 727.318 229.294 734.448 Q229.294 741.554 231.1 745.119 Q232.928 748.661 236.539 748.661 Q240.174 748.661 241.979 745.119 Q243.808 741.554 243.808 734.448 Q243.808 727.318 241.979 723.777 Q240.174 720.212 236.539 720.212 M236.539 716.508 Q242.35 716.508 245.405 721.115 Q248.484 725.698 248.484 734.448 Q248.484 743.175 245.405 747.781 Q242.35 752.364 236.539 752.364 Q230.729 752.364 227.651 747.781 Q224.595 743.175 224.595 734.448 Q224.595 725.698 227.651 721.115 Q230.729 716.508 236.539 716.508 Z\" fill=\"#000000\" fill-rule=\"evenodd\" fill-opacity=\"1\" /><path clip-path=\"url(#clip570)\" d=\"M261.16 699.513 L251.568 714.503 L261.16 714.503 L261.16 699.513 M260.163 696.203 L264.941 696.203 L264.941 714.503 L268.947 714.503 L268.947 717.662 L264.941 717.662 L264.941 724.283 L261.16 724.283 L261.16 717.662 L248.484 717.662 L248.484 713.995 L260.163 696.203 Z\" fill=\"#000000\" fill-rule=\"evenodd\" fill-opacity=\"1\" /><path clip-path=\"url(#clip570)\" d=\"M51.9108 476.499 L59.5497 476.499 L59.5497 450.134 L51.2395 451.801 L51.2395 447.541 L59.5034 445.875 L64.1793 445.875 L64.1793 476.499 L71.8181 476.499 L71.8181 480.435 L51.9108 480.435 L51.9108 476.499 Z\" fill=\"#000000\" fill-rule=\"evenodd\" fill-opacity=\"1\" /><path clip-path=\"url(#clip570)\" d=\"M81.2625 474.555 L86.1467 474.555 L86.1467 480.435 L81.2625 480.435 L81.2625 474.555 Z\" fill=\"#000000\" fill-rule=\"evenodd\" fill-opacity=\"1\" /><path clip-path=\"url(#clip570)\" d=\"M96.3782 445.875 L114.735 445.875 L114.735 449.81 L100.661 449.81 L100.661 458.282 Q101.679 457.935 102.698 457.773 Q103.716 457.588 104.735 457.588 Q110.522 457.588 113.901 460.759 Q117.281 463.93 117.281 469.347 Q117.281 474.925 113.809 478.027 Q110.336 481.106 104.017 481.106 Q101.841 481.106 99.5726 480.736 Q97.3272 480.365 94.9198 479.624 L94.9198 474.925 Q97.0032 476.06 99.2254 476.615 Q101.448 477.171 103.924 477.171 Q107.929 477.171 110.267 475.064 Q112.605 472.958 112.605 469.347 Q112.605 465.736 110.267 463.629 Q107.929 461.523 103.924 461.523 Q102.049 461.523 100.174 461.939 Q98.3226 462.356 96.3782 463.236 L96.3782 445.875 Z\" fill=\"#000000\" fill-rule=\"evenodd\" fill-opacity=\"1\" /><path clip-path=\"url(#clip570)\" d=\"M136.494 448.953 Q132.883 448.953 131.054 452.518 Q129.248 456.06 129.248 463.189 Q129.248 470.296 131.054 473.861 Q132.883 477.402 136.494 477.402 Q140.128 477.402 141.933 473.861 Q143.762 470.296 143.762 463.189 Q143.762 456.06 141.933 452.518 Q140.128 448.953 136.494 448.953 M136.494 445.25 Q142.304 445.25 145.359 449.856 Q148.438 454.439 148.438 463.189 Q148.438 471.916 145.359 476.523 Q142.304 481.106 136.494 481.106 Q130.684 481.106 127.605 476.523 Q124.549 471.916 124.549 463.189 Q124.549 454.439 127.605 449.856 Q130.684 445.25 136.494 445.25 Z\" fill=\"#000000\" fill-rule=\"evenodd\" fill-opacity=\"1\" /><path clip-path=\"url(#clip570)\" d=\"M184.827 454.972 L174.248 465.597 L184.827 476.175 L182.072 478.976 L171.447 468.351 L160.822 478.976 L158.091 476.175 L168.646 465.597 L158.091 454.972 L160.822 452.171 L171.447 462.796 L182.072 452.171 L184.827 454.972 Z\" fill=\"#000000\" fill-rule=\"evenodd\" fill-opacity=\"1\" /><path clip-path=\"url(#clip570)\" d=\"M197.188 476.499 L204.827 476.499 L204.827 450.134 L196.517 451.801 L196.517 447.541 L204.78 445.875 L209.456 445.875 L209.456 476.499 L217.095 476.499 L217.095 480.435 L197.188 480.435 L197.188 476.499 Z\" fill=\"#000000\" fill-rule=\"evenodd\" fill-opacity=\"1\" /><path clip-path=\"url(#clip570)\" d=\"M236.539 448.953 Q232.928 448.953 231.1 452.518 Q229.294 456.06 229.294 463.189 Q229.294 470.296 231.1 473.861 Q232.928 477.402 236.539 477.402 Q240.174 477.402 241.979 473.861 Q243.808 470.296 243.808 463.189 Q243.808 456.06 241.979 452.518 Q240.174 448.953 236.539 448.953 M236.539 445.25 Q242.35 445.25 245.405 449.856 Q248.484 454.439 248.484 463.189 Q248.484 471.916 245.405 476.523 Q242.35 481.106 236.539 481.106 Q230.729 481.106 227.651 476.523 Q224.595 471.916 224.595 463.189 Q224.595 454.439 227.651 449.856 Q230.729 445.25 236.539 445.25 Z\" fill=\"#000000\" fill-rule=\"evenodd\" fill-opacity=\"1\" /><path clip-path=\"url(#clip570)\" d=\"M261.16 428.254 L251.568 443.244 L261.16 443.244 L261.16 428.254 M260.163 424.944 L264.941 424.944 L264.941 443.244 L268.947 443.244 L268.947 446.404 L264.941 446.404 L264.941 453.024 L261.16 453.024 L261.16 446.404 L248.484 446.404 L248.484 442.736 L260.163 424.944 Z\" fill=\"#000000\" fill-rule=\"evenodd\" fill-opacity=\"1\" /><path clip-path=\"url(#clip570)\" d=\"M51.9108 205.241 L59.5497 205.241 L59.5497 178.875 L51.2395 180.542 L51.2395 176.283 L59.5034 174.616 L64.1793 174.616 L64.1793 205.241 L71.8181 205.241 L71.8181 209.176 L51.9108 209.176 L51.9108 205.241 Z\" fill=\"#000000\" fill-rule=\"evenodd\" fill-opacity=\"1\" /><path clip-path=\"url(#clip570)\" d=\"M81.2625 203.297 L86.1467 203.297 L86.1467 209.176 L81.2625 209.176 L81.2625 203.297 Z\" fill=\"#000000\" fill-rule=\"evenodd\" fill-opacity=\"1\" /><path clip-path=\"url(#clip570)\" d=\"M106.332 192.764 Q102.999 192.764 101.077 194.547 Q99.1791 196.329 99.1791 199.454 Q99.1791 202.579 101.077 204.361 Q102.999 206.144 106.332 206.144 Q109.665 206.144 111.586 204.361 Q113.508 202.556 113.508 199.454 Q113.508 196.329 111.586 194.547 Q109.688 192.764 106.332 192.764 M101.656 190.773 Q98.6467 190.033 96.9569 187.973 Q95.2902 185.912 95.2902 182.949 Q95.2902 178.806 98.23 176.399 Q101.193 173.991 106.332 173.991 Q111.494 173.991 114.434 176.399 Q117.373 178.806 117.373 182.949 Q117.373 185.912 115.684 187.973 Q114.017 190.033 111.031 190.773 Q114.41 191.56 116.285 193.852 Q118.184 196.144 118.184 199.454 Q118.184 204.477 115.105 207.162 Q112.049 209.847 106.332 209.847 Q100.614 209.847 97.5356 207.162 Q94.48 204.477 94.48 199.454 Q94.48 196.144 96.3782 193.852 Q98.2763 191.56 101.656 190.773 M99.943 183.389 Q99.943 186.074 101.61 187.579 Q103.299 189.084 106.332 189.084 Q109.341 189.084 111.031 187.579 Q112.744 186.074 112.744 183.389 Q112.744 180.704 111.031 179.199 Q109.341 177.695 106.332 177.695 Q103.299 177.695 101.61 179.199 Q99.943 180.704 99.943 183.389 Z\" fill=\"#000000\" fill-rule=\"evenodd\" fill-opacity=\"1\" /><path clip-path=\"url(#clip570)\" d=\"M136.494 177.695 Q132.883 177.695 131.054 181.26 Q129.248 184.801 129.248 191.931 Q129.248 199.037 131.054 202.602 Q132.883 206.144 136.494 206.144 Q140.128 206.144 141.933 202.602 Q143.762 199.037 143.762 191.931 Q143.762 184.801 141.933 181.26 Q140.128 177.695 136.494 177.695 M136.494 173.991 Q142.304 173.991 145.359 178.598 Q148.438 183.181 148.438 191.931 Q148.438 200.658 145.359 205.264 Q142.304 209.847 136.494 209.847 Q130.684 209.847 127.605 205.264 Q124.549 200.658 124.549 191.931 Q124.549 183.181 127.605 178.598 Q130.684 173.991 136.494 173.991 Z\" fill=\"#000000\" fill-rule=\"evenodd\" fill-opacity=\"1\" /><path clip-path=\"url(#clip570)\" d=\"M184.827 183.713 L174.248 194.338 L184.827 204.917 L182.072 207.718 L171.447 197.093 L160.822 207.718 L158.091 204.917 L168.646 194.338 L158.091 183.713 L160.822 180.912 L171.447 191.537 L182.072 180.912 L184.827 183.713 Z\" fill=\"#000000\" fill-rule=\"evenodd\" fill-opacity=\"1\" /><path clip-path=\"url(#clip570)\" d=\"M197.188 205.241 L204.827 205.241 L204.827 178.875 L196.517 180.542 L196.517 176.283 L204.78 174.616 L209.456 174.616 L209.456 205.241 L217.095 205.241 L217.095 209.176 L197.188 209.176 L197.188 205.241 Z\" fill=\"#000000\" fill-rule=\"evenodd\" fill-opacity=\"1\" /><path clip-path=\"url(#clip570)\" d=\"M236.539 177.695 Q232.928 177.695 231.1 181.26 Q229.294 184.801 229.294 191.931 Q229.294 199.037 231.1 202.602 Q232.928 206.144 236.539 206.144 Q240.174 206.144 241.979 202.602 Q243.808 199.037 243.808 191.931 Q243.808 184.801 241.979 181.26 Q240.174 177.695 236.539 177.695 M236.539 173.991 Q242.35 173.991 245.405 178.598 Q248.484 183.181 248.484 191.931 Q248.484 200.658 245.405 205.264 Q242.35 209.847 236.539 209.847 Q230.729 209.847 227.651 205.264 Q224.595 200.658 224.595 191.931 Q224.595 183.181 227.651 178.598 Q230.729 173.991 236.539 173.991 Z\" fill=\"#000000\" fill-rule=\"evenodd\" fill-opacity=\"1\" /><path clip-path=\"url(#clip570)\" d=\"M261.16 156.996 L251.568 171.986 L261.16 171.986 L261.16 156.996 M260.163 153.686 L264.941 153.686 L264.941 171.986 L268.947 171.986 L268.947 175.145 L264.941 175.145 L264.941 181.766 L261.16 181.766 L261.16 175.145 L248.484 175.145 L248.484 171.478 L260.163 153.686 Z\" fill=\"#000000\" fill-rule=\"evenodd\" fill-opacity=\"1\" /><polyline clip-path=\"url(#clip572)\" style=\"stroke:#009af9; stroke-linecap:butt; stroke-linejoin:round; stroke-width:4; stroke-opacity:1; fill:none\" points=\"\n",
       "  362.904,1107.37 459.498,1185.49 556.093,1250.23 652.688,1315.15 749.283,1366.15 845.877,1407.92 942.472,1433.96 1039.07,1445.72 1135.66,1444.81 1232.26,1418.41 \n",
       "  1328.85,1380.61 1425.45,1297.79 1522.04,1205.38 1618.64,1122.38 1715.23,998.501 1811.83,858.712 1908.42,739.901 2005.01,598.485 2101.61,463.941 2198.2,256.88 \n",
       "  2294.8,87.9763 \n",
       "  \"/>\n",
       "<path clip-path=\"url(#clip570)\" d=\"\n",
       "M2004.53 198.898 L2284.5 198.898 L2284.5 95.2176 L2004.53 95.2176  Z\n",
       "  \" fill=\"#ffffff\" fill-rule=\"evenodd\" fill-opacity=\"1\"/>\n",
       "<polyline clip-path=\"url(#clip570)\" style=\"stroke:#000000; stroke-linecap:butt; stroke-linejoin:round; stroke-width:4; stroke-opacity:1; fill:none\" points=\"\n",
       "  2004.53,198.898 2284.5,198.898 2284.5,95.2176 2004.53,95.2176 2004.53,198.898 \n",
       "  \"/>\n",
       "<polyline clip-path=\"url(#clip570)\" style=\"stroke:#009af9; stroke-linecap:butt; stroke-linejoin:round; stroke-width:4; stroke-opacity:1; fill:none\" points=\"\n",
       "  2027.28,147.058 2163.81,147.058 \n",
       "  \"/>\n",
       "<path clip-path=\"url(#clip570)\" d=\"M2200.4 166.745 Q2198.6 171.375 2196.88 172.787 Q2195.17 174.199 2192.3 174.199 L2188.9 174.199 L2188.9 170.634 L2191.4 170.634 Q2193.16 170.634 2194.13 169.8 Q2195.1 168.967 2196.28 165.865 L2197.04 163.921 L2186.56 138.412 L2191.07 138.412 L2199.17 158.689 L2207.28 138.412 L2211.79 138.412 L2200.4 166.745 Z\" fill=\"#000000\" fill-rule=\"evenodd\" fill-opacity=\"1\" /><path clip-path=\"url(#clip570)\" d=\"M2219.08 160.402 L2226.72 160.402 L2226.72 134.037 L2218.41 135.703 L2218.41 131.444 L2226.67 129.778 L2231.35 129.778 L2231.35 160.402 L2238.99 160.402 L2238.99 164.338 L2219.08 164.338 L2219.08 160.402 Z\" fill=\"#000000\" fill-rule=\"evenodd\" fill-opacity=\"1\" /></svg>\n"
      ]
     },
     "metadata": {},
     "output_type": "display_data"
    }
   ],
   "source": [
    "display(probs[difs .== minimum(difs)])\n",
    "plot(probs, difs)\n"
   ]
  },
  {
   "cell_type": "code",
   "execution_count": 278,
   "metadata": {},
   "outputs": [],
   "source": [
    "probs = [0.:0.05:1...]\n",
    "difs = zeros(size(probs))\n",
    "\n",
    "for (i, prob) in enumerate(probs)\n",
    "    difs[i] = calc_difs_only_numT(prob; repetitions = 100)\n",
    "end"
   ]
  },
  {
   "cell_type": "code",
   "execution_count": 279,
   "metadata": {},
   "outputs": [
    {
     "data": {
      "text/plain": [
       "1-element Vector{Float64}:\n",
       " 0.4"
      ]
     },
     "metadata": {},
     "output_type": "display_data"
    },
    {
     "data": {
      "image/png": "[encoded data removed]",
      "image/svg+xml": "<?xml version=\"1.0\" encoding=\"utf-8\"?>\n<svg xmlns=\"http://www.w3.org/2000/svg\" xmlns:xlink=\"http://www.w3.org/1999/xlink\" width=\"600\" height=\"400\" viewBox=\"0 0 2400 1600\">\n<defs>\n  <clipPath id=\"clip610\">\n    <rect x=\"0\" y=\"0\" width=\"2400\" height=\"1600\"/>\n  </clipPath>\n</defs>\n<path clip-path=\"url(#clip610)\" d=\"\nM0 1600 L2400 1600 L2400 0 L0 0  Z\n  \" fill=\"#ffffff\" fill-rule=\"evenodd\" fill-opacity=\"1\"/>\n<defs>\n  <clipPath id=\"clip611\">\n    <rect x=\"480\" y=\"0\" width=\"1681\" height=\"1600\"/>\n  </clipPath>\n</defs>\n<path clip-path=\"url(#clip610)\" d=\"\nM202.177 1486.45 L2352.76 1486.45 L2352.76 47.2441 L202.177 47.2441  Z\n  \" fill=\"#ffffff\" fill-rule=\"evenodd\" fill-opacity=\"1\"/>\n<defs>\n  <clipPath id=\"clip612\">\n    <rect x=\"202\" y=\"47\" width=\"2152\" height=\"1440\"/>\n  </clipPath>\n</defs>\n<polyline clip-path=\"url(#clip612)\" style=\"stroke:#000000; stroke-linecap:butt; stroke-linejoin:round; stroke-width:2; stroke-opacity:0.1; fill:none\" points=\"\n  263.042,1486.45 263.042,47.2441 \n  \"/>\n<polyline clip-path=\"url(#clip612)\" style=\"stroke:#000000; stroke-linecap:butt; stroke-linejoin:round; stroke-width:2; stroke-opacity:0.1; fill:none\" points=\"\n  770.254,1486.45 770.254,47.2441 \n  \"/>\n<polyline clip-path=\"url(#clip612)\" style=\"stroke:#000000; stroke-linecap:butt; stroke-linejoin:round; stroke-width:2; stroke-opacity:0.1; fill:none\" points=\"\n  1277.47,1486.45 1277.47,47.2441 \n  \"/>\n<polyline clip-path=\"url(#clip612)\" style=\"stroke:#000000; stroke-linecap:butt; stroke-linejoin:round; stroke-width:2; stroke-opacity:0.1; fill:none\" points=\"\n  1784.68,1486.45 1784.68,47.2441 \n  \"/>\n<polyline clip-path=\"url(#clip612)\" style=\"stroke:#000000; stroke-linecap:butt; stroke-linejoin:round; stroke-width:2; stroke-opacity:0.1; fill:none\" points=\"\n  2291.89,1486.45 2291.89,47.2441 \n  \"/>\n<polyline clip-path=\"url(#clip610)\" style=\"stroke:#000000; stroke-linecap:butt; stroke-linejoin:round; stroke-width:4; stroke-opacity:1; fill:none\" points=\"\n  202.177,1486.45 2352.76,1486.45 \n  \"/>\n<polyline clip-path=\"url(#clip610)\" style=\"stroke:#000000; stroke-linecap:butt; stroke-linejoin:round; stroke-width:4; stroke-opacity:1; fill:none\" points=\"\n  263.042,1486.45 263.042,1467.55 \n  \"/>\n<polyline clip-path=\"url(#clip610)\" style=\"stroke:#000000; stroke-linecap:butt; stroke-linejoin:round; stroke-width:4; stroke-opacity:1; fill:none\" points=\"\n  770.254,1486.45 770.254,1467.55 \n  \"/>\n<polyline clip-path=\"url(#clip610)\" style=\"stroke:#000000; stroke-linecap:butt; stroke-linejoin:round; stroke-width:4; stroke-opacity:1; fill:none\" points=\"\n  1277.47,1486.45 1277.47,1467.55 \n  \"/>\n<polyline clip-path=\"url(#clip610)\" style=\"stroke:#000000; stroke-linecap:butt; stroke-linejoin:round; stroke-width:4; stroke-opacity:1; fill:none\" points=\"\n  1784.68,1486.45 1784.68,1467.55 \n  \"/>\n<polyline clip-path=\"url(#clip610)\" style=\"stroke:#000000; stroke-linecap:butt; stroke-linejoin:round; stroke-width:4; stroke-opacity:1; fill:none\" points=\"\n  2291.89,1486.45 2291.89,1467.55 \n  \"/>\n<path clip-path=\"url(#clip610)\" d=\"M225.346 1517.37 Q221.734 1517.37 219.906 1520.93 Q218.1 1524.47 218.1 1531.6 Q218.1 1538.71 219.906 1542.27 Q221.734 1545.82 225.346 1545.82 Q228.98 1545.82 230.785 1542.27 Q232.614 1538.71 232.614 1531.6 Q232.614 1524.47 230.785 1520.93 Q228.98 1517.37 225.346 1517.37 M225.346 1513.66 Q231.156 1513.66 234.211 1518.27 Q237.29 1522.85 237.29 1531.6 Q237.29 1540.33 234.211 1544.94 Q231.156 1549.52 225.346 1549.52 Q219.535 1549.52 216.457 1544.94 Q213.401 1540.33 213.401 1531.6 Q213.401 1522.85 216.457 1518.27 Q219.535 1513.66 225.346 1513.66 Z\" fill=\"#000000\" fill-rule=\"evenodd\" fill-opacity=\"1\" /><path clip-path=\"url(#clip610)\" d=\"M245.508 1542.97 L250.392 1542.97 L250.392 1548.85 L245.508 1548.85 L245.508 1542.97 Z\" fill=\"#000000\" fill-rule=\"evenodd\" fill-opacity=\"1\" /><path clip-path=\"url(#clip610)\" d=\"M270.577 1517.37 Q266.966 1517.37 265.137 1520.93 Q263.331 1524.47 263.331 1531.6 Q263.331 1538.71 265.137 1542.27 Q266.966 1545.82 270.577 1545.82 Q274.211 1545.82 276.017 1542.27 Q277.845 1538.71 277.845 1531.6 Q277.845 1524.47 276.017 1520.93 Q274.211 1517.37 270.577 1517.37 M270.577 1513.66 Q276.387 1513.66 279.443 1518.27 Q282.521 1522.85 282.521 1531.6 Q282.521 1540.33 279.443 1544.94 Q276.387 1549.52 270.577 1549.52 Q264.767 1549.52 261.688 1544.94 Q258.632 1540.33 258.632 1531.6 Q258.632 1522.85 261.688 1518.27 Q264.767 1513.66 270.577 1513.66 Z\" fill=\"#000000\" fill-rule=\"evenodd\" fill-opacity=\"1\" /><path clip-path=\"url(#clip610)\" d=\"M300.739 1517.37 Q297.128 1517.37 295.299 1520.93 Q293.493 1524.47 293.493 1531.6 Q293.493 1538.71 295.299 1542.27 Q297.128 1545.82 300.739 1545.82 Q304.373 1545.82 306.178 1542.27 Q308.007 1538.71 308.007 1531.6 Q308.007 1524.47 306.178 1520.93 Q304.373 1517.37 300.739 1517.37 M300.739 1513.66 Q306.549 1513.66 309.604 1518.27 Q312.683 1522.85 312.683 1531.6 Q312.683 1540.33 309.604 1544.94 Q306.549 1549.52 300.739 1549.52 Q294.929 1549.52 291.85 1544.94 Q288.794 1540.33 288.794 1531.6 Q288.794 1522.85 291.85 1518.27 Q294.929 1513.66 300.739 1513.66 Z\" fill=\"#000000\" fill-rule=\"evenodd\" fill-opacity=\"1\" /><path clip-path=\"url(#clip610)\" d=\"M733.055 1517.37 Q729.444 1517.37 727.616 1520.93 Q725.81 1524.47 725.81 1531.6 Q725.81 1538.71 727.616 1542.27 Q729.444 1545.82 733.055 1545.82 Q736.69 1545.82 738.495 1542.27 Q740.324 1538.71 740.324 1531.6 Q740.324 1524.47 738.495 1520.93 Q736.69 1517.37 733.055 1517.37 M733.055 1513.66 Q738.866 1513.66 741.921 1518.27 Q745 1522.85 745 1531.6 Q745 1540.33 741.921 1544.94 Q738.866 1549.52 733.055 1549.52 Q727.245 1549.52 724.167 1544.94 Q721.111 1540.33 721.111 1531.6 Q721.111 1522.85 724.167 1518.27 Q727.245 1513.66 733.055 1513.66 Z\" fill=\"#000000\" fill-rule=\"evenodd\" fill-opacity=\"1\" /><path clip-path=\"url(#clip610)\" d=\"M753.217 1542.97 L758.102 1542.97 L758.102 1548.85 L753.217 1548.85 L753.217 1542.97 Z\" fill=\"#000000\" fill-rule=\"evenodd\" fill-opacity=\"1\" /><path clip-path=\"url(#clip610)\" d=\"M772.314 1544.91 L788.634 1544.91 L788.634 1548.85 L766.689 1548.85 L766.689 1544.91 Q769.351 1542.16 773.935 1537.53 Q778.541 1532.88 779.722 1531.53 Q781.967 1529.01 782.847 1527.27 Q783.75 1525.51 783.75 1523.82 Q783.75 1521.07 781.805 1519.33 Q779.884 1517.6 776.782 1517.6 Q774.583 1517.6 772.129 1518.36 Q769.699 1519.13 766.921 1520.68 L766.921 1515.95 Q769.745 1514.82 772.199 1514.24 Q774.652 1513.66 776.689 1513.66 Q782.06 1513.66 785.254 1516.35 Q788.449 1519.03 788.449 1523.52 Q788.449 1525.65 787.638 1527.57 Q786.851 1529.47 784.745 1532.07 Q784.166 1532.74 781.064 1535.95 Q777.963 1539.15 772.314 1544.91 Z\" fill=\"#000000\" fill-rule=\"evenodd\" fill-opacity=\"1\" /><path clip-path=\"url(#clip610)\" d=\"M798.495 1514.29 L816.851 1514.29 L816.851 1518.22 L802.777 1518.22 L802.777 1526.7 Q803.796 1526.35 804.814 1526.19 Q805.833 1526 806.851 1526 Q812.638 1526 816.018 1529.17 Q819.397 1532.34 819.397 1537.76 Q819.397 1543.34 815.925 1546.44 Q812.453 1549.52 806.134 1549.52 Q803.958 1549.52 801.689 1549.15 Q799.444 1548.78 797.036 1548.04 L797.036 1543.34 Q799.12 1544.47 801.342 1545.03 Q803.564 1545.58 806.041 1545.58 Q810.046 1545.58 812.384 1543.48 Q814.722 1541.37 814.722 1537.76 Q814.722 1534.15 812.384 1532.04 Q810.046 1529.94 806.041 1529.94 Q804.166 1529.94 802.291 1530.35 Q800.439 1530.77 798.495 1531.65 L798.495 1514.29 Z\" fill=\"#000000\" fill-rule=\"evenodd\" fill-opacity=\"1\" /><path clip-path=\"url(#clip610)\" d=\"M1239.77 1517.37 Q1236.16 1517.37 1234.33 1520.93 Q1232.52 1524.47 1232.52 1531.6 Q1232.52 1538.71 1234.33 1542.27 Q1236.16 1545.82 1239.77 1545.82 Q1243.4 1545.82 1245.21 1542.27 Q1247.04 1538.71 1247.04 1531.6 Q1247.04 1524.47 1245.21 1520.93 Q1243.4 1517.37 1239.77 1517.37 M1239.77 1513.66 Q1245.58 1513.66 1248.64 1518.27 Q1251.71 1522.85 1251.71 1531.6 Q1251.71 1540.33 1248.64 1544.94 Q1245.58 1549.52 1239.77 1549.52 Q1233.96 1549.52 1230.88 1544.94 Q1227.83 1540.33 1227.83 1531.6 Q1227.83 1522.85 1230.88 1518.27 Q1233.96 1513.66 1239.77 1513.66 Z\" fill=\"#000000\" fill-rule=\"evenodd\" fill-opacity=\"1\" /><path clip-path=\"url(#clip610)\" d=\"M1259.93 1542.97 L1264.82 1542.97 L1264.82 1548.85 L1259.93 1548.85 L1259.93 1542.97 Z\" fill=\"#000000\" fill-rule=\"evenodd\" fill-opacity=\"1\" /><path clip-path=\"url(#clip610)\" d=\"M1275.05 1514.29 L1293.4 1514.29 L1293.4 1518.22 L1279.33 1518.22 L1279.33 1526.7 Q1280.35 1526.35 1281.37 1526.19 Q1282.39 1526 1283.4 1526 Q1289.19 1526 1292.57 1529.17 Q1295.95 1532.34 1295.95 1537.76 Q1295.95 1543.34 1292.48 1546.44 Q1289.01 1549.52 1282.69 1549.52 Q1280.51 1549.52 1278.24 1549.15 Q1276 1548.78 1273.59 1548.04 L1273.59 1543.34 Q1275.67 1544.47 1277.89 1545.03 Q1280.12 1545.58 1282.59 1545.58 Q1286.6 1545.58 1288.94 1543.48 Q1291.27 1541.37 1291.27 1537.76 Q1291.27 1534.15 1288.94 1532.04 Q1286.6 1529.94 1282.59 1529.94 Q1280.72 1529.94 1278.84 1530.35 Q1276.99 1530.77 1275.05 1531.65 L1275.05 1514.29 Z\" fill=\"#000000\" fill-rule=\"evenodd\" fill-opacity=\"1\" /><path clip-path=\"url(#clip610)\" d=\"M1315.16 1517.37 Q1311.55 1517.37 1309.72 1520.93 Q1307.92 1524.47 1307.92 1531.6 Q1307.92 1538.71 1309.72 1542.27 Q1311.55 1545.82 1315.16 1545.82 Q1318.8 1545.82 1320.6 1542.27 Q1322.43 1538.71 1322.43 1531.6 Q1322.43 1524.47 1320.6 1520.93 Q1318.8 1517.37 1315.16 1517.37 M1315.16 1513.66 Q1320.97 1513.66 1324.03 1518.27 Q1327.11 1522.85 1327.11 1531.6 Q1327.11 1540.33 1324.03 1544.94 Q1320.97 1549.52 1315.16 1549.52 Q1309.35 1549.52 1306.27 1544.94 Q1303.22 1540.33 1303.22 1531.6 Q1303.22 1522.85 1306.27 1518.27 Q1309.35 1513.66 1315.16 1513.66 Z\" fill=\"#000000\" fill-rule=\"evenodd\" fill-opacity=\"1\" /><path clip-path=\"url(#clip610)\" d=\"M1747.48 1517.37 Q1743.87 1517.37 1742.04 1520.93 Q1740.23 1524.47 1740.23 1531.6 Q1740.23 1538.71 1742.04 1542.27 Q1743.87 1545.82 1747.48 1545.82 Q1751.11 1545.82 1752.92 1542.27 Q1754.75 1538.71 1754.75 1531.6 Q1754.75 1524.47 1752.92 1520.93 Q1751.11 1517.37 1747.48 1517.37 M1747.48 1513.66 Q1753.29 1513.66 1756.35 1518.27 Q1759.42 1522.85 1759.42 1531.6 Q1759.42 1540.33 1756.35 1544.94 Q1753.29 1549.52 1747.48 1549.52 Q1741.67 1549.52 1738.59 1544.94 Q1735.54 1540.33 1735.54 1531.6 Q1735.54 1522.85 1738.59 1518.27 Q1741.67 1513.66 1747.48 1513.66 Z\" fill=\"#000000\" fill-rule=\"evenodd\" fill-opacity=\"1\" /><path clip-path=\"url(#clip610)\" d=\"M1767.64 1542.97 L1772.53 1542.97 L1772.53 1548.85 L1767.64 1548.85 L1767.64 1542.97 Z\" fill=\"#000000\" fill-rule=\"evenodd\" fill-opacity=\"1\" /><path clip-path=\"url(#clip610)\" d=\"M1781.53 1514.29 L1803.75 1514.29 L1803.75 1516.28 L1791.21 1548.85 L1786.32 1548.85 L1798.13 1518.22 L1781.53 1518.22 L1781.53 1514.29 Z\" fill=\"#000000\" fill-rule=\"evenodd\" fill-opacity=\"1\" /><path clip-path=\"url(#clip610)\" d=\"M1812.92 1514.29 L1831.28 1514.29 L1831.28 1518.22 L1817.2 1518.22 L1817.2 1526.7 Q1818.22 1526.35 1819.24 1526.19 Q1820.26 1526 1821.28 1526 Q1827.06 1526 1830.44 1529.17 Q1833.82 1532.34 1833.82 1537.76 Q1833.82 1543.34 1830.35 1546.44 Q1826.88 1549.52 1820.56 1549.52 Q1818.38 1549.52 1816.11 1549.15 Q1813.87 1548.78 1811.46 1548.04 L1811.46 1543.34 Q1813.54 1544.47 1815.77 1545.03 Q1817.99 1545.58 1820.47 1545.58 Q1824.47 1545.58 1826.81 1543.48 Q1829.15 1541.37 1829.15 1537.76 Q1829.15 1534.15 1826.81 1532.04 Q1824.47 1529.94 1820.47 1529.94 Q1818.59 1529.94 1816.72 1530.35 Q1814.86 1530.77 1812.92 1531.65 L1812.92 1514.29 Z\" fill=\"#000000\" fill-rule=\"evenodd\" fill-opacity=\"1\" /><path clip-path=\"url(#clip610)\" d=\"M2243.96 1544.91 L2251.6 1544.91 L2251.6 1518.55 L2243.29 1520.21 L2243.29 1515.95 L2251.56 1514.29 L2256.23 1514.29 L2256.23 1544.91 L2263.87 1544.91 L2263.87 1548.85 L2243.96 1548.85 L2243.96 1544.91 Z\" fill=\"#000000\" fill-rule=\"evenodd\" fill-opacity=\"1\" /><path clip-path=\"url(#clip610)\" d=\"M2273.31 1542.97 L2278.2 1542.97 L2278.2 1548.85 L2273.31 1548.85 L2273.31 1542.97 Z\" fill=\"#000000\" fill-rule=\"evenodd\" fill-opacity=\"1\" /><path clip-path=\"url(#clip610)\" d=\"M2298.38 1517.37 Q2294.77 1517.37 2292.94 1520.93 Q2291.14 1524.47 2291.14 1531.6 Q2291.14 1538.71 2292.94 1542.27 Q2294.77 1545.82 2298.38 1545.82 Q2302.02 1545.82 2303.82 1542.27 Q2305.65 1538.71 2305.65 1531.6 Q2305.65 1524.47 2303.82 1520.93 Q2302.02 1517.37 2298.38 1517.37 M2298.38 1513.66 Q2304.19 1513.66 2307.25 1518.27 Q2310.33 1522.85 2310.33 1531.6 Q2310.33 1540.33 2307.25 1544.94 Q2304.19 1549.52 2298.38 1549.52 Q2292.57 1549.52 2289.49 1544.94 Q2286.44 1540.33 2286.44 1531.6 Q2286.44 1522.85 2289.49 1518.27 Q2292.57 1513.66 2298.38 1513.66 Z\" fill=\"#000000\" fill-rule=\"evenodd\" fill-opacity=\"1\" /><path clip-path=\"url(#clip610)\" d=\"M2328.55 1517.37 Q2324.93 1517.37 2323.11 1520.93 Q2321.3 1524.47 2321.3 1531.6 Q2321.3 1538.71 2323.11 1542.27 Q2324.93 1545.82 2328.55 1545.82 Q2332.18 1545.82 2333.99 1542.27 Q2335.81 1538.71 2335.81 1531.6 Q2335.81 1524.47 2333.99 1520.93 Q2332.18 1517.37 2328.55 1517.37 M2328.55 1513.66 Q2334.36 1513.66 2337.41 1518.27 Q2340.49 1522.85 2340.49 1531.6 Q2340.49 1540.33 2337.41 1544.94 Q2334.36 1549.52 2328.55 1549.52 Q2322.74 1549.52 2319.66 1544.94 Q2316.6 1540.33 2316.6 1531.6 Q2316.6 1522.85 2319.66 1518.27 Q2322.74 1513.66 2328.55 1513.66 Z\" fill=\"#000000\" fill-rule=\"evenodd\" fill-opacity=\"1\" /><polyline clip-path=\"url(#clip612)\" style=\"stroke:#000000; stroke-linecap:butt; stroke-linejoin:round; stroke-width:2; stroke-opacity:0.1; fill:none\" points=\"\n  202.177,1368.4 2352.76,1368.4 \n  \"/>\n<polyline clip-path=\"url(#clip612)\" style=\"stroke:#000000; stroke-linecap:butt; stroke-linejoin:round; stroke-width:2; stroke-opacity:0.1; fill:none\" points=\"\n  202.177,1027.82 2352.76,1027.82 \n  \"/>\n<polyline clip-path=\"url(#clip612)\" style=\"stroke:#000000; stroke-linecap:butt; stroke-linejoin:round; stroke-width:2; stroke-opacity:0.1; fill:none\" points=\"\n  202.177,687.234 2352.76,687.234 \n  \"/>\n<polyline clip-path=\"url(#clip612)\" style=\"stroke:#000000; stroke-linecap:butt; stroke-linejoin:round; stroke-width:2; stroke-opacity:0.1; fill:none\" points=\"\n  202.177,346.65 2352.76,346.65 \n  \"/>\n<polyline clip-path=\"url(#clip610)\" style=\"stroke:#000000; stroke-linecap:butt; stroke-linejoin:round; stroke-width:4; stroke-opacity:1; fill:none\" points=\"\n  202.177,1486.45 202.177,47.2441 \n  \"/>\n<polyline clip-path=\"url(#clip610)\" style=\"stroke:#000000; stroke-linecap:butt; stroke-linejoin:round; stroke-width:4; stroke-opacity:1; fill:none\" points=\"\n  202.177,1368.4 221.074,1368.4 \n  \"/>\n<polyline clip-path=\"url(#clip610)\" style=\"stroke:#000000; stroke-linecap:butt; stroke-linejoin:round; stroke-width:4; stroke-opacity:1; fill:none\" points=\"\n  202.177,1027.82 221.074,1027.82 \n  \"/>\n<polyline clip-path=\"url(#clip610)\" style=\"stroke:#000000; stroke-linecap:butt; stroke-linejoin:round; stroke-width:4; stroke-opacity:1; fill:none\" points=\"\n  202.177,687.234 221.074,687.234 \n  \"/>\n<polyline clip-path=\"url(#clip610)\" style=\"stroke:#000000; stroke-linecap:butt; stroke-linejoin:round; stroke-width:4; stroke-opacity:1; fill:none\" points=\"\n  202.177,346.65 221.074,346.65 \n  \"/>\n<path clip-path=\"url(#clip610)\" d=\"M57.7745 1381.75 L74.0939 1381.75 L74.0939 1385.68 L52.1495 1385.68 L52.1495 1381.75 Q54.8115 1378.99 59.3949 1374.36 Q64.0013 1369.71 65.1819 1368.37 Q67.4272 1365.85 68.3068 1364.11 Q69.2096 1362.35 69.2096 1360.66 Q69.2096 1357.91 67.2652 1356.17 Q65.3439 1354.43 62.2421 1354.43 Q60.043 1354.43 57.5893 1355.2 Q55.1588 1355.96 52.381 1357.51 L52.381 1352.79 Q55.2051 1351.66 57.6588 1351.08 Q60.1124 1350.5 62.1495 1350.5 Q67.5198 1350.5 70.7142 1353.18 Q73.9087 1355.87 73.9087 1360.36 Q73.9087 1362.49 73.0985 1364.41 Q72.3115 1366.31 70.205 1368.9 Q69.6263 1369.57 66.5245 1372.79 Q63.4226 1375.98 57.7745 1381.75 Z\" fill=\"#000000\" fill-rule=\"evenodd\" fill-opacity=\"1\" /><path clip-path=\"url(#clip610)\" d=\"M93.9086 1354.2 Q90.2975 1354.2 88.4688 1357.77 Q86.6632 1361.31 86.6632 1368.44 Q86.6632 1375.54 88.4688 1379.11 Q90.2975 1382.65 93.9086 1382.65 Q97.5428 1382.65 99.3483 1379.11 Q101.177 1375.54 101.177 1368.44 Q101.177 1361.31 99.3483 1357.77 Q97.5428 1354.2 93.9086 1354.2 M93.9086 1350.5 Q99.7187 1350.5 102.774 1355.1 Q105.853 1359.69 105.853 1368.44 Q105.853 1377.16 102.774 1381.77 Q99.7187 1386.35 93.9086 1386.35 Q88.0984 1386.35 85.0197 1381.77 Q81.9642 1377.16 81.9642 1368.44 Q81.9642 1359.69 85.0197 1355.1 Q88.0984 1350.5 93.9086 1350.5 Z\" fill=\"#000000\" fill-rule=\"evenodd\" fill-opacity=\"1\" /><path clip-path=\"url(#clip610)\" d=\"M124.07 1354.2 Q120.459 1354.2 118.631 1357.77 Q116.825 1361.31 116.825 1368.44 Q116.825 1375.54 118.631 1379.11 Q120.459 1382.65 124.07 1382.65 Q127.705 1382.65 129.51 1379.11 Q131.339 1375.54 131.339 1368.44 Q131.339 1361.31 129.51 1357.77 Q127.705 1354.2 124.07 1354.2 M124.07 1350.5 Q129.881 1350.5 132.936 1355.1 Q136.015 1359.69 136.015 1368.44 Q136.015 1377.16 132.936 1381.77 Q129.881 1386.35 124.07 1386.35 Q118.26 1386.35 115.182 1381.77 Q112.126 1377.16 112.126 1368.44 Q112.126 1359.69 115.182 1355.1 Q118.26 1350.5 124.07 1350.5 Z\" fill=\"#000000\" fill-rule=\"evenodd\" fill-opacity=\"1\" /><path clip-path=\"url(#clip610)\" d=\"M154.232 1354.2 Q150.621 1354.2 148.793 1357.77 Q146.987 1361.31 146.987 1368.44 Q146.987 1375.54 148.793 1379.11 Q150.621 1382.65 154.232 1382.65 Q157.867 1382.65 159.672 1379.11 Q161.501 1375.54 161.501 1368.44 Q161.501 1361.31 159.672 1357.77 Q157.867 1354.2 154.232 1354.2 M154.232 1350.5 Q160.042 1350.5 163.098 1355.1 Q166.177 1359.69 166.177 1368.44 Q166.177 1377.16 163.098 1381.77 Q160.042 1386.35 154.232 1386.35 Q148.422 1386.35 145.343 1381.77 Q142.288 1377.16 142.288 1368.44 Q142.288 1359.69 145.343 1355.1 Q148.422 1350.5 154.232 1350.5 Z\" fill=\"#000000\" fill-rule=\"evenodd\" fill-opacity=\"1\" /><path clip-path=\"url(#clip610)\" d=\"M66.5939 1014.61 L54.7884 1033.06 L66.5939 1033.06 L66.5939 1014.61 M65.367 1010.54 L71.2466 1010.54 L71.2466 1033.06 L76.1772 1033.06 L76.1772 1036.95 L71.2466 1036.95 L71.2466 1045.1 L66.5939 1045.1 L66.5939 1036.95 L50.9921 1036.95 L50.9921 1032.44 L65.367 1010.54 Z\" fill=\"#000000\" fill-rule=\"evenodd\" fill-opacity=\"1\" /><path clip-path=\"url(#clip610)\" d=\"M93.9086 1013.62 Q90.2975 1013.62 88.4688 1017.18 Q86.6632 1020.72 86.6632 1027.85 Q86.6632 1034.96 88.4688 1038.52 Q90.2975 1042.07 93.9086 1042.07 Q97.5428 1042.07 99.3483 1038.52 Q101.177 1034.96 101.177 1027.85 Q101.177 1020.72 99.3483 1017.18 Q97.5428 1013.62 93.9086 1013.62 M93.9086 1009.91 Q99.7187 1009.91 102.774 1014.52 Q105.853 1019.1 105.853 1027.85 Q105.853 1036.58 102.774 1041.19 Q99.7187 1045.77 93.9086 1045.77 Q88.0984 1045.77 85.0197 1041.19 Q81.9642 1036.58 81.9642 1027.85 Q81.9642 1019.1 85.0197 1014.52 Q88.0984 1009.91 93.9086 1009.91 Z\" fill=\"#000000\" fill-rule=\"evenodd\" fill-opacity=\"1\" /><path clip-path=\"url(#clip610)\" d=\"M124.07 1013.62 Q120.459 1013.62 118.631 1017.18 Q116.825 1020.72 116.825 1027.85 Q116.825 1034.96 118.631 1038.52 Q120.459 1042.07 124.07 1042.07 Q127.705 1042.07 129.51 1038.52 Q131.339 1034.96 131.339 1027.85 Q131.339 1020.72 129.51 1017.18 Q127.705 1013.62 124.07 1013.62 M124.07 1009.91 Q129.881 1009.91 132.936 1014.52 Q136.015 1019.1 136.015 1027.85 Q136.015 1036.58 132.936 1041.19 Q129.881 1045.77 124.07 1045.77 Q118.26 1045.77 115.182 1041.19 Q112.126 1036.58 112.126 1027.85 Q112.126 1019.1 115.182 1014.52 Q118.26 1009.91 124.07 1009.91 Z\" fill=\"#000000\" fill-rule=\"evenodd\" fill-opacity=\"1\" /><path clip-path=\"url(#clip610)\" d=\"M154.232 1013.62 Q150.621 1013.62 148.793 1017.18 Q146.987 1020.72 146.987 1027.85 Q146.987 1034.96 148.793 1038.52 Q150.621 1042.07 154.232 1042.07 Q157.867 1042.07 159.672 1038.52 Q161.501 1034.96 161.501 1027.85 Q161.501 1020.72 159.672 1017.18 Q157.867 1013.62 154.232 1013.62 M154.232 1009.91 Q160.042 1009.91 163.098 1014.52 Q166.177 1019.1 166.177 1027.85 Q166.177 1036.58 163.098 1041.19 Q160.042 1045.77 154.232 1045.77 Q148.422 1045.77 145.343 1041.19 Q142.288 1036.58 142.288 1027.85 Q142.288 1019.1 145.343 1014.52 Q148.422 1009.91 154.232 1009.91 Z\" fill=\"#000000\" fill-rule=\"evenodd\" fill-opacity=\"1\" /><path clip-path=\"url(#clip610)\" d=\"M64.3254 685.371 Q61.1773 685.371 59.3254 687.524 Q57.4967 689.677 57.4967 693.426 Q57.4967 697.153 59.3254 699.329 Q61.1773 701.482 64.3254 701.482 Q67.4735 701.482 69.3022 699.329 Q71.1541 697.153 71.1541 693.426 Q71.1541 689.677 69.3022 687.524 Q67.4735 685.371 64.3254 685.371 M73.6077 670.718 L73.6077 674.978 Q71.8485 674.144 70.0429 673.704 Q68.2606 673.265 66.5013 673.265 Q61.8717 673.265 59.418 676.39 Q56.9875 679.515 56.6402 685.834 Q58.006 683.82 60.0662 682.755 Q62.1263 681.667 64.6032 681.667 Q69.8115 681.667 72.8207 684.839 Q75.8531 687.987 75.8531 693.426 Q75.8531 698.751 72.705 701.968 Q69.5568 705.186 64.3254 705.186 Q58.33 705.186 55.1588 700.602 Q51.9875 695.996 51.9875 687.269 Q51.9875 679.075 55.8764 674.214 Q59.7652 669.329 66.3161 669.329 Q68.0754 669.329 69.8578 669.677 Q71.6633 670.024 73.6077 670.718 Z\" fill=\"#000000\" fill-rule=\"evenodd\" fill-opacity=\"1\" /><path clip-path=\"url(#clip610)\" d=\"M93.9086 673.033 Q90.2975 673.033 88.4688 676.598 Q86.6632 680.14 86.6632 687.269 Q86.6632 694.376 88.4688 697.94 Q90.2975 701.482 93.9086 701.482 Q97.5428 701.482 99.3483 697.94 Q101.177 694.376 101.177 687.269 Q101.177 680.14 99.3483 676.598 Q97.5428 673.033 93.9086 673.033 M93.9086 669.329 Q99.7187 669.329 102.774 673.936 Q105.853 678.519 105.853 687.269 Q105.853 695.996 102.774 700.602 Q99.7187 705.186 93.9086 705.186 Q88.0984 705.186 85.0197 700.602 Q81.9642 695.996 81.9642 687.269 Q81.9642 678.519 85.0197 673.936 Q88.0984 669.329 93.9086 669.329 Z\" fill=\"#000000\" fill-rule=\"evenodd\" fill-opacity=\"1\" /><path clip-path=\"url(#clip610)\" d=\"M124.07 673.033 Q120.459 673.033 118.631 676.598 Q116.825 680.14 116.825 687.269 Q116.825 694.376 118.631 697.94 Q120.459 701.482 124.07 701.482 Q127.705 701.482 129.51 697.94 Q131.339 694.376 131.339 687.269 Q131.339 680.14 129.51 676.598 Q127.705 673.033 124.07 673.033 M124.07 669.329 Q129.881 669.329 132.936 673.936 Q136.015 678.519 136.015 687.269 Q136.015 695.996 132.936 700.602 Q129.881 705.186 124.07 705.186 Q118.26 705.186 115.182 700.602 Q112.126 695.996 112.126 687.269 Q112.126 678.519 115.182 673.936 Q118.26 669.329 124.07 669.329 Z\" fill=\"#000000\" fill-rule=\"evenodd\" fill-opacity=\"1\" /><path clip-path=\"url(#clip610)\" d=\"M154.232 673.033 Q150.621 673.033 148.793 676.598 Q146.987 680.14 146.987 687.269 Q146.987 694.376 148.793 697.94 Q150.621 701.482 154.232 701.482 Q157.867 701.482 159.672 697.94 Q161.501 694.376 161.501 687.269 Q161.501 680.14 159.672 676.598 Q157.867 673.033 154.232 673.033 M154.232 669.329 Q160.042 669.329 163.098 673.936 Q166.177 678.519 166.177 687.269 Q166.177 695.996 163.098 700.602 Q160.042 705.186 154.232 705.186 Q148.422 705.186 145.343 700.602 Q142.288 695.996 142.288 687.269 Q142.288 678.519 145.343 673.936 Q148.422 669.329 154.232 669.329 Z\" fill=\"#000000\" fill-rule=\"evenodd\" fill-opacity=\"1\" /><path clip-path=\"url(#clip610)\" d=\"M63.7467 347.518 Q60.4134 347.518 58.4921 349.301 Q56.5939 351.083 56.5939 354.208 Q56.5939 357.333 58.4921 359.115 Q60.4134 360.898 63.7467 360.898 Q67.08 360.898 69.0013 359.115 Q70.9226 357.31 70.9226 354.208 Q70.9226 351.083 69.0013 349.301 Q67.1032 347.518 63.7467 347.518 M59.0708 345.527 Q56.0615 344.787 54.3717 342.726 Q52.7051 340.666 52.7051 337.703 Q52.7051 333.56 55.6449 331.152 Q58.6078 328.745 63.7467 328.745 Q68.9087 328.745 71.8485 331.152 Q74.7883 333.56 74.7883 337.703 Q74.7883 340.666 73.0985 342.726 Q71.4318 344.787 68.4457 345.527 Q71.8253 346.314 73.7003 348.606 Q75.5985 350.898 75.5985 354.208 Q75.5985 359.231 72.5198 361.916 Q69.4642 364.601 63.7467 364.601 Q58.0291 364.601 54.9504 361.916 Q51.8949 359.231 51.8949 354.208 Q51.8949 350.898 53.793 348.606 Q55.6912 346.314 59.0708 345.527 M57.3578 338.143 Q57.3578 340.828 59.0245 342.333 Q60.7143 343.838 63.7467 343.838 Q66.7559 343.838 68.4457 342.333 Q70.1587 340.828 70.1587 338.143 Q70.1587 335.458 68.4457 333.953 Q66.7559 332.449 63.7467 332.449 Q60.7143 332.449 59.0245 333.953 Q57.3578 335.458 57.3578 338.143 Z\" fill=\"#000000\" fill-rule=\"evenodd\" fill-opacity=\"1\" /><path clip-path=\"url(#clip610)\" d=\"M93.9086 332.449 Q90.2975 332.449 88.4688 336.014 Q86.6632 339.555 86.6632 346.685 Q86.6632 353.791 88.4688 357.356 Q90.2975 360.898 93.9086 360.898 Q97.5428 360.898 99.3483 357.356 Q101.177 353.791 101.177 346.685 Q101.177 339.555 99.3483 336.014 Q97.5428 332.449 93.9086 332.449 M93.9086 328.745 Q99.7187 328.745 102.774 333.352 Q105.853 337.935 105.853 346.685 Q105.853 355.412 102.774 360.018 Q99.7187 364.601 93.9086 364.601 Q88.0984 364.601 85.0197 360.018 Q81.9642 355.412 81.9642 346.685 Q81.9642 337.935 85.0197 333.352 Q88.0984 328.745 93.9086 328.745 Z\" fill=\"#000000\" fill-rule=\"evenodd\" fill-opacity=\"1\" /><path clip-path=\"url(#clip610)\" d=\"M124.07 332.449 Q120.459 332.449 118.631 336.014 Q116.825 339.555 116.825 346.685 Q116.825 353.791 118.631 357.356 Q120.459 360.898 124.07 360.898 Q127.705 360.898 129.51 357.356 Q131.339 353.791 131.339 346.685 Q131.339 339.555 129.51 336.014 Q127.705 332.449 124.07 332.449 M124.07 328.745 Q129.881 328.745 132.936 333.352 Q136.015 337.935 136.015 346.685 Q136.015 355.412 132.936 360.018 Q129.881 364.601 124.07 364.601 Q118.26 364.601 115.182 360.018 Q112.126 355.412 112.126 346.685 Q112.126 337.935 115.182 333.352 Q118.26 328.745 124.07 328.745 Z\" fill=\"#000000\" fill-rule=\"evenodd\" fill-opacity=\"1\" /><path clip-path=\"url(#clip610)\" d=\"M154.232 332.449 Q150.621 332.449 148.793 336.014 Q146.987 339.555 146.987 346.685 Q146.987 353.791 148.793 357.356 Q150.621 360.898 154.232 360.898 Q157.867 360.898 159.672 357.356 Q161.501 353.791 161.501 346.685 Q161.501 339.555 159.672 336.014 Q157.867 332.449 154.232 332.449 M154.232 328.745 Q160.042 328.745 163.098 333.352 Q166.177 337.935 166.177 346.685 Q166.177 355.412 163.098 360.018 Q160.042 364.601 154.232 364.601 Q148.422 364.601 145.343 360.018 Q142.288 355.412 142.288 346.685 Q142.288 337.935 145.343 333.352 Q148.422 328.745 154.232 328.745 Z\" fill=\"#000000\" fill-rule=\"evenodd\" fill-opacity=\"1\" /><polyline clip-path=\"url(#clip612)\" style=\"stroke:#009af9; stroke-linecap:butt; stroke-linejoin:round; stroke-width:4; stroke-opacity:1; fill:none\" points=\"\n  263.042,1057.45 364.485,1136.47 465.927,1194.19 567.369,1261.8 668.812,1324.13 770.254,1365.34 871.697,1405.7 973.139,1425.11 1074.58,1445.72 1176.02,1419.15 \n  1277.47,1367.38 1378.91,1283.26 1480.35,1196.07 1581.79,1075.16 1683.24,953.912 1784.68,849.012 1886.12,698.133 1987.56,579.099 2089.01,414.426 2190.45,247.881 \n  2291.89,87.9763 \n  \"/>\n<path clip-path=\"url(#clip610)\" d=\"\nM1989.69 198.898 L2281.07 198.898 L2281.07 95.2176 L1989.69 95.2176  Z\n  \" fill=\"#ffffff\" fill-rule=\"evenodd\" fill-opacity=\"1\"/>\n<polyline clip-path=\"url(#clip610)\" style=\"stroke:#000000; stroke-linecap:butt; stroke-linejoin:round; stroke-width:4; stroke-opacity:1; fill:none\" points=\"\n  1989.69,198.898 2281.07,198.898 2281.07,95.2176 1989.69,95.2176 1989.69,198.898 \n  \"/>\n<polyline clip-path=\"url(#clip610)\" style=\"stroke:#009af9; stroke-linecap:butt; stroke-linejoin:round; stroke-width:4; stroke-opacity:1; fill:none\" points=\"\n  2013.58,147.058 2156.95,147.058 \n  \"/>\n<path clip-path=\"url(#clip610)\" d=\"M2194.69 166.745 Q2192.89 171.375 2191.17 172.787 Q2189.46 174.199 2186.59 174.199 L2183.19 174.199 L2183.19 170.634 L2185.69 170.634 Q2187.45 170.634 2188.42 169.8 Q2189.39 168.967 2190.57 165.865 L2191.34 163.921 L2180.85 138.412 L2185.36 138.412 L2193.46 158.689 L2201.57 138.412 L2206.08 138.412 L2194.69 166.745 Z\" fill=\"#000000\" fill-rule=\"evenodd\" fill-opacity=\"1\" /><path clip-path=\"url(#clip610)\" d=\"M2213.37 160.402 L2221.01 160.402 L2221.01 134.037 L2212.7 135.703 L2212.7 131.444 L2220.96 129.778 L2225.64 129.778 L2225.64 160.402 L2233.28 160.402 L2233.28 164.338 L2213.37 164.338 L2213.37 160.402 Z\" fill=\"#000000\" fill-rule=\"evenodd\" fill-opacity=\"1\" /></svg>\n",
      "text/html": [
       "<?xml version=\"1.0\" encoding=\"utf-8\"?>\n",
       "<svg xmlns=\"http://www.w3.org/2000/svg\" xmlns:xlink=\"http://www.w3.org/1999/xlink\" width=\"600\" height=\"400\" viewBox=\"0 0 2400 1600\">\n",
       "<defs>\n",
       "  <clipPath id=\"clip660\">\n",
       "    <rect x=\"0\" y=\"0\" width=\"2400\" height=\"1600\"/>\n",
       "  </clipPath>\n",
       "</defs>\n",
       "<path clip-path=\"url(#clip660)\" d=\"\n",
       "M0 1600 L2400 1600 L2400 0 L0 0  Z\n",
       "  \" fill=\"#ffffff\" fill-rule=\"evenodd\" fill-opacity=\"1\"/>\n",
       "<defs>\n",
       "  <clipPath id=\"clip661\">\n",
       "    <rect x=\"480\" y=\"0\" width=\"1681\" height=\"1600\"/>\n",
       "  </clipPath>\n",
       "</defs>\n",
       "<path clip-path=\"url(#clip660)\" d=\"\n",
       "M202.177 1486.45 L2352.76 1486.45 L2352.76 47.2441 L202.177 47.2441  Z\n",
       "  \" fill=\"#ffffff\" fill-rule=\"evenodd\" fill-opacity=\"1\"/>\n",
       "<defs>\n",
       "  <clipPath id=\"clip662\">\n",
       "    <rect x=\"202\" y=\"47\" width=\"2152\" height=\"1440\"/>\n",
       "  </clipPath>\n",
       "</defs>\n",
       "<polyline clip-path=\"url(#clip662)\" style=\"stroke:#000000; stroke-linecap:butt; stroke-linejoin:round; stroke-width:2; stroke-opacity:0.1; fill:none\" points=\"\n",
       "  263.042,1486.45 263.042,47.2441 \n",
       "  \"/>\n",
       "<polyline clip-path=\"url(#clip662)\" style=\"stroke:#000000; stroke-linecap:butt; stroke-linejoin:round; stroke-width:2; stroke-opacity:0.1; fill:none\" points=\"\n",
       "  770.254,1486.45 770.254,47.2441 \n",
       "  \"/>\n",
       "<polyline clip-path=\"url(#clip662)\" style=\"stroke:#000000; stroke-linecap:butt; stroke-linejoin:round; stroke-width:2; stroke-opacity:0.1; fill:none\" points=\"\n",
       "  1277.47,1486.45 1277.47,47.2441 \n",
       "  \"/>\n",
       "<polyline clip-path=\"url(#clip662)\" style=\"stroke:#000000; stroke-linecap:butt; stroke-linejoin:round; stroke-width:2; stroke-opacity:0.1; fill:none\" points=\"\n",
       "  1784.68,1486.45 1784.68,47.2441 \n",
       "  \"/>\n",
       "<polyline clip-path=\"url(#clip662)\" style=\"stroke:#000000; stroke-linecap:butt; stroke-linejoin:round; stroke-width:2; stroke-opacity:0.1; fill:none\" points=\"\n",
       "  2291.89,1486.45 2291.89,47.2441 \n",
       "  \"/>\n",
       "<polyline clip-path=\"url(#clip660)\" style=\"stroke:#000000; stroke-linecap:butt; stroke-linejoin:round; stroke-width:4; stroke-opacity:1; fill:none\" points=\"\n",
       "  202.177,1486.45 2352.76,1486.45 \n",
       "  \"/>\n",
       "<polyline clip-path=\"url(#clip660)\" style=\"stroke:#000000; stroke-linecap:butt; stroke-linejoin:round; stroke-width:4; stroke-opacity:1; fill:none\" points=\"\n",
       "  263.042,1486.45 263.042,1467.55 \n",
       "  \"/>\n",
       "<polyline clip-path=\"url(#clip660)\" style=\"stroke:#000000; stroke-linecap:butt; stroke-linejoin:round; stroke-width:4; stroke-opacity:1; fill:none\" points=\"\n",
       "  770.254,1486.45 770.254,1467.55 \n",
       "  \"/>\n",
       "<polyline clip-path=\"url(#clip660)\" style=\"stroke:#000000; stroke-linecap:butt; stroke-linejoin:round; stroke-width:4; stroke-opacity:1; fill:none\" points=\"\n",
       "  1277.47,1486.45 1277.47,1467.55 \n",
       "  \"/>\n",
       "<polyline clip-path=\"url(#clip660)\" style=\"stroke:#000000; stroke-linecap:butt; stroke-linejoin:round; stroke-width:4; stroke-opacity:1; fill:none\" points=\"\n",
       "  1784.68,1486.45 1784.68,1467.55 \n",
       "  \"/>\n",
       "<polyline clip-path=\"url(#clip660)\" style=\"stroke:#000000; stroke-linecap:butt; stroke-linejoin:round; stroke-width:4; stroke-opacity:1; fill:none\" points=\"\n",
       "  2291.89,1486.45 2291.89,1467.55 \n",
       "  \"/>\n",
       "<path clip-path=\"url(#clip660)\" d=\"M225.346 1517.37 Q221.734 1517.37 219.906 1520.93 Q218.1 1524.47 218.1 1531.6 Q218.1 1538.71 219.906 1542.27 Q221.734 1545.82 225.346 1545.82 Q228.98 1545.82 230.785 1542.27 Q232.614 1538.71 232.614 1531.6 Q232.614 1524.47 230.785 1520.93 Q228.98 1517.37 225.346 1517.37 M225.346 1513.66 Q231.156 1513.66 234.211 1518.27 Q237.29 1522.85 237.29 1531.6 Q237.29 1540.33 234.211 1544.94 Q231.156 1549.52 225.346 1549.52 Q219.535 1549.52 216.457 1544.94 Q213.401 1540.33 213.401 1531.6 Q213.401 1522.85 216.457 1518.27 Q219.535 1513.66 225.346 1513.66 Z\" fill=\"#000000\" fill-rule=\"evenodd\" fill-opacity=\"1\" /><path clip-path=\"url(#clip660)\" d=\"M245.508 1542.97 L250.392 1542.97 L250.392 1548.85 L245.508 1548.85 L245.508 1542.97 Z\" fill=\"#000000\" fill-rule=\"evenodd\" fill-opacity=\"1\" /><path clip-path=\"url(#clip660)\" d=\"M270.577 1517.37 Q266.966 1517.37 265.137 1520.93 Q263.331 1524.47 263.331 1531.6 Q263.331 1538.71 265.137 1542.27 Q266.966 1545.82 270.577 1545.82 Q274.211 1545.82 276.017 1542.27 Q277.845 1538.71 277.845 1531.6 Q277.845 1524.47 276.017 1520.93 Q274.211 1517.37 270.577 1517.37 M270.577 1513.66 Q276.387 1513.66 279.443 1518.27 Q282.521 1522.85 282.521 1531.6 Q282.521 1540.33 279.443 1544.94 Q276.387 1549.52 270.577 1549.52 Q264.767 1549.52 261.688 1544.94 Q258.632 1540.33 258.632 1531.6 Q258.632 1522.85 261.688 1518.27 Q264.767 1513.66 270.577 1513.66 Z\" fill=\"#000000\" fill-rule=\"evenodd\" fill-opacity=\"1\" /><path clip-path=\"url(#clip660)\" d=\"M300.739 1517.37 Q297.128 1517.37 295.299 1520.93 Q293.493 1524.47 293.493 1531.6 Q293.493 1538.71 295.299 1542.27 Q297.128 1545.82 300.739 1545.82 Q304.373 1545.82 306.178 1542.27 Q308.007 1538.71 308.007 1531.6 Q308.007 1524.47 306.178 1520.93 Q304.373 1517.37 300.739 1517.37 M300.739 1513.66 Q306.549 1513.66 309.604 1518.27 Q312.683 1522.85 312.683 1531.6 Q312.683 1540.33 309.604 1544.94 Q306.549 1549.52 300.739 1549.52 Q294.929 1549.52 291.85 1544.94 Q288.794 1540.33 288.794 1531.6 Q288.794 1522.85 291.85 1518.27 Q294.929 1513.66 300.739 1513.66 Z\" fill=\"#000000\" fill-rule=\"evenodd\" fill-opacity=\"1\" /><path clip-path=\"url(#clip660)\" d=\"M733.055 1517.37 Q729.444 1517.37 727.616 1520.93 Q725.81 1524.47 725.81 1531.6 Q725.81 1538.71 727.616 1542.27 Q729.444 1545.82 733.055 1545.82 Q736.69 1545.82 738.495 1542.27 Q740.324 1538.71 740.324 1531.6 Q740.324 1524.47 738.495 1520.93 Q736.69 1517.37 733.055 1517.37 M733.055 1513.66 Q738.866 1513.66 741.921 1518.27 Q745 1522.85 745 1531.6 Q745 1540.33 741.921 1544.94 Q738.866 1549.52 733.055 1549.52 Q727.245 1549.52 724.167 1544.94 Q721.111 1540.33 721.111 1531.6 Q721.111 1522.85 724.167 1518.27 Q727.245 1513.66 733.055 1513.66 Z\" fill=\"#000000\" fill-rule=\"evenodd\" fill-opacity=\"1\" /><path clip-path=\"url(#clip660)\" d=\"M753.217 1542.97 L758.102 1542.97 L758.102 1548.85 L753.217 1548.85 L753.217 1542.97 Z\" fill=\"#000000\" fill-rule=\"evenodd\" fill-opacity=\"1\" /><path clip-path=\"url(#clip660)\" d=\"M772.314 1544.91 L788.634 1544.91 L788.634 1548.85 L766.689 1548.85 L766.689 1544.91 Q769.351 1542.16 773.935 1537.53 Q778.541 1532.88 779.722 1531.53 Q781.967 1529.01 782.847 1527.27 Q783.75 1525.51 783.75 1523.82 Q783.75 1521.07 781.805 1519.33 Q779.884 1517.6 776.782 1517.6 Q774.583 1517.6 772.129 1518.36 Q769.699 1519.13 766.921 1520.68 L766.921 1515.95 Q769.745 1514.82 772.199 1514.24 Q774.652 1513.66 776.689 1513.66 Q782.06 1513.66 785.254 1516.35 Q788.449 1519.03 788.449 1523.52 Q788.449 1525.65 787.638 1527.57 Q786.851 1529.47 784.745 1532.07 Q784.166 1532.74 781.064 1535.95 Q777.963 1539.15 772.314 1544.91 Z\" fill=\"#000000\" fill-rule=\"evenodd\" fill-opacity=\"1\" /><path clip-path=\"url(#clip660)\" d=\"M798.495 1514.29 L816.851 1514.29 L816.851 1518.22 L802.777 1518.22 L802.777 1526.7 Q803.796 1526.35 804.814 1526.19 Q805.833 1526 806.851 1526 Q812.638 1526 816.018 1529.17 Q819.397 1532.34 819.397 1537.76 Q819.397 1543.34 815.925 1546.44 Q812.453 1549.52 806.134 1549.52 Q803.958 1549.52 801.689 1549.15 Q799.444 1548.78 797.036 1548.04 L797.036 1543.34 Q799.12 1544.47 801.342 1545.03 Q803.564 1545.58 806.041 1545.58 Q810.046 1545.58 812.384 1543.48 Q814.722 1541.37 814.722 1537.76 Q814.722 1534.15 812.384 1532.04 Q810.046 1529.94 806.041 1529.94 Q804.166 1529.94 802.291 1530.35 Q800.439 1530.77 798.495 1531.65 L798.495 1514.29 Z\" fill=\"#000000\" fill-rule=\"evenodd\" fill-opacity=\"1\" /><path clip-path=\"url(#clip660)\" d=\"M1239.77 1517.37 Q1236.16 1517.37 1234.33 1520.93 Q1232.52 1524.47 1232.52 1531.6 Q1232.52 1538.71 1234.33 1542.27 Q1236.16 1545.82 1239.77 1545.82 Q1243.4 1545.82 1245.21 1542.27 Q1247.04 1538.71 1247.04 1531.6 Q1247.04 1524.47 1245.21 1520.93 Q1243.4 1517.37 1239.77 1517.37 M1239.77 1513.66 Q1245.58 1513.66 1248.64 1518.27 Q1251.71 1522.85 1251.71 1531.6 Q1251.71 1540.33 1248.64 1544.94 Q1245.58 1549.52 1239.77 1549.52 Q1233.96 1549.52 1230.88 1544.94 Q1227.83 1540.33 1227.83 1531.6 Q1227.83 1522.85 1230.88 1518.27 Q1233.96 1513.66 1239.77 1513.66 Z\" fill=\"#000000\" fill-rule=\"evenodd\" fill-opacity=\"1\" /><path clip-path=\"url(#clip660)\" d=\"M1259.93 1542.97 L1264.82 1542.97 L1264.82 1548.85 L1259.93 1548.85 L1259.93 1542.97 Z\" fill=\"#000000\" fill-rule=\"evenodd\" fill-opacity=\"1\" /><path clip-path=\"url(#clip660)\" d=\"M1275.05 1514.29 L1293.4 1514.29 L1293.4 1518.22 L1279.33 1518.22 L1279.33 1526.7 Q1280.35 1526.35 1281.37 1526.19 Q1282.39 1526 1283.4 1526 Q1289.19 1526 1292.57 1529.17 Q1295.95 1532.34 1295.95 1537.76 Q1295.95 1543.34 1292.48 1546.44 Q1289.01 1549.52 1282.69 1549.52 Q1280.51 1549.52 1278.24 1549.15 Q1276 1548.78 1273.59 1548.04 L1273.59 1543.34 Q1275.67 1544.47 1277.89 1545.03 Q1280.12 1545.58 1282.59 1545.58 Q1286.6 1545.58 1288.94 1543.48 Q1291.27 1541.37 1291.27 1537.76 Q1291.27 1534.15 1288.94 1532.04 Q1286.6 1529.94 1282.59 1529.94 Q1280.72 1529.94 1278.84 1530.35 Q1276.99 1530.77 1275.05 1531.65 L1275.05 1514.29 Z\" fill=\"#000000\" fill-rule=\"evenodd\" fill-opacity=\"1\" /><path clip-path=\"url(#clip660)\" d=\"M1315.16 1517.37 Q1311.55 1517.37 1309.72 1520.93 Q1307.92 1524.47 1307.92 1531.6 Q1307.92 1538.71 1309.72 1542.27 Q1311.55 1545.82 1315.16 1545.82 Q1318.8 1545.82 1320.6 1542.27 Q1322.43 1538.71 1322.43 1531.6 Q1322.43 1524.47 1320.6 1520.93 Q1318.8 1517.37 1315.16 1517.37 M1315.16 1513.66 Q1320.97 1513.66 1324.03 1518.27 Q1327.11 1522.85 1327.11 1531.6 Q1327.11 1540.33 1324.03 1544.94 Q1320.97 1549.52 1315.16 1549.52 Q1309.35 1549.52 1306.27 1544.94 Q1303.22 1540.33 1303.22 1531.6 Q1303.22 1522.85 1306.27 1518.27 Q1309.35 1513.66 1315.16 1513.66 Z\" fill=\"#000000\" fill-rule=\"evenodd\" fill-opacity=\"1\" /><path clip-path=\"url(#clip660)\" d=\"M1747.48 1517.37 Q1743.87 1517.37 1742.04 1520.93 Q1740.23 1524.47 1740.23 1531.6 Q1740.23 1538.71 1742.04 1542.27 Q1743.87 1545.82 1747.48 1545.82 Q1751.11 1545.82 1752.92 1542.27 Q1754.75 1538.71 1754.75 1531.6 Q1754.75 1524.47 1752.92 1520.93 Q1751.11 1517.37 1747.48 1517.37 M1747.48 1513.66 Q1753.29 1513.66 1756.35 1518.27 Q1759.42 1522.85 1759.42 1531.6 Q1759.42 1540.33 1756.35 1544.94 Q1753.29 1549.52 1747.48 1549.52 Q1741.67 1549.52 1738.59 1544.94 Q1735.54 1540.33 1735.54 1531.6 Q1735.54 1522.85 1738.59 1518.27 Q1741.67 1513.66 1747.48 1513.66 Z\" fill=\"#000000\" fill-rule=\"evenodd\" fill-opacity=\"1\" /><path clip-path=\"url(#clip660)\" d=\"M1767.64 1542.97 L1772.53 1542.97 L1772.53 1548.85 L1767.64 1548.85 L1767.64 1542.97 Z\" fill=\"#000000\" fill-rule=\"evenodd\" fill-opacity=\"1\" /><path clip-path=\"url(#clip660)\" d=\"M1781.53 1514.29 L1803.75 1514.29 L1803.75 1516.28 L1791.21 1548.85 L1786.32 1548.85 L1798.13 1518.22 L1781.53 1518.22 L1781.53 1514.29 Z\" fill=\"#000000\" fill-rule=\"evenodd\" fill-opacity=\"1\" /><path clip-path=\"url(#clip660)\" d=\"M1812.92 1514.29 L1831.28 1514.29 L1831.28 1518.22 L1817.2 1518.22 L1817.2 1526.7 Q1818.22 1526.35 1819.24 1526.19 Q1820.26 1526 1821.28 1526 Q1827.06 1526 1830.44 1529.17 Q1833.82 1532.34 1833.82 1537.76 Q1833.82 1543.34 1830.35 1546.44 Q1826.88 1549.52 1820.56 1549.52 Q1818.38 1549.52 1816.11 1549.15 Q1813.87 1548.78 1811.46 1548.04 L1811.46 1543.34 Q1813.54 1544.47 1815.77 1545.03 Q1817.99 1545.58 1820.47 1545.58 Q1824.47 1545.58 1826.81 1543.48 Q1829.15 1541.37 1829.15 1537.76 Q1829.15 1534.15 1826.81 1532.04 Q1824.47 1529.94 1820.47 1529.94 Q1818.59 1529.94 1816.72 1530.35 Q1814.86 1530.77 1812.92 1531.65 L1812.92 1514.29 Z\" fill=\"#000000\" fill-rule=\"evenodd\" fill-opacity=\"1\" /><path clip-path=\"url(#clip660)\" d=\"M2243.96 1544.91 L2251.6 1544.91 L2251.6 1518.55 L2243.29 1520.21 L2243.29 1515.95 L2251.56 1514.29 L2256.23 1514.29 L2256.23 1544.91 L2263.87 1544.91 L2263.87 1548.85 L2243.96 1548.85 L2243.96 1544.91 Z\" fill=\"#000000\" fill-rule=\"evenodd\" fill-opacity=\"1\" /><path clip-path=\"url(#clip660)\" d=\"M2273.31 1542.97 L2278.2 1542.97 L2278.2 1548.85 L2273.31 1548.85 L2273.31 1542.97 Z\" fill=\"#000000\" fill-rule=\"evenodd\" fill-opacity=\"1\" /><path clip-path=\"url(#clip660)\" d=\"M2298.38 1517.37 Q2294.77 1517.37 2292.94 1520.93 Q2291.14 1524.47 2291.14 1531.6 Q2291.14 1538.71 2292.94 1542.27 Q2294.77 1545.82 2298.38 1545.82 Q2302.02 1545.82 2303.82 1542.27 Q2305.65 1538.71 2305.65 1531.6 Q2305.65 1524.47 2303.82 1520.93 Q2302.02 1517.37 2298.38 1517.37 M2298.38 1513.66 Q2304.19 1513.66 2307.25 1518.27 Q2310.33 1522.85 2310.33 1531.6 Q2310.33 1540.33 2307.25 1544.94 Q2304.19 1549.52 2298.38 1549.52 Q2292.57 1549.52 2289.49 1544.94 Q2286.44 1540.33 2286.44 1531.6 Q2286.44 1522.85 2289.49 1518.27 Q2292.57 1513.66 2298.38 1513.66 Z\" fill=\"#000000\" fill-rule=\"evenodd\" fill-opacity=\"1\" /><path clip-path=\"url(#clip660)\" d=\"M2328.55 1517.37 Q2324.93 1517.37 2323.11 1520.93 Q2321.3 1524.47 2321.3 1531.6 Q2321.3 1538.71 2323.11 1542.27 Q2324.93 1545.82 2328.55 1545.82 Q2332.18 1545.82 2333.99 1542.27 Q2335.81 1538.71 2335.81 1531.6 Q2335.81 1524.47 2333.99 1520.93 Q2332.18 1517.37 2328.55 1517.37 M2328.55 1513.66 Q2334.36 1513.66 2337.41 1518.27 Q2340.49 1522.85 2340.49 1531.6 Q2340.49 1540.33 2337.41 1544.94 Q2334.36 1549.52 2328.55 1549.52 Q2322.74 1549.52 2319.66 1544.94 Q2316.6 1540.33 2316.6 1531.6 Q2316.6 1522.85 2319.66 1518.27 Q2322.74 1513.66 2328.55 1513.66 Z\" fill=\"#000000\" fill-rule=\"evenodd\" fill-opacity=\"1\" /><polyline clip-path=\"url(#clip662)\" style=\"stroke:#000000; stroke-linecap:butt; stroke-linejoin:round; stroke-width:2; stroke-opacity:0.1; fill:none\" points=\"\n",
       "  202.177,1368.4 2352.76,1368.4 \n",
       "  \"/>\n",
       "<polyline clip-path=\"url(#clip662)\" style=\"stroke:#000000; stroke-linecap:butt; stroke-linejoin:round; stroke-width:2; stroke-opacity:0.1; fill:none\" points=\"\n",
       "  202.177,1027.82 2352.76,1027.82 \n",
       "  \"/>\n",
       "<polyline clip-path=\"url(#clip662)\" style=\"stroke:#000000; stroke-linecap:butt; stroke-linejoin:round; stroke-width:2; stroke-opacity:0.1; fill:none\" points=\"\n",
       "  202.177,687.234 2352.76,687.234 \n",
       "  \"/>\n",
       "<polyline clip-path=\"url(#clip662)\" style=\"stroke:#000000; stroke-linecap:butt; stroke-linejoin:round; stroke-width:2; stroke-opacity:0.1; fill:none\" points=\"\n",
       "  202.177,346.65 2352.76,346.65 \n",
       "  \"/>\n",
       "<polyline clip-path=\"url(#clip660)\" style=\"stroke:#000000; stroke-linecap:butt; stroke-linejoin:round; stroke-width:4; stroke-opacity:1; fill:none\" points=\"\n",
       "  202.177,1486.45 202.177,47.2441 \n",
       "  \"/>\n",
       "<polyline clip-path=\"url(#clip660)\" style=\"stroke:#000000; stroke-linecap:butt; stroke-linejoin:round; stroke-width:4; stroke-opacity:1; fill:none\" points=\"\n",
       "  202.177,1368.4 221.074,1368.4 \n",
       "  \"/>\n",
       "<polyline clip-path=\"url(#clip660)\" style=\"stroke:#000000; stroke-linecap:butt; stroke-linejoin:round; stroke-width:4; stroke-opacity:1; fill:none\" points=\"\n",
       "  202.177,1027.82 221.074,1027.82 \n",
       "  \"/>\n",
       "<polyline clip-path=\"url(#clip660)\" style=\"stroke:#000000; stroke-linecap:butt; stroke-linejoin:round; stroke-width:4; stroke-opacity:1; fill:none\" points=\"\n",
       "  202.177,687.234 221.074,687.234 \n",
       "  \"/>\n",
       "<polyline clip-path=\"url(#clip660)\" style=\"stroke:#000000; stroke-linecap:butt; stroke-linejoin:round; stroke-width:4; stroke-opacity:1; fill:none\" points=\"\n",
       "  202.177,346.65 221.074,346.65 \n",
       "  \"/>\n",
       "<path clip-path=\"url(#clip660)\" d=\"M57.7745 1381.75 L74.0939 1381.75 L74.0939 1385.68 L52.1495 1385.68 L52.1495 1381.75 Q54.8115 1378.99 59.3949 1374.36 Q64.0013 1369.71 65.1819 1368.37 Q67.4272 1365.85 68.3068 1364.11 Q69.2096 1362.35 69.2096 1360.66 Q69.2096 1357.91 67.2652 1356.17 Q65.3439 1354.43 62.2421 1354.43 Q60.043 1354.43 57.5893 1355.2 Q55.1588 1355.96 52.381 1357.51 L52.381 1352.79 Q55.2051 1351.66 57.6588 1351.08 Q60.1124 1350.5 62.1495 1350.5 Q67.5198 1350.5 70.7142 1353.18 Q73.9087 1355.87 73.9087 1360.36 Q73.9087 1362.49 73.0985 1364.41 Q72.3115 1366.31 70.205 1368.9 Q69.6263 1369.57 66.5245 1372.79 Q63.4226 1375.98 57.7745 1381.75 Z\" fill=\"#000000\" fill-rule=\"evenodd\" fill-opacity=\"1\" /><path clip-path=\"url(#clip660)\" d=\"M93.9086 1354.2 Q90.2975 1354.2 88.4688 1357.77 Q86.6632 1361.31 86.6632 1368.44 Q86.6632 1375.54 88.4688 1379.11 Q90.2975 1382.65 93.9086 1382.65 Q97.5428 1382.65 99.3483 1379.11 Q101.177 1375.54 101.177 1368.44 Q101.177 1361.31 99.3483 1357.77 Q97.5428 1354.2 93.9086 1354.2 M93.9086 1350.5 Q99.7187 1350.5 102.774 1355.1 Q105.853 1359.69 105.853 1368.44 Q105.853 1377.16 102.774 1381.77 Q99.7187 1386.35 93.9086 1386.35 Q88.0984 1386.35 85.0197 1381.77 Q81.9642 1377.16 81.9642 1368.44 Q81.9642 1359.69 85.0197 1355.1 Q88.0984 1350.5 93.9086 1350.5 Z\" fill=\"#000000\" fill-rule=\"evenodd\" fill-opacity=\"1\" /><path clip-path=\"url(#clip660)\" d=\"M124.07 1354.2 Q120.459 1354.2 118.631 1357.77 Q116.825 1361.31 116.825 1368.44 Q116.825 1375.54 118.631 1379.11 Q120.459 1382.65 124.07 1382.65 Q127.705 1382.65 129.51 1379.11 Q131.339 1375.54 131.339 1368.44 Q131.339 1361.31 129.51 1357.77 Q127.705 1354.2 124.07 1354.2 M124.07 1350.5 Q129.881 1350.5 132.936 1355.1 Q136.015 1359.69 136.015 1368.44 Q136.015 1377.16 132.936 1381.77 Q129.881 1386.35 124.07 1386.35 Q118.26 1386.35 115.182 1381.77 Q112.126 1377.16 112.126 1368.44 Q112.126 1359.69 115.182 1355.1 Q118.26 1350.5 124.07 1350.5 Z\" fill=\"#000000\" fill-rule=\"evenodd\" fill-opacity=\"1\" /><path clip-path=\"url(#clip660)\" d=\"M154.232 1354.2 Q150.621 1354.2 148.793 1357.77 Q146.987 1361.31 146.987 1368.44 Q146.987 1375.54 148.793 1379.11 Q150.621 1382.65 154.232 1382.65 Q157.867 1382.65 159.672 1379.11 Q161.501 1375.54 161.501 1368.44 Q161.501 1361.31 159.672 1357.77 Q157.867 1354.2 154.232 1354.2 M154.232 1350.5 Q160.042 1350.5 163.098 1355.1 Q166.177 1359.69 166.177 1368.44 Q166.177 1377.16 163.098 1381.77 Q160.042 1386.35 154.232 1386.35 Q148.422 1386.35 145.343 1381.77 Q142.288 1377.16 142.288 1368.44 Q142.288 1359.69 145.343 1355.1 Q148.422 1350.5 154.232 1350.5 Z\" fill=\"#000000\" fill-rule=\"evenodd\" fill-opacity=\"1\" /><path clip-path=\"url(#clip660)\" d=\"M66.5939 1014.61 L54.7884 1033.06 L66.5939 1033.06 L66.5939 1014.61 M65.367 1010.54 L71.2466 1010.54 L71.2466 1033.06 L76.1772 1033.06 L76.1772 1036.95 L71.2466 1036.95 L71.2466 1045.1 L66.5939 1045.1 L66.5939 1036.95 L50.9921 1036.95 L50.9921 1032.44 L65.367 1010.54 Z\" fill=\"#000000\" fill-rule=\"evenodd\" fill-opacity=\"1\" /><path clip-path=\"url(#clip660)\" d=\"M93.9086 1013.62 Q90.2975 1013.62 88.4688 1017.18 Q86.6632 1020.72 86.6632 1027.85 Q86.6632 1034.96 88.4688 1038.52 Q90.2975 1042.07 93.9086 1042.07 Q97.5428 1042.07 99.3483 1038.52 Q101.177 1034.96 101.177 1027.85 Q101.177 1020.72 99.3483 1017.18 Q97.5428 1013.62 93.9086 1013.62 M93.9086 1009.91 Q99.7187 1009.91 102.774 1014.52 Q105.853 1019.1 105.853 1027.85 Q105.853 1036.58 102.774 1041.19 Q99.7187 1045.77 93.9086 1045.77 Q88.0984 1045.77 85.0197 1041.19 Q81.9642 1036.58 81.9642 1027.85 Q81.9642 1019.1 85.0197 1014.52 Q88.0984 1009.91 93.9086 1009.91 Z\" fill=\"#000000\" fill-rule=\"evenodd\" fill-opacity=\"1\" /><path clip-path=\"url(#clip660)\" d=\"M124.07 1013.62 Q120.459 1013.62 118.631 1017.18 Q116.825 1020.72 116.825 1027.85 Q116.825 1034.96 118.631 1038.52 Q120.459 1042.07 124.07 1042.07 Q127.705 1042.07 129.51 1038.52 Q131.339 1034.96 131.339 1027.85 Q131.339 1020.72 129.51 1017.18 Q127.705 1013.62 124.07 1013.62 M124.07 1009.91 Q129.881 1009.91 132.936 1014.52 Q136.015 1019.1 136.015 1027.85 Q136.015 1036.58 132.936 1041.19 Q129.881 1045.77 124.07 1045.77 Q118.26 1045.77 115.182 1041.19 Q112.126 1036.58 112.126 1027.85 Q112.126 1019.1 115.182 1014.52 Q118.26 1009.91 124.07 1009.91 Z\" fill=\"#000000\" fill-rule=\"evenodd\" fill-opacity=\"1\" /><path clip-path=\"url(#clip660)\" d=\"M154.232 1013.62 Q150.621 1013.62 148.793 1017.18 Q146.987 1020.72 146.987 1027.85 Q146.987 1034.96 148.793 1038.52 Q150.621 1042.07 154.232 1042.07 Q157.867 1042.07 159.672 1038.52 Q161.501 1034.96 161.501 1027.85 Q161.501 1020.72 159.672 1017.18 Q157.867 1013.62 154.232 1013.62 M154.232 1009.91 Q160.042 1009.91 163.098 1014.52 Q166.177 1019.1 166.177 1027.85 Q166.177 1036.58 163.098 1041.19 Q160.042 1045.77 154.232 1045.77 Q148.422 1045.77 145.343 1041.19 Q142.288 1036.58 142.288 1027.85 Q142.288 1019.1 145.343 1014.52 Q148.422 1009.91 154.232 1009.91 Z\" fill=\"#000000\" fill-rule=\"evenodd\" fill-opacity=\"1\" /><path clip-path=\"url(#clip660)\" d=\"M64.3254 685.371 Q61.1773 685.371 59.3254 687.524 Q57.4967 689.677 57.4967 693.426 Q57.4967 697.153 59.3254 699.329 Q61.1773 701.482 64.3254 701.482 Q67.4735 701.482 69.3022 699.329 Q71.1541 697.153 71.1541 693.426 Q71.1541 689.677 69.3022 687.524 Q67.4735 685.371 64.3254 685.371 M73.6077 670.718 L73.6077 674.978 Q71.8485 674.144 70.0429 673.704 Q68.2606 673.265 66.5013 673.265 Q61.8717 673.265 59.418 676.39 Q56.9875 679.515 56.6402 685.834 Q58.006 683.82 60.0662 682.755 Q62.1263 681.667 64.6032 681.667 Q69.8115 681.667 72.8207 684.839 Q75.8531 687.987 75.8531 693.426 Q75.8531 698.751 72.705 701.968 Q69.5568 705.186 64.3254 705.186 Q58.33 705.186 55.1588 700.602 Q51.9875 695.996 51.9875 687.269 Q51.9875 679.075 55.8764 674.214 Q59.7652 669.329 66.3161 669.329 Q68.0754 669.329 69.8578 669.677 Q71.6633 670.024 73.6077 670.718 Z\" fill=\"#000000\" fill-rule=\"evenodd\" fill-opacity=\"1\" /><path clip-path=\"url(#clip660)\" d=\"M93.9086 673.033 Q90.2975 673.033 88.4688 676.598 Q86.6632 680.14 86.6632 687.269 Q86.6632 694.376 88.4688 697.94 Q90.2975 701.482 93.9086 701.482 Q97.5428 701.482 99.3483 697.94 Q101.177 694.376 101.177 687.269 Q101.177 680.14 99.3483 676.598 Q97.5428 673.033 93.9086 673.033 M93.9086 669.329 Q99.7187 669.329 102.774 673.936 Q105.853 678.519 105.853 687.269 Q105.853 695.996 102.774 700.602 Q99.7187 705.186 93.9086 705.186 Q88.0984 705.186 85.0197 700.602 Q81.9642 695.996 81.9642 687.269 Q81.9642 678.519 85.0197 673.936 Q88.0984 669.329 93.9086 669.329 Z\" fill=\"#000000\" fill-rule=\"evenodd\" fill-opacity=\"1\" /><path clip-path=\"url(#clip660)\" d=\"M124.07 673.033 Q120.459 673.033 118.631 676.598 Q116.825 680.14 116.825 687.269 Q116.825 694.376 118.631 697.94 Q120.459 701.482 124.07 701.482 Q127.705 701.482 129.51 697.94 Q131.339 694.376 131.339 687.269 Q131.339 680.14 129.51 676.598 Q127.705 673.033 124.07 673.033 M124.07 669.329 Q129.881 669.329 132.936 673.936 Q136.015 678.519 136.015 687.269 Q136.015 695.996 132.936 700.602 Q129.881 705.186 124.07 705.186 Q118.26 705.186 115.182 700.602 Q112.126 695.996 112.126 687.269 Q112.126 678.519 115.182 673.936 Q118.26 669.329 124.07 669.329 Z\" fill=\"#000000\" fill-rule=\"evenodd\" fill-opacity=\"1\" /><path clip-path=\"url(#clip660)\" d=\"M154.232 673.033 Q150.621 673.033 148.793 676.598 Q146.987 680.14 146.987 687.269 Q146.987 694.376 148.793 697.94 Q150.621 701.482 154.232 701.482 Q157.867 701.482 159.672 697.94 Q161.501 694.376 161.501 687.269 Q161.501 680.14 159.672 676.598 Q157.867 673.033 154.232 673.033 M154.232 669.329 Q160.042 669.329 163.098 673.936 Q166.177 678.519 166.177 687.269 Q166.177 695.996 163.098 700.602 Q160.042 705.186 154.232 705.186 Q148.422 705.186 145.343 700.602 Q142.288 695.996 142.288 687.269 Q142.288 678.519 145.343 673.936 Q148.422 669.329 154.232 669.329 Z\" fill=\"#000000\" fill-rule=\"evenodd\" fill-opacity=\"1\" /><path clip-path=\"url(#clip660)\" d=\"M63.7467 347.518 Q60.4134 347.518 58.4921 349.301 Q56.5939 351.083 56.5939 354.208 Q56.5939 357.333 58.4921 359.115 Q60.4134 360.898 63.7467 360.898 Q67.08 360.898 69.0013 359.115 Q70.9226 357.31 70.9226 354.208 Q70.9226 351.083 69.0013 349.301 Q67.1032 347.518 63.7467 347.518 M59.0708 345.527 Q56.0615 344.787 54.3717 342.726 Q52.7051 340.666 52.7051 337.703 Q52.7051 333.56 55.6449 331.152 Q58.6078 328.745 63.7467 328.745 Q68.9087 328.745 71.8485 331.152 Q74.7883 333.56 74.7883 337.703 Q74.7883 340.666 73.0985 342.726 Q71.4318 344.787 68.4457 345.527 Q71.8253 346.314 73.7003 348.606 Q75.5985 350.898 75.5985 354.208 Q75.5985 359.231 72.5198 361.916 Q69.4642 364.601 63.7467 364.601 Q58.0291 364.601 54.9504 361.916 Q51.8949 359.231 51.8949 354.208 Q51.8949 350.898 53.793 348.606 Q55.6912 346.314 59.0708 345.527 M57.3578 338.143 Q57.3578 340.828 59.0245 342.333 Q60.7143 343.838 63.7467 343.838 Q66.7559 343.838 68.4457 342.333 Q70.1587 340.828 70.1587 338.143 Q70.1587 335.458 68.4457 333.953 Q66.7559 332.449 63.7467 332.449 Q60.7143 332.449 59.0245 333.953 Q57.3578 335.458 57.3578 338.143 Z\" fill=\"#000000\" fill-rule=\"evenodd\" fill-opacity=\"1\" /><path clip-path=\"url(#clip660)\" d=\"M93.9086 332.449 Q90.2975 332.449 88.4688 336.014 Q86.6632 339.555 86.6632 346.685 Q86.6632 353.791 88.4688 357.356 Q90.2975 360.898 93.9086 360.898 Q97.5428 360.898 99.3483 357.356 Q101.177 353.791 101.177 346.685 Q101.177 339.555 99.3483 336.014 Q97.5428 332.449 93.9086 332.449 M93.9086 328.745 Q99.7187 328.745 102.774 333.352 Q105.853 337.935 105.853 346.685 Q105.853 355.412 102.774 360.018 Q99.7187 364.601 93.9086 364.601 Q88.0984 364.601 85.0197 360.018 Q81.9642 355.412 81.9642 346.685 Q81.9642 337.935 85.0197 333.352 Q88.0984 328.745 93.9086 328.745 Z\" fill=\"#000000\" fill-rule=\"evenodd\" fill-opacity=\"1\" /><path clip-path=\"url(#clip660)\" d=\"M124.07 332.449 Q120.459 332.449 118.631 336.014 Q116.825 339.555 116.825 346.685 Q116.825 353.791 118.631 357.356 Q120.459 360.898 124.07 360.898 Q127.705 360.898 129.51 357.356 Q131.339 353.791 131.339 346.685 Q131.339 339.555 129.51 336.014 Q127.705 332.449 124.07 332.449 M124.07 328.745 Q129.881 328.745 132.936 333.352 Q136.015 337.935 136.015 346.685 Q136.015 355.412 132.936 360.018 Q129.881 364.601 124.07 364.601 Q118.26 364.601 115.182 360.018 Q112.126 355.412 112.126 346.685 Q112.126 337.935 115.182 333.352 Q118.26 328.745 124.07 328.745 Z\" fill=\"#000000\" fill-rule=\"evenodd\" fill-opacity=\"1\" /><path clip-path=\"url(#clip660)\" d=\"M154.232 332.449 Q150.621 332.449 148.793 336.014 Q146.987 339.555 146.987 346.685 Q146.987 353.791 148.793 357.356 Q150.621 360.898 154.232 360.898 Q157.867 360.898 159.672 357.356 Q161.501 353.791 161.501 346.685 Q161.501 339.555 159.672 336.014 Q157.867 332.449 154.232 332.449 M154.232 328.745 Q160.042 328.745 163.098 333.352 Q166.177 337.935 166.177 346.685 Q166.177 355.412 163.098 360.018 Q160.042 364.601 154.232 364.601 Q148.422 364.601 145.343 360.018 Q142.288 355.412 142.288 346.685 Q142.288 337.935 145.343 333.352 Q148.422 328.745 154.232 328.745 Z\" fill=\"#000000\" fill-rule=\"evenodd\" fill-opacity=\"1\" /><polyline clip-path=\"url(#clip662)\" style=\"stroke:#009af9; stroke-linecap:butt; stroke-linejoin:round; stroke-width:4; stroke-opacity:1; fill:none\" points=\"\n",
       "  263.042,1057.45 364.485,1136.47 465.927,1194.19 567.369,1261.8 668.812,1324.13 770.254,1365.34 871.697,1405.7 973.139,1425.11 1074.58,1445.72 1176.02,1419.15 \n",
       "  1277.47,1367.38 1378.91,1283.26 1480.35,1196.07 1581.79,1075.16 1683.24,953.912 1784.68,849.012 1886.12,698.133 1987.56,579.099 2089.01,414.426 2190.45,247.881 \n",
       "  2291.89,87.9763 \n",
       "  \"/>\n",
       "<path clip-path=\"url(#clip660)\" d=\"\n",
       "M1989.69 198.898 L2281.07 198.898 L2281.07 95.2176 L1989.69 95.2176  Z\n",
       "  \" fill=\"#ffffff\" fill-rule=\"evenodd\" fill-opacity=\"1\"/>\n",
       "<polyline clip-path=\"url(#clip660)\" style=\"stroke:#000000; stroke-linecap:butt; stroke-linejoin:round; stroke-width:4; stroke-opacity:1; fill:none\" points=\"\n",
       "  1989.69,198.898 2281.07,198.898 2281.07,95.2176 1989.69,95.2176 1989.69,198.898 \n",
       "  \"/>\n",
       "<polyline clip-path=\"url(#clip660)\" style=\"stroke:#009af9; stroke-linecap:butt; stroke-linejoin:round; stroke-width:4; stroke-opacity:1; fill:none\" points=\"\n",
       "  2013.58,147.058 2156.95,147.058 \n",
       "  \"/>\n",
       "<path clip-path=\"url(#clip660)\" d=\"M2194.69 166.745 Q2192.89 171.375 2191.17 172.787 Q2189.46 174.199 2186.59 174.199 L2183.19 174.199 L2183.19 170.634 L2185.69 170.634 Q2187.45 170.634 2188.42 169.8 Q2189.39 168.967 2190.57 165.865 L2191.34 163.921 L2180.85 138.412 L2185.36 138.412 L2193.46 158.689 L2201.57 138.412 L2206.08 138.412 L2194.69 166.745 Z\" fill=\"#000000\" fill-rule=\"evenodd\" fill-opacity=\"1\" /><path clip-path=\"url(#clip660)\" d=\"M2213.37 160.402 L2221.01 160.402 L2221.01 134.037 L2212.7 135.703 L2212.7 131.444 L2220.96 129.778 L2225.64 129.778 L2225.64 160.402 L2233.28 160.402 L2233.28 164.338 L2213.37 164.338 L2213.37 160.402 Z\" fill=\"#000000\" fill-rule=\"evenodd\" fill-opacity=\"1\" /></svg>\n"
      ]
     },
     "metadata": {},
     "output_type": "display_data"
    }
   ],
   "source": [
    "display(probs[difs .== minimum(difs)])\n",
    "plot(probs, difs)"
   ]
  },
  {
   "cell_type": "markdown",
   "metadata": {},
   "source": [
    "## Let's count attribute changes now"
   ]
  },
  {
   "cell_type": "code",
   "execution_count": 28,
   "metadata": {},
   "outputs": [
    {
     "data": {
      "text/plain": [
       "Dict{String, Set{Any}} with 12 entries:\n",
       "  \"premaritalsex_\" => Set([2, 3, 1])\n",
       "  \"ethnicity_1\"    => Set([4, 2, 3, 1])\n",
       "  \"hometown_1\"     => Set([2, 3, 1])\n",
       "  \"political_\"     => Set([2, 3, 1])\n",
       "  \"abortion_\"      => Set([2, 3, 1])\n",
       "  \"homosexual_\"    => Set([2, 3, 1])\n",
       "  \"marijuana_\"     => Set([2, 3, 1])\n",
       "  \"gender_1\"       => Set([2, 1])\n",
       "  \"gaymarriage_\"   => Set([2, 3, 1])\n",
       "  \"deathpen_\"      => Set([2, 3, 1])\n",
       "  \"euthanasia_\"    => Set([2, 3, 1])\n",
       "  \"age_1\"          => Set([2, 1])"
      ]
     },
     "metadata": {},
     "output_type": "display_data"
    }
   ],
   "source": [
    "#creating list of attributes\n",
    "list_of_attributes = Set([k for n in file[1].nodes for k in keys(file[1].nodes[n+1])])\n",
    "\n",
    "# creating possible attribute values\n",
    "attribute_values = Dict((attribute, Set() ) for attribute in list_of_attributes)\n",
    "\n",
    "for sem in 1:6\n",
    "    for node in file[sem].nodes()\n",
    "        for attribute in list_of_attributes\n",
    "            push!(attribute_values[attribute], convert(Int, file[sem].nodes[node + 1][attribute]))\n",
    "        end\n",
    "    end\n",
    "end\n",
    "\n",
    "attribute_values\n",
    "\n",
    "#To apply PCA or other analysis on all attributes (i.e. including ethnicity) \n",
    "#one would have to create an attribute for each race, that is is_1, is_2 etc. \n",
    "#Because this attribute is not ordered. "
   ]
  },
  {
   "cell_type": "code",
   "execution_count": 29,
   "metadata": {},
   "outputs": [
    {
     "data": {
      "text/plain": [
       "Dict{Int64, Matrix{Float64}} with 6 entries:\n",
       "  5 => [3.0 3.0 … 2.0 1.0; 3.0 3.0 … 2.0 2.0; … ; NaN NaN … NaN NaN; 1.0 3.0 … …\n",
       "  4 => [3.0 3.0 … 2.0 1.0; 3.0 3.0 … 2.0 1.0; … ; 1.0 1.0 … 1.0 1.0; 1.0 3.0 … …\n",
       "  6 => [NaN NaN … NaN NaN; 3.0 3.0 … 2.0 2.0; … ; NaN NaN … NaN NaN; NaN NaN … …\n",
       "  2 => [NaN NaN … NaN NaN; 3.0 3.0 … 2.0 2.0; … ; NaN NaN … NaN NaN; NaN NaN … …\n",
       "  3 => [3.0 3.0 … 2.0 1.0; 3.0 1.0 … 2.0 2.0; … ; NaN NaN … NaN NaN; NaN NaN … …\n",
       "  1 => [3.0 3.0 … 2.0 1.0; 2.0 2.0 … 2.0 1.0; … ; NaN NaN … NaN NaN; NaN NaN … …"
      ]
     },
     "metadata": {},
     "output_type": "display_data"
    }
   ],
   "source": [
    "#creating table of attribute values\n",
    "attributes = Dict((i, zeros(length(nodes), length(list_of_attributes))) for i in 1:6)\n",
    "# for i in 1:6\n",
    "#     attributes[i] = zeros(length(file[i].nodes), length(list_of_attributes))\n",
    "# end\n",
    "\n",
    "for sem in 1:6\n",
    "    for (i, node) in enumerate(nodes)\n",
    "        for (j, attribute) in enumerate(list_of_attributes)\n",
    "            if node in file[sem].nodes()\n",
    "                attributes[sem][i,j] = file[sem].nodes[node + 1][attribute]\n",
    "            else\n",
    "                attributes[sem][i,j] = NaN\n",
    "            end\n",
    "        end\n",
    "    end\n",
    "end\n",
    "attributes"
   ]
  },
  {
   "cell_type": "code",
   "execution_count": 30,
   "metadata": {},
   "outputs": [
    {
     "name": "stdout",
     "output_type": "stream",
     "text": [
      "Set([\"abortion_\", \"premaritalsex_\", \"homosexual_\", \"marijuana_\", \"euthanasia_\", \"gaymarriage_\", \"deathpen_\", \"political_\"])"
     ]
    },
    {
     "data": {
      "text/plain": [
       "Dict{Int64, Matrix{Float64}} with 6 entries:\n",
       "  5 => [3.0 3.0 … 3.0 1.0; 3.0 3.0 … 3.0 2.0; … ; NaN NaN … NaN NaN; 1.0 3.0 … …\n",
       "  4 => [3.0 3.0 … 3.0 1.0; 3.0 3.0 … 1.0 1.0; … ; 1.0 1.0 … 3.0 1.0; 1.0 3.0 … …\n",
       "  6 => [NaN NaN … NaN NaN; 3.0 3.0 … 3.0 2.0; … ; NaN NaN … NaN NaN; NaN NaN … …\n",
       "  2 => [NaN NaN … NaN NaN; 3.0 3.0 … 1.0 2.0; … ; NaN NaN … NaN NaN; NaN NaN … …\n",
       "  3 => [3.0 3.0 … 3.0 1.0; 3.0 1.0 … 1.0 2.0; … ; NaN NaN … NaN NaN; NaN NaN … …\n",
       "  1 => [3.0 3.0 … 3.0 1.0; 2.0 2.0 … 2.0 1.0; … ; NaN NaN … NaN NaN; NaN NaN … …"
      ]
     },
     "metadata": {},
     "output_type": "display_data"
    }
   ],
   "source": [
    "\n",
    "ord_list_of_attributes = setdiff(list_of_attributes, [\"ethnicity_1\", \"gender_1\", \"hometown_1\", \"age_1\"])\n",
    "print(ord_list_of_attributes)\n",
    "\n",
    "#creating table of attribute values\n",
    "ord_attributes = Dict((i, zeros(length(nodes), length(ord_list_of_attributes))) for i in 1:6)\n",
    "\n",
    "for sem in 1:6\n",
    "    for (i, node) in enumerate(nodes)\n",
    "        for (j, attribute) in enumerate(ord_list_of_attributes)\n",
    "            if node in file[sem].nodes()\n",
    "                ord_attributes[sem][i,j] = file[sem].nodes[node + 1][attribute]\n",
    "            else\n",
    "                ord_attributes[sem][i,j] = NaN\n",
    "            end\n",
    "        end\n",
    "    end\n",
    "end\n",
    "# for sem in range(1,7):\n",
    "#     for i, node in enumerate(data[sem].nodes()):\n",
    "#         for j, attribute in enumerate(ord_list_of_attributes):\n",
    "#             ord_attributes[sem][i,j] = data[sem].nodes[node][attribute]\n",
    "ord_attributes"
   ]
  },
  {
   "cell_type": "code",
   "execution_count": 31,
   "metadata": {},
   "outputs": [
    {
     "data": {
      "text/plain": [
       "count_attr_stays (generic function with 1 method)"
      ]
     },
     "metadata": {},
     "output_type": "display_data"
    }
   ],
   "source": [
    "# a change is a change of attribute from 1 to 2. a change from 1 to 3 are two changes. \n",
    "function count_attr_changes(ord_attributes)\n",
    "    sems = length(ord_attributes)\n",
    "    N = size(ord_attributes[1])[1]\n",
    "\n",
    "    changes = zeros(sems, sems)\n",
    "    max_change = zeros(sems, sems)\n",
    "\n",
    "    # for sem1 in 1:sems, sem2 in 1:sems\n",
    "    for i in 1:sems\n",
    "        for j in i:sems\n",
    "            attr_change = abs.(ord_attributes[i] .- ord_attributes[j])\n",
    "\n",
    "            changes[i,j] = sum(filter(!isnan, attr_change))\n",
    "            max_change[i,j] = length(filter(!isnan, attr_change))*2\n",
    "        end\n",
    "    end\n",
    "    return changes, max_change\n",
    "end\n",
    "\n",
    "# a change is a change of attribute from 1 to 2. a change from 1 to 3 are two changes. \n",
    "function count_attr_stays(ord_attributes)\n",
    "    sems = length(ord_attributes)\n",
    "    N = size(ord_attributes[1])[1]\n",
    "\n",
    "    stays = zeros(sems, sems)\n",
    "    max_stays = zeros(sems, sems)\n",
    "\n",
    "    # for sem1 in 1:sems, sem2 in 1:sems\n",
    "    for i in 1:sems\n",
    "        for j in i:sems\n",
    "            attr_stay = sum(ord_attributes[i] .== ord_attributes[j])\n",
    "\n",
    "            stays[i,j] = attr_stay\n",
    "            max_stays[i,j] = length(filter(!isnan, ord_attributes[i] .+ ord_attributes[j]))\n",
    "        end\n",
    "    end\n",
    "    return stays, max_stays\n",
    "end"
   ]
  },
  {
   "cell_type": "code",
   "execution_count": 32,
   "metadata": {},
   "outputs": [
    {
     "data": {
      "text/plain": [
       "6×6 Matrix{Float64}:\n",
       " 0.0  210.0  192.0  248.0  238.0  193.0\n",
       " 0.0    0.0  126.0  153.0  175.0  143.0\n",
       " 0.0    0.0    0.0  119.0  125.0  124.0\n",
       " 0.0    0.0    0.0    0.0  148.0  129.0\n",
       " 0.0    0.0    0.0    0.0    0.0  103.0\n",
       " 0.0    0.0    0.0    0.0    0.0    0.0"
      ]
     },
     "metadata": {},
     "output_type": "display_data"
    },
    {
     "data": {
      "text/plain": [
       "6×6 Matrix{Float64}:\n",
       " 1568.0  1376.0  1072.0  1360.0  1296.0  1008.0\n",
       "    0.0  1424.0  1040.0  1312.0  1248.0   960.0\n",
       "    0.0     0.0  1088.0  1072.0  1008.0   848.0\n",
       "    0.0     0.0     0.0  1424.0  1280.0   960.0\n",
       "    0.0     0.0     0.0     0.0  1360.0   992.0\n",
       "    0.0     0.0     0.0     0.0     0.0  1008.0"
      ]
     },
     "metadata": {},
     "output_type": "display_data"
    }
   ],
   "source": [
    "changes, max_change = count_attr_changes(ord_attributes)\n",
    "\n",
    "display(changes)\n",
    "display(max_change)"
   ]
  },
  {
   "cell_type": "code",
   "execution_count": 33,
   "metadata": {},
   "outputs": [
    {
     "data": {
      "text/plain": [
       "6×6 Matrix{Float64}:\n",
       "   0.0    0.152616    0.179104    0.182353    0.183642  0.191468\n",
       " NaN      0.0         0.121154    0.116616    0.140224  0.148958\n",
       " NaN    NaN           0.0         0.111007    0.124008  0.146226\n",
       " NaN    NaN         NaN           0.0         0.115625  0.134375\n",
       " NaN    NaN         NaN         NaN           0.0       0.103831\n",
       " NaN    NaN         NaN         NaN         NaN         0.0"
      ]
     },
     "metadata": {},
     "output_type": "display_data"
    }
   ],
   "source": [
    "changes ./ max_change"
   ]
  },
  {
   "cell_type": "code",
   "execution_count": 34,
   "metadata": {},
   "outputs": [
    {
     "data": {
      "text/plain": [
       "6×6 Matrix{Float64}:\n",
       " 784.0  525.0  388.0  491.0  462.0  361.0\n",
       "   0.0  712.0  421.0  531.0  485.0  372.0\n",
       "   0.0    0.0  544.0  440.0  404.0  331.0\n",
       "   0.0    0.0    0.0  712.0  522.0  378.0\n",
       "   0.0    0.0    0.0    0.0  680.0  412.0\n",
       "   0.0    0.0    0.0    0.0    0.0  504.0"
      ]
     },
     "metadata": {},
     "output_type": "display_data"
    },
    {
     "data": {
      "text/plain": [
       "6×6 Matrix{Float64}:\n",
       " 784.0  688.0  536.0  680.0  648.0  504.0\n",
       "   0.0  712.0  520.0  656.0  624.0  480.0\n",
       "   0.0    0.0  544.0  536.0  504.0  424.0\n",
       "   0.0    0.0    0.0  712.0  640.0  480.0\n",
       "   0.0    0.0    0.0    0.0  680.0  496.0\n",
       "   0.0    0.0    0.0    0.0    0.0  504.0"
      ]
     },
     "metadata": {},
     "output_type": "display_data"
    },
    {
     "data": {
      "text/plain": [
       "6×6 Matrix{Float64}:\n",
       "   1.0    0.763081    0.723881    0.722059    0.712963  0.71627\n",
       " NaN      1.0         0.809615    0.809451    0.777244  0.775\n",
       " NaN    NaN           1.0         0.820896    0.801587  0.78066\n",
       " NaN    NaN         NaN           1.0         0.815625  0.7875\n",
       " NaN    NaN         NaN         NaN           1.0       0.830645\n",
       " NaN    NaN         NaN         NaN         NaN         1.0"
      ]
     },
     "metadata": {},
     "output_type": "display_data"
    }
   ],
   "source": [
    "stays, max_stays = count_attr_stays(ord_attributes)\n",
    "\n",
    "display(stays)\n",
    "display(max_stays)\n",
    "display(stays ./ max_stays)"
   ]
  },
  {
   "cell_type": "markdown",
   "metadata": {},
   "source": [
    "## Now, let's see above only on triads"
   ]
  },
  {
   "cell_type": "code",
   "execution_count": 35,
   "metadata": {},
   "outputs": [
    {
     "data": {
      "text/plain": [
       "6×6 Matrix{Float64}:\n",
       " 0.0  128.0  146.0  169.0  151.0  151.0\n",
       " 0.0    0.0   94.0  107.0  108.0  114.0\n",
       " 0.0    0.0    0.0   91.0  102.0  111.0\n",
       " 0.0    0.0    0.0    0.0   93.0  104.0\n",
       " 0.0    0.0    0.0    0.0    0.0   76.0\n",
       " 0.0    0.0    0.0    0.0    0.0    0.0"
      ]
     },
     "metadata": {},
     "output_type": "display_data"
    },
    {
     "data": {
      "text/plain": [
       "6×6 Matrix{Float64}:\n",
       " 960.0  880.0  832.0  912.0  880.0  784.0\n",
       "   0.0  880.0  800.0  864.0  832.0  752.0\n",
       "   0.0    0.0  832.0  832.0  784.0  720.0\n",
       "   0.0    0.0    0.0  912.0  864.0  768.0\n",
       "   0.0    0.0    0.0    0.0  880.0  784.0\n",
       "   0.0    0.0    0.0    0.0    0.0  784.0"
      ]
     },
     "metadata": {},
     "output_type": "display_data"
    },
    {
     "data": {
      "text/plain": [
       "6×6 Matrix{Float64}:\n",
       "   0.0    0.145455    0.175481    0.185307    0.171591  0.192602\n",
       " NaN      0.0         0.1175      0.123843    0.129808  0.151596\n",
       " NaN    NaN           0.0         0.109375    0.130102  0.154167\n",
       " NaN    NaN         NaN           0.0         0.107639  0.135417\n",
       " NaN    NaN         NaN         NaN           0.0       0.0969388\n",
       " NaN    NaN         NaN         NaN         NaN         0.0"
      ]
     },
     "metadata": {},
     "output_type": "display_data"
    }
   ],
   "source": [
    "ord_attributes_triads = [ord_attributes[sem][triad_nodes, :] for sem in 1:6]\n",
    "\n",
    "changes, max_change = count_attr_changes(ord_attributes_triads)\n",
    "\n",
    "display(changes)\n",
    "display(max_change)\n",
    "display(changes ./ max_change)"
   ]
  },
  {
   "cell_type": "code",
   "execution_count": 36,
   "metadata": {},
   "outputs": [
    {
     "data": {
      "text/plain": [
       "6×6 Matrix{Float64}:\n",
       " 480.0  337.0  301.0  328.0  323.0  282.0\n",
       "   0.0  440.0  325.0  345.0  334.0  293.0\n",
       "   0.0    0.0  416.0  343.0  312.0  279.0\n",
       "   0.0    0.0    0.0  456.0  359.0  304.0\n",
       "   0.0    0.0    0.0    0.0  440.0  332.0\n",
       "   0.0    0.0    0.0    0.0    0.0  392.0"
      ]
     },
     "metadata": {},
     "output_type": "display_data"
    },
    {
     "data": {
      "text/plain": [
       "6×6 Matrix{Float64}:\n",
       " 480.0  440.0  416.0  456.0  440.0  392.0\n",
       "   0.0  440.0  400.0  432.0  416.0  376.0\n",
       "   0.0    0.0  416.0  416.0  392.0  360.0\n",
       "   0.0    0.0    0.0  456.0  432.0  384.0\n",
       "   0.0    0.0    0.0    0.0  440.0  392.0\n",
       "   0.0    0.0    0.0    0.0    0.0  392.0"
      ]
     },
     "metadata": {},
     "output_type": "display_data"
    },
    {
     "data": {
      "text/plain": [
       "6×6 Matrix{Float64}:\n",
       "   1.0    0.765909    0.723558    0.719298    0.734091  0.719388\n",
       " NaN      1.0         0.8125      0.798611    0.802885  0.779255\n",
       " NaN    NaN           1.0         0.824519    0.795918  0.775\n",
       " NaN    NaN         NaN           1.0         0.831019  0.791667\n",
       " NaN    NaN         NaN         NaN           1.0       0.846939\n",
       " NaN    NaN         NaN         NaN         NaN         1.0"
      ]
     },
     "metadata": {},
     "output_type": "display_data"
    }
   ],
   "source": [
    "stays, max_stays = count_attr_stays(ord_attributes_triads)\n",
    "\n",
    "display(stays)\n",
    "display(max_stays)\n",
    "display(stays ./ max_stays)"
   ]
  },
  {
   "cell_type": "markdown",
   "metadata": {},
   "source": [
    "Above is for all nodes that ever are in triads. Let's see thisresult for nodes that are currently inside triads. "
   ]
  },
  {
   "cell_type": "code",
   "execution_count": 98,
   "metadata": {},
   "outputs": [
    {
     "data": {
      "text/plain": [
       "4-element Vector{Float64}:\n",
       " NaN\n",
       " NaN\n",
       " NaN\n",
       " NaN"
      ]
     },
     "metadata": {},
     "output_type": "display_data"
    }
   ],
   "source": [
    "[ NaN for i=1:4]"
   ]
  },
  {
   "cell_type": "code",
   "execution_count": 101,
   "metadata": {},
   "outputs": [
    {
     "data": {
      "text/plain": [
       "get_attributes_only_triads (generic function with 1 method)"
      ]
     },
     "metadata": {},
     "output_type": "display_data"
    }
   ],
   "source": [
    "function get_attributes_only_triads(ord_attributes, triad_nodes, all_triads)\n",
    "    ord_attributes_only_triads = deepcopy(ord_attributes)\n",
    "\n",
    "    N = maximum(triad_nodes)\n",
    "\n",
    "    for sem in 1:6\n",
    "        triads = all_triads[sem]\n",
    "        nodes = unique([node for triad in triads for node in triad])\n",
    "\n",
    "        for n in 1:N\n",
    "            if !(n in nodes)\n",
    "                ord_attributes_only_triads[sem][n,:] = [ NaN for i=1:8]\n",
    "            end\n",
    "        end\n",
    "    end\n",
    "    return ord_attributes_only_triads\n",
    "end"
   ]
  },
  {
   "cell_type": "code",
   "execution_count": 103,
   "metadata": {},
   "outputs": [
    {
     "data": {
      "text/plain": [
       "6×6 Matrix{Float64}:\n",
       " 0.0  68.0  42.0  86.0  67.0  52.0\n",
       " 0.0   0.0  37.0  65.0  64.0  34.0\n",
       " 0.0   0.0   0.0  46.0  43.0  31.0\n",
       " 0.0   0.0   0.0   0.0  53.0  45.0\n",
       " 0.0   0.0   0.0   0.0   0.0  36.0\n",
       " 0.0   0.0   0.0   0.0   0.0   0.0"
      ]
     },
     "metadata": {},
     "output_type": "display_data"
    },
    {
     "data": {
      "text/plain": [
       "6×6 Matrix{Float64}:\n",
       " 736.0  464.0  288.0  448.0  416.0  288.0\n",
       "   0.0  672.0  400.0  576.0  528.0  336.0\n",
       "   0.0    0.0  400.0  400.0  368.0  336.0\n",
       "   0.0    0.0    0.0  752.0  560.0  352.0\n",
       "   0.0    0.0    0.0    0.0  592.0  352.0\n",
       "   0.0    0.0    0.0    0.0    0.0  400.0"
      ]
     },
     "metadata": {},
     "output_type": "display_data"
    },
    {
     "data": {
      "text/plain": [
       "6×6 Matrix{Float64}:\n",
       "   0.0    0.146552    0.145833    0.191964    0.161058   0.180556\n",
       " NaN      0.0         0.0925      0.112847    0.121212   0.10119\n",
       " NaN    NaN           0.0         0.115       0.116848   0.0922619\n",
       " NaN    NaN         NaN           0.0         0.0946429  0.127841\n",
       " NaN    NaN         NaN         NaN           0.0        0.102273\n",
       " NaN    NaN         NaN         NaN         NaN          0.0"
      ]
     },
     "metadata": {},
     "output_type": "display_data"
    }
   ],
   "source": [
    "ord_attributes_only_triads = get_attributes_only_triads(ord_attributes, triad_nodes, all_triads)\n",
    "\n",
    "changes, max_change = count_attr_changes(ord_attributes_only_triads)\n",
    "\n",
    "display(changes)\n",
    "display(max_change)\n",
    "display(changes ./ max_change)"
   ]
  },
  {
   "cell_type": "markdown",
   "metadata": {},
   "source": [
    "## Let's count how many edges between nodes in triads vanish"
   ]
  },
  {
   "cell_type": "code",
   "execution_count": 37,
   "metadata": {},
   "outputs": [
    {
     "data": {
      "text/plain": [
       "(65.0, 105.0, 76.0)"
      ]
     },
     "metadata": {},
     "output_type": "display_data"
    },
    {
     "data": {
      "text/plain": [
       "6×6 Matrix{Float64}:\n",
       " 1.0       0.471545  0.318966  0.353383  0.310606  0.3\n",
       " 0.471545  1.0       0.512195  0.572917  0.5       0.395604\n",
       " 0.318966  0.512195  1.0       0.556962  0.506494  0.477612\n",
       " 0.353383  0.572917  0.556962  1.0       0.643678  0.448276\n",
       " 0.310606  0.5       0.506494  0.643678  1.0       0.565789\n",
       " 0.3       0.395604  0.477612  0.448276  0.565789  1.0"
      ]
     },
     "metadata": {},
     "output_type": "display_data"
    },
    {
     "data": {
      "text/plain": [
       "6×6 Matrix{Float64}:\n",
       " 1.0  0.552381  0.352381  0.447619  0.390476  0.342857\n",
       " 0.0  1.0       0.552632  0.723684  0.631579  0.473684\n",
       " 0.0  0.0       1.0       0.916667  0.8125    0.666667\n",
       " 0.0  0.0       0.0       1.0       0.746667  0.52\n",
       " 0.0  0.0       0.0       0.0       1.0       0.632353\n",
       " 0.0  0.0       0.0       0.0       0.0       1.0"
      ]
     },
     "metadata": {},
     "output_type": "display_data"
    },
    {
     "data": {
      "text/plain": [
       "6×6 Matrix{Float64}:\n",
       " 0.0  47.0  68.0  58.0  64.0  69.0\n",
       " 0.0   0.0  34.0  21.0  28.0  40.0\n",
       " 0.0   0.0   0.0   4.0   9.0  16.0\n",
       " 0.0   0.0   0.0   0.0  19.0  36.0\n",
       " 0.0   0.0   0.0   0.0   0.0  25.0\n",
       " 0.0   0.0   0.0   0.0   0.0   0.0"
      ]
     },
     "metadata": {},
     "output_type": "display_data"
    }
   ],
   "source": [
    "As2\n",
    "\n",
    "i=1; inc = 1;\n",
    "display((sum(abs.(As2[i + inc] .- As2[i]))/2, sum(As2[i])/2, sum(As2[i+inc])/2))\n",
    "\n",
    "overlap_nodes_triads = zeros(6,6)\n",
    "for i in 1:6, j in 1:6\n",
    "    overlap_nodes_triads[i,j] = sum(As2[i].*As2[j]) / sum(sign.(As2[i] .+ As2[j]))\n",
    "end\n",
    "display(overlap_nodes_triads)\n",
    "\n",
    "#how many links vanish?\n",
    "not_vanish_nodes_triads = zeros(6,6)\n",
    "vanish_abs_nodes_triads = zeros(6,6)\n",
    "for i in 1:6\n",
    "    for j in i:6\n",
    "        not_vanish_nodes_triads[i,j] = sum(As2[i].*As2[j]) / sum(As2[i])\n",
    "        vanish_abs_nodes_triads[i,j] = (sum(As2[i]) - sum(As2[i].*As2[j]))/2\n",
    "    end\n",
    "end\n",
    "display(not_vanish_nodes_triads)\n",
    "display(vanish_abs_nodes_triads)\n"
   ]
  },
  {
   "cell_type": "code",
   "execution_count": 38,
   "metadata": {},
   "outputs": [
    {
     "data": {
      "text/plain": [
       "6×6 Matrix{Float64}:\n",
       " 0.0  128.0  146.0  169.0  151.0  151.0\n",
       " 0.0    0.0   94.0  107.0  108.0  114.0\n",
       " 0.0    0.0    0.0   91.0  102.0  111.0\n",
       " 0.0    0.0    0.0    0.0   93.0  104.0\n",
       " 0.0    0.0    0.0    0.0    0.0   76.0\n",
       " 0.0    0.0    0.0    0.0    0.0    0.0"
      ]
     },
     "metadata": {},
     "output_type": "display_data"
    },
    {
     "data": {
      "text/plain": [
       "6×6 Matrix{Float64}:\n",
       " NaN    2.7234    2.14706    2.91379    2.35938    2.18841\n",
       " NaN  NaN         2.76471    5.09524    3.85714    2.85\n",
       " NaN  NaN       NaN         22.75      11.3333     6.9375\n",
       " NaN  NaN       NaN        NaN          4.89474    2.88889\n",
       " NaN  NaN       NaN        NaN        NaN          3.04\n",
       " NaN  NaN       NaN        NaN        NaN        NaN"
      ]
     },
     "metadata": {},
     "output_type": "display_data"
    }
   ],
   "source": [
    "# display(vanish_abs_nodes_triads)\n",
    "display(changes)\n",
    "display(changes ./ vanish_abs_nodes_triads)\n",
    "\n",
    "# diff = changes .- triad_vanish_abs\n",
    "# [diff[i, i+1] for i in 1:5]"
   ]
  },
  {
   "cell_type": "code",
   "execution_count": 39,
   "metadata": {},
   "outputs": [
    {
     "name": "stdout",
     "output_type": "stream",
     "text": [
      "Total number of attribute changes from term to term: 482.0\n",
      "Total number of edges vanished from term to term: 129.0\n"
     ]
    },
    {
     "data": {
      "text/plain": [
       "0.21112929623567922"
      ]
     },
     "metadata": {},
     "output_type": "display_data"
    }
   ],
   "source": [
    "attr_tot = sum([changes[i, i+1] for i in 1:5])\n",
    "println(\"Total number of attribute changes from term to term: \" * string(attr_tot))\n",
    "edges_vanish_tot = sum([vanish_abs_nodes_triads[i, i+1] for i in 1:5])\n",
    "println(\"Total number of edges vanished from term to term: \" * string(edges_vanish_tot))\n",
    "\n",
    "pr = edges_vanish_tot / (edges_vanish_tot + attr_tot)"
   ]
  },
  {
   "cell_type": "markdown",
   "metadata": {},
   "source": [
    "## Let's calcualate what is the number of vanishing triad edges\n",
    "\n",
    "This is different from the previous point, because we will investigate not all edges of agents forming triads, but only edges from triads. "
   ]
  },
  {
   "cell_type": "code",
   "execution_count": 48,
   "metadata": {},
   "outputs": [
    {
     "name": "stderr",
     "output_type": "stream",
     "text": [
      "WARNING: using NetHeider.get_wedges_single_edges in module Main conflicts with an existing identifier.\n",
      "WARNING: using NetHeider.add_edges! in module Main conflicts with an existing identifier.\n"
     ]
    },
    {
     "data": {
      "text/plain": [
       "get_triad_transitions (generic function with 1 method)"
      ]
     },
     "metadata": {},
     "output_type": "display_data"
    }
   ],
   "source": [
    "include(projectdir(\"scripts\", \"notebooks_netsense_funs.jl\"))"
   ]
  },
  {
   "cell_type": "code",
   "execution_count": 76,
   "metadata": {},
   "outputs": [
    {
     "data": {
      "text/plain": [
       "form_triad_network (generic function with 2 methods)"
      ]
     },
     "metadata": {},
     "output_type": "display_data"
    }
   ],
   "source": [
    "function form_triad_network(all_triads, triad_nodes; all_triads_list = [])\n",
    "    if isempty(all_triads_list)\n",
    "        all_triads_list = unique([triad for triads in all_triads for triad in triads])\n",
    "    end\n",
    "\n",
    "    N2 = length(triad_nodes)\n",
    "    N = maximum(triad_nodes)\n",
    "\n",
    "    As3 = [zeros(Int, N,N) for i in 1:6]\n",
    "\n",
    "    for sem in 1:6\n",
    "        for triad in all_triads[sem]\n",
    "            i, j, k = triad\n",
    "            As3[sem][i,j] = As3[sem][j,i] = 1\n",
    "            As3[sem][i,k] = As3[sem][k,i] = 1\n",
    "            As3[sem][k,j] = As3[sem][j,k] = 1\n",
    "        end\n",
    "    end\n",
    "\n",
    "    return As3\n",
    "end"
   ]
  },
  {
   "cell_type": "code",
   "execution_count": 77,
   "metadata": {},
   "outputs": [
    {
     "data": {
      "text/plain": [
       "([144, 106, 50, 114, 82, 56], [210, 152, 96, 150, 136, 102])"
      ]
     },
     "metadata": {},
     "output_type": "display_data"
    }
   ],
   "source": [
    "As3 = form_triad_network(all_triads, triad_nodes);\n",
    "\n",
    "[sum(As3[sem]) for sem in 1:6], [sum(As2[sem]) for sem in 1:6]"
   ]
  },
  {
   "cell_type": "code",
   "execution_count": null,
   "metadata": {},
   "outputs": [],
   "source": [
    "function count_pos_neg_edges_triads_vanish(all_triads)\n",
    "\n",
    "threshold = 0.5\n",
    "aT = OrderedAttributes(8, threshold, 3)\n",
    "\n",
    "if isempty(all_triads_list)\n",
    "    all_triads_list = unique([triad for triads in all_triads for triad in triads])\n",
    "end\n",
    "T = length(all_triads_list)\n",
    "\n",
    "all_signs = [Symmetric(sign.(get_attribute_layer_weights(aT, attrs[i]))) .* 1. for i in 1:6]\n",
    "map(x-> x[x .== 0.] .= 1, all_signs)\n",
    "\n",
    "    triads_balanced_hist, _ = get_triads_history(all_triads_list, all_signs; all_triads = all_triads)"
   ]
  },
  {
   "cell_type": "code",
   "execution_count": 86,
   "metadata": {},
   "outputs": [
    {
     "data": {
      "text/plain": [
       "(53.0, 72.0, 53.0)"
      ]
     },
     "metadata": {},
     "output_type": "display_data"
    },
    {
     "data": {
      "text/plain": [
       "6×6 Matrix{Float64}:\n",
       " 1.0       0.404494  0.197531  0.252427  0.284091  0.190476\n",
       " 0.404494  1.0       0.444444  0.527778  0.516129  0.306452\n",
       " 0.197531  0.444444  1.0       0.438596  0.5       0.606061\n",
       " 0.252427  0.527778  0.438596  1.0       0.661017  0.370968\n",
       " 0.284091  0.516129  0.5       0.661017  1.0       0.533333\n",
       " 0.190476  0.306452  0.606061  0.370968  0.533333  1.0"
      ]
     },
     "metadata": {},
     "output_type": "display_data"
    },
    {
     "data": {
      "text/plain": [
       "6×6 Matrix{Float64}:\n",
       " 1.0  0.5  0.222222  0.361111  0.347222  0.222222\n",
       " 0.0  1.0  0.45283   0.716981  0.603774  0.358491\n",
       " 0.0  0.0  1.0       1.0       0.88      0.8\n",
       " 0.0  0.0  0.0       1.0       0.684211  0.403509\n",
       " 0.0  0.0  0.0       0.0       1.0       0.585366\n",
       " 0.0  0.0  0.0       0.0       0.0       1.0"
      ]
     },
     "metadata": {},
     "output_type": "display_data"
    },
    {
     "data": {
      "text/plain": [
       "6×6 Matrix{Float64}:\n",
       " 0.0  36.0  56.0  46.0  47.0  56.0\n",
       " 0.0   0.0  29.0  15.0  21.0  34.0\n",
       " 0.0   0.0   0.0   0.0   3.0   5.0\n",
       " 0.0   0.0   0.0   0.0  18.0  34.0\n",
       " 0.0   0.0   0.0   0.0   0.0  17.0\n",
       " 0.0   0.0   0.0   0.0   0.0   0.0"
      ]
     },
     "metadata": {},
     "output_type": "display_data"
    },
    {
     "data": {
      "text/plain": [
       "6×6 Matrix{Float64}:\n",
       " 0.0  17.0  9.0  31.0  16.0  12.0\n",
       " 0.0   0.0  1.0  19.0   9.0   9.0\n",
       " 0.0   0.0  0.0  32.0  19.0   8.0\n",
       " 0.0   0.0  0.0   0.0   2.0   5.0\n",
       " 0.0   0.0  0.0   0.0   0.0   4.0\n",
       " 0.0   0.0  0.0   0.0   0.0   0.0"
      ]
     },
     "metadata": {},
     "output_type": "display_data"
    }
   ],
   "source": [
    "As3\n",
    "\n",
    "i=1; inc = 1;\n",
    "display((sum(abs.(As3[i + inc] .- As3[i]))/2, sum(As3[i])/2, sum(As3[i+inc])/2))\n",
    "\n",
    "overlap_edges_triads = zeros(6,6)\n",
    "for i in 1:6, j in 1:6\n",
    "    overlap_edges_triads[i,j] = sum(As3[i].*As3[j]) / sum(sign.(As3[i] .+ As3[j]))\n",
    "end\n",
    "display(overlap_edges_triads)\n",
    "\n",
    "#how many links vanish?al\n",
    "not_vanish_edges_triads = zeros(6,6)\n",
    "vanish_abs_edges_triads = zeros(6,6)\n",
    "appearing_abs_edges_triads = zeros(6,6)\n",
    "for i in 1:6\n",
    "    for j in i:6\n",
    "        not_vanish_edges_triads[i,j] = sum(As3[i].*As3[j]) / sum(As3[i])\n",
    "        vanish_abs_edges_triads[i,j] = (sum(As3[i]) - sum(As3[i].*As3[j]))/2\n",
    "        appearing_abs_edges_triads[i,j] = (sum(As3[j]) - sum(As3[i].*As3[j]))/2\n",
    "    end\n",
    "end\n",
    "display(not_vanish_edges_triads)\n",
    "display(vanish_abs_edges_triads)\n",
    "display(appearing_abs_edges_triads)\n"
   ]
  },
  {
   "cell_type": "code",
   "execution_count": 104,
   "metadata": {},
   "outputs": [
    {
     "name": "stdout",
     "output_type": "stream",
     "text": [
      "Total number of attribute changes from term to term: 240.0\n",
      "Total number of edges vanished from term to term: 100.0\n"
     ]
    },
    {
     "data": {
      "text/plain": [
       "0.29411764705882354"
      ]
     },
     "metadata": {},
     "output_type": "display_data"
    }
   ],
   "source": [
    "attr_tot = sum([changes[i, i+1] for i in 1:5])\n",
    "println(\"Total number of attribute changes from term to term: \" * string(attr_tot))\n",
    "edges_vanish_tot = sum([vanish_abs_edges_triads[i, i+1] for i in 1:5])\n",
    "println(\"Total number of edges vanished from term to term: \" * string(edges_vanish_tot))\n",
    "\n",
    "pr = edges_vanish_tot / (edges_vanish_tot + attr_tot)"
   ]
  },
  {
   "cell_type": "code",
   "execution_count": 84,
   "metadata": {},
   "outputs": [
    {
     "data": {
      "text/plain": [
       "56.0"
      ]
     },
     "metadata": {},
     "output_type": "display_data"
    }
   ],
   "source": [
    "edges_appear_tot = sum([appearing_abs_edges_triads[i, i+1] for i in 1:5])"
   ]
  },
  {
   "cell_type": "markdown",
   "metadata": {},
   "source": [
    "## Let us calculate triad transitions including nans"
   ]
  },
  {
   "cell_type": "code",
   "execution_count": 120,
   "metadata": {},
   "outputs": [],
   "source": [
    "ths = [0:0.01:1...]\n",
    "bal_to_bals = []\n",
    "ubal_to_bals = []\n",
    "bal_to_bals2 = []\n",
    "ubal_to_bals2 = []\n",
    "bal_to_bals3 = []\n",
    "ubal_to_bals3 = []\n",
    "bal_to_ubals3 = []\n",
    "ubal_to_ubals3 = []\n",
    "bal_to_nots3 = []\n",
    "ubal_to_nots3 = []\n",
    "\n",
    "for th in ths\n",
    "    res = get_triad_transitions(all_triads, th, ord_attributes; all_triads_list = [] )\n",
    "    bal_to_bal = res[1][1,1] / sum(res[1][1,1:2])\n",
    "    ubal_to_bal = res[1][2,1] / sum(res[1][2,1:2])\n",
    "    bal_to_bal2 = res[3][1,1] / sum(res[3][1,1:2])\n",
    "    ubal_to_bal2 = res[3][2,1] / sum(res[3][2,1:2])\n",
    "    bal_to_bal3 = res[1][1,1] / sum(res[1][1,1:3])\n",
    "    ubal_to_bal3 = res[1][2,1] / sum(res[1][2,1:3])\n",
    "    bal_to_ubal3 = res[1][1,2] / sum(res[1][1,1:3])\n",
    "    ubal_to_ubal3 = res[1][2,2] / sum(res[1][2,1:3])\n",
    "    bal_to_not3 = res[1][1,3] / sum(res[1][1,1:3])\n",
    "    ubal_to_not3 = res[1][2,3] / sum(res[1][2,1:3])\n",
    "    \n",
    "    push!(bal_to_bals, bal_to_bal)\n",
    "    push!(ubal_to_bals, ubal_to_bal)\n",
    "    push!(bal_to_bals2, bal_to_bal2)\n",
    "    push!(ubal_to_bals2, ubal_to_bal2)\n",
    "    push!(bal_to_bals3, bal_to_bal3)\n",
    "    push!(ubal_to_bals3, ubal_to_bal3)\n",
    "    push!(bal_to_ubals3, bal_to_ubal3)\n",
    "    push!(ubal_to_ubals3, ubal_to_ubal3)\n",
    "    push!(bal_to_nots3, bal_to_not3)\n",
    "    push!(ubal_to_nots3, ubal_to_not3)\n",
    "end"
   ]
  },
  {
   "cell_type": "code",
   "execution_count": 110,
   "metadata": {},
   "outputs": [
    {
     "data": {
      "image/png": "[encoded data removed]",
      "image/svg+xml": "<?xml version=\"1.0\" encoding=\"utf-8\"?>\n<svg xmlns=\"http://www.w3.org/2000/svg\" xmlns:xlink=\"http://www.w3.org/1999/xlink\" width=\"600\" height=\"400\" viewBox=\"0 0 2400 1600\">\n<defs>\n  <clipPath id=\"clip680\">\n    <rect x=\"0\" y=\"0\" width=\"2400\" height=\"1600\"/>\n  </clipPath>\n</defs>\n<path clip-path=\"url(#clip680)\" d=\"\nM0 1600 L2400 1600 L2400 0 L0 0  Z\n  \" fill=\"#ffffff\" fill-rule=\"evenodd\" fill-opacity=\"1\"/>\n<defs>\n  <clipPath id=\"clip681\">\n    <rect x=\"480\" y=\"0\" width=\"1681\" height=\"1600\"/>\n  </clipPath>\n</defs>\n<path clip-path=\"url(#clip680)\" d=\"\nM186.274 1486.45 L2352.76 1486.45 L2352.76 47.2441 L186.274 47.2441  Z\n  \" fill=\"#ffffff\" fill-rule=\"evenodd\" fill-opacity=\"1\"/>\n<defs>\n  <clipPath id=\"clip682\">\n    <rect x=\"186\" y=\"47\" width=\"2167\" height=\"1440\"/>\n  </clipPath>\n</defs>\n<polyline clip-path=\"url(#clip682)\" style=\"stroke:#000000; stroke-linecap:butt; stroke-linejoin:round; stroke-width:2; stroke-opacity:0.1; fill:none\" points=\"\n  247.59,1486.45 247.59,47.2441 \n  \"/>\n<polyline clip-path=\"url(#clip682)\" style=\"stroke:#000000; stroke-linecap:butt; stroke-linejoin:round; stroke-width:2; stroke-opacity:0.1; fill:none\" points=\"\n  682.451,1486.45 682.451,47.2441 \n  \"/>\n<polyline clip-path=\"url(#clip682)\" style=\"stroke:#000000; stroke-linecap:butt; stroke-linejoin:round; stroke-width:2; stroke-opacity:0.1; fill:none\" points=\"\n  1117.31,1486.45 1117.31,47.2441 \n  \"/>\n<polyline clip-path=\"url(#clip682)\" style=\"stroke:#000000; stroke-linecap:butt; stroke-linejoin:round; stroke-width:2; stroke-opacity:0.1; fill:none\" points=\"\n  1552.18,1486.45 1552.18,47.2441 \n  \"/>\n<polyline clip-path=\"url(#clip682)\" style=\"stroke:#000000; stroke-linecap:butt; stroke-linejoin:round; stroke-width:2; stroke-opacity:0.1; fill:none\" points=\"\n  1987.04,1486.45 1987.04,47.2441 \n  \"/>\n<polyline clip-path=\"url(#clip680)\" style=\"stroke:#000000; stroke-linecap:butt; stroke-linejoin:round; stroke-width:4; stroke-opacity:1; fill:none\" points=\"\n  186.274,1486.45 2352.76,1486.45 \n  \"/>\n<polyline clip-path=\"url(#clip680)\" style=\"stroke:#000000; stroke-linecap:butt; stroke-linejoin:round; stroke-width:4; stroke-opacity:1; fill:none\" points=\"\n  247.59,1486.45 247.59,1467.55 \n  \"/>\n<polyline clip-path=\"url(#clip680)\" style=\"stroke:#000000; stroke-linecap:butt; stroke-linejoin:round; stroke-width:4; stroke-opacity:1; fill:none\" points=\"\n  682.451,1486.45 682.451,1467.55 \n  \"/>\n<polyline clip-path=\"url(#clip680)\" style=\"stroke:#000000; stroke-linecap:butt; stroke-linejoin:round; stroke-width:4; stroke-opacity:1; fill:none\" points=\"\n  1117.31,1486.45 1117.31,1467.55 \n  \"/>\n<polyline clip-path=\"url(#clip680)\" style=\"stroke:#000000; stroke-linecap:butt; stroke-linejoin:round; stroke-width:4; stroke-opacity:1; fill:none\" points=\"\n  1552.18,1486.45 1552.18,1467.55 \n  \"/>\n<polyline clip-path=\"url(#clip680)\" style=\"stroke:#000000; stroke-linecap:butt; stroke-linejoin:round; stroke-width:4; stroke-opacity:1; fill:none\" points=\"\n  1987.04,1486.45 1987.04,1467.55 \n  \"/>\n<path clip-path=\"url(#clip680)\" d=\"M224.974 1517.37 Q221.363 1517.37 219.534 1520.93 Q217.729 1524.47 217.729 1531.6 Q217.729 1538.71 219.534 1542.27 Q221.363 1545.82 224.974 1545.82 Q228.608 1545.82 230.414 1542.27 Q232.242 1538.71 232.242 1531.6 Q232.242 1524.47 230.414 1520.93 Q228.608 1517.37 224.974 1517.37 M224.974 1513.66 Q230.784 1513.66 233.84 1518.27 Q236.918 1522.85 236.918 1531.6 Q236.918 1540.33 233.84 1544.94 Q230.784 1549.52 224.974 1549.52 Q219.164 1549.52 216.085 1544.94 Q213.03 1540.33 213.03 1531.6 Q213.03 1522.85 216.085 1518.27 Q219.164 1513.66 224.974 1513.66 Z\" fill=\"#000000\" fill-rule=\"evenodd\" fill-opacity=\"1\" /><path clip-path=\"url(#clip680)\" d=\"M245.136 1542.97 L250.02 1542.97 L250.02 1548.85 L245.136 1548.85 L245.136 1542.97 Z\" fill=\"#000000\" fill-rule=\"evenodd\" fill-opacity=\"1\" /><path clip-path=\"url(#clip680)\" d=\"M270.205 1517.37 Q266.594 1517.37 264.765 1520.93 Q262.96 1524.47 262.96 1531.6 Q262.96 1538.71 264.765 1542.27 Q266.594 1545.82 270.205 1545.82 Q273.839 1545.82 275.645 1542.27 Q277.474 1538.71 277.474 1531.6 Q277.474 1524.47 275.645 1520.93 Q273.839 1517.37 270.205 1517.37 M270.205 1513.66 Q276.015 1513.66 279.071 1518.27 Q282.15 1522.85 282.15 1531.6 Q282.15 1540.33 279.071 1544.94 Q276.015 1549.52 270.205 1549.52 Q264.395 1549.52 261.316 1544.94 Q258.261 1540.33 258.261 1531.6 Q258.261 1522.85 261.316 1518.27 Q264.395 1513.66 270.205 1513.66 Z\" fill=\"#000000\" fill-rule=\"evenodd\" fill-opacity=\"1\" /><path clip-path=\"url(#clip680)\" d=\"M660.634 1517.37 Q657.023 1517.37 655.195 1520.93 Q653.389 1524.47 653.389 1531.6 Q653.389 1538.71 655.195 1542.27 Q657.023 1545.82 660.634 1545.82 Q664.269 1545.82 666.074 1542.27 Q667.903 1538.71 667.903 1531.6 Q667.903 1524.47 666.074 1520.93 Q664.269 1517.37 660.634 1517.37 M660.634 1513.66 Q666.445 1513.66 669.5 1518.27 Q672.579 1522.85 672.579 1531.6 Q672.579 1540.33 669.5 1544.94 Q666.445 1549.52 660.634 1549.52 Q654.824 1549.52 651.746 1544.94 Q648.69 1540.33 648.69 1531.6 Q648.69 1522.85 651.746 1518.27 Q654.824 1513.66 660.634 1513.66 Z\" fill=\"#000000\" fill-rule=\"evenodd\" fill-opacity=\"1\" /><path clip-path=\"url(#clip680)\" d=\"M680.796 1542.97 L685.681 1542.97 L685.681 1548.85 L680.796 1548.85 L680.796 1542.97 Z\" fill=\"#000000\" fill-rule=\"evenodd\" fill-opacity=\"1\" /><path clip-path=\"url(#clip680)\" d=\"M699.893 1544.91 L716.213 1544.91 L716.213 1548.85 L694.268 1548.85 L694.268 1544.91 Q696.93 1542.16 701.514 1537.53 Q706.12 1532.88 707.301 1531.53 Q709.546 1529.01 710.426 1527.27 Q711.329 1525.51 711.329 1523.82 Q711.329 1521.07 709.384 1519.33 Q707.463 1517.6 704.361 1517.6 Q702.162 1517.6 699.708 1518.36 Q697.278 1519.13 694.5 1520.68 L694.5 1515.95 Q697.324 1514.82 699.778 1514.24 Q702.231 1513.66 704.268 1513.66 Q709.639 1513.66 712.833 1516.35 Q716.028 1519.03 716.028 1523.52 Q716.028 1525.65 715.217 1527.57 Q714.43 1529.47 712.324 1532.07 Q711.745 1532.74 708.643 1535.95 Q705.542 1539.15 699.893 1544.91 Z\" fill=\"#000000\" fill-rule=\"evenodd\" fill-opacity=\"1\" /><path clip-path=\"url(#clip680)\" d=\"M1094.45 1517.37 Q1090.84 1517.37 1089.01 1520.93 Q1087.21 1524.47 1087.21 1531.6 Q1087.21 1538.71 1089.01 1542.27 Q1090.84 1545.82 1094.45 1545.82 Q1098.09 1545.82 1099.89 1542.27 Q1101.72 1538.71 1101.72 1531.6 Q1101.72 1524.47 1099.89 1520.93 Q1098.09 1517.37 1094.45 1517.37 M1094.45 1513.66 Q1100.26 1513.66 1103.32 1518.27 Q1106.4 1522.85 1106.4 1531.6 Q1106.4 1540.33 1103.32 1544.94 Q1100.26 1549.52 1094.45 1549.52 Q1088.64 1549.52 1085.57 1544.94 Q1082.51 1540.33 1082.51 1531.6 Q1082.51 1522.85 1085.57 1518.27 Q1088.64 1513.66 1094.45 1513.66 Z\" fill=\"#000000\" fill-rule=\"evenodd\" fill-opacity=\"1\" /><path clip-path=\"url(#clip680)\" d=\"M1114.62 1542.97 L1119.5 1542.97 L1119.5 1548.85 L1114.62 1548.85 L1114.62 1542.97 Z\" fill=\"#000000\" fill-rule=\"evenodd\" fill-opacity=\"1\" /><path clip-path=\"url(#clip680)\" d=\"M1142.53 1518.36 L1130.73 1536.81 L1142.53 1536.81 L1142.53 1518.36 M1141.31 1514.29 L1147.19 1514.29 L1147.19 1536.81 L1152.12 1536.81 L1152.12 1540.7 L1147.19 1540.7 L1147.19 1548.85 L1142.53 1548.85 L1142.53 1540.7 L1126.93 1540.7 L1126.93 1536.19 L1141.31 1514.29 Z\" fill=\"#000000\" fill-rule=\"evenodd\" fill-opacity=\"1\" /><path clip-path=\"url(#clip680)\" d=\"M1529.48 1517.37 Q1525.87 1517.37 1524.04 1520.93 Q1522.23 1524.47 1522.23 1531.6 Q1522.23 1538.71 1524.04 1542.27 Q1525.87 1545.82 1529.48 1545.82 Q1533.11 1545.82 1534.92 1542.27 Q1536.75 1538.71 1536.75 1531.6 Q1536.75 1524.47 1534.92 1520.93 Q1533.11 1517.37 1529.48 1517.37 M1529.48 1513.66 Q1535.29 1513.66 1538.34 1518.27 Q1541.42 1522.85 1541.42 1531.6 Q1541.42 1540.33 1538.34 1544.94 Q1535.29 1549.52 1529.48 1549.52 Q1523.67 1549.52 1520.59 1544.94 Q1517.53 1540.33 1517.53 1531.6 Q1517.53 1522.85 1520.59 1518.27 Q1523.67 1513.66 1529.48 1513.66 Z\" fill=\"#000000\" fill-rule=\"evenodd\" fill-opacity=\"1\" /><path clip-path=\"url(#clip680)\" d=\"M1549.64 1542.97 L1554.52 1542.97 L1554.52 1548.85 L1549.64 1548.85 L1549.64 1542.97 Z\" fill=\"#000000\" fill-rule=\"evenodd\" fill-opacity=\"1\" /><path clip-path=\"url(#clip680)\" d=\"M1575.29 1529.7 Q1572.14 1529.7 1570.29 1531.86 Q1568.46 1534.01 1568.46 1537.76 Q1568.46 1541.49 1570.29 1543.66 Q1572.14 1545.82 1575.29 1545.82 Q1578.44 1545.82 1580.27 1543.66 Q1582.12 1541.49 1582.12 1537.76 Q1582.12 1534.01 1580.27 1531.86 Q1578.44 1529.7 1575.29 1529.7 M1584.57 1515.05 L1584.57 1519.31 Q1582.81 1518.48 1581.01 1518.04 Q1579.22 1517.6 1577.46 1517.6 Q1572.83 1517.6 1570.38 1520.72 Q1567.95 1523.85 1567.6 1530.17 Q1568.97 1528.15 1571.03 1527.09 Q1573.09 1526 1575.57 1526 Q1580.77 1526 1583.78 1529.17 Q1586.82 1532.32 1586.82 1537.76 Q1586.82 1543.08 1583.67 1546.3 Q1580.52 1549.52 1575.29 1549.52 Q1569.29 1549.52 1566.12 1544.94 Q1562.95 1540.33 1562.95 1531.6 Q1562.95 1523.41 1566.84 1518.55 Q1570.73 1513.66 1577.28 1513.66 Q1579.04 1513.66 1580.82 1514.01 Q1582.63 1514.36 1584.57 1515.05 Z\" fill=\"#000000\" fill-rule=\"evenodd\" fill-opacity=\"1\" /><path clip-path=\"url(#clip680)\" d=\"M1964.47 1517.37 Q1960.86 1517.37 1959.03 1520.93 Q1957.22 1524.47 1957.22 1531.6 Q1957.22 1538.71 1959.03 1542.27 Q1960.86 1545.82 1964.47 1545.82 Q1968.1 1545.82 1969.91 1542.27 Q1971.74 1538.71 1971.74 1531.6 Q1971.74 1524.47 1969.91 1520.93 Q1968.1 1517.37 1964.47 1517.37 M1964.47 1513.66 Q1970.28 1513.66 1973.33 1518.27 Q1976.41 1522.85 1976.41 1531.6 Q1976.41 1540.33 1973.33 1544.94 Q1970.28 1549.52 1964.47 1549.52 Q1958.66 1549.52 1955.58 1544.94 Q1952.52 1540.33 1952.52 1531.6 Q1952.52 1522.85 1955.58 1518.27 Q1958.66 1513.66 1964.47 1513.66 Z\" fill=\"#000000\" fill-rule=\"evenodd\" fill-opacity=\"1\" /><path clip-path=\"url(#clip680)\" d=\"M1984.63 1542.97 L1989.51 1542.97 L1989.51 1548.85 L1984.63 1548.85 L1984.63 1542.97 Z\" fill=\"#000000\" fill-rule=\"evenodd\" fill-opacity=\"1\" /><path clip-path=\"url(#clip680)\" d=\"M2009.7 1532.44 Q2006.37 1532.44 2004.44 1534.22 Q2002.55 1536 2002.55 1539.13 Q2002.55 1542.25 2004.44 1544.03 Q2006.37 1545.82 2009.7 1545.82 Q2013.03 1545.82 2014.95 1544.03 Q2016.87 1542.23 2016.87 1539.13 Q2016.87 1536 2014.95 1534.22 Q2013.06 1532.44 2009.7 1532.44 M2005.02 1530.45 Q2002.01 1529.7 2000.32 1527.64 Q1998.66 1525.58 1998.66 1522.62 Q1998.66 1518.48 2001.6 1516.07 Q2004.56 1513.66 2009.7 1513.66 Q2014.86 1513.66 2017.8 1516.07 Q2020.74 1518.48 2020.74 1522.62 Q2020.74 1525.58 2019.05 1527.64 Q2017.38 1529.7 2014.4 1530.45 Q2017.78 1531.23 2019.65 1533.52 Q2021.55 1535.82 2021.55 1539.13 Q2021.55 1544.15 2018.47 1546.83 Q2015.42 1549.52 2009.7 1549.52 Q2003.98 1549.52 2000.9 1546.83 Q1997.85 1544.15 1997.85 1539.13 Q1997.85 1535.82 1999.75 1533.52 Q2001.64 1531.23 2005.02 1530.45 M2003.31 1523.06 Q2003.31 1525.75 2004.98 1527.25 Q2006.67 1528.76 2009.7 1528.76 Q2012.71 1528.76 2014.4 1527.25 Q2016.11 1525.75 2016.11 1523.06 Q2016.11 1520.38 2014.4 1518.87 Q2012.71 1517.37 2009.7 1517.37 Q2006.67 1517.37 2004.98 1518.87 Q2003.31 1520.38 2003.31 1523.06 Z\" fill=\"#000000\" fill-rule=\"evenodd\" fill-opacity=\"1\" /><polyline clip-path=\"url(#clip682)\" style=\"stroke:#000000; stroke-linecap:butt; stroke-linejoin:round; stroke-width:2; stroke-opacity:0.1; fill:none\" points=\"\n  186.274,1469.96 2352.76,1469.96 \n  \"/>\n<polyline clip-path=\"url(#clip682)\" style=\"stroke:#000000; stroke-linecap:butt; stroke-linejoin:round; stroke-width:2; stroke-opacity:0.1; fill:none\" points=\"\n  186.274,1124.46 2352.76,1124.46 \n  \"/>\n<polyline clip-path=\"url(#clip682)\" style=\"stroke:#000000; stroke-linecap:butt; stroke-linejoin:round; stroke-width:2; stroke-opacity:0.1; fill:none\" points=\"\n  186.274,778.969 2352.76,778.969 \n  \"/>\n<polyline clip-path=\"url(#clip682)\" style=\"stroke:#000000; stroke-linecap:butt; stroke-linejoin:round; stroke-width:2; stroke-opacity:0.1; fill:none\" points=\"\n  186.274,433.472 2352.76,433.472 \n  \"/>\n<polyline clip-path=\"url(#clip682)\" style=\"stroke:#000000; stroke-linecap:butt; stroke-linejoin:round; stroke-width:2; stroke-opacity:0.1; fill:none\" points=\"\n  186.274,87.9763 2352.76,87.9763 \n  \"/>\n<polyline clip-path=\"url(#clip680)\" style=\"stroke:#000000; stroke-linecap:butt; stroke-linejoin:round; stroke-width:4; stroke-opacity:1; fill:none\" points=\"\n  186.274,1486.45 186.274,47.2441 \n  \"/>\n<polyline clip-path=\"url(#clip680)\" style=\"stroke:#000000; stroke-linecap:butt; stroke-linejoin:round; stroke-width:4; stroke-opacity:1; fill:none\" points=\"\n  186.274,1469.96 205.172,1469.96 \n  \"/>\n<polyline clip-path=\"url(#clip680)\" style=\"stroke:#000000; stroke-linecap:butt; stroke-linejoin:round; stroke-width:4; stroke-opacity:1; fill:none\" points=\"\n  186.274,1124.46 205.172,1124.46 \n  \"/>\n<polyline clip-path=\"url(#clip680)\" style=\"stroke:#000000; stroke-linecap:butt; stroke-linejoin:round; stroke-width:4; stroke-opacity:1; fill:none\" points=\"\n  186.274,778.969 205.172,778.969 \n  \"/>\n<polyline clip-path=\"url(#clip680)\" style=\"stroke:#000000; stroke-linecap:butt; stroke-linejoin:round; stroke-width:4; stroke-opacity:1; fill:none\" points=\"\n  186.274,433.472 205.172,433.472 \n  \"/>\n<polyline clip-path=\"url(#clip680)\" style=\"stroke:#000000; stroke-linecap:butt; stroke-linejoin:round; stroke-width:4; stroke-opacity:1; fill:none\" points=\"\n  186.274,87.9763 205.172,87.9763 \n  \"/>\n<path clip-path=\"url(#clip680)\" d=\"M62.9365 1455.76 Q59.3254 1455.76 57.4967 1459.32 Q55.6912 1462.87 55.6912 1470 Q55.6912 1477.1 57.4967 1480.67 Q59.3254 1484.21 62.9365 1484.21 Q66.5707 1484.21 68.3763 1480.67 Q70.205 1477.1 70.205 1470 Q70.205 1462.87 68.3763 1459.32 Q66.5707 1455.76 62.9365 1455.76 M62.9365 1452.06 Q68.7467 1452.06 71.8022 1456.66 Q74.8809 1461.25 74.8809 1470 Q74.8809 1478.72 71.8022 1483.33 Q68.7467 1487.91 62.9365 1487.91 Q57.1264 1487.91 54.0477 1483.33 Q50.9921 1478.72 50.9921 1470 Q50.9921 1461.25 54.0477 1456.66 Q57.1264 1452.06 62.9365 1452.06 Z\" fill=\"#000000\" fill-rule=\"evenodd\" fill-opacity=\"1\" /><path clip-path=\"url(#clip680)\" d=\"M83.0984 1481.36 L87.9827 1481.36 L87.9827 1487.24 L83.0984 1487.24 L83.0984 1481.36 Z\" fill=\"#000000\" fill-rule=\"evenodd\" fill-opacity=\"1\" /><path clip-path=\"url(#clip680)\" d=\"M108.168 1455.76 Q104.557 1455.76 102.728 1459.32 Q100.922 1462.87 100.922 1470 Q100.922 1477.1 102.728 1480.67 Q104.557 1484.21 108.168 1484.21 Q111.802 1484.21 113.608 1480.67 Q115.436 1477.1 115.436 1470 Q115.436 1462.87 113.608 1459.32 Q111.802 1455.76 108.168 1455.76 M108.168 1452.06 Q113.978 1452.06 117.033 1456.66 Q120.112 1461.25 120.112 1470 Q120.112 1478.72 117.033 1483.33 Q113.978 1487.91 108.168 1487.91 Q102.358 1487.91 99.2789 1483.33 Q96.2234 1478.72 96.2234 1470 Q96.2234 1461.25 99.2789 1456.66 Q102.358 1452.06 108.168 1452.06 Z\" fill=\"#000000\" fill-rule=\"evenodd\" fill-opacity=\"1\" /><path clip-path=\"url(#clip680)\" d=\"M138.33 1455.76 Q134.719 1455.76 132.89 1459.32 Q131.084 1462.87 131.084 1470 Q131.084 1477.1 132.89 1480.67 Q134.719 1484.21 138.33 1484.21 Q141.964 1484.21 143.769 1480.67 Q145.598 1477.1 145.598 1470 Q145.598 1462.87 143.769 1459.32 Q141.964 1455.76 138.33 1455.76 M138.33 1452.06 Q144.14 1452.06 147.195 1456.66 Q150.274 1461.25 150.274 1470 Q150.274 1478.72 147.195 1483.33 Q144.14 1487.91 138.33 1487.91 Q132.519 1487.91 129.441 1483.33 Q126.385 1478.72 126.385 1470 Q126.385 1461.25 129.441 1456.66 Q132.519 1452.06 138.33 1452.06 Z\" fill=\"#000000\" fill-rule=\"evenodd\" fill-opacity=\"1\" /><path clip-path=\"url(#clip680)\" d=\"M63.9319 1110.26 Q60.3208 1110.26 58.4921 1113.83 Q56.6865 1117.37 56.6865 1124.5 Q56.6865 1131.61 58.4921 1135.17 Q60.3208 1138.71 63.9319 1138.71 Q67.5661 1138.71 69.3717 1135.17 Q71.2004 1131.61 71.2004 1124.5 Q71.2004 1117.37 69.3717 1113.83 Q67.5661 1110.26 63.9319 1110.26 M63.9319 1106.56 Q69.742 1106.56 72.7976 1111.17 Q75.8763 1115.75 75.8763 1124.5 Q75.8763 1133.23 72.7976 1137.83 Q69.742 1142.42 63.9319 1142.42 Q58.1217 1142.42 55.043 1137.83 Q51.9875 1133.23 51.9875 1124.5 Q51.9875 1115.75 55.043 1111.17 Q58.1217 1106.56 63.9319 1106.56 Z\" fill=\"#000000\" fill-rule=\"evenodd\" fill-opacity=\"1\" /><path clip-path=\"url(#clip680)\" d=\"M84.0938 1135.87 L88.978 1135.87 L88.978 1141.74 L84.0938 1141.74 L84.0938 1135.87 Z\" fill=\"#000000\" fill-rule=\"evenodd\" fill-opacity=\"1\" /><path clip-path=\"url(#clip680)\" d=\"M103.191 1137.81 L119.51 1137.81 L119.51 1141.74 L97.566 1141.74 L97.566 1137.81 Q100.228 1135.06 104.811 1130.43 Q109.418 1125.77 110.598 1124.43 Q112.844 1121.91 113.723 1120.17 Q114.626 1118.41 114.626 1116.72 Q114.626 1113.97 112.682 1112.23 Q110.76 1110.5 107.658 1110.5 Q105.459 1110.5 103.006 1111.26 Q100.575 1112.02 97.7974 1113.57 L97.7974 1108.85 Q100.621 1107.72 103.075 1107.14 Q105.529 1106.56 107.566 1106.56 Q112.936 1106.56 116.131 1109.25 Q119.325 1111.93 119.325 1116.42 Q119.325 1118.55 118.515 1120.47 Q117.728 1122.37 115.621 1124.96 Q115.043 1125.63 111.941 1128.85 Q108.839 1132.05 103.191 1137.81 Z\" fill=\"#000000\" fill-rule=\"evenodd\" fill-opacity=\"1\" /><path clip-path=\"url(#clip680)\" d=\"M129.371 1107.18 L147.728 1107.18 L147.728 1111.12 L133.654 1111.12 L133.654 1119.59 Q134.672 1119.24 135.691 1119.08 Q136.709 1118.9 137.728 1118.9 Q143.515 1118.9 146.894 1122.07 Q150.274 1125.24 150.274 1130.66 Q150.274 1136.24 146.802 1139.34 Q143.33 1142.42 137.01 1142.42 Q134.834 1142.42 132.566 1142.05 Q130.32 1141.68 127.913 1140.93 L127.913 1136.24 Q129.996 1137.37 132.219 1137.93 Q134.441 1138.48 136.918 1138.48 Q140.922 1138.48 143.26 1136.37 Q145.598 1134.27 145.598 1130.66 Q145.598 1127.05 143.26 1124.94 Q140.922 1122.83 136.918 1122.83 Q135.043 1122.83 133.168 1123.25 Q131.316 1123.67 129.371 1124.55 L129.371 1107.18 Z\" fill=\"#000000\" fill-rule=\"evenodd\" fill-opacity=\"1\" /><path clip-path=\"url(#clip680)\" d=\"M62.9365 764.767 Q59.3254 764.767 57.4967 768.332 Q55.6912 771.874 55.6912 779.003 Q55.6912 786.11 57.4967 789.675 Q59.3254 793.216 62.9365 793.216 Q66.5707 793.216 68.3763 789.675 Q70.205 786.11 70.205 779.003 Q70.205 771.874 68.3763 768.332 Q66.5707 764.767 62.9365 764.767 M62.9365 761.064 Q68.7467 761.064 71.8022 765.67 Q74.8809 770.253 74.8809 779.003 Q74.8809 787.73 71.8022 792.337 Q68.7467 796.92 62.9365 796.92 Q57.1264 796.92 54.0477 792.337 Q50.9921 787.73 50.9921 779.003 Q50.9921 770.253 54.0477 765.67 Q57.1264 761.064 62.9365 761.064 Z\" fill=\"#000000\" fill-rule=\"evenodd\" fill-opacity=\"1\" /><path clip-path=\"url(#clip680)\" d=\"M83.0984 790.369 L87.9827 790.369 L87.9827 796.249 L83.0984 796.249 L83.0984 790.369 Z\" fill=\"#000000\" fill-rule=\"evenodd\" fill-opacity=\"1\" /><path clip-path=\"url(#clip680)\" d=\"M98.2141 761.689 L116.57 761.689 L116.57 765.624 L102.496 765.624 L102.496 774.096 Q103.515 773.749 104.534 773.587 Q105.552 773.402 106.571 773.402 Q112.358 773.402 115.737 776.573 Q119.117 779.744 119.117 785.161 Q119.117 790.739 115.645 793.841 Q112.172 796.92 105.853 796.92 Q103.677 796.92 101.409 796.55 Q99.1632 796.179 96.7558 795.438 L96.7558 790.739 Q98.8391 791.874 101.061 792.429 Q103.284 792.985 105.76 792.985 Q109.765 792.985 112.103 790.878 Q114.441 788.772 114.441 785.161 Q114.441 781.55 112.103 779.443 Q109.765 777.337 105.76 777.337 Q103.885 777.337 102.01 777.753 Q100.159 778.17 98.2141 779.05 L98.2141 761.689 Z\" fill=\"#000000\" fill-rule=\"evenodd\" fill-opacity=\"1\" /><path clip-path=\"url(#clip680)\" d=\"M138.33 764.767 Q134.719 764.767 132.89 768.332 Q131.084 771.874 131.084 779.003 Q131.084 786.11 132.89 789.675 Q134.719 793.216 138.33 793.216 Q141.964 793.216 143.769 789.675 Q145.598 786.11 145.598 779.003 Q145.598 771.874 143.769 768.332 Q141.964 764.767 138.33 764.767 M138.33 761.064 Q144.14 761.064 147.195 765.67 Q150.274 770.253 150.274 779.003 Q150.274 787.73 147.195 792.337 Q144.14 796.92 138.33 796.92 Q132.519 796.92 129.441 792.337 Q126.385 787.73 126.385 779.003 Q126.385 770.253 129.441 765.67 Q132.519 761.064 138.33 761.064 Z\" fill=\"#000000\" fill-rule=\"evenodd\" fill-opacity=\"1\" /><path clip-path=\"url(#clip680)\" d=\"M63.9319 419.271 Q60.3208 419.271 58.4921 422.836 Q56.6865 426.378 56.6865 433.507 Q56.6865 440.614 58.4921 444.178 Q60.3208 447.72 63.9319 447.72 Q67.5661 447.72 69.3717 444.178 Q71.2004 440.614 71.2004 433.507 Q71.2004 426.378 69.3717 422.836 Q67.5661 419.271 63.9319 419.271 M63.9319 415.567 Q69.742 415.567 72.7976 420.174 Q75.8763 424.757 75.8763 433.507 Q75.8763 442.234 72.7976 446.84 Q69.742 451.424 63.9319 451.424 Q58.1217 451.424 55.043 446.84 Q51.9875 442.234 51.9875 433.507 Q51.9875 424.757 55.043 420.174 Q58.1217 415.567 63.9319 415.567 Z\" fill=\"#000000\" fill-rule=\"evenodd\" fill-opacity=\"1\" /><path clip-path=\"url(#clip680)\" d=\"M84.0938 444.873 L88.978 444.873 L88.978 450.752 L84.0938 450.752 L84.0938 444.873 Z\" fill=\"#000000\" fill-rule=\"evenodd\" fill-opacity=\"1\" /><path clip-path=\"url(#clip680)\" d=\"M97.9826 416.192 L120.205 416.192 L120.205 418.183 L107.658 450.752 L102.774 450.752 L114.58 420.128 L97.9826 420.128 L97.9826 416.192 Z\" fill=\"#000000\" fill-rule=\"evenodd\" fill-opacity=\"1\" /><path clip-path=\"url(#clip680)\" d=\"M129.371 416.192 L147.728 416.192 L147.728 420.128 L133.654 420.128 L133.654 428.6 Q134.672 428.253 135.691 428.091 Q136.709 427.905 137.728 427.905 Q143.515 427.905 146.894 431.077 Q150.274 434.248 150.274 439.665 Q150.274 445.243 146.802 448.345 Q143.33 451.424 137.01 451.424 Q134.834 451.424 132.566 451.053 Q130.32 450.683 127.913 449.942 L127.913 445.243 Q129.996 446.377 132.219 446.933 Q134.441 447.489 136.918 447.489 Q140.922 447.489 143.26 445.382 Q145.598 443.276 145.598 439.665 Q145.598 436.053 143.26 433.947 Q140.922 431.841 136.918 431.841 Q135.043 431.841 133.168 432.257 Q131.316 432.674 129.371 433.553 L129.371 416.192 Z\" fill=\"#000000\" fill-rule=\"evenodd\" fill-opacity=\"1\" /><path clip-path=\"url(#clip680)\" d=\"M53.7467 101.321 L61.3856 101.321 L61.3856 74.9555 L53.0754 76.6222 L53.0754 72.3629 L61.3393 70.6963 L66.0152 70.6963 L66.0152 101.321 L73.654 101.321 L73.654 105.256 L53.7467 105.256 L53.7467 101.321 Z\" fill=\"#000000\" fill-rule=\"evenodd\" fill-opacity=\"1\" /><path clip-path=\"url(#clip680)\" d=\"M83.0984 99.3767 L87.9827 99.3767 L87.9827 105.256 L83.0984 105.256 L83.0984 99.3767 Z\" fill=\"#000000\" fill-rule=\"evenodd\" fill-opacity=\"1\" /><path clip-path=\"url(#clip680)\" d=\"M108.168 73.775 Q104.557 73.775 102.728 77.3398 Q100.922 80.8814 100.922 88.011 Q100.922 95.1174 102.728 98.6822 Q104.557 102.224 108.168 102.224 Q111.802 102.224 113.608 98.6822 Q115.436 95.1174 115.436 88.011 Q115.436 80.8814 113.608 77.3398 Q111.802 73.775 108.168 73.775 M108.168 70.0713 Q113.978 70.0713 117.033 74.6777 Q120.112 79.261 120.112 88.011 Q120.112 96.7378 117.033 101.344 Q113.978 105.928 108.168 105.928 Q102.358 105.928 99.2789 101.344 Q96.2234 96.7378 96.2234 88.011 Q96.2234 79.261 99.2789 74.6777 Q102.358 70.0713 108.168 70.0713 Z\" fill=\"#000000\" fill-rule=\"evenodd\" fill-opacity=\"1\" /><path clip-path=\"url(#clip680)\" d=\"M138.33 73.775 Q134.719 73.775 132.89 77.3398 Q131.084 80.8814 131.084 88.011 Q131.084 95.1174 132.89 98.6822 Q134.719 102.224 138.33 102.224 Q141.964 102.224 143.769 98.6822 Q145.598 95.1174 145.598 88.011 Q145.598 80.8814 143.769 77.3398 Q141.964 73.775 138.33 73.775 M138.33 70.0713 Q144.14 70.0713 147.195 74.6777 Q150.274 79.261 150.274 88.011 Q150.274 96.7378 147.195 101.344 Q144.14 105.928 138.33 105.928 Q132.519 105.928 129.441 101.344 Q126.385 96.7378 126.385 88.011 Q126.385 79.261 129.441 74.6777 Q132.519 70.0713 138.33 70.0713 Z\" fill=\"#000000\" fill-rule=\"evenodd\" fill-opacity=\"1\" /><polyline clip-path=\"url(#clip682)\" style=\"stroke:#009af9; stroke-linecap:butt; stroke-linejoin:round; stroke-width:4; stroke-opacity:1; fill:none\" points=\"\n  247.59,917.167 399.791,1193.56 530.25,597.129 660.708,622.938 791.167,371.46 943.369,458.753 1073.83,312.951 1204.29,238.192 1334.74,268.235 1486.95,392.013 \n  1617.4,313.606 1747.86,263.865 1878.32,134.823 2030.52,87.9763 2160.98,87.9763 2291.44,87.9763 \n  \"/>\n<circle clip-path=\"url(#clip682)\" cx=\"247.59\" cy=\"917.167\" r=\"14\" fill=\"#009af9\" fill-rule=\"evenodd\" fill-opacity=\"1\" stroke=\"#000000\" stroke-opacity=\"1\" stroke-width=\"3.2\"/>\n<circle clip-path=\"url(#clip682)\" cx=\"399.791\" cy=\"1193.56\" r=\"14\" fill=\"#009af9\" fill-rule=\"evenodd\" fill-opacity=\"1\" stroke=\"#000000\" stroke-opacity=\"1\" stroke-width=\"3.2\"/>\n<circle clip-path=\"url(#clip682)\" cx=\"530.25\" cy=\"597.129\" r=\"14\" fill=\"#009af9\" fill-rule=\"evenodd\" fill-opacity=\"1\" stroke=\"#000000\" stroke-opacity=\"1\" stroke-width=\"3.2\"/>\n<circle clip-path=\"url(#clip682)\" cx=\"660.708\" cy=\"622.938\" r=\"14\" fill=\"#009af9\" fill-rule=\"evenodd\" fill-opacity=\"1\" stroke=\"#000000\" stroke-opacity=\"1\" stroke-width=\"3.2\"/>\n<circle clip-path=\"url(#clip682)\" cx=\"791.167\" cy=\"371.46\" r=\"14\" fill=\"#009af9\" fill-rule=\"evenodd\" fill-opacity=\"1\" stroke=\"#000000\" stroke-opacity=\"1\" stroke-width=\"3.2\"/>\n<circle clip-path=\"url(#clip682)\" cx=\"943.369\" cy=\"458.753\" r=\"14\" fill=\"#009af9\" fill-rule=\"evenodd\" fill-opacity=\"1\" stroke=\"#000000\" stroke-opacity=\"1\" stroke-width=\"3.2\"/>\n<circle clip-path=\"url(#clip682)\" cx=\"1073.83\" cy=\"312.951\" r=\"14\" fill=\"#009af9\" fill-rule=\"evenodd\" fill-opacity=\"1\" stroke=\"#000000\" stroke-opacity=\"1\" stroke-width=\"3.2\"/>\n<circle clip-path=\"url(#clip682)\" cx=\"1204.29\" cy=\"238.192\" r=\"14\" fill=\"#009af9\" fill-rule=\"evenodd\" fill-opacity=\"1\" stroke=\"#000000\" stroke-opacity=\"1\" stroke-width=\"3.2\"/>\n<circle clip-path=\"url(#clip682)\" cx=\"1334.74\" cy=\"268.235\" r=\"14\" fill=\"#009af9\" fill-rule=\"evenodd\" fill-opacity=\"1\" stroke=\"#000000\" stroke-opacity=\"1\" stroke-width=\"3.2\"/>\n<circle clip-path=\"url(#clip682)\" cx=\"1486.95\" cy=\"392.013\" r=\"14\" fill=\"#009af9\" fill-rule=\"evenodd\" fill-opacity=\"1\" stroke=\"#000000\" stroke-opacity=\"1\" stroke-width=\"3.2\"/>\n<circle clip-path=\"url(#clip682)\" cx=\"1617.4\" cy=\"313.606\" r=\"14\" fill=\"#009af9\" fill-rule=\"evenodd\" fill-opacity=\"1\" stroke=\"#000000\" stroke-opacity=\"1\" stroke-width=\"3.2\"/>\n<circle clip-path=\"url(#clip682)\" cx=\"1747.86\" cy=\"263.865\" r=\"14\" fill=\"#009af9\" fill-rule=\"evenodd\" fill-opacity=\"1\" stroke=\"#000000\" stroke-opacity=\"1\" stroke-width=\"3.2\"/>\n<circle clip-path=\"url(#clip682)\" cx=\"1878.32\" cy=\"134.823\" r=\"14\" fill=\"#009af9\" fill-rule=\"evenodd\" fill-opacity=\"1\" stroke=\"#000000\" stroke-opacity=\"1\" stroke-width=\"3.2\"/>\n<circle clip-path=\"url(#clip682)\" cx=\"2030.52\" cy=\"87.9763\" r=\"14\" fill=\"#009af9\" fill-rule=\"evenodd\" fill-opacity=\"1\" stroke=\"#000000\" stroke-opacity=\"1\" stroke-width=\"3.2\"/>\n<circle clip-path=\"url(#clip682)\" cx=\"2160.98\" cy=\"87.9763\" r=\"14\" fill=\"#009af9\" fill-rule=\"evenodd\" fill-opacity=\"1\" stroke=\"#000000\" stroke-opacity=\"1\" stroke-width=\"3.2\"/>\n<circle clip-path=\"url(#clip682)\" cx=\"2291.44\" cy=\"87.9763\" r=\"14\" fill=\"#009af9\" fill-rule=\"evenodd\" fill-opacity=\"1\" stroke=\"#000000\" stroke-opacity=\"1\" stroke-width=\"3.2\"/>\n<polyline clip-path=\"url(#clip682)\" style=\"stroke:#e26f46; stroke-linecap:butt; stroke-linejoin:round; stroke-width:4; stroke-opacity:1; fill:none\" points=\"\n  247.59,1445.72 399.791,1363.65 530.25,1180.71 660.708,845.839 791.167,929.184 943.369,614.447 1073.83,451.656 1204.29,951.717 1334.74,606.221 1486.95,894.134 \n  1617.4,725.815 1747.86,87.9763 1878.32,87.9763 2030.52,87.9763 \n  \"/>\n<circle clip-path=\"url(#clip682)\" cx=\"247.59\" cy=\"1445.72\" r=\"14\" fill=\"#e26f46\" fill-rule=\"evenodd\" fill-opacity=\"1\" stroke=\"#000000\" stroke-opacity=\"1\" stroke-width=\"3.2\"/>\n<circle clip-path=\"url(#clip682)\" cx=\"399.791\" cy=\"1363.65\" r=\"14\" fill=\"#e26f46\" fill-rule=\"evenodd\" fill-opacity=\"1\" stroke=\"#000000\" stroke-opacity=\"1\" stroke-width=\"3.2\"/>\n<circle clip-path=\"url(#clip682)\" cx=\"530.25\" cy=\"1180.71\" r=\"14\" fill=\"#e26f46\" fill-rule=\"evenodd\" fill-opacity=\"1\" stroke=\"#000000\" stroke-opacity=\"1\" stroke-width=\"3.2\"/>\n<circle clip-path=\"url(#clip682)\" cx=\"660.708\" cy=\"845.839\" r=\"14\" fill=\"#e26f46\" fill-rule=\"evenodd\" fill-opacity=\"1\" stroke=\"#000000\" stroke-opacity=\"1\" stroke-width=\"3.2\"/>\n<circle clip-path=\"url(#clip682)\" cx=\"791.167\" cy=\"929.184\" r=\"14\" fill=\"#e26f46\" fill-rule=\"evenodd\" fill-opacity=\"1\" stroke=\"#000000\" stroke-opacity=\"1\" stroke-width=\"3.2\"/>\n<circle clip-path=\"url(#clip682)\" cx=\"943.369\" cy=\"614.447\" r=\"14\" fill=\"#e26f46\" fill-rule=\"evenodd\" fill-opacity=\"1\" stroke=\"#000000\" stroke-opacity=\"1\" stroke-width=\"3.2\"/>\n<circle clip-path=\"url(#clip682)\" cx=\"1073.83\" cy=\"451.656\" r=\"14\" fill=\"#e26f46\" fill-rule=\"evenodd\" fill-opacity=\"1\" stroke=\"#000000\" stroke-opacity=\"1\" stroke-width=\"3.2\"/>\n<circle clip-path=\"url(#clip682)\" cx=\"1204.29\" cy=\"951.717\" r=\"14\" fill=\"#e26f46\" fill-rule=\"evenodd\" fill-opacity=\"1\" stroke=\"#000000\" stroke-opacity=\"1\" stroke-width=\"3.2\"/>\n<circle clip-path=\"url(#clip682)\" cx=\"1334.74\" cy=\"606.221\" r=\"14\" fill=\"#e26f46\" fill-rule=\"evenodd\" fill-opacity=\"1\" stroke=\"#000000\" stroke-opacity=\"1\" stroke-width=\"3.2\"/>\n<circle clip-path=\"url(#clip682)\" cx=\"1486.95\" cy=\"894.134\" r=\"14\" fill=\"#e26f46\" fill-rule=\"evenodd\" fill-opacity=\"1\" stroke=\"#000000\" stroke-opacity=\"1\" stroke-width=\"3.2\"/>\n<circle clip-path=\"url(#clip682)\" cx=\"1617.4\" cy=\"725.815\" r=\"14\" fill=\"#e26f46\" fill-rule=\"evenodd\" fill-opacity=\"1\" stroke=\"#000000\" stroke-opacity=\"1\" stroke-width=\"3.2\"/>\n<circle clip-path=\"url(#clip682)\" cx=\"1747.86\" cy=\"87.9763\" r=\"14\" fill=\"#e26f46\" fill-rule=\"evenodd\" fill-opacity=\"1\" stroke=\"#000000\" stroke-opacity=\"1\" stroke-width=\"3.2\"/>\n<circle clip-path=\"url(#clip682)\" cx=\"1878.32\" cy=\"87.9763\" r=\"14\" fill=\"#e26f46\" fill-rule=\"evenodd\" fill-opacity=\"1\" stroke=\"#000000\" stroke-opacity=\"1\" stroke-width=\"3.2\"/>\n<circle clip-path=\"url(#clip682)\" cx=\"2030.52\" cy=\"87.9763\" r=\"14\" fill=\"#e26f46\" fill-rule=\"evenodd\" fill-opacity=\"1\" stroke=\"#000000\" stroke-opacity=\"1\" stroke-width=\"3.2\"/>\n<path clip-path=\"url(#clip680)\" d=\"\nM1858.64 1438.47 L2280.54 1438.47 L2280.54 1282.95 L1858.64 1282.95  Z\n  \" fill=\"#ffffff\" fill-rule=\"evenodd\" fill-opacity=\"1\"/>\n<polyline clip-path=\"url(#clip680)\" style=\"stroke:#000000; stroke-linecap:butt; stroke-linejoin:round; stroke-width:4; stroke-opacity:1; fill:none\" points=\"\n  1858.64,1438.47 2280.54,1438.47 2280.54,1282.95 1858.64,1282.95 1858.64,1438.47 \n  \"/>\n<polyline clip-path=\"url(#clip680)\" style=\"stroke:#009af9; stroke-linecap:butt; stroke-linejoin:round; stroke-width:4; stroke-opacity:1; fill:none\" points=\"\n  1882.71,1334.79 2027.14,1334.79 \n  \"/>\n<circle clip-path=\"url(#clip680)\" cx=\"1954.93\" cy=\"1334.79\" r=\"23\" fill=\"#009af9\" fill-rule=\"evenodd\" fill-opacity=\"1\" stroke=\"#000000\" stroke-opacity=\"1\" stroke-width=\"5.12\"/>\n<path clip-path=\"url(#clip680)\" d=\"M2051.22 1317.51 L2080.45 1317.51 L2080.45 1321.45 L2068.18 1321.45 L2068.18 1352.07 L2063.48 1352.07 L2063.48 1321.45 L2051.22 1321.45 L2051.22 1317.51 Z\" fill=\"#000000\" fill-rule=\"evenodd\" fill-opacity=\"1\" /><path clip-path=\"url(#clip680)\" d=\"M2095.01 1316.1 Q2091.91 1321.43 2090.41 1326.63 Q2088.9 1331.84 2088.9 1337.19 Q2088.9 1342.54 2090.41 1347.79 Q2091.93 1353.02 2095.01 1358.32 L2091.31 1358.32 Q2087.84 1352.88 2086.1 1347.63 Q2084.39 1342.38 2084.39 1337.19 Q2084.39 1332.03 2086.1 1326.8 Q2087.81 1321.57 2091.31 1316.1 L2095.01 1316.1 Z\" fill=\"#000000\" fill-rule=\"evenodd\" fill-opacity=\"1\" /><path clip-path=\"url(#clip680)\" d=\"M2120.61 1322.35 L2120.61 1335.25 L2133.51 1335.25 L2133.51 1339.18 L2120.61 1339.18 L2120.61 1352.07 L2116.73 1352.07 L2116.73 1339.18 L2103.83 1339.18 L2103.83 1335.25 L2116.73 1335.25 L2116.73 1322.35 L2120.61 1322.35 Z\" fill=\"#000000\" fill-rule=\"evenodd\" fill-opacity=\"1\" /><path clip-path=\"url(#clip680)\" d=\"M2175.94 1336.17 L2175.94 1338.26 L2166.84 1347.35 L2164.06 1344.57 L2169.46 1339.18 L2141.24 1339.18 L2141.24 1335.25 L2169.46 1335.25 L2164.06 1329.85 L2166.84 1327.07 L2175.94 1336.17 Z\" fill=\"#000000\" fill-rule=\"evenodd\" fill-opacity=\"1\" /><path clip-path=\"url(#clip680)\" d=\"M2200.06 1322.35 L2200.06 1335.25 L2212.95 1335.25 L2212.95 1339.18 L2200.06 1339.18 L2200.06 1352.07 L2196.17 1352.07 L2196.17 1339.18 L2183.28 1339.18 L2183.28 1335.25 L2196.17 1335.25 L2196.17 1322.35 L2200.06 1322.35 Z\" fill=\"#000000\" fill-rule=\"evenodd\" fill-opacity=\"1\" /><path clip-path=\"url(#clip680)\" d=\"M2221.77 1316.1 L2225.47 1316.1 Q2228.95 1321.57 2230.66 1326.8 Q2232.4 1332.03 2232.4 1337.19 Q2232.4 1342.38 2230.66 1347.63 Q2228.95 1352.88 2225.47 1358.32 L2221.77 1358.32 Q2224.85 1353.02 2226.35 1347.79 Q2227.88 1342.54 2227.88 1337.19 Q2227.88 1331.84 2226.35 1326.63 Q2224.85 1321.43 2221.77 1316.1 Z\" fill=\"#000000\" fill-rule=\"evenodd\" fill-opacity=\"1\" /><polyline clip-path=\"url(#clip680)\" style=\"stroke:#e26f46; stroke-linecap:butt; stroke-linejoin:round; stroke-width:4; stroke-opacity:1; fill:none\" points=\"\n  1882.71,1386.63 2027.14,1386.63 \n  \"/>\n<circle clip-path=\"url(#clip680)\" cx=\"1954.93\" cy=\"1386.63\" r=\"23\" fill=\"#e26f46\" fill-rule=\"evenodd\" fill-opacity=\"1\" stroke=\"#000000\" stroke-opacity=\"1\" stroke-width=\"5.12\"/>\n<path clip-path=\"url(#clip680)\" d=\"M2051.22 1369.35 L2080.45 1369.35 L2080.45 1373.29 L2068.18 1373.29 L2068.18 1403.91 L2063.48 1403.91 L2063.48 1373.29 L2051.22 1373.29 L2051.22 1369.35 Z\" fill=\"#000000\" fill-rule=\"evenodd\" fill-opacity=\"1\" /><path clip-path=\"url(#clip680)\" d=\"M2095.01 1367.94 Q2091.91 1373.27 2090.41 1378.47 Q2088.9 1383.68 2088.9 1389.03 Q2088.9 1394.38 2090.41 1399.63 Q2091.93 1404.86 2095.01 1410.16 L2091.31 1410.16 Q2087.84 1404.72 2086.1 1399.47 Q2084.39 1394.22 2084.39 1389.03 Q2084.39 1383.87 2086.1 1378.64 Q2087.81 1373.41 2091.31 1367.94 L2095.01 1367.94 Z\" fill=\"#000000\" fill-rule=\"evenodd\" fill-opacity=\"1\" /><path clip-path=\"url(#clip680)\" d=\"M2103.83 1387.09 L2133.51 1387.09 L2133.51 1391.02 L2103.83 1391.02 L2103.83 1387.09 Z\" fill=\"#000000\" fill-rule=\"evenodd\" fill-opacity=\"1\" /><path clip-path=\"url(#clip680)\" d=\"M2175.94 1388.01 L2175.94 1390.1 L2166.84 1399.19 L2164.06 1396.41 L2169.46 1391.02 L2141.24 1391.02 L2141.24 1387.09 L2169.46 1387.09 L2164.06 1381.69 L2166.84 1378.91 L2175.94 1388.01 Z\" fill=\"#000000\" fill-rule=\"evenodd\" fill-opacity=\"1\" /><path clip-path=\"url(#clip680)\" d=\"M2200.06 1374.19 L2200.06 1387.09 L2212.95 1387.09 L2212.95 1391.02 L2200.06 1391.02 L2200.06 1403.91 L2196.17 1403.91 L2196.17 1391.02 L2183.28 1391.02 L2183.28 1387.09 L2196.17 1387.09 L2196.17 1374.19 L2200.06 1374.19 Z\" fill=\"#000000\" fill-rule=\"evenodd\" fill-opacity=\"1\" /><path clip-path=\"url(#clip680)\" d=\"M2221.77 1367.94 L2225.47 1367.94 Q2228.95 1373.41 2230.66 1378.64 Q2232.4 1383.87 2232.4 1389.03 Q2232.4 1394.22 2230.66 1399.47 Q2228.95 1404.72 2225.47 1410.16 L2221.77 1410.16 Q2224.85 1404.86 2226.35 1399.63 Q2227.88 1394.38 2227.88 1389.03 Q2227.88 1383.68 2226.35 1378.47 Q2224.85 1373.27 2221.77 1367.94 Z\" fill=\"#000000\" fill-rule=\"evenodd\" fill-opacity=\"1\" /></svg>\n",
      "text/html": [
       "<?xml version=\"1.0\" encoding=\"utf-8\"?>\n",
       "<svg xmlns=\"http://www.w3.org/2000/svg\" xmlns:xlink=\"http://www.w3.org/1999/xlink\" width=\"600\" height=\"400\" viewBox=\"0 0 2400 1600\">\n",
       "<defs>\n",
       "  <clipPath id=\"clip730\">\n",
       "    <rect x=\"0\" y=\"0\" width=\"2400\" height=\"1600\"/>\n",
       "  </clipPath>\n",
       "</defs>\n",
       "<path clip-path=\"url(#clip730)\" d=\"\n",
       "M0 1600 L2400 1600 L2400 0 L0 0  Z\n",
       "  \" fill=\"#ffffff\" fill-rule=\"evenodd\" fill-opacity=\"1\"/>\n",
       "<defs>\n",
       "  <clipPath id=\"clip731\">\n",
       "    <rect x=\"480\" y=\"0\" width=\"1681\" height=\"1600\"/>\n",
       "  </clipPath>\n",
       "</defs>\n",
       "<path clip-path=\"url(#clip730)\" d=\"\n",
       "M186.274 1486.45 L2352.76 1486.45 L2352.76 47.2441 L186.274 47.2441  Z\n",
       "  \" fill=\"#ffffff\" fill-rule=\"evenodd\" fill-opacity=\"1\"/>\n",
       "<defs>\n",
       "  <clipPath id=\"clip732\">\n",
       "    <rect x=\"186\" y=\"47\" width=\"2167\" height=\"1440\"/>\n",
       "  </clipPath>\n",
       "</defs>\n",
       "<polyline clip-path=\"url(#clip732)\" style=\"stroke:#000000; stroke-linecap:butt; stroke-linejoin:round; stroke-width:2; stroke-opacity:0.1; fill:none\" points=\"\n",
       "  247.59,1486.45 247.59,47.2441 \n",
       "  \"/>\n",
       "<polyline clip-path=\"url(#clip732)\" style=\"stroke:#000000; stroke-linecap:butt; stroke-linejoin:round; stroke-width:2; stroke-opacity:0.1; fill:none\" points=\"\n",
       "  682.451,1486.45 682.451,47.2441 \n",
       "  \"/>\n",
       "<polyline clip-path=\"url(#clip732)\" style=\"stroke:#000000; stroke-linecap:butt; stroke-linejoin:round; stroke-width:2; stroke-opacity:0.1; fill:none\" points=\"\n",
       "  1117.31,1486.45 1117.31,47.2441 \n",
       "  \"/>\n",
       "<polyline clip-path=\"url(#clip732)\" style=\"stroke:#000000; stroke-linecap:butt; stroke-linejoin:round; stroke-width:2; stroke-opacity:0.1; fill:none\" points=\"\n",
       "  1552.18,1486.45 1552.18,47.2441 \n",
       "  \"/>\n",
       "<polyline clip-path=\"url(#clip732)\" style=\"stroke:#000000; stroke-linecap:butt; stroke-linejoin:round; stroke-width:2; stroke-opacity:0.1; fill:none\" points=\"\n",
       "  1987.04,1486.45 1987.04,47.2441 \n",
       "  \"/>\n",
       "<polyline clip-path=\"url(#clip730)\" style=\"stroke:#000000; stroke-linecap:butt; stroke-linejoin:round; stroke-width:4; stroke-opacity:1; fill:none\" points=\"\n",
       "  186.274,1486.45 2352.76,1486.45 \n",
       "  \"/>\n",
       "<polyline clip-path=\"url(#clip730)\" style=\"stroke:#000000; stroke-linecap:butt; stroke-linejoin:round; stroke-width:4; stroke-opacity:1; fill:none\" points=\"\n",
       "  247.59,1486.45 247.59,1467.55 \n",
       "  \"/>\n",
       "<polyline clip-path=\"url(#clip730)\" style=\"stroke:#000000; stroke-linecap:butt; stroke-linejoin:round; stroke-width:4; stroke-opacity:1; fill:none\" points=\"\n",
       "  682.451,1486.45 682.451,1467.55 \n",
       "  \"/>\n",
       "<polyline clip-path=\"url(#clip730)\" style=\"stroke:#000000; stroke-linecap:butt; stroke-linejoin:round; stroke-width:4; stroke-opacity:1; fill:none\" points=\"\n",
       "  1117.31,1486.45 1117.31,1467.55 \n",
       "  \"/>\n",
       "<polyline clip-path=\"url(#clip730)\" style=\"stroke:#000000; stroke-linecap:butt; stroke-linejoin:round; stroke-width:4; stroke-opacity:1; fill:none\" points=\"\n",
       "  1552.18,1486.45 1552.18,1467.55 \n",
       "  \"/>\n",
       "<polyline clip-path=\"url(#clip730)\" style=\"stroke:#000000; stroke-linecap:butt; stroke-linejoin:round; stroke-width:4; stroke-opacity:1; fill:none\" points=\"\n",
       "  1987.04,1486.45 1987.04,1467.55 \n",
       "  \"/>\n",
       "<path clip-path=\"url(#clip730)\" d=\"M224.974 1517.37 Q221.363 1517.37 219.534 1520.93 Q217.729 1524.47 217.729 1531.6 Q217.729 1538.71 219.534 1542.27 Q221.363 1545.82 224.974 1545.82 Q228.608 1545.82 230.414 1542.27 Q232.242 1538.71 232.242 1531.6 Q232.242 1524.47 230.414 1520.93 Q228.608 1517.37 224.974 1517.37 M224.974 1513.66 Q230.784 1513.66 233.84 1518.27 Q236.918 1522.85 236.918 1531.6 Q236.918 1540.33 233.84 1544.94 Q230.784 1549.52 224.974 1549.52 Q219.164 1549.52 216.085 1544.94 Q213.03 1540.33 213.03 1531.6 Q213.03 1522.85 216.085 1518.27 Q219.164 1513.66 224.974 1513.66 Z\" fill=\"#000000\" fill-rule=\"evenodd\" fill-opacity=\"1\" /><path clip-path=\"url(#clip730)\" d=\"M245.136 1542.97 L250.02 1542.97 L250.02 1548.85 L245.136 1548.85 L245.136 1542.97 Z\" fill=\"#000000\" fill-rule=\"evenodd\" fill-opacity=\"1\" /><path clip-path=\"url(#clip730)\" d=\"M270.205 1517.37 Q266.594 1517.37 264.765 1520.93 Q262.96 1524.47 262.96 1531.6 Q262.96 1538.71 264.765 1542.27 Q266.594 1545.82 270.205 1545.82 Q273.839 1545.82 275.645 1542.27 Q277.474 1538.71 277.474 1531.6 Q277.474 1524.47 275.645 1520.93 Q273.839 1517.37 270.205 1517.37 M270.205 1513.66 Q276.015 1513.66 279.071 1518.27 Q282.15 1522.85 282.15 1531.6 Q282.15 1540.33 279.071 1544.94 Q276.015 1549.52 270.205 1549.52 Q264.395 1549.52 261.316 1544.94 Q258.261 1540.33 258.261 1531.6 Q258.261 1522.85 261.316 1518.27 Q264.395 1513.66 270.205 1513.66 Z\" fill=\"#000000\" fill-rule=\"evenodd\" fill-opacity=\"1\" /><path clip-path=\"url(#clip730)\" d=\"M660.634 1517.37 Q657.023 1517.37 655.195 1520.93 Q653.389 1524.47 653.389 1531.6 Q653.389 1538.71 655.195 1542.27 Q657.023 1545.82 660.634 1545.82 Q664.269 1545.82 666.074 1542.27 Q667.903 1538.71 667.903 1531.6 Q667.903 1524.47 666.074 1520.93 Q664.269 1517.37 660.634 1517.37 M660.634 1513.66 Q666.445 1513.66 669.5 1518.27 Q672.579 1522.85 672.579 1531.6 Q672.579 1540.33 669.5 1544.94 Q666.445 1549.52 660.634 1549.52 Q654.824 1549.52 651.746 1544.94 Q648.69 1540.33 648.69 1531.6 Q648.69 1522.85 651.746 1518.27 Q654.824 1513.66 660.634 1513.66 Z\" fill=\"#000000\" fill-rule=\"evenodd\" fill-opacity=\"1\" /><path clip-path=\"url(#clip730)\" d=\"M680.796 1542.97 L685.681 1542.97 L685.681 1548.85 L680.796 1548.85 L680.796 1542.97 Z\" fill=\"#000000\" fill-rule=\"evenodd\" fill-opacity=\"1\" /><path clip-path=\"url(#clip730)\" d=\"M699.893 1544.91 L716.213 1544.91 L716.213 1548.85 L694.268 1548.85 L694.268 1544.91 Q696.93 1542.16 701.514 1537.53 Q706.12 1532.88 707.301 1531.53 Q709.546 1529.01 710.426 1527.27 Q711.329 1525.51 711.329 1523.82 Q711.329 1521.07 709.384 1519.33 Q707.463 1517.6 704.361 1517.6 Q702.162 1517.6 699.708 1518.36 Q697.278 1519.13 694.5 1520.68 L694.5 1515.95 Q697.324 1514.82 699.778 1514.24 Q702.231 1513.66 704.268 1513.66 Q709.639 1513.66 712.833 1516.35 Q716.028 1519.03 716.028 1523.52 Q716.028 1525.65 715.217 1527.57 Q714.43 1529.47 712.324 1532.07 Q711.745 1532.74 708.643 1535.95 Q705.542 1539.15 699.893 1544.91 Z\" fill=\"#000000\" fill-rule=\"evenodd\" fill-opacity=\"1\" /><path clip-path=\"url(#clip730)\" d=\"M1094.45 1517.37 Q1090.84 1517.37 1089.01 1520.93 Q1087.21 1524.47 1087.21 1531.6 Q1087.21 1538.71 1089.01 1542.27 Q1090.84 1545.82 1094.45 1545.82 Q1098.09 1545.82 1099.89 1542.27 Q1101.72 1538.71 1101.72 1531.6 Q1101.72 1524.47 1099.89 1520.93 Q1098.09 1517.37 1094.45 1517.37 M1094.45 1513.66 Q1100.26 1513.66 1103.32 1518.27 Q1106.4 1522.85 1106.4 1531.6 Q1106.4 1540.33 1103.32 1544.94 Q1100.26 1549.52 1094.45 1549.52 Q1088.64 1549.52 1085.57 1544.94 Q1082.51 1540.33 1082.51 1531.6 Q1082.51 1522.85 1085.57 1518.27 Q1088.64 1513.66 1094.45 1513.66 Z\" fill=\"#000000\" fill-rule=\"evenodd\" fill-opacity=\"1\" /><path clip-path=\"url(#clip730)\" d=\"M1114.62 1542.97 L1119.5 1542.97 L1119.5 1548.85 L1114.62 1548.85 L1114.62 1542.97 Z\" fill=\"#000000\" fill-rule=\"evenodd\" fill-opacity=\"1\" /><path clip-path=\"url(#clip730)\" d=\"M1142.53 1518.36 L1130.73 1536.81 L1142.53 1536.81 L1142.53 1518.36 M1141.31 1514.29 L1147.19 1514.29 L1147.19 1536.81 L1152.12 1536.81 L1152.12 1540.7 L1147.19 1540.7 L1147.19 1548.85 L1142.53 1548.85 L1142.53 1540.7 L1126.93 1540.7 L1126.93 1536.19 L1141.31 1514.29 Z\" fill=\"#000000\" fill-rule=\"evenodd\" fill-opacity=\"1\" /><path clip-path=\"url(#clip730)\" d=\"M1529.48 1517.37 Q1525.87 1517.37 1524.04 1520.93 Q1522.23 1524.47 1522.23 1531.6 Q1522.23 1538.71 1524.04 1542.27 Q1525.87 1545.82 1529.48 1545.82 Q1533.11 1545.82 1534.92 1542.27 Q1536.75 1538.71 1536.75 1531.6 Q1536.75 1524.47 1534.92 1520.93 Q1533.11 1517.37 1529.48 1517.37 M1529.48 1513.66 Q1535.29 1513.66 1538.34 1518.27 Q1541.42 1522.85 1541.42 1531.6 Q1541.42 1540.33 1538.34 1544.94 Q1535.29 1549.52 1529.48 1549.52 Q1523.67 1549.52 1520.59 1544.94 Q1517.53 1540.33 1517.53 1531.6 Q1517.53 1522.85 1520.59 1518.27 Q1523.67 1513.66 1529.48 1513.66 Z\" fill=\"#000000\" fill-rule=\"evenodd\" fill-opacity=\"1\" /><path clip-path=\"url(#clip730)\" d=\"M1549.64 1542.97 L1554.52 1542.97 L1554.52 1548.85 L1549.64 1548.85 L1549.64 1542.97 Z\" fill=\"#000000\" fill-rule=\"evenodd\" fill-opacity=\"1\" /><path clip-path=\"url(#clip730)\" d=\"M1575.29 1529.7 Q1572.14 1529.7 1570.29 1531.86 Q1568.46 1534.01 1568.46 1537.76 Q1568.46 1541.49 1570.29 1543.66 Q1572.14 1545.82 1575.29 1545.82 Q1578.44 1545.82 1580.27 1543.66 Q1582.12 1541.49 1582.12 1537.76 Q1582.12 1534.01 1580.27 1531.86 Q1578.44 1529.7 1575.29 1529.7 M1584.57 1515.05 L1584.57 1519.31 Q1582.81 1518.48 1581.01 1518.04 Q1579.22 1517.6 1577.46 1517.6 Q1572.83 1517.6 1570.38 1520.72 Q1567.95 1523.85 1567.6 1530.17 Q1568.97 1528.15 1571.03 1527.09 Q1573.09 1526 1575.57 1526 Q1580.77 1526 1583.78 1529.17 Q1586.82 1532.32 1586.82 1537.76 Q1586.82 1543.08 1583.67 1546.3 Q1580.52 1549.52 1575.29 1549.52 Q1569.29 1549.52 1566.12 1544.94 Q1562.95 1540.33 1562.95 1531.6 Q1562.95 1523.41 1566.84 1518.55 Q1570.73 1513.66 1577.28 1513.66 Q1579.04 1513.66 1580.82 1514.01 Q1582.63 1514.36 1584.57 1515.05 Z\" fill=\"#000000\" fill-rule=\"evenodd\" fill-opacity=\"1\" /><path clip-path=\"url(#clip730)\" d=\"M1964.47 1517.37 Q1960.86 1517.37 1959.03 1520.93 Q1957.22 1524.47 1957.22 1531.6 Q1957.22 1538.71 1959.03 1542.27 Q1960.86 1545.82 1964.47 1545.82 Q1968.1 1545.82 1969.91 1542.27 Q1971.74 1538.71 1971.74 1531.6 Q1971.74 1524.47 1969.91 1520.93 Q1968.1 1517.37 1964.47 1517.37 M1964.47 1513.66 Q1970.28 1513.66 1973.33 1518.27 Q1976.41 1522.85 1976.41 1531.6 Q1976.41 1540.33 1973.33 1544.94 Q1970.28 1549.52 1964.47 1549.52 Q1958.66 1549.52 1955.58 1544.94 Q1952.52 1540.33 1952.52 1531.6 Q1952.52 1522.85 1955.58 1518.27 Q1958.66 1513.66 1964.47 1513.66 Z\" fill=\"#000000\" fill-rule=\"evenodd\" fill-opacity=\"1\" /><path clip-path=\"url(#clip730)\" d=\"M1984.63 1542.97 L1989.51 1542.97 L1989.51 1548.85 L1984.63 1548.85 L1984.63 1542.97 Z\" fill=\"#000000\" fill-rule=\"evenodd\" fill-opacity=\"1\" /><path clip-path=\"url(#clip730)\" d=\"M2009.7 1532.44 Q2006.37 1532.44 2004.44 1534.22 Q2002.55 1536 2002.55 1539.13 Q2002.55 1542.25 2004.44 1544.03 Q2006.37 1545.82 2009.7 1545.82 Q2013.03 1545.82 2014.95 1544.03 Q2016.87 1542.23 2016.87 1539.13 Q2016.87 1536 2014.95 1534.22 Q2013.06 1532.44 2009.7 1532.44 M2005.02 1530.45 Q2002.01 1529.7 2000.32 1527.64 Q1998.66 1525.58 1998.66 1522.62 Q1998.66 1518.48 2001.6 1516.07 Q2004.56 1513.66 2009.7 1513.66 Q2014.86 1513.66 2017.8 1516.07 Q2020.74 1518.48 2020.74 1522.62 Q2020.74 1525.58 2019.05 1527.64 Q2017.38 1529.7 2014.4 1530.45 Q2017.78 1531.23 2019.65 1533.52 Q2021.55 1535.82 2021.55 1539.13 Q2021.55 1544.15 2018.47 1546.83 Q2015.42 1549.52 2009.7 1549.52 Q2003.98 1549.52 2000.9 1546.83 Q1997.85 1544.15 1997.85 1539.13 Q1997.85 1535.82 1999.75 1533.52 Q2001.64 1531.23 2005.02 1530.45 M2003.31 1523.06 Q2003.31 1525.75 2004.98 1527.25 Q2006.67 1528.76 2009.7 1528.76 Q2012.71 1528.76 2014.4 1527.25 Q2016.11 1525.75 2016.11 1523.06 Q2016.11 1520.38 2014.4 1518.87 Q2012.71 1517.37 2009.7 1517.37 Q2006.67 1517.37 2004.98 1518.87 Q2003.31 1520.38 2003.31 1523.06 Z\" fill=\"#000000\" fill-rule=\"evenodd\" fill-opacity=\"1\" /><polyline clip-path=\"url(#clip732)\" style=\"stroke:#000000; stroke-linecap:butt; stroke-linejoin:round; stroke-width:2; stroke-opacity:0.1; fill:none\" points=\"\n",
       "  186.274,1469.96 2352.76,1469.96 \n",
       "  \"/>\n",
       "<polyline clip-path=\"url(#clip732)\" style=\"stroke:#000000; stroke-linecap:butt; stroke-linejoin:round; stroke-width:2; stroke-opacity:0.1; fill:none\" points=\"\n",
       "  186.274,1124.46 2352.76,1124.46 \n",
       "  \"/>\n",
       "<polyline clip-path=\"url(#clip732)\" style=\"stroke:#000000; stroke-linecap:butt; stroke-linejoin:round; stroke-width:2; stroke-opacity:0.1; fill:none\" points=\"\n",
       "  186.274,778.969 2352.76,778.969 \n",
       "  \"/>\n",
       "<polyline clip-path=\"url(#clip732)\" style=\"stroke:#000000; stroke-linecap:butt; stroke-linejoin:round; stroke-width:2; stroke-opacity:0.1; fill:none\" points=\"\n",
       "  186.274,433.472 2352.76,433.472 \n",
       "  \"/>\n",
       "<polyline clip-path=\"url(#clip732)\" style=\"stroke:#000000; stroke-linecap:butt; stroke-linejoin:round; stroke-width:2; stroke-opacity:0.1; fill:none\" points=\"\n",
       "  186.274,87.9763 2352.76,87.9763 \n",
       "  \"/>\n",
       "<polyline clip-path=\"url(#clip730)\" style=\"stroke:#000000; stroke-linecap:butt; stroke-linejoin:round; stroke-width:4; stroke-opacity:1; fill:none\" points=\"\n",
       "  186.274,1486.45 186.274,47.2441 \n",
       "  \"/>\n",
       "<polyline clip-path=\"url(#clip730)\" style=\"stroke:#000000; stroke-linecap:butt; stroke-linejoin:round; stroke-width:4; stroke-opacity:1; fill:none\" points=\"\n",
       "  186.274,1469.96 205.172,1469.96 \n",
       "  \"/>\n",
       "<polyline clip-path=\"url(#clip730)\" style=\"stroke:#000000; stroke-linecap:butt; stroke-linejoin:round; stroke-width:4; stroke-opacity:1; fill:none\" points=\"\n",
       "  186.274,1124.46 205.172,1124.46 \n",
       "  \"/>\n",
       "<polyline clip-path=\"url(#clip730)\" style=\"stroke:#000000; stroke-linecap:butt; stroke-linejoin:round; stroke-width:4; stroke-opacity:1; fill:none\" points=\"\n",
       "  186.274,778.969 205.172,778.969 \n",
       "  \"/>\n",
       "<polyline clip-path=\"url(#clip730)\" style=\"stroke:#000000; stroke-linecap:butt; stroke-linejoin:round; stroke-width:4; stroke-opacity:1; fill:none\" points=\"\n",
       "  186.274,433.472 205.172,433.472 \n",
       "  \"/>\n",
       "<polyline clip-path=\"url(#clip730)\" style=\"stroke:#000000; stroke-linecap:butt; stroke-linejoin:round; stroke-width:4; stroke-opacity:1; fill:none\" points=\"\n",
       "  186.274,87.9763 205.172,87.9763 \n",
       "  \"/>\n",
       "<path clip-path=\"url(#clip730)\" d=\"M62.9365 1455.76 Q59.3254 1455.76 57.4967 1459.32 Q55.6912 1462.87 55.6912 1470 Q55.6912 1477.1 57.4967 1480.67 Q59.3254 1484.21 62.9365 1484.21 Q66.5707 1484.21 68.3763 1480.67 Q70.205 1477.1 70.205 1470 Q70.205 1462.87 68.3763 1459.32 Q66.5707 1455.76 62.9365 1455.76 M62.9365 1452.06 Q68.7467 1452.06 71.8022 1456.66 Q74.8809 1461.25 74.8809 1470 Q74.8809 1478.72 71.8022 1483.33 Q68.7467 1487.91 62.9365 1487.91 Q57.1264 1487.91 54.0477 1483.33 Q50.9921 1478.72 50.9921 1470 Q50.9921 1461.25 54.0477 1456.66 Q57.1264 1452.06 62.9365 1452.06 Z\" fill=\"#000000\" fill-rule=\"evenodd\" fill-opacity=\"1\" /><path clip-path=\"url(#clip730)\" d=\"M83.0984 1481.36 L87.9827 1481.36 L87.9827 1487.24 L83.0984 1487.24 L83.0984 1481.36 Z\" fill=\"#000000\" fill-rule=\"evenodd\" fill-opacity=\"1\" /><path clip-path=\"url(#clip730)\" d=\"M108.168 1455.76 Q104.557 1455.76 102.728 1459.32 Q100.922 1462.87 100.922 1470 Q100.922 1477.1 102.728 1480.67 Q104.557 1484.21 108.168 1484.21 Q111.802 1484.21 113.608 1480.67 Q115.436 1477.1 115.436 1470 Q115.436 1462.87 113.608 1459.32 Q111.802 1455.76 108.168 1455.76 M108.168 1452.06 Q113.978 1452.06 117.033 1456.66 Q120.112 1461.25 120.112 1470 Q120.112 1478.72 117.033 1483.33 Q113.978 1487.91 108.168 1487.91 Q102.358 1487.91 99.2789 1483.33 Q96.2234 1478.72 96.2234 1470 Q96.2234 1461.25 99.2789 1456.66 Q102.358 1452.06 108.168 1452.06 Z\" fill=\"#000000\" fill-rule=\"evenodd\" fill-opacity=\"1\" /><path clip-path=\"url(#clip730)\" d=\"M138.33 1455.76 Q134.719 1455.76 132.89 1459.32 Q131.084 1462.87 131.084 1470 Q131.084 1477.1 132.89 1480.67 Q134.719 1484.21 138.33 1484.21 Q141.964 1484.21 143.769 1480.67 Q145.598 1477.1 145.598 1470 Q145.598 1462.87 143.769 1459.32 Q141.964 1455.76 138.33 1455.76 M138.33 1452.06 Q144.14 1452.06 147.195 1456.66 Q150.274 1461.25 150.274 1470 Q150.274 1478.72 147.195 1483.33 Q144.14 1487.91 138.33 1487.91 Q132.519 1487.91 129.441 1483.33 Q126.385 1478.72 126.385 1470 Q126.385 1461.25 129.441 1456.66 Q132.519 1452.06 138.33 1452.06 Z\" fill=\"#000000\" fill-rule=\"evenodd\" fill-opacity=\"1\" /><path clip-path=\"url(#clip730)\" d=\"M63.9319 1110.26 Q60.3208 1110.26 58.4921 1113.83 Q56.6865 1117.37 56.6865 1124.5 Q56.6865 1131.61 58.4921 1135.17 Q60.3208 1138.71 63.9319 1138.71 Q67.5661 1138.71 69.3717 1135.17 Q71.2004 1131.61 71.2004 1124.5 Q71.2004 1117.37 69.3717 1113.83 Q67.5661 1110.26 63.9319 1110.26 M63.9319 1106.56 Q69.742 1106.56 72.7976 1111.17 Q75.8763 1115.75 75.8763 1124.5 Q75.8763 1133.23 72.7976 1137.83 Q69.742 1142.42 63.9319 1142.42 Q58.1217 1142.42 55.043 1137.83 Q51.9875 1133.23 51.9875 1124.5 Q51.9875 1115.75 55.043 1111.17 Q58.1217 1106.56 63.9319 1106.56 Z\" fill=\"#000000\" fill-rule=\"evenodd\" fill-opacity=\"1\" /><path clip-path=\"url(#clip730)\" d=\"M84.0938 1135.87 L88.978 1135.87 L88.978 1141.74 L84.0938 1141.74 L84.0938 1135.87 Z\" fill=\"#000000\" fill-rule=\"evenodd\" fill-opacity=\"1\" /><path clip-path=\"url(#clip730)\" d=\"M103.191 1137.81 L119.51 1137.81 L119.51 1141.74 L97.566 1141.74 L97.566 1137.81 Q100.228 1135.06 104.811 1130.43 Q109.418 1125.77 110.598 1124.43 Q112.844 1121.91 113.723 1120.17 Q114.626 1118.41 114.626 1116.72 Q114.626 1113.97 112.682 1112.23 Q110.76 1110.5 107.658 1110.5 Q105.459 1110.5 103.006 1111.26 Q100.575 1112.02 97.7974 1113.57 L97.7974 1108.85 Q100.621 1107.72 103.075 1107.14 Q105.529 1106.56 107.566 1106.56 Q112.936 1106.56 116.131 1109.25 Q119.325 1111.93 119.325 1116.42 Q119.325 1118.55 118.515 1120.47 Q117.728 1122.37 115.621 1124.96 Q115.043 1125.63 111.941 1128.85 Q108.839 1132.05 103.191 1137.81 Z\" fill=\"#000000\" fill-rule=\"evenodd\" fill-opacity=\"1\" /><path clip-path=\"url(#clip730)\" d=\"M129.371 1107.18 L147.728 1107.18 L147.728 1111.12 L133.654 1111.12 L133.654 1119.59 Q134.672 1119.24 135.691 1119.08 Q136.709 1118.9 137.728 1118.9 Q143.515 1118.9 146.894 1122.07 Q150.274 1125.24 150.274 1130.66 Q150.274 1136.24 146.802 1139.34 Q143.33 1142.42 137.01 1142.42 Q134.834 1142.42 132.566 1142.05 Q130.32 1141.68 127.913 1140.93 L127.913 1136.24 Q129.996 1137.37 132.219 1137.93 Q134.441 1138.48 136.918 1138.48 Q140.922 1138.48 143.26 1136.37 Q145.598 1134.27 145.598 1130.66 Q145.598 1127.05 143.26 1124.94 Q140.922 1122.83 136.918 1122.83 Q135.043 1122.83 133.168 1123.25 Q131.316 1123.67 129.371 1124.55 L129.371 1107.18 Z\" fill=\"#000000\" fill-rule=\"evenodd\" fill-opacity=\"1\" /><path clip-path=\"url(#clip730)\" d=\"M62.9365 764.767 Q59.3254 764.767 57.4967 768.332 Q55.6912 771.874 55.6912 779.003 Q55.6912 786.11 57.4967 789.675 Q59.3254 793.216 62.9365 793.216 Q66.5707 793.216 68.3763 789.675 Q70.205 786.11 70.205 779.003 Q70.205 771.874 68.3763 768.332 Q66.5707 764.767 62.9365 764.767 M62.9365 761.064 Q68.7467 761.064 71.8022 765.67 Q74.8809 770.253 74.8809 779.003 Q74.8809 787.73 71.8022 792.337 Q68.7467 796.92 62.9365 796.92 Q57.1264 796.92 54.0477 792.337 Q50.9921 787.73 50.9921 779.003 Q50.9921 770.253 54.0477 765.67 Q57.1264 761.064 62.9365 761.064 Z\" fill=\"#000000\" fill-rule=\"evenodd\" fill-opacity=\"1\" /><path clip-path=\"url(#clip730)\" d=\"M83.0984 790.369 L87.9827 790.369 L87.9827 796.249 L83.0984 796.249 L83.0984 790.369 Z\" fill=\"#000000\" fill-rule=\"evenodd\" fill-opacity=\"1\" /><path clip-path=\"url(#clip730)\" d=\"M98.2141 761.689 L116.57 761.689 L116.57 765.624 L102.496 765.624 L102.496 774.096 Q103.515 773.749 104.534 773.587 Q105.552 773.402 106.571 773.402 Q112.358 773.402 115.737 776.573 Q119.117 779.744 119.117 785.161 Q119.117 790.739 115.645 793.841 Q112.172 796.92 105.853 796.92 Q103.677 796.92 101.409 796.55 Q99.1632 796.179 96.7558 795.438 L96.7558 790.739 Q98.8391 791.874 101.061 792.429 Q103.284 792.985 105.76 792.985 Q109.765 792.985 112.103 790.878 Q114.441 788.772 114.441 785.161 Q114.441 781.55 112.103 779.443 Q109.765 777.337 105.76 777.337 Q103.885 777.337 102.01 777.753 Q100.159 778.17 98.2141 779.05 L98.2141 761.689 Z\" fill=\"#000000\" fill-rule=\"evenodd\" fill-opacity=\"1\" /><path clip-path=\"url(#clip730)\" d=\"M138.33 764.767 Q134.719 764.767 132.89 768.332 Q131.084 771.874 131.084 779.003 Q131.084 786.11 132.89 789.675 Q134.719 793.216 138.33 793.216 Q141.964 793.216 143.769 789.675 Q145.598 786.11 145.598 779.003 Q145.598 771.874 143.769 768.332 Q141.964 764.767 138.33 764.767 M138.33 761.064 Q144.14 761.064 147.195 765.67 Q150.274 770.253 150.274 779.003 Q150.274 787.73 147.195 792.337 Q144.14 796.92 138.33 796.92 Q132.519 796.92 129.441 792.337 Q126.385 787.73 126.385 779.003 Q126.385 770.253 129.441 765.67 Q132.519 761.064 138.33 761.064 Z\" fill=\"#000000\" fill-rule=\"evenodd\" fill-opacity=\"1\" /><path clip-path=\"url(#clip730)\" d=\"M63.9319 419.271 Q60.3208 419.271 58.4921 422.836 Q56.6865 426.378 56.6865 433.507 Q56.6865 440.614 58.4921 444.178 Q60.3208 447.72 63.9319 447.72 Q67.5661 447.72 69.3717 444.178 Q71.2004 440.614 71.2004 433.507 Q71.2004 426.378 69.3717 422.836 Q67.5661 419.271 63.9319 419.271 M63.9319 415.567 Q69.742 415.567 72.7976 420.174 Q75.8763 424.757 75.8763 433.507 Q75.8763 442.234 72.7976 446.84 Q69.742 451.424 63.9319 451.424 Q58.1217 451.424 55.043 446.84 Q51.9875 442.234 51.9875 433.507 Q51.9875 424.757 55.043 420.174 Q58.1217 415.567 63.9319 415.567 Z\" fill=\"#000000\" fill-rule=\"evenodd\" fill-opacity=\"1\" /><path clip-path=\"url(#clip730)\" d=\"M84.0938 444.873 L88.978 444.873 L88.978 450.752 L84.0938 450.752 L84.0938 444.873 Z\" fill=\"#000000\" fill-rule=\"evenodd\" fill-opacity=\"1\" /><path clip-path=\"url(#clip730)\" d=\"M97.9826 416.192 L120.205 416.192 L120.205 418.183 L107.658 450.752 L102.774 450.752 L114.58 420.128 L97.9826 420.128 L97.9826 416.192 Z\" fill=\"#000000\" fill-rule=\"evenodd\" fill-opacity=\"1\" /><path clip-path=\"url(#clip730)\" d=\"M129.371 416.192 L147.728 416.192 L147.728 420.128 L133.654 420.128 L133.654 428.6 Q134.672 428.253 135.691 428.091 Q136.709 427.905 137.728 427.905 Q143.515 427.905 146.894 431.077 Q150.274 434.248 150.274 439.665 Q150.274 445.243 146.802 448.345 Q143.33 451.424 137.01 451.424 Q134.834 451.424 132.566 451.053 Q130.32 450.683 127.913 449.942 L127.913 445.243 Q129.996 446.377 132.219 446.933 Q134.441 447.489 136.918 447.489 Q140.922 447.489 143.26 445.382 Q145.598 443.276 145.598 439.665 Q145.598 436.053 143.26 433.947 Q140.922 431.841 136.918 431.841 Q135.043 431.841 133.168 432.257 Q131.316 432.674 129.371 433.553 L129.371 416.192 Z\" fill=\"#000000\" fill-rule=\"evenodd\" fill-opacity=\"1\" /><path clip-path=\"url(#clip730)\" d=\"M53.7467 101.321 L61.3856 101.321 L61.3856 74.9555 L53.0754 76.6222 L53.0754 72.3629 L61.3393 70.6963 L66.0152 70.6963 L66.0152 101.321 L73.654 101.321 L73.654 105.256 L53.7467 105.256 L53.7467 101.321 Z\" fill=\"#000000\" fill-rule=\"evenodd\" fill-opacity=\"1\" /><path clip-path=\"url(#clip730)\" d=\"M83.0984 99.3767 L87.9827 99.3767 L87.9827 105.256 L83.0984 105.256 L83.0984 99.3767 Z\" fill=\"#000000\" fill-rule=\"evenodd\" fill-opacity=\"1\" /><path clip-path=\"url(#clip730)\" d=\"M108.168 73.775 Q104.557 73.775 102.728 77.3398 Q100.922 80.8814 100.922 88.011 Q100.922 95.1174 102.728 98.6822 Q104.557 102.224 108.168 102.224 Q111.802 102.224 113.608 98.6822 Q115.436 95.1174 115.436 88.011 Q115.436 80.8814 113.608 77.3398 Q111.802 73.775 108.168 73.775 M108.168 70.0713 Q113.978 70.0713 117.033 74.6777 Q120.112 79.261 120.112 88.011 Q120.112 96.7378 117.033 101.344 Q113.978 105.928 108.168 105.928 Q102.358 105.928 99.2789 101.344 Q96.2234 96.7378 96.2234 88.011 Q96.2234 79.261 99.2789 74.6777 Q102.358 70.0713 108.168 70.0713 Z\" fill=\"#000000\" fill-rule=\"evenodd\" fill-opacity=\"1\" /><path clip-path=\"url(#clip730)\" d=\"M138.33 73.775 Q134.719 73.775 132.89 77.3398 Q131.084 80.8814 131.084 88.011 Q131.084 95.1174 132.89 98.6822 Q134.719 102.224 138.33 102.224 Q141.964 102.224 143.769 98.6822 Q145.598 95.1174 145.598 88.011 Q145.598 80.8814 143.769 77.3398 Q141.964 73.775 138.33 73.775 M138.33 70.0713 Q144.14 70.0713 147.195 74.6777 Q150.274 79.261 150.274 88.011 Q150.274 96.7378 147.195 101.344 Q144.14 105.928 138.33 105.928 Q132.519 105.928 129.441 101.344 Q126.385 96.7378 126.385 88.011 Q126.385 79.261 129.441 74.6777 Q132.519 70.0713 138.33 70.0713 Z\" fill=\"#000000\" fill-rule=\"evenodd\" fill-opacity=\"1\" /><polyline clip-path=\"url(#clip732)\" style=\"stroke:#009af9; stroke-linecap:butt; stroke-linejoin:round; stroke-width:4; stroke-opacity:1; fill:none\" points=\"\n",
       "  247.59,917.167 399.791,1193.56 530.25,597.129 660.708,622.938 791.167,371.46 943.369,458.753 1073.83,312.951 1204.29,238.192 1334.74,268.235 1486.95,392.013 \n",
       "  1617.4,313.606 1747.86,263.865 1878.32,134.823 2030.52,87.9763 2160.98,87.9763 2291.44,87.9763 \n",
       "  \"/>\n",
       "<circle clip-path=\"url(#clip732)\" cx=\"247.59\" cy=\"917.167\" r=\"14\" fill=\"#009af9\" fill-rule=\"evenodd\" fill-opacity=\"1\" stroke=\"#000000\" stroke-opacity=\"1\" stroke-width=\"3.2\"/>\n",
       "<circle clip-path=\"url(#clip732)\" cx=\"399.791\" cy=\"1193.56\" r=\"14\" fill=\"#009af9\" fill-rule=\"evenodd\" fill-opacity=\"1\" stroke=\"#000000\" stroke-opacity=\"1\" stroke-width=\"3.2\"/>\n",
       "<circle clip-path=\"url(#clip732)\" cx=\"530.25\" cy=\"597.129\" r=\"14\" fill=\"#009af9\" fill-rule=\"evenodd\" fill-opacity=\"1\" stroke=\"#000000\" stroke-opacity=\"1\" stroke-width=\"3.2\"/>\n",
       "<circle clip-path=\"url(#clip732)\" cx=\"660.708\" cy=\"622.938\" r=\"14\" fill=\"#009af9\" fill-rule=\"evenodd\" fill-opacity=\"1\" stroke=\"#000000\" stroke-opacity=\"1\" stroke-width=\"3.2\"/>\n",
       "<circle clip-path=\"url(#clip732)\" cx=\"791.167\" cy=\"371.46\" r=\"14\" fill=\"#009af9\" fill-rule=\"evenodd\" fill-opacity=\"1\" stroke=\"#000000\" stroke-opacity=\"1\" stroke-width=\"3.2\"/>\n",
       "<circle clip-path=\"url(#clip732)\" cx=\"943.369\" cy=\"458.753\" r=\"14\" fill=\"#009af9\" fill-rule=\"evenodd\" fill-opacity=\"1\" stroke=\"#000000\" stroke-opacity=\"1\" stroke-width=\"3.2\"/>\n",
       "<circle clip-path=\"url(#clip732)\" cx=\"1073.83\" cy=\"312.951\" r=\"14\" fill=\"#009af9\" fill-rule=\"evenodd\" fill-opacity=\"1\" stroke=\"#000000\" stroke-opacity=\"1\" stroke-width=\"3.2\"/>\n",
       "<circle clip-path=\"url(#clip732)\" cx=\"1204.29\" cy=\"238.192\" r=\"14\" fill=\"#009af9\" fill-rule=\"evenodd\" fill-opacity=\"1\" stroke=\"#000000\" stroke-opacity=\"1\" stroke-width=\"3.2\"/>\n",
       "<circle clip-path=\"url(#clip732)\" cx=\"1334.74\" cy=\"268.235\" r=\"14\" fill=\"#009af9\" fill-rule=\"evenodd\" fill-opacity=\"1\" stroke=\"#000000\" stroke-opacity=\"1\" stroke-width=\"3.2\"/>\n",
       "<circle clip-path=\"url(#clip732)\" cx=\"1486.95\" cy=\"392.013\" r=\"14\" fill=\"#009af9\" fill-rule=\"evenodd\" fill-opacity=\"1\" stroke=\"#000000\" stroke-opacity=\"1\" stroke-width=\"3.2\"/>\n",
       "<circle clip-path=\"url(#clip732)\" cx=\"1617.4\" cy=\"313.606\" r=\"14\" fill=\"#009af9\" fill-rule=\"evenodd\" fill-opacity=\"1\" stroke=\"#000000\" stroke-opacity=\"1\" stroke-width=\"3.2\"/>\n",
       "<circle clip-path=\"url(#clip732)\" cx=\"1747.86\" cy=\"263.865\" r=\"14\" fill=\"#009af9\" fill-rule=\"evenodd\" fill-opacity=\"1\" stroke=\"#000000\" stroke-opacity=\"1\" stroke-width=\"3.2\"/>\n",
       "<circle clip-path=\"url(#clip732)\" cx=\"1878.32\" cy=\"134.823\" r=\"14\" fill=\"#009af9\" fill-rule=\"evenodd\" fill-opacity=\"1\" stroke=\"#000000\" stroke-opacity=\"1\" stroke-width=\"3.2\"/>\n",
       "<circle clip-path=\"url(#clip732)\" cx=\"2030.52\" cy=\"87.9763\" r=\"14\" fill=\"#009af9\" fill-rule=\"evenodd\" fill-opacity=\"1\" stroke=\"#000000\" stroke-opacity=\"1\" stroke-width=\"3.2\"/>\n",
       "<circle clip-path=\"url(#clip732)\" cx=\"2160.98\" cy=\"87.9763\" r=\"14\" fill=\"#009af9\" fill-rule=\"evenodd\" fill-opacity=\"1\" stroke=\"#000000\" stroke-opacity=\"1\" stroke-width=\"3.2\"/>\n",
       "<circle clip-path=\"url(#clip732)\" cx=\"2291.44\" cy=\"87.9763\" r=\"14\" fill=\"#009af9\" fill-rule=\"evenodd\" fill-opacity=\"1\" stroke=\"#000000\" stroke-opacity=\"1\" stroke-width=\"3.2\"/>\n",
       "<polyline clip-path=\"url(#clip732)\" style=\"stroke:#e26f46; stroke-linecap:butt; stroke-linejoin:round; stroke-width:4; stroke-opacity:1; fill:none\" points=\"\n",
       "  247.59,1445.72 399.791,1363.65 530.25,1180.71 660.708,845.839 791.167,929.184 943.369,614.447 1073.83,451.656 1204.29,951.717 1334.74,606.221 1486.95,894.134 \n",
       "  1617.4,725.815 1747.86,87.9763 1878.32,87.9763 2030.52,87.9763 \n",
       "  \"/>\n",
       "<circle clip-path=\"url(#clip732)\" cx=\"247.59\" cy=\"1445.72\" r=\"14\" fill=\"#e26f46\" fill-rule=\"evenodd\" fill-opacity=\"1\" stroke=\"#000000\" stroke-opacity=\"1\" stroke-width=\"3.2\"/>\n",
       "<circle clip-path=\"url(#clip732)\" cx=\"399.791\" cy=\"1363.65\" r=\"14\" fill=\"#e26f46\" fill-rule=\"evenodd\" fill-opacity=\"1\" stroke=\"#000000\" stroke-opacity=\"1\" stroke-width=\"3.2\"/>\n",
       "<circle clip-path=\"url(#clip732)\" cx=\"530.25\" cy=\"1180.71\" r=\"14\" fill=\"#e26f46\" fill-rule=\"evenodd\" fill-opacity=\"1\" stroke=\"#000000\" stroke-opacity=\"1\" stroke-width=\"3.2\"/>\n",
       "<circle clip-path=\"url(#clip732)\" cx=\"660.708\" cy=\"845.839\" r=\"14\" fill=\"#e26f46\" fill-rule=\"evenodd\" fill-opacity=\"1\" stroke=\"#000000\" stroke-opacity=\"1\" stroke-width=\"3.2\"/>\n",
       "<circle clip-path=\"url(#clip732)\" cx=\"791.167\" cy=\"929.184\" r=\"14\" fill=\"#e26f46\" fill-rule=\"evenodd\" fill-opacity=\"1\" stroke=\"#000000\" stroke-opacity=\"1\" stroke-width=\"3.2\"/>\n",
       "<circle clip-path=\"url(#clip732)\" cx=\"943.369\" cy=\"614.447\" r=\"14\" fill=\"#e26f46\" fill-rule=\"evenodd\" fill-opacity=\"1\" stroke=\"#000000\" stroke-opacity=\"1\" stroke-width=\"3.2\"/>\n",
       "<circle clip-path=\"url(#clip732)\" cx=\"1073.83\" cy=\"451.656\" r=\"14\" fill=\"#e26f46\" fill-rule=\"evenodd\" fill-opacity=\"1\" stroke=\"#000000\" stroke-opacity=\"1\" stroke-width=\"3.2\"/>\n",
       "<circle clip-path=\"url(#clip732)\" cx=\"1204.29\" cy=\"951.717\" r=\"14\" fill=\"#e26f46\" fill-rule=\"evenodd\" fill-opacity=\"1\" stroke=\"#000000\" stroke-opacity=\"1\" stroke-width=\"3.2\"/>\n",
       "<circle clip-path=\"url(#clip732)\" cx=\"1334.74\" cy=\"606.221\" r=\"14\" fill=\"#e26f46\" fill-rule=\"evenodd\" fill-opacity=\"1\" stroke=\"#000000\" stroke-opacity=\"1\" stroke-width=\"3.2\"/>\n",
       "<circle clip-path=\"url(#clip732)\" cx=\"1486.95\" cy=\"894.134\" r=\"14\" fill=\"#e26f46\" fill-rule=\"evenodd\" fill-opacity=\"1\" stroke=\"#000000\" stroke-opacity=\"1\" stroke-width=\"3.2\"/>\n",
       "<circle clip-path=\"url(#clip732)\" cx=\"1617.4\" cy=\"725.815\" r=\"14\" fill=\"#e26f46\" fill-rule=\"evenodd\" fill-opacity=\"1\" stroke=\"#000000\" stroke-opacity=\"1\" stroke-width=\"3.2\"/>\n",
       "<circle clip-path=\"url(#clip732)\" cx=\"1747.86\" cy=\"87.9763\" r=\"14\" fill=\"#e26f46\" fill-rule=\"evenodd\" fill-opacity=\"1\" stroke=\"#000000\" stroke-opacity=\"1\" stroke-width=\"3.2\"/>\n",
       "<circle clip-path=\"url(#clip732)\" cx=\"1878.32\" cy=\"87.9763\" r=\"14\" fill=\"#e26f46\" fill-rule=\"evenodd\" fill-opacity=\"1\" stroke=\"#000000\" stroke-opacity=\"1\" stroke-width=\"3.2\"/>\n",
       "<circle clip-path=\"url(#clip732)\" cx=\"2030.52\" cy=\"87.9763\" r=\"14\" fill=\"#e26f46\" fill-rule=\"evenodd\" fill-opacity=\"1\" stroke=\"#000000\" stroke-opacity=\"1\" stroke-width=\"3.2\"/>\n",
       "<path clip-path=\"url(#clip730)\" d=\"\n",
       "M1858.64 1438.47 L2280.54 1438.47 L2280.54 1282.95 L1858.64 1282.95  Z\n",
       "  \" fill=\"#ffffff\" fill-rule=\"evenodd\" fill-opacity=\"1\"/>\n",
       "<polyline clip-path=\"url(#clip730)\" style=\"stroke:#000000; stroke-linecap:butt; stroke-linejoin:round; stroke-width:4; stroke-opacity:1; fill:none\" points=\"\n",
       "  1858.64,1438.47 2280.54,1438.47 2280.54,1282.95 1858.64,1282.95 1858.64,1438.47 \n",
       "  \"/>\n",
       "<polyline clip-path=\"url(#clip730)\" style=\"stroke:#009af9; stroke-linecap:butt; stroke-linejoin:round; stroke-width:4; stroke-opacity:1; fill:none\" points=\"\n",
       "  1882.71,1334.79 2027.14,1334.79 \n",
       "  \"/>\n",
       "<circle clip-path=\"url(#clip730)\" cx=\"1954.93\" cy=\"1334.79\" r=\"23\" fill=\"#009af9\" fill-rule=\"evenodd\" fill-opacity=\"1\" stroke=\"#000000\" stroke-opacity=\"1\" stroke-width=\"5.12\"/>\n",
       "<path clip-path=\"url(#clip730)\" d=\"M2051.22 1317.51 L2080.45 1317.51 L2080.45 1321.45 L2068.18 1321.45 L2068.18 1352.07 L2063.48 1352.07 L2063.48 1321.45 L2051.22 1321.45 L2051.22 1317.51 Z\" fill=\"#000000\" fill-rule=\"evenodd\" fill-opacity=\"1\" /><path clip-path=\"url(#clip730)\" d=\"M2095.01 1316.1 Q2091.91 1321.43 2090.41 1326.63 Q2088.9 1331.84 2088.9 1337.19 Q2088.9 1342.54 2090.41 1347.79 Q2091.93 1353.02 2095.01 1358.32 L2091.31 1358.32 Q2087.84 1352.88 2086.1 1347.63 Q2084.39 1342.38 2084.39 1337.19 Q2084.39 1332.03 2086.1 1326.8 Q2087.81 1321.57 2091.31 1316.1 L2095.01 1316.1 Z\" fill=\"#000000\" fill-rule=\"evenodd\" fill-opacity=\"1\" /><path clip-path=\"url(#clip730)\" d=\"M2120.61 1322.35 L2120.61 1335.25 L2133.51 1335.25 L2133.51 1339.18 L2120.61 1339.18 L2120.61 1352.07 L2116.73 1352.07 L2116.73 1339.18 L2103.83 1339.18 L2103.83 1335.25 L2116.73 1335.25 L2116.73 1322.35 L2120.61 1322.35 Z\" fill=\"#000000\" fill-rule=\"evenodd\" fill-opacity=\"1\" /><path clip-path=\"url(#clip730)\" d=\"M2175.94 1336.17 L2175.94 1338.26 L2166.84 1347.35 L2164.06 1344.57 L2169.46 1339.18 L2141.24 1339.18 L2141.24 1335.25 L2169.46 1335.25 L2164.06 1329.85 L2166.84 1327.07 L2175.94 1336.17 Z\" fill=\"#000000\" fill-rule=\"evenodd\" fill-opacity=\"1\" /><path clip-path=\"url(#clip730)\" d=\"M2200.06 1322.35 L2200.06 1335.25 L2212.95 1335.25 L2212.95 1339.18 L2200.06 1339.18 L2200.06 1352.07 L2196.17 1352.07 L2196.17 1339.18 L2183.28 1339.18 L2183.28 1335.25 L2196.17 1335.25 L2196.17 1322.35 L2200.06 1322.35 Z\" fill=\"#000000\" fill-rule=\"evenodd\" fill-opacity=\"1\" /><path clip-path=\"url(#clip730)\" d=\"M2221.77 1316.1 L2225.47 1316.1 Q2228.95 1321.57 2230.66 1326.8 Q2232.4 1332.03 2232.4 1337.19 Q2232.4 1342.38 2230.66 1347.63 Q2228.95 1352.88 2225.47 1358.32 L2221.77 1358.32 Q2224.85 1353.02 2226.35 1347.79 Q2227.88 1342.54 2227.88 1337.19 Q2227.88 1331.84 2226.35 1326.63 Q2224.85 1321.43 2221.77 1316.1 Z\" fill=\"#000000\" fill-rule=\"evenodd\" fill-opacity=\"1\" /><polyline clip-path=\"url(#clip730)\" style=\"stroke:#e26f46; stroke-linecap:butt; stroke-linejoin:round; stroke-width:4; stroke-opacity:1; fill:none\" points=\"\n",
       "  1882.71,1386.63 2027.14,1386.63 \n",
       "  \"/>\n",
       "<circle clip-path=\"url(#clip730)\" cx=\"1954.93\" cy=\"1386.63\" r=\"23\" fill=\"#e26f46\" fill-rule=\"evenodd\" fill-opacity=\"1\" stroke=\"#000000\" stroke-opacity=\"1\" stroke-width=\"5.12\"/>\n",
       "<path clip-path=\"url(#clip730)\" d=\"M2051.22 1369.35 L2080.45 1369.35 L2080.45 1373.29 L2068.18 1373.29 L2068.18 1403.91 L2063.48 1403.91 L2063.48 1373.29 L2051.22 1373.29 L2051.22 1369.35 Z\" fill=\"#000000\" fill-rule=\"evenodd\" fill-opacity=\"1\" /><path clip-path=\"url(#clip730)\" d=\"M2095.01 1367.94 Q2091.91 1373.27 2090.41 1378.47 Q2088.9 1383.68 2088.9 1389.03 Q2088.9 1394.38 2090.41 1399.63 Q2091.93 1404.86 2095.01 1410.16 L2091.31 1410.16 Q2087.84 1404.72 2086.1 1399.47 Q2084.39 1394.22 2084.39 1389.03 Q2084.39 1383.87 2086.1 1378.64 Q2087.81 1373.41 2091.31 1367.94 L2095.01 1367.94 Z\" fill=\"#000000\" fill-rule=\"evenodd\" fill-opacity=\"1\" /><path clip-path=\"url(#clip730)\" d=\"M2103.83 1387.09 L2133.51 1387.09 L2133.51 1391.02 L2103.83 1391.02 L2103.83 1387.09 Z\" fill=\"#000000\" fill-rule=\"evenodd\" fill-opacity=\"1\" /><path clip-path=\"url(#clip730)\" d=\"M2175.94 1388.01 L2175.94 1390.1 L2166.84 1399.19 L2164.06 1396.41 L2169.46 1391.02 L2141.24 1391.02 L2141.24 1387.09 L2169.46 1387.09 L2164.06 1381.69 L2166.84 1378.91 L2175.94 1388.01 Z\" fill=\"#000000\" fill-rule=\"evenodd\" fill-opacity=\"1\" /><path clip-path=\"url(#clip730)\" d=\"M2200.06 1374.19 L2200.06 1387.09 L2212.95 1387.09 L2212.95 1391.02 L2200.06 1391.02 L2200.06 1403.91 L2196.17 1403.91 L2196.17 1391.02 L2183.28 1391.02 L2183.28 1387.09 L2196.17 1387.09 L2196.17 1374.19 L2200.06 1374.19 Z\" fill=\"#000000\" fill-rule=\"evenodd\" fill-opacity=\"1\" /><path clip-path=\"url(#clip730)\" d=\"M2221.77 1367.94 L2225.47 1367.94 Q2228.95 1373.41 2230.66 1378.64 Q2232.4 1383.87 2232.4 1389.03 Q2232.4 1394.22 2230.66 1399.47 Q2228.95 1404.72 2225.47 1410.16 L2221.77 1410.16 Q2224.85 1404.86 2226.35 1399.63 Q2227.88 1394.38 2227.88 1389.03 Q2227.88 1383.68 2226.35 1378.47 Q2224.85 1373.27 2221.77 1367.94 Z\" fill=\"#000000\" fill-rule=\"evenodd\" fill-opacity=\"1\" /></svg>\n"
      ]
     },
     "metadata": {},
     "output_type": "display_data"
    }
   ],
   "source": [
    "points = 16\n",
    "\n",
    "chosen_ths = [0:points-1...] ./ points\n",
    "inds = [findfirst(ths .>= chosen_ths[i]) for i in 1:length(chosen_ths)]\n",
    "\n",
    "plot(ths[inds], bal_to_bals[inds], markershape = :circle, label = \"T(+→+)\", legend = :bottomright)\n",
    "plot!(ths[inds], ubal_to_bals[inds], markershape = :circle, label = \"T(−→+)\") "
   ]
  },
  {
   "cell_type": "code",
   "execution_count": 123,
   "metadata": {},
   "outputs": [
    {
     "data": {
      "image/png": "[encoded data removed]",
      "image/svg+xml": "<?xml version=\"1.0\" encoding=\"utf-8\"?>\n<svg xmlns=\"http://www.w3.org/2000/svg\" xmlns:xlink=\"http://www.w3.org/1999/xlink\" width=\"600\" height=\"400\" viewBox=\"0 0 2400 1600\">\n<defs>\n  <clipPath id=\"clip220\">\n    <rect x=\"0\" y=\"0\" width=\"2400\" height=\"1600\"/>\n  </clipPath>\n</defs>\n<path clip-path=\"url(#clip220)\" d=\"\nM0 1600 L2400 1600 L2400 0 L0 0  Z\n  \" fill=\"#ffffff\" fill-rule=\"evenodd\" fill-opacity=\"1\"/>\n<defs>\n  <clipPath id=\"clip221\">\n    <rect x=\"480\" y=\"0\" width=\"1681\" height=\"1600\"/>\n  </clipPath>\n</defs>\n<path clip-path=\"url(#clip220)\" d=\"\nM156.598 1486.45 L752.756 1486.45 L752.756 123.472 L156.598 123.472  Z\n  \" fill=\"#ffffff\" fill-rule=\"evenodd\" fill-opacity=\"1\"/>\n<defs>\n  <clipPath id=\"clip222\">\n    <rect x=\"156\" y=\"123\" width=\"597\" height=\"1364\"/>\n  </clipPath>\n</defs>\n<polyline clip-path=\"url(#clip222)\" style=\"stroke:#000000; stroke-linecap:butt; stroke-linejoin:round; stroke-width:2; stroke-opacity:0.1; fill:none\" points=\"\n  173.471,1486.45 173.471,123.472 \n  \"/>\n<polyline clip-path=\"url(#clip222)\" style=\"stroke:#000000; stroke-linecap:butt; stroke-linejoin:round; stroke-width:2; stroke-opacity:0.1; fill:none\" points=\"\n  293.133,1486.45 293.133,123.472 \n  \"/>\n<polyline clip-path=\"url(#clip222)\" style=\"stroke:#000000; stroke-linecap:butt; stroke-linejoin:round; stroke-width:2; stroke-opacity:0.1; fill:none\" points=\"\n  412.795,1486.45 412.795,123.472 \n  \"/>\n<polyline clip-path=\"url(#clip222)\" style=\"stroke:#000000; stroke-linecap:butt; stroke-linejoin:round; stroke-width:2; stroke-opacity:0.1; fill:none\" points=\"\n  532.458,1486.45 532.458,123.472 \n  \"/>\n<polyline clip-path=\"url(#clip222)\" style=\"stroke:#000000; stroke-linecap:butt; stroke-linejoin:round; stroke-width:2; stroke-opacity:0.1; fill:none\" points=\"\n  652.12,1486.45 652.12,123.472 \n  \"/>\n<polyline clip-path=\"url(#clip220)\" style=\"stroke:#000000; stroke-linecap:butt; stroke-linejoin:round; stroke-width:4; stroke-opacity:1; fill:none\" points=\"\n  156.598,1486.45 752.756,1486.45 \n  \"/>\n<polyline clip-path=\"url(#clip220)\" style=\"stroke:#000000; stroke-linecap:butt; stroke-linejoin:round; stroke-width:4; stroke-opacity:1; fill:none\" points=\"\n  173.471,1486.45 173.471,1467.55 \n  \"/>\n<polyline clip-path=\"url(#clip220)\" style=\"stroke:#000000; stroke-linecap:butt; stroke-linejoin:round; stroke-width:4; stroke-opacity:1; fill:none\" points=\"\n  293.133,1486.45 293.133,1467.55 \n  \"/>\n<polyline clip-path=\"url(#clip220)\" style=\"stroke:#000000; stroke-linecap:butt; stroke-linejoin:round; stroke-width:4; stroke-opacity:1; fill:none\" points=\"\n  412.795,1486.45 412.795,1467.55 \n  \"/>\n<polyline clip-path=\"url(#clip220)\" style=\"stroke:#000000; stroke-linecap:butt; stroke-linejoin:round; stroke-width:4; stroke-opacity:1; fill:none\" points=\"\n  532.458,1486.45 532.458,1467.55 \n  \"/>\n<polyline clip-path=\"url(#clip220)\" style=\"stroke:#000000; stroke-linecap:butt; stroke-linejoin:round; stroke-width:4; stroke-opacity:1; fill:none\" points=\"\n  652.12,1486.45 652.12,1467.55 \n  \"/>\n<path clip-path=\"url(#clip220)\" d=\"M150.855 1517.37 Q147.244 1517.37 145.415 1520.93 Q143.61 1524.47 143.61 1531.6 Q143.61 1538.71 145.415 1542.27 Q147.244 1545.82 150.855 1545.82 Q154.489 1545.82 156.295 1542.27 Q158.123 1538.71 158.123 1531.6 Q158.123 1524.47 156.295 1520.93 Q154.489 1517.37 150.855 1517.37 M150.855 1513.66 Q156.665 1513.66 159.721 1518.27 Q162.799 1522.85 162.799 1531.6 Q162.799 1540.33 159.721 1544.94 Q156.665 1549.52 150.855 1549.52 Q145.045 1549.52 141.966 1544.94 Q138.911 1540.33 138.911 1531.6 Q138.911 1522.85 141.966 1518.27 Q145.045 1513.66 150.855 1513.66 Z\" fill=\"#000000\" fill-rule=\"evenodd\" fill-opacity=\"1\" /><path clip-path=\"url(#clip220)\" d=\"M171.017 1542.97 L175.901 1542.97 L175.901 1548.85 L171.017 1548.85 L171.017 1542.97 Z\" fill=\"#000000\" fill-rule=\"evenodd\" fill-opacity=\"1\" /><path clip-path=\"url(#clip220)\" d=\"M196.086 1517.37 Q192.475 1517.37 190.646 1520.93 Q188.841 1524.47 188.841 1531.6 Q188.841 1538.71 190.646 1542.27 Q192.475 1545.82 196.086 1545.82 Q199.72 1545.82 201.526 1542.27 Q203.355 1538.71 203.355 1531.6 Q203.355 1524.47 201.526 1520.93 Q199.72 1517.37 196.086 1517.37 M196.086 1513.66 Q201.896 1513.66 204.952 1518.27 Q208.031 1522.85 208.031 1531.6 Q208.031 1540.33 204.952 1544.94 Q201.896 1549.52 196.086 1549.52 Q190.276 1549.52 187.197 1544.94 Q184.142 1540.33 184.142 1531.6 Q184.142 1522.85 187.197 1518.27 Q190.276 1513.66 196.086 1513.66 Z\" fill=\"#000000\" fill-rule=\"evenodd\" fill-opacity=\"1\" /><path clip-path=\"url(#clip220)\" d=\"M271.316 1517.37 Q267.705 1517.37 265.876 1520.93 Q264.071 1524.47 264.071 1531.6 Q264.071 1538.71 265.876 1542.27 Q267.705 1545.82 271.316 1545.82 Q274.95 1545.82 276.756 1542.27 Q278.584 1538.71 278.584 1531.6 Q278.584 1524.47 276.756 1520.93 Q274.95 1517.37 271.316 1517.37 M271.316 1513.66 Q277.126 1513.66 280.182 1518.27 Q283.26 1522.85 283.26 1531.6 Q283.26 1540.33 280.182 1544.94 Q277.126 1549.52 271.316 1549.52 Q265.506 1549.52 262.427 1544.94 Q259.372 1540.33 259.372 1531.6 Q259.372 1522.85 262.427 1518.27 Q265.506 1513.66 271.316 1513.66 Z\" fill=\"#000000\" fill-rule=\"evenodd\" fill-opacity=\"1\" /><path clip-path=\"url(#clip220)\" d=\"M291.478 1542.97 L296.362 1542.97 L296.362 1548.85 L291.478 1548.85 L291.478 1542.97 Z\" fill=\"#000000\" fill-rule=\"evenodd\" fill-opacity=\"1\" /><path clip-path=\"url(#clip220)\" d=\"M310.575 1544.91 L326.894 1544.91 L326.894 1548.85 L304.95 1548.85 L304.95 1544.91 Q307.612 1542.16 312.195 1537.53 Q316.802 1532.88 317.982 1531.53 Q320.228 1529.01 321.107 1527.27 Q322.01 1525.51 322.01 1523.82 Q322.01 1521.07 320.066 1519.33 Q318.144 1517.6 315.043 1517.6 Q312.843 1517.6 310.39 1518.36 Q307.959 1519.13 305.181 1520.68 L305.181 1515.95 Q308.006 1514.82 310.459 1514.24 Q312.913 1513.66 314.95 1513.66 Q320.32 1513.66 323.515 1516.35 Q326.709 1519.03 326.709 1523.52 Q326.709 1525.65 325.899 1527.57 Q325.112 1529.47 323.005 1532.07 Q322.427 1532.74 319.325 1535.95 Q316.223 1539.15 310.575 1544.91 Z\" fill=\"#000000\" fill-rule=\"evenodd\" fill-opacity=\"1\" /><path clip-path=\"url(#clip220)\" d=\"M389.937 1517.37 Q386.325 1517.37 384.497 1520.93 Q382.691 1524.47 382.691 1531.6 Q382.691 1538.71 384.497 1542.27 Q386.325 1545.82 389.937 1545.82 Q393.571 1545.82 395.376 1542.27 Q397.205 1538.71 397.205 1531.6 Q397.205 1524.47 395.376 1520.93 Q393.571 1517.37 389.937 1517.37 M389.937 1513.66 Q395.747 1513.66 398.802 1518.27 Q401.881 1522.85 401.881 1531.6 Q401.881 1540.33 398.802 1544.94 Q395.747 1549.52 389.937 1549.52 Q384.126 1549.52 381.048 1544.94 Q377.992 1540.33 377.992 1531.6 Q377.992 1522.85 381.048 1518.27 Q384.126 1513.66 389.937 1513.66 Z\" fill=\"#000000\" fill-rule=\"evenodd\" fill-opacity=\"1\" /><path clip-path=\"url(#clip220)\" d=\"M410.099 1542.97 L414.983 1542.97 L414.983 1548.85 L410.099 1548.85 L410.099 1542.97 Z\" fill=\"#000000\" fill-rule=\"evenodd\" fill-opacity=\"1\" /><path clip-path=\"url(#clip220)\" d=\"M438.015 1518.36 L426.21 1536.81 L438.015 1536.81 L438.015 1518.36 M436.788 1514.29 L442.668 1514.29 L442.668 1536.81 L447.598 1536.81 L447.598 1540.7 L442.668 1540.7 L442.668 1548.85 L438.015 1548.85 L438.015 1540.7 L422.413 1540.7 L422.413 1536.19 L436.788 1514.29 Z\" fill=\"#000000\" fill-rule=\"evenodd\" fill-opacity=\"1\" /><path clip-path=\"url(#clip220)\" d=\"M509.761 1517.37 Q506.15 1517.37 504.321 1520.93 Q502.516 1524.47 502.516 1531.6 Q502.516 1538.71 504.321 1542.27 Q506.15 1545.82 509.761 1545.82 Q513.395 1545.82 515.201 1542.27 Q517.029 1538.71 517.029 1531.6 Q517.029 1524.47 515.201 1520.93 Q513.395 1517.37 509.761 1517.37 M509.761 1513.66 Q515.571 1513.66 518.627 1518.27 Q521.705 1522.85 521.705 1531.6 Q521.705 1540.33 518.627 1544.94 Q515.571 1549.52 509.761 1549.52 Q503.951 1549.52 500.872 1544.94 Q497.817 1540.33 497.817 1531.6 Q497.817 1522.85 500.872 1518.27 Q503.951 1513.66 509.761 1513.66 Z\" fill=\"#000000\" fill-rule=\"evenodd\" fill-opacity=\"1\" /><path clip-path=\"url(#clip220)\" d=\"M529.923 1542.97 L534.807 1542.97 L534.807 1548.85 L529.923 1548.85 L529.923 1542.97 Z\" fill=\"#000000\" fill-rule=\"evenodd\" fill-opacity=\"1\" /><path clip-path=\"url(#clip220)\" d=\"M555.571 1529.7 Q552.423 1529.7 550.571 1531.86 Q548.742 1534.01 548.742 1537.76 Q548.742 1541.49 550.571 1543.66 Q552.423 1545.82 555.571 1545.82 Q558.719 1545.82 560.548 1543.66 Q562.4 1541.49 562.4 1537.76 Q562.4 1534.01 560.548 1531.86 Q558.719 1529.7 555.571 1529.7 M564.853 1515.05 L564.853 1519.31 Q563.094 1518.48 561.288 1518.04 Q559.506 1517.6 557.747 1517.6 Q553.117 1517.6 550.663 1520.72 Q548.233 1523.85 547.886 1530.17 Q549.251 1528.15 551.312 1527.09 Q553.372 1526 555.849 1526 Q561.057 1526 564.066 1529.17 Q567.099 1532.32 567.099 1537.76 Q567.099 1543.08 563.95 1546.3 Q560.802 1549.52 555.571 1549.52 Q549.576 1549.52 546.404 1544.94 Q543.233 1540.33 543.233 1531.6 Q543.233 1523.41 547.122 1518.55 Q551.011 1513.66 557.562 1513.66 Q559.321 1513.66 561.103 1514.01 Q562.909 1514.36 564.853 1515.05 Z\" fill=\"#000000\" fill-rule=\"evenodd\" fill-opacity=\"1\" /><path clip-path=\"url(#clip220)\" d=\"M629.551 1517.37 Q625.939 1517.37 624.111 1520.93 Q622.305 1524.47 622.305 1531.6 Q622.305 1538.71 624.111 1542.27 Q625.939 1545.82 629.551 1545.82 Q633.185 1545.82 634.99 1542.27 Q636.819 1538.71 636.819 1531.6 Q636.819 1524.47 634.99 1520.93 Q633.185 1517.37 629.551 1517.37 M629.551 1513.66 Q635.361 1513.66 638.416 1518.27 Q641.495 1522.85 641.495 1531.6 Q641.495 1540.33 638.416 1544.94 Q635.361 1549.52 629.551 1549.52 Q623.74 1549.52 620.662 1544.94 Q617.606 1540.33 617.606 1531.6 Q617.606 1522.85 620.662 1518.27 Q623.74 1513.66 629.551 1513.66 Z\" fill=\"#000000\" fill-rule=\"evenodd\" fill-opacity=\"1\" /><path clip-path=\"url(#clip220)\" d=\"M649.713 1542.97 L654.597 1542.97 L654.597 1548.85 L649.713 1548.85 L649.713 1542.97 Z\" fill=\"#000000\" fill-rule=\"evenodd\" fill-opacity=\"1\" /><path clip-path=\"url(#clip220)\" d=\"M674.782 1532.44 Q671.448 1532.44 669.527 1534.22 Q667.629 1536 667.629 1539.13 Q667.629 1542.25 669.527 1544.03 Q671.448 1545.82 674.782 1545.82 Q678.115 1545.82 680.036 1544.03 Q681.958 1542.23 681.958 1539.13 Q681.958 1536 680.036 1534.22 Q678.138 1532.44 674.782 1532.44 M670.106 1530.45 Q667.097 1529.7 665.407 1527.64 Q663.74 1525.58 663.74 1522.62 Q663.74 1518.48 666.68 1516.07 Q669.643 1513.66 674.782 1513.66 Q679.944 1513.66 682.884 1516.07 Q685.823 1518.48 685.823 1522.62 Q685.823 1525.58 684.134 1527.64 Q682.467 1529.7 679.481 1530.45 Q682.86 1531.23 684.735 1533.52 Q686.634 1535.82 686.634 1539.13 Q686.634 1544.15 683.555 1546.83 Q680.499 1549.52 674.782 1549.52 Q669.064 1549.52 665.986 1546.83 Q662.93 1544.15 662.93 1539.13 Q662.93 1535.82 664.828 1533.52 Q666.726 1531.23 670.106 1530.45 M668.393 1523.06 Q668.393 1525.75 670.06 1527.25 Q671.749 1528.76 674.782 1528.76 Q677.791 1528.76 679.481 1527.25 Q681.194 1525.75 681.194 1523.06 Q681.194 1520.38 679.481 1518.87 Q677.791 1517.37 674.782 1517.37 Q671.749 1517.37 670.06 1518.87 Q668.393 1520.38 668.393 1523.06 Z\" fill=\"#000000\" fill-rule=\"evenodd\" fill-opacity=\"1\" /><polyline clip-path=\"url(#clip222)\" style=\"stroke:#000000; stroke-linecap:butt; stroke-linejoin:round; stroke-width:2; stroke-opacity:0.1; fill:none\" points=\"\n  156.598,1447.87 752.756,1447.87 \n  \"/>\n<polyline clip-path=\"url(#clip222)\" style=\"stroke:#000000; stroke-linecap:butt; stroke-linejoin:round; stroke-width:2; stroke-opacity:0.1; fill:none\" points=\"\n  156.598,1190.71 752.756,1190.71 \n  \"/>\n<polyline clip-path=\"url(#clip222)\" style=\"stroke:#000000; stroke-linecap:butt; stroke-linejoin:round; stroke-width:2; stroke-opacity:0.1; fill:none\" points=\"\n  156.598,933.543 752.756,933.543 \n  \"/>\n<polyline clip-path=\"url(#clip222)\" style=\"stroke:#000000; stroke-linecap:butt; stroke-linejoin:round; stroke-width:2; stroke-opacity:0.1; fill:none\" points=\"\n  156.598,676.377 752.756,676.377 \n  \"/>\n<polyline clip-path=\"url(#clip222)\" style=\"stroke:#000000; stroke-linecap:butt; stroke-linejoin:round; stroke-width:2; stroke-opacity:0.1; fill:none\" points=\"\n  156.598,419.212 752.756,419.212 \n  \"/>\n<polyline clip-path=\"url(#clip222)\" style=\"stroke:#000000; stroke-linecap:butt; stroke-linejoin:round; stroke-width:2; stroke-opacity:0.1; fill:none\" points=\"\n  156.598,162.047 752.756,162.047 \n  \"/>\n<polyline clip-path=\"url(#clip220)\" style=\"stroke:#000000; stroke-linecap:butt; stroke-linejoin:round; stroke-width:4; stroke-opacity:1; fill:none\" points=\"\n  156.598,1486.45 156.598,123.472 \n  \"/>\n<polyline clip-path=\"url(#clip220)\" style=\"stroke:#000000; stroke-linecap:butt; stroke-linejoin:round; stroke-width:4; stroke-opacity:1; fill:none\" points=\"\n  156.598,1447.87 175.496,1447.87 \n  \"/>\n<polyline clip-path=\"url(#clip220)\" style=\"stroke:#000000; stroke-linecap:butt; stroke-linejoin:round; stroke-width:4; stroke-opacity:1; fill:none\" points=\"\n  156.598,1190.71 175.496,1190.71 \n  \"/>\n<polyline clip-path=\"url(#clip220)\" style=\"stroke:#000000; stroke-linecap:butt; stroke-linejoin:round; stroke-width:4; stroke-opacity:1; fill:none\" points=\"\n  156.598,933.543 175.496,933.543 \n  \"/>\n<polyline clip-path=\"url(#clip220)\" style=\"stroke:#000000; stroke-linecap:butt; stroke-linejoin:round; stroke-width:4; stroke-opacity:1; fill:none\" points=\"\n  156.598,676.377 175.496,676.377 \n  \"/>\n<polyline clip-path=\"url(#clip220)\" style=\"stroke:#000000; stroke-linecap:butt; stroke-linejoin:round; stroke-width:4; stroke-opacity:1; fill:none\" points=\"\n  156.598,419.212 175.496,419.212 \n  \"/>\n<polyline clip-path=\"url(#clip220)\" style=\"stroke:#000000; stroke-linecap:butt; stroke-linejoin:round; stroke-width:4; stroke-opacity:1; fill:none\" points=\"\n  156.598,162.047 175.496,162.047 \n  \"/>\n<path clip-path=\"url(#clip220)\" d=\"M63.4226 1433.67 Q59.8115 1433.67 57.9828 1437.24 Q56.1773 1440.78 56.1773 1447.91 Q56.1773 1455.01 57.9828 1458.58 Q59.8115 1462.12 63.4226 1462.12 Q67.0569 1462.12 68.8624 1458.58 Q70.6911 1455.01 70.6911 1447.91 Q70.6911 1440.78 68.8624 1437.24 Q67.0569 1433.67 63.4226 1433.67 M63.4226 1429.97 Q69.2328 1429.97 72.2883 1434.57 Q75.367 1439.16 75.367 1447.91 Q75.367 1456.63 72.2883 1461.24 Q69.2328 1465.82 63.4226 1465.82 Q57.6125 1465.82 54.5338 1461.24 Q51.4782 1456.63 51.4782 1447.91 Q51.4782 1439.16 54.5338 1434.57 Q57.6125 1429.97 63.4226 1429.97 Z\" fill=\"#000000\" fill-rule=\"evenodd\" fill-opacity=\"1\" /><path clip-path=\"url(#clip220)\" d=\"M83.5845 1459.27 L88.4688 1459.27 L88.4688 1465.15 L83.5845 1465.15 L83.5845 1459.27 Z\" fill=\"#000000\" fill-rule=\"evenodd\" fill-opacity=\"1\" /><path clip-path=\"url(#clip220)\" d=\"M108.654 1433.67 Q105.043 1433.67 103.214 1437.24 Q101.409 1440.78 101.409 1447.91 Q101.409 1455.01 103.214 1458.58 Q105.043 1462.12 108.654 1462.12 Q112.288 1462.12 114.094 1458.58 Q115.922 1455.01 115.922 1447.91 Q115.922 1440.78 114.094 1437.24 Q112.288 1433.67 108.654 1433.67 M108.654 1429.97 Q114.464 1429.97 117.52 1434.57 Q120.598 1439.16 120.598 1447.91 Q120.598 1456.63 117.52 1461.24 Q114.464 1465.82 108.654 1465.82 Q102.844 1465.82 99.765 1461.24 Q96.7095 1456.63 96.7095 1447.91 Q96.7095 1439.16 99.765 1434.57 Q102.844 1429.97 108.654 1429.97 Z\" fill=\"#000000\" fill-rule=\"evenodd\" fill-opacity=\"1\" /><path clip-path=\"url(#clip220)\" d=\"M64.6495 1176.51 Q61.0384 1176.51 59.2097 1180.07 Q57.4041 1183.61 57.4041 1190.74 Q57.4041 1197.85 59.2097 1201.41 Q61.0384 1204.96 64.6495 1204.96 Q68.2837 1204.96 70.0892 1201.41 Q71.9179 1197.85 71.9179 1190.74 Q71.9179 1183.61 70.0892 1180.07 Q68.2837 1176.51 64.6495 1176.51 M64.6495 1172.8 Q70.4596 1172.8 73.5152 1177.41 Q76.5938 1181.99 76.5938 1190.74 Q76.5938 1199.47 73.5152 1204.08 Q70.4596 1208.66 64.6495 1208.66 Q58.8393 1208.66 55.7606 1204.08 Q52.7051 1199.47 52.7051 1190.74 Q52.7051 1181.99 55.7606 1177.41 Q58.8393 1172.8 64.6495 1172.8 Z\" fill=\"#000000\" fill-rule=\"evenodd\" fill-opacity=\"1\" /><path clip-path=\"url(#clip220)\" d=\"M84.8114 1202.11 L89.6956 1202.11 L89.6956 1207.99 L84.8114 1207.99 L84.8114 1202.11 Z\" fill=\"#000000\" fill-rule=\"evenodd\" fill-opacity=\"1\" /><path clip-path=\"url(#clip220)\" d=\"M100.691 1204.05 L108.33 1204.05 L108.33 1177.69 L100.02 1179.35 L100.02 1175.09 L108.283 1173.43 L112.959 1173.43 L112.959 1204.05 L120.598 1204.05 L120.598 1207.99 L100.691 1207.99 L100.691 1204.05 Z\" fill=\"#000000\" fill-rule=\"evenodd\" fill-opacity=\"1\" /><path clip-path=\"url(#clip220)\" d=\"M65.0198 919.341 Q61.4087 919.341 59.58 922.906 Q57.7745 926.448 57.7745 933.577 Q57.7745 940.684 59.58 944.249 Q61.4087 947.79 65.0198 947.79 Q68.6541 947.79 70.4596 944.249 Q72.2883 940.684 72.2883 933.577 Q72.2883 926.448 70.4596 922.906 Q68.6541 919.341 65.0198 919.341 M65.0198 915.638 Q70.83 915.638 73.8855 920.244 Q76.9642 924.827 76.9642 933.577 Q76.9642 942.304 73.8855 946.911 Q70.83 951.494 65.0198 951.494 Q59.2097 951.494 56.131 946.911 Q53.0754 942.304 53.0754 933.577 Q53.0754 924.827 56.131 920.244 Q59.2097 915.638 65.0198 915.638 Z\" fill=\"#000000\" fill-rule=\"evenodd\" fill-opacity=\"1\" /><path clip-path=\"url(#clip220)\" d=\"M85.1818 944.943 L90.066 944.943 L90.066 950.823 L85.1818 950.823 L85.1818 944.943 Z\" fill=\"#000000\" fill-rule=\"evenodd\" fill-opacity=\"1\" /><path clip-path=\"url(#clip220)\" d=\"M104.279 946.887 L120.598 946.887 L120.598 950.823 L98.6539 950.823 L98.6539 946.887 Q101.316 944.133 105.899 939.503 Q110.506 934.85 111.686 933.508 Q113.932 930.985 114.811 929.249 Q115.714 927.489 115.714 925.8 Q115.714 923.045 113.77 921.309 Q111.848 919.573 108.746 919.573 Q106.547 919.573 104.094 920.337 Q101.663 921.101 98.8854 922.651 L98.8854 917.929 Q101.709 916.795 104.163 916.216 Q106.617 915.638 108.654 915.638 Q114.024 915.638 117.219 918.323 Q120.413 921.008 120.413 925.499 Q120.413 927.628 119.603 929.55 Q118.816 931.448 116.709 934.04 Q116.131 934.712 113.029 937.929 Q109.927 941.124 104.279 946.887 Z\" fill=\"#000000\" fill-rule=\"evenodd\" fill-opacity=\"1\" /><path clip-path=\"url(#clip220)\" d=\"M64.0708 662.176 Q60.4597 662.176 58.631 665.741 Q56.8254 669.283 56.8254 676.412 Q56.8254 683.519 58.631 687.083 Q60.4597 690.625 64.0708 690.625 Q67.705 690.625 69.5105 687.083 Q71.3392 683.519 71.3392 676.412 Q71.3392 669.283 69.5105 665.741 Q67.705 662.176 64.0708 662.176 M64.0708 658.472 Q69.8809 658.472 72.9365 663.079 Q76.0151 667.662 76.0151 676.412 Q76.0151 685.139 72.9365 689.745 Q69.8809 694.329 64.0708 694.329 Q58.2606 694.329 55.1819 689.745 Q52.1264 685.139 52.1264 676.412 Q52.1264 667.662 55.1819 663.079 Q58.2606 658.472 64.0708 658.472 Z\" fill=\"#000000\" fill-rule=\"evenodd\" fill-opacity=\"1\" /><path clip-path=\"url(#clip220)\" d=\"M84.2327 687.778 L89.1169 687.778 L89.1169 693.657 L84.2327 693.657 L84.2327 687.778 Z\" fill=\"#000000\" fill-rule=\"evenodd\" fill-opacity=\"1\" /><path clip-path=\"url(#clip220)\" d=\"M113.469 675.023 Q116.825 675.741 118.7 678.009 Q120.598 680.278 120.598 683.611 Q120.598 688.727 117.08 691.528 Q113.561 694.329 107.08 694.329 Q104.904 694.329 102.589 693.889 Q100.297 693.472 97.8437 692.616 L97.8437 688.102 Q99.7882 689.236 102.103 689.815 Q104.418 690.394 106.941 690.394 Q111.339 690.394 113.631 688.657 Q115.945 686.921 115.945 683.611 Q115.945 680.556 113.793 678.843 Q111.663 677.107 107.844 677.107 L103.816 677.107 L103.816 673.264 L108.029 673.264 Q111.478 673.264 113.307 671.898 Q115.135 670.509 115.135 667.917 Q115.135 665.255 113.237 663.843 Q111.362 662.408 107.844 662.408 Q105.922 662.408 103.723 662.824 Q101.524 663.241 98.8854 664.121 L98.8854 659.954 Q101.547 659.213 103.862 658.843 Q106.2 658.472 108.26 658.472 Q113.584 658.472 116.686 660.903 Q119.788 663.31 119.788 667.431 Q119.788 670.301 118.145 672.292 Q116.501 674.259 113.469 675.023 Z\" fill=\"#000000\" fill-rule=\"evenodd\" fill-opacity=\"1\" /><path clip-path=\"url(#clip220)\" d=\"M62.9365 405.011 Q59.3254 405.011 57.4967 408.576 Q55.6912 412.117 55.6912 419.247 Q55.6912 426.353 57.4967 429.918 Q59.3254 433.46 62.9365 433.46 Q66.5707 433.46 68.3763 429.918 Q70.205 426.353 70.205 419.247 Q70.205 412.117 68.3763 408.576 Q66.5707 405.011 62.9365 405.011 M62.9365 401.307 Q68.7467 401.307 71.8022 405.914 Q74.8809 410.497 74.8809 419.247 Q74.8809 427.974 71.8022 432.58 Q68.7467 437.163 62.9365 437.163 Q57.1264 437.163 54.0477 432.58 Q50.9921 427.974 50.9921 419.247 Q50.9921 410.497 54.0477 405.914 Q57.1264 401.307 62.9365 401.307 Z\" fill=\"#000000\" fill-rule=\"evenodd\" fill-opacity=\"1\" /><path clip-path=\"url(#clip220)\" d=\"M83.0984 430.613 L87.9827 430.613 L87.9827 436.492 L83.0984 436.492 L83.0984 430.613 Z\" fill=\"#000000\" fill-rule=\"evenodd\" fill-opacity=\"1\" /><path clip-path=\"url(#clip220)\" d=\"M111.015 406.006 L99.2095 424.455 L111.015 424.455 L111.015 406.006 M109.788 401.932 L115.668 401.932 L115.668 424.455 L120.598 424.455 L120.598 428.344 L115.668 428.344 L115.668 436.492 L111.015 436.492 L111.015 428.344 L95.4132 428.344 L95.4132 423.83 L109.788 401.932 Z\" fill=\"#000000\" fill-rule=\"evenodd\" fill-opacity=\"1\" /><path clip-path=\"url(#clip220)\" d=\"M64.418 147.846 Q60.8069 147.846 58.9782 151.41 Q57.1726 154.952 57.1726 162.082 Q57.1726 169.188 58.9782 172.753 Q60.8069 176.295 64.418 176.295 Q68.0522 176.295 69.8578 172.753 Q71.6865 169.188 71.6865 162.082 Q71.6865 154.952 69.8578 151.41 Q68.0522 147.846 64.418 147.846 M64.418 144.142 Q70.2281 144.142 73.2837 148.748 Q76.3624 153.332 76.3624 162.082 Q76.3624 170.808 73.2837 175.415 Q70.2281 179.998 64.418 179.998 Q58.6078 179.998 55.5291 175.415 Q52.4736 170.808 52.4736 162.082 Q52.4736 153.332 55.5291 148.748 Q58.6078 144.142 64.418 144.142 Z\" fill=\"#000000\" fill-rule=\"evenodd\" fill-opacity=\"1\" /><path clip-path=\"url(#clip220)\" d=\"M84.5799 173.447 L89.4641 173.447 L89.4641 179.327 L84.5799 179.327 L84.5799 173.447 Z\" fill=\"#000000\" fill-rule=\"evenodd\" fill-opacity=\"1\" /><path clip-path=\"url(#clip220)\" d=\"M99.6956 144.767 L118.052 144.767 L118.052 148.702 L103.978 148.702 L103.978 157.174 Q104.996 156.827 106.015 156.665 Q107.033 156.48 108.052 156.48 Q113.839 156.48 117.219 159.651 Q120.598 162.822 120.598 168.239 Q120.598 173.818 117.126 176.92 Q113.654 179.998 107.334 179.998 Q105.159 179.998 102.89 179.628 Q100.645 179.257 98.2372 178.517 L98.2372 173.818 Q100.321 174.952 102.543 175.507 Q104.765 176.063 107.242 176.063 Q111.246 176.063 113.584 173.957 Q115.922 171.85 115.922 168.239 Q115.922 164.628 113.584 162.521 Q111.246 160.415 107.242 160.415 Q105.367 160.415 103.492 160.832 Q101.64 161.248 99.6956 162.128 L99.6956 144.767 Z\" fill=\"#000000\" fill-rule=\"evenodd\" fill-opacity=\"1\" /><polyline clip-path=\"url(#clip222)\" style=\"stroke:#009af9; stroke-linecap:butt; stroke-linejoin:round; stroke-width:4; stroke-opacity:1; fill:none\" points=\"\n  173.471,590.656 215.352,1019.26 251.251,260.957 287.15,543.032 323.049,275.502 364.93,495.409 400.829,430.516 436.728,314.134 472.626,341.786 514.508,369.438 \n  550.407,360.886 586.306,283.351 622.204,216.073 664.086,162.047 699.985,172.334 735.884,182.457 \n  \"/>\n<circle clip-path=\"url(#clip222)\" cx=\"173.471\" cy=\"590.656\" r=\"14\" fill=\"#009af9\" fill-rule=\"evenodd\" fill-opacity=\"1\" stroke=\"#000000\" stroke-opacity=\"1\" stroke-width=\"3.2\"/>\n<circle clip-path=\"url(#clip222)\" cx=\"215.352\" cy=\"1019.26\" r=\"14\" fill=\"#009af9\" fill-rule=\"evenodd\" fill-opacity=\"1\" stroke=\"#000000\" stroke-opacity=\"1\" stroke-width=\"3.2\"/>\n<circle clip-path=\"url(#clip222)\" cx=\"251.251\" cy=\"260.957\" r=\"14\" fill=\"#009af9\" fill-rule=\"evenodd\" fill-opacity=\"1\" stroke=\"#000000\" stroke-opacity=\"1\" stroke-width=\"3.2\"/>\n<circle clip-path=\"url(#clip222)\" cx=\"287.15\" cy=\"543.032\" r=\"14\" fill=\"#009af9\" fill-rule=\"evenodd\" fill-opacity=\"1\" stroke=\"#000000\" stroke-opacity=\"1\" stroke-width=\"3.2\"/>\n<circle clip-path=\"url(#clip222)\" cx=\"323.049\" cy=\"275.502\" r=\"14\" fill=\"#009af9\" fill-rule=\"evenodd\" fill-opacity=\"1\" stroke=\"#000000\" stroke-opacity=\"1\" stroke-width=\"3.2\"/>\n<circle clip-path=\"url(#clip222)\" cx=\"364.93\" cy=\"495.409\" r=\"14\" fill=\"#009af9\" fill-rule=\"evenodd\" fill-opacity=\"1\" stroke=\"#000000\" stroke-opacity=\"1\" stroke-width=\"3.2\"/>\n<circle clip-path=\"url(#clip222)\" cx=\"400.829\" cy=\"430.516\" r=\"14\" fill=\"#009af9\" fill-rule=\"evenodd\" fill-opacity=\"1\" stroke=\"#000000\" stroke-opacity=\"1\" stroke-width=\"3.2\"/>\n<circle clip-path=\"url(#clip222)\" cx=\"436.728\" cy=\"314.134\" r=\"14\" fill=\"#009af9\" fill-rule=\"evenodd\" fill-opacity=\"1\" stroke=\"#000000\" stroke-opacity=\"1\" stroke-width=\"3.2\"/>\n<circle clip-path=\"url(#clip222)\" cx=\"472.626\" cy=\"341.786\" r=\"14\" fill=\"#009af9\" fill-rule=\"evenodd\" fill-opacity=\"1\" stroke=\"#000000\" stroke-opacity=\"1\" stroke-width=\"3.2\"/>\n<circle clip-path=\"url(#clip222)\" cx=\"514.508\" cy=\"369.438\" r=\"14\" fill=\"#009af9\" fill-rule=\"evenodd\" fill-opacity=\"1\" stroke=\"#000000\" stroke-opacity=\"1\" stroke-width=\"3.2\"/>\n<circle clip-path=\"url(#clip222)\" cx=\"550.407\" cy=\"360.886\" r=\"14\" fill=\"#009af9\" fill-rule=\"evenodd\" fill-opacity=\"1\" stroke=\"#000000\" stroke-opacity=\"1\" stroke-width=\"3.2\"/>\n<circle clip-path=\"url(#clip222)\" cx=\"586.306\" cy=\"283.351\" r=\"14\" fill=\"#009af9\" fill-rule=\"evenodd\" fill-opacity=\"1\" stroke=\"#000000\" stroke-opacity=\"1\" stroke-width=\"3.2\"/>\n<circle clip-path=\"url(#clip222)\" cx=\"622.204\" cy=\"216.073\" r=\"14\" fill=\"#009af9\" fill-rule=\"evenodd\" fill-opacity=\"1\" stroke=\"#000000\" stroke-opacity=\"1\" stroke-width=\"3.2\"/>\n<circle clip-path=\"url(#clip222)\" cx=\"664.086\" cy=\"162.047\" r=\"14\" fill=\"#009af9\" fill-rule=\"evenodd\" fill-opacity=\"1\" stroke=\"#000000\" stroke-opacity=\"1\" stroke-width=\"3.2\"/>\n<circle clip-path=\"url(#clip222)\" cx=\"699.985\" cy=\"172.334\" r=\"14\" fill=\"#009af9\" fill-rule=\"evenodd\" fill-opacity=\"1\" stroke=\"#000000\" stroke-opacity=\"1\" stroke-width=\"3.2\"/>\n<circle clip-path=\"url(#clip222)\" cx=\"735.884\" cy=\"182.457\" r=\"14\" fill=\"#009af9\" fill-rule=\"evenodd\" fill-opacity=\"1\" stroke=\"#000000\" stroke-opacity=\"1\" stroke-width=\"3.2\"/>\n<polyline clip-path=\"url(#clip222)\" style=\"stroke:#e26f46; stroke-linecap:butt; stroke-linejoin:round; stroke-width:4; stroke-opacity:1; fill:none\" points=\"\n  173.471,1426.44 215.352,1357.64 251.251,1216.42 287.15,947.83 323.049,1048.82 364.93,704.951 400.829,419.212 436.728,980.3 472.626,668.584 514.508,1058.23 \n  550.407,827.129 586.306,547.795 622.204,345.736 664.086,804.96 699.985,1447.87 \n  \"/>\n<circle clip-path=\"url(#clip222)\" cx=\"173.471\" cy=\"1426.44\" r=\"14\" fill=\"#e26f46\" fill-rule=\"evenodd\" fill-opacity=\"1\" stroke=\"#000000\" stroke-opacity=\"1\" stroke-width=\"3.2\"/>\n<circle clip-path=\"url(#clip222)\" cx=\"215.352\" cy=\"1357.64\" r=\"14\" fill=\"#e26f46\" fill-rule=\"evenodd\" fill-opacity=\"1\" stroke=\"#000000\" stroke-opacity=\"1\" stroke-width=\"3.2\"/>\n<circle clip-path=\"url(#clip222)\" cx=\"251.251\" cy=\"1216.42\" r=\"14\" fill=\"#e26f46\" fill-rule=\"evenodd\" fill-opacity=\"1\" stroke=\"#000000\" stroke-opacity=\"1\" stroke-width=\"3.2\"/>\n<circle clip-path=\"url(#clip222)\" cx=\"287.15\" cy=\"947.83\" r=\"14\" fill=\"#e26f46\" fill-rule=\"evenodd\" fill-opacity=\"1\" stroke=\"#000000\" stroke-opacity=\"1\" stroke-width=\"3.2\"/>\n<circle clip-path=\"url(#clip222)\" cx=\"323.049\" cy=\"1048.82\" r=\"14\" fill=\"#e26f46\" fill-rule=\"evenodd\" fill-opacity=\"1\" stroke=\"#000000\" stroke-opacity=\"1\" stroke-width=\"3.2\"/>\n<circle clip-path=\"url(#clip222)\" cx=\"364.93\" cy=\"704.951\" r=\"14\" fill=\"#e26f46\" fill-rule=\"evenodd\" fill-opacity=\"1\" stroke=\"#000000\" stroke-opacity=\"1\" stroke-width=\"3.2\"/>\n<circle clip-path=\"url(#clip222)\" cx=\"400.829\" cy=\"419.212\" r=\"14\" fill=\"#e26f46\" fill-rule=\"evenodd\" fill-opacity=\"1\" stroke=\"#000000\" stroke-opacity=\"1\" stroke-width=\"3.2\"/>\n<circle clip-path=\"url(#clip222)\" cx=\"436.728\" cy=\"980.3\" r=\"14\" fill=\"#e26f46\" fill-rule=\"evenodd\" fill-opacity=\"1\" stroke=\"#000000\" stroke-opacity=\"1\" stroke-width=\"3.2\"/>\n<circle clip-path=\"url(#clip222)\" cx=\"472.626\" cy=\"668.584\" r=\"14\" fill=\"#e26f46\" fill-rule=\"evenodd\" fill-opacity=\"1\" stroke=\"#000000\" stroke-opacity=\"1\" stroke-width=\"3.2\"/>\n<circle clip-path=\"url(#clip222)\" cx=\"514.508\" cy=\"1058.23\" r=\"14\" fill=\"#e26f46\" fill-rule=\"evenodd\" fill-opacity=\"1\" stroke=\"#000000\" stroke-opacity=\"1\" stroke-width=\"3.2\"/>\n<circle clip-path=\"url(#clip222)\" cx=\"550.407\" cy=\"827.129\" r=\"14\" fill=\"#e26f46\" fill-rule=\"evenodd\" fill-opacity=\"1\" stroke=\"#000000\" stroke-opacity=\"1\" stroke-width=\"3.2\"/>\n<circle clip-path=\"url(#clip222)\" cx=\"586.306\" cy=\"547.795\" r=\"14\" fill=\"#e26f46\" fill-rule=\"evenodd\" fill-opacity=\"1\" stroke=\"#000000\" stroke-opacity=\"1\" stroke-width=\"3.2\"/>\n<circle clip-path=\"url(#clip222)\" cx=\"622.204\" cy=\"345.736\" r=\"14\" fill=\"#e26f46\" fill-rule=\"evenodd\" fill-opacity=\"1\" stroke=\"#000000\" stroke-opacity=\"1\" stroke-width=\"3.2\"/>\n<circle clip-path=\"url(#clip222)\" cx=\"664.086\" cy=\"804.96\" r=\"14\" fill=\"#e26f46\" fill-rule=\"evenodd\" fill-opacity=\"1\" stroke=\"#000000\" stroke-opacity=\"1\" stroke-width=\"3.2\"/>\n<circle clip-path=\"url(#clip222)\" cx=\"699.985\" cy=\"1447.87\" r=\"14\" fill=\"#e26f46\" fill-rule=\"evenodd\" fill-opacity=\"1\" stroke=\"#000000\" stroke-opacity=\"1\" stroke-width=\"3.2\"/>\n<path clip-path=\"url(#clip220)\" d=\"\nM485.465 1441.02 L732.884 1441.02 L732.884 1285.5 L485.465 1285.5  Z\n  \" fill=\"#ffffff\" fill-rule=\"evenodd\" fill-opacity=\"1\"/>\n<polyline clip-path=\"url(#clip220)\" style=\"stroke:#000000; stroke-linecap:butt; stroke-linejoin:round; stroke-width:4; stroke-opacity:1; fill:none\" points=\"\n  485.465,1441.02 732.884,1441.02 732.884,1285.5 485.465,1285.5 485.465,1441.02 \n  \"/>\n<polyline clip-path=\"url(#clip220)\" style=\"stroke:#009af9; stroke-linecap:butt; stroke-linejoin:round; stroke-width:4; stroke-opacity:1; fill:none\" points=\"\n  492.089,1337.34 531.832,1337.34 \n  \"/>\n<circle clip-path=\"url(#clip220)\" cx=\"511.961\" cy=\"1337.34\" r=\"23\" fill=\"#009af9\" fill-rule=\"evenodd\" fill-opacity=\"1\" stroke=\"#000000\" stroke-opacity=\"1\" stroke-width=\"5.12\"/>\n<path clip-path=\"url(#clip220)\" d=\"M538.456 1320.06 L567.692 1320.06 L567.692 1323.99 L555.424 1323.99 L555.424 1354.62 L550.725 1354.62 L550.725 1323.99 L538.456 1323.99 L538.456 1320.06 Z\" fill=\"#000000\" fill-rule=\"evenodd\" fill-opacity=\"1\" /><path clip-path=\"url(#clip220)\" d=\"M582.253 1318.64 Q579.151 1323.97 577.646 1329.18 Q576.141 1334.38 576.141 1339.73 Q576.141 1345.08 577.646 1350.33 Q579.174 1355.56 582.253 1360.87 L578.549 1360.87 Q575.077 1355.43 573.341 1350.17 Q571.628 1344.92 571.628 1339.73 Q571.628 1334.57 573.341 1329.34 Q575.053 1324.11 578.549 1318.64 L582.253 1318.64 Z\" fill=\"#000000\" fill-rule=\"evenodd\" fill-opacity=\"1\" /><path clip-path=\"url(#clip220)\" d=\"M607.854 1324.89 L607.854 1337.79 L620.748 1337.79 L620.748 1341.72 L607.854 1341.72 L607.854 1354.62 L603.965 1354.62 L603.965 1341.72 L591.072 1341.72 L591.072 1337.79 L603.965 1337.79 L603.965 1324.89 L607.854 1324.89 Z\" fill=\"#000000\" fill-rule=\"evenodd\" fill-opacity=\"1\" /><path clip-path=\"url(#clip220)\" d=\"M663.178 1338.71 L663.178 1340.8 L654.081 1349.89 L651.303 1347.12 L656.697 1341.72 L628.479 1341.72 L628.479 1337.79 L656.697 1337.79 L651.303 1332.39 L654.081 1329.62 L663.178 1338.71 Z\" fill=\"#000000\" fill-rule=\"evenodd\" fill-opacity=\"1\" /><path clip-path=\"url(#clip220)\" d=\"M687.298 1324.89 L687.298 1337.79 L700.192 1337.79 L700.192 1341.72 L687.298 1341.72 L687.298 1354.62 L683.409 1354.62 L683.409 1341.72 L670.516 1341.72 L670.516 1337.79 L683.409 1337.79 L683.409 1324.89 L687.298 1324.89 Z\" fill=\"#000000\" fill-rule=\"evenodd\" fill-opacity=\"1\" /><path clip-path=\"url(#clip220)\" d=\"M709.011 1318.64 L712.715 1318.64 Q716.187 1324.11 717.9 1329.34 Q719.636 1334.57 719.636 1339.73 Q719.636 1344.92 717.9 1350.17 Q716.187 1355.43 712.715 1360.87 L709.011 1360.87 Q712.09 1355.56 713.594 1350.33 Q715.122 1345.08 715.122 1339.73 Q715.122 1334.38 713.594 1329.18 Q712.09 1323.97 709.011 1318.64 Z\" fill=\"#000000\" fill-rule=\"evenodd\" fill-opacity=\"1\" /><polyline clip-path=\"url(#clip220)\" style=\"stroke:#e26f46; stroke-linecap:butt; stroke-linejoin:round; stroke-width:4; stroke-opacity:1; fill:none\" points=\"\n  492.089,1389.18 531.832,1389.18 \n  \"/>\n<circle clip-path=\"url(#clip220)\" cx=\"511.961\" cy=\"1389.18\" r=\"23\" fill=\"#e26f46\" fill-rule=\"evenodd\" fill-opacity=\"1\" stroke=\"#000000\" stroke-opacity=\"1\" stroke-width=\"5.12\"/>\n<path clip-path=\"url(#clip220)\" d=\"M538.456 1371.9 L567.692 1371.9 L567.692 1375.83 L555.424 1375.83 L555.424 1406.46 L550.725 1406.46 L550.725 1375.83 L538.456 1375.83 L538.456 1371.9 Z\" fill=\"#000000\" fill-rule=\"evenodd\" fill-opacity=\"1\" /><path clip-path=\"url(#clip220)\" d=\"M582.253 1370.48 Q579.151 1375.81 577.646 1381.02 Q576.141 1386.22 576.141 1391.57 Q576.141 1396.92 577.646 1402.17 Q579.174 1407.4 582.253 1412.71 L578.549 1412.71 Q575.077 1407.27 573.341 1402.01 Q571.628 1396.76 571.628 1391.57 Q571.628 1386.41 573.341 1381.18 Q575.053 1375.95 578.549 1370.48 L582.253 1370.48 Z\" fill=\"#000000\" fill-rule=\"evenodd\" fill-opacity=\"1\" /><path clip-path=\"url(#clip220)\" d=\"M591.072 1389.63 L620.748 1389.63 L620.748 1393.56 L591.072 1393.56 L591.072 1389.63 Z\" fill=\"#000000\" fill-rule=\"evenodd\" fill-opacity=\"1\" /><path clip-path=\"url(#clip220)\" d=\"M663.178 1390.55 L663.178 1392.64 L654.081 1401.73 L651.303 1398.96 L656.697 1393.56 L628.479 1393.56 L628.479 1389.63 L656.697 1389.63 L651.303 1384.23 L654.081 1381.46 L663.178 1390.55 Z\" fill=\"#000000\" fill-rule=\"evenodd\" fill-opacity=\"1\" /><path clip-path=\"url(#clip220)\" d=\"M687.298 1376.73 L687.298 1389.63 L700.192 1389.63 L700.192 1393.56 L687.298 1393.56 L687.298 1406.46 L683.409 1406.46 L683.409 1393.56 L670.516 1393.56 L670.516 1389.63 L683.409 1389.63 L683.409 1376.73 L687.298 1376.73 Z\" fill=\"#000000\" fill-rule=\"evenodd\" fill-opacity=\"1\" /><path clip-path=\"url(#clip220)\" d=\"M709.011 1370.48 L712.715 1370.48 Q716.187 1375.95 717.9 1381.18 Q719.636 1386.41 719.636 1391.57 Q719.636 1396.76 717.9 1402.01 Q716.187 1407.27 712.715 1412.71 L709.011 1412.71 Q712.09 1407.4 713.594 1402.17 Q715.122 1396.92 715.122 1391.57 Q715.122 1386.22 713.594 1381.02 Q712.09 1375.81 709.011 1370.48 Z\" fill=\"#000000\" fill-rule=\"evenodd\" fill-opacity=\"1\" /><path clip-path=\"url(#clip220)\" d=\"\nM956.598 1486.45 L1552.76 1486.45 L1552.76 123.472 L956.598 123.472  Z\n  \" fill=\"#ffffff\" fill-rule=\"evenodd\" fill-opacity=\"1\"/>\n<defs>\n  <clipPath id=\"clip223\">\n    <rect x=\"956\" y=\"123\" width=\"597\" height=\"1364\"/>\n  </clipPath>\n</defs>\n<polyline clip-path=\"url(#clip223)\" style=\"stroke:#000000; stroke-linecap:butt; stroke-linejoin:round; stroke-width:2; stroke-opacity:0.1; fill:none\" points=\"\n  973.471,1486.45 973.471,123.472 \n  \"/>\n<polyline clip-path=\"url(#clip223)\" style=\"stroke:#000000; stroke-linecap:butt; stroke-linejoin:round; stroke-width:2; stroke-opacity:0.1; fill:none\" points=\"\n  1093.13,1486.45 1093.13,123.472 \n  \"/>\n<polyline clip-path=\"url(#clip223)\" style=\"stroke:#000000; stroke-linecap:butt; stroke-linejoin:round; stroke-width:2; stroke-opacity:0.1; fill:none\" points=\"\n  1212.8,1486.45 1212.8,123.472 \n  \"/>\n<polyline clip-path=\"url(#clip223)\" style=\"stroke:#000000; stroke-linecap:butt; stroke-linejoin:round; stroke-width:2; stroke-opacity:0.1; fill:none\" points=\"\n  1332.46,1486.45 1332.46,123.472 \n  \"/>\n<polyline clip-path=\"url(#clip223)\" style=\"stroke:#000000; stroke-linecap:butt; stroke-linejoin:round; stroke-width:2; stroke-opacity:0.1; fill:none\" points=\"\n  1452.12,1486.45 1452.12,123.472 \n  \"/>\n<polyline clip-path=\"url(#clip220)\" style=\"stroke:#000000; stroke-linecap:butt; stroke-linejoin:round; stroke-width:4; stroke-opacity:1; fill:none\" points=\"\n  956.598,1486.45 1552.76,1486.45 \n  \"/>\n<polyline clip-path=\"url(#clip220)\" style=\"stroke:#000000; stroke-linecap:butt; stroke-linejoin:round; stroke-width:4; stroke-opacity:1; fill:none\" points=\"\n  973.471,1486.45 973.471,1467.55 \n  \"/>\n<polyline clip-path=\"url(#clip220)\" style=\"stroke:#000000; stroke-linecap:butt; stroke-linejoin:round; stroke-width:4; stroke-opacity:1; fill:none\" points=\"\n  1093.13,1486.45 1093.13,1467.55 \n  \"/>\n<polyline clip-path=\"url(#clip220)\" style=\"stroke:#000000; stroke-linecap:butt; stroke-linejoin:round; stroke-width:4; stroke-opacity:1; fill:none\" points=\"\n  1212.8,1486.45 1212.8,1467.55 \n  \"/>\n<polyline clip-path=\"url(#clip220)\" style=\"stroke:#000000; stroke-linecap:butt; stroke-linejoin:round; stroke-width:4; stroke-opacity:1; fill:none\" points=\"\n  1332.46,1486.45 1332.46,1467.55 \n  \"/>\n<polyline clip-path=\"url(#clip220)\" style=\"stroke:#000000; stroke-linecap:butt; stroke-linejoin:round; stroke-width:4; stroke-opacity:1; fill:none\" points=\"\n  1452.12,1486.45 1452.12,1467.55 \n  \"/>\n<path clip-path=\"url(#clip220)\" d=\"M950.855 1517.37 Q947.244 1517.37 945.415 1520.93 Q943.61 1524.47 943.61 1531.6 Q943.61 1538.71 945.415 1542.27 Q947.244 1545.82 950.855 1545.82 Q954.489 1545.82 956.295 1542.27 Q958.123 1538.71 958.123 1531.6 Q958.123 1524.47 956.295 1520.93 Q954.489 1517.37 950.855 1517.37 M950.855 1513.66 Q956.665 1513.66 959.721 1518.27 Q962.799 1522.85 962.799 1531.6 Q962.799 1540.33 959.721 1544.94 Q956.665 1549.52 950.855 1549.52 Q945.045 1549.52 941.966 1544.94 Q938.911 1540.33 938.911 1531.6 Q938.911 1522.85 941.966 1518.27 Q945.045 1513.66 950.855 1513.66 Z\" fill=\"#000000\" fill-rule=\"evenodd\" fill-opacity=\"1\" /><path clip-path=\"url(#clip220)\" d=\"M971.017 1542.97 L975.901 1542.97 L975.901 1548.85 L971.017 1548.85 L971.017 1542.97 Z\" fill=\"#000000\" fill-rule=\"evenodd\" fill-opacity=\"1\" /><path clip-path=\"url(#clip220)\" d=\"M996.086 1517.37 Q992.475 1517.37 990.646 1520.93 Q988.841 1524.47 988.841 1531.6 Q988.841 1538.71 990.646 1542.27 Q992.475 1545.82 996.086 1545.82 Q999.72 1545.82 1001.53 1542.27 Q1003.35 1538.71 1003.35 1531.6 Q1003.35 1524.47 1001.53 1520.93 Q999.72 1517.37 996.086 1517.37 M996.086 1513.66 Q1001.9 1513.66 1004.95 1518.27 Q1008.03 1522.85 1008.03 1531.6 Q1008.03 1540.33 1004.95 1544.94 Q1001.9 1549.52 996.086 1549.52 Q990.276 1549.52 987.197 1544.94 Q984.142 1540.33 984.142 1531.6 Q984.142 1522.85 987.197 1518.27 Q990.276 1513.66 996.086 1513.66 Z\" fill=\"#000000\" fill-rule=\"evenodd\" fill-opacity=\"1\" /><path clip-path=\"url(#clip220)\" d=\"M1071.32 1517.37 Q1067.7 1517.37 1065.88 1520.93 Q1064.07 1524.47 1064.07 1531.6 Q1064.07 1538.71 1065.88 1542.27 Q1067.7 1545.82 1071.32 1545.82 Q1074.95 1545.82 1076.76 1542.27 Q1078.58 1538.71 1078.58 1531.6 Q1078.58 1524.47 1076.76 1520.93 Q1074.95 1517.37 1071.32 1517.37 M1071.32 1513.66 Q1077.13 1513.66 1080.18 1518.27 Q1083.26 1522.85 1083.26 1531.6 Q1083.26 1540.33 1080.18 1544.94 Q1077.13 1549.52 1071.32 1549.52 Q1065.51 1549.52 1062.43 1544.94 Q1059.37 1540.33 1059.37 1531.6 Q1059.37 1522.85 1062.43 1518.27 Q1065.51 1513.66 1071.32 1513.66 Z\" fill=\"#000000\" fill-rule=\"evenodd\" fill-opacity=\"1\" /><path clip-path=\"url(#clip220)\" d=\"M1091.48 1542.97 L1096.36 1542.97 L1096.36 1548.85 L1091.48 1548.85 L1091.48 1542.97 Z\" fill=\"#000000\" fill-rule=\"evenodd\" fill-opacity=\"1\" /><path clip-path=\"url(#clip220)\" d=\"M1110.57 1544.91 L1126.89 1544.91 L1126.89 1548.85 L1104.95 1548.85 L1104.95 1544.91 Q1107.61 1542.16 1112.2 1537.53 Q1116.8 1532.88 1117.98 1531.53 Q1120.23 1529.01 1121.11 1527.27 Q1122.01 1525.51 1122.01 1523.82 Q1122.01 1521.07 1120.07 1519.33 Q1118.14 1517.6 1115.04 1517.6 Q1112.84 1517.6 1110.39 1518.36 Q1107.96 1519.13 1105.18 1520.68 L1105.18 1515.95 Q1108.01 1514.82 1110.46 1514.24 Q1112.91 1513.66 1114.95 1513.66 Q1120.32 1513.66 1123.51 1516.35 Q1126.71 1519.03 1126.71 1523.52 Q1126.71 1525.65 1125.9 1527.57 Q1125.11 1529.47 1123.01 1532.07 Q1122.43 1532.74 1119.32 1535.95 Q1116.22 1539.15 1110.57 1544.91 Z\" fill=\"#000000\" fill-rule=\"evenodd\" fill-opacity=\"1\" /><path clip-path=\"url(#clip220)\" d=\"M1189.94 1517.37 Q1186.33 1517.37 1184.5 1520.93 Q1182.69 1524.47 1182.69 1531.6 Q1182.69 1538.71 1184.5 1542.27 Q1186.33 1545.82 1189.94 1545.82 Q1193.57 1545.82 1195.38 1542.27 Q1197.21 1538.71 1197.21 1531.6 Q1197.21 1524.47 1195.38 1520.93 Q1193.57 1517.37 1189.94 1517.37 M1189.94 1513.66 Q1195.75 1513.66 1198.8 1518.27 Q1201.88 1522.85 1201.88 1531.6 Q1201.88 1540.33 1198.8 1544.94 Q1195.75 1549.52 1189.94 1549.52 Q1184.13 1549.52 1181.05 1544.94 Q1177.99 1540.33 1177.99 1531.6 Q1177.99 1522.85 1181.05 1518.27 Q1184.13 1513.66 1189.94 1513.66 Z\" fill=\"#000000\" fill-rule=\"evenodd\" fill-opacity=\"1\" /><path clip-path=\"url(#clip220)\" d=\"M1210.1 1542.97 L1214.98 1542.97 L1214.98 1548.85 L1210.1 1548.85 L1210.1 1542.97 Z\" fill=\"#000000\" fill-rule=\"evenodd\" fill-opacity=\"1\" /><path clip-path=\"url(#clip220)\" d=\"M1238.02 1518.36 L1226.21 1536.81 L1238.02 1536.81 L1238.02 1518.36 M1236.79 1514.29 L1242.67 1514.29 L1242.67 1536.81 L1247.6 1536.81 L1247.6 1540.7 L1242.67 1540.7 L1242.67 1548.85 L1238.02 1548.85 L1238.02 1540.7 L1222.41 1540.7 L1222.41 1536.19 L1236.79 1514.29 Z\" fill=\"#000000\" fill-rule=\"evenodd\" fill-opacity=\"1\" /><path clip-path=\"url(#clip220)\" d=\"M1309.76 1517.37 Q1306.15 1517.37 1304.32 1520.93 Q1302.52 1524.47 1302.52 1531.6 Q1302.52 1538.71 1304.32 1542.27 Q1306.15 1545.82 1309.76 1545.82 Q1313.4 1545.82 1315.2 1542.27 Q1317.03 1538.71 1317.03 1531.6 Q1317.03 1524.47 1315.2 1520.93 Q1313.4 1517.37 1309.76 1517.37 M1309.76 1513.66 Q1315.57 1513.66 1318.63 1518.27 Q1321.71 1522.85 1321.71 1531.6 Q1321.71 1540.33 1318.63 1544.94 Q1315.57 1549.52 1309.76 1549.52 Q1303.95 1549.52 1300.87 1544.94 Q1297.82 1540.33 1297.82 1531.6 Q1297.82 1522.85 1300.87 1518.27 Q1303.95 1513.66 1309.76 1513.66 Z\" fill=\"#000000\" fill-rule=\"evenodd\" fill-opacity=\"1\" /><path clip-path=\"url(#clip220)\" d=\"M1329.92 1542.97 L1334.81 1542.97 L1334.81 1548.85 L1329.92 1548.85 L1329.92 1542.97 Z\" fill=\"#000000\" fill-rule=\"evenodd\" fill-opacity=\"1\" /><path clip-path=\"url(#clip220)\" d=\"M1355.57 1529.7 Q1352.42 1529.7 1350.57 1531.86 Q1348.74 1534.01 1348.74 1537.76 Q1348.74 1541.49 1350.57 1543.66 Q1352.42 1545.82 1355.57 1545.82 Q1358.72 1545.82 1360.55 1543.66 Q1362.4 1541.49 1362.4 1537.76 Q1362.4 1534.01 1360.55 1531.86 Q1358.72 1529.7 1355.57 1529.7 M1364.85 1515.05 L1364.85 1519.31 Q1363.09 1518.48 1361.29 1518.04 Q1359.51 1517.6 1357.75 1517.6 Q1353.12 1517.6 1350.66 1520.72 Q1348.23 1523.85 1347.89 1530.17 Q1349.25 1528.15 1351.31 1527.09 Q1353.37 1526 1355.85 1526 Q1361.06 1526 1364.07 1529.17 Q1367.1 1532.32 1367.1 1537.76 Q1367.1 1543.08 1363.95 1546.3 Q1360.8 1549.52 1355.57 1549.52 Q1349.58 1549.52 1346.4 1544.94 Q1343.23 1540.33 1343.23 1531.6 Q1343.23 1523.41 1347.12 1518.55 Q1351.01 1513.66 1357.56 1513.66 Q1359.32 1513.66 1361.1 1514.01 Q1362.91 1514.36 1364.85 1515.05 Z\" fill=\"#000000\" fill-rule=\"evenodd\" fill-opacity=\"1\" /><path clip-path=\"url(#clip220)\" d=\"M1429.55 1517.37 Q1425.94 1517.37 1424.11 1520.93 Q1422.31 1524.47 1422.31 1531.6 Q1422.31 1538.71 1424.11 1542.27 Q1425.94 1545.82 1429.55 1545.82 Q1433.18 1545.82 1434.99 1542.27 Q1436.82 1538.71 1436.82 1531.6 Q1436.82 1524.47 1434.99 1520.93 Q1433.18 1517.37 1429.55 1517.37 M1429.55 1513.66 Q1435.36 1513.66 1438.42 1518.27 Q1441.49 1522.85 1441.49 1531.6 Q1441.49 1540.33 1438.42 1544.94 Q1435.36 1549.52 1429.55 1549.52 Q1423.74 1549.52 1420.66 1544.94 Q1417.61 1540.33 1417.61 1531.6 Q1417.61 1522.85 1420.66 1518.27 Q1423.74 1513.66 1429.55 1513.66 Z\" fill=\"#000000\" fill-rule=\"evenodd\" fill-opacity=\"1\" /><path clip-path=\"url(#clip220)\" d=\"M1449.71 1542.97 L1454.6 1542.97 L1454.6 1548.85 L1449.71 1548.85 L1449.71 1542.97 Z\" fill=\"#000000\" fill-rule=\"evenodd\" fill-opacity=\"1\" /><path clip-path=\"url(#clip220)\" d=\"M1474.78 1532.44 Q1471.45 1532.44 1469.53 1534.22 Q1467.63 1536 1467.63 1539.13 Q1467.63 1542.25 1469.53 1544.03 Q1471.45 1545.82 1474.78 1545.82 Q1478.12 1545.82 1480.04 1544.03 Q1481.96 1542.23 1481.96 1539.13 Q1481.96 1536 1480.04 1534.22 Q1478.14 1532.44 1474.78 1532.44 M1470.11 1530.45 Q1467.1 1529.7 1465.41 1527.64 Q1463.74 1525.58 1463.74 1522.62 Q1463.74 1518.48 1466.68 1516.07 Q1469.64 1513.66 1474.78 1513.66 Q1479.94 1513.66 1482.88 1516.07 Q1485.82 1518.48 1485.82 1522.62 Q1485.82 1525.58 1484.13 1527.64 Q1482.47 1529.7 1479.48 1530.45 Q1482.86 1531.23 1484.74 1533.52 Q1486.63 1535.82 1486.63 1539.13 Q1486.63 1544.15 1483.55 1546.83 Q1480.5 1549.52 1474.78 1549.52 Q1469.06 1549.52 1465.99 1546.83 Q1462.93 1544.15 1462.93 1539.13 Q1462.93 1535.82 1464.83 1533.52 Q1466.73 1531.23 1470.11 1530.45 M1468.39 1523.06 Q1468.39 1525.75 1470.06 1527.25 Q1471.75 1528.76 1474.78 1528.76 Q1477.79 1528.76 1479.48 1527.25 Q1481.19 1525.75 1481.19 1523.06 Q1481.19 1520.38 1479.48 1518.87 Q1477.79 1517.37 1474.78 1517.37 Q1471.75 1517.37 1470.06 1518.87 Q1468.39 1520.38 1468.39 1523.06 Z\" fill=\"#000000\" fill-rule=\"evenodd\" fill-opacity=\"1\" /><polyline clip-path=\"url(#clip223)\" style=\"stroke:#000000; stroke-linecap:butt; stroke-linejoin:round; stroke-width:2; stroke-opacity:0.1; fill:none\" points=\"\n  956.598,1447.87 1552.76,1447.87 \n  \"/>\n<polyline clip-path=\"url(#clip223)\" style=\"stroke:#000000; stroke-linecap:butt; stroke-linejoin:round; stroke-width:2; stroke-opacity:0.1; fill:none\" points=\"\n  956.598,1255 1552.76,1255 \n  \"/>\n<polyline clip-path=\"url(#clip223)\" style=\"stroke:#000000; stroke-linecap:butt; stroke-linejoin:round; stroke-width:2; stroke-opacity:0.1; fill:none\" points=\"\n  956.598,1062.13 1552.76,1062.13 \n  \"/>\n<polyline clip-path=\"url(#clip223)\" style=\"stroke:#000000; stroke-linecap:butt; stroke-linejoin:round; stroke-width:2; stroke-opacity:0.1; fill:none\" points=\"\n  956.598,869.251 1552.76,869.251 \n  \"/>\n<polyline clip-path=\"url(#clip223)\" style=\"stroke:#000000; stroke-linecap:butt; stroke-linejoin:round; stroke-width:2; stroke-opacity:0.1; fill:none\" points=\"\n  956.598,676.377 1552.76,676.377 \n  \"/>\n<polyline clip-path=\"url(#clip223)\" style=\"stroke:#000000; stroke-linecap:butt; stroke-linejoin:round; stroke-width:2; stroke-opacity:0.1; fill:none\" points=\"\n  956.598,483.503 1552.76,483.503 \n  \"/>\n<polyline clip-path=\"url(#clip223)\" style=\"stroke:#000000; stroke-linecap:butt; stroke-linejoin:round; stroke-width:2; stroke-opacity:0.1; fill:none\" points=\"\n  956.598,290.63 1552.76,290.63 \n  \"/>\n<polyline clip-path=\"url(#clip220)\" style=\"stroke:#000000; stroke-linecap:butt; stroke-linejoin:round; stroke-width:4; stroke-opacity:1; fill:none\" points=\"\n  956.598,1486.45 956.598,123.472 \n  \"/>\n<polyline clip-path=\"url(#clip220)\" style=\"stroke:#000000; stroke-linecap:butt; stroke-linejoin:round; stroke-width:4; stroke-opacity:1; fill:none\" points=\"\n  956.598,1447.87 975.496,1447.87 \n  \"/>\n<polyline clip-path=\"url(#clip220)\" style=\"stroke:#000000; stroke-linecap:butt; stroke-linejoin:round; stroke-width:4; stroke-opacity:1; fill:none\" points=\"\n  956.598,1255 975.496,1255 \n  \"/>\n<polyline clip-path=\"url(#clip220)\" style=\"stroke:#000000; stroke-linecap:butt; stroke-linejoin:round; stroke-width:4; stroke-opacity:1; fill:none\" points=\"\n  956.598,1062.13 975.496,1062.13 \n  \"/>\n<polyline clip-path=\"url(#clip220)\" style=\"stroke:#000000; stroke-linecap:butt; stroke-linejoin:round; stroke-width:4; stroke-opacity:1; fill:none\" points=\"\n  956.598,869.251 975.496,869.251 \n  \"/>\n<polyline clip-path=\"url(#clip220)\" style=\"stroke:#000000; stroke-linecap:butt; stroke-linejoin:round; stroke-width:4; stroke-opacity:1; fill:none\" points=\"\n  956.598,676.377 975.496,676.377 \n  \"/>\n<polyline clip-path=\"url(#clip220)\" style=\"stroke:#000000; stroke-linecap:butt; stroke-linejoin:round; stroke-width:4; stroke-opacity:1; fill:none\" points=\"\n  956.598,483.503 975.496,483.503 \n  \"/>\n<polyline clip-path=\"url(#clip220)\" style=\"stroke:#000000; stroke-linecap:butt; stroke-linejoin:round; stroke-width:4; stroke-opacity:1; fill:none\" points=\"\n  956.598,290.63 975.496,290.63 \n  \"/>\n<path clip-path=\"url(#clip220)\" d=\"M863.423 1433.67 Q859.812 1433.67 857.983 1437.24 Q856.177 1440.78 856.177 1447.91 Q856.177 1455.01 857.983 1458.58 Q859.812 1462.12 863.423 1462.12 Q867.057 1462.12 868.862 1458.58 Q870.691 1455.01 870.691 1447.91 Q870.691 1440.78 868.862 1437.24 Q867.057 1433.67 863.423 1433.67 M863.423 1429.97 Q869.233 1429.97 872.288 1434.57 Q875.367 1439.16 875.367 1447.91 Q875.367 1456.63 872.288 1461.24 Q869.233 1465.82 863.423 1465.82 Q857.612 1465.82 854.534 1461.24 Q851.478 1456.63 851.478 1447.91 Q851.478 1439.16 854.534 1434.57 Q857.612 1429.97 863.423 1429.97 Z\" fill=\"#000000\" fill-rule=\"evenodd\" fill-opacity=\"1\" /><path clip-path=\"url(#clip220)\" d=\"M883.585 1459.27 L888.469 1459.27 L888.469 1465.15 L883.585 1465.15 L883.585 1459.27 Z\" fill=\"#000000\" fill-rule=\"evenodd\" fill-opacity=\"1\" /><path clip-path=\"url(#clip220)\" d=\"M908.654 1433.67 Q905.043 1433.67 903.214 1437.24 Q901.409 1440.78 901.409 1447.91 Q901.409 1455.01 903.214 1458.58 Q905.043 1462.12 908.654 1462.12 Q912.288 1462.12 914.094 1458.58 Q915.922 1455.01 915.922 1447.91 Q915.922 1440.78 914.094 1437.24 Q912.288 1433.67 908.654 1433.67 M908.654 1429.97 Q914.464 1429.97 917.52 1434.57 Q920.598 1439.16 920.598 1447.91 Q920.598 1456.63 917.52 1461.24 Q914.464 1465.82 908.654 1465.82 Q902.844 1465.82 899.765 1461.24 Q896.709 1456.63 896.709 1447.91 Q896.709 1439.16 899.765 1434.57 Q902.844 1429.97 908.654 1429.97 Z\" fill=\"#000000\" fill-rule=\"evenodd\" fill-opacity=\"1\" /><path clip-path=\"url(#clip220)\" d=\"M864.649 1240.8 Q861.038 1240.8 859.21 1244.36 Q857.404 1247.9 857.404 1255.03 Q857.404 1262.14 859.21 1265.71 Q861.038 1269.25 864.649 1269.25 Q868.284 1269.25 870.089 1265.71 Q871.918 1262.14 871.918 1255.03 Q871.918 1247.9 870.089 1244.36 Q868.284 1240.8 864.649 1240.8 M864.649 1237.09 Q870.46 1237.09 873.515 1241.7 Q876.594 1246.28 876.594 1255.03 Q876.594 1263.76 873.515 1268.37 Q870.46 1272.95 864.649 1272.95 Q858.839 1272.95 855.761 1268.37 Q852.705 1263.76 852.705 1255.03 Q852.705 1246.28 855.761 1241.7 Q858.839 1237.09 864.649 1237.09 Z\" fill=\"#000000\" fill-rule=\"evenodd\" fill-opacity=\"1\" /><path clip-path=\"url(#clip220)\" d=\"M884.811 1266.4 L889.696 1266.4 L889.696 1272.28 L884.811 1272.28 L884.811 1266.4 Z\" fill=\"#000000\" fill-rule=\"evenodd\" fill-opacity=\"1\" /><path clip-path=\"url(#clip220)\" d=\"M900.691 1268.34 L908.33 1268.34 L908.33 1241.98 L900.02 1243.65 L900.02 1239.39 L908.283 1237.72 L912.959 1237.72 L912.959 1268.34 L920.598 1268.34 L920.598 1272.28 L900.691 1272.28 L900.691 1268.34 Z\" fill=\"#000000\" fill-rule=\"evenodd\" fill-opacity=\"1\" /><path clip-path=\"url(#clip220)\" d=\"M865.02 1047.92 Q861.409 1047.92 859.58 1051.49 Q857.774 1055.03 857.774 1062.16 Q857.774 1069.27 859.58 1072.83 Q861.409 1076.37 865.02 1076.37 Q868.654 1076.37 870.46 1072.83 Q872.288 1069.27 872.288 1062.16 Q872.288 1055.03 870.46 1051.49 Q868.654 1047.92 865.02 1047.92 M865.02 1044.22 Q870.83 1044.22 873.886 1048.83 Q876.964 1053.41 876.964 1062.16 Q876.964 1070.89 873.886 1075.49 Q870.83 1080.08 865.02 1080.08 Q859.21 1080.08 856.131 1075.49 Q853.075 1070.89 853.075 1062.16 Q853.075 1053.41 856.131 1048.83 Q859.21 1044.22 865.02 1044.22 Z\" fill=\"#000000\" fill-rule=\"evenodd\" fill-opacity=\"1\" /><path clip-path=\"url(#clip220)\" d=\"M885.182 1073.53 L890.066 1073.53 L890.066 1079.41 L885.182 1079.41 L885.182 1073.53 Z\" fill=\"#000000\" fill-rule=\"evenodd\" fill-opacity=\"1\" /><path clip-path=\"url(#clip220)\" d=\"M904.279 1075.47 L920.598 1075.47 L920.598 1079.41 L898.654 1079.41 L898.654 1075.47 Q901.316 1072.72 905.899 1068.09 Q910.506 1063.43 911.686 1062.09 Q913.932 1059.57 914.811 1057.83 Q915.714 1056.07 915.714 1054.38 Q915.714 1051.63 913.77 1049.89 Q911.848 1048.16 908.746 1048.16 Q906.547 1048.16 904.094 1048.92 Q901.663 1049.68 898.885 1051.23 L898.885 1046.51 Q901.709 1045.38 904.163 1044.8 Q906.617 1044.22 908.654 1044.22 Q914.024 1044.22 917.219 1046.91 Q920.413 1049.59 920.413 1054.08 Q920.413 1056.21 919.603 1058.13 Q918.816 1060.03 916.709 1062.62 Q916.131 1063.29 913.029 1066.51 Q909.927 1069.71 904.279 1075.47 Z\" fill=\"#000000\" fill-rule=\"evenodd\" fill-opacity=\"1\" /><path clip-path=\"url(#clip220)\" d=\"M864.071 855.05 Q860.46 855.05 858.631 858.615 Q856.825 862.156 856.825 869.286 Q856.825 876.392 858.631 879.957 Q860.46 883.499 864.071 883.499 Q867.705 883.499 869.511 879.957 Q871.339 876.392 871.339 869.286 Q871.339 862.156 869.511 858.615 Q867.705 855.05 864.071 855.05 M864.071 851.346 Q869.881 851.346 872.936 855.953 Q876.015 860.536 876.015 869.286 Q876.015 878.013 872.936 882.619 Q869.881 887.203 864.071 887.203 Q858.261 887.203 855.182 882.619 Q852.126 878.013 852.126 869.286 Q852.126 860.536 855.182 855.953 Q858.261 851.346 864.071 851.346 Z\" fill=\"#000000\" fill-rule=\"evenodd\" fill-opacity=\"1\" /><path clip-path=\"url(#clip220)\" d=\"M884.233 880.652 L889.117 880.652 L889.117 886.531 L884.233 886.531 L884.233 880.652 Z\" fill=\"#000000\" fill-rule=\"evenodd\" fill-opacity=\"1\" /><path clip-path=\"url(#clip220)\" d=\"M913.469 867.897 Q916.825 868.615 918.7 870.883 Q920.598 873.152 920.598 876.485 Q920.598 881.601 917.08 884.402 Q913.561 887.203 907.08 887.203 Q904.904 887.203 902.589 886.763 Q900.297 886.346 897.844 885.49 L897.844 880.976 Q899.788 882.11 902.103 882.689 Q904.418 883.267 906.941 883.267 Q911.339 883.267 913.631 881.531 Q915.945 879.795 915.945 876.485 Q915.945 873.43 913.793 871.717 Q911.663 869.98 907.844 869.98 L903.816 869.98 L903.816 866.138 L908.029 866.138 Q911.478 866.138 913.307 864.772 Q915.135 863.383 915.135 860.791 Q915.135 858.129 913.237 856.717 Q911.362 855.281 907.844 855.281 Q905.922 855.281 903.723 855.698 Q901.524 856.115 898.885 856.994 L898.885 852.828 Q901.547 852.087 903.862 851.717 Q906.2 851.346 908.26 851.346 Q913.584 851.346 916.686 853.777 Q919.788 856.184 919.788 860.305 Q919.788 863.175 918.145 865.166 Q916.501 867.133 913.469 867.897 Z\" fill=\"#000000\" fill-rule=\"evenodd\" fill-opacity=\"1\" /><path clip-path=\"url(#clip220)\" d=\"M862.937 662.176 Q859.325 662.176 857.497 665.741 Q855.691 669.283 855.691 676.412 Q855.691 683.519 857.497 687.083 Q859.325 690.625 862.937 690.625 Q866.571 690.625 868.376 687.083 Q870.205 683.519 870.205 676.412 Q870.205 669.283 868.376 665.741 Q866.571 662.176 862.937 662.176 M862.937 658.472 Q868.747 658.472 871.802 663.079 Q874.881 667.662 874.881 676.412 Q874.881 685.139 871.802 689.745 Q868.747 694.329 862.937 694.329 Q857.126 694.329 854.048 689.745 Q850.992 685.139 850.992 676.412 Q850.992 667.662 854.048 663.079 Q857.126 658.472 862.937 658.472 Z\" fill=\"#000000\" fill-rule=\"evenodd\" fill-opacity=\"1\" /><path clip-path=\"url(#clip220)\" d=\"M883.098 687.778 L887.983 687.778 L887.983 693.657 L883.098 693.657 L883.098 687.778 Z\" fill=\"#000000\" fill-rule=\"evenodd\" fill-opacity=\"1\" /><path clip-path=\"url(#clip220)\" d=\"M911.015 663.171 L899.209 681.62 L911.015 681.62 L911.015 663.171 M909.788 659.097 L915.668 659.097 L915.668 681.62 L920.598 681.62 L920.598 685.509 L915.668 685.509 L915.668 693.657 L911.015 693.657 L911.015 685.509 L895.413 685.509 L895.413 680.995 L909.788 659.097 Z\" fill=\"#000000\" fill-rule=\"evenodd\" fill-opacity=\"1\" /><path clip-path=\"url(#clip220)\" d=\"M864.418 469.302 Q860.807 469.302 858.978 472.867 Q857.173 476.409 857.173 483.538 Q857.173 490.645 858.978 494.209 Q860.807 497.751 864.418 497.751 Q868.052 497.751 869.858 494.209 Q871.686 490.645 871.686 483.538 Q871.686 476.409 869.858 472.867 Q868.052 469.302 864.418 469.302 M864.418 465.598 Q870.228 465.598 873.284 470.205 Q876.362 474.788 876.362 483.538 Q876.362 492.265 873.284 496.871 Q870.228 501.455 864.418 501.455 Q858.608 501.455 855.529 496.871 Q852.474 492.265 852.474 483.538 Q852.474 474.788 855.529 470.205 Q858.608 465.598 864.418 465.598 Z\" fill=\"#000000\" fill-rule=\"evenodd\" fill-opacity=\"1\" /><path clip-path=\"url(#clip220)\" d=\"M884.58 494.904 L889.464 494.904 L889.464 500.783 L884.58 500.783 L884.58 494.904 Z\" fill=\"#000000\" fill-rule=\"evenodd\" fill-opacity=\"1\" /><path clip-path=\"url(#clip220)\" d=\"M899.696 466.223 L918.052 466.223 L918.052 470.159 L903.978 470.159 L903.978 478.631 Q904.996 478.284 906.015 478.122 Q907.033 477.936 908.052 477.936 Q913.839 477.936 917.219 481.108 Q920.598 484.279 920.598 489.696 Q920.598 495.274 917.126 498.376 Q913.654 501.455 907.334 501.455 Q905.159 501.455 902.89 501.084 Q900.645 500.714 898.237 499.973 L898.237 495.274 Q900.321 496.408 902.543 496.964 Q904.765 497.52 907.242 497.52 Q911.246 497.52 913.584 495.413 Q915.922 493.307 915.922 489.696 Q915.922 486.084 913.584 483.978 Q911.246 481.872 907.242 481.872 Q905.367 481.872 903.492 482.288 Q901.64 482.705 899.696 483.584 L899.696 466.223 Z\" fill=\"#000000\" fill-rule=\"evenodd\" fill-opacity=\"1\" /><path clip-path=\"url(#clip220)\" d=\"M863.261 276.428 Q859.649 276.428 857.821 279.993 Q856.015 283.535 856.015 290.664 Q856.015 297.771 857.821 301.335 Q859.649 304.877 863.261 304.877 Q866.895 304.877 868.7 301.335 Q870.529 297.771 870.529 290.664 Q870.529 283.535 868.7 279.993 Q866.895 276.428 863.261 276.428 M863.261 272.725 Q869.071 272.725 872.126 277.331 Q875.205 281.914 875.205 290.664 Q875.205 299.391 872.126 303.998 Q869.071 308.581 863.261 308.581 Q857.45 308.581 854.372 303.998 Q851.316 299.391 851.316 290.664 Q851.316 281.914 854.372 277.331 Q857.45 272.725 863.261 272.725 Z\" fill=\"#000000\" fill-rule=\"evenodd\" fill-opacity=\"1\" /><path clip-path=\"url(#clip220)\" d=\"M883.423 302.03 L888.307 302.03 L888.307 307.91 L883.423 307.91 L883.423 302.03 Z\" fill=\"#000000\" fill-rule=\"evenodd\" fill-opacity=\"1\" /><path clip-path=\"url(#clip220)\" d=\"M909.071 288.766 Q905.922 288.766 904.071 290.919 Q902.242 293.072 902.242 296.822 Q902.242 300.548 904.071 302.724 Q905.922 304.877 909.071 304.877 Q912.219 304.877 914.047 302.724 Q915.899 300.548 915.899 296.822 Q915.899 293.072 914.047 290.919 Q912.219 288.766 909.071 288.766 M918.353 274.113 L918.353 278.373 Q916.594 277.539 914.788 277.1 Q913.006 276.66 911.246 276.66 Q906.617 276.66 904.163 279.785 Q901.733 282.91 901.385 289.229 Q902.751 287.215 904.811 286.15 Q906.871 285.062 909.348 285.062 Q914.557 285.062 917.566 288.234 Q920.598 291.382 920.598 296.822 Q920.598 302.146 917.45 305.363 Q914.302 308.581 909.071 308.581 Q903.075 308.581 899.904 303.998 Q896.733 299.391 896.733 290.664 Q896.733 282.47 900.621 277.609 Q904.51 272.725 911.061 272.725 Q912.82 272.725 914.603 273.072 Q916.408 273.419 918.353 274.113 Z\" fill=\"#000000\" fill-rule=\"evenodd\" fill-opacity=\"1\" /><path clip-path=\"url(#clip220)\" d=\"M948.874 12.096 L957.057 12.096 L957.057 72.576 L948.874 72.576 L948.874 12.096 Z\" fill=\"#000000\" fill-rule=\"evenodd\" fill-opacity=\"1\" /><path clip-path=\"url(#clip220)\" d=\"M1010.73 45.1919 L1010.73 72.576 L1003.28 72.576 L1003.28 45.4349 Q1003.28 38.994 1000.77 35.7938 Q998.255 32.5936 993.232 32.5936 Q987.196 32.5936 983.712 36.4419 Q980.228 40.2903 980.228 46.9338 L980.228 72.576 L972.734 72.576 L972.734 27.2059 L980.228 27.2059 L980.228 34.2544 Q982.902 30.163 986.507 28.1376 Q990.153 26.1121 994.893 26.1121 Q1002.71 26.1121 1006.72 30.9732 Q1010.73 35.7938 1010.73 45.1919 Z\" fill=\"#000000\" fill-rule=\"evenodd\" fill-opacity=\"1\" /><path clip-path=\"url(#clip220)\" d=\"M1058.25 28.9478 L1058.25 35.9153 Q1055.09 34.1734 1051.89 33.3227 Q1048.73 32.4315 1045.49 32.4315 Q1038.24 32.4315 1034.23 37.0496 Q1030.22 41.6271 1030.22 49.9314 Q1030.22 58.2358 1034.23 62.8538 Q1038.24 67.4314 1045.49 67.4314 Q1048.73 67.4314 1051.89 66.5807 Q1055.09 65.6895 1058.25 63.9476 L1058.25 70.8341 Q1055.13 72.2924 1051.77 73.0216 Q1048.45 73.7508 1044.68 73.7508 Q1034.43 73.7508 1028.39 67.3098 Q1022.36 60.8689 1022.36 49.9314 Q1022.36 38.832 1028.43 32.472 Q1034.55 26.1121 1045.16 26.1121 Q1048.61 26.1121 1051.89 26.8413 Q1055.17 27.5299 1058.25 28.9478 Z\" fill=\"#000000\" fill-rule=\"evenodd\" fill-opacity=\"1\" /><path clip-path=\"url(#clip220)\" d=\"M1071.21 9.54393 L1078.67 9.54393 L1078.67 72.576 L1071.21 72.576 L1071.21 9.54393 Z\" fill=\"#000000\" fill-rule=\"evenodd\" fill-opacity=\"1\" /><path clip-path=\"url(#clip220)\" d=\"M1093.49 54.671 L1093.49 27.2059 L1100.95 27.2059 L1100.95 54.3874 Q1100.95 60.8284 1103.46 64.0691 Q1105.97 67.2693 1110.99 67.2693 Q1117.03 67.2693 1120.51 63.421 Q1124.04 59.5726 1124.04 52.9291 L1124.04 27.2059 L1131.49 27.2059 L1131.49 72.576 L1124.04 72.576 L1124.04 65.6084 Q1121.32 69.7404 1117.72 71.7658 Q1114.15 73.7508 1109.41 73.7508 Q1101.59 73.7508 1097.54 68.8897 Q1093.49 64.0286 1093.49 54.671 M1112.25 26.1121 L1112.25 26.1121 Z\" fill=\"#000000\" fill-rule=\"evenodd\" fill-opacity=\"1\" /><path clip-path=\"url(#clip220)\" d=\"M1176.7 34.0924 L1176.7 9.54393 L1184.15 9.54393 L1184.15 72.576 L1176.7 72.576 L1176.7 65.7705 Q1174.35 69.8214 1170.74 71.8063 Q1167.18 73.7508 1162.15 73.7508 Q1153.93 73.7508 1148.75 67.1883 Q1143.6 60.6258 1143.6 49.9314 Q1143.6 39.2371 1148.75 32.6746 Q1153.93 26.1121 1162.15 26.1121 Q1167.18 26.1121 1170.74 28.0971 Q1174.35 30.0415 1176.7 34.0924 M1151.3 49.9314 Q1151.3 58.1548 1154.66 62.8538 Q1158.06 67.5124 1163.98 67.5124 Q1169.89 67.5124 1173.29 62.8538 Q1176.7 58.1548 1176.7 49.9314 Q1176.7 41.7081 1173.29 37.0496 Q1169.89 32.3505 1163.98 32.3505 Q1158.06 32.3505 1154.66 37.0496 Q1151.3 41.7081 1151.3 49.9314 Z\" fill=\"#000000\" fill-rule=\"evenodd\" fill-opacity=\"1\" /><path clip-path=\"url(#clip220)\" d=\"M1199.5 27.2059 L1206.96 27.2059 L1206.96 72.576 L1199.5 72.576 L1199.5 27.2059 M1199.5 9.54393 L1206.96 9.54393 L1206.96 18.9825 L1199.5 18.9825 L1199.5 9.54393 Z\" fill=\"#000000\" fill-rule=\"evenodd\" fill-opacity=\"1\" /><path clip-path=\"url(#clip220)\" d=\"M1260.27 45.1919 L1260.27 72.576 L1252.81 72.576 L1252.81 45.4349 Q1252.81 38.994 1250.3 35.7938 Q1247.79 32.5936 1242.77 32.5936 Q1236.73 32.5936 1233.25 36.4419 Q1229.76 40.2903 1229.76 46.9338 L1229.76 72.576 L1222.27 72.576 L1222.27 27.2059 L1229.76 27.2059 L1229.76 34.2544 Q1232.44 30.163 1236.04 28.1376 Q1239.69 26.1121 1244.43 26.1121 Q1252.25 26.1121 1256.26 30.9732 Q1260.27 35.7938 1260.27 45.1919 Z\" fill=\"#000000\" fill-rule=\"evenodd\" fill-opacity=\"1\" /><path clip-path=\"url(#clip220)\" d=\"M1304.99 49.3643 Q1304.99 41.2625 1301.63 36.8065 Q1298.31 32.3505 1292.27 32.3505 Q1286.27 32.3505 1282.91 36.8065 Q1279.59 41.2625 1279.59 49.3643 Q1279.59 57.4256 1282.91 61.8816 Q1286.27 66.3376 1292.27 66.3376 Q1298.31 66.3376 1301.63 61.8816 Q1304.99 57.4256 1304.99 49.3643 M1312.44 66.9452 Q1312.44 78.5308 1307.3 84.1616 Q1302.15 89.8329 1291.54 89.8329 Q1287.61 89.8329 1284.13 89.2252 Q1280.64 88.6581 1277.36 87.4428 L1277.36 80.1917 Q1280.64 81.9741 1283.84 82.8248 Q1287.04 83.6755 1290.37 83.6755 Q1297.7 83.6755 1301.34 79.8271 Q1304.99 76.0193 1304.99 68.282 L1304.99 64.5957 Q1302.68 68.6061 1299.07 70.5911 Q1295.47 72.576 1290.45 72.576 Q1282.1 72.576 1277 66.2161 Q1271.89 59.8562 1271.89 49.3643 Q1271.89 38.832 1277 32.472 Q1282.1 26.1121 1290.45 26.1121 Q1295.47 26.1121 1299.07 28.0971 Q1302.68 30.082 1304.99 34.0924 L1304.99 27.2059 L1312.44 27.2059 L1312.44 66.9452 Z\" fill=\"#000000\" fill-rule=\"evenodd\" fill-opacity=\"1\" /><path clip-path=\"url(#clip220)\" d=\"M1354.49 12.096 L1365.51 12.096 L1392.33 62.6918 L1392.33 12.096 L1400.27 12.096 L1400.27 72.576 L1389.25 72.576 L1362.43 21.9802 L1362.43 72.576 L1354.49 72.576 L1354.49 12.096 Z\" fill=\"#000000\" fill-rule=\"evenodd\" fill-opacity=\"1\" /><path clip-path=\"url(#clip220)\" d=\"M1436.85 49.7694 Q1427.81 49.7694 1424.33 51.8354 Q1420.85 53.9013 1420.85 58.8839 Q1420.85 62.8538 1423.44 65.2034 Q1426.07 67.5124 1430.57 67.5124 Q1436.77 67.5124 1440.49 63.1374 Q1444.26 58.7219 1444.26 51.4303 L1444.26 49.7694 L1436.85 49.7694 M1451.71 46.6907 L1451.71 72.576 L1444.26 72.576 L1444.26 65.6895 Q1441.71 69.8214 1437.9 71.8063 Q1434.09 73.7508 1428.58 73.7508 Q1421.61 73.7508 1417.48 69.8619 Q1413.39 65.9325 1413.39 59.3701 Q1413.39 51.7138 1418.5 47.825 Q1423.64 43.9361 1433.81 43.9361 L1444.26 43.9361 L1444.26 43.2069 Q1444.26 38.0623 1440.86 35.2672 Q1437.49 32.4315 1431.38 32.4315 Q1427.49 32.4315 1423.8 33.3632 Q1420.12 34.295 1416.71 36.1584 L1416.71 29.2718 Q1420.8 27.692 1424.65 26.9223 Q1428.5 26.1121 1432.15 26.1121 Q1441.99 26.1121 1446.85 31.2163 Q1451.71 36.3204 1451.71 46.6907 Z\" fill=\"#000000\" fill-rule=\"evenodd\" fill-opacity=\"1\" /><path clip-path=\"url(#clip220)\" d=\"M1467.39 12.096 L1478.41 12.096 L1505.23 62.6918 L1505.23 12.096 L1513.17 12.096 L1513.17 72.576 L1502.15 72.576 L1475.33 21.9802 L1475.33 72.576 L1467.39 72.576 L1467.39 12.096 Z\" fill=\"#000000\" fill-rule=\"evenodd\" fill-opacity=\"1\" /><path clip-path=\"url(#clip220)\" d=\"M1558.05 28.5427 L1558.05 35.5912 Q1554.89 33.9709 1551.49 33.1607 Q1548.08 32.3505 1544.44 32.3505 Q1538.89 32.3505 1536.09 34.0519 Q1533.34 35.7533 1533.34 39.156 Q1533.34 41.7486 1535.32 43.2475 Q1537.31 44.7058 1543.3 46.0426 L1545.86 46.6097 Q1553.8 48.3111 1557.12 51.4303 Q1560.48 54.509 1560.48 60.0587 Q1560.48 66.3781 1555.46 70.0644 Q1550.47 73.7508 1541.72 73.7508 Q1538.08 73.7508 1534.11 73.0216 Q1530.18 72.3329 1525.8 70.9151 L1525.8 63.2184 Q1529.94 65.3654 1533.95 66.4591 Q1537.96 67.5124 1541.89 67.5124 Q1547.15 67.5124 1549.99 65.73 Q1552.82 63.9071 1552.82 60.6258 Q1552.82 57.5877 1550.76 55.9673 Q1548.73 54.3469 1541.81 52.8481 L1539.21 52.2405 Q1532.29 50.7821 1529.21 47.7845 Q1526.13 44.7463 1526.13 39.4801 Q1526.13 33.0797 1530.67 29.5959 Q1535.2 26.1121 1543.55 26.1121 Q1547.68 26.1121 1551.32 26.7198 Q1554.97 27.3274 1558.05 28.5427 Z\" fill=\"#000000\" fill-rule=\"evenodd\" fill-opacity=\"1\" /><polyline clip-path=\"url(#clip223)\" style=\"stroke:#009af9; stroke-linecap:butt; stroke-linejoin:round; stroke-width:4; stroke-opacity:1; fill:none\" points=\"\n  973.471,483.503 1015.35,162.047 1051.25,928.597 1087.15,1019.26 1123.05,1220.96 1164.93,1185.95 1200.83,1299.51 1236.73,1344.18 1272.63,1323.44 1314.51,1219.74 \n  1350.41,1288.8 1386.31,1320.5 1422.2,1415.46 1464.09,1447.87 1499.98,1447.87 1535.88,1447.87 \n  \"/>\n<circle clip-path=\"url(#clip223)\" cx=\"973.471\" cy=\"483.503\" r=\"14\" fill=\"#009af9\" fill-rule=\"evenodd\" fill-opacity=\"1\" stroke=\"#000000\" stroke-opacity=\"1\" stroke-width=\"3.2\"/>\n<circle clip-path=\"url(#clip223)\" cx=\"1015.35\" cy=\"162.047\" r=\"14\" fill=\"#009af9\" fill-rule=\"evenodd\" fill-opacity=\"1\" stroke=\"#000000\" stroke-opacity=\"1\" stroke-width=\"3.2\"/>\n<circle clip-path=\"url(#clip223)\" cx=\"1051.25\" cy=\"928.597\" r=\"14\" fill=\"#009af9\" fill-rule=\"evenodd\" fill-opacity=\"1\" stroke=\"#000000\" stroke-opacity=\"1\" stroke-width=\"3.2\"/>\n<circle clip-path=\"url(#clip223)\" cx=\"1087.15\" cy=\"1019.26\" r=\"14\" fill=\"#009af9\" fill-rule=\"evenodd\" fill-opacity=\"1\" stroke=\"#000000\" stroke-opacity=\"1\" stroke-width=\"3.2\"/>\n<circle clip-path=\"url(#clip223)\" cx=\"1123.05\" cy=\"1220.96\" r=\"14\" fill=\"#009af9\" fill-rule=\"evenodd\" fill-opacity=\"1\" stroke=\"#000000\" stroke-opacity=\"1\" stroke-width=\"3.2\"/>\n<circle clip-path=\"url(#clip223)\" cx=\"1164.93\" cy=\"1185.95\" r=\"14\" fill=\"#009af9\" fill-rule=\"evenodd\" fill-opacity=\"1\" stroke=\"#000000\" stroke-opacity=\"1\" stroke-width=\"3.2\"/>\n<circle clip-path=\"url(#clip223)\" cx=\"1200.83\" cy=\"1299.51\" r=\"14\" fill=\"#009af9\" fill-rule=\"evenodd\" fill-opacity=\"1\" stroke=\"#000000\" stroke-opacity=\"1\" stroke-width=\"3.2\"/>\n<circle clip-path=\"url(#clip223)\" cx=\"1236.73\" cy=\"1344.18\" r=\"14\" fill=\"#009af9\" fill-rule=\"evenodd\" fill-opacity=\"1\" stroke=\"#000000\" stroke-opacity=\"1\" stroke-width=\"3.2\"/>\n<circle clip-path=\"url(#clip223)\" cx=\"1272.63\" cy=\"1323.44\" r=\"14\" fill=\"#009af9\" fill-rule=\"evenodd\" fill-opacity=\"1\" stroke=\"#000000\" stroke-opacity=\"1\" stroke-width=\"3.2\"/>\n<circle clip-path=\"url(#clip223)\" cx=\"1314.51\" cy=\"1219.74\" r=\"14\" fill=\"#009af9\" fill-rule=\"evenodd\" fill-opacity=\"1\" stroke=\"#000000\" stroke-opacity=\"1\" stroke-width=\"3.2\"/>\n<circle clip-path=\"url(#clip223)\" cx=\"1350.41\" cy=\"1288.8\" r=\"14\" fill=\"#009af9\" fill-rule=\"evenodd\" fill-opacity=\"1\" stroke=\"#000000\" stroke-opacity=\"1\" stroke-width=\"3.2\"/>\n<circle clip-path=\"url(#clip223)\" cx=\"1386.31\" cy=\"1320.5\" r=\"14\" fill=\"#009af9\" fill-rule=\"evenodd\" fill-opacity=\"1\" stroke=\"#000000\" stroke-opacity=\"1\" stroke-width=\"3.2\"/>\n<circle clip-path=\"url(#clip223)\" cx=\"1422.2\" cy=\"1415.46\" r=\"14\" fill=\"#009af9\" fill-rule=\"evenodd\" fill-opacity=\"1\" stroke=\"#000000\" stroke-opacity=\"1\" stroke-width=\"3.2\"/>\n<circle clip-path=\"url(#clip223)\" cx=\"1464.09\" cy=\"1447.87\" r=\"14\" fill=\"#009af9\" fill-rule=\"evenodd\" fill-opacity=\"1\" stroke=\"#000000\" stroke-opacity=\"1\" stroke-width=\"3.2\"/>\n<circle clip-path=\"url(#clip223)\" cx=\"1499.98\" cy=\"1447.87\" r=\"14\" fill=\"#009af9\" fill-rule=\"evenodd\" fill-opacity=\"1\" stroke=\"#000000\" stroke-opacity=\"1\" stroke-width=\"3.2\"/>\n<circle clip-path=\"url(#clip223)\" cx=\"1535.88\" cy=\"1447.87\" r=\"14\" fill=\"#009af9\" fill-rule=\"evenodd\" fill-opacity=\"1\" stroke=\"#000000\" stroke-opacity=\"1\" stroke-width=\"3.2\"/>\n<polyline clip-path=\"url(#clip223)\" style=\"stroke:#e26f46; stroke-linecap:butt; stroke-linejoin:round; stroke-width:4; stroke-opacity:1; fill:none\" points=\"\n  973.471,547.795 1015.35,635.772 1051.25,792.102 1087.15,992.476 1123.05,982.315 1164.93,1104.99 1200.83,1172.34 1236.73,863.407 1272.63,1097.19 1314.51,1038.75 \n  1350.41,1048.82 1386.31,1447.87 1422.2,1447.87 1464.09,1447.87 1499.98,1447.87 \n  \"/>\n<circle clip-path=\"url(#clip223)\" cx=\"973.471\" cy=\"547.795\" r=\"14\" fill=\"#e26f46\" fill-rule=\"evenodd\" fill-opacity=\"1\" stroke=\"#000000\" stroke-opacity=\"1\" stroke-width=\"3.2\"/>\n<circle clip-path=\"url(#clip223)\" cx=\"1015.35\" cy=\"635.772\" r=\"14\" fill=\"#e26f46\" fill-rule=\"evenodd\" fill-opacity=\"1\" stroke=\"#000000\" stroke-opacity=\"1\" stroke-width=\"3.2\"/>\n<circle clip-path=\"url(#clip223)\" cx=\"1051.25\" cy=\"792.102\" r=\"14\" fill=\"#e26f46\" fill-rule=\"evenodd\" fill-opacity=\"1\" stroke=\"#000000\" stroke-opacity=\"1\" stroke-width=\"3.2\"/>\n<circle clip-path=\"url(#clip223)\" cx=\"1087.15\" cy=\"992.476\" r=\"14\" fill=\"#e26f46\" fill-rule=\"evenodd\" fill-opacity=\"1\" stroke=\"#000000\" stroke-opacity=\"1\" stroke-width=\"3.2\"/>\n<circle clip-path=\"url(#clip223)\" cx=\"1123.05\" cy=\"982.315\" r=\"14\" fill=\"#e26f46\" fill-rule=\"evenodd\" fill-opacity=\"1\" stroke=\"#000000\" stroke-opacity=\"1\" stroke-width=\"3.2\"/>\n<circle clip-path=\"url(#clip223)\" cx=\"1164.93\" cy=\"1104.99\" r=\"14\" fill=\"#e26f46\" fill-rule=\"evenodd\" fill-opacity=\"1\" stroke=\"#000000\" stroke-opacity=\"1\" stroke-width=\"3.2\"/>\n<circle clip-path=\"url(#clip223)\" cx=\"1200.83\" cy=\"1172.34\" r=\"14\" fill=\"#e26f46\" fill-rule=\"evenodd\" fill-opacity=\"1\" stroke=\"#000000\" stroke-opacity=\"1\" stroke-width=\"3.2\"/>\n<circle clip-path=\"url(#clip223)\" cx=\"1236.73\" cy=\"863.407\" r=\"14\" fill=\"#e26f46\" fill-rule=\"evenodd\" fill-opacity=\"1\" stroke=\"#000000\" stroke-opacity=\"1\" stroke-width=\"3.2\"/>\n<circle clip-path=\"url(#clip223)\" cx=\"1272.63\" cy=\"1097.19\" r=\"14\" fill=\"#e26f46\" fill-rule=\"evenodd\" fill-opacity=\"1\" stroke=\"#000000\" stroke-opacity=\"1\" stroke-width=\"3.2\"/>\n<circle clip-path=\"url(#clip223)\" cx=\"1314.51\" cy=\"1038.75\" r=\"14\" fill=\"#e26f46\" fill-rule=\"evenodd\" fill-opacity=\"1\" stroke=\"#000000\" stroke-opacity=\"1\" stroke-width=\"3.2\"/>\n<circle clip-path=\"url(#clip223)\" cx=\"1350.41\" cy=\"1048.82\" r=\"14\" fill=\"#e26f46\" fill-rule=\"evenodd\" fill-opacity=\"1\" stroke=\"#000000\" stroke-opacity=\"1\" stroke-width=\"3.2\"/>\n<circle clip-path=\"url(#clip223)\" cx=\"1386.31\" cy=\"1447.87\" r=\"14\" fill=\"#e26f46\" fill-rule=\"evenodd\" fill-opacity=\"1\" stroke=\"#000000\" stroke-opacity=\"1\" stroke-width=\"3.2\"/>\n<circle clip-path=\"url(#clip223)\" cx=\"1422.2\" cy=\"1447.87\" r=\"14\" fill=\"#e26f46\" fill-rule=\"evenodd\" fill-opacity=\"1\" stroke=\"#000000\" stroke-opacity=\"1\" stroke-width=\"3.2\"/>\n<circle clip-path=\"url(#clip223)\" cx=\"1464.09\" cy=\"1447.87\" r=\"14\" fill=\"#e26f46\" fill-rule=\"evenodd\" fill-opacity=\"1\" stroke=\"#000000\" stroke-opacity=\"1\" stroke-width=\"3.2\"/>\n<circle clip-path=\"url(#clip223)\" cx=\"1499.98\" cy=\"1447.87\" r=\"14\" fill=\"#e26f46\" fill-rule=\"evenodd\" fill-opacity=\"1\" stroke=\"#000000\" stroke-opacity=\"1\" stroke-width=\"3.2\"/>\n<path clip-path=\"url(#clip220)\" d=\"\nM1285.46 1441.02 L1532.88 1441.02 L1532.88 1285.5 L1285.46 1285.5  Z\n  \" fill=\"#ffffff\" fill-rule=\"evenodd\" fill-opacity=\"1\"/>\n<polyline clip-path=\"url(#clip220)\" style=\"stroke:#000000; stroke-linecap:butt; stroke-linejoin:round; stroke-width:4; stroke-opacity:1; fill:none\" points=\"\n  1285.46,1441.02 1532.88,1441.02 1532.88,1285.5 1285.46,1285.5 1285.46,1441.02 \n  \"/>\n<polyline clip-path=\"url(#clip220)\" style=\"stroke:#009af9; stroke-linecap:butt; stroke-linejoin:round; stroke-width:4; stroke-opacity:1; fill:none\" points=\"\n  1292.09,1337.34 1331.83,1337.34 \n  \"/>\n<circle clip-path=\"url(#clip220)\" cx=\"1311.96\" cy=\"1337.34\" r=\"23\" fill=\"#009af9\" fill-rule=\"evenodd\" fill-opacity=\"1\" stroke=\"#000000\" stroke-opacity=\"1\" stroke-width=\"5.12\"/>\n<path clip-path=\"url(#clip220)\" d=\"M1338.46 1320.06 L1367.69 1320.06 L1367.69 1323.99 L1355.42 1323.99 L1355.42 1354.62 L1350.72 1354.62 L1350.72 1323.99 L1338.46 1323.99 L1338.46 1320.06 Z\" fill=\"#000000\" fill-rule=\"evenodd\" fill-opacity=\"1\" /><path clip-path=\"url(#clip220)\" d=\"M1382.25 1318.64 Q1379.15 1323.97 1377.65 1329.18 Q1376.14 1334.38 1376.14 1339.73 Q1376.14 1345.08 1377.65 1350.33 Q1379.17 1355.56 1382.25 1360.87 L1378.55 1360.87 Q1375.08 1355.43 1373.34 1350.17 Q1371.63 1344.92 1371.63 1339.73 Q1371.63 1334.57 1373.34 1329.34 Q1375.05 1324.11 1378.55 1318.64 L1382.25 1318.64 Z\" fill=\"#000000\" fill-rule=\"evenodd\" fill-opacity=\"1\" /><path clip-path=\"url(#clip220)\" d=\"M1407.85 1324.89 L1407.85 1337.79 L1420.75 1337.79 L1420.75 1341.72 L1407.85 1341.72 L1407.85 1354.62 L1403.97 1354.62 L1403.97 1341.72 L1391.07 1341.72 L1391.07 1337.79 L1403.97 1337.79 L1403.97 1324.89 L1407.85 1324.89 Z\" fill=\"#000000\" fill-rule=\"evenodd\" fill-opacity=\"1\" /><path clip-path=\"url(#clip220)\" d=\"M1463.18 1338.71 L1463.18 1340.8 L1454.08 1349.89 L1451.3 1347.12 L1456.7 1341.72 L1428.48 1341.72 L1428.48 1337.79 L1456.7 1337.79 L1451.3 1332.39 L1454.08 1329.62 L1463.18 1338.71 Z\" fill=\"#000000\" fill-rule=\"evenodd\" fill-opacity=\"1\" /><path clip-path=\"url(#clip220)\" d=\"M1470.52 1337.79 L1500.19 1337.79 L1500.19 1341.72 L1470.52 1341.72 L1470.52 1337.79 Z\" fill=\"#000000\" fill-rule=\"evenodd\" fill-opacity=\"1\" /><path clip-path=\"url(#clip220)\" d=\"M1509.01 1318.64 L1512.71 1318.64 Q1516.19 1324.11 1517.9 1329.34 Q1519.64 1334.57 1519.64 1339.73 Q1519.64 1344.92 1517.9 1350.17 Q1516.19 1355.43 1512.71 1360.87 L1509.01 1360.87 Q1512.09 1355.56 1513.59 1350.33 Q1515.12 1345.08 1515.12 1339.73 Q1515.12 1334.38 1513.59 1329.18 Q1512.09 1323.97 1509.01 1318.64 Z\" fill=\"#000000\" fill-rule=\"evenodd\" fill-opacity=\"1\" /><polyline clip-path=\"url(#clip220)\" style=\"stroke:#e26f46; stroke-linecap:butt; stroke-linejoin:round; stroke-width:4; stroke-opacity:1; fill:none\" points=\"\n  1292.09,1389.18 1331.83,1389.18 \n  \"/>\n<circle clip-path=\"url(#clip220)\" cx=\"1311.96\" cy=\"1389.18\" r=\"23\" fill=\"#e26f46\" fill-rule=\"evenodd\" fill-opacity=\"1\" stroke=\"#000000\" stroke-opacity=\"1\" stroke-width=\"5.12\"/>\n<path clip-path=\"url(#clip220)\" d=\"M1338.46 1371.9 L1367.69 1371.9 L1367.69 1375.83 L1355.42 1375.83 L1355.42 1406.46 L1350.72 1406.46 L1350.72 1375.83 L1338.46 1375.83 L1338.46 1371.9 Z\" fill=\"#000000\" fill-rule=\"evenodd\" fill-opacity=\"1\" /><path clip-path=\"url(#clip220)\" d=\"M1382.25 1370.48 Q1379.15 1375.81 1377.65 1381.02 Q1376.14 1386.22 1376.14 1391.57 Q1376.14 1396.92 1377.65 1402.17 Q1379.17 1407.4 1382.25 1412.71 L1378.55 1412.71 Q1375.08 1407.27 1373.34 1402.01 Q1371.63 1396.76 1371.63 1391.57 Q1371.63 1386.41 1373.34 1381.18 Q1375.05 1375.95 1378.55 1370.48 L1382.25 1370.48 Z\" fill=\"#000000\" fill-rule=\"evenodd\" fill-opacity=\"1\" /><path clip-path=\"url(#clip220)\" d=\"M1391.07 1389.63 L1420.75 1389.63 L1420.75 1393.56 L1391.07 1393.56 L1391.07 1389.63 Z\" fill=\"#000000\" fill-rule=\"evenodd\" fill-opacity=\"1\" /><path clip-path=\"url(#clip220)\" d=\"M1463.18 1390.55 L1463.18 1392.64 L1454.08 1401.73 L1451.3 1398.96 L1456.7 1393.56 L1428.48 1393.56 L1428.48 1389.63 L1456.7 1389.63 L1451.3 1384.23 L1454.08 1381.46 L1463.18 1390.55 Z\" fill=\"#000000\" fill-rule=\"evenodd\" fill-opacity=\"1\" /><path clip-path=\"url(#clip220)\" d=\"M1470.52 1389.63 L1500.19 1389.63 L1500.19 1393.56 L1470.52 1393.56 L1470.52 1389.63 Z\" fill=\"#000000\" fill-rule=\"evenodd\" fill-opacity=\"1\" /><path clip-path=\"url(#clip220)\" d=\"M1509.01 1370.48 L1512.71 1370.48 Q1516.19 1375.95 1517.9 1381.18 Q1519.64 1386.41 1519.64 1391.57 Q1519.64 1396.76 1517.9 1402.01 Q1516.19 1407.27 1512.71 1412.71 L1509.01 1412.71 Q1512.09 1407.4 1513.59 1402.17 Q1515.12 1396.92 1515.12 1391.57 Q1515.12 1386.22 1513.59 1381.02 Q1512.09 1375.81 1509.01 1370.48 Z\" fill=\"#000000\" fill-rule=\"evenodd\" fill-opacity=\"1\" /><path clip-path=\"url(#clip220)\" d=\"\nM1756.6 1486.45 L2352.76 1486.45 L2352.76 123.472 L1756.6 123.472  Z\n  \" fill=\"#ffffff\" fill-rule=\"evenodd\" fill-opacity=\"1\"/>\n<defs>\n  <clipPath id=\"clip224\">\n    <rect x=\"1756\" y=\"123\" width=\"597\" height=\"1364\"/>\n  </clipPath>\n</defs>\n<polyline clip-path=\"url(#clip224)\" style=\"stroke:#000000; stroke-linecap:butt; stroke-linejoin:round; stroke-width:2; stroke-opacity:0.1; fill:none\" points=\"\n  1773.47,1486.45 1773.47,123.472 \n  \"/>\n<polyline clip-path=\"url(#clip224)\" style=\"stroke:#000000; stroke-linecap:butt; stroke-linejoin:round; stroke-width:2; stroke-opacity:0.1; fill:none\" points=\"\n  1893.13,1486.45 1893.13,123.472 \n  \"/>\n<polyline clip-path=\"url(#clip224)\" style=\"stroke:#000000; stroke-linecap:butt; stroke-linejoin:round; stroke-width:2; stroke-opacity:0.1; fill:none\" points=\"\n  2012.8,1486.45 2012.8,123.472 \n  \"/>\n<polyline clip-path=\"url(#clip224)\" style=\"stroke:#000000; stroke-linecap:butt; stroke-linejoin:round; stroke-width:2; stroke-opacity:0.1; fill:none\" points=\"\n  2132.46,1486.45 2132.46,123.472 \n  \"/>\n<polyline clip-path=\"url(#clip224)\" style=\"stroke:#000000; stroke-linecap:butt; stroke-linejoin:round; stroke-width:2; stroke-opacity:0.1; fill:none\" points=\"\n  2252.12,1486.45 2252.12,123.472 \n  \"/>\n<polyline clip-path=\"url(#clip220)\" style=\"stroke:#000000; stroke-linecap:butt; stroke-linejoin:round; stroke-width:4; stroke-opacity:1; fill:none\" points=\"\n  1756.6,1486.45 2352.76,1486.45 \n  \"/>\n<polyline clip-path=\"url(#clip220)\" style=\"stroke:#000000; stroke-linecap:butt; stroke-linejoin:round; stroke-width:4; stroke-opacity:1; fill:none\" points=\"\n  1773.47,1486.45 1773.47,1467.55 \n  \"/>\n<polyline clip-path=\"url(#clip220)\" style=\"stroke:#000000; stroke-linecap:butt; stroke-linejoin:round; stroke-width:4; stroke-opacity:1; fill:none\" points=\"\n  1893.13,1486.45 1893.13,1467.55 \n  \"/>\n<polyline clip-path=\"url(#clip220)\" style=\"stroke:#000000; stroke-linecap:butt; stroke-linejoin:round; stroke-width:4; stroke-opacity:1; fill:none\" points=\"\n  2012.8,1486.45 2012.8,1467.55 \n  \"/>\n<polyline clip-path=\"url(#clip220)\" style=\"stroke:#000000; stroke-linecap:butt; stroke-linejoin:round; stroke-width:4; stroke-opacity:1; fill:none\" points=\"\n  2132.46,1486.45 2132.46,1467.55 \n  \"/>\n<polyline clip-path=\"url(#clip220)\" style=\"stroke:#000000; stroke-linecap:butt; stroke-linejoin:round; stroke-width:4; stroke-opacity:1; fill:none\" points=\"\n  2252.12,1486.45 2252.12,1467.55 \n  \"/>\n<path clip-path=\"url(#clip220)\" d=\"M1750.86 1517.37 Q1747.24 1517.37 1745.42 1520.93 Q1743.61 1524.47 1743.61 1531.6 Q1743.61 1538.71 1745.42 1542.27 Q1747.24 1545.82 1750.86 1545.82 Q1754.49 1545.82 1756.29 1542.27 Q1758.12 1538.71 1758.12 1531.6 Q1758.12 1524.47 1756.29 1520.93 Q1754.49 1517.37 1750.86 1517.37 M1750.86 1513.66 Q1756.67 1513.66 1759.72 1518.27 Q1762.8 1522.85 1762.8 1531.6 Q1762.8 1540.33 1759.72 1544.94 Q1756.67 1549.52 1750.86 1549.52 Q1745.04 1549.52 1741.97 1544.94 Q1738.91 1540.33 1738.91 1531.6 Q1738.91 1522.85 1741.97 1518.27 Q1745.04 1513.66 1750.86 1513.66 Z\" fill=\"#000000\" fill-rule=\"evenodd\" fill-opacity=\"1\" /><path clip-path=\"url(#clip220)\" d=\"M1771.02 1542.97 L1775.9 1542.97 L1775.9 1548.85 L1771.02 1548.85 L1771.02 1542.97 Z\" fill=\"#000000\" fill-rule=\"evenodd\" fill-opacity=\"1\" /><path clip-path=\"url(#clip220)\" d=\"M1796.09 1517.37 Q1792.48 1517.37 1790.65 1520.93 Q1788.84 1524.47 1788.84 1531.6 Q1788.84 1538.71 1790.65 1542.27 Q1792.48 1545.82 1796.09 1545.82 Q1799.72 1545.82 1801.53 1542.27 Q1803.35 1538.71 1803.35 1531.6 Q1803.35 1524.47 1801.53 1520.93 Q1799.72 1517.37 1796.09 1517.37 M1796.09 1513.66 Q1801.9 1513.66 1804.95 1518.27 Q1808.03 1522.85 1808.03 1531.6 Q1808.03 1540.33 1804.95 1544.94 Q1801.9 1549.52 1796.09 1549.52 Q1790.28 1549.52 1787.2 1544.94 Q1784.14 1540.33 1784.14 1531.6 Q1784.14 1522.85 1787.2 1518.27 Q1790.28 1513.66 1796.09 1513.66 Z\" fill=\"#000000\" fill-rule=\"evenodd\" fill-opacity=\"1\" /><path clip-path=\"url(#clip220)\" d=\"M1871.32 1517.37 Q1867.7 1517.37 1865.88 1520.93 Q1864.07 1524.47 1864.07 1531.6 Q1864.07 1538.71 1865.88 1542.27 Q1867.7 1545.82 1871.32 1545.82 Q1874.95 1545.82 1876.76 1542.27 Q1878.58 1538.71 1878.58 1531.6 Q1878.58 1524.47 1876.76 1520.93 Q1874.95 1517.37 1871.32 1517.37 M1871.32 1513.66 Q1877.13 1513.66 1880.18 1518.27 Q1883.26 1522.85 1883.26 1531.6 Q1883.26 1540.33 1880.18 1544.94 Q1877.13 1549.52 1871.32 1549.52 Q1865.51 1549.52 1862.43 1544.94 Q1859.37 1540.33 1859.37 1531.6 Q1859.37 1522.85 1862.43 1518.27 Q1865.51 1513.66 1871.32 1513.66 Z\" fill=\"#000000\" fill-rule=\"evenodd\" fill-opacity=\"1\" /><path clip-path=\"url(#clip220)\" d=\"M1891.48 1542.97 L1896.36 1542.97 L1896.36 1548.85 L1891.48 1548.85 L1891.48 1542.97 Z\" fill=\"#000000\" fill-rule=\"evenodd\" fill-opacity=\"1\" /><path clip-path=\"url(#clip220)\" d=\"M1910.57 1544.91 L1926.89 1544.91 L1926.89 1548.85 L1904.95 1548.85 L1904.95 1544.91 Q1907.61 1542.16 1912.2 1537.53 Q1916.8 1532.88 1917.98 1531.53 Q1920.23 1529.01 1921.11 1527.27 Q1922.01 1525.51 1922.01 1523.82 Q1922.01 1521.07 1920.07 1519.33 Q1918.14 1517.6 1915.04 1517.6 Q1912.84 1517.6 1910.39 1518.36 Q1907.96 1519.13 1905.18 1520.68 L1905.18 1515.95 Q1908.01 1514.82 1910.46 1514.24 Q1912.91 1513.66 1914.95 1513.66 Q1920.32 1513.66 1923.51 1516.35 Q1926.71 1519.03 1926.71 1523.52 Q1926.71 1525.65 1925.9 1527.57 Q1925.11 1529.47 1923.01 1532.07 Q1922.43 1532.74 1919.32 1535.95 Q1916.22 1539.15 1910.57 1544.91 Z\" fill=\"#000000\" fill-rule=\"evenodd\" fill-opacity=\"1\" /><path clip-path=\"url(#clip220)\" d=\"M1989.94 1517.37 Q1986.33 1517.37 1984.5 1520.93 Q1982.69 1524.47 1982.69 1531.6 Q1982.69 1538.71 1984.5 1542.27 Q1986.33 1545.82 1989.94 1545.82 Q1993.57 1545.82 1995.38 1542.27 Q1997.21 1538.71 1997.21 1531.6 Q1997.21 1524.47 1995.38 1520.93 Q1993.57 1517.37 1989.94 1517.37 M1989.94 1513.66 Q1995.75 1513.66 1998.8 1518.27 Q2001.88 1522.85 2001.88 1531.6 Q2001.88 1540.33 1998.8 1544.94 Q1995.75 1549.52 1989.94 1549.52 Q1984.13 1549.52 1981.05 1544.94 Q1977.99 1540.33 1977.99 1531.6 Q1977.99 1522.85 1981.05 1518.27 Q1984.13 1513.66 1989.94 1513.66 Z\" fill=\"#000000\" fill-rule=\"evenodd\" fill-opacity=\"1\" /><path clip-path=\"url(#clip220)\" d=\"M2010.1 1542.97 L2014.98 1542.97 L2014.98 1548.85 L2010.1 1548.85 L2010.1 1542.97 Z\" fill=\"#000000\" fill-rule=\"evenodd\" fill-opacity=\"1\" /><path clip-path=\"url(#clip220)\" d=\"M2038.02 1518.36 L2026.21 1536.81 L2038.02 1536.81 L2038.02 1518.36 M2036.79 1514.29 L2042.67 1514.29 L2042.67 1536.81 L2047.6 1536.81 L2047.6 1540.7 L2042.67 1540.7 L2042.67 1548.85 L2038.02 1548.85 L2038.02 1540.7 L2022.41 1540.7 L2022.41 1536.19 L2036.79 1514.29 Z\" fill=\"#000000\" fill-rule=\"evenodd\" fill-opacity=\"1\" /><path clip-path=\"url(#clip220)\" d=\"M2109.76 1517.37 Q2106.15 1517.37 2104.32 1520.93 Q2102.52 1524.47 2102.52 1531.6 Q2102.52 1538.71 2104.32 1542.27 Q2106.15 1545.82 2109.76 1545.82 Q2113.4 1545.82 2115.2 1542.27 Q2117.03 1538.71 2117.03 1531.6 Q2117.03 1524.47 2115.2 1520.93 Q2113.4 1517.37 2109.76 1517.37 M2109.76 1513.66 Q2115.57 1513.66 2118.63 1518.27 Q2121.71 1522.85 2121.71 1531.6 Q2121.71 1540.33 2118.63 1544.94 Q2115.57 1549.52 2109.76 1549.52 Q2103.95 1549.52 2100.87 1544.94 Q2097.82 1540.33 2097.82 1531.6 Q2097.82 1522.85 2100.87 1518.27 Q2103.95 1513.66 2109.76 1513.66 Z\" fill=\"#000000\" fill-rule=\"evenodd\" fill-opacity=\"1\" /><path clip-path=\"url(#clip220)\" d=\"M2129.92 1542.97 L2134.81 1542.97 L2134.81 1548.85 L2129.92 1548.85 L2129.92 1542.97 Z\" fill=\"#000000\" fill-rule=\"evenodd\" fill-opacity=\"1\" /><path clip-path=\"url(#clip220)\" d=\"M2155.57 1529.7 Q2152.42 1529.7 2150.57 1531.86 Q2148.74 1534.01 2148.74 1537.76 Q2148.74 1541.49 2150.57 1543.66 Q2152.42 1545.82 2155.57 1545.82 Q2158.72 1545.82 2160.55 1543.66 Q2162.4 1541.49 2162.4 1537.76 Q2162.4 1534.01 2160.55 1531.86 Q2158.72 1529.7 2155.57 1529.7 M2164.85 1515.05 L2164.85 1519.31 Q2163.09 1518.48 2161.29 1518.04 Q2159.51 1517.6 2157.75 1517.6 Q2153.12 1517.6 2150.66 1520.72 Q2148.23 1523.85 2147.89 1530.17 Q2149.25 1528.15 2151.31 1527.09 Q2153.37 1526 2155.85 1526 Q2161.06 1526 2164.07 1529.17 Q2167.1 1532.32 2167.1 1537.76 Q2167.1 1543.08 2163.95 1546.3 Q2160.8 1549.52 2155.57 1549.52 Q2149.58 1549.52 2146.4 1544.94 Q2143.23 1540.33 2143.23 1531.6 Q2143.23 1523.41 2147.12 1518.55 Q2151.01 1513.66 2157.56 1513.66 Q2159.32 1513.66 2161.1 1514.01 Q2162.91 1514.36 2164.85 1515.05 Z\" fill=\"#000000\" fill-rule=\"evenodd\" fill-opacity=\"1\" /><path clip-path=\"url(#clip220)\" d=\"M2229.55 1517.37 Q2225.94 1517.37 2224.11 1520.93 Q2222.31 1524.47 2222.31 1531.6 Q2222.31 1538.71 2224.11 1542.27 Q2225.94 1545.82 2229.55 1545.82 Q2233.18 1545.82 2234.99 1542.27 Q2236.82 1538.71 2236.82 1531.6 Q2236.82 1524.47 2234.99 1520.93 Q2233.18 1517.37 2229.55 1517.37 M2229.55 1513.66 Q2235.36 1513.66 2238.42 1518.27 Q2241.49 1522.85 2241.49 1531.6 Q2241.49 1540.33 2238.42 1544.94 Q2235.36 1549.52 2229.55 1549.52 Q2223.74 1549.52 2220.66 1544.94 Q2217.61 1540.33 2217.61 1531.6 Q2217.61 1522.85 2220.66 1518.27 Q2223.74 1513.66 2229.55 1513.66 Z\" fill=\"#000000\" fill-rule=\"evenodd\" fill-opacity=\"1\" /><path clip-path=\"url(#clip220)\" d=\"M2249.71 1542.97 L2254.6 1542.97 L2254.6 1548.85 L2249.71 1548.85 L2249.71 1542.97 Z\" fill=\"#000000\" fill-rule=\"evenodd\" fill-opacity=\"1\" /><path clip-path=\"url(#clip220)\" d=\"M2274.78 1532.44 Q2271.45 1532.44 2269.53 1534.22 Q2267.63 1536 2267.63 1539.13 Q2267.63 1542.25 2269.53 1544.03 Q2271.45 1545.82 2274.78 1545.82 Q2278.12 1545.82 2280.04 1544.03 Q2281.96 1542.23 2281.96 1539.13 Q2281.96 1536 2280.04 1534.22 Q2278.14 1532.44 2274.78 1532.44 M2270.11 1530.45 Q2267.1 1529.7 2265.41 1527.64 Q2263.74 1525.58 2263.74 1522.62 Q2263.74 1518.48 2266.68 1516.07 Q2269.64 1513.66 2274.78 1513.66 Q2279.94 1513.66 2282.88 1516.07 Q2285.82 1518.48 2285.82 1522.62 Q2285.82 1525.58 2284.13 1527.64 Q2282.47 1529.7 2279.48 1530.45 Q2282.86 1531.23 2284.74 1533.52 Q2286.63 1535.82 2286.63 1539.13 Q2286.63 1544.15 2283.55 1546.83 Q2280.5 1549.52 2274.78 1549.52 Q2269.06 1549.52 2265.99 1546.83 Q2262.93 1544.15 2262.93 1539.13 Q2262.93 1535.82 2264.83 1533.52 Q2266.73 1531.23 2270.11 1530.45 M2268.39 1523.06 Q2268.39 1525.75 2270.06 1527.25 Q2271.75 1528.76 2274.78 1528.76 Q2277.79 1528.76 2279.48 1527.25 Q2281.19 1525.75 2281.19 1523.06 Q2281.19 1520.38 2279.48 1518.87 Q2277.79 1517.37 2274.78 1517.37 Q2271.75 1517.37 2270.06 1518.87 Q2268.39 1520.38 2268.39 1523.06 Z\" fill=\"#000000\" fill-rule=\"evenodd\" fill-opacity=\"1\" /><polyline clip-path=\"url(#clip224)\" style=\"stroke:#000000; stroke-linecap:butt; stroke-linejoin:round; stroke-width:2; stroke-opacity:0.1; fill:none\" points=\"\n  1756.6,1396.44 2352.76,1396.44 \n  \"/>\n<polyline clip-path=\"url(#clip224)\" style=\"stroke:#000000; stroke-linecap:butt; stroke-linejoin:round; stroke-width:2; stroke-opacity:0.1; fill:none\" points=\"\n  1756.6,1087.84 2352.76,1087.84 \n  \"/>\n<polyline clip-path=\"url(#clip224)\" style=\"stroke:#000000; stroke-linecap:butt; stroke-linejoin:round; stroke-width:2; stroke-opacity:0.1; fill:none\" points=\"\n  1756.6,779.243 2352.76,779.243 \n  \"/>\n<polyline clip-path=\"url(#clip224)\" style=\"stroke:#000000; stroke-linecap:butt; stroke-linejoin:round; stroke-width:2; stroke-opacity:0.1; fill:none\" points=\"\n  1756.6,470.645 2352.76,470.645 \n  \"/>\n<polyline clip-path=\"url(#clip224)\" style=\"stroke:#000000; stroke-linecap:butt; stroke-linejoin:round; stroke-width:2; stroke-opacity:0.1; fill:none\" points=\"\n  1756.6,162.047 2352.76,162.047 \n  \"/>\n<polyline clip-path=\"url(#clip220)\" style=\"stroke:#000000; stroke-linecap:butt; stroke-linejoin:round; stroke-width:4; stroke-opacity:1; fill:none\" points=\"\n  1756.6,1486.45 1756.6,123.472 \n  \"/>\n<polyline clip-path=\"url(#clip220)\" style=\"stroke:#000000; stroke-linecap:butt; stroke-linejoin:round; stroke-width:4; stroke-opacity:1; fill:none\" points=\"\n  1756.6,1396.44 1775.5,1396.44 \n  \"/>\n<polyline clip-path=\"url(#clip220)\" style=\"stroke:#000000; stroke-linecap:butt; stroke-linejoin:round; stroke-width:4; stroke-opacity:1; fill:none\" points=\"\n  1756.6,1087.84 1775.5,1087.84 \n  \"/>\n<polyline clip-path=\"url(#clip220)\" style=\"stroke:#000000; stroke-linecap:butt; stroke-linejoin:round; stroke-width:4; stroke-opacity:1; fill:none\" points=\"\n  1756.6,779.243 1775.5,779.243 \n  \"/>\n<polyline clip-path=\"url(#clip220)\" style=\"stroke:#000000; stroke-linecap:butt; stroke-linejoin:round; stroke-width:4; stroke-opacity:1; fill:none\" points=\"\n  1756.6,470.645 1775.5,470.645 \n  \"/>\n<polyline clip-path=\"url(#clip220)\" style=\"stroke:#000000; stroke-linecap:butt; stroke-linejoin:round; stroke-width:4; stroke-opacity:1; fill:none\" points=\"\n  1756.6,162.047 1775.5,162.047 \n  \"/>\n<path clip-path=\"url(#clip220)\" d=\"M1665.02 1382.24 Q1661.41 1382.24 1659.58 1385.8 Q1657.77 1389.35 1657.77 1396.47 Q1657.77 1403.58 1659.58 1407.15 Q1661.41 1410.69 1665.02 1410.69 Q1668.65 1410.69 1670.46 1407.15 Q1672.29 1403.58 1672.29 1396.47 Q1672.29 1389.35 1670.46 1385.8 Q1668.65 1382.24 1665.02 1382.24 M1665.02 1378.54 Q1670.83 1378.54 1673.89 1383.14 Q1676.96 1387.72 1676.96 1396.47 Q1676.96 1405.2 1673.89 1409.81 Q1670.83 1414.39 1665.02 1414.39 Q1659.21 1414.39 1656.13 1409.81 Q1653.08 1405.2 1653.08 1396.47 Q1653.08 1387.72 1656.13 1383.14 Q1659.21 1378.54 1665.02 1378.54 Z\" fill=\"#000000\" fill-rule=\"evenodd\" fill-opacity=\"1\" /><path clip-path=\"url(#clip220)\" d=\"M1685.18 1407.84 L1690.07 1407.84 L1690.07 1413.72 L1685.18 1413.72 L1685.18 1407.84 Z\" fill=\"#000000\" fill-rule=\"evenodd\" fill-opacity=\"1\" /><path clip-path=\"url(#clip220)\" d=\"M1704.28 1409.78 L1720.6 1409.78 L1720.6 1413.72 L1698.65 1413.72 L1698.65 1409.78 Q1701.32 1407.03 1705.9 1402.4 Q1710.51 1397.75 1711.69 1396.41 Q1713.93 1393.88 1714.81 1392.15 Q1715.71 1390.39 1715.71 1388.7 Q1715.71 1385.94 1713.77 1384.21 Q1711.85 1382.47 1708.75 1382.47 Q1706.55 1382.47 1704.09 1383.23 Q1701.66 1384 1698.89 1385.55 L1698.89 1380.83 Q1701.71 1379.69 1704.16 1379.11 Q1706.62 1378.54 1708.65 1378.54 Q1714.02 1378.54 1717.22 1381.22 Q1720.41 1383.91 1720.41 1388.4 Q1720.41 1390.53 1719.6 1392.45 Q1718.82 1394.35 1716.71 1396.94 Q1716.13 1397.61 1713.03 1400.83 Q1709.93 1404.02 1704.28 1409.78 Z\" fill=\"#000000\" fill-rule=\"evenodd\" fill-opacity=\"1\" /><path clip-path=\"url(#clip220)\" d=\"M1662.94 1073.64 Q1659.33 1073.64 1657.5 1077.21 Q1655.69 1080.75 1655.69 1087.88 Q1655.69 1094.98 1657.5 1098.55 Q1659.33 1102.09 1662.94 1102.09 Q1666.57 1102.09 1668.38 1098.55 Q1670.2 1094.98 1670.2 1087.88 Q1670.2 1080.75 1668.38 1077.21 Q1666.57 1073.64 1662.94 1073.64 M1662.94 1069.94 Q1668.75 1069.94 1671.8 1074.54 Q1674.88 1079.13 1674.88 1087.88 Q1674.88 1096.6 1671.8 1101.21 Q1668.75 1105.79 1662.94 1105.79 Q1657.13 1105.79 1654.05 1101.21 Q1650.99 1096.6 1650.99 1087.88 Q1650.99 1079.13 1654.05 1074.54 Q1657.13 1069.94 1662.94 1069.94 Z\" fill=\"#000000\" fill-rule=\"evenodd\" fill-opacity=\"1\" /><path clip-path=\"url(#clip220)\" d=\"M1683.1 1099.24 L1687.98 1099.24 L1687.98 1105.12 L1683.1 1105.12 L1683.1 1099.24 Z\" fill=\"#000000\" fill-rule=\"evenodd\" fill-opacity=\"1\" /><path clip-path=\"url(#clip220)\" d=\"M1711.01 1074.64 L1699.21 1093.08 L1711.01 1093.08 L1711.01 1074.64 M1709.79 1070.56 L1715.67 1070.56 L1715.67 1093.08 L1720.6 1093.08 L1720.6 1096.97 L1715.67 1096.97 L1715.67 1105.12 L1711.01 1105.12 L1711.01 1096.97 L1695.41 1096.97 L1695.41 1092.46 L1709.79 1070.56 Z\" fill=\"#000000\" fill-rule=\"evenodd\" fill-opacity=\"1\" /><path clip-path=\"url(#clip220)\" d=\"M1663.26 765.042 Q1659.65 765.042 1657.82 768.607 Q1656.02 772.149 1656.02 779.278 Q1656.02 786.385 1657.82 789.949 Q1659.65 793.491 1663.26 793.491 Q1666.89 793.491 1668.7 789.949 Q1670.53 786.385 1670.53 779.278 Q1670.53 772.149 1668.7 768.607 Q1666.89 765.042 1663.26 765.042 M1663.26 761.338 Q1669.07 761.338 1672.13 765.945 Q1675.2 770.528 1675.2 779.278 Q1675.2 788.005 1672.13 792.611 Q1669.07 797.195 1663.26 797.195 Q1657.45 797.195 1654.37 792.611 Q1651.32 788.005 1651.32 779.278 Q1651.32 770.528 1654.37 765.945 Q1657.45 761.338 1663.26 761.338 Z\" fill=\"#000000\" fill-rule=\"evenodd\" fill-opacity=\"1\" /><path clip-path=\"url(#clip220)\" d=\"M1683.42 790.644 L1688.31 790.644 L1688.31 796.523 L1683.42 796.523 L1683.42 790.644 Z\" fill=\"#000000\" fill-rule=\"evenodd\" fill-opacity=\"1\" /><path clip-path=\"url(#clip220)\" d=\"M1709.07 777.38 Q1705.92 777.38 1704.07 779.533 Q1702.24 781.686 1702.24 785.436 Q1702.24 789.162 1704.07 791.338 Q1705.92 793.491 1709.07 793.491 Q1712.22 793.491 1714.05 791.338 Q1715.9 789.162 1715.9 785.436 Q1715.9 781.686 1714.05 779.533 Q1712.22 777.38 1709.07 777.38 M1718.35 762.727 L1718.35 766.987 Q1716.59 766.153 1714.79 765.713 Q1713.01 765.274 1711.25 765.274 Q1706.62 765.274 1704.16 768.399 Q1701.73 771.524 1701.39 777.843 Q1702.75 775.829 1704.81 774.764 Q1706.87 773.676 1709.35 773.676 Q1714.56 773.676 1717.57 776.848 Q1720.6 779.996 1720.6 785.436 Q1720.6 790.76 1717.45 793.977 Q1714.3 797.195 1709.07 797.195 Q1703.08 797.195 1699.9 792.611 Q1696.73 788.005 1696.73 779.278 Q1696.73 771.084 1700.62 766.223 Q1704.51 761.338 1711.06 761.338 Q1712.82 761.338 1714.6 761.686 Q1716.41 762.033 1718.35 762.727 Z\" fill=\"#000000\" fill-rule=\"evenodd\" fill-opacity=\"1\" /><path clip-path=\"url(#clip220)\" d=\"M1663.52 456.444 Q1659.9 456.444 1658.08 460.009 Q1656.27 463.55 1656.27 470.68 Q1656.27 477.786 1658.08 481.351 Q1659.9 484.893 1663.52 484.893 Q1667.15 484.893 1668.95 481.351 Q1670.78 477.786 1670.78 470.68 Q1670.78 463.55 1668.95 460.009 Q1667.15 456.444 1663.52 456.444 M1663.52 452.74 Q1669.33 452.74 1672.38 457.347 Q1675.46 461.93 1675.46 470.68 Q1675.46 479.407 1672.38 484.013 Q1669.33 488.596 1663.52 488.596 Q1657.71 488.596 1654.63 484.013 Q1651.57 479.407 1651.57 470.68 Q1651.57 461.93 1654.63 457.347 Q1657.71 452.74 1663.52 452.74 Z\" fill=\"#000000\" fill-rule=\"evenodd\" fill-opacity=\"1\" /><path clip-path=\"url(#clip220)\" d=\"M1683.68 482.046 L1688.56 482.046 L1688.56 487.925 L1683.68 487.925 L1683.68 482.046 Z\" fill=\"#000000\" fill-rule=\"evenodd\" fill-opacity=\"1\" /><path clip-path=\"url(#clip220)\" d=\"M1708.75 471.513 Q1705.41 471.513 1703.49 473.296 Q1701.59 475.078 1701.59 478.203 Q1701.59 481.328 1703.49 483.11 Q1705.41 484.893 1708.75 484.893 Q1712.08 484.893 1714 483.11 Q1715.92 481.305 1715.92 478.203 Q1715.92 475.078 1714 473.296 Q1712.1 471.513 1708.75 471.513 M1704.07 469.523 Q1701.06 468.782 1699.37 466.722 Q1697.7 464.661 1697.7 461.698 Q1697.7 457.555 1700.64 455.148 Q1703.61 452.74 1708.75 452.74 Q1713.91 452.74 1716.85 455.148 Q1719.79 457.555 1719.79 461.698 Q1719.79 464.661 1718.1 466.722 Q1716.43 468.782 1713.45 469.523 Q1716.83 470.31 1718.7 472.601 Q1720.6 474.893 1720.6 478.203 Q1720.6 483.226 1717.52 485.911 Q1714.46 488.596 1708.75 488.596 Q1703.03 488.596 1699.95 485.911 Q1696.89 483.226 1696.89 478.203 Q1696.89 474.893 1698.79 472.601 Q1700.69 470.31 1704.07 469.523 M1702.36 462.138 Q1702.36 464.823 1704.02 466.328 Q1705.71 467.833 1708.75 467.833 Q1711.76 467.833 1713.45 466.328 Q1715.16 464.823 1715.16 462.138 Q1715.16 459.453 1713.45 457.949 Q1711.76 456.444 1708.75 456.444 Q1705.71 456.444 1704.02 457.949 Q1702.36 459.453 1702.36 462.138 Z\" fill=\"#000000\" fill-rule=\"evenodd\" fill-opacity=\"1\" /><path clip-path=\"url(#clip220)\" d=\"M1654.23 175.392 L1661.87 175.392 L1661.87 149.026 L1653.56 150.693 L1653.56 146.434 L1661.83 144.767 L1666.5 144.767 L1666.5 175.392 L1674.14 175.392 L1674.14 179.327 L1654.23 179.327 L1654.23 175.392 Z\" fill=\"#000000\" fill-rule=\"evenodd\" fill-opacity=\"1\" /><path clip-path=\"url(#clip220)\" d=\"M1683.58 173.447 L1688.47 173.447 L1688.47 179.327 L1683.58 179.327 L1683.58 173.447 Z\" fill=\"#000000\" fill-rule=\"evenodd\" fill-opacity=\"1\" /><path clip-path=\"url(#clip220)\" d=\"M1708.65 147.846 Q1705.04 147.846 1703.21 151.41 Q1701.41 154.952 1701.41 162.082 Q1701.41 169.188 1703.21 172.753 Q1705.04 176.295 1708.65 176.295 Q1712.29 176.295 1714.09 172.753 Q1715.92 169.188 1715.92 162.082 Q1715.92 154.952 1714.09 151.41 Q1712.29 147.846 1708.65 147.846 M1708.65 144.142 Q1714.46 144.142 1717.52 148.748 Q1720.6 153.332 1720.6 162.082 Q1720.6 170.808 1717.52 175.415 Q1714.46 179.998 1708.65 179.998 Q1702.84 179.998 1699.77 175.415 Q1696.71 170.808 1696.71 162.082 Q1696.71 153.332 1699.77 148.748 Q1702.84 144.142 1708.65 144.142 Z\" fill=\"#000000\" fill-rule=\"evenodd\" fill-opacity=\"1\" /><polyline clip-path=\"url(#clip224)\" style=\"stroke:#009af9; stroke-linecap:butt; stroke-linejoin:round; stroke-width:4; stroke-opacity:1; fill:none\" points=\"\n  1773.47,1447.87 1815.35,1447.87 1851.25,1289.62 1887.15,1047.84 1923.05,1047 1964.93,943.067 2000.83,891.153 2036.73,925.247 2072.63,925.247 2114.51,991.612 \n  2150.41,941.496 2186.31,962.656 2222.2,927.059 2264.09,933.543 2299.98,927.371 2335.88,921.297 \n  \"/>\n<circle clip-path=\"url(#clip224)\" cx=\"1773.47\" cy=\"1447.87\" r=\"14\" fill=\"#009af9\" fill-rule=\"evenodd\" fill-opacity=\"1\" stroke=\"#000000\" stroke-opacity=\"1\" stroke-width=\"3.2\"/>\n<circle clip-path=\"url(#clip224)\" cx=\"1815.35\" cy=\"1447.87\" r=\"14\" fill=\"#009af9\" fill-rule=\"evenodd\" fill-opacity=\"1\" stroke=\"#000000\" stroke-opacity=\"1\" stroke-width=\"3.2\"/>\n<circle clip-path=\"url(#clip224)\" cx=\"1851.25\" cy=\"1289.62\" r=\"14\" fill=\"#009af9\" fill-rule=\"evenodd\" fill-opacity=\"1\" stroke=\"#000000\" stroke-opacity=\"1\" stroke-width=\"3.2\"/>\n<circle clip-path=\"url(#clip224)\" cx=\"1887.15\" cy=\"1047.84\" r=\"14\" fill=\"#009af9\" fill-rule=\"evenodd\" fill-opacity=\"1\" stroke=\"#000000\" stroke-opacity=\"1\" stroke-width=\"3.2\"/>\n<circle clip-path=\"url(#clip224)\" cx=\"1923.05\" cy=\"1047\" r=\"14\" fill=\"#009af9\" fill-rule=\"evenodd\" fill-opacity=\"1\" stroke=\"#000000\" stroke-opacity=\"1\" stroke-width=\"3.2\"/>\n<circle clip-path=\"url(#clip224)\" cx=\"1964.93\" cy=\"943.067\" r=\"14\" fill=\"#009af9\" fill-rule=\"evenodd\" fill-opacity=\"1\" stroke=\"#000000\" stroke-opacity=\"1\" stroke-width=\"3.2\"/>\n<circle clip-path=\"url(#clip224)\" cx=\"2000.83\" cy=\"891.153\" r=\"14\" fill=\"#009af9\" fill-rule=\"evenodd\" fill-opacity=\"1\" stroke=\"#000000\" stroke-opacity=\"1\" stroke-width=\"3.2\"/>\n<circle clip-path=\"url(#clip224)\" cx=\"2036.73\" cy=\"925.247\" r=\"14\" fill=\"#009af9\" fill-rule=\"evenodd\" fill-opacity=\"1\" stroke=\"#000000\" stroke-opacity=\"1\" stroke-width=\"3.2\"/>\n<circle clip-path=\"url(#clip224)\" cx=\"2072.63\" cy=\"925.247\" r=\"14\" fill=\"#009af9\" fill-rule=\"evenodd\" fill-opacity=\"1\" stroke=\"#000000\" stroke-opacity=\"1\" stroke-width=\"3.2\"/>\n<circle clip-path=\"url(#clip224)\" cx=\"2114.51\" cy=\"991.612\" r=\"14\" fill=\"#009af9\" fill-rule=\"evenodd\" fill-opacity=\"1\" stroke=\"#000000\" stroke-opacity=\"1\" stroke-width=\"3.2\"/>\n<circle clip-path=\"url(#clip224)\" cx=\"2150.41\" cy=\"941.496\" r=\"14\" fill=\"#009af9\" fill-rule=\"evenodd\" fill-opacity=\"1\" stroke=\"#000000\" stroke-opacity=\"1\" stroke-width=\"3.2\"/>\n<circle clip-path=\"url(#clip224)\" cx=\"2186.31\" cy=\"962.656\" r=\"14\" fill=\"#009af9\" fill-rule=\"evenodd\" fill-opacity=\"1\" stroke=\"#000000\" stroke-opacity=\"1\" stroke-width=\"3.2\"/>\n<circle clip-path=\"url(#clip224)\" cx=\"2222.2\" cy=\"927.059\" r=\"14\" fill=\"#009af9\" fill-rule=\"evenodd\" fill-opacity=\"1\" stroke=\"#000000\" stroke-opacity=\"1\" stroke-width=\"3.2\"/>\n<circle clip-path=\"url(#clip224)\" cx=\"2264.09\" cy=\"933.543\" r=\"14\" fill=\"#009af9\" fill-rule=\"evenodd\" fill-opacity=\"1\" stroke=\"#000000\" stroke-opacity=\"1\" stroke-width=\"3.2\"/>\n<circle clip-path=\"url(#clip224)\" cx=\"2299.98\" cy=\"927.371\" r=\"14\" fill=\"#009af9\" fill-rule=\"evenodd\" fill-opacity=\"1\" stroke=\"#000000\" stroke-opacity=\"1\" stroke-width=\"3.2\"/>\n<circle clip-path=\"url(#clip224)\" cx=\"2335.88\" cy=\"921.297\" r=\"14\" fill=\"#009af9\" fill-rule=\"evenodd\" fill-opacity=\"1\" stroke=\"#000000\" stroke-opacity=\"1\" stroke-width=\"3.2\"/>\n<polyline clip-path=\"url(#clip224)\" style=\"stroke:#e26f46; stroke-linecap:butt; stroke-linejoin:round; stroke-width:4; stroke-opacity:1; fill:none\" points=\"\n  1773.47,894.968 1815.35,865.868 1851.25,825.533 1887.15,826.39 1923.05,773.923 1964.93,882.11 2000.83,999.671 2036.73,910.164 2072.63,910.164 2114.51,723.135 \n  2150.41,853.733 2186.31,702.094 2222.2,823.329 2264.09,547.795 2299.98,162.047 \n  \"/>\n<circle clip-path=\"url(#clip224)\" cx=\"1773.47\" cy=\"894.968\" r=\"14\" fill=\"#e26f46\" fill-rule=\"evenodd\" fill-opacity=\"1\" stroke=\"#000000\" stroke-opacity=\"1\" stroke-width=\"3.2\"/>\n<circle clip-path=\"url(#clip224)\" cx=\"1815.35\" cy=\"865.868\" r=\"14\" fill=\"#e26f46\" fill-rule=\"evenodd\" fill-opacity=\"1\" stroke=\"#000000\" stroke-opacity=\"1\" stroke-width=\"3.2\"/>\n<circle clip-path=\"url(#clip224)\" cx=\"1851.25\" cy=\"825.533\" r=\"14\" fill=\"#e26f46\" fill-rule=\"evenodd\" fill-opacity=\"1\" stroke=\"#000000\" stroke-opacity=\"1\" stroke-width=\"3.2\"/>\n<circle clip-path=\"url(#clip224)\" cx=\"1887.15\" cy=\"826.39\" r=\"14\" fill=\"#e26f46\" fill-rule=\"evenodd\" fill-opacity=\"1\" stroke=\"#000000\" stroke-opacity=\"1\" stroke-width=\"3.2\"/>\n<circle clip-path=\"url(#clip224)\" cx=\"1923.05\" cy=\"773.923\" r=\"14\" fill=\"#e26f46\" fill-rule=\"evenodd\" fill-opacity=\"1\" stroke=\"#000000\" stroke-opacity=\"1\" stroke-width=\"3.2\"/>\n<circle clip-path=\"url(#clip224)\" cx=\"1964.93\" cy=\"882.11\" r=\"14\" fill=\"#e26f46\" fill-rule=\"evenodd\" fill-opacity=\"1\" stroke=\"#000000\" stroke-opacity=\"1\" stroke-width=\"3.2\"/>\n<circle clip-path=\"url(#clip224)\" cx=\"2000.83\" cy=\"999.671\" r=\"14\" fill=\"#e26f46\" fill-rule=\"evenodd\" fill-opacity=\"1\" stroke=\"#000000\" stroke-opacity=\"1\" stroke-width=\"3.2\"/>\n<circle clip-path=\"url(#clip224)\" cx=\"2036.73\" cy=\"910.164\" r=\"14\" fill=\"#e26f46\" fill-rule=\"evenodd\" fill-opacity=\"1\" stroke=\"#000000\" stroke-opacity=\"1\" stroke-width=\"3.2\"/>\n<circle clip-path=\"url(#clip224)\" cx=\"2072.63\" cy=\"910.164\" r=\"14\" fill=\"#e26f46\" fill-rule=\"evenodd\" fill-opacity=\"1\" stroke=\"#000000\" stroke-opacity=\"1\" stroke-width=\"3.2\"/>\n<circle clip-path=\"url(#clip224)\" cx=\"2114.51\" cy=\"723.135\" r=\"14\" fill=\"#e26f46\" fill-rule=\"evenodd\" fill-opacity=\"1\" stroke=\"#000000\" stroke-opacity=\"1\" stroke-width=\"3.2\"/>\n<circle clip-path=\"url(#clip224)\" cx=\"2150.41\" cy=\"853.733\" r=\"14\" fill=\"#e26f46\" fill-rule=\"evenodd\" fill-opacity=\"1\" stroke=\"#000000\" stroke-opacity=\"1\" stroke-width=\"3.2\"/>\n<circle clip-path=\"url(#clip224)\" cx=\"2186.31\" cy=\"702.094\" r=\"14\" fill=\"#e26f46\" fill-rule=\"evenodd\" fill-opacity=\"1\" stroke=\"#000000\" stroke-opacity=\"1\" stroke-width=\"3.2\"/>\n<circle clip-path=\"url(#clip224)\" cx=\"2222.2\" cy=\"823.329\" r=\"14\" fill=\"#e26f46\" fill-rule=\"evenodd\" fill-opacity=\"1\" stroke=\"#000000\" stroke-opacity=\"1\" stroke-width=\"3.2\"/>\n<circle clip-path=\"url(#clip224)\" cx=\"2264.09\" cy=\"547.795\" r=\"14\" fill=\"#e26f46\" fill-rule=\"evenodd\" fill-opacity=\"1\" stroke=\"#000000\" stroke-opacity=\"1\" stroke-width=\"3.2\"/>\n<circle clip-path=\"url(#clip224)\" cx=\"2299.98\" cy=\"162.047\" r=\"14\" fill=\"#e26f46\" fill-rule=\"evenodd\" fill-opacity=\"1\" stroke=\"#000000\" stroke-opacity=\"1\" stroke-width=\"3.2\"/>\n<path clip-path=\"url(#clip220)\" d=\"\nM2025.21 1441.02 L2332.88 1441.02 L2332.88 1285.5 L2025.21 1285.5  Z\n  \" fill=\"#ffffff\" fill-rule=\"evenodd\" fill-opacity=\"1\"/>\n<polyline clip-path=\"url(#clip220)\" style=\"stroke:#000000; stroke-linecap:butt; stroke-linejoin:round; stroke-width:4; stroke-opacity:1; fill:none\" points=\"\n  2025.21,1441.02 2332.88,1441.02 2332.88,1285.5 2025.21,1285.5 2025.21,1441.02 \n  \"/>\n<polyline clip-path=\"url(#clip220)\" style=\"stroke:#009af9; stroke-linecap:butt; stroke-linejoin:round; stroke-width:4; stroke-opacity:1; fill:none\" points=\"\n  2031.83,1337.34 2071.58,1337.34 \n  \"/>\n<circle clip-path=\"url(#clip220)\" cx=\"2051.71\" cy=\"1337.34\" r=\"23\" fill=\"#009af9\" fill-rule=\"evenodd\" fill-opacity=\"1\" stroke=\"#000000\" stroke-opacity=\"1\" stroke-width=\"5.12\"/>\n<path clip-path=\"url(#clip220)\" d=\"M2078.2 1320.06 L2107.44 1320.06 L2107.44 1323.99 L2095.17 1323.99 L2095.17 1354.62 L2090.47 1354.62 L2090.47 1323.99 L2078.2 1323.99 L2078.2 1320.06 Z\" fill=\"#000000\" fill-rule=\"evenodd\" fill-opacity=\"1\" /><path clip-path=\"url(#clip220)\" d=\"M2122 1318.64 Q2118.9 1323.97 2117.39 1329.18 Q2115.89 1334.38 2115.89 1339.73 Q2115.89 1345.08 2117.39 1350.33 Q2118.92 1355.56 2122 1360.87 L2118.29 1360.87 Q2114.82 1355.43 2113.09 1350.17 Q2111.37 1344.92 2111.37 1339.73 Q2111.37 1334.57 2113.09 1329.34 Q2114.8 1324.11 2118.29 1318.64 L2122 1318.64 Z\" fill=\"#000000\" fill-rule=\"evenodd\" fill-opacity=\"1\" /><path clip-path=\"url(#clip220)\" d=\"M2147.6 1324.89 L2147.6 1337.79 L2160.49 1337.79 L2160.49 1341.72 L2147.6 1341.72 L2147.6 1354.62 L2143.71 1354.62 L2143.71 1341.72 L2130.82 1341.72 L2130.82 1337.79 L2143.71 1337.79 L2143.71 1324.89 L2147.6 1324.89 Z\" fill=\"#000000\" fill-rule=\"evenodd\" fill-opacity=\"1\" /><path clip-path=\"url(#clip220)\" d=\"M2202.92 1338.71 L2202.92 1340.8 L2193.83 1349.89 L2191.05 1347.12 L2196.44 1341.72 L2168.22 1341.72 L2168.22 1337.79 L2196.44 1337.79 L2191.05 1332.39 L2193.83 1329.62 L2202.92 1338.71 Z\" fill=\"#000000\" fill-rule=\"evenodd\" fill-opacity=\"1\" /><path clip-path=\"url(#clip220)\" d=\"M2209.89 1320.06 L2216.19 1320.06 L2231.51 1348.97 L2231.51 1320.06 L2236.05 1320.06 L2236.05 1354.62 L2229.75 1354.62 L2214.43 1325.7 L2214.43 1354.62 L2209.89 1354.62 L2209.89 1320.06 Z\" fill=\"#000000\" fill-rule=\"evenodd\" fill-opacity=\"1\" /><path clip-path=\"url(#clip220)\" d=\"M2256.95 1341.58 Q2251.79 1341.58 2249.8 1342.76 Q2247.81 1343.94 2247.81 1346.79 Q2247.81 1349.06 2249.29 1350.4 Q2250.79 1351.72 2253.36 1351.72 Q2256.9 1351.72 2259.03 1349.22 Q2261.19 1346.7 2261.19 1342.53 L2261.19 1341.58 L2256.95 1341.58 M2265.45 1339.82 L2265.45 1354.62 L2261.19 1354.62 L2261.19 1350.68 Q2259.73 1353.04 2257.55 1354.18 Q2255.38 1355.29 2252.23 1355.29 Q2248.25 1355.29 2245.89 1353.06 Q2243.55 1350.82 2243.55 1347.07 Q2243.55 1342.69 2246.47 1340.47 Q2249.4 1338.25 2255.22 1338.25 L2261.19 1338.25 L2261.19 1337.83 Q2261.19 1334.89 2259.24 1333.3 Q2257.32 1331.68 2253.83 1331.68 Q2251.6 1331.68 2249.5 1332.21 Q2247.39 1332.74 2245.45 1333.81 L2245.45 1329.87 Q2247.78 1328.97 2249.98 1328.53 Q2252.18 1328.06 2254.27 1328.06 Q2259.89 1328.06 2262.67 1330.98 Q2265.45 1333.9 2265.45 1339.82 Z\" fill=\"#000000\" fill-rule=\"evenodd\" fill-opacity=\"1\" /><path clip-path=\"url(#clip220)\" d=\"M2274.4 1320.06 L2280.7 1320.06 L2296.03 1348.97 L2296.03 1320.06 L2300.56 1320.06 L2300.56 1354.62 L2294.27 1354.62 L2278.94 1325.7 L2278.94 1354.62 L2274.4 1354.62 L2274.4 1320.06 Z\" fill=\"#000000\" fill-rule=\"evenodd\" fill-opacity=\"1\" /><path clip-path=\"url(#clip220)\" d=\"M2309.01 1318.64 L2312.71 1318.64 Q2316.19 1324.11 2317.9 1329.34 Q2319.64 1334.57 2319.64 1339.73 Q2319.64 1344.92 2317.9 1350.17 Q2316.19 1355.43 2312.71 1360.87 L2309.01 1360.87 Q2312.09 1355.56 2313.59 1350.33 Q2315.12 1345.08 2315.12 1339.73 Q2315.12 1334.38 2313.59 1329.18 Q2312.09 1323.97 2309.01 1318.64 Z\" fill=\"#000000\" fill-rule=\"evenodd\" fill-opacity=\"1\" /><polyline clip-path=\"url(#clip220)\" style=\"stroke:#e26f46; stroke-linecap:butt; stroke-linejoin:round; stroke-width:4; stroke-opacity:1; fill:none\" points=\"\n  2031.83,1389.18 2071.58,1389.18 \n  \"/>\n<circle clip-path=\"url(#clip220)\" cx=\"2051.71\" cy=\"1389.18\" r=\"23\" fill=\"#e26f46\" fill-rule=\"evenodd\" fill-opacity=\"1\" stroke=\"#000000\" stroke-opacity=\"1\" stroke-width=\"5.12\"/>\n<path clip-path=\"url(#clip220)\" d=\"M2078.2 1371.9 L2107.44 1371.9 L2107.44 1375.83 L2095.17 1375.83 L2095.17 1406.46 L2090.47 1406.46 L2090.47 1375.83 L2078.2 1375.83 L2078.2 1371.9 Z\" fill=\"#000000\" fill-rule=\"evenodd\" fill-opacity=\"1\" /><path clip-path=\"url(#clip220)\" d=\"M2122 1370.48 Q2118.9 1375.81 2117.39 1381.02 Q2115.89 1386.22 2115.89 1391.57 Q2115.89 1396.92 2117.39 1402.17 Q2118.92 1407.4 2122 1412.71 L2118.29 1412.71 Q2114.82 1407.27 2113.09 1402.01 Q2111.37 1396.76 2111.37 1391.57 Q2111.37 1386.41 2113.09 1381.18 Q2114.8 1375.95 2118.29 1370.48 L2122 1370.48 Z\" fill=\"#000000\" fill-rule=\"evenodd\" fill-opacity=\"1\" /><path clip-path=\"url(#clip220)\" d=\"M2130.82 1389.63 L2160.49 1389.63 L2160.49 1393.56 L2130.82 1393.56 L2130.82 1389.63 Z\" fill=\"#000000\" fill-rule=\"evenodd\" fill-opacity=\"1\" /><path clip-path=\"url(#clip220)\" d=\"M2202.92 1390.55 L2202.92 1392.64 L2193.83 1401.73 L2191.05 1398.96 L2196.44 1393.56 L2168.22 1393.56 L2168.22 1389.63 L2196.44 1389.63 L2191.05 1384.23 L2193.83 1381.46 L2202.92 1390.55 Z\" fill=\"#000000\" fill-rule=\"evenodd\" fill-opacity=\"1\" /><path clip-path=\"url(#clip220)\" d=\"M2209.89 1371.9 L2216.19 1371.9 L2231.51 1400.81 L2231.51 1371.9 L2236.05 1371.9 L2236.05 1406.46 L2229.75 1406.46 L2214.43 1377.54 L2214.43 1406.46 L2209.89 1406.46 L2209.89 1371.9 Z\" fill=\"#000000\" fill-rule=\"evenodd\" fill-opacity=\"1\" /><path clip-path=\"url(#clip220)\" d=\"M2256.95 1393.42 Q2251.79 1393.42 2249.8 1394.6 Q2247.81 1395.78 2247.81 1398.63 Q2247.81 1400.9 2249.29 1402.24 Q2250.79 1403.56 2253.36 1403.56 Q2256.9 1403.56 2259.03 1401.06 Q2261.19 1398.54 2261.19 1394.37 L2261.19 1393.42 L2256.95 1393.42 M2265.45 1391.66 L2265.45 1406.46 L2261.19 1406.46 L2261.19 1402.52 Q2259.73 1404.88 2257.55 1406.02 Q2255.38 1407.13 2252.23 1407.13 Q2248.25 1407.13 2245.89 1404.9 Q2243.55 1402.66 2243.55 1398.91 Q2243.55 1394.53 2246.47 1392.31 Q2249.4 1390.09 2255.22 1390.09 L2261.19 1390.09 L2261.19 1389.67 Q2261.19 1386.73 2259.24 1385.14 Q2257.32 1383.52 2253.83 1383.52 Q2251.6 1383.52 2249.5 1384.05 Q2247.39 1384.58 2245.45 1385.65 L2245.45 1381.71 Q2247.78 1380.81 2249.98 1380.37 Q2252.18 1379.9 2254.27 1379.9 Q2259.89 1379.9 2262.67 1382.82 Q2265.45 1385.74 2265.45 1391.66 Z\" fill=\"#000000\" fill-rule=\"evenodd\" fill-opacity=\"1\" /><path clip-path=\"url(#clip220)\" d=\"M2274.4 1371.9 L2280.7 1371.9 L2296.03 1400.81 L2296.03 1371.9 L2300.56 1371.9 L2300.56 1406.46 L2294.27 1406.46 L2278.94 1377.54 L2278.94 1406.46 L2274.4 1406.46 L2274.4 1371.9 Z\" fill=\"#000000\" fill-rule=\"evenodd\" fill-opacity=\"1\" /><path clip-path=\"url(#clip220)\" d=\"M2309.01 1370.48 L2312.71 1370.48 Q2316.19 1375.95 2317.9 1381.18 Q2319.64 1386.41 2319.64 1391.57 Q2319.64 1396.76 2317.9 1402.01 Q2316.19 1407.27 2312.71 1412.71 L2309.01 1412.71 Q2312.09 1407.4 2313.59 1402.17 Q2315.12 1396.92 2315.12 1391.57 Q2315.12 1386.22 2313.59 1381.02 Q2312.09 1375.81 2309.01 1370.48 Z\" fill=\"#000000\" fill-rule=\"evenodd\" fill-opacity=\"1\" /></svg>\n",
      "text/html": [
       "<?xml version=\"1.0\" encoding=\"utf-8\"?>\n",
       "<svg xmlns=\"http://www.w3.org/2000/svg\" xmlns:xlink=\"http://www.w3.org/1999/xlink\" width=\"600\" height=\"400\" viewBox=\"0 0 2400 1600\">\n",
       "<defs>\n",
       "  <clipPath id=\"clip270\">\n",
       "    <rect x=\"0\" y=\"0\" width=\"2400\" height=\"1600\"/>\n",
       "  </clipPath>\n",
       "</defs>\n",
       "<path clip-path=\"url(#clip270)\" d=\"\n",
       "M0 1600 L2400 1600 L2400 0 L0 0  Z\n",
       "  \" fill=\"#ffffff\" fill-rule=\"evenodd\" fill-opacity=\"1\"/>\n",
       "<defs>\n",
       "  <clipPath id=\"clip271\">\n",
       "    <rect x=\"480\" y=\"0\" width=\"1681\" height=\"1600\"/>\n",
       "  </clipPath>\n",
       "</defs>\n",
       "<path clip-path=\"url(#clip270)\" d=\"\n",
       "M156.598 1486.45 L752.756 1486.45 L752.756 123.472 L156.598 123.472  Z\n",
       "  \" fill=\"#ffffff\" fill-rule=\"evenodd\" fill-opacity=\"1\"/>\n",
       "<defs>\n",
       "  <clipPath id=\"clip272\">\n",
       "    <rect x=\"156\" y=\"123\" width=\"597\" height=\"1364\"/>\n",
       "  </clipPath>\n",
       "</defs>\n",
       "<polyline clip-path=\"url(#clip272)\" style=\"stroke:#000000; stroke-linecap:butt; stroke-linejoin:round; stroke-width:2; stroke-opacity:0.1; fill:none\" points=\"\n",
       "  173.471,1486.45 173.471,123.472 \n",
       "  \"/>\n",
       "<polyline clip-path=\"url(#clip272)\" style=\"stroke:#000000; stroke-linecap:butt; stroke-linejoin:round; stroke-width:2; stroke-opacity:0.1; fill:none\" points=\"\n",
       "  293.133,1486.45 293.133,123.472 \n",
       "  \"/>\n",
       "<polyline clip-path=\"url(#clip272)\" style=\"stroke:#000000; stroke-linecap:butt; stroke-linejoin:round; stroke-width:2; stroke-opacity:0.1; fill:none\" points=\"\n",
       "  412.795,1486.45 412.795,123.472 \n",
       "  \"/>\n",
       "<polyline clip-path=\"url(#clip272)\" style=\"stroke:#000000; stroke-linecap:butt; stroke-linejoin:round; stroke-width:2; stroke-opacity:0.1; fill:none\" points=\"\n",
       "  532.458,1486.45 532.458,123.472 \n",
       "  \"/>\n",
       "<polyline clip-path=\"url(#clip272)\" style=\"stroke:#000000; stroke-linecap:butt; stroke-linejoin:round; stroke-width:2; stroke-opacity:0.1; fill:none\" points=\"\n",
       "  652.12,1486.45 652.12,123.472 \n",
       "  \"/>\n",
       "<polyline clip-path=\"url(#clip270)\" style=\"stroke:#000000; stroke-linecap:butt; stroke-linejoin:round; stroke-width:4; stroke-opacity:1; fill:none\" points=\"\n",
       "  156.598,1486.45 752.756,1486.45 \n",
       "  \"/>\n",
       "<polyline clip-path=\"url(#clip270)\" style=\"stroke:#000000; stroke-linecap:butt; stroke-linejoin:round; stroke-width:4; stroke-opacity:1; fill:none\" points=\"\n",
       "  173.471,1486.45 173.471,1467.55 \n",
       "  \"/>\n",
       "<polyline clip-path=\"url(#clip270)\" style=\"stroke:#000000; stroke-linecap:butt; stroke-linejoin:round; stroke-width:4; stroke-opacity:1; fill:none\" points=\"\n",
       "  293.133,1486.45 293.133,1467.55 \n",
       "  \"/>\n",
       "<polyline clip-path=\"url(#clip270)\" style=\"stroke:#000000; stroke-linecap:butt; stroke-linejoin:round; stroke-width:4; stroke-opacity:1; fill:none\" points=\"\n",
       "  412.795,1486.45 412.795,1467.55 \n",
       "  \"/>\n",
       "<polyline clip-path=\"url(#clip270)\" style=\"stroke:#000000; stroke-linecap:butt; stroke-linejoin:round; stroke-width:4; stroke-opacity:1; fill:none\" points=\"\n",
       "  532.458,1486.45 532.458,1467.55 \n",
       "  \"/>\n",
       "<polyline clip-path=\"url(#clip270)\" style=\"stroke:#000000; stroke-linecap:butt; stroke-linejoin:round; stroke-width:4; stroke-opacity:1; fill:none\" points=\"\n",
       "  652.12,1486.45 652.12,1467.55 \n",
       "  \"/>\n",
       "<path clip-path=\"url(#clip270)\" d=\"M150.855 1517.37 Q147.244 1517.37 145.415 1520.93 Q143.61 1524.47 143.61 1531.6 Q143.61 1538.71 145.415 1542.27 Q147.244 1545.82 150.855 1545.82 Q154.489 1545.82 156.295 1542.27 Q158.123 1538.71 158.123 1531.6 Q158.123 1524.47 156.295 1520.93 Q154.489 1517.37 150.855 1517.37 M150.855 1513.66 Q156.665 1513.66 159.721 1518.27 Q162.799 1522.85 162.799 1531.6 Q162.799 1540.33 159.721 1544.94 Q156.665 1549.52 150.855 1549.52 Q145.045 1549.52 141.966 1544.94 Q138.911 1540.33 138.911 1531.6 Q138.911 1522.85 141.966 1518.27 Q145.045 1513.66 150.855 1513.66 Z\" fill=\"#000000\" fill-rule=\"evenodd\" fill-opacity=\"1\" /><path clip-path=\"url(#clip270)\" d=\"M171.017 1542.97 L175.901 1542.97 L175.901 1548.85 L171.017 1548.85 L171.017 1542.97 Z\" fill=\"#000000\" fill-rule=\"evenodd\" fill-opacity=\"1\" /><path clip-path=\"url(#clip270)\" d=\"M196.086 1517.37 Q192.475 1517.37 190.646 1520.93 Q188.841 1524.47 188.841 1531.6 Q188.841 1538.71 190.646 1542.27 Q192.475 1545.82 196.086 1545.82 Q199.72 1545.82 201.526 1542.27 Q203.355 1538.71 203.355 1531.6 Q203.355 1524.47 201.526 1520.93 Q199.72 1517.37 196.086 1517.37 M196.086 1513.66 Q201.896 1513.66 204.952 1518.27 Q208.031 1522.85 208.031 1531.6 Q208.031 1540.33 204.952 1544.94 Q201.896 1549.52 196.086 1549.52 Q190.276 1549.52 187.197 1544.94 Q184.142 1540.33 184.142 1531.6 Q184.142 1522.85 187.197 1518.27 Q190.276 1513.66 196.086 1513.66 Z\" fill=\"#000000\" fill-rule=\"evenodd\" fill-opacity=\"1\" /><path clip-path=\"url(#clip270)\" d=\"M271.316 1517.37 Q267.705 1517.37 265.876 1520.93 Q264.071 1524.47 264.071 1531.6 Q264.071 1538.71 265.876 1542.27 Q267.705 1545.82 271.316 1545.82 Q274.95 1545.82 276.756 1542.27 Q278.584 1538.71 278.584 1531.6 Q278.584 1524.47 276.756 1520.93 Q274.95 1517.37 271.316 1517.37 M271.316 1513.66 Q277.126 1513.66 280.182 1518.27 Q283.26 1522.85 283.26 1531.6 Q283.26 1540.33 280.182 1544.94 Q277.126 1549.52 271.316 1549.52 Q265.506 1549.52 262.427 1544.94 Q259.372 1540.33 259.372 1531.6 Q259.372 1522.85 262.427 1518.27 Q265.506 1513.66 271.316 1513.66 Z\" fill=\"#000000\" fill-rule=\"evenodd\" fill-opacity=\"1\" /><path clip-path=\"url(#clip270)\" d=\"M291.478 1542.97 L296.362 1542.97 L296.362 1548.85 L291.478 1548.85 L291.478 1542.97 Z\" fill=\"#000000\" fill-rule=\"evenodd\" fill-opacity=\"1\" /><path clip-path=\"url(#clip270)\" d=\"M310.575 1544.91 L326.894 1544.91 L326.894 1548.85 L304.95 1548.85 L304.95 1544.91 Q307.612 1542.16 312.195 1537.53 Q316.802 1532.88 317.982 1531.53 Q320.228 1529.01 321.107 1527.27 Q322.01 1525.51 322.01 1523.82 Q322.01 1521.07 320.066 1519.33 Q318.144 1517.6 315.043 1517.6 Q312.843 1517.6 310.39 1518.36 Q307.959 1519.13 305.181 1520.68 L305.181 1515.95 Q308.006 1514.82 310.459 1514.24 Q312.913 1513.66 314.95 1513.66 Q320.32 1513.66 323.515 1516.35 Q326.709 1519.03 326.709 1523.52 Q326.709 1525.65 325.899 1527.57 Q325.112 1529.47 323.005 1532.07 Q322.427 1532.74 319.325 1535.95 Q316.223 1539.15 310.575 1544.91 Z\" fill=\"#000000\" fill-rule=\"evenodd\" fill-opacity=\"1\" /><path clip-path=\"url(#clip270)\" d=\"M389.937 1517.37 Q386.325 1517.37 384.497 1520.93 Q382.691 1524.47 382.691 1531.6 Q382.691 1538.71 384.497 1542.27 Q386.325 1545.82 389.937 1545.82 Q393.571 1545.82 395.376 1542.27 Q397.205 1538.71 397.205 1531.6 Q397.205 1524.47 395.376 1520.93 Q393.571 1517.37 389.937 1517.37 M389.937 1513.66 Q395.747 1513.66 398.802 1518.27 Q401.881 1522.85 401.881 1531.6 Q401.881 1540.33 398.802 1544.94 Q395.747 1549.52 389.937 1549.52 Q384.126 1549.52 381.048 1544.94 Q377.992 1540.33 377.992 1531.6 Q377.992 1522.85 381.048 1518.27 Q384.126 1513.66 389.937 1513.66 Z\" fill=\"#000000\" fill-rule=\"evenodd\" fill-opacity=\"1\" /><path clip-path=\"url(#clip270)\" d=\"M410.099 1542.97 L414.983 1542.97 L414.983 1548.85 L410.099 1548.85 L410.099 1542.97 Z\" fill=\"#000000\" fill-rule=\"evenodd\" fill-opacity=\"1\" /><path clip-path=\"url(#clip270)\" d=\"M438.015 1518.36 L426.21 1536.81 L438.015 1536.81 L438.015 1518.36 M436.788 1514.29 L442.668 1514.29 L442.668 1536.81 L447.598 1536.81 L447.598 1540.7 L442.668 1540.7 L442.668 1548.85 L438.015 1548.85 L438.015 1540.7 L422.413 1540.7 L422.413 1536.19 L436.788 1514.29 Z\" fill=\"#000000\" fill-rule=\"evenodd\" fill-opacity=\"1\" /><path clip-path=\"url(#clip270)\" d=\"M509.761 1517.37 Q506.15 1517.37 504.321 1520.93 Q502.516 1524.47 502.516 1531.6 Q502.516 1538.71 504.321 1542.27 Q506.15 1545.82 509.761 1545.82 Q513.395 1545.82 515.201 1542.27 Q517.029 1538.71 517.029 1531.6 Q517.029 1524.47 515.201 1520.93 Q513.395 1517.37 509.761 1517.37 M509.761 1513.66 Q515.571 1513.66 518.627 1518.27 Q521.705 1522.85 521.705 1531.6 Q521.705 1540.33 518.627 1544.94 Q515.571 1549.52 509.761 1549.52 Q503.951 1549.52 500.872 1544.94 Q497.817 1540.33 497.817 1531.6 Q497.817 1522.85 500.872 1518.27 Q503.951 1513.66 509.761 1513.66 Z\" fill=\"#000000\" fill-rule=\"evenodd\" fill-opacity=\"1\" /><path clip-path=\"url(#clip270)\" d=\"M529.923 1542.97 L534.807 1542.97 L534.807 1548.85 L529.923 1548.85 L529.923 1542.97 Z\" fill=\"#000000\" fill-rule=\"evenodd\" fill-opacity=\"1\" /><path clip-path=\"url(#clip270)\" d=\"M555.571 1529.7 Q552.423 1529.7 550.571 1531.86 Q548.742 1534.01 548.742 1537.76 Q548.742 1541.49 550.571 1543.66 Q552.423 1545.82 555.571 1545.82 Q558.719 1545.82 560.548 1543.66 Q562.4 1541.49 562.4 1537.76 Q562.4 1534.01 560.548 1531.86 Q558.719 1529.7 555.571 1529.7 M564.853 1515.05 L564.853 1519.31 Q563.094 1518.48 561.288 1518.04 Q559.506 1517.6 557.747 1517.6 Q553.117 1517.6 550.663 1520.72 Q548.233 1523.85 547.886 1530.17 Q549.251 1528.15 551.312 1527.09 Q553.372 1526 555.849 1526 Q561.057 1526 564.066 1529.17 Q567.099 1532.32 567.099 1537.76 Q567.099 1543.08 563.95 1546.3 Q560.802 1549.52 555.571 1549.52 Q549.576 1549.52 546.404 1544.94 Q543.233 1540.33 543.233 1531.6 Q543.233 1523.41 547.122 1518.55 Q551.011 1513.66 557.562 1513.66 Q559.321 1513.66 561.103 1514.01 Q562.909 1514.36 564.853 1515.05 Z\" fill=\"#000000\" fill-rule=\"evenodd\" fill-opacity=\"1\" /><path clip-path=\"url(#clip270)\" d=\"M629.551 1517.37 Q625.939 1517.37 624.111 1520.93 Q622.305 1524.47 622.305 1531.6 Q622.305 1538.71 624.111 1542.27 Q625.939 1545.82 629.551 1545.82 Q633.185 1545.82 634.99 1542.27 Q636.819 1538.71 636.819 1531.6 Q636.819 1524.47 634.99 1520.93 Q633.185 1517.37 629.551 1517.37 M629.551 1513.66 Q635.361 1513.66 638.416 1518.27 Q641.495 1522.85 641.495 1531.6 Q641.495 1540.33 638.416 1544.94 Q635.361 1549.52 629.551 1549.52 Q623.74 1549.52 620.662 1544.94 Q617.606 1540.33 617.606 1531.6 Q617.606 1522.85 620.662 1518.27 Q623.74 1513.66 629.551 1513.66 Z\" fill=\"#000000\" fill-rule=\"evenodd\" fill-opacity=\"1\" /><path clip-path=\"url(#clip270)\" d=\"M649.713 1542.97 L654.597 1542.97 L654.597 1548.85 L649.713 1548.85 L649.713 1542.97 Z\" fill=\"#000000\" fill-rule=\"evenodd\" fill-opacity=\"1\" /><path clip-path=\"url(#clip270)\" d=\"M674.782 1532.44 Q671.448 1532.44 669.527 1534.22 Q667.629 1536 667.629 1539.13 Q667.629 1542.25 669.527 1544.03 Q671.448 1545.82 674.782 1545.82 Q678.115 1545.82 680.036 1544.03 Q681.958 1542.23 681.958 1539.13 Q681.958 1536 680.036 1534.22 Q678.138 1532.44 674.782 1532.44 M670.106 1530.45 Q667.097 1529.7 665.407 1527.64 Q663.74 1525.58 663.74 1522.62 Q663.74 1518.48 666.68 1516.07 Q669.643 1513.66 674.782 1513.66 Q679.944 1513.66 682.884 1516.07 Q685.823 1518.48 685.823 1522.62 Q685.823 1525.58 684.134 1527.64 Q682.467 1529.7 679.481 1530.45 Q682.86 1531.23 684.735 1533.52 Q686.634 1535.82 686.634 1539.13 Q686.634 1544.15 683.555 1546.83 Q680.499 1549.52 674.782 1549.52 Q669.064 1549.52 665.986 1546.83 Q662.93 1544.15 662.93 1539.13 Q662.93 1535.82 664.828 1533.52 Q666.726 1531.23 670.106 1530.45 M668.393 1523.06 Q668.393 1525.75 670.06 1527.25 Q671.749 1528.76 674.782 1528.76 Q677.791 1528.76 679.481 1527.25 Q681.194 1525.75 681.194 1523.06 Q681.194 1520.38 679.481 1518.87 Q677.791 1517.37 674.782 1517.37 Q671.749 1517.37 670.06 1518.87 Q668.393 1520.38 668.393 1523.06 Z\" fill=\"#000000\" fill-rule=\"evenodd\" fill-opacity=\"1\" /><polyline clip-path=\"url(#clip272)\" style=\"stroke:#000000; stroke-linecap:butt; stroke-linejoin:round; stroke-width:2; stroke-opacity:0.1; fill:none\" points=\"\n",
       "  156.598,1447.87 752.756,1447.87 \n",
       "  \"/>\n",
       "<polyline clip-path=\"url(#clip272)\" style=\"stroke:#000000; stroke-linecap:butt; stroke-linejoin:round; stroke-width:2; stroke-opacity:0.1; fill:none\" points=\"\n",
       "  156.598,1190.71 752.756,1190.71 \n",
       "  \"/>\n",
       "<polyline clip-path=\"url(#clip272)\" style=\"stroke:#000000; stroke-linecap:butt; stroke-linejoin:round; stroke-width:2; stroke-opacity:0.1; fill:none\" points=\"\n",
       "  156.598,933.543 752.756,933.543 \n",
       "  \"/>\n",
       "<polyline clip-path=\"url(#clip272)\" style=\"stroke:#000000; stroke-linecap:butt; stroke-linejoin:round; stroke-width:2; stroke-opacity:0.1; fill:none\" points=\"\n",
       "  156.598,676.377 752.756,676.377 \n",
       "  \"/>\n",
       "<polyline clip-path=\"url(#clip272)\" style=\"stroke:#000000; stroke-linecap:butt; stroke-linejoin:round; stroke-width:2; stroke-opacity:0.1; fill:none\" points=\"\n",
       "  156.598,419.212 752.756,419.212 \n",
       "  \"/>\n",
       "<polyline clip-path=\"url(#clip272)\" style=\"stroke:#000000; stroke-linecap:butt; stroke-linejoin:round; stroke-width:2; stroke-opacity:0.1; fill:none\" points=\"\n",
       "  156.598,162.047 752.756,162.047 \n",
       "  \"/>\n",
       "<polyline clip-path=\"url(#clip270)\" style=\"stroke:#000000; stroke-linecap:butt; stroke-linejoin:round; stroke-width:4; stroke-opacity:1; fill:none\" points=\"\n",
       "  156.598,1486.45 156.598,123.472 \n",
       "  \"/>\n",
       "<polyline clip-path=\"url(#clip270)\" style=\"stroke:#000000; stroke-linecap:butt; stroke-linejoin:round; stroke-width:4; stroke-opacity:1; fill:none\" points=\"\n",
       "  156.598,1447.87 175.496,1447.87 \n",
       "  \"/>\n",
       "<polyline clip-path=\"url(#clip270)\" style=\"stroke:#000000; stroke-linecap:butt; stroke-linejoin:round; stroke-width:4; stroke-opacity:1; fill:none\" points=\"\n",
       "  156.598,1190.71 175.496,1190.71 \n",
       "  \"/>\n",
       "<polyline clip-path=\"url(#clip270)\" style=\"stroke:#000000; stroke-linecap:butt; stroke-linejoin:round; stroke-width:4; stroke-opacity:1; fill:none\" points=\"\n",
       "  156.598,933.543 175.496,933.543 \n",
       "  \"/>\n",
       "<polyline clip-path=\"url(#clip270)\" style=\"stroke:#000000; stroke-linecap:butt; stroke-linejoin:round; stroke-width:4; stroke-opacity:1; fill:none\" points=\"\n",
       "  156.598,676.377 175.496,676.377 \n",
       "  \"/>\n",
       "<polyline clip-path=\"url(#clip270)\" style=\"stroke:#000000; stroke-linecap:butt; stroke-linejoin:round; stroke-width:4; stroke-opacity:1; fill:none\" points=\"\n",
       "  156.598,419.212 175.496,419.212 \n",
       "  \"/>\n",
       "<polyline clip-path=\"url(#clip270)\" style=\"stroke:#000000; stroke-linecap:butt; stroke-linejoin:round; stroke-width:4; stroke-opacity:1; fill:none\" points=\"\n",
       "  156.598,162.047 175.496,162.047 \n",
       "  \"/>\n",
       "<path clip-path=\"url(#clip270)\" d=\"M63.4226 1433.67 Q59.8115 1433.67 57.9828 1437.24 Q56.1773 1440.78 56.1773 1447.91 Q56.1773 1455.01 57.9828 1458.58 Q59.8115 1462.12 63.4226 1462.12 Q67.0569 1462.12 68.8624 1458.58 Q70.6911 1455.01 70.6911 1447.91 Q70.6911 1440.78 68.8624 1437.24 Q67.0569 1433.67 63.4226 1433.67 M63.4226 1429.97 Q69.2328 1429.97 72.2883 1434.57 Q75.367 1439.16 75.367 1447.91 Q75.367 1456.63 72.2883 1461.24 Q69.2328 1465.82 63.4226 1465.82 Q57.6125 1465.82 54.5338 1461.24 Q51.4782 1456.63 51.4782 1447.91 Q51.4782 1439.16 54.5338 1434.57 Q57.6125 1429.97 63.4226 1429.97 Z\" fill=\"#000000\" fill-rule=\"evenodd\" fill-opacity=\"1\" /><path clip-path=\"url(#clip270)\" d=\"M83.5845 1459.27 L88.4688 1459.27 L88.4688 1465.15 L83.5845 1465.15 L83.5845 1459.27 Z\" fill=\"#000000\" fill-rule=\"evenodd\" fill-opacity=\"1\" /><path clip-path=\"url(#clip270)\" d=\"M108.654 1433.67 Q105.043 1433.67 103.214 1437.24 Q101.409 1440.78 101.409 1447.91 Q101.409 1455.01 103.214 1458.58 Q105.043 1462.12 108.654 1462.12 Q112.288 1462.12 114.094 1458.58 Q115.922 1455.01 115.922 1447.91 Q115.922 1440.78 114.094 1437.24 Q112.288 1433.67 108.654 1433.67 M108.654 1429.97 Q114.464 1429.97 117.52 1434.57 Q120.598 1439.16 120.598 1447.91 Q120.598 1456.63 117.52 1461.24 Q114.464 1465.82 108.654 1465.82 Q102.844 1465.82 99.765 1461.24 Q96.7095 1456.63 96.7095 1447.91 Q96.7095 1439.16 99.765 1434.57 Q102.844 1429.97 108.654 1429.97 Z\" fill=\"#000000\" fill-rule=\"evenodd\" fill-opacity=\"1\" /><path clip-path=\"url(#clip270)\" d=\"M64.6495 1176.51 Q61.0384 1176.51 59.2097 1180.07 Q57.4041 1183.61 57.4041 1190.74 Q57.4041 1197.85 59.2097 1201.41 Q61.0384 1204.96 64.6495 1204.96 Q68.2837 1204.96 70.0892 1201.41 Q71.9179 1197.85 71.9179 1190.74 Q71.9179 1183.61 70.0892 1180.07 Q68.2837 1176.51 64.6495 1176.51 M64.6495 1172.8 Q70.4596 1172.8 73.5152 1177.41 Q76.5938 1181.99 76.5938 1190.74 Q76.5938 1199.47 73.5152 1204.08 Q70.4596 1208.66 64.6495 1208.66 Q58.8393 1208.66 55.7606 1204.08 Q52.7051 1199.47 52.7051 1190.74 Q52.7051 1181.99 55.7606 1177.41 Q58.8393 1172.8 64.6495 1172.8 Z\" fill=\"#000000\" fill-rule=\"evenodd\" fill-opacity=\"1\" /><path clip-path=\"url(#clip270)\" d=\"M84.8114 1202.11 L89.6956 1202.11 L89.6956 1207.99 L84.8114 1207.99 L84.8114 1202.11 Z\" fill=\"#000000\" fill-rule=\"evenodd\" fill-opacity=\"1\" /><path clip-path=\"url(#clip270)\" d=\"M100.691 1204.05 L108.33 1204.05 L108.33 1177.69 L100.02 1179.35 L100.02 1175.09 L108.283 1173.43 L112.959 1173.43 L112.959 1204.05 L120.598 1204.05 L120.598 1207.99 L100.691 1207.99 L100.691 1204.05 Z\" fill=\"#000000\" fill-rule=\"evenodd\" fill-opacity=\"1\" /><path clip-path=\"url(#clip270)\" d=\"M65.0198 919.341 Q61.4087 919.341 59.58 922.906 Q57.7745 926.448 57.7745 933.577 Q57.7745 940.684 59.58 944.249 Q61.4087 947.79 65.0198 947.79 Q68.6541 947.79 70.4596 944.249 Q72.2883 940.684 72.2883 933.577 Q72.2883 926.448 70.4596 922.906 Q68.6541 919.341 65.0198 919.341 M65.0198 915.638 Q70.83 915.638 73.8855 920.244 Q76.9642 924.827 76.9642 933.577 Q76.9642 942.304 73.8855 946.911 Q70.83 951.494 65.0198 951.494 Q59.2097 951.494 56.131 946.911 Q53.0754 942.304 53.0754 933.577 Q53.0754 924.827 56.131 920.244 Q59.2097 915.638 65.0198 915.638 Z\" fill=\"#000000\" fill-rule=\"evenodd\" fill-opacity=\"1\" /><path clip-path=\"url(#clip270)\" d=\"M85.1818 944.943 L90.066 944.943 L90.066 950.823 L85.1818 950.823 L85.1818 944.943 Z\" fill=\"#000000\" fill-rule=\"evenodd\" fill-opacity=\"1\" /><path clip-path=\"url(#clip270)\" d=\"M104.279 946.887 L120.598 946.887 L120.598 950.823 L98.6539 950.823 L98.6539 946.887 Q101.316 944.133 105.899 939.503 Q110.506 934.85 111.686 933.508 Q113.932 930.985 114.811 929.249 Q115.714 927.489 115.714 925.8 Q115.714 923.045 113.77 921.309 Q111.848 919.573 108.746 919.573 Q106.547 919.573 104.094 920.337 Q101.663 921.101 98.8854 922.651 L98.8854 917.929 Q101.709 916.795 104.163 916.216 Q106.617 915.638 108.654 915.638 Q114.024 915.638 117.219 918.323 Q120.413 921.008 120.413 925.499 Q120.413 927.628 119.603 929.55 Q118.816 931.448 116.709 934.04 Q116.131 934.712 113.029 937.929 Q109.927 941.124 104.279 946.887 Z\" fill=\"#000000\" fill-rule=\"evenodd\" fill-opacity=\"1\" /><path clip-path=\"url(#clip270)\" d=\"M64.0708 662.176 Q60.4597 662.176 58.631 665.741 Q56.8254 669.283 56.8254 676.412 Q56.8254 683.519 58.631 687.083 Q60.4597 690.625 64.0708 690.625 Q67.705 690.625 69.5105 687.083 Q71.3392 683.519 71.3392 676.412 Q71.3392 669.283 69.5105 665.741 Q67.705 662.176 64.0708 662.176 M64.0708 658.472 Q69.8809 658.472 72.9365 663.079 Q76.0151 667.662 76.0151 676.412 Q76.0151 685.139 72.9365 689.745 Q69.8809 694.329 64.0708 694.329 Q58.2606 694.329 55.1819 689.745 Q52.1264 685.139 52.1264 676.412 Q52.1264 667.662 55.1819 663.079 Q58.2606 658.472 64.0708 658.472 Z\" fill=\"#000000\" fill-rule=\"evenodd\" fill-opacity=\"1\" /><path clip-path=\"url(#clip270)\" d=\"M84.2327 687.778 L89.1169 687.778 L89.1169 693.657 L84.2327 693.657 L84.2327 687.778 Z\" fill=\"#000000\" fill-rule=\"evenodd\" fill-opacity=\"1\" /><path clip-path=\"url(#clip270)\" d=\"M113.469 675.023 Q116.825 675.741 118.7 678.009 Q120.598 680.278 120.598 683.611 Q120.598 688.727 117.08 691.528 Q113.561 694.329 107.08 694.329 Q104.904 694.329 102.589 693.889 Q100.297 693.472 97.8437 692.616 L97.8437 688.102 Q99.7882 689.236 102.103 689.815 Q104.418 690.394 106.941 690.394 Q111.339 690.394 113.631 688.657 Q115.945 686.921 115.945 683.611 Q115.945 680.556 113.793 678.843 Q111.663 677.107 107.844 677.107 L103.816 677.107 L103.816 673.264 L108.029 673.264 Q111.478 673.264 113.307 671.898 Q115.135 670.509 115.135 667.917 Q115.135 665.255 113.237 663.843 Q111.362 662.408 107.844 662.408 Q105.922 662.408 103.723 662.824 Q101.524 663.241 98.8854 664.121 L98.8854 659.954 Q101.547 659.213 103.862 658.843 Q106.2 658.472 108.26 658.472 Q113.584 658.472 116.686 660.903 Q119.788 663.31 119.788 667.431 Q119.788 670.301 118.145 672.292 Q116.501 674.259 113.469 675.023 Z\" fill=\"#000000\" fill-rule=\"evenodd\" fill-opacity=\"1\" /><path clip-path=\"url(#clip270)\" d=\"M62.9365 405.011 Q59.3254 405.011 57.4967 408.576 Q55.6912 412.117 55.6912 419.247 Q55.6912 426.353 57.4967 429.918 Q59.3254 433.46 62.9365 433.46 Q66.5707 433.46 68.3763 429.918 Q70.205 426.353 70.205 419.247 Q70.205 412.117 68.3763 408.576 Q66.5707 405.011 62.9365 405.011 M62.9365 401.307 Q68.7467 401.307 71.8022 405.914 Q74.8809 410.497 74.8809 419.247 Q74.8809 427.974 71.8022 432.58 Q68.7467 437.163 62.9365 437.163 Q57.1264 437.163 54.0477 432.58 Q50.9921 427.974 50.9921 419.247 Q50.9921 410.497 54.0477 405.914 Q57.1264 401.307 62.9365 401.307 Z\" fill=\"#000000\" fill-rule=\"evenodd\" fill-opacity=\"1\" /><path clip-path=\"url(#clip270)\" d=\"M83.0984 430.613 L87.9827 430.613 L87.9827 436.492 L83.0984 436.492 L83.0984 430.613 Z\" fill=\"#000000\" fill-rule=\"evenodd\" fill-opacity=\"1\" /><path clip-path=\"url(#clip270)\" d=\"M111.015 406.006 L99.2095 424.455 L111.015 424.455 L111.015 406.006 M109.788 401.932 L115.668 401.932 L115.668 424.455 L120.598 424.455 L120.598 428.344 L115.668 428.344 L115.668 436.492 L111.015 436.492 L111.015 428.344 L95.4132 428.344 L95.4132 423.83 L109.788 401.932 Z\" fill=\"#000000\" fill-rule=\"evenodd\" fill-opacity=\"1\" /><path clip-path=\"url(#clip270)\" d=\"M64.418 147.846 Q60.8069 147.846 58.9782 151.41 Q57.1726 154.952 57.1726 162.082 Q57.1726 169.188 58.9782 172.753 Q60.8069 176.295 64.418 176.295 Q68.0522 176.295 69.8578 172.753 Q71.6865 169.188 71.6865 162.082 Q71.6865 154.952 69.8578 151.41 Q68.0522 147.846 64.418 147.846 M64.418 144.142 Q70.2281 144.142 73.2837 148.748 Q76.3624 153.332 76.3624 162.082 Q76.3624 170.808 73.2837 175.415 Q70.2281 179.998 64.418 179.998 Q58.6078 179.998 55.5291 175.415 Q52.4736 170.808 52.4736 162.082 Q52.4736 153.332 55.5291 148.748 Q58.6078 144.142 64.418 144.142 Z\" fill=\"#000000\" fill-rule=\"evenodd\" fill-opacity=\"1\" /><path clip-path=\"url(#clip270)\" d=\"M84.5799 173.447 L89.4641 173.447 L89.4641 179.327 L84.5799 179.327 L84.5799 173.447 Z\" fill=\"#000000\" fill-rule=\"evenodd\" fill-opacity=\"1\" /><path clip-path=\"url(#clip270)\" d=\"M99.6956 144.767 L118.052 144.767 L118.052 148.702 L103.978 148.702 L103.978 157.174 Q104.996 156.827 106.015 156.665 Q107.033 156.48 108.052 156.48 Q113.839 156.48 117.219 159.651 Q120.598 162.822 120.598 168.239 Q120.598 173.818 117.126 176.92 Q113.654 179.998 107.334 179.998 Q105.159 179.998 102.89 179.628 Q100.645 179.257 98.2372 178.517 L98.2372 173.818 Q100.321 174.952 102.543 175.507 Q104.765 176.063 107.242 176.063 Q111.246 176.063 113.584 173.957 Q115.922 171.85 115.922 168.239 Q115.922 164.628 113.584 162.521 Q111.246 160.415 107.242 160.415 Q105.367 160.415 103.492 160.832 Q101.64 161.248 99.6956 162.128 L99.6956 144.767 Z\" fill=\"#000000\" fill-rule=\"evenodd\" fill-opacity=\"1\" /><polyline clip-path=\"url(#clip272)\" style=\"stroke:#009af9; stroke-linecap:butt; stroke-linejoin:round; stroke-width:4; stroke-opacity:1; fill:none\" points=\"\n",
       "  173.471,590.656 215.352,1019.26 251.251,260.957 287.15,543.032 323.049,275.502 364.93,495.409 400.829,430.516 436.728,314.134 472.626,341.786 514.508,369.438 \n",
       "  550.407,360.886 586.306,283.351 622.204,216.073 664.086,162.047 699.985,172.334 735.884,182.457 \n",
       "  \"/>\n",
       "<circle clip-path=\"url(#clip272)\" cx=\"173.471\" cy=\"590.656\" r=\"14\" fill=\"#009af9\" fill-rule=\"evenodd\" fill-opacity=\"1\" stroke=\"#000000\" stroke-opacity=\"1\" stroke-width=\"3.2\"/>\n",
       "<circle clip-path=\"url(#clip272)\" cx=\"215.352\" cy=\"1019.26\" r=\"14\" fill=\"#009af9\" fill-rule=\"evenodd\" fill-opacity=\"1\" stroke=\"#000000\" stroke-opacity=\"1\" stroke-width=\"3.2\"/>\n",
       "<circle clip-path=\"url(#clip272)\" cx=\"251.251\" cy=\"260.957\" r=\"14\" fill=\"#009af9\" fill-rule=\"evenodd\" fill-opacity=\"1\" stroke=\"#000000\" stroke-opacity=\"1\" stroke-width=\"3.2\"/>\n",
       "<circle clip-path=\"url(#clip272)\" cx=\"287.15\" cy=\"543.032\" r=\"14\" fill=\"#009af9\" fill-rule=\"evenodd\" fill-opacity=\"1\" stroke=\"#000000\" stroke-opacity=\"1\" stroke-width=\"3.2\"/>\n",
       "<circle clip-path=\"url(#clip272)\" cx=\"323.049\" cy=\"275.502\" r=\"14\" fill=\"#009af9\" fill-rule=\"evenodd\" fill-opacity=\"1\" stroke=\"#000000\" stroke-opacity=\"1\" stroke-width=\"3.2\"/>\n",
       "<circle clip-path=\"url(#clip272)\" cx=\"364.93\" cy=\"495.409\" r=\"14\" fill=\"#009af9\" fill-rule=\"evenodd\" fill-opacity=\"1\" stroke=\"#000000\" stroke-opacity=\"1\" stroke-width=\"3.2\"/>\n",
       "<circle clip-path=\"url(#clip272)\" cx=\"400.829\" cy=\"430.516\" r=\"14\" fill=\"#009af9\" fill-rule=\"evenodd\" fill-opacity=\"1\" stroke=\"#000000\" stroke-opacity=\"1\" stroke-width=\"3.2\"/>\n",
       "<circle clip-path=\"url(#clip272)\" cx=\"436.728\" cy=\"314.134\" r=\"14\" fill=\"#009af9\" fill-rule=\"evenodd\" fill-opacity=\"1\" stroke=\"#000000\" stroke-opacity=\"1\" stroke-width=\"3.2\"/>\n",
       "<circle clip-path=\"url(#clip272)\" cx=\"472.626\" cy=\"341.786\" r=\"14\" fill=\"#009af9\" fill-rule=\"evenodd\" fill-opacity=\"1\" stroke=\"#000000\" stroke-opacity=\"1\" stroke-width=\"3.2\"/>\n",
       "<circle clip-path=\"url(#clip272)\" cx=\"514.508\" cy=\"369.438\" r=\"14\" fill=\"#009af9\" fill-rule=\"evenodd\" fill-opacity=\"1\" stroke=\"#000000\" stroke-opacity=\"1\" stroke-width=\"3.2\"/>\n",
       "<circle clip-path=\"url(#clip272)\" cx=\"550.407\" cy=\"360.886\" r=\"14\" fill=\"#009af9\" fill-rule=\"evenodd\" fill-opacity=\"1\" stroke=\"#000000\" stroke-opacity=\"1\" stroke-width=\"3.2\"/>\n",
       "<circle clip-path=\"url(#clip272)\" cx=\"586.306\" cy=\"283.351\" r=\"14\" fill=\"#009af9\" fill-rule=\"evenodd\" fill-opacity=\"1\" stroke=\"#000000\" stroke-opacity=\"1\" stroke-width=\"3.2\"/>\n",
       "<circle clip-path=\"url(#clip272)\" cx=\"622.204\" cy=\"216.073\" r=\"14\" fill=\"#009af9\" fill-rule=\"evenodd\" fill-opacity=\"1\" stroke=\"#000000\" stroke-opacity=\"1\" stroke-width=\"3.2\"/>\n",
       "<circle clip-path=\"url(#clip272)\" cx=\"664.086\" cy=\"162.047\" r=\"14\" fill=\"#009af9\" fill-rule=\"evenodd\" fill-opacity=\"1\" stroke=\"#000000\" stroke-opacity=\"1\" stroke-width=\"3.2\"/>\n",
       "<circle clip-path=\"url(#clip272)\" cx=\"699.985\" cy=\"172.334\" r=\"14\" fill=\"#009af9\" fill-rule=\"evenodd\" fill-opacity=\"1\" stroke=\"#000000\" stroke-opacity=\"1\" stroke-width=\"3.2\"/>\n",
       "<circle clip-path=\"url(#clip272)\" cx=\"735.884\" cy=\"182.457\" r=\"14\" fill=\"#009af9\" fill-rule=\"evenodd\" fill-opacity=\"1\" stroke=\"#000000\" stroke-opacity=\"1\" stroke-width=\"3.2\"/>\n",
       "<polyline clip-path=\"url(#clip272)\" style=\"stroke:#e26f46; stroke-linecap:butt; stroke-linejoin:round; stroke-width:4; stroke-opacity:1; fill:none\" points=\"\n",
       "  173.471,1426.44 215.352,1357.64 251.251,1216.42 287.15,947.83 323.049,1048.82 364.93,704.951 400.829,419.212 436.728,980.3 472.626,668.584 514.508,1058.23 \n",
       "  550.407,827.129 586.306,547.795 622.204,345.736 664.086,804.96 699.985,1447.87 \n",
       "  \"/>\n",
       "<circle clip-path=\"url(#clip272)\" cx=\"173.471\" cy=\"1426.44\" r=\"14\" fill=\"#e26f46\" fill-rule=\"evenodd\" fill-opacity=\"1\" stroke=\"#000000\" stroke-opacity=\"1\" stroke-width=\"3.2\"/>\n",
       "<circle clip-path=\"url(#clip272)\" cx=\"215.352\" cy=\"1357.64\" r=\"14\" fill=\"#e26f46\" fill-rule=\"evenodd\" fill-opacity=\"1\" stroke=\"#000000\" stroke-opacity=\"1\" stroke-width=\"3.2\"/>\n",
       "<circle clip-path=\"url(#clip272)\" cx=\"251.251\" cy=\"1216.42\" r=\"14\" fill=\"#e26f46\" fill-rule=\"evenodd\" fill-opacity=\"1\" stroke=\"#000000\" stroke-opacity=\"1\" stroke-width=\"3.2\"/>\n",
       "<circle clip-path=\"url(#clip272)\" cx=\"287.15\" cy=\"947.83\" r=\"14\" fill=\"#e26f46\" fill-rule=\"evenodd\" fill-opacity=\"1\" stroke=\"#000000\" stroke-opacity=\"1\" stroke-width=\"3.2\"/>\n",
       "<circle clip-path=\"url(#clip272)\" cx=\"323.049\" cy=\"1048.82\" r=\"14\" fill=\"#e26f46\" fill-rule=\"evenodd\" fill-opacity=\"1\" stroke=\"#000000\" stroke-opacity=\"1\" stroke-width=\"3.2\"/>\n",
       "<circle clip-path=\"url(#clip272)\" cx=\"364.93\" cy=\"704.951\" r=\"14\" fill=\"#e26f46\" fill-rule=\"evenodd\" fill-opacity=\"1\" stroke=\"#000000\" stroke-opacity=\"1\" stroke-width=\"3.2\"/>\n",
       "<circle clip-path=\"url(#clip272)\" cx=\"400.829\" cy=\"419.212\" r=\"14\" fill=\"#e26f46\" fill-rule=\"evenodd\" fill-opacity=\"1\" stroke=\"#000000\" stroke-opacity=\"1\" stroke-width=\"3.2\"/>\n",
       "<circle clip-path=\"url(#clip272)\" cx=\"436.728\" cy=\"980.3\" r=\"14\" fill=\"#e26f46\" fill-rule=\"evenodd\" fill-opacity=\"1\" stroke=\"#000000\" stroke-opacity=\"1\" stroke-width=\"3.2\"/>\n",
       "<circle clip-path=\"url(#clip272)\" cx=\"472.626\" cy=\"668.584\" r=\"14\" fill=\"#e26f46\" fill-rule=\"evenodd\" fill-opacity=\"1\" stroke=\"#000000\" stroke-opacity=\"1\" stroke-width=\"3.2\"/>\n",
       "<circle clip-path=\"url(#clip272)\" cx=\"514.508\" cy=\"1058.23\" r=\"14\" fill=\"#e26f46\" fill-rule=\"evenodd\" fill-opacity=\"1\" stroke=\"#000000\" stroke-opacity=\"1\" stroke-width=\"3.2\"/>\n",
       "<circle clip-path=\"url(#clip272)\" cx=\"550.407\" cy=\"827.129\" r=\"14\" fill=\"#e26f46\" fill-rule=\"evenodd\" fill-opacity=\"1\" stroke=\"#000000\" stroke-opacity=\"1\" stroke-width=\"3.2\"/>\n",
       "<circle clip-path=\"url(#clip272)\" cx=\"586.306\" cy=\"547.795\" r=\"14\" fill=\"#e26f46\" fill-rule=\"evenodd\" fill-opacity=\"1\" stroke=\"#000000\" stroke-opacity=\"1\" stroke-width=\"3.2\"/>\n",
       "<circle clip-path=\"url(#clip272)\" cx=\"622.204\" cy=\"345.736\" r=\"14\" fill=\"#e26f46\" fill-rule=\"evenodd\" fill-opacity=\"1\" stroke=\"#000000\" stroke-opacity=\"1\" stroke-width=\"3.2\"/>\n",
       "<circle clip-path=\"url(#clip272)\" cx=\"664.086\" cy=\"804.96\" r=\"14\" fill=\"#e26f46\" fill-rule=\"evenodd\" fill-opacity=\"1\" stroke=\"#000000\" stroke-opacity=\"1\" stroke-width=\"3.2\"/>\n",
       "<circle clip-path=\"url(#clip272)\" cx=\"699.985\" cy=\"1447.87\" r=\"14\" fill=\"#e26f46\" fill-rule=\"evenodd\" fill-opacity=\"1\" stroke=\"#000000\" stroke-opacity=\"1\" stroke-width=\"3.2\"/>\n",
       "<path clip-path=\"url(#clip270)\" d=\"\n",
       "M485.465 1441.02 L732.884 1441.02 L732.884 1285.5 L485.465 1285.5  Z\n",
       "  \" fill=\"#ffffff\" fill-rule=\"evenodd\" fill-opacity=\"1\"/>\n",
       "<polyline clip-path=\"url(#clip270)\" style=\"stroke:#000000; stroke-linecap:butt; stroke-linejoin:round; stroke-width:4; stroke-opacity:1; fill:none\" points=\"\n",
       "  485.465,1441.02 732.884,1441.02 732.884,1285.5 485.465,1285.5 485.465,1441.02 \n",
       "  \"/>\n",
       "<polyline clip-path=\"url(#clip270)\" style=\"stroke:#009af9; stroke-linecap:butt; stroke-linejoin:round; stroke-width:4; stroke-opacity:1; fill:none\" points=\"\n",
       "  492.089,1337.34 531.832,1337.34 \n",
       "  \"/>\n",
       "<circle clip-path=\"url(#clip270)\" cx=\"511.961\" cy=\"1337.34\" r=\"23\" fill=\"#009af9\" fill-rule=\"evenodd\" fill-opacity=\"1\" stroke=\"#000000\" stroke-opacity=\"1\" stroke-width=\"5.12\"/>\n",
       "<path clip-path=\"url(#clip270)\" d=\"M538.456 1320.06 L567.692 1320.06 L567.692 1323.99 L555.424 1323.99 L555.424 1354.62 L550.725 1354.62 L550.725 1323.99 L538.456 1323.99 L538.456 1320.06 Z\" fill=\"#000000\" fill-rule=\"evenodd\" fill-opacity=\"1\" /><path clip-path=\"url(#clip270)\" d=\"M582.253 1318.64 Q579.151 1323.97 577.646 1329.18 Q576.141 1334.38 576.141 1339.73 Q576.141 1345.08 577.646 1350.33 Q579.174 1355.56 582.253 1360.87 L578.549 1360.87 Q575.077 1355.43 573.341 1350.17 Q571.628 1344.92 571.628 1339.73 Q571.628 1334.57 573.341 1329.34 Q575.053 1324.11 578.549 1318.64 L582.253 1318.64 Z\" fill=\"#000000\" fill-rule=\"evenodd\" fill-opacity=\"1\" /><path clip-path=\"url(#clip270)\" d=\"M607.854 1324.89 L607.854 1337.79 L620.748 1337.79 L620.748 1341.72 L607.854 1341.72 L607.854 1354.62 L603.965 1354.62 L603.965 1341.72 L591.072 1341.72 L591.072 1337.79 L603.965 1337.79 L603.965 1324.89 L607.854 1324.89 Z\" fill=\"#000000\" fill-rule=\"evenodd\" fill-opacity=\"1\" /><path clip-path=\"url(#clip270)\" d=\"M663.178 1338.71 L663.178 1340.8 L654.081 1349.89 L651.303 1347.12 L656.697 1341.72 L628.479 1341.72 L628.479 1337.79 L656.697 1337.79 L651.303 1332.39 L654.081 1329.62 L663.178 1338.71 Z\" fill=\"#000000\" fill-rule=\"evenodd\" fill-opacity=\"1\" /><path clip-path=\"url(#clip270)\" d=\"M687.298 1324.89 L687.298 1337.79 L700.192 1337.79 L700.192 1341.72 L687.298 1341.72 L687.298 1354.62 L683.409 1354.62 L683.409 1341.72 L670.516 1341.72 L670.516 1337.79 L683.409 1337.79 L683.409 1324.89 L687.298 1324.89 Z\" fill=\"#000000\" fill-rule=\"evenodd\" fill-opacity=\"1\" /><path clip-path=\"url(#clip270)\" d=\"M709.011 1318.64 L712.715 1318.64 Q716.187 1324.11 717.9 1329.34 Q719.636 1334.57 719.636 1339.73 Q719.636 1344.92 717.9 1350.17 Q716.187 1355.43 712.715 1360.87 L709.011 1360.87 Q712.09 1355.56 713.594 1350.33 Q715.122 1345.08 715.122 1339.73 Q715.122 1334.38 713.594 1329.18 Q712.09 1323.97 709.011 1318.64 Z\" fill=\"#000000\" fill-rule=\"evenodd\" fill-opacity=\"1\" /><polyline clip-path=\"url(#clip270)\" style=\"stroke:#e26f46; stroke-linecap:butt; stroke-linejoin:round; stroke-width:4; stroke-opacity:1; fill:none\" points=\"\n",
       "  492.089,1389.18 531.832,1389.18 \n",
       "  \"/>\n",
       "<circle clip-path=\"url(#clip270)\" cx=\"511.961\" cy=\"1389.18\" r=\"23\" fill=\"#e26f46\" fill-rule=\"evenodd\" fill-opacity=\"1\" stroke=\"#000000\" stroke-opacity=\"1\" stroke-width=\"5.12\"/>\n",
       "<path clip-path=\"url(#clip270)\" d=\"M538.456 1371.9 L567.692 1371.9 L567.692 1375.83 L555.424 1375.83 L555.424 1406.46 L550.725 1406.46 L550.725 1375.83 L538.456 1375.83 L538.456 1371.9 Z\" fill=\"#000000\" fill-rule=\"evenodd\" fill-opacity=\"1\" /><path clip-path=\"url(#clip270)\" d=\"M582.253 1370.48 Q579.151 1375.81 577.646 1381.02 Q576.141 1386.22 576.141 1391.57 Q576.141 1396.92 577.646 1402.17 Q579.174 1407.4 582.253 1412.71 L578.549 1412.71 Q575.077 1407.27 573.341 1402.01 Q571.628 1396.76 571.628 1391.57 Q571.628 1386.41 573.341 1381.18 Q575.053 1375.95 578.549 1370.48 L582.253 1370.48 Z\" fill=\"#000000\" fill-rule=\"evenodd\" fill-opacity=\"1\" /><path clip-path=\"url(#clip270)\" d=\"M591.072 1389.63 L620.748 1389.63 L620.748 1393.56 L591.072 1393.56 L591.072 1389.63 Z\" fill=\"#000000\" fill-rule=\"evenodd\" fill-opacity=\"1\" /><path clip-path=\"url(#clip270)\" d=\"M663.178 1390.55 L663.178 1392.64 L654.081 1401.73 L651.303 1398.96 L656.697 1393.56 L628.479 1393.56 L628.479 1389.63 L656.697 1389.63 L651.303 1384.23 L654.081 1381.46 L663.178 1390.55 Z\" fill=\"#000000\" fill-rule=\"evenodd\" fill-opacity=\"1\" /><path clip-path=\"url(#clip270)\" d=\"M687.298 1376.73 L687.298 1389.63 L700.192 1389.63 L700.192 1393.56 L687.298 1393.56 L687.298 1406.46 L683.409 1406.46 L683.409 1393.56 L670.516 1393.56 L670.516 1389.63 L683.409 1389.63 L683.409 1376.73 L687.298 1376.73 Z\" fill=\"#000000\" fill-rule=\"evenodd\" fill-opacity=\"1\" /><path clip-path=\"url(#clip270)\" d=\"M709.011 1370.48 L712.715 1370.48 Q716.187 1375.95 717.9 1381.18 Q719.636 1386.41 719.636 1391.57 Q719.636 1396.76 717.9 1402.01 Q716.187 1407.27 712.715 1412.71 L709.011 1412.71 Q712.09 1407.4 713.594 1402.17 Q715.122 1396.92 715.122 1391.57 Q715.122 1386.22 713.594 1381.02 Q712.09 1375.81 709.011 1370.48 Z\" fill=\"#000000\" fill-rule=\"evenodd\" fill-opacity=\"1\" /><path clip-path=\"url(#clip270)\" d=\"\n",
       "M956.598 1486.45 L1552.76 1486.45 L1552.76 123.472 L956.598 123.472  Z\n",
       "  \" fill=\"#ffffff\" fill-rule=\"evenodd\" fill-opacity=\"1\"/>\n",
       "<defs>\n",
       "  <clipPath id=\"clip273\">\n",
       "    <rect x=\"956\" y=\"123\" width=\"597\" height=\"1364\"/>\n",
       "  </clipPath>\n",
       "</defs>\n",
       "<polyline clip-path=\"url(#clip273)\" style=\"stroke:#000000; stroke-linecap:butt; stroke-linejoin:round; stroke-width:2; stroke-opacity:0.1; fill:none\" points=\"\n",
       "  973.471,1486.45 973.471,123.472 \n",
       "  \"/>\n",
       "<polyline clip-path=\"url(#clip273)\" style=\"stroke:#000000; stroke-linecap:butt; stroke-linejoin:round; stroke-width:2; stroke-opacity:0.1; fill:none\" points=\"\n",
       "  1093.13,1486.45 1093.13,123.472 \n",
       "  \"/>\n",
       "<polyline clip-path=\"url(#clip273)\" style=\"stroke:#000000; stroke-linecap:butt; stroke-linejoin:round; stroke-width:2; stroke-opacity:0.1; fill:none\" points=\"\n",
       "  1212.8,1486.45 1212.8,123.472 \n",
       "  \"/>\n",
       "<polyline clip-path=\"url(#clip273)\" style=\"stroke:#000000; stroke-linecap:butt; stroke-linejoin:round; stroke-width:2; stroke-opacity:0.1; fill:none\" points=\"\n",
       "  1332.46,1486.45 1332.46,123.472 \n",
       "  \"/>\n",
       "<polyline clip-path=\"url(#clip273)\" style=\"stroke:#000000; stroke-linecap:butt; stroke-linejoin:round; stroke-width:2; stroke-opacity:0.1; fill:none\" points=\"\n",
       "  1452.12,1486.45 1452.12,123.472 \n",
       "  \"/>\n",
       "<polyline clip-path=\"url(#clip270)\" style=\"stroke:#000000; stroke-linecap:butt; stroke-linejoin:round; stroke-width:4; stroke-opacity:1; fill:none\" points=\"\n",
       "  956.598,1486.45 1552.76,1486.45 \n",
       "  \"/>\n",
       "<polyline clip-path=\"url(#clip270)\" style=\"stroke:#000000; stroke-linecap:butt; stroke-linejoin:round; stroke-width:4; stroke-opacity:1; fill:none\" points=\"\n",
       "  973.471,1486.45 973.471,1467.55 \n",
       "  \"/>\n",
       "<polyline clip-path=\"url(#clip270)\" style=\"stroke:#000000; stroke-linecap:butt; stroke-linejoin:round; stroke-width:4; stroke-opacity:1; fill:none\" points=\"\n",
       "  1093.13,1486.45 1093.13,1467.55 \n",
       "  \"/>\n",
       "<polyline clip-path=\"url(#clip270)\" style=\"stroke:#000000; stroke-linecap:butt; stroke-linejoin:round; stroke-width:4; stroke-opacity:1; fill:none\" points=\"\n",
       "  1212.8,1486.45 1212.8,1467.55 \n",
       "  \"/>\n",
       "<polyline clip-path=\"url(#clip270)\" style=\"stroke:#000000; stroke-linecap:butt; stroke-linejoin:round; stroke-width:4; stroke-opacity:1; fill:none\" points=\"\n",
       "  1332.46,1486.45 1332.46,1467.55 \n",
       "  \"/>\n",
       "<polyline clip-path=\"url(#clip270)\" style=\"stroke:#000000; stroke-linecap:butt; stroke-linejoin:round; stroke-width:4; stroke-opacity:1; fill:none\" points=\"\n",
       "  1452.12,1486.45 1452.12,1467.55 \n",
       "  \"/>\n",
       "<path clip-path=\"url(#clip270)\" d=\"M950.855 1517.37 Q947.244 1517.37 945.415 1520.93 Q943.61 1524.47 943.61 1531.6 Q943.61 1538.71 945.415 1542.27 Q947.244 1545.82 950.855 1545.82 Q954.489 1545.82 956.295 1542.27 Q958.123 1538.71 958.123 1531.6 Q958.123 1524.47 956.295 1520.93 Q954.489 1517.37 950.855 1517.37 M950.855 1513.66 Q956.665 1513.66 959.721 1518.27 Q962.799 1522.85 962.799 1531.6 Q962.799 1540.33 959.721 1544.94 Q956.665 1549.52 950.855 1549.52 Q945.045 1549.52 941.966 1544.94 Q938.911 1540.33 938.911 1531.6 Q938.911 1522.85 941.966 1518.27 Q945.045 1513.66 950.855 1513.66 Z\" fill=\"#000000\" fill-rule=\"evenodd\" fill-opacity=\"1\" /><path clip-path=\"url(#clip270)\" d=\"M971.017 1542.97 L975.901 1542.97 L975.901 1548.85 L971.017 1548.85 L971.017 1542.97 Z\" fill=\"#000000\" fill-rule=\"evenodd\" fill-opacity=\"1\" /><path clip-path=\"url(#clip270)\" d=\"M996.086 1517.37 Q992.475 1517.37 990.646 1520.93 Q988.841 1524.47 988.841 1531.6 Q988.841 1538.71 990.646 1542.27 Q992.475 1545.82 996.086 1545.82 Q999.72 1545.82 1001.53 1542.27 Q1003.35 1538.71 1003.35 1531.6 Q1003.35 1524.47 1001.53 1520.93 Q999.72 1517.37 996.086 1517.37 M996.086 1513.66 Q1001.9 1513.66 1004.95 1518.27 Q1008.03 1522.85 1008.03 1531.6 Q1008.03 1540.33 1004.95 1544.94 Q1001.9 1549.52 996.086 1549.52 Q990.276 1549.52 987.197 1544.94 Q984.142 1540.33 984.142 1531.6 Q984.142 1522.85 987.197 1518.27 Q990.276 1513.66 996.086 1513.66 Z\" fill=\"#000000\" fill-rule=\"evenodd\" fill-opacity=\"1\" /><path clip-path=\"url(#clip270)\" d=\"M1071.32 1517.37 Q1067.7 1517.37 1065.88 1520.93 Q1064.07 1524.47 1064.07 1531.6 Q1064.07 1538.71 1065.88 1542.27 Q1067.7 1545.82 1071.32 1545.82 Q1074.95 1545.82 1076.76 1542.27 Q1078.58 1538.71 1078.58 1531.6 Q1078.58 1524.47 1076.76 1520.93 Q1074.95 1517.37 1071.32 1517.37 M1071.32 1513.66 Q1077.13 1513.66 1080.18 1518.27 Q1083.26 1522.85 1083.26 1531.6 Q1083.26 1540.33 1080.18 1544.94 Q1077.13 1549.52 1071.32 1549.52 Q1065.51 1549.52 1062.43 1544.94 Q1059.37 1540.33 1059.37 1531.6 Q1059.37 1522.85 1062.43 1518.27 Q1065.51 1513.66 1071.32 1513.66 Z\" fill=\"#000000\" fill-rule=\"evenodd\" fill-opacity=\"1\" /><path clip-path=\"url(#clip270)\" d=\"M1091.48 1542.97 L1096.36 1542.97 L1096.36 1548.85 L1091.48 1548.85 L1091.48 1542.97 Z\" fill=\"#000000\" fill-rule=\"evenodd\" fill-opacity=\"1\" /><path clip-path=\"url(#clip270)\" d=\"M1110.57 1544.91 L1126.89 1544.91 L1126.89 1548.85 L1104.95 1548.85 L1104.95 1544.91 Q1107.61 1542.16 1112.2 1537.53 Q1116.8 1532.88 1117.98 1531.53 Q1120.23 1529.01 1121.11 1527.27 Q1122.01 1525.51 1122.01 1523.82 Q1122.01 1521.07 1120.07 1519.33 Q1118.14 1517.6 1115.04 1517.6 Q1112.84 1517.6 1110.39 1518.36 Q1107.96 1519.13 1105.18 1520.68 L1105.18 1515.95 Q1108.01 1514.82 1110.46 1514.24 Q1112.91 1513.66 1114.95 1513.66 Q1120.32 1513.66 1123.51 1516.35 Q1126.71 1519.03 1126.71 1523.52 Q1126.71 1525.65 1125.9 1527.57 Q1125.11 1529.47 1123.01 1532.07 Q1122.43 1532.74 1119.32 1535.95 Q1116.22 1539.15 1110.57 1544.91 Z\" fill=\"#000000\" fill-rule=\"evenodd\" fill-opacity=\"1\" /><path clip-path=\"url(#clip270)\" d=\"M1189.94 1517.37 Q1186.33 1517.37 1184.5 1520.93 Q1182.69 1524.47 1182.69 1531.6 Q1182.69 1538.71 1184.5 1542.27 Q1186.33 1545.82 1189.94 1545.82 Q1193.57 1545.82 1195.38 1542.27 Q1197.21 1538.71 1197.21 1531.6 Q1197.21 1524.47 1195.38 1520.93 Q1193.57 1517.37 1189.94 1517.37 M1189.94 1513.66 Q1195.75 1513.66 1198.8 1518.27 Q1201.88 1522.85 1201.88 1531.6 Q1201.88 1540.33 1198.8 1544.94 Q1195.75 1549.52 1189.94 1549.52 Q1184.13 1549.52 1181.05 1544.94 Q1177.99 1540.33 1177.99 1531.6 Q1177.99 1522.85 1181.05 1518.27 Q1184.13 1513.66 1189.94 1513.66 Z\" fill=\"#000000\" fill-rule=\"evenodd\" fill-opacity=\"1\" /><path clip-path=\"url(#clip270)\" d=\"M1210.1 1542.97 L1214.98 1542.97 L1214.98 1548.85 L1210.1 1548.85 L1210.1 1542.97 Z\" fill=\"#000000\" fill-rule=\"evenodd\" fill-opacity=\"1\" /><path clip-path=\"url(#clip270)\" d=\"M1238.02 1518.36 L1226.21 1536.81 L1238.02 1536.81 L1238.02 1518.36 M1236.79 1514.29 L1242.67 1514.29 L1242.67 1536.81 L1247.6 1536.81 L1247.6 1540.7 L1242.67 1540.7 L1242.67 1548.85 L1238.02 1548.85 L1238.02 1540.7 L1222.41 1540.7 L1222.41 1536.19 L1236.79 1514.29 Z\" fill=\"#000000\" fill-rule=\"evenodd\" fill-opacity=\"1\" /><path clip-path=\"url(#clip270)\" d=\"M1309.76 1517.37 Q1306.15 1517.37 1304.32 1520.93 Q1302.52 1524.47 1302.52 1531.6 Q1302.52 1538.71 1304.32 1542.27 Q1306.15 1545.82 1309.76 1545.82 Q1313.4 1545.82 1315.2 1542.27 Q1317.03 1538.71 1317.03 1531.6 Q1317.03 1524.47 1315.2 1520.93 Q1313.4 1517.37 1309.76 1517.37 M1309.76 1513.66 Q1315.57 1513.66 1318.63 1518.27 Q1321.71 1522.85 1321.71 1531.6 Q1321.71 1540.33 1318.63 1544.94 Q1315.57 1549.52 1309.76 1549.52 Q1303.95 1549.52 1300.87 1544.94 Q1297.82 1540.33 1297.82 1531.6 Q1297.82 1522.85 1300.87 1518.27 Q1303.95 1513.66 1309.76 1513.66 Z\" fill=\"#000000\" fill-rule=\"evenodd\" fill-opacity=\"1\" /><path clip-path=\"url(#clip270)\" d=\"M1329.92 1542.97 L1334.81 1542.97 L1334.81 1548.85 L1329.92 1548.85 L1329.92 1542.97 Z\" fill=\"#000000\" fill-rule=\"evenodd\" fill-opacity=\"1\" /><path clip-path=\"url(#clip270)\" d=\"M1355.57 1529.7 Q1352.42 1529.7 1350.57 1531.86 Q1348.74 1534.01 1348.74 1537.76 Q1348.74 1541.49 1350.57 1543.66 Q1352.42 1545.82 1355.57 1545.82 Q1358.72 1545.82 1360.55 1543.66 Q1362.4 1541.49 1362.4 1537.76 Q1362.4 1534.01 1360.55 1531.86 Q1358.72 1529.7 1355.57 1529.7 M1364.85 1515.05 L1364.85 1519.31 Q1363.09 1518.48 1361.29 1518.04 Q1359.51 1517.6 1357.75 1517.6 Q1353.12 1517.6 1350.66 1520.72 Q1348.23 1523.85 1347.89 1530.17 Q1349.25 1528.15 1351.31 1527.09 Q1353.37 1526 1355.85 1526 Q1361.06 1526 1364.07 1529.17 Q1367.1 1532.32 1367.1 1537.76 Q1367.1 1543.08 1363.95 1546.3 Q1360.8 1549.52 1355.57 1549.52 Q1349.58 1549.52 1346.4 1544.94 Q1343.23 1540.33 1343.23 1531.6 Q1343.23 1523.41 1347.12 1518.55 Q1351.01 1513.66 1357.56 1513.66 Q1359.32 1513.66 1361.1 1514.01 Q1362.91 1514.36 1364.85 1515.05 Z\" fill=\"#000000\" fill-rule=\"evenodd\" fill-opacity=\"1\" /><path clip-path=\"url(#clip270)\" d=\"M1429.55 1517.37 Q1425.94 1517.37 1424.11 1520.93 Q1422.31 1524.47 1422.31 1531.6 Q1422.31 1538.71 1424.11 1542.27 Q1425.94 1545.82 1429.55 1545.82 Q1433.18 1545.82 1434.99 1542.27 Q1436.82 1538.71 1436.82 1531.6 Q1436.82 1524.47 1434.99 1520.93 Q1433.18 1517.37 1429.55 1517.37 M1429.55 1513.66 Q1435.36 1513.66 1438.42 1518.27 Q1441.49 1522.85 1441.49 1531.6 Q1441.49 1540.33 1438.42 1544.94 Q1435.36 1549.52 1429.55 1549.52 Q1423.74 1549.52 1420.66 1544.94 Q1417.61 1540.33 1417.61 1531.6 Q1417.61 1522.85 1420.66 1518.27 Q1423.74 1513.66 1429.55 1513.66 Z\" fill=\"#000000\" fill-rule=\"evenodd\" fill-opacity=\"1\" /><path clip-path=\"url(#clip270)\" d=\"M1449.71 1542.97 L1454.6 1542.97 L1454.6 1548.85 L1449.71 1548.85 L1449.71 1542.97 Z\" fill=\"#000000\" fill-rule=\"evenodd\" fill-opacity=\"1\" /><path clip-path=\"url(#clip270)\" d=\"M1474.78 1532.44 Q1471.45 1532.44 1469.53 1534.22 Q1467.63 1536 1467.63 1539.13 Q1467.63 1542.25 1469.53 1544.03 Q1471.45 1545.82 1474.78 1545.82 Q1478.12 1545.82 1480.04 1544.03 Q1481.96 1542.23 1481.96 1539.13 Q1481.96 1536 1480.04 1534.22 Q1478.14 1532.44 1474.78 1532.44 M1470.11 1530.45 Q1467.1 1529.7 1465.41 1527.64 Q1463.74 1525.58 1463.74 1522.62 Q1463.74 1518.48 1466.68 1516.07 Q1469.64 1513.66 1474.78 1513.66 Q1479.94 1513.66 1482.88 1516.07 Q1485.82 1518.48 1485.82 1522.62 Q1485.82 1525.58 1484.13 1527.64 Q1482.47 1529.7 1479.48 1530.45 Q1482.86 1531.23 1484.74 1533.52 Q1486.63 1535.82 1486.63 1539.13 Q1486.63 1544.15 1483.55 1546.83 Q1480.5 1549.52 1474.78 1549.52 Q1469.06 1549.52 1465.99 1546.83 Q1462.93 1544.15 1462.93 1539.13 Q1462.93 1535.82 1464.83 1533.52 Q1466.73 1531.23 1470.11 1530.45 M1468.39 1523.06 Q1468.39 1525.75 1470.06 1527.25 Q1471.75 1528.76 1474.78 1528.76 Q1477.79 1528.76 1479.48 1527.25 Q1481.19 1525.75 1481.19 1523.06 Q1481.19 1520.38 1479.48 1518.87 Q1477.79 1517.37 1474.78 1517.37 Q1471.75 1517.37 1470.06 1518.87 Q1468.39 1520.38 1468.39 1523.06 Z\" fill=\"#000000\" fill-rule=\"evenodd\" fill-opacity=\"1\" /><polyline clip-path=\"url(#clip273)\" style=\"stroke:#000000; stroke-linecap:butt; stroke-linejoin:round; stroke-width:2; stroke-opacity:0.1; fill:none\" points=\"\n",
       "  956.598,1447.87 1552.76,1447.87 \n",
       "  \"/>\n",
       "<polyline clip-path=\"url(#clip273)\" style=\"stroke:#000000; stroke-linecap:butt; stroke-linejoin:round; stroke-width:2; stroke-opacity:0.1; fill:none\" points=\"\n",
       "  956.598,1255 1552.76,1255 \n",
       "  \"/>\n",
       "<polyline clip-path=\"url(#clip273)\" style=\"stroke:#000000; stroke-linecap:butt; stroke-linejoin:round; stroke-width:2; stroke-opacity:0.1; fill:none\" points=\"\n",
       "  956.598,1062.13 1552.76,1062.13 \n",
       "  \"/>\n",
       "<polyline clip-path=\"url(#clip273)\" style=\"stroke:#000000; stroke-linecap:butt; stroke-linejoin:round; stroke-width:2; stroke-opacity:0.1; fill:none\" points=\"\n",
       "  956.598,869.251 1552.76,869.251 \n",
       "  \"/>\n",
       "<polyline clip-path=\"url(#clip273)\" style=\"stroke:#000000; stroke-linecap:butt; stroke-linejoin:round; stroke-width:2; stroke-opacity:0.1; fill:none\" points=\"\n",
       "  956.598,676.377 1552.76,676.377 \n",
       "  \"/>\n",
       "<polyline clip-path=\"url(#clip273)\" style=\"stroke:#000000; stroke-linecap:butt; stroke-linejoin:round; stroke-width:2; stroke-opacity:0.1; fill:none\" points=\"\n",
       "  956.598,483.503 1552.76,483.503 \n",
       "  \"/>\n",
       "<polyline clip-path=\"url(#clip273)\" style=\"stroke:#000000; stroke-linecap:butt; stroke-linejoin:round; stroke-width:2; stroke-opacity:0.1; fill:none\" points=\"\n",
       "  956.598,290.63 1552.76,290.63 \n",
       "  \"/>\n",
       "<polyline clip-path=\"url(#clip270)\" style=\"stroke:#000000; stroke-linecap:butt; stroke-linejoin:round; stroke-width:4; stroke-opacity:1; fill:none\" points=\"\n",
       "  956.598,1486.45 956.598,123.472 \n",
       "  \"/>\n",
       "<polyline clip-path=\"url(#clip270)\" style=\"stroke:#000000; stroke-linecap:butt; stroke-linejoin:round; stroke-width:4; stroke-opacity:1; fill:none\" points=\"\n",
       "  956.598,1447.87 975.496,1447.87 \n",
       "  \"/>\n",
       "<polyline clip-path=\"url(#clip270)\" style=\"stroke:#000000; stroke-linecap:butt; stroke-linejoin:round; stroke-width:4; stroke-opacity:1; fill:none\" points=\"\n",
       "  956.598,1255 975.496,1255 \n",
       "  \"/>\n",
       "<polyline clip-path=\"url(#clip270)\" style=\"stroke:#000000; stroke-linecap:butt; stroke-linejoin:round; stroke-width:4; stroke-opacity:1; fill:none\" points=\"\n",
       "  956.598,1062.13 975.496,1062.13 \n",
       "  \"/>\n",
       "<polyline clip-path=\"url(#clip270)\" style=\"stroke:#000000; stroke-linecap:butt; stroke-linejoin:round; stroke-width:4; stroke-opacity:1; fill:none\" points=\"\n",
       "  956.598,869.251 975.496,869.251 \n",
       "  \"/>\n",
       "<polyline clip-path=\"url(#clip270)\" style=\"stroke:#000000; stroke-linecap:butt; stroke-linejoin:round; stroke-width:4; stroke-opacity:1; fill:none\" points=\"\n",
       "  956.598,676.377 975.496,676.377 \n",
       "  \"/>\n",
       "<polyline clip-path=\"url(#clip270)\" style=\"stroke:#000000; stroke-linecap:butt; stroke-linejoin:round; stroke-width:4; stroke-opacity:1; fill:none\" points=\"\n",
       "  956.598,483.503 975.496,483.503 \n",
       "  \"/>\n",
       "<polyline clip-path=\"url(#clip270)\" style=\"stroke:#000000; stroke-linecap:butt; stroke-linejoin:round; stroke-width:4; stroke-opacity:1; fill:none\" points=\"\n",
       "  956.598,290.63 975.496,290.63 \n",
       "  \"/>\n",
       "<path clip-path=\"url(#clip270)\" d=\"M863.423 1433.67 Q859.812 1433.67 857.983 1437.24 Q856.177 1440.78 856.177 1447.91 Q856.177 1455.01 857.983 1458.58 Q859.812 1462.12 863.423 1462.12 Q867.057 1462.12 868.862 1458.58 Q870.691 1455.01 870.691 1447.91 Q870.691 1440.78 868.862 1437.24 Q867.057 1433.67 863.423 1433.67 M863.423 1429.97 Q869.233 1429.97 872.288 1434.57 Q875.367 1439.16 875.367 1447.91 Q875.367 1456.63 872.288 1461.24 Q869.233 1465.82 863.423 1465.82 Q857.612 1465.82 854.534 1461.24 Q851.478 1456.63 851.478 1447.91 Q851.478 1439.16 854.534 1434.57 Q857.612 1429.97 863.423 1429.97 Z\" fill=\"#000000\" fill-rule=\"evenodd\" fill-opacity=\"1\" /><path clip-path=\"url(#clip270)\" d=\"M883.585 1459.27 L888.469 1459.27 L888.469 1465.15 L883.585 1465.15 L883.585 1459.27 Z\" fill=\"#000000\" fill-rule=\"evenodd\" fill-opacity=\"1\" /><path clip-path=\"url(#clip270)\" d=\"M908.654 1433.67 Q905.043 1433.67 903.214 1437.24 Q901.409 1440.78 901.409 1447.91 Q901.409 1455.01 903.214 1458.58 Q905.043 1462.12 908.654 1462.12 Q912.288 1462.12 914.094 1458.58 Q915.922 1455.01 915.922 1447.91 Q915.922 1440.78 914.094 1437.24 Q912.288 1433.67 908.654 1433.67 M908.654 1429.97 Q914.464 1429.97 917.52 1434.57 Q920.598 1439.16 920.598 1447.91 Q920.598 1456.63 917.52 1461.24 Q914.464 1465.82 908.654 1465.82 Q902.844 1465.82 899.765 1461.24 Q896.709 1456.63 896.709 1447.91 Q896.709 1439.16 899.765 1434.57 Q902.844 1429.97 908.654 1429.97 Z\" fill=\"#000000\" fill-rule=\"evenodd\" fill-opacity=\"1\" /><path clip-path=\"url(#clip270)\" d=\"M864.649 1240.8 Q861.038 1240.8 859.21 1244.36 Q857.404 1247.9 857.404 1255.03 Q857.404 1262.14 859.21 1265.71 Q861.038 1269.25 864.649 1269.25 Q868.284 1269.25 870.089 1265.71 Q871.918 1262.14 871.918 1255.03 Q871.918 1247.9 870.089 1244.36 Q868.284 1240.8 864.649 1240.8 M864.649 1237.09 Q870.46 1237.09 873.515 1241.7 Q876.594 1246.28 876.594 1255.03 Q876.594 1263.76 873.515 1268.37 Q870.46 1272.95 864.649 1272.95 Q858.839 1272.95 855.761 1268.37 Q852.705 1263.76 852.705 1255.03 Q852.705 1246.28 855.761 1241.7 Q858.839 1237.09 864.649 1237.09 Z\" fill=\"#000000\" fill-rule=\"evenodd\" fill-opacity=\"1\" /><path clip-path=\"url(#clip270)\" d=\"M884.811 1266.4 L889.696 1266.4 L889.696 1272.28 L884.811 1272.28 L884.811 1266.4 Z\" fill=\"#000000\" fill-rule=\"evenodd\" fill-opacity=\"1\" /><path clip-path=\"url(#clip270)\" d=\"M900.691 1268.34 L908.33 1268.34 L908.33 1241.98 L900.02 1243.65 L900.02 1239.39 L908.283 1237.72 L912.959 1237.72 L912.959 1268.34 L920.598 1268.34 L920.598 1272.28 L900.691 1272.28 L900.691 1268.34 Z\" fill=\"#000000\" fill-rule=\"evenodd\" fill-opacity=\"1\" /><path clip-path=\"url(#clip270)\" d=\"M865.02 1047.92 Q861.409 1047.92 859.58 1051.49 Q857.774 1055.03 857.774 1062.16 Q857.774 1069.27 859.58 1072.83 Q861.409 1076.37 865.02 1076.37 Q868.654 1076.37 870.46 1072.83 Q872.288 1069.27 872.288 1062.16 Q872.288 1055.03 870.46 1051.49 Q868.654 1047.92 865.02 1047.92 M865.02 1044.22 Q870.83 1044.22 873.886 1048.83 Q876.964 1053.41 876.964 1062.16 Q876.964 1070.89 873.886 1075.49 Q870.83 1080.08 865.02 1080.08 Q859.21 1080.08 856.131 1075.49 Q853.075 1070.89 853.075 1062.16 Q853.075 1053.41 856.131 1048.83 Q859.21 1044.22 865.02 1044.22 Z\" fill=\"#000000\" fill-rule=\"evenodd\" fill-opacity=\"1\" /><path clip-path=\"url(#clip270)\" d=\"M885.182 1073.53 L890.066 1073.53 L890.066 1079.41 L885.182 1079.41 L885.182 1073.53 Z\" fill=\"#000000\" fill-rule=\"evenodd\" fill-opacity=\"1\" /><path clip-path=\"url(#clip270)\" d=\"M904.279 1075.47 L920.598 1075.47 L920.598 1079.41 L898.654 1079.41 L898.654 1075.47 Q901.316 1072.72 905.899 1068.09 Q910.506 1063.43 911.686 1062.09 Q913.932 1059.57 914.811 1057.83 Q915.714 1056.07 915.714 1054.38 Q915.714 1051.63 913.77 1049.89 Q911.848 1048.16 908.746 1048.16 Q906.547 1048.16 904.094 1048.92 Q901.663 1049.68 898.885 1051.23 L898.885 1046.51 Q901.709 1045.38 904.163 1044.8 Q906.617 1044.22 908.654 1044.22 Q914.024 1044.22 917.219 1046.91 Q920.413 1049.59 920.413 1054.08 Q920.413 1056.21 919.603 1058.13 Q918.816 1060.03 916.709 1062.62 Q916.131 1063.29 913.029 1066.51 Q909.927 1069.71 904.279 1075.47 Z\" fill=\"#000000\" fill-rule=\"evenodd\" fill-opacity=\"1\" /><path clip-path=\"url(#clip270)\" d=\"M864.071 855.05 Q860.46 855.05 858.631 858.615 Q856.825 862.156 856.825 869.286 Q856.825 876.392 858.631 879.957 Q860.46 883.499 864.071 883.499 Q867.705 883.499 869.511 879.957 Q871.339 876.392 871.339 869.286 Q871.339 862.156 869.511 858.615 Q867.705 855.05 864.071 855.05 M864.071 851.346 Q869.881 851.346 872.936 855.953 Q876.015 860.536 876.015 869.286 Q876.015 878.013 872.936 882.619 Q869.881 887.203 864.071 887.203 Q858.261 887.203 855.182 882.619 Q852.126 878.013 852.126 869.286 Q852.126 860.536 855.182 855.953 Q858.261 851.346 864.071 851.346 Z\" fill=\"#000000\" fill-rule=\"evenodd\" fill-opacity=\"1\" /><path clip-path=\"url(#clip270)\" d=\"M884.233 880.652 L889.117 880.652 L889.117 886.531 L884.233 886.531 L884.233 880.652 Z\" fill=\"#000000\" fill-rule=\"evenodd\" fill-opacity=\"1\" /><path clip-path=\"url(#clip270)\" d=\"M913.469 867.897 Q916.825 868.615 918.7 870.883 Q920.598 873.152 920.598 876.485 Q920.598 881.601 917.08 884.402 Q913.561 887.203 907.08 887.203 Q904.904 887.203 902.589 886.763 Q900.297 886.346 897.844 885.49 L897.844 880.976 Q899.788 882.11 902.103 882.689 Q904.418 883.267 906.941 883.267 Q911.339 883.267 913.631 881.531 Q915.945 879.795 915.945 876.485 Q915.945 873.43 913.793 871.717 Q911.663 869.98 907.844 869.98 L903.816 869.98 L903.816 866.138 L908.029 866.138 Q911.478 866.138 913.307 864.772 Q915.135 863.383 915.135 860.791 Q915.135 858.129 913.237 856.717 Q911.362 855.281 907.844 855.281 Q905.922 855.281 903.723 855.698 Q901.524 856.115 898.885 856.994 L898.885 852.828 Q901.547 852.087 903.862 851.717 Q906.2 851.346 908.26 851.346 Q913.584 851.346 916.686 853.777 Q919.788 856.184 919.788 860.305 Q919.788 863.175 918.145 865.166 Q916.501 867.133 913.469 867.897 Z\" fill=\"#000000\" fill-rule=\"evenodd\" fill-opacity=\"1\" /><path clip-path=\"url(#clip270)\" d=\"M862.937 662.176 Q859.325 662.176 857.497 665.741 Q855.691 669.283 855.691 676.412 Q855.691 683.519 857.497 687.083 Q859.325 690.625 862.937 690.625 Q866.571 690.625 868.376 687.083 Q870.205 683.519 870.205 676.412 Q870.205 669.283 868.376 665.741 Q866.571 662.176 862.937 662.176 M862.937 658.472 Q868.747 658.472 871.802 663.079 Q874.881 667.662 874.881 676.412 Q874.881 685.139 871.802 689.745 Q868.747 694.329 862.937 694.329 Q857.126 694.329 854.048 689.745 Q850.992 685.139 850.992 676.412 Q850.992 667.662 854.048 663.079 Q857.126 658.472 862.937 658.472 Z\" fill=\"#000000\" fill-rule=\"evenodd\" fill-opacity=\"1\" /><path clip-path=\"url(#clip270)\" d=\"M883.098 687.778 L887.983 687.778 L887.983 693.657 L883.098 693.657 L883.098 687.778 Z\" fill=\"#000000\" fill-rule=\"evenodd\" fill-opacity=\"1\" /><path clip-path=\"url(#clip270)\" d=\"M911.015 663.171 L899.209 681.62 L911.015 681.62 L911.015 663.171 M909.788 659.097 L915.668 659.097 L915.668 681.62 L920.598 681.62 L920.598 685.509 L915.668 685.509 L915.668 693.657 L911.015 693.657 L911.015 685.509 L895.413 685.509 L895.413 680.995 L909.788 659.097 Z\" fill=\"#000000\" fill-rule=\"evenodd\" fill-opacity=\"1\" /><path clip-path=\"url(#clip270)\" d=\"M864.418 469.302 Q860.807 469.302 858.978 472.867 Q857.173 476.409 857.173 483.538 Q857.173 490.645 858.978 494.209 Q860.807 497.751 864.418 497.751 Q868.052 497.751 869.858 494.209 Q871.686 490.645 871.686 483.538 Q871.686 476.409 869.858 472.867 Q868.052 469.302 864.418 469.302 M864.418 465.598 Q870.228 465.598 873.284 470.205 Q876.362 474.788 876.362 483.538 Q876.362 492.265 873.284 496.871 Q870.228 501.455 864.418 501.455 Q858.608 501.455 855.529 496.871 Q852.474 492.265 852.474 483.538 Q852.474 474.788 855.529 470.205 Q858.608 465.598 864.418 465.598 Z\" fill=\"#000000\" fill-rule=\"evenodd\" fill-opacity=\"1\" /><path clip-path=\"url(#clip270)\" d=\"M884.58 494.904 L889.464 494.904 L889.464 500.783 L884.58 500.783 L884.58 494.904 Z\" fill=\"#000000\" fill-rule=\"evenodd\" fill-opacity=\"1\" /><path clip-path=\"url(#clip270)\" d=\"M899.696 466.223 L918.052 466.223 L918.052 470.159 L903.978 470.159 L903.978 478.631 Q904.996 478.284 906.015 478.122 Q907.033 477.936 908.052 477.936 Q913.839 477.936 917.219 481.108 Q920.598 484.279 920.598 489.696 Q920.598 495.274 917.126 498.376 Q913.654 501.455 907.334 501.455 Q905.159 501.455 902.89 501.084 Q900.645 500.714 898.237 499.973 L898.237 495.274 Q900.321 496.408 902.543 496.964 Q904.765 497.52 907.242 497.52 Q911.246 497.52 913.584 495.413 Q915.922 493.307 915.922 489.696 Q915.922 486.084 913.584 483.978 Q911.246 481.872 907.242 481.872 Q905.367 481.872 903.492 482.288 Q901.64 482.705 899.696 483.584 L899.696 466.223 Z\" fill=\"#000000\" fill-rule=\"evenodd\" fill-opacity=\"1\" /><path clip-path=\"url(#clip270)\" d=\"M863.261 276.428 Q859.649 276.428 857.821 279.993 Q856.015 283.535 856.015 290.664 Q856.015 297.771 857.821 301.335 Q859.649 304.877 863.261 304.877 Q866.895 304.877 868.7 301.335 Q870.529 297.771 870.529 290.664 Q870.529 283.535 868.7 279.993 Q866.895 276.428 863.261 276.428 M863.261 272.725 Q869.071 272.725 872.126 277.331 Q875.205 281.914 875.205 290.664 Q875.205 299.391 872.126 303.998 Q869.071 308.581 863.261 308.581 Q857.45 308.581 854.372 303.998 Q851.316 299.391 851.316 290.664 Q851.316 281.914 854.372 277.331 Q857.45 272.725 863.261 272.725 Z\" fill=\"#000000\" fill-rule=\"evenodd\" fill-opacity=\"1\" /><path clip-path=\"url(#clip270)\" d=\"M883.423 302.03 L888.307 302.03 L888.307 307.91 L883.423 307.91 L883.423 302.03 Z\" fill=\"#000000\" fill-rule=\"evenodd\" fill-opacity=\"1\" /><path clip-path=\"url(#clip270)\" d=\"M909.071 288.766 Q905.922 288.766 904.071 290.919 Q902.242 293.072 902.242 296.822 Q902.242 300.548 904.071 302.724 Q905.922 304.877 909.071 304.877 Q912.219 304.877 914.047 302.724 Q915.899 300.548 915.899 296.822 Q915.899 293.072 914.047 290.919 Q912.219 288.766 909.071 288.766 M918.353 274.113 L918.353 278.373 Q916.594 277.539 914.788 277.1 Q913.006 276.66 911.246 276.66 Q906.617 276.66 904.163 279.785 Q901.733 282.91 901.385 289.229 Q902.751 287.215 904.811 286.15 Q906.871 285.062 909.348 285.062 Q914.557 285.062 917.566 288.234 Q920.598 291.382 920.598 296.822 Q920.598 302.146 917.45 305.363 Q914.302 308.581 909.071 308.581 Q903.075 308.581 899.904 303.998 Q896.733 299.391 896.733 290.664 Q896.733 282.47 900.621 277.609 Q904.51 272.725 911.061 272.725 Q912.82 272.725 914.603 273.072 Q916.408 273.419 918.353 274.113 Z\" fill=\"#000000\" fill-rule=\"evenodd\" fill-opacity=\"1\" /><path clip-path=\"url(#clip270)\" d=\"M948.874 12.096 L957.057 12.096 L957.057 72.576 L948.874 72.576 L948.874 12.096 Z\" fill=\"#000000\" fill-rule=\"evenodd\" fill-opacity=\"1\" /><path clip-path=\"url(#clip270)\" d=\"M1010.73 45.1919 L1010.73 72.576 L1003.28 72.576 L1003.28 45.4349 Q1003.28 38.994 1000.77 35.7938 Q998.255 32.5936 993.232 32.5936 Q987.196 32.5936 983.712 36.4419 Q980.228 40.2903 980.228 46.9338 L980.228 72.576 L972.734 72.576 L972.734 27.2059 L980.228 27.2059 L980.228 34.2544 Q982.902 30.163 986.507 28.1376 Q990.153 26.1121 994.893 26.1121 Q1002.71 26.1121 1006.72 30.9732 Q1010.73 35.7938 1010.73 45.1919 Z\" fill=\"#000000\" fill-rule=\"evenodd\" fill-opacity=\"1\" /><path clip-path=\"url(#clip270)\" d=\"M1058.25 28.9478 L1058.25 35.9153 Q1055.09 34.1734 1051.89 33.3227 Q1048.73 32.4315 1045.49 32.4315 Q1038.24 32.4315 1034.23 37.0496 Q1030.22 41.6271 1030.22 49.9314 Q1030.22 58.2358 1034.23 62.8538 Q1038.24 67.4314 1045.49 67.4314 Q1048.73 67.4314 1051.89 66.5807 Q1055.09 65.6895 1058.25 63.9476 L1058.25 70.8341 Q1055.13 72.2924 1051.77 73.0216 Q1048.45 73.7508 1044.68 73.7508 Q1034.43 73.7508 1028.39 67.3098 Q1022.36 60.8689 1022.36 49.9314 Q1022.36 38.832 1028.43 32.472 Q1034.55 26.1121 1045.16 26.1121 Q1048.61 26.1121 1051.89 26.8413 Q1055.17 27.5299 1058.25 28.9478 Z\" fill=\"#000000\" fill-rule=\"evenodd\" fill-opacity=\"1\" /><path clip-path=\"url(#clip270)\" d=\"M1071.21 9.54393 L1078.67 9.54393 L1078.67 72.576 L1071.21 72.576 L1071.21 9.54393 Z\" fill=\"#000000\" fill-rule=\"evenodd\" fill-opacity=\"1\" /><path clip-path=\"url(#clip270)\" d=\"M1093.49 54.671 L1093.49 27.2059 L1100.95 27.2059 L1100.95 54.3874 Q1100.95 60.8284 1103.46 64.0691 Q1105.97 67.2693 1110.99 67.2693 Q1117.03 67.2693 1120.51 63.421 Q1124.04 59.5726 1124.04 52.9291 L1124.04 27.2059 L1131.49 27.2059 L1131.49 72.576 L1124.04 72.576 L1124.04 65.6084 Q1121.32 69.7404 1117.72 71.7658 Q1114.15 73.7508 1109.41 73.7508 Q1101.59 73.7508 1097.54 68.8897 Q1093.49 64.0286 1093.49 54.671 M1112.25 26.1121 L1112.25 26.1121 Z\" fill=\"#000000\" fill-rule=\"evenodd\" fill-opacity=\"1\" /><path clip-path=\"url(#clip270)\" d=\"M1176.7 34.0924 L1176.7 9.54393 L1184.15 9.54393 L1184.15 72.576 L1176.7 72.576 L1176.7 65.7705 Q1174.35 69.8214 1170.74 71.8063 Q1167.18 73.7508 1162.15 73.7508 Q1153.93 73.7508 1148.75 67.1883 Q1143.6 60.6258 1143.6 49.9314 Q1143.6 39.2371 1148.75 32.6746 Q1153.93 26.1121 1162.15 26.1121 Q1167.18 26.1121 1170.74 28.0971 Q1174.35 30.0415 1176.7 34.0924 M1151.3 49.9314 Q1151.3 58.1548 1154.66 62.8538 Q1158.06 67.5124 1163.98 67.5124 Q1169.89 67.5124 1173.29 62.8538 Q1176.7 58.1548 1176.7 49.9314 Q1176.7 41.7081 1173.29 37.0496 Q1169.89 32.3505 1163.98 32.3505 Q1158.06 32.3505 1154.66 37.0496 Q1151.3 41.7081 1151.3 49.9314 Z\" fill=\"#000000\" fill-rule=\"evenodd\" fill-opacity=\"1\" /><path clip-path=\"url(#clip270)\" d=\"M1199.5 27.2059 L1206.96 27.2059 L1206.96 72.576 L1199.5 72.576 L1199.5 27.2059 M1199.5 9.54393 L1206.96 9.54393 L1206.96 18.9825 L1199.5 18.9825 L1199.5 9.54393 Z\" fill=\"#000000\" fill-rule=\"evenodd\" fill-opacity=\"1\" /><path clip-path=\"url(#clip270)\" d=\"M1260.27 45.1919 L1260.27 72.576 L1252.81 72.576 L1252.81 45.4349 Q1252.81 38.994 1250.3 35.7938 Q1247.79 32.5936 1242.77 32.5936 Q1236.73 32.5936 1233.25 36.4419 Q1229.76 40.2903 1229.76 46.9338 L1229.76 72.576 L1222.27 72.576 L1222.27 27.2059 L1229.76 27.2059 L1229.76 34.2544 Q1232.44 30.163 1236.04 28.1376 Q1239.69 26.1121 1244.43 26.1121 Q1252.25 26.1121 1256.26 30.9732 Q1260.27 35.7938 1260.27 45.1919 Z\" fill=\"#000000\" fill-rule=\"evenodd\" fill-opacity=\"1\" /><path clip-path=\"url(#clip270)\" d=\"M1304.99 49.3643 Q1304.99 41.2625 1301.63 36.8065 Q1298.31 32.3505 1292.27 32.3505 Q1286.27 32.3505 1282.91 36.8065 Q1279.59 41.2625 1279.59 49.3643 Q1279.59 57.4256 1282.91 61.8816 Q1286.27 66.3376 1292.27 66.3376 Q1298.31 66.3376 1301.63 61.8816 Q1304.99 57.4256 1304.99 49.3643 M1312.44 66.9452 Q1312.44 78.5308 1307.3 84.1616 Q1302.15 89.8329 1291.54 89.8329 Q1287.61 89.8329 1284.13 89.2252 Q1280.64 88.6581 1277.36 87.4428 L1277.36 80.1917 Q1280.64 81.9741 1283.84 82.8248 Q1287.04 83.6755 1290.37 83.6755 Q1297.7 83.6755 1301.34 79.8271 Q1304.99 76.0193 1304.99 68.282 L1304.99 64.5957 Q1302.68 68.6061 1299.07 70.5911 Q1295.47 72.576 1290.45 72.576 Q1282.1 72.576 1277 66.2161 Q1271.89 59.8562 1271.89 49.3643 Q1271.89 38.832 1277 32.472 Q1282.1 26.1121 1290.45 26.1121 Q1295.47 26.1121 1299.07 28.0971 Q1302.68 30.082 1304.99 34.0924 L1304.99 27.2059 L1312.44 27.2059 L1312.44 66.9452 Z\" fill=\"#000000\" fill-rule=\"evenodd\" fill-opacity=\"1\" /><path clip-path=\"url(#clip270)\" d=\"M1354.49 12.096 L1365.51 12.096 L1392.33 62.6918 L1392.33 12.096 L1400.27 12.096 L1400.27 72.576 L1389.25 72.576 L1362.43 21.9802 L1362.43 72.576 L1354.49 72.576 L1354.49 12.096 Z\" fill=\"#000000\" fill-rule=\"evenodd\" fill-opacity=\"1\" /><path clip-path=\"url(#clip270)\" d=\"M1436.85 49.7694 Q1427.81 49.7694 1424.33 51.8354 Q1420.85 53.9013 1420.85 58.8839 Q1420.85 62.8538 1423.44 65.2034 Q1426.07 67.5124 1430.57 67.5124 Q1436.77 67.5124 1440.49 63.1374 Q1444.26 58.7219 1444.26 51.4303 L1444.26 49.7694 L1436.85 49.7694 M1451.71 46.6907 L1451.71 72.576 L1444.26 72.576 L1444.26 65.6895 Q1441.71 69.8214 1437.9 71.8063 Q1434.09 73.7508 1428.58 73.7508 Q1421.61 73.7508 1417.48 69.8619 Q1413.39 65.9325 1413.39 59.3701 Q1413.39 51.7138 1418.5 47.825 Q1423.64 43.9361 1433.81 43.9361 L1444.26 43.9361 L1444.26 43.2069 Q1444.26 38.0623 1440.86 35.2672 Q1437.49 32.4315 1431.38 32.4315 Q1427.49 32.4315 1423.8 33.3632 Q1420.12 34.295 1416.71 36.1584 L1416.71 29.2718 Q1420.8 27.692 1424.65 26.9223 Q1428.5 26.1121 1432.15 26.1121 Q1441.99 26.1121 1446.85 31.2163 Q1451.71 36.3204 1451.71 46.6907 Z\" fill=\"#000000\" fill-rule=\"evenodd\" fill-opacity=\"1\" /><path clip-path=\"url(#clip270)\" d=\"M1467.39 12.096 L1478.41 12.096 L1505.23 62.6918 L1505.23 12.096 L1513.17 12.096 L1513.17 72.576 L1502.15 72.576 L1475.33 21.9802 L1475.33 72.576 L1467.39 72.576 L1467.39 12.096 Z\" fill=\"#000000\" fill-rule=\"evenodd\" fill-opacity=\"1\" /><path clip-path=\"url(#clip270)\" d=\"M1558.05 28.5427 L1558.05 35.5912 Q1554.89 33.9709 1551.49 33.1607 Q1548.08 32.3505 1544.44 32.3505 Q1538.89 32.3505 1536.09 34.0519 Q1533.34 35.7533 1533.34 39.156 Q1533.34 41.7486 1535.32 43.2475 Q1537.31 44.7058 1543.3 46.0426 L1545.86 46.6097 Q1553.8 48.3111 1557.12 51.4303 Q1560.48 54.509 1560.48 60.0587 Q1560.48 66.3781 1555.46 70.0644 Q1550.47 73.7508 1541.72 73.7508 Q1538.08 73.7508 1534.11 73.0216 Q1530.18 72.3329 1525.8 70.9151 L1525.8 63.2184 Q1529.94 65.3654 1533.95 66.4591 Q1537.96 67.5124 1541.89 67.5124 Q1547.15 67.5124 1549.99 65.73 Q1552.82 63.9071 1552.82 60.6258 Q1552.82 57.5877 1550.76 55.9673 Q1548.73 54.3469 1541.81 52.8481 L1539.21 52.2405 Q1532.29 50.7821 1529.21 47.7845 Q1526.13 44.7463 1526.13 39.4801 Q1526.13 33.0797 1530.67 29.5959 Q1535.2 26.1121 1543.55 26.1121 Q1547.68 26.1121 1551.32 26.7198 Q1554.97 27.3274 1558.05 28.5427 Z\" fill=\"#000000\" fill-rule=\"evenodd\" fill-opacity=\"1\" /><polyline clip-path=\"url(#clip273)\" style=\"stroke:#009af9; stroke-linecap:butt; stroke-linejoin:round; stroke-width:4; stroke-opacity:1; fill:none\" points=\"\n",
       "  973.471,483.503 1015.35,162.047 1051.25,928.597 1087.15,1019.26 1123.05,1220.96 1164.93,1185.95 1200.83,1299.51 1236.73,1344.18 1272.63,1323.44 1314.51,1219.74 \n",
       "  1350.41,1288.8 1386.31,1320.5 1422.2,1415.46 1464.09,1447.87 1499.98,1447.87 1535.88,1447.87 \n",
       "  \"/>\n",
       "<circle clip-path=\"url(#clip273)\" cx=\"973.471\" cy=\"483.503\" r=\"14\" fill=\"#009af9\" fill-rule=\"evenodd\" fill-opacity=\"1\" stroke=\"#000000\" stroke-opacity=\"1\" stroke-width=\"3.2\"/>\n",
       "<circle clip-path=\"url(#clip273)\" cx=\"1015.35\" cy=\"162.047\" r=\"14\" fill=\"#009af9\" fill-rule=\"evenodd\" fill-opacity=\"1\" stroke=\"#000000\" stroke-opacity=\"1\" stroke-width=\"3.2\"/>\n",
       "<circle clip-path=\"url(#clip273)\" cx=\"1051.25\" cy=\"928.597\" r=\"14\" fill=\"#009af9\" fill-rule=\"evenodd\" fill-opacity=\"1\" stroke=\"#000000\" stroke-opacity=\"1\" stroke-width=\"3.2\"/>\n",
       "<circle clip-path=\"url(#clip273)\" cx=\"1087.15\" cy=\"1019.26\" r=\"14\" fill=\"#009af9\" fill-rule=\"evenodd\" fill-opacity=\"1\" stroke=\"#000000\" stroke-opacity=\"1\" stroke-width=\"3.2\"/>\n",
       "<circle clip-path=\"url(#clip273)\" cx=\"1123.05\" cy=\"1220.96\" r=\"14\" fill=\"#009af9\" fill-rule=\"evenodd\" fill-opacity=\"1\" stroke=\"#000000\" stroke-opacity=\"1\" stroke-width=\"3.2\"/>\n",
       "<circle clip-path=\"url(#clip273)\" cx=\"1164.93\" cy=\"1185.95\" r=\"14\" fill=\"#009af9\" fill-rule=\"evenodd\" fill-opacity=\"1\" stroke=\"#000000\" stroke-opacity=\"1\" stroke-width=\"3.2\"/>\n",
       "<circle clip-path=\"url(#clip273)\" cx=\"1200.83\" cy=\"1299.51\" r=\"14\" fill=\"#009af9\" fill-rule=\"evenodd\" fill-opacity=\"1\" stroke=\"#000000\" stroke-opacity=\"1\" stroke-width=\"3.2\"/>\n",
       "<circle clip-path=\"url(#clip273)\" cx=\"1236.73\" cy=\"1344.18\" r=\"14\" fill=\"#009af9\" fill-rule=\"evenodd\" fill-opacity=\"1\" stroke=\"#000000\" stroke-opacity=\"1\" stroke-width=\"3.2\"/>\n",
       "<circle clip-path=\"url(#clip273)\" cx=\"1272.63\" cy=\"1323.44\" r=\"14\" fill=\"#009af9\" fill-rule=\"evenodd\" fill-opacity=\"1\" stroke=\"#000000\" stroke-opacity=\"1\" stroke-width=\"3.2\"/>\n",
       "<circle clip-path=\"url(#clip273)\" cx=\"1314.51\" cy=\"1219.74\" r=\"14\" fill=\"#009af9\" fill-rule=\"evenodd\" fill-opacity=\"1\" stroke=\"#000000\" stroke-opacity=\"1\" stroke-width=\"3.2\"/>\n",
       "<circle clip-path=\"url(#clip273)\" cx=\"1350.41\" cy=\"1288.8\" r=\"14\" fill=\"#009af9\" fill-rule=\"evenodd\" fill-opacity=\"1\" stroke=\"#000000\" stroke-opacity=\"1\" stroke-width=\"3.2\"/>\n",
       "<circle clip-path=\"url(#clip273)\" cx=\"1386.31\" cy=\"1320.5\" r=\"14\" fill=\"#009af9\" fill-rule=\"evenodd\" fill-opacity=\"1\" stroke=\"#000000\" stroke-opacity=\"1\" stroke-width=\"3.2\"/>\n",
       "<circle clip-path=\"url(#clip273)\" cx=\"1422.2\" cy=\"1415.46\" r=\"14\" fill=\"#009af9\" fill-rule=\"evenodd\" fill-opacity=\"1\" stroke=\"#000000\" stroke-opacity=\"1\" stroke-width=\"3.2\"/>\n",
       "<circle clip-path=\"url(#clip273)\" cx=\"1464.09\" cy=\"1447.87\" r=\"14\" fill=\"#009af9\" fill-rule=\"evenodd\" fill-opacity=\"1\" stroke=\"#000000\" stroke-opacity=\"1\" stroke-width=\"3.2\"/>\n",
       "<circle clip-path=\"url(#clip273)\" cx=\"1499.98\" cy=\"1447.87\" r=\"14\" fill=\"#009af9\" fill-rule=\"evenodd\" fill-opacity=\"1\" stroke=\"#000000\" stroke-opacity=\"1\" stroke-width=\"3.2\"/>\n",
       "<circle clip-path=\"url(#clip273)\" cx=\"1535.88\" cy=\"1447.87\" r=\"14\" fill=\"#009af9\" fill-rule=\"evenodd\" fill-opacity=\"1\" stroke=\"#000000\" stroke-opacity=\"1\" stroke-width=\"3.2\"/>\n",
       "<polyline clip-path=\"url(#clip273)\" style=\"stroke:#e26f46; stroke-linecap:butt; stroke-linejoin:round; stroke-width:4; stroke-opacity:1; fill:none\" points=\"\n",
       "  973.471,547.795 1015.35,635.772 1051.25,792.102 1087.15,992.476 1123.05,982.315 1164.93,1104.99 1200.83,1172.34 1236.73,863.407 1272.63,1097.19 1314.51,1038.75 \n",
       "  1350.41,1048.82 1386.31,1447.87 1422.2,1447.87 1464.09,1447.87 1499.98,1447.87 \n",
       "  \"/>\n",
       "<circle clip-path=\"url(#clip273)\" cx=\"973.471\" cy=\"547.795\" r=\"14\" fill=\"#e26f46\" fill-rule=\"evenodd\" fill-opacity=\"1\" stroke=\"#000000\" stroke-opacity=\"1\" stroke-width=\"3.2\"/>\n",
       "<circle clip-path=\"url(#clip273)\" cx=\"1015.35\" cy=\"635.772\" r=\"14\" fill=\"#e26f46\" fill-rule=\"evenodd\" fill-opacity=\"1\" stroke=\"#000000\" stroke-opacity=\"1\" stroke-width=\"3.2\"/>\n",
       "<circle clip-path=\"url(#clip273)\" cx=\"1051.25\" cy=\"792.102\" r=\"14\" fill=\"#e26f46\" fill-rule=\"evenodd\" fill-opacity=\"1\" stroke=\"#000000\" stroke-opacity=\"1\" stroke-width=\"3.2\"/>\n",
       "<circle clip-path=\"url(#clip273)\" cx=\"1087.15\" cy=\"992.476\" r=\"14\" fill=\"#e26f46\" fill-rule=\"evenodd\" fill-opacity=\"1\" stroke=\"#000000\" stroke-opacity=\"1\" stroke-width=\"3.2\"/>\n",
       "<circle clip-path=\"url(#clip273)\" cx=\"1123.05\" cy=\"982.315\" r=\"14\" fill=\"#e26f46\" fill-rule=\"evenodd\" fill-opacity=\"1\" stroke=\"#000000\" stroke-opacity=\"1\" stroke-width=\"3.2\"/>\n",
       "<circle clip-path=\"url(#clip273)\" cx=\"1164.93\" cy=\"1104.99\" r=\"14\" fill=\"#e26f46\" fill-rule=\"evenodd\" fill-opacity=\"1\" stroke=\"#000000\" stroke-opacity=\"1\" stroke-width=\"3.2\"/>\n",
       "<circle clip-path=\"url(#clip273)\" cx=\"1200.83\" cy=\"1172.34\" r=\"14\" fill=\"#e26f46\" fill-rule=\"evenodd\" fill-opacity=\"1\" stroke=\"#000000\" stroke-opacity=\"1\" stroke-width=\"3.2\"/>\n",
       "<circle clip-path=\"url(#clip273)\" cx=\"1236.73\" cy=\"863.407\" r=\"14\" fill=\"#e26f46\" fill-rule=\"evenodd\" fill-opacity=\"1\" stroke=\"#000000\" stroke-opacity=\"1\" stroke-width=\"3.2\"/>\n",
       "<circle clip-path=\"url(#clip273)\" cx=\"1272.63\" cy=\"1097.19\" r=\"14\" fill=\"#e26f46\" fill-rule=\"evenodd\" fill-opacity=\"1\" stroke=\"#000000\" stroke-opacity=\"1\" stroke-width=\"3.2\"/>\n",
       "<circle clip-path=\"url(#clip273)\" cx=\"1314.51\" cy=\"1038.75\" r=\"14\" fill=\"#e26f46\" fill-rule=\"evenodd\" fill-opacity=\"1\" stroke=\"#000000\" stroke-opacity=\"1\" stroke-width=\"3.2\"/>\n",
       "<circle clip-path=\"url(#clip273)\" cx=\"1350.41\" cy=\"1048.82\" r=\"14\" fill=\"#e26f46\" fill-rule=\"evenodd\" fill-opacity=\"1\" stroke=\"#000000\" stroke-opacity=\"1\" stroke-width=\"3.2\"/>\n",
       "<circle clip-path=\"url(#clip273)\" cx=\"1386.31\" cy=\"1447.87\" r=\"14\" fill=\"#e26f46\" fill-rule=\"evenodd\" fill-opacity=\"1\" stroke=\"#000000\" stroke-opacity=\"1\" stroke-width=\"3.2\"/>\n",
       "<circle clip-path=\"url(#clip273)\" cx=\"1422.2\" cy=\"1447.87\" r=\"14\" fill=\"#e26f46\" fill-rule=\"evenodd\" fill-opacity=\"1\" stroke=\"#000000\" stroke-opacity=\"1\" stroke-width=\"3.2\"/>\n",
       "<circle clip-path=\"url(#clip273)\" cx=\"1464.09\" cy=\"1447.87\" r=\"14\" fill=\"#e26f46\" fill-rule=\"evenodd\" fill-opacity=\"1\" stroke=\"#000000\" stroke-opacity=\"1\" stroke-width=\"3.2\"/>\n",
       "<circle clip-path=\"url(#clip273)\" cx=\"1499.98\" cy=\"1447.87\" r=\"14\" fill=\"#e26f46\" fill-rule=\"evenodd\" fill-opacity=\"1\" stroke=\"#000000\" stroke-opacity=\"1\" stroke-width=\"3.2\"/>\n",
       "<path clip-path=\"url(#clip270)\" d=\"\n",
       "M1285.46 1441.02 L1532.88 1441.02 L1532.88 1285.5 L1285.46 1285.5  Z\n",
       "  \" fill=\"#ffffff\" fill-rule=\"evenodd\" fill-opacity=\"1\"/>\n",
       "<polyline clip-path=\"url(#clip270)\" style=\"stroke:#000000; stroke-linecap:butt; stroke-linejoin:round; stroke-width:4; stroke-opacity:1; fill:none\" points=\"\n",
       "  1285.46,1441.02 1532.88,1441.02 1532.88,1285.5 1285.46,1285.5 1285.46,1441.02 \n",
       "  \"/>\n",
       "<polyline clip-path=\"url(#clip270)\" style=\"stroke:#009af9; stroke-linecap:butt; stroke-linejoin:round; stroke-width:4; stroke-opacity:1; fill:none\" points=\"\n",
       "  1292.09,1337.34 1331.83,1337.34 \n",
       "  \"/>\n",
       "<circle clip-path=\"url(#clip270)\" cx=\"1311.96\" cy=\"1337.34\" r=\"23\" fill=\"#009af9\" fill-rule=\"evenodd\" fill-opacity=\"1\" stroke=\"#000000\" stroke-opacity=\"1\" stroke-width=\"5.12\"/>\n",
       "<path clip-path=\"url(#clip270)\" d=\"M1338.46 1320.06 L1367.69 1320.06 L1367.69 1323.99 L1355.42 1323.99 L1355.42 1354.62 L1350.72 1354.62 L1350.72 1323.99 L1338.46 1323.99 L1338.46 1320.06 Z\" fill=\"#000000\" fill-rule=\"evenodd\" fill-opacity=\"1\" /><path clip-path=\"url(#clip270)\" d=\"M1382.25 1318.64 Q1379.15 1323.97 1377.65 1329.18 Q1376.14 1334.38 1376.14 1339.73 Q1376.14 1345.08 1377.65 1350.33 Q1379.17 1355.56 1382.25 1360.87 L1378.55 1360.87 Q1375.08 1355.43 1373.34 1350.17 Q1371.63 1344.92 1371.63 1339.73 Q1371.63 1334.57 1373.34 1329.34 Q1375.05 1324.11 1378.55 1318.64 L1382.25 1318.64 Z\" fill=\"#000000\" fill-rule=\"evenodd\" fill-opacity=\"1\" /><path clip-path=\"url(#clip270)\" d=\"M1407.85 1324.89 L1407.85 1337.79 L1420.75 1337.79 L1420.75 1341.72 L1407.85 1341.72 L1407.85 1354.62 L1403.97 1354.62 L1403.97 1341.72 L1391.07 1341.72 L1391.07 1337.79 L1403.97 1337.79 L1403.97 1324.89 L1407.85 1324.89 Z\" fill=\"#000000\" fill-rule=\"evenodd\" fill-opacity=\"1\" /><path clip-path=\"url(#clip270)\" d=\"M1463.18 1338.71 L1463.18 1340.8 L1454.08 1349.89 L1451.3 1347.12 L1456.7 1341.72 L1428.48 1341.72 L1428.48 1337.79 L1456.7 1337.79 L1451.3 1332.39 L1454.08 1329.62 L1463.18 1338.71 Z\" fill=\"#000000\" fill-rule=\"evenodd\" fill-opacity=\"1\" /><path clip-path=\"url(#clip270)\" d=\"M1470.52 1337.79 L1500.19 1337.79 L1500.19 1341.72 L1470.52 1341.72 L1470.52 1337.79 Z\" fill=\"#000000\" fill-rule=\"evenodd\" fill-opacity=\"1\" /><path clip-path=\"url(#clip270)\" d=\"M1509.01 1318.64 L1512.71 1318.64 Q1516.19 1324.11 1517.9 1329.34 Q1519.64 1334.57 1519.64 1339.73 Q1519.64 1344.92 1517.9 1350.17 Q1516.19 1355.43 1512.71 1360.87 L1509.01 1360.87 Q1512.09 1355.56 1513.59 1350.33 Q1515.12 1345.08 1515.12 1339.73 Q1515.12 1334.38 1513.59 1329.18 Q1512.09 1323.97 1509.01 1318.64 Z\" fill=\"#000000\" fill-rule=\"evenodd\" fill-opacity=\"1\" /><polyline clip-path=\"url(#clip270)\" style=\"stroke:#e26f46; stroke-linecap:butt; stroke-linejoin:round; stroke-width:4; stroke-opacity:1; fill:none\" points=\"\n",
       "  1292.09,1389.18 1331.83,1389.18 \n",
       "  \"/>\n",
       "<circle clip-path=\"url(#clip270)\" cx=\"1311.96\" cy=\"1389.18\" r=\"23\" fill=\"#e26f46\" fill-rule=\"evenodd\" fill-opacity=\"1\" stroke=\"#000000\" stroke-opacity=\"1\" stroke-width=\"5.12\"/>\n",
       "<path clip-path=\"url(#clip270)\" d=\"M1338.46 1371.9 L1367.69 1371.9 L1367.69 1375.83 L1355.42 1375.83 L1355.42 1406.46 L1350.72 1406.46 L1350.72 1375.83 L1338.46 1375.83 L1338.46 1371.9 Z\" fill=\"#000000\" fill-rule=\"evenodd\" fill-opacity=\"1\" /><path clip-path=\"url(#clip270)\" d=\"M1382.25 1370.48 Q1379.15 1375.81 1377.65 1381.02 Q1376.14 1386.22 1376.14 1391.57 Q1376.14 1396.92 1377.65 1402.17 Q1379.17 1407.4 1382.25 1412.71 L1378.55 1412.71 Q1375.08 1407.27 1373.34 1402.01 Q1371.63 1396.76 1371.63 1391.57 Q1371.63 1386.41 1373.34 1381.18 Q1375.05 1375.95 1378.55 1370.48 L1382.25 1370.48 Z\" fill=\"#000000\" fill-rule=\"evenodd\" fill-opacity=\"1\" /><path clip-path=\"url(#clip270)\" d=\"M1391.07 1389.63 L1420.75 1389.63 L1420.75 1393.56 L1391.07 1393.56 L1391.07 1389.63 Z\" fill=\"#000000\" fill-rule=\"evenodd\" fill-opacity=\"1\" /><path clip-path=\"url(#clip270)\" d=\"M1463.18 1390.55 L1463.18 1392.64 L1454.08 1401.73 L1451.3 1398.96 L1456.7 1393.56 L1428.48 1393.56 L1428.48 1389.63 L1456.7 1389.63 L1451.3 1384.23 L1454.08 1381.46 L1463.18 1390.55 Z\" fill=\"#000000\" fill-rule=\"evenodd\" fill-opacity=\"1\" /><path clip-path=\"url(#clip270)\" d=\"M1470.52 1389.63 L1500.19 1389.63 L1500.19 1393.56 L1470.52 1393.56 L1470.52 1389.63 Z\" fill=\"#000000\" fill-rule=\"evenodd\" fill-opacity=\"1\" /><path clip-path=\"url(#clip270)\" d=\"M1509.01 1370.48 L1512.71 1370.48 Q1516.19 1375.95 1517.9 1381.18 Q1519.64 1386.41 1519.64 1391.57 Q1519.64 1396.76 1517.9 1402.01 Q1516.19 1407.27 1512.71 1412.71 L1509.01 1412.71 Q1512.09 1407.4 1513.59 1402.17 Q1515.12 1396.92 1515.12 1391.57 Q1515.12 1386.22 1513.59 1381.02 Q1512.09 1375.81 1509.01 1370.48 Z\" fill=\"#000000\" fill-rule=\"evenodd\" fill-opacity=\"1\" /><path clip-path=\"url(#clip270)\" d=\"\n",
       "M1756.6 1486.45 L2352.76 1486.45 L2352.76 123.472 L1756.6 123.472  Z\n",
       "  \" fill=\"#ffffff\" fill-rule=\"evenodd\" fill-opacity=\"1\"/>\n",
       "<defs>\n",
       "  <clipPath id=\"clip274\">\n",
       "    <rect x=\"1756\" y=\"123\" width=\"597\" height=\"1364\"/>\n",
       "  </clipPath>\n",
       "</defs>\n",
       "<polyline clip-path=\"url(#clip274)\" style=\"stroke:#000000; stroke-linecap:butt; stroke-linejoin:round; stroke-width:2; stroke-opacity:0.1; fill:none\" points=\"\n",
       "  1773.47,1486.45 1773.47,123.472 \n",
       "  \"/>\n",
       "<polyline clip-path=\"url(#clip274)\" style=\"stroke:#000000; stroke-linecap:butt; stroke-linejoin:round; stroke-width:2; stroke-opacity:0.1; fill:none\" points=\"\n",
       "  1893.13,1486.45 1893.13,123.472 \n",
       "  \"/>\n",
       "<polyline clip-path=\"url(#clip274)\" style=\"stroke:#000000; stroke-linecap:butt; stroke-linejoin:round; stroke-width:2; stroke-opacity:0.1; fill:none\" points=\"\n",
       "  2012.8,1486.45 2012.8,123.472 \n",
       "  \"/>\n",
       "<polyline clip-path=\"url(#clip274)\" style=\"stroke:#000000; stroke-linecap:butt; stroke-linejoin:round; stroke-width:2; stroke-opacity:0.1; fill:none\" points=\"\n",
       "  2132.46,1486.45 2132.46,123.472 \n",
       "  \"/>\n",
       "<polyline clip-path=\"url(#clip274)\" style=\"stroke:#000000; stroke-linecap:butt; stroke-linejoin:round; stroke-width:2; stroke-opacity:0.1; fill:none\" points=\"\n",
       "  2252.12,1486.45 2252.12,123.472 \n",
       "  \"/>\n",
       "<polyline clip-path=\"url(#clip270)\" style=\"stroke:#000000; stroke-linecap:butt; stroke-linejoin:round; stroke-width:4; stroke-opacity:1; fill:none\" points=\"\n",
       "  1756.6,1486.45 2352.76,1486.45 \n",
       "  \"/>\n",
       "<polyline clip-path=\"url(#clip270)\" style=\"stroke:#000000; stroke-linecap:butt; stroke-linejoin:round; stroke-width:4; stroke-opacity:1; fill:none\" points=\"\n",
       "  1773.47,1486.45 1773.47,1467.55 \n",
       "  \"/>\n",
       "<polyline clip-path=\"url(#clip270)\" style=\"stroke:#000000; stroke-linecap:butt; stroke-linejoin:round; stroke-width:4; stroke-opacity:1; fill:none\" points=\"\n",
       "  1893.13,1486.45 1893.13,1467.55 \n",
       "  \"/>\n",
       "<polyline clip-path=\"url(#clip270)\" style=\"stroke:#000000; stroke-linecap:butt; stroke-linejoin:round; stroke-width:4; stroke-opacity:1; fill:none\" points=\"\n",
       "  2012.8,1486.45 2012.8,1467.55 \n",
       "  \"/>\n",
       "<polyline clip-path=\"url(#clip270)\" style=\"stroke:#000000; stroke-linecap:butt; stroke-linejoin:round; stroke-width:4; stroke-opacity:1; fill:none\" points=\"\n",
       "  2132.46,1486.45 2132.46,1467.55 \n",
       "  \"/>\n",
       "<polyline clip-path=\"url(#clip270)\" style=\"stroke:#000000; stroke-linecap:butt; stroke-linejoin:round; stroke-width:4; stroke-opacity:1; fill:none\" points=\"\n",
       "  2252.12,1486.45 2252.12,1467.55 \n",
       "  \"/>\n",
       "<path clip-path=\"url(#clip270)\" d=\"M1750.86 1517.37 Q1747.24 1517.37 1745.42 1520.93 Q1743.61 1524.47 1743.61 1531.6 Q1743.61 1538.71 1745.42 1542.27 Q1747.24 1545.82 1750.86 1545.82 Q1754.49 1545.82 1756.29 1542.27 Q1758.12 1538.71 1758.12 1531.6 Q1758.12 1524.47 1756.29 1520.93 Q1754.49 1517.37 1750.86 1517.37 M1750.86 1513.66 Q1756.67 1513.66 1759.72 1518.27 Q1762.8 1522.85 1762.8 1531.6 Q1762.8 1540.33 1759.72 1544.94 Q1756.67 1549.52 1750.86 1549.52 Q1745.04 1549.52 1741.97 1544.94 Q1738.91 1540.33 1738.91 1531.6 Q1738.91 1522.85 1741.97 1518.27 Q1745.04 1513.66 1750.86 1513.66 Z\" fill=\"#000000\" fill-rule=\"evenodd\" fill-opacity=\"1\" /><path clip-path=\"url(#clip270)\" d=\"M1771.02 1542.97 L1775.9 1542.97 L1775.9 1548.85 L1771.02 1548.85 L1771.02 1542.97 Z\" fill=\"#000000\" fill-rule=\"evenodd\" fill-opacity=\"1\" /><path clip-path=\"url(#clip270)\" d=\"M1796.09 1517.37 Q1792.48 1517.37 1790.65 1520.93 Q1788.84 1524.47 1788.84 1531.6 Q1788.84 1538.71 1790.65 1542.27 Q1792.48 1545.82 1796.09 1545.82 Q1799.72 1545.82 1801.53 1542.27 Q1803.35 1538.71 1803.35 1531.6 Q1803.35 1524.47 1801.53 1520.93 Q1799.72 1517.37 1796.09 1517.37 M1796.09 1513.66 Q1801.9 1513.66 1804.95 1518.27 Q1808.03 1522.85 1808.03 1531.6 Q1808.03 1540.33 1804.95 1544.94 Q1801.9 1549.52 1796.09 1549.52 Q1790.28 1549.52 1787.2 1544.94 Q1784.14 1540.33 1784.14 1531.6 Q1784.14 1522.85 1787.2 1518.27 Q1790.28 1513.66 1796.09 1513.66 Z\" fill=\"#000000\" fill-rule=\"evenodd\" fill-opacity=\"1\" /><path clip-path=\"url(#clip270)\" d=\"M1871.32 1517.37 Q1867.7 1517.37 1865.88 1520.93 Q1864.07 1524.47 1864.07 1531.6 Q1864.07 1538.71 1865.88 1542.27 Q1867.7 1545.82 1871.32 1545.82 Q1874.95 1545.82 1876.76 1542.27 Q1878.58 1538.71 1878.58 1531.6 Q1878.58 1524.47 1876.76 1520.93 Q1874.95 1517.37 1871.32 1517.37 M1871.32 1513.66 Q1877.13 1513.66 1880.18 1518.27 Q1883.26 1522.85 1883.26 1531.6 Q1883.26 1540.33 1880.18 1544.94 Q1877.13 1549.52 1871.32 1549.52 Q1865.51 1549.52 1862.43 1544.94 Q1859.37 1540.33 1859.37 1531.6 Q1859.37 1522.85 1862.43 1518.27 Q1865.51 1513.66 1871.32 1513.66 Z\" fill=\"#000000\" fill-rule=\"evenodd\" fill-opacity=\"1\" /><path clip-path=\"url(#clip270)\" d=\"M1891.48 1542.97 L1896.36 1542.97 L1896.36 1548.85 L1891.48 1548.85 L1891.48 1542.97 Z\" fill=\"#000000\" fill-rule=\"evenodd\" fill-opacity=\"1\" /><path clip-path=\"url(#clip270)\" d=\"M1910.57 1544.91 L1926.89 1544.91 L1926.89 1548.85 L1904.95 1548.85 L1904.95 1544.91 Q1907.61 1542.16 1912.2 1537.53 Q1916.8 1532.88 1917.98 1531.53 Q1920.23 1529.01 1921.11 1527.27 Q1922.01 1525.51 1922.01 1523.82 Q1922.01 1521.07 1920.07 1519.33 Q1918.14 1517.6 1915.04 1517.6 Q1912.84 1517.6 1910.39 1518.36 Q1907.96 1519.13 1905.18 1520.68 L1905.18 1515.95 Q1908.01 1514.82 1910.46 1514.24 Q1912.91 1513.66 1914.95 1513.66 Q1920.32 1513.66 1923.51 1516.35 Q1926.71 1519.03 1926.71 1523.52 Q1926.71 1525.65 1925.9 1527.57 Q1925.11 1529.47 1923.01 1532.07 Q1922.43 1532.74 1919.32 1535.95 Q1916.22 1539.15 1910.57 1544.91 Z\" fill=\"#000000\" fill-rule=\"evenodd\" fill-opacity=\"1\" /><path clip-path=\"url(#clip270)\" d=\"M1989.94 1517.37 Q1986.33 1517.37 1984.5 1520.93 Q1982.69 1524.47 1982.69 1531.6 Q1982.69 1538.71 1984.5 1542.27 Q1986.33 1545.82 1989.94 1545.82 Q1993.57 1545.82 1995.38 1542.27 Q1997.21 1538.71 1997.21 1531.6 Q1997.21 1524.47 1995.38 1520.93 Q1993.57 1517.37 1989.94 1517.37 M1989.94 1513.66 Q1995.75 1513.66 1998.8 1518.27 Q2001.88 1522.85 2001.88 1531.6 Q2001.88 1540.33 1998.8 1544.94 Q1995.75 1549.52 1989.94 1549.52 Q1984.13 1549.52 1981.05 1544.94 Q1977.99 1540.33 1977.99 1531.6 Q1977.99 1522.85 1981.05 1518.27 Q1984.13 1513.66 1989.94 1513.66 Z\" fill=\"#000000\" fill-rule=\"evenodd\" fill-opacity=\"1\" /><path clip-path=\"url(#clip270)\" d=\"M2010.1 1542.97 L2014.98 1542.97 L2014.98 1548.85 L2010.1 1548.85 L2010.1 1542.97 Z\" fill=\"#000000\" fill-rule=\"evenodd\" fill-opacity=\"1\" /><path clip-path=\"url(#clip270)\" d=\"M2038.02 1518.36 L2026.21 1536.81 L2038.02 1536.81 L2038.02 1518.36 M2036.79 1514.29 L2042.67 1514.29 L2042.67 1536.81 L2047.6 1536.81 L2047.6 1540.7 L2042.67 1540.7 L2042.67 1548.85 L2038.02 1548.85 L2038.02 1540.7 L2022.41 1540.7 L2022.41 1536.19 L2036.79 1514.29 Z\" fill=\"#000000\" fill-rule=\"evenodd\" fill-opacity=\"1\" /><path clip-path=\"url(#clip270)\" d=\"M2109.76 1517.37 Q2106.15 1517.37 2104.32 1520.93 Q2102.52 1524.47 2102.52 1531.6 Q2102.52 1538.71 2104.32 1542.27 Q2106.15 1545.82 2109.76 1545.82 Q2113.4 1545.82 2115.2 1542.27 Q2117.03 1538.71 2117.03 1531.6 Q2117.03 1524.47 2115.2 1520.93 Q2113.4 1517.37 2109.76 1517.37 M2109.76 1513.66 Q2115.57 1513.66 2118.63 1518.27 Q2121.71 1522.85 2121.71 1531.6 Q2121.71 1540.33 2118.63 1544.94 Q2115.57 1549.52 2109.76 1549.52 Q2103.95 1549.52 2100.87 1544.94 Q2097.82 1540.33 2097.82 1531.6 Q2097.82 1522.85 2100.87 1518.27 Q2103.95 1513.66 2109.76 1513.66 Z\" fill=\"#000000\" fill-rule=\"evenodd\" fill-opacity=\"1\" /><path clip-path=\"url(#clip270)\" d=\"M2129.92 1542.97 L2134.81 1542.97 L2134.81 1548.85 L2129.92 1548.85 L2129.92 1542.97 Z\" fill=\"#000000\" fill-rule=\"evenodd\" fill-opacity=\"1\" /><path clip-path=\"url(#clip270)\" d=\"M2155.57 1529.7 Q2152.42 1529.7 2150.57 1531.86 Q2148.74 1534.01 2148.74 1537.76 Q2148.74 1541.49 2150.57 1543.66 Q2152.42 1545.82 2155.57 1545.82 Q2158.72 1545.82 2160.55 1543.66 Q2162.4 1541.49 2162.4 1537.76 Q2162.4 1534.01 2160.55 1531.86 Q2158.72 1529.7 2155.57 1529.7 M2164.85 1515.05 L2164.85 1519.31 Q2163.09 1518.48 2161.29 1518.04 Q2159.51 1517.6 2157.75 1517.6 Q2153.12 1517.6 2150.66 1520.72 Q2148.23 1523.85 2147.89 1530.17 Q2149.25 1528.15 2151.31 1527.09 Q2153.37 1526 2155.85 1526 Q2161.06 1526 2164.07 1529.17 Q2167.1 1532.32 2167.1 1537.76 Q2167.1 1543.08 2163.95 1546.3 Q2160.8 1549.52 2155.57 1549.52 Q2149.58 1549.52 2146.4 1544.94 Q2143.23 1540.33 2143.23 1531.6 Q2143.23 1523.41 2147.12 1518.55 Q2151.01 1513.66 2157.56 1513.66 Q2159.32 1513.66 2161.1 1514.01 Q2162.91 1514.36 2164.85 1515.05 Z\" fill=\"#000000\" fill-rule=\"evenodd\" fill-opacity=\"1\" /><path clip-path=\"url(#clip270)\" d=\"M2229.55 1517.37 Q2225.94 1517.37 2224.11 1520.93 Q2222.31 1524.47 2222.31 1531.6 Q2222.31 1538.71 2224.11 1542.27 Q2225.94 1545.82 2229.55 1545.82 Q2233.18 1545.82 2234.99 1542.27 Q2236.82 1538.71 2236.82 1531.6 Q2236.82 1524.47 2234.99 1520.93 Q2233.18 1517.37 2229.55 1517.37 M2229.55 1513.66 Q2235.36 1513.66 2238.42 1518.27 Q2241.49 1522.85 2241.49 1531.6 Q2241.49 1540.33 2238.42 1544.94 Q2235.36 1549.52 2229.55 1549.52 Q2223.74 1549.52 2220.66 1544.94 Q2217.61 1540.33 2217.61 1531.6 Q2217.61 1522.85 2220.66 1518.27 Q2223.74 1513.66 2229.55 1513.66 Z\" fill=\"#000000\" fill-rule=\"evenodd\" fill-opacity=\"1\" /><path clip-path=\"url(#clip270)\" d=\"M2249.71 1542.97 L2254.6 1542.97 L2254.6 1548.85 L2249.71 1548.85 L2249.71 1542.97 Z\" fill=\"#000000\" fill-rule=\"evenodd\" fill-opacity=\"1\" /><path clip-path=\"url(#clip270)\" d=\"M2274.78 1532.44 Q2271.45 1532.44 2269.53 1534.22 Q2267.63 1536 2267.63 1539.13 Q2267.63 1542.25 2269.53 1544.03 Q2271.45 1545.82 2274.78 1545.82 Q2278.12 1545.82 2280.04 1544.03 Q2281.96 1542.23 2281.96 1539.13 Q2281.96 1536 2280.04 1534.22 Q2278.14 1532.44 2274.78 1532.44 M2270.11 1530.45 Q2267.1 1529.7 2265.41 1527.64 Q2263.74 1525.58 2263.74 1522.62 Q2263.74 1518.48 2266.68 1516.07 Q2269.64 1513.66 2274.78 1513.66 Q2279.94 1513.66 2282.88 1516.07 Q2285.82 1518.48 2285.82 1522.62 Q2285.82 1525.58 2284.13 1527.64 Q2282.47 1529.7 2279.48 1530.45 Q2282.86 1531.23 2284.74 1533.52 Q2286.63 1535.82 2286.63 1539.13 Q2286.63 1544.15 2283.55 1546.83 Q2280.5 1549.52 2274.78 1549.52 Q2269.06 1549.52 2265.99 1546.83 Q2262.93 1544.15 2262.93 1539.13 Q2262.93 1535.82 2264.83 1533.52 Q2266.73 1531.23 2270.11 1530.45 M2268.39 1523.06 Q2268.39 1525.75 2270.06 1527.25 Q2271.75 1528.76 2274.78 1528.76 Q2277.79 1528.76 2279.48 1527.25 Q2281.19 1525.75 2281.19 1523.06 Q2281.19 1520.38 2279.48 1518.87 Q2277.79 1517.37 2274.78 1517.37 Q2271.75 1517.37 2270.06 1518.87 Q2268.39 1520.38 2268.39 1523.06 Z\" fill=\"#000000\" fill-rule=\"evenodd\" fill-opacity=\"1\" /><polyline clip-path=\"url(#clip274)\" style=\"stroke:#000000; stroke-linecap:butt; stroke-linejoin:round; stroke-width:2; stroke-opacity:0.1; fill:none\" points=\"\n",
       "  1756.6,1396.44 2352.76,1396.44 \n",
       "  \"/>\n",
       "<polyline clip-path=\"url(#clip274)\" style=\"stroke:#000000; stroke-linecap:butt; stroke-linejoin:round; stroke-width:2; stroke-opacity:0.1; fill:none\" points=\"\n",
       "  1756.6,1087.84 2352.76,1087.84 \n",
       "  \"/>\n",
       "<polyline clip-path=\"url(#clip274)\" style=\"stroke:#000000; stroke-linecap:butt; stroke-linejoin:round; stroke-width:2; stroke-opacity:0.1; fill:none\" points=\"\n",
       "  1756.6,779.243 2352.76,779.243 \n",
       "  \"/>\n",
       "<polyline clip-path=\"url(#clip274)\" style=\"stroke:#000000; stroke-linecap:butt; stroke-linejoin:round; stroke-width:2; stroke-opacity:0.1; fill:none\" points=\"\n",
       "  1756.6,470.645 2352.76,470.645 \n",
       "  \"/>\n",
       "<polyline clip-path=\"url(#clip274)\" style=\"stroke:#000000; stroke-linecap:butt; stroke-linejoin:round; stroke-width:2; stroke-opacity:0.1; fill:none\" points=\"\n",
       "  1756.6,162.047 2352.76,162.047 \n",
       "  \"/>\n",
       "<polyline clip-path=\"url(#clip270)\" style=\"stroke:#000000; stroke-linecap:butt; stroke-linejoin:round; stroke-width:4; stroke-opacity:1; fill:none\" points=\"\n",
       "  1756.6,1486.45 1756.6,123.472 \n",
       "  \"/>\n",
       "<polyline clip-path=\"url(#clip270)\" style=\"stroke:#000000; stroke-linecap:butt; stroke-linejoin:round; stroke-width:4; stroke-opacity:1; fill:none\" points=\"\n",
       "  1756.6,1396.44 1775.5,1396.44 \n",
       "  \"/>\n",
       "<polyline clip-path=\"url(#clip270)\" style=\"stroke:#000000; stroke-linecap:butt; stroke-linejoin:round; stroke-width:4; stroke-opacity:1; fill:none\" points=\"\n",
       "  1756.6,1087.84 1775.5,1087.84 \n",
       "  \"/>\n",
       "<polyline clip-path=\"url(#clip270)\" style=\"stroke:#000000; stroke-linecap:butt; stroke-linejoin:round; stroke-width:4; stroke-opacity:1; fill:none\" points=\"\n",
       "  1756.6,779.243 1775.5,779.243 \n",
       "  \"/>\n",
       "<polyline clip-path=\"url(#clip270)\" style=\"stroke:#000000; stroke-linecap:butt; stroke-linejoin:round; stroke-width:4; stroke-opacity:1; fill:none\" points=\"\n",
       "  1756.6,470.645 1775.5,470.645 \n",
       "  \"/>\n",
       "<polyline clip-path=\"url(#clip270)\" style=\"stroke:#000000; stroke-linecap:butt; stroke-linejoin:round; stroke-width:4; stroke-opacity:1; fill:none\" points=\"\n",
       "  1756.6,162.047 1775.5,162.047 \n",
       "  \"/>\n",
       "<path clip-path=\"url(#clip270)\" d=\"M1665.02 1382.24 Q1661.41 1382.24 1659.58 1385.8 Q1657.77 1389.35 1657.77 1396.47 Q1657.77 1403.58 1659.58 1407.15 Q1661.41 1410.69 1665.02 1410.69 Q1668.65 1410.69 1670.46 1407.15 Q1672.29 1403.58 1672.29 1396.47 Q1672.29 1389.35 1670.46 1385.8 Q1668.65 1382.24 1665.02 1382.24 M1665.02 1378.54 Q1670.83 1378.54 1673.89 1383.14 Q1676.96 1387.72 1676.96 1396.47 Q1676.96 1405.2 1673.89 1409.81 Q1670.83 1414.39 1665.02 1414.39 Q1659.21 1414.39 1656.13 1409.81 Q1653.08 1405.2 1653.08 1396.47 Q1653.08 1387.72 1656.13 1383.14 Q1659.21 1378.54 1665.02 1378.54 Z\" fill=\"#000000\" fill-rule=\"evenodd\" fill-opacity=\"1\" /><path clip-path=\"url(#clip270)\" d=\"M1685.18 1407.84 L1690.07 1407.84 L1690.07 1413.72 L1685.18 1413.72 L1685.18 1407.84 Z\" fill=\"#000000\" fill-rule=\"evenodd\" fill-opacity=\"1\" /><path clip-path=\"url(#clip270)\" d=\"M1704.28 1409.78 L1720.6 1409.78 L1720.6 1413.72 L1698.65 1413.72 L1698.65 1409.78 Q1701.32 1407.03 1705.9 1402.4 Q1710.51 1397.75 1711.69 1396.41 Q1713.93 1393.88 1714.81 1392.15 Q1715.71 1390.39 1715.71 1388.7 Q1715.71 1385.94 1713.77 1384.21 Q1711.85 1382.47 1708.75 1382.47 Q1706.55 1382.47 1704.09 1383.23 Q1701.66 1384 1698.89 1385.55 L1698.89 1380.83 Q1701.71 1379.69 1704.16 1379.11 Q1706.62 1378.54 1708.65 1378.54 Q1714.02 1378.54 1717.22 1381.22 Q1720.41 1383.91 1720.41 1388.4 Q1720.41 1390.53 1719.6 1392.45 Q1718.82 1394.35 1716.71 1396.94 Q1716.13 1397.61 1713.03 1400.83 Q1709.93 1404.02 1704.28 1409.78 Z\" fill=\"#000000\" fill-rule=\"evenodd\" fill-opacity=\"1\" /><path clip-path=\"url(#clip270)\" d=\"M1662.94 1073.64 Q1659.33 1073.64 1657.5 1077.21 Q1655.69 1080.75 1655.69 1087.88 Q1655.69 1094.98 1657.5 1098.55 Q1659.33 1102.09 1662.94 1102.09 Q1666.57 1102.09 1668.38 1098.55 Q1670.2 1094.98 1670.2 1087.88 Q1670.2 1080.75 1668.38 1077.21 Q1666.57 1073.64 1662.94 1073.64 M1662.94 1069.94 Q1668.75 1069.94 1671.8 1074.54 Q1674.88 1079.13 1674.88 1087.88 Q1674.88 1096.6 1671.8 1101.21 Q1668.75 1105.79 1662.94 1105.79 Q1657.13 1105.79 1654.05 1101.21 Q1650.99 1096.6 1650.99 1087.88 Q1650.99 1079.13 1654.05 1074.54 Q1657.13 1069.94 1662.94 1069.94 Z\" fill=\"#000000\" fill-rule=\"evenodd\" fill-opacity=\"1\" /><path clip-path=\"url(#clip270)\" d=\"M1683.1 1099.24 L1687.98 1099.24 L1687.98 1105.12 L1683.1 1105.12 L1683.1 1099.24 Z\" fill=\"#000000\" fill-rule=\"evenodd\" fill-opacity=\"1\" /><path clip-path=\"url(#clip270)\" d=\"M1711.01 1074.64 L1699.21 1093.08 L1711.01 1093.08 L1711.01 1074.64 M1709.79 1070.56 L1715.67 1070.56 L1715.67 1093.08 L1720.6 1093.08 L1720.6 1096.97 L1715.67 1096.97 L1715.67 1105.12 L1711.01 1105.12 L1711.01 1096.97 L1695.41 1096.97 L1695.41 1092.46 L1709.79 1070.56 Z\" fill=\"#000000\" fill-rule=\"evenodd\" fill-opacity=\"1\" /><path clip-path=\"url(#clip270)\" d=\"M1663.26 765.042 Q1659.65 765.042 1657.82 768.607 Q1656.02 772.149 1656.02 779.278 Q1656.02 786.385 1657.82 789.949 Q1659.65 793.491 1663.26 793.491 Q1666.89 793.491 1668.7 789.949 Q1670.53 786.385 1670.53 779.278 Q1670.53 772.149 1668.7 768.607 Q1666.89 765.042 1663.26 765.042 M1663.26 761.338 Q1669.07 761.338 1672.13 765.945 Q1675.2 770.528 1675.2 779.278 Q1675.2 788.005 1672.13 792.611 Q1669.07 797.195 1663.26 797.195 Q1657.45 797.195 1654.37 792.611 Q1651.32 788.005 1651.32 779.278 Q1651.32 770.528 1654.37 765.945 Q1657.45 761.338 1663.26 761.338 Z\" fill=\"#000000\" fill-rule=\"evenodd\" fill-opacity=\"1\" /><path clip-path=\"url(#clip270)\" d=\"M1683.42 790.644 L1688.31 790.644 L1688.31 796.523 L1683.42 796.523 L1683.42 790.644 Z\" fill=\"#000000\" fill-rule=\"evenodd\" fill-opacity=\"1\" /><path clip-path=\"url(#clip270)\" d=\"M1709.07 777.38 Q1705.92 777.38 1704.07 779.533 Q1702.24 781.686 1702.24 785.436 Q1702.24 789.162 1704.07 791.338 Q1705.92 793.491 1709.07 793.491 Q1712.22 793.491 1714.05 791.338 Q1715.9 789.162 1715.9 785.436 Q1715.9 781.686 1714.05 779.533 Q1712.22 777.38 1709.07 777.38 M1718.35 762.727 L1718.35 766.987 Q1716.59 766.153 1714.79 765.713 Q1713.01 765.274 1711.25 765.274 Q1706.62 765.274 1704.16 768.399 Q1701.73 771.524 1701.39 777.843 Q1702.75 775.829 1704.81 774.764 Q1706.87 773.676 1709.35 773.676 Q1714.56 773.676 1717.57 776.848 Q1720.6 779.996 1720.6 785.436 Q1720.6 790.76 1717.45 793.977 Q1714.3 797.195 1709.07 797.195 Q1703.08 797.195 1699.9 792.611 Q1696.73 788.005 1696.73 779.278 Q1696.73 771.084 1700.62 766.223 Q1704.51 761.338 1711.06 761.338 Q1712.82 761.338 1714.6 761.686 Q1716.41 762.033 1718.35 762.727 Z\" fill=\"#000000\" fill-rule=\"evenodd\" fill-opacity=\"1\" /><path clip-path=\"url(#clip270)\" d=\"M1663.52 456.444 Q1659.9 456.444 1658.08 460.009 Q1656.27 463.55 1656.27 470.68 Q1656.27 477.786 1658.08 481.351 Q1659.9 484.893 1663.52 484.893 Q1667.15 484.893 1668.95 481.351 Q1670.78 477.786 1670.78 470.68 Q1670.78 463.55 1668.95 460.009 Q1667.15 456.444 1663.52 456.444 M1663.52 452.74 Q1669.33 452.74 1672.38 457.347 Q1675.46 461.93 1675.46 470.68 Q1675.46 479.407 1672.38 484.013 Q1669.33 488.596 1663.52 488.596 Q1657.71 488.596 1654.63 484.013 Q1651.57 479.407 1651.57 470.68 Q1651.57 461.93 1654.63 457.347 Q1657.71 452.74 1663.52 452.74 Z\" fill=\"#000000\" fill-rule=\"evenodd\" fill-opacity=\"1\" /><path clip-path=\"url(#clip270)\" d=\"M1683.68 482.046 L1688.56 482.046 L1688.56 487.925 L1683.68 487.925 L1683.68 482.046 Z\" fill=\"#000000\" fill-rule=\"evenodd\" fill-opacity=\"1\" /><path clip-path=\"url(#clip270)\" d=\"M1708.75 471.513 Q1705.41 471.513 1703.49 473.296 Q1701.59 475.078 1701.59 478.203 Q1701.59 481.328 1703.49 483.11 Q1705.41 484.893 1708.75 484.893 Q1712.08 484.893 1714 483.11 Q1715.92 481.305 1715.92 478.203 Q1715.92 475.078 1714 473.296 Q1712.1 471.513 1708.75 471.513 M1704.07 469.523 Q1701.06 468.782 1699.37 466.722 Q1697.7 464.661 1697.7 461.698 Q1697.7 457.555 1700.64 455.148 Q1703.61 452.74 1708.75 452.74 Q1713.91 452.74 1716.85 455.148 Q1719.79 457.555 1719.79 461.698 Q1719.79 464.661 1718.1 466.722 Q1716.43 468.782 1713.45 469.523 Q1716.83 470.31 1718.7 472.601 Q1720.6 474.893 1720.6 478.203 Q1720.6 483.226 1717.52 485.911 Q1714.46 488.596 1708.75 488.596 Q1703.03 488.596 1699.95 485.911 Q1696.89 483.226 1696.89 478.203 Q1696.89 474.893 1698.79 472.601 Q1700.69 470.31 1704.07 469.523 M1702.36 462.138 Q1702.36 464.823 1704.02 466.328 Q1705.71 467.833 1708.75 467.833 Q1711.76 467.833 1713.45 466.328 Q1715.16 464.823 1715.16 462.138 Q1715.16 459.453 1713.45 457.949 Q1711.76 456.444 1708.75 456.444 Q1705.71 456.444 1704.02 457.949 Q1702.36 459.453 1702.36 462.138 Z\" fill=\"#000000\" fill-rule=\"evenodd\" fill-opacity=\"1\" /><path clip-path=\"url(#clip270)\" d=\"M1654.23 175.392 L1661.87 175.392 L1661.87 149.026 L1653.56 150.693 L1653.56 146.434 L1661.83 144.767 L1666.5 144.767 L1666.5 175.392 L1674.14 175.392 L1674.14 179.327 L1654.23 179.327 L1654.23 175.392 Z\" fill=\"#000000\" fill-rule=\"evenodd\" fill-opacity=\"1\" /><path clip-path=\"url(#clip270)\" d=\"M1683.58 173.447 L1688.47 173.447 L1688.47 179.327 L1683.58 179.327 L1683.58 173.447 Z\" fill=\"#000000\" fill-rule=\"evenodd\" fill-opacity=\"1\" /><path clip-path=\"url(#clip270)\" d=\"M1708.65 147.846 Q1705.04 147.846 1703.21 151.41 Q1701.41 154.952 1701.41 162.082 Q1701.41 169.188 1703.21 172.753 Q1705.04 176.295 1708.65 176.295 Q1712.29 176.295 1714.09 172.753 Q1715.92 169.188 1715.92 162.082 Q1715.92 154.952 1714.09 151.41 Q1712.29 147.846 1708.65 147.846 M1708.65 144.142 Q1714.46 144.142 1717.52 148.748 Q1720.6 153.332 1720.6 162.082 Q1720.6 170.808 1717.52 175.415 Q1714.46 179.998 1708.65 179.998 Q1702.84 179.998 1699.77 175.415 Q1696.71 170.808 1696.71 162.082 Q1696.71 153.332 1699.77 148.748 Q1702.84 144.142 1708.65 144.142 Z\" fill=\"#000000\" fill-rule=\"evenodd\" fill-opacity=\"1\" /><polyline clip-path=\"url(#clip274)\" style=\"stroke:#009af9; stroke-linecap:butt; stroke-linejoin:round; stroke-width:4; stroke-opacity:1; fill:none\" points=\"\n",
       "  1773.47,1447.87 1815.35,1447.87 1851.25,1289.62 1887.15,1047.84 1923.05,1047 1964.93,943.067 2000.83,891.153 2036.73,925.247 2072.63,925.247 2114.51,991.612 \n",
       "  2150.41,941.496 2186.31,962.656 2222.2,927.059 2264.09,933.543 2299.98,927.371 2335.88,921.297 \n",
       "  \"/>\n",
       "<circle clip-path=\"url(#clip274)\" cx=\"1773.47\" cy=\"1447.87\" r=\"14\" fill=\"#009af9\" fill-rule=\"evenodd\" fill-opacity=\"1\" stroke=\"#000000\" stroke-opacity=\"1\" stroke-width=\"3.2\"/>\n",
       "<circle clip-path=\"url(#clip274)\" cx=\"1815.35\" cy=\"1447.87\" r=\"14\" fill=\"#009af9\" fill-rule=\"evenodd\" fill-opacity=\"1\" stroke=\"#000000\" stroke-opacity=\"1\" stroke-width=\"3.2\"/>\n",
       "<circle clip-path=\"url(#clip274)\" cx=\"1851.25\" cy=\"1289.62\" r=\"14\" fill=\"#009af9\" fill-rule=\"evenodd\" fill-opacity=\"1\" stroke=\"#000000\" stroke-opacity=\"1\" stroke-width=\"3.2\"/>\n",
       "<circle clip-path=\"url(#clip274)\" cx=\"1887.15\" cy=\"1047.84\" r=\"14\" fill=\"#009af9\" fill-rule=\"evenodd\" fill-opacity=\"1\" stroke=\"#000000\" stroke-opacity=\"1\" stroke-width=\"3.2\"/>\n",
       "<circle clip-path=\"url(#clip274)\" cx=\"1923.05\" cy=\"1047\" r=\"14\" fill=\"#009af9\" fill-rule=\"evenodd\" fill-opacity=\"1\" stroke=\"#000000\" stroke-opacity=\"1\" stroke-width=\"3.2\"/>\n",
       "<circle clip-path=\"url(#clip274)\" cx=\"1964.93\" cy=\"943.067\" r=\"14\" fill=\"#009af9\" fill-rule=\"evenodd\" fill-opacity=\"1\" stroke=\"#000000\" stroke-opacity=\"1\" stroke-width=\"3.2\"/>\n",
       "<circle clip-path=\"url(#clip274)\" cx=\"2000.83\" cy=\"891.153\" r=\"14\" fill=\"#009af9\" fill-rule=\"evenodd\" fill-opacity=\"1\" stroke=\"#000000\" stroke-opacity=\"1\" stroke-width=\"3.2\"/>\n",
       "<circle clip-path=\"url(#clip274)\" cx=\"2036.73\" cy=\"925.247\" r=\"14\" fill=\"#009af9\" fill-rule=\"evenodd\" fill-opacity=\"1\" stroke=\"#000000\" stroke-opacity=\"1\" stroke-width=\"3.2\"/>\n",
       "<circle clip-path=\"url(#clip274)\" cx=\"2072.63\" cy=\"925.247\" r=\"14\" fill=\"#009af9\" fill-rule=\"evenodd\" fill-opacity=\"1\" stroke=\"#000000\" stroke-opacity=\"1\" stroke-width=\"3.2\"/>\n",
       "<circle clip-path=\"url(#clip274)\" cx=\"2114.51\" cy=\"991.612\" r=\"14\" fill=\"#009af9\" fill-rule=\"evenodd\" fill-opacity=\"1\" stroke=\"#000000\" stroke-opacity=\"1\" stroke-width=\"3.2\"/>\n",
       "<circle clip-path=\"url(#clip274)\" cx=\"2150.41\" cy=\"941.496\" r=\"14\" fill=\"#009af9\" fill-rule=\"evenodd\" fill-opacity=\"1\" stroke=\"#000000\" stroke-opacity=\"1\" stroke-width=\"3.2\"/>\n",
       "<circle clip-path=\"url(#clip274)\" cx=\"2186.31\" cy=\"962.656\" r=\"14\" fill=\"#009af9\" fill-rule=\"evenodd\" fill-opacity=\"1\" stroke=\"#000000\" stroke-opacity=\"1\" stroke-width=\"3.2\"/>\n",
       "<circle clip-path=\"url(#clip274)\" cx=\"2222.2\" cy=\"927.059\" r=\"14\" fill=\"#009af9\" fill-rule=\"evenodd\" fill-opacity=\"1\" stroke=\"#000000\" stroke-opacity=\"1\" stroke-width=\"3.2\"/>\n",
       "<circle clip-path=\"url(#clip274)\" cx=\"2264.09\" cy=\"933.543\" r=\"14\" fill=\"#009af9\" fill-rule=\"evenodd\" fill-opacity=\"1\" stroke=\"#000000\" stroke-opacity=\"1\" stroke-width=\"3.2\"/>\n",
       "<circle clip-path=\"url(#clip274)\" cx=\"2299.98\" cy=\"927.371\" r=\"14\" fill=\"#009af9\" fill-rule=\"evenodd\" fill-opacity=\"1\" stroke=\"#000000\" stroke-opacity=\"1\" stroke-width=\"3.2\"/>\n",
       "<circle clip-path=\"url(#clip274)\" cx=\"2335.88\" cy=\"921.297\" r=\"14\" fill=\"#009af9\" fill-rule=\"evenodd\" fill-opacity=\"1\" stroke=\"#000000\" stroke-opacity=\"1\" stroke-width=\"3.2\"/>\n",
       "<polyline clip-path=\"url(#clip274)\" style=\"stroke:#e26f46; stroke-linecap:butt; stroke-linejoin:round; stroke-width:4; stroke-opacity:1; fill:none\" points=\"\n",
       "  1773.47,894.968 1815.35,865.868 1851.25,825.533 1887.15,826.39 1923.05,773.923 1964.93,882.11 2000.83,999.671 2036.73,910.164 2072.63,910.164 2114.51,723.135 \n",
       "  2150.41,853.733 2186.31,702.094 2222.2,823.329 2264.09,547.795 2299.98,162.047 \n",
       "  \"/>\n",
       "<circle clip-path=\"url(#clip274)\" cx=\"1773.47\" cy=\"894.968\" r=\"14\" fill=\"#e26f46\" fill-rule=\"evenodd\" fill-opacity=\"1\" stroke=\"#000000\" stroke-opacity=\"1\" stroke-width=\"3.2\"/>\n",
       "<circle clip-path=\"url(#clip274)\" cx=\"1815.35\" cy=\"865.868\" r=\"14\" fill=\"#e26f46\" fill-rule=\"evenodd\" fill-opacity=\"1\" stroke=\"#000000\" stroke-opacity=\"1\" stroke-width=\"3.2\"/>\n",
       "<circle clip-path=\"url(#clip274)\" cx=\"1851.25\" cy=\"825.533\" r=\"14\" fill=\"#e26f46\" fill-rule=\"evenodd\" fill-opacity=\"1\" stroke=\"#000000\" stroke-opacity=\"1\" stroke-width=\"3.2\"/>\n",
       "<circle clip-path=\"url(#clip274)\" cx=\"1887.15\" cy=\"826.39\" r=\"14\" fill=\"#e26f46\" fill-rule=\"evenodd\" fill-opacity=\"1\" stroke=\"#000000\" stroke-opacity=\"1\" stroke-width=\"3.2\"/>\n",
       "<circle clip-path=\"url(#clip274)\" cx=\"1923.05\" cy=\"773.923\" r=\"14\" fill=\"#e26f46\" fill-rule=\"evenodd\" fill-opacity=\"1\" stroke=\"#000000\" stroke-opacity=\"1\" stroke-width=\"3.2\"/>\n",
       "<circle clip-path=\"url(#clip274)\" cx=\"1964.93\" cy=\"882.11\" r=\"14\" fill=\"#e26f46\" fill-rule=\"evenodd\" fill-opacity=\"1\" stroke=\"#000000\" stroke-opacity=\"1\" stroke-width=\"3.2\"/>\n",
       "<circle clip-path=\"url(#clip274)\" cx=\"2000.83\" cy=\"999.671\" r=\"14\" fill=\"#e26f46\" fill-rule=\"evenodd\" fill-opacity=\"1\" stroke=\"#000000\" stroke-opacity=\"1\" stroke-width=\"3.2\"/>\n",
       "<circle clip-path=\"url(#clip274)\" cx=\"2036.73\" cy=\"910.164\" r=\"14\" fill=\"#e26f46\" fill-rule=\"evenodd\" fill-opacity=\"1\" stroke=\"#000000\" stroke-opacity=\"1\" stroke-width=\"3.2\"/>\n",
       "<circle clip-path=\"url(#clip274)\" cx=\"2072.63\" cy=\"910.164\" r=\"14\" fill=\"#e26f46\" fill-rule=\"evenodd\" fill-opacity=\"1\" stroke=\"#000000\" stroke-opacity=\"1\" stroke-width=\"3.2\"/>\n",
       "<circle clip-path=\"url(#clip274)\" cx=\"2114.51\" cy=\"723.135\" r=\"14\" fill=\"#e26f46\" fill-rule=\"evenodd\" fill-opacity=\"1\" stroke=\"#000000\" stroke-opacity=\"1\" stroke-width=\"3.2\"/>\n",
       "<circle clip-path=\"url(#clip274)\" cx=\"2150.41\" cy=\"853.733\" r=\"14\" fill=\"#e26f46\" fill-rule=\"evenodd\" fill-opacity=\"1\" stroke=\"#000000\" stroke-opacity=\"1\" stroke-width=\"3.2\"/>\n",
       "<circle clip-path=\"url(#clip274)\" cx=\"2186.31\" cy=\"702.094\" r=\"14\" fill=\"#e26f46\" fill-rule=\"evenodd\" fill-opacity=\"1\" stroke=\"#000000\" stroke-opacity=\"1\" stroke-width=\"3.2\"/>\n",
       "<circle clip-path=\"url(#clip274)\" cx=\"2222.2\" cy=\"823.329\" r=\"14\" fill=\"#e26f46\" fill-rule=\"evenodd\" fill-opacity=\"1\" stroke=\"#000000\" stroke-opacity=\"1\" stroke-width=\"3.2\"/>\n",
       "<circle clip-path=\"url(#clip274)\" cx=\"2264.09\" cy=\"547.795\" r=\"14\" fill=\"#e26f46\" fill-rule=\"evenodd\" fill-opacity=\"1\" stroke=\"#000000\" stroke-opacity=\"1\" stroke-width=\"3.2\"/>\n",
       "<circle clip-path=\"url(#clip274)\" cx=\"2299.98\" cy=\"162.047\" r=\"14\" fill=\"#e26f46\" fill-rule=\"evenodd\" fill-opacity=\"1\" stroke=\"#000000\" stroke-opacity=\"1\" stroke-width=\"3.2\"/>\n",
       "<path clip-path=\"url(#clip270)\" d=\"\n",
       "M2025.21 1441.02 L2332.88 1441.02 L2332.88 1285.5 L2025.21 1285.5  Z\n",
       "  \" fill=\"#ffffff\" fill-rule=\"evenodd\" fill-opacity=\"1\"/>\n",
       "<polyline clip-path=\"url(#clip270)\" style=\"stroke:#000000; stroke-linecap:butt; stroke-linejoin:round; stroke-width:4; stroke-opacity:1; fill:none\" points=\"\n",
       "  2025.21,1441.02 2332.88,1441.02 2332.88,1285.5 2025.21,1285.5 2025.21,1441.02 \n",
       "  \"/>\n",
       "<polyline clip-path=\"url(#clip270)\" style=\"stroke:#009af9; stroke-linecap:butt; stroke-linejoin:round; stroke-width:4; stroke-opacity:1; fill:none\" points=\"\n",
       "  2031.83,1337.34 2071.58,1337.34 \n",
       "  \"/>\n",
       "<circle clip-path=\"url(#clip270)\" cx=\"2051.71\" cy=\"1337.34\" r=\"23\" fill=\"#009af9\" fill-rule=\"evenodd\" fill-opacity=\"1\" stroke=\"#000000\" stroke-opacity=\"1\" stroke-width=\"5.12\"/>\n",
       "<path clip-path=\"url(#clip270)\" d=\"M2078.2 1320.06 L2107.44 1320.06 L2107.44 1323.99 L2095.17 1323.99 L2095.17 1354.62 L2090.47 1354.62 L2090.47 1323.99 L2078.2 1323.99 L2078.2 1320.06 Z\" fill=\"#000000\" fill-rule=\"evenodd\" fill-opacity=\"1\" /><path clip-path=\"url(#clip270)\" d=\"M2122 1318.64 Q2118.9 1323.97 2117.39 1329.18 Q2115.89 1334.38 2115.89 1339.73 Q2115.89 1345.08 2117.39 1350.33 Q2118.92 1355.56 2122 1360.87 L2118.29 1360.87 Q2114.82 1355.43 2113.09 1350.17 Q2111.37 1344.92 2111.37 1339.73 Q2111.37 1334.57 2113.09 1329.34 Q2114.8 1324.11 2118.29 1318.64 L2122 1318.64 Z\" fill=\"#000000\" fill-rule=\"evenodd\" fill-opacity=\"1\" /><path clip-path=\"url(#clip270)\" d=\"M2147.6 1324.89 L2147.6 1337.79 L2160.49 1337.79 L2160.49 1341.72 L2147.6 1341.72 L2147.6 1354.62 L2143.71 1354.62 L2143.71 1341.72 L2130.82 1341.72 L2130.82 1337.79 L2143.71 1337.79 L2143.71 1324.89 L2147.6 1324.89 Z\" fill=\"#000000\" fill-rule=\"evenodd\" fill-opacity=\"1\" /><path clip-path=\"url(#clip270)\" d=\"M2202.92 1338.71 L2202.92 1340.8 L2193.83 1349.89 L2191.05 1347.12 L2196.44 1341.72 L2168.22 1341.72 L2168.22 1337.79 L2196.44 1337.79 L2191.05 1332.39 L2193.83 1329.62 L2202.92 1338.71 Z\" fill=\"#000000\" fill-rule=\"evenodd\" fill-opacity=\"1\" /><path clip-path=\"url(#clip270)\" d=\"M2209.89 1320.06 L2216.19 1320.06 L2231.51 1348.97 L2231.51 1320.06 L2236.05 1320.06 L2236.05 1354.62 L2229.75 1354.62 L2214.43 1325.7 L2214.43 1354.62 L2209.89 1354.62 L2209.89 1320.06 Z\" fill=\"#000000\" fill-rule=\"evenodd\" fill-opacity=\"1\" /><path clip-path=\"url(#clip270)\" d=\"M2256.95 1341.58 Q2251.79 1341.58 2249.8 1342.76 Q2247.81 1343.94 2247.81 1346.79 Q2247.81 1349.06 2249.29 1350.4 Q2250.79 1351.72 2253.36 1351.72 Q2256.9 1351.72 2259.03 1349.22 Q2261.19 1346.7 2261.19 1342.53 L2261.19 1341.58 L2256.95 1341.58 M2265.45 1339.82 L2265.45 1354.62 L2261.19 1354.62 L2261.19 1350.68 Q2259.73 1353.04 2257.55 1354.18 Q2255.38 1355.29 2252.23 1355.29 Q2248.25 1355.29 2245.89 1353.06 Q2243.55 1350.82 2243.55 1347.07 Q2243.55 1342.69 2246.47 1340.47 Q2249.4 1338.25 2255.22 1338.25 L2261.19 1338.25 L2261.19 1337.83 Q2261.19 1334.89 2259.24 1333.3 Q2257.32 1331.68 2253.83 1331.68 Q2251.6 1331.68 2249.5 1332.21 Q2247.39 1332.74 2245.45 1333.81 L2245.45 1329.87 Q2247.78 1328.97 2249.98 1328.53 Q2252.18 1328.06 2254.27 1328.06 Q2259.89 1328.06 2262.67 1330.98 Q2265.45 1333.9 2265.45 1339.82 Z\" fill=\"#000000\" fill-rule=\"evenodd\" fill-opacity=\"1\" /><path clip-path=\"url(#clip270)\" d=\"M2274.4 1320.06 L2280.7 1320.06 L2296.03 1348.97 L2296.03 1320.06 L2300.56 1320.06 L2300.56 1354.62 L2294.27 1354.62 L2278.94 1325.7 L2278.94 1354.62 L2274.4 1354.62 L2274.4 1320.06 Z\" fill=\"#000000\" fill-rule=\"evenodd\" fill-opacity=\"1\" /><path clip-path=\"url(#clip270)\" d=\"M2309.01 1318.64 L2312.71 1318.64 Q2316.19 1324.11 2317.9 1329.34 Q2319.64 1334.57 2319.64 1339.73 Q2319.64 1344.92 2317.9 1350.17 Q2316.19 1355.43 2312.71 1360.87 L2309.01 1360.87 Q2312.09 1355.56 2313.59 1350.33 Q2315.12 1345.08 2315.12 1339.73 Q2315.12 1334.38 2313.59 1329.18 Q2312.09 1323.97 2309.01 1318.64 Z\" fill=\"#000000\" fill-rule=\"evenodd\" fill-opacity=\"1\" /><polyline clip-path=\"url(#clip270)\" style=\"stroke:#e26f46; stroke-linecap:butt; stroke-linejoin:round; stroke-width:4; stroke-opacity:1; fill:none\" points=\"\n",
       "  2031.83,1389.18 2071.58,1389.18 \n",
       "  \"/>\n",
       "<circle clip-path=\"url(#clip270)\" cx=\"2051.71\" cy=\"1389.18\" r=\"23\" fill=\"#e26f46\" fill-rule=\"evenodd\" fill-opacity=\"1\" stroke=\"#000000\" stroke-opacity=\"1\" stroke-width=\"5.12\"/>\n",
       "<path clip-path=\"url(#clip270)\" d=\"M2078.2 1371.9 L2107.44 1371.9 L2107.44 1375.83 L2095.17 1375.83 L2095.17 1406.46 L2090.47 1406.46 L2090.47 1375.83 L2078.2 1375.83 L2078.2 1371.9 Z\" fill=\"#000000\" fill-rule=\"evenodd\" fill-opacity=\"1\" /><path clip-path=\"url(#clip270)\" d=\"M2122 1370.48 Q2118.9 1375.81 2117.39 1381.02 Q2115.89 1386.22 2115.89 1391.57 Q2115.89 1396.92 2117.39 1402.17 Q2118.92 1407.4 2122 1412.71 L2118.29 1412.71 Q2114.82 1407.27 2113.09 1402.01 Q2111.37 1396.76 2111.37 1391.57 Q2111.37 1386.41 2113.09 1381.18 Q2114.8 1375.95 2118.29 1370.48 L2122 1370.48 Z\" fill=\"#000000\" fill-rule=\"evenodd\" fill-opacity=\"1\" /><path clip-path=\"url(#clip270)\" d=\"M2130.82 1389.63 L2160.49 1389.63 L2160.49 1393.56 L2130.82 1393.56 L2130.82 1389.63 Z\" fill=\"#000000\" fill-rule=\"evenodd\" fill-opacity=\"1\" /><path clip-path=\"url(#clip270)\" d=\"M2202.92 1390.55 L2202.92 1392.64 L2193.83 1401.73 L2191.05 1398.96 L2196.44 1393.56 L2168.22 1393.56 L2168.22 1389.63 L2196.44 1389.63 L2191.05 1384.23 L2193.83 1381.46 L2202.92 1390.55 Z\" fill=\"#000000\" fill-rule=\"evenodd\" fill-opacity=\"1\" /><path clip-path=\"url(#clip270)\" d=\"M2209.89 1371.9 L2216.19 1371.9 L2231.51 1400.81 L2231.51 1371.9 L2236.05 1371.9 L2236.05 1406.46 L2229.75 1406.46 L2214.43 1377.54 L2214.43 1406.46 L2209.89 1406.46 L2209.89 1371.9 Z\" fill=\"#000000\" fill-rule=\"evenodd\" fill-opacity=\"1\" /><path clip-path=\"url(#clip270)\" d=\"M2256.95 1393.42 Q2251.79 1393.42 2249.8 1394.6 Q2247.81 1395.78 2247.81 1398.63 Q2247.81 1400.9 2249.29 1402.24 Q2250.79 1403.56 2253.36 1403.56 Q2256.9 1403.56 2259.03 1401.06 Q2261.19 1398.54 2261.19 1394.37 L2261.19 1393.42 L2256.95 1393.42 M2265.45 1391.66 L2265.45 1406.46 L2261.19 1406.46 L2261.19 1402.52 Q2259.73 1404.88 2257.55 1406.02 Q2255.38 1407.13 2252.23 1407.13 Q2248.25 1407.13 2245.89 1404.9 Q2243.55 1402.66 2243.55 1398.91 Q2243.55 1394.53 2246.47 1392.31 Q2249.4 1390.09 2255.22 1390.09 L2261.19 1390.09 L2261.19 1389.67 Q2261.19 1386.73 2259.24 1385.14 Q2257.32 1383.52 2253.83 1383.52 Q2251.6 1383.52 2249.5 1384.05 Q2247.39 1384.58 2245.45 1385.65 L2245.45 1381.71 Q2247.78 1380.81 2249.98 1380.37 Q2252.18 1379.9 2254.27 1379.9 Q2259.89 1379.9 2262.67 1382.82 Q2265.45 1385.74 2265.45 1391.66 Z\" fill=\"#000000\" fill-rule=\"evenodd\" fill-opacity=\"1\" /><path clip-path=\"url(#clip270)\" d=\"M2274.4 1371.9 L2280.7 1371.9 L2296.03 1400.81 L2296.03 1371.9 L2300.56 1371.9 L2300.56 1406.46 L2294.27 1406.46 L2278.94 1377.54 L2278.94 1406.46 L2274.4 1406.46 L2274.4 1371.9 Z\" fill=\"#000000\" fill-rule=\"evenodd\" fill-opacity=\"1\" /><path clip-path=\"url(#clip270)\" d=\"M2309.01 1370.48 L2312.71 1370.48 Q2316.19 1375.95 2317.9 1381.18 Q2319.64 1386.41 2319.64 1391.57 Q2319.64 1396.76 2317.9 1402.01 Q2316.19 1407.27 2312.71 1412.71 L2309.01 1412.71 Q2312.09 1407.4 2313.59 1402.17 Q2315.12 1396.92 2315.12 1391.57 Q2315.12 1386.22 2313.59 1381.02 Q2312.09 1375.81 2309.01 1370.48 Z\" fill=\"#000000\" fill-rule=\"evenodd\" fill-opacity=\"1\" /></svg>\n"
      ]
     },
     "metadata": {},
     "output_type": "display_data"
    }
   ],
   "source": [
    "points = 16\n",
    "\n",
    "chosen_ths = [0:points-1...] ./ points\n",
    "inds = [findfirst(ths .>= chosen_ths[i]) for i in 1:length(chosen_ths)]\n",
    "\n",
    "p1 = plot(ths[inds], bal_to_bals3[inds], markershape = :circle, label = \"T(+→+)\", legend = :bottomright)\n",
    "plot!(ths[inds], ubal_to_bals3[inds], markershape = :circle, label = \"T(−→+)\") \n",
    "p2 = plot(ths[inds], bal_to_ubals3[inds], markershape = :circle, label = \"T(+→−)\", legend = :bottomright)\n",
    "plot!(ths[inds], ubal_to_ubals3[inds], markershape = :circle, label = \"T(−→−)\") \n",
    "\n",
    "p3 = plot(ths[inds], bal_to_nots3[inds], markershape = :circle, label = \"T(+→NaN)\", legend = :bottomright)\n",
    "plot!(ths[inds], ubal_to_nots3[inds], markershape = :circle, label = \"T(−→NaN)\") \n",
    "\n",
    "# plot!(p1, legend = :outertopright)\n",
    "# plot!(p1, legend = :outerbottom)\n",
    "# plot!(p2, legend = false)\n",
    "# plot!(p3, legend = false)\n",
    "title!(p2, \"Including NaNs\")\n",
    "plot(p1, p2, p3, layout = (1,3))\n",
    "\n"
   ]
  },
  {
   "cell_type": "code",
   "execution_count": 117,
   "metadata": {},
   "outputs": [
    {
     "data": {
      "text/plain": [
       "16-element Vector{Float64}:\n",
       "   0.47500000000000003\n",
       "   0.45614035087719296\n",
       "   0.43000000000000005\n",
       "   0.4305555555555556\n",
       "   0.39655172413793105\n",
       "   0.4666666666666667\n",
       "   0.5428571428571429\n",
       "   0.48484848484848486\n",
       "   0.48484848484848486\n",
       "   0.36363636363636365\n",
       "   0.4482758620689655\n",
       "   0.35\n",
       "   0.42857142857142855\n",
       "   0.25\n",
       "   0.0\n",
       " NaN"
      ]
     },
     "metadata": {},
     "output_type": "display_data"
    }
   ],
   "source": [
    "ubal_to_ubals3[inds] + ubal_to_bals3[inds]"
   ]
  }
 ],
 "metadata": {
  "kernelspec": {
   "display_name": "Julia 1.6.4",
   "language": "julia",
   "name": "julia-1.6"
  },
  "language_info": {
   "file_extension": ".jl",
   "mimetype": "application/julia",
   "name": "julia",
   "version": "1.6.4"
  },
  "orig_nbformat": 4
 },
 "nbformat": 4,
 "nbformat_minor": 2
}

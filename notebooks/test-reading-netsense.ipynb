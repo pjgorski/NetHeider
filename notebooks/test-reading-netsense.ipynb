{
 "cells": [
  {
   "cell_type": "code",
   "execution_count": 2,
   "metadata": {},
   "outputs": [
    {
     "data": {
      "text/plain": [
       "PyObject <function load_pickle at 0x7f060cabd700>"
      ]
     },
     "metadata": {},
     "output_type": "display_data"
    }
   ],
   "source": [
    "using PyCall\n",
    "\n",
    "using DrWatson\n",
    "quickactivate(@__DIR__)\n",
    "\n",
    "py\"\"\"\n",
    "import pickle\n",
    " \n",
    "def load_pickle(fpath):\n",
    "    with open(fpath, \"rb\") as f:\n",
    "        data = pickle.load(f)\n",
    "    return data\n",
    "\"\"\"\n",
    "\n",
    "load_pickle = py\"load_pickle\""
   ]
  },
  {
   "cell_type": "code",
   "execution_count": 3,
   "metadata": {},
   "outputs": [
    {
     "data": {
      "text/plain": [
       "Dict{Any, Any} with 6 entries:\n",
       "  5 => PyObject <networkx.classes.graph.Graph object at 0x7f05fa670a90>\n",
       "  4 => PyObject <networkx.classes.graph.Graph object at 0x7f05fa6b5e50>\n",
       "  6 => PyObject <networkx.classes.graph.Graph object at 0x7f05fa632d90>\n",
       "  2 => PyObject <networkx.classes.graph.Graph object at 0x7f05fa7325b0>\n",
       "  3 => PyObject <networkx.classes.graph.Graph object at 0x7f05fa67a1f0>\n",
       "  1 => PyObject <networkx.classes.graph.Graph object at 0x7f060cd87940>"
      ]
     },
     "metadata": {},
     "output_type": "display_data"
    }
   ],
   "source": [
    "fname = datadir(\"exp_pro\", \"NetSense_network.pkl\")\n",
    "file = load_pickle(fname)"
   ]
  },
  {
   "cell_type": "code",
   "execution_count": 7,
   "metadata": {},
   "outputs": [],
   "source": [
    "#works! (shows a lot without semicolon)\n",
    "file[1].nodes.data();\n"
   ]
  },
  {
   "cell_type": "code",
   "execution_count": 8,
   "metadata": {},
   "outputs": [
    {
     "data": {
      "text/plain": [
       "PyObject <function get_adjacency_matrix at 0x7f05fa706c10>"
      ]
     },
     "metadata": {},
     "output_type": "display_data"
    }
   ],
   "source": [
    "py\"\"\"\n",
    "import networkx as nx\n",
    "def get_triads(net):\n",
    "    A = nx.adjacency_matrix(net).todense() \n",
    "\n",
    "    N = A.shape[0]\n",
    "\n",
    "    triads = []\n",
    "\n",
    "    for i in range(0,N):\n",
    "        for j in range(i+1,N):\n",
    "            if A[i,j] > 0:\n",
    "                for k in range(j+1,N):\n",
    "                    if A[i,k] > 0 and A[j,k] > 0:\n",
    "                        triads.append((i,j,k))\n",
    "    \n",
    "    return triads\n",
    "\n",
    "def get_adjacency_matrix(net):\n",
    "    return nx.adjacency_matrix(net).todense() \n",
    "\"\"\"\n",
    "\n",
    "get_triads = py\"get_triads\"\n",
    "get_adjacency_matrix = py\"get_adjacency_matrix\""
   ]
  },
  {
   "cell_type": "code",
   "execution_count": 9,
   "metadata": {},
   "outputs": [
    {
     "data": {
      "text/plain": [
       "45-element Vector{Tuple{Int64, Int64, Int64}}:\n",
       " (0, 1, 3)\n",
       " (0, 3, 4)\n",
       " (1, 2, 3)\n",
       " (2, 3, 4)\n",
       " (3, 8, 15)\n",
       " (4, 69, 94)\n",
       " (5, 7, 8)\n",
       " (5, 7, 17)\n",
       " (5, 7, 41)\n",
       " (5, 7, 43)\n",
       " ⋮\n",
       " (12, 53, 80)\n",
       " (12, 59, 62)\n",
       " (13, 14, 50)\n",
       " (15, 19, 20)\n",
       " (17, 44, 77)\n",
       " (21, 22, 23)\n",
       " (35, 36, 83)\n",
       " (53, 59, 62)\n",
       " (53, 62, 74)"
      ]
     },
     "metadata": {},
     "output_type": "display_data"
    }
   ],
   "source": [
    "get_triads(file[1])"
   ]
  },
  {
   "cell_type": "code",
   "execution_count": 10,
   "metadata": {},
   "outputs": [
    {
     "data": {
      "text/plain": [
       "98×98 Matrix{Int64}:\n",
       "  0  11    0    4   2   0   0   0   0  …  0  0  0   0   0  0   0  0  0  0  0\n",
       " 11   0   61    8   0   0   0   0   0     0  0  0   0   0  0   0  0  0  0  0\n",
       "  0  61    0  193  19   0   0   0   0     0  0  0   0   0  0   0  0  0  0  0\n",
       "  4   8  193    0   5   0   0   0   8     0  0  0   0   0  0   0  0  0  0  0\n",
       "  2   0   19    5   0   0   0   7   0     0  0  0   0   0  0   0  1  0  0  0\n",
       "  0   0    0    0   0   0  18  36  49  …  0  0  0   0   0  0   0  0  0  0  0\n",
       "  0   0    0    0   0  18   0   0   0     0  0  0   0   0  0   0  2  0  0  0\n",
       "  0   0    0    0   7  36   0   0  81     0  0  0   0   0  0   0  0  0  0  0\n",
       "  0   0    0    8   0  49   0  81   0     0  0  0   0   0  0   0  0  0  0  0\n",
       "  0   0    0    0   0   0   0   0   0     0  0  0   0   0  0   0  0  0  0  0\n",
       "  ⋮                     ⋮              ⋱            ⋮                ⋮     \n",
       "  0   0    0    0   0   0   0   0   0     0  0  0   0   0  0   0  0  0  0  0\n",
       "  0   0    0    0   0   0   0   0   0  …  0  0  0   0  86  0   0  0  0  0  0\n",
       "  0   0    0    0   0   0   0   0   0     0  0  0  86   0  0  10  0  0  0  0\n",
       "  0   0    0    0   0   0   0   0   0     0  0  0   0   0  0   0  0  0  0  0\n",
       "  0   0    0    0   0   0   0   0   0     0  0  0   0  10  0   0  0  0  0  0\n",
       "  0   0    0    0   1   0   2   0   0     0  0  0   0   0  0   0  0  0  0  0\n",
       "  0   0    0    0   0   0   0   0   0  …  0  0  0   0   0  0   0  0  0  0  0\n",
       "  0   0    0    0   0   0   0   0   0     0  0  0   0   0  0   0  0  0  0  0\n",
       "  0   0    0    0   0   0   0   0   0     0  0  0   0   0  0   0  0  0  0  0"
      ]
     },
     "metadata": {},
     "output_type": "display_data"
    }
   ],
   "source": [
    "A = get_adjacency_matrix(file[1])"
   ]
  },
  {
   "cell_type": "code",
   "execution_count": 11,
   "metadata": {},
   "outputs": [
    {
     "data": {
      "text/plain": [
       "{98, 152} undirected simple Int64 graph"
      ]
     },
     "metadata": {},
     "output_type": "display_data"
    }
   ],
   "source": [
    "using LightGraphs\n",
    "\n",
    "net = Graph(A)"
   ]
  },
  {
   "cell_type": "code",
   "execution_count": 84,
   "metadata": {},
   "outputs": [
    {
     "data": {
      "text/plain": [
       "304"
      ]
     },
     "metadata": {},
     "output_type": "display_data"
    }
   ],
   "source": [
    "sum(A .> 0)"
   ]
  },
  {
   "cell_type": "code",
   "execution_count": 72,
   "metadata": {},
   "outputs": [
    {
     "data": {
      "text/plain": [
       "Dict{String, Set{Any}} with 12 entries:\n",
       "  \"premaritalsex_\" => Set([2, 3, 1])\n",
       "  \"ethnicity_1\"    => Set([4, 2, 3, 1])\n",
       "  \"hometown_1\"     => Set([2, 3, 1])\n",
       "  \"political_\"     => Set([2, 3, 1])\n",
       "  \"abortion_\"      => Set([2, 3, 1])\n",
       "  \"homosexual_\"    => Set([2, 3, 1])\n",
       "  \"marijuana_\"     => Set([2, 3, 1])\n",
       "  \"gender_1\"       => Set([2, 1])\n",
       "  \"gaymarriage_\"   => Set([2, 3, 1])\n",
       "  \"deathpen_\"      => Set([2, 3, 1])\n",
       "  \"euthanasia_\"    => Set([2, 3, 1])\n",
       "  \"age_1\"          => Set([2, 1])"
      ]
     },
     "metadata": {},
     "output_type": "display_data"
    }
   ],
   "source": [
    "#creating list of attributes\n",
    "list_of_attributes = Set([k for n in file[1].nodes for k in keys(file[1].nodes[n+1])])\n",
    "\n",
    "# creating possible attribute values\n",
    "attribute_values = Dict((attribute, Set() ) for attribute in list_of_attributes)\n",
    "\n",
    "for sem in 1:6\n",
    "    for node in file[sem].nodes()\n",
    "        for attribute in list_of_attributes\n",
    "            push!(attribute_values[attribute], convert(Int, file[sem].nodes[node + 1][attribute]))\n",
    "        end\n",
    "    end\n",
    "end\n",
    "\n",
    "attribute_values\n",
    "\n",
    "#To apply PCA or other analysis on all attributes (i.e. including ethnicity) \n",
    "#one would have to create an attribute for each race, that is is_1, is_2 etc. \n",
    "#Because this attribute is not ordered. "
   ]
  },
  {
   "cell_type": "code",
   "execution_count": 65,
   "metadata": {},
   "outputs": [
    {
     "data": {
      "text/plain": [
       "Dict{Int64, Matrix{Float64}} with 6 entries:\n",
       "  5 => [3.0 2.0 … 1.0 2.0; 3.0 3.0 … 2.0 3.0; … ; 1.0 3.0 … 1.0 3.0; 3.0 3.0 … …\n",
       "  4 => [1.0 1.0 … 1.0 1.0; 1.0 1.0 … 1.0 1.0; … ; 1.0 3.0 … 1.0 1.0; 1.0 1.0 … …\n",
       "  6 => [3.0 3.0 … 1.0 1.0; 1.0 1.0 … 1.0 1.0; … ; 3.0 3.0 … 2.0 3.0; 1.0 3.0 … …\n",
       "  2 => [1.0 1.0 … 1.0 1.0; 1.0 1.0 … 1.0 1.0; … ; 1.0 3.0 … 1.0 1.0; 2.0 2.0 … …\n",
       "  3 => [3.0 3.0 … 1.0 2.0; 1.0 1.0 … 1.0 1.0; … ; 3.0 1.0 … 4.0 2.0; 1.0 1.0 … …\n",
       "  1 => [3.0 3.0 … 2.0 1.0; 2.0 2.0 … 2.0 1.0; … ; 1.0 1.0 … 1.0 1.0; 3.0 3.0 … …"
      ]
     },
     "metadata": {},
     "output_type": "display_data"
    }
   ],
   "source": [
    "#creating table of attribute values\n",
    "attributes = Dict((i, zeros(length(file[i].nodes), length(list_of_attributes))) for i in 1:6)\n",
    "# for i in 1:6\n",
    "#     attributes[i] = zeros(length(file[i].nodes), length(list_of_attributes))\n",
    "# end\n",
    "\n",
    "for sem in 1:6\n",
    "    for (i, node) in enumerate(file[sem].nodes())\n",
    "        for (j, attribute) in enumerate(list_of_attributes)\n",
    "            attributes[sem][i,j] = file[sem].nodes[node + 1][attribute]\n",
    "        end\n",
    "    end\n",
    "end\n",
    "attributes"
   ]
  },
  {
   "cell_type": "code",
   "execution_count": 70,
   "metadata": {},
   "outputs": [
    {
     "data": {
      "text/plain": [
       "Set{String} with 8 elements:\n",
       "  \"abortion_\"\n",
       "  \"premaritalsex_\"\n",
       "  \"homosexual_\"\n",
       "  \"marijuana_\"\n",
       "  \"euthanasia_\"\n",
       "  \"gaymarriage_\"\n",
       "  \"deathpen_\"\n",
       "  \"political_\""
      ]
     },
     "metadata": {},
     "output_type": "display_data"
    }
   ],
   "source": [
    "setdiff(list_of_attributes, [\"ethnicity_1\", \"gender_1\", \"hometown_1\", \"age_1\"])"
   ]
  },
  {
   "cell_type": "code",
   "execution_count": 77,
   "metadata": {},
   "outputs": [
    {
     "name": "stdout",
     "output_type": "stream",
     "text": [
      "Set([\"abortion_\", \"premaritalsex_\", \"homosexual_\", \"marijuana_\", \"euthanasia_\", \"gaymarriage_\", \"deathpen_\", \"political_\"])"
     ]
    },
    {
     "data": {
      "text/plain": [
       "Dict{Int64, Matrix{Float64}} with 6 entries:\n",
       "  5 => [3.0 2.0 … 1.0 2.0; 3.0 3.0 … 2.0 3.0; … ; 1.0 3.0 … 1.0 3.0; 3.0 3.0 … …\n",
       "  4 => [1.0 1.0 … 1.0 1.0; 1.0 1.0 … 1.0 1.0; … ; 1.0 3.0 … 2.0 1.0; 1.0 1.0 … …\n",
       "  6 => [3.0 3.0 … 1.0 1.0; 1.0 1.0 … 1.0 1.0; … ; 3.0 3.0 … 3.0 3.0; 1.0 3.0 … …\n",
       "  2 => [1.0 1.0 … 1.0 1.0; 1.0 1.0 … 1.0 1.0; … ; 1.0 3.0 … 3.0 1.0; 2.0 2.0 … …\n",
       "  3 => [3.0 3.0 … 1.0 2.0; 1.0 1.0 … 1.0 1.0; … ; 3.0 1.0 … 1.0 2.0; 1.0 1.0 … …\n",
       "  1 => [3.0 3.0 … 3.0 1.0; 2.0 2.0 … 2.0 1.0; … ; 1.0 1.0 … 1.0 1.0; 3.0 3.0 … …"
      ]
     },
     "metadata": {},
     "output_type": "display_data"
    }
   ],
   "source": [
    "\n",
    "ord_list_of_attributes = setdiff(list_of_attributes, [\"ethnicity_1\", \"gender_1\", \"hometown_1\", \"age_1\"])\n",
    "print(ord_list_of_attributes)\n",
    "\n",
    "#creating table of attribute values\n",
    "ord_attributes = Dict((i, zeros(length(file[i].nodes), length(ord_list_of_attributes))) for i in 1:6)\n",
    "\n",
    "for sem in 1:6\n",
    "    for (i, node) in enumerate(file[sem].nodes())\n",
    "        for (j, attribute) in enumerate(ord_list_of_attributes)\n",
    "            ord_attributes[sem][i,j] = file[sem].nodes[node + 1][attribute]\n",
    "        end\n",
    "    end\n",
    "end\n",
    "# for sem in range(1,7):\n",
    "#     for i, node in enumerate(data[sem].nodes()):\n",
    "#         for j, attribute in enumerate(ord_list_of_attributes):\n",
    "#             ord_attributes[sem][i,j] = data[sem].nodes[node][attribute]\n",
    "ord_attributes"
   ]
  }
 ],
 "metadata": {
  "kernelspec": {
   "display_name": "Julia 1.6.4",
   "language": "julia",
   "name": "julia-1.6"
  },
  "language_info": {
   "file_extension": ".jl",
   "mimetype": "application/julia",
   "name": "julia",
   "version": "1.6.4"
  },
  "orig_nbformat": 4
 },
 "nbformat": 4,
 "nbformat_minor": 2
}

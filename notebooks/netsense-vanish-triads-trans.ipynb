{
 "cells": [
  {
   "cell_type": "code",
   "execution_count": 1,
   "metadata": {},
   "outputs": [],
   "source": [
    "using PyCall\n",
    "\n",
    "using DrWatson\n",
    "quickactivate(@__DIR__)\n",
    "\n",
    "include(projectdir(\"scripts\", \"notebooks_netsense_funs.jl\"))\n",
    "\n",
    "using CairoMakie"
   ]
  },
  {
   "cell_type": "code",
   "execution_count": 2,
   "metadata": {},
   "outputs": [
    {
     "data": {
      "text/plain": [
       "Dict{Any, Any} with 6 entries:\n",
       "  5 => PyObject <networkx.classes.graph.Graph object at 0x7f5048bc74f0>\n",
       "  4 => PyObject <networkx.classes.graph.Graph object at 0x7f5048c0c8b0>\n",
       "  6 => PyObject <networkx.classes.graph.Graph object at 0x7f5048b897f0>\n",
       "  2 => PyObject <networkx.classes.graph.Graph object at 0x7f5048c85fd0>\n",
       "  3 => PyObject <networkx.classes.graph.Graph object at 0x7f5048c4fc10>\n",
       "  1 => PyObject <networkx.classes.graph.Graph object at 0x7f507398d8b0>"
      ]
     },
     "metadata": {},
     "output_type": "display_data"
    }
   ],
   "source": [
    "fname = datadir(\"exp_pro\", \"NetSense_network.pkl\")\n",
    "file = load_pickle(fname)"
   ]
  },
  {
   "cell_type": "code",
   "execution_count": 3,
   "metadata": {},
   "outputs": [
    {
     "data": {
      "text/plain": [
       "98×98 Matrix{Int64}:\n",
       "  0  11    0    4   2   0   0   0   0  …  0  0  0   0   0  0   0  0  0  0  0\n",
       " 11   0   61    8   0   0   0   0   0     0  0  0   0   0  0   0  0  0  0  0\n",
       "  0  61    0  193  19   0   0   0   0     0  0  0   0   0  0   0  0  0  0  0\n",
       "  4   8  193    0   5   0   0   0   8     0  0  0   0   0  0   0  0  0  0  0\n",
       "  2   0   19    5   0   0   0   7   0     0  0  0   0   0  0   0  1  0  0  0\n",
       "  0   0    0    0   0   0  18  36  49  …  0  0  0   0   0  0   0  0  0  0  0\n",
       "  0   0    0    0   0  18   0   0   0     0  0  0   0   0  0   0  2  0  0  0\n",
       "  0   0    0    0   7  36   0   0  81     0  0  0   0   0  0   0  0  0  0  0\n",
       "  0   0    0    8   0  49   0  81   0     0  0  0   0   0  0   0  0  0  0  0\n",
       "  0   0    0    0   0   0   0   0   0     0  0  0   0   0  0   0  0  0  0  0\n",
       "  ⋮                     ⋮              ⋱            ⋮                ⋮     \n",
       "  0   0    0    0   0   0   0   0   0     0  0  0   0   0  0   0  0  0  0  0\n",
       "  0   0    0    0   0   0   0   0   0  …  0  0  0   0  86  0   0  0  0  0  0\n",
       "  0   0    0    0   0   0   0   0   0     0  0  0  86   0  0  10  0  0  0  0\n",
       "  0   0    0    0   0   0   0   0   0     0  0  0   0   0  0   0  0  0  0  0\n",
       "  0   0    0    0   0   0   0   0   0     0  0  0   0  10  0   0  0  0  0  0\n",
       "  0   0    0    0   1   0   2   0   0     0  0  0   0   0  0   0  0  0  0  0\n",
       "  0   0    0    0   0   0   0   0   0  …  0  0  0   0   0  0   0  0  0  0  0\n",
       "  0   0    0    0   0   0   0   0   0     0  0  0   0   0  0   0  0  0  0  0\n",
       "  0   0    0    0   0   0   0   0   0     0  0  0   0   0  0   0  0  0  0  0"
      ]
     },
     "metadata": {},
     "output_type": "display_data"
    }
   ],
   "source": [
    "As = [get_adjacency_matrix(file[i]) for i in 1:6]\n",
    "A1 = get_adjacency_matrix(file[1])\n",
    "A2 = As[2]\n",
    "A1"
   ]
  },
  {
   "cell_type": "code",
   "execution_count": 4,
   "metadata": {},
   "outputs": [],
   "source": [
    "nodes = get_all_nodes(file)\n",
    "Ws = create_series_adj_mat(file, nodes)\n",
    "As = [sign.(W) for W in Ws]\n",
    "\n",
    "all_triads = [get_triads2(As[i]) for i in 1:6];"
   ]
  },
  {
   "cell_type": "code",
   "execution_count": 5,
   "metadata": {},
   "outputs": [
    {
     "data": {
      "text/plain": [
       "60"
      ]
     },
     "metadata": {},
     "output_type": "display_data"
    },
    {
     "data": {
      "text/plain": [
       "6-element Vector{Matrix{Int64}}:\n",
       " [0 1 … 0 0; 1 0 … 0 0; … ; 0 0 … 0 0; 0 0 … 0 0]\n",
       " [0 0 … 0 0; 0 0 … 0 0; … ; 0 0 … 0 0; 0 0 … 0 0]\n",
       " [0 0 … 0 0; 0 0 … 0 0; … ; 0 0 … 0 0; 0 0 … 0 0]\n",
       " [0 0 … 0 0; 0 0 … 0 1; … ; 0 0 … 0 0; 0 1 … 0 0]\n",
       " [0 0 … 0 0; 0 0 … 0 0; … ; 0 0 … 0 0; 0 0 … 0 0]\n",
       " [0 0 … 0 0; 0 0 … 0 0; … ; 0 0 … 0 0; 0 0 … 0 0]"
      ]
     },
     "metadata": {},
     "output_type": "display_data"
    }
   ],
   "source": [
    "# Let's check how many people are in triads\n",
    "\n",
    "triad_nodes = sort(unique([node for triads in all_triads for triad in triads for node in triad]))\n",
    "display(length(triad_nodes))\n",
    "\n",
    "# There are only 60 nodes, so lets repeat above experiment with generating links only among these agents. \n",
    "# But first I need to count how many edges were added among those agents\n",
    "\n",
    "As2 = [As[i][triad_nodes, triad_nodes] for i in 1:6]"
   ]
  },
  {
   "cell_type": "markdown",
   "metadata": {},
   "source": [
    "## Let's count attribute changes now"
   ]
  },
  {
   "cell_type": "code",
   "execution_count": 6,
   "metadata": {},
   "outputs": [
    {
     "data": {
      "text/plain": [
       "Dict{String, Set{Any}} with 12 entries:\n",
       "  \"premaritalsex_\" => Set([2, 3, 1])\n",
       "  \"ethnicity_1\"    => Set([4, 2, 3, 1])\n",
       "  \"hometown_1\"     => Set([2, 3, 1])\n",
       "  \"political_\"     => Set([2, 3, 1])\n",
       "  \"abortion_\"      => Set([2, 3, 1])\n",
       "  \"homosexual_\"    => Set([2, 3, 1])\n",
       "  \"marijuana_\"     => Set([2, 3, 1])\n",
       "  \"gender_1\"       => Set([2, 1])\n",
       "  \"gaymarriage_\"   => Set([2, 3, 1])\n",
       "  \"deathpen_\"      => Set([2, 3, 1])\n",
       "  \"euthanasia_\"    => Set([2, 3, 1])\n",
       "  \"age_1\"          => Set([2, 1])"
      ]
     },
     "metadata": {},
     "output_type": "display_data"
    }
   ],
   "source": [
    "#creating list of attributes\n",
    "list_of_attributes = Set([k for n in file[1].nodes for k in keys(file[1].nodes[n+1])])\n",
    "\n",
    "# creating possible attribute values\n",
    "attribute_values = Dict((attribute, Set() ) for attribute in list_of_attributes)\n",
    "\n",
    "for sem in 1:6\n",
    "    for node in file[sem].nodes()\n",
    "        for attribute in list_of_attributes\n",
    "            push!(attribute_values[attribute], convert(Int, file[sem].nodes[node + 1][attribute]))\n",
    "        end\n",
    "    end\n",
    "end\n",
    "\n",
    "attribute_values\n",
    "\n",
    "#To apply PCA or other analysis on all attributes (i.e. including ethnicity) \n",
    "#one would have to create an attribute for each race, that is is_1, is_2 etc. \n",
    "#Because this attribute is not ordered. "
   ]
  },
  {
   "cell_type": "code",
   "execution_count": 7,
   "metadata": {},
   "outputs": [
    {
     "data": {
      "text/plain": [
       "Dict{Int64, Matrix{Float64}} with 6 entries:\n",
       "  5 => [3.0 3.0 … 2.0 1.0; 3.0 3.0 … 2.0 2.0; … ; NaN NaN … NaN NaN; 1.0 3.0 … …\n",
       "  4 => [3.0 3.0 … 2.0 1.0; 3.0 3.0 … 2.0 1.0; … ; 1.0 1.0 … 1.0 1.0; 1.0 3.0 … …\n",
       "  6 => [NaN NaN … NaN NaN; 3.0 3.0 … 2.0 2.0; … ; NaN NaN … NaN NaN; NaN NaN … …\n",
       "  2 => [NaN NaN … NaN NaN; 3.0 3.0 … 2.0 2.0; … ; NaN NaN … NaN NaN; NaN NaN … …\n",
       "  3 => [3.0 3.0 … 2.0 1.0; 3.0 1.0 … 2.0 2.0; … ; NaN NaN … NaN NaN; NaN NaN … …\n",
       "  1 => [3.0 3.0 … 2.0 1.0; 2.0 2.0 … 2.0 1.0; … ; NaN NaN … NaN NaN; NaN NaN … …"
      ]
     },
     "metadata": {},
     "output_type": "display_data"
    }
   ],
   "source": [
    "#creating table of attribute values\n",
    "attributes = Dict((i, zeros(length(nodes), length(list_of_attributes))) for i in 1:6)\n",
    "# for i in 1:6\n",
    "#     attributes[i] = zeros(length(file[i].nodes), length(list_of_attributes))\n",
    "# end\n",
    "\n",
    "for sem in 1:6\n",
    "    for (i, node) in enumerate(nodes)\n",
    "        for (j, attribute) in enumerate(list_of_attributes)\n",
    "            if node in file[sem].nodes()\n",
    "                attributes[sem][i,j] = file[sem].nodes[node + 1][attribute]\n",
    "            else\n",
    "                attributes[sem][i,j] = NaN\n",
    "            end\n",
    "        end\n",
    "    end\n",
    "end\n",
    "attributes"
   ]
  },
  {
   "cell_type": "code",
   "execution_count": 8,
   "metadata": {},
   "outputs": [
    {
     "name": "stdout",
     "output_type": "stream",
     "text": [
      "Set([\"abortion_\", \"premaritalsex_\", \"homosexual_\", \"marijuana_\", \"euthanasia_\", \"gaymarriage_\", \"deathpen_\", \"political_\"])"
     ]
    },
    {
     "data": {
      "text/plain": [
       "Dict{Int64, Matrix{Float64}} with 6 entries:\n",
       "  5 => [3.0 3.0 … 3.0 1.0; 3.0 3.0 … 3.0 2.0; … ; NaN NaN … NaN NaN; 1.0 3.0 … …\n",
       "  4 => [3.0 3.0 … 3.0 1.0; 3.0 3.0 … 1.0 1.0; … ; 1.0 1.0 … 3.0 1.0; 1.0 3.0 … …\n",
       "  6 => [NaN NaN … NaN NaN; 3.0 3.0 … 3.0 2.0; … ; NaN NaN … NaN NaN; NaN NaN … …\n",
       "  2 => [NaN NaN … NaN NaN; 3.0 3.0 … 1.0 2.0; … ; NaN NaN … NaN NaN; NaN NaN … …\n",
       "  3 => [3.0 3.0 … 3.0 1.0; 3.0 1.0 … 1.0 2.0; … ; NaN NaN … NaN NaN; NaN NaN … …\n",
       "  1 => [3.0 3.0 … 3.0 1.0; 2.0 2.0 … 2.0 1.0; … ; NaN NaN … NaN NaN; NaN NaN … …"
      ]
     },
     "metadata": {},
     "output_type": "display_data"
    }
   ],
   "source": [
    "\n",
    "ord_list_of_attributes = setdiff(list_of_attributes, [\"ethnicity_1\", \"gender_1\", \"hometown_1\", \"age_1\"])\n",
    "print(ord_list_of_attributes)\n",
    "\n",
    "#creating table of attribute values\n",
    "ord_attributes = Dict((i, zeros(length(nodes), length(ord_list_of_attributes))) for i in 1:6)\n",
    "\n",
    "for sem in 1:6\n",
    "    for (i, node) in enumerate(nodes)\n",
    "        for (j, attribute) in enumerate(ord_list_of_attributes)\n",
    "            if node in file[sem].nodes()\n",
    "                ord_attributes[sem][i,j] = file[sem].nodes[node + 1][attribute]\n",
    "            else\n",
    "                ord_attributes[sem][i,j] = NaN\n",
    "            end\n",
    "        end\n",
    "    end\n",
    "end\n",
    "# for sem in range(1,7):\n",
    "#     for i, node in enumerate(data[sem].nodes()):\n",
    "#         for j, attribute in enumerate(ord_list_of_attributes):\n",
    "#             ord_attributes[sem][i,j] = data[sem].nodes[node][attribute]\n",
    "ord_attributes"
   ]
  },
  {
   "cell_type": "markdown",
   "metadata": {},
   "source": [
    "## Let us calculate triad transitions including nans"
   ]
  },
  {
   "cell_type": "code",
   "execution_count": 9,
   "metadata": {},
   "outputs": [],
   "source": [
    "ths = [0:0.01:1...]\n",
    "bal_to_bals = []\n",
    "ubal_to_bals = []\n",
    "bal_to_bals2 = []\n",
    "ubal_to_bals2 = []\n",
    "bal_to_bals3 = []\n",
    "ubal_to_bals3 = []\n",
    "bal_to_ubals3 = []\n",
    "ubal_to_ubals3 = []\n",
    "bal_to_nots3 = []\n",
    "ubal_to_nots3 = []\n",
    "\n",
    "for th in ths\n",
    "    res = get_triad_transitions(all_triads, th, ord_attributes; all_triads_list = [] )\n",
    "    bal_to_bal = res[1][1,1] / sum(res[1][1,1:2])\n",
    "    ubal_to_bal = res[1][2,1] / sum(res[1][2,1:2])\n",
    "    bal_to_bal2 = res[3][1,1] / sum(res[3][1,1:2])\n",
    "    ubal_to_bal2 = res[3][2,1] / sum(res[3][2,1:2])\n",
    "    bal_to_bal3 = res[1][1,1] / sum(res[1][1,1:3])\n",
    "    ubal_to_bal3 = res[1][2,1] / sum(res[1][2,1:3])\n",
    "    bal_to_ubal3 = res[1][1,2] / sum(res[1][1,1:3])\n",
    "    ubal_to_ubal3 = res[1][2,2] / sum(res[1][2,1:3])\n",
    "    bal_to_not3 = res[1][1,3] / sum(res[1][1,1:3])\n",
    "    ubal_to_not3 = res[1][2,3] / sum(res[1][2,1:3])\n",
    "    \n",
    "    push!(bal_to_bals, bal_to_bal)\n",
    "    push!(ubal_to_bals, ubal_to_bal)\n",
    "    push!(bal_to_bals2, bal_to_bal2)\n",
    "    push!(ubal_to_bals2, ubal_to_bal2)\n",
    "    push!(bal_to_bals3, bal_to_bal3)\n",
    "    push!(ubal_to_bals3, ubal_to_bal3)\n",
    "    push!(bal_to_ubals3, bal_to_ubal3)\n",
    "    push!(ubal_to_ubals3, ubal_to_ubal3)\n",
    "    push!(bal_to_nots3, bal_to_not3)\n",
    "    push!(ubal_to_nots3, ubal_to_not3)\n",
    "end"
   ]
  },
  {
   "cell_type": "code",
   "execution_count": 33,
   "metadata": {},
   "outputs": [
    {
     "data": {
      "image/png": "[encoded data removed]",
      "text/plain": [
       "Scene (576px, 360px):\n",
       "  54 Plots:\n",
       "    ├ Combined{Makie.poly, Tuple{Vector{Vector{Point{2, Float32}}}}}\n",
       "    ├ LineSegments{Tuple{Vector{Point{2, Float32}}}}\n",
       "    ├ LineSegments{Tuple{Vector{Point{2, Float32}}}}\n",
       "    ├ LineSegments{Tuple{Vector{Point{2, Float32}}}}\n",
       "    ├ LineSegments{Tuple{Vector{Point{2, Float32}}}}\n",
       "    ├ LineSegments{Tuple{Vector{Point{2, Float32}}}}\n",
       "    ├ LineSegments{Tuple{Vector{Point{2, Float32}}}}\n",
       "    ├ MakieCore.Text{Tuple{LaTeXStrings.LaTeXString}}\n",
       "    ├ Lines{Tuple{Vector{Point{2, Float32}}}}\n",
       "    ├ MakieCore.Text{Tuple{Vector{Tuple{AbstractString, Point{2, Float32}}}}}\n",
       "    ├ LineSegments{Tuple{Vector{Point{2, Float32}}}}\n",
       "    ├ LineSegments{Tuple{Vector{Point{2, Float32}}}}\n",
       "    ├ MakieCore.Text{Tuple{String}}\n",
       "    ├ Lines{Tuple{Vector{Point{2, Float32}}}}\n",
       "    ├ MakieCore.Text{Tuple{Vector{Tuple{AbstractString, Point{2, Float32}}}}}\n",
       "    ├ Lines{Tuple{Vector{Point{2, Float32}}}}\n",
       "    ├ Lines{Tuple{Vector{Point{2, Float32}}}}\n",
       "    ├ MakieCore.Text{Tuple{String}}\n",
       "    ├ Combined{Makie.poly, Tuple{Vector{Vector{Point{2, Float32}}}}}\n",
       "    ├ LineSegments{Tuple{Vector{Point{2, Float32}}}}\n",
       "    ├ LineSegments{Tuple{Vector{Point{2, Float32}}}}\n",
       "    ├ LineSegments{Tuple{Vector{Point{2, Float32}}}}\n",
       "    ├ LineSegments{Tuple{Vector{Point{2, Float32}}}}\n",
       "    ├ LineSegments{Tuple{Vector{Point{2, Float32}}}}\n",
       "    ├ LineSegments{Tuple{Vector{Point{2, Float32}}}}\n",
       "    ├ MakieCore.Text{Tuple{LaTeXStrings.LaTeXString}}\n",
       "    ├ Lines{Tuple{Vector{Point{2, Float32}}}}\n",
       "    ├ MakieCore.Text{Tuple{Vector{Tuple{AbstractString, Point{2, Float32}}}}}\n",
       "    ├ LineSegments{Tuple{Vector{Point{2, Float32}}}}\n",
       "    ├ LineSegments{Tuple{Vector{Point{2, Float32}}}}\n",
       "    ├ MakieCore.Text{Tuple{String}}\n",
       "    ├ Lines{Tuple{Vector{Point{2, Float32}}}}\n",
       "    ├ MakieCore.Text{Tuple{Vector{Tuple{AbstractString, Point{2, Float32}}}}}\n",
       "    ├ Lines{Tuple{Vector{Point{2, Float32}}}}\n",
       "    ├ Lines{Tuple{Vector{Point{2, Float32}}}}\n",
       "    ├ MakieCore.Text{Tuple{String}}\n",
       "    ├ Combined{Makie.poly, Tuple{Vector{Vector{Point{2, Float32}}}}}\n",
       "    ├ LineSegments{Tuple{Vector{Point{2, Float32}}}}\n",
       "    ├ LineSegments{Tuple{Vector{Point{2, Float32}}}}\n",
       "    ├ LineSegments{Tuple{Vector{Point{2, Float32}}}}\n",
       "    ├ LineSegments{Tuple{Vector{Point{2, Float32}}}}\n",
       "    ├ LineSegments{Tuple{Vector{Point{2, Float32}}}}\n",
       "    ├ LineSegments{Tuple{Vector{Point{2, Float32}}}}\n",
       "    ├ MakieCore.Text{Tuple{LaTeXStrings.LaTeXString}}\n",
       "    ├ Lines{Tuple{Vector{Point{2, Float32}}}}\n",
       "    ├ MakieCore.Text{Tuple{Vector{Tuple{AbstractString, Point{2, Float32}}}}}\n",
       "    ├ LineSegments{Tuple{Vector{Point{2, Float32}}}}\n",
       "    ├ LineSegments{Tuple{Vector{Point{2, Float32}}}}\n",
       "    ├ MakieCore.Text{Tuple{String}}\n",
       "    ├ Lines{Tuple{Vector{Point{2, Float32}}}}\n",
       "    ├ MakieCore.Text{Tuple{Vector{Tuple{AbstractString, Point{2, Float32}}}}}\n",
       "    ├ Lines{Tuple{Vector{Point{2, Float32}}}}\n",
       "    ├ Lines{Tuple{Vector{Point{2, Float32}}}}\n",
       "    └ MakieCore.Text{Tuple{String}}\n",
       "  6 Child Scenes:\n",
       "    ├ Scene (135px, 291px)\n",
       "    ├ Scene (135px, 291px)\n",
       "    ├ Scene (135px, 291px)\n",
       "    ├ Scene (576px, 360px)\n",
       "    ├ Scene (576px, 360px)\n",
       "    └ Scene (576px, 360px)"
      ]
     },
     "metadata": {},
     "output_type": "display_data"
    }
   ],
   "source": [
    "labeltype = \"bu\" # Options: \"pm\" or \"bu\"\n",
    "points = 16\n",
    "\n",
    "if labeltype == \"pm\" \n",
    "    label_b2b = \"T(+→+)\"\n",
    "    label_u2b = \"T(−→+)\"\n",
    "    label_b2u = \"T(+→−)\"\n",
    "    label_u2u = \"T(−→−)\"\n",
    "    label_b2n = \"T(+→∄)\"\n",
    "    label_u2n = \"T(−→∄)\"\n",
    "elseif labeltype == \"bu\"\n",
    "    label_b2b = L\"${T}_3(b→b)$\"\n",
    "    label_u2b = L\"${T}_3(u→b)$\"\n",
    "    label_b2u = L\"${T}_3(b→u)$\"\n",
    "    label_u2u = L\"${T}_3(u→u)$\"\n",
    "    label_b2n = L\"${T}_3(b\\rightarrow ∄)$\"\n",
    "    label_u2n = L\"${T}_3(u→∄)$\"\n",
    "else\n",
    "    error(\"Wrong label type\")\n",
    "end\n",
    "\n",
    "chosen_ths = [0:points-1...] ./ points\n",
    "inds = [findfirst(ths .>= chosen_ths[i]) for i in 1:length(chosen_ths)]\n",
    "\n",
    "colors = Makie.wong_colors()\n",
    "markers = [:circle, :rect, :star5, :diamond, :hexagon, :xcross, :utriangle, :dtriangle, :rtriangle, :ltriangle, :pentagon, :heptagon, :octagon, :star4, :star6, :star7, :star8, :vline, :hline, :+, :x, :cross]\n",
    "\n",
    "size_inches = (8, 5)\n",
    "size_pt = 72 .* size_inches\n",
    "fig = Figure(resolution = size_pt, fontsize = 12)\n",
    "\n",
    "ga = fig[1, 1] = GridLayout()\n",
    "\n",
    "axleft = Axis(ga[1, 1], xlabel = L\"$\\Theta$\")\n",
    "axcen = Axis(ga[1, 2], xlabel = L\"$\\Theta$\")\n",
    "axright = Axis(ga[1, 3], xlabel = L\"$\\Theta$\")\n",
    "\n",
    "scatterlines!(axleft, ths[inds], bal_to_bals3[inds] .+ 0, marker = markers[1], label = label_b2b)\n",
    "scatterlines!(axleft, ths[inds], ubal_to_bals3[inds] .+ 0, marker = markers[2], label = label_u2b) \n",
    "scatterlines!(axcen, ths[inds], bal_to_ubals3[inds] .+ 0, marker = markers[1], label = label_b2u)\n",
    "scatterlines!(axcen, ths[inds], ubal_to_ubals3[inds] .+ 0, marker = markers[2], label = label_u2u) \n",
    "\n",
    "scatterlines!(axright, ths[inds], bal_to_nots3[inds] .+ 0, marker = markers[1], label = label_b2n)\n",
    "scatterlines!(axright, ths[inds], ubal_to_nots3[inds] .+ 0, marker = markers[2], label = label_u2n) \n",
    "\n",
    "# plot!(p1, legend = :outertopright)\n",
    "# plot!(p1, legend = :outerbottom)\n",
    "# plot!(p2, legend = false)\n",
    "# plot!(p3, legend = false)\n",
    "# title!(p2, \"Including NaNs\")\n",
    "# plot(p1, p2, p3, layout = (1,3))\n",
    "\n",
    "axislegend(axleft, position = :cb, framevisible = false)\n",
    "axislegend(axcen, position = :rt, framevisible = false)\n",
    "# axislegend(axright, position = :lt, framevisible = false, tellheight = false,\n",
    "axislegend(axright, framevisible = false, tellheight = false,\n",
    "tellwidth = false,\n",
    "margin = (0, 0, 0, 0),\n",
    "halign = :left, valign = :top)\n",
    "\n",
    "safesave(\n",
    "        projectdir(\"plots\", \"triad_nans_trans.pdf\"),\n",
    "        fig\n",
    "    )\n",
    "\n",
    "fig"
   ]
  },
  {
   "cell_type": "code",
   "execution_count": 40,
   "metadata": {},
   "outputs": [
    {
     "data": {
      "text/plain": [
       "16-element LinRange{Float64}:\n",
       " 0.0,0.0625,0.125,0.1875,0.25,0.3125,…,0.625,0.6875,0.75,0.8125,0.875,0.9375"
      ]
     },
     "metadata": {},
     "output_type": "display_data"
    }
   ],
   "source": [
    "cor_ths = ths[inds]\n",
    "cor_bal_to_bals3 = bal_to_bals3[inds]\n",
    "cor_ths = LinRange(0, 15. /16, 16)"
   ]
  },
  {
   "cell_type": "code",
   "execution_count": 55,
   "metadata": {},
   "outputs": [
    {
     "ename": "ErrorException",
     "evalue": "`Makie.convert_arguments` for the plot type Lines{Tuple{LinRange{Float64}, Vector{Any}}} and its conversion trait PointBased() was unsuccessful.\n\nThe signature that could not be converted was:\n::Vector{Float32}, ::Vector{Any}\n\nMakie needs to convert all plot input arguments to types that can be consumed by the backends (typically Arrays with Float32 elements).\nYou can define a method for `Makie.convert_arguments` (a type recipe) for these types or their supertypes to make this set of arguments convertible (See http://makie.juliaplots.org/stable/documentation/recipes/index.html).\n\nAlternatively, you can define `Makie.convert_single_argument` for single arguments which have types that are unknown to Makie but which can be converted to known types and fed back to the conversion pipeline.\n",
     "output_type": "error",
     "traceback": [
      "`Makie.convert_arguments` for the plot type Lines{Tuple{LinRange{Float64}, Vector{Any}}} and its conversion trait PointBased() was unsuccessful.\n",
      "\n",
      "The signature that could not be converted was:\n",
      "::Vector{Float32}, ::Vector{Any}\n",
      "\n",
      "Makie needs to convert all plot input arguments to types that can be consumed by the backends (typically Arrays with Float32 elements).\n",
      "You can define a method for `Makie.convert_arguments` (a type recipe) for these types or their supertypes to make this set of arguments convertible (See http://makie.juliaplots.org/stable/documentation/recipes/index.html).\n",
      "\n",
      "Alternatively, you can define `Makie.convert_single_argument` for single arguments which have types that are unknown to Makie but which can be converted to known types and fed back to the conversion pipeline.\n",
      "\n",
      "\n",
      "Stacktrace:\n",
      "  [1] error(s::String)\n",
      "    @ Base ./error.jl:33\n",
      "  [2] convert_arguments(::Type{Lines{Tuple{LinRange{Float64}, Vector{Any}}}}, ::Vector{Float32}, ::Vararg{Any, N} where N; kw::Base.Iterators.Pairs{Union{}, Union{}, Tuple{}, NamedTuple{(), Tuple{}}})\n",
      "    @ Makie ~/.julia/packages/Makie/lgPZh/src/conversions.jl:17\n",
      "  [3] convert_arguments(::Type{Lines{Tuple{LinRange{Float64}, Vector{Any}}}}, ::Vector{Float32}, ::Vector{Any})\n",
      "    @ Makie ~/.julia/packages/Makie/lgPZh/src/conversions.jl:8\n",
      "  [4] convert_arguments_individually(::Type{Lines{Tuple{LinRange{Float64}, Vector{Any}}}}, ::LinRange{Float64}, ::Vararg{Any, N} where N)\n",
      "    @ Makie ~/.julia/packages/Makie/lgPZh/src/conversions.jl:51\n",
      "  [5] convert_arguments(::Type{Lines{Tuple{LinRange{Float64}, Vector{Any}}}}, ::LinRange{Float64}, ::Vararg{Any, N} where N; kw::Base.Iterators.Pairs{Union{}, Union{}, Tuple{}, NamedTuple{(), Tuple{}}})\n",
      "    @ Makie ~/.julia/packages/Makie/lgPZh/src/conversions.jl:14\n",
      "  [6] convert_arguments(::Type{Lines{Tuple{LinRange{Float64}, Vector{Any}}}}, ::LinRange{Float64}, ::Vector{Any})\n",
      "    @ Makie ~/.julia/packages/Makie/lgPZh/src/conversions.jl:8\n",
      "  [7] plot!(::Combined{Makie.scatterlines, Tuple{LinRange{Float64}, Vector{Any}}}, ::Type{Lines{ArgType} where ArgType}, ::Attributes, ::Observable{LinRange{Float64}}, ::Vararg{Any, N} where N; kw_attributes::Base.Iterators.Pairs{Union{}, Union{}, Tuple{}, NamedTuple{(), Tuple{}}})\n",
      "    @ Makie ~/.julia/packages/Makie/lgPZh/src/interfaces.jl:301\n",
      "  [8] plot!(::Combined{Makie.scatterlines, Tuple{LinRange{Float64}, Vector{Any}}}, ::Type{Lines{ArgType} where ArgType}, ::Attributes, ::Observable{LinRange{Float64}}, ::Observable{Vector{Any}})\n",
      "    @ Makie ~/.julia/packages/Makie/lgPZh/src/interfaces.jl:287\n",
      "  [9] plot!(::Type{Lines{ArgType} where ArgType}, ::Combined{Makie.scatterlines, Tuple{LinRange{Float64}, Vector{Any}}}, ::Observable{LinRange{Float64}}, ::Vararg{Any, N} where N; kw_attributes::Base.Iterators.Pairs{Symbol, Observable{Any}, NTuple{6, Symbol}, NamedTuple{(:color, :linestyle, :linewidth, :colormap, :colorrange, :inspectable), NTuple{6, Observable{Any}}}})\n",
      "    @ Makie ~/.julia/packages/Makie/lgPZh/src/interfaces.jl:270\n",
      " [10] lines!(::Combined{Makie.scatterlines, Tuple{LinRange{Float64}, Vector{Any}}}, ::Vararg{Any, N} where N; attributes::Base.Iterators.Pairs{Symbol, Observable{Any}, NTuple{6, Symbol}, NamedTuple{(:color, :linestyle, :linewidth, :colormap, :colorrange, :inspectable), NTuple{6, Observable{Any}}}})\n",
      "    @ MakieCore ~/.julia/packages/MakieCore/A0hGm/src/recipes.jl:37\n",
      " [11] plot!(p::Combined{Makie.scatterlines, Tuple{LinRange{Float64}, Vector{Any}}})\n",
      "    @ Makie ~/.julia/packages/Makie/lgPZh/src/basic_recipes/scatterlines.jl:42\n",
      " [12] plot!(scene::Scene, P::Type{Combined{Makie.scatterlines, Tuple{LinRange{Float64}, Vector{Any}}}}, attributes::Attributes, input::Tuple{Observable{LinRange{Float64}}, Observable{Vector{Any}}}, args::Observable{Tuple{LinRange{Float64}, Vector{Any}}})\n",
      "    @ Makie ~/.julia/packages/Makie/lgPZh/src/interfaces.jl:401\n",
      " [13] plot!(::Scene, ::Type{Combined{Makie.scatterlines, ArgType} where ArgType}, ::Attributes, ::LinRange{Float64}, ::Vararg{Any, N} where N; kw_attributes::Base.Iterators.Pairs{Union{}, Union{}, Tuple{}, NamedTuple{(), Tuple{}}})\n",
      "    @ Makie ~/.julia/packages/Makie/lgPZh/src/interfaces.jl:319\n",
      " [14] plot!(::Scene, ::Type{Combined{Makie.scatterlines, ArgType} where ArgType}, ::Attributes, ::LinRange{Float64}, ::Vector{Any})\n",
      "    @ Makie ~/.julia/packages/Makie/lgPZh/src/interfaces.jl:287\n",
      " [15] plot!(::Axis, ::Type{Combined{Makie.scatterlines, ArgType} where ArgType}, ::Attributes, ::LinRange{Float64}, ::Vararg{Any, N} where N; kw_attributes::Base.Iterators.Pairs{Union{}, Union{}, Tuple{}, NamedTuple{(), Tuple{}}})\n",
      "    @ Makie.MakieLayout ~/.julia/packages/Makie/lgPZh/src/makielayout/layoutables/axis.jl:693\n",
      " [16] plot!(::Axis, ::Type{Combined{Makie.scatterlines, ArgType} where ArgType}, ::Attributes, ::LinRange{Float64}, ::Vector{Any})\n",
      "    @ Makie.MakieLayout ~/.julia/packages/Makie/lgPZh/src/makielayout/layoutables/axis.jl:688\n",
      " [17] plot!(::Type{Combined{Makie.scatterlines, ArgType} where ArgType}, ::Axis, ::LinRange{Float64}, ::Vararg{Any, N} where N; kw_attributes::Base.Iterators.Pairs{Union{}, Union{}, Tuple{}, NamedTuple{(), Tuple{}}})\n",
      "    @ Makie.MakieLayout ~/.julia/packages/Makie/lgPZh/src/makielayout/layoutables/axis.jl:705\n",
      " [18] plot!(::Type{Combined{Makie.scatterlines, ArgType} where ArgType}, ::Axis, ::LinRange{Float64}, ::Vector{Any})\n",
      "    @ Makie.MakieLayout ~/.julia/packages/Makie/lgPZh/src/makielayout/layoutables/axis.jl:704\n",
      " [19] plot!(::Type{Combined{Makie.scatterlines, ArgType} where ArgType}, ::LinRange{Float64}, ::Vararg{Any, N} where N; kw_attributes::Base.Iterators.Pairs{Union{}, Union{}, Tuple{}, NamedTuple{(), Tuple{}}})\n",
      "    @ Makie ~/.julia/packages/Makie/lgPZh/src/figureplotting.jl:48\n",
      " [20] plot!(::Type{Combined{Makie.scatterlines, ArgType} where ArgType}, ::LinRange{Float64}, ::Vector{Any})\n",
      "    @ Makie ~/.julia/packages/Makie/lgPZh/src/figureplotting.jl:46\n",
      " [21] scatterlines!(::LinRange{Float64}, ::Vararg{Any, N} where N; attributes::Base.Iterators.Pairs{Union{}, Union{}, Tuple{}, NamedTuple{(), Tuple{}}})\n",
      "    @ Makie ~/.julia/packages/MakieCore/A0hGm/src/recipes.jl:37\n",
      " [22] scatterlines!(::LinRange{Float64}, ::Vararg{Any, N} where N)\n",
      "    @ Makie ~/.julia/packages/MakieCore/A0hGm/src/recipes.jl:37\n",
      " [23] top-level scope\n",
      "    @ ~/Desktop/programming/NetHeider/notebooks/netsense-vanish-triads-trans.ipynb:10"
     ]
    }
   ],
   "source": [
    "f = Figure()\n",
    "Axis(f[1, 1])\n",
    "\n",
    "\n",
    "xs = LinRange(0, 10, 20)\n",
    "ys2 = 0.5 .* sin.(xs)\n",
    "\n",
    "ys2 = 0.5 .* sin.(cor_ths)\n",
    "\n",
    "scatterlines!(cor_ths, cor_bal_to_bals3)\n",
    "# scatterlines!(cor_ths, cor_bal_to_bals3 .- 1, markercolor = :red)\n",
    "# scatterlines!(xs, ys .- 2, markersize = LinRange(5, 30, 20))\n",
    "# scatterlines!(xs, ys .- 3, marker = :cross, strokewidth = 0,\n",
    "#     strokecolor = :red, markercolor = :orange)\n",
    "\n",
    "f"
   ]
  },
  {
   "cell_type": "code",
   "execution_count": 58,
   "metadata": {},
   "outputs": [
    {
     "data": {
      "text/plain": [
       "16-element Vector{Float64}:\n",
       " 0.3333333333333333\n",
       " 0.16666666666666666\n",
       " 0.46153846153846156\n",
       " 0.35185185185185186\n",
       " 0.45588235294117646\n",
       " 0.37037037037037035\n",
       " 0.3956043956043956\n",
       " 0.44086021505376344\n",
       " 0.43010752688172044\n",
       " 0.41935483870967744\n",
       " 0.422680412371134\n",
       " 0.4528301886792453\n",
       " 0.4789915966386555\n",
       " 0.5\n",
       " 0.496\n",
       " 0.49206349206349204"
      ]
     },
     "metadata": {},
     "output_type": "display_data"
    }
   ],
   "source": [
    "cor_bal_to_bals3 .- 0"
   ]
  },
  {
   "cell_type": "code",
   "execution_count": 62,
   "metadata": {},
   "outputs": [
    {
     "data": {
      "image/png": "[encoded data removed]",
      "text/plain": [
       "Scene (800px, 600px):\n",
       "  18 Plots:\n",
       "    ├ Combined{Makie.poly, Tuple{Vector{Vector{Point{2, Float32}}}}}\n",
       "    ├ LineSegments{Tuple{Vector{Point{2, Float32}}}}\n",
       "    ├ LineSegments{Tuple{Vector{Point{2, Float32}}}}\n",
       "    ├ LineSegments{Tuple{Vector{Point{2, Float32}}}}\n",
       "    ├ LineSegments{Tuple{Vector{Point{2, Float32}}}}\n",
       "    ├ LineSegments{Tuple{Vector{Point{2, Float32}}}}\n",
       "    ├ LineSegments{Tuple{Vector{Point{2, Float32}}}}\n",
       "    ├ MakieCore.Text{Tuple{String}}\n",
       "    ├ Lines{Tuple{Vector{Point{2, Float32}}}}\n",
       "    ├ MakieCore.Text{Tuple{Vector{Tuple{AbstractString, Point{2, Float32}}}}}\n",
       "    ├ LineSegments{Tuple{Vector{Point{2, Float32}}}}\n",
       "    ├ LineSegments{Tuple{Vector{Point{2, Float32}}}}\n",
       "    ├ MakieCore.Text{Tuple{String}}\n",
       "    ├ Lines{Tuple{Vector{Point{2, Float32}}}}\n",
       "    ├ MakieCore.Text{Tuple{Vector{Tuple{AbstractString, Point{2, Float32}}}}}\n",
       "    ├ Lines{Tuple{Vector{Point{2, Float32}}}}\n",
       "    ├ Lines{Tuple{Vector{Point{2, Float32}}}}\n",
       "    └ MakieCore.Text{Tuple{String}}\n",
       "  1 Child Scene:\n",
       "    └ Scene (734px, 541px)"
      ]
     },
     "metadata": {},
     "output_type": "display_data"
    }
   ],
   "source": [
    "xs = [0:0.01:1...]\n",
    "ys = []\n",
    "\n",
    "for x in xs\n",
    "    \n",
    "    push!(ys, x^2)\n",
    "end\n",
    "\n",
    "f = Figure()\n",
    "Axis(f[1, 1])\n",
    "\n",
    "scatterlines!(xs, ys .+ 0)\n",
    "\n",
    "f"
   ]
  }
 ],
 "metadata": {
  "kernelspec": {
   "display_name": "Julia 1.6.4",
   "language": "julia",
   "name": "julia-1.6"
  },
  "language_info": {
   "file_extension": ".jl",
   "mimetype": "application/julia",
   "name": "julia",
   "version": "1.6.4"
  },
  "orig_nbformat": 4
 },
 "nbformat": 4,
 "nbformat_minor": 2
}
